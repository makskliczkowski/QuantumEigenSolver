{
 "cells": [
  {
   "cell_type": "code",
   "execution_count": 1,
   "metadata": {},
   "outputs": [],
   "source": [
    "import sys\n",
    "import os\n",
    "\n",
    "# Add the parent directory (project root) to sys.path\n",
    "project_root = os.path.abspath(os.path.join(os.getcwd(), \"../..\"))\n",
    "if project_root not in sys.path:\n",
    "    sys.path.insert(0, project_root)"
   ]
  },
  {
   "cell_type": "code",
   "execution_count": 2,
   "metadata": {},
   "outputs": [
    {
     "name": "stdout",
     "output_type": "stream",
     "text": [
      "=== Backend Initialization ===\n",
      "\tNumPy Version: 1.26.4\n",
      "\tSciPy Version: 1.13.1\n",
      "\tJAX Version: 2023.12\n",
      "\tActive Backend: jax\n",
      "\tJAX Available: True\n",
      "\tDefault Random Key: [    0 12345]\n",
      "\tActive Backend Modules:\n",
      "\t\t  Main Module: <module 'jax.numpy' from '/Users/makskliczkowski/miniconda3/lib/python3.12/site-packages/jax/numpy/__init__.py'>\n",
      "\t\t  Random Module: <module 'jax.random' from '/Users/makskliczkowski/miniconda3/lib/python3.12/site-packages/jax/random.py'>\n",
      "\t\t  SciPy Module: <module 'jax.scipy' from '/Users/makskliczkowski/miniconda3/lib/python3.12/site-packages/jax/scipy/__init__.py'>\n",
      "=== End of Backend Info ===\n"
     ]
    }
   ],
   "source": [
    "from general_python import algebra"
   ]
  },
  {
   "cell_type": "markdown",
   "metadata": {},
   "source": [
    "# Models"
   ]
  },
  {
   "cell_type": "markdown",
   "metadata": {},
   "source": [
    "## Quantum Sun Model"
   ]
  },
  {
   "cell_type": "code",
   "execution_count": 3,
   "metadata": {},
   "outputs": [
    {
     "name": "stdout",
     "output_type": "stream",
     "text": [
      "[20/02/2025 03:40:36]# Global logger initialized. #\n",
      "[20/02/2025 03:40:36]\t->\u001b[0m[Hamiltonian:Quantum Sun Model] alpha=[0.8, 0.8, 0.8, 0.8, 0.8, 0.8, 0.8, 0.8]\u001b[0m\n",
      "[20/02/2025 03:40:36]\t->\u001b[0m[Hamiltonian:Quantum Sun Model] u=[1.         1.17655957 1.85633936 3.02530708 4.0017821  4.94003709\n",
      " 6.02278137 7.10367475]\u001b[0m\n",
      "[20/02/2025 03:40:36]\t->\u001b[0m[Hamiltonian:Quantum Sun Model] alpha^u=[0.8        0.76909431 0.66084883 0.50911683 0.40943715 0.33209393\n",
      " 0.26081477 0.20491926]\u001b[0m\n",
      "[20/02/2025 03:40:36]\t\t->\u001b[0m[Hamiltonian:Quantum Sun Model] H_dot norm: 1.834993332223685\u001b[0m\n"
     ]
    },
    {
     "data": {
      "text/plain": [
       ",qsm,Ns=11,N=3,gamm=1.00,g0=1.00,alpha=0.800,h=1.000,xi=0.200"
      ]
     },
     "execution_count": 3,
     "metadata": {},
     "output_type": "execute_result"
    }
   ],
   "source": [
    "from Algebra.Model.Interacting.Spin.qsm import QSM\n",
    "\n",
    "qsm=QSM(ns=11, hilbert_space=None, n=3, a=0.8, h=1.0, xi=0.2, backend = 'jax')\n",
    "qsm"
   ]
  },
  {
   "cell_type": "code",
   "execution_count": 4,
   "metadata": {},
   "outputs": [
    {
     "name": "stdout",
     "output_type": "stream",
     "text": [
      "[20/02/2025 03:40:36]\t->\u001b[0m[Hamiltonian:Quantum Sun Model] Building the Hamiltonian matrix...\u001b[0m\n",
      "[20/02/2025 03:40:36]\t\t->\u001b[0m[Hamiltonian:Quantum Sun Model] Initializing the Hamiltonian matrix...\u001b[0m\n",
      "[20/02/2025 03:40:36]\t\t\t->\u001b[0m[Hamiltonian:Quantum Sun Model] Initializing the Hamiltonian matrix as a sparse matrix...\u001b[0m\n",
      "[20/02/2025 03:40:36]\t\t\t->\u001b[32m[Hamiltonian:Quantum Sun Model] Hamiltonian matrix initialized.\u001b[0m\n",
      "[20/02/2025 03:40:36]\t\t->\u001b[0m[Hamiltonian:Quantum Sun Model] Initialization completed in 0.030384 seconds\u001b[0m\n",
      "[20/02/2025 03:40:36]\t\t->\u001b[0m[Hamiltonian:Quantum Sun Model] QSM: alpha=0.800, xi=0.200\u001b[0m\n",
      "[20/02/2025 03:40:36]\t\t\t->\u001b[0m[Hamiltonian:Quantum Sun Model] QSM: i=0 -> h=1.000e+00, a^u=8.000e-01\u001b[0m\n",
      "[20/02/2025 03:40:36]\t\t\t->\u001b[0m[Hamiltonian:Quantum Sun Model] QSM: i=1 -> h=1.000e+00, a^u=7.691e-01\u001b[0m\n",
      "[20/02/2025 03:40:36]\t\t\t->\u001b[0m[Hamiltonian:Quantum Sun Model] QSM: i=2 -> h=1.000e+00, a^u=6.608e-01\u001b[0m\n",
      "[20/02/2025 03:40:36]\t\t\t->\u001b[0m[Hamiltonian:Quantum Sun Model] QSM: i=3 -> h=1.000e+00, a^u=5.091e-01\u001b[0m\n",
      "[20/02/2025 03:40:36]\t\t\t->\u001b[0m[Hamiltonian:Quantum Sun Model] QSM: i=4 -> h=1.000e+00, a^u=4.094e-01\u001b[0m\n",
      "[20/02/2025 03:40:36]\t\t\t->\u001b[0m[Hamiltonian:Quantum Sun Model] QSM: i=5 -> h=1.000e+00, a^u=3.321e-01\u001b[0m\n",
      "[20/02/2025 03:40:36]\t\t\t->\u001b[0m[Hamiltonian:Quantum Sun Model] QSM: i=6 -> h=1.000e+00, a^u=2.608e-01\u001b[0m\n",
      "[20/02/2025 03:40:36]\t\t\t->\u001b[0m[Hamiltonian:Quantum Sun Model] QSM: i=7 -> h=1.000e+00, a^u=2.049e-01\u001b[0m\n",
      "[20/02/2025 03:40:36]\t->\u001b[34m[Hamiltonian:Quantum Sun Model] Calculating the Hamiltonian matrix...\u001b[0m\n",
      "[20/02/2025 03:40:36]\t\t->\u001b[0m[Hamiltonian:Quantum Sun Model] Calculating the Hamiltonian matrix using JAX...\u001b[0m\n",
      "[20/02/2025 03:40:36]\t\t->\u001b[31m[Hamiltonian:Quantum Sun Model] An error occurred during Hamiltonian build. : Only integer indexing is supported.\u001b[0m\n",
      "[20/02/2025 03:40:36]\t->\u001b[0m[Hamiltonian:Quantum Sun Model] Hamiltonian matrix built in 0.011905 seconds.\u001b[0m\n"
     ]
    }
   ],
   "source": [
    "qsm.build(verbose=True)"
   ]
  },
  {
   "cell_type": "code",
   "execution_count": 21,
   "metadata": {},
   "outputs": [
    {
     "name": "stdout",
     "output_type": "stream",
     "text": [
      "[20/02/2025 03:37:22]\u001b[0m[Hamiltonian:Quantum Sun Model] Diagonalization (eigh) completed in 0.905142 seconds.\u001b[0m\n"
     ]
    }
   ],
   "source": [
    "qsm.diagonalize(verbose=True)"
   ]
  },
  {
   "cell_type": "code",
   "execution_count": 22,
   "metadata": {},
   "outputs": [
    {
     "data": {
      "text/plain": [
       "[<matplotlib.lines.Line2D at 0x1484049b0>]"
      ]
     },
     "execution_count": 22,
     "metadata": {},
     "output_type": "execute_result"
    },
    {
     "data": {
      "image/png": "[encoded data removed]",
      "text/plain": [
       "<Figure size 350x262.5 with 1 Axes>"
      ]
     },
     "metadata": {},
     "output_type": "display_data"
    }
   ],
   "source": [
    "import matplotlib.pyplot as plt\n",
    "plt.plot(qsm.eig_val)"
   ]
  },
  {
   "cell_type": "code",
   "execution_count": null,
   "metadata": {},
   "outputs": [],
   "source": []
  },
  {
   "cell_type": "markdown",
   "metadata": {},
   "source": [
    "# Linear algebra"
   ]
  },
  {
   "cell_type": "code",
   "execution_count": null,
   "metadata": {},
   "outputs": [
    {
     "name": "stdout",
     "output_type": "stream",
     "text": [
      "[14/02/2025 15:43:16]# Global logger initialized. #\n"
     ]
    }
   ],
   "source": [
    "a = algebra.AlgebraTests(backend='jax')\n",
    "b = algebra.AlgebraTests(backend='numpy')"
   ]
  },
  {
   "cell_type": "markdown",
   "metadata": {},
   "source": [
    "## Standard tests"
   ]
  },
  {
   "cell_type": "markdown",
   "metadata": {},
   "source": [
    "### Change the basis with a unitary matrix"
   ]
  },
  {
   "cell_type": "code",
   "execution_count": null,
   "metadata": {},
   "outputs": [
    {
     "name": "stdout",
     "output_type": "stream",
     "text": [
      "[14/02/2025 02:19:50]\t->\u001b[34m[TEST 1] Starting change_basis\u001b[0m\n",
      "U=\n"
     ]
    },
    {
     "data": {
      "text/latex": [
       "$\\displaystyle \\left[\\begin{matrix}0 & 1\\\\1 & 0\\end{matrix}\\right]$"
      ],
      "text/plain": [
       "Matrix([\n",
       "[0, 1],\n",
       "[1, 0]])"
      ]
     },
     "metadata": {},
     "output_type": "display_data"
    },
    {
     "name": "stdout",
     "output_type": "stream",
     "text": [
      "vec=\n"
     ]
    },
    {
     "data": {
      "text/latex": [
       "$\\displaystyle \\left[\\begin{matrix}1\\\\0\\end{matrix}\\right]$"
      ],
      "text/plain": [
       "Matrix([\n",
       "[1],\n",
       "[0]])"
      ]
     },
     "metadata": {},
     "output_type": "display_data"
    },
    {
     "name": "stdout",
     "output_type": "stream",
     "text": [
      "tvec=\n"
     ]
    },
    {
     "data": {
      "text/latex": [
       "$\\displaystyle \\left[\\begin{matrix}0\\\\1\\end{matrix}\\right]$"
      ],
      "text/plain": [
       "Matrix([\n",
       "[0],\n",
       "[1]])"
      ]
     },
     "metadata": {},
     "output_type": "display_data"
    },
    {
     "name": "stdout",
     "output_type": "stream",
     "text": [
      "transformed_vec=\n"
     ]
    },
    {
     "data": {
      "text/latex": [
       "$\\displaystyle \\left[\\begin{matrix}0\\\\1\\end{matrix}\\right]$"
      ],
      "text/plain": [
       "Matrix([\n",
       "[0],\n",
       "[1]])"
      ]
     },
     "metadata": {},
     "output_type": "display_data"
    },
    {
     "name": "stdout",
     "output_type": "stream",
     "text": [
      "transformed_twice=\n"
     ]
    },
    {
     "data": {
      "text/latex": [
       "$\\displaystyle \\left[\\begin{matrix}1\\\\0\\end{matrix}\\right]$"
      ],
      "text/plain": [
       "Matrix([\n",
       "[1],\n",
       "[0]])"
      ]
     },
     "metadata": {},
     "output_type": "display_data"
    },
    {
     "name": "stdout",
     "output_type": "stream",
     "text": [
      "[14/02/2025 02:19:50]\t->\u001b[32m[TEST 1] Completed change_basis\u001b[0m\n",
      "[14/02/2025 02:19:50]\t->\u001b[34m[TEST 1] Starting change_basis\u001b[0m\n",
      "U=\n"
     ]
    },
    {
     "data": {
      "text/latex": [
       "$\\displaystyle \\left[\\begin{matrix}0 & 1\\\\1 & 0\\end{matrix}\\right]$"
      ],
      "text/plain": [
       "Matrix([\n",
       "[0, 1],\n",
       "[1, 0]])"
      ]
     },
     "metadata": {},
     "output_type": "display_data"
    },
    {
     "name": "stdout",
     "output_type": "stream",
     "text": [
      "vec=\n"
     ]
    },
    {
     "data": {
      "text/latex": [
       "$\\displaystyle \\left[\\begin{matrix}1\\\\0\\end{matrix}\\right]$"
      ],
      "text/plain": [
       "Matrix([\n",
       "[1],\n",
       "[0]])"
      ]
     },
     "metadata": {},
     "output_type": "display_data"
    },
    {
     "name": "stdout",
     "output_type": "stream",
     "text": [
      "tvec=\n"
     ]
    },
    {
     "data": {
      "text/latex": [
       "$\\displaystyle \\left[\\begin{matrix}0\\\\1\\end{matrix}\\right]$"
      ],
      "text/plain": [
       "Matrix([\n",
       "[0],\n",
       "[1]])"
      ]
     },
     "metadata": {},
     "output_type": "display_data"
    },
    {
     "name": "stdout",
     "output_type": "stream",
     "text": [
      "transformed_vec=\n"
     ]
    },
    {
     "data": {
      "text/latex": [
       "$\\displaystyle \\left[\\begin{matrix}0\\\\1\\end{matrix}\\right]$"
      ],
      "text/plain": [
       "Matrix([\n",
       "[0],\n",
       "[1]])"
      ]
     },
     "metadata": {},
     "output_type": "display_data"
    },
    {
     "name": "stdout",
     "output_type": "stream",
     "text": [
      "transformed_twice=\n"
     ]
    },
    {
     "data": {
      "text/latex": [
       "$\\displaystyle \\left[\\begin{matrix}1\\\\0\\end{matrix}\\right]$"
      ],
      "text/plain": [
       "Matrix([\n",
       "[1],\n",
       "[0]])"
      ]
     },
     "metadata": {},
     "output_type": "display_data"
    },
    {
     "name": "stdout",
     "output_type": "stream",
     "text": [
      "[14/02/2025 02:19:50]\t->\u001b[32m[TEST 1] Completed change_basis\u001b[0m\n"
     ]
    }
   ],
   "source": [
    "a.change_basis(verbose=True)\n",
    "b.change_basis(verbose=True)"
   ]
  },
  {
   "cell_type": "markdown",
   "metadata": {},
   "source": [
    "### Change the basis of a matrix with a unitary matrix"
   ]
  },
  {
   "cell_type": "code",
   "execution_count": null,
   "metadata": {},
   "outputs": [
    {
     "name": "stdout",
     "output_type": "stream",
     "text": [
      "[14/02/2025 02:19:55]\t->\u001b[34m[TEST 2] Starting change_basis_matrix\u001b[0m\n",
      "U=\n"
     ]
    },
    {
     "data": {
      "text/latex": [
       "$\\displaystyle \\left[\\begin{matrix}0 & 1\\\\1 & 0\\end{matrix}\\right]$"
      ],
      "text/plain": [
       "Matrix([\n",
       "[0, 1],\n",
       "[1, 0]])"
      ]
     },
     "metadata": {},
     "output_type": "display_data"
    },
    {
     "name": "stdout",
     "output_type": "stream",
     "text": [
      "A=\n"
     ]
    },
    {
     "data": {
      "text/latex": [
       "$\\displaystyle \\left[\\begin{matrix}1 & 2\\\\3 & 4\\end{matrix}\\right]$"
      ],
      "text/plain": [
       "Matrix([\n",
       "[1, 2],\n",
       "[3, 4]])"
      ]
     },
     "metadata": {},
     "output_type": "display_data"
    },
    {
     "name": "stdout",
     "output_type": "stream",
     "text": [
      "At=\n"
     ]
    },
    {
     "data": {
      "text/latex": [
       "$\\displaystyle \\left[\\begin{matrix}4 & 3\\\\2 & 1\\end{matrix}\\right]$"
      ],
      "text/plain": [
       "Matrix([\n",
       "[4, 3],\n",
       "[2, 1]])"
      ]
     },
     "metadata": {},
     "output_type": "display_data"
    },
    {
     "name": "stdout",
     "output_type": "stream",
     "text": [
      "transformed_matrix=\n"
     ]
    },
    {
     "data": {
      "text/latex": [
       "$\\displaystyle \\left[\\begin{matrix}4 & 3\\\\2 & 1\\end{matrix}\\right]$"
      ],
      "text/plain": [
       "Matrix([\n",
       "[4, 3],\n",
       "[2, 1]])"
      ]
     },
     "metadata": {},
     "output_type": "display_data"
    },
    {
     "name": "stdout",
     "output_type": "stream",
     "text": [
      "[14/02/2025 02:19:55]\t->\u001b[32m[TEST 2] Completed change_basis_matrix\u001b[0m\n"
     ]
    }
   ],
   "source": [
    "a.change_basis_matrix(verbose=True)"
   ]
  },
  {
   "cell_type": "markdown",
   "metadata": {},
   "source": [
    "### Outer product"
   ]
  },
  {
   "cell_type": "code",
   "execution_count": null,
   "metadata": {},
   "outputs": [
    {
     "name": "stdout",
     "output_type": "stream",
     "text": [
      "[14/02/2025 02:19:57]\t->\u001b[34m[TEST 3] Starting outer\u001b[0m\n",
      "A=\n"
     ]
    },
    {
     "data": {
      "text/latex": [
       "$\\displaystyle \\left[\\begin{matrix}1\\\\2\\end{matrix}\\right]$"
      ],
      "text/plain": [
       "Matrix([\n",
       "[1],\n",
       "[2]])"
      ]
     },
     "metadata": {},
     "output_type": "display_data"
    },
    {
     "name": "stdout",
     "output_type": "stream",
     "text": [
      "B=\n"
     ]
    },
    {
     "data": {
      "text/latex": [
       "$\\displaystyle \\left[\\begin{matrix}3\\\\4\\end{matrix}\\right]$"
      ],
      "text/plain": [
       "Matrix([\n",
       "[3],\n",
       "[4]])"
      ]
     },
     "metadata": {},
     "output_type": "display_data"
    },
    {
     "name": "stdout",
     "output_type": "stream",
     "text": [
      "outer_product= A ⊗ B\n"
     ]
    },
    {
     "data": {
      "text/latex": [
       "$\\displaystyle \\left[\\begin{matrix}3 & 4\\\\6 & 8\\end{matrix}\\right]$"
      ],
      "text/plain": [
       "Matrix([\n",
       "[3, 4],\n",
       "[6, 8]])"
      ]
     },
     "metadata": {},
     "output_type": "display_data"
    },
    {
     "name": "stdout",
     "output_type": "stream",
     "text": [
      "A_mat=\n"
     ]
    },
    {
     "data": {
      "text/latex": [
       "$\\displaystyle \\left[\\begin{matrix}1 & 2\\\\2 & 0\\end{matrix}\\right]$"
      ],
      "text/plain": [
       "Matrix([\n",
       "[1, 2],\n",
       "[2, 0]])"
      ]
     },
     "metadata": {},
     "output_type": "display_data"
    },
    {
     "name": "stdout",
     "output_type": "stream",
     "text": [
      "B_mat=\n"
     ]
    },
    {
     "data": {
      "text/latex": [
       "$\\displaystyle \\left[\\begin{matrix}3 & 4\\\\4 & 0\\end{matrix}\\right]$"
      ],
      "text/plain": [
       "Matrix([\n",
       "[3, 4],\n",
       "[4, 0]])"
      ]
     },
     "metadata": {},
     "output_type": "display_data"
    },
    {
     "name": "stdout",
     "output_type": "stream",
     "text": [
      "outer_product_mat= A_mat ⊗ B_mat\n"
     ]
    },
    {
     "data": {
      "text/latex": [
       "$\\displaystyle \\left[\\begin{matrix}3 & 4 & 4 & 0\\\\6 & 8 & 8 & 0\\\\6 & 8 & 8 & 0\\\\0 & 0 & 0 & 0\\end{matrix}\\right]$"
      ],
      "text/plain": [
       "Matrix([\n",
       "[3, 4, 4, 0],\n",
       "[6, 8, 8, 0],\n",
       "[6, 8, 8, 0],\n",
       "[0, 0, 0, 0]])"
      ]
     },
     "metadata": {},
     "output_type": "display_data"
    },
    {
     "name": "stdout",
     "output_type": "stream",
     "text": [
      "[14/02/2025 02:19:57]\t->\u001b[32m[TEST 3] Completed outer\u001b[0m\n",
      "[14/02/2025 02:19:57]\t->\u001b[34m[TEST 3] Starting outer\u001b[0m\n",
      "A=\n"
     ]
    },
    {
     "data": {
      "text/latex": [
       "$\\displaystyle \\left[\\begin{matrix}1\\\\2\\end{matrix}\\right]$"
      ],
      "text/plain": [
       "Matrix([\n",
       "[1],\n",
       "[2]])"
      ]
     },
     "metadata": {},
     "output_type": "display_data"
    },
    {
     "name": "stdout",
     "output_type": "stream",
     "text": [
      "B=\n"
     ]
    },
    {
     "data": {
      "text/latex": [
       "$\\displaystyle \\left[\\begin{matrix}3\\\\4\\end{matrix}\\right]$"
      ],
      "text/plain": [
       "Matrix([\n",
       "[3],\n",
       "[4]])"
      ]
     },
     "metadata": {},
     "output_type": "display_data"
    },
    {
     "name": "stdout",
     "output_type": "stream",
     "text": [
      "outer_product= A ⊗ B\n"
     ]
    },
    {
     "data": {
      "text/latex": [
       "$\\displaystyle \\left[\\begin{matrix}3 & 4\\\\6 & 8\\end{matrix}\\right]$"
      ],
      "text/plain": [
       "Matrix([\n",
       "[3, 4],\n",
       "[6, 8]])"
      ]
     },
     "metadata": {},
     "output_type": "display_data"
    },
    {
     "name": "stdout",
     "output_type": "stream",
     "text": [
      "A_mat=\n"
     ]
    },
    {
     "data": {
      "text/latex": [
       "$\\displaystyle \\left[\\begin{matrix}1 & 2\\\\2 & 0\\end{matrix}\\right]$"
      ],
      "text/plain": [
       "Matrix([\n",
       "[1, 2],\n",
       "[2, 0]])"
      ]
     },
     "metadata": {},
     "output_type": "display_data"
    },
    {
     "name": "stdout",
     "output_type": "stream",
     "text": [
      "B_mat=\n"
     ]
    },
    {
     "data": {
      "text/latex": [
       "$\\displaystyle \\left[\\begin{matrix}3 & 4\\\\4 & 0\\end{matrix}\\right]$"
      ],
      "text/plain": [
       "Matrix([\n",
       "[3, 4],\n",
       "[4, 0]])"
      ]
     },
     "metadata": {},
     "output_type": "display_data"
    },
    {
     "name": "stdout",
     "output_type": "stream",
     "text": [
      "outer_product_mat= A_mat ⊗ B_mat\n"
     ]
    },
    {
     "data": {
      "text/latex": [
       "$\\displaystyle \\left[\\begin{matrix}3 & 4 & 4 & 0\\\\6 & 8 & 8 & 0\\\\6 & 8 & 8 & 0\\\\0 & 0 & 0 & 0\\end{matrix}\\right]$"
      ],
      "text/plain": [
       "Matrix([\n",
       "[3, 4, 4, 0],\n",
       "[6, 8, 8, 0],\n",
       "[6, 8, 8, 0],\n",
       "[0, 0, 0, 0]])"
      ]
     },
     "metadata": {},
     "output_type": "display_data"
    },
    {
     "name": "stdout",
     "output_type": "stream",
     "text": [
      "[14/02/2025 02:19:57]\t->\u001b[32m[TEST 3] Completed outer\u001b[0m\n"
     ]
    }
   ],
   "source": [
    "a.outer(verbose=True)\n",
    "b.outer(verbose=True)"
   ]
  },
  {
   "cell_type": "markdown",
   "metadata": {},
   "source": [
    "### Kronecker product"
   ]
  },
  {
   "cell_type": "code",
   "execution_count": null,
   "metadata": {},
   "outputs": [
    {
     "name": "stdout",
     "output_type": "stream",
     "text": [
      "[10/02/2025 19:49:28]\t->[TEST 4] Starting kron\n",
      "A=\n"
     ]
    },
    {
     "data": {
      "text/latex": [
       "$\\displaystyle \\left[\\begin{matrix}1 & 2\\\\3 & 4\\end{matrix}\\right]$"
      ],
      "text/plain": [
       "Matrix([\n",
       "[1, 2],\n",
       "[3, 4]])"
      ]
     },
     "metadata": {},
     "output_type": "display_data"
    },
    {
     "name": "stdout",
     "output_type": "stream",
     "text": [
      "B=\n"
     ]
    },
    {
     "data": {
      "text/latex": [
       "$\\displaystyle \\left[\\begin{matrix}5 & 6\\\\7 & 8\\end{matrix}\\right]$"
      ],
      "text/plain": [
       "Matrix([\n",
       "[5, 6],\n",
       "[7, 8]])"
      ]
     },
     "metadata": {},
     "output_type": "display_data"
    },
    {
     "name": "stdout",
     "output_type": "stream",
     "text": [
      "kron_product= A ⊗ B\n"
     ]
    },
    {
     "data": {
      "text/latex": [
       "$\\displaystyle \\left[\\begin{matrix}5 & 6 & 10 & 12\\\\7 & 8 & 14 & 16\\\\15 & 18 & 20 & 24\\\\21 & 24 & 28 & 32\\end{matrix}\\right]$"
      ],
      "text/plain": [
       "Matrix([\n",
       "[ 5,  6, 10, 12],\n",
       "[ 7,  8, 14, 16],\n",
       "[15, 18, 20, 24],\n",
       "[21, 24, 28, 32]])"
      ]
     },
     "metadata": {},
     "output_type": "display_data"
    },
    {
     "name": "stdout",
     "output_type": "stream",
     "text": [
      "[10/02/2025 19:49:28]\t->[TEST 4] Completed kron\n"
     ]
    }
   ],
   "source": [
    "a.kron(verbose=True)"
   ]
  },
  {
   "cell_type": "markdown",
   "metadata": {},
   "source": [
    "## Linear solvers"
   ]
  },
  {
   "cell_type": "code",
   "execution_count": null,
   "metadata": {},
   "outputs": [],
   "source": [
    "a = algebra.SolversTests(backend='numpy')\n",
    "b = algebra.SolversTests(backend='jax')"
   ]
  },
  {
   "cell_type": "code",
   "execution_count": null,
   "metadata": {},
   "outputs": [
    {
     "name": "stdout",
     "output_type": "stream",
     "text": [
      "[TEST 0] Starting solver test using cg\n"
     ]
    },
    {
     "ename": "TypeError",
     "evalue": "random() got an unexpected keyword argument 'dtype'",
     "output_type": "error",
     "traceback": [
      "\u001b[0;31m---------------------------------------------------------------------------\u001b[0m",
      "\u001b[0;31mTypeError\u001b[0m                                 Traceback (most recent call last)",
      "Cell \u001b[0;32mIn[6], line 1\u001b[0m\n\u001b[0;32m----> 1\u001b[0m a\u001b[38;5;241m.\u001b[39msolver_test()\n",
      "File \u001b[0;32m~/Codes/QuantumEigenSolver/Python/QES/general_python/algebra/__init__.py:361\u001b[0m, in \u001b[0;36mSolversTests.solver_test\u001b[0;34m(self, make_random, symmetric, solver_type, eps, max_iter, reg, precond_type, dtype)\u001b[0m\n\u001b[1;32m    358\u001b[0m \u001b[38;5;28mself\u001b[39m\u001b[38;5;241m.\u001b[39m_log(\u001b[38;5;124mf\u001b[39m\u001b[38;5;124m\"\u001b[39m\u001b[38;5;124mStarting solver test using \u001b[39m\u001b[38;5;132;01m{\u001b[39;00msolver_type\u001b[38;5;132;01m}\u001b[39;00m\u001b[38;5;124m\"\u001b[39m, \u001b[38;5;28mself\u001b[39m\u001b[38;5;241m.\u001b[39mtest_count)\n\u001b[1;32m    360\u001b[0m \u001b[38;5;66;03m# Generate test matrix A and vector b.\u001b[39;00m\n\u001b[0;32m--> 361\u001b[0m a, b    \u001b[38;5;241m=\u001b[39m generate_test_mat_vec(make_random, symmetric, dtype\u001b[38;5;241m=\u001b[39mdtype, backend\u001b[38;5;241m=\u001b[39m\u001b[38;5;28mself\u001b[39m\u001b[38;5;241m.\u001b[39mbackend)\n\u001b[1;32m    363\u001b[0m \u001b[38;5;66;03m# Instantiate the chosen solver.\u001b[39;00m\n\u001b[1;32m    364\u001b[0m solver  \u001b[38;5;241m=\u001b[39m choose_solver(solver_type, backend\u001b[38;5;241m=\u001b[39m\u001b[38;5;28mself\u001b[39m\u001b[38;5;241m.\u001b[39mbackend, size\u001b[38;5;241m=\u001b[39ma\u001b[38;5;241m.\u001b[39mshape[\u001b[38;5;241m1\u001b[39m], eps\u001b[38;5;241m=\u001b[39meps, maxiter\u001b[38;5;241m=\u001b[39mmax_iter, reg\u001b[38;5;241m=\u001b[39mreg)\n",
      "File \u001b[0;32m~/Codes/QuantumEigenSolver/Python/QES/general_python/algebra/solvers/__init__.py:119\u001b[0m, in \u001b[0;36mgenerate_test_mat_vec\u001b[0;34m(make_random, symmetric, size, dtype, backend)\u001b[0m\n\u001b[1;32m    116\u001b[0m     b[\u001b[38;5;241m3\u001b[39m] \u001b[38;5;241m=\u001b[39m \u001b[38;5;241m2\u001b[39m \u001b[38;5;241m+\u001b[39m \u001b[38;5;241m3\u001b[39mj\n\u001b[1;32m    117\u001b[0m \u001b[38;5;28;01melse\u001b[39;00m:\n\u001b[1;32m    118\u001b[0m     \u001b[38;5;66;03m# Random matrix and vector.\u001b[39;00m\n\u001b[0;32m--> 119\u001b[0m     A \u001b[38;5;241m=\u001b[39m rdg\u001b[38;5;241m.\u001b[39mrandom(size\u001b[38;5;241m=\u001b[39m(size, size), dtype\u001b[38;5;241m=\u001b[39mdtype)\n\u001b[1;32m    120\u001b[0m     b \u001b[38;5;241m=\u001b[39m rdg\u001b[38;5;241m.\u001b[39mrandom(size\u001b[38;5;241m=\u001b[39m(size,), dtype\u001b[38;5;241m=\u001b[39mdtype)\n\u001b[1;32m    121\u001b[0m     \u001b[38;5;28;01mif\u001b[39;00m dtype \u001b[38;5;129;01mnot\u001b[39;00m \u001b[38;5;129;01min\u001b[39;00m (backend\u001b[38;5;241m.\u001b[39mfloat32, backend\u001b[38;5;241m.\u001b[39mfloat64):\n",
      "File \u001b[0;32mnumpy/random/mtrand.pyx:439\u001b[0m, in \u001b[0;36mnumpy.random.mtrand.RandomState.random\u001b[0;34m()\u001b[0m\n",
      "\u001b[0;31mTypeError\u001b[0m: random() got an unexpected keyword argument 'dtype'"
     ]
    }
   ],
   "source": [
    "a.solver_test()"
   ]
  },
  {
   "cell_type": "markdown",
   "metadata": {},
   "source": [
    "# Binary "
   ]
  },
  {
   "cell_type": "markdown",
   "metadata": {},
   "source": [
    "### Standard tests"
   ]
  },
  {
   "cell_type": "code",
   "execution_count": null,
   "metadata": {},
   "outputs": [],
   "source": [
    "from general_python.common import binary\n",
    "NUM         = 42\n",
    "tests       = binary.BinaryFunctionTests()"
   ]
  },
  {
   "cell_type": "code",
   "execution_count": null,
   "metadata": {},
   "outputs": [
    {
     "name": "stdout",
     "output_type": "stream",
     "text": [
      "[14/02/2025 02:22:22]\t->\u001b[0m[TEST 0] ==================================================\u001b[0m\n",
      "[14/02/2025 02:22:22]\t->\u001b[0m[TEST 0]              TESTING BINARY FUNCTIONS             \u001b[0m\n",
      "[14/02/2025 02:22:22]\t->\u001b[0m[TEST 0] ==================================================\u001b[0m\n",
      "[14/02/2025 02:22:22]\t->\u001b[0m[TEST 0] Random integer n = 304487426887 (binary: 000100011011100100110111010110101101000111)\u001b[0m\n",
      "[14/02/2025 02:22:22]\t->\u001b[0m[TEST 0] --------------------------------------------------\u001b[0m\n",
      "[14/02/2025 02:22:22]\t->\u001b[0m[TEST 0] --------------------------------------------------\u001b[0m\n",
      "[14/02/2025 02:22:22]\t->\u001b[34m[TEST 1] Test 1: Extract bits using mask\u001b[0m\n",
      "[14/02/2025 02:22:22]\t->\u001b[0m[TEST 1] Input n    : 000100011011100100110111010110101101000111\u001b[0m\n",
      "[14/02/2025 02:22:22]\t->\u001b[0m[TEST 1] Mask       : 000000000000000000000000000000000000001011\u001b[0m\n",
      "[14/02/2025 02:22:22]\t->\u001b[0m[TEST 1] Extracted  : 000000000000000000000000000000000000000011 (3)\u001b[0m\n",
      "[14/02/2025 02:22:22]\t->\u001b[0m[TEST 1] Time       : 0.000002 seconds\u001b[0m\n",
      "[14/02/2025 02:22:22]\t->\u001b[0m[TEST 1] --------------------------------------------------\u001b[0m\n",
      "[14/02/2025 02:22:22]\t->\u001b[34m[TEST 2] Test 2: Extract leftmost and rightmost 4 bits\u001b[0m\n",
      "[14/02/2025 02:22:22]\t->\u001b[0m[TEST 2] Input n         : 000100011011100100110111010110101101000111\u001b[0m\n",
      "[14/02/2025 02:22:22]\t->\u001b[0m[TEST 2] Leftmost 4 bits : 0001\u001b[0m\n",
      "[14/02/2025 02:22:22]\t->\u001b[0m[TEST 2] Rightmost 4 bits: 0111\u001b[0m\n",
      "[14/02/2025 02:22:22]\t->\u001b[0m[TEST 2] Time            : 0.000002 seconds\u001b[0m\n",
      "[14/02/2025 02:22:22]\t->\u001b[0m[TEST 2] --------------------------------------------------\u001b[0m\n",
      "[14/02/2025 02:22:22]\t->\u001b[34m[TEST 3] Test 3: Prepare mask from positions\u001b[0m\n",
      "[14/02/2025 02:22:22]\t->\u001b[0m[TEST 3] Positions          : [0, 1, 3]\u001b[0m\n",
      "[14/02/2025 02:22:22]\t->\u001b[0m[TEST 3] Prepared Mask (42 bits) : 110100000000000000000000000000000000000000\u001b[0m\n",
      "[14/02/2025 02:22:22]\t->\u001b[0m[TEST 3] Time               : 0.000002 seconds\u001b[0m\n",
      "[14/02/2025 02:22:22]\t->\u001b[0m[TEST 3] --------------------------------------------------\u001b[0m\n",
      "[14/02/2025 02:22:22]\t->\u001b[34m[TEST 4] Test 4: Prepare inverted mask from positions\u001b[0m\n",
      "[14/02/2025 02:22:22]\t->\u001b[0m[TEST 4] Positions             : [0, 1, 3]\u001b[0m\n",
      "[14/02/2025 02:22:22]\t->\u001b[0m[TEST 4] Inverted Mask (42 bits): 000000000000000000000000000000000000001011\u001b[0m\n",
      "[14/02/2025 02:22:22]\t->\u001b[0m[TEST 4] Time                  : 0.000001 seconds\u001b[0m\n",
      "[14/02/2025 02:22:22]\t->\u001b[0m[TEST 4] --------------------------------------------------\u001b[0m\n",
      "[14/02/2025 02:22:22]\t->\u001b[34m[TEST 5] Test 5: Check if n is a power of two\u001b[0m\n",
      "[14/02/2025 02:22:22]\t->\u001b[0m[TEST 5] Input n : 000100011011100100110111010110101101000111\u001b[0m\n",
      "[14/02/2025 02:22:22]\t->\u001b[0m[TEST 5] Result  : False\u001b[0m\n",
      "[14/02/2025 02:22:22]\t->\u001b[0m[TEST 5] Time    : 0.000001 seconds\u001b[0m\n",
      "[14/02/2025 02:22:22]\t->\u001b[0m[TEST 5] --------------------------------------------------\u001b[0m\n",
      "[14/02/2025 02:22:22]\t->\u001b[34m[TEST 6] Test 6: Reverse the bits\u001b[0m\n",
      "[14/02/2025 02:22:22]\t->\u001b[0m[TEST 6] Input n  : 000100011011100100110111010110101101000111\u001b[0m\n",
      "[14/02/2025 02:22:22]\t->\u001b[0m[TEST 6] Reversed : 111000101101011010111011001001110110001000\u001b[0m\n",
      "[14/02/2025 02:22:22]\t->\u001b[0m[TEST 6] Time     : 0.000005 seconds\u001b[0m\n",
      "[14/02/2025 02:22:22]\t->\u001b[0m[TEST 6] --------------------------------------------------\u001b[0m\n",
      "[14/02/2025 02:22:22]\t->\u001b[34m[TEST 7] Test 7: Check specific bit\u001b[0m\n",
      "[14/02/2025 02:22:22]\t->\u001b[0m[TEST 7] Input n          : 000100011011100100110111010110101101000111\u001b[0m\n",
      "[14/02/2025 02:22:22]\t->\u001b[0m[TEST 7] Bit position (0-indexed from right): 2\u001b[0m\n",
      "[14/02/2025 02:22:22]\t->\u001b[0m[TEST 7] Bit value        : True\u001b[0m\n",
      "[14/02/2025 02:22:22]\t->\u001b[0m[TEST 7] Time             : 0.000001 seconds\u001b[0m\n",
      "[14/02/2025 02:22:22]\t->\u001b[0m[TEST 7] --------------------------------------------------\u001b[0m\n",
      "[14/02/2025 02:22:22]\t->\u001b[34m[TEST 8] Test 8: Convert integer to base representation: <class 'int'>\u001b[0m\n",
      "[14/02/2025 02:22:22]\t->\u001b[0m[TEST 8] Input n           : 000100011011100100110111010110101101000111\u001b[0m\n",
      "[14/02/2025 02:22:22]\t->\u001b[0m[TEST 8] Base representation: [-0.5 -0.5 -0.5  0.5 -0.5 -0.5 -0.5  0.5  0.5 -0.5  0.5  0.5  0.5 -0.5\n",
      " -0.5  0.5 -0.5 -0.5  0.5  0.5 -0.5  0.5  0.5  0.5 -0.5  0.5 -0.5  0.5\n",
      "  0.5 -0.5  0.5 -0.5  0.5  0.5 -0.5  0.5 -0.5 -0.5 -0.5  0.5  0.5  0.5] (type: <class 'jaxlib.xla_extension.ArrayImpl'>)\u001b[0m\n",
      "[14/02/2025 02:22:22]\t->\u001b[0m[TEST 8] Time              : 0.000321 seconds\u001b[0m\n",
      "[14/02/2025 02:22:22]\t->\u001b[0m[TEST 8] --------------------------------------------------\u001b[0m\n",
      "[14/02/2025 02:22:22]\t->\u001b[34m[TEST 9] Test 9: Convert base representation back to integer: <class 'jaxlib.xla_extension.ArrayImpl'>\u001b[0m\n",
      "[14/02/2025 02:22:22]\t->\u001b[0m[TEST 9] Base representation : [-0.5 -0.5 -0.5  0.5 -0.5 -0.5 -0.5  0.5  0.5 -0.5  0.5  0.5  0.5 -0.5\n",
      " -0.5  0.5 -0.5 -0.5  0.5  0.5 -0.5  0.5  0.5  0.5 -0.5  0.5 -0.5  0.5\n",
      "  0.5 -0.5  0.5 -0.5  0.5  0.5 -0.5  0.5 -0.5 -0.5 -0.5  0.5  0.5  0.5] (type: <class 'jaxlib.xla_extension.ArrayImpl'>)\u001b[0m\n",
      "[14/02/2025 02:22:22]\t->\u001b[0m[TEST 9] Recovered integer   : 304487426887 (type: <class 'int'>)\u001b[0m\n",
      "[14/02/2025 02:22:22]\t->\u001b[0m[TEST 9] Time                : 0.004992 seconds\u001b[0m\n",
      "[14/02/2025 02:22:22]\t->\u001b[0m[TEST 9] --------------------------------------------------\u001b[0m\n",
      "[14/02/2025 02:22:22]\t->\u001b[34m[TEST 10] Test 10: Flip all bits: <class 'int'>\u001b[0m\n",
      "[14/02/2025 02:22:22]\t->\u001b[0m[TEST 10] Input n : 000100011011100100110111010110101101000111\u001b[0m\n",
      "[14/02/2025 02:22:22]\t->\u001b[0m[TEST 10] Flipped : 111011100100011011001000101001010010111000\u001b[0m\n",
      "[14/02/2025 02:22:22]\t->\u001b[0m[TEST 10] Time    : 0.000002 seconds\u001b[0m\n",
      "[14/02/2025 02:22:22]\t->\u001b[0m[TEST 10] --------------------------------------------------\u001b[0m\n",
      "[14/02/2025 02:22:22]\t->\u001b[34m[TEST 11] Test 11: Flip a specific bit in integer: <class 'int'>\u001b[0m\n",
      "[14/02/2025 02:22:22]\t->\u001b[0m[TEST 11] Input n           : 000100011011100100110111010110101101000111\u001b[0m\n",
      "[14/02/2025 02:22:22]\t->\u001b[0m[TEST 11] Flipped bit at pos: 2 -> 000100011011100100110111010110101101000011\u001b[0m\n",
      "[14/02/2025 02:22:22]\t->\u001b[0m[TEST 11] Time              : 0.000003 seconds\u001b[0m\n",
      "[14/02/2025 02:22:22]\t->\u001b[0m[TEST 11] --------------------------------------------------\u001b[0m\n",
      "[14/02/2025 02:22:22]\t->\u001b[34m[TEST 12] Test 12: Flip a specific bit in base representation: <class 'jaxlib.xla_extension.ArrayImpl'>\u001b[0m\n",
      "[14/02/2025 02:22:22]\t->\u001b[0m[TEST 12] Input base rep    : [-0.5 -0.5 -0.5  0.5 -0.5 -0.5 -0.5  0.5  0.5 -0.5  0.5  0.5  0.5 -0.5\n",
      " -0.5  0.5 -0.5 -0.5  0.5  0.5 -0.5  0.5  0.5  0.5 -0.5  0.5 -0.5  0.5\n",
      "  0.5 -0.5  0.5 -0.5  0.5  0.5 -0.5  0.5 -0.5 -0.5 -0.5  0.5  0.5  0.5] : <class 'jaxlib.xla_extension.ArrayImpl'>\u001b[0m\n",
      "[14/02/2025 02:22:22]\t->\u001b[0m[TEST 12] Flipped bit at pos: 2 -> [-0.5 -0.5  0.5  0.5 -0.5 -0.5 -0.5  0.5  0.5 -0.5  0.5  0.5  0.5 -0.5\n",
      " -0.5  0.5 -0.5 -0.5  0.5  0.5 -0.5  0.5  0.5  0.5 -0.5  0.5 -0.5  0.5\n",
      "  0.5 -0.5  0.5 -0.5  0.5  0.5 -0.5  0.5 -0.5 -0.5 -0.5  0.5  0.5  0.5] : <class 'jaxlib.xla_extension.ArrayImpl'>\u001b[0m\n",
      "[14/02/2025 02:22:22]\t->\u001b[0m[TEST 12] Time              : 0.000017 seconds\u001b[0m\n",
      "[14/02/2025 02:22:22]\t->\u001b[0m[TEST 12] --------------------------------------------------\u001b[0m\n",
      "[14/02/2025 02:22:22]\t->\u001b[34m[TEST 13] Test 13: Rotate left (integer)\u001b[0m\n",
      "[14/02/2025 02:22:22]\t->\u001b[0m[TEST 13] Input n       : 000100011011100100110111010110101101000111\u001b[0m\n",
      "[14/02/2025 02:22:22]\t->\u001b[0m[TEST 13] Rotated left  : 001000110111001001101110101101011010001110\u001b[0m\n",
      "[14/02/2025 02:22:22]\t->\u001b[0m[TEST 13] Time          : 0.000001 seconds\u001b[0m\n",
      "[14/02/2025 02:22:22]\t->\u001b[0m[TEST 13] --------------------------------------------------\u001b[0m\n",
      "[14/02/2025 02:22:22]\t->\u001b[34m[TEST 14] Test 14: Rotate left (base representation): <class 'jaxlib.xla_extension.ArrayImpl'>\u001b[0m\n",
      "[14/02/2025 02:22:22]\t->\u001b[0m[TEST 14] Input base rep: [-0.5 -0.5  0.5  0.5 -0.5 -0.5 -0.5  0.5  0.5 -0.5  0.5  0.5  0.5 -0.5\n",
      " -0.5  0.5 -0.5 -0.5  0.5  0.5 -0.5  0.5  0.5  0.5 -0.5  0.5 -0.5  0.5\n",
      "  0.5 -0.5  0.5 -0.5  0.5  0.5 -0.5  0.5 -0.5 -0.5 -0.5  0.5  0.5  0.5] : <class 'jaxlib.xla_extension.ArrayImpl'>\u001b[0m\n",
      "[14/02/2025 02:22:22]\t->\u001b[0m[TEST 14] Rotated left  : [-0.5  0.5  0.5 -0.5 -0.5 -0.5  0.5  0.5 -0.5  0.5  0.5  0.5 -0.5 -0.5\n",
      "  0.5 -0.5 -0.5  0.5  0.5 -0.5  0.5  0.5  0.5 -0.5  0.5 -0.5  0.5  0.5\n",
      " -0.5  0.5 -0.5  0.5  0.5 -0.5  0.5 -0.5 -0.5 -0.5  0.5  0.5  0.5 -0.5] : <class 'jaxlib.xla_extension.ArrayImpl'>\u001b[0m\n",
      "[14/02/2025 02:22:22]\t->\u001b[0m[TEST 14] Time          : 0.000141 seconds\u001b[0m\n",
      "[14/02/2025 02:22:22]\t->\u001b[0m[TEST 14] --------------------------------------------------\u001b[0m\n",
      "[14/02/2025 02:22:22]\t->\u001b[34m[TEST 15] Test 15: Rotate right (integer)\u001b[0m\n",
      "[14/02/2025 02:22:22]\t->\u001b[0m[TEST 15] Input n        : 000100011011100100110111010110101101000111\u001b[0m\n",
      "[14/02/2025 02:22:22]\t->\u001b[0m[TEST 15] Rotated right  : 100010001101110010011011101011010110100011\u001b[0m\n",
      "[14/02/2025 02:22:22]\t->\u001b[0m[TEST 15] Time           : 0.000001 seconds\u001b[0m\n",
      "[14/02/2025 02:22:22]\t->\u001b[0m[TEST 15] --------------------------------------------------\u001b[0m\n",
      "[14/02/2025 02:22:22]\t->\u001b[34m[TEST 16] Test 16: Rotate right (base representation): <class 'jaxlib.xla_extension.ArrayImpl'>\u001b[0m\n",
      "[14/02/2025 02:22:22]\t->\u001b[0m[TEST 16] Input base rep : [-0.5  0.5  0.5 -0.5 -0.5 -0.5  0.5  0.5 -0.5  0.5  0.5  0.5 -0.5 -0.5\n",
      "  0.5 -0.5 -0.5  0.5  0.5 -0.5  0.5  0.5  0.5 -0.5  0.5 -0.5  0.5  0.5\n",
      " -0.5  0.5 -0.5  0.5  0.5 -0.5  0.5 -0.5 -0.5 -0.5  0.5  0.5  0.5 -0.5] : <class 'jaxlib.xla_extension.ArrayImpl'>\u001b[0m\n",
      "[14/02/2025 02:22:22]\t->\u001b[0m[TEST 16] Rotated right  : [-0.5 -0.5  0.5  0.5 -0.5 -0.5 -0.5  0.5  0.5 -0.5  0.5  0.5  0.5 -0.5\n",
      " -0.5  0.5 -0.5 -0.5  0.5  0.5 -0.5  0.5  0.5  0.5 -0.5  0.5 -0.5  0.5\n",
      "  0.5 -0.5  0.5 -0.5  0.5  0.5 -0.5  0.5 -0.5 -0.5 -0.5  0.5  0.5  0.5] : <class 'jaxlib.xla_extension.ArrayImpl'>\u001b[0m\n",
      "[14/02/2025 02:22:22]\t->\u001b[0m[TEST 16] Time           : 0.000096 seconds\u001b[0m\n",
      "[14/02/2025 02:22:22]\t->\u001b[0m[TEST 16] --------------------------------------------------\u001b[0m\n",
      "[14/02/2025 02:22:22]\t->\u001b[0m[TEST 0] ==================================================\u001b[0m\n",
      "[14/02/2025 02:22:22]\t->\u001b[32m[TEST 0] Total testing time: 0.008149 seconds\u001b[0m\n",
      "[14/02/2025 02:22:22]\t->\u001b[0m[TEST 0] ==================================================\u001b[0m\n",
      "[14/02/2025 02:22:22]\t->\u001b[32m[TEST 0] Testing completed.\u001b[0m\n"
     ]
    }
   ],
   "source": [
    "tests.run_tests(NUM, spin_value = binary._BACKENDREPR)"
   ]
  },
  {
   "cell_type": "code",
   "execution_count": null,
   "metadata": {},
   "outputs": [
    {
     "name": "stdout",
     "output_type": "stream",
     "text": [
      "[14/02/2025 02:22:28]\t->\u001b[0m[TEST 0] ==================================================\u001b[0m\n",
      "[14/02/2025 02:22:28]\t->\u001b[0m[TEST 0]              TESTING BINARY FUNCTIONS             \u001b[0m\n",
      "[14/02/2025 02:22:28]\t->\u001b[0m[TEST 0] ==================================================\u001b[0m\n",
      "[14/02/2025 02:22:28]\t->\u001b[0m[TEST 0] Random integer n = 463308285429 (binary: 000110101111011111010100110110010111110101)\u001b[0m\n",
      "[14/02/2025 02:22:28]\t->\u001b[0m[TEST 0] --------------------------------------------------\u001b[0m\n",
      "[14/02/2025 02:22:28]\t->\u001b[0m[TEST 0] --------------------------------------------------\u001b[0m\n",
      "[14/02/2025 02:22:28]\t->\u001b[34m[TEST 1] Test 1: Extract bits using mask\u001b[0m\n",
      "[14/02/2025 02:22:28]\t->\u001b[0m[TEST 1] Input n    : 000110101111011111010100110110010111110101\u001b[0m\n",
      "[14/02/2025 02:22:28]\t->\u001b[0m[TEST 1] Mask       : 000000000000000000000000000000000000001011\u001b[0m\n",
      "[14/02/2025 02:22:28]\t->\u001b[0m[TEST 1] Extracted  : 000000000000000000000000000000000000000001 (1)\u001b[0m\n",
      "[14/02/2025 02:22:28]\t->\u001b[0m[TEST 1] Time       : 0.000004 seconds\u001b[0m\n",
      "[14/02/2025 02:22:28]\t->\u001b[0m[TEST 1] --------------------------------------------------\u001b[0m\n",
      "[14/02/2025 02:22:28]\t->\u001b[34m[TEST 2] Test 2: Extract leftmost and rightmost 4 bits\u001b[0m\n",
      "[14/02/2025 02:22:28]\t->\u001b[0m[TEST 2] Input n         : 000110101111011111010100110110010111110101\u001b[0m\n",
      "[14/02/2025 02:22:28]\t->\u001b[0m[TEST 2] Leftmost 4 bits : 0001\u001b[0m\n",
      "[14/02/2025 02:22:28]\t->\u001b[0m[TEST 2] Rightmost 4 bits: 0101\u001b[0m\n",
      "[14/02/2025 02:22:28]\t->\u001b[0m[TEST 2] Time            : 0.000002 seconds\u001b[0m\n",
      "[14/02/2025 02:22:28]\t->\u001b[0m[TEST 2] --------------------------------------------------\u001b[0m\n",
      "[14/02/2025 02:22:28]\t->\u001b[34m[TEST 3] Test 3: Prepare mask from positions\u001b[0m\n",
      "[14/02/2025 02:22:28]\t->\u001b[0m[TEST 3] Positions          : [0, 1, 3]\u001b[0m\n",
      "[14/02/2025 02:22:28]\t->\u001b[0m[TEST 3] Prepared Mask (42 bits) : 110100000000000000000000000000000000000000\u001b[0m\n",
      "[14/02/2025 02:22:28]\t->\u001b[0m[TEST 3] Time               : 0.000003 seconds\u001b[0m\n",
      "[14/02/2025 02:22:28]\t->\u001b[0m[TEST 3] --------------------------------------------------\u001b[0m\n",
      "[14/02/2025 02:22:28]\t->\u001b[34m[TEST 4] Test 4: Prepare inverted mask from positions\u001b[0m\n",
      "[14/02/2025 02:22:28]\t->\u001b[0m[TEST 4] Positions             : [0, 1, 3]\u001b[0m\n",
      "[14/02/2025 02:22:28]\t->\u001b[0m[TEST 4] Inverted Mask (42 bits): 000000000000000000000000000000000000001011\u001b[0m\n",
      "[14/02/2025 02:22:28]\t->\u001b[0m[TEST 4] Time                  : 0.000001 seconds\u001b[0m\n",
      "[14/02/2025 02:22:28]\t->\u001b[0m[TEST 4] --------------------------------------------------\u001b[0m\n",
      "[14/02/2025 02:22:28]\t->\u001b[34m[TEST 5] Test 5: Check if n is a power of two\u001b[0m\n",
      "[14/02/2025 02:22:28]\t->\u001b[0m[TEST 5] Input n : 000110101111011111010100110110010111110101\u001b[0m\n",
      "[14/02/2025 02:22:28]\t->\u001b[0m[TEST 5] Result  : False\u001b[0m\n",
      "[14/02/2025 02:22:28]\t->\u001b[0m[TEST 5] Time    : 0.000001 seconds\u001b[0m\n",
      "[14/02/2025 02:22:28]\t->\u001b[0m[TEST 5] --------------------------------------------------\u001b[0m\n",
      "[14/02/2025 02:22:28]\t->\u001b[34m[TEST 6] Test 6: Reverse the bits\u001b[0m\n",
      "[14/02/2025 02:22:28]\t->\u001b[0m[TEST 6] Input n  : 000110101111011111010100110110010111110101\u001b[0m\n",
      "[14/02/2025 02:22:28]\t->\u001b[0m[TEST 6] Reversed : 101011111010011011001010111110111101011000\u001b[0m\n",
      "[14/02/2025 02:22:28]\t->\u001b[0m[TEST 6] Time     : 0.000006 seconds\u001b[0m\n",
      "[14/02/2025 02:22:28]\t->\u001b[0m[TEST 6] --------------------------------------------------\u001b[0m\n",
      "[14/02/2025 02:22:28]\t->\u001b[34m[TEST 7] Test 7: Check specific bit\u001b[0m\n",
      "[14/02/2025 02:22:28]\t->\u001b[0m[TEST 7] Input n          : 000110101111011111010100110110010111110101\u001b[0m\n",
      "[14/02/2025 02:22:28]\t->\u001b[0m[TEST 7] Bit position (0-indexed from right): 2\u001b[0m\n",
      "[14/02/2025 02:22:28]\t->\u001b[0m[TEST 7] Bit value        : True\u001b[0m\n",
      "[14/02/2025 02:22:28]\t->\u001b[0m[TEST 7] Time             : 0.000003 seconds\u001b[0m\n",
      "[14/02/2025 02:22:28]\t->\u001b[0m[TEST 7] --------------------------------------------------\u001b[0m\n",
      "[14/02/2025 02:22:28]\t->\u001b[34m[TEST 8] Test 8: Convert integer to base representation: <class 'int'>\u001b[0m\n",
      "[14/02/2025 02:22:28]\t->\u001b[0m[TEST 8] Input n           : 000110101111011111010100110110010111110101\u001b[0m\n",
      "[14/02/2025 02:22:28]\t->\u001b[0m[TEST 8] Base representation: [-0.5 -0.5 -0.5  0.5  0.5 -0.5  0.5 -0.5  0.5  0.5  0.5  0.5 -0.5  0.5\n",
      "  0.5  0.5  0.5  0.5 -0.5  0.5 -0.5  0.5 -0.5 -0.5  0.5  0.5 -0.5  0.5\n",
      "  0.5 -0.5 -0.5  0.5 -0.5  0.5  0.5  0.5  0.5  0.5 -0.5  0.5 -0.5  0.5] (type: <class 'numpy.ndarray'>)\u001b[0m\n",
      "[14/02/2025 02:22:28]\t->\u001b[0m[TEST 8] Time              : 0.000039 seconds\u001b[0m\n",
      "[14/02/2025 02:22:28]\t->\u001b[0m[TEST 8] --------------------------------------------------\u001b[0m\n",
      "[14/02/2025 02:22:28]\t->\u001b[34m[TEST 9] Test 9: Convert base representation back to integer: <class 'numpy.ndarray'>\u001b[0m\n",
      "[14/02/2025 02:22:28]\t->\u001b[0m[TEST 9] Base representation : [-0.5 -0.5 -0.5  0.5  0.5 -0.5  0.5 -0.5  0.5  0.5  0.5  0.5 -0.5  0.5\n",
      "  0.5  0.5  0.5  0.5 -0.5  0.5 -0.5  0.5 -0.5 -0.5  0.5  0.5 -0.5  0.5\n",
      "  0.5 -0.5 -0.5  0.5 -0.5  0.5  0.5  0.5  0.5  0.5 -0.5  0.5 -0.5  0.5] (type: <class 'numpy.ndarray'>)\u001b[0m\n",
      "[14/02/2025 02:22:28]\t->\u001b[0m[TEST 9] Recovered integer   : 463308285429 (type: <class 'int'>)\u001b[0m\n",
      "[14/02/2025 02:22:28]\t->\u001b[0m[TEST 9] Time                : 0.000026 seconds\u001b[0m\n",
      "[14/02/2025 02:22:28]\t->\u001b[0m[TEST 9] --------------------------------------------------\u001b[0m\n",
      "[14/02/2025 02:22:28]\t->\u001b[34m[TEST 10] Test 10: Flip all bits: <class 'int'>\u001b[0m\n",
      "[14/02/2025 02:22:28]\t->\u001b[0m[TEST 10] Input n : 000110101111011111010100110110010111110101\u001b[0m\n",
      "[14/02/2025 02:22:28]\t->\u001b[0m[TEST 10] Flipped : 111001010000100000101011001001101000001010\u001b[0m\n",
      "[14/02/2025 02:22:28]\t->\u001b[0m[TEST 10] Time    : 0.000002 seconds\u001b[0m\n",
      "[14/02/2025 02:22:28]\t->\u001b[0m[TEST 10] --------------------------------------------------\u001b[0m\n",
      "[14/02/2025 02:22:28]\t->\u001b[34m[TEST 11] Test 11: Flip a specific bit in integer: <class 'int'>\u001b[0m\n",
      "[14/02/2025 02:22:28]\t->\u001b[0m[TEST 11] Input n           : 000110101111011111010100110110010111110101\u001b[0m\n",
      "[14/02/2025 02:22:28]\t->\u001b[0m[TEST 11] Flipped bit at pos: 2 -> 000110101111011111010100110110010111110001\u001b[0m\n",
      "[14/02/2025 02:22:28]\t->\u001b[0m[TEST 11] Time              : 0.000003 seconds\u001b[0m\n",
      "[14/02/2025 02:22:28]\t->\u001b[0m[TEST 11] --------------------------------------------------\u001b[0m\n",
      "[14/02/2025 02:22:28]\t->\u001b[34m[TEST 12] Test 12: Flip a specific bit in base representation: <class 'numpy.ndarray'>\u001b[0m\n",
      "[14/02/2025 02:22:28]\t->\u001b[0m[TEST 12] Input base rep    : [-0.5 -0.5  0.5  0.5  0.5 -0.5  0.5 -0.5  0.5  0.5  0.5  0.5 -0.5  0.5\n",
      "  0.5  0.5  0.5  0.5 -0.5  0.5 -0.5  0.5 -0.5 -0.5  0.5  0.5 -0.5  0.5\n",
      "  0.5 -0.5 -0.5  0.5 -0.5  0.5  0.5  0.5  0.5  0.5 -0.5  0.5 -0.5  0.5] : <class 'numpy.ndarray'>\u001b[0m\n",
      "[14/02/2025 02:22:28]\t->\u001b[0m[TEST 12] Flipped bit at pos: 2 -> [-0.5 -0.5  0.5  0.5  0.5 -0.5  0.5 -0.5  0.5  0.5  0.5  0.5 -0.5  0.5\n",
      "  0.5  0.5  0.5  0.5 -0.5  0.5 -0.5  0.5 -0.5 -0.5  0.5  0.5 -0.5  0.5\n",
      "  0.5 -0.5 -0.5  0.5 -0.5  0.5  0.5  0.5  0.5  0.5 -0.5  0.5 -0.5  0.5] : <class 'numpy.ndarray'>\u001b[0m\n",
      "[14/02/2025 02:22:28]\t->\u001b[0m[TEST 12] Time              : 0.000004 seconds\u001b[0m\n",
      "[14/02/2025 02:22:28]\t->\u001b[0m[TEST 12] --------------------------------------------------\u001b[0m\n",
      "[14/02/2025 02:22:28]\t->\u001b[34m[TEST 13] Test 13: Rotate left (integer)\u001b[0m\n",
      "[14/02/2025 02:22:28]\t->\u001b[0m[TEST 13] Input n       : 000110101111011111010100110110010111110101\u001b[0m\n",
      "[14/02/2025 02:22:28]\t->\u001b[0m[TEST 13] Rotated left  : 001101011110111110101001101100101111101010\u001b[0m\n",
      "[14/02/2025 02:22:28]\t->\u001b[0m[TEST 13] Time          : 0.000002 seconds\u001b[0m\n",
      "[14/02/2025 02:22:28]\t->\u001b[0m[TEST 13] --------------------------------------------------\u001b[0m\n",
      "[14/02/2025 02:22:28]\t->\u001b[34m[TEST 14] Test 14: Rotate left (base representation): <class 'numpy.ndarray'>\u001b[0m\n",
      "[14/02/2025 02:22:28]\t->\u001b[0m[TEST 14] Input base rep: [-0.5 -0.5  0.5  0.5  0.5 -0.5  0.5 -0.5  0.5  0.5  0.5  0.5 -0.5  0.5\n",
      "  0.5  0.5  0.5  0.5 -0.5  0.5 -0.5  0.5 -0.5 -0.5  0.5  0.5 -0.5  0.5\n",
      "  0.5 -0.5 -0.5  0.5 -0.5  0.5  0.5  0.5  0.5  0.5 -0.5  0.5 -0.5  0.5] : <class 'numpy.ndarray'>\u001b[0m\n",
      "[14/02/2025 02:22:28]\t->\u001b[0m[TEST 14] Rotated left  : [-0.5  0.5  0.5  0.5 -0.5  0.5 -0.5  0.5  0.5  0.5  0.5 -0.5  0.5  0.5\n",
      "  0.5  0.5  0.5 -0.5  0.5 -0.5  0.5 -0.5 -0.5  0.5  0.5 -0.5  0.5  0.5\n",
      " -0.5 -0.5  0.5 -0.5  0.5  0.5  0.5  0.5  0.5 -0.5  0.5 -0.5  0.5 -0.5] : <class 'numpy.ndarray'>\u001b[0m\n",
      "[14/02/2025 02:22:28]\t->\u001b[0m[TEST 14] Time          : 0.000185 seconds\u001b[0m\n",
      "[14/02/2025 02:22:28]\t->\u001b[0m[TEST 14] --------------------------------------------------\u001b[0m\n",
      "[14/02/2025 02:22:28]\t->\u001b[34m[TEST 15] Test 15: Rotate right (integer)\u001b[0m\n",
      "[14/02/2025 02:22:28]\t->\u001b[0m[TEST 15] Input n        : 000110101111011111010100110110010111110101\u001b[0m\n",
      "[14/02/2025 02:22:28]\t->\u001b[0m[TEST 15] Rotated right  : 100011010111101111101010011011001011111010\u001b[0m\n",
      "[14/02/2025 02:22:28]\t->\u001b[0m[TEST 15] Time           : 0.000004 seconds\u001b[0m\n",
      "[14/02/2025 02:22:28]\t->\u001b[0m[TEST 15] --------------------------------------------------\u001b[0m\n",
      "[14/02/2025 02:22:28]\t->\u001b[34m[TEST 16] Test 16: Rotate right (base representation): <class 'numpy.ndarray'>\u001b[0m\n",
      "[14/02/2025 02:22:28]\t->\u001b[0m[TEST 16] Input base rep : [-0.5  0.5  0.5  0.5 -0.5  0.5 -0.5  0.5  0.5  0.5  0.5 -0.5  0.5  0.5\n",
      "  0.5  0.5  0.5 -0.5  0.5 -0.5  0.5 -0.5 -0.5  0.5  0.5 -0.5  0.5  0.5\n",
      " -0.5 -0.5  0.5 -0.5  0.5  0.5  0.5  0.5  0.5 -0.5  0.5 -0.5  0.5 -0.5] : <class 'numpy.ndarray'>\u001b[0m\n",
      "[14/02/2025 02:22:28]\t->\u001b[0m[TEST 16] Rotated right  : [-0.5 -0.5  0.5  0.5  0.5 -0.5  0.5 -0.5  0.5  0.5  0.5  0.5 -0.5  0.5\n",
      "  0.5  0.5  0.5  0.5 -0.5  0.5 -0.5  0.5 -0.5 -0.5  0.5  0.5 -0.5  0.5\n",
      "  0.5 -0.5 -0.5  0.5 -0.5  0.5  0.5  0.5  0.5  0.5 -0.5  0.5 -0.5  0.5] : <class 'numpy.ndarray'>\u001b[0m\n",
      "[14/02/2025 02:22:28]\t->\u001b[0m[TEST 16] Time           : 0.000052 seconds\u001b[0m\n",
      "[14/02/2025 02:22:28]\t->\u001b[0m[TEST 16] --------------------------------------------------\u001b[0m\n",
      "[14/02/2025 02:22:28]\t->\u001b[0m[TEST 0] ==================================================\u001b[0m\n",
      "[14/02/2025 02:22:28]\t->\u001b[32m[TEST 0] Total testing time: 0.004518 seconds\u001b[0m\n",
      "[14/02/2025 02:22:28]\t->\u001b[0m[TEST 0] ==================================================\u001b[0m\n",
      "[14/02/2025 02:22:28]\t->\u001b[32m[TEST 0] Testing completed.\u001b[0m\n"
     ]
    }
   ],
   "source": [
    "tests.run_tests(NUM, spin_value = binary._BACKENDREPR, backend = 'np')"
   ]
  },
  {
   "cell_type": "markdown",
   "metadata": {},
   "source": [
    "### Test JAX"
   ]
  },
  {
   "cell_type": "code",
   "execution_count": null,
   "metadata": {},
   "outputs": [],
   "source": [
    "from algebra import get_backend\n",
    "import time \n",
    "from jax import numpy as jnp, random as jnpr\n",
    "import numpy as np, numpy.random as npr\n",
    "from jax import jit\n",
    "\n",
    "seed = 1701\n",
    "\n",
    "# Test the speed of the matrix multiplication\n",
    "key_np = npr.seed(seed)\n",
    "key_jnp = jnpr.key(seed)\n",
    "size = 5000\n",
    "\n",
    "def matrix_mult_test_jax(size=size):\n",
    "    random_mat  = jnpr.normal(key_jnp, (size, size))\n",
    "    vec         = jnpr.normal(key_jnp, (size,))\n",
    "    result      = random_mat @ vec\n",
    "    print(\"Result of matrix-vector multiplication:\\n\", result)\n",
    "    \n",
    "def matrix_mult_test_numpy(size = size):\n",
    "    random_mat  = npr.normal(size=(size, size))\n",
    "    vec         = npr.normal(size=(size,))\n",
    "    result      = random_mat @ vec\n",
    "    print(\"Result of matrix-vector multiplication:\\n\", result)\n",
    "    \n",
    "@jit\n",
    "def matrix_mult_test_jax_jit():\n",
    "    random_mat  = jnpr.normal(key_jnp, (size, size))\n",
    "    vec         = jnpr.normal(key_jnp, (size,))\n",
    "    result      = random_mat @ vec\n",
    "    print(\"Result of matrix-vector multiplication:\\n\", result)\n"
   ]
  },
  {
   "cell_type": "markdown",
   "metadata": {},
   "source": [
    "#### Numpy"
   ]
  },
  {
   "cell_type": "code",
   "execution_count": null,
   "metadata": {},
   "outputs": [
    {
     "name": "stdout",
     "output_type": "stream",
     "text": [
      "Result of matrix-vector multiplication:\n",
      " [ -8.88432611  21.0377515  -48.17831994 ...  55.97818048  59.8701578\n",
      "  -4.3396083 ]\n",
      "Time taken: 0.5076 seconds (numpy)\n"
     ]
    }
   ],
   "source": [
    "start_time = time.time()\n",
    "matrix_mult_test_numpy()\n",
    "end_time = time.time()\n",
    "print(f\"Time taken: {end_time - start_time:.4f} seconds (numpy)\")"
   ]
  },
  {
   "cell_type": "markdown",
   "metadata": {},
   "source": [
    "#### Jax"
   ]
  },
  {
   "cell_type": "code",
   "execution_count": null,
   "metadata": {},
   "outputs": [
    {
     "name": "stdout",
     "output_type": "stream",
     "text": [
      "Result of matrix-vector multiplication:\n",
      " [ 36.282516   22.475544   -1.3575363 ...  41.09931    -3.48946\n",
      " -64.0355   ]\n",
      "Time taken: 0.0888 seconds (jax)\n"
     ]
    }
   ],
   "source": [
    "start_time = time.time()\n",
    "matrix_mult_test_jax()\n",
    "end_time = time.time()\n",
    "print(f\"Time taken: {end_time - start_time:.4f} seconds (jax)\")"
   ]
  },
  {
   "cell_type": "markdown",
   "metadata": {},
   "source": [
    "#### Jax jit"
   ]
  },
  {
   "cell_type": "code",
   "execution_count": null,
   "metadata": {},
   "outputs": [
    {
     "name": "stdout",
     "output_type": "stream",
     "text": [
      "Result of matrix-vector multiplication:\n",
      " Traced<ShapedArray(float32[5000])>with<DynamicJaxprTrace(level=1/0)>\n",
      "Time taken: 0.0180 seconds (jax, jitted)\n"
     ]
    }
   ],
   "source": [
    "start_time = time.time()\n",
    "matrix_mult_test_jax_jit()\n",
    "end_time = time.time()  \n",
    "print(f\"Time taken: {end_time - start_time:.4f} seconds (jax, jitted)\")"
   ]
  },
  {
   "cell_type": "markdown",
   "metadata": {},
   "source": [
    "# Lattice\n"
   ]
  },
  {
   "cell_type": "code",
   "execution_count": null,
   "metadata": {},
   "outputs": [
    {
     "name": "stderr",
     "output_type": "stream",
     "text": [
      "\n",
      "KeyboardInterrupt\n",
      "\n"
     ]
    }
   ],
   "source": [
    "from lattices import Lattice, run_lattice_tests\n",
    "\n",
    "# Run tests for different configurations\n",
    "# run_lattice_tests(dim=1, lx=10, ly=1, lz=1, bc=lattices.LatticeBC.PBC, typek=\"square\")\n",
    "# run_lattice_tests(dim=2, lx=5, ly=3, lz=1, bc=lattices.LatticeBC.PBC, typek=\"square\")\n",
    "# run_lattice_tests(dim=2, lx=5, ly=5, lz=1, bc=lattices.LatticeBC.OBC, typek=\"square\")\n",
    "# run_lattice_tests(dim=3, lx=3, ly=3, lz=3, bc=lattices.LatticeBC.PBC, typek=\"square\")\n",
    "run_lattice_tests(dim=2, lx=3, ly=2, lz=1, bc=lattices.LatticeBC.PBC, typek=\"honeycomb\")"
   ]
  },
  {
   "cell_type": "code",
   "execution_count": null,
   "metadata": {},
   "outputs": [
    {
     "name": "stdout",
     "output_type": "stream",
     "text": [
      "0.0 0.0\n",
      "Ns= 0 -- (x,y)= 0 0\n",
      "0.8660254037844386 0.5\n",
      "Ns= 1 -- (x,y)= 0 0\n",
      "1.7320508075688772 0.0\n",
      "Ns= 2 -- (x,y)= 1 0\n",
      "2.598076211353316 0.5\n",
      "Ns= 3 -- (x,y)= 1 0\n",
      "3.4641016151377544 0.0\n",
      "Ns= 4 -- (x,y)= 2 0\n",
      "6.06217782649107 0.5\n",
      "Ns= 5 -- (x,y)= 2 0\n",
      "5.196152422706632 0.0\n",
      "Ns= 6 -- (x,y)= 3 0\n",
      "11.258330249197702 0.5\n",
      "Ns= 7 -- (x,y)= 3 0\n",
      "0.8660254037844386 1.5\n",
      "Ns= 8 -- (x,y)= 0 1\n",
      "12.12435565298214 2.0\n",
      "Ns= 9 -- (x,y)= 0 1\n",
      "2.598076211353316 1.5\n",
      "Ns= 10 -- (x,y)= 1 1\n",
      "14.722431864335457 3.5\n",
      "Ns= 11 -- (x,y)= 1 1\n",
      "4.330127018922193 1.5\n",
      "Ns= 12 -- (x,y)= 2 1\n",
      "19.05255888325765 5.0\n",
      "Ns= 13 -- (x,y)= 2 1\n",
      "6.06217782649107 1.5\n",
      "Ns= 14 -- (x,y)= 3 1\n",
      "25.11473670974872 6.5\n",
      "Ns= 15 -- (x,y)= 3 1\n"
     ]
    },
    {
     "data": {
      "text/plain": [
       "<matplotlib.patches.FancyArrow at 0x16ccd9160>"
      ]
     },
     "execution_count": 41,
     "metadata": {},
     "output_type": "execute_result"
    },
    {
     "data": {
      "image/png": "[encoded data removed]",
      "text/plain": [
       "<Figure size 800x800 with 1 Axes>"
      ]
     },
     "metadata": {},
     "output_type": "display_data"
    }
   ],
   "source": [
    "import numpy as np \n",
    "import matplotlib.pyplot as plt\n",
    "\n",
    "plt.figure(figsize=(8,8))\n",
    "\n",
    "a = 1\n",
    "b = 1\n",
    "c = 1\n",
    "\n",
    "Lx = 4\n",
    "Ly = 2\n",
    "Ns = 2 * Lx * Ly\n",
    "\n",
    "_a1 = np.array([np.sqrt(3) * a / 2.0, 3 * a / 2.0, 0])\n",
    "_a2 = np.array([np.sqrt(3) * a / 2.0, -3 * a / 2.0, 0])\n",
    "_a3 = np.array([0, 0, c])\n",
    "\n",
    "\n",
    "\n",
    "coords      = []\n",
    "move_vector = _a1 - np.array([0, a, 0])\n",
    "for i in range(Ns):\n",
    "    # get the unit cell on a square lattic\n",
    "    x = (i // 2) % Lx\n",
    "    y = ((i//2) // Lx) % Ly\n",
    "    \n",
    "    # from coorditates to position on the lattice\n",
    "    xy = np.array([0., 0, 0]) if i % 2 == 0 else move_vector\n",
    "    xy += x * (_a1 + _a2) + y * _a1\n",
    "    xp, yp = xy[0], xy[1]\n",
    "    print(xp, yp)\n",
    "    plt.scatter(xp, yp, color='red' if i % 2 == 0 else 'blue', marker='o', s=100, facecolor='none')\n",
    "    plt.text(xp + 0.1, yp + 0.1, i)\n",
    "    \n",
    "    print(\"Ns=\", i, \"-- (x,y)=\", x, y)\n",
    "\n",
    "\n",
    "plt.arrow(0, 0, _a1[0], _a1[1], head_width=0.1, head_length=0.1, fc='r', ec='r')\n",
    "plt.arrow(0, 0, _a2[0], _a2[1], head_width=0.1, head_length=0.1, fc='b', ec='b')\n",
    "# plt.arrow(0, 0, _a1[0] - _a2[0], _a1[1] - _a2[1], head_width=0.1, head_length=0.1, fc='g', ec='g')\n",
    "# plt.arrow(0, 0, _a1[0] + _a2[0], _a1[1] + _a2[1], head_width=0.1, head_length=0.1, fc='y', ec='y')\n",
    "# plt.arrow(0, 0, -_a1[0] + _a2[0], -_a1[1] + _a2[1], head_width=0.1, head_length=0.1, fc='m', ec='m')\n",
    "# plt.arrow(0, 0, -_a1[0] - _a2[0], -_a1[1] - _a2[1], head_width=0.1, head_length=0.1, fc='c', ec='c')\n"
   ]
  },
  {
   "cell_type": "code",
   "execution_count": null,
   "metadata": {},
   "outputs": [],
   "source": []
  }
 ],
 "metadata": {
  "kernelspec": {
   "display_name": "base",
   "language": "python",
   "name": "python3"
  },
  "language_info": {
   "codemirror_mode": {
    "name": "ipython",
    "version": 3
   },
   "file_extension": ".py",
   "mimetype": "text/x-python",
   "name": "python",
   "nbconvert_exporter": "python",
   "pygments_lexer": "ipython3",
   "version": "3.12.2"
  }
 },
 "nbformat": 4,
 "nbformat_minor": 2
}
