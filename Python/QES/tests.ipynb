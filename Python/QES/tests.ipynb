{
 "cells": [
  {
   "cell_type": "code",
   "execution_count": 1,
   "metadata": {},
   "outputs": [],
   "source": [
    "import sys\n",
    "import os\n",
    "\n",
    "# Add the parent directory (project root) to sys.path\n",
    "project_root = os.path.abspath(os.path.join(os.getcwd(), \"../..\"))\n",
    "if project_root not in sys.path:\n",
    "    sys.path.insert(0, project_root)"
   ]
  },
  {
   "cell_type": "code",
   "execution_count": 2,
   "metadata": {},
   "outputs": [
    {
     "name": "stdout",
     "output_type": "stream",
     "text": [
      "=== Backend Initialization ===\n",
      "\tNumPy Version: 1.26.4\n",
      "\tSciPy Version: 1.13.1\n",
      "\tJAX Version: 2023.12\n",
      "\tActive Backend: jax\n",
      "\tJAX Available: True\n",
      "\tDefault Random Key: [    0 12345]\n",
      "\tActive Backend Modules:\n",
      "\t\t  Main Module: <module 'jax.numpy' from '/Users/makskliczkowski/miniconda3/lib/python3.12/site-packages/jax/numpy/__init__.py'>\n",
      "\t\t  Random Module: <module 'jax.random' from '/Users/makskliczkowski/miniconda3/lib/python3.12/site-packages/jax/random.py'>\n",
      "\t\t  SciPy Module: <module 'jax.scipy' from '/Users/makskliczkowski/miniconda3/lib/python3.12/site-packages/jax/scipy/__init__.py'>\n",
      "=== End of Backend Info ===\n"
     ]
    }
   ],
   "source": [
    "from general_python import algebra"
   ]
  },
  {
   "cell_type": "markdown",
   "metadata": {},
   "source": [
    "# Models"
   ]
  },
  {
   "cell_type": "markdown",
   "metadata": {},
   "source": [
    "## Quantum Sun Model"
   ]
  },
  {
   "cell_type": "code",
   "execution_count": 1,
   "metadata": {},
   "outputs": [
    {
     "name": "stdout",
     "output_type": "stream",
     "text": [
      "=== Backend Initialization ===\n",
      "\tNumPy Version: 1.26.4\n",
      "\tSciPy Version: 1.13.1\n",
      "\tJAX Version: 2023.12\n",
      "\tActive Backend: jax\n",
      "\tJAX Available: True\n",
      "\tDefault Random Key: [    0 12345]\n",
      "\tActive Backend Modules:\n",
      "\t\t  Main Module: <module 'jax.numpy' from '/Users/makskliczkowski/miniconda3/lib/python3.12/site-packages/jax/numpy/__init__.py'>\n",
      "\t\t  Random Module: <module 'jax.random' from '/Users/makskliczkowski/miniconda3/lib/python3.12/site-packages/jax/random.py'>\n",
      "\t\t  SciPy Module: <module 'jax.scipy' from '/Users/makskliczkowski/miniconda3/lib/python3.12/site-packages/jax/scipy/__init__.py'>\n",
      "=== End of Backend Info ===\n"
     ]
    },
    {
     "name": "stderr",
     "output_type": "stream",
     "text": [
      "01_03_2025_12-52_57 [INFO] Log file created: ./log/global.log\n",
      "01_03_2025_12-52_57 [INFO] Log level set to: info\n",
      "01_03_2025_12-52_57 [INFO] ########### Global logger initialized. ###########\n",
      "01_03_2025_12-52_57 [INFO] \t->\u001b[32m[HilbertSpace] No local or global symmetries provided; symmetry group is empty.\u001b[0m\n",
      "01_03_2025_12-52_57 [INFO] \t->\u001b[32m[HilbertSpace] No mapping generated.\u001b[0m\n",
      "01_03_2025_12-52_57 [INFO] \t->\u001b[0m[Quantum Sun Model] alpha = [0.800, 0.800, 0.800, 0.800, 0.800, 0.800]\u001b[0m\n",
      "01_03_2025_12-52_57 [INFO] \t\t->\u001b[0m[Quantum Sun Model] u = [1.000, 0.857, 1.822, 3.151, 3.844, 4.940]\u001b[0m\n",
      "01_03_2025_12-52_57 [INFO] \t\t->\u001b[0m[Quantum Sun Model] alpha^u = [0.800, 0.826, 0.666, 0.495, 0.424, 0.332]\u001b[0m\n",
      "01_03_2025_12-52_58 [INFO] \t\t->\u001b[0m[Quantum Sun Model] H_dot norm: 1.761e+00\u001b[0m\n"
     ]
    },
    {
     "data": {
      "text/plain": [
       ",qsm,Ns=9,N=3,gamm=1.00,g0=1.00,alpha=0.800,h=1.000,xi=0.200"
      ]
     },
     "execution_count": 1,
     "metadata": {},
     "output_type": "execute_result"
    }
   ],
   "source": [
    "from Algebra.Model.Interacting.Spin.qsm import QSM\n",
    "\n",
    "qsm=QSM(ns=9, hilbert_space=None, n=3, a=0.8, h=1.0, xi=0.2, backend = 'jax', dtype='float64')\n",
    "qsm"
   ]
  },
  {
   "cell_type": "markdown",
   "metadata": {},
   "source": [
    "#### Build"
   ]
  },
  {
   "cell_type": "markdown",
   "metadata": {},
   "source": [
    "##### Sparse"
   ]
  },
  {
   "cell_type": "code",
   "execution_count": 2,
   "metadata": {},
   "outputs": [
    {
     "name": "stderr",
     "output_type": "stream",
     "text": [
      "01_03_2025_12-53_00 [INFO] \t->\u001b[0m[Quantum Sun Model] Building the Hamiltonian matrix...\u001b[0m\n",
      "01_03_2025_12-53_00 [INFO] \t\t->\u001b[0m[Quantum Sun Model] Initializing the Hamiltonian matrix...\u001b[0m\n",
      "01_03_2025_12-53_00 [INFO] \t\t\t->\u001b[0m[Quantum Sun Model] JAX is available but NumPy is forced...\u001b[0m\n",
      "01_03_2025_12-53_00 [INFO] \t\t\t->\u001b[0m[Quantum Sun Model] Initializing the Hamiltonian matrix as a sparse matrix...\u001b[0m\n",
      "01_03_2025_12-53_00 [INFO] \t\t\t->\u001b[0m[Quantum Sun Model] Initializing the Hamiltonian matrix as a CSR sparse matrix...\u001b[0m\n",
      "01_03_2025_12-53_00 [INFO] \t\t\t->\u001b[32m[Quantum Sun Model] Hamiltonian matrix initialized.\u001b[0m\n",
      "01_03_2025_12-53_00 [INFO] \t\t->\u001b[0m[Quantum Sun Model] Initialization completed in 0.002050 seconds\u001b[0m\n",
      "01_03_2025_12-53_00 [INFO] \t\t->\u001b[0m[Quantum Sun Model] QSM: alpha=0.800, xi=0.200\u001b[0m\n",
      "01_03_2025_12-53_00 [INFO] \t\t\t->\u001b[0m[Quantum Sun Model] QSM: i=0 -> h=1.000e+00, a^u=8.000e-01\u001b[0m\n",
      "01_03_2025_12-53_00 [INFO] \t\t\t->\u001b[0m[Quantum Sun Model] QSM: i=1 -> h=1.000e+00, a^u=8.260e-01\u001b[0m\n",
      "01_03_2025_12-53_00 [INFO] \t\t\t->\u001b[0m[Quantum Sun Model] QSM: i=2 -> h=1.000e+00, a^u=6.659e-01\u001b[0m\n",
      "01_03_2025_12-53_00 [INFO] \t\t\t->\u001b[0m[Quantum Sun Model] QSM: i=3 -> h=1.000e+00, a^u=4.951e-01\u001b[0m\n",
      "01_03_2025_12-53_00 [INFO] \t\t\t->\u001b[0m[Quantum Sun Model] QSM: i=4 -> h=1.000e+00, a^u=4.242e-01\u001b[0m\n",
      "01_03_2025_12-53_00 [INFO] \t\t\t->\u001b[0m[Quantum Sun Model] QSM: i=5 -> h=1.000e+00, a^u=3.321e-01\u001b[0m\n",
      "01_03_2025_12-53_00 [INFO] \t->\u001b[34m[Quantum Sun Model] Calculating the sparse Hamiltonian matrix...\u001b[0m\n",
      "01_03_2025_12-53_00 [INFO] \t\t->\u001b[0m[Quantum Sun Model] Calculating the Hamiltonian matrix using NumPy...\u001b[0m\n",
      "01_03_2025_12-53_00 [INFO] \t\t\t->\u001b[32m[Quantum Sun Model] Hamiltonian matrix calculated and valid.\u001b[0m\n",
      "01_03_2025_12-53_00 [INFO] \t->\u001b[0m[Quantum Sun Model] Hamiltonian matrix built in 0.023338 seconds.\u001b[0m\n"
     ]
    }
   ],
   "source": [
    "qsm.build(verbose=True, use_numpy=True)"
   ]
  },
  {
   "cell_type": "code",
   "execution_count": 3,
   "metadata": {},
   "outputs": [
    {
     "name": "stderr",
     "output_type": "stream",
     "text": [
      "01_03_2025_12-53_03 [INFO] \t->\u001b[0m[Quantum Sun Model] Checking the memory used by the Hamiltonian matrix of type <class 'scipy.sparse._csr.csr_matrix'>\u001b[0m\n",
      "01_03_2025_12-53_03 [INFO] \t\t->\u001b[0m[Quantum Sun Model] It is not a dense matrix...\u001b[0m\n"
     ]
    },
    {
     "data": {
      "text/plain": [
       "8.0108642578125e-05"
      ]
     },
     "execution_count": 3,
     "metadata": {},
     "output_type": "execute_result"
    }
   ],
   "source": [
    "qsm.memory_gb"
   ]
  },
  {
   "cell_type": "code",
   "execution_count": 4,
   "metadata": {},
   "outputs": [
    {
     "name": "stderr",
     "output_type": "stream",
     "text": [
      "01_03_2025_12-53_04 [INFO] \u001b[0m[Quantum Sun Model] Diagonalization (standard) completed in 0.088146 seconds.\u001b[0m\n"
     ]
    }
   ],
   "source": [
    "qsm.diagonalize(verbose=True)"
   ]
  },
  {
   "cell_type": "markdown",
   "metadata": {},
   "source": [
    "##### Dense"
   ]
  },
  {
   "cell_type": "code",
   "execution_count": 5,
   "metadata": {},
   "outputs": [
    {
     "name": "stderr",
     "output_type": "stream",
     "text": [
      "01_03_2025_12-53_06 [INFO] \t->\u001b[0m[Quantum Sun Model] Converting the Hamiltonian matrix to a dense matrix... Run build...\u001b[0m\n",
      "01_03_2025_12-53_06 [INFO] \t\t->\u001b[34m[Quantum Sun Model] Hamiltonian cleared...\u001b[0m\n"
     ]
    }
   ],
   "source": [
    "qsm.to_dense()"
   ]
  },
  {
   "cell_type": "code",
   "execution_count": 6,
   "metadata": {},
   "outputs": [
    {
     "name": "stderr",
     "output_type": "stream",
     "text": [
      "01_03_2025_12-53_09 [INFO] \t->\u001b[0m[Quantum Sun Model] Building the Hamiltonian matrix...\u001b[0m\n",
      "01_03_2025_12-53_09 [INFO] \t\t->\u001b[0m[Quantum Sun Model] Initializing the Hamiltonian matrix...\u001b[0m\n",
      "01_03_2025_12-53_09 [INFO] \t\t\t->\u001b[0m[Quantum Sun Model] JAX is available but NumPy is forced...\u001b[0m\n",
      "01_03_2025_12-53_09 [INFO] \t\t\t->\u001b[0m[Quantum Sun Model] Initializing the Hamiltonian matrix as a dense matrix...\u001b[0m\n",
      "01_03_2025_12-53_09 [INFO] \t\t\t->\u001b[32m[Quantum Sun Model] Hamiltonian matrix initialized.\u001b[0m\n",
      "01_03_2025_12-53_09 [INFO] \t\t->\u001b[0m[Quantum Sun Model] Initialization completed in 0.001956 seconds\u001b[0m\n",
      "01_03_2025_12-53_09 [INFO] \t\t->\u001b[0m[Quantum Sun Model] QSM: alpha=0.800, xi=0.200\u001b[0m\n",
      "01_03_2025_12-53_09 [INFO] \t\t\t->\u001b[0m[Quantum Sun Model] QSM: i=0 -> h=1.000e+00, a^u=8.000e-01\u001b[0m\n",
      "01_03_2025_12-53_09 [INFO] \t\t\t->\u001b[0m[Quantum Sun Model] QSM: i=1 -> h=1.000e+00, a^u=8.260e-01\u001b[0m\n",
      "01_03_2025_12-53_09 [INFO] \t\t\t->\u001b[0m[Quantum Sun Model] QSM: i=2 -> h=1.000e+00, a^u=6.659e-01\u001b[0m\n",
      "01_03_2025_12-53_09 [INFO] \t\t\t->\u001b[0m[Quantum Sun Model] QSM: i=3 -> h=1.000e+00, a^u=4.951e-01\u001b[0m\n",
      "01_03_2025_12-53_09 [INFO] \t\t\t->\u001b[0m[Quantum Sun Model] QSM: i=4 -> h=1.000e+00, a^u=4.242e-01\u001b[0m\n",
      "01_03_2025_12-53_09 [INFO] \t\t\t->\u001b[0m[Quantum Sun Model] QSM: i=5 -> h=1.000e+00, a^u=3.321e-01\u001b[0m\n",
      "01_03_2025_12-53_09 [INFO] \t->\u001b[34m[Quantum Sun Model] Calculating the dense Hamiltonian matrix...\u001b[0m\n",
      "01_03_2025_12-53_09 [INFO] \t\t->\u001b[0m[Quantum Sun Model] Calculating the Hamiltonian matrix using NumPy...\u001b[0m\n",
      "01_03_2025_12-53_09 [INFO] \t\t\t->\u001b[32m[Quantum Sun Model] Hamiltonian matrix calculated and valid.\u001b[0m\n",
      "01_03_2025_12-53_09 [INFO] \t->\u001b[0m[Quantum Sun Model] Hamiltonian matrix built in 0.027522 seconds.\u001b[0m\n"
     ]
    }
   ],
   "source": [
    "qsm.build(verbose=True, use_numpy=True)"
   ]
  },
  {
   "cell_type": "code",
   "execution_count": 7,
   "metadata": {},
   "outputs": [
    {
     "name": "stderr",
     "output_type": "stream",
     "text": [
      "01_03_2025_12-53_12 [INFO] \u001b[0m[Quantum Sun Model] Diagonalization (standard) completed in 0.190281 seconds.\u001b[0m\n"
     ]
    }
   ],
   "source": [
    "qsm.diagonalize(verbose=True)"
   ]
  },
  {
   "cell_type": "code",
   "execution_count": 8,
   "metadata": {},
   "outputs": [
    {
     "name": "stderr",
     "output_type": "stream",
     "text": [
      "01_03_2025_12-53_16 [INFO] \t->\u001b[0m[Quantum Sun Model] Checking the memory used by the Hamiltonian matrix of type <class 'numpy.matrix'>\u001b[0m\n"
     ]
    },
    {
     "data": {
      "text/plain": [
       "0.001953125"
      ]
     },
     "execution_count": 8,
     "metadata": {},
     "output_type": "execute_result"
    }
   ],
   "source": [
    "qsm.h_memory_gb"
   ]
  },
  {
   "cell_type": "markdown",
   "metadata": {},
   "source": [
    "##### Plot tests"
   ]
  },
  {
   "cell_type": "code",
   "execution_count": 9,
   "metadata": {},
   "outputs": [
    {
     "data": {
      "text/plain": [
       "(array([-3.85803194e+00, -3.65079666e+00, -3.40773599e+00, -3.24452963e+00,\n",
       "        -3.04086814e+00, -3.02166213e+00, -2.86740651e+00, -2.84814573e+00,\n",
       "        -2.83858731e+00, -2.83542566e+00, -2.81439586e+00, -2.77151833e+00,\n",
       "        -2.67099219e+00, -2.64021803e+00, -2.63033748e+00, -2.62077514e+00,\n",
       "        -2.60457999e+00, -2.57429654e+00, -2.56132332e+00, -2.41828482e+00,\n",
       "        -2.38644453e+00, -2.38003357e+00, -2.36541260e+00, -2.34168164e+00,\n",
       "        -2.31305566e+00, -2.28729825e+00, -2.23031537e+00, -2.22055493e+00,\n",
       "        -2.21168110e+00, -2.19193654e+00, -2.16515923e+00, -2.07109368e+00,\n",
       "        -2.03285210e+00, -2.02231144e+00, -2.01741659e+00, -2.00513058e+00,\n",
       "        -2.00243869e+00, -1.99141086e+00, -1.98466387e+00, -1.95426764e+00,\n",
       "        -1.94659007e+00, -1.93707604e+00, -1.90070636e+00, -1.88934184e+00,\n",
       "        -1.85566590e+00, -1.83329706e+00, -1.82958555e+00, -1.82683650e+00,\n",
       "        -1.82359445e+00, -1.81014889e+00, -1.80416635e+00, -1.79817946e+00,\n",
       "        -1.78222408e+00, -1.77548135e+00, -1.76029168e+00, -1.75649610e+00,\n",
       "        -1.74471025e+00, -1.73845714e+00, -1.71120147e+00, -1.68229095e+00,\n",
       "        -1.66048295e+00, -1.65362247e+00, -1.64981349e+00, -1.63529239e+00,\n",
       "        -1.61167093e+00, -1.60971846e+00, -1.60362859e+00, -1.59770446e+00,\n",
       "        -1.59025020e+00, -1.58176900e+00, -1.56872615e+00, -1.56410871e+00,\n",
       "        -1.56062993e+00, -1.55573856e+00, -1.55452446e+00, -1.54475705e+00,\n",
       "        -1.54377108e+00, -1.52902394e+00, -1.51328058e+00, -1.47737933e+00,\n",
       "        -1.40270124e+00, -1.38883851e+00, -1.38242093e+00, -1.37592203e+00,\n",
       "        -1.35896038e+00, -1.35146216e+00, -1.34286822e+00, -1.33109679e+00,\n",
       "        -1.32615946e+00, -1.31826757e+00, -1.31198608e+00, -1.30238981e+00,\n",
       "        -1.29144684e+00, -1.28646756e+00, -1.27038195e+00, -1.26616989e+00,\n",
       "        -1.25866431e+00, -1.25556342e+00, -1.23982093e+00, -1.22667343e+00,\n",
       "        -1.20527354e+00, -1.19782013e+00, -1.19373284e+00, -1.18606187e+00,\n",
       "        -1.17667335e+00, -1.16265798e+00, -1.15398389e+00, -1.14986446e+00,\n",
       "        -1.13980673e+00, -1.12528828e+00, -1.08586726e+00, -1.06215940e+00,\n",
       "        -1.05850417e+00, -1.04551118e+00, -1.03396751e+00, -1.01545869e+00,\n",
       "        -9.99563639e-01, -9.96759124e-01, -9.93491697e-01, -9.90005888e-01,\n",
       "        -9.89203335e-01, -9.80336859e-01, -9.72274946e-01, -9.67178437e-01,\n",
       "        -9.58174489e-01, -9.41668068e-01, -9.40948373e-01, -9.32934638e-01,\n",
       "        -9.30669813e-01, -9.27702825e-01, -9.25713209e-01, -9.23740777e-01,\n",
       "        -9.13044809e-01, -9.04602996e-01, -9.02839162e-01, -8.80401673e-01,\n",
       "        -8.76534866e-01, -8.70385950e-01, -8.58771745e-01, -8.57603156e-01,\n",
       "        -8.53944980e-01, -8.40816729e-01, -8.29810426e-01, -8.27734397e-01,\n",
       "        -8.25397929e-01, -8.12422183e-01, -8.10049085e-01, -7.97904717e-01,\n",
       "        -7.93779209e-01, -7.90522046e-01, -7.76593676e-01, -7.63943415e-01,\n",
       "        -7.60163154e-01, -7.56792834e-01, -7.50169680e-01, -7.48021146e-01,\n",
       "        -7.38832973e-01, -7.32475749e-01, -7.27855978e-01, -7.22157182e-01,\n",
       "        -7.09856849e-01, -7.06476870e-01, -6.95568187e-01, -6.89633295e-01,\n",
       "        -6.75990186e-01, -6.66902274e-01, -6.62751503e-01, -6.46948469e-01,\n",
       "        -6.46160863e-01, -6.36072446e-01, -6.32861120e-01, -6.31974534e-01,\n",
       "        -6.30797850e-01, -6.26348040e-01, -6.10263383e-01, -6.00589894e-01,\n",
       "        -5.96759287e-01, -5.85466117e-01, -5.81133582e-01, -5.79368111e-01,\n",
       "        -5.73508030e-01, -5.63723625e-01, -5.61387603e-01, -5.60798675e-01,\n",
       "        -5.47433153e-01, -5.40083394e-01, -5.39858154e-01, -5.33797027e-01,\n",
       "        -5.32906256e-01, -5.29261208e-01, -5.23796001e-01, -5.23214021e-01,\n",
       "        -5.15478826e-01, -5.11508704e-01, -5.02575071e-01, -5.01055516e-01,\n",
       "        -4.76301248e-01, -4.74092599e-01, -4.72321433e-01, -4.64793725e-01,\n",
       "        -4.40003615e-01, -3.85647925e-01, -3.80751710e-01, -3.73340750e-01,\n",
       "        -3.61182448e-01, -3.55276379e-01, -3.44211052e-01, -3.34875283e-01,\n",
       "        -3.20320771e-01, -3.15259832e-01, -3.13394922e-01, -3.03795369e-01,\n",
       "        -3.01493695e-01, -2.94277666e-01, -2.89374874e-01, -2.84409298e-01,\n",
       "        -2.76008642e-01, -2.72279102e-01, -2.61726890e-01, -2.58941146e-01,\n",
       "        -2.53411774e-01, -2.46435432e-01, -2.44596592e-01, -2.40177986e-01,\n",
       "        -2.30578423e-01, -2.28691257e-01, -2.22768858e-01, -2.19441099e-01,\n",
       "        -2.14229012e-01, -2.07360622e-01, -1.95175733e-01, -1.77959782e-01,\n",
       "        -1.73564949e-01, -1.72344561e-01, -1.62284887e-01, -1.54053579e-01,\n",
       "        -1.43413425e-01, -1.39777324e-01, -1.31406809e-01, -1.21919502e-01,\n",
       "        -1.11223757e-01, -1.07917503e-01, -9.51489151e-02, -7.65152155e-02,\n",
       "        -6.27141984e-02, -4.86530847e-02, -4.20781228e-02, -3.59853410e-02,\n",
       "        -3.19954795e-02, -2.68996654e-02, -1.45868214e-02,  1.34427527e-03,\n",
       "         1.49371120e-02,  1.91514613e-02,  1.97292674e-02,  2.28514563e-02,\n",
       "         3.14457897e-02,  4.39360730e-02,  4.74738885e-02,  5.00027392e-02,\n",
       "         5.70121039e-02,  7.37926839e-02,  7.96017292e-02,  8.15078393e-02,\n",
       "         8.51284539e-02,  8.59722681e-02,  9.02025555e-02,  9.91322341e-02,\n",
       "         1.03158930e-01,  1.05650974e-01,  1.09255655e-01,  1.13682074e-01,\n",
       "         1.31084269e-01,  1.44025615e-01,  1.50909393e-01,  1.58451885e-01,\n",
       "         1.68756045e-01,  1.71138114e-01,  1.71707558e-01,  1.77062382e-01,\n",
       "         1.80882064e-01,  1.85899329e-01,  1.91331899e-01,  1.95555604e-01,\n",
       "         1.98419613e-01,  2.03885276e-01,  2.08334259e-01,  2.11965242e-01,\n",
       "         2.12844091e-01,  2.14816717e-01,  2.16191308e-01,  2.22514146e-01,\n",
       "         2.25739793e-01,  2.39136177e-01,  2.43424240e-01,  2.49136675e-01,\n",
       "         2.58432916e-01,  2.64376303e-01,  2.75751625e-01,  2.79106285e-01,\n",
       "         2.83285924e-01,  2.87744515e-01,  3.05441264e-01,  3.15473590e-01,\n",
       "         3.23025262e-01,  3.28132688e-01,  3.38033136e-01,  3.44772912e-01,\n",
       "         3.54842856e-01,  3.65060663e-01,  3.71605341e-01,  3.72026563e-01,\n",
       "         3.75002696e-01,  3.81634953e-01,  3.89567993e-01,  3.94509579e-01,\n",
       "         3.97994741e-01,  4.03364127e-01,  4.18820817e-01,  4.25005986e-01,\n",
       "         4.28295998e-01,  4.31112088e-01,  4.32852666e-01,  4.41624695e-01,\n",
       "         4.42876265e-01,  4.51147226e-01,  4.54602040e-01,  4.59451588e-01,\n",
       "         4.67302720e-01,  4.67791985e-01,  4.76788943e-01,  4.81696327e-01,\n",
       "         4.82986710e-01,  4.89358590e-01,  4.90663402e-01,  5.03704497e-01,\n",
       "         5.07714425e-01,  5.14229235e-01,  5.21295174e-01,  5.38199574e-01,\n",
       "         5.45854684e-01,  5.46590588e-01,  5.49860500e-01,  5.61762322e-01,\n",
       "         5.64336351e-01,  5.73622840e-01,  6.27759580e-01,  6.32525317e-01,\n",
       "         6.38318764e-01,  6.65831694e-01,  6.72418557e-01,  6.77171786e-01,\n",
       "         6.78658824e-01,  7.04578445e-01,  7.10344607e-01,  7.20469204e-01,\n",
       "         7.30317417e-01,  7.34439877e-01,  7.38583395e-01,  7.44705512e-01,\n",
       "         7.54648128e-01,  7.65899807e-01,  7.71004121e-01,  7.73254920e-01,\n",
       "         7.84196412e-01,  7.88615539e-01,  7.88866987e-01,  7.92419521e-01,\n",
       "         7.98743694e-01,  8.02497282e-01,  8.08496220e-01,  8.15906354e-01,\n",
       "         8.29064271e-01,  8.30027874e-01,  8.47872361e-01,  8.49347069e-01,\n",
       "         8.59699592e-01,  8.75574654e-01,  8.85735524e-01,  8.94772893e-01,\n",
       "         9.09306174e-01,  9.21179700e-01,  9.27370097e-01,  9.53910023e-01,\n",
       "         9.62071769e-01,  9.78664502e-01,  9.85226638e-01,  9.96244624e-01,\n",
       "         1.00529005e+00,  1.02456704e+00,  1.02965068e+00,  1.04087337e+00,\n",
       "         1.04649946e+00,  1.06121307e+00,  1.06507187e+00,  1.07489963e+00,\n",
       "         1.07894603e+00,  1.09599527e+00,  1.10385145e+00,  1.11631303e+00,\n",
       "         1.12405980e+00,  1.12893669e+00,  1.14037092e+00,  1.18248967e+00,\n",
       "         1.18810049e+00,  1.19572892e+00,  1.20263364e+00,  1.20603734e+00,\n",
       "         1.21080917e+00,  1.21988081e+00,  1.22660000e+00,  1.22974963e+00,\n",
       "         1.23225229e+00,  1.23498691e+00,  1.23880544e+00,  1.24074341e+00,\n",
       "         1.24579294e+00,  1.24947922e+00,  1.25960918e+00,  1.26859698e+00,\n",
       "         1.27224381e+00,  1.28007032e+00,  1.28153938e+00,  1.29768396e+00,\n",
       "         1.29890007e+00,  1.30912744e+00,  1.31161350e+00,  1.33804004e+00,\n",
       "         1.35785555e+00,  1.38714301e+00,  1.39031247e+00,  1.40510073e+00,\n",
       "         1.40730671e+00,  1.41247977e+00,  1.44388358e+00,  1.45088727e+00,\n",
       "         1.45371572e+00,  1.45784674e+00,  1.46638858e+00,  1.47444360e+00,\n",
       "         1.47870465e+00,  1.48647266e+00,  1.49681122e+00,  1.50295686e+00,\n",
       "         1.50863256e+00,  1.51626458e+00,  1.52438946e+00,  1.53949964e+00,\n",
       "         1.54099602e+00,  1.55231244e+00,  1.57272888e+00,  1.57855091e+00,\n",
       "         1.59048506e+00,  1.64417026e+00,  1.66414411e+00,  1.66618416e+00,\n",
       "         1.68780915e+00,  1.73660633e+00,  1.75663883e+00,  1.76225068e+00,\n",
       "         1.76689264e+00,  1.78029153e+00,  1.79048082e+00,  1.79358118e+00,\n",
       "         1.79887477e+00,  1.81926544e+00,  1.82148862e+00,  1.83389233e+00,\n",
       "         1.84249463e+00,  1.86241469e+00,  1.88896326e+00,  1.91278993e+00,\n",
       "         1.92372215e+00,  1.95085088e+00,  1.99512346e+00,  2.03224992e+00,\n",
       "         2.05960901e+00,  2.08482842e+00,  2.09421503e+00,  2.10674422e+00,\n",
       "         2.14263144e+00,  2.21764075e+00,  2.24679609e+00,  2.25345344e+00,\n",
       "         2.26313549e+00,  2.28321994e+00,  2.29222018e+00,  2.29748361e+00,\n",
       "         2.30493320e+00,  2.32218823e+00,  2.32787841e+00,  2.33783434e+00,\n",
       "         2.41805748e+00,  2.47910866e+00,  2.48662246e+00,  2.51971492e+00,\n",
       "         2.54489002e+00,  2.55558606e+00,  2.55948470e+00,  2.58468756e+00,\n",
       "         2.67471826e+00,  2.77641690e+00,  2.78989218e+00,  2.79947636e+00,\n",
       "         2.80993676e+00,  2.85942131e+00,  2.95141073e+00,  3.12079405e+00,\n",
       "         3.31850748e+00,  3.35046410e+00,  3.57336966e+00,  3.80835583e+00]),\n",
       " array([[-1.14493768e-01,  2.77065516e-01, -1.71676917e-01, ...,\n",
       "          5.67969639e-07,  8.64192137e-07,  6.20541259e-08],\n",
       "        [ 2.34015439e-02, -5.97444004e-03,  2.03549053e-02, ...,\n",
       "          1.81874906e-05,  2.16835378e-06, -1.93353795e-05],\n",
       "        [ 2.98186502e-02, -7.58023604e-03,  2.58246224e-02, ...,\n",
       "          1.42896515e-05,  1.71147488e-06, -1.51833909e-05],\n",
       "        ...,\n",
       "        [ 1.56794586e-05, -5.82583341e-06,  1.13647108e-05, ...,\n",
       "         -8.02289254e-03, -3.11801684e-02,  9.98555442e-03],\n",
       "        [ 1.99641171e-05, -7.40145426e-06,  1.44633093e-05, ...,\n",
       "         -6.31648275e-03, -2.44840322e-02,  7.84751683e-03],\n",
       "        [ 3.24650704e-07,  1.26610437e-06, -3.76634773e-06, ...,\n",
       "         -4.58598130e-01, -2.12879578e-01, -1.50502827e-01]]),\n",
       " (512, 512))"
      ]
     },
     "execution_count": 9,
     "metadata": {},
     "output_type": "execute_result"
    },
    {
     "data": {
      "image/png": "[encoded data removed]",
      "text/plain": [
       "<Figure size 350x262.5 with 1 Axes>"
      ]
     },
     "metadata": {},
     "output_type": "display_data"
    }
   ],
   "source": [
    "import matplotlib.pyplot as plt\n",
    "plt.plot(qsm.eig_val)\n",
    "qsm.eig_val, qsm.eig_vec, qsm.eig_vec.shape"
   ]
  },
  {
   "cell_type": "code",
   "execution_count": 11,
   "metadata": {},
   "outputs": [
    {
     "name": "stdout",
     "output_type": "stream",
     "text": [
      "Minimum value: -3.36565635001652\n",
      "Maximum value: 3.2832581112856243\n"
     ]
    },
    {
     "data": {
      "image/png": "[encoded data removed]",
      "text/plain": [
       "<Figure size 1000x800 with 2 Axes>"
      ]
     },
     "metadata": {},
     "output_type": "display_data"
    }
   ],
   "source": [
    "import numpy as np\n",
    "# make dense\n",
    "qsm_dense   = qsm.hamil.todense() if qsm.sparse else qsm.hamil\n",
    "minimum     = qsm_dense.min()\n",
    "maximum     = qsm_dense.max()\n",
    "qsm_dense   = np.abs(qsm_dense) / np.abs(qsm_dense).max()\n",
    "\n",
    "print(\"Minimum value:\", minimum)\n",
    "print(\"Maximum value:\", maximum)\n",
    "\n",
    "plt.figure(figsize=(10, 8))\n",
    "plt.imshow(qsm_dense, cmap='viridis')\n",
    "plt.colorbar()\n",
    "plt.title(\"Density Representation\")\n",
    "plt.show()"
   ]
  },
  {
   "cell_type": "code",
   "execution_count": null,
   "metadata": {},
   "outputs": [],
   "source": []
  },
  {
   "cell_type": "markdown",
   "metadata": {},
   "source": [
    "# Linear algebra"
   ]
  },
  {
   "cell_type": "code",
   "execution_count": null,
   "metadata": {},
   "outputs": [
    {
     "ename": "NameError",
     "evalue": "name 'algebra' is not defined",
     "output_type": "error",
     "traceback": [
      "\u001b[0;31m---------------------------------------------------------------------------\u001b[0m",
      "\u001b[0;31mNameError\u001b[0m                                 Traceback (most recent call last)",
      "Cell \u001b[0;32mIn[5], line 1\u001b[0m\n\u001b[0;32m----> 1\u001b[0m a \u001b[38;5;241m=\u001b[39m algebra\u001b[38;5;241m.\u001b[39mAlgebraTests(backend\u001b[38;5;241m=\u001b[39m\u001b[38;5;124m'\u001b[39m\u001b[38;5;124mjax\u001b[39m\u001b[38;5;124m'\u001b[39m)\n\u001b[1;32m      2\u001b[0m b \u001b[38;5;241m=\u001b[39m algebra\u001b[38;5;241m.\u001b[39mAlgebraTests(backend\u001b[38;5;241m=\u001b[39m\u001b[38;5;124m'\u001b[39m\u001b[38;5;124mnumpy\u001b[39m\u001b[38;5;124m'\u001b[39m)\n",
      "\u001b[0;31mNameError\u001b[0m: name 'algebra' is not defined"
     ]
    }
   ],
   "source": [
    "a = algebra.AlgebraTests(backend='jax')\n",
    "b = algebra.AlgebraTests(backend='numpy')"
   ]
  },
  {
   "cell_type": "markdown",
   "metadata": {},
   "source": [
    "## Standard tests"
   ]
  },
  {
   "cell_type": "markdown",
   "metadata": {},
   "source": [
    "### Change the basis with a unitary matrix"
   ]
  },
  {
   "cell_type": "code",
   "execution_count": null,
   "metadata": {},
   "outputs": [
    {
     "name": "stdout",
     "output_type": "stream",
     "text": [
      "[14/02/2025 02:19:50]\t->\u001b[34m[TEST 1] Starting change_basis\u001b[0m\n",
      "U=\n"
     ]
    },
    {
     "data": {
      "text/latex": [
       "$\\displaystyle \\left[\\begin{matrix}0 & 1\\\\1 & 0\\end{matrix}\\right]$"
      ],
      "text/plain": [
       "Matrix([\n",
       "[0, 1],\n",
       "[1, 0]])"
      ]
     },
     "metadata": {},
     "output_type": "display_data"
    },
    {
     "name": "stdout",
     "output_type": "stream",
     "text": [
      "vec=\n"
     ]
    },
    {
     "data": {
      "text/latex": [
       "$\\displaystyle \\left[\\begin{matrix}1\\\\0\\end{matrix}\\right]$"
      ],
      "text/plain": [
       "Matrix([\n",
       "[1],\n",
       "[0]])"
      ]
     },
     "metadata": {},
     "output_type": "display_data"
    },
    {
     "name": "stdout",
     "output_type": "stream",
     "text": [
      "tvec=\n"
     ]
    },
    {
     "data": {
      "text/latex": [
       "$\\displaystyle \\left[\\begin{matrix}0\\\\1\\end{matrix}\\right]$"
      ],
      "text/plain": [
       "Matrix([\n",
       "[0],\n",
       "[1]])"
      ]
     },
     "metadata": {},
     "output_type": "display_data"
    },
    {
     "name": "stdout",
     "output_type": "stream",
     "text": [
      "transformed_vec=\n"
     ]
    },
    {
     "data": {
      "text/latex": [
       "$\\displaystyle \\left[\\begin{matrix}0\\\\1\\end{matrix}\\right]$"
      ],
      "text/plain": [
       "Matrix([\n",
       "[0],\n",
       "[1]])"
      ]
     },
     "metadata": {},
     "output_type": "display_data"
    },
    {
     "name": "stdout",
     "output_type": "stream",
     "text": [
      "transformed_twice=\n"
     ]
    },
    {
     "data": {
      "text/latex": [
       "$\\displaystyle \\left[\\begin{matrix}1\\\\0\\end{matrix}\\right]$"
      ],
      "text/plain": [
       "Matrix([\n",
       "[1],\n",
       "[0]])"
      ]
     },
     "metadata": {},
     "output_type": "display_data"
    },
    {
     "name": "stdout",
     "output_type": "stream",
     "text": [
      "[14/02/2025 02:19:50]\t->\u001b[32m[TEST 1] Completed change_basis\u001b[0m\n",
      "[14/02/2025 02:19:50]\t->\u001b[34m[TEST 1] Starting change_basis\u001b[0m\n",
      "U=\n"
     ]
    },
    {
     "data": {
      "text/latex": [
       "$\\displaystyle \\left[\\begin{matrix}0 & 1\\\\1 & 0\\end{matrix}\\right]$"
      ],
      "text/plain": [
       "Matrix([\n",
       "[0, 1],\n",
       "[1, 0]])"
      ]
     },
     "metadata": {},
     "output_type": "display_data"
    },
    {
     "name": "stdout",
     "output_type": "stream",
     "text": [
      "vec=\n"
     ]
    },
    {
     "data": {
      "text/latex": [
       "$\\displaystyle \\left[\\begin{matrix}1\\\\0\\end{matrix}\\right]$"
      ],
      "text/plain": [
       "Matrix([\n",
       "[1],\n",
       "[0]])"
      ]
     },
     "metadata": {},
     "output_type": "display_data"
    },
    {
     "name": "stdout",
     "output_type": "stream",
     "text": [
      "tvec=\n"
     ]
    },
    {
     "data": {
      "text/latex": [
       "$\\displaystyle \\left[\\begin{matrix}0\\\\1\\end{matrix}\\right]$"
      ],
      "text/plain": [
       "Matrix([\n",
       "[0],\n",
       "[1]])"
      ]
     },
     "metadata": {},
     "output_type": "display_data"
    },
    {
     "name": "stdout",
     "output_type": "stream",
     "text": [
      "transformed_vec=\n"
     ]
    },
    {
     "data": {
      "text/latex": [
       "$\\displaystyle \\left[\\begin{matrix}0\\\\1\\end{matrix}\\right]$"
      ],
      "text/plain": [
       "Matrix([\n",
       "[0],\n",
       "[1]])"
      ]
     },
     "metadata": {},
     "output_type": "display_data"
    },
    {
     "name": "stdout",
     "output_type": "stream",
     "text": [
      "transformed_twice=\n"
     ]
    },
    {
     "data": {
      "text/latex": [
       "$\\displaystyle \\left[\\begin{matrix}1\\\\0\\end{matrix}\\right]$"
      ],
      "text/plain": [
       "Matrix([\n",
       "[1],\n",
       "[0]])"
      ]
     },
     "metadata": {},
     "output_type": "display_data"
    },
    {
     "name": "stdout",
     "output_type": "stream",
     "text": [
      "[14/02/2025 02:19:50]\t->\u001b[32m[TEST 1] Completed change_basis\u001b[0m\n"
     ]
    }
   ],
   "source": [
    "a.change_basis(verbose=True)\n",
    "b.change_basis(verbose=True)"
   ]
  },
  {
   "cell_type": "markdown",
   "metadata": {},
   "source": [
    "### Change the basis of a matrix with a unitary matrix"
   ]
  },
  {
   "cell_type": "code",
   "execution_count": null,
   "metadata": {},
   "outputs": [
    {
     "name": "stdout",
     "output_type": "stream",
     "text": [
      "[14/02/2025 02:19:55]\t->\u001b[34m[TEST 2] Starting change_basis_matrix\u001b[0m\n",
      "U=\n"
     ]
    },
    {
     "data": {
      "text/latex": [
       "$\\displaystyle \\left[\\begin{matrix}0 & 1\\\\1 & 0\\end{matrix}\\right]$"
      ],
      "text/plain": [
       "Matrix([\n",
       "[0, 1],\n",
       "[1, 0]])"
      ]
     },
     "metadata": {},
     "output_type": "display_data"
    },
    {
     "name": "stdout",
     "output_type": "stream",
     "text": [
      "A=\n"
     ]
    },
    {
     "data": {
      "text/latex": [
       "$\\displaystyle \\left[\\begin{matrix}1 & 2\\\\3 & 4\\end{matrix}\\right]$"
      ],
      "text/plain": [
       "Matrix([\n",
       "[1, 2],\n",
       "[3, 4]])"
      ]
     },
     "metadata": {},
     "output_type": "display_data"
    },
    {
     "name": "stdout",
     "output_type": "stream",
     "text": [
      "At=\n"
     ]
    },
    {
     "data": {
      "text/latex": [
       "$\\displaystyle \\left[\\begin{matrix}4 & 3\\\\2 & 1\\end{matrix}\\right]$"
      ],
      "text/plain": [
       "Matrix([\n",
       "[4, 3],\n",
       "[2, 1]])"
      ]
     },
     "metadata": {},
     "output_type": "display_data"
    },
    {
     "name": "stdout",
     "output_type": "stream",
     "text": [
      "transformed_matrix=\n"
     ]
    },
    {
     "data": {
      "text/latex": [
       "$\\displaystyle \\left[\\begin{matrix}4 & 3\\\\2 & 1\\end{matrix}\\right]$"
      ],
      "text/plain": [
       "Matrix([\n",
       "[4, 3],\n",
       "[2, 1]])"
      ]
     },
     "metadata": {},
     "output_type": "display_data"
    },
    {
     "name": "stdout",
     "output_type": "stream",
     "text": [
      "[14/02/2025 02:19:55]\t->\u001b[32m[TEST 2] Completed change_basis_matrix\u001b[0m\n"
     ]
    }
   ],
   "source": [
    "a.change_basis_matrix(verbose=True)"
   ]
  },
  {
   "cell_type": "markdown",
   "metadata": {},
   "source": [
    "### Outer product"
   ]
  },
  {
   "cell_type": "code",
   "execution_count": null,
   "metadata": {},
   "outputs": [
    {
     "name": "stdout",
     "output_type": "stream",
     "text": [
      "[14/02/2025 02:19:57]\t->\u001b[34m[TEST 3] Starting outer\u001b[0m\n",
      "A=\n"
     ]
    },
    {
     "data": {
      "text/latex": [
       "$\\displaystyle \\left[\\begin{matrix}1\\\\2\\end{matrix}\\right]$"
      ],
      "text/plain": [
       "Matrix([\n",
       "[1],\n",
       "[2]])"
      ]
     },
     "metadata": {},
     "output_type": "display_data"
    },
    {
     "name": "stdout",
     "output_type": "stream",
     "text": [
      "B=\n"
     ]
    },
    {
     "data": {
      "text/latex": [
       "$\\displaystyle \\left[\\begin{matrix}3\\\\4\\end{matrix}\\right]$"
      ],
      "text/plain": [
       "Matrix([\n",
       "[3],\n",
       "[4]])"
      ]
     },
     "metadata": {},
     "output_type": "display_data"
    },
    {
     "name": "stdout",
     "output_type": "stream",
     "text": [
      "outer_product= A ⊗ B\n"
     ]
    },
    {
     "data": {
      "text/latex": [
       "$\\displaystyle \\left[\\begin{matrix}3 & 4\\\\6 & 8\\end{matrix}\\right]$"
      ],
      "text/plain": [
       "Matrix([\n",
       "[3, 4],\n",
       "[6, 8]])"
      ]
     },
     "metadata": {},
     "output_type": "display_data"
    },
    {
     "name": "stdout",
     "output_type": "stream",
     "text": [
      "A_mat=\n"
     ]
    },
    {
     "data": {
      "text/latex": [
       "$\\displaystyle \\left[\\begin{matrix}1 & 2\\\\2 & 0\\end{matrix}\\right]$"
      ],
      "text/plain": [
       "Matrix([\n",
       "[1, 2],\n",
       "[2, 0]])"
      ]
     },
     "metadata": {},
     "output_type": "display_data"
    },
    {
     "name": "stdout",
     "output_type": "stream",
     "text": [
      "B_mat=\n"
     ]
    },
    {
     "data": {
      "text/latex": [
       "$\\displaystyle \\left[\\begin{matrix}3 & 4\\\\4 & 0\\end{matrix}\\right]$"
      ],
      "text/plain": [
       "Matrix([\n",
       "[3, 4],\n",
       "[4, 0]])"
      ]
     },
     "metadata": {},
     "output_type": "display_data"
    },
    {
     "name": "stdout",
     "output_type": "stream",
     "text": [
      "outer_product_mat= A_mat ⊗ B_mat\n"
     ]
    },
    {
     "data": {
      "text/latex": [
       "$\\displaystyle \\left[\\begin{matrix}3 & 4 & 4 & 0\\\\6 & 8 & 8 & 0\\\\6 & 8 & 8 & 0\\\\0 & 0 & 0 & 0\\end{matrix}\\right]$"
      ],
      "text/plain": [
       "Matrix([\n",
       "[3, 4, 4, 0],\n",
       "[6, 8, 8, 0],\n",
       "[6, 8, 8, 0],\n",
       "[0, 0, 0, 0]])"
      ]
     },
     "metadata": {},
     "output_type": "display_data"
    },
    {
     "name": "stdout",
     "output_type": "stream",
     "text": [
      "[14/02/2025 02:19:57]\t->\u001b[32m[TEST 3] Completed outer\u001b[0m\n",
      "[14/02/2025 02:19:57]\t->\u001b[34m[TEST 3] Starting outer\u001b[0m\n",
      "A=\n"
     ]
    },
    {
     "data": {
      "text/latex": [
       "$\\displaystyle \\left[\\begin{matrix}1\\\\2\\end{matrix}\\right]$"
      ],
      "text/plain": [
       "Matrix([\n",
       "[1],\n",
       "[2]])"
      ]
     },
     "metadata": {},
     "output_type": "display_data"
    },
    {
     "name": "stdout",
     "output_type": "stream",
     "text": [
      "B=\n"
     ]
    },
    {
     "data": {
      "text/latex": [
       "$\\displaystyle \\left[\\begin{matrix}3\\\\4\\end{matrix}\\right]$"
      ],
      "text/plain": [
       "Matrix([\n",
       "[3],\n",
       "[4]])"
      ]
     },
     "metadata": {},
     "output_type": "display_data"
    },
    {
     "name": "stdout",
     "output_type": "stream",
     "text": [
      "outer_product= A ⊗ B\n"
     ]
    },
    {
     "data": {
      "text/latex": [
       "$\\displaystyle \\left[\\begin{matrix}3 & 4\\\\6 & 8\\end{matrix}\\right]$"
      ],
      "text/plain": [
       "Matrix([\n",
       "[3, 4],\n",
       "[6, 8]])"
      ]
     },
     "metadata": {},
     "output_type": "display_data"
    },
    {
     "name": "stdout",
     "output_type": "stream",
     "text": [
      "A_mat=\n"
     ]
    },
    {
     "data": {
      "text/latex": [
       "$\\displaystyle \\left[\\begin{matrix}1 & 2\\\\2 & 0\\end{matrix}\\right]$"
      ],
      "text/plain": [
       "Matrix([\n",
       "[1, 2],\n",
       "[2, 0]])"
      ]
     },
     "metadata": {},
     "output_type": "display_data"
    },
    {
     "name": "stdout",
     "output_type": "stream",
     "text": [
      "B_mat=\n"
     ]
    },
    {
     "data": {
      "text/latex": [
       "$\\displaystyle \\left[\\begin{matrix}3 & 4\\\\4 & 0\\end{matrix}\\right]$"
      ],
      "text/plain": [
       "Matrix([\n",
       "[3, 4],\n",
       "[4, 0]])"
      ]
     },
     "metadata": {},
     "output_type": "display_data"
    },
    {
     "name": "stdout",
     "output_type": "stream",
     "text": [
      "outer_product_mat= A_mat ⊗ B_mat\n"
     ]
    },
    {
     "data": {
      "text/latex": [
       "$\\displaystyle \\left[\\begin{matrix}3 & 4 & 4 & 0\\\\6 & 8 & 8 & 0\\\\6 & 8 & 8 & 0\\\\0 & 0 & 0 & 0\\end{matrix}\\right]$"
      ],
      "text/plain": [
       "Matrix([\n",
       "[3, 4, 4, 0],\n",
       "[6, 8, 8, 0],\n",
       "[6, 8, 8, 0],\n",
       "[0, 0, 0, 0]])"
      ]
     },
     "metadata": {},
     "output_type": "display_data"
    },
    {
     "name": "stdout",
     "output_type": "stream",
     "text": [
      "[14/02/2025 02:19:57]\t->\u001b[32m[TEST 3] Completed outer\u001b[0m\n"
     ]
    }
   ],
   "source": [
    "a.outer(verbose=True)\n",
    "b.outer(verbose=True)"
   ]
  },
  {
   "cell_type": "markdown",
   "metadata": {},
   "source": [
    "### Kronecker product"
   ]
  },
  {
   "cell_type": "code",
   "execution_count": null,
   "metadata": {},
   "outputs": [
    {
     "name": "stdout",
     "output_type": "stream",
     "text": [
      "[10/02/2025 19:49:28]\t->[TEST 4] Starting kron\n",
      "A=\n"
     ]
    },
    {
     "data": {
      "text/latex": [
       "$\\displaystyle \\left[\\begin{matrix}1 & 2\\\\3 & 4\\end{matrix}\\right]$"
      ],
      "text/plain": [
       "Matrix([\n",
       "[1, 2],\n",
       "[3, 4]])"
      ]
     },
     "metadata": {},
     "output_type": "display_data"
    },
    {
     "name": "stdout",
     "output_type": "stream",
     "text": [
      "B=\n"
     ]
    },
    {
     "data": {
      "text/latex": [
       "$\\displaystyle \\left[\\begin{matrix}5 & 6\\\\7 & 8\\end{matrix}\\right]$"
      ],
      "text/plain": [
       "Matrix([\n",
       "[5, 6],\n",
       "[7, 8]])"
      ]
     },
     "metadata": {},
     "output_type": "display_data"
    },
    {
     "name": "stdout",
     "output_type": "stream",
     "text": [
      "kron_product= A ⊗ B\n"
     ]
    },
    {
     "data": {
      "text/latex": [
       "$\\displaystyle \\left[\\begin{matrix}5 & 6 & 10 & 12\\\\7 & 8 & 14 & 16\\\\15 & 18 & 20 & 24\\\\21 & 24 & 28 & 32\\end{matrix}\\right]$"
      ],
      "text/plain": [
       "Matrix([\n",
       "[ 5,  6, 10, 12],\n",
       "[ 7,  8, 14, 16],\n",
       "[15, 18, 20, 24],\n",
       "[21, 24, 28, 32]])"
      ]
     },
     "metadata": {},
     "output_type": "display_data"
    },
    {
     "name": "stdout",
     "output_type": "stream",
     "text": [
      "[10/02/2025 19:49:28]\t->[TEST 4] Completed kron\n"
     ]
    }
   ],
   "source": [
    "a.kron(verbose=True)"
   ]
  },
  {
   "cell_type": "markdown",
   "metadata": {},
   "source": [
    "## Linear solvers"
   ]
  },
  {
   "cell_type": "code",
   "execution_count": null,
   "metadata": {},
   "outputs": [],
   "source": [
    "a = algebra.SolversTests(backend='numpy')\n",
    "b = algebra.SolversTests(backend='jax')"
   ]
  },
  {
   "cell_type": "code",
   "execution_count": null,
   "metadata": {},
   "outputs": [
    {
     "name": "stdout",
     "output_type": "stream",
     "text": [
      "[TEST 0] Starting solver test using cg\n"
     ]
    },
    {
     "ename": "TypeError",
     "evalue": "random() got an unexpected keyword argument 'dtype'",
     "output_type": "error",
     "traceback": [
      "\u001b[0;31m---------------------------------------------------------------------------\u001b[0m",
      "\u001b[0;31mTypeError\u001b[0m                                 Traceback (most recent call last)",
      "Cell \u001b[0;32mIn[6], line 1\u001b[0m\n\u001b[0;32m----> 1\u001b[0m a\u001b[38;5;241m.\u001b[39msolver_test()\n",
      "File \u001b[0;32m~/Codes/QuantumEigenSolver/Python/QES/general_python/algebra/__init__.py:361\u001b[0m, in \u001b[0;36mSolversTests.solver_test\u001b[0;34m(self, make_random, symmetric, solver_type, eps, max_iter, reg, precond_type, dtype)\u001b[0m\n\u001b[1;32m    358\u001b[0m \u001b[38;5;28mself\u001b[39m\u001b[38;5;241m.\u001b[39m_log(\u001b[38;5;124mf\u001b[39m\u001b[38;5;124m\"\u001b[39m\u001b[38;5;124mStarting solver test using \u001b[39m\u001b[38;5;132;01m{\u001b[39;00msolver_type\u001b[38;5;132;01m}\u001b[39;00m\u001b[38;5;124m\"\u001b[39m, \u001b[38;5;28mself\u001b[39m\u001b[38;5;241m.\u001b[39mtest_count)\n\u001b[1;32m    360\u001b[0m \u001b[38;5;66;03m# Generate test matrix A and vector b.\u001b[39;00m\n\u001b[0;32m--> 361\u001b[0m a, b    \u001b[38;5;241m=\u001b[39m generate_test_mat_vec(make_random, symmetric, dtype\u001b[38;5;241m=\u001b[39mdtype, backend\u001b[38;5;241m=\u001b[39m\u001b[38;5;28mself\u001b[39m\u001b[38;5;241m.\u001b[39mbackend)\n\u001b[1;32m    363\u001b[0m \u001b[38;5;66;03m# Instantiate the chosen solver.\u001b[39;00m\n\u001b[1;32m    364\u001b[0m solver  \u001b[38;5;241m=\u001b[39m choose_solver(solver_type, backend\u001b[38;5;241m=\u001b[39m\u001b[38;5;28mself\u001b[39m\u001b[38;5;241m.\u001b[39mbackend, size\u001b[38;5;241m=\u001b[39ma\u001b[38;5;241m.\u001b[39mshape[\u001b[38;5;241m1\u001b[39m], eps\u001b[38;5;241m=\u001b[39meps, maxiter\u001b[38;5;241m=\u001b[39mmax_iter, reg\u001b[38;5;241m=\u001b[39mreg)\n",
      "File \u001b[0;32m~/Codes/QuantumEigenSolver/Python/QES/general_python/algebra/solvers/__init__.py:119\u001b[0m, in \u001b[0;36mgenerate_test_mat_vec\u001b[0;34m(make_random, symmetric, size, dtype, backend)\u001b[0m\n\u001b[1;32m    116\u001b[0m     b[\u001b[38;5;241m3\u001b[39m] \u001b[38;5;241m=\u001b[39m \u001b[38;5;241m2\u001b[39m \u001b[38;5;241m+\u001b[39m \u001b[38;5;241m3\u001b[39mj\n\u001b[1;32m    117\u001b[0m \u001b[38;5;28;01melse\u001b[39;00m:\n\u001b[1;32m    118\u001b[0m     \u001b[38;5;66;03m# Random matrix and vector.\u001b[39;00m\n\u001b[0;32m--> 119\u001b[0m     A \u001b[38;5;241m=\u001b[39m rdg\u001b[38;5;241m.\u001b[39mrandom(size\u001b[38;5;241m=\u001b[39m(size, size), dtype\u001b[38;5;241m=\u001b[39mdtype)\n\u001b[1;32m    120\u001b[0m     b \u001b[38;5;241m=\u001b[39m rdg\u001b[38;5;241m.\u001b[39mrandom(size\u001b[38;5;241m=\u001b[39m(size,), dtype\u001b[38;5;241m=\u001b[39mdtype)\n\u001b[1;32m    121\u001b[0m     \u001b[38;5;28;01mif\u001b[39;00m dtype \u001b[38;5;129;01mnot\u001b[39;00m \u001b[38;5;129;01min\u001b[39;00m (backend\u001b[38;5;241m.\u001b[39mfloat32, backend\u001b[38;5;241m.\u001b[39mfloat64):\n",
      "File \u001b[0;32mnumpy/random/mtrand.pyx:439\u001b[0m, in \u001b[0;36mnumpy.random.mtrand.RandomState.random\u001b[0;34m()\u001b[0m\n",
      "\u001b[0;31mTypeError\u001b[0m: random() got an unexpected keyword argument 'dtype'"
     ]
    }
   ],
   "source": [
    "a.solver_test()"
   ]
  },
  {
   "cell_type": "markdown",
   "metadata": {},
   "source": [
    "# Binary "
   ]
  },
  {
   "cell_type": "markdown",
   "metadata": {},
   "source": [
    "### Standard tests"
   ]
  },
  {
   "cell_type": "code",
   "execution_count": null,
   "metadata": {},
   "outputs": [],
   "source": [
    "from general_python.common import binary\n",
    "NUM         = 42\n",
    "tests       = binary.BinaryFunctionTests()"
   ]
  },
  {
   "cell_type": "code",
   "execution_count": null,
   "metadata": {},
   "outputs": [
    {
     "name": "stdout",
     "output_type": "stream",
     "text": [
      "[14/02/2025 02:22:22]\t->\u001b[0m[TEST 0] ==================================================\u001b[0m\n",
      "[14/02/2025 02:22:22]\t->\u001b[0m[TEST 0]              TESTING BINARY FUNCTIONS             \u001b[0m\n",
      "[14/02/2025 02:22:22]\t->\u001b[0m[TEST 0] ==================================================\u001b[0m\n",
      "[14/02/2025 02:22:22]\t->\u001b[0m[TEST 0] Random integer n = 304487426887 (binary: 000100011011100100110111010110101101000111)\u001b[0m\n",
      "[14/02/2025 02:22:22]\t->\u001b[0m[TEST 0] --------------------------------------------------\u001b[0m\n",
      "[14/02/2025 02:22:22]\t->\u001b[0m[TEST 0] --------------------------------------------------\u001b[0m\n",
      "[14/02/2025 02:22:22]\t->\u001b[34m[TEST 1] Test 1: Extract bits using mask\u001b[0m\n",
      "[14/02/2025 02:22:22]\t->\u001b[0m[TEST 1] Input n    : 000100011011100100110111010110101101000111\u001b[0m\n",
      "[14/02/2025 02:22:22]\t->\u001b[0m[TEST 1] Mask       : 000000000000000000000000000000000000001011\u001b[0m\n",
      "[14/02/2025 02:22:22]\t->\u001b[0m[TEST 1] Extracted  : 000000000000000000000000000000000000000011 (3)\u001b[0m\n",
      "[14/02/2025 02:22:22]\t->\u001b[0m[TEST 1] Time       : 0.000002 seconds\u001b[0m\n",
      "[14/02/2025 02:22:22]\t->\u001b[0m[TEST 1] --------------------------------------------------\u001b[0m\n",
      "[14/02/2025 02:22:22]\t->\u001b[34m[TEST 2] Test 2: Extract leftmost and rightmost 4 bits\u001b[0m\n",
      "[14/02/2025 02:22:22]\t->\u001b[0m[TEST 2] Input n         : 000100011011100100110111010110101101000111\u001b[0m\n",
      "[14/02/2025 02:22:22]\t->\u001b[0m[TEST 2] Leftmost 4 bits : 0001\u001b[0m\n",
      "[14/02/2025 02:22:22]\t->\u001b[0m[TEST 2] Rightmost 4 bits: 0111\u001b[0m\n",
      "[14/02/2025 02:22:22]\t->\u001b[0m[TEST 2] Time            : 0.000002 seconds\u001b[0m\n",
      "[14/02/2025 02:22:22]\t->\u001b[0m[TEST 2] --------------------------------------------------\u001b[0m\n",
      "[14/02/2025 02:22:22]\t->\u001b[34m[TEST 3] Test 3: Prepare mask from positions\u001b[0m\n",
      "[14/02/2025 02:22:22]\t->\u001b[0m[TEST 3] Positions          : [0, 1, 3]\u001b[0m\n",
      "[14/02/2025 02:22:22]\t->\u001b[0m[TEST 3] Prepared Mask (42 bits) : 110100000000000000000000000000000000000000\u001b[0m\n",
      "[14/02/2025 02:22:22]\t->\u001b[0m[TEST 3] Time               : 0.000002 seconds\u001b[0m\n",
      "[14/02/2025 02:22:22]\t->\u001b[0m[TEST 3] --------------------------------------------------\u001b[0m\n",
      "[14/02/2025 02:22:22]\t->\u001b[34m[TEST 4] Test 4: Prepare inverted mask from positions\u001b[0m\n",
      "[14/02/2025 02:22:22]\t->\u001b[0m[TEST 4] Positions             : [0, 1, 3]\u001b[0m\n",
      "[14/02/2025 02:22:22]\t->\u001b[0m[TEST 4] Inverted Mask (42 bits): 000000000000000000000000000000000000001011\u001b[0m\n",
      "[14/02/2025 02:22:22]\t->\u001b[0m[TEST 4] Time                  : 0.000001 seconds\u001b[0m\n",
      "[14/02/2025 02:22:22]\t->\u001b[0m[TEST 4] --------------------------------------------------\u001b[0m\n",
      "[14/02/2025 02:22:22]\t->\u001b[34m[TEST 5] Test 5: Check if n is a power of two\u001b[0m\n",
      "[14/02/2025 02:22:22]\t->\u001b[0m[TEST 5] Input n : 000100011011100100110111010110101101000111\u001b[0m\n",
      "[14/02/2025 02:22:22]\t->\u001b[0m[TEST 5] Result  : False\u001b[0m\n",
      "[14/02/2025 02:22:22]\t->\u001b[0m[TEST 5] Time    : 0.000001 seconds\u001b[0m\n",
      "[14/02/2025 02:22:22]\t->\u001b[0m[TEST 5] --------------------------------------------------\u001b[0m\n",
      "[14/02/2025 02:22:22]\t->\u001b[34m[TEST 6] Test 6: Reverse the bits\u001b[0m\n",
      "[14/02/2025 02:22:22]\t->\u001b[0m[TEST 6] Input n  : 000100011011100100110111010110101101000111\u001b[0m\n",
      "[14/02/2025 02:22:22]\t->\u001b[0m[TEST 6] Reversed : 111000101101011010111011001001110110001000\u001b[0m\n",
      "[14/02/2025 02:22:22]\t->\u001b[0m[TEST 6] Time     : 0.000005 seconds\u001b[0m\n",
      "[14/02/2025 02:22:22]\t->\u001b[0m[TEST 6] --------------------------------------------------\u001b[0m\n",
      "[14/02/2025 02:22:22]\t->\u001b[34m[TEST 7] Test 7: Check specific bit\u001b[0m\n",
      "[14/02/2025 02:22:22]\t->\u001b[0m[TEST 7] Input n          : 000100011011100100110111010110101101000111\u001b[0m\n",
      "[14/02/2025 02:22:22]\t->\u001b[0m[TEST 7] Bit position (0-indexed from right): 2\u001b[0m\n",
      "[14/02/2025 02:22:22]\t->\u001b[0m[TEST 7] Bit value        : True\u001b[0m\n",
      "[14/02/2025 02:22:22]\t->\u001b[0m[TEST 7] Time             : 0.000001 seconds\u001b[0m\n",
      "[14/02/2025 02:22:22]\t->\u001b[0m[TEST 7] --------------------------------------------------\u001b[0m\n",
      "[14/02/2025 02:22:22]\t->\u001b[34m[TEST 8] Test 8: Convert integer to base representation: <class 'int'>\u001b[0m\n",
      "[14/02/2025 02:22:22]\t->\u001b[0m[TEST 8] Input n           : 000100011011100100110111010110101101000111\u001b[0m\n",
      "[14/02/2025 02:22:22]\t->\u001b[0m[TEST 8] Base representation: [-0.5 -0.5 -0.5  0.5 -0.5 -0.5 -0.5  0.5  0.5 -0.5  0.5  0.5  0.5 -0.5\n",
      " -0.5  0.5 -0.5 -0.5  0.5  0.5 -0.5  0.5  0.5  0.5 -0.5  0.5 -0.5  0.5\n",
      "  0.5 -0.5  0.5 -0.5  0.5  0.5 -0.5  0.5 -0.5 -0.5 -0.5  0.5  0.5  0.5] (type: <class 'jaxlib.xla_extension.ArrayImpl'>)\u001b[0m\n",
      "[14/02/2025 02:22:22]\t->\u001b[0m[TEST 8] Time              : 0.000321 seconds\u001b[0m\n",
      "[14/02/2025 02:22:22]\t->\u001b[0m[TEST 8] --------------------------------------------------\u001b[0m\n",
      "[14/02/2025 02:22:22]\t->\u001b[34m[TEST 9] Test 9: Convert base representation back to integer: <class 'jaxlib.xla_extension.ArrayImpl'>\u001b[0m\n",
      "[14/02/2025 02:22:22]\t->\u001b[0m[TEST 9] Base representation : [-0.5 -0.5 -0.5  0.5 -0.5 -0.5 -0.5  0.5  0.5 -0.5  0.5  0.5  0.5 -0.5\n",
      " -0.5  0.5 -0.5 -0.5  0.5  0.5 -0.5  0.5  0.5  0.5 -0.5  0.5 -0.5  0.5\n",
      "  0.5 -0.5  0.5 -0.5  0.5  0.5 -0.5  0.5 -0.5 -0.5 -0.5  0.5  0.5  0.5] (type: <class 'jaxlib.xla_extension.ArrayImpl'>)\u001b[0m\n",
      "[14/02/2025 02:22:22]\t->\u001b[0m[TEST 9] Recovered integer   : 304487426887 (type: <class 'int'>)\u001b[0m\n",
      "[14/02/2025 02:22:22]\t->\u001b[0m[TEST 9] Time                : 0.004992 seconds\u001b[0m\n",
      "[14/02/2025 02:22:22]\t->\u001b[0m[TEST 9] --------------------------------------------------\u001b[0m\n",
      "[14/02/2025 02:22:22]\t->\u001b[34m[TEST 10] Test 10: Flip all bits: <class 'int'>\u001b[0m\n",
      "[14/02/2025 02:22:22]\t->\u001b[0m[TEST 10] Input n : 000100011011100100110111010110101101000111\u001b[0m\n",
      "[14/02/2025 02:22:22]\t->\u001b[0m[TEST 10] Flipped : 111011100100011011001000101001010010111000\u001b[0m\n",
      "[14/02/2025 02:22:22]\t->\u001b[0m[TEST 10] Time    : 0.000002 seconds\u001b[0m\n",
      "[14/02/2025 02:22:22]\t->\u001b[0m[TEST 10] --------------------------------------------------\u001b[0m\n",
      "[14/02/2025 02:22:22]\t->\u001b[34m[TEST 11] Test 11: Flip a specific bit in integer: <class 'int'>\u001b[0m\n",
      "[14/02/2025 02:22:22]\t->\u001b[0m[TEST 11] Input n           : 000100011011100100110111010110101101000111\u001b[0m\n",
      "[14/02/2025 02:22:22]\t->\u001b[0m[TEST 11] Flipped bit at pos: 2 -> 000100011011100100110111010110101101000011\u001b[0m\n",
      "[14/02/2025 02:22:22]\t->\u001b[0m[TEST 11] Time              : 0.000003 seconds\u001b[0m\n",
      "[14/02/2025 02:22:22]\t->\u001b[0m[TEST 11] --------------------------------------------------\u001b[0m\n",
      "[14/02/2025 02:22:22]\t->\u001b[34m[TEST 12] Test 12: Flip a specific bit in base representation: <class 'jaxlib.xla_extension.ArrayImpl'>\u001b[0m\n",
      "[14/02/2025 02:22:22]\t->\u001b[0m[TEST 12] Input base rep    : [-0.5 -0.5 -0.5  0.5 -0.5 -0.5 -0.5  0.5  0.5 -0.5  0.5  0.5  0.5 -0.5\n",
      " -0.5  0.5 -0.5 -0.5  0.5  0.5 -0.5  0.5  0.5  0.5 -0.5  0.5 -0.5  0.5\n",
      "  0.5 -0.5  0.5 -0.5  0.5  0.5 -0.5  0.5 -0.5 -0.5 -0.5  0.5  0.5  0.5] : <class 'jaxlib.xla_extension.ArrayImpl'>\u001b[0m\n",
      "[14/02/2025 02:22:22]\t->\u001b[0m[TEST 12] Flipped bit at pos: 2 -> [-0.5 -0.5  0.5  0.5 -0.5 -0.5 -0.5  0.5  0.5 -0.5  0.5  0.5  0.5 -0.5\n",
      " -0.5  0.5 -0.5 -0.5  0.5  0.5 -0.5  0.5  0.5  0.5 -0.5  0.5 -0.5  0.5\n",
      "  0.5 -0.5  0.5 -0.5  0.5  0.5 -0.5  0.5 -0.5 -0.5 -0.5  0.5  0.5  0.5] : <class 'jaxlib.xla_extension.ArrayImpl'>\u001b[0m\n",
      "[14/02/2025 02:22:22]\t->\u001b[0m[TEST 12] Time              : 0.000017 seconds\u001b[0m\n",
      "[14/02/2025 02:22:22]\t->\u001b[0m[TEST 12] --------------------------------------------------\u001b[0m\n",
      "[14/02/2025 02:22:22]\t->\u001b[34m[TEST 13] Test 13: Rotate left (integer)\u001b[0m\n",
      "[14/02/2025 02:22:22]\t->\u001b[0m[TEST 13] Input n       : 000100011011100100110111010110101101000111\u001b[0m\n",
      "[14/02/2025 02:22:22]\t->\u001b[0m[TEST 13] Rotated left  : 001000110111001001101110101101011010001110\u001b[0m\n",
      "[14/02/2025 02:22:22]\t->\u001b[0m[TEST 13] Time          : 0.000001 seconds\u001b[0m\n",
      "[14/02/2025 02:22:22]\t->\u001b[0m[TEST 13] --------------------------------------------------\u001b[0m\n",
      "[14/02/2025 02:22:22]\t->\u001b[34m[TEST 14] Test 14: Rotate left (base representation): <class 'jaxlib.xla_extension.ArrayImpl'>\u001b[0m\n",
      "[14/02/2025 02:22:22]\t->\u001b[0m[TEST 14] Input base rep: [-0.5 -0.5  0.5  0.5 -0.5 -0.5 -0.5  0.5  0.5 -0.5  0.5  0.5  0.5 -0.5\n",
      " -0.5  0.5 -0.5 -0.5  0.5  0.5 -0.5  0.5  0.5  0.5 -0.5  0.5 -0.5  0.5\n",
      "  0.5 -0.5  0.5 -0.5  0.5  0.5 -0.5  0.5 -0.5 -0.5 -0.5  0.5  0.5  0.5] : <class 'jaxlib.xla_extension.ArrayImpl'>\u001b[0m\n",
      "[14/02/2025 02:22:22]\t->\u001b[0m[TEST 14] Rotated left  : [-0.5  0.5  0.5 -0.5 -0.5 -0.5  0.5  0.5 -0.5  0.5  0.5  0.5 -0.5 -0.5\n",
      "  0.5 -0.5 -0.5  0.5  0.5 -0.5  0.5  0.5  0.5 -0.5  0.5 -0.5  0.5  0.5\n",
      " -0.5  0.5 -0.5  0.5  0.5 -0.5  0.5 -0.5 -0.5 -0.5  0.5  0.5  0.5 -0.5] : <class 'jaxlib.xla_extension.ArrayImpl'>\u001b[0m\n",
      "[14/02/2025 02:22:22]\t->\u001b[0m[TEST 14] Time          : 0.000141 seconds\u001b[0m\n",
      "[14/02/2025 02:22:22]\t->\u001b[0m[TEST 14] --------------------------------------------------\u001b[0m\n",
      "[14/02/2025 02:22:22]\t->\u001b[34m[TEST 15] Test 15: Rotate right (integer)\u001b[0m\n",
      "[14/02/2025 02:22:22]\t->\u001b[0m[TEST 15] Input n        : 000100011011100100110111010110101101000111\u001b[0m\n",
      "[14/02/2025 02:22:22]\t->\u001b[0m[TEST 15] Rotated right  : 100010001101110010011011101011010110100011\u001b[0m\n",
      "[14/02/2025 02:22:22]\t->\u001b[0m[TEST 15] Time           : 0.000001 seconds\u001b[0m\n",
      "[14/02/2025 02:22:22]\t->\u001b[0m[TEST 15] --------------------------------------------------\u001b[0m\n",
      "[14/02/2025 02:22:22]\t->\u001b[34m[TEST 16] Test 16: Rotate right (base representation): <class 'jaxlib.xla_extension.ArrayImpl'>\u001b[0m\n",
      "[14/02/2025 02:22:22]\t->\u001b[0m[TEST 16] Input base rep : [-0.5  0.5  0.5 -0.5 -0.5 -0.5  0.5  0.5 -0.5  0.5  0.5  0.5 -0.5 -0.5\n",
      "  0.5 -0.5 -0.5  0.5  0.5 -0.5  0.5  0.5  0.5 -0.5  0.5 -0.5  0.5  0.5\n",
      " -0.5  0.5 -0.5  0.5  0.5 -0.5  0.5 -0.5 -0.5 -0.5  0.5  0.5  0.5 -0.5] : <class 'jaxlib.xla_extension.ArrayImpl'>\u001b[0m\n",
      "[14/02/2025 02:22:22]\t->\u001b[0m[TEST 16] Rotated right  : [-0.5 -0.5  0.5  0.5 -0.5 -0.5 -0.5  0.5  0.5 -0.5  0.5  0.5  0.5 -0.5\n",
      " -0.5  0.5 -0.5 -0.5  0.5  0.5 -0.5  0.5  0.5  0.5 -0.5  0.5 -0.5  0.5\n",
      "  0.5 -0.5  0.5 -0.5  0.5  0.5 -0.5  0.5 -0.5 -0.5 -0.5  0.5  0.5  0.5] : <class 'jaxlib.xla_extension.ArrayImpl'>\u001b[0m\n",
      "[14/02/2025 02:22:22]\t->\u001b[0m[TEST 16] Time           : 0.000096 seconds\u001b[0m\n",
      "[14/02/2025 02:22:22]\t->\u001b[0m[TEST 16] --------------------------------------------------\u001b[0m\n",
      "[14/02/2025 02:22:22]\t->\u001b[0m[TEST 0] ==================================================\u001b[0m\n",
      "[14/02/2025 02:22:22]\t->\u001b[32m[TEST 0] Total testing time: 0.008149 seconds\u001b[0m\n",
      "[14/02/2025 02:22:22]\t->\u001b[0m[TEST 0] ==================================================\u001b[0m\n",
      "[14/02/2025 02:22:22]\t->\u001b[32m[TEST 0] Testing completed.\u001b[0m\n"
     ]
    }
   ],
   "source": [
    "tests.run_tests(NUM, spin_value = binary._BACKENDREPR)"
   ]
  },
  {
   "cell_type": "code",
   "execution_count": null,
   "metadata": {},
   "outputs": [
    {
     "name": "stdout",
     "output_type": "stream",
     "text": [
      "[14/02/2025 02:22:28]\t->\u001b[0m[TEST 0] ==================================================\u001b[0m\n",
      "[14/02/2025 02:22:28]\t->\u001b[0m[TEST 0]              TESTING BINARY FUNCTIONS             \u001b[0m\n",
      "[14/02/2025 02:22:28]\t->\u001b[0m[TEST 0] ==================================================\u001b[0m\n",
      "[14/02/2025 02:22:28]\t->\u001b[0m[TEST 0] Random integer n = 463308285429 (binary: 000110101111011111010100110110010111110101)\u001b[0m\n",
      "[14/02/2025 02:22:28]\t->\u001b[0m[TEST 0] --------------------------------------------------\u001b[0m\n",
      "[14/02/2025 02:22:28]\t->\u001b[0m[TEST 0] --------------------------------------------------\u001b[0m\n",
      "[14/02/2025 02:22:28]\t->\u001b[34m[TEST 1] Test 1: Extract bits using mask\u001b[0m\n",
      "[14/02/2025 02:22:28]\t->\u001b[0m[TEST 1] Input n    : 000110101111011111010100110110010111110101\u001b[0m\n",
      "[14/02/2025 02:22:28]\t->\u001b[0m[TEST 1] Mask       : 000000000000000000000000000000000000001011\u001b[0m\n",
      "[14/02/2025 02:22:28]\t->\u001b[0m[TEST 1] Extracted  : 000000000000000000000000000000000000000001 (1)\u001b[0m\n",
      "[14/02/2025 02:22:28]\t->\u001b[0m[TEST 1] Time       : 0.000004 seconds\u001b[0m\n",
      "[14/02/2025 02:22:28]\t->\u001b[0m[TEST 1] --------------------------------------------------\u001b[0m\n",
      "[14/02/2025 02:22:28]\t->\u001b[34m[TEST 2] Test 2: Extract leftmost and rightmost 4 bits\u001b[0m\n",
      "[14/02/2025 02:22:28]\t->\u001b[0m[TEST 2] Input n         : 000110101111011111010100110110010111110101\u001b[0m\n",
      "[14/02/2025 02:22:28]\t->\u001b[0m[TEST 2] Leftmost 4 bits : 0001\u001b[0m\n",
      "[14/02/2025 02:22:28]\t->\u001b[0m[TEST 2] Rightmost 4 bits: 0101\u001b[0m\n",
      "[14/02/2025 02:22:28]\t->\u001b[0m[TEST 2] Time            : 0.000002 seconds\u001b[0m\n",
      "[14/02/2025 02:22:28]\t->\u001b[0m[TEST 2] --------------------------------------------------\u001b[0m\n",
      "[14/02/2025 02:22:28]\t->\u001b[34m[TEST 3] Test 3: Prepare mask from positions\u001b[0m\n",
      "[14/02/2025 02:22:28]\t->\u001b[0m[TEST 3] Positions          : [0, 1, 3]\u001b[0m\n",
      "[14/02/2025 02:22:28]\t->\u001b[0m[TEST 3] Prepared Mask (42 bits) : 110100000000000000000000000000000000000000\u001b[0m\n",
      "[14/02/2025 02:22:28]\t->\u001b[0m[TEST 3] Time               : 0.000003 seconds\u001b[0m\n",
      "[14/02/2025 02:22:28]\t->\u001b[0m[TEST 3] --------------------------------------------------\u001b[0m\n",
      "[14/02/2025 02:22:28]\t->\u001b[34m[TEST 4] Test 4: Prepare inverted mask from positions\u001b[0m\n",
      "[14/02/2025 02:22:28]\t->\u001b[0m[TEST 4] Positions             : [0, 1, 3]\u001b[0m\n",
      "[14/02/2025 02:22:28]\t->\u001b[0m[TEST 4] Inverted Mask (42 bits): 000000000000000000000000000000000000001011\u001b[0m\n",
      "[14/02/2025 02:22:28]\t->\u001b[0m[TEST 4] Time                  : 0.000001 seconds\u001b[0m\n",
      "[14/02/2025 02:22:28]\t->\u001b[0m[TEST 4] --------------------------------------------------\u001b[0m\n",
      "[14/02/2025 02:22:28]\t->\u001b[34m[TEST 5] Test 5: Check if n is a power of two\u001b[0m\n",
      "[14/02/2025 02:22:28]\t->\u001b[0m[TEST 5] Input n : 000110101111011111010100110110010111110101\u001b[0m\n",
      "[14/02/2025 02:22:28]\t->\u001b[0m[TEST 5] Result  : False\u001b[0m\n",
      "[14/02/2025 02:22:28]\t->\u001b[0m[TEST 5] Time    : 0.000001 seconds\u001b[0m\n",
      "[14/02/2025 02:22:28]\t->\u001b[0m[TEST 5] --------------------------------------------------\u001b[0m\n",
      "[14/02/2025 02:22:28]\t->\u001b[34m[TEST 6] Test 6: Reverse the bits\u001b[0m\n",
      "[14/02/2025 02:22:28]\t->\u001b[0m[TEST 6] Input n  : 000110101111011111010100110110010111110101\u001b[0m\n",
      "[14/02/2025 02:22:28]\t->\u001b[0m[TEST 6] Reversed : 101011111010011011001010111110111101011000\u001b[0m\n",
      "[14/02/2025 02:22:28]\t->\u001b[0m[TEST 6] Time     : 0.000006 seconds\u001b[0m\n",
      "[14/02/2025 02:22:28]\t->\u001b[0m[TEST 6] --------------------------------------------------\u001b[0m\n",
      "[14/02/2025 02:22:28]\t->\u001b[34m[TEST 7] Test 7: Check specific bit\u001b[0m\n",
      "[14/02/2025 02:22:28]\t->\u001b[0m[TEST 7] Input n          : 000110101111011111010100110110010111110101\u001b[0m\n",
      "[14/02/2025 02:22:28]\t->\u001b[0m[TEST 7] Bit position (0-indexed from right): 2\u001b[0m\n",
      "[14/02/2025 02:22:28]\t->\u001b[0m[TEST 7] Bit value        : True\u001b[0m\n",
      "[14/02/2025 02:22:28]\t->\u001b[0m[TEST 7] Time             : 0.000003 seconds\u001b[0m\n",
      "[14/02/2025 02:22:28]\t->\u001b[0m[TEST 7] --------------------------------------------------\u001b[0m\n",
      "[14/02/2025 02:22:28]\t->\u001b[34m[TEST 8] Test 8: Convert integer to base representation: <class 'int'>\u001b[0m\n",
      "[14/02/2025 02:22:28]\t->\u001b[0m[TEST 8] Input n           : 000110101111011111010100110110010111110101\u001b[0m\n",
      "[14/02/2025 02:22:28]\t->\u001b[0m[TEST 8] Base representation: [-0.5 -0.5 -0.5  0.5  0.5 -0.5  0.5 -0.5  0.5  0.5  0.5  0.5 -0.5  0.5\n",
      "  0.5  0.5  0.5  0.5 -0.5  0.5 -0.5  0.5 -0.5 -0.5  0.5  0.5 -0.5  0.5\n",
      "  0.5 -0.5 -0.5  0.5 -0.5  0.5  0.5  0.5  0.5  0.5 -0.5  0.5 -0.5  0.5] (type: <class 'numpy.ndarray'>)\u001b[0m\n",
      "[14/02/2025 02:22:28]\t->\u001b[0m[TEST 8] Time              : 0.000039 seconds\u001b[0m\n",
      "[14/02/2025 02:22:28]\t->\u001b[0m[TEST 8] --------------------------------------------------\u001b[0m\n",
      "[14/02/2025 02:22:28]\t->\u001b[34m[TEST 9] Test 9: Convert base representation back to integer: <class 'numpy.ndarray'>\u001b[0m\n",
      "[14/02/2025 02:22:28]\t->\u001b[0m[TEST 9] Base representation : [-0.5 -0.5 -0.5  0.5  0.5 -0.5  0.5 -0.5  0.5  0.5  0.5  0.5 -0.5  0.5\n",
      "  0.5  0.5  0.5  0.5 -0.5  0.5 -0.5  0.5 -0.5 -0.5  0.5  0.5 -0.5  0.5\n",
      "  0.5 -0.5 -0.5  0.5 -0.5  0.5  0.5  0.5  0.5  0.5 -0.5  0.5 -0.5  0.5] (type: <class 'numpy.ndarray'>)\u001b[0m\n",
      "[14/02/2025 02:22:28]\t->\u001b[0m[TEST 9] Recovered integer   : 463308285429 (type: <class 'int'>)\u001b[0m\n",
      "[14/02/2025 02:22:28]\t->\u001b[0m[TEST 9] Time                : 0.000026 seconds\u001b[0m\n",
      "[14/02/2025 02:22:28]\t->\u001b[0m[TEST 9] --------------------------------------------------\u001b[0m\n",
      "[14/02/2025 02:22:28]\t->\u001b[34m[TEST 10] Test 10: Flip all bits: <class 'int'>\u001b[0m\n",
      "[14/02/2025 02:22:28]\t->\u001b[0m[TEST 10] Input n : 000110101111011111010100110110010111110101\u001b[0m\n",
      "[14/02/2025 02:22:28]\t->\u001b[0m[TEST 10] Flipped : 111001010000100000101011001001101000001010\u001b[0m\n",
      "[14/02/2025 02:22:28]\t->\u001b[0m[TEST 10] Time    : 0.000002 seconds\u001b[0m\n",
      "[14/02/2025 02:22:28]\t->\u001b[0m[TEST 10] --------------------------------------------------\u001b[0m\n",
      "[14/02/2025 02:22:28]\t->\u001b[34m[TEST 11] Test 11: Flip a specific bit in integer: <class 'int'>\u001b[0m\n",
      "[14/02/2025 02:22:28]\t->\u001b[0m[TEST 11] Input n           : 000110101111011111010100110110010111110101\u001b[0m\n",
      "[14/02/2025 02:22:28]\t->\u001b[0m[TEST 11] Flipped bit at pos: 2 -> 000110101111011111010100110110010111110001\u001b[0m\n",
      "[14/02/2025 02:22:28]\t->\u001b[0m[TEST 11] Time              : 0.000003 seconds\u001b[0m\n",
      "[14/02/2025 02:22:28]\t->\u001b[0m[TEST 11] --------------------------------------------------\u001b[0m\n",
      "[14/02/2025 02:22:28]\t->\u001b[34m[TEST 12] Test 12: Flip a specific bit in base representation: <class 'numpy.ndarray'>\u001b[0m\n",
      "[14/02/2025 02:22:28]\t->\u001b[0m[TEST 12] Input base rep    : [-0.5 -0.5  0.5  0.5  0.5 -0.5  0.5 -0.5  0.5  0.5  0.5  0.5 -0.5  0.5\n",
      "  0.5  0.5  0.5  0.5 -0.5  0.5 -0.5  0.5 -0.5 -0.5  0.5  0.5 -0.5  0.5\n",
      "  0.5 -0.5 -0.5  0.5 -0.5  0.5  0.5  0.5  0.5  0.5 -0.5  0.5 -0.5  0.5] : <class 'numpy.ndarray'>\u001b[0m\n",
      "[14/02/2025 02:22:28]\t->\u001b[0m[TEST 12] Flipped bit at pos: 2 -> [-0.5 -0.5  0.5  0.5  0.5 -0.5  0.5 -0.5  0.5  0.5  0.5  0.5 -0.5  0.5\n",
      "  0.5  0.5  0.5  0.5 -0.5  0.5 -0.5  0.5 -0.5 -0.5  0.5  0.5 -0.5  0.5\n",
      "  0.5 -0.5 -0.5  0.5 -0.5  0.5  0.5  0.5  0.5  0.5 -0.5  0.5 -0.5  0.5] : <class 'numpy.ndarray'>\u001b[0m\n",
      "[14/02/2025 02:22:28]\t->\u001b[0m[TEST 12] Time              : 0.000004 seconds\u001b[0m\n",
      "[14/02/2025 02:22:28]\t->\u001b[0m[TEST 12] --------------------------------------------------\u001b[0m\n",
      "[14/02/2025 02:22:28]\t->\u001b[34m[TEST 13] Test 13: Rotate left (integer)\u001b[0m\n",
      "[14/02/2025 02:22:28]\t->\u001b[0m[TEST 13] Input n       : 000110101111011111010100110110010111110101\u001b[0m\n",
      "[14/02/2025 02:22:28]\t->\u001b[0m[TEST 13] Rotated left  : 001101011110111110101001101100101111101010\u001b[0m\n",
      "[14/02/2025 02:22:28]\t->\u001b[0m[TEST 13] Time          : 0.000002 seconds\u001b[0m\n",
      "[14/02/2025 02:22:28]\t->\u001b[0m[TEST 13] --------------------------------------------------\u001b[0m\n",
      "[14/02/2025 02:22:28]\t->\u001b[34m[TEST 14] Test 14: Rotate left (base representation): <class 'numpy.ndarray'>\u001b[0m\n",
      "[14/02/2025 02:22:28]\t->\u001b[0m[TEST 14] Input base rep: [-0.5 -0.5  0.5  0.5  0.5 -0.5  0.5 -0.5  0.5  0.5  0.5  0.5 -0.5  0.5\n",
      "  0.5  0.5  0.5  0.5 -0.5  0.5 -0.5  0.5 -0.5 -0.5  0.5  0.5 -0.5  0.5\n",
      "  0.5 -0.5 -0.5  0.5 -0.5  0.5  0.5  0.5  0.5  0.5 -0.5  0.5 -0.5  0.5] : <class 'numpy.ndarray'>\u001b[0m\n",
      "[14/02/2025 02:22:28]\t->\u001b[0m[TEST 14] Rotated left  : [-0.5  0.5  0.5  0.5 -0.5  0.5 -0.5  0.5  0.5  0.5  0.5 -0.5  0.5  0.5\n",
      "  0.5  0.5  0.5 -0.5  0.5 -0.5  0.5 -0.5 -0.5  0.5  0.5 -0.5  0.5  0.5\n",
      " -0.5 -0.5  0.5 -0.5  0.5  0.5  0.5  0.5  0.5 -0.5  0.5 -0.5  0.5 -0.5] : <class 'numpy.ndarray'>\u001b[0m\n",
      "[14/02/2025 02:22:28]\t->\u001b[0m[TEST 14] Time          : 0.000185 seconds\u001b[0m\n",
      "[14/02/2025 02:22:28]\t->\u001b[0m[TEST 14] --------------------------------------------------\u001b[0m\n",
      "[14/02/2025 02:22:28]\t->\u001b[34m[TEST 15] Test 15: Rotate right (integer)\u001b[0m\n",
      "[14/02/2025 02:22:28]\t->\u001b[0m[TEST 15] Input n        : 000110101111011111010100110110010111110101\u001b[0m\n",
      "[14/02/2025 02:22:28]\t->\u001b[0m[TEST 15] Rotated right  : 100011010111101111101010011011001011111010\u001b[0m\n",
      "[14/02/2025 02:22:28]\t->\u001b[0m[TEST 15] Time           : 0.000004 seconds\u001b[0m\n",
      "[14/02/2025 02:22:28]\t->\u001b[0m[TEST 15] --------------------------------------------------\u001b[0m\n",
      "[14/02/2025 02:22:28]\t->\u001b[34m[TEST 16] Test 16: Rotate right (base representation): <class 'numpy.ndarray'>\u001b[0m\n",
      "[14/02/2025 02:22:28]\t->\u001b[0m[TEST 16] Input base rep : [-0.5  0.5  0.5  0.5 -0.5  0.5 -0.5  0.5  0.5  0.5  0.5 -0.5  0.5  0.5\n",
      "  0.5  0.5  0.5 -0.5  0.5 -0.5  0.5 -0.5 -0.5  0.5  0.5 -0.5  0.5  0.5\n",
      " -0.5 -0.5  0.5 -0.5  0.5  0.5  0.5  0.5  0.5 -0.5  0.5 -0.5  0.5 -0.5] : <class 'numpy.ndarray'>\u001b[0m\n",
      "[14/02/2025 02:22:28]\t->\u001b[0m[TEST 16] Rotated right  : [-0.5 -0.5  0.5  0.5  0.5 -0.5  0.5 -0.5  0.5  0.5  0.5  0.5 -0.5  0.5\n",
      "  0.5  0.5  0.5  0.5 -0.5  0.5 -0.5  0.5 -0.5 -0.5  0.5  0.5 -0.5  0.5\n",
      "  0.5 -0.5 -0.5  0.5 -0.5  0.5  0.5  0.5  0.5  0.5 -0.5  0.5 -0.5  0.5] : <class 'numpy.ndarray'>\u001b[0m\n",
      "[14/02/2025 02:22:28]\t->\u001b[0m[TEST 16] Time           : 0.000052 seconds\u001b[0m\n",
      "[14/02/2025 02:22:28]\t->\u001b[0m[TEST 16] --------------------------------------------------\u001b[0m\n",
      "[14/02/2025 02:22:28]\t->\u001b[0m[TEST 0] ==================================================\u001b[0m\n",
      "[14/02/2025 02:22:28]\t->\u001b[32m[TEST 0] Total testing time: 0.004518 seconds\u001b[0m\n",
      "[14/02/2025 02:22:28]\t->\u001b[0m[TEST 0] ==================================================\u001b[0m\n",
      "[14/02/2025 02:22:28]\t->\u001b[32m[TEST 0] Testing completed.\u001b[0m\n"
     ]
    }
   ],
   "source": [
    "tests.run_tests(NUM, spin_value = binary._BACKENDREPR, backend = 'np')"
   ]
  },
  {
   "cell_type": "markdown",
   "metadata": {},
   "source": [
    "### Test JAX"
   ]
  },
  {
   "cell_type": "code",
   "execution_count": null,
   "metadata": {},
   "outputs": [],
   "source": [
    "from algebra import get_backend\n",
    "import time \n",
    "from jax import numpy as jnp, random as jnpr\n",
    "import numpy as np, numpy.random as npr\n",
    "from jax import jit\n",
    "\n",
    "seed = 1701\n",
    "\n",
    "# Test the speed of the matrix multiplication\n",
    "key_np = npr.seed(seed)\n",
    "key_jnp = jnpr.key(seed)\n",
    "size = 5000\n",
    "\n",
    "def matrix_mult_test_jax(size=size):\n",
    "    random_mat  = jnpr.normal(key_jnp, (size, size))\n",
    "    vec         = jnpr.normal(key_jnp, (size,))\n",
    "    result      = random_mat @ vec\n",
    "    print(\"Result of matrix-vector multiplication:\\n\", result)\n",
    "    \n",
    "def matrix_mult_test_numpy(size = size):\n",
    "    random_mat  = npr.normal(size=(size, size))\n",
    "    vec         = npr.normal(size=(size,))\n",
    "    result      = random_mat @ vec\n",
    "    print(\"Result of matrix-vector multiplication:\\n\", result)\n",
    "    \n",
    "@jit\n",
    "def matrix_mult_test_jax_jit():\n",
    "    random_mat  = jnpr.normal(key_jnp, (size, size))\n",
    "    vec         = jnpr.normal(key_jnp, (size,))\n",
    "    result      = random_mat @ vec\n",
    "    print(\"Result of matrix-vector multiplication:\\n\", result)\n"
   ]
  },
  {
   "cell_type": "markdown",
   "metadata": {},
   "source": [
    "#### Numpy"
   ]
  },
  {
   "cell_type": "code",
   "execution_count": null,
   "metadata": {},
   "outputs": [
    {
     "name": "stdout",
     "output_type": "stream",
     "text": [
      "Result of matrix-vector multiplication:\n",
      " [ -8.88432611  21.0377515  -48.17831994 ...  55.97818048  59.8701578\n",
      "  -4.3396083 ]\n",
      "Time taken: 0.5076 seconds (numpy)\n"
     ]
    }
   ],
   "source": [
    "start_time = time.time()\n",
    "matrix_mult_test_numpy()\n",
    "end_time = time.time()\n",
    "print(f\"Time taken: {end_time - start_time:.4f} seconds (numpy)\")"
   ]
  },
  {
   "cell_type": "markdown",
   "metadata": {},
   "source": [
    "#### Jax"
   ]
  },
  {
   "cell_type": "code",
   "execution_count": null,
   "metadata": {},
   "outputs": [
    {
     "name": "stdout",
     "output_type": "stream",
     "text": [
      "Result of matrix-vector multiplication:\n",
      " [ 36.282516   22.475544   -1.3575363 ...  41.09931    -3.48946\n",
      " -64.0355   ]\n",
      "Time taken: 0.0888 seconds (jax)\n"
     ]
    }
   ],
   "source": [
    "start_time = time.time()\n",
    "matrix_mult_test_jax()\n",
    "end_time = time.time()\n",
    "print(f\"Time taken: {end_time - start_time:.4f} seconds (jax)\")"
   ]
  },
  {
   "cell_type": "markdown",
   "metadata": {},
   "source": [
    "#### Jax jit"
   ]
  },
  {
   "cell_type": "code",
   "execution_count": null,
   "metadata": {},
   "outputs": [
    {
     "name": "stdout",
     "output_type": "stream",
     "text": [
      "Result of matrix-vector multiplication:\n",
      " Traced<ShapedArray(float32[5000])>with<DynamicJaxprTrace(level=1/0)>\n",
      "Time taken: 0.0180 seconds (jax, jitted)\n"
     ]
    }
   ],
   "source": [
    "start_time = time.time()\n",
    "matrix_mult_test_jax_jit()\n",
    "end_time = time.time()  \n",
    "print(f\"Time taken: {end_time - start_time:.4f} seconds (jax, jitted)\")"
   ]
  },
  {
   "cell_type": "markdown",
   "metadata": {},
   "source": [
    "# Lattice\n"
   ]
  },
  {
   "cell_type": "code",
   "execution_count": null,
   "metadata": {},
   "outputs": [
    {
     "name": "stderr",
     "output_type": "stream",
     "text": [
      "\n",
      "KeyboardInterrupt\n",
      "\n"
     ]
    }
   ],
   "source": [
    "from lattices import Lattice, run_lattice_tests\n",
    "\n",
    "# Run tests for different configurations\n",
    "# run_lattice_tests(dim=1, lx=10, ly=1, lz=1, bc=lattices.LatticeBC.PBC, typek=\"square\")\n",
    "# run_lattice_tests(dim=2, lx=5, ly=3, lz=1, bc=lattices.LatticeBC.PBC, typek=\"square\")\n",
    "# run_lattice_tests(dim=2, lx=5, ly=5, lz=1, bc=lattices.LatticeBC.OBC, typek=\"square\")\n",
    "# run_lattice_tests(dim=3, lx=3, ly=3, lz=3, bc=lattices.LatticeBC.PBC, typek=\"square\")\n",
    "run_lattice_tests(dim=2, lx=3, ly=2, lz=1, bc=lattices.LatticeBC.PBC, typek=\"honeycomb\")"
   ]
  },
  {
   "cell_type": "code",
   "execution_count": null,
   "metadata": {},
   "outputs": [
    {
     "name": "stdout",
     "output_type": "stream",
     "text": [
      "0.0 0.0\n",
      "Ns= 0 -- (x,y)= 0 0\n",
      "0.8660254037844386 0.5\n",
      "Ns= 1 -- (x,y)= 0 0\n",
      "1.7320508075688772 0.0\n",
      "Ns= 2 -- (x,y)= 1 0\n",
      "2.598076211353316 0.5\n",
      "Ns= 3 -- (x,y)= 1 0\n",
      "3.4641016151377544 0.0\n",
      "Ns= 4 -- (x,y)= 2 0\n",
      "6.06217782649107 0.5\n",
      "Ns= 5 -- (x,y)= 2 0\n",
      "5.196152422706632 0.0\n",
      "Ns= 6 -- (x,y)= 3 0\n",
      "11.258330249197702 0.5\n",
      "Ns= 7 -- (x,y)= 3 0\n",
      "0.8660254037844386 1.5\n",
      "Ns= 8 -- (x,y)= 0 1\n",
      "12.12435565298214 2.0\n",
      "Ns= 9 -- (x,y)= 0 1\n",
      "2.598076211353316 1.5\n",
      "Ns= 10 -- (x,y)= 1 1\n",
      "14.722431864335457 3.5\n",
      "Ns= 11 -- (x,y)= 1 1\n",
      "4.330127018922193 1.5\n",
      "Ns= 12 -- (x,y)= 2 1\n",
      "19.05255888325765 5.0\n",
      "Ns= 13 -- (x,y)= 2 1\n",
      "6.06217782649107 1.5\n",
      "Ns= 14 -- (x,y)= 3 1\n",
      "25.11473670974872 6.5\n",
      "Ns= 15 -- (x,y)= 3 1\n"
     ]
    },
    {
     "data": {
      "text/plain": [
       "<matplotlib.patches.FancyArrow at 0x16ccd9160>"
      ]
     },
     "execution_count": 41,
     "metadata": {},
     "output_type": "execute_result"
    },
    {
     "data": {
      "image/png": "[encoded data removed]",
      "text/plain": [
       "<Figure size 800x800 with 1 Axes>"
      ]
     },
     "metadata": {},
     "output_type": "display_data"
    }
   ],
   "source": [
    "import numpy as np \n",
    "import matplotlib.pyplot as plt\n",
    "\n",
    "plt.figure(figsize=(8,8))\n",
    "\n",
    "a = 1\n",
    "b = 1\n",
    "c = 1\n",
    "\n",
    "Lx = 4\n",
    "Ly = 2\n",
    "Ns = 2 * Lx * Ly\n",
    "\n",
    "_a1 = np.array([np.sqrt(3) * a / 2.0, 3 * a / 2.0, 0])\n",
    "_a2 = np.array([np.sqrt(3) * a / 2.0, -3 * a / 2.0, 0])\n",
    "_a3 = np.array([0, 0, c])\n",
    "\n",
    "\n",
    "\n",
    "coords      = []\n",
    "move_vector = _a1 - np.array([0, a, 0])\n",
    "for i in range(Ns):\n",
    "    # get the unit cell on a square lattic\n",
    "    x = (i // 2) % Lx\n",
    "    y = ((i//2) // Lx) % Ly\n",
    "    \n",
    "    # from coorditates to position on the lattice\n",
    "    xy = np.array([0., 0, 0]) if i % 2 == 0 else move_vector\n",
    "    xy += x * (_a1 + _a2) + y * _a1\n",
    "    xp, yp = xy[0], xy[1]\n",
    "    print(xp, yp)\n",
    "    plt.scatter(xp, yp, color='red' if i % 2 == 0 else 'blue', marker='o', s=100, facecolor='none')\n",
    "    plt.text(xp + 0.1, yp + 0.1, i)\n",
    "    \n",
    "    print(\"Ns=\", i, \"-- (x,y)=\", x, y)\n",
    "\n",
    "\n",
    "plt.arrow(0, 0, _a1[0], _a1[1], head_width=0.1, head_length=0.1, fc='r', ec='r')\n",
    "plt.arrow(0, 0, _a2[0], _a2[1], head_width=0.1, head_length=0.1, fc='b', ec='b')\n",
    "# plt.arrow(0, 0, _a1[0] - _a2[0], _a1[1] - _a2[1], head_width=0.1, head_length=0.1, fc='g', ec='g')\n",
    "# plt.arrow(0, 0, _a1[0] + _a2[0], _a1[1] + _a2[1], head_width=0.1, head_length=0.1, fc='y', ec='y')\n",
    "# plt.arrow(0, 0, -_a1[0] + _a2[0], -_a1[1] + _a2[1], head_width=0.1, head_length=0.1, fc='m', ec='m')\n",
    "# plt.arrow(0, 0, -_a1[0] - _a2[0], -_a1[1] - _a2[1], head_width=0.1, head_length=0.1, fc='c', ec='c')\n"
   ]
  },
  {
   "cell_type": "code",
   "execution_count": null,
   "metadata": {},
   "outputs": [],
   "source": []
  }
 ],
 "metadata": {
  "kernelspec": {
   "display_name": "base",
   "language": "python",
   "name": "python3"
  },
  "language_info": {
   "codemirror_mode": {
    "name": "ipython",
    "version": 3
   },
   "file_extension": ".py",
   "mimetype": "text/x-python",
   "name": "python",
   "nbconvert_exporter": "python",
   "pygments_lexer": "ipython3",
   "version": "3.12.2"
  }
 },
 "nbformat": 4,
 "nbformat_minor": 2
}
