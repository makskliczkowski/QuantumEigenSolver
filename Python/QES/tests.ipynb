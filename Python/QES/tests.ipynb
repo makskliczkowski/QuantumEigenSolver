{
 "cells": [
  {
   "cell_type": "code",
   "execution_count": 2,
   "metadata": {},
   "outputs": [],
   "source": [
    "import sys\n",
    "import os\n",
    "\n",
    "# Add the parent directory (project root) to sys.path\n",
    "project_root = os.path.abspath(os.path.join(os.getcwd(), \"../..\"))\n",
    "if project_root not in sys.path:\n",
    "    sys.path.insert(0, project_root)"
   ]
  },
  {
   "cell_type": "code",
   "execution_count": 3,
   "metadata": {},
   "outputs": [
    {
     "name": "stdout",
     "output_type": "stream",
     "text": [
      "backend: <module 'numpy' from '/home/klimak/libraries/anaconda3/lib/python3.11/site-packages/numpy/__init__.py'>\n",
      "key: None\n",
      "rnd_module: Generator(PCG64)\n",
      "rnd_module.random(): 0.22733602246716966\n",
      "rnd_module.randint(0, 10): 7\n",
      "rnd_module.uniform(0, 10): 7.973654573327341\n",
      "rnd_module.normal(0, 1): -0.2591732349343976\n",
      "uniform(0, 10): [3.91109551 3.32813928 5.98308754 1.86734186 6.72756044]\n",
      "\n",
      "backend: <module 'numpy' from '/home/klimak/libraries/anaconda3/lib/python3.11/site-packages/numpy/__init__.py'>\n",
      "key: None\n",
      "rnd_module: Generator(PCG64)\n",
      "rnd_module.random(): 0.9418028652699372\n",
      "rnd_module.randint(0, 10): 3\n",
      "rnd_module.uniform(0, 10): 2.48245714629571\n",
      "rnd_module.normal(0, 1): 0.9684969057519236\n",
      "uniform(0, 10): [6.67237453 0.95897936 4.41839666 8.86479919 6.974535  ]\n",
      "\n",
      "backend: <module 'numpy' from '/home/klimak/libraries/anaconda3/lib/python3.11/site-packages/numpy/__init__.py'>\n",
      "key: None\n",
      "rnd_module: Generator(PCG64)\n",
      "rnd_module.random(): 0.3264728640701121\n",
      "rnd_module.randint(0, 10): 1\n",
      "rnd_module.uniform(0, 10): 2.201349555454862\n",
      "rnd_module.normal(0, 1): 1.3222980607327857\n",
      "uniform(0, 10): [1.59895601 3.40100185 4.65193154 2.66421028 8.15776403]\n",
      "\n",
      "backend: <module 'numpy' from '/home/klimak/libraries/anaconda3/lib/python3.11/site-packages/numpy/__init__.py'>\n",
      "key: None\n",
      "rnd_module: Generator(PCG64)\n",
      "rnd_module.random(): 0.1932943892894945\n",
      "rnd_module.randint(0, 10): 7\n",
      "rnd_module.uniform(0, 10): 1.2946907617720027\n",
      "rnd_module.normal(0, 1): 1.7247399323163304\n",
      "uniform(0, 10): [5.98568014 8.54741904 6.01621242 9.31988361 7.24781361]\n",
      "\n",
      "backend: <module 'numpy' from '/home/klimak/libraries/anaconda3/lib/python3.11/site-packages/numpy/__init__.py'>\n",
      "key: None\n",
      "rnd_module: Generator(PCG64)\n",
      "rnd_module.random(): 0.8605513173932924\n",
      "rnd_module.randint(0, 10): 7\n",
      "rnd_module.uniform(0, 10): 5.461860090823531\n",
      "rnd_module.normal(0, 1): -0.6587603195674528\n",
      "uniform(0, 10): [4.9498794  2.73773182 4.51778707 6.65038923 3.3089093 ]\n",
      "\n"
     ]
    }
   ],
   "source": [
    "from general_python.algebra.utils import get_backend as __backend\n",
    "from general_python.algebra.ran_wrapper import uniform, randint\n",
    "# test random\n",
    "seed    = None\n",
    "backend = 'np'\n",
    "for i in range(5):\n",
    "    modules = __backend(backend, random=True, seed=seed)\n",
    "    backend, (rnd_module, key) = modules if isinstance(modules, tuple) else (modules, (None, None))\n",
    "    print(f\"backend: {backend}\")\n",
    "    print(f\"key: {key}\")\n",
    "    print(f\"rnd_module: {rnd_module}\")\n",
    "    print(f\"rnd_module.random(): {rnd_module.random()}\")\n",
    "    print(f\"rnd_module.randint(0, 10): {rnd_module.integers(0, 10)}\")\n",
    "    print(f\"rnd_module.uniform(0, 10): {rnd_module.uniform(0, 10)}\")\n",
    "    print(f\"rnd_module.normal(0, 1): {rnd_module.normal(0, 1)}\")\n",
    "    # take the function from random wrapper\n",
    "    print(f\"uniform(0, 10): {uniform(shape=(5,),minval=0, maxval=10, backend=backend, seed=seed)}\")\n",
    "    print()"
   ]
  },
  {
   "cell_type": "markdown",
   "metadata": {},
   "source": [
    "# Models"
   ]
  },
  {
   "cell_type": "markdown",
   "metadata": {},
   "source": [
    "## Quantum Sun Model"
   ]
  },
  {
   "cell_type": "code",
   "execution_count": 4,
   "metadata": {},
   "outputs": [
    {
     "ename": "ImportError",
     "evalue": "cannot import name 'operators_spin' from 'Operator' (unknown location)",
     "output_type": "error",
     "traceback": [
      "\u001b[0;31m---------------------------------------------------------------------------\u001b[0m",
      "\u001b[0;31mImportError\u001b[0m                               Traceback (most recent call last)",
      "Cell \u001b[0;32mIn[4], line 1\u001b[0m\n\u001b[0;32m----> 1\u001b[0m \u001b[38;5;28;01mfrom\u001b[39;00m \u001b[38;5;21;01mAlgebra\u001b[39;00m\u001b[38;5;21;01m.\u001b[39;00m\u001b[38;5;21;01mModel\u001b[39;00m\u001b[38;5;21;01m.\u001b[39;00m\u001b[38;5;21;01mInteracting\u001b[39;00m\u001b[38;5;21;01m.\u001b[39;00m\u001b[38;5;21;01mSpin\u001b[39;00m\u001b[38;5;21;01m.\u001b[39;00m\u001b[38;5;21;01mqsm\u001b[39;00m \u001b[38;5;28;01mimport\u001b[39;00m QSM\n\u001b[1;32m      2\u001b[0m backend \u001b[38;5;241m=\u001b[39m \u001b[38;5;124m'\u001b[39m\u001b[38;5;124mnp\u001b[39m\u001b[38;5;124m'\u001b[39m\n\u001b[1;32m      3\u001b[0m hamil\u001b[38;5;241m=\u001b[39mQSM(ns\u001b[38;5;241m=\u001b[39m\u001b[38;5;241m11\u001b[39m, hilbert_space\u001b[38;5;241m=\u001b[39m\u001b[38;5;28;01mNone\u001b[39;00m, n\u001b[38;5;241m=\u001b[39m\u001b[38;5;241m3\u001b[39m, a\u001b[38;5;241m=\u001b[39m\u001b[38;5;241m0.74\u001b[39m, h\u001b[38;5;241m=\u001b[39m\u001b[38;5;241m1.0\u001b[39m, xi\u001b[38;5;241m=\u001b[39m\u001b[38;5;241m0.2\u001b[39m, backend\u001b[38;5;241m=\u001b[39m\u001b[38;5;124m'\u001b[39m\u001b[38;5;124mnp\u001b[39m\u001b[38;5;124m'\u001b[39m, dtype\u001b[38;5;241m=\u001b[39m\u001b[38;5;124m'\u001b[39m\u001b[38;5;124mfloat64\u001b[39m\u001b[38;5;124m'\u001b[39m)\n",
      "File \u001b[0;32m~/Codes/QuantumEigenSolver/Python/QES/Algebra/Model/Interacting/Spin/qsm.py:26\u001b[0m\n\u001b[1;32m     24\u001b[0m \u001b[38;5;28;01mfrom\u001b[39;00m \u001b[38;5;21;01mAlgebra\u001b[39;00m\u001b[38;5;21;01m.\u001b[39;00m\u001b[38;5;21;01mhilbert\u001b[39;00m \u001b[38;5;28;01mimport\u001b[39;00m HilbertSpace\n\u001b[1;32m     25\u001b[0m \u001b[38;5;28;01mfrom\u001b[39;00m \u001b[38;5;21;01mAlgebra\u001b[39;00m\u001b[38;5;21;01m.\u001b[39;00m\u001b[38;5;21;01mhamil\u001b[39;00m \u001b[38;5;28;01mimport\u001b[39;00m Hamiltonian\n\u001b[0;32m---> 26\u001b[0m \u001b[38;5;28;01mimport\u001b[39;00m \u001b[38;5;21;01mAlgebra\u001b[39;00m\u001b[38;5;21;01m.\u001b[39;00m\u001b[38;5;21;01mOperator\u001b[39;00m\u001b[38;5;21;01m.\u001b[39;00m\u001b[38;5;21;01moperators_spin\u001b[39;00m \u001b[38;5;28;01mas\u001b[39;00m \u001b[38;5;21;01m_operators_spin\u001b[39;00m\n\u001b[1;32m     28\u001b[0m \u001b[38;5;66;03m##########################################################################################\u001b[39;00m\n\u001b[1;32m     29\u001b[0m \u001b[38;5;28;01mimport\u001b[39;00m \u001b[38;5;21;01mgeneral_python\u001b[39;00m\u001b[38;5;21;01m.\u001b[39;00m\u001b[38;5;21;01malgebra\u001b[39;00m\u001b[38;5;21;01m.\u001b[39;00m\u001b[38;5;21;01mlinalg\u001b[39;00m \u001b[38;5;28;01mas\u001b[39;00m \u001b[38;5;21;01mlinalg\u001b[39;00m\n",
      "\u001b[0;31mImportError\u001b[0m: cannot import name 'operators_spin' from 'Operator' (unknown location)"
     ]
    }
   ],
   "source": [
    "from Algebra.Model.Interacting.Spin.qsm import QSM\n",
    "backend = 'np'\n",
    "hamil=QSM(ns=11, hilbert_space=None, n=3, a=0.74, h=1.0, xi=0.2, backend='np', dtype='float64')\n",
    "hamil.h"
   ]
  },
  {
   "cell_type": "markdown",
   "metadata": {},
   "source": [
    "#### Build"
   ]
  },
  {
   "cell_type": "markdown",
   "metadata": {},
   "source": [
    "##### Sparse"
   ]
  },
  {
   "cell_type": "code",
   "execution_count": null,
   "metadata": {},
   "outputs": [],
   "source": [
    "hamil.build(verbose=True, use_numpy=True)\n",
    "print(f\"Memory:{hamil.memory_gb:.3e}gb\")"
   ]
  },
  {
   "cell_type": "code",
   "execution_count": null,
   "metadata": {},
   "outputs": [],
   "source": [
    "hamil.diagonalize(verbose=True)"
   ]
  },
  {
   "cell_type": "code",
   "execution_count": null,
   "metadata": {},
   "outputs": [],
   "source": [
    "hamil.eig_val"
   ]
  },
  {
   "cell_type": "markdown",
   "metadata": {},
   "source": [
    "##### Dense"
   ]
  },
  {
   "cell_type": "code",
   "execution_count": null,
   "metadata": {},
   "outputs": [],
   "source": [
    "qsm.to_dense()"
   ]
  },
  {
   "cell_type": "code",
   "execution_count": null,
   "metadata": {},
   "outputs": [],
   "source": [
    "qsm.build(verbose=True, use_numpy=True)"
   ]
  },
  {
   "cell_type": "code",
   "execution_count": null,
   "metadata": {},
   "outputs": [],
   "source": [
    "qsm.diagonalize(verbose=True)"
   ]
  },
  {
   "cell_type": "code",
   "execution_count": null,
   "metadata": {},
   "outputs": [],
   "source": [
    "qsm.h_memory_gb"
   ]
  },
  {
   "cell_type": "markdown",
   "metadata": {},
   "source": [
    "##### Plot tests"
   ]
  },
  {
   "cell_type": "code",
   "execution_count": null,
   "metadata": {},
   "outputs": [],
   "source": [
    "import matplotlib.pyplot as plt\n",
    "plt.plot(hamil.eig_val)\n",
    "hamil.eig_val, hamil.eig_vec, hamil.eig_vec.shape"
   ]
  },
  {
   "cell_type": "code",
   "execution_count": null,
   "metadata": {},
   "outputs": [],
   "source": [
    "import numpy as np\n",
    "# make dense\n",
    "qsm_dense   = qsm.hamil.todense() if qsm.sparse else qsm.hamil\n",
    "minimum     = qsm_dense.min()\n",
    "maximum     = qsm_dense.max()\n",
    "qsm_dense   = np.abs(qsm_dense) / np.abs(qsm_dense).max()\n",
    "\n",
    "print(\"Minimum value:\", minimum)\n",
    "print(\"Maximum value:\", maximum)\n",
    "\n",
    "plt.figure(figsize=(5, 5))\n",
    "plt.imshow(qsm_dense, cmap='viridis')\n",
    "plt.colorbar()\n",
    "plt.title(\"Density Representation\")\n",
    "plt.show()"
   ]
  },
  {
   "cell_type": "markdown",
   "metadata": {},
   "source": [
    "##### Operators"
   ]
  },
  {
   "cell_type": "code",
   "execution_count": null,
   "metadata": {},
   "outputs": [],
   "source": [
    "from Algebra.Operator.operators_spin import sig_x, sig_z, OperatorTypeActing\n",
    "from general_python.common import binary\n",
    "import numpy as np\n",
    "\n",
    "backend     = 'np'\n",
    "ns          = 4\n",
    "nh          = 2**ns   \n",
    "sig_x_op = sig_x(ns = ns, type_act = OperatorTypeActing.Global, sites = [ns - 1], backend=backend)\n",
    "sig_z_op = sig_z(ns = ns, type_act = OperatorTypeActing.Global, sites = [ns - 1], backend=backend)\n",
    "eye_first   = np.eye(2**(ns - 1))\n",
    "eye_first"
   ]
  },
  {
   "cell_type": "markdown",
   "metadata": {},
   "source": [
    "###### Check how it works on the base states"
   ]
  },
  {
   "cell_type": "markdown",
   "metadata": {},
   "source": [
    "###### With states"
   ]
  },
  {
   "cell_type": "code",
   "execution_count": null,
   "metadata": {},
   "outputs": [],
   "source": [
    "int_state_full      = 2**(ns) - 1\n",
    "int_state_half      = 2**(ns - 1) - 1\n",
    "int_state_half_size = 2**(ns//2) - 1\n",
    "\n",
    "# binary representation\n",
    "backend_state           = binary.int2base(int_state_full, size=ns, backend=backend)\n",
    "backend_state_half      = binary.int2base(int_state_half, size=ns, backend=backend)\n",
    "backend_state_half_size = binary.int2base(int_state_half_size, size=ns//2, backend=backend)\n",
    "# string representation\n",
    "string_state            = binary.int2binstr(int_state_full, bits=ns)\n",
    "string_state_half       = binary.int2binstr(int_state_half, bits=ns)\n",
    "string_state_half_size  = binary.int2binstr(int_state_half_size, bits=ns)\n",
    "\n",
    "# act on the integer states\n",
    "for state in [int_state_full, int_state_half, int_state_half_size]:\n",
    "    print()\n",
    "    # sigma x\n",
    "    print(\"Applying sigma_x\")\n",
    "    print(f\"Acting on state {state} ({binary.int2binstr(state, bits=ns)})\")\n",
    "    resulting_state, resulting_value = sig_x_op(state)\n",
    "    print(f\"Resulting state: {resulting_state[0]}\")\n",
    "    print(f\"Resulting value: {resulting_value}\")\n",
    "    print(f\"Binary representation of resulting state: {binary.int2binstr(resulting_state[0], bits=ns)}\")\n",
    "    # sigma z\n",
    "    print(\"Applying sigma_z\")\n",
    "    resulting_state, resulting_value = sig_z_op(state)\n",
    "    print(f\"Resulting state: {resulting_state[0]}\")\n",
    "    print(f\"Resulting value: {resulting_value}\")\n",
    "    print(f\"Binary representation of resulting state: {binary.int2binstr(resulting_state[0], bits=ns)}\")\n",
    "    print()\n"
   ]
  },
  {
   "cell_type": "code",
   "execution_count": null,
   "metadata": {},
   "outputs": [],
   "source": [
    "from Algebra.Operator.operators_spin import _SIG_X, _SIG_Z, _SIG_0\n",
    "\n",
    "sig_x_op_mat = sig_x_op.matrix(dim = nh, matrix_type = 'sparse', use_numpy = True)\n",
    "sig_x_op_mat_kron = np.kron(eye_first, _SIG_X * 0.5)\n",
    "sig_z_op_mat = sig_z_op.matrix(dim = nh, matrix_type = 'sparse', use_numpy = True)\n",
    "sig_z_op_mat_kron = np.kron(eye_first, -_SIG_Z * 0.5)\n",
    "\n",
    "# compare the two\n",
    "is_equal = np.allclose(sig_x_op_mat.todense(), sig_x_op_mat_kron)\n",
    "print(\"Are the two matrices (sig_x) equal?\", is_equal)\n",
    "is_equal = np.allclose(sig_z_op_mat.todense(), sig_z_op_mat_kron)\n",
    "print(\"Are the two matrices (sig_z) equal?\", is_equal)\n",
    "\n",
    "if nh < 64:\n",
    "    from general_python.common.plot import MatrixPrinter\n",
    "    print(\"From the operator (sig_x)\")\n",
    "    MatrixPrinter.print_matrix(sig_x_op_mat.todense())\n",
    "    print(\"From the operator (sig_z)\")\n",
    "    MatrixPrinter.print_matrix(sig_z_op_mat.todense())\n",
    "    print(\"From tensor (sig_x)\")\n",
    "    MatrixPrinter.print_matrix(sig_x_op_mat_kron)\n",
    "    print(\"From tensor (sig_z)\")\n",
    "    MatrixPrinter.print_matrix(sig_z_op_mat_kron)"
   ]
  },
  {
   "cell_type": "markdown",
   "metadata": {},
   "source": [
    "###### With Hamiltonian"
   ]
  },
  {
   "cell_type": "markdown",
   "metadata": {},
   "source": [
    "###### Matrix"
   ]
  },
  {
   "cell_type": "code",
   "execution_count": null,
   "metadata": {},
   "outputs": [],
   "source": [
    "from general_python.algebra.linalg import act, overlap\n",
    "from general_python.common.plot import Plotter, colorsCycle\n",
    "from general_python.maths.statistics import Statistics, HistogramAverage, Fraction\n",
    "from Algebra.Operator.operators_spin import sig_x, sig_z, OperatorTypeActing\n",
    "import matplotlib.pyplot as plt\n",
    "from tqdm import tqdm\n",
    "\n",
    "dtype           = 'float64'\n",
    "nrealizations   = (np.array([100, 100, 100, 50, 30, 20])/5).astype(int)\n",
    "alpha           = 0.86\n",
    "histograms_x    = {}\n",
    "histograms_z    = {}\n",
    "diagonals_x     = {}\n",
    "diagonals_z     = {}\n",
    "energies        = {}\n",
    "nss             = [6,7,8,9]\n",
    "\n",
    "# nss             = [9,10,11]\n",
    "# nrealizations   = [10]\n",
    "\n",
    "def set_histogram(hamiltonian, hist_sig_x: HistogramAverage, hist_sig_z: HistogramAverage, nbins):\n",
    "    bandwidth       = hamiltonian.get_bandwidth()\n",
    "    omax            = bandwidth * 3\n",
    "    omin            = 0.01 / hamiltonian.hilbert_size\n",
    "    tolerance       = 0.02 * bandwidth\n",
    "    hist_sig_x.reset(nbins=nbins)\n",
    "    hist_sig_x.uniform_log(v_max=omax, v_min=omin)\n",
    "    hist_sig_z.reset(nbins=nbins)\n",
    "    hist_sig_z.uniform_log(v_max=omax, v_min=omin)\n",
    "    return tolerance\n",
    "\n",
    "for ii, ns in enumerate(nss):\n",
    "    realizations    = nrealizations[ii] if ii < len(nrealizations) else nrealizations[-1]\n",
    "    energies[ns]    = []\n",
    "    diagonals_x[ns] = []\n",
    "    diagonals_z[ns] = []\n",
    "    nh              = 2**ns\n",
    "    sites           = [ns - 1]\n",
    "    # sites           = [0]\n",
    "    sig_x_op        = sig_x(ns = ns, type_act = OperatorTypeActing.Global, sites = sites, backend=backend)\n",
    "    sig_z_op        = sig_z(ns = ns, type_act = OperatorTypeActing.Global, sites = sites, backend=backend)\n",
    "    sig_x_op_mat    = sig_x_op.matrix(dim = nh, matrix_type = 'sparse', use_numpy = True)\n",
    "    sig_z_op_mat    = sig_z_op.matrix(dim = nh, matrix_type = 'sparse', use_numpy = True)\n",
    "    histogram_sig_x = HistogramAverage(dtype=dtype)\n",
    "    histogram_sig_z = HistogramAverage(dtype=dtype)\n",
    "    nbins           = int(20 * np.log2(nh))\n",
    "    tolerance       = 0.0\n",
    "    for realization in tqdm(range(realizations)):\n",
    "        # print(f\"Realization {realization + 1}/{nrealizations}\")\n",
    "        hamil       = QSM(ns=ns, hilbert_space=None, n=3, a=alpha, h=1.0, xi=0.2, backend = 'np', dtype='float64')\n",
    "        hamil.build(verbose=False, use_numpy=True)\n",
    "        hamil.diagonalize(verbose=False)\n",
    "        states      = hamil.eig_vec\n",
    "        eigvals     = hamil.eig_val\n",
    "        sig_x_elems = overlap(states, states, sig_x_op_mat, backend = backend)\n",
    "        sig_z_elems = overlap(states, states, sig_z_op_mat, backend = backend)\n",
    "        diag_sig_x  = sig_x_elems.diagonal()\n",
    "        diag_sig_z  = sig_z_elems.diagonal()\n",
    "        if realization == 0:\n",
    "            tolerance = set_histogram(hamil, histogram_sig_x, histogram_sig_z, nbins)\n",
    "        # get the average energy\n",
    "        energy_at       = hamil.av_en\n",
    "        # create the f_functions by taking the middle spectrum (%)\n",
    "        w, i_idx, j_idx = Fraction.spectral_function_fraction(eigvals, energy_at, tolerance)\n",
    "        # ones            = np.ones_like(sig_x_elems)\n",
    "        # ones[i_idx, j_idx] = 0\n",
    "        # plt.imshow(ones)\n",
    "        # fill the histogram\n",
    "        sig_x_changed   = np.abs(sig_x_elems[i_idx, j_idx])**2\n",
    "        sig_z_changed   = np.abs(sig_z_elems[i_idx, j_idx])**2\n",
    "        histogram_sig_x.append(w, np.abs(sig_x_elems[i_idx, j_idx])**2)\n",
    "        histogram_sig_z.append(w, np.abs(sig_z_elems[i_idx, j_idx])**2)\n",
    "        diagonals_x[ns].append(diag_sig_x)\n",
    "        diagonals_z[ns].append(diag_sig_z)\n",
    "        energies[ns].append(eigvals)\n",
    "    histograms_x[ns] = histogram_sig_x\n",
    "    histograms_z[ns] = histogram_sig_z\n",
    "    "
   ]
  },
  {
   "cell_type": "code",
   "execution_count": null,
   "metadata": {},
   "outputs": [],
   "source": [
    "from general_python.physics.eigenlevels import gap_ratio\n",
    "fig, ax     = Plotter.get_subplots(nrows=2, ncols=2, sizex=5, sizey=5, dpi=150)\n",
    "\n",
    "# plot\n",
    "for ii, ns in enumerate(energies.keys()):\n",
    "    realizations = nrealizations[ii] if ii < len(nrealizations) else nrealizations[-1]\n",
    "    nh          = 2**ns\n",
    "    x           = energies[ns][0] / ns\n",
    "    # x           = np.arange(nh)\n",
    "    colors1, _, _= Plotter.get_colormap(nss, cmap='viridis')\n",
    "    colors2, _, _= Plotter.get_colormap(nss, cmap='plasma_r')\n",
    "    color1      = colors1(ns)\n",
    "    color2      = colors2(ns)\n",
    "    Plotter.scatter(ax[0], x, diagonals_x[ns][0], label=f'$L={ns}$', color=color1)\n",
    "    Plotter.scatter(ax[1], x, diagonals_z[ns][0], label=f'$L={ns}$', color=color2)\n",
    "    Plotter.set_ax_params(ax[0], xlabel='i/L', ylabel=r'$O_{ii}$', title='$\\sigma_x$')\n",
    "    Plotter.set_ax_params(ax[1], xlabel='i/L', ylabel=r'$O_{ii}$', title='$\\sigma_z$')\n",
    "\n",
    "    Plotter.scatter(ax[2], histograms_x[ns].bin_edges, histograms_x[ns].averages_av()*nh, label=f'$L={ns}$', color=color1)\n",
    "    Plotter.scatter(ax[3], histograms_z[ns].bin_edges, histograms_z[ns].averages_av()*nh, label=f'$L={ns}$', color=color2)\n",
    "    Plotter.set_ax_params(ax[2], xlabel=r'$\\omega$', \n",
    "        ylabel=r'$\\mathcal{D}|O_{ij}|^2$', scale={'x': 'log', 'y': 'log'})\n",
    "    Plotter.set_ax_params(ax[3], xlabel=r'$\\omega$', \n",
    "        ylabel=r'$\\mathcal{D}|O_{ij}|^2$', scale={'x': 'log', 'y': 'log'})\n",
    "    gap_ratios = [gap_ratio(energies[ns][i])['mean'] for i in range(realizations)]\n",
    "    print(f\"ns = {ns}, gap_ratio = {np.mean(gap_ratios)}\")\n",
    "    Plotter.set_legend(ax[2])\n",
    "fig.tight_layout()"
   ]
  },
  {
   "cell_type": "code",
   "execution_count": null,
   "metadata": {},
   "outputs": [],
   "source": [
    "\n",
    "d_en = np.diff(energies[8])\n",
    "d_en = d_en / np.mean(d_en)\n",
    "gap_ratios = np.minimum(d_en[:-1], d_en[1:]) / np.maximum(d_en[:-1], d_en[1:])\n",
    "print(np.mean(gap_ratios))\n"
   ]
  },
  {
   "cell_type": "markdown",
   "metadata": {},
   "source": [
    "# Linear algebra"
   ]
  },
  {
   "cell_type": "code",
   "execution_count": null,
   "metadata": {},
   "outputs": [],
   "source": [
    "import general_python.algebra as algebra\n",
    "a = algebra.AlgebraTests(backend='jax')\n",
    "b = algebra.AlgebraTests(backend='numpy')"
   ]
  },
  {
   "cell_type": "markdown",
   "metadata": {},
   "source": [
    "## Standard tests"
   ]
  },
  {
   "cell_type": "markdown",
   "metadata": {},
   "source": [
    "### Change the basis with a unitary matrix"
   ]
  },
  {
   "cell_type": "code",
   "execution_count": null,
   "metadata": {},
   "outputs": [],
   "source": [
    "a.change_basis(verbose=True)\n",
    "b.change_basis(verbose=True)"
   ]
  },
  {
   "cell_type": "markdown",
   "metadata": {},
   "source": [
    "### Change the basis of a matrix with a unitary matrix"
   ]
  },
  {
   "cell_type": "code",
   "execution_count": null,
   "metadata": {},
   "outputs": [],
   "source": [
    "a.change_basis_matrix(verbose=True)"
   ]
  },
  {
   "cell_type": "markdown",
   "metadata": {},
   "source": [
    "### Outer product"
   ]
  },
  {
   "cell_type": "code",
   "execution_count": null,
   "metadata": {},
   "outputs": [],
   "source": [
    "a.outer(verbose=True)\n",
    "b.outer(verbose=True)"
   ]
  },
  {
   "cell_type": "markdown",
   "metadata": {},
   "source": [
    "### Kronecker product"
   ]
  },
  {
   "cell_type": "code",
   "execution_count": null,
   "metadata": {},
   "outputs": [],
   "source": [
    "a.kron(verbose=True)"
   ]
  },
  {
   "cell_type": "markdown",
   "metadata": {},
   "source": [
    "## Linear solvers"
   ]
  },
  {
   "cell_type": "code",
   "execution_count": null,
   "metadata": {},
   "outputs": [],
   "source": [
    "a = algebra.SolversTests(backend='numpy')\n",
    "b = algebra.SolversTests(backend='jax')"
   ]
  },
  {
   "cell_type": "code",
   "execution_count": null,
   "metadata": {},
   "outputs": [],
   "source": [
    "a.solver_test()"
   ]
  },
  {
   "cell_type": "markdown",
   "metadata": {},
   "source": [
    "# Binary "
   ]
  },
  {
   "cell_type": "markdown",
   "metadata": {},
   "source": [
    "### Standard tests"
   ]
  },
  {
   "cell_type": "code",
   "execution_count": null,
   "metadata": {},
   "outputs": [],
   "source": [
    "from general_python.common import binary\n",
    "NUM         = 42\n",
    "tests       = binary.BinaryFunctionTests()"
   ]
  },
  {
   "cell_type": "code",
   "execution_count": null,
   "metadata": {},
   "outputs": [],
   "source": [
    "tests.run_tests(NUM, spin_value = binary._BACKENDREPR)"
   ]
  },
  {
   "cell_type": "code",
   "execution_count": null,
   "metadata": {},
   "outputs": [],
   "source": [
    "tests.run_tests(NUM, spin_value = binary._BACKENDREPR, backend = 'np')"
   ]
  },
  {
   "cell_type": "markdown",
   "metadata": {},
   "source": [
    "### Test JAX"
   ]
  },
  {
   "cell_type": "code",
   "execution_count": null,
   "metadata": {},
   "outputs": [],
   "source": [
    "from algebra import get_backend\n",
    "import time \n",
    "from jax import numpy as jnp, random as jnpr\n",
    "import numpy as np, numpy.random as npr\n",
    "from jax import jit\n",
    "\n",
    "seed = 1701\n",
    "\n",
    "# Test the speed of the matrix multiplication\n",
    "key_np = npr.seed(seed)\n",
    "key_jnp = jnpr.key(seed)\n",
    "size = 5000\n",
    "\n",
    "def matrix_mult_test_jax(size=size):\n",
    "    random_mat  = jnpr.normal(key_jnp, (size, size))\n",
    "    vec         = jnpr.normal(key_jnp, (size,))\n",
    "    result      = random_mat @ vec\n",
    "    print(\"Result of matrix-vector multiplication:\\n\", result)\n",
    "    \n",
    "def matrix_mult_test_numpy(size = size):\n",
    "    random_mat  = npr.normal(size=(size, size))\n",
    "    vec         = npr.normal(size=(size,))\n",
    "    result      = random_mat @ vec\n",
    "    print(\"Result of matrix-vector multiplication:\\n\", result)\n",
    "    \n",
    "@jit\n",
    "def matrix_mult_test_jax_jit():\n",
    "    random_mat  = jnpr.normal(key_jnp, (size, size))\n",
    "    vec         = jnpr.normal(key_jnp, (size,))\n",
    "    result      = random_mat @ vec\n",
    "    print(\"Result of matrix-vector multiplication:\\n\", result)\n"
   ]
  },
  {
   "cell_type": "markdown",
   "metadata": {},
   "source": [
    "#### Numpy"
   ]
  },
  {
   "cell_type": "code",
   "execution_count": null,
   "metadata": {},
   "outputs": [],
   "source": [
    "start_time = time.time()\n",
    "matrix_mult_test_numpy()\n",
    "end_time = time.time()\n",
    "print(f\"Time taken: {end_time - start_time:.4f} seconds (numpy)\")"
   ]
  },
  {
   "cell_type": "markdown",
   "metadata": {},
   "source": [
    "#### Jax"
   ]
  },
  {
   "cell_type": "code",
   "execution_count": null,
   "metadata": {},
   "outputs": [],
   "source": [
    "start_time = time.time()\n",
    "matrix_mult_test_jax()\n",
    "end_time = time.time()\n",
    "print(f\"Time taken: {end_time - start_time:.4f} seconds (jax)\")"
   ]
  },
  {
   "cell_type": "markdown",
   "metadata": {},
   "source": [
    "#### Jax jit"
   ]
  },
  {
   "cell_type": "code",
   "execution_count": null,
   "metadata": {},
   "outputs": [],
   "source": [
    "start_time = time.time()\n",
    "matrix_mult_test_jax_jit()\n",
    "end_time = time.time()  \n",
    "print(f\"Time taken: {end_time - start_time:.4f} seconds (jax, jitted)\")"
   ]
  },
  {
   "cell_type": "markdown",
   "metadata": {},
   "source": [
    "# Lattice\n"
   ]
  },
  {
   "cell_type": "code",
   "execution_count": null,
   "metadata": {},
   "outputs": [],
   "source": [
    "from lattices import Lattice, run_lattice_tests\n",
    "\n",
    "# Run tests for different configurations\n",
    "# run_lattice_tests(dim=1, lx=10, ly=1, lz=1, bc=lattices.LatticeBC.PBC, typek=\"square\")\n",
    "# run_lattice_tests(dim=2, lx=5, ly=3, lz=1, bc=lattices.LatticeBC.PBC, typek=\"square\")\n",
    "# run_lattice_tests(dim=2, lx=5, ly=5, lz=1, bc=lattices.LatticeBC.OBC, typek=\"square\")\n",
    "# run_lattice_tests(dim=3, lx=3, ly=3, lz=3, bc=lattices.LatticeBC.PBC, typek=\"square\")\n",
    "run_lattice_tests(dim=2, lx=3, ly=2, lz=1, bc=lattices.LatticeBC.PBC, typek=\"honeycomb\")"
   ]
  },
  {
   "cell_type": "code",
   "execution_count": null,
   "metadata": {},
   "outputs": [],
   "source": [
    "import numpy as np \n",
    "import matplotlib.pyplot as plt\n",
    "\n",
    "plt.figure(figsize=(8,8))\n",
    "\n",
    "a = 1\n",
    "b = 1\n",
    "c = 1\n",
    "\n",
    "Lx = 4\n",
    "Ly = 2\n",
    "Ns = 2 * Lx * Ly\n",
    "\n",
    "_a1 = np.array([np.sqrt(3) * a / 2.0, 3 * a / 2.0, 0])\n",
    "_a2 = np.array([np.sqrt(3) * a / 2.0, -3 * a / 2.0, 0])\n",
    "_a3 = np.array([0, 0, c])\n",
    "\n",
    "\n",
    "\n",
    "coords      = []\n",
    "move_vector = _a1 - np.array([0, a, 0])\n",
    "for i in range(Ns):\n",
    "    # get the unit cell on a square lattic\n",
    "    x = (i // 2) % Lx\n",
    "    y = ((i//2) // Lx) % Ly\n",
    "    \n",
    "    # from coorditates to position on the lattice\n",
    "    xy = np.array([0., 0, 0]) if i % 2 == 0 else move_vector\n",
    "    xy += x * (_a1 + _a2) + y * _a1\n",
    "    xp, yp = xy[0], xy[1]\n",
    "    print(xp, yp)\n",
    "    plt.scatter(xp, yp, color='red' if i % 2 == 0 else 'blue', marker='o', s=100, facecolor='none')\n",
    "    plt.text(xp + 0.1, yp + 0.1, i)\n",
    "    \n",
    "    print(\"Ns=\", i, \"-- (x,y)=\", x, y)\n",
    "\n",
    "\n",
    "plt.arrow(0, 0, _a1[0], _a1[1], head_width=0.1, head_length=0.1, fc='r', ec='r')\n",
    "plt.arrow(0, 0, _a2[0], _a2[1], head_width=0.1, head_length=0.1, fc='b', ec='b')\n",
    "# plt.arrow(0, 0, _a1[0] - _a2[0], _a1[1] - _a2[1], head_width=0.1, head_length=0.1, fc='g', ec='g')\n",
    "# plt.arrow(0, 0, _a1[0] + _a2[0], _a1[1] + _a2[1], head_width=0.1, head_length=0.1, fc='y', ec='y')\n",
    "# plt.arrow(0, 0, -_a1[0] + _a2[0], -_a1[1] + _a2[1], head_width=0.1, head_length=0.1, fc='m', ec='m')\n",
    "# plt.arrow(0, 0, -_a1[0] - _a2[0], -_a1[1] - _a2[1], head_width=0.1, head_length=0.1, fc='c', ec='c')\n"
   ]
  },
  {
   "cell_type": "code",
   "execution_count": null,
   "metadata": {},
   "outputs": [],
   "source": []
  },
  {
   "cell_type": "markdown",
   "metadata": {},
   "source": [
    "# NQS"
   ]
  },
  {
   "cell_type": "markdown",
   "metadata": {},
   "source": [
    "## Sampler"
   ]
  },
  {
   "cell_type": "code",
   "execution_count": 1,
   "metadata": {},
   "outputs": [
    {
     "name": "stderr",
     "output_type": "stream",
     "text": [
      "WARNING:jax._src.lib.xla_bridge:No GPU/TPU found, falling back to CPU. (Set TF_CPP_MIN_LOG_LEVEL=0 and rerun for more info.)\n"
     ]
    },
    {
     "name": "stdout",
     "output_type": "stream",
     "text": [
      "=== Backend Initialization ===\n",
      "\tNumPy Version: 1.26.4\n",
      "\tSciPy Version: 1.13.1\n",
      "\tJAX Version: Not Available\n",
      "\t\tActive Backend: jax\n",
      "\t\tJAX Available: True\n",
      "\t\tDefault Random Key: [    0 12345]\n",
      "\tActive Backend Modules:\n",
      "\t\t\tMain Module: <module 'jax.numpy' from '/home/klimak/libraries/anaconda3/lib/python3.11/site-packages/jax/numpy/__init__.py'>\n",
      "\t\t\tRandom Module: <module 'jax.random' from '/home/klimak/libraries/anaconda3/lib/python3.11/site-packages/jax/random.py'>\n",
      "\t\t\tSciPy Module: <module 'jax.scipy' from '/home/klimak/libraries/anaconda3/lib/python3.11/site-packages/jax/scipy/__init__.py'>\n",
      "=== End of Backend Info ===\n"
     ]
    },
    {
     "data": {
      "text/plain": [
       "MCSampler(shape=(10,), mu=2.0, beta=1.0, therm_steps=10, sweep_steps=10, numsamples=5, numchains=10, backend=np)"
      ]
     },
     "execution_count": 1,
     "metadata": {},
     "output_type": "execute_result"
    }
   ],
   "source": [
    "import Solver.MonteCarlo.sampler as Sampling\n",
    "from general_python.algebra.utils import get_backend\n",
    "from general_python.ml.net_impl.net_simple import SimpleNet\n",
    "\n",
    "import random\n",
    "import numpy as np\n",
    "\n",
    "# get random backend\n",
    "backend     = 'np'\n",
    "seed        = 1701\n",
    "be_modules  = get_backend(backend, random=True, seed=seed, scipy=True)\n",
    "backend_np, (rng, rng_k), backend_sp = be_modules if isinstance(be_modules, tuple) else (be_modules, (None, None), None)\n",
    "\n",
    "ns                  = 10\n",
    "st_shape            = (ns, )\n",
    "activations         = ('relu', 'sigmoid')\n",
    "net                 = SimpleNet(act_fun =   activations, \n",
    "                        input_shape     =   st_shape, \n",
    "                        output_shape    =   (1, ),\n",
    "                        layers          =   (5, ),\n",
    "                        backend=backend, dtype='complex128',)\n",
    "            # [random.random() + 1j * random.random() for _ in range(x.shape[0])])\n",
    "# a simple callable network function\n",
    "\n",
    "sampler = Sampling.MCSampler(\n",
    "    net         = net,\n",
    "    shape       = st_shape,\n",
    "    rng         = rng,\n",
    "    rng_k       = rng_k,\n",
    "    numchains   = 10,\n",
    "    numsamples  = 5,\n",
    "    sweep_steps = 10,\n",
    "    backend     = backend,\n",
    "    therm_steps = 10,\n",
    ")\n",
    "\n",
    "sampler"
   ]
  },
  {
   "cell_type": "code",
   "execution_count": 2,
   "metadata": {},
   "outputs": [],
   "source": [
    "# check how the sampler performs\n",
    "(states, logprobas), (configs, configs_ansatze), probabilities = sampler.sample()"
   ]
  },
  {
   "cell_type": "code",
   "execution_count": null,
   "metadata": {},
   "outputs": [
    {
     "data": {
      "text/plain": [
       "((10, 10), (10,))"
      ]
     },
     "execution_count": 3,
     "metadata": {},
     "output_type": "execute_result"
    }
   ],
   "source": [
    "# final states after sampling, ansatze after sampling\n",
    "states.shape, logprobas.shape"
   ]
  },
  {
   "cell_type": "code",
   "execution_count": null,
   "metadata": {},
   "outputs": [
    {
     "data": {
      "text/plain": [
       "((5, 10, 10), (5, 10, 1), (5, 10, 1))"
      ]
     },
     "execution_count": 4,
     "metadata": {},
     "output_type": "execute_result"
    }
   ],
   "source": [
    "configs.shape, configs_ansatze.shape, probabilities.shape"
   ]
  },
  {
   "cell_type": "markdown",
   "metadata": {},
   "source": [
    "### Flow"
   ]
  },
  {
   "cell_type": "markdown",
   "metadata": {},
   "source": [
    "#### Standard"
   ]
  },
  {
   "cell_type": "code",
   "execution_count": null,
   "metadata": {},
   "outputs": [
    {
     "name": "stdout",
     "output_type": "stream",
     "text": [
      "Detailed Flow of the Configurations:\n",
      "\n",
      "  Total number of configurations: 10\n",
      "  Total number of states: 10\n",
      "  Total number of probabilities: 10\n",
      "\n",
      "--- Configuration flow 0 ---\n",
      "     Configuration \\(\\mathbf{S}_{0}\\):\n"
     ]
    },
    {
     "data": {
      "text/latex": [
       "$\\displaystyle \\left[\\begin{matrix}-0.5 & 0.5 & 0.5 & -0.5 & 0.5 & -0.5 & -0.5 & 0.5 & 0.5 & 0.5\\\\0.5 & -0.5 & -0.5 & 0.5 & 0.5 & -0.5 & -0.5 & 0.5 & -0.5 & -0.5\\\\0.5 & 0.5 & 0.5 & -0.5 & -0.5 & 0.5 & -0.5 & -0.5 & 0.5 & -0.5\\\\-0.5 & -0.5 & 0.5 & 0.5 & -0.5 & -0.5 & 0.5 & -0.5 & -0.5 & -0.5\\\\0.5 & 0.5 & -0.5 & 0.5 & -0.5 & -0.5 & 0.5 & 0.5 & 0.5 & 0.5\\\\0.5 & 0.5 & 0.5 & -0.5 & -0.5 & 0.5 & 0.5 & -0.5 & -0.5 & 0.5\\\\-0.5 & -0.5 & -0.5 & 0.5 & 0.5 & 0.5 & -0.5 & -0.5 & 0.5 & 0.5\\\\-0.5 & 0.5 & 0.5 & 0.5 & 0.5 & -0.5 & 0.5 & -0.5 & -0.5 & 0.5\\\\-0.5 & -0.5 & 0.5 & -0.5 & -0.5 & -0.5 & -0.5 & -0.5 & 0.5 & 0.5\\\\-0.5 & 0.5 & -0.5 & -0.5 & 0.5 & -0.5 & -0.5 & -0.5 & 0.5 & 0.5\\end{matrix}\\right]$"
      ],
      "text/plain": [
       "Matrix([\n",
       "[-0.5,  0.5,  0.5, -0.5,  0.5, -0.5, -0.5,  0.5,  0.5,  0.5],\n",
       "[ 0.5, -0.5, -0.5,  0.5,  0.5, -0.5, -0.5,  0.5, -0.5, -0.5],\n",
       "[ 0.5,  0.5,  0.5, -0.5, -0.5,  0.5, -0.5, -0.5,  0.5, -0.5],\n",
       "[-0.5, -0.5,  0.5,  0.5, -0.5, -0.5,  0.5, -0.5, -0.5, -0.5],\n",
       "[ 0.5,  0.5, -0.5,  0.5, -0.5, -0.5,  0.5,  0.5,  0.5,  0.5],\n",
       "[ 0.5,  0.5,  0.5, -0.5, -0.5,  0.5,  0.5, -0.5, -0.5,  0.5],\n",
       "[-0.5, -0.5, -0.5,  0.5,  0.5,  0.5, -0.5, -0.5,  0.5,  0.5],\n",
       "[-0.5,  0.5,  0.5,  0.5,  0.5, -0.5,  0.5, -0.5, -0.5,  0.5],\n",
       "[-0.5, -0.5,  0.5, -0.5, -0.5, -0.5, -0.5, -0.5,  0.5,  0.5],\n",
       "[-0.5,  0.5, -0.5, -0.5,  0.5, -0.5, -0.5, -0.5,  0.5,  0.5]])"
      ]
     },
     "metadata": {},
     "output_type": "display_data"
    },
    {
     "name": "stdout",
     "output_type": "stream",
     "text": [
      "    Ansatz \\(f(\\mathbf{S}_{0})\\):\n"
     ]
    },
    {
     "data": {
      "text/latex": [
       "$\\displaystyle \\left[\\begin{matrix}0.243104241479246 - 0.0276354455144398 i & 0.282055377933926 + 0.352876602476411 i & 0.3079503552809 + 0.212957974552467 i & 0.250698412785718 + 0.0580381634205277 i & 0.526410725448599 + 0.0183324201182952 i & -0.109233048299867 + 0.35961465664988 i & 0.307735743708419 + 0.0361965578135887 i & 0.228253260978906 + 0.119531331580963 i & 0.252103762907549 - 0.109410936711242 i & 0.235756647884145 + 0.0862162987254024 i\\end{matrix}\\right]$"
      ],
      "text/plain": [
       "Matrix([[0.243104241479246 - 0.0276354455144398*I, 0.282055377933926 + 0.352876602476411*I, 0.3079503552809 + 0.212957974552467*I, 0.250698412785718 + 0.0580381634205277*I, 0.526410725448599 + 0.0183324201182952*I, -0.109233048299867 + 0.35961465664988*I, 0.307735743708419 + 0.0361965578135887*I, 0.228253260978906 + 0.119531331580963*I, 0.252103762907549 - 0.109410936711242*I, 0.235756647884145 + 0.0862162987254024*I]])"
      ]
     },
     "metadata": {},
     "output_type": "display_data"
    },
    {
     "name": "stdout",
     "output_type": "stream",
     "text": [
      "    Probability \\(P(\\mathbf{S}_{0})\\):\n"
     ]
    },
    {
     "data": {
      "text/latex": [
       "$\\displaystyle \\left[\\begin{matrix}1.0 & 1.0 & 1.0 & 1.0 & 1.0 & 1.0 & 1.0 & 1.0 & 1.0 & 1.0\\end{matrix}\\right]$"
      ],
      "text/plain": [
       "Matrix([[1.0, 1.0, 1.0, 1.0, 1.0, 1.0, 1.0, 1.0, 1.0, 1.0]])"
      ]
     },
     "metadata": {},
     "output_type": "display_data"
    },
    {
     "name": "stdout",
     "output_type": "stream",
     "text": [
      "\n",
      "--------------------------------------------------\n",
      "\n",
      "--- Configuration flow 1 ---\n",
      "     Configuration \\(\\mathbf{S}_{1}\\):\n"
     ]
    },
    {
     "data": {
      "text/latex": [
       "$\\displaystyle \\left[\\begin{matrix}0.5 & 0.5 & 0.5 & -0.5 & 0.5 & -0.5 & -0.5 & 0.5 & 0.5 & -0.5\\\\-0.5 & 0.5 & 0.5 & 0.5 & 0.5 & 0.5 & -0.5 & -0.5 & -0.5 & -0.5\\\\0.5 & -0.5 & -0.5 & -0.5 & -0.5 & -0.5 & 0.5 & -0.5 & -0.5 & -0.5\\\\-0.5 & 0.5 & 0.5 & 0.5 & 0.5 & 0.5 & -0.5 & 0.5 & 0.5 & -0.5\\\\-0.5 & 0.5 & 0.5 & 0.5 & 0.5 & 0.5 & -0.5 & 0.5 & -0.5 & 0.5\\\\-0.5 & -0.5 & -0.5 & 0.5 & -0.5 & 0.5 & -0.5 & 0.5 & 0.5 & -0.5\\\\-0.5 & -0.5 & -0.5 & -0.5 & 0.5 & 0.5 & -0.5 & 0.5 & 0.5 & 0.5\\\\-0.5 & -0.5 & -0.5 & 0.5 & 0.5 & -0.5 & -0.5 & 0.5 & -0.5 & 0.5\\\\-0.5 & 0.5 & 0.5 & -0.5 & -0.5 & 0.5 & -0.5 & 0.5 & 0.5 & 0.5\\\\0.5 & 0.5 & -0.5 & -0.5 & -0.5 & -0.5 & 0.5 & -0.5 & 0.5 & -0.5\\end{matrix}\\right]$"
      ],
      "text/plain": [
       "Matrix([\n",
       "[ 0.5,  0.5,  0.5, -0.5,  0.5, -0.5, -0.5,  0.5,  0.5, -0.5],\n",
       "[-0.5,  0.5,  0.5,  0.5,  0.5,  0.5, -0.5, -0.5, -0.5, -0.5],\n",
       "[ 0.5, -0.5, -0.5, -0.5, -0.5, -0.5,  0.5, -0.5, -0.5, -0.5],\n",
       "[-0.5,  0.5,  0.5,  0.5,  0.5,  0.5, -0.5,  0.5,  0.5, -0.5],\n",
       "[-0.5,  0.5,  0.5,  0.5,  0.5,  0.5, -0.5,  0.5, -0.5,  0.5],\n",
       "[-0.5, -0.5, -0.5,  0.5, -0.5,  0.5, -0.5,  0.5,  0.5, -0.5],\n",
       "[-0.5, -0.5, -0.5, -0.5,  0.5,  0.5, -0.5,  0.5,  0.5,  0.5],\n",
       "[-0.5, -0.5, -0.5,  0.5,  0.5, -0.5, -0.5,  0.5, -0.5,  0.5],\n",
       "[-0.5,  0.5,  0.5, -0.5, -0.5,  0.5, -0.5,  0.5,  0.5,  0.5],\n",
       "[ 0.5,  0.5, -0.5, -0.5, -0.5, -0.5,  0.5, -0.5,  0.5, -0.5]])"
      ]
     },
     "metadata": {},
     "output_type": "display_data"
    },
    {
     "name": "stdout",
     "output_type": "stream",
     "text": [
      "    Ansatz \\(f(\\mathbf{S}_{1})\\):\n"
     ]
    },
    {
     "data": {
      "text/latex": [
       "$\\displaystyle \\left[\\begin{matrix}0.10632535920785 + 0.0681857654773016 i & -0.422451718253746 + 0.0886478375884673 i & 0.476758100906728 + 0.147500106389363 i & 0.388247997470647 + 0.270710617466821 i & -0.0800576705415127 + 0.122886646171274 i & 0.366300255179672 + 0.0783994057970958 i & 0.220521135566913 + 0.143159362726003 i & 0.25214479619002 + 0.199821679519959 i & 0.379720868264184 - 0.0732317785944154 i & 0.431937063913073 + 0.110626791389807 i\\end{matrix}\\right]$"
      ],
      "text/plain": [
       "Matrix([[0.10632535920785 + 0.0681857654773016*I, -0.422451718253746 + 0.0886478375884673*I, 0.476758100906728 + 0.147500106389363*I, 0.388247997470647 + 0.270710617466821*I, -0.0800576705415127 + 0.122886646171274*I, 0.366300255179672 + 0.0783994057970958*I, 0.220521135566913 + 0.143159362726003*I, 0.25214479619002 + 0.199821679519959*I, 0.379720868264184 - 0.0732317785944154*I, 0.431937063913073 + 0.110626791389807*I]])"
      ]
     },
     "metadata": {},
     "output_type": "display_data"
    },
    {
     "name": "stdout",
     "output_type": "stream",
     "text": [
      "    Probability \\(P(\\mathbf{S}_{1})\\):\n"
     ]
    },
    {
     "data": {
      "text/latex": [
       "$\\displaystyle \\left[\\begin{matrix}1.0 & 1.0 & 1.0 & 1.0 & 1.0 & 1.0 & 1.0 & 1.0 & 1.0 & 1.0\\end{matrix}\\right]$"
      ],
      "text/plain": [
       "Matrix([[1.0, 1.0, 1.0, 1.0, 1.0, 1.0, 1.0, 1.0, 1.0, 1.0]])"
      ]
     },
     "metadata": {},
     "output_type": "display_data"
    },
    {
     "name": "stdout",
     "output_type": "stream",
     "text": [
      "\n",
      "--------------------------------------------------\n",
      "\n",
      "--- Configuration flow 2 ---\n",
      "     Configuration \\(\\mathbf{S}_{2}\\):\n"
     ]
    },
    {
     "data": {
      "text/latex": [
       "$\\displaystyle \\left[\\begin{matrix}-0.5 & -0.5 & 0.5 & -0.5 & 0.5 & -0.5 & -0.5 & 0.5 & -0.5 & 0.5\\\\0.5 & 0.5 & 0.5 & -0.5 & -0.5 & 0.5 & 0.5 & 0.5 & -0.5 & 0.5\\\\-0.5 & -0.5 & 0.5 & -0.5 & -0.5 & 0.5 & 0.5 & 0.5 & -0.5 & -0.5\\\\0.5 & -0.5 & 0.5 & 0.5 & 0.5 & -0.5 & -0.5 & 0.5 & -0.5 & 0.5\\\\0.5 & -0.5 & -0.5 & 0.5 & 0.5 & 0.5 & -0.5 & 0.5 & 0.5 & 0.5\\\\-0.5 & -0.5 & 0.5 & -0.5 & -0.5 & -0.5 & 0.5 & 0.5 & 0.5 & 0.5\\\\0.5 & -0.5 & -0.5 & -0.5 & -0.5 & 0.5 & -0.5 & -0.5 & 0.5 & -0.5\\\\-0.5 & -0.5 & -0.5 & 0.5 & -0.5 & 0.5 & -0.5 & 0.5 & 0.5 & -0.5\\\\-0.5 & 0.5 & -0.5 & -0.5 & 0.5 & 0.5 & -0.5 & -0.5 & 0.5 & -0.5\\\\0.5 & 0.5 & -0.5 & -0.5 & -0.5 & -0.5 & 0.5 & 0.5 & -0.5 & -0.5\\end{matrix}\\right]$"
      ],
      "text/plain": [
       "Matrix([\n",
       "[-0.5, -0.5,  0.5, -0.5,  0.5, -0.5, -0.5,  0.5, -0.5,  0.5],\n",
       "[ 0.5,  0.5,  0.5, -0.5, -0.5,  0.5,  0.5,  0.5, -0.5,  0.5],\n",
       "[-0.5, -0.5,  0.5, -0.5, -0.5,  0.5,  0.5,  0.5, -0.5, -0.5],\n",
       "[ 0.5, -0.5,  0.5,  0.5,  0.5, -0.5, -0.5,  0.5, -0.5,  0.5],\n",
       "[ 0.5, -0.5, -0.5,  0.5,  0.5,  0.5, -0.5,  0.5,  0.5,  0.5],\n",
       "[-0.5, -0.5,  0.5, -0.5, -0.5, -0.5,  0.5,  0.5,  0.5,  0.5],\n",
       "[ 0.5, -0.5, -0.5, -0.5, -0.5,  0.5, -0.5, -0.5,  0.5, -0.5],\n",
       "[-0.5, -0.5, -0.5,  0.5, -0.5,  0.5, -0.5,  0.5,  0.5, -0.5],\n",
       "[-0.5,  0.5, -0.5, -0.5,  0.5,  0.5, -0.5, -0.5,  0.5, -0.5],\n",
       "[ 0.5,  0.5, -0.5, -0.5, -0.5, -0.5,  0.5,  0.5, -0.5, -0.5]])"
      ]
     },
     "metadata": {},
     "output_type": "display_data"
    },
    {
     "name": "stdout",
     "output_type": "stream",
     "text": [
      "    Ansatz \\(f(\\mathbf{S}_{2})\\):\n"
     ]
    },
    {
     "data": {
      "text/latex": [
       "$\\displaystyle \\left[\\begin{matrix}0.15391040912383 - 0.00805339345866561 i & 0.0590200733773755 + 0.0523173342114108 i & 0.40096887254246 - 0.258434550634401 i & 0.138569076872519 + 0.0912308759591849 i & 0.349721033882914 + 0.0339469961593431 i & 0.5 & 0.246035163522159 + 0.0827719438183845 i & 0.366300255179672 + 0.0783994057970958 i & 0.178870634719293 + 0.273478194266899 i & 0.532410244929099 + 0.07034630418558 i\\end{matrix}\\right]$"
      ],
      "text/plain": [
       "Matrix([[0.15391040912383 - 0.00805339345866561*I, 0.0590200733773755 + 0.0523173342114108*I, 0.40096887254246 - 0.258434550634401*I, 0.138569076872519 + 0.0912308759591849*I, 0.349721033882914 + 0.0339469961593431*I, 0.5, 0.246035163522159 + 0.0827719438183845*I, 0.366300255179672 + 0.0783994057970958*I, 0.178870634719293 + 0.273478194266899*I, 0.532410244929099 + 0.07034630418558*I]])"
      ]
     },
     "metadata": {},
     "output_type": "display_data"
    },
    {
     "name": "stdout",
     "output_type": "stream",
     "text": [
      "    Probability \\(P(\\mathbf{S}_{2})\\):\n"
     ]
    },
    {
     "data": {
      "text/latex": [
       "$\\displaystyle \\left[\\begin{matrix}1.0 & 1.0 & 1.0 & 1.0 & 1.0 & 1.0 & 1.0 & 1.0 & 1.0 & 1.0\\end{matrix}\\right]$"
      ],
      "text/plain": [
       "Matrix([[1.0, 1.0, 1.0, 1.0, 1.0, 1.0, 1.0, 1.0, 1.0, 1.0]])"
      ]
     },
     "metadata": {},
     "output_type": "display_data"
    },
    {
     "name": "stdout",
     "output_type": "stream",
     "text": [
      "\n",
      "--------------------------------------------------\n",
      "\n"
     ]
    }
   ],
   "source": [
    "from general_python.common.plot import MatrixPrinter\n",
    "\n",
    "print(\"Detailed Flow of the Configurations:\\n\")\n",
    "print(f\"  Total number of configurations: {len(configs)}\")\n",
    "print(f\"  Total number of states: {len(states)}\")\n",
    "print(f\"  Total number of probabilities: {len(probabilities)}\\n\")\n",
    "\n",
    "for i in range(len(configs[:3])):\n",
    "    print(f\"--- Configuration flow {i} ---\")\n",
    "    print(\"     Configuration \\\\(\\\\mathbf{S}_{\" + f\"{i}\" + \"}\\\\):\")\n",
    "    MatrixPrinter.print_vector(configs[i])\n",
    "    \n",
    "    print(\"    Ansatz \\\\(f(\\\\mathbf{S}_{\" + f\"{i}\" + \"})\\\\):\")\n",
    "    MatrixPrinter.print_vector(configs_ansatze[i].T)\n",
    "    \n",
    "    print(\"    Probability \\\\(P(\\\\mathbf{S}_{\" + f\"{i}\" + \"})\\\\):\")\n",
    "    MatrixPrinter.print_vector(probabilities[i].T)\n",
    "    print(\"\\n\" + \"-\" * 50 + \"\\n\")\n"
   ]
  },
  {
   "cell_type": "markdown",
   "metadata": {},
   "source": [
    "#### Flattened"
   ]
  },
  {
   "cell_type": "code",
   "execution_count": null,
   "metadata": {},
   "outputs": [
    {
     "name": "stdout",
     "output_type": "stream",
     "text": [
      "Shape of flattened configurations (𝒞): (100, 10)\n",
      "Shape of flattened ansatze (f(𝒞)): (100,)\n",
      "\n",
      "Detailed flow of the configurations:\n",
      "Number of configurations: 100\n",
      "\n",
      "--- Configuration 0 ---\n",
      "\tConfiguration (𝒞):\n",
      "\t [-0.5  0.5  0.5 -0.5  0.5 -0.5 -0.5  0.5  0.5  0.5]\n",
      "'\tAnsatz from sampler (f(𝒞)):\n",
      "\t (0.24310424147924645-0.027635445514439767j)\n",
      "\tAnsatz from the network:\n",
      "\t [0.24310424-0.02763545j]\n",
      "\tVerification (f(𝒞) from network ?= sampler's ansatz): True\n",
      "\n",
      "-------------------------\n",
      "\n",
      "--- Configuration 1 ---\n",
      "\tConfiguration (𝒞):\n",
      "\t [ 0.5 -0.5 -0.5  0.5  0.5 -0.5 -0.5  0.5 -0.5 -0.5]\n",
      "'\tAnsatz from sampler (f(𝒞)):\n",
      "\t (0.2820553779339259+0.35287660247641084j)\n",
      "\tAnsatz from the network:\n",
      "\t [0.28205538+0.3528766j]\n",
      "\tVerification (f(𝒞) from network ?= sampler's ansatz): True\n",
      "\n",
      "-------------------------\n",
      "\n",
      "--- Configuration 2 ---\n",
      "\tConfiguration (𝒞):\n",
      "\t [ 0.5  0.5  0.5 -0.5 -0.5  0.5 -0.5 -0.5  0.5 -0.5]\n",
      "'\tAnsatz from sampler (f(𝒞)):\n",
      "\t (0.3079503552809001+0.2129579745524674j)\n",
      "\tAnsatz from the network:\n",
      "\t [0.30795036+0.21295797j]\n",
      "\tVerification (f(𝒞) from network ?= sampler's ansatz): True\n",
      "\n",
      "-------------------------\n",
      "\n",
      "--- Configuration 3 ---\n",
      "\tConfiguration (𝒞):\n",
      "\t [-0.5 -0.5  0.5  0.5 -0.5 -0.5  0.5 -0.5 -0.5 -0.5]\n",
      "'\tAnsatz from sampler (f(𝒞)):\n",
      "\t (0.25069841278571836+0.058038163420527686j)\n",
      "\tAnsatz from the network:\n",
      "\t [0.25069841+0.05803816j]\n",
      "\tVerification (f(𝒞) from network ?= sampler's ansatz): True\n",
      "\n",
      "-------------------------\n",
      "\n",
      "--- Configuration 4 ---\n",
      "\tConfiguration (𝒞):\n",
      "\t [ 0.5  0.5 -0.5  0.5 -0.5 -0.5  0.5  0.5  0.5  0.5]\n",
      "'\tAnsatz from sampler (f(𝒞)):\n",
      "\t (0.5264107254485989+0.018332420118295247j)\n",
      "\tAnsatz from the network:\n",
      "\t [0.52641073+0.01833242j]\n",
      "\tVerification (f(𝒞) from network ?= sampler's ansatz): True\n",
      "\n",
      "-------------------------\n",
      "\n"
     ]
    }
   ],
   "source": [
    "from general_python.common.plot import MatrixPrinter\n",
    "\n",
    "# -----------------------------------------------------------------\n",
    "# Flatten the configurations and ansatz arrays with a clearer mathematical description\n",
    "#\n",
    "# Let 𝒞 ∈ ℝ^(N×d) represent the configuration matrix, where:\n",
    "#   N = number of samples (configurations)\n",
    "#   d = st_shape[0] (the dimension of each configuration)\n",
    "#\n",
    "# Similarly, for the ansatz values f(𝒞) (one per configuration), we flatten the array.\n",
    "# -----------------------------------------------------------------\n",
    "\n",
    "# Reshape configurations to a 2D array: each row is one configuration vector.\n",
    "configs_flat = configs.reshape(-1, st_shape[0])\n",
    "print(\"Shape of flattened configurations (𝒞):\", configs_flat.shape)\n",
    "\n",
    "# Flatten the ansatze: each configuration has a single ansatz value.\n",
    "configs_ansatze_flat = configs_ansatze.reshape(-1)\n",
    "print(\"Shape of flattened ansatze (f(𝒞)):\", configs_ansatze_flat.shape)\n",
    "\n",
    "print(\"\\nDetailed flow of the configurations:\")\n",
    "print(\"Number of configurations:\", len(configs_flat))\n",
    "print()\n",
    "\n",
    "# -----------------------------------------------------------------\n",
    "# For the first 5 configurations, print:\n",
    "#   - The configuration vector 𝒞ᵢ\n",
    "#   - The ansatz from the network f(𝒞ᵢ)\n",
    "#   - A verification whether f(𝒞ᵢ) matches the ansatz given by the sampler.\n",
    "# -----------------------------------------------------------------\n",
    "for i in range(len(configs_flat[:5])):\n",
    "    print(f\"--- Configuration {i} ---\")\n",
    "    \n",
    "    print(\"\\tConfiguration (𝒞):\")\n",
    "    print(\"\\t\", configs_flat[i])\n",
    "    # MatrixPrinter.print_vector(configs_flat[i]\n",
    "    \n",
    "    print(\"'\\tAnsatz from sampler (f(𝒞)):\")\n",
    "    # Compute the ansatz from the network using the configuration.\n",
    "    print(\"\\t\", configs_ansatze_flat[i])\n",
    "    ansatz_net = net(configs_flat[i])\n",
    "    print(\"\\tAnsatz from the network:\")\n",
    "    print(\"\\t\", ansatz_net)\n",
    "    \n",
    "    # Verify if the network's ansatz equals the sampler's ansatz.\n",
    "    is_same = np.allclose(ansatz_net, configs_ansatze_flat[i])\n",
    "    print(\"\\tVerification (f(𝒞) from network ?= sampler's ansatz):\", is_same)\n",
    "    \n",
    "    print(\"\\n-------------------------\\n\")\n"
   ]
  },
  {
   "cell_type": "markdown",
   "metadata": {},
   "source": [
    "## Solver class"
   ]
  },
  {
   "cell_type": "code",
   "execution_count": 12,
   "metadata": {},
   "outputs": [],
   "source": [
    "import NQS.nqs as nqsmodule\n",
    "import Solver.MonteCarlo.sampler as Sampling\n",
    "from Algebra.Model.dummy import DummyHamiltonian\n",
    "from general_python.algebra.utils import get_backend\n",
    "from general_python.ml.net_impl.net_simple import SimpleNet\n",
    "\n",
    "import random\n",
    "import numpy as np\n",
    "\n",
    "# get random backend\n",
    "backend             = 'np'\n",
    "seed                = 1701\n",
    "dtypex              = complex\n",
    "be_modules          = get_backend(backend, random=True, seed=seed, scipy=True)\n",
    "backend_np, (rng, rng_k), backend_sp = be_modules if isinstance(be_modules, tuple) else (be_modules, (None, None), None)\n",
    "\n",
    "# get the network\n",
    "ns                  = 2\n",
    "st_shape            = (ns, )\n",
    "activations         = ('relu', 'sigmoid')\n",
    "net                 = SimpleNet(act_fun =   activations, \n",
    "                        input_shape     =   st_shape, \n",
    "                        output_shape    =   (1, ),\n",
    "                        layers          =   (5, ),\n",
    "                        backend         =   backend_np,\n",
    "                        dtype           =   dtypex)\n",
    "\n",
    "# get the sampler\n",
    "sampler = Sampling.MCSampler(\n",
    "    net         = net,\n",
    "    shape       = st_shape,\n",
    "    rng         = rng,\n",
    "    rng_k       = rng_k,\n",
    "    numchains   = 10,\n",
    "    numsamples  = 50,\n",
    "    sweep_steps = 10,\n",
    "    backend     = backend_np,\n",
    "    therm_steps = 10,\n",
    ")\n",
    "\n",
    "# get the Hamiltonian\n",
    "par                 = 0.5 + 1j * 0.5\n",
    "ham                 = DummyHamiltonian(hilbert_space=None, ns = ns, backend = backend, dtype = net.dtype)\n",
    "batch_size          = 1\n",
    "\n",
    "nqs = nqsmodule.NQS(\n",
    "    net         = net,\n",
    "    sampler     = sampler,\n",
    "    hamiltonian = ham,\n",
    "    lower_betas = None,\n",
    "    lower_states= None,\n",
    "    seed        = seed,\n",
    "    beta        = 1.0,\n",
    "    shape       = st_shape,\n",
    "    backend     = backend_np,\n",
    "    nthread     = 1,\n",
    "    batch_size  = batch_size,\n",
    ")"
   ]
  },
  {
   "cell_type": "markdown",
   "metadata": {},
   "source": [
    "#### Short test of network"
   ]
  },
  {
   "cell_type": "code",
   "execution_count": 4,
   "metadata": {},
   "outputs": [
    {
     "data": {
      "text/plain": [
       "(DeviceArray([[0.97631688-0.15440721j],\n",
       "              [0.48459178+0.30177162j],\n",
       "              [0.35515613-0.50079351j],\n",
       "              [0.40616546+0.03434956j],\n",
       "              [0.97631688-0.15440721j],\n",
       "              [0.97631688-0.15440721j],\n",
       "              [0.40616546+0.03434956j],\n",
       "              [0.40616546+0.03434956j],\n",
       "              [0.40616546+0.03434956j],\n",
       "              [0.97631688-0.15440721j]], dtype=complex128),\n",
       " (10, 1))"
      ]
     },
     "execution_count": 4,
     "metadata": {},
     "output_type": "execute_result"
    }
   ],
   "source": [
    "states      = np.random.choice([-1,1], size=(10, ns), replace=True)\n",
    "params      = net.get_params()\n",
    "if backend == 'jax':\n",
    "    import jax.numpy as jnp\n",
    "    states  = jnp.array(states)\n",
    "    ansatz  = net(params, states)\n",
    "else:\n",
    "    import numpy as np\n",
    "    ansatz  = net(params, states)\n",
    "ansatz = ansatz.reshape(-1, 1)\n",
    "ansatz, ansatz.shape"
   ]
  },
  {
   "cell_type": "markdown",
   "metadata": {},
   "source": [
    "#### Short test of sampler"
   ]
  },
  {
   "cell_type": "code",
   "execution_count": 15,
   "metadata": {},
   "outputs": [
    {
     "data": {
      "text/plain": [
       "(5, 10, 1)"
      ]
     },
     "execution_count": 15,
     "metadata": {},
     "output_type": "execute_result"
    }
   ],
   "source": [
    "# sample the configurations\n",
    "(states, logprobas), (configs, configs_ansatze), probabilities = sampler.sample()\n",
    "\n",
    "# flatten the configurations\n",
    "configs_flat            = configs.reshape(-1, st_shape[0])\n",
    "configs_ansatze_flat    = configs_ansatze.reshape(-1)\n",
    "configs_ansatze.shape"
   ]
  },
  {
   "cell_type": "code",
   "execution_count": 16,
   "metadata": {},
   "outputs": [
    {
     "data": {
      "text/plain": [
       "array([[ 0.15502138+0.16588986j],\n",
       "       [ 0.70143064+0.10606093j],\n",
       "       [ 0.70143064+0.10606093j],\n",
       "       [ 0.13042276-0.25805323j],\n",
       "       [-0.42241828+0.47574344j],\n",
       "       [ 0.13042276-0.25805323j],\n",
       "       [ 0.13042276-0.25805323j],\n",
       "       [ 0.13042276-0.25805323j],\n",
       "       [ 0.70143064+0.10606093j],\n",
       "       [ 0.70143064+0.10606093j],\n",
       "       [ 0.70143064+0.10606093j],\n",
       "       [ 0.70143064+0.10606093j],\n",
       "       [-0.42241828+0.47574344j],\n",
       "       [ 0.15502138+0.16588986j],\n",
       "       [ 0.70143064+0.10606093j],\n",
       "       [-0.42241828+0.47574344j],\n",
       "       [ 0.15502138+0.16588986j],\n",
       "       [-0.42241828+0.47574344j],\n",
       "       [ 0.15502138+0.16588986j],\n",
       "       [ 0.70143064+0.10606093j],\n",
       "       [ 0.15502138+0.16588986j],\n",
       "       [ 0.70143064+0.10606093j],\n",
       "       [-0.42241828+0.47574344j],\n",
       "       [ 0.70143064+0.10606093j],\n",
       "       [ 0.13042276-0.25805323j],\n",
       "       [ 0.13042276-0.25805323j],\n",
       "       [ 0.70143064+0.10606093j],\n",
       "       [ 0.13042276-0.25805323j],\n",
       "       [ 0.15502138+0.16588986j],\n",
       "       [ 0.13042276-0.25805323j],\n",
       "       [ 0.13042276-0.25805323j],\n",
       "       [ 0.15502138+0.16588986j],\n",
       "       [-0.42241828+0.47574344j],\n",
       "       [ 0.13042276-0.25805323j],\n",
       "       [ 0.70143064+0.10606093j],\n",
       "       [ 0.70143064+0.10606093j],\n",
       "       [ 0.70143064+0.10606093j],\n",
       "       [ 0.13042276-0.25805323j],\n",
       "       [ 0.70143064+0.10606093j],\n",
       "       [ 0.70143064+0.10606093j],\n",
       "       [ 0.13042276-0.25805323j],\n",
       "       [ 0.15502138+0.16588986j],\n",
       "       [ 0.15502138+0.16588986j],\n",
       "       [ 0.13042276-0.25805323j],\n",
       "       [ 0.15502138+0.16588986j],\n",
       "       [ 0.13042276-0.25805323j],\n",
       "       [ 0.70143064+0.10606093j],\n",
       "       [ 0.70143064+0.10606093j],\n",
       "       [ 0.70143064+0.10606093j],\n",
       "       [ 0.15502138+0.16588986j]])"
      ]
     },
     "execution_count": 16,
     "metadata": {},
     "output_type": "execute_result"
    }
   ],
   "source": [
    "# evaluate the network to test for a given config and check the match\n",
    "ansatz_net = nqs(configs_flat)\n",
    "ansatz_net.shape\n",
    "ansatz_net"
   ]
  },
  {
   "cell_type": "code",
   "execution_count": 17,
   "metadata": {},
   "outputs": [
    {
     "data": {
      "text/plain": [
       "(array([[ 0.15502138+0.16588986j],\n",
       "        [ 0.70143064+0.10606093j],\n",
       "        [ 0.70143064+0.10606093j],\n",
       "        [ 0.13042276-0.25805323j],\n",
       "        [-0.42241828+0.47574344j],\n",
       "        [ 0.13042276-0.25805323j],\n",
       "        [ 0.13042276-0.25805323j],\n",
       "        [ 0.13042276-0.25805323j],\n",
       "        [ 0.70143064+0.10606093j],\n",
       "        [ 0.70143064+0.10606093j],\n",
       "        [ 0.70143064+0.10606093j],\n",
       "        [ 0.70143064+0.10606093j],\n",
       "        [-0.42241828+0.47574344j],\n",
       "        [ 0.15502138+0.16588986j],\n",
       "        [ 0.70143064+0.10606093j],\n",
       "        [-0.42241828+0.47574344j],\n",
       "        [ 0.15502138+0.16588986j],\n",
       "        [-0.42241828+0.47574344j],\n",
       "        [ 0.15502138+0.16588986j],\n",
       "        [ 0.70143064+0.10606093j],\n",
       "        [ 0.15502138+0.16588986j],\n",
       "        [ 0.70143064+0.10606093j],\n",
       "        [-0.42241828+0.47574344j],\n",
       "        [ 0.70143064+0.10606093j],\n",
       "        [ 0.13042276-0.25805323j],\n",
       "        [ 0.13042276-0.25805323j],\n",
       "        [ 0.70143064+0.10606093j],\n",
       "        [ 0.13042276-0.25805323j],\n",
       "        [ 0.15502138+0.16588986j],\n",
       "        [ 0.13042276-0.25805323j],\n",
       "        [ 0.13042276-0.25805323j],\n",
       "        [ 0.15502138+0.16588986j],\n",
       "        [-0.42241828+0.47574344j],\n",
       "        [ 0.13042276-0.25805323j],\n",
       "        [ 0.70143064+0.10606093j],\n",
       "        [ 0.70143064+0.10606093j],\n",
       "        [ 0.70143064+0.10606093j],\n",
       "        [ 0.13042276-0.25805323j],\n",
       "        [ 0.70143064+0.10606093j],\n",
       "        [ 0.70143064+0.10606093j],\n",
       "        [ 0.13042276-0.25805323j],\n",
       "        [ 0.15502138+0.16588986j],\n",
       "        [ 0.15502138+0.16588986j],\n",
       "        [ 0.13042276-0.25805323j],\n",
       "        [ 0.15502138+0.16588986j],\n",
       "        [ 0.13042276-0.25805323j],\n",
       "        [ 0.70143064+0.10606093j],\n",
       "        [ 0.70143064+0.10606093j],\n",
       "        [ 0.70143064+0.10606093j],\n",
       "        [ 0.15502138+0.16588986j],\n",
       "        [ 0.15502138+0.16588986j]]),\n",
       " (51, 1))"
      ]
     },
     "execution_count": 17,
     "metadata": {},
     "output_type": "execute_result"
    }
   ],
   "source": [
    "# evaluate with different batch size\n",
    "ansatz_net_batched = nqs(configs_flat, batch_size=3)\n",
    "ansatz_net_batched, ansatz_net_batched.shape"
   ]
  },
  {
   "cell_type": "markdown",
   "metadata": {},
   "source": [
    "#### Apply Hamiltonian to the states"
   ]
  },
  {
   "cell_type": "code",
   "execution_count": 13,
   "metadata": {},
   "outputs": [
    {
     "data": {
      "text/plain": [
       "((50, 10, 2), (50, 10, 1), (50, 10, 1))"
      ]
     },
     "execution_count": 13,
     "metadata": {},
     "output_type": "execute_result"
    }
   ],
   "source": [
    "# sample the configurations\n",
    "(states, logprobas), (configs, configs_ansatze), probabilities = sampler.sample()\n",
    "configs.shape, configs_ansatze.shape, probabilities.shape"
   ]
  },
  {
   "cell_type": "code",
   "execution_count": 14,
   "metadata": {},
   "outputs": [
    {
     "name": "stdout",
     "output_type": "stream",
     "text": [
      "applied_energies shape: (500,)\n",
      "applied_energies_mean: (0.40367388518412173+0.00015009173542167103j)\n",
      "applied_energies_std: 0.09720886578796167\n"
     ]
    }
   ],
   "source": [
    "import general_python.ml.net_impl.utils.net_utils as net_utils\n",
    "\n",
    "if backend == 'jax':\n",
    "    import jax.numpy as jnp\n",
    "    states  = jnp.array(states)\n",
    "    \n",
    "    applied_energies, applied_energies_m, applied_energies_std = \\\n",
    "        net_utils.jaxpy.apply_callable_batched_jax(\n",
    "            func            = ham.get_loc_energy_jax_fun(),\n",
    "            states          = configs,\n",
    "            sample_probas   = probabilities,\n",
    "            logprobas_in    = configs_ansatze,\n",
    "            logproba_fun    = net.get_apply(use_jax=True)[0],\n",
    "            parameters      = net.get_params(),\n",
    "            batch_size      = batch_size\n",
    "        )\n",
    "else:\n",
    "    import numpy as np\n",
    "    applied_energies, applied_energies_m, applied_energies_std = \\\n",
    "        net_utils.numpy.apply_callable_batched_np(\n",
    "            func            = ham.get_loc_energy_np_fun(),\n",
    "            states          = configs,\n",
    "            sample_probas   = probabilities,\n",
    "            logprobas_in    = configs_ansatze,\n",
    "            logproba_fun    = net.get_apply(use_jax=False)[0],\n",
    "            parameters      = net.get_params(),\n",
    "            batch_size      = batch_size\n",
    "        )\n",
    "        \n",
    "print(\"applied_energies shape:\", applied_energies.shape)\n",
    "print(\"applied_energies_mean:\", applied_energies_m)\n",
    "print(\"applied_energies_std:\", applied_energies_std)"
   ]
  },
  {
   "cell_type": "code",
   "execution_count": 15,
   "metadata": {},
   "outputs": [
    {
     "name": "stdout",
     "output_type": "stream",
     "text": [
      "applied_energies shape: (500,)\n",
      "applied_energies_mean: (0.40367388518412173+0.00015009173542167103j)\n",
      "applied_energies_std: 0.09720886578796167\n"
     ]
    }
   ],
   "source": [
    "import general_python.ml.net_impl.utils.net_utils as net_utils\n",
    "\n",
    "if backend == 'jax':\n",
    "    import jax.numpy as jnp\n",
    "    states  = jnp.array(states)\n",
    "    \n",
    "    applied_energies, applied_energies_m, applied_energies_std = \\\n",
    "        net_utils.jaxpy.apply_callable_batched_jax(\n",
    "            func            = ham.get_loc_energy_jax_fun(),\n",
    "            states          = configs,\n",
    "            sample_probas   = probabilities,\n",
    "            logprobas_in    = configs_ansatze,\n",
    "            logproba_fun    = net.get_apply(use_jax=True)[0],\n",
    "            parameters      = net.get_params(),\n",
    "            batch_size      = 3\n",
    "        )\n",
    "else:\n",
    "    import numpy as np\n",
    "    applied_energies, applied_energies_m, applied_energies_std = \\\n",
    "        net_utils.numpy.apply_callable_batched_np(\n",
    "            func            = ham.get_loc_energy_np_fun(),\n",
    "            states          = configs,\n",
    "            sample_probas   = probabilities,\n",
    "            logprobas_in    = configs_ansatze,\n",
    "            logproba_fun    = net.get_apply(use_jax=False)[0],\n",
    "            parameters      = net.get_params(),\n",
    "            batch_size      = 3\n",
    "        )\n",
    "        \n",
    "print(\"applied_energies shape:\", applied_energies.shape)\n",
    "print(\"applied_energies_mean:\", applied_energies_m)\n",
    "print(\"applied_energies_std:\", applied_energies_std)"
   ]
  },
  {
   "cell_type": "markdown",
   "metadata": {},
   "source": [
    "#### Test flax networks"
   ]
  },
  {
   "cell_type": "code",
   "execution_count": 9,
   "metadata": {},
   "outputs": [],
   "source": [
    "import NQS.nqs as nqsmodule\n",
    "import Solver.MonteCarlo.sampler as Sampling\n",
    "from Algebra.Model.dummy import DummyHamiltonian\n",
    "from general_python.algebra.utils import get_backend\n",
    "from general_python.ml.net_impl.net_simple_flax import FlaxSimpleNet\n",
    "\n",
    "import random\n",
    "import numpy as np\n",
    "import jax.numpy as jnp\n",
    "\n",
    "# get random backend\n",
    "backend             = 'jax'\n",
    "seed                = 1701\n",
    "dtypex              = jnp.complex128\n",
    "be_modules          = get_backend(backend, random=True, seed=seed, scipy=True)\n",
    "backend_np, (rng, rng_k), backend_sp = be_modules if isinstance(be_modules, tuple) else (be_modules, (None, None), None)\n",
    "\n",
    "# get the network\n",
    "ns                  = 2\n",
    "st_shape            = (ns, )\n",
    "activations         = ('relu', 'relu', 'sigmoid')\n",
    "net                 = FlaxSimpleNet(act_fun =   activations, \n",
    "                            input_shape     =   st_shape, \n",
    "                            output_shape    =   (1, ),\n",
    "                            layers          =   (5, ),\n",
    "                            backend         =   backend_np,\n",
    "                            bias            =   True,\n",
    "                            dtype           =   dtypex)\n",
    "\n",
    "# get the sampler\n",
    "sampler = Sampling.MCSampler(\n",
    "    net         = net,\n",
    "    shape       = st_shape,\n",
    "    rng         = rng,\n",
    "    rng_k       = rng_k,\n",
    "    numchains   = 10,\n",
    "    numsamples  = 5,\n",
    "    sweep_steps = 10,\n",
    "    backend     = backend_np,\n",
    "    therm_steps = 10,\n",
    ")\n",
    "\n",
    "# get the Hamiltonian\n",
    "par                 = 0.5 + 1j * 0.5\n",
    "ham                 = DummyHamiltonian(hilbert_space=None, ns = ns, backend = backend, dtype = net.dtype)\n",
    "batch_size          = 1\n",
    "\n",
    "nqs = nqsmodule.NQS(\n",
    "    net         = net,\n",
    "    sampler     = sampler,\n",
    "    hamiltonian = ham,\n",
    "    lower_betas = None,\n",
    "    lower_states= None,\n",
    "    seed        = seed,\n",
    "    beta        = 1.0,\n",
    "    shape       = st_shape,\n",
    "    backend     = backend_np,\n",
    "    nthread     = 1,\n",
    "    batch_size  = batch_size,\n",
    ")"
   ]
  },
  {
   "cell_type": "code",
   "execution_count": 10,
   "metadata": {},
   "outputs": [
    {
     "data": {
      "text/plain": [
       "(DeviceArray([[-2.62489477-0.76406748j],\n",
       "              [-2.62489477-0.76406748j],\n",
       "              [-2.62489477-0.76406748j],\n",
       "              [-2.5306864 -1.84110899j],\n",
       "              [-2.62489477-0.76406748j],\n",
       "              [ 0.4692717 -0.21897542j],\n",
       "              [-2.62489477-0.76406748j],\n",
       "              [-2.62489477-0.76406748j],\n",
       "              [-2.5306864 -1.84110899j],\n",
       "              [ 1.2796647 +1.66655669j]], dtype=complex128),\n",
       " (10, 1))"
      ]
     },
     "execution_count": 10,
     "metadata": {},
     "output_type": "execute_result"
    }
   ],
   "source": [
    "import jax.numpy as jnp\n",
    "states      = np.random.choice([-1,1], size=(10, ns), replace=True)\n",
    "params      = net.get_params()\n",
    "states      = jnp.array(states)\n",
    "ansatz      = net(params, states)\n",
    "ansatz      = ansatz.reshape(-1, 1)\n",
    "ansatz, ansatz.shape"
   ]
  },
  {
   "cell_type": "code",
   "execution_count": null,
   "metadata": {},
   "outputs": [
    {
     "data": {
      "text/plain": [
       "DeviceArray([[1.310566],\n",
       "             [1.310566],\n",
       "             [1.310566],\n",
       "             [1.310566],\n",
       "             [1.310566]], dtype=float32)"
      ]
     },
     "execution_count": 8,
     "metadata": {},
     "output_type": "execute_result"
    }
   ],
   "source": [
    "import general_python.ml.net_impl.net_simple_flax as simple_flax\n",
    "simple_flax.example()"
   ]
  },
  {
   "cell_type": "code",
   "execution_count": null,
   "metadata": {},
   "outputs": [],
   "source": [
    "# apply hamiltonian to the states\n"
   ]
  }
 ],
 "metadata": {
  "kernelspec": {
   "display_name": "base",
   "language": "python",
   "name": "python3"
  },
  "language_info": {
   "codemirror_mode": {
    "name": "ipython",
    "version": 3
   },
   "file_extension": ".py",
   "mimetype": "text/x-python",
   "name": "python",
   "nbconvert_exporter": "python",
   "pygments_lexer": "ipython3",
   "version": "3.11.5"
  }
 },
 "nbformat": 4,
 "nbformat_minor": 2
}
