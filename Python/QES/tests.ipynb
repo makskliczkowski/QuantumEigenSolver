{
 "cells": [
  {
   "cell_type": "code",
   "execution_count": 2,
   "metadata": {},
   "outputs": [],
   "source": [
    "import sys\n",
    "import os\n",
    "\n",
    "# Add the parent directory (project root) to sys.path\n",
    "project_root = os.path.abspath(os.path.join(os.getcwd(), \"../..\"))\n",
    "if project_root not in sys.path:\n",
    "    sys.path.insert(0, project_root)"
   ]
  },
  {
   "cell_type": "markdown",
   "metadata": {},
   "source": [
    "# Randomness"
   ]
  },
  {
   "cell_type": "markdown",
   "metadata": {},
   "source": [
    "## JAX"
   ]
  },
  {
   "cell_type": "code",
   "execution_count": 1,
   "metadata": {},
   "outputs": [
    {
     "name": "stderr",
     "output_type": "stream",
     "text": [
      "INFO:general_python.algebra.utils:63: JAX backend available and successfully imported\n",
      "INFO:general_python.algebra.utils:63: \tJAX 64-bit precision enabled.\n",
      "INFO:general_python.algebra.utils:262: Setting JAX as the active backend.\n",
      "INFO:general_python.algebra.utils:63: **************************************************\n",
      "INFO:general_python.algebra.utils:63: Backend Configuration:\n",
      "INFO:general_python.algebra.utils:63: \t\tNumPy Version: 2.1.3\n",
      "INFO:general_python.algebra.utils:63: \t\tSciPy Version: 1.15.2\n",
      "INFO:general_python.algebra.utils:63: \t\tJAX Version: 0.5.3\n",
      "INFO:general_python.algebra.utils:63: \t\tActive Backend: jax\n",
      "INFO:general_python.algebra.utils:63: \t\t\tJAX Available: True\n",
      "INFO:general_python.algebra.utils:63: \t\t\tDefault Seed: 42\n",
      "INFO:general_python.algebra.utils:63: \t\tJAX Backend Details:\n",
      "INFO:general_python.algebra.utils:63: \t\t\t\tMain Module: jax.numpy\n",
      "INFO:general_python.algebra.utils:63: \t\t\t\tRandom Module: jax.random (+ PRNGKey)\n",
      "INFO:general_python.algebra.utils:63: \t\t\t\tSciPy Module: jax.scipy\n",
      "INFO:general_python.algebra.utils:63: \t\t\t\tDefault JAX Key: PRNGKey(42)\n",
      "INFO:general_python.algebra.utils:63: \t\tActive Data Types:\n",
      "INFO:general_python.algebra.utils:63: \t\t\t\tInteger Type: int64\n",
      "INFO:general_python.algebra.utils:63: \t\t\t\tFloat Type: float64\n",
      "INFO:general_python.algebra.utils:63: \t\t\t\tComplex Type: complex128\n",
      "INFO:general_python.algebra.utils:63: \t\tHardware & Device Detection:\n",
      "INFO:general_python.algebra.utils:63: \t\t\tCPU Cores: 8\n",
      "INFO:general_python.algebra.utils:63: \t\t\tDetected JAX Platform: DETECTION FAILED\n",
      "INFO:general_python.algebra.utils:63: \t\tJAX Devices Found: Detection Failed or Not Run\n",
      "INFO:general_python.algebra.utils:63: **************************************************\n",
      "\n",
      "\n",
      "\n"
     ]
    },
    {
     "name": "stdout",
     "output_type": "stream",
     "text": [
      "backend: <module 'numpy' from '/Users/makskliczkowski/miniconda3/lib/python3.12/site-packages/numpy/__init__.py'>\n",
      "key: None\n",
      "rnd_module: Generator(PCG64)\n",
      "rnd_module.random(): 0.7739560485559633\n",
      "rnd_module.randint(0, 10): 6\n",
      "rnd_module.uniform(0, 10): 8.585979199113824\n",
      "rnd_module.normal(0, 1): 0.9405647163912139\n",
      "uniform(0, 10): [7.73956049 4.3887844  8.5859792  6.97368029 0.94177348]\n",
      "\n",
      "backend: <module 'numpy' from '/Users/makskliczkowski/miniconda3/lib/python3.12/site-packages/numpy/__init__.py'>\n",
      "key: None\n",
      "rnd_module: Generator(PCG64)\n",
      "rnd_module.random(): 0.7739560485559633\n",
      "rnd_module.randint(0, 10): 6\n",
      "rnd_module.uniform(0, 10): 8.585979199113824\n",
      "rnd_module.normal(0, 1): 0.9405647163912139\n",
      "uniform(0, 10): [7.73956049 4.3887844  8.5859792  6.97368029 0.94177348]\n",
      "\n",
      "backend: <module 'numpy' from '/Users/makskliczkowski/miniconda3/lib/python3.12/site-packages/numpy/__init__.py'>\n",
      "key: None\n",
      "rnd_module: Generator(PCG64)\n",
      "rnd_module.random(): 0.7739560485559633\n",
      "rnd_module.randint(0, 10): 6\n",
      "rnd_module.uniform(0, 10): 8.585979199113824\n",
      "rnd_module.normal(0, 1): 0.9405647163912139\n",
      "uniform(0, 10): [7.73956049 4.3887844  8.5859792  6.97368029 0.94177348]\n",
      "\n",
      "backend: <module 'numpy' from '/Users/makskliczkowski/miniconda3/lib/python3.12/site-packages/numpy/__init__.py'>\n",
      "key: None\n",
      "rnd_module: Generator(PCG64)\n",
      "rnd_module.random(): 0.7739560485559633\n",
      "rnd_module.randint(0, 10): 6\n",
      "rnd_module.uniform(0, 10): 8.585979199113824\n",
      "rnd_module.normal(0, 1): 0.9405647163912139\n",
      "uniform(0, 10): [7.73956049 4.3887844  8.5859792  6.97368029 0.94177348]\n",
      "\n",
      "backend: <module 'numpy' from '/Users/makskliczkowski/miniconda3/lib/python3.12/site-packages/numpy/__init__.py'>\n",
      "key: None\n",
      "rnd_module: Generator(PCG64)\n",
      "rnd_module.random(): 0.7739560485559633\n",
      "rnd_module.randint(0, 10): 6\n",
      "rnd_module.uniform(0, 10): 8.585979199113824\n",
      "rnd_module.normal(0, 1): 0.9405647163912139\n",
      "uniform(0, 10): [7.73956049 4.3887844  8.5859792  6.97368029 0.94177348]\n",
      "\n"
     ]
    }
   ],
   "source": [
    "from general_python.algebra.utils import get_backend as __backend\n",
    "from general_python.algebra.ran_wrapper import uniform, randint\n",
    "# test random\n",
    "seed    = None\n",
    "backend = 'np'\n",
    "for i in range(5):\n",
    "    modules = __backend(backend, random=True, seed=seed)\n",
    "    backend, (rnd_module, key) = modules if isinstance(modules, tuple) else (modules, (None, None))\n",
    "    print(f\"backend: {backend}\")\n",
    "    print(f\"key: {key}\")\n",
    "    print(f\"rnd_module: {rnd_module}\")\n",
    "    print(f\"rnd_module.random(): {rnd_module.random()}\")\n",
    "    print(f\"rnd_module.randint(0, 10): {rnd_module.integers(0, 10)}\")\n",
    "    print(f\"rnd_module.uniform(0, 10): {rnd_module.uniform(0, 10)}\")\n",
    "    print(f\"rnd_module.normal(0, 1): {rnd_module.normal(0, 1)}\")\n",
    "    # take the function from random wrapper\n",
    "    print(f\"uniform(0, 10): {uniform(shape=(5,),minval=0, maxval=10, backend=backend, seed=seed)}\")\n",
    "    print()"
   ]
  },
  {
   "cell_type": "code",
   "execution_count": null,
   "metadata": {},
   "outputs": [],
   "source": []
  },
  {
   "cell_type": "markdown",
   "metadata": {},
   "source": [
    "# Models\n",
    "This set of "
   ]
  },
  {
   "cell_type": "markdown",
   "metadata": {},
   "source": [
    "## Operators Test with all backends"
   ]
  },
  {
   "cell_type": "code",
   "execution_count": 1,
   "metadata": {},
   "outputs": [
    {
     "name": "stdout",
     "output_type": "stream",
     "text": [
      "=== Backend Initialization ===\n",
      "\tNumPy Version: 1.26.4\n",
      "\tSciPy Version: 1.13.1\n",
      "\tJAX Version: Not Available\n",
      "\t\tActive Backend: jax\n",
      "\t\tJAX Available: True\n",
      "\t\tDefault Random Key: [    0 12345]\n",
      "\tActive Backend Modules:\n",
      "\t\t\tMain Module: <module 'jax.numpy' from '/Users/makskliczkowski/miniconda3/lib/python3.12/site-packages/jax/numpy/__init__.py'>\n",
      "\t\t\tRandom Module: <module 'jax.random' from '/Users/makskliczkowski/miniconda3/lib/python3.12/site-packages/jax/random.py'>\n",
      "\t\t\tSciPy Module: <module 'jax.scipy' from '/Users/makskliczkowski/miniconda3/lib/python3.12/site-packages/jax/scipy/__init__.py'>\n",
      "=== End of Backend Info ===\n"
     ]
    },
    {
     "data": {
      "text/plain": [
       "HON,LatticeBC.PBC,d=2,Ns=8,Lx=2,Ly=2,Lz=1"
      ]
     },
     "execution_count": 1,
     "metadata": {},
     "output_type": "execute_result"
    }
   ],
   "source": [
    "from general_python.lattices.honeycomb import HoneycombLattice\n",
    "from general_python.lattices.lattice import LatticeBC\n",
    "import general_python.common.binary as bin_mod\n",
    "import numpy as np\n",
    "\n",
    "backend = 'np'\n",
    "lat     = HoneycombLattice( dim     = 2,\n",
    "                            lx      = 2,\n",
    "                            ly      = 2,\n",
    "                            lz      = 1,\n",
    "                            bc      = LatticeBC.PBC)\n",
    "lat"
   ]
  },
  {
   "cell_type": "markdown",
   "metadata": {},
   "source": [
    "### Local operators test"
   ]
  },
  {
   "cell_type": "code",
   "execution_count": 16,
   "metadata": {},
   "outputs": [
    {
     "data": {
      "text/plain": [
       "(129,\n",
       " array([1., 1., 1., 1., 1., 1., 1., 1.]),\n",
       " Array([1., 1., 1., 1., 1., 1., 1., 1.], dtype=float64))"
      ]
     },
     "execution_count": 16,
     "metadata": {},
     "output_type": "execute_result"
    }
   ],
   "source": [
    "# create an operator\n",
    "import Algebra.Operator.operators_spin as op_spin\n",
    "import jax.numpy as jnp\n",
    "\n",
    "sig_x = op_spin.sig_x(\n",
    "    lattice  = lat,\n",
    "    type_act = op_spin.OperatorTypeActing.Local\n",
    ")\n",
    "sig_z = op_spin.sig_z(\n",
    "    lattice  = lat,\n",
    "    type_act = op_spin.OperatorTypeActing.Local\n",
    ")\n",
    "\n",
    "# create a set of states and test it\n",
    "int_state = np.random.randint(0, 2**lat.ns, dtype=np.int32)\n",
    "np_state  = np.ones((lat.ns), dtype = np.float64)\n",
    "jnp_state = jnp.ones((lat.ns), dtype = jnp.float64)\n",
    "\n",
    "int_state, np_state, jnp_state"
   ]
  },
  {
   "cell_type": "markdown",
   "metadata": {},
   "source": [
    "#### Integer states"
   ]
  },
  {
   "cell_type": "code",
   "execution_count": 13,
   "metadata": {},
   "outputs": [
    {
     "name": "stdout",
     "output_type": "stream",
     "text": [
      "Before: 00011101\n",
      "i: 0)\n",
      "\tSigma Z\n",
      "\t\tAfter 0'th s_z: (29)b00011101 with value [-0.5]\n",
      "\tSigma X\n",
      "\t\tAfter 0'th s_x: (157)b10011101 with value [0.5]\n",
      "i: 1)\n",
      "\tSigma Z\n",
      "\t\tAfter 1'th s_z: (29)b00011101 with value [-0.5]\n",
      "\tSigma X\n",
      "\t\tAfter 1'th s_x: (93)b01011101 with value [0.5]\n",
      "i: 2)\n",
      "\tSigma Z\n",
      "\t\tAfter 2'th s_z: (29)b00011101 with value [-0.5]\n",
      "\tSigma X\n",
      "\t\tAfter 2'th s_x: (61)b00111101 with value [0.5]\n",
      "i: 3)\n",
      "\tSigma Z\n",
      "\t\tAfter 3'th s_z: (29)b00011101 with value [0.5]\n",
      "\tSigma X\n",
      "\t\tAfter 3'th s_x: (13)b00001101 with value [0.5]\n",
      "i: 4)\n",
      "\tSigma Z\n",
      "\t\tAfter 4'th s_z: (29)b00011101 with value [0.5]\n",
      "\tSigma X\n",
      "\t\tAfter 4'th s_x: (21)b00010101 with value [0.5]\n",
      "i: 5)\n",
      "\tSigma Z\n",
      "\t\tAfter 5'th s_z: (29)b00011101 with value [0.5]\n",
      "\tSigma X\n",
      "\t\tAfter 5'th s_x: (25)b00011001 with value [0.5]\n",
      "i: 6)\n",
      "\tSigma Z\n",
      "\t\tAfter 6'th s_z: (29)b00011101 with value [-0.5]\n",
      "\tSigma X\n",
      "\t\tAfter 6'th s_x: (31)b00011111 with value [0.5]\n",
      "i: 7)\n",
      "\tSigma Z\n",
      "\t\tAfter 7'th s_z: (29)b00011101 with value [0.5]\n",
      "\tSigma X\n",
      "\t\tAfter 7'th s_x: (28)b00011100 with value [0.5]\n"
     ]
    }
   ],
   "source": [
    "print(f\"Before: {bin_mod.int2binstr(int_state, lat.ns)}\")\n",
    "for i in range(lat.ns):\n",
    "    print(f\"i: {i})\")\n",
    "    print(\"\\tSigma Z\")\n",
    "    # sig_z\n",
    "    int_state_mod, int_state_mod_val = sig_z(int_state, i)\n",
    "    print(f\"\\t\\tAfter {i}'th s_z: ({int_state_mod[0]})b{bin_mod.int2binstr(int_state_mod[0], lat.ns)} with value {int_state_mod_val}\")\n",
    "    print(\"\\tSigma X\")\n",
    "    # sig_x\n",
    "    int_state_mod, int_state_mod_val = sig_x(int_state, i)\n",
    "    print(f\"\\t\\tAfter {i}'th s_x: ({int_state_mod[0]})b{bin_mod.int2binstr(int_state_mod[0], lat.ns)} with value {int_state_mod_val}\")"
   ]
  },
  {
   "cell_type": "markdown",
   "metadata": {},
   "source": [
    "#### Numpy states"
   ]
  },
  {
   "cell_type": "code",
   "execution_count": null,
   "metadata": {},
   "outputs": [
    {
     "name": "stdout",
     "output_type": "stream",
     "text": [
      "i: 0)\n"
     ]
    },
    {
     "ename": "TypingError",
     "evalue": "Failed in nopython mode pipeline (step: nopython frontend)\nFailed in nopython mode pipeline (step: nopython frontend)\nInvalid use of getiter with parameters (int64)\n\nDuring: typing of intrinsic-call at /Users/makskliczkowski/Codes/QuantumEigenSolver/Python/QES/Algebra/Operator/operators_spin.py (143)\n\nFile \"Algebra/Operator/operators_spin.py\", line 143:\ndef sigma_x_np(state    : np.ndarray,\n    <source elided>\n    out     = state.copy()\n    for site in sites:\n    ^\n\nDuring: resolving callee type: type(CPUDispatcher(<function sigma_x_np at 0x165d05120>))\nDuring: typing of call at /Users/makskliczkowski/Codes/QuantumEigenSolver/Python/QES/Algebra/Operator/operator.py (1639)\n\nDuring: resolving callee type: type(CPUDispatcher(<function sigma_x_np at 0x165d05120>))\nDuring: typing of call at /Users/makskliczkowski/Codes/QuantumEigenSolver/Python/QES/Algebra/Operator/operator.py (1639)\n\nDuring: resolving callee type: type(CPUDispatcher(<function sigma_x_np at 0x165d05120>))\nDuring: typing of call at /Users/makskliczkowski/Codes/QuantumEigenSolver/Python/QES/Algebra/Operator/operator.py (1639)\n\nDuring: resolving callee type: type(CPUDispatcher(<function sigma_x_np at 0x165d05120>))\nDuring: typing of call at /Users/makskliczkowski/Codes/QuantumEigenSolver/Python/QES/Algebra/Operator/operator.py (1639)\n\n\nFile \"Algebra/Operator/operator.py\", line 1639:\n        def fun_np(state, i):\n            return op_func_np(state, i, *extra_args)\n            ^\n",
     "output_type": "error",
     "traceback": [
      "\u001b[0;31m---------------------------------------------------------------------------\u001b[0m",
      "\u001b[0;31mTypingError\u001b[0m                               Traceback (most recent call last)",
      "Cell \u001b[0;32mIn[15], line 4\u001b[0m\n\u001b[1;32m      2\u001b[0m \u001b[38;5;28mprint\u001b[39m(\u001b[38;5;124mf\u001b[39m\u001b[38;5;124m\"\u001b[39m\u001b[38;5;124mi: \u001b[39m\u001b[38;5;132;01m{\u001b[39;00mi\u001b[38;5;132;01m}\u001b[39;00m\u001b[38;5;124m)\u001b[39m\u001b[38;5;124m\"\u001b[39m)\n\u001b[1;32m      3\u001b[0m sites            \u001b[38;5;241m=\u001b[39m np\u001b[38;5;241m.\u001b[39marray([i])\n\u001b[0;32m----> 4\u001b[0m np_modified_x, _ \u001b[38;5;241m=\u001b[39m sig_x(np_state, \u001b[38;5;241m*\u001b[39msites)\n\u001b[1;32m      5\u001b[0m np_modified_z, _ \u001b[38;5;241m=\u001b[39m sig_z(np_state, \u001b[38;5;241m*\u001b[39msites)\n\u001b[1;32m      6\u001b[0m \u001b[38;5;28mprint\u001b[39m(\u001b[38;5;124mf\u001b[39m\u001b[38;5;124m\"\u001b[39m\u001b[38;5;124mBefore: \u001b[39m\u001b[38;5;132;01m{\u001b[39;00mnp_state\u001b[38;5;132;01m}\u001b[39;00m\u001b[38;5;124m, acting on sites \u001b[39m\u001b[38;5;132;01m{\u001b[39;00msites\u001b[38;5;132;01m}\u001b[39;00m\u001b[38;5;124m\"\u001b[39m)\n",
      "File \u001b[0;32m~/Codes/QuantumEigenSolver/Python/QES/Algebra/Operator/operator.py:1358\u001b[0m, in \u001b[0;36mOperator.__call__\u001b[0;34m(self, states, *args)\u001b[0m\n\u001b[1;32m   1348\u001b[0m \u001b[38;5;28;01mdef\u001b[39;00m \u001b[38;5;21m__call__\u001b[39m(\u001b[38;5;28mself\u001b[39m, states: \u001b[38;5;28mlist\u001b[39m \u001b[38;5;241m|\u001b[39m np\u001b[38;5;241m.\u001b[39mndarray \u001b[38;5;241m|\u001b[39m jnp\u001b[38;5;241m.\u001b[39mndarray, \u001b[38;5;241m*\u001b[39margs):\n\u001b[1;32m   1349\u001b[0m \u001b[38;5;250m    \u001b[39m\u001b[38;5;124;03m\"\"\"\u001b[39;00m\n\u001b[1;32m   1350\u001b[0m \u001b[38;5;124;03m    Apply the operator to the state. \u001b[39;00m\n\u001b[1;32m   1351\u001b[0m \u001b[38;5;124;03m    \u001b[39;00m\n\u001b[0;32m   (...)\u001b[0m\n\u001b[1;32m   1356\u001b[0m \u001b[38;5;124;03m                            If there are arguments, the operator acts on the state locally - local operator (e.g., site-dependent).\u001b[39;00m\n\u001b[1;32m   1357\u001b[0m \u001b[38;5;124;03m    \"\"\"\u001b[39;00m\n\u001b[0;32m-> 1358\u001b[0m     \u001b[38;5;28;01mreturn\u001b[39;00m \u001b[38;5;28mself\u001b[39m\u001b[38;5;241m.\u001b[39mapply(states, \u001b[38;5;241m*\u001b[39margs)\n",
      "File \u001b[0;32m~/Codes/QuantumEigenSolver/Python/QES/Algebra/Operator/operator.py:1339\u001b[0m, in \u001b[0;36mOperator.apply\u001b[0;34m(self, states, *args)\u001b[0m\n\u001b[1;32m   1337\u001b[0m     \u001b[38;5;28;01mreturn\u001b[39;00m \u001b[38;5;28mself\u001b[39m\u001b[38;5;241m.\u001b[39m_apply_global(states)\n\u001b[1;32m   1338\u001b[0m \u001b[38;5;28;01melif\u001b[39;00m \u001b[38;5;28mself\u001b[39m\u001b[38;5;241m.\u001b[39m_type_acting\u001b[38;5;241m.\u001b[39mis_local():\n\u001b[0;32m-> 1339\u001b[0m     \u001b[38;5;28;01mreturn\u001b[39;00m \u001b[38;5;28mself\u001b[39m\u001b[38;5;241m.\u001b[39m_apply_local(states, \u001b[38;5;241m*\u001b[39margs)\n\u001b[1;32m   1340\u001b[0m \u001b[38;5;28;01melif\u001b[39;00m \u001b[38;5;28mself\u001b[39m\u001b[38;5;241m.\u001b[39m_type_acting\u001b[38;5;241m.\u001b[39mis_correlation():\n\u001b[1;32m   1341\u001b[0m     \u001b[38;5;28;01mreturn\u001b[39;00m \u001b[38;5;28mself\u001b[39m\u001b[38;5;241m.\u001b[39m_apply_correlation(states, \u001b[38;5;241m*\u001b[39margs)\n",
      "File \u001b[0;32m~/Codes/QuantumEigenSolver/Python/QES/Algebra/Operator/operator.py:1295\u001b[0m, in \u001b[0;36mOperator._apply_local\u001b[0;34m(self, states, i)\u001b[0m\n\u001b[1;32m   1281\u001b[0m \u001b[38;5;250m\u001b[39m\u001b[38;5;124;03m\"\"\"\u001b[39;00m\n\u001b[1;32m   1282\u001b[0m \u001b[38;5;124;03mApplies a local operation to a given state or a collection of states.\u001b[39;00m\n\u001b[1;32m   1283\u001b[0m \u001b[38;5;124;03mParameters:\u001b[39;00m\n\u001b[0;32m   (...)\u001b[0m\n\u001b[1;32m   1291\u001b[0m \u001b[38;5;124;03m        If the input is a single state, the result is returned as a single state and value.\u001b[39;00m\n\u001b[1;32m   1292\u001b[0m \u001b[38;5;124;03m\"\"\"\u001b[39;00m\n\u001b[1;32m   1293\u001b[0m \u001b[38;5;28;01mif\u001b[39;00m (\u001b[38;5;28mhasattr\u001b[39m(states, \u001b[38;5;124m'\u001b[39m\u001b[38;5;124mshape\u001b[39m\u001b[38;5;124m'\u001b[39m) \u001b[38;5;129;01mand\u001b[39;00m \u001b[38;5;28mlen\u001b[39m(states\u001b[38;5;241m.\u001b[39mshape) \u001b[38;5;241m==\u001b[39m \u001b[38;5;241m1\u001b[39m) \u001b[38;5;129;01mor\u001b[39;00m \u001b[38;5;28misinstance\u001b[39m(states, (\u001b[38;5;28mint\u001b[39m, np\u001b[38;5;241m.\u001b[39mint8, np\u001b[38;5;241m.\u001b[39mint16, np\u001b[38;5;241m.\u001b[39mint32, np\u001b[38;5;241m.\u001b[39mint64)):\n\u001b[1;32m   1294\u001b[0m     \u001b[38;5;66;03m# if the state is a single state, apply the function directly\u001b[39;00m\n\u001b[0;32m-> 1295\u001b[0m     st, val \u001b[38;5;241m=\u001b[39m \u001b[38;5;28mself\u001b[39m\u001b[38;5;241m.\u001b[39m_fun(states, i)\n\u001b[1;32m   1296\u001b[0m     \u001b[38;5;28;01mreturn\u001b[39;00m st, val \u001b[38;5;241m*\u001b[39m \u001b[38;5;28mself\u001b[39m\u001b[38;5;241m.\u001b[39m_eigval\n\u001b[1;32m   1297\u001b[0m results     \u001b[38;5;241m=\u001b[39m [\u001b[38;5;28mself\u001b[39m\u001b[38;5;241m.\u001b[39m_fun(state, i) \u001b[38;5;28;01mfor\u001b[39;00m state \u001b[38;5;129;01min\u001b[39;00m states]\n",
      "File \u001b[0;32m~/Codes/QuantumEigenSolver/Python/QES/Algebra/Operator/operator.py:337\u001b[0m, in \u001b[0;36mOperatorFunction.__call__\u001b[0;34m(self, s, *args)\u001b[0m\n\u001b[1;32m    321\u001b[0m \u001b[38;5;28;01mdef\u001b[39;00m \u001b[38;5;21m__call__\u001b[39m(\u001b[38;5;28mself\u001b[39m, s: Union[\u001b[38;5;28mint\u001b[39m], \u001b[38;5;241m*\u001b[39margs) \u001b[38;5;241m-\u001b[39m\u001b[38;5;241m>\u001b[39m List[Tuple[Optional[Union[\u001b[38;5;28mint\u001b[39m]], Union[\u001b[38;5;28mfloat\u001b[39m, \u001b[38;5;28mcomplex\u001b[39m]]]:\n\u001b[1;32m    322\u001b[0m \u001b[38;5;250m    \u001b[39m\u001b[38;5;124;03m\"\"\"\u001b[39;00m\n\u001b[1;32m    323\u001b[0m \u001b[38;5;124;03m    Apply the operator function to a given state.\u001b[39;00m\n\u001b[1;32m    324\u001b[0m \n\u001b[0;32m   (...)\u001b[0m\n\u001b[1;32m    335\u001b[0m \u001b[38;5;124;03m                    or if the return type from the operator function is not recognized.\u001b[39;00m\n\u001b[1;32m    336\u001b[0m \u001b[38;5;124;03m    \"\"\"\u001b[39;00m\n\u001b[0;32m--> 337\u001b[0m     \u001b[38;5;28;01mreturn\u001b[39;00m \u001b[38;5;28mself\u001b[39m\u001b[38;5;241m.\u001b[39mapply(s, \u001b[38;5;241m*\u001b[39margs)\n",
      "File \u001b[0;32m~/Codes/QuantumEigenSolver/Python/QES/Algebra/Operator/operator.py:302\u001b[0m, in \u001b[0;36mOperatorFunction.apply\u001b[0;34m(self, s, *args)\u001b[0m\n\u001b[1;32m    300\u001b[0m     result \u001b[38;5;241m=\u001b[39m \u001b[38;5;28mself\u001b[39m\u001b[38;5;241m.\u001b[39m_apply_global(s)\n\u001b[1;32m    301\u001b[0m \u001b[38;5;28;01melif\u001b[39;00m \u001b[38;5;28mself\u001b[39m\u001b[38;5;241m.\u001b[39m_necessary_args \u001b[38;5;241m==\u001b[39m \u001b[38;5;241m1\u001b[39m:\n\u001b[0;32m--> 302\u001b[0m     result \u001b[38;5;241m=\u001b[39m \u001b[38;5;28mself\u001b[39m\u001b[38;5;241m.\u001b[39m_apply_local(s, args[\u001b[38;5;241m0\u001b[39m])\n\u001b[1;32m    303\u001b[0m \u001b[38;5;28;01melif\u001b[39;00m \u001b[38;5;28mself\u001b[39m\u001b[38;5;241m.\u001b[39m_necessary_args \u001b[38;5;241m==\u001b[39m \u001b[38;5;241m2\u001b[39m:\n\u001b[1;32m    304\u001b[0m     result \u001b[38;5;241m=\u001b[39m \u001b[38;5;28mself\u001b[39m\u001b[38;5;241m.\u001b[39m_apply_correlation(s, args[\u001b[38;5;241m0\u001b[39m], args[\u001b[38;5;241m1\u001b[39m])\n",
      "File \u001b[0;32m~/Codes/QuantumEigenSolver/Python/QES/Algebra/Operator/operator.py:243\u001b[0m, in \u001b[0;36mOperatorFunction._apply_local\u001b[0;34m(self, s, i)\u001b[0m\n\u001b[1;32m    240\u001b[0m \u001b[38;5;66;03m# If the state is a NumPy array, use the NumPy function\u001b[39;00m\n\u001b[1;32m    241\u001b[0m \u001b[38;5;28;01melif\u001b[39;00m \u001b[38;5;28misinstance\u001b[39m(s, np\u001b[38;5;241m.\u001b[39mndarray) \u001b[38;5;129;01mand\u001b[39;00m \u001b[38;5;28mself\u001b[39m\u001b[38;5;241m.\u001b[39m_fun_np \u001b[38;5;129;01mis\u001b[39;00m \u001b[38;5;129;01mnot\u001b[39;00m \u001b[38;5;28;01mNone\u001b[39;00m:\n\u001b[1;32m    242\u001b[0m     \u001b[38;5;66;03m# If the state is a NumPy array, use the NumPy function\u001b[39;00m\n\u001b[0;32m--> 243\u001b[0m     \u001b[38;5;28;01mreturn\u001b[39;00m \u001b[38;5;28mself\u001b[39m\u001b[38;5;241m.\u001b[39m_fun_np(s, i)\n\u001b[1;32m    244\u001b[0m \u001b[38;5;66;03m# If the state is an integer, use the integer function\u001b[39;00m\n\u001b[1;32m    245\u001b[0m \u001b[38;5;66;03m# Note: The integer function should be able to handle the additional argument\u001b[39;00m\n\u001b[1;32m    246\u001b[0m \u001b[38;5;28;01mreturn\u001b[39;00m \u001b[38;5;28mself\u001b[39m\u001b[38;5;241m.\u001b[39m_fun_int(s, i)\n",
      "File \u001b[0;32m~/miniconda3/lib/python3.12/site-packages/numba/core/dispatcher.py:423\u001b[0m, in \u001b[0;36m_DispatcherBase._compile_for_args\u001b[0;34m(self, *args, **kws)\u001b[0m\n\u001b[1;32m    419\u001b[0m         msg \u001b[38;5;241m=\u001b[39m (\u001b[38;5;124mf\u001b[39m\u001b[38;5;124m\"\u001b[39m\u001b[38;5;132;01m{\u001b[39;00m\u001b[38;5;28mstr\u001b[39m(e)\u001b[38;5;241m.\u001b[39mrstrip()\u001b[38;5;132;01m}\u001b[39;00m\u001b[38;5;124m \u001b[39m\u001b[38;5;130;01m\\n\u001b[39;00m\u001b[38;5;130;01m\\n\u001b[39;00m\u001b[38;5;124mThis error may have been caused \u001b[39m\u001b[38;5;124m\"\u001b[39m\n\u001b[1;32m    420\u001b[0m                \u001b[38;5;124mf\u001b[39m\u001b[38;5;124m\"\u001b[39m\u001b[38;5;124mby the following argument(s):\u001b[39m\u001b[38;5;130;01m\\n\u001b[39;00m\u001b[38;5;132;01m{\u001b[39;00margs_str\u001b[38;5;132;01m}\u001b[39;00m\u001b[38;5;130;01m\\n\u001b[39;00m\u001b[38;5;124m\"\u001b[39m)\n\u001b[1;32m    421\u001b[0m         e\u001b[38;5;241m.\u001b[39mpatch_message(msg)\n\u001b[0;32m--> 423\u001b[0m     error_rewrite(e, \u001b[38;5;124m'\u001b[39m\u001b[38;5;124mtyping\u001b[39m\u001b[38;5;124m'\u001b[39m)\n\u001b[1;32m    424\u001b[0m \u001b[38;5;28;01mexcept\u001b[39;00m errors\u001b[38;5;241m.\u001b[39mUnsupportedError \u001b[38;5;28;01mas\u001b[39;00m e:\n\u001b[1;32m    425\u001b[0m     \u001b[38;5;66;03m# Something unsupported is present in the user code, add help info\u001b[39;00m\n\u001b[1;32m    426\u001b[0m     error_rewrite(e, \u001b[38;5;124m'\u001b[39m\u001b[38;5;124munsupported_error\u001b[39m\u001b[38;5;124m'\u001b[39m)\n",
      "File \u001b[0;32m~/miniconda3/lib/python3.12/site-packages/numba/core/dispatcher.py:364\u001b[0m, in \u001b[0;36m_DispatcherBase._compile_for_args.<locals>.error_rewrite\u001b[0;34m(e, issue_type)\u001b[0m\n\u001b[1;32m    362\u001b[0m     \u001b[38;5;28;01mraise\u001b[39;00m e\n\u001b[1;32m    363\u001b[0m \u001b[38;5;28;01melse\u001b[39;00m:\n\u001b[0;32m--> 364\u001b[0m     \u001b[38;5;28;01mraise\u001b[39;00m e\u001b[38;5;241m.\u001b[39mwith_traceback(\u001b[38;5;28;01mNone\u001b[39;00m)\n",
      "\u001b[0;31mTypingError\u001b[0m: Failed in nopython mode pipeline (step: nopython frontend)\nFailed in nopython mode pipeline (step: nopython frontend)\nInvalid use of getiter with parameters (int64)\n\nDuring: typing of intrinsic-call at /Users/makskliczkowski/Codes/QuantumEigenSolver/Python/QES/Algebra/Operator/operators_spin.py (143)\n\nFile \"Algebra/Operator/operators_spin.py\", line 143:\ndef sigma_x_np(state    : np.ndarray,\n    <source elided>\n    out     = state.copy()\n    for site in sites:\n    ^\n\nDuring: resolving callee type: type(CPUDispatcher(<function sigma_x_np at 0x165d05120>))\nDuring: typing of call at /Users/makskliczkowski/Codes/QuantumEigenSolver/Python/QES/Algebra/Operator/operator.py (1639)\n\nDuring: resolving callee type: type(CPUDispatcher(<function sigma_x_np at 0x165d05120>))\nDuring: typing of call at /Users/makskliczkowski/Codes/QuantumEigenSolver/Python/QES/Algebra/Operator/operator.py (1639)\n\nDuring: resolving callee type: type(CPUDispatcher(<function sigma_x_np at 0x165d05120>))\nDuring: typing of call at /Users/makskliczkowski/Codes/QuantumEigenSolver/Python/QES/Algebra/Operator/operator.py (1639)\n\nDuring: resolving callee type: type(CPUDispatcher(<function sigma_x_np at 0x165d05120>))\nDuring: typing of call at /Users/makskliczkowski/Codes/QuantumEigenSolver/Python/QES/Algebra/Operator/operator.py (1639)\n\n\nFile \"Algebra/Operator/operator.py\", line 1639:\n        def fun_np(state, i):\n            return op_func_np(state, i, *extra_args)\n            ^\n"
     ]
    }
   ],
   "source": [
    "for i in range(lat.ns):\n",
    "    print(f\"i: {i})\")\n",
    "    sites            = [i]\n",
    "    np_modified_x, _ = sig_x(np_state, *sites)\n",
    "    np_modified_z, _ = sig_z(np_state, *sites)\n",
    "    print(f\"Before: {np_state}, acting on sites {sites}\")\n",
    "    print(f\"After X: {np_modified_x}\")\n",
    "    print(f\"After Z: {np_modified_z}\")"
   ]
  },
  {
   "cell_type": "markdown",
   "metadata": {},
   "source": [
    "#### Jax states"
   ]
  },
  {
   "cell_type": "code",
   "execution_count": 7,
   "metadata": {},
   "outputs": [
    {
     "name": "stdout",
     "output_type": "stream",
     "text": [
      "i: 0)\n",
      "Before: [1. 1. 1. 1. 1. 1. 1. 1.], acting on sites [0]\n",
      "After X: [-1.  1.  1.  1.  1.  1.  1.  1.]\n",
      "After Z: [1. 1. 1. 1. 1. 1. 1. 1.]\n",
      "i: 1)\n",
      "Before: [1. 1. 1. 1. 1. 1. 1. 1.], acting on sites [1]\n",
      "After X: [ 1. -1.  1.  1.  1.  1.  1.  1.]\n",
      "After Z: [1. 1. 1. 1. 1. 1. 1. 1.]\n",
      "i: 2)\n",
      "Before: [1. 1. 1. 1. 1. 1. 1. 1.], acting on sites [2]\n",
      "After X: [ 1.  1. -1.  1.  1.  1.  1.  1.]\n",
      "After Z: [1. 1. 1. 1. 1. 1. 1. 1.]\n",
      "i: 3)\n",
      "Before: [1. 1. 1. 1. 1. 1. 1. 1.], acting on sites [3]\n",
      "After X: [ 1.  1.  1. -1.  1.  1.  1.  1.]\n",
      "After Z: [1. 1. 1. 1. 1. 1. 1. 1.]\n",
      "i: 4)\n",
      "Before: [1. 1. 1. 1. 1. 1. 1. 1.], acting on sites [4]\n",
      "After X: [ 1.  1.  1.  1. -1.  1.  1.  1.]\n",
      "After Z: [1. 1. 1. 1. 1. 1. 1. 1.]\n",
      "i: 5)\n",
      "Before: [1. 1. 1. 1. 1. 1. 1. 1.], acting on sites [5]\n",
      "After X: [ 1.  1.  1.  1.  1. -1.  1.  1.]\n",
      "After Z: [1. 1. 1. 1. 1. 1. 1. 1.]\n",
      "i: 6)\n",
      "Before: [1. 1. 1. 1. 1. 1. 1. 1.], acting on sites [6]\n",
      "After X: [ 1.  1.  1.  1.  1.  1. -1.  1.]\n",
      "After Z: [1. 1. 1. 1. 1. 1. 1. 1.]\n",
      "i: 7)\n",
      "Before: [1. 1. 1. 1. 1. 1. 1. 1.], acting on sites [7]\n",
      "After X: [ 1.  1.  1.  1.  1.  1.  1. -1.]\n",
      "After Z: [1. 1. 1. 1. 1. 1. 1. 1.]\n"
     ]
    }
   ],
   "source": [
    "for i in range(lat.ns):\n",
    "    print(f\"i: {i})\")\n",
    "    sites            = [i]\n",
    "    jnp_modified_x, _ = sig_x(jnp_state.copy(), sites[0])\n",
    "    jnp_modified_z, _ = sig_z(jnp_state.copy(), sites[0])\n",
    "    print(f\"Before: {jnp_state}, acting on sites {sites}\")\n",
    "    print(f\"After X: {jnp_modified_x}\")\n",
    "    print(f\"After Z: {jnp_modified_z}\")"
   ]
  },
  {
   "cell_type": "markdown",
   "metadata": {},
   "source": [
    "### Correlation"
   ]
  },
  {
   "cell_type": "code",
   "execution_count": 8,
   "metadata": {},
   "outputs": [
    {
     "data": {
      "text/plain": [
       "(229,\n",
       " array([1., 1., 1., 1., 1., 1., 1., 1.]),\n",
       " Array([1., 1., 1., 1., 1., 1., 1., 1.], dtype=float64))"
      ]
     },
     "execution_count": 8,
     "metadata": {},
     "output_type": "execute_result"
    }
   ],
   "source": [
    "# create an operator\n",
    "import Algebra.Operator.operators_spin as op_spin\n",
    "import jax.numpy as jnp\n",
    "\n",
    "sig_x = op_spin.sig_x(\n",
    "    lattice  = lat,\n",
    "    type_act = op_spin.OperatorTypeActing.Correlation\n",
    ")\n",
    "sig_z = op_spin.sig_z(\n",
    "    lattice  = lat,\n",
    "    type_act = op_spin.OperatorTypeActing.Correlation\n",
    ")\n",
    "\n",
    "# create a set of states and test it\n",
    "int_state = np.random.randint(0, 2**lat.ns, dtype=np.int32)\n",
    "np_state  = np.ones((lat.ns), dtype = np.float64)\n",
    "jnp_state = jnp.ones((lat.ns), dtype = jnp.float64)\n",
    "\n",
    "int_state, np_state, jnp_state"
   ]
  },
  {
   "cell_type": "markdown",
   "metadata": {},
   "source": [
    "#### Integer states"
   ]
  },
  {
   "cell_type": "code",
   "execution_count": 9,
   "metadata": {},
   "outputs": [
    {
     "name": "stdout",
     "output_type": "stream",
     "text": [
      "Before: 11100101\n",
      "i: 0)\n",
      "\tSigma Z\n",
      "\t\tAfter [0, 1]'th s_z: (229)b11100101 with value [0.25]\n",
      "\tSigma X\n",
      "\t\tAfter [0, 1]'th s_x: (37)b00100101 with value [0.25]\n",
      "i: 1)\n",
      "\tSigma Z\n",
      "\t\tAfter [1, 2]'th s_z: (229)b11100101 with value [0.25]\n",
      "\tSigma X\n",
      "\t\tAfter [1, 2]'th s_x: (133)b10000101 with value [0.25]\n",
      "i: 2)\n",
      "\tSigma Z\n",
      "\t\tAfter [2, 3]'th s_z: (229)b11100101 with value [-0.25]\n",
      "\tSigma X\n",
      "\t\tAfter [2, 3]'th s_x: (213)b11010101 with value [0.25]\n",
      "i: 3)\n",
      "\tSigma Z\n",
      "\t\tAfter [3, 4]'th s_z: (229)b11100101 with value [0.25]\n",
      "\tSigma X\n",
      "\t\tAfter [3, 4]'th s_x: (253)b11111101 with value [0.25]\n",
      "i: 4)\n",
      "\tSigma Z\n",
      "\t\tAfter [4, 5]'th s_z: (229)b11100101 with value [-0.25]\n",
      "\tSigma X\n",
      "\t\tAfter [4, 5]'th s_x: (233)b11101001 with value [0.25]\n",
      "i: 5)\n",
      "\tSigma Z\n",
      "\t\tAfter [5, 6]'th s_z: (229)b11100101 with value [-0.25]\n",
      "\tSigma X\n",
      "\t\tAfter [5, 6]'th s_x: (227)b11100011 with value [0.25]\n",
      "i: 6)\n",
      "\tSigma Z\n",
      "\t\tAfter [6, 7]'th s_z: (229)b11100101 with value [-0.25]\n",
      "\tSigma X\n",
      "\t\tAfter [6, 7]'th s_x: (230)b11100110 with value [0.25]\n",
      "i: 7)\n",
      "\tSigma Z\n",
      "\t\tAfter [7, 0]'th s_z: (229)b11100101 with value [0.25]\n",
      "\tSigma X\n",
      "\t\tAfter [7, 0]'th s_x: (100)b01100100 with value [0.25]\n"
     ]
    }
   ],
   "source": [
    "print(f\"Before: {bin_mod.int2binstr(int_state, lat.ns)}\")\n",
    "for i in range(lat.ns):\n",
    "    sites = [i, (i+1)%lat.ns]\n",
    "    print(f\"i: {i})\")\n",
    "    print(\"\\tSigma Z\")\n",
    "    # sig_z\n",
    "    int_state_mod, int_state_mod_val = sig_z(int_state, *sites)\n",
    "    print(f\"\\t\\tAfter {sites}'th s_z: ({int_state_mod[0]})b{bin_mod.int2binstr(int_state_mod[0], lat.ns)} with value {int_state_mod_val}\")\n",
    "    print(\"\\tSigma X\")\n",
    "    # sig_x\n",
    "    sites = [i, (i+1)%lat.ns]\n",
    "    int_state_mod, int_state_mod_val = sig_x(int_state, *sites)\n",
    "    print(f\"\\t\\tAfter {sites}'th s_x: ({int_state_mod[0]})b{bin_mod.int2binstr(int_state_mod[0], lat.ns)} with value {int_state_mod_val}\")"
   ]
  },
  {
   "cell_type": "markdown",
   "metadata": {},
   "source": [
    "#### Numpy states"
   ]
  },
  {
   "cell_type": "code",
   "execution_count": 10,
   "metadata": {},
   "outputs": [
    {
     "name": "stdout",
     "output_type": "stream",
     "text": [
      "0\n",
      "Before: [1. 1. 1. 1. 1. 1. 1. 1.], acting on sites [0, 1]\n",
      "After X: [-1. -1.  1.  1.  1.  1.  1.  1.]\n",
      "After Z: [1. 1. 1. 1. 1. 1. 1. 1.]\n",
      "1\n",
      "Before: [1. 1. 1. 1. 1. 1. 1. 1.], acting on sites [1, 2]\n",
      "After X: [ 1. -1. -1.  1.  1.  1.  1.  1.]\n",
      "After Z: [1. 1. 1. 1. 1. 1. 1. 1.]\n",
      "2\n",
      "Before: [1. 1. 1. 1. 1. 1. 1. 1.], acting on sites [2, 3]\n",
      "After X: [ 1.  1. -1. -1.  1.  1.  1.  1.]\n",
      "After Z: [1. 1. 1. 1. 1. 1. 1. 1.]\n",
      "3\n",
      "Before: [1. 1. 1. 1. 1. 1. 1. 1.], acting on sites [3, 4]\n",
      "After X: [ 1.  1.  1. -1. -1.  1.  1.  1.]\n",
      "After Z: [1. 1. 1. 1. 1. 1. 1. 1.]\n",
      "4\n",
      "Before: [1. 1. 1. 1. 1. 1. 1. 1.], acting on sites [4, 5]\n",
      "After X: [ 1.  1.  1.  1. -1. -1.  1.  1.]\n",
      "After Z: [1. 1. 1. 1. 1. 1. 1. 1.]\n",
      "5\n",
      "Before: [1. 1. 1. 1. 1. 1. 1. 1.], acting on sites [5, 6]\n",
      "After X: [ 1.  1.  1.  1.  1. -1. -1.  1.]\n",
      "After Z: [1. 1. 1. 1. 1. 1. 1. 1.]\n",
      "6\n",
      "Before: [1. 1. 1. 1. 1. 1. 1. 1.], acting on sites [6, 7]\n",
      "After X: [ 1.  1.  1.  1.  1.  1. -1. -1.]\n",
      "After Z: [1. 1. 1. 1. 1. 1. 1. 1.]\n",
      "7\n",
      "Before: [1. 1. 1. 1. 1. 1. 1. 1.], acting on sites [7, 0]\n",
      "After X: [-1.  1.  1.  1.  1.  1.  1. -1.]\n",
      "After Z: [1. 1. 1. 1. 1. 1. 1. 1.]\n"
     ]
    }
   ],
   "source": [
    "for i in range(lat.ns):\n",
    "    print(i)\n",
    "    sites            = [i, (i+1)%lat.ns]\n",
    "    np_modified_x, _ = sig_x(np_state.copy(), *sites)\n",
    "    np_modified_z, _ = sig_z(np_state.copy(), *sites)\n",
    "    print(f\"Before: {np_state}, acting on sites {sites}\")\n",
    "    print(f\"After X: {np_modified_x}\")\n",
    "    print(f\"After Z: {np_modified_z}\")"
   ]
  },
  {
   "cell_type": "markdown",
   "metadata": {},
   "source": [
    "#### JAX states"
   ]
  },
  {
   "cell_type": "code",
   "execution_count": 14,
   "metadata": {},
   "outputs": [
    {
     "name": "stdout",
     "output_type": "stream",
     "text": [
      "0\n",
      "Before: [1. 1. 1. 1. 1. 1. 1. 1.], acting on sites [0, 1]\n",
      "After X: [-1. -1.  1.  1.  1.  1.  1.  1.]\n",
      "After Z: [1. 1. 1. 1. 1. 1. 1. 1.]\n",
      "1\n",
      "Before: [1. 1. 1. 1. 1. 1. 1. 1.], acting on sites [1, 2]\n",
      "After X: [ 1. -1. -1.  1.  1.  1.  1.  1.]\n",
      "After Z: [1. 1. 1. 1. 1. 1. 1. 1.]\n",
      "2\n",
      "Before: [1. 1. 1. 1. 1. 1. 1. 1.], acting on sites [2, 3]\n",
      "After X: [ 1.  1. -1. -1.  1.  1.  1.  1.]\n",
      "After Z: [1. 1. 1. 1. 1. 1. 1. 1.]\n",
      "3\n",
      "Before: [1. 1. 1. 1. 1. 1. 1. 1.], acting on sites [3, 4]\n",
      "After X: [ 1.  1.  1. -1. -1.  1.  1.  1.]\n",
      "After Z: [1. 1. 1. 1. 1. 1. 1. 1.]\n",
      "4\n",
      "Before: [1. 1. 1. 1. 1. 1. 1. 1.], acting on sites [4, 5]\n",
      "After X: [ 1.  1.  1.  1. -1. -1.  1.  1.]\n",
      "After Z: [1. 1. 1. 1. 1. 1. 1. 1.]\n",
      "5\n",
      "Before: [1. 1. 1. 1. 1. 1. 1. 1.], acting on sites [5, 6]\n",
      "After X: [ 1.  1.  1.  1.  1. -1. -1.  1.]\n",
      "After Z: [1. 1. 1. 1. 1. 1. 1. 1.]\n",
      "6\n",
      "Before: [1. 1. 1. 1. 1. 1. 1. 1.], acting on sites [6, 7]\n",
      "After X: [ 1.  1.  1.  1.  1.  1. -1. -1.]\n",
      "After Z: [1. 1. 1. 1. 1. 1. 1. 1.]\n",
      "7\n",
      "Before: [1. 1. 1. 1. 1. 1. 1. 1.], acting on sites [7, 0]\n",
      "After X: [-1.  1.  1.  1.  1.  1.  1. -1.]\n",
      "After Z: [1. 1. 1. 1. 1. 1. 1. 1.]\n"
     ]
    }
   ],
   "source": [
    "for i in range(lat.ns):\n",
    "    print(i)\n",
    "    sites            = [i, (i+1)%lat.ns]\n",
    "    jnp_modified_x, _ = sig_x(jnp_state.copy(), *sites)\n",
    "    jnp_modified_z, _ = sig_z(jnp_state.copy(), *sites)\n",
    "    print(f\"Before: {jnp_state}, acting on sites {sites}\")\n",
    "    print(f\"After X: {jnp_modified_x}\")\n",
    "    print(f\"After Z: {jnp_modified_z}\")"
   ]
  },
  {
   "cell_type": "markdown",
   "metadata": {},
   "source": [
    "### Globals"
   ]
  },
  {
   "cell_type": "code",
   "execution_count": 17,
   "metadata": {},
   "outputs": [
    {
     "data": {
      "text/plain": [
       "(164,\n",
       " array([1., 1., 1., 1., 1., 1., 1., 1.]),\n",
       " Array([1., 1., 1., 1., 1., 1., 1., 1.], dtype=float64))"
      ]
     },
     "execution_count": 17,
     "metadata": {},
     "output_type": "execute_result"
    }
   ],
   "source": [
    "# create an operator\n",
    "import Algebra.Operator.operators_spin as op_spin\n",
    "import jax.numpy as jnp\n",
    "sites = [0, 2]\n",
    "sig_x = op_spin.sig_x(\n",
    "    lattice  = lat,\n",
    "    sites    = sites\n",
    ")\n",
    "sig_z = op_spin.sig_z(\n",
    "    lattice  = lat,\n",
    "    sites    = sites\n",
    ")\n",
    "\n",
    "# create a set of states and test it\n",
    "int_state = np.random.randint(0, 2**lat.ns, dtype=np.int32)\n",
    "np_state  = np.ones((lat.ns), dtype = np.float64)\n",
    "jnp_state = jnp.ones((lat.ns), dtype = jnp.float64)\n",
    "\n",
    "int_state, np_state, jnp_state"
   ]
  },
  {
   "cell_type": "markdown",
   "metadata": {},
   "source": [
    "#### Integer states"
   ]
  },
  {
   "cell_type": "code",
   "execution_count": 18,
   "metadata": {},
   "outputs": [
    {
     "name": "stdout",
     "output_type": "stream",
     "text": [
      "Before: 10100100, acting on sites [0, 2]\n",
      "After X: 00000100\n",
      "After Z: 10100100\n"
     ]
    }
   ],
   "source": [
    "int_modified_x, _ = sig_x(int_state)\n",
    "int_modified_z, _ = sig_z(int_state)\n",
    "print(f\"Before: {bin_mod.int2binstr(int_state, lat.ns)}, acting on sites {sites}\")\n",
    "print(f\"After X: {bin_mod.int2binstr(int_modified_x[0], lat.ns)}\")\n",
    "print(f\"After Z: {bin_mod.int2binstr(int_modified_z[0], lat.ns)}\")"
   ]
  },
  {
   "cell_type": "markdown",
   "metadata": {},
   "source": [
    "#### Numpy"
   ]
  },
  {
   "cell_type": "code",
   "execution_count": 19,
   "metadata": {},
   "outputs": [
    {
     "name": "stdout",
     "output_type": "stream",
     "text": [
      "Before: [1. 1. 1. 1. 1. 1. 1. 1.], acting on sites [0, 2]\n",
      "After X: [-1.  1. -1.  1.  1.  1.  1.  1.]\n",
      "After Z: [1. 1. 1. 1. 1. 1. 1. 1.]\n"
     ]
    }
   ],
   "source": [
    "np_modified_x, _ = sig_x(np_state.copy())\n",
    "np_modified_z, _ = sig_z(np_state.copy())\n",
    "print(f\"Before: {np_state}, acting on sites {sites}\")\n",
    "print(f\"After X: {np_modified_x}\")\n",
    "print(f\"After Z: {np_modified_z}\")"
   ]
  },
  {
   "cell_type": "markdown",
   "metadata": {},
   "source": [
    "#### JNP"
   ]
  },
  {
   "cell_type": "code",
   "execution_count": 21,
   "metadata": {},
   "outputs": [
    {
     "name": "stdout",
     "output_type": "stream",
     "text": [
      "Before: [1. 1. 1. 1. 1. 1. 1. 1.], acting on sites [0, 2]\n",
      "After X: [-1.  1. -1.  1.  1.  1.  1.  1.]\n",
      "After Z: [1. 1. 1. 1. 1. 1. 1. 1.]\n"
     ]
    }
   ],
   "source": [
    "jnp_modified_x, _ = sig_x(jnp_state.copy())\n",
    "jnp_modified_z, _ = sig_z(jnp_state.copy())\n",
    "print(f\"Before: {jnp_state}, acting on sites {sites}\")\n",
    "print(f\"After X: {jnp_modified_x}\")\n",
    "print(f\"After Z: {jnp_modified_z}\")"
   ]
  },
  {
   "cell_type": "markdown",
   "metadata": {},
   "source": [
    "## Any Hamiltonian defined from the operators\n",
    "\n",
    "Underneath, the Hamiltonian is constructed using the defined operators, such as `sig_x` and `sig_z`, which act on specific sites or globally on the lattice. These operators are combined with appropriate multipliers to represent the physical interactions in the system. The Hamiltonian is then built, diagonalized, and used to compute eigenvalues, eigenvectors, and other properties of the quantum system.\n"
   ]
  },
  {
   "cell_type": "code",
   "execution_count": 24,
   "metadata": {},
   "outputs": [
    {
     "name": "stderr",
     "output_type": "stream",
     "text": [
      "07_04_2025_12-04_59 [INFO] \t\t->\u001b[0m[Hamiltonian] Adding modifying operator Operator(Sx/0-2, eigval=1.0, type=Other) at site 0 (global) with multiplier 1.0\u001b[0m\n",
      "07_04_2025_12-04_59 [INFO] \t\t->\u001b[0m[Hamiltonian] Adding non-modifying operator Operator(Sz/0-2, eigval=1.0, type=Other) at site 0 (global) with multiplier 0.5\u001b[0m\n",
      "07_04_2025_12-04_59 [INFO] \t\t->\u001b[0m[Hamiltonian] Adding non-modifying operator Operator(Sz/L, eigval=1.0, type=Other) at site 5 (sites: [5]) with multiplier -5.0\u001b[0m\n",
      "07_04_2025_12-04_59 [INFO] \t\t->\u001b[0m[Hamiltonian] Adding modifying operator Operator(Sx/L, eigval=1.0, type=Other) at site 4 (sites: [4]) with multiplier -5.0\u001b[0m\n",
      "07_04_2025_12-04_59 [WARNING] \t\t->\u001b[32m[Hamiltonian] Max local changes set to 4\u001b[0m\n",
      "07_04_2025_12-04_59 [INFO] \t\t->\u001b[0m[Hamiltonian] Successfully set local energy functions...\u001b[0m\n"
     ]
    },
    {
     "name": "stdout",
     "output_type": "stream",
     "text": [
      "HON,LatticeBC.PBC,d=2,Ns=8,Lx=2,Ly=2,Lz=1\n",
      "\n",
      "Operator: Sx/0-2, OperatorTypeActing.Global\n",
      "Operator: Sz/0-2, OperatorTypeActing.Global\n",
      "Operator: Sz/0, OperatorTypeActing.Global\n",
      "Operator: Sx/0-2 * 2, OperatorTypeActing.Global\n",
      "Operator: Sz/0 * Sz/0-2, OperatorTypeActing.Global\n",
      "Operator: Sz/L, OperatorTypeActing.Local\n",
      "Operator: Sx/L, OperatorTypeActing.Local\n",
      "Operator: Sz/C, OperatorTypeActing.Correlation\n",
      "int_state: 11\n",
      "np_state: [ 1. -1.  1. -1. -1.  1.  1.  1.]\n",
      "jnp_state: [ 1. -1.  1. -1. -1.  1.  1.  1.]\n"
     ]
    }
   ],
   "source": [
    "import numpy as np\n",
    "import Algebra.hamil as hamil\n",
    "from Algebra.Operator.operator import  test_operators\n",
    "from general_python.lattices.honeycomb import HoneycombLattice\n",
    "from general_python.lattices.lattice import LatticeBC\n",
    "\n",
    "backend = 'np'\n",
    "lat     = HoneycombLattice( dim     = 2,\n",
    "                            lx      = 2,\n",
    "                            ly      = 2,\n",
    "                            lz      = 1,\n",
    "                            bc      = LatticeBC.PBC)\n",
    "ham     = hamil.Hamiltonian(\n",
    "    hilbert_space   = None,\n",
    "    is_sparse       = True,\n",
    "    dtype           = np.float64,\n",
    "    lattice         = lat,\n",
    "    backend         = backend,\n",
    ")\n",
    "print(lat)\n",
    "print()\n",
    "# create a set of states and test it\n",
    "(int_state, np_state, jnp_state), operators = hamil.test_generic_hamiltonian(ham=ham, ns=lat.ns)\n",
    "sig_x, sig_z, sig_z_0, sig_x_2, sig_z_sig_z, sig_z_loc, sig_x_loc, sig_z_cor = operators\n",
    "print(f\"int_state: {int_state}\")\n",
    "print(f\"np_state: {np_state}\")\n",
    "print(f\"jnp_state: {jnp_state}\")\n",
    "\n",
    "# reset the Hamiltonian operators\n",
    "ham.reset_operators()\n",
    "\n",
    "# add operators to the Hamiltonian\n",
    "ham.add(\n",
    "    operator    = sig_x,\n",
    "    multiplier  = 1.0,\n",
    "    sites       = None,\n",
    "    # modifies    = True\n",
    ")\n",
    "\n",
    "ham.add(\n",
    "    operator    = sig_z,\n",
    "    multiplier  = 0.5,\n",
    "    sites       = None,\n",
    "    # modifies    = False\n",
    ")\n",
    "\n",
    "# add some local s_z\n",
    "ham.add(\n",
    "    operator    = sig_z_loc,\n",
    "    multiplier  = -5.0,\n",
    "    sites       = [5],\n",
    "    # modifies    = False\n",
    ")\n",
    "\n",
    "# add some local s_x\n",
    "ham.add(\n",
    "    operator    = sig_x_loc,\n",
    "    multiplier  = -5.0,\n",
    "    sites       = [4],\n",
    "    # modifies    = True\n",
    ")\n",
    "\n",
    "ham._set_local_energy_functions()"
   ]
  },
  {
   "cell_type": "markdown",
   "metadata": {},
   "source": [
    "### Integer states"
   ]
  },
  {
   "cell_type": "markdown",
   "metadata": {},
   "source": [
    "##### $\\sigma _x^0 \\sigma_x^2 |\\psi ^{\\rm int}\\rangle$"
   ]
  },
  {
   "cell_type": "code",
   "execution_count": 27,
   "metadata": {},
   "outputs": [
    {
     "data": {
      "application/vnd.microsoft.datawrangler.viewer.v0+json": {
       "columns": [
        {
         "name": "index",
         "rawType": "int64",
         "type": "integer"
        },
        {
         "name": "Test Expression",
         "rawType": "object",
         "type": "string"
        },
        {
         "name": "Initial State",
         "rawType": "object",
         "type": "string"
        },
        {
         "name": "Operator",
         "rawType": "object",
         "type": "string"
        },
        {
         "name": "Result",
         "rawType": "object",
         "type": "string"
        },
        {
         "name": "Time Measurement",
         "rawType": "object",
         "type": "string"
        }
       ],
       "conversionMethod": "pd.DataFrame",
       "ref": "2886d1d3-d35a-48d5-9e3c-036daeb7419f",
       "rows": [
        [
         "0",
         "op(state)",
         "(11), which is b00001011",
         "Sx/0-2",
         "[171], which is ['b10101011'] with [0.25]",
         "6.92 us +- 4.81 us per loop (mean +- std. dev. of 5 runs, 5 loops each)"
        ],
        [
         "1",
         "op[state]",
         "(11), which is b00001011",
         "Sx/0-2",
         "[171]",
         "4.81 us +- 1.01 us per loop (mean +- std. dev. of 5 runs, 5 loops each)"
        ],
        [
         "2",
         "op[op[state]]",
         "(11), which is b00001011",
         "Sx/0-2",
         "[11]",
         "The slowest run took 6.35 times longer than the fastest. This could mean that an intermediate result is being cached.\n12.7 us +- 11.9 us per loop (mean +- std. dev. of 5 runs, 5 loops each)"
        ],
        [
         "3",
         "op % state",
         "(11), which is b00001011",
         "Sx/0-2",
         "[0.25]",
         "5.93 us +- 1.93 us per loop (mean +- std. dev. of 5 runs, 5 loops each)"
        ]
       ],
       "shape": {
        "columns": 5,
        "rows": 4
       }
      },
      "text/html": [
       "<div>\n",
       "<style scoped>\n",
       "    .dataframe tbody tr th:only-of-type {\n",
       "        vertical-align: middle;\n",
       "    }\n",
       "\n",
       "    .dataframe tbody tr th {\n",
       "        vertical-align: top;\n",
       "    }\n",
       "\n",
       "    .dataframe thead th {\n",
       "        text-align: right;\n",
       "    }\n",
       "</style>\n",
       "<table border=\"1\" class=\"dataframe\">\n",
       "  <thead>\n",
       "    <tr style=\"text-align: right;\">\n",
       "      <th></th>\n",
       "      <th>Test Expression</th>\n",
       "      <th>Initial State</th>\n",
       "      <th>Operator</th>\n",
       "      <th>Result</th>\n",
       "      <th>Time Measurement</th>\n",
       "    </tr>\n",
       "  </thead>\n",
       "  <tbody>\n",
       "    <tr>\n",
       "      <th>0</th>\n",
       "      <td>op(state)</td>\n",
       "      <td>(11), which is b00001011</td>\n",
       "      <td>Sx/0-2</td>\n",
       "      <td>[171], which is ['b10101011'] with [0.25]</td>\n",
       "      <td>6.92 us +- 4.81 us per loop (mean +- std. dev....</td>\n",
       "    </tr>\n",
       "    <tr>\n",
       "      <th>1</th>\n",
       "      <td>op[state]</td>\n",
       "      <td>(11), which is b00001011</td>\n",
       "      <td>Sx/0-2</td>\n",
       "      <td>[171]</td>\n",
       "      <td>4.81 us +- 1.01 us per loop (mean +- std. dev....</td>\n",
       "    </tr>\n",
       "    <tr>\n",
       "      <th>2</th>\n",
       "      <td>op[op[state]]</td>\n",
       "      <td>(11), which is b00001011</td>\n",
       "      <td>Sx/0-2</td>\n",
       "      <td>[11]</td>\n",
       "      <td>The slowest run took 6.35 times longer than th...</td>\n",
       "    </tr>\n",
       "    <tr>\n",
       "      <th>3</th>\n",
       "      <td>op % state</td>\n",
       "      <td>(11), which is b00001011</td>\n",
       "      <td>Sx/0-2</td>\n",
       "      <td>[0.25]</td>\n",
       "      <td>5.93 us +- 1.93 us per loop (mean +- std. dev....</td>\n",
       "    </tr>\n",
       "  </tbody>\n",
       "</table>\n",
       "</div>"
      ],
      "text/plain": [
       "  Test Expression             Initial State Operator  \\\n",
       "0       op(state)  (11), which is b00001011   Sx/0-2   \n",
       "1       op[state]  (11), which is b00001011   Sx/0-2   \n",
       "2   op[op[state]]  (11), which is b00001011   Sx/0-2   \n",
       "3      op % state  (11), which is b00001011   Sx/0-2   \n",
       "\n",
       "                                      Result  \\\n",
       "0  [171], which is ['b10101011'] with [0.25]   \n",
       "1                                      [171]   \n",
       "2                                       [11]   \n",
       "3                                     [0.25]   \n",
       "\n",
       "                                    Time Measurement  \n",
       "0  6.92 us +- 4.81 us per loop (mean +- std. dev....  \n",
       "1  4.81 us +- 1.01 us per loop (mean +- std. dev....  \n",
       "2  The slowest run took 6.35 times longer than th...  \n",
       "3  5.93 us +- 1.93 us per loop (mean +- std. dev....  "
      ]
     },
     "metadata": {},
     "output_type": "display_data"
    }
   ],
   "source": [
    "out = test_operators(sig_x, int_state, ns = lat.ns, output_format='tabs')"
   ]
  },
  {
   "cell_type": "markdown",
   "metadata": {},
   "source": [
    "##### $\\sigma _z^0 \\sigma_z^2 |\\psi ^{\\rm int}\\rangle$"
   ]
  },
  {
   "cell_type": "code",
   "execution_count": 6,
   "metadata": {},
   "outputs": [
    {
     "data": {
      "application/vnd.microsoft.datawrangler.viewer.v0+json": {
       "columns": [
        {
         "name": "index",
         "rawType": "int64",
         "type": "integer"
        },
        {
         "name": "Test Expression",
         "rawType": "object",
         "type": "string"
        },
        {
         "name": "Initial State",
         "rawType": "object",
         "type": "string"
        },
        {
         "name": "Operator",
         "rawType": "object",
         "type": "string"
        },
        {
         "name": "Result",
         "rawType": "object",
         "type": "string"
        },
        {
         "name": "Time Measurement",
         "rawType": "object",
         "type": "string"
        }
       ],
       "conversionMethod": "pd.DataFrame",
       "ref": "e8810831-50f2-4201-aa99-fa88e0187a48",
       "rows": [
        [
         "0",
         "op(state)",
         "(226), which is b11100010",
         "Sz/0-2",
         "[226], which is ['b11100010'] with [0.25]",
         "The slowest run took 3424.93 times longer than the fastest. This could mean that an intermediate result is being cached.\n3.52 ms +- 7.02 ms per loop (mean +- std. dev. of 5 runs, 5 loops each)"
        ],
        [
         "1",
         "op[state]",
         "(226), which is b11100010",
         "Sz/0-2",
         "[226]",
         "5.45 us +- 1.08 us per loop (mean +- std. dev. of 5 runs, 5 loops each)"
        ],
        [
         "2",
         "op[op[state]]",
         "(226), which is b11100010",
         "Sz/0-2",
         "[226]",
         "The slowest run took 3624.08 times longer than the fastest. This could mean that an intermediate result is being cached.\n4.99 ms +- 9.96 ms per loop (mean +- std. dev. of 5 runs, 5 loops each)"
        ],
        [
         "3",
         "op % state",
         "(226), which is b11100010",
         "Sz/0-2",
         "[0.25]",
         "6.24 us +- 2.62 us per loop (mean +- std. dev. of 5 runs, 5 loops each)"
        ]
       ],
       "shape": {
        "columns": 5,
        "rows": 4
       }
      },
      "text/html": [
       "<div>\n",
       "<style scoped>\n",
       "    .dataframe tbody tr th:only-of-type {\n",
       "        vertical-align: middle;\n",
       "    }\n",
       "\n",
       "    .dataframe tbody tr th {\n",
       "        vertical-align: top;\n",
       "    }\n",
       "\n",
       "    .dataframe thead th {\n",
       "        text-align: right;\n",
       "    }\n",
       "</style>\n",
       "<table border=\"1\" class=\"dataframe\">\n",
       "  <thead>\n",
       "    <tr style=\"text-align: right;\">\n",
       "      <th></th>\n",
       "      <th>Test Expression</th>\n",
       "      <th>Initial State</th>\n",
       "      <th>Operator</th>\n",
       "      <th>Result</th>\n",
       "      <th>Time Measurement</th>\n",
       "    </tr>\n",
       "  </thead>\n",
       "  <tbody>\n",
       "    <tr>\n",
       "      <th>0</th>\n",
       "      <td>op(state)</td>\n",
       "      <td>(226), which is b11100010</td>\n",
       "      <td>Sz/0-2</td>\n",
       "      <td>[226], which is ['b11100010'] with [0.25]</td>\n",
       "      <td>The slowest run took 3424.93 times longer than...</td>\n",
       "    </tr>\n",
       "    <tr>\n",
       "      <th>1</th>\n",
       "      <td>op[state]</td>\n",
       "      <td>(226), which is b11100010</td>\n",
       "      <td>Sz/0-2</td>\n",
       "      <td>[226]</td>\n",
       "      <td>5.45 us +- 1.08 us per loop (mean +- std. dev....</td>\n",
       "    </tr>\n",
       "    <tr>\n",
       "      <th>2</th>\n",
       "      <td>op[op[state]]</td>\n",
       "      <td>(226), which is b11100010</td>\n",
       "      <td>Sz/0-2</td>\n",
       "      <td>[226]</td>\n",
       "      <td>The slowest run took 3624.08 times longer than...</td>\n",
       "    </tr>\n",
       "    <tr>\n",
       "      <th>3</th>\n",
       "      <td>op % state</td>\n",
       "      <td>(226), which is b11100010</td>\n",
       "      <td>Sz/0-2</td>\n",
       "      <td>[0.25]</td>\n",
       "      <td>6.24 us +- 2.62 us per loop (mean +- std. dev....</td>\n",
       "    </tr>\n",
       "  </tbody>\n",
       "</table>\n",
       "</div>"
      ],
      "text/plain": [
       "  Test Expression              Initial State Operator  \\\n",
       "0       op(state)  (226), which is b11100010   Sz/0-2   \n",
       "1       op[state]  (226), which is b11100010   Sz/0-2   \n",
       "2   op[op[state]]  (226), which is b11100010   Sz/0-2   \n",
       "3      op % state  (226), which is b11100010   Sz/0-2   \n",
       "\n",
       "                                      Result  \\\n",
       "0  [226], which is ['b11100010'] with [0.25]   \n",
       "1                                      [226]   \n",
       "2                                      [226]   \n",
       "3                                     [0.25]   \n",
       "\n",
       "                                    Time Measurement  \n",
       "0  The slowest run took 3424.93 times longer than...  \n",
       "1  5.45 us +- 1.08 us per loop (mean +- std. dev....  \n",
       "2  The slowest run took 3624.08 times longer than...  \n",
       "3  6.24 us +- 2.62 us per loop (mean +- std. dev....  "
      ]
     },
     "metadata": {},
     "output_type": "display_data"
    }
   ],
   "source": [
    "out = test_operators(sig_z, int_state, ns = lat.ns, output_format='tabs')"
   ]
  },
  {
   "cell_type": "markdown",
   "metadata": {},
   "source": [
    "##### $2 * \\sigma _x^0 \\sigma_x^2 |\\psi ^{\\rm int}\\rangle$"
   ]
  },
  {
   "cell_type": "code",
   "execution_count": 7,
   "metadata": {},
   "outputs": [
    {
     "data": {
      "application/vnd.microsoft.datawrangler.viewer.v0+json": {
       "columns": [
        {
         "name": "index",
         "rawType": "int64",
         "type": "integer"
        },
        {
         "name": "Test Expression",
         "rawType": "object",
         "type": "string"
        },
        {
         "name": "Initial State",
         "rawType": "object",
         "type": "string"
        },
        {
         "name": "Operator",
         "rawType": "object",
         "type": "string"
        },
        {
         "name": "Result",
         "rawType": "object",
         "type": "string"
        },
        {
         "name": "Time Measurement",
         "rawType": "object",
         "type": "string"
        }
       ],
       "conversionMethod": "pd.DataFrame",
       "ref": "a20719ca-0d87-452f-a0dc-e7de918bff0c",
       "rows": [
        [
         "0",
         "op(state)",
         "(226), which is b11100010",
         "Sx/0-2 * 2",
         "[66], which is ['b01000010'] with [0.5]",
         "The slowest run took 16.03 times longer than the fastest. This could mean that an intermediate result is being cached.\n38.6 us +- 39.5 us per loop (mean +- std. dev. of 5 runs, 5 loops each)"
        ],
        [
         "1",
         "op[state]",
         "(226), which is b11100010",
         "Sx/0-2 * 2",
         "[66]",
         "The slowest run took 6.01 times longer than the fastest. This could mean that an intermediate result is being cached.\n31.9 us +- 23 us per loop (mean +- std. dev. of 5 runs, 5 loops each)"
        ],
        [
         "2",
         "op[op[state]]",
         "(226), which is b11100010",
         "Sx/0-2 * 2",
         "[226]",
         "The slowest run took 9.29 times longer than the fastest. This could mean that an intermediate result is being cached.\n38.9 us +- 24.9 us per loop (mean +- std. dev. of 5 runs, 5 loops each)"
        ],
        [
         "3",
         "op % state",
         "(226), which is b11100010",
         "Sx/0-2 * 2",
         "[0.5]",
         "6.93 us +- 1.02 us per loop (mean +- std. dev. of 5 runs, 5 loops each)"
        ]
       ],
       "shape": {
        "columns": 5,
        "rows": 4
       }
      },
      "text/html": [
       "<div>\n",
       "<style scoped>\n",
       "    .dataframe tbody tr th:only-of-type {\n",
       "        vertical-align: middle;\n",
       "    }\n",
       "\n",
       "    .dataframe tbody tr th {\n",
       "        vertical-align: top;\n",
       "    }\n",
       "\n",
       "    .dataframe thead th {\n",
       "        text-align: right;\n",
       "    }\n",
       "</style>\n",
       "<table border=\"1\" class=\"dataframe\">\n",
       "  <thead>\n",
       "    <tr style=\"text-align: right;\">\n",
       "      <th></th>\n",
       "      <th>Test Expression</th>\n",
       "      <th>Initial State</th>\n",
       "      <th>Operator</th>\n",
       "      <th>Result</th>\n",
       "      <th>Time Measurement</th>\n",
       "    </tr>\n",
       "  </thead>\n",
       "  <tbody>\n",
       "    <tr>\n",
       "      <th>0</th>\n",
       "      <td>op(state)</td>\n",
       "      <td>(226), which is b11100010</td>\n",
       "      <td>Sx/0-2 * 2</td>\n",
       "      <td>[66], which is ['b01000010'] with [0.5]</td>\n",
       "      <td>The slowest run took 16.03 times longer than t...</td>\n",
       "    </tr>\n",
       "    <tr>\n",
       "      <th>1</th>\n",
       "      <td>op[state]</td>\n",
       "      <td>(226), which is b11100010</td>\n",
       "      <td>Sx/0-2 * 2</td>\n",
       "      <td>[66]</td>\n",
       "      <td>The slowest run took 6.01 times longer than th...</td>\n",
       "    </tr>\n",
       "    <tr>\n",
       "      <th>2</th>\n",
       "      <td>op[op[state]]</td>\n",
       "      <td>(226), which is b11100010</td>\n",
       "      <td>Sx/0-2 * 2</td>\n",
       "      <td>[226]</td>\n",
       "      <td>The slowest run took 9.29 times longer than th...</td>\n",
       "    </tr>\n",
       "    <tr>\n",
       "      <th>3</th>\n",
       "      <td>op % state</td>\n",
       "      <td>(226), which is b11100010</td>\n",
       "      <td>Sx/0-2 * 2</td>\n",
       "      <td>[0.5]</td>\n",
       "      <td>6.93 us +- 1.02 us per loop (mean +- std. dev....</td>\n",
       "    </tr>\n",
       "  </tbody>\n",
       "</table>\n",
       "</div>"
      ],
      "text/plain": [
       "  Test Expression              Initial State    Operator  \\\n",
       "0       op(state)  (226), which is b11100010  Sx/0-2 * 2   \n",
       "1       op[state]  (226), which is b11100010  Sx/0-2 * 2   \n",
       "2   op[op[state]]  (226), which is b11100010  Sx/0-2 * 2   \n",
       "3      op % state  (226), which is b11100010  Sx/0-2 * 2   \n",
       "\n",
       "                                    Result  \\\n",
       "0  [66], which is ['b01000010'] with [0.5]   \n",
       "1                                     [66]   \n",
       "2                                    [226]   \n",
       "3                                    [0.5]   \n",
       "\n",
       "                                    Time Measurement  \n",
       "0  The slowest run took 16.03 times longer than t...  \n",
       "1  The slowest run took 6.01 times longer than th...  \n",
       "2  The slowest run took 9.29 times longer than th...  \n",
       "3  6.93 us +- 1.02 us per loop (mean +- std. dev....  "
      ]
     },
     "metadata": {},
     "output_type": "display_data"
    }
   ],
   "source": [
    "out = test_operators(sig_x_2, int_state, ns = lat.ns, output_format='tabs')"
   ]
  },
  {
   "cell_type": "markdown",
   "metadata": {},
   "source": [
    "##### $\\sigma _z (i) |\\psi ^{\\rm int}\\rangle$"
   ]
  },
  {
   "cell_type": "code",
   "execution_count": 8,
   "metadata": {},
   "outputs": [
    {
     "data": {
      "application/vnd.microsoft.datawrangler.viewer.v0+json": {
       "columns": [
        {
         "name": "index",
         "rawType": "int64",
         "type": "integer"
        },
        {
         "name": "Test Expression",
         "rawType": "object",
         "type": "string"
        },
        {
         "name": "Initial State",
         "rawType": "object",
         "type": "string"
        },
        {
         "name": "Operator",
         "rawType": "object",
         "type": "string"
        },
        {
         "name": "Result",
         "rawType": "object",
         "type": "string"
        },
        {
         "name": "Time Measurement",
         "rawType": "object",
         "type": "string"
        }
       ],
       "conversionMethod": "pd.DataFrame",
       "ref": "b114fe9a-258d-469a-9702-e83835169d37",
       "rows": [
        [
         "0",
         "op(state, 5)",
         "(226), which is b11100010",
         "Sz/L",
         "[226], which is ['b11100010'] with [-0.5]",
         "The slowest run took 2837.46 times longer than the fastest. This could mean that an intermediate result is being cached.\n2.69 ms +- 5.38 ms per loop (mean +- std. dev. of 5 runs, 5 loops each)"
        ],
        [
         "1",
         "op[state, 5]",
         "(226), which is b11100010",
         "Sz/L",
         "[226]",
         "5.6 us +- 1.61 us per loop (mean +- std. dev. of 5 runs, 5 loops each)"
        ],
        [
         "2",
         "op % state, 5",
         "(226), which is b11100010",
         "Sz/L",
         "[-0.5]",
         "Timeit error: Operator._apply_local() missing 1 required positional argument: 'i'"
        ]
       ],
       "shape": {
        "columns": 5,
        "rows": 3
       }
      },
      "text/html": [
       "<div>\n",
       "<style scoped>\n",
       "    .dataframe tbody tr th:only-of-type {\n",
       "        vertical-align: middle;\n",
       "    }\n",
       "\n",
       "    .dataframe tbody tr th {\n",
       "        vertical-align: top;\n",
       "    }\n",
       "\n",
       "    .dataframe thead th {\n",
       "        text-align: right;\n",
       "    }\n",
       "</style>\n",
       "<table border=\"1\" class=\"dataframe\">\n",
       "  <thead>\n",
       "    <tr style=\"text-align: right;\">\n",
       "      <th></th>\n",
       "      <th>Test Expression</th>\n",
       "      <th>Initial State</th>\n",
       "      <th>Operator</th>\n",
       "      <th>Result</th>\n",
       "      <th>Time Measurement</th>\n",
       "    </tr>\n",
       "  </thead>\n",
       "  <tbody>\n",
       "    <tr>\n",
       "      <th>0</th>\n",
       "      <td>op(state, 5)</td>\n",
       "      <td>(226), which is b11100010</td>\n",
       "      <td>Sz/L</td>\n",
       "      <td>[226], which is ['b11100010'] with [-0.5]</td>\n",
       "      <td>The slowest run took 2837.46 times longer than...</td>\n",
       "    </tr>\n",
       "    <tr>\n",
       "      <th>1</th>\n",
       "      <td>op[state, 5]</td>\n",
       "      <td>(226), which is b11100010</td>\n",
       "      <td>Sz/L</td>\n",
       "      <td>[226]</td>\n",
       "      <td>5.6 us +- 1.61 us per loop (mean +- std. dev. ...</td>\n",
       "    </tr>\n",
       "    <tr>\n",
       "      <th>2</th>\n",
       "      <td>op % state, 5</td>\n",
       "      <td>(226), which is b11100010</td>\n",
       "      <td>Sz/L</td>\n",
       "      <td>[-0.5]</td>\n",
       "      <td>Timeit error: Operator._apply_local() missing ...</td>\n",
       "    </tr>\n",
       "  </tbody>\n",
       "</table>\n",
       "</div>"
      ],
      "text/plain": [
       "  Test Expression              Initial State Operator  \\\n",
       "0    op(state, 5)  (226), which is b11100010     Sz/L   \n",
       "1    op[state, 5]  (226), which is b11100010     Sz/L   \n",
       "2   op % state, 5  (226), which is b11100010     Sz/L   \n",
       "\n",
       "                                      Result  \\\n",
       "0  [226], which is ['b11100010'] with [-0.5]   \n",
       "1                                      [226]   \n",
       "2                                     [-0.5]   \n",
       "\n",
       "                                    Time Measurement  \n",
       "0  The slowest run took 2837.46 times longer than...  \n",
       "1  5.6 us +- 1.61 us per loop (mean +- std. dev. ...  \n",
       "2  Timeit error: Operator._apply_local() missing ...  "
      ]
     },
     "metadata": {},
     "output_type": "display_data"
    }
   ],
   "source": [
    "out = test_operators(sig_z_loc, int_state, ns = lat.ns, output_format='tabs', add_args=(5,))"
   ]
  },
  {
   "cell_type": "markdown",
   "metadata": {},
   "source": [
    "##### $\\sigma _z^0  (\\sigma _z^0 \\sigma_x^2) |\\psi ^{\\rm int}\\rangle$"
   ]
  },
  {
   "cell_type": "code",
   "execution_count": 4,
   "metadata": {},
   "outputs": [
    {
     "ename": "TypeError",
     "evalue": "Pred must be a scalar, got Traced<ShapedArray(bool[1])>with<DynamicJaxprTrace(level=1/1)> of shape (1,).",
     "output_type": "error",
     "traceback": [
      "\u001b[0;31m---------------------------------------------------------------------------\u001b[0m",
      "\u001b[0;31mTypeError\u001b[0m                                 Traceback (most recent call last)",
      "Cell \u001b[0;32mIn[4], line 2\u001b[0m\n\u001b[1;32m      1\u001b[0m \u001b[38;5;66;03m# %timeit -r 5 -n 20 sig_z_sig_z(int_state)\u001b[39;00m\n\u001b[0;32m----> 2\u001b[0m sig_z_sig_z(int_state)\n",
      "File \u001b[0;32m~/Codes/QuantumEigenSolver/Python/QES/Algebra/Operator/operator.py:1352\u001b[0m, in \u001b[0;36mOperator.__call__\u001b[0;34m(self, states, *args)\u001b[0m\n\u001b[1;32m   1342\u001b[0m \u001b[38;5;28;01mdef\u001b[39;00m \u001b[38;5;21m__call__\u001b[39m(\u001b[38;5;28mself\u001b[39m, states: \u001b[38;5;28mlist\u001b[39m \u001b[38;5;241m|\u001b[39m np\u001b[38;5;241m.\u001b[39mndarray \u001b[38;5;241m|\u001b[39m jnp\u001b[38;5;241m.\u001b[39mndarray, \u001b[38;5;241m*\u001b[39margs):\n\u001b[1;32m   1343\u001b[0m \u001b[38;5;250m    \u001b[39m\u001b[38;5;124;03m\"\"\"\u001b[39;00m\n\u001b[1;32m   1344\u001b[0m \u001b[38;5;124;03m    Apply the operator to the state. \u001b[39;00m\n\u001b[1;32m   1345\u001b[0m \u001b[38;5;124;03m    \u001b[39;00m\n\u001b[0;32m   (...)\u001b[0m\n\u001b[1;32m   1350\u001b[0m \u001b[38;5;124;03m                            If there are arguments, the operator acts on the state locally - local operator (e.g., site-dependent).\u001b[39;00m\n\u001b[1;32m   1351\u001b[0m \u001b[38;5;124;03m    \"\"\"\u001b[39;00m\n\u001b[0;32m-> 1352\u001b[0m     \u001b[38;5;28;01mreturn\u001b[39;00m \u001b[38;5;28mself\u001b[39m\u001b[38;5;241m.\u001b[39mapply(states, \u001b[38;5;241m*\u001b[39margs)\n",
      "File \u001b[0;32m~/Codes/QuantumEigenSolver/Python/QES/Algebra/Operator/operator.py:1331\u001b[0m, in \u001b[0;36mOperator.apply\u001b[0;34m(self, states, *args)\u001b[0m\n\u001b[1;32m   1321\u001b[0m \u001b[38;5;250m\u001b[39m\u001b[38;5;124;03m\"\"\"\u001b[39;00m\n\u001b[1;32m   1322\u001b[0m \u001b[38;5;124;03mApply the operator to the state. \u001b[39;00m\n\u001b[1;32m   1323\u001b[0m \u001b[38;5;124;03m\u001b[39;00m\n\u001b[0;32m   (...)\u001b[0m\n\u001b[1;32m   1328\u001b[0m \u001b[38;5;124;03m                        If there are arguments, the operator acts on the state locally - local operator (e.g., site-dependent).\u001b[39;00m\n\u001b[1;32m   1329\u001b[0m \u001b[38;5;124;03m\"\"\"\u001b[39;00m\n\u001b[1;32m   1330\u001b[0m \u001b[38;5;28;01mif\u001b[39;00m \u001b[38;5;28mself\u001b[39m\u001b[38;5;241m.\u001b[39m_type_acting\u001b[38;5;241m.\u001b[39mis_global():\n\u001b[0;32m-> 1331\u001b[0m     \u001b[38;5;28;01mreturn\u001b[39;00m \u001b[38;5;28mself\u001b[39m\u001b[38;5;241m.\u001b[39m_apply_global(states)\n\u001b[1;32m   1332\u001b[0m \u001b[38;5;28;01melif\u001b[39;00m \u001b[38;5;28mself\u001b[39m\u001b[38;5;241m.\u001b[39m_type_acting\u001b[38;5;241m.\u001b[39mis_local():\n\u001b[1;32m   1333\u001b[0m     \u001b[38;5;28;01mreturn\u001b[39;00m \u001b[38;5;28mself\u001b[39m\u001b[38;5;241m.\u001b[39m_apply_local(states, \u001b[38;5;241m*\u001b[39margs)\n",
      "File \u001b[0;32m~/Codes/QuantumEigenSolver/Python/QES/Algebra/Operator/operator.py:1266\u001b[0m, in \u001b[0;36mOperator._apply_global\u001b[0;34m(self, states)\u001b[0m\n\u001b[1;32m   1241\u001b[0m \u001b[38;5;250m\u001b[39m\u001b[38;5;124;03m\"\"\"\u001b[39;00m\n\u001b[1;32m   1242\u001b[0m \u001b[38;5;124;03mApplies a function to a given state or a collection of states.\u001b[39;00m\n\u001b[1;32m   1243\u001b[0m \n\u001b[0;32m   (...)\u001b[0m\n\u001b[1;32m   1262\u001b[0m \u001b[38;5;124;03m            - The second list contains the corresponding values.\u001b[39;00m\n\u001b[1;32m   1263\u001b[0m \u001b[38;5;124;03m\"\"\"\u001b[39;00m\n\u001b[1;32m   1264\u001b[0m \u001b[38;5;28;01mif\u001b[39;00m (\u001b[38;5;28mhasattr\u001b[39m(states, \u001b[38;5;124m'\u001b[39m\u001b[38;5;124mshape\u001b[39m\u001b[38;5;124m'\u001b[39m) \u001b[38;5;129;01mand\u001b[39;00m \u001b[38;5;28mlen\u001b[39m(states\u001b[38;5;241m.\u001b[39mshape) \u001b[38;5;241m==\u001b[39m \u001b[38;5;241m1\u001b[39m) \u001b[38;5;129;01mor\u001b[39;00m \u001b[38;5;28misinstance\u001b[39m(states, (\u001b[38;5;28mint\u001b[39m, np\u001b[38;5;241m.\u001b[39mint8, np\u001b[38;5;241m.\u001b[39mint16, np\u001b[38;5;241m.\u001b[39mint32, np\u001b[38;5;241m.\u001b[39mint64)):\n\u001b[1;32m   1265\u001b[0m     \u001b[38;5;66;03m# if the state is a single state, apply the function directly\u001b[39;00m\n\u001b[0;32m-> 1266\u001b[0m     st, val \u001b[38;5;241m=\u001b[39m \u001b[38;5;28mself\u001b[39m\u001b[38;5;241m.\u001b[39m_fun(states)\n\u001b[1;32m   1267\u001b[0m     \u001b[38;5;28;01mreturn\u001b[39;00m st, val \u001b[38;5;241m*\u001b[39m \u001b[38;5;28mself\u001b[39m\u001b[38;5;241m.\u001b[39m_eigval\n\u001b[1;32m   1269\u001b[0m \u001b[38;5;66;03m# if the state is a collection of states, apply the function to each state\u001b[39;00m\n",
      "File \u001b[0;32m~/Codes/QuantumEigenSolver/Python/QES/Algebra/Operator/operator.py:337\u001b[0m, in \u001b[0;36mOperatorFunction.__call__\u001b[0;34m(self, s, *args)\u001b[0m\n\u001b[1;32m    321\u001b[0m \u001b[38;5;28;01mdef\u001b[39;00m \u001b[38;5;21m__call__\u001b[39m(\u001b[38;5;28mself\u001b[39m, s: Union[\u001b[38;5;28mint\u001b[39m], \u001b[38;5;241m*\u001b[39margs) \u001b[38;5;241m-\u001b[39m\u001b[38;5;241m>\u001b[39m List[Tuple[Optional[Union[\u001b[38;5;28mint\u001b[39m]], Union[\u001b[38;5;28mfloat\u001b[39m, \u001b[38;5;28mcomplex\u001b[39m]]]:\n\u001b[1;32m    322\u001b[0m \u001b[38;5;250m    \u001b[39m\u001b[38;5;124;03m\"\"\"\u001b[39;00m\n\u001b[1;32m    323\u001b[0m \u001b[38;5;124;03m    Apply the operator function to a given state.\u001b[39;00m\n\u001b[1;32m    324\u001b[0m \n\u001b[0;32m   (...)\u001b[0m\n\u001b[1;32m    335\u001b[0m \u001b[38;5;124;03m                    or if the return type from the operator function is not recognized.\u001b[39;00m\n\u001b[1;32m    336\u001b[0m \u001b[38;5;124;03m    \"\"\"\u001b[39;00m\n\u001b[0;32m--> 337\u001b[0m     \u001b[38;5;28;01mreturn\u001b[39;00m \u001b[38;5;28mself\u001b[39m\u001b[38;5;241m.\u001b[39mapply(s, \u001b[38;5;241m*\u001b[39margs)\n",
      "File \u001b[0;32m~/Codes/QuantumEigenSolver/Python/QES/Algebra/Operator/operator.py:300\u001b[0m, in \u001b[0;36mOperatorFunction.apply\u001b[0;34m(self, s, *args)\u001b[0m\n\u001b[1;32m    298\u001b[0m \u001b[38;5;66;03m# apply the operator function based on the number of necessary arguments\u001b[39;00m\n\u001b[1;32m    299\u001b[0m \u001b[38;5;28;01mif\u001b[39;00m \u001b[38;5;28mself\u001b[39m\u001b[38;5;241m.\u001b[39m_necessary_args \u001b[38;5;241m==\u001b[39m \u001b[38;5;241m0\u001b[39m:\n\u001b[0;32m--> 300\u001b[0m     result \u001b[38;5;241m=\u001b[39m \u001b[38;5;28mself\u001b[39m\u001b[38;5;241m.\u001b[39m_apply_global(s)\n\u001b[1;32m    301\u001b[0m \u001b[38;5;28;01melif\u001b[39;00m \u001b[38;5;28mself\u001b[39m\u001b[38;5;241m.\u001b[39m_necessary_args \u001b[38;5;241m==\u001b[39m \u001b[38;5;241m1\u001b[39m:\n\u001b[1;32m    302\u001b[0m     result \u001b[38;5;241m=\u001b[39m \u001b[38;5;28mself\u001b[39m\u001b[38;5;241m.\u001b[39m_apply_local(s, args[\u001b[38;5;241m0\u001b[39m])\n",
      "File \u001b[0;32m~/Codes/QuantumEigenSolver/Python/QES/Algebra/Operator/operator.py:220\u001b[0m, in \u001b[0;36mOperatorFunction._apply_global\u001b[0;34m(self, s)\u001b[0m\n\u001b[1;32m    218\u001b[0m     \u001b[38;5;28;01mreturn\u001b[39;00m \u001b[38;5;28mself\u001b[39m\u001b[38;5;241m.\u001b[39m_fun_np(s)\n\u001b[1;32m    219\u001b[0m \u001b[38;5;66;03m# Fallback to the integer function\u001b[39;00m\n\u001b[0;32m--> 220\u001b[0m \u001b[38;5;28;01mreturn\u001b[39;00m \u001b[38;5;28mself\u001b[39m\u001b[38;5;241m.\u001b[39m_fun_int(s)\n",
      "File \u001b[0;32m~/Codes/QuantumEigenSolver/Python/QES/Algebra/Operator/operator.py:485\u001b[0m, in \u001b[0;36mOperatorFunction.__mul__.<locals>.mul_int\u001b[0;34m(s, *args)\u001b[0m\n\u001b[1;32m    482\u001b[0m \u001b[38;5;66;03m# Loop over each intermediate state.\u001b[39;00m\n\u001b[1;32m    483\u001b[0m \u001b[38;5;28;01mfor\u001b[39;00m i \u001b[38;5;129;01min\u001b[39;00m \u001b[38;5;28mrange\u001b[39m(n):\n\u001b[1;32m    484\u001b[0m     \u001b[38;5;66;03m# Apply self to each intermediate state.\u001b[39;00m\n\u001b[0;32m--> 485\u001b[0m     s_self, v_self \u001b[38;5;241m=\u001b[39m \u001b[38;5;28mself\u001b[39m\u001b[38;5;241m.\u001b[39m_fun_int(s_g[i], \u001b[38;5;241m*\u001b[39margs)\n\u001b[1;32m    486\u001b[0m     s_self, v_self \u001b[38;5;241m=\u001b[39m OperatorFunction\u001b[38;5;241m.\u001b[39m_normalize_result_np(s_self, v_self)\n\u001b[1;32m    487\u001b[0m     \u001b[38;5;28;01mif\u001b[39;00m \u001b[38;5;28mself\u001b[39m\u001b[38;5;241m.\u001b[39m_modifies_state:\n\u001b[1;32m    488\u001b[0m         \u001b[38;5;66;03m# Expect a single pair from self.\u001b[39;00m\n",
      "File \u001b[0;32m~/Codes/QuantumEigenSolver/Python/QES/Algebra/Operator/operator.py:1598\u001b[0m, in \u001b[0;36mcreate_operator.<locals>.fun_int\u001b[0;34m(state)\u001b[0m\n\u001b[1;32m   1597\u001b[0m \u001b[38;5;28;01mdef\u001b[39;00m \u001b[38;5;21mfun_int\u001b[39m(state):\n\u001b[0;32m-> 1598\u001b[0m     \u001b[38;5;28;01mreturn\u001b[39;00m op_func_int(state, ns, sites, \u001b[38;5;241m*\u001b[39mextra_args)\n",
      "File \u001b[0;32m~/Codes/QuantumEigenSolver/Python/QES/Algebra/Operator/operators_spin.py:382\u001b[0m, in \u001b[0;36msigma_z_int\u001b[0;34m(state, ns, sites, spin_value)\u001b[0m\n\u001b[1;32m    376\u001b[0m \u001b[38;5;250m\u001b[39m\u001b[38;5;124;03m\"\"\"\u001b[39;00m\n\u001b[1;32m    377\u001b[0m \u001b[38;5;124;03mσ_z on an integer state.\u001b[39;00m\n\u001b[1;32m    378\u001b[0m \u001b[38;5;124;03mFor each site, if the bit at (ns-1-site) is set then multiply by spin_value; else by -spin_value.\u001b[39;00m\n\u001b[1;32m    379\u001b[0m \u001b[38;5;124;03mThe state is unchanged.\u001b[39;00m\n\u001b[1;32m    380\u001b[0m \u001b[38;5;124;03m\"\"\"\u001b[39;00m\n\u001b[1;32m    381\u001b[0m \u001b[38;5;28;01mif\u001b[39;00m \u001b[38;5;129;01mnot\u001b[39;00m \u001b[38;5;28misinstance\u001b[39m(state, (\u001b[38;5;28mint\u001b[39m, np\u001b[38;5;241m.\u001b[39minteger)):\n\u001b[0;32m--> 382\u001b[0m     \u001b[38;5;28;01mreturn\u001b[39;00m sigma_z_int_jnp(state, ns, sites, spin_value)\n\u001b[1;32m    383\u001b[0m \u001b[38;5;28;01mreturn\u001b[39;00m sigma_z_int_np(state, ns, sites, spin_value)\n",
      "    \u001b[0;31m[... skipping hidden 11 frame]\u001b[0m\n",
      "File \u001b[0;32m~/Codes/QuantumEigenSolver/Python/QES/Algebra/Operator/operators_spin_jax.py:250\u001b[0m, in \u001b[0;36msigma_z_int_jnp\u001b[0;34m(state, ns, sites, spin_value)\u001b[0m\n\u001b[1;32m    247\u001b[0m     \u001b[38;5;28;01mreturn\u001b[39;00m coeff \u001b[38;5;241m*\u001b[39m factor\n\u001b[1;32m    249\u001b[0m \u001b[38;5;66;03m# Use lax.fori_loop to accumulate the coefficient over all sites.\u001b[39;00m\n\u001b[0;32m--> 250\u001b[0m coeff \u001b[38;5;241m=\u001b[39m lax\u001b[38;5;241m.\u001b[39mfori_loop(\u001b[38;5;241m0\u001b[39m, \u001b[38;5;28mlen\u001b[39m(sites), body, \u001b[38;5;241m1.0\u001b[39m)\n\u001b[1;32m    251\u001b[0m \u001b[38;5;28;01mreturn\u001b[39;00m state, coeff\n",
      "    \u001b[0;31m[... skipping hidden 12 frame]\u001b[0m\n",
      "File \u001b[0;32m~/Codes/QuantumEigenSolver/Python/QES/Algebra/Operator/operators_spin_jax.py:242\u001b[0m, in \u001b[0;36msigma_z_int_jnp.<locals>.body\u001b[0;34m(i, coeff)\u001b[0m\n\u001b[1;32m    240\u001b[0m condition   \u001b[38;5;241m=\u001b[39m (state \u001b[38;5;241m&\u001b[39m bitmask) \u001b[38;5;241m>\u001b[39m \u001b[38;5;241m0\u001b[39m\n\u001b[1;32m    241\u001b[0m \u001b[38;5;66;03m# Use lax.cond to choose the factor:\u001b[39;00m\n\u001b[0;32m--> 242\u001b[0m factor      \u001b[38;5;241m=\u001b[39m lax\u001b[38;5;241m.\u001b[39mcond(condition,\n\u001b[1;32m    243\u001b[0m                     \u001b[38;5;28;01mlambda\u001b[39;00m _: spin_value,\n\u001b[1;32m    244\u001b[0m                     \u001b[38;5;28;01mlambda\u001b[39;00m _: \u001b[38;5;241m-\u001b[39mspin_value,\n\u001b[1;32m    245\u001b[0m                     operand\u001b[38;5;241m=\u001b[39m\u001b[38;5;28;01mNone\u001b[39;00m)\n\u001b[1;32m    246\u001b[0m \u001b[38;5;66;03m# Multiply the accumulator with the factor.\u001b[39;00m\n\u001b[1;32m    247\u001b[0m \u001b[38;5;28;01mreturn\u001b[39;00m coeff \u001b[38;5;241m*\u001b[39m factor\n",
      "    \u001b[0;31m[... skipping hidden 2 frame]\u001b[0m\n",
      "File \u001b[0;32m~/libraries/anaconda3/lib/python3.11/site-packages/jax/_src/lax/control_flow/conditionals.py:195\u001b[0m, in \u001b[0;36m_cond\u001b[0;34m(***failed resolving arguments***)\u001b[0m\n\u001b[1;32m    193\u001b[0m   \u001b[38;5;28;01mraise\u001b[39;00m \u001b[38;5;167;01mTypeError\u001b[39;00m(\u001b[38;5;124m\"\u001b[39m\u001b[38;5;124mcond predicate is None\u001b[39m\u001b[38;5;124m\"\u001b[39m)\n\u001b[1;32m    194\u001b[0m \u001b[38;5;28;01mif\u001b[39;00m \u001b[38;5;28misinstance\u001b[39m(pred, Sequence) \u001b[38;5;129;01mor\u001b[39;00m np\u001b[38;5;241m.\u001b[39mndim(pred) \u001b[38;5;241m!=\u001b[39m \u001b[38;5;241m0\u001b[39m:\n\u001b[0;32m--> 195\u001b[0m   \u001b[38;5;28;01mraise\u001b[39;00m \u001b[38;5;167;01mTypeError\u001b[39;00m(\n\u001b[1;32m    196\u001b[0m       \u001b[38;5;124mf\u001b[39m\u001b[38;5;124m\"\u001b[39m\u001b[38;5;124mPred must be a scalar, got \u001b[39m\u001b[38;5;132;01m{\u001b[39;00mpred\u001b[38;5;132;01m}\u001b[39;00m\u001b[38;5;124m of \u001b[39m\u001b[38;5;124m\"\u001b[39m \u001b[38;5;241m+\u001b[39m\n\u001b[1;32m    197\u001b[0m       (\u001b[38;5;124mf\u001b[39m\u001b[38;5;124m\"\u001b[39m\u001b[38;5;124mtype \u001b[39m\u001b[38;5;132;01m{\u001b[39;00m\u001b[38;5;28mtype\u001b[39m(pred)\u001b[38;5;132;01m}\u001b[39;00m\u001b[38;5;124m\"\u001b[39m \u001b[38;5;28;01mif\u001b[39;00m \u001b[38;5;28misinstance\u001b[39m(pred, Sequence)\n\u001b[1;32m    198\u001b[0m        \u001b[38;5;28;01melse\u001b[39;00m \u001b[38;5;124mf\u001b[39m\u001b[38;5;124m\"\u001b[39m\u001b[38;5;124mshape \u001b[39m\u001b[38;5;132;01m{\u001b[39;00mnp\u001b[38;5;241m.\u001b[39mshape(pred)\u001b[38;5;132;01m}\u001b[39;00m\u001b[38;5;124m.\u001b[39m\u001b[38;5;124m\"\u001b[39m))\n\u001b[1;32m    200\u001b[0m \u001b[38;5;28;01mtry\u001b[39;00m:\n\u001b[1;32m    201\u001b[0m   pred_dtype \u001b[38;5;241m=\u001b[39m dtypes\u001b[38;5;241m.\u001b[39mresult_type(pred)\n",
      "\u001b[0;31mTypeError\u001b[0m: Pred must be a scalar, got Traced<ShapedArray(bool[1])>with<DynamicJaxprTrace(level=1/1)> of shape (1,)."
     ]
    }
   ],
   "source": [
    "# %timeit -r 5 -n 20 sig_z_sig_z(int_state)\n",
    "sig_z_sig_z(int_state)"
   ]
  },
  {
   "cell_type": "markdown",
   "metadata": {},
   "source": [
    "##### $H |\\psi ^{\\rm int} \\rangle $"
   ]
  },
  {
   "cell_type": "code",
   "execution_count": 2,
   "metadata": {},
   "outputs": [
    {
     "name": "stdout",
     "output_type": "stream",
     "text": [
      "The slowest run took 123.21 times longer than the fastest. This could mean that an intermediate result is being cached.\n",
      "13 ms ± 25 ms per loop (mean ± std. dev. of 5 runs, 20 loops each)\n"
     ]
    }
   ],
   "source": [
    "%%timeit -r 5 -n 20\n",
    "for i in range(lat.ns):\n",
    "    ham.loc_energy(k = int_state, i = i)"
   ]
  },
  {
   "cell_type": "code",
   "execution_count": 4,
   "metadata": {},
   "outputs": [
    {
     "name": "stdout",
     "output_type": "stream",
     "text": [
      "(array([ 66, 226]), array([0.25 , 0.125]))\n",
      "(array([], dtype=float64), array([], dtype=float64))\n",
      "(array([], dtype=float64), array([], dtype=float64))\n",
      "(array([], dtype=float64), array([], dtype=float64))\n",
      "(array([234, 226]), array([-2.5,  0. ]))\n",
      "(array([], dtype=float64), array([], dtype=float64))\n",
      "(array([], dtype=float64), array([], dtype=float64))\n",
      "(array([], dtype=float64), array([], dtype=float64))\n"
     ]
    }
   ],
   "source": [
    "for i in range(lat.ns):\n",
    "    print(ham.loc_energy(k = int_state, i = i))"
   ]
  },
  {
   "cell_type": "markdown",
   "metadata": {},
   "source": [
    "### Numpy states"
   ]
  },
  {
   "cell_type": "markdown",
   "metadata": {},
   "source": [
    "##### $\\sigma _x^0 \\sigma_x^2 |\\psi ^{\\rm np}\\rangle$"
   ]
  },
  {
   "cell_type": "code",
   "execution_count": 9,
   "metadata": {},
   "outputs": [
    {
     "data": {
      "application/vnd.microsoft.datawrangler.viewer.v0+json": {
       "columns": [
        {
         "name": "index",
         "rawType": "int64",
         "type": "integer"
        },
        {
         "name": "Test Expression",
         "rawType": "object",
         "type": "string"
        },
        {
         "name": "Initial State",
         "rawType": "object",
         "type": "string"
        },
        {
         "name": "Operator",
         "rawType": "object",
         "type": "string"
        },
        {
         "name": "Result",
         "rawType": "object",
         "type": "string"
        },
        {
         "name": "Time Measurement",
         "rawType": "object",
         "type": "string"
        }
       ],
       "conversionMethod": "pd.DataFrame",
       "ref": "8d8804ca-692c-429c-9074-09b4932a1cb8",
       "rows": [
        [
         "0",
         "op(state)",
         "[1. 1. 1. 1. 1. 1. 1. 1.]",
         "Sx/0-2",
         "[-1.  1. -1.  1.  1.  1.  1.  1.] with 0.25",
         "The slowest run took 16876.83 times longer than the fastest. This could mean that an intermediate result is being cached.\n9.99 ms +- 20 ms per loop (mean +- std. dev. of 5 runs, 5 loops each)"
        ],
        [
         "1",
         "op[state]",
         "[1. 1. 1. 1. 1. 1. 1. 1.]",
         "Sx/0-2",
         "[-1.  1. -1.  1.  1.  1.  1.  1.]",
         "3.24 us +- 875 ns per loop (mean +- std. dev. of 5 runs, 5 loops each)"
        ],
        [
         "2",
         "op[op[state]]",
         "[1. 1. 1. 1. 1. 1. 1. 1.]",
         "Sx/0-2",
         "[1. 1. 1. 1. 1. 1. 1. 1.]",
         "5.49 us +- 792 ns per loop (mean +- std. dev. of 5 runs, 5 loops each)"
        ],
        [
         "3",
         "op % state",
         "[1. 1. 1. 1. 1. 1. 1. 1.]",
         "Sx/0-2",
         "0.25",
         "2.89 us +- 592 ns per loop (mean +- std. dev. of 5 runs, 5 loops each)"
        ]
       ],
       "shape": {
        "columns": 5,
        "rows": 4
       }
      },
      "text/html": [
       "<div>\n",
       "<style scoped>\n",
       "    .dataframe tbody tr th:only-of-type {\n",
       "        vertical-align: middle;\n",
       "    }\n",
       "\n",
       "    .dataframe tbody tr th {\n",
       "        vertical-align: top;\n",
       "    }\n",
       "\n",
       "    .dataframe thead th {\n",
       "        text-align: right;\n",
       "    }\n",
       "</style>\n",
       "<table border=\"1\" class=\"dataframe\">\n",
       "  <thead>\n",
       "    <tr style=\"text-align: right;\">\n",
       "      <th></th>\n",
       "      <th>Test Expression</th>\n",
       "      <th>Initial State</th>\n",
       "      <th>Operator</th>\n",
       "      <th>Result</th>\n",
       "      <th>Time Measurement</th>\n",
       "    </tr>\n",
       "  </thead>\n",
       "  <tbody>\n",
       "    <tr>\n",
       "      <th>0</th>\n",
       "      <td>op(state)</td>\n",
       "      <td>[1. 1. 1. 1. 1. 1. 1. 1.]</td>\n",
       "      <td>Sx/0-2</td>\n",
       "      <td>[-1.  1. -1.  1.  1.  1.  1.  1.] with 0.25</td>\n",
       "      <td>The slowest run took 16876.83 times longer tha...</td>\n",
       "    </tr>\n",
       "    <tr>\n",
       "      <th>1</th>\n",
       "      <td>op[state]</td>\n",
       "      <td>[1. 1. 1. 1. 1. 1. 1. 1.]</td>\n",
       "      <td>Sx/0-2</td>\n",
       "      <td>[-1.  1. -1.  1.  1.  1.  1.  1.]</td>\n",
       "      <td>3.24 us +- 875 ns per loop (mean +- std. dev. ...</td>\n",
       "    </tr>\n",
       "    <tr>\n",
       "      <th>2</th>\n",
       "      <td>op[op[state]]</td>\n",
       "      <td>[1. 1. 1. 1. 1. 1. 1. 1.]</td>\n",
       "      <td>Sx/0-2</td>\n",
       "      <td>[1. 1. 1. 1. 1. 1. 1. 1.]</td>\n",
       "      <td>5.49 us +- 792 ns per loop (mean +- std. dev. ...</td>\n",
       "    </tr>\n",
       "    <tr>\n",
       "      <th>3</th>\n",
       "      <td>op % state</td>\n",
       "      <td>[1. 1. 1. 1. 1. 1. 1. 1.]</td>\n",
       "      <td>Sx/0-2</td>\n",
       "      <td>0.25</td>\n",
       "      <td>2.89 us +- 592 ns per loop (mean +- std. dev. ...</td>\n",
       "    </tr>\n",
       "  </tbody>\n",
       "</table>\n",
       "</div>"
      ],
      "text/plain": [
       "  Test Expression              Initial State Operator  \\\n",
       "0       op(state)  [1. 1. 1. 1. 1. 1. 1. 1.]   Sx/0-2   \n",
       "1       op[state]  [1. 1. 1. 1. 1. 1. 1. 1.]   Sx/0-2   \n",
       "2   op[op[state]]  [1. 1. 1. 1. 1. 1. 1. 1.]   Sx/0-2   \n",
       "3      op % state  [1. 1. 1. 1. 1. 1. 1. 1.]   Sx/0-2   \n",
       "\n",
       "                                        Result  \\\n",
       "0  [-1.  1. -1.  1.  1.  1.  1.  1.] with 0.25   \n",
       "1            [-1.  1. -1.  1.  1.  1.  1.  1.]   \n",
       "2                    [1. 1. 1. 1. 1. 1. 1. 1.]   \n",
       "3                                         0.25   \n",
       "\n",
       "                                    Time Measurement  \n",
       "0  The slowest run took 16876.83 times longer tha...  \n",
       "1  3.24 us +- 875 ns per loop (mean +- std. dev. ...  \n",
       "2  5.49 us +- 792 ns per loop (mean +- std. dev. ...  \n",
       "3  2.89 us +- 592 ns per loop (mean +- std. dev. ...  "
      ]
     },
     "metadata": {},
     "output_type": "display_data"
    }
   ],
   "source": [
    "out = test_operators(sig_x, np_state, ns = lat.ns, output_format='tabs')"
   ]
  },
  {
   "cell_type": "markdown",
   "metadata": {},
   "source": [
    "##### $\\sigma _z^0 \\sigma_z^2 |\\psi ^{\\rm np}\\rangle$"
   ]
  },
  {
   "cell_type": "code",
   "execution_count": 10,
   "metadata": {},
   "outputs": [
    {
     "data": {
      "application/vnd.microsoft.datawrangler.viewer.v0+json": {
       "columns": [
        {
         "name": "index",
         "rawType": "int64",
         "type": "integer"
        },
        {
         "name": "Test Expression",
         "rawType": "object",
         "type": "string"
        },
        {
         "name": "Initial State",
         "rawType": "object",
         "type": "string"
        },
        {
         "name": "Operator",
         "rawType": "object",
         "type": "string"
        },
        {
         "name": "Result",
         "rawType": "object",
         "type": "string"
        },
        {
         "name": "Time Measurement",
         "rawType": "object",
         "type": "string"
        }
       ],
       "conversionMethod": "pd.DataFrame",
       "ref": "a5a98f1c-539f-4049-ac4a-7e08320415ac",
       "rows": [
        [
         "0",
         "op(state)",
         "[1. 1. 1. 1. 1. 1. 1. 1.]",
         "Sz/0-2",
         "[1. 1. 1. 1. 1. 1. 1. 1.] with 0.25",
         "The slowest run took 15923.14 times longer than the fastest. This could mean that an intermediate result is being cached.\n7.11 ms +- 14.2 ms per loop (mean +- std. dev. of 5 runs, 5 loops each)"
        ],
        [
         "1",
         "op[state]",
         "[1. 1. 1. 1. 1. 1. 1. 1.]",
         "Sz/0-2",
         "[1. 1. 1. 1. 1. 1. 1. 1.]",
         "2.49 us +- 643 ns per loop (mean +- std. dev. of 5 runs, 5 loops each)"
        ],
        [
         "2",
         "op[op[state]]",
         "[1. 1. 1. 1. 1. 1. 1. 1.]",
         "Sz/0-2",
         "[1. 1. 1. 1. 1. 1. 1. 1.]",
         "4.35 us +- 696 ns per loop (mean +- std. dev. of 5 runs, 5 loops each)"
        ],
        [
         "3",
         "op % state",
         "[1. 1. 1. 1. 1. 1. 1. 1.]",
         "Sz/0-2",
         "0.25",
         "2.24 us +- 461 ns per loop (mean +- std. dev. of 5 runs, 5 loops each)"
        ]
       ],
       "shape": {
        "columns": 5,
        "rows": 4
       }
      },
      "text/html": [
       "<div>\n",
       "<style scoped>\n",
       "    .dataframe tbody tr th:only-of-type {\n",
       "        vertical-align: middle;\n",
       "    }\n",
       "\n",
       "    .dataframe tbody tr th {\n",
       "        vertical-align: top;\n",
       "    }\n",
       "\n",
       "    .dataframe thead th {\n",
       "        text-align: right;\n",
       "    }\n",
       "</style>\n",
       "<table border=\"1\" class=\"dataframe\">\n",
       "  <thead>\n",
       "    <tr style=\"text-align: right;\">\n",
       "      <th></th>\n",
       "      <th>Test Expression</th>\n",
       "      <th>Initial State</th>\n",
       "      <th>Operator</th>\n",
       "      <th>Result</th>\n",
       "      <th>Time Measurement</th>\n",
       "    </tr>\n",
       "  </thead>\n",
       "  <tbody>\n",
       "    <tr>\n",
       "      <th>0</th>\n",
       "      <td>op(state)</td>\n",
       "      <td>[1. 1. 1. 1. 1. 1. 1. 1.]</td>\n",
       "      <td>Sz/0-2</td>\n",
       "      <td>[1. 1. 1. 1. 1. 1. 1. 1.] with 0.25</td>\n",
       "      <td>The slowest run took 15923.14 times longer tha...</td>\n",
       "    </tr>\n",
       "    <tr>\n",
       "      <th>1</th>\n",
       "      <td>op[state]</td>\n",
       "      <td>[1. 1. 1. 1. 1. 1. 1. 1.]</td>\n",
       "      <td>Sz/0-2</td>\n",
       "      <td>[1. 1. 1. 1. 1. 1. 1. 1.]</td>\n",
       "      <td>2.49 us +- 643 ns per loop (mean +- std. dev. ...</td>\n",
       "    </tr>\n",
       "    <tr>\n",
       "      <th>2</th>\n",
       "      <td>op[op[state]]</td>\n",
       "      <td>[1. 1. 1. 1. 1. 1. 1. 1.]</td>\n",
       "      <td>Sz/0-2</td>\n",
       "      <td>[1. 1. 1. 1. 1. 1. 1. 1.]</td>\n",
       "      <td>4.35 us +- 696 ns per loop (mean +- std. dev. ...</td>\n",
       "    </tr>\n",
       "    <tr>\n",
       "      <th>3</th>\n",
       "      <td>op % state</td>\n",
       "      <td>[1. 1. 1. 1. 1. 1. 1. 1.]</td>\n",
       "      <td>Sz/0-2</td>\n",
       "      <td>0.25</td>\n",
       "      <td>2.24 us +- 461 ns per loop (mean +- std. dev. ...</td>\n",
       "    </tr>\n",
       "  </tbody>\n",
       "</table>\n",
       "</div>"
      ],
      "text/plain": [
       "  Test Expression              Initial State Operator  \\\n",
       "0       op(state)  [1. 1. 1. 1. 1. 1. 1. 1.]   Sz/0-2   \n",
       "1       op[state]  [1. 1. 1. 1. 1. 1. 1. 1.]   Sz/0-2   \n",
       "2   op[op[state]]  [1. 1. 1. 1. 1. 1. 1. 1.]   Sz/0-2   \n",
       "3      op % state  [1. 1. 1. 1. 1. 1. 1. 1.]   Sz/0-2   \n",
       "\n",
       "                                Result  \\\n",
       "0  [1. 1. 1. 1. 1. 1. 1. 1.] with 0.25   \n",
       "1            [1. 1. 1. 1. 1. 1. 1. 1.]   \n",
       "2            [1. 1. 1. 1. 1. 1. 1. 1.]   \n",
       "3                                 0.25   \n",
       "\n",
       "                                    Time Measurement  \n",
       "0  The slowest run took 15923.14 times longer tha...  \n",
       "1  2.49 us +- 643 ns per loop (mean +- std. dev. ...  \n",
       "2  4.35 us +- 696 ns per loop (mean +- std. dev. ...  \n",
       "3  2.24 us +- 461 ns per loop (mean +- std. dev. ...  "
      ]
     },
     "metadata": {},
     "output_type": "display_data"
    }
   ],
   "source": [
    "out = test_operators(sig_z, np_state, ns = lat.ns, output_format='tabs')"
   ]
  },
  {
   "cell_type": "markdown",
   "metadata": {},
   "source": [
    "##### $2 * \\sigma _x^0 \\sigma_x^2 |\\psi ^{\\rm np}\\rangle$"
   ]
  },
  {
   "cell_type": "code",
   "execution_count": 11,
   "metadata": {},
   "outputs": [
    {
     "data": {
      "application/vnd.microsoft.datawrangler.viewer.v0+json": {
       "columns": [
        {
         "name": "index",
         "rawType": "int64",
         "type": "integer"
        },
        {
         "name": "Test Expression",
         "rawType": "object",
         "type": "string"
        },
        {
         "name": "Initial State",
         "rawType": "object",
         "type": "string"
        },
        {
         "name": "Operator",
         "rawType": "object",
         "type": "string"
        },
        {
         "name": "Result",
         "rawType": "object",
         "type": "string"
        },
        {
         "name": "Time Measurement",
         "rawType": "object",
         "type": "string"
        }
       ],
       "conversionMethod": "pd.DataFrame",
       "ref": "b6824c22-768b-4435-8925-07cb81edf674",
       "rows": [
        [
         "0",
         "op(state)",
         "[1. 1. 1. 1. 1. 1. 1. 1.]",
         "Sx/0-2 * 2",
         "[-1.  1. -1.  1.  1.  1.  1.  1.] with 0.5",
         "4.14 us +- 2.96 us per loop (mean +- std. dev. of 5 runs, 5 loops each)"
        ],
        [
         "1",
         "op[state]",
         "[1. 1. 1. 1. 1. 1. 1. 1.]",
         "Sx/0-2 * 2",
         "[-1.  1. -1.  1.  1.  1.  1.  1.]",
         "3.06 us +- 861 ns per loop (mean +- std. dev. of 5 runs, 5 loops each)"
        ],
        [
         "2",
         "op[op[state]]",
         "[1. 1. 1. 1. 1. 1. 1. 1.]",
         "Sx/0-2 * 2",
         "[1. 1. 1. 1. 1. 1. 1. 1.]",
         "7.82 us +- 3.44 us per loop (mean +- std. dev. of 5 runs, 5 loops each)"
        ],
        [
         "3",
         "op % state",
         "[1. 1. 1. 1. 1. 1. 1. 1.]",
         "Sx/0-2 * 2",
         "0.5",
         "3.16 us +- 1.55 us per loop (mean +- std. dev. of 5 runs, 5 loops each)"
        ]
       ],
       "shape": {
        "columns": 5,
        "rows": 4
       }
      },
      "text/html": [
       "<div>\n",
       "<style scoped>\n",
       "    .dataframe tbody tr th:only-of-type {\n",
       "        vertical-align: middle;\n",
       "    }\n",
       "\n",
       "    .dataframe tbody tr th {\n",
       "        vertical-align: top;\n",
       "    }\n",
       "\n",
       "    .dataframe thead th {\n",
       "        text-align: right;\n",
       "    }\n",
       "</style>\n",
       "<table border=\"1\" class=\"dataframe\">\n",
       "  <thead>\n",
       "    <tr style=\"text-align: right;\">\n",
       "      <th></th>\n",
       "      <th>Test Expression</th>\n",
       "      <th>Initial State</th>\n",
       "      <th>Operator</th>\n",
       "      <th>Result</th>\n",
       "      <th>Time Measurement</th>\n",
       "    </tr>\n",
       "  </thead>\n",
       "  <tbody>\n",
       "    <tr>\n",
       "      <th>0</th>\n",
       "      <td>op(state)</td>\n",
       "      <td>[1. 1. 1. 1. 1. 1. 1. 1.]</td>\n",
       "      <td>Sx/0-2 * 2</td>\n",
       "      <td>[-1.  1. -1.  1.  1.  1.  1.  1.] with 0.5</td>\n",
       "      <td>4.14 us +- 2.96 us per loop (mean +- std. dev....</td>\n",
       "    </tr>\n",
       "    <tr>\n",
       "      <th>1</th>\n",
       "      <td>op[state]</td>\n",
       "      <td>[1. 1. 1. 1. 1. 1. 1. 1.]</td>\n",
       "      <td>Sx/0-2 * 2</td>\n",
       "      <td>[-1.  1. -1.  1.  1.  1.  1.  1.]</td>\n",
       "      <td>3.06 us +- 861 ns per loop (mean +- std. dev. ...</td>\n",
       "    </tr>\n",
       "    <tr>\n",
       "      <th>2</th>\n",
       "      <td>op[op[state]]</td>\n",
       "      <td>[1. 1. 1. 1. 1. 1. 1. 1.]</td>\n",
       "      <td>Sx/0-2 * 2</td>\n",
       "      <td>[1. 1. 1. 1. 1. 1. 1. 1.]</td>\n",
       "      <td>7.82 us +- 3.44 us per loop (mean +- std. dev....</td>\n",
       "    </tr>\n",
       "    <tr>\n",
       "      <th>3</th>\n",
       "      <td>op % state</td>\n",
       "      <td>[1. 1. 1. 1. 1. 1. 1. 1.]</td>\n",
       "      <td>Sx/0-2 * 2</td>\n",
       "      <td>0.5</td>\n",
       "      <td>3.16 us +- 1.55 us per loop (mean +- std. dev....</td>\n",
       "    </tr>\n",
       "  </tbody>\n",
       "</table>\n",
       "</div>"
      ],
      "text/plain": [
       "  Test Expression              Initial State    Operator  \\\n",
       "0       op(state)  [1. 1. 1. 1. 1. 1. 1. 1.]  Sx/0-2 * 2   \n",
       "1       op[state]  [1. 1. 1. 1. 1. 1. 1. 1.]  Sx/0-2 * 2   \n",
       "2   op[op[state]]  [1. 1. 1. 1. 1. 1. 1. 1.]  Sx/0-2 * 2   \n",
       "3      op % state  [1. 1. 1. 1. 1. 1. 1. 1.]  Sx/0-2 * 2   \n",
       "\n",
       "                                       Result  \\\n",
       "0  [-1.  1. -1.  1.  1.  1.  1.  1.] with 0.5   \n",
       "1           [-1.  1. -1.  1.  1.  1.  1.  1.]   \n",
       "2                   [1. 1. 1. 1. 1. 1. 1. 1.]   \n",
       "3                                         0.5   \n",
       "\n",
       "                                    Time Measurement  \n",
       "0  4.14 us +- 2.96 us per loop (mean +- std. dev....  \n",
       "1  3.06 us +- 861 ns per loop (mean +- std. dev. ...  \n",
       "2  7.82 us +- 3.44 us per loop (mean +- std. dev....  \n",
       "3  3.16 us +- 1.55 us per loop (mean +- std. dev....  "
      ]
     },
     "metadata": {},
     "output_type": "display_data"
    }
   ],
   "source": [
    "out = test_operators(sig_x_2, np_state, ns = lat.ns, output_format='tabs')"
   ]
  },
  {
   "cell_type": "markdown",
   "metadata": {},
   "source": [
    "##### $H |\\psi ^{\\rm np} \\rangle $"
   ]
  },
  {
   "cell_type": "code",
   "execution_count": 11,
   "metadata": {},
   "outputs": [
    {
     "name": "stdout",
     "output_type": "stream",
     "text": [
      "The slowest run took 4.38 times longer than the fastest. This could mean that an intermediate result is being cached.\n",
      "172 μs ± 91 μs per loop (mean ± std. dev. of 5 runs, 5 loops each)\n"
     ]
    },
    {
     "data": {
      "text/plain": [
       "(array([[ 1.,  1.,  1., -1.,  1., -1., -1.,  1.],\n",
       "        [ 1.,  1.,  1., -1., -1., -1., -1.,  1.],\n",
       "        [-1.,  1., -1., -1.,  1., -1., -1.,  1.]]),\n",
       " array([ 2.625, -2.5  ,  0.25 ]))"
      ]
     },
     "execution_count": 11,
     "metadata": {},
     "output_type": "execute_result"
    }
   ],
   "source": [
    "%timeit -r 5 -n 5 ham.loc_energy(k = np_state)\n",
    "ham.loc_energy(k = np_state)"
   ]
  },
  {
   "cell_type": "markdown",
   "metadata": {},
   "source": [
    "### JAX states"
   ]
  },
  {
   "cell_type": "markdown",
   "metadata": {},
   "source": [
    "##### $\\sigma _x^0 \\sigma_x^2 |\\psi ^{\\rm jax}\\rangle$"
   ]
  },
  {
   "cell_type": "code",
   "execution_count": 19,
   "metadata": {},
   "outputs": [
    {
     "data": {
      "application/vnd.microsoft.datawrangler.viewer.v0+json": {
       "columns": [
        {
         "name": "index",
         "rawType": "int64",
         "type": "integer"
        },
        {
         "name": "Test Expression",
         "rawType": "object",
         "type": "string"
        },
        {
         "name": "Initial State",
         "rawType": "object",
         "type": "string"
        },
        {
         "name": "Operator",
         "rawType": "object",
         "type": "string"
        },
        {
         "name": "Result",
         "rawType": "object",
         "type": "string"
        },
        {
         "name": "Time Measurement",
         "rawType": "object",
         "type": "string"
        }
       ],
       "conversionMethod": "pd.DataFrame",
       "ref": "bf3481ed-7b68-4b81-a280-d9645bdc2c83",
       "rows": [
        [
         "0",
         "op(state)",
         "[1. 1. 1. 1. 1. 1. 1. 1.]",
         "Sx/0-2",
         "[-1.  1. -1.  1.  1.  1.  1.  1.] with 0.25",
         "The slowest run took 1093.45 times longer than the fastest. This could mean that an intermediate result is being cached.\n5.6 ms +- 11.1 ms per loop (mean +- std. dev. of 5 runs, 5 loops each)"
        ],
        [
         "1",
         "op[state]",
         "[1. 1. 1. 1. 1. 1. 1. 1.]",
         "Sx/0-2",
         "[-1.  1. -1.  1.  1.  1.  1.  1.]",
         "25.2 us +- 3.37 us per loop (mean +- std. dev. of 5 runs, 5 loops each)"
        ],
        [
         "2",
         "op[op[state]]",
         "[1. 1. 1. 1. 1. 1. 1. 1.]",
         "Sx/0-2",
         "[1. 1. 1. 1. 1. 1. 1. 1.]",
         "50.8 us +- 7.69 us per loop (mean +- std. dev. of 5 runs, 5 loops each)"
        ],
        [
         "3",
         "op % state",
         "[1. 1. 1. 1. 1. 1. 1. 1.]",
         "Sx/0-2",
         "0.25",
         "24.1 us +- 1.9 us per loop (mean +- std. dev. of 5 runs, 5 loops each)"
        ]
       ],
       "shape": {
        "columns": 5,
        "rows": 4
       }
      },
      "text/html": [
       "<div>\n",
       "<style scoped>\n",
       "    .dataframe tbody tr th:only-of-type {\n",
       "        vertical-align: middle;\n",
       "    }\n",
       "\n",
       "    .dataframe tbody tr th {\n",
       "        vertical-align: top;\n",
       "    }\n",
       "\n",
       "    .dataframe thead th {\n",
       "        text-align: right;\n",
       "    }\n",
       "</style>\n",
       "<table border=\"1\" class=\"dataframe\">\n",
       "  <thead>\n",
       "    <tr style=\"text-align: right;\">\n",
       "      <th></th>\n",
       "      <th>Test Expression</th>\n",
       "      <th>Initial State</th>\n",
       "      <th>Operator</th>\n",
       "      <th>Result</th>\n",
       "      <th>Time Measurement</th>\n",
       "    </tr>\n",
       "  </thead>\n",
       "  <tbody>\n",
       "    <tr>\n",
       "      <th>0</th>\n",
       "      <td>op(state)</td>\n",
       "      <td>[1. 1. 1. 1. 1. 1. 1. 1.]</td>\n",
       "      <td>Sx/0-2</td>\n",
       "      <td>[-1.  1. -1.  1.  1.  1.  1.  1.] with 0.25</td>\n",
       "      <td>The slowest run took 1093.45 times longer than...</td>\n",
       "    </tr>\n",
       "    <tr>\n",
       "      <th>1</th>\n",
       "      <td>op[state]</td>\n",
       "      <td>[1. 1. 1. 1. 1. 1. 1. 1.]</td>\n",
       "      <td>Sx/0-2</td>\n",
       "      <td>[-1.  1. -1.  1.  1.  1.  1.  1.]</td>\n",
       "      <td>25.2 us +- 3.37 us per loop (mean +- std. dev....</td>\n",
       "    </tr>\n",
       "    <tr>\n",
       "      <th>2</th>\n",
       "      <td>op[op[state]]</td>\n",
       "      <td>[1. 1. 1. 1. 1. 1. 1. 1.]</td>\n",
       "      <td>Sx/0-2</td>\n",
       "      <td>[1. 1. 1. 1. 1. 1. 1. 1.]</td>\n",
       "      <td>50.8 us +- 7.69 us per loop (mean +- std. dev....</td>\n",
       "    </tr>\n",
       "    <tr>\n",
       "      <th>3</th>\n",
       "      <td>op % state</td>\n",
       "      <td>[1. 1. 1. 1. 1. 1. 1. 1.]</td>\n",
       "      <td>Sx/0-2</td>\n",
       "      <td>0.25</td>\n",
       "      <td>24.1 us +- 1.9 us per loop (mean +- std. dev. ...</td>\n",
       "    </tr>\n",
       "  </tbody>\n",
       "</table>\n",
       "</div>"
      ],
      "text/plain": [
       "  Test Expression              Initial State Operator  \\\n",
       "0       op(state)  [1. 1. 1. 1. 1. 1. 1. 1.]   Sx/0-2   \n",
       "1       op[state]  [1. 1. 1. 1. 1. 1. 1. 1.]   Sx/0-2   \n",
       "2   op[op[state]]  [1. 1. 1. 1. 1. 1. 1. 1.]   Sx/0-2   \n",
       "3      op % state  [1. 1. 1. 1. 1. 1. 1. 1.]   Sx/0-2   \n",
       "\n",
       "                                        Result  \\\n",
       "0  [-1.  1. -1.  1.  1.  1.  1.  1.] with 0.25   \n",
       "1            [-1.  1. -1.  1.  1.  1.  1.  1.]   \n",
       "2                    [1. 1. 1. 1. 1. 1. 1. 1.]   \n",
       "3                                         0.25   \n",
       "\n",
       "                                    Time Measurement  \n",
       "0  The slowest run took 1093.45 times longer than...  \n",
       "1  25.2 us +- 3.37 us per loop (mean +- std. dev....  \n",
       "2  50.8 us +- 7.69 us per loop (mean +- std. dev....  \n",
       "3  24.1 us +- 1.9 us per loop (mean +- std. dev. ...  "
      ]
     },
     "metadata": {},
     "output_type": "display_data"
    }
   ],
   "source": [
    "out = test_operators(sig_x, jnp_state, ns = lat.ns, output_format='tabs')"
   ]
  },
  {
   "cell_type": "markdown",
   "metadata": {},
   "source": [
    "##### $\\sigma _z^0 \\sigma_z^2 |\\psi ^{\\rm jax}\\rangle$"
   ]
  },
  {
   "cell_type": "code",
   "execution_count": 9,
   "metadata": {},
   "outputs": [
    {
     "data": {
      "application/vnd.microsoft.datawrangler.viewer.v0+json": {
       "columns": [
        {
         "name": "index",
         "rawType": "int64",
         "type": "integer"
        },
        {
         "name": "Test Expression",
         "rawType": "object",
         "type": "string"
        },
        {
         "name": "Initial State",
         "rawType": "object",
         "type": "string"
        },
        {
         "name": "Operator",
         "rawType": "object",
         "type": "string"
        },
        {
         "name": "Result",
         "rawType": "object",
         "type": "string"
        },
        {
         "name": "Time Measurement",
         "rawType": "object",
         "type": "string"
        }
       ],
       "conversionMethod": "pd.DataFrame",
       "ref": "39d29090-abe8-462f-b26f-2333ef6e59d2",
       "rows": [
        [
         "0",
         "op(state)",
         "[1. 1. 1. 1. 1. 1. 1. 1.]",
         "Sz/0-2",
         "[1. 1. 1. 1. 1. 1. 1. 1.] with 0.25",
         "The slowest run took 640.85 times longer than the fastest. This could mean that an intermediate result is being cached.\n698 us +- 1.37 ms per loop (mean +- std. dev. of 5 runs, 5 loops each)"
        ],
        [
         "1",
         "op[state]",
         "[1. 1. 1. 1. 1. 1. 1. 1.]",
         "Sz/0-2",
         "[1. 1. 1. 1. 1. 1. 1. 1.]",
         "6.11 us +- 1.6 us per loop (mean +- std. dev. of 5 runs, 5 loops each)"
        ],
        [
         "2",
         "op[op[state]]",
         "[1. 1. 1. 1. 1. 1. 1. 1.]",
         "Sz/0-2",
         "[1. 1. 1. 1. 1. 1. 1. 1.]",
         "11.1 us +- 1.49 us per loop (mean +- std. dev. of 5 runs, 5 loops each)"
        ],
        [
         "3",
         "op % state",
         "[1. 1. 1. 1. 1. 1. 1. 1.]",
         "Sz/0-2",
         "0.25",
         "6.14 us +- 1.23 us per loop (mean +- std. dev. of 5 runs, 5 loops each)"
        ]
       ],
       "shape": {
        "columns": 5,
        "rows": 4
       }
      },
      "text/html": [
       "<div>\n",
       "<style scoped>\n",
       "    .dataframe tbody tr th:only-of-type {\n",
       "        vertical-align: middle;\n",
       "    }\n",
       "\n",
       "    .dataframe tbody tr th {\n",
       "        vertical-align: top;\n",
       "    }\n",
       "\n",
       "    .dataframe thead th {\n",
       "        text-align: right;\n",
       "    }\n",
       "</style>\n",
       "<table border=\"1\" class=\"dataframe\">\n",
       "  <thead>\n",
       "    <tr style=\"text-align: right;\">\n",
       "      <th></th>\n",
       "      <th>Test Expression</th>\n",
       "      <th>Initial State</th>\n",
       "      <th>Operator</th>\n",
       "      <th>Result</th>\n",
       "      <th>Time Measurement</th>\n",
       "    </tr>\n",
       "  </thead>\n",
       "  <tbody>\n",
       "    <tr>\n",
       "      <th>0</th>\n",
       "      <td>op(state)</td>\n",
       "      <td>[1. 1. 1. 1. 1. 1. 1. 1.]</td>\n",
       "      <td>Sz/0-2</td>\n",
       "      <td>[1. 1. 1. 1. 1. 1. 1. 1.] with 0.25</td>\n",
       "      <td>The slowest run took 640.85 times longer than ...</td>\n",
       "    </tr>\n",
       "    <tr>\n",
       "      <th>1</th>\n",
       "      <td>op[state]</td>\n",
       "      <td>[1. 1. 1. 1. 1. 1. 1. 1.]</td>\n",
       "      <td>Sz/0-2</td>\n",
       "      <td>[1. 1. 1. 1. 1. 1. 1. 1.]</td>\n",
       "      <td>6.11 us +- 1.6 us per loop (mean +- std. dev. ...</td>\n",
       "    </tr>\n",
       "    <tr>\n",
       "      <th>2</th>\n",
       "      <td>op[op[state]]</td>\n",
       "      <td>[1. 1. 1. 1. 1. 1. 1. 1.]</td>\n",
       "      <td>Sz/0-2</td>\n",
       "      <td>[1. 1. 1. 1. 1. 1. 1. 1.]</td>\n",
       "      <td>11.1 us +- 1.49 us per loop (mean +- std. dev....</td>\n",
       "    </tr>\n",
       "    <tr>\n",
       "      <th>3</th>\n",
       "      <td>op % state</td>\n",
       "      <td>[1. 1. 1. 1. 1. 1. 1. 1.]</td>\n",
       "      <td>Sz/0-2</td>\n",
       "      <td>0.25</td>\n",
       "      <td>6.14 us +- 1.23 us per loop (mean +- std. dev....</td>\n",
       "    </tr>\n",
       "  </tbody>\n",
       "</table>\n",
       "</div>"
      ],
      "text/plain": [
       "  Test Expression              Initial State Operator  \\\n",
       "0       op(state)  [1. 1. 1. 1. 1. 1. 1. 1.]   Sz/0-2   \n",
       "1       op[state]  [1. 1. 1. 1. 1. 1. 1. 1.]   Sz/0-2   \n",
       "2   op[op[state]]  [1. 1. 1. 1. 1. 1. 1. 1.]   Sz/0-2   \n",
       "3      op % state  [1. 1. 1. 1. 1. 1. 1. 1.]   Sz/0-2   \n",
       "\n",
       "                                Result  \\\n",
       "0  [1. 1. 1. 1. 1. 1. 1. 1.] with 0.25   \n",
       "1            [1. 1. 1. 1. 1. 1. 1. 1.]   \n",
       "2            [1. 1. 1. 1. 1. 1. 1. 1.]   \n",
       "3                                 0.25   \n",
       "\n",
       "                                    Time Measurement  \n",
       "0  The slowest run took 640.85 times longer than ...  \n",
       "1  6.11 us +- 1.6 us per loop (mean +- std. dev. ...  \n",
       "2  11.1 us +- 1.49 us per loop (mean +- std. dev....  \n",
       "3  6.14 us +- 1.23 us per loop (mean +- std. dev....  "
      ]
     },
     "metadata": {},
     "output_type": "display_data"
    }
   ],
   "source": [
    "out = test_operators(sig_z, jnp_state, ns = lat.ns, output_format='tabs')"
   ]
  },
  {
   "cell_type": "markdown",
   "metadata": {},
   "source": [
    "##### $2 * \\sigma _x^0 \\sigma_x^2 |\\psi ^{\\rm jax}\\rangle$"
   ]
  },
  {
   "cell_type": "code",
   "execution_count": 20,
   "metadata": {},
   "outputs": [
    {
     "data": {
      "application/vnd.microsoft.datawrangler.viewer.v0+json": {
       "columns": [
        {
         "name": "index",
         "rawType": "int64",
         "type": "integer"
        },
        {
         "name": "Test Expression",
         "rawType": "object",
         "type": "string"
        },
        {
         "name": "Initial State",
         "rawType": "object",
         "type": "string"
        },
        {
         "name": "Operator",
         "rawType": "object",
         "type": "string"
        },
        {
         "name": "Result",
         "rawType": "object",
         "type": "string"
        },
        {
         "name": "Time Measurement",
         "rawType": "object",
         "type": "string"
        }
       ],
       "conversionMethod": "pd.DataFrame",
       "ref": "22b498e0-8d55-45f7-9a3b-625c103c8f26",
       "rows": [
        [
         "0",
         "op(state)",
         "[1. 1. 1. 1. 1. 1. 1. 1.]",
         "Sx/0-2 * 2",
         "[-1.  1. -1.  1.  1.  1.  1.  1.] with 0.5",
         "The slowest run took 376.77 times longer than the fastest. This could mean that an intermediate result is being cached.\n1.82 ms +- 3.59 ms per loop (mean +- std. dev. of 5 runs, 5 loops each)"
        ],
        [
         "1",
         "op[state]",
         "[1. 1. 1. 1. 1. 1. 1. 1.]",
         "Sx/0-2 * 2",
         "[-1.  1. -1.  1.  1.  1.  1.  1.]",
         "23.8 us +- 2.18 us per loop (mean +- std. dev. of 5 runs, 5 loops each)"
        ],
        [
         "2",
         "op[op[state]]",
         "[1. 1. 1. 1. 1. 1. 1. 1.]",
         "Sx/0-2 * 2",
         "[1. 1. 1. 1. 1. 1. 1. 1.]",
         "60.3 us +- 18.2 us per loop (mean +- std. dev. of 5 runs, 5 loops each)"
        ],
        [
         "3",
         "op % state",
         "[1. 1. 1. 1. 1. 1. 1. 1.]",
         "Sx/0-2 * 2",
         "0.5",
         "The slowest run took 8.86 times longer than the fastest. This could mean that an intermediate result is being cached.\n80.8 us +- 63.9 us per loop (mean +- std. dev. of 5 runs, 5 loops each)"
        ]
       ],
       "shape": {
        "columns": 5,
        "rows": 4
       }
      },
      "text/html": [
       "<div>\n",
       "<style scoped>\n",
       "    .dataframe tbody tr th:only-of-type {\n",
       "        vertical-align: middle;\n",
       "    }\n",
       "\n",
       "    .dataframe tbody tr th {\n",
       "        vertical-align: top;\n",
       "    }\n",
       "\n",
       "    .dataframe thead th {\n",
       "        text-align: right;\n",
       "    }\n",
       "</style>\n",
       "<table border=\"1\" class=\"dataframe\">\n",
       "  <thead>\n",
       "    <tr style=\"text-align: right;\">\n",
       "      <th></th>\n",
       "      <th>Test Expression</th>\n",
       "      <th>Initial State</th>\n",
       "      <th>Operator</th>\n",
       "      <th>Result</th>\n",
       "      <th>Time Measurement</th>\n",
       "    </tr>\n",
       "  </thead>\n",
       "  <tbody>\n",
       "    <tr>\n",
       "      <th>0</th>\n",
       "      <td>op(state)</td>\n",
       "      <td>[1. 1. 1. 1. 1. 1. 1. 1.]</td>\n",
       "      <td>Sx/0-2 * 2</td>\n",
       "      <td>[-1.  1. -1.  1.  1.  1.  1.  1.] with 0.5</td>\n",
       "      <td>The slowest run took 376.77 times longer than ...</td>\n",
       "    </tr>\n",
       "    <tr>\n",
       "      <th>1</th>\n",
       "      <td>op[state]</td>\n",
       "      <td>[1. 1. 1. 1. 1. 1. 1. 1.]</td>\n",
       "      <td>Sx/0-2 * 2</td>\n",
       "      <td>[-1.  1. -1.  1.  1.  1.  1.  1.]</td>\n",
       "      <td>23.8 us +- 2.18 us per loop (mean +- std. dev....</td>\n",
       "    </tr>\n",
       "    <tr>\n",
       "      <th>2</th>\n",
       "      <td>op[op[state]]</td>\n",
       "      <td>[1. 1. 1. 1. 1. 1. 1. 1.]</td>\n",
       "      <td>Sx/0-2 * 2</td>\n",
       "      <td>[1. 1. 1. 1. 1. 1. 1. 1.]</td>\n",
       "      <td>60.3 us +- 18.2 us per loop (mean +- std. dev....</td>\n",
       "    </tr>\n",
       "    <tr>\n",
       "      <th>3</th>\n",
       "      <td>op % state</td>\n",
       "      <td>[1. 1. 1. 1. 1. 1. 1. 1.]</td>\n",
       "      <td>Sx/0-2 * 2</td>\n",
       "      <td>0.5</td>\n",
       "      <td>The slowest run took 8.86 times longer than th...</td>\n",
       "    </tr>\n",
       "  </tbody>\n",
       "</table>\n",
       "</div>"
      ],
      "text/plain": [
       "  Test Expression              Initial State    Operator  \\\n",
       "0       op(state)  [1. 1. 1. 1. 1. 1. 1. 1.]  Sx/0-2 * 2   \n",
       "1       op[state]  [1. 1. 1. 1. 1. 1. 1. 1.]  Sx/0-2 * 2   \n",
       "2   op[op[state]]  [1. 1. 1. 1. 1. 1. 1. 1.]  Sx/0-2 * 2   \n",
       "3      op % state  [1. 1. 1. 1. 1. 1. 1. 1.]  Sx/0-2 * 2   \n",
       "\n",
       "                                       Result  \\\n",
       "0  [-1.  1. -1.  1.  1.  1.  1.  1.] with 0.5   \n",
       "1           [-1.  1. -1.  1.  1.  1.  1.  1.]   \n",
       "2                   [1. 1. 1. 1. 1. 1. 1. 1.]   \n",
       "3                                         0.5   \n",
       "\n",
       "                                    Time Measurement  \n",
       "0  The slowest run took 376.77 times longer than ...  \n",
       "1  23.8 us +- 2.18 us per loop (mean +- std. dev....  \n",
       "2  60.3 us +- 18.2 us per loop (mean +- std. dev....  \n",
       "3  The slowest run took 8.86 times longer than th...  "
      ]
     },
     "metadata": {},
     "output_type": "display_data"
    }
   ],
   "source": [
    "out = test_operators(sig_x_2, jnp_state, ns = lat.ns, output_format='tabs')"
   ]
  },
  {
   "cell_type": "markdown",
   "metadata": {},
   "source": [
    "##### $H |\\psi ^{\\rm jax} \\rangle $"
   ]
  },
  {
   "cell_type": "code",
   "execution_count": 8,
   "metadata": {},
   "outputs": [
    {
     "name": "stdout",
     "output_type": "stream",
     "text": [
      "The slowest run took 2603.02 times longer than the fastest. This could mean that an intermediate result is being cached.\n",
      "8.07 ms ± 16.1 ms per loop (mean ± std. dev. of 5 runs, 5 loops each)\n"
     ]
    },
    {
     "data": {
      "text/plain": [
       "(Array([[ 1.,  1.,  1., -1.,  1., -1., -1.,  1.],\n",
       "        [ 1.,  1.,  1., -1., -1., -1., -1.,  1.],\n",
       "        [-1.,  1., -1., -1.,  1., -1., -1.,  1.]], dtype=float32),\n",
       " Array([ 2.625, -2.5  ,  0.25 ], dtype=float64))"
      ]
     },
     "execution_count": 8,
     "metadata": {},
     "output_type": "execute_result"
    }
   ],
   "source": [
    "%timeit -r 5 -n 5 result = ham.loc_energy(k=jnp_state)\n",
    "ham.loc_energy(k=jnp_state)"
   ]
  },
  {
   "cell_type": "markdown",
   "metadata": {},
   "source": [
    "### Build matrix"
   ]
  },
  {
   "cell_type": "code",
   "execution_count": 12,
   "metadata": {},
   "outputs": [
    {
     "name": "stderr",
     "output_type": "stream",
     "text": [
      "02_04_2025_01-08_49 [INFO] \t->\u001b[0m[Hamiltonian] Building the Hamiltonian matrix...\u001b[0m\n",
      "02_04_2025_01-08_49 [INFO] \t\t->\u001b[0m[Hamiltonian] Initialization completed in 0.000155 seconds\u001b[0m\n",
      "02_04_2025_01-08_49 [INFO] \t\t->\u001b[0m[Hamiltonian] Calculating the Hamiltonian matrix using NumPy...\u001b[0m\n",
      "02_04_2025_01-08_49 [INFO] \t->\u001b[0m[Hamiltonian] Hamiltonian matrix built in 0.182382 seconds.\u001b[0m\n"
     ]
    }
   ],
   "source": [
    "ham.build(verbose=True, use_numpy=True)"
   ]
  },
  {
   "cell_type": "code",
   "execution_count": 10,
   "metadata": {},
   "outputs": [
    {
     "name": "stderr",
     "output_type": "stream",
     "text": [
      "02_04_2025_01-08_28 [INFO] \t->\u001b[0m[Hamiltonian] Diagonalization started using (standard)...\u001b[0m\n",
      "02_04_2025_01-08_28 [INFO] \t\t->\u001b[0m[Hamiltonian] Diagonalization (standard) completed in 0.059722 seconds.\u001b[0m\n"
     ]
    }
   ],
   "source": [
    "ham.diagonalize(verbose=True)"
   ]
  },
  {
   "cell_type": "code",
   "execution_count": 11,
   "metadata": {},
   "outputs": [
    {
     "data": {
      "text/plain": [
       "(array([-5.375, -5.375, -5.375, -5.375, -5.375, -5.375, -5.375, -5.375,\n",
       "        -5.375, -5.375, -5.375, -5.375, -5.375, -5.375, -5.375, -5.375,\n",
       "        -5.125, -5.125, -5.125, -5.125, -5.125, -5.125, -5.125, -5.125,\n",
       "        -5.125, -5.125, -5.125, -5.125, -5.125, -5.125, -5.125, -5.125,\n",
       "        -4.875, -4.875, -4.875, -4.875, -4.875, -4.875, -4.875, -4.875,\n",
       "        -4.875, -4.875, -4.875, -4.875, -4.875, -4.875, -4.875, -4.875,\n",
       "        -4.625, -4.625, -4.625, -4.625, -4.625, -4.625, -4.625, -4.625,\n",
       "        -4.625, -4.625, -4.625, -4.625, -4.625, -4.625, -4.625, -4.625,\n",
       "        -0.375, -0.375, -0.375, -0.375, -0.375, -0.375, -0.375, -0.375,\n",
       "        -0.375, -0.375, -0.375, -0.375, -0.375, -0.375, -0.375, -0.375,\n",
       "        -0.375, -0.375, -0.375, -0.375, -0.375, -0.375, -0.375, -0.375,\n",
       "        -0.375, -0.375, -0.375, -0.375, -0.375, -0.375, -0.375, -0.375,\n",
       "        -0.125, -0.125, -0.125, -0.125, -0.125, -0.125, -0.125, -0.125,\n",
       "        -0.125, -0.125, -0.125, -0.125, -0.125, -0.125, -0.125, -0.125,\n",
       "        -0.125, -0.125, -0.125, -0.125, -0.125, -0.125, -0.125, -0.125,\n",
       "        -0.125, -0.125, -0.125, -0.125, -0.125, -0.125, -0.125, -0.125,\n",
       "         0.125,  0.125,  0.125,  0.125,  0.125,  0.125,  0.125,  0.125,\n",
       "         0.125,  0.125,  0.125,  0.125,  0.125,  0.125,  0.125,  0.125,\n",
       "         0.125,  0.125,  0.125,  0.125,  0.125,  0.125,  0.125,  0.125,\n",
       "         0.125,  0.125,  0.125,  0.125,  0.125,  0.125,  0.125,  0.125,\n",
       "         0.375,  0.375,  0.375,  0.375,  0.375,  0.375,  0.375,  0.375,\n",
       "         0.375,  0.375,  0.375,  0.375,  0.375,  0.375,  0.375,  0.375,\n",
       "         0.375,  0.375,  0.375,  0.375,  0.375,  0.375,  0.375,  0.375,\n",
       "         0.375,  0.375,  0.375,  0.375,  0.375,  0.375,  0.375,  0.375,\n",
       "         4.625,  4.625,  4.625,  4.625,  4.625,  4.625,  4.625,  4.625,\n",
       "         4.625,  4.625,  4.625,  4.625,  4.625,  4.625,  4.625,  4.625,\n",
       "         4.875,  4.875,  4.875,  4.875,  4.875,  4.875,  4.875,  4.875,\n",
       "         4.875,  4.875,  4.875,  4.875,  4.875,  4.875,  4.875,  4.875,\n",
       "         5.125,  5.125,  5.125,  5.125,  5.125,  5.125,  5.125,  5.125,\n",
       "         5.125,  5.125,  5.125,  5.125,  5.125,  5.125,  5.125,  5.125,\n",
       "         5.375,  5.375,  5.375,  5.375,  5.375,  5.375,  5.375,  5.375,\n",
       "         5.375,  5.375,  5.375,  5.375,  5.375,  5.375,  5.375,  5.375]),\n",
       " array([[ 2.63749309e-49, -1.44665013e-46,  1.46738938e-44, ...,\n",
       "          8.80765135e-02,  6.85712866e-02, -5.81294735e-02],\n",
       "        [ 8.97382989e-18,  1.74716699e-18, -1.20057140e-18, ...,\n",
       "          2.48004971e-01, -1.25284288e-02,  1.14796430e-01],\n",
       "        [-1.54338132e-18, -1.08186827e-17, -2.64737093e-17, ...,\n",
       "         -9.32891273e-03,  1.55941949e-01,  2.28831164e-01],\n",
       "        ...,\n",
       "        [ 2.27361985e-16, -9.30338042e-16, -2.61604710e-16, ...,\n",
       "          1.53931827e-17,  6.03105987e-18,  5.13686307e-17],\n",
       "        [ 6.19512711e-16, -2.63460270e-15, -6.60347097e-16, ...,\n",
       "          2.76168740e-17,  3.71948049e-18,  2.49423674e-17],\n",
       "        [ 3.82104892e-16,  1.94166231e-15,  5.00012125e-16, ...,\n",
       "          5.25795702e-19,  1.07238606e-17,  1.43089276e-17]]),\n",
       " (256, 256))"
      ]
     },
     "execution_count": 11,
     "metadata": {},
     "output_type": "execute_result"
    },
    {
     "data": {
      "image/png": "[encoded data removed]",
      "text/plain": [
       "<Figure size 350x262.5 with 1 Axes>"
      ]
     },
     "metadata": {},
     "output_type": "display_data"
    }
   ],
   "source": [
    "import matplotlib.pyplot as plt\n",
    "plt.plot(ham.eig_val)\n",
    "ham.eig_val, ham.eig_vec, ham.eig_vec.shape"
   ]
  },
  {
   "cell_type": "markdown",
   "metadata": {},
   "source": [
    "## Heisenberg - Kitaev model"
   ]
  },
  {
   "cell_type": "code",
   "execution_count": 1,
   "metadata": {},
   "outputs": [
    {
     "name": "stderr",
     "output_type": "stream",
     "text": [
      "WARNING:jax._src.lib.xla_bridge:No GPU/TPU found, falling back to CPU. (Set TF_CPP_MIN_LOG_LEVEL=0 and rerun for more info.)\n"
     ]
    },
    {
     "name": "stdout",
     "output_type": "stream",
     "text": [
      "=== Backend Initialization ===\n",
      "\tNumPy Version: 1.26.4\n",
      "\tSciPy Version: 1.13.1\n",
      "\tJAX Version: Not Available\n",
      "\t\tActive Backend: jax\n",
      "\t\tJAX Available: True\n",
      "\t\tDefault Random Key: [    0 12345]\n",
      "\tActive Backend Modules:\n",
      "\t\t\tMain Module: <module 'jax.numpy' from '/home/klimak/libraries/anaconda3/lib/python3.11/site-packages/jax/numpy/__init__.py'>\n",
      "\t\t\tRandom Module: <module 'jax.random' from '/home/klimak/libraries/anaconda3/lib/python3.11/site-packages/jax/random.py'>\n",
      "\t\t\tSciPy Module: <module 'jax.scipy' from '/home/klimak/libraries/anaconda3/lib/python3.11/site-packages/jax/scipy/__init__.py'>\n",
      "=== End of Backend Info ===\n"
     ]
    },
    {
     "data": {
      "text/plain": [
       "HON,LatticeBC.PBC,d=2,Ns=8,Lx=2,Ly=2,Lz=1"
      ]
     },
     "execution_count": 1,
     "metadata": {},
     "output_type": "execute_result"
    }
   ],
   "source": [
    "from Algebra.Model.Interacting.Spin.heisenberg_kitaev import HeisenbergKitaev, HEI_KIT_Z_BOND_NEI, HEI_KIT_X_BOND_NEI, HEI_KIT_Y_BOND_NEI\n",
    "from general_python.lattices.honeycomb import HoneycombLattice\n",
    "from general_python.lattices.lattice import LatticeBC\n",
    "\n",
    "backend = 'np'\n",
    "lat     = HoneycombLattice( dim     = 2,\n",
    "                            lx      = 2,\n",
    "                            ly      = 2,\n",
    "                            lz      = 1,\n",
    "                            bc      = LatticeBC.PBC)\n",
    "lat"
   ]
  },
  {
   "cell_type": "markdown",
   "metadata": {},
   "source": [
    "#### Printout the neighbors"
   ]
  },
  {
   "cell_type": "code",
   "execution_count": 2,
   "metadata": {},
   "outputs": [],
   "source": [
    "# for i in range(lat.ns):\n",
    "#     print(f\"site {i}:\")\n",
    "#     n_nei = lat.get_nn_forward_num(i)\n",
    "#     print(f\"\\tn_nei:{n_nei}\")\n",
    "    \n",
    "#     for j in range(n_nei):\n",
    "#         nei = lat.get_nn_forward(i, j)\n",
    "#         print(f\"\\t\\tnei {j}:\\t{nei}\", end='')\n",
    "#         if j == HEI_KIT_Z_BOND_NEI:\n",
    "#             print(f\"\\t\\t\\tbond Z\")\n",
    "#         elif j == HEI_KIT_Y_BOND_NEI:\n",
    "#             print(f\"\\t\\t\\tbond Y\")\n",
    "#         elif j == HEI_KIT_X_BOND_NEI:\n",
    "#             print(f\"\\t\\t\\tbond X\")"
   ]
  },
  {
   "cell_type": "markdown",
   "metadata": {},
   "source": [
    "#### GO!"
   ]
  },
  {
   "cell_type": "code",
   "execution_count": 3,
   "metadata": {},
   "outputs": [],
   "source": [
    "hx      = 0.5\n",
    "hz      = -0.3\n",
    "j       = 1.0\n",
    "kx      = 1.0\n",
    "ky      = 1.0\n",
    "kz      = 1.0\n",
    "dlt     = 1.0\n",
    "\n",
    "hamil   = HeisenbergKitaev(lattice      = lat, \n",
    "                        hilbert_space   = None, \n",
    "                        hx              = hx,\n",
    "                        hz              = hz,\n",
    "                        kx              = kx,\n",
    "                        ky              = ky,\n",
    "                        kz              = kz,\n",
    "                        j               = j,\n",
    "                        dlt             = dlt, \n",
    "                        dtype           = float,\n",
    "                        backend         = backend)"
   ]
  },
  {
   "cell_type": "code",
   "execution_count": 4,
   "metadata": {},
   "outputs": [
    {
     "name": "stdout",
     "output_type": "stream",
     "text": [
      "Memory:6.104e-05gb\n"
     ]
    }
   ],
   "source": [
    "hamil.build(verbose=True, use_numpy=True)\n",
    "print(f\"Memory:{hamil.memory_gb:.3e}gb\")"
   ]
  },
  {
   "cell_type": "code",
   "execution_count": 5,
   "metadata": {},
   "outputs": [],
   "source": [
    "hamil.diagonalize(verbose=True)"
   ]
  },
  {
   "cell_type": "code",
   "execution_count": 6,
   "metadata": {},
   "outputs": [
    {
     "data": {
      "text/plain": [
       "(array([-6.44211693e+00, -5.92610809e+00, -5.34411037e+00, -4.76205750e+00,\n",
       "        -4.45309041e+00, -4.39228435e+00, -4.26935329e+00, -4.19720199e+00,\n",
       "        -4.14771635e+00, -4.13904170e+00, -4.02741320e+00, -3.95159616e+00,\n",
       "        -3.88109805e+00, -3.70049653e+00, -3.60505299e+00, -3.48265996e+00,\n",
       "        -3.47705959e+00, -3.46626615e+00, -3.27091704e+00, -3.25497709e+00,\n",
       "        -3.13839839e+00, -3.12171530e+00, -3.11695191e+00, -3.11080783e+00,\n",
       "        -3.08889167e+00, -3.06699614e+00, -3.06577808e+00, -2.85840130e+00,\n",
       "        -2.78537589e+00, -2.78094245e+00, -2.77333462e+00, -2.72018788e+00,\n",
       "        -2.66808075e+00, -2.66798999e+00, -2.60994032e+00, -2.60128268e+00,\n",
       "        -2.58409053e+00, -2.54121064e+00, -2.50833066e+00, -2.49994427e+00,\n",
       "        -2.40397998e+00, -2.37248032e+00, -2.35561307e+00, -2.34097147e+00,\n",
       "        -2.32876190e+00, -2.24981481e+00, -2.21285296e+00, -2.13647581e+00,\n",
       "        -2.10929097e+00, -2.03923428e+00, -1.99407335e+00, -1.96276039e+00,\n",
       "        -1.92321627e+00, -1.91773516e+00, -1.86698716e+00, -1.84266016e+00,\n",
       "        -1.74872889e+00, -1.71105867e+00, -1.70102745e+00, -1.69870070e+00,\n",
       "        -1.61873851e+00, -1.61803544e+00, -1.54435126e+00, -1.47803402e+00,\n",
       "        -1.46985846e+00, -1.45339765e+00, -1.43997356e+00, -1.42069731e+00,\n",
       "        -1.41764285e+00, -1.40451484e+00, -1.35465788e+00, -1.35095266e+00,\n",
       "        -1.32738983e+00, -1.26857280e+00, -1.22642344e+00, -1.17965235e+00,\n",
       "        -1.17879133e+00, -1.17600420e+00, -1.13103750e+00, -1.09241822e+00,\n",
       "        -1.08451460e+00, -1.07466490e+00, -1.06169414e+00, -1.04297948e+00,\n",
       "        -1.02244146e+00, -1.02195352e+00, -9.50681662e-01, -9.10271851e-01,\n",
       "        -8.97940061e-01, -8.81094670e-01, -8.38494147e-01, -8.18963511e-01,\n",
       "        -8.11977592e-01, -7.46114167e-01, -7.15742482e-01, -6.95848142e-01,\n",
       "        -6.60143544e-01, -6.36088215e-01, -6.03789964e-01, -5.97684108e-01,\n",
       "        -5.72254590e-01, -5.64010892e-01, -5.20989236e-01, -5.13561400e-01,\n",
       "        -4.91972650e-01, -4.81129706e-01, -4.76885325e-01, -3.79205972e-01,\n",
       "        -3.71434216e-01, -3.53638222e-01, -3.33384121e-01, -3.23763092e-01,\n",
       "        -3.21265506e-01, -3.17655028e-01, -2.96668547e-01, -2.63674718e-01,\n",
       "        -2.55299106e-01, -2.53270239e-01, -1.82639996e-01, -1.33143069e-01,\n",
       "        -1.25321776e-01, -9.62620248e-02, -8.23061839e-02, -6.05997820e-02,\n",
       "        -2.58509759e-02, -1.77635684e-15,  8.07094104e-03,  2.37598313e-02,\n",
       "         2.86747497e-02,  5.29504495e-02,  6.24150957e-02,  9.98488237e-02,\n",
       "         1.13468670e-01,  1.19539514e-01,  1.22566384e-01,  1.32572403e-01,\n",
       "         1.78224629e-01,  1.93002532e-01,  2.08906689e-01,  2.15016748e-01,\n",
       "         2.47066018e-01,  2.81887367e-01,  3.00671503e-01,  3.13844912e-01,\n",
       "         3.61426187e-01,  3.82144957e-01,  3.93834106e-01,  3.98070419e-01,\n",
       "         4.73937408e-01,  5.02285061e-01,  5.20446578e-01,  5.27507731e-01,\n",
       "         5.43186410e-01,  5.45696428e-01,  5.59479883e-01,  5.95130931e-01,\n",
       "         6.07518026e-01,  6.58543579e-01,  6.62179586e-01,  6.76107968e-01,\n",
       "         7.50400244e-01,  8.31944329e-01,  8.33988498e-01,  8.34186877e-01,\n",
       "         8.37963330e-01,  8.78677690e-01,  9.36698838e-01,  9.67022880e-01,\n",
       "         9.84094106e-01,  9.89733825e-01,  1.00525140e+00,  1.01438117e+00,\n",
       "         1.03838730e+00,  1.06712919e+00,  1.07604588e+00,  1.10572761e+00,\n",
       "         1.20477100e+00,  1.22355452e+00,  1.24047102e+00,  1.26007187e+00,\n",
       "         1.29763151e+00,  1.31682626e+00,  1.38600313e+00,  1.39732341e+00,\n",
       "         1.40735883e+00,  1.44457041e+00,  1.45702627e+00,  1.48026729e+00,\n",
       "         1.48632664e+00,  1.52193723e+00,  1.55484857e+00,  1.55904060e+00,\n",
       "         1.60317202e+00,  1.62839674e+00,  1.68488943e+00,  1.69902061e+00,\n",
       "         1.71716176e+00,  1.72574091e+00,  1.75422951e+00,  1.83536548e+00,\n",
       "         1.88419345e+00,  1.89696498e+00,  1.94273974e+00,  1.94916012e+00,\n",
       "         1.98252122e+00,  2.01910294e+00,  2.03153677e+00,  2.05415517e+00,\n",
       "         2.07247400e+00,  2.08813305e+00,  2.09561844e+00,  2.13863304e+00,\n",
       "         2.21815679e+00,  2.22092068e+00,  2.30972251e+00,  2.31399631e+00,\n",
       "         2.40170830e+00,  2.40599208e+00,  2.43455355e+00,  2.47463801e+00,\n",
       "         2.50695930e+00,  2.54048414e+00,  2.54081268e+00,  2.58501062e+00,\n",
       "         2.59158736e+00,  2.61947089e+00,  2.75067615e+00,  2.77869815e+00,\n",
       "         2.77962804e+00,  2.85373334e+00,  2.87762518e+00,  2.88418475e+00,\n",
       "         2.90098056e+00,  2.96461449e+00,  3.08758622e+00,  3.13119612e+00,\n",
       "         3.30401389e+00,  3.33985074e+00,  3.37363620e+00,  3.41610261e+00,\n",
       "         3.42045643e+00,  3.52144762e+00,  3.57102688e+00,  3.60537341e+00,\n",
       "         3.91080254e+00,  3.99127198e+00,  4.02005292e+00,  4.07954980e+00,\n",
       "         4.17180814e+00,  4.52758784e+00,  4.59658302e+00,  4.74171470e+00,\n",
       "         4.76761532e+00,  5.29320418e+00,  5.86808500e+00,  6.44013243e+00]),\n",
       " array([[-7.12659514e-04,  0.00000000e+00,  0.00000000e+00, ...,\n",
       "          5.27130686e-01, -5.39853693e-01, -3.23263394e-01],\n",
       "        [ 3.26828529e-05,  3.70821016e-04,  3.67761971e-04, ...,\n",
       "         -1.85271845e-02, -1.44817377e-01, -1.78269915e-01],\n",
       "        [ 3.26828529e-05, -3.70821016e-04, -3.67761971e-04, ...,\n",
       "         -1.85271845e-02, -1.44817377e-01, -1.78269915e-01],\n",
       "        ...,\n",
       "        [ 5.74993392e-05,  1.91346832e-04, -5.83833604e-04, ...,\n",
       "          6.25264717e-02,  2.38115410e-02, -8.37644055e-03],\n",
       "        [ 5.74993392e-05, -1.91346832e-04,  5.83833604e-04, ...,\n",
       "          6.25264717e-02,  2.38115410e-02, -8.37644055e-03],\n",
       "        [-1.11655667e-03,  3.51281504e-17, -1.56613004e-16, ...,\n",
       "          5.53724605e-02,  1.66484709e-02, -5.83597861e-03]]),\n",
       " (256, 256))"
      ]
     },
     "execution_count": 6,
     "metadata": {},
     "output_type": "execute_result"
    },
    {
     "data": {
      "image/png": "[encoded data removed]",
      "text/plain": [
       "<Figure size 350x262.5 with 1 Axes>"
      ]
     },
     "metadata": {},
     "output_type": "display_data"
    }
   ],
   "source": [
    "import matplotlib.pyplot as plt\n",
    "plt.plot(hamil.eig_val)\n",
    "hamil.eig_val, hamil.eig_vec, hamil.eig_vec.shape"
   ]
  },
  {
   "cell_type": "code",
   "execution_count": 7,
   "metadata": {},
   "outputs": [
    {
     "name": "stdout",
     "output_type": "stream",
     "text": [
      "Minimum value: -4.0\n",
      "Maximum value: 5.2\n"
     ]
    },
    {
     "data": {
      "image/png": "[encoded data removed]",
      "text/plain": [
       "<Figure size 500x500 with 2 Axes>"
      ]
     },
     "metadata": {},
     "output_type": "display_data"
    },
    {
     "data": {
      "text/plain": [
       "<256x256 sparse matrix of type '<class 'numpy.float64'>'\n",
       "\twith 5376 stored elements in Compressed Sparse Row format>"
      ]
     },
     "execution_count": 7,
     "metadata": {},
     "output_type": "execute_result"
    }
   ],
   "source": [
    "import numpy as np\n",
    "# make dense\n",
    "qsm_dense   = hamil.hamil.todense() if hamil.sparse else hamil.hamil\n",
    "minimum     = qsm_dense.min()\n",
    "maximum     = qsm_dense.max()\n",
    "qsm_dense   = np.abs(qsm_dense) / np.abs(qsm_dense).max()\n",
    "\n",
    "print(\"Minimum value:\", minimum)\n",
    "print(\"Maximum value:\", maximum)\n",
    "\n",
    "plt.figure(figsize=(5, 5))\n",
    "plt.imshow(qsm_dense, cmap='viridis')\n",
    "plt.colorbar()\n",
    "plt.title(\"Density Representation\")\n",
    "plt.show()\n",
    "hamil.hamil"
   ]
  },
  {
   "cell_type": "markdown",
   "metadata": {},
   "source": [
    "## Quantum Sun Model"
   ]
  },
  {
   "cell_type": "code",
   "execution_count": 7,
   "metadata": {},
   "outputs": [
    {
     "data": {
      "text/plain": [
       "array([1.09830875, 0.68673419, 1.17275604])"
      ]
     },
     "execution_count": 7,
     "metadata": {},
     "output_type": "execute_result"
    }
   ],
   "source": [
    "from Algebra.Model.Interacting.Spin.qsm import QSM\n",
    "backend = 'np'\n",
    "hamil   = QSM(ns=6, hilbert_space=None, n=3, a=0.64, h=1.0, xi=0.2, backend=backend, dtype='float64')\n",
    "hamil.h"
   ]
  },
  {
   "cell_type": "markdown",
   "metadata": {},
   "source": [
    "#### Build"
   ]
  },
  {
   "cell_type": "markdown",
   "metadata": {},
   "source": [
    "##### Sparse"
   ]
  },
  {
   "cell_type": "code",
   "execution_count": 8,
   "metadata": {},
   "outputs": [
    {
     "name": "stdout",
     "output_type": "stream",
     "text": [
      "Memory:8.110e-06gb\n"
     ]
    }
   ],
   "source": [
    "hamil.build(verbose=True, use_numpy=True)\n",
    "print(f\"Memory:{hamil.memory_gb:.3e}gb\")"
   ]
  },
  {
   "cell_type": "code",
   "execution_count": 10,
   "metadata": {},
   "outputs": [],
   "source": [
    "hamil.diagonalize(verbose=True)"
   ]
  },
  {
   "cell_type": "code",
   "execution_count": 11,
   "metadata": {},
   "outputs": [
    {
     "data": {
      "text/plain": [
       "array([1.50045918, 1.53956738, 1.69939926, 1.88216289, 2.14070568])"
      ]
     },
     "execution_count": 11,
     "metadata": {},
     "output_type": "execute_result"
    }
   ],
   "source": [
    "hamil.eig_val[-5:]"
   ]
  },
  {
   "cell_type": "code",
   "execution_count": 12,
   "metadata": {},
   "outputs": [
    {
     "name": "stderr",
     "output_type": "stream",
     "text": [
      "/home/klimak/Codes/QuantumEigenSolver/Python/QES/general_python/physics/eigenlevels.py:106: RuntimeWarning: invalid value encountered in divide\n",
      "  gap_ratios = np.minimum(d_en[:-1], d_en[1:]) / np.maximum(d_en[:-1], d_en[1:])\n"
     ]
    },
    {
     "data": {
      "text/plain": [
       "nan"
      ]
     },
     "execution_count": 12,
     "metadata": {},
     "output_type": "execute_result"
    }
   ],
   "source": [
    "from general_python.physics.eigenlevels import gap_ratio\n",
    "gap_ratio(hamil.eig_val, 1.0)['mean']"
   ]
  },
  {
   "cell_type": "code",
   "execution_count": 13,
   "metadata": {},
   "outputs": [
    {
     "data": {
      "text/plain": [
       "11.844281113283797"
      ]
     },
     "execution_count": 13,
     "metadata": {},
     "output_type": "execute_result"
    }
   ],
   "source": [
    "np.sqrt(np.trace((hamil.hamil * hamil.hamil).todense()))"
   ]
  },
  {
   "cell_type": "markdown",
   "metadata": {},
   "source": [
    "##### Dense"
   ]
  },
  {
   "cell_type": "code",
   "execution_count": 14,
   "metadata": {},
   "outputs": [],
   "source": [
    "hamil.to_dense()"
   ]
  },
  {
   "cell_type": "code",
   "execution_count": 12,
   "metadata": {},
   "outputs": [
    {
     "name": "stderr",
     "output_type": "stream",
     "text": [
      "23_03_2025_21-56_00 [INFO] \t->\u001b[0m[Quantum Sun Model] Building the Hamiltonian matrix...\u001b[0m\n",
      "23_03_2025_21-56_00 [INFO] \t\t->\u001b[0m[Quantum Sun Model] Initialization completed in 0.000401 seconds\u001b[0m\n",
      "23_03_2025_21-56_01 [INFO] \t->\u001b[0m[Quantum Sun Model] Hamiltonian matrix built in 0.064316 seconds.\u001b[0m\n"
     ]
    }
   ],
   "source": [
    "hamil.build(verbose=True, use_numpy=True)"
   ]
  },
  {
   "cell_type": "code",
   "execution_count": 13,
   "metadata": {},
   "outputs": [
    {
     "name": "stderr",
     "output_type": "stream",
     "text": [
      "23_03_2025_21-56_01 [INFO] \u001b[0m[Quantum Sun Model] Diagonalization (standard) completed in 0.091391 seconds.\u001b[0m\n"
     ]
    }
   ],
   "source": [
    "hamil.diagonalize(verbose=True)"
   ]
  },
  {
   "cell_type": "code",
   "execution_count": 14,
   "metadata": {},
   "outputs": [
    {
     "name": "stderr",
     "output_type": "stream",
     "text": [
      "23_03_2025_21-56_02 [INFO] \t->\u001b[0m[Quantum Sun Model] Checking the memory used by the Hamiltonian matrix of type <class 'numpy.matrix'>\u001b[0m\n"
     ]
    },
    {
     "data": {
      "text/plain": [
       "0.001953125"
      ]
     },
     "execution_count": 14,
     "metadata": {},
     "output_type": "execute_result"
    }
   ],
   "source": [
    "hamil.h_memory_gb"
   ]
  },
  {
   "cell_type": "markdown",
   "metadata": {},
   "source": [
    "##### Plot tests"
   ]
  },
  {
   "cell_type": "code",
   "execution_count": 12,
   "metadata": {},
   "outputs": [
    {
     "data": {
      "text/plain": [
       "(array([-2.34531496, -2.11798111, -2.05381417, -1.77434138, -1.68752715,\n",
       "        -1.61777998, -1.5142981 , -1.40167197, -1.3743069 , -1.24799662,\n",
       "        -1.22757864, -1.12739028, -1.03491133, -0.94421676, -0.90879457,\n",
       "        -0.89215716, -0.86991355, -0.79161961, -0.7841528 , -0.73561609,\n",
       "        -0.60509698, -0.58112498, -0.5567302 , -0.53965873, -0.48245229,\n",
       "        -0.4122751 , -0.40239185, -0.32426685, -0.2654296 , -0.24201167,\n",
       "        -0.20965288, -0.18040775, -0.10389064, -0.06509441, -0.03179272,\n",
       "        -0.02241905,  0.04461932,  0.13452145,  0.16620679,  0.26036263,\n",
       "         0.29958855,  0.31675937,  0.3427217 ,  0.38618413,  0.42452586,\n",
       "         0.45552848,  0.50484907,  0.59743343,  0.62706459,  0.66137275,\n",
       "         0.70891361,  0.7939359 ,  0.89690373,  0.93771098,  0.99153836,\n",
       "         1.11496683,  1.11661861,  1.23095887,  1.33844484,  1.50045918,\n",
       "         1.53956738,  1.69939926,  1.88216289,  2.14070568]),\n",
       " array([[ 5.10949240e-01,  3.28695086e-01, -2.53144595e-01, ...,\n",
       "          1.95464797e-03,  5.94533351e-04, -4.19875890e-04],\n",
       "        [-1.66476994e-03, -3.54179303e-02, -5.46367272e-02, ...,\n",
       "          2.16753051e-03, -1.58413557e-02,  2.13716127e-04],\n",
       "        [-1.38475270e-03, -9.66773549e-02, -1.24584361e-01, ...,\n",
       "          3.16592340e-03, -7.79436623e-03,  7.86084822e-05],\n",
       "        ...,\n",
       "        [-2.37453226e-04,  6.28603426e-03,  3.05518599e-03, ...,\n",
       "          1.55958991e-01, -2.38458820e-02,  2.08729765e-02],\n",
       "        [-1.36989944e-03,  1.42385259e-02,  6.69582478e-03, ...,\n",
       "          4.17246779e-02, -6.98748123e-03,  1.09942515e-02],\n",
       "        [-7.08868677e-04,  1.14163262e-03, -2.01837372e-04, ...,\n",
       "          8.65240998e-02, -3.38256863e-02,  6.89746772e-01]]),\n",
       " (64, 64))"
      ]
     },
     "execution_count": 12,
     "metadata": {},
     "output_type": "execute_result"
    },
    {
     "data": {
      "image/png": "[encoded data removed]",
      "text/plain": [
       "<Figure size 350x262.5 with 1 Axes>"
      ]
     },
     "metadata": {},
     "output_type": "display_data"
    }
   ],
   "source": [
    "import matplotlib.pyplot as plt\n",
    "plt.plot(hamil.eig_val)\n",
    "hamil.eig_val, hamil.eig_vec, hamil.eig_vec.shape"
   ]
  },
  {
   "cell_type": "code",
   "execution_count": 15,
   "metadata": {},
   "outputs": [
    {
     "name": "stdout",
     "output_type": "stream",
     "text": [
      "Minimum value: -1.8001851646795513\n",
      "Maximum value: 1.5759584299232352\n"
     ]
    },
    {
     "data": {
      "image/png": "[encoded data removed]",
      "text/plain": [
       "<Figure size 500x500 with 2 Axes>"
      ]
     },
     "metadata": {},
     "output_type": "display_data"
    }
   ],
   "source": [
    "import numpy as np\n",
    "# make dense\n",
    "qsm_dense   = hamil.hamil.todense() if hamil.sparse else hamil.hamil\n",
    "minimum     = qsm_dense.min()\n",
    "maximum     = qsm_dense.max()\n",
    "qsm_dense   = np.abs(qsm_dense) / np.abs(qsm_dense).max()\n",
    "\n",
    "print(\"Minimum value:\", minimum)\n",
    "print(\"Maximum value:\", maximum)\n",
    "\n",
    "plt.figure(figsize=(5, 5))\n",
    "plt.imshow(qsm_dense, cmap='viridis')\n",
    "plt.colorbar()\n",
    "plt.title(\"Density Representation\")\n",
    "plt.show()"
   ]
  },
  {
   "cell_type": "markdown",
   "metadata": {},
   "source": [
    "##### Operators"
   ]
  },
  {
   "cell_type": "code",
   "execution_count": 16,
   "metadata": {},
   "outputs": [
    {
     "data": {
      "text/plain": [
       "array([[1., 0.],\n",
       "       [0., 1.]])"
      ]
     },
     "execution_count": 16,
     "metadata": {},
     "output_type": "execute_result"
    }
   ],
   "source": [
    "from Algebra.Operator.operators_spin import sig_x, sig_z, OperatorTypeActing\n",
    "from general_python.common import binary\n",
    "import numpy as np\n",
    "\n",
    "backend     = 'np'\n",
    "ns          = 2\n",
    "nh          = 2**ns   \n",
    "sites       = [ns - 1]\n",
    "# sites       = [0]\n",
    "sig_x_op    = sig_x(ns = ns, type_act = OperatorTypeActing.Global, sites = sites)\n",
    "sig_z_op    = sig_z(ns = ns, type_act = OperatorTypeActing.Global, sites = sites)\n",
    "eye_first   = np.eye(2**(ns - 1))\n",
    "eye_first"
   ]
  },
  {
   "cell_type": "markdown",
   "metadata": {},
   "source": [
    "###### Check how it works on the base states"
   ]
  },
  {
   "cell_type": "markdown",
   "metadata": {},
   "source": [
    "###### With states"
   ]
  },
  {
   "cell_type": "code",
   "execution_count": 17,
   "metadata": {},
   "outputs": [
    {
     "name": "stdout",
     "output_type": "stream",
     "text": [
      "\n",
      "Applying sigma_x\n",
      "Acting on state 3 (11)\n",
      "\tResulting state: 2\n",
      "\tResulting value: [0.5]\n",
      "\tBinary representation of resulting state: 10\n",
      "Applying sigma_z\n",
      "Resulting state: 3\n",
      "Resulting value: [0.5]\n",
      "Binary representation of resulting state: 11\n",
      "\n",
      "\n",
      "Applying sigma_x\n",
      "Acting on state 1 (01)\n",
      "\tResulting state: 0\n",
      "\tResulting value: [0.5]\n",
      "\tBinary representation of resulting state: 00\n",
      "Applying sigma_z\n",
      "Resulting state: 1\n",
      "Resulting value: [0.5]\n",
      "Binary representation of resulting state: 01\n",
      "\n",
      "\n",
      "Applying sigma_x\n",
      "Acting on state 1 (01)\n",
      "\tResulting state: 0\n",
      "\tResulting value: [0.5]\n",
      "\tBinary representation of resulting state: 00\n",
      "Applying sigma_z\n",
      "Resulting state: 1\n",
      "Resulting value: [0.5]\n",
      "Binary representation of resulting state: 01\n",
      "\n"
     ]
    }
   ],
   "source": [
    "int_state_full          = 2**(ns) - 1\n",
    "int_state_half          = 2**(ns - 1) - 1\n",
    "int_state_half_size     = 2**(ns//2) - 1\n",
    "\n",
    "# binary representation\n",
    "backend_state           = binary.int2base(int_state_full, size=ns, backend=backend)\n",
    "backend_state_half      = binary.int2base(int_state_half, size=ns, backend=backend)\n",
    "backend_state_half_size = binary.int2base(int_state_half_size, size=ns//2, backend=backend)\n",
    "# string representation\n",
    "string_state            = binary.int2binstr(int_state_full, bits=ns)\n",
    "string_state_half       = binary.int2binstr(int_state_half, bits=ns)\n",
    "string_state_half_size  = binary.int2binstr(int_state_half_size, bits=ns)\n",
    "\n",
    "# act on the integer states\n",
    "for state in [int_state_full, int_state_half, int_state_half_size]:\n",
    "    print()\n",
    "    # sigma x\n",
    "    print(\"Applying sigma_x\")\n",
    "    print(f\"Acting on state {state} ({binary.int2binstr(state, bits=ns)})\")\n",
    "    resulting_state, resulting_value = sig_x_op(state)\n",
    "    print(f\"\\tResulting state: {resulting_state[0]}\")\n",
    "    print(f\"\\tResulting value: {resulting_value}\")\n",
    "    print(f\"\\tBinary representation of resulting state: {binary.int2binstr(resulting_state[0], bits=ns)}\")\n",
    "    # sigma z\n",
    "    print(\"Applying sigma_z\")\n",
    "    resulting_state, resulting_value = sig_z_op(state)\n",
    "    print(f\"Resulting state: {resulting_state[0]}\")\n",
    "    print(f\"Resulting value: {resulting_value}\")\n",
    "    print(f\"Binary representation of resulting state: {binary.int2binstr(resulting_state[0], bits=ns)}\")\n",
    "    print()\n"
   ]
  },
  {
   "cell_type": "code",
   "execution_count": null,
   "metadata": {},
   "outputs": [
    {
     "name": "stdout",
     "output_type": "stream",
     "text": [
      "Are the two matrices (sig_x) equal? False\n",
      "Are the two matrices (sig_z) equal? False\n",
      "From the operator (sig_x)\n"
     ]
    },
    {
     "data": {
      "text/latex": [
       "$\\displaystyle \\left[\\begin{matrix}0.0 & 0.5 & 0.0 & 0.0\\\\0.5 & 0.0 & 0.0 & 0.0\\\\0.0 & 0.0 & 0.0 & 0.5\\\\0.0 & 0.0 & 0.5 & 0.0\\end{matrix}\\right]$"
      ],
      "text/plain": [
       "Matrix([\n",
       "[0.0, 0.5, 0.0, 0.0],\n",
       "[0.5, 0.0, 0.0, 0.0],\n",
       "[0.0, 0.0, 0.0, 0.5],\n",
       "[0.0, 0.0, 0.5, 0.0]])"
      ]
     },
     "metadata": {},
     "output_type": "display_data"
    },
    {
     "name": "stdout",
     "output_type": "stream",
     "text": [
      "From the operator (sig_z)\n"
     ]
    },
    {
     "data": {
      "text/latex": [
       "$\\displaystyle \\left[\\begin{matrix}-0.5 & 0.0 & 0.0 & 0.0\\\\0.0 & 0.5 & 0.0 & 0.0\\\\0.0 & 0.0 & -0.5 & 0.0\\\\0.0 & 0.0 & 0.0 & 0.5\\end{matrix}\\right]$"
      ],
      "text/plain": [
       "Matrix([\n",
       "[-0.5, 0.0,  0.0, 0.0],\n",
       "[ 0.0, 0.5,  0.0, 0.0],\n",
       "[ 0.0, 0.0, -0.5, 0.0],\n",
       "[ 0.0, 0.0,  0.0, 0.5]])"
      ]
     },
     "metadata": {},
     "output_type": "display_data"
    },
    {
     "name": "stdout",
     "output_type": "stream",
     "text": [
      "From tensor (sig_x)\n"
     ]
    },
    {
     "data": {
      "text/latex": [
       "$\\displaystyle \\left[\\begin{matrix}0.0 & 0.0 & 0.5 & 0.0\\\\0.0 & 0.0 & 0.0 & 0.5\\\\0.5 & 0.0 & 0.0 & 0.0\\\\0.0 & 0.5 & 0.0 & 0.0\\end{matrix}\\right]$"
      ],
      "text/plain": [
       "Matrix([\n",
       "[0.0, 0.0, 0.5, 0.0],\n",
       "[0.0, 0.0, 0.0, 0.5],\n",
       "[0.5, 0.0, 0.0, 0.0],\n",
       "[0.0, 0.5, 0.0, 0.0]])"
      ]
     },
     "metadata": {},
     "output_type": "display_data"
    },
    {
     "name": "stdout",
     "output_type": "stream",
     "text": [
      "From tensor (sig_z)\n"
     ]
    },
    {
     "data": {
      "text/latex": [
       "$\\displaystyle \\left[\\begin{matrix}-0.5 & 0.0 & 0.0 & 0.0\\\\0.0 & -0.5 & 0.0 & 0.0\\\\0.0 & 0.0 & 0.5 & 0.0\\\\0.0 & 0.0 & 0.0 & 0.5\\end{matrix}\\right]$"
      ],
      "text/plain": [
       "Matrix([\n",
       "[-0.5,  0.0, 0.0, 0.0],\n",
       "[ 0.0, -0.5, 0.0, 0.0],\n",
       "[ 0.0,  0.0, 0.5, 0.0],\n",
       "[ 0.0,  0.0, 0.0, 0.5]])"
      ]
     },
     "metadata": {},
     "output_type": "display_data"
    }
   ],
   "source": []
  },
  {
   "cell_type": "markdown",
   "metadata": {},
   "source": [
    "###### With Hamiltonian"
   ]
  },
  {
   "cell_type": "markdown",
   "metadata": {},
   "source": [
    "###### Matrix"
   ]
  },
  {
   "cell_type": "code",
   "execution_count": 21,
   "metadata": {},
   "outputs": [
    {
     "name": "stderr",
     "output_type": "stream",
     "text": [
      "100%|██████████| 20/20 [00:00<00:00, 56.47it/s]\n",
      "100%|██████████| 20/20 [00:00<00:00, 22.69it/s]\n",
      "100%|██████████| 20/20 [00:01<00:00, 11.37it/s]\n",
      "100%|██████████| 10/10 [00:02<00:00,  3.96it/s]\n",
      "100%|██████████| 6/6 [00:04<00:00,  1.23it/s]\n"
     ]
    },
    {
     "data": {
      "image/png": "[encoded data removed]",
      "text/plain": [
       "<Figure size 350x262.5 with 1 Axes>"
      ]
     },
     "metadata": {},
     "output_type": "display_data"
    }
   ],
   "source": [
    "import numpy as np\n",
    "from Algebra.Model.Interacting.Spin.qsm import QSM\n",
    "from general_python.algebra.linalg import act, overlap\n",
    "from general_python.common.plot import Plotter, colorsCycle\n",
    "from general_python.maths.statistics import Statistics, HistogramAverage, Fraction\n",
    "from Algebra.Operator.operators_spin import sig_x, sig_z, OperatorTypeActing\n",
    "import matplotlib.pyplot as plt\n",
    "from tqdm import tqdm\n",
    "\n",
    "dtype           = 'float64'\n",
    "nrealizations   = (np.array([100, 100, 100, 50, 30, 20])/5).astype(int)\n",
    "# nrealizations   = (np.array([1, 1, 1, 1, 1, 1])).astype(int)\n",
    "alpha           = 0.8\n",
    "histograms_x    = {}\n",
    "histograms_z    = {}\n",
    "diagonals_x     = {}\n",
    "diagonals_z     = {}\n",
    "energies        = {}\n",
    "nss             = [6,7,8,9,10]\n",
    "# nss             = [10, 11]\n",
    "\n",
    "# nss             = [9,10,11]\n",
    "# nrealizations   = [10]\n",
    "\n",
    "def set_histogram(hamiltonian, hist_sig_x: HistogramAverage, hist_sig_z: HistogramAverage, nbins):\n",
    "    bandwidth       = hamiltonian.get_bandwidth()\n",
    "    omax            = bandwidth * 3\n",
    "    omin            = 0.1 / hamiltonian.hilbert_size\n",
    "    tolerance       = 0.02 * bandwidth\n",
    "    hist_sig_x.reset(nbins=nbins)\n",
    "    hist_sig_x.uniform_log(v_max=omax, v_min=omin)\n",
    "    hist_sig_z.reset(nbins=nbins)\n",
    "    hist_sig_z.uniform_log(v_max=omax, v_min=omin)\n",
    "    return tolerance\n",
    "\n",
    "for ii, ns in enumerate(nss):\n",
    "    realizations    = nrealizations[ii] if ii < len(nrealizations) else nrealizations[-1]\n",
    "    energies[ns]    = []\n",
    "    diagonals_x[ns] = []\n",
    "    diagonals_z[ns] = []\n",
    "    nh              = 2**ns\n",
    "    # sites           = [0]\n",
    "    sites           = [ns - 1]\n",
    "    # sites           = [0]\n",
    "    sig_x_op        = sig_x(ns = ns, type_act = OperatorTypeActing.Global, sites = sites)\n",
    "    sig_z_op        = sig_z(ns = ns, type_act = OperatorTypeActing.Global, sites = sites)\n",
    "    sig_x_op_mat    = sig_x_op.matrix(dim = nh, matrix_type = 'sparse', use_numpy = True)\n",
    "    sig_z_op_mat    = sig_z_op.matrix(dim = nh, matrix_type = 'sparse', use_numpy = True)\n",
    "    histogram_sig_x = HistogramAverage(dtype=dtype)\n",
    "    histogram_sig_z = HistogramAverage(dtype=dtype)\n",
    "    nbins           = int(20 * np.log2(nh))\n",
    "    tolerance       = 0.0\n",
    "    for realization in tqdm(range(realizations)):\n",
    "        # print(f\"Realization {realization + 1}/{nrealizations}\")\n",
    "        hamil       = QSM(ns=ns, hilbert_space=None, n=3, a=alpha, h=1.0, xi=0.2, backend = 'np', dtype='float64')\n",
    "        hamil.build(verbose=False, use_numpy=True)\n",
    "        hamil.diagonalize(verbose=False)\n",
    "        states      = hamil.eig_vec\n",
    "        eigvals     = hamil.eig_val\n",
    "        sig_x_elems = overlap(states, states, sig_x_op_mat, backend = backend)\n",
    "        sig_z_elems = overlap(states, states, sig_z_op_mat, backend = backend)\n",
    "        diag_sig_x  = sig_x_elems.diagonal()\n",
    "        diag_sig_z  = sig_z_elems.diagonal()\n",
    "        if realization == 0:\n",
    "            tolerance = set_histogram(hamil, histogram_sig_x, histogram_sig_z, nbins)\n",
    "        # get the average energy\n",
    "        energy_at       = hamil.av_en\n",
    "        # create the f_functions by taking the middle spectrum (%)\n",
    "        w, i_idx, j_idx = Fraction.spectral_function_fraction(eigvals, energy_at, tolerance)\n",
    "        ones            = np.ones_like(sig_x_elems)\n",
    "        ones[i_idx, j_idx] = 0\n",
    "        plt.imshow(ones)\n",
    "        # fill the histogram\n",
    "        sig_x_changed   = np.abs(sig_x_elems[i_idx, j_idx])**2\n",
    "        sig_z_changed   = np.abs(sig_z_elems[i_idx, j_idx])**2\n",
    "        histogram_sig_x.append(w, sig_x_changed)\n",
    "        histogram_sig_z.append(w, sig_z_changed)\n",
    "        diagonals_x[ns].append(diag_sig_x)\n",
    "        diagonals_z[ns].append(diag_sig_z)\n",
    "        energies[ns].append(eigvals)\n",
    "    histograms_x[ns] = histogram_sig_x\n",
    "    histograms_z[ns] = histogram_sig_z\n",
    "    "
   ]
  },
  {
   "cell_type": "code",
   "execution_count": 22,
   "metadata": {},
   "outputs": [
    {
     "name": "stdout",
     "output_type": "stream",
     "text": [
      "ns = 6, gap_ratio = 0.48863644874963236\n",
      "ns = 7, gap_ratio = 0.5215722215035214\n",
      "ns = 8, gap_ratio = 0.5063610408931543\n",
      "ns = 9, gap_ratio = 0.5169201928774829\n",
      "ns = 10, gap_ratio = 0.5106269653733807\n"
     ]
    },
    {
     "data": {
      "image/png": "[encoded data removed]",
      "text/plain": [
       "<Figure size 750x750 with 4 Axes>"
      ]
     },
     "metadata": {},
     "output_type": "display_data"
    }
   ],
   "source": [
    "from general_python.physics.eigenlevels import gap_ratio\n",
    "fig, ax     = Plotter.get_subplots(nrows=2, ncols=2, sizex=5, sizey=5, dpi=150)\n",
    "\n",
    "# plot\n",
    "for ii, ns in enumerate(energies.keys()):\n",
    "    realizations = nrealizations[ii] if ii < len(nrealizations) else nrealizations[-1]\n",
    "    nh          = 2**ns\n",
    "    x           = energies[ns][0] / ns\n",
    "    # x           = np.arange(nh)\n",
    "    colors1, _, _= Plotter.get_colormap(nss, cmap='viridis')\n",
    "    colors2, _, _= Plotter.get_colormap(nss, cmap='plasma_r')\n",
    "    color1      = colors1(ns)\n",
    "    color2      = colors2(ns)\n",
    "    Plotter.scatter(ax[0], x, diagonals_x[ns][0], label=f'$L={ns}$', color=color1)\n",
    "    Plotter.scatter(ax[1], x, diagonals_z[ns][0], label=f'$L={ns}$', color=color2)\n",
    "    Plotter.set_ax_params(ax[0], xlabel='$i/L$', ylabel=r'$O_{ii}$', title=r'$\\sigma_x$')\n",
    "    Plotter.set_ax_params(ax[1], xlabel='$i/L$', ylabel=r'$O_{ii}$', title=r'$\\sigma_z$')\n",
    "\n",
    "    Plotter.scatter(ax[2], histograms_x[ns].bin_edges, histograms_x[ns].averages_av()*nh, label=f'$L={ns}$', color=color1)\n",
    "    Plotter.scatter(ax[3], histograms_z[ns].bin_edges, histograms_z[ns].averages_av()*nh, label=f'$L={ns}$', color=color2)\n",
    "    Plotter.set_ax_params(ax[2], xlabel=r'$\\omega$', lim = {'y': (1e-4, 1e2)},\n",
    "        ylabel=r'$\\mathcal{D}|O_{ij}|^2$', scale={'x': 'log', 'y': 'log'})\n",
    "    Plotter.set_ax_params(ax[3], xlabel=r'$\\omega$', lim = {'y': (1e-4, 1e2)},\n",
    "        ylabel=r'$\\mathcal{D}|O_{ij}|^2$', scale={'x': 'log', 'y': 'log'})\n",
    "    gap_ratios = [gap_ratio(energies[ns][i])['mean'] for i in range(realizations)]\n",
    "    print(f\"ns = {ns}, gap_ratio = {np.mean(gap_ratios)}\")\n",
    "    Plotter.set_legend(ax[2])\n",
    "fig.tight_layout()"
   ]
  },
  {
   "cell_type": "code",
   "execution_count": 17,
   "metadata": {},
   "outputs": [
    {
     "name": "stdout",
     "output_type": "stream",
     "text": [
      "0.496256785068507\n"
     ]
    }
   ],
   "source": [
    "\n",
    "d_en = np.diff(energies[8])\n",
    "d_en = d_en / np.mean(d_en)\n",
    "gap_ratios = np.minimum(d_en[:-1], d_en[1:]) / np.maximum(d_en[:-1], d_en[1:])\n",
    "print(np.mean(gap_ratios))\n"
   ]
  },
  {
   "cell_type": "markdown",
   "metadata": {},
   "source": [
    "# Linear algebra"
   ]
  },
  {
   "cell_type": "code",
   "execution_count": 1,
   "metadata": {},
   "outputs": [
    {
     "name": "stdout",
     "output_type": "stream",
     "text": [
      "=== Backend Initialization ===\n",
      "\tNumPy Version: 1.26.4\n",
      "\tSciPy Version: 1.13.1\n",
      "\tJAX Version: Not Available\n",
      "\t\tActive Backend: jax\n",
      "\t\tJAX Available: True\n",
      "\t\tDefault Random Key: [    0 12345]\n",
      "\tActive Backend Modules:\n",
      "\t\t\tMain Module: <module 'jax.numpy' from '/Users/makskliczkowski/miniconda3/lib/python3.12/site-packages/jax/numpy/__init__.py'>\n",
      "\t\t\tRandom Module: <module 'jax.random' from '/Users/makskliczkowski/miniconda3/lib/python3.12/site-packages/jax/random.py'>\n",
      "\t\t\tSciPy Module: <module 'jax.scipy' from '/Users/makskliczkowski/miniconda3/lib/python3.12/site-packages/jax/scipy/__init__.py'>\n",
      "=== End of Backend Info ===\n"
     ]
    },
    {
     "name": "stderr",
     "output_type": "stream",
     "text": [
      "/Users/makskliczkowski/Codes/QuantumEigenSolver/Python/QES/general_python/algebra/solvers/cg.py:1: SyntaxWarning: invalid escape sequence '\\d'\n",
      "  '''\n"
     ]
    },
    {
     "ename": "SyntaxError",
     "evalue": "invalid syntax (cg.py, line 270)",
     "output_type": "error",
     "traceback": [
      "Traceback \u001b[0;36m(most recent call last)\u001b[0m:\n",
      "\u001b[0m  File \u001b[1;32m~/miniconda3/lib/python3.12/site-packages/IPython/core/interactiveshell.py:3577\u001b[0m in \u001b[1;35mrun_code\u001b[0m\n    exec(code_obj, self.user_global_ns, self.user_ns)\u001b[0m\n",
      "\u001b[0m  Cell \u001b[1;32mIn[1], line 1\u001b[0m\n    import general_python.algebra as algebra\u001b[0m\n",
      "\u001b[0m  File \u001b[1;32m~/Codes/QuantumEigenSolver/Python/QES/general_python/__init__.py:46\u001b[0m\n    from . import algebra\u001b[0m\n",
      "\u001b[0m  File \u001b[1;32m~/Codes/QuantumEigenSolver/Python/QES/general_python/algebra/__init__.py:30\u001b[0m\n    from general_python.algebra.solvers import SolverType, generate_test_mat_vec, choose_solver\u001b[0m\n",
      "\u001b[0;36m  File \u001b[0;32m~/Codes/QuantumEigenSolver/Python/QES/general_python/algebra/solvers/__init__.py:17\u001b[0;36m\n\u001b[0;31m    from general_python.algebra.solvers.cg import CgSolver, CgSolverScipy\u001b[0;36m\n",
      "\u001b[0;36m  File \u001b[0;32m~/Codes/QuantumEigenSolver/Python/QES/general_python/algebra/solvers/cg.py:270\u001b[0;36m\u001b[0m\n\u001b[0;31m    return x, converged, iterations, np.sqrt(final_res_norm_sq)`\u001b[0m\n\u001b[0m                                                               ^\u001b[0m\n\u001b[0;31mSyntaxError\u001b[0m\u001b[0;31m:\u001b[0m invalid syntax\n"
     ]
    }
   ],
   "source": [
    "import general_python.algebra as algebra\n",
    "a = algebra.AlgebraTests(backend='jax')\n",
    "b = algebra.AlgebraTests(backend='numpy')"
   ]
  },
  {
   "cell_type": "markdown",
   "metadata": {},
   "source": [
    "## Standard tests"
   ]
  },
  {
   "cell_type": "markdown",
   "metadata": {},
   "source": [
    "### Change the basis with a unitary matrix"
   ]
  },
  {
   "cell_type": "code",
   "execution_count": null,
   "metadata": {},
   "outputs": [],
   "source": [
    "a.change_basis(verbose=True)\n",
    "b.change_basis(verbose=True)"
   ]
  },
  {
   "cell_type": "markdown",
   "metadata": {},
   "source": [
    "### Change the basis of a matrix with a unitary matrix"
   ]
  },
  {
   "cell_type": "code",
   "execution_count": null,
   "metadata": {},
   "outputs": [],
   "source": [
    "a.change_basis_matrix(verbose=True)"
   ]
  },
  {
   "cell_type": "markdown",
   "metadata": {},
   "source": [
    "### Outer product"
   ]
  },
  {
   "cell_type": "code",
   "execution_count": null,
   "metadata": {},
   "outputs": [],
   "source": [
    "a.outer(verbose=True)\n",
    "b.outer(verbose=True)"
   ]
  },
  {
   "cell_type": "markdown",
   "metadata": {},
   "source": [
    "### Kronecker product"
   ]
  },
  {
   "cell_type": "code",
   "execution_count": null,
   "metadata": {},
   "outputs": [],
   "source": [
    "a.kron(verbose=True)"
   ]
  },
  {
   "cell_type": "markdown",
   "metadata": {},
   "source": [
    "## Linear solvers"
   ]
  },
  {
   "cell_type": "markdown",
   "metadata": {},
   "source": [
    "### Test through examples"
   ]
  },
  {
   "cell_type": "code",
   "execution_count": 10,
   "metadata": {},
   "outputs": [],
   "source": [
    "a = algebra.SolversTests(backend='numpy')\n",
    "b = algebra.SolversTests(backend='jax')"
   ]
  },
  {
   "cell_type": "code",
   "execution_count": 11,
   "metadata": {},
   "outputs": [
    {
     "name": "stdout",
     "output_type": "stream",
     "text": [
      "[TEST 0] Starting solver test using cg\n"
     ]
    },
    {
     "ename": "ValueError",
     "evalue": "Unknown solver type: must be one of DIRECT, BACKEND_SOLVER, SCIPY_DIRECT, SCIPY_CJ, CJ, SCIPY_MINRES, MINRES, MINRES_QLP",
     "output_type": "error",
     "traceback": [
      "\u001b[0;31m---------------------------------------------------------------------------\u001b[0m",
      "\u001b[0;31mKeyError\u001b[0m                                  Traceback (most recent call last)",
      "File \u001b[0;32m~/Codes/QuantumEigenSolver/Python/QES/general_python/algebra/solvers/__init__.py:38\u001b[0m, in \u001b[0;36mchoose_solver\u001b[0;34m(solver_type, backend, size, eps, maxiter, reg)\u001b[0m\n\u001b[1;32m     37\u001b[0m \u001b[38;5;28;01mtry\u001b[39;00m:\n\u001b[0;32m---> 38\u001b[0m     solver_type \u001b[38;5;241m=\u001b[39m SolverType[solver_type\u001b[38;5;241m.\u001b[39mupper()]\n\u001b[1;32m     39\u001b[0m \u001b[38;5;28;01mexcept\u001b[39;00m \u001b[38;5;167;01mKeyError\u001b[39;00m \u001b[38;5;28;01mas\u001b[39;00m exc:\n",
      "File \u001b[0;32m~/miniconda3/lib/python3.12/enum.py:801\u001b[0m, in \u001b[0;36mEnumType.__getitem__\u001b[0;34m(cls, name)\u001b[0m\n\u001b[1;32m    798\u001b[0m \u001b[38;5;250m\u001b[39m\u001b[38;5;124;03m\"\"\"\u001b[39;00m\n\u001b[1;32m    799\u001b[0m \u001b[38;5;124;03mReturn the member matching `name`.\u001b[39;00m\n\u001b[1;32m    800\u001b[0m \u001b[38;5;124;03m\"\"\"\u001b[39;00m\n\u001b[0;32m--> 801\u001b[0m \u001b[38;5;28;01mreturn\u001b[39;00m \u001b[38;5;28mcls\u001b[39m\u001b[38;5;241m.\u001b[39m_member_map_[name]\n",
      "\u001b[0;31mKeyError\u001b[0m: 'CG'",
      "\nThe above exception was the direct cause of the following exception:\n",
      "\u001b[0;31mValueError\u001b[0m                                Traceback (most recent call last)",
      "Cell \u001b[0;32mIn[11], line 1\u001b[0m\n\u001b[0;32m----> 1\u001b[0m a\u001b[38;5;241m.\u001b[39msolver_test()\n",
      "File \u001b[0;32m~/Codes/QuantumEigenSolver/Python/QES/general_python/algebra/__init__.py:364\u001b[0m, in \u001b[0;36mSolversTests.solver_test\u001b[0;34m(self, make_random, symmetric, solver_type, eps, max_iter, reg, precond_type, dtype)\u001b[0m\n\u001b[1;32m    361\u001b[0m a, b    \u001b[38;5;241m=\u001b[39m generate_test_mat_vec(make_random, symmetric, dtype\u001b[38;5;241m=\u001b[39mdtype, backend\u001b[38;5;241m=\u001b[39m\u001b[38;5;28mself\u001b[39m\u001b[38;5;241m.\u001b[39mbackend)\n\u001b[1;32m    363\u001b[0m \u001b[38;5;66;03m# Instantiate the chosen solver.\u001b[39;00m\n\u001b[0;32m--> 364\u001b[0m solver  \u001b[38;5;241m=\u001b[39m choose_solver(solver_type, backend\u001b[38;5;241m=\u001b[39m\u001b[38;5;28mself\u001b[39m\u001b[38;5;241m.\u001b[39mbackend, size\u001b[38;5;241m=\u001b[39ma\u001b[38;5;241m.\u001b[39mshape[\u001b[38;5;241m1\u001b[39m], eps\u001b[38;5;241m=\u001b[39meps, maxiter\u001b[38;5;241m=\u001b[39mmax_iter, reg\u001b[38;5;241m=\u001b[39mreg)\n\u001b[1;32m    366\u001b[0m solver\u001b[38;5;241m.\u001b[39minit_from_matrix(a, b, \u001b[38;5;28;01mNone\u001b[39;00m, reg)\n\u001b[1;32m    368\u001b[0m \u001b[38;5;66;03m# Create a preconditioner if requested.\u001b[39;00m\n",
      "File \u001b[0;32m~/Codes/QuantumEigenSolver/Python/QES/general_python/algebra/solvers/__init__.py:40\u001b[0m, in \u001b[0;36mchoose_solver\u001b[0;34m(solver_type, backend, size, eps, maxiter, reg)\u001b[0m\n\u001b[1;32m     38\u001b[0m         solver_type \u001b[38;5;241m=\u001b[39m SolverType[solver_type\u001b[38;5;241m.\u001b[39mupper()]\n\u001b[1;32m     39\u001b[0m     \u001b[38;5;28;01mexcept\u001b[39;00m \u001b[38;5;167;01mKeyError\u001b[39;00m \u001b[38;5;28;01mas\u001b[39;00m exc:\n\u001b[0;32m---> 40\u001b[0m         \u001b[38;5;28;01mraise\u001b[39;00m \u001b[38;5;167;01mValueError\u001b[39;00m(_SOL_TYPE_ERROR) \u001b[38;5;28;01mfrom\u001b[39;00m \u001b[38;5;21;01mexc\u001b[39;00m\n\u001b[1;32m     42\u001b[0m \u001b[38;5;28;01mif\u001b[39;00m solver_type \u001b[38;5;241m==\u001b[39m SolverType\u001b[38;5;241m.\u001b[39mDIRECT:\n\u001b[1;32m     43\u001b[0m     \u001b[38;5;28;01mreturn\u001b[39;00m DirectSolver(backend\u001b[38;5;241m=\u001b[39mbackend, size\u001b[38;5;241m=\u001b[39msize, eps\u001b[38;5;241m=\u001b[39meps, maxiter\u001b[38;5;241m=\u001b[39mmaxiter, reg\u001b[38;5;241m=\u001b[39mreg)\n",
      "\u001b[0;31mValueError\u001b[0m: Unknown solver type: must be one of DIRECT, BACKEND_SOLVER, SCIPY_DIRECT, SCIPY_CJ, CJ, SCIPY_MINRES, MINRES, MINRES_QLP"
     ]
    }
   ],
   "source": [
    "a.solver_test()"
   ]
  },
  {
   "cell_type": "code",
   "execution_count": null,
   "metadata": {},
   "outputs": [],
   "source": []
  },
  {
   "cell_type": "markdown",
   "metadata": {},
   "source": [
    "# Binary "
   ]
  },
  {
   "cell_type": "markdown",
   "metadata": {},
   "source": [
    "### Standard tests"
   ]
  },
  {
   "cell_type": "code",
   "execution_count": 1,
   "metadata": {},
   "outputs": [
    {
     "name": "stdout",
     "output_type": "stream",
     "text": [
      "=== Backend Initialization ===\n",
      "\tNumPy Version: 1.26.4\n",
      "\tSciPy Version: 1.13.1\n",
      "\tJAX Version: Not Available\n",
      "\t\tActive Backend: jax\n",
      "\t\tJAX Available: True\n",
      "\t\tDefault Random Key: [    0 12345]\n",
      "\tActive Backend Modules:\n",
      "\t\t\tMain Module: <module 'jax.numpy' from '/Users/makskliczkowski/miniconda3/lib/python3.12/site-packages/jax/numpy/__init__.py'>\n",
      "\t\t\tRandom Module: <module 'jax.random' from '/Users/makskliczkowski/miniconda3/lib/python3.12/site-packages/jax/random.py'>\n",
      "\t\t\tSciPy Module: <module 'jax.scipy' from '/Users/makskliczkowski/miniconda3/lib/python3.12/site-packages/jax/scipy/__init__.py'>\n",
      "=== End of Backend Info ===\n"
     ]
    },
    {
     "name": "stderr",
     "output_type": "stream",
     "text": [
      "23_03_2025_19-24_27 [INFO] Log file created: ./log/global.log\n",
      "23_03_2025_19-24_27 [INFO] Log level set to: info\n",
      "23_03_2025_19-24_27 [INFO] ########### Global logger initialized. ###########\n"
     ]
    }
   ],
   "source": [
    "from general_python.common import binary\n",
    "NUM         = 42\n",
    "tests       = binary.BinaryFunctionTests()"
   ]
  },
  {
   "cell_type": "code",
   "execution_count": 2,
   "metadata": {},
   "outputs": [
    {
     "data": {
      "text/plain": [
       "('11111111', 1, 128, '10000000', 128)"
      ]
     },
     "execution_count": 2,
     "metadata": {},
     "output_type": "execute_result"
    }
   ],
   "source": [
    "import numpy as np\n",
    "integer     = np.int64(255)\n",
    "integer     = 255\n",
    "ns          = 8\n",
    "i           = 0\n",
    "pos         = ns - 1 - i\n",
    "checked     = binary.check_int(integer, pos)\n",
    "\n",
    "binary.int2binstr(integer, ns), checked, (1 << pos), binary.int2binstr((1 << pos), ns), integer & (1 << pos)"
   ]
  },
  {
   "cell_type": "code",
   "execution_count": null,
   "metadata": {},
   "outputs": [],
   "source": [
    "tests.run_tests(NUM, spin_value = binary._BACKENDREPR)"
   ]
  },
  {
   "cell_type": "code",
   "execution_count": null,
   "metadata": {},
   "outputs": [],
   "source": [
    "tests.run_tests(NUM, spin_value = binary._BACKENDREPR, backend = 'np')"
   ]
  },
  {
   "cell_type": "markdown",
   "metadata": {},
   "source": [
    "### Test JAX"
   ]
  },
  {
   "cell_type": "code",
   "execution_count": null,
   "metadata": {},
   "outputs": [],
   "source": [
    "from algebra import get_backend\n",
    "import time \n",
    "from jax import numpy as jnp, random as jnpr\n",
    "import numpy as np, numpy.random as npr\n",
    "from jax import jit\n",
    "\n",
    "seed = 1701\n",
    "\n",
    "# Test the speed of the matrix multiplication\n",
    "key_np = npr.seed(seed)\n",
    "key_jnp = jnpr.key(seed)\n",
    "size = 5000\n",
    "\n",
    "def matrix_mult_test_jax(size=size):\n",
    "    random_mat  = jnpr.normal(key_jnp, (size, size))\n",
    "    vec         = jnpr.normal(key_jnp, (size,))\n",
    "    result      = random_mat @ vec\n",
    "    print(\"Result of matrix-vector multiplication:\\n\", result)\n",
    "    \n",
    "def matrix_mult_test_numpy(size = size):\n",
    "    random_mat  = npr.normal(size=(size, size))\n",
    "    vec         = npr.normal(size=(size,))\n",
    "    result      = random_mat @ vec\n",
    "    print(\"Result of matrix-vector multiplication:\\n\", result)\n",
    "    \n",
    "@jit\n",
    "def matrix_mult_test_jax_jit():\n",
    "    random_mat  = jnpr.normal(key_jnp, (size, size))\n",
    "    vec         = jnpr.normal(key_jnp, (size,))\n",
    "    result      = random_mat @ vec\n",
    "    print(\"Result of matrix-vector multiplication:\\n\", result)\n"
   ]
  },
  {
   "cell_type": "markdown",
   "metadata": {},
   "source": [
    "#### Numpy"
   ]
  },
  {
   "cell_type": "code",
   "execution_count": null,
   "metadata": {},
   "outputs": [],
   "source": [
    "start_time = time.time()\n",
    "matrix_mult_test_numpy()\n",
    "end_time = time.time()\n",
    "print(f\"Time taken: {end_time - start_time:.4f} seconds (numpy)\")"
   ]
  },
  {
   "cell_type": "markdown",
   "metadata": {},
   "source": [
    "#### Jax"
   ]
  },
  {
   "cell_type": "code",
   "execution_count": null,
   "metadata": {},
   "outputs": [],
   "source": [
    "start_time = time.time()\n",
    "matrix_mult_test_jax()\n",
    "end_time = time.time()\n",
    "print(f\"Time taken: {end_time - start_time:.4f} seconds (jax)\")"
   ]
  },
  {
   "cell_type": "markdown",
   "metadata": {},
   "source": [
    "#### Jax jit"
   ]
  },
  {
   "cell_type": "code",
   "execution_count": null,
   "metadata": {},
   "outputs": [],
   "source": [
    "start_time = time.time()\n",
    "matrix_mult_test_jax_jit()\n",
    "end_time = time.time()  \n",
    "print(f\"Time taken: {end_time - start_time:.4f} seconds (jax, jitted)\")"
   ]
  },
  {
   "cell_type": "markdown",
   "metadata": {},
   "source": [
    "# Lattice\n"
   ]
  },
  {
   "cell_type": "code",
   "execution_count": null,
   "metadata": {},
   "outputs": [],
   "source": [
    "from lattices import Lattice, run_lattice_tests\n",
    "\n",
    "# Run tests for different configurations\n",
    "# run_lattice_tests(dim=1, lx=10, ly=1, lz=1, bc=lattices.LatticeBC.PBC, typek=\"square\")\n",
    "# run_lattice_tests(dim=2, lx=5, ly=3, lz=1, bc=lattices.LatticeBC.PBC, typek=\"square\")\n",
    "# run_lattice_tests(dim=2, lx=5, ly=5, lz=1, bc=lattices.LatticeBC.OBC, typek=\"square\")\n",
    "# run_lattice_tests(dim=3, lx=3, ly=3, lz=3, bc=lattices.LatticeBC.PBC, typek=\"square\")\n",
    "run_lattice_tests(dim=2, lx=3, ly=2, lz=1, bc=lattices.LatticeBC.PBC, typek=\"honeycomb\")"
   ]
  },
  {
   "cell_type": "code",
   "execution_count": null,
   "metadata": {},
   "outputs": [],
   "source": [
    "import numpy as np \n",
    "import matplotlib.pyplot as plt\n",
    "\n",
    "plt.figure(figsize=(8,8))\n",
    "\n",
    "a = 1\n",
    "b = 1\n",
    "c = 1\n",
    "\n",
    "Lx = 4\n",
    "Ly = 2\n",
    "Ns = 2 * Lx * Ly\n",
    "\n",
    "_a1 = np.array([np.sqrt(3) * a / 2.0, 3 * a / 2.0, 0])\n",
    "_a2 = np.array([np.sqrt(3) * a / 2.0, -3 * a / 2.0, 0])\n",
    "_a3 = np.array([0, 0, c])\n",
    "\n",
    "\n",
    "\n",
    "coords      = []\n",
    "move_vector = _a1 - np.array([0, a, 0])\n",
    "for i in range(Ns):\n",
    "    # get the unit cell on a square lattic\n",
    "    x = (i // 2) % Lx\n",
    "    y = ((i//2) // Lx) % Ly\n",
    "    \n",
    "    # from coorditates to position on the lattice\n",
    "    xy = np.array([0., 0, 0]) if i % 2 == 0 else move_vector\n",
    "    xy += x * (_a1 + _a2) + y * _a1\n",
    "    xp, yp = xy[0], xy[1]\n",
    "    print(xp, yp)\n",
    "    plt.scatter(xp, yp, color='red' if i % 2 == 0 else 'blue', marker='o', s=100, facecolor='none')\n",
    "    plt.text(xp + 0.1, yp + 0.1, i)\n",
    "    \n",
    "    print(\"Ns=\", i, \"-- (x,y)=\", x, y)\n",
    "\n",
    "\n",
    "plt.arrow(0, 0, _a1[0], _a1[1], head_width=0.1, head_length=0.1, fc='r', ec='r')\n",
    "plt.arrow(0, 0, _a2[0], _a2[1], head_width=0.1, head_length=0.1, fc='b', ec='b')\n",
    "# plt.arrow(0, 0, _a1[0] - _a2[0], _a1[1] - _a2[1], head_width=0.1, head_length=0.1, fc='g', ec='g')\n",
    "# plt.arrow(0, 0, _a1[0] + _a2[0], _a1[1] + _a2[1], head_width=0.1, head_length=0.1, fc='y', ec='y')\n",
    "# plt.arrow(0, 0, -_a1[0] + _a2[0], -_a1[1] + _a2[1], head_width=0.1, head_length=0.1, fc='m', ec='m')\n",
    "# plt.arrow(0, 0, -_a1[0] - _a2[0], -_a1[1] - _a2[1], head_width=0.1, head_length=0.1, fc='c', ec='c')\n"
   ]
  },
  {
   "cell_type": "code",
   "execution_count": null,
   "metadata": {},
   "outputs": [],
   "source": []
  },
  {
   "cell_type": "markdown",
   "metadata": {},
   "source": [
    "# NQS"
   ]
  },
  {
   "cell_type": "markdown",
   "metadata": {},
   "source": [
    "## Sampler\n",
    "\n",
    "<!-- #### Code Overview\n",
    "\n",
    "This code sets up a computational experiment by combining a simple neural network with Monte Carlo sampling. Below is a breakdown of the major steps and components.\n",
    "\n",
    "---\n",
    "\n",
    "##### 1. Module Imports\n",
    "\n",
    "- **Monte Carlo Sampling:**  \n",
    "  The module `Solver.MonteCarlo.sampler` is imported as `Sampling` to provide Monte Carlo sampling functionality.\n",
    "\n",
    "- **Backend Utilities:**  \n",
    "  `get_backend` from `general_python.algebra.utils` is used to select a computational backend (e.g., NumPy) and obtain associated random number generators.\n",
    "\n",
    "- **Neural Network Implementation:**  \n",
    "  `SimpleNet` from `general_python.ml.net_impl.net_simple` is imported as a basic neural network class used for experimentation.\n",
    "\n",
    "- **NumPy:**  \n",
    "  Imported as `np` to support numerical operations.\n",
    "\n",
    "---\n",
    "\n",
    "##### 2. Backend Setup\n",
    "\n",
    "- **Selection & Seed:**\n",
    "  - **Backend:** Set to `\"np\"` (NumPy).\n",
    "  - **Seed:** A seed of `1701` is specified to ensure reproducibility.\n",
    "\n",
    "- **Obtaining Backend Modules:**  \n",
    "  The function `get_backend` is called with parameters to ensure randomness (and optionally SciPy support). Its output is unpacked into:\n",
    "  - `backend_np`: The NumPy backend.\n",
    "  - `(rng, rng_k)`: Random number generators.\n",
    "  - `backend_sp`: The SciPy backend (if available).\n",
    "\n",
    "---\n",
    "\n",
    "##### 3. Neural Network Configuration\n",
    "\n",
    "- **State Shape:**  \n",
    "  The input to the network is defined as a 10-dimensional vector (`st_shape = (10,)`).\n",
    "\n",
    "- **Activation Functions:**  \n",
    "  Two activation functions are specified: `'relu'` and `'sigmoid'`.\n",
    "\n",
    "- **Network Initialization:**  \n",
    "  A `SimpleNet` instance is created with:\n",
    "  - **Input Shape:** `(10,)`\n",
    "  - **Output Shape:** `(1,)`\n",
    "  - **Layers:** A tuple `(5,)` indicating the network has 5 layers.\n",
    "  - **Backend:** Specified as `'np'`.\n",
    "  - **Data Type:** `'complex128'`, enabling complex-valued computations.\n",
    "\n",
    "---\n",
    "\n",
    "##### 4. Monte Carlo Sampler Configuration\n",
    "\n",
    "- **Sampler Initialization:**  \n",
    "  An instance of `Sampling.MCSampler` is created to perform Monte Carlo sampling on the neural network.\n",
    "\n",
    "- **Key Parameters:**\n",
    "  - **Network (`net`):** The previously defined `SimpleNet` instance.\n",
    "  - **Shape:** The state shape `(10,)`.\n",
    "  - **Random Number Generators:** `rng` and `rng_k` ensure randomness in the sampling process.\n",
    "  - **Chains & Samples:** Configured to run 10 chains with 5 samples each.\n",
    "  - **Sweep Steps & Thermalization:** Set to 10 steps each, controlling the progression and stabilization of the Monte Carlo simulation.\n",
    "  - **Backend:** Uses the specified NumPy backend.\n",
    "\n",
    "---\n",
    "\n",
    "##### 5. Final Outcome\n",
    "\n",
    "The final product is the `sampler` object, which encapsulates both the neural network and the Monte Carlo sampling parameters. This setup is ready to run experiments, allowing exploration of the network's state space through stochastic sampling.\n",
    "\n",
    "---\n",
    "\n",
    "**Summary:**  \n",
    "This code initializes a complex-valued neural network and configures a Monte Carlo sampler to perform experiments. It ensures reproducibility with a fixed seed and leverages a specified backend (NumPy) along with associated random number generators, thereby preparing the system for robust computational experiments. -->\n"
   ]
  },
  {
   "cell_type": "code",
   "execution_count": 1,
   "metadata": {},
   "outputs": [
    {
     "name": "stdout",
     "output_type": "stream",
     "text": [
      "=== Backend Initialization ===\n",
      "\tNumPy Version: 1.26.4\n",
      "\tSciPy Version: 1.13.1\n",
      "\tJAX Version: Not Available\n",
      "\t\tActive Backend: jax\n",
      "\t\tJAX Available: True\n",
      "\t\tDefault Random Key: [    0 12345]\n",
      "\tActive Backend Modules:\n",
      "\t\t\tMain Module: <module 'jax.numpy' from '/Users/makskliczkowski/miniconda3/lib/python3.12/site-packages/jax/numpy/__init__.py'>\n",
      "\t\t\tRandom Module: <module 'jax.random' from '/Users/makskliczkowski/miniconda3/lib/python3.12/site-packages/jax/random.py'>\n",
      "\t\t\tSciPy Module: <module 'jax.scipy' from '/Users/makskliczkowski/miniconda3/lib/python3.12/site-packages/jax/scipy/__init__.py'>\n",
      "=== End of Backend Info ===\n"
     ]
    },
    {
     "data": {
      "text/plain": [
       "MCSampler(shape=(10,), mu=2.0, beta=1.0, therm_steps=10, sweep_steps=10, numsamples=5, numchains=10, backend=jax)"
      ]
     },
     "execution_count": 1,
     "metadata": {},
     "output_type": "execute_result"
    }
   ],
   "source": [
    "import Solver.MonteCarlo.sampler as Sampling\n",
    "from general_python.algebra.utils import get_backend\n",
    "from general_python.ml.net_impl.net_simple import SimpleNet\n",
    "import numpy as np\n",
    "\n",
    "# get random backend\n",
    "backend                                 = 'jax'\n",
    "seed                                    = 1701\n",
    "be_modules                              = get_backend(backend, random=True, seed=seed, scipy=True)\n",
    "backend_np, (rng, rng_k), backend_sp    = be_modules if isinstance(be_modules, tuple) else (be_modules, (None, None), None)\n",
    "\n",
    "ns                                      = 10\n",
    "st_shape                                = (ns, )\n",
    "activations                             = ('relu', 'sigmoid')\n",
    "net                                     = SimpleNet(act_fun =   activations, \n",
    "                                            input_shape     =   st_shape, \n",
    "                                            output_shape    =   (1, ),\n",
    "                                            layers          =   (5, ),\n",
    "                                            backend=backend, dtype='complex128',)\n",
    "            # [random.random() + 1j * random.random() for _ in range(x.shape[0])])\n",
    "# a simple callable network function\n",
    "\n",
    "sampler = Sampling.MCSampler(\n",
    "    net         = net,\n",
    "    shape       = st_shape,\n",
    "    rng         = rng,\n",
    "    rng_k       = rng_k,\n",
    "    numchains   = 10,\n",
    "    numsamples  = 5,\n",
    "    sweep_steps = 10,\n",
    "    backend     = backend,\n",
    "    therm_steps = 10,\n",
    ")\n",
    "\n",
    "sampler"
   ]
  },
  {
   "cell_type": "code",
   "execution_count": 4,
   "metadata": {},
   "outputs": [],
   "source": [
    "# check how the sampler performs\n",
    "(states, logprobas), (configs, configs_ansatze), probabilities = sampler.sample()"
   ]
  },
  {
   "cell_type": "code",
   "execution_count": 5,
   "metadata": {},
   "outputs": [
    {
     "data": {
      "text/plain": [
       "((10, 10), (10,))"
      ]
     },
     "execution_count": 5,
     "metadata": {},
     "output_type": "execute_result"
    }
   ],
   "source": [
    "# final states after sampling, ansatze after sampling\n",
    "states.shape, logprobas.shape"
   ]
  },
  {
   "cell_type": "code",
   "execution_count": 6,
   "metadata": {},
   "outputs": [
    {
     "data": {
      "text/plain": [
       "((50, 10), (50, 1), (50, 1))"
      ]
     },
     "execution_count": 6,
     "metadata": {},
     "output_type": "execute_result"
    }
   ],
   "source": [
    "configs.shape, configs_ansatze.shape, probabilities.shape"
   ]
  },
  {
   "cell_type": "markdown",
   "metadata": {},
   "source": [
    "### Flow"
   ]
  },
  {
   "cell_type": "markdown",
   "metadata": {},
   "source": [
    "#### Standard"
   ]
  },
  {
   "cell_type": "code",
   "execution_count": 7,
   "metadata": {},
   "outputs": [
    {
     "name": "stdout",
     "output_type": "stream",
     "text": [
      "Detailed Flow of the Configurations:\n",
      "\n",
      "  Total number of configurations: 50\n",
      "  Total number of states: 10\n",
      "  Total number of probabilities: 50\n",
      "\n",
      "--- Configuration flow 0 ---\n",
      "     Configuration \\(\\mathbf{S}_{0}\\):\n"
     ]
    },
    {
     "data": {
      "text/latex": [
       "$\\displaystyle \\left[\\begin{matrix}0.5\\\\-0.5\\\\0.5\\\\-0.5\\\\-0.5\\\\-0.5\\\\0.5\\\\-0.5\\\\-0.5\\\\0.5\\end{matrix}\\right]$"
      ],
      "text/plain": [
       "Matrix([\n",
       "[ 0.5],\n",
       "[-0.5],\n",
       "[ 0.5],\n",
       "[-0.5],\n",
       "[-0.5],\n",
       "[-0.5],\n",
       "[ 0.5],\n",
       "[-0.5],\n",
       "[-0.5],\n",
       "[ 0.5]])"
      ]
     },
     "metadata": {},
     "output_type": "display_data"
    },
    {
     "name": "stdout",
     "output_type": "stream",
     "text": [
      "    Ansatz \\(f(\\mathbf{S}_{0})\\):\n"
     ]
    },
    {
     "data": {
      "text/latex": [
       "$\\displaystyle \\left[\\begin{matrix}1.22454006754276 - 1.09960434372059 i\\end{matrix}\\right]$"
      ],
      "text/plain": [
       "Matrix([[1.22454006754276 - 1.09960434372059*I]])"
      ]
     },
     "metadata": {},
     "output_type": "display_data"
    },
    {
     "name": "stdout",
     "output_type": "stream",
     "text": [
      "    Probability \\(P(\\mathbf{S}_{0})\\):\n"
     ]
    },
    {
     "data": {
      "text/latex": [
       "$\\displaystyle \\left[\\begin{matrix}1.0\\end{matrix}\\right]$"
      ],
      "text/plain": [
       "Matrix([[1.0]])"
      ]
     },
     "metadata": {},
     "output_type": "display_data"
    },
    {
     "name": "stdout",
     "output_type": "stream",
     "text": [
      "\n",
      "--------------------------------------------------\n",
      "\n",
      "--- Configuration flow 1 ---\n",
      "     Configuration \\(\\mathbf{S}_{1}\\):\n"
     ]
    },
    {
     "data": {
      "text/latex": [
       "$\\displaystyle \\left[\\begin{matrix}-0.5\\\\-0.5\\\\0.5\\\\0.5\\\\0.5\\\\0.5\\\\0.5\\\\0.5\\\\0.5\\\\-0.5\\end{matrix}\\right]$"
      ],
      "text/plain": [
       "Matrix([\n",
       "[-0.5],\n",
       "[-0.5],\n",
       "[ 0.5],\n",
       "[ 0.5],\n",
       "[ 0.5],\n",
       "[ 0.5],\n",
       "[ 0.5],\n",
       "[ 0.5],\n",
       "[ 0.5],\n",
       "[-0.5]])"
      ]
     },
     "metadata": {},
     "output_type": "display_data"
    },
    {
     "name": "stdout",
     "output_type": "stream",
     "text": [
      "    Ansatz \\(f(\\mathbf{S}_{1})\\):\n"
     ]
    },
    {
     "data": {
      "text/latex": [
       "$\\displaystyle \\left[\\begin{matrix}0.694983664887653 + 0.177165839037739 i\\end{matrix}\\right]$"
      ],
      "text/plain": [
       "Matrix([[0.694983664887653 + 0.177165839037739*I]])"
      ]
     },
     "metadata": {},
     "output_type": "display_data"
    },
    {
     "name": "stdout",
     "output_type": "stream",
     "text": [
      "    Probability \\(P(\\mathbf{S}_{1})\\):\n"
     ]
    },
    {
     "data": {
      "text/latex": [
       "$\\displaystyle \\left[\\begin{matrix}1.0\\end{matrix}\\right]$"
      ],
      "text/plain": [
       "Matrix([[1.0]])"
      ]
     },
     "metadata": {},
     "output_type": "display_data"
    },
    {
     "name": "stdout",
     "output_type": "stream",
     "text": [
      "\n",
      "--------------------------------------------------\n",
      "\n",
      "--- Configuration flow 2 ---\n",
      "     Configuration \\(\\mathbf{S}_{2}\\):\n"
     ]
    },
    {
     "data": {
      "text/latex": [
       "$\\displaystyle \\left[\\begin{matrix}0.5\\\\-0.5\\\\0.5\\\\-0.5\\\\0.5\\\\-0.5\\\\-0.5\\\\0.5\\\\0.5\\\\-0.5\\end{matrix}\\right]$"
      ],
      "text/plain": [
       "Matrix([\n",
       "[ 0.5],\n",
       "[-0.5],\n",
       "[ 0.5],\n",
       "[-0.5],\n",
       "[ 0.5],\n",
       "[-0.5],\n",
       "[-0.5],\n",
       "[ 0.5],\n",
       "[ 0.5],\n",
       "[-0.5]])"
      ]
     },
     "metadata": {},
     "output_type": "display_data"
    },
    {
     "name": "stdout",
     "output_type": "stream",
     "text": [
      "    Ansatz \\(f(\\mathbf{S}_{2})\\):\n"
     ]
    },
    {
     "data": {
      "text/latex": [
       "$\\displaystyle \\left[\\begin{matrix}0.935409115994354 + 0.0499749979989821 i\\end{matrix}\\right]$"
      ],
      "text/plain": [
       "Matrix([[0.935409115994354 + 0.0499749979989821*I]])"
      ]
     },
     "metadata": {},
     "output_type": "display_data"
    },
    {
     "name": "stdout",
     "output_type": "stream",
     "text": [
      "    Probability \\(P(\\mathbf{S}_{2})\\):\n"
     ]
    },
    {
     "data": {
      "text/latex": [
       "$\\displaystyle \\left[\\begin{matrix}1.0\\end{matrix}\\right]$"
      ],
      "text/plain": [
       "Matrix([[1.0]])"
      ]
     },
     "metadata": {},
     "output_type": "display_data"
    },
    {
     "name": "stdout",
     "output_type": "stream",
     "text": [
      "\n",
      "--------------------------------------------------\n",
      "\n"
     ]
    }
   ],
   "source": [
    "from general_python.common.plot import MatrixPrinter\n",
    "\n",
    "print(\"Detailed Flow of the Configurations:\\n\")\n",
    "print(f\"  Total number of configurations: {len(configs)}\")\n",
    "print(f\"  Total number of states: {len(states)}\")\n",
    "print(f\"  Total number of probabilities: {len(probabilities)}\\n\")\n",
    "\n",
    "for i in range(len(configs[:3])):\n",
    "    print(f\"--- Configuration flow {i} ---\")\n",
    "    print(\"     Configuration \\\\(\\\\mathbf{S}_{\" + f\"{i}\" + \"}\\\\):\")\n",
    "    MatrixPrinter.print_vector(configs[i])\n",
    "    \n",
    "    print(\"    Ansatz \\\\(f(\\\\mathbf{S}_{\" + f\"{i}\" + \"})\\\\):\")\n",
    "    MatrixPrinter.print_vector(configs_ansatze[i].T)\n",
    "    \n",
    "    print(\"    Probability \\\\(P(\\\\mathbf{S}_{\" + f\"{i}\" + \"})\\\\):\")\n",
    "    MatrixPrinter.print_vector(probabilities[i].T)\n",
    "    print(\"\\n\" + \"-\" * 50 + \"\\n\")\n"
   ]
  },
  {
   "cell_type": "markdown",
   "metadata": {},
   "source": [
    "#### Flattened"
   ]
  },
  {
   "cell_type": "code",
   "execution_count": 21,
   "metadata": {},
   "outputs": [
    {
     "name": "stdout",
     "output_type": "stream",
     "text": [
      "Shape of flattened configurations (𝒞): (50, 10)\n",
      "Shape of flattened ansatze (f(𝒞)): (50,)\n",
      "\n",
      "Detailed flow of the configurations:\n",
      "Number of configurations: 50\n",
      "\n",
      "--- Configuration 0 ---\n",
      "\tConfiguration (𝒞):\n",
      "\t [ 0.5 -0.5 -0.5 -0.5  0.5 -0.5 -0.5 -0.5 -0.5  0.5]\n",
      "'\tAnsatz from sampler (f(𝒞)):\n",
      "\t (0.9988898051454899+0.0012479485129088428j)\n"
     ]
    },
    {
     "ename": "KeyError",
     "evalue": "\"Parameters must contain 'layers' key.\"",
     "output_type": "error",
     "traceback": [
      "\u001b[0;31m---------------------------------------------------------------------------\u001b[0m",
      "\u001b[0;31mKeyError\u001b[0m                                  Traceback (most recent call last)",
      "Cell \u001b[0;32mIn[21], line 41\u001b[0m\n\u001b[1;32m     39\u001b[0m \u001b[38;5;66;03m# Compute the ansatz from the network using the configuration.\u001b[39;00m\n\u001b[1;32m     40\u001b[0m \u001b[38;5;28mprint\u001b[39m(\u001b[38;5;124m\"\u001b[39m\u001b[38;5;130;01m\\t\u001b[39;00m\u001b[38;5;124m\"\u001b[39m, configs_ansatze_flat[i])\n\u001b[0;32m---> 41\u001b[0m ansatz_net \u001b[38;5;241m=\u001b[39m net(configs_flat[i])\n\u001b[1;32m     42\u001b[0m \u001b[38;5;28mprint\u001b[39m(\u001b[38;5;124m\"\u001b[39m\u001b[38;5;130;01m\\t\u001b[39;00m\u001b[38;5;124mAnsatz from the network:\u001b[39m\u001b[38;5;124m\"\u001b[39m)\n\u001b[1;32m     43\u001b[0m \u001b[38;5;28mprint\u001b[39m(\u001b[38;5;124m\"\u001b[39m\u001b[38;5;130;01m\\t\u001b[39;00m\u001b[38;5;124m\"\u001b[39m, ansatz_net)\n",
      "File \u001b[0;32m~/Codes/QuantumEigenSolver/Python/QES/general_python/ml/net_impl/net_general.py:359\u001b[0m, in \u001b[0;36mGeneralNet.__call__\u001b[0;34m(self, params, x)\u001b[0m\n\u001b[1;32m    348\u001b[0m \u001b[38;5;28;01mdef\u001b[39;00m \u001b[38;5;21m__call__\u001b[39m(\u001b[38;5;28mself\u001b[39m, params \u001b[38;5;241m=\u001b[39m \u001b[38;5;28;01mNone\u001b[39;00m, x: \u001b[38;5;124m'\u001b[39m\u001b[38;5;124marray-like\u001b[39m\u001b[38;5;124m'\u001b[39m \u001b[38;5;241m=\u001b[39m \u001b[38;5;28;01mNone\u001b[39;00m) \u001b[38;5;241m-\u001b[39m\u001b[38;5;241m>\u001b[39m \u001b[38;5;124m'\u001b[39m\u001b[38;5;124marray-like\u001b[39m\u001b[38;5;124m'\u001b[39m:\n\u001b[1;32m    349\u001b[0m \u001b[38;5;250m    \u001b[39m\u001b[38;5;124;03m\"\"\"\u001b[39;00m\n\u001b[1;32m    350\u001b[0m \u001b[38;5;124;03m    Apply the network to an input batch.\u001b[39;00m\n\u001b[1;32m    351\u001b[0m \u001b[38;5;124;03m    \u001b[39;00m\n\u001b[0;32m   (...)\u001b[0m\n\u001b[1;32m    357\u001b[0m \u001b[38;5;124;03m        array-like: Output of the network.\u001b[39;00m\n\u001b[1;32m    358\u001b[0m \u001b[38;5;124;03m    \"\"\"\u001b[39;00m\n\u001b[0;32m--> 359\u001b[0m     \u001b[38;5;28;01mreturn\u001b[39;00m \u001b[38;5;28mself\u001b[39m\u001b[38;5;241m.\u001b[39mapply(params\u001b[38;5;241m=\u001b[39mparams, x\u001b[38;5;241m=\u001b[39mx, use_jax\u001b[38;5;241m=\u001b[39m\u001b[38;5;28mself\u001b[39m\u001b[38;5;241m.\u001b[39m_use_jax)\n",
      "File \u001b[0;32m~/Codes/QuantumEigenSolver/Python/QES/general_python/ml/net_impl/net_general.py:319\u001b[0m, in \u001b[0;36mGeneralNet.apply\u001b[0;34m(self, params, x, use_jax)\u001b[0m\n\u001b[1;32m    308\u001b[0m \u001b[38;5;250m\u001b[39m\u001b[38;5;124;03m\"\"\"\u001b[39;00m\n\u001b[1;32m    309\u001b[0m \u001b[38;5;124;03mApply the network to the input data.\u001b[39;00m\n\u001b[1;32m    310\u001b[0m \u001b[38;5;124;03m\u001b[39;00m\n\u001b[0;32m   (...)\u001b[0m\n\u001b[1;32m    316\u001b[0m \u001b[38;5;124;03m    array-like: Output of the network.\u001b[39;00m\n\u001b[1;32m    317\u001b[0m \u001b[38;5;124;03m\"\"\"\u001b[39;00m\n\u001b[1;32m    318\u001b[0m \u001b[38;5;28;01mif\u001b[39;00m params \u001b[38;5;129;01mis\u001b[39;00m \u001b[38;5;129;01mnot\u001b[39;00m \u001b[38;5;28;01mNone\u001b[39;00m:\n\u001b[0;32m--> 319\u001b[0m     \u001b[38;5;28mself\u001b[39m\u001b[38;5;241m.\u001b[39mset_params(params)\n\u001b[1;32m    321\u001b[0m \u001b[38;5;28;01mif\u001b[39;00m \u001b[38;5;28mself\u001b[39m\u001b[38;5;241m.\u001b[39m_use_jax \u001b[38;5;129;01mor\u001b[39;00m (use_jax \u001b[38;5;129;01mand\u001b[39;00m _JAX_AVAILABLE):\n\u001b[1;32m    322\u001b[0m     \u001b[38;5;28;01mreturn\u001b[39;00m \u001b[38;5;28mself\u001b[39m\u001b[38;5;241m.\u001b[39mapply_jax(x)\n",
      "File \u001b[0;32m~/Codes/QuantumEigenSolver/Python/QES/general_python/ml/net_impl/net_simple.py:323\u001b[0m, in \u001b[0;36mSimpleNet.set_params\u001b[0;34m(self, params)\u001b[0m\n\u001b[1;32m    320\u001b[0m     params \u001b[38;5;241m=\u001b[39m { \u001b[38;5;124m\"\u001b[39m\u001b[38;5;124mlayers\u001b[39m\u001b[38;5;124m\"\u001b[39m : params }\n\u001b[1;32m    322\u001b[0m \u001b[38;5;28;01mif\u001b[39;00m \u001b[38;5;124m\"\u001b[39m\u001b[38;5;124mlayers\u001b[39m\u001b[38;5;124m\"\u001b[39m \u001b[38;5;129;01mnot\u001b[39;00m \u001b[38;5;129;01min\u001b[39;00m params:\n\u001b[0;32m--> 323\u001b[0m     \u001b[38;5;28;01mraise\u001b[39;00m \u001b[38;5;167;01mKeyError\u001b[39;00m(\u001b[38;5;124m\"\u001b[39m\u001b[38;5;124mParameters must contain \u001b[39m\u001b[38;5;124m'\u001b[39m\u001b[38;5;124mlayers\u001b[39m\u001b[38;5;124m'\u001b[39m\u001b[38;5;124m key.\u001b[39m\u001b[38;5;124m\"\u001b[39m)\n\u001b[1;32m    324\u001b[0m \u001b[38;5;28mself\u001b[39m\u001b[38;5;241m.\u001b[39m_parameters \u001b[38;5;241m=\u001b[39m params\n",
      "\u001b[0;31mKeyError\u001b[0m: \"Parameters must contain 'layers' key.\""
     ]
    }
   ],
   "source": [
    "from general_python.common.plot import MatrixPrinter\n",
    "\n",
    "# -----------------------------------------------------------------\n",
    "# Flatten the configurations and ansatz arrays with a clearer mathematical description\n",
    "#\n",
    "# Let 𝒞 ∈ ℝ^(N×d) represent the configuration matrix, where:\n",
    "#   N = number of samples (configurations)\n",
    "#   d = st_shape[0] (the dimension of each configuration)\n",
    "#\n",
    "# Similarly, for the ansatz values f(𝒞) (one per configuration), we flatten the array.\n",
    "# -----------------------------------------------------------------\n",
    "\n",
    "# Reshape configurations to a 2D array: each row is one configuration vector.\n",
    "configs_flat = configs.reshape(-1, st_shape[0])\n",
    "print(\"Shape of flattened configurations (𝒞):\", configs_flat.shape)\n",
    "\n",
    "# Flatten the ansatze: each configuration has a single ansatz value.\n",
    "configs_ansatze_flat = configs_ansatze.reshape(-1)\n",
    "print(\"Shape of flattened ansatze (f(𝒞)):\", configs_ansatze_flat.shape)\n",
    "\n",
    "print(\"\\nDetailed flow of the configurations:\")\n",
    "print(\"Number of configurations:\", len(configs_flat))\n",
    "print()\n",
    "\n",
    "# -----------------------------------------------------------------\n",
    "# For the first 5 configurations, print:\n",
    "#   - The configuration vector 𝒞ᵢ\n",
    "#   - The ansatz from the network f(𝒞ᵢ)\n",
    "#   - A verification whether f(𝒞ᵢ) matches the ansatz given by the sampler.\n",
    "# -----------------------------------------------------------------\n",
    "for i in range(len(configs_flat[:5])):\n",
    "    print(f\"--- Configuration {i} ---\")\n",
    "    \n",
    "    print(\"\\tConfiguration (𝒞):\")\n",
    "    print(\"\\t\", configs_flat[i])\n",
    "    # MatrixPrinter.print_vector(configs_flat[i]\n",
    "    \n",
    "    print(\"'\\tAnsatz from sampler (f(𝒞)):\")\n",
    "    # Compute the ansatz from the network using the configuration.\n",
    "    print(\"\\t\", configs_ansatze_flat[i])\n",
    "    ansatz_net = net(configs_flat[i])\n",
    "    print(\"\\tAnsatz from the network:\")\n",
    "    print(\"\\t\", ansatz_net)\n",
    "    \n",
    "    # Verify if the network's ansatz equals the sampler's ansatz.\n",
    "    is_same = np.allclose(ansatz_net, configs_ansatze_flat[i])\n",
    "    print(\"\\tVerification (f(𝒞) from network ?= sampler's ansatz):\", is_same)\n",
    "    \n",
    "    print(\"\\n-------------------------\\n\")\n"
   ]
  },
  {
   "cell_type": "markdown",
   "metadata": {},
   "source": [
    "## Solver class\n",
    "\n",
    "Below, we:\n",
    "\n",
    "1. Create a simple network for the NQS ansatz\n",
    "2. Create a sampler\n",
    "3. Create a dummy Hamiltonian"
   ]
  },
  {
   "cell_type": "code",
   "execution_count": 1,
   "metadata": {},
   "outputs": [
    {
     "name": "stdout",
     "output_type": "stream",
     "text": [
      "=== Backend Initialization ===\n",
      "\tNumPy Version: 1.26.4\n",
      "\tSciPy Version: 1.13.1\n",
      "\tJAX Version: Not Available\n",
      "\t\tActive Backend: jax\n",
      "\t\tJAX Available: True\n",
      "\t\tDefault Random Key: [    0 12345]\n",
      "\tActive Backend Modules:\n",
      "\t\t\tMain Module: <module 'jax.numpy' from '/home/klimak/libraries/anaconda3/lib/python3.11/site-packages/jax/numpy/__init__.py'>\n",
      "\t\t\tRandom Module: <module 'jax.random' from '/home/klimak/libraries/anaconda3/lib/python3.11/site-packages/jax/random.py'>\n",
      "\t\t\tSciPy Module: <module 'jax.scipy' from '/home/klimak/libraries/anaconda3/lib/python3.11/site-packages/jax/scipy/__init__.py'>\n",
      "=== End of Backend Info ===\n"
     ]
    },
    {
     "name": "stderr",
     "output_type": "stream",
     "text": [
      "08_04_2025_19-25_12 [INFO] Log file created: ./log/global.log\n",
      "08_04_2025_19-25_12 [INFO] Log level set to: info\n",
      "08_04_2025_19-25_12 [INFO] ########### Global logger initialized. ###########\n",
      "08_04_2025_19-25_12 [INFO] \t->[Hamiltonian] Using spin operators\n",
      "08_04_2025_19-25_12 [INFO] \t\t->[Hamiltonian] Adding modifying operator Operator(Sx/0-1, eigval=1.0, type=Other) at site 0 (global) with multiplier 0.0\n",
      "08_04_2025_19-25_12 [INFO] \t\t->[Hamiltonian] Adding non-modifying operator Operator(Sz/0, eigval=1.0, type=Other) at site 0 (global) with multiplier 0.0\n",
      "08_04_2025_19-25_12 [INFO] \t\t->[Hamiltonian] Adding modifying operator Operator(Sx/1-2, eigval=1.0, type=Other) at site 1 (global) with multiplier 1.0\n",
      "08_04_2025_19-25_12 [INFO] \t\t->[Hamiltonian] Adding non-modifying operator Operator(Sz/1, eigval=1.0, type=Other) at site 1 (global) with multiplier 0.5\n",
      "08_04_2025_19-25_12 [INFO] \t\t->[Hamiltonian] Adding modifying operator Operator(Sx/2-3, eigval=1.0, type=Other) at site 2 (global) with multiplier 2.0\n",
      "08_04_2025_19-25_12 [INFO] \t\t->[Hamiltonian] Adding non-modifying operator Operator(Sz/2, eigval=1.0, type=Other) at site 2 (global) with multiplier 1.0\n",
      "08_04_2025_19-25_12 [INFO] \t\t->[Hamiltonian] Adding modifying operator Operator(Sx/3-4, eigval=1.0, type=Other) at site 3 (global) with multiplier 3.0\n",
      "08_04_2025_19-25_12 [INFO] \t\t->[Hamiltonian] Adding non-modifying operator Operator(Sz/3, eigval=1.0, type=Other) at site 3 (global) with multiplier 1.5\n",
      "08_04_2025_19-25_12 [INFO] \t\t->[Hamiltonian] Adding modifying operator Operator(Sx/4-5, eigval=1.0, type=Other) at site 4 (global) with multiplier 4.0\n",
      "08_04_2025_19-25_12 [INFO] \t\t->[Hamiltonian] Adding non-modifying operator Operator(Sz/4, eigval=1.0, type=Other) at site 4 (global) with multiplier 0.0\n",
      "08_04_2025_19-25_12 [INFO] \t\t->[Hamiltonian] Adding modifying operator Operator(Sx/5-6, eigval=1.0, type=Other) at site 5 (global) with multiplier 5.0\n",
      "08_04_2025_19-25_12 [INFO] \t\t->[Hamiltonian] Adding non-modifying operator Operator(Sz/5, eigval=1.0, type=Other) at site 5 (global) with multiplier 0.5\n",
      "08_04_2025_19-25_12 [INFO] \t\t->[Hamiltonian] Adding modifying operator Operator(Sx/6-7, eigval=1.0, type=Other) at site 6 (global) with multiplier 6.0\n",
      "08_04_2025_19-25_12 [INFO] \t\t->[Hamiltonian] Adding non-modifying operator Operator(Sz/6, eigval=1.0, type=Other) at site 6 (global) with multiplier 1.0\n",
      "08_04_2025_19-25_12 [INFO] \t\t->[Hamiltonian] Adding modifying operator Operator(Sx/7-8, eigval=1.0, type=Other) at site 7 (global) with multiplier 7.0\n",
      "08_04_2025_19-25_12 [INFO] \t\t->[Hamiltonian] Adding non-modifying operator Operator(Sz/7, eigval=1.0, type=Other) at site 7 (global) with multiplier 1.5\n",
      "08_04_2025_19-25_12 [INFO] \t\t->[Hamiltonian] Adding modifying operator Operator(Sx/8-9, eigval=1.0, type=Other) at site 8 (global) with multiplier 8.0\n",
      "08_04_2025_19-25_12 [INFO] \t\t->[Hamiltonian] Adding non-modifying operator Operator(Sz/8, eigval=1.0, type=Other) at site 8 (global) with multiplier 0.0\n",
      "08_04_2025_19-25_12 [INFO] \t\t->[Hamiltonian] Adding modifying operator Operator(Sx/9-10, eigval=1.0, type=Other) at site 9 (global) with multiplier 9.0\n",
      "08_04_2025_19-25_12 [INFO] \t\t->[Hamiltonian] Adding non-modifying operator Operator(Sz/9, eigval=1.0, type=Other) at site 9 (global) with multiplier 0.5\n",
      "08_04_2025_19-25_12 [INFO] \t\t->[Hamiltonian] Adding modifying operator Operator(Sx/10-11, eigval=1.0, type=Other) at site 10 (global) with multiplier 10.0\n",
      "08_04_2025_19-25_12 [INFO] \t\t->[Hamiltonian] Adding non-modifying operator Operator(Sz/10, eigval=1.0, type=Other) at site 10 (global) with multiplier 1.0\n",
      "08_04_2025_19-25_12 [INFO] \t\t->[Hamiltonian] Adding modifying operator Operator(Sx/11-12, eigval=1.0, type=Other) at site 11 (global) with multiplier 11.0\n",
      "08_04_2025_19-25_12 [INFO] \t\t->[Hamiltonian] Adding non-modifying operator Operator(Sz/11, eigval=1.0, type=Other) at site 11 (global) with multiplier 1.5\n",
      "08_04_2025_19-25_12 [INFO] \t\t->[Hamiltonian] Adding modifying operator Operator(Sx/12-13, eigval=1.0, type=Other) at site 12 (global) with multiplier 12.0\n",
      "08_04_2025_19-25_12 [INFO] \t\t->[Hamiltonian] Adding non-modifying operator Operator(Sz/12, eigval=1.0, type=Other) at site 12 (global) with multiplier 0.0\n",
      "08_04_2025_19-25_12 [INFO] \t\t->[Hamiltonian] Adding modifying operator Operator(Sx/13-14, eigval=1.0, type=Other) at site 13 (global) with multiplier 13.0\n",
      "08_04_2025_19-25_12 [INFO] \t\t->[Hamiltonian] Adding non-modifying operator Operator(Sz/13, eigval=1.0, type=Other) at site 13 (global) with multiplier 0.5\n",
      "08_04_2025_19-25_12 [INFO] \t\t->[Hamiltonian] Adding modifying operator Operator(Sx/14-15, eigval=1.0, type=Other) at site 14 (global) with multiplier 14.0\n",
      "08_04_2025_19-25_12 [INFO] \t\t->[Hamiltonian] Adding non-modifying operator Operator(Sz/14, eigval=1.0, type=Other) at site 14 (global) with multiplier 1.0\n",
      "08_04_2025_19-25_12 [INFO] \t\t->[Hamiltonian] Adding modifying operator Operator(Sx/15-16, eigval=1.0, type=Other) at site 15 (global) with multiplier 15.0\n",
      "08_04_2025_19-25_12 [INFO] \t\t->[Hamiltonian] Adding non-modifying operator Operator(Sz/15, eigval=1.0, type=Other) at site 15 (global) with multiplier 1.5\n",
      "08_04_2025_19-25_12 [INFO] \t\t->[Hamiltonian] Adding modifying operator Operator(Sx/16-17, eigval=1.0, type=Other) at site 16 (global) with multiplier 16.0\n",
      "08_04_2025_19-25_12 [INFO] \t\t->[Hamiltonian] Adding non-modifying operator Operator(Sz/16, eigval=1.0, type=Other) at site 16 (global) with multiplier 0.0\n",
      "08_04_2025_19-25_12 [INFO] \t\t->[Hamiltonian] Adding modifying operator Operator(Sx/17-18, eigval=1.0, type=Other) at site 17 (global) with multiplier 17.0\n",
      "08_04_2025_19-25_12 [INFO] \t\t->[Hamiltonian] Adding non-modifying operator Operator(Sz/17, eigval=1.0, type=Other) at site 17 (global) with multiplier 0.5\n",
      "08_04_2025_19-25_12 [INFO] \t\t->[Hamiltonian] Adding modifying operator Operator(Sx/18-19, eigval=1.0, type=Other) at site 18 (global) with multiplier 18.0\n",
      "08_04_2025_19-25_12 [INFO] \t\t->[Hamiltonian] Adding non-modifying operator Operator(Sz/18, eigval=1.0, type=Other) at site 18 (global) with multiplier 1.0\n",
      "08_04_2025_19-25_12 [INFO] \t\t->[Hamiltonian] Adding modifying operator Operator(Sx/19-0, eigval=1.0, type=Other) at site 19 (global) with multiplier 19.0\n",
      "08_04_2025_19-25_12 [INFO] \t\t->[Hamiltonian] Adding non-modifying operator Operator(Sz/19, eigval=1.0, type=Other) at site 19 (global) with multiplier 1.5\n",
      "08_04_2025_19-25_12 [WARNING] \t\t->[Hamiltonian] Max local changes set to 2\n",
      "08_04_2025_19-25_12 [INFO] \t\t->[Hamiltonian] Successfully set local energy functions...\n",
      "08_04_2025_19-25_12 [INFO] \t\t->[<class 'NQS.nqs.NQS'>] Network SimpleNet(input_dim=20, layers=(5,), bias=True, backend=jax) provided from the GeneralNet module.\n",
      "08_04_2025_19-25_12 [INFO] \t\t->[<class 'NQS.nqs.NQS'>] Network is holomorphic: True\n",
      "08_04_2025_19-25_12 [INFO] \t\t->[<class 'NQS.nqs.NQS'>] Network has analytic gradient: True\n"
     ]
    }
   ],
   "source": [
    "import NQS.nqs as nqsmodule\n",
    "import Solver.MonteCarlo.sampler as Sampling\n",
    "from Algebra.Model.dummy import DummyHamiltonian\n",
    "from general_python.algebra.utils import get_backend\n",
    "from general_python.ml.net_impl.net_simple import SimpleNet\n",
    "\n",
    "import numpy as np\n",
    "\n",
    "# get random backend\n",
    "# backend             = 'np'\n",
    "backend             = 'jax'\n",
    "seed                = 1701\n",
    "dtypex              = complex\n",
    "be_modules          = get_backend(backend, random=True, seed=seed, scipy=True)\n",
    "backend_np, (rng, rng_k), backend_sp = be_modules if isinstance(be_modules, tuple) else (be_modules, (None, None), None)\n",
    "\n",
    "# get the network\n",
    "ns                  = 20\n",
    "st_shape            = (ns, )\n",
    "activations         = ('relu', 'sigmoid')\n",
    "net                 = SimpleNet(act_fun =   activations, \n",
    "                        input_shape     =   st_shape, \n",
    "                        output_shape    =   (1, ),\n",
    "                        layers          =   (5, ),\n",
    "                        backend         =   backend_np,\n",
    "                        dtype           =   dtypex)\n",
    "\n",
    "# get the sampler\n",
    "sampler             = Sampling.MCSampler(\n",
    "                            net         = net,\n",
    "                            shape       = st_shape,\n",
    "                            rng         = rng,\n",
    "                            rng_k       = rng_k,\n",
    "                            numchains   = 10,\n",
    "                            numsamples  = 5,\n",
    "                            sweep_steps = 30,\n",
    "                            backend     = backend_np,\n",
    "                            therm_steps = 10,\n",
    "                        )\n",
    "\n",
    "# get the Hamiltonian\n",
    "# ham_dtype           = complex\n",
    "ham_dtype           = float\n",
    "par                 = 0.5 + 1j * 0.5 if ham_dtype == complex else 0.5\n",
    "ham                 = DummyHamiltonian(hilbert_space=None, ns = ns, backend = backend, dtype = ham_dtype)\n",
    "batch_size          = 1\n",
    "\n",
    "nqs                 = nqsmodule.NQS(\n",
    "                            net         = net,\n",
    "                            sampler     = sampler,\n",
    "                            hamiltonian = ham,\n",
    "                            lower_betas = None,\n",
    "                            lower_states= None,\n",
    "                            seed        = seed,\n",
    "                            beta        = 1.0,\n",
    "                            shape       = st_shape,\n",
    "                            backend     = backend,\n",
    "                            nthread     = 1,\n",
    "                            batch_size  = batch_size)"
   ]
  },
  {
   "cell_type": "code",
   "execution_count": 4,
   "metadata": {},
   "outputs": [
    {
     "data": {
      "text/plain": [
       "MCSampler(shape=(20,), mu=0, beta=1.0, therm_steps=10, sweep_steps=30, numsamples=5, numchains=10, backend=jax)"
      ]
     },
     "execution_count": 4,
     "metadata": {},
     "output_type": "execute_result"
    }
   ],
   "source": [
    "sampler"
   ]
  },
  {
   "cell_type": "code",
   "execution_count": 14,
   "metadata": {},
   "outputs": [
    {
     "name": "stdout",
     "output_type": "stream",
     "text": [
      "Warning: Running sample with 5 chains (instance default is 10). State reinitialized for this call.\n"
     ]
    },
    {
     "data": {
      "text/plain": [
       "(25, 20)"
      ]
     },
     "execution_count": 14,
     "metadata": {},
     "output_type": "execute_result"
    }
   ],
   "source": [
    "(states, logprobas), (configs, configs_ansatze), probabilities = nqs.sample(num_samples=5, num_chains=5)\n",
    "configs.shape"
   ]
  },
  {
   "cell_type": "code",
   "execution_count": 23,
   "metadata": {},
   "outputs": [
    {
     "name": "stdout",
     "output_type": "stream",
     "text": [
      "Epoch 1/150\n",
      "  Number of configurations: (50, 20)\n",
      "  Configs and ansatze: (50, 1)\n",
      "  Number of states: (10, 20)\n",
      "  Number of probabilities: (50, 1)\n",
      "\n"
     ]
    },
    {
     "ename": "KeyboardInterrupt",
     "evalue": "",
     "output_type": "error",
     "traceback": [
      "\u001b[0;31m---------------------------------------------------------------------------\u001b[0m",
      "\u001b[0;31mKeyboardInterrupt\u001b[0m                         Traceback (most recent call last)",
      "Cell \u001b[0;32mIn[23], line 29\u001b[0m\n\u001b[1;32m     26\u001b[0m     \u001b[38;5;28mprint\u001b[39m(\u001b[38;5;124mf\u001b[39m\u001b[38;5;124m\"\u001b[39m\u001b[38;5;124m  Number of probabilities: \u001b[39m\u001b[38;5;132;01m{\u001b[39;00mprobabilities\u001b[38;5;241m.\u001b[39mshape\u001b[38;5;132;01m}\u001b[39;00m\u001b[38;5;130;01m\\n\u001b[39;00m\u001b[38;5;124m\"\u001b[39m)\n\u001b[1;32m     28\u001b[0m     \u001b[38;5;66;03m# collect the energies\u001b[39;00m\n\u001b[0;32m---> 29\u001b[0m     (configs, ansatze), probabilities, (v, means, stds) \u001b[38;5;241m=\u001b[39m nqs\u001b[38;5;241m.\u001b[39mevaluate_fun(\n\u001b[1;32m     30\u001b[0m         states_and_psi  \u001b[38;5;241m=\u001b[39m (configs, configs_ansatze),\n\u001b[1;32m     31\u001b[0m         probabilities   \u001b[38;5;241m=\u001b[39m probabilities,\n\u001b[1;32m     32\u001b[0m         functions       \u001b[38;5;241m=\u001b[39m \u001b[38;5;28;01mNone\u001b[39;00m,     \u001b[38;5;66;03m# means that we evaluate energy\u001b[39;00m\n\u001b[1;32m     33\u001b[0m         batch_size      \u001b[38;5;241m=\u001b[39m batch_size\n\u001b[1;32m     34\u001b[0m     )\n\u001b[1;32m     35\u001b[0m     \u001b[38;5;66;03m# print(f\"  Energies: {v.shape}\")\u001b[39;00m\n\u001b[1;32m     36\u001b[0m     \u001b[38;5;66;03m# print(f\"  Mean energy: {means}, std: {stds}\")\u001b[39;00m\n\u001b[1;32m     37\u001b[0m     \u001b[38;5;66;03m# print(f\"  Configurations: {configs.shape}\")\u001b[39;00m\n\u001b[0;32m   (...)\u001b[0m\n\u001b[1;32m     65\u001b[0m     \n\u001b[1;32m     66\u001b[0m     \u001b[38;5;66;03m# history.append(means)\u001b[39;00m\n\u001b[1;32m     69\u001b[0m plt\u001b[38;5;241m.\u001b[39mplot(history)\n",
      "File \u001b[0;32m~/Codes/QuantumEigenSolver/Python/QES/NQS/nqs.py:674\u001b[0m, in \u001b[0;36mNQS.evaluate_fun\u001b[0;34m(self, functions, states_and_psi, probabilities, **kwargs)\u001b[0m\n\u001b[1;32m    671\u001b[0m     \u001b[38;5;28;01mif\u001b[39;00m probabilities \u001b[38;5;129;01mis\u001b[39;00m \u001b[38;5;28;01mNone\u001b[39;00m:\n\u001b[1;32m    672\u001b[0m         probabilities \u001b[38;5;241m=\u001b[39m \u001b[38;5;28mself\u001b[39m\u001b[38;5;241m.\u001b[39m_backend\u001b[38;5;241m.\u001b[39mones_like(ansatze)\n\u001b[0;32m--> 674\u001b[0m     output \u001b[38;5;241m=\u001b[39m [\u001b[38;5;28mself\u001b[39m\u001b[38;5;241m.\u001b[39m_evaluate_fun(func           \u001b[38;5;241m=\u001b[39m f,\n\u001b[1;32m    675\u001b[0m                                 states          \u001b[38;5;241m=\u001b[39m states,\n\u001b[1;32m    676\u001b[0m                                 probabilities   \u001b[38;5;241m=\u001b[39m probabilities,\n\u001b[1;32m    677\u001b[0m                                 logproba_in     \u001b[38;5;241m=\u001b[39m ansatze,\n\u001b[1;32m    678\u001b[0m                                 logproba_fun    \u001b[38;5;241m=\u001b[39m \u001b[38;5;28mself\u001b[39m\u001b[38;5;241m.\u001b[39m_ansatz_func,\n\u001b[1;32m    679\u001b[0m                                 parameters      \u001b[38;5;241m=\u001b[39m \u001b[38;5;28mself\u001b[39m\u001b[38;5;241m.\u001b[39m_net\u001b[38;5;241m.\u001b[39mget_params(),\n\u001b[1;32m    680\u001b[0m                                 batch_size      \u001b[38;5;241m=\u001b[39m batch_size,\n\u001b[1;32m    681\u001b[0m                                 is_jax          \u001b[38;5;241m=\u001b[39m \u001b[38;5;28mself\u001b[39m\u001b[38;5;241m.\u001b[39m_isjax) \u001b[38;5;28;01mfor\u001b[39;00m f \u001b[38;5;129;01min\u001b[39;00m functions]\n\u001b[1;32m    682\u001b[0m \u001b[38;5;28;01melse\u001b[39;00m:\n\u001b[1;32m    683\u001b[0m     \u001b[38;5;66;03m# get other parameters from kwargs\u001b[39;00m\n\u001b[1;32m    684\u001b[0m     num_samples \u001b[38;5;241m=\u001b[39m kwargs\u001b[38;5;241m.\u001b[39mget(\u001b[38;5;124m'\u001b[39m\u001b[38;5;124mnum_samples\u001b[39m\u001b[38;5;124m'\u001b[39m, \u001b[38;5;28;01mNone\u001b[39;00m)\n",
      "File \u001b[0;32m~/Codes/QuantumEigenSolver/Python/QES/NQS/nqs.py:674\u001b[0m, in \u001b[0;36m<listcomp>\u001b[0;34m(.0)\u001b[0m\n\u001b[1;32m    671\u001b[0m     \u001b[38;5;28;01mif\u001b[39;00m probabilities \u001b[38;5;129;01mis\u001b[39;00m \u001b[38;5;28;01mNone\u001b[39;00m:\n\u001b[1;32m    672\u001b[0m         probabilities \u001b[38;5;241m=\u001b[39m \u001b[38;5;28mself\u001b[39m\u001b[38;5;241m.\u001b[39m_backend\u001b[38;5;241m.\u001b[39mones_like(ansatze)\n\u001b[0;32m--> 674\u001b[0m     output \u001b[38;5;241m=\u001b[39m [\u001b[38;5;28mself\u001b[39m\u001b[38;5;241m.\u001b[39m_evaluate_fun(func           \u001b[38;5;241m=\u001b[39m f,\n\u001b[1;32m    675\u001b[0m                                 states          \u001b[38;5;241m=\u001b[39m states,\n\u001b[1;32m    676\u001b[0m                                 probabilities   \u001b[38;5;241m=\u001b[39m probabilities,\n\u001b[1;32m    677\u001b[0m                                 logproba_in     \u001b[38;5;241m=\u001b[39m ansatze,\n\u001b[1;32m    678\u001b[0m                                 logproba_fun    \u001b[38;5;241m=\u001b[39m \u001b[38;5;28mself\u001b[39m\u001b[38;5;241m.\u001b[39m_ansatz_func,\n\u001b[1;32m    679\u001b[0m                                 parameters      \u001b[38;5;241m=\u001b[39m \u001b[38;5;28mself\u001b[39m\u001b[38;5;241m.\u001b[39m_net\u001b[38;5;241m.\u001b[39mget_params(),\n\u001b[1;32m    680\u001b[0m                                 batch_size      \u001b[38;5;241m=\u001b[39m batch_size,\n\u001b[1;32m    681\u001b[0m                                 is_jax          \u001b[38;5;241m=\u001b[39m \u001b[38;5;28mself\u001b[39m\u001b[38;5;241m.\u001b[39m_isjax) \u001b[38;5;28;01mfor\u001b[39;00m f \u001b[38;5;129;01min\u001b[39;00m functions]\n\u001b[1;32m    682\u001b[0m \u001b[38;5;28;01melse\u001b[39;00m:\n\u001b[1;32m    683\u001b[0m     \u001b[38;5;66;03m# get other parameters from kwargs\u001b[39;00m\n\u001b[1;32m    684\u001b[0m     num_samples \u001b[38;5;241m=\u001b[39m kwargs\u001b[38;5;241m.\u001b[39mget(\u001b[38;5;124m'\u001b[39m\u001b[38;5;124mnum_samples\u001b[39m\u001b[38;5;124m'\u001b[39m, \u001b[38;5;28;01mNone\u001b[39;00m)\n",
      "File \u001b[0;32m~/Codes/QuantumEigenSolver/Python/QES/NQS/nqs.py:569\u001b[0m, in \u001b[0;36mNQS._evaluate_fun\u001b[0;34m(func, states, probabilities, logproba_in, logproba_fun, parameters, batch_size, is_jax)\u001b[0m\n\u001b[1;32m    567\u001b[0m \u001b[38;5;66;03m# otherwise, we shall use the batched version\u001b[39;00m\n\u001b[1;32m    568\u001b[0m funct_in \u001b[38;5;241m=\u001b[39m net_utils\u001b[38;5;241m.\u001b[39mjaxpy\u001b[38;5;241m.\u001b[39mapply_callable_batched_jax \u001b[38;5;28;01mif\u001b[39;00m is_jax \u001b[38;5;28;01melse\u001b[39;00m net_utils\u001b[38;5;241m.\u001b[39mnumpy\u001b[38;5;241m.\u001b[39mapply_callable_batched_np\n\u001b[0;32m--> 569\u001b[0m \u001b[38;5;28;01mreturn\u001b[39;00m funct_in(func            \u001b[38;5;241m=\u001b[39m func,\n\u001b[1;32m    570\u001b[0m                 states          \u001b[38;5;241m=\u001b[39m states,\n\u001b[1;32m    571\u001b[0m                 sample_probas   \u001b[38;5;241m=\u001b[39m probabilities,\n\u001b[1;32m    572\u001b[0m                 logprobas_in    \u001b[38;5;241m=\u001b[39m logproba_in,\n\u001b[1;32m    573\u001b[0m                 logproba_fun    \u001b[38;5;241m=\u001b[39m logproba_fun,\n\u001b[1;32m    574\u001b[0m                 parameters      \u001b[38;5;241m=\u001b[39m parameters,\n\u001b[1;32m    575\u001b[0m                 batch_size      \u001b[38;5;241m=\u001b[39m batch_size)\n",
      "    \u001b[0;31m[... skipping hidden 1 frame]\u001b[0m\n",
      "File \u001b[0;32m~/libraries/anaconda3/lib/python3.11/site-packages/jax/_src/pjit.py:339\u001b[0m, in \u001b[0;36m_cpp_pjit.<locals>.cache_miss\u001b[0;34m(*args, **kwargs)\u001b[0m\n\u001b[1;32m    334\u001b[0m \u001b[38;5;28;01mif\u001b[39;00m config\u001b[38;5;241m.\u001b[39mno_tracing\u001b[38;5;241m.\u001b[39mvalue:\n\u001b[1;32m    335\u001b[0m   \u001b[38;5;28;01mraise\u001b[39;00m \u001b[38;5;167;01mRuntimeError\u001b[39;00m(\u001b[38;5;124mf\u001b[39m\u001b[38;5;124m\"\u001b[39m\u001b[38;5;124mre-tracing function \u001b[39m\u001b[38;5;132;01m{\u001b[39;00mjit_info\u001b[38;5;241m.\u001b[39mfun_sourceinfo\u001b[38;5;132;01m}\u001b[39;00m\u001b[38;5;124m for \u001b[39m\u001b[38;5;124m\"\u001b[39m\n\u001b[1;32m    336\u001b[0m                      \u001b[38;5;124m\"\u001b[39m\u001b[38;5;124m`jit`, but \u001b[39m\u001b[38;5;124m'\u001b[39m\u001b[38;5;124mno_tracing\u001b[39m\u001b[38;5;124m'\u001b[39m\u001b[38;5;124m is set\u001b[39m\u001b[38;5;124m\"\u001b[39m)\n\u001b[1;32m    338\u001b[0m (outs, out_flat, out_tree, args_flat, jaxpr, attrs_tracked, executable,\n\u001b[0;32m--> 339\u001b[0m  pgle_profiler) \u001b[38;5;241m=\u001b[39m _python_pjit_helper(fun, jit_info, \u001b[38;5;241m*\u001b[39margs, \u001b[38;5;241m*\u001b[39m\u001b[38;5;241m*\u001b[39mkwargs)\n\u001b[1;32m    341\u001b[0m maybe_fastpath_data \u001b[38;5;241m=\u001b[39m _get_fastpath_data(\n\u001b[1;32m    342\u001b[0m     executable, out_tree, args_flat, out_flat, attrs_tracked, jaxpr\u001b[38;5;241m.\u001b[39meffects,\n\u001b[1;32m    343\u001b[0m     jaxpr\u001b[38;5;241m.\u001b[39mconsts, jit_info\u001b[38;5;241m.\u001b[39mabstracted_axes,\n\u001b[1;32m    344\u001b[0m     pgle_profiler)\n\u001b[1;32m    346\u001b[0m \u001b[38;5;28;01mreturn\u001b[39;00m outs, maybe_fastpath_data, _need_to_rebuild_with_fdo(pgle_profiler)\n",
      "File \u001b[0;32m~/libraries/anaconda3/lib/python3.11/site-packages/jax/_src/pjit.py:179\u001b[0m, in \u001b[0;36m_python_pjit_helper\u001b[0;34m(fun, jit_info, *args, **kwargs)\u001b[0m\n\u001b[1;32m    178\u001b[0m \u001b[38;5;28;01mdef\u001b[39;00m \u001b[38;5;21m_python_pjit_helper\u001b[39m(fun: Callable, jit_info: PjitInfo, \u001b[38;5;241m*\u001b[39margs, \u001b[38;5;241m*\u001b[39m\u001b[38;5;241m*\u001b[39mkwargs):\n\u001b[0;32m--> 179\u001b[0m   p, args_flat \u001b[38;5;241m=\u001b[39m _infer_params(fun, jit_info, args, kwargs)\n\u001b[1;32m    181\u001b[0m   \u001b[38;5;28;01mfor\u001b[39;00m arg \u001b[38;5;129;01min\u001b[39;00m args_flat:\n\u001b[1;32m    182\u001b[0m     dispatch\u001b[38;5;241m.\u001b[39mcheck_arg(arg)\n",
      "File \u001b[0;32m~/libraries/anaconda3/lib/python3.11/site-packages/jax/_src/pjit.py:695\u001b[0m, in \u001b[0;36m_infer_params\u001b[0;34m(fun, ji, args, kwargs)\u001b[0m\n\u001b[1;32m    693\u001b[0m   \u001b[38;5;28;01mwith\u001b[39;00m sharding_impls\u001b[38;5;241m.\u001b[39muse_mesh(mesh_lib\u001b[38;5;241m.\u001b[39mthread_resources\u001b[38;5;241m.\u001b[39menv\u001b[38;5;241m.\u001b[39mphysical_mesh):\n\u001b[1;32m    694\u001b[0m     \u001b[38;5;28;01mreturn\u001b[39;00m _infer_params_internal(fun, ji, args, kwargs)\n\u001b[0;32m--> 695\u001b[0m \u001b[38;5;28;01mreturn\u001b[39;00m _infer_params_internal(fun, ji, args, kwargs)\n",
      "File \u001b[0;32m~/libraries/anaconda3/lib/python3.11/site-packages/jax/_src/pjit.py:718\u001b[0m, in \u001b[0;36m_infer_params_internal\u001b[0;34m(fun, ji, args, kwargs)\u001b[0m\n\u001b[1;32m    715\u001b[0m entry \u001b[38;5;241m=\u001b[39m _infer_params_cached(fun, ji, signature, avals, ctx_mesh)\n\u001b[1;32m    717\u001b[0m \u001b[38;5;28;01mif\u001b[39;00m entry\u001b[38;5;241m.\u001b[39mpjit_params \u001b[38;5;129;01mis\u001b[39;00m \u001b[38;5;28;01mNone\u001b[39;00m:\n\u001b[0;32m--> 718\u001b[0m   p, args_flat \u001b[38;5;241m=\u001b[39m _infer_params_impl(\n\u001b[1;32m    719\u001b[0m       fun, ji, ctx_mesh, dbg, args, kwargs, in_avals\u001b[38;5;241m=\u001b[39mavals)\n\u001b[1;32m    720\u001b[0m   \u001b[38;5;28;01mif\u001b[39;00m p\u001b[38;5;241m.\u001b[39mattrs_tracked:  \u001b[38;5;66;03m# if attrs, don't popoulate the cache\u001b[39;00m\n\u001b[1;32m    721\u001b[0m     \u001b[38;5;28;01mreturn\u001b[39;00m p, p\u001b[38;5;241m.\u001b[39mconsts \u001b[38;5;241m+\u001b[39m args_flat\n",
      "File \u001b[0;32m~/libraries/anaconda3/lib/python3.11/site-packages/jax/_src/pjit.py:618\u001b[0m, in \u001b[0;36m_infer_params_impl\u001b[0;34m(***failed resolving arguments***)\u001b[0m\n\u001b[1;32m    611\u001b[0m in_shardings_flat, in_layouts_flat \u001b[38;5;241m=\u001b[39m _process_in_axis_resources(\n\u001b[1;32m    612\u001b[0m     in_shardings_treedef, in_shardings_leaves,\n\u001b[1;32m    613\u001b[0m     ji\u001b[38;5;241m.\u001b[39min_layouts_treedef, ji\u001b[38;5;241m.\u001b[39min_layouts_leaves,\n\u001b[1;32m    614\u001b[0m     in_avals, in_tree, flat_fun\u001b[38;5;241m.\u001b[39mdebug_info, device_or_backend_set, have_kwargs)\n\u001b[1;32m    616\u001b[0m attr_token \u001b[38;5;241m=\u001b[39m _attr_token(flat_fun, in_type)\n\u001b[0;32m--> 618\u001b[0m jaxpr, consts, out_avals, attrs_tracked \u001b[38;5;241m=\u001b[39m _create_pjit_jaxpr(\n\u001b[1;32m    619\u001b[0m     flat_fun, in_type, attr_token, IgnoreKey(ji\u001b[38;5;241m.\u001b[39minline))\n\u001b[1;32m    621\u001b[0m \u001b[38;5;28;01mif\u001b[39;00m config\u001b[38;5;241m.\u001b[39mmutable_array_checks\u001b[38;5;241m.\u001b[39mvalue:\n\u001b[1;32m    622\u001b[0m   _check_no_aliased_closed_over_refs(dbg, (\u001b[38;5;241m*\u001b[39mjaxpr\u001b[38;5;241m.\u001b[39mconsts, \u001b[38;5;241m*\u001b[39mconsts), explicit_args)\n",
      "File \u001b[0;32m~/libraries/anaconda3/lib/python3.11/site-packages/jax/_src/linear_util.py:460\u001b[0m, in \u001b[0;36mcache.<locals>.memoized_fun\u001b[0;34m(fun, *args)\u001b[0m\n\u001b[1;32m    458\u001b[0m   fun\u001b[38;5;241m.\u001b[39mpopulate_stores(stores)\n\u001b[1;32m    459\u001b[0m \u001b[38;5;28;01melse\u001b[39;00m:\n\u001b[0;32m--> 460\u001b[0m   ans \u001b[38;5;241m=\u001b[39m call(fun, \u001b[38;5;241m*\u001b[39margs)\n\u001b[1;32m    461\u001b[0m   \u001b[38;5;28;01mif\u001b[39;00m explain \u001b[38;5;129;01mand\u001b[39;00m config\u001b[38;5;241m.\u001b[39mexplain_cache_misses\u001b[38;5;241m.\u001b[39mvalue:\n\u001b[1;32m    462\u001b[0m     explain(fun, cache \u001b[38;5;129;01mis\u001b[39;00m new_cache, cache, key)\n",
      "File \u001b[0;32m~/libraries/anaconda3/lib/python3.11/site-packages/jax/_src/pjit.py:1289\u001b[0m, in \u001b[0;36m_create_pjit_jaxpr\u001b[0;34m(***failed resolving arguments***)\u001b[0m\n\u001b[1;32m   1287\u001b[0m     attrs_tracked \u001b[38;5;241m=\u001b[39m []\n\u001b[1;32m   1288\u001b[0m   \u001b[38;5;28;01melse\u001b[39;00m:\n\u001b[0;32m-> 1289\u001b[0m     jaxpr, global_out_avals, consts, attrs_tracked \u001b[38;5;241m=\u001b[39m pe\u001b[38;5;241m.\u001b[39mtrace_to_jaxpr_dynamic(\n\u001b[1;32m   1290\u001b[0m         fun, in_type)\n\u001b[1;32m   1291\u001b[0m     \u001b[38;5;66;03m# assert attr_data is sentinel or attr_data matches attrs_tracked\u001b[39;00m\n\u001b[1;32m   1293\u001b[0m \u001b[38;5;28;01mif\u001b[39;00m config\u001b[38;5;241m.\u001b[39mdebug_key_reuse\u001b[38;5;241m.\u001b[39mvalue:\n\u001b[1;32m   1294\u001b[0m   \u001b[38;5;66;03m# Import here to avoid circular imports\u001b[39;00m\n",
      "File \u001b[0;32m~/libraries/anaconda3/lib/python3.11/site-packages/jax/_src/profiler.py:334\u001b[0m, in \u001b[0;36mannotate_function.<locals>.wrapper\u001b[0;34m(*args, **kwargs)\u001b[0m\n\u001b[1;32m    331\u001b[0m \u001b[38;5;129m@wraps\u001b[39m(func)\n\u001b[1;32m    332\u001b[0m \u001b[38;5;28;01mdef\u001b[39;00m \u001b[38;5;21mwrapper\u001b[39m(\u001b[38;5;241m*\u001b[39margs, \u001b[38;5;241m*\u001b[39m\u001b[38;5;241m*\u001b[39mkwargs):\n\u001b[1;32m    333\u001b[0m   \u001b[38;5;28;01mwith\u001b[39;00m TraceAnnotation(name, \u001b[38;5;241m*\u001b[39m\u001b[38;5;241m*\u001b[39mdecorator_kwargs):\n\u001b[0;32m--> 334\u001b[0m     \u001b[38;5;28;01mreturn\u001b[39;00m func(\u001b[38;5;241m*\u001b[39margs, \u001b[38;5;241m*\u001b[39m\u001b[38;5;241m*\u001b[39mkwargs)\n\u001b[1;32m    335\u001b[0m   \u001b[38;5;28;01mreturn\u001b[39;00m wrapper\n",
      "File \u001b[0;32m~/libraries/anaconda3/lib/python3.11/site-packages/jax/_src/interpreters/partial_eval.py:2181\u001b[0m, in \u001b[0;36mtrace_to_jaxpr_dynamic\u001b[0;34m(fun, in_avals, keep_inputs)\u001b[0m\n\u001b[1;32m   2179\u001b[0m in_tracers \u001b[38;5;241m=\u001b[39m [t \u001b[38;5;28;01mfor\u001b[39;00m t, keep \u001b[38;5;129;01min\u001b[39;00m \u001b[38;5;28mzip\u001b[39m(in_tracers, keep_inputs) \u001b[38;5;28;01mif\u001b[39;00m keep]\n\u001b[1;32m   2180\u001b[0m \u001b[38;5;28;01mwith\u001b[39;00m core\u001b[38;5;241m.\u001b[39mset_current_trace(trace):\n\u001b[0;32m-> 2181\u001b[0m   ans \u001b[38;5;241m=\u001b[39m fun\u001b[38;5;241m.\u001b[39mcall_wrapped(\u001b[38;5;241m*\u001b[39min_tracers)\n\u001b[1;32m   2183\u001b[0m out_tracers \u001b[38;5;241m=\u001b[39m \u001b[38;5;28mmap\u001b[39m(trace\u001b[38;5;241m.\u001b[39mto_jaxpr_tracer, ans)\n\u001b[1;32m   2184\u001b[0m _check_no_returned_refs(fun\u001b[38;5;241m.\u001b[39mdebug_info, out_tracers)\n",
      "File \u001b[0;32m~/libraries/anaconda3/lib/python3.11/site-packages/jax/_src/linear_util.py:210\u001b[0m, in \u001b[0;36mWrappedFun.call_wrapped\u001b[0;34m(self, *args, **kwargs)\u001b[0m\n\u001b[1;32m    208\u001b[0m \u001b[38;5;28;01mdef\u001b[39;00m \u001b[38;5;21mcall_wrapped\u001b[39m(\u001b[38;5;28mself\u001b[39m, \u001b[38;5;241m*\u001b[39margs, \u001b[38;5;241m*\u001b[39m\u001b[38;5;241m*\u001b[39mkwargs):\n\u001b[1;32m    209\u001b[0m \u001b[38;5;250m  \u001b[39m\u001b[38;5;124;03m\"\"\"Calls the transformed function\"\"\"\u001b[39;00m\n\u001b[0;32m--> 210\u001b[0m   \u001b[38;5;28;01mreturn\u001b[39;00m \u001b[38;5;28mself\u001b[39m\u001b[38;5;241m.\u001b[39mf_transformed(\u001b[38;5;241m*\u001b[39margs, \u001b[38;5;241m*\u001b[39m\u001b[38;5;241m*\u001b[39mkwargs)\n",
      "File \u001b[0;32m~/libraries/anaconda3/lib/python3.11/site-packages/jax/_src/api_util.py:284\u001b[0m, in \u001b[0;36m_argnums_partial\u001b[0;34m(_fun, _dyn_argnums, _fixed_args, *dyn_args, **kwargs)\u001b[0m\n\u001b[1;32m    282\u001b[0m args \u001b[38;5;241m=\u001b[39m [\u001b[38;5;28mnext\u001b[39m(fixed_args_)\u001b[38;5;241m.\u001b[39mval \u001b[38;5;28;01mif\u001b[39;00m x \u001b[38;5;129;01mis\u001b[39;00m sentinel \u001b[38;5;28;01melse\u001b[39;00m x \u001b[38;5;28;01mfor\u001b[39;00m x \u001b[38;5;129;01min\u001b[39;00m args]\n\u001b[1;32m    283\u001b[0m \u001b[38;5;28;01massert\u001b[39;00m \u001b[38;5;28mnext\u001b[39m(fixed_args_, sentinel) \u001b[38;5;129;01mis\u001b[39;00m sentinel\n\u001b[0;32m--> 284\u001b[0m \u001b[38;5;28;01mreturn\u001b[39;00m _fun(\u001b[38;5;241m*\u001b[39margs, \u001b[38;5;241m*\u001b[39m\u001b[38;5;241m*\u001b[39mkwargs)\n",
      "File \u001b[0;32m~/libraries/anaconda3/lib/python3.11/site-packages/jax/_src/api_util.py:73\u001b[0m, in \u001b[0;36mflatten_fun\u001b[0;34m(f, store, in_tree, *args_flat)\u001b[0m\n\u001b[1;32m     69\u001b[0m \u001b[38;5;129m@lu\u001b[39m\u001b[38;5;241m.\u001b[39mtransformation_with_aux2\n\u001b[1;32m     70\u001b[0m \u001b[38;5;28;01mdef\u001b[39;00m \u001b[38;5;21mflatten_fun\u001b[39m(f: Callable, store: lu\u001b[38;5;241m.\u001b[39mStore,\n\u001b[1;32m     71\u001b[0m                 in_tree: PyTreeDef, \u001b[38;5;241m*\u001b[39margs_flat):\n\u001b[1;32m     72\u001b[0m   py_args, py_kwargs \u001b[38;5;241m=\u001b[39m tree_unflatten(in_tree, args_flat)\n\u001b[0;32m---> 73\u001b[0m   ans \u001b[38;5;241m=\u001b[39m f(\u001b[38;5;241m*\u001b[39mpy_args, \u001b[38;5;241m*\u001b[39m\u001b[38;5;241m*\u001b[39mpy_kwargs)\n\u001b[1;32m     74\u001b[0m   ans, out_tree \u001b[38;5;241m=\u001b[39m tree_flatten(ans)\n\u001b[1;32m     75\u001b[0m   store\u001b[38;5;241m.\u001b[39mstore(out_tree)\n",
      "File \u001b[0;32m~/libraries/anaconda3/lib/python3.11/site-packages/jax/_src/api_util.py:310\u001b[0m, in \u001b[0;36m_argnames_partial\u001b[0;34m(_fun, _fixed_kwargs, *args, **dyn_kwargs)\u001b[0m\n\u001b[1;32m    307\u001b[0m \u001b[38;5;129m@lu\u001b[39m\u001b[38;5;241m.\u001b[39mtransformation2\n\u001b[1;32m    308\u001b[0m \u001b[38;5;28;01mdef\u001b[39;00m \u001b[38;5;21m_argnames_partial\u001b[39m(_fun, _fixed_kwargs: WrapKwArgs, \u001b[38;5;241m*\u001b[39margs, \u001b[38;5;241m*\u001b[39m\u001b[38;5;241m*\u001b[39mdyn_kwargs):\n\u001b[1;32m    309\u001b[0m   kwargs \u001b[38;5;241m=\u001b[39m \u001b[38;5;28mdict\u001b[39m({k: v\u001b[38;5;241m.\u001b[39mval \u001b[38;5;28;01mfor\u001b[39;00m k, v \u001b[38;5;129;01min\u001b[39;00m _fixed_kwargs\u001b[38;5;241m.\u001b[39mval\u001b[38;5;241m.\u001b[39mitems()}, \u001b[38;5;241m*\u001b[39m\u001b[38;5;241m*\u001b[39mdyn_kwargs)\n\u001b[0;32m--> 310\u001b[0m   \u001b[38;5;28;01mreturn\u001b[39;00m _fun(\u001b[38;5;241m*\u001b[39margs, \u001b[38;5;241m*\u001b[39m\u001b[38;5;241m*\u001b[39mkwargs)\n",
      "File \u001b[0;32m~/libraries/anaconda3/lib/python3.11/site-packages/jax/_src/api_util.py:284\u001b[0m, in \u001b[0;36m_argnums_partial\u001b[0;34m(_fun, _dyn_argnums, _fixed_args, *dyn_args, **kwargs)\u001b[0m\n\u001b[1;32m    282\u001b[0m args \u001b[38;5;241m=\u001b[39m [\u001b[38;5;28mnext\u001b[39m(fixed_args_)\u001b[38;5;241m.\u001b[39mval \u001b[38;5;28;01mif\u001b[39;00m x \u001b[38;5;129;01mis\u001b[39;00m sentinel \u001b[38;5;28;01melse\u001b[39;00m x \u001b[38;5;28;01mfor\u001b[39;00m x \u001b[38;5;129;01min\u001b[39;00m args]\n\u001b[1;32m    283\u001b[0m \u001b[38;5;28;01massert\u001b[39;00m \u001b[38;5;28mnext\u001b[39m(fixed_args_, sentinel) \u001b[38;5;129;01mis\u001b[39;00m sentinel\n\u001b[0;32m--> 284\u001b[0m \u001b[38;5;28;01mreturn\u001b[39;00m _fun(\u001b[38;5;241m*\u001b[39margs, \u001b[38;5;241m*\u001b[39m\u001b[38;5;241m*\u001b[39mkwargs)\n",
      "File \u001b[0;32m~/libraries/anaconda3/lib/python3.11/site-packages/jax/_src/linear_util.py:388\u001b[0m, in \u001b[0;36m_get_result_paths_thunk\u001b[0;34m(_fun, _store, *args, **kwargs)\u001b[0m\n\u001b[1;32m    386\u001b[0m \u001b[38;5;129m@transformation_with_aux2\u001b[39m\n\u001b[1;32m    387\u001b[0m \u001b[38;5;28;01mdef\u001b[39;00m \u001b[38;5;21m_get_result_paths_thunk\u001b[39m(_fun: Callable, _store: Store, \u001b[38;5;241m*\u001b[39margs, \u001b[38;5;241m*\u001b[39m\u001b[38;5;241m*\u001b[39mkwargs):\n\u001b[0;32m--> 388\u001b[0m   ans \u001b[38;5;241m=\u001b[39m _fun(\u001b[38;5;241m*\u001b[39margs, \u001b[38;5;241m*\u001b[39m\u001b[38;5;241m*\u001b[39mkwargs)\n\u001b[1;32m    389\u001b[0m   result_paths \u001b[38;5;241m=\u001b[39m \u001b[38;5;28mtuple\u001b[39m(\u001b[38;5;124mf\u001b[39m\u001b[38;5;124m\"\u001b[39m\u001b[38;5;124mresult\u001b[39m\u001b[38;5;132;01m{\u001b[39;00m_clean_keystr_arg_names(path)\u001b[38;5;132;01m}\u001b[39;00m\u001b[38;5;124m\"\u001b[39m \u001b[38;5;28;01mfor\u001b[39;00m path, _ \u001b[38;5;129;01min\u001b[39;00m generate_key_paths(ans))\n\u001b[1;32m    390\u001b[0m   \u001b[38;5;28;01mif\u001b[39;00m _store:\n\u001b[1;32m    391\u001b[0m     \u001b[38;5;66;03m# In some instances a lu.WrappedFun is called multiple times, e.g.,\u001b[39;00m\n\u001b[1;32m    392\u001b[0m     \u001b[38;5;66;03m# the bwd function in a custom_vjp\u001b[39;00m\n",
      "File \u001b[0;32m~/Codes/QuantumEigenSolver/Python/QES/general_python/ml/net_impl/utils/net_utils_jax.py:540\u001b[0m, in \u001b[0;36mapply_callable_batched_jax\u001b[0;34m(func, states, sample_probas, logprobas_in, logproba_fun, parameters, batch_size)\u001b[0m\n\u001b[1;32m    537\u001b[0m     \u001b[38;5;28;01mreturn\u001b[39;00m jax\u001b[38;5;241m.\u001b[39mvmap(compute_estimate, in_axes\u001b[38;5;241m=\u001b[39m(\u001b[38;5;241m0\u001b[39m, \u001b[38;5;241m0\u001b[39m, \u001b[38;5;241m0\u001b[39m))(batch_states, batch_logps, batch_sampleps)\n\u001b[1;32m    539\u001b[0m \u001b[38;5;66;03m# Map over batches.\u001b[39;00m\n\u001b[0;32m--> 540\u001b[0m batch_estimates \u001b[38;5;241m=\u001b[39m jax\u001b[38;5;241m.\u001b[39mvmap(compute_batch, in_axes\u001b[38;5;241m=\u001b[39m(\u001b[38;5;241m0\u001b[39m, \u001b[38;5;241m0\u001b[39m, \u001b[38;5;241m0\u001b[39m))(batches, log_batches, sample_batches)\n\u001b[1;32m    541\u001b[0m estimates       \u001b[38;5;241m=\u001b[39m batch_estimates\u001b[38;5;241m.\u001b[39mreshape(\u001b[38;5;241m-\u001b[39m\u001b[38;5;241m1\u001b[39m)[:nstates]\n\u001b[1;32m    542\u001b[0m \u001b[38;5;28;01mreturn\u001b[39;00m estimates, jnp\u001b[38;5;241m.\u001b[39mmean(estimates, axis\u001b[38;5;241m=\u001b[39m\u001b[38;5;241m0\u001b[39m), jnp\u001b[38;5;241m.\u001b[39mstd(estimates, axis\u001b[38;5;241m=\u001b[39m\u001b[38;5;241m0\u001b[39m)\n",
      "    \u001b[0;31m[... skipping hidden 1 frame]\u001b[0m\n",
      "File \u001b[0;32m~/libraries/anaconda3/lib/python3.11/site-packages/jax/_src/api.py:1017\u001b[0m, in \u001b[0;36mvmap.<locals>.vmap_f\u001b[0;34m(*args, **kwargs)\u001b[0m\n\u001b[1;32m   1014\u001b[0m \u001b[38;5;28;01mtry\u001b[39;00m:\n\u001b[1;32m   1015\u001b[0m   axis_data \u001b[38;5;241m=\u001b[39m batching\u001b[38;5;241m.\u001b[39mAxisData(axis_name, axis_size_, spmd_axis_name,\n\u001b[1;32m   1016\u001b[0m                                 explicit_mesh_axis)\n\u001b[0;32m-> 1017\u001b[0m   out_flat \u001b[38;5;241m=\u001b[39m batching\u001b[38;5;241m.\u001b[39mbatch(\n\u001b[1;32m   1018\u001b[0m       flat_fun, axis_data, in_axes_flat,\n\u001b[1;32m   1019\u001b[0m       \u001b[38;5;28;01mlambda\u001b[39;00m: flatten_axes(\u001b[38;5;124m\"\u001b[39m\u001b[38;5;124mvmap out_axes\u001b[39m\u001b[38;5;124m\"\u001b[39m, out_tree(), out_axes)\n\u001b[1;32m   1020\u001b[0m   )\u001b[38;5;241m.\u001b[39mcall_wrapped(\u001b[38;5;241m*\u001b[39margs_flat)\n\u001b[1;32m   1021\u001b[0m \u001b[38;5;28;01mexcept\u001b[39;00m batching\u001b[38;5;241m.\u001b[39mSpecMatchError \u001b[38;5;28;01mas\u001b[39;00m e:\n\u001b[1;32m   1022\u001b[0m   out_axes_flat \u001b[38;5;241m=\u001b[39m flatten_axes(\u001b[38;5;124m\"\u001b[39m\u001b[38;5;124mvmap out_axes\u001b[39m\u001b[38;5;124m\"\u001b[39m, out_tree(), out_axes)\n",
      "File \u001b[0;32m~/libraries/anaconda3/lib/python3.11/site-packages/jax/_src/linear_util.py:210\u001b[0m, in \u001b[0;36mWrappedFun.call_wrapped\u001b[0;34m(self, *args, **kwargs)\u001b[0m\n\u001b[1;32m    208\u001b[0m \u001b[38;5;28;01mdef\u001b[39;00m \u001b[38;5;21mcall_wrapped\u001b[39m(\u001b[38;5;28mself\u001b[39m, \u001b[38;5;241m*\u001b[39margs, \u001b[38;5;241m*\u001b[39m\u001b[38;5;241m*\u001b[39mkwargs):\n\u001b[1;32m    209\u001b[0m \u001b[38;5;250m  \u001b[39m\u001b[38;5;124;03m\"\"\"Calls the transformed function\"\"\"\u001b[39;00m\n\u001b[0;32m--> 210\u001b[0m   \u001b[38;5;28;01mreturn\u001b[39;00m \u001b[38;5;28mself\u001b[39m\u001b[38;5;241m.\u001b[39mf_transformed(\u001b[38;5;241m*\u001b[39margs, \u001b[38;5;241m*\u001b[39m\u001b[38;5;241m*\u001b[39mkwargs)\n",
      "File \u001b[0;32m~/libraries/anaconda3/lib/python3.11/site-packages/jax/_src/interpreters/batching.py:608\u001b[0m, in \u001b[0;36m_batch_outer\u001b[0;34m(f, axis_data, in_dims, *in_vals)\u001b[0m\n\u001b[1;32m    606\u001b[0m tag \u001b[38;5;241m=\u001b[39m TraceTag()\n\u001b[1;32m    607\u001b[0m \u001b[38;5;28;01mwith\u001b[39;00m source_info_util\u001b[38;5;241m.\u001b[39mtransform_name_stack(\u001b[38;5;124m'\u001b[39m\u001b[38;5;124mvmap\u001b[39m\u001b[38;5;124m'\u001b[39m):\n\u001b[0;32m--> 608\u001b[0m   outs, trace \u001b[38;5;241m=\u001b[39m f(tag, in_dims, \u001b[38;5;241m*\u001b[39min_vals)\n\u001b[1;32m    609\u001b[0m \u001b[38;5;28;01mwith\u001b[39;00m core\u001b[38;5;241m.\u001b[39mensure_no_leaks(trace): \u001b[38;5;28;01mdel\u001b[39;00m trace\n\u001b[1;32m    610\u001b[0m \u001b[38;5;28;01mreturn\u001b[39;00m outs\n",
      "File \u001b[0;32m~/libraries/anaconda3/lib/python3.11/site-packages/jax/_src/interpreters/batching.py:623\u001b[0m, in \u001b[0;36m_batch_inner\u001b[0;34m(f, axis_data, out_dim_dests, tag, in_dims, *in_vals)\u001b[0m\n\u001b[1;32m    619\u001b[0m   in_tracers \u001b[38;5;241m=\u001b[39m \u001b[38;5;28mmap\u001b[39m(partial(to_elt, trace, idx), in_vals, in_dims)\n\u001b[1;32m    620\u001b[0m   \u001b[38;5;28;01mwith\u001b[39;00m (core\u001b[38;5;241m.\u001b[39mset_current_trace(trace),\n\u001b[1;32m    621\u001b[0m         core\u001b[38;5;241m.\u001b[39mextend_axis_env_nd([(axis_data\u001b[38;5;241m.\u001b[39mname, axis_data\u001b[38;5;241m.\u001b[39msize)]),\n\u001b[1;32m    622\u001b[0m         core\u001b[38;5;241m.\u001b[39madd_spmd_axis_names(axis_data\u001b[38;5;241m.\u001b[39mspmd_name)):\n\u001b[0;32m--> 623\u001b[0m     outs \u001b[38;5;241m=\u001b[39m f(\u001b[38;5;241m*\u001b[39min_tracers)\n\u001b[1;32m    625\u001b[0m out_dim_dests \u001b[38;5;241m=\u001b[39m out_dim_dests() \u001b[38;5;28;01mif\u001b[39;00m \u001b[38;5;28mcallable\u001b[39m(out_dim_dests) \u001b[38;5;28;01melse\u001b[39;00m out_dim_dests\n\u001b[1;32m    626\u001b[0m out_vals \u001b[38;5;241m=\u001b[39m \u001b[38;5;28mmap\u001b[39m(partial(from_elt, trace, axis_data\u001b[38;5;241m.\u001b[39msize,\n\u001b[1;32m    627\u001b[0m                        axis_data\u001b[38;5;241m.\u001b[39mexplicit_mesh_axis),\n\u001b[1;32m    628\u001b[0m                \u001b[38;5;28mrange\u001b[39m(\u001b[38;5;28mlen\u001b[39m(outs)), outs, out_dim_dests)\n",
      "File \u001b[0;32m~/libraries/anaconda3/lib/python3.11/site-packages/jax/_src/interpreters/batching.py:342\u001b[0m, in \u001b[0;36mflatten_fun_for_vmap\u001b[0;34m(f, store, in_tree, *args_flat)\u001b[0m\n\u001b[1;32m    338\u001b[0m \u001b[38;5;129m@lu\u001b[39m\u001b[38;5;241m.\u001b[39mtransformation_with_aux2\n\u001b[1;32m    339\u001b[0m \u001b[38;5;28;01mdef\u001b[39;00m \u001b[38;5;21mflatten_fun_for_vmap\u001b[39m(f: Callable,\n\u001b[1;32m    340\u001b[0m                          store: lu\u001b[38;5;241m.\u001b[39mStore, in_tree: PyTreeDef, \u001b[38;5;241m*\u001b[39margs_flat):\n\u001b[1;32m    341\u001b[0m   py_args, py_kwargs \u001b[38;5;241m=\u001b[39m tree_unflatten(in_tree, args_flat)\n\u001b[0;32m--> 342\u001b[0m   ans \u001b[38;5;241m=\u001b[39m f(\u001b[38;5;241m*\u001b[39mpy_args, \u001b[38;5;241m*\u001b[39m\u001b[38;5;241m*\u001b[39mpy_kwargs)\n\u001b[1;32m    343\u001b[0m   ans, out_tree \u001b[38;5;241m=\u001b[39m tree_flatten(ans, is_leaf\u001b[38;5;241m=\u001b[39mis_vmappable)\n\u001b[1;32m    344\u001b[0m   store\u001b[38;5;241m.\u001b[39mstore(out_tree)\n",
      "File \u001b[0;32m~/libraries/anaconda3/lib/python3.11/site-packages/jax/_src/linear_util.py:388\u001b[0m, in \u001b[0;36m_get_result_paths_thunk\u001b[0;34m(_fun, _store, *args, **kwargs)\u001b[0m\n\u001b[1;32m    386\u001b[0m \u001b[38;5;129m@transformation_with_aux2\u001b[39m\n\u001b[1;32m    387\u001b[0m \u001b[38;5;28;01mdef\u001b[39;00m \u001b[38;5;21m_get_result_paths_thunk\u001b[39m(_fun: Callable, _store: Store, \u001b[38;5;241m*\u001b[39margs, \u001b[38;5;241m*\u001b[39m\u001b[38;5;241m*\u001b[39mkwargs):\n\u001b[0;32m--> 388\u001b[0m   ans \u001b[38;5;241m=\u001b[39m _fun(\u001b[38;5;241m*\u001b[39margs, \u001b[38;5;241m*\u001b[39m\u001b[38;5;241m*\u001b[39mkwargs)\n\u001b[1;32m    389\u001b[0m   result_paths \u001b[38;5;241m=\u001b[39m \u001b[38;5;28mtuple\u001b[39m(\u001b[38;5;124mf\u001b[39m\u001b[38;5;124m\"\u001b[39m\u001b[38;5;124mresult\u001b[39m\u001b[38;5;132;01m{\u001b[39;00m_clean_keystr_arg_names(path)\u001b[38;5;132;01m}\u001b[39;00m\u001b[38;5;124m\"\u001b[39m \u001b[38;5;28;01mfor\u001b[39;00m path, _ \u001b[38;5;129;01min\u001b[39;00m generate_key_paths(ans))\n\u001b[1;32m    390\u001b[0m   \u001b[38;5;28;01mif\u001b[39;00m _store:\n\u001b[1;32m    391\u001b[0m     \u001b[38;5;66;03m# In some instances a lu.WrappedFun is called multiple times, e.g.,\u001b[39;00m\n\u001b[1;32m    392\u001b[0m     \u001b[38;5;66;03m# the bwd function in a custom_vjp\u001b[39;00m\n",
      "File \u001b[0;32m~/Codes/QuantumEigenSolver/Python/QES/general_python/ml/net_impl/utils/net_utils_jax.py:537\u001b[0m, in \u001b[0;36mapply_callable_batched_jax.<locals>.compute_batch\u001b[0;34m(batch_states, batch_logps, batch_sampleps)\u001b[0m\n\u001b[1;32m    536\u001b[0m \u001b[38;5;28;01mdef\u001b[39;00m \u001b[38;5;21mcompute_batch\u001b[39m(batch_states, batch_logps, batch_sampleps):\n\u001b[0;32m--> 537\u001b[0m     \u001b[38;5;28;01mreturn\u001b[39;00m jax\u001b[38;5;241m.\u001b[39mvmap(compute_estimate, in_axes\u001b[38;5;241m=\u001b[39m(\u001b[38;5;241m0\u001b[39m, \u001b[38;5;241m0\u001b[39m, \u001b[38;5;241m0\u001b[39m))(batch_states, batch_logps, batch_sampleps)\n",
      "    \u001b[0;31m[... skipping hidden 1 frame]\u001b[0m\n",
      "File \u001b[0;32m~/libraries/anaconda3/lib/python3.11/site-packages/jax/_src/api.py:1017\u001b[0m, in \u001b[0;36mvmap.<locals>.vmap_f\u001b[0;34m(*args, **kwargs)\u001b[0m\n\u001b[1;32m   1014\u001b[0m \u001b[38;5;28;01mtry\u001b[39;00m:\n\u001b[1;32m   1015\u001b[0m   axis_data \u001b[38;5;241m=\u001b[39m batching\u001b[38;5;241m.\u001b[39mAxisData(axis_name, axis_size_, spmd_axis_name,\n\u001b[1;32m   1016\u001b[0m                                 explicit_mesh_axis)\n\u001b[0;32m-> 1017\u001b[0m   out_flat \u001b[38;5;241m=\u001b[39m batching\u001b[38;5;241m.\u001b[39mbatch(\n\u001b[1;32m   1018\u001b[0m       flat_fun, axis_data, in_axes_flat,\n\u001b[1;32m   1019\u001b[0m       \u001b[38;5;28;01mlambda\u001b[39;00m: flatten_axes(\u001b[38;5;124m\"\u001b[39m\u001b[38;5;124mvmap out_axes\u001b[39m\u001b[38;5;124m\"\u001b[39m, out_tree(), out_axes)\n\u001b[1;32m   1020\u001b[0m   )\u001b[38;5;241m.\u001b[39mcall_wrapped(\u001b[38;5;241m*\u001b[39margs_flat)\n\u001b[1;32m   1021\u001b[0m \u001b[38;5;28;01mexcept\u001b[39;00m batching\u001b[38;5;241m.\u001b[39mSpecMatchError \u001b[38;5;28;01mas\u001b[39;00m e:\n\u001b[1;32m   1022\u001b[0m   out_axes_flat \u001b[38;5;241m=\u001b[39m flatten_axes(\u001b[38;5;124m\"\u001b[39m\u001b[38;5;124mvmap out_axes\u001b[39m\u001b[38;5;124m\"\u001b[39m, out_tree(), out_axes)\n",
      "File \u001b[0;32m~/libraries/anaconda3/lib/python3.11/site-packages/jax/_src/linear_util.py:210\u001b[0m, in \u001b[0;36mWrappedFun.call_wrapped\u001b[0;34m(self, *args, **kwargs)\u001b[0m\n\u001b[1;32m    208\u001b[0m \u001b[38;5;28;01mdef\u001b[39;00m \u001b[38;5;21mcall_wrapped\u001b[39m(\u001b[38;5;28mself\u001b[39m, \u001b[38;5;241m*\u001b[39margs, \u001b[38;5;241m*\u001b[39m\u001b[38;5;241m*\u001b[39mkwargs):\n\u001b[1;32m    209\u001b[0m \u001b[38;5;250m  \u001b[39m\u001b[38;5;124;03m\"\"\"Calls the transformed function\"\"\"\u001b[39;00m\n\u001b[0;32m--> 210\u001b[0m   \u001b[38;5;28;01mreturn\u001b[39;00m \u001b[38;5;28mself\u001b[39m\u001b[38;5;241m.\u001b[39mf_transformed(\u001b[38;5;241m*\u001b[39margs, \u001b[38;5;241m*\u001b[39m\u001b[38;5;241m*\u001b[39mkwargs)\n",
      "File \u001b[0;32m~/libraries/anaconda3/lib/python3.11/site-packages/jax/_src/interpreters/batching.py:608\u001b[0m, in \u001b[0;36m_batch_outer\u001b[0;34m(f, axis_data, in_dims, *in_vals)\u001b[0m\n\u001b[1;32m    606\u001b[0m tag \u001b[38;5;241m=\u001b[39m TraceTag()\n\u001b[1;32m    607\u001b[0m \u001b[38;5;28;01mwith\u001b[39;00m source_info_util\u001b[38;5;241m.\u001b[39mtransform_name_stack(\u001b[38;5;124m'\u001b[39m\u001b[38;5;124mvmap\u001b[39m\u001b[38;5;124m'\u001b[39m):\n\u001b[0;32m--> 608\u001b[0m   outs, trace \u001b[38;5;241m=\u001b[39m f(tag, in_dims, \u001b[38;5;241m*\u001b[39min_vals)\n\u001b[1;32m    609\u001b[0m \u001b[38;5;28;01mwith\u001b[39;00m core\u001b[38;5;241m.\u001b[39mensure_no_leaks(trace): \u001b[38;5;28;01mdel\u001b[39;00m trace\n\u001b[1;32m    610\u001b[0m \u001b[38;5;28;01mreturn\u001b[39;00m outs\n",
      "File \u001b[0;32m~/libraries/anaconda3/lib/python3.11/site-packages/jax/_src/interpreters/batching.py:623\u001b[0m, in \u001b[0;36m_batch_inner\u001b[0;34m(f, axis_data, out_dim_dests, tag, in_dims, *in_vals)\u001b[0m\n\u001b[1;32m    619\u001b[0m   in_tracers \u001b[38;5;241m=\u001b[39m \u001b[38;5;28mmap\u001b[39m(partial(to_elt, trace, idx), in_vals, in_dims)\n\u001b[1;32m    620\u001b[0m   \u001b[38;5;28;01mwith\u001b[39;00m (core\u001b[38;5;241m.\u001b[39mset_current_trace(trace),\n\u001b[1;32m    621\u001b[0m         core\u001b[38;5;241m.\u001b[39mextend_axis_env_nd([(axis_data\u001b[38;5;241m.\u001b[39mname, axis_data\u001b[38;5;241m.\u001b[39msize)]),\n\u001b[1;32m    622\u001b[0m         core\u001b[38;5;241m.\u001b[39madd_spmd_axis_names(axis_data\u001b[38;5;241m.\u001b[39mspmd_name)):\n\u001b[0;32m--> 623\u001b[0m     outs \u001b[38;5;241m=\u001b[39m f(\u001b[38;5;241m*\u001b[39min_tracers)\n\u001b[1;32m    625\u001b[0m out_dim_dests \u001b[38;5;241m=\u001b[39m out_dim_dests() \u001b[38;5;28;01mif\u001b[39;00m \u001b[38;5;28mcallable\u001b[39m(out_dim_dests) \u001b[38;5;28;01melse\u001b[39;00m out_dim_dests\n\u001b[1;32m    626\u001b[0m out_vals \u001b[38;5;241m=\u001b[39m \u001b[38;5;28mmap\u001b[39m(partial(from_elt, trace, axis_data\u001b[38;5;241m.\u001b[39msize,\n\u001b[1;32m    627\u001b[0m                        axis_data\u001b[38;5;241m.\u001b[39mexplicit_mesh_axis),\n\u001b[1;32m    628\u001b[0m                \u001b[38;5;28mrange\u001b[39m(\u001b[38;5;28mlen\u001b[39m(outs)), outs, out_dim_dests)\n",
      "File \u001b[0;32m~/libraries/anaconda3/lib/python3.11/site-packages/jax/_src/interpreters/batching.py:342\u001b[0m, in \u001b[0;36mflatten_fun_for_vmap\u001b[0;34m(f, store, in_tree, *args_flat)\u001b[0m\n\u001b[1;32m    338\u001b[0m \u001b[38;5;129m@lu\u001b[39m\u001b[38;5;241m.\u001b[39mtransformation_with_aux2\n\u001b[1;32m    339\u001b[0m \u001b[38;5;28;01mdef\u001b[39;00m \u001b[38;5;21mflatten_fun_for_vmap\u001b[39m(f: Callable,\n\u001b[1;32m    340\u001b[0m                          store: lu\u001b[38;5;241m.\u001b[39mStore, in_tree: PyTreeDef, \u001b[38;5;241m*\u001b[39margs_flat):\n\u001b[1;32m    341\u001b[0m   py_args, py_kwargs \u001b[38;5;241m=\u001b[39m tree_unflatten(in_tree, args_flat)\n\u001b[0;32m--> 342\u001b[0m   ans \u001b[38;5;241m=\u001b[39m f(\u001b[38;5;241m*\u001b[39mpy_args, \u001b[38;5;241m*\u001b[39m\u001b[38;5;241m*\u001b[39mpy_kwargs)\n\u001b[1;32m    343\u001b[0m   ans, out_tree \u001b[38;5;241m=\u001b[39m tree_flatten(ans, is_leaf\u001b[38;5;241m=\u001b[39mis_vmappable)\n\u001b[1;32m    344\u001b[0m   store\u001b[38;5;241m.\u001b[39mstore(out_tree)\n",
      "File \u001b[0;32m~/libraries/anaconda3/lib/python3.11/site-packages/jax/_src/linear_util.py:388\u001b[0m, in \u001b[0;36m_get_result_paths_thunk\u001b[0;34m(_fun, _store, *args, **kwargs)\u001b[0m\n\u001b[1;32m    386\u001b[0m \u001b[38;5;129m@transformation_with_aux2\u001b[39m\n\u001b[1;32m    387\u001b[0m \u001b[38;5;28;01mdef\u001b[39;00m \u001b[38;5;21m_get_result_paths_thunk\u001b[39m(_fun: Callable, _store: Store, \u001b[38;5;241m*\u001b[39margs, \u001b[38;5;241m*\u001b[39m\u001b[38;5;241m*\u001b[39mkwargs):\n\u001b[0;32m--> 388\u001b[0m   ans \u001b[38;5;241m=\u001b[39m _fun(\u001b[38;5;241m*\u001b[39margs, \u001b[38;5;241m*\u001b[39m\u001b[38;5;241m*\u001b[39mkwargs)\n\u001b[1;32m    389\u001b[0m   result_paths \u001b[38;5;241m=\u001b[39m \u001b[38;5;28mtuple\u001b[39m(\u001b[38;5;124mf\u001b[39m\u001b[38;5;124m\"\u001b[39m\u001b[38;5;124mresult\u001b[39m\u001b[38;5;132;01m{\u001b[39;00m_clean_keystr_arg_names(path)\u001b[38;5;132;01m}\u001b[39;00m\u001b[38;5;124m\"\u001b[39m \u001b[38;5;28;01mfor\u001b[39;00m path, _ \u001b[38;5;129;01min\u001b[39;00m generate_key_paths(ans))\n\u001b[1;32m    390\u001b[0m   \u001b[38;5;28;01mif\u001b[39;00m _store:\n\u001b[1;32m    391\u001b[0m     \u001b[38;5;66;03m# In some instances a lu.WrappedFun is called multiple times, e.g.,\u001b[39;00m\n\u001b[1;32m    392\u001b[0m     \u001b[38;5;66;03m# the bwd function in a custom_vjp\u001b[39;00m\n",
      "File \u001b[0;32m~/Codes/QuantumEigenSolver/Python/QES/general_python/ml/net_impl/utils/net_utils_jax.py:523\u001b[0m, in \u001b[0;36mapply_callable_batched_jax.<locals>.compute_estimate\u001b[0;34m(state, logp, sample_p)\u001b[0m\n\u001b[1;32m    521\u001b[0m weighted_sum            \u001b[38;5;241m=\u001b[39m jnp\u001b[38;5;241m.\u001b[39msum(new_vals \u001b[38;5;241m*\u001b[39m weights, axis\u001b[38;5;241m=\u001b[39m\u001b[38;5;241m0\u001b[39m)\n\u001b[1;32m    522\u001b[0m output                  \u001b[38;5;241m=\u001b[39m jnp\u001b[38;5;241m.\u001b[39msum(weighted_sum, axis\u001b[38;5;241m=\u001b[39m\u001b[38;5;241m0\u001b[39m)\n\u001b[0;32m--> 523\u001b[0m \u001b[38;5;28;01mreturn\u001b[39;00m output\n",
      "File \u001b[0;32m~/Codes/QuantumEigenSolver/Python/QES/general_python/ml/net_impl/utils/net_utils_jax.py:523\u001b[0m, in \u001b[0;36mapply_callable_batched_jax.<locals>.compute_estimate\u001b[0;34m(state, logp, sample_p)\u001b[0m\n\u001b[1;32m    521\u001b[0m weighted_sum            \u001b[38;5;241m=\u001b[39m jnp\u001b[38;5;241m.\u001b[39msum(new_vals \u001b[38;5;241m*\u001b[39m weights, axis\u001b[38;5;241m=\u001b[39m\u001b[38;5;241m0\u001b[39m)\n\u001b[1;32m    522\u001b[0m output                  \u001b[38;5;241m=\u001b[39m jnp\u001b[38;5;241m.\u001b[39msum(weighted_sum, axis\u001b[38;5;241m=\u001b[39m\u001b[38;5;241m0\u001b[39m)\n\u001b[0;32m--> 523\u001b[0m \u001b[38;5;28;01mreturn\u001b[39;00m output\n",
      "File \u001b[0;32m_pydevd_bundle\\\\pydevd_cython.pyx:1697\u001b[0m, in \u001b[0;36m_pydevd_bundle.pydevd_cython.SafeCallWrapper.__call__\u001b[0;34m()\u001b[0m\n",
      "File \u001b[0;32m_pydevd_bundle\\\\pydevd_cython.pyx:634\u001b[0m, in \u001b[0;36m_pydevd_bundle.pydevd_cython.PyDBFrame.trace_dispatch\u001b[0;34m()\u001b[0m\n",
      "File \u001b[0;32m_pydevd_bundle\\\\pydevd_cython.pyx:1368\u001b[0m, in \u001b[0;36m_pydevd_bundle.pydevd_cython.PyDBFrame.trace_dispatch\u001b[0;34m()\u001b[0m\n",
      "File \u001b[0;32m_pydevd_bundle\\\\pydevd_cython.pyx:1311\u001b[0m, in \u001b[0;36m_pydevd_bundle.pydevd_cython.PyDBFrame.trace_dispatch\u001b[0;34m()\u001b[0m\n",
      "File \u001b[0;32m_pydevd_bundle\\\\pydevd_cython.pyx:494\u001b[0m, in \u001b[0;36m_pydevd_bundle.pydevd_cython.PyDBFrame.do_wait_suspend\u001b[0;34m()\u001b[0m\n",
      "File \u001b[0;32m~/libraries/anaconda3/lib/python3.11/site-packages/debugpy/_vendored/pydevd/pydevd.py:2185\u001b[0m, in \u001b[0;36mPyDB.do_wait_suspend\u001b[0;34m(self, thread, frame, event, arg, exception_type)\u001b[0m\n\u001b[1;32m   2182\u001b[0m             from_this_thread\u001b[38;5;241m.\u001b[39mappend(frame_custom_thread_id)\n\u001b[1;32m   2184\u001b[0m     \u001b[38;5;28;01mwith\u001b[39;00m \u001b[38;5;28mself\u001b[39m\u001b[38;5;241m.\u001b[39m_threads_suspended_single_notification\u001b[38;5;241m.\u001b[39mnotify_thread_suspended(thread_id, thread, stop_reason):\n\u001b[0;32m-> 2185\u001b[0m         keep_suspended \u001b[38;5;241m=\u001b[39m \u001b[38;5;28mself\u001b[39m\u001b[38;5;241m.\u001b[39m_do_wait_suspend(thread, frame, event, arg, trace_suspend_type, from_this_thread, frames_tracker)\n\u001b[1;32m   2187\u001b[0m frames_list \u001b[38;5;241m=\u001b[39m \u001b[38;5;28;01mNone\u001b[39;00m\n\u001b[1;32m   2189\u001b[0m \u001b[38;5;28;01mif\u001b[39;00m keep_suspended:\n\u001b[1;32m   2190\u001b[0m     \u001b[38;5;66;03m# This means that we should pause again after a set next statement.\u001b[39;00m\n",
      "File \u001b[0;32m~/libraries/anaconda3/lib/python3.11/site-packages/debugpy/_vendored/pydevd/pydevd.py:2254\u001b[0m, in \u001b[0;36mPyDB._do_wait_suspend\u001b[0;34m(self, thread, frame, event, arg, trace_suspend_type, from_this_thread, frames_tracker)\u001b[0m\n\u001b[1;32m   2251\u001b[0m                 queue\u001b[38;5;241m.\u001b[39mput(internal_cmd)\n\u001b[1;32m   2252\u001b[0m                 wait_timeout \u001b[38;5;241m=\u001b[39m TIMEOUT_FAST\n\u001b[0;32m-> 2254\u001b[0m         notify_event\u001b[38;5;241m.\u001b[39mwait(wait_timeout)\n\u001b[1;32m   2255\u001b[0m         notify_event\u001b[38;5;241m.\u001b[39mclear()\n\u001b[1;32m   2257\u001b[0m \u001b[38;5;28;01mfinally\u001b[39;00m:\n",
      "File \u001b[0;32m~/libraries/anaconda3/lib/python3.11/threading.py:622\u001b[0m, in \u001b[0;36mEvent.wait\u001b[0;34m(self, timeout)\u001b[0m\n\u001b[1;32m    620\u001b[0m signaled \u001b[38;5;241m=\u001b[39m \u001b[38;5;28mself\u001b[39m\u001b[38;5;241m.\u001b[39m_flag\n\u001b[1;32m    621\u001b[0m \u001b[38;5;28;01mif\u001b[39;00m \u001b[38;5;129;01mnot\u001b[39;00m signaled:\n\u001b[0;32m--> 622\u001b[0m     signaled \u001b[38;5;241m=\u001b[39m \u001b[38;5;28mself\u001b[39m\u001b[38;5;241m.\u001b[39m_cond\u001b[38;5;241m.\u001b[39mwait(timeout)\n\u001b[1;32m    623\u001b[0m \u001b[38;5;28;01mreturn\u001b[39;00m signaled\n",
      "File \u001b[0;32m~/libraries/anaconda3/lib/python3.11/threading.py:324\u001b[0m, in \u001b[0;36mCondition.wait\u001b[0;34m(self, timeout)\u001b[0m\n\u001b[1;32m    322\u001b[0m \u001b[38;5;28;01melse\u001b[39;00m:\n\u001b[1;32m    323\u001b[0m     \u001b[38;5;28;01mif\u001b[39;00m timeout \u001b[38;5;241m>\u001b[39m \u001b[38;5;241m0\u001b[39m:\n\u001b[0;32m--> 324\u001b[0m         gotit \u001b[38;5;241m=\u001b[39m waiter\u001b[38;5;241m.\u001b[39macquire(\u001b[38;5;28;01mTrue\u001b[39;00m, timeout)\n\u001b[1;32m    325\u001b[0m     \u001b[38;5;28;01melse\u001b[39;00m:\n\u001b[1;32m    326\u001b[0m         gotit \u001b[38;5;241m=\u001b[39m waiter\u001b[38;5;241m.\u001b[39macquire(\u001b[38;5;28;01mFalse\u001b[39;00m)\n",
      "\u001b[0;31mKeyboardInterrupt\u001b[0m: "
     ]
    }
   ],
   "source": [
    "from flax.training.train_state import TrainState\n",
    "import matplotlib.pyplot as plt\n",
    "import optax\n",
    "\n",
    "# try to train the network\n",
    "\n",
    "n_epo       = 150\n",
    "batch_size  = 10\n",
    "history     = []\n",
    "sr          = nqs.sr\n",
    "# Initialize the optimizer\n",
    "# lr          = optax.linear_schedule(init_value=0.001, end_value=0.0001, transition_steps=1000)\n",
    "# optimizer   = optax.adam(learning_rate=lr)\n",
    "lr          = 6e-3\n",
    "# Create a TrainState to manage the model parameters and optimizer state\n",
    "# train_state = TrainState.create(apply_fn=net.apply, params=net.get_params(), tx=optimizer)\n",
    "\n",
    "for i in range(n_epo):\n",
    "    print(f\"Epoch {i + 1}/{n_epo}\")\n",
    "    \n",
    "    # collect the samples\n",
    "    (states, logprobas), (configs, configs_ansatze), probabilities = nqs.sample()\n",
    "    print(f\"  Number of configurations: {configs.shape}\")\n",
    "    print(f\"  Configs and ansatze: {configs_ansatze.shape}\")\n",
    "    print(f\"  Number of states: {states.shape}\")\n",
    "    print(f\"  Number of probabilities: {probabilities.shape}\\n\")\n",
    "    \n",
    "    # collect the energies\n",
    "    (configs, ansatze), probabilities, (v, means, stds) = nqs.evaluate_fun(\n",
    "        states_and_psi  = (configs, configs_ansatze),\n",
    "        probabilities   = probabilities,\n",
    "        functions       = None,     # means that we evaluate energy\n",
    "        batch_size      = batch_size\n",
    "    )\n",
    "    # print(f\"  Energies: {v.shape}\")\n",
    "    # print(f\"  Mean energy: {means}, std: {stds}\")\n",
    "    # print(f\"  Configurations: {configs.shape}\")\n",
    "    \n",
    "    # get the gradients\n",
    "    # grad = nqs.gradient(states=configs, batch_size=batch_size)\n",
    "    \n",
    "    # try to calculate the stochastic reconfiguration\n",
    "    # sr.set_values(loss=v, derivatives=grad, mean_loss=means, mean_deriv=None, calculate_s=True, use_minsr=False)\n",
    "\n",
    "    # f = sr.forces\n",
    "    # s = sr.covariance_matrix\n",
    "    # print(f\"  Forces: {f.shape}\")\n",
    "    # if s is not None:\n",
    "        # print(f\"  Covariance matrix: {s.shape}\")\n",
    "    \n",
    "    # try to calculate the gradient through the stochastic reconfiguration\n",
    "    # s_inv   = jnp.linalg.pinv(s, rtol = 1e-3)\n",
    "    # print(f\"  Inverse covariance matrix: {s_inv.shape}\")\n",
    "    # df      = lr * jnp.dot(s_inv, f)\n",
    "    # df = jnp.linalg.solve(s, f)\n",
    "    # print(f\"  Gradient through the stochastic reconfiguration: {df.shape}\")\n",
    "    \n",
    "    # Update the network parameters using TrainState\n",
    "    \n",
    "    # new_params      = train_state.apply_gradients(grads={\"params\":df})\n",
    "    # nqs.update_parameters(df)\n",
    "    # updates, new_opt_state  = train_state.tx.update(df, train_state.opt_state, train_state.params)\n",
    "    # new_params              = optax.apply_updates(train_state.params, updates)\n",
    "    # train_state             = train_state.replace(params=new_params, opt_state=new_opt_state)\n",
    "    \n",
    "    # history.append(means)\n",
    "    \n",
    "\n",
    "plt.plot(history)\n",
    "\n",
    "# Number of configurations: (25, 10)\n",
    "# Configs and ansatze: (25, 1)\n",
    "# Number of states: (5, 10)\n",
    "# Number of probabilities: (25, 1)"
   ]
  },
  {
   "cell_type": "markdown",
   "metadata": {},
   "source": [
    "## Test flax networks"
   ]
  },
  {
   "cell_type": "code",
   "execution_count": 1,
   "metadata": {},
   "outputs": [
    {
     "name": "stderr",
     "output_type": "stream",
     "text": [
      "INFO:general_python.algebra.utils:63: JAX backend available and successfully imported\n",
      "INFO:general_python.algebra.utils:63: \tJAX 64-bit precision enabled.\n",
      "INFO:general_python.algebra.utils:262: Setting JAX as the active backend.\n",
      "INFO:general_python.algebra.utils:63: **************************************************\n",
      "INFO:general_python.algebra.utils:63: Backend Configuration:\n",
      "INFO:general_python.algebra.utils:63: \t\tNumPy Version: 1.26.4\n",
      "INFO:general_python.algebra.utils:63: \t\tSciPy Version: 1.13.1\n",
      "INFO:general_python.algebra.utils:63: \t\tJAX Version: 0.5.3\n",
      "INFO:general_python.algebra.utils:63: \t\tActive Backend: jax\n",
      "INFO:general_python.algebra.utils:63: \t\t\tJAX Available: True\n",
      "INFO:general_python.algebra.utils:63: \t\t\tDefault Seed: 42\n",
      "INFO:general_python.algebra.utils:63: \t\tJAX Backend Details:\n",
      "INFO:general_python.algebra.utils:63: \t\t\t\tMain Module: jax.numpy\n",
      "INFO:general_python.algebra.utils:63: \t\t\t\tRandom Module: jax.random (+ PRNGKey)\n",
      "INFO:general_python.algebra.utils:63: \t\t\t\tSciPy Module: jax.scipy\n",
      "INFO:general_python.algebra.utils:63: \t\t\t\tDefault JAX Key: PRNGKey(42)\n",
      "INFO:general_python.algebra.utils:63: \t\tActive Data Types:\n",
      "INFO:general_python.algebra.utils:63: \t\t\t\tInteger Type: int64\n",
      "INFO:general_python.algebra.utils:63: \t\t\t\tFloat Type: float64\n",
      "INFO:general_python.algebra.utils:63: \t\t\t\tComplex Type: complex128\n",
      "INFO:general_python.algebra.utils:63: \t\tHardware & Device Detection:\n",
      "INFO:general_python.algebra.utils:63: \t\t\tCPU Cores: 48\n",
      "INFO:general_python.algebra.utils:63: \t\t\tDetected JAX Platform: DETECTION FAILED\n",
      "INFO:general_python.algebra.utils:63: \t\tJAX Devices Found: Detection Failed or Not Run\n",
      "INFO:general_python.algebra.utils:63: **************************************************\n",
      "\n",
      "\n",
      "\n",
      "INFO:general_python.common.flog:241: Log file created: ./log/global.log\n",
      "INFO:general_python.common.flog:241: Log level set to: info\n",
      "INFO:general_python.common.flog:256: ########### Global logger initialized. ###########\n",
      "INFO:general_python.common.flog:241: \t->\u001b[34m[GeneralNet] Holomorphic check result (||∇Re[f] - i*∇Im[f]|| / ||∇Re[f]|| ≈ 0): True\u001b[0m\n",
      "INFO:general_python.common.flog:241: \t->\u001b[34m[GeneralNet] FlaxInterface initialized: dtype=complex128, is_complex=True, nparams=144, is_holomorphic=True\u001b[0m\n",
      "INFO:general_python.common.flog:241: \t->\u001b[0m[Transverse Field Ising Model] Building TFIM operator list...\u001b[0m\n",
      "INFO:general_python.common.flog:241: \t\t->\u001b[0m[Transverse Field Ising Model] Adding modifying operator Operator(Sx/L, eigval=1.0, type=Other) at site 0 (sites: [0]) with multiplier 0.5\u001b[0m\n",
      "INFO:general_python.common.flog:241: \t\t->\u001b[0m[Transverse Field Ising Model] Adding modifying operator Operator(Sx/L, eigval=1.0, type=Other) at site 1 (sites: [1]) with multiplier 0.5\u001b[0m\n",
      "INFO:general_python.common.flog:241: \t\t->\u001b[0m[Transverse Field Ising Model] Adding modifying operator Operator(Sx/L, eigval=1.0, type=Other) at site 2 (sites: [2]) with multiplier 0.5\u001b[0m\n",
      "INFO:general_python.common.flog:241: \t\t->\u001b[0m[Transverse Field Ising Model] Adding modifying operator Operator(Sx/L, eigval=1.0, type=Other) at site 3 (sites: [3]) with multiplier 0.5\u001b[0m\n",
      "INFO:general_python.common.flog:241: \t\t->\u001b[0m[Transverse Field Ising Model] Adding modifying operator Operator(Sx/L, eigval=1.0, type=Other) at site 4 (sites: [4]) with multiplier 0.5\u001b[0m\n",
      "INFO:general_python.common.flog:241: \t\t->\u001b[0m[Transverse Field Ising Model] Adding modifying operator Operator(Sx/L, eigval=1.0, type=Other) at site 5 (sites: [5]) with multiplier 0.5\u001b[0m\n",
      "INFO:general_python.common.flog:241: \t\t->\u001b[0m[Transverse Field Ising Model] Adding modifying operator Operator(Sx/L, eigval=1.0, type=Other) at site 6 (sites: [6]) with multiplier 0.5\u001b[0m\n",
      "INFO:general_python.common.flog:241: \t\t->\u001b[0m[Transverse Field Ising Model] Adding modifying operator Operator(Sx/L, eigval=1.0, type=Other) at site 7 (sites: [7]) with multiplier 0.5\u001b[0m\n",
      "INFO:general_python.common.flog:241: \t\t->\u001b[0m[Transverse Field Ising Model] Adding non-modifying operator Operator(Sz/L, eigval=1.0, type=Other) at site 0 (sites: [0]) with multiplier -0.5\u001b[0m\n",
      "INFO:general_python.common.flog:241: \t\t->\u001b[0m[Transverse Field Ising Model] Adding non-modifying operator Operator(Sz/L, eigval=1.0, type=Other) at site 1 (sites: [1]) with multiplier -0.5\u001b[0m\n",
      "INFO:general_python.common.flog:241: \t\t->\u001b[0m[Transverse Field Ising Model] Adding non-modifying operator Operator(Sz/L, eigval=1.0, type=Other) at site 2 (sites: [2]) with multiplier -0.5\u001b[0m\n",
      "INFO:general_python.common.flog:241: \t\t->\u001b[0m[Transverse Field Ising Model] Adding non-modifying operator Operator(Sz/L, eigval=1.0, type=Other) at site 3 (sites: [3]) with multiplier -0.5\u001b[0m\n",
      "INFO:general_python.common.flog:241: \t\t->\u001b[0m[Transverse Field Ising Model] Adding non-modifying operator Operator(Sz/L, eigval=1.0, type=Other) at site 4 (sites: [4]) with multiplier -0.5\u001b[0m\n",
      "INFO:general_python.common.flog:241: \t\t->\u001b[0m[Transverse Field Ising Model] Adding non-modifying operator Operator(Sz/L, eigval=1.0, type=Other) at site 5 (sites: [5]) with multiplier -0.5\u001b[0m\n",
      "INFO:general_python.common.flog:241: \t\t->\u001b[0m[Transverse Field Ising Model] Adding non-modifying operator Operator(Sz/L, eigval=1.0, type=Other) at site 6 (sites: [6]) with multiplier -0.5\u001b[0m\n",
      "INFO:general_python.common.flog:241: \t\t->\u001b[0m[Transverse Field Ising Model] Adding non-modifying operator Operator(Sz/L, eigval=1.0, type=Other) at site 7 (sites: [7]) with multiplier -0.5\u001b[0m\n",
      "INFO:general_python.common.flog:241: \t\t->\u001b[0m[Transverse Field Ising Model] Adding non-modifying operator Operator(Sz/C, eigval=1.0, type=Other) at site 0 (sites: [0, 1]) with multiplier 1.0\u001b[0m\n",
      "INFO:general_python.common.flog:241: \t\t->\u001b[0m[Transverse Field Ising Model] Adding non-modifying operator Operator(Sz/C, eigval=1.0, type=Other) at site 1 (sites: [1, 2]) with multiplier 1.0\u001b[0m\n",
      "INFO:general_python.common.flog:241: \t\t->\u001b[0m[Transverse Field Ising Model] Adding non-modifying operator Operator(Sz/C, eigval=1.0, type=Other) at site 2 (sites: [2, 3]) with multiplier 1.0\u001b[0m\n",
      "INFO:general_python.common.flog:241: \t\t->\u001b[0m[Transverse Field Ising Model] Adding non-modifying operator Operator(Sz/C, eigval=1.0, type=Other) at site 3 (sites: [3, 4]) with multiplier 1.0\u001b[0m\n",
      "INFO:general_python.common.flog:241: \t\t->\u001b[0m[Transverse Field Ising Model] Adding non-modifying operator Operator(Sz/C, eigval=1.0, type=Other) at site 4 (sites: [4, 5]) with multiplier 1.0\u001b[0m\n",
      "INFO:general_python.common.flog:241: \t\t->\u001b[0m[Transverse Field Ising Model] Adding non-modifying operator Operator(Sz/C, eigval=1.0, type=Other) at site 5 (sites: [5, 6]) with multiplier 1.0\u001b[0m\n",
      "INFO:general_python.common.flog:241: \t\t->\u001b[0m[Transverse Field Ising Model] Adding non-modifying operator Operator(Sz/C, eigval=1.0, type=Other) at site 6 (sites: [6, 7]) with multiplier 1.0\u001b[0m\n",
      "INFO:general_python.common.flog:241: \t\t->\u001b[0m[Transverse Field Ising Model] Adding non-modifying operator Operator(Sz/C, eigval=1.0, type=Other) at site 7 (sites: [7, 0]) with multiplier 1.0\u001b[0m\n",
      "WARNING:general_python.common.flog:241: \t\t->\u001b[32m[Transverse Field Ising Model] Max local changes set to 3\u001b[0m\n",
      "INFO:general_python.common.flog:241: \t\t->\u001b[0m[Transverse Field Ising Model] Successfully set local energy functions...\u001b[0m\n",
      "INFO:general_python.common.flog:241: \t->\u001b[0m[Transverse Field Ising Model] TFIM Hamiltonian initialized for 8 sites.\u001b[0m\n"
     ]
    }
   ],
   "source": [
    "import NQS.nqs as nqsmodule\n",
    "import Solver.MonteCarlo.sampler as Sampling\n",
    "from general_python.algebra.utils import get_backend\n",
    "from general_python.ml.net_impl.networks.net_rbm import RBM\n",
    "\n",
    "import numpy as np\n",
    "import jax.numpy as jnp\n",
    "\n",
    "#! Hamiltonian\n",
    "from Algebra.Model.Interacting.Spin.transverse_ising import TransverseFieldIsing\n",
    "from general_python.lattices.square import SquareLattice\n",
    "from general_python.lattices.lattice import LatticeBC\n",
    "\n",
    "# get random backend\n",
    "backend             = 'jax'\n",
    "seed                = 1234\n",
    "dtypex              = jnp.complex128\n",
    "be_modules          = get_backend(backend, random=True, seed=seed, scipy=True)\n",
    "backend_np, (rng, rng_k), backend_sp = be_modules if isinstance(be_modules, tuple) else (be_modules, (None, None), None)\n",
    "\n",
    "# get the network\n",
    "ns                  = 8\n",
    "st_shape            = (ns, )\n",
    "net                 =   RBM(\n",
    "    input_shape     = st_shape, \n",
    "    n_hidden        = ns * 2,\n",
    "    dtype           = dtypex,\n",
    "    seed            = seed,\n",
    "    visible_bias    = False,\n",
    "    bias            = True\n",
    ")\n",
    "sampler             =   Sampling.MCSampler(\n",
    "    net             = net,\n",
    "    shape           = st_shape,\n",
    "    rng             = rng,\n",
    "    rng_k           = rng_k,\n",
    "    numchains       = 100,\n",
    "    numsamples      = 100,\n",
    "    sweep_steps     = ns,\n",
    "    backend         = backend_np,\n",
    "    therm_steps     = 25,\n",
    "    mu              = 2.0,\n",
    "    seed            = seed\n",
    ")\n",
    "\n",
    "# get the Hamiltonian\n",
    "ham_dtype           = jnp.float64\n",
    "lattice             =   SquareLattice(\n",
    "    dim             = 1, \n",
    "    lx              = ns, \n",
    "    ly              = 1, \n",
    "    lz              = 1, \n",
    "    bc              = LatticeBC.PBC\n",
    ")\n",
    "\n",
    "j                   = -1.0   \n",
    "g                   = -0.5   \n",
    "h                   = 0.5\n",
    "ham                 =   TransverseFieldIsing(\n",
    "    lattice         = lattice,\n",
    "    hilbert_space   = None,\n",
    "    j               = j,\n",
    "    hz              = h,\n",
    "    hx              = g,\n",
    "    dtype           = ham_dtype,\n",
    "    backend         = backend_np\n",
    ")\n",
    "\n",
    "nqs                 =   nqsmodule.NQS(\n",
    "    net             = net,\n",
    "    sampler         = sampler,\n",
    "    hamiltonian     = ham,\n",
    "    lower_betas     = None,\n",
    "    lower_states    = None,\n",
    "    seed            = seed,\n",
    "    beta            = 1.0,\n",
    "    mu              = sampler.get_mu(),\n",
    "    shape           = st_shape,\n",
    "    backend         = backend_np,\n",
    "    nthread         = 1,\n",
    "    batch_size      = 1\n",
    ")"
   ]
  },
  {
   "cell_type": "markdown",
   "metadata": {},
   "source": [
    "### Local energy"
   ]
  },
  {
   "cell_type": "code",
   "execution_count": 2,
   "metadata": {},
   "outputs": [
    {
     "name": "stdout",
     "output_type": "stream",
     "text": [
      "Integer state: 6\n",
      "[array([ 6, 14]), array([6, 2]), array([6, 4]), array([6, 7])]\n",
      "5 5\n",
      "5 5\n",
      "i= 0\n",
      "\tInt state: 6, Energy: 0.0\n",
      "\tInt state: 6, Jax state: [-0.5  0.5  0.5 -0.5], Energy: 0.0\n",
      "i= 1\n",
      "\tInt state: 14, Energy: -0.25\n",
      "\tInt state: 14, Jax state: [ 0.5  0.5  0.5 -0.5], Energy: -0.25\n",
      "i= 2\n",
      "\tInt state: 2, Energy: -0.25\n",
      "\tInt state: 2, Jax state: [-0.5 -0.5  0.5 -0.5], Energy: -0.25\n",
      "i= 3\n",
      "\tInt state: 4, Energy: -0.25\n",
      "\tInt state: 4, Jax state: [-0.5  0.5 -0.5 -0.5], Energy: -0.25\n",
      "i= 4\n",
      "\tInt state: 7, Energy: -0.25\n",
      "\tInt state: 7, Jax state: [-0.5  0.5  0.5  0.5], Energy: -0.25\n"
     ]
    }
   ],
   "source": [
    "import general_python.common.binary as binary\n",
    "\n",
    "int_state       = np.random.randint(0, 2**ham.ns)\n",
    "print(f\"Integer state: {int_state}\")\n",
    "loc_energy_int  = []\n",
    "for i in range(ham.ns):\n",
    "    loc_energy_int.append(ham.loc_energy_int(int_state, i))\n",
    "loc_states_int  = [i[0] for i in loc_energy_int]\n",
    "loc_energy_int  = [i[1] for i in loc_energy_int]\n",
    "print(loc_states_int)\n",
    "# flatten the list\n",
    "loc_energy_int  = [item for sublist in loc_energy_int for item in sublist]\n",
    "loc_states_int  = [item for sublist in loc_states_int for item in sublist]\n",
    "loc_energy_int_l= [loc_energy_int[i] for i in range(len(loc_energy_int)) if loc_states_int[i] == int_state]\n",
    "loc_states_int_l= [loc_states_int[i] for i in range(len(loc_energy_int)) if loc_states_int[i] == int_state]\n",
    "loc_energy_int  = [loc_energy_int[i] for i in range(len(loc_states_int)) if loc_states_int[i] != int_state]\n",
    "loc_states_int  = [loc_states_int[i] for i in range(len(loc_states_int)) if loc_states_int[i] != int_state]\n",
    "loc_energy_int  = [np.sum(loc_energy_int_l)] + loc_energy_int \n",
    "loc_states_int  = [int_state] + loc_states_int\n",
    "\n",
    "jax_state       = binary.int2base(n = int_state, size = ham.ns, backend = 'np')\n",
    "jax_state       = jnp.array(jax_state, dtype=jnp.float64)\n",
    "loc_energy_jax  = ham.loc_energy_arr_jax(jax_state)\n",
    "loc_states_jax  = loc_energy_jax[0]\n",
    "loc_energy_jax  = loc_energy_jax[1]\n",
    "\n",
    "print(len(loc_energy_int), len(loc_energy_jax))\n",
    "print(len(loc_states_int), len(loc_states_jax))\n",
    "for i in range(len(loc_energy_int)):\n",
    "    print(\"i=\", i)\n",
    "    print(f\"\\tInt state: {loc_states_int[i]}, Energy: {loc_energy_int[i]}\")\n",
    "    print(f\"\\tInt state: {binary.base2int(loc_states_jax[i])}, Jax state: {loc_states_jax[i]}, Energy: {loc_energy_jax[i]}\")\n"
   ]
  },
  {
   "cell_type": "markdown",
   "metadata": {},
   "source": [
    "### Sampler"
   ]
  },
  {
   "cell_type": "code",
   "execution_count": 9,
   "metadata": {},
   "outputs": [
    {
     "data": {
      "text/plain": [
       "MCSampler(shape=(10,), mu=2.0, beta=1.0, therm_steps=100, sweep_steps=20, numsamples=50, numchains=10, backend=jax)"
      ]
     },
     "execution_count": 9,
     "metadata": {},
     "output_type": "execute_result"
    }
   ],
   "source": [
    "sampler"
   ]
  },
  {
   "cell_type": "code",
   "execution_count": 6,
   "metadata": {},
   "outputs": [
    {
     "name": "stdout",
     "output_type": "stream",
     "text": [
      "Warning: Running sample with 5 chains (instance default is 1). State reinitialized for this call.\n",
      "[-0.5  0.5  0.5  0.5  0.5 -0.5 -0.5  0.5]\n",
      "121\n",
      "\n",
      "[ 0.5 -0.5  0.5  0.5  0.5 -0.5 -0.5  0.5]\n",
      "185\n",
      "\n",
      "Warning: Running sample with 5 chains (instance default is 1). State reinitialized for this call.\n",
      "[ 0.5  0.5 -0.5 -0.5 -0.5 -0.5  0.5  0.5]\n",
      "195\n",
      "\n",
      "[ 0.5 -0.5  0.5  0.5  0.5 -0.5 -0.5  0.5]\n",
      "185\n",
      "\n",
      "Warning: Running sample with 5 chains (instance default is 1). State reinitialized for this call.\n",
      "[-0.5  0.5  0.5  0.5  0.5 -0.5 -0.5  0.5]\n",
      "121\n",
      "\n",
      "[ 0.5  0.5 -0.5  0.5  0.5 -0.5 -0.5  0.5]\n",
      "217\n",
      "\n",
      "Warning: Running sample with 5 chains (instance default is 1). State reinitialized for this call.\n",
      "[-0.5 -0.5  0.5  0.5  0.5 -0.5 -0.5  0.5]\n",
      "57\n",
      "\n",
      "[-0.5 -0.5  0.5  0.5  0.5 -0.5 -0.5  0.5]\n",
      "57\n",
      "\n",
      "Warning: Running sample with 5 chains (instance default is 1). State reinitialized for this call.\n",
      "[ 0.5  0.5 -0.5  0.5 -0.5 -0.5  0.5 -0.5]\n",
      "210\n",
      "\n",
      "[ 0.5 -0.5 -0.5  0.5 -0.5 -0.5  0.5 -0.5]\n",
      "146\n",
      "\n",
      "Warning: Running sample with 5 chains (instance default is 1). State reinitialized for this call.\n",
      "[ 0.5 -0.5 -0.5 -0.5 -0.5 -0.5  0.5  0.5]\n",
      "131\n",
      "\n",
      "[-0.5  0.5 -0.5  0.5  0.5 -0.5 -0.5  0.5]\n",
      "89\n",
      "\n",
      "Warning: Running sample with 5 chains (instance default is 1). State reinitialized for this call.\n",
      "[ 0.5  0.5 -0.5  0.5 -0.5 -0.5 -0.5  0.5]\n",
      "209\n",
      "\n",
      "[ 0.5 -0.5  0.5 -0.5 -0.5 -0.5  0.5  0.5]\n",
      "163\n",
      "\n",
      "Warning: Running sample with 5 chains (instance default is 1). State reinitialized for this call.\n",
      "[ 0.5  0.5 -0.5 -0.5 -0.5 -0.5  0.5  0.5]\n",
      "195\n",
      "\n",
      "[ 0.5 -0.5 -0.5 -0.5 -0.5  0.5  0.5 -0.5]\n",
      "134\n",
      "\n",
      "Warning: Running sample with 5 chains (instance default is 1). State reinitialized for this call.\n",
      "[ 0.5 -0.5  0.5  0.5  0.5 -0.5 -0.5  0.5]\n",
      "185\n",
      "\n",
      "[ 0.5 -0.5  0.5 -0.5 -0.5 -0.5  0.5 -0.5]\n",
      "162\n",
      "\n",
      "Warning: Running sample with 5 chains (instance default is 1). State reinitialized for this call.\n",
      "[-0.5 -0.5  0.5  0.5  0.5 -0.5 -0.5  0.5]\n",
      "57\n",
      "\n",
      "[ 0.5  0.5 -0.5 -0.5 -0.5 -0.5  0.5  0.5]\n",
      "195\n",
      "\n",
      "Warning: Running sample with 5 chains (instance default is 1). State reinitialized for this call.\n",
      "[-0.5  0.5 -0.5 -0.5 -0.5  0.5  0.5 -0.5]\n",
      "70\n",
      "\n",
      "[-0.5  0.5  0.5  0.5  0.5 -0.5 -0.5  0.5]\n",
      "121\n",
      "\n",
      "Warning: Running sample with 5 chains (instance default is 1). State reinitialized for this call.\n",
      "[-0.5 -0.5  0.5  0.5  0.5 -0.5 -0.5  0.5]\n",
      "57\n",
      "\n",
      "[ 0.5  0.5  0.5  0.5  0.5 -0.5 -0.5  0.5]\n",
      "249\n",
      "\n",
      "Warning: Running sample with 5 chains (instance default is 1). State reinitialized for this call.\n",
      "[-0.5  0.5  0.5  0.5  0.5 -0.5 -0.5  0.5]\n",
      "121\n",
      "\n",
      "[-0.5  0.5  0.5  0.5  0.5 -0.5 -0.5  0.5]\n",
      "121\n",
      "\n",
      "Warning: Running sample with 5 chains (instance default is 1). State reinitialized for this call.\n",
      "[-0.5  0.5  0.5  0.5  0.5 -0.5 -0.5  0.5]\n",
      "121\n",
      "\n",
      "[ 0.5 -0.5 -0.5 -0.5 -0.5  0.5  0.5  0.5]\n",
      "135\n",
      "\n",
      "Warning: Running sample with 5 chains (instance default is 1). State reinitialized for this call.\n",
      "[ 0.5  0.5 -0.5 -0.5 -0.5 -0.5  0.5  0.5]\n",
      "195\n",
      "\n",
      "[ 0.5  0.5  0.5  0.5  0.5 -0.5 -0.5  0.5]\n",
      "249\n",
      "\n",
      "Warning: Running sample with 5 chains (instance default is 1). State reinitialized for this call.\n",
      "[-0.5  0.5  0.5  0.5  0.5 -0.5 -0.5  0.5]\n",
      "121\n",
      "\n",
      "[ 0.5  0.5  0.5  0.5  0.5 -0.5 -0.5  0.5]\n",
      "249\n",
      "\n",
      "Warning: Running sample with 5 chains (instance default is 1). State reinitialized for this call.\n",
      "[ 0.5 -0.5  0.5  0.5  0.5 -0.5 -0.5  0.5]\n",
      "185\n",
      "\n",
      "[-0.5 -0.5  0.5  0.5  0.5 -0.5 -0.5  0.5]\n",
      "57\n",
      "\n",
      "Warning: Running sample with 5 chains (instance default is 1). State reinitialized for this call.\n",
      "[ 0.5 -0.5 -0.5 -0.5 -0.5 -0.5  0.5 -0.5]\n",
      "130\n",
      "\n",
      "[-0.5 -0.5  0.5  0.5  0.5 -0.5 -0.5  0.5]\n",
      "57\n",
      "\n",
      "Warning: Running sample with 5 chains (instance default is 1). State reinitialized for this call.\n",
      "[ 0.5 -0.5 -0.5 -0.5 -0.5 -0.5  0.5 -0.5]\n",
      "130\n",
      "\n",
      "[ 0.5  0.5 -0.5 -0.5 -0.5  0.5  0.5 -0.5]\n",
      "198\n",
      "\n",
      "Warning: Running sample with 5 chains (instance default is 1). State reinitialized for this call.\n",
      "[-0.5  0.5 -0.5 -0.5 -0.5  0.5  0.5 -0.5]\n",
      "70\n",
      "\n",
      "[ 0.5 -0.5 -0.5 -0.5 -0.5 -0.5  0.5 -0.5]\n",
      "130\n",
      "\n",
      "Warning: Running sample with 5 chains (instance default is 1). State reinitialized for this call.\n",
      "[-0.5  0.5  0.5  0.5  0.5 -0.5 -0.5 -0.5]\n",
      "120\n",
      "\n",
      "[ 0.5 -0.5 -0.5 -0.5 -0.5  0.5  0.5  0.5]\n",
      "135\n",
      "\n",
      "Warning: Running sample with 5 chains (instance default is 1). State reinitialized for this call.\n",
      "[-0.5  0.5 -0.5  0.5  0.5 -0.5 -0.5  0.5]\n",
      "89\n",
      "\n",
      "[ 0.5 -0.5  0.5  0.5  0.5 -0.5 -0.5  0.5]\n",
      "185\n",
      "\n",
      "Warning: Running sample with 5 chains (instance default is 1). State reinitialized for this call.\n",
      "[ 0.5  0.5 -0.5  0.5 -0.5 -0.5  0.5 -0.5]\n",
      "210\n",
      "\n",
      "[ 0.5 -0.5  0.5  0.5  0.5 -0.5 -0.5  0.5]\n",
      "185\n",
      "\n",
      "Warning: Running sample with 5 chains (instance default is 1). State reinitialized for this call.\n",
      "[-0.5  0.5  0.5  0.5  0.5 -0.5 -0.5  0.5]\n",
      "121\n",
      "\n",
      "[ 0.5  0.5 -0.5  0.5 -0.5 -0.5  0.5 -0.5]\n",
      "210\n",
      "\n",
      "Warning: Running sample with 5 chains (instance default is 1). State reinitialized for this call.\n",
      "[ 0.5  0.5  0.5  0.5  0.5 -0.5 -0.5  0.5]\n",
      "249\n",
      "\n",
      "[ 0.5 -0.5 -0.5 -0.5 -0.5 -0.5  0.5 -0.5]\n",
      "130\n",
      "\n",
      "The slowest run took 87.99 times longer than the fastest. This could mean that an intermediate result is being cached.\n",
      "31.8 ms ± 60.1 ms per loop (mean ± std. dev. of 5 runs, 5 loops each)\n",
      "Warning: Running sample with 5 chains (instance default is 1). State reinitialized for this call.\n"
     ]
    }
   ],
   "source": [
    "import general_python.common.binary as binary\n",
    "\n",
    "def do():\n",
    "    (states, logprobas), (configs, configs_ansatze), probabilities = sampler.sample(num_samples=5, num_chains=5)\n",
    "    for config in configs[:2]:\n",
    "        print(config)\n",
    "        print(binary.base2int(config))\n",
    "        print()\n",
    "%timeit -r 5 -n 5 do()\n",
    "(states, logprobas), (configs, configs_ansatze), probabilities = sampler.sample(num_samples=5, num_chains=5)"
   ]
  },
  {
   "cell_type": "code",
   "execution_count": 14,
   "metadata": {},
   "outputs": [
    {
     "data": {
      "text/plain": [
       "Array([[18.6798834 -1.86558764j],\n",
       "       [15.69267856+2.21329127j],\n",
       "       [14.17244331+0.12500862j],\n",
       "       [13.95725219+1.80972691j],\n",
       "       [15.69267856+2.21329127j],\n",
       "       [18.6798834 -1.86558764j],\n",
       "       [15.61151841+4.93667777j],\n",
       "       [14.07529593-1.64847355j],\n",
       "       [15.61151841+4.93667777j],\n",
       "       [15.61151841+4.93667777j],\n",
       "       [18.6798834 -1.86558764j],\n",
       "       [15.61151841+4.93667777j],\n",
       "       [13.95725219+1.80972691j],\n",
       "       [15.69267856+2.21329127j],\n",
       "       [15.61151841+4.93667777j],\n",
       "       [18.6798834 -1.86558764j],\n",
       "       [15.61151841+4.93667777j],\n",
       "       [15.61151841+4.93667777j],\n",
       "       [15.69267856+2.21329127j],\n",
       "       [15.61151841+4.93667777j],\n",
       "       [18.6798834 -1.86558764j],\n",
       "       [15.69267856+2.21329127j],\n",
       "       [15.69267856+2.21329127j],\n",
       "       [15.69267856+2.21329127j],\n",
       "       [15.61151841+4.93667777j]], dtype=complex128)"
      ]
     },
     "execution_count": 14,
     "metadata": {},
     "output_type": "execute_result"
    }
   ],
   "source": [
    "configs_ansatze"
   ]
  },
  {
   "cell_type": "code",
   "execution_count": 39,
   "metadata": {},
   "outputs": [
    {
     "data": {
      "text/plain": [
       "Array([18.6798834 -1.86558764j, 15.69267856+2.21329127j,\n",
       "       14.17244331+0.12500862j, 13.95725219+1.80972691j,\n",
       "       15.69267856+2.21329127j, 18.6798834 -1.86558764j,\n",
       "       15.61151841+4.93667777j, 14.07529593-1.64847355j,\n",
       "       15.61151841+4.93667777j, 15.61151841+4.93667777j,\n",
       "       18.6798834 -1.86558764j, 15.61151841+4.93667777j,\n",
       "       13.95725219+1.80972691j, 15.69267856+2.21329127j,\n",
       "       15.61151841+4.93667777j, 18.6798834 -1.86558764j,\n",
       "       15.61151841+4.93667777j, 15.61151841+4.93667777j,\n",
       "       15.69267856+2.21329127j, 15.61151841+4.93667777j,\n",
       "       18.6798834 -1.86558764j, 15.69267856+2.21329127j,\n",
       "       15.69267856+2.21329127j, 15.69267856+2.21329127j,\n",
       "       15.61151841+4.93667777j], dtype=complex128)"
      ]
     },
     "execution_count": 39,
     "metadata": {},
     "output_type": "execute_result"
    }
   ],
   "source": [
    "net.apply(net.get_params(), configs)"
   ]
  },
  {
   "cell_type": "code",
   "execution_count": 41,
   "metadata": {},
   "outputs": [
    {
     "data": {
      "text/plain": [
       "(Array([[ 0.5, -0.5, -0.5, -0.5, -0.5, -0.5,  0.5, -0.5],\n",
       "        [-0.5, -0.5, -0.5, -0.5, -0.5, -0.5,  0.5, -0.5],\n",
       "        [ 0.5,  0.5, -0.5, -0.5, -0.5, -0.5,  0.5, -0.5],\n",
       "        [ 0.5, -0.5,  0.5, -0.5, -0.5, -0.5,  0.5, -0.5],\n",
       "        [ 0.5, -0.5, -0.5,  0.5, -0.5, -0.5,  0.5, -0.5],\n",
       "        [ 0.5, -0.5, -0.5, -0.5,  0.5, -0.5,  0.5, -0.5],\n",
       "        [ 0.5, -0.5, -0.5, -0.5, -0.5,  0.5,  0.5, -0.5],\n",
       "        [ 0.5, -0.5, -0.5, -0.5, -0.5, -0.5, -0.5, -0.5],\n",
       "        [ 0.5, -0.5, -0.5, -0.5, -0.5, -0.5,  0.5,  0.5]], dtype=float64),\n",
       " Array([1.  , 0.25, 0.25, 0.25, 0.25, 0.25, 0.25, 0.25, 0.25], dtype=float64))"
      ]
     },
     "execution_count": 41,
     "metadata": {},
     "output_type": "execute_result"
    }
   ],
   "source": [
    "ham.loc_energy_arr_jax(configs[0])"
   ]
  },
  {
   "cell_type": "code",
   "execution_count": 11,
   "metadata": {},
   "outputs": [
    {
     "data": {
      "text/plain": [
       "Array([ 0.91516313+0.57772445j, -0.31803016+0.45393218j,\n",
       "        0.35917972-0.2530573j , -1.49635606+0.51852711j,\n",
       "       -0.65504546-0.24356749j, -0.68269731+0.4118519j ,\n",
       "       -0.65504546-0.24356749j, -1.80831796-0.79272133j,\n",
       "        0.10996583-0.29216746j, -1.87587348+0.25302836j,\n",
       "       -0.14254834-0.70061433j, -1.18537728+1.48183959j,\n",
       "       -0.49960058-0.46294056j, -1.5545093 +0.13250797j,\n",
       "       -2.45635418+0.54524098j, -0.44892884-0.42942401j,\n",
       "       -1.83103569+1.07336949j,  0.48243437-1.17153687j,\n",
       "       -1.5545093 +0.13250797j, -1.23676435-0.54330968j,\n",
       "       -1.47651997+0.39083993j, -0.17814042+0.06153394j,\n",
       "        0.35917972-0.2530573j , -1.5545093 +0.13250797j,\n",
       "       -1.5545093 +0.13250797j], dtype=complex128)"
      ]
     },
     "execution_count": 11,
     "metadata": {},
     "output_type": "execute_result"
    }
   ],
   "source": [
    "(configs, ansatze), probabilities, (v, means, stds) = nqs.evaluate_fun(\n",
    "    states_and_psi  = (configs, configs_ansatze),\n",
    "    probabilities   = probabilities,\n",
    "    functions       = None,     # means that we evaluate energy\n",
    "    batch_size      = batch_size\n",
    ")\n",
    "v"
   ]
  },
  {
   "cell_type": "code",
   "execution_count": 4,
   "metadata": {},
   "outputs": [
    {
     "data": {
      "text/plain": [
       "{'visible_bias': Array([ 0.00713442-2.02962283e-03j,  0.00028363-9.20228508e-03j,\n",
       "         0.00876348+3.92257908e-03j, -0.00241103+5.85689104e-03j,\n",
       "        -0.00406314-7.13418396e-06j, -0.00784153+2.16923983e-03j,\n",
       "         0.0035687 -3.32697455e-03j, -0.00345455+3.40241174e-03j,\n",
       "        -0.00643833+2.65361196e-04j,  0.00448199+3.04643919e-03j],      dtype=complex128),\n",
       " 'VisibleToHidden': {'kernel': Array([[ 0.27752265+0.216207j  , -0.54926973-0.27460565j,\n",
       "           0.37155939-0.52039374j,  0.25646177-0.17849029j,\n",
       "           0.46650467+0.01475198j,  0.01585693+0.13034685j,\n",
       "           0.05628175-0.12330804j,  0.57147166-0.15333435j,\n",
       "           0.48952495+0.45640557j, -0.86687389+0.12207581j,\n",
       "           0.78358692+0.00771538j, -0.2618848 -0.0422873j ,\n",
       "          -0.15197307+0.24755427j, -0.07850285-0.0944278j ,\n",
       "           0.536433  +0.65526505j,  0.27455783+0.37228609j,\n",
       "           0.27642373+0.34833611j,  0.19330493+0.34996769j,\n",
       "           0.22180166+0.29540316j,  0.72406886+0.08177003j],\n",
       "         [ 0.16246174+0.26733043j,  0.13328874-0.14524863j,\n",
       "           0.26577316-0.12908145j,  0.16827335+0.41347851j,\n",
       "           0.33632993-0.20800795j,  0.04471478+0.01414936j,\n",
       "           0.10142463+0.43175555j, -0.50068616-0.42602325j,\n",
       "          -0.30293976-0.23836822j,  0.31242961+0.38135187j,\n",
       "          -0.41252673-0.32712031j, -0.15376431+0.10969931j,\n",
       "           0.11964256-0.12498947j,  0.16243053-0.05683592j,\n",
       "           0.29120241-0.25192415j,  0.77594455+0.40887365j,\n",
       "           0.18723178+0.00963178j,  0.05572552+0.78919599j,\n",
       "          -0.35072089-0.46747234j, -0.27331874+0.05191481j],\n",
       "         [ 0.34888134-0.30735364j,  0.25579419+0.24635429j,\n",
       "           0.26158679-0.56031369j, -0.07212585-0.18433561j,\n",
       "           0.64405349-0.31584435j, -0.55987619-0.02070121j,\n",
       "          -0.1558157 +0.26995503j,  0.35923001+0.13536769j,\n",
       "           0.3399817 -0.33230127j,  0.43697736-0.85287712j,\n",
       "           0.34786408+0.43078539j,  0.41507803-0.4863679j ,\n",
       "           0.22634952+0.31279831j, -0.23517472-0.06871055j,\n",
       "           0.63040321+0.1961635j ,  0.21586407-0.26243969j,\n",
       "           0.39501968+0.46061723j, -0.36749947-0.03450026j,\n",
       "           0.53421262-0.13947614j, -0.08304627+0.16375127j],\n",
       "         [-0.03068798-0.33740266j,  0.50881109-0.22663088j,\n",
       "           0.32289343+0.2811746j ,  0.06596717+0.1700479j ,\n",
       "           0.27614202-0.60930546j,  0.09685288-0.55625318j,\n",
       "           0.43882011-0.13565365j,  0.25879408-0.29768614j,\n",
       "          -0.13277177+0.39869882j,  0.00753852+0.2108561j ,\n",
       "           0.15121685-0.03150107j,  0.02390666-0.32115772j,\n",
       "          -0.21719415+0.02611649j,  0.12591867+0.20261279j,\n",
       "           0.2928723 -0.19483101j,  0.40581034-0.27337048j,\n",
       "           0.00805523+0.26374678j, -0.08329371+0.22098806j,\n",
       "          -0.45070824-0.54126264j,  0.15318291+0.10131344j],\n",
       "         [ 0.5464641 -0.23395521j,  0.27423036+0.29104662j,\n",
       "           0.08093574+0.04259061j,  0.67528023+0.62015447j,\n",
       "           0.28084323+0.38210704j,  0.30747096-0.39500369j,\n",
       "           0.18260556+0.12288913j, -0.22210206-0.4877822j ,\n",
       "           0.05407115+0.10456033j, -0.05976861-0.04434459j,\n",
       "           0.14584456-0.13053212j,  0.16968922-0.63290949j,\n",
       "          -0.17848947-0.15810992j,  0.43477047-0.22833329j,\n",
       "           0.25070639+0.17516588j, -0.39654136+0.43471347j,\n",
       "           0.00658407-0.18792422j, -0.37861891+0.1375091j ,\n",
       "           0.17907137+0.27400988j,  0.15853265+0.15931873j],\n",
       "         [ 0.27227963-0.11378814j,  0.57028512-0.29641115j,\n",
       "           0.21025535+0.04146932j,  0.37538386+0.34079342j,\n",
       "           0.45235803+0.0263825j ,  0.38852503+0.1976235j ,\n",
       "           0.67034682-0.23948513j,  0.42109232+0.38151453j,\n",
       "          -0.07793003+0.09191848j,  0.39833622-0.01958227j,\n",
       "           0.41319198+0.06813642j,  0.42474638-0.25447497j,\n",
       "           0.18305062-0.26060628j, -0.06544466-0.14890654j,\n",
       "          -0.26718598-0.01404986j, -0.64003778-0.47127031j,\n",
       "          -0.18484338+0.29830018j, -0.48257355-0.31134905j,\n",
       "           0.06440583+0.40391447j, -0.24267555-0.37179761j],\n",
       "         [-0.23981132+0.40601596j, -0.4481863 -0.28413214j,\n",
       "          -0.07509847-0.23643312j,  0.39934654+0.09473368j,\n",
       "           0.16824656-0.23489701j, -0.37903584-0.37193801j,\n",
       "           0.12393482-0.25554586j, -0.27098158-0.09484552j,\n",
       "           0.09739868-0.03092525j,  0.2404815 +0.0803078j ,\n",
       "          -0.3797194 -0.18123606j,  0.16493246+0.10138334j,\n",
       "          -0.4705828 -0.18652102j,  0.03172539+0.33001404j,\n",
       "           0.47370687-0.00538402j, -0.06992997+0.14443176j,\n",
       "          -0.17116766+0.47827633j, -0.05180589-0.26519955j,\n",
       "           0.09299996-0.08196746j, -0.20237212-0.11178734j],\n",
       "         [-0.33164193-0.34308796j, -0.22942818-0.37124615j,\n",
       "           0.0691525 -0.00503991j, -0.40214455+0.24509912j,\n",
       "          -0.12363644-0.36813784j, -0.81271418-0.12837435j,\n",
       "          -0.45831827+0.41805516j,  0.70561239+0.12965074j,\n",
       "           0.00268394-0.15985425j,  0.29582551-0.15915749j,\n",
       "          -0.3315002 -0.55788362j,  0.11786995+0.23876357j,\n",
       "           0.18932294-0.43548688j, -0.15963553+0.45303085j,\n",
       "          -0.11910914-0.29232357j, -0.39120669-0.25995719j,\n",
       "           0.08759722+0.31237457j, -0.89105065-0.10716439j,\n",
       "           0.34360564-0.22113516j, -0.24594918-0.13042483j],\n",
       "         [ 0.35141639-0.43745653j, -0.08140772-0.3380527j ,\n",
       "          -0.24714336+0.21517502j, -0.45871315-0.00945576j,\n",
       "           0.01063073+0.18232957j, -0.90143181-0.44642397j,\n",
       "          -0.05342817+0.37924578j,  0.62205917+0.03803545j,\n",
       "          -0.39628812+0.33921913j, -0.14367706-0.37591448j,\n",
       "           0.08214442+0.4794763j , -0.03779137-0.38711444j,\n",
       "          -1.03729084+0.25630481j,  0.43124221+0.32214954j,\n",
       "           0.07614613-0.17826054j,  0.41766839-0.22733595j,\n",
       "          -0.4438213 +0.35164891j,  0.1335763 -0.02239622j,\n",
       "          -0.32205187+0.322394j  , -0.50733931+0.33980601j],\n",
       "         [-0.69732563-0.16941446j, -0.03988339-0.22221739j,\n",
       "           0.29235959+0.57789582j, -0.21201959-0.23466j   ,\n",
       "          -0.08745931+0.530517j  , -0.10132351-0.18920057j,\n",
       "           0.28283173+0.1154217j ,  0.15586403-0.02754914j,\n",
       "          -0.42355418-0.29009649j,  0.11756725-0.13577564j,\n",
       "          -0.51784017+0.68217624j, -0.24833676-0.07523003j,\n",
       "          -0.37326124+0.05884759j, -0.18680575-0.0702948j ,\n",
       "          -0.50523638+0.21535077j, -0.08495525-0.29391107j,\n",
       "          -0.08672053+0.04897336j, -0.28333791+0.9336268j ,\n",
       "           0.31325643+0.31907689j,  0.19610191-0.35068821j]],      dtype=complex128),\n",
       "  'bias': Array([-0.00556493+0.00365749j, -0.01627793-0.00382786j,\n",
       "          0.00533308-0.00355676j, -0.00108556+0.00396604j,\n",
       "         -0.00278683+0.00156797j, -0.0003721 +0.00151715j,\n",
       "          0.00519578+0.00317949j,  0.01079786+0.00433905j,\n",
       "          0.00090072+0.01595638j,  0.00027806-0.00714963j,\n",
       "         -0.00767116+0.00827395j, -0.00197924-0.0021359j ,\n",
       "          0.0052782 +0.01653742j, -0.00391764+0.00310852j,\n",
       "         -0.00160597+0.00556512j, -0.00298516-0.00250525j,\n",
       "          0.00427446-0.00931915j,  0.00655625-0.00846089j,\n",
       "         -0.01064452-0.01423862j,  0.00160991-0.00085869j],      dtype=complex128)}}"
      ]
     },
     "execution_count": 4,
     "metadata": {},
     "output_type": "execute_result"
    }
   ],
   "source": [
    "p = nqs.get_params().copy()\n",
    "p"
   ]
  },
  {
   "cell_type": "code",
   "execution_count": 5,
   "metadata": {},
   "outputs": [
    {
     "name": "stdout",
     "output_type": "stream",
     "text": [
      "[0.1+0.j 0.1+0.j 0.1+0.j 0.1+0.j 0.1+0.j 0.1+0.j 0.1+0.j 0.1+0.j 0.1+0.j\n",
      " 0.1+0.j]\n",
      "[0.10713442-2.02962283e-03j 0.10028363-9.20228508e-03j\n",
      " 0.10876348+3.92257908e-03j 0.09758897+5.85689104e-03j\n",
      " 0.09593686-7.13418396e-06j 0.09215847+2.16923983e-03j\n",
      " 0.1035687 -3.32697455e-03j 0.09654545+3.40241174e-03j\n",
      " 0.09356167+2.65361196e-04j 0.10448199+3.04643919e-03j]\n"
     ]
    }
   ],
   "source": [
    "params = net.get_params().copy()\n",
    "params['visible_bias'] = jnp.array([0.1] * ns, dtype=params['visible_bias'].dtype)\n",
    "nqs.update_parameters(params)\n",
    "print(params['visible_bias'])\n",
    "print(net.get_params()['visible_bias'])"
   ]
  },
  {
   "cell_type": "code",
   "execution_count": 38,
   "metadata": {},
   "outputs": [
    {
     "data": {
      "text/plain": [
       "Array([ 0.94120857-0.10290226j, -0.73771642+0.11764595j,\n",
       "       -0.53816196+0.14271611j, -2.0855181 +0.13888513j,\n",
       "       -0.73771642+0.11764595j,  0.94120857-0.10290226j,\n",
       "       -1.37233949-0.10431175j, -1.21971994-0.63267865j,\n",
       "       -1.37233949-0.10431175j, -1.37233949-0.10431175j,\n",
       "        0.94120857-0.10290226j, -1.37233949-0.10431175j,\n",
       "       -2.0855181 +0.13888513j, -0.73771642+0.11764595j,\n",
       "       -1.37233949-0.10431175j,  0.94120857-0.10290226j,\n",
       "       -1.37233949-0.10431175j, -1.37233949-0.10431175j,\n",
       "       -0.73771642+0.11764595j, -1.37233949-0.10431175j,\n",
       "        0.94120857-0.10290226j, -0.73771642+0.11764595j,\n",
       "       -0.73771642+0.11764595j, -0.73771642+0.11764595j,\n",
       "       -1.37233949-0.10431175j], dtype=complex128)"
      ]
     },
     "execution_count": 38,
     "metadata": {},
     "output_type": "execute_result"
    }
   ],
   "source": [
    "(configs, ansatze), probabilities, (v, means, stds) = nqs.evaluate_fun(\n",
    "    states_and_psi  = (configs, configs_ansatze),\n",
    "    probabilities   = probabilities,\n",
    "    functions       = None,     # means that we evaluate energy\n",
    "    batch_size      = batch_size\n",
    ")\n",
    "v"
   ]
  },
  {
   "cell_type": "code",
   "execution_count": 7,
   "metadata": {},
   "outputs": [
    {
     "data": {
      "text/plain": [
       "Array([ 0.0470032 -1.21166829j, -3.01126426+1.83255967j,\n",
       "       -1.5545093 +0.13250797j, -1.31732601-1.53537532j,\n",
       "       -2.1539422 -0.7265266j , -2.55471265+0.13455964j,\n",
       "       -0.3799551 -0.33403462j, -1.30148426+0.41703243j,\n",
       "       -0.81948284+0.34044119j, -2.70431041-0.35612593j,\n",
       "       -3.37333315-0.14032074j, -2.57112704-0.11418236j,\n",
       "       -1.80831796-0.79272133j, -3.49492312+0.09698022j,\n",
       "       -1.9372381 -0.27251941j, -0.65504546-0.24356749j,\n",
       "       -1.80831796-0.79272133j, -2.57112704-0.11418236j,\n",
       "       -0.79718268-0.78707271j, -0.67011846+0.55655092j,\n",
       "       -3.37333315-0.14032074j, -1.49746125+0.82986022j,\n",
       "       -1.30148426+0.41703243j, -1.76538099+0.64819279j,\n",
       "       -1.23654475-0.13352863j], dtype=complex128)"
      ]
     },
     "execution_count": 7,
     "metadata": {},
     "output_type": "execute_result"
    }
   ],
   "source": [
    "# set new parameters\n",
    "net.set_params(params=p)\n",
    "(configs, ansatze), probabilities, (v, means, stds) = nqs.evaluate_fun(\n",
    "    states_and_psi  = (configs, configs_ansatze),\n",
    "    probabilities   = probabilities,\n",
    "    functions       = None,     # means that we evaluate energy\n",
    "    batch_size      = batch_size\n",
    ")\n",
    "v"
   ]
  },
  {
   "cell_type": "markdown",
   "metadata": {},
   "source": [
    "### Train"
   ]
  },
  {
   "cell_type": "markdown",
   "metadata": {},
   "source": [
    "#### PINV"
   ]
  },
  {
   "cell_type": "code",
   "execution_count": 34,
   "metadata": {},
   "outputs": [
    {
     "data": {
      "text/plain": [
       "PseudoInverseSolver(type=PSEUDO_INVERSE, backend='jax')"
      ]
     },
     "execution_count": 34,
     "metadata": {},
     "output_type": "execute_result"
    }
   ],
   "source": [
    "import general_python.algebra.solvers as solvers \n",
    "\n",
    "solver_linalg = solvers.choose_solver(solver_id=solvers.SolverType.PSEUDO_INVERSE)\n",
    "solver_linalg_func = solver_linalg.get_solver_func(backend_module=backend_np)\n",
    "solver_linalg"
   ]
  },
  {
   "cell_type": "code",
   "execution_count": 43,
   "metadata": {},
   "outputs": [
    {
     "ename": "TypeError",
     "evalue": "_cg_logic_jax_core() got an unexpected keyword argument 'A'",
     "output_type": "error",
     "traceback": [
      "\u001b[31m---------------------------------------------------------------------------\u001b[39m",
      "\u001b[31mTypeError\u001b[39m                                 Traceback (most recent call last)",
      "\u001b[36mCell\u001b[39m\u001b[36m \u001b[39m\u001b[32mIn[43]\u001b[39m\u001b[32m, line 12\u001b[39m\n\u001b[32m     10\u001b[39m reg      = \u001b[32m1e-10\u001b[39m\n\u001b[32m     11\u001b[39m tol      = \u001b[32m1e-3\u001b[39m\n\u001b[32m---> \u001b[39m\u001b[32m12\u001b[39m solution = \u001b[43msolver_linalg_func\u001b[49m\u001b[43m(\u001b[49m\u001b[43mmatvec\u001b[49m\u001b[43m=\u001b[49m\u001b[43mmatvec\u001b[49m\u001b[43m,\u001b[49m\u001b[43m \u001b[49m\u001b[43mb\u001b[49m\u001b[43m=\u001b[49m\u001b[43mvector\u001b[49m\u001b[43m,\u001b[49m\u001b[43m \u001b[49m\u001b[43mx0\u001b[49m\u001b[43m=\u001b[49m\u001b[38;5;28;43;01mNone\u001b[39;49;00m\u001b[43m,\u001b[49m\n\u001b[32m     13\u001b[39m \u001b[43m                            \u001b[49m\u001b[43mtol\u001b[49m\u001b[43m=\u001b[49m\u001b[43mtol\u001b[49m\u001b[43m,\u001b[49m\u001b[43m \u001b[49m\u001b[43msigma\u001b[49m\u001b[43m=\u001b[49m\u001b[43mreg\u001b[49m\u001b[43m,\u001b[49m\u001b[43m \u001b[49m\u001b[43mA\u001b[49m\u001b[43m=\u001b[49m\u001b[43mmatrix\u001b[49m\u001b[43m)\u001b[49m\n\u001b[32m     14\u001b[39m get_ipython().run_line_magic(\u001b[33m'\u001b[39m\u001b[33mtimeit\u001b[39m\u001b[33m'\u001b[39m, \u001b[33m'\u001b[39m\u001b[33m-r 5 -n 5 solver_linalg_func(matvec=matvec, b=vector, x0=None, tol=tol, sigma=reg, A=matrix)\u001b[39m\u001b[33m'\u001b[39m)\n\u001b[32m     15\u001b[39m \u001b[38;5;66;03m# Solve the linear system Ax = b\u001b[39;00m\n\u001b[32m     16\u001b[39m \u001b[38;5;66;03m# solution = solver_linalg_func(matrix, vector)\u001b[39;00m\n",
      "    \u001b[31m[... skipping hidden 15 frame]\u001b[39m\n",
      "\u001b[36mFile \u001b[39m\u001b[32m~/miniconda3/lib/python3.12/site-packages/jax/_src/linear_util.py:388\u001b[39m, in \u001b[36m_get_result_paths_thunk\u001b[39m\u001b[34m(_fun, _store, *args, **kwargs)\u001b[39m\n\u001b[32m    386\u001b[39m \u001b[38;5;129m@transformation_with_aux2\u001b[39m\n\u001b[32m    387\u001b[39m \u001b[38;5;28;01mdef\u001b[39;00m\u001b[38;5;250m \u001b[39m\u001b[34m_get_result_paths_thunk\u001b[39m(_fun: Callable, _store: Store, *args, **kwargs):\n\u001b[32m--> \u001b[39m\u001b[32m388\u001b[39m   ans = \u001b[43m_fun\u001b[49m\u001b[43m(\u001b[49m\u001b[43m*\u001b[49m\u001b[43margs\u001b[49m\u001b[43m,\u001b[49m\u001b[43m \u001b[49m\u001b[43m*\u001b[49m\u001b[43m*\u001b[49m\u001b[43mkwargs\u001b[49m\u001b[43m)\u001b[49m\n\u001b[32m    389\u001b[39m   result_paths = \u001b[38;5;28mtuple\u001b[39m(\u001b[33mf\u001b[39m\u001b[33m\"\u001b[39m\u001b[33mresult\u001b[39m\u001b[38;5;132;01m{\u001b[39;00m_clean_keystr_arg_names(path)\u001b[38;5;132;01m}\u001b[39;00m\u001b[33m\"\u001b[39m \u001b[38;5;28;01mfor\u001b[39;00m path, _ \u001b[38;5;129;01min\u001b[39;00m generate_key_paths(ans))\n\u001b[32m    390\u001b[39m   \u001b[38;5;28;01mif\u001b[39;00m _store:\n\u001b[32m    391\u001b[39m     \u001b[38;5;66;03m# In some instances a lu.WrappedFun is called multiple times, e.g.,\u001b[39;00m\n\u001b[32m    392\u001b[39m     \u001b[38;5;66;03m# the bwd function in a custom_vjp\u001b[39;00m\n",
      "\u001b[31mTypeError\u001b[39m: _cg_logic_jax_core() got an unexpected keyword argument 'A'"
     ]
    }
   ],
   "source": [
    "import jax\n",
    "n               = 100\n",
    "random_matrix   = jnp.array(npr.normal(size=(n, n)), dtype=jnp.float64)\n",
    "matrix          = (random_matrix + random_matrix.T) / 2  # Make the matrix symmetric\n",
    "vector          = jnp.array(npr.normal(size=(n,)), dtype=jnp.float64)\n",
    "\n",
    "@jax.jit\n",
    "def matvec(x):\n",
    "    return jnp.dot(matrix, x)\n",
    "reg      = 1e-10\n",
    "tol      = 1e-3\n",
    "solution = solver_linalg_func(matvec=matvec, b=vector, x0=None,\n",
    "                            tol=tol, sigma=reg, A=matrix)\n",
    "%timeit -r 5 -n 5 solver_linalg_func(matvec=matvec, b=vector, x0=None, tol=tol, sigma=reg, A=matrix)\n",
    "# Solve the linear system Ax = b\n",
    "# solution = solver_linalg_func(matrix, vector)\n",
    "matrix @ solution[0] - vector"
   ]
  },
  {
   "cell_type": "code",
   "execution_count": 30,
   "metadata": {},
   "outputs": [
    {
     "data": {
      "text/plain": [
       "(Array([-0.51009919, -1.13827084,  1.38490093, -0.76373072, -4.91406563,\n",
       "        -4.55746828,  0.60825382,  0.92826089,  1.05174972,  0.38117243,\n",
       "         1.59589283,  1.12060681, -1.94867978, -1.43020243, -2.49851872,\n",
       "         2.10095628,  0.48797312,  0.79484088, -1.84701967, -4.66387679,\n",
       "        -2.85861093, -3.62848639, -0.06277192, -2.88821775, -2.99859368,\n",
       "         0.0860317 , -0.98141346, -0.45050177,  1.59559612, -1.21334579,\n",
       "        -2.5241997 ,  1.80995727, -2.2873362 , -1.13969718, -0.33272724,\n",
       "         0.81509173, -0.97777551, -2.76646344,  5.24850341, -4.28642969,\n",
       "         3.17493168,  0.11796758, -1.62817599,  0.06819563,  4.37750936,\n",
       "        -0.41253181, -1.62493346, -1.33458047,  1.49097311,  1.2472017 ],      dtype=float64),\n",
       " Array(7.32016106e-14, dtype=float64))"
      ]
     },
     "execution_count": 30,
     "metadata": {},
     "output_type": "execute_result"
    }
   ],
   "source": [
    "solution"
   ]
  },
  {
   "cell_type": "markdown",
   "metadata": {},
   "source": [
    "#### OTHER"
   ]
  },
  {
   "cell_type": "code",
   "execution_count": 2,
   "metadata": {},
   "outputs": [
    {
     "name": "stderr",
     "output_type": "stream",
     "text": [
      "INFO:general_python.common.flog:241: \t->\u001b[33m[Jacobi Preconditioner] Resetting backend to: <module 'jax.numpy' from '/Users/makskliczkowski/miniconda3/lib/python3.12/site-packages/jax/numpy/__init__.py'>\u001b[0m\n"
     ]
    },
    {
     "data": {
      "text/plain": [
       "Jacobi Preconditioner(sigma=1e-06, backend='<module 'jax.numpy' from '/Users/makskliczkowski/miniconda3/lib/python3.12/site-packages/jax/numpy/__init__.py'>', type=PreconditionersTypeSym.JACOBI, tol_small=1e-13)"
      ]
     },
     "execution_count": 2,
     "metadata": {},
     "output_type": "execute_result"
    }
   ],
   "source": [
    "import general_python.algebra.solvers as solvers \n",
    "import general_python.algebra.preconditioners as preconditioners\n",
    "\n",
    "#! SOLVER\n",
    "solver_linalg       = solvers.choose_solver(solver_id=solvers.SolverType.SCIPY_CG)\n",
    "solver_linalg_func  = solver_linalg.get_solver_func(backend_module=backend_np,\n",
    "                                        use_matvec=False, use_matrix=True, sigma=None)\n",
    "reg                 = 1e-6\n",
    "\n",
    "#! PRECONDITIONER\n",
    "precond             = preconditioners.choose_precond(precond_id =   preconditioners.PreconditionersTypeSym.JACOBI,\n",
    "                                                    backend     =   backend_np)\n",
    "precond.sigma       = reg\n",
    "precond"
   ]
  },
  {
   "cell_type": "code",
   "execution_count": 3,
   "metadata": {},
   "outputs": [
    {
     "name": "stderr",
     "output_type": "stream",
     "text": [
      "INFO:general_python.common.flog:241: \t\t->\u001b[33m[Jacobi Preconditioner] JIT compiling apply_mat(r, A, sigma, ...) function...\u001b[0m\n"
     ]
    },
    {
     "name": "stdout",
     "output_type": "stream",
     "text": [
      "<function <lambda> at 0x17f6e6660>\n",
      "The slowest run took 12.50 times longer than the fastest. This could mean that an intermediate result is being cached.\n",
      "299 μs ± 151 μs per loop (mean ± std. dev. of 10 runs, 5 loops each)\n",
      "Residual: [-6.30714814e-10 -6.55145771e-10  3.43243878e-10  4.91709340e-10\n",
      " -3.57597507e-10]\n",
      "My solution: [-7.76622243  0.72671445  1.97910513 -1.22578507  2.016321  ]\n",
      "Solution: [-7.76622243  0.72671445  1.97910513 -1.22578507  2.016321  ]\n",
      "Residual: [-6.30714814e-10 -6.55145771e-10  3.43243878e-10  4.91709340e-10\n",
      " -3.57597507e-10]\n",
      "4.74 μs ± 1.06 μs per loop (mean ± std. dev. of 5 runs, 5 loops each)\n"
     ]
    },
    {
     "data": {
      "text/plain": [
       "(Array([ -7.76622243,   0.72671445,   1.97910513,  -1.22578507,\n",
       "          2.016321  ,   0.21227475,  -1.85724416,   1.60958386,\n",
       "          1.48723001,   4.31676042,   3.72906002,  -1.05431636,\n",
       "          7.14502259,  -7.67373255, -10.35818043,   3.5885926 ,\n",
       "          2.22463235,   1.096466  ,  -9.07471448,  -3.08740329,\n",
       "          2.16159704,   5.46523273,  -0.42984191,  -5.77260273,\n",
       "         -2.84225687,   6.19112667,   2.23585466,  -0.1947666 ,\n",
       "         -2.31817382,  -0.22715961,   4.89406835,  -2.30020543,\n",
       "          0.03679119,  -5.73749124,  -4.90366771,   5.65817617,\n",
       "         -3.47990407,  -4.4944204 ,   3.01287222,  11.96411513,\n",
       "         -0.5238164 ,  -0.28023917,  -0.62656649,  -6.68216904,\n",
       "         -4.47045281,  -0.43314026,  -1.37922052,   1.62372135,\n",
       "        -13.27522076,  -0.9364213 ,   1.38309125,   0.11086236,\n",
       "         -2.41429836,  -4.07973459,  -0.61258859,  -4.62716756,\n",
       "          2.03713312,  14.23914827,   1.24476626,  -3.70469612,\n",
       "         -2.54577529,  -4.10895826,   4.93556774,  -5.49463532,\n",
       "          5.99080588,  -1.67852421,  -2.46339685,  -3.71106892,\n",
       "         -5.94834282,  -2.12926397,  -6.34182942,  -6.77637835,\n",
       "         -0.62262403,   5.36186626,   3.34091312,   7.81256012,\n",
       "          4.34278008,   4.591673  ,  -4.961     ,   0.34878465,\n",
       "          0.78435779,   4.4100431 ,   0.3208736 ,   6.48904153,\n",
       "          0.02712186,  -1.30442612,  -0.80642166,   2.29263419,\n",
       "          5.53186165,  -5.46250149,  -0.82580459,  -2.20898604,\n",
       "          6.09235492,   3.49189694,   5.27237373,   1.5689938 ,\n",
       "          1.32403638,   2.61188964,  -6.04380287,   3.25263016],      dtype=float64),\n",
       " None)"
      ]
     },
     "execution_count": 3,
     "metadata": {},
     "output_type": "execute_result"
    }
   ],
   "source": [
    "import jax\n",
    "import jax.numpy as jnp\n",
    "import numpy.random as npr\n",
    "\n",
    "n               = 100\n",
    "random_matrix   = jnp.array(npr.normal(size=(n, n)), dtype=jnp.float64)\n",
    "matrix          = (random_matrix + random_matrix.T) / 2  # Make the matrix symmetric\n",
    "vector          = jnp.array(npr.normal(size=(n,)), dtype=jnp.float64)\n",
    "\n",
    "#! set the preconditioner\n",
    "precond_func    = precond.get_apply_mat()\n",
    "precond_func    = lambda r, a: r\n",
    "print(precond_func)\n",
    "\n",
    "\n",
    "\n",
    "tol      = 1e-9\n",
    "maxiter  = 2000\n",
    "solution = solver_linalg_func(\n",
    "        a               =   matrix,\n",
    "        precond_apply   =   precond_func,\n",
    "        b               =   vector, \n",
    "        x0              =   jnp.zeros_like(vector),\n",
    "        tol             =   tol, \n",
    "        maxiter         =   maxiter)\n",
    "%timeit -r 10 -n 5 solver_linalg_func(a=matrix, precond_apply=precond_func, b=vector, x0=jnp.zeros_like(vector), tol=tol, maxiter=maxiter)\n",
    "# Solve the linear system Ax = b\n",
    "# solution = solver_linalg_func(matrix, vector)\n",
    "# if solution.converged:\n",
    "    # print(\"Converged\")\n",
    "# else:\n",
    "    # print(\"Did not converge\")\n",
    "print(\"Residual:\", (matrix @ solution[0] - vector)[:5])\n",
    "print(\"My solution:\", solution[0][:5])\n",
    "\n",
    "# solution from jax.scipy\n",
    "from jax.scipy.sparse.linalg import cg\n",
    "from jax import jit\n",
    "\n",
    "@jit\n",
    "def solve_cg(matrix, vector):\n",
    "    return cg(matrix, vector, tol=tol, maxiter=maxiter, M=lambda r: r)\n",
    "\n",
    "solution = solve_cg(matrix, vector)\n",
    "print(\"Solution:\", solution[0][:5])\n",
    "print(\"Residual:\", (matrix @ solution[0] - vector)[:5])\n",
    "\n",
    "%timeit -r 5 -n 5 solve_cg(matrix, vector)\n",
    "solution"
   ]
  },
  {
   "cell_type": "markdown",
   "metadata": {},
   "source": [
    "#### Training"
   ]
  },
  {
   "cell_type": "code",
   "execution_count": 2,
   "metadata": {},
   "outputs": [
    {
     "name": "stdout",
     "output_type": "stream",
     "text": [
      "<PjitFunction of <function flat_gradient_cpx_holo_jax at 0x143790ea0>>\n"
     ]
    }
   ],
   "source": [
    "print(nqs._flat_grad_fun)"
   ]
  },
  {
   "cell_type": "code",
   "execution_count": 4,
   "metadata": {},
   "outputs": [
    {
     "name": "stderr",
     "output_type": "stream",
     "text": [
      "INFO:general_python.common.flog:241: \t->\u001b[33m[Jacobi Preconditioner] Resetting backend to: jax\u001b[0m\n",
      "INFO:general_python.common.flog:241: \t\t->\u001b[33m[Jacobi Preconditioner] JIT compiling apply_gram(r, S, Sp, ...) function...\u001b[0m\n"
     ]
    }
   ],
   "source": [
    "import time\n",
    "import numpy as np\n",
    "import matplotlib.pyplot as plt\n",
    "import general_python.algebra.solvers.stochastic_rcnfg as SR\n",
    "import jax.numpy as jnp\n",
    "from tqdm import trange\n",
    "\n",
    "import general_python.algebra.solvers as solvers\n",
    "import general_python.algebra.preconditioners as preconditioners\n",
    "\n",
    "#! Configuration\n",
    "n_epo           =       200\n",
    "batch_size      =       10\n",
    "lr              =       7e-2\n",
    "pinv            =       1e-8\n",
    "sreg            =       1e0\n",
    "\n",
    "solver_linalg   =       solvers.choose_solver(solver_id=solvers.SolverType.SCIPY_CG, sigma=sreg)\n",
    "precond         =       preconditioners.choose_precond(precond_id=preconditioners.PreconditionersTypeSym.JACOBI, backend='jax')\n",
    "# precond.sigma   =       sreg\n",
    "precond_apply   =       precond.get_apply_gram()\n",
    "# precond_apply   =       lambda r, s, sp: r\n",
    "\n",
    "# Ensure solver function gets sigma correctly\n",
    "solver_linalg_func = solver_linalg.get_solver_func(backend_module=backend_np,\n",
    "                                        use_matvec  =   False, # Set True if you provide matvec, False if using Fisher S matrix\n",
    "                                        use_matrix  =   False, # Set True to form full S matrix (memory intensive!)\n",
    "                                        use_fisher  =   True,  # Indicates S matrix or matvec is Fisher info\n",
    "                                        sigma       =   sreg)  # Pass regularization here"
   ]
  },
  {
   "cell_type": "markdown",
   "metadata": {},
   "source": [
    "#### Train loop big"
   ]
  },
  {
   "cell_type": "code",
   "execution_count": null,
   "metadata": {},
   "outputs": [
    {
     "name": "stderr",
     "output_type": "stream",
     "text": [
      "Starting Training...:   0%|          | 0/200 [00:02<?, ?it/s]\n"
     ]
    },
    {
     "ename": "KeyboardInterrupt",
     "evalue": "",
     "output_type": "error",
     "traceback": [
      "\u001b[0;31m---------------------------------------------------------------------------\u001b[0m",
      "\u001b[0;31mKeyboardInterrupt\u001b[0m                         Traceback (most recent call last)",
      "Cell \u001b[0;32mIn[36], line 148\u001b[0m\n\u001b[1;32m    142\u001b[0m     \u001b[38;5;28;01mreturn\u001b[39;00m history, sampling_times, evaluation_times, gradient_times, reconfiguration_times, update_times, epoch_times\n\u001b[1;32m    145\u001b[0m \u001b[38;5;66;03m# %lprun -f train_function history, sampling_times, evaluation_times, gradient_times, reconfiguration_times, update_times, epoch_times = train_function()\u001b[39;00m\n\u001b[1;32m    146\u001b[0m \u001b[38;5;66;03m# %lprun -f train_function history, sampling_times, evaluation_times, gradient_times, reconfiguration_times, update_times, epoch_times = train_function()\u001b[39;00m\n\u001b[0;32m--> 148\u001b[0m history, sampling_times, evaluation_times, gradient_times, reconfiguration_times, update_times, epoch_times \u001b[38;5;241m=\u001b[39m train_function()\n\u001b[1;32m    150\u001b[0m \u001b[38;5;66;03m#! Final Summary\u001b[39;00m\n\u001b[1;32m    151\u001b[0m \u001b[38;5;28;01mif\u001b[39;00m history:\n",
      "Cell \u001b[0;32mIn[36], line 58\u001b[0m, in \u001b[0;36mtrain_function\u001b[0;34m()\u001b[0m\n\u001b[1;32m     56\u001b[0m start_time      \u001b[38;5;241m=\u001b[39m       time\u001b[38;5;241m.\u001b[39mtime()\n\u001b[1;32m     57\u001b[0m \u001b[38;5;28;01mtry\u001b[39;00m:\n\u001b[0;32m---> 58\u001b[0m     grad        \u001b[38;5;241m=\u001b[39m       nqs\u001b[38;5;241m.\u001b[39mgradient(states\u001b[38;5;241m=\u001b[39mconfigs, batch_size\u001b[38;5;241m=\u001b[39mbatch_size, params\u001b[38;5;241m=\u001b[39mnqs\u001b[38;5;241m.\u001b[39mget_params())\n\u001b[1;32m     59\u001b[0m     \u001b[38;5;66;03m# print(grad.shape)\u001b[39;00m\n\u001b[1;32m     60\u001b[0m \u001b[38;5;28;01mexcept\u001b[39;00m \u001b[38;5;167;01mException\u001b[39;00m \u001b[38;5;28;01mas\u001b[39;00m e:\n",
      "File \u001b[0;32m~/Codes/QuantumEigenSolver/Python/QES/NQS/nqs.py:1039\u001b[0m, in \u001b[0;36mNQS.gradient\u001b[0;34m(self, states, batch_size, params)\u001b[0m\n\u001b[1;32m   1037\u001b[0m \u001b[38;5;28;01mif\u001b[39;00m \u001b[38;5;28mself\u001b[39m\u001b[38;5;241m.\u001b[39m_isjax:\n\u001b[1;32m   1038\u001b[0m     \u001b[38;5;28;01mif\u001b[39;00m \u001b[38;5;129;01mnot\u001b[39;00m \u001b[38;5;28mself\u001b[39m\u001b[38;5;241m.\u001b[39m_analytic:\n\u001b[0;32m-> 1039\u001b[0m         \u001b[38;5;28;01mreturn\u001b[39;00m \u001b[38;5;28mself\u001b[39m\u001b[38;5;241m.\u001b[39mgrad_jax(\u001b[38;5;28mself\u001b[39m\u001b[38;5;241m.\u001b[39m_ansatz_func, params, states, \u001b[38;5;28mself\u001b[39m\u001b[38;5;241m.\u001b[39m_flat_grad_fun, batch_size)\n\u001b[1;32m   1040\u001b[0m     \u001b[38;5;28;01mreturn\u001b[39;00m \u001b[38;5;28mself\u001b[39m\u001b[38;5;241m.\u001b[39mgrad_jax(\u001b[38;5;28mself\u001b[39m\u001b[38;5;241m.\u001b[39m_grad_func, params, states, \u001b[38;5;28mself\u001b[39m\u001b[38;5;241m.\u001b[39m_flat_grad_fun, batch_size)\n\u001b[1;32m   1042\u001b[0m \u001b[38;5;28;01mif\u001b[39;00m \u001b[38;5;129;01mnot\u001b[39;00m \u001b[38;5;28mself\u001b[39m\u001b[38;5;241m.\u001b[39m_analytic:\n",
      "    \u001b[0;31m[... skipping hidden 1 frame]\u001b[0m\n",
      "File \u001b[0;32m~/libraries/anaconda3/lib/python3.11/site-packages/jax/_src/pjit.py:339\u001b[0m, in \u001b[0;36m_cpp_pjit.<locals>.cache_miss\u001b[0;34m(*args, **kwargs)\u001b[0m\n\u001b[1;32m    334\u001b[0m \u001b[38;5;28;01mif\u001b[39;00m config\u001b[38;5;241m.\u001b[39mno_tracing\u001b[38;5;241m.\u001b[39mvalue:\n\u001b[1;32m    335\u001b[0m   \u001b[38;5;28;01mraise\u001b[39;00m \u001b[38;5;167;01mRuntimeError\u001b[39;00m(\u001b[38;5;124mf\u001b[39m\u001b[38;5;124m\"\u001b[39m\u001b[38;5;124mre-tracing function \u001b[39m\u001b[38;5;132;01m{\u001b[39;00mjit_info\u001b[38;5;241m.\u001b[39mfun_sourceinfo\u001b[38;5;132;01m}\u001b[39;00m\u001b[38;5;124m for \u001b[39m\u001b[38;5;124m\"\u001b[39m\n\u001b[1;32m    336\u001b[0m                      \u001b[38;5;124m\"\u001b[39m\u001b[38;5;124m`jit`, but \u001b[39m\u001b[38;5;124m'\u001b[39m\u001b[38;5;124mno_tracing\u001b[39m\u001b[38;5;124m'\u001b[39m\u001b[38;5;124m is set\u001b[39m\u001b[38;5;124m\"\u001b[39m)\n\u001b[1;32m    338\u001b[0m (outs, out_flat, out_tree, args_flat, jaxpr, attrs_tracked, executable,\n\u001b[0;32m--> 339\u001b[0m  pgle_profiler) \u001b[38;5;241m=\u001b[39m _python_pjit_helper(fun, jit_info, \u001b[38;5;241m*\u001b[39margs, \u001b[38;5;241m*\u001b[39m\u001b[38;5;241m*\u001b[39mkwargs)\n\u001b[1;32m    341\u001b[0m maybe_fastpath_data \u001b[38;5;241m=\u001b[39m _get_fastpath_data(\n\u001b[1;32m    342\u001b[0m     executable, out_tree, args_flat, out_flat, attrs_tracked, jaxpr\u001b[38;5;241m.\u001b[39meffects,\n\u001b[1;32m    343\u001b[0m     jaxpr\u001b[38;5;241m.\u001b[39mconsts, jit_info\u001b[38;5;241m.\u001b[39mabstracted_axes,\n\u001b[1;32m    344\u001b[0m     pgle_profiler)\n\u001b[1;32m    346\u001b[0m \u001b[38;5;28;01mreturn\u001b[39;00m outs, maybe_fastpath_data, _need_to_rebuild_with_fdo(pgle_profiler)\n",
      "File \u001b[0;32m~/libraries/anaconda3/lib/python3.11/site-packages/jax/_src/pjit.py:194\u001b[0m, in \u001b[0;36m_python_pjit_helper\u001b[0;34m(fun, jit_info, *args, **kwargs)\u001b[0m\n\u001b[1;32m    192\u001b[0m   args_flat \u001b[38;5;241m=\u001b[39m \u001b[38;5;28mmap\u001b[39m(core\u001b[38;5;241m.\u001b[39mfull_lower, args_flat)\n\u001b[1;32m    193\u001b[0m   core\u001b[38;5;241m.\u001b[39mcheck_eval_args(args_flat)\n\u001b[0;32m--> 194\u001b[0m   out_flat, compiled, profiler \u001b[38;5;241m=\u001b[39m _pjit_call_impl_python(\u001b[38;5;241m*\u001b[39margs_flat, \u001b[38;5;241m*\u001b[39m\u001b[38;5;241m*\u001b[39mp\u001b[38;5;241m.\u001b[39mparams)\n\u001b[1;32m    195\u001b[0m \u001b[38;5;28;01melse\u001b[39;00m:\n\u001b[1;32m    196\u001b[0m   out_flat \u001b[38;5;241m=\u001b[39m pjit_p\u001b[38;5;241m.\u001b[39mbind(\u001b[38;5;241m*\u001b[39margs_flat, \u001b[38;5;241m*\u001b[39m\u001b[38;5;241m*\u001b[39mp\u001b[38;5;241m.\u001b[39mparams)\n",
      "File \u001b[0;32m~/libraries/anaconda3/lib/python3.11/site-packages/jax/_src/pjit.py:1659\u001b[0m, in \u001b[0;36m_pjit_call_impl_python\u001b[0;34m(jaxpr, in_shardings, out_shardings, in_layouts, out_layouts, donated_invars, ctx_mesh, name, keep_unused, inline, compiler_options_kvs, *args)\u001b[0m\n\u001b[1;32m   1647\u001b[0m compiler_options_kvs \u001b[38;5;241m=\u001b[39m compiler_options_kvs \u001b[38;5;241m+\u001b[39m \u001b[38;5;28mtuple\u001b[39m(pgle_compile_options\u001b[38;5;241m.\u001b[39mitems())\n\u001b[1;32m   1648\u001b[0m \u001b[38;5;66;03m# Passing mutable PGLE profile here since it should be extracted by JAXPR to\u001b[39;00m\n\u001b[1;32m   1649\u001b[0m \u001b[38;5;66;03m# initialize the fdo_profile compile option.\u001b[39;00m\n\u001b[1;32m   1650\u001b[0m compiled \u001b[38;5;241m=\u001b[39m _resolve_and_lower(\n\u001b[1;32m   1651\u001b[0m     args, jaxpr\u001b[38;5;241m=\u001b[39mjaxpr, in_shardings\u001b[38;5;241m=\u001b[39min_shardings,\n\u001b[1;32m   1652\u001b[0m     out_shardings\u001b[38;5;241m=\u001b[39mout_shardings, in_layouts\u001b[38;5;241m=\u001b[39min_layouts,\n\u001b[1;32m   1653\u001b[0m     out_layouts\u001b[38;5;241m=\u001b[39mout_layouts, donated_invars\u001b[38;5;241m=\u001b[39mdonated_invars,\n\u001b[1;32m   1654\u001b[0m     ctx_mesh\u001b[38;5;241m=\u001b[39mctx_mesh, name\u001b[38;5;241m=\u001b[39mname, keep_unused\u001b[38;5;241m=\u001b[39mkeep_unused,\n\u001b[1;32m   1655\u001b[0m     inline\u001b[38;5;241m=\u001b[39minline, lowering_platforms\u001b[38;5;241m=\u001b[39m\u001b[38;5;28;01mNone\u001b[39;00m,\n\u001b[1;32m   1656\u001b[0m     lowering_parameters\u001b[38;5;241m=\u001b[39mmlir\u001b[38;5;241m.\u001b[39mLoweringParameters(),\n\u001b[1;32m   1657\u001b[0m     pgle_profiler\u001b[38;5;241m=\u001b[39mpgle_profiler,\n\u001b[1;32m   1658\u001b[0m     compiler_options_kvs\u001b[38;5;241m=\u001b[39mcompiler_options_kvs,\n\u001b[0;32m-> 1659\u001b[0m )\u001b[38;5;241m.\u001b[39mcompile()\n\u001b[1;32m   1661\u001b[0m \u001b[38;5;66;03m# This check is expensive so only do it if enable_checks is on.\u001b[39;00m\n\u001b[1;32m   1662\u001b[0m \u001b[38;5;28;01mif\u001b[39;00m compiled\u001b[38;5;241m.\u001b[39m_auto_spmd_lowering \u001b[38;5;129;01mand\u001b[39;00m config\u001b[38;5;241m.\u001b[39menable_checks\u001b[38;5;241m.\u001b[39mvalue:\n",
      "File \u001b[0;32m~/libraries/anaconda3/lib/python3.11/site-packages/jax/_src/interpreters/pxla.py:2448\u001b[0m, in \u001b[0;36mMeshComputation.compile\u001b[0;34m(self, compiler_options)\u001b[0m\n\u001b[1;32m   2446\u001b[0m compiler_options_kvs \u001b[38;5;241m=\u001b[39m \u001b[38;5;28mself\u001b[39m\u001b[38;5;241m.\u001b[39m_compiler_options_kvs \u001b[38;5;241m+\u001b[39m t_compiler_options\n\u001b[1;32m   2447\u001b[0m \u001b[38;5;28;01mif\u001b[39;00m \u001b[38;5;28mself\u001b[39m\u001b[38;5;241m.\u001b[39m_executable \u001b[38;5;129;01mis\u001b[39;00m \u001b[38;5;28;01mNone\u001b[39;00m \u001b[38;5;129;01mor\u001b[39;00m compiler_options_kvs:\n\u001b[0;32m-> 2448\u001b[0m   executable \u001b[38;5;241m=\u001b[39m UnloadedMeshExecutable\u001b[38;5;241m.\u001b[39mfrom_hlo(\n\u001b[1;32m   2449\u001b[0m       \u001b[38;5;28mself\u001b[39m\u001b[38;5;241m.\u001b[39m_name, \u001b[38;5;28mself\u001b[39m\u001b[38;5;241m.\u001b[39m_hlo, \u001b[38;5;241m*\u001b[39m\u001b[38;5;241m*\u001b[39m\u001b[38;5;28mself\u001b[39m\u001b[38;5;241m.\u001b[39mcompile_args,\n\u001b[1;32m   2450\u001b[0m       compiler_options_kvs\u001b[38;5;241m=\u001b[39mcompiler_options_kvs)\n\u001b[1;32m   2451\u001b[0m   \u001b[38;5;28;01mif\u001b[39;00m \u001b[38;5;129;01mnot\u001b[39;00m compiler_options_kvs:\n\u001b[1;32m   2452\u001b[0m     \u001b[38;5;28mself\u001b[39m\u001b[38;5;241m.\u001b[39m_executable \u001b[38;5;241m=\u001b[39m executable\n",
      "File \u001b[0;32m~/libraries/anaconda3/lib/python3.11/site-packages/jax/_src/interpreters/pxla.py:2967\u001b[0m, in \u001b[0;36mUnloadedMeshExecutable.from_hlo\u001b[0;34m(***failed resolving arguments***)\u001b[0m\n\u001b[1;32m   2964\u001b[0m       \u001b[38;5;28;01mbreak\u001b[39;00m\n\u001b[1;32m   2966\u001b[0m util\u001b[38;5;241m.\u001b[39mtest_event(\u001b[38;5;124m\"\u001b[39m\u001b[38;5;124mpxla_cached_compilation\u001b[39m\u001b[38;5;124m\"\u001b[39m)\n\u001b[0;32m-> 2967\u001b[0m xla_executable \u001b[38;5;241m=\u001b[39m _cached_compilation(\n\u001b[1;32m   2968\u001b[0m     hlo, name, mesh, spmd_lowering,\n\u001b[1;32m   2969\u001b[0m     tuple_args, auto_spmd_lowering, allow_prop_to_inputs,\n\u001b[1;32m   2970\u001b[0m     allow_prop_to_outputs, \u001b[38;5;28mtuple\u001b[39m(host_callbacks), backend, da, pmap_nreps,\n\u001b[1;32m   2971\u001b[0m     compiler_options_kvs, pgle_profiler)\n\u001b[1;32m   2973\u001b[0m orig_out_shardings \u001b[38;5;241m=\u001b[39m out_shardings\n\u001b[1;32m   2975\u001b[0m \u001b[38;5;28;01mif\u001b[39;00m auto_spmd_lowering:\n",
      "File \u001b[0;32m~/libraries/anaconda3/lib/python3.11/site-packages/jax/_src/interpreters/pxla.py:2758\u001b[0m, in \u001b[0;36m_cached_compilation\u001b[0;34m(computation, name, mesh, spmd_lowering, tuple_args, auto_spmd_lowering, allow_prop_to_inputs, allow_prop_to_outputs, host_callbacks, backend, da, pmap_nreps, compiler_options_kvs, pgle_profiler)\u001b[0m\n\u001b[1;32m   2750\u001b[0m compile_options \u001b[38;5;241m=\u001b[39m create_compile_options(\n\u001b[1;32m   2751\u001b[0m     computation, mesh, spmd_lowering, tuple_args, auto_spmd_lowering,\n\u001b[1;32m   2752\u001b[0m     allow_prop_to_inputs, allow_prop_to_outputs, backend,\n\u001b[1;32m   2753\u001b[0m     dev, pmap_nreps, compiler_options)\n\u001b[1;32m   2755\u001b[0m \u001b[38;5;28;01mwith\u001b[39;00m dispatch\u001b[38;5;241m.\u001b[39mlog_elapsed_time(\n\u001b[1;32m   2756\u001b[0m     \u001b[38;5;124m\"\u001b[39m\u001b[38;5;124mFinished XLA compilation of \u001b[39m\u001b[38;5;132;01m{fun_name}\u001b[39;00m\u001b[38;5;124m in \u001b[39m\u001b[38;5;132;01m{elapsed_time:.9f}\u001b[39;00m\u001b[38;5;124m sec\u001b[39m\u001b[38;5;124m\"\u001b[39m,\n\u001b[1;32m   2757\u001b[0m     fun_name\u001b[38;5;241m=\u001b[39mname, event\u001b[38;5;241m=\u001b[39mdispatch\u001b[38;5;241m.\u001b[39mBACKEND_COMPILE_EVENT):\n\u001b[0;32m-> 2758\u001b[0m   xla_executable \u001b[38;5;241m=\u001b[39m compiler\u001b[38;5;241m.\u001b[39mcompile_or_get_cached(\n\u001b[1;32m   2759\u001b[0m       backend, computation, dev, compile_options, host_callbacks,\n\u001b[1;32m   2760\u001b[0m       pgle_profiler)\n\u001b[1;32m   2761\u001b[0m \u001b[38;5;28;01mreturn\u001b[39;00m xla_executable\n",
      "File \u001b[0;32m~/libraries/anaconda3/lib/python3.11/site-packages/jax/_src/compiler.py:470\u001b[0m, in \u001b[0;36mcompile_or_get_cached\u001b[0;34m(backend, computation, devices, compile_options, host_callbacks, pgle_profiler)\u001b[0m\n\u001b[1;32m    468\u001b[0m \u001b[38;5;28;01melse\u001b[39;00m:\n\u001b[1;32m    469\u001b[0m   log_persistent_cache_miss(module_name, cache_key)\n\u001b[0;32m--> 470\u001b[0m   \u001b[38;5;28;01mreturn\u001b[39;00m _compile_and_write_cache(\n\u001b[1;32m    471\u001b[0m       backend,\n\u001b[1;32m    472\u001b[0m       computation,\n\u001b[1;32m    473\u001b[0m       compile_options,\n\u001b[1;32m    474\u001b[0m       host_callbacks,\n\u001b[1;32m    475\u001b[0m       module_name,\n\u001b[1;32m    476\u001b[0m       cache_key,\n\u001b[1;32m    477\u001b[0m   )\n",
      "File \u001b[0;32m~/libraries/anaconda3/lib/python3.11/site-packages/jax/_src/compiler.py:687\u001b[0m, in \u001b[0;36m_compile_and_write_cache\u001b[0;34m(backend, computation, compile_options, host_callbacks, module_name, cache_key)\u001b[0m\n\u001b[1;32m    678\u001b[0m \u001b[38;5;28;01mdef\u001b[39;00m \u001b[38;5;21m_compile_and_write_cache\u001b[39m(\n\u001b[1;32m    679\u001b[0m     backend: xc\u001b[38;5;241m.\u001b[39mClient,\n\u001b[1;32m    680\u001b[0m     computation: ir\u001b[38;5;241m.\u001b[39mModule,\n\u001b[0;32m   (...)\u001b[0m\n\u001b[1;32m    684\u001b[0m     cache_key: \u001b[38;5;28mstr\u001b[39m,\n\u001b[1;32m    685\u001b[0m ) \u001b[38;5;241m-\u001b[39m\u001b[38;5;241m>\u001b[39m xc\u001b[38;5;241m.\u001b[39mLoadedExecutable:\n\u001b[1;32m    686\u001b[0m   start_time \u001b[38;5;241m=\u001b[39m time\u001b[38;5;241m.\u001b[39mmonotonic()\n\u001b[0;32m--> 687\u001b[0m   executable \u001b[38;5;241m=\u001b[39m backend_compile(\n\u001b[1;32m    688\u001b[0m       backend, computation, compile_options, host_callbacks\n\u001b[1;32m    689\u001b[0m   )\n\u001b[1;32m    690\u001b[0m   compile_time \u001b[38;5;241m=\u001b[39m time\u001b[38;5;241m.\u001b[39mmonotonic() \u001b[38;5;241m-\u001b[39m start_time\n\u001b[1;32m    691\u001b[0m   _cache_write(\n\u001b[1;32m    692\u001b[0m       cache_key, compile_time, module_name, backend, executable, host_callbacks\n\u001b[1;32m    693\u001b[0m   )\n",
      "File \u001b[0;32m~/libraries/anaconda3/lib/python3.11/site-packages/jax/_src/profiler.py:334\u001b[0m, in \u001b[0;36mannotate_function.<locals>.wrapper\u001b[0;34m(*args, **kwargs)\u001b[0m\n\u001b[1;32m    331\u001b[0m \u001b[38;5;129m@wraps\u001b[39m(func)\n\u001b[1;32m    332\u001b[0m \u001b[38;5;28;01mdef\u001b[39;00m \u001b[38;5;21mwrapper\u001b[39m(\u001b[38;5;241m*\u001b[39margs, \u001b[38;5;241m*\u001b[39m\u001b[38;5;241m*\u001b[39mkwargs):\n\u001b[1;32m    333\u001b[0m   \u001b[38;5;28;01mwith\u001b[39;00m TraceAnnotation(name, \u001b[38;5;241m*\u001b[39m\u001b[38;5;241m*\u001b[39mdecorator_kwargs):\n\u001b[0;32m--> 334\u001b[0m     \u001b[38;5;28;01mreturn\u001b[39;00m func(\u001b[38;5;241m*\u001b[39margs, \u001b[38;5;241m*\u001b[39m\u001b[38;5;241m*\u001b[39mkwargs)\n\u001b[1;32m    335\u001b[0m   \u001b[38;5;28;01mreturn\u001b[39;00m wrapper\n",
      "File \u001b[0;32m~/libraries/anaconda3/lib/python3.11/site-packages/jax/_src/compiler.py:321\u001b[0m, in \u001b[0;36mbackend_compile\u001b[0;34m(backend, module, options, host_callbacks)\u001b[0m\n\u001b[1;32m    315\u001b[0m     \u001b[38;5;28;01mreturn\u001b[39;00m backend\u001b[38;5;241m.\u001b[39mcompile(\n\u001b[1;32m    316\u001b[0m         built_c, compile_options\u001b[38;5;241m=\u001b[39moptions, host_callbacks\u001b[38;5;241m=\u001b[39mhost_callbacks\n\u001b[1;32m    317\u001b[0m     )\n\u001b[1;32m    318\u001b[0m   \u001b[38;5;66;03m# Some backends don't have `host_callbacks` option yet\u001b[39;00m\n\u001b[1;32m    319\u001b[0m   \u001b[38;5;66;03m# TODO(sharadmv): remove this fallback when all backends allow `compile`\u001b[39;00m\n\u001b[1;32m    320\u001b[0m   \u001b[38;5;66;03m# to take in `host_callbacks`\u001b[39;00m\n\u001b[0;32m--> 321\u001b[0m   \u001b[38;5;28;01mreturn\u001b[39;00m backend\u001b[38;5;241m.\u001b[39mcompile(built_c, compile_options\u001b[38;5;241m=\u001b[39moptions)\n\u001b[1;32m    322\u001b[0m \u001b[38;5;28;01mexcept\u001b[39;00m xc\u001b[38;5;241m.\u001b[39mXlaRuntimeError \u001b[38;5;28;01mas\u001b[39;00m e:\n\u001b[1;32m    323\u001b[0m   \u001b[38;5;28;01mfor\u001b[39;00m error_handler \u001b[38;5;129;01min\u001b[39;00m _XLA_RUNTIME_ERROR_HANDLERS:\n",
      "\u001b[0;31mKeyboardInterrupt\u001b[0m: "
     ]
    }
   ],
   "source": [
    "# %load_ext line_profiler\n",
    "\n",
    "#! Initialization\n",
    "history                 =       []\n",
    "sampling_times          =       []\n",
    "evaluation_times        =       []\n",
    "gradient_times          =       []\n",
    "reconfiguration_times   =       []\n",
    "update_times            =       []\n",
    "epoch_times             =       [] # To store total time per epoch\n",
    "\n",
    "#! Initial values for display before first epoch calculation\n",
    "means                   =       float('nan')\n",
    "stds                    =       float('nan')\n",
    "\n",
    "\n",
    "\n",
    "def train_function():\n",
    "    #! Training Loop with tqdm\n",
    "    # Use trange outside the loop variable assignment to get the progress bar object\n",
    "    pbar                    = trange(n_epo, desc=\"Starting Training...\", leave=True)\n",
    "    for i in pbar:\n",
    "        epoch_start_time = time.time() # Time the whole epoch\n",
    "\n",
    "        #! 1. Sampling\n",
    "        start_time      =       time.time()\n",
    "        (states, logprobas), (configs, configs_ansatze), probabilities = nqs.sample(reset=False)\n",
    "        sample_time     =       time.time() - start_time\n",
    "        sampling_times.append(sample_time)\n",
    "\n",
    "        #! 2. Energy Evaluation\n",
    "        start_time      =       time.time()\n",
    "        # Need to handle potential errors from evaluate_fun if sampling failed\n",
    "        try:\n",
    "            (configs, ansatze), probabilities, (v, means, stds) = nqs.evaluate_fun(\n",
    "                states_and_psi  = (configs, configs_ansatze),\n",
    "                probabilities   = probabilities,\n",
    "                functions       = None, # means that we evaluate energy\n",
    "                batch_size      = batch_size\n",
    "            )\n",
    "        except Exception as e:\n",
    "            print(f\"\\nError during energy evaluation in epoch {i+1}: {e}\")\n",
    "            print(\"Stopping training.\")\n",
    "            break\n",
    "        eval_time       =       time.time() - start_time\n",
    "        evaluation_times.append(eval_time)\n",
    "\n",
    "        # Check for NaN in energy early\n",
    "        if np.isnan(means):\n",
    "            print(f\"\\nNaN detected in energy calculation at epoch {i+1}, stopping training.\")\n",
    "            # Optionally print some state info for debugging\n",
    "            # print(\"Last configs:\", configs)\n",
    "            break\n",
    "\n",
    "        #! 3. Gradient Computation\n",
    "        start_time      =       time.time()\n",
    "        try:\n",
    "            grad        =       nqs.gradient(states=configs, batch_size=batch_size, params=nqs.get_params())\n",
    "            # print(grad.shape)\n",
    "        except Exception as e:\n",
    "            print(f\"\\nError during gradient calculation in epoch {i+1}: {e}\")\n",
    "            print(\"Stopping training.\")\n",
    "            break # Exit loop on gradient error\n",
    "        grad_time       =       time.time() - start_time\n",
    "        gradient_times.append(grad_time)\n",
    "\n",
    "        #! 4. Stochastic Reconfiguration\n",
    "        start_time      =       time.time()\n",
    "        try:\n",
    "            # Ensure v (loss) and grad (var_deriv) are correctly shaped and typed\n",
    "            # v should be (n_samples,) real array (E_loc - E_mean)\n",
    "            # grad should be (n_samples, n_params) complex array (O_k or O_k^*)\n",
    "            if not isinstance(v, (np.ndarray, jnp.ndarray)) or v.ndim != 1:\n",
    "                print(f\"\\nWarning: Unexpected format for 'loss' (v) in epoch {i+1}. Shape: {getattr(v, 'shape', 'N/A')}\")\n",
    "            if not isinstance(grad, (np.ndarray, jnp.ndarray)) or grad.ndim != 2:\n",
    "                print(f\"\\nWarning: Unexpected format for 'var_deriv' (grad) in epoch {i+1}. Shape: {getattr(grad, 'shape', 'N/A')}\")\n",
    "\n",
    "            # Ensure x0 matches the *complex* dtype of the expected solution\n",
    "            # SR solution df.x should match gradient complexity\n",
    "            expected_dtype  = grad.dtype\n",
    "            x0_sr           = jnp.zeros_like(grad[0, :], dtype=expected_dtype)\n",
    "            df              =       SR.solve_jax(\n",
    "                solve_func      = solver_linalg_func,\n",
    "                loss            = v,\n",
    "                var_deriv       = grad,\n",
    "                min_sr          = False,\n",
    "                x0              = x0_sr,\n",
    "                precond_apply   = precond_apply,\n",
    "                maxiter         = 500,\n",
    "                tol             = pinv\n",
    "            )\n",
    "            # s_c             =  SR.derivatives_centered_jax(grad, jnp.mean(grad, axis = 0))\n",
    "            # s_c_h           =  jnp.conjugate(s_c.T)\n",
    "            # loss_c          =  SR.loss_centered_jax(v, means)\n",
    "            # df              =  SR.gradient_jax(s_c_h, loss_c, loss_c.shape[0])\n",
    "            # df              =  solvers.SolverResult(x=df, converged=True, residual_norm=None, iterations=None)\n",
    "        except Exception as e:\n",
    "            print(f\"\\nError during SR calculation in epoch {i+1}: {e}\")\n",
    "            print(f\"SR Input shapes/dtypes: loss={v.shape}/{v.dtype}, var_deriv={grad.shape}/{grad.dtype}\")\n",
    "            print(\"Stopping training.\")\n",
    "            break\n",
    "        reconfig_time       =       time.time() - start_time\n",
    "        reconfiguration_times.append(reconfig_time)\n",
    "\n",
    "        #! 5. Update Network Parameters\n",
    "        start_time          =       time.time()\n",
    "        try:\n",
    "            # The update step: parameters = parameters - learning_rate * df.x\n",
    "            # nqs.update_parameters expects the full step (-lr * df.x)\n",
    "            update_step     =       -lr * df.x.copy()\n",
    "            nqs.update_parameters(update_step)\n",
    "        except Exception as e:\n",
    "            print(f\"\\nError during parameter update in epoch {i+1}: {e}\")\n",
    "            print(f\"Update step shape/dtype: {update_step.shape}/{update_step.dtype}\")\n",
    "            print(\"Stopping training.\")\n",
    "            break\n",
    "        update_time         =       time.time() - start_time\n",
    "        update_times.append(update_time)\n",
    "\n",
    "        # --- Store history and update progress bar ---\n",
    "        history.append(means)\n",
    "        epoch_time = time.time() - epoch_start_time\n",
    "        epoch_times.append(epoch_time)\n",
    "\n",
    "        # Update tqdm description and postfix\n",
    "        pbar.set_description(f\"Epoch {i + 1}/{n_epo}\")\n",
    "        postfix_dict = {\n",
    "            \"E_mean\"    : f\"{means:.6f}\",\n",
    "            \"E_std\"     : f\"{stds:.4f}\",\n",
    "            \"t_samp\"    : f\"{sample_time:.3e}s\",\n",
    "            \"t_eval\"    : f\"{eval_time:.3e}s\",\n",
    "            \"t_grad\"    : f\"{grad_time:.3e}s\",\n",
    "            \"t_sr\"      : f\"{reconfig_time:.3e}s\",\n",
    "            \"t_update\"  : f\"{update_time:.3e}s\",\n",
    "            \"t_epoch\"   : f\"{epoch_time:.3e}s\"\n",
    "        }\n",
    "        pbar.set_postfix(postfix_dict, refresh=True)\n",
    "        # print(nqs.get_params())\n",
    "\n",
    "    #! End of Loop\n",
    "    pbar.close()\n",
    "    return history, sampling_times, evaluation_times, gradient_times, reconfiguration_times, update_times, epoch_times\n",
    "\n",
    "\n",
    "# %lprun -f train_function history, sampling_times, evaluation_times, gradient_times, reconfiguration_times, update_times, epoch_times = train_function()\n",
    "# %lprun -f train_function history, sampling_times, evaluation_times, gradient_times, reconfiguration_times, update_times, epoch_times = train_function()\n",
    "\n",
    "history, sampling_times, evaluation_times, gradient_times, reconfiguration_times, update_times, epoch_times = train_function()\n",
    "\n",
    "#! Final Summary\n",
    "if history:\n",
    "    print(\"\\n--- Training Finished ---\")\n",
    "    print(f\"Completed {len(history)} epochs.\")\n",
    "    print(f\"Final Mean Energy: {history[-1]:.6f}\")\n",
    "\n",
    "    # Calculate averages only on successful steps\n",
    "    avg_sampling_time           = np.mean(sampling_times) if sampling_times else float('nan')\n",
    "    avg_evaluation_time         = np.mean(evaluation_times) if evaluation_times else float('nan')\n",
    "    avg_gradient_time           = np.mean(gradient_times) if gradient_times else float('nan')\n",
    "    avg_reconfiguration_time    = np.mean(reconfiguration_times) if reconfiguration_times else float('nan')\n",
    "    avg_epoch_time              = np.mean(epoch_times) if epoch_times else float('nan')\n",
    "    avg_update_time             = np.mean(update_times) if update_times else float('nan')\n",
    "\n",
    "    print(\"\\nTiming Summary (Average per epoch):\")\n",
    "    print(f\"{'Step':<30}{'Average Time (s)':<20}\")\n",
    "    print(f\"{'-'*50}\")\n",
    "    print(f\"{'Sampling':<30}{avg_sampling_time:<20.3e}\")\n",
    "    print(f\"{'Energy Evaluation':<30}{avg_evaluation_time:<20.3e}\")\n",
    "    print(f\"{'Gradient Computation':<30}{avg_gradient_time:<20.3e}\")\n",
    "    print(f\"{'Stochastic Reconfiguration':<30}{avg_reconfiguration_time:<20.3e}\")\n",
    "    print(f\"{'Parameter Update':<30}{avg_update_time:<20.3e}\")\n",
    "    print(f\"{'Total Epoch':<30}{avg_epoch_time:<20.3e}\")\n",
    "\n",
    "    # --- Plotting ---\n",
    "    plt.figure(1)               # Create a new figure\n",
    "    plt.plot(np.real(history))  # Plot real part of energy history\n",
    "    plt.xlabel(\"Epoch\")\n",
    "    plt.ylabel(\"Mean Energy\")\n",
    "    plt.title(\"Training Progress (Mean Energy)\")\n",
    "    plt.grid(True)\n",
    "    plt.show()\n",
    "else:\n",
    "    print(\"\\nTraining did not complete any epochs.\")"
   ]
  },
  {
   "cell_type": "markdown",
   "metadata": {},
   "source": [
    "#### Train loop small"
   ]
  },
  {
   "cell_type": "code",
   "execution_count": 6,
   "metadata": {},
   "outputs": [
    {
     "name": "stdout",
     "output_type": "stream",
     "text": [
      "<PjitFunction of <function Solver._solver_wrap_compiled.<locals>.wrapper_jax_fisher at 0x76f008bdbce0>>\n",
      "<PjitFunction of <function Preconditioner.get_apply_gram.<locals>.wrapped_apply_gram at 0x76f008bdb2e0>>\n",
      "<PjitFunction of <function FlaxInterface._compile_functions.<locals>.compiled_apply at 0x76f00a586700>>\n",
      "<PjitFunction of <function local_energy_jax_wrap.<locals>.final_wrapper at 0x76f009853100>>\n",
      "<PjitFunction of <function flat_gradient_cpx_holo_jax at 0x76f00a6aab60>>\n",
      "Epoch 1/200 - Step Info: (1.411181475498634+0.004225138910752617j), t_up:1.027e-01, t_s:1.507e+00, t_ss:1.417e+00, t_epoch:3.027e+00\n",
      "Epoch 2/200 - Step Info: (1.4047673086376216+0.0004393795162757595j), t_up:2.136e-04, t_s:8.462e-02, t_ss:4.686e-02, t_epoch:1.318e-01\n",
      "Epoch 3/200 - Step Info: (1.3562916804702236+0.003778542389852818j), t_up:1.745e-04, t_s:8.026e-02, t_ss:4.620e-02, t_epoch:1.269e-01\n",
      "Epoch 4/200 - Step Info: (1.3688701254291522+0.009074430168592799j), t_up:2.079e-04, t_s:7.990e-02, t_ss:4.571e-02, t_epoch:1.262e-01\n",
      "Epoch 5/200 - Step Info: (1.3344684886604898+0.00022462201767932017j), t_up:2.098e-04, t_s:7.997e-02, t_ss:4.638e-02, t_epoch:1.266e-01\n",
      "Epoch 6/200 - Step Info: (1.3338692012404818+0.010043203216917866j), t_up:2.282e-04, t_s:7.985e-02, t_ss:4.601e-02, t_epoch:1.264e-01\n",
      "Epoch 7/200 - Step Info: (1.291231028279345+0.0022164345284794956j), t_up:1.523e-04, t_s:8.026e-02, t_ss:4.619e-02, t_epoch:1.267e-01\n",
      "Epoch 8/200 - Step Info: (1.2707787412617029-0.0015537092586876931j), t_up:2.494e-04, t_s:8.011e-02, t_ss:4.616e-02, t_epoch:1.267e-01\n",
      "Epoch 9/200 - Step Info: (1.2499626322388229-0.004403621341675367j), t_up:1.924e-04, t_s:7.986e-02, t_ss:4.610e-02, t_epoch:1.262e-01\n",
      "Epoch 10/200 - Step Info: (1.229532303709038+0.005297869447282854j), t_up:1.543e-04, t_s:8.017e-02, t_ss:4.633e-02, t_epoch:1.267e-01\n",
      "Epoch 11/200 - Step Info: (1.2255269091090686-0.007641786217818164j), t_up:1.953e-04, t_s:8.039e-02, t_ss:4.554e-02, t_epoch:1.262e-01\n",
      "Epoch 12/200 - Step Info: (1.1990434271592845+0.007160993833885044j), t_up:1.845e-04, t_s:8.016e-02, t_ss:4.551e-02, t_epoch:1.259e-01\n",
      "Epoch 13/200 - Step Info: (1.1952258592483722-0.008360655342431257j), t_up:2.086e-04, t_s:8.002e-02, t_ss:4.539e-02, t_epoch:1.257e-01\n",
      "Epoch 14/200 - Step Info: (1.1631927031024052-0.009816915330002462j), t_up:1.943e-04, t_s:7.953e-02, t_ss:4.489e-02, t_epoch:1.250e-01\n",
      "Epoch 15/200 - Step Info: (1.142360614760736+0.01239637430581137j), t_up:1.960e-04, t_s:7.967e-02, t_ss:4.562e-02, t_epoch:1.256e-01\n",
      "Epoch 16/200 - Step Info: (1.1087760053265594-0.0009507097068570009j), t_up:1.769e-04, t_s:7.969e-02, t_ss:4.532e-02, t_epoch:1.253e-01\n",
      "Epoch 17/200 - Step Info: (1.0815695784026862-0.008958189836405651j), t_up:1.738e-04, t_s:7.969e-02, t_ss:4.557e-02, t_epoch:1.255e-01\n",
      "Epoch 18/200 - Step Info: (1.0508356383589998+0.00632665870409847j), t_up:1.588e-04, t_s:7.993e-02, t_ss:4.553e-02, t_epoch:1.257e-01\n",
      "Epoch 19/200 - Step Info: (1.0655294525322458-0.00657694710069158j), t_up:2.024e-04, t_s:8.039e-02, t_ss:4.529e-02, t_epoch:1.260e-01\n",
      "Epoch 20/200 - Step Info: (1.0406772622732685+0.005471948376829017j), t_up:1.969e-04, t_s:8.046e-02, t_ss:4.494e-02, t_epoch:1.259e-01\n",
      "Epoch 21/200 - Step Info: (1.0306965008084321-0.0014034252555383646j), t_up:1.929e-04, t_s:7.993e-02, t_ss:4.523e-02, t_epoch:1.257e-01\n",
      "Epoch 22/200 - Step Info: (1.0053938398022768-0.0012683533126792582j), t_up:1.760e-04, t_s:7.991e-02, t_ss:4.564e-02, t_epoch:1.258e-01\n",
      "Epoch 23/200 - Step Info: (0.9690838226812925-0.003851353148169286j), t_up:1.786e-04, t_s:8.012e-02, t_ss:4.525e-02, t_epoch:1.256e-01\n",
      "Epoch 24/200 - Step Info: (0.9697003603249305+0.0014464015193054887j), t_up:2.012e-04, t_s:7.973e-02, t_ss:4.503e-02, t_epoch:1.250e-01\n",
      "Epoch 25/200 - Step Info: (0.9285612543001263+0.0024640174062958613j), t_up:3.068e-04, t_s:8.012e-02, t_ss:4.499e-02, t_epoch:1.256e-01\n",
      "Epoch 26/200 - Step Info: (0.9086929217362768-0.0035938351345843394j), t_up:2.177e-04, t_s:8.070e-02, t_ss:4.411e-02, t_epoch:1.251e-01\n",
      "Epoch 27/200 - Step Info: (0.9006675677962536-0.009332215645460194j), t_up:1.965e-04, t_s:8.020e-02, t_ss:4.413e-02, t_epoch:1.246e-01\n",
      "Epoch 28/200 - Step Info: (0.8640259304118325+0.0097239545502968j), t_up:2.232e-04, t_s:8.012e-02, t_ss:4.492e-02, t_epoch:1.254e-01\n",
      "Epoch 29/200 - Step Info: (0.8266554792683641+0.011604581440710844j), t_up:2.086e-04, t_s:8.011e-02, t_ss:4.419e-02, t_epoch:1.248e-01\n",
      "Epoch 30/200 - Step Info: (0.8391220393630716+0.007706484158799552j), t_up:2.155e-04, t_s:7.962e-02, t_ss:4.434e-02, t_epoch:1.243e-01\n",
      "Epoch 31/200 - Step Info: (0.8111012498222896-0.012865276954165802j), t_up:2.315e-04, t_s:7.987e-02, t_ss:4.414e-02, t_epoch:1.245e-01\n",
      "Epoch 32/200 - Step Info: (0.7958578675759628+0.0070579951445815005j), t_up:2.203e-04, t_s:7.974e-02, t_ss:4.434e-02, t_epoch:1.244e-01\n",
      "Epoch 33/200 - Step Info: (0.7814090995155993-0.0003122857966712335j), t_up:2.165e-04, t_s:7.997e-02, t_ss:4.447e-02, t_epoch:1.249e-01\n",
      "Epoch 34/200 - Step Info: (0.738855778242686-0.0016385439279452453j), t_up:3.114e-04, t_s:7.978e-02, t_ss:4.411e-02, t_epoch:1.246e-01\n",
      "Epoch 35/200 - Step Info: (0.7294869452356726+0.002038493452406176j), t_up:3.138e-04, t_s:7.990e-02, t_ss:4.472e-02, t_epoch:1.253e-01\n",
      "Epoch 36/200 - Step Info: (0.7122575694864616+0.0005291638770792655j), t_up:2.792e-04, t_s:7.970e-02, t_ss:4.432e-02, t_epoch:1.246e-01\n",
      "Epoch 37/200 - Step Info: (0.6937247985344752+0.004304645819385441j), t_up:2.322e-04, t_s:7.956e-02, t_ss:4.517e-02, t_epoch:1.251e-01\n",
      "Epoch 38/200 - Step Info: (0.6900778901997549+0.0005896213760821972j), t_up:2.239e-04, t_s:7.951e-02, t_ss:4.483e-02, t_epoch:1.247e-01\n",
      "Epoch 39/200 - Step Info: (0.652208010803814+0.001384859503201544j), t_up:3.307e-04, t_s:8.005e-02, t_ss:4.476e-02, t_epoch:1.254e-01\n",
      "Epoch 40/200 - Step Info: (0.6350012515737975-0.0071494849370903925j), t_up:3.333e-04, t_s:7.982e-02, t_ss:4.470e-02, t_epoch:1.251e-01\n",
      "Epoch 41/200 - Step Info: (0.6117390545499234+0.007290643903043003j), t_up:3.660e-04, t_s:8.031e-02, t_ss:4.438e-02, t_epoch:1.253e-01\n",
      "Epoch 42/200 - Step Info: (0.6022994998366472+0.00676674443612425j), t_up:3.045e-04, t_s:7.983e-02, t_ss:4.435e-02, t_epoch:1.249e-01\n",
      "Epoch 43/200 - Step Info: (0.5714453115126766+0.00742213323688314j), t_up:4.666e-04, t_s:8.004e-02, t_ss:4.471e-02, t_epoch:1.254e-01\n",
      "Epoch 44/200 - Step Info: (0.5479199560270288-0.0025331387081641184j), t_up:2.961e-04, t_s:8.032e-02, t_ss:4.419e-02, t_epoch:1.250e-01\n",
      "Epoch 45/200 - Step Info: (0.5547494476739844+0.002037623765343026j), t_up:2.060e-04, t_s:7.967e-02, t_ss:4.424e-02, t_epoch:1.242e-01\n",
      "Epoch 46/200 - Step Info: (0.5108059997220146+0.01501199295771844j), t_up:2.353e-04, t_s:7.994e-02, t_ss:4.417e-02, t_epoch:1.245e-01\n",
      "Epoch 47/200 - Step Info: (0.5153231501500525-0.00628719427735065j), t_up:1.936e-04, t_s:7.946e-02, t_ss:4.432e-02, t_epoch:1.241e-01\n",
      "Epoch 48/200 - Step Info: (0.47485258881227055+0.002845661929795743j), t_up:2.041e-04, t_s:7.992e-02, t_ss:4.345e-02, t_epoch:1.237e-01\n",
      "Epoch 49/200 - Step Info: (0.4696878730674401-0.0033009856760785996j), t_up:1.891e-04, t_s:7.989e-02, t_ss:4.437e-02, t_epoch:1.246e-01\n",
      "Epoch 50/200 - Step Info: (0.44794454141879636-0.0014184366128678569j), t_up:1.912e-04, t_s:7.988e-02, t_ss:4.323e-02, t_epoch:1.234e-01\n",
      "Epoch 51/200 - Step Info: (0.43970469315790633+0.0016902087230524282j), t_up:1.903e-04, t_s:7.990e-02, t_ss:4.347e-02, t_epoch:1.237e-01\n",
      "Epoch 52/200 - Step Info: (0.4073769755056747+0.00966290912556566j), t_up:1.860e-04, t_s:7.942e-02, t_ss:4.373e-02, t_epoch:1.234e-01\n",
      "Epoch 53/200 - Step Info: (0.4167963126741352+0.009170898261871613j), t_up:1.955e-04, t_s:7.947e-02, t_ss:4.412e-02, t_epoch:1.240e-01\n",
      "Epoch 54/200 - Step Info: (0.37456487597714283+0.001609453686227614j), t_up:2.007e-04, t_s:7.910e-02, t_ss:4.334e-02, t_epoch:1.227e-01\n",
      "Epoch 55/200 - Step Info: (0.3555889786761178+0.007169745349148903j), t_up:2.129e-04, t_s:7.936e-02, t_ss:4.350e-02, t_epoch:1.232e-01\n",
      "Epoch 56/200 - Step Info: (0.3408137839362941-0.008083725237787335j), t_up:2.027e-04, t_s:7.993e-02, t_ss:4.356e-02, t_epoch:1.238e-01\n",
      "Epoch 57/200 - Step Info: (0.30261493856052196-0.001970370435013096j), t_up:1.934e-04, t_s:7.973e-02, t_ss:4.351e-02, t_epoch:1.235e-01\n",
      "Epoch 58/200 - Step Info: (0.29712146283269203-0.014359656597928375j), t_up:1.953e-04, t_s:8.002e-02, t_ss:4.366e-02, t_epoch:1.240e-01\n",
      "Epoch 59/200 - Step Info: (0.28831627568128054-0.007165967161373527j), t_up:1.979e-04, t_s:7.947e-02, t_ss:4.374e-02, t_epoch:1.235e-01\n",
      "Epoch 60/200 - Step Info: (0.2772577354953792-0.004098742324697976j), t_up:2.170e-04, t_s:7.942e-02, t_ss:4.403e-02, t_epoch:1.238e-01\n",
      "Epoch 61/200 - Step Info: (0.24007595957776032-0.0029207761254362707j), t_up:1.860e-04, t_s:7.911e-02, t_ss:4.405e-02, t_epoch:1.234e-01\n",
      "Epoch 62/200 - Step Info: (0.23363594044176822-0.008434887947138616j), t_up:2.041e-04, t_s:7.932e-02, t_ss:4.455e-02, t_epoch:1.243e-01\n",
      "Epoch 63/200 - Step Info: (0.19545837241689848-0.005181446098896368j), t_up:1.945e-04, t_s:7.924e-02, t_ss:4.345e-02, t_epoch:1.230e-01\n",
      "Epoch 64/200 - Step Info: (0.18366057225472782+0.0017379113540531717j), t_up:1.891e-04, t_s:7.953e-02, t_ss:4.336e-02, t_epoch:1.232e-01\n",
      "Epoch 65/200 - Step Info: (0.16966825050884696+0.0030680782594541796j), t_up:2.081e-04, t_s:7.968e-02, t_ss:4.426e-02, t_epoch:1.242e-01\n",
      "Epoch 66/200 - Step Info: (0.14411593128283753-0.006468915817990537j), t_up:2.098e-04, t_s:7.996e-02, t_ss:4.421e-02, t_epoch:1.245e-01\n",
      "Epoch 67/200 - Step Info: (0.12327751595305547+0.003519913904903181j), t_up:2.134e-04, t_s:8.007e-02, t_ss:4.339e-02, t_epoch:1.238e-01\n",
      "Epoch 68/200 - Step Info: (0.09673510237978365-0.0032149783259994807j), t_up:2.003e-04, t_s:7.997e-02, t_ss:4.386e-02, t_epoch:1.242e-01\n",
      "Epoch 69/200 - Step Info: (0.09776569962718518-0.004740042640794754j), t_up:2.151e-04, t_s:7.975e-02, t_ss:4.425e-02, t_epoch:1.243e-01\n",
      "Epoch 70/200 - Step Info: (0.06528502873139098-0.005260528778830728j), t_up:2.174e-04, t_s:7.965e-02, t_ss:4.464e-02, t_epoch:1.246e-01\n",
      "Epoch 71/200 - Step Info: (0.03432590770475696-0.011576500554913261j), t_up:1.774e-04, t_s:8.011e-02, t_ss:4.334e-02, t_epoch:1.237e-01\n",
      "Epoch 72/200 - Step Info: (0.044113490766196584-0.002233795142620449j), t_up:2.050e-04, t_s:7.981e-02, t_ss:4.451e-02, t_epoch:1.246e-01\n",
      "Epoch 73/200 - Step Info: (0.035607136262853736+0.002448307358356557j), t_up:1.872e-04, t_s:7.986e-02, t_ss:4.437e-02, t_epoch:1.245e-01\n",
      "Epoch 74/200 - Step Info: (0.005160000195422253-0.0015376895977382288j), t_up:2.153e-04, t_s:7.996e-02, t_ss:4.453e-02, t_epoch:1.248e-01\n",
      "Epoch 75/200 - Step Info: (-0.017089864895150412-0.002124845917900822j), t_up:1.922e-04, t_s:8.006e-02, t_ss:4.357e-02, t_epoch:1.239e-01\n",
      "Epoch 76/200 - Step Info: (-0.05583095495492662-0.002487397298584571j), t_up:2.091e-04, t_s:7.959e-02, t_ss:4.440e-02, t_epoch:1.243e-01\n",
      "Epoch 77/200 - Step Info: (-0.05057890880042879+0.0031350383762682133j), t_up:1.886e-04, t_s:7.987e-02, t_ss:4.499e-02, t_epoch:1.251e-01\n",
      "Epoch 78/200 - Step Info: (-0.07236548895978506-0.007614540393941384j), t_up:1.810e-04, t_s:7.990e-02, t_ss:4.459e-02, t_epoch:1.248e-01\n",
      "Epoch 79/200 - Step Info: (-0.08169434513126318-0.005354462007724797j), t_up:1.962e-04, t_s:7.983e-02, t_ss:4.472e-02, t_epoch:1.248e-01\n",
      "Epoch 80/200 - Step Info: (-0.11164690066395336+0.008042045276654567j), t_up:1.926e-04, t_s:8.006e-02, t_ss:4.370e-02, t_epoch:1.240e-01\n",
      "Epoch 81/200 - Step Info: (-0.11326344389481342-0.0020835535767273015j), t_up:1.743e-04, t_s:7.971e-02, t_ss:4.469e-02, t_epoch:1.247e-01\n",
      "Epoch 82/200 - Step Info: (-0.12538352350099796+0.005486016641834758j), t_up:1.826e-04, t_s:7.990e-02, t_ss:4.459e-02, t_epoch:1.248e-01\n",
      "Epoch 83/200 - Step Info: (-0.16670035779280265+0.007876578531933083j), t_up:1.833e-04, t_s:8.017e-02, t_ss:4.442e-02, t_epoch:1.249e-01\n",
      "Epoch 84/200 - Step Info: (-0.18641147320077306-0.0032992489346063674j), t_up:1.786e-04, t_s:7.984e-02, t_ss:4.467e-02, t_epoch:1.248e-01\n",
      "Epoch 85/200 - Step Info: (-0.19895395856467785-0.009472241309552994j), t_up:1.841e-04, t_s:8.031e-02, t_ss:4.371e-02, t_epoch:1.243e-01\n",
      "Epoch 86/200 - Step Info: (-0.2220912154898179-0.010672173291635577j), t_up:1.917e-04, t_s:8.011e-02, t_ss:4.371e-02, t_epoch:1.241e-01\n",
      "Epoch 87/200 - Step Info: (-0.25749803600527865-0.0027067469337471273j), t_up:2.027e-04, t_s:8.010e-02, t_ss:4.405e-02, t_epoch:1.245e-01\n",
      "Epoch 88/200 - Step Info: (-0.23931268997439684+0.012114234570981108j), t_up:1.721e-04, t_s:7.998e-02, t_ss:4.470e-02, t_epoch:1.249e-01\n",
      "Epoch 89/200 - Step Info: (-0.2826412716584755+0.0032362037043032715j), t_up:1.986e-04, t_s:8.028e-02, t_ss:4.421e-02, t_epoch:1.248e-01\n",
      "Epoch 90/200 - Step Info: (-0.29749749482541094+0.0018226297815384265j), t_up:1.807e-04, t_s:8.010e-02, t_ss:4.439e-02, t_epoch:1.248e-01\n",
      "Epoch 91/200 - Step Info: (-0.28074887198381415-0.0008305022855839646j), t_up:1.950e-04, t_s:8.147e-02, t_ss:4.443e-02, t_epoch:1.262e-01\n",
      "Epoch 92/200 - Step Info: (-0.32354221541870815-0.007863314815733128j), t_up:1.988e-04, t_s:8.037e-02, t_ss:4.431e-02, t_epoch:1.250e-01\n",
      "Epoch 93/200 - Step Info: (-0.3426558724243339+0.0038052642635490646j), t_up:1.929e-04, t_s:8.000e-02, t_ss:4.427e-02, t_epoch:1.246e-01\n",
      "Epoch 94/200 - Step Info: (-0.372407065424633-0.0006494550021292376j), t_up:1.719e-04, t_s:8.025e-02, t_ss:4.422e-02, t_epoch:1.247e-01\n",
      "Epoch 95/200 - Step Info: (-0.3594271996990393+0.0022815750731477943j), t_up:2.105e-04, t_s:7.974e-02, t_ss:4.444e-02, t_epoch:1.245e-01\n",
      "Epoch 96/200 - Step Info: (-0.40428826554967084-0.00882123757399269j), t_up:1.938e-04, t_s:8.043e-02, t_ss:4.432e-02, t_epoch:1.252e-01\n",
      "Epoch 97/200 - Step Info: (-0.3961302609827235-0.012664564089798368j), t_up:1.824e-04, t_s:7.984e-02, t_ss:4.434e-02, t_epoch:1.245e-01\n",
      "Epoch 98/200 - Step Info: (-0.40959567986242895-0.004162273817633394j), t_up:1.788e-04, t_s:8.024e-02, t_ss:4.477e-02, t_epoch:1.254e-01\n",
      "Epoch 99/200 - Step Info: (-0.4348975892553124+0.002945703123007828j), t_up:1.936e-04, t_s:7.985e-02, t_ss:4.429e-02, t_epoch:1.245e-01\n",
      "Epoch 100/200 - Step Info: (-0.4533013388861545-0.0027532704376102145j), t_up:2.012e-04, t_s:7.986e-02, t_ss:4.436e-02, t_epoch:1.247e-01\n",
      "Epoch 101/200 - Step Info: (-0.4476403764784564-0.0008206015719006971j), t_up:1.926e-04, t_s:7.967e-02, t_ss:4.417e-02, t_epoch:1.243e-01\n",
      "Epoch 102/200 - Step Info: (-0.495978190883512+0.0005013550297620288j), t_up:1.922e-04, t_s:7.996e-02, t_ss:4.511e-02, t_epoch:1.253e-01\n",
      "Epoch 103/200 - Step Info: (-0.49222102479146435+0.0029722900536781416j), t_up:1.934e-04, t_s:7.975e-02, t_ss:4.488e-02, t_epoch:1.249e-01\n",
      "Epoch 104/200 - Step Info: (-0.5061373094366584+0.004111456231137167j), t_up:1.936e-04, t_s:7.998e-02, t_ss:4.486e-02, t_epoch:1.251e-01\n",
      "Epoch 105/200 - Step Info: (-0.5270853626832529-0.0071364984998889625j), t_up:1.922e-04, t_s:7.973e-02, t_ss:4.474e-02, t_epoch:1.248e-01\n",
      "Epoch 106/200 - Step Info: (-0.5374663240924034+0.006285378456607281j), t_up:2.446e-04, t_s:7.979e-02, t_ss:4.509e-02, t_epoch:1.252e-01\n",
      "Epoch 107/200 - Step Info: (-0.5480173410138572-0.004308919557050832j), t_up:1.926e-04, t_s:7.997e-02, t_ss:4.470e-02, t_epoch:1.251e-01\n",
      "Epoch 108/200 - Step Info: (-0.5534346848079755+0.008732915676513542j), t_up:1.907e-04, t_s:8.032e-02, t_ss:4.431e-02, t_epoch:1.249e-01\n",
      "Epoch 109/200 - Step Info: (-0.5842226228696095-0.002600743692814983j), t_up:1.879e-04, t_s:7.992e-02, t_ss:4.454e-02, t_epoch:1.247e-01\n",
      "Epoch 110/200 - Step Info: (-0.5893798445048725+0.00043836206022939913j), t_up:2.153e-04, t_s:8.012e-02, t_ss:4.445e-02, t_epoch:1.249e-01\n",
      "Epoch 111/200 - Step Info: (-0.5826182404723733+0.004565920105587681j), t_up:1.988e-04, t_s:8.030e-02, t_ss:4.426e-02, t_epoch:1.248e-01\n",
      "Epoch 112/200 - Step Info: (-0.6302408385248928+0.0026065286063339174j), t_up:1.872e-04, t_s:8.028e-02, t_ss:4.515e-02, t_epoch:1.257e-01\n",
      "Epoch 113/200 - Step Info: (-0.6172636018169305+0.005050867512056253j), t_up:2.003e-04, t_s:8.025e-02, t_ss:4.424e-02, t_epoch:1.248e-01\n",
      "Epoch 114/200 - Step Info: (-0.6392916025120347+0.0024872464550063983j), t_up:1.864e-04, t_s:7.987e-02, t_ss:4.431e-02, t_epoch:1.245e-01\n",
      "Epoch 115/200 - Step Info: (-0.6349243097050472+0.004083513586620501j), t_up:2.093e-04, t_s:8.046e-02, t_ss:4.438e-02, t_epoch:1.253e-01\n",
      "Epoch 116/200 - Step Info: (-0.6725997162353593-0.0015131939323867096j), t_up:1.993e-04, t_s:8.002e-02, t_ss:4.431e-02, t_epoch:1.246e-01\n",
      "Epoch 117/200 - Step Info: (-0.6836344887725114+0.001937504269592037j), t_up:1.864e-04, t_s:7.983e-02, t_ss:4.450e-02, t_epoch:1.248e-01\n",
      "Epoch 118/200 - Step Info: (-0.7028306067968769-0.005219684664119278j), t_up:1.907e-04, t_s:7.976e-02, t_ss:4.404e-02, t_epoch:1.241e-01\n",
      "Epoch 119/200 - Step Info: (-0.6962356623175846+0.000942747816037285j), t_up:2.766e-04, t_s:8.025e-02, t_ss:4.452e-02, t_epoch:1.253e-01\n",
      "Epoch 120/200 - Step Info: (-0.7149756961805043+0.007507221729620605j), t_up:1.981e-04, t_s:8.005e-02, t_ss:4.483e-02, t_epoch:1.253e-01\n",
      "Epoch 121/200 - Step Info: (-0.7284009563992208+0.006831255214271086j), t_up:2.656e-04, t_s:7.990e-02, t_ss:4.472e-02, t_epoch:1.251e-01\n",
      "Epoch 122/200 - Step Info: (-0.73441997817045+0.005808957830263506j), t_up:2.103e-04, t_s:7.977e-02, t_ss:4.457e-02, t_epoch:1.247e-01\n",
      "Epoch 123/200 - Step Info: (-0.7451738571556684-0.001087677134061113j), t_up:1.726e-04, t_s:7.963e-02, t_ss:4.564e-02, t_epoch:1.257e-01\n",
      "Epoch 124/200 - Step Info: (-0.7549871259385499-8.193061476955172e-05j), t_up:1.752e-04, t_s:8.000e-02, t_ss:4.500e-02, t_epoch:1.253e-01\n",
      "Epoch 125/200 - Step Info: (-0.7580594516669561+0.003892048745093976j), t_up:1.566e-04, t_s:8.027e-02, t_ss:4.516e-02, t_epoch:1.257e-01\n",
      "Epoch 126/200 - Step Info: (-0.772936065126003+0.00788569589894802j), t_up:2.010e-04, t_s:8.023e-02, t_ss:4.501e-02, t_epoch:1.255e-01\n",
      "Epoch 127/200 - Step Info: (-0.7926672828027765+0.00053574401607348j), t_up:2.382e-04, t_s:7.994e-02, t_ss:4.356e-02, t_epoch:1.238e-01\n",
      "Epoch 128/200 - Step Info: (-0.8084596881700885-0.0014434969439276978j), t_up:2.089e-04, t_s:7.944e-02, t_ss:4.260e-02, t_epoch:1.223e-01\n",
      "Epoch 129/200 - Step Info: (-0.8037699140571473-0.00556851001531731j), t_up:1.795e-04, t_s:7.873e-02, t_ss:4.470e-02, t_epoch:1.237e-01\n",
      "Epoch 130/200 - Step Info: (-0.7953514459756322-0.002648297389844586j), t_up:1.523e-04, t_s:7.783e-02, t_ss:4.432e-02, t_epoch:1.224e-01\n",
      "Epoch 131/200 - Step Info: (-0.8171704129744952-0.0056394022938309404j), t_up:2.038e-04, t_s:7.972e-02, t_ss:4.352e-02, t_epoch:1.235e-01\n",
      "Epoch 132/200 - Step Info: (-0.8324684929478001-0.006409697292711616j), t_up:1.700e-04, t_s:7.883e-02, t_ss:4.323e-02, t_epoch:1.223e-01\n",
      "Epoch 133/200 - Step Info: (-0.8594925317632129-0.0003577157563798984j), t_up:2.685e-04, t_s:7.885e-02, t_ss:4.393e-02, t_epoch:1.232e-01\n",
      "Epoch 134/200 - Step Info: (-0.8489538625242072-0.006682039357059013j), t_up:2.191e-04, t_s:7.904e-02, t_ss:4.555e-02, t_epoch:1.249e-01\n",
      "Epoch 135/200 - Step Info: (-0.8618783615176568+0.008524294886591122j), t_up:2.158e-04, t_s:7.926e-02, t_ss:4.537e-02, t_epoch:1.249e-01\n",
      "Epoch 136/200 - Step Info: (-0.8840225592244779-0.008491116131866544j), t_up:1.779e-04, t_s:7.891e-02, t_ss:4.396e-02, t_epoch:1.232e-01\n",
      "Epoch 137/200 - Step Info: (-0.8733878027077987+0.005655579856015495j), t_up:2.160e-04, t_s:7.886e-02, t_ss:4.375e-02, t_epoch:1.229e-01\n",
      "Epoch 138/200 - Step Info: (-0.8900337726954349+0.008810476030987932j), t_up:1.807e-04, t_s:7.863e-02, t_ss:4.439e-02, t_epoch:1.233e-01\n",
      "Epoch 139/200 - Step Info: (-0.8974188281823214+0.006893443130240806j), t_up:2.444e-04, t_s:7.899e-02, t_ss:4.414e-02, t_epoch:1.236e-01\n",
      "Epoch 140/200 - Step Info: (-0.9183136764298423-0.003445610953106251j), t_up:1.974e-04, t_s:7.878e-02, t_ss:4.317e-02, t_epoch:1.222e-01\n",
      "Epoch 141/200 - Step Info: (-0.9137492895337539+0.004120098668732934j), t_up:2.255e-04, t_s:7.913e-02, t_ss:4.345e-02, t_epoch:1.229e-01\n",
      "Epoch 142/200 - Step Info: (-0.9244588137775891+0.009698372080512085j), t_up:2.000e-04, t_s:7.821e-02, t_ss:4.491e-02, t_epoch:1.234e-01\n",
      "Epoch 143/200 - Step Info: (-0.9273005208306493+0.004655993446578658j), t_up:1.729e-04, t_s:7.980e-02, t_ss:4.499e-02, t_epoch:1.251e-01\n",
      "Epoch 144/200 - Step Info: (-0.9484058697070028+0.0009081735009157356j), t_up:1.719e-04, t_s:7.836e-02, t_ss:4.381e-02, t_epoch:1.224e-01\n",
      "Epoch 145/200 - Step Info: (-0.9416667603809099+0.00853189114558958j), t_up:2.372e-04, t_s:7.945e-02, t_ss:4.364e-02, t_epoch:1.234e-01\n",
      "Epoch 146/200 - Step Info: (-0.9651308410824312+0.00112006018802342j), t_up:2.279e-04, t_s:7.782e-02, t_ss:4.441e-02, t_epoch:1.225e-01\n",
      "Epoch 147/200 - Step Info: (-0.9585242682817469-0.00600099739516607j), t_up:2.253e-04, t_s:7.977e-02, t_ss:4.547e-02, t_epoch:1.257e-01\n",
      "Epoch 148/200 - Step Info: (-0.959327459564287+0.005806075730353392j), t_up:1.793e-04, t_s:7.811e-02, t_ss:4.421e-02, t_epoch:1.226e-01\n",
      "Epoch 149/200 - Step Info: (-0.9700310455846483+0.0065107303112739365j), t_up:1.998e-04, t_s:8.008e-02, t_ss:4.435e-02, t_epoch:1.249e-01\n",
      "Epoch 150/200 - Step Info: (-0.9882946475381503+0.005939117283339328j), t_up:2.189e-04, t_s:8.196e-02, t_ss:4.618e-02, t_epoch:1.289e-01\n",
      "Epoch 151/200 - Step Info: (-0.9759070624222488+0.0006620915218407778j), t_up:1.600e-04, t_s:8.208e-02, t_ss:4.767e-02, t_epoch:1.300e-01\n",
      "Epoch 152/200 - Step Info: (-0.9993733131154278+0.011580587878133214j), t_up:2.196e-04, t_s:8.145e-02, t_ss:4.582e-02, t_epoch:1.276e-01\n",
      "Epoch 153/200 - Step Info: (-1.002790845491397-0.0002998896923446658j), t_up:2.258e-04, t_s:8.207e-02, t_ss:4.593e-02, t_epoch:1.290e-01\n",
      "Epoch 154/200 - Step Info: (-1.018466358533485+0.0022531905705697685j), t_up:2.112e-04, t_s:7.992e-02, t_ss:4.518e-02, t_epoch:1.257e-01\n",
      "Epoch 155/200 - Step Info: (-1.0224153404993113+0.0034900927838422777j), t_up:1.862e-04, t_s:7.955e-02, t_ss:4.582e-02, t_epoch:1.256e-01\n",
      "Epoch 156/200 - Step Info: (-1.0285673253984042+0.003990188268124747j), t_up:1.647e-04, t_s:7.972e-02, t_ss:4.549e-02, t_epoch:1.255e-01\n",
      "Epoch 157/200 - Step Info: (-1.0228904535209302+0.0011617555221052971j), t_up:1.593e-04, t_s:7.965e-02, t_ss:4.563e-02, t_epoch:1.255e-01\n",
      "Epoch 158/200 - Step Info: (-1.0316182272001755+0.0022747047774593805j), t_up:1.974e-04, t_s:8.142e-02, t_ss:4.648e-02, t_epoch:1.286e-01\n",
      "Epoch 159/200 - Step Info: (-1.02853446236112+0.005653169072405939j), t_up:1.864e-04, t_s:8.070e-02, t_ss:4.702e-02, t_epoch:1.280e-01\n",
      "Epoch 160/200 - Step Info: (-1.054396630232993-0.0017090696344047474j), t_up:2.348e-04, t_s:8.379e-02, t_ss:4.773e-02, t_epoch:1.318e-01\n",
      "Epoch 161/200 - Step Info: (-1.05749593381998+0.006470100033563376j), t_up:2.096e-04, t_s:8.120e-02, t_ss:4.640e-02, t_epoch:1.279e-01\n",
      "Epoch 162/200 - Step Info: (-1.067757128040756-0.0014369798540708918j), t_up:1.969e-04, t_s:8.204e-02, t_ss:4.515e-02, t_epoch:1.276e-01\n",
      "Epoch 163/200 - Step Info: (-1.0682791146758193-0.000907037107777839j), t_up:2.129e-04, t_s:7.927e-02, t_ss:4.509e-02, t_epoch:1.248e-01\n",
      "Epoch 164/200 - Step Info: (-1.069696088156371-0.010762059497815394j), t_up:1.655e-04, t_s:7.958e-02, t_ss:4.591e-02, t_epoch:1.257e-01\n",
      "Epoch 165/200 - Step Info: (-1.083328985067015+0.00497892058125482j), t_up:1.609e-04, t_s:7.878e-02, t_ss:4.554e-02, t_epoch:1.246e-01\n",
      "Epoch 166/200 - Step Info: (-1.0950369718437492-0.002541211750084477j), t_up:1.822e-04, t_s:7.962e-02, t_ss:4.520e-02, t_epoch:1.251e-01\n",
      "Epoch 167/200 - Step Info: (-1.0830198735872918-0.0014317049971701735j), t_up:1.800e-04, t_s:7.912e-02, t_ss:4.514e-02, t_epoch:1.245e-01\n",
      "Epoch 168/200 - Step Info: (-1.0998271765895082-0.004268681334403843j), t_up:1.688e-04, t_s:7.957e-02, t_ss:4.488e-02, t_epoch:1.247e-01\n",
      "Epoch 169/200 - Step Info: (-1.1100279734172869+0.0006014518774973133j), t_up:1.748e-04, t_s:7.872e-02, t_ss:4.547e-02, t_epoch:1.244e-01\n",
      "Epoch 170/200 - Step Info: (-1.1180977769754696-0.003287535249320939j), t_up:1.538e-04, t_s:7.938e-02, t_ss:4.491e-02, t_epoch:1.245e-01\n",
      "Epoch 171/200 - Step Info: (-1.1242574870938373+0.0031966246912828087j), t_up:1.533e-04, t_s:7.875e-02, t_ss:4.529e-02, t_epoch:1.243e-01\n",
      "Epoch 172/200 - Step Info: (-1.1222564722039365+0.004826443249315674j), t_up:1.726e-04, t_s:7.952e-02, t_ss:4.587e-02, t_epoch:1.256e-01\n",
      "Epoch 173/200 - Step Info: (-1.1314420136918162+0.0033090403797796514j), t_up:1.738e-04, t_s:7.907e-02, t_ss:4.542e-02, t_epoch:1.247e-01\n",
      "Epoch 174/200 - Step Info: (-1.1315414814065805+0.003084585506352898j), t_up:1.733e-04, t_s:8.046e-02, t_ss:4.542e-02, t_epoch:1.261e-01\n",
      "Epoch 175/200 - Step Info: (-1.1413457608071418-0.008844500531580627j), t_up:1.516e-04, t_s:7.990e-02, t_ss:4.414e-02, t_epoch:1.243e-01\n",
      "Epoch 176/200 - Step Info: (-1.142784056845689-0.009955354323556504j), t_up:1.616e-04, t_s:7.968e-02, t_ss:4.613e-02, t_epoch:1.261e-01\n",
      "Epoch 177/200 - Step Info: (-1.1522763139988963-0.009656465525577812j), t_up:1.671e-04, t_s:7.956e-02, t_ss:4.490e-02, t_epoch:1.247e-01\n",
      "Epoch 178/200 - Step Info: (-1.1497458933688056-0.0032522444822181223j), t_up:1.783e-04, t_s:7.963e-02, t_ss:4.529e-02, t_epoch:1.252e-01\n",
      "Epoch 179/200 - Step Info: (-1.165447716343938+0.003491867977799806j), t_up:2.193e-04, t_s:8.019e-02, t_ss:5.387e-02, t_epoch:1.345e-01\n",
      "Epoch 180/200 - Step Info: (-1.176333968316349+0.0005319680439118871j), t_up:1.891e-04, t_s:8.270e-02, t_ss:4.738e-02, t_epoch:1.308e-01\n",
      "Epoch 181/200 - Step Info: (-1.1749621346259795-0.007553111581530209j), t_up:1.600e-04, t_s:8.171e-02, t_ss:4.654e-02, t_epoch:1.285e-01\n",
      "Epoch 182/200 - Step Info: (-1.1722488172098569-0.009542166680326042j), t_up:1.748e-04, t_s:7.845e-02, t_ss:4.556e-02, t_epoch:1.243e-01\n",
      "Epoch 183/200 - Step Info: (-1.1832370842222728-0.0020586117129933476j), t_up:1.636e-04, t_s:7.892e-02, t_ss:4.635e-02, t_epoch:1.255e-01\n",
      "Epoch 184/200 - Step Info: (-1.1980295998846384+0.0003925664548979975j), t_up:1.650e-04, t_s:7.845e-02, t_ss:4.597e-02, t_epoch:1.247e-01\n",
      "Epoch 185/200 - Step Info: (-1.195870647660381+0.0018941467929330452j), t_up:1.822e-04, t_s:7.951e-02, t_ss:4.492e-02, t_epoch:1.247e-01\n",
      "Epoch 186/200 - Step Info: (-1.1805589572428932+0.004784887117983901j), t_up:1.652e-04, t_s:7.834e-02, t_ss:4.538e-02, t_epoch:1.240e-01\n",
      "Epoch 187/200 - Step Info: (-1.199798225307476-0.0079396553047318j), t_up:1.786e-04, t_s:7.928e-02, t_ss:4.633e-02, t_epoch:1.259e-01\n",
      "Epoch 188/200 - Step Info: (-1.2015103047827704-0.0033476655997256247j), t_up:1.678e-04, t_s:7.901e-02, t_ss:4.667e-02, t_epoch:1.259e-01\n",
      "Epoch 189/200 - Step Info: (-1.2096756699238977-0.006685519365923054j), t_up:1.874e-04, t_s:8.171e-02, t_ss:4.540e-02, t_epoch:1.274e-01\n",
      "Epoch 190/200 - Step Info: (-1.212899932755336-0.0001006862950831156j), t_up:2.010e-04, t_s:7.966e-02, t_ss:4.719e-02, t_epoch:1.273e-01\n",
      "Epoch 191/200 - Step Info: (-1.2294328160182169-0.016418211821929783j), t_up:1.848e-04, t_s:7.887e-02, t_ss:4.662e-02, t_epoch:1.258e-01\n",
      "Epoch 192/200 - Step Info: (-1.2369103685630225-0.005104784548403255j), t_up:2.198e-04, t_s:8.050e-02, t_ss:4.634e-02, t_epoch:1.271e-01\n",
      "Epoch 193/200 - Step Info: (-1.2286454493476087+0.001912040710746498j), t_up:1.881e-04, t_s:8.051e-02, t_ss:4.484e-02, t_epoch:1.258e-01\n",
      "Epoch 194/200 - Step Info: (-1.2469043757094325-0.0009750985123420058j), t_up:1.569e-04, t_s:7.984e-02, t_ss:4.790e-02, t_epoch:1.280e-01\n",
      "Epoch 195/200 - Step Info: (-1.2386125657155371+0.010499064139289822j), t_up:1.674e-04, t_s:8.298e-02, t_ss:4.748e-02, t_epoch:1.307e-01\n",
      "Epoch 196/200 - Step Info: (-1.246156835457811+0.003184706330598912j), t_up:1.640e-04, t_s:8.292e-02, t_ss:4.791e-02, t_epoch:1.311e-01\n",
      "Epoch 197/200 - Step Info: (-1.2311635789683326-0.006012047845449982j), t_up:1.843e-04, t_s:8.120e-02, t_ss:4.598e-02, t_epoch:1.275e-01\n",
      "Epoch 198/200 - Step Info: (-1.2599887660031244-0.004720306386425115j), t_up:1.688e-04, t_s:7.887e-02, t_ss:4.710e-02, t_epoch:1.262e-01\n",
      "Epoch 199/200 - Step Info: (-1.252664505080088-0.004740839700102261j), t_up:1.831e-04, t_s:7.975e-02, t_ss:4.630e-02, t_epoch:1.264e-01\n",
      "Epoch 200/200 - Step Info: (-1.2547303277660695+0.007502731713331548j), t_up:1.705e-04, t_s:7.973e-02, t_ss:4.545e-02, t_epoch:1.254e-01\n"
     ]
    },
    {
     "name": "stdout",
     "output_type": "stream",
     "text": [
      "Timer unit: 1e-09 s\n",
      "\n",
      "Total time: 28.0571 s\n",
      "File: /tmp/ipykernel_2618766/2068900264.py\n",
      "Function: train_function at line 64\n",
      "\n",
      "Line #      Hits         Time  Per Hit   % Time  Line Contents\n",
      "==============================================================\n",
      "    64                                           def train_function():\n",
      "    65         1        461.0    461.0      0.0      energies = []\n",
      "    66       201      77257.0    384.4      0.0      for n in range(n_epo):\n",
      "    67                                                   \n",
      "    68       200     172184.0    860.9      0.0          time_start  = time.time() # Time the whole epoch\n",
      "    69       200        3e+10    1e+08     99.6          mean_energy, (time_update, time_sample, time_single_step) = single_step_train(n)\n",
      "    70       200      71655.0    358.3      0.0          time_end    = time.time() - time_start\n",
      "    71                                                   \n",
      "    72       200      23265.0    116.3      0.0          if mean_energy is not None:\n",
      "    73       200     125159.0    625.8      0.0              energies.append(mean_energy)\n",
      "    74       200  119237905.0 596189.5      0.4              print(f\"Epoch {n + 1}/{n_epo} - Step Info: {mean_energy}, t_up:{time_update:.3e}, t_s:{time_sample:.3e}, t_ss:{time_single_step:.3e}, t_epoch:{time_end:.3e}\")\n",
      "    75                                                   else:\n",
      "    76                                                       print(f\"Epoch {n + 1}/{n_epo} - Step failed, stopping training.\")\n",
      "    77                                                       break\n",
      "    78         1         80.0     80.0      0.0      return energies"
     ]
    }
   ],
   "source": [
    "%load_ext line_profiler\n",
    "\n",
    "sr_options = SR.SRParams(\n",
    "    min_sr          = False,\n",
    "    maxiter         = 500,\n",
    "    tol             = 1e-8,\n",
    "    reg             = 0.01,\n",
    "    # Solver parameters\n",
    "    solver_form_s   = False,\n",
    ")\n",
    "\n",
    "solver_fun  = solver_linalg_func\n",
    "precond_fun = precond_apply\n",
    "print(solver_fun)\n",
    "print(precond_fun)\n",
    "\n",
    "# functions\n",
    "ansatz      = nqs.ansatz\n",
    "loc_energy  = nqs.local_energy\n",
    "flat_grad   = nqs.flat_grad\n",
    "\n",
    "print(ansatz)\n",
    "print(loc_energy)\n",
    "print(flat_grad)\n",
    "\n",
    "# @jax.jit\n",
    "\n",
    "def single_step_train(i: int):\n",
    "    #! Generate samples\n",
    "    time_start  = time.time()\n",
    "    (states, logprobas), (configs, configs_ansatze), probabilities = nqs.sample(reset=False)\n",
    "    time_sample = time.time() - time_start\n",
    "    \n",
    "    #! Single step in the NQS\n",
    "    time_start  = time.time()\n",
    "    dpar, step_info = nqs.single_step_jax(\n",
    "        params              = nqs.get_params(),\n",
    "        configs             = configs,\n",
    "        configs_ansatze     = configs_ansatze,\n",
    "        probabilities       = probabilities,\n",
    "        apply_fn            = ansatz,\n",
    "        local_energy_fun    = loc_energy,\n",
    "        flat_grad_fun       = flat_grad,\n",
    "        #! Stochastic reconfiguration\n",
    "        use_sr              = True,\n",
    "        sr_options          = sr_options,\n",
    "        sr_precond_apply_fun= precond_fun,\n",
    "        sr_solve_linalg_fun = solver_fun,\n",
    "    )\n",
    "    time_single_step        = time.time() - time_start\n",
    "    \n",
    "    if step_info.failed:\n",
    "        return None, (None, time_sample, time_single_step)\n",
    "    \n",
    "    #! Update the parameters\n",
    "    time_start  = time.time()\n",
    "    nqs.update_parameters(-lr * dpar)\n",
    "    time_update = time.time() - time_start\n",
    "    \n",
    "    #! Return the mean energy\n",
    "    return step_info.mean_energy, (time_update, time_sample, time_single_step)\n",
    "\n",
    "\n",
    "def train_function():\n",
    "    energies = []\n",
    "    for n in range(n_epo):\n",
    "        \n",
    "        time_start  = time.time() # Time the whole epoch\n",
    "        mean_energy, (time_update, time_sample, time_single_step) = single_step_train(n)\n",
    "        time_end    = time.time() - time_start\n",
    "        \n",
    "        if mean_energy is not None:\n",
    "            energies.append(mean_energy)\n",
    "            print(f\"Epoch {n + 1}/{n_epo} - Step Info: {mean_energy}, t_up:{time_update:.3e}, t_s:{time_sample:.3e}, t_ss:{time_single_step:.3e}, t_epoch:{time_end:.3e}\")\n",
    "        else:\n",
    "            print(f\"Epoch {n + 1}/{n_epo} - Step failed, stopping training.\")\n",
    "            break\n",
    "    return energies\n",
    "\n",
    "%lprun -f train_function energies = train_function()"
   ]
  },
  {
   "cell_type": "code",
   "execution_count": 46,
   "metadata": {},
   "outputs": [
    {
     "name": "stdout",
     "output_type": "stream",
     "text": [
      "\n",
      "--- Training Finished ---\n",
      "Completed 2000 epochs.\n",
      "Final Mean Energy: -1.184076-0.000586j\n"
     ]
    },
    {
     "data": {
      "image/png": "[encoded data removed]",
      "text/plain": [
       "<Figure size 350x262.5 with 1 Axes>"
      ]
     },
     "metadata": {},
     "output_type": "display_data"
    }
   ],
   "source": [
    "if energies:\n",
    "    print(\"\\n--- Training Finished ---\")\n",
    "    print(f\"Completed {len(energies)} epochs.\")\n",
    "    print(f\"Final Mean Energy: {energies[-1]:.6f}\")\n",
    "\n",
    "    # --- Plotting ---\n",
    "    plt.figure(1)               # Create a new figure\n",
    "    plt.plot(np.real(energies))  # Plot real part of energy history\n",
    "    plt.xlabel(\"Epoch\")\n",
    "    plt.ylabel(\"Mean Energy\")\n",
    "    plt.title(\"Training Progress (Mean Energy)\")\n",
    "    plt.grid(True)\n",
    "    plt.show()\n",
    "else:\n",
    "    print(\"\\nTraining did not complete any epochs.\")"
   ]
  },
  {
   "cell_type": "code",
   "execution_count": null,
   "metadata": {},
   "outputs": [],
   "source": []
  },
  {
   "cell_type": "code",
   "execution_count": 5,
   "metadata": {},
   "outputs": [
    {
     "data": {
      "text/plain": [
       "[]"
      ]
     },
     "execution_count": 5,
     "metadata": {},
     "output_type": "execute_result"
    }
   ],
   "source": [
    "# plt.plot(np.real(history))\n",
    "history"
   ]
  },
  {
   "cell_type": "code",
   "execution_count": 9,
   "metadata": {},
   "outputs": [
    {
     "name": "stderr",
     "output_type": "stream",
     "text": [
      "INFO:general_python.common.flog:241: \t->\u001b[0m[Transverse Field Ising Model] Building the Hamiltonian matrix...\u001b[0m\n",
      "INFO:general_python.common.flog:241: \t\t->\u001b[0m[Transverse Field Ising Model] Initialization completed in 0.000588 seconds\u001b[0m\n",
      "INFO:general_python.common.flog:241: \t\t->\u001b[0m[Transverse Field Ising Model] Calculating the Hamiltonian matrix using NumPy...\u001b[0m\n",
      "INFO:general_python.common.flog:241: \t->\u001b[0m[Transverse Field Ising Model] Hamiltonian matrix built in 0.893487 seconds.\u001b[0m\n",
      "INFO:general_python.common.flog:241: \t->\u001b[0m[Transverse Field Ising Model] Diagonalization started using (standard)...\u001b[0m\n",
      "INFO:general_python.common.flog:241: \t\t->\u001b[0m[Transverse Field Ising Model] Diagonalization (standard) completed in 0.031285 seconds.\u001b[0m\n"
     ]
    }
   ],
   "source": [
    "ham.build(verbose=True, use_numpy=True)\n",
    "ham.diagonalize(verbose=True)"
   ]
  },
  {
   "cell_type": "code",
   "execution_count": 10,
   "metadata": {},
   "outputs": [
    {
     "data": {
      "text/plain": [
       "array([-2.72819622, -2.62424739, -2.35908412, -2.35908412, -2.3380676 ])"
      ]
     },
     "execution_count": 10,
     "metadata": {},
     "output_type": "execute_result"
    }
   ],
   "source": [
    "# plt.plot(ham.eig_val)\n",
    "ham.eig_val[:5]"
   ]
  },
  {
   "cell_type": "markdown",
   "metadata": {},
   "source": [
    "### Test the ansatz again"
   ]
  },
  {
   "cell_type": "code",
   "execution_count": 5,
   "metadata": {},
   "outputs": [
    {
     "name": "stdout",
     "output_type": "stream",
     "text": [
      "The slowest run took 5.18 times longer than the fastest. This could mean that an intermediate result is being cached.\n",
      "327 μs ± 235 μs per loop (mean ± std. dev. of 5 runs, 5 loops each)\n"
     ]
    }
   ],
   "source": [
    "%%timeit -r 5 -n 5 \n",
    "ansatz, shape = nqsmodule.test_net_ansatz(nqs)"
   ]
  },
  {
   "cell_type": "markdown",
   "metadata": {},
   "source": [
    "### Check the params"
   ]
  },
  {
   "cell_type": "code",
   "execution_count": 3,
   "metadata": {},
   "outputs": [],
   "source": [
    "# params      = net.get_params()\n",
    "\n",
    "# k0 = params['params']['Dense_0']['kernel']\n",
    "# b0 = params['params']['Dense_0']['bias']\n",
    "# k1 = params['params']['Dense_1']['kernel']\n",
    "# b1 = params['params']['Dense_1']['bias']\n",
    "# print(\"dense 0:\", (k0.shape, b0.shape))\n",
    "# print(\"dense 1:\", (k1.shape, b1.shape))\n",
    "# params['params']\n"
   ]
  },
  {
   "cell_type": "markdown",
   "metadata": {},
   "source": [
    "#### Run the example"
   ]
  },
  {
   "cell_type": "code",
   "execution_count": null,
   "metadata": {},
   "outputs": [
    {
     "name": "stdout",
     "output_type": "stream",
     "text": [
      "DEBUG: Initializing Flax module. self.input_shape = (10,)\n",
      "DEBUG: self.input_dim = 10\n",
      "DEBUG: Creating dummy input with shape: (1, 10), dtype: float32\n"
     ]
    },
    {
     "data": {
      "text/plain": [
       "Array([[1.0123879],\n",
       "       [1.0123879],\n",
       "       [1.0123879],\n",
       "       [1.0123879],\n",
       "       [1.0123879]], dtype=float32)"
      ]
     },
     "execution_count": 4,
     "metadata": {},
     "output_type": "execute_result"
    }
   ],
   "source": [
    "import Python.QES.general_python.ml.net_impl.networks.net_simple_flax as simple_flax\n",
    "simple_flax.example()"
   ]
  },
  {
   "cell_type": "markdown",
   "metadata": {},
   "source": [
    "### Evaluate through solver"
   ]
  },
  {
   "cell_type": "code",
   "execution_count": 5,
   "metadata": {},
   "outputs": [
    {
     "data": {
      "text/plain": [
       "(Array(128.86084318+36.35979072j, dtype=complex128),\n",
       " Array(241.43732257, dtype=float64))"
      ]
     },
     "execution_count": 5,
     "metadata": {},
     "output_type": "execute_result"
    }
   ],
   "source": [
    "# %%timeit -r 2 -n 2\n",
    "# apply through the solver with the states\n",
    "(configs, ansatze), probabilities, (v, means, stds) = nqs.evaluate_fun(batch_size = 1)\n",
    "means, stds"
   ]
  },
  {
   "cell_type": "markdown",
   "metadata": {},
   "source": [
    "### Check whether one can calculate the gradient for the energies directly"
   ]
  },
  {
   "cell_type": "code",
   "execution_count": 10,
   "metadata": {},
   "outputs": [
    {
     "name": "stdout",
     "output_type": "stream",
     "text": [
      "{'Dense_0': {'bias': Array([0.+0.j, 0.+0.j, 0.+0.j, 0.+0.j, 0.+0.j], dtype=complex128), 'kernel': Array([[0.+0.j, 0.+0.j, 0.+0.j, 0.+0.j, 0.+0.j],\n",
      "       [0.+0.j, 0.+0.j, 0.+0.j, 0.+0.j, 0.+0.j],\n",
      "       [0.+0.j, 0.+0.j, 0.+0.j, 0.+0.j, 0.+0.j],\n",
      "       [0.+0.j, 0.+0.j, 0.+0.j, 0.+0.j, 0.+0.j],\n",
      "       [0.+0.j, 0.+0.j, 0.+0.j, 0.+0.j, 0.+0.j],\n",
      "       [0.+0.j, 0.+0.j, 0.+0.j, 0.+0.j, 0.+0.j],\n",
      "       [0.+0.j, 0.+0.j, 0.+0.j, 0.+0.j, 0.+0.j],\n",
      "       [0.+0.j, 0.+0.j, 0.+0.j, 0.+0.j, 0.+0.j],\n",
      "       [0.+0.j, 0.+0.j, 0.+0.j, 0.+0.j, 0.+0.j],\n",
      "       [0.+0.j, 0.+0.j, 0.+0.j, 0.+0.j, 0.+0.j]], dtype=complex128)}, 'Dense_1': {'bias': Array([0.+0.j], dtype=complex128), 'kernel': Array([[0.+0.j],\n",
      "       [0.+0.j],\n",
      "       [0.+0.j],\n",
      "       [0.+0.j],\n",
      "       [0.+0.j]], dtype=complex128)}}\n"
     ]
    }
   ],
   "source": [
    "import jax\n",
    "\n",
    "def loss_fn(params):\n",
    "    # recompute v with the given parameters\n",
    "    (configs, ansatze), probabilities, (v, means, stds) = nqs.evaluate_fun(batch_size=10)\n",
    "    return means\n",
    "params      = net.get_params()\n",
    "grad_loss   = jax.grad(loss_fn, holomorphic=True)(params)\n",
    "print(grad_loss)"
   ]
  },
  {
   "cell_type": "markdown",
   "metadata": {},
   "source": [
    "### Check whether one can calculate the gradient for the ansatz"
   ]
  },
  {
   "cell_type": "code",
   "execution_count": 3,
   "metadata": {},
   "outputs": [
    {
     "ename": "ValueError",
     "evalue": "axis 0 is out of bounds for array of dimension 0",
     "output_type": "error",
     "traceback": [
      "\u001b[0;31m---------------------------------------------------------------------------\u001b[0m",
      "\u001b[0;31mValueError\u001b[0m                                Traceback (most recent call last)",
      "Cell \u001b[0;32mIn[3], line 2\u001b[0m\n\u001b[1;32m      1\u001b[0m \u001b[38;5;66;03m# apply through the solver with the states\u001b[39;00m\n\u001b[0;32m----> 2\u001b[0m (configs, ansatze), probabilities, (v, means, stds) \u001b[38;5;241m=\u001b[39m nqs\u001b[38;5;241m.\u001b[39mevaluate_fun(batch_size \u001b[38;5;241m=\u001b[39m \u001b[38;5;241m10\u001b[39m)\n\u001b[1;32m      3\u001b[0m means, stds, configs\u001b[38;5;241m.\u001b[39mshape, ansatze\u001b[38;5;241m.\u001b[39mshape, probabilities\u001b[38;5;241m.\u001b[39mshape\n",
      "File \u001b[0;32m~/Codes/QuantumEigenSolver/Python/QES/NQS/nqs.py:689\u001b[0m, in \u001b[0;36mNQS.evaluate_fun\u001b[0;34m(self, functions, states_and_psi, probabilities, **kwargs)\u001b[0m\n\u001b[1;32m    685\u001b[0m     num_chains  \u001b[38;5;241m=\u001b[39m kwargs\u001b[38;5;241m.\u001b[39mget(\u001b[38;5;124m'\u001b[39m\u001b[38;5;124mnum_chains\u001b[39m\u001b[38;5;124m'\u001b[39m, \u001b[38;5;28;01mNone\u001b[39;00m)\n\u001b[1;32m    687\u001b[0m     \u001b[38;5;66;03m# otherwise, we shall use the sampler\u001b[39;00m\n\u001b[1;32m    688\u001b[0m     (states, ansatze), probabilities, output    \u001b[38;5;241m=\u001b[39m \\\n\u001b[0;32m--> 689\u001b[0m             \u001b[38;5;28mself\u001b[39m\u001b[38;5;241m.\u001b[39m_evaluate_fun_s(func           \u001b[38;5;241m=\u001b[39m functions,\n\u001b[1;32m    690\u001b[0m                                 sampler         \u001b[38;5;241m=\u001b[39m \u001b[38;5;28mself\u001b[39m\u001b[38;5;241m.\u001b[39m_sampler,\n\u001b[1;32m    691\u001b[0m                                 num_samples     \u001b[38;5;241m=\u001b[39m num_samples,\n\u001b[1;32m    692\u001b[0m                                 num_chains      \u001b[38;5;241m=\u001b[39m num_chains,\n\u001b[1;32m    693\u001b[0m                                 logproba_fun    \u001b[38;5;241m=\u001b[39m \u001b[38;5;28mself\u001b[39m\u001b[38;5;241m.\u001b[39m_ansatz_func,\n\u001b[1;32m    694\u001b[0m                                 parameters      \u001b[38;5;241m=\u001b[39m \u001b[38;5;28mself\u001b[39m\u001b[38;5;241m.\u001b[39m_net\u001b[38;5;241m.\u001b[39mget_params(),\n\u001b[1;32m    695\u001b[0m                                 batch_size      \u001b[38;5;241m=\u001b[39m batch_size,\n\u001b[1;32m    696\u001b[0m                                 is_jax          \u001b[38;5;241m=\u001b[39m \u001b[38;5;28mself\u001b[39m\u001b[38;5;241m.\u001b[39m_isjax)\n\u001b[1;32m    698\u001b[0m \u001b[38;5;66;03m# check if the output is a list\u001b[39;00m\n\u001b[1;32m    699\u001b[0m \u001b[38;5;28;01mif\u001b[39;00m \u001b[38;5;28misinstance\u001b[39m(output, \u001b[38;5;28mlist\u001b[39m) \u001b[38;5;129;01mand\u001b[39;00m \u001b[38;5;28mlen\u001b[39m(output) \u001b[38;5;241m==\u001b[39m \u001b[38;5;241m1\u001b[39m:\n",
      "File \u001b[0;32m~/Codes/QuantumEigenSolver/Python/QES/NQS/nqs.py:616\u001b[0m, in \u001b[0;36mNQS._evaluate_fun_s\u001b[0;34m(func, sampler, num_samples, num_chains, logproba_fun, parameters, batch_size, is_jax)\u001b[0m\n\u001b[1;32m    586\u001b[0m \u001b[38;5;250m\u001b[39m\u001b[38;5;124;03m\"\"\"\u001b[39;00m\n\u001b[1;32m    587\u001b[0m \u001b[38;5;124;03mEvaluates a given function using samples generated by a sampler.\u001b[39;00m\n\u001b[1;32m    588\u001b[0m \n\u001b[0;32m   (...)\u001b[0m\n\u001b[1;32m    612\u001b[0m \u001b[38;5;124;03m    the generated samples.\u001b[39;00m\n\u001b[1;32m    613\u001b[0m \u001b[38;5;124;03m\"\"\"\u001b[39;00m\n\u001b[1;32m    615\u001b[0m _, (states, ansatze), probabilities \u001b[38;5;241m=\u001b[39m sampler\u001b[38;5;241m.\u001b[39msample(parameters\u001b[38;5;241m=\u001b[39mparameters, num_samples\u001b[38;5;241m=\u001b[39mnum_samples, num_chains\u001b[38;5;241m=\u001b[39mnum_chains)\n\u001b[0;32m--> 616\u001b[0m evaluated_results \u001b[38;5;241m=\u001b[39m [NQS\u001b[38;5;241m.\u001b[39m_evaluate_fun(f, states, probabilities, ansatze, logproba_fun, parameters, batch_size, is_jax) \u001b[38;5;28;01mfor\u001b[39;00m f \u001b[38;5;129;01min\u001b[39;00m func]\n\u001b[1;32m    617\u001b[0m \u001b[38;5;28;01mreturn\u001b[39;00m (states, ansatze), probabilities, evaluated_results\n",
      "File \u001b[0;32m~/Codes/QuantumEigenSolver/Python/QES/NQS/nqs.py:569\u001b[0m, in \u001b[0;36mNQS._evaluate_fun\u001b[0;34m(func, states, probabilities, logproba_in, logproba_fun, parameters, batch_size, is_jax)\u001b[0m\n\u001b[1;32m    567\u001b[0m \u001b[38;5;66;03m# otherwise, we shall use the batched version\u001b[39;00m\n\u001b[1;32m    568\u001b[0m funct_in \u001b[38;5;241m=\u001b[39m net_utils\u001b[38;5;241m.\u001b[39mjaxpy\u001b[38;5;241m.\u001b[39mapply_callable_batched_jax \u001b[38;5;28;01mif\u001b[39;00m is_jax \u001b[38;5;28;01melse\u001b[39;00m net_utils\u001b[38;5;241m.\u001b[39mnumpy\u001b[38;5;241m.\u001b[39mapply_callable_batched_np\n\u001b[0;32m--> 569\u001b[0m \u001b[38;5;28;01mreturn\u001b[39;00m funct_in(func            \u001b[38;5;241m=\u001b[39m func,\n\u001b[1;32m    570\u001b[0m                 states          \u001b[38;5;241m=\u001b[39m states,\n\u001b[1;32m    571\u001b[0m                 sample_probas   \u001b[38;5;241m=\u001b[39m probabilities,\n\u001b[1;32m    572\u001b[0m                 logprobas_in    \u001b[38;5;241m=\u001b[39m logproba_in,\n\u001b[1;32m    573\u001b[0m                 logproba_fun    \u001b[38;5;241m=\u001b[39m logproba_fun,\n\u001b[1;32m    574\u001b[0m                 parameters      \u001b[38;5;241m=\u001b[39m parameters,\n\u001b[1;32m    575\u001b[0m                 batch_size      \u001b[38;5;241m=\u001b[39m batch_size)\n",
      "    \u001b[0;31m[... skipping hidden 11 frame]\u001b[0m\n",
      "File \u001b[0;32m~/Codes/QuantumEigenSolver/Python/QES/general_python/ml/net_impl/utils/net_utils_jax.py:540\u001b[0m, in \u001b[0;36mapply_callable_batched_jax\u001b[0;34m(func, states, sample_probas, logprobas_in, logproba_fun, parameters, batch_size)\u001b[0m\n\u001b[1;32m    537\u001b[0m     \u001b[38;5;28;01mreturn\u001b[39;00m jax\u001b[38;5;241m.\u001b[39mvmap(compute_estimate, in_axes\u001b[38;5;241m=\u001b[39m(\u001b[38;5;241m0\u001b[39m, \u001b[38;5;241m0\u001b[39m, \u001b[38;5;241m0\u001b[39m))(batch_states, batch_logps, batch_sampleps)\n\u001b[1;32m    539\u001b[0m \u001b[38;5;66;03m# Map over batches.\u001b[39;00m\n\u001b[0;32m--> 540\u001b[0m batch_estimates \u001b[38;5;241m=\u001b[39m jax\u001b[38;5;241m.\u001b[39mvmap(compute_batch, in_axes\u001b[38;5;241m=\u001b[39m(\u001b[38;5;241m0\u001b[39m, \u001b[38;5;241m0\u001b[39m, \u001b[38;5;241m0\u001b[39m))(batches, log_batches, sample_batches)\n\u001b[1;32m    541\u001b[0m estimates       \u001b[38;5;241m=\u001b[39m batch_estimates\u001b[38;5;241m.\u001b[39mreshape(\u001b[38;5;241m-\u001b[39m\u001b[38;5;241m1\u001b[39m)[:nstates]\n\u001b[1;32m    542\u001b[0m \u001b[38;5;28;01mreturn\u001b[39;00m estimates, jnp\u001b[38;5;241m.\u001b[39mmean(estimates, axis\u001b[38;5;241m=\u001b[39m\u001b[38;5;241m0\u001b[39m), jnp\u001b[38;5;241m.\u001b[39mstd(estimates, axis\u001b[38;5;241m=\u001b[39m\u001b[38;5;241m0\u001b[39m)\n",
      "    \u001b[0;31m[... skipping hidden 3 frame]\u001b[0m\n",
      "File \u001b[0;32m~/Codes/QuantumEigenSolver/Python/QES/general_python/ml/net_impl/utils/net_utils_jax.py:537\u001b[0m, in \u001b[0;36mapply_callable_batched_jax.<locals>.compute_batch\u001b[0;34m(batch_states, batch_logps, batch_sampleps)\u001b[0m\n\u001b[1;32m    536\u001b[0m \u001b[38;5;28;01mdef\u001b[39;00m \u001b[38;5;21mcompute_batch\u001b[39m(batch_states, batch_logps, batch_sampleps):\n\u001b[0;32m--> 537\u001b[0m     \u001b[38;5;28;01mreturn\u001b[39;00m jax\u001b[38;5;241m.\u001b[39mvmap(compute_estimate, in_axes\u001b[38;5;241m=\u001b[39m(\u001b[38;5;241m0\u001b[39m, \u001b[38;5;241m0\u001b[39m, \u001b[38;5;241m0\u001b[39m))(batch_states, batch_logps, batch_sampleps)\n",
      "    \u001b[0;31m[... skipping hidden 3 frame]\u001b[0m\n",
      "File \u001b[0;32m~/Codes/QuantumEigenSolver/Python/QES/general_python/ml/net_impl/utils/net_utils_jax.py:522\u001b[0m, in \u001b[0;36mapply_callable_batched_jax.<locals>.compute_estimate\u001b[0;34m(state, logp, sample_p)\u001b[0m\n\u001b[1;32m    520\u001b[0m weights                 \u001b[38;5;241m=\u001b[39m jnp\u001b[38;5;241m.\u001b[39mexp(new_logprobas \u001b[38;5;241m-\u001b[39m logp)\n\u001b[1;32m    521\u001b[0m weighted_sum            \u001b[38;5;241m=\u001b[39m jnp\u001b[38;5;241m.\u001b[39msum(new_vals \u001b[38;5;241m*\u001b[39m weights, axis\u001b[38;5;241m=\u001b[39m\u001b[38;5;241m0\u001b[39m)\n\u001b[0;32m--> 522\u001b[0m output                  \u001b[38;5;241m=\u001b[39m jnp\u001b[38;5;241m.\u001b[39msum(weighted_sum, axis\u001b[38;5;241m=\u001b[39m\u001b[38;5;241m0\u001b[39m)\n\u001b[1;32m    523\u001b[0m \u001b[38;5;28;01mreturn\u001b[39;00m output\n",
      "File \u001b[0;32m~/miniconda3/lib/python3.12/site-packages/jax/_src/numpy/reductions.py:289\u001b[0m, in \u001b[0;36msum\u001b[0;34m(a, axis, dtype, out, keepdims, initial, where, promote_integers)\u001b[0m\n\u001b[1;32m    220\u001b[0m \u001b[38;5;28;01mdef\u001b[39;00m \u001b[38;5;21msum\u001b[39m(a: ArrayLike, axis: Axis \u001b[38;5;241m=\u001b[39m \u001b[38;5;28;01mNone\u001b[39;00m, dtype: DTypeLike \u001b[38;5;241m|\u001b[39m \u001b[38;5;28;01mNone\u001b[39;00m \u001b[38;5;241m=\u001b[39m \u001b[38;5;28;01mNone\u001b[39;00m,\n\u001b[1;32m    221\u001b[0m         out: \u001b[38;5;28;01mNone\u001b[39;00m \u001b[38;5;241m=\u001b[39m \u001b[38;5;28;01mNone\u001b[39;00m, keepdims: \u001b[38;5;28mbool\u001b[39m \u001b[38;5;241m=\u001b[39m \u001b[38;5;28;01mFalse\u001b[39;00m, initial: ArrayLike \u001b[38;5;241m|\u001b[39m \u001b[38;5;28;01mNone\u001b[39;00m \u001b[38;5;241m=\u001b[39m \u001b[38;5;28;01mNone\u001b[39;00m,\n\u001b[1;32m    222\u001b[0m         where: ArrayLike \u001b[38;5;241m|\u001b[39m \u001b[38;5;28;01mNone\u001b[39;00m \u001b[38;5;241m=\u001b[39m \u001b[38;5;28;01mNone\u001b[39;00m, promote_integers: \u001b[38;5;28mbool\u001b[39m \u001b[38;5;241m=\u001b[39m \u001b[38;5;28;01mTrue\u001b[39;00m) \u001b[38;5;241m-\u001b[39m\u001b[38;5;241m>\u001b[39m Array:\n\u001b[1;32m    223\u001b[0m \u001b[38;5;250m  \u001b[39m\u001b[38;5;124mr\u001b[39m\u001b[38;5;124;03m\"\"\"Sum of the elements of the array over a given axis.\u001b[39;00m\n\u001b[1;32m    224\u001b[0m \n\u001b[1;32m    225\u001b[0m \u001b[38;5;124;03m  JAX implementation of :func:`numpy.sum`.\u001b[39;00m\n\u001b[0;32m   (...)\u001b[0m\n\u001b[1;32m    287\u001b[0m \u001b[38;5;124;03m    Array([[0, 0, 0, 0]], dtype=int32)\u001b[39;00m\n\u001b[1;32m    288\u001b[0m \u001b[38;5;124;03m  \"\"\"\u001b[39;00m\n\u001b[0;32m--> 289\u001b[0m   \u001b[38;5;28;01mreturn\u001b[39;00m _reduce_sum(a, axis\u001b[38;5;241m=\u001b[39m_ensure_optional_axes(axis), dtype\u001b[38;5;241m=\u001b[39mdtype, out\u001b[38;5;241m=\u001b[39mout,\n\u001b[1;32m    290\u001b[0m                      keepdims\u001b[38;5;241m=\u001b[39mkeepdims, initial\u001b[38;5;241m=\u001b[39minitial, where\u001b[38;5;241m=\u001b[39mwhere,\n\u001b[1;32m    291\u001b[0m                      promote_integers\u001b[38;5;241m=\u001b[39mpromote_integers)\n",
      "    \u001b[0;31m[... skipping hidden 11 frame]\u001b[0m\n",
      "File \u001b[0;32m~/miniconda3/lib/python3.12/site-packages/jax/_src/numpy/reductions.py:213\u001b[0m, in \u001b[0;36m_reduce_sum\u001b[0;34m(a, axis, dtype, out, keepdims, initial, where, promote_integers)\u001b[0m\n\u001b[1;32m    208\u001b[0m \u001b[38;5;129m@partial\u001b[39m(api\u001b[38;5;241m.\u001b[39mjit, static_argnames\u001b[38;5;241m=\u001b[39m(\u001b[38;5;124m'\u001b[39m\u001b[38;5;124maxis\u001b[39m\u001b[38;5;124m'\u001b[39m, \u001b[38;5;124m'\u001b[39m\u001b[38;5;124mdtype\u001b[39m\u001b[38;5;124m'\u001b[39m, \u001b[38;5;124m'\u001b[39m\u001b[38;5;124mkeepdims\u001b[39m\u001b[38;5;124m'\u001b[39m, \u001b[38;5;124m'\u001b[39m\u001b[38;5;124mpromote_integers\u001b[39m\u001b[38;5;124m'\u001b[39m), inline\u001b[38;5;241m=\u001b[39m\u001b[38;5;28;01mTrue\u001b[39;00m)\n\u001b[1;32m    209\u001b[0m \u001b[38;5;28;01mdef\u001b[39;00m \u001b[38;5;21m_reduce_sum\u001b[39m(a: ArrayLike, axis: Axis \u001b[38;5;241m=\u001b[39m \u001b[38;5;28;01mNone\u001b[39;00m, dtype: DTypeLike \u001b[38;5;241m|\u001b[39m \u001b[38;5;28;01mNone\u001b[39;00m \u001b[38;5;241m=\u001b[39m \u001b[38;5;28;01mNone\u001b[39;00m,\n\u001b[1;32m    210\u001b[0m                 out: \u001b[38;5;28;01mNone\u001b[39;00m \u001b[38;5;241m=\u001b[39m \u001b[38;5;28;01mNone\u001b[39;00m, keepdims: \u001b[38;5;28mbool\u001b[39m \u001b[38;5;241m=\u001b[39m \u001b[38;5;28;01mFalse\u001b[39;00m,\n\u001b[1;32m    211\u001b[0m                 initial: ArrayLike \u001b[38;5;241m|\u001b[39m \u001b[38;5;28;01mNone\u001b[39;00m \u001b[38;5;241m=\u001b[39m \u001b[38;5;28;01mNone\u001b[39;00m, where: ArrayLike \u001b[38;5;241m|\u001b[39m \u001b[38;5;28;01mNone\u001b[39;00m \u001b[38;5;241m=\u001b[39m \u001b[38;5;28;01mNone\u001b[39;00m,\n\u001b[1;32m    212\u001b[0m                 promote_integers: \u001b[38;5;28mbool\u001b[39m \u001b[38;5;241m=\u001b[39m \u001b[38;5;28;01mTrue\u001b[39;00m) \u001b[38;5;241m-\u001b[39m\u001b[38;5;241m>\u001b[39m Array:\n\u001b[0;32m--> 213\u001b[0m   \u001b[38;5;28;01mreturn\u001b[39;00m _reduction(a, \u001b[38;5;124m\"\u001b[39m\u001b[38;5;124msum\u001b[39m\u001b[38;5;124m\"\u001b[39m, np\u001b[38;5;241m.\u001b[39msum, lax\u001b[38;5;241m.\u001b[39madd, \u001b[38;5;241m0\u001b[39m, preproc\u001b[38;5;241m=\u001b[39m_cast_to_numeric,\n\u001b[1;32m    214\u001b[0m                     bool_op\u001b[38;5;241m=\u001b[39mlax\u001b[38;5;241m.\u001b[39mbitwise_or, upcast_f16_for_computation\u001b[38;5;241m=\u001b[39m\u001b[38;5;28;01mTrue\u001b[39;00m,\n\u001b[1;32m    215\u001b[0m                     axis\u001b[38;5;241m=\u001b[39maxis, dtype\u001b[38;5;241m=\u001b[39mdtype, out\u001b[38;5;241m=\u001b[39mout, keepdims\u001b[38;5;241m=\u001b[39mkeepdims,\n\u001b[1;32m    216\u001b[0m                     initial\u001b[38;5;241m=\u001b[39minitial, where_\u001b[38;5;241m=\u001b[39mwhere, parallel_reduce\u001b[38;5;241m=\u001b[39mlax\u001b[38;5;241m.\u001b[39mpsum,\n\u001b[1;32m    217\u001b[0m                     promote_integers\u001b[38;5;241m=\u001b[39mpromote_integers)\n",
      "File \u001b[0;32m~/miniconda3/lib/python3.12/site-packages/jax/_src/numpy/reductions.py:111\u001b[0m, in \u001b[0;36m_reduction\u001b[0;34m(a, name, np_fun, op, init_val, has_identity, preproc, bool_op, upcast_f16_for_computation, axis, dtype, out, keepdims, initial, where_, parallel_reduce, promote_integers)\u001b[0m\n\u001b[1;32m    109\u001b[0m a \u001b[38;5;241m=\u001b[39m a \u001b[38;5;28;01mif\u001b[39;00m \u001b[38;5;28misinstance\u001b[39m(a, Array) \u001b[38;5;28;01melse\u001b[39;00m lax_internal\u001b[38;5;241m.\u001b[39masarray(a)\n\u001b[1;32m    110\u001b[0m a \u001b[38;5;241m=\u001b[39m preproc(a) \u001b[38;5;28;01mif\u001b[39;00m preproc \u001b[38;5;28;01melse\u001b[39;00m a\n\u001b[0;32m--> 111\u001b[0m pos_dims, dims \u001b[38;5;241m=\u001b[39m _reduction_dims(a, axis)\n\u001b[1;32m    113\u001b[0m \u001b[38;5;28;01mif\u001b[39;00m initial \u001b[38;5;129;01mis\u001b[39;00m \u001b[38;5;28;01mNone\u001b[39;00m \u001b[38;5;129;01mand\u001b[39;00m \u001b[38;5;129;01mnot\u001b[39;00m has_identity:\n\u001b[1;32m    114\u001b[0m   shape \u001b[38;5;241m=\u001b[39m np\u001b[38;5;241m.\u001b[39mshape(a)\n",
      "File \u001b[0;32m~/miniconda3/lib/python3.12/site-packages/jax/_src/numpy/reductions.py:160\u001b[0m, in \u001b[0;36m_reduction_dims\u001b[0;34m(a, axis)\u001b[0m\n\u001b[1;32m    158\u001b[0m \u001b[38;5;28;01melif\u001b[39;00m \u001b[38;5;129;01mnot\u001b[39;00m \u001b[38;5;28misinstance\u001b[39m(axis, (np\u001b[38;5;241m.\u001b[39mndarray, \u001b[38;5;28mtuple\u001b[39m, \u001b[38;5;28mlist\u001b[39m)):\n\u001b[1;32m    159\u001b[0m   axis \u001b[38;5;241m=\u001b[39m (axis,)  \u001b[38;5;66;03m# type: ignore[assignment]\u001b[39;00m\n\u001b[0;32m--> 160\u001b[0m canon_axis \u001b[38;5;241m=\u001b[39m \u001b[38;5;28mtuple\u001b[39m(_canonicalize_axis_allow_named(x, np\u001b[38;5;241m.\u001b[39mndim(a))\n\u001b[1;32m    161\u001b[0m                    \u001b[38;5;28;01mfor\u001b[39;00m x \u001b[38;5;129;01min\u001b[39;00m axis)  \u001b[38;5;66;03m# type: ignore[union-attr]\u001b[39;00m\n\u001b[1;32m    162\u001b[0m \u001b[38;5;28;01mif\u001b[39;00m \u001b[38;5;28mlen\u001b[39m(canon_axis) \u001b[38;5;241m!=\u001b[39m \u001b[38;5;28mlen\u001b[39m(\u001b[38;5;28mset\u001b[39m(canon_axis)):\n\u001b[1;32m    163\u001b[0m   \u001b[38;5;28;01mraise\u001b[39;00m \u001b[38;5;167;01mValueError\u001b[39;00m(\u001b[38;5;124mf\u001b[39m\u001b[38;5;124m\"\u001b[39m\u001b[38;5;124mduplicate value in \u001b[39m\u001b[38;5;124m'\u001b[39m\u001b[38;5;124maxis\u001b[39m\u001b[38;5;124m'\u001b[39m\u001b[38;5;124m: \u001b[39m\u001b[38;5;132;01m{\u001b[39;00maxis\u001b[38;5;132;01m}\u001b[39;00m\u001b[38;5;124m\"\u001b[39m)\n",
      "File \u001b[0;32m~/miniconda3/lib/python3.12/site-packages/jax/_src/numpy/reductions.py:160\u001b[0m, in \u001b[0;36m<genexpr>\u001b[0;34m(.0)\u001b[0m\n\u001b[1;32m    158\u001b[0m \u001b[38;5;28;01melif\u001b[39;00m \u001b[38;5;129;01mnot\u001b[39;00m \u001b[38;5;28misinstance\u001b[39m(axis, (np\u001b[38;5;241m.\u001b[39mndarray, \u001b[38;5;28mtuple\u001b[39m, \u001b[38;5;28mlist\u001b[39m)):\n\u001b[1;32m    159\u001b[0m   axis \u001b[38;5;241m=\u001b[39m (axis,)  \u001b[38;5;66;03m# type: ignore[assignment]\u001b[39;00m\n\u001b[0;32m--> 160\u001b[0m canon_axis \u001b[38;5;241m=\u001b[39m \u001b[38;5;28mtuple\u001b[39m(_canonicalize_axis_allow_named(x, np\u001b[38;5;241m.\u001b[39mndim(a))\n\u001b[1;32m    161\u001b[0m                    \u001b[38;5;28;01mfor\u001b[39;00m x \u001b[38;5;129;01min\u001b[39;00m axis)  \u001b[38;5;66;03m# type: ignore[union-attr]\u001b[39;00m\n\u001b[1;32m    162\u001b[0m \u001b[38;5;28;01mif\u001b[39;00m \u001b[38;5;28mlen\u001b[39m(canon_axis) \u001b[38;5;241m!=\u001b[39m \u001b[38;5;28mlen\u001b[39m(\u001b[38;5;28mset\u001b[39m(canon_axis)):\n\u001b[1;32m    163\u001b[0m   \u001b[38;5;28;01mraise\u001b[39;00m \u001b[38;5;167;01mValueError\u001b[39;00m(\u001b[38;5;124mf\u001b[39m\u001b[38;5;124m\"\u001b[39m\u001b[38;5;124mduplicate value in \u001b[39m\u001b[38;5;124m'\u001b[39m\u001b[38;5;124maxis\u001b[39m\u001b[38;5;124m'\u001b[39m\u001b[38;5;124m: \u001b[39m\u001b[38;5;132;01m{\u001b[39;00maxis\u001b[38;5;132;01m}\u001b[39;00m\u001b[38;5;124m\"\u001b[39m)\n",
      "File \u001b[0;32m~/miniconda3/lib/python3.12/site-packages/jax/_src/numpy/reductions.py:153\u001b[0m, in \u001b[0;36m_canonicalize_axis_allow_named\u001b[0;34m(x, rank)\u001b[0m\n\u001b[1;32m    152\u001b[0m \u001b[38;5;28;01mdef\u001b[39;00m \u001b[38;5;21m_canonicalize_axis_allow_named\u001b[39m(x, rank):\n\u001b[0;32m--> 153\u001b[0m   \u001b[38;5;28;01mreturn\u001b[39;00m maybe_named_axis(x, \u001b[38;5;28;01mlambda\u001b[39;00m i: _canonicalize_axis(i, rank), \u001b[38;5;28;01mlambda\u001b[39;00m name: name)\n",
      "    \u001b[0;31m[... skipping hidden 1 frame]\u001b[0m\n",
      "File \u001b[0;32m~/miniconda3/lib/python3.12/site-packages/jax/_src/numpy/reductions.py:153\u001b[0m, in \u001b[0;36m_canonicalize_axis_allow_named.<locals>.<lambda>\u001b[0;34m(i)\u001b[0m\n\u001b[1;32m    152\u001b[0m \u001b[38;5;28;01mdef\u001b[39;00m \u001b[38;5;21m_canonicalize_axis_allow_named\u001b[39m(x, rank):\n\u001b[0;32m--> 153\u001b[0m   \u001b[38;5;28;01mreturn\u001b[39;00m maybe_named_axis(x, \u001b[38;5;28;01mlambda\u001b[39;00m i: _canonicalize_axis(i, rank), \u001b[38;5;28;01mlambda\u001b[39;00m name: name)\n",
      "File \u001b[0;32m~/miniconda3/lib/python3.12/site-packages/jax/_src/util.py:389\u001b[0m, in \u001b[0;36mcanonicalize_axis\u001b[0;34m(axis, num_dims)\u001b[0m\n\u001b[1;32m    387\u001b[0m axis \u001b[38;5;241m=\u001b[39m operator\u001b[38;5;241m.\u001b[39mindex(axis)\n\u001b[1;32m    388\u001b[0m \u001b[38;5;28;01mif\u001b[39;00m \u001b[38;5;129;01mnot\u001b[39;00m \u001b[38;5;241m-\u001b[39mnum_dims \u001b[38;5;241m<\u001b[39m\u001b[38;5;241m=\u001b[39m axis \u001b[38;5;241m<\u001b[39m num_dims:\n\u001b[0;32m--> 389\u001b[0m   \u001b[38;5;28;01mraise\u001b[39;00m \u001b[38;5;167;01mValueError\u001b[39;00m(\u001b[38;5;124mf\u001b[39m\u001b[38;5;124m\"\u001b[39m\u001b[38;5;124maxis \u001b[39m\u001b[38;5;132;01m{\u001b[39;00maxis\u001b[38;5;132;01m}\u001b[39;00m\u001b[38;5;124m is out of bounds for array of dimension \u001b[39m\u001b[38;5;132;01m{\u001b[39;00mnum_dims\u001b[38;5;132;01m}\u001b[39;00m\u001b[38;5;124m\"\u001b[39m)\n\u001b[1;32m    390\u001b[0m \u001b[38;5;28;01mif\u001b[39;00m axis \u001b[38;5;241m<\u001b[39m \u001b[38;5;241m0\u001b[39m:\n\u001b[1;32m    391\u001b[0m   axis \u001b[38;5;241m=\u001b[39m axis \u001b[38;5;241m+\u001b[39m num_dims\n",
      "\u001b[0;31mValueError\u001b[0m: axis 0 is out of bounds for array of dimension 0"
     ]
    }
   ],
   "source": [
    "# apply through the solver with the states\n",
    "(configs, ansatze), probabilities, (v, means, stds) = nqs.evaluate_fun(batch_size = 10)\n",
    "means, stds, configs.shape, ansatze.shape, probabilities.shape"
   ]
  },
  {
   "cell_type": "markdown",
   "metadata": {},
   "source": [
    "#### Directly"
   ]
  },
  {
   "cell_type": "code",
   "execution_count": 12,
   "metadata": {},
   "outputs": [
    {
     "name": "stdout",
     "output_type": "stream",
     "text": [
      "(9, 3, 10)\n",
      "(3, 1)\n"
     ]
    },
    {
     "data": {
      "text/plain": [
       "Array([[ 0.65866542+0.40745464j, -0.96497238+0.08639439j,\n",
       "         1.39652574-0.17228837j, ..., -0.02979387+1.4212116j ,\n",
       "         0.46657672+1.13146494j,  0.        +0.j        ],\n",
       "       [ 0.        +0.j        ,  0.        +0.j        ,\n",
       "         1.39652574-0.17228837j, ...,  0.34756038+0.38114775j,\n",
       "         0.        +0.j        ,  0.47825681+0.02549799j],\n",
       "       [ 0.65866542+0.40745464j, -0.96497238+0.08639439j,\n",
       "         1.39652574-0.17228837j, ..., -0.76903558+0.32339689j,\n",
       "         0.        +0.j        , -0.47113513+0.7089595j ],\n",
       "       ...,\n",
       "       [ 0.        +0.j        , -0.96497238+0.08639439j,\n",
       "         0.        +0.j        , ...,  0.        +0.j        ,\n",
       "         0.        +0.j        ,  0.        +0.j        ],\n",
       "       [ 0.        +0.j        ,  0.        +0.j        ,\n",
       "         1.39652574-0.17228837j, ...,  0.6245665 +0.16962344j,\n",
       "        -0.02625485+1.18055515j,  0.        +0.j        ],\n",
       "       [ 0.65866542+0.40745464j,  0.        +0.j        ,\n",
       "         0.        +0.j        , ...,  0.        +0.j        ,\n",
       "         0.        +0.j        , -0.04023486+0.57434484j]],      dtype=complex128)"
      ]
     },
     "execution_count": 12,
     "metadata": {},
     "output_type": "execute_result"
    }
   ],
   "source": [
    "import general_python.ml.net_impl.utils.net_utils as net_utils\n",
    "import jax \n",
    "# create the batches\n",
    "sb              = net_utils.jaxpy.create_batches_jax(configs, batch_size = 3)\n",
    "print(sb.shape)\n",
    "apply_f, params = net.get_apply(use_jax=True)\n",
    "print(apply_f(params, sb[0]).shape)\n",
    "\n",
    "# compute the gradients using JAX's vmap and scan\n",
    "# use the provided flat_grad_fun to compute the gradients\n",
    "# this is a function that computes the gradients of the network\n",
    "def scan_fun(c, x):\n",
    "    return c, jax.vmap(lambda y: net_utils.jaxpy.flat_gradient_holo_numerical_jax(apply_f, params, y), in_axes=(0,))(x)\n",
    "\n",
    "# use jax's scan to compute the gradients of the logarithmic wave function\n",
    "g = jax.lax.scan(scan_fun, None, sb)[1]\n",
    "from jax import tree_util\n",
    "\n",
    "g = tree_util.tree_map(lambda x: x.reshape((-1,) + x.shape[2:]), g)\n",
    "g = tree_util.tree_map(lambda x: x[:configs.shape[0]], g)\n",
    "\n",
    "# # g = jax.tree_map(lambda x: x / jax.lax.norm(x), g)\n",
    "g.shape\n",
    "g"
   ]
  },
  {
   "cell_type": "markdown",
   "metadata": {},
   "source": [
    "#### Through the solver"
   ]
  },
  {
   "cell_type": "code",
   "execution_count": 13,
   "metadata": {},
   "outputs": [
    {
     "data": {
      "text/plain": [
       "Array([[ 0.        +0.j        ,  0.        +0.j        ,\n",
       "         0.        +0.j        , ...,  0.        +0.j        ,\n",
       "         0.        +0.j        , -0.32002134+0.22016215j],\n",
       "       [ 0.65866542+0.40745464j, -0.96497238+0.08639439j,\n",
       "         1.39652574-0.17228837j, ...,  0.3286974 +0.65195047j,\n",
       "         0.        +0.j        ,  0.68316557+0.77572485j],\n",
       "       [ 0.        +0.j        , -0.96497238+0.08639439j,\n",
       "         1.39652574-0.17228837j, ...,  0.18765405+0.27717504j,\n",
       "         0.        +0.j        ,  0.28474208+0.13324456j],\n",
       "       ...,\n",
       "       [ 0.        +0.j        ,  0.        +0.j        ,\n",
       "         0.        +0.j        , ...,  0.        +0.j        ,\n",
       "         0.48503316+0.61455249j,  0.23406688+0.05146329j],\n",
       "       [ 0.65866542+0.40745464j, -0.96497238+0.08639439j,\n",
       "         0.        +0.j        , ...,  0.        +0.j        ,\n",
       "        -0.04850227+0.20163243j,  0.        +0.j        ],\n",
       "       [ 0.        +0.j        ,  0.        +0.j        ,\n",
       "         1.39652574-0.17228837j, ...,  0.01029463+1.32359544j,\n",
       "         0.        +0.j        ,  0.73293386+0.65416242j]],      dtype=complex128)"
      ]
     },
     "execution_count": 13,
     "metadata": {},
     "output_type": "execute_result"
    }
   ],
   "source": [
    "# through the solver\n",
    "g = nqs.gradient(configs, batch_size=3)\n",
    "g.shape\n",
    "g"
   ]
  },
  {
   "cell_type": "markdown",
   "metadata": {},
   "source": [
    "#### Try out standard gradient vector"
   ]
  },
  {
   "cell_type": "code",
   "execution_count": 14,
   "metadata": {},
   "outputs": [
    {
     "data": {
      "text/plain": [
       "((122,), (25,))"
      ]
     },
     "execution_count": 14,
     "metadata": {},
     "output_type": "execute_result"
    }
   ],
   "source": [
    "samples     = v.shape[0]\n",
    "e_centered  = (v - means)\n",
    "\n",
    "# derivatives centered\n",
    "g_means     = jnp.mean(g, axis = 0)\n",
    "g_means.shape, e_centered.shape"
   ]
  },
  {
   "cell_type": "code",
   "execution_count": 15,
   "metadata": {},
   "outputs": [
    {
     "data": {
      "text/plain": [
       "(25, 122)"
      ]
     },
     "execution_count": 15,
     "metadata": {},
     "output_type": "execute_result"
    }
   ],
   "source": [
    "g_centered  = g - g_means\n",
    "g_centered.shape"
   ]
  },
  {
   "cell_type": "code",
   "execution_count": 16,
   "metadata": {},
   "outputs": [
    {
     "data": {
      "text/plain": [
       "(122,)"
      ]
     },
     "execution_count": 16,
     "metadata": {},
     "output_type": "execute_result"
    }
   ],
   "source": [
    "# get F\n",
    "F = jnp.matmul(jnp.conj(g_centered).T, e_centered) / samples\n",
    "F.shape"
   ]
  },
  {
   "cell_type": "code",
   "execution_count": 17,
   "metadata": {},
   "outputs": [
    {
     "ename": "KeyError",
     "evalue": "'params'",
     "output_type": "error",
     "traceback": [
      "\u001b[0;31m---------------------------------------------------------------------------\u001b[0m",
      "\u001b[0;31mKeyError\u001b[0m                                  Traceback (most recent call last)",
      "Cell \u001b[0;32mIn[17], line 1\u001b[0m\n\u001b[0;32m----> 1\u001b[0m nqs\u001b[38;5;241m.\u001b[39mupdate_parameters(F)\n\u001b[1;32m      2\u001b[0m net\u001b[38;5;241m.\u001b[39mget_params()\n",
      "File \u001b[0;32m~/Codes/QuantumEigenSolver/Python/QES/NQS/nqs.py:845\u001b[0m, in \u001b[0;36mNQS.update_parameters\u001b[0;34m(self, d_par)\u001b[0m\n\u001b[1;32m    835\u001b[0m \u001b[38;5;250m\u001b[39m\u001b[38;5;124;03m'''\u001b[39;00m\n\u001b[1;32m    836\u001b[0m \u001b[38;5;124;03mUpdate the parameters of the model.\u001b[39;00m\n\u001b[1;32m    837\u001b[0m \u001b[38;5;124;03m\u001b[39;00m\n\u001b[0;32m   (...)\u001b[0m\n\u001b[1;32m    840\u001b[0m \u001b[38;5;124;03m            list, or numpy array.\u001b[39;00m\n\u001b[1;32m    841\u001b[0m \u001b[38;5;124;03m'''\u001b[39;00m\n\u001b[1;32m    843\u001b[0m unflattened     \u001b[38;5;241m=\u001b[39m \u001b[38;5;28mself\u001b[39m\u001b[38;5;241m.\u001b[39m_update_unflatten(d_par)\n\u001b[1;32m    844\u001b[0m new_parameters  \u001b[38;5;241m=\u001b[39m tree_map(jax\u001b[38;5;241m.\u001b[39mlax\u001b[38;5;241m.\u001b[39madd,\n\u001b[0;32m--> 845\u001b[0m                             \u001b[38;5;28mself\u001b[39m\u001b[38;5;241m.\u001b[39m_net\u001b[38;5;241m.\u001b[39mget_params()[\u001b[38;5;124m'\u001b[39m\u001b[38;5;124mparams\u001b[39m\u001b[38;5;124m'\u001b[39m],\n\u001b[1;32m    846\u001b[0m                             unflattened)\n\u001b[1;32m    848\u001b[0m \u001b[38;5;66;03m# set the new parameters already\u001b[39;00m\n\u001b[1;32m    849\u001b[0m \u001b[38;5;28mself\u001b[39m\u001b[38;5;241m.\u001b[39m_params   \u001b[38;5;241m=\u001b[39m new_parameters\n",
      "\u001b[0;31mKeyError\u001b[0m: 'params'"
     ]
    }
   ],
   "source": [
    "nqs.update_parameters(F)\n",
    "net.get_params()"
   ]
  },
  {
   "cell_type": "markdown",
   "metadata": {},
   "source": [
    "### Try out Stochastic Reconfiguration and gradient parameter"
   ]
  },
  {
   "cell_type": "code",
   "execution_count": 12,
   "metadata": {},
   "outputs": [
    {
     "data": {
      "text/plain": [
       "((200,), (200, 122))"
      ]
     },
     "execution_count": 12,
     "metadata": {},
     "output_type": "execute_result"
    }
   ],
   "source": [
    "# try out stochastic reconfiguration\n",
    "samples = v.shape[0]\n",
    "v.shape, g.shape"
   ]
  },
  {
   "cell_type": "code",
   "execution_count": 13,
   "metadata": {},
   "outputs": [
    {
     "data": {
      "text/plain": [
       "((122,), (200,))"
      ]
     },
     "execution_count": 13,
     "metadata": {},
     "output_type": "execute_result"
    }
   ],
   "source": [
    "e_centered  = (v - means)\n",
    "\n",
    "# derivatives centered\n",
    "g_means     = jnp.mean(g, axis = 0)\n",
    "g_means.shape, e_centered.shape"
   ]
  },
  {
   "cell_type": "code",
   "execution_count": 14,
   "metadata": {},
   "outputs": [
    {
     "data": {
      "text/plain": [
       "(200, 122)"
      ]
     },
     "execution_count": 14,
     "metadata": {},
     "output_type": "execute_result"
    }
   ],
   "source": [
    "g_centered  = g - g_means\n",
    "g_centered.shape"
   ]
  },
  {
   "cell_type": "code",
   "execution_count": 15,
   "metadata": {},
   "outputs": [],
   "source": [
    "g_centered_c_t = jnp.conj(g_centered).T"
   ]
  },
  {
   "cell_type": "code",
   "execution_count": 16,
   "metadata": {},
   "outputs": [
    {
     "data": {
      "text/plain": [
       "(122,)"
      ]
     },
     "execution_count": 16,
     "metadata": {},
     "output_type": "execute_result"
    }
   ],
   "source": [
    "# get F\n",
    "F = jnp.matmul(g_centered_c_t, e_centered)\n",
    "F.shape"
   ]
  },
  {
   "cell_type": "code",
   "execution_count": 17,
   "metadata": {},
   "outputs": [
    {
     "data": {
      "text/plain": [
       "(122, 122)"
      ]
     },
     "execution_count": 17,
     "metadata": {},
     "output_type": "execute_result"
    }
   ],
   "source": [
    "S = jnp.matmul(g_centered_c_t, g_centered) / samples\n",
    "S.shape"
   ]
  },
  {
   "cell_type": "code",
   "execution_count": 18,
   "metadata": {},
   "outputs": [
    {
     "data": {
      "text/plain": [
       "DeviceArray([[-3.93554855e+03+5.33812768e+03j,\n",
       "               7.62498881e+00+1.15546464e+00j,\n",
       "              -2.11245699e+02-1.75518038e+02j, ...,\n",
       "               1.72283782e+02+1.94078715e+03j,\n",
       "              -3.48546042e+02-1.49834946e+03j,\n",
       "              -3.32953450e+02+4.69936990e+02j],\n",
       "             [-2.22128851e+01-4.99460437e+01j,\n",
       "              -1.34701147e+03+1.70924399e+03j,\n",
       "               2.01349750e+02-7.58985694e+01j, ...,\n",
       "               4.59210850e+03+2.74385215e+03j,\n",
       "               1.55533214e+03+1.30541734e+03j,\n",
       "              -1.00787909e+02+3.97334206e+01j],\n",
       "             [ 1.00727776e+03+4.52922726e+02j,\n",
       "              -7.60509629e+00-1.21841041e+02j,\n",
       "              -1.19186272e+03+2.28626133e+03j, ...,\n",
       "               2.73049858e+03-1.70319819e+01j,\n",
       "               7.35045580e+02-8.81476689e+02j,\n",
       "               1.44884004e+03-7.05229453e+01j],\n",
       "             ...,\n",
       "             [ 4.91581972e+02-9.01879088e+02j,\n",
       "               3.96034578e+02-3.81158095e+01j,\n",
       "               3.45750497e+02+9.27203845e+01j, ...,\n",
       "              -3.19652743e+03-1.39800617e+04j,\n",
       "              -1.23453521e+03-1.30245718e+03j,\n",
       "               5.44165059e+01-4.23323443e+02j],\n",
       "             [-5.04081128e+02-4.71587637e+02j,\n",
       "               1.82655624e+01+1.27243564e+02j,\n",
       "              -1.21316262e+02+4.10459190e+01j, ...,\n",
       "               1.39342331e+03+6.25787047e+02j,\n",
       "               9.07990500e+03-1.01884531e+03j,\n",
       "               2.45100528e+02+4.75331080e+02j],\n",
       "             [ 8.71142035e+02+5.14851409e+02j,\n",
       "               2.68527240e+01-3.47713709e-01j,\n",
       "              -5.47890721e+02+3.18597849e+02j, ...,\n",
       "               1.40380178e+03+2.29816877e+02j,\n",
       "               1.61297057e+03-1.33546379e+03j,\n",
       "               1.96819796e+03+1.11362688e+03j]], dtype=complex128)"
      ]
     },
     "execution_count": 18,
     "metadata": {},
     "output_type": "execute_result"
    }
   ],
   "source": [
    "# use standard solver\n",
    "dF = jnp.linalg.pinv(S, 1e-5) * F\n",
    "dF.shape\n",
    "dF"
   ]
  },
  {
   "cell_type": "markdown",
   "metadata": {},
   "source": [
    "### Try the stochastic reconfiguration class (with solver)"
   ]
  },
  {
   "cell_type": "code",
   "execution_count": null,
   "metadata": {},
   "outputs": [
    {
     "data": {
      "text/plain": [
       "<module 'general_python.algebra.solver' from '/home/klimak/Codes/QuantumEigenSolver/Python/QES/general_python/algebra/solver.py'>"
      ]
     },
     "execution_count": 3,
     "metadata": {},
     "output_type": "execute_result"
    }
   ],
   "source": [
    "# setup the solver\n",
    "import general_python.algebra.solver as solver_mod"
   ]
  },
  {
   "cell_type": "markdown",
   "metadata": {},
   "source": [
    "###### a) Without MINSR - solver = direct - no covariance S"
   ]
  },
  {
   "cell_type": "code",
   "execution_count": 9,
   "metadata": {},
   "outputs": [
    {
     "data": {
      "text/plain": [
       "<general_python.algebra.solvers.stochastic_rcnfg.StochasticReconfiguration at 0x797ffcfe93d0>"
      ]
     },
     "execution_count": 9,
     "metadata": {},
     "output_type": "execute_result"
    }
   ],
   "source": [
    "from general_python.algebra.solvers import stochastic_rcnfg as sr\n",
    "\n",
    "# get the samples - apply through the solver with the states\n",
    "(configs, ansatze), probabilities, (v, means, stds) = nqs.evaluate_fun(batch_size = 10)\n",
    "means, stds, configs.shape, ansatze.shape, probabilities.shape\n",
    "\n",
    "# get the derivatives - through the solver\n",
    "g = nqs.gradient(configs, batch_size=3)\n",
    "g.shape\n",
    "\n",
    "# create the sr\n",
    "stochastic_reconfiguration = sr.StochasticReconfiguration(None, backend='jax')\n",
    "stochastic_reconfiguration"
   ]
  },
  {
   "cell_type": "code",
   "execution_count": 4,
   "metadata": {},
   "outputs": [
    {
     "ename": "NameError",
     "evalue": "name 'stochastic_reconfiguration' is not defined",
     "output_type": "error",
     "traceback": [
      "\u001b[0;31m---------------------------------------------------------------------------\u001b[0m",
      "\u001b[0;31mNameError\u001b[0m                                 Traceback (most recent call last)",
      "Cell \u001b[0;32mIn[4], line 1\u001b[0m\n\u001b[0;32m----> 1\u001b[0m stochastic_reconfiguration\u001b[38;5;241m.\u001b[39mset_values(loss  \u001b[38;5;241m=\u001b[39m   v, \n\u001b[1;32m      2\u001b[0m                                 derivatives \u001b[38;5;241m=\u001b[39m   g,\n\u001b[1;32m      3\u001b[0m                                 mean_loss   \u001b[38;5;241m=\u001b[39m   means,\n\u001b[1;32m      4\u001b[0m                                 mean_deriv  \u001b[38;5;241m=\u001b[39m   \u001b[38;5;28;01mNone\u001b[39;00m,\n\u001b[1;32m      5\u001b[0m                                 calculate_s \u001b[38;5;241m=\u001b[39m   \u001b[38;5;28;01mFalse\u001b[39;00m, \n\u001b[1;32m      6\u001b[0m                                 use_minsr   \u001b[38;5;241m=\u001b[39m   \u001b[38;5;28;01mFalse\u001b[39;00m)\n\u001b[1;32m      8\u001b[0m f \u001b[38;5;241m=\u001b[39m stochastic_reconfiguration\u001b[38;5;241m.\u001b[39mforces\n\u001b[1;32m      9\u001b[0m s \u001b[38;5;241m=\u001b[39m stochastic_reconfiguration\u001b[38;5;241m.\u001b[39mcovariance_matrix\n",
      "\u001b[0;31mNameError\u001b[0m: name 'stochastic_reconfiguration' is not defined"
     ]
    }
   ],
   "source": [
    "stochastic_reconfiguration.set_values(loss  =   v, \n",
    "                                derivatives =   g,\n",
    "                                mean_loss   =   means,\n",
    "                                mean_deriv  =   None,\n",
    "                                calculate_s =   False, \n",
    "                                use_minsr   =   False)\n",
    "\n",
    "f = stochastic_reconfiguration.forces\n",
    "s = stochastic_reconfiguration.covariance_matrix\n",
    "\n",
    "f.shape, s.shape\n",
    "f, s"
   ]
  },
  {
   "cell_type": "code",
   "execution_count": 13,
   "metadata": {},
   "outputs": [
    {
     "data": {
      "text/plain": [
       "(DeviceArray([[ 745.15788636  +0.j        ,  -66.73252033 +85.93926648j,\n",
       "                -98.5109987 +154.67123818j, ...,\n",
       "               -209.94125982 +24.31248764j,  219.1822494 -123.03491681j,\n",
       "                  0.          +0.j        ],\n",
       "              [ -66.73252033 -85.93926648j,   15.88762195  +0.j        ,\n",
       "                 26.660417    -2.49026228j, ...,\n",
       "                 21.60522895 +22.03528218j,  -33.81848985 -14.25997342j,\n",
       "                  0.          +0.j        ],\n",
       "              [ -98.5109987 -154.67123818j,   26.660417    +2.49026228j,\n",
       "                 77.36257027  +0.j        , ...,\n",
       "                 16.33149124 +38.77137793j,  -62.51135673 -29.44222441j,\n",
       "                  0.          +0.j        ],\n",
       "              ...,\n",
       "              [-209.94125982 -24.31248764j,   21.60522895 -22.03528218j,\n",
       "                 16.33149124 -38.77137793j, ...,\n",
       "                 71.51043787  +0.j        ,  -61.67045844 +27.22622149j,\n",
       "                  0.          +0.j        ],\n",
       "              [ 219.1822494 +123.03491681j,  -33.81848985 +14.25997342j,\n",
       "                -62.51135673 +29.44222441j, ...,\n",
       "                -61.67045844 -27.22622149j,   87.56863988  +0.j        ,\n",
       "                  0.          +0.j        ],\n",
       "              [   0.          +0.j        ,    0.          +0.j        ,\n",
       "                  0.          +0.j        , ...,\n",
       "                  0.          +0.j        ,    0.          +0.j        ,\n",
       "                  0.          +0.j        ]], dtype=complex128),\n",
       " DeviceArray([ 5.99399782e+18+2.00087254e+18j,\n",
       "              -3.06030530e+17-8.70477324e+17j,\n",
       "              -6.46453093e+17-2.58631367e+18j,\n",
       "               2.56051801e+18-9.19671846e+17j,\n",
       "               0.00000000e+00+0.00000000e+00j,\n",
       "               2.00087254e+18-5.99399782e+18j,\n",
       "              -8.70477324e+17+3.06030530e+17j,\n",
       "              -2.58631367e+18+6.46453093e+17j,\n",
       "              -9.19671846e+17-2.56051801e+18j,\n",
       "               0.00000000e+00+0.00000000e+00j,\n",
       "              -2.99699891e+18-1.00043627e+18j,\n",
       "               1.53015265e+17+4.35238662e+17j,\n",
       "               2.42419910e+17+9.69867626e+17j,\n",
       "               1.28025900e+18-4.59835923e+17j,\n",
       "               0.00000000e+00+0.00000000e+00j,\n",
       "              -2.99699891e+18-1.00043627e+18j,\n",
       "               1.53015265e+17+4.35238662e+17j,\n",
       "               3.23226547e+17+1.29315683e+18j,\n",
       "               2.01183558e+18-7.22599308e+17j,\n",
       "               0.00000000e+00+0.00000000e+00j,\n",
       "               2.99699891e+18+1.00043627e+18j,\n",
       "              -1.53015265e+17-4.35238662e+17j,\n",
       "              -2.42419910e+17-9.69867626e+17j,\n",
       "               1.64604729e+18-5.91217616e+17j,\n",
       "               0.00000000e+00+0.00000000e+00j,\n",
       "               2.14071351e+18+7.14597334e+17j,\n",
       "              -1.09296618e+17-3.10884759e+17j,\n",
       "              -2.42419910e+17-9.69867626e+17j,\n",
       "               1.28025900e+18-4.59835923e+17j,\n",
       "               0.00000000e+00+0.00000000e+00j,\n",
       "               2.99699891e+18+1.00043627e+18j,\n",
       "              -1.53015265e+17-4.35238662e+17j,\n",
       "              -3.23226547e+17-1.29315683e+18j,\n",
       "               1.64604729e+18-5.91217616e+17j,\n",
       "               0.00000000e+00+0.00000000e+00j,\n",
       "               2.99699891e+18+1.00043627e+18j,\n",
       "              -1.53015265e+17-4.35238662e+17j,\n",
       "              -2.42419910e+17-9.69867626e+17j,\n",
       "              -1.28025900e+18+4.59835923e+17j,\n",
       "               0.00000000e+00+0.00000000e+00j,\n",
       "              -4.28142701e+17-1.42919467e+17j,\n",
       "               2.18593236e+16+6.21769517e+16j,\n",
       "               8.08066367e+16+3.23289209e+17j,\n",
       "              -1.28025900e+18+4.59835923e+17j,\n",
       "               0.00000000e+00+0.00000000e+00j,\n",
       "               2.99699891e+18+1.00043627e+18j,\n",
       "              -1.53015265e+17-4.35238662e+17j,\n",
       "              -2.42419910e+17-9.69867626e+17j,\n",
       "               1.64604729e+18-5.91217616e+17j,\n",
       "               0.00000000e+00+0.00000000e+00j,\n",
       "               4.28142701e+17+1.42919467e+17j,\n",
       "              -2.18593236e+16-6.21769517e+16j,\n",
       "              -8.08066367e+16-3.23289209e+17j,\n",
       "               1.28025900e+18-4.59835923e+17j,\n",
       "               0.00000000e+00+0.00000000e+00j,\n",
       "               2.99699891e+18+1.00043627e+18j,\n",
       "              -1.53015265e+17-4.35238662e+17j,\n",
       "              -3.23226547e+17-1.29315683e+18j,\n",
       "              -1.64604729e+18+5.91217616e+17j,\n",
       "               0.00000000e+00+0.00000000e+00j,\n",
       "              -1.00043627e+18+2.99699891e+18j,\n",
       "               4.35238662e+17-1.53015265e+17j,\n",
       "               9.69867626e+17-2.42419910e+17j,\n",
       "              -4.59835923e+17-1.28025900e+18j,\n",
       "               0.00000000e+00+0.00000000e+00j,\n",
       "              -1.00043627e+18+2.99699891e+18j,\n",
       "               4.35238662e+17-1.53015265e+17j,\n",
       "               1.29315683e+18-3.23226547e+17j,\n",
       "              -7.22599308e+17-2.01183558e+18j,\n",
       "               0.00000000e+00+0.00000000e+00j,\n",
       "               1.00043627e+18-2.99699891e+18j,\n",
       "              -4.35238662e+17+1.53015265e+17j,\n",
       "              -9.69867626e+17+2.42419910e+17j,\n",
       "              -5.91217616e+17-1.64604729e+18j,\n",
       "               0.00000000e+00+0.00000000e+00j,\n",
       "               7.14597334e+17-2.14071351e+18j,\n",
       "              -3.10884759e+17+1.09296618e+17j,\n",
       "              -9.69867626e+17+2.42419910e+17j,\n",
       "              -4.59835923e+17-1.28025900e+18j,\n",
       "               0.00000000e+00+0.00000000e+00j,\n",
       "               1.00043627e+18-2.99699891e+18j,\n",
       "              -4.35238662e+17+1.53015265e+17j,\n",
       "              -1.29315683e+18+3.23226547e+17j,\n",
       "              -5.91217616e+17-1.64604729e+18j,\n",
       "               0.00000000e+00+0.00000000e+00j,\n",
       "               1.00043627e+18-2.99699891e+18j,\n",
       "              -4.35238662e+17+1.53015265e+17j,\n",
       "              -9.69867626e+17+2.42419910e+17j,\n",
       "               4.59835923e+17+1.28025900e+18j,\n",
       "               0.00000000e+00+0.00000000e+00j,\n",
       "              -1.42919467e+17+4.28142701e+17j,\n",
       "               6.21769517e+16-2.18593236e+16j,\n",
       "               3.23289209e+17-8.08066367e+16j,\n",
       "               4.59835923e+17+1.28025900e+18j,\n",
       "               0.00000000e+00+0.00000000e+00j,\n",
       "               1.00043627e+18-2.99699891e+18j,\n",
       "              -4.35238662e+17+1.53015265e+17j,\n",
       "              -9.69867626e+17+2.42419910e+17j,\n",
       "              -5.91217616e+17-1.64604729e+18j,\n",
       "               0.00000000e+00+0.00000000e+00j,\n",
       "               1.42919467e+17-4.28142701e+17j,\n",
       "              -6.21769517e+16+2.18593236e+16j,\n",
       "              -3.23289209e+17+8.08066367e+16j,\n",
       "              -4.59835923e+17-1.28025900e+18j,\n",
       "               0.00000000e+00+0.00000000e+00j,\n",
       "               1.00043627e+18-2.99699891e+18j,\n",
       "              -4.35238662e+17+1.53015265e+17j,\n",
       "              -1.29315683e+18+3.23226547e+17j,\n",
       "               5.91217616e+17+1.64604729e+18j,\n",
       "               0.00000000e+00+0.00000000e+00j,\n",
       "               0.00000000e+00+0.00000000e+00j,\n",
       "               0.00000000e+00+0.00000000e+00j,\n",
       "              -5.15687178e+18+2.16919139e+18j,\n",
       "              -1.12546802e+18-1.24310043e+18j,\n",
       "               2.21999887e+17-1.43263709e+18j,\n",
       "              -1.54163180e+18+1.52473597e+18j,\n",
       "               0.00000000e+00+0.00000000e+00j,\n",
       "               2.16919139e+18+5.15687178e+18j,\n",
       "              -1.24310043e+18+1.12546802e+18j,\n",
       "              -1.43263709e+18-2.21999887e+17j,\n",
       "               1.52473597e+18+1.54163180e+18j,\n",
       "               0.00000000e+00+0.00000000e+00j], dtype=complex128))"
      ]
     },
     "execution_count": 13,
     "metadata": {},
     "output_type": "execute_result"
    }
   ],
   "source": [
    "stochastic_reconfiguration.covariance_matrix, stochastic_reconfiguration.forces"
   ]
  },
  {
   "cell_type": "code",
   "execution_count": 14,
   "metadata": {},
   "outputs": [
    {
     "data": {
      "text/plain": [
       "(122,)"
      ]
     },
     "execution_count": 14,
     "metadata": {},
     "output_type": "execute_result"
    }
   ],
   "source": [
    "solution = stochastic_reconfiguration.solve(use_s = True, use_minsr = False)\n",
    "solution.shape\n",
    "solution.shape"
   ]
  },
  {
   "cell_type": "markdown",
   "metadata": {},
   "source": [
    "###### b) With MINSR - solver = direct - no covariance S"
   ]
  },
  {
   "cell_type": "code",
   "execution_count": 15,
   "metadata": {},
   "outputs": [
    {
     "data": {
      "text/plain": [
       "<general_python.algebra.solvers.stochastic_rcnfg.StochasticReconfiguration at 0x756b393a3a50>"
      ]
     },
     "execution_count": 15,
     "metadata": {},
     "output_type": "execute_result"
    }
   ],
   "source": [
    "from general_python.algebra.solvers import stochastic_rcnfg as sr\n",
    "\n",
    "# get the samples - apply through the solver with the states\n",
    "(configs, ansatze), probabilities, (v, means, stds) = nqs.evaluate_fun(batch_size = 10)\n",
    "means, stds, configs.shape, ansatze.shape, probabilities.shape\n",
    "\n",
    "# get the derivatives - through the solver\n",
    "g = nqs.gradient(configs, batch_size=3)\n",
    "g.shape\n",
    "\n",
    "# create the sr\n",
    "stochastic_reconfiguration = sr.StochasticReconfiguration(None, backend='jax')\n",
    "stochastic_reconfiguration"
   ]
  },
  {
   "cell_type": "code",
   "execution_count": 16,
   "metadata": {},
   "outputs": [
    {
     "data": {
      "text/plain": [
       "((122,), (200, 200))"
      ]
     },
     "execution_count": 16,
     "metadata": {},
     "output_type": "execute_result"
    }
   ],
   "source": [
    "stochastic_reconfiguration.set_values(loss  =   v, \n",
    "                                derivatives =   g,\n",
    "                                mean_loss   =   means,\n",
    "                                mean_deriv  =   None,\n",
    "                                calculate_s =   False, \n",
    "                                use_minsr   =   True)\n",
    "\n",
    "f = stochastic_reconfiguration.forces\n",
    "s = stochastic_reconfiguration.covariance_matrix\n",
    "\n",
    "f.shape, s.shape"
   ]
  },
  {
   "cell_type": "markdown",
   "metadata": {},
   "source": [
    "### Train it!"
   ]
  },
  {
   "cell_type": "code",
   "execution_count": 29,
   "metadata": {},
   "outputs": [],
   "source": [
    "nqs.reset()"
   ]
  },
  {
   "cell_type": "code",
   "execution_count": 33,
   "metadata": {},
   "outputs": [],
   "source": [
    "energies = nqs.train(10)"
   ]
  },
  {
   "cell_type": "code",
   "execution_count": 34,
   "metadata": {},
   "outputs": [
    {
     "data": {
      "text/plain": [
       "[DeviceArray(38.1857513-16.84196292j, dtype=complex128),\n",
       " DeviceArray(35.67420013-9.09484688j, dtype=complex128),\n",
       " DeviceArray(7.01671317+6.80436354j, dtype=complex128),\n",
       " DeviceArray(12.10060309-1.30004229j, dtype=complex128),\n",
       " DeviceArray(41.56942016+18.19404729j, dtype=complex128),\n",
       " DeviceArray(7.50651683-0.00095753j, dtype=complex128),\n",
       " DeviceArray(7.57187319-0.0018718j, dtype=complex128),\n",
       " DeviceArray(7.58687055-0.00189599j, dtype=complex128),\n",
       " DeviceArray(7.58524812-2.5173871e-05j, dtype=complex128),\n",
       " DeviceArray(7.64093191-0.00096358j, dtype=complex128)]"
      ]
     },
     "execution_count": 34,
     "metadata": {},
     "output_type": "execute_result"
    }
   ],
   "source": [
    "energies"
   ]
  },
  {
   "cell_type": "code",
   "execution_count": 36,
   "metadata": {},
   "outputs": [
    {
     "data": {
      "text/plain": [
       "[<matplotlib.lines.Line2D at 0x756b28677010>]"
      ]
     },
     "execution_count": 36,
     "metadata": {},
     "output_type": "execute_result"
    },
    {
     "data": {
      "image/png": "[encoded data removed]",
      "text/plain": [
       "<Figure size 350x262.5 with 1 Axes>"
      ]
     },
     "metadata": {},
     "output_type": "display_data"
    }
   ],
   "source": [
    "import matplotlib.pyplot as plt\n",
    "plt.plot(energies)"
   ]
  },
  {
   "cell_type": "code",
   "execution_count": 38,
   "metadata": {},
   "outputs": [
    {
     "data": {
      "text/plain": [
       "array([-11.92531811, -11.92531811, -11.38886164, ...,  11.38886164,\n",
       "        11.92531811,  11.92531811])"
      ]
     },
     "execution_count": 38,
     "metadata": {},
     "output_type": "execute_result"
    }
   ],
   "source": [
    "ham.build(use_numpy=True)\n",
    "ham.diagonalize()\n",
    "ham.eig_val"
   ]
  },
  {
   "cell_type": "code",
   "execution_count": 37,
   "metadata": {},
   "outputs": [
    {
     "data": {
      "text/plain": [
       "[<matplotlib.lines.Line2D at 0x756b2bfd3290>]"
      ]
     },
     "execution_count": 37,
     "metadata": {},
     "output_type": "execute_result"
    },
    {
     "data": {
      "image/png": "[encoded data removed]",
      "text/plain": [
       "<Figure size 350x262.5 with 1 Axes>"
      ]
     },
     "metadata": {},
     "output_type": "display_data"
    }
   ],
   "source": [
    "plt.plot(energies)\n",
    "# plt.axhline(energies[0])\n"
   ]
  },
  {
   "cell_type": "code",
   "execution_count": null,
   "metadata": {},
   "outputs": [],
   "source": []
  }
 ],
 "metadata": {
  "kernelspec": {
   "display_name": "base",
   "language": "python",
   "name": "python3"
  },
  "language_info": {
   "codemirror_mode": {
    "name": "ipython",
    "version": 3
   },
   "file_extension": ".py",
   "mimetype": "text/x-python",
   "name": "python",
   "nbconvert_exporter": "python",
   "pygments_lexer": "ipython3",
   "version": "3.12.2"
  }
 },
 "nbformat": 4,
 "nbformat_minor": 2
}
