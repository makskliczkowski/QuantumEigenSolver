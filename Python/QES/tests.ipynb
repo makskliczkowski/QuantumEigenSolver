{
 "cells": [
  {
   "cell_type": "code",
   "execution_count": 1,
   "metadata": {},
   "outputs": [],
   "source": [
    "import sys\n",
    "import os\n",
    "\n",
    "# Add the parent directory (project root) to sys.path\n",
    "project_root = os.path.abspath(os.path.join(os.getcwd(), \"../..\"))\n",
    "if project_root not in sys.path:\n",
    "    sys.path.insert(0, project_root)"
   ]
  },
  {
   "cell_type": "code",
   "execution_count": 29,
   "metadata": {},
   "outputs": [
    {
     "name": "stdout",
     "output_type": "stream",
     "text": [
      "backend: <module 'numpy' from '/home/klimak/libraries/anaconda3/lib/python3.11/site-packages/numpy/__init__.py'>\n",
      "key: None\n",
      "rnd_module: Generator(PCG64)\n",
      "rnd_module.random(): 0.2875966855732315\n",
      "rnd_module.randint(0, 10): 6\n",
      "rnd_module.uniform(0, 10): 1.6305620425215395\n",
      "rnd_module.normal(0, 1): -1.4886394534245302\n",
      "uniform(0, 10): [9.066116  7.2955213 4.6222324 4.5788965 7.422896 ]\n",
      "\n",
      "backend: <module 'numpy' from '/home/klimak/libraries/anaconda3/lib/python3.11/site-packages/numpy/__init__.py'>\n",
      "key: None\n",
      "rnd_module: Generator(PCG64)\n",
      "rnd_module.random(): 0.39785207960770796\n",
      "rnd_module.randint(0, 10): 6\n",
      "rnd_module.uniform(0, 10): 4.325006867502479\n",
      "rnd_module.normal(0, 1): 0.8687436779943527\n",
      "uniform(0, 10): [5.59749   4.6043787 6.044958  1.4986554 7.389066 ]\n",
      "\n",
      "backend: <module 'numpy' from '/home/klimak/libraries/anaconda3/lib/python3.11/site-packages/numpy/__init__.py'>\n",
      "key: None\n",
      "rnd_module: Generator(PCG64)\n",
      "rnd_module.random(): 0.1625542951269634\n",
      "rnd_module.randint(0, 10): 5\n",
      "rnd_module.uniform(0, 10): 5.727048283566138\n",
      "rnd_module.normal(0, 1): 1.7779635398814115\n",
      "uniform(0, 10): [4.1735616  6.5837026  0.73460054 3.034303   1.622114  ]\n",
      "\n",
      "backend: <module 'numpy' from '/home/klimak/libraries/anaconda3/lib/python3.11/site-packages/numpy/__init__.py'>\n",
      "key: None\n",
      "rnd_module: Generator(PCG64)\n",
      "rnd_module.random(): 0.6684881251896809\n",
      "rnd_module.randint(0, 10): 8\n",
      "rnd_module.uniform(0, 10): 1.2109474411399002\n",
      "rnd_module.normal(0, 1): -2.269947873592993\n",
      "uniform(0, 10): [2.5267217  1.6783583  8.133471   2.4382243  0.79872316]\n",
      "\n",
      "backend: <module 'numpy' from '/home/klimak/libraries/anaconda3/lib/python3.11/site-packages/numpy/__init__.py'>\n",
      "key: None\n",
      "rnd_module: Generator(PCG64)\n",
      "rnd_module.random(): 0.3924217996459116\n",
      "rnd_module.randint(0, 10): 4\n",
      "rnd_module.uniform(0, 10): 7.140187841520924\n",
      "rnd_module.normal(0, 1): -1.6099618136327005\n",
      "uniform(0, 10): [9.489408  8.513423  3.061041  8.609817  2.5298939]\n",
      "\n"
     ]
    }
   ],
   "source": [
    "from general_python.algebra.utils import get_backend as __backend\n",
    "from general_python.algebra.ran_wrapper import uniform, randint\n",
    "# test random\n",
    "seed    = None\n",
    "backend = 'np'\n",
    "for i in range(5):\n",
    "    modules = __backend(backend, random=True, seed=seed)\n",
    "    backend, (rnd_module, key) = modules if isinstance(modules, tuple) else (modules, (None, None))\n",
    "    print(f\"backend: {backend}\")\n",
    "    print(f\"key: {key}\")\n",
    "    print(f\"rnd_module: {rnd_module}\")\n",
    "    print(f\"rnd_module.random(): {rnd_module.random()}\")\n",
    "    print(f\"rnd_module.randint(0, 10): {rnd_module.integers(0, 10)}\")\n",
    "    print(f\"rnd_module.uniform(0, 10): {rnd_module.uniform(0, 10)}\")\n",
    "    print(f\"rnd_module.normal(0, 1): {rnd_module.normal(0, 1)}\")\n",
    "    # take the function from random wrapper\n",
    "    print(f\"uniform(0, 10): {uniform(shape=(5,),minval=0, maxval=10, backend=backend, seed=seed)}\")\n",
    "    print()"
   ]
  },
  {
   "cell_type": "markdown",
   "metadata": {},
   "source": [
    "# Models"
   ]
  },
  {
   "cell_type": "markdown",
   "metadata": {},
   "source": [
    "## Quantum Sun Model"
   ]
  },
  {
   "cell_type": "code",
   "execution_count": 1,
   "metadata": {},
   "outputs": [
    {
     "name": "stdout",
     "output_type": "stream",
     "text": [
      "=== Backend Initialization ===\n",
      "\tNumPy Version: 1.26.4\n",
      "\tSciPy Version: 1.13.1\n",
      "\tJAX Version: 2023.12\n",
      "\tActive Backend: jax\n",
      "\tJAX Available: True\n",
      "\tDefault Random Key: [    0 12345]\n",
      "\tActive Backend Modules:\n",
      "\t\t  Main Module: <module 'jax.numpy' from '/home/klimak/libraries/anaconda3/lib/python3.11/site-packages/jax/numpy/__init__.py'>\n",
      "\t\t  Random Module: <module 'jax.random' from '/home/klimak/libraries/anaconda3/lib/python3.11/site-packages/jax/random.py'>\n",
      "\t\t  SciPy Module: <module 'jax.scipy' from '/home/klimak/libraries/anaconda3/lib/python3.11/site-packages/jax/scipy/__init__.py'>\n",
      "=== End of Backend Info ===\n"
     ]
    },
    {
     "name": "stderr",
     "output_type": "stream",
     "text": [
      "03_03_2025_17-47_57 [INFO] Log file created: ./log/global.log\n",
      "03_03_2025_17-47_57 [INFO] Log level set to: info\n",
      "03_03_2025_17-47_57 [INFO] ########### Global logger initialized. ###########\n"
     ]
    },
    {
     "data": {
      "text/plain": [
       "array([0.72733602, 0.81675834, 1.29736546, 1.17625467, 0.89110955,\n",
       "       0.83281393, 1.09830875, 0.68673419])"
      ]
     },
     "execution_count": 1,
     "metadata": {},
     "output_type": "execute_result"
    }
   ],
   "source": [
    "from Algebra.Model.Interacting.Spin.qsm import QSM\n",
    "backend = 'np'\n",
    "hamil=QSM(ns=11, hilbert_space=None, n=3, a=0.74, h=1.0, xi=0.2, backend='np', dtype='float64')\n",
    "hamil.h"
   ]
  },
  {
   "cell_type": "markdown",
   "metadata": {},
   "source": [
    "#### Build"
   ]
  },
  {
   "cell_type": "markdown",
   "metadata": {},
   "source": [
    "##### Sparse"
   ]
  },
  {
   "cell_type": "code",
   "execution_count": 23,
   "metadata": {},
   "outputs": [
    {
     "name": "stderr",
     "output_type": "stream",
     "text": [
      "03_03_2025_17-19_59 [INFO] \t->[Quantum Sun Model] Building the Hamiltonian matrix...\n",
      "03_03_2025_17-19_59 [INFO] \t\t->[Quantum Sun Model] Initialization completed in 0.000162 seconds\n",
      "03_03_2025_17-19_59 [INFO] \t->[Quantum Sun Model] Hamiltonian matrix built in 0.043026 seconds.\n",
      "03_03_2025_17-19_59 [INFO] \t->[Quantum Sun Model] Checking the memory used by the Hamiltonian matrix of type <class 'scipy.sparse._csr.csr_matrix'>\n",
      "03_03_2025_17-19_59 [INFO] \t\t->[Quantum Sun Model] It is not a dense matrix...\n"
     ]
    },
    {
     "name": "stdout",
     "output_type": "stream",
     "text": [
      "Memory:3.738e-04gb\n"
     ]
    }
   ],
   "source": [
    "hamil.build(verbose=True, use_numpy=True)\n",
    "print(f\"Memory:{hamil.memory_gb:.3e}gb\")"
   ]
  },
  {
   "cell_type": "code",
   "execution_count": 24,
   "metadata": {},
   "outputs": [
    {
     "name": "stderr",
     "output_type": "stream",
     "text": [
      "03_03_2025_17-20_01 [INFO] [Quantum Sun Model] Diagonalization (standard) completed in 0.643752 seconds.\n"
     ]
    }
   ],
   "source": [
    "hamil.diagonalize(verbose=True)"
   ]
  },
  {
   "cell_type": "code",
   "execution_count": 25,
   "metadata": {},
   "outputs": [
    {
     "data": {
      "text/plain": [
       "array([-5.01302557, -4.64380034, -4.43862414, ...,  4.59212465,\n",
       "        4.75617393,  4.91726803])"
      ]
     },
     "execution_count": 25,
     "metadata": {},
     "output_type": "execute_result"
    }
   ],
   "source": [
    "hamil.eig_val"
   ]
  },
  {
   "cell_type": "markdown",
   "metadata": {},
   "source": [
    "##### Dense"
   ]
  },
  {
   "cell_type": "code",
   "execution_count": null,
   "metadata": {},
   "outputs": [],
   "source": [
    "qsm.to_dense()"
   ]
  },
  {
   "cell_type": "code",
   "execution_count": null,
   "metadata": {},
   "outputs": [],
   "source": [
    "qsm.build(verbose=True, use_numpy=True)"
   ]
  },
  {
   "cell_type": "code",
   "execution_count": null,
   "metadata": {},
   "outputs": [],
   "source": [
    "qsm.diagonalize(verbose=True)"
   ]
  },
  {
   "cell_type": "code",
   "execution_count": null,
   "metadata": {},
   "outputs": [],
   "source": [
    "qsm.h_memory_gb"
   ]
  },
  {
   "cell_type": "markdown",
   "metadata": {},
   "source": [
    "##### Plot tests"
   ]
  },
  {
   "cell_type": "code",
   "execution_count": 28,
   "metadata": {},
   "outputs": [
    {
     "data": {
      "text/plain": [
       "(array([-5.01302557, -4.64380034, -4.43862414, ...,  4.59212465,\n",
       "         4.75617393,  4.91726803]),\n",
       " array([[-1.90658198e-01,  1.18112881e-01,  5.57936382e-01, ...,\n",
       "          5.44378278e-10,  3.99596301e-10, -6.62468655e-10],\n",
       "        [-6.20943946e-03, -1.56066834e-02,  2.21439379e-03, ...,\n",
       "          3.08589809e-08, -8.71979714e-09, -1.53474086e-08],\n",
       "        [-9.26630566e-03,  8.46488831e-03,  1.46883618e-02, ...,\n",
       "          1.93575801e-08, -6.86248372e-09, -3.18247881e-09],\n",
       "        ...,\n",
       "        [ 4.34142738e-09,  7.12947584e-09,  3.15918848e-08, ...,\n",
       "          2.93372741e-02,  3.03895155e-03, -3.60034836e-03],\n",
       "        [-4.01864018e-09,  6.35652434e-09, -7.34770036e-08, ...,\n",
       "          2.21385656e-02,  1.23504113e-03,  2.23475968e-03],\n",
       "        [-4.35092000e-10,  2.49412705e-11, -9.41471260e-10, ...,\n",
       "          2.68795894e-01, -1.04202537e-01, -3.71620282e-01]]),\n",
       " (2048, 2048))"
      ]
     },
     "execution_count": 28,
     "metadata": {},
     "output_type": "execute_result"
    },
    {
     "data": {
      "image/png": "[encoded data removed]",
      "text/plain": [
       "<Figure size 350x262.5 with 1 Axes>"
      ]
     },
     "metadata": {},
     "output_type": "display_data"
    }
   ],
   "source": [
    "import matplotlib.pyplot as plt\n",
    "plt.plot(hamil.eig_val)\n",
    "hamil.eig_val, hamil.eig_vec, hamil.eig_vec.shape"
   ]
  },
  {
   "cell_type": "code",
   "execution_count": 29,
   "metadata": {},
   "outputs": [
    {
     "ename": "NameError",
     "evalue": "name 'qsm' is not defined",
     "output_type": "error",
     "traceback": [
      "\u001b[0;31m---------------------------------------------------------------------------\u001b[0m",
      "\u001b[0;31mNameError\u001b[0m                                 Traceback (most recent call last)",
      "Cell \u001b[0;32mIn[29], line 3\u001b[0m\n\u001b[1;32m      1\u001b[0m \u001b[38;5;28;01mimport\u001b[39;00m \u001b[38;5;21;01mnumpy\u001b[39;00m \u001b[38;5;28;01mas\u001b[39;00m \u001b[38;5;21;01mnp\u001b[39;00m\n\u001b[1;32m      2\u001b[0m \u001b[38;5;66;03m# make dense\u001b[39;00m\n\u001b[0;32m----> 3\u001b[0m qsm_dense   \u001b[38;5;241m=\u001b[39m qsm\u001b[38;5;241m.\u001b[39mhamil\u001b[38;5;241m.\u001b[39mtodense() \u001b[38;5;28;01mif\u001b[39;00m qsm\u001b[38;5;241m.\u001b[39msparse \u001b[38;5;28;01melse\u001b[39;00m qsm\u001b[38;5;241m.\u001b[39mhamil\n\u001b[1;32m      4\u001b[0m minimum     \u001b[38;5;241m=\u001b[39m qsm_dense\u001b[38;5;241m.\u001b[39mmin()\n\u001b[1;32m      5\u001b[0m maximum     \u001b[38;5;241m=\u001b[39m qsm_dense\u001b[38;5;241m.\u001b[39mmax()\n",
      "\u001b[0;31mNameError\u001b[0m: name 'qsm' is not defined"
     ]
    }
   ],
   "source": [
    "import numpy as np\n",
    "# make dense\n",
    "qsm_dense   = qsm.hamil.todense() if qsm.sparse else qsm.hamil\n",
    "minimum     = qsm_dense.min()\n",
    "maximum     = qsm_dense.max()\n",
    "qsm_dense   = np.abs(qsm_dense) / np.abs(qsm_dense).max()\n",
    "\n",
    "print(\"Minimum value:\", minimum)\n",
    "print(\"Maximum value:\", maximum)\n",
    "\n",
    "plt.figure(figsize=(5, 5))\n",
    "plt.imshow(qsm_dense, cmap='viridis')\n",
    "plt.colorbar()\n",
    "plt.title(\"Density Representation\")\n",
    "plt.show()"
   ]
  },
  {
   "cell_type": "markdown",
   "metadata": {},
   "source": [
    "##### Operators"
   ]
  },
  {
   "cell_type": "code",
   "execution_count": 2,
   "metadata": {},
   "outputs": [
    {
     "data": {
      "text/plain": [
       "array([[1., 0., 0., 0., 0., 0., 0., 0.],\n",
       "       [0., 1., 0., 0., 0., 0., 0., 0.],\n",
       "       [0., 0., 1., 0., 0., 0., 0., 0.],\n",
       "       [0., 0., 0., 1., 0., 0., 0., 0.],\n",
       "       [0., 0., 0., 0., 1., 0., 0., 0.],\n",
       "       [0., 0., 0., 0., 0., 1., 0., 0.],\n",
       "       [0., 0., 0., 0., 0., 0., 1., 0.],\n",
       "       [0., 0., 0., 0., 0., 0., 0., 1.]])"
      ]
     },
     "execution_count": 2,
     "metadata": {},
     "output_type": "execute_result"
    }
   ],
   "source": [
    "from Algebra.Operator.operators_spin import sig_x, sig_z, OperatorTypeActing\n",
    "from general_python.common import binary\n",
    "import numpy as np\n",
    "\n",
    "backend     = 'np'\n",
    "ns          = 4\n",
    "nh          = 2**ns   \n",
    "sig_x_op = sig_x(ns = ns, type_act = OperatorTypeActing.Global, sites = [ns - 1], backend=backend)\n",
    "sig_z_op = sig_z(ns = ns, type_act = OperatorTypeActing.Global, sites = [ns - 1], backend=backend)\n",
    "eye_first   = np.eye(2**(ns - 1))\n",
    "eye_first"
   ]
  },
  {
   "cell_type": "markdown",
   "metadata": {},
   "source": [
    "###### Check how it works on the base states"
   ]
  },
  {
   "cell_type": "markdown",
   "metadata": {},
   "source": [
    "###### With states"
   ]
  },
  {
   "cell_type": "code",
   "execution_count": 9,
   "metadata": {},
   "outputs": [
    {
     "name": "stdout",
     "output_type": "stream",
     "text": [
      "\n",
      "Applying sigma_x\n",
      "Acting on state 15 (1111)\n",
      "Resulting state: 14\n",
      "Resulting value: [0.5]\n",
      "Binary representation of resulting state: 1110\n",
      "Applying sigma_z\n",
      "Resulting state: 15\n",
      "Resulting value: [0.5]\n",
      "Binary representation of resulting state: 1111\n",
      "\n",
      "\n",
      "Applying sigma_x\n",
      "Acting on state 7 (0111)\n",
      "Resulting state: 6\n",
      "Resulting value: [0.5]\n",
      "Binary representation of resulting state: 0110\n",
      "Applying sigma_z\n",
      "Resulting state: 7\n",
      "Resulting value: [0.5]\n",
      "Binary representation of resulting state: 0111\n",
      "\n",
      "\n",
      "Applying sigma_x\n",
      "Acting on state 3 (0011)\n",
      "Resulting state: 2\n",
      "Resulting value: [0.5]\n",
      "Binary representation of resulting state: 0010\n",
      "Applying sigma_z\n",
      "Resulting state: 3\n",
      "Resulting value: [0.5]\n",
      "Binary representation of resulting state: 0011\n",
      "\n"
     ]
    }
   ],
   "source": [
    "int_state_full      = 2**(ns) - 1\n",
    "int_state_half      = 2**(ns - 1) - 1\n",
    "int_state_half_size = 2**(ns//2) - 1\n",
    "\n",
    "# binary representation\n",
    "backend_state           = binary.int2base(int_state_full, size=ns, backend=backend)\n",
    "backend_state_half      = binary.int2base(int_state_half, size=ns, backend=backend)\n",
    "backend_state_half_size = binary.int2base(int_state_half_size, size=ns//2, backend=backend)\n",
    "# string representation\n",
    "string_state            = binary.int2binstr(int_state_full, bits=ns)\n",
    "string_state_half       = binary.int2binstr(int_state_half, bits=ns)\n",
    "string_state_half_size  = binary.int2binstr(int_state_half_size, bits=ns)\n",
    "\n",
    "# act on the integer states\n",
    "for state in [int_state_full, int_state_half, int_state_half_size]:\n",
    "    print()\n",
    "    # sigma x\n",
    "    print(\"Applying sigma_x\")\n",
    "    print(f\"Acting on state {state} ({binary.int2binstr(state, bits=ns)})\")\n",
    "    resulting_state, resulting_value = sig_x_op(state)\n",
    "    print(f\"Resulting state: {resulting_state[0]}\")\n",
    "    print(f\"Resulting value: {resulting_value}\")\n",
    "    print(f\"Binary representation of resulting state: {binary.int2binstr(resulting_state[0], bits=ns)}\")\n",
    "    # sigma z\n",
    "    print(\"Applying sigma_z\")\n",
    "    resulting_state, resulting_value = sig_z_op(state)\n",
    "    print(f\"Resulting state: {resulting_state[0]}\")\n",
    "    print(f\"Resulting value: {resulting_value}\")\n",
    "    print(f\"Binary representation of resulting state: {binary.int2binstr(resulting_state[0], bits=ns)}\")\n",
    "    print()\n"
   ]
  },
  {
   "cell_type": "code",
   "execution_count": 10,
   "metadata": {},
   "outputs": [
    {
     "name": "stdout",
     "output_type": "stream",
     "text": [
      "Are the two matrices (sig_x) equal? True\n",
      "Are the two matrices (sig_z) equal? True\n",
      "From the operator (sig_x)\n"
     ]
    },
    {
     "data": {
      "text/latex": [
       "$\\displaystyle \\left[\\begin{array}{cccccccccccccccc}0.0 & 0.5 & 0.0 & 0.0 & 0.0 & 0.0 & 0.0 & 0.0 & 0.0 & 0.0 & 0.0 & 0.0 & 0.0 & 0.0 & 0.0 & 0.0\\\\0.5 & 0.0 & 0.0 & 0.0 & 0.0 & 0.0 & 0.0 & 0.0 & 0.0 & 0.0 & 0.0 & 0.0 & 0.0 & 0.0 & 0.0 & 0.0\\\\0.0 & 0.0 & 0.0 & 0.5 & 0.0 & 0.0 & 0.0 & 0.0 & 0.0 & 0.0 & 0.0 & 0.0 & 0.0 & 0.0 & 0.0 & 0.0\\\\0.0 & 0.0 & 0.5 & 0.0 & 0.0 & 0.0 & 0.0 & 0.0 & 0.0 & 0.0 & 0.0 & 0.0 & 0.0 & 0.0 & 0.0 & 0.0\\\\0.0 & 0.0 & 0.0 & 0.0 & 0.0 & 0.5 & 0.0 & 0.0 & 0.0 & 0.0 & 0.0 & 0.0 & 0.0 & 0.0 & 0.0 & 0.0\\\\0.0 & 0.0 & 0.0 & 0.0 & 0.5 & 0.0 & 0.0 & 0.0 & 0.0 & 0.0 & 0.0 & 0.0 & 0.0 & 0.0 & 0.0 & 0.0\\\\0.0 & 0.0 & 0.0 & 0.0 & 0.0 & 0.0 & 0.0 & 0.5 & 0.0 & 0.0 & 0.0 & 0.0 & 0.0 & 0.0 & 0.0 & 0.0\\\\0.0 & 0.0 & 0.0 & 0.0 & 0.0 & 0.0 & 0.5 & 0.0 & 0.0 & 0.0 & 0.0 & 0.0 & 0.0 & 0.0 & 0.0 & 0.0\\\\0.0 & 0.0 & 0.0 & 0.0 & 0.0 & 0.0 & 0.0 & 0.0 & 0.0 & 0.5 & 0.0 & 0.0 & 0.0 & 0.0 & 0.0 & 0.0\\\\0.0 & 0.0 & 0.0 & 0.0 & 0.0 & 0.0 & 0.0 & 0.0 & 0.5 & 0.0 & 0.0 & 0.0 & 0.0 & 0.0 & 0.0 & 0.0\\\\0.0 & 0.0 & 0.0 & 0.0 & 0.0 & 0.0 & 0.0 & 0.0 & 0.0 & 0.0 & 0.0 & 0.5 & 0.0 & 0.0 & 0.0 & 0.0\\\\0.0 & 0.0 & 0.0 & 0.0 & 0.0 & 0.0 & 0.0 & 0.0 & 0.0 & 0.0 & 0.5 & 0.0 & 0.0 & 0.0 & 0.0 & 0.0\\\\0.0 & 0.0 & 0.0 & 0.0 & 0.0 & 0.0 & 0.0 & 0.0 & 0.0 & 0.0 & 0.0 & 0.0 & 0.0 & 0.5 & 0.0 & 0.0\\\\0.0 & 0.0 & 0.0 & 0.0 & 0.0 & 0.0 & 0.0 & 0.0 & 0.0 & 0.0 & 0.0 & 0.0 & 0.5 & 0.0 & 0.0 & 0.0\\\\0.0 & 0.0 & 0.0 & 0.0 & 0.0 & 0.0 & 0.0 & 0.0 & 0.0 & 0.0 & 0.0 & 0.0 & 0.0 & 0.0 & 0.0 & 0.5\\\\0.0 & 0.0 & 0.0 & 0.0 & 0.0 & 0.0 & 0.0 & 0.0 & 0.0 & 0.0 & 0.0 & 0.0 & 0.0 & 0.0 & 0.5 & 0.0\\end{array}\\right]$"
      ],
      "text/plain": [
       "Matrix([\n",
       "[0.0, 0.5, 0.0, 0.0, 0.0, 0.0, 0.0, 0.0, 0.0, 0.0, 0.0, 0.0, 0.0, 0.0, 0.0, 0.0],\n",
       "[0.5, 0.0, 0.0, 0.0, 0.0, 0.0, 0.0, 0.0, 0.0, 0.0, 0.0, 0.0, 0.0, 0.0, 0.0, 0.0],\n",
       "[0.0, 0.0, 0.0, 0.5, 0.0, 0.0, 0.0, 0.0, 0.0, 0.0, 0.0, 0.0, 0.0, 0.0, 0.0, 0.0],\n",
       "[0.0, 0.0, 0.5, 0.0, 0.0, 0.0, 0.0, 0.0, 0.0, 0.0, 0.0, 0.0, 0.0, 0.0, 0.0, 0.0],\n",
       "[0.0, 0.0, 0.0, 0.0, 0.0, 0.5, 0.0, 0.0, 0.0, 0.0, 0.0, 0.0, 0.0, 0.0, 0.0, 0.0],\n",
       "[0.0, 0.0, 0.0, 0.0, 0.5, 0.0, 0.0, 0.0, 0.0, 0.0, 0.0, 0.0, 0.0, 0.0, 0.0, 0.0],\n",
       "[0.0, 0.0, 0.0, 0.0, 0.0, 0.0, 0.0, 0.5, 0.0, 0.0, 0.0, 0.0, 0.0, 0.0, 0.0, 0.0],\n",
       "[0.0, 0.0, 0.0, 0.0, 0.0, 0.0, 0.5, 0.0, 0.0, 0.0, 0.0, 0.0, 0.0, 0.0, 0.0, 0.0],\n",
       "[0.0, 0.0, 0.0, 0.0, 0.0, 0.0, 0.0, 0.0, 0.0, 0.5, 0.0, 0.0, 0.0, 0.0, 0.0, 0.0],\n",
       "[0.0, 0.0, 0.0, 0.0, 0.0, 0.0, 0.0, 0.0, 0.5, 0.0, 0.0, 0.0, 0.0, 0.0, 0.0, 0.0],\n",
       "[0.0, 0.0, 0.0, 0.0, 0.0, 0.0, 0.0, 0.0, 0.0, 0.0, 0.0, 0.5, 0.0, 0.0, 0.0, 0.0],\n",
       "[0.0, 0.0, 0.0, 0.0, 0.0, 0.0, 0.0, 0.0, 0.0, 0.0, 0.5, 0.0, 0.0, 0.0, 0.0, 0.0],\n",
       "[0.0, 0.0, 0.0, 0.0, 0.0, 0.0, 0.0, 0.0, 0.0, 0.0, 0.0, 0.0, 0.0, 0.5, 0.0, 0.0],\n",
       "[0.0, 0.0, 0.0, 0.0, 0.0, 0.0, 0.0, 0.0, 0.0, 0.0, 0.0, 0.0, 0.5, 0.0, 0.0, 0.0],\n",
       "[0.0, 0.0, 0.0, 0.0, 0.0, 0.0, 0.0, 0.0, 0.0, 0.0, 0.0, 0.0, 0.0, 0.0, 0.0, 0.5],\n",
       "[0.0, 0.0, 0.0, 0.0, 0.0, 0.0, 0.0, 0.0, 0.0, 0.0, 0.0, 0.0, 0.0, 0.0, 0.5, 0.0]])"
      ]
     },
     "metadata": {},
     "output_type": "display_data"
    },
    {
     "name": "stdout",
     "output_type": "stream",
     "text": [
      "From the operator (sig_z)\n"
     ]
    },
    {
     "data": {
      "text/latex": [
       "$\\displaystyle \\left[\\begin{array}{cccccccccccccccc}-0.5 & 0.0 & 0.0 & 0.0 & 0.0 & 0.0 & 0.0 & 0.0 & 0.0 & 0.0 & 0.0 & 0.0 & 0.0 & 0.0 & 0.0 & 0.0\\\\0.0 & 0.5 & 0.0 & 0.0 & 0.0 & 0.0 & 0.0 & 0.0 & 0.0 & 0.0 & 0.0 & 0.0 & 0.0 & 0.0 & 0.0 & 0.0\\\\0.0 & 0.0 & -0.5 & 0.0 & 0.0 & 0.0 & 0.0 & 0.0 & 0.0 & 0.0 & 0.0 & 0.0 & 0.0 & 0.0 & 0.0 & 0.0\\\\0.0 & 0.0 & 0.0 & 0.5 & 0.0 & 0.0 & 0.0 & 0.0 & 0.0 & 0.0 & 0.0 & 0.0 & 0.0 & 0.0 & 0.0 & 0.0\\\\0.0 & 0.0 & 0.0 & 0.0 & -0.5 & 0.0 & 0.0 & 0.0 & 0.0 & 0.0 & 0.0 & 0.0 & 0.0 & 0.0 & 0.0 & 0.0\\\\0.0 & 0.0 & 0.0 & 0.0 & 0.0 & 0.5 & 0.0 & 0.0 & 0.0 & 0.0 & 0.0 & 0.0 & 0.0 & 0.0 & 0.0 & 0.0\\\\0.0 & 0.0 & 0.0 & 0.0 & 0.0 & 0.0 & -0.5 & 0.0 & 0.0 & 0.0 & 0.0 & 0.0 & 0.0 & 0.0 & 0.0 & 0.0\\\\0.0 & 0.0 & 0.0 & 0.0 & 0.0 & 0.0 & 0.0 & 0.5 & 0.0 & 0.0 & 0.0 & 0.0 & 0.0 & 0.0 & 0.0 & 0.0\\\\0.0 & 0.0 & 0.0 & 0.0 & 0.0 & 0.0 & 0.0 & 0.0 & -0.5 & 0.0 & 0.0 & 0.0 & 0.0 & 0.0 & 0.0 & 0.0\\\\0.0 & 0.0 & 0.0 & 0.0 & 0.0 & 0.0 & 0.0 & 0.0 & 0.0 & 0.5 & 0.0 & 0.0 & 0.0 & 0.0 & 0.0 & 0.0\\\\0.0 & 0.0 & 0.0 & 0.0 & 0.0 & 0.0 & 0.0 & 0.0 & 0.0 & 0.0 & -0.5 & 0.0 & 0.0 & 0.0 & 0.0 & 0.0\\\\0.0 & 0.0 & 0.0 & 0.0 & 0.0 & 0.0 & 0.0 & 0.0 & 0.0 & 0.0 & 0.0 & 0.5 & 0.0 & 0.0 & 0.0 & 0.0\\\\0.0 & 0.0 & 0.0 & 0.0 & 0.0 & 0.0 & 0.0 & 0.0 & 0.0 & 0.0 & 0.0 & 0.0 & -0.5 & 0.0 & 0.0 & 0.0\\\\0.0 & 0.0 & 0.0 & 0.0 & 0.0 & 0.0 & 0.0 & 0.0 & 0.0 & 0.0 & 0.0 & 0.0 & 0.0 & 0.5 & 0.0 & 0.0\\\\0.0 & 0.0 & 0.0 & 0.0 & 0.0 & 0.0 & 0.0 & 0.0 & 0.0 & 0.0 & 0.0 & 0.0 & 0.0 & 0.0 & -0.5 & 0.0\\\\0.0 & 0.0 & 0.0 & 0.0 & 0.0 & 0.0 & 0.0 & 0.0 & 0.0 & 0.0 & 0.0 & 0.0 & 0.0 & 0.0 & 0.0 & 0.5\\end{array}\\right]$"
      ],
      "text/plain": [
       "Matrix([\n",
       "[-0.5, 0.0,  0.0, 0.0,  0.0, 0.0,  0.0, 0.0,  0.0, 0.0,  0.0, 0.0,  0.0, 0.0,  0.0, 0.0],\n",
       "[ 0.0, 0.5,  0.0, 0.0,  0.0, 0.0,  0.0, 0.0,  0.0, 0.0,  0.0, 0.0,  0.0, 0.0,  0.0, 0.0],\n",
       "[ 0.0, 0.0, -0.5, 0.0,  0.0, 0.0,  0.0, 0.0,  0.0, 0.0,  0.0, 0.0,  0.0, 0.0,  0.0, 0.0],\n",
       "[ 0.0, 0.0,  0.0, 0.5,  0.0, 0.0,  0.0, 0.0,  0.0, 0.0,  0.0, 0.0,  0.0, 0.0,  0.0, 0.0],\n",
       "[ 0.0, 0.0,  0.0, 0.0, -0.5, 0.0,  0.0, 0.0,  0.0, 0.0,  0.0, 0.0,  0.0, 0.0,  0.0, 0.0],\n",
       "[ 0.0, 0.0,  0.0, 0.0,  0.0, 0.5,  0.0, 0.0,  0.0, 0.0,  0.0, 0.0,  0.0, 0.0,  0.0, 0.0],\n",
       "[ 0.0, 0.0,  0.0, 0.0,  0.0, 0.0, -0.5, 0.0,  0.0, 0.0,  0.0, 0.0,  0.0, 0.0,  0.0, 0.0],\n",
       "[ 0.0, 0.0,  0.0, 0.0,  0.0, 0.0,  0.0, 0.5,  0.0, 0.0,  0.0, 0.0,  0.0, 0.0,  0.0, 0.0],\n",
       "[ 0.0, 0.0,  0.0, 0.0,  0.0, 0.0,  0.0, 0.0, -0.5, 0.0,  0.0, 0.0,  0.0, 0.0,  0.0, 0.0],\n",
       "[ 0.0, 0.0,  0.0, 0.0,  0.0, 0.0,  0.0, 0.0,  0.0, 0.5,  0.0, 0.0,  0.0, 0.0,  0.0, 0.0],\n",
       "[ 0.0, 0.0,  0.0, 0.0,  0.0, 0.0,  0.0, 0.0,  0.0, 0.0, -0.5, 0.0,  0.0, 0.0,  0.0, 0.0],\n",
       "[ 0.0, 0.0,  0.0, 0.0,  0.0, 0.0,  0.0, 0.0,  0.0, 0.0,  0.0, 0.5,  0.0, 0.0,  0.0, 0.0],\n",
       "[ 0.0, 0.0,  0.0, 0.0,  0.0, 0.0,  0.0, 0.0,  0.0, 0.0,  0.0, 0.0, -0.5, 0.0,  0.0, 0.0],\n",
       "[ 0.0, 0.0,  0.0, 0.0,  0.0, 0.0,  0.0, 0.0,  0.0, 0.0,  0.0, 0.0,  0.0, 0.5,  0.0, 0.0],\n",
       "[ 0.0, 0.0,  0.0, 0.0,  0.0, 0.0,  0.0, 0.0,  0.0, 0.0,  0.0, 0.0,  0.0, 0.0, -0.5, 0.0],\n",
       "[ 0.0, 0.0,  0.0, 0.0,  0.0, 0.0,  0.0, 0.0,  0.0, 0.0,  0.0, 0.0,  0.0, 0.0,  0.0, 0.5]])"
      ]
     },
     "metadata": {},
     "output_type": "display_data"
    },
    {
     "name": "stdout",
     "output_type": "stream",
     "text": [
      "From tensor (sig_x)\n"
     ]
    },
    {
     "data": {
      "text/latex": [
       "$\\displaystyle \\left[\\begin{array}{cccccccccccccccc}0.0 & 0.5 & 0.0 & 0.0 & 0.0 & 0.0 & 0.0 & 0.0 & 0.0 & 0.0 & 0.0 & 0.0 & 0.0 & 0.0 & 0.0 & 0.0\\\\0.5 & 0.0 & 0.0 & 0.0 & 0.0 & 0.0 & 0.0 & 0.0 & 0.0 & 0.0 & 0.0 & 0.0 & 0.0 & 0.0 & 0.0 & 0.0\\\\0.0 & 0.0 & 0.0 & 0.5 & 0.0 & 0.0 & 0.0 & 0.0 & 0.0 & 0.0 & 0.0 & 0.0 & 0.0 & 0.0 & 0.0 & 0.0\\\\0.0 & 0.0 & 0.5 & 0.0 & 0.0 & 0.0 & 0.0 & 0.0 & 0.0 & 0.0 & 0.0 & 0.0 & 0.0 & 0.0 & 0.0 & 0.0\\\\0.0 & 0.0 & 0.0 & 0.0 & 0.0 & 0.5 & 0.0 & 0.0 & 0.0 & 0.0 & 0.0 & 0.0 & 0.0 & 0.0 & 0.0 & 0.0\\\\0.0 & 0.0 & 0.0 & 0.0 & 0.5 & 0.0 & 0.0 & 0.0 & 0.0 & 0.0 & 0.0 & 0.0 & 0.0 & 0.0 & 0.0 & 0.0\\\\0.0 & 0.0 & 0.0 & 0.0 & 0.0 & 0.0 & 0.0 & 0.5 & 0.0 & 0.0 & 0.0 & 0.0 & 0.0 & 0.0 & 0.0 & 0.0\\\\0.0 & 0.0 & 0.0 & 0.0 & 0.0 & 0.0 & 0.5 & 0.0 & 0.0 & 0.0 & 0.0 & 0.0 & 0.0 & 0.0 & 0.0 & 0.0\\\\0.0 & 0.0 & 0.0 & 0.0 & 0.0 & 0.0 & 0.0 & 0.0 & 0.0 & 0.5 & 0.0 & 0.0 & 0.0 & 0.0 & 0.0 & 0.0\\\\0.0 & 0.0 & 0.0 & 0.0 & 0.0 & 0.0 & 0.0 & 0.0 & 0.5 & 0.0 & 0.0 & 0.0 & 0.0 & 0.0 & 0.0 & 0.0\\\\0.0 & 0.0 & 0.0 & 0.0 & 0.0 & 0.0 & 0.0 & 0.0 & 0.0 & 0.0 & 0.0 & 0.5 & 0.0 & 0.0 & 0.0 & 0.0\\\\0.0 & 0.0 & 0.0 & 0.0 & 0.0 & 0.0 & 0.0 & 0.0 & 0.0 & 0.0 & 0.5 & 0.0 & 0.0 & 0.0 & 0.0 & 0.0\\\\0.0 & 0.0 & 0.0 & 0.0 & 0.0 & 0.0 & 0.0 & 0.0 & 0.0 & 0.0 & 0.0 & 0.0 & 0.0 & 0.5 & 0.0 & 0.0\\\\0.0 & 0.0 & 0.0 & 0.0 & 0.0 & 0.0 & 0.0 & 0.0 & 0.0 & 0.0 & 0.0 & 0.0 & 0.5 & 0.0 & 0.0 & 0.0\\\\0.0 & 0.0 & 0.0 & 0.0 & 0.0 & 0.0 & 0.0 & 0.0 & 0.0 & 0.0 & 0.0 & 0.0 & 0.0 & 0.0 & 0.0 & 0.5\\\\0.0 & 0.0 & 0.0 & 0.0 & 0.0 & 0.0 & 0.0 & 0.0 & 0.0 & 0.0 & 0.0 & 0.0 & 0.0 & 0.0 & 0.5 & 0.0\\end{array}\\right]$"
      ],
      "text/plain": [
       "Matrix([\n",
       "[0.0, 0.5, 0.0, 0.0, 0.0, 0.0, 0.0, 0.0, 0.0, 0.0, 0.0, 0.0, 0.0, 0.0, 0.0, 0.0],\n",
       "[0.5, 0.0, 0.0, 0.0, 0.0, 0.0, 0.0, 0.0, 0.0, 0.0, 0.0, 0.0, 0.0, 0.0, 0.0, 0.0],\n",
       "[0.0, 0.0, 0.0, 0.5, 0.0, 0.0, 0.0, 0.0, 0.0, 0.0, 0.0, 0.0, 0.0, 0.0, 0.0, 0.0],\n",
       "[0.0, 0.0, 0.5, 0.0, 0.0, 0.0, 0.0, 0.0, 0.0, 0.0, 0.0, 0.0, 0.0, 0.0, 0.0, 0.0],\n",
       "[0.0, 0.0, 0.0, 0.0, 0.0, 0.5, 0.0, 0.0, 0.0, 0.0, 0.0, 0.0, 0.0, 0.0, 0.0, 0.0],\n",
       "[0.0, 0.0, 0.0, 0.0, 0.5, 0.0, 0.0, 0.0, 0.0, 0.0, 0.0, 0.0, 0.0, 0.0, 0.0, 0.0],\n",
       "[0.0, 0.0, 0.0, 0.0, 0.0, 0.0, 0.0, 0.5, 0.0, 0.0, 0.0, 0.0, 0.0, 0.0, 0.0, 0.0],\n",
       "[0.0, 0.0, 0.0, 0.0, 0.0, 0.0, 0.5, 0.0, 0.0, 0.0, 0.0, 0.0, 0.0, 0.0, 0.0, 0.0],\n",
       "[0.0, 0.0, 0.0, 0.0, 0.0, 0.0, 0.0, 0.0, 0.0, 0.5, 0.0, 0.0, 0.0, 0.0, 0.0, 0.0],\n",
       "[0.0, 0.0, 0.0, 0.0, 0.0, 0.0, 0.0, 0.0, 0.5, 0.0, 0.0, 0.0, 0.0, 0.0, 0.0, 0.0],\n",
       "[0.0, 0.0, 0.0, 0.0, 0.0, 0.0, 0.0, 0.0, 0.0, 0.0, 0.0, 0.5, 0.0, 0.0, 0.0, 0.0],\n",
       "[0.0, 0.0, 0.0, 0.0, 0.0, 0.0, 0.0, 0.0, 0.0, 0.0, 0.5, 0.0, 0.0, 0.0, 0.0, 0.0],\n",
       "[0.0, 0.0, 0.0, 0.0, 0.0, 0.0, 0.0, 0.0, 0.0, 0.0, 0.0, 0.0, 0.0, 0.5, 0.0, 0.0],\n",
       "[0.0, 0.0, 0.0, 0.0, 0.0, 0.0, 0.0, 0.0, 0.0, 0.0, 0.0, 0.0, 0.5, 0.0, 0.0, 0.0],\n",
       "[0.0, 0.0, 0.0, 0.0, 0.0, 0.0, 0.0, 0.0, 0.0, 0.0, 0.0, 0.0, 0.0, 0.0, 0.0, 0.5],\n",
       "[0.0, 0.0, 0.0, 0.0, 0.0, 0.0, 0.0, 0.0, 0.0, 0.0, 0.0, 0.0, 0.0, 0.0, 0.5, 0.0]])"
      ]
     },
     "metadata": {},
     "output_type": "display_data"
    },
    {
     "name": "stdout",
     "output_type": "stream",
     "text": [
      "From tensor (sig_z)\n"
     ]
    },
    {
     "data": {
      "text/latex": [
       "$\\displaystyle \\left[\\begin{array}{cccccccccccccccc}-0.5 & 0.0 & 0.0 & 0.0 & 0.0 & 0.0 & 0.0 & 0.0 & 0.0 & 0.0 & 0.0 & 0.0 & 0.0 & 0.0 & 0.0 & 0.0\\\\0.0 & 0.5 & 0.0 & 0.0 & 0.0 & 0.0 & 0.0 & 0.0 & 0.0 & 0.0 & 0.0 & 0.0 & 0.0 & 0.0 & 0.0 & 0.0\\\\0.0 & 0.0 & -0.5 & 0.0 & 0.0 & 0.0 & 0.0 & 0.0 & 0.0 & 0.0 & 0.0 & 0.0 & 0.0 & 0.0 & 0.0 & 0.0\\\\0.0 & 0.0 & 0.0 & 0.5 & 0.0 & 0.0 & 0.0 & 0.0 & 0.0 & 0.0 & 0.0 & 0.0 & 0.0 & 0.0 & 0.0 & 0.0\\\\0.0 & 0.0 & 0.0 & 0.0 & -0.5 & 0.0 & 0.0 & 0.0 & 0.0 & 0.0 & 0.0 & 0.0 & 0.0 & 0.0 & 0.0 & 0.0\\\\0.0 & 0.0 & 0.0 & 0.0 & 0.0 & 0.5 & 0.0 & 0.0 & 0.0 & 0.0 & 0.0 & 0.0 & 0.0 & 0.0 & 0.0 & 0.0\\\\0.0 & 0.0 & 0.0 & 0.0 & 0.0 & 0.0 & -0.5 & 0.0 & 0.0 & 0.0 & 0.0 & 0.0 & 0.0 & 0.0 & 0.0 & 0.0\\\\0.0 & 0.0 & 0.0 & 0.0 & 0.0 & 0.0 & 0.0 & 0.5 & 0.0 & 0.0 & 0.0 & 0.0 & 0.0 & 0.0 & 0.0 & 0.0\\\\0.0 & 0.0 & 0.0 & 0.0 & 0.0 & 0.0 & 0.0 & 0.0 & -0.5 & 0.0 & 0.0 & 0.0 & 0.0 & 0.0 & 0.0 & 0.0\\\\0.0 & 0.0 & 0.0 & 0.0 & 0.0 & 0.0 & 0.0 & 0.0 & 0.0 & 0.5 & 0.0 & 0.0 & 0.0 & 0.0 & 0.0 & 0.0\\\\0.0 & 0.0 & 0.0 & 0.0 & 0.0 & 0.0 & 0.0 & 0.0 & 0.0 & 0.0 & -0.5 & 0.0 & 0.0 & 0.0 & 0.0 & 0.0\\\\0.0 & 0.0 & 0.0 & 0.0 & 0.0 & 0.0 & 0.0 & 0.0 & 0.0 & 0.0 & 0.0 & 0.5 & 0.0 & 0.0 & 0.0 & 0.0\\\\0.0 & 0.0 & 0.0 & 0.0 & 0.0 & 0.0 & 0.0 & 0.0 & 0.0 & 0.0 & 0.0 & 0.0 & -0.5 & 0.0 & 0.0 & 0.0\\\\0.0 & 0.0 & 0.0 & 0.0 & 0.0 & 0.0 & 0.0 & 0.0 & 0.0 & 0.0 & 0.0 & 0.0 & 0.0 & 0.5 & 0.0 & 0.0\\\\0.0 & 0.0 & 0.0 & 0.0 & 0.0 & 0.0 & 0.0 & 0.0 & 0.0 & 0.0 & 0.0 & 0.0 & 0.0 & 0.0 & -0.5 & 0.0\\\\0.0 & 0.0 & 0.0 & 0.0 & 0.0 & 0.0 & 0.0 & 0.0 & 0.0 & 0.0 & 0.0 & 0.0 & 0.0 & 0.0 & 0.0 & 0.5\\end{array}\\right]$"
      ],
      "text/plain": [
       "Matrix([\n",
       "[-0.5, 0.0,  0.0, 0.0,  0.0, 0.0,  0.0, 0.0,  0.0, 0.0,  0.0, 0.0,  0.0, 0.0,  0.0, 0.0],\n",
       "[ 0.0, 0.5,  0.0, 0.0,  0.0, 0.0,  0.0, 0.0,  0.0, 0.0,  0.0, 0.0,  0.0, 0.0,  0.0, 0.0],\n",
       "[ 0.0, 0.0, -0.5, 0.0,  0.0, 0.0,  0.0, 0.0,  0.0, 0.0,  0.0, 0.0,  0.0, 0.0,  0.0, 0.0],\n",
       "[ 0.0, 0.0,  0.0, 0.5,  0.0, 0.0,  0.0, 0.0,  0.0, 0.0,  0.0, 0.0,  0.0, 0.0,  0.0, 0.0],\n",
       "[ 0.0, 0.0,  0.0, 0.0, -0.5, 0.0,  0.0, 0.0,  0.0, 0.0,  0.0, 0.0,  0.0, 0.0,  0.0, 0.0],\n",
       "[ 0.0, 0.0,  0.0, 0.0,  0.0, 0.5,  0.0, 0.0,  0.0, 0.0,  0.0, 0.0,  0.0, 0.0,  0.0, 0.0],\n",
       "[ 0.0, 0.0,  0.0, 0.0,  0.0, 0.0, -0.5, 0.0,  0.0, 0.0,  0.0, 0.0,  0.0, 0.0,  0.0, 0.0],\n",
       "[ 0.0, 0.0,  0.0, 0.0,  0.0, 0.0,  0.0, 0.5,  0.0, 0.0,  0.0, 0.0,  0.0, 0.0,  0.0, 0.0],\n",
       "[ 0.0, 0.0,  0.0, 0.0,  0.0, 0.0,  0.0, 0.0, -0.5, 0.0,  0.0, 0.0,  0.0, 0.0,  0.0, 0.0],\n",
       "[ 0.0, 0.0,  0.0, 0.0,  0.0, 0.0,  0.0, 0.0,  0.0, 0.5,  0.0, 0.0,  0.0, 0.0,  0.0, 0.0],\n",
       "[ 0.0, 0.0,  0.0, 0.0,  0.0, 0.0,  0.0, 0.0,  0.0, 0.0, -0.5, 0.0,  0.0, 0.0,  0.0, 0.0],\n",
       "[ 0.0, 0.0,  0.0, 0.0,  0.0, 0.0,  0.0, 0.0,  0.0, 0.0,  0.0, 0.5,  0.0, 0.0,  0.0, 0.0],\n",
       "[ 0.0, 0.0,  0.0, 0.0,  0.0, 0.0,  0.0, 0.0,  0.0, 0.0,  0.0, 0.0, -0.5, 0.0,  0.0, 0.0],\n",
       "[ 0.0, 0.0,  0.0, 0.0,  0.0, 0.0,  0.0, 0.0,  0.0, 0.0,  0.0, 0.0,  0.0, 0.5,  0.0, 0.0],\n",
       "[ 0.0, 0.0,  0.0, 0.0,  0.0, 0.0,  0.0, 0.0,  0.0, 0.0,  0.0, 0.0,  0.0, 0.0, -0.5, 0.0],\n",
       "[ 0.0, 0.0,  0.0, 0.0,  0.0, 0.0,  0.0, 0.0,  0.0, 0.0,  0.0, 0.0,  0.0, 0.0,  0.0, 0.5]])"
      ]
     },
     "metadata": {},
     "output_type": "display_data"
    }
   ],
   "source": [
    "from Algebra.Operator.operators_spin import _SIG_X, _SIG_Z, _SIG_0\n",
    "\n",
    "sig_x_op_mat = sig_x_op.matrix(dim = nh, matrix_type = 'sparse', use_numpy = True)\n",
    "sig_x_op_mat_kron = np.kron(eye_first, _SIG_X * 0.5)\n",
    "sig_z_op_mat = sig_z_op.matrix(dim = nh, matrix_type = 'sparse', use_numpy = True)\n",
    "sig_z_op_mat_kron = np.kron(eye_first, -_SIG_Z * 0.5)\n",
    "\n",
    "# compare the two\n",
    "is_equal = np.allclose(sig_x_op_mat.todense(), sig_x_op_mat_kron)\n",
    "print(\"Are the two matrices (sig_x) equal?\", is_equal)\n",
    "is_equal = np.allclose(sig_z_op_mat.todense(), sig_z_op_mat_kron)\n",
    "print(\"Are the two matrices (sig_z) equal?\", is_equal)\n",
    "\n",
    "if nh < 64:\n",
    "    from general_python.common.plot import MatrixPrinter\n",
    "    print(\"From the operator (sig_x)\")\n",
    "    MatrixPrinter.print_matrix(sig_x_op_mat.todense())\n",
    "    print(\"From the operator (sig_z)\")\n",
    "    MatrixPrinter.print_matrix(sig_z_op_mat.todense())\n",
    "    print(\"From tensor (sig_x)\")\n",
    "    MatrixPrinter.print_matrix(sig_x_op_mat_kron)\n",
    "    print(\"From tensor (sig_z)\")\n",
    "    MatrixPrinter.print_matrix(sig_z_op_mat_kron)"
   ]
  },
  {
   "cell_type": "markdown",
   "metadata": {},
   "source": [
    "###### With Hamiltonian"
   ]
  },
  {
   "cell_type": "markdown",
   "metadata": {},
   "source": [
    "###### Matrix"
   ]
  },
  {
   "cell_type": "code",
   "execution_count": 18,
   "metadata": {},
   "outputs": [
    {
     "name": "stderr",
     "output_type": "stream",
     "text": [
      "100%|██████████| 20/20 [00:01<00:00, 12.73it/s]\n",
      "100%|██████████| 20/20 [00:01<00:00, 11.25it/s]\n",
      "100%|██████████| 20/20 [00:01<00:00, 11.31it/s]\n",
      "100%|██████████| 10/10 [00:01<00:00,  8.79it/s]\n"
     ]
    }
   ],
   "source": [
    "from general_python.algebra.linalg import act, overlap\n",
    "from general_python.common.plot import Plotter, colorsCycle\n",
    "from general_python.maths.statistics import Statistics, HistogramAverage, Fraction\n",
    "from Algebra.Operator.operators_spin import sig_x, sig_z, OperatorTypeActing\n",
    "import matplotlib.pyplot as plt\n",
    "from tqdm import tqdm\n",
    "\n",
    "dtype           = 'float64'\n",
    "nrealizations   = (np.array([100, 100, 100, 50, 30, 20])/5).astype(int)\n",
    "alpha           = 0.86\n",
    "histograms_x    = {}\n",
    "histograms_z    = {}\n",
    "diagonals_x     = {}\n",
    "diagonals_z     = {}\n",
    "energies        = {}\n",
    "nss             = [6,7,8,9]\n",
    "\n",
    "# nss             = [9,10,11]\n",
    "# nrealizations   = [10]\n",
    "\n",
    "def set_histogram(hamiltonian, hist_sig_x: HistogramAverage, hist_sig_z: HistogramAverage, nbins):\n",
    "    bandwidth       = hamiltonian.get_bandwidth()\n",
    "    omax            = bandwidth * 3\n",
    "    omin            = 0.01 / hamiltonian.hilbert_size\n",
    "    tolerance       = 0.02 * bandwidth\n",
    "    hist_sig_x.reset(nbins=nbins)\n",
    "    hist_sig_x.uniform_log(v_max=omax, v_min=omin)\n",
    "    hist_sig_z.reset(nbins=nbins)\n",
    "    hist_sig_z.uniform_log(v_max=omax, v_min=omin)\n",
    "    return tolerance\n",
    "\n",
    "for ii, ns in enumerate(nss):\n",
    "    realizations    = nrealizations[ii] if ii < len(nrealizations) else nrealizations[-1]\n",
    "    energies[ns]    = []\n",
    "    diagonals_x[ns] = []\n",
    "    diagonals_z[ns] = []\n",
    "    nh              = 2**ns\n",
    "    sites           = [ns - 1]\n",
    "    # sites           = [0]\n",
    "    sig_x_op        = sig_x(ns = ns, type_act = OperatorTypeActing.Global, sites = sites, backend=backend)\n",
    "    sig_z_op        = sig_z(ns = ns, type_act = OperatorTypeActing.Global, sites = sites, backend=backend)\n",
    "    sig_x_op_mat    = sig_x_op.matrix(dim = nh, matrix_type = 'sparse', use_numpy = True)\n",
    "    sig_z_op_mat    = sig_z_op.matrix(dim = nh, matrix_type = 'sparse', use_numpy = True)\n",
    "    histogram_sig_x = HistogramAverage(dtype=dtype)\n",
    "    histogram_sig_z = HistogramAverage(dtype=dtype)\n",
    "    nbins           = int(20 * np.log2(nh))\n",
    "    tolerance       = 0.0\n",
    "    for realization in tqdm(range(realizations)):\n",
    "        # print(f\"Realization {realization + 1}/{nrealizations}\")\n",
    "        hamil       = QSM(ns=ns, hilbert_space=None, n=3, a=alpha, h=1.0, xi=0.2, backend = 'np', dtype='float64')\n",
    "        hamil.build(verbose=False, use_numpy=True)\n",
    "        hamil.diagonalize(verbose=False)\n",
    "        states      = hamil.eig_vec\n",
    "        eigvals     = hamil.eig_val\n",
    "        sig_x_elems = overlap(states, states, sig_x_op_mat, backend = backend)\n",
    "        sig_z_elems = overlap(states, states, sig_z_op_mat, backend = backend)\n",
    "        diag_sig_x  = sig_x_elems.diagonal()\n",
    "        diag_sig_z  = sig_z_elems.diagonal()\n",
    "        if realization == 0:\n",
    "            tolerance = set_histogram(hamil, histogram_sig_x, histogram_sig_z, nbins)\n",
    "        # get the average energy\n",
    "        energy_at       = hamil.av_en\n",
    "        # create the f_functions by taking the middle spectrum (%)\n",
    "        w, i_idx, j_idx = Fraction.spectral_function_fraction(eigvals, energy_at, tolerance)\n",
    "        # ones            = np.ones_like(sig_x_elems)\n",
    "        # ones[i_idx, j_idx] = 0\n",
    "        # plt.imshow(ones)\n",
    "        # fill the histogram\n",
    "        sig_x_changed   = np.abs(sig_x_elems[i_idx, j_idx])**2\n",
    "        sig_z_changed   = np.abs(sig_z_elems[i_idx, j_idx])**2\n",
    "        histogram_sig_x.append(w, np.abs(sig_x_elems[i_idx, j_idx])**2)\n",
    "        histogram_sig_z.append(w, np.abs(sig_z_elems[i_idx, j_idx])**2)\n",
    "        diagonals_x[ns].append(diag_sig_x)\n",
    "        diagonals_z[ns].append(diag_sig_z)\n",
    "        energies[ns].append(eigvals)\n",
    "    histograms_x[ns] = histogram_sig_x\n",
    "    histograms_z[ns] = histogram_sig_z\n",
    "    "
   ]
  },
  {
   "cell_type": "code",
   "execution_count": 19,
   "metadata": {},
   "outputs": [
    {
     "name": "stdout",
     "output_type": "stream",
     "text": [
      "ns = 6, gap_ratio = 0.5067111588185733\n",
      "ns = 7, gap_ratio = 0.5162954355070349\n",
      "ns = 8, gap_ratio = 0.5153687485021705\n",
      "ns = 9, gap_ratio = 0.5286536977883811\n"
     ]
    },
    {
     "data": {
      "image/png": "[encoded data removed]",
      "text/plain": [
       "<Figure size 750x750 with 4 Axes>"
      ]
     },
     "metadata": {},
     "output_type": "display_data"
    }
   ],
   "source": [
    "from general_python.physics.eigenlevels import gap_ratio\n",
    "fig, ax     = Plotter.get_subplots(nrows=2, ncols=2, sizex=5, sizey=5, dpi=150)\n",
    "\n",
    "# plot\n",
    "for ii, ns in enumerate(energies.keys()):\n",
    "    realizations = nrealizations[ii] if ii < len(nrealizations) else nrealizations[-1]\n",
    "    nh          = 2**ns\n",
    "    x           = energies[ns][0] / ns\n",
    "    # x           = np.arange(nh)\n",
    "    colors1, _, _= Plotter.get_colormap(nss, cmap='viridis')\n",
    "    colors2, _, _= Plotter.get_colormap(nss, cmap='plasma_r')\n",
    "    color1      = colors1(ns)\n",
    "    color2      = colors2(ns)\n",
    "    Plotter.scatter(ax[0], x, diagonals_x[ns][0], label=f'$L={ns}$', color=color1)\n",
    "    Plotter.scatter(ax[1], x, diagonals_z[ns][0], label=f'$L={ns}$', color=color2)\n",
    "    Plotter.set_ax_params(ax[0], xlabel='i/L', ylabel=r'$O_{ii}$', title='$\\sigma_x$')\n",
    "    Plotter.set_ax_params(ax[1], xlabel='i/L', ylabel=r'$O_{ii}$', title='$\\sigma_z$')\n",
    "\n",
    "    Plotter.scatter(ax[2], histograms_x[ns].bin_edges, histograms_x[ns].averages_av()*nh, label=f'$L={ns}$', color=color1)\n",
    "    Plotter.scatter(ax[3], histograms_z[ns].bin_edges, histograms_z[ns].averages_av()*nh, label=f'$L={ns}$', color=color2)\n",
    "    Plotter.set_ax_params(ax[2], xlabel=r'$\\omega$', \n",
    "        ylabel=r'$\\mathcal{D}|O_{ij}|^2$', scale={'x': 'log', 'y': 'log'})\n",
    "    Plotter.set_ax_params(ax[3], xlabel=r'$\\omega$', \n",
    "        ylabel=r'$\\mathcal{D}|O_{ij}|^2$', scale={'x': 'log', 'y': 'log'})\n",
    "    gap_ratios = [gap_ratio(energies[ns][i])['mean'] for i in range(realizations)]\n",
    "    print(f\"ns = {ns}, gap_ratio = {np.mean(gap_ratios)}\")\n",
    "    Plotter.set_legend(ax[2])\n",
    "fig.tight_layout()"
   ]
  },
  {
   "cell_type": "code",
   "execution_count": null,
   "metadata": {},
   "outputs": [
    {
     "name": "stdout",
     "output_type": "stream",
     "text": [
      "0.42084914016986524\n"
     ]
    }
   ],
   "source": [
    "\n",
    "d_en = np.diff(energies[8])\n",
    "d_en = d_en / np.mean(d_en)\n",
    "gap_ratios = np.minimum(d_en[:-1], d_en[1:]) / np.maximum(d_en[:-1], d_en[1:])\n",
    "print(np.mean(gap_ratios))\n"
   ]
  },
  {
   "cell_type": "markdown",
   "metadata": {},
   "source": [
    "# Linear algebra"
   ]
  },
  {
   "cell_type": "code",
   "execution_count": null,
   "metadata": {},
   "outputs": [],
   "source": [
    "import general_python.algebra as algebra\n",
    "a = algebra.AlgebraTests(backend='jax')\n",
    "b = algebra.AlgebraTests(backend='numpy')"
   ]
  },
  {
   "cell_type": "markdown",
   "metadata": {},
   "source": [
    "## Standard tests"
   ]
  },
  {
   "cell_type": "markdown",
   "metadata": {},
   "source": [
    "### Change the basis with a unitary matrix"
   ]
  },
  {
   "cell_type": "code",
   "execution_count": null,
   "metadata": {},
   "outputs": [],
   "source": [
    "a.change_basis(verbose=True)\n",
    "b.change_basis(verbose=True)"
   ]
  },
  {
   "cell_type": "markdown",
   "metadata": {},
   "source": [
    "### Change the basis of a matrix with a unitary matrix"
   ]
  },
  {
   "cell_type": "code",
   "execution_count": null,
   "metadata": {},
   "outputs": [],
   "source": [
    "a.change_basis_matrix(verbose=True)"
   ]
  },
  {
   "cell_type": "markdown",
   "metadata": {},
   "source": [
    "### Outer product"
   ]
  },
  {
   "cell_type": "code",
   "execution_count": null,
   "metadata": {},
   "outputs": [],
   "source": [
    "a.outer(verbose=True)\n",
    "b.outer(verbose=True)"
   ]
  },
  {
   "cell_type": "markdown",
   "metadata": {},
   "source": [
    "### Kronecker product"
   ]
  },
  {
   "cell_type": "code",
   "execution_count": null,
   "metadata": {},
   "outputs": [],
   "source": [
    "a.kron(verbose=True)"
   ]
  },
  {
   "cell_type": "markdown",
   "metadata": {},
   "source": [
    "## Linear solvers"
   ]
  },
  {
   "cell_type": "code",
   "execution_count": null,
   "metadata": {},
   "outputs": [],
   "source": [
    "a = algebra.SolversTests(backend='numpy')\n",
    "b = algebra.SolversTests(backend='jax')"
   ]
  },
  {
   "cell_type": "code",
   "execution_count": null,
   "metadata": {},
   "outputs": [],
   "source": [
    "a.solver_test()"
   ]
  },
  {
   "cell_type": "markdown",
   "metadata": {},
   "source": [
    "# Binary "
   ]
  },
  {
   "cell_type": "markdown",
   "metadata": {},
   "source": [
    "### Standard tests"
   ]
  },
  {
   "cell_type": "code",
   "execution_count": null,
   "metadata": {},
   "outputs": [],
   "source": [
    "from general_python.common import binary\n",
    "NUM         = 42\n",
    "tests       = binary.BinaryFunctionTests()"
   ]
  },
  {
   "cell_type": "code",
   "execution_count": null,
   "metadata": {},
   "outputs": [],
   "source": [
    "tests.run_tests(NUM, spin_value = binary._BACKENDREPR)"
   ]
  },
  {
   "cell_type": "code",
   "execution_count": null,
   "metadata": {},
   "outputs": [],
   "source": [
    "tests.run_tests(NUM, spin_value = binary._BACKENDREPR, backend = 'np')"
   ]
  },
  {
   "cell_type": "markdown",
   "metadata": {},
   "source": [
    "### Test JAX"
   ]
  },
  {
   "cell_type": "code",
   "execution_count": null,
   "metadata": {},
   "outputs": [],
   "source": [
    "from algebra import get_backend\n",
    "import time \n",
    "from jax import numpy as jnp, random as jnpr\n",
    "import numpy as np, numpy.random as npr\n",
    "from jax import jit\n",
    "\n",
    "seed = 1701\n",
    "\n",
    "# Test the speed of the matrix multiplication\n",
    "key_np = npr.seed(seed)\n",
    "key_jnp = jnpr.key(seed)\n",
    "size = 5000\n",
    "\n",
    "def matrix_mult_test_jax(size=size):\n",
    "    random_mat  = jnpr.normal(key_jnp, (size, size))\n",
    "    vec         = jnpr.normal(key_jnp, (size,))\n",
    "    result      = random_mat @ vec\n",
    "    print(\"Result of matrix-vector multiplication:\\n\", result)\n",
    "    \n",
    "def matrix_mult_test_numpy(size = size):\n",
    "    random_mat  = npr.normal(size=(size, size))\n",
    "    vec         = npr.normal(size=(size,))\n",
    "    result      = random_mat @ vec\n",
    "    print(\"Result of matrix-vector multiplication:\\n\", result)\n",
    "    \n",
    "@jit\n",
    "def matrix_mult_test_jax_jit():\n",
    "    random_mat  = jnpr.normal(key_jnp, (size, size))\n",
    "    vec         = jnpr.normal(key_jnp, (size,))\n",
    "    result      = random_mat @ vec\n",
    "    print(\"Result of matrix-vector multiplication:\\n\", result)\n"
   ]
  },
  {
   "cell_type": "markdown",
   "metadata": {},
   "source": [
    "#### Numpy"
   ]
  },
  {
   "cell_type": "code",
   "execution_count": null,
   "metadata": {},
   "outputs": [],
   "source": [
    "start_time = time.time()\n",
    "matrix_mult_test_numpy()\n",
    "end_time = time.time()\n",
    "print(f\"Time taken: {end_time - start_time:.4f} seconds (numpy)\")"
   ]
  },
  {
   "cell_type": "markdown",
   "metadata": {},
   "source": [
    "#### Jax"
   ]
  },
  {
   "cell_type": "code",
   "execution_count": null,
   "metadata": {},
   "outputs": [],
   "source": [
    "start_time = time.time()\n",
    "matrix_mult_test_jax()\n",
    "end_time = time.time()\n",
    "print(f\"Time taken: {end_time - start_time:.4f} seconds (jax)\")"
   ]
  },
  {
   "cell_type": "markdown",
   "metadata": {},
   "source": [
    "#### Jax jit"
   ]
  },
  {
   "cell_type": "code",
   "execution_count": null,
   "metadata": {},
   "outputs": [],
   "source": [
    "start_time = time.time()\n",
    "matrix_mult_test_jax_jit()\n",
    "end_time = time.time()  \n",
    "print(f\"Time taken: {end_time - start_time:.4f} seconds (jax, jitted)\")"
   ]
  },
  {
   "cell_type": "markdown",
   "metadata": {},
   "source": [
    "# Lattice\n"
   ]
  },
  {
   "cell_type": "code",
   "execution_count": null,
   "metadata": {},
   "outputs": [],
   "source": [
    "from lattices import Lattice, run_lattice_tests\n",
    "\n",
    "# Run tests for different configurations\n",
    "# run_lattice_tests(dim=1, lx=10, ly=1, lz=1, bc=lattices.LatticeBC.PBC, typek=\"square\")\n",
    "# run_lattice_tests(dim=2, lx=5, ly=3, lz=1, bc=lattices.LatticeBC.PBC, typek=\"square\")\n",
    "# run_lattice_tests(dim=2, lx=5, ly=5, lz=1, bc=lattices.LatticeBC.OBC, typek=\"square\")\n",
    "# run_lattice_tests(dim=3, lx=3, ly=3, lz=3, bc=lattices.LatticeBC.PBC, typek=\"square\")\n",
    "run_lattice_tests(dim=2, lx=3, ly=2, lz=1, bc=lattices.LatticeBC.PBC, typek=\"honeycomb\")"
   ]
  },
  {
   "cell_type": "code",
   "execution_count": null,
   "metadata": {},
   "outputs": [],
   "source": [
    "import numpy as np \n",
    "import matplotlib.pyplot as plt\n",
    "\n",
    "plt.figure(figsize=(8,8))\n",
    "\n",
    "a = 1\n",
    "b = 1\n",
    "c = 1\n",
    "\n",
    "Lx = 4\n",
    "Ly = 2\n",
    "Ns = 2 * Lx * Ly\n",
    "\n",
    "_a1 = np.array([np.sqrt(3) * a / 2.0, 3 * a / 2.0, 0])\n",
    "_a2 = np.array([np.sqrt(3) * a / 2.0, -3 * a / 2.0, 0])\n",
    "_a3 = np.array([0, 0, c])\n",
    "\n",
    "\n",
    "\n",
    "coords      = []\n",
    "move_vector = _a1 - np.array([0, a, 0])\n",
    "for i in range(Ns):\n",
    "    # get the unit cell on a square lattic\n",
    "    x = (i // 2) % Lx\n",
    "    y = ((i//2) // Lx) % Ly\n",
    "    \n",
    "    # from coorditates to position on the lattice\n",
    "    xy = np.array([0., 0, 0]) if i % 2 == 0 else move_vector\n",
    "    xy += x * (_a1 + _a2) + y * _a1\n",
    "    xp, yp = xy[0], xy[1]\n",
    "    print(xp, yp)\n",
    "    plt.scatter(xp, yp, color='red' if i % 2 == 0 else 'blue', marker='o', s=100, facecolor='none')\n",
    "    plt.text(xp + 0.1, yp + 0.1, i)\n",
    "    \n",
    "    print(\"Ns=\", i, \"-- (x,y)=\", x, y)\n",
    "\n",
    "\n",
    "plt.arrow(0, 0, _a1[0], _a1[1], head_width=0.1, head_length=0.1, fc='r', ec='r')\n",
    "plt.arrow(0, 0, _a2[0], _a2[1], head_width=0.1, head_length=0.1, fc='b', ec='b')\n",
    "# plt.arrow(0, 0, _a1[0] - _a2[0], _a1[1] - _a2[1], head_width=0.1, head_length=0.1, fc='g', ec='g')\n",
    "# plt.arrow(0, 0, _a1[0] + _a2[0], _a1[1] + _a2[1], head_width=0.1, head_length=0.1, fc='y', ec='y')\n",
    "# plt.arrow(0, 0, -_a1[0] + _a2[0], -_a1[1] + _a2[1], head_width=0.1, head_length=0.1, fc='m', ec='m')\n",
    "# plt.arrow(0, 0, -_a1[0] - _a2[0], -_a1[1] - _a2[1], head_width=0.1, head_length=0.1, fc='c', ec='c')\n"
   ]
  },
  {
   "cell_type": "code",
   "execution_count": null,
   "metadata": {},
   "outputs": [],
   "source": []
  },
  {
   "cell_type": "markdown",
   "metadata": {},
   "source": [
    "# NQS"
   ]
  },
  {
   "cell_type": "markdown",
   "metadata": {},
   "source": [
    "## Sampler"
   ]
  },
  {
   "cell_type": "code",
   "execution_count": 1,
   "metadata": {},
   "outputs": [
    {
     "name": "stderr",
     "output_type": "stream",
     "text": [
      "WARNING:jax._src.lib.xla_bridge:No GPU/TPU found, falling back to CPU. (Set TF_CPP_MIN_LOG_LEVEL=0 and rerun for more info.)\n"
     ]
    },
    {
     "name": "stdout",
     "output_type": "stream",
     "text": [
      "=== Backend Initialization ===\n",
      "\tNumPy Version: 1.26.4\n",
      "\tSciPy Version: 1.13.1\n",
      "\tJAX Version: Not Available\n",
      "\t\tActive Backend: jax\n",
      "\t\tJAX Available: True\n",
      "\t\tDefault Random Key: [    0 12345]\n",
      "\tActive Backend Modules:\n",
      "\t\t\tMain Module: <module 'jax.numpy' from '/home/klimak/libraries/anaconda3/lib/python3.11/site-packages/jax/numpy/__init__.py'>\n",
      "\t\t\tRandom Module: <module 'jax.random' from '/home/klimak/libraries/anaconda3/lib/python3.11/site-packages/jax/random.py'>\n",
      "\t\t\tSciPy Module: <module 'jax.scipy' from '/home/klimak/libraries/anaconda3/lib/python3.11/site-packages/jax/scipy/__init__.py'>\n",
      "=== End of Backend Info ===\n"
     ]
    },
    {
     "data": {
      "text/plain": [
       "MCSampler(shape=(4,), mu=2.0, beta=1.0, therm_steps=1, sweep_steps=8, numsamples=5, numchains=5, backend=jax)"
      ]
     },
     "execution_count": 1,
     "metadata": {},
     "output_type": "execute_result"
    }
   ],
   "source": [
    "import Solver.MonteCarlo.sampler as Sampling\n",
    "from general_python.algebra.utils import get_backend\n",
    "from general_python.ml.net_simple import SimpleNet\n",
    "\n",
    "import random\n",
    "import numpy as np\n",
    "\n",
    "# get random backend\n",
    "backend     = 'jax'\n",
    "seed        = 1701\n",
    "be_modules  = get_backend(backend, random=True, seed=seed, scipy=True)\n",
    "backend_np, (rng, rng_k), backend_sp = be_modules if isinstance(be_modules, tuple) else (be_modules, (None, None), None)\n",
    "\n",
    "ns                  = 4\n",
    "st_shape            = (ns, )\n",
    "activations         = ('relu', 'sigmoid')\n",
    "net                 = SimpleNet(act_fun =   activations, \n",
    "                        input_shape     =   st_shape, \n",
    "                        output_shape    =   (1, ),\n",
    "                        layers          =   (5, ),\n",
    "                        backend=backend, dtype='complex128',)\n",
    "            # [random.random() + 1j * random.random() for _ in range(x.shape[0])])\n",
    "# a simple callable network function\n",
    "\n",
    "sampler = Sampling.MCSampler(\n",
    "    net         = net,\n",
    "    shape       = st_shape,\n",
    "    rng         = rng,\n",
    "    rng_k       = rng_k,\n",
    "    numchains   = 5,\n",
    "    numsamples  = 5,\n",
    "    sweep_steps = 8,\n",
    "    backend     = backend,\n",
    "    therm_steps = 1,\n",
    ")\n",
    "\n",
    "sampler"
   ]
  },
  {
   "cell_type": "code",
   "execution_count": 3,
   "metadata": {},
   "outputs": [],
   "source": [
    "# check how the sampler performs\n",
    "(states, logprobas), (configs, configs_ansatze), probabilities = sampler.sample()"
   ]
  },
  {
   "cell_type": "code",
   "execution_count": 4,
   "metadata": {},
   "outputs": [
    {
     "data": {
      "text/plain": [
       "(DeviceArray([[ 0.5,  0.5,  0.5,  0.5],\n",
       "              [ 0.5, -0.5,  0.5,  0.5],\n",
       "              [-0.5, -0.5,  0.5, -0.5],\n",
       "              [-0.5,  0.5, -0.5, -0.5],\n",
       "              [ 0.5, -0.5, -0.5,  0.5]], dtype=float64),\n",
       " DeviceArray([[-0.04465321+0.02312861j],\n",
       "              [ 1.25693115+1.25734512j],\n",
       "              [-0.05892653+0.28151069j],\n",
       "              [ 0.33469505+0.03856764j],\n",
       "              [ 0.49790359+0.01434551j]], dtype=complex128))"
      ]
     },
     "execution_count": 4,
     "metadata": {},
     "output_type": "execute_result"
    }
   ],
   "source": [
    "# final states after sampling, ansatze after sampling\n",
    "states, logprobas"
   ]
  },
  {
   "cell_type": "code",
   "execution_count": 5,
   "metadata": {},
   "outputs": [
    {
     "name": "stdout",
     "output_type": "stream",
     "text": [
      "Detailed flow of the configurations:\n",
      "Number of configurations: 5\n",
      "Number of states: 5\n",
      "Number of probabilities: 5\n",
      "--- Configuration 0 ---\n",
      "Spin Configuration:\n",
      "[[-0.5 -0.5 -0.5 -0.5]\n",
      " [ 0.5 -0.5 -0.5 -0.5]\n",
      " [-0.5 -0.5  0.5  0.5]\n",
      " [ 0.5  0.5 -0.5  0.5]\n",
      " [ 0.5  0.5 -0.5 -0.5]]\n",
      "\n",
      "Ansatz:\n",
      "[[ 0.33861153+0.15002221j]\n",
      " [ 0.41089359+0.05104086j]\n",
      " [-0.1556691 +0.15240598j]\n",
      " [ 0.11743716-0.03818093j]\n",
      " [ 0.17293854+0.07735697j]]\n",
      "\n",
      "Probability:\n",
      "[1.]\n",
      "\n",
      "-------------------------\n",
      "\n",
      "--- Configuration 1 ---\n",
      "Spin Configuration:\n",
      "[[ 0.5  0.5 -0.5  0.5]\n",
      " [ 0.5 -0.5  0.5 -0.5]\n",
      " [-0.5 -0.5  0.5  0.5]\n",
      " [-0.5  0.5 -0.5  0.5]\n",
      " [ 0.5 -0.5  0.5 -0.5]]\n",
      "\n",
      "Ansatz:\n",
      "[[ 0.11743716-0.03818093j]\n",
      " [ 0.56291345+0.5846243j ]\n",
      " [-0.1556691 +0.15240598j]\n",
      " [ 0.09761571-0.12851962j]\n",
      " [ 0.56291345+0.5846243j ]]\n",
      "\n",
      "Probability:\n",
      "[1.]\n",
      "\n",
      "-------------------------\n",
      "\n",
      "--- Configuration 2 ---\n",
      "Spin Configuration:\n",
      "[[ 0.5  0.5  0.5  0.5]\n",
      " [ 0.5 -0.5 -0.5 -0.5]\n",
      " [ 0.5 -0.5  0.5 -0.5]\n",
      " [ 0.5  0.5  0.5  0.5]\n",
      " [ 0.5 -0.5  0.5 -0.5]]\n",
      "\n",
      "Ansatz:\n",
      "[[-0.04465321+0.02312861j]\n",
      " [ 0.41089359+0.05104086j]\n",
      " [ 0.56291345+0.5846243j ]\n",
      " [-0.04465321+0.02312861j]\n",
      " [ 0.56291345+0.5846243j ]]\n",
      "\n",
      "Probability:\n",
      "[1.]\n",
      "\n",
      "-------------------------\n",
      "\n",
      "--- Configuration 3 ---\n",
      "Spin Configuration:\n",
      "[[ 0.5  0.5  0.5  0.5]\n",
      " [ 0.5 -0.5  0.5  0.5]\n",
      " [ 0.5  0.5 -0.5  0.5]\n",
      " [ 0.5 -0.5  0.5 -0.5]\n",
      " [ 0.5 -0.5  0.5  0.5]]\n",
      "\n",
      "Ansatz:\n",
      "[[-0.04465321+0.02312861j]\n",
      " [ 1.25693115+1.25734512j]\n",
      " [ 0.11743716-0.03818093j]\n",
      " [ 0.56291345+0.5846243j ]\n",
      " [ 1.25693115+1.25734512j]]\n",
      "\n",
      "Probability:\n",
      "[1.]\n",
      "\n",
      "-------------------------\n",
      "\n",
      "--- Configuration 4 ---\n",
      "Spin Configuration:\n",
      "[[ 0.5  0.5  0.5  0.5]\n",
      " [ 0.5 -0.5  0.5  0.5]\n",
      " [-0.5 -0.5  0.5 -0.5]\n",
      " [-0.5  0.5 -0.5 -0.5]\n",
      " [ 0.5 -0.5 -0.5  0.5]]\n",
      "\n",
      "Ansatz:\n",
      "[[-0.04465321+0.02312861j]\n",
      " [ 1.25693115+1.25734512j]\n",
      " [-0.05892653+0.28151069j]\n",
      " [ 0.33469505+0.03856764j]\n",
      " [ 0.49790359+0.01434551j]]\n",
      "\n",
      "Probability:\n",
      "[1.]\n",
      "\n",
      "-------------------------\n",
      "\n"
     ]
    }
   ],
   "source": [
    "# Detailed flow of the configurations\n",
    "\n",
    "print(\"Detailed flow of the configurations:\")\n",
    "print(\"Number of configurations:\", len(configs))\n",
    "print(\"Number of states:\", len(states))\n",
    "print(\"Number of probabilities:\", len(probabilities))\n",
    "\n",
    "# Print the configurations, ansatze, and probabilities\n",
    "for i in range(len(configs)):\n",
    "    print(f\"--- Configuration {i} ---\")\n",
    "    print(\"Spin Configuration:\")\n",
    "    print(configs[i])\n",
    "    print(\"\\nAnsatz:\")\n",
    "    print(configs_ansatze[i])\n",
    "    print(\"\\nProbability:\")\n",
    "    print(probabilities[i])\n",
    "    print(\"\\n-------------------------\\n\")"
   ]
  },
  {
   "cell_type": "code",
   "execution_count": 6,
   "metadata": {},
   "outputs": [
    {
     "name": "stdout",
     "output_type": "stream",
     "text": [
      "Detailed flow of the configurations:\n",
      "Number of configurations: 25\n",
      "--- Configuration 0 ---\n",
      "Spin Configuration:\n",
      "[-0.5 -0.5 -0.5 -0.5]\n",
      "\n",
      "Ansatz:\n",
      "(0.33861152873176054+0.1500222055275736j)\n",
      "Ansatz from the network:\n",
      "[0.33861153+0.15002221j]\n",
      "Is the ansatz from the network the same as the one from the sampler?\n",
      "True\n",
      "\n",
      "-------------------------\n",
      "\n",
      "--- Configuration 1 ---\n",
      "Spin Configuration:\n",
      "[ 0.5 -0.5 -0.5 -0.5]\n",
      "\n",
      "Ansatz:\n",
      "(0.41089359143789356+0.05104085664883663j)\n",
      "Ansatz from the network:\n",
      "[0.41089359+0.05104086j]\n",
      "Is the ansatz from the network the same as the one from the sampler?\n",
      "True\n",
      "\n",
      "-------------------------\n",
      "\n",
      "--- Configuration 2 ---\n",
      "Spin Configuration:\n",
      "[-0.5 -0.5  0.5  0.5]\n",
      "\n",
      "Ansatz:\n",
      "(-0.15566909705231016+0.1524059754337941j)\n",
      "Ansatz from the network:\n",
      "[-0.1556691+0.15240598j]\n",
      "Is the ansatz from the network the same as the one from the sampler?\n",
      "True\n",
      "\n",
      "-------------------------\n",
      "\n",
      "--- Configuration 3 ---\n",
      "Spin Configuration:\n",
      "[ 0.5  0.5 -0.5  0.5]\n",
      "\n",
      "Ansatz:\n",
      "(0.11743716169291205-0.03818092517761466j)\n",
      "Ansatz from the network:\n",
      "[0.11743716-0.03818093j]\n",
      "Is the ansatz from the network the same as the one from the sampler?\n",
      "True\n",
      "\n",
      "-------------------------\n",
      "\n",
      "--- Configuration 4 ---\n",
      "Spin Configuration:\n",
      "[ 0.5  0.5 -0.5 -0.5]\n",
      "\n",
      "Ansatz:\n",
      "(0.17293854190585672+0.0773569745050655j)\n",
      "Ansatz from the network:\n",
      "[0.17293854+0.07735697j]\n",
      "Is the ansatz from the network the same as the one from the sampler?\n",
      "True\n",
      "\n",
      "-------------------------\n",
      "\n",
      "--- Configuration 5 ---\n",
      "Spin Configuration:\n",
      "[ 0.5  0.5 -0.5  0.5]\n",
      "\n",
      "Ansatz:\n",
      "(0.11743716169291205-0.03818092517761466j)\n",
      "Ansatz from the network:\n",
      "[0.11743716-0.03818093j]\n",
      "Is the ansatz from the network the same as the one from the sampler?\n",
      "True\n",
      "\n",
      "-------------------------\n",
      "\n",
      "--- Configuration 6 ---\n",
      "Spin Configuration:\n",
      "[ 0.5 -0.5  0.5 -0.5]\n",
      "\n",
      "Ansatz:\n",
      "(0.5629134545546458+0.5846242987988108j)\n",
      "Ansatz from the network:\n",
      "[0.56291345+0.5846243j]\n",
      "Is the ansatz from the network the same as the one from the sampler?\n",
      "True\n",
      "\n",
      "-------------------------\n",
      "\n",
      "--- Configuration 7 ---\n",
      "Spin Configuration:\n",
      "[-0.5 -0.5  0.5  0.5]\n",
      "\n",
      "Ansatz:\n",
      "(-0.15566909705231016+0.1524059754337941j)\n",
      "Ansatz from the network:\n",
      "[-0.1556691+0.15240598j]\n",
      "Is the ansatz from the network the same as the one from the sampler?\n",
      "True\n",
      "\n",
      "-------------------------\n",
      "\n",
      "--- Configuration 8 ---\n",
      "Spin Configuration:\n",
      "[-0.5  0.5 -0.5  0.5]\n",
      "\n",
      "Ansatz:\n",
      "(0.09761570870102844-0.12851962375280138j)\n",
      "Ansatz from the network:\n",
      "[0.09761571-0.12851962j]\n",
      "Is the ansatz from the network the same as the one from the sampler?\n",
      "True\n",
      "\n",
      "-------------------------\n",
      "\n",
      "--- Configuration 9 ---\n",
      "Spin Configuration:\n",
      "[ 0.5 -0.5  0.5 -0.5]\n",
      "\n",
      "Ansatz:\n",
      "(0.5629134545546458+0.5846242987988108j)\n",
      "Ansatz from the network:\n",
      "[0.56291345+0.5846243j]\n",
      "Is the ansatz from the network the same as the one from the sampler?\n",
      "True\n",
      "\n",
      "-------------------------\n",
      "\n",
      "--- Configuration 10 ---\n",
      "Spin Configuration:\n",
      "[0.5 0.5 0.5 0.5]\n",
      "\n",
      "Ansatz:\n",
      "(-0.0446532095451013+0.023128610324954404j)\n",
      "Ansatz from the network:\n",
      "[-0.04465321+0.02312861j]\n",
      "Is the ansatz from the network the same as the one from the sampler?\n",
      "True\n",
      "\n",
      "-------------------------\n",
      "\n",
      "--- Configuration 11 ---\n",
      "Spin Configuration:\n",
      "[ 0.5 -0.5 -0.5 -0.5]\n",
      "\n",
      "Ansatz:\n",
      "(0.41089359143789356+0.05104085664883663j)\n",
      "Ansatz from the network:\n",
      "[0.41089359+0.05104086j]\n",
      "Is the ansatz from the network the same as the one from the sampler?\n",
      "True\n",
      "\n",
      "-------------------------\n",
      "\n",
      "--- Configuration 12 ---\n",
      "Spin Configuration:\n",
      "[ 0.5 -0.5  0.5 -0.5]\n",
      "\n",
      "Ansatz:\n",
      "(0.5629134545546458+0.5846242987988108j)\n",
      "Ansatz from the network:\n",
      "[0.56291345+0.5846243j]\n",
      "Is the ansatz from the network the same as the one from the sampler?\n",
      "True\n",
      "\n",
      "-------------------------\n",
      "\n",
      "--- Configuration 13 ---\n",
      "Spin Configuration:\n",
      "[0.5 0.5 0.5 0.5]\n",
      "\n",
      "Ansatz:\n",
      "(-0.0446532095451013+0.023128610324954404j)\n",
      "Ansatz from the network:\n",
      "[-0.04465321+0.02312861j]\n",
      "Is the ansatz from the network the same as the one from the sampler?\n",
      "True\n",
      "\n",
      "-------------------------\n",
      "\n",
      "--- Configuration 14 ---\n",
      "Spin Configuration:\n",
      "[ 0.5 -0.5  0.5 -0.5]\n",
      "\n",
      "Ansatz:\n",
      "(0.5629134545546458+0.5846242987988108j)\n",
      "Ansatz from the network:\n",
      "[0.56291345+0.5846243j]\n",
      "Is the ansatz from the network the same as the one from the sampler?\n",
      "True\n",
      "\n",
      "-------------------------\n",
      "\n",
      "--- Configuration 15 ---\n",
      "Spin Configuration:\n",
      "[0.5 0.5 0.5 0.5]\n",
      "\n",
      "Ansatz:\n",
      "(-0.0446532095451013+0.023128610324954404j)\n",
      "Ansatz from the network:\n",
      "[-0.04465321+0.02312861j]\n",
      "Is the ansatz from the network the same as the one from the sampler?\n",
      "True\n",
      "\n",
      "-------------------------\n",
      "\n",
      "--- Configuration 16 ---\n",
      "Spin Configuration:\n",
      "[ 0.5 -0.5  0.5  0.5]\n",
      "\n",
      "Ansatz:\n",
      "(1.2569311475772864+1.2573451208300719j)\n",
      "Ansatz from the network:\n",
      "[1.25693115+1.25734512j]\n",
      "Is the ansatz from the network the same as the one from the sampler?\n",
      "True\n",
      "\n",
      "-------------------------\n",
      "\n",
      "--- Configuration 17 ---\n",
      "Spin Configuration:\n",
      "[ 0.5  0.5 -0.5  0.5]\n",
      "\n",
      "Ansatz:\n",
      "(0.11743716169291205-0.03818092517761466j)\n",
      "Ansatz from the network:\n",
      "[0.11743716-0.03818093j]\n",
      "Is the ansatz from the network the same as the one from the sampler?\n",
      "True\n",
      "\n",
      "-------------------------\n",
      "\n",
      "--- Configuration 18 ---\n",
      "Spin Configuration:\n",
      "[ 0.5 -0.5  0.5 -0.5]\n",
      "\n",
      "Ansatz:\n",
      "(0.5629134545546458+0.5846242987988108j)\n",
      "Ansatz from the network:\n",
      "[0.56291345+0.5846243j]\n",
      "Is the ansatz from the network the same as the one from the sampler?\n",
      "True\n",
      "\n",
      "-------------------------\n",
      "\n",
      "--- Configuration 19 ---\n",
      "Spin Configuration:\n",
      "[ 0.5 -0.5  0.5  0.5]\n",
      "\n",
      "Ansatz:\n",
      "(1.2569311475772864+1.2573451208300719j)\n",
      "Ansatz from the network:\n",
      "[1.25693115+1.25734512j]\n",
      "Is the ansatz from the network the same as the one from the sampler?\n",
      "True\n",
      "\n",
      "-------------------------\n",
      "\n",
      "--- Configuration 20 ---\n",
      "Spin Configuration:\n",
      "[0.5 0.5 0.5 0.5]\n",
      "\n",
      "Ansatz:\n",
      "(-0.0446532095451013+0.023128610324954404j)\n",
      "Ansatz from the network:\n",
      "[-0.04465321+0.02312861j]\n",
      "Is the ansatz from the network the same as the one from the sampler?\n",
      "True\n",
      "\n",
      "-------------------------\n",
      "\n",
      "--- Configuration 21 ---\n",
      "Spin Configuration:\n",
      "[ 0.5 -0.5  0.5  0.5]\n",
      "\n",
      "Ansatz:\n",
      "(1.2569311475772864+1.2573451208300719j)\n",
      "Ansatz from the network:\n",
      "[1.25693115+1.25734512j]\n",
      "Is the ansatz from the network the same as the one from the sampler?\n",
      "True\n",
      "\n",
      "-------------------------\n",
      "\n",
      "--- Configuration 22 ---\n",
      "Spin Configuration:\n",
      "[-0.5 -0.5  0.5 -0.5]\n",
      "\n",
      "Ansatz:\n",
      "(-0.05892653198072612+0.2815106946568324j)\n",
      "Ansatz from the network:\n",
      "[-0.05892653+0.28151069j]\n",
      "Is the ansatz from the network the same as the one from the sampler?\n",
      "True\n",
      "\n",
      "-------------------------\n",
      "\n",
      "--- Configuration 23 ---\n",
      "Spin Configuration:\n",
      "[-0.5  0.5 -0.5 -0.5]\n",
      "\n",
      "Ansatz:\n",
      "(0.33469504843457276+0.0385676366389705j)\n",
      "Ansatz from the network:\n",
      "[0.33469505+0.03856764j]\n",
      "Is the ansatz from the network the same as the one from the sampler?\n",
      "True\n",
      "\n",
      "-------------------------\n",
      "\n",
      "--- Configuration 24 ---\n",
      "Spin Configuration:\n",
      "[ 0.5 -0.5 -0.5  0.5]\n",
      "\n",
      "Ansatz:\n",
      "(0.49790359108898996+0.014345507572456062j)\n",
      "Ansatz from the network:\n",
      "[0.49790359+0.01434551j]\n",
      "Is the ansatz from the network the same as the one from the sampler?\n",
      "True\n",
      "\n",
      "-------------------------\n",
      "\n"
     ]
    }
   ],
   "source": [
    "# flatten the configurations so that I have an array of samples x original shape\n",
    "configs.shape\n",
    "configs_flat = configs.reshape(-1, st_shape[0])\n",
    "configs_flat.shape\n",
    "# the same for the ansatze but knowing that each sample has only single ansatz\n",
    "configs_ansatze_flat = configs_ansatze.reshape(-1)\n",
    "configs_ansatze_flat.shape\n",
    "\n",
    "print(\"Detailed flow of the configurations:\")\n",
    "print(\"Number of configurations:\", len(configs_flat))\n",
    "\n",
    "# Print the configurations, ansatze, and probabilities\n",
    "for i in range(len(configs_flat)):\n",
    "    print(f\"--- Configuration {i} ---\")\n",
    "    print(\"Spin Configuration:\")\n",
    "    print(configs_flat[i])\n",
    "    print(\"\\nAnsatz:\")\n",
    "    print(configs_ansatze_flat[i])\n",
    "    # check the ansatz from the network\n",
    "    ansatz = net(configs_flat[i])\n",
    "    print(\"Ansatz from the network:\")\n",
    "    print(ansatz)\n",
    "    # check whether it's the same\n",
    "    print(\"Is the ansatz from the network the same as the one from the sampler?\")\n",
    "    print(np.allclose(ansatz, configs_ansatze_flat[i]))\n",
    "    print(\"\\n-------------------------\\n\")\n"
   ]
  },
  {
   "cell_type": "markdown",
   "metadata": {},
   "source": []
  }
 ],
 "metadata": {
  "kernelspec": {
   "display_name": "base",
   "language": "python",
   "name": "python3"
  },
  "language_info": {
   "codemirror_mode": {
    "name": "ipython",
    "version": 3
   },
   "file_extension": ".py",
   "mimetype": "text/x-python",
   "name": "python",
   "nbconvert_exporter": "python",
   "pygments_lexer": "ipython3",
   "version": "3.11.5"
  }
 },
 "nbformat": 4,
 "nbformat_minor": 2
}
