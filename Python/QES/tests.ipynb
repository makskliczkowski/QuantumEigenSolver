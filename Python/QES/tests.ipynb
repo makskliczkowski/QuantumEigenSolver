{
 "cells": [
  {
   "cell_type": "code",
   "execution_count": 1,
   "metadata": {},
   "outputs": [],
   "source": [
    "import sys\n",
    "import os\n",
    "\n",
    "# Add the parent directory (project root) to sys.path\n",
    "project_root = os.path.abspath(os.path.join(os.getcwd(), \"../..\"))\n",
    "if project_root not in sys.path:\n",
    "    sys.path.insert(0, project_root)"
   ]
  },
  {
   "cell_type": "markdown",
   "metadata": {},
   "source": [
    "# Randomness"
   ]
  },
  {
   "cell_type": "markdown",
   "metadata": {},
   "source": [
    "## JAX"
   ]
  },
  {
   "cell_type": "code",
   "execution_count": 3,
   "metadata": {},
   "outputs": [
    {
     "name": "stdout",
     "output_type": "stream",
     "text": [
      "backend: <module 'numpy' from '/Users/makskliczkowski/miniconda3/lib/python3.12/site-packages/numpy/__init__.py'>\n",
      "key: None\n",
      "rnd_module: Generator(PCG64)\n",
      "rnd_module.random(): 0.9034540068082391\n",
      "rnd_module.randint(0, 10): 9\n",
      "rnd_module.uniform(0, 10): 2.5707417527653433\n",
      "rnd_module.normal(0, 1): -1.1082144670930707\n",
      "uniform(0, 10): [2.58853399 3.5544648  0.05022334 6.28604544 2.82382707]\n",
      "\n",
      "backend: <module 'numpy' from '/Users/makskliczkowski/miniconda3/lib/python3.12/site-packages/numpy/__init__.py'>\n",
      "key: None\n",
      "rnd_module: Generator(PCG64)\n",
      "rnd_module.random(): 0.06808768948794575\n",
      "rnd_module.randint(0, 10): 5\n",
      "rnd_module.uniform(0, 10): 1.7632632028120343\n",
      "rnd_module.normal(0, 1): 0.618350014800829\n",
      "uniform(0, 10): [4.40886811 1.50202341 2.17928863 4.74333115 4.76368855]\n",
      "\n",
      "backend: <module 'numpy' from '/Users/makskliczkowski/miniconda3/lib/python3.12/site-packages/numpy/__init__.py'>\n",
      "key: None\n",
      "rnd_module: Generator(PCG64)\n",
      "rnd_module.random(): 0.25523235381950027\n",
      "rnd_module.randint(0, 10): 6\n",
      "rnd_module.uniform(0, 10): 2.9756526814804807\n",
      "rnd_module.normal(0, 1): -0.4148537610713306\n",
      "uniform(0, 10): [2.60579212 4.82761593 2.11979036 4.95630597 2.46261326]\n",
      "\n",
      "backend: <module 'numpy' from '/Users/makskliczkowski/miniconda3/lib/python3.12/site-packages/numpy/__init__.py'>\n",
      "key: None\n",
      "rnd_module: Generator(PCG64)\n",
      "rnd_module.random(): 0.8384826524669448\n",
      "rnd_module.randint(0, 10): 4\n",
      "rnd_module.uniform(0, 10): 8.621562915092365\n",
      "rnd_module.normal(0, 1): -1.0954253073243774\n",
      "uniform(0, 10): [7.50531332 6.11120404 2.09155035 7.59872421 2.4926057 ]\n",
      "\n",
      "backend: <module 'numpy' from '/Users/makskliczkowski/miniconda3/lib/python3.12/site-packages/numpy/__init__.py'>\n",
      "key: None\n",
      "rnd_module: Generator(PCG64)\n",
      "rnd_module.random(): 0.08557173198655799\n",
      "rnd_module.randint(0, 10): 1\n",
      "rnd_module.uniform(0, 10): 6.180567223180909\n",
      "rnd_module.normal(0, 1): 0.38657901734760186\n",
      "uniform(0, 10): [6.34526711 1.74374109 2.4816449  6.84822985 0.80871646]\n",
      "\n"
     ]
    }
   ],
   "source": [
    "from general_python.algebra.utils import get_backend as __backend\n",
    "from general_python.algebra.ran_wrapper import uniform, randint\n",
    "# test random\n",
    "seed    = None\n",
    "backend = 'np'\n",
    "for i in range(5):\n",
    "    modules = __backend(backend, random=True, seed=seed)\n",
    "    backend, (rnd_module, key) = modules if isinstance(modules, tuple) else (modules, (None, None))\n",
    "    print(f\"backend: {backend}\")\n",
    "    print(f\"key: {key}\")\n",
    "    print(f\"rnd_module: {rnd_module}\")\n",
    "    print(f\"rnd_module.random(): {rnd_module.random()}\")\n",
    "    print(f\"rnd_module.randint(0, 10): {rnd_module.integers(0, 10)}\")\n",
    "    print(f\"rnd_module.uniform(0, 10): {rnd_module.uniform(0, 10)}\")\n",
    "    print(f\"rnd_module.normal(0, 1): {rnd_module.normal(0, 1)}\")\n",
    "    # take the function from random wrapper\n",
    "    print(f\"uniform(0, 10): {uniform(shape=(5,),minval=0, maxval=10, backend=backend, seed=seed)}\")\n",
    "    print()"
   ]
  },
  {
   "cell_type": "markdown",
   "metadata": {},
   "source": [
    "# Models"
   ]
  },
  {
   "cell_type": "markdown",
   "metadata": {},
   "source": [
    "## Heisenberg - Kitaev model"
   ]
  },
  {
   "cell_type": "code",
   "execution_count": 1,
   "metadata": {},
   "outputs": [
    {
     "name": "stdout",
     "output_type": "stream",
     "text": [
      "=== Backend Initialization ===\n",
      "\tNumPy Version: 1.26.4\n",
      "\tSciPy Version: 1.13.1\n",
      "\tJAX Version: Not Available\n",
      "\t\tActive Backend: jax\n",
      "\t\tJAX Available: True\n",
      "\t\tDefault Random Key: [    0 12345]\n",
      "\tActive Backend Modules:\n",
      "\t\t\tMain Module: <module 'jax.numpy' from '/Users/makskliczkowski/miniconda3/lib/python3.12/site-packages/jax/numpy/__init__.py'>\n",
      "\t\t\tRandom Module: <module 'jax.random' from '/Users/makskliczkowski/miniconda3/lib/python3.12/site-packages/jax/random.py'>\n",
      "\t\t\tSciPy Module: <module 'jax.scipy' from '/Users/makskliczkowski/miniconda3/lib/python3.12/site-packages/jax/scipy/__init__.py'>\n",
      "=== End of Backend Info ===\n"
     ]
    },
    {
     "data": {
      "text/plain": [
       "HON,LatticeBC.PBC,d=2,Ns=8,Lx=2,Ly=2,Lz=1"
      ]
     },
     "execution_count": 1,
     "metadata": {},
     "output_type": "execute_result"
    }
   ],
   "source": [
    "from Algebra.Model.Interacting.Spin.heisenberg_kitaev import HeisenbergKitaev\n",
    "from general_python.lattices.honeycomb import HoneycombLattice\n",
    "from general_python.lattices.lattice import LatticeBC\n",
    "\n",
    "backend = 'np'\n",
    "lat     = HoneycombLattice( dim     = 2,\n",
    "                            lx      = 2,\n",
    "                            ly      = 2,\n",
    "                            lz      = 1,\n",
    "                            bc      = LatticeBC.PBC)\n",
    "lat"
   ]
  },
  {
   "cell_type": "code",
   "execution_count": 2,
   "metadata": {},
   "outputs": [
    {
     "name": "stderr",
     "output_type": "stream",
     "text": [
      "16_03_2025_19-18_42 [INFO] Log file created: ./log/global.log\n",
      "16_03_2025_19-18_42 [INFO] Log level set to: info\n",
      "16_03_2025_19-18_42 [INFO] ########### Global logger initialized. ###########\n"
     ]
    }
   ],
   "source": [
    "hx      = 0.5\n",
    "hz      = -0.3\n",
    "j       = 1.0\n",
    "kx      = 1.0\n",
    "ky      = 1.0\n",
    "kz      = 1.0\n",
    "dlt     = 1.0\n",
    "\n",
    "hamil   = HeisenbergKitaev(lattice      = lat, \n",
    "                        hilbert_space   = None, \n",
    "                        hx              = hx,\n",
    "                        hz              = hz,\n",
    "                        kx              = kx,\n",
    "                        ky              = ky,\n",
    "                        kz              = kz,\n",
    "                        j               = j,\n",
    "                        dlt             = dlt, \n",
    "                        backend         = backend)"
   ]
  },
  {
   "cell_type": "code",
   "execution_count": 3,
   "metadata": {},
   "outputs": [
    {
     "name": "stderr",
     "output_type": "stream",
     "text": [
      "16_03_2025_19-18_42 [INFO] \t->\u001b[0m[Heisenberg Kitaev Model] Building the Hamiltonian matrix...\u001b[0m\n",
      "16_03_2025_19-18_42 [INFO] \t\t->\u001b[0m[Heisenberg Kitaev Model] Initialization completed in 0.000291 seconds\u001b[0m\n"
     ]
    },
    {
     "ename": "ValueError",
     "evalue": "An error occurred during Hamiltonian build. : Failed in nopython mode pipeline (step: nopython frontend)\nFailed in nopython mode pipeline (step: nopython frontend)\nNo implementation of function Function(<built-in function setitem>) found for signature:\n \n >>> setitem(array(int64, 1d, C), Literal[int](0), array(float64, 1d, C))\n \nThere are 16 candidate implementations:\n      - Of which 16 did not match due to:\n      Overload of function 'setitem': File: <numerous>: Line N/A.\n        With argument(s): '(array(int64, 1d, C), int64, array(float64, 1d, C))':\n       No match.\n\nDuring: typing of staticsetitem at /Users/makskliczkowski/Codes/QuantumEigenSolver/Python/QES/Algebra/Model/Interacting/Spin/heisenberg_kitaev.py (113)\n\nFile \"Algebra/Model/Interacting/Spin/heisenberg_kitaev.py\", line 113:\ndef _local_energy_int(k_map         : int,\n    <source elided>\n    new_rows[0] = k_map\n    new_rows[0] = h_z_val\n    ^\n\nDuring: resolving callee type: type(CPUDispatcher(<function _local_energy_int at 0x316ce84a0>))\nDuring: typing of call at /Users/makskliczkowski/Codes/QuantumEigenSolver/Python/QES/Algebra/Model/Interacting/Spin/heisenberg_kitaev.py (211)\n\nDuring: resolving callee type: type(CPUDispatcher(<function _local_energy_int at 0x316ce84a0>))\nDuring: typing of call at /Users/makskliczkowski/Codes/QuantumEigenSolver/Python/QES/Algebra/Model/Interacting/Spin/heisenberg_kitaev.py (211)\n\n\nFile \"Algebra/Model/Interacting/Spin/heisenberg_kitaev.py\", line 211:\n    def wrapper(k, i):\n        return _local_energy_int(k, i, ns,\n        ^\n",
     "output_type": "error",
     "traceback": [
      "\u001b[0;31m---------------------------------------------------------------------------\u001b[0m",
      "\u001b[0;31mTypingError\u001b[0m                               Traceback (most recent call last)",
      "File \u001b[0;32m~/Codes/QuantumEigenSolver/Python/QES/Algebra/hamil.py:864\u001b[0m, in \u001b[0;36mHamiltonian.build\u001b[0;34m(self, verbose, use_numpy)\u001b[0m\n\u001b[1;32m    863\u001b[0m \u001b[38;5;28;01mtry\u001b[39;00m:\n\u001b[0;32m--> 864\u001b[0m     \u001b[38;5;28mself\u001b[39m\u001b[38;5;241m.\u001b[39m_hamiltonian(use_numpy)\n\u001b[1;32m    865\u001b[0m \u001b[38;5;28;01mexcept\u001b[39;00m \u001b[38;5;167;01mException\u001b[39;00m \u001b[38;5;28;01mas\u001b[39;00m e:\n",
      "File \u001b[0;32m~/Codes/QuantumEigenSolver/Python/QES/Algebra/hamil.py:986\u001b[0m, in \u001b[0;36mHamiltonian._hamiltonian\u001b[0;34m(self, use_numpy)\u001b[0m\n\u001b[1;32m    985\u001b[0m     \u001b[38;5;66;03m# Calculate the Hamiltonian matrix using the NumPy implementation.\u001b[39;00m\n\u001b[0;32m--> 986\u001b[0m     \u001b[38;5;28mself\u001b[39m\u001b[38;5;241m.\u001b[39m_hamil \u001b[38;5;241m=\u001b[39m operator_create_np(\n\u001b[1;32m    987\u001b[0m         ns                  \u001b[38;5;241m=\u001b[39m   \u001b[38;5;28mself\u001b[39m\u001b[38;5;241m.\u001b[39m_ns,\n\u001b[1;32m    988\u001b[0m         hilbert_space       \u001b[38;5;241m=\u001b[39m   \u001b[38;5;28mself\u001b[39m\u001b[38;5;241m.\u001b[39m_hilbert_space,\n\u001b[1;32m    989\u001b[0m         local_fun           \u001b[38;5;241m=\u001b[39m   \u001b[38;5;28mself\u001b[39m\u001b[38;5;241m.\u001b[39m_loc_energy_int_fun,\n\u001b[1;32m    990\u001b[0m         max_local_changes   \u001b[38;5;241m=\u001b[39m   \u001b[38;5;28mself\u001b[39m\u001b[38;5;241m.\u001b[39m_max_local_ch,\n\u001b[1;32m    991\u001b[0m         is_sparse           \u001b[38;5;241m=\u001b[39m   \u001b[38;5;28mself\u001b[39m\u001b[38;5;241m.\u001b[39m_is_sparse,\n\u001b[1;32m    992\u001b[0m         start               \u001b[38;5;241m=\u001b[39m   \u001b[38;5;28mself\u001b[39m\u001b[38;5;241m.\u001b[39m_startns,\n\u001b[1;32m    993\u001b[0m         dtype               \u001b[38;5;241m=\u001b[39m   \u001b[38;5;28mself\u001b[39m\u001b[38;5;241m.\u001b[39m_dtype\n\u001b[1;32m    994\u001b[0m     )\n\u001b[1;32m    995\u001b[0m \u001b[38;5;28;01melse\u001b[39;00m:\n",
      "File \u001b[0;32m~/Codes/QuantumEigenSolver/Python/QES/Algebra/Operator/operator_matrix.py:338\u001b[0m, in \u001b[0;36moperator_create_np\u001b[0;34m(ns, hilbert_space, local_fun, max_local_changes, is_sparse, start, dtype)\u001b[0m\n\u001b[1;32m    337\u001b[0m \u001b[38;5;28;01mif\u001b[39;00m is_sparse:\n\u001b[0;32m--> 338\u001b[0m     \u001b[38;5;28;01mreturn\u001b[39;00m operator_create_np_sparse(ns\u001b[38;5;241m=\u001b[39mns,\n\u001b[1;32m    339\u001b[0m             hilbert\u001b[38;5;241m=\u001b[39mhilbert_space, local_fun\u001b[38;5;241m=\u001b[39mlocal_fun,\n\u001b[1;32m    340\u001b[0m             max_local_changes\u001b[38;5;241m=\u001b[39mmax_local_changes, start\u001b[38;5;241m=\u001b[39mstart, dtype\u001b[38;5;241m=\u001b[39mdtype)\n\u001b[1;32m    341\u001b[0m \u001b[38;5;28;01mreturn\u001b[39;00m operator_create_np_dense(ns\u001b[38;5;241m=\u001b[39mns, hilbert_space\u001b[38;5;241m=\u001b[39mhilbert_space, local_fun\u001b[38;5;241m=\u001b[39mlocal_fun, start\u001b[38;5;241m=\u001b[39mstart, dtype\u001b[38;5;241m=\u001b[39mdtype)\n",
      "File \u001b[0;32m~/Codes/QuantumEigenSolver/Python/QES/Algebra/Operator/operator_matrix.py:182\u001b[0m, in \u001b[0;36moperator_create_np_sparse\u001b[0;34m(ns, hilbert, local_fun, max_local_changes, start, dtype)\u001b[0m\n\u001b[1;32m    181\u001b[0m \u001b[38;5;66;03m# Call the Numba-accelerated inner loop\u001b[39;00m\n\u001b[0;32m--> 182\u001b[0m data_idx \u001b[38;5;241m=\u001b[39m _inner_loop(local_funct\u001b[38;5;241m=\u001b[39mlocal_fun, nh\u001b[38;5;241m=\u001b[39mnh,\n\u001b[1;32m    183\u001b[0m         cols\u001b[38;5;241m=\u001b[39mcols, rows\u001b[38;5;241m=\u001b[39mrows, data\u001b[38;5;241m=\u001b[39mdata, data_idx\u001b[38;5;241m=\u001b[39mdata_idx)\n\u001b[1;32m    185\u001b[0m \u001b[38;5;66;03m# Create the sparse matrix from the collected data (outside the jitted function)\u001b[39;00m\n",
      "File \u001b[0;32m~/Codes/QuantumEigenSolver/Python/QES/Algebra/Operator/operator_matrix.py:64\u001b[0m, in \u001b[0;36m_operator_create_np_inner_loop_no_hilbert.<locals>._inner_loop\u001b[0;34m(local_funct, nh, cols, rows, data, data_idx)\u001b[0m\n\u001b[1;32m     63\u001b[0m \u001b[38;5;28;01mfor\u001b[39;00m k \u001b[38;5;129;01min\u001b[39;00m np\u001b[38;5;241m.\u001b[39marange(nh):\n\u001b[0;32m---> 64\u001b[0m     data_idx \u001b[38;5;241m=\u001b[39m inner_k(k, local_funct, cols, rows, data, data_idx)\n",
      "File \u001b[0;32m~/Codes/QuantumEigenSolver/Python/QES/Algebra/Operator/operator_matrix.py:40\u001b[0m, in \u001b[0;36m_operator_create_np_inner_loop_no_hilbert.<locals>.inner_k\u001b[0;34m(k, local_funct, cols, rows, data, data_idx)\u001b[0m\n\u001b[1;32m     38\u001b[0m \u001b[38;5;28;01mfor\u001b[39;00m i \u001b[38;5;129;01min\u001b[39;00m ranges:\n\u001b[1;32m     39\u001b[0m     \u001b[38;5;66;03m# Get the new rows and data from the local function.\u001b[39;00m\n\u001b[0;32m---> 40\u001b[0m     new_rows, new_data                  \u001b[38;5;241m=\u001b[39m local_funct(k, i)\n\u001b[1;32m     41\u001b[0m     num_new                             \u001b[38;5;241m=\u001b[39m \u001b[38;5;28mlen\u001b[39m(new_rows)\n",
      "File \u001b[0;32m~/miniconda3/lib/python3.12/site-packages/numba/core/dispatcher.py:423\u001b[0m, in \u001b[0;36m_DispatcherBase._compile_for_args\u001b[0;34m(self, *args, **kws)\u001b[0m\n\u001b[1;32m    421\u001b[0m         e\u001b[38;5;241m.\u001b[39mpatch_message(msg)\n\u001b[0;32m--> 423\u001b[0m     error_rewrite(e, \u001b[38;5;124m'\u001b[39m\u001b[38;5;124mtyping\u001b[39m\u001b[38;5;124m'\u001b[39m)\n\u001b[1;32m    424\u001b[0m \u001b[38;5;28;01mexcept\u001b[39;00m errors\u001b[38;5;241m.\u001b[39mUnsupportedError \u001b[38;5;28;01mas\u001b[39;00m e:\n\u001b[1;32m    425\u001b[0m     \u001b[38;5;66;03m# Something unsupported is present in the user code, add help info\u001b[39;00m\n",
      "File \u001b[0;32m~/miniconda3/lib/python3.12/site-packages/numba/core/dispatcher.py:364\u001b[0m, in \u001b[0;36m_DispatcherBase._compile_for_args.<locals>.error_rewrite\u001b[0;34m(e, issue_type)\u001b[0m\n\u001b[1;32m    363\u001b[0m \u001b[38;5;28;01melse\u001b[39;00m:\n\u001b[0;32m--> 364\u001b[0m     \u001b[38;5;28;01mraise\u001b[39;00m e\u001b[38;5;241m.\u001b[39mwith_traceback(\u001b[38;5;28;01mNone\u001b[39;00m)\n",
      "\u001b[0;31mTypingError\u001b[0m: Failed in nopython mode pipeline (step: nopython frontend)\nFailed in nopython mode pipeline (step: nopython frontend)\nNo implementation of function Function(<built-in function setitem>) found for signature:\n \n >>> setitem(array(int64, 1d, C), Literal[int](0), array(float64, 1d, C))\n \nThere are 16 candidate implementations:\n      - Of which 16 did not match due to:\n      Overload of function 'setitem': File: <numerous>: Line N/A.\n        With argument(s): '(array(int64, 1d, C), int64, array(float64, 1d, C))':\n       No match.\n\nDuring: typing of staticsetitem at /Users/makskliczkowski/Codes/QuantumEigenSolver/Python/QES/Algebra/Model/Interacting/Spin/heisenberg_kitaev.py (113)\n\nFile \"Algebra/Model/Interacting/Spin/heisenberg_kitaev.py\", line 113:\ndef _local_energy_int(k_map         : int,\n    <source elided>\n    new_rows[0] = k_map\n    new_rows[0] = h_z_val\n    ^\n\nDuring: resolving callee type: type(CPUDispatcher(<function _local_energy_int at 0x316ce84a0>))\nDuring: typing of call at /Users/makskliczkowski/Codes/QuantumEigenSolver/Python/QES/Algebra/Model/Interacting/Spin/heisenberg_kitaev.py (211)\n\nDuring: resolving callee type: type(CPUDispatcher(<function _local_energy_int at 0x316ce84a0>))\nDuring: typing of call at /Users/makskliczkowski/Codes/QuantumEigenSolver/Python/QES/Algebra/Model/Interacting/Spin/heisenberg_kitaev.py (211)\n\n\nFile \"Algebra/Model/Interacting/Spin/heisenberg_kitaev.py\", line 211:\n    def wrapper(k, i):\n        return _local_energy_int(k, i, ns,\n        ^\n",
      "\nThe above exception was the direct cause of the following exception:\n",
      "\u001b[0;31mValueError\u001b[0m                                Traceback (most recent call last)",
      "Cell \u001b[0;32mIn[3], line 1\u001b[0m\n\u001b[0;32m----> 1\u001b[0m hamil\u001b[38;5;241m.\u001b[39mbuild(verbose\u001b[38;5;241m=\u001b[39m\u001b[38;5;28;01mTrue\u001b[39;00m, use_numpy\u001b[38;5;241m=\u001b[39m\u001b[38;5;28;01mTrue\u001b[39;00m)\n\u001b[1;32m      2\u001b[0m \u001b[38;5;28mprint\u001b[39m(\u001b[38;5;124mf\u001b[39m\u001b[38;5;124m\"\u001b[39m\u001b[38;5;124mMemory:\u001b[39m\u001b[38;5;132;01m{\u001b[39;00mhamil\u001b[38;5;241m.\u001b[39mmemory_gb\u001b[38;5;132;01m:\u001b[39;00m\u001b[38;5;124m.3e\u001b[39m\u001b[38;5;132;01m}\u001b[39;00m\u001b[38;5;124mgb\u001b[39m\u001b[38;5;124m\"\u001b[39m)\n",
      "File \u001b[0;32m~/Codes/QuantumEigenSolver/Python/QES/Algebra/hamil.py:866\u001b[0m, in \u001b[0;36mHamiltonian.build\u001b[0;34m(self, verbose, use_numpy)\u001b[0m\n\u001b[1;32m    864\u001b[0m     \u001b[38;5;28mself\u001b[39m\u001b[38;5;241m.\u001b[39m_hamiltonian(use_numpy)\n\u001b[1;32m    865\u001b[0m \u001b[38;5;28;01mexcept\u001b[39;00m \u001b[38;5;167;01mException\u001b[39;00m \u001b[38;5;28;01mas\u001b[39;00m e:\n\u001b[0;32m--> 866\u001b[0m     \u001b[38;5;28;01mraise\u001b[39;00m \u001b[38;5;167;01mValueError\u001b[39;00m(\u001b[38;5;124mf\u001b[39m\u001b[38;5;124m\"\u001b[39m\u001b[38;5;132;01m{\u001b[39;00mHamiltonian\u001b[38;5;241m.\u001b[39m_ERR_HAMILTONIAN_BUILD\u001b[38;5;132;01m}\u001b[39;00m\u001b[38;5;124m : \u001b[39m\u001b[38;5;132;01m{\u001b[39;00m\u001b[38;5;28mstr\u001b[39m(e)\u001b[38;5;132;01m}\u001b[39;00m\u001b[38;5;124m\"\u001b[39m) \u001b[38;5;28;01mfrom\u001b[39;00m \u001b[38;5;21;01me\u001b[39;00m\n\u001b[1;32m    868\u001b[0m ham_duration \u001b[38;5;241m=\u001b[39m time\u001b[38;5;241m.\u001b[39mperf_counter() \u001b[38;5;241m-\u001b[39m ham_start\n\u001b[1;32m    869\u001b[0m \u001b[38;5;28;01mif\u001b[39;00m \u001b[38;5;28mself\u001b[39m\u001b[38;5;241m.\u001b[39m_hamil \u001b[38;5;129;01mis\u001b[39;00m \u001b[38;5;129;01mnot\u001b[39;00m \u001b[38;5;28;01mNone\u001b[39;00m \u001b[38;5;129;01mand\u001b[39;00m \u001b[38;5;28mself\u001b[39m\u001b[38;5;241m.\u001b[39m_hamil\u001b[38;5;241m.\u001b[39msize \u001b[38;5;241m>\u001b[39m \u001b[38;5;241m0\u001b[39m:\n",
      "\u001b[0;31mValueError\u001b[0m: An error occurred during Hamiltonian build. : Failed in nopython mode pipeline (step: nopython frontend)\nFailed in nopython mode pipeline (step: nopython frontend)\nNo implementation of function Function(<built-in function setitem>) found for signature:\n \n >>> setitem(array(int64, 1d, C), Literal[int](0), array(float64, 1d, C))\n \nThere are 16 candidate implementations:\n      - Of which 16 did not match due to:\n      Overload of function 'setitem': File: <numerous>: Line N/A.\n        With argument(s): '(array(int64, 1d, C), int64, array(float64, 1d, C))':\n       No match.\n\nDuring: typing of staticsetitem at /Users/makskliczkowski/Codes/QuantumEigenSolver/Python/QES/Algebra/Model/Interacting/Spin/heisenberg_kitaev.py (113)\n\nFile \"Algebra/Model/Interacting/Spin/heisenberg_kitaev.py\", line 113:\ndef _local_energy_int(k_map         : int,\n    <source elided>\n    new_rows[0] = k_map\n    new_rows[0] = h_z_val\n    ^\n\nDuring: resolving callee type: type(CPUDispatcher(<function _local_energy_int at 0x316ce84a0>))\nDuring: typing of call at /Users/makskliczkowski/Codes/QuantumEigenSolver/Python/QES/Algebra/Model/Interacting/Spin/heisenberg_kitaev.py (211)\n\nDuring: resolving callee type: type(CPUDispatcher(<function _local_energy_int at 0x316ce84a0>))\nDuring: typing of call at /Users/makskliczkowski/Codes/QuantumEigenSolver/Python/QES/Algebra/Model/Interacting/Spin/heisenberg_kitaev.py (211)\n\n\nFile \"Algebra/Model/Interacting/Spin/heisenberg_kitaev.py\", line 211:\n    def wrapper(k, i):\n        return _local_energy_int(k, i, ns,\n        ^\n"
     ]
    }
   ],
   "source": [
    "hamil.build(verbose=True, use_numpy=True)\n",
    "print(f\"Memory:{hamil.memory_gb:.3e}gb\")"
   ]
  },
  {
   "cell_type": "code",
   "execution_count": 4,
   "metadata": {},
   "outputs": [
    {
     "name": "stderr",
     "output_type": "stream",
     "text": [
      "16_03_2025_19-12_02 [INFO] \u001b[0m[Heisenberg Kitaev Model] Diagonalization (standard) completed in 0.045108 seconds.\u001b[0m\n"
     ]
    }
   ],
   "source": [
    "hamil.diagonalize(verbose=True)\n"
   ]
  },
  {
   "cell_type": "code",
   "execution_count": 5,
   "metadata": {},
   "outputs": [
    {
     "data": {
      "text/plain": [
       "(array([-8.23753262e+00, -6.11339283e+00, -6.11339188e+00, -6.10307217e+00,\n",
       "        -6.08322239e+00, -6.07286549e+00, -6.07286406e+00, -6.06251621e+00,\n",
       "        -5.97214651e+00, -4.02204895e+00, -4.02204752e+00, -4.02181435e+00,\n",
       "        -4.02044582e+00, -2.08585620e+00, -2.08585453e+00, -2.08585453e+00,\n",
       "        -2.08559060e+00, -2.08247852e+00, -2.08222532e+00, -2.08222389e+00,\n",
       "        -2.08222079e+00, -6.11419380e-01, -6.11306608e-01, -6.11300409e-01,\n",
       "        -6.11298859e-01, -3.97619367e-01, -3.97619367e-01, -3.97498846e-01,\n",
       "        -3.97237599e-01, -1.55295193e-01, -1.54976815e-01, -1.22987479e-01,\n",
       "        -1.22870028e-01, -1.03248596e-01, -1.03247046e-01, -7.38806129e-02,\n",
       "        -7.13211000e-02, -4.15976197e-02, -4.15960737e-02, -4.15759832e-02,\n",
       "        -3.85079607e-02, -2.62188744e-02, -2.61508692e-02, -2.61508692e-02,\n",
       "        -2.60720421e-02,  3.96364555e-03,  4.04092576e-03,  4.04092576e-03,\n",
       "         4.11202386e-03,  3.08649778e-01,  3.08903277e-01,  3.08903277e-01,\n",
       "         3.08997571e-01,  5.98127186e-01,  5.98150313e-01,  5.98150313e-01,\n",
       "         5.98221481e-01,  1.89553022e+00,  1.89617348e+00,  1.92526293e+00,\n",
       "         1.92526460e+00,  1.92563391e+00,  1.92579007e+00,  1.92579150e+00,\n",
       "         1.92598796e+00,  1.92672682e+00,  1.92672825e+00,  1.95563102e+00,\n",
       "         1.95571303e+00,  1.96705914e+00,  1.96739793e+00,  1.96739936e+00,\n",
       "         1.96744561e+00,  3.14735389e+00,  3.16681123e+00,  3.16681123e+00,\n",
       "         3.18126106e+00,  3.35521126e+00,  3.36184192e+00,  3.36184335e+00,\n",
       "         3.36688328e+00,  3.52758741e+00,  3.54658747e+00,  3.54658914e+00,\n",
       "         3.56630898e+00,  3.63108516e+00,  3.63822150e+00,  3.63822150e+00,\n",
       "         3.63923812e+00,  3.64758301e+00,  3.65161061e+00,  3.66076684e+00,\n",
       "         3.66076684e+00,  3.73932076e+00,  3.74587846e+00,  3.74587989e+00,\n",
       "         3.75433302e+00,  3.76655269e+00,  3.89969540e+00,  3.91914868e+00,\n",
       "         3.92885137e+00,  3.92885137e+00,  3.92953324e+00,  3.92953467e+00,\n",
       "         3.93479466e+00,  3.93936634e+00,  3.97892761e+00,  3.98913670e+00,\n",
       "         3.98913670e+00,  3.99405313e+00,  3.99454904e+00,  3.99902868e+00,\n",
       "         3.99902868e+00,  3.99999905e+00,  3.99999905e+00,  3.99999905e+00,\n",
       "         4.00000095e+00,  4.00000334e+00,  4.02365255e+00,  4.02365255e+00,\n",
       "         4.03858662e+00,  4.05174971e+00,  4.13330889e+00,  4.14147711e+00,\n",
       "         4.14147711e+00,  4.14679146e+00,  4.31129980e+00,  4.31129980e+00,\n",
       "         4.31509495e+00,  4.32019329e+00,  4.33919001e+00,  4.34566402e+00,\n",
       "         4.34566402e+00,  4.35192299e+00,  4.42303085e+00,  4.43855095e+00,\n",
       "         4.43855095e+00,  4.45399570e+00,  4.55824280e+00,  4.56187057e+00,\n",
       "         4.56187153e+00,  4.56525803e+00,  4.72853899e+00,  4.73295879e+00,\n",
       "         4.73296022e+00,  4.73954010e+00,  5.32199287e+00,  5.37990665e+00,\n",
       "         5.47806168e+00,  5.47806263e+00,  5.52662468e+00,  5.52662468e+00,\n",
       "         5.53559923e+00,  5.53755951e+00,  5.54059219e+00,  5.54059219e+00,\n",
       "         5.55080700e+00,  5.55243587e+00,  5.55783176e+00,  5.55783272e+00,\n",
       "         5.80395412e+00,  5.91151762e+00,  5.96089125e+00,  5.96089268e+00,\n",
       "         5.99343777e+00,  6.00205612e+00,  6.00345707e+00,  6.00627232e+00,\n",
       "         6.01138353e+00,  6.01138592e+00,  6.02369690e+00,  6.02922153e+00,\n",
       "         6.02922344e+00,  6.03281975e+00,  6.03875208e+00,  6.04010725e+00,\n",
       "         6.04010820e+00,  6.04059792e+00,  6.04531574e+00,  6.04538774e+00,\n",
       "         6.04539013e+00,  6.04631710e+00,  6.05471230e+00,  6.08184910e+00,\n",
       "         6.08185148e+00,  6.08325768e+00,  6.10242605e+00,  6.14373493e+00,\n",
       "         6.47925377e+00,  6.47925377e+00,  6.49071312e+00,  6.49071407e+00,\n",
       "         6.51553726e+00,  6.51578045e+00,  6.52219009e+00,  6.52219105e+00,\n",
       "         6.56038713e+00,  6.56607389e+00,  6.56888342e+00,  6.56888485e+00,\n",
       "         6.64440441e+00,  6.65340137e+00,  7.28386116e+00,  7.33496571e+00,\n",
       "         7.33496666e+00,  7.48735142e+00,  7.49030113e+00,  7.55480862e+00,\n",
       "         7.60145950e+00,  7.60145950e+00,  7.70548010e+00,  7.73282051e+00,\n",
       "         7.73282146e+00,  7.73385906e+00,  7.90941620e+00,  7.90941620e+00,\n",
       "         7.95337200e+00,  7.99285078e+00,  7.99285173e+00,  8.01867390e+00,\n",
       "         8.03341961e+00,  8.04212379e+00,  8.04660225e+00,  8.10381222e+00,\n",
       "         8.11798763e+00,  8.11980343e+00,  8.12896442e+00,  8.13696003e+00,\n",
       "         8.13796616e+00,  8.13796902e+00,  8.16331387e+00,  8.22149754e+00,\n",
       "         8.31189442e+00,  8.31189632e+00,  8.38116169e+00,  8.38116360e+00,\n",
       "         8.40456104e+00,  8.45294094e+00,  8.47508335e+00,  8.47508526e+00,\n",
       "         8.48196316e+00,  8.67843342e+00,  8.70256042e+00,  8.89179516e+00,\n",
       "         8.89179707e+00,  8.96168423e+00,  1.01351061e+01,  1.01352129e+01,\n",
       "         1.01371870e+01,  1.01371889e+01,  1.01382799e+01,  1.01382818e+01,\n",
       "         1.01390829e+01,  1.01442862e+01,  1.21661186e+01,  1.21661434e+01],\n",
       "       dtype=float32),\n",
       " array([[ 9.4689983e-01,  1.6365092e-08,  1.2733912e-07, ...,\n",
       "          1.8149514e-06,  3.1912098e-08, -5.1352304e-06],\n",
       "        [-1.1246011e-01, -3.3527428e-01,  3.5714391e-01, ...,\n",
       "          1.6457067e-05, -4.9381491e-05, -5.1976705e-05],\n",
       "        [-1.1246006e-01, -3.3526674e-01,  3.5713115e-01, ...,\n",
       "          1.6490987e-05,  5.0013747e-05, -5.1465817e-05],\n",
       "        ...,\n",
       "        [-5.6787776e-08,  1.8898572e-07, -1.9138679e-07, ...,\n",
       "          1.7613480e-02, -1.2754579e-03, -1.3705780e-03],\n",
       "        [-5.6787773e-08,  1.9888103e-07, -1.8859282e-07, ...,\n",
       "          1.7613005e-02,  1.2923733e-03, -1.3546213e-03],\n",
       "        [ 9.2808952e-09, -3.0733645e-08,  3.2829121e-08, ...,\n",
       "          5.7332474e-03,  2.0634320e-06, -3.3371916e-04]], dtype=float32),\n",
       " (256, 256))"
      ]
     },
     "execution_count": 5,
     "metadata": {},
     "output_type": "execute_result"
    },
    {
     "data": {
      "image/png": "[encoded data removed]",
      "text/plain": [
       "<Figure size 350x262.5 with 1 Axes>"
      ]
     },
     "metadata": {},
     "output_type": "display_data"
    }
   ],
   "source": [
    "import matplotlib.pyplot as plt\n",
    "plt.plot(hamil.eig_val)\n",
    "hamil.eig_val, hamil.eig_vec, hamil.eig_vec.shape"
   ]
  },
  {
   "cell_type": "markdown",
   "metadata": {},
   "source": [
    "## Quantum Sun Model"
   ]
  },
  {
   "cell_type": "code",
   "execution_count": 1,
   "metadata": {},
   "outputs": [
    {
     "name": "stdout",
     "output_type": "stream",
     "text": [
      "=== Backend Initialization ===\n",
      "\tNumPy Version: 1.26.4\n",
      "\tSciPy Version: 1.13.1\n",
      "\tJAX Version: Not Available\n",
      "\t\tActive Backend: jax\n",
      "\t\tJAX Available: True\n",
      "\t\tDefault Random Key: [    0 12345]\n",
      "\tActive Backend Modules:\n",
      "\t\t\tMain Module: <module 'jax.numpy' from '/Users/makskliczkowski/miniconda3/lib/python3.12/site-packages/jax/numpy/__init__.py'>\n",
      "\t\t\tRandom Module: <module 'jax.random' from '/Users/makskliczkowski/miniconda3/lib/python3.12/site-packages/jax/random.py'>\n",
      "\t\t\tSciPy Module: <module 'jax.scipy' from '/Users/makskliczkowski/miniconda3/lib/python3.12/site-packages/jax/scipy/__init__.py'>\n",
      "=== End of Backend Info ===\n"
     ]
    },
    {
     "name": "stderr",
     "output_type": "stream",
     "text": [
      "16_03_2025_19-12_27 [INFO] Log file created: ./log/global.log\n",
      "16_03_2025_19-12_27 [INFO] Log level set to: info\n",
      "16_03_2025_19-12_27 [INFO] ########### Global logger initialized. ###########\n"
     ]
    },
    {
     "data": {
      "text/plain": [
       "array([0.72733602, 0.81675834, 1.29736546, 1.17625467, 0.89110955,\n",
       "       0.83281393, 1.09830875])"
      ]
     },
     "execution_count": 1,
     "metadata": {},
     "output_type": "execute_result"
    }
   ],
   "source": [
    "from Algebra.Model.Interacting.Spin.qsm import QSM\n",
    "backend = 'np'\n",
    "hamil   = QSM(ns=10, hilbert_space=None, n=3, a=0.74, h=1.0, xi=0.2, backend=backend, dtype='float64')\n",
    "hamil.h"
   ]
  },
  {
   "cell_type": "markdown",
   "metadata": {},
   "source": [
    "#### Build"
   ]
  },
  {
   "cell_type": "markdown",
   "metadata": {},
   "source": [
    "##### Sparse"
   ]
  },
  {
   "cell_type": "code",
   "execution_count": 2,
   "metadata": {},
   "outputs": [
    {
     "name": "stderr",
     "output_type": "stream",
     "text": [
      "16_03_2025_19-12_30 [INFO] \t->\u001b[0m[Quantum Sun Model] Building the Hamiltonian matrix...\u001b[0m\n",
      "16_03_2025_19-12_30 [INFO] \t\t->\u001b[0m[Quantum Sun Model] Initialization completed in 0.000254 seconds\u001b[0m\n",
      "16_03_2025_19-12_30 [INFO] \t->\u001b[0m[Quantum Sun Model] Hamiltonian matrix built in 0.034403 seconds.\u001b[0m\n",
      "16_03_2025_19-12_30 [INFO] \t->\u001b[0m[Quantum Sun Model] Checking the memory used by the Hamiltonian matrix of type <class 'scipy.sparse._csr.csr_matrix'>\u001b[0m\n",
      "16_03_2025_19-12_30 [INFO] \t\t->\u001b[0m[Quantum Sun Model] It is not a dense matrix...\u001b[0m\n"
     ]
    },
    {
     "name": "stdout",
     "output_type": "stream",
     "text": [
      "Memory:1.755e-04gb\n"
     ]
    }
   ],
   "source": [
    "hamil.build(verbose=True, use_numpy=True)\n",
    "print(f\"Memory:{hamil.memory_gb:.3e}gb\")"
   ]
  },
  {
   "cell_type": "code",
   "execution_count": 3,
   "metadata": {},
   "outputs": [
    {
     "name": "stderr",
     "output_type": "stream",
     "text": [
      "16_03_2025_19-12_31 [INFO] \u001b[0m[Quantum Sun Model] Diagonalization (standard) completed in 0.344907 seconds.\u001b[0m\n"
     ]
    }
   ],
   "source": [
    "hamil.diagonalize(verbose=True)"
   ]
  },
  {
   "cell_type": "code",
   "execution_count": 4,
   "metadata": {},
   "outputs": [
    {
     "data": {
      "text/plain": [
       "array([-4.1793086 , -4.05804202, -3.67817319, ...,  3.97349239,\n",
       "        4.13263702,  4.36595092])"
      ]
     },
     "execution_count": 4,
     "metadata": {},
     "output_type": "execute_result"
    }
   ],
   "source": [
    "hamil.eig_val"
   ]
  },
  {
   "cell_type": "markdown",
   "metadata": {},
   "source": [
    "##### Dense"
   ]
  },
  {
   "cell_type": "code",
   "execution_count": 5,
   "metadata": {},
   "outputs": [
    {
     "name": "stderr",
     "output_type": "stream",
     "text": [
      "16_03_2025_19-12_33 [INFO] \t->\u001b[0m[Quantum Sun Model] Converting the Hamiltonian matrix to a dense matrix... Run build...\u001b[0m\n",
      "16_03_2025_19-12_33 [INFO] \t\t->\u001b[34m[Quantum Sun Model] Hamiltonian cleared...\u001b[0m\n"
     ]
    }
   ],
   "source": [
    "hamil.to_dense()"
   ]
  },
  {
   "cell_type": "code",
   "execution_count": 6,
   "metadata": {},
   "outputs": [
    {
     "name": "stderr",
     "output_type": "stream",
     "text": [
      "16_03_2025_19-12_34 [INFO] \t->\u001b[0m[Quantum Sun Model] Building the Hamiltonian matrix...\u001b[0m\n",
      "16_03_2025_19-12_34 [INFO] \t\t->\u001b[0m[Quantum Sun Model] Initialization completed in 0.000875 seconds\u001b[0m\n",
      "16_03_2025_19-12_34 [INFO] \t->\u001b[0m[Quantum Sun Model] Hamiltonian matrix built in 0.118952 seconds.\u001b[0m\n"
     ]
    }
   ],
   "source": [
    "hamil.build(verbose=True, use_numpy=True)"
   ]
  },
  {
   "cell_type": "code",
   "execution_count": 7,
   "metadata": {},
   "outputs": [
    {
     "name": "stderr",
     "output_type": "stream",
     "text": [
      "16_03_2025_19-12_35 [INFO] \u001b[0m[Quantum Sun Model] Diagonalization (standard) completed in 0.433753 seconds.\u001b[0m\n"
     ]
    }
   ],
   "source": [
    "hamil.diagonalize(verbose=True)"
   ]
  },
  {
   "cell_type": "code",
   "execution_count": 8,
   "metadata": {},
   "outputs": [
    {
     "name": "stderr",
     "output_type": "stream",
     "text": [
      "16_03_2025_19-12_35 [INFO] \t->\u001b[0m[Quantum Sun Model] Checking the memory used by the Hamiltonian matrix of type <class 'numpy.matrix'>\u001b[0m\n"
     ]
    },
    {
     "data": {
      "text/plain": [
       "0.0078125"
      ]
     },
     "execution_count": 8,
     "metadata": {},
     "output_type": "execute_result"
    }
   ],
   "source": [
    "hamil.h_memory_gb"
   ]
  },
  {
   "cell_type": "markdown",
   "metadata": {},
   "source": [
    "##### Plot tests"
   ]
  },
  {
   "cell_type": "code",
   "execution_count": 9,
   "metadata": {},
   "outputs": [
    {
     "data": {
      "text/plain": [
       "(array([-4.1793086 , -4.05804202, -3.67817319, ...,  3.97349239,\n",
       "         4.13263702,  4.36595092]),\n",
       " array([[ 1.94879954e-02,  3.48205230e-01,  5.04460873e-01, ...,\n",
       "          1.52030045e-09, -1.34675299e-08,  2.24851652e-08],\n",
       "        [-1.38394277e-02,  1.93515430e-03, -5.81887086e-03, ...,\n",
       "         -1.64687160e-06, -1.99649613e-07, -2.34487386e-07],\n",
       "        [-1.55747457e-02,  1.29389923e-02,  1.68260199e-02, ...,\n",
       "          2.47048361e-07, -5.25639936e-07, -1.91357224e-07],\n",
       "        ...,\n",
       "        [ 4.91863890e-07, -7.92890384e-08, -5.48732547e-08, ...,\n",
       "         -2.47642655e-02, -2.99129649e-03, -6.57719394e-03],\n",
       "        [ 7.11575662e-07, -3.70294640e-07, -8.43030603e-07, ...,\n",
       "          3.29626999e-04, -7.44796808e-03, -7.02340250e-03],\n",
       "        [ 9.84442999e-10, -4.23020234e-08, -2.14577836e-08, ...,\n",
       "          3.02957065e-01,  2.30849579e-01,  1.12902402e-02]]),\n",
       " (1024, 1024))"
      ]
     },
     "execution_count": 9,
     "metadata": {},
     "output_type": "execute_result"
    },
    {
     "data": {
      "image/png": "[encoded data removed]",
      "text/plain": [
       "<Figure size 350x262.5 with 1 Axes>"
      ]
     },
     "metadata": {},
     "output_type": "display_data"
    }
   ],
   "source": [
    "import matplotlib.pyplot as plt\n",
    "plt.plot(hamil.eig_val)\n",
    "hamil.eig_val, hamil.eig_vec, hamil.eig_vec.shape"
   ]
  },
  {
   "cell_type": "code",
   "execution_count": 10,
   "metadata": {},
   "outputs": [
    {
     "name": "stdout",
     "output_type": "stream",
     "text": [
      "Minimum value: -3.586396386430748\n",
      "Maximum value: 3.7222742494383843\n"
     ]
    },
    {
     "data": {
      "image/png": "[encoded data removed]",
      "text/plain": [
       "<Figure size 500x500 with 2 Axes>"
      ]
     },
     "metadata": {},
     "output_type": "display_data"
    }
   ],
   "source": [
    "import numpy as np\n",
    "# make dense\n",
    "qsm_dense   = hamil.hamil.todense() if hamil.sparse else hamil.hamil\n",
    "minimum     = qsm_dense.min()\n",
    "maximum     = qsm_dense.max()\n",
    "qsm_dense   = np.abs(qsm_dense) / np.abs(qsm_dense).max()\n",
    "\n",
    "print(\"Minimum value:\", minimum)\n",
    "print(\"Maximum value:\", maximum)\n",
    "\n",
    "plt.figure(figsize=(5, 5))\n",
    "plt.imshow(qsm_dense, cmap='viridis')\n",
    "plt.colorbar()\n",
    "plt.title(\"Density Representation\")\n",
    "plt.show()"
   ]
  },
  {
   "cell_type": "markdown",
   "metadata": {},
   "source": [
    "##### Operators"
   ]
  },
  {
   "cell_type": "code",
   "execution_count": 7,
   "metadata": {},
   "outputs": [
    {
     "data": {
      "text/plain": [
       "array([[1., 0., 0., 0., 0., 0., 0., 0.],\n",
       "       [0., 1., 0., 0., 0., 0., 0., 0.],\n",
       "       [0., 0., 1., 0., 0., 0., 0., 0.],\n",
       "       [0., 0., 0., 1., 0., 0., 0., 0.],\n",
       "       [0., 0., 0., 0., 1., 0., 0., 0.],\n",
       "       [0., 0., 0., 0., 0., 1., 0., 0.],\n",
       "       [0., 0., 0., 0., 0., 0., 1., 0.],\n",
       "       [0., 0., 0., 0., 0., 0., 0., 1.]])"
      ]
     },
     "execution_count": 7,
     "metadata": {},
     "output_type": "execute_result"
    }
   ],
   "source": [
    "from Algebra.Operator.operators_spin import sig_x, sig_z, OperatorTypeActing\n",
    "from general_python.common import binary\n",
    "import numpy as np\n",
    "\n",
    "backend     = 'np'\n",
    "ns          = 4\n",
    "nh          = 2**ns   \n",
    "sig_x_op = sig_x(ns = ns, type_act = OperatorTypeActing.Global, sites = [ns - 1], backend=backend)\n",
    "sig_z_op = sig_z(ns = ns, type_act = OperatorTypeActing.Global, sites = [ns - 1], backend=backend)\n",
    "eye_first   = np.eye(2**(ns - 1))\n",
    "eye_first"
   ]
  },
  {
   "cell_type": "markdown",
   "metadata": {},
   "source": [
    "###### Check how it works on the base states"
   ]
  },
  {
   "cell_type": "markdown",
   "metadata": {},
   "source": [
    "###### With states"
   ]
  },
  {
   "cell_type": "code",
   "execution_count": 9,
   "metadata": {},
   "outputs": [
    {
     "name": "stdout",
     "output_type": "stream",
     "text": [
      "\n",
      "Applying sigma_x\n",
      "Acting on state 15 (1111)\n",
      "\tResulting state: 14\n",
      "\tResulting value: [0.5]\n",
      "\tBinary representation of resulting state: 1110\n",
      "Applying sigma_z\n",
      "Resulting state: 15\n",
      "Resulting value: [0.5]\n",
      "Binary representation of resulting state: 1111\n",
      "\n",
      "\n",
      "Applying sigma_x\n",
      "Acting on state 7 (0111)\n",
      "\tResulting state: 6\n",
      "\tResulting value: [0.5]\n",
      "\tBinary representation of resulting state: 0110\n",
      "Applying sigma_z\n",
      "Resulting state: 7\n",
      "Resulting value: [0.5]\n",
      "Binary representation of resulting state: 0111\n",
      "\n",
      "\n",
      "Applying sigma_x\n",
      "Acting on state 3 (0011)\n",
      "\tResulting state: 2\n",
      "\tResulting value: [0.5]\n",
      "\tBinary representation of resulting state: 0010\n",
      "Applying sigma_z\n",
      "Resulting state: 3\n",
      "Resulting value: [0.5]\n",
      "Binary representation of resulting state: 0011\n",
      "\n"
     ]
    }
   ],
   "source": [
    "int_state_full      = 2**(ns) - 1\n",
    "int_state_half      = 2**(ns - 1) - 1\n",
    "int_state_half_size = 2**(ns//2) - 1\n",
    "\n",
    "# binary representation\n",
    "backend_state           = binary.int2base(int_state_full, size=ns, backend=backend)\n",
    "backend_state_half      = binary.int2base(int_state_half, size=ns, backend=backend)\n",
    "backend_state_half_size = binary.int2base(int_state_half_size, size=ns//2, backend=backend)\n",
    "# string representation\n",
    "string_state            = binary.int2binstr(int_state_full, bits=ns)\n",
    "string_state_half       = binary.int2binstr(int_state_half, bits=ns)\n",
    "string_state_half_size  = binary.int2binstr(int_state_half_size, bits=ns)\n",
    "\n",
    "# act on the integer states\n",
    "for state in [int_state_full, int_state_half, int_state_half_size]:\n",
    "    print()\n",
    "    # sigma x\n",
    "    print(\"Applying sigma_x\")\n",
    "    print(f\"Acting on state {state} ({binary.int2binstr(state, bits=ns)})\")\n",
    "    resulting_state, resulting_value = sig_x_op(state)\n",
    "    print(f\"\\tResulting state: {resulting_state[0]}\")\n",
    "    print(f\"\\tResulting value: {resulting_value}\")\n",
    "    print(f\"\\tBinary representation of resulting state: {binary.int2binstr(resulting_state[0], bits=ns)}\")\n",
    "    # sigma z\n",
    "    print(\"Applying sigma_z\")\n",
    "    resulting_state, resulting_value = sig_z_op(state)\n",
    "    print(f\"Resulting state: {resulting_state[0]}\")\n",
    "    print(f\"Resulting value: {resulting_value}\")\n",
    "    print(f\"Binary representation of resulting state: {binary.int2binstr(resulting_state[0], bits=ns)}\")\n",
    "    print()\n"
   ]
  },
  {
   "cell_type": "code",
   "execution_count": 10,
   "metadata": {},
   "outputs": [
    {
     "name": "stdout",
     "output_type": "stream",
     "text": [
      "Are the two matrices (sig_x) equal? True\n",
      "Are the two matrices (sig_z) equal? True\n",
      "From the operator (sig_x)\n"
     ]
    },
    {
     "data": {
      "text/latex": [
       "$\\displaystyle \\left[\\begin{array}{cccccccccccccccc}0.0 & 0.5 & 0.0 & 0.0 & 0.0 & 0.0 & 0.0 & 0.0 & 0.0 & 0.0 & 0.0 & 0.0 & 0.0 & 0.0 & 0.0 & 0.0\\\\0.5 & 0.0 & 0.0 & 0.0 & 0.0 & 0.0 & 0.0 & 0.0 & 0.0 & 0.0 & 0.0 & 0.0 & 0.0 & 0.0 & 0.0 & 0.0\\\\0.0 & 0.0 & 0.0 & 0.5 & 0.0 & 0.0 & 0.0 & 0.0 & 0.0 & 0.0 & 0.0 & 0.0 & 0.0 & 0.0 & 0.0 & 0.0\\\\0.0 & 0.0 & 0.5 & 0.0 & 0.0 & 0.0 & 0.0 & 0.0 & 0.0 & 0.0 & 0.0 & 0.0 & 0.0 & 0.0 & 0.0 & 0.0\\\\0.0 & 0.0 & 0.0 & 0.0 & 0.0 & 0.5 & 0.0 & 0.0 & 0.0 & 0.0 & 0.0 & 0.0 & 0.0 & 0.0 & 0.0 & 0.0\\\\0.0 & 0.0 & 0.0 & 0.0 & 0.5 & 0.0 & 0.0 & 0.0 & 0.0 & 0.0 & 0.0 & 0.0 & 0.0 & 0.0 & 0.0 & 0.0\\\\0.0 & 0.0 & 0.0 & 0.0 & 0.0 & 0.0 & 0.0 & 0.5 & 0.0 & 0.0 & 0.0 & 0.0 & 0.0 & 0.0 & 0.0 & 0.0\\\\0.0 & 0.0 & 0.0 & 0.0 & 0.0 & 0.0 & 0.5 & 0.0 & 0.0 & 0.0 & 0.0 & 0.0 & 0.0 & 0.0 & 0.0 & 0.0\\\\0.0 & 0.0 & 0.0 & 0.0 & 0.0 & 0.0 & 0.0 & 0.0 & 0.0 & 0.5 & 0.0 & 0.0 & 0.0 & 0.0 & 0.0 & 0.0\\\\0.0 & 0.0 & 0.0 & 0.0 & 0.0 & 0.0 & 0.0 & 0.0 & 0.5 & 0.0 & 0.0 & 0.0 & 0.0 & 0.0 & 0.0 & 0.0\\\\0.0 & 0.0 & 0.0 & 0.0 & 0.0 & 0.0 & 0.0 & 0.0 & 0.0 & 0.0 & 0.0 & 0.5 & 0.0 & 0.0 & 0.0 & 0.0\\\\0.0 & 0.0 & 0.0 & 0.0 & 0.0 & 0.0 & 0.0 & 0.0 & 0.0 & 0.0 & 0.5 & 0.0 & 0.0 & 0.0 & 0.0 & 0.0\\\\0.0 & 0.0 & 0.0 & 0.0 & 0.0 & 0.0 & 0.0 & 0.0 & 0.0 & 0.0 & 0.0 & 0.0 & 0.0 & 0.5 & 0.0 & 0.0\\\\0.0 & 0.0 & 0.0 & 0.0 & 0.0 & 0.0 & 0.0 & 0.0 & 0.0 & 0.0 & 0.0 & 0.0 & 0.5 & 0.0 & 0.0 & 0.0\\\\0.0 & 0.0 & 0.0 & 0.0 & 0.0 & 0.0 & 0.0 & 0.0 & 0.0 & 0.0 & 0.0 & 0.0 & 0.0 & 0.0 & 0.0 & 0.5\\\\0.0 & 0.0 & 0.0 & 0.0 & 0.0 & 0.0 & 0.0 & 0.0 & 0.0 & 0.0 & 0.0 & 0.0 & 0.0 & 0.0 & 0.5 & 0.0\\end{array}\\right]$"
      ],
      "text/plain": [
       "Matrix([\n",
       "[0.0, 0.5, 0.0, 0.0, 0.0, 0.0, 0.0, 0.0, 0.0, 0.0, 0.0, 0.0, 0.0, 0.0, 0.0, 0.0],\n",
       "[0.5, 0.0, 0.0, 0.0, 0.0, 0.0, 0.0, 0.0, 0.0, 0.0, 0.0, 0.0, 0.0, 0.0, 0.0, 0.0],\n",
       "[0.0, 0.0, 0.0, 0.5, 0.0, 0.0, 0.0, 0.0, 0.0, 0.0, 0.0, 0.0, 0.0, 0.0, 0.0, 0.0],\n",
       "[0.0, 0.0, 0.5, 0.0, 0.0, 0.0, 0.0, 0.0, 0.0, 0.0, 0.0, 0.0, 0.0, 0.0, 0.0, 0.0],\n",
       "[0.0, 0.0, 0.0, 0.0, 0.0, 0.5, 0.0, 0.0, 0.0, 0.0, 0.0, 0.0, 0.0, 0.0, 0.0, 0.0],\n",
       "[0.0, 0.0, 0.0, 0.0, 0.5, 0.0, 0.0, 0.0, 0.0, 0.0, 0.0, 0.0, 0.0, 0.0, 0.0, 0.0],\n",
       "[0.0, 0.0, 0.0, 0.0, 0.0, 0.0, 0.0, 0.5, 0.0, 0.0, 0.0, 0.0, 0.0, 0.0, 0.0, 0.0],\n",
       "[0.0, 0.0, 0.0, 0.0, 0.0, 0.0, 0.5, 0.0, 0.0, 0.0, 0.0, 0.0, 0.0, 0.0, 0.0, 0.0],\n",
       "[0.0, 0.0, 0.0, 0.0, 0.0, 0.0, 0.0, 0.0, 0.0, 0.5, 0.0, 0.0, 0.0, 0.0, 0.0, 0.0],\n",
       "[0.0, 0.0, 0.0, 0.0, 0.0, 0.0, 0.0, 0.0, 0.5, 0.0, 0.0, 0.0, 0.0, 0.0, 0.0, 0.0],\n",
       "[0.0, 0.0, 0.0, 0.0, 0.0, 0.0, 0.0, 0.0, 0.0, 0.0, 0.0, 0.5, 0.0, 0.0, 0.0, 0.0],\n",
       "[0.0, 0.0, 0.0, 0.0, 0.0, 0.0, 0.0, 0.0, 0.0, 0.0, 0.5, 0.0, 0.0, 0.0, 0.0, 0.0],\n",
       "[0.0, 0.0, 0.0, 0.0, 0.0, 0.0, 0.0, 0.0, 0.0, 0.0, 0.0, 0.0, 0.0, 0.5, 0.0, 0.0],\n",
       "[0.0, 0.0, 0.0, 0.0, 0.0, 0.0, 0.0, 0.0, 0.0, 0.0, 0.0, 0.0, 0.5, 0.0, 0.0, 0.0],\n",
       "[0.0, 0.0, 0.0, 0.0, 0.0, 0.0, 0.0, 0.0, 0.0, 0.0, 0.0, 0.0, 0.0, 0.0, 0.0, 0.5],\n",
       "[0.0, 0.0, 0.0, 0.0, 0.0, 0.0, 0.0, 0.0, 0.0, 0.0, 0.0, 0.0, 0.0, 0.0, 0.5, 0.0]])"
      ]
     },
     "metadata": {},
     "output_type": "display_data"
    },
    {
     "name": "stdout",
     "output_type": "stream",
     "text": [
      "From the operator (sig_z)\n"
     ]
    },
    {
     "data": {
      "text/latex": [
       "$\\displaystyle \\left[\\begin{array}{cccccccccccccccc}-0.5 & 0.0 & 0.0 & 0.0 & 0.0 & 0.0 & 0.0 & 0.0 & 0.0 & 0.0 & 0.0 & 0.0 & 0.0 & 0.0 & 0.0 & 0.0\\\\0.0 & 0.5 & 0.0 & 0.0 & 0.0 & 0.0 & 0.0 & 0.0 & 0.0 & 0.0 & 0.0 & 0.0 & 0.0 & 0.0 & 0.0 & 0.0\\\\0.0 & 0.0 & -0.5 & 0.0 & 0.0 & 0.0 & 0.0 & 0.0 & 0.0 & 0.0 & 0.0 & 0.0 & 0.0 & 0.0 & 0.0 & 0.0\\\\0.0 & 0.0 & 0.0 & 0.5 & 0.0 & 0.0 & 0.0 & 0.0 & 0.0 & 0.0 & 0.0 & 0.0 & 0.0 & 0.0 & 0.0 & 0.0\\\\0.0 & 0.0 & 0.0 & 0.0 & -0.5 & 0.0 & 0.0 & 0.0 & 0.0 & 0.0 & 0.0 & 0.0 & 0.0 & 0.0 & 0.0 & 0.0\\\\0.0 & 0.0 & 0.0 & 0.0 & 0.0 & 0.5 & 0.0 & 0.0 & 0.0 & 0.0 & 0.0 & 0.0 & 0.0 & 0.0 & 0.0 & 0.0\\\\0.0 & 0.0 & 0.0 & 0.0 & 0.0 & 0.0 & -0.5 & 0.0 & 0.0 & 0.0 & 0.0 & 0.0 & 0.0 & 0.0 & 0.0 & 0.0\\\\0.0 & 0.0 & 0.0 & 0.0 & 0.0 & 0.0 & 0.0 & 0.5 & 0.0 & 0.0 & 0.0 & 0.0 & 0.0 & 0.0 & 0.0 & 0.0\\\\0.0 & 0.0 & 0.0 & 0.0 & 0.0 & 0.0 & 0.0 & 0.0 & -0.5 & 0.0 & 0.0 & 0.0 & 0.0 & 0.0 & 0.0 & 0.0\\\\0.0 & 0.0 & 0.0 & 0.0 & 0.0 & 0.0 & 0.0 & 0.0 & 0.0 & 0.5 & 0.0 & 0.0 & 0.0 & 0.0 & 0.0 & 0.0\\\\0.0 & 0.0 & 0.0 & 0.0 & 0.0 & 0.0 & 0.0 & 0.0 & 0.0 & 0.0 & -0.5 & 0.0 & 0.0 & 0.0 & 0.0 & 0.0\\\\0.0 & 0.0 & 0.0 & 0.0 & 0.0 & 0.0 & 0.0 & 0.0 & 0.0 & 0.0 & 0.0 & 0.5 & 0.0 & 0.0 & 0.0 & 0.0\\\\0.0 & 0.0 & 0.0 & 0.0 & 0.0 & 0.0 & 0.0 & 0.0 & 0.0 & 0.0 & 0.0 & 0.0 & -0.5 & 0.0 & 0.0 & 0.0\\\\0.0 & 0.0 & 0.0 & 0.0 & 0.0 & 0.0 & 0.0 & 0.0 & 0.0 & 0.0 & 0.0 & 0.0 & 0.0 & 0.5 & 0.0 & 0.0\\\\0.0 & 0.0 & 0.0 & 0.0 & 0.0 & 0.0 & 0.0 & 0.0 & 0.0 & 0.0 & 0.0 & 0.0 & 0.0 & 0.0 & -0.5 & 0.0\\\\0.0 & 0.0 & 0.0 & 0.0 & 0.0 & 0.0 & 0.0 & 0.0 & 0.0 & 0.0 & 0.0 & 0.0 & 0.0 & 0.0 & 0.0 & 0.5\\end{array}\\right]$"
      ],
      "text/plain": [
       "Matrix([\n",
       "[-0.5, 0.0,  0.0, 0.0,  0.0, 0.0,  0.0, 0.0,  0.0, 0.0,  0.0, 0.0,  0.0, 0.0,  0.0, 0.0],\n",
       "[ 0.0, 0.5,  0.0, 0.0,  0.0, 0.0,  0.0, 0.0,  0.0, 0.0,  0.0, 0.0,  0.0, 0.0,  0.0, 0.0],\n",
       "[ 0.0, 0.0, -0.5, 0.0,  0.0, 0.0,  0.0, 0.0,  0.0, 0.0,  0.0, 0.0,  0.0, 0.0,  0.0, 0.0],\n",
       "[ 0.0, 0.0,  0.0, 0.5,  0.0, 0.0,  0.0, 0.0,  0.0, 0.0,  0.0, 0.0,  0.0, 0.0,  0.0, 0.0],\n",
       "[ 0.0, 0.0,  0.0, 0.0, -0.5, 0.0,  0.0, 0.0,  0.0, 0.0,  0.0, 0.0,  0.0, 0.0,  0.0, 0.0],\n",
       "[ 0.0, 0.0,  0.0, 0.0,  0.0, 0.5,  0.0, 0.0,  0.0, 0.0,  0.0, 0.0,  0.0, 0.0,  0.0, 0.0],\n",
       "[ 0.0, 0.0,  0.0, 0.0,  0.0, 0.0, -0.5, 0.0,  0.0, 0.0,  0.0, 0.0,  0.0, 0.0,  0.0, 0.0],\n",
       "[ 0.0, 0.0,  0.0, 0.0,  0.0, 0.0,  0.0, 0.5,  0.0, 0.0,  0.0, 0.0,  0.0, 0.0,  0.0, 0.0],\n",
       "[ 0.0, 0.0,  0.0, 0.0,  0.0, 0.0,  0.0, 0.0, -0.5, 0.0,  0.0, 0.0,  0.0, 0.0,  0.0, 0.0],\n",
       "[ 0.0, 0.0,  0.0, 0.0,  0.0, 0.0,  0.0, 0.0,  0.0, 0.5,  0.0, 0.0,  0.0, 0.0,  0.0, 0.0],\n",
       "[ 0.0, 0.0,  0.0, 0.0,  0.0, 0.0,  0.0, 0.0,  0.0, 0.0, -0.5, 0.0,  0.0, 0.0,  0.0, 0.0],\n",
       "[ 0.0, 0.0,  0.0, 0.0,  0.0, 0.0,  0.0, 0.0,  0.0, 0.0,  0.0, 0.5,  0.0, 0.0,  0.0, 0.0],\n",
       "[ 0.0, 0.0,  0.0, 0.0,  0.0, 0.0,  0.0, 0.0,  0.0, 0.0,  0.0, 0.0, -0.5, 0.0,  0.0, 0.0],\n",
       "[ 0.0, 0.0,  0.0, 0.0,  0.0, 0.0,  0.0, 0.0,  0.0, 0.0,  0.0, 0.0,  0.0, 0.5,  0.0, 0.0],\n",
       "[ 0.0, 0.0,  0.0, 0.0,  0.0, 0.0,  0.0, 0.0,  0.0, 0.0,  0.0, 0.0,  0.0, 0.0, -0.5, 0.0],\n",
       "[ 0.0, 0.0,  0.0, 0.0,  0.0, 0.0,  0.0, 0.0,  0.0, 0.0,  0.0, 0.0,  0.0, 0.0,  0.0, 0.5]])"
      ]
     },
     "metadata": {},
     "output_type": "display_data"
    },
    {
     "name": "stdout",
     "output_type": "stream",
     "text": [
      "From tensor (sig_x)\n"
     ]
    },
    {
     "data": {
      "text/latex": [
       "$\\displaystyle \\left[\\begin{array}{cccccccccccccccc}0.0 & 0.5 & 0.0 & 0.0 & 0.0 & 0.0 & 0.0 & 0.0 & 0.0 & 0.0 & 0.0 & 0.0 & 0.0 & 0.0 & 0.0 & 0.0\\\\0.5 & 0.0 & 0.0 & 0.0 & 0.0 & 0.0 & 0.0 & 0.0 & 0.0 & 0.0 & 0.0 & 0.0 & 0.0 & 0.0 & 0.0 & 0.0\\\\0.0 & 0.0 & 0.0 & 0.5 & 0.0 & 0.0 & 0.0 & 0.0 & 0.0 & 0.0 & 0.0 & 0.0 & 0.0 & 0.0 & 0.0 & 0.0\\\\0.0 & 0.0 & 0.5 & 0.0 & 0.0 & 0.0 & 0.0 & 0.0 & 0.0 & 0.0 & 0.0 & 0.0 & 0.0 & 0.0 & 0.0 & 0.0\\\\0.0 & 0.0 & 0.0 & 0.0 & 0.0 & 0.5 & 0.0 & 0.0 & 0.0 & 0.0 & 0.0 & 0.0 & 0.0 & 0.0 & 0.0 & 0.0\\\\0.0 & 0.0 & 0.0 & 0.0 & 0.5 & 0.0 & 0.0 & 0.0 & 0.0 & 0.0 & 0.0 & 0.0 & 0.0 & 0.0 & 0.0 & 0.0\\\\0.0 & 0.0 & 0.0 & 0.0 & 0.0 & 0.0 & 0.0 & 0.5 & 0.0 & 0.0 & 0.0 & 0.0 & 0.0 & 0.0 & 0.0 & 0.0\\\\0.0 & 0.0 & 0.0 & 0.0 & 0.0 & 0.0 & 0.5 & 0.0 & 0.0 & 0.0 & 0.0 & 0.0 & 0.0 & 0.0 & 0.0 & 0.0\\\\0.0 & 0.0 & 0.0 & 0.0 & 0.0 & 0.0 & 0.0 & 0.0 & 0.0 & 0.5 & 0.0 & 0.0 & 0.0 & 0.0 & 0.0 & 0.0\\\\0.0 & 0.0 & 0.0 & 0.0 & 0.0 & 0.0 & 0.0 & 0.0 & 0.5 & 0.0 & 0.0 & 0.0 & 0.0 & 0.0 & 0.0 & 0.0\\\\0.0 & 0.0 & 0.0 & 0.0 & 0.0 & 0.0 & 0.0 & 0.0 & 0.0 & 0.0 & 0.0 & 0.5 & 0.0 & 0.0 & 0.0 & 0.0\\\\0.0 & 0.0 & 0.0 & 0.0 & 0.0 & 0.0 & 0.0 & 0.0 & 0.0 & 0.0 & 0.5 & 0.0 & 0.0 & 0.0 & 0.0 & 0.0\\\\0.0 & 0.0 & 0.0 & 0.0 & 0.0 & 0.0 & 0.0 & 0.0 & 0.0 & 0.0 & 0.0 & 0.0 & 0.0 & 0.5 & 0.0 & 0.0\\\\0.0 & 0.0 & 0.0 & 0.0 & 0.0 & 0.0 & 0.0 & 0.0 & 0.0 & 0.0 & 0.0 & 0.0 & 0.5 & 0.0 & 0.0 & 0.0\\\\0.0 & 0.0 & 0.0 & 0.0 & 0.0 & 0.0 & 0.0 & 0.0 & 0.0 & 0.0 & 0.0 & 0.0 & 0.0 & 0.0 & 0.0 & 0.5\\\\0.0 & 0.0 & 0.0 & 0.0 & 0.0 & 0.0 & 0.0 & 0.0 & 0.0 & 0.0 & 0.0 & 0.0 & 0.0 & 0.0 & 0.5 & 0.0\\end{array}\\right]$"
      ],
      "text/plain": [
       "Matrix([\n",
       "[0.0, 0.5, 0.0, 0.0, 0.0, 0.0, 0.0, 0.0, 0.0, 0.0, 0.0, 0.0, 0.0, 0.0, 0.0, 0.0],\n",
       "[0.5, 0.0, 0.0, 0.0, 0.0, 0.0, 0.0, 0.0, 0.0, 0.0, 0.0, 0.0, 0.0, 0.0, 0.0, 0.0],\n",
       "[0.0, 0.0, 0.0, 0.5, 0.0, 0.0, 0.0, 0.0, 0.0, 0.0, 0.0, 0.0, 0.0, 0.0, 0.0, 0.0],\n",
       "[0.0, 0.0, 0.5, 0.0, 0.0, 0.0, 0.0, 0.0, 0.0, 0.0, 0.0, 0.0, 0.0, 0.0, 0.0, 0.0],\n",
       "[0.0, 0.0, 0.0, 0.0, 0.0, 0.5, 0.0, 0.0, 0.0, 0.0, 0.0, 0.0, 0.0, 0.0, 0.0, 0.0],\n",
       "[0.0, 0.0, 0.0, 0.0, 0.5, 0.0, 0.0, 0.0, 0.0, 0.0, 0.0, 0.0, 0.0, 0.0, 0.0, 0.0],\n",
       "[0.0, 0.0, 0.0, 0.0, 0.0, 0.0, 0.0, 0.5, 0.0, 0.0, 0.0, 0.0, 0.0, 0.0, 0.0, 0.0],\n",
       "[0.0, 0.0, 0.0, 0.0, 0.0, 0.0, 0.5, 0.0, 0.0, 0.0, 0.0, 0.0, 0.0, 0.0, 0.0, 0.0],\n",
       "[0.0, 0.0, 0.0, 0.0, 0.0, 0.0, 0.0, 0.0, 0.0, 0.5, 0.0, 0.0, 0.0, 0.0, 0.0, 0.0],\n",
       "[0.0, 0.0, 0.0, 0.0, 0.0, 0.0, 0.0, 0.0, 0.5, 0.0, 0.0, 0.0, 0.0, 0.0, 0.0, 0.0],\n",
       "[0.0, 0.0, 0.0, 0.0, 0.0, 0.0, 0.0, 0.0, 0.0, 0.0, 0.0, 0.5, 0.0, 0.0, 0.0, 0.0],\n",
       "[0.0, 0.0, 0.0, 0.0, 0.0, 0.0, 0.0, 0.0, 0.0, 0.0, 0.5, 0.0, 0.0, 0.0, 0.0, 0.0],\n",
       "[0.0, 0.0, 0.0, 0.0, 0.0, 0.0, 0.0, 0.0, 0.0, 0.0, 0.0, 0.0, 0.0, 0.5, 0.0, 0.0],\n",
       "[0.0, 0.0, 0.0, 0.0, 0.0, 0.0, 0.0, 0.0, 0.0, 0.0, 0.0, 0.0, 0.5, 0.0, 0.0, 0.0],\n",
       "[0.0, 0.0, 0.0, 0.0, 0.0, 0.0, 0.0, 0.0, 0.0, 0.0, 0.0, 0.0, 0.0, 0.0, 0.0, 0.5],\n",
       "[0.0, 0.0, 0.0, 0.0, 0.0, 0.0, 0.0, 0.0, 0.0, 0.0, 0.0, 0.0, 0.0, 0.0, 0.5, 0.0]])"
      ]
     },
     "metadata": {},
     "output_type": "display_data"
    },
    {
     "name": "stdout",
     "output_type": "stream",
     "text": [
      "From tensor (sig_z)\n"
     ]
    },
    {
     "data": {
      "text/latex": [
       "$\\displaystyle \\left[\\begin{array}{cccccccccccccccc}-0.5 & 0.0 & 0.0 & 0.0 & 0.0 & 0.0 & 0.0 & 0.0 & 0.0 & 0.0 & 0.0 & 0.0 & 0.0 & 0.0 & 0.0 & 0.0\\\\0.0 & 0.5 & 0.0 & 0.0 & 0.0 & 0.0 & 0.0 & 0.0 & 0.0 & 0.0 & 0.0 & 0.0 & 0.0 & 0.0 & 0.0 & 0.0\\\\0.0 & 0.0 & -0.5 & 0.0 & 0.0 & 0.0 & 0.0 & 0.0 & 0.0 & 0.0 & 0.0 & 0.0 & 0.0 & 0.0 & 0.0 & 0.0\\\\0.0 & 0.0 & 0.0 & 0.5 & 0.0 & 0.0 & 0.0 & 0.0 & 0.0 & 0.0 & 0.0 & 0.0 & 0.0 & 0.0 & 0.0 & 0.0\\\\0.0 & 0.0 & 0.0 & 0.0 & -0.5 & 0.0 & 0.0 & 0.0 & 0.0 & 0.0 & 0.0 & 0.0 & 0.0 & 0.0 & 0.0 & 0.0\\\\0.0 & 0.0 & 0.0 & 0.0 & 0.0 & 0.5 & 0.0 & 0.0 & 0.0 & 0.0 & 0.0 & 0.0 & 0.0 & 0.0 & 0.0 & 0.0\\\\0.0 & 0.0 & 0.0 & 0.0 & 0.0 & 0.0 & -0.5 & 0.0 & 0.0 & 0.0 & 0.0 & 0.0 & 0.0 & 0.0 & 0.0 & 0.0\\\\0.0 & 0.0 & 0.0 & 0.0 & 0.0 & 0.0 & 0.0 & 0.5 & 0.0 & 0.0 & 0.0 & 0.0 & 0.0 & 0.0 & 0.0 & 0.0\\\\0.0 & 0.0 & 0.0 & 0.0 & 0.0 & 0.0 & 0.0 & 0.0 & -0.5 & 0.0 & 0.0 & 0.0 & 0.0 & 0.0 & 0.0 & 0.0\\\\0.0 & 0.0 & 0.0 & 0.0 & 0.0 & 0.0 & 0.0 & 0.0 & 0.0 & 0.5 & 0.0 & 0.0 & 0.0 & 0.0 & 0.0 & 0.0\\\\0.0 & 0.0 & 0.0 & 0.0 & 0.0 & 0.0 & 0.0 & 0.0 & 0.0 & 0.0 & -0.5 & 0.0 & 0.0 & 0.0 & 0.0 & 0.0\\\\0.0 & 0.0 & 0.0 & 0.0 & 0.0 & 0.0 & 0.0 & 0.0 & 0.0 & 0.0 & 0.0 & 0.5 & 0.0 & 0.0 & 0.0 & 0.0\\\\0.0 & 0.0 & 0.0 & 0.0 & 0.0 & 0.0 & 0.0 & 0.0 & 0.0 & 0.0 & 0.0 & 0.0 & -0.5 & 0.0 & 0.0 & 0.0\\\\0.0 & 0.0 & 0.0 & 0.0 & 0.0 & 0.0 & 0.0 & 0.0 & 0.0 & 0.0 & 0.0 & 0.0 & 0.0 & 0.5 & 0.0 & 0.0\\\\0.0 & 0.0 & 0.0 & 0.0 & 0.0 & 0.0 & 0.0 & 0.0 & 0.0 & 0.0 & 0.0 & 0.0 & 0.0 & 0.0 & -0.5 & 0.0\\\\0.0 & 0.0 & 0.0 & 0.0 & 0.0 & 0.0 & 0.0 & 0.0 & 0.0 & 0.0 & 0.0 & 0.0 & 0.0 & 0.0 & 0.0 & 0.5\\end{array}\\right]$"
      ],
      "text/plain": [
       "Matrix([\n",
       "[-0.5, 0.0,  0.0, 0.0,  0.0, 0.0,  0.0, 0.0,  0.0, 0.0,  0.0, 0.0,  0.0, 0.0,  0.0, 0.0],\n",
       "[ 0.0, 0.5,  0.0, 0.0,  0.0, 0.0,  0.0, 0.0,  0.0, 0.0,  0.0, 0.0,  0.0, 0.0,  0.0, 0.0],\n",
       "[ 0.0, 0.0, -0.5, 0.0,  0.0, 0.0,  0.0, 0.0,  0.0, 0.0,  0.0, 0.0,  0.0, 0.0,  0.0, 0.0],\n",
       "[ 0.0, 0.0,  0.0, 0.5,  0.0, 0.0,  0.0, 0.0,  0.0, 0.0,  0.0, 0.0,  0.0, 0.0,  0.0, 0.0],\n",
       "[ 0.0, 0.0,  0.0, 0.0, -0.5, 0.0,  0.0, 0.0,  0.0, 0.0,  0.0, 0.0,  0.0, 0.0,  0.0, 0.0],\n",
       "[ 0.0, 0.0,  0.0, 0.0,  0.0, 0.5,  0.0, 0.0,  0.0, 0.0,  0.0, 0.0,  0.0, 0.0,  0.0, 0.0],\n",
       "[ 0.0, 0.0,  0.0, 0.0,  0.0, 0.0, -0.5, 0.0,  0.0, 0.0,  0.0, 0.0,  0.0, 0.0,  0.0, 0.0],\n",
       "[ 0.0, 0.0,  0.0, 0.0,  0.0, 0.0,  0.0, 0.5,  0.0, 0.0,  0.0, 0.0,  0.0, 0.0,  0.0, 0.0],\n",
       "[ 0.0, 0.0,  0.0, 0.0,  0.0, 0.0,  0.0, 0.0, -0.5, 0.0,  0.0, 0.0,  0.0, 0.0,  0.0, 0.0],\n",
       "[ 0.0, 0.0,  0.0, 0.0,  0.0, 0.0,  0.0, 0.0,  0.0, 0.5,  0.0, 0.0,  0.0, 0.0,  0.0, 0.0],\n",
       "[ 0.0, 0.0,  0.0, 0.0,  0.0, 0.0,  0.0, 0.0,  0.0, 0.0, -0.5, 0.0,  0.0, 0.0,  0.0, 0.0],\n",
       "[ 0.0, 0.0,  0.0, 0.0,  0.0, 0.0,  0.0, 0.0,  0.0, 0.0,  0.0, 0.5,  0.0, 0.0,  0.0, 0.0],\n",
       "[ 0.0, 0.0,  0.0, 0.0,  0.0, 0.0,  0.0, 0.0,  0.0, 0.0,  0.0, 0.0, -0.5, 0.0,  0.0, 0.0],\n",
       "[ 0.0, 0.0,  0.0, 0.0,  0.0, 0.0,  0.0, 0.0,  0.0, 0.0,  0.0, 0.0,  0.0, 0.5,  0.0, 0.0],\n",
       "[ 0.0, 0.0,  0.0, 0.0,  0.0, 0.0,  0.0, 0.0,  0.0, 0.0,  0.0, 0.0,  0.0, 0.0, -0.5, 0.0],\n",
       "[ 0.0, 0.0,  0.0, 0.0,  0.0, 0.0,  0.0, 0.0,  0.0, 0.0,  0.0, 0.0,  0.0, 0.0,  0.0, 0.5]])"
      ]
     },
     "metadata": {},
     "output_type": "display_data"
    }
   ],
   "source": [
    "from Algebra.Operator.operators_spin import _SIG_X, _SIG_Z, _SIG_0\n",
    "\n",
    "sig_x_op_mat = sig_x_op.matrix(dim = nh, matrix_type = 'sparse', use_numpy = True)\n",
    "sig_x_op_mat_kron = np.kron(eye_first, _SIG_X * 0.5)\n",
    "sig_z_op_mat = sig_z_op.matrix(dim = nh, matrix_type = 'sparse', use_numpy = True)\n",
    "sig_z_op_mat_kron = np.kron(eye_first, -_SIG_Z * 0.5)\n",
    "\n",
    "# compare the two\n",
    "is_equal = np.allclose(sig_x_op_mat.todense(), sig_x_op_mat_kron)\n",
    "print(\"Are the two matrices (sig_x) equal?\", is_equal)\n",
    "is_equal = np.allclose(sig_z_op_mat.todense(), sig_z_op_mat_kron)\n",
    "print(\"Are the two matrices (sig_z) equal?\", is_equal)\n",
    "\n",
    "if nh < 64:\n",
    "    from general_python.common.plot import MatrixPrinter\n",
    "    print(\"From the operator (sig_x)\")\n",
    "    MatrixPrinter.print_matrix(sig_x_op_mat.todense())\n",
    "    print(\"From the operator (sig_z)\")\n",
    "    MatrixPrinter.print_matrix(sig_z_op_mat.todense())\n",
    "    print(\"From tensor (sig_x)\")\n",
    "    MatrixPrinter.print_matrix(sig_x_op_mat_kron)\n",
    "    print(\"From tensor (sig_z)\")\n",
    "    MatrixPrinter.print_matrix(sig_z_op_mat_kron)"
   ]
  },
  {
   "cell_type": "markdown",
   "metadata": {},
   "source": [
    "###### With Hamiltonian"
   ]
  },
  {
   "cell_type": "markdown",
   "metadata": {},
   "source": [
    "###### Matrix"
   ]
  },
  {
   "cell_type": "code",
   "execution_count": 11,
   "metadata": {},
   "outputs": [
    {
     "name": "stderr",
     "output_type": "stream",
     "text": [
      "100%|██████████| 20/20 [00:03<00:00,  6.58it/s]\n",
      "100%|██████████| 20/20 [00:03<00:00,  6.22it/s]\n",
      "100%|██████████| 20/20 [00:03<00:00,  5.45it/s]\n",
      "100%|██████████| 10/10 [00:02<00:00,  3.53it/s]\n"
     ]
    }
   ],
   "source": [
    "from general_python.algebra.linalg import act, overlap\n",
    "from general_python.common.plot import Plotter, colorsCycle\n",
    "from general_python.maths.statistics import Statistics, HistogramAverage, Fraction\n",
    "from Algebra.Operator.operators_spin import sig_x, sig_z, OperatorTypeActing\n",
    "import matplotlib.pyplot as plt\n",
    "from tqdm import tqdm\n",
    "\n",
    "dtype           = 'float64'\n",
    "nrealizations   = (np.array([100, 100, 100, 50, 30, 20])/5).astype(int)\n",
    "alpha           = 0.86\n",
    "histograms_x    = {}\n",
    "histograms_z    = {}\n",
    "diagonals_x     = {}\n",
    "diagonals_z     = {}\n",
    "energies        = {}\n",
    "nss             = [6,7,8,9]\n",
    "\n",
    "# nss             = [9,10,11]\n",
    "# nrealizations   = [10]\n",
    "\n",
    "def set_histogram(hamiltonian, hist_sig_x: HistogramAverage, hist_sig_z: HistogramAverage, nbins):\n",
    "    bandwidth       = hamiltonian.get_bandwidth()\n",
    "    omax            = bandwidth * 3\n",
    "    omin            = 0.01 / hamiltonian.hilbert_size\n",
    "    tolerance       = 0.02 * bandwidth\n",
    "    hist_sig_x.reset(nbins=nbins)\n",
    "    hist_sig_x.uniform_log(v_max=omax, v_min=omin)\n",
    "    hist_sig_z.reset(nbins=nbins)\n",
    "    hist_sig_z.uniform_log(v_max=omax, v_min=omin)\n",
    "    return tolerance\n",
    "\n",
    "for ii, ns in enumerate(nss):\n",
    "    realizations    = nrealizations[ii] if ii < len(nrealizations) else nrealizations[-1]\n",
    "    energies[ns]    = []\n",
    "    diagonals_x[ns] = []\n",
    "    diagonals_z[ns] = []\n",
    "    nh              = 2**ns\n",
    "    sites           = [ns - 1]\n",
    "    # sites           = [0]\n",
    "    sig_x_op        = sig_x(ns = ns, type_act = OperatorTypeActing.Global, sites = sites, backend=backend)\n",
    "    sig_z_op        = sig_z(ns = ns, type_act = OperatorTypeActing.Global, sites = sites, backend=backend)\n",
    "    sig_x_op_mat    = sig_x_op.matrix(dim = nh, matrix_type = 'sparse', use_numpy = True)\n",
    "    sig_z_op_mat    = sig_z_op.matrix(dim = nh, matrix_type = 'sparse', use_numpy = True)\n",
    "    histogram_sig_x = HistogramAverage(dtype=dtype)\n",
    "    histogram_sig_z = HistogramAverage(dtype=dtype)\n",
    "    nbins           = int(20 * np.log2(nh))\n",
    "    tolerance       = 0.0\n",
    "    for realization in tqdm(range(realizations)):\n",
    "        # print(f\"Realization {realization + 1}/{nrealizations}\")\n",
    "        hamil       = QSM(ns=ns, hilbert_space=None, n=3, a=alpha, h=1.0, xi=0.2, backend = 'np', dtype='float64')\n",
    "        hamil.build(verbose=False, use_numpy=True)\n",
    "        hamil.diagonalize(verbose=False)\n",
    "        states      = hamil.eig_vec\n",
    "        eigvals     = hamil.eig_val\n",
    "        sig_x_elems = overlap(states, states, sig_x_op_mat, backend = backend)\n",
    "        sig_z_elems = overlap(states, states, sig_z_op_mat, backend = backend)\n",
    "        diag_sig_x  = sig_x_elems.diagonal()\n",
    "        diag_sig_z  = sig_z_elems.diagonal()\n",
    "        if realization == 0:\n",
    "            tolerance = set_histogram(hamil, histogram_sig_x, histogram_sig_z, nbins)\n",
    "        # get the average energy\n",
    "        energy_at       = hamil.av_en\n",
    "        # create the f_functions by taking the middle spectrum (%)\n",
    "        w, i_idx, j_idx = Fraction.spectral_function_fraction(eigvals, energy_at, tolerance)\n",
    "        # ones            = np.ones_like(sig_x_elems)\n",
    "        # ones[i_idx, j_idx] = 0\n",
    "        # plt.imshow(ones)\n",
    "        # fill the histogram\n",
    "        sig_x_changed   = np.abs(sig_x_elems[i_idx, j_idx])**2\n",
    "        sig_z_changed   = np.abs(sig_z_elems[i_idx, j_idx])**2\n",
    "        histogram_sig_x.append(w, np.abs(sig_x_elems[i_idx, j_idx])**2)\n",
    "        histogram_sig_z.append(w, np.abs(sig_z_elems[i_idx, j_idx])**2)\n",
    "        diagonals_x[ns].append(diag_sig_x)\n",
    "        diagonals_z[ns].append(diag_sig_z)\n",
    "        energies[ns].append(eigvals)\n",
    "    histograms_x[ns] = histogram_sig_x\n",
    "    histograms_z[ns] = histogram_sig_z\n",
    "    "
   ]
  },
  {
   "cell_type": "code",
   "execution_count": 12,
   "metadata": {},
   "outputs": [
    {
     "name": "stderr",
     "output_type": "stream",
     "text": [
      "<>:16: SyntaxWarning: invalid escape sequence '\\s'\n",
      "<>:17: SyntaxWarning: invalid escape sequence '\\s'\n",
      "<>:16: SyntaxWarning: invalid escape sequence '\\s'\n",
      "<>:17: SyntaxWarning: invalid escape sequence '\\s'\n",
      "/var/folders/7h/4tmv99_x2djdm97ys2h7mh5m0000gn/T/ipykernel_54408/2259988145.py:16: SyntaxWarning: invalid escape sequence '\\s'\n",
      "  Plotter.set_ax_params(ax[0], xlabel='i/L', ylabel=r'$O_{ii}$', title='$\\sigma_x$')\n",
      "/var/folders/7h/4tmv99_x2djdm97ys2h7mh5m0000gn/T/ipykernel_54408/2259988145.py:17: SyntaxWarning: invalid escape sequence '\\s'\n",
      "  Plotter.set_ax_params(ax[1], xlabel='i/L', ylabel=r'$O_{ii}$', title='$\\sigma_z$')\n",
      "/Users/makskliczkowski/Codes/QuantumEigenSolver/Python/QES/general_python/physics/eigenlevels.py:91: SyntaxWarning: invalid escape sequence '\\g'\n",
      "  '''\n"
     ]
    },
    {
     "name": "stdout",
     "output_type": "stream",
     "text": [
      "ns = 6, gap_ratio = 0.5285328327645128\n",
      "ns = 7, gap_ratio = 0.5027967678481345\n",
      "ns = 8, gap_ratio = 0.5176490209760167\n",
      "ns = 9, gap_ratio = 0.5005562001176407\n"
     ]
    },
    {
     "data": {
      "image/png": "[encoded data removed]",
      "text/plain": [
       "<Figure size 750x750 with 4 Axes>"
      ]
     },
     "metadata": {},
     "output_type": "display_data"
    }
   ],
   "source": [
    "from general_python.physics.eigenlevels import gap_ratio\n",
    "fig, ax     = Plotter.get_subplots(nrows=2, ncols=2, sizex=5, sizey=5, dpi=150)\n",
    "\n",
    "# plot\n",
    "for ii, ns in enumerate(energies.keys()):\n",
    "    realizations = nrealizations[ii] if ii < len(nrealizations) else nrealizations[-1]\n",
    "    nh          = 2**ns\n",
    "    x           = energies[ns][0] / ns\n",
    "    # x           = np.arange(nh)\n",
    "    colors1, _, _= Plotter.get_colormap(nss, cmap='viridis')\n",
    "    colors2, _, _= Plotter.get_colormap(nss, cmap='plasma_r')\n",
    "    color1      = colors1(ns)\n",
    "    color2      = colors2(ns)\n",
    "    Plotter.scatter(ax[0], x, diagonals_x[ns][0], label=f'$L={ns}$', color=color1)\n",
    "    Plotter.scatter(ax[1], x, diagonals_z[ns][0], label=f'$L={ns}$', color=color2)\n",
    "    Plotter.set_ax_params(ax[0], xlabel='i/L', ylabel=r'$O_{ii}$', title='$\\sigma_x$')\n",
    "    Plotter.set_ax_params(ax[1], xlabel='i/L', ylabel=r'$O_{ii}$', title='$\\sigma_z$')\n",
    "\n",
    "    Plotter.scatter(ax[2], histograms_x[ns].bin_edges, histograms_x[ns].averages_av()*nh, label=f'$L={ns}$', color=color1)\n",
    "    Plotter.scatter(ax[3], histograms_z[ns].bin_edges, histograms_z[ns].averages_av()*nh, label=f'$L={ns}$', color=color2)\n",
    "    Plotter.set_ax_params(ax[2], xlabel=r'$\\omega$', \n",
    "        ylabel=r'$\\mathcal{D}|O_{ij}|^2$', scale={'x': 'log', 'y': 'log'})\n",
    "    Plotter.set_ax_params(ax[3], xlabel=r'$\\omega$', \n",
    "        ylabel=r'$\\mathcal{D}|O_{ij}|^2$', scale={'x': 'log', 'y': 'log'})\n",
    "    gap_ratios = [gap_ratio(energies[ns][i])['mean'] for i in range(realizations)]\n",
    "    print(f\"ns = {ns}, gap_ratio = {np.mean(gap_ratios)}\")\n",
    "    Plotter.set_legend(ax[2])\n",
    "fig.tight_layout()"
   ]
  },
  {
   "cell_type": "code",
   "execution_count": 15,
   "metadata": {},
   "outputs": [
    {
     "name": "stdout",
     "output_type": "stream",
     "text": [
      "0.5415728726402088\n"
     ]
    }
   ],
   "source": [
    "\n",
    "d_en = np.diff(energies[8])\n",
    "d_en = d_en / np.mean(d_en)\n",
    "gap_ratios = np.minimum(d_en[:-1], d_en[1:]) / np.maximum(d_en[:-1], d_en[1:])\n",
    "print(np.mean(gap_ratios))\n"
   ]
  },
  {
   "cell_type": "markdown",
   "metadata": {},
   "source": [
    "# Linear algebra"
   ]
  },
  {
   "cell_type": "code",
   "execution_count": 9,
   "metadata": {},
   "outputs": [],
   "source": [
    "import general_python.algebra as algebra\n",
    "a = algebra.AlgebraTests(backend='jax')\n",
    "b = algebra.AlgebraTests(backend='numpy')"
   ]
  },
  {
   "cell_type": "markdown",
   "metadata": {},
   "source": [
    "## Standard tests"
   ]
  },
  {
   "cell_type": "markdown",
   "metadata": {},
   "source": [
    "### Change the basis with a unitary matrix"
   ]
  },
  {
   "cell_type": "code",
   "execution_count": null,
   "metadata": {},
   "outputs": [],
   "source": [
    "a.change_basis(verbose=True)\n",
    "b.change_basis(verbose=True)"
   ]
  },
  {
   "cell_type": "markdown",
   "metadata": {},
   "source": [
    "### Change the basis of a matrix with a unitary matrix"
   ]
  },
  {
   "cell_type": "code",
   "execution_count": null,
   "metadata": {},
   "outputs": [],
   "source": [
    "a.change_basis_matrix(verbose=True)"
   ]
  },
  {
   "cell_type": "markdown",
   "metadata": {},
   "source": [
    "### Outer product"
   ]
  },
  {
   "cell_type": "code",
   "execution_count": null,
   "metadata": {},
   "outputs": [],
   "source": [
    "a.outer(verbose=True)\n",
    "b.outer(verbose=True)"
   ]
  },
  {
   "cell_type": "markdown",
   "metadata": {},
   "source": [
    "### Kronecker product"
   ]
  },
  {
   "cell_type": "code",
   "execution_count": null,
   "metadata": {},
   "outputs": [],
   "source": [
    "a.kron(verbose=True)"
   ]
  },
  {
   "cell_type": "markdown",
   "metadata": {},
   "source": [
    "## Linear solvers"
   ]
  },
  {
   "cell_type": "markdown",
   "metadata": {},
   "source": [
    "### Test through examples"
   ]
  },
  {
   "cell_type": "code",
   "execution_count": 10,
   "metadata": {},
   "outputs": [],
   "source": [
    "a = algebra.SolversTests(backend='numpy')\n",
    "b = algebra.SolversTests(backend='jax')"
   ]
  },
  {
   "cell_type": "code",
   "execution_count": 11,
   "metadata": {},
   "outputs": [
    {
     "name": "stdout",
     "output_type": "stream",
     "text": [
      "[TEST 0] Starting solver test using cg\n"
     ]
    },
    {
     "ename": "ValueError",
     "evalue": "Unknown solver type: must be one of DIRECT, BACKEND_SOLVER, SCIPY_DIRECT, SCIPY_CJ, CJ, SCIPY_MINRES, MINRES, MINRES_QLP",
     "output_type": "error",
     "traceback": [
      "\u001b[0;31m---------------------------------------------------------------------------\u001b[0m",
      "\u001b[0;31mKeyError\u001b[0m                                  Traceback (most recent call last)",
      "File \u001b[0;32m~/Codes/QuantumEigenSolver/Python/QES/general_python/algebra/solvers/__init__.py:38\u001b[0m, in \u001b[0;36mchoose_solver\u001b[0;34m(solver_type, backend, size, eps, maxiter, reg)\u001b[0m\n\u001b[1;32m     37\u001b[0m \u001b[38;5;28;01mtry\u001b[39;00m:\n\u001b[0;32m---> 38\u001b[0m     solver_type \u001b[38;5;241m=\u001b[39m SolverType[solver_type\u001b[38;5;241m.\u001b[39mupper()]\n\u001b[1;32m     39\u001b[0m \u001b[38;5;28;01mexcept\u001b[39;00m \u001b[38;5;167;01mKeyError\u001b[39;00m \u001b[38;5;28;01mas\u001b[39;00m exc:\n",
      "File \u001b[0;32m~/miniconda3/lib/python3.12/enum.py:801\u001b[0m, in \u001b[0;36mEnumType.__getitem__\u001b[0;34m(cls, name)\u001b[0m\n\u001b[1;32m    798\u001b[0m \u001b[38;5;250m\u001b[39m\u001b[38;5;124;03m\"\"\"\u001b[39;00m\n\u001b[1;32m    799\u001b[0m \u001b[38;5;124;03mReturn the member matching `name`.\u001b[39;00m\n\u001b[1;32m    800\u001b[0m \u001b[38;5;124;03m\"\"\"\u001b[39;00m\n\u001b[0;32m--> 801\u001b[0m \u001b[38;5;28;01mreturn\u001b[39;00m \u001b[38;5;28mcls\u001b[39m\u001b[38;5;241m.\u001b[39m_member_map_[name]\n",
      "\u001b[0;31mKeyError\u001b[0m: 'CG'",
      "\nThe above exception was the direct cause of the following exception:\n",
      "\u001b[0;31mValueError\u001b[0m                                Traceback (most recent call last)",
      "Cell \u001b[0;32mIn[11], line 1\u001b[0m\n\u001b[0;32m----> 1\u001b[0m a\u001b[38;5;241m.\u001b[39msolver_test()\n",
      "File \u001b[0;32m~/Codes/QuantumEigenSolver/Python/QES/general_python/algebra/__init__.py:364\u001b[0m, in \u001b[0;36mSolversTests.solver_test\u001b[0;34m(self, make_random, symmetric, solver_type, eps, max_iter, reg, precond_type, dtype)\u001b[0m\n\u001b[1;32m    361\u001b[0m a, b    \u001b[38;5;241m=\u001b[39m generate_test_mat_vec(make_random, symmetric, dtype\u001b[38;5;241m=\u001b[39mdtype, backend\u001b[38;5;241m=\u001b[39m\u001b[38;5;28mself\u001b[39m\u001b[38;5;241m.\u001b[39mbackend)\n\u001b[1;32m    363\u001b[0m \u001b[38;5;66;03m# Instantiate the chosen solver.\u001b[39;00m\n\u001b[0;32m--> 364\u001b[0m solver  \u001b[38;5;241m=\u001b[39m choose_solver(solver_type, backend\u001b[38;5;241m=\u001b[39m\u001b[38;5;28mself\u001b[39m\u001b[38;5;241m.\u001b[39mbackend, size\u001b[38;5;241m=\u001b[39ma\u001b[38;5;241m.\u001b[39mshape[\u001b[38;5;241m1\u001b[39m], eps\u001b[38;5;241m=\u001b[39meps, maxiter\u001b[38;5;241m=\u001b[39mmax_iter, reg\u001b[38;5;241m=\u001b[39mreg)\n\u001b[1;32m    366\u001b[0m solver\u001b[38;5;241m.\u001b[39minit_from_matrix(a, b, \u001b[38;5;28;01mNone\u001b[39;00m, reg)\n\u001b[1;32m    368\u001b[0m \u001b[38;5;66;03m# Create a preconditioner if requested.\u001b[39;00m\n",
      "File \u001b[0;32m~/Codes/QuantumEigenSolver/Python/QES/general_python/algebra/solvers/__init__.py:40\u001b[0m, in \u001b[0;36mchoose_solver\u001b[0;34m(solver_type, backend, size, eps, maxiter, reg)\u001b[0m\n\u001b[1;32m     38\u001b[0m         solver_type \u001b[38;5;241m=\u001b[39m SolverType[solver_type\u001b[38;5;241m.\u001b[39mupper()]\n\u001b[1;32m     39\u001b[0m     \u001b[38;5;28;01mexcept\u001b[39;00m \u001b[38;5;167;01mKeyError\u001b[39;00m \u001b[38;5;28;01mas\u001b[39;00m exc:\n\u001b[0;32m---> 40\u001b[0m         \u001b[38;5;28;01mraise\u001b[39;00m \u001b[38;5;167;01mValueError\u001b[39;00m(_SOL_TYPE_ERROR) \u001b[38;5;28;01mfrom\u001b[39;00m \u001b[38;5;21;01mexc\u001b[39;00m\n\u001b[1;32m     42\u001b[0m \u001b[38;5;28;01mif\u001b[39;00m solver_type \u001b[38;5;241m==\u001b[39m SolverType\u001b[38;5;241m.\u001b[39mDIRECT:\n\u001b[1;32m     43\u001b[0m     \u001b[38;5;28;01mreturn\u001b[39;00m DirectSolver(backend\u001b[38;5;241m=\u001b[39mbackend, size\u001b[38;5;241m=\u001b[39msize, eps\u001b[38;5;241m=\u001b[39meps, maxiter\u001b[38;5;241m=\u001b[39mmaxiter, reg\u001b[38;5;241m=\u001b[39mreg)\n",
      "\u001b[0;31mValueError\u001b[0m: Unknown solver type: must be one of DIRECT, BACKEND_SOLVER, SCIPY_DIRECT, SCIPY_CJ, CJ, SCIPY_MINRES, MINRES, MINRES_QLP"
     ]
    }
   ],
   "source": [
    "a.solver_test()"
   ]
  },
  {
   "cell_type": "markdown",
   "metadata": {},
   "source": [
    "# Binary "
   ]
  },
  {
   "cell_type": "markdown",
   "metadata": {},
   "source": [
    "### Standard tests"
   ]
  },
  {
   "cell_type": "code",
   "execution_count": null,
   "metadata": {},
   "outputs": [],
   "source": [
    "from general_python.common import binary\n",
    "NUM         = 42\n",
    "tests       = binary.BinaryFunctionTests()"
   ]
  },
  {
   "cell_type": "code",
   "execution_count": null,
   "metadata": {},
   "outputs": [],
   "source": [
    "tests.run_tests(NUM, spin_value = binary._BACKENDREPR)"
   ]
  },
  {
   "cell_type": "code",
   "execution_count": null,
   "metadata": {},
   "outputs": [],
   "source": [
    "tests.run_tests(NUM, spin_value = binary._BACKENDREPR, backend = 'np')"
   ]
  },
  {
   "cell_type": "markdown",
   "metadata": {},
   "source": [
    "### Test JAX"
   ]
  },
  {
   "cell_type": "code",
   "execution_count": null,
   "metadata": {},
   "outputs": [],
   "source": [
    "from algebra import get_backend\n",
    "import time \n",
    "from jax import numpy as jnp, random as jnpr\n",
    "import numpy as np, numpy.random as npr\n",
    "from jax import jit\n",
    "\n",
    "seed = 1701\n",
    "\n",
    "# Test the speed of the matrix multiplication\n",
    "key_np = npr.seed(seed)\n",
    "key_jnp = jnpr.key(seed)\n",
    "size = 5000\n",
    "\n",
    "def matrix_mult_test_jax(size=size):\n",
    "    random_mat  = jnpr.normal(key_jnp, (size, size))\n",
    "    vec         = jnpr.normal(key_jnp, (size,))\n",
    "    result      = random_mat @ vec\n",
    "    print(\"Result of matrix-vector multiplication:\\n\", result)\n",
    "    \n",
    "def matrix_mult_test_numpy(size = size):\n",
    "    random_mat  = npr.normal(size=(size, size))\n",
    "    vec         = npr.normal(size=(size,))\n",
    "    result      = random_mat @ vec\n",
    "    print(\"Result of matrix-vector multiplication:\\n\", result)\n",
    "    \n",
    "@jit\n",
    "def matrix_mult_test_jax_jit():\n",
    "    random_mat  = jnpr.normal(key_jnp, (size, size))\n",
    "    vec         = jnpr.normal(key_jnp, (size,))\n",
    "    result      = random_mat @ vec\n",
    "    print(\"Result of matrix-vector multiplication:\\n\", result)\n"
   ]
  },
  {
   "cell_type": "markdown",
   "metadata": {},
   "source": [
    "#### Numpy"
   ]
  },
  {
   "cell_type": "code",
   "execution_count": null,
   "metadata": {},
   "outputs": [],
   "source": [
    "start_time = time.time()\n",
    "matrix_mult_test_numpy()\n",
    "end_time = time.time()\n",
    "print(f\"Time taken: {end_time - start_time:.4f} seconds (numpy)\")"
   ]
  },
  {
   "cell_type": "markdown",
   "metadata": {},
   "source": [
    "#### Jax"
   ]
  },
  {
   "cell_type": "code",
   "execution_count": null,
   "metadata": {},
   "outputs": [],
   "source": [
    "start_time = time.time()\n",
    "matrix_mult_test_jax()\n",
    "end_time = time.time()\n",
    "print(f\"Time taken: {end_time - start_time:.4f} seconds (jax)\")"
   ]
  },
  {
   "cell_type": "markdown",
   "metadata": {},
   "source": [
    "#### Jax jit"
   ]
  },
  {
   "cell_type": "code",
   "execution_count": null,
   "metadata": {},
   "outputs": [],
   "source": [
    "start_time = time.time()\n",
    "matrix_mult_test_jax_jit()\n",
    "end_time = time.time()  \n",
    "print(f\"Time taken: {end_time - start_time:.4f} seconds (jax, jitted)\")"
   ]
  },
  {
   "cell_type": "markdown",
   "metadata": {},
   "source": [
    "# Lattice\n"
   ]
  },
  {
   "cell_type": "code",
   "execution_count": null,
   "metadata": {},
   "outputs": [],
   "source": [
    "from lattices import Lattice, run_lattice_tests\n",
    "\n",
    "# Run tests for different configurations\n",
    "# run_lattice_tests(dim=1, lx=10, ly=1, lz=1, bc=lattices.LatticeBC.PBC, typek=\"square\")\n",
    "# run_lattice_tests(dim=2, lx=5, ly=3, lz=1, bc=lattices.LatticeBC.PBC, typek=\"square\")\n",
    "# run_lattice_tests(dim=2, lx=5, ly=5, lz=1, bc=lattices.LatticeBC.OBC, typek=\"square\")\n",
    "# run_lattice_tests(dim=3, lx=3, ly=3, lz=3, bc=lattices.LatticeBC.PBC, typek=\"square\")\n",
    "run_lattice_tests(dim=2, lx=3, ly=2, lz=1, bc=lattices.LatticeBC.PBC, typek=\"honeycomb\")"
   ]
  },
  {
   "cell_type": "code",
   "execution_count": null,
   "metadata": {},
   "outputs": [],
   "source": [
    "import numpy as np \n",
    "import matplotlib.pyplot as plt\n",
    "\n",
    "plt.figure(figsize=(8,8))\n",
    "\n",
    "a = 1\n",
    "b = 1\n",
    "c = 1\n",
    "\n",
    "Lx = 4\n",
    "Ly = 2\n",
    "Ns = 2 * Lx * Ly\n",
    "\n",
    "_a1 = np.array([np.sqrt(3) * a / 2.0, 3 * a / 2.0, 0])\n",
    "_a2 = np.array([np.sqrt(3) * a / 2.0, -3 * a / 2.0, 0])\n",
    "_a3 = np.array([0, 0, c])\n",
    "\n",
    "\n",
    "\n",
    "coords      = []\n",
    "move_vector = _a1 - np.array([0, a, 0])\n",
    "for i in range(Ns):\n",
    "    # get the unit cell on a square lattic\n",
    "    x = (i // 2) % Lx\n",
    "    y = ((i//2) // Lx) % Ly\n",
    "    \n",
    "    # from coorditates to position on the lattice\n",
    "    xy = np.array([0., 0, 0]) if i % 2 == 0 else move_vector\n",
    "    xy += x * (_a1 + _a2) + y * _a1\n",
    "    xp, yp = xy[0], xy[1]\n",
    "    print(xp, yp)\n",
    "    plt.scatter(xp, yp, color='red' if i % 2 == 0 else 'blue', marker='o', s=100, facecolor='none')\n",
    "    plt.text(xp + 0.1, yp + 0.1, i)\n",
    "    \n",
    "    print(\"Ns=\", i, \"-- (x,y)=\", x, y)\n",
    "\n",
    "\n",
    "plt.arrow(0, 0, _a1[0], _a1[1], head_width=0.1, head_length=0.1, fc='r', ec='r')\n",
    "plt.arrow(0, 0, _a2[0], _a2[1], head_width=0.1, head_length=0.1, fc='b', ec='b')\n",
    "# plt.arrow(0, 0, _a1[0] - _a2[0], _a1[1] - _a2[1], head_width=0.1, head_length=0.1, fc='g', ec='g')\n",
    "# plt.arrow(0, 0, _a1[0] + _a2[0], _a1[1] + _a2[1], head_width=0.1, head_length=0.1, fc='y', ec='y')\n",
    "# plt.arrow(0, 0, -_a1[0] + _a2[0], -_a1[1] + _a2[1], head_width=0.1, head_length=0.1, fc='m', ec='m')\n",
    "# plt.arrow(0, 0, -_a1[0] - _a2[0], -_a1[1] - _a2[1], head_width=0.1, head_length=0.1, fc='c', ec='c')\n"
   ]
  },
  {
   "cell_type": "code",
   "execution_count": null,
   "metadata": {},
   "outputs": [],
   "source": []
  },
  {
   "cell_type": "markdown",
   "metadata": {},
   "source": [
    "# NQS"
   ]
  },
  {
   "cell_type": "markdown",
   "metadata": {},
   "source": [
    "## Sampler"
   ]
  },
  {
   "cell_type": "code",
   "execution_count": 1,
   "metadata": {},
   "outputs": [
    {
     "name": "stderr",
     "output_type": "stream",
     "text": [
      "WARNING:jax._src.lib.xla_bridge:No GPU/TPU found, falling back to CPU. (Set TF_CPP_MIN_LOG_LEVEL=0 and rerun for more info.)\n"
     ]
    },
    {
     "name": "stdout",
     "output_type": "stream",
     "text": [
      "=== Backend Initialization ===\n",
      "\tNumPy Version: 1.26.4\n",
      "\tSciPy Version: 1.13.1\n",
      "\tJAX Version: Not Available\n",
      "\t\tActive Backend: jax\n",
      "\t\tJAX Available: True\n",
      "\t\tDefault Random Key: [    0 12345]\n",
      "\tActive Backend Modules:\n",
      "\t\t\tMain Module: <module 'jax.numpy' from '/home/klimak/libraries/anaconda3/lib/python3.11/site-packages/jax/numpy/__init__.py'>\n",
      "\t\t\tRandom Module: <module 'jax.random' from '/home/klimak/libraries/anaconda3/lib/python3.11/site-packages/jax/random.py'>\n",
      "\t\t\tSciPy Module: <module 'jax.scipy' from '/home/klimak/libraries/anaconda3/lib/python3.11/site-packages/jax/scipy/__init__.py'>\n",
      "=== End of Backend Info ===\n"
     ]
    },
    {
     "data": {
      "text/plain": [
       "MCSampler(shape=(10,), mu=2.0, beta=1.0, therm_steps=10, sweep_steps=10, numsamples=5, numchains=10, backend=np)"
      ]
     },
     "execution_count": 1,
     "metadata": {},
     "output_type": "execute_result"
    }
   ],
   "source": [
    "import Solver.MonteCarlo.sampler as Sampling\n",
    "from general_python.algebra.utils import get_backend\n",
    "from general_python.ml.net_impl.net_simple import SimpleNet\n",
    "\n",
    "import random\n",
    "import numpy as np\n",
    "\n",
    "# get random backend\n",
    "backend     = 'np'\n",
    "seed        = 1701\n",
    "be_modules  = get_backend(backend, random=True, seed=seed, scipy=True)\n",
    "backend_np, (rng, rng_k), backend_sp = be_modules if isinstance(be_modules, tuple) else (be_modules, (None, None), None)\n",
    "\n",
    "ns                  = 10\n",
    "st_shape            = (ns, )\n",
    "activations         = ('relu', 'sigmoid')\n",
    "net                 = SimpleNet(act_fun =   activations, \n",
    "                        input_shape     =   st_shape, \n",
    "                        output_shape    =   (1, ),\n",
    "                        layers          =   (5, ),\n",
    "                        backend=backend, dtype='complex128',)\n",
    "            # [random.random() + 1j * random.random() for _ in range(x.shape[0])])\n",
    "# a simple callable network function\n",
    "\n",
    "sampler = Sampling.MCSampler(\n",
    "    net         = net,\n",
    "    shape       = st_shape,\n",
    "    rng         = rng,\n",
    "    rng_k       = rng_k,\n",
    "    numchains   = 10,\n",
    "    numsamples  = 5,\n",
    "    sweep_steps = 10,\n",
    "    backend     = backend,\n",
    "    therm_steps = 10,\n",
    ")\n",
    "\n",
    "sampler"
   ]
  },
  {
   "cell_type": "code",
   "execution_count": 2,
   "metadata": {},
   "outputs": [],
   "source": [
    "# check how the sampler performs\n",
    "(states, logprobas), (configs, configs_ansatze), probabilities = sampler.sample()"
   ]
  },
  {
   "cell_type": "code",
   "execution_count": 3,
   "metadata": {},
   "outputs": [
    {
     "data": {
      "text/plain": [
       "((10, 10), (10,))"
      ]
     },
     "execution_count": 3,
     "metadata": {},
     "output_type": "execute_result"
    }
   ],
   "source": [
    "# final states after sampling, ansatze after sampling\n",
    "states.shape, logprobas.shape"
   ]
  },
  {
   "cell_type": "code",
   "execution_count": 4,
   "metadata": {},
   "outputs": [
    {
     "data": {
      "text/plain": [
       "((50, 10), (50, 1), (50, 1))"
      ]
     },
     "execution_count": 4,
     "metadata": {},
     "output_type": "execute_result"
    }
   ],
   "source": [
    "configs.shape, configs_ansatze.shape, probabilities.shape"
   ]
  },
  {
   "cell_type": "markdown",
   "metadata": {},
   "source": [
    "### Flow"
   ]
  },
  {
   "cell_type": "markdown",
   "metadata": {},
   "source": [
    "#### Standard"
   ]
  },
  {
   "cell_type": "code",
   "execution_count": null,
   "metadata": {},
   "outputs": [
    {
     "name": "stdout",
     "output_type": "stream",
     "text": [
      "Detailed Flow of the Configurations:\n",
      "\n",
      "  Total number of configurations: 10\n",
      "  Total number of states: 10\n",
      "  Total number of probabilities: 10\n",
      "\n",
      "--- Configuration flow 0 ---\n",
      "     Configuration \\(\\mathbf{S}_{0}\\):\n"
     ]
    },
    {
     "data": {
      "text/latex": [
       "$\\displaystyle \\left[\\begin{matrix}-0.5 & 0.5 & 0.5 & -0.5 & 0.5 & -0.5 & -0.5 & 0.5 & 0.5 & 0.5\\\\0.5 & -0.5 & -0.5 & 0.5 & 0.5 & -0.5 & -0.5 & 0.5 & -0.5 & -0.5\\\\0.5 & 0.5 & 0.5 & -0.5 & -0.5 & 0.5 & -0.5 & -0.5 & 0.5 & -0.5\\\\-0.5 & -0.5 & 0.5 & 0.5 & -0.5 & -0.5 & 0.5 & -0.5 & -0.5 & -0.5\\\\0.5 & 0.5 & -0.5 & 0.5 & -0.5 & -0.5 & 0.5 & 0.5 & 0.5 & 0.5\\\\0.5 & 0.5 & 0.5 & -0.5 & -0.5 & 0.5 & 0.5 & -0.5 & -0.5 & 0.5\\\\-0.5 & -0.5 & -0.5 & 0.5 & 0.5 & 0.5 & -0.5 & -0.5 & 0.5 & 0.5\\\\-0.5 & 0.5 & 0.5 & 0.5 & 0.5 & -0.5 & 0.5 & -0.5 & -0.5 & 0.5\\\\-0.5 & -0.5 & 0.5 & -0.5 & -0.5 & -0.5 & -0.5 & -0.5 & 0.5 & 0.5\\\\-0.5 & 0.5 & -0.5 & -0.5 & 0.5 & -0.5 & -0.5 & -0.5 & 0.5 & 0.5\\end{matrix}\\right]$"
      ],
      "text/plain": [
       "Matrix([\n",
       "[-0.5,  0.5,  0.5, -0.5,  0.5, -0.5, -0.5,  0.5,  0.5,  0.5],\n",
       "[ 0.5, -0.5, -0.5,  0.5,  0.5, -0.5, -0.5,  0.5, -0.5, -0.5],\n",
       "[ 0.5,  0.5,  0.5, -0.5, -0.5,  0.5, -0.5, -0.5,  0.5, -0.5],\n",
       "[-0.5, -0.5,  0.5,  0.5, -0.5, -0.5,  0.5, -0.5, -0.5, -0.5],\n",
       "[ 0.5,  0.5, -0.5,  0.5, -0.5, -0.5,  0.5,  0.5,  0.5,  0.5],\n",
       "[ 0.5,  0.5,  0.5, -0.5, -0.5,  0.5,  0.5, -0.5, -0.5,  0.5],\n",
       "[-0.5, -0.5, -0.5,  0.5,  0.5,  0.5, -0.5, -0.5,  0.5,  0.5],\n",
       "[-0.5,  0.5,  0.5,  0.5,  0.5, -0.5,  0.5, -0.5, -0.5,  0.5],\n",
       "[-0.5, -0.5,  0.5, -0.5, -0.5, -0.5, -0.5, -0.5,  0.5,  0.5],\n",
       "[-0.5,  0.5, -0.5, -0.5,  0.5, -0.5, -0.5, -0.5,  0.5,  0.5]])"
      ]
     },
     "metadata": {},
     "output_type": "display_data"
    },
    {
     "name": "stdout",
     "output_type": "stream",
     "text": [
      "    Ansatz \\(f(\\mathbf{S}_{0})\\):\n"
     ]
    },
    {
     "data": {
      "text/latex": [
       "$\\displaystyle \\left[\\begin{matrix}0.243104241479246 - 0.0276354455144398 i & 0.282055377933926 + 0.352876602476411 i & 0.3079503552809 + 0.212957974552467 i & 0.250698412785718 + 0.0580381634205277 i & 0.526410725448599 + 0.0183324201182952 i & -0.109233048299867 + 0.35961465664988 i & 0.307735743708419 + 0.0361965578135887 i & 0.228253260978906 + 0.119531331580963 i & 0.252103762907549 - 0.109410936711242 i & 0.235756647884145 + 0.0862162987254024 i\\end{matrix}\\right]$"
      ],
      "text/plain": [
       "Matrix([[0.243104241479246 - 0.0276354455144398*I, 0.282055377933926 + 0.352876602476411*I, 0.3079503552809 + 0.212957974552467*I, 0.250698412785718 + 0.0580381634205277*I, 0.526410725448599 + 0.0183324201182952*I, -0.109233048299867 + 0.35961465664988*I, 0.307735743708419 + 0.0361965578135887*I, 0.228253260978906 + 0.119531331580963*I, 0.252103762907549 - 0.109410936711242*I, 0.235756647884145 + 0.0862162987254024*I]])"
      ]
     },
     "metadata": {},
     "output_type": "display_data"
    },
    {
     "name": "stdout",
     "output_type": "stream",
     "text": [
      "    Probability \\(P(\\mathbf{S}_{0})\\):\n"
     ]
    },
    {
     "data": {
      "text/latex": [
       "$\\displaystyle \\left[\\begin{matrix}1.0 & 1.0 & 1.0 & 1.0 & 1.0 & 1.0 & 1.0 & 1.0 & 1.0 & 1.0\\end{matrix}\\right]$"
      ],
      "text/plain": [
       "Matrix([[1.0, 1.0, 1.0, 1.0, 1.0, 1.0, 1.0, 1.0, 1.0, 1.0]])"
      ]
     },
     "metadata": {},
     "output_type": "display_data"
    },
    {
     "name": "stdout",
     "output_type": "stream",
     "text": [
      "\n",
      "--------------------------------------------------\n",
      "\n",
      "--- Configuration flow 1 ---\n",
      "     Configuration \\(\\mathbf{S}_{1}\\):\n"
     ]
    },
    {
     "data": {
      "text/latex": [
       "$\\displaystyle \\left[\\begin{matrix}0.5 & 0.5 & 0.5 & -0.5 & 0.5 & -0.5 & -0.5 & 0.5 & 0.5 & -0.5\\\\-0.5 & 0.5 & 0.5 & 0.5 & 0.5 & 0.5 & -0.5 & -0.5 & -0.5 & -0.5\\\\0.5 & -0.5 & -0.5 & -0.5 & -0.5 & -0.5 & 0.5 & -0.5 & -0.5 & -0.5\\\\-0.5 & 0.5 & 0.5 & 0.5 & 0.5 & 0.5 & -0.5 & 0.5 & 0.5 & -0.5\\\\-0.5 & 0.5 & 0.5 & 0.5 & 0.5 & 0.5 & -0.5 & 0.5 & -0.5 & 0.5\\\\-0.5 & -0.5 & -0.5 & 0.5 & -0.5 & 0.5 & -0.5 & 0.5 & 0.5 & -0.5\\\\-0.5 & -0.5 & -0.5 & -0.5 & 0.5 & 0.5 & -0.5 & 0.5 & 0.5 & 0.5\\\\-0.5 & -0.5 & -0.5 & 0.5 & 0.5 & -0.5 & -0.5 & 0.5 & -0.5 & 0.5\\\\-0.5 & 0.5 & 0.5 & -0.5 & -0.5 & 0.5 & -0.5 & 0.5 & 0.5 & 0.5\\\\0.5 & 0.5 & -0.5 & -0.5 & -0.5 & -0.5 & 0.5 & -0.5 & 0.5 & -0.5\\end{matrix}\\right]$"
      ],
      "text/plain": [
       "Matrix([\n",
       "[ 0.5,  0.5,  0.5, -0.5,  0.5, -0.5, -0.5,  0.5,  0.5, -0.5],\n",
       "[-0.5,  0.5,  0.5,  0.5,  0.5,  0.5, -0.5, -0.5, -0.5, -0.5],\n",
       "[ 0.5, -0.5, -0.5, -0.5, -0.5, -0.5,  0.5, -0.5, -0.5, -0.5],\n",
       "[-0.5,  0.5,  0.5,  0.5,  0.5,  0.5, -0.5,  0.5,  0.5, -0.5],\n",
       "[-0.5,  0.5,  0.5,  0.5,  0.5,  0.5, -0.5,  0.5, -0.5,  0.5],\n",
       "[-0.5, -0.5, -0.5,  0.5, -0.5,  0.5, -0.5,  0.5,  0.5, -0.5],\n",
       "[-0.5, -0.5, -0.5, -0.5,  0.5,  0.5, -0.5,  0.5,  0.5,  0.5],\n",
       "[-0.5, -0.5, -0.5,  0.5,  0.5, -0.5, -0.5,  0.5, -0.5,  0.5],\n",
       "[-0.5,  0.5,  0.5, -0.5, -0.5,  0.5, -0.5,  0.5,  0.5,  0.5],\n",
       "[ 0.5,  0.5, -0.5, -0.5, -0.5, -0.5,  0.5, -0.5,  0.5, -0.5]])"
      ]
     },
     "metadata": {},
     "output_type": "display_data"
    },
    {
     "name": "stdout",
     "output_type": "stream",
     "text": [
      "    Ansatz \\(f(\\mathbf{S}_{1})\\):\n"
     ]
    },
    {
     "data": {
      "text/latex": [
       "$\\displaystyle \\left[\\begin{matrix}0.10632535920785 + 0.0681857654773016 i & -0.422451718253746 + 0.0886478375884673 i & 0.476758100906728 + 0.147500106389363 i & 0.388247997470647 + 0.270710617466821 i & -0.0800576705415127 + 0.122886646171274 i & 0.366300255179672 + 0.0783994057970958 i & 0.220521135566913 + 0.143159362726003 i & 0.25214479619002 + 0.199821679519959 i & 0.379720868264184 - 0.0732317785944154 i & 0.431937063913073 + 0.110626791389807 i\\end{matrix}\\right]$"
      ],
      "text/plain": [
       "Matrix([[0.10632535920785 + 0.0681857654773016*I, -0.422451718253746 + 0.0886478375884673*I, 0.476758100906728 + 0.147500106389363*I, 0.388247997470647 + 0.270710617466821*I, -0.0800576705415127 + 0.122886646171274*I, 0.366300255179672 + 0.0783994057970958*I, 0.220521135566913 + 0.143159362726003*I, 0.25214479619002 + 0.199821679519959*I, 0.379720868264184 - 0.0732317785944154*I, 0.431937063913073 + 0.110626791389807*I]])"
      ]
     },
     "metadata": {},
     "output_type": "display_data"
    },
    {
     "name": "stdout",
     "output_type": "stream",
     "text": [
      "    Probability \\(P(\\mathbf{S}_{1})\\):\n"
     ]
    },
    {
     "data": {
      "text/latex": [
       "$\\displaystyle \\left[\\begin{matrix}1.0 & 1.0 & 1.0 & 1.0 & 1.0 & 1.0 & 1.0 & 1.0 & 1.0 & 1.0\\end{matrix}\\right]$"
      ],
      "text/plain": [
       "Matrix([[1.0, 1.0, 1.0, 1.0, 1.0, 1.0, 1.0, 1.0, 1.0, 1.0]])"
      ]
     },
     "metadata": {},
     "output_type": "display_data"
    },
    {
     "name": "stdout",
     "output_type": "stream",
     "text": [
      "\n",
      "--------------------------------------------------\n",
      "\n",
      "--- Configuration flow 2 ---\n",
      "     Configuration \\(\\mathbf{S}_{2}\\):\n"
     ]
    },
    {
     "data": {
      "text/latex": [
       "$\\displaystyle \\left[\\begin{matrix}-0.5 & -0.5 & 0.5 & -0.5 & 0.5 & -0.5 & -0.5 & 0.5 & -0.5 & 0.5\\\\0.5 & 0.5 & 0.5 & -0.5 & -0.5 & 0.5 & 0.5 & 0.5 & -0.5 & 0.5\\\\-0.5 & -0.5 & 0.5 & -0.5 & -0.5 & 0.5 & 0.5 & 0.5 & -0.5 & -0.5\\\\0.5 & -0.5 & 0.5 & 0.5 & 0.5 & -0.5 & -0.5 & 0.5 & -0.5 & 0.5\\\\0.5 & -0.5 & -0.5 & 0.5 & 0.5 & 0.5 & -0.5 & 0.5 & 0.5 & 0.5\\\\-0.5 & -0.5 & 0.5 & -0.5 & -0.5 & -0.5 & 0.5 & 0.5 & 0.5 & 0.5\\\\0.5 & -0.5 & -0.5 & -0.5 & -0.5 & 0.5 & -0.5 & -0.5 & 0.5 & -0.5\\\\-0.5 & -0.5 & -0.5 & 0.5 & -0.5 & 0.5 & -0.5 & 0.5 & 0.5 & -0.5\\\\-0.5 & 0.5 & -0.5 & -0.5 & 0.5 & 0.5 & -0.5 & -0.5 & 0.5 & -0.5\\\\0.5 & 0.5 & -0.5 & -0.5 & -0.5 & -0.5 & 0.5 & 0.5 & -0.5 & -0.5\\end{matrix}\\right]$"
      ],
      "text/plain": [
       "Matrix([\n",
       "[-0.5, -0.5,  0.5, -0.5,  0.5, -0.5, -0.5,  0.5, -0.5,  0.5],\n",
       "[ 0.5,  0.5,  0.5, -0.5, -0.5,  0.5,  0.5,  0.5, -0.5,  0.5],\n",
       "[-0.5, -0.5,  0.5, -0.5, -0.5,  0.5,  0.5,  0.5, -0.5, -0.5],\n",
       "[ 0.5, -0.5,  0.5,  0.5,  0.5, -0.5, -0.5,  0.5, -0.5,  0.5],\n",
       "[ 0.5, -0.5, -0.5,  0.5,  0.5,  0.5, -0.5,  0.5,  0.5,  0.5],\n",
       "[-0.5, -0.5,  0.5, -0.5, -0.5, -0.5,  0.5,  0.5,  0.5,  0.5],\n",
       "[ 0.5, -0.5, -0.5, -0.5, -0.5,  0.5, -0.5, -0.5,  0.5, -0.5],\n",
       "[-0.5, -0.5, -0.5,  0.5, -0.5,  0.5, -0.5,  0.5,  0.5, -0.5],\n",
       "[-0.5,  0.5, -0.5, -0.5,  0.5,  0.5, -0.5, -0.5,  0.5, -0.5],\n",
       "[ 0.5,  0.5, -0.5, -0.5, -0.5, -0.5,  0.5,  0.5, -0.5, -0.5]])"
      ]
     },
     "metadata": {},
     "output_type": "display_data"
    },
    {
     "name": "stdout",
     "output_type": "stream",
     "text": [
      "    Ansatz \\(f(\\mathbf{S}_{2})\\):\n"
     ]
    },
    {
     "data": {
      "text/latex": [
       "$\\displaystyle \\left[\\begin{matrix}0.15391040912383 - 0.00805339345866561 i & 0.0590200733773755 + 0.0523173342114108 i & 0.40096887254246 - 0.258434550634401 i & 0.138569076872519 + 0.0912308759591849 i & 0.349721033882914 + 0.0339469961593431 i & 0.5 & 0.246035163522159 + 0.0827719438183845 i & 0.366300255179672 + 0.0783994057970958 i & 0.178870634719293 + 0.273478194266899 i & 0.532410244929099 + 0.07034630418558 i\\end{matrix}\\right]$"
      ],
      "text/plain": [
       "Matrix([[0.15391040912383 - 0.00805339345866561*I, 0.0590200733773755 + 0.0523173342114108*I, 0.40096887254246 - 0.258434550634401*I, 0.138569076872519 + 0.0912308759591849*I, 0.349721033882914 + 0.0339469961593431*I, 0.5, 0.246035163522159 + 0.0827719438183845*I, 0.366300255179672 + 0.0783994057970958*I, 0.178870634719293 + 0.273478194266899*I, 0.532410244929099 + 0.07034630418558*I]])"
      ]
     },
     "metadata": {},
     "output_type": "display_data"
    },
    {
     "name": "stdout",
     "output_type": "stream",
     "text": [
      "    Probability \\(P(\\mathbf{S}_{2})\\):\n"
     ]
    },
    {
     "data": {
      "text/latex": [
       "$\\displaystyle \\left[\\begin{matrix}1.0 & 1.0 & 1.0 & 1.0 & 1.0 & 1.0 & 1.0 & 1.0 & 1.0 & 1.0\\end{matrix}\\right]$"
      ],
      "text/plain": [
       "Matrix([[1.0, 1.0, 1.0, 1.0, 1.0, 1.0, 1.0, 1.0, 1.0, 1.0]])"
      ]
     },
     "metadata": {},
     "output_type": "display_data"
    },
    {
     "name": "stdout",
     "output_type": "stream",
     "text": [
      "\n",
      "--------------------------------------------------\n",
      "\n"
     ]
    }
   ],
   "source": [
    "from general_python.common.plot import MatrixPrinter\n",
    "\n",
    "print(\"Detailed Flow of the Configurations:\\n\")\n",
    "print(f\"  Total number of configurations: {len(configs)}\")\n",
    "print(f\"  Total number of states: {len(states)}\")\n",
    "print(f\"  Total number of probabilities: {len(probabilities)}\\n\")\n",
    "\n",
    "for i in range(len(configs[:3])):\n",
    "    print(f\"--- Configuration flow {i} ---\")\n",
    "    print(\"     Configuration \\\\(\\\\mathbf{S}_{\" + f\"{i}\" + \"}\\\\):\")\n",
    "    MatrixPrinter.print_vector(configs[i])\n",
    "    \n",
    "    print(\"    Ansatz \\\\(f(\\\\mathbf{S}_{\" + f\"{i}\" + \"})\\\\):\")\n",
    "    MatrixPrinter.print_vector(configs_ansatze[i].T)\n",
    "    \n",
    "    print(\"    Probability \\\\(P(\\\\mathbf{S}_{\" + f\"{i}\" + \"})\\\\):\")\n",
    "    MatrixPrinter.print_vector(probabilities[i].T)\n",
    "    print(\"\\n\" + \"-\" * 50 + \"\\n\")\n"
   ]
  },
  {
   "cell_type": "markdown",
   "metadata": {},
   "source": [
    "#### Flattened"
   ]
  },
  {
   "cell_type": "code",
   "execution_count": null,
   "metadata": {},
   "outputs": [
    {
     "name": "stdout",
     "output_type": "stream",
     "text": [
      "Shape of flattened configurations (𝒞): (100, 10)\n",
      "Shape of flattened ansatze (f(𝒞)): (100,)\n",
      "\n",
      "Detailed flow of the configurations:\n",
      "Number of configurations: 100\n",
      "\n",
      "--- Configuration 0 ---\n",
      "\tConfiguration (𝒞):\n",
      "\t [-0.5  0.5  0.5 -0.5  0.5 -0.5 -0.5  0.5  0.5  0.5]\n",
      "'\tAnsatz from sampler (f(𝒞)):\n",
      "\t (0.24310424147924645-0.027635445514439767j)\n",
      "\tAnsatz from the network:\n",
      "\t [0.24310424-0.02763545j]\n",
      "\tVerification (f(𝒞) from network ?= sampler's ansatz): True\n",
      "\n",
      "-------------------------\n",
      "\n",
      "--- Configuration 1 ---\n",
      "\tConfiguration (𝒞):\n",
      "\t [ 0.5 -0.5 -0.5  0.5  0.5 -0.5 -0.5  0.5 -0.5 -0.5]\n",
      "'\tAnsatz from sampler (f(𝒞)):\n",
      "\t (0.2820553779339259+0.35287660247641084j)\n",
      "\tAnsatz from the network:\n",
      "\t [0.28205538+0.3528766j]\n",
      "\tVerification (f(𝒞) from network ?= sampler's ansatz): True\n",
      "\n",
      "-------------------------\n",
      "\n",
      "--- Configuration 2 ---\n",
      "\tConfiguration (𝒞):\n",
      "\t [ 0.5  0.5  0.5 -0.5 -0.5  0.5 -0.5 -0.5  0.5 -0.5]\n",
      "'\tAnsatz from sampler (f(𝒞)):\n",
      "\t (0.3079503552809001+0.2129579745524674j)\n",
      "\tAnsatz from the network:\n",
      "\t [0.30795036+0.21295797j]\n",
      "\tVerification (f(𝒞) from network ?= sampler's ansatz): True\n",
      "\n",
      "-------------------------\n",
      "\n",
      "--- Configuration 3 ---\n",
      "\tConfiguration (𝒞):\n",
      "\t [-0.5 -0.5  0.5  0.5 -0.5 -0.5  0.5 -0.5 -0.5 -0.5]\n",
      "'\tAnsatz from sampler (f(𝒞)):\n",
      "\t (0.25069841278571836+0.058038163420527686j)\n",
      "\tAnsatz from the network:\n",
      "\t [0.25069841+0.05803816j]\n",
      "\tVerification (f(𝒞) from network ?= sampler's ansatz): True\n",
      "\n",
      "-------------------------\n",
      "\n",
      "--- Configuration 4 ---\n",
      "\tConfiguration (𝒞):\n",
      "\t [ 0.5  0.5 -0.5  0.5 -0.5 -0.5  0.5  0.5  0.5  0.5]\n",
      "'\tAnsatz from sampler (f(𝒞)):\n",
      "\t (0.5264107254485989+0.018332420118295247j)\n",
      "\tAnsatz from the network:\n",
      "\t [0.52641073+0.01833242j]\n",
      "\tVerification (f(𝒞) from network ?= sampler's ansatz): True\n",
      "\n",
      "-------------------------\n",
      "\n"
     ]
    }
   ],
   "source": [
    "from general_python.common.plot import MatrixPrinter\n",
    "\n",
    "# -----------------------------------------------------------------\n",
    "# Flatten the configurations and ansatz arrays with a clearer mathematical description\n",
    "#\n",
    "# Let 𝒞 ∈ ℝ^(N×d) represent the configuration matrix, where:\n",
    "#   N = number of samples (configurations)\n",
    "#   d = st_shape[0] (the dimension of each configuration)\n",
    "#\n",
    "# Similarly, for the ansatz values f(𝒞) (one per configuration), we flatten the array.\n",
    "# -----------------------------------------------------------------\n",
    "\n",
    "# Reshape configurations to a 2D array: each row is one configuration vector.\n",
    "configs_flat = configs.reshape(-1, st_shape[0])\n",
    "print(\"Shape of flattened configurations (𝒞):\", configs_flat.shape)\n",
    "\n",
    "# Flatten the ansatze: each configuration has a single ansatz value.\n",
    "configs_ansatze_flat = configs_ansatze.reshape(-1)\n",
    "print(\"Shape of flattened ansatze (f(𝒞)):\", configs_ansatze_flat.shape)\n",
    "\n",
    "print(\"\\nDetailed flow of the configurations:\")\n",
    "print(\"Number of configurations:\", len(configs_flat))\n",
    "print()\n",
    "\n",
    "# -----------------------------------------------------------------\n",
    "# For the first 5 configurations, print:\n",
    "#   - The configuration vector 𝒞ᵢ\n",
    "#   - The ansatz from the network f(𝒞ᵢ)\n",
    "#   - A verification whether f(𝒞ᵢ) matches the ansatz given by the sampler.\n",
    "# -----------------------------------------------------------------\n",
    "for i in range(len(configs_flat[:5])):\n",
    "    print(f\"--- Configuration {i} ---\")\n",
    "    \n",
    "    print(\"\\tConfiguration (𝒞):\")\n",
    "    print(\"\\t\", configs_flat[i])\n",
    "    # MatrixPrinter.print_vector(configs_flat[i]\n",
    "    \n",
    "    print(\"'\\tAnsatz from sampler (f(𝒞)):\")\n",
    "    # Compute the ansatz from the network using the configuration.\n",
    "    print(\"\\t\", configs_ansatze_flat[i])\n",
    "    ansatz_net = net(configs_flat[i])\n",
    "    print(\"\\tAnsatz from the network:\")\n",
    "    print(\"\\t\", ansatz_net)\n",
    "    \n",
    "    # Verify if the network's ansatz equals the sampler's ansatz.\n",
    "    is_same = np.allclose(ansatz_net, configs_ansatze_flat[i])\n",
    "    print(\"\\tVerification (f(𝒞) from network ?= sampler's ansatz):\", is_same)\n",
    "    \n",
    "    print(\"\\n-------------------------\\n\")\n"
   ]
  },
  {
   "cell_type": "markdown",
   "metadata": {},
   "source": [
    "## Solver class"
   ]
  },
  {
   "cell_type": "code",
   "execution_count": 3,
   "metadata": {},
   "outputs": [
    {
     "name": "stderr",
     "output_type": "stream",
     "text": [
      "16_03_2025_04-13_34 [INFO] \t\t->\u001b[34m[<class 'NQS.nqs.NQS'>] Network is holomorphic: True\u001b[0m\n",
      "16_03_2025_04-13_34 [INFO] \t\t->\u001b[34m[<class 'NQS.nqs.NQS'>] Network has analytic gradient: True\u001b[0m\n"
     ]
    }
   ],
   "source": [
    "import NQS.nqs as nqsmodule\n",
    "import Solver.MonteCarlo.sampler as Sampling\n",
    "from Algebra.Model.dummy import DummyHamiltonian\n",
    "from general_python.algebra.utils import get_backend\n",
    "from general_python.ml.net_impl.net_simple import SimpleNet\n",
    "\n",
    "import random\n",
    "import numpy as np\n",
    "\n",
    "# get random backend\n",
    "backend             = 'np'\n",
    "seed                = 1701\n",
    "dtypex              = complex\n",
    "be_modules          = get_backend(backend, random=True, seed=seed, scipy=True)\n",
    "backend_np, (rng, rng_k), backend_sp = be_modules if isinstance(be_modules, tuple) else (be_modules, (None, None), None)\n",
    "\n",
    "# get the network\n",
    "ns                  = 2\n",
    "st_shape            = (ns, )\n",
    "activations         = ('relu', 'sigmoid')\n",
    "net                 = SimpleNet(act_fun =   activations, \n",
    "                        input_shape     =   st_shape, \n",
    "                        output_shape    =   (1, ),\n",
    "                        layers          =   (5, ),\n",
    "                        backend         =   backend_np,\n",
    "                        dtype           =   dtypex)\n",
    "\n",
    "# get the sampler\n",
    "sampler = Sampling.MCSampler(\n",
    "    net         = net,\n",
    "    shape       = st_shape,\n",
    "    rng         = rng,\n",
    "    rng_k       = rng_k,\n",
    "    numchains   = 10,\n",
    "    numsamples  = 50,\n",
    "    sweep_steps = 10,\n",
    "    backend     = backend_np,\n",
    "    therm_steps = 10,\n",
    ")\n",
    "\n",
    "# get the Hamiltonian\n",
    "par                 = 0.5 + 1j * 0.5\n",
    "ham                 = DummyHamiltonian(hilbert_space=None, ns = ns, backend = backend, dtype = net.dtype)\n",
    "batch_size          = 1\n",
    "\n",
    "nqs = nqsmodule.NQS(\n",
    "    net         = net,\n",
    "    sampler     = sampler,\n",
    "    hamiltonian = ham,\n",
    "    lower_betas = None,\n",
    "    lower_states= None,\n",
    "    seed        = seed,\n",
    "    beta        = 1.0,\n",
    "    shape       = st_shape,\n",
    "    backend     = backend_np,\n",
    "    nthread     = 1,\n",
    "    batch_size  = batch_size,\n",
    ")"
   ]
  },
  {
   "cell_type": "markdown",
   "metadata": {},
   "source": [
    "#### Short test of network"
   ]
  },
  {
   "cell_type": "code",
   "execution_count": 6,
   "metadata": {},
   "outputs": [
    {
     "data": {
      "text/plain": [
       "(array([[0.97631688-0.15440721j],\n",
       "        [0.48459178+0.30177162j],\n",
       "        [0.35515613-0.50079351j],\n",
       "        [0.40616546+0.03434956j],\n",
       "        [0.97631688-0.15440721j],\n",
       "        [0.97631688-0.15440721j],\n",
       "        [0.40616546+0.03434956j],\n",
       "        [0.40616546+0.03434956j],\n",
       "        [0.40616546+0.03434956j],\n",
       "        [0.97631688-0.15440721j]]),\n",
       " (10, 1))"
      ]
     },
     "execution_count": 6,
     "metadata": {},
     "output_type": "execute_result"
    }
   ],
   "source": [
    "states      = np.random.choice([-1,1], size=(10, ns), replace=True)\n",
    "params      = net.get_params()\n",
    "if backend == 'jax':\n",
    "    import jax.numpy as jnp\n",
    "    states  = jnp.array(states)\n",
    "    ansatz  = net(params, states)\n",
    "else:\n",
    "    import numpy as np\n",
    "    ansatz  = net(params, states)\n",
    "ansatz = ansatz.reshape(-1, 1)\n",
    "ansatz, ansatz.shape"
   ]
  },
  {
   "cell_type": "markdown",
   "metadata": {},
   "source": [
    "#### Short test of sampler"
   ]
  },
  {
   "cell_type": "code",
   "execution_count": 3,
   "metadata": {},
   "outputs": [
    {
     "data": {
      "text/plain": [
       "(50, 10, 1)"
      ]
     },
     "execution_count": 3,
     "metadata": {},
     "output_type": "execute_result"
    }
   ],
   "source": [
    "# sample the configurations\n",
    "(states, logprobas), (configs, configs_ansatze), probabilities = sampler.sample()\n",
    "\n",
    "# flatten the configurations\n",
    "configs_flat            = configs.reshape(-1, st_shape[0])\n",
    "configs_ansatze_flat    = configs_ansatze.reshape(-1)\n",
    "configs_ansatze.shape"
   ]
  },
  {
   "cell_type": "code",
   "execution_count": 4,
   "metadata": {},
   "outputs": [
    {
     "data": {
      "text/plain": [
       "array([[0.80586313-0.01832699j],\n",
       "       [0.87038858-0.03147754j],\n",
       "       [0.80586313-0.01832699j],\n",
       "       [1.0154514 -0.15119993j],\n",
       "       [0.94425147-0.05701029j],\n",
       "       [0.94425147-0.05701029j],\n",
       "       [0.80586313-0.01832699j],\n",
       "       [0.94425147-0.05701029j],\n",
       "       [1.0154514 -0.15119993j],\n",
       "       [0.80586313-0.01832699j],\n",
       "       [0.87038858-0.03147754j],\n",
       "       [1.0154514 -0.15119993j],\n",
       "       [0.80586313-0.01832699j],\n",
       "       [0.87038858-0.03147754j],\n",
       "       [0.87038858-0.03147754j],\n",
       "       [1.0154514 -0.15119993j],\n",
       "       [0.80586313-0.01832699j],\n",
       "       [0.94425147-0.05701029j],\n",
       "       [1.0154514 -0.15119993j],\n",
       "       [1.0154514 -0.15119993j],\n",
       "       [0.94425147-0.05701029j],\n",
       "       [1.0154514 -0.15119993j],\n",
       "       [0.87038858-0.03147754j],\n",
       "       [0.87038858-0.03147754j],\n",
       "       [0.87038858-0.03147754j],\n",
       "       [0.80586313-0.01832699j],\n",
       "       [0.87038858-0.03147754j],\n",
       "       [1.0154514 -0.15119993j],\n",
       "       [1.0154514 -0.15119993j],\n",
       "       [0.87038858-0.03147754j],\n",
       "       [0.94425147-0.05701029j],\n",
       "       [0.94425147-0.05701029j],\n",
       "       [0.80586313-0.01832699j],\n",
       "       [0.80586313-0.01832699j],\n",
       "       [0.80586313-0.01832699j],\n",
       "       [1.0154514 -0.15119993j],\n",
       "       [0.87038858-0.03147754j],\n",
       "       [1.0154514 -0.15119993j],\n",
       "       [1.0154514 -0.15119993j],\n",
       "       [0.94425147-0.05701029j],\n",
       "       [0.94425147-0.05701029j],\n",
       "       [0.87038858-0.03147754j],\n",
       "       [0.87038858-0.03147754j],\n",
       "       [0.94425147-0.05701029j],\n",
       "       [0.94425147-0.05701029j],\n",
       "       [0.87038858-0.03147754j],\n",
       "       [0.87038858-0.03147754j],\n",
       "       [0.87038858-0.03147754j],\n",
       "       [0.80586313-0.01832699j],\n",
       "       [0.80586313-0.01832699j],\n",
       "       [0.87038858-0.03147754j],\n",
       "       [0.87038858-0.03147754j],\n",
       "       [0.80586313-0.01832699j],\n",
       "       [0.94425147-0.05701029j],\n",
       "       [0.94425147-0.05701029j],\n",
       "       [1.0154514 -0.15119993j],\n",
       "       [0.87038858-0.03147754j],\n",
       "       [0.94425147-0.05701029j],\n",
       "       [1.0154514 -0.15119993j],\n",
       "       [1.0154514 -0.15119993j],\n",
       "       [1.0154514 -0.15119993j],\n",
       "       [0.87038858-0.03147754j],\n",
       "       [1.0154514 -0.15119993j],\n",
       "       [0.87038858-0.03147754j],\n",
       "       [0.80586313-0.01832699j],\n",
       "       [0.87038858-0.03147754j],\n",
       "       [1.0154514 -0.15119993j],\n",
       "       [0.87038858-0.03147754j],\n",
       "       [0.87038858-0.03147754j],\n",
       "       [0.94425147-0.05701029j],\n",
       "       [0.94425147-0.05701029j],\n",
       "       [1.0154514 -0.15119993j],\n",
       "       [1.0154514 -0.15119993j],\n",
       "       [0.94425147-0.05701029j],\n",
       "       [0.80586313-0.01832699j],\n",
       "       [1.0154514 -0.15119993j],\n",
       "       [1.0154514 -0.15119993j],\n",
       "       [0.80586313-0.01832699j],\n",
       "       [0.94425147-0.05701029j],\n",
       "       [0.94425147-0.05701029j],\n",
       "       [0.94425147-0.05701029j],\n",
       "       [0.87038858-0.03147754j],\n",
       "       [0.80586313-0.01832699j],\n",
       "       [0.80586313-0.01832699j],\n",
       "       [0.80586313-0.01832699j],\n",
       "       [0.80586313-0.01832699j],\n",
       "       [0.87038858-0.03147754j],\n",
       "       [1.0154514 -0.15119993j],\n",
       "       [0.94425147-0.05701029j],\n",
       "       [0.94425147-0.05701029j],\n",
       "       [0.94425147-0.05701029j],\n",
       "       [0.87038858-0.03147754j],\n",
       "       [0.87038858-0.03147754j],\n",
       "       [0.80586313-0.01832699j],\n",
       "       [1.0154514 -0.15119993j],\n",
       "       [1.0154514 -0.15119993j],\n",
       "       [0.94425147-0.05701029j],\n",
       "       [0.87038858-0.03147754j],\n",
       "       [1.0154514 -0.15119993j],\n",
       "       [0.87038858-0.03147754j],\n",
       "       [0.87038858-0.03147754j],\n",
       "       [0.94425147-0.05701029j],\n",
       "       [1.0154514 -0.15119993j],\n",
       "       [0.80586313-0.01832699j],\n",
       "       [1.0154514 -0.15119993j],\n",
       "       [0.94425147-0.05701029j],\n",
       "       [0.94425147-0.05701029j],\n",
       "       [0.80586313-0.01832699j],\n",
       "       [0.80586313-0.01832699j],\n",
       "       [0.94425147-0.05701029j],\n",
       "       [0.87038858-0.03147754j],\n",
       "       [0.87038858-0.03147754j],\n",
       "       [0.94425147-0.05701029j],\n",
       "       [1.0154514 -0.15119993j],\n",
       "       [0.80586313-0.01832699j],\n",
       "       [0.87038858-0.03147754j],\n",
       "       [0.94425147-0.05701029j],\n",
       "       [0.87038858-0.03147754j],\n",
       "       [0.87038858-0.03147754j],\n",
       "       [0.80586313-0.01832699j],\n",
       "       [1.0154514 -0.15119993j],\n",
       "       [0.94425147-0.05701029j],\n",
       "       [0.87038858-0.03147754j],\n",
       "       [0.87038858-0.03147754j],\n",
       "       [1.0154514 -0.15119993j],\n",
       "       [0.87038858-0.03147754j],\n",
       "       [0.94425147-0.05701029j],\n",
       "       [0.94425147-0.05701029j],\n",
       "       [0.87038858-0.03147754j],\n",
       "       [1.0154514 -0.15119993j],\n",
       "       [0.80586313-0.01832699j],\n",
       "       [0.87038858-0.03147754j],\n",
       "       [0.87038858-0.03147754j],\n",
       "       [0.94425147-0.05701029j],\n",
       "       [0.87038858-0.03147754j],\n",
       "       [0.87038858-0.03147754j],\n",
       "       [0.94425147-0.05701029j],\n",
       "       [1.0154514 -0.15119993j],\n",
       "       [0.87038858-0.03147754j],\n",
       "       [1.0154514 -0.15119993j],\n",
       "       [1.0154514 -0.15119993j],\n",
       "       [0.87038858-0.03147754j],\n",
       "       [0.80586313-0.01832699j],\n",
       "       [0.87038858-0.03147754j],\n",
       "       [0.87038858-0.03147754j],\n",
       "       [0.87038858-0.03147754j],\n",
       "       [0.80586313-0.01832699j],\n",
       "       [1.0154514 -0.15119993j],\n",
       "       [1.0154514 -0.15119993j],\n",
       "       [0.80586313-0.01832699j],\n",
       "       [0.87038858-0.03147754j],\n",
       "       [0.87038858-0.03147754j],\n",
       "       [0.94425147-0.05701029j],\n",
       "       [0.94425147-0.05701029j],\n",
       "       [0.94425147-0.05701029j],\n",
       "       [0.80586313-0.01832699j],\n",
       "       [1.0154514 -0.15119993j],\n",
       "       [0.80586313-0.01832699j],\n",
       "       [1.0154514 -0.15119993j],\n",
       "       [0.80586313-0.01832699j],\n",
       "       [0.87038858-0.03147754j],\n",
       "       [0.94425147-0.05701029j],\n",
       "       [0.94425147-0.05701029j],\n",
       "       [0.94425147-0.05701029j],\n",
       "       [0.80586313-0.01832699j],\n",
       "       [0.87038858-0.03147754j],\n",
       "       [0.87038858-0.03147754j],\n",
       "       [0.94425147-0.05701029j],\n",
       "       [0.94425147-0.05701029j],\n",
       "       [0.80586313-0.01832699j],\n",
       "       [0.94425147-0.05701029j],\n",
       "       [0.87038858-0.03147754j],\n",
       "       [1.0154514 -0.15119993j],\n",
       "       [0.87038858-0.03147754j],\n",
       "       [1.0154514 -0.15119993j],\n",
       "       [0.94425147-0.05701029j],\n",
       "       [1.0154514 -0.15119993j],\n",
       "       [0.94425147-0.05701029j],\n",
       "       [0.94425147-0.05701029j],\n",
       "       [0.80586313-0.01832699j],\n",
       "       [1.0154514 -0.15119993j],\n",
       "       [1.0154514 -0.15119993j],\n",
       "       [0.80586313-0.01832699j],\n",
       "       [0.80586313-0.01832699j],\n",
       "       [0.87038858-0.03147754j],\n",
       "       [0.87038858-0.03147754j],\n",
       "       [0.80586313-0.01832699j],\n",
       "       [1.0154514 -0.15119993j],\n",
       "       [0.94425147-0.05701029j],\n",
       "       [0.94425147-0.05701029j],\n",
       "       [0.87038858-0.03147754j],\n",
       "       [1.0154514 -0.15119993j],\n",
       "       [0.94425147-0.05701029j],\n",
       "       [0.80586313-0.01832699j],\n",
       "       [1.0154514 -0.15119993j],\n",
       "       [0.87038858-0.03147754j],\n",
       "       [0.94425147-0.05701029j],\n",
       "       [0.80586313-0.01832699j],\n",
       "       [0.94425147-0.05701029j],\n",
       "       [0.87038858-0.03147754j],\n",
       "       [0.87038858-0.03147754j],\n",
       "       [0.87038858-0.03147754j],\n",
       "       [0.87038858-0.03147754j],\n",
       "       [0.80586313-0.01832699j],\n",
       "       [0.80586313-0.01832699j],\n",
       "       [1.0154514 -0.15119993j],\n",
       "       [1.0154514 -0.15119993j],\n",
       "       [1.0154514 -0.15119993j],\n",
       "       [0.94425147-0.05701029j],\n",
       "       [0.87038858-0.03147754j],\n",
       "       [1.0154514 -0.15119993j],\n",
       "       [0.94425147-0.05701029j],\n",
       "       [1.0154514 -0.15119993j],\n",
       "       [0.80586313-0.01832699j],\n",
       "       [1.0154514 -0.15119993j],\n",
       "       [0.80586313-0.01832699j],\n",
       "       [1.0154514 -0.15119993j],\n",
       "       [1.0154514 -0.15119993j],\n",
       "       [0.94425147-0.05701029j],\n",
       "       [1.0154514 -0.15119993j],\n",
       "       [1.0154514 -0.15119993j],\n",
       "       [1.0154514 -0.15119993j],\n",
       "       [0.87038858-0.03147754j],\n",
       "       [1.0154514 -0.15119993j],\n",
       "       [0.80586313-0.01832699j],\n",
       "       [1.0154514 -0.15119993j],\n",
       "       [1.0154514 -0.15119993j],\n",
       "       [1.0154514 -0.15119993j],\n",
       "       [0.87038858-0.03147754j],\n",
       "       [0.80586313-0.01832699j],\n",
       "       [0.94425147-0.05701029j],\n",
       "       [0.80586313-0.01832699j],\n",
       "       [0.87038858-0.03147754j],\n",
       "       [1.0154514 -0.15119993j],\n",
       "       [0.87038858-0.03147754j],\n",
       "       [1.0154514 -0.15119993j],\n",
       "       [1.0154514 -0.15119993j],\n",
       "       [0.80586313-0.01832699j],\n",
       "       [0.94425147-0.05701029j],\n",
       "       [0.80586313-0.01832699j],\n",
       "       [0.80586313-0.01832699j],\n",
       "       [0.80586313-0.01832699j],\n",
       "       [0.87038858-0.03147754j],\n",
       "       [1.0154514 -0.15119993j],\n",
       "       [0.94425147-0.05701029j],\n",
       "       [0.80586313-0.01832699j],\n",
       "       [0.94425147-0.05701029j],\n",
       "       [0.80586313-0.01832699j],\n",
       "       [0.87038858-0.03147754j],\n",
       "       [0.80586313-0.01832699j],\n",
       "       [1.0154514 -0.15119993j],\n",
       "       [1.0154514 -0.15119993j],\n",
       "       [0.80586313-0.01832699j],\n",
       "       [1.0154514 -0.15119993j],\n",
       "       [0.80586313-0.01832699j],\n",
       "       [0.80586313-0.01832699j],\n",
       "       [0.94425147-0.05701029j],\n",
       "       [0.80586313-0.01832699j],\n",
       "       [1.0154514 -0.15119993j],\n",
       "       [0.80586313-0.01832699j],\n",
       "       [0.80586313-0.01832699j],\n",
       "       [0.80586313-0.01832699j],\n",
       "       [0.80586313-0.01832699j],\n",
       "       [0.80586313-0.01832699j],\n",
       "       [1.0154514 -0.15119993j],\n",
       "       [0.80586313-0.01832699j],\n",
       "       [0.94425147-0.05701029j],\n",
       "       [0.80586313-0.01832699j],\n",
       "       [1.0154514 -0.15119993j],\n",
       "       [0.87038858-0.03147754j],\n",
       "       [0.80586313-0.01832699j],\n",
       "       [0.80586313-0.01832699j],\n",
       "       [0.80586313-0.01832699j],\n",
       "       [0.80586313-0.01832699j],\n",
       "       [0.80586313-0.01832699j],\n",
       "       [0.80586313-0.01832699j],\n",
       "       [0.80586313-0.01832699j],\n",
       "       [0.80586313-0.01832699j],\n",
       "       [0.80586313-0.01832699j],\n",
       "       [0.87038858-0.03147754j],\n",
       "       [1.0154514 -0.15119993j],\n",
       "       [0.87038858-0.03147754j],\n",
       "       [1.0154514 -0.15119993j],\n",
       "       [0.94425147-0.05701029j],\n",
       "       [0.94425147-0.05701029j],\n",
       "       [0.80586313-0.01832699j],\n",
       "       [0.94425147-0.05701029j],\n",
       "       [0.94425147-0.05701029j],\n",
       "       [0.94425147-0.05701029j],\n",
       "       [0.87038858-0.03147754j],\n",
       "       [0.94425147-0.05701029j],\n",
       "       [0.87038858-0.03147754j],\n",
       "       [0.80586313-0.01832699j],\n",
       "       [1.0154514 -0.15119993j],\n",
       "       [0.87038858-0.03147754j],\n",
       "       [1.0154514 -0.15119993j],\n",
       "       [0.87038858-0.03147754j],\n",
       "       [0.94425147-0.05701029j],\n",
       "       [0.94425147-0.05701029j],\n",
       "       [0.80586313-0.01832699j],\n",
       "       [0.94425147-0.05701029j],\n",
       "       [0.94425147-0.05701029j],\n",
       "       [0.94425147-0.05701029j],\n",
       "       [1.0154514 -0.15119993j],\n",
       "       [0.80586313-0.01832699j],\n",
       "       [0.94425147-0.05701029j],\n",
       "       [0.87038858-0.03147754j],\n",
       "       [1.0154514 -0.15119993j],\n",
       "       [0.87038858-0.03147754j],\n",
       "       [1.0154514 -0.15119993j],\n",
       "       [0.87038858-0.03147754j],\n",
       "       [0.80586313-0.01832699j],\n",
       "       [0.87038858-0.03147754j],\n",
       "       [0.87038858-0.03147754j],\n",
       "       [0.94425147-0.05701029j],\n",
       "       [0.80586313-0.01832699j],\n",
       "       [0.87038858-0.03147754j],\n",
       "       [0.94425147-0.05701029j],\n",
       "       [1.0154514 -0.15119993j],\n",
       "       [0.80586313-0.01832699j],\n",
       "       [0.94425147-0.05701029j],\n",
       "       [0.87038858-0.03147754j],\n",
       "       [1.0154514 -0.15119993j],\n",
       "       [0.87038858-0.03147754j],\n",
       "       [0.87038858-0.03147754j],\n",
       "       [0.80586313-0.01832699j],\n",
       "       [0.80586313-0.01832699j],\n",
       "       [0.94425147-0.05701029j],\n",
       "       [0.80586313-0.01832699j],\n",
       "       [0.80586313-0.01832699j],\n",
       "       [1.0154514 -0.15119993j],\n",
       "       [0.87038858-0.03147754j],\n",
       "       [0.80586313-0.01832699j],\n",
       "       [0.80586313-0.01832699j],\n",
       "       [0.87038858-0.03147754j],\n",
       "       [1.0154514 -0.15119993j],\n",
       "       [1.0154514 -0.15119993j],\n",
       "       [0.94425147-0.05701029j],\n",
       "       [0.87038858-0.03147754j],\n",
       "       [0.87038858-0.03147754j],\n",
       "       [0.80586313-0.01832699j],\n",
       "       [0.94425147-0.05701029j],\n",
       "       [1.0154514 -0.15119993j],\n",
       "       [1.0154514 -0.15119993j],\n",
       "       [1.0154514 -0.15119993j],\n",
       "       [0.80586313-0.01832699j],\n",
       "       [1.0154514 -0.15119993j],\n",
       "       [0.87038858-0.03147754j],\n",
       "       [0.87038858-0.03147754j],\n",
       "       [0.87038858-0.03147754j],\n",
       "       [0.80586313-0.01832699j],\n",
       "       [0.94425147-0.05701029j],\n",
       "       [0.94425147-0.05701029j],\n",
       "       [0.80586313-0.01832699j],\n",
       "       [0.94425147-0.05701029j],\n",
       "       [1.0154514 -0.15119993j],\n",
       "       [0.94425147-0.05701029j],\n",
       "       [1.0154514 -0.15119993j],\n",
       "       [0.94425147-0.05701029j],\n",
       "       [1.0154514 -0.15119993j],\n",
       "       [0.94425147-0.05701029j],\n",
       "       [0.94425147-0.05701029j],\n",
       "       [0.87038858-0.03147754j],\n",
       "       [1.0154514 -0.15119993j],\n",
       "       [0.94425147-0.05701029j],\n",
       "       [0.80586313-0.01832699j],\n",
       "       [0.87038858-0.03147754j],\n",
       "       [0.80586313-0.01832699j],\n",
       "       [0.80586313-0.01832699j],\n",
       "       [1.0154514 -0.15119993j],\n",
       "       [0.94425147-0.05701029j],\n",
       "       [0.94425147-0.05701029j],\n",
       "       [0.94425147-0.05701029j],\n",
       "       [0.80586313-0.01832699j],\n",
       "       [0.87038858-0.03147754j],\n",
       "       [1.0154514 -0.15119993j],\n",
       "       [0.94425147-0.05701029j],\n",
       "       [0.80586313-0.01832699j],\n",
       "       [1.0154514 -0.15119993j],\n",
       "       [1.0154514 -0.15119993j],\n",
       "       [0.94425147-0.05701029j],\n",
       "       [0.94425147-0.05701029j],\n",
       "       [0.80586313-0.01832699j],\n",
       "       [0.80586313-0.01832699j],\n",
       "       [0.94425147-0.05701029j],\n",
       "       [1.0154514 -0.15119993j],\n",
       "       [1.0154514 -0.15119993j],\n",
       "       [0.80586313-0.01832699j],\n",
       "       [0.87038858-0.03147754j],\n",
       "       [0.94425147-0.05701029j],\n",
       "       [0.94425147-0.05701029j],\n",
       "       [0.94425147-0.05701029j],\n",
       "       [0.87038858-0.03147754j],\n",
       "       [1.0154514 -0.15119993j],\n",
       "       [0.87038858-0.03147754j],\n",
       "       [0.94425147-0.05701029j],\n",
       "       [1.0154514 -0.15119993j],\n",
       "       [0.94425147-0.05701029j],\n",
       "       [0.80586313-0.01832699j],\n",
       "       [0.87038858-0.03147754j],\n",
       "       [0.87038858-0.03147754j],\n",
       "       [0.94425147-0.05701029j],\n",
       "       [1.0154514 -0.15119993j],\n",
       "       [1.0154514 -0.15119993j],\n",
       "       [0.94425147-0.05701029j],\n",
       "       [0.94425147-0.05701029j],\n",
       "       [0.80586313-0.01832699j],\n",
       "       [0.87038858-0.03147754j],\n",
       "       [1.0154514 -0.15119993j],\n",
       "       [0.94425147-0.05701029j],\n",
       "       [0.87038858-0.03147754j],\n",
       "       [0.94425147-0.05701029j],\n",
       "       [1.0154514 -0.15119993j],\n",
       "       [0.80586313-0.01832699j],\n",
       "       [0.94425147-0.05701029j],\n",
       "       [1.0154514 -0.15119993j],\n",
       "       [1.0154514 -0.15119993j],\n",
       "       [0.94425147-0.05701029j],\n",
       "       [0.94425147-0.05701029j],\n",
       "       [0.94425147-0.05701029j],\n",
       "       [0.87038858-0.03147754j],\n",
       "       [0.87038858-0.03147754j],\n",
       "       [0.87038858-0.03147754j],\n",
       "       [0.80586313-0.01832699j],\n",
       "       [0.94425147-0.05701029j],\n",
       "       [0.87038858-0.03147754j],\n",
       "       [0.80586313-0.01832699j],\n",
       "       [0.94425147-0.05701029j],\n",
       "       [0.87038858-0.03147754j],\n",
       "       [1.0154514 -0.15119993j],\n",
       "       [1.0154514 -0.15119993j],\n",
       "       [0.80586313-0.01832699j],\n",
       "       [0.87038858-0.03147754j],\n",
       "       [0.80586313-0.01832699j],\n",
       "       [0.87038858-0.03147754j],\n",
       "       [0.87038858-0.03147754j],\n",
       "       [1.0154514 -0.15119993j],\n",
       "       [0.94425147-0.05701029j],\n",
       "       [0.87038858-0.03147754j],\n",
       "       [0.87038858-0.03147754j],\n",
       "       [0.87038858-0.03147754j],\n",
       "       [0.94425147-0.05701029j],\n",
       "       [1.0154514 -0.15119993j],\n",
       "       [0.80586313-0.01832699j],\n",
       "       [0.87038858-0.03147754j],\n",
       "       [0.87038858-0.03147754j],\n",
       "       [0.80586313-0.01832699j],\n",
       "       [0.87038858-0.03147754j],\n",
       "       [0.80586313-0.01832699j],\n",
       "       [0.80586313-0.01832699j],\n",
       "       [0.87038858-0.03147754j],\n",
       "       [0.87038858-0.03147754j],\n",
       "       [0.87038858-0.03147754j],\n",
       "       [0.87038858-0.03147754j],\n",
       "       [0.87038858-0.03147754j],\n",
       "       [0.94425147-0.05701029j],\n",
       "       [0.94425147-0.05701029j],\n",
       "       [1.0154514 -0.15119993j],\n",
       "       [1.0154514 -0.15119993j],\n",
       "       [1.0154514 -0.15119993j],\n",
       "       [0.87038858-0.03147754j],\n",
       "       [0.87038858-0.03147754j],\n",
       "       [0.94425147-0.05701029j],\n",
       "       [0.94425147-0.05701029j],\n",
       "       [0.87038858-0.03147754j],\n",
       "       [1.0154514 -0.15119993j],\n",
       "       [1.0154514 -0.15119993j],\n",
       "       [0.87038858-0.03147754j],\n",
       "       [1.0154514 -0.15119993j],\n",
       "       [0.80586313-0.01832699j],\n",
       "       [0.94425147-0.05701029j],\n",
       "       [0.87038858-0.03147754j],\n",
       "       [0.80586313-0.01832699j],\n",
       "       [0.94425147-0.05701029j],\n",
       "       [0.80586313-0.01832699j],\n",
       "       [0.87038858-0.03147754j],\n",
       "       [1.0154514 -0.15119993j],\n",
       "       [0.94425147-0.05701029j],\n",
       "       [0.80586313-0.01832699j],\n",
       "       [0.87038858-0.03147754j],\n",
       "       [0.80586313-0.01832699j],\n",
       "       [1.0154514 -0.15119993j],\n",
       "       [1.0154514 -0.15119993j],\n",
       "       [0.87038858-0.03147754j],\n",
       "       [0.80586313-0.01832699j],\n",
       "       [0.80586313-0.01832699j],\n",
       "       [1.0154514 -0.15119993j],\n",
       "       [0.94425147-0.05701029j],\n",
       "       [1.0154514 -0.15119993j],\n",
       "       [0.87038858-0.03147754j],\n",
       "       [0.94425147-0.05701029j],\n",
       "       [1.0154514 -0.15119993j],\n",
       "       [0.80586313-0.01832699j],\n",
       "       [0.87038858-0.03147754j],\n",
       "       [1.0154514 -0.15119993j],\n",
       "       [0.80586313-0.01832699j],\n",
       "       [0.87038858-0.03147754j],\n",
       "       [0.87038858-0.03147754j],\n",
       "       [0.87038858-0.03147754j],\n",
       "       [0.80586313-0.01832699j]])"
      ]
     },
     "execution_count": 4,
     "metadata": {},
     "output_type": "execute_result"
    }
   ],
   "source": [
    "# evaluate the network to test for a given config and check the match\n",
    "ansatz_net = nqs(configs_flat)\n",
    "ansatz_net.shape\n",
    "ansatz_net"
   ]
  },
  {
   "cell_type": "code",
   "execution_count": 5,
   "metadata": {},
   "outputs": [
    {
     "data": {
      "text/plain": [
       "(array([[0.87038858-0.03147754j],\n",
       "        [0.80586313-0.01832699j],\n",
       "        [0.94425147-0.05701029j],\n",
       "        [0.87038858-0.03147754j],\n",
       "        [0.87038858-0.03147754j],\n",
       "        [0.80586313-0.01832699j],\n",
       "        [0.94425147-0.05701029j],\n",
       "        [1.0154514 -0.15119993j],\n",
       "        [0.94425147-0.05701029j],\n",
       "        [0.94425147-0.05701029j],\n",
       "        [0.94425147-0.05701029j],\n",
       "        [1.0154514 -0.15119993j],\n",
       "        [0.87038858-0.03147754j],\n",
       "        [1.0154514 -0.15119993j],\n",
       "        [0.94425147-0.05701029j],\n",
       "        [1.0154514 -0.15119993j],\n",
       "        [0.87038858-0.03147754j],\n",
       "        [0.80586313-0.01832699j],\n",
       "        [0.80586313-0.01832699j],\n",
       "        [0.87038858-0.03147754j],\n",
       "        [1.0154514 -0.15119993j],\n",
       "        [1.0154514 -0.15119993j],\n",
       "        [0.94425147-0.05701029j],\n",
       "        [0.80586313-0.01832699j],\n",
       "        [0.87038858-0.03147754j],\n",
       "        [1.0154514 -0.15119993j],\n",
       "        [0.94425147-0.05701029j],\n",
       "        [0.80586313-0.01832699j],\n",
       "        [1.0154514 -0.15119993j],\n",
       "        [0.87038858-0.03147754j],\n",
       "        [1.0154514 -0.15119993j],\n",
       "        [0.94425147-0.05701029j],\n",
       "        [0.87038858-0.03147754j],\n",
       "        [1.0154514 -0.15119993j],\n",
       "        [0.87038858-0.03147754j],\n",
       "        [1.0154514 -0.15119993j],\n",
       "        [0.94425147-0.05701029j],\n",
       "        [1.0154514 -0.15119993j],\n",
       "        [0.94425147-0.05701029j],\n",
       "        [0.87038858-0.03147754j],\n",
       "        [0.94425147-0.05701029j],\n",
       "        [0.80586313-0.01832699j],\n",
       "        [0.94425147-0.05701029j],\n",
       "        [0.80586313-0.01832699j],\n",
       "        [1.0154514 -0.15119993j],\n",
       "        [1.0154514 -0.15119993j],\n",
       "        [0.87038858-0.03147754j],\n",
       "        [0.87038858-0.03147754j],\n",
       "        [0.87038858-0.03147754j],\n",
       "        [0.94425147-0.05701029j],\n",
       "        [0.87038858-0.03147754j],\n",
       "        [0.94425147-0.05701029j],\n",
       "        [0.80586313-0.01832699j],\n",
       "        [0.94425147-0.05701029j],\n",
       "        [0.80586313-0.01832699j],\n",
       "        [1.0154514 -0.15119993j],\n",
       "        [0.94425147-0.05701029j],\n",
       "        [0.87038858-0.03147754j],\n",
       "        [0.94425147-0.05701029j],\n",
       "        [0.80586313-0.01832699j],\n",
       "        [0.94425147-0.05701029j],\n",
       "        [0.94425147-0.05701029j],\n",
       "        [1.0154514 -0.15119993j],\n",
       "        [0.87038858-0.03147754j],\n",
       "        [0.87038858-0.03147754j],\n",
       "        [1.0154514 -0.15119993j],\n",
       "        [1.0154514 -0.15119993j],\n",
       "        [0.87038858-0.03147754j],\n",
       "        [0.80586313-0.01832699j],\n",
       "        [1.0154514 -0.15119993j],\n",
       "        [0.94425147-0.05701029j],\n",
       "        [0.87038858-0.03147754j],\n",
       "        [1.0154514 -0.15119993j],\n",
       "        [0.87038858-0.03147754j],\n",
       "        [0.94425147-0.05701029j],\n",
       "        [0.87038858-0.03147754j],\n",
       "        [1.0154514 -0.15119993j],\n",
       "        [0.87038858-0.03147754j],\n",
       "        [0.80586313-0.01832699j],\n",
       "        [1.0154514 -0.15119993j],\n",
       "        [0.87038858-0.03147754j],\n",
       "        [0.94425147-0.05701029j],\n",
       "        [0.80586313-0.01832699j],\n",
       "        [0.94425147-0.05701029j],\n",
       "        [0.80586313-0.01832699j],\n",
       "        [0.94425147-0.05701029j],\n",
       "        [0.94425147-0.05701029j],\n",
       "        [0.87038858-0.03147754j],\n",
       "        [1.0154514 -0.15119993j],\n",
       "        [0.87038858-0.03147754j],\n",
       "        [1.0154514 -0.15119993j],\n",
       "        [0.87038858-0.03147754j],\n",
       "        [0.87038858-0.03147754j],\n",
       "        [0.87038858-0.03147754j],\n",
       "        [1.0154514 -0.15119993j],\n",
       "        [0.94425147-0.05701029j],\n",
       "        [0.94425147-0.05701029j],\n",
       "        [0.80586313-0.01832699j],\n",
       "        [0.87038858-0.03147754j],\n",
       "        [0.94425147-0.05701029j],\n",
       "        [0.80586313-0.01832699j],\n",
       "        [0.94425147-0.05701029j],\n",
       "        [0.94425147-0.05701029j],\n",
       "        [0.94425147-0.05701029j],\n",
       "        [0.94425147-0.05701029j],\n",
       "        [0.87038858-0.03147754j],\n",
       "        [0.94425147-0.05701029j],\n",
       "        [0.94425147-0.05701029j],\n",
       "        [0.87038858-0.03147754j],\n",
       "        [1.0154514 -0.15119993j],\n",
       "        [1.0154514 -0.15119993j],\n",
       "        [0.94425147-0.05701029j],\n",
       "        [0.87038858-0.03147754j],\n",
       "        [0.87038858-0.03147754j],\n",
       "        [0.94425147-0.05701029j],\n",
       "        [0.87038858-0.03147754j],\n",
       "        [1.0154514 -0.15119993j],\n",
       "        [0.80586313-0.01832699j],\n",
       "        [0.80586313-0.01832699j],\n",
       "        [0.87038858-0.03147754j],\n",
       "        [0.80586313-0.01832699j],\n",
       "        [0.94425147-0.05701029j],\n",
       "        [0.87038858-0.03147754j],\n",
       "        [1.0154514 -0.15119993j],\n",
       "        [0.94425147-0.05701029j],\n",
       "        [1.0154514 -0.15119993j],\n",
       "        [1.0154514 -0.15119993j],\n",
       "        [0.80586313-0.01832699j],\n",
       "        [0.80586313-0.01832699j],\n",
       "        [0.94425147-0.05701029j],\n",
       "        [0.87038858-0.03147754j],\n",
       "        [0.94425147-0.05701029j],\n",
       "        [0.87038858-0.03147754j],\n",
       "        [0.80586313-0.01832699j],\n",
       "        [0.94425147-0.05701029j],\n",
       "        [0.87038858-0.03147754j],\n",
       "        [0.94425147-0.05701029j],\n",
       "        [1.0154514 -0.15119993j],\n",
       "        [0.80586313-0.01832699j],\n",
       "        [0.87038858-0.03147754j],\n",
       "        [1.0154514 -0.15119993j],\n",
       "        [0.94425147-0.05701029j],\n",
       "        [0.87038858-0.03147754j],\n",
       "        [1.0154514 -0.15119993j],\n",
       "        [0.87038858-0.03147754j],\n",
       "        [0.80586313-0.01832699j],\n",
       "        [1.0154514 -0.15119993j],\n",
       "        [0.80586313-0.01832699j],\n",
       "        [0.94425147-0.05701029j],\n",
       "        [0.94425147-0.05701029j],\n",
       "        [1.0154514 -0.15119993j],\n",
       "        [0.80586313-0.01832699j],\n",
       "        [1.0154514 -0.15119993j],\n",
       "        [0.80586313-0.01832699j],\n",
       "        [0.94425147-0.05701029j],\n",
       "        [0.94425147-0.05701029j],\n",
       "        [1.0154514 -0.15119993j],\n",
       "        [0.87038858-0.03147754j],\n",
       "        [1.0154514 -0.15119993j],\n",
       "        [0.87038858-0.03147754j],\n",
       "        [0.80586313-0.01832699j],\n",
       "        [0.94425147-0.05701029j],\n",
       "        [0.80586313-0.01832699j],\n",
       "        [0.94425147-0.05701029j],\n",
       "        [0.87038858-0.03147754j],\n",
       "        [0.87038858-0.03147754j],\n",
       "        [1.0154514 -0.15119993j],\n",
       "        [0.94425147-0.05701029j],\n",
       "        [0.87038858-0.03147754j],\n",
       "        [0.87038858-0.03147754j],\n",
       "        [1.0154514 -0.15119993j],\n",
       "        [0.94425147-0.05701029j],\n",
       "        [1.0154514 -0.15119993j],\n",
       "        [0.94425147-0.05701029j],\n",
       "        [0.87038858-0.03147754j],\n",
       "        [0.94425147-0.05701029j],\n",
       "        [0.80586313-0.01832699j],\n",
       "        [0.87038858-0.03147754j],\n",
       "        [0.87038858-0.03147754j],\n",
       "        [0.87038858-0.03147754j],\n",
       "        [1.0154514 -0.15119993j],\n",
       "        [0.80586313-0.01832699j],\n",
       "        [1.0154514 -0.15119993j],\n",
       "        [1.0154514 -0.15119993j],\n",
       "        [0.80586313-0.01832699j],\n",
       "        [0.87038858-0.03147754j],\n",
       "        [0.87038858-0.03147754j],\n",
       "        [0.80586313-0.01832699j],\n",
       "        [0.87038858-0.03147754j],\n",
       "        [0.94425147-0.05701029j],\n",
       "        [0.94425147-0.05701029j],\n",
       "        [0.80586313-0.01832699j],\n",
       "        [1.0154514 -0.15119993j],\n",
       "        [0.94425147-0.05701029j],\n",
       "        [0.80586313-0.01832699j],\n",
       "        [0.80586313-0.01832699j],\n",
       "        [0.94425147-0.05701029j],\n",
       "        [0.80586313-0.01832699j],\n",
       "        [0.87038858-0.03147754j],\n",
       "        [0.94425147-0.05701029j],\n",
       "        [0.94425147-0.05701029j],\n",
       "        [0.80586313-0.01832699j],\n",
       "        [0.94425147-0.05701029j],\n",
       "        [0.87038858-0.03147754j],\n",
       "        [1.0154514 -0.15119993j],\n",
       "        [1.0154514 -0.15119993j],\n",
       "        [0.80586313-0.01832699j],\n",
       "        [0.80586313-0.01832699j],\n",
       "        [0.80586313-0.01832699j],\n",
       "        [0.94425147-0.05701029j],\n",
       "        [1.0154514 -0.15119993j],\n",
       "        [1.0154514 -0.15119993j],\n",
       "        [0.80586313-0.01832699j],\n",
       "        [0.87038858-0.03147754j],\n",
       "        [0.94425147-0.05701029j],\n",
       "        [1.0154514 -0.15119993j],\n",
       "        [0.80586313-0.01832699j],\n",
       "        [0.87038858-0.03147754j],\n",
       "        [0.87038858-0.03147754j],\n",
       "        [1.0154514 -0.15119993j],\n",
       "        [0.94425147-0.05701029j],\n",
       "        [1.0154514 -0.15119993j],\n",
       "        [0.94425147-0.05701029j],\n",
       "        [0.94425147-0.05701029j],\n",
       "        [0.87038858-0.03147754j],\n",
       "        [0.94425147-0.05701029j],\n",
       "        [0.94425147-0.05701029j],\n",
       "        [0.94425147-0.05701029j],\n",
       "        [1.0154514 -0.15119993j],\n",
       "        [0.80586313-0.01832699j],\n",
       "        [0.87038858-0.03147754j],\n",
       "        [0.80586313-0.01832699j],\n",
       "        [0.94425147-0.05701029j],\n",
       "        [1.0154514 -0.15119993j],\n",
       "        [0.94425147-0.05701029j],\n",
       "        [0.94425147-0.05701029j],\n",
       "        [0.87038858-0.03147754j],\n",
       "        [0.94425147-0.05701029j],\n",
       "        [0.80586313-0.01832699j],\n",
       "        [0.87038858-0.03147754j],\n",
       "        [0.80586313-0.01832699j],\n",
       "        [0.87038858-0.03147754j],\n",
       "        [1.0154514 -0.15119993j],\n",
       "        [1.0154514 -0.15119993j],\n",
       "        [0.94425147-0.05701029j],\n",
       "        [0.87038858-0.03147754j],\n",
       "        [0.87038858-0.03147754j],\n",
       "        [0.94425147-0.05701029j],\n",
       "        [0.80586313-0.01832699j],\n",
       "        [0.80586313-0.01832699j],\n",
       "        [0.87038858-0.03147754j],\n",
       "        [0.87038858-0.03147754j],\n",
       "        [1.0154514 -0.15119993j],\n",
       "        [1.0154514 -0.15119993j],\n",
       "        [0.87038858-0.03147754j],\n",
       "        [0.80586313-0.01832699j],\n",
       "        [0.94425147-0.05701029j],\n",
       "        [1.0154514 -0.15119993j],\n",
       "        [0.87038858-0.03147754j],\n",
       "        [1.0154514 -0.15119993j],\n",
       "        [0.80586313-0.01832699j],\n",
       "        [0.87038858-0.03147754j],\n",
       "        [0.87038858-0.03147754j],\n",
       "        [1.0154514 -0.15119993j],\n",
       "        [0.87038858-0.03147754j],\n",
       "        [1.0154514 -0.15119993j],\n",
       "        [0.87038858-0.03147754j],\n",
       "        [0.80586313-0.01832699j],\n",
       "        [0.87038858-0.03147754j],\n",
       "        [0.80586313-0.01832699j],\n",
       "        [0.80586313-0.01832699j],\n",
       "        [0.94425147-0.05701029j],\n",
       "        [0.87038858-0.03147754j],\n",
       "        [1.0154514 -0.15119993j],\n",
       "        [0.94425147-0.05701029j],\n",
       "        [0.80586313-0.01832699j],\n",
       "        [0.94425147-0.05701029j],\n",
       "        [0.80586313-0.01832699j],\n",
       "        [0.87038858-0.03147754j],\n",
       "        [1.0154514 -0.15119993j],\n",
       "        [1.0154514 -0.15119993j],\n",
       "        [0.80586313-0.01832699j],\n",
       "        [0.94425147-0.05701029j],\n",
       "        [1.0154514 -0.15119993j],\n",
       "        [0.94425147-0.05701029j],\n",
       "        [1.0154514 -0.15119993j],\n",
       "        [0.94425147-0.05701029j],\n",
       "        [0.80586313-0.01832699j],\n",
       "        [0.94425147-0.05701029j],\n",
       "        [0.94425147-0.05701029j],\n",
       "        [1.0154514 -0.15119993j],\n",
       "        [0.80586313-0.01832699j],\n",
       "        [0.94425147-0.05701029j],\n",
       "        [0.87038858-0.03147754j],\n",
       "        [0.87038858-0.03147754j],\n",
       "        [0.87038858-0.03147754j],\n",
       "        [0.87038858-0.03147754j],\n",
       "        [0.87038858-0.03147754j],\n",
       "        [0.87038858-0.03147754j],\n",
       "        [0.94425147-0.05701029j],\n",
       "        [0.94425147-0.05701029j],\n",
       "        [0.80586313-0.01832699j],\n",
       "        [0.87038858-0.03147754j],\n",
       "        [0.80586313-0.01832699j],\n",
       "        [1.0154514 -0.15119993j],\n",
       "        [1.0154514 -0.15119993j],\n",
       "        [0.94425147-0.05701029j],\n",
       "        [0.87038858-0.03147754j],\n",
       "        [0.94425147-0.05701029j],\n",
       "        [0.94425147-0.05701029j],\n",
       "        [0.87038858-0.03147754j],\n",
       "        [1.0154514 -0.15119993j],\n",
       "        [0.87038858-0.03147754j],\n",
       "        [0.87038858-0.03147754j],\n",
       "        [0.80586313-0.01832699j],\n",
       "        [0.87038858-0.03147754j],\n",
       "        [0.94425147-0.05701029j],\n",
       "        [0.94425147-0.05701029j],\n",
       "        [0.94425147-0.05701029j],\n",
       "        [1.0154514 -0.15119993j],\n",
       "        [0.87038858-0.03147754j],\n",
       "        [0.80586313-0.01832699j],\n",
       "        [0.87038858-0.03147754j],\n",
       "        [0.87038858-0.03147754j],\n",
       "        [0.80586313-0.01832699j],\n",
       "        [0.80586313-0.01832699j],\n",
       "        [0.80586313-0.01832699j],\n",
       "        [0.94425147-0.05701029j],\n",
       "        [0.87038858-0.03147754j],\n",
       "        [1.0154514 -0.15119993j],\n",
       "        [0.87038858-0.03147754j],\n",
       "        [0.80586313-0.01832699j],\n",
       "        [0.80586313-0.01832699j],\n",
       "        [0.87038858-0.03147754j],\n",
       "        [1.0154514 -0.15119993j],\n",
       "        [1.0154514 -0.15119993j],\n",
       "        [1.0154514 -0.15119993j],\n",
       "        [0.94425147-0.05701029j],\n",
       "        [1.0154514 -0.15119993j],\n",
       "        [1.0154514 -0.15119993j],\n",
       "        [0.87038858-0.03147754j],\n",
       "        [0.94425147-0.05701029j],\n",
       "        [0.80586313-0.01832699j],\n",
       "        [0.87038858-0.03147754j],\n",
       "        [0.87038858-0.03147754j],\n",
       "        [0.80586313-0.01832699j],\n",
       "        [0.87038858-0.03147754j],\n",
       "        [0.87038858-0.03147754j],\n",
       "        [0.80586313-0.01832699j],\n",
       "        [0.80586313-0.01832699j],\n",
       "        [0.87038858-0.03147754j],\n",
       "        [0.94425147-0.05701029j],\n",
       "        [0.94425147-0.05701029j],\n",
       "        [1.0154514 -0.15119993j],\n",
       "        [1.0154514 -0.15119993j],\n",
       "        [0.87038858-0.03147754j],\n",
       "        [1.0154514 -0.15119993j],\n",
       "        [1.0154514 -0.15119993j],\n",
       "        [1.0154514 -0.15119993j],\n",
       "        [0.94425147-0.05701029j],\n",
       "        [0.87038858-0.03147754j],\n",
       "        [0.94425147-0.05701029j],\n",
       "        [1.0154514 -0.15119993j],\n",
       "        [0.80586313-0.01832699j],\n",
       "        [0.87038858-0.03147754j],\n",
       "        [0.87038858-0.03147754j],\n",
       "        [0.80586313-0.01832699j],\n",
       "        [0.80586313-0.01832699j],\n",
       "        [0.94425147-0.05701029j],\n",
       "        [0.87038858-0.03147754j],\n",
       "        [1.0154514 -0.15119993j],\n",
       "        [0.87038858-0.03147754j],\n",
       "        [0.80586313-0.01832699j],\n",
       "        [0.94425147-0.05701029j],\n",
       "        [0.94425147-0.05701029j],\n",
       "        [0.80586313-0.01832699j],\n",
       "        [0.87038858-0.03147754j],\n",
       "        [0.80586313-0.01832699j],\n",
       "        [0.94425147-0.05701029j],\n",
       "        [0.87038858-0.03147754j],\n",
       "        [0.87038858-0.03147754j],\n",
       "        [0.87038858-0.03147754j],\n",
       "        [0.80586313-0.01832699j],\n",
       "        [0.94425147-0.05701029j],\n",
       "        [0.94425147-0.05701029j],\n",
       "        [1.0154514 -0.15119993j],\n",
       "        [0.80586313-0.01832699j],\n",
       "        [0.80586313-0.01832699j],\n",
       "        [1.0154514 -0.15119993j],\n",
       "        [1.0154514 -0.15119993j],\n",
       "        [1.0154514 -0.15119993j],\n",
       "        [0.80586313-0.01832699j],\n",
       "        [0.80586313-0.01832699j],\n",
       "        [1.0154514 -0.15119993j],\n",
       "        [0.87038858-0.03147754j],\n",
       "        [1.0154514 -0.15119993j],\n",
       "        [0.80586313-0.01832699j],\n",
       "        [0.80586313-0.01832699j],\n",
       "        [0.87038858-0.03147754j],\n",
       "        [1.0154514 -0.15119993j],\n",
       "        [1.0154514 -0.15119993j],\n",
       "        [1.0154514 -0.15119993j],\n",
       "        [0.87038858-0.03147754j],\n",
       "        [0.80586313-0.01832699j],\n",
       "        [1.0154514 -0.15119993j],\n",
       "        [0.80586313-0.01832699j],\n",
       "        [1.0154514 -0.15119993j],\n",
       "        [0.80586313-0.01832699j],\n",
       "        [0.94425147-0.05701029j],\n",
       "        [0.80586313-0.01832699j],\n",
       "        [1.0154514 -0.15119993j],\n",
       "        [1.0154514 -0.15119993j],\n",
       "        [0.87038858-0.03147754j],\n",
       "        [0.80586313-0.01832699j],\n",
       "        [0.80586313-0.01832699j],\n",
       "        [0.80586313-0.01832699j],\n",
       "        [0.87038858-0.03147754j],\n",
       "        [0.80586313-0.01832699j],\n",
       "        [0.80586313-0.01832699j],\n",
       "        [1.0154514 -0.15119993j],\n",
       "        [0.80586313-0.01832699j],\n",
       "        [0.80586313-0.01832699j],\n",
       "        [0.94425147-0.05701029j],\n",
       "        [0.80586313-0.01832699j],\n",
       "        [1.0154514 -0.15119993j],\n",
       "        [0.94425147-0.05701029j],\n",
       "        [0.80586313-0.01832699j],\n",
       "        [0.80586313-0.01832699j],\n",
       "        [0.80586313-0.01832699j],\n",
       "        [1.0154514 -0.15119993j],\n",
       "        [0.94425147-0.05701029j],\n",
       "        [0.87038858-0.03147754j],\n",
       "        [0.80586313-0.01832699j],\n",
       "        [1.0154514 -0.15119993j],\n",
       "        [0.80586313-0.01832699j],\n",
       "        [1.0154514 -0.15119993j],\n",
       "        [0.80586313-0.01832699j],\n",
       "        [1.0154514 -0.15119993j],\n",
       "        [1.0154514 -0.15119993j],\n",
       "        [0.87038858-0.03147754j],\n",
       "        [0.87038858-0.03147754j],\n",
       "        [1.0154514 -0.15119993j],\n",
       "        [0.94425147-0.05701029j],\n",
       "        [0.94425147-0.05701029j],\n",
       "        [0.80586313-0.01832699j],\n",
       "        [0.94425147-0.05701029j],\n",
       "        [0.94425147-0.05701029j],\n",
       "        [0.80586313-0.01832699j],\n",
       "        [0.87038858-0.03147754j],\n",
       "        [0.87038858-0.03147754j],\n",
       "        [1.0154514 -0.15119993j],\n",
       "        [0.80586313-0.01832699j],\n",
       "        [0.87038858-0.03147754j],\n",
       "        [0.87038858-0.03147754j],\n",
       "        [1.0154514 -0.15119993j],\n",
       "        [0.87038858-0.03147754j],\n",
       "        [1.0154514 -0.15119993j],\n",
       "        [1.0154514 -0.15119993j],\n",
       "        [0.94425147-0.05701029j],\n",
       "        [0.94425147-0.05701029j],\n",
       "        [1.0154514 -0.15119993j],\n",
       "        [0.80586313-0.01832699j],\n",
       "        [1.0154514 -0.15119993j],\n",
       "        [1.0154514 -0.15119993j],\n",
       "        [1.0154514 -0.15119993j],\n",
       "        [0.94425147-0.05701029j],\n",
       "        [0.87038858-0.03147754j],\n",
       "        [0.87038858-0.03147754j],\n",
       "        [1.0154514 -0.15119993j],\n",
       "        [0.87038858-0.03147754j],\n",
       "        [0.94425147-0.05701029j],\n",
       "        [1.0154514 -0.15119993j],\n",
       "        [1.0154514 -0.15119993j],\n",
       "        [1.0154514 -0.15119993j],\n",
       "        [0.94425147-0.05701029j],\n",
       "        [1.0154514 -0.15119993j],\n",
       "        [0.94425147-0.05701029j],\n",
       "        [1.0154514 -0.15119993j],\n",
       "        [1.0154514 -0.15119993j],\n",
       "        [1.0154514 -0.15119993j],\n",
       "        [0.94425147-0.05701029j],\n",
       "        [0.94425147-0.05701029j],\n",
       "        [0.94425147-0.05701029j],\n",
       "        [0.80586313-0.01832699j],\n",
       "        [0.94425147-0.05701029j],\n",
       "        [0.94425147-0.05701029j],\n",
       "        [0.87038858-0.03147754j],\n",
       "        [0.80586313-0.01832699j],\n",
       "        [0.87038858-0.03147754j],\n",
       "        [0.94425147-0.05701029j],\n",
       "        [1.0154514 -0.15119993j],\n",
       "        [0.80586313-0.01832699j],\n",
       "        [0.94425147-0.05701029j],\n",
       "        [1.0154514 -0.15119993j],\n",
       "        [0.87038858-0.03147754j],\n",
       "        [0.94425147-0.05701029j],\n",
       "        [0.87038858-0.03147754j],\n",
       "        [0.87038858-0.03147754j],\n",
       "        [1.0154514 -0.15119993j],\n",
       "        [0.80586313-0.01832699j],\n",
       "        [0.80586313-0.01832699j]]),\n",
       " (501, 1))"
      ]
     },
     "execution_count": 5,
     "metadata": {},
     "output_type": "execute_result"
    }
   ],
   "source": [
    "# evaluate with different batch size\n",
    "ansatz_net_batched = nqs(configs_flat, batch_size=3)\n",
    "ansatz_net_batched, ansatz_net_batched.shape"
   ]
  },
  {
   "cell_type": "markdown",
   "metadata": {},
   "source": [
    "#### Apply Hamiltonian to the states"
   ]
  },
  {
   "cell_type": "code",
   "execution_count": 5,
   "metadata": {},
   "outputs": [
    {
     "data": {
      "text/plain": [
       "((500, 2), (500, 1), (500, 1))"
      ]
     },
     "execution_count": 5,
     "metadata": {},
     "output_type": "execute_result"
    }
   ],
   "source": [
    "# sample the configurations\n",
    "(states, logprobas), (configs, configs_ansatze), probabilities = sampler.sample()\n",
    "configs.shape, configs_ansatze.shape, probabilities.shape"
   ]
  },
  {
   "cell_type": "markdown",
   "metadata": {},
   "source": [
    "##### Batch size = 1"
   ]
  },
  {
   "cell_type": "code",
   "execution_count": 6,
   "metadata": {},
   "outputs": [
    {
     "name": "stdout",
     "output_type": "stream",
     "text": [
      "applied_energies shape: (500,)\n",
      "applied_energies_mean: (0.40853209640036947+0.0006961508921627984j)\n",
      "applied_energies_std: 0.09967041465689612\n"
     ]
    }
   ],
   "source": [
    "import general_python.ml.net_impl.utils.net_utils as net_utils\n",
    "\n",
    "if backend == 'jax':\n",
    "    import jax.numpy as jnp\n",
    "    states  = jnp.array(states)\n",
    "    \n",
    "    applied_energies, applied_energies_m, applied_energies_std = \\\n",
    "        net_utils.jaxpy.apply_callable_batched_jax(\n",
    "            func            = ham.get_loc_energy_jax_fun(),\n",
    "            states          = configs,\n",
    "            sample_probas   = probabilities,\n",
    "            logprobas_in    = configs_ansatze,\n",
    "            logproba_fun    = net.get_apply(use_jax=True)[0],\n",
    "            parameters      = net.get_params(),\n",
    "            batch_size      = batch_size\n",
    "        )\n",
    "else:\n",
    "    import numpy as np\n",
    "    applied_energies, applied_energies_m, applied_energies_std = \\\n",
    "        net_utils.numpy.apply_callable_batched_np(\n",
    "            func            = ham.get_loc_energy_np_fun(),\n",
    "            states          = configs,\n",
    "            sample_probas   = probabilities,\n",
    "            logprobas_in    = configs_ansatze,\n",
    "            logproba_fun    = net.get_apply(use_jax=False)[0],\n",
    "            parameters      = net.get_params(),\n",
    "            batch_size      = batch_size\n",
    "        )\n",
    "        \n",
    "print(\"applied_energies shape:\", applied_energies.shape)\n",
    "print(\"applied_energies_mean:\", applied_energies_m)\n",
    "print(\"applied_energies_std:\", applied_energies_std)"
   ]
  },
  {
   "cell_type": "markdown",
   "metadata": {},
   "source": [
    "##### Batch Size != 1"
   ]
  },
  {
   "cell_type": "code",
   "execution_count": 7,
   "metadata": {},
   "outputs": [
    {
     "name": "stdout",
     "output_type": "stream",
     "text": [
      "applied_energies shape: (500,)\n",
      "applied_energies_mean: (0.40853209640036947+0.0006961508921627984j)\n",
      "applied_energies_std: 0.09967041465689612\n"
     ]
    }
   ],
   "source": [
    "import general_python.ml.net_impl.utils.net_utils as net_utils\n",
    "\n",
    "if backend == 'jax':\n",
    "    import jax.numpy as jnp\n",
    "    states  = jnp.array(states)\n",
    "    \n",
    "    applied_energies, applied_energies_m, applied_energies_std = \\\n",
    "        net_utils.jaxpy.apply_callable_batched_jax(\n",
    "            func            = ham.get_loc_energy_jax_fun(),\n",
    "            states          = configs,\n",
    "            sample_probas   = probabilities,\n",
    "            logprobas_in    = configs_ansatze,\n",
    "            logproba_fun    = net.get_apply(use_jax=True)[0],\n",
    "            parameters      = net.get_params(),\n",
    "            batch_size      = 3\n",
    "        )\n",
    "else:\n",
    "    import numpy as np\n",
    "    applied_energies, applied_energies_m, applied_energies_std = \\\n",
    "        net_utils.numpy.apply_callable_batched_np(\n",
    "            func            = ham.get_loc_energy_np_fun(),\n",
    "            states          = configs,\n",
    "            sample_probas   = probabilities,\n",
    "            logprobas_in    = configs_ansatze,\n",
    "            logproba_fun    = net.get_apply(use_jax=False)[0],\n",
    "            parameters      = net.get_params(),\n",
    "            batch_size      = 3\n",
    "        )\n",
    "        \n",
    "print(\"applied_energies shape:\", applied_energies.shape)\n",
    "print(\"applied_energies_mean:\", applied_energies_m)\n",
    "print(\"applied_energies_std:\", applied_energies_std)"
   ]
  },
  {
   "cell_type": "markdown",
   "metadata": {},
   "source": [
    "##### Through the solver with states"
   ]
  },
  {
   "cell_type": "code",
   "execution_count": 8,
   "metadata": {},
   "outputs": [
    {
     "data": {
      "text/plain": [
       "((0.40853209640036947+0.0006961508921627984j), 0.09967041465689612)"
      ]
     },
     "execution_count": 8,
     "metadata": {},
     "output_type": "execute_result"
    }
   ],
   "source": [
    "# apply through the solver with the states\n",
    "(configs, ansatze), probabilities, (v, means, stds) = nqs.evaluate_fun(\n",
    "    states_and_psi  = (configs, configs_ansatze),\n",
    "    probabilities   = probabilities,\n",
    "    functions       = None,\n",
    "    batch_size      = 3,\n",
    ")\n",
    "means, stds"
   ]
  },
  {
   "cell_type": "markdown",
   "metadata": {},
   "source": [
    "##### Without states"
   ]
  },
  {
   "cell_type": "code",
   "execution_count": 17,
   "metadata": {},
   "outputs": [
    {
     "data": {
      "text/plain": [
       "((0.37454661753073765+0.0018528518164046288j), 0.06992249086177382)"
      ]
     },
     "execution_count": 17,
     "metadata": {},
     "output_type": "execute_result"
    }
   ],
   "source": [
    "# apply through the solver with the states\n",
    "(configs, ansatze), probabilities, (v, means, stds) = nqs.evaluate_fun(batch_size = 3)\n",
    "means, stds"
   ]
  },
  {
   "cell_type": "code",
   "execution_count": 14,
   "metadata": {},
   "outputs": [
    {
     "data": {
      "text/plain": [
       "((500, 2), (500, 1), (500, 1))"
      ]
     },
     "execution_count": 14,
     "metadata": {},
     "output_type": "execute_result"
    }
   ],
   "source": [
    "configs.shape, ansatze.shape, probabilities.shape"
   ]
  },
  {
   "cell_type": "markdown",
   "metadata": {},
   "source": [
    "#### Test flax networks"
   ]
  },
  {
   "cell_type": "code",
   "execution_count": 1,
   "metadata": {},
   "outputs": [
    {
     "name": "stdout",
     "output_type": "stream",
     "text": [
      "=== Backend Initialization ===\n",
      "\tNumPy Version: 1.26.4\n",
      "\tSciPy Version: 1.13.1\n",
      "\tJAX Version: Not Available\n",
      "\t\tActive Backend: jax\n",
      "\t\tJAX Available: True\n",
      "\t\tDefault Random Key: [    0 12345]\n",
      "\tActive Backend Modules:\n",
      "\t\t\tMain Module: <module 'jax.numpy' from '/Users/makskliczkowski/miniconda3/lib/python3.12/site-packages/jax/numpy/__init__.py'>\n",
      "\t\t\tRandom Module: <module 'jax.random' from '/Users/makskliczkowski/miniconda3/lib/python3.12/site-packages/jax/random.py'>\n",
      "\t\t\tSciPy Module: <module 'jax.scipy' from '/Users/makskliczkowski/miniconda3/lib/python3.12/site-packages/jax/scipy/__init__.py'>\n",
      "=== End of Backend Info ===\n"
     ]
    },
    {
     "name": "stderr",
     "output_type": "stream",
     "text": [
      "16_03_2025_19-43_04 [INFO] Log file created: ./log/global.log\n",
      "16_03_2025_19-43_04 [INFO] Log level set to: info\n",
      "16_03_2025_19-43_04 [INFO] ########### Global logger initialized. ###########\n",
      "16_03_2025_19-43_06 [INFO] \t\t->\u001b[34m[<class 'NQS.nqs.NQS'>] Network is holomorphic: True\u001b[0m\n",
      "16_03_2025_19-43_06 [INFO] \t\t->\u001b[34m[<class 'NQS.nqs.NQS'>] Network has analytic gradient: False\u001b[0m\n"
     ]
    }
   ],
   "source": [
    "import NQS.nqs as nqsmodule\n",
    "import Solver.MonteCarlo.sampler as Sampling\n",
    "from Algebra.Model.dummy import DummyHamiltonian\n",
    "from general_python.algebra.utils import get_backend\n",
    "from general_python.ml.net_impl.net_simple_flax import FlaxSimpleNet\n",
    "\n",
    "import random\n",
    "import numpy as np\n",
    "import jax.numpy as jnp\n",
    "\n",
    "# get random backend\n",
    "backend             = 'jax'\n",
    "seed                = 1701\n",
    "dtypex              = jnp.complex128\n",
    "be_modules          = get_backend(backend, random=True, seed=seed, scipy=True)\n",
    "backend_np, (rng, rng_k), backend_sp = be_modules if isinstance(be_modules, tuple) else (be_modules, (None, None), None)\n",
    "\n",
    "# get the network\n",
    "ns                  = 10\n",
    "st_shape            = (ns, )\n",
    "activations         = ('relu', 'relu', 'sigmoid')\n",
    "net                 = FlaxSimpleNet(act_fun =   activations, \n",
    "                            input_shape     =   st_shape, \n",
    "                            output_shape    =   (1, ),\n",
    "                            layers          =   (5, ),\n",
    "                            backend         =   backend_np,\n",
    "                            bias            =   True,\n",
    "                            dtype           =   dtypex)\n",
    "\n",
    "# get the sampler\n",
    "sampler = Sampling.MCSampler(\n",
    "    net         = net,\n",
    "    shape       = st_shape,\n",
    "    rng         = rng,\n",
    "    rng_k       = rng_k,\n",
    "    numchains   = 10,\n",
    "    numsamples  = 20,\n",
    "    sweep_steps = 10,\n",
    "    backend     = backend_np,\n",
    "    therm_steps = 10,\n",
    ")\n",
    "\n",
    "# get the Hamiltonian\n",
    "par                 = 0.5 + 1j * 0.5\n",
    "# ham                 = DummyHamiltonian(hilbert_space=None, ns = ns, backend = backend, dtype = net.dtype)\n",
    "\n",
    "from Algebra.Model.Interacting.Spin.qsm import QSM\n",
    "ham                 = QSM(ns=ns, hilbert_space=None, n=3, a=0.74, h=1.0, xi=0.2, backend=backend, dtype='float64')\n",
    "batch_size          = 1\n",
    "\n",
    "nqs = nqsmodule.NQS(\n",
    "    net         = net,\n",
    "    sampler     = sampler,\n",
    "    hamiltonian = ham,\n",
    "    lower_betas = None,\n",
    "    lower_states= None,\n",
    "    seed        = seed,\n",
    "    beta        = 1.0,\n",
    "    shape       = st_shape,\n",
    "    backend     = backend_np,\n",
    "    nthread     = 1,\n",
    "    batch_size  = batch_size,\n",
    ")"
   ]
  },
  {
   "cell_type": "markdown",
   "metadata": {},
   "source": [
    "##### Test the ansatz again"
   ]
  },
  {
   "cell_type": "code",
   "execution_count": 27,
   "metadata": {},
   "outputs": [
    {
     "ename": "TypeError",
     "evalue": "FlaxInterface.__call__() takes 2 positional arguments but 3 were given",
     "output_type": "error",
     "traceback": [
      "\u001b[0;31m---------------------------------------------------------------------------\u001b[0m",
      "\u001b[0;31mTypeError\u001b[0m                                 Traceback (most recent call last)",
      "Cell \u001b[0;32mIn[27], line 5\u001b[0m\n\u001b[1;32m      3\u001b[0m params      \u001b[38;5;241m=\u001b[39m net\u001b[38;5;241m.\u001b[39mget_params()\n\u001b[1;32m      4\u001b[0m states      \u001b[38;5;241m=\u001b[39m jnp\u001b[38;5;241m.\u001b[39marray(states)\n\u001b[0;32m----> 5\u001b[0m ansatz      \u001b[38;5;241m=\u001b[39m net(params, states)\n\u001b[1;32m      6\u001b[0m ansatz      \u001b[38;5;241m=\u001b[39m ansatz\u001b[38;5;241m.\u001b[39mreshape(\u001b[38;5;241m-\u001b[39m\u001b[38;5;241m1\u001b[39m, \u001b[38;5;241m1\u001b[39m)\n\u001b[1;32m      7\u001b[0m ansatz, ansatz\u001b[38;5;241m.\u001b[39mshape\n",
      "\u001b[0;31mTypeError\u001b[0m: FlaxInterface.__call__() takes 2 positional arguments but 3 were given"
     ]
    }
   ],
   "source": [
    "import jax.numpy as jnp\n",
    "states      = np.random.choice([-1,1], size=(10, ns), replace=True)\n",
    "params      = net.get_params()\n",
    "states      = jnp.array(states)\n",
    "ansatz      = net(params, states)\n",
    "ansatz      = ansatz.reshape(-1, 1)\n",
    "ansatz, ansatz.shape"
   ]
  },
  {
   "cell_type": "markdown",
   "metadata": {},
   "source": [
    "##### Check the params"
   ]
  },
  {
   "cell_type": "code",
   "execution_count": null,
   "metadata": {},
   "outputs": [
    {
     "name": "stdout",
     "output_type": "stream",
     "text": [
      "dense 0: ((10, 5), (5,))\n",
      "dense 1: ((5, 1), (1,))\n"
     ]
    },
    {
     "data": {
      "text/plain": [
       "FrozenDict({\n",
       "    Dense_0: {\n",
       "        kernel: DeviceArray([[ 0.12601012+0.43527496j, -0.40719852-0.02396903j,\n",
       "                      -0.02069216-0.41849422j, -0.1801814 +0.0237809j ,\n",
       "                       0.21579173-0.46348858j],\n",
       "                     [-0.00871107+1.00927341j, -0.11819883-0.60234469j,\n",
       "                       0.63919055-0.45272762j,  0.58406621+0.08718889j,\n",
       "                      -0.31506518-0.35852423j],\n",
       "                     [ 0.24430594-0.64656711j, -0.29367188-0.01454458j,\n",
       "                       0.14447711-0.17341225j,  0.09099653-0.05758227j,\n",
       "                       0.35839656-0.19071792j],\n",
       "                     [ 0.25249091-0.29745224j, -0.24840753-0.58038646j,\n",
       "                      -0.05843085+0.18895108j, -0.04986859+0.08540604j,\n",
       "                      -0.00159741-0.19872928j],\n",
       "                     [ 0.01937185-0.37934551j,  0.52302849+0.25854084j,\n",
       "                      -0.85662991+0.05784103j,  0.31808552+0.12186194j,\n",
       "                       0.76653099+0.31128621j],\n",
       "                     [-0.22307719-0.61393887j,  0.3123396 +0.12739617j,\n",
       "                       0.79491138+0.1513277j ,  0.50043827+0.24778193j,\n",
       "                      -0.45366821-0.86975032j],\n",
       "                     [-0.20711827-0.37649822j, -0.63899136+0.34649432j,\n",
       "                      -0.46745872+0.32806388j, -0.12899531-0.50846666j,\n",
       "                       0.71177495-0.08513749j],\n",
       "                     [-0.05605612-0.1903774j ,  0.38630331-0.02636475j,\n",
       "                       0.15859067+0.8660472j , -0.13023713+0.88271916j,\n",
       "                       0.69416726-0.25216058j],\n",
       "                     [ 0.0491034 -0.24370587j,  0.35669822+0.25517994j,\n",
       "                       0.23048925-0.57343769j,  0.17429793+0.47413844j,\n",
       "                      -0.09812491-0.45369759j],\n",
       "                     [ 0.48823494-0.78516799j, -0.73355198-0.19116233j,\n",
       "                      -0.1494413 +0.33703312j,  0.2646755 +0.64281285j,\n",
       "                      -0.45371941-0.74159837j]], dtype=complex128),\n",
       "        bias: DeviceArray([0.+0.j, 0.+0.j, 0.+0.j, 0.+0.j, 0.+0.j], dtype=complex128),\n",
       "    },\n",
       "    Dense_1: {\n",
       "        kernel: DeviceArray([[ 0.42331159+0.9274736j ],\n",
       "                     [-0.42746437+0.59174639j],\n",
       "                     [-0.84139961+0.18413314j],\n",
       "                     [ 0.2105922 -1.23224926j],\n",
       "                     [ 0.29618457-0.60874909j]], dtype=complex128),\n",
       "        bias: DeviceArray([0.+0.j], dtype=complex128),\n",
       "    },\n",
       "})"
      ]
     },
     "execution_count": 18,
     "metadata": {},
     "output_type": "execute_result"
    }
   ],
   "source": [
    "params      = net.get_params()\n",
    "\n",
    "k0 = params['params']['Dense_0']['kernel']\n",
    "b0 = params['params']['Dense_0']['bias']\n",
    "k1 = params['params']['Dense_1']['kernel']\n",
    "b1 = params['params']['Dense_1']['bias']\n",
    "print(\"dense 0:\", (k0.shape, b0.shape))\n",
    "print(\"dense 1:\", (k1.shape, b1.shape))\n",
    "params['params']\n"
   ]
  },
  {
   "cell_type": "markdown",
   "metadata": {},
   "source": [
    "##### Run the example"
   ]
  },
  {
   "cell_type": "code",
   "execution_count": null,
   "metadata": {},
   "outputs": [
    {
     "data": {
      "text/plain": [
       "DeviceArray([[1.310566],\n",
       "             [1.310566],\n",
       "             [1.310566],\n",
       "             [1.310566],\n",
       "             [1.310566]], dtype=float32)"
      ]
     },
     "execution_count": 76,
     "metadata": {},
     "output_type": "execute_result"
    }
   ],
   "source": [
    "import general_python.ml.net_impl.net_simple_flax as simple_flax\n",
    "simple_flax.example()"
   ]
  },
  {
   "cell_type": "markdown",
   "metadata": {},
   "source": [
    "##### Evaluate through solver"
   ]
  },
  {
   "cell_type": "code",
   "execution_count": null,
   "metadata": {},
   "outputs": [
    {
     "data": {
      "text/plain": [
       "(Array(95.45151426-7.19476556j, dtype=complex128),\n",
       " Array(54.57873613, dtype=float64))"
      ]
     },
     "execution_count": 2,
     "metadata": {},
     "output_type": "execute_result"
    }
   ],
   "source": [
    "# apply through the solver with the states\n",
    "(configs, ansatze), probabilities, (v, means, stds) = nqs.evaluate_fun(batch_size = 10)\n",
    "means, stds"
   ]
  },
  {
   "cell_type": "markdown",
   "metadata": {},
   "source": [
    "##### Check whether one can calculate the gradient for the energies directly"
   ]
  },
  {
   "cell_type": "code",
   "execution_count": null,
   "metadata": {},
   "outputs": [
    {
     "name": "stdout",
     "output_type": "stream",
     "text": [
      "{'params': {'Dense_0': {'bias': Array([0.+0.j, 0.+0.j, 0.+0.j, 0.+0.j, 0.+0.j], dtype=complex128), 'kernel': Array([[0.+0.j, 0.+0.j, 0.+0.j, 0.+0.j, 0.+0.j],\n",
      "       [0.+0.j, 0.+0.j, 0.+0.j, 0.+0.j, 0.+0.j],\n",
      "       [0.+0.j, 0.+0.j, 0.+0.j, 0.+0.j, 0.+0.j],\n",
      "       [0.+0.j, 0.+0.j, 0.+0.j, 0.+0.j, 0.+0.j],\n",
      "       [0.+0.j, 0.+0.j, 0.+0.j, 0.+0.j, 0.+0.j],\n",
      "       [0.+0.j, 0.+0.j, 0.+0.j, 0.+0.j, 0.+0.j],\n",
      "       [0.+0.j, 0.+0.j, 0.+0.j, 0.+0.j, 0.+0.j],\n",
      "       [0.+0.j, 0.+0.j, 0.+0.j, 0.+0.j, 0.+0.j],\n",
      "       [0.+0.j, 0.+0.j, 0.+0.j, 0.+0.j, 0.+0.j],\n",
      "       [0.+0.j, 0.+0.j, 0.+0.j, 0.+0.j, 0.+0.j]], dtype=complex128)}, 'Dense_1': {'bias': Array([0.+0.j], dtype=complex128), 'kernel': Array([[0.+0.j],\n",
      "       [0.+0.j],\n",
      "       [0.+0.j],\n",
      "       [0.+0.j],\n",
      "       [0.+0.j]], dtype=complex128)}}}\n"
     ]
    }
   ],
   "source": [
    "import jax\n",
    "\n",
    "def loss_fn(params):\n",
    "    # recompute v with the given parameters\n",
    "    (configs, ansatze), probabilities, (v, means, stds) = nqs.evaluate_fun(batch_size=10)\n",
    "    return means\n",
    "params      = net.get_params()\n",
    "grad_loss   = jax.grad(loss_fn, holomorphic=True)(params)\n",
    "print(grad_loss)"
   ]
  },
  {
   "cell_type": "markdown",
   "metadata": {},
   "source": [
    "##### Check whether one can calculate the gradient for the ansatz"
   ]
  },
  {
   "cell_type": "code",
   "execution_count": null,
   "metadata": {},
   "outputs": [
    {
     "data": {
      "text/plain": [
       "(Array(95.45151426-7.19476556j, dtype=complex128),\n",
       " Array(54.57873613, dtype=float64),\n",
       " (200, 10),\n",
       " (200, 1),\n",
       " (200, 1))"
      ]
     },
     "execution_count": 2,
     "metadata": {},
     "output_type": "execute_result"
    }
   ],
   "source": [
    "# apply through the solver with the states\n",
    "(configs, ansatze), probabilities, (v, means, stds) = nqs.evaluate_fun(batch_size = 10)\n",
    "means, stds, configs.shape, ansatze.shape, probabilities.shape"
   ]
  },
  {
   "cell_type": "markdown",
   "metadata": {},
   "source": [
    "###### Directly"
   ]
  },
  {
   "cell_type": "code",
   "execution_count": 3,
   "metadata": {},
   "outputs": [
    {
     "ename": "NameError",
     "evalue": "name 'configs' is not defined",
     "output_type": "error",
     "traceback": [
      "\u001b[0;31m---------------------------------------------------------------------------\u001b[0m",
      "\u001b[0;31mNameError\u001b[0m                                 Traceback (most recent call last)",
      "Cell \u001b[0;32mIn[3], line 4\u001b[0m\n\u001b[1;32m      2\u001b[0m \u001b[38;5;28;01mimport\u001b[39;00m \u001b[38;5;21;01mjax\u001b[39;00m \n\u001b[1;32m      3\u001b[0m \u001b[38;5;66;03m# create the batches\u001b[39;00m\n\u001b[0;32m----> 4\u001b[0m sb              \u001b[38;5;241m=\u001b[39m net_utils\u001b[38;5;241m.\u001b[39mjaxpy\u001b[38;5;241m.\u001b[39mcreate_batches_jax(configs, batch_size \u001b[38;5;241m=\u001b[39m \u001b[38;5;241m3\u001b[39m)\n\u001b[1;32m      5\u001b[0m \u001b[38;5;28mprint\u001b[39m(sb\u001b[38;5;241m.\u001b[39mshape)\n\u001b[1;32m      6\u001b[0m apply_f, params \u001b[38;5;241m=\u001b[39m net\u001b[38;5;241m.\u001b[39mget_apply(use_jax\u001b[38;5;241m=\u001b[39m\u001b[38;5;28;01mTrue\u001b[39;00m)\n",
      "\u001b[0;31mNameError\u001b[0m: name 'configs' is not defined"
     ]
    }
   ],
   "source": [
    "import general_python.ml.net_impl.utils.net_utils as net_utils\n",
    "import jax \n",
    "# create the batches\n",
    "sb              = net_utils.jaxpy.create_batches_jax(configs, batch_size = 3)\n",
    "print(sb.shape)\n",
    "apply_f, params = net.get_apply(use_jax=True)\n",
    "print(apply_f(params, sb[0]).shape)\n",
    "\n",
    "# compute the gradients using JAX's vmap and scan\n",
    "# use the provided flat_grad_fun to compute the gradients\n",
    "# this is a function that computes the gradients of the network\n",
    "def scan_fun(c, x):\n",
    "    return c, jax.vmap(lambda y: net_utils.jaxpy.flat_gradient_holo_numerical_jax(apply_f, params, y), in_axes=(0,))(x)\n",
    "\n",
    "# use jax's scan to compute the gradients of the logarithmic wave function\n",
    "g = jax.lax.scan(scan_fun, None, sb)[1]\n",
    "g = jax.tree.map(lambda x: x.reshape((-1,) + x.shape[2:]), g)\n",
    "g = jax.tree.map(lambda x: x[:configs.shape[0]], g)\n",
    "\n",
    "# # g = jax.tree_map(lambda x: x / jax.lax.norm(x), g)\n",
    "g.shape"
   ]
  },
  {
   "cell_type": "markdown",
   "metadata": {},
   "source": [
    "###### Through the solver"
   ]
  },
  {
   "cell_type": "code",
   "execution_count": 4,
   "metadata": {},
   "outputs": [
    {
     "ename": "NameError",
     "evalue": "name 'configs' is not defined",
     "output_type": "error",
     "traceback": [
      "\u001b[0;31m---------------------------------------------------------------------------\u001b[0m",
      "\u001b[0;31mNameError\u001b[0m                                 Traceback (most recent call last)",
      "Cell \u001b[0;32mIn[4], line 2\u001b[0m\n\u001b[1;32m      1\u001b[0m \u001b[38;5;66;03m# through the solver\u001b[39;00m\n\u001b[0;32m----> 2\u001b[0m g \u001b[38;5;241m=\u001b[39m nqs\u001b[38;5;241m.\u001b[39mgradient(configs, batch_size\u001b[38;5;241m=\u001b[39m\u001b[38;5;241m3\u001b[39m)\n\u001b[1;32m      3\u001b[0m g\u001b[38;5;241m.\u001b[39mshape\n",
      "\u001b[0;31mNameError\u001b[0m: name 'configs' is not defined"
     ]
    }
   ],
   "source": [
    "# through the solver\n",
    "g = nqs.gradient(configs, batch_size=3)\n",
    "g.shape"
   ]
  },
  {
   "cell_type": "markdown",
   "metadata": {},
   "source": [
    "##### Try out standard gradient vector"
   ]
  },
  {
   "cell_type": "code",
   "execution_count": 3,
   "metadata": {},
   "outputs": [
    {
     "ename": "NameError",
     "evalue": "name 'v' is not defined",
     "output_type": "error",
     "traceback": [
      "\u001b[0;31m---------------------------------------------------------------------------\u001b[0m",
      "\u001b[0;31mNameError\u001b[0m                                 Traceback (most recent call last)",
      "Cell \u001b[0;32mIn[3], line 1\u001b[0m\n\u001b[0;32m----> 1\u001b[0m samples     \u001b[38;5;241m=\u001b[39m v\u001b[38;5;241m.\u001b[39mshape[\u001b[38;5;241m0\u001b[39m]\n\u001b[1;32m      2\u001b[0m e_centered  \u001b[38;5;241m=\u001b[39m (v \u001b[38;5;241m-\u001b[39m means)\n\u001b[1;32m      4\u001b[0m \u001b[38;5;66;03m# derivatives centered\u001b[39;00m\n",
      "\u001b[0;31mNameError\u001b[0m: name 'v' is not defined"
     ]
    }
   ],
   "source": [
    "samples     = v.shape[0]\n",
    "e_centered  = (v - means)\n",
    "\n",
    "# derivatives centered\n",
    "g_means     = jnp.mean(g, axis = 0)\n",
    "g_means.shape, e_centered.shape"
   ]
  },
  {
   "cell_type": "code",
   "execution_count": 5,
   "metadata": {},
   "outputs": [
    {
     "data": {
      "text/plain": [
       "(200, 122)"
      ]
     },
     "execution_count": 5,
     "metadata": {},
     "output_type": "execute_result"
    }
   ],
   "source": [
    "g_centered  = g - g_means\n",
    "g_centered.shape"
   ]
  },
  {
   "cell_type": "code",
   "execution_count": 6,
   "metadata": {},
   "outputs": [
    {
     "data": {
      "text/plain": [
       "(122,)"
      ]
     },
     "execution_count": 6,
     "metadata": {},
     "output_type": "execute_result"
    }
   ],
   "source": [
    "# get F\n",
    "F = jnp.matmul(jnp.conj(g_centered).T, e_centered) / samples\n",
    "F.shape"
   ]
  },
  {
   "cell_type": "code",
   "execution_count": 7,
   "metadata": {},
   "outputs": [
    {
     "data": {
      "text/plain": [
       "{'params': {'Dense_0': {'bias': Array([-1.81029449+8.32813102j, -2.52386652+0.60194279j,\n",
       "           1.38057265+0.78824007j, -2.51773419-4.40488144j,\n",
       "          -3.47630552+1.36578935j], dtype=complex128),\n",
       "   'kernel': Array([[-3.92774504e+00-10.07223469j, -1.53166500e+00 -0.49798525j,\n",
       "           -1.65900185e+00 +4.53506354j,  4.29396817e+00 +0.03943769j,\n",
       "            1.33152432e+00 +1.06197803j],\n",
       "          [-4.16039124e-01-10.2485678j , -2.87143095e+00 -0.17483747j,\n",
       "           -3.33147527e+00 +2.14010628j,  4.55077137e+00 +6.4795413j ,\n",
       "            4.62823305e-01 +0.6975212j ],\n",
       "          [ 3.24859783e+00 +4.78233864j,  1.57657642e+00 -1.20835195j,\n",
       "            2.22959709e+00 -0.59160413j, -4.66965312e+00 -1.46807191j,\n",
       "           -3.12653718e+00 -0.49279469j],\n",
       "          [-2.39985944e+00 +3.24898855j, -3.83656839e+00 +2.28709228j,\n",
       "            3.09378210e-01 +1.29413497j,  1.44298875e+00 -4.27502246j,\n",
       "            3.91246078e-02 +0.16333532j],\n",
       "          [ 4.40250340e+00 +7.2719225j , -2.95470286e-01 -0.49562888j,\n",
       "            3.18526411e-01 -2.65351289j, -4.62725053e+00 -0.2102618j ,\n",
       "           -1.03217417e+00 +0.33053961j],\n",
       "          [ 2.73358114e+00+10.64458735j,  2.94399792e+00 +0.37536976j,\n",
       "            2.97217178e+00 -3.86867989j, -4.93790412e+00 -2.96158621j,\n",
       "           -9.80568326e-01 -0.83883391j],\n",
       "          [ 4.17488724e+00 +1.81142123j, -7.89842917e-01 -2.06719072j,\n",
       "            7.92426849e-04 -1.99234329j, -3.04775369e+00 +1.43875147j,\n",
       "           -2.16164030e-01 +1.55632749j],\n",
       "          [ 1.13698659e+00 +8.41321325j,  1.53696718e+00 +2.16141627j,\n",
       "            1.60035892e+00 -2.44814946j, -6.10343208e+00-10.98883972j,\n",
       "           -8.88938620e-01 +0.2399094j ],\n",
       "          [-3.85547934e+00 +3.25754943j, -4.47823423e-01 +2.9327431j ,\n",
       "            1.80176648e+00 +4.23623267j,  1.35513663e+00 -7.73057831j,\n",
       "           -2.20067916e+00 -0.61731968j],\n",
       "          [ 3.26178416e+00 +8.25842613j,  5.60956626e+00 +2.59466325j,\n",
       "            2.76111046e+00 -2.4308107j , -6.90703172e+00 -6.92202566j,\n",
       "           -3.28448292e+00 -1.64637523j]], dtype=complex128)},\n",
       "  'Dense_1': {'bias': Array([0.+0.j], dtype=complex128),\n",
       "   'kernel': Array([[-27.38433104-31.19156971j],\n",
       "          [  5.90634219 -4.43075511j],\n",
       "          [ 13.82345419 -1.32250762j],\n",
       "          [  3.91497291+19.38134148j],\n",
       "          [ -3.78387596 +2.82927305j]], dtype=complex128)}}}"
      ]
     },
     "execution_count": 7,
     "metadata": {},
     "output_type": "execute_result"
    }
   ],
   "source": [
    "nqs.update_parameters(F)\n",
    "net.get_params()"
   ]
  },
  {
   "cell_type": "markdown",
   "metadata": {},
   "source": [
    "##### Try out Stochastic Reconfiguration and gradient parameter"
   ]
  },
  {
   "cell_type": "code",
   "execution_count": 8,
   "metadata": {},
   "outputs": [
    {
     "data": {
      "text/plain": [
       "((200,), (200, 122))"
      ]
     },
     "execution_count": 8,
     "metadata": {},
     "output_type": "execute_result"
    }
   ],
   "source": [
    "# try out stochastic reconfiguration\n",
    "samples = v.shape[0]\n",
    "v.shape, g.shape"
   ]
  },
  {
   "cell_type": "code",
   "execution_count": 9,
   "metadata": {},
   "outputs": [
    {
     "data": {
      "text/plain": [
       "((122,), (200,))"
      ]
     },
     "execution_count": 9,
     "metadata": {},
     "output_type": "execute_result"
    }
   ],
   "source": [
    "e_centered  = (v - means)\n",
    "\n",
    "# derivatives centered\n",
    "g_means     = jnp.mean(g, axis = 0)\n",
    "g_means.shape, e_centered.shape"
   ]
  },
  {
   "cell_type": "code",
   "execution_count": 10,
   "metadata": {},
   "outputs": [
    {
     "data": {
      "text/plain": [
       "(200, 122)"
      ]
     },
     "execution_count": 10,
     "metadata": {},
     "output_type": "execute_result"
    }
   ],
   "source": [
    "g_centered  = g - g_means\n",
    "g_centered.shape"
   ]
  },
  {
   "cell_type": "code",
   "execution_count": 11,
   "metadata": {},
   "outputs": [],
   "source": [
    "g_centered_c_t = jnp.conj(g_centered).T"
   ]
  },
  {
   "cell_type": "code",
   "execution_count": 12,
   "metadata": {},
   "outputs": [
    {
     "data": {
      "text/plain": [
       "(122,)"
      ]
     },
     "execution_count": 12,
     "metadata": {},
     "output_type": "execute_result"
    }
   ],
   "source": [
    "# get F\n",
    "F = jnp.matmul(g_centered_c_t, e_centered)\n",
    "F.shape"
   ]
  },
  {
   "cell_type": "code",
   "execution_count": 13,
   "metadata": {},
   "outputs": [
    {
     "data": {
      "text/plain": [
       "(122, 122)"
      ]
     },
     "execution_count": 13,
     "metadata": {},
     "output_type": "execute_result"
    }
   ],
   "source": [
    "S = jnp.matmul(g_centered_c_t, g_centered) / samples\n",
    "S.shape"
   ]
  },
  {
   "cell_type": "code",
   "execution_count": 14,
   "metadata": {},
   "outputs": [
    {
     "data": {
      "text/plain": [
       "Array([[ -996.6762469 +4.58513818e+03j,     8.03568758+8.60566478e+00j,\n",
       "          -97.36345836+1.08464647e+02j, ...,\n",
       "          -42.56515932+1.25631806e+03j,  -348.50095778-1.14845053e+03j,\n",
       "         -370.24266174+2.52587404e+02j],\n",
       "       [  -28.79125679-2.58216337e+01j, -3231.83675948+7.70793870e+02j,\n",
       "          -36.16517451-1.08316696e+02j, ...,\n",
       "         2724.32572044+2.11871352e+03j,  1277.99649744+9.36105467e+02j,\n",
       "          -84.2924392 +1.67179076e+00j],\n",
       "       [  781.3833248 +1.02490787e+00j,   106.29725025-1.53094803e+02j,\n",
       "         1188.24285187+6.78429075e+02j, ...,\n",
       "         1749.76509364+2.04186569e+02j,   526.80181055-7.24051234e+02j,\n",
       "         1076.03836234+3.41191486e+02j],\n",
       "       ...,\n",
       "       [   56.47730403-7.24516453e+02j,   510.31070533+3.29470399e+02j,\n",
       "           56.18371672-1.81472968e+02j, ...,\n",
       "         -945.56888235-9.20367332e+03j, -1028.1170432 -9.50323744e+02j,\n",
       "          154.41805544-2.94066832e+02j],\n",
       "       [ -461.89242398-1.58651152e+02j,   -98.64956936+1.69660960e+02j,\n",
       "           19.30604643+6.51674275e+01j, ...,\n",
       "          842.95657371+5.10476690e+02j,  7015.85067085-1.26078868e+03j,\n",
       "           49.98500183+4.13175895e+02j],\n",
       "       [  711.40283256+8.03935510e+01j,    32.48258721+2.50176028e+01j,\n",
       "          157.84069706+2.97012781e+02j, ...,\n",
       "          880.7944454 +2.57742194e+02j,  1186.84710628-1.12267871e+03j,\n",
       "         1134.00274418+1.34577372e+03j]], dtype=complex128)"
      ]
     },
     "execution_count": 14,
     "metadata": {},
     "output_type": "execute_result"
    }
   ],
   "source": [
    "# use standard solver\n",
    "dF = jnp.linalg.pinv(S, 1e-5) * F\n",
    "dF.shape\n",
    "dF"
   ]
  },
  {
   "cell_type": "markdown",
   "metadata": {},
   "source": [
    "##### Try the stochastic reconfiguration class (with solver)"
   ]
  },
  {
   "cell_type": "code",
   "execution_count": 2,
   "metadata": {},
   "outputs": [],
   "source": [
    "# setup the solver\n",
    "import general_python.algebra.solver as Solvers"
   ]
  },
  {
   "cell_type": "markdown",
   "metadata": {},
   "source": [
    "###### a) Without MINSR - solver = direct - no covariance S"
   ]
  },
  {
   "cell_type": "code",
   "execution_count": 3,
   "metadata": {},
   "outputs": [
    {
     "data": {
      "text/plain": [
       "<general_python.algebra.solvers.stochastic_rcnfg.StochasticReconfiguration at 0x322606930>"
      ]
     },
     "execution_count": 3,
     "metadata": {},
     "output_type": "execute_result"
    }
   ],
   "source": [
    "from general_python.algebra.solvers import stochastic_rcnfg as sr\n",
    "\n",
    "# get the samples - apply through the solver with the states\n",
    "(configs, ansatze), probabilities, (v, means, stds) = nqs.evaluate_fun(batch_size = 10)\n",
    "means, stds, configs.shape, ansatze.shape, probabilities.shape\n",
    "\n",
    "# get the derivatives - through the solver\n",
    "g = nqs.gradient(configs, batch_size=3)\n",
    "g.shape\n",
    "\n",
    "# create the sr\n",
    "stochastic_reconfiguration = sr.StochasticReconfiguration(None, backend='jax')\n",
    "stochastic_reconfiguration"
   ]
  },
  {
   "cell_type": "code",
   "execution_count": 4,
   "metadata": {},
   "outputs": [
    {
     "data": {
      "text/plain": [
       "(Array([ 0.10855823-0.32660513j,  0.20722797+0.33173264j,\n",
       "        -0.66236728-0.04154675j,  0.44456338+1.85816174j,\n",
       "        -0.47885727-0.01587807j, -0.32660513-0.10855823j,\n",
       "         0.33173264-0.20722797j, -0.04154675+0.66236728j,\n",
       "         1.85816174-0.44456338j, -0.01587807+0.47885727j,\n",
       "        -0.49477003-0.0131522j ,  0.08248132+0.21648124j,\n",
       "         0.14472442+0.46230666j,  0.37003596-0.51643013j,\n",
       "         0.02598262-0.41098937j,  0.03584987-1.15117412j,\n",
       "        -0.29941663-0.09897074j, -0.4823225 +0.13602369j,\n",
       "         0.52671775+0.73082764j,  0.3026795 +0.47949394j,\n",
       "         0.02587864+0.76563317j,  0.36849913+0.27016452j,\n",
       "         0.52077105-0.08796593j, -0.38016015-0.45015075j,\n",
       "        -0.21782749-0.24871558j,  0.32124215-1.02813758j,\n",
       "        -0.65806464-0.57565099j, -0.84420395-0.06828188j,\n",
       "         0.43221558+1.65443095j,  0.21251576+0.79820713j,\n",
       "         0.42970644-0.04547835j, -0.12788924-0.13584757j,\n",
       "        -0.24313572-0.26635113j, -0.26755011+0.92175875j,\n",
       "         0.01554501+0.44762939j,  0.78367665-0.69087939j,\n",
       "        -0.44376787-0.72600233j, -0.75424203-0.30061017j,\n",
       "        -0.2938297 +1.14849245j,  0.1450303 +0.97319972j,\n",
       "         0.58866809-0.3008623j , -0.13262975-0.4034293j ,\n",
       "        -0.21640182-0.1301101j , -0.31995144+1.1059344j ,\n",
       "        -0.10940042+0.55073765j,  0.6856956 -0.48991272j,\n",
       "        -0.28772759-0.25528459j, -0.50943788-0.37854681j,\n",
       "        -0.30413753+0.9374505j , -0.03578999+0.44435444j,\n",
       "        -0.05984328-0.32226683j, -0.08321449-0.00389283j,\n",
       "        -0.07137217+0.26724917j,  0.23745669+0.23079031j,\n",
       "        -0.06049797+0.22199294j,  0.36398486-0.60479862j,\n",
       "        -0.22677696-0.50132417j, -0.61477014-0.20721385j,\n",
       "         0.07705831+1.03683998j,  0.14506161+0.83601868j,\n",
       "        -0.0131522 +0.49477003j,  0.21648124-0.08248132j,\n",
       "         0.46230666-0.14472442j, -0.51643013-0.37003596j,\n",
       "        -0.41098937-0.02598262j, -1.15117412-0.03584987j,\n",
       "        -0.09897074+0.29941663j,  0.13602369+0.4823225j ,\n",
       "         0.73082764-0.52671775j,  0.47949394-0.3026795j ,\n",
       "         0.76563317-0.02587864j,  0.27016452-0.36849913j,\n",
       "        -0.08796593-0.52077105j, -0.45015075+0.38016015j,\n",
       "        -0.24871558+0.21782749j, -1.02813758-0.32124215j,\n",
       "        -0.57565099+0.65806464j, -0.06828188+0.84420395j,\n",
       "         1.65443095-0.43221558j,  0.79820713-0.21251576j,\n",
       "        -0.04547835-0.42970644j, -0.13584757+0.12788924j,\n",
       "        -0.26635113+0.24313572j,  0.92175875+0.26755011j,\n",
       "         0.44762939-0.01554501j, -0.69087939-0.78367665j,\n",
       "        -0.72600233+0.44376787j, -0.30061017+0.75424203j,\n",
       "         1.14849245+0.2938297j ,  0.97319972-0.1450303j ,\n",
       "        -0.3008623 -0.58866809j, -0.4034293 +0.13262975j,\n",
       "        -0.1301101 +0.21640182j,  1.1059344 +0.31995144j,\n",
       "         0.55073765+0.10940042j, -0.48991272-0.6856956j ,\n",
       "        -0.25528459+0.28772759j, -0.37854681+0.50943788j,\n",
       "         0.9374505 +0.30413753j,  0.44435444+0.03578999j,\n",
       "        -0.32226683+0.05984328j, -0.00389283+0.08321449j,\n",
       "         0.26724917+0.07137217j,  0.23079031-0.23745669j,\n",
       "         0.22199294+0.06049797j, -0.60479862-0.36398486j,\n",
       "        -0.50132417+0.22677696j, -0.20721385+0.61477014j,\n",
       "         1.03683998-0.07705831j,  0.83601868-0.14506161j,\n",
       "         0.        +0.j        ,  0.        +0.j        ,\n",
       "        -1.3882272 +0.32875846j,  0.11516875+0.38839005j,\n",
       "         1.31526298-1.53564329j,  1.22157184-1.21301633j,\n",
       "        -1.10126313+2.85473954j,  0.32875846+1.3882272j ,\n",
       "         0.38839005-0.11516875j, -1.53564329-1.31526298j,\n",
       "        -1.21301633-1.22157184j,  2.85473954+1.10126313j],      dtype=complex128),\n",
       " Array([[ 0.17836104+0.j        , -0.01408975-0.02477838j,\n",
       "         -0.00222475+0.01029986j, ...,  0.00361195+0.00089317j,\n",
       "         -0.0095506 +0.07081822j, -0.00173967-0.12091646j],\n",
       "        [-0.01408975+0.02477838j,  0.13310249+0.j        ,\n",
       "          0.00948973+0.00848849j, ...,  0.02150348+0.00101831j,\n",
       "          0.05060334+0.03745351j,  0.00311375+0.02935913j],\n",
       "        [-0.00222475-0.01029986j,  0.00948973-0.00848849j,\n",
       "          0.16877277+0.j        , ...,  0.03440336-0.0973569j ,\n",
       "          0.06485454-0.03106139j, -0.07688779+0.07873028j],\n",
       "        ...,\n",
       "        [ 0.00361195-0.00089317j,  0.02150348-0.00101831j,\n",
       "          0.03440336+0.0973569j , ...,  0.26744463+0.j        ,\n",
       "          0.09265969+0.06886039j, -0.08835972-0.01963853j],\n",
       "        [-0.0095506 -0.07081822j,  0.05060334-0.03745351j,\n",
       "          0.06485454+0.03106139j, ...,  0.09265969-0.06886039j,\n",
       "          0.37868383+0.j        , -0.2136688 +0.00316302j],\n",
       "        [-0.00173967+0.12091646j,  0.00311375-0.02935913j,\n",
       "         -0.07688779-0.07873028j, ..., -0.08835972+0.01963853j,\n",
       "         -0.2136688 -0.00316302j,  0.56623434+0.j        ]],      dtype=complex128))"
      ]
     },
     "execution_count": 4,
     "metadata": {},
     "output_type": "execute_result"
    }
   ],
   "source": [
    "stochastic_reconfiguration.set_values(loss  =   v, \n",
    "                                derivatives =   g,\n",
    "                                mean_loss   =   means,\n",
    "                                mean_deriv  =   None,\n",
    "                                calculate_s =   False, \n",
    "                                use_minsr   =   False)\n",
    "\n",
    "f = stochastic_reconfiguration.forces\n",
    "s = stochastic_reconfiguration.covariance_matrix\n",
    "\n",
    "f.shape, s.shape\n",
    "f, s"
   ]
  },
  {
   "cell_type": "code",
   "execution_count": 30,
   "metadata": {},
   "outputs": [
    {
     "data": {
      "text/plain": [
       "(Array([[ 0.17836104+0.j        , -0.01408975-0.02477838j,\n",
       "         -0.00222475+0.01029986j, ...,  0.00361195+0.00089317j,\n",
       "         -0.0095506 +0.07081822j, -0.00173967-0.12091646j],\n",
       "        [-0.01408975+0.02477838j,  0.13310249+0.j        ,\n",
       "          0.00948973+0.00848849j, ...,  0.02150348+0.00101831j,\n",
       "          0.05060334+0.03745351j,  0.00311375+0.02935913j],\n",
       "        [-0.00222475-0.01029986j,  0.00948973-0.00848849j,\n",
       "          0.16877277+0.j        , ...,  0.03440336-0.0973569j ,\n",
       "          0.06485454-0.03106139j, -0.07688779+0.07873028j],\n",
       "        ...,\n",
       "        [ 0.00361195-0.00089317j,  0.02150348-0.00101831j,\n",
       "          0.03440336+0.0973569j , ...,  0.26744463+0.j        ,\n",
       "          0.09265969+0.06886039j, -0.08835972-0.01963853j],\n",
       "        [-0.0095506 -0.07081822j,  0.05060334-0.03745351j,\n",
       "          0.06485454+0.03106139j, ...,  0.09265969-0.06886039j,\n",
       "          0.37868383+0.j        , -0.2136688 +0.00316302j],\n",
       "        [-0.00173967+0.12091646j,  0.00311375-0.02935913j,\n",
       "         -0.07688779-0.07873028j, ..., -0.08835972+0.01963853j,\n",
       "         -0.2136688 -0.00316302j,  0.56623434+0.j        ]],      dtype=complex128),\n",
       " Array([ 0.26428973+0.1739097j , -0.11395763+0.48385559j,\n",
       "        -0.27217989-0.38713173j,  0.43372705+1.21698948j,\n",
       "        -0.3779888 -0.0804283j ,  0.1739097 -0.26428973j,\n",
       "         0.48385559+0.11395763j, -0.38713173+0.27217989j,\n",
       "         1.21698948-0.43372705j, -0.0804283 +0.3779888j ,\n",
       "        -0.37025503-0.22003306j,  0.20474047+0.08850593j,\n",
       "         0.12734321+0.35333574j, -0.07183843-0.28586903j,\n",
       "        -0.08340487-0.30222819j,  0.13062984-0.46466345j,\n",
       "        -0.00399698-0.08111365j, -0.21007173+0.14241707j,\n",
       "        -0.09979968+0.29970484j,  0.02845001+0.28851588j,\n",
       "         0.33426936+1.6184215j ,  0.75546934+0.15811787j,\n",
       "         0.75145869-0.16861571j, -1.48836277-1.02166969j,\n",
       "        -0.70238511-0.44611407j,  0.29509489-1.04279442j,\n",
       "        -0.89676457-0.47279632j, -0.78813699-0.1289433j ,\n",
       "         0.61081263+1.43293829j,  0.3831785 +0.78696658j,\n",
       "         0.33152668-0.06547847j, -0.33807899-0.06534315j,\n",
       "        -0.12869795-0.15538704j,  0.01836648+0.73789463j,\n",
       "         0.09503086+0.42294965j,  0.55150417-0.51788604j,\n",
       "        -0.54218422-0.53823739j, -0.63350969-0.34822976j,\n",
       "         0.20133407+1.04194485j,  0.28940978+0.81945533j,\n",
       "         0.65067918-0.33120927j, -0.26605218-0.43863766j,\n",
       "        -0.33483802-0.13820981j, -0.04433746+1.20595555j,\n",
       "         0.02429235+0.44063809j,  0.43330988-0.48306904j,\n",
       "        -0.43694031-0.12675136j, -0.5507462 -0.30633784j,\n",
       "         0.1462271 +0.5518346j ,  0.09589691+0.44293487j,\n",
       "        -0.1323781 -0.28692355j, -0.18922794+0.1000321j ,\n",
       "         0.17257656+0.17833823j,  0.29584099+0.11802578j,\n",
       "         0.07134755+0.14584846j,  0.37761149-0.37336136j,\n",
       "        -0.42451069-0.34455017j, -0.44912738-0.34289359j,\n",
       "         0.09052473+0.67905422j,  0.23721897+0.76954221j,\n",
       "        -0.22003306+0.37025503j,  0.08850593-0.20474047j,\n",
       "         0.35333574-0.12734321j, -0.28586903+0.07183843j,\n",
       "        -0.30222819+0.08340487j, -0.46466345-0.13062984j,\n",
       "        -0.08111365+0.00399698j,  0.14241707+0.21007173j,\n",
       "         0.29970484+0.09979968j,  0.28851588-0.02845001j,\n",
       "         1.6184215 -0.33426936j,  0.15811787-0.75546934j,\n",
       "        -0.16861571-0.75145869j, -1.02166969+1.48836277j,\n",
       "        -0.44611407+0.70238511j, -1.04279442-0.29509489j,\n",
       "        -0.47279632+0.89676457j, -0.1289433 +0.78813699j,\n",
       "         1.43293829-0.61081263j,  0.78696658-0.3831785j ,\n",
       "        -0.06547847-0.33152668j, -0.06534315+0.33807899j,\n",
       "        -0.15538704+0.12869795j,  0.73789463-0.01836648j,\n",
       "         0.42294965-0.09503086j, -0.51788604-0.55150417j,\n",
       "        -0.53823739+0.54218422j, -0.34822976+0.63350969j,\n",
       "         1.04194485-0.20133407j,  0.81945533-0.28940978j,\n",
       "        -0.33120927-0.65067918j, -0.43863766+0.26605218j,\n",
       "        -0.13820981+0.33483802j,  1.20595555+0.04433746j,\n",
       "         0.44063809-0.02429235j, -0.48306904-0.43330988j,\n",
       "        -0.12675136+0.43694031j, -0.30633784+0.5507462j ,\n",
       "         0.5518346 -0.1462271j ,  0.44293487-0.09589691j,\n",
       "        -0.28692355+0.1323781j ,  0.1000321 +0.18922794j,\n",
       "         0.17833823-0.17257656j,  0.11802578-0.29584099j,\n",
       "         0.14584846-0.07134755j, -0.37336136-0.37761149j,\n",
       "        -0.34455017+0.42451069j, -0.34289359+0.44912738j,\n",
       "         0.67905422-0.09052473j,  0.76954221-0.23721897j,\n",
       "         0.        +0.j        ,  0.        +0.j        ,\n",
       "        -1.49833962+0.28722148j, -0.0603168 -0.05526934j,\n",
       "         0.83079339-1.61923469j,  0.32375472-0.652796j  ,\n",
       "        -0.79447062+2.52160342j,  0.28722148+1.49833962j,\n",
       "        -0.05526934+0.0603168j , -1.61923469-0.83079339j,\n",
       "        -0.652796  -0.32375472j,  2.52160342+0.79447062j],      dtype=complex128))"
      ]
     },
     "execution_count": 30,
     "metadata": {},
     "output_type": "execute_result"
    }
   ],
   "source": [
    "stochastic_reconfiguration.covariance_matrix, stochastic_reconfiguration.forces"
   ]
  },
  {
   "cell_type": "code",
   "execution_count": 31,
   "metadata": {},
   "outputs": [
    {
     "data": {
      "text/plain": [
       "(122,)"
      ]
     },
     "execution_count": 31,
     "metadata": {},
     "output_type": "execute_result"
    }
   ],
   "source": [
    "solution = stochastic_reconfiguration.solve(use_s = True, use_minsr = False)\n",
    "solution.shape\n",
    "solution.shape"
   ]
  },
  {
   "cell_type": "markdown",
   "metadata": {},
   "source": [
    "###### b) With MINSR - solver = direct - no covariance S"
   ]
  },
  {
   "cell_type": "code",
   "execution_count": 22,
   "metadata": {},
   "outputs": [
    {
     "data": {
      "text/plain": [
       "<general_python.algebra.solvers.stochastic_rcnfg.StochasticReconfiguration at 0x3767fa420>"
      ]
     },
     "execution_count": 22,
     "metadata": {},
     "output_type": "execute_result"
    }
   ],
   "source": [
    "from general_python.algebra.solvers import stochastic_rcnfg as sr\n",
    "\n",
    "# get the samples - apply through the solver with the states\n",
    "(configs, ansatze), probabilities, (v, means, stds) = nqs.evaluate_fun(batch_size = 10)\n",
    "means, stds, configs.shape, ansatze.shape, probabilities.shape\n",
    "\n",
    "# get the derivatives - through the solver\n",
    "g = nqs.gradient(configs, batch_size=3)\n",
    "g.shape\n",
    "\n",
    "# create the sr\n",
    "stochastic_reconfiguration = sr.StochasticReconfiguration(None, backend='jax')\n",
    "stochastic_reconfiguration"
   ]
  },
  {
   "cell_type": "code",
   "execution_count": 23,
   "metadata": {},
   "outputs": [
    {
     "data": {
      "text/plain": [
       "((122,), (200, 200))"
      ]
     },
     "execution_count": 23,
     "metadata": {},
     "output_type": "execute_result"
    }
   ],
   "source": [
    "stochastic_reconfiguration.set_values(loss  =   v, \n",
    "                                derivatives =   g,\n",
    "                                mean_loss   =   means,\n",
    "                                mean_deriv  =   None,\n",
    "                                calculate_s =   False, \n",
    "                                use_minsr   =   True)\n",
    "\n",
    "f = stochastic_reconfiguration.forces\n",
    "s = stochastic_reconfiguration.covariance_matrix\n",
    "\n",
    "f.shape, s.shape"
   ]
  },
  {
   "cell_type": "markdown",
   "metadata": {},
   "source": [
    "#### Train it!"
   ]
  },
  {
   "cell_type": "code",
   "execution_count": null,
   "metadata": {},
   "outputs": [],
   "source": [
    "nqs.reset()"
   ]
  },
  {
   "cell_type": "code",
   "execution_count": 5,
   "metadata": {},
   "outputs": [],
   "source": [
    "energies = nqs.train(30)"
   ]
  },
  {
   "cell_type": "code",
   "execution_count": 6,
   "metadata": {},
   "outputs": [
    {
     "name": "stderr",
     "output_type": "stream",
     "text": [
      "/Users/makskliczkowski/miniconda3/lib/python3.12/site-packages/matplotlib/cbook.py:1762: ComplexWarning: Casting complex values to real discards the imaginary part\n",
      "  return math.isfinite(val)\n",
      "/Users/makskliczkowski/miniconda3/lib/python3.12/site-packages/matplotlib/cbook.py:1398: ComplexWarning: Casting complex values to real discards the imaginary part\n",
      "  return np.asarray(x, float)\n"
     ]
    },
    {
     "data": {
      "text/plain": [
       "[<matplotlib.lines.Line2D at 0x316075370>]"
      ]
     },
     "execution_count": 6,
     "metadata": {},
     "output_type": "execute_result"
    },
    {
     "data": {
      "image/png": "[encoded data removed]",
      "text/plain": [
       "<Figure size 350x262.5 with 1 Axes>"
      ]
     },
     "metadata": {},
     "output_type": "display_data"
    }
   ],
   "source": [
    "import matplotlib.pyplot as plt\n",
    "plt.plot(energies)"
   ]
  },
  {
   "cell_type": "code",
   "execution_count": 7,
   "metadata": {},
   "outputs": [
    {
     "name": "stderr",
     "output_type": "stream",
     "text": [
      "16_03_2025_19-43_39 [INFO] \t\t\t->\u001b[0m[Quantum Sun Model] JAX is available but NumPy is forced...\u001b[0m\n"
     ]
    },
    {
     "data": {
      "text/plain": [
       "array([-4.27949615, -4.14645406, -3.78872315, ...,  4.02838523,\n",
       "        4.24194772,  4.46954865])"
      ]
     },
     "execution_count": 7,
     "metadata": {},
     "output_type": "execute_result"
    }
   ],
   "source": [
    "ham.build(use_numpy=True)\n",
    "ham.diagonalize()\n",
    "ham.eig_val"
   ]
  },
  {
   "cell_type": "code",
   "execution_count": 9,
   "metadata": {},
   "outputs": [
    {
     "data": {
      "text/plain": [
       "[<matplotlib.lines.Line2D at 0x3407a34d0>]"
      ]
     },
     "execution_count": 9,
     "metadata": {},
     "output_type": "execute_result"
    },
    {
     "data": {
      "image/png": "[encoded data removed]",
      "text/plain": [
       "<Figure size 350x262.5 with 1 Axes>"
      ]
     },
     "metadata": {},
     "output_type": "display_data"
    }
   ],
   "source": [
    "plt.plot(energies)\n",
    "# plt.axhline(energies[0])\n"
   ]
  },
  {
   "cell_type": "code",
   "execution_count": null,
   "metadata": {},
   "outputs": [],
   "source": []
  }
 ],
 "metadata": {
  "kernelspec": {
   "display_name": "base",
   "language": "python",
   "name": "python3"
  },
  "language_info": {
   "codemirror_mode": {
    "name": "ipython",
    "version": 3
   },
   "file_extension": ".py",
   "mimetype": "text/x-python",
   "name": "python",
   "nbconvert_exporter": "python",
   "pygments_lexer": "ipython3",
   "version": "3.12.2"
  }
 },
 "nbformat": 4,
 "nbformat_minor": 2
}
