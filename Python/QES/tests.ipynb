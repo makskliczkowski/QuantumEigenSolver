{
 "cells": [
  {
   "cell_type": "code",
   "execution_count": 6,
   "metadata": {},
   "outputs": [],
   "source": [
    "import sys\n",
    "import os\n",
    "\n",
    "# Add the parent directory (project root) to sys.path\n",
    "project_root = os.path.abspath(os.path.join(os.getcwd(), \"../..\"))\n",
    "if project_root not in sys.path:\n",
    "    sys.path.insert(0, project_root)"
   ]
  },
  {
   "cell_type": "markdown",
   "metadata": {},
   "source": [
    "# Randomness"
   ]
  },
  {
   "cell_type": "markdown",
   "metadata": {},
   "source": [
    "## JAX"
   ]
  },
  {
   "cell_type": "code",
   "execution_count": 1,
   "metadata": {},
   "outputs": [
    {
     "name": "stderr",
     "output_type": "stream",
     "text": [
      "WARNING:jax._src.lib.xla_bridge:No GPU/TPU found, falling back to CPU. (Set TF_CPP_MIN_LOG_LEVEL=0 and rerun for more info.)\n"
     ]
    },
    {
     "name": "stdout",
     "output_type": "stream",
     "text": [
      "=== Backend Initialization ===\n",
      "\tNumPy Version: 1.26.4\n",
      "\tSciPy Version: 1.13.1\n",
      "\tJAX Version: Not Available\n",
      "\t\tActive Backend: jax\n",
      "\t\tJAX Available: True\n",
      "\t\tDefault Random Key: [    0 12345]\n",
      "\tActive Backend Modules:\n",
      "\t\t\tMain Module: <module 'jax.numpy' from '/home/klimak/libraries/anaconda3/lib/python3.11/site-packages/jax/numpy/__init__.py'>\n",
      "\t\t\tRandom Module: <module 'jax.random' from '/home/klimak/libraries/anaconda3/lib/python3.11/site-packages/jax/random.py'>\n",
      "\t\t\tSciPy Module: <module 'jax.scipy' from '/home/klimak/libraries/anaconda3/lib/python3.11/site-packages/jax/scipy/__init__.py'>\n",
      "=== End of Backend Info ===\n",
      "backend: <module 'numpy' from '/home/klimak/libraries/anaconda3/lib/python3.11/site-packages/numpy/__init__.py'>\n",
      "key: None\n",
      "rnd_module: Generator(PCG64)\n",
      "rnd_module.random(): 0.22733602246716966\n",
      "rnd_module.randint(0, 10): 7\n",
      "rnd_module.uniform(0, 10): 7.973654573327341\n",
      "rnd_module.normal(0, 1): -0.2591732349343976\n",
      "uniform(0, 10): [3.91109551 3.32813928 5.98308754 1.86734186 6.72756044]\n",
      "\n",
      "backend: <module 'numpy' from '/home/klimak/libraries/anaconda3/lib/python3.11/site-packages/numpy/__init__.py'>\n",
      "key: None\n",
      "rnd_module: Generator(PCG64)\n",
      "rnd_module.random(): 0.9418028652699372\n",
      "rnd_module.randint(0, 10): 3\n",
      "rnd_module.uniform(0, 10): 2.48245714629571\n",
      "rnd_module.normal(0, 1): 0.9684969057519236\n",
      "uniform(0, 10): [6.67237453 0.95897936 4.41839666 8.86479919 6.974535  ]\n",
      "\n",
      "backend: <module 'numpy' from '/home/klimak/libraries/anaconda3/lib/python3.11/site-packages/numpy/__init__.py'>\n",
      "key: None\n",
      "rnd_module: Generator(PCG64)\n",
      "rnd_module.random(): 0.3264728640701121\n",
      "rnd_module.randint(0, 10): 1\n",
      "rnd_module.uniform(0, 10): 2.201349555454862\n",
      "rnd_module.normal(0, 1): 1.3222980607327857\n",
      "uniform(0, 10): [1.59895601 3.40100185 4.65193154 2.66421028 8.15776403]\n",
      "\n",
      "backend: <module 'numpy' from '/home/klimak/libraries/anaconda3/lib/python3.11/site-packages/numpy/__init__.py'>\n",
      "key: None\n",
      "rnd_module: Generator(PCG64)\n",
      "rnd_module.random(): 0.1932943892894945\n",
      "rnd_module.randint(0, 10): 7\n",
      "rnd_module.uniform(0, 10): 1.2946907617720027\n",
      "rnd_module.normal(0, 1): 1.7247399323163304\n",
      "uniform(0, 10): [5.98568014 8.54741904 6.01621242 9.31988361 7.24781361]\n",
      "\n",
      "backend: <module 'numpy' from '/home/klimak/libraries/anaconda3/lib/python3.11/site-packages/numpy/__init__.py'>\n",
      "key: None\n",
      "rnd_module: Generator(PCG64)\n",
      "rnd_module.random(): 0.8605513173932924\n",
      "rnd_module.randint(0, 10): 7\n",
      "rnd_module.uniform(0, 10): 5.461860090823531\n",
      "rnd_module.normal(0, 1): -0.6587603195674528\n",
      "uniform(0, 10): [4.9498794  2.73773182 4.51778707 6.65038923 3.3089093 ]\n",
      "\n"
     ]
    }
   ],
   "source": [
    "from general_python.algebra.utils import get_backend as __backend\n",
    "from general_python.algebra.ran_wrapper import uniform, randint\n",
    "# test random\n",
    "seed    = None\n",
    "backend = 'np'\n",
    "for i in range(5):\n",
    "    modules = __backend(backend, random=True, seed=seed)\n",
    "    backend, (rnd_module, key) = modules if isinstance(modules, tuple) else (modules, (None, None))\n",
    "    print(f\"backend: {backend}\")\n",
    "    print(f\"key: {key}\")\n",
    "    print(f\"rnd_module: {rnd_module}\")\n",
    "    print(f\"rnd_module.random(): {rnd_module.random()}\")\n",
    "    print(f\"rnd_module.randint(0, 10): {rnd_module.integers(0, 10)}\")\n",
    "    print(f\"rnd_module.uniform(0, 10): {rnd_module.uniform(0, 10)}\")\n",
    "    print(f\"rnd_module.normal(0, 1): {rnd_module.normal(0, 1)}\")\n",
    "    # take the function from random wrapper\n",
    "    print(f\"uniform(0, 10): {uniform(shape=(5,),minval=0, maxval=10, backend=backend, seed=seed)}\")\n",
    "    print()"
   ]
  },
  {
   "cell_type": "code",
   "execution_count": null,
   "metadata": {},
   "outputs": [],
   "source": []
  },
  {
   "cell_type": "markdown",
   "metadata": {},
   "source": [
    "# Models"
   ]
  },
  {
   "cell_type": "markdown",
   "metadata": {},
   "source": [
    "## Operators Test with all backends"
   ]
  },
  {
   "cell_type": "code",
   "execution_count": 1,
   "metadata": {},
   "outputs": [
    {
     "name": "stderr",
     "output_type": "stream",
     "text": [
      "WARNING:jax._src.lib.xla_bridge:No GPU/TPU found, falling back to CPU. (Set TF_CPP_MIN_LOG_LEVEL=0 and rerun for more info.)\n"
     ]
    },
    {
     "name": "stdout",
     "output_type": "stream",
     "text": [
      "=== Backend Initialization ===\n",
      "\tNumPy Version: 1.26.4\n",
      "\tSciPy Version: 1.13.1\n",
      "\tJAX Version: Not Available\n",
      "\t\tActive Backend: jax\n",
      "\t\tJAX Available: True\n",
      "\t\tDefault Random Key: [    0 12345]\n",
      "\tActive Backend Modules:\n",
      "\t\t\tMain Module: <module 'jax.numpy' from '/home/klimak/libraries/anaconda3/lib/python3.11/site-packages/jax/numpy/__init__.py'>\n",
      "\t\t\tRandom Module: <module 'jax.random' from '/home/klimak/libraries/anaconda3/lib/python3.11/site-packages/jax/random.py'>\n",
      "\t\t\tSciPy Module: <module 'jax.scipy' from '/home/klimak/libraries/anaconda3/lib/python3.11/site-packages/jax/scipy/__init__.py'>\n",
      "=== End of Backend Info ===\n"
     ]
    },
    {
     "data": {
      "text/plain": [
       "HON,LatticeBC.PBC,d=2,Ns=8,Lx=2,Ly=2,Lz=1"
      ]
     },
     "execution_count": 1,
     "metadata": {},
     "output_type": "execute_result"
    }
   ],
   "source": [
    "from general_python.lattices.honeycomb import HoneycombLattice\n",
    "from general_python.lattices.lattice import LatticeBC\n",
    "import general_python.common.binary as bin_mod\n",
    "import numpy as np\n",
    "\n",
    "backend = 'np'\n",
    "lat     = HoneycombLattice( dim     = 2,\n",
    "                            lx      = 2,\n",
    "                            ly      = 2,\n",
    "                            lz      = 1,\n",
    "                            bc      = LatticeBC.PBC)\n",
    "lat"
   ]
  },
  {
   "cell_type": "markdown",
   "metadata": {},
   "source": [
    "### Local operators test"
   ]
  },
  {
   "cell_type": "code",
   "execution_count": 2,
   "metadata": {},
   "outputs": [
    {
     "data": {
      "text/plain": [
       "(226,\n",
       " array([1., 1., 1., 1., 1., 1., 1., 1.]),\n",
       " DeviceArray([1., 1., 1., 1., 1., 1., 1., 1.], dtype=float64))"
      ]
     },
     "execution_count": 2,
     "metadata": {},
     "output_type": "execute_result"
    }
   ],
   "source": [
    "# create an operator\n",
    "import Algebra.Operator.operators_spin as op_spin\n",
    "import jax.numpy as jnp\n",
    "\n",
    "sig_x = op_spin.sig_x(\n",
    "    lattice  = lat,\n",
    "    type_act = op_spin.OperatorTypeActing.Local\n",
    ")\n",
    "sig_z = op_spin.sig_z(\n",
    "    lattice  = lat,\n",
    "    type_act = op_spin.OperatorTypeActing.Local\n",
    ")\n",
    "\n",
    "# create a set of states and test it\n",
    "int_state = np.random.randint(0, 2**lat.ns, dtype=np.int32)\n",
    "np_state  = np.ones((lat.ns), dtype = np.float64)\n",
    "jnp_state = jnp.ones((lat.ns), dtype = jnp.float64)\n",
    "\n",
    "int_state, np_state, jnp_state"
   ]
  },
  {
   "cell_type": "markdown",
   "metadata": {},
   "source": [
    "#### Integer states"
   ]
  },
  {
   "cell_type": "code",
   "execution_count": 3,
   "metadata": {},
   "outputs": [
    {
     "name": "stdout",
     "output_type": "stream",
     "text": [
      "Before: 11100010\n",
      "i: 0)\n",
      "\tSigma Z\n",
      "\t\tAfter 0'th s_z: (226)b11100010 with value [0.5]\n",
      "\tSigma X\n",
      "\t\tAfter 0'th s_x: (98)b01100010 with value [0.5]\n",
      "i: 1)\n",
      "\tSigma Z\n",
      "\t\tAfter 1'th s_z: (226)b11100010 with value [0.5]\n",
      "\tSigma X\n",
      "\t\tAfter 1'th s_x: (162)b10100010 with value [0.5]\n",
      "i: 2)\n",
      "\tSigma Z\n",
      "\t\tAfter 2'th s_z: (226)b11100010 with value [0.5]\n",
      "\tSigma X\n",
      "\t\tAfter 2'th s_x: (194)b11000010 with value [0.5]\n",
      "i: 3)\n",
      "\tSigma Z\n",
      "\t\tAfter 3'th s_z: (226)b11100010 with value [-0.5]\n",
      "\tSigma X\n",
      "\t\tAfter 3'th s_x: (242)b11110010 with value [0.5]\n",
      "i: 4)\n",
      "\tSigma Z\n",
      "\t\tAfter 4'th s_z: (226)b11100010 with value [-0.5]\n",
      "\tSigma X\n",
      "\t\tAfter 4'th s_x: (234)b11101010 with value [0.5]\n",
      "i: 5)\n",
      "\tSigma Z\n",
      "\t\tAfter 5'th s_z: (226)b11100010 with value [-0.5]\n",
      "\tSigma X\n",
      "\t\tAfter 5'th s_x: (230)b11100110 with value [0.5]\n",
      "i: 6)\n",
      "\tSigma Z\n",
      "\t\tAfter 6'th s_z: (226)b11100010 with value [0.5]\n",
      "\tSigma X\n",
      "\t\tAfter 6'th s_x: (224)b11100000 with value [0.5]\n",
      "i: 7)\n",
      "\tSigma Z\n",
      "\t\tAfter 7'th s_z: (226)b11100010 with value [-0.5]\n",
      "\tSigma X\n",
      "\t\tAfter 7'th s_x: (227)b11100011 with value [0.5]\n"
     ]
    }
   ],
   "source": [
    "print(f\"Before: {bin_mod.int2binstr(int_state, lat.ns)}\")\n",
    "for i in range(lat.ns):\n",
    "    print(f\"i: {i})\")\n",
    "    print(\"\\tSigma Z\")\n",
    "    # sig_z\n",
    "    int_state_mod, int_state_mod_val = sig_z(int_state, i)\n",
    "    print(f\"\\t\\tAfter {i}'th s_z: ({int_state_mod[0]})b{bin_mod.int2binstr(int_state_mod[0], lat.ns)} with value {int_state_mod_val}\")\n",
    "    print(\"\\tSigma X\")\n",
    "    # sig_x\n",
    "    int_state_mod, int_state_mod_val = sig_x(int_state, i)\n",
    "    print(f\"\\t\\tAfter {i}'th s_x: ({int_state_mod[0]})b{bin_mod.int2binstr(int_state_mod[0], lat.ns)} with value {int_state_mod_val}\")"
   ]
  },
  {
   "cell_type": "markdown",
   "metadata": {},
   "source": [
    "#### Numpy states"
   ]
  },
  {
   "cell_type": "code",
   "execution_count": 5,
   "metadata": {},
   "outputs": [
    {
     "name": "stdout",
     "output_type": "stream",
     "text": [
      "i: 0)\n",
      "Before: [1. 1. 1. 1. 1. 1. 1. 1.], acting on sites [0]\n",
      "After X: [-1.  1.  1.  1.  1.  1.  1.  1.]\n",
      "After Z: [1. 1. 1. 1. 1. 1. 1. 1.]\n",
      "i: 1)\n",
      "Before: [1. 1. 1. 1. 1. 1. 1. 1.], acting on sites [1]\n",
      "After X: [ 1. -1.  1.  1.  1.  1.  1.  1.]\n",
      "After Z: [1. 1. 1. 1. 1. 1. 1. 1.]\n",
      "i: 2)\n",
      "Before: [1. 1. 1. 1. 1. 1. 1. 1.], acting on sites [2]\n",
      "After X: [ 1.  1. -1.  1.  1.  1.  1.  1.]\n",
      "After Z: [1. 1. 1. 1. 1. 1. 1. 1.]\n",
      "i: 3)\n",
      "Before: [1. 1. 1. 1. 1. 1. 1. 1.], acting on sites [3]\n",
      "After X: [ 1.  1.  1. -1.  1.  1.  1.  1.]\n",
      "After Z: [1. 1. 1. 1. 1. 1. 1. 1.]\n",
      "i: 4)\n",
      "Before: [1. 1. 1. 1. 1. 1. 1. 1.], acting on sites [4]\n",
      "After X: [ 1.  1.  1.  1. -1.  1.  1.  1.]\n",
      "After Z: [1. 1. 1. 1. 1. 1. 1. 1.]\n",
      "i: 5)\n",
      "Before: [1. 1. 1. 1. 1. 1. 1. 1.], acting on sites [5]\n",
      "After X: [ 1.  1.  1.  1.  1. -1.  1.  1.]\n",
      "After Z: [1. 1. 1. 1. 1. 1. 1. 1.]\n",
      "i: 6)\n",
      "Before: [1. 1. 1. 1. 1. 1. 1. 1.], acting on sites [6]\n",
      "After X: [ 1.  1.  1.  1.  1.  1. -1.  1.]\n",
      "After Z: [1. 1. 1. 1. 1. 1. 1. 1.]\n",
      "i: 7)\n",
      "Before: [1. 1. 1. 1. 1. 1. 1. 1.], acting on sites [7]\n",
      "After X: [ 1.  1.  1.  1.  1.  1.  1. -1.]\n",
      "After Z: [1. 1. 1. 1. 1. 1. 1. 1.]\n"
     ]
    }
   ],
   "source": [
    "for i in range(lat.ns):\n",
    "    print(f\"i: {i})\")\n",
    "    sites            = [i]\n",
    "    np_modified_x, _ = sig_x(np_state.copy(), sites[0])\n",
    "    np_modified_z, _ = sig_z(np_state.copy(), sites[0])\n",
    "    print(f\"Before: {np_state}, acting on sites {sites}\")\n",
    "    print(f\"After X: {np_modified_x}\")\n",
    "    print(f\"After Z: {np_modified_z}\")"
   ]
  },
  {
   "cell_type": "markdown",
   "metadata": {},
   "source": [
    "#### Jax states"
   ]
  },
  {
   "cell_type": "code",
   "execution_count": 9,
   "metadata": {},
   "outputs": [
    {
     "name": "stdout",
     "output_type": "stream",
     "text": [
      "i: 0)\n",
      "Before: [1. 1. 1. 1. 1. 1. 1. 1.], acting on sites [0]\n",
      "After X: [-1.  1.  1.  1.  1.  1.  1.  1.]\n",
      "After Z: [1. 1. 1. 1. 1. 1. 1. 1.]\n",
      "i: 1)\n",
      "Before: [1. 1. 1. 1. 1. 1. 1. 1.], acting on sites [1]\n",
      "After X: [ 1. -1.  1.  1.  1.  1.  1.  1.]\n",
      "After Z: [1. 1. 1. 1. 1. 1. 1. 1.]\n",
      "i: 2)\n",
      "Before: [1. 1. 1. 1. 1. 1. 1. 1.], acting on sites [2]\n",
      "After X: [ 1.  1. -1.  1.  1.  1.  1.  1.]\n",
      "After Z: [1. 1. 1. 1. 1. 1. 1. 1.]\n",
      "i: 3)\n",
      "Before: [1. 1. 1. 1. 1. 1. 1. 1.], acting on sites [3]\n",
      "After X: [ 1.  1.  1. -1.  1.  1.  1.  1.]\n",
      "After Z: [1. 1. 1. 1. 1. 1. 1. 1.]\n",
      "i: 4)\n",
      "Before: [1. 1. 1. 1. 1. 1. 1. 1.], acting on sites [4]\n",
      "After X: [ 1.  1.  1.  1. -1.  1.  1.  1.]\n",
      "After Z: [1. 1. 1. 1. 1. 1. 1. 1.]\n",
      "i: 5)\n",
      "Before: [1. 1. 1. 1. 1. 1. 1. 1.], acting on sites [5]\n",
      "After X: [ 1.  1.  1.  1.  1. -1.  1.  1.]\n",
      "After Z: [1. 1. 1. 1. 1. 1. 1. 1.]\n",
      "i: 6)\n",
      "Before: [1. 1. 1. 1. 1. 1. 1. 1.], acting on sites [6]\n",
      "After X: [ 1.  1.  1.  1.  1.  1. -1.  1.]\n",
      "After Z: [1. 1. 1. 1. 1. 1. 1. 1.]\n",
      "i: 7)\n",
      "Before: [1. 1. 1. 1. 1. 1. 1. 1.], acting on sites [7]\n",
      "After X: [ 1.  1.  1.  1.  1.  1.  1. -1.]\n",
      "After Z: [1. 1. 1. 1. 1. 1. 1. 1.]\n"
     ]
    }
   ],
   "source": [
    "for i in range(lat.ns):\n",
    "    print(f\"i: {i})\")\n",
    "    sites            = [i]\n",
    "    jnp_modified_x, _ = sig_x(jnp_state.copy(), sites[0])\n",
    "    jnp_modified_z, _ = sig_z(jnp_state.copy(), sites[0])\n",
    "    print(f\"Before: {jnp_state}, acting on sites {sites}\")\n",
    "    print(f\"After X: {jnp_modified_x}\")\n",
    "    print(f\"After Z: {jnp_modified_z}\")"
   ]
  },
  {
   "cell_type": "markdown",
   "metadata": {},
   "source": [
    "### Correlation"
   ]
  },
  {
   "cell_type": "code",
   "execution_count": 10,
   "metadata": {},
   "outputs": [
    {
     "data": {
      "text/plain": [
       "(229,\n",
       " array([1., 1., 1., 1., 1., 1., 1., 1.]),\n",
       " DeviceArray([1., 1., 1., 1., 1., 1., 1., 1.], dtype=float64))"
      ]
     },
     "execution_count": 10,
     "metadata": {},
     "output_type": "execute_result"
    }
   ],
   "source": [
    "# create an operator\n",
    "import Algebra.Operator.operators_spin as op_spin\n",
    "import jax.numpy as jnp\n",
    "\n",
    "sig_x = op_spin.sig_x(\n",
    "    lattice  = lat,\n",
    "    type_act = op_spin.OperatorTypeActing.Correlation\n",
    ")\n",
    "sig_z = op_spin.sig_z(\n",
    "    lattice  = lat,\n",
    "    type_act = op_spin.OperatorTypeActing.Correlation\n",
    ")\n",
    "\n",
    "# create a set of states and test it\n",
    "int_state = np.random.randint(0, 2**lat.ns, dtype=np.int32)\n",
    "np_state  = np.ones((lat.ns), dtype = np.float64)\n",
    "jnp_state = jnp.ones((lat.ns), dtype = jnp.float64)\n",
    "\n",
    "int_state, np_state, jnp_state"
   ]
  },
  {
   "cell_type": "markdown",
   "metadata": {},
   "source": [
    "#### Integer states"
   ]
  },
  {
   "cell_type": "code",
   "execution_count": 11,
   "metadata": {},
   "outputs": [
    {
     "name": "stdout",
     "output_type": "stream",
     "text": [
      "Before: 11100101\n",
      "i: 0)\n",
      "\tSigma Z\n",
      "\t\tAfter [0, 1]'th s_z: (229)b11100101 with value [0.25]\n",
      "\tSigma X\n",
      "\t\tAfter [0, 1]'th s_x: (37)b00100101 with value [0.25]\n",
      "i: 1)\n",
      "\tSigma Z\n",
      "\t\tAfter [1, 2]'th s_z: (229)b11100101 with value [0.25]\n",
      "\tSigma X\n",
      "\t\tAfter [1, 2]'th s_x: (133)b10000101 with value [0.25]\n",
      "i: 2)\n",
      "\tSigma Z\n",
      "\t\tAfter [2, 3]'th s_z: (229)b11100101 with value [-0.25]\n",
      "\tSigma X\n",
      "\t\tAfter [2, 3]'th s_x: (213)b11010101 with value [0.25]\n",
      "i: 3)\n",
      "\tSigma Z\n",
      "\t\tAfter [3, 4]'th s_z: (229)b11100101 with value [0.25]\n",
      "\tSigma X\n",
      "\t\tAfter [3, 4]'th s_x: (253)b11111101 with value [0.25]\n",
      "i: 4)\n",
      "\tSigma Z\n",
      "\t\tAfter [4, 5]'th s_z: (229)b11100101 with value [-0.25]\n",
      "\tSigma X\n",
      "\t\tAfter [4, 5]'th s_x: (233)b11101001 with value [0.25]\n",
      "i: 5)\n",
      "\tSigma Z\n",
      "\t\tAfter [5, 6]'th s_z: (229)b11100101 with value [-0.25]\n",
      "\tSigma X\n",
      "\t\tAfter [5, 6]'th s_x: (227)b11100011 with value [0.25]\n",
      "i: 6)\n",
      "\tSigma Z\n",
      "\t\tAfter [6, 7]'th s_z: (229)b11100101 with value [-0.25]\n",
      "\tSigma X\n",
      "\t\tAfter [6, 7]'th s_x: (230)b11100110 with value [0.25]\n",
      "i: 7)\n",
      "\tSigma Z\n",
      "\t\tAfter [7, 0]'th s_z: (229)b11100101 with value [0.25]\n",
      "\tSigma X\n",
      "\t\tAfter [7, 0]'th s_x: (100)b01100100 with value [0.25]\n"
     ]
    }
   ],
   "source": [
    "print(f\"Before: {bin_mod.int2binstr(int_state, lat.ns)}\")\n",
    "for i in range(lat.ns):\n",
    "    sites = [i, (i+1)%lat.ns]\n",
    "    print(f\"i: {i})\")\n",
    "    print(\"\\tSigma Z\")\n",
    "    # sig_z\n",
    "    int_state_mod, int_state_mod_val = sig_z(int_state, *sites)\n",
    "    print(f\"\\t\\tAfter {sites}'th s_z: ({int_state_mod[0]})b{bin_mod.int2binstr(int_state_mod[0], lat.ns)} with value {int_state_mod_val}\")\n",
    "    print(\"\\tSigma X\")\n",
    "    # sig_x\n",
    "    sites = [i, (i+1)%lat.ns]\n",
    "    int_state_mod, int_state_mod_val = sig_x(int_state, *sites)\n",
    "    print(f\"\\t\\tAfter {sites}'th s_x: ({int_state_mod[0]})b{bin_mod.int2binstr(int_state_mod[0], lat.ns)} with value {int_state_mod_val}\")"
   ]
  },
  {
   "cell_type": "markdown",
   "metadata": {},
   "source": [
    "#### Numpy states"
   ]
  },
  {
   "cell_type": "code",
   "execution_count": 12,
   "metadata": {},
   "outputs": [
    {
     "name": "stdout",
     "output_type": "stream",
     "text": [
      "0\n",
      "Before: [1. 1. 1. 1. 1. 1. 1. 1.], acting on sites [0, 1]\n",
      "After X: [-1. -1.  1.  1.  1.  1.  1.  1.]\n",
      "After Z: [1. 1. 1. 1. 1. 1. 1. 1.]\n",
      "1\n",
      "Before: [1. 1. 1. 1. 1. 1. 1. 1.], acting on sites [1, 2]\n",
      "After X: [ 1. -1. -1.  1.  1.  1.  1.  1.]\n",
      "After Z: [1. 1. 1. 1. 1. 1. 1. 1.]\n",
      "2\n",
      "Before: [1. 1. 1. 1. 1. 1. 1. 1.], acting on sites [2, 3]\n",
      "After X: [ 1.  1. -1. -1.  1.  1.  1.  1.]\n",
      "After Z: [1. 1. 1. 1. 1. 1. 1. 1.]\n",
      "3\n",
      "Before: [1. 1. 1. 1. 1. 1. 1. 1.], acting on sites [3, 4]\n",
      "After X: [ 1.  1.  1. -1. -1.  1.  1.  1.]\n",
      "After Z: [1. 1. 1. 1. 1. 1. 1. 1.]\n",
      "4\n",
      "Before: [1. 1. 1. 1. 1. 1. 1. 1.], acting on sites [4, 5]\n",
      "After X: [ 1.  1.  1.  1. -1. -1.  1.  1.]\n",
      "After Z: [1. 1. 1. 1. 1. 1. 1. 1.]\n",
      "5\n",
      "Before: [1. 1. 1. 1. 1. 1. 1. 1.], acting on sites [5, 6]\n",
      "After X: [ 1.  1.  1.  1.  1. -1. -1.  1.]\n",
      "After Z: [1. 1. 1. 1. 1. 1. 1. 1.]\n",
      "6\n",
      "Before: [1. 1. 1. 1. 1. 1. 1. 1.], acting on sites [6, 7]\n",
      "After X: [ 1.  1.  1.  1.  1.  1. -1. -1.]\n",
      "After Z: [1. 1. 1. 1. 1. 1. 1. 1.]\n",
      "7\n",
      "Before: [1. 1. 1. 1. 1. 1. 1. 1.], acting on sites [7, 0]\n",
      "After X: [-1.  1.  1.  1.  1.  1.  1. -1.]\n",
      "After Z: [1. 1. 1. 1. 1. 1. 1. 1.]\n"
     ]
    }
   ],
   "source": [
    "for i in range(lat.ns):\n",
    "    print(i)\n",
    "    sites            = [i, (i+1)%lat.ns]\n",
    "    np_modified_x, _ = sig_x(np_state.copy(), *sites)\n",
    "    np_modified_z, _ = sig_z(np_state.copy(), *sites)\n",
    "    print(f\"Before: {np_state}, acting on sites {sites}\")\n",
    "    print(f\"After X: {np_modified_x}\")\n",
    "    print(f\"After Z: {np_modified_z}\")"
   ]
  },
  {
   "cell_type": "markdown",
   "metadata": {},
   "source": [
    "#### JAX states"
   ]
  },
  {
   "cell_type": "code",
   "execution_count": 14,
   "metadata": {},
   "outputs": [
    {
     "name": "stdout",
     "output_type": "stream",
     "text": [
      "0\n",
      "Before: [1. 1. 1. 1. 1. 1. 1. 1.], acting on sites [0, 1]\n",
      "After X: [-1. -1.  1.  1.  1.  1.  1.  1.]\n",
      "After Z: [1. 1. 1. 1. 1. 1. 1. 1.]\n",
      "1\n",
      "Before: [1. 1. 1. 1. 1. 1. 1. 1.], acting on sites [1, 2]\n",
      "After X: [ 1. -1. -1.  1.  1.  1.  1.  1.]\n",
      "After Z: [1. 1. 1. 1. 1. 1. 1. 1.]\n",
      "2\n",
      "Before: [1. 1. 1. 1. 1. 1. 1. 1.], acting on sites [2, 3]\n",
      "After X: [ 1.  1. -1. -1.  1.  1.  1.  1.]\n",
      "After Z: [1. 1. 1. 1. 1. 1. 1. 1.]\n",
      "3\n",
      "Before: [1. 1. 1. 1. 1. 1. 1. 1.], acting on sites [3, 4]\n",
      "After X: [ 1.  1.  1. -1. -1.  1.  1.  1.]\n",
      "After Z: [1. 1. 1. 1. 1. 1. 1. 1.]\n",
      "4\n",
      "Before: [1. 1. 1. 1. 1. 1. 1. 1.], acting on sites [4, 5]\n",
      "After X: [ 1.  1.  1.  1. -1. -1.  1.  1.]\n",
      "After Z: [1. 1. 1. 1. 1. 1. 1. 1.]\n",
      "5\n",
      "Before: [1. 1. 1. 1. 1. 1. 1. 1.], acting on sites [5, 6]\n",
      "After X: [ 1.  1.  1.  1.  1. -1. -1.  1.]\n",
      "After Z: [1. 1. 1. 1. 1. 1. 1. 1.]\n",
      "6\n",
      "Before: [1. 1. 1. 1. 1. 1. 1. 1.], acting on sites [6, 7]\n",
      "After X: [ 1.  1.  1.  1.  1.  1. -1. -1.]\n",
      "After Z: [1. 1. 1. 1. 1. 1. 1. 1.]\n",
      "7\n",
      "Before: [1. 1. 1. 1. 1. 1. 1. 1.], acting on sites [7, 0]\n",
      "After X: [-1.  1.  1.  1.  1.  1.  1. -1.]\n",
      "After Z: [1. 1. 1. 1. 1. 1. 1. 1.]\n"
     ]
    }
   ],
   "source": [
    "for i in range(lat.ns):\n",
    "    print(i)\n",
    "    sites            = [i, (i+1)%lat.ns]\n",
    "    jnp_modified_x, _ = sig_x(jnp_state.copy(), *sites)\n",
    "    jnp_modified_z, _ = sig_z(jnp_state.copy(), *sites)\n",
    "    print(f\"Before: {jnp_state}, acting on sites {sites}\")\n",
    "    print(f\"After X: {jnp_modified_x}\")\n",
    "    print(f\"After Z: {jnp_modified_z}\")"
   ]
  },
  {
   "cell_type": "markdown",
   "metadata": {},
   "source": [
    "### Globals"
   ]
  },
  {
   "cell_type": "code",
   "execution_count": 2,
   "metadata": {},
   "outputs": [
    {
     "data": {
      "text/plain": [
       "(226,\n",
       " array([1., 1., 1., 1., 1., 1., 1., 1.]),\n",
       " DeviceArray([1., 1., 1., 1., 1., 1., 1., 1.], dtype=float64))"
      ]
     },
     "execution_count": 2,
     "metadata": {},
     "output_type": "execute_result"
    }
   ],
   "source": [
    "# create an operator\n",
    "import Algebra.Operator.operators_spin as op_spin\n",
    "import jax.numpy as jnp\n",
    "sites = [0, 2]\n",
    "sig_x = op_spin.sig_x(\n",
    "    lattice  = lat,\n",
    "    sites    = sites\n",
    ")\n",
    "sig_z = op_spin.sig_z(\n",
    "    lattice  = lat,\n",
    "    sites    = sites\n",
    ")\n",
    "\n",
    "# create a set of states and test it\n",
    "int_state = np.random.randint(0, 2**lat.ns, dtype=np.int32)\n",
    "np_state  = np.ones((lat.ns), dtype = np.float64)\n",
    "jnp_state = jnp.ones((lat.ns), dtype = jnp.float64)\n",
    "\n",
    "int_state, np_state, jnp_state"
   ]
  },
  {
   "cell_type": "markdown",
   "metadata": {},
   "source": [
    "#### Integer states"
   ]
  },
  {
   "cell_type": "code",
   "execution_count": 3,
   "metadata": {},
   "outputs": [
    {
     "name": "stdout",
     "output_type": "stream",
     "text": [
      "Before: 11100010, acting on sites [0, 2]\n",
      "After X: 01000010\n",
      "After Z: 11100010\n"
     ]
    }
   ],
   "source": [
    "int_modified_x, _ = sig_x(int_state)\n",
    "int_modified_z, _ = sig_z(int_state)\n",
    "print(f\"Before: {bin_mod.int2binstr(int_state, lat.ns)}, acting on sites {sites}\")\n",
    "print(f\"After X: {bin_mod.int2binstr(int_modified_x[0], lat.ns)}\")\n",
    "print(f\"After Z: {bin_mod.int2binstr(int_modified_z[0], lat.ns)}\")"
   ]
  },
  {
   "cell_type": "markdown",
   "metadata": {},
   "source": [
    "#### Numpy"
   ]
  },
  {
   "cell_type": "code",
   "execution_count": 4,
   "metadata": {},
   "outputs": [
    {
     "name": "stdout",
     "output_type": "stream",
     "text": [
      "Before: [1. 1. 1. 1. 1. 1. 1. 1.], acting on sites [0, 2]\n",
      "After X: [-1.  1. -1.  1.  1.  1.  1.  1.]\n",
      "After Z: [1. 1. 1. 1. 1. 1. 1. 1.]\n"
     ]
    }
   ],
   "source": [
    "np_modified_x, _ = sig_x(np_state.copy())\n",
    "np_modified_z, _ = sig_z(np_state.copy())\n",
    "print(f\"Before: {np_state}, acting on sites {sites}\")\n",
    "print(f\"After X: {np_modified_x}\")\n",
    "print(f\"After Z: {np_modified_z}\")"
   ]
  },
  {
   "cell_type": "markdown",
   "metadata": {},
   "source": [
    "#### JNP"
   ]
  },
  {
   "cell_type": "code",
   "execution_count": 5,
   "metadata": {},
   "outputs": [
    {
     "name": "stdout",
     "output_type": "stream",
     "text": [
      "Before: [1. 1. 1. 1. 1. 1. 1. 1.], acting on sites [0, 2]\n",
      "After X: [-1.  1. -1.  1.  1.  1.  1.  1.]\n",
      "After Z: [1. 1. 1. 1. 1. 1. 1. 1.]\n"
     ]
    }
   ],
   "source": [
    "jnp_modified_x, _ = sig_x(jnp_state.copy())\n",
    "jnp_modified_z, _ = sig_z(jnp_state.copy())\n",
    "print(f\"Before: {jnp_state}, acting on sites {sites}\")\n",
    "print(f\"After X: {jnp_modified_x}\")\n",
    "print(f\"After Z: {jnp_modified_z}\")"
   ]
  },
  {
   "cell_type": "markdown",
   "metadata": {},
   "source": [
    "## Any Hamiltonian defined from the operators"
   ]
  },
  {
   "cell_type": "code",
   "execution_count": 1,
   "metadata": {},
   "outputs": [
    {
     "name": "stderr",
     "output_type": "stream",
     "text": [
      "WARNING:jax._src.lib.xla_bridge:No GPU/TPU found, falling back to CPU. (Set TF_CPP_MIN_LOG_LEVEL=0 and rerun for more info.)\n"
     ]
    },
    {
     "name": "stdout",
     "output_type": "stream",
     "text": [
      "=== Backend Initialization ===\n",
      "\tNumPy Version: 1.26.4\n",
      "\tSciPy Version: 1.13.1\n",
      "\tJAX Version: Not Available\n",
      "\t\tActive Backend: jax\n",
      "\t\tJAX Available: True\n",
      "\t\tDefault Random Key: [    0 12345]\n",
      "\tActive Backend Modules:\n",
      "\t\t\tMain Module: <module 'jax.numpy' from '/home/klimak/libraries/anaconda3/lib/python3.11/site-packages/jax/numpy/__init__.py'>\n",
      "\t\t\tRandom Module: <module 'jax.random' from '/home/klimak/libraries/anaconda3/lib/python3.11/site-packages/jax/random.py'>\n",
      "\t\t\tSciPy Module: <module 'jax.scipy' from '/home/klimak/libraries/anaconda3/lib/python3.11/site-packages/jax/scipy/__init__.py'>\n",
      "=== End of Backend Info ===\n"
     ]
    },
    {
     "data": {
      "text/plain": [
       "HON,LatticeBC.PBC,d=2,Ns=8,Lx=2,Ly=2,Lz=1"
      ]
     },
     "execution_count": 1,
     "metadata": {},
     "output_type": "execute_result"
    }
   ],
   "source": [
    "import numpy as np\n",
    "from Algebra import hamil\n",
    "from general_python.lattices.honeycomb import HoneycombLattice\n",
    "from general_python.lattices.lattice import LatticeBC\n",
    "import general_python.common.binary as bin_mod\n",
    "\n",
    "backend = 'np'\n",
    "lat     = HoneycombLattice( dim     = 2,\n",
    "                            lx      = 2,\n",
    "                            ly      = 2,\n",
    "                            lz      = 1,\n",
    "                            bc      = LatticeBC.PBC)\n",
    "ham     = hamil.Hamiltonian(\n",
    "    hilbert_space   = None,\n",
    "    is_sparse       = True,\n",
    "    dtype           = np.float64,\n",
    "    lattice         = lat,\n",
    "    backend         = backend,\n",
    ")\n",
    "lat"
   ]
  },
  {
   "cell_type": "code",
   "execution_count": 2,
   "metadata": {},
   "outputs": [
    {
     "data": {
      "text/plain": [
       "(226,\n",
       " array([1., 1., 1., 1., 1., 1., 1., 1.]),\n",
       " DeviceArray([1., 1., 1., 1., 1., 1., 1., 1.], dtype=float64))"
      ]
     },
     "execution_count": 2,
     "metadata": {},
     "output_type": "execute_result"
    }
   ],
   "source": [
    "import Algebra.Operator.operators_spin as op_spin\n",
    "import jax.numpy as jnp\n",
    "sites = [0, 2]\n",
    "sig_x = op_spin.sig_x(\n",
    "    lattice  = lat,\n",
    "    sites    = sites\n",
    ")\n",
    "\n",
    "sig_z = op_spin.sig_z(\n",
    "    lattice  = lat,\n",
    "    sites    = sites\n",
    ")\n",
    "\n",
    "# create a set of states and test it\n",
    "int_state = np.random.randint(0, 2**lat.ns, dtype=np.int32)\n",
    "np_state  = np.ones((lat.ns), dtype = np.float64)\n",
    "jnp_state = jnp.ones((lat.ns), dtype = jnp.float64)\n",
    "\n",
    "int_state, np_state, jnp_state"
   ]
  },
  {
   "cell_type": "code",
   "execution_count": 3,
   "metadata": {},
   "outputs": [],
   "source": [
    "# reset the Hamiltonian operators\n",
    "ham.reset_operators()\n",
    "\n",
    "# add operators to the Hamiltonian\n",
    "ham.add(\n",
    "    operator    = sig_x,\n",
    "    multiplier  = 1.0,\n",
    "    sites       = None,\n",
    "    is_local    = False\n",
    ")\n",
    "\n",
    "ham.add(\n",
    "    operator    = sig_z,\n",
    "    multiplier  = 0.5,\n",
    "    sites       = None,\n",
    "    is_local    = False\n",
    ")"
   ]
  },
  {
   "cell_type": "markdown",
   "metadata": {},
   "source": [
    "### Integer states"
   ]
  },
  {
   "cell_type": "code",
   "execution_count": 4,
   "metadata": {},
   "outputs": [
    {
     "data": {
      "text/plain": [
       "(array([66]), array([0.25]))"
      ]
     },
     "execution_count": 4,
     "metadata": {},
     "output_type": "execute_result"
    }
   ],
   "source": [
    "sig_x(int_state)"
   ]
  },
  {
   "cell_type": "code",
   "execution_count": 5,
   "metadata": {},
   "outputs": [
    {
     "data": {
      "text/plain": [
       "(array([226]), array([0.25]))"
      ]
     },
     "execution_count": 5,
     "metadata": {},
     "output_type": "execute_result"
    }
   ],
   "source": [
    "sig_z(int_state)"
   ]
  },
  {
   "cell_type": "code",
   "execution_count": 6,
   "metadata": {},
   "outputs": [
    {
     "data": {
      "text/plain": [
       "(array([ 66, 226]), array([0.25 , 0.125]))"
      ]
     },
     "execution_count": 6,
     "metadata": {},
     "output_type": "execute_result"
    }
   ],
   "source": [
    "ham.loc_energy(k = int_state, i = 0)"
   ]
  },
  {
   "cell_type": "markdown",
   "metadata": {},
   "source": [
    "### Numpy states"
   ]
  },
  {
   "cell_type": "code",
   "execution_count": 7,
   "metadata": {},
   "outputs": [
    {
     "data": {
      "text/plain": [
       "(array([-1.,  1., -1.,  1.,  1.,  1.,  1.,  1.]), 0.25)"
      ]
     },
     "execution_count": 7,
     "metadata": {},
     "output_type": "execute_result"
    }
   ],
   "source": [
    "sig_x(np_state.copy())"
   ]
  },
  {
   "cell_type": "code",
   "execution_count": 8,
   "metadata": {},
   "outputs": [
    {
     "data": {
      "text/plain": [
       "(array([1., 1., 1., 1., 1., 1., 1., 1.]), 0.25)"
      ]
     },
     "execution_count": 8,
     "metadata": {},
     "output_type": "execute_result"
    }
   ],
   "source": [
    "sig_z(np_state.copy())"
   ]
  },
  {
   "cell_type": "code",
   "execution_count": 9,
   "metadata": {},
   "outputs": [
    {
     "ename": "TypingError",
     "evalue": "Failed in nopython mode pipeline (step: nopython frontend)\n\u001b[1mUntyped global name 'nonlocal_func_unpacked':\u001b[0m \u001b[1mCannot type list element type <class 'function'>\n\u001b[1m\nFile \"Algebra/hamil_energy.py\", line 312:\u001b[0m\n\u001b[1m    def wrapper(state: np.ndarray) -> Tuple[np.ndarray, np.ndarray]:\n        <source elided>\n                state,\n\u001b[1m                nonlocal_func_unpacked[i],\n\u001b[0m                \u001b[1m^\u001b[0m\u001b[0m\n\u001b[0m",
     "output_type": "error",
     "traceback": [
      "\u001b[0;31m---------------------------------------------------------------------------\u001b[0m",
      "\u001b[0;31mTypingError\u001b[0m                               Traceback (most recent call last)",
      "Cell \u001b[0;32mIn[9], line 1\u001b[0m\n\u001b[0;32m----> 1\u001b[0m ham\u001b[38;5;241m.\u001b[39mloc_energy(k \u001b[38;5;241m=\u001b[39m np_state\u001b[38;5;241m.\u001b[39mcopy())\n",
      "File \u001b[0;32m~/Codes/QuantumEigenSolver/Python/QES/Algebra/hamil.py:1052\u001b[0m, in \u001b[0;36mHamiltonian.loc_energy\u001b[0;34m(self, k, i)\u001b[0m\n\u001b[1;32m   1050\u001b[0m     \u001b[38;5;28;01mreturn\u001b[39;00m rows, cols, data\n\u001b[1;32m   1051\u001b[0m \u001b[38;5;66;03m# otherwise, it is an array (no matter which backend)\u001b[39;00m\n\u001b[0;32m-> 1052\u001b[0m \u001b[38;5;28;01mreturn\u001b[39;00m \u001b[38;5;28mself\u001b[39m\u001b[38;5;241m.\u001b[39mloc_energy_arr(k)\n",
      "File \u001b[0;32m~/Codes/QuantumEigenSolver/Python/QES/Algebra/hamil.py:1026\u001b[0m, in \u001b[0;36mHamiltonian.loc_energy_arr\u001b[0;34m(self, k)\u001b[0m\n\u001b[1;32m   1024\u001b[0m \u001b[38;5;28;01mif\u001b[39;00m \u001b[38;5;28mself\u001b[39m\u001b[38;5;241m.\u001b[39m_loc_energy_np_fun \u001b[38;5;129;01mis\u001b[39;00m \u001b[38;5;28;01mNone\u001b[39;00m:\n\u001b[1;32m   1025\u001b[0m     \u001b[38;5;28mself\u001b[39m\u001b[38;5;241m.\u001b[39m_set_local_energy_functions()\n\u001b[0;32m-> 1026\u001b[0m \u001b[38;5;28;01mreturn\u001b[39;00m \u001b[38;5;28mself\u001b[39m\u001b[38;5;241m.\u001b[39mloc_energy_arr_np(k)\n",
      "File \u001b[0;32m~/Codes/QuantumEigenSolver/Python/QES/Algebra/hamil.py:1004\u001b[0m, in \u001b[0;36mHamiltonian.loc_energy_arr_np\u001b[0;34m(self, k)\u001b[0m\n\u001b[1;32m    995\u001b[0m \u001b[38;5;28;01mdef\u001b[39;00m \u001b[38;5;21mloc_energy_arr_np\u001b[39m(\u001b[38;5;28mself\u001b[39m, k : Union[np\u001b[38;5;241m.\u001b[39mndarray]):\n\u001b[1;32m    996\u001b[0m \u001b[38;5;250m    \u001b[39m\u001b[38;5;124;03m'''\u001b[39;00m\n\u001b[1;32m    997\u001b[0m \u001b[38;5;124;03m    Calculates the local energy based on the Hamiltonian. This method should be implemented by subclasses.\u001b[39;00m\n\u001b[1;32m    998\u001b[0m \u001b[38;5;124;03m    Uses an array as a state input.\u001b[39;00m\n\u001b[0;32m   (...)\u001b[0m\n\u001b[1;32m   1002\u001b[0m \u001b[38;5;124;03m            - values                    : The corresponding matrix element values.\u001b[39;00m\n\u001b[1;32m   1003\u001b[0m \u001b[38;5;124;03m    '''\u001b[39;00m\n\u001b[0;32m-> 1004\u001b[0m     \u001b[38;5;28;01mreturn\u001b[39;00m \u001b[38;5;28mself\u001b[39m\u001b[38;5;241m.\u001b[39m_loc_energy_np_fun(k)\n",
      "File \u001b[0;32m~/libraries/anaconda3/lib/python3.11/site-packages/numba/core/dispatcher.py:423\u001b[0m, in \u001b[0;36m_DispatcherBase._compile_for_args\u001b[0;34m(self, *args, **kws)\u001b[0m\n\u001b[1;32m    419\u001b[0m         msg \u001b[38;5;241m=\u001b[39m (\u001b[38;5;124mf\u001b[39m\u001b[38;5;124m\"\u001b[39m\u001b[38;5;132;01m{\u001b[39;00m\u001b[38;5;28mstr\u001b[39m(e)\u001b[38;5;241m.\u001b[39mrstrip()\u001b[38;5;132;01m}\u001b[39;00m\u001b[38;5;124m \u001b[39m\u001b[38;5;130;01m\\n\u001b[39;00m\u001b[38;5;130;01m\\n\u001b[39;00m\u001b[38;5;124mThis error may have been caused \u001b[39m\u001b[38;5;124m\"\u001b[39m\n\u001b[1;32m    420\u001b[0m                \u001b[38;5;124mf\u001b[39m\u001b[38;5;124m\"\u001b[39m\u001b[38;5;124mby the following argument(s):\u001b[39m\u001b[38;5;130;01m\\n\u001b[39;00m\u001b[38;5;132;01m{\u001b[39;00margs_str\u001b[38;5;132;01m}\u001b[39;00m\u001b[38;5;130;01m\\n\u001b[39;00m\u001b[38;5;124m\"\u001b[39m)\n\u001b[1;32m    421\u001b[0m         e\u001b[38;5;241m.\u001b[39mpatch_message(msg)\n\u001b[0;32m--> 423\u001b[0m     error_rewrite(e, \u001b[38;5;124m'\u001b[39m\u001b[38;5;124mtyping\u001b[39m\u001b[38;5;124m'\u001b[39m)\n\u001b[1;32m    424\u001b[0m \u001b[38;5;28;01mexcept\u001b[39;00m errors\u001b[38;5;241m.\u001b[39mUnsupportedError \u001b[38;5;28;01mas\u001b[39;00m e:\n\u001b[1;32m    425\u001b[0m     \u001b[38;5;66;03m# Something unsupported is present in the user code, add help info\u001b[39;00m\n\u001b[1;32m    426\u001b[0m     error_rewrite(e, \u001b[38;5;124m'\u001b[39m\u001b[38;5;124munsupported_error\u001b[39m\u001b[38;5;124m'\u001b[39m)\n",
      "File \u001b[0;32m~/libraries/anaconda3/lib/python3.11/site-packages/numba/core/dispatcher.py:364\u001b[0m, in \u001b[0;36m_DispatcherBase._compile_for_args.<locals>.error_rewrite\u001b[0;34m(e, issue_type)\u001b[0m\n\u001b[1;32m    362\u001b[0m     \u001b[38;5;28;01mraise\u001b[39;00m e\n\u001b[1;32m    363\u001b[0m \u001b[38;5;28;01melse\u001b[39;00m:\n\u001b[0;32m--> 364\u001b[0m     \u001b[38;5;28;01mraise\u001b[39;00m e\u001b[38;5;241m.\u001b[39mwith_traceback(\u001b[38;5;28;01mNone\u001b[39;00m)\n",
      "\u001b[0;31mTypingError\u001b[0m: Failed in nopython mode pipeline (step: nopython frontend)\n\u001b[1mUntyped global name 'nonlocal_func_unpacked':\u001b[0m \u001b[1mCannot type list element type <class 'function'>\n\u001b[1m\nFile \"Algebra/hamil_energy.py\", line 312:\u001b[0m\n\u001b[1m    def wrapper(state: np.ndarray) -> Tuple[np.ndarray, np.ndarray]:\n        <source elided>\n                state,\n\u001b[1m                nonlocal_func_unpacked[i],\n\u001b[0m                \u001b[1m^\u001b[0m\u001b[0m\n\u001b[0m"
     ]
    }
   ],
   "source": [
    "ham.loc_energy(k = np_state.copy())"
   ]
  },
  {
   "cell_type": "markdown",
   "metadata": {},
   "source": [
    "### JAX states"
   ]
  },
  {
   "cell_type": "code",
   "execution_count": 4,
   "metadata": {},
   "outputs": [
    {
     "data": {
      "text/plain": [
       "(DeviceArray([-1.,  1., -1.,  1.,  1.,  1.,  1.,  1.], dtype=float64),\n",
       " DeviceArray(0.25, dtype=float64, weak_type=True))"
      ]
     },
     "execution_count": 4,
     "metadata": {},
     "output_type": "execute_result"
    }
   ],
   "source": [
    "sig_x(jnp_state.copy())"
   ]
  },
  {
   "cell_type": "code",
   "execution_count": 5,
   "metadata": {},
   "outputs": [
    {
     "data": {
      "text/plain": [
       "(DeviceArray([1., 1., 1., 1., 1., 1., 1., 1.], dtype=float64),\n",
       " DeviceArray(0.25, dtype=float64, weak_type=True))"
      ]
     },
     "execution_count": 5,
     "metadata": {},
     "output_type": "execute_result"
    }
   ],
   "source": [
    "sig_z(jnp_state.copy())"
   ]
  },
  {
   "cell_type": "code",
   "execution_count": 6,
   "metadata": {},
   "outputs": [
    {
     "ename": "TracerIntegerConversionError",
     "evalue": "The __index__() method was called on the JAX Tracer object Traced<ShapedArray(int64[], weak_type=True)>with<DynamicJaxprTrace(level=1/1)>\nSee https://jax.readthedocs.io/en/latest/errors.html#jax.errors.TracerIntegerConversionError",
     "output_type": "error",
     "traceback": [
      "\u001b[0;31m---------------------------------------------------------------------------\u001b[0m",
      "\u001b[0;31mTracerIntegerConversionError\u001b[0m              Traceback (most recent call last)",
      "Cell \u001b[0;32mIn[6], line 1\u001b[0m\n\u001b[0;32m----> 1\u001b[0m ham\u001b[38;5;241m.\u001b[39mloc_energy(k \u001b[38;5;241m=\u001b[39m jnp_state\u001b[38;5;241m.\u001b[39mcopy())\n",
      "File \u001b[0;32m~/Codes/QuantumEigenSolver/Python/QES/Algebra/hamil.py:1052\u001b[0m, in \u001b[0;36mHamiltonian.loc_energy\u001b[0;34m(self, k, i)\u001b[0m\n\u001b[1;32m   1050\u001b[0m     \u001b[38;5;28;01mreturn\u001b[39;00m rows, cols, data\n\u001b[1;32m   1051\u001b[0m \u001b[38;5;66;03m# otherwise, it is an array (no matter which backend)\u001b[39;00m\n\u001b[0;32m-> 1052\u001b[0m \u001b[38;5;28;01mreturn\u001b[39;00m \u001b[38;5;28mself\u001b[39m\u001b[38;5;241m.\u001b[39mloc_energy_arr(k)\n",
      "File \u001b[0;32m~/Codes/QuantumEigenSolver/Python/QES/Algebra/hamil.py:1021\u001b[0m, in \u001b[0;36mHamiltonian.loc_energy_arr\u001b[0;34m(self, k)\u001b[0m\n\u001b[1;32m   1019\u001b[0m     \u001b[38;5;28;01mif\u001b[39;00m \u001b[38;5;28mself\u001b[39m\u001b[38;5;241m.\u001b[39m_loc_energy_jax_fun \u001b[38;5;129;01mis\u001b[39;00m \u001b[38;5;28;01mNone\u001b[39;00m:\n\u001b[1;32m   1020\u001b[0m         \u001b[38;5;28mself\u001b[39m\u001b[38;5;241m.\u001b[39m_set_local_energy_functions()\n\u001b[0;32m-> 1021\u001b[0m     \u001b[38;5;28;01mreturn\u001b[39;00m \u001b[38;5;28mself\u001b[39m\u001b[38;5;241m.\u001b[39mloc_energy_arr_jax(k)\n\u001b[1;32m   1023\u001b[0m \u001b[38;5;66;03m# go!\u001b[39;00m\n\u001b[1;32m   1024\u001b[0m \u001b[38;5;28;01mif\u001b[39;00m \u001b[38;5;28mself\u001b[39m\u001b[38;5;241m.\u001b[39m_loc_energy_np_fun \u001b[38;5;129;01mis\u001b[39;00m \u001b[38;5;28;01mNone\u001b[39;00m:\n",
      "File \u001b[0;32m~/Codes/QuantumEigenSolver/Python/QES/Algebra/hamil.py:993\u001b[0m, in \u001b[0;36mHamiltonian.loc_energy_arr_jax\u001b[0;34m(self, k)\u001b[0m\n\u001b[1;32m    984\u001b[0m \u001b[38;5;28;01mdef\u001b[39;00m \u001b[38;5;21mloc_energy_arr_jax\u001b[39m(\u001b[38;5;28mself\u001b[39m, k : Union[\u001b[38;5;28mint\u001b[39m, np\u001b[38;5;241m.\u001b[39mndarray]):\n\u001b[1;32m    985\u001b[0m \u001b[38;5;250m    \u001b[39m\u001b[38;5;124;03m'''\u001b[39;00m\n\u001b[1;32m    986\u001b[0m \u001b[38;5;124;03m    Calculates the local energy based on the Hamiltonian. This method should be implemented by subclasses.\u001b[39;00m\n\u001b[1;32m    987\u001b[0m \u001b[38;5;124;03m    Uses an array as a state input.\u001b[39;00m\n\u001b[0;32m   (...)\u001b[0m\n\u001b[1;32m    991\u001b[0m \u001b[38;5;124;03m            - values                    : The corresponding matrix element values.\u001b[39;00m\n\u001b[1;32m    992\u001b[0m \u001b[38;5;124;03m    '''\u001b[39;00m\n\u001b[0;32m--> 993\u001b[0m     \u001b[38;5;28;01mreturn\u001b[39;00m \u001b[38;5;28mself\u001b[39m\u001b[38;5;241m.\u001b[39m_loc_energy_jax_fun(k)\n",
      "    \u001b[0;31m[... skipping hidden 11 frame]\u001b[0m\n",
      "File \u001b[0;32m~/Codes/QuantumEigenSolver/Python/QES/Algebra/hamil_energy_jax.py:178\u001b[0m, in \u001b[0;36mlocal_energy_jax_wrap.<locals>.init_wrapper.<locals>.wrapper\u001b[0;34m(state)\u001b[0m\n\u001b[1;32m    176\u001b[0m     all_energies_acc    \u001b[38;5;241m=\u001b[39m jax\u001b[38;5;241m.\u001b[39mlax\u001b[38;5;241m.\u001b[39mdynamic_update_slice(all_energies_acc, site_energies, (start,))\n\u001b[1;32m    177\u001b[0m     \u001b[38;5;28;01mreturn\u001b[39;00m (all_states_acc, all_energies_acc)\n\u001b[0;32m--> 178\u001b[0m all_states, all_energies \u001b[38;5;241m=\u001b[39m jax\u001b[38;5;241m.\u001b[39mlax\u001b[38;5;241m.\u001b[39mfori_loop(\u001b[38;5;241m0\u001b[39m, ns, body_fun, (all_states, all_energies))\n\u001b[1;32m    179\u001b[0m \u001b[38;5;28;01mreturn\u001b[39;00m all_states, all_energies\n",
      "    \u001b[0;31m[... skipping hidden 12 frame]\u001b[0m\n",
      "File \u001b[0;32m~/Codes/QuantumEigenSolver/Python/QES/Algebra/hamil_energy_jax.py:166\u001b[0m, in \u001b[0;36mlocal_energy_jax_wrap.<locals>.init_wrapper.<locals>.wrapper.<locals>.body_fun\u001b[0;34m(i, carry)\u001b[0m\n\u001b[1;32m    162\u001b[0m \u001b[38;5;28;01mdef\u001b[39;00m \u001b[38;5;21mbody_fun\u001b[39m(i, carry):\n\u001b[1;32m    163\u001b[0m     all_states_acc, all_energies_acc \u001b[38;5;241m=\u001b[39m carry\n\u001b[1;32m    164\u001b[0m     site_states, site_energies \u001b[38;5;241m=\u001b[39m local_energy_arr_jax(\n\u001b[1;32m    165\u001b[0m         state,\n\u001b[0;32m--> 166\u001b[0m         nonloc_funcs_unpacked[i],\n\u001b[1;32m    167\u001b[0m         nonloc_sites_unpacked[i],\n\u001b[1;32m    168\u001b[0m         nonloc_mult_unpacked[i],\n\u001b[1;32m    169\u001b[0m         local_funcs_unpacked[i],\n\u001b[1;32m    170\u001b[0m         local_sites_unpacked[i],\n\u001b[1;32m    171\u001b[0m         local_mult_unpacked[i]\n\u001b[1;32m    172\u001b[0m     )\n\u001b[1;32m    174\u001b[0m     start               \u001b[38;5;241m=\u001b[39m i \u001b[38;5;241m*\u001b[39m rows_per_site\n\u001b[1;32m    175\u001b[0m     all_states_acc      \u001b[38;5;241m=\u001b[39m jax\u001b[38;5;241m.\u001b[39mlax\u001b[38;5;241m.\u001b[39mdynamic_update_slice(all_states_acc, site_states, (start, \u001b[38;5;241m0\u001b[39m))\n",
      "File \u001b[0;32m~/libraries/anaconda3/lib/python3.11/site-packages/jax/core.py:548\u001b[0m, in \u001b[0;36mTracer.__index__\u001b[0;34m(self)\u001b[0m\n\u001b[1;32m    547\u001b[0m \u001b[38;5;28;01mdef\u001b[39;00m \u001b[38;5;21m__index__\u001b[39m(\u001b[38;5;28mself\u001b[39m):\n\u001b[0;32m--> 548\u001b[0m   \u001b[38;5;28;01mraise\u001b[39;00m TracerIntegerConversionError(\u001b[38;5;28mself\u001b[39m)\n",
      "\u001b[0;31mTracerIntegerConversionError\u001b[0m: The __index__() method was called on the JAX Tracer object Traced<ShapedArray(int64[], weak_type=True)>with<DynamicJaxprTrace(level=1/1)>\nSee https://jax.readthedocs.io/en/latest/errors.html#jax.errors.TracerIntegerConversionError"
     ]
    }
   ],
   "source": [
    "ham.loc_energy(k = jnp_state.copy())"
   ]
  },
  {
   "cell_type": "markdown",
   "metadata": {},
   "source": [
    "## Heisenberg - Kitaev model"
   ]
  },
  {
   "cell_type": "code",
   "execution_count": 21,
   "metadata": {},
   "outputs": [
    {
     "data": {
      "text/plain": [
       "HON,LatticeBC.PBC,d=2,Ns=8,Lx=2,Ly=2,Lz=1"
      ]
     },
     "execution_count": 21,
     "metadata": {},
     "output_type": "execute_result"
    }
   ],
   "source": [
    "from Algebra.Model.Interacting.Spin.heisenberg_kitaev import HeisenbergKitaev, HEI_KIT_Z_BOND_NEI, HEI_KIT_X_BOND_NEI, HEI_KIT_Y_BOND_NEI\n",
    "from general_python.lattices.honeycomb import HoneycombLattice\n",
    "from general_python.lattices.lattice import LatticeBC\n",
    "\n",
    "backend = 'np'\n",
    "lat     = HoneycombLattice( dim     = 2,\n",
    "                            lx      = 2,\n",
    "                            ly      = 2,\n",
    "                            lz      = 1,\n",
    "                            bc      = LatticeBC.PBC)\n",
    "lat"
   ]
  },
  {
   "cell_type": "markdown",
   "metadata": {},
   "source": [
    "#### Printout the neighbors"
   ]
  },
  {
   "cell_type": "code",
   "execution_count": 14,
   "metadata": {},
   "outputs": [],
   "source": [
    "# for i in range(lat.ns):\n",
    "#     print(f\"site {i}:\")\n",
    "#     n_nei = lat.get_nn_forward_num(i)\n",
    "#     print(f\"\\tn_nei:{n_nei}\")\n",
    "    \n",
    "#     for j in range(n_nei):\n",
    "#         nei = lat.get_nn_forward(i, j)\n",
    "#         print(f\"\\t\\tnei {j}:\\t{nei}\", end='')\n",
    "#         if j == HEI_KIT_Z_BOND_NEI:\n",
    "#             print(f\"\\t\\t\\tbond Z\")\n",
    "#         elif j == HEI_KIT_Y_BOND_NEI:\n",
    "#             print(f\"\\t\\t\\tbond Y\")\n",
    "#         elif j == HEI_KIT_X_BOND_NEI:\n",
    "#             print(f\"\\t\\t\\tbond X\")"
   ]
  },
  {
   "cell_type": "markdown",
   "metadata": {},
   "source": [
    "#### GO!"
   ]
  },
  {
   "cell_type": "code",
   "execution_count": 22,
   "metadata": {},
   "outputs": [],
   "source": [
    "hx      = 0.5\n",
    "hz      = -0.3\n",
    "j       = 1.0\n",
    "kx      = 1.0\n",
    "ky      = 1.0\n",
    "kz      = 1.0\n",
    "dlt     = 1.0\n",
    "\n",
    "hamil   = HeisenbergKitaev(lattice      = lat, \n",
    "                        hilbert_space   = None, \n",
    "                        hx              = hx,\n",
    "                        hz              = hz,\n",
    "                        kx              = kx,\n",
    "                        ky              = ky,\n",
    "                        kz              = kz,\n",
    "                        j               = j,\n",
    "                        dlt             = dlt, \n",
    "                        dtype           = float,\n",
    "                        backend         = backend)"
   ]
  },
  {
   "cell_type": "code",
   "execution_count": 23,
   "metadata": {},
   "outputs": [
    {
     "name": "stdout",
     "output_type": "stream",
     "text": [
      "Memory:6.104e-05gb\n"
     ]
    }
   ],
   "source": [
    "hamil.build(verbose=True, use_numpy=True)\n",
    "print(f\"Memory:{hamil.memory_gb:.3e}gb\")"
   ]
  },
  {
   "cell_type": "code",
   "execution_count": 24,
   "metadata": {},
   "outputs": [],
   "source": [
    "hamil.diagonalize(verbose=True)"
   ]
  },
  {
   "cell_type": "code",
   "execution_count": 25,
   "metadata": {},
   "outputs": [
    {
     "data": {
      "text/plain": [
       "(array([-6.44211693e+00, -5.92610809e+00, -5.34411037e+00, -4.76205750e+00,\n",
       "        -4.45309041e+00, -4.39228435e+00, -4.26935329e+00, -4.19720199e+00,\n",
       "        -4.14771635e+00, -4.13904170e+00, -4.02741320e+00, -3.95159616e+00,\n",
       "        -3.88109805e+00, -3.70049653e+00, -3.60505299e+00, -3.48265996e+00,\n",
       "        -3.47705959e+00, -3.46626615e+00, -3.27091704e+00, -3.25497709e+00,\n",
       "        -3.13839839e+00, -3.12171530e+00, -3.11695191e+00, -3.11080783e+00,\n",
       "        -3.08889167e+00, -3.06699614e+00, -3.06577808e+00, -2.85840130e+00,\n",
       "        -2.78537589e+00, -2.78094245e+00, -2.77333462e+00, -2.72018788e+00,\n",
       "        -2.66808075e+00, -2.66798999e+00, -2.60994032e+00, -2.60128268e+00,\n",
       "        -2.58409053e+00, -2.54121064e+00, -2.50833066e+00, -2.49994427e+00,\n",
       "        -2.40397998e+00, -2.37248032e+00, -2.35561307e+00, -2.34097147e+00,\n",
       "        -2.32876190e+00, -2.24981481e+00, -2.21285296e+00, -2.13647581e+00,\n",
       "        -2.10929097e+00, -2.03923428e+00, -1.99407335e+00, -1.96276039e+00,\n",
       "        -1.92321627e+00, -1.91773516e+00, -1.86698716e+00, -1.84266016e+00,\n",
       "        -1.74872889e+00, -1.71105867e+00, -1.70102745e+00, -1.69870070e+00,\n",
       "        -1.61873851e+00, -1.61803544e+00, -1.54435126e+00, -1.47803402e+00,\n",
       "        -1.46985846e+00, -1.45339765e+00, -1.43997356e+00, -1.42069731e+00,\n",
       "        -1.41764285e+00, -1.40451484e+00, -1.35465788e+00, -1.35095266e+00,\n",
       "        -1.32738983e+00, -1.26857280e+00, -1.22642344e+00, -1.17965235e+00,\n",
       "        -1.17879133e+00, -1.17600420e+00, -1.13103750e+00, -1.09241822e+00,\n",
       "        -1.08451460e+00, -1.07466490e+00, -1.06169414e+00, -1.04297948e+00,\n",
       "        -1.02244146e+00, -1.02195352e+00, -9.50681662e-01, -9.10271851e-01,\n",
       "        -8.97940061e-01, -8.81094670e-01, -8.38494147e-01, -8.18963511e-01,\n",
       "        -8.11977592e-01, -7.46114167e-01, -7.15742482e-01, -6.95848142e-01,\n",
       "        -6.60143544e-01, -6.36088215e-01, -6.03789964e-01, -5.97684108e-01,\n",
       "        -5.72254590e-01, -5.64010892e-01, -5.20989236e-01, -5.13561400e-01,\n",
       "        -4.91972650e-01, -4.81129706e-01, -4.76885325e-01, -3.79205972e-01,\n",
       "        -3.71434216e-01, -3.53638222e-01, -3.33384121e-01, -3.23763092e-01,\n",
       "        -3.21265506e-01, -3.17655028e-01, -2.96668547e-01, -2.63674718e-01,\n",
       "        -2.55299106e-01, -2.53270239e-01, -1.82639996e-01, -1.33143069e-01,\n",
       "        -1.25321776e-01, -9.62620248e-02, -8.23061839e-02, -6.05997820e-02,\n",
       "        -2.58509759e-02, -1.77635684e-15,  8.07094104e-03,  2.37598313e-02,\n",
       "         2.86747497e-02,  5.29504495e-02,  6.24150957e-02,  9.98488237e-02,\n",
       "         1.13468670e-01,  1.19539514e-01,  1.22566384e-01,  1.32572403e-01,\n",
       "         1.78224629e-01,  1.93002532e-01,  2.08906689e-01,  2.15016748e-01,\n",
       "         2.47066018e-01,  2.81887367e-01,  3.00671503e-01,  3.13844912e-01,\n",
       "         3.61426187e-01,  3.82144957e-01,  3.93834106e-01,  3.98070419e-01,\n",
       "         4.73937408e-01,  5.02285061e-01,  5.20446578e-01,  5.27507731e-01,\n",
       "         5.43186410e-01,  5.45696428e-01,  5.59479883e-01,  5.95130931e-01,\n",
       "         6.07518026e-01,  6.58543579e-01,  6.62179586e-01,  6.76107968e-01,\n",
       "         7.50400244e-01,  8.31944329e-01,  8.33988498e-01,  8.34186877e-01,\n",
       "         8.37963330e-01,  8.78677690e-01,  9.36698838e-01,  9.67022880e-01,\n",
       "         9.84094106e-01,  9.89733825e-01,  1.00525140e+00,  1.01438117e+00,\n",
       "         1.03838730e+00,  1.06712919e+00,  1.07604588e+00,  1.10572761e+00,\n",
       "         1.20477100e+00,  1.22355452e+00,  1.24047102e+00,  1.26007187e+00,\n",
       "         1.29763151e+00,  1.31682626e+00,  1.38600313e+00,  1.39732341e+00,\n",
       "         1.40735883e+00,  1.44457041e+00,  1.45702627e+00,  1.48026729e+00,\n",
       "         1.48632664e+00,  1.52193723e+00,  1.55484857e+00,  1.55904060e+00,\n",
       "         1.60317202e+00,  1.62839674e+00,  1.68488943e+00,  1.69902061e+00,\n",
       "         1.71716176e+00,  1.72574091e+00,  1.75422951e+00,  1.83536548e+00,\n",
       "         1.88419345e+00,  1.89696498e+00,  1.94273974e+00,  1.94916012e+00,\n",
       "         1.98252122e+00,  2.01910294e+00,  2.03153677e+00,  2.05415517e+00,\n",
       "         2.07247400e+00,  2.08813305e+00,  2.09561844e+00,  2.13863304e+00,\n",
       "         2.21815679e+00,  2.22092068e+00,  2.30972251e+00,  2.31399631e+00,\n",
       "         2.40170830e+00,  2.40599208e+00,  2.43455355e+00,  2.47463801e+00,\n",
       "         2.50695930e+00,  2.54048414e+00,  2.54081268e+00,  2.58501062e+00,\n",
       "         2.59158736e+00,  2.61947089e+00,  2.75067615e+00,  2.77869815e+00,\n",
       "         2.77962804e+00,  2.85373334e+00,  2.87762518e+00,  2.88418475e+00,\n",
       "         2.90098056e+00,  2.96461449e+00,  3.08758622e+00,  3.13119612e+00,\n",
       "         3.30401389e+00,  3.33985074e+00,  3.37363620e+00,  3.41610261e+00,\n",
       "         3.42045643e+00,  3.52144762e+00,  3.57102688e+00,  3.60537341e+00,\n",
       "         3.91080254e+00,  3.99127198e+00,  4.02005292e+00,  4.07954980e+00,\n",
       "         4.17180814e+00,  4.52758784e+00,  4.59658302e+00,  4.74171470e+00,\n",
       "         4.76761532e+00,  5.29320418e+00,  5.86808500e+00,  6.44013243e+00]),\n",
       " array([[-7.12659514e-04,  0.00000000e+00,  0.00000000e+00, ...,\n",
       "          5.27130686e-01, -5.39853693e-01, -3.23263394e-01],\n",
       "        [ 3.26828529e-05,  3.70821016e-04,  3.67761971e-04, ...,\n",
       "         -1.85271845e-02, -1.44817377e-01, -1.78269915e-01],\n",
       "        [ 3.26828529e-05, -3.70821016e-04, -3.67761971e-04, ...,\n",
       "         -1.85271845e-02, -1.44817377e-01, -1.78269915e-01],\n",
       "        ...,\n",
       "        [ 5.74993392e-05,  1.91346832e-04, -5.83833604e-04, ...,\n",
       "          6.25264717e-02,  2.38115410e-02, -8.37644055e-03],\n",
       "        [ 5.74993392e-05, -1.91346832e-04,  5.83833604e-04, ...,\n",
       "          6.25264717e-02,  2.38115410e-02, -8.37644055e-03],\n",
       "        [-1.11655667e-03,  3.51281504e-17, -1.56613004e-16, ...,\n",
       "          5.53724605e-02,  1.66484709e-02, -5.83597861e-03]]),\n",
       " (256, 256))"
      ]
     },
     "execution_count": 25,
     "metadata": {},
     "output_type": "execute_result"
    },
    {
     "data": {
      "image/png": "[encoded data removed]",
      "text/plain": [
       "<Figure size 350x262.5 with 1 Axes>"
      ]
     },
     "metadata": {},
     "output_type": "display_data"
    }
   ],
   "source": [
    "import matplotlib.pyplot as plt\n",
    "plt.plot(hamil.eig_val)\n",
    "hamil.eig_val, hamil.eig_vec, hamil.eig_vec.shape"
   ]
  },
  {
   "cell_type": "code",
   "execution_count": 26,
   "metadata": {},
   "outputs": [
    {
     "name": "stdout",
     "output_type": "stream",
     "text": [
      "Minimum value: -4.0\n",
      "Maximum value: 5.2\n"
     ]
    },
    {
     "data": {
      "image/png": "[encoded data removed]",
      "text/plain": [
       "<Figure size 500x500 with 2 Axes>"
      ]
     },
     "metadata": {},
     "output_type": "display_data"
    },
    {
     "data": {
      "text/plain": [
       "<256x256 sparse matrix of type '<class 'numpy.float64'>'\n",
       "\twith 5376 stored elements in Compressed Sparse Row format>"
      ]
     },
     "execution_count": 26,
     "metadata": {},
     "output_type": "execute_result"
    }
   ],
   "source": [
    "import numpy as np\n",
    "# make dense\n",
    "qsm_dense   = hamil.hamil.todense() if hamil.sparse else hamil.hamil\n",
    "minimum     = qsm_dense.min()\n",
    "maximum     = qsm_dense.max()\n",
    "qsm_dense   = np.abs(qsm_dense) / np.abs(qsm_dense).max()\n",
    "\n",
    "print(\"Minimum value:\", minimum)\n",
    "print(\"Maximum value:\", maximum)\n",
    "\n",
    "plt.figure(figsize=(5, 5))\n",
    "plt.imshow(qsm_dense, cmap='viridis')\n",
    "plt.colorbar()\n",
    "plt.title(\"Density Representation\")\n",
    "plt.show()\n",
    "hamil.hamil"
   ]
  },
  {
   "cell_type": "markdown",
   "metadata": {},
   "source": [
    "## Quantum Sun Model"
   ]
  },
  {
   "cell_type": "code",
   "execution_count": 42,
   "metadata": {},
   "outputs": [
    {
     "name": "stderr",
     "output_type": "stream",
     "text": [
      "24_03_2025_01-08_38 [INFO] \t->\u001b[0m[Quantum Sun Model] alpha = [0.640, 0.640, 0.640, 0.640, 0.640, 0.640]\u001b[0m\n",
      "24_03_2025_01-08_38 [INFO] \t\t->\u001b[0m[Quantum Sun Model] u = [0.000, 0.881, 2.004, 3.148, 4.152, 5.032]\u001b[0m\n",
      "24_03_2025_01-08_38 [INFO] \t\t->\u001b[0m[Quantum Sun Model] alpha^u = [1.000, 0.675, 0.409, 0.245, 0.157, 0.106]\u001b[0m\n"
     ]
    },
    {
     "data": {
      "text/plain": [
       "array([1.44338755, 1.18358939, 1.45817973, 0.82950977, 0.69225829,\n",
       "       0.63678877])"
      ]
     },
     "execution_count": 42,
     "metadata": {},
     "output_type": "execute_result"
    }
   ],
   "source": [
    "from Algebra.Model.Interacting.Spin.qsm import QSM\n",
    "backend = 'np'\n",
    "hamil   = QSM(ns=9, hilbert_space=None, n=3, a=0.64, h=1.0, xi=0.2, backend=backend, dtype='float64')\n",
    "hamil.h"
   ]
  },
  {
   "cell_type": "markdown",
   "metadata": {},
   "source": [
    "#### Build"
   ]
  },
  {
   "cell_type": "markdown",
   "metadata": {},
   "source": [
    "##### Sparse"
   ]
  },
  {
   "cell_type": "code",
   "execution_count": 43,
   "metadata": {},
   "outputs": [
    {
     "name": "stderr",
     "output_type": "stream",
     "text": [
      "24_03_2025_01-08_39 [INFO] \t->\u001b[0m[Quantum Sun Model] Building the Hamiltonian matrix...\u001b[0m\n",
      "24_03_2025_01-08_39 [INFO] \t\t->\u001b[0m[Quantum Sun Model] Initialization completed in 0.000492 seconds\u001b[0m\n",
      "24_03_2025_01-08_39 [INFO] \t->\u001b[0m[Quantum Sun Model] Hamiltonian matrix built in 0.069415 seconds.\u001b[0m\n",
      "24_03_2025_01-08_39 [INFO] \t->\u001b[0m[Quantum Sun Model] Checking the memory used by the Hamiltonian matrix of type <class 'scipy.sparse._csr.csr_matrix'>\u001b[0m\n",
      "24_03_2025_01-08_39 [INFO] \t\t->\u001b[0m[Quantum Sun Model] It is not a dense matrix...\u001b[0m\n"
     ]
    },
    {
     "name": "stdout",
     "output_type": "stream",
     "text": [
      "Memory:8.202e-05gb\n"
     ]
    }
   ],
   "source": [
    "hamil.build(verbose=True, use_numpy=True)\n",
    "print(f\"Memory:{hamil.memory_gb:.3e}gb\")"
   ]
  },
  {
   "cell_type": "code",
   "execution_count": 44,
   "metadata": {},
   "outputs": [],
   "source": [
    "# print(hamil.hamil)"
   ]
  },
  {
   "cell_type": "code",
   "execution_count": 45,
   "metadata": {},
   "outputs": [
    {
     "name": "stderr",
     "output_type": "stream",
     "text": [
      "24_03_2025_01-08_40 [INFO] \u001b[0m[Quantum Sun Model] Diagonalization (standard) completed in 0.116838 seconds.\u001b[0m\n"
     ]
    }
   ],
   "source": [
    "hamil.diagonalize(verbose=True)"
   ]
  },
  {
   "cell_type": "code",
   "execution_count": 46,
   "metadata": {},
   "outputs": [
    {
     "data": {
      "text/plain": [
       "array([3.37383618, 3.42914556, 3.47720875, 3.75560339, 4.0732809 ])"
      ]
     },
     "execution_count": 46,
     "metadata": {},
     "output_type": "execute_result"
    }
   ],
   "source": [
    "hamil.eig_val[-5:]"
   ]
  },
  {
   "cell_type": "code",
   "execution_count": null,
   "metadata": {},
   "outputs": [
    {
     "data": {
      "text/plain": [
       "0.4454062387911004"
      ]
     },
     "execution_count": 47,
     "metadata": {},
     "output_type": "execute_result"
    }
   ],
   "source": [
    "from general_python.physics.eigenlevels import gap_ratio\n",
    "gap_ratio(hamil.eig_val, 1.0)['mean']"
   ]
  },
  {
   "cell_type": "code",
   "execution_count": 50,
   "metadata": {},
   "outputs": [
    {
     "data": {
      "text/plain": [
       "33.09106686829895"
      ]
     },
     "execution_count": 50,
     "metadata": {},
     "output_type": "execute_result"
    }
   ],
   "source": [
    "np.sqrt(np.trace((hamil.hamil * hamil.hamil).todense()))"
   ]
  },
  {
   "cell_type": "markdown",
   "metadata": {},
   "source": [
    "##### Dense"
   ]
  },
  {
   "cell_type": "code",
   "execution_count": 6,
   "metadata": {},
   "outputs": [
    {
     "name": "stderr",
     "output_type": "stream",
     "text": [
      "23_03_2025_22-34_45 [INFO] \t->\u001b[0m[Quantum Sun Model] Converting the Hamiltonian matrix to a dense matrix... Run build...\u001b[0m\n",
      "23_03_2025_22-34_45 [INFO] \t\t->\u001b[34m[Quantum Sun Model] Hamiltonian cleared...\u001b[0m\n"
     ]
    }
   ],
   "source": [
    "hamil.to_dense()"
   ]
  },
  {
   "cell_type": "code",
   "execution_count": 12,
   "metadata": {},
   "outputs": [
    {
     "name": "stderr",
     "output_type": "stream",
     "text": [
      "23_03_2025_21-56_00 [INFO] \t->\u001b[0m[Quantum Sun Model] Building the Hamiltonian matrix...\u001b[0m\n",
      "23_03_2025_21-56_00 [INFO] \t\t->\u001b[0m[Quantum Sun Model] Initialization completed in 0.000401 seconds\u001b[0m\n",
      "23_03_2025_21-56_01 [INFO] \t->\u001b[0m[Quantum Sun Model] Hamiltonian matrix built in 0.064316 seconds.\u001b[0m\n"
     ]
    }
   ],
   "source": [
    "hamil.build(verbose=True, use_numpy=True)"
   ]
  },
  {
   "cell_type": "code",
   "execution_count": 13,
   "metadata": {},
   "outputs": [
    {
     "name": "stderr",
     "output_type": "stream",
     "text": [
      "23_03_2025_21-56_01 [INFO] \u001b[0m[Quantum Sun Model] Diagonalization (standard) completed in 0.091391 seconds.\u001b[0m\n"
     ]
    }
   ],
   "source": [
    "hamil.diagonalize(verbose=True)"
   ]
  },
  {
   "cell_type": "code",
   "execution_count": 14,
   "metadata": {},
   "outputs": [
    {
     "name": "stderr",
     "output_type": "stream",
     "text": [
      "23_03_2025_21-56_02 [INFO] \t->\u001b[0m[Quantum Sun Model] Checking the memory used by the Hamiltonian matrix of type <class 'numpy.matrix'>\u001b[0m\n"
     ]
    },
    {
     "data": {
      "text/plain": [
       "0.001953125"
      ]
     },
     "execution_count": 14,
     "metadata": {},
     "output_type": "execute_result"
    }
   ],
   "source": [
    "hamil.h_memory_gb"
   ]
  },
  {
   "cell_type": "markdown",
   "metadata": {},
   "source": [
    "##### Plot tests"
   ]
  },
  {
   "cell_type": "code",
   "execution_count": 15,
   "metadata": {},
   "outputs": [
    {
     "data": {
      "text/plain": [
       "(array([-1.26340486, -1.2614324 , -1.21283114, -1.19720721, -1.17284135,\n",
       "        -1.16790317, -1.11265135, -1.09760706, -1.08253588, -1.07783417,\n",
       "        -1.05655795, -1.04787874, -1.03130445, -1.0278334 , -1.01783492,\n",
       "        -1.01491076, -1.00082515, -0.99775758, -0.98656423, -0.98596698,\n",
       "        -0.98040243, -0.96539039, -0.96206486, -0.95962459, -0.95725763,\n",
       "        -0.95411274, -0.95300011, -0.94876289, -0.94482553, -0.94003676,\n",
       "        -0.93616324, -0.93310986, -0.92612778, -0.92295966, -0.91299759,\n",
       "        -0.90318615, -0.90195985, -0.89450798, -0.88297818, -0.878694  ,\n",
       "        -0.87683799, -0.87346876, -0.87288868, -0.87165284, -0.86336603,\n",
       "        -0.86084806, -0.85756398, -0.8570426 , -0.85668056, -0.85526978,\n",
       "        -0.84311162, -0.83439275, -0.83345566, -0.83179886, -0.81943888,\n",
       "        -0.81787882, -0.81772423, -0.81392277, -0.81313564, -0.80869593,\n",
       "        -0.80857798, -0.80500311, -0.80143354, -0.7951546 , -0.79026772,\n",
       "        -0.78238918, -0.77738747, -0.77661701, -0.77139895, -0.77074343,\n",
       "        -0.77040157, -0.75335433, -0.74360832, -0.73627783, -0.73474904,\n",
       "        -0.73333567, -0.73067732, -0.72904767, -0.72673609, -0.7236103 ,\n",
       "        -0.71976671, -0.71753879, -0.71409365, -0.70209903, -0.69635076,\n",
       "        -0.68768486, -0.68525802, -0.68519807, -0.68351177, -0.68029003,\n",
       "        -0.67177488, -0.66314015, -0.66086849, -0.66006932, -0.65889376,\n",
       "        -0.65621284, -0.65438114, -0.6417843 , -0.62594853, -0.62263085,\n",
       "        -0.61747906, -0.60508924, -0.60507246, -0.59835222, -0.57465161,\n",
       "        -0.57229193, -0.56819423, -0.56120332, -0.55282629, -0.5483236 ,\n",
       "        -0.54346669, -0.54016496, -0.53916032, -0.53637378, -0.53356454,\n",
       "        -0.53264476, -0.5318918 , -0.52897815, -0.52434028, -0.52048979,\n",
       "        -0.52026611, -0.51475561, -0.51284726, -0.51266851, -0.50574643,\n",
       "        -0.50566959, -0.50236465, -0.50181658, -0.50113961, -0.50083518,\n",
       "        -0.49951202, -0.49929038, -0.49614921, -0.49380595, -0.49154046,\n",
       "        -0.48276457, -0.4817325 , -0.47280053, -0.47013878, -0.46941311,\n",
       "        -0.46829026, -0.46338652, -0.46163207, -0.46147297, -0.45982781,\n",
       "        -0.45671061, -0.45500227, -0.45351711, -0.44798512, -0.44625313,\n",
       "        -0.44549576, -0.44441854, -0.42895806, -0.42848206, -0.42757609,\n",
       "        -0.4265908 , -0.4245841 , -0.42319186, -0.42145253, -0.41151481,\n",
       "        -0.40971988, -0.4060448 , -0.39911529, -0.3980215 , -0.39035176,\n",
       "        -0.39030578, -0.38584066, -0.38523573, -0.38301813, -0.37902892,\n",
       "        -0.37155613, -0.36444898, -0.36209816, -0.35621103, -0.3529396 ,\n",
       "        -0.35171917, -0.34680571, -0.34414247, -0.34177051, -0.33599608,\n",
       "        -0.33582003, -0.33548784, -0.33363054, -0.33230269, -0.32460023,\n",
       "        -0.31853941, -0.31820531, -0.31432534, -0.31246924, -0.30818321,\n",
       "        -0.30225251, -0.298758  , -0.29232492, -0.28634476, -0.2861425 ,\n",
       "        -0.28311599, -0.28301299, -0.28136993, -0.2804588 , -0.27113553,\n",
       "        -0.26963499, -0.26736058, -0.26363147, -0.25623888, -0.25053318,\n",
       "        -0.24693157, -0.24141561, -0.24011038, -0.22803091, -0.22749678,\n",
       "        -0.21956064, -0.21809121, -0.214052  , -0.19875416, -0.19213957,\n",
       "        -0.18845932, -0.1879667 , -0.18564447, -0.18261531, -0.18072376,\n",
       "        -0.17400226, -0.16618137, -0.16461566, -0.16098897, -0.15410495,\n",
       "        -0.15259489, -0.13958989, -0.13456626, -0.12868738, -0.1282318 ,\n",
       "        -0.12629466, -0.12597041, -0.1239463 , -0.12303309, -0.11712535,\n",
       "        -0.10730672, -0.0905762 , -0.08490799, -0.08244083, -0.08191852,\n",
       "        -0.07262116, -0.0661497 , -0.06378139, -0.06113273, -0.06025166,\n",
       "        -0.06020545, -0.06013459, -0.05695426, -0.05678895, -0.05218885,\n",
       "        -0.04838483, -0.04201023, -0.03850396, -0.03768156, -0.03269736,\n",
       "        -0.02498555, -0.01295819, -0.00828965,  0.01658816,  0.02463866,\n",
       "         0.02506764,  0.02840839,  0.04048215,  0.05037747,  0.05331464,\n",
       "         0.05821554,  0.06995669,  0.07929397,  0.07954702,  0.07989808,\n",
       "         0.08314651,  0.08433124,  0.08691614,  0.09070856,  0.10540443,\n",
       "         0.10584851,  0.10592914,  0.1099453 ,  0.11053019,  0.11208629,\n",
       "         0.11600433,  0.11709582,  0.11843331,  0.1199241 ,  0.12207275,\n",
       "         0.13339671,  0.13905954,  0.14134928,  0.14343537,  0.14389665,\n",
       "         0.14581791,  0.14669068,  0.14807359,  0.15679944,  0.15902576,\n",
       "         0.16125685,  0.16149745,  0.16266679,  0.16405299,  0.16654446,\n",
       "         0.16694227,  0.16727079,  0.17154558,  0.17155665,  0.17209586,\n",
       "         0.17423893,  0.17442128,  0.17571556,  0.17949351,  0.17983455,\n",
       "         0.18647343,  0.18673915,  0.1912966 ,  0.19315809,  0.20827111,\n",
       "         0.20897848,  0.20971175,  0.22294956,  0.22481417,  0.22551807,\n",
       "         0.23000195,  0.23252587,  0.23348317,  0.23371784,  0.25013556,\n",
       "         0.25525752,  0.26933753,  0.27261095,  0.27458646,  0.27560628,\n",
       "         0.27759453,  0.27959816,  0.28411504,  0.28716535,  0.2894133 ,\n",
       "         0.29914398,  0.29922634,  0.30930648,  0.31169112,  0.31386631,\n",
       "         0.31451729,  0.31537858,  0.31561956,  0.31588912,  0.32368767,\n",
       "         0.32379004,  0.32505674,  0.3253815 ,  0.327628  ,  0.33019293,\n",
       "         0.33171822,  0.33186795,  0.33361565,  0.33448289,  0.33697195,\n",
       "         0.33719212,  0.3388815 ,  0.33925514,  0.33999665,  0.34751099,\n",
       "         0.34766249,  0.35551188,  0.35912238,  0.36065945,  0.36075429,\n",
       "         0.36315825,  0.36388185,  0.37383515,  0.37769124,  0.38204528,\n",
       "         0.38510393,  0.39053372,  0.391491  ,  0.39597103,  0.39802584,\n",
       "         0.40024452,  0.40125449,  0.40220989,  0.4062348 ,  0.4100255 ,\n",
       "         0.4129956 ,  0.41805177,  0.42105039,  0.42598405,  0.43786505,\n",
       "         0.43881005,  0.44342158,  0.44376999,  0.4446023 ,  0.45008755,\n",
       "         0.45472561,  0.46087192,  0.49583368,  0.50106366,  0.50497829,\n",
       "         0.51034066,  0.51307759,  0.5136012 ,  0.51753995,  0.52049208,\n",
       "         0.52050942,  0.52443901,  0.52460667,  0.52687153,  0.53167753,\n",
       "         0.53390395,  0.53669516,  0.53825969,  0.54051686,  0.54266095,\n",
       "         0.54485748,  0.54584356,  0.54900666,  0.54934674,  0.55020723,\n",
       "         0.55150986,  0.55204134,  0.5611771 ,  0.56130785,  0.56234134,\n",
       "         0.5705578 ,  0.57311076,  0.57431467,  0.58173501,  0.59556277,\n",
       "         0.59657037,  0.60091345,  0.60245322,  0.60273237,  0.60376376,\n",
       "         0.60682921,  0.61433783,  0.61469329,  0.61700062,  0.62478093,\n",
       "         0.6369549 ,  0.63795939,  0.63950942,  0.65314819,  0.65572238,\n",
       "         0.65669117,  0.65956516,  0.67261323,  0.67498359,  0.68664198,\n",
       "         0.69014869,  0.71771402,  0.71805055,  0.72525122,  0.728392  ,\n",
       "         0.73254135,  0.73596514,  0.73715566,  0.76402105,  0.76465678,\n",
       "         0.76624353,  0.76665571,  0.76688701,  0.7731507 ,  0.78346328,\n",
       "         0.78385207,  0.78386546,  0.7971812 ,  0.80204672,  0.80755554,\n",
       "         0.81081075,  0.81732193,  0.84073764,  0.86283241,  0.8693682 ,\n",
       "         0.86970005,  0.87351237,  0.87563661,  0.87647435,  0.87861143,\n",
       "         0.87922561,  0.88174081,  0.88709779,  0.90866899,  0.91498032,\n",
       "         0.95374514,  0.96311655,  0.9650558 ,  0.96706363,  0.97106983,\n",
       "         0.97353417,  0.98067617,  0.99053298,  1.00696094,  1.02078134,\n",
       "         1.02929866,  1.05527621,  1.06535639,  1.07365819,  1.08823503,\n",
       "         1.09866477,  1.10121624,  1.10193957,  1.10778568,  1.10879726,\n",
       "         1.1586545 ,  1.15957075,  1.16305022,  1.16636278,  1.16943692,\n",
       "         1.18788907,  1.22320981,  1.22469431,  1.28809161,  1.2928729 ,\n",
       "         1.31286375,  1.37030605]),\n",
       " array([[-0.0358314 , -0.03102817, -0.04944664, ...,  0.06118403,\n",
       "          0.01985597, -0.0300453 ],\n",
       "        [-0.0358314 , -0.03102817,  0.04944664, ..., -0.06118403,\n",
       "          0.01985597, -0.0300453 ],\n",
       "        [ 0.0358314 , -0.03102817, -0.04944664, ...,  0.06118403,\n",
       "         -0.01985597, -0.0300453 ],\n",
       "        ...,\n",
       "        [ 0.02370967,  0.00354351,  0.00675063, ..., -0.01515182,\n",
       "         -0.05182824,  0.04788813],\n",
       "        [-0.02370967,  0.00354351, -0.00675063, ...,  0.01515182,\n",
       "          0.05182824,  0.04788813],\n",
       "        [-0.02370967,  0.00354351,  0.00675063, ..., -0.01515182,\n",
       "          0.05182824,  0.04788813]]),\n",
       " (512, 512))"
      ]
     },
     "execution_count": 15,
     "metadata": {},
     "output_type": "execute_result"
    },
    {
     "data": {
      "image/png": "[encoded data removed]",
      "text/plain": [
       "<Figure size 350x262.5 with 1 Axes>"
      ]
     },
     "metadata": {},
     "output_type": "display_data"
    }
   ],
   "source": [
    "import matplotlib.pyplot as plt\n",
    "plt.plot(hamil.eig_val)\n",
    "hamil.eig_val, hamil.eig_vec, hamil.eig_vec.shape"
   ]
  },
  {
   "cell_type": "code",
   "execution_count": 16,
   "metadata": {},
   "outputs": [
    {
     "name": "stdout",
     "output_type": "stream",
     "text": [
      "Minimum value: -0.36581012631638304\n",
      "Maximum value: 0.3636879950290463\n"
     ]
    },
    {
     "data": {
      "image/png": "[encoded data removed]",
      "text/plain": [
       "<Figure size 500x500 with 2 Axes>"
      ]
     },
     "metadata": {},
     "output_type": "display_data"
    }
   ],
   "source": [
    "import numpy as np\n",
    "# make dense\n",
    "qsm_dense   = hamil.hamil.todense() if hamil.sparse else hamil.hamil\n",
    "minimum     = qsm_dense.min()\n",
    "maximum     = qsm_dense.max()\n",
    "qsm_dense   = np.abs(qsm_dense) / np.abs(qsm_dense).max()\n",
    "\n",
    "print(\"Minimum value:\", minimum)\n",
    "print(\"Maximum value:\", maximum)\n",
    "\n",
    "plt.figure(figsize=(5, 5))\n",
    "plt.imshow(qsm_dense, cmap='viridis')\n",
    "plt.colorbar()\n",
    "plt.title(\"Density Representation\")\n",
    "plt.show()"
   ]
  },
  {
   "cell_type": "markdown",
   "metadata": {},
   "source": [
    "##### Operators"
   ]
  },
  {
   "cell_type": "code",
   "execution_count": 4,
   "metadata": {},
   "outputs": [
    {
     "data": {
      "text/plain": [
       "array([[1., 0.],\n",
       "       [0., 1.]])"
      ]
     },
     "execution_count": 4,
     "metadata": {},
     "output_type": "execute_result"
    }
   ],
   "source": [
    "from Algebra.Operator.operators_spin import sig_x, sig_z, OperatorTypeActing\n",
    "from general_python.common import binary\n",
    "import numpy as np\n",
    "\n",
    "backend     = 'np'\n",
    "ns          = 2\n",
    "nh          = 2**ns   \n",
    "sites       = [ns - 1]\n",
    "# sites       = [0]\n",
    "sig_x_op    = sig_x(ns = ns, type_act = OperatorTypeActing.Global, sites = sites)\n",
    "sig_z_op    = sig_z(ns = ns, type_act = OperatorTypeActing.Global, sites = sites)\n",
    "eye_first   = np.eye(2**(ns - 1))\n",
    "eye_first"
   ]
  },
  {
   "cell_type": "markdown",
   "metadata": {},
   "source": [
    "###### Check how it works on the base states"
   ]
  },
  {
   "cell_type": "markdown",
   "metadata": {},
   "source": [
    "###### With states"
   ]
  },
  {
   "cell_type": "code",
   "execution_count": 3,
   "metadata": {},
   "outputs": [
    {
     "name": "stdout",
     "output_type": "stream",
     "text": [
      "\n",
      "Applying sigma_x\n",
      "Acting on state 3 (11)\n",
      "\tResulting state: 1\n",
      "\tResulting value: [0.5]\n",
      "\tBinary representation of resulting state: 01\n",
      "Applying sigma_z\n",
      "Resulting state: 3\n",
      "Resulting value: [0.5]\n",
      "Binary representation of resulting state: 11\n",
      "\n",
      "\n",
      "Applying sigma_x\n",
      "Acting on state 1 (01)\n",
      "\tResulting state: 3\n",
      "\tResulting value: [0.5]\n",
      "\tBinary representation of resulting state: 11\n",
      "Applying sigma_z\n",
      "Resulting state: 1\n",
      "Resulting value: [-0.5]\n",
      "Binary representation of resulting state: 01\n",
      "\n",
      "\n",
      "Applying sigma_x\n",
      "Acting on state 1 (01)\n",
      "\tResulting state: 3\n",
      "\tResulting value: [0.5]\n",
      "\tBinary representation of resulting state: 11\n",
      "Applying sigma_z\n",
      "Resulting state: 1\n",
      "Resulting value: [-0.5]\n",
      "Binary representation of resulting state: 01\n",
      "\n"
     ]
    }
   ],
   "source": [
    "int_state_full          = 2**(ns) - 1\n",
    "int_state_half          = 2**(ns - 1) - 1\n",
    "int_state_half_size     = 2**(ns//2) - 1\n",
    "\n",
    "# binary representation\n",
    "backend_state           = binary.int2base(int_state_full, size=ns, backend=backend)\n",
    "backend_state_half      = binary.int2base(int_state_half, size=ns, backend=backend)\n",
    "backend_state_half_size = binary.int2base(int_state_half_size, size=ns//2, backend=backend)\n",
    "# string representation\n",
    "string_state            = binary.int2binstr(int_state_full, bits=ns)\n",
    "string_state_half       = binary.int2binstr(int_state_half, bits=ns)\n",
    "string_state_half_size  = binary.int2binstr(int_state_half_size, bits=ns)\n",
    "\n",
    "# act on the integer states\n",
    "for state in [int_state_full, int_state_half, int_state_half_size]:\n",
    "    print()\n",
    "    # sigma x\n",
    "    print(\"Applying sigma_x\")\n",
    "    print(f\"Acting on state {state} ({binary.int2binstr(state, bits=ns)})\")\n",
    "    resulting_state, resulting_value = sig_x_op(state)\n",
    "    print(f\"\\tResulting state: {resulting_state[0]}\")\n",
    "    print(f\"\\tResulting value: {resulting_value}\")\n",
    "    print(f\"\\tBinary representation of resulting state: {binary.int2binstr(resulting_state[0], bits=ns)}\")\n",
    "    # sigma z\n",
    "    print(\"Applying sigma_z\")\n",
    "    resulting_state, resulting_value = sig_z_op(state)\n",
    "    print(f\"Resulting state: {resulting_state[0]}\")\n",
    "    print(f\"Resulting value: {resulting_value}\")\n",
    "    print(f\"Binary representation of resulting state: {binary.int2binstr(resulting_state[0], bits=ns)}\")\n",
    "    print()\n"
   ]
  },
  {
   "cell_type": "code",
   "execution_count": 4,
   "metadata": {},
   "outputs": [
    {
     "name": "stdout",
     "output_type": "stream",
     "text": [
      "Are the two matrices (sig_x) equal? True\n",
      "Are the two matrices (sig_z) equal? True\n",
      "From the operator (sig_x)\n"
     ]
    },
    {
     "data": {
      "text/latex": [
       "$\\displaystyle \\left[\\begin{matrix}0.0 & 0.0 & 0.5 & 0.0\\\\0.0 & 0.0 & 0.0 & 0.5\\\\0.5 & 0.0 & 0.0 & 0.0\\\\0.0 & 0.5 & 0.0 & 0.0\\end{matrix}\\right]$"
      ],
      "text/plain": [
       "Matrix([\n",
       "[0.0, 0.0, 0.5, 0.0],\n",
       "[0.0, 0.0, 0.0, 0.5],\n",
       "[0.5, 0.0, 0.0, 0.0],\n",
       "[0.0, 0.5, 0.0, 0.0]])"
      ]
     },
     "metadata": {},
     "output_type": "display_data"
    },
    {
     "name": "stdout",
     "output_type": "stream",
     "text": [
      "From the operator (sig_z)\n"
     ]
    },
    {
     "data": {
      "text/latex": [
       "$\\displaystyle \\left[\\begin{matrix}-0.5 & 0.0 & 0.0 & 0.0\\\\0.0 & -0.5 & 0.0 & 0.0\\\\0.0 & 0.0 & 0.5 & 0.0\\\\0.0 & 0.0 & 0.0 & 0.5\\end{matrix}\\right]$"
      ],
      "text/plain": [
       "Matrix([\n",
       "[-0.5,  0.0, 0.0, 0.0],\n",
       "[ 0.0, -0.5, 0.0, 0.0],\n",
       "[ 0.0,  0.0, 0.5, 0.0],\n",
       "[ 0.0,  0.0, 0.0, 0.5]])"
      ]
     },
     "metadata": {},
     "output_type": "display_data"
    },
    {
     "name": "stdout",
     "output_type": "stream",
     "text": [
      "From tensor (sig_x)\n"
     ]
    },
    {
     "data": {
      "text/latex": [
       "$\\displaystyle \\left[\\begin{matrix}0.0 & 0.0 & 0.5 & 0.0\\\\0.0 & 0.0 & 0.0 & 0.5\\\\0.5 & 0.0 & 0.0 & 0.0\\\\0.0 & 0.5 & 0.0 & 0.0\\end{matrix}\\right]$"
      ],
      "text/plain": [
       "Matrix([\n",
       "[0.0, 0.0, 0.5, 0.0],\n",
       "[0.0, 0.0, 0.0, 0.5],\n",
       "[0.5, 0.0, 0.0, 0.0],\n",
       "[0.0, 0.5, 0.0, 0.0]])"
      ]
     },
     "metadata": {},
     "output_type": "display_data"
    },
    {
     "name": "stdout",
     "output_type": "stream",
     "text": [
      "From tensor (sig_z)\n"
     ]
    },
    {
     "data": {
      "text/latex": [
       "$\\displaystyle \\left[\\begin{matrix}-0.5 & 0.0 & 0.0 & 0.0\\\\0.0 & -0.5 & 0.0 & 0.0\\\\0.0 & 0.0 & 0.5 & 0.0\\\\0.0 & 0.0 & 0.0 & 0.5\\end{matrix}\\right]$"
      ],
      "text/plain": [
       "Matrix([\n",
       "[-0.5,  0.0, 0.0, 0.0],\n",
       "[ 0.0, -0.5, 0.0, 0.0],\n",
       "[ 0.0,  0.0, 0.5, 0.0],\n",
       "[ 0.0,  0.0, 0.0, 0.5]])"
      ]
     },
     "metadata": {},
     "output_type": "display_data"
    }
   ],
   "source": [
    "from Algebra.Operator.operators_spin import _SIG_X, _SIG_Z, _SIG_0\n",
    "\n",
    "sig_x_op_mat        = sig_x_op.matrix(dim = nh, matrix_type = 'sparse', use_numpy = True)\n",
    "sig_x_op_mat_kron   = np.kron(eye_first, _SIG_X * 0.5)\n",
    "sig_x_op_mat_kron   = np.kron(_SIG_X * 0.5, eye_first)\n",
    "sig_z_op_mat        = sig_z_op.matrix(dim = nh, matrix_type = 'sparse', use_numpy = True)\n",
    "sig_z_op_mat_kron   = np.kron(eye_first, -_SIG_Z * 0.5)\n",
    "sig_z_op_mat_kron   = np.kron(-_SIG_Z * 0.5, eye_first)\n",
    "\n",
    "# compare the two\n",
    "is_equal = np.allclose(sig_x_op_mat.todense(), sig_x_op_mat_kron)\n",
    "print(\"Are the two matrices (sig_x) equal?\", is_equal)\n",
    "is_equal = np.allclose(sig_z_op_mat.todense(), sig_z_op_mat_kron)\n",
    "print(\"Are the two matrices (sig_z) equal?\", is_equal)\n",
    "\n",
    "if nh < 64:\n",
    "    from general_python.common.plot import MatrixPrinter\n",
    "    print(\"From the operator (sig_x)\")\n",
    "    MatrixPrinter.print_matrix(sig_x_op_mat.todense())\n",
    "    print(\"From the operator (sig_z)\")\n",
    "    MatrixPrinter.print_matrix(sig_z_op_mat.todense())\n",
    "    print(\"From tensor (sig_x)\")\n",
    "    MatrixPrinter.print_matrix(sig_x_op_mat_kron)\n",
    "    print(\"From tensor (sig_z)\")\n",
    "    MatrixPrinter.print_matrix(sig_z_op_mat_kron)"
   ]
  },
  {
   "cell_type": "markdown",
   "metadata": {},
   "source": [
    "###### With Hamiltonian"
   ]
  },
  {
   "cell_type": "markdown",
   "metadata": {},
   "source": [
    "###### Matrix"
   ]
  },
  {
   "cell_type": "code",
   "execution_count": 10,
   "metadata": {},
   "outputs": [
    {
     "name": "stderr",
     "output_type": "stream",
     "text": [
      "100%|██████████| 20/20 [00:00<00:00, 71.80it/s]\n",
      "100%|██████████| 20/20 [00:00<00:00, 26.72it/s]\n",
      "100%|██████████| 20/20 [00:01<00:00, 11.32it/s]\n",
      "100%|██████████| 10/10 [00:02<00:00,  3.63it/s]\n",
      "100%|██████████| 6/6 [00:05<00:00,  1.01it/s]\n"
     ]
    },
    {
     "data": {
      "image/png": "[encoded data removed]",
      "text/plain": [
       "<Figure size 350x262.5 with 1 Axes>"
      ]
     },
     "metadata": {},
     "output_type": "display_data"
    }
   ],
   "source": [
    "import numpy as np\n",
    "from Algebra.Model.Interacting.Spin.qsm import QSM\n",
    "from general_python.algebra.linalg import act, overlap\n",
    "from general_python.common.plot import Plotter, colorsCycle\n",
    "from general_python.maths.statistics import Statistics, HistogramAverage, Fraction\n",
    "from Algebra.Operator.operators_spin import sig_x, sig_z, OperatorTypeActing\n",
    "import matplotlib.pyplot as plt\n",
    "from tqdm import tqdm\n",
    "\n",
    "dtype           = 'float64'\n",
    "nrealizations   = (np.array([100, 100, 100, 50, 30, 20])/5).astype(int)\n",
    "# nrealizations   = (np.array([1, 1, 1, 1, 1, 1])).astype(int)\n",
    "alpha           = 0.99\n",
    "histograms_x    = {}\n",
    "histograms_z    = {}\n",
    "diagonals_x     = {}\n",
    "diagonals_z     = {}\n",
    "energies        = {}\n",
    "nss             = [6,7,8,9,10]\n",
    "# nss             = [10, 11]\n",
    "\n",
    "# nss             = [9,10,11]\n",
    "# nrealizations   = [10]\n",
    "\n",
    "def set_histogram(hamiltonian, hist_sig_x: HistogramAverage, hist_sig_z: HistogramAverage, nbins):\n",
    "    bandwidth       = hamiltonian.get_bandwidth()\n",
    "    omax            = bandwidth * 3\n",
    "    omin            = 0.1 / hamiltonian.hilbert_size\n",
    "    tolerance       = 0.02 * bandwidth\n",
    "    hist_sig_x.reset(nbins=nbins)\n",
    "    hist_sig_x.uniform_log(v_max=omax, v_min=omin)\n",
    "    hist_sig_z.reset(nbins=nbins)\n",
    "    hist_sig_z.uniform_log(v_max=omax, v_min=omin)\n",
    "    return tolerance\n",
    "\n",
    "for ii, ns in enumerate(nss):\n",
    "    realizations    = nrealizations[ii] if ii < len(nrealizations) else nrealizations[-1]\n",
    "    energies[ns]    = []\n",
    "    diagonals_x[ns] = []\n",
    "    diagonals_z[ns] = []\n",
    "    nh              = 2**ns\n",
    "    # sites           = [0]\n",
    "    sites           = [ns - 1]\n",
    "    # sites           = [0]\n",
    "    sig_x_op        = sig_x(ns = ns, type_act = OperatorTypeActing.Global, sites = sites)\n",
    "    sig_z_op        = sig_z(ns = ns, type_act = OperatorTypeActing.Global, sites = sites)\n",
    "    sig_x_op_mat    = sig_x_op.matrix(dim = nh, matrix_type = 'sparse', use_numpy = True)\n",
    "    sig_z_op_mat    = sig_z_op.matrix(dim = nh, matrix_type = 'sparse', use_numpy = True)\n",
    "    histogram_sig_x = HistogramAverage(dtype=dtype)\n",
    "    histogram_sig_z = HistogramAverage(dtype=dtype)\n",
    "    nbins           = int(20 * np.log2(nh))\n",
    "    tolerance       = 0.0\n",
    "    for realization in tqdm(range(realizations)):\n",
    "        # print(f\"Realization {realization + 1}/{nrealizations}\")\n",
    "        hamil       = QSM(ns=ns, hilbert_space=None, n=3, a=alpha, h=1.0, xi=0.2, backend = 'np', dtype='float64')\n",
    "        hamil.build(verbose=False, use_numpy=True)\n",
    "        hamil.diagonalize(verbose=False)\n",
    "        states      = hamil.eig_vec\n",
    "        eigvals     = hamil.eig_val\n",
    "        sig_x_elems = overlap(states, states, sig_x_op_mat, backend = backend)\n",
    "        sig_z_elems = overlap(states, states, sig_z_op_mat, backend = backend)\n",
    "        diag_sig_x  = sig_x_elems.diagonal()\n",
    "        diag_sig_z  = sig_z_elems.diagonal()\n",
    "        if realization == 0:\n",
    "            tolerance = set_histogram(hamil, histogram_sig_x, histogram_sig_z, nbins)\n",
    "        # get the average energy\n",
    "        energy_at       = hamil.av_en\n",
    "        # create the f_functions by taking the middle spectrum (%)\n",
    "        w, i_idx, j_idx = Fraction.spectral_function_fraction(eigvals, energy_at, tolerance)\n",
    "        ones            = np.ones_like(sig_x_elems)\n",
    "        ones[i_idx, j_idx] = 0\n",
    "        plt.imshow(ones)\n",
    "        # fill the histogram\n",
    "        sig_x_changed   = np.abs(sig_x_elems[i_idx, j_idx])**2\n",
    "        sig_z_changed   = np.abs(sig_z_elems[i_idx, j_idx])**2\n",
    "        histogram_sig_x.append(w, sig_x_changed)\n",
    "        histogram_sig_z.append(w, sig_z_changed)\n",
    "        diagonals_x[ns].append(diag_sig_x)\n",
    "        diagonals_z[ns].append(diag_sig_z)\n",
    "        energies[ns].append(eigvals)\n",
    "    histograms_x[ns] = histogram_sig_x\n",
    "    histograms_z[ns] = histogram_sig_z\n",
    "    "
   ]
  },
  {
   "cell_type": "code",
   "execution_count": 11,
   "metadata": {},
   "outputs": [
    {
     "name": "stdout",
     "output_type": "stream",
     "text": [
      "ns = 6, gap_ratio = 0.4930288089949947\n",
      "ns = 7, gap_ratio = 0.5062694131068604\n",
      "ns = 8, gap_ratio = 0.5271550080907841\n",
      "ns = 9, gap_ratio = 0.5213472371127177\n",
      "ns = 10, gap_ratio = 0.5066477203140601\n"
     ]
    },
    {
     "data": {
      "image/png": "[encoded data removed]",
      "text/plain": [
       "<Figure size 750x750 with 4 Axes>"
      ]
     },
     "metadata": {},
     "output_type": "display_data"
    }
   ],
   "source": [
    "from general_python.physics.eigenlevels import gap_ratio\n",
    "fig, ax     = Plotter.get_subplots(nrows=2, ncols=2, sizex=5, sizey=5, dpi=150)\n",
    "\n",
    "# plot\n",
    "for ii, ns in enumerate(energies.keys()):\n",
    "    realizations = nrealizations[ii] if ii < len(nrealizations) else nrealizations[-1]\n",
    "    nh          = 2**ns\n",
    "    x           = energies[ns][0] / ns\n",
    "    # x           = np.arange(nh)\n",
    "    colors1, _, _= Plotter.get_colormap(nss, cmap='viridis')\n",
    "    colors2, _, _= Plotter.get_colormap(nss, cmap='plasma_r')\n",
    "    color1      = colors1(ns)\n",
    "    color2      = colors2(ns)\n",
    "    Plotter.scatter(ax[0], x, diagonals_x[ns][0], label=f'$L={ns}$', color=color1)\n",
    "    Plotter.scatter(ax[1], x, diagonals_z[ns][0], label=f'$L={ns}$', color=color2)\n",
    "    Plotter.set_ax_params(ax[0], xlabel='$i/L$', ylabel=r'$O_{ii}$', title=r'$\\sigma_x$')\n",
    "    Plotter.set_ax_params(ax[1], xlabel='$i/L$', ylabel=r'$O_{ii}$', title=r'$\\sigma_z$')\n",
    "\n",
    "    Plotter.scatter(ax[2], histograms_x[ns].bin_edges, histograms_x[ns].averages_av()*nh, label=f'$L={ns}$', color=color1)\n",
    "    Plotter.scatter(ax[3], histograms_z[ns].bin_edges, histograms_z[ns].averages_av()*nh, label=f'$L={ns}$', color=color2)\n",
    "    Plotter.set_ax_params(ax[2], xlabel=r'$\\omega$', lim = {'y': (1e-4, 1e2)},\n",
    "        ylabel=r'$\\mathcal{D}|O_{ij}|^2$', scale={'x': 'log', 'y': 'log'})\n",
    "    Plotter.set_ax_params(ax[3], xlabel=r'$\\omega$', lim = {'y': (1e-4, 1e2)},\n",
    "        ylabel=r'$\\mathcal{D}|O_{ij}|^2$', scale={'x': 'log', 'y': 'log'})\n",
    "    gap_ratios = [gap_ratio(energies[ns][i])['mean'] for i in range(realizations)]\n",
    "    print(f\"ns = {ns}, gap_ratio = {np.mean(gap_ratios)}\")\n",
    "    Plotter.set_legend(ax[2])\n",
    "fig.tight_layout()"
   ]
  },
  {
   "cell_type": "code",
   "execution_count": 17,
   "metadata": {},
   "outputs": [
    {
     "name": "stdout",
     "output_type": "stream",
     "text": [
      "0.496256785068507\n"
     ]
    }
   ],
   "source": [
    "\n",
    "d_en = np.diff(energies[8])\n",
    "d_en = d_en / np.mean(d_en)\n",
    "gap_ratios = np.minimum(d_en[:-1], d_en[1:]) / np.maximum(d_en[:-1], d_en[1:])\n",
    "print(np.mean(gap_ratios))\n"
   ]
  },
  {
   "cell_type": "markdown",
   "metadata": {},
   "source": [
    "# Linear algebra"
   ]
  },
  {
   "cell_type": "code",
   "execution_count": 9,
   "metadata": {},
   "outputs": [],
   "source": [
    "import general_python.algebra as algebra\n",
    "a = algebra.AlgebraTests(backend='jax')\n",
    "b = algebra.AlgebraTests(backend='numpy')"
   ]
  },
  {
   "cell_type": "markdown",
   "metadata": {},
   "source": [
    "## Standard tests"
   ]
  },
  {
   "cell_type": "markdown",
   "metadata": {},
   "source": [
    "### Change the basis with a unitary matrix"
   ]
  },
  {
   "cell_type": "code",
   "execution_count": null,
   "metadata": {},
   "outputs": [],
   "source": [
    "a.change_basis(verbose=True)\n",
    "b.change_basis(verbose=True)"
   ]
  },
  {
   "cell_type": "markdown",
   "metadata": {},
   "source": [
    "### Change the basis of a matrix with a unitary matrix"
   ]
  },
  {
   "cell_type": "code",
   "execution_count": null,
   "metadata": {},
   "outputs": [],
   "source": [
    "a.change_basis_matrix(verbose=True)"
   ]
  },
  {
   "cell_type": "markdown",
   "metadata": {},
   "source": [
    "### Outer product"
   ]
  },
  {
   "cell_type": "code",
   "execution_count": null,
   "metadata": {},
   "outputs": [],
   "source": [
    "a.outer(verbose=True)\n",
    "b.outer(verbose=True)"
   ]
  },
  {
   "cell_type": "markdown",
   "metadata": {},
   "source": [
    "### Kronecker product"
   ]
  },
  {
   "cell_type": "code",
   "execution_count": null,
   "metadata": {},
   "outputs": [],
   "source": [
    "a.kron(verbose=True)"
   ]
  },
  {
   "cell_type": "markdown",
   "metadata": {},
   "source": [
    "## Linear solvers"
   ]
  },
  {
   "cell_type": "markdown",
   "metadata": {},
   "source": [
    "### Test through examples"
   ]
  },
  {
   "cell_type": "code",
   "execution_count": 10,
   "metadata": {},
   "outputs": [],
   "source": [
    "a = algebra.SolversTests(backend='numpy')\n",
    "b = algebra.SolversTests(backend='jax')"
   ]
  },
  {
   "cell_type": "code",
   "execution_count": 11,
   "metadata": {},
   "outputs": [
    {
     "name": "stdout",
     "output_type": "stream",
     "text": [
      "[TEST 0] Starting solver test using cg\n"
     ]
    },
    {
     "ename": "ValueError",
     "evalue": "Unknown solver type: must be one of DIRECT, BACKEND_SOLVER, SCIPY_DIRECT, SCIPY_CJ, CJ, SCIPY_MINRES, MINRES, MINRES_QLP",
     "output_type": "error",
     "traceback": [
      "\u001b[0;31m---------------------------------------------------------------------------\u001b[0m",
      "\u001b[0;31mKeyError\u001b[0m                                  Traceback (most recent call last)",
      "File \u001b[0;32m~/Codes/QuantumEigenSolver/Python/QES/general_python/algebra/solvers/__init__.py:38\u001b[0m, in \u001b[0;36mchoose_solver\u001b[0;34m(solver_type, backend, size, eps, maxiter, reg)\u001b[0m\n\u001b[1;32m     37\u001b[0m \u001b[38;5;28;01mtry\u001b[39;00m:\n\u001b[0;32m---> 38\u001b[0m     solver_type \u001b[38;5;241m=\u001b[39m SolverType[solver_type\u001b[38;5;241m.\u001b[39mupper()]\n\u001b[1;32m     39\u001b[0m \u001b[38;5;28;01mexcept\u001b[39;00m \u001b[38;5;167;01mKeyError\u001b[39;00m \u001b[38;5;28;01mas\u001b[39;00m exc:\n",
      "File \u001b[0;32m~/miniconda3/lib/python3.12/enum.py:801\u001b[0m, in \u001b[0;36mEnumType.__getitem__\u001b[0;34m(cls, name)\u001b[0m\n\u001b[1;32m    798\u001b[0m \u001b[38;5;250m\u001b[39m\u001b[38;5;124;03m\"\"\"\u001b[39;00m\n\u001b[1;32m    799\u001b[0m \u001b[38;5;124;03mReturn the member matching `name`.\u001b[39;00m\n\u001b[1;32m    800\u001b[0m \u001b[38;5;124;03m\"\"\"\u001b[39;00m\n\u001b[0;32m--> 801\u001b[0m \u001b[38;5;28;01mreturn\u001b[39;00m \u001b[38;5;28mcls\u001b[39m\u001b[38;5;241m.\u001b[39m_member_map_[name]\n",
      "\u001b[0;31mKeyError\u001b[0m: 'CG'",
      "\nThe above exception was the direct cause of the following exception:\n",
      "\u001b[0;31mValueError\u001b[0m                                Traceback (most recent call last)",
      "Cell \u001b[0;32mIn[11], line 1\u001b[0m\n\u001b[0;32m----> 1\u001b[0m a\u001b[38;5;241m.\u001b[39msolver_test()\n",
      "File \u001b[0;32m~/Codes/QuantumEigenSolver/Python/QES/general_python/algebra/__init__.py:364\u001b[0m, in \u001b[0;36mSolversTests.solver_test\u001b[0;34m(self, make_random, symmetric, solver_type, eps, max_iter, reg, precond_type, dtype)\u001b[0m\n\u001b[1;32m    361\u001b[0m a, b    \u001b[38;5;241m=\u001b[39m generate_test_mat_vec(make_random, symmetric, dtype\u001b[38;5;241m=\u001b[39mdtype, backend\u001b[38;5;241m=\u001b[39m\u001b[38;5;28mself\u001b[39m\u001b[38;5;241m.\u001b[39mbackend)\n\u001b[1;32m    363\u001b[0m \u001b[38;5;66;03m# Instantiate the chosen solver.\u001b[39;00m\n\u001b[0;32m--> 364\u001b[0m solver  \u001b[38;5;241m=\u001b[39m choose_solver(solver_type, backend\u001b[38;5;241m=\u001b[39m\u001b[38;5;28mself\u001b[39m\u001b[38;5;241m.\u001b[39mbackend, size\u001b[38;5;241m=\u001b[39ma\u001b[38;5;241m.\u001b[39mshape[\u001b[38;5;241m1\u001b[39m], eps\u001b[38;5;241m=\u001b[39meps, maxiter\u001b[38;5;241m=\u001b[39mmax_iter, reg\u001b[38;5;241m=\u001b[39mreg)\n\u001b[1;32m    366\u001b[0m solver\u001b[38;5;241m.\u001b[39minit_from_matrix(a, b, \u001b[38;5;28;01mNone\u001b[39;00m, reg)\n\u001b[1;32m    368\u001b[0m \u001b[38;5;66;03m# Create a preconditioner if requested.\u001b[39;00m\n",
      "File \u001b[0;32m~/Codes/QuantumEigenSolver/Python/QES/general_python/algebra/solvers/__init__.py:40\u001b[0m, in \u001b[0;36mchoose_solver\u001b[0;34m(solver_type, backend, size, eps, maxiter, reg)\u001b[0m\n\u001b[1;32m     38\u001b[0m         solver_type \u001b[38;5;241m=\u001b[39m SolverType[solver_type\u001b[38;5;241m.\u001b[39mupper()]\n\u001b[1;32m     39\u001b[0m     \u001b[38;5;28;01mexcept\u001b[39;00m \u001b[38;5;167;01mKeyError\u001b[39;00m \u001b[38;5;28;01mas\u001b[39;00m exc:\n\u001b[0;32m---> 40\u001b[0m         \u001b[38;5;28;01mraise\u001b[39;00m \u001b[38;5;167;01mValueError\u001b[39;00m(_SOL_TYPE_ERROR) \u001b[38;5;28;01mfrom\u001b[39;00m \u001b[38;5;21;01mexc\u001b[39;00m\n\u001b[1;32m     42\u001b[0m \u001b[38;5;28;01mif\u001b[39;00m solver_type \u001b[38;5;241m==\u001b[39m SolverType\u001b[38;5;241m.\u001b[39mDIRECT:\n\u001b[1;32m     43\u001b[0m     \u001b[38;5;28;01mreturn\u001b[39;00m DirectSolver(backend\u001b[38;5;241m=\u001b[39mbackend, size\u001b[38;5;241m=\u001b[39msize, eps\u001b[38;5;241m=\u001b[39meps, maxiter\u001b[38;5;241m=\u001b[39mmaxiter, reg\u001b[38;5;241m=\u001b[39mreg)\n",
      "\u001b[0;31mValueError\u001b[0m: Unknown solver type: must be one of DIRECT, BACKEND_SOLVER, SCIPY_DIRECT, SCIPY_CJ, CJ, SCIPY_MINRES, MINRES, MINRES_QLP"
     ]
    }
   ],
   "source": [
    "a.solver_test()"
   ]
  },
  {
   "cell_type": "markdown",
   "metadata": {},
   "source": [
    "# Binary "
   ]
  },
  {
   "cell_type": "markdown",
   "metadata": {},
   "source": [
    "### Standard tests"
   ]
  },
  {
   "cell_type": "code",
   "execution_count": 1,
   "metadata": {},
   "outputs": [
    {
     "name": "stdout",
     "output_type": "stream",
     "text": [
      "=== Backend Initialization ===\n",
      "\tNumPy Version: 1.26.4\n",
      "\tSciPy Version: 1.13.1\n",
      "\tJAX Version: Not Available\n",
      "\t\tActive Backend: jax\n",
      "\t\tJAX Available: True\n",
      "\t\tDefault Random Key: [    0 12345]\n",
      "\tActive Backend Modules:\n",
      "\t\t\tMain Module: <module 'jax.numpy' from '/Users/makskliczkowski/miniconda3/lib/python3.12/site-packages/jax/numpy/__init__.py'>\n",
      "\t\t\tRandom Module: <module 'jax.random' from '/Users/makskliczkowski/miniconda3/lib/python3.12/site-packages/jax/random.py'>\n",
      "\t\t\tSciPy Module: <module 'jax.scipy' from '/Users/makskliczkowski/miniconda3/lib/python3.12/site-packages/jax/scipy/__init__.py'>\n",
      "=== End of Backend Info ===\n"
     ]
    },
    {
     "name": "stderr",
     "output_type": "stream",
     "text": [
      "23_03_2025_19-24_27 [INFO] Log file created: ./log/global.log\n",
      "23_03_2025_19-24_27 [INFO] Log level set to: info\n",
      "23_03_2025_19-24_27 [INFO] ########### Global logger initialized. ###########\n"
     ]
    }
   ],
   "source": [
    "from general_python.common import binary\n",
    "NUM         = 42\n",
    "tests       = binary.BinaryFunctionTests()"
   ]
  },
  {
   "cell_type": "code",
   "execution_count": 2,
   "metadata": {},
   "outputs": [
    {
     "data": {
      "text/plain": [
       "('11111111', 1, 128, '10000000', 128)"
      ]
     },
     "execution_count": 2,
     "metadata": {},
     "output_type": "execute_result"
    }
   ],
   "source": [
    "import numpy as np\n",
    "integer     = np.int64(255)\n",
    "integer     = 255\n",
    "ns          = 8\n",
    "i           = 0\n",
    "pos         = ns - 1 - i\n",
    "checked     = binary.check_int(integer, pos)\n",
    "\n",
    "binary.int2binstr(integer, ns), checked, (1 << pos), binary.int2binstr((1 << pos), ns), integer & (1 << pos)"
   ]
  },
  {
   "cell_type": "code",
   "execution_count": null,
   "metadata": {},
   "outputs": [],
   "source": [
    "tests.run_tests(NUM, spin_value = binary._BACKENDREPR)"
   ]
  },
  {
   "cell_type": "code",
   "execution_count": null,
   "metadata": {},
   "outputs": [],
   "source": [
    "tests.run_tests(NUM, spin_value = binary._BACKENDREPR, backend = 'np')"
   ]
  },
  {
   "cell_type": "markdown",
   "metadata": {},
   "source": [
    "### Test JAX"
   ]
  },
  {
   "cell_type": "code",
   "execution_count": null,
   "metadata": {},
   "outputs": [],
   "source": [
    "from algebra import get_backend\n",
    "import time \n",
    "from jax import numpy as jnp, random as jnpr\n",
    "import numpy as np, numpy.random as npr\n",
    "from jax import jit\n",
    "\n",
    "seed = 1701\n",
    "\n",
    "# Test the speed of the matrix multiplication\n",
    "key_np = npr.seed(seed)\n",
    "key_jnp = jnpr.key(seed)\n",
    "size = 5000\n",
    "\n",
    "def matrix_mult_test_jax(size=size):\n",
    "    random_mat  = jnpr.normal(key_jnp, (size, size))\n",
    "    vec         = jnpr.normal(key_jnp, (size,))\n",
    "    result      = random_mat @ vec\n",
    "    print(\"Result of matrix-vector multiplication:\\n\", result)\n",
    "    \n",
    "def matrix_mult_test_numpy(size = size):\n",
    "    random_mat  = npr.normal(size=(size, size))\n",
    "    vec         = npr.normal(size=(size,))\n",
    "    result      = random_mat @ vec\n",
    "    print(\"Result of matrix-vector multiplication:\\n\", result)\n",
    "    \n",
    "@jit\n",
    "def matrix_mult_test_jax_jit():\n",
    "    random_mat  = jnpr.normal(key_jnp, (size, size))\n",
    "    vec         = jnpr.normal(key_jnp, (size,))\n",
    "    result      = random_mat @ vec\n",
    "    print(\"Result of matrix-vector multiplication:\\n\", result)\n"
   ]
  },
  {
   "cell_type": "markdown",
   "metadata": {},
   "source": [
    "#### Numpy"
   ]
  },
  {
   "cell_type": "code",
   "execution_count": null,
   "metadata": {},
   "outputs": [],
   "source": [
    "start_time = time.time()\n",
    "matrix_mult_test_numpy()\n",
    "end_time = time.time()\n",
    "print(f\"Time taken: {end_time - start_time:.4f} seconds (numpy)\")"
   ]
  },
  {
   "cell_type": "markdown",
   "metadata": {},
   "source": [
    "#### Jax"
   ]
  },
  {
   "cell_type": "code",
   "execution_count": null,
   "metadata": {},
   "outputs": [],
   "source": [
    "start_time = time.time()\n",
    "matrix_mult_test_jax()\n",
    "end_time = time.time()\n",
    "print(f\"Time taken: {end_time - start_time:.4f} seconds (jax)\")"
   ]
  },
  {
   "cell_type": "markdown",
   "metadata": {},
   "source": [
    "#### Jax jit"
   ]
  },
  {
   "cell_type": "code",
   "execution_count": null,
   "metadata": {},
   "outputs": [],
   "source": [
    "start_time = time.time()\n",
    "matrix_mult_test_jax_jit()\n",
    "end_time = time.time()  \n",
    "print(f\"Time taken: {end_time - start_time:.4f} seconds (jax, jitted)\")"
   ]
  },
  {
   "cell_type": "markdown",
   "metadata": {},
   "source": [
    "# Lattice\n"
   ]
  },
  {
   "cell_type": "code",
   "execution_count": null,
   "metadata": {},
   "outputs": [],
   "source": [
    "from lattices import Lattice, run_lattice_tests\n",
    "\n",
    "# Run tests for different configurations\n",
    "# run_lattice_tests(dim=1, lx=10, ly=1, lz=1, bc=lattices.LatticeBC.PBC, typek=\"square\")\n",
    "# run_lattice_tests(dim=2, lx=5, ly=3, lz=1, bc=lattices.LatticeBC.PBC, typek=\"square\")\n",
    "# run_lattice_tests(dim=2, lx=5, ly=5, lz=1, bc=lattices.LatticeBC.OBC, typek=\"square\")\n",
    "# run_lattice_tests(dim=3, lx=3, ly=3, lz=3, bc=lattices.LatticeBC.PBC, typek=\"square\")\n",
    "run_lattice_tests(dim=2, lx=3, ly=2, lz=1, bc=lattices.LatticeBC.PBC, typek=\"honeycomb\")"
   ]
  },
  {
   "cell_type": "code",
   "execution_count": null,
   "metadata": {},
   "outputs": [],
   "source": [
    "import numpy as np \n",
    "import matplotlib.pyplot as plt\n",
    "\n",
    "plt.figure(figsize=(8,8))\n",
    "\n",
    "a = 1\n",
    "b = 1\n",
    "c = 1\n",
    "\n",
    "Lx = 4\n",
    "Ly = 2\n",
    "Ns = 2 * Lx * Ly\n",
    "\n",
    "_a1 = np.array([np.sqrt(3) * a / 2.0, 3 * a / 2.0, 0])\n",
    "_a2 = np.array([np.sqrt(3) * a / 2.0, -3 * a / 2.0, 0])\n",
    "_a3 = np.array([0, 0, c])\n",
    "\n",
    "\n",
    "\n",
    "coords      = []\n",
    "move_vector = _a1 - np.array([0, a, 0])\n",
    "for i in range(Ns):\n",
    "    # get the unit cell on a square lattic\n",
    "    x = (i // 2) % Lx\n",
    "    y = ((i//2) // Lx) % Ly\n",
    "    \n",
    "    # from coorditates to position on the lattice\n",
    "    xy = np.array([0., 0, 0]) if i % 2 == 0 else move_vector\n",
    "    xy += x * (_a1 + _a2) + y * _a1\n",
    "    xp, yp = xy[0], xy[1]\n",
    "    print(xp, yp)\n",
    "    plt.scatter(xp, yp, color='red' if i % 2 == 0 else 'blue', marker='o', s=100, facecolor='none')\n",
    "    plt.text(xp + 0.1, yp + 0.1, i)\n",
    "    \n",
    "    print(\"Ns=\", i, \"-- (x,y)=\", x, y)\n",
    "\n",
    "\n",
    "plt.arrow(0, 0, _a1[0], _a1[1], head_width=0.1, head_length=0.1, fc='r', ec='r')\n",
    "plt.arrow(0, 0, _a2[0], _a2[1], head_width=0.1, head_length=0.1, fc='b', ec='b')\n",
    "# plt.arrow(0, 0, _a1[0] - _a2[0], _a1[1] - _a2[1], head_width=0.1, head_length=0.1, fc='g', ec='g')\n",
    "# plt.arrow(0, 0, _a1[0] + _a2[0], _a1[1] + _a2[1], head_width=0.1, head_length=0.1, fc='y', ec='y')\n",
    "# plt.arrow(0, 0, -_a1[0] + _a2[0], -_a1[1] + _a2[1], head_width=0.1, head_length=0.1, fc='m', ec='m')\n",
    "# plt.arrow(0, 0, -_a1[0] - _a2[0], -_a1[1] - _a2[1], head_width=0.1, head_length=0.1, fc='c', ec='c')\n"
   ]
  },
  {
   "cell_type": "code",
   "execution_count": null,
   "metadata": {},
   "outputs": [],
   "source": []
  },
  {
   "cell_type": "markdown",
   "metadata": {},
   "source": [
    "# NQS"
   ]
  },
  {
   "cell_type": "markdown",
   "metadata": {},
   "source": [
    "## Sampler"
   ]
  },
  {
   "cell_type": "code",
   "execution_count": 1,
   "metadata": {},
   "outputs": [
    {
     "name": "stderr",
     "output_type": "stream",
     "text": [
      "WARNING:jax._src.lib.xla_bridge:No GPU/TPU found, falling back to CPU. (Set TF_CPP_MIN_LOG_LEVEL=0 and rerun for more info.)\n"
     ]
    },
    {
     "name": "stdout",
     "output_type": "stream",
     "text": [
      "=== Backend Initialization ===\n",
      "\tNumPy Version: 1.26.4\n",
      "\tSciPy Version: 1.13.1\n",
      "\tJAX Version: Not Available\n",
      "\t\tActive Backend: jax\n",
      "\t\tJAX Available: True\n",
      "\t\tDefault Random Key: [    0 12345]\n",
      "\tActive Backend Modules:\n",
      "\t\t\tMain Module: <module 'jax.numpy' from '/home/klimak/libraries/anaconda3/lib/python3.11/site-packages/jax/numpy/__init__.py'>\n",
      "\t\t\tRandom Module: <module 'jax.random' from '/home/klimak/libraries/anaconda3/lib/python3.11/site-packages/jax/random.py'>\n",
      "\t\t\tSciPy Module: <module 'jax.scipy' from '/home/klimak/libraries/anaconda3/lib/python3.11/site-packages/jax/scipy/__init__.py'>\n",
      "=== End of Backend Info ===\n"
     ]
    },
    {
     "data": {
      "text/plain": [
       "MCSampler(shape=(10,), mu=2.0, beta=1.0, therm_steps=10, sweep_steps=10, numsamples=5, numchains=10, backend=np)"
      ]
     },
     "execution_count": 1,
     "metadata": {},
     "output_type": "execute_result"
    }
   ],
   "source": [
    "import Solver.MonteCarlo.sampler as Sampling\n",
    "from general_python.algebra.utils import get_backend\n",
    "from general_python.ml.net_impl.net_simple import SimpleNet\n",
    "\n",
    "import random\n",
    "import numpy as np\n",
    "\n",
    "# get random backend\n",
    "backend     = 'np'\n",
    "seed        = 1701\n",
    "be_modules  = get_backend(backend, random=True, seed=seed, scipy=True)\n",
    "backend_np, (rng, rng_k), backend_sp = be_modules if isinstance(be_modules, tuple) else (be_modules, (None, None), None)\n",
    "\n",
    "ns                  = 10\n",
    "st_shape            = (ns, )\n",
    "activations         = ('relu', 'sigmoid')\n",
    "net                 = SimpleNet(act_fun =   activations, \n",
    "                        input_shape     =   st_shape, \n",
    "                        output_shape    =   (1, ),\n",
    "                        layers          =   (5, ),\n",
    "                        backend=backend, dtype='complex128',)\n",
    "            # [random.random() + 1j * random.random() for _ in range(x.shape[0])])\n",
    "# a simple callable network function\n",
    "\n",
    "sampler = Sampling.MCSampler(\n",
    "    net         = net,\n",
    "    shape       = st_shape,\n",
    "    rng         = rng,\n",
    "    rng_k       = rng_k,\n",
    "    numchains   = 10,\n",
    "    numsamples  = 5,\n",
    "    sweep_steps = 10,\n",
    "    backend     = backend,\n",
    "    therm_steps = 10,\n",
    ")\n",
    "\n",
    "sampler"
   ]
  },
  {
   "cell_type": "code",
   "execution_count": 2,
   "metadata": {},
   "outputs": [],
   "source": [
    "# check how the sampler performs\n",
    "(states, logprobas), (configs, configs_ansatze), probabilities = sampler.sample()"
   ]
  },
  {
   "cell_type": "code",
   "execution_count": 3,
   "metadata": {},
   "outputs": [
    {
     "data": {
      "text/plain": [
       "((10, 10), (10,))"
      ]
     },
     "execution_count": 3,
     "metadata": {},
     "output_type": "execute_result"
    }
   ],
   "source": [
    "# final states after sampling, ansatze after sampling\n",
    "states.shape, logprobas.shape"
   ]
  },
  {
   "cell_type": "code",
   "execution_count": 4,
   "metadata": {},
   "outputs": [
    {
     "data": {
      "text/plain": [
       "((50, 10), (50, 1), (50, 1))"
      ]
     },
     "execution_count": 4,
     "metadata": {},
     "output_type": "execute_result"
    }
   ],
   "source": [
    "configs.shape, configs_ansatze.shape, probabilities.shape"
   ]
  },
  {
   "cell_type": "markdown",
   "metadata": {},
   "source": [
    "### Flow"
   ]
  },
  {
   "cell_type": "markdown",
   "metadata": {},
   "source": [
    "#### Standard"
   ]
  },
  {
   "cell_type": "code",
   "execution_count": null,
   "metadata": {},
   "outputs": [
    {
     "name": "stdout",
     "output_type": "stream",
     "text": [
      "Detailed Flow of the Configurations:\n",
      "\n",
      "  Total number of configurations: 10\n",
      "  Total number of states: 10\n",
      "  Total number of probabilities: 10\n",
      "\n",
      "--- Configuration flow 0 ---\n",
      "     Configuration \\(\\mathbf{S}_{0}\\):\n"
     ]
    },
    {
     "data": {
      "text/latex": [
       "$\\displaystyle \\left[\\begin{matrix}-0.5 & 0.5 & 0.5 & -0.5 & 0.5 & -0.5 & -0.5 & 0.5 & 0.5 & 0.5\\\\0.5 & -0.5 & -0.5 & 0.5 & 0.5 & -0.5 & -0.5 & 0.5 & -0.5 & -0.5\\\\0.5 & 0.5 & 0.5 & -0.5 & -0.5 & 0.5 & -0.5 & -0.5 & 0.5 & -0.5\\\\-0.5 & -0.5 & 0.5 & 0.5 & -0.5 & -0.5 & 0.5 & -0.5 & -0.5 & -0.5\\\\0.5 & 0.5 & -0.5 & 0.5 & -0.5 & -0.5 & 0.5 & 0.5 & 0.5 & 0.5\\\\0.5 & 0.5 & 0.5 & -0.5 & -0.5 & 0.5 & 0.5 & -0.5 & -0.5 & 0.5\\\\-0.5 & -0.5 & -0.5 & 0.5 & 0.5 & 0.5 & -0.5 & -0.5 & 0.5 & 0.5\\\\-0.5 & 0.5 & 0.5 & 0.5 & 0.5 & -0.5 & 0.5 & -0.5 & -0.5 & 0.5\\\\-0.5 & -0.5 & 0.5 & -0.5 & -0.5 & -0.5 & -0.5 & -0.5 & 0.5 & 0.5\\\\-0.5 & 0.5 & -0.5 & -0.5 & 0.5 & -0.5 & -0.5 & -0.5 & 0.5 & 0.5\\end{matrix}\\right]$"
      ],
      "text/plain": [
       "Matrix([\n",
       "[-0.5,  0.5,  0.5, -0.5,  0.5, -0.5, -0.5,  0.5,  0.5,  0.5],\n",
       "[ 0.5, -0.5, -0.5,  0.5,  0.5, -0.5, -0.5,  0.5, -0.5, -0.5],\n",
       "[ 0.5,  0.5,  0.5, -0.5, -0.5,  0.5, -0.5, -0.5,  0.5, -0.5],\n",
       "[-0.5, -0.5,  0.5,  0.5, -0.5, -0.5,  0.5, -0.5, -0.5, -0.5],\n",
       "[ 0.5,  0.5, -0.5,  0.5, -0.5, -0.5,  0.5,  0.5,  0.5,  0.5],\n",
       "[ 0.5,  0.5,  0.5, -0.5, -0.5,  0.5,  0.5, -0.5, -0.5,  0.5],\n",
       "[-0.5, -0.5, -0.5,  0.5,  0.5,  0.5, -0.5, -0.5,  0.5,  0.5],\n",
       "[-0.5,  0.5,  0.5,  0.5,  0.5, -0.5,  0.5, -0.5, -0.5,  0.5],\n",
       "[-0.5, -0.5,  0.5, -0.5, -0.5, -0.5, -0.5, -0.5,  0.5,  0.5],\n",
       "[-0.5,  0.5, -0.5, -0.5,  0.5, -0.5, -0.5, -0.5,  0.5,  0.5]])"
      ]
     },
     "metadata": {},
     "output_type": "display_data"
    },
    {
     "name": "stdout",
     "output_type": "stream",
     "text": [
      "    Ansatz \\(f(\\mathbf{S}_{0})\\):\n"
     ]
    },
    {
     "data": {
      "text/latex": [
       "$\\displaystyle \\left[\\begin{matrix}0.243104241479246 - 0.0276354455144398 i & 0.282055377933926 + 0.352876602476411 i & 0.3079503552809 + 0.212957974552467 i & 0.250698412785718 + 0.0580381634205277 i & 0.526410725448599 + 0.0183324201182952 i & -0.109233048299867 + 0.35961465664988 i & 0.307735743708419 + 0.0361965578135887 i & 0.228253260978906 + 0.119531331580963 i & 0.252103762907549 - 0.109410936711242 i & 0.235756647884145 + 0.0862162987254024 i\\end{matrix}\\right]$"
      ],
      "text/plain": [
       "Matrix([[0.243104241479246 - 0.0276354455144398*I, 0.282055377933926 + 0.352876602476411*I, 0.3079503552809 + 0.212957974552467*I, 0.250698412785718 + 0.0580381634205277*I, 0.526410725448599 + 0.0183324201182952*I, -0.109233048299867 + 0.35961465664988*I, 0.307735743708419 + 0.0361965578135887*I, 0.228253260978906 + 0.119531331580963*I, 0.252103762907549 - 0.109410936711242*I, 0.235756647884145 + 0.0862162987254024*I]])"
      ]
     },
     "metadata": {},
     "output_type": "display_data"
    },
    {
     "name": "stdout",
     "output_type": "stream",
     "text": [
      "    Probability \\(P(\\mathbf{S}_{0})\\):\n"
     ]
    },
    {
     "data": {
      "text/latex": [
       "$\\displaystyle \\left[\\begin{matrix}1.0 & 1.0 & 1.0 & 1.0 & 1.0 & 1.0 & 1.0 & 1.0 & 1.0 & 1.0\\end{matrix}\\right]$"
      ],
      "text/plain": [
       "Matrix([[1.0, 1.0, 1.0, 1.0, 1.0, 1.0, 1.0, 1.0, 1.0, 1.0]])"
      ]
     },
     "metadata": {},
     "output_type": "display_data"
    },
    {
     "name": "stdout",
     "output_type": "stream",
     "text": [
      "\n",
      "--------------------------------------------------\n",
      "\n",
      "--- Configuration flow 1 ---\n",
      "     Configuration \\(\\mathbf{S}_{1}\\):\n"
     ]
    },
    {
     "data": {
      "text/latex": [
       "$\\displaystyle \\left[\\begin{matrix}0.5 & 0.5 & 0.5 & -0.5 & 0.5 & -0.5 & -0.5 & 0.5 & 0.5 & -0.5\\\\-0.5 & 0.5 & 0.5 & 0.5 & 0.5 & 0.5 & -0.5 & -0.5 & -0.5 & -0.5\\\\0.5 & -0.5 & -0.5 & -0.5 & -0.5 & -0.5 & 0.5 & -0.5 & -0.5 & -0.5\\\\-0.5 & 0.5 & 0.5 & 0.5 & 0.5 & 0.5 & -0.5 & 0.5 & 0.5 & -0.5\\\\-0.5 & 0.5 & 0.5 & 0.5 & 0.5 & 0.5 & -0.5 & 0.5 & -0.5 & 0.5\\\\-0.5 & -0.5 & -0.5 & 0.5 & -0.5 & 0.5 & -0.5 & 0.5 & 0.5 & -0.5\\\\-0.5 & -0.5 & -0.5 & -0.5 & 0.5 & 0.5 & -0.5 & 0.5 & 0.5 & 0.5\\\\-0.5 & -0.5 & -0.5 & 0.5 & 0.5 & -0.5 & -0.5 & 0.5 & -0.5 & 0.5\\\\-0.5 & 0.5 & 0.5 & -0.5 & -0.5 & 0.5 & -0.5 & 0.5 & 0.5 & 0.5\\\\0.5 & 0.5 & -0.5 & -0.5 & -0.5 & -0.5 & 0.5 & -0.5 & 0.5 & -0.5\\end{matrix}\\right]$"
      ],
      "text/plain": [
       "Matrix([\n",
       "[ 0.5,  0.5,  0.5, -0.5,  0.5, -0.5, -0.5,  0.5,  0.5, -0.5],\n",
       "[-0.5,  0.5,  0.5,  0.5,  0.5,  0.5, -0.5, -0.5, -0.5, -0.5],\n",
       "[ 0.5, -0.5, -0.5, -0.5, -0.5, -0.5,  0.5, -0.5, -0.5, -0.5],\n",
       "[-0.5,  0.5,  0.5,  0.5,  0.5,  0.5, -0.5,  0.5,  0.5, -0.5],\n",
       "[-0.5,  0.5,  0.5,  0.5,  0.5,  0.5, -0.5,  0.5, -0.5,  0.5],\n",
       "[-0.5, -0.5, -0.5,  0.5, -0.5,  0.5, -0.5,  0.5,  0.5, -0.5],\n",
       "[-0.5, -0.5, -0.5, -0.5,  0.5,  0.5, -0.5,  0.5,  0.5,  0.5],\n",
       "[-0.5, -0.5, -0.5,  0.5,  0.5, -0.5, -0.5,  0.5, -0.5,  0.5],\n",
       "[-0.5,  0.5,  0.5, -0.5, -0.5,  0.5, -0.5,  0.5,  0.5,  0.5],\n",
       "[ 0.5,  0.5, -0.5, -0.5, -0.5, -0.5,  0.5, -0.5,  0.5, -0.5]])"
      ]
     },
     "metadata": {},
     "output_type": "display_data"
    },
    {
     "name": "stdout",
     "output_type": "stream",
     "text": [
      "    Ansatz \\(f(\\mathbf{S}_{1})\\):\n"
     ]
    },
    {
     "data": {
      "text/latex": [
       "$\\displaystyle \\left[\\begin{matrix}0.10632535920785 + 0.0681857654773016 i & -0.422451718253746 + 0.0886478375884673 i & 0.476758100906728 + 0.147500106389363 i & 0.388247997470647 + 0.270710617466821 i & -0.0800576705415127 + 0.122886646171274 i & 0.366300255179672 + 0.0783994057970958 i & 0.220521135566913 + 0.143159362726003 i & 0.25214479619002 + 0.199821679519959 i & 0.379720868264184 - 0.0732317785944154 i & 0.431937063913073 + 0.110626791389807 i\\end{matrix}\\right]$"
      ],
      "text/plain": [
       "Matrix([[0.10632535920785 + 0.0681857654773016*I, -0.422451718253746 + 0.0886478375884673*I, 0.476758100906728 + 0.147500106389363*I, 0.388247997470647 + 0.270710617466821*I, -0.0800576705415127 + 0.122886646171274*I, 0.366300255179672 + 0.0783994057970958*I, 0.220521135566913 + 0.143159362726003*I, 0.25214479619002 + 0.199821679519959*I, 0.379720868264184 - 0.0732317785944154*I, 0.431937063913073 + 0.110626791389807*I]])"
      ]
     },
     "metadata": {},
     "output_type": "display_data"
    },
    {
     "name": "stdout",
     "output_type": "stream",
     "text": [
      "    Probability \\(P(\\mathbf{S}_{1})\\):\n"
     ]
    },
    {
     "data": {
      "text/latex": [
       "$\\displaystyle \\left[\\begin{matrix}1.0 & 1.0 & 1.0 & 1.0 & 1.0 & 1.0 & 1.0 & 1.0 & 1.0 & 1.0\\end{matrix}\\right]$"
      ],
      "text/plain": [
       "Matrix([[1.0, 1.0, 1.0, 1.0, 1.0, 1.0, 1.0, 1.0, 1.0, 1.0]])"
      ]
     },
     "metadata": {},
     "output_type": "display_data"
    },
    {
     "name": "stdout",
     "output_type": "stream",
     "text": [
      "\n",
      "--------------------------------------------------\n",
      "\n",
      "--- Configuration flow 2 ---\n",
      "     Configuration \\(\\mathbf{S}_{2}\\):\n"
     ]
    },
    {
     "data": {
      "text/latex": [
       "$\\displaystyle \\left[\\begin{matrix}-0.5 & -0.5 & 0.5 & -0.5 & 0.5 & -0.5 & -0.5 & 0.5 & -0.5 & 0.5\\\\0.5 & 0.5 & 0.5 & -0.5 & -0.5 & 0.5 & 0.5 & 0.5 & -0.5 & 0.5\\\\-0.5 & -0.5 & 0.5 & -0.5 & -0.5 & 0.5 & 0.5 & 0.5 & -0.5 & -0.5\\\\0.5 & -0.5 & 0.5 & 0.5 & 0.5 & -0.5 & -0.5 & 0.5 & -0.5 & 0.5\\\\0.5 & -0.5 & -0.5 & 0.5 & 0.5 & 0.5 & -0.5 & 0.5 & 0.5 & 0.5\\\\-0.5 & -0.5 & 0.5 & -0.5 & -0.5 & -0.5 & 0.5 & 0.5 & 0.5 & 0.5\\\\0.5 & -0.5 & -0.5 & -0.5 & -0.5 & 0.5 & -0.5 & -0.5 & 0.5 & -0.5\\\\-0.5 & -0.5 & -0.5 & 0.5 & -0.5 & 0.5 & -0.5 & 0.5 & 0.5 & -0.5\\\\-0.5 & 0.5 & -0.5 & -0.5 & 0.5 & 0.5 & -0.5 & -0.5 & 0.5 & -0.5\\\\0.5 & 0.5 & -0.5 & -0.5 & -0.5 & -0.5 & 0.5 & 0.5 & -0.5 & -0.5\\end{matrix}\\right]$"
      ],
      "text/plain": [
       "Matrix([\n",
       "[-0.5, -0.5,  0.5, -0.5,  0.5, -0.5, -0.5,  0.5, -0.5,  0.5],\n",
       "[ 0.5,  0.5,  0.5, -0.5, -0.5,  0.5,  0.5,  0.5, -0.5,  0.5],\n",
       "[-0.5, -0.5,  0.5, -0.5, -0.5,  0.5,  0.5,  0.5, -0.5, -0.5],\n",
       "[ 0.5, -0.5,  0.5,  0.5,  0.5, -0.5, -0.5,  0.5, -0.5,  0.5],\n",
       "[ 0.5, -0.5, -0.5,  0.5,  0.5,  0.5, -0.5,  0.5,  0.5,  0.5],\n",
       "[-0.5, -0.5,  0.5, -0.5, -0.5, -0.5,  0.5,  0.5,  0.5,  0.5],\n",
       "[ 0.5, -0.5, -0.5, -0.5, -0.5,  0.5, -0.5, -0.5,  0.5, -0.5],\n",
       "[-0.5, -0.5, -0.5,  0.5, -0.5,  0.5, -0.5,  0.5,  0.5, -0.5],\n",
       "[-0.5,  0.5, -0.5, -0.5,  0.5,  0.5, -0.5, -0.5,  0.5, -0.5],\n",
       "[ 0.5,  0.5, -0.5, -0.5, -0.5, -0.5,  0.5,  0.5, -0.5, -0.5]])"
      ]
     },
     "metadata": {},
     "output_type": "display_data"
    },
    {
     "name": "stdout",
     "output_type": "stream",
     "text": [
      "    Ansatz \\(f(\\mathbf{S}_{2})\\):\n"
     ]
    },
    {
     "data": {
      "text/latex": [
       "$\\displaystyle \\left[\\begin{matrix}0.15391040912383 - 0.00805339345866561 i & 0.0590200733773755 + 0.0523173342114108 i & 0.40096887254246 - 0.258434550634401 i & 0.138569076872519 + 0.0912308759591849 i & 0.349721033882914 + 0.0339469961593431 i & 0.5 & 0.246035163522159 + 0.0827719438183845 i & 0.366300255179672 + 0.0783994057970958 i & 0.178870634719293 + 0.273478194266899 i & 0.532410244929099 + 0.07034630418558 i\\end{matrix}\\right]$"
      ],
      "text/plain": [
       "Matrix([[0.15391040912383 - 0.00805339345866561*I, 0.0590200733773755 + 0.0523173342114108*I, 0.40096887254246 - 0.258434550634401*I, 0.138569076872519 + 0.0912308759591849*I, 0.349721033882914 + 0.0339469961593431*I, 0.5, 0.246035163522159 + 0.0827719438183845*I, 0.366300255179672 + 0.0783994057970958*I, 0.178870634719293 + 0.273478194266899*I, 0.532410244929099 + 0.07034630418558*I]])"
      ]
     },
     "metadata": {},
     "output_type": "display_data"
    },
    {
     "name": "stdout",
     "output_type": "stream",
     "text": [
      "    Probability \\(P(\\mathbf{S}_{2})\\):\n"
     ]
    },
    {
     "data": {
      "text/latex": [
       "$\\displaystyle \\left[\\begin{matrix}1.0 & 1.0 & 1.0 & 1.0 & 1.0 & 1.0 & 1.0 & 1.0 & 1.0 & 1.0\\end{matrix}\\right]$"
      ],
      "text/plain": [
       "Matrix([[1.0, 1.0, 1.0, 1.0, 1.0, 1.0, 1.0, 1.0, 1.0, 1.0]])"
      ]
     },
     "metadata": {},
     "output_type": "display_data"
    },
    {
     "name": "stdout",
     "output_type": "stream",
     "text": [
      "\n",
      "--------------------------------------------------\n",
      "\n"
     ]
    }
   ],
   "source": [
    "from general_python.common.plot import MatrixPrinter\n",
    "\n",
    "print(\"Detailed Flow of the Configurations:\\n\")\n",
    "print(f\"  Total number of configurations: {len(configs)}\")\n",
    "print(f\"  Total number of states: {len(states)}\")\n",
    "print(f\"  Total number of probabilities: {len(probabilities)}\\n\")\n",
    "\n",
    "for i in range(len(configs[:3])):\n",
    "    print(f\"--- Configuration flow {i} ---\")\n",
    "    print(\"     Configuration \\\\(\\\\mathbf{S}_{\" + f\"{i}\" + \"}\\\\):\")\n",
    "    MatrixPrinter.print_vector(configs[i])\n",
    "    \n",
    "    print(\"    Ansatz \\\\(f(\\\\mathbf{S}_{\" + f\"{i}\" + \"})\\\\):\")\n",
    "    MatrixPrinter.print_vector(configs_ansatze[i].T)\n",
    "    \n",
    "    print(\"    Probability \\\\(P(\\\\mathbf{S}_{\" + f\"{i}\" + \"})\\\\):\")\n",
    "    MatrixPrinter.print_vector(probabilities[i].T)\n",
    "    print(\"\\n\" + \"-\" * 50 + \"\\n\")\n"
   ]
  },
  {
   "cell_type": "markdown",
   "metadata": {},
   "source": [
    "#### Flattened"
   ]
  },
  {
   "cell_type": "code",
   "execution_count": null,
   "metadata": {},
   "outputs": [
    {
     "name": "stdout",
     "output_type": "stream",
     "text": [
      "Shape of flattened configurations (𝒞): (100, 10)\n",
      "Shape of flattened ansatze (f(𝒞)): (100,)\n",
      "\n",
      "Detailed flow of the configurations:\n",
      "Number of configurations: 100\n",
      "\n",
      "--- Configuration 0 ---\n",
      "\tConfiguration (𝒞):\n",
      "\t [-0.5  0.5  0.5 -0.5  0.5 -0.5 -0.5  0.5  0.5  0.5]\n",
      "'\tAnsatz from sampler (f(𝒞)):\n",
      "\t (0.24310424147924645-0.027635445514439767j)\n",
      "\tAnsatz from the network:\n",
      "\t [0.24310424-0.02763545j]\n",
      "\tVerification (f(𝒞) from network ?= sampler's ansatz): True\n",
      "\n",
      "-------------------------\n",
      "\n",
      "--- Configuration 1 ---\n",
      "\tConfiguration (𝒞):\n",
      "\t [ 0.5 -0.5 -0.5  0.5  0.5 -0.5 -0.5  0.5 -0.5 -0.5]\n",
      "'\tAnsatz from sampler (f(𝒞)):\n",
      "\t (0.2820553779339259+0.35287660247641084j)\n",
      "\tAnsatz from the network:\n",
      "\t [0.28205538+0.3528766j]\n",
      "\tVerification (f(𝒞) from network ?= sampler's ansatz): True\n",
      "\n",
      "-------------------------\n",
      "\n",
      "--- Configuration 2 ---\n",
      "\tConfiguration (𝒞):\n",
      "\t [ 0.5  0.5  0.5 -0.5 -0.5  0.5 -0.5 -0.5  0.5 -0.5]\n",
      "'\tAnsatz from sampler (f(𝒞)):\n",
      "\t (0.3079503552809001+0.2129579745524674j)\n",
      "\tAnsatz from the network:\n",
      "\t [0.30795036+0.21295797j]\n",
      "\tVerification (f(𝒞) from network ?= sampler's ansatz): True\n",
      "\n",
      "-------------------------\n",
      "\n",
      "--- Configuration 3 ---\n",
      "\tConfiguration (𝒞):\n",
      "\t [-0.5 -0.5  0.5  0.5 -0.5 -0.5  0.5 -0.5 -0.5 -0.5]\n",
      "'\tAnsatz from sampler (f(𝒞)):\n",
      "\t (0.25069841278571836+0.058038163420527686j)\n",
      "\tAnsatz from the network:\n",
      "\t [0.25069841+0.05803816j]\n",
      "\tVerification (f(𝒞) from network ?= sampler's ansatz): True\n",
      "\n",
      "-------------------------\n",
      "\n",
      "--- Configuration 4 ---\n",
      "\tConfiguration (𝒞):\n",
      "\t [ 0.5  0.5 -0.5  0.5 -0.5 -0.5  0.5  0.5  0.5  0.5]\n",
      "'\tAnsatz from sampler (f(𝒞)):\n",
      "\t (0.5264107254485989+0.018332420118295247j)\n",
      "\tAnsatz from the network:\n",
      "\t [0.52641073+0.01833242j]\n",
      "\tVerification (f(𝒞) from network ?= sampler's ansatz): True\n",
      "\n",
      "-------------------------\n",
      "\n"
     ]
    }
   ],
   "source": [
    "from general_python.common.plot import MatrixPrinter\n",
    "\n",
    "# -----------------------------------------------------------------\n",
    "# Flatten the configurations and ansatz arrays with a clearer mathematical description\n",
    "#\n",
    "# Let 𝒞 ∈ ℝ^(N×d) represent the configuration matrix, where:\n",
    "#   N = number of samples (configurations)\n",
    "#   d = st_shape[0] (the dimension of each configuration)\n",
    "#\n",
    "# Similarly, for the ansatz values f(𝒞) (one per configuration), we flatten the array.\n",
    "# -----------------------------------------------------------------\n",
    "\n",
    "# Reshape configurations to a 2D array: each row is one configuration vector.\n",
    "configs_flat = configs.reshape(-1, st_shape[0])\n",
    "print(\"Shape of flattened configurations (𝒞):\", configs_flat.shape)\n",
    "\n",
    "# Flatten the ansatze: each configuration has a single ansatz value.\n",
    "configs_ansatze_flat = configs_ansatze.reshape(-1)\n",
    "print(\"Shape of flattened ansatze (f(𝒞)):\", configs_ansatze_flat.shape)\n",
    "\n",
    "print(\"\\nDetailed flow of the configurations:\")\n",
    "print(\"Number of configurations:\", len(configs_flat))\n",
    "print()\n",
    "\n",
    "# -----------------------------------------------------------------\n",
    "# For the first 5 configurations, print:\n",
    "#   - The configuration vector 𝒞ᵢ\n",
    "#   - The ansatz from the network f(𝒞ᵢ)\n",
    "#   - A verification whether f(𝒞ᵢ) matches the ansatz given by the sampler.\n",
    "# -----------------------------------------------------------------\n",
    "for i in range(len(configs_flat[:5])):\n",
    "    print(f\"--- Configuration {i} ---\")\n",
    "    \n",
    "    print(\"\\tConfiguration (𝒞):\")\n",
    "    print(\"\\t\", configs_flat[i])\n",
    "    # MatrixPrinter.print_vector(configs_flat[i]\n",
    "    \n",
    "    print(\"'\\tAnsatz from sampler (f(𝒞)):\")\n",
    "    # Compute the ansatz from the network using the configuration.\n",
    "    print(\"\\t\", configs_ansatze_flat[i])\n",
    "    ansatz_net = net(configs_flat[i])\n",
    "    print(\"\\tAnsatz from the network:\")\n",
    "    print(\"\\t\", ansatz_net)\n",
    "    \n",
    "    # Verify if the network's ansatz equals the sampler's ansatz.\n",
    "    is_same = np.allclose(ansatz_net, configs_ansatze_flat[i])\n",
    "    print(\"\\tVerification (f(𝒞) from network ?= sampler's ansatz):\", is_same)\n",
    "    \n",
    "    print(\"\\n-------------------------\\n\")\n"
   ]
  },
  {
   "cell_type": "markdown",
   "metadata": {},
   "source": [
    "## Solver class"
   ]
  },
  {
   "cell_type": "code",
   "execution_count": 3,
   "metadata": {},
   "outputs": [
    {
     "name": "stderr",
     "output_type": "stream",
     "text": [
      "16_03_2025_04-13_34 [INFO] \t\t->\u001b[34m[<class 'NQS.nqs.NQS'>] Network is holomorphic: True\u001b[0m\n",
      "16_03_2025_04-13_34 [INFO] \t\t->\u001b[34m[<class 'NQS.nqs.NQS'>] Network has analytic gradient: True\u001b[0m\n"
     ]
    }
   ],
   "source": [
    "import NQS.nqs as nqsmodule\n",
    "import Solver.MonteCarlo.sampler as Sampling\n",
    "from Algebra.Model.dummy import DummyHamiltonian\n",
    "from general_python.algebra.utils import get_backend\n",
    "from general_python.ml.net_impl.net_simple import SimpleNet\n",
    "\n",
    "import random\n",
    "import numpy as np\n",
    "\n",
    "# get random backend\n",
    "backend             = 'np'\n",
    "seed                = 1701\n",
    "dtypex              = complex\n",
    "be_modules          = get_backend(backend, random=True, seed=seed, scipy=True)\n",
    "backend_np, (rng, rng_k), backend_sp = be_modules if isinstance(be_modules, tuple) else (be_modules, (None, None), None)\n",
    "\n",
    "# get the network\n",
    "ns                  = 2\n",
    "st_shape            = (ns, )\n",
    "activations         = ('relu', 'sigmoid')\n",
    "net                 = SimpleNet(act_fun =   activations, \n",
    "                        input_shape     =   st_shape, \n",
    "                        output_shape    =   (1, ),\n",
    "                        layers          =   (5, ),\n",
    "                        backend         =   backend_np,\n",
    "                        dtype           =   dtypex)\n",
    "\n",
    "# get the sampler\n",
    "sampler = Sampling.MCSampler(\n",
    "    net         = net,\n",
    "    shape       = st_shape,\n",
    "    rng         = rng,\n",
    "    rng_k       = rng_k,\n",
    "    numchains   = 10,\n",
    "    numsamples  = 50,\n",
    "    sweep_steps = 10,\n",
    "    backend     = backend_np,\n",
    "    therm_steps = 10,\n",
    ")\n",
    "\n",
    "# get the Hamiltonian\n",
    "par                 = 0.5 + 1j * 0.5\n",
    "ham                 = DummyHamiltonian(hilbert_space=None, ns = ns, backend = backend, dtype = net.dtype)\n",
    "batch_size          = 1\n",
    "\n",
    "nqs = nqsmodule.NQS(\n",
    "    net         = net,\n",
    "    sampler     = sampler,\n",
    "    hamiltonian = ham,\n",
    "    lower_betas = None,\n",
    "    lower_states= None,\n",
    "    seed        = seed,\n",
    "    beta        = 1.0,\n",
    "    shape       = st_shape,\n",
    "    backend     = backend_np,\n",
    "    nthread     = 1,\n",
    "    batch_size  = batch_size,\n",
    ")"
   ]
  },
  {
   "cell_type": "markdown",
   "metadata": {},
   "source": [
    "#### Short test of network"
   ]
  },
  {
   "cell_type": "code",
   "execution_count": 6,
   "metadata": {},
   "outputs": [
    {
     "data": {
      "text/plain": [
       "(array([[0.97631688-0.15440721j],\n",
       "        [0.48459178+0.30177162j],\n",
       "        [0.35515613-0.50079351j],\n",
       "        [0.40616546+0.03434956j],\n",
       "        [0.97631688-0.15440721j],\n",
       "        [0.97631688-0.15440721j],\n",
       "        [0.40616546+0.03434956j],\n",
       "        [0.40616546+0.03434956j],\n",
       "        [0.40616546+0.03434956j],\n",
       "        [0.97631688-0.15440721j]]),\n",
       " (10, 1))"
      ]
     },
     "execution_count": 6,
     "metadata": {},
     "output_type": "execute_result"
    }
   ],
   "source": [
    "states      = np.random.choice([-1,1], size=(10, ns), replace=True)\n",
    "params      = net.get_params()\n",
    "if backend == 'jax':\n",
    "    import jax.numpy as jnp\n",
    "    states  = jnp.array(states)\n",
    "    ansatz  = net(params, states)\n",
    "else:\n",
    "    import numpy as np\n",
    "    ansatz  = net(params, states)\n",
    "ansatz = ansatz.reshape(-1, 1)\n",
    "ansatz, ansatz.shape"
   ]
  },
  {
   "cell_type": "markdown",
   "metadata": {},
   "source": [
    "#### Short test of sampler"
   ]
  },
  {
   "cell_type": "code",
   "execution_count": 3,
   "metadata": {},
   "outputs": [
    {
     "data": {
      "text/plain": [
       "(50, 10, 1)"
      ]
     },
     "execution_count": 3,
     "metadata": {},
     "output_type": "execute_result"
    }
   ],
   "source": [
    "# sample the configurations\n",
    "(states, logprobas), (configs, configs_ansatze), probabilities = sampler.sample()\n",
    "\n",
    "# flatten the configurations\n",
    "configs_flat            = configs.reshape(-1, st_shape[0])\n",
    "configs_ansatze_flat    = configs_ansatze.reshape(-1)\n",
    "configs_ansatze.shape"
   ]
  },
  {
   "cell_type": "code",
   "execution_count": 4,
   "metadata": {},
   "outputs": [
    {
     "data": {
      "text/plain": [
       "array([[0.80586313-0.01832699j],\n",
       "       [0.87038858-0.03147754j],\n",
       "       [0.80586313-0.01832699j],\n",
       "       [1.0154514 -0.15119993j],\n",
       "       [0.94425147-0.05701029j],\n",
       "       [0.94425147-0.05701029j],\n",
       "       [0.80586313-0.01832699j],\n",
       "       [0.94425147-0.05701029j],\n",
       "       [1.0154514 -0.15119993j],\n",
       "       [0.80586313-0.01832699j],\n",
       "       [0.87038858-0.03147754j],\n",
       "       [1.0154514 -0.15119993j],\n",
       "       [0.80586313-0.01832699j],\n",
       "       [0.87038858-0.03147754j],\n",
       "       [0.87038858-0.03147754j],\n",
       "       [1.0154514 -0.15119993j],\n",
       "       [0.80586313-0.01832699j],\n",
       "       [0.94425147-0.05701029j],\n",
       "       [1.0154514 -0.15119993j],\n",
       "       [1.0154514 -0.15119993j],\n",
       "       [0.94425147-0.05701029j],\n",
       "       [1.0154514 -0.15119993j],\n",
       "       [0.87038858-0.03147754j],\n",
       "       [0.87038858-0.03147754j],\n",
       "       [0.87038858-0.03147754j],\n",
       "       [0.80586313-0.01832699j],\n",
       "       [0.87038858-0.03147754j],\n",
       "       [1.0154514 -0.15119993j],\n",
       "       [1.0154514 -0.15119993j],\n",
       "       [0.87038858-0.03147754j],\n",
       "       [0.94425147-0.05701029j],\n",
       "       [0.94425147-0.05701029j],\n",
       "       [0.80586313-0.01832699j],\n",
       "       [0.80586313-0.01832699j],\n",
       "       [0.80586313-0.01832699j],\n",
       "       [1.0154514 -0.15119993j],\n",
       "       [0.87038858-0.03147754j],\n",
       "       [1.0154514 -0.15119993j],\n",
       "       [1.0154514 -0.15119993j],\n",
       "       [0.94425147-0.05701029j],\n",
       "       [0.94425147-0.05701029j],\n",
       "       [0.87038858-0.03147754j],\n",
       "       [0.87038858-0.03147754j],\n",
       "       [0.94425147-0.05701029j],\n",
       "       [0.94425147-0.05701029j],\n",
       "       [0.87038858-0.03147754j],\n",
       "       [0.87038858-0.03147754j],\n",
       "       [0.87038858-0.03147754j],\n",
       "       [0.80586313-0.01832699j],\n",
       "       [0.80586313-0.01832699j],\n",
       "       [0.87038858-0.03147754j],\n",
       "       [0.87038858-0.03147754j],\n",
       "       [0.80586313-0.01832699j],\n",
       "       [0.94425147-0.05701029j],\n",
       "       [0.94425147-0.05701029j],\n",
       "       [1.0154514 -0.15119993j],\n",
       "       [0.87038858-0.03147754j],\n",
       "       [0.94425147-0.05701029j],\n",
       "       [1.0154514 -0.15119993j],\n",
       "       [1.0154514 -0.15119993j],\n",
       "       [1.0154514 -0.15119993j],\n",
       "       [0.87038858-0.03147754j],\n",
       "       [1.0154514 -0.15119993j],\n",
       "       [0.87038858-0.03147754j],\n",
       "       [0.80586313-0.01832699j],\n",
       "       [0.87038858-0.03147754j],\n",
       "       [1.0154514 -0.15119993j],\n",
       "       [0.87038858-0.03147754j],\n",
       "       [0.87038858-0.03147754j],\n",
       "       [0.94425147-0.05701029j],\n",
       "       [0.94425147-0.05701029j],\n",
       "       [1.0154514 -0.15119993j],\n",
       "       [1.0154514 -0.15119993j],\n",
       "       [0.94425147-0.05701029j],\n",
       "       [0.80586313-0.01832699j],\n",
       "       [1.0154514 -0.15119993j],\n",
       "       [1.0154514 -0.15119993j],\n",
       "       [0.80586313-0.01832699j],\n",
       "       [0.94425147-0.05701029j],\n",
       "       [0.94425147-0.05701029j],\n",
       "       [0.94425147-0.05701029j],\n",
       "       [0.87038858-0.03147754j],\n",
       "       [0.80586313-0.01832699j],\n",
       "       [0.80586313-0.01832699j],\n",
       "       [0.80586313-0.01832699j],\n",
       "       [0.80586313-0.01832699j],\n",
       "       [0.87038858-0.03147754j],\n",
       "       [1.0154514 -0.15119993j],\n",
       "       [0.94425147-0.05701029j],\n",
       "       [0.94425147-0.05701029j],\n",
       "       [0.94425147-0.05701029j],\n",
       "       [0.87038858-0.03147754j],\n",
       "       [0.87038858-0.03147754j],\n",
       "       [0.80586313-0.01832699j],\n",
       "       [1.0154514 -0.15119993j],\n",
       "       [1.0154514 -0.15119993j],\n",
       "       [0.94425147-0.05701029j],\n",
       "       [0.87038858-0.03147754j],\n",
       "       [1.0154514 -0.15119993j],\n",
       "       [0.87038858-0.03147754j],\n",
       "       [0.87038858-0.03147754j],\n",
       "       [0.94425147-0.05701029j],\n",
       "       [1.0154514 -0.15119993j],\n",
       "       [0.80586313-0.01832699j],\n",
       "       [1.0154514 -0.15119993j],\n",
       "       [0.94425147-0.05701029j],\n",
       "       [0.94425147-0.05701029j],\n",
       "       [0.80586313-0.01832699j],\n",
       "       [0.80586313-0.01832699j],\n",
       "       [0.94425147-0.05701029j],\n",
       "       [0.87038858-0.03147754j],\n",
       "       [0.87038858-0.03147754j],\n",
       "       [0.94425147-0.05701029j],\n",
       "       [1.0154514 -0.15119993j],\n",
       "       [0.80586313-0.01832699j],\n",
       "       [0.87038858-0.03147754j],\n",
       "       [0.94425147-0.05701029j],\n",
       "       [0.87038858-0.03147754j],\n",
       "       [0.87038858-0.03147754j],\n",
       "       [0.80586313-0.01832699j],\n",
       "       [1.0154514 -0.15119993j],\n",
       "       [0.94425147-0.05701029j],\n",
       "       [0.87038858-0.03147754j],\n",
       "       [0.87038858-0.03147754j],\n",
       "       [1.0154514 -0.15119993j],\n",
       "       [0.87038858-0.03147754j],\n",
       "       [0.94425147-0.05701029j],\n",
       "       [0.94425147-0.05701029j],\n",
       "       [0.87038858-0.03147754j],\n",
       "       [1.0154514 -0.15119993j],\n",
       "       [0.80586313-0.01832699j],\n",
       "       [0.87038858-0.03147754j],\n",
       "       [0.87038858-0.03147754j],\n",
       "       [0.94425147-0.05701029j],\n",
       "       [0.87038858-0.03147754j],\n",
       "       [0.87038858-0.03147754j],\n",
       "       [0.94425147-0.05701029j],\n",
       "       [1.0154514 -0.15119993j],\n",
       "       [0.87038858-0.03147754j],\n",
       "       [1.0154514 -0.15119993j],\n",
       "       [1.0154514 -0.15119993j],\n",
       "       [0.87038858-0.03147754j],\n",
       "       [0.80586313-0.01832699j],\n",
       "       [0.87038858-0.03147754j],\n",
       "       [0.87038858-0.03147754j],\n",
       "       [0.87038858-0.03147754j],\n",
       "       [0.80586313-0.01832699j],\n",
       "       [1.0154514 -0.15119993j],\n",
       "       [1.0154514 -0.15119993j],\n",
       "       [0.80586313-0.01832699j],\n",
       "       [0.87038858-0.03147754j],\n",
       "       [0.87038858-0.03147754j],\n",
       "       [0.94425147-0.05701029j],\n",
       "       [0.94425147-0.05701029j],\n",
       "       [0.94425147-0.05701029j],\n",
       "       [0.80586313-0.01832699j],\n",
       "       [1.0154514 -0.15119993j],\n",
       "       [0.80586313-0.01832699j],\n",
       "       [1.0154514 -0.15119993j],\n",
       "       [0.80586313-0.01832699j],\n",
       "       [0.87038858-0.03147754j],\n",
       "       [0.94425147-0.05701029j],\n",
       "       [0.94425147-0.05701029j],\n",
       "       [0.94425147-0.05701029j],\n",
       "       [0.80586313-0.01832699j],\n",
       "       [0.87038858-0.03147754j],\n",
       "       [0.87038858-0.03147754j],\n",
       "       [0.94425147-0.05701029j],\n",
       "       [0.94425147-0.05701029j],\n",
       "       [0.80586313-0.01832699j],\n",
       "       [0.94425147-0.05701029j],\n",
       "       [0.87038858-0.03147754j],\n",
       "       [1.0154514 -0.15119993j],\n",
       "       [0.87038858-0.03147754j],\n",
       "       [1.0154514 -0.15119993j],\n",
       "       [0.94425147-0.05701029j],\n",
       "       [1.0154514 -0.15119993j],\n",
       "       [0.94425147-0.05701029j],\n",
       "       [0.94425147-0.05701029j],\n",
       "       [0.80586313-0.01832699j],\n",
       "       [1.0154514 -0.15119993j],\n",
       "       [1.0154514 -0.15119993j],\n",
       "       [0.80586313-0.01832699j],\n",
       "       [0.80586313-0.01832699j],\n",
       "       [0.87038858-0.03147754j],\n",
       "       [0.87038858-0.03147754j],\n",
       "       [0.80586313-0.01832699j],\n",
       "       [1.0154514 -0.15119993j],\n",
       "       [0.94425147-0.05701029j],\n",
       "       [0.94425147-0.05701029j],\n",
       "       [0.87038858-0.03147754j],\n",
       "       [1.0154514 -0.15119993j],\n",
       "       [0.94425147-0.05701029j],\n",
       "       [0.80586313-0.01832699j],\n",
       "       [1.0154514 -0.15119993j],\n",
       "       [0.87038858-0.03147754j],\n",
       "       [0.94425147-0.05701029j],\n",
       "       [0.80586313-0.01832699j],\n",
       "       [0.94425147-0.05701029j],\n",
       "       [0.87038858-0.03147754j],\n",
       "       [0.87038858-0.03147754j],\n",
       "       [0.87038858-0.03147754j],\n",
       "       [0.87038858-0.03147754j],\n",
       "       [0.80586313-0.01832699j],\n",
       "       [0.80586313-0.01832699j],\n",
       "       [1.0154514 -0.15119993j],\n",
       "       [1.0154514 -0.15119993j],\n",
       "       [1.0154514 -0.15119993j],\n",
       "       [0.94425147-0.05701029j],\n",
       "       [0.87038858-0.03147754j],\n",
       "       [1.0154514 -0.15119993j],\n",
       "       [0.94425147-0.05701029j],\n",
       "       [1.0154514 -0.15119993j],\n",
       "       [0.80586313-0.01832699j],\n",
       "       [1.0154514 -0.15119993j],\n",
       "       [0.80586313-0.01832699j],\n",
       "       [1.0154514 -0.15119993j],\n",
       "       [1.0154514 -0.15119993j],\n",
       "       [0.94425147-0.05701029j],\n",
       "       [1.0154514 -0.15119993j],\n",
       "       [1.0154514 -0.15119993j],\n",
       "       [1.0154514 -0.15119993j],\n",
       "       [0.87038858-0.03147754j],\n",
       "       [1.0154514 -0.15119993j],\n",
       "       [0.80586313-0.01832699j],\n",
       "       [1.0154514 -0.15119993j],\n",
       "       [1.0154514 -0.15119993j],\n",
       "       [1.0154514 -0.15119993j],\n",
       "       [0.87038858-0.03147754j],\n",
       "       [0.80586313-0.01832699j],\n",
       "       [0.94425147-0.05701029j],\n",
       "       [0.80586313-0.01832699j],\n",
       "       [0.87038858-0.03147754j],\n",
       "       [1.0154514 -0.15119993j],\n",
       "       [0.87038858-0.03147754j],\n",
       "       [1.0154514 -0.15119993j],\n",
       "       [1.0154514 -0.15119993j],\n",
       "       [0.80586313-0.01832699j],\n",
       "       [0.94425147-0.05701029j],\n",
       "       [0.80586313-0.01832699j],\n",
       "       [0.80586313-0.01832699j],\n",
       "       [0.80586313-0.01832699j],\n",
       "       [0.87038858-0.03147754j],\n",
       "       [1.0154514 -0.15119993j],\n",
       "       [0.94425147-0.05701029j],\n",
       "       [0.80586313-0.01832699j],\n",
       "       [0.94425147-0.05701029j],\n",
       "       [0.80586313-0.01832699j],\n",
       "       [0.87038858-0.03147754j],\n",
       "       [0.80586313-0.01832699j],\n",
       "       [1.0154514 -0.15119993j],\n",
       "       [1.0154514 -0.15119993j],\n",
       "       [0.80586313-0.01832699j],\n",
       "       [1.0154514 -0.15119993j],\n",
       "       [0.80586313-0.01832699j],\n",
       "       [0.80586313-0.01832699j],\n",
       "       [0.94425147-0.05701029j],\n",
       "       [0.80586313-0.01832699j],\n",
       "       [1.0154514 -0.15119993j],\n",
       "       [0.80586313-0.01832699j],\n",
       "       [0.80586313-0.01832699j],\n",
       "       [0.80586313-0.01832699j],\n",
       "       [0.80586313-0.01832699j],\n",
       "       [0.80586313-0.01832699j],\n",
       "       [1.0154514 -0.15119993j],\n",
       "       [0.80586313-0.01832699j],\n",
       "       [0.94425147-0.05701029j],\n",
       "       [0.80586313-0.01832699j],\n",
       "       [1.0154514 -0.15119993j],\n",
       "       [0.87038858-0.03147754j],\n",
       "       [0.80586313-0.01832699j],\n",
       "       [0.80586313-0.01832699j],\n",
       "       [0.80586313-0.01832699j],\n",
       "       [0.80586313-0.01832699j],\n",
       "       [0.80586313-0.01832699j],\n",
       "       [0.80586313-0.01832699j],\n",
       "       [0.80586313-0.01832699j],\n",
       "       [0.80586313-0.01832699j],\n",
       "       [0.80586313-0.01832699j],\n",
       "       [0.87038858-0.03147754j],\n",
       "       [1.0154514 -0.15119993j],\n",
       "       [0.87038858-0.03147754j],\n",
       "       [1.0154514 -0.15119993j],\n",
       "       [0.94425147-0.05701029j],\n",
       "       [0.94425147-0.05701029j],\n",
       "       [0.80586313-0.01832699j],\n",
       "       [0.94425147-0.05701029j],\n",
       "       [0.94425147-0.05701029j],\n",
       "       [0.94425147-0.05701029j],\n",
       "       [0.87038858-0.03147754j],\n",
       "       [0.94425147-0.05701029j],\n",
       "       [0.87038858-0.03147754j],\n",
       "       [0.80586313-0.01832699j],\n",
       "       [1.0154514 -0.15119993j],\n",
       "       [0.87038858-0.03147754j],\n",
       "       [1.0154514 -0.15119993j],\n",
       "       [0.87038858-0.03147754j],\n",
       "       [0.94425147-0.05701029j],\n",
       "       [0.94425147-0.05701029j],\n",
       "       [0.80586313-0.01832699j],\n",
       "       [0.94425147-0.05701029j],\n",
       "       [0.94425147-0.05701029j],\n",
       "       [0.94425147-0.05701029j],\n",
       "       [1.0154514 -0.15119993j],\n",
       "       [0.80586313-0.01832699j],\n",
       "       [0.94425147-0.05701029j],\n",
       "       [0.87038858-0.03147754j],\n",
       "       [1.0154514 -0.15119993j],\n",
       "       [0.87038858-0.03147754j],\n",
       "       [1.0154514 -0.15119993j],\n",
       "       [0.87038858-0.03147754j],\n",
       "       [0.80586313-0.01832699j],\n",
       "       [0.87038858-0.03147754j],\n",
       "       [0.87038858-0.03147754j],\n",
       "       [0.94425147-0.05701029j],\n",
       "       [0.80586313-0.01832699j],\n",
       "       [0.87038858-0.03147754j],\n",
       "       [0.94425147-0.05701029j],\n",
       "       [1.0154514 -0.15119993j],\n",
       "       [0.80586313-0.01832699j],\n",
       "       [0.94425147-0.05701029j],\n",
       "       [0.87038858-0.03147754j],\n",
       "       [1.0154514 -0.15119993j],\n",
       "       [0.87038858-0.03147754j],\n",
       "       [0.87038858-0.03147754j],\n",
       "       [0.80586313-0.01832699j],\n",
       "       [0.80586313-0.01832699j],\n",
       "       [0.94425147-0.05701029j],\n",
       "       [0.80586313-0.01832699j],\n",
       "       [0.80586313-0.01832699j],\n",
       "       [1.0154514 -0.15119993j],\n",
       "       [0.87038858-0.03147754j],\n",
       "       [0.80586313-0.01832699j],\n",
       "       [0.80586313-0.01832699j],\n",
       "       [0.87038858-0.03147754j],\n",
       "       [1.0154514 -0.15119993j],\n",
       "       [1.0154514 -0.15119993j],\n",
       "       [0.94425147-0.05701029j],\n",
       "       [0.87038858-0.03147754j],\n",
       "       [0.87038858-0.03147754j],\n",
       "       [0.80586313-0.01832699j],\n",
       "       [0.94425147-0.05701029j],\n",
       "       [1.0154514 -0.15119993j],\n",
       "       [1.0154514 -0.15119993j],\n",
       "       [1.0154514 -0.15119993j],\n",
       "       [0.80586313-0.01832699j],\n",
       "       [1.0154514 -0.15119993j],\n",
       "       [0.87038858-0.03147754j],\n",
       "       [0.87038858-0.03147754j],\n",
       "       [0.87038858-0.03147754j],\n",
       "       [0.80586313-0.01832699j],\n",
       "       [0.94425147-0.05701029j],\n",
       "       [0.94425147-0.05701029j],\n",
       "       [0.80586313-0.01832699j],\n",
       "       [0.94425147-0.05701029j],\n",
       "       [1.0154514 -0.15119993j],\n",
       "       [0.94425147-0.05701029j],\n",
       "       [1.0154514 -0.15119993j],\n",
       "       [0.94425147-0.05701029j],\n",
       "       [1.0154514 -0.15119993j],\n",
       "       [0.94425147-0.05701029j],\n",
       "       [0.94425147-0.05701029j],\n",
       "       [0.87038858-0.03147754j],\n",
       "       [1.0154514 -0.15119993j],\n",
       "       [0.94425147-0.05701029j],\n",
       "       [0.80586313-0.01832699j],\n",
       "       [0.87038858-0.03147754j],\n",
       "       [0.80586313-0.01832699j],\n",
       "       [0.80586313-0.01832699j],\n",
       "       [1.0154514 -0.15119993j],\n",
       "       [0.94425147-0.05701029j],\n",
       "       [0.94425147-0.05701029j],\n",
       "       [0.94425147-0.05701029j],\n",
       "       [0.80586313-0.01832699j],\n",
       "       [0.87038858-0.03147754j],\n",
       "       [1.0154514 -0.15119993j],\n",
       "       [0.94425147-0.05701029j],\n",
       "       [0.80586313-0.01832699j],\n",
       "       [1.0154514 -0.15119993j],\n",
       "       [1.0154514 -0.15119993j],\n",
       "       [0.94425147-0.05701029j],\n",
       "       [0.94425147-0.05701029j],\n",
       "       [0.80586313-0.01832699j],\n",
       "       [0.80586313-0.01832699j],\n",
       "       [0.94425147-0.05701029j],\n",
       "       [1.0154514 -0.15119993j],\n",
       "       [1.0154514 -0.15119993j],\n",
       "       [0.80586313-0.01832699j],\n",
       "       [0.87038858-0.03147754j],\n",
       "       [0.94425147-0.05701029j],\n",
       "       [0.94425147-0.05701029j],\n",
       "       [0.94425147-0.05701029j],\n",
       "       [0.87038858-0.03147754j],\n",
       "       [1.0154514 -0.15119993j],\n",
       "       [0.87038858-0.03147754j],\n",
       "       [0.94425147-0.05701029j],\n",
       "       [1.0154514 -0.15119993j],\n",
       "       [0.94425147-0.05701029j],\n",
       "       [0.80586313-0.01832699j],\n",
       "       [0.87038858-0.03147754j],\n",
       "       [0.87038858-0.03147754j],\n",
       "       [0.94425147-0.05701029j],\n",
       "       [1.0154514 -0.15119993j],\n",
       "       [1.0154514 -0.15119993j],\n",
       "       [0.94425147-0.05701029j],\n",
       "       [0.94425147-0.05701029j],\n",
       "       [0.80586313-0.01832699j],\n",
       "       [0.87038858-0.03147754j],\n",
       "       [1.0154514 -0.15119993j],\n",
       "       [0.94425147-0.05701029j],\n",
       "       [0.87038858-0.03147754j],\n",
       "       [0.94425147-0.05701029j],\n",
       "       [1.0154514 -0.15119993j],\n",
       "       [0.80586313-0.01832699j],\n",
       "       [0.94425147-0.05701029j],\n",
       "       [1.0154514 -0.15119993j],\n",
       "       [1.0154514 -0.15119993j],\n",
       "       [0.94425147-0.05701029j],\n",
       "       [0.94425147-0.05701029j],\n",
       "       [0.94425147-0.05701029j],\n",
       "       [0.87038858-0.03147754j],\n",
       "       [0.87038858-0.03147754j],\n",
       "       [0.87038858-0.03147754j],\n",
       "       [0.80586313-0.01832699j],\n",
       "       [0.94425147-0.05701029j],\n",
       "       [0.87038858-0.03147754j],\n",
       "       [0.80586313-0.01832699j],\n",
       "       [0.94425147-0.05701029j],\n",
       "       [0.87038858-0.03147754j],\n",
       "       [1.0154514 -0.15119993j],\n",
       "       [1.0154514 -0.15119993j],\n",
       "       [0.80586313-0.01832699j],\n",
       "       [0.87038858-0.03147754j],\n",
       "       [0.80586313-0.01832699j],\n",
       "       [0.87038858-0.03147754j],\n",
       "       [0.87038858-0.03147754j],\n",
       "       [1.0154514 -0.15119993j],\n",
       "       [0.94425147-0.05701029j],\n",
       "       [0.87038858-0.03147754j],\n",
       "       [0.87038858-0.03147754j],\n",
       "       [0.87038858-0.03147754j],\n",
       "       [0.94425147-0.05701029j],\n",
       "       [1.0154514 -0.15119993j],\n",
       "       [0.80586313-0.01832699j],\n",
       "       [0.87038858-0.03147754j],\n",
       "       [0.87038858-0.03147754j],\n",
       "       [0.80586313-0.01832699j],\n",
       "       [0.87038858-0.03147754j],\n",
       "       [0.80586313-0.01832699j],\n",
       "       [0.80586313-0.01832699j],\n",
       "       [0.87038858-0.03147754j],\n",
       "       [0.87038858-0.03147754j],\n",
       "       [0.87038858-0.03147754j],\n",
       "       [0.87038858-0.03147754j],\n",
       "       [0.87038858-0.03147754j],\n",
       "       [0.94425147-0.05701029j],\n",
       "       [0.94425147-0.05701029j],\n",
       "       [1.0154514 -0.15119993j],\n",
       "       [1.0154514 -0.15119993j],\n",
       "       [1.0154514 -0.15119993j],\n",
       "       [0.87038858-0.03147754j],\n",
       "       [0.87038858-0.03147754j],\n",
       "       [0.94425147-0.05701029j],\n",
       "       [0.94425147-0.05701029j],\n",
       "       [0.87038858-0.03147754j],\n",
       "       [1.0154514 -0.15119993j],\n",
       "       [1.0154514 -0.15119993j],\n",
       "       [0.87038858-0.03147754j],\n",
       "       [1.0154514 -0.15119993j],\n",
       "       [0.80586313-0.01832699j],\n",
       "       [0.94425147-0.05701029j],\n",
       "       [0.87038858-0.03147754j],\n",
       "       [0.80586313-0.01832699j],\n",
       "       [0.94425147-0.05701029j],\n",
       "       [0.80586313-0.01832699j],\n",
       "       [0.87038858-0.03147754j],\n",
       "       [1.0154514 -0.15119993j],\n",
       "       [0.94425147-0.05701029j],\n",
       "       [0.80586313-0.01832699j],\n",
       "       [0.87038858-0.03147754j],\n",
       "       [0.80586313-0.01832699j],\n",
       "       [1.0154514 -0.15119993j],\n",
       "       [1.0154514 -0.15119993j],\n",
       "       [0.87038858-0.03147754j],\n",
       "       [0.80586313-0.01832699j],\n",
       "       [0.80586313-0.01832699j],\n",
       "       [1.0154514 -0.15119993j],\n",
       "       [0.94425147-0.05701029j],\n",
       "       [1.0154514 -0.15119993j],\n",
       "       [0.87038858-0.03147754j],\n",
       "       [0.94425147-0.05701029j],\n",
       "       [1.0154514 -0.15119993j],\n",
       "       [0.80586313-0.01832699j],\n",
       "       [0.87038858-0.03147754j],\n",
       "       [1.0154514 -0.15119993j],\n",
       "       [0.80586313-0.01832699j],\n",
       "       [0.87038858-0.03147754j],\n",
       "       [0.87038858-0.03147754j],\n",
       "       [0.87038858-0.03147754j],\n",
       "       [0.80586313-0.01832699j]])"
      ]
     },
     "execution_count": 4,
     "metadata": {},
     "output_type": "execute_result"
    }
   ],
   "source": [
    "# evaluate the network to test for a given config and check the match\n",
    "ansatz_net = nqs(configs_flat)\n",
    "ansatz_net.shape\n",
    "ansatz_net"
   ]
  },
  {
   "cell_type": "code",
   "execution_count": 5,
   "metadata": {},
   "outputs": [
    {
     "data": {
      "text/plain": [
       "(array([[0.87038858-0.03147754j],\n",
       "        [0.80586313-0.01832699j],\n",
       "        [0.94425147-0.05701029j],\n",
       "        [0.87038858-0.03147754j],\n",
       "        [0.87038858-0.03147754j],\n",
       "        [0.80586313-0.01832699j],\n",
       "        [0.94425147-0.05701029j],\n",
       "        [1.0154514 -0.15119993j],\n",
       "        [0.94425147-0.05701029j],\n",
       "        [0.94425147-0.05701029j],\n",
       "        [0.94425147-0.05701029j],\n",
       "        [1.0154514 -0.15119993j],\n",
       "        [0.87038858-0.03147754j],\n",
       "        [1.0154514 -0.15119993j],\n",
       "        [0.94425147-0.05701029j],\n",
       "        [1.0154514 -0.15119993j],\n",
       "        [0.87038858-0.03147754j],\n",
       "        [0.80586313-0.01832699j],\n",
       "        [0.80586313-0.01832699j],\n",
       "        [0.87038858-0.03147754j],\n",
       "        [1.0154514 -0.15119993j],\n",
       "        [1.0154514 -0.15119993j],\n",
       "        [0.94425147-0.05701029j],\n",
       "        [0.80586313-0.01832699j],\n",
       "        [0.87038858-0.03147754j],\n",
       "        [1.0154514 -0.15119993j],\n",
       "        [0.94425147-0.05701029j],\n",
       "        [0.80586313-0.01832699j],\n",
       "        [1.0154514 -0.15119993j],\n",
       "        [0.87038858-0.03147754j],\n",
       "        [1.0154514 -0.15119993j],\n",
       "        [0.94425147-0.05701029j],\n",
       "        [0.87038858-0.03147754j],\n",
       "        [1.0154514 -0.15119993j],\n",
       "        [0.87038858-0.03147754j],\n",
       "        [1.0154514 -0.15119993j],\n",
       "        [0.94425147-0.05701029j],\n",
       "        [1.0154514 -0.15119993j],\n",
       "        [0.94425147-0.05701029j],\n",
       "        [0.87038858-0.03147754j],\n",
       "        [0.94425147-0.05701029j],\n",
       "        [0.80586313-0.01832699j],\n",
       "        [0.94425147-0.05701029j],\n",
       "        [0.80586313-0.01832699j],\n",
       "        [1.0154514 -0.15119993j],\n",
       "        [1.0154514 -0.15119993j],\n",
       "        [0.87038858-0.03147754j],\n",
       "        [0.87038858-0.03147754j],\n",
       "        [0.87038858-0.03147754j],\n",
       "        [0.94425147-0.05701029j],\n",
       "        [0.87038858-0.03147754j],\n",
       "        [0.94425147-0.05701029j],\n",
       "        [0.80586313-0.01832699j],\n",
       "        [0.94425147-0.05701029j],\n",
       "        [0.80586313-0.01832699j],\n",
       "        [1.0154514 -0.15119993j],\n",
       "        [0.94425147-0.05701029j],\n",
       "        [0.87038858-0.03147754j],\n",
       "        [0.94425147-0.05701029j],\n",
       "        [0.80586313-0.01832699j],\n",
       "        [0.94425147-0.05701029j],\n",
       "        [0.94425147-0.05701029j],\n",
       "        [1.0154514 -0.15119993j],\n",
       "        [0.87038858-0.03147754j],\n",
       "        [0.87038858-0.03147754j],\n",
       "        [1.0154514 -0.15119993j],\n",
       "        [1.0154514 -0.15119993j],\n",
       "        [0.87038858-0.03147754j],\n",
       "        [0.80586313-0.01832699j],\n",
       "        [1.0154514 -0.15119993j],\n",
       "        [0.94425147-0.05701029j],\n",
       "        [0.87038858-0.03147754j],\n",
       "        [1.0154514 -0.15119993j],\n",
       "        [0.87038858-0.03147754j],\n",
       "        [0.94425147-0.05701029j],\n",
       "        [0.87038858-0.03147754j],\n",
       "        [1.0154514 -0.15119993j],\n",
       "        [0.87038858-0.03147754j],\n",
       "        [0.80586313-0.01832699j],\n",
       "        [1.0154514 -0.15119993j],\n",
       "        [0.87038858-0.03147754j],\n",
       "        [0.94425147-0.05701029j],\n",
       "        [0.80586313-0.01832699j],\n",
       "        [0.94425147-0.05701029j],\n",
       "        [0.80586313-0.01832699j],\n",
       "        [0.94425147-0.05701029j],\n",
       "        [0.94425147-0.05701029j],\n",
       "        [0.87038858-0.03147754j],\n",
       "        [1.0154514 -0.15119993j],\n",
       "        [0.87038858-0.03147754j],\n",
       "        [1.0154514 -0.15119993j],\n",
       "        [0.87038858-0.03147754j],\n",
       "        [0.87038858-0.03147754j],\n",
       "        [0.87038858-0.03147754j],\n",
       "        [1.0154514 -0.15119993j],\n",
       "        [0.94425147-0.05701029j],\n",
       "        [0.94425147-0.05701029j],\n",
       "        [0.80586313-0.01832699j],\n",
       "        [0.87038858-0.03147754j],\n",
       "        [0.94425147-0.05701029j],\n",
       "        [0.80586313-0.01832699j],\n",
       "        [0.94425147-0.05701029j],\n",
       "        [0.94425147-0.05701029j],\n",
       "        [0.94425147-0.05701029j],\n",
       "        [0.94425147-0.05701029j],\n",
       "        [0.87038858-0.03147754j],\n",
       "        [0.94425147-0.05701029j],\n",
       "        [0.94425147-0.05701029j],\n",
       "        [0.87038858-0.03147754j],\n",
       "        [1.0154514 -0.15119993j],\n",
       "        [1.0154514 -0.15119993j],\n",
       "        [0.94425147-0.05701029j],\n",
       "        [0.87038858-0.03147754j],\n",
       "        [0.87038858-0.03147754j],\n",
       "        [0.94425147-0.05701029j],\n",
       "        [0.87038858-0.03147754j],\n",
       "        [1.0154514 -0.15119993j],\n",
       "        [0.80586313-0.01832699j],\n",
       "        [0.80586313-0.01832699j],\n",
       "        [0.87038858-0.03147754j],\n",
       "        [0.80586313-0.01832699j],\n",
       "        [0.94425147-0.05701029j],\n",
       "        [0.87038858-0.03147754j],\n",
       "        [1.0154514 -0.15119993j],\n",
       "        [0.94425147-0.05701029j],\n",
       "        [1.0154514 -0.15119993j],\n",
       "        [1.0154514 -0.15119993j],\n",
       "        [0.80586313-0.01832699j],\n",
       "        [0.80586313-0.01832699j],\n",
       "        [0.94425147-0.05701029j],\n",
       "        [0.87038858-0.03147754j],\n",
       "        [0.94425147-0.05701029j],\n",
       "        [0.87038858-0.03147754j],\n",
       "        [0.80586313-0.01832699j],\n",
       "        [0.94425147-0.05701029j],\n",
       "        [0.87038858-0.03147754j],\n",
       "        [0.94425147-0.05701029j],\n",
       "        [1.0154514 -0.15119993j],\n",
       "        [0.80586313-0.01832699j],\n",
       "        [0.87038858-0.03147754j],\n",
       "        [1.0154514 -0.15119993j],\n",
       "        [0.94425147-0.05701029j],\n",
       "        [0.87038858-0.03147754j],\n",
       "        [1.0154514 -0.15119993j],\n",
       "        [0.87038858-0.03147754j],\n",
       "        [0.80586313-0.01832699j],\n",
       "        [1.0154514 -0.15119993j],\n",
       "        [0.80586313-0.01832699j],\n",
       "        [0.94425147-0.05701029j],\n",
       "        [0.94425147-0.05701029j],\n",
       "        [1.0154514 -0.15119993j],\n",
       "        [0.80586313-0.01832699j],\n",
       "        [1.0154514 -0.15119993j],\n",
       "        [0.80586313-0.01832699j],\n",
       "        [0.94425147-0.05701029j],\n",
       "        [0.94425147-0.05701029j],\n",
       "        [1.0154514 -0.15119993j],\n",
       "        [0.87038858-0.03147754j],\n",
       "        [1.0154514 -0.15119993j],\n",
       "        [0.87038858-0.03147754j],\n",
       "        [0.80586313-0.01832699j],\n",
       "        [0.94425147-0.05701029j],\n",
       "        [0.80586313-0.01832699j],\n",
       "        [0.94425147-0.05701029j],\n",
       "        [0.87038858-0.03147754j],\n",
       "        [0.87038858-0.03147754j],\n",
       "        [1.0154514 -0.15119993j],\n",
       "        [0.94425147-0.05701029j],\n",
       "        [0.87038858-0.03147754j],\n",
       "        [0.87038858-0.03147754j],\n",
       "        [1.0154514 -0.15119993j],\n",
       "        [0.94425147-0.05701029j],\n",
       "        [1.0154514 -0.15119993j],\n",
       "        [0.94425147-0.05701029j],\n",
       "        [0.87038858-0.03147754j],\n",
       "        [0.94425147-0.05701029j],\n",
       "        [0.80586313-0.01832699j],\n",
       "        [0.87038858-0.03147754j],\n",
       "        [0.87038858-0.03147754j],\n",
       "        [0.87038858-0.03147754j],\n",
       "        [1.0154514 -0.15119993j],\n",
       "        [0.80586313-0.01832699j],\n",
       "        [1.0154514 -0.15119993j],\n",
       "        [1.0154514 -0.15119993j],\n",
       "        [0.80586313-0.01832699j],\n",
       "        [0.87038858-0.03147754j],\n",
       "        [0.87038858-0.03147754j],\n",
       "        [0.80586313-0.01832699j],\n",
       "        [0.87038858-0.03147754j],\n",
       "        [0.94425147-0.05701029j],\n",
       "        [0.94425147-0.05701029j],\n",
       "        [0.80586313-0.01832699j],\n",
       "        [1.0154514 -0.15119993j],\n",
       "        [0.94425147-0.05701029j],\n",
       "        [0.80586313-0.01832699j],\n",
       "        [0.80586313-0.01832699j],\n",
       "        [0.94425147-0.05701029j],\n",
       "        [0.80586313-0.01832699j],\n",
       "        [0.87038858-0.03147754j],\n",
       "        [0.94425147-0.05701029j],\n",
       "        [0.94425147-0.05701029j],\n",
       "        [0.80586313-0.01832699j],\n",
       "        [0.94425147-0.05701029j],\n",
       "        [0.87038858-0.03147754j],\n",
       "        [1.0154514 -0.15119993j],\n",
       "        [1.0154514 -0.15119993j],\n",
       "        [0.80586313-0.01832699j],\n",
       "        [0.80586313-0.01832699j],\n",
       "        [0.80586313-0.01832699j],\n",
       "        [0.94425147-0.05701029j],\n",
       "        [1.0154514 -0.15119993j],\n",
       "        [1.0154514 -0.15119993j],\n",
       "        [0.80586313-0.01832699j],\n",
       "        [0.87038858-0.03147754j],\n",
       "        [0.94425147-0.05701029j],\n",
       "        [1.0154514 -0.15119993j],\n",
       "        [0.80586313-0.01832699j],\n",
       "        [0.87038858-0.03147754j],\n",
       "        [0.87038858-0.03147754j],\n",
       "        [1.0154514 -0.15119993j],\n",
       "        [0.94425147-0.05701029j],\n",
       "        [1.0154514 -0.15119993j],\n",
       "        [0.94425147-0.05701029j],\n",
       "        [0.94425147-0.05701029j],\n",
       "        [0.87038858-0.03147754j],\n",
       "        [0.94425147-0.05701029j],\n",
       "        [0.94425147-0.05701029j],\n",
       "        [0.94425147-0.05701029j],\n",
       "        [1.0154514 -0.15119993j],\n",
       "        [0.80586313-0.01832699j],\n",
       "        [0.87038858-0.03147754j],\n",
       "        [0.80586313-0.01832699j],\n",
       "        [0.94425147-0.05701029j],\n",
       "        [1.0154514 -0.15119993j],\n",
       "        [0.94425147-0.05701029j],\n",
       "        [0.94425147-0.05701029j],\n",
       "        [0.87038858-0.03147754j],\n",
       "        [0.94425147-0.05701029j],\n",
       "        [0.80586313-0.01832699j],\n",
       "        [0.87038858-0.03147754j],\n",
       "        [0.80586313-0.01832699j],\n",
       "        [0.87038858-0.03147754j],\n",
       "        [1.0154514 -0.15119993j],\n",
       "        [1.0154514 -0.15119993j],\n",
       "        [0.94425147-0.05701029j],\n",
       "        [0.87038858-0.03147754j],\n",
       "        [0.87038858-0.03147754j],\n",
       "        [0.94425147-0.05701029j],\n",
       "        [0.80586313-0.01832699j],\n",
       "        [0.80586313-0.01832699j],\n",
       "        [0.87038858-0.03147754j],\n",
       "        [0.87038858-0.03147754j],\n",
       "        [1.0154514 -0.15119993j],\n",
       "        [1.0154514 -0.15119993j],\n",
       "        [0.87038858-0.03147754j],\n",
       "        [0.80586313-0.01832699j],\n",
       "        [0.94425147-0.05701029j],\n",
       "        [1.0154514 -0.15119993j],\n",
       "        [0.87038858-0.03147754j],\n",
       "        [1.0154514 -0.15119993j],\n",
       "        [0.80586313-0.01832699j],\n",
       "        [0.87038858-0.03147754j],\n",
       "        [0.87038858-0.03147754j],\n",
       "        [1.0154514 -0.15119993j],\n",
       "        [0.87038858-0.03147754j],\n",
       "        [1.0154514 -0.15119993j],\n",
       "        [0.87038858-0.03147754j],\n",
       "        [0.80586313-0.01832699j],\n",
       "        [0.87038858-0.03147754j],\n",
       "        [0.80586313-0.01832699j],\n",
       "        [0.80586313-0.01832699j],\n",
       "        [0.94425147-0.05701029j],\n",
       "        [0.87038858-0.03147754j],\n",
       "        [1.0154514 -0.15119993j],\n",
       "        [0.94425147-0.05701029j],\n",
       "        [0.80586313-0.01832699j],\n",
       "        [0.94425147-0.05701029j],\n",
       "        [0.80586313-0.01832699j],\n",
       "        [0.87038858-0.03147754j],\n",
       "        [1.0154514 -0.15119993j],\n",
       "        [1.0154514 -0.15119993j],\n",
       "        [0.80586313-0.01832699j],\n",
       "        [0.94425147-0.05701029j],\n",
       "        [1.0154514 -0.15119993j],\n",
       "        [0.94425147-0.05701029j],\n",
       "        [1.0154514 -0.15119993j],\n",
       "        [0.94425147-0.05701029j],\n",
       "        [0.80586313-0.01832699j],\n",
       "        [0.94425147-0.05701029j],\n",
       "        [0.94425147-0.05701029j],\n",
       "        [1.0154514 -0.15119993j],\n",
       "        [0.80586313-0.01832699j],\n",
       "        [0.94425147-0.05701029j],\n",
       "        [0.87038858-0.03147754j],\n",
       "        [0.87038858-0.03147754j],\n",
       "        [0.87038858-0.03147754j],\n",
       "        [0.87038858-0.03147754j],\n",
       "        [0.87038858-0.03147754j],\n",
       "        [0.87038858-0.03147754j],\n",
       "        [0.94425147-0.05701029j],\n",
       "        [0.94425147-0.05701029j],\n",
       "        [0.80586313-0.01832699j],\n",
       "        [0.87038858-0.03147754j],\n",
       "        [0.80586313-0.01832699j],\n",
       "        [1.0154514 -0.15119993j],\n",
       "        [1.0154514 -0.15119993j],\n",
       "        [0.94425147-0.05701029j],\n",
       "        [0.87038858-0.03147754j],\n",
       "        [0.94425147-0.05701029j],\n",
       "        [0.94425147-0.05701029j],\n",
       "        [0.87038858-0.03147754j],\n",
       "        [1.0154514 -0.15119993j],\n",
       "        [0.87038858-0.03147754j],\n",
       "        [0.87038858-0.03147754j],\n",
       "        [0.80586313-0.01832699j],\n",
       "        [0.87038858-0.03147754j],\n",
       "        [0.94425147-0.05701029j],\n",
       "        [0.94425147-0.05701029j],\n",
       "        [0.94425147-0.05701029j],\n",
       "        [1.0154514 -0.15119993j],\n",
       "        [0.87038858-0.03147754j],\n",
       "        [0.80586313-0.01832699j],\n",
       "        [0.87038858-0.03147754j],\n",
       "        [0.87038858-0.03147754j],\n",
       "        [0.80586313-0.01832699j],\n",
       "        [0.80586313-0.01832699j],\n",
       "        [0.80586313-0.01832699j],\n",
       "        [0.94425147-0.05701029j],\n",
       "        [0.87038858-0.03147754j],\n",
       "        [1.0154514 -0.15119993j],\n",
       "        [0.87038858-0.03147754j],\n",
       "        [0.80586313-0.01832699j],\n",
       "        [0.80586313-0.01832699j],\n",
       "        [0.87038858-0.03147754j],\n",
       "        [1.0154514 -0.15119993j],\n",
       "        [1.0154514 -0.15119993j],\n",
       "        [1.0154514 -0.15119993j],\n",
       "        [0.94425147-0.05701029j],\n",
       "        [1.0154514 -0.15119993j],\n",
       "        [1.0154514 -0.15119993j],\n",
       "        [0.87038858-0.03147754j],\n",
       "        [0.94425147-0.05701029j],\n",
       "        [0.80586313-0.01832699j],\n",
       "        [0.87038858-0.03147754j],\n",
       "        [0.87038858-0.03147754j],\n",
       "        [0.80586313-0.01832699j],\n",
       "        [0.87038858-0.03147754j],\n",
       "        [0.87038858-0.03147754j],\n",
       "        [0.80586313-0.01832699j],\n",
       "        [0.80586313-0.01832699j],\n",
       "        [0.87038858-0.03147754j],\n",
       "        [0.94425147-0.05701029j],\n",
       "        [0.94425147-0.05701029j],\n",
       "        [1.0154514 -0.15119993j],\n",
       "        [1.0154514 -0.15119993j],\n",
       "        [0.87038858-0.03147754j],\n",
       "        [1.0154514 -0.15119993j],\n",
       "        [1.0154514 -0.15119993j],\n",
       "        [1.0154514 -0.15119993j],\n",
       "        [0.94425147-0.05701029j],\n",
       "        [0.87038858-0.03147754j],\n",
       "        [0.94425147-0.05701029j],\n",
       "        [1.0154514 -0.15119993j],\n",
       "        [0.80586313-0.01832699j],\n",
       "        [0.87038858-0.03147754j],\n",
       "        [0.87038858-0.03147754j],\n",
       "        [0.80586313-0.01832699j],\n",
       "        [0.80586313-0.01832699j],\n",
       "        [0.94425147-0.05701029j],\n",
       "        [0.87038858-0.03147754j],\n",
       "        [1.0154514 -0.15119993j],\n",
       "        [0.87038858-0.03147754j],\n",
       "        [0.80586313-0.01832699j],\n",
       "        [0.94425147-0.05701029j],\n",
       "        [0.94425147-0.05701029j],\n",
       "        [0.80586313-0.01832699j],\n",
       "        [0.87038858-0.03147754j],\n",
       "        [0.80586313-0.01832699j],\n",
       "        [0.94425147-0.05701029j],\n",
       "        [0.87038858-0.03147754j],\n",
       "        [0.87038858-0.03147754j],\n",
       "        [0.87038858-0.03147754j],\n",
       "        [0.80586313-0.01832699j],\n",
       "        [0.94425147-0.05701029j],\n",
       "        [0.94425147-0.05701029j],\n",
       "        [1.0154514 -0.15119993j],\n",
       "        [0.80586313-0.01832699j],\n",
       "        [0.80586313-0.01832699j],\n",
       "        [1.0154514 -0.15119993j],\n",
       "        [1.0154514 -0.15119993j],\n",
       "        [1.0154514 -0.15119993j],\n",
       "        [0.80586313-0.01832699j],\n",
       "        [0.80586313-0.01832699j],\n",
       "        [1.0154514 -0.15119993j],\n",
       "        [0.87038858-0.03147754j],\n",
       "        [1.0154514 -0.15119993j],\n",
       "        [0.80586313-0.01832699j],\n",
       "        [0.80586313-0.01832699j],\n",
       "        [0.87038858-0.03147754j],\n",
       "        [1.0154514 -0.15119993j],\n",
       "        [1.0154514 -0.15119993j],\n",
       "        [1.0154514 -0.15119993j],\n",
       "        [0.87038858-0.03147754j],\n",
       "        [0.80586313-0.01832699j],\n",
       "        [1.0154514 -0.15119993j],\n",
       "        [0.80586313-0.01832699j],\n",
       "        [1.0154514 -0.15119993j],\n",
       "        [0.80586313-0.01832699j],\n",
       "        [0.94425147-0.05701029j],\n",
       "        [0.80586313-0.01832699j],\n",
       "        [1.0154514 -0.15119993j],\n",
       "        [1.0154514 -0.15119993j],\n",
       "        [0.87038858-0.03147754j],\n",
       "        [0.80586313-0.01832699j],\n",
       "        [0.80586313-0.01832699j],\n",
       "        [0.80586313-0.01832699j],\n",
       "        [0.87038858-0.03147754j],\n",
       "        [0.80586313-0.01832699j],\n",
       "        [0.80586313-0.01832699j],\n",
       "        [1.0154514 -0.15119993j],\n",
       "        [0.80586313-0.01832699j],\n",
       "        [0.80586313-0.01832699j],\n",
       "        [0.94425147-0.05701029j],\n",
       "        [0.80586313-0.01832699j],\n",
       "        [1.0154514 -0.15119993j],\n",
       "        [0.94425147-0.05701029j],\n",
       "        [0.80586313-0.01832699j],\n",
       "        [0.80586313-0.01832699j],\n",
       "        [0.80586313-0.01832699j],\n",
       "        [1.0154514 -0.15119993j],\n",
       "        [0.94425147-0.05701029j],\n",
       "        [0.87038858-0.03147754j],\n",
       "        [0.80586313-0.01832699j],\n",
       "        [1.0154514 -0.15119993j],\n",
       "        [0.80586313-0.01832699j],\n",
       "        [1.0154514 -0.15119993j],\n",
       "        [0.80586313-0.01832699j],\n",
       "        [1.0154514 -0.15119993j],\n",
       "        [1.0154514 -0.15119993j],\n",
       "        [0.87038858-0.03147754j],\n",
       "        [0.87038858-0.03147754j],\n",
       "        [1.0154514 -0.15119993j],\n",
       "        [0.94425147-0.05701029j],\n",
       "        [0.94425147-0.05701029j],\n",
       "        [0.80586313-0.01832699j],\n",
       "        [0.94425147-0.05701029j],\n",
       "        [0.94425147-0.05701029j],\n",
       "        [0.80586313-0.01832699j],\n",
       "        [0.87038858-0.03147754j],\n",
       "        [0.87038858-0.03147754j],\n",
       "        [1.0154514 -0.15119993j],\n",
       "        [0.80586313-0.01832699j],\n",
       "        [0.87038858-0.03147754j],\n",
       "        [0.87038858-0.03147754j],\n",
       "        [1.0154514 -0.15119993j],\n",
       "        [0.87038858-0.03147754j],\n",
       "        [1.0154514 -0.15119993j],\n",
       "        [1.0154514 -0.15119993j],\n",
       "        [0.94425147-0.05701029j],\n",
       "        [0.94425147-0.05701029j],\n",
       "        [1.0154514 -0.15119993j],\n",
       "        [0.80586313-0.01832699j],\n",
       "        [1.0154514 -0.15119993j],\n",
       "        [1.0154514 -0.15119993j],\n",
       "        [1.0154514 -0.15119993j],\n",
       "        [0.94425147-0.05701029j],\n",
       "        [0.87038858-0.03147754j],\n",
       "        [0.87038858-0.03147754j],\n",
       "        [1.0154514 -0.15119993j],\n",
       "        [0.87038858-0.03147754j],\n",
       "        [0.94425147-0.05701029j],\n",
       "        [1.0154514 -0.15119993j],\n",
       "        [1.0154514 -0.15119993j],\n",
       "        [1.0154514 -0.15119993j],\n",
       "        [0.94425147-0.05701029j],\n",
       "        [1.0154514 -0.15119993j],\n",
       "        [0.94425147-0.05701029j],\n",
       "        [1.0154514 -0.15119993j],\n",
       "        [1.0154514 -0.15119993j],\n",
       "        [1.0154514 -0.15119993j],\n",
       "        [0.94425147-0.05701029j],\n",
       "        [0.94425147-0.05701029j],\n",
       "        [0.94425147-0.05701029j],\n",
       "        [0.80586313-0.01832699j],\n",
       "        [0.94425147-0.05701029j],\n",
       "        [0.94425147-0.05701029j],\n",
       "        [0.87038858-0.03147754j],\n",
       "        [0.80586313-0.01832699j],\n",
       "        [0.87038858-0.03147754j],\n",
       "        [0.94425147-0.05701029j],\n",
       "        [1.0154514 -0.15119993j],\n",
       "        [0.80586313-0.01832699j],\n",
       "        [0.94425147-0.05701029j],\n",
       "        [1.0154514 -0.15119993j],\n",
       "        [0.87038858-0.03147754j],\n",
       "        [0.94425147-0.05701029j],\n",
       "        [0.87038858-0.03147754j],\n",
       "        [0.87038858-0.03147754j],\n",
       "        [1.0154514 -0.15119993j],\n",
       "        [0.80586313-0.01832699j],\n",
       "        [0.80586313-0.01832699j]]),\n",
       " (501, 1))"
      ]
     },
     "execution_count": 5,
     "metadata": {},
     "output_type": "execute_result"
    }
   ],
   "source": [
    "# evaluate with different batch size\n",
    "ansatz_net_batched = nqs(configs_flat, batch_size=3)\n",
    "ansatz_net_batched, ansatz_net_batched.shape"
   ]
  },
  {
   "cell_type": "markdown",
   "metadata": {},
   "source": [
    "#### Apply Hamiltonian to the states"
   ]
  },
  {
   "cell_type": "code",
   "execution_count": 5,
   "metadata": {},
   "outputs": [
    {
     "data": {
      "text/plain": [
       "((500, 2), (500, 1), (500, 1))"
      ]
     },
     "execution_count": 5,
     "metadata": {},
     "output_type": "execute_result"
    }
   ],
   "source": [
    "# sample the configurations\n",
    "(states, logprobas), (configs, configs_ansatze), probabilities = sampler.sample()\n",
    "configs.shape, configs_ansatze.shape, probabilities.shape"
   ]
  },
  {
   "cell_type": "markdown",
   "metadata": {},
   "source": [
    "##### Batch size = 1"
   ]
  },
  {
   "cell_type": "code",
   "execution_count": 6,
   "metadata": {},
   "outputs": [
    {
     "name": "stdout",
     "output_type": "stream",
     "text": [
      "applied_energies shape: (500,)\n",
      "applied_energies_mean: (0.40853209640036947+0.0006961508921627984j)\n",
      "applied_energies_std: 0.09967041465689612\n"
     ]
    }
   ],
   "source": [
    "import general_python.ml.net_impl.utils.net_utils as net_utils\n",
    "\n",
    "if backend == 'jax':\n",
    "    import jax.numpy as jnp\n",
    "    states  = jnp.array(states)\n",
    "    \n",
    "    applied_energies, applied_energies_m, applied_energies_std = \\\n",
    "        net_utils.jaxpy.apply_callable_batched_jax(\n",
    "            func            = ham.get_loc_energy_jax_fun(),\n",
    "            states          = configs,\n",
    "            sample_probas   = probabilities,\n",
    "            logprobas_in    = configs_ansatze,\n",
    "            logproba_fun    = net.get_apply(use_jax=True)[0],\n",
    "            parameters      = net.get_params(),\n",
    "            batch_size      = batch_size\n",
    "        )\n",
    "else:\n",
    "    import numpy as np\n",
    "    applied_energies, applied_energies_m, applied_energies_std = \\\n",
    "        net_utils.numpy.apply_callable_batched_np(\n",
    "            func            = ham.get_loc_energy_np_fun(),\n",
    "            states          = configs,\n",
    "            sample_probas   = probabilities,\n",
    "            logprobas_in    = configs_ansatze,\n",
    "            logproba_fun    = net.get_apply(use_jax=False)[0],\n",
    "            parameters      = net.get_params(),\n",
    "            batch_size      = batch_size\n",
    "        )\n",
    "        \n",
    "print(\"applied_energies shape:\", applied_energies.shape)\n",
    "print(\"applied_energies_mean:\", applied_energies_m)\n",
    "print(\"applied_energies_std:\", applied_energies_std)"
   ]
  },
  {
   "cell_type": "markdown",
   "metadata": {},
   "source": [
    "##### Batch Size != 1"
   ]
  },
  {
   "cell_type": "code",
   "execution_count": 7,
   "metadata": {},
   "outputs": [
    {
     "name": "stdout",
     "output_type": "stream",
     "text": [
      "applied_energies shape: (500,)\n",
      "applied_energies_mean: (0.40853209640036947+0.0006961508921627984j)\n",
      "applied_energies_std: 0.09967041465689612\n"
     ]
    }
   ],
   "source": [
    "import general_python.ml.net_impl.utils.net_utils as net_utils\n",
    "\n",
    "if backend == 'jax':\n",
    "    import jax.numpy as jnp\n",
    "    states  = jnp.array(states)\n",
    "    \n",
    "    applied_energies, applied_energies_m, applied_energies_std = \\\n",
    "        net_utils.jaxpy.apply_callable_batched_jax(\n",
    "            func            = ham.get_loc_energy_jax_fun(),\n",
    "            states          = configs,\n",
    "            sample_probas   = probabilities,\n",
    "            logprobas_in    = configs_ansatze,\n",
    "            logproba_fun    = net.get_apply(use_jax=True)[0],\n",
    "            parameters      = net.get_params(),\n",
    "            batch_size      = 3\n",
    "        )\n",
    "else:\n",
    "    import numpy as np\n",
    "    applied_energies, applied_energies_m, applied_energies_std = \\\n",
    "        net_utils.numpy.apply_callable_batched_np(\n",
    "            func            = ham.get_loc_energy_np_fun(),\n",
    "            states          = configs,\n",
    "            sample_probas   = probabilities,\n",
    "            logprobas_in    = configs_ansatze,\n",
    "            logproba_fun    = net.get_apply(use_jax=False)[0],\n",
    "            parameters      = net.get_params(),\n",
    "            batch_size      = 3\n",
    "        )\n",
    "        \n",
    "print(\"applied_energies shape:\", applied_energies.shape)\n",
    "print(\"applied_energies_mean:\", applied_energies_m)\n",
    "print(\"applied_energies_std:\", applied_energies_std)"
   ]
  },
  {
   "cell_type": "markdown",
   "metadata": {},
   "source": [
    "##### Through the solver with states"
   ]
  },
  {
   "cell_type": "code",
   "execution_count": 8,
   "metadata": {},
   "outputs": [
    {
     "data": {
      "text/plain": [
       "((0.40853209640036947+0.0006961508921627984j), 0.09967041465689612)"
      ]
     },
     "execution_count": 8,
     "metadata": {},
     "output_type": "execute_result"
    }
   ],
   "source": [
    "# apply through the solver with the states\n",
    "(configs, ansatze), probabilities, (v, means, stds) = nqs.evaluate_fun(\n",
    "    states_and_psi  = (configs, configs_ansatze),\n",
    "    probabilities   = probabilities,\n",
    "    functions       = None,\n",
    "    batch_size      = 3,\n",
    ")\n",
    "means, stds"
   ]
  },
  {
   "cell_type": "markdown",
   "metadata": {},
   "source": [
    "##### Without states"
   ]
  },
  {
   "cell_type": "code",
   "execution_count": 17,
   "metadata": {},
   "outputs": [
    {
     "data": {
      "text/plain": [
       "((0.37454661753073765+0.0018528518164046288j), 0.06992249086177382)"
      ]
     },
     "execution_count": 17,
     "metadata": {},
     "output_type": "execute_result"
    }
   ],
   "source": [
    "# apply through the solver with the states\n",
    "(configs, ansatze), probabilities, (v, means, stds) = nqs.evaluate_fun(batch_size = 3)\n",
    "means, stds"
   ]
  },
  {
   "cell_type": "code",
   "execution_count": 14,
   "metadata": {},
   "outputs": [
    {
     "data": {
      "text/plain": [
       "((500, 2), (500, 1), (500, 1))"
      ]
     },
     "execution_count": 14,
     "metadata": {},
     "output_type": "execute_result"
    }
   ],
   "source": [
    "configs.shape, ansatze.shape, probabilities.shape"
   ]
  },
  {
   "cell_type": "markdown",
   "metadata": {},
   "source": [
    "#### Test flax networks"
   ]
  },
  {
   "cell_type": "code",
   "execution_count": 1,
   "metadata": {},
   "outputs": [
    {
     "name": "stdout",
     "output_type": "stream",
     "text": [
      "=== Backend Initialization ===\n",
      "\tNumPy Version: 1.26.4\n",
      "\tSciPy Version: 1.13.1\n",
      "\tJAX Version: Not Available\n",
      "\t\tActive Backend: jax\n",
      "\t\tJAX Available: True\n",
      "\t\tDefault Random Key: [    0 12345]\n",
      "\tActive Backend Modules:\n",
      "\t\t\tMain Module: <module 'jax.numpy' from '/Users/makskliczkowski/miniconda3/lib/python3.12/site-packages/jax/numpy/__init__.py'>\n",
      "\t\t\tRandom Module: <module 'jax.random' from '/Users/makskliczkowski/miniconda3/lib/python3.12/site-packages/jax/random.py'>\n",
      "\t\t\tSciPy Module: <module 'jax.scipy' from '/Users/makskliczkowski/miniconda3/lib/python3.12/site-packages/jax/scipy/__init__.py'>\n",
      "=== End of Backend Info ===\n"
     ]
    },
    {
     "name": "stderr",
     "output_type": "stream",
     "text": [
      "16_03_2025_19-43_04 [INFO] Log file created: ./log/global.log\n",
      "16_03_2025_19-43_04 [INFO] Log level set to: info\n",
      "16_03_2025_19-43_04 [INFO] ########### Global logger initialized. ###########\n",
      "16_03_2025_19-43_06 [INFO] \t\t->\u001b[34m[<class 'NQS.nqs.NQS'>] Network is holomorphic: True\u001b[0m\n",
      "16_03_2025_19-43_06 [INFO] \t\t->\u001b[34m[<class 'NQS.nqs.NQS'>] Network has analytic gradient: False\u001b[0m\n"
     ]
    }
   ],
   "source": [
    "import NQS.nqs as nqsmodule\n",
    "import Solver.MonteCarlo.sampler as Sampling\n",
    "from Algebra.Model.dummy import DummyHamiltonian\n",
    "from general_python.algebra.utils import get_backend\n",
    "from general_python.ml.net_impl.net_simple_flax import FlaxSimpleNet\n",
    "\n",
    "import random\n",
    "import numpy as np\n",
    "import jax.numpy as jnp\n",
    "\n",
    "# get random backend\n",
    "backend             = 'jax'\n",
    "seed                = 1701\n",
    "dtypex              = jnp.complex128\n",
    "be_modules          = get_backend(backend, random=True, seed=seed, scipy=True)\n",
    "backend_np, (rng, rng_k), backend_sp = be_modules if isinstance(be_modules, tuple) else (be_modules, (None, None), None)\n",
    "\n",
    "# get the network\n",
    "ns                  = 10\n",
    "st_shape            = (ns, )\n",
    "activations         = ('relu', 'relu', 'sigmoid')\n",
    "net                 = FlaxSimpleNet(act_fun =   activations, \n",
    "                            input_shape     =   st_shape, \n",
    "                            output_shape    =   (1, ),\n",
    "                            layers          =   (5, ),\n",
    "                            backend         =   backend_np,\n",
    "                            bias            =   True,\n",
    "                            dtype           =   dtypex)\n",
    "\n",
    "# get the sampler\n",
    "sampler = Sampling.MCSampler(\n",
    "    net         = net,\n",
    "    shape       = st_shape,\n",
    "    rng         = rng,\n",
    "    rng_k       = rng_k,\n",
    "    numchains   = 10,\n",
    "    numsamples  = 20,\n",
    "    sweep_steps = 10,\n",
    "    backend     = backend_np,\n",
    "    therm_steps = 10,\n",
    ")\n",
    "\n",
    "# get the Hamiltonian\n",
    "par                 = 0.5 + 1j * 0.5\n",
    "# ham                 = DummyHamiltonian(hilbert_space=None, ns = ns, backend = backend, dtype = net.dtype)\n",
    "\n",
    "from Algebra.Model.Interacting.Spin.qsm import QSM\n",
    "ham                 = QSM(ns=ns, hilbert_space=None, n=3, a=0.74, h=1.0, xi=0.2, backend=backend, dtype='float64')\n",
    "batch_size          = 1\n",
    "\n",
    "nqs = nqsmodule.NQS(\n",
    "    net         = net,\n",
    "    sampler     = sampler,\n",
    "    hamiltonian = ham,\n",
    "    lower_betas = None,\n",
    "    lower_states= None,\n",
    "    seed        = seed,\n",
    "    beta        = 1.0,\n",
    "    shape       = st_shape,\n",
    "    backend     = backend_np,\n",
    "    nthread     = 1,\n",
    "    batch_size  = batch_size,\n",
    ")"
   ]
  },
  {
   "cell_type": "markdown",
   "metadata": {},
   "source": [
    "##### Test the ansatz again"
   ]
  },
  {
   "cell_type": "code",
   "execution_count": 27,
   "metadata": {},
   "outputs": [
    {
     "ename": "TypeError",
     "evalue": "FlaxInterface.__call__() takes 2 positional arguments but 3 were given",
     "output_type": "error",
     "traceback": [
      "\u001b[0;31m---------------------------------------------------------------------------\u001b[0m",
      "\u001b[0;31mTypeError\u001b[0m                                 Traceback (most recent call last)",
      "Cell \u001b[0;32mIn[27], line 5\u001b[0m\n\u001b[1;32m      3\u001b[0m params      \u001b[38;5;241m=\u001b[39m net\u001b[38;5;241m.\u001b[39mget_params()\n\u001b[1;32m      4\u001b[0m states      \u001b[38;5;241m=\u001b[39m jnp\u001b[38;5;241m.\u001b[39marray(states)\n\u001b[0;32m----> 5\u001b[0m ansatz      \u001b[38;5;241m=\u001b[39m net(params, states)\n\u001b[1;32m      6\u001b[0m ansatz      \u001b[38;5;241m=\u001b[39m ansatz\u001b[38;5;241m.\u001b[39mreshape(\u001b[38;5;241m-\u001b[39m\u001b[38;5;241m1\u001b[39m, \u001b[38;5;241m1\u001b[39m)\n\u001b[1;32m      7\u001b[0m ansatz, ansatz\u001b[38;5;241m.\u001b[39mshape\n",
      "\u001b[0;31mTypeError\u001b[0m: FlaxInterface.__call__() takes 2 positional arguments but 3 were given"
     ]
    }
   ],
   "source": [
    "import jax.numpy as jnp\n",
    "states      = np.random.choice([-1,1], size=(10, ns), replace=True)\n",
    "params      = net.get_params()\n",
    "states      = jnp.array(states)\n",
    "ansatz      = net(params, states)\n",
    "ansatz      = ansatz.reshape(-1, 1)\n",
    "ansatz, ansatz.shape"
   ]
  },
  {
   "cell_type": "markdown",
   "metadata": {},
   "source": [
    "##### Check the params"
   ]
  },
  {
   "cell_type": "code",
   "execution_count": null,
   "metadata": {},
   "outputs": [
    {
     "name": "stdout",
     "output_type": "stream",
     "text": [
      "dense 0: ((10, 5), (5,))\n",
      "dense 1: ((5, 1), (1,))\n"
     ]
    },
    {
     "data": {
      "text/plain": [
       "FrozenDict({\n",
       "    Dense_0: {\n",
       "        kernel: DeviceArray([[ 0.12601012+0.43527496j, -0.40719852-0.02396903j,\n",
       "                      -0.02069216-0.41849422j, -0.1801814 +0.0237809j ,\n",
       "                       0.21579173-0.46348858j],\n",
       "                     [-0.00871107+1.00927341j, -0.11819883-0.60234469j,\n",
       "                       0.63919055-0.45272762j,  0.58406621+0.08718889j,\n",
       "                      -0.31506518-0.35852423j],\n",
       "                     [ 0.24430594-0.64656711j, -0.29367188-0.01454458j,\n",
       "                       0.14447711-0.17341225j,  0.09099653-0.05758227j,\n",
       "                       0.35839656-0.19071792j],\n",
       "                     [ 0.25249091-0.29745224j, -0.24840753-0.58038646j,\n",
       "                      -0.05843085+0.18895108j, -0.04986859+0.08540604j,\n",
       "                      -0.00159741-0.19872928j],\n",
       "                     [ 0.01937185-0.37934551j,  0.52302849+0.25854084j,\n",
       "                      -0.85662991+0.05784103j,  0.31808552+0.12186194j,\n",
       "                       0.76653099+0.31128621j],\n",
       "                     [-0.22307719-0.61393887j,  0.3123396 +0.12739617j,\n",
       "                       0.79491138+0.1513277j ,  0.50043827+0.24778193j,\n",
       "                      -0.45366821-0.86975032j],\n",
       "                     [-0.20711827-0.37649822j, -0.63899136+0.34649432j,\n",
       "                      -0.46745872+0.32806388j, -0.12899531-0.50846666j,\n",
       "                       0.71177495-0.08513749j],\n",
       "                     [-0.05605612-0.1903774j ,  0.38630331-0.02636475j,\n",
       "                       0.15859067+0.8660472j , -0.13023713+0.88271916j,\n",
       "                       0.69416726-0.25216058j],\n",
       "                     [ 0.0491034 -0.24370587j,  0.35669822+0.25517994j,\n",
       "                       0.23048925-0.57343769j,  0.17429793+0.47413844j,\n",
       "                      -0.09812491-0.45369759j],\n",
       "                     [ 0.48823494-0.78516799j, -0.73355198-0.19116233j,\n",
       "                      -0.1494413 +0.33703312j,  0.2646755 +0.64281285j,\n",
       "                      -0.45371941-0.74159837j]], dtype=complex128),\n",
       "        bias: DeviceArray([0.+0.j, 0.+0.j, 0.+0.j, 0.+0.j, 0.+0.j], dtype=complex128),\n",
       "    },\n",
       "    Dense_1: {\n",
       "        kernel: DeviceArray([[ 0.42331159+0.9274736j ],\n",
       "                     [-0.42746437+0.59174639j],\n",
       "                     [-0.84139961+0.18413314j],\n",
       "                     [ 0.2105922 -1.23224926j],\n",
       "                     [ 0.29618457-0.60874909j]], dtype=complex128),\n",
       "        bias: DeviceArray([0.+0.j], dtype=complex128),\n",
       "    },\n",
       "})"
      ]
     },
     "execution_count": 18,
     "metadata": {},
     "output_type": "execute_result"
    }
   ],
   "source": [
    "params      = net.get_params()\n",
    "\n",
    "k0 = params['params']['Dense_0']['kernel']\n",
    "b0 = params['params']['Dense_0']['bias']\n",
    "k1 = params['params']['Dense_1']['kernel']\n",
    "b1 = params['params']['Dense_1']['bias']\n",
    "print(\"dense 0:\", (k0.shape, b0.shape))\n",
    "print(\"dense 1:\", (k1.shape, b1.shape))\n",
    "params['params']\n"
   ]
  },
  {
   "cell_type": "markdown",
   "metadata": {},
   "source": [
    "##### Run the example"
   ]
  },
  {
   "cell_type": "code",
   "execution_count": null,
   "metadata": {},
   "outputs": [
    {
     "data": {
      "text/plain": [
       "DeviceArray([[1.310566],\n",
       "             [1.310566],\n",
       "             [1.310566],\n",
       "             [1.310566],\n",
       "             [1.310566]], dtype=float32)"
      ]
     },
     "execution_count": 76,
     "metadata": {},
     "output_type": "execute_result"
    }
   ],
   "source": [
    "import general_python.ml.net_impl.net_simple_flax as simple_flax\n",
    "simple_flax.example()"
   ]
  },
  {
   "cell_type": "markdown",
   "metadata": {},
   "source": [
    "##### Evaluate through solver"
   ]
  },
  {
   "cell_type": "code",
   "execution_count": null,
   "metadata": {},
   "outputs": [
    {
     "data": {
      "text/plain": [
       "(Array(95.45151426-7.19476556j, dtype=complex128),\n",
       " Array(54.57873613, dtype=float64))"
      ]
     },
     "execution_count": 2,
     "metadata": {},
     "output_type": "execute_result"
    }
   ],
   "source": [
    "# apply through the solver with the states\n",
    "(configs, ansatze), probabilities, (v, means, stds) = nqs.evaluate_fun(batch_size = 10)\n",
    "means, stds"
   ]
  },
  {
   "cell_type": "markdown",
   "metadata": {},
   "source": [
    "##### Check whether one can calculate the gradient for the energies directly"
   ]
  },
  {
   "cell_type": "code",
   "execution_count": null,
   "metadata": {},
   "outputs": [
    {
     "name": "stdout",
     "output_type": "stream",
     "text": [
      "{'params': {'Dense_0': {'bias': Array([0.+0.j, 0.+0.j, 0.+0.j, 0.+0.j, 0.+0.j], dtype=complex128), 'kernel': Array([[0.+0.j, 0.+0.j, 0.+0.j, 0.+0.j, 0.+0.j],\n",
      "       [0.+0.j, 0.+0.j, 0.+0.j, 0.+0.j, 0.+0.j],\n",
      "       [0.+0.j, 0.+0.j, 0.+0.j, 0.+0.j, 0.+0.j],\n",
      "       [0.+0.j, 0.+0.j, 0.+0.j, 0.+0.j, 0.+0.j],\n",
      "       [0.+0.j, 0.+0.j, 0.+0.j, 0.+0.j, 0.+0.j],\n",
      "       [0.+0.j, 0.+0.j, 0.+0.j, 0.+0.j, 0.+0.j],\n",
      "       [0.+0.j, 0.+0.j, 0.+0.j, 0.+0.j, 0.+0.j],\n",
      "       [0.+0.j, 0.+0.j, 0.+0.j, 0.+0.j, 0.+0.j],\n",
      "       [0.+0.j, 0.+0.j, 0.+0.j, 0.+0.j, 0.+0.j],\n",
      "       [0.+0.j, 0.+0.j, 0.+0.j, 0.+0.j, 0.+0.j]], dtype=complex128)}, 'Dense_1': {'bias': Array([0.+0.j], dtype=complex128), 'kernel': Array([[0.+0.j],\n",
      "       [0.+0.j],\n",
      "       [0.+0.j],\n",
      "       [0.+0.j],\n",
      "       [0.+0.j]], dtype=complex128)}}}\n"
     ]
    }
   ],
   "source": [
    "import jax\n",
    "\n",
    "def loss_fn(params):\n",
    "    # recompute v with the given parameters\n",
    "    (configs, ansatze), probabilities, (v, means, stds) = nqs.evaluate_fun(batch_size=10)\n",
    "    return means\n",
    "params      = net.get_params()\n",
    "grad_loss   = jax.grad(loss_fn, holomorphic=True)(params)\n",
    "print(grad_loss)"
   ]
  },
  {
   "cell_type": "markdown",
   "metadata": {},
   "source": [
    "##### Check whether one can calculate the gradient for the ansatz"
   ]
  },
  {
   "cell_type": "code",
   "execution_count": null,
   "metadata": {},
   "outputs": [
    {
     "data": {
      "text/plain": [
       "(Array(95.45151426-7.19476556j, dtype=complex128),\n",
       " Array(54.57873613, dtype=float64),\n",
       " (200, 10),\n",
       " (200, 1),\n",
       " (200, 1))"
      ]
     },
     "execution_count": 2,
     "metadata": {},
     "output_type": "execute_result"
    }
   ],
   "source": [
    "# apply through the solver with the states\n",
    "(configs, ansatze), probabilities, (v, means, stds) = nqs.evaluate_fun(batch_size = 10)\n",
    "means, stds, configs.shape, ansatze.shape, probabilities.shape"
   ]
  },
  {
   "cell_type": "markdown",
   "metadata": {},
   "source": [
    "###### Directly"
   ]
  },
  {
   "cell_type": "code",
   "execution_count": 3,
   "metadata": {},
   "outputs": [
    {
     "ename": "NameError",
     "evalue": "name 'configs' is not defined",
     "output_type": "error",
     "traceback": [
      "\u001b[0;31m---------------------------------------------------------------------------\u001b[0m",
      "\u001b[0;31mNameError\u001b[0m                                 Traceback (most recent call last)",
      "Cell \u001b[0;32mIn[3], line 4\u001b[0m\n\u001b[1;32m      2\u001b[0m \u001b[38;5;28;01mimport\u001b[39;00m \u001b[38;5;21;01mjax\u001b[39;00m \n\u001b[1;32m      3\u001b[0m \u001b[38;5;66;03m# create the batches\u001b[39;00m\n\u001b[0;32m----> 4\u001b[0m sb              \u001b[38;5;241m=\u001b[39m net_utils\u001b[38;5;241m.\u001b[39mjaxpy\u001b[38;5;241m.\u001b[39mcreate_batches_jax(configs, batch_size \u001b[38;5;241m=\u001b[39m \u001b[38;5;241m3\u001b[39m)\n\u001b[1;32m      5\u001b[0m \u001b[38;5;28mprint\u001b[39m(sb\u001b[38;5;241m.\u001b[39mshape)\n\u001b[1;32m      6\u001b[0m apply_f, params \u001b[38;5;241m=\u001b[39m net\u001b[38;5;241m.\u001b[39mget_apply(use_jax\u001b[38;5;241m=\u001b[39m\u001b[38;5;28;01mTrue\u001b[39;00m)\n",
      "\u001b[0;31mNameError\u001b[0m: name 'configs' is not defined"
     ]
    }
   ],
   "source": [
    "import general_python.ml.net_impl.utils.net_utils as net_utils\n",
    "import jax \n",
    "# create the batches\n",
    "sb              = net_utils.jaxpy.create_batches_jax(configs, batch_size = 3)\n",
    "print(sb.shape)\n",
    "apply_f, params = net.get_apply(use_jax=True)\n",
    "print(apply_f(params, sb[0]).shape)\n",
    "\n",
    "# compute the gradients using JAX's vmap and scan\n",
    "# use the provided flat_grad_fun to compute the gradients\n",
    "# this is a function that computes the gradients of the network\n",
    "def scan_fun(c, x):\n",
    "    return c, jax.vmap(lambda y: net_utils.jaxpy.flat_gradient_holo_numerical_jax(apply_f, params, y), in_axes=(0,))(x)\n",
    "\n",
    "# use jax's scan to compute the gradients of the logarithmic wave function\n",
    "g = jax.lax.scan(scan_fun, None, sb)[1]\n",
    "g = jax.tree.map(lambda x: x.reshape((-1,) + x.shape[2:]), g)\n",
    "g = jax.tree.map(lambda x: x[:configs.shape[0]], g)\n",
    "\n",
    "# # g = jax.tree_map(lambda x: x / jax.lax.norm(x), g)\n",
    "g.shape"
   ]
  },
  {
   "cell_type": "markdown",
   "metadata": {},
   "source": [
    "###### Through the solver"
   ]
  },
  {
   "cell_type": "code",
   "execution_count": 4,
   "metadata": {},
   "outputs": [
    {
     "ename": "NameError",
     "evalue": "name 'configs' is not defined",
     "output_type": "error",
     "traceback": [
      "\u001b[0;31m---------------------------------------------------------------------------\u001b[0m",
      "\u001b[0;31mNameError\u001b[0m                                 Traceback (most recent call last)",
      "Cell \u001b[0;32mIn[4], line 2\u001b[0m\n\u001b[1;32m      1\u001b[0m \u001b[38;5;66;03m# through the solver\u001b[39;00m\n\u001b[0;32m----> 2\u001b[0m g \u001b[38;5;241m=\u001b[39m nqs\u001b[38;5;241m.\u001b[39mgradient(configs, batch_size\u001b[38;5;241m=\u001b[39m\u001b[38;5;241m3\u001b[39m)\n\u001b[1;32m      3\u001b[0m g\u001b[38;5;241m.\u001b[39mshape\n",
      "\u001b[0;31mNameError\u001b[0m: name 'configs' is not defined"
     ]
    }
   ],
   "source": [
    "# through the solver\n",
    "g = nqs.gradient(configs, batch_size=3)\n",
    "g.shape"
   ]
  },
  {
   "cell_type": "markdown",
   "metadata": {},
   "source": [
    "##### Try out standard gradient vector"
   ]
  },
  {
   "cell_type": "code",
   "execution_count": 3,
   "metadata": {},
   "outputs": [
    {
     "ename": "NameError",
     "evalue": "name 'v' is not defined",
     "output_type": "error",
     "traceback": [
      "\u001b[0;31m---------------------------------------------------------------------------\u001b[0m",
      "\u001b[0;31mNameError\u001b[0m                                 Traceback (most recent call last)",
      "Cell \u001b[0;32mIn[3], line 1\u001b[0m\n\u001b[0;32m----> 1\u001b[0m samples     \u001b[38;5;241m=\u001b[39m v\u001b[38;5;241m.\u001b[39mshape[\u001b[38;5;241m0\u001b[39m]\n\u001b[1;32m      2\u001b[0m e_centered  \u001b[38;5;241m=\u001b[39m (v \u001b[38;5;241m-\u001b[39m means)\n\u001b[1;32m      4\u001b[0m \u001b[38;5;66;03m# derivatives centered\u001b[39;00m\n",
      "\u001b[0;31mNameError\u001b[0m: name 'v' is not defined"
     ]
    }
   ],
   "source": [
    "samples     = v.shape[0]\n",
    "e_centered  = (v - means)\n",
    "\n",
    "# derivatives centered\n",
    "g_means     = jnp.mean(g, axis = 0)\n",
    "g_means.shape, e_centered.shape"
   ]
  },
  {
   "cell_type": "code",
   "execution_count": 5,
   "metadata": {},
   "outputs": [
    {
     "data": {
      "text/plain": [
       "(200, 122)"
      ]
     },
     "execution_count": 5,
     "metadata": {},
     "output_type": "execute_result"
    }
   ],
   "source": [
    "g_centered  = g - g_means\n",
    "g_centered.shape"
   ]
  },
  {
   "cell_type": "code",
   "execution_count": 6,
   "metadata": {},
   "outputs": [
    {
     "data": {
      "text/plain": [
       "(122,)"
      ]
     },
     "execution_count": 6,
     "metadata": {},
     "output_type": "execute_result"
    }
   ],
   "source": [
    "# get F\n",
    "F = jnp.matmul(jnp.conj(g_centered).T, e_centered) / samples\n",
    "F.shape"
   ]
  },
  {
   "cell_type": "code",
   "execution_count": 7,
   "metadata": {},
   "outputs": [
    {
     "data": {
      "text/plain": [
       "{'params': {'Dense_0': {'bias': Array([-1.81029449+8.32813102j, -2.52386652+0.60194279j,\n",
       "           1.38057265+0.78824007j, -2.51773419-4.40488144j,\n",
       "          -3.47630552+1.36578935j], dtype=complex128),\n",
       "   'kernel': Array([[-3.92774504e+00-10.07223469j, -1.53166500e+00 -0.49798525j,\n",
       "           -1.65900185e+00 +4.53506354j,  4.29396817e+00 +0.03943769j,\n",
       "            1.33152432e+00 +1.06197803j],\n",
       "          [-4.16039124e-01-10.2485678j , -2.87143095e+00 -0.17483747j,\n",
       "           -3.33147527e+00 +2.14010628j,  4.55077137e+00 +6.4795413j ,\n",
       "            4.62823305e-01 +0.6975212j ],\n",
       "          [ 3.24859783e+00 +4.78233864j,  1.57657642e+00 -1.20835195j,\n",
       "            2.22959709e+00 -0.59160413j, -4.66965312e+00 -1.46807191j,\n",
       "           -3.12653718e+00 -0.49279469j],\n",
       "          [-2.39985944e+00 +3.24898855j, -3.83656839e+00 +2.28709228j,\n",
       "            3.09378210e-01 +1.29413497j,  1.44298875e+00 -4.27502246j,\n",
       "            3.91246078e-02 +0.16333532j],\n",
       "          [ 4.40250340e+00 +7.2719225j , -2.95470286e-01 -0.49562888j,\n",
       "            3.18526411e-01 -2.65351289j, -4.62725053e+00 -0.2102618j ,\n",
       "           -1.03217417e+00 +0.33053961j],\n",
       "          [ 2.73358114e+00+10.64458735j,  2.94399792e+00 +0.37536976j,\n",
       "            2.97217178e+00 -3.86867989j, -4.93790412e+00 -2.96158621j,\n",
       "           -9.80568326e-01 -0.83883391j],\n",
       "          [ 4.17488724e+00 +1.81142123j, -7.89842917e-01 -2.06719072j,\n",
       "            7.92426849e-04 -1.99234329j, -3.04775369e+00 +1.43875147j,\n",
       "           -2.16164030e-01 +1.55632749j],\n",
       "          [ 1.13698659e+00 +8.41321325j,  1.53696718e+00 +2.16141627j,\n",
       "            1.60035892e+00 -2.44814946j, -6.10343208e+00-10.98883972j,\n",
       "           -8.88938620e-01 +0.2399094j ],\n",
       "          [-3.85547934e+00 +3.25754943j, -4.47823423e-01 +2.9327431j ,\n",
       "            1.80176648e+00 +4.23623267j,  1.35513663e+00 -7.73057831j,\n",
       "           -2.20067916e+00 -0.61731968j],\n",
       "          [ 3.26178416e+00 +8.25842613j,  5.60956626e+00 +2.59466325j,\n",
       "            2.76111046e+00 -2.4308107j , -6.90703172e+00 -6.92202566j,\n",
       "           -3.28448292e+00 -1.64637523j]], dtype=complex128)},\n",
       "  'Dense_1': {'bias': Array([0.+0.j], dtype=complex128),\n",
       "   'kernel': Array([[-27.38433104-31.19156971j],\n",
       "          [  5.90634219 -4.43075511j],\n",
       "          [ 13.82345419 -1.32250762j],\n",
       "          [  3.91497291+19.38134148j],\n",
       "          [ -3.78387596 +2.82927305j]], dtype=complex128)}}}"
      ]
     },
     "execution_count": 7,
     "metadata": {},
     "output_type": "execute_result"
    }
   ],
   "source": [
    "nqs.update_parameters(F)\n",
    "net.get_params()"
   ]
  },
  {
   "cell_type": "markdown",
   "metadata": {},
   "source": [
    "##### Try out Stochastic Reconfiguration and gradient parameter"
   ]
  },
  {
   "cell_type": "code",
   "execution_count": 8,
   "metadata": {},
   "outputs": [
    {
     "data": {
      "text/plain": [
       "((200,), (200, 122))"
      ]
     },
     "execution_count": 8,
     "metadata": {},
     "output_type": "execute_result"
    }
   ],
   "source": [
    "# try out stochastic reconfiguration\n",
    "samples = v.shape[0]\n",
    "v.shape, g.shape"
   ]
  },
  {
   "cell_type": "code",
   "execution_count": 9,
   "metadata": {},
   "outputs": [
    {
     "data": {
      "text/plain": [
       "((122,), (200,))"
      ]
     },
     "execution_count": 9,
     "metadata": {},
     "output_type": "execute_result"
    }
   ],
   "source": [
    "e_centered  = (v - means)\n",
    "\n",
    "# derivatives centered\n",
    "g_means     = jnp.mean(g, axis = 0)\n",
    "g_means.shape, e_centered.shape"
   ]
  },
  {
   "cell_type": "code",
   "execution_count": 10,
   "metadata": {},
   "outputs": [
    {
     "data": {
      "text/plain": [
       "(200, 122)"
      ]
     },
     "execution_count": 10,
     "metadata": {},
     "output_type": "execute_result"
    }
   ],
   "source": [
    "g_centered  = g - g_means\n",
    "g_centered.shape"
   ]
  },
  {
   "cell_type": "code",
   "execution_count": 11,
   "metadata": {},
   "outputs": [],
   "source": [
    "g_centered_c_t = jnp.conj(g_centered).T"
   ]
  },
  {
   "cell_type": "code",
   "execution_count": 12,
   "metadata": {},
   "outputs": [
    {
     "data": {
      "text/plain": [
       "(122,)"
      ]
     },
     "execution_count": 12,
     "metadata": {},
     "output_type": "execute_result"
    }
   ],
   "source": [
    "# get F\n",
    "F = jnp.matmul(g_centered_c_t, e_centered)\n",
    "F.shape"
   ]
  },
  {
   "cell_type": "code",
   "execution_count": 13,
   "metadata": {},
   "outputs": [
    {
     "data": {
      "text/plain": [
       "(122, 122)"
      ]
     },
     "execution_count": 13,
     "metadata": {},
     "output_type": "execute_result"
    }
   ],
   "source": [
    "S = jnp.matmul(g_centered_c_t, g_centered) / samples\n",
    "S.shape"
   ]
  },
  {
   "cell_type": "code",
   "execution_count": 14,
   "metadata": {},
   "outputs": [
    {
     "data": {
      "text/plain": [
       "Array([[ -996.6762469 +4.58513818e+03j,     8.03568758+8.60566478e+00j,\n",
       "          -97.36345836+1.08464647e+02j, ...,\n",
       "          -42.56515932+1.25631806e+03j,  -348.50095778-1.14845053e+03j,\n",
       "         -370.24266174+2.52587404e+02j],\n",
       "       [  -28.79125679-2.58216337e+01j, -3231.83675948+7.70793870e+02j,\n",
       "          -36.16517451-1.08316696e+02j, ...,\n",
       "         2724.32572044+2.11871352e+03j,  1277.99649744+9.36105467e+02j,\n",
       "          -84.2924392 +1.67179076e+00j],\n",
       "       [  781.3833248 +1.02490787e+00j,   106.29725025-1.53094803e+02j,\n",
       "         1188.24285187+6.78429075e+02j, ...,\n",
       "         1749.76509364+2.04186569e+02j,   526.80181055-7.24051234e+02j,\n",
       "         1076.03836234+3.41191486e+02j],\n",
       "       ...,\n",
       "       [   56.47730403-7.24516453e+02j,   510.31070533+3.29470399e+02j,\n",
       "           56.18371672-1.81472968e+02j, ...,\n",
       "         -945.56888235-9.20367332e+03j, -1028.1170432 -9.50323744e+02j,\n",
       "          154.41805544-2.94066832e+02j],\n",
       "       [ -461.89242398-1.58651152e+02j,   -98.64956936+1.69660960e+02j,\n",
       "           19.30604643+6.51674275e+01j, ...,\n",
       "          842.95657371+5.10476690e+02j,  7015.85067085-1.26078868e+03j,\n",
       "           49.98500183+4.13175895e+02j],\n",
       "       [  711.40283256+8.03935510e+01j,    32.48258721+2.50176028e+01j,\n",
       "          157.84069706+2.97012781e+02j, ...,\n",
       "          880.7944454 +2.57742194e+02j,  1186.84710628-1.12267871e+03j,\n",
       "         1134.00274418+1.34577372e+03j]], dtype=complex128)"
      ]
     },
     "execution_count": 14,
     "metadata": {},
     "output_type": "execute_result"
    }
   ],
   "source": [
    "# use standard solver\n",
    "dF = jnp.linalg.pinv(S, 1e-5) * F\n",
    "dF.shape\n",
    "dF"
   ]
  },
  {
   "cell_type": "markdown",
   "metadata": {},
   "source": [
    "##### Try the stochastic reconfiguration class (with solver)"
   ]
  },
  {
   "cell_type": "code",
   "execution_count": 3,
   "metadata": {},
   "outputs": [],
   "source": [
    "# setup the solver\n",
    "import general_python.algebra.solver as Solvers"
   ]
  },
  {
   "cell_type": "markdown",
   "metadata": {},
   "source": [
    "###### a) Without MINSR - solver = direct - no covariance S"
   ]
  },
  {
   "cell_type": "code",
   "execution_count": 3,
   "metadata": {},
   "outputs": [
    {
     "data": {
      "text/plain": [
       "<general_python.algebra.solvers.stochastic_rcnfg.StochasticReconfiguration at 0x322606930>"
      ]
     },
     "execution_count": 3,
     "metadata": {},
     "output_type": "execute_result"
    }
   ],
   "source": [
    "from general_python.algebra.solvers import stochastic_rcnfg as sr\n",
    "\n",
    "# get the samples - apply through the solver with the states\n",
    "(configs, ansatze), probabilities, (v, means, stds) = nqs.evaluate_fun(batch_size = 10)\n",
    "means, stds, configs.shape, ansatze.shape, probabilities.shape\n",
    "\n",
    "# get the derivatives - through the solver\n",
    "g = nqs.gradient(configs, batch_size=3)\n",
    "g.shape\n",
    "\n",
    "# create the sr\n",
    "stochastic_reconfiguration = sr.StochasticReconfiguration(None, backend='jax')\n",
    "stochastic_reconfiguration"
   ]
  },
  {
   "cell_type": "code",
   "execution_count": 4,
   "metadata": {},
   "outputs": [
    {
     "data": {
      "text/plain": [
       "(Array([ 0.10855823-0.32660513j,  0.20722797+0.33173264j,\n",
       "        -0.66236728-0.04154675j,  0.44456338+1.85816174j,\n",
       "        -0.47885727-0.01587807j, -0.32660513-0.10855823j,\n",
       "         0.33173264-0.20722797j, -0.04154675+0.66236728j,\n",
       "         1.85816174-0.44456338j, -0.01587807+0.47885727j,\n",
       "        -0.49477003-0.0131522j ,  0.08248132+0.21648124j,\n",
       "         0.14472442+0.46230666j,  0.37003596-0.51643013j,\n",
       "         0.02598262-0.41098937j,  0.03584987-1.15117412j,\n",
       "        -0.29941663-0.09897074j, -0.4823225 +0.13602369j,\n",
       "         0.52671775+0.73082764j,  0.3026795 +0.47949394j,\n",
       "         0.02587864+0.76563317j,  0.36849913+0.27016452j,\n",
       "         0.52077105-0.08796593j, -0.38016015-0.45015075j,\n",
       "        -0.21782749-0.24871558j,  0.32124215-1.02813758j,\n",
       "        -0.65806464-0.57565099j, -0.84420395-0.06828188j,\n",
       "         0.43221558+1.65443095j,  0.21251576+0.79820713j,\n",
       "         0.42970644-0.04547835j, -0.12788924-0.13584757j,\n",
       "        -0.24313572-0.26635113j, -0.26755011+0.92175875j,\n",
       "         0.01554501+0.44762939j,  0.78367665-0.69087939j,\n",
       "        -0.44376787-0.72600233j, -0.75424203-0.30061017j,\n",
       "        -0.2938297 +1.14849245j,  0.1450303 +0.97319972j,\n",
       "         0.58866809-0.3008623j , -0.13262975-0.4034293j ,\n",
       "        -0.21640182-0.1301101j , -0.31995144+1.1059344j ,\n",
       "        -0.10940042+0.55073765j,  0.6856956 -0.48991272j,\n",
       "        -0.28772759-0.25528459j, -0.50943788-0.37854681j,\n",
       "        -0.30413753+0.9374505j , -0.03578999+0.44435444j,\n",
       "        -0.05984328-0.32226683j, -0.08321449-0.00389283j,\n",
       "        -0.07137217+0.26724917j,  0.23745669+0.23079031j,\n",
       "        -0.06049797+0.22199294j,  0.36398486-0.60479862j,\n",
       "        -0.22677696-0.50132417j, -0.61477014-0.20721385j,\n",
       "         0.07705831+1.03683998j,  0.14506161+0.83601868j,\n",
       "        -0.0131522 +0.49477003j,  0.21648124-0.08248132j,\n",
       "         0.46230666-0.14472442j, -0.51643013-0.37003596j,\n",
       "        -0.41098937-0.02598262j, -1.15117412-0.03584987j,\n",
       "        -0.09897074+0.29941663j,  0.13602369+0.4823225j ,\n",
       "         0.73082764-0.52671775j,  0.47949394-0.3026795j ,\n",
       "         0.76563317-0.02587864j,  0.27016452-0.36849913j,\n",
       "        -0.08796593-0.52077105j, -0.45015075+0.38016015j,\n",
       "        -0.24871558+0.21782749j, -1.02813758-0.32124215j,\n",
       "        -0.57565099+0.65806464j, -0.06828188+0.84420395j,\n",
       "         1.65443095-0.43221558j,  0.79820713-0.21251576j,\n",
       "        -0.04547835-0.42970644j, -0.13584757+0.12788924j,\n",
       "        -0.26635113+0.24313572j,  0.92175875+0.26755011j,\n",
       "         0.44762939-0.01554501j, -0.69087939-0.78367665j,\n",
       "        -0.72600233+0.44376787j, -0.30061017+0.75424203j,\n",
       "         1.14849245+0.2938297j ,  0.97319972-0.1450303j ,\n",
       "        -0.3008623 -0.58866809j, -0.4034293 +0.13262975j,\n",
       "        -0.1301101 +0.21640182j,  1.1059344 +0.31995144j,\n",
       "         0.55073765+0.10940042j, -0.48991272-0.6856956j ,\n",
       "        -0.25528459+0.28772759j, -0.37854681+0.50943788j,\n",
       "         0.9374505 +0.30413753j,  0.44435444+0.03578999j,\n",
       "        -0.32226683+0.05984328j, -0.00389283+0.08321449j,\n",
       "         0.26724917+0.07137217j,  0.23079031-0.23745669j,\n",
       "         0.22199294+0.06049797j, -0.60479862-0.36398486j,\n",
       "        -0.50132417+0.22677696j, -0.20721385+0.61477014j,\n",
       "         1.03683998-0.07705831j,  0.83601868-0.14506161j,\n",
       "         0.        +0.j        ,  0.        +0.j        ,\n",
       "        -1.3882272 +0.32875846j,  0.11516875+0.38839005j,\n",
       "         1.31526298-1.53564329j,  1.22157184-1.21301633j,\n",
       "        -1.10126313+2.85473954j,  0.32875846+1.3882272j ,\n",
       "         0.38839005-0.11516875j, -1.53564329-1.31526298j,\n",
       "        -1.21301633-1.22157184j,  2.85473954+1.10126313j],      dtype=complex128),\n",
       " Array([[ 0.17836104+0.j        , -0.01408975-0.02477838j,\n",
       "         -0.00222475+0.01029986j, ...,  0.00361195+0.00089317j,\n",
       "         -0.0095506 +0.07081822j, -0.00173967-0.12091646j],\n",
       "        [-0.01408975+0.02477838j,  0.13310249+0.j        ,\n",
       "          0.00948973+0.00848849j, ...,  0.02150348+0.00101831j,\n",
       "          0.05060334+0.03745351j,  0.00311375+0.02935913j],\n",
       "        [-0.00222475-0.01029986j,  0.00948973-0.00848849j,\n",
       "          0.16877277+0.j        , ...,  0.03440336-0.0973569j ,\n",
       "          0.06485454-0.03106139j, -0.07688779+0.07873028j],\n",
       "        ...,\n",
       "        [ 0.00361195-0.00089317j,  0.02150348-0.00101831j,\n",
       "          0.03440336+0.0973569j , ...,  0.26744463+0.j        ,\n",
       "          0.09265969+0.06886039j, -0.08835972-0.01963853j],\n",
       "        [-0.0095506 -0.07081822j,  0.05060334-0.03745351j,\n",
       "          0.06485454+0.03106139j, ...,  0.09265969-0.06886039j,\n",
       "          0.37868383+0.j        , -0.2136688 +0.00316302j],\n",
       "        [-0.00173967+0.12091646j,  0.00311375-0.02935913j,\n",
       "         -0.07688779-0.07873028j, ..., -0.08835972+0.01963853j,\n",
       "         -0.2136688 -0.00316302j,  0.56623434+0.j        ]],      dtype=complex128))"
      ]
     },
     "execution_count": 4,
     "metadata": {},
     "output_type": "execute_result"
    }
   ],
   "source": [
    "stochastic_reconfiguration.set_values(loss  =   v, \n",
    "                                derivatives =   g,\n",
    "                                mean_loss   =   means,\n",
    "                                mean_deriv  =   None,\n",
    "                                calculate_s =   False, \n",
    "                                use_minsr   =   False)\n",
    "\n",
    "f = stochastic_reconfiguration.forces\n",
    "s = stochastic_reconfiguration.covariance_matrix\n",
    "\n",
    "f.shape, s.shape\n",
    "f, s"
   ]
  },
  {
   "cell_type": "code",
   "execution_count": 30,
   "metadata": {},
   "outputs": [
    {
     "data": {
      "text/plain": [
       "(Array([[ 0.17836104+0.j        , -0.01408975-0.02477838j,\n",
       "         -0.00222475+0.01029986j, ...,  0.00361195+0.00089317j,\n",
       "         -0.0095506 +0.07081822j, -0.00173967-0.12091646j],\n",
       "        [-0.01408975+0.02477838j,  0.13310249+0.j        ,\n",
       "          0.00948973+0.00848849j, ...,  0.02150348+0.00101831j,\n",
       "          0.05060334+0.03745351j,  0.00311375+0.02935913j],\n",
       "        [-0.00222475-0.01029986j,  0.00948973-0.00848849j,\n",
       "          0.16877277+0.j        , ...,  0.03440336-0.0973569j ,\n",
       "          0.06485454-0.03106139j, -0.07688779+0.07873028j],\n",
       "        ...,\n",
       "        [ 0.00361195-0.00089317j,  0.02150348-0.00101831j,\n",
       "          0.03440336+0.0973569j , ...,  0.26744463+0.j        ,\n",
       "          0.09265969+0.06886039j, -0.08835972-0.01963853j],\n",
       "        [-0.0095506 -0.07081822j,  0.05060334-0.03745351j,\n",
       "          0.06485454+0.03106139j, ...,  0.09265969-0.06886039j,\n",
       "          0.37868383+0.j        , -0.2136688 +0.00316302j],\n",
       "        [-0.00173967+0.12091646j,  0.00311375-0.02935913j,\n",
       "         -0.07688779-0.07873028j, ..., -0.08835972+0.01963853j,\n",
       "         -0.2136688 -0.00316302j,  0.56623434+0.j        ]],      dtype=complex128),\n",
       " Array([ 0.26428973+0.1739097j , -0.11395763+0.48385559j,\n",
       "        -0.27217989-0.38713173j,  0.43372705+1.21698948j,\n",
       "        -0.3779888 -0.0804283j ,  0.1739097 -0.26428973j,\n",
       "         0.48385559+0.11395763j, -0.38713173+0.27217989j,\n",
       "         1.21698948-0.43372705j, -0.0804283 +0.3779888j ,\n",
       "        -0.37025503-0.22003306j,  0.20474047+0.08850593j,\n",
       "         0.12734321+0.35333574j, -0.07183843-0.28586903j,\n",
       "        -0.08340487-0.30222819j,  0.13062984-0.46466345j,\n",
       "        -0.00399698-0.08111365j, -0.21007173+0.14241707j,\n",
       "        -0.09979968+0.29970484j,  0.02845001+0.28851588j,\n",
       "         0.33426936+1.6184215j ,  0.75546934+0.15811787j,\n",
       "         0.75145869-0.16861571j, -1.48836277-1.02166969j,\n",
       "        -0.70238511-0.44611407j,  0.29509489-1.04279442j,\n",
       "        -0.89676457-0.47279632j, -0.78813699-0.1289433j ,\n",
       "         0.61081263+1.43293829j,  0.3831785 +0.78696658j,\n",
       "         0.33152668-0.06547847j, -0.33807899-0.06534315j,\n",
       "        -0.12869795-0.15538704j,  0.01836648+0.73789463j,\n",
       "         0.09503086+0.42294965j,  0.55150417-0.51788604j,\n",
       "        -0.54218422-0.53823739j, -0.63350969-0.34822976j,\n",
       "         0.20133407+1.04194485j,  0.28940978+0.81945533j,\n",
       "         0.65067918-0.33120927j, -0.26605218-0.43863766j,\n",
       "        -0.33483802-0.13820981j, -0.04433746+1.20595555j,\n",
       "         0.02429235+0.44063809j,  0.43330988-0.48306904j,\n",
       "        -0.43694031-0.12675136j, -0.5507462 -0.30633784j,\n",
       "         0.1462271 +0.5518346j ,  0.09589691+0.44293487j,\n",
       "        -0.1323781 -0.28692355j, -0.18922794+0.1000321j ,\n",
       "         0.17257656+0.17833823j,  0.29584099+0.11802578j,\n",
       "         0.07134755+0.14584846j,  0.37761149-0.37336136j,\n",
       "        -0.42451069-0.34455017j, -0.44912738-0.34289359j,\n",
       "         0.09052473+0.67905422j,  0.23721897+0.76954221j,\n",
       "        -0.22003306+0.37025503j,  0.08850593-0.20474047j,\n",
       "         0.35333574-0.12734321j, -0.28586903+0.07183843j,\n",
       "        -0.30222819+0.08340487j, -0.46466345-0.13062984j,\n",
       "        -0.08111365+0.00399698j,  0.14241707+0.21007173j,\n",
       "         0.29970484+0.09979968j,  0.28851588-0.02845001j,\n",
       "         1.6184215 -0.33426936j,  0.15811787-0.75546934j,\n",
       "        -0.16861571-0.75145869j, -1.02166969+1.48836277j,\n",
       "        -0.44611407+0.70238511j, -1.04279442-0.29509489j,\n",
       "        -0.47279632+0.89676457j, -0.1289433 +0.78813699j,\n",
       "         1.43293829-0.61081263j,  0.78696658-0.3831785j ,\n",
       "        -0.06547847-0.33152668j, -0.06534315+0.33807899j,\n",
       "        -0.15538704+0.12869795j,  0.73789463-0.01836648j,\n",
       "         0.42294965-0.09503086j, -0.51788604-0.55150417j,\n",
       "        -0.53823739+0.54218422j, -0.34822976+0.63350969j,\n",
       "         1.04194485-0.20133407j,  0.81945533-0.28940978j,\n",
       "        -0.33120927-0.65067918j, -0.43863766+0.26605218j,\n",
       "        -0.13820981+0.33483802j,  1.20595555+0.04433746j,\n",
       "         0.44063809-0.02429235j, -0.48306904-0.43330988j,\n",
       "        -0.12675136+0.43694031j, -0.30633784+0.5507462j ,\n",
       "         0.5518346 -0.1462271j ,  0.44293487-0.09589691j,\n",
       "        -0.28692355+0.1323781j ,  0.1000321 +0.18922794j,\n",
       "         0.17833823-0.17257656j,  0.11802578-0.29584099j,\n",
       "         0.14584846-0.07134755j, -0.37336136-0.37761149j,\n",
       "        -0.34455017+0.42451069j, -0.34289359+0.44912738j,\n",
       "         0.67905422-0.09052473j,  0.76954221-0.23721897j,\n",
       "         0.        +0.j        ,  0.        +0.j        ,\n",
       "        -1.49833962+0.28722148j, -0.0603168 -0.05526934j,\n",
       "         0.83079339-1.61923469j,  0.32375472-0.652796j  ,\n",
       "        -0.79447062+2.52160342j,  0.28722148+1.49833962j,\n",
       "        -0.05526934+0.0603168j , -1.61923469-0.83079339j,\n",
       "        -0.652796  -0.32375472j,  2.52160342+0.79447062j],      dtype=complex128))"
      ]
     },
     "execution_count": 30,
     "metadata": {},
     "output_type": "execute_result"
    }
   ],
   "source": [
    "stochastic_reconfiguration.covariance_matrix, stochastic_reconfiguration.forces"
   ]
  },
  {
   "cell_type": "code",
   "execution_count": 31,
   "metadata": {},
   "outputs": [
    {
     "data": {
      "text/plain": [
       "(122,)"
      ]
     },
     "execution_count": 31,
     "metadata": {},
     "output_type": "execute_result"
    }
   ],
   "source": [
    "solution = stochastic_reconfiguration.solve(use_s = True, use_minsr = False)\n",
    "solution.shape\n",
    "solution.shape"
   ]
  },
  {
   "cell_type": "markdown",
   "metadata": {},
   "source": [
    "###### b) With MINSR - solver = direct - no covariance S"
   ]
  },
  {
   "cell_type": "code",
   "execution_count": 22,
   "metadata": {},
   "outputs": [
    {
     "data": {
      "text/plain": [
       "<general_python.algebra.solvers.stochastic_rcnfg.StochasticReconfiguration at 0x3767fa420>"
      ]
     },
     "execution_count": 22,
     "metadata": {},
     "output_type": "execute_result"
    }
   ],
   "source": [
    "from general_python.algebra.solvers import stochastic_rcnfg as sr\n",
    "\n",
    "# get the samples - apply through the solver with the states\n",
    "(configs, ansatze), probabilities, (v, means, stds) = nqs.evaluate_fun(batch_size = 10)\n",
    "means, stds, configs.shape, ansatze.shape, probabilities.shape\n",
    "\n",
    "# get the derivatives - through the solver\n",
    "g = nqs.gradient(configs, batch_size=3)\n",
    "g.shape\n",
    "\n",
    "# create the sr\n",
    "stochastic_reconfiguration = sr.StochasticReconfiguration(None, backend='jax')\n",
    "stochastic_reconfiguration"
   ]
  },
  {
   "cell_type": "code",
   "execution_count": 23,
   "metadata": {},
   "outputs": [
    {
     "data": {
      "text/plain": [
       "((122,), (200, 200))"
      ]
     },
     "execution_count": 23,
     "metadata": {},
     "output_type": "execute_result"
    }
   ],
   "source": [
    "stochastic_reconfiguration.set_values(loss  =   v, \n",
    "                                derivatives =   g,\n",
    "                                mean_loss   =   means,\n",
    "                                mean_deriv  =   None,\n",
    "                                calculate_s =   False, \n",
    "                                use_minsr   =   True)\n",
    "\n",
    "f = stochastic_reconfiguration.forces\n",
    "s = stochastic_reconfiguration.covariance_matrix\n",
    "\n",
    "f.shape, s.shape"
   ]
  },
  {
   "cell_type": "markdown",
   "metadata": {},
   "source": [
    "#### Train it!"
   ]
  },
  {
   "cell_type": "code",
   "execution_count": null,
   "metadata": {},
   "outputs": [],
   "source": [
    "nqs.reset()"
   ]
  },
  {
   "cell_type": "code",
   "execution_count": 5,
   "metadata": {},
   "outputs": [],
   "source": [
    "energies = nqs.train(30)"
   ]
  },
  {
   "cell_type": "code",
   "execution_count": 6,
   "metadata": {},
   "outputs": [
    {
     "name": "stderr",
     "output_type": "stream",
     "text": [
      "/Users/makskliczkowski/miniconda3/lib/python3.12/site-packages/matplotlib/cbook.py:1762: ComplexWarning: Casting complex values to real discards the imaginary part\n",
      "  return math.isfinite(val)\n",
      "/Users/makskliczkowski/miniconda3/lib/python3.12/site-packages/matplotlib/cbook.py:1398: ComplexWarning: Casting complex values to real discards the imaginary part\n",
      "  return np.asarray(x, float)\n"
     ]
    },
    {
     "data": {
      "text/plain": [
       "[<matplotlib.lines.Line2D at 0x316075370>]"
      ]
     },
     "execution_count": 6,
     "metadata": {},
     "output_type": "execute_result"
    },
    {
     "data": {
      "image/png": "[encoded data removed]",
      "text/plain": [
       "<Figure size 350x262.5 with 1 Axes>"
      ]
     },
     "metadata": {},
     "output_type": "display_data"
    }
   ],
   "source": [
    "import matplotlib.pyplot as plt\n",
    "plt.plot(energies)"
   ]
  },
  {
   "cell_type": "code",
   "execution_count": 7,
   "metadata": {},
   "outputs": [
    {
     "name": "stderr",
     "output_type": "stream",
     "text": [
      "16_03_2025_19-43_39 [INFO] \t\t\t->\u001b[0m[Quantum Sun Model] JAX is available but NumPy is forced...\u001b[0m\n"
     ]
    },
    {
     "data": {
      "text/plain": [
       "array([-4.27949615, -4.14645406, -3.78872315, ...,  4.02838523,\n",
       "        4.24194772,  4.46954865])"
      ]
     },
     "execution_count": 7,
     "metadata": {},
     "output_type": "execute_result"
    }
   ],
   "source": [
    "ham.build(use_numpy=True)\n",
    "ham.diagonalize()\n",
    "ham.eig_val"
   ]
  },
  {
   "cell_type": "code",
   "execution_count": 9,
   "metadata": {},
   "outputs": [
    {
     "data": {
      "text/plain": [
       "[<matplotlib.lines.Line2D at 0x3407a34d0>]"
      ]
     },
     "execution_count": 9,
     "metadata": {},
     "output_type": "execute_result"
    },
    {
     "data": {
      "image/png": "[encoded data removed]",
      "text/plain": [
       "<Figure size 350x262.5 with 1 Axes>"
      ]
     },
     "metadata": {},
     "output_type": "display_data"
    }
   ],
   "source": [
    "plt.plot(energies)\n",
    "# plt.axhline(energies[0])\n"
   ]
  },
  {
   "cell_type": "code",
   "execution_count": null,
   "metadata": {},
   "outputs": [],
   "source": []
  }
 ],
 "metadata": {
  "kernelspec": {
   "display_name": "base",
   "language": "python",
   "name": "python3"
  },
  "language_info": {
   "codemirror_mode": {
    "name": "ipython",
    "version": 3
   },
   "file_extension": ".py",
   "mimetype": "text/x-python",
   "name": "python",
   "nbconvert_exporter": "python",
   "pygments_lexer": "ipython3",
   "version": "3.11.5"
  }
 },
 "nbformat": 4,
 "nbformat_minor": 2
}
