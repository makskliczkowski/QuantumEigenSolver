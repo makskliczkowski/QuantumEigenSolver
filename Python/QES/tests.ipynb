{
 "cells": [
  {
   "cell_type": "code",
   "execution_count": 2,
   "metadata": {},
   "outputs": [],
   "source": [
    "import sys\n",
    "import os\n",
    "\n",
    "# Add the parent directory (project root) to sys.path\n",
    "project_root = os.path.abspath(os.path.join(os.getcwd(), \"../..\"))\n",
    "if project_root not in sys.path:\n",
    "    sys.path.insert(0, project_root)"
   ]
  },
  {
   "cell_type": "markdown",
   "metadata": {},
   "source": [
    "# Randomness"
   ]
  },
  {
   "cell_type": "markdown",
   "metadata": {},
   "source": [
    "## JAX"
   ]
  },
  {
   "cell_type": "code",
   "execution_count": 1,
   "metadata": {},
   "outputs": [
    {
     "name": "stderr",
     "output_type": "stream",
     "text": [
      "INFO:general_python.algebra.utils:63: JAX backend available and successfully imported\n",
      "INFO:general_python.algebra.utils:63: \tJAX 64-bit precision enabled.\n",
      "INFO:general_python.algebra.utils:262: Setting JAX as the active backend.\n",
      "INFO:general_python.algebra.utils:63: **************************************************\n",
      "INFO:general_python.algebra.utils:63: Backend Configuration:\n",
      "INFO:general_python.algebra.utils:63: \t\tNumPy Version: 2.1.3\n",
      "INFO:general_python.algebra.utils:63: \t\tSciPy Version: 1.15.2\n",
      "INFO:general_python.algebra.utils:63: \t\tJAX Version: 0.5.3\n",
      "INFO:general_python.algebra.utils:63: \t\tActive Backend: jax\n",
      "INFO:general_python.algebra.utils:63: \t\t\tJAX Available: True\n",
      "INFO:general_python.algebra.utils:63: \t\t\tDefault Seed: 42\n",
      "INFO:general_python.algebra.utils:63: \t\tJAX Backend Details:\n",
      "INFO:general_python.algebra.utils:63: \t\t\t\tMain Module: jax.numpy\n",
      "INFO:general_python.algebra.utils:63: \t\t\t\tRandom Module: jax.random (+ PRNGKey)\n",
      "INFO:general_python.algebra.utils:63: \t\t\t\tSciPy Module: jax.scipy\n",
      "INFO:general_python.algebra.utils:63: \t\t\t\tDefault JAX Key: PRNGKey(42)\n",
      "INFO:general_python.algebra.utils:63: \t\tActive Data Types:\n",
      "INFO:general_python.algebra.utils:63: \t\t\t\tInteger Type: int64\n",
      "INFO:general_python.algebra.utils:63: \t\t\t\tFloat Type: float64\n",
      "INFO:general_python.algebra.utils:63: \t\t\t\tComplex Type: complex128\n",
      "INFO:general_python.algebra.utils:63: \t\tHardware & Device Detection:\n",
      "INFO:general_python.algebra.utils:63: \t\t\tCPU Cores: 8\n",
      "INFO:general_python.algebra.utils:63: \t\t\tDetected JAX Platform: DETECTION FAILED\n",
      "INFO:general_python.algebra.utils:63: \t\tJAX Devices Found: Detection Failed or Not Run\n",
      "INFO:general_python.algebra.utils:63: **************************************************\n",
      "\n",
      "\n",
      "\n"
     ]
    },
    {
     "name": "stdout",
     "output_type": "stream",
     "text": [
      "backend: <module 'numpy' from '/Users/makskliczkowski/miniconda3/lib/python3.12/site-packages/numpy/__init__.py'>\n",
      "key: None\n",
      "rnd_module: Generator(PCG64)\n",
      "rnd_module.random(): 0.7739560485559633\n",
      "rnd_module.randint(0, 10): 6\n",
      "rnd_module.uniform(0, 10): 8.585979199113824\n",
      "rnd_module.normal(0, 1): 0.9405647163912139\n",
      "uniform(0, 10): [7.73956049 4.3887844  8.5859792  6.97368029 0.94177348]\n",
      "\n",
      "backend: <module 'numpy' from '/Users/makskliczkowski/miniconda3/lib/python3.12/site-packages/numpy/__init__.py'>\n",
      "key: None\n",
      "rnd_module: Generator(PCG64)\n",
      "rnd_module.random(): 0.7739560485559633\n",
      "rnd_module.randint(0, 10): 6\n",
      "rnd_module.uniform(0, 10): 8.585979199113824\n",
      "rnd_module.normal(0, 1): 0.9405647163912139\n",
      "uniform(0, 10): [7.73956049 4.3887844  8.5859792  6.97368029 0.94177348]\n",
      "\n",
      "backend: <module 'numpy' from '/Users/makskliczkowski/miniconda3/lib/python3.12/site-packages/numpy/__init__.py'>\n",
      "key: None\n",
      "rnd_module: Generator(PCG64)\n",
      "rnd_module.random(): 0.7739560485559633\n",
      "rnd_module.randint(0, 10): 6\n",
      "rnd_module.uniform(0, 10): 8.585979199113824\n",
      "rnd_module.normal(0, 1): 0.9405647163912139\n",
      "uniform(0, 10): [7.73956049 4.3887844  8.5859792  6.97368029 0.94177348]\n",
      "\n",
      "backend: <module 'numpy' from '/Users/makskliczkowski/miniconda3/lib/python3.12/site-packages/numpy/__init__.py'>\n",
      "key: None\n",
      "rnd_module: Generator(PCG64)\n",
      "rnd_module.random(): 0.7739560485559633\n",
      "rnd_module.randint(0, 10): 6\n",
      "rnd_module.uniform(0, 10): 8.585979199113824\n",
      "rnd_module.normal(0, 1): 0.9405647163912139\n",
      "uniform(0, 10): [7.73956049 4.3887844  8.5859792  6.97368029 0.94177348]\n",
      "\n",
      "backend: <module 'numpy' from '/Users/makskliczkowski/miniconda3/lib/python3.12/site-packages/numpy/__init__.py'>\n",
      "key: None\n",
      "rnd_module: Generator(PCG64)\n",
      "rnd_module.random(): 0.7739560485559633\n",
      "rnd_module.randint(0, 10): 6\n",
      "rnd_module.uniform(0, 10): 8.585979199113824\n",
      "rnd_module.normal(0, 1): 0.9405647163912139\n",
      "uniform(0, 10): [7.73956049 4.3887844  8.5859792  6.97368029 0.94177348]\n",
      "\n"
     ]
    }
   ],
   "source": [
    "from general_python.algebra.utils import get_backend as __backend\n",
    "from general_python.algebra.ran_wrapper import uniform, randint\n",
    "# test random\n",
    "seed    = None\n",
    "backend = 'np'\n",
    "for i in range(5):\n",
    "    modules = __backend(backend, random=True, seed=seed)\n",
    "    backend, (rnd_module, key) = modules if isinstance(modules, tuple) else (modules, (None, None))\n",
    "    print(f\"backend: {backend}\")\n",
    "    print(f\"key: {key}\")\n",
    "    print(f\"rnd_module: {rnd_module}\")\n",
    "    print(f\"rnd_module.random(): {rnd_module.random()}\")\n",
    "    print(f\"rnd_module.randint(0, 10): {rnd_module.integers(0, 10)}\")\n",
    "    print(f\"rnd_module.uniform(0, 10): {rnd_module.uniform(0, 10)}\")\n",
    "    print(f\"rnd_module.normal(0, 1): {rnd_module.normal(0, 1)}\")\n",
    "    # take the function from random wrapper\n",
    "    print(f\"uniform(0, 10): {uniform(shape=(5,),minval=0, maxval=10, backend=backend, seed=seed)}\")\n",
    "    print()"
   ]
  },
  {
   "cell_type": "code",
   "execution_count": null,
   "metadata": {},
   "outputs": [],
   "source": []
  },
  {
   "cell_type": "markdown",
   "metadata": {},
   "source": [
    "# Models\n",
    "This set of "
   ]
  },
  {
   "cell_type": "markdown",
   "metadata": {},
   "source": [
    "## Operators Test with all backends"
   ]
  },
  {
   "cell_type": "code",
   "execution_count": 1,
   "metadata": {},
   "outputs": [
    {
     "name": "stdout",
     "output_type": "stream",
     "text": [
      "=== Backend Initialization ===\n",
      "\tNumPy Version: 1.26.4\n",
      "\tSciPy Version: 1.13.1\n",
      "\tJAX Version: Not Available\n",
      "\t\tActive Backend: jax\n",
      "\t\tJAX Available: True\n",
      "\t\tDefault Random Key: [    0 12345]\n",
      "\tActive Backend Modules:\n",
      "\t\t\tMain Module: <module 'jax.numpy' from '/Users/makskliczkowski/miniconda3/lib/python3.12/site-packages/jax/numpy/__init__.py'>\n",
      "\t\t\tRandom Module: <module 'jax.random' from '/Users/makskliczkowski/miniconda3/lib/python3.12/site-packages/jax/random.py'>\n",
      "\t\t\tSciPy Module: <module 'jax.scipy' from '/Users/makskliczkowski/miniconda3/lib/python3.12/site-packages/jax/scipy/__init__.py'>\n",
      "=== End of Backend Info ===\n"
     ]
    },
    {
     "data": {
      "text/plain": [
       "HON,LatticeBC.PBC,d=2,Ns=8,Lx=2,Ly=2,Lz=1"
      ]
     },
     "execution_count": 1,
     "metadata": {},
     "output_type": "execute_result"
    }
   ],
   "source": [
    "from general_python.lattices.honeycomb import HoneycombLattice\n",
    "from general_python.lattices.lattice import LatticeBC\n",
    "import general_python.common.binary as bin_mod\n",
    "import numpy as np\n",
    "\n",
    "backend = 'np'\n",
    "lat     = HoneycombLattice( dim     = 2,\n",
    "                            lx      = 2,\n",
    "                            ly      = 2,\n",
    "                            lz      = 1,\n",
    "                            bc      = LatticeBC.PBC)\n",
    "lat"
   ]
  },
  {
   "cell_type": "markdown",
   "metadata": {},
   "source": [
    "### Local operators test"
   ]
  },
  {
   "cell_type": "code",
   "execution_count": 16,
   "metadata": {},
   "outputs": [
    {
     "data": {
      "text/plain": [
       "(129,\n",
       " array([1., 1., 1., 1., 1., 1., 1., 1.]),\n",
       " Array([1., 1., 1., 1., 1., 1., 1., 1.], dtype=float64))"
      ]
     },
     "execution_count": 16,
     "metadata": {},
     "output_type": "execute_result"
    }
   ],
   "source": [
    "# create an operator\n",
    "import Algebra.Operator.operators_spin as op_spin\n",
    "import jax.numpy as jnp\n",
    "\n",
    "sig_x = op_spin.sig_x(\n",
    "    lattice  = lat,\n",
    "    type_act = op_spin.OperatorTypeActing.Local\n",
    ")\n",
    "sig_z = op_spin.sig_z(\n",
    "    lattice  = lat,\n",
    "    type_act = op_spin.OperatorTypeActing.Local\n",
    ")\n",
    "\n",
    "# create a set of states and test it\n",
    "int_state = np.random.randint(0, 2**lat.ns, dtype=np.int32)\n",
    "np_state  = np.ones((lat.ns), dtype = np.float64)\n",
    "jnp_state = jnp.ones((lat.ns), dtype = jnp.float64)\n",
    "\n",
    "int_state, np_state, jnp_state"
   ]
  },
  {
   "cell_type": "markdown",
   "metadata": {},
   "source": [
    "#### Integer states"
   ]
  },
  {
   "cell_type": "code",
   "execution_count": 13,
   "metadata": {},
   "outputs": [
    {
     "name": "stdout",
     "output_type": "stream",
     "text": [
      "Before: 00011101\n",
      "i: 0)\n",
      "\tSigma Z\n",
      "\t\tAfter 0'th s_z: (29)b00011101 with value [-0.5]\n",
      "\tSigma X\n",
      "\t\tAfter 0'th s_x: (157)b10011101 with value [0.5]\n",
      "i: 1)\n",
      "\tSigma Z\n",
      "\t\tAfter 1'th s_z: (29)b00011101 with value [-0.5]\n",
      "\tSigma X\n",
      "\t\tAfter 1'th s_x: (93)b01011101 with value [0.5]\n",
      "i: 2)\n",
      "\tSigma Z\n",
      "\t\tAfter 2'th s_z: (29)b00011101 with value [-0.5]\n",
      "\tSigma X\n",
      "\t\tAfter 2'th s_x: (61)b00111101 with value [0.5]\n",
      "i: 3)\n",
      "\tSigma Z\n",
      "\t\tAfter 3'th s_z: (29)b00011101 with value [0.5]\n",
      "\tSigma X\n",
      "\t\tAfter 3'th s_x: (13)b00001101 with value [0.5]\n",
      "i: 4)\n",
      "\tSigma Z\n",
      "\t\tAfter 4'th s_z: (29)b00011101 with value [0.5]\n",
      "\tSigma X\n",
      "\t\tAfter 4'th s_x: (21)b00010101 with value [0.5]\n",
      "i: 5)\n",
      "\tSigma Z\n",
      "\t\tAfter 5'th s_z: (29)b00011101 with value [0.5]\n",
      "\tSigma X\n",
      "\t\tAfter 5'th s_x: (25)b00011001 with value [0.5]\n",
      "i: 6)\n",
      "\tSigma Z\n",
      "\t\tAfter 6'th s_z: (29)b00011101 with value [-0.5]\n",
      "\tSigma X\n",
      "\t\tAfter 6'th s_x: (31)b00011111 with value [0.5]\n",
      "i: 7)\n",
      "\tSigma Z\n",
      "\t\tAfter 7'th s_z: (29)b00011101 with value [0.5]\n",
      "\tSigma X\n",
      "\t\tAfter 7'th s_x: (28)b00011100 with value [0.5]\n"
     ]
    }
   ],
   "source": [
    "print(f\"Before: {bin_mod.int2binstr(int_state, lat.ns)}\")\n",
    "for i in range(lat.ns):\n",
    "    print(f\"i: {i})\")\n",
    "    print(\"\\tSigma Z\")\n",
    "    # sig_z\n",
    "    int_state_mod, int_state_mod_val = sig_z(int_state, i)\n",
    "    print(f\"\\t\\tAfter {i}'th s_z: ({int_state_mod[0]})b{bin_mod.int2binstr(int_state_mod[0], lat.ns)} with value {int_state_mod_val}\")\n",
    "    print(\"\\tSigma X\")\n",
    "    # sig_x\n",
    "    int_state_mod, int_state_mod_val = sig_x(int_state, i)\n",
    "    print(f\"\\t\\tAfter {i}'th s_x: ({int_state_mod[0]})b{bin_mod.int2binstr(int_state_mod[0], lat.ns)} with value {int_state_mod_val}\")"
   ]
  },
  {
   "cell_type": "markdown",
   "metadata": {},
   "source": [
    "#### Numpy states"
   ]
  },
  {
   "cell_type": "code",
   "execution_count": null,
   "metadata": {},
   "outputs": [
    {
     "name": "stdout",
     "output_type": "stream",
     "text": [
      "i: 0)\n"
     ]
    },
    {
     "ename": "TypingError",
     "evalue": "Failed in nopython mode pipeline (step: nopython frontend)\nFailed in nopython mode pipeline (step: nopython frontend)\nInvalid use of getiter with parameters (int64)\n\nDuring: typing of intrinsic-call at /Users/makskliczkowski/Codes/QuantumEigenSolver/Python/QES/Algebra/Operator/operators_spin.py (143)\n\nFile \"Algebra/Operator/operators_spin.py\", line 143:\ndef sigma_x_np(state    : np.ndarray,\n    <source elided>\n    out     = state.copy()\n    for site in sites:\n    ^\n\nDuring: resolving callee type: type(CPUDispatcher(<function sigma_x_np at 0x165d05120>))\nDuring: typing of call at /Users/makskliczkowski/Codes/QuantumEigenSolver/Python/QES/Algebra/Operator/operator.py (1639)\n\nDuring: resolving callee type: type(CPUDispatcher(<function sigma_x_np at 0x165d05120>))\nDuring: typing of call at /Users/makskliczkowski/Codes/QuantumEigenSolver/Python/QES/Algebra/Operator/operator.py (1639)\n\nDuring: resolving callee type: type(CPUDispatcher(<function sigma_x_np at 0x165d05120>))\nDuring: typing of call at /Users/makskliczkowski/Codes/QuantumEigenSolver/Python/QES/Algebra/Operator/operator.py (1639)\n\nDuring: resolving callee type: type(CPUDispatcher(<function sigma_x_np at 0x165d05120>))\nDuring: typing of call at /Users/makskliczkowski/Codes/QuantumEigenSolver/Python/QES/Algebra/Operator/operator.py (1639)\n\n\nFile \"Algebra/Operator/operator.py\", line 1639:\n        def fun_np(state, i):\n            return op_func_np(state, i, *extra_args)\n            ^\n",
     "output_type": "error",
     "traceback": [
      "\u001b[0;31m---------------------------------------------------------------------------\u001b[0m",
      "\u001b[0;31mTypingError\u001b[0m                               Traceback (most recent call last)",
      "Cell \u001b[0;32mIn[15], line 4\u001b[0m\n\u001b[1;32m      2\u001b[0m \u001b[38;5;28mprint\u001b[39m(\u001b[38;5;124mf\u001b[39m\u001b[38;5;124m\"\u001b[39m\u001b[38;5;124mi: \u001b[39m\u001b[38;5;132;01m{\u001b[39;00mi\u001b[38;5;132;01m}\u001b[39;00m\u001b[38;5;124m)\u001b[39m\u001b[38;5;124m\"\u001b[39m)\n\u001b[1;32m      3\u001b[0m sites            \u001b[38;5;241m=\u001b[39m np\u001b[38;5;241m.\u001b[39marray([i])\n\u001b[0;32m----> 4\u001b[0m np_modified_x, _ \u001b[38;5;241m=\u001b[39m sig_x(np_state, \u001b[38;5;241m*\u001b[39msites)\n\u001b[1;32m      5\u001b[0m np_modified_z, _ \u001b[38;5;241m=\u001b[39m sig_z(np_state, \u001b[38;5;241m*\u001b[39msites)\n\u001b[1;32m      6\u001b[0m \u001b[38;5;28mprint\u001b[39m(\u001b[38;5;124mf\u001b[39m\u001b[38;5;124m\"\u001b[39m\u001b[38;5;124mBefore: \u001b[39m\u001b[38;5;132;01m{\u001b[39;00mnp_state\u001b[38;5;132;01m}\u001b[39;00m\u001b[38;5;124m, acting on sites \u001b[39m\u001b[38;5;132;01m{\u001b[39;00msites\u001b[38;5;132;01m}\u001b[39;00m\u001b[38;5;124m\"\u001b[39m)\n",
      "File \u001b[0;32m~/Codes/QuantumEigenSolver/Python/QES/Algebra/Operator/operator.py:1358\u001b[0m, in \u001b[0;36mOperator.__call__\u001b[0;34m(self, states, *args)\u001b[0m\n\u001b[1;32m   1348\u001b[0m \u001b[38;5;28;01mdef\u001b[39;00m \u001b[38;5;21m__call__\u001b[39m(\u001b[38;5;28mself\u001b[39m, states: \u001b[38;5;28mlist\u001b[39m \u001b[38;5;241m|\u001b[39m np\u001b[38;5;241m.\u001b[39mndarray \u001b[38;5;241m|\u001b[39m jnp\u001b[38;5;241m.\u001b[39mndarray, \u001b[38;5;241m*\u001b[39margs):\n\u001b[1;32m   1349\u001b[0m \u001b[38;5;250m    \u001b[39m\u001b[38;5;124;03m\"\"\"\u001b[39;00m\n\u001b[1;32m   1350\u001b[0m \u001b[38;5;124;03m    Apply the operator to the state. \u001b[39;00m\n\u001b[1;32m   1351\u001b[0m \u001b[38;5;124;03m    \u001b[39;00m\n\u001b[0;32m   (...)\u001b[0m\n\u001b[1;32m   1356\u001b[0m \u001b[38;5;124;03m                            If there are arguments, the operator acts on the state locally - local operator (e.g., site-dependent).\u001b[39;00m\n\u001b[1;32m   1357\u001b[0m \u001b[38;5;124;03m    \"\"\"\u001b[39;00m\n\u001b[0;32m-> 1358\u001b[0m     \u001b[38;5;28;01mreturn\u001b[39;00m \u001b[38;5;28mself\u001b[39m\u001b[38;5;241m.\u001b[39mapply(states, \u001b[38;5;241m*\u001b[39margs)\n",
      "File \u001b[0;32m~/Codes/QuantumEigenSolver/Python/QES/Algebra/Operator/operator.py:1339\u001b[0m, in \u001b[0;36mOperator.apply\u001b[0;34m(self, states, *args)\u001b[0m\n\u001b[1;32m   1337\u001b[0m     \u001b[38;5;28;01mreturn\u001b[39;00m \u001b[38;5;28mself\u001b[39m\u001b[38;5;241m.\u001b[39m_apply_global(states)\n\u001b[1;32m   1338\u001b[0m \u001b[38;5;28;01melif\u001b[39;00m \u001b[38;5;28mself\u001b[39m\u001b[38;5;241m.\u001b[39m_type_acting\u001b[38;5;241m.\u001b[39mis_local():\n\u001b[0;32m-> 1339\u001b[0m     \u001b[38;5;28;01mreturn\u001b[39;00m \u001b[38;5;28mself\u001b[39m\u001b[38;5;241m.\u001b[39m_apply_local(states, \u001b[38;5;241m*\u001b[39margs)\n\u001b[1;32m   1340\u001b[0m \u001b[38;5;28;01melif\u001b[39;00m \u001b[38;5;28mself\u001b[39m\u001b[38;5;241m.\u001b[39m_type_acting\u001b[38;5;241m.\u001b[39mis_correlation():\n\u001b[1;32m   1341\u001b[0m     \u001b[38;5;28;01mreturn\u001b[39;00m \u001b[38;5;28mself\u001b[39m\u001b[38;5;241m.\u001b[39m_apply_correlation(states, \u001b[38;5;241m*\u001b[39margs)\n",
      "File \u001b[0;32m~/Codes/QuantumEigenSolver/Python/QES/Algebra/Operator/operator.py:1295\u001b[0m, in \u001b[0;36mOperator._apply_local\u001b[0;34m(self, states, i)\u001b[0m\n\u001b[1;32m   1281\u001b[0m \u001b[38;5;250m\u001b[39m\u001b[38;5;124;03m\"\"\"\u001b[39;00m\n\u001b[1;32m   1282\u001b[0m \u001b[38;5;124;03mApplies a local operation to a given state or a collection of states.\u001b[39;00m\n\u001b[1;32m   1283\u001b[0m \u001b[38;5;124;03mParameters:\u001b[39;00m\n\u001b[0;32m   (...)\u001b[0m\n\u001b[1;32m   1291\u001b[0m \u001b[38;5;124;03m        If the input is a single state, the result is returned as a single state and value.\u001b[39;00m\n\u001b[1;32m   1292\u001b[0m \u001b[38;5;124;03m\"\"\"\u001b[39;00m\n\u001b[1;32m   1293\u001b[0m \u001b[38;5;28;01mif\u001b[39;00m (\u001b[38;5;28mhasattr\u001b[39m(states, \u001b[38;5;124m'\u001b[39m\u001b[38;5;124mshape\u001b[39m\u001b[38;5;124m'\u001b[39m) \u001b[38;5;129;01mand\u001b[39;00m \u001b[38;5;28mlen\u001b[39m(states\u001b[38;5;241m.\u001b[39mshape) \u001b[38;5;241m==\u001b[39m \u001b[38;5;241m1\u001b[39m) \u001b[38;5;129;01mor\u001b[39;00m \u001b[38;5;28misinstance\u001b[39m(states, (\u001b[38;5;28mint\u001b[39m, np\u001b[38;5;241m.\u001b[39mint8, np\u001b[38;5;241m.\u001b[39mint16, np\u001b[38;5;241m.\u001b[39mint32, np\u001b[38;5;241m.\u001b[39mint64)):\n\u001b[1;32m   1294\u001b[0m     \u001b[38;5;66;03m# if the state is a single state, apply the function directly\u001b[39;00m\n\u001b[0;32m-> 1295\u001b[0m     st, val \u001b[38;5;241m=\u001b[39m \u001b[38;5;28mself\u001b[39m\u001b[38;5;241m.\u001b[39m_fun(states, i)\n\u001b[1;32m   1296\u001b[0m     \u001b[38;5;28;01mreturn\u001b[39;00m st, val \u001b[38;5;241m*\u001b[39m \u001b[38;5;28mself\u001b[39m\u001b[38;5;241m.\u001b[39m_eigval\n\u001b[1;32m   1297\u001b[0m results     \u001b[38;5;241m=\u001b[39m [\u001b[38;5;28mself\u001b[39m\u001b[38;5;241m.\u001b[39m_fun(state, i) \u001b[38;5;28;01mfor\u001b[39;00m state \u001b[38;5;129;01min\u001b[39;00m states]\n",
      "File \u001b[0;32m~/Codes/QuantumEigenSolver/Python/QES/Algebra/Operator/operator.py:337\u001b[0m, in \u001b[0;36mOperatorFunction.__call__\u001b[0;34m(self, s, *args)\u001b[0m\n\u001b[1;32m    321\u001b[0m \u001b[38;5;28;01mdef\u001b[39;00m \u001b[38;5;21m__call__\u001b[39m(\u001b[38;5;28mself\u001b[39m, s: Union[\u001b[38;5;28mint\u001b[39m], \u001b[38;5;241m*\u001b[39margs) \u001b[38;5;241m-\u001b[39m\u001b[38;5;241m>\u001b[39m List[Tuple[Optional[Union[\u001b[38;5;28mint\u001b[39m]], Union[\u001b[38;5;28mfloat\u001b[39m, \u001b[38;5;28mcomplex\u001b[39m]]]:\n\u001b[1;32m    322\u001b[0m \u001b[38;5;250m    \u001b[39m\u001b[38;5;124;03m\"\"\"\u001b[39;00m\n\u001b[1;32m    323\u001b[0m \u001b[38;5;124;03m    Apply the operator function to a given state.\u001b[39;00m\n\u001b[1;32m    324\u001b[0m \n\u001b[0;32m   (...)\u001b[0m\n\u001b[1;32m    335\u001b[0m \u001b[38;5;124;03m                    or if the return type from the operator function is not recognized.\u001b[39;00m\n\u001b[1;32m    336\u001b[0m \u001b[38;5;124;03m    \"\"\"\u001b[39;00m\n\u001b[0;32m--> 337\u001b[0m     \u001b[38;5;28;01mreturn\u001b[39;00m \u001b[38;5;28mself\u001b[39m\u001b[38;5;241m.\u001b[39mapply(s, \u001b[38;5;241m*\u001b[39margs)\n",
      "File \u001b[0;32m~/Codes/QuantumEigenSolver/Python/QES/Algebra/Operator/operator.py:302\u001b[0m, in \u001b[0;36mOperatorFunction.apply\u001b[0;34m(self, s, *args)\u001b[0m\n\u001b[1;32m    300\u001b[0m     result \u001b[38;5;241m=\u001b[39m \u001b[38;5;28mself\u001b[39m\u001b[38;5;241m.\u001b[39m_apply_global(s)\n\u001b[1;32m    301\u001b[0m \u001b[38;5;28;01melif\u001b[39;00m \u001b[38;5;28mself\u001b[39m\u001b[38;5;241m.\u001b[39m_necessary_args \u001b[38;5;241m==\u001b[39m \u001b[38;5;241m1\u001b[39m:\n\u001b[0;32m--> 302\u001b[0m     result \u001b[38;5;241m=\u001b[39m \u001b[38;5;28mself\u001b[39m\u001b[38;5;241m.\u001b[39m_apply_local(s, args[\u001b[38;5;241m0\u001b[39m])\n\u001b[1;32m    303\u001b[0m \u001b[38;5;28;01melif\u001b[39;00m \u001b[38;5;28mself\u001b[39m\u001b[38;5;241m.\u001b[39m_necessary_args \u001b[38;5;241m==\u001b[39m \u001b[38;5;241m2\u001b[39m:\n\u001b[1;32m    304\u001b[0m     result \u001b[38;5;241m=\u001b[39m \u001b[38;5;28mself\u001b[39m\u001b[38;5;241m.\u001b[39m_apply_correlation(s, args[\u001b[38;5;241m0\u001b[39m], args[\u001b[38;5;241m1\u001b[39m])\n",
      "File \u001b[0;32m~/Codes/QuantumEigenSolver/Python/QES/Algebra/Operator/operator.py:243\u001b[0m, in \u001b[0;36mOperatorFunction._apply_local\u001b[0;34m(self, s, i)\u001b[0m\n\u001b[1;32m    240\u001b[0m \u001b[38;5;66;03m# If the state is a NumPy array, use the NumPy function\u001b[39;00m\n\u001b[1;32m    241\u001b[0m \u001b[38;5;28;01melif\u001b[39;00m \u001b[38;5;28misinstance\u001b[39m(s, np\u001b[38;5;241m.\u001b[39mndarray) \u001b[38;5;129;01mand\u001b[39;00m \u001b[38;5;28mself\u001b[39m\u001b[38;5;241m.\u001b[39m_fun_np \u001b[38;5;129;01mis\u001b[39;00m \u001b[38;5;129;01mnot\u001b[39;00m \u001b[38;5;28;01mNone\u001b[39;00m:\n\u001b[1;32m    242\u001b[0m     \u001b[38;5;66;03m# If the state is a NumPy array, use the NumPy function\u001b[39;00m\n\u001b[0;32m--> 243\u001b[0m     \u001b[38;5;28;01mreturn\u001b[39;00m \u001b[38;5;28mself\u001b[39m\u001b[38;5;241m.\u001b[39m_fun_np(s, i)\n\u001b[1;32m    244\u001b[0m \u001b[38;5;66;03m# If the state is an integer, use the integer function\u001b[39;00m\n\u001b[1;32m    245\u001b[0m \u001b[38;5;66;03m# Note: The integer function should be able to handle the additional argument\u001b[39;00m\n\u001b[1;32m    246\u001b[0m \u001b[38;5;28;01mreturn\u001b[39;00m \u001b[38;5;28mself\u001b[39m\u001b[38;5;241m.\u001b[39m_fun_int(s, i)\n",
      "File \u001b[0;32m~/miniconda3/lib/python3.12/site-packages/numba/core/dispatcher.py:423\u001b[0m, in \u001b[0;36m_DispatcherBase._compile_for_args\u001b[0;34m(self, *args, **kws)\u001b[0m\n\u001b[1;32m    419\u001b[0m         msg \u001b[38;5;241m=\u001b[39m (\u001b[38;5;124mf\u001b[39m\u001b[38;5;124m\"\u001b[39m\u001b[38;5;132;01m{\u001b[39;00m\u001b[38;5;28mstr\u001b[39m(e)\u001b[38;5;241m.\u001b[39mrstrip()\u001b[38;5;132;01m}\u001b[39;00m\u001b[38;5;124m \u001b[39m\u001b[38;5;130;01m\\n\u001b[39;00m\u001b[38;5;130;01m\\n\u001b[39;00m\u001b[38;5;124mThis error may have been caused \u001b[39m\u001b[38;5;124m\"\u001b[39m\n\u001b[1;32m    420\u001b[0m                \u001b[38;5;124mf\u001b[39m\u001b[38;5;124m\"\u001b[39m\u001b[38;5;124mby the following argument(s):\u001b[39m\u001b[38;5;130;01m\\n\u001b[39;00m\u001b[38;5;132;01m{\u001b[39;00margs_str\u001b[38;5;132;01m}\u001b[39;00m\u001b[38;5;130;01m\\n\u001b[39;00m\u001b[38;5;124m\"\u001b[39m)\n\u001b[1;32m    421\u001b[0m         e\u001b[38;5;241m.\u001b[39mpatch_message(msg)\n\u001b[0;32m--> 423\u001b[0m     error_rewrite(e, \u001b[38;5;124m'\u001b[39m\u001b[38;5;124mtyping\u001b[39m\u001b[38;5;124m'\u001b[39m)\n\u001b[1;32m    424\u001b[0m \u001b[38;5;28;01mexcept\u001b[39;00m errors\u001b[38;5;241m.\u001b[39mUnsupportedError \u001b[38;5;28;01mas\u001b[39;00m e:\n\u001b[1;32m    425\u001b[0m     \u001b[38;5;66;03m# Something unsupported is present in the user code, add help info\u001b[39;00m\n\u001b[1;32m    426\u001b[0m     error_rewrite(e, \u001b[38;5;124m'\u001b[39m\u001b[38;5;124munsupported_error\u001b[39m\u001b[38;5;124m'\u001b[39m)\n",
      "File \u001b[0;32m~/miniconda3/lib/python3.12/site-packages/numba/core/dispatcher.py:364\u001b[0m, in \u001b[0;36m_DispatcherBase._compile_for_args.<locals>.error_rewrite\u001b[0;34m(e, issue_type)\u001b[0m\n\u001b[1;32m    362\u001b[0m     \u001b[38;5;28;01mraise\u001b[39;00m e\n\u001b[1;32m    363\u001b[0m \u001b[38;5;28;01melse\u001b[39;00m:\n\u001b[0;32m--> 364\u001b[0m     \u001b[38;5;28;01mraise\u001b[39;00m e\u001b[38;5;241m.\u001b[39mwith_traceback(\u001b[38;5;28;01mNone\u001b[39;00m)\n",
      "\u001b[0;31mTypingError\u001b[0m: Failed in nopython mode pipeline (step: nopython frontend)\nFailed in nopython mode pipeline (step: nopython frontend)\nInvalid use of getiter with parameters (int64)\n\nDuring: typing of intrinsic-call at /Users/makskliczkowski/Codes/QuantumEigenSolver/Python/QES/Algebra/Operator/operators_spin.py (143)\n\nFile \"Algebra/Operator/operators_spin.py\", line 143:\ndef sigma_x_np(state    : np.ndarray,\n    <source elided>\n    out     = state.copy()\n    for site in sites:\n    ^\n\nDuring: resolving callee type: type(CPUDispatcher(<function sigma_x_np at 0x165d05120>))\nDuring: typing of call at /Users/makskliczkowski/Codes/QuantumEigenSolver/Python/QES/Algebra/Operator/operator.py (1639)\n\nDuring: resolving callee type: type(CPUDispatcher(<function sigma_x_np at 0x165d05120>))\nDuring: typing of call at /Users/makskliczkowski/Codes/QuantumEigenSolver/Python/QES/Algebra/Operator/operator.py (1639)\n\nDuring: resolving callee type: type(CPUDispatcher(<function sigma_x_np at 0x165d05120>))\nDuring: typing of call at /Users/makskliczkowski/Codes/QuantumEigenSolver/Python/QES/Algebra/Operator/operator.py (1639)\n\nDuring: resolving callee type: type(CPUDispatcher(<function sigma_x_np at 0x165d05120>))\nDuring: typing of call at /Users/makskliczkowski/Codes/QuantumEigenSolver/Python/QES/Algebra/Operator/operator.py (1639)\n\n\nFile \"Algebra/Operator/operator.py\", line 1639:\n        def fun_np(state, i):\n            return op_func_np(state, i, *extra_args)\n            ^\n"
     ]
    }
   ],
   "source": [
    "for i in range(lat.ns):\n",
    "    print(f\"i: {i})\")\n",
    "    sites            = [i]\n",
    "    np_modified_x, _ = sig_x(np_state, *sites)\n",
    "    np_modified_z, _ = sig_z(np_state, *sites)\n",
    "    print(f\"Before: {np_state}, acting on sites {sites}\")\n",
    "    print(f\"After X: {np_modified_x}\")\n",
    "    print(f\"After Z: {np_modified_z}\")"
   ]
  },
  {
   "cell_type": "markdown",
   "metadata": {},
   "source": [
    "#### Jax states"
   ]
  },
  {
   "cell_type": "code",
   "execution_count": 7,
   "metadata": {},
   "outputs": [
    {
     "name": "stdout",
     "output_type": "stream",
     "text": [
      "i: 0)\n",
      "Before: [1. 1. 1. 1. 1. 1. 1. 1.], acting on sites [0]\n",
      "After X: [-1.  1.  1.  1.  1.  1.  1.  1.]\n",
      "After Z: [1. 1. 1. 1. 1. 1. 1. 1.]\n",
      "i: 1)\n",
      "Before: [1. 1. 1. 1. 1. 1. 1. 1.], acting on sites [1]\n",
      "After X: [ 1. -1.  1.  1.  1.  1.  1.  1.]\n",
      "After Z: [1. 1. 1. 1. 1. 1. 1. 1.]\n",
      "i: 2)\n",
      "Before: [1. 1. 1. 1. 1. 1. 1. 1.], acting on sites [2]\n",
      "After X: [ 1.  1. -1.  1.  1.  1.  1.  1.]\n",
      "After Z: [1. 1. 1. 1. 1. 1. 1. 1.]\n",
      "i: 3)\n",
      "Before: [1. 1. 1. 1. 1. 1. 1. 1.], acting on sites [3]\n",
      "After X: [ 1.  1.  1. -1.  1.  1.  1.  1.]\n",
      "After Z: [1. 1. 1. 1. 1. 1. 1. 1.]\n",
      "i: 4)\n",
      "Before: [1. 1. 1. 1. 1. 1. 1. 1.], acting on sites [4]\n",
      "After X: [ 1.  1.  1.  1. -1.  1.  1.  1.]\n",
      "After Z: [1. 1. 1. 1. 1. 1. 1. 1.]\n",
      "i: 5)\n",
      "Before: [1. 1. 1. 1. 1. 1. 1. 1.], acting on sites [5]\n",
      "After X: [ 1.  1.  1.  1.  1. -1.  1.  1.]\n",
      "After Z: [1. 1. 1. 1. 1. 1. 1. 1.]\n",
      "i: 6)\n",
      "Before: [1. 1. 1. 1. 1. 1. 1. 1.], acting on sites [6]\n",
      "After X: [ 1.  1.  1.  1.  1.  1. -1.  1.]\n",
      "After Z: [1. 1. 1. 1. 1. 1. 1. 1.]\n",
      "i: 7)\n",
      "Before: [1. 1. 1. 1. 1. 1. 1. 1.], acting on sites [7]\n",
      "After X: [ 1.  1.  1.  1.  1.  1.  1. -1.]\n",
      "After Z: [1. 1. 1. 1. 1. 1. 1. 1.]\n"
     ]
    }
   ],
   "source": [
    "for i in range(lat.ns):\n",
    "    print(f\"i: {i})\")\n",
    "    sites            = [i]\n",
    "    jnp_modified_x, _ = sig_x(jnp_state.copy(), sites[0])\n",
    "    jnp_modified_z, _ = sig_z(jnp_state.copy(), sites[0])\n",
    "    print(f\"Before: {jnp_state}, acting on sites {sites}\")\n",
    "    print(f\"After X: {jnp_modified_x}\")\n",
    "    print(f\"After Z: {jnp_modified_z}\")"
   ]
  },
  {
   "cell_type": "markdown",
   "metadata": {},
   "source": [
    "### Correlation"
   ]
  },
  {
   "cell_type": "code",
   "execution_count": 8,
   "metadata": {},
   "outputs": [
    {
     "data": {
      "text/plain": [
       "(229,\n",
       " array([1., 1., 1., 1., 1., 1., 1., 1.]),\n",
       " Array([1., 1., 1., 1., 1., 1., 1., 1.], dtype=float64))"
      ]
     },
     "execution_count": 8,
     "metadata": {},
     "output_type": "execute_result"
    }
   ],
   "source": [
    "# create an operator\n",
    "import Algebra.Operator.operators_spin as op_spin\n",
    "import jax.numpy as jnp\n",
    "\n",
    "sig_x = op_spin.sig_x(\n",
    "    lattice  = lat,\n",
    "    type_act = op_spin.OperatorTypeActing.Correlation\n",
    ")\n",
    "sig_z = op_spin.sig_z(\n",
    "    lattice  = lat,\n",
    "    type_act = op_spin.OperatorTypeActing.Correlation\n",
    ")\n",
    "\n",
    "# create a set of states and test it\n",
    "int_state = np.random.randint(0, 2**lat.ns, dtype=np.int32)\n",
    "np_state  = np.ones((lat.ns), dtype = np.float64)\n",
    "jnp_state = jnp.ones((lat.ns), dtype = jnp.float64)\n",
    "\n",
    "int_state, np_state, jnp_state"
   ]
  },
  {
   "cell_type": "markdown",
   "metadata": {},
   "source": [
    "#### Integer states"
   ]
  },
  {
   "cell_type": "code",
   "execution_count": 9,
   "metadata": {},
   "outputs": [
    {
     "name": "stdout",
     "output_type": "stream",
     "text": [
      "Before: 11100101\n",
      "i: 0)\n",
      "\tSigma Z\n",
      "\t\tAfter [0, 1]'th s_z: (229)b11100101 with value [0.25]\n",
      "\tSigma X\n",
      "\t\tAfter [0, 1]'th s_x: (37)b00100101 with value [0.25]\n",
      "i: 1)\n",
      "\tSigma Z\n",
      "\t\tAfter [1, 2]'th s_z: (229)b11100101 with value [0.25]\n",
      "\tSigma X\n",
      "\t\tAfter [1, 2]'th s_x: (133)b10000101 with value [0.25]\n",
      "i: 2)\n",
      "\tSigma Z\n",
      "\t\tAfter [2, 3]'th s_z: (229)b11100101 with value [-0.25]\n",
      "\tSigma X\n",
      "\t\tAfter [2, 3]'th s_x: (213)b11010101 with value [0.25]\n",
      "i: 3)\n",
      "\tSigma Z\n",
      "\t\tAfter [3, 4]'th s_z: (229)b11100101 with value [0.25]\n",
      "\tSigma X\n",
      "\t\tAfter [3, 4]'th s_x: (253)b11111101 with value [0.25]\n",
      "i: 4)\n",
      "\tSigma Z\n",
      "\t\tAfter [4, 5]'th s_z: (229)b11100101 with value [-0.25]\n",
      "\tSigma X\n",
      "\t\tAfter [4, 5]'th s_x: (233)b11101001 with value [0.25]\n",
      "i: 5)\n",
      "\tSigma Z\n",
      "\t\tAfter [5, 6]'th s_z: (229)b11100101 with value [-0.25]\n",
      "\tSigma X\n",
      "\t\tAfter [5, 6]'th s_x: (227)b11100011 with value [0.25]\n",
      "i: 6)\n",
      "\tSigma Z\n",
      "\t\tAfter [6, 7]'th s_z: (229)b11100101 with value [-0.25]\n",
      "\tSigma X\n",
      "\t\tAfter [6, 7]'th s_x: (230)b11100110 with value [0.25]\n",
      "i: 7)\n",
      "\tSigma Z\n",
      "\t\tAfter [7, 0]'th s_z: (229)b11100101 with value [0.25]\n",
      "\tSigma X\n",
      "\t\tAfter [7, 0]'th s_x: (100)b01100100 with value [0.25]\n"
     ]
    }
   ],
   "source": [
    "print(f\"Before: {bin_mod.int2binstr(int_state, lat.ns)}\")\n",
    "for i in range(lat.ns):\n",
    "    sites = [i, (i+1)%lat.ns]\n",
    "    print(f\"i: {i})\")\n",
    "    print(\"\\tSigma Z\")\n",
    "    # sig_z\n",
    "    int_state_mod, int_state_mod_val = sig_z(int_state, *sites)\n",
    "    print(f\"\\t\\tAfter {sites}'th s_z: ({int_state_mod[0]})b{bin_mod.int2binstr(int_state_mod[0], lat.ns)} with value {int_state_mod_val}\")\n",
    "    print(\"\\tSigma X\")\n",
    "    # sig_x\n",
    "    sites = [i, (i+1)%lat.ns]\n",
    "    int_state_mod, int_state_mod_val = sig_x(int_state, *sites)\n",
    "    print(f\"\\t\\tAfter {sites}'th s_x: ({int_state_mod[0]})b{bin_mod.int2binstr(int_state_mod[0], lat.ns)} with value {int_state_mod_val}\")"
   ]
  },
  {
   "cell_type": "markdown",
   "metadata": {},
   "source": [
    "#### Numpy states"
   ]
  },
  {
   "cell_type": "code",
   "execution_count": 10,
   "metadata": {},
   "outputs": [
    {
     "name": "stdout",
     "output_type": "stream",
     "text": [
      "0\n",
      "Before: [1. 1. 1. 1. 1. 1. 1. 1.], acting on sites [0, 1]\n",
      "After X: [-1. -1.  1.  1.  1.  1.  1.  1.]\n",
      "After Z: [1. 1. 1. 1. 1. 1. 1. 1.]\n",
      "1\n",
      "Before: [1. 1. 1. 1. 1. 1. 1. 1.], acting on sites [1, 2]\n",
      "After X: [ 1. -1. -1.  1.  1.  1.  1.  1.]\n",
      "After Z: [1. 1. 1. 1. 1. 1. 1. 1.]\n",
      "2\n",
      "Before: [1. 1. 1. 1. 1. 1. 1. 1.], acting on sites [2, 3]\n",
      "After X: [ 1.  1. -1. -1.  1.  1.  1.  1.]\n",
      "After Z: [1. 1. 1. 1. 1. 1. 1. 1.]\n",
      "3\n",
      "Before: [1. 1. 1. 1. 1. 1. 1. 1.], acting on sites [3, 4]\n",
      "After X: [ 1.  1.  1. -1. -1.  1.  1.  1.]\n",
      "After Z: [1. 1. 1. 1. 1. 1. 1. 1.]\n",
      "4\n",
      "Before: [1. 1. 1. 1. 1. 1. 1. 1.], acting on sites [4, 5]\n",
      "After X: [ 1.  1.  1.  1. -1. -1.  1.  1.]\n",
      "After Z: [1. 1. 1. 1. 1. 1. 1. 1.]\n",
      "5\n",
      "Before: [1. 1. 1. 1. 1. 1. 1. 1.], acting on sites [5, 6]\n",
      "After X: [ 1.  1.  1.  1.  1. -1. -1.  1.]\n",
      "After Z: [1. 1. 1. 1. 1. 1. 1. 1.]\n",
      "6\n",
      "Before: [1. 1. 1. 1. 1. 1. 1. 1.], acting on sites [6, 7]\n",
      "After X: [ 1.  1.  1.  1.  1.  1. -1. -1.]\n",
      "After Z: [1. 1. 1. 1. 1. 1. 1. 1.]\n",
      "7\n",
      "Before: [1. 1. 1. 1. 1. 1. 1. 1.], acting on sites [7, 0]\n",
      "After X: [-1.  1.  1.  1.  1.  1.  1. -1.]\n",
      "After Z: [1. 1. 1. 1. 1. 1. 1. 1.]\n"
     ]
    }
   ],
   "source": [
    "for i in range(lat.ns):\n",
    "    print(i)\n",
    "    sites            = [i, (i+1)%lat.ns]\n",
    "    np_modified_x, _ = sig_x(np_state.copy(), *sites)\n",
    "    np_modified_z, _ = sig_z(np_state.copy(), *sites)\n",
    "    print(f\"Before: {np_state}, acting on sites {sites}\")\n",
    "    print(f\"After X: {np_modified_x}\")\n",
    "    print(f\"After Z: {np_modified_z}\")"
   ]
  },
  {
   "cell_type": "markdown",
   "metadata": {},
   "source": [
    "#### JAX states"
   ]
  },
  {
   "cell_type": "code",
   "execution_count": 14,
   "metadata": {},
   "outputs": [
    {
     "name": "stdout",
     "output_type": "stream",
     "text": [
      "0\n",
      "Before: [1. 1. 1. 1. 1. 1. 1. 1.], acting on sites [0, 1]\n",
      "After X: [-1. -1.  1.  1.  1.  1.  1.  1.]\n",
      "After Z: [1. 1. 1. 1. 1. 1. 1. 1.]\n",
      "1\n",
      "Before: [1. 1. 1. 1. 1. 1. 1. 1.], acting on sites [1, 2]\n",
      "After X: [ 1. -1. -1.  1.  1.  1.  1.  1.]\n",
      "After Z: [1. 1. 1. 1. 1. 1. 1. 1.]\n",
      "2\n",
      "Before: [1. 1. 1. 1. 1. 1. 1. 1.], acting on sites [2, 3]\n",
      "After X: [ 1.  1. -1. -1.  1.  1.  1.  1.]\n",
      "After Z: [1. 1. 1. 1. 1. 1. 1. 1.]\n",
      "3\n",
      "Before: [1. 1. 1. 1. 1. 1. 1. 1.], acting on sites [3, 4]\n",
      "After X: [ 1.  1.  1. -1. -1.  1.  1.  1.]\n",
      "After Z: [1. 1. 1. 1. 1. 1. 1. 1.]\n",
      "4\n",
      "Before: [1. 1. 1. 1. 1. 1. 1. 1.], acting on sites [4, 5]\n",
      "After X: [ 1.  1.  1.  1. -1. -1.  1.  1.]\n",
      "After Z: [1. 1. 1. 1. 1. 1. 1. 1.]\n",
      "5\n",
      "Before: [1. 1. 1. 1. 1. 1. 1. 1.], acting on sites [5, 6]\n",
      "After X: [ 1.  1.  1.  1.  1. -1. -1.  1.]\n",
      "After Z: [1. 1. 1. 1. 1. 1. 1. 1.]\n",
      "6\n",
      "Before: [1. 1. 1. 1. 1. 1. 1. 1.], acting on sites [6, 7]\n",
      "After X: [ 1.  1.  1.  1.  1.  1. -1. -1.]\n",
      "After Z: [1. 1. 1. 1. 1. 1. 1. 1.]\n",
      "7\n",
      "Before: [1. 1. 1. 1. 1. 1. 1. 1.], acting on sites [7, 0]\n",
      "After X: [-1.  1.  1.  1.  1.  1.  1. -1.]\n",
      "After Z: [1. 1. 1. 1. 1. 1. 1. 1.]\n"
     ]
    }
   ],
   "source": [
    "for i in range(lat.ns):\n",
    "    print(i)\n",
    "    sites            = [i, (i+1)%lat.ns]\n",
    "    jnp_modified_x, _ = sig_x(jnp_state.copy(), *sites)\n",
    "    jnp_modified_z, _ = sig_z(jnp_state.copy(), *sites)\n",
    "    print(f\"Before: {jnp_state}, acting on sites {sites}\")\n",
    "    print(f\"After X: {jnp_modified_x}\")\n",
    "    print(f\"After Z: {jnp_modified_z}\")"
   ]
  },
  {
   "cell_type": "markdown",
   "metadata": {},
   "source": [
    "### Globals"
   ]
  },
  {
   "cell_type": "code",
   "execution_count": 17,
   "metadata": {},
   "outputs": [
    {
     "data": {
      "text/plain": [
       "(164,\n",
       " array([1., 1., 1., 1., 1., 1., 1., 1.]),\n",
       " Array([1., 1., 1., 1., 1., 1., 1., 1.], dtype=float64))"
      ]
     },
     "execution_count": 17,
     "metadata": {},
     "output_type": "execute_result"
    }
   ],
   "source": [
    "# create an operator\n",
    "import Algebra.Operator.operators_spin as op_spin\n",
    "import jax.numpy as jnp\n",
    "sites = [0, 2]\n",
    "sig_x = op_spin.sig_x(\n",
    "    lattice  = lat,\n",
    "    sites    = sites\n",
    ")\n",
    "sig_z = op_spin.sig_z(\n",
    "    lattice  = lat,\n",
    "    sites    = sites\n",
    ")\n",
    "\n",
    "# create a set of states and test it\n",
    "int_state = np.random.randint(0, 2**lat.ns, dtype=np.int32)\n",
    "np_state  = np.ones((lat.ns), dtype = np.float64)\n",
    "jnp_state = jnp.ones((lat.ns), dtype = jnp.float64)\n",
    "\n",
    "int_state, np_state, jnp_state"
   ]
  },
  {
   "cell_type": "markdown",
   "metadata": {},
   "source": [
    "#### Integer states"
   ]
  },
  {
   "cell_type": "code",
   "execution_count": 18,
   "metadata": {},
   "outputs": [
    {
     "name": "stdout",
     "output_type": "stream",
     "text": [
      "Before: 10100100, acting on sites [0, 2]\n",
      "After X: 00000100\n",
      "After Z: 10100100\n"
     ]
    }
   ],
   "source": [
    "int_modified_x, _ = sig_x(int_state)\n",
    "int_modified_z, _ = sig_z(int_state)\n",
    "print(f\"Before: {bin_mod.int2binstr(int_state, lat.ns)}, acting on sites {sites}\")\n",
    "print(f\"After X: {bin_mod.int2binstr(int_modified_x[0], lat.ns)}\")\n",
    "print(f\"After Z: {bin_mod.int2binstr(int_modified_z[0], lat.ns)}\")"
   ]
  },
  {
   "cell_type": "markdown",
   "metadata": {},
   "source": [
    "#### Numpy"
   ]
  },
  {
   "cell_type": "code",
   "execution_count": 19,
   "metadata": {},
   "outputs": [
    {
     "name": "stdout",
     "output_type": "stream",
     "text": [
      "Before: [1. 1. 1. 1. 1. 1. 1. 1.], acting on sites [0, 2]\n",
      "After X: [-1.  1. -1.  1.  1.  1.  1.  1.]\n",
      "After Z: [1. 1. 1. 1. 1. 1. 1. 1.]\n"
     ]
    }
   ],
   "source": [
    "np_modified_x, _ = sig_x(np_state.copy())\n",
    "np_modified_z, _ = sig_z(np_state.copy())\n",
    "print(f\"Before: {np_state}, acting on sites {sites}\")\n",
    "print(f\"After X: {np_modified_x}\")\n",
    "print(f\"After Z: {np_modified_z}\")"
   ]
  },
  {
   "cell_type": "markdown",
   "metadata": {},
   "source": [
    "#### JNP"
   ]
  },
  {
   "cell_type": "code",
   "execution_count": 21,
   "metadata": {},
   "outputs": [
    {
     "name": "stdout",
     "output_type": "stream",
     "text": [
      "Before: [1. 1. 1. 1. 1. 1. 1. 1.], acting on sites [0, 2]\n",
      "After X: [-1.  1. -1.  1.  1.  1.  1.  1.]\n",
      "After Z: [1. 1. 1. 1. 1. 1. 1. 1.]\n"
     ]
    }
   ],
   "source": [
    "jnp_modified_x, _ = sig_x(jnp_state.copy())\n",
    "jnp_modified_z, _ = sig_z(jnp_state.copy())\n",
    "print(f\"Before: {jnp_state}, acting on sites {sites}\")\n",
    "print(f\"After X: {jnp_modified_x}\")\n",
    "print(f\"After Z: {jnp_modified_z}\")"
   ]
  },
  {
   "cell_type": "markdown",
   "metadata": {},
   "source": [
    "## Any Hamiltonian defined from the operators\n",
    "\n",
    "Underneath, the Hamiltonian is constructed using the defined operators, such as `sig_x` and `sig_z`, which act on specific sites or globally on the lattice. These operators are combined with appropriate multipliers to represent the physical interactions in the system. The Hamiltonian is then built, diagonalized, and used to compute eigenvalues, eigenvectors, and other properties of the quantum system.\n"
   ]
  },
  {
   "cell_type": "code",
   "execution_count": 24,
   "metadata": {},
   "outputs": [
    {
     "name": "stderr",
     "output_type": "stream",
     "text": [
      "07_04_2025_12-04_59 [INFO] \t\t->\u001b[0m[Hamiltonian] Adding modifying operator Operator(Sx/0-2, eigval=1.0, type=Other) at site 0 (global) with multiplier 1.0\u001b[0m\n",
      "07_04_2025_12-04_59 [INFO] \t\t->\u001b[0m[Hamiltonian] Adding non-modifying operator Operator(Sz/0-2, eigval=1.0, type=Other) at site 0 (global) with multiplier 0.5\u001b[0m\n",
      "07_04_2025_12-04_59 [INFO] \t\t->\u001b[0m[Hamiltonian] Adding non-modifying operator Operator(Sz/L, eigval=1.0, type=Other) at site 5 (sites: [5]) with multiplier -5.0\u001b[0m\n",
      "07_04_2025_12-04_59 [INFO] \t\t->\u001b[0m[Hamiltonian] Adding modifying operator Operator(Sx/L, eigval=1.0, type=Other) at site 4 (sites: [4]) with multiplier -5.0\u001b[0m\n",
      "07_04_2025_12-04_59 [WARNING] \t\t->\u001b[32m[Hamiltonian] Max local changes set to 4\u001b[0m\n",
      "07_04_2025_12-04_59 [INFO] \t\t->\u001b[0m[Hamiltonian] Successfully set local energy functions...\u001b[0m\n"
     ]
    },
    {
     "name": "stdout",
     "output_type": "stream",
     "text": [
      "HON,LatticeBC.PBC,d=2,Ns=8,Lx=2,Ly=2,Lz=1\n",
      "\n",
      "Operator: Sx/0-2, OperatorTypeActing.Global\n",
      "Operator: Sz/0-2, OperatorTypeActing.Global\n",
      "Operator: Sz/0, OperatorTypeActing.Global\n",
      "Operator: Sx/0-2 * 2, OperatorTypeActing.Global\n",
      "Operator: Sz/0 * Sz/0-2, OperatorTypeActing.Global\n",
      "Operator: Sz/L, OperatorTypeActing.Local\n",
      "Operator: Sx/L, OperatorTypeActing.Local\n",
      "Operator: Sz/C, OperatorTypeActing.Correlation\n",
      "int_state: 11\n",
      "np_state: [ 1. -1.  1. -1. -1.  1.  1.  1.]\n",
      "jnp_state: [ 1. -1.  1. -1. -1.  1.  1.  1.]\n"
     ]
    }
   ],
   "source": [
    "import numpy as np\n",
    "import Algebra.hamil as hamil\n",
    "from Algebra.Operator.operator import  test_operators\n",
    "from general_python.lattices.honeycomb import HoneycombLattice\n",
    "from general_python.lattices.lattice import LatticeBC\n",
    "\n",
    "backend = 'np'\n",
    "lat     = HoneycombLattice( dim     = 2,\n",
    "                            lx      = 2,\n",
    "                            ly      = 2,\n",
    "                            lz      = 1,\n",
    "                            bc      = LatticeBC.PBC)\n",
    "ham     = hamil.Hamiltonian(\n",
    "    hilbert_space   = None,\n",
    "    is_sparse       = True,\n",
    "    dtype           = np.float64,\n",
    "    lattice         = lat,\n",
    "    backend         = backend,\n",
    ")\n",
    "print(lat)\n",
    "print()\n",
    "# create a set of states and test it\n",
    "(int_state, np_state, jnp_state), operators = hamil.test_generic_hamiltonian(ham=ham, ns=lat.ns)\n",
    "sig_x, sig_z, sig_z_0, sig_x_2, sig_z_sig_z, sig_z_loc, sig_x_loc, sig_z_cor = operators\n",
    "print(f\"int_state: {int_state}\")\n",
    "print(f\"np_state: {np_state}\")\n",
    "print(f\"jnp_state: {jnp_state}\")\n",
    "\n",
    "# reset the Hamiltonian operators\n",
    "ham.reset_operators()\n",
    "\n",
    "# add operators to the Hamiltonian\n",
    "ham.add(\n",
    "    operator    = sig_x,\n",
    "    multiplier  = 1.0,\n",
    "    sites       = None,\n",
    "    # modifies    = True\n",
    ")\n",
    "\n",
    "ham.add(\n",
    "    operator    = sig_z,\n",
    "    multiplier  = 0.5,\n",
    "    sites       = None,\n",
    "    # modifies    = False\n",
    ")\n",
    "\n",
    "# add some local s_z\n",
    "ham.add(\n",
    "    operator    = sig_z_loc,\n",
    "    multiplier  = -5.0,\n",
    "    sites       = [5],\n",
    "    # modifies    = False\n",
    ")\n",
    "\n",
    "# add some local s_x\n",
    "ham.add(\n",
    "    operator    = sig_x_loc,\n",
    "    multiplier  = -5.0,\n",
    "    sites       = [4],\n",
    "    # modifies    = True\n",
    ")\n",
    "\n",
    "ham._set_local_energy_functions()"
   ]
  },
  {
   "cell_type": "markdown",
   "metadata": {},
   "source": [
    "### Integer states"
   ]
  },
  {
   "cell_type": "markdown",
   "metadata": {},
   "source": [
    "##### $\\sigma _x^0 \\sigma_x^2 |\\psi ^{\\rm int}\\rangle$"
   ]
  },
  {
   "cell_type": "code",
   "execution_count": 27,
   "metadata": {},
   "outputs": [
    {
     "data": {
      "application/vnd.microsoft.datawrangler.viewer.v0+json": {
       "columns": [
        {
         "name": "index",
         "rawType": "int64",
         "type": "integer"
        },
        {
         "name": "Test Expression",
         "rawType": "object",
         "type": "string"
        },
        {
         "name": "Initial State",
         "rawType": "object",
         "type": "string"
        },
        {
         "name": "Operator",
         "rawType": "object",
         "type": "string"
        },
        {
         "name": "Result",
         "rawType": "object",
         "type": "string"
        },
        {
         "name": "Time Measurement",
         "rawType": "object",
         "type": "string"
        }
       ],
       "conversionMethod": "pd.DataFrame",
       "ref": "2886d1d3-d35a-48d5-9e3c-036daeb7419f",
       "rows": [
        [
         "0",
         "op(state)",
         "(11), which is b00001011",
         "Sx/0-2",
         "[171], which is ['b10101011'] with [0.25]",
         "6.92 us +- 4.81 us per loop (mean +- std. dev. of 5 runs, 5 loops each)"
        ],
        [
         "1",
         "op[state]",
         "(11), which is b00001011",
         "Sx/0-2",
         "[171]",
         "4.81 us +- 1.01 us per loop (mean +- std. dev. of 5 runs, 5 loops each)"
        ],
        [
         "2",
         "op[op[state]]",
         "(11), which is b00001011",
         "Sx/0-2",
         "[11]",
         "The slowest run took 6.35 times longer than the fastest. This could mean that an intermediate result is being cached.\n12.7 us +- 11.9 us per loop (mean +- std. dev. of 5 runs, 5 loops each)"
        ],
        [
         "3",
         "op % state",
         "(11), which is b00001011",
         "Sx/0-2",
         "[0.25]",
         "5.93 us +- 1.93 us per loop (mean +- std. dev. of 5 runs, 5 loops each)"
        ]
       ],
       "shape": {
        "columns": 5,
        "rows": 4
       }
      },
      "text/html": [
       "<div>\n",
       "<style scoped>\n",
       "    .dataframe tbody tr th:only-of-type {\n",
       "        vertical-align: middle;\n",
       "    }\n",
       "\n",
       "    .dataframe tbody tr th {\n",
       "        vertical-align: top;\n",
       "    }\n",
       "\n",
       "    .dataframe thead th {\n",
       "        text-align: right;\n",
       "    }\n",
       "</style>\n",
       "<table border=\"1\" class=\"dataframe\">\n",
       "  <thead>\n",
       "    <tr style=\"text-align: right;\">\n",
       "      <th></th>\n",
       "      <th>Test Expression</th>\n",
       "      <th>Initial State</th>\n",
       "      <th>Operator</th>\n",
       "      <th>Result</th>\n",
       "      <th>Time Measurement</th>\n",
       "    </tr>\n",
       "  </thead>\n",
       "  <tbody>\n",
       "    <tr>\n",
       "      <th>0</th>\n",
       "      <td>op(state)</td>\n",
       "      <td>(11), which is b00001011</td>\n",
       "      <td>Sx/0-2</td>\n",
       "      <td>[171], which is ['b10101011'] with [0.25]</td>\n",
       "      <td>6.92 us +- 4.81 us per loop (mean +- std. dev....</td>\n",
       "    </tr>\n",
       "    <tr>\n",
       "      <th>1</th>\n",
       "      <td>op[state]</td>\n",
       "      <td>(11), which is b00001011</td>\n",
       "      <td>Sx/0-2</td>\n",
       "      <td>[171]</td>\n",
       "      <td>4.81 us +- 1.01 us per loop (mean +- std. dev....</td>\n",
       "    </tr>\n",
       "    <tr>\n",
       "      <th>2</th>\n",
       "      <td>op[op[state]]</td>\n",
       "      <td>(11), which is b00001011</td>\n",
       "      <td>Sx/0-2</td>\n",
       "      <td>[11]</td>\n",
       "      <td>The slowest run took 6.35 times longer than th...</td>\n",
       "    </tr>\n",
       "    <tr>\n",
       "      <th>3</th>\n",
       "      <td>op % state</td>\n",
       "      <td>(11), which is b00001011</td>\n",
       "      <td>Sx/0-2</td>\n",
       "      <td>[0.25]</td>\n",
       "      <td>5.93 us +- 1.93 us per loop (mean +- std. dev....</td>\n",
       "    </tr>\n",
       "  </tbody>\n",
       "</table>\n",
       "</div>"
      ],
      "text/plain": [
       "  Test Expression             Initial State Operator  \\\n",
       "0       op(state)  (11), which is b00001011   Sx/0-2   \n",
       "1       op[state]  (11), which is b00001011   Sx/0-2   \n",
       "2   op[op[state]]  (11), which is b00001011   Sx/0-2   \n",
       "3      op % state  (11), which is b00001011   Sx/0-2   \n",
       "\n",
       "                                      Result  \\\n",
       "0  [171], which is ['b10101011'] with [0.25]   \n",
       "1                                      [171]   \n",
       "2                                       [11]   \n",
       "3                                     [0.25]   \n",
       "\n",
       "                                    Time Measurement  \n",
       "0  6.92 us +- 4.81 us per loop (mean +- std. dev....  \n",
       "1  4.81 us +- 1.01 us per loop (mean +- std. dev....  \n",
       "2  The slowest run took 6.35 times longer than th...  \n",
       "3  5.93 us +- 1.93 us per loop (mean +- std. dev....  "
      ]
     },
     "metadata": {},
     "output_type": "display_data"
    }
   ],
   "source": [
    "out = test_operators(sig_x, int_state, ns = lat.ns, output_format='tabs')"
   ]
  },
  {
   "cell_type": "markdown",
   "metadata": {},
   "source": [
    "##### $\\sigma _z^0 \\sigma_z^2 |\\psi ^{\\rm int}\\rangle$"
   ]
  },
  {
   "cell_type": "code",
   "execution_count": 6,
   "metadata": {},
   "outputs": [
    {
     "data": {
      "application/vnd.microsoft.datawrangler.viewer.v0+json": {
       "columns": [
        {
         "name": "index",
         "rawType": "int64",
         "type": "integer"
        },
        {
         "name": "Test Expression",
         "rawType": "object",
         "type": "string"
        },
        {
         "name": "Initial State",
         "rawType": "object",
         "type": "string"
        },
        {
         "name": "Operator",
         "rawType": "object",
         "type": "string"
        },
        {
         "name": "Result",
         "rawType": "object",
         "type": "string"
        },
        {
         "name": "Time Measurement",
         "rawType": "object",
         "type": "string"
        }
       ],
       "conversionMethod": "pd.DataFrame",
       "ref": "e8810831-50f2-4201-aa99-fa88e0187a48",
       "rows": [
        [
         "0",
         "op(state)",
         "(226), which is b11100010",
         "Sz/0-2",
         "[226], which is ['b11100010'] with [0.25]",
         "The slowest run took 3424.93 times longer than the fastest. This could mean that an intermediate result is being cached.\n3.52 ms +- 7.02 ms per loop (mean +- std. dev. of 5 runs, 5 loops each)"
        ],
        [
         "1",
         "op[state]",
         "(226), which is b11100010",
         "Sz/0-2",
         "[226]",
         "5.45 us +- 1.08 us per loop (mean +- std. dev. of 5 runs, 5 loops each)"
        ],
        [
         "2",
         "op[op[state]]",
         "(226), which is b11100010",
         "Sz/0-2",
         "[226]",
         "The slowest run took 3624.08 times longer than the fastest. This could mean that an intermediate result is being cached.\n4.99 ms +- 9.96 ms per loop (mean +- std. dev. of 5 runs, 5 loops each)"
        ],
        [
         "3",
         "op % state",
         "(226), which is b11100010",
         "Sz/0-2",
         "[0.25]",
         "6.24 us +- 2.62 us per loop (mean +- std. dev. of 5 runs, 5 loops each)"
        ]
       ],
       "shape": {
        "columns": 5,
        "rows": 4
       }
      },
      "text/html": [
       "<div>\n",
       "<style scoped>\n",
       "    .dataframe tbody tr th:only-of-type {\n",
       "        vertical-align: middle;\n",
       "    }\n",
       "\n",
       "    .dataframe tbody tr th {\n",
       "        vertical-align: top;\n",
       "    }\n",
       "\n",
       "    .dataframe thead th {\n",
       "        text-align: right;\n",
       "    }\n",
       "</style>\n",
       "<table border=\"1\" class=\"dataframe\">\n",
       "  <thead>\n",
       "    <tr style=\"text-align: right;\">\n",
       "      <th></th>\n",
       "      <th>Test Expression</th>\n",
       "      <th>Initial State</th>\n",
       "      <th>Operator</th>\n",
       "      <th>Result</th>\n",
       "      <th>Time Measurement</th>\n",
       "    </tr>\n",
       "  </thead>\n",
       "  <tbody>\n",
       "    <tr>\n",
       "      <th>0</th>\n",
       "      <td>op(state)</td>\n",
       "      <td>(226), which is b11100010</td>\n",
       "      <td>Sz/0-2</td>\n",
       "      <td>[226], which is ['b11100010'] with [0.25]</td>\n",
       "      <td>The slowest run took 3424.93 times longer than...</td>\n",
       "    </tr>\n",
       "    <tr>\n",
       "      <th>1</th>\n",
       "      <td>op[state]</td>\n",
       "      <td>(226), which is b11100010</td>\n",
       "      <td>Sz/0-2</td>\n",
       "      <td>[226]</td>\n",
       "      <td>5.45 us +- 1.08 us per loop (mean +- std. dev....</td>\n",
       "    </tr>\n",
       "    <tr>\n",
       "      <th>2</th>\n",
       "      <td>op[op[state]]</td>\n",
       "      <td>(226), which is b11100010</td>\n",
       "      <td>Sz/0-2</td>\n",
       "      <td>[226]</td>\n",
       "      <td>The slowest run took 3624.08 times longer than...</td>\n",
       "    </tr>\n",
       "    <tr>\n",
       "      <th>3</th>\n",
       "      <td>op % state</td>\n",
       "      <td>(226), which is b11100010</td>\n",
       "      <td>Sz/0-2</td>\n",
       "      <td>[0.25]</td>\n",
       "      <td>6.24 us +- 2.62 us per loop (mean +- std. dev....</td>\n",
       "    </tr>\n",
       "  </tbody>\n",
       "</table>\n",
       "</div>"
      ],
      "text/plain": [
       "  Test Expression              Initial State Operator  \\\n",
       "0       op(state)  (226), which is b11100010   Sz/0-2   \n",
       "1       op[state]  (226), which is b11100010   Sz/0-2   \n",
       "2   op[op[state]]  (226), which is b11100010   Sz/0-2   \n",
       "3      op % state  (226), which is b11100010   Sz/0-2   \n",
       "\n",
       "                                      Result  \\\n",
       "0  [226], which is ['b11100010'] with [0.25]   \n",
       "1                                      [226]   \n",
       "2                                      [226]   \n",
       "3                                     [0.25]   \n",
       "\n",
       "                                    Time Measurement  \n",
       "0  The slowest run took 3424.93 times longer than...  \n",
       "1  5.45 us +- 1.08 us per loop (mean +- std. dev....  \n",
       "2  The slowest run took 3624.08 times longer than...  \n",
       "3  6.24 us +- 2.62 us per loop (mean +- std. dev....  "
      ]
     },
     "metadata": {},
     "output_type": "display_data"
    }
   ],
   "source": [
    "out = test_operators(sig_z, int_state, ns = lat.ns, output_format='tabs')"
   ]
  },
  {
   "cell_type": "markdown",
   "metadata": {},
   "source": [
    "##### $2 * \\sigma _x^0 \\sigma_x^2 |\\psi ^{\\rm int}\\rangle$"
   ]
  },
  {
   "cell_type": "code",
   "execution_count": 7,
   "metadata": {},
   "outputs": [
    {
     "data": {
      "application/vnd.microsoft.datawrangler.viewer.v0+json": {
       "columns": [
        {
         "name": "index",
         "rawType": "int64",
         "type": "integer"
        },
        {
         "name": "Test Expression",
         "rawType": "object",
         "type": "string"
        },
        {
         "name": "Initial State",
         "rawType": "object",
         "type": "string"
        },
        {
         "name": "Operator",
         "rawType": "object",
         "type": "string"
        },
        {
         "name": "Result",
         "rawType": "object",
         "type": "string"
        },
        {
         "name": "Time Measurement",
         "rawType": "object",
         "type": "string"
        }
       ],
       "conversionMethod": "pd.DataFrame",
       "ref": "a20719ca-0d87-452f-a0dc-e7de918bff0c",
       "rows": [
        [
         "0",
         "op(state)",
         "(226), which is b11100010",
         "Sx/0-2 * 2",
         "[66], which is ['b01000010'] with [0.5]",
         "The slowest run took 16.03 times longer than the fastest. This could mean that an intermediate result is being cached.\n38.6 us +- 39.5 us per loop (mean +- std. dev. of 5 runs, 5 loops each)"
        ],
        [
         "1",
         "op[state]",
         "(226), which is b11100010",
         "Sx/0-2 * 2",
         "[66]",
         "The slowest run took 6.01 times longer than the fastest. This could mean that an intermediate result is being cached.\n31.9 us +- 23 us per loop (mean +- std. dev. of 5 runs, 5 loops each)"
        ],
        [
         "2",
         "op[op[state]]",
         "(226), which is b11100010",
         "Sx/0-2 * 2",
         "[226]",
         "The slowest run took 9.29 times longer than the fastest. This could mean that an intermediate result is being cached.\n38.9 us +- 24.9 us per loop (mean +- std. dev. of 5 runs, 5 loops each)"
        ],
        [
         "3",
         "op % state",
         "(226), which is b11100010",
         "Sx/0-2 * 2",
         "[0.5]",
         "6.93 us +- 1.02 us per loop (mean +- std. dev. of 5 runs, 5 loops each)"
        ]
       ],
       "shape": {
        "columns": 5,
        "rows": 4
       }
      },
      "text/html": [
       "<div>\n",
       "<style scoped>\n",
       "    .dataframe tbody tr th:only-of-type {\n",
       "        vertical-align: middle;\n",
       "    }\n",
       "\n",
       "    .dataframe tbody tr th {\n",
       "        vertical-align: top;\n",
       "    }\n",
       "\n",
       "    .dataframe thead th {\n",
       "        text-align: right;\n",
       "    }\n",
       "</style>\n",
       "<table border=\"1\" class=\"dataframe\">\n",
       "  <thead>\n",
       "    <tr style=\"text-align: right;\">\n",
       "      <th></th>\n",
       "      <th>Test Expression</th>\n",
       "      <th>Initial State</th>\n",
       "      <th>Operator</th>\n",
       "      <th>Result</th>\n",
       "      <th>Time Measurement</th>\n",
       "    </tr>\n",
       "  </thead>\n",
       "  <tbody>\n",
       "    <tr>\n",
       "      <th>0</th>\n",
       "      <td>op(state)</td>\n",
       "      <td>(226), which is b11100010</td>\n",
       "      <td>Sx/0-2 * 2</td>\n",
       "      <td>[66], which is ['b01000010'] with [0.5]</td>\n",
       "      <td>The slowest run took 16.03 times longer than t...</td>\n",
       "    </tr>\n",
       "    <tr>\n",
       "      <th>1</th>\n",
       "      <td>op[state]</td>\n",
       "      <td>(226), which is b11100010</td>\n",
       "      <td>Sx/0-2 * 2</td>\n",
       "      <td>[66]</td>\n",
       "      <td>The slowest run took 6.01 times longer than th...</td>\n",
       "    </tr>\n",
       "    <tr>\n",
       "      <th>2</th>\n",
       "      <td>op[op[state]]</td>\n",
       "      <td>(226), which is b11100010</td>\n",
       "      <td>Sx/0-2 * 2</td>\n",
       "      <td>[226]</td>\n",
       "      <td>The slowest run took 9.29 times longer than th...</td>\n",
       "    </tr>\n",
       "    <tr>\n",
       "      <th>3</th>\n",
       "      <td>op % state</td>\n",
       "      <td>(226), which is b11100010</td>\n",
       "      <td>Sx/0-2 * 2</td>\n",
       "      <td>[0.5]</td>\n",
       "      <td>6.93 us +- 1.02 us per loop (mean +- std. dev....</td>\n",
       "    </tr>\n",
       "  </tbody>\n",
       "</table>\n",
       "</div>"
      ],
      "text/plain": [
       "  Test Expression              Initial State    Operator  \\\n",
       "0       op(state)  (226), which is b11100010  Sx/0-2 * 2   \n",
       "1       op[state]  (226), which is b11100010  Sx/0-2 * 2   \n",
       "2   op[op[state]]  (226), which is b11100010  Sx/0-2 * 2   \n",
       "3      op % state  (226), which is b11100010  Sx/0-2 * 2   \n",
       "\n",
       "                                    Result  \\\n",
       "0  [66], which is ['b01000010'] with [0.5]   \n",
       "1                                     [66]   \n",
       "2                                    [226]   \n",
       "3                                    [0.5]   \n",
       "\n",
       "                                    Time Measurement  \n",
       "0  The slowest run took 16.03 times longer than t...  \n",
       "1  The slowest run took 6.01 times longer than th...  \n",
       "2  The slowest run took 9.29 times longer than th...  \n",
       "3  6.93 us +- 1.02 us per loop (mean +- std. dev....  "
      ]
     },
     "metadata": {},
     "output_type": "display_data"
    }
   ],
   "source": [
    "out = test_operators(sig_x_2, int_state, ns = lat.ns, output_format='tabs')"
   ]
  },
  {
   "cell_type": "markdown",
   "metadata": {},
   "source": [
    "##### $\\sigma _z (i) |\\psi ^{\\rm int}\\rangle$"
   ]
  },
  {
   "cell_type": "code",
   "execution_count": 8,
   "metadata": {},
   "outputs": [
    {
     "data": {
      "application/vnd.microsoft.datawrangler.viewer.v0+json": {
       "columns": [
        {
         "name": "index",
         "rawType": "int64",
         "type": "integer"
        },
        {
         "name": "Test Expression",
         "rawType": "object",
         "type": "string"
        },
        {
         "name": "Initial State",
         "rawType": "object",
         "type": "string"
        },
        {
         "name": "Operator",
         "rawType": "object",
         "type": "string"
        },
        {
         "name": "Result",
         "rawType": "object",
         "type": "string"
        },
        {
         "name": "Time Measurement",
         "rawType": "object",
         "type": "string"
        }
       ],
       "conversionMethod": "pd.DataFrame",
       "ref": "b114fe9a-258d-469a-9702-e83835169d37",
       "rows": [
        [
         "0",
         "op(state, 5)",
         "(226), which is b11100010",
         "Sz/L",
         "[226], which is ['b11100010'] with [-0.5]",
         "The slowest run took 2837.46 times longer than the fastest. This could mean that an intermediate result is being cached.\n2.69 ms +- 5.38 ms per loop (mean +- std. dev. of 5 runs, 5 loops each)"
        ],
        [
         "1",
         "op[state, 5]",
         "(226), which is b11100010",
         "Sz/L",
         "[226]",
         "5.6 us +- 1.61 us per loop (mean +- std. dev. of 5 runs, 5 loops each)"
        ],
        [
         "2",
         "op % state, 5",
         "(226), which is b11100010",
         "Sz/L",
         "[-0.5]",
         "Timeit error: Operator._apply_local() missing 1 required positional argument: 'i'"
        ]
       ],
       "shape": {
        "columns": 5,
        "rows": 3
       }
      },
      "text/html": [
       "<div>\n",
       "<style scoped>\n",
       "    .dataframe tbody tr th:only-of-type {\n",
       "        vertical-align: middle;\n",
       "    }\n",
       "\n",
       "    .dataframe tbody tr th {\n",
       "        vertical-align: top;\n",
       "    }\n",
       "\n",
       "    .dataframe thead th {\n",
       "        text-align: right;\n",
       "    }\n",
       "</style>\n",
       "<table border=\"1\" class=\"dataframe\">\n",
       "  <thead>\n",
       "    <tr style=\"text-align: right;\">\n",
       "      <th></th>\n",
       "      <th>Test Expression</th>\n",
       "      <th>Initial State</th>\n",
       "      <th>Operator</th>\n",
       "      <th>Result</th>\n",
       "      <th>Time Measurement</th>\n",
       "    </tr>\n",
       "  </thead>\n",
       "  <tbody>\n",
       "    <tr>\n",
       "      <th>0</th>\n",
       "      <td>op(state, 5)</td>\n",
       "      <td>(226), which is b11100010</td>\n",
       "      <td>Sz/L</td>\n",
       "      <td>[226], which is ['b11100010'] with [-0.5]</td>\n",
       "      <td>The slowest run took 2837.46 times longer than...</td>\n",
       "    </tr>\n",
       "    <tr>\n",
       "      <th>1</th>\n",
       "      <td>op[state, 5]</td>\n",
       "      <td>(226), which is b11100010</td>\n",
       "      <td>Sz/L</td>\n",
       "      <td>[226]</td>\n",
       "      <td>5.6 us +- 1.61 us per loop (mean +- std. dev. ...</td>\n",
       "    </tr>\n",
       "    <tr>\n",
       "      <th>2</th>\n",
       "      <td>op % state, 5</td>\n",
       "      <td>(226), which is b11100010</td>\n",
       "      <td>Sz/L</td>\n",
       "      <td>[-0.5]</td>\n",
       "      <td>Timeit error: Operator._apply_local() missing ...</td>\n",
       "    </tr>\n",
       "  </tbody>\n",
       "</table>\n",
       "</div>"
      ],
      "text/plain": [
       "  Test Expression              Initial State Operator  \\\n",
       "0    op(state, 5)  (226), which is b11100010     Sz/L   \n",
       "1    op[state, 5]  (226), which is b11100010     Sz/L   \n",
       "2   op % state, 5  (226), which is b11100010     Sz/L   \n",
       "\n",
       "                                      Result  \\\n",
       "0  [226], which is ['b11100010'] with [-0.5]   \n",
       "1                                      [226]   \n",
       "2                                     [-0.5]   \n",
       "\n",
       "                                    Time Measurement  \n",
       "0  The slowest run took 2837.46 times longer than...  \n",
       "1  5.6 us +- 1.61 us per loop (mean +- std. dev. ...  \n",
       "2  Timeit error: Operator._apply_local() missing ...  "
      ]
     },
     "metadata": {},
     "output_type": "display_data"
    }
   ],
   "source": [
    "out = test_operators(sig_z_loc, int_state, ns = lat.ns, output_format='tabs', add_args=(5,))"
   ]
  },
  {
   "cell_type": "markdown",
   "metadata": {},
   "source": [
    "##### $\\sigma _z^0  (\\sigma _z^0 \\sigma_x^2) |\\psi ^{\\rm int}\\rangle$"
   ]
  },
  {
   "cell_type": "code",
   "execution_count": 4,
   "metadata": {},
   "outputs": [
    {
     "ename": "TypeError",
     "evalue": "Pred must be a scalar, got Traced<ShapedArray(bool[1])>with<DynamicJaxprTrace(level=1/1)> of shape (1,).",
     "output_type": "error",
     "traceback": [
      "\u001b[0;31m---------------------------------------------------------------------------\u001b[0m",
      "\u001b[0;31mTypeError\u001b[0m                                 Traceback (most recent call last)",
      "Cell \u001b[0;32mIn[4], line 2\u001b[0m\n\u001b[1;32m      1\u001b[0m \u001b[38;5;66;03m# %timeit -r 5 -n 20 sig_z_sig_z(int_state)\u001b[39;00m\n\u001b[0;32m----> 2\u001b[0m sig_z_sig_z(int_state)\n",
      "File \u001b[0;32m~/Codes/QuantumEigenSolver/Python/QES/Algebra/Operator/operator.py:1352\u001b[0m, in \u001b[0;36mOperator.__call__\u001b[0;34m(self, states, *args)\u001b[0m\n\u001b[1;32m   1342\u001b[0m \u001b[38;5;28;01mdef\u001b[39;00m \u001b[38;5;21m__call__\u001b[39m(\u001b[38;5;28mself\u001b[39m, states: \u001b[38;5;28mlist\u001b[39m \u001b[38;5;241m|\u001b[39m np\u001b[38;5;241m.\u001b[39mndarray \u001b[38;5;241m|\u001b[39m jnp\u001b[38;5;241m.\u001b[39mndarray, \u001b[38;5;241m*\u001b[39margs):\n\u001b[1;32m   1343\u001b[0m \u001b[38;5;250m    \u001b[39m\u001b[38;5;124;03m\"\"\"\u001b[39;00m\n\u001b[1;32m   1344\u001b[0m \u001b[38;5;124;03m    Apply the operator to the state. \u001b[39;00m\n\u001b[1;32m   1345\u001b[0m \u001b[38;5;124;03m    \u001b[39;00m\n\u001b[0;32m   (...)\u001b[0m\n\u001b[1;32m   1350\u001b[0m \u001b[38;5;124;03m                            If there are arguments, the operator acts on the state locally - local operator (e.g., site-dependent).\u001b[39;00m\n\u001b[1;32m   1351\u001b[0m \u001b[38;5;124;03m    \"\"\"\u001b[39;00m\n\u001b[0;32m-> 1352\u001b[0m     \u001b[38;5;28;01mreturn\u001b[39;00m \u001b[38;5;28mself\u001b[39m\u001b[38;5;241m.\u001b[39mapply(states, \u001b[38;5;241m*\u001b[39margs)\n",
      "File \u001b[0;32m~/Codes/QuantumEigenSolver/Python/QES/Algebra/Operator/operator.py:1331\u001b[0m, in \u001b[0;36mOperator.apply\u001b[0;34m(self, states, *args)\u001b[0m\n\u001b[1;32m   1321\u001b[0m \u001b[38;5;250m\u001b[39m\u001b[38;5;124;03m\"\"\"\u001b[39;00m\n\u001b[1;32m   1322\u001b[0m \u001b[38;5;124;03mApply the operator to the state. \u001b[39;00m\n\u001b[1;32m   1323\u001b[0m \u001b[38;5;124;03m\u001b[39;00m\n\u001b[0;32m   (...)\u001b[0m\n\u001b[1;32m   1328\u001b[0m \u001b[38;5;124;03m                        If there are arguments, the operator acts on the state locally - local operator (e.g., site-dependent).\u001b[39;00m\n\u001b[1;32m   1329\u001b[0m \u001b[38;5;124;03m\"\"\"\u001b[39;00m\n\u001b[1;32m   1330\u001b[0m \u001b[38;5;28;01mif\u001b[39;00m \u001b[38;5;28mself\u001b[39m\u001b[38;5;241m.\u001b[39m_type_acting\u001b[38;5;241m.\u001b[39mis_global():\n\u001b[0;32m-> 1331\u001b[0m     \u001b[38;5;28;01mreturn\u001b[39;00m \u001b[38;5;28mself\u001b[39m\u001b[38;5;241m.\u001b[39m_apply_global(states)\n\u001b[1;32m   1332\u001b[0m \u001b[38;5;28;01melif\u001b[39;00m \u001b[38;5;28mself\u001b[39m\u001b[38;5;241m.\u001b[39m_type_acting\u001b[38;5;241m.\u001b[39mis_local():\n\u001b[1;32m   1333\u001b[0m     \u001b[38;5;28;01mreturn\u001b[39;00m \u001b[38;5;28mself\u001b[39m\u001b[38;5;241m.\u001b[39m_apply_local(states, \u001b[38;5;241m*\u001b[39margs)\n",
      "File \u001b[0;32m~/Codes/QuantumEigenSolver/Python/QES/Algebra/Operator/operator.py:1266\u001b[0m, in \u001b[0;36mOperator._apply_global\u001b[0;34m(self, states)\u001b[0m\n\u001b[1;32m   1241\u001b[0m \u001b[38;5;250m\u001b[39m\u001b[38;5;124;03m\"\"\"\u001b[39;00m\n\u001b[1;32m   1242\u001b[0m \u001b[38;5;124;03mApplies a function to a given state or a collection of states.\u001b[39;00m\n\u001b[1;32m   1243\u001b[0m \n\u001b[0;32m   (...)\u001b[0m\n\u001b[1;32m   1262\u001b[0m \u001b[38;5;124;03m            - The second list contains the corresponding values.\u001b[39;00m\n\u001b[1;32m   1263\u001b[0m \u001b[38;5;124;03m\"\"\"\u001b[39;00m\n\u001b[1;32m   1264\u001b[0m \u001b[38;5;28;01mif\u001b[39;00m (\u001b[38;5;28mhasattr\u001b[39m(states, \u001b[38;5;124m'\u001b[39m\u001b[38;5;124mshape\u001b[39m\u001b[38;5;124m'\u001b[39m) \u001b[38;5;129;01mand\u001b[39;00m \u001b[38;5;28mlen\u001b[39m(states\u001b[38;5;241m.\u001b[39mshape) \u001b[38;5;241m==\u001b[39m \u001b[38;5;241m1\u001b[39m) \u001b[38;5;129;01mor\u001b[39;00m \u001b[38;5;28misinstance\u001b[39m(states, (\u001b[38;5;28mint\u001b[39m, np\u001b[38;5;241m.\u001b[39mint8, np\u001b[38;5;241m.\u001b[39mint16, np\u001b[38;5;241m.\u001b[39mint32, np\u001b[38;5;241m.\u001b[39mint64)):\n\u001b[1;32m   1265\u001b[0m     \u001b[38;5;66;03m# if the state is a single state, apply the function directly\u001b[39;00m\n\u001b[0;32m-> 1266\u001b[0m     st, val \u001b[38;5;241m=\u001b[39m \u001b[38;5;28mself\u001b[39m\u001b[38;5;241m.\u001b[39m_fun(states)\n\u001b[1;32m   1267\u001b[0m     \u001b[38;5;28;01mreturn\u001b[39;00m st, val \u001b[38;5;241m*\u001b[39m \u001b[38;5;28mself\u001b[39m\u001b[38;5;241m.\u001b[39m_eigval\n\u001b[1;32m   1269\u001b[0m \u001b[38;5;66;03m# if the state is a collection of states, apply the function to each state\u001b[39;00m\n",
      "File \u001b[0;32m~/Codes/QuantumEigenSolver/Python/QES/Algebra/Operator/operator.py:337\u001b[0m, in \u001b[0;36mOperatorFunction.__call__\u001b[0;34m(self, s, *args)\u001b[0m\n\u001b[1;32m    321\u001b[0m \u001b[38;5;28;01mdef\u001b[39;00m \u001b[38;5;21m__call__\u001b[39m(\u001b[38;5;28mself\u001b[39m, s: Union[\u001b[38;5;28mint\u001b[39m], \u001b[38;5;241m*\u001b[39margs) \u001b[38;5;241m-\u001b[39m\u001b[38;5;241m>\u001b[39m List[Tuple[Optional[Union[\u001b[38;5;28mint\u001b[39m]], Union[\u001b[38;5;28mfloat\u001b[39m, \u001b[38;5;28mcomplex\u001b[39m]]]:\n\u001b[1;32m    322\u001b[0m \u001b[38;5;250m    \u001b[39m\u001b[38;5;124;03m\"\"\"\u001b[39;00m\n\u001b[1;32m    323\u001b[0m \u001b[38;5;124;03m    Apply the operator function to a given state.\u001b[39;00m\n\u001b[1;32m    324\u001b[0m \n\u001b[0;32m   (...)\u001b[0m\n\u001b[1;32m    335\u001b[0m \u001b[38;5;124;03m                    or if the return type from the operator function is not recognized.\u001b[39;00m\n\u001b[1;32m    336\u001b[0m \u001b[38;5;124;03m    \"\"\"\u001b[39;00m\n\u001b[0;32m--> 337\u001b[0m     \u001b[38;5;28;01mreturn\u001b[39;00m \u001b[38;5;28mself\u001b[39m\u001b[38;5;241m.\u001b[39mapply(s, \u001b[38;5;241m*\u001b[39margs)\n",
      "File \u001b[0;32m~/Codes/QuantumEigenSolver/Python/QES/Algebra/Operator/operator.py:300\u001b[0m, in \u001b[0;36mOperatorFunction.apply\u001b[0;34m(self, s, *args)\u001b[0m\n\u001b[1;32m    298\u001b[0m \u001b[38;5;66;03m# apply the operator function based on the number of necessary arguments\u001b[39;00m\n\u001b[1;32m    299\u001b[0m \u001b[38;5;28;01mif\u001b[39;00m \u001b[38;5;28mself\u001b[39m\u001b[38;5;241m.\u001b[39m_necessary_args \u001b[38;5;241m==\u001b[39m \u001b[38;5;241m0\u001b[39m:\n\u001b[0;32m--> 300\u001b[0m     result \u001b[38;5;241m=\u001b[39m \u001b[38;5;28mself\u001b[39m\u001b[38;5;241m.\u001b[39m_apply_global(s)\n\u001b[1;32m    301\u001b[0m \u001b[38;5;28;01melif\u001b[39;00m \u001b[38;5;28mself\u001b[39m\u001b[38;5;241m.\u001b[39m_necessary_args \u001b[38;5;241m==\u001b[39m \u001b[38;5;241m1\u001b[39m:\n\u001b[1;32m    302\u001b[0m     result \u001b[38;5;241m=\u001b[39m \u001b[38;5;28mself\u001b[39m\u001b[38;5;241m.\u001b[39m_apply_local(s, args[\u001b[38;5;241m0\u001b[39m])\n",
      "File \u001b[0;32m~/Codes/QuantumEigenSolver/Python/QES/Algebra/Operator/operator.py:220\u001b[0m, in \u001b[0;36mOperatorFunction._apply_global\u001b[0;34m(self, s)\u001b[0m\n\u001b[1;32m    218\u001b[0m     \u001b[38;5;28;01mreturn\u001b[39;00m \u001b[38;5;28mself\u001b[39m\u001b[38;5;241m.\u001b[39m_fun_np(s)\n\u001b[1;32m    219\u001b[0m \u001b[38;5;66;03m# Fallback to the integer function\u001b[39;00m\n\u001b[0;32m--> 220\u001b[0m \u001b[38;5;28;01mreturn\u001b[39;00m \u001b[38;5;28mself\u001b[39m\u001b[38;5;241m.\u001b[39m_fun_int(s)\n",
      "File \u001b[0;32m~/Codes/QuantumEigenSolver/Python/QES/Algebra/Operator/operator.py:485\u001b[0m, in \u001b[0;36mOperatorFunction.__mul__.<locals>.mul_int\u001b[0;34m(s, *args)\u001b[0m\n\u001b[1;32m    482\u001b[0m \u001b[38;5;66;03m# Loop over each intermediate state.\u001b[39;00m\n\u001b[1;32m    483\u001b[0m \u001b[38;5;28;01mfor\u001b[39;00m i \u001b[38;5;129;01min\u001b[39;00m \u001b[38;5;28mrange\u001b[39m(n):\n\u001b[1;32m    484\u001b[0m     \u001b[38;5;66;03m# Apply self to each intermediate state.\u001b[39;00m\n\u001b[0;32m--> 485\u001b[0m     s_self, v_self \u001b[38;5;241m=\u001b[39m \u001b[38;5;28mself\u001b[39m\u001b[38;5;241m.\u001b[39m_fun_int(s_g[i], \u001b[38;5;241m*\u001b[39margs)\n\u001b[1;32m    486\u001b[0m     s_self, v_self \u001b[38;5;241m=\u001b[39m OperatorFunction\u001b[38;5;241m.\u001b[39m_normalize_result_np(s_self, v_self)\n\u001b[1;32m    487\u001b[0m     \u001b[38;5;28;01mif\u001b[39;00m \u001b[38;5;28mself\u001b[39m\u001b[38;5;241m.\u001b[39m_modifies_state:\n\u001b[1;32m    488\u001b[0m         \u001b[38;5;66;03m# Expect a single pair from self.\u001b[39;00m\n",
      "File \u001b[0;32m~/Codes/QuantumEigenSolver/Python/QES/Algebra/Operator/operator.py:1598\u001b[0m, in \u001b[0;36mcreate_operator.<locals>.fun_int\u001b[0;34m(state)\u001b[0m\n\u001b[1;32m   1597\u001b[0m \u001b[38;5;28;01mdef\u001b[39;00m \u001b[38;5;21mfun_int\u001b[39m(state):\n\u001b[0;32m-> 1598\u001b[0m     \u001b[38;5;28;01mreturn\u001b[39;00m op_func_int(state, ns, sites, \u001b[38;5;241m*\u001b[39mextra_args)\n",
      "File \u001b[0;32m~/Codes/QuantumEigenSolver/Python/QES/Algebra/Operator/operators_spin.py:382\u001b[0m, in \u001b[0;36msigma_z_int\u001b[0;34m(state, ns, sites, spin_value)\u001b[0m\n\u001b[1;32m    376\u001b[0m \u001b[38;5;250m\u001b[39m\u001b[38;5;124;03m\"\"\"\u001b[39;00m\n\u001b[1;32m    377\u001b[0m \u001b[38;5;124;03mσ_z on an integer state.\u001b[39;00m\n\u001b[1;32m    378\u001b[0m \u001b[38;5;124;03mFor each site, if the bit at (ns-1-site) is set then multiply by spin_value; else by -spin_value.\u001b[39;00m\n\u001b[1;32m    379\u001b[0m \u001b[38;5;124;03mThe state is unchanged.\u001b[39;00m\n\u001b[1;32m    380\u001b[0m \u001b[38;5;124;03m\"\"\"\u001b[39;00m\n\u001b[1;32m    381\u001b[0m \u001b[38;5;28;01mif\u001b[39;00m \u001b[38;5;129;01mnot\u001b[39;00m \u001b[38;5;28misinstance\u001b[39m(state, (\u001b[38;5;28mint\u001b[39m, np\u001b[38;5;241m.\u001b[39minteger)):\n\u001b[0;32m--> 382\u001b[0m     \u001b[38;5;28;01mreturn\u001b[39;00m sigma_z_int_jnp(state, ns, sites, spin_value)\n\u001b[1;32m    383\u001b[0m \u001b[38;5;28;01mreturn\u001b[39;00m sigma_z_int_np(state, ns, sites, spin_value)\n",
      "    \u001b[0;31m[... skipping hidden 11 frame]\u001b[0m\n",
      "File \u001b[0;32m~/Codes/QuantumEigenSolver/Python/QES/Algebra/Operator/operators_spin_jax.py:250\u001b[0m, in \u001b[0;36msigma_z_int_jnp\u001b[0;34m(state, ns, sites, spin_value)\u001b[0m\n\u001b[1;32m    247\u001b[0m     \u001b[38;5;28;01mreturn\u001b[39;00m coeff \u001b[38;5;241m*\u001b[39m factor\n\u001b[1;32m    249\u001b[0m \u001b[38;5;66;03m# Use lax.fori_loop to accumulate the coefficient over all sites.\u001b[39;00m\n\u001b[0;32m--> 250\u001b[0m coeff \u001b[38;5;241m=\u001b[39m lax\u001b[38;5;241m.\u001b[39mfori_loop(\u001b[38;5;241m0\u001b[39m, \u001b[38;5;28mlen\u001b[39m(sites), body, \u001b[38;5;241m1.0\u001b[39m)\n\u001b[1;32m    251\u001b[0m \u001b[38;5;28;01mreturn\u001b[39;00m state, coeff\n",
      "    \u001b[0;31m[... skipping hidden 12 frame]\u001b[0m\n",
      "File \u001b[0;32m~/Codes/QuantumEigenSolver/Python/QES/Algebra/Operator/operators_spin_jax.py:242\u001b[0m, in \u001b[0;36msigma_z_int_jnp.<locals>.body\u001b[0;34m(i, coeff)\u001b[0m\n\u001b[1;32m    240\u001b[0m condition   \u001b[38;5;241m=\u001b[39m (state \u001b[38;5;241m&\u001b[39m bitmask) \u001b[38;5;241m>\u001b[39m \u001b[38;5;241m0\u001b[39m\n\u001b[1;32m    241\u001b[0m \u001b[38;5;66;03m# Use lax.cond to choose the factor:\u001b[39;00m\n\u001b[0;32m--> 242\u001b[0m factor      \u001b[38;5;241m=\u001b[39m lax\u001b[38;5;241m.\u001b[39mcond(condition,\n\u001b[1;32m    243\u001b[0m                     \u001b[38;5;28;01mlambda\u001b[39;00m _: spin_value,\n\u001b[1;32m    244\u001b[0m                     \u001b[38;5;28;01mlambda\u001b[39;00m _: \u001b[38;5;241m-\u001b[39mspin_value,\n\u001b[1;32m    245\u001b[0m                     operand\u001b[38;5;241m=\u001b[39m\u001b[38;5;28;01mNone\u001b[39;00m)\n\u001b[1;32m    246\u001b[0m \u001b[38;5;66;03m# Multiply the accumulator with the factor.\u001b[39;00m\n\u001b[1;32m    247\u001b[0m \u001b[38;5;28;01mreturn\u001b[39;00m coeff \u001b[38;5;241m*\u001b[39m factor\n",
      "    \u001b[0;31m[... skipping hidden 2 frame]\u001b[0m\n",
      "File \u001b[0;32m~/libraries/anaconda3/lib/python3.11/site-packages/jax/_src/lax/control_flow/conditionals.py:195\u001b[0m, in \u001b[0;36m_cond\u001b[0;34m(***failed resolving arguments***)\u001b[0m\n\u001b[1;32m    193\u001b[0m   \u001b[38;5;28;01mraise\u001b[39;00m \u001b[38;5;167;01mTypeError\u001b[39;00m(\u001b[38;5;124m\"\u001b[39m\u001b[38;5;124mcond predicate is None\u001b[39m\u001b[38;5;124m\"\u001b[39m)\n\u001b[1;32m    194\u001b[0m \u001b[38;5;28;01mif\u001b[39;00m \u001b[38;5;28misinstance\u001b[39m(pred, Sequence) \u001b[38;5;129;01mor\u001b[39;00m np\u001b[38;5;241m.\u001b[39mndim(pred) \u001b[38;5;241m!=\u001b[39m \u001b[38;5;241m0\u001b[39m:\n\u001b[0;32m--> 195\u001b[0m   \u001b[38;5;28;01mraise\u001b[39;00m \u001b[38;5;167;01mTypeError\u001b[39;00m(\n\u001b[1;32m    196\u001b[0m       \u001b[38;5;124mf\u001b[39m\u001b[38;5;124m\"\u001b[39m\u001b[38;5;124mPred must be a scalar, got \u001b[39m\u001b[38;5;132;01m{\u001b[39;00mpred\u001b[38;5;132;01m}\u001b[39;00m\u001b[38;5;124m of \u001b[39m\u001b[38;5;124m\"\u001b[39m \u001b[38;5;241m+\u001b[39m\n\u001b[1;32m    197\u001b[0m       (\u001b[38;5;124mf\u001b[39m\u001b[38;5;124m\"\u001b[39m\u001b[38;5;124mtype \u001b[39m\u001b[38;5;132;01m{\u001b[39;00m\u001b[38;5;28mtype\u001b[39m(pred)\u001b[38;5;132;01m}\u001b[39;00m\u001b[38;5;124m\"\u001b[39m \u001b[38;5;28;01mif\u001b[39;00m \u001b[38;5;28misinstance\u001b[39m(pred, Sequence)\n\u001b[1;32m    198\u001b[0m        \u001b[38;5;28;01melse\u001b[39;00m \u001b[38;5;124mf\u001b[39m\u001b[38;5;124m\"\u001b[39m\u001b[38;5;124mshape \u001b[39m\u001b[38;5;132;01m{\u001b[39;00mnp\u001b[38;5;241m.\u001b[39mshape(pred)\u001b[38;5;132;01m}\u001b[39;00m\u001b[38;5;124m.\u001b[39m\u001b[38;5;124m\"\u001b[39m))\n\u001b[1;32m    200\u001b[0m \u001b[38;5;28;01mtry\u001b[39;00m:\n\u001b[1;32m    201\u001b[0m   pred_dtype \u001b[38;5;241m=\u001b[39m dtypes\u001b[38;5;241m.\u001b[39mresult_type(pred)\n",
      "\u001b[0;31mTypeError\u001b[0m: Pred must be a scalar, got Traced<ShapedArray(bool[1])>with<DynamicJaxprTrace(level=1/1)> of shape (1,)."
     ]
    }
   ],
   "source": [
    "# %timeit -r 5 -n 20 sig_z_sig_z(int_state)\n",
    "sig_z_sig_z(int_state)"
   ]
  },
  {
   "cell_type": "markdown",
   "metadata": {},
   "source": [
    "##### $H |\\psi ^{\\rm int} \\rangle $"
   ]
  },
  {
   "cell_type": "code",
   "execution_count": 2,
   "metadata": {},
   "outputs": [
    {
     "name": "stdout",
     "output_type": "stream",
     "text": [
      "The slowest run took 123.21 times longer than the fastest. This could mean that an intermediate result is being cached.\n",
      "13 ms ± 25 ms per loop (mean ± std. dev. of 5 runs, 20 loops each)\n"
     ]
    }
   ],
   "source": [
    "%%timeit -r 5 -n 20\n",
    "for i in range(lat.ns):\n",
    "    ham.loc_energy(k = int_state, i = i)"
   ]
  },
  {
   "cell_type": "code",
   "execution_count": 4,
   "metadata": {},
   "outputs": [
    {
     "name": "stdout",
     "output_type": "stream",
     "text": [
      "(array([ 66, 226]), array([0.25 , 0.125]))\n",
      "(array([], dtype=float64), array([], dtype=float64))\n",
      "(array([], dtype=float64), array([], dtype=float64))\n",
      "(array([], dtype=float64), array([], dtype=float64))\n",
      "(array([234, 226]), array([-2.5,  0. ]))\n",
      "(array([], dtype=float64), array([], dtype=float64))\n",
      "(array([], dtype=float64), array([], dtype=float64))\n",
      "(array([], dtype=float64), array([], dtype=float64))\n"
     ]
    }
   ],
   "source": [
    "for i in range(lat.ns):\n",
    "    print(ham.loc_energy(k = int_state, i = i))"
   ]
  },
  {
   "cell_type": "markdown",
   "metadata": {},
   "source": [
    "### Numpy states"
   ]
  },
  {
   "cell_type": "markdown",
   "metadata": {},
   "source": [
    "##### $\\sigma _x^0 \\sigma_x^2 |\\psi ^{\\rm np}\\rangle$"
   ]
  },
  {
   "cell_type": "code",
   "execution_count": 9,
   "metadata": {},
   "outputs": [
    {
     "data": {
      "application/vnd.microsoft.datawrangler.viewer.v0+json": {
       "columns": [
        {
         "name": "index",
         "rawType": "int64",
         "type": "integer"
        },
        {
         "name": "Test Expression",
         "rawType": "object",
         "type": "string"
        },
        {
         "name": "Initial State",
         "rawType": "object",
         "type": "string"
        },
        {
         "name": "Operator",
         "rawType": "object",
         "type": "string"
        },
        {
         "name": "Result",
         "rawType": "object",
         "type": "string"
        },
        {
         "name": "Time Measurement",
         "rawType": "object",
         "type": "string"
        }
       ],
       "conversionMethod": "pd.DataFrame",
       "ref": "8d8804ca-692c-429c-9074-09b4932a1cb8",
       "rows": [
        [
         "0",
         "op(state)",
         "[1. 1. 1. 1. 1. 1. 1. 1.]",
         "Sx/0-2",
         "[-1.  1. -1.  1.  1.  1.  1.  1.] with 0.25",
         "The slowest run took 16876.83 times longer than the fastest. This could mean that an intermediate result is being cached.\n9.99 ms +- 20 ms per loop (mean +- std. dev. of 5 runs, 5 loops each)"
        ],
        [
         "1",
         "op[state]",
         "[1. 1. 1. 1. 1. 1. 1. 1.]",
         "Sx/0-2",
         "[-1.  1. -1.  1.  1.  1.  1.  1.]",
         "3.24 us +- 875 ns per loop (mean +- std. dev. of 5 runs, 5 loops each)"
        ],
        [
         "2",
         "op[op[state]]",
         "[1. 1. 1. 1. 1. 1. 1. 1.]",
         "Sx/0-2",
         "[1. 1. 1. 1. 1. 1. 1. 1.]",
         "5.49 us +- 792 ns per loop (mean +- std. dev. of 5 runs, 5 loops each)"
        ],
        [
         "3",
         "op % state",
         "[1. 1. 1. 1. 1. 1. 1. 1.]",
         "Sx/0-2",
         "0.25",
         "2.89 us +- 592 ns per loop (mean +- std. dev. of 5 runs, 5 loops each)"
        ]
       ],
       "shape": {
        "columns": 5,
        "rows": 4
       }
      },
      "text/html": [
       "<div>\n",
       "<style scoped>\n",
       "    .dataframe tbody tr th:only-of-type {\n",
       "        vertical-align: middle;\n",
       "    }\n",
       "\n",
       "    .dataframe tbody tr th {\n",
       "        vertical-align: top;\n",
       "    }\n",
       "\n",
       "    .dataframe thead th {\n",
       "        text-align: right;\n",
       "    }\n",
       "</style>\n",
       "<table border=\"1\" class=\"dataframe\">\n",
       "  <thead>\n",
       "    <tr style=\"text-align: right;\">\n",
       "      <th></th>\n",
       "      <th>Test Expression</th>\n",
       "      <th>Initial State</th>\n",
       "      <th>Operator</th>\n",
       "      <th>Result</th>\n",
       "      <th>Time Measurement</th>\n",
       "    </tr>\n",
       "  </thead>\n",
       "  <tbody>\n",
       "    <tr>\n",
       "      <th>0</th>\n",
       "      <td>op(state)</td>\n",
       "      <td>[1. 1. 1. 1. 1. 1. 1. 1.]</td>\n",
       "      <td>Sx/0-2</td>\n",
       "      <td>[-1.  1. -1.  1.  1.  1.  1.  1.] with 0.25</td>\n",
       "      <td>The slowest run took 16876.83 times longer tha...</td>\n",
       "    </tr>\n",
       "    <tr>\n",
       "      <th>1</th>\n",
       "      <td>op[state]</td>\n",
       "      <td>[1. 1. 1. 1. 1. 1. 1. 1.]</td>\n",
       "      <td>Sx/0-2</td>\n",
       "      <td>[-1.  1. -1.  1.  1.  1.  1.  1.]</td>\n",
       "      <td>3.24 us +- 875 ns per loop (mean +- std. dev. ...</td>\n",
       "    </tr>\n",
       "    <tr>\n",
       "      <th>2</th>\n",
       "      <td>op[op[state]]</td>\n",
       "      <td>[1. 1. 1. 1. 1. 1. 1. 1.]</td>\n",
       "      <td>Sx/0-2</td>\n",
       "      <td>[1. 1. 1. 1. 1. 1. 1. 1.]</td>\n",
       "      <td>5.49 us +- 792 ns per loop (mean +- std. dev. ...</td>\n",
       "    </tr>\n",
       "    <tr>\n",
       "      <th>3</th>\n",
       "      <td>op % state</td>\n",
       "      <td>[1. 1. 1. 1. 1. 1. 1. 1.]</td>\n",
       "      <td>Sx/0-2</td>\n",
       "      <td>0.25</td>\n",
       "      <td>2.89 us +- 592 ns per loop (mean +- std. dev. ...</td>\n",
       "    </tr>\n",
       "  </tbody>\n",
       "</table>\n",
       "</div>"
      ],
      "text/plain": [
       "  Test Expression              Initial State Operator  \\\n",
       "0       op(state)  [1. 1. 1. 1. 1. 1. 1. 1.]   Sx/0-2   \n",
       "1       op[state]  [1. 1. 1. 1. 1. 1. 1. 1.]   Sx/0-2   \n",
       "2   op[op[state]]  [1. 1. 1. 1. 1. 1. 1. 1.]   Sx/0-2   \n",
       "3      op % state  [1. 1. 1. 1. 1. 1. 1. 1.]   Sx/0-2   \n",
       "\n",
       "                                        Result  \\\n",
       "0  [-1.  1. -1.  1.  1.  1.  1.  1.] with 0.25   \n",
       "1            [-1.  1. -1.  1.  1.  1.  1.  1.]   \n",
       "2                    [1. 1. 1. 1. 1. 1. 1. 1.]   \n",
       "3                                         0.25   \n",
       "\n",
       "                                    Time Measurement  \n",
       "0  The slowest run took 16876.83 times longer tha...  \n",
       "1  3.24 us +- 875 ns per loop (mean +- std. dev. ...  \n",
       "2  5.49 us +- 792 ns per loop (mean +- std. dev. ...  \n",
       "3  2.89 us +- 592 ns per loop (mean +- std. dev. ...  "
      ]
     },
     "metadata": {},
     "output_type": "display_data"
    }
   ],
   "source": [
    "out = test_operators(sig_x, np_state, ns = lat.ns, output_format='tabs')"
   ]
  },
  {
   "cell_type": "markdown",
   "metadata": {},
   "source": [
    "##### $\\sigma _z^0 \\sigma_z^2 |\\psi ^{\\rm np}\\rangle$"
   ]
  },
  {
   "cell_type": "code",
   "execution_count": 10,
   "metadata": {},
   "outputs": [
    {
     "data": {
      "application/vnd.microsoft.datawrangler.viewer.v0+json": {
       "columns": [
        {
         "name": "index",
         "rawType": "int64",
         "type": "integer"
        },
        {
         "name": "Test Expression",
         "rawType": "object",
         "type": "string"
        },
        {
         "name": "Initial State",
         "rawType": "object",
         "type": "string"
        },
        {
         "name": "Operator",
         "rawType": "object",
         "type": "string"
        },
        {
         "name": "Result",
         "rawType": "object",
         "type": "string"
        },
        {
         "name": "Time Measurement",
         "rawType": "object",
         "type": "string"
        }
       ],
       "conversionMethod": "pd.DataFrame",
       "ref": "a5a98f1c-539f-4049-ac4a-7e08320415ac",
       "rows": [
        [
         "0",
         "op(state)",
         "[1. 1. 1. 1. 1. 1. 1. 1.]",
         "Sz/0-2",
         "[1. 1. 1. 1. 1. 1. 1. 1.] with 0.25",
         "The slowest run took 15923.14 times longer than the fastest. This could mean that an intermediate result is being cached.\n7.11 ms +- 14.2 ms per loop (mean +- std. dev. of 5 runs, 5 loops each)"
        ],
        [
         "1",
         "op[state]",
         "[1. 1. 1. 1. 1. 1. 1. 1.]",
         "Sz/0-2",
         "[1. 1. 1. 1. 1. 1. 1. 1.]",
         "2.49 us +- 643 ns per loop (mean +- std. dev. of 5 runs, 5 loops each)"
        ],
        [
         "2",
         "op[op[state]]",
         "[1. 1. 1. 1. 1. 1. 1. 1.]",
         "Sz/0-2",
         "[1. 1. 1. 1. 1. 1. 1. 1.]",
         "4.35 us +- 696 ns per loop (mean +- std. dev. of 5 runs, 5 loops each)"
        ],
        [
         "3",
         "op % state",
         "[1. 1. 1. 1. 1. 1. 1. 1.]",
         "Sz/0-2",
         "0.25",
         "2.24 us +- 461 ns per loop (mean +- std. dev. of 5 runs, 5 loops each)"
        ]
       ],
       "shape": {
        "columns": 5,
        "rows": 4
       }
      },
      "text/html": [
       "<div>\n",
       "<style scoped>\n",
       "    .dataframe tbody tr th:only-of-type {\n",
       "        vertical-align: middle;\n",
       "    }\n",
       "\n",
       "    .dataframe tbody tr th {\n",
       "        vertical-align: top;\n",
       "    }\n",
       "\n",
       "    .dataframe thead th {\n",
       "        text-align: right;\n",
       "    }\n",
       "</style>\n",
       "<table border=\"1\" class=\"dataframe\">\n",
       "  <thead>\n",
       "    <tr style=\"text-align: right;\">\n",
       "      <th></th>\n",
       "      <th>Test Expression</th>\n",
       "      <th>Initial State</th>\n",
       "      <th>Operator</th>\n",
       "      <th>Result</th>\n",
       "      <th>Time Measurement</th>\n",
       "    </tr>\n",
       "  </thead>\n",
       "  <tbody>\n",
       "    <tr>\n",
       "      <th>0</th>\n",
       "      <td>op(state)</td>\n",
       "      <td>[1. 1. 1. 1. 1. 1. 1. 1.]</td>\n",
       "      <td>Sz/0-2</td>\n",
       "      <td>[1. 1. 1. 1. 1. 1. 1. 1.] with 0.25</td>\n",
       "      <td>The slowest run took 15923.14 times longer tha...</td>\n",
       "    </tr>\n",
       "    <tr>\n",
       "      <th>1</th>\n",
       "      <td>op[state]</td>\n",
       "      <td>[1. 1. 1. 1. 1. 1. 1. 1.]</td>\n",
       "      <td>Sz/0-2</td>\n",
       "      <td>[1. 1. 1. 1. 1. 1. 1. 1.]</td>\n",
       "      <td>2.49 us +- 643 ns per loop (mean +- std. dev. ...</td>\n",
       "    </tr>\n",
       "    <tr>\n",
       "      <th>2</th>\n",
       "      <td>op[op[state]]</td>\n",
       "      <td>[1. 1. 1. 1. 1. 1. 1. 1.]</td>\n",
       "      <td>Sz/0-2</td>\n",
       "      <td>[1. 1. 1. 1. 1. 1. 1. 1.]</td>\n",
       "      <td>4.35 us +- 696 ns per loop (mean +- std. dev. ...</td>\n",
       "    </tr>\n",
       "    <tr>\n",
       "      <th>3</th>\n",
       "      <td>op % state</td>\n",
       "      <td>[1. 1. 1. 1. 1. 1. 1. 1.]</td>\n",
       "      <td>Sz/0-2</td>\n",
       "      <td>0.25</td>\n",
       "      <td>2.24 us +- 461 ns per loop (mean +- std. dev. ...</td>\n",
       "    </tr>\n",
       "  </tbody>\n",
       "</table>\n",
       "</div>"
      ],
      "text/plain": [
       "  Test Expression              Initial State Operator  \\\n",
       "0       op(state)  [1. 1. 1. 1. 1. 1. 1. 1.]   Sz/0-2   \n",
       "1       op[state]  [1. 1. 1. 1. 1. 1. 1. 1.]   Sz/0-2   \n",
       "2   op[op[state]]  [1. 1. 1. 1. 1. 1. 1. 1.]   Sz/0-2   \n",
       "3      op % state  [1. 1. 1. 1. 1. 1. 1. 1.]   Sz/0-2   \n",
       "\n",
       "                                Result  \\\n",
       "0  [1. 1. 1. 1. 1. 1. 1. 1.] with 0.25   \n",
       "1            [1. 1. 1. 1. 1. 1. 1. 1.]   \n",
       "2            [1. 1. 1. 1. 1. 1. 1. 1.]   \n",
       "3                                 0.25   \n",
       "\n",
       "                                    Time Measurement  \n",
       "0  The slowest run took 15923.14 times longer tha...  \n",
       "1  2.49 us +- 643 ns per loop (mean +- std. dev. ...  \n",
       "2  4.35 us +- 696 ns per loop (mean +- std. dev. ...  \n",
       "3  2.24 us +- 461 ns per loop (mean +- std. dev. ...  "
      ]
     },
     "metadata": {},
     "output_type": "display_data"
    }
   ],
   "source": [
    "out = test_operators(sig_z, np_state, ns = lat.ns, output_format='tabs')"
   ]
  },
  {
   "cell_type": "markdown",
   "metadata": {},
   "source": [
    "##### $2 * \\sigma _x^0 \\sigma_x^2 |\\psi ^{\\rm np}\\rangle$"
   ]
  },
  {
   "cell_type": "code",
   "execution_count": 11,
   "metadata": {},
   "outputs": [
    {
     "data": {
      "application/vnd.microsoft.datawrangler.viewer.v0+json": {
       "columns": [
        {
         "name": "index",
         "rawType": "int64",
         "type": "integer"
        },
        {
         "name": "Test Expression",
         "rawType": "object",
         "type": "string"
        },
        {
         "name": "Initial State",
         "rawType": "object",
         "type": "string"
        },
        {
         "name": "Operator",
         "rawType": "object",
         "type": "string"
        },
        {
         "name": "Result",
         "rawType": "object",
         "type": "string"
        },
        {
         "name": "Time Measurement",
         "rawType": "object",
         "type": "string"
        }
       ],
       "conversionMethod": "pd.DataFrame",
       "ref": "b6824c22-768b-4435-8925-07cb81edf674",
       "rows": [
        [
         "0",
         "op(state)",
         "[1. 1. 1. 1. 1. 1. 1. 1.]",
         "Sx/0-2 * 2",
         "[-1.  1. -1.  1.  1.  1.  1.  1.] with 0.5",
         "4.14 us +- 2.96 us per loop (mean +- std. dev. of 5 runs, 5 loops each)"
        ],
        [
         "1",
         "op[state]",
         "[1. 1. 1. 1. 1. 1. 1. 1.]",
         "Sx/0-2 * 2",
         "[-1.  1. -1.  1.  1.  1.  1.  1.]",
         "3.06 us +- 861 ns per loop (mean +- std. dev. of 5 runs, 5 loops each)"
        ],
        [
         "2",
         "op[op[state]]",
         "[1. 1. 1. 1. 1. 1. 1. 1.]",
         "Sx/0-2 * 2",
         "[1. 1. 1. 1. 1. 1. 1. 1.]",
         "7.82 us +- 3.44 us per loop (mean +- std. dev. of 5 runs, 5 loops each)"
        ],
        [
         "3",
         "op % state",
         "[1. 1. 1. 1. 1. 1. 1. 1.]",
         "Sx/0-2 * 2",
         "0.5",
         "3.16 us +- 1.55 us per loop (mean +- std. dev. of 5 runs, 5 loops each)"
        ]
       ],
       "shape": {
        "columns": 5,
        "rows": 4
       }
      },
      "text/html": [
       "<div>\n",
       "<style scoped>\n",
       "    .dataframe tbody tr th:only-of-type {\n",
       "        vertical-align: middle;\n",
       "    }\n",
       "\n",
       "    .dataframe tbody tr th {\n",
       "        vertical-align: top;\n",
       "    }\n",
       "\n",
       "    .dataframe thead th {\n",
       "        text-align: right;\n",
       "    }\n",
       "</style>\n",
       "<table border=\"1\" class=\"dataframe\">\n",
       "  <thead>\n",
       "    <tr style=\"text-align: right;\">\n",
       "      <th></th>\n",
       "      <th>Test Expression</th>\n",
       "      <th>Initial State</th>\n",
       "      <th>Operator</th>\n",
       "      <th>Result</th>\n",
       "      <th>Time Measurement</th>\n",
       "    </tr>\n",
       "  </thead>\n",
       "  <tbody>\n",
       "    <tr>\n",
       "      <th>0</th>\n",
       "      <td>op(state)</td>\n",
       "      <td>[1. 1. 1. 1. 1. 1. 1. 1.]</td>\n",
       "      <td>Sx/0-2 * 2</td>\n",
       "      <td>[-1.  1. -1.  1.  1.  1.  1.  1.] with 0.5</td>\n",
       "      <td>4.14 us +- 2.96 us per loop (mean +- std. dev....</td>\n",
       "    </tr>\n",
       "    <tr>\n",
       "      <th>1</th>\n",
       "      <td>op[state]</td>\n",
       "      <td>[1. 1. 1. 1. 1. 1. 1. 1.]</td>\n",
       "      <td>Sx/0-2 * 2</td>\n",
       "      <td>[-1.  1. -1.  1.  1.  1.  1.  1.]</td>\n",
       "      <td>3.06 us +- 861 ns per loop (mean +- std. dev. ...</td>\n",
       "    </tr>\n",
       "    <tr>\n",
       "      <th>2</th>\n",
       "      <td>op[op[state]]</td>\n",
       "      <td>[1. 1. 1. 1. 1. 1. 1. 1.]</td>\n",
       "      <td>Sx/0-2 * 2</td>\n",
       "      <td>[1. 1. 1. 1. 1. 1. 1. 1.]</td>\n",
       "      <td>7.82 us +- 3.44 us per loop (mean +- std. dev....</td>\n",
       "    </tr>\n",
       "    <tr>\n",
       "      <th>3</th>\n",
       "      <td>op % state</td>\n",
       "      <td>[1. 1. 1. 1. 1. 1. 1. 1.]</td>\n",
       "      <td>Sx/0-2 * 2</td>\n",
       "      <td>0.5</td>\n",
       "      <td>3.16 us +- 1.55 us per loop (mean +- std. dev....</td>\n",
       "    </tr>\n",
       "  </tbody>\n",
       "</table>\n",
       "</div>"
      ],
      "text/plain": [
       "  Test Expression              Initial State    Operator  \\\n",
       "0       op(state)  [1. 1. 1. 1. 1. 1. 1. 1.]  Sx/0-2 * 2   \n",
       "1       op[state]  [1. 1. 1. 1. 1. 1. 1. 1.]  Sx/0-2 * 2   \n",
       "2   op[op[state]]  [1. 1. 1. 1. 1. 1. 1. 1.]  Sx/0-2 * 2   \n",
       "3      op % state  [1. 1. 1. 1. 1. 1. 1. 1.]  Sx/0-2 * 2   \n",
       "\n",
       "                                       Result  \\\n",
       "0  [-1.  1. -1.  1.  1.  1.  1.  1.] with 0.5   \n",
       "1           [-1.  1. -1.  1.  1.  1.  1.  1.]   \n",
       "2                   [1. 1. 1. 1. 1. 1. 1. 1.]   \n",
       "3                                         0.5   \n",
       "\n",
       "                                    Time Measurement  \n",
       "0  4.14 us +- 2.96 us per loop (mean +- std. dev....  \n",
       "1  3.06 us +- 861 ns per loop (mean +- std. dev. ...  \n",
       "2  7.82 us +- 3.44 us per loop (mean +- std. dev....  \n",
       "3  3.16 us +- 1.55 us per loop (mean +- std. dev....  "
      ]
     },
     "metadata": {},
     "output_type": "display_data"
    }
   ],
   "source": [
    "out = test_operators(sig_x_2, np_state, ns = lat.ns, output_format='tabs')"
   ]
  },
  {
   "cell_type": "markdown",
   "metadata": {},
   "source": [
    "##### $H |\\psi ^{\\rm np} \\rangle $"
   ]
  },
  {
   "cell_type": "code",
   "execution_count": 11,
   "metadata": {},
   "outputs": [
    {
     "name": "stdout",
     "output_type": "stream",
     "text": [
      "The slowest run took 4.38 times longer than the fastest. This could mean that an intermediate result is being cached.\n",
      "172 μs ± 91 μs per loop (mean ± std. dev. of 5 runs, 5 loops each)\n"
     ]
    },
    {
     "data": {
      "text/plain": [
       "(array([[ 1.,  1.,  1., -1.,  1., -1., -1.,  1.],\n",
       "        [ 1.,  1.,  1., -1., -1., -1., -1.,  1.],\n",
       "        [-1.,  1., -1., -1.,  1., -1., -1.,  1.]]),\n",
       " array([ 2.625, -2.5  ,  0.25 ]))"
      ]
     },
     "execution_count": 11,
     "metadata": {},
     "output_type": "execute_result"
    }
   ],
   "source": [
    "%timeit -r 5 -n 5 ham.loc_energy(k = np_state)\n",
    "ham.loc_energy(k = np_state)"
   ]
  },
  {
   "cell_type": "markdown",
   "metadata": {},
   "source": [
    "### JAX states"
   ]
  },
  {
   "cell_type": "markdown",
   "metadata": {},
   "source": [
    "##### $\\sigma _x^0 \\sigma_x^2 |\\psi ^{\\rm jax}\\rangle$"
   ]
  },
  {
   "cell_type": "code",
   "execution_count": 19,
   "metadata": {},
   "outputs": [
    {
     "data": {
      "application/vnd.microsoft.datawrangler.viewer.v0+json": {
       "columns": [
        {
         "name": "index",
         "rawType": "int64",
         "type": "integer"
        },
        {
         "name": "Test Expression",
         "rawType": "object",
         "type": "string"
        },
        {
         "name": "Initial State",
         "rawType": "object",
         "type": "string"
        },
        {
         "name": "Operator",
         "rawType": "object",
         "type": "string"
        },
        {
         "name": "Result",
         "rawType": "object",
         "type": "string"
        },
        {
         "name": "Time Measurement",
         "rawType": "object",
         "type": "string"
        }
       ],
       "conversionMethod": "pd.DataFrame",
       "ref": "bf3481ed-7b68-4b81-a280-d9645bdc2c83",
       "rows": [
        [
         "0",
         "op(state)",
         "[1. 1. 1. 1. 1. 1. 1. 1.]",
         "Sx/0-2",
         "[-1.  1. -1.  1.  1.  1.  1.  1.] with 0.25",
         "The slowest run took 1093.45 times longer than the fastest. This could mean that an intermediate result is being cached.\n5.6 ms +- 11.1 ms per loop (mean +- std. dev. of 5 runs, 5 loops each)"
        ],
        [
         "1",
         "op[state]",
         "[1. 1. 1. 1. 1. 1. 1. 1.]",
         "Sx/0-2",
         "[-1.  1. -1.  1.  1.  1.  1.  1.]",
         "25.2 us +- 3.37 us per loop (mean +- std. dev. of 5 runs, 5 loops each)"
        ],
        [
         "2",
         "op[op[state]]",
         "[1. 1. 1. 1. 1. 1. 1. 1.]",
         "Sx/0-2",
         "[1. 1. 1. 1. 1. 1. 1. 1.]",
         "50.8 us +- 7.69 us per loop (mean +- std. dev. of 5 runs, 5 loops each)"
        ],
        [
         "3",
         "op % state",
         "[1. 1. 1. 1. 1. 1. 1. 1.]",
         "Sx/0-2",
         "0.25",
         "24.1 us +- 1.9 us per loop (mean +- std. dev. of 5 runs, 5 loops each)"
        ]
       ],
       "shape": {
        "columns": 5,
        "rows": 4
       }
      },
      "text/html": [
       "<div>\n",
       "<style scoped>\n",
       "    .dataframe tbody tr th:only-of-type {\n",
       "        vertical-align: middle;\n",
       "    }\n",
       "\n",
       "    .dataframe tbody tr th {\n",
       "        vertical-align: top;\n",
       "    }\n",
       "\n",
       "    .dataframe thead th {\n",
       "        text-align: right;\n",
       "    }\n",
       "</style>\n",
       "<table border=\"1\" class=\"dataframe\">\n",
       "  <thead>\n",
       "    <tr style=\"text-align: right;\">\n",
       "      <th></th>\n",
       "      <th>Test Expression</th>\n",
       "      <th>Initial State</th>\n",
       "      <th>Operator</th>\n",
       "      <th>Result</th>\n",
       "      <th>Time Measurement</th>\n",
       "    </tr>\n",
       "  </thead>\n",
       "  <tbody>\n",
       "    <tr>\n",
       "      <th>0</th>\n",
       "      <td>op(state)</td>\n",
       "      <td>[1. 1. 1. 1. 1. 1. 1. 1.]</td>\n",
       "      <td>Sx/0-2</td>\n",
       "      <td>[-1.  1. -1.  1.  1.  1.  1.  1.] with 0.25</td>\n",
       "      <td>The slowest run took 1093.45 times longer than...</td>\n",
       "    </tr>\n",
       "    <tr>\n",
       "      <th>1</th>\n",
       "      <td>op[state]</td>\n",
       "      <td>[1. 1. 1. 1. 1. 1. 1. 1.]</td>\n",
       "      <td>Sx/0-2</td>\n",
       "      <td>[-1.  1. -1.  1.  1.  1.  1.  1.]</td>\n",
       "      <td>25.2 us +- 3.37 us per loop (mean +- std. dev....</td>\n",
       "    </tr>\n",
       "    <tr>\n",
       "      <th>2</th>\n",
       "      <td>op[op[state]]</td>\n",
       "      <td>[1. 1. 1. 1. 1. 1. 1. 1.]</td>\n",
       "      <td>Sx/0-2</td>\n",
       "      <td>[1. 1. 1. 1. 1. 1. 1. 1.]</td>\n",
       "      <td>50.8 us +- 7.69 us per loop (mean +- std. dev....</td>\n",
       "    </tr>\n",
       "    <tr>\n",
       "      <th>3</th>\n",
       "      <td>op % state</td>\n",
       "      <td>[1. 1. 1. 1. 1. 1. 1. 1.]</td>\n",
       "      <td>Sx/0-2</td>\n",
       "      <td>0.25</td>\n",
       "      <td>24.1 us +- 1.9 us per loop (mean +- std. dev. ...</td>\n",
       "    </tr>\n",
       "  </tbody>\n",
       "</table>\n",
       "</div>"
      ],
      "text/plain": [
       "  Test Expression              Initial State Operator  \\\n",
       "0       op(state)  [1. 1. 1. 1. 1. 1. 1. 1.]   Sx/0-2   \n",
       "1       op[state]  [1. 1. 1. 1. 1. 1. 1. 1.]   Sx/0-2   \n",
       "2   op[op[state]]  [1. 1. 1. 1. 1. 1. 1. 1.]   Sx/0-2   \n",
       "3      op % state  [1. 1. 1. 1. 1. 1. 1. 1.]   Sx/0-2   \n",
       "\n",
       "                                        Result  \\\n",
       "0  [-1.  1. -1.  1.  1.  1.  1.  1.] with 0.25   \n",
       "1            [-1.  1. -1.  1.  1.  1.  1.  1.]   \n",
       "2                    [1. 1. 1. 1. 1. 1. 1. 1.]   \n",
       "3                                         0.25   \n",
       "\n",
       "                                    Time Measurement  \n",
       "0  The slowest run took 1093.45 times longer than...  \n",
       "1  25.2 us +- 3.37 us per loop (mean +- std. dev....  \n",
       "2  50.8 us +- 7.69 us per loop (mean +- std. dev....  \n",
       "3  24.1 us +- 1.9 us per loop (mean +- std. dev. ...  "
      ]
     },
     "metadata": {},
     "output_type": "display_data"
    }
   ],
   "source": [
    "out = test_operators(sig_x, jnp_state, ns = lat.ns, output_format='tabs')"
   ]
  },
  {
   "cell_type": "markdown",
   "metadata": {},
   "source": [
    "##### $\\sigma _z^0 \\sigma_z^2 |\\psi ^{\\rm jax}\\rangle$"
   ]
  },
  {
   "cell_type": "code",
   "execution_count": 9,
   "metadata": {},
   "outputs": [
    {
     "data": {
      "application/vnd.microsoft.datawrangler.viewer.v0+json": {
       "columns": [
        {
         "name": "index",
         "rawType": "int64",
         "type": "integer"
        },
        {
         "name": "Test Expression",
         "rawType": "object",
         "type": "string"
        },
        {
         "name": "Initial State",
         "rawType": "object",
         "type": "string"
        },
        {
         "name": "Operator",
         "rawType": "object",
         "type": "string"
        },
        {
         "name": "Result",
         "rawType": "object",
         "type": "string"
        },
        {
         "name": "Time Measurement",
         "rawType": "object",
         "type": "string"
        }
       ],
       "conversionMethod": "pd.DataFrame",
       "ref": "39d29090-abe8-462f-b26f-2333ef6e59d2",
       "rows": [
        [
         "0",
         "op(state)",
         "[1. 1. 1. 1. 1. 1. 1. 1.]",
         "Sz/0-2",
         "[1. 1. 1. 1. 1. 1. 1. 1.] with 0.25",
         "The slowest run took 640.85 times longer than the fastest. This could mean that an intermediate result is being cached.\n698 us +- 1.37 ms per loop (mean +- std. dev. of 5 runs, 5 loops each)"
        ],
        [
         "1",
         "op[state]",
         "[1. 1. 1. 1. 1. 1. 1. 1.]",
         "Sz/0-2",
         "[1. 1. 1. 1. 1. 1. 1. 1.]",
         "6.11 us +- 1.6 us per loop (mean +- std. dev. of 5 runs, 5 loops each)"
        ],
        [
         "2",
         "op[op[state]]",
         "[1. 1. 1. 1. 1. 1. 1. 1.]",
         "Sz/0-2",
         "[1. 1. 1. 1. 1. 1. 1. 1.]",
         "11.1 us +- 1.49 us per loop (mean +- std. dev. of 5 runs, 5 loops each)"
        ],
        [
         "3",
         "op % state",
         "[1. 1. 1. 1. 1. 1. 1. 1.]",
         "Sz/0-2",
         "0.25",
         "6.14 us +- 1.23 us per loop (mean +- std. dev. of 5 runs, 5 loops each)"
        ]
       ],
       "shape": {
        "columns": 5,
        "rows": 4
       }
      },
      "text/html": [
       "<div>\n",
       "<style scoped>\n",
       "    .dataframe tbody tr th:only-of-type {\n",
       "        vertical-align: middle;\n",
       "    }\n",
       "\n",
       "    .dataframe tbody tr th {\n",
       "        vertical-align: top;\n",
       "    }\n",
       "\n",
       "    .dataframe thead th {\n",
       "        text-align: right;\n",
       "    }\n",
       "</style>\n",
       "<table border=\"1\" class=\"dataframe\">\n",
       "  <thead>\n",
       "    <tr style=\"text-align: right;\">\n",
       "      <th></th>\n",
       "      <th>Test Expression</th>\n",
       "      <th>Initial State</th>\n",
       "      <th>Operator</th>\n",
       "      <th>Result</th>\n",
       "      <th>Time Measurement</th>\n",
       "    </tr>\n",
       "  </thead>\n",
       "  <tbody>\n",
       "    <tr>\n",
       "      <th>0</th>\n",
       "      <td>op(state)</td>\n",
       "      <td>[1. 1. 1. 1. 1. 1. 1. 1.]</td>\n",
       "      <td>Sz/0-2</td>\n",
       "      <td>[1. 1. 1. 1. 1. 1. 1. 1.] with 0.25</td>\n",
       "      <td>The slowest run took 640.85 times longer than ...</td>\n",
       "    </tr>\n",
       "    <tr>\n",
       "      <th>1</th>\n",
       "      <td>op[state]</td>\n",
       "      <td>[1. 1. 1. 1. 1. 1. 1. 1.]</td>\n",
       "      <td>Sz/0-2</td>\n",
       "      <td>[1. 1. 1. 1. 1. 1. 1. 1.]</td>\n",
       "      <td>6.11 us +- 1.6 us per loop (mean +- std. dev. ...</td>\n",
       "    </tr>\n",
       "    <tr>\n",
       "      <th>2</th>\n",
       "      <td>op[op[state]]</td>\n",
       "      <td>[1. 1. 1. 1. 1. 1. 1. 1.]</td>\n",
       "      <td>Sz/0-2</td>\n",
       "      <td>[1. 1. 1. 1. 1. 1. 1. 1.]</td>\n",
       "      <td>11.1 us +- 1.49 us per loop (mean +- std. dev....</td>\n",
       "    </tr>\n",
       "    <tr>\n",
       "      <th>3</th>\n",
       "      <td>op % state</td>\n",
       "      <td>[1. 1. 1. 1. 1. 1. 1. 1.]</td>\n",
       "      <td>Sz/0-2</td>\n",
       "      <td>0.25</td>\n",
       "      <td>6.14 us +- 1.23 us per loop (mean +- std. dev....</td>\n",
       "    </tr>\n",
       "  </tbody>\n",
       "</table>\n",
       "</div>"
      ],
      "text/plain": [
       "  Test Expression              Initial State Operator  \\\n",
       "0       op(state)  [1. 1. 1. 1. 1. 1. 1. 1.]   Sz/0-2   \n",
       "1       op[state]  [1. 1. 1. 1. 1. 1. 1. 1.]   Sz/0-2   \n",
       "2   op[op[state]]  [1. 1. 1. 1. 1. 1. 1. 1.]   Sz/0-2   \n",
       "3      op % state  [1. 1. 1. 1. 1. 1. 1. 1.]   Sz/0-2   \n",
       "\n",
       "                                Result  \\\n",
       "0  [1. 1. 1. 1. 1. 1. 1. 1.] with 0.25   \n",
       "1            [1. 1. 1. 1. 1. 1. 1. 1.]   \n",
       "2            [1. 1. 1. 1. 1. 1. 1. 1.]   \n",
       "3                                 0.25   \n",
       "\n",
       "                                    Time Measurement  \n",
       "0  The slowest run took 640.85 times longer than ...  \n",
       "1  6.11 us +- 1.6 us per loop (mean +- std. dev. ...  \n",
       "2  11.1 us +- 1.49 us per loop (mean +- std. dev....  \n",
       "3  6.14 us +- 1.23 us per loop (mean +- std. dev....  "
      ]
     },
     "metadata": {},
     "output_type": "display_data"
    }
   ],
   "source": [
    "out = test_operators(sig_z, jnp_state, ns = lat.ns, output_format='tabs')"
   ]
  },
  {
   "cell_type": "markdown",
   "metadata": {},
   "source": [
    "##### $2 * \\sigma _x^0 \\sigma_x^2 |\\psi ^{\\rm jax}\\rangle$"
   ]
  },
  {
   "cell_type": "code",
   "execution_count": 20,
   "metadata": {},
   "outputs": [
    {
     "data": {
      "application/vnd.microsoft.datawrangler.viewer.v0+json": {
       "columns": [
        {
         "name": "index",
         "rawType": "int64",
         "type": "integer"
        },
        {
         "name": "Test Expression",
         "rawType": "object",
         "type": "string"
        },
        {
         "name": "Initial State",
         "rawType": "object",
         "type": "string"
        },
        {
         "name": "Operator",
         "rawType": "object",
         "type": "string"
        },
        {
         "name": "Result",
         "rawType": "object",
         "type": "string"
        },
        {
         "name": "Time Measurement",
         "rawType": "object",
         "type": "string"
        }
       ],
       "conversionMethod": "pd.DataFrame",
       "ref": "22b498e0-8d55-45f7-9a3b-625c103c8f26",
       "rows": [
        [
         "0",
         "op(state)",
         "[1. 1. 1. 1. 1. 1. 1. 1.]",
         "Sx/0-2 * 2",
         "[-1.  1. -1.  1.  1.  1.  1.  1.] with 0.5",
         "The slowest run took 376.77 times longer than the fastest. This could mean that an intermediate result is being cached.\n1.82 ms +- 3.59 ms per loop (mean +- std. dev. of 5 runs, 5 loops each)"
        ],
        [
         "1",
         "op[state]",
         "[1. 1. 1. 1. 1. 1. 1. 1.]",
         "Sx/0-2 * 2",
         "[-1.  1. -1.  1.  1.  1.  1.  1.]",
         "23.8 us +- 2.18 us per loop (mean +- std. dev. of 5 runs, 5 loops each)"
        ],
        [
         "2",
         "op[op[state]]",
         "[1. 1. 1. 1. 1. 1. 1. 1.]",
         "Sx/0-2 * 2",
         "[1. 1. 1. 1. 1. 1. 1. 1.]",
         "60.3 us +- 18.2 us per loop (mean +- std. dev. of 5 runs, 5 loops each)"
        ],
        [
         "3",
         "op % state",
         "[1. 1. 1. 1. 1. 1. 1. 1.]",
         "Sx/0-2 * 2",
         "0.5",
         "The slowest run took 8.86 times longer than the fastest. This could mean that an intermediate result is being cached.\n80.8 us +- 63.9 us per loop (mean +- std. dev. of 5 runs, 5 loops each)"
        ]
       ],
       "shape": {
        "columns": 5,
        "rows": 4
       }
      },
      "text/html": [
       "<div>\n",
       "<style scoped>\n",
       "    .dataframe tbody tr th:only-of-type {\n",
       "        vertical-align: middle;\n",
       "    }\n",
       "\n",
       "    .dataframe tbody tr th {\n",
       "        vertical-align: top;\n",
       "    }\n",
       "\n",
       "    .dataframe thead th {\n",
       "        text-align: right;\n",
       "    }\n",
       "</style>\n",
       "<table border=\"1\" class=\"dataframe\">\n",
       "  <thead>\n",
       "    <tr style=\"text-align: right;\">\n",
       "      <th></th>\n",
       "      <th>Test Expression</th>\n",
       "      <th>Initial State</th>\n",
       "      <th>Operator</th>\n",
       "      <th>Result</th>\n",
       "      <th>Time Measurement</th>\n",
       "    </tr>\n",
       "  </thead>\n",
       "  <tbody>\n",
       "    <tr>\n",
       "      <th>0</th>\n",
       "      <td>op(state)</td>\n",
       "      <td>[1. 1. 1. 1. 1. 1. 1. 1.]</td>\n",
       "      <td>Sx/0-2 * 2</td>\n",
       "      <td>[-1.  1. -1.  1.  1.  1.  1.  1.] with 0.5</td>\n",
       "      <td>The slowest run took 376.77 times longer than ...</td>\n",
       "    </tr>\n",
       "    <tr>\n",
       "      <th>1</th>\n",
       "      <td>op[state]</td>\n",
       "      <td>[1. 1. 1. 1. 1. 1. 1. 1.]</td>\n",
       "      <td>Sx/0-2 * 2</td>\n",
       "      <td>[-1.  1. -1.  1.  1.  1.  1.  1.]</td>\n",
       "      <td>23.8 us +- 2.18 us per loop (mean +- std. dev....</td>\n",
       "    </tr>\n",
       "    <tr>\n",
       "      <th>2</th>\n",
       "      <td>op[op[state]]</td>\n",
       "      <td>[1. 1. 1. 1. 1. 1. 1. 1.]</td>\n",
       "      <td>Sx/0-2 * 2</td>\n",
       "      <td>[1. 1. 1. 1. 1. 1. 1. 1.]</td>\n",
       "      <td>60.3 us +- 18.2 us per loop (mean +- std. dev....</td>\n",
       "    </tr>\n",
       "    <tr>\n",
       "      <th>3</th>\n",
       "      <td>op % state</td>\n",
       "      <td>[1. 1. 1. 1. 1. 1. 1. 1.]</td>\n",
       "      <td>Sx/0-2 * 2</td>\n",
       "      <td>0.5</td>\n",
       "      <td>The slowest run took 8.86 times longer than th...</td>\n",
       "    </tr>\n",
       "  </tbody>\n",
       "</table>\n",
       "</div>"
      ],
      "text/plain": [
       "  Test Expression              Initial State    Operator  \\\n",
       "0       op(state)  [1. 1. 1. 1. 1. 1. 1. 1.]  Sx/0-2 * 2   \n",
       "1       op[state]  [1. 1. 1. 1. 1. 1. 1. 1.]  Sx/0-2 * 2   \n",
       "2   op[op[state]]  [1. 1. 1. 1. 1. 1. 1. 1.]  Sx/0-2 * 2   \n",
       "3      op % state  [1. 1. 1. 1. 1. 1. 1. 1.]  Sx/0-2 * 2   \n",
       "\n",
       "                                       Result  \\\n",
       "0  [-1.  1. -1.  1.  1.  1.  1.  1.] with 0.5   \n",
       "1           [-1.  1. -1.  1.  1.  1.  1.  1.]   \n",
       "2                   [1. 1. 1. 1. 1. 1. 1. 1.]   \n",
       "3                                         0.5   \n",
       "\n",
       "                                    Time Measurement  \n",
       "0  The slowest run took 376.77 times longer than ...  \n",
       "1  23.8 us +- 2.18 us per loop (mean +- std. dev....  \n",
       "2  60.3 us +- 18.2 us per loop (mean +- std. dev....  \n",
       "3  The slowest run took 8.86 times longer than th...  "
      ]
     },
     "metadata": {},
     "output_type": "display_data"
    }
   ],
   "source": [
    "out = test_operators(sig_x_2, jnp_state, ns = lat.ns, output_format='tabs')"
   ]
  },
  {
   "cell_type": "markdown",
   "metadata": {},
   "source": [
    "##### $H |\\psi ^{\\rm jax} \\rangle $"
   ]
  },
  {
   "cell_type": "code",
   "execution_count": 8,
   "metadata": {},
   "outputs": [
    {
     "name": "stdout",
     "output_type": "stream",
     "text": [
      "The slowest run took 2603.02 times longer than the fastest. This could mean that an intermediate result is being cached.\n",
      "8.07 ms ± 16.1 ms per loop (mean ± std. dev. of 5 runs, 5 loops each)\n"
     ]
    },
    {
     "data": {
      "text/plain": [
       "(Array([[ 1.,  1.,  1., -1.,  1., -1., -1.,  1.],\n",
       "        [ 1.,  1.,  1., -1., -1., -1., -1.,  1.],\n",
       "        [-1.,  1., -1., -1.,  1., -1., -1.,  1.]], dtype=float32),\n",
       " Array([ 2.625, -2.5  ,  0.25 ], dtype=float64))"
      ]
     },
     "execution_count": 8,
     "metadata": {},
     "output_type": "execute_result"
    }
   ],
   "source": [
    "%timeit -r 5 -n 5 result = ham.loc_energy(k=jnp_state)\n",
    "ham.loc_energy(k=jnp_state)"
   ]
  },
  {
   "cell_type": "markdown",
   "metadata": {},
   "source": [
    "### Build matrix"
   ]
  },
  {
   "cell_type": "code",
   "execution_count": 12,
   "metadata": {},
   "outputs": [
    {
     "name": "stderr",
     "output_type": "stream",
     "text": [
      "02_04_2025_01-08_49 [INFO] \t->\u001b[0m[Hamiltonian] Building the Hamiltonian matrix...\u001b[0m\n",
      "02_04_2025_01-08_49 [INFO] \t\t->\u001b[0m[Hamiltonian] Initialization completed in 0.000155 seconds\u001b[0m\n",
      "02_04_2025_01-08_49 [INFO] \t\t->\u001b[0m[Hamiltonian] Calculating the Hamiltonian matrix using NumPy...\u001b[0m\n",
      "02_04_2025_01-08_49 [INFO] \t->\u001b[0m[Hamiltonian] Hamiltonian matrix built in 0.182382 seconds.\u001b[0m\n"
     ]
    }
   ],
   "source": [
    "ham.build(verbose=True, use_numpy=True)"
   ]
  },
  {
   "cell_type": "code",
   "execution_count": 10,
   "metadata": {},
   "outputs": [
    {
     "name": "stderr",
     "output_type": "stream",
     "text": [
      "02_04_2025_01-08_28 [INFO] \t->\u001b[0m[Hamiltonian] Diagonalization started using (standard)...\u001b[0m\n",
      "02_04_2025_01-08_28 [INFO] \t\t->\u001b[0m[Hamiltonian] Diagonalization (standard) completed in 0.059722 seconds.\u001b[0m\n"
     ]
    }
   ],
   "source": [
    "ham.diagonalize(verbose=True)"
   ]
  },
  {
   "cell_type": "code",
   "execution_count": 11,
   "metadata": {},
   "outputs": [
    {
     "data": {
      "text/plain": [
       "(array([-5.375, -5.375, -5.375, -5.375, -5.375, -5.375, -5.375, -5.375,\n",
       "        -5.375, -5.375, -5.375, -5.375, -5.375, -5.375, -5.375, -5.375,\n",
       "        -5.125, -5.125, -5.125, -5.125, -5.125, -5.125, -5.125, -5.125,\n",
       "        -5.125, -5.125, -5.125, -5.125, -5.125, -5.125, -5.125, -5.125,\n",
       "        -4.875, -4.875, -4.875, -4.875, -4.875, -4.875, -4.875, -4.875,\n",
       "        -4.875, -4.875, -4.875, -4.875, -4.875, -4.875, -4.875, -4.875,\n",
       "        -4.625, -4.625, -4.625, -4.625, -4.625, -4.625, -4.625, -4.625,\n",
       "        -4.625, -4.625, -4.625, -4.625, -4.625, -4.625, -4.625, -4.625,\n",
       "        -0.375, -0.375, -0.375, -0.375, -0.375, -0.375, -0.375, -0.375,\n",
       "        -0.375, -0.375, -0.375, -0.375, -0.375, -0.375, -0.375, -0.375,\n",
       "        -0.375, -0.375, -0.375, -0.375, -0.375, -0.375, -0.375, -0.375,\n",
       "        -0.375, -0.375, -0.375, -0.375, -0.375, -0.375, -0.375, -0.375,\n",
       "        -0.125, -0.125, -0.125, -0.125, -0.125, -0.125, -0.125, -0.125,\n",
       "        -0.125, -0.125, -0.125, -0.125, -0.125, -0.125, -0.125, -0.125,\n",
       "        -0.125, -0.125, -0.125, -0.125, -0.125, -0.125, -0.125, -0.125,\n",
       "        -0.125, -0.125, -0.125, -0.125, -0.125, -0.125, -0.125, -0.125,\n",
       "         0.125,  0.125,  0.125,  0.125,  0.125,  0.125,  0.125,  0.125,\n",
       "         0.125,  0.125,  0.125,  0.125,  0.125,  0.125,  0.125,  0.125,\n",
       "         0.125,  0.125,  0.125,  0.125,  0.125,  0.125,  0.125,  0.125,\n",
       "         0.125,  0.125,  0.125,  0.125,  0.125,  0.125,  0.125,  0.125,\n",
       "         0.375,  0.375,  0.375,  0.375,  0.375,  0.375,  0.375,  0.375,\n",
       "         0.375,  0.375,  0.375,  0.375,  0.375,  0.375,  0.375,  0.375,\n",
       "         0.375,  0.375,  0.375,  0.375,  0.375,  0.375,  0.375,  0.375,\n",
       "         0.375,  0.375,  0.375,  0.375,  0.375,  0.375,  0.375,  0.375,\n",
       "         4.625,  4.625,  4.625,  4.625,  4.625,  4.625,  4.625,  4.625,\n",
       "         4.625,  4.625,  4.625,  4.625,  4.625,  4.625,  4.625,  4.625,\n",
       "         4.875,  4.875,  4.875,  4.875,  4.875,  4.875,  4.875,  4.875,\n",
       "         4.875,  4.875,  4.875,  4.875,  4.875,  4.875,  4.875,  4.875,\n",
       "         5.125,  5.125,  5.125,  5.125,  5.125,  5.125,  5.125,  5.125,\n",
       "         5.125,  5.125,  5.125,  5.125,  5.125,  5.125,  5.125,  5.125,\n",
       "         5.375,  5.375,  5.375,  5.375,  5.375,  5.375,  5.375,  5.375,\n",
       "         5.375,  5.375,  5.375,  5.375,  5.375,  5.375,  5.375,  5.375]),\n",
       " array([[ 2.63749309e-49, -1.44665013e-46,  1.46738938e-44, ...,\n",
       "          8.80765135e-02,  6.85712866e-02, -5.81294735e-02],\n",
       "        [ 8.97382989e-18,  1.74716699e-18, -1.20057140e-18, ...,\n",
       "          2.48004971e-01, -1.25284288e-02,  1.14796430e-01],\n",
       "        [-1.54338132e-18, -1.08186827e-17, -2.64737093e-17, ...,\n",
       "         -9.32891273e-03,  1.55941949e-01,  2.28831164e-01],\n",
       "        ...,\n",
       "        [ 2.27361985e-16, -9.30338042e-16, -2.61604710e-16, ...,\n",
       "          1.53931827e-17,  6.03105987e-18,  5.13686307e-17],\n",
       "        [ 6.19512711e-16, -2.63460270e-15, -6.60347097e-16, ...,\n",
       "          2.76168740e-17,  3.71948049e-18,  2.49423674e-17],\n",
       "        [ 3.82104892e-16,  1.94166231e-15,  5.00012125e-16, ...,\n",
       "          5.25795702e-19,  1.07238606e-17,  1.43089276e-17]]),\n",
       " (256, 256))"
      ]
     },
     "execution_count": 11,
     "metadata": {},
     "output_type": "execute_result"
    },
    {
     "data": {
      "image/png": "[encoded data removed]",
      "text/plain": [
       "<Figure size 350x262.5 with 1 Axes>"
      ]
     },
     "metadata": {},
     "output_type": "display_data"
    }
   ],
   "source": [
    "import matplotlib.pyplot as plt\n",
    "plt.plot(ham.eig_val)\n",
    "ham.eig_val, ham.eig_vec, ham.eig_vec.shape"
   ]
  },
  {
   "cell_type": "markdown",
   "metadata": {},
   "source": [
    "## Heisenberg - Kitaev model"
   ]
  },
  {
   "cell_type": "code",
   "execution_count": 1,
   "metadata": {},
   "outputs": [
    {
     "name": "stderr",
     "output_type": "stream",
     "text": [
      "WARNING:jax._src.lib.xla_bridge:No GPU/TPU found, falling back to CPU. (Set TF_CPP_MIN_LOG_LEVEL=0 and rerun for more info.)\n"
     ]
    },
    {
     "name": "stdout",
     "output_type": "stream",
     "text": [
      "=== Backend Initialization ===\n",
      "\tNumPy Version: 1.26.4\n",
      "\tSciPy Version: 1.13.1\n",
      "\tJAX Version: Not Available\n",
      "\t\tActive Backend: jax\n",
      "\t\tJAX Available: True\n",
      "\t\tDefault Random Key: [    0 12345]\n",
      "\tActive Backend Modules:\n",
      "\t\t\tMain Module: <module 'jax.numpy' from '/home/klimak/libraries/anaconda3/lib/python3.11/site-packages/jax/numpy/__init__.py'>\n",
      "\t\t\tRandom Module: <module 'jax.random' from '/home/klimak/libraries/anaconda3/lib/python3.11/site-packages/jax/random.py'>\n",
      "\t\t\tSciPy Module: <module 'jax.scipy' from '/home/klimak/libraries/anaconda3/lib/python3.11/site-packages/jax/scipy/__init__.py'>\n",
      "=== End of Backend Info ===\n"
     ]
    },
    {
     "data": {
      "text/plain": [
       "HON,LatticeBC.PBC,d=2,Ns=8,Lx=2,Ly=2,Lz=1"
      ]
     },
     "execution_count": 1,
     "metadata": {},
     "output_type": "execute_result"
    }
   ],
   "source": [
    "from Algebra.Model.Interacting.Spin.heisenberg_kitaev import HeisenbergKitaev, HEI_KIT_Z_BOND_NEI, HEI_KIT_X_BOND_NEI, HEI_KIT_Y_BOND_NEI\n",
    "from general_python.lattices.honeycomb import HoneycombLattice\n",
    "from general_python.lattices.lattice import LatticeBC\n",
    "\n",
    "backend = 'np'\n",
    "lat     = HoneycombLattice( dim     = 2,\n",
    "                            lx      = 2,\n",
    "                            ly      = 2,\n",
    "                            lz      = 1,\n",
    "                            bc      = LatticeBC.PBC)\n",
    "lat"
   ]
  },
  {
   "cell_type": "markdown",
   "metadata": {},
   "source": [
    "#### Printout the neighbors"
   ]
  },
  {
   "cell_type": "code",
   "execution_count": 2,
   "metadata": {},
   "outputs": [],
   "source": [
    "# for i in range(lat.ns):\n",
    "#     print(f\"site {i}:\")\n",
    "#     n_nei = lat.get_nn_forward_num(i)\n",
    "#     print(f\"\\tn_nei:{n_nei}\")\n",
    "    \n",
    "#     for j in range(n_nei):\n",
    "#         nei = lat.get_nn_forward(i, j)\n",
    "#         print(f\"\\t\\tnei {j}:\\t{nei}\", end='')\n",
    "#         if j == HEI_KIT_Z_BOND_NEI:\n",
    "#             print(f\"\\t\\t\\tbond Z\")\n",
    "#         elif j == HEI_KIT_Y_BOND_NEI:\n",
    "#             print(f\"\\t\\t\\tbond Y\")\n",
    "#         elif j == HEI_KIT_X_BOND_NEI:\n",
    "#             print(f\"\\t\\t\\tbond X\")"
   ]
  },
  {
   "cell_type": "markdown",
   "metadata": {},
   "source": [
    "#### GO!"
   ]
  },
  {
   "cell_type": "code",
   "execution_count": 3,
   "metadata": {},
   "outputs": [],
   "source": [
    "hx      = 0.5\n",
    "hz      = -0.3\n",
    "j       = 1.0\n",
    "kx      = 1.0\n",
    "ky      = 1.0\n",
    "kz      = 1.0\n",
    "dlt     = 1.0\n",
    "\n",
    "hamil   = HeisenbergKitaev(lattice      = lat, \n",
    "                        hilbert_space   = None, \n",
    "                        hx              = hx,\n",
    "                        hz              = hz,\n",
    "                        kx              = kx,\n",
    "                        ky              = ky,\n",
    "                        kz              = kz,\n",
    "                        j               = j,\n",
    "                        dlt             = dlt, \n",
    "                        dtype           = float,\n",
    "                        backend         = backend)"
   ]
  },
  {
   "cell_type": "code",
   "execution_count": 4,
   "metadata": {},
   "outputs": [
    {
     "name": "stdout",
     "output_type": "stream",
     "text": [
      "Memory:6.104e-05gb\n"
     ]
    }
   ],
   "source": [
    "hamil.build(verbose=True, use_numpy=True)\n",
    "print(f\"Memory:{hamil.memory_gb:.3e}gb\")"
   ]
  },
  {
   "cell_type": "code",
   "execution_count": 5,
   "metadata": {},
   "outputs": [],
   "source": [
    "hamil.diagonalize(verbose=True)"
   ]
  },
  {
   "cell_type": "code",
   "execution_count": 6,
   "metadata": {},
   "outputs": [
    {
     "data": {
      "text/plain": [
       "(array([-6.44211693e+00, -5.92610809e+00, -5.34411037e+00, -4.76205750e+00,\n",
       "        -4.45309041e+00, -4.39228435e+00, -4.26935329e+00, -4.19720199e+00,\n",
       "        -4.14771635e+00, -4.13904170e+00, -4.02741320e+00, -3.95159616e+00,\n",
       "        -3.88109805e+00, -3.70049653e+00, -3.60505299e+00, -3.48265996e+00,\n",
       "        -3.47705959e+00, -3.46626615e+00, -3.27091704e+00, -3.25497709e+00,\n",
       "        -3.13839839e+00, -3.12171530e+00, -3.11695191e+00, -3.11080783e+00,\n",
       "        -3.08889167e+00, -3.06699614e+00, -3.06577808e+00, -2.85840130e+00,\n",
       "        -2.78537589e+00, -2.78094245e+00, -2.77333462e+00, -2.72018788e+00,\n",
       "        -2.66808075e+00, -2.66798999e+00, -2.60994032e+00, -2.60128268e+00,\n",
       "        -2.58409053e+00, -2.54121064e+00, -2.50833066e+00, -2.49994427e+00,\n",
       "        -2.40397998e+00, -2.37248032e+00, -2.35561307e+00, -2.34097147e+00,\n",
       "        -2.32876190e+00, -2.24981481e+00, -2.21285296e+00, -2.13647581e+00,\n",
       "        -2.10929097e+00, -2.03923428e+00, -1.99407335e+00, -1.96276039e+00,\n",
       "        -1.92321627e+00, -1.91773516e+00, -1.86698716e+00, -1.84266016e+00,\n",
       "        -1.74872889e+00, -1.71105867e+00, -1.70102745e+00, -1.69870070e+00,\n",
       "        -1.61873851e+00, -1.61803544e+00, -1.54435126e+00, -1.47803402e+00,\n",
       "        -1.46985846e+00, -1.45339765e+00, -1.43997356e+00, -1.42069731e+00,\n",
       "        -1.41764285e+00, -1.40451484e+00, -1.35465788e+00, -1.35095266e+00,\n",
       "        -1.32738983e+00, -1.26857280e+00, -1.22642344e+00, -1.17965235e+00,\n",
       "        -1.17879133e+00, -1.17600420e+00, -1.13103750e+00, -1.09241822e+00,\n",
       "        -1.08451460e+00, -1.07466490e+00, -1.06169414e+00, -1.04297948e+00,\n",
       "        -1.02244146e+00, -1.02195352e+00, -9.50681662e-01, -9.10271851e-01,\n",
       "        -8.97940061e-01, -8.81094670e-01, -8.38494147e-01, -8.18963511e-01,\n",
       "        -8.11977592e-01, -7.46114167e-01, -7.15742482e-01, -6.95848142e-01,\n",
       "        -6.60143544e-01, -6.36088215e-01, -6.03789964e-01, -5.97684108e-01,\n",
       "        -5.72254590e-01, -5.64010892e-01, -5.20989236e-01, -5.13561400e-01,\n",
       "        -4.91972650e-01, -4.81129706e-01, -4.76885325e-01, -3.79205972e-01,\n",
       "        -3.71434216e-01, -3.53638222e-01, -3.33384121e-01, -3.23763092e-01,\n",
       "        -3.21265506e-01, -3.17655028e-01, -2.96668547e-01, -2.63674718e-01,\n",
       "        -2.55299106e-01, -2.53270239e-01, -1.82639996e-01, -1.33143069e-01,\n",
       "        -1.25321776e-01, -9.62620248e-02, -8.23061839e-02, -6.05997820e-02,\n",
       "        -2.58509759e-02, -1.77635684e-15,  8.07094104e-03,  2.37598313e-02,\n",
       "         2.86747497e-02,  5.29504495e-02,  6.24150957e-02,  9.98488237e-02,\n",
       "         1.13468670e-01,  1.19539514e-01,  1.22566384e-01,  1.32572403e-01,\n",
       "         1.78224629e-01,  1.93002532e-01,  2.08906689e-01,  2.15016748e-01,\n",
       "         2.47066018e-01,  2.81887367e-01,  3.00671503e-01,  3.13844912e-01,\n",
       "         3.61426187e-01,  3.82144957e-01,  3.93834106e-01,  3.98070419e-01,\n",
       "         4.73937408e-01,  5.02285061e-01,  5.20446578e-01,  5.27507731e-01,\n",
       "         5.43186410e-01,  5.45696428e-01,  5.59479883e-01,  5.95130931e-01,\n",
       "         6.07518026e-01,  6.58543579e-01,  6.62179586e-01,  6.76107968e-01,\n",
       "         7.50400244e-01,  8.31944329e-01,  8.33988498e-01,  8.34186877e-01,\n",
       "         8.37963330e-01,  8.78677690e-01,  9.36698838e-01,  9.67022880e-01,\n",
       "         9.84094106e-01,  9.89733825e-01,  1.00525140e+00,  1.01438117e+00,\n",
       "         1.03838730e+00,  1.06712919e+00,  1.07604588e+00,  1.10572761e+00,\n",
       "         1.20477100e+00,  1.22355452e+00,  1.24047102e+00,  1.26007187e+00,\n",
       "         1.29763151e+00,  1.31682626e+00,  1.38600313e+00,  1.39732341e+00,\n",
       "         1.40735883e+00,  1.44457041e+00,  1.45702627e+00,  1.48026729e+00,\n",
       "         1.48632664e+00,  1.52193723e+00,  1.55484857e+00,  1.55904060e+00,\n",
       "         1.60317202e+00,  1.62839674e+00,  1.68488943e+00,  1.69902061e+00,\n",
       "         1.71716176e+00,  1.72574091e+00,  1.75422951e+00,  1.83536548e+00,\n",
       "         1.88419345e+00,  1.89696498e+00,  1.94273974e+00,  1.94916012e+00,\n",
       "         1.98252122e+00,  2.01910294e+00,  2.03153677e+00,  2.05415517e+00,\n",
       "         2.07247400e+00,  2.08813305e+00,  2.09561844e+00,  2.13863304e+00,\n",
       "         2.21815679e+00,  2.22092068e+00,  2.30972251e+00,  2.31399631e+00,\n",
       "         2.40170830e+00,  2.40599208e+00,  2.43455355e+00,  2.47463801e+00,\n",
       "         2.50695930e+00,  2.54048414e+00,  2.54081268e+00,  2.58501062e+00,\n",
       "         2.59158736e+00,  2.61947089e+00,  2.75067615e+00,  2.77869815e+00,\n",
       "         2.77962804e+00,  2.85373334e+00,  2.87762518e+00,  2.88418475e+00,\n",
       "         2.90098056e+00,  2.96461449e+00,  3.08758622e+00,  3.13119612e+00,\n",
       "         3.30401389e+00,  3.33985074e+00,  3.37363620e+00,  3.41610261e+00,\n",
       "         3.42045643e+00,  3.52144762e+00,  3.57102688e+00,  3.60537341e+00,\n",
       "         3.91080254e+00,  3.99127198e+00,  4.02005292e+00,  4.07954980e+00,\n",
       "         4.17180814e+00,  4.52758784e+00,  4.59658302e+00,  4.74171470e+00,\n",
       "         4.76761532e+00,  5.29320418e+00,  5.86808500e+00,  6.44013243e+00]),\n",
       " array([[-7.12659514e-04,  0.00000000e+00,  0.00000000e+00, ...,\n",
       "          5.27130686e-01, -5.39853693e-01, -3.23263394e-01],\n",
       "        [ 3.26828529e-05,  3.70821016e-04,  3.67761971e-04, ...,\n",
       "         -1.85271845e-02, -1.44817377e-01, -1.78269915e-01],\n",
       "        [ 3.26828529e-05, -3.70821016e-04, -3.67761971e-04, ...,\n",
       "         -1.85271845e-02, -1.44817377e-01, -1.78269915e-01],\n",
       "        ...,\n",
       "        [ 5.74993392e-05,  1.91346832e-04, -5.83833604e-04, ...,\n",
       "          6.25264717e-02,  2.38115410e-02, -8.37644055e-03],\n",
       "        [ 5.74993392e-05, -1.91346832e-04,  5.83833604e-04, ...,\n",
       "          6.25264717e-02,  2.38115410e-02, -8.37644055e-03],\n",
       "        [-1.11655667e-03,  3.51281504e-17, -1.56613004e-16, ...,\n",
       "          5.53724605e-02,  1.66484709e-02, -5.83597861e-03]]),\n",
       " (256, 256))"
      ]
     },
     "execution_count": 6,
     "metadata": {},
     "output_type": "execute_result"
    },
    {
     "data": {
      "image/png": "[encoded data removed]",
      "text/plain": [
       "<Figure size 350x262.5 with 1 Axes>"
      ]
     },
     "metadata": {},
     "output_type": "display_data"
    }
   ],
   "source": [
    "import matplotlib.pyplot as plt\n",
    "plt.plot(hamil.eig_val)\n",
    "hamil.eig_val, hamil.eig_vec, hamil.eig_vec.shape"
   ]
  },
  {
   "cell_type": "code",
   "execution_count": 7,
   "metadata": {},
   "outputs": [
    {
     "name": "stdout",
     "output_type": "stream",
     "text": [
      "Minimum value: -4.0\n",
      "Maximum value: 5.2\n"
     ]
    },
    {
     "data": {
      "image/png": "[encoded data removed]",
      "text/plain": [
       "<Figure size 500x500 with 2 Axes>"
      ]
     },
     "metadata": {},
     "output_type": "display_data"
    },
    {
     "data": {
      "text/plain": [
       "<256x256 sparse matrix of type '<class 'numpy.float64'>'\n",
       "\twith 5376 stored elements in Compressed Sparse Row format>"
      ]
     },
     "execution_count": 7,
     "metadata": {},
     "output_type": "execute_result"
    }
   ],
   "source": [
    "import numpy as np\n",
    "# make dense\n",
    "qsm_dense   = hamil.hamil.todense() if hamil.sparse else hamil.hamil\n",
    "minimum     = qsm_dense.min()\n",
    "maximum     = qsm_dense.max()\n",
    "qsm_dense   = np.abs(qsm_dense) / np.abs(qsm_dense).max()\n",
    "\n",
    "print(\"Minimum value:\", minimum)\n",
    "print(\"Maximum value:\", maximum)\n",
    "\n",
    "plt.figure(figsize=(5, 5))\n",
    "plt.imshow(qsm_dense, cmap='viridis')\n",
    "plt.colorbar()\n",
    "plt.title(\"Density Representation\")\n",
    "plt.show()\n",
    "hamil.hamil"
   ]
  },
  {
   "cell_type": "markdown",
   "metadata": {},
   "source": [
    "## Quantum Sun Model"
   ]
  },
  {
   "cell_type": "code",
   "execution_count": 7,
   "metadata": {},
   "outputs": [
    {
     "data": {
      "text/plain": [
       "array([1.09830875, 0.68673419, 1.17275604])"
      ]
     },
     "execution_count": 7,
     "metadata": {},
     "output_type": "execute_result"
    }
   ],
   "source": [
    "from Algebra.Model.Interacting.Spin.qsm import QSM\n",
    "backend = 'np'\n",
    "hamil   = QSM(ns=6, hilbert_space=None, n=3, a=0.64, h=1.0, xi=0.2, backend=backend, dtype='float64')\n",
    "hamil.h"
   ]
  },
  {
   "cell_type": "markdown",
   "metadata": {},
   "source": [
    "#### Build"
   ]
  },
  {
   "cell_type": "markdown",
   "metadata": {},
   "source": [
    "##### Sparse"
   ]
  },
  {
   "cell_type": "code",
   "execution_count": 8,
   "metadata": {},
   "outputs": [
    {
     "name": "stdout",
     "output_type": "stream",
     "text": [
      "Memory:8.110e-06gb\n"
     ]
    }
   ],
   "source": [
    "hamil.build(verbose=True, use_numpy=True)\n",
    "print(f\"Memory:{hamil.memory_gb:.3e}gb\")"
   ]
  },
  {
   "cell_type": "code",
   "execution_count": 10,
   "metadata": {},
   "outputs": [],
   "source": [
    "hamil.diagonalize(verbose=True)"
   ]
  },
  {
   "cell_type": "code",
   "execution_count": 11,
   "metadata": {},
   "outputs": [
    {
     "data": {
      "text/plain": [
       "array([1.50045918, 1.53956738, 1.69939926, 1.88216289, 2.14070568])"
      ]
     },
     "execution_count": 11,
     "metadata": {},
     "output_type": "execute_result"
    }
   ],
   "source": [
    "hamil.eig_val[-5:]"
   ]
  },
  {
   "cell_type": "code",
   "execution_count": 12,
   "metadata": {},
   "outputs": [
    {
     "name": "stderr",
     "output_type": "stream",
     "text": [
      "/home/klimak/Codes/QuantumEigenSolver/Python/QES/general_python/physics/eigenlevels.py:106: RuntimeWarning: invalid value encountered in divide\n",
      "  gap_ratios = np.minimum(d_en[:-1], d_en[1:]) / np.maximum(d_en[:-1], d_en[1:])\n"
     ]
    },
    {
     "data": {
      "text/plain": [
       "nan"
      ]
     },
     "execution_count": 12,
     "metadata": {},
     "output_type": "execute_result"
    }
   ],
   "source": [
    "from general_python.physics.eigenlevels import gap_ratio\n",
    "gap_ratio(hamil.eig_val, 1.0)['mean']"
   ]
  },
  {
   "cell_type": "code",
   "execution_count": 13,
   "metadata": {},
   "outputs": [
    {
     "data": {
      "text/plain": [
       "11.844281113283797"
      ]
     },
     "execution_count": 13,
     "metadata": {},
     "output_type": "execute_result"
    }
   ],
   "source": [
    "np.sqrt(np.trace((hamil.hamil * hamil.hamil).todense()))"
   ]
  },
  {
   "cell_type": "markdown",
   "metadata": {},
   "source": [
    "##### Dense"
   ]
  },
  {
   "cell_type": "code",
   "execution_count": 14,
   "metadata": {},
   "outputs": [],
   "source": [
    "hamil.to_dense()"
   ]
  },
  {
   "cell_type": "code",
   "execution_count": 12,
   "metadata": {},
   "outputs": [
    {
     "name": "stderr",
     "output_type": "stream",
     "text": [
      "23_03_2025_21-56_00 [INFO] \t->\u001b[0m[Quantum Sun Model] Building the Hamiltonian matrix...\u001b[0m\n",
      "23_03_2025_21-56_00 [INFO] \t\t->\u001b[0m[Quantum Sun Model] Initialization completed in 0.000401 seconds\u001b[0m\n",
      "23_03_2025_21-56_01 [INFO] \t->\u001b[0m[Quantum Sun Model] Hamiltonian matrix built in 0.064316 seconds.\u001b[0m\n"
     ]
    }
   ],
   "source": [
    "hamil.build(verbose=True, use_numpy=True)"
   ]
  },
  {
   "cell_type": "code",
   "execution_count": 13,
   "metadata": {},
   "outputs": [
    {
     "name": "stderr",
     "output_type": "stream",
     "text": [
      "23_03_2025_21-56_01 [INFO] \u001b[0m[Quantum Sun Model] Diagonalization (standard) completed in 0.091391 seconds.\u001b[0m\n"
     ]
    }
   ],
   "source": [
    "hamil.diagonalize(verbose=True)"
   ]
  },
  {
   "cell_type": "code",
   "execution_count": 14,
   "metadata": {},
   "outputs": [
    {
     "name": "stderr",
     "output_type": "stream",
     "text": [
      "23_03_2025_21-56_02 [INFO] \t->\u001b[0m[Quantum Sun Model] Checking the memory used by the Hamiltonian matrix of type <class 'numpy.matrix'>\u001b[0m\n"
     ]
    },
    {
     "data": {
      "text/plain": [
       "0.001953125"
      ]
     },
     "execution_count": 14,
     "metadata": {},
     "output_type": "execute_result"
    }
   ],
   "source": [
    "hamil.h_memory_gb"
   ]
  },
  {
   "cell_type": "markdown",
   "metadata": {},
   "source": [
    "##### Plot tests"
   ]
  },
  {
   "cell_type": "code",
   "execution_count": 12,
   "metadata": {},
   "outputs": [
    {
     "data": {
      "text/plain": [
       "(array([-2.34531496, -2.11798111, -2.05381417, -1.77434138, -1.68752715,\n",
       "        -1.61777998, -1.5142981 , -1.40167197, -1.3743069 , -1.24799662,\n",
       "        -1.22757864, -1.12739028, -1.03491133, -0.94421676, -0.90879457,\n",
       "        -0.89215716, -0.86991355, -0.79161961, -0.7841528 , -0.73561609,\n",
       "        -0.60509698, -0.58112498, -0.5567302 , -0.53965873, -0.48245229,\n",
       "        -0.4122751 , -0.40239185, -0.32426685, -0.2654296 , -0.24201167,\n",
       "        -0.20965288, -0.18040775, -0.10389064, -0.06509441, -0.03179272,\n",
       "        -0.02241905,  0.04461932,  0.13452145,  0.16620679,  0.26036263,\n",
       "         0.29958855,  0.31675937,  0.3427217 ,  0.38618413,  0.42452586,\n",
       "         0.45552848,  0.50484907,  0.59743343,  0.62706459,  0.66137275,\n",
       "         0.70891361,  0.7939359 ,  0.89690373,  0.93771098,  0.99153836,\n",
       "         1.11496683,  1.11661861,  1.23095887,  1.33844484,  1.50045918,\n",
       "         1.53956738,  1.69939926,  1.88216289,  2.14070568]),\n",
       " array([[ 5.10949240e-01,  3.28695086e-01, -2.53144595e-01, ...,\n",
       "          1.95464797e-03,  5.94533351e-04, -4.19875890e-04],\n",
       "        [-1.66476994e-03, -3.54179303e-02, -5.46367272e-02, ...,\n",
       "          2.16753051e-03, -1.58413557e-02,  2.13716127e-04],\n",
       "        [-1.38475270e-03, -9.66773549e-02, -1.24584361e-01, ...,\n",
       "          3.16592340e-03, -7.79436623e-03,  7.86084822e-05],\n",
       "        ...,\n",
       "        [-2.37453226e-04,  6.28603426e-03,  3.05518599e-03, ...,\n",
       "          1.55958991e-01, -2.38458820e-02,  2.08729765e-02],\n",
       "        [-1.36989944e-03,  1.42385259e-02,  6.69582478e-03, ...,\n",
       "          4.17246779e-02, -6.98748123e-03,  1.09942515e-02],\n",
       "        [-7.08868677e-04,  1.14163262e-03, -2.01837372e-04, ...,\n",
       "          8.65240998e-02, -3.38256863e-02,  6.89746772e-01]]),\n",
       " (64, 64))"
      ]
     },
     "execution_count": 12,
     "metadata": {},
     "output_type": "execute_result"
    },
    {
     "data": {
      "image/png": "[encoded data removed]",
      "text/plain": [
       "<Figure size 350x262.5 with 1 Axes>"
      ]
     },
     "metadata": {},
     "output_type": "display_data"
    }
   ],
   "source": [
    "import matplotlib.pyplot as plt\n",
    "plt.plot(hamil.eig_val)\n",
    "hamil.eig_val, hamil.eig_vec, hamil.eig_vec.shape"
   ]
  },
  {
   "cell_type": "code",
   "execution_count": 15,
   "metadata": {},
   "outputs": [
    {
     "name": "stdout",
     "output_type": "stream",
     "text": [
      "Minimum value: -1.8001851646795513\n",
      "Maximum value: 1.5759584299232352\n"
     ]
    },
    {
     "data": {
      "image/png": "[encoded data removed]",
      "text/plain": [
       "<Figure size 500x500 with 2 Axes>"
      ]
     },
     "metadata": {},
     "output_type": "display_data"
    }
   ],
   "source": [
    "import numpy as np\n",
    "# make dense\n",
    "qsm_dense   = hamil.hamil.todense() if hamil.sparse else hamil.hamil\n",
    "minimum     = qsm_dense.min()\n",
    "maximum     = qsm_dense.max()\n",
    "qsm_dense   = np.abs(qsm_dense) / np.abs(qsm_dense).max()\n",
    "\n",
    "print(\"Minimum value:\", minimum)\n",
    "print(\"Maximum value:\", maximum)\n",
    "\n",
    "plt.figure(figsize=(5, 5))\n",
    "plt.imshow(qsm_dense, cmap='viridis')\n",
    "plt.colorbar()\n",
    "plt.title(\"Density Representation\")\n",
    "plt.show()"
   ]
  },
  {
   "cell_type": "markdown",
   "metadata": {},
   "source": [
    "##### Operators"
   ]
  },
  {
   "cell_type": "code",
   "execution_count": 16,
   "metadata": {},
   "outputs": [
    {
     "data": {
      "text/plain": [
       "array([[1., 0.],\n",
       "       [0., 1.]])"
      ]
     },
     "execution_count": 16,
     "metadata": {},
     "output_type": "execute_result"
    }
   ],
   "source": [
    "from Algebra.Operator.operators_spin import sig_x, sig_z, OperatorTypeActing\n",
    "from general_python.common import binary\n",
    "import numpy as np\n",
    "\n",
    "backend     = 'np'\n",
    "ns          = 2\n",
    "nh          = 2**ns   \n",
    "sites       = [ns - 1]\n",
    "# sites       = [0]\n",
    "sig_x_op    = sig_x(ns = ns, type_act = OperatorTypeActing.Global, sites = sites)\n",
    "sig_z_op    = sig_z(ns = ns, type_act = OperatorTypeActing.Global, sites = sites)\n",
    "eye_first   = np.eye(2**(ns - 1))\n",
    "eye_first"
   ]
  },
  {
   "cell_type": "markdown",
   "metadata": {},
   "source": [
    "###### Check how it works on the base states"
   ]
  },
  {
   "cell_type": "markdown",
   "metadata": {},
   "source": [
    "###### With states"
   ]
  },
  {
   "cell_type": "code",
   "execution_count": 17,
   "metadata": {},
   "outputs": [
    {
     "name": "stdout",
     "output_type": "stream",
     "text": [
      "\n",
      "Applying sigma_x\n",
      "Acting on state 3 (11)\n",
      "\tResulting state: 2\n",
      "\tResulting value: [0.5]\n",
      "\tBinary representation of resulting state: 10\n",
      "Applying sigma_z\n",
      "Resulting state: 3\n",
      "Resulting value: [0.5]\n",
      "Binary representation of resulting state: 11\n",
      "\n",
      "\n",
      "Applying sigma_x\n",
      "Acting on state 1 (01)\n",
      "\tResulting state: 0\n",
      "\tResulting value: [0.5]\n",
      "\tBinary representation of resulting state: 00\n",
      "Applying sigma_z\n",
      "Resulting state: 1\n",
      "Resulting value: [0.5]\n",
      "Binary representation of resulting state: 01\n",
      "\n",
      "\n",
      "Applying sigma_x\n",
      "Acting on state 1 (01)\n",
      "\tResulting state: 0\n",
      "\tResulting value: [0.5]\n",
      "\tBinary representation of resulting state: 00\n",
      "Applying sigma_z\n",
      "Resulting state: 1\n",
      "Resulting value: [0.5]\n",
      "Binary representation of resulting state: 01\n",
      "\n"
     ]
    }
   ],
   "source": [
    "int_state_full          = 2**(ns) - 1\n",
    "int_state_half          = 2**(ns - 1) - 1\n",
    "int_state_half_size     = 2**(ns//2) - 1\n",
    "\n",
    "# binary representation\n",
    "backend_state           = binary.int2base(int_state_full, size=ns, backend=backend)\n",
    "backend_state_half      = binary.int2base(int_state_half, size=ns, backend=backend)\n",
    "backend_state_half_size = binary.int2base(int_state_half_size, size=ns//2, backend=backend)\n",
    "# string representation\n",
    "string_state            = binary.int2binstr(int_state_full, bits=ns)\n",
    "string_state_half       = binary.int2binstr(int_state_half, bits=ns)\n",
    "string_state_half_size  = binary.int2binstr(int_state_half_size, bits=ns)\n",
    "\n",
    "# act on the integer states\n",
    "for state in [int_state_full, int_state_half, int_state_half_size]:\n",
    "    print()\n",
    "    # sigma x\n",
    "    print(\"Applying sigma_x\")\n",
    "    print(f\"Acting on state {state} ({binary.int2binstr(state, bits=ns)})\")\n",
    "    resulting_state, resulting_value = sig_x_op(state)\n",
    "    print(f\"\\tResulting state: {resulting_state[0]}\")\n",
    "    print(f\"\\tResulting value: {resulting_value}\")\n",
    "    print(f\"\\tBinary representation of resulting state: {binary.int2binstr(resulting_state[0], bits=ns)}\")\n",
    "    # sigma z\n",
    "    print(\"Applying sigma_z\")\n",
    "    resulting_state, resulting_value = sig_z_op(state)\n",
    "    print(f\"Resulting state: {resulting_state[0]}\")\n",
    "    print(f\"Resulting value: {resulting_value}\")\n",
    "    print(f\"Binary representation of resulting state: {binary.int2binstr(resulting_state[0], bits=ns)}\")\n",
    "    print()\n"
   ]
  },
  {
   "cell_type": "code",
   "execution_count": null,
   "metadata": {},
   "outputs": [
    {
     "name": "stdout",
     "output_type": "stream",
     "text": [
      "Are the two matrices (sig_x) equal? False\n",
      "Are the two matrices (sig_z) equal? False\n",
      "From the operator (sig_x)\n"
     ]
    },
    {
     "data": {
      "text/latex": [
       "$\\displaystyle \\left[\\begin{matrix}0.0 & 0.5 & 0.0 & 0.0\\\\0.5 & 0.0 & 0.0 & 0.0\\\\0.0 & 0.0 & 0.0 & 0.5\\\\0.0 & 0.0 & 0.5 & 0.0\\end{matrix}\\right]$"
      ],
      "text/plain": [
       "Matrix([\n",
       "[0.0, 0.5, 0.0, 0.0],\n",
       "[0.5, 0.0, 0.0, 0.0],\n",
       "[0.0, 0.0, 0.0, 0.5],\n",
       "[0.0, 0.0, 0.5, 0.0]])"
      ]
     },
     "metadata": {},
     "output_type": "display_data"
    },
    {
     "name": "stdout",
     "output_type": "stream",
     "text": [
      "From the operator (sig_z)\n"
     ]
    },
    {
     "data": {
      "text/latex": [
       "$\\displaystyle \\left[\\begin{matrix}-0.5 & 0.0 & 0.0 & 0.0\\\\0.0 & 0.5 & 0.0 & 0.0\\\\0.0 & 0.0 & -0.5 & 0.0\\\\0.0 & 0.0 & 0.0 & 0.5\\end{matrix}\\right]$"
      ],
      "text/plain": [
       "Matrix([\n",
       "[-0.5, 0.0,  0.0, 0.0],\n",
       "[ 0.0, 0.5,  0.0, 0.0],\n",
       "[ 0.0, 0.0, -0.5, 0.0],\n",
       "[ 0.0, 0.0,  0.0, 0.5]])"
      ]
     },
     "metadata": {},
     "output_type": "display_data"
    },
    {
     "name": "stdout",
     "output_type": "stream",
     "text": [
      "From tensor (sig_x)\n"
     ]
    },
    {
     "data": {
      "text/latex": [
       "$\\displaystyle \\left[\\begin{matrix}0.0 & 0.0 & 0.5 & 0.0\\\\0.0 & 0.0 & 0.0 & 0.5\\\\0.5 & 0.0 & 0.0 & 0.0\\\\0.0 & 0.5 & 0.0 & 0.0\\end{matrix}\\right]$"
      ],
      "text/plain": [
       "Matrix([\n",
       "[0.0, 0.0, 0.5, 0.0],\n",
       "[0.0, 0.0, 0.0, 0.5],\n",
       "[0.5, 0.0, 0.0, 0.0],\n",
       "[0.0, 0.5, 0.0, 0.0]])"
      ]
     },
     "metadata": {},
     "output_type": "display_data"
    },
    {
     "name": "stdout",
     "output_type": "stream",
     "text": [
      "From tensor (sig_z)\n"
     ]
    },
    {
     "data": {
      "text/latex": [
       "$\\displaystyle \\left[\\begin{matrix}-0.5 & 0.0 & 0.0 & 0.0\\\\0.0 & -0.5 & 0.0 & 0.0\\\\0.0 & 0.0 & 0.5 & 0.0\\\\0.0 & 0.0 & 0.0 & 0.5\\end{matrix}\\right]$"
      ],
      "text/plain": [
       "Matrix([\n",
       "[-0.5,  0.0, 0.0, 0.0],\n",
       "[ 0.0, -0.5, 0.0, 0.0],\n",
       "[ 0.0,  0.0, 0.5, 0.0],\n",
       "[ 0.0,  0.0, 0.0, 0.5]])"
      ]
     },
     "metadata": {},
     "output_type": "display_data"
    }
   ],
   "source": []
  },
  {
   "cell_type": "markdown",
   "metadata": {},
   "source": [
    "###### With Hamiltonian"
   ]
  },
  {
   "cell_type": "markdown",
   "metadata": {},
   "source": [
    "###### Matrix"
   ]
  },
  {
   "cell_type": "code",
   "execution_count": 21,
   "metadata": {},
   "outputs": [
    {
     "name": "stderr",
     "output_type": "stream",
     "text": [
      "100%|██████████| 20/20 [00:00<00:00, 56.47it/s]\n",
      "100%|██████████| 20/20 [00:00<00:00, 22.69it/s]\n",
      "100%|██████████| 20/20 [00:01<00:00, 11.37it/s]\n",
      "100%|██████████| 10/10 [00:02<00:00,  3.96it/s]\n",
      "100%|██████████| 6/6 [00:04<00:00,  1.23it/s]\n"
     ]
    },
    {
     "data": {
      "image/png": "[encoded data removed]",
      "text/plain": [
       "<Figure size 350x262.5 with 1 Axes>"
      ]
     },
     "metadata": {},
     "output_type": "display_data"
    }
   ],
   "source": [
    "import numpy as np\n",
    "from Algebra.Model.Interacting.Spin.qsm import QSM\n",
    "from general_python.algebra.linalg import act, overlap\n",
    "from general_python.common.plot import Plotter, colorsCycle\n",
    "from general_python.maths.statistics import Statistics, HistogramAverage, Fraction\n",
    "from Algebra.Operator.operators_spin import sig_x, sig_z, OperatorTypeActing\n",
    "import matplotlib.pyplot as plt\n",
    "from tqdm import tqdm\n",
    "\n",
    "dtype           = 'float64'\n",
    "nrealizations   = (np.array([100, 100, 100, 50, 30, 20])/5).astype(int)\n",
    "# nrealizations   = (np.array([1, 1, 1, 1, 1, 1])).astype(int)\n",
    "alpha           = 0.8\n",
    "histograms_x    = {}\n",
    "histograms_z    = {}\n",
    "diagonals_x     = {}\n",
    "diagonals_z     = {}\n",
    "energies        = {}\n",
    "nss             = [6,7,8,9,10]\n",
    "# nss             = [10, 11]\n",
    "\n",
    "# nss             = [9,10,11]\n",
    "# nrealizations   = [10]\n",
    "\n",
    "def set_histogram(hamiltonian, hist_sig_x: HistogramAverage, hist_sig_z: HistogramAverage, nbins):\n",
    "    bandwidth       = hamiltonian.get_bandwidth()\n",
    "    omax            = bandwidth * 3\n",
    "    omin            = 0.1 / hamiltonian.hilbert_size\n",
    "    tolerance       = 0.02 * bandwidth\n",
    "    hist_sig_x.reset(nbins=nbins)\n",
    "    hist_sig_x.uniform_log(v_max=omax, v_min=omin)\n",
    "    hist_sig_z.reset(nbins=nbins)\n",
    "    hist_sig_z.uniform_log(v_max=omax, v_min=omin)\n",
    "    return tolerance\n",
    "\n",
    "for ii, ns in enumerate(nss):\n",
    "    realizations    = nrealizations[ii] if ii < len(nrealizations) else nrealizations[-1]\n",
    "    energies[ns]    = []\n",
    "    diagonals_x[ns] = []\n",
    "    diagonals_z[ns] = []\n",
    "    nh              = 2**ns\n",
    "    # sites           = [0]\n",
    "    sites           = [ns - 1]\n",
    "    # sites           = [0]\n",
    "    sig_x_op        = sig_x(ns = ns, type_act = OperatorTypeActing.Global, sites = sites)\n",
    "    sig_z_op        = sig_z(ns = ns, type_act = OperatorTypeActing.Global, sites = sites)\n",
    "    sig_x_op_mat    = sig_x_op.matrix(dim = nh, matrix_type = 'sparse', use_numpy = True)\n",
    "    sig_z_op_mat    = sig_z_op.matrix(dim = nh, matrix_type = 'sparse', use_numpy = True)\n",
    "    histogram_sig_x = HistogramAverage(dtype=dtype)\n",
    "    histogram_sig_z = HistogramAverage(dtype=dtype)\n",
    "    nbins           = int(20 * np.log2(nh))\n",
    "    tolerance       = 0.0\n",
    "    for realization in tqdm(range(realizations)):\n",
    "        # print(f\"Realization {realization + 1}/{nrealizations}\")\n",
    "        hamil       = QSM(ns=ns, hilbert_space=None, n=3, a=alpha, h=1.0, xi=0.2, backend = 'np', dtype='float64')\n",
    "        hamil.build(verbose=False, use_numpy=True)\n",
    "        hamil.diagonalize(verbose=False)\n",
    "        states      = hamil.eig_vec\n",
    "        eigvals     = hamil.eig_val\n",
    "        sig_x_elems = overlap(states, states, sig_x_op_mat, backend = backend)\n",
    "        sig_z_elems = overlap(states, states, sig_z_op_mat, backend = backend)\n",
    "        diag_sig_x  = sig_x_elems.diagonal()\n",
    "        diag_sig_z  = sig_z_elems.diagonal()\n",
    "        if realization == 0:\n",
    "            tolerance = set_histogram(hamil, histogram_sig_x, histogram_sig_z, nbins)\n",
    "        # get the average energy\n",
    "        energy_at       = hamil.av_en\n",
    "        # create the f_functions by taking the middle spectrum (%)\n",
    "        w, i_idx, j_idx = Fraction.spectral_function_fraction(eigvals, energy_at, tolerance)\n",
    "        ones            = np.ones_like(sig_x_elems)\n",
    "        ones[i_idx, j_idx] = 0\n",
    "        plt.imshow(ones)\n",
    "        # fill the histogram\n",
    "        sig_x_changed   = np.abs(sig_x_elems[i_idx, j_idx])**2\n",
    "        sig_z_changed   = np.abs(sig_z_elems[i_idx, j_idx])**2\n",
    "        histogram_sig_x.append(w, sig_x_changed)\n",
    "        histogram_sig_z.append(w, sig_z_changed)\n",
    "        diagonals_x[ns].append(diag_sig_x)\n",
    "        diagonals_z[ns].append(diag_sig_z)\n",
    "        energies[ns].append(eigvals)\n",
    "    histograms_x[ns] = histogram_sig_x\n",
    "    histograms_z[ns] = histogram_sig_z\n",
    "    "
   ]
  },
  {
   "cell_type": "code",
   "execution_count": 22,
   "metadata": {},
   "outputs": [
    {
     "name": "stdout",
     "output_type": "stream",
     "text": [
      "ns = 6, gap_ratio = 0.48863644874963236\n",
      "ns = 7, gap_ratio = 0.5215722215035214\n",
      "ns = 8, gap_ratio = 0.5063610408931543\n",
      "ns = 9, gap_ratio = 0.5169201928774829\n",
      "ns = 10, gap_ratio = 0.5106269653733807\n"
     ]
    },
    {
     "data": {
      "image/png": "[encoded data removed]",
      "text/plain": [
       "<Figure size 750x750 with 4 Axes>"
      ]
     },
     "metadata": {},
     "output_type": "display_data"
    }
   ],
   "source": [
    "from general_python.physics.eigenlevels import gap_ratio\n",
    "fig, ax     = Plotter.get_subplots(nrows=2, ncols=2, sizex=5, sizey=5, dpi=150)\n",
    "\n",
    "# plot\n",
    "for ii, ns in enumerate(energies.keys()):\n",
    "    realizations = nrealizations[ii] if ii < len(nrealizations) else nrealizations[-1]\n",
    "    nh          = 2**ns\n",
    "    x           = energies[ns][0] / ns\n",
    "    # x           = np.arange(nh)\n",
    "    colors1, _, _= Plotter.get_colormap(nss, cmap='viridis')\n",
    "    colors2, _, _= Plotter.get_colormap(nss, cmap='plasma_r')\n",
    "    color1      = colors1(ns)\n",
    "    color2      = colors2(ns)\n",
    "    Plotter.scatter(ax[0], x, diagonals_x[ns][0], label=f'$L={ns}$', color=color1)\n",
    "    Plotter.scatter(ax[1], x, diagonals_z[ns][0], label=f'$L={ns}$', color=color2)\n",
    "    Plotter.set_ax_params(ax[0], xlabel='$i/L$', ylabel=r'$O_{ii}$', title=r'$\\sigma_x$')\n",
    "    Plotter.set_ax_params(ax[1], xlabel='$i/L$', ylabel=r'$O_{ii}$', title=r'$\\sigma_z$')\n",
    "\n",
    "    Plotter.scatter(ax[2], histograms_x[ns].bin_edges, histograms_x[ns].averages_av()*nh, label=f'$L={ns}$', color=color1)\n",
    "    Plotter.scatter(ax[3], histograms_z[ns].bin_edges, histograms_z[ns].averages_av()*nh, label=f'$L={ns}$', color=color2)\n",
    "    Plotter.set_ax_params(ax[2], xlabel=r'$\\omega$', lim = {'y': (1e-4, 1e2)},\n",
    "        ylabel=r'$\\mathcal{D}|O_{ij}|^2$', scale={'x': 'log', 'y': 'log'})\n",
    "    Plotter.set_ax_params(ax[3], xlabel=r'$\\omega$', lim = {'y': (1e-4, 1e2)},\n",
    "        ylabel=r'$\\mathcal{D}|O_{ij}|^2$', scale={'x': 'log', 'y': 'log'})\n",
    "    gap_ratios = [gap_ratio(energies[ns][i])['mean'] for i in range(realizations)]\n",
    "    print(f\"ns = {ns}, gap_ratio = {np.mean(gap_ratios)}\")\n",
    "    Plotter.set_legend(ax[2])\n",
    "fig.tight_layout()"
   ]
  },
  {
   "cell_type": "code",
   "execution_count": 17,
   "metadata": {},
   "outputs": [
    {
     "name": "stdout",
     "output_type": "stream",
     "text": [
      "0.496256785068507\n"
     ]
    }
   ],
   "source": [
    "\n",
    "d_en = np.diff(energies[8])\n",
    "d_en = d_en / np.mean(d_en)\n",
    "gap_ratios = np.minimum(d_en[:-1], d_en[1:]) / np.maximum(d_en[:-1], d_en[1:])\n",
    "print(np.mean(gap_ratios))\n"
   ]
  },
  {
   "cell_type": "markdown",
   "metadata": {},
   "source": [
    "# Linear algebra"
   ]
  },
  {
   "cell_type": "code",
   "execution_count": 1,
   "metadata": {},
   "outputs": [
    {
     "name": "stdout",
     "output_type": "stream",
     "text": [
      "=== Backend Initialization ===\n",
      "\tNumPy Version: 1.26.4\n",
      "\tSciPy Version: 1.13.1\n",
      "\tJAX Version: Not Available\n",
      "\t\tActive Backend: jax\n",
      "\t\tJAX Available: True\n",
      "\t\tDefault Random Key: [    0 12345]\n",
      "\tActive Backend Modules:\n",
      "\t\t\tMain Module: <module 'jax.numpy' from '/Users/makskliczkowski/miniconda3/lib/python3.12/site-packages/jax/numpy/__init__.py'>\n",
      "\t\t\tRandom Module: <module 'jax.random' from '/Users/makskliczkowski/miniconda3/lib/python3.12/site-packages/jax/random.py'>\n",
      "\t\t\tSciPy Module: <module 'jax.scipy' from '/Users/makskliczkowski/miniconda3/lib/python3.12/site-packages/jax/scipy/__init__.py'>\n",
      "=== End of Backend Info ===\n"
     ]
    },
    {
     "name": "stderr",
     "output_type": "stream",
     "text": [
      "/Users/makskliczkowski/Codes/QuantumEigenSolver/Python/QES/general_python/algebra/solvers/cg.py:1: SyntaxWarning: invalid escape sequence '\\d'\n",
      "  '''\n"
     ]
    },
    {
     "ename": "SyntaxError",
     "evalue": "invalid syntax (cg.py, line 270)",
     "output_type": "error",
     "traceback": [
      "Traceback \u001b[0;36m(most recent call last)\u001b[0m:\n",
      "\u001b[0m  File \u001b[1;32m~/miniconda3/lib/python3.12/site-packages/IPython/core/interactiveshell.py:3577\u001b[0m in \u001b[1;35mrun_code\u001b[0m\n    exec(code_obj, self.user_global_ns, self.user_ns)\u001b[0m\n",
      "\u001b[0m  Cell \u001b[1;32mIn[1], line 1\u001b[0m\n    import general_python.algebra as algebra\u001b[0m\n",
      "\u001b[0m  File \u001b[1;32m~/Codes/QuantumEigenSolver/Python/QES/general_python/__init__.py:46\u001b[0m\n    from . import algebra\u001b[0m\n",
      "\u001b[0m  File \u001b[1;32m~/Codes/QuantumEigenSolver/Python/QES/general_python/algebra/__init__.py:30\u001b[0m\n    from general_python.algebra.solvers import SolverType, generate_test_mat_vec, choose_solver\u001b[0m\n",
      "\u001b[0;36m  File \u001b[0;32m~/Codes/QuantumEigenSolver/Python/QES/general_python/algebra/solvers/__init__.py:17\u001b[0;36m\n\u001b[0;31m    from general_python.algebra.solvers.cg import CgSolver, CgSolverScipy\u001b[0;36m\n",
      "\u001b[0;36m  File \u001b[0;32m~/Codes/QuantumEigenSolver/Python/QES/general_python/algebra/solvers/cg.py:270\u001b[0;36m\u001b[0m\n\u001b[0;31m    return x, converged, iterations, np.sqrt(final_res_norm_sq)`\u001b[0m\n\u001b[0m                                                               ^\u001b[0m\n\u001b[0;31mSyntaxError\u001b[0m\u001b[0;31m:\u001b[0m invalid syntax\n"
     ]
    }
   ],
   "source": [
    "import general_python.algebra as algebra\n",
    "a = algebra.AlgebraTests(backend='jax')\n",
    "b = algebra.AlgebraTests(backend='numpy')"
   ]
  },
  {
   "cell_type": "markdown",
   "metadata": {},
   "source": [
    "## Standard tests"
   ]
  },
  {
   "cell_type": "markdown",
   "metadata": {},
   "source": [
    "### Change the basis with a unitary matrix"
   ]
  },
  {
   "cell_type": "code",
   "execution_count": null,
   "metadata": {},
   "outputs": [],
   "source": [
    "a.change_basis(verbose=True)\n",
    "b.change_basis(verbose=True)"
   ]
  },
  {
   "cell_type": "markdown",
   "metadata": {},
   "source": [
    "### Change the basis of a matrix with a unitary matrix"
   ]
  },
  {
   "cell_type": "code",
   "execution_count": null,
   "metadata": {},
   "outputs": [],
   "source": [
    "a.change_basis_matrix(verbose=True)"
   ]
  },
  {
   "cell_type": "markdown",
   "metadata": {},
   "source": [
    "### Outer product"
   ]
  },
  {
   "cell_type": "code",
   "execution_count": null,
   "metadata": {},
   "outputs": [],
   "source": [
    "a.outer(verbose=True)\n",
    "b.outer(verbose=True)"
   ]
  },
  {
   "cell_type": "markdown",
   "metadata": {},
   "source": [
    "### Kronecker product"
   ]
  },
  {
   "cell_type": "code",
   "execution_count": null,
   "metadata": {},
   "outputs": [],
   "source": [
    "a.kron(verbose=True)"
   ]
  },
  {
   "cell_type": "markdown",
   "metadata": {},
   "source": [
    "## Linear solvers"
   ]
  },
  {
   "cell_type": "markdown",
   "metadata": {},
   "source": [
    "### Test through examples"
   ]
  },
  {
   "cell_type": "code",
   "execution_count": 10,
   "metadata": {},
   "outputs": [],
   "source": [
    "a = algebra.SolversTests(backend='numpy')\n",
    "b = algebra.SolversTests(backend='jax')"
   ]
  },
  {
   "cell_type": "code",
   "execution_count": 11,
   "metadata": {},
   "outputs": [
    {
     "name": "stdout",
     "output_type": "stream",
     "text": [
      "[TEST 0] Starting solver test using cg\n"
     ]
    },
    {
     "ename": "ValueError",
     "evalue": "Unknown solver type: must be one of DIRECT, BACKEND_SOLVER, SCIPY_DIRECT, SCIPY_CJ, CJ, SCIPY_MINRES, MINRES, MINRES_QLP",
     "output_type": "error",
     "traceback": [
      "\u001b[0;31m---------------------------------------------------------------------------\u001b[0m",
      "\u001b[0;31mKeyError\u001b[0m                                  Traceback (most recent call last)",
      "File \u001b[0;32m~/Codes/QuantumEigenSolver/Python/QES/general_python/algebra/solvers/__init__.py:38\u001b[0m, in \u001b[0;36mchoose_solver\u001b[0;34m(solver_type, backend, size, eps, maxiter, reg)\u001b[0m\n\u001b[1;32m     37\u001b[0m \u001b[38;5;28;01mtry\u001b[39;00m:\n\u001b[0;32m---> 38\u001b[0m     solver_type \u001b[38;5;241m=\u001b[39m SolverType[solver_type\u001b[38;5;241m.\u001b[39mupper()]\n\u001b[1;32m     39\u001b[0m \u001b[38;5;28;01mexcept\u001b[39;00m \u001b[38;5;167;01mKeyError\u001b[39;00m \u001b[38;5;28;01mas\u001b[39;00m exc:\n",
      "File \u001b[0;32m~/miniconda3/lib/python3.12/enum.py:801\u001b[0m, in \u001b[0;36mEnumType.__getitem__\u001b[0;34m(cls, name)\u001b[0m\n\u001b[1;32m    798\u001b[0m \u001b[38;5;250m\u001b[39m\u001b[38;5;124;03m\"\"\"\u001b[39;00m\n\u001b[1;32m    799\u001b[0m \u001b[38;5;124;03mReturn the member matching `name`.\u001b[39;00m\n\u001b[1;32m    800\u001b[0m \u001b[38;5;124;03m\"\"\"\u001b[39;00m\n\u001b[0;32m--> 801\u001b[0m \u001b[38;5;28;01mreturn\u001b[39;00m \u001b[38;5;28mcls\u001b[39m\u001b[38;5;241m.\u001b[39m_member_map_[name]\n",
      "\u001b[0;31mKeyError\u001b[0m: 'CG'",
      "\nThe above exception was the direct cause of the following exception:\n",
      "\u001b[0;31mValueError\u001b[0m                                Traceback (most recent call last)",
      "Cell \u001b[0;32mIn[11], line 1\u001b[0m\n\u001b[0;32m----> 1\u001b[0m a\u001b[38;5;241m.\u001b[39msolver_test()\n",
      "File \u001b[0;32m~/Codes/QuantumEigenSolver/Python/QES/general_python/algebra/__init__.py:364\u001b[0m, in \u001b[0;36mSolversTests.solver_test\u001b[0;34m(self, make_random, symmetric, solver_type, eps, max_iter, reg, precond_type, dtype)\u001b[0m\n\u001b[1;32m    361\u001b[0m a, b    \u001b[38;5;241m=\u001b[39m generate_test_mat_vec(make_random, symmetric, dtype\u001b[38;5;241m=\u001b[39mdtype, backend\u001b[38;5;241m=\u001b[39m\u001b[38;5;28mself\u001b[39m\u001b[38;5;241m.\u001b[39mbackend)\n\u001b[1;32m    363\u001b[0m \u001b[38;5;66;03m# Instantiate the chosen solver.\u001b[39;00m\n\u001b[0;32m--> 364\u001b[0m solver  \u001b[38;5;241m=\u001b[39m choose_solver(solver_type, backend\u001b[38;5;241m=\u001b[39m\u001b[38;5;28mself\u001b[39m\u001b[38;5;241m.\u001b[39mbackend, size\u001b[38;5;241m=\u001b[39ma\u001b[38;5;241m.\u001b[39mshape[\u001b[38;5;241m1\u001b[39m], eps\u001b[38;5;241m=\u001b[39meps, maxiter\u001b[38;5;241m=\u001b[39mmax_iter, reg\u001b[38;5;241m=\u001b[39mreg)\n\u001b[1;32m    366\u001b[0m solver\u001b[38;5;241m.\u001b[39minit_from_matrix(a, b, \u001b[38;5;28;01mNone\u001b[39;00m, reg)\n\u001b[1;32m    368\u001b[0m \u001b[38;5;66;03m# Create a preconditioner if requested.\u001b[39;00m\n",
      "File \u001b[0;32m~/Codes/QuantumEigenSolver/Python/QES/general_python/algebra/solvers/__init__.py:40\u001b[0m, in \u001b[0;36mchoose_solver\u001b[0;34m(solver_type, backend, size, eps, maxiter, reg)\u001b[0m\n\u001b[1;32m     38\u001b[0m         solver_type \u001b[38;5;241m=\u001b[39m SolverType[solver_type\u001b[38;5;241m.\u001b[39mupper()]\n\u001b[1;32m     39\u001b[0m     \u001b[38;5;28;01mexcept\u001b[39;00m \u001b[38;5;167;01mKeyError\u001b[39;00m \u001b[38;5;28;01mas\u001b[39;00m exc:\n\u001b[0;32m---> 40\u001b[0m         \u001b[38;5;28;01mraise\u001b[39;00m \u001b[38;5;167;01mValueError\u001b[39;00m(_SOL_TYPE_ERROR) \u001b[38;5;28;01mfrom\u001b[39;00m \u001b[38;5;21;01mexc\u001b[39;00m\n\u001b[1;32m     42\u001b[0m \u001b[38;5;28;01mif\u001b[39;00m solver_type \u001b[38;5;241m==\u001b[39m SolverType\u001b[38;5;241m.\u001b[39mDIRECT:\n\u001b[1;32m     43\u001b[0m     \u001b[38;5;28;01mreturn\u001b[39;00m DirectSolver(backend\u001b[38;5;241m=\u001b[39mbackend, size\u001b[38;5;241m=\u001b[39msize, eps\u001b[38;5;241m=\u001b[39meps, maxiter\u001b[38;5;241m=\u001b[39mmaxiter, reg\u001b[38;5;241m=\u001b[39mreg)\n",
      "\u001b[0;31mValueError\u001b[0m: Unknown solver type: must be one of DIRECT, BACKEND_SOLVER, SCIPY_DIRECT, SCIPY_CJ, CJ, SCIPY_MINRES, MINRES, MINRES_QLP"
     ]
    }
   ],
   "source": [
    "a.solver_test()"
   ]
  },
  {
   "cell_type": "code",
   "execution_count": null,
   "metadata": {},
   "outputs": [],
   "source": []
  },
  {
   "cell_type": "markdown",
   "metadata": {},
   "source": [
    "# Binary "
   ]
  },
  {
   "cell_type": "markdown",
   "metadata": {},
   "source": [
    "### Standard tests"
   ]
  },
  {
   "cell_type": "code",
   "execution_count": 1,
   "metadata": {},
   "outputs": [
    {
     "name": "stdout",
     "output_type": "stream",
     "text": [
      "=== Backend Initialization ===\n",
      "\tNumPy Version: 1.26.4\n",
      "\tSciPy Version: 1.13.1\n",
      "\tJAX Version: Not Available\n",
      "\t\tActive Backend: jax\n",
      "\t\tJAX Available: True\n",
      "\t\tDefault Random Key: [    0 12345]\n",
      "\tActive Backend Modules:\n",
      "\t\t\tMain Module: <module 'jax.numpy' from '/Users/makskliczkowski/miniconda3/lib/python3.12/site-packages/jax/numpy/__init__.py'>\n",
      "\t\t\tRandom Module: <module 'jax.random' from '/Users/makskliczkowski/miniconda3/lib/python3.12/site-packages/jax/random.py'>\n",
      "\t\t\tSciPy Module: <module 'jax.scipy' from '/Users/makskliczkowski/miniconda3/lib/python3.12/site-packages/jax/scipy/__init__.py'>\n",
      "=== End of Backend Info ===\n"
     ]
    },
    {
     "name": "stderr",
     "output_type": "stream",
     "text": [
      "23_03_2025_19-24_27 [INFO] Log file created: ./log/global.log\n",
      "23_03_2025_19-24_27 [INFO] Log level set to: info\n",
      "23_03_2025_19-24_27 [INFO] ########### Global logger initialized. ###########\n"
     ]
    }
   ],
   "source": [
    "from general_python.common import binary\n",
    "NUM         = 42\n",
    "tests       = binary.BinaryFunctionTests()"
   ]
  },
  {
   "cell_type": "code",
   "execution_count": 2,
   "metadata": {},
   "outputs": [
    {
     "data": {
      "text/plain": [
       "('11111111', 1, 128, '10000000', 128)"
      ]
     },
     "execution_count": 2,
     "metadata": {},
     "output_type": "execute_result"
    }
   ],
   "source": [
    "import numpy as np\n",
    "integer     = np.int64(255)\n",
    "integer     = 255\n",
    "ns          = 8\n",
    "i           = 0\n",
    "pos         = ns - 1 - i\n",
    "checked     = binary.check_int(integer, pos)\n",
    "\n",
    "binary.int2binstr(integer, ns), checked, (1 << pos), binary.int2binstr((1 << pos), ns), integer & (1 << pos)"
   ]
  },
  {
   "cell_type": "code",
   "execution_count": null,
   "metadata": {},
   "outputs": [],
   "source": [
    "tests.run_tests(NUM, spin_value = binary._BACKENDREPR)"
   ]
  },
  {
   "cell_type": "code",
   "execution_count": null,
   "metadata": {},
   "outputs": [],
   "source": [
    "tests.run_tests(NUM, spin_value = binary._BACKENDREPR, backend = 'np')"
   ]
  },
  {
   "cell_type": "markdown",
   "metadata": {},
   "source": [
    "### Test JAX"
   ]
  },
  {
   "cell_type": "code",
   "execution_count": null,
   "metadata": {},
   "outputs": [],
   "source": [
    "from algebra import get_backend\n",
    "import time \n",
    "from jax import numpy as jnp, random as jnpr\n",
    "import numpy as np, numpy.random as npr\n",
    "from jax import jit\n",
    "\n",
    "seed = 1701\n",
    "\n",
    "# Test the speed of the matrix multiplication\n",
    "key_np = npr.seed(seed)\n",
    "key_jnp = jnpr.key(seed)\n",
    "size = 5000\n",
    "\n",
    "def matrix_mult_test_jax(size=size):\n",
    "    random_mat  = jnpr.normal(key_jnp, (size, size))\n",
    "    vec         = jnpr.normal(key_jnp, (size,))\n",
    "    result      = random_mat @ vec\n",
    "    print(\"Result of matrix-vector multiplication:\\n\", result)\n",
    "    \n",
    "def matrix_mult_test_numpy(size = size):\n",
    "    random_mat  = npr.normal(size=(size, size))\n",
    "    vec         = npr.normal(size=(size,))\n",
    "    result      = random_mat @ vec\n",
    "    print(\"Result of matrix-vector multiplication:\\n\", result)\n",
    "    \n",
    "@jit\n",
    "def matrix_mult_test_jax_jit():\n",
    "    random_mat  = jnpr.normal(key_jnp, (size, size))\n",
    "    vec         = jnpr.normal(key_jnp, (size,))\n",
    "    result      = random_mat @ vec\n",
    "    print(\"Result of matrix-vector multiplication:\\n\", result)\n"
   ]
  },
  {
   "cell_type": "markdown",
   "metadata": {},
   "source": [
    "#### Numpy"
   ]
  },
  {
   "cell_type": "code",
   "execution_count": null,
   "metadata": {},
   "outputs": [],
   "source": [
    "start_time = time.time()\n",
    "matrix_mult_test_numpy()\n",
    "end_time = time.time()\n",
    "print(f\"Time taken: {end_time - start_time:.4f} seconds (numpy)\")"
   ]
  },
  {
   "cell_type": "markdown",
   "metadata": {},
   "source": [
    "#### Jax"
   ]
  },
  {
   "cell_type": "code",
   "execution_count": null,
   "metadata": {},
   "outputs": [],
   "source": [
    "start_time = time.time()\n",
    "matrix_mult_test_jax()\n",
    "end_time = time.time()\n",
    "print(f\"Time taken: {end_time - start_time:.4f} seconds (jax)\")"
   ]
  },
  {
   "cell_type": "markdown",
   "metadata": {},
   "source": [
    "#### Jax jit"
   ]
  },
  {
   "cell_type": "code",
   "execution_count": null,
   "metadata": {},
   "outputs": [],
   "source": [
    "start_time = time.time()\n",
    "matrix_mult_test_jax_jit()\n",
    "end_time = time.time()  \n",
    "print(f\"Time taken: {end_time - start_time:.4f} seconds (jax, jitted)\")"
   ]
  },
  {
   "cell_type": "markdown",
   "metadata": {},
   "source": [
    "# Lattice\n"
   ]
  },
  {
   "cell_type": "code",
   "execution_count": null,
   "metadata": {},
   "outputs": [],
   "source": [
    "from lattices import Lattice, run_lattice_tests\n",
    "\n",
    "# Run tests for different configurations\n",
    "# run_lattice_tests(dim=1, lx=10, ly=1, lz=1, bc=lattices.LatticeBC.PBC, typek=\"square\")\n",
    "# run_lattice_tests(dim=2, lx=5, ly=3, lz=1, bc=lattices.LatticeBC.PBC, typek=\"square\")\n",
    "# run_lattice_tests(dim=2, lx=5, ly=5, lz=1, bc=lattices.LatticeBC.OBC, typek=\"square\")\n",
    "# run_lattice_tests(dim=3, lx=3, ly=3, lz=3, bc=lattices.LatticeBC.PBC, typek=\"square\")\n",
    "run_lattice_tests(dim=2, lx=3, ly=2, lz=1, bc=lattices.LatticeBC.PBC, typek=\"honeycomb\")"
   ]
  },
  {
   "cell_type": "code",
   "execution_count": null,
   "metadata": {},
   "outputs": [],
   "source": [
    "import numpy as np \n",
    "import matplotlib.pyplot as plt\n",
    "\n",
    "plt.figure(figsize=(8,8))\n",
    "\n",
    "a = 1\n",
    "b = 1\n",
    "c = 1\n",
    "\n",
    "Lx = 4\n",
    "Ly = 2\n",
    "Ns = 2 * Lx * Ly\n",
    "\n",
    "_a1 = np.array([np.sqrt(3) * a / 2.0, 3 * a / 2.0, 0])\n",
    "_a2 = np.array([np.sqrt(3) * a / 2.0, -3 * a / 2.0, 0])\n",
    "_a3 = np.array([0, 0, c])\n",
    "\n",
    "\n",
    "\n",
    "coords      = []\n",
    "move_vector = _a1 - np.array([0, a, 0])\n",
    "for i in range(Ns):\n",
    "    # get the unit cell on a square lattic\n",
    "    x = (i // 2) % Lx\n",
    "    y = ((i//2) // Lx) % Ly\n",
    "    \n",
    "    # from coorditates to position on the lattice\n",
    "    xy = np.array([0., 0, 0]) if i % 2 == 0 else move_vector\n",
    "    xy += x * (_a1 + _a2) + y * _a1\n",
    "    xp, yp = xy[0], xy[1]\n",
    "    print(xp, yp)\n",
    "    plt.scatter(xp, yp, color='red' if i % 2 == 0 else 'blue', marker='o', s=100, facecolor='none')\n",
    "    plt.text(xp + 0.1, yp + 0.1, i)\n",
    "    \n",
    "    print(\"Ns=\", i, \"-- (x,y)=\", x, y)\n",
    "\n",
    "\n",
    "plt.arrow(0, 0, _a1[0], _a1[1], head_width=0.1, head_length=0.1, fc='r', ec='r')\n",
    "plt.arrow(0, 0, _a2[0], _a2[1], head_width=0.1, head_length=0.1, fc='b', ec='b')\n",
    "# plt.arrow(0, 0, _a1[0] - _a2[0], _a1[1] - _a2[1], head_width=0.1, head_length=0.1, fc='g', ec='g')\n",
    "# plt.arrow(0, 0, _a1[0] + _a2[0], _a1[1] + _a2[1], head_width=0.1, head_length=0.1, fc='y', ec='y')\n",
    "# plt.arrow(0, 0, -_a1[0] + _a2[0], -_a1[1] + _a2[1], head_width=0.1, head_length=0.1, fc='m', ec='m')\n",
    "# plt.arrow(0, 0, -_a1[0] - _a2[0], -_a1[1] - _a2[1], head_width=0.1, head_length=0.1, fc='c', ec='c')\n"
   ]
  },
  {
   "cell_type": "code",
   "execution_count": null,
   "metadata": {},
   "outputs": [],
   "source": []
  },
  {
   "cell_type": "markdown",
   "metadata": {},
   "source": [
    "# NQS"
   ]
  },
  {
   "cell_type": "markdown",
   "metadata": {},
   "source": [
    "## Sampler\n",
    "\n",
    "<!-- #### Code Overview\n",
    "\n",
    "This code sets up a computational experiment by combining a simple neural network with Monte Carlo sampling. Below is a breakdown of the major steps and components.\n",
    "\n",
    "---\n",
    "\n",
    "##### 1. Module Imports\n",
    "\n",
    "- **Monte Carlo Sampling:**  \n",
    "  The module `Solver.MonteCarlo.sampler` is imported as `Sampling` to provide Monte Carlo sampling functionality.\n",
    "\n",
    "- **Backend Utilities:**  \n",
    "  `get_backend` from `general_python.algebra.utils` is used to select a computational backend (e.g., NumPy) and obtain associated random number generators.\n",
    "\n",
    "- **Neural Network Implementation:**  \n",
    "  `SimpleNet` from `general_python.ml.net_impl.net_simple` is imported as a basic neural network class used for experimentation.\n",
    "\n",
    "- **NumPy:**  \n",
    "  Imported as `np` to support numerical operations.\n",
    "\n",
    "---\n",
    "\n",
    "##### 2. Backend Setup\n",
    "\n",
    "- **Selection & Seed:**\n",
    "  - **Backend:** Set to `\"np\"` (NumPy).\n",
    "  - **Seed:** A seed of `1701` is specified to ensure reproducibility.\n",
    "\n",
    "- **Obtaining Backend Modules:**  \n",
    "  The function `get_backend` is called with parameters to ensure randomness (and optionally SciPy support). Its output is unpacked into:\n",
    "  - `backend_np`: The NumPy backend.\n",
    "  - `(rng, rng_k)`: Random number generators.\n",
    "  - `backend_sp`: The SciPy backend (if available).\n",
    "\n",
    "---\n",
    "\n",
    "##### 3. Neural Network Configuration\n",
    "\n",
    "- **State Shape:**  \n",
    "  The input to the network is defined as a 10-dimensional vector (`st_shape = (10,)`).\n",
    "\n",
    "- **Activation Functions:**  \n",
    "  Two activation functions are specified: `'relu'` and `'sigmoid'`.\n",
    "\n",
    "- **Network Initialization:**  \n",
    "  A `SimpleNet` instance is created with:\n",
    "  - **Input Shape:** `(10,)`\n",
    "  - **Output Shape:** `(1,)`\n",
    "  - **Layers:** A tuple `(5,)` indicating the network has 5 layers.\n",
    "  - **Backend:** Specified as `'np'`.\n",
    "  - **Data Type:** `'complex128'`, enabling complex-valued computations.\n",
    "\n",
    "---\n",
    "\n",
    "##### 4. Monte Carlo Sampler Configuration\n",
    "\n",
    "- **Sampler Initialization:**  \n",
    "  An instance of `Sampling.MCSampler` is created to perform Monte Carlo sampling on the neural network.\n",
    "\n",
    "- **Key Parameters:**\n",
    "  - **Network (`net`):** The previously defined `SimpleNet` instance.\n",
    "  - **Shape:** The state shape `(10,)`.\n",
    "  - **Random Number Generators:** `rng` and `rng_k` ensure randomness in the sampling process.\n",
    "  - **Chains & Samples:** Configured to run 10 chains with 5 samples each.\n",
    "  - **Sweep Steps & Thermalization:** Set to 10 steps each, controlling the progression and stabilization of the Monte Carlo simulation.\n",
    "  - **Backend:** Uses the specified NumPy backend.\n",
    "\n",
    "---\n",
    "\n",
    "##### 5. Final Outcome\n",
    "\n",
    "The final product is the `sampler` object, which encapsulates both the neural network and the Monte Carlo sampling parameters. This setup is ready to run experiments, allowing exploration of the network's state space through stochastic sampling.\n",
    "\n",
    "---\n",
    "\n",
    "**Summary:**  \n",
    "This code initializes a complex-valued neural network and configures a Monte Carlo sampler to perform experiments. It ensures reproducibility with a fixed seed and leverages a specified backend (NumPy) along with associated random number generators, thereby preparing the system for robust computational experiments. -->\n"
   ]
  },
  {
   "cell_type": "code",
   "execution_count": 1,
   "metadata": {},
   "outputs": [
    {
     "name": "stdout",
     "output_type": "stream",
     "text": [
      "=== Backend Initialization ===\n",
      "\tNumPy Version: 1.26.4\n",
      "\tSciPy Version: 1.13.1\n",
      "\tJAX Version: Not Available\n",
      "\t\tActive Backend: jax\n",
      "\t\tJAX Available: True\n",
      "\t\tDefault Random Key: [    0 12345]\n",
      "\tActive Backend Modules:\n",
      "\t\t\tMain Module: <module 'jax.numpy' from '/Users/makskliczkowski/miniconda3/lib/python3.12/site-packages/jax/numpy/__init__.py'>\n",
      "\t\t\tRandom Module: <module 'jax.random' from '/Users/makskliczkowski/miniconda3/lib/python3.12/site-packages/jax/random.py'>\n",
      "\t\t\tSciPy Module: <module 'jax.scipy' from '/Users/makskliczkowski/miniconda3/lib/python3.12/site-packages/jax/scipy/__init__.py'>\n",
      "=== End of Backend Info ===\n"
     ]
    },
    {
     "data": {
      "text/plain": [
       "MCSampler(shape=(10,), mu=2.0, beta=1.0, therm_steps=10, sweep_steps=10, numsamples=5, numchains=10, backend=jax)"
      ]
     },
     "execution_count": 1,
     "metadata": {},
     "output_type": "execute_result"
    }
   ],
   "source": [
    "import Solver.MonteCarlo.sampler as Sampling\n",
    "from general_python.algebra.utils import get_backend\n",
    "from general_python.ml.net_impl.net_simple import SimpleNet\n",
    "import numpy as np\n",
    "\n",
    "# get random backend\n",
    "backend                                 = 'jax'\n",
    "seed                                    = 1701\n",
    "be_modules                              = get_backend(backend, random=True, seed=seed, scipy=True)\n",
    "backend_np, (rng, rng_k), backend_sp    = be_modules if isinstance(be_modules, tuple) else (be_modules, (None, None), None)\n",
    "\n",
    "ns                                      = 10\n",
    "st_shape                                = (ns, )\n",
    "activations                             = ('relu', 'sigmoid')\n",
    "net                                     = SimpleNet(act_fun =   activations, \n",
    "                                            input_shape     =   st_shape, \n",
    "                                            output_shape    =   (1, ),\n",
    "                                            layers          =   (5, ),\n",
    "                                            backend=backend, dtype='complex128',)\n",
    "            # [random.random() + 1j * random.random() for _ in range(x.shape[0])])\n",
    "# a simple callable network function\n",
    "\n",
    "sampler = Sampling.MCSampler(\n",
    "    net         = net,\n",
    "    shape       = st_shape,\n",
    "    rng         = rng,\n",
    "    rng_k       = rng_k,\n",
    "    numchains   = 10,\n",
    "    numsamples  = 5,\n",
    "    sweep_steps = 10,\n",
    "    backend     = backend,\n",
    "    therm_steps = 10,\n",
    ")\n",
    "\n",
    "sampler"
   ]
  },
  {
   "cell_type": "code",
   "execution_count": 4,
   "metadata": {},
   "outputs": [],
   "source": [
    "# check how the sampler performs\n",
    "(states, logprobas), (configs, configs_ansatze), probabilities = sampler.sample()"
   ]
  },
  {
   "cell_type": "code",
   "execution_count": 5,
   "metadata": {},
   "outputs": [
    {
     "data": {
      "text/plain": [
       "((10, 10), (10,))"
      ]
     },
     "execution_count": 5,
     "metadata": {},
     "output_type": "execute_result"
    }
   ],
   "source": [
    "# final states after sampling, ansatze after sampling\n",
    "states.shape, logprobas.shape"
   ]
  },
  {
   "cell_type": "code",
   "execution_count": 6,
   "metadata": {},
   "outputs": [
    {
     "data": {
      "text/plain": [
       "((50, 10), (50, 1), (50, 1))"
      ]
     },
     "execution_count": 6,
     "metadata": {},
     "output_type": "execute_result"
    }
   ],
   "source": [
    "configs.shape, configs_ansatze.shape, probabilities.shape"
   ]
  },
  {
   "cell_type": "markdown",
   "metadata": {},
   "source": [
    "### Flow"
   ]
  },
  {
   "cell_type": "markdown",
   "metadata": {},
   "source": [
    "#### Standard"
   ]
  },
  {
   "cell_type": "code",
   "execution_count": 7,
   "metadata": {},
   "outputs": [
    {
     "name": "stdout",
     "output_type": "stream",
     "text": [
      "Detailed Flow of the Configurations:\n",
      "\n",
      "  Total number of configurations: 50\n",
      "  Total number of states: 10\n",
      "  Total number of probabilities: 50\n",
      "\n",
      "--- Configuration flow 0 ---\n",
      "     Configuration \\(\\mathbf{S}_{0}\\):\n"
     ]
    },
    {
     "data": {
      "text/latex": [
       "$\\displaystyle \\left[\\begin{matrix}0.5\\\\-0.5\\\\0.5\\\\-0.5\\\\-0.5\\\\-0.5\\\\0.5\\\\-0.5\\\\-0.5\\\\0.5\\end{matrix}\\right]$"
      ],
      "text/plain": [
       "Matrix([\n",
       "[ 0.5],\n",
       "[-0.5],\n",
       "[ 0.5],\n",
       "[-0.5],\n",
       "[-0.5],\n",
       "[-0.5],\n",
       "[ 0.5],\n",
       "[-0.5],\n",
       "[-0.5],\n",
       "[ 0.5]])"
      ]
     },
     "metadata": {},
     "output_type": "display_data"
    },
    {
     "name": "stdout",
     "output_type": "stream",
     "text": [
      "    Ansatz \\(f(\\mathbf{S}_{0})\\):\n"
     ]
    },
    {
     "data": {
      "text/latex": [
       "$\\displaystyle \\left[\\begin{matrix}1.22454006754276 - 1.09960434372059 i\\end{matrix}\\right]$"
      ],
      "text/plain": [
       "Matrix([[1.22454006754276 - 1.09960434372059*I]])"
      ]
     },
     "metadata": {},
     "output_type": "display_data"
    },
    {
     "name": "stdout",
     "output_type": "stream",
     "text": [
      "    Probability \\(P(\\mathbf{S}_{0})\\):\n"
     ]
    },
    {
     "data": {
      "text/latex": [
       "$\\displaystyle \\left[\\begin{matrix}1.0\\end{matrix}\\right]$"
      ],
      "text/plain": [
       "Matrix([[1.0]])"
      ]
     },
     "metadata": {},
     "output_type": "display_data"
    },
    {
     "name": "stdout",
     "output_type": "stream",
     "text": [
      "\n",
      "--------------------------------------------------\n",
      "\n",
      "--- Configuration flow 1 ---\n",
      "     Configuration \\(\\mathbf{S}_{1}\\):\n"
     ]
    },
    {
     "data": {
      "text/latex": [
       "$\\displaystyle \\left[\\begin{matrix}-0.5\\\\-0.5\\\\0.5\\\\0.5\\\\0.5\\\\0.5\\\\0.5\\\\0.5\\\\0.5\\\\-0.5\\end{matrix}\\right]$"
      ],
      "text/plain": [
       "Matrix([\n",
       "[-0.5],\n",
       "[-0.5],\n",
       "[ 0.5],\n",
       "[ 0.5],\n",
       "[ 0.5],\n",
       "[ 0.5],\n",
       "[ 0.5],\n",
       "[ 0.5],\n",
       "[ 0.5],\n",
       "[-0.5]])"
      ]
     },
     "metadata": {},
     "output_type": "display_data"
    },
    {
     "name": "stdout",
     "output_type": "stream",
     "text": [
      "    Ansatz \\(f(\\mathbf{S}_{1})\\):\n"
     ]
    },
    {
     "data": {
      "text/latex": [
       "$\\displaystyle \\left[\\begin{matrix}0.694983664887653 + 0.177165839037739 i\\end{matrix}\\right]$"
      ],
      "text/plain": [
       "Matrix([[0.694983664887653 + 0.177165839037739*I]])"
      ]
     },
     "metadata": {},
     "output_type": "display_data"
    },
    {
     "name": "stdout",
     "output_type": "stream",
     "text": [
      "    Probability \\(P(\\mathbf{S}_{1})\\):\n"
     ]
    },
    {
     "data": {
      "text/latex": [
       "$\\displaystyle \\left[\\begin{matrix}1.0\\end{matrix}\\right]$"
      ],
      "text/plain": [
       "Matrix([[1.0]])"
      ]
     },
     "metadata": {},
     "output_type": "display_data"
    },
    {
     "name": "stdout",
     "output_type": "stream",
     "text": [
      "\n",
      "--------------------------------------------------\n",
      "\n",
      "--- Configuration flow 2 ---\n",
      "     Configuration \\(\\mathbf{S}_{2}\\):\n"
     ]
    },
    {
     "data": {
      "text/latex": [
       "$\\displaystyle \\left[\\begin{matrix}0.5\\\\-0.5\\\\0.5\\\\-0.5\\\\0.5\\\\-0.5\\\\-0.5\\\\0.5\\\\0.5\\\\-0.5\\end{matrix}\\right]$"
      ],
      "text/plain": [
       "Matrix([\n",
       "[ 0.5],\n",
       "[-0.5],\n",
       "[ 0.5],\n",
       "[-0.5],\n",
       "[ 0.5],\n",
       "[-0.5],\n",
       "[-0.5],\n",
       "[ 0.5],\n",
       "[ 0.5],\n",
       "[-0.5]])"
      ]
     },
     "metadata": {},
     "output_type": "display_data"
    },
    {
     "name": "stdout",
     "output_type": "stream",
     "text": [
      "    Ansatz \\(f(\\mathbf{S}_{2})\\):\n"
     ]
    },
    {
     "data": {
      "text/latex": [
       "$\\displaystyle \\left[\\begin{matrix}0.935409115994354 + 0.0499749979989821 i\\end{matrix}\\right]$"
      ],
      "text/plain": [
       "Matrix([[0.935409115994354 + 0.0499749979989821*I]])"
      ]
     },
     "metadata": {},
     "output_type": "display_data"
    },
    {
     "name": "stdout",
     "output_type": "stream",
     "text": [
      "    Probability \\(P(\\mathbf{S}_{2})\\):\n"
     ]
    },
    {
     "data": {
      "text/latex": [
       "$\\displaystyle \\left[\\begin{matrix}1.0\\end{matrix}\\right]$"
      ],
      "text/plain": [
       "Matrix([[1.0]])"
      ]
     },
     "metadata": {},
     "output_type": "display_data"
    },
    {
     "name": "stdout",
     "output_type": "stream",
     "text": [
      "\n",
      "--------------------------------------------------\n",
      "\n"
     ]
    }
   ],
   "source": [
    "from general_python.common.plot import MatrixPrinter\n",
    "\n",
    "print(\"Detailed Flow of the Configurations:\\n\")\n",
    "print(f\"  Total number of configurations: {len(configs)}\")\n",
    "print(f\"  Total number of states: {len(states)}\")\n",
    "print(f\"  Total number of probabilities: {len(probabilities)}\\n\")\n",
    "\n",
    "for i in range(len(configs[:3])):\n",
    "    print(f\"--- Configuration flow {i} ---\")\n",
    "    print(\"     Configuration \\\\(\\\\mathbf{S}_{\" + f\"{i}\" + \"}\\\\):\")\n",
    "    MatrixPrinter.print_vector(configs[i])\n",
    "    \n",
    "    print(\"    Ansatz \\\\(f(\\\\mathbf{S}_{\" + f\"{i}\" + \"})\\\\):\")\n",
    "    MatrixPrinter.print_vector(configs_ansatze[i].T)\n",
    "    \n",
    "    print(\"    Probability \\\\(P(\\\\mathbf{S}_{\" + f\"{i}\" + \"})\\\\):\")\n",
    "    MatrixPrinter.print_vector(probabilities[i].T)\n",
    "    print(\"\\n\" + \"-\" * 50 + \"\\n\")\n"
   ]
  },
  {
   "cell_type": "markdown",
   "metadata": {},
   "source": [
    "#### Flattened"
   ]
  },
  {
   "cell_type": "code",
   "execution_count": 21,
   "metadata": {},
   "outputs": [
    {
     "name": "stdout",
     "output_type": "stream",
     "text": [
      "Shape of flattened configurations (𝒞): (50, 10)\n",
      "Shape of flattened ansatze (f(𝒞)): (50,)\n",
      "\n",
      "Detailed flow of the configurations:\n",
      "Number of configurations: 50\n",
      "\n",
      "--- Configuration 0 ---\n",
      "\tConfiguration (𝒞):\n",
      "\t [ 0.5 -0.5 -0.5 -0.5  0.5 -0.5 -0.5 -0.5 -0.5  0.5]\n",
      "'\tAnsatz from sampler (f(𝒞)):\n",
      "\t (0.9988898051454899+0.0012479485129088428j)\n"
     ]
    },
    {
     "ename": "KeyError",
     "evalue": "\"Parameters must contain 'layers' key.\"",
     "output_type": "error",
     "traceback": [
      "\u001b[0;31m---------------------------------------------------------------------------\u001b[0m",
      "\u001b[0;31mKeyError\u001b[0m                                  Traceback (most recent call last)",
      "Cell \u001b[0;32mIn[21], line 41\u001b[0m\n\u001b[1;32m     39\u001b[0m \u001b[38;5;66;03m# Compute the ansatz from the network using the configuration.\u001b[39;00m\n\u001b[1;32m     40\u001b[0m \u001b[38;5;28mprint\u001b[39m(\u001b[38;5;124m\"\u001b[39m\u001b[38;5;130;01m\\t\u001b[39;00m\u001b[38;5;124m\"\u001b[39m, configs_ansatze_flat[i])\n\u001b[0;32m---> 41\u001b[0m ansatz_net \u001b[38;5;241m=\u001b[39m net(configs_flat[i])\n\u001b[1;32m     42\u001b[0m \u001b[38;5;28mprint\u001b[39m(\u001b[38;5;124m\"\u001b[39m\u001b[38;5;130;01m\\t\u001b[39;00m\u001b[38;5;124mAnsatz from the network:\u001b[39m\u001b[38;5;124m\"\u001b[39m)\n\u001b[1;32m     43\u001b[0m \u001b[38;5;28mprint\u001b[39m(\u001b[38;5;124m\"\u001b[39m\u001b[38;5;130;01m\\t\u001b[39;00m\u001b[38;5;124m\"\u001b[39m, ansatz_net)\n",
      "File \u001b[0;32m~/Codes/QuantumEigenSolver/Python/QES/general_python/ml/net_impl/net_general.py:359\u001b[0m, in \u001b[0;36mGeneralNet.__call__\u001b[0;34m(self, params, x)\u001b[0m\n\u001b[1;32m    348\u001b[0m \u001b[38;5;28;01mdef\u001b[39;00m \u001b[38;5;21m__call__\u001b[39m(\u001b[38;5;28mself\u001b[39m, params \u001b[38;5;241m=\u001b[39m \u001b[38;5;28;01mNone\u001b[39;00m, x: \u001b[38;5;124m'\u001b[39m\u001b[38;5;124marray-like\u001b[39m\u001b[38;5;124m'\u001b[39m \u001b[38;5;241m=\u001b[39m \u001b[38;5;28;01mNone\u001b[39;00m) \u001b[38;5;241m-\u001b[39m\u001b[38;5;241m>\u001b[39m \u001b[38;5;124m'\u001b[39m\u001b[38;5;124marray-like\u001b[39m\u001b[38;5;124m'\u001b[39m:\n\u001b[1;32m    349\u001b[0m \u001b[38;5;250m    \u001b[39m\u001b[38;5;124;03m\"\"\"\u001b[39;00m\n\u001b[1;32m    350\u001b[0m \u001b[38;5;124;03m    Apply the network to an input batch.\u001b[39;00m\n\u001b[1;32m    351\u001b[0m \u001b[38;5;124;03m    \u001b[39;00m\n\u001b[0;32m   (...)\u001b[0m\n\u001b[1;32m    357\u001b[0m \u001b[38;5;124;03m        array-like: Output of the network.\u001b[39;00m\n\u001b[1;32m    358\u001b[0m \u001b[38;5;124;03m    \"\"\"\u001b[39;00m\n\u001b[0;32m--> 359\u001b[0m     \u001b[38;5;28;01mreturn\u001b[39;00m \u001b[38;5;28mself\u001b[39m\u001b[38;5;241m.\u001b[39mapply(params\u001b[38;5;241m=\u001b[39mparams, x\u001b[38;5;241m=\u001b[39mx, use_jax\u001b[38;5;241m=\u001b[39m\u001b[38;5;28mself\u001b[39m\u001b[38;5;241m.\u001b[39m_use_jax)\n",
      "File \u001b[0;32m~/Codes/QuantumEigenSolver/Python/QES/general_python/ml/net_impl/net_general.py:319\u001b[0m, in \u001b[0;36mGeneralNet.apply\u001b[0;34m(self, params, x, use_jax)\u001b[0m\n\u001b[1;32m    308\u001b[0m \u001b[38;5;250m\u001b[39m\u001b[38;5;124;03m\"\"\"\u001b[39;00m\n\u001b[1;32m    309\u001b[0m \u001b[38;5;124;03mApply the network to the input data.\u001b[39;00m\n\u001b[1;32m    310\u001b[0m \u001b[38;5;124;03m\u001b[39;00m\n\u001b[0;32m   (...)\u001b[0m\n\u001b[1;32m    316\u001b[0m \u001b[38;5;124;03m    array-like: Output of the network.\u001b[39;00m\n\u001b[1;32m    317\u001b[0m \u001b[38;5;124;03m\"\"\"\u001b[39;00m\n\u001b[1;32m    318\u001b[0m \u001b[38;5;28;01mif\u001b[39;00m params \u001b[38;5;129;01mis\u001b[39;00m \u001b[38;5;129;01mnot\u001b[39;00m \u001b[38;5;28;01mNone\u001b[39;00m:\n\u001b[0;32m--> 319\u001b[0m     \u001b[38;5;28mself\u001b[39m\u001b[38;5;241m.\u001b[39mset_params(params)\n\u001b[1;32m    321\u001b[0m \u001b[38;5;28;01mif\u001b[39;00m \u001b[38;5;28mself\u001b[39m\u001b[38;5;241m.\u001b[39m_use_jax \u001b[38;5;129;01mor\u001b[39;00m (use_jax \u001b[38;5;129;01mand\u001b[39;00m _JAX_AVAILABLE):\n\u001b[1;32m    322\u001b[0m     \u001b[38;5;28;01mreturn\u001b[39;00m \u001b[38;5;28mself\u001b[39m\u001b[38;5;241m.\u001b[39mapply_jax(x)\n",
      "File \u001b[0;32m~/Codes/QuantumEigenSolver/Python/QES/general_python/ml/net_impl/net_simple.py:323\u001b[0m, in \u001b[0;36mSimpleNet.set_params\u001b[0;34m(self, params)\u001b[0m\n\u001b[1;32m    320\u001b[0m     params \u001b[38;5;241m=\u001b[39m { \u001b[38;5;124m\"\u001b[39m\u001b[38;5;124mlayers\u001b[39m\u001b[38;5;124m\"\u001b[39m : params }\n\u001b[1;32m    322\u001b[0m \u001b[38;5;28;01mif\u001b[39;00m \u001b[38;5;124m\"\u001b[39m\u001b[38;5;124mlayers\u001b[39m\u001b[38;5;124m\"\u001b[39m \u001b[38;5;129;01mnot\u001b[39;00m \u001b[38;5;129;01min\u001b[39;00m params:\n\u001b[0;32m--> 323\u001b[0m     \u001b[38;5;28;01mraise\u001b[39;00m \u001b[38;5;167;01mKeyError\u001b[39;00m(\u001b[38;5;124m\"\u001b[39m\u001b[38;5;124mParameters must contain \u001b[39m\u001b[38;5;124m'\u001b[39m\u001b[38;5;124mlayers\u001b[39m\u001b[38;5;124m'\u001b[39m\u001b[38;5;124m key.\u001b[39m\u001b[38;5;124m\"\u001b[39m)\n\u001b[1;32m    324\u001b[0m \u001b[38;5;28mself\u001b[39m\u001b[38;5;241m.\u001b[39m_parameters \u001b[38;5;241m=\u001b[39m params\n",
      "\u001b[0;31mKeyError\u001b[0m: \"Parameters must contain 'layers' key.\""
     ]
    }
   ],
   "source": [
    "from general_python.common.plot import MatrixPrinter\n",
    "\n",
    "# -----------------------------------------------------------------\n",
    "# Flatten the configurations and ansatz arrays with a clearer mathematical description\n",
    "#\n",
    "# Let 𝒞 ∈ ℝ^(N×d) represent the configuration matrix, where:\n",
    "#   N = number of samples (configurations)\n",
    "#   d = st_shape[0] (the dimension of each configuration)\n",
    "#\n",
    "# Similarly, for the ansatz values f(𝒞) (one per configuration), we flatten the array.\n",
    "# -----------------------------------------------------------------\n",
    "\n",
    "# Reshape configurations to a 2D array: each row is one configuration vector.\n",
    "configs_flat = configs.reshape(-1, st_shape[0])\n",
    "print(\"Shape of flattened configurations (𝒞):\", configs_flat.shape)\n",
    "\n",
    "# Flatten the ansatze: each configuration has a single ansatz value.\n",
    "configs_ansatze_flat = configs_ansatze.reshape(-1)\n",
    "print(\"Shape of flattened ansatze (f(𝒞)):\", configs_ansatze_flat.shape)\n",
    "\n",
    "print(\"\\nDetailed flow of the configurations:\")\n",
    "print(\"Number of configurations:\", len(configs_flat))\n",
    "print()\n",
    "\n",
    "# -----------------------------------------------------------------\n",
    "# For the first 5 configurations, print:\n",
    "#   - The configuration vector 𝒞ᵢ\n",
    "#   - The ansatz from the network f(𝒞ᵢ)\n",
    "#   - A verification whether f(𝒞ᵢ) matches the ansatz given by the sampler.\n",
    "# -----------------------------------------------------------------\n",
    "for i in range(len(configs_flat[:5])):\n",
    "    print(f\"--- Configuration {i} ---\")\n",
    "    \n",
    "    print(\"\\tConfiguration (𝒞):\")\n",
    "    print(\"\\t\", configs_flat[i])\n",
    "    # MatrixPrinter.print_vector(configs_flat[i]\n",
    "    \n",
    "    print(\"'\\tAnsatz from sampler (f(𝒞)):\")\n",
    "    # Compute the ansatz from the network using the configuration.\n",
    "    print(\"\\t\", configs_ansatze_flat[i])\n",
    "    ansatz_net = net(configs_flat[i])\n",
    "    print(\"\\tAnsatz from the network:\")\n",
    "    print(\"\\t\", ansatz_net)\n",
    "    \n",
    "    # Verify if the network's ansatz equals the sampler's ansatz.\n",
    "    is_same = np.allclose(ansatz_net, configs_ansatze_flat[i])\n",
    "    print(\"\\tVerification (f(𝒞) from network ?= sampler's ansatz):\", is_same)\n",
    "    \n",
    "    print(\"\\n-------------------------\\n\")\n"
   ]
  },
  {
   "cell_type": "markdown",
   "metadata": {},
   "source": [
    "## Solver class\n",
    "\n",
    "Below, we:\n",
    "\n",
    "1. Create a simple network for the NQS ansatz\n",
    "2. Create a sampler\n",
    "3. Create a dummy Hamiltonian"
   ]
  },
  {
   "cell_type": "code",
   "execution_count": 1,
   "metadata": {},
   "outputs": [
    {
     "name": "stdout",
     "output_type": "stream",
     "text": [
      "=== Backend Initialization ===\n",
      "\tNumPy Version: 1.26.4\n",
      "\tSciPy Version: 1.13.1\n",
      "\tJAX Version: Not Available\n",
      "\t\tActive Backend: jax\n",
      "\t\tJAX Available: True\n",
      "\t\tDefault Random Key: [    0 12345]\n",
      "\tActive Backend Modules:\n",
      "\t\t\tMain Module: <module 'jax.numpy' from '/home/klimak/libraries/anaconda3/lib/python3.11/site-packages/jax/numpy/__init__.py'>\n",
      "\t\t\tRandom Module: <module 'jax.random' from '/home/klimak/libraries/anaconda3/lib/python3.11/site-packages/jax/random.py'>\n",
      "\t\t\tSciPy Module: <module 'jax.scipy' from '/home/klimak/libraries/anaconda3/lib/python3.11/site-packages/jax/scipy/__init__.py'>\n",
      "=== End of Backend Info ===\n"
     ]
    },
    {
     "name": "stderr",
     "output_type": "stream",
     "text": [
      "08_04_2025_19-25_12 [INFO] Log file created: ./log/global.log\n",
      "08_04_2025_19-25_12 [INFO] Log level set to: info\n",
      "08_04_2025_19-25_12 [INFO] ########### Global logger initialized. ###########\n",
      "08_04_2025_19-25_12 [INFO] \t->[Hamiltonian] Using spin operators\n",
      "08_04_2025_19-25_12 [INFO] \t\t->[Hamiltonian] Adding modifying operator Operator(Sx/0-1, eigval=1.0, type=Other) at site 0 (global) with multiplier 0.0\n",
      "08_04_2025_19-25_12 [INFO] \t\t->[Hamiltonian] Adding non-modifying operator Operator(Sz/0, eigval=1.0, type=Other) at site 0 (global) with multiplier 0.0\n",
      "08_04_2025_19-25_12 [INFO] \t\t->[Hamiltonian] Adding modifying operator Operator(Sx/1-2, eigval=1.0, type=Other) at site 1 (global) with multiplier 1.0\n",
      "08_04_2025_19-25_12 [INFO] \t\t->[Hamiltonian] Adding non-modifying operator Operator(Sz/1, eigval=1.0, type=Other) at site 1 (global) with multiplier 0.5\n",
      "08_04_2025_19-25_12 [INFO] \t\t->[Hamiltonian] Adding modifying operator Operator(Sx/2-3, eigval=1.0, type=Other) at site 2 (global) with multiplier 2.0\n",
      "08_04_2025_19-25_12 [INFO] \t\t->[Hamiltonian] Adding non-modifying operator Operator(Sz/2, eigval=1.0, type=Other) at site 2 (global) with multiplier 1.0\n",
      "08_04_2025_19-25_12 [INFO] \t\t->[Hamiltonian] Adding modifying operator Operator(Sx/3-4, eigval=1.0, type=Other) at site 3 (global) with multiplier 3.0\n",
      "08_04_2025_19-25_12 [INFO] \t\t->[Hamiltonian] Adding non-modifying operator Operator(Sz/3, eigval=1.0, type=Other) at site 3 (global) with multiplier 1.5\n",
      "08_04_2025_19-25_12 [INFO] \t\t->[Hamiltonian] Adding modifying operator Operator(Sx/4-5, eigval=1.0, type=Other) at site 4 (global) with multiplier 4.0\n",
      "08_04_2025_19-25_12 [INFO] \t\t->[Hamiltonian] Adding non-modifying operator Operator(Sz/4, eigval=1.0, type=Other) at site 4 (global) with multiplier 0.0\n",
      "08_04_2025_19-25_12 [INFO] \t\t->[Hamiltonian] Adding modifying operator Operator(Sx/5-6, eigval=1.0, type=Other) at site 5 (global) with multiplier 5.0\n",
      "08_04_2025_19-25_12 [INFO] \t\t->[Hamiltonian] Adding non-modifying operator Operator(Sz/5, eigval=1.0, type=Other) at site 5 (global) with multiplier 0.5\n",
      "08_04_2025_19-25_12 [INFO] \t\t->[Hamiltonian] Adding modifying operator Operator(Sx/6-7, eigval=1.0, type=Other) at site 6 (global) with multiplier 6.0\n",
      "08_04_2025_19-25_12 [INFO] \t\t->[Hamiltonian] Adding non-modifying operator Operator(Sz/6, eigval=1.0, type=Other) at site 6 (global) with multiplier 1.0\n",
      "08_04_2025_19-25_12 [INFO] \t\t->[Hamiltonian] Adding modifying operator Operator(Sx/7-8, eigval=1.0, type=Other) at site 7 (global) with multiplier 7.0\n",
      "08_04_2025_19-25_12 [INFO] \t\t->[Hamiltonian] Adding non-modifying operator Operator(Sz/7, eigval=1.0, type=Other) at site 7 (global) with multiplier 1.5\n",
      "08_04_2025_19-25_12 [INFO] \t\t->[Hamiltonian] Adding modifying operator Operator(Sx/8-9, eigval=1.0, type=Other) at site 8 (global) with multiplier 8.0\n",
      "08_04_2025_19-25_12 [INFO] \t\t->[Hamiltonian] Adding non-modifying operator Operator(Sz/8, eigval=1.0, type=Other) at site 8 (global) with multiplier 0.0\n",
      "08_04_2025_19-25_12 [INFO] \t\t->[Hamiltonian] Adding modifying operator Operator(Sx/9-10, eigval=1.0, type=Other) at site 9 (global) with multiplier 9.0\n",
      "08_04_2025_19-25_12 [INFO] \t\t->[Hamiltonian] Adding non-modifying operator Operator(Sz/9, eigval=1.0, type=Other) at site 9 (global) with multiplier 0.5\n",
      "08_04_2025_19-25_12 [INFO] \t\t->[Hamiltonian] Adding modifying operator Operator(Sx/10-11, eigval=1.0, type=Other) at site 10 (global) with multiplier 10.0\n",
      "08_04_2025_19-25_12 [INFO] \t\t->[Hamiltonian] Adding non-modifying operator Operator(Sz/10, eigval=1.0, type=Other) at site 10 (global) with multiplier 1.0\n",
      "08_04_2025_19-25_12 [INFO] \t\t->[Hamiltonian] Adding modifying operator Operator(Sx/11-12, eigval=1.0, type=Other) at site 11 (global) with multiplier 11.0\n",
      "08_04_2025_19-25_12 [INFO] \t\t->[Hamiltonian] Adding non-modifying operator Operator(Sz/11, eigval=1.0, type=Other) at site 11 (global) with multiplier 1.5\n",
      "08_04_2025_19-25_12 [INFO] \t\t->[Hamiltonian] Adding modifying operator Operator(Sx/12-13, eigval=1.0, type=Other) at site 12 (global) with multiplier 12.0\n",
      "08_04_2025_19-25_12 [INFO] \t\t->[Hamiltonian] Adding non-modifying operator Operator(Sz/12, eigval=1.0, type=Other) at site 12 (global) with multiplier 0.0\n",
      "08_04_2025_19-25_12 [INFO] \t\t->[Hamiltonian] Adding modifying operator Operator(Sx/13-14, eigval=1.0, type=Other) at site 13 (global) with multiplier 13.0\n",
      "08_04_2025_19-25_12 [INFO] \t\t->[Hamiltonian] Adding non-modifying operator Operator(Sz/13, eigval=1.0, type=Other) at site 13 (global) with multiplier 0.5\n",
      "08_04_2025_19-25_12 [INFO] \t\t->[Hamiltonian] Adding modifying operator Operator(Sx/14-15, eigval=1.0, type=Other) at site 14 (global) with multiplier 14.0\n",
      "08_04_2025_19-25_12 [INFO] \t\t->[Hamiltonian] Adding non-modifying operator Operator(Sz/14, eigval=1.0, type=Other) at site 14 (global) with multiplier 1.0\n",
      "08_04_2025_19-25_12 [INFO] \t\t->[Hamiltonian] Adding modifying operator Operator(Sx/15-16, eigval=1.0, type=Other) at site 15 (global) with multiplier 15.0\n",
      "08_04_2025_19-25_12 [INFO] \t\t->[Hamiltonian] Adding non-modifying operator Operator(Sz/15, eigval=1.0, type=Other) at site 15 (global) with multiplier 1.5\n",
      "08_04_2025_19-25_12 [INFO] \t\t->[Hamiltonian] Adding modifying operator Operator(Sx/16-17, eigval=1.0, type=Other) at site 16 (global) with multiplier 16.0\n",
      "08_04_2025_19-25_12 [INFO] \t\t->[Hamiltonian] Adding non-modifying operator Operator(Sz/16, eigval=1.0, type=Other) at site 16 (global) with multiplier 0.0\n",
      "08_04_2025_19-25_12 [INFO] \t\t->[Hamiltonian] Adding modifying operator Operator(Sx/17-18, eigval=1.0, type=Other) at site 17 (global) with multiplier 17.0\n",
      "08_04_2025_19-25_12 [INFO] \t\t->[Hamiltonian] Adding non-modifying operator Operator(Sz/17, eigval=1.0, type=Other) at site 17 (global) with multiplier 0.5\n",
      "08_04_2025_19-25_12 [INFO] \t\t->[Hamiltonian] Adding modifying operator Operator(Sx/18-19, eigval=1.0, type=Other) at site 18 (global) with multiplier 18.0\n",
      "08_04_2025_19-25_12 [INFO] \t\t->[Hamiltonian] Adding non-modifying operator Operator(Sz/18, eigval=1.0, type=Other) at site 18 (global) with multiplier 1.0\n",
      "08_04_2025_19-25_12 [INFO] \t\t->[Hamiltonian] Adding modifying operator Operator(Sx/19-0, eigval=1.0, type=Other) at site 19 (global) with multiplier 19.0\n",
      "08_04_2025_19-25_12 [INFO] \t\t->[Hamiltonian] Adding non-modifying operator Operator(Sz/19, eigval=1.0, type=Other) at site 19 (global) with multiplier 1.5\n",
      "08_04_2025_19-25_12 [WARNING] \t\t->[Hamiltonian] Max local changes set to 2\n",
      "08_04_2025_19-25_12 [INFO] \t\t->[Hamiltonian] Successfully set local energy functions...\n",
      "08_04_2025_19-25_12 [INFO] \t\t->[<class 'NQS.nqs.NQS'>] Network SimpleNet(input_dim=20, layers=(5,), bias=True, backend=jax) provided from the GeneralNet module.\n",
      "08_04_2025_19-25_12 [INFO] \t\t->[<class 'NQS.nqs.NQS'>] Network is holomorphic: True\n",
      "08_04_2025_19-25_12 [INFO] \t\t->[<class 'NQS.nqs.NQS'>] Network has analytic gradient: True\n"
     ]
    }
   ],
   "source": [
    "import NQS.nqs as nqsmodule\n",
    "import Solver.MonteCarlo.sampler as Sampling\n",
    "from Algebra.Model.dummy import DummyHamiltonian\n",
    "from general_python.algebra.utils import get_backend\n",
    "from general_python.ml.net_impl.net_simple import SimpleNet\n",
    "\n",
    "import numpy as np\n",
    "\n",
    "# get random backend\n",
    "# backend             = 'np'\n",
    "backend             = 'jax'\n",
    "seed                = 1701\n",
    "dtypex              = complex\n",
    "be_modules          = get_backend(backend, random=True, seed=seed, scipy=True)\n",
    "backend_np, (rng, rng_k), backend_sp = be_modules if isinstance(be_modules, tuple) else (be_modules, (None, None), None)\n",
    "\n",
    "# get the network\n",
    "ns                  = 20\n",
    "st_shape            = (ns, )\n",
    "activations         = ('relu', 'sigmoid')\n",
    "net                 = SimpleNet(act_fun =   activations, \n",
    "                        input_shape     =   st_shape, \n",
    "                        output_shape    =   (1, ),\n",
    "                        layers          =   (5, ),\n",
    "                        backend         =   backend_np,\n",
    "                        dtype           =   dtypex)\n",
    "\n",
    "# get the sampler\n",
    "sampler             = Sampling.MCSampler(\n",
    "                            net         = net,\n",
    "                            shape       = st_shape,\n",
    "                            rng         = rng,\n",
    "                            rng_k       = rng_k,\n",
    "                            numchains   = 10,\n",
    "                            numsamples  = 5,\n",
    "                            sweep_steps = 30,\n",
    "                            backend     = backend_np,\n",
    "                            therm_steps = 10,\n",
    "                        )\n",
    "\n",
    "# get the Hamiltonian\n",
    "# ham_dtype           = complex\n",
    "ham_dtype           = float\n",
    "par                 = 0.5 + 1j * 0.5 if ham_dtype == complex else 0.5\n",
    "ham                 = DummyHamiltonian(hilbert_space=None, ns = ns, backend = backend, dtype = ham_dtype)\n",
    "batch_size          = 1\n",
    "\n",
    "nqs                 = nqsmodule.NQS(\n",
    "                            net         = net,\n",
    "                            sampler     = sampler,\n",
    "                            hamiltonian = ham,\n",
    "                            lower_betas = None,\n",
    "                            lower_states= None,\n",
    "                            seed        = seed,\n",
    "                            beta        = 1.0,\n",
    "                            shape       = st_shape,\n",
    "                            backend     = backend,\n",
    "                            nthread     = 1,\n",
    "                            batch_size  = batch_size)"
   ]
  },
  {
   "cell_type": "code",
   "execution_count": 4,
   "metadata": {},
   "outputs": [
    {
     "data": {
      "text/plain": [
       "MCSampler(shape=(20,), mu=0, beta=1.0, therm_steps=10, sweep_steps=30, numsamples=5, numchains=10, backend=jax)"
      ]
     },
     "execution_count": 4,
     "metadata": {},
     "output_type": "execute_result"
    }
   ],
   "source": [
    "sampler"
   ]
  },
  {
   "cell_type": "code",
   "execution_count": 14,
   "metadata": {},
   "outputs": [
    {
     "name": "stdout",
     "output_type": "stream",
     "text": [
      "Warning: Running sample with 5 chains (instance default is 10). State reinitialized for this call.\n"
     ]
    },
    {
     "data": {
      "text/plain": [
       "(25, 20)"
      ]
     },
     "execution_count": 14,
     "metadata": {},
     "output_type": "execute_result"
    }
   ],
   "source": [
    "(states, logprobas), (configs, configs_ansatze), probabilities = nqs.sample(num_samples=5, num_chains=5)\n",
    "configs.shape"
   ]
  },
  {
   "cell_type": "code",
   "execution_count": 23,
   "metadata": {},
   "outputs": [
    {
     "name": "stdout",
     "output_type": "stream",
     "text": [
      "Epoch 1/150\n",
      "  Number of configurations: (50, 20)\n",
      "  Configs and ansatze: (50, 1)\n",
      "  Number of states: (10, 20)\n",
      "  Number of probabilities: (50, 1)\n",
      "\n"
     ]
    },
    {
     "ename": "KeyboardInterrupt",
     "evalue": "",
     "output_type": "error",
     "traceback": [
      "\u001b[0;31m---------------------------------------------------------------------------\u001b[0m",
      "\u001b[0;31mKeyboardInterrupt\u001b[0m                         Traceback (most recent call last)",
      "Cell \u001b[0;32mIn[23], line 29\u001b[0m\n\u001b[1;32m     26\u001b[0m     \u001b[38;5;28mprint\u001b[39m(\u001b[38;5;124mf\u001b[39m\u001b[38;5;124m\"\u001b[39m\u001b[38;5;124m  Number of probabilities: \u001b[39m\u001b[38;5;132;01m{\u001b[39;00mprobabilities\u001b[38;5;241m.\u001b[39mshape\u001b[38;5;132;01m}\u001b[39;00m\u001b[38;5;130;01m\\n\u001b[39;00m\u001b[38;5;124m\"\u001b[39m)\n\u001b[1;32m     28\u001b[0m     \u001b[38;5;66;03m# collect the energies\u001b[39;00m\n\u001b[0;32m---> 29\u001b[0m     (configs, ansatze), probabilities, (v, means, stds) \u001b[38;5;241m=\u001b[39m nqs\u001b[38;5;241m.\u001b[39mevaluate_fun(\n\u001b[1;32m     30\u001b[0m         states_and_psi  \u001b[38;5;241m=\u001b[39m (configs, configs_ansatze),\n\u001b[1;32m     31\u001b[0m         probabilities   \u001b[38;5;241m=\u001b[39m probabilities,\n\u001b[1;32m     32\u001b[0m         functions       \u001b[38;5;241m=\u001b[39m \u001b[38;5;28;01mNone\u001b[39;00m,     \u001b[38;5;66;03m# means that we evaluate energy\u001b[39;00m\n\u001b[1;32m     33\u001b[0m         batch_size      \u001b[38;5;241m=\u001b[39m batch_size\n\u001b[1;32m     34\u001b[0m     )\n\u001b[1;32m     35\u001b[0m     \u001b[38;5;66;03m# print(f\"  Energies: {v.shape}\")\u001b[39;00m\n\u001b[1;32m     36\u001b[0m     \u001b[38;5;66;03m# print(f\"  Mean energy: {means}, std: {stds}\")\u001b[39;00m\n\u001b[1;32m     37\u001b[0m     \u001b[38;5;66;03m# print(f\"  Configurations: {configs.shape}\")\u001b[39;00m\n\u001b[0;32m   (...)\u001b[0m\n\u001b[1;32m     65\u001b[0m     \n\u001b[1;32m     66\u001b[0m     \u001b[38;5;66;03m# history.append(means)\u001b[39;00m\n\u001b[1;32m     69\u001b[0m plt\u001b[38;5;241m.\u001b[39mplot(history)\n",
      "File \u001b[0;32m~/Codes/QuantumEigenSolver/Python/QES/NQS/nqs.py:674\u001b[0m, in \u001b[0;36mNQS.evaluate_fun\u001b[0;34m(self, functions, states_and_psi, probabilities, **kwargs)\u001b[0m\n\u001b[1;32m    671\u001b[0m     \u001b[38;5;28;01mif\u001b[39;00m probabilities \u001b[38;5;129;01mis\u001b[39;00m \u001b[38;5;28;01mNone\u001b[39;00m:\n\u001b[1;32m    672\u001b[0m         probabilities \u001b[38;5;241m=\u001b[39m \u001b[38;5;28mself\u001b[39m\u001b[38;5;241m.\u001b[39m_backend\u001b[38;5;241m.\u001b[39mones_like(ansatze)\n\u001b[0;32m--> 674\u001b[0m     output \u001b[38;5;241m=\u001b[39m [\u001b[38;5;28mself\u001b[39m\u001b[38;5;241m.\u001b[39m_evaluate_fun(func           \u001b[38;5;241m=\u001b[39m f,\n\u001b[1;32m    675\u001b[0m                                 states          \u001b[38;5;241m=\u001b[39m states,\n\u001b[1;32m    676\u001b[0m                                 probabilities   \u001b[38;5;241m=\u001b[39m probabilities,\n\u001b[1;32m    677\u001b[0m                                 logproba_in     \u001b[38;5;241m=\u001b[39m ansatze,\n\u001b[1;32m    678\u001b[0m                                 logproba_fun    \u001b[38;5;241m=\u001b[39m \u001b[38;5;28mself\u001b[39m\u001b[38;5;241m.\u001b[39m_ansatz_func,\n\u001b[1;32m    679\u001b[0m                                 parameters      \u001b[38;5;241m=\u001b[39m \u001b[38;5;28mself\u001b[39m\u001b[38;5;241m.\u001b[39m_net\u001b[38;5;241m.\u001b[39mget_params(),\n\u001b[1;32m    680\u001b[0m                                 batch_size      \u001b[38;5;241m=\u001b[39m batch_size,\n\u001b[1;32m    681\u001b[0m                                 is_jax          \u001b[38;5;241m=\u001b[39m \u001b[38;5;28mself\u001b[39m\u001b[38;5;241m.\u001b[39m_isjax) \u001b[38;5;28;01mfor\u001b[39;00m f \u001b[38;5;129;01min\u001b[39;00m functions]\n\u001b[1;32m    682\u001b[0m \u001b[38;5;28;01melse\u001b[39;00m:\n\u001b[1;32m    683\u001b[0m     \u001b[38;5;66;03m# get other parameters from kwargs\u001b[39;00m\n\u001b[1;32m    684\u001b[0m     num_samples \u001b[38;5;241m=\u001b[39m kwargs\u001b[38;5;241m.\u001b[39mget(\u001b[38;5;124m'\u001b[39m\u001b[38;5;124mnum_samples\u001b[39m\u001b[38;5;124m'\u001b[39m, \u001b[38;5;28;01mNone\u001b[39;00m)\n",
      "File \u001b[0;32m~/Codes/QuantumEigenSolver/Python/QES/NQS/nqs.py:674\u001b[0m, in \u001b[0;36m<listcomp>\u001b[0;34m(.0)\u001b[0m\n\u001b[1;32m    671\u001b[0m     \u001b[38;5;28;01mif\u001b[39;00m probabilities \u001b[38;5;129;01mis\u001b[39;00m \u001b[38;5;28;01mNone\u001b[39;00m:\n\u001b[1;32m    672\u001b[0m         probabilities \u001b[38;5;241m=\u001b[39m \u001b[38;5;28mself\u001b[39m\u001b[38;5;241m.\u001b[39m_backend\u001b[38;5;241m.\u001b[39mones_like(ansatze)\n\u001b[0;32m--> 674\u001b[0m     output \u001b[38;5;241m=\u001b[39m [\u001b[38;5;28mself\u001b[39m\u001b[38;5;241m.\u001b[39m_evaluate_fun(func           \u001b[38;5;241m=\u001b[39m f,\n\u001b[1;32m    675\u001b[0m                                 states          \u001b[38;5;241m=\u001b[39m states,\n\u001b[1;32m    676\u001b[0m                                 probabilities   \u001b[38;5;241m=\u001b[39m probabilities,\n\u001b[1;32m    677\u001b[0m                                 logproba_in     \u001b[38;5;241m=\u001b[39m ansatze,\n\u001b[1;32m    678\u001b[0m                                 logproba_fun    \u001b[38;5;241m=\u001b[39m \u001b[38;5;28mself\u001b[39m\u001b[38;5;241m.\u001b[39m_ansatz_func,\n\u001b[1;32m    679\u001b[0m                                 parameters      \u001b[38;5;241m=\u001b[39m \u001b[38;5;28mself\u001b[39m\u001b[38;5;241m.\u001b[39m_net\u001b[38;5;241m.\u001b[39mget_params(),\n\u001b[1;32m    680\u001b[0m                                 batch_size      \u001b[38;5;241m=\u001b[39m batch_size,\n\u001b[1;32m    681\u001b[0m                                 is_jax          \u001b[38;5;241m=\u001b[39m \u001b[38;5;28mself\u001b[39m\u001b[38;5;241m.\u001b[39m_isjax) \u001b[38;5;28;01mfor\u001b[39;00m f \u001b[38;5;129;01min\u001b[39;00m functions]\n\u001b[1;32m    682\u001b[0m \u001b[38;5;28;01melse\u001b[39;00m:\n\u001b[1;32m    683\u001b[0m     \u001b[38;5;66;03m# get other parameters from kwargs\u001b[39;00m\n\u001b[1;32m    684\u001b[0m     num_samples \u001b[38;5;241m=\u001b[39m kwargs\u001b[38;5;241m.\u001b[39mget(\u001b[38;5;124m'\u001b[39m\u001b[38;5;124mnum_samples\u001b[39m\u001b[38;5;124m'\u001b[39m, \u001b[38;5;28;01mNone\u001b[39;00m)\n",
      "File \u001b[0;32m~/Codes/QuantumEigenSolver/Python/QES/NQS/nqs.py:569\u001b[0m, in \u001b[0;36mNQS._evaluate_fun\u001b[0;34m(func, states, probabilities, logproba_in, logproba_fun, parameters, batch_size, is_jax)\u001b[0m\n\u001b[1;32m    567\u001b[0m \u001b[38;5;66;03m# otherwise, we shall use the batched version\u001b[39;00m\n\u001b[1;32m    568\u001b[0m funct_in \u001b[38;5;241m=\u001b[39m net_utils\u001b[38;5;241m.\u001b[39mjaxpy\u001b[38;5;241m.\u001b[39mapply_callable_batched_jax \u001b[38;5;28;01mif\u001b[39;00m is_jax \u001b[38;5;28;01melse\u001b[39;00m net_utils\u001b[38;5;241m.\u001b[39mnumpy\u001b[38;5;241m.\u001b[39mapply_callable_batched_np\n\u001b[0;32m--> 569\u001b[0m \u001b[38;5;28;01mreturn\u001b[39;00m funct_in(func            \u001b[38;5;241m=\u001b[39m func,\n\u001b[1;32m    570\u001b[0m                 states          \u001b[38;5;241m=\u001b[39m states,\n\u001b[1;32m    571\u001b[0m                 sample_probas   \u001b[38;5;241m=\u001b[39m probabilities,\n\u001b[1;32m    572\u001b[0m                 logprobas_in    \u001b[38;5;241m=\u001b[39m logproba_in,\n\u001b[1;32m    573\u001b[0m                 logproba_fun    \u001b[38;5;241m=\u001b[39m logproba_fun,\n\u001b[1;32m    574\u001b[0m                 parameters      \u001b[38;5;241m=\u001b[39m parameters,\n\u001b[1;32m    575\u001b[0m                 batch_size      \u001b[38;5;241m=\u001b[39m batch_size)\n",
      "    \u001b[0;31m[... skipping hidden 1 frame]\u001b[0m\n",
      "File \u001b[0;32m~/libraries/anaconda3/lib/python3.11/site-packages/jax/_src/pjit.py:339\u001b[0m, in \u001b[0;36m_cpp_pjit.<locals>.cache_miss\u001b[0;34m(*args, **kwargs)\u001b[0m\n\u001b[1;32m    334\u001b[0m \u001b[38;5;28;01mif\u001b[39;00m config\u001b[38;5;241m.\u001b[39mno_tracing\u001b[38;5;241m.\u001b[39mvalue:\n\u001b[1;32m    335\u001b[0m   \u001b[38;5;28;01mraise\u001b[39;00m \u001b[38;5;167;01mRuntimeError\u001b[39;00m(\u001b[38;5;124mf\u001b[39m\u001b[38;5;124m\"\u001b[39m\u001b[38;5;124mre-tracing function \u001b[39m\u001b[38;5;132;01m{\u001b[39;00mjit_info\u001b[38;5;241m.\u001b[39mfun_sourceinfo\u001b[38;5;132;01m}\u001b[39;00m\u001b[38;5;124m for \u001b[39m\u001b[38;5;124m\"\u001b[39m\n\u001b[1;32m    336\u001b[0m                      \u001b[38;5;124m\"\u001b[39m\u001b[38;5;124m`jit`, but \u001b[39m\u001b[38;5;124m'\u001b[39m\u001b[38;5;124mno_tracing\u001b[39m\u001b[38;5;124m'\u001b[39m\u001b[38;5;124m is set\u001b[39m\u001b[38;5;124m\"\u001b[39m)\n\u001b[1;32m    338\u001b[0m (outs, out_flat, out_tree, args_flat, jaxpr, attrs_tracked, executable,\n\u001b[0;32m--> 339\u001b[0m  pgle_profiler) \u001b[38;5;241m=\u001b[39m _python_pjit_helper(fun, jit_info, \u001b[38;5;241m*\u001b[39margs, \u001b[38;5;241m*\u001b[39m\u001b[38;5;241m*\u001b[39mkwargs)\n\u001b[1;32m    341\u001b[0m maybe_fastpath_data \u001b[38;5;241m=\u001b[39m _get_fastpath_data(\n\u001b[1;32m    342\u001b[0m     executable, out_tree, args_flat, out_flat, attrs_tracked, jaxpr\u001b[38;5;241m.\u001b[39meffects,\n\u001b[1;32m    343\u001b[0m     jaxpr\u001b[38;5;241m.\u001b[39mconsts, jit_info\u001b[38;5;241m.\u001b[39mabstracted_axes,\n\u001b[1;32m    344\u001b[0m     pgle_profiler)\n\u001b[1;32m    346\u001b[0m \u001b[38;5;28;01mreturn\u001b[39;00m outs, maybe_fastpath_data, _need_to_rebuild_with_fdo(pgle_profiler)\n",
      "File \u001b[0;32m~/libraries/anaconda3/lib/python3.11/site-packages/jax/_src/pjit.py:179\u001b[0m, in \u001b[0;36m_python_pjit_helper\u001b[0;34m(fun, jit_info, *args, **kwargs)\u001b[0m\n\u001b[1;32m    178\u001b[0m \u001b[38;5;28;01mdef\u001b[39;00m \u001b[38;5;21m_python_pjit_helper\u001b[39m(fun: Callable, jit_info: PjitInfo, \u001b[38;5;241m*\u001b[39margs, \u001b[38;5;241m*\u001b[39m\u001b[38;5;241m*\u001b[39mkwargs):\n\u001b[0;32m--> 179\u001b[0m   p, args_flat \u001b[38;5;241m=\u001b[39m _infer_params(fun, jit_info, args, kwargs)\n\u001b[1;32m    181\u001b[0m   \u001b[38;5;28;01mfor\u001b[39;00m arg \u001b[38;5;129;01min\u001b[39;00m args_flat:\n\u001b[1;32m    182\u001b[0m     dispatch\u001b[38;5;241m.\u001b[39mcheck_arg(arg)\n",
      "File \u001b[0;32m~/libraries/anaconda3/lib/python3.11/site-packages/jax/_src/pjit.py:695\u001b[0m, in \u001b[0;36m_infer_params\u001b[0;34m(fun, ji, args, kwargs)\u001b[0m\n\u001b[1;32m    693\u001b[0m   \u001b[38;5;28;01mwith\u001b[39;00m sharding_impls\u001b[38;5;241m.\u001b[39muse_mesh(mesh_lib\u001b[38;5;241m.\u001b[39mthread_resources\u001b[38;5;241m.\u001b[39menv\u001b[38;5;241m.\u001b[39mphysical_mesh):\n\u001b[1;32m    694\u001b[0m     \u001b[38;5;28;01mreturn\u001b[39;00m _infer_params_internal(fun, ji, args, kwargs)\n\u001b[0;32m--> 695\u001b[0m \u001b[38;5;28;01mreturn\u001b[39;00m _infer_params_internal(fun, ji, args, kwargs)\n",
      "File \u001b[0;32m~/libraries/anaconda3/lib/python3.11/site-packages/jax/_src/pjit.py:718\u001b[0m, in \u001b[0;36m_infer_params_internal\u001b[0;34m(fun, ji, args, kwargs)\u001b[0m\n\u001b[1;32m    715\u001b[0m entry \u001b[38;5;241m=\u001b[39m _infer_params_cached(fun, ji, signature, avals, ctx_mesh)\n\u001b[1;32m    717\u001b[0m \u001b[38;5;28;01mif\u001b[39;00m entry\u001b[38;5;241m.\u001b[39mpjit_params \u001b[38;5;129;01mis\u001b[39;00m \u001b[38;5;28;01mNone\u001b[39;00m:\n\u001b[0;32m--> 718\u001b[0m   p, args_flat \u001b[38;5;241m=\u001b[39m _infer_params_impl(\n\u001b[1;32m    719\u001b[0m       fun, ji, ctx_mesh, dbg, args, kwargs, in_avals\u001b[38;5;241m=\u001b[39mavals)\n\u001b[1;32m    720\u001b[0m   \u001b[38;5;28;01mif\u001b[39;00m p\u001b[38;5;241m.\u001b[39mattrs_tracked:  \u001b[38;5;66;03m# if attrs, don't popoulate the cache\u001b[39;00m\n\u001b[1;32m    721\u001b[0m     \u001b[38;5;28;01mreturn\u001b[39;00m p, p\u001b[38;5;241m.\u001b[39mconsts \u001b[38;5;241m+\u001b[39m args_flat\n",
      "File \u001b[0;32m~/libraries/anaconda3/lib/python3.11/site-packages/jax/_src/pjit.py:618\u001b[0m, in \u001b[0;36m_infer_params_impl\u001b[0;34m(***failed resolving arguments***)\u001b[0m\n\u001b[1;32m    611\u001b[0m in_shardings_flat, in_layouts_flat \u001b[38;5;241m=\u001b[39m _process_in_axis_resources(\n\u001b[1;32m    612\u001b[0m     in_shardings_treedef, in_shardings_leaves,\n\u001b[1;32m    613\u001b[0m     ji\u001b[38;5;241m.\u001b[39min_layouts_treedef, ji\u001b[38;5;241m.\u001b[39min_layouts_leaves,\n\u001b[1;32m    614\u001b[0m     in_avals, in_tree, flat_fun\u001b[38;5;241m.\u001b[39mdebug_info, device_or_backend_set, have_kwargs)\n\u001b[1;32m    616\u001b[0m attr_token \u001b[38;5;241m=\u001b[39m _attr_token(flat_fun, in_type)\n\u001b[0;32m--> 618\u001b[0m jaxpr, consts, out_avals, attrs_tracked \u001b[38;5;241m=\u001b[39m _create_pjit_jaxpr(\n\u001b[1;32m    619\u001b[0m     flat_fun, in_type, attr_token, IgnoreKey(ji\u001b[38;5;241m.\u001b[39minline))\n\u001b[1;32m    621\u001b[0m \u001b[38;5;28;01mif\u001b[39;00m config\u001b[38;5;241m.\u001b[39mmutable_array_checks\u001b[38;5;241m.\u001b[39mvalue:\n\u001b[1;32m    622\u001b[0m   _check_no_aliased_closed_over_refs(dbg, (\u001b[38;5;241m*\u001b[39mjaxpr\u001b[38;5;241m.\u001b[39mconsts, \u001b[38;5;241m*\u001b[39mconsts), explicit_args)\n",
      "File \u001b[0;32m~/libraries/anaconda3/lib/python3.11/site-packages/jax/_src/linear_util.py:460\u001b[0m, in \u001b[0;36mcache.<locals>.memoized_fun\u001b[0;34m(fun, *args)\u001b[0m\n\u001b[1;32m    458\u001b[0m   fun\u001b[38;5;241m.\u001b[39mpopulate_stores(stores)\n\u001b[1;32m    459\u001b[0m \u001b[38;5;28;01melse\u001b[39;00m:\n\u001b[0;32m--> 460\u001b[0m   ans \u001b[38;5;241m=\u001b[39m call(fun, \u001b[38;5;241m*\u001b[39margs)\n\u001b[1;32m    461\u001b[0m   \u001b[38;5;28;01mif\u001b[39;00m explain \u001b[38;5;129;01mand\u001b[39;00m config\u001b[38;5;241m.\u001b[39mexplain_cache_misses\u001b[38;5;241m.\u001b[39mvalue:\n\u001b[1;32m    462\u001b[0m     explain(fun, cache \u001b[38;5;129;01mis\u001b[39;00m new_cache, cache, key)\n",
      "File \u001b[0;32m~/libraries/anaconda3/lib/python3.11/site-packages/jax/_src/pjit.py:1289\u001b[0m, in \u001b[0;36m_create_pjit_jaxpr\u001b[0;34m(***failed resolving arguments***)\u001b[0m\n\u001b[1;32m   1287\u001b[0m     attrs_tracked \u001b[38;5;241m=\u001b[39m []\n\u001b[1;32m   1288\u001b[0m   \u001b[38;5;28;01melse\u001b[39;00m:\n\u001b[0;32m-> 1289\u001b[0m     jaxpr, global_out_avals, consts, attrs_tracked \u001b[38;5;241m=\u001b[39m pe\u001b[38;5;241m.\u001b[39mtrace_to_jaxpr_dynamic(\n\u001b[1;32m   1290\u001b[0m         fun, in_type)\n\u001b[1;32m   1291\u001b[0m     \u001b[38;5;66;03m# assert attr_data is sentinel or attr_data matches attrs_tracked\u001b[39;00m\n\u001b[1;32m   1293\u001b[0m \u001b[38;5;28;01mif\u001b[39;00m config\u001b[38;5;241m.\u001b[39mdebug_key_reuse\u001b[38;5;241m.\u001b[39mvalue:\n\u001b[1;32m   1294\u001b[0m   \u001b[38;5;66;03m# Import here to avoid circular imports\u001b[39;00m\n",
      "File \u001b[0;32m~/libraries/anaconda3/lib/python3.11/site-packages/jax/_src/profiler.py:334\u001b[0m, in \u001b[0;36mannotate_function.<locals>.wrapper\u001b[0;34m(*args, **kwargs)\u001b[0m\n\u001b[1;32m    331\u001b[0m \u001b[38;5;129m@wraps\u001b[39m(func)\n\u001b[1;32m    332\u001b[0m \u001b[38;5;28;01mdef\u001b[39;00m \u001b[38;5;21mwrapper\u001b[39m(\u001b[38;5;241m*\u001b[39margs, \u001b[38;5;241m*\u001b[39m\u001b[38;5;241m*\u001b[39mkwargs):\n\u001b[1;32m    333\u001b[0m   \u001b[38;5;28;01mwith\u001b[39;00m TraceAnnotation(name, \u001b[38;5;241m*\u001b[39m\u001b[38;5;241m*\u001b[39mdecorator_kwargs):\n\u001b[0;32m--> 334\u001b[0m     \u001b[38;5;28;01mreturn\u001b[39;00m func(\u001b[38;5;241m*\u001b[39margs, \u001b[38;5;241m*\u001b[39m\u001b[38;5;241m*\u001b[39mkwargs)\n\u001b[1;32m    335\u001b[0m   \u001b[38;5;28;01mreturn\u001b[39;00m wrapper\n",
      "File \u001b[0;32m~/libraries/anaconda3/lib/python3.11/site-packages/jax/_src/interpreters/partial_eval.py:2181\u001b[0m, in \u001b[0;36mtrace_to_jaxpr_dynamic\u001b[0;34m(fun, in_avals, keep_inputs)\u001b[0m\n\u001b[1;32m   2179\u001b[0m in_tracers \u001b[38;5;241m=\u001b[39m [t \u001b[38;5;28;01mfor\u001b[39;00m t, keep \u001b[38;5;129;01min\u001b[39;00m \u001b[38;5;28mzip\u001b[39m(in_tracers, keep_inputs) \u001b[38;5;28;01mif\u001b[39;00m keep]\n\u001b[1;32m   2180\u001b[0m \u001b[38;5;28;01mwith\u001b[39;00m core\u001b[38;5;241m.\u001b[39mset_current_trace(trace):\n\u001b[0;32m-> 2181\u001b[0m   ans \u001b[38;5;241m=\u001b[39m fun\u001b[38;5;241m.\u001b[39mcall_wrapped(\u001b[38;5;241m*\u001b[39min_tracers)\n\u001b[1;32m   2183\u001b[0m out_tracers \u001b[38;5;241m=\u001b[39m \u001b[38;5;28mmap\u001b[39m(trace\u001b[38;5;241m.\u001b[39mto_jaxpr_tracer, ans)\n\u001b[1;32m   2184\u001b[0m _check_no_returned_refs(fun\u001b[38;5;241m.\u001b[39mdebug_info, out_tracers)\n",
      "File \u001b[0;32m~/libraries/anaconda3/lib/python3.11/site-packages/jax/_src/linear_util.py:210\u001b[0m, in \u001b[0;36mWrappedFun.call_wrapped\u001b[0;34m(self, *args, **kwargs)\u001b[0m\n\u001b[1;32m    208\u001b[0m \u001b[38;5;28;01mdef\u001b[39;00m \u001b[38;5;21mcall_wrapped\u001b[39m(\u001b[38;5;28mself\u001b[39m, \u001b[38;5;241m*\u001b[39margs, \u001b[38;5;241m*\u001b[39m\u001b[38;5;241m*\u001b[39mkwargs):\n\u001b[1;32m    209\u001b[0m \u001b[38;5;250m  \u001b[39m\u001b[38;5;124;03m\"\"\"Calls the transformed function\"\"\"\u001b[39;00m\n\u001b[0;32m--> 210\u001b[0m   \u001b[38;5;28;01mreturn\u001b[39;00m \u001b[38;5;28mself\u001b[39m\u001b[38;5;241m.\u001b[39mf_transformed(\u001b[38;5;241m*\u001b[39margs, \u001b[38;5;241m*\u001b[39m\u001b[38;5;241m*\u001b[39mkwargs)\n",
      "File \u001b[0;32m~/libraries/anaconda3/lib/python3.11/site-packages/jax/_src/api_util.py:284\u001b[0m, in \u001b[0;36m_argnums_partial\u001b[0;34m(_fun, _dyn_argnums, _fixed_args, *dyn_args, **kwargs)\u001b[0m\n\u001b[1;32m    282\u001b[0m args \u001b[38;5;241m=\u001b[39m [\u001b[38;5;28mnext\u001b[39m(fixed_args_)\u001b[38;5;241m.\u001b[39mval \u001b[38;5;28;01mif\u001b[39;00m x \u001b[38;5;129;01mis\u001b[39;00m sentinel \u001b[38;5;28;01melse\u001b[39;00m x \u001b[38;5;28;01mfor\u001b[39;00m x \u001b[38;5;129;01min\u001b[39;00m args]\n\u001b[1;32m    283\u001b[0m \u001b[38;5;28;01massert\u001b[39;00m \u001b[38;5;28mnext\u001b[39m(fixed_args_, sentinel) \u001b[38;5;129;01mis\u001b[39;00m sentinel\n\u001b[0;32m--> 284\u001b[0m \u001b[38;5;28;01mreturn\u001b[39;00m _fun(\u001b[38;5;241m*\u001b[39margs, \u001b[38;5;241m*\u001b[39m\u001b[38;5;241m*\u001b[39mkwargs)\n",
      "File \u001b[0;32m~/libraries/anaconda3/lib/python3.11/site-packages/jax/_src/api_util.py:73\u001b[0m, in \u001b[0;36mflatten_fun\u001b[0;34m(f, store, in_tree, *args_flat)\u001b[0m\n\u001b[1;32m     69\u001b[0m \u001b[38;5;129m@lu\u001b[39m\u001b[38;5;241m.\u001b[39mtransformation_with_aux2\n\u001b[1;32m     70\u001b[0m \u001b[38;5;28;01mdef\u001b[39;00m \u001b[38;5;21mflatten_fun\u001b[39m(f: Callable, store: lu\u001b[38;5;241m.\u001b[39mStore,\n\u001b[1;32m     71\u001b[0m                 in_tree: PyTreeDef, \u001b[38;5;241m*\u001b[39margs_flat):\n\u001b[1;32m     72\u001b[0m   py_args, py_kwargs \u001b[38;5;241m=\u001b[39m tree_unflatten(in_tree, args_flat)\n\u001b[0;32m---> 73\u001b[0m   ans \u001b[38;5;241m=\u001b[39m f(\u001b[38;5;241m*\u001b[39mpy_args, \u001b[38;5;241m*\u001b[39m\u001b[38;5;241m*\u001b[39mpy_kwargs)\n\u001b[1;32m     74\u001b[0m   ans, out_tree \u001b[38;5;241m=\u001b[39m tree_flatten(ans)\n\u001b[1;32m     75\u001b[0m   store\u001b[38;5;241m.\u001b[39mstore(out_tree)\n",
      "File \u001b[0;32m~/libraries/anaconda3/lib/python3.11/site-packages/jax/_src/api_util.py:310\u001b[0m, in \u001b[0;36m_argnames_partial\u001b[0;34m(_fun, _fixed_kwargs, *args, **dyn_kwargs)\u001b[0m\n\u001b[1;32m    307\u001b[0m \u001b[38;5;129m@lu\u001b[39m\u001b[38;5;241m.\u001b[39mtransformation2\n\u001b[1;32m    308\u001b[0m \u001b[38;5;28;01mdef\u001b[39;00m \u001b[38;5;21m_argnames_partial\u001b[39m(_fun, _fixed_kwargs: WrapKwArgs, \u001b[38;5;241m*\u001b[39margs, \u001b[38;5;241m*\u001b[39m\u001b[38;5;241m*\u001b[39mdyn_kwargs):\n\u001b[1;32m    309\u001b[0m   kwargs \u001b[38;5;241m=\u001b[39m \u001b[38;5;28mdict\u001b[39m({k: v\u001b[38;5;241m.\u001b[39mval \u001b[38;5;28;01mfor\u001b[39;00m k, v \u001b[38;5;129;01min\u001b[39;00m _fixed_kwargs\u001b[38;5;241m.\u001b[39mval\u001b[38;5;241m.\u001b[39mitems()}, \u001b[38;5;241m*\u001b[39m\u001b[38;5;241m*\u001b[39mdyn_kwargs)\n\u001b[0;32m--> 310\u001b[0m   \u001b[38;5;28;01mreturn\u001b[39;00m _fun(\u001b[38;5;241m*\u001b[39margs, \u001b[38;5;241m*\u001b[39m\u001b[38;5;241m*\u001b[39mkwargs)\n",
      "File \u001b[0;32m~/libraries/anaconda3/lib/python3.11/site-packages/jax/_src/api_util.py:284\u001b[0m, in \u001b[0;36m_argnums_partial\u001b[0;34m(_fun, _dyn_argnums, _fixed_args, *dyn_args, **kwargs)\u001b[0m\n\u001b[1;32m    282\u001b[0m args \u001b[38;5;241m=\u001b[39m [\u001b[38;5;28mnext\u001b[39m(fixed_args_)\u001b[38;5;241m.\u001b[39mval \u001b[38;5;28;01mif\u001b[39;00m x \u001b[38;5;129;01mis\u001b[39;00m sentinel \u001b[38;5;28;01melse\u001b[39;00m x \u001b[38;5;28;01mfor\u001b[39;00m x \u001b[38;5;129;01min\u001b[39;00m args]\n\u001b[1;32m    283\u001b[0m \u001b[38;5;28;01massert\u001b[39;00m \u001b[38;5;28mnext\u001b[39m(fixed_args_, sentinel) \u001b[38;5;129;01mis\u001b[39;00m sentinel\n\u001b[0;32m--> 284\u001b[0m \u001b[38;5;28;01mreturn\u001b[39;00m _fun(\u001b[38;5;241m*\u001b[39margs, \u001b[38;5;241m*\u001b[39m\u001b[38;5;241m*\u001b[39mkwargs)\n",
      "File \u001b[0;32m~/libraries/anaconda3/lib/python3.11/site-packages/jax/_src/linear_util.py:388\u001b[0m, in \u001b[0;36m_get_result_paths_thunk\u001b[0;34m(_fun, _store, *args, **kwargs)\u001b[0m\n\u001b[1;32m    386\u001b[0m \u001b[38;5;129m@transformation_with_aux2\u001b[39m\n\u001b[1;32m    387\u001b[0m \u001b[38;5;28;01mdef\u001b[39;00m \u001b[38;5;21m_get_result_paths_thunk\u001b[39m(_fun: Callable, _store: Store, \u001b[38;5;241m*\u001b[39margs, \u001b[38;5;241m*\u001b[39m\u001b[38;5;241m*\u001b[39mkwargs):\n\u001b[0;32m--> 388\u001b[0m   ans \u001b[38;5;241m=\u001b[39m _fun(\u001b[38;5;241m*\u001b[39margs, \u001b[38;5;241m*\u001b[39m\u001b[38;5;241m*\u001b[39mkwargs)\n\u001b[1;32m    389\u001b[0m   result_paths \u001b[38;5;241m=\u001b[39m \u001b[38;5;28mtuple\u001b[39m(\u001b[38;5;124mf\u001b[39m\u001b[38;5;124m\"\u001b[39m\u001b[38;5;124mresult\u001b[39m\u001b[38;5;132;01m{\u001b[39;00m_clean_keystr_arg_names(path)\u001b[38;5;132;01m}\u001b[39;00m\u001b[38;5;124m\"\u001b[39m \u001b[38;5;28;01mfor\u001b[39;00m path, _ \u001b[38;5;129;01min\u001b[39;00m generate_key_paths(ans))\n\u001b[1;32m    390\u001b[0m   \u001b[38;5;28;01mif\u001b[39;00m _store:\n\u001b[1;32m    391\u001b[0m     \u001b[38;5;66;03m# In some instances a lu.WrappedFun is called multiple times, e.g.,\u001b[39;00m\n\u001b[1;32m    392\u001b[0m     \u001b[38;5;66;03m# the bwd function in a custom_vjp\u001b[39;00m\n",
      "File \u001b[0;32m~/Codes/QuantumEigenSolver/Python/QES/general_python/ml/net_impl/utils/net_utils_jax.py:540\u001b[0m, in \u001b[0;36mapply_callable_batched_jax\u001b[0;34m(func, states, sample_probas, logprobas_in, logproba_fun, parameters, batch_size)\u001b[0m\n\u001b[1;32m    537\u001b[0m     \u001b[38;5;28;01mreturn\u001b[39;00m jax\u001b[38;5;241m.\u001b[39mvmap(compute_estimate, in_axes\u001b[38;5;241m=\u001b[39m(\u001b[38;5;241m0\u001b[39m, \u001b[38;5;241m0\u001b[39m, \u001b[38;5;241m0\u001b[39m))(batch_states, batch_logps, batch_sampleps)\n\u001b[1;32m    539\u001b[0m \u001b[38;5;66;03m# Map over batches.\u001b[39;00m\n\u001b[0;32m--> 540\u001b[0m batch_estimates \u001b[38;5;241m=\u001b[39m jax\u001b[38;5;241m.\u001b[39mvmap(compute_batch, in_axes\u001b[38;5;241m=\u001b[39m(\u001b[38;5;241m0\u001b[39m, \u001b[38;5;241m0\u001b[39m, \u001b[38;5;241m0\u001b[39m))(batches, log_batches, sample_batches)\n\u001b[1;32m    541\u001b[0m estimates       \u001b[38;5;241m=\u001b[39m batch_estimates\u001b[38;5;241m.\u001b[39mreshape(\u001b[38;5;241m-\u001b[39m\u001b[38;5;241m1\u001b[39m)[:nstates]\n\u001b[1;32m    542\u001b[0m \u001b[38;5;28;01mreturn\u001b[39;00m estimates, jnp\u001b[38;5;241m.\u001b[39mmean(estimates, axis\u001b[38;5;241m=\u001b[39m\u001b[38;5;241m0\u001b[39m), jnp\u001b[38;5;241m.\u001b[39mstd(estimates, axis\u001b[38;5;241m=\u001b[39m\u001b[38;5;241m0\u001b[39m)\n",
      "    \u001b[0;31m[... skipping hidden 1 frame]\u001b[0m\n",
      "File \u001b[0;32m~/libraries/anaconda3/lib/python3.11/site-packages/jax/_src/api.py:1017\u001b[0m, in \u001b[0;36mvmap.<locals>.vmap_f\u001b[0;34m(*args, **kwargs)\u001b[0m\n\u001b[1;32m   1014\u001b[0m \u001b[38;5;28;01mtry\u001b[39;00m:\n\u001b[1;32m   1015\u001b[0m   axis_data \u001b[38;5;241m=\u001b[39m batching\u001b[38;5;241m.\u001b[39mAxisData(axis_name, axis_size_, spmd_axis_name,\n\u001b[1;32m   1016\u001b[0m                                 explicit_mesh_axis)\n\u001b[0;32m-> 1017\u001b[0m   out_flat \u001b[38;5;241m=\u001b[39m batching\u001b[38;5;241m.\u001b[39mbatch(\n\u001b[1;32m   1018\u001b[0m       flat_fun, axis_data, in_axes_flat,\n\u001b[1;32m   1019\u001b[0m       \u001b[38;5;28;01mlambda\u001b[39;00m: flatten_axes(\u001b[38;5;124m\"\u001b[39m\u001b[38;5;124mvmap out_axes\u001b[39m\u001b[38;5;124m\"\u001b[39m, out_tree(), out_axes)\n\u001b[1;32m   1020\u001b[0m   )\u001b[38;5;241m.\u001b[39mcall_wrapped(\u001b[38;5;241m*\u001b[39margs_flat)\n\u001b[1;32m   1021\u001b[0m \u001b[38;5;28;01mexcept\u001b[39;00m batching\u001b[38;5;241m.\u001b[39mSpecMatchError \u001b[38;5;28;01mas\u001b[39;00m e:\n\u001b[1;32m   1022\u001b[0m   out_axes_flat \u001b[38;5;241m=\u001b[39m flatten_axes(\u001b[38;5;124m\"\u001b[39m\u001b[38;5;124mvmap out_axes\u001b[39m\u001b[38;5;124m\"\u001b[39m, out_tree(), out_axes)\n",
      "File \u001b[0;32m~/libraries/anaconda3/lib/python3.11/site-packages/jax/_src/linear_util.py:210\u001b[0m, in \u001b[0;36mWrappedFun.call_wrapped\u001b[0;34m(self, *args, **kwargs)\u001b[0m\n\u001b[1;32m    208\u001b[0m \u001b[38;5;28;01mdef\u001b[39;00m \u001b[38;5;21mcall_wrapped\u001b[39m(\u001b[38;5;28mself\u001b[39m, \u001b[38;5;241m*\u001b[39margs, \u001b[38;5;241m*\u001b[39m\u001b[38;5;241m*\u001b[39mkwargs):\n\u001b[1;32m    209\u001b[0m \u001b[38;5;250m  \u001b[39m\u001b[38;5;124;03m\"\"\"Calls the transformed function\"\"\"\u001b[39;00m\n\u001b[0;32m--> 210\u001b[0m   \u001b[38;5;28;01mreturn\u001b[39;00m \u001b[38;5;28mself\u001b[39m\u001b[38;5;241m.\u001b[39mf_transformed(\u001b[38;5;241m*\u001b[39margs, \u001b[38;5;241m*\u001b[39m\u001b[38;5;241m*\u001b[39mkwargs)\n",
      "File \u001b[0;32m~/libraries/anaconda3/lib/python3.11/site-packages/jax/_src/interpreters/batching.py:608\u001b[0m, in \u001b[0;36m_batch_outer\u001b[0;34m(f, axis_data, in_dims, *in_vals)\u001b[0m\n\u001b[1;32m    606\u001b[0m tag \u001b[38;5;241m=\u001b[39m TraceTag()\n\u001b[1;32m    607\u001b[0m \u001b[38;5;28;01mwith\u001b[39;00m source_info_util\u001b[38;5;241m.\u001b[39mtransform_name_stack(\u001b[38;5;124m'\u001b[39m\u001b[38;5;124mvmap\u001b[39m\u001b[38;5;124m'\u001b[39m):\n\u001b[0;32m--> 608\u001b[0m   outs, trace \u001b[38;5;241m=\u001b[39m f(tag, in_dims, \u001b[38;5;241m*\u001b[39min_vals)\n\u001b[1;32m    609\u001b[0m \u001b[38;5;28;01mwith\u001b[39;00m core\u001b[38;5;241m.\u001b[39mensure_no_leaks(trace): \u001b[38;5;28;01mdel\u001b[39;00m trace\n\u001b[1;32m    610\u001b[0m \u001b[38;5;28;01mreturn\u001b[39;00m outs\n",
      "File \u001b[0;32m~/libraries/anaconda3/lib/python3.11/site-packages/jax/_src/interpreters/batching.py:623\u001b[0m, in \u001b[0;36m_batch_inner\u001b[0;34m(f, axis_data, out_dim_dests, tag, in_dims, *in_vals)\u001b[0m\n\u001b[1;32m    619\u001b[0m   in_tracers \u001b[38;5;241m=\u001b[39m \u001b[38;5;28mmap\u001b[39m(partial(to_elt, trace, idx), in_vals, in_dims)\n\u001b[1;32m    620\u001b[0m   \u001b[38;5;28;01mwith\u001b[39;00m (core\u001b[38;5;241m.\u001b[39mset_current_trace(trace),\n\u001b[1;32m    621\u001b[0m         core\u001b[38;5;241m.\u001b[39mextend_axis_env_nd([(axis_data\u001b[38;5;241m.\u001b[39mname, axis_data\u001b[38;5;241m.\u001b[39msize)]),\n\u001b[1;32m    622\u001b[0m         core\u001b[38;5;241m.\u001b[39madd_spmd_axis_names(axis_data\u001b[38;5;241m.\u001b[39mspmd_name)):\n\u001b[0;32m--> 623\u001b[0m     outs \u001b[38;5;241m=\u001b[39m f(\u001b[38;5;241m*\u001b[39min_tracers)\n\u001b[1;32m    625\u001b[0m out_dim_dests \u001b[38;5;241m=\u001b[39m out_dim_dests() \u001b[38;5;28;01mif\u001b[39;00m \u001b[38;5;28mcallable\u001b[39m(out_dim_dests) \u001b[38;5;28;01melse\u001b[39;00m out_dim_dests\n\u001b[1;32m    626\u001b[0m out_vals \u001b[38;5;241m=\u001b[39m \u001b[38;5;28mmap\u001b[39m(partial(from_elt, trace, axis_data\u001b[38;5;241m.\u001b[39msize,\n\u001b[1;32m    627\u001b[0m                        axis_data\u001b[38;5;241m.\u001b[39mexplicit_mesh_axis),\n\u001b[1;32m    628\u001b[0m                \u001b[38;5;28mrange\u001b[39m(\u001b[38;5;28mlen\u001b[39m(outs)), outs, out_dim_dests)\n",
      "File \u001b[0;32m~/libraries/anaconda3/lib/python3.11/site-packages/jax/_src/interpreters/batching.py:342\u001b[0m, in \u001b[0;36mflatten_fun_for_vmap\u001b[0;34m(f, store, in_tree, *args_flat)\u001b[0m\n\u001b[1;32m    338\u001b[0m \u001b[38;5;129m@lu\u001b[39m\u001b[38;5;241m.\u001b[39mtransformation_with_aux2\n\u001b[1;32m    339\u001b[0m \u001b[38;5;28;01mdef\u001b[39;00m \u001b[38;5;21mflatten_fun_for_vmap\u001b[39m(f: Callable,\n\u001b[1;32m    340\u001b[0m                          store: lu\u001b[38;5;241m.\u001b[39mStore, in_tree: PyTreeDef, \u001b[38;5;241m*\u001b[39margs_flat):\n\u001b[1;32m    341\u001b[0m   py_args, py_kwargs \u001b[38;5;241m=\u001b[39m tree_unflatten(in_tree, args_flat)\n\u001b[0;32m--> 342\u001b[0m   ans \u001b[38;5;241m=\u001b[39m f(\u001b[38;5;241m*\u001b[39mpy_args, \u001b[38;5;241m*\u001b[39m\u001b[38;5;241m*\u001b[39mpy_kwargs)\n\u001b[1;32m    343\u001b[0m   ans, out_tree \u001b[38;5;241m=\u001b[39m tree_flatten(ans, is_leaf\u001b[38;5;241m=\u001b[39mis_vmappable)\n\u001b[1;32m    344\u001b[0m   store\u001b[38;5;241m.\u001b[39mstore(out_tree)\n",
      "File \u001b[0;32m~/libraries/anaconda3/lib/python3.11/site-packages/jax/_src/linear_util.py:388\u001b[0m, in \u001b[0;36m_get_result_paths_thunk\u001b[0;34m(_fun, _store, *args, **kwargs)\u001b[0m\n\u001b[1;32m    386\u001b[0m \u001b[38;5;129m@transformation_with_aux2\u001b[39m\n\u001b[1;32m    387\u001b[0m \u001b[38;5;28;01mdef\u001b[39;00m \u001b[38;5;21m_get_result_paths_thunk\u001b[39m(_fun: Callable, _store: Store, \u001b[38;5;241m*\u001b[39margs, \u001b[38;5;241m*\u001b[39m\u001b[38;5;241m*\u001b[39mkwargs):\n\u001b[0;32m--> 388\u001b[0m   ans \u001b[38;5;241m=\u001b[39m _fun(\u001b[38;5;241m*\u001b[39margs, \u001b[38;5;241m*\u001b[39m\u001b[38;5;241m*\u001b[39mkwargs)\n\u001b[1;32m    389\u001b[0m   result_paths \u001b[38;5;241m=\u001b[39m \u001b[38;5;28mtuple\u001b[39m(\u001b[38;5;124mf\u001b[39m\u001b[38;5;124m\"\u001b[39m\u001b[38;5;124mresult\u001b[39m\u001b[38;5;132;01m{\u001b[39;00m_clean_keystr_arg_names(path)\u001b[38;5;132;01m}\u001b[39;00m\u001b[38;5;124m\"\u001b[39m \u001b[38;5;28;01mfor\u001b[39;00m path, _ \u001b[38;5;129;01min\u001b[39;00m generate_key_paths(ans))\n\u001b[1;32m    390\u001b[0m   \u001b[38;5;28;01mif\u001b[39;00m _store:\n\u001b[1;32m    391\u001b[0m     \u001b[38;5;66;03m# In some instances a lu.WrappedFun is called multiple times, e.g.,\u001b[39;00m\n\u001b[1;32m    392\u001b[0m     \u001b[38;5;66;03m# the bwd function in a custom_vjp\u001b[39;00m\n",
      "File \u001b[0;32m~/Codes/QuantumEigenSolver/Python/QES/general_python/ml/net_impl/utils/net_utils_jax.py:537\u001b[0m, in \u001b[0;36mapply_callable_batched_jax.<locals>.compute_batch\u001b[0;34m(batch_states, batch_logps, batch_sampleps)\u001b[0m\n\u001b[1;32m    536\u001b[0m \u001b[38;5;28;01mdef\u001b[39;00m \u001b[38;5;21mcompute_batch\u001b[39m(batch_states, batch_logps, batch_sampleps):\n\u001b[0;32m--> 537\u001b[0m     \u001b[38;5;28;01mreturn\u001b[39;00m jax\u001b[38;5;241m.\u001b[39mvmap(compute_estimate, in_axes\u001b[38;5;241m=\u001b[39m(\u001b[38;5;241m0\u001b[39m, \u001b[38;5;241m0\u001b[39m, \u001b[38;5;241m0\u001b[39m))(batch_states, batch_logps, batch_sampleps)\n",
      "    \u001b[0;31m[... skipping hidden 1 frame]\u001b[0m\n",
      "File \u001b[0;32m~/libraries/anaconda3/lib/python3.11/site-packages/jax/_src/api.py:1017\u001b[0m, in \u001b[0;36mvmap.<locals>.vmap_f\u001b[0;34m(*args, **kwargs)\u001b[0m\n\u001b[1;32m   1014\u001b[0m \u001b[38;5;28;01mtry\u001b[39;00m:\n\u001b[1;32m   1015\u001b[0m   axis_data \u001b[38;5;241m=\u001b[39m batching\u001b[38;5;241m.\u001b[39mAxisData(axis_name, axis_size_, spmd_axis_name,\n\u001b[1;32m   1016\u001b[0m                                 explicit_mesh_axis)\n\u001b[0;32m-> 1017\u001b[0m   out_flat \u001b[38;5;241m=\u001b[39m batching\u001b[38;5;241m.\u001b[39mbatch(\n\u001b[1;32m   1018\u001b[0m       flat_fun, axis_data, in_axes_flat,\n\u001b[1;32m   1019\u001b[0m       \u001b[38;5;28;01mlambda\u001b[39;00m: flatten_axes(\u001b[38;5;124m\"\u001b[39m\u001b[38;5;124mvmap out_axes\u001b[39m\u001b[38;5;124m\"\u001b[39m, out_tree(), out_axes)\n\u001b[1;32m   1020\u001b[0m   )\u001b[38;5;241m.\u001b[39mcall_wrapped(\u001b[38;5;241m*\u001b[39margs_flat)\n\u001b[1;32m   1021\u001b[0m \u001b[38;5;28;01mexcept\u001b[39;00m batching\u001b[38;5;241m.\u001b[39mSpecMatchError \u001b[38;5;28;01mas\u001b[39;00m e:\n\u001b[1;32m   1022\u001b[0m   out_axes_flat \u001b[38;5;241m=\u001b[39m flatten_axes(\u001b[38;5;124m\"\u001b[39m\u001b[38;5;124mvmap out_axes\u001b[39m\u001b[38;5;124m\"\u001b[39m, out_tree(), out_axes)\n",
      "File \u001b[0;32m~/libraries/anaconda3/lib/python3.11/site-packages/jax/_src/linear_util.py:210\u001b[0m, in \u001b[0;36mWrappedFun.call_wrapped\u001b[0;34m(self, *args, **kwargs)\u001b[0m\n\u001b[1;32m    208\u001b[0m \u001b[38;5;28;01mdef\u001b[39;00m \u001b[38;5;21mcall_wrapped\u001b[39m(\u001b[38;5;28mself\u001b[39m, \u001b[38;5;241m*\u001b[39margs, \u001b[38;5;241m*\u001b[39m\u001b[38;5;241m*\u001b[39mkwargs):\n\u001b[1;32m    209\u001b[0m \u001b[38;5;250m  \u001b[39m\u001b[38;5;124;03m\"\"\"Calls the transformed function\"\"\"\u001b[39;00m\n\u001b[0;32m--> 210\u001b[0m   \u001b[38;5;28;01mreturn\u001b[39;00m \u001b[38;5;28mself\u001b[39m\u001b[38;5;241m.\u001b[39mf_transformed(\u001b[38;5;241m*\u001b[39margs, \u001b[38;5;241m*\u001b[39m\u001b[38;5;241m*\u001b[39mkwargs)\n",
      "File \u001b[0;32m~/libraries/anaconda3/lib/python3.11/site-packages/jax/_src/interpreters/batching.py:608\u001b[0m, in \u001b[0;36m_batch_outer\u001b[0;34m(f, axis_data, in_dims, *in_vals)\u001b[0m\n\u001b[1;32m    606\u001b[0m tag \u001b[38;5;241m=\u001b[39m TraceTag()\n\u001b[1;32m    607\u001b[0m \u001b[38;5;28;01mwith\u001b[39;00m source_info_util\u001b[38;5;241m.\u001b[39mtransform_name_stack(\u001b[38;5;124m'\u001b[39m\u001b[38;5;124mvmap\u001b[39m\u001b[38;5;124m'\u001b[39m):\n\u001b[0;32m--> 608\u001b[0m   outs, trace \u001b[38;5;241m=\u001b[39m f(tag, in_dims, \u001b[38;5;241m*\u001b[39min_vals)\n\u001b[1;32m    609\u001b[0m \u001b[38;5;28;01mwith\u001b[39;00m core\u001b[38;5;241m.\u001b[39mensure_no_leaks(trace): \u001b[38;5;28;01mdel\u001b[39;00m trace\n\u001b[1;32m    610\u001b[0m \u001b[38;5;28;01mreturn\u001b[39;00m outs\n",
      "File \u001b[0;32m~/libraries/anaconda3/lib/python3.11/site-packages/jax/_src/interpreters/batching.py:623\u001b[0m, in \u001b[0;36m_batch_inner\u001b[0;34m(f, axis_data, out_dim_dests, tag, in_dims, *in_vals)\u001b[0m\n\u001b[1;32m    619\u001b[0m   in_tracers \u001b[38;5;241m=\u001b[39m \u001b[38;5;28mmap\u001b[39m(partial(to_elt, trace, idx), in_vals, in_dims)\n\u001b[1;32m    620\u001b[0m   \u001b[38;5;28;01mwith\u001b[39;00m (core\u001b[38;5;241m.\u001b[39mset_current_trace(trace),\n\u001b[1;32m    621\u001b[0m         core\u001b[38;5;241m.\u001b[39mextend_axis_env_nd([(axis_data\u001b[38;5;241m.\u001b[39mname, axis_data\u001b[38;5;241m.\u001b[39msize)]),\n\u001b[1;32m    622\u001b[0m         core\u001b[38;5;241m.\u001b[39madd_spmd_axis_names(axis_data\u001b[38;5;241m.\u001b[39mspmd_name)):\n\u001b[0;32m--> 623\u001b[0m     outs \u001b[38;5;241m=\u001b[39m f(\u001b[38;5;241m*\u001b[39min_tracers)\n\u001b[1;32m    625\u001b[0m out_dim_dests \u001b[38;5;241m=\u001b[39m out_dim_dests() \u001b[38;5;28;01mif\u001b[39;00m \u001b[38;5;28mcallable\u001b[39m(out_dim_dests) \u001b[38;5;28;01melse\u001b[39;00m out_dim_dests\n\u001b[1;32m    626\u001b[0m out_vals \u001b[38;5;241m=\u001b[39m \u001b[38;5;28mmap\u001b[39m(partial(from_elt, trace, axis_data\u001b[38;5;241m.\u001b[39msize,\n\u001b[1;32m    627\u001b[0m                        axis_data\u001b[38;5;241m.\u001b[39mexplicit_mesh_axis),\n\u001b[1;32m    628\u001b[0m                \u001b[38;5;28mrange\u001b[39m(\u001b[38;5;28mlen\u001b[39m(outs)), outs, out_dim_dests)\n",
      "File \u001b[0;32m~/libraries/anaconda3/lib/python3.11/site-packages/jax/_src/interpreters/batching.py:342\u001b[0m, in \u001b[0;36mflatten_fun_for_vmap\u001b[0;34m(f, store, in_tree, *args_flat)\u001b[0m\n\u001b[1;32m    338\u001b[0m \u001b[38;5;129m@lu\u001b[39m\u001b[38;5;241m.\u001b[39mtransformation_with_aux2\n\u001b[1;32m    339\u001b[0m \u001b[38;5;28;01mdef\u001b[39;00m \u001b[38;5;21mflatten_fun_for_vmap\u001b[39m(f: Callable,\n\u001b[1;32m    340\u001b[0m                          store: lu\u001b[38;5;241m.\u001b[39mStore, in_tree: PyTreeDef, \u001b[38;5;241m*\u001b[39margs_flat):\n\u001b[1;32m    341\u001b[0m   py_args, py_kwargs \u001b[38;5;241m=\u001b[39m tree_unflatten(in_tree, args_flat)\n\u001b[0;32m--> 342\u001b[0m   ans \u001b[38;5;241m=\u001b[39m f(\u001b[38;5;241m*\u001b[39mpy_args, \u001b[38;5;241m*\u001b[39m\u001b[38;5;241m*\u001b[39mpy_kwargs)\n\u001b[1;32m    343\u001b[0m   ans, out_tree \u001b[38;5;241m=\u001b[39m tree_flatten(ans, is_leaf\u001b[38;5;241m=\u001b[39mis_vmappable)\n\u001b[1;32m    344\u001b[0m   store\u001b[38;5;241m.\u001b[39mstore(out_tree)\n",
      "File \u001b[0;32m~/libraries/anaconda3/lib/python3.11/site-packages/jax/_src/linear_util.py:388\u001b[0m, in \u001b[0;36m_get_result_paths_thunk\u001b[0;34m(_fun, _store, *args, **kwargs)\u001b[0m\n\u001b[1;32m    386\u001b[0m \u001b[38;5;129m@transformation_with_aux2\u001b[39m\n\u001b[1;32m    387\u001b[0m \u001b[38;5;28;01mdef\u001b[39;00m \u001b[38;5;21m_get_result_paths_thunk\u001b[39m(_fun: Callable, _store: Store, \u001b[38;5;241m*\u001b[39margs, \u001b[38;5;241m*\u001b[39m\u001b[38;5;241m*\u001b[39mkwargs):\n\u001b[0;32m--> 388\u001b[0m   ans \u001b[38;5;241m=\u001b[39m _fun(\u001b[38;5;241m*\u001b[39margs, \u001b[38;5;241m*\u001b[39m\u001b[38;5;241m*\u001b[39mkwargs)\n\u001b[1;32m    389\u001b[0m   result_paths \u001b[38;5;241m=\u001b[39m \u001b[38;5;28mtuple\u001b[39m(\u001b[38;5;124mf\u001b[39m\u001b[38;5;124m\"\u001b[39m\u001b[38;5;124mresult\u001b[39m\u001b[38;5;132;01m{\u001b[39;00m_clean_keystr_arg_names(path)\u001b[38;5;132;01m}\u001b[39;00m\u001b[38;5;124m\"\u001b[39m \u001b[38;5;28;01mfor\u001b[39;00m path, _ \u001b[38;5;129;01min\u001b[39;00m generate_key_paths(ans))\n\u001b[1;32m    390\u001b[0m   \u001b[38;5;28;01mif\u001b[39;00m _store:\n\u001b[1;32m    391\u001b[0m     \u001b[38;5;66;03m# In some instances a lu.WrappedFun is called multiple times, e.g.,\u001b[39;00m\n\u001b[1;32m    392\u001b[0m     \u001b[38;5;66;03m# the bwd function in a custom_vjp\u001b[39;00m\n",
      "File \u001b[0;32m~/Codes/QuantumEigenSolver/Python/QES/general_python/ml/net_impl/utils/net_utils_jax.py:523\u001b[0m, in \u001b[0;36mapply_callable_batched_jax.<locals>.compute_estimate\u001b[0;34m(state, logp, sample_p)\u001b[0m\n\u001b[1;32m    521\u001b[0m weighted_sum            \u001b[38;5;241m=\u001b[39m jnp\u001b[38;5;241m.\u001b[39msum(new_vals \u001b[38;5;241m*\u001b[39m weights, axis\u001b[38;5;241m=\u001b[39m\u001b[38;5;241m0\u001b[39m)\n\u001b[1;32m    522\u001b[0m output                  \u001b[38;5;241m=\u001b[39m jnp\u001b[38;5;241m.\u001b[39msum(weighted_sum, axis\u001b[38;5;241m=\u001b[39m\u001b[38;5;241m0\u001b[39m)\n\u001b[0;32m--> 523\u001b[0m \u001b[38;5;28;01mreturn\u001b[39;00m output\n",
      "File \u001b[0;32m~/Codes/QuantumEigenSolver/Python/QES/general_python/ml/net_impl/utils/net_utils_jax.py:523\u001b[0m, in \u001b[0;36mapply_callable_batched_jax.<locals>.compute_estimate\u001b[0;34m(state, logp, sample_p)\u001b[0m\n\u001b[1;32m    521\u001b[0m weighted_sum            \u001b[38;5;241m=\u001b[39m jnp\u001b[38;5;241m.\u001b[39msum(new_vals \u001b[38;5;241m*\u001b[39m weights, axis\u001b[38;5;241m=\u001b[39m\u001b[38;5;241m0\u001b[39m)\n\u001b[1;32m    522\u001b[0m output                  \u001b[38;5;241m=\u001b[39m jnp\u001b[38;5;241m.\u001b[39msum(weighted_sum, axis\u001b[38;5;241m=\u001b[39m\u001b[38;5;241m0\u001b[39m)\n\u001b[0;32m--> 523\u001b[0m \u001b[38;5;28;01mreturn\u001b[39;00m output\n",
      "File \u001b[0;32m_pydevd_bundle\\\\pydevd_cython.pyx:1697\u001b[0m, in \u001b[0;36m_pydevd_bundle.pydevd_cython.SafeCallWrapper.__call__\u001b[0;34m()\u001b[0m\n",
      "File \u001b[0;32m_pydevd_bundle\\\\pydevd_cython.pyx:634\u001b[0m, in \u001b[0;36m_pydevd_bundle.pydevd_cython.PyDBFrame.trace_dispatch\u001b[0;34m()\u001b[0m\n",
      "File \u001b[0;32m_pydevd_bundle\\\\pydevd_cython.pyx:1368\u001b[0m, in \u001b[0;36m_pydevd_bundle.pydevd_cython.PyDBFrame.trace_dispatch\u001b[0;34m()\u001b[0m\n",
      "File \u001b[0;32m_pydevd_bundle\\\\pydevd_cython.pyx:1311\u001b[0m, in \u001b[0;36m_pydevd_bundle.pydevd_cython.PyDBFrame.trace_dispatch\u001b[0;34m()\u001b[0m\n",
      "File \u001b[0;32m_pydevd_bundle\\\\pydevd_cython.pyx:494\u001b[0m, in \u001b[0;36m_pydevd_bundle.pydevd_cython.PyDBFrame.do_wait_suspend\u001b[0;34m()\u001b[0m\n",
      "File \u001b[0;32m~/libraries/anaconda3/lib/python3.11/site-packages/debugpy/_vendored/pydevd/pydevd.py:2185\u001b[0m, in \u001b[0;36mPyDB.do_wait_suspend\u001b[0;34m(self, thread, frame, event, arg, exception_type)\u001b[0m\n\u001b[1;32m   2182\u001b[0m             from_this_thread\u001b[38;5;241m.\u001b[39mappend(frame_custom_thread_id)\n\u001b[1;32m   2184\u001b[0m     \u001b[38;5;28;01mwith\u001b[39;00m \u001b[38;5;28mself\u001b[39m\u001b[38;5;241m.\u001b[39m_threads_suspended_single_notification\u001b[38;5;241m.\u001b[39mnotify_thread_suspended(thread_id, thread, stop_reason):\n\u001b[0;32m-> 2185\u001b[0m         keep_suspended \u001b[38;5;241m=\u001b[39m \u001b[38;5;28mself\u001b[39m\u001b[38;5;241m.\u001b[39m_do_wait_suspend(thread, frame, event, arg, trace_suspend_type, from_this_thread, frames_tracker)\n\u001b[1;32m   2187\u001b[0m frames_list \u001b[38;5;241m=\u001b[39m \u001b[38;5;28;01mNone\u001b[39;00m\n\u001b[1;32m   2189\u001b[0m \u001b[38;5;28;01mif\u001b[39;00m keep_suspended:\n\u001b[1;32m   2190\u001b[0m     \u001b[38;5;66;03m# This means that we should pause again after a set next statement.\u001b[39;00m\n",
      "File \u001b[0;32m~/libraries/anaconda3/lib/python3.11/site-packages/debugpy/_vendored/pydevd/pydevd.py:2254\u001b[0m, in \u001b[0;36mPyDB._do_wait_suspend\u001b[0;34m(self, thread, frame, event, arg, trace_suspend_type, from_this_thread, frames_tracker)\u001b[0m\n\u001b[1;32m   2251\u001b[0m                 queue\u001b[38;5;241m.\u001b[39mput(internal_cmd)\n\u001b[1;32m   2252\u001b[0m                 wait_timeout \u001b[38;5;241m=\u001b[39m TIMEOUT_FAST\n\u001b[0;32m-> 2254\u001b[0m         notify_event\u001b[38;5;241m.\u001b[39mwait(wait_timeout)\n\u001b[1;32m   2255\u001b[0m         notify_event\u001b[38;5;241m.\u001b[39mclear()\n\u001b[1;32m   2257\u001b[0m \u001b[38;5;28;01mfinally\u001b[39;00m:\n",
      "File \u001b[0;32m~/libraries/anaconda3/lib/python3.11/threading.py:622\u001b[0m, in \u001b[0;36mEvent.wait\u001b[0;34m(self, timeout)\u001b[0m\n\u001b[1;32m    620\u001b[0m signaled \u001b[38;5;241m=\u001b[39m \u001b[38;5;28mself\u001b[39m\u001b[38;5;241m.\u001b[39m_flag\n\u001b[1;32m    621\u001b[0m \u001b[38;5;28;01mif\u001b[39;00m \u001b[38;5;129;01mnot\u001b[39;00m signaled:\n\u001b[0;32m--> 622\u001b[0m     signaled \u001b[38;5;241m=\u001b[39m \u001b[38;5;28mself\u001b[39m\u001b[38;5;241m.\u001b[39m_cond\u001b[38;5;241m.\u001b[39mwait(timeout)\n\u001b[1;32m    623\u001b[0m \u001b[38;5;28;01mreturn\u001b[39;00m signaled\n",
      "File \u001b[0;32m~/libraries/anaconda3/lib/python3.11/threading.py:324\u001b[0m, in \u001b[0;36mCondition.wait\u001b[0;34m(self, timeout)\u001b[0m\n\u001b[1;32m    322\u001b[0m \u001b[38;5;28;01melse\u001b[39;00m:\n\u001b[1;32m    323\u001b[0m     \u001b[38;5;28;01mif\u001b[39;00m timeout \u001b[38;5;241m>\u001b[39m \u001b[38;5;241m0\u001b[39m:\n\u001b[0;32m--> 324\u001b[0m         gotit \u001b[38;5;241m=\u001b[39m waiter\u001b[38;5;241m.\u001b[39macquire(\u001b[38;5;28;01mTrue\u001b[39;00m, timeout)\n\u001b[1;32m    325\u001b[0m     \u001b[38;5;28;01melse\u001b[39;00m:\n\u001b[1;32m    326\u001b[0m         gotit \u001b[38;5;241m=\u001b[39m waiter\u001b[38;5;241m.\u001b[39macquire(\u001b[38;5;28;01mFalse\u001b[39;00m)\n",
      "\u001b[0;31mKeyboardInterrupt\u001b[0m: "
     ]
    }
   ],
   "source": [
    "from flax.training.train_state import TrainState\n",
    "import matplotlib.pyplot as plt\n",
    "import optax\n",
    "\n",
    "# try to train the network\n",
    "\n",
    "n_epo       = 150\n",
    "batch_size  = 10\n",
    "history     = []\n",
    "sr          = nqs.sr\n",
    "# Initialize the optimizer\n",
    "# lr          = optax.linear_schedule(init_value=0.001, end_value=0.0001, transition_steps=1000)\n",
    "# optimizer   = optax.adam(learning_rate=lr)\n",
    "lr          = 6e-3\n",
    "# Create a TrainState to manage the model parameters and optimizer state\n",
    "# train_state = TrainState.create(apply_fn=net.apply, params=net.get_params(), tx=optimizer)\n",
    "\n",
    "for i in range(n_epo):\n",
    "    print(f\"Epoch {i + 1}/{n_epo}\")\n",
    "    \n",
    "    # collect the samples\n",
    "    (states, logprobas), (configs, configs_ansatze), probabilities = nqs.sample()\n",
    "    print(f\"  Number of configurations: {configs.shape}\")\n",
    "    print(f\"  Configs and ansatze: {configs_ansatze.shape}\")\n",
    "    print(f\"  Number of states: {states.shape}\")\n",
    "    print(f\"  Number of probabilities: {probabilities.shape}\\n\")\n",
    "    \n",
    "    # collect the energies\n",
    "    (configs, ansatze), probabilities, (v, means, stds) = nqs.evaluate_fun(\n",
    "        states_and_psi  = (configs, configs_ansatze),\n",
    "        probabilities   = probabilities,\n",
    "        functions       = None,     # means that we evaluate energy\n",
    "        batch_size      = batch_size\n",
    "    )\n",
    "    # print(f\"  Energies: {v.shape}\")\n",
    "    # print(f\"  Mean energy: {means}, std: {stds}\")\n",
    "    # print(f\"  Configurations: {configs.shape}\")\n",
    "    \n",
    "    # get the gradients\n",
    "    # grad = nqs.gradient(states=configs, batch_size=batch_size)\n",
    "    \n",
    "    # try to calculate the stochastic reconfiguration\n",
    "    # sr.set_values(loss=v, derivatives=grad, mean_loss=means, mean_deriv=None, calculate_s=True, use_minsr=False)\n",
    "\n",
    "    # f = sr.forces\n",
    "    # s = sr.covariance_matrix\n",
    "    # print(f\"  Forces: {f.shape}\")\n",
    "    # if s is not None:\n",
    "        # print(f\"  Covariance matrix: {s.shape}\")\n",
    "    \n",
    "    # try to calculate the gradient through the stochastic reconfiguration\n",
    "    # s_inv   = jnp.linalg.pinv(s, rtol = 1e-3)\n",
    "    # print(f\"  Inverse covariance matrix: {s_inv.shape}\")\n",
    "    # df      = lr * jnp.dot(s_inv, f)\n",
    "    # df = jnp.linalg.solve(s, f)\n",
    "    # print(f\"  Gradient through the stochastic reconfiguration: {df.shape}\")\n",
    "    \n",
    "    # Update the network parameters using TrainState\n",
    "    \n",
    "    # new_params      = train_state.apply_gradients(grads={\"params\":df})\n",
    "    # nqs.update_parameters(df)\n",
    "    # updates, new_opt_state  = train_state.tx.update(df, train_state.opt_state, train_state.params)\n",
    "    # new_params              = optax.apply_updates(train_state.params, updates)\n",
    "    # train_state             = train_state.replace(params=new_params, opt_state=new_opt_state)\n",
    "    \n",
    "    # history.append(means)\n",
    "    \n",
    "\n",
    "plt.plot(history)\n",
    "\n",
    "# Number of configurations: (25, 10)\n",
    "# Configs and ansatze: (25, 1)\n",
    "# Number of states: (5, 10)\n",
    "# Number of probabilities: (25, 1)"
   ]
  },
  {
   "cell_type": "markdown",
   "metadata": {},
   "source": [
    "## Test flax networks"
   ]
  },
  {
   "cell_type": "code",
   "execution_count": 1,
   "metadata": {},
   "outputs": [
    {
     "name": "stderr",
     "output_type": "stream",
     "text": [
      "INFO:general_python.algebra.utils:63: JAX backend available and successfully imported\n",
      "INFO:general_python.algebra.utils:63: \tJAX 64-bit precision enabled.\n",
      "INFO:general_python.algebra.utils:262: Setting JAX as the active backend.\n",
      "INFO:general_python.algebra.utils:63: **************************************************\n",
      "INFO:general_python.algebra.utils:63: Backend Configuration:\n",
      "INFO:general_python.algebra.utils:63: \t\tNumPy Version: 1.26.4\n",
      "INFO:general_python.algebra.utils:63: \t\tSciPy Version: 1.13.1\n",
      "INFO:general_python.algebra.utils:63: \t\tJAX Version: 0.5.3\n",
      "INFO:general_python.algebra.utils:63: \t\tActive Backend: jax\n",
      "INFO:general_python.algebra.utils:63: \t\t\tJAX Available: True\n",
      "INFO:general_python.algebra.utils:63: \t\t\tDefault Seed: 42\n",
      "INFO:general_python.algebra.utils:63: \t\tJAX Backend Details:\n",
      "INFO:general_python.algebra.utils:63: \t\t\t\tMain Module: jax.numpy\n",
      "INFO:general_python.algebra.utils:63: \t\t\t\tRandom Module: jax.random (+ PRNGKey)\n",
      "INFO:general_python.algebra.utils:63: \t\t\t\tSciPy Module: jax.scipy\n",
      "INFO:general_python.algebra.utils:63: \t\t\t\tDefault JAX Key: PRNGKey(42)\n",
      "INFO:general_python.algebra.utils:63: \t\tActive Data Types:\n",
      "INFO:general_python.algebra.utils:63: \t\t\t\tInteger Type: int64\n",
      "INFO:general_python.algebra.utils:63: \t\t\t\tFloat Type: float64\n",
      "INFO:general_python.algebra.utils:63: \t\t\t\tComplex Type: complex128\n",
      "INFO:general_python.algebra.utils:63: \t\tHardware & Device Detection:\n",
      "INFO:general_python.algebra.utils:63: \t\t\tCPU Cores: 48\n",
      "INFO:general_python.algebra.utils:63: \t\t\tDetected JAX Platform: DETECTION FAILED\n",
      "INFO:general_python.algebra.utils:63: \t\tJAX Devices Found: Detection Failed or Not Run\n",
      "INFO:general_python.algebra.utils:63: **************************************************\n",
      "\n",
      "\n",
      "\n",
      "INFO:general_python.common.flog:241: Log file created: ./log/global.log\n",
      "INFO:general_python.common.flog:241: Log level set to: info\n",
      "INFO:general_python.common.flog:256: ########### Global logger initialized. ###########\n",
      "INFO:general_python.common.flog:241: \t->\u001b[34m[GeneralNet] Holomorphic check result (||∇Re[f] - i*∇Im[f]|| / ||∇Re[f]|| ≈ 0): True\u001b[0m\n",
      "INFO:general_python.common.flog:241: \t->\u001b[34m[GeneralNet] FlaxInterface initialized: dtype=complex128, is_complex=True, nparams=11, is_holomorphic=True\u001b[0m\n",
      "INFO:general_python.common.flog:241: \t->\u001b[0m[Transverse Field Ising Model] Building TFIM operator list...\u001b[0m\n",
      "INFO:general_python.common.flog:241: \t\t->\u001b[0m[Transverse Field Ising Model] Adding modifying operator Operator(Sx/L, eigval=1.0, type=Other) at site 0 (sites: [0]) with multiplier 0.5\u001b[0m\n",
      "INFO:general_python.common.flog:241: \t\t->\u001b[0m[Transverse Field Ising Model] Adding modifying operator Operator(Sx/L, eigval=1.0, type=Other) at site 1 (sites: [1]) with multiplier 0.5\u001b[0m\n",
      "INFO:general_python.common.flog:241: \t\t->\u001b[0m[Transverse Field Ising Model] Adding non-modifying operator Operator(Sz/L, eigval=1.0, type=Other) at site 0 (sites: [0]) with multiplier -0.5\u001b[0m\n",
      "INFO:general_python.common.flog:241: \t\t->\u001b[0m[Transverse Field Ising Model] Adding non-modifying operator Operator(Sz/L, eigval=1.0, type=Other) at site 1 (sites: [1]) with multiplier -0.5\u001b[0m\n",
      "INFO:general_python.common.flog:241: \t\t->\u001b[0m[Transverse Field Ising Model] Adding non-modifying operator Operator(Sz/C, eigval=1.0, type=Other) at site 0 (sites: [0, 1]) with multiplier 1.0\u001b[0m\n",
      "INFO:general_python.common.flog:241: \t\t->\u001b[0m[Transverse Field Ising Model] Adding non-modifying operator Operator(Sz/C, eigval=1.0, type=Other) at site 1 (sites: [1, 0]) with multiplier 1.0\u001b[0m\n",
      "WARNING:general_python.common.flog:241: \t\t->\u001b[32m[Transverse Field Ising Model] Max local changes set to 3\u001b[0m\n",
      "INFO:general_python.common.flog:241: \t\t->\u001b[0m[Transverse Field Ising Model] Successfully set local energy functions...\u001b[0m\n",
      "INFO:general_python.common.flog:241: \t->\u001b[0m[Transverse Field Ising Model] TFIM Hamiltonian initialized for 2 sites.\u001b[0m\n"
     ]
    }
   ],
   "source": [
    "import NQS.nqs as nqsmodule\n",
    "import Solver.MonteCarlo.sampler as Sampling\n",
    "from general_python.algebra.utils import get_backend\n",
    "from general_python.ml.net_impl.networks.net_rbm import RBM\n",
    "\n",
    "import numpy as np\n",
    "import jax.numpy as jnp\n",
    "\n",
    "#! Hamiltonian\n",
    "from Algebra.Model.Interacting.Spin.transverse_ising import TransverseFieldIsing\n",
    "from general_python.lattices.square import SquareLattice\n",
    "from general_python.lattices.lattice import LatticeBC\n",
    "\n",
    "# get random backend\n",
    "backend             = 'jax'\n",
    "seed                = 1234\n",
    "dtypex              = jnp.complex128\n",
    "be_modules          = get_backend(backend, random=True, seed=seed, scipy=True)\n",
    "backend_np, (rng, rng_k), backend_sp = be_modules if isinstance(be_modules, tuple) else (be_modules, (None, None), None)\n",
    "\n",
    "# get the network\n",
    "ns                  = 2\n",
    "st_shape            = (ns, )\n",
    "net                 =   RBM(\n",
    "    input_shape     = st_shape, \n",
    "    n_hidden        = 3,\n",
    "    dtype           = dtypex,\n",
    "    seed            = seed,\n",
    "    visible_bias    = True,\n",
    "    bias            = True\n",
    ")\n",
    "sampler             =   Sampling.MCSampler(\n",
    "    net             = net,\n",
    "    shape           = st_shape,\n",
    "    rng             = rng,\n",
    "    rng_k           = rng_k,\n",
    "    numchains       = 10,\n",
    "    numsamples      = 100,\n",
    "    sweep_steps     = ns,\n",
    "    backend         = backend_np,\n",
    "    therm_steps     = 25,\n",
    "    mu              = 2.0,\n",
    "    seed            = seed\n",
    ")\n",
    "\n",
    "# get the Hamiltonian\n",
    "ham_dtype           = jnp.float64\n",
    "lattice             =   SquareLattice(\n",
    "    dim             = 1, \n",
    "    lx              = ns, \n",
    "    ly              = 1, \n",
    "    lz              = 1, \n",
    "    bc              = LatticeBC.PBC\n",
    ")\n",
    "\n",
    "j                   = -1.0   \n",
    "g                   = -0.5   \n",
    "h                   = 0.5\n",
    "ham                 =   TransverseFieldIsing(\n",
    "    lattice         = lattice,\n",
    "    hilbert_space   = None,\n",
    "    j               = j,\n",
    "    hz              = h,\n",
    "    hx              = g,\n",
    "    dtype           = ham_dtype,\n",
    "    backend         = backend_np\n",
    ")\n",
    "\n",
    "nqs                 =   nqsmodule.NQS(\n",
    "    net             = net,\n",
    "    sampler         = sampler,\n",
    "    hamiltonian     = ham,\n",
    "    lower_betas     = None,\n",
    "    lower_states    = None,\n",
    "    seed            = seed,\n",
    "    beta            = 1.0,\n",
    "    mu              = sampler.get_mu(),\n",
    "    shape           = st_shape,\n",
    "    backend         = backend_np,\n",
    "    nthread         = 1,\n",
    "    batch_size      = 1\n",
    ")"
   ]
  },
  {
   "cell_type": "markdown",
   "metadata": {},
   "source": [
    "### Local energy"
   ]
  },
  {
   "cell_type": "code",
   "execution_count": 3,
   "metadata": {},
   "outputs": [
    {
     "name": "stdout",
     "output_type": "stream",
     "text": [
      "Integer state: 2\n",
      "[array([2, 0]), array([2, 3])]\n",
      "3 3\n",
      "3 3\n",
      "i= 0\n",
      "\tInt state: 2, Energy: -0.5\n",
      "\tInt state: 2, Jax state: [ 0.5 -0.5], Energy: -0.5\n",
      "i= 1\n",
      "\tInt state: 0, Energy: 0.25\n",
      "\tInt state: 0, Jax state: [-0.5 -0.5], Energy: 0.25\n",
      "i= 2\n",
      "\tInt state: 3, Energy: 0.25\n",
      "\tInt state: 3, Jax state: [0.5 0.5], Energy: 0.25\n"
     ]
    }
   ],
   "source": [
    "import general_python.common.binary as binary\n",
    "\n",
    "int_state       = np.random.randint(0, 2**ham.ns)\n",
    "print(f\"Integer state: {int_state}\")\n",
    "loc_energy_int  = []\n",
    "for i in range(ham.ns):\n",
    "    loc_energy_int.append(ham.loc_energy_int(int_state, i))\n",
    "loc_states_int  = [i[0] for i in loc_energy_int]\n",
    "loc_energy_int  = [i[1] for i in loc_energy_int]\n",
    "print(loc_states_int)\n",
    "# flatten the list\n",
    "loc_energy_int  = [item for sublist in loc_energy_int for item in sublist]\n",
    "loc_states_int  = [item for sublist in loc_states_int for item in sublist]\n",
    "loc_energy_int_l= [loc_energy_int[i] for i in range(len(loc_energy_int)) if loc_states_int[i] == int_state]\n",
    "loc_states_int_l= [loc_states_int[i] for i in range(len(loc_energy_int)) if loc_states_int[i] == int_state]\n",
    "loc_energy_int  = [loc_energy_int[i] for i in range(len(loc_states_int)) if loc_states_int[i] != int_state]\n",
    "loc_states_int  = [loc_states_int[i] for i in range(len(loc_states_int)) if loc_states_int[i] != int_state]\n",
    "loc_energy_int  = [np.sum(loc_energy_int_l)] + loc_energy_int \n",
    "loc_states_int  = [int_state] + loc_states_int\n",
    "\n",
    "jax_state       = binary.int2base(n = int_state, size = ham.ns, backend = 'np')\n",
    "jax_state       = jnp.array(jax_state, dtype=jnp.float64)\n",
    "loc_energy_jax  = ham.loc_energy_arr_jax(jax_state)\n",
    "loc_states_jax  = loc_energy_jax[0]\n",
    "loc_energy_jax  = loc_energy_jax[1]\n",
    "\n",
    "print(len(loc_energy_int), len(loc_energy_jax))\n",
    "print(len(loc_states_int), len(loc_states_jax))\n",
    "for i in range(len(loc_energy_int)):\n",
    "    print(\"i=\", i)\n",
    "    print(f\"\\tInt state: {loc_states_int[i]}, Energy: {loc_energy_int[i]}\")\n",
    "    print(f\"\\tInt state: {binary.base2int(loc_states_jax[i])}, Jax state: {loc_states_jax[i]}, Energy: {loc_energy_jax[i]}\")\n"
   ]
  },
  {
   "cell_type": "code",
   "execution_count": 5,
   "metadata": {},
   "outputs": [
    {
     "name": "stdout",
     "output_type": "stream",
     "text": [
      "(1, 2)\n",
      "\n",
      "Gradient Group: VisibleToHidden\n",
      "--------------------------------------------------\n",
      "\tBias - Numerical:\n",
      "\t[ 0.60353424+0.32537229j  0.47803027-0.48559712j -0.52198043+1.17321339j]\n",
      "\tShape: (3,), dtype: complex128\n",
      "\tBias - Analytical:\n",
      "\t[ 0.60353424+0.32537229j  0.47803027-0.48559712j -0.52198043+1.17321339j]\n",
      "\tShape: (3,), dtype: complex128\n",
      "\tBias Difference:\n",
      "\t[ 0.00000000e+00+5.55111512e-17j -5.55111512e-17+1.11022302e-16j\n",
      " -2.22044605e-16+4.44089210e-16j]\n",
      "\tKernel - Numerical:\n",
      "\t[[ 0.30176712+0.16268614j  0.23901514-0.24279856j -0.26099021+0.5866067j ]\n",
      " [-0.30176712-0.16268614j -0.23901514+0.24279856j  0.26099021-0.5866067j ]]\n",
      "\tShape: (2, 3), dtype: complex128\n",
      "\tKernel - Analytical:\n",
      "\t[[ 0.30176712+0.16268614j  0.23901514-0.24279856j -0.26099021+0.5866067j ]\n",
      " [-0.30176712-0.16268614j -0.23901514+0.24279856j  0.26099021-0.5866067j ]]\n",
      "\tShape: (2, 3), dtype: complex128\n",
      "\tKernel Difference:\n",
      "\t[[ 0.00000000e+00+2.77555756e-17j -2.77555756e-17+5.55111512e-17j\n",
      "  -1.11022302e-16+2.22044605e-16j]\n",
      " [ 0.00000000e+00-2.77555756e-17j  2.77555756e-17-5.55111512e-17j\n",
      "   1.11022302e-16-2.22044605e-16j]]\n",
      "\n",
      "Gradient Group: visible_bias\n",
      "--------------------------------------------------\n",
      "Numerical: [ 0.5+0.j -0.5+0.j]\n",
      "Analytical: [[ 0.5+0.j -0.5+0.j]]\n",
      "Numerical: [ 0.5+0.j -0.5+0.j]\n",
      "Difference: [[0.+0.j 0.+0.j]]\n"
     ]
    }
   ],
   "source": [
    "# gradient\n",
    "jax_state_reshape = jax_state.reshape(1, -1)\n",
    "# jax_state_reshape = jnp.array([jax_state, jax_state], dtype=jnp.float64)\n",
    "print(jax_state_reshape.shape)\n",
    "\n",
    "# get the gradient - numerical\n",
    "grad_num, shapes, sizes, is_cpx = nqs.gradient(states=jax_state_reshape, batch_size=1, params=net.get_params())\n",
    "grad_num                = nqs.transform_flat_params(grad_num[0], shapes, sizes, is_cpx)\n",
    "# print(\"Gradient - numerical:\", grad_num)\n",
    "# get the gradient - analytical\n",
    "grad_anal_f, params = net.get_gradient()\n",
    "grad_anal           = grad_anal_f(net.get_params(), jax_state_reshape)\n",
    "# print(\"Gradient - analytical:\", grad_anal)\n",
    "\n",
    "# compare\n",
    "for g, g_ in zip(grad_num, grad_anal):\n",
    "    print(f\"\\nGradient Group: {g}\")\n",
    "    print(\"-\" * 50)\n",
    "    \n",
    "    elem_num = grad_num[g]\n",
    "    elem_anal = grad_anal[g_]\n",
    "    \n",
    "    if 'bias' in elem_num:\n",
    "        bias_num = elem_num['bias']\n",
    "        bias_anal = elem_anal['bias'][0]\n",
    "        print(\"\\tBias - Numerical:\")\n",
    "        print(f\"\\t{bias_num}\")\n",
    "        print(f\"\\tShape: {bias_num.shape}, dtype: {bias_num.dtype}\")\n",
    "        print(\"\\tBias - Analytical:\")\n",
    "        print(f\"\\t{bias_anal}\")\n",
    "        print(f\"\\tShape: {bias_anal.shape}, dtype: {bias_anal.dtype}\")\n",
    "        bias_diff = bias_num - bias_anal\n",
    "        print(\"\\tBias Difference:\")\n",
    "        print(f\"\\t{bias_diff}\")\n",
    "    else:\n",
    "        print(f\"Numerical: {elem_num}\")\n",
    "    \n",
    "    if 'kernel' in elem_num:\n",
    "        kernel_num = elem_num['kernel']\n",
    "        kernel_anal = elem_anal['kernel'][0]\n",
    "        print(\"\\tKernel - Numerical:\")\n",
    "        print(f\"\\t{kernel_num}\")\n",
    "        print(f\"\\tShape: {kernel_num.shape}, dtype: {kernel_num.dtype}\")\n",
    "        print(\"\\tKernel - Analytical:\")\n",
    "        print(f\"\\t{kernel_anal}\")\n",
    "        print(f\"\\tShape: {kernel_anal.shape}, dtype: {kernel_anal.dtype}\")\n",
    "        kernel_diff = kernel_num - kernel_anal\n",
    "        print(\"\\tKernel Difference:\")\n",
    "        print(f\"\\t{kernel_diff}\")\n",
    "    else:\n",
    "        print(f\"Analytical: {elem_anal}\")\n",
    "        print(f\"Numerical: {elem_num}\")\n",
    "        print(f\"Difference: {elem_anal - elem_num}\")\n",
    "    \n",
    "    # print(\"\\nSummary for Group:\")\n",
    "    # print(f\"\\tNumerical: {elem_num}\")\n",
    "    # print(f\"\\tAnalytical: {elem_anal}\")\n",
    "    # print(\"-\" * 50)\n"
   ]
  },
  {
   "cell_type": "code",
   "execution_count": 6,
   "metadata": {},
   "outputs": [
    {
     "data": {
      "text/plain": [
       "{'VisibleToHidden': {'bias': Array([[ 0.60353424+0.32537229j,  0.47803027-0.48559712j,\n",
       "          -0.52198043+1.17321339j]], dtype=complex128),\n",
       "  'kernel': Array([[[ 0.30176712+0.16268614j,  0.23901514-0.24279856j,\n",
       "           -0.26099021+0.5866067j ],\n",
       "          [-0.30176712-0.16268614j, -0.23901514+0.24279856j,\n",
       "            0.26099021-0.5866067j ]]], dtype=complex128)},\n",
       " 'visible_bias': Array([[ 0.5+0.j, -0.5+0.j]], dtype=complex128)}"
      ]
     },
     "execution_count": 6,
     "metadata": {},
     "output_type": "execute_result"
    }
   ],
   "source": [
    "grad_anal"
   ]
  },
  {
   "cell_type": "markdown",
   "metadata": {},
   "source": [
    "### Sampler"
   ]
  },
  {
   "cell_type": "code",
   "execution_count": 9,
   "metadata": {},
   "outputs": [
    {
     "data": {
      "text/plain": [
       "MCSampler(shape=(10,), mu=2.0, beta=1.0, therm_steps=100, sweep_steps=20, numsamples=50, numchains=10, backend=jax)"
      ]
     },
     "execution_count": 9,
     "metadata": {},
     "output_type": "execute_result"
    }
   ],
   "source": [
    "sampler"
   ]
  },
  {
   "cell_type": "code",
   "execution_count": 6,
   "metadata": {},
   "outputs": [
    {
     "name": "stdout",
     "output_type": "stream",
     "text": [
      "Warning: Running sample with 5 chains (instance default is 1). State reinitialized for this call.\n",
      "[-0.5  0.5  0.5  0.5  0.5 -0.5 -0.5  0.5]\n",
      "121\n",
      "\n",
      "[ 0.5 -0.5  0.5  0.5  0.5 -0.5 -0.5  0.5]\n",
      "185\n",
      "\n",
      "Warning: Running sample with 5 chains (instance default is 1). State reinitialized for this call.\n",
      "[ 0.5  0.5 -0.5 -0.5 -0.5 -0.5  0.5  0.5]\n",
      "195\n",
      "\n",
      "[ 0.5 -0.5  0.5  0.5  0.5 -0.5 -0.5  0.5]\n",
      "185\n",
      "\n",
      "Warning: Running sample with 5 chains (instance default is 1). State reinitialized for this call.\n",
      "[-0.5  0.5  0.5  0.5  0.5 -0.5 -0.5  0.5]\n",
      "121\n",
      "\n",
      "[ 0.5  0.5 -0.5  0.5  0.5 -0.5 -0.5  0.5]\n",
      "217\n",
      "\n",
      "Warning: Running sample with 5 chains (instance default is 1). State reinitialized for this call.\n",
      "[-0.5 -0.5  0.5  0.5  0.5 -0.5 -0.5  0.5]\n",
      "57\n",
      "\n",
      "[-0.5 -0.5  0.5  0.5  0.5 -0.5 -0.5  0.5]\n",
      "57\n",
      "\n",
      "Warning: Running sample with 5 chains (instance default is 1). State reinitialized for this call.\n",
      "[ 0.5  0.5 -0.5  0.5 -0.5 -0.5  0.5 -0.5]\n",
      "210\n",
      "\n",
      "[ 0.5 -0.5 -0.5  0.5 -0.5 -0.5  0.5 -0.5]\n",
      "146\n",
      "\n",
      "Warning: Running sample with 5 chains (instance default is 1). State reinitialized for this call.\n",
      "[ 0.5 -0.5 -0.5 -0.5 -0.5 -0.5  0.5  0.5]\n",
      "131\n",
      "\n",
      "[-0.5  0.5 -0.5  0.5  0.5 -0.5 -0.5  0.5]\n",
      "89\n",
      "\n",
      "Warning: Running sample with 5 chains (instance default is 1). State reinitialized for this call.\n",
      "[ 0.5  0.5 -0.5  0.5 -0.5 -0.5 -0.5  0.5]\n",
      "209\n",
      "\n",
      "[ 0.5 -0.5  0.5 -0.5 -0.5 -0.5  0.5  0.5]\n",
      "163\n",
      "\n",
      "Warning: Running sample with 5 chains (instance default is 1). State reinitialized for this call.\n",
      "[ 0.5  0.5 -0.5 -0.5 -0.5 -0.5  0.5  0.5]\n",
      "195\n",
      "\n",
      "[ 0.5 -0.5 -0.5 -0.5 -0.5  0.5  0.5 -0.5]\n",
      "134\n",
      "\n",
      "Warning: Running sample with 5 chains (instance default is 1). State reinitialized for this call.\n",
      "[ 0.5 -0.5  0.5  0.5  0.5 -0.5 -0.5  0.5]\n",
      "185\n",
      "\n",
      "[ 0.5 -0.5  0.5 -0.5 -0.5 -0.5  0.5 -0.5]\n",
      "162\n",
      "\n",
      "Warning: Running sample with 5 chains (instance default is 1). State reinitialized for this call.\n",
      "[-0.5 -0.5  0.5  0.5  0.5 -0.5 -0.5  0.5]\n",
      "57\n",
      "\n",
      "[ 0.5  0.5 -0.5 -0.5 -0.5 -0.5  0.5  0.5]\n",
      "195\n",
      "\n",
      "Warning: Running sample with 5 chains (instance default is 1). State reinitialized for this call.\n",
      "[-0.5  0.5 -0.5 -0.5 -0.5  0.5  0.5 -0.5]\n",
      "70\n",
      "\n",
      "[-0.5  0.5  0.5  0.5  0.5 -0.5 -0.5  0.5]\n",
      "121\n",
      "\n",
      "Warning: Running sample with 5 chains (instance default is 1). State reinitialized for this call.\n",
      "[-0.5 -0.5  0.5  0.5  0.5 -0.5 -0.5  0.5]\n",
      "57\n",
      "\n",
      "[ 0.5  0.5  0.5  0.5  0.5 -0.5 -0.5  0.5]\n",
      "249\n",
      "\n",
      "Warning: Running sample with 5 chains (instance default is 1). State reinitialized for this call.\n",
      "[-0.5  0.5  0.5  0.5  0.5 -0.5 -0.5  0.5]\n",
      "121\n",
      "\n",
      "[-0.5  0.5  0.5  0.5  0.5 -0.5 -0.5  0.5]\n",
      "121\n",
      "\n",
      "Warning: Running sample with 5 chains (instance default is 1). State reinitialized for this call.\n",
      "[-0.5  0.5  0.5  0.5  0.5 -0.5 -0.5  0.5]\n",
      "121\n",
      "\n",
      "[ 0.5 -0.5 -0.5 -0.5 -0.5  0.5  0.5  0.5]\n",
      "135\n",
      "\n",
      "Warning: Running sample with 5 chains (instance default is 1). State reinitialized for this call.\n",
      "[ 0.5  0.5 -0.5 -0.5 -0.5 -0.5  0.5  0.5]\n",
      "195\n",
      "\n",
      "[ 0.5  0.5  0.5  0.5  0.5 -0.5 -0.5  0.5]\n",
      "249\n",
      "\n",
      "Warning: Running sample with 5 chains (instance default is 1). State reinitialized for this call.\n",
      "[-0.5  0.5  0.5  0.5  0.5 -0.5 -0.5  0.5]\n",
      "121\n",
      "\n",
      "[ 0.5  0.5  0.5  0.5  0.5 -0.5 -0.5  0.5]\n",
      "249\n",
      "\n",
      "Warning: Running sample with 5 chains (instance default is 1). State reinitialized for this call.\n",
      "[ 0.5 -0.5  0.5  0.5  0.5 -0.5 -0.5  0.5]\n",
      "185\n",
      "\n",
      "[-0.5 -0.5  0.5  0.5  0.5 -0.5 -0.5  0.5]\n",
      "57\n",
      "\n",
      "Warning: Running sample with 5 chains (instance default is 1). State reinitialized for this call.\n",
      "[ 0.5 -0.5 -0.5 -0.5 -0.5 -0.5  0.5 -0.5]\n",
      "130\n",
      "\n",
      "[-0.5 -0.5  0.5  0.5  0.5 -0.5 -0.5  0.5]\n",
      "57\n",
      "\n",
      "Warning: Running sample with 5 chains (instance default is 1). State reinitialized for this call.\n",
      "[ 0.5 -0.5 -0.5 -0.5 -0.5 -0.5  0.5 -0.5]\n",
      "130\n",
      "\n",
      "[ 0.5  0.5 -0.5 -0.5 -0.5  0.5  0.5 -0.5]\n",
      "198\n",
      "\n",
      "Warning: Running sample with 5 chains (instance default is 1). State reinitialized for this call.\n",
      "[-0.5  0.5 -0.5 -0.5 -0.5  0.5  0.5 -0.5]\n",
      "70\n",
      "\n",
      "[ 0.5 -0.5 -0.5 -0.5 -0.5 -0.5  0.5 -0.5]\n",
      "130\n",
      "\n",
      "Warning: Running sample with 5 chains (instance default is 1). State reinitialized for this call.\n",
      "[-0.5  0.5  0.5  0.5  0.5 -0.5 -0.5 -0.5]\n",
      "120\n",
      "\n",
      "[ 0.5 -0.5 -0.5 -0.5 -0.5  0.5  0.5  0.5]\n",
      "135\n",
      "\n",
      "Warning: Running sample with 5 chains (instance default is 1). State reinitialized for this call.\n",
      "[-0.5  0.5 -0.5  0.5  0.5 -0.5 -0.5  0.5]\n",
      "89\n",
      "\n",
      "[ 0.5 -0.5  0.5  0.5  0.5 -0.5 -0.5  0.5]\n",
      "185\n",
      "\n",
      "Warning: Running sample with 5 chains (instance default is 1). State reinitialized for this call.\n",
      "[ 0.5  0.5 -0.5  0.5 -0.5 -0.5  0.5 -0.5]\n",
      "210\n",
      "\n",
      "[ 0.5 -0.5  0.5  0.5  0.5 -0.5 -0.5  0.5]\n",
      "185\n",
      "\n",
      "Warning: Running sample with 5 chains (instance default is 1). State reinitialized for this call.\n",
      "[-0.5  0.5  0.5  0.5  0.5 -0.5 -0.5  0.5]\n",
      "121\n",
      "\n",
      "[ 0.5  0.5 -0.5  0.5 -0.5 -0.5  0.5 -0.5]\n",
      "210\n",
      "\n",
      "Warning: Running sample with 5 chains (instance default is 1). State reinitialized for this call.\n",
      "[ 0.5  0.5  0.5  0.5  0.5 -0.5 -0.5  0.5]\n",
      "249\n",
      "\n",
      "[ 0.5 -0.5 -0.5 -0.5 -0.5 -0.5  0.5 -0.5]\n",
      "130\n",
      "\n",
      "The slowest run took 87.99 times longer than the fastest. This could mean that an intermediate result is being cached.\n",
      "31.8 ms ± 60.1 ms per loop (mean ± std. dev. of 5 runs, 5 loops each)\n",
      "Warning: Running sample with 5 chains (instance default is 1). State reinitialized for this call.\n"
     ]
    }
   ],
   "source": [
    "import general_python.common.binary as binary\n",
    "\n",
    "def do():\n",
    "    (states, logprobas), (configs, configs_ansatze), probabilities = sampler.sample(num_samples=5, num_chains=5)\n",
    "    for config in configs[:2]:\n",
    "        print(config)\n",
    "        print(binary.base2int(config))\n",
    "        print()\n",
    "%timeit -r 5 -n 5 do()\n",
    "(states, logprobas), (configs, configs_ansatze), probabilities = sampler.sample(num_samples=5, num_chains=5)"
   ]
  },
  {
   "cell_type": "code",
   "execution_count": 14,
   "metadata": {},
   "outputs": [
    {
     "data": {
      "text/plain": [
       "Array([[18.6798834 -1.86558764j],\n",
       "       [15.69267856+2.21329127j],\n",
       "       [14.17244331+0.12500862j],\n",
       "       [13.95725219+1.80972691j],\n",
       "       [15.69267856+2.21329127j],\n",
       "       [18.6798834 -1.86558764j],\n",
       "       [15.61151841+4.93667777j],\n",
       "       [14.07529593-1.64847355j],\n",
       "       [15.61151841+4.93667777j],\n",
       "       [15.61151841+4.93667777j],\n",
       "       [18.6798834 -1.86558764j],\n",
       "       [15.61151841+4.93667777j],\n",
       "       [13.95725219+1.80972691j],\n",
       "       [15.69267856+2.21329127j],\n",
       "       [15.61151841+4.93667777j],\n",
       "       [18.6798834 -1.86558764j],\n",
       "       [15.61151841+4.93667777j],\n",
       "       [15.61151841+4.93667777j],\n",
       "       [15.69267856+2.21329127j],\n",
       "       [15.61151841+4.93667777j],\n",
       "       [18.6798834 -1.86558764j],\n",
       "       [15.69267856+2.21329127j],\n",
       "       [15.69267856+2.21329127j],\n",
       "       [15.69267856+2.21329127j],\n",
       "       [15.61151841+4.93667777j]], dtype=complex128)"
      ]
     },
     "execution_count": 14,
     "metadata": {},
     "output_type": "execute_result"
    }
   ],
   "source": [
    "configs_ansatze"
   ]
  },
  {
   "cell_type": "code",
   "execution_count": 39,
   "metadata": {},
   "outputs": [
    {
     "data": {
      "text/plain": [
       "Array([18.6798834 -1.86558764j, 15.69267856+2.21329127j,\n",
       "       14.17244331+0.12500862j, 13.95725219+1.80972691j,\n",
       "       15.69267856+2.21329127j, 18.6798834 -1.86558764j,\n",
       "       15.61151841+4.93667777j, 14.07529593-1.64847355j,\n",
       "       15.61151841+4.93667777j, 15.61151841+4.93667777j,\n",
       "       18.6798834 -1.86558764j, 15.61151841+4.93667777j,\n",
       "       13.95725219+1.80972691j, 15.69267856+2.21329127j,\n",
       "       15.61151841+4.93667777j, 18.6798834 -1.86558764j,\n",
       "       15.61151841+4.93667777j, 15.61151841+4.93667777j,\n",
       "       15.69267856+2.21329127j, 15.61151841+4.93667777j,\n",
       "       18.6798834 -1.86558764j, 15.69267856+2.21329127j,\n",
       "       15.69267856+2.21329127j, 15.69267856+2.21329127j,\n",
       "       15.61151841+4.93667777j], dtype=complex128)"
      ]
     },
     "execution_count": 39,
     "metadata": {},
     "output_type": "execute_result"
    }
   ],
   "source": [
    "net.apply(net.get_params(), configs)"
   ]
  },
  {
   "cell_type": "code",
   "execution_count": 41,
   "metadata": {},
   "outputs": [
    {
     "data": {
      "text/plain": [
       "(Array([[ 0.5, -0.5, -0.5, -0.5, -0.5, -0.5,  0.5, -0.5],\n",
       "        [-0.5, -0.5, -0.5, -0.5, -0.5, -0.5,  0.5, -0.5],\n",
       "        [ 0.5,  0.5, -0.5, -0.5, -0.5, -0.5,  0.5, -0.5],\n",
       "        [ 0.5, -0.5,  0.5, -0.5, -0.5, -0.5,  0.5, -0.5],\n",
       "        [ 0.5, -0.5, -0.5,  0.5, -0.5, -0.5,  0.5, -0.5],\n",
       "        [ 0.5, -0.5, -0.5, -0.5,  0.5, -0.5,  0.5, -0.5],\n",
       "        [ 0.5, -0.5, -0.5, -0.5, -0.5,  0.5,  0.5, -0.5],\n",
       "        [ 0.5, -0.5, -0.5, -0.5, -0.5, -0.5, -0.5, -0.5],\n",
       "        [ 0.5, -0.5, -0.5, -0.5, -0.5, -0.5,  0.5,  0.5]], dtype=float64),\n",
       " Array([1.  , 0.25, 0.25, 0.25, 0.25, 0.25, 0.25, 0.25, 0.25], dtype=float64))"
      ]
     },
     "execution_count": 41,
     "metadata": {},
     "output_type": "execute_result"
    }
   ],
   "source": [
    "ham.loc_energy_arr_jax(configs[0])"
   ]
  },
  {
   "cell_type": "code",
   "execution_count": 11,
   "metadata": {},
   "outputs": [
    {
     "data": {
      "text/plain": [
       "Array([ 0.91516313+0.57772445j, -0.31803016+0.45393218j,\n",
       "        0.35917972-0.2530573j , -1.49635606+0.51852711j,\n",
       "       -0.65504546-0.24356749j, -0.68269731+0.4118519j ,\n",
       "       -0.65504546-0.24356749j, -1.80831796-0.79272133j,\n",
       "        0.10996583-0.29216746j, -1.87587348+0.25302836j,\n",
       "       -0.14254834-0.70061433j, -1.18537728+1.48183959j,\n",
       "       -0.49960058-0.46294056j, -1.5545093 +0.13250797j,\n",
       "       -2.45635418+0.54524098j, -0.44892884-0.42942401j,\n",
       "       -1.83103569+1.07336949j,  0.48243437-1.17153687j,\n",
       "       -1.5545093 +0.13250797j, -1.23676435-0.54330968j,\n",
       "       -1.47651997+0.39083993j, -0.17814042+0.06153394j,\n",
       "        0.35917972-0.2530573j , -1.5545093 +0.13250797j,\n",
       "       -1.5545093 +0.13250797j], dtype=complex128)"
      ]
     },
     "execution_count": 11,
     "metadata": {},
     "output_type": "execute_result"
    }
   ],
   "source": [
    "(configs, ansatze), probabilities, (v, means, stds) = nqs.evaluate_fun(\n",
    "    states_and_psi  = (configs, configs_ansatze),\n",
    "    probabilities   = probabilities,\n",
    "    functions       = None,     # means that we evaluate energy\n",
    "    batch_size      = batch_size\n",
    ")\n",
    "v"
   ]
  },
  {
   "cell_type": "code",
   "execution_count": 4,
   "metadata": {},
   "outputs": [
    {
     "data": {
      "text/plain": [
       "{'visible_bias': Array([ 0.00713442-2.02962283e-03j,  0.00028363-9.20228508e-03j,\n",
       "         0.00876348+3.92257908e-03j, -0.00241103+5.85689104e-03j,\n",
       "        -0.00406314-7.13418396e-06j, -0.00784153+2.16923983e-03j,\n",
       "         0.0035687 -3.32697455e-03j, -0.00345455+3.40241174e-03j,\n",
       "        -0.00643833+2.65361196e-04j,  0.00448199+3.04643919e-03j],      dtype=complex128),\n",
       " 'VisibleToHidden': {'kernel': Array([[ 0.27752265+0.216207j  , -0.54926973-0.27460565j,\n",
       "           0.37155939-0.52039374j,  0.25646177-0.17849029j,\n",
       "           0.46650467+0.01475198j,  0.01585693+0.13034685j,\n",
       "           0.05628175-0.12330804j,  0.57147166-0.15333435j,\n",
       "           0.48952495+0.45640557j, -0.86687389+0.12207581j,\n",
       "           0.78358692+0.00771538j, -0.2618848 -0.0422873j ,\n",
       "          -0.15197307+0.24755427j, -0.07850285-0.0944278j ,\n",
       "           0.536433  +0.65526505j,  0.27455783+0.37228609j,\n",
       "           0.27642373+0.34833611j,  0.19330493+0.34996769j,\n",
       "           0.22180166+0.29540316j,  0.72406886+0.08177003j],\n",
       "         [ 0.16246174+0.26733043j,  0.13328874-0.14524863j,\n",
       "           0.26577316-0.12908145j,  0.16827335+0.41347851j,\n",
       "           0.33632993-0.20800795j,  0.04471478+0.01414936j,\n",
       "           0.10142463+0.43175555j, -0.50068616-0.42602325j,\n",
       "          -0.30293976-0.23836822j,  0.31242961+0.38135187j,\n",
       "          -0.41252673-0.32712031j, -0.15376431+0.10969931j,\n",
       "           0.11964256-0.12498947j,  0.16243053-0.05683592j,\n",
       "           0.29120241-0.25192415j,  0.77594455+0.40887365j,\n",
       "           0.18723178+0.00963178j,  0.05572552+0.78919599j,\n",
       "          -0.35072089-0.46747234j, -0.27331874+0.05191481j],\n",
       "         [ 0.34888134-0.30735364j,  0.25579419+0.24635429j,\n",
       "           0.26158679-0.56031369j, -0.07212585-0.18433561j,\n",
       "           0.64405349-0.31584435j, -0.55987619-0.02070121j,\n",
       "          -0.1558157 +0.26995503j,  0.35923001+0.13536769j,\n",
       "           0.3399817 -0.33230127j,  0.43697736-0.85287712j,\n",
       "           0.34786408+0.43078539j,  0.41507803-0.4863679j ,\n",
       "           0.22634952+0.31279831j, -0.23517472-0.06871055j,\n",
       "           0.63040321+0.1961635j ,  0.21586407-0.26243969j,\n",
       "           0.39501968+0.46061723j, -0.36749947-0.03450026j,\n",
       "           0.53421262-0.13947614j, -0.08304627+0.16375127j],\n",
       "         [-0.03068798-0.33740266j,  0.50881109-0.22663088j,\n",
       "           0.32289343+0.2811746j ,  0.06596717+0.1700479j ,\n",
       "           0.27614202-0.60930546j,  0.09685288-0.55625318j,\n",
       "           0.43882011-0.13565365j,  0.25879408-0.29768614j,\n",
       "          -0.13277177+0.39869882j,  0.00753852+0.2108561j ,\n",
       "           0.15121685-0.03150107j,  0.02390666-0.32115772j,\n",
       "          -0.21719415+0.02611649j,  0.12591867+0.20261279j,\n",
       "           0.2928723 -0.19483101j,  0.40581034-0.27337048j,\n",
       "           0.00805523+0.26374678j, -0.08329371+0.22098806j,\n",
       "          -0.45070824-0.54126264j,  0.15318291+0.10131344j],\n",
       "         [ 0.5464641 -0.23395521j,  0.27423036+0.29104662j,\n",
       "           0.08093574+0.04259061j,  0.67528023+0.62015447j,\n",
       "           0.28084323+0.38210704j,  0.30747096-0.39500369j,\n",
       "           0.18260556+0.12288913j, -0.22210206-0.4877822j ,\n",
       "           0.05407115+0.10456033j, -0.05976861-0.04434459j,\n",
       "           0.14584456-0.13053212j,  0.16968922-0.63290949j,\n",
       "          -0.17848947-0.15810992j,  0.43477047-0.22833329j,\n",
       "           0.25070639+0.17516588j, -0.39654136+0.43471347j,\n",
       "           0.00658407-0.18792422j, -0.37861891+0.1375091j ,\n",
       "           0.17907137+0.27400988j,  0.15853265+0.15931873j],\n",
       "         [ 0.27227963-0.11378814j,  0.57028512-0.29641115j,\n",
       "           0.21025535+0.04146932j,  0.37538386+0.34079342j,\n",
       "           0.45235803+0.0263825j ,  0.38852503+0.1976235j ,\n",
       "           0.67034682-0.23948513j,  0.42109232+0.38151453j,\n",
       "          -0.07793003+0.09191848j,  0.39833622-0.01958227j,\n",
       "           0.41319198+0.06813642j,  0.42474638-0.25447497j,\n",
       "           0.18305062-0.26060628j, -0.06544466-0.14890654j,\n",
       "          -0.26718598-0.01404986j, -0.64003778-0.47127031j,\n",
       "          -0.18484338+0.29830018j, -0.48257355-0.31134905j,\n",
       "           0.06440583+0.40391447j, -0.24267555-0.37179761j],\n",
       "         [-0.23981132+0.40601596j, -0.4481863 -0.28413214j,\n",
       "          -0.07509847-0.23643312j,  0.39934654+0.09473368j,\n",
       "           0.16824656-0.23489701j, -0.37903584-0.37193801j,\n",
       "           0.12393482-0.25554586j, -0.27098158-0.09484552j,\n",
       "           0.09739868-0.03092525j,  0.2404815 +0.0803078j ,\n",
       "          -0.3797194 -0.18123606j,  0.16493246+0.10138334j,\n",
       "          -0.4705828 -0.18652102j,  0.03172539+0.33001404j,\n",
       "           0.47370687-0.00538402j, -0.06992997+0.14443176j,\n",
       "          -0.17116766+0.47827633j, -0.05180589-0.26519955j,\n",
       "           0.09299996-0.08196746j, -0.20237212-0.11178734j],\n",
       "         [-0.33164193-0.34308796j, -0.22942818-0.37124615j,\n",
       "           0.0691525 -0.00503991j, -0.40214455+0.24509912j,\n",
       "          -0.12363644-0.36813784j, -0.81271418-0.12837435j,\n",
       "          -0.45831827+0.41805516j,  0.70561239+0.12965074j,\n",
       "           0.00268394-0.15985425j,  0.29582551-0.15915749j,\n",
       "          -0.3315002 -0.55788362j,  0.11786995+0.23876357j,\n",
       "           0.18932294-0.43548688j, -0.15963553+0.45303085j,\n",
       "          -0.11910914-0.29232357j, -0.39120669-0.25995719j,\n",
       "           0.08759722+0.31237457j, -0.89105065-0.10716439j,\n",
       "           0.34360564-0.22113516j, -0.24594918-0.13042483j],\n",
       "         [ 0.35141639-0.43745653j, -0.08140772-0.3380527j ,\n",
       "          -0.24714336+0.21517502j, -0.45871315-0.00945576j,\n",
       "           0.01063073+0.18232957j, -0.90143181-0.44642397j,\n",
       "          -0.05342817+0.37924578j,  0.62205917+0.03803545j,\n",
       "          -0.39628812+0.33921913j, -0.14367706-0.37591448j,\n",
       "           0.08214442+0.4794763j , -0.03779137-0.38711444j,\n",
       "          -1.03729084+0.25630481j,  0.43124221+0.32214954j,\n",
       "           0.07614613-0.17826054j,  0.41766839-0.22733595j,\n",
       "          -0.4438213 +0.35164891j,  0.1335763 -0.02239622j,\n",
       "          -0.32205187+0.322394j  , -0.50733931+0.33980601j],\n",
       "         [-0.69732563-0.16941446j, -0.03988339-0.22221739j,\n",
       "           0.29235959+0.57789582j, -0.21201959-0.23466j   ,\n",
       "          -0.08745931+0.530517j  , -0.10132351-0.18920057j,\n",
       "           0.28283173+0.1154217j ,  0.15586403-0.02754914j,\n",
       "          -0.42355418-0.29009649j,  0.11756725-0.13577564j,\n",
       "          -0.51784017+0.68217624j, -0.24833676-0.07523003j,\n",
       "          -0.37326124+0.05884759j, -0.18680575-0.0702948j ,\n",
       "          -0.50523638+0.21535077j, -0.08495525-0.29391107j,\n",
       "          -0.08672053+0.04897336j, -0.28333791+0.9336268j ,\n",
       "           0.31325643+0.31907689j,  0.19610191-0.35068821j]],      dtype=complex128),\n",
       "  'bias': Array([-0.00556493+0.00365749j, -0.01627793-0.00382786j,\n",
       "          0.00533308-0.00355676j, -0.00108556+0.00396604j,\n",
       "         -0.00278683+0.00156797j, -0.0003721 +0.00151715j,\n",
       "          0.00519578+0.00317949j,  0.01079786+0.00433905j,\n",
       "          0.00090072+0.01595638j,  0.00027806-0.00714963j,\n",
       "         -0.00767116+0.00827395j, -0.00197924-0.0021359j ,\n",
       "          0.0052782 +0.01653742j, -0.00391764+0.00310852j,\n",
       "         -0.00160597+0.00556512j, -0.00298516-0.00250525j,\n",
       "          0.00427446-0.00931915j,  0.00655625-0.00846089j,\n",
       "         -0.01064452-0.01423862j,  0.00160991-0.00085869j],      dtype=complex128)}}"
      ]
     },
     "execution_count": 4,
     "metadata": {},
     "output_type": "execute_result"
    }
   ],
   "source": [
    "p = nqs.get_params().copy()\n",
    "p"
   ]
  },
  {
   "cell_type": "code",
   "execution_count": 5,
   "metadata": {},
   "outputs": [
    {
     "name": "stdout",
     "output_type": "stream",
     "text": [
      "[0.1+0.j 0.1+0.j 0.1+0.j 0.1+0.j 0.1+0.j 0.1+0.j 0.1+0.j 0.1+0.j 0.1+0.j\n",
      " 0.1+0.j]\n",
      "[0.10713442-2.02962283e-03j 0.10028363-9.20228508e-03j\n",
      " 0.10876348+3.92257908e-03j 0.09758897+5.85689104e-03j\n",
      " 0.09593686-7.13418396e-06j 0.09215847+2.16923983e-03j\n",
      " 0.1035687 -3.32697455e-03j 0.09654545+3.40241174e-03j\n",
      " 0.09356167+2.65361196e-04j 0.10448199+3.04643919e-03j]\n"
     ]
    }
   ],
   "source": [
    "params = net.get_params().copy()\n",
    "params['visible_bias'] = jnp.array([0.1] * ns, dtype=params['visible_bias'].dtype)\n",
    "nqs.update_parameters(params)\n",
    "print(params['visible_bias'])\n",
    "print(net.get_params()['visible_bias'])"
   ]
  },
  {
   "cell_type": "code",
   "execution_count": 38,
   "metadata": {},
   "outputs": [
    {
     "data": {
      "text/plain": [
       "Array([ 0.94120857-0.10290226j, -0.73771642+0.11764595j,\n",
       "       -0.53816196+0.14271611j, -2.0855181 +0.13888513j,\n",
       "       -0.73771642+0.11764595j,  0.94120857-0.10290226j,\n",
       "       -1.37233949-0.10431175j, -1.21971994-0.63267865j,\n",
       "       -1.37233949-0.10431175j, -1.37233949-0.10431175j,\n",
       "        0.94120857-0.10290226j, -1.37233949-0.10431175j,\n",
       "       -2.0855181 +0.13888513j, -0.73771642+0.11764595j,\n",
       "       -1.37233949-0.10431175j,  0.94120857-0.10290226j,\n",
       "       -1.37233949-0.10431175j, -1.37233949-0.10431175j,\n",
       "       -0.73771642+0.11764595j, -1.37233949-0.10431175j,\n",
       "        0.94120857-0.10290226j, -0.73771642+0.11764595j,\n",
       "       -0.73771642+0.11764595j, -0.73771642+0.11764595j,\n",
       "       -1.37233949-0.10431175j], dtype=complex128)"
      ]
     },
     "execution_count": 38,
     "metadata": {},
     "output_type": "execute_result"
    }
   ],
   "source": [
    "(configs, ansatze), probabilities, (v, means, stds) = nqs.evaluate_fun(\n",
    "    states_and_psi  = (configs, configs_ansatze),\n",
    "    probabilities   = probabilities,\n",
    "    functions       = None,     # means that we evaluate energy\n",
    "    batch_size      = batch_size\n",
    ")\n",
    "v"
   ]
  },
  {
   "cell_type": "code",
   "execution_count": 7,
   "metadata": {},
   "outputs": [
    {
     "data": {
      "text/plain": [
       "Array([ 0.0470032 -1.21166829j, -3.01126426+1.83255967j,\n",
       "       -1.5545093 +0.13250797j, -1.31732601-1.53537532j,\n",
       "       -2.1539422 -0.7265266j , -2.55471265+0.13455964j,\n",
       "       -0.3799551 -0.33403462j, -1.30148426+0.41703243j,\n",
       "       -0.81948284+0.34044119j, -2.70431041-0.35612593j,\n",
       "       -3.37333315-0.14032074j, -2.57112704-0.11418236j,\n",
       "       -1.80831796-0.79272133j, -3.49492312+0.09698022j,\n",
       "       -1.9372381 -0.27251941j, -0.65504546-0.24356749j,\n",
       "       -1.80831796-0.79272133j, -2.57112704-0.11418236j,\n",
       "       -0.79718268-0.78707271j, -0.67011846+0.55655092j,\n",
       "       -3.37333315-0.14032074j, -1.49746125+0.82986022j,\n",
       "       -1.30148426+0.41703243j, -1.76538099+0.64819279j,\n",
       "       -1.23654475-0.13352863j], dtype=complex128)"
      ]
     },
     "execution_count": 7,
     "metadata": {},
     "output_type": "execute_result"
    }
   ],
   "source": [
    "# set new parameters\n",
    "net.set_params(params=p)\n",
    "(configs, ansatze), probabilities, (v, means, stds) = nqs.evaluate_fun(\n",
    "    states_and_psi  = (configs, configs_ansatze),\n",
    "    probabilities   = probabilities,\n",
    "    functions       = None,     # means that we evaluate energy\n",
    "    batch_size      = batch_size\n",
    ")\n",
    "v"
   ]
  },
  {
   "cell_type": "markdown",
   "metadata": {},
   "source": [
    "### Train"
   ]
  },
  {
   "cell_type": "markdown",
   "metadata": {},
   "source": [
    "#### PINV"
   ]
  },
  {
   "cell_type": "code",
   "execution_count": 34,
   "metadata": {},
   "outputs": [
    {
     "data": {
      "text/plain": [
       "PseudoInverseSolver(type=PSEUDO_INVERSE, backend='jax')"
      ]
     },
     "execution_count": 34,
     "metadata": {},
     "output_type": "execute_result"
    }
   ],
   "source": [
    "import general_python.algebra.solvers as solvers \n",
    "\n",
    "solver_linalg = solvers.choose_solver(solver_id=solvers.SolverType.PSEUDO_INVERSE)\n",
    "solver_linalg_func = solver_linalg.get_solver_func(backend_module=backend_np)\n",
    "solver_linalg"
   ]
  },
  {
   "cell_type": "code",
   "execution_count": 43,
   "metadata": {},
   "outputs": [
    {
     "ename": "TypeError",
     "evalue": "_cg_logic_jax_core() got an unexpected keyword argument 'A'",
     "output_type": "error",
     "traceback": [
      "\u001b[31m---------------------------------------------------------------------------\u001b[39m",
      "\u001b[31mTypeError\u001b[39m                                 Traceback (most recent call last)",
      "\u001b[36mCell\u001b[39m\u001b[36m \u001b[39m\u001b[32mIn[43]\u001b[39m\u001b[32m, line 12\u001b[39m\n\u001b[32m     10\u001b[39m reg      = \u001b[32m1e-10\u001b[39m\n\u001b[32m     11\u001b[39m tol      = \u001b[32m1e-3\u001b[39m\n\u001b[32m---> \u001b[39m\u001b[32m12\u001b[39m solution = \u001b[43msolver_linalg_func\u001b[49m\u001b[43m(\u001b[49m\u001b[43mmatvec\u001b[49m\u001b[43m=\u001b[49m\u001b[43mmatvec\u001b[49m\u001b[43m,\u001b[49m\u001b[43m \u001b[49m\u001b[43mb\u001b[49m\u001b[43m=\u001b[49m\u001b[43mvector\u001b[49m\u001b[43m,\u001b[49m\u001b[43m \u001b[49m\u001b[43mx0\u001b[49m\u001b[43m=\u001b[49m\u001b[38;5;28;43;01mNone\u001b[39;49;00m\u001b[43m,\u001b[49m\n\u001b[32m     13\u001b[39m \u001b[43m                            \u001b[49m\u001b[43mtol\u001b[49m\u001b[43m=\u001b[49m\u001b[43mtol\u001b[49m\u001b[43m,\u001b[49m\u001b[43m \u001b[49m\u001b[43msigma\u001b[49m\u001b[43m=\u001b[49m\u001b[43mreg\u001b[49m\u001b[43m,\u001b[49m\u001b[43m \u001b[49m\u001b[43mA\u001b[49m\u001b[43m=\u001b[49m\u001b[43mmatrix\u001b[49m\u001b[43m)\u001b[49m\n\u001b[32m     14\u001b[39m get_ipython().run_line_magic(\u001b[33m'\u001b[39m\u001b[33mtimeit\u001b[39m\u001b[33m'\u001b[39m, \u001b[33m'\u001b[39m\u001b[33m-r 5 -n 5 solver_linalg_func(matvec=matvec, b=vector, x0=None, tol=tol, sigma=reg, A=matrix)\u001b[39m\u001b[33m'\u001b[39m)\n\u001b[32m     15\u001b[39m \u001b[38;5;66;03m# Solve the linear system Ax = b\u001b[39;00m\n\u001b[32m     16\u001b[39m \u001b[38;5;66;03m# solution = solver_linalg_func(matrix, vector)\u001b[39;00m\n",
      "    \u001b[31m[... skipping hidden 15 frame]\u001b[39m\n",
      "\u001b[36mFile \u001b[39m\u001b[32m~/miniconda3/lib/python3.12/site-packages/jax/_src/linear_util.py:388\u001b[39m, in \u001b[36m_get_result_paths_thunk\u001b[39m\u001b[34m(_fun, _store, *args, **kwargs)\u001b[39m\n\u001b[32m    386\u001b[39m \u001b[38;5;129m@transformation_with_aux2\u001b[39m\n\u001b[32m    387\u001b[39m \u001b[38;5;28;01mdef\u001b[39;00m\u001b[38;5;250m \u001b[39m\u001b[34m_get_result_paths_thunk\u001b[39m(_fun: Callable, _store: Store, *args, **kwargs):\n\u001b[32m--> \u001b[39m\u001b[32m388\u001b[39m   ans = \u001b[43m_fun\u001b[49m\u001b[43m(\u001b[49m\u001b[43m*\u001b[49m\u001b[43margs\u001b[49m\u001b[43m,\u001b[49m\u001b[43m \u001b[49m\u001b[43m*\u001b[49m\u001b[43m*\u001b[49m\u001b[43mkwargs\u001b[49m\u001b[43m)\u001b[49m\n\u001b[32m    389\u001b[39m   result_paths = \u001b[38;5;28mtuple\u001b[39m(\u001b[33mf\u001b[39m\u001b[33m\"\u001b[39m\u001b[33mresult\u001b[39m\u001b[38;5;132;01m{\u001b[39;00m_clean_keystr_arg_names(path)\u001b[38;5;132;01m}\u001b[39;00m\u001b[33m\"\u001b[39m \u001b[38;5;28;01mfor\u001b[39;00m path, _ \u001b[38;5;129;01min\u001b[39;00m generate_key_paths(ans))\n\u001b[32m    390\u001b[39m   \u001b[38;5;28;01mif\u001b[39;00m _store:\n\u001b[32m    391\u001b[39m     \u001b[38;5;66;03m# In some instances a lu.WrappedFun is called multiple times, e.g.,\u001b[39;00m\n\u001b[32m    392\u001b[39m     \u001b[38;5;66;03m# the bwd function in a custom_vjp\u001b[39;00m\n",
      "\u001b[31mTypeError\u001b[39m: _cg_logic_jax_core() got an unexpected keyword argument 'A'"
     ]
    }
   ],
   "source": [
    "import jax\n",
    "n               = 100\n",
    "random_matrix   = jnp.array(npr.normal(size=(n, n)), dtype=jnp.float64)\n",
    "matrix          = (random_matrix + random_matrix.T) / 2  # Make the matrix symmetric\n",
    "vector          = jnp.array(npr.normal(size=(n,)), dtype=jnp.float64)\n",
    "\n",
    "@jax.jit\n",
    "def matvec(x):\n",
    "    return jnp.dot(matrix, x)\n",
    "reg      = 1e-10\n",
    "tol      = 1e-3\n",
    "solution = solver_linalg_func(matvec=matvec, b=vector, x0=None,\n",
    "                            tol=tol, sigma=reg, A=matrix)\n",
    "%timeit -r 5 -n 5 solver_linalg_func(matvec=matvec, b=vector, x0=None, tol=tol, sigma=reg, A=matrix)\n",
    "# Solve the linear system Ax = b\n",
    "# solution = solver_linalg_func(matrix, vector)\n",
    "matrix @ solution[0] - vector"
   ]
  },
  {
   "cell_type": "code",
   "execution_count": 30,
   "metadata": {},
   "outputs": [
    {
     "data": {
      "text/plain": [
       "(Array([-0.51009919, -1.13827084,  1.38490093, -0.76373072, -4.91406563,\n",
       "        -4.55746828,  0.60825382,  0.92826089,  1.05174972,  0.38117243,\n",
       "         1.59589283,  1.12060681, -1.94867978, -1.43020243, -2.49851872,\n",
       "         2.10095628,  0.48797312,  0.79484088, -1.84701967, -4.66387679,\n",
       "        -2.85861093, -3.62848639, -0.06277192, -2.88821775, -2.99859368,\n",
       "         0.0860317 , -0.98141346, -0.45050177,  1.59559612, -1.21334579,\n",
       "        -2.5241997 ,  1.80995727, -2.2873362 , -1.13969718, -0.33272724,\n",
       "         0.81509173, -0.97777551, -2.76646344,  5.24850341, -4.28642969,\n",
       "         3.17493168,  0.11796758, -1.62817599,  0.06819563,  4.37750936,\n",
       "        -0.41253181, -1.62493346, -1.33458047,  1.49097311,  1.2472017 ],      dtype=float64),\n",
       " Array(7.32016106e-14, dtype=float64))"
      ]
     },
     "execution_count": 30,
     "metadata": {},
     "output_type": "execute_result"
    }
   ],
   "source": [
    "solution"
   ]
  },
  {
   "cell_type": "markdown",
   "metadata": {},
   "source": [
    "#### OTHER"
   ]
  },
  {
   "cell_type": "code",
   "execution_count": 2,
   "metadata": {},
   "outputs": [
    {
     "name": "stderr",
     "output_type": "stream",
     "text": [
      "INFO:general_python.common.flog:241: \t->\u001b[33m[Jacobi Preconditioner] Resetting backend to: <module 'jax.numpy' from '/Users/makskliczkowski/miniconda3/lib/python3.12/site-packages/jax/numpy/__init__.py'>\u001b[0m\n"
     ]
    },
    {
     "data": {
      "text/plain": [
       "Jacobi Preconditioner(sigma=1e-06, backend='<module 'jax.numpy' from '/Users/makskliczkowski/miniconda3/lib/python3.12/site-packages/jax/numpy/__init__.py'>', type=PreconditionersTypeSym.JACOBI, tol_small=1e-13)"
      ]
     },
     "execution_count": 2,
     "metadata": {},
     "output_type": "execute_result"
    }
   ],
   "source": [
    "import general_python.algebra.solvers as solvers \n",
    "import general_python.algebra.preconditioners as preconditioners\n",
    "\n",
    "#! SOLVER\n",
    "solver_linalg       = solvers.choose_solver(solver_id=solvers.SolverType.SCIPY_CG)\n",
    "solver_linalg_func  = solver_linalg.get_solver_func(backend_module=backend_np,\n",
    "                                        use_matvec=False, use_matrix=True, sigma=None)\n",
    "reg                 = 1e-6\n",
    "\n",
    "#! PRECONDITIONER\n",
    "precond             = preconditioners.choose_precond(precond_id =   preconditioners.PreconditionersTypeSym.JACOBI,\n",
    "                                                    backend     =   backend_np)\n",
    "precond.sigma       = reg\n",
    "precond"
   ]
  },
  {
   "cell_type": "code",
   "execution_count": 3,
   "metadata": {},
   "outputs": [
    {
     "name": "stderr",
     "output_type": "stream",
     "text": [
      "INFO:general_python.common.flog:241: \t\t->\u001b[33m[Jacobi Preconditioner] JIT compiling apply_mat(r, A, sigma, ...) function...\u001b[0m\n"
     ]
    },
    {
     "name": "stdout",
     "output_type": "stream",
     "text": [
      "<function <lambda> at 0x17f6e6660>\n",
      "The slowest run took 12.50 times longer than the fastest. This could mean that an intermediate result is being cached.\n",
      "299 μs ± 151 μs per loop (mean ± std. dev. of 10 runs, 5 loops each)\n",
      "Residual: [-6.30714814e-10 -6.55145771e-10  3.43243878e-10  4.91709340e-10\n",
      " -3.57597507e-10]\n",
      "My solution: [-7.76622243  0.72671445  1.97910513 -1.22578507  2.016321  ]\n",
      "Solution: [-7.76622243  0.72671445  1.97910513 -1.22578507  2.016321  ]\n",
      "Residual: [-6.30714814e-10 -6.55145771e-10  3.43243878e-10  4.91709340e-10\n",
      " -3.57597507e-10]\n",
      "4.74 μs ± 1.06 μs per loop (mean ± std. dev. of 5 runs, 5 loops each)\n"
     ]
    },
    {
     "data": {
      "text/plain": [
       "(Array([ -7.76622243,   0.72671445,   1.97910513,  -1.22578507,\n",
       "          2.016321  ,   0.21227475,  -1.85724416,   1.60958386,\n",
       "          1.48723001,   4.31676042,   3.72906002,  -1.05431636,\n",
       "          7.14502259,  -7.67373255, -10.35818043,   3.5885926 ,\n",
       "          2.22463235,   1.096466  ,  -9.07471448,  -3.08740329,\n",
       "          2.16159704,   5.46523273,  -0.42984191,  -5.77260273,\n",
       "         -2.84225687,   6.19112667,   2.23585466,  -0.1947666 ,\n",
       "         -2.31817382,  -0.22715961,   4.89406835,  -2.30020543,\n",
       "          0.03679119,  -5.73749124,  -4.90366771,   5.65817617,\n",
       "         -3.47990407,  -4.4944204 ,   3.01287222,  11.96411513,\n",
       "         -0.5238164 ,  -0.28023917,  -0.62656649,  -6.68216904,\n",
       "         -4.47045281,  -0.43314026,  -1.37922052,   1.62372135,\n",
       "        -13.27522076,  -0.9364213 ,   1.38309125,   0.11086236,\n",
       "         -2.41429836,  -4.07973459,  -0.61258859,  -4.62716756,\n",
       "          2.03713312,  14.23914827,   1.24476626,  -3.70469612,\n",
       "         -2.54577529,  -4.10895826,   4.93556774,  -5.49463532,\n",
       "          5.99080588,  -1.67852421,  -2.46339685,  -3.71106892,\n",
       "         -5.94834282,  -2.12926397,  -6.34182942,  -6.77637835,\n",
       "         -0.62262403,   5.36186626,   3.34091312,   7.81256012,\n",
       "          4.34278008,   4.591673  ,  -4.961     ,   0.34878465,\n",
       "          0.78435779,   4.4100431 ,   0.3208736 ,   6.48904153,\n",
       "          0.02712186,  -1.30442612,  -0.80642166,   2.29263419,\n",
       "          5.53186165,  -5.46250149,  -0.82580459,  -2.20898604,\n",
       "          6.09235492,   3.49189694,   5.27237373,   1.5689938 ,\n",
       "          1.32403638,   2.61188964,  -6.04380287,   3.25263016],      dtype=float64),\n",
       " None)"
      ]
     },
     "execution_count": 3,
     "metadata": {},
     "output_type": "execute_result"
    }
   ],
   "source": [
    "import jax\n",
    "import jax.numpy as jnp\n",
    "import numpy.random as npr\n",
    "\n",
    "n               = 100\n",
    "random_matrix   = jnp.array(npr.normal(size=(n, n)), dtype=jnp.float64)\n",
    "matrix          = (random_matrix + random_matrix.T) / 2  # Make the matrix symmetric\n",
    "vector          = jnp.array(npr.normal(size=(n,)), dtype=jnp.float64)\n",
    "\n",
    "#! set the preconditioner\n",
    "precond_func    = precond.get_apply_mat()\n",
    "precond_func    = lambda r, a: r\n",
    "print(precond_func)\n",
    "\n",
    "\n",
    "\n",
    "tol      = 1e-9\n",
    "maxiter  = 2000\n",
    "solution = solver_linalg_func(\n",
    "        a               =   matrix,\n",
    "        precond_apply   =   precond_func,\n",
    "        b               =   vector, \n",
    "        x0              =   jnp.zeros_like(vector),\n",
    "        tol             =   tol, \n",
    "        maxiter         =   maxiter)\n",
    "%timeit -r 10 -n 5 solver_linalg_func(a=matrix, precond_apply=precond_func, b=vector, x0=jnp.zeros_like(vector), tol=tol, maxiter=maxiter)\n",
    "# Solve the linear system Ax = b\n",
    "# solution = solver_linalg_func(matrix, vector)\n",
    "# if solution.converged:\n",
    "    # print(\"Converged\")\n",
    "# else:\n",
    "    # print(\"Did not converge\")\n",
    "print(\"Residual:\", (matrix @ solution[0] - vector)[:5])\n",
    "print(\"My solution:\", solution[0][:5])\n",
    "\n",
    "# solution from jax.scipy\n",
    "from jax.scipy.sparse.linalg import cg\n",
    "from jax import jit\n",
    "\n",
    "@jit\n",
    "def solve_cg(matrix, vector):\n",
    "    return cg(matrix, vector, tol=tol, maxiter=maxiter, M=lambda r: r)\n",
    "\n",
    "solution = solve_cg(matrix, vector)\n",
    "print(\"Solution:\", solution[0][:5])\n",
    "print(\"Residual:\", (matrix @ solution[0] - vector)[:5])\n",
    "\n",
    "%timeit -r 5 -n 5 solve_cg(matrix, vector)\n",
    "solution"
   ]
  },
  {
   "cell_type": "markdown",
   "metadata": {},
   "source": [
    "#### Training"
   ]
  },
  {
   "cell_type": "code",
   "execution_count": 2,
   "metadata": {},
   "outputs": [
    {
     "name": "stderr",
     "output_type": "stream",
     "text": [
      "INFO:general_python.common.flog:241: \t->\u001b[33m[Jacobi Preconditioner] Resetting backend to: jax\u001b[0m\n",
      "INFO:general_python.common.flog:241: \t\t->\u001b[33m[Jacobi Preconditioner] JIT compiling apply_gram(r, S, Sp, ...) function...\u001b[0m\n"
     ]
    }
   ],
   "source": [
    "import time\n",
    "import numpy as np\n",
    "import matplotlib.pyplot as plt\n",
    "import general_python.algebra.solvers.stochastic_rcnfg as SR\n",
    "import jax.numpy as jnp\n",
    "from tqdm import trange\n",
    "\n",
    "import general_python.algebra.solvers as solvers\n",
    "import general_python.algebra.preconditioners as preconditioners\n",
    "\n",
    "#! Configuration\n",
    "n_epo           =       1000\n",
    "batch_size      =       20\n",
    "lr              =       1e-1\n",
    "pinv            =       1e-8\n",
    "sreg            =       1e0\n",
    "\n",
    "solver_linalg   =       solvers.choose_solver(solver_id=solvers.SolverType.SCIPY_CG, sigma=sreg)\n",
    "precond         =       preconditioners.choose_precond(precond_id=preconditioners.PreconditionersTypeSym.JACOBI, backend='jax')\n",
    "# precond.sigma   =       sreg\n",
    "precond_apply   =       precond.get_apply_gram()\n",
    "# precond_apply   =       lambda r, s, sp: r\n",
    "\n",
    "# Ensure solver function gets sigma correctly\n",
    "solver_linalg_func = solver_linalg.get_solver_func(backend_module=backend_np,\n",
    "                                        use_matvec  =   False, # Set True if you provide matvec, False if using Fisher S matrix\n",
    "                                        use_matrix  =   False, # Set True to form full S matrix (memory intensive!)\n",
    "                                        use_fisher  =   True,  # Indicates S matrix or matvec is Fisher info\n",
    "                                        sigma       =   sreg)  # Pass regularization here"
   ]
  },
  {
   "cell_type": "markdown",
   "metadata": {},
   "source": [
    "#### Train loop big"
   ]
  },
  {
   "cell_type": "code",
   "execution_count": 8,
   "metadata": {},
   "outputs": [
    {
     "name": "stderr",
     "output_type": "stream",
     "text": [
      "Epoch 1000/1000: 100%|██████████| 1000/1000 [00:21<00:00, 46.92it/s, E_mean=-0.803802+0.001286j, E_std=0.0451, t_samp=1.022e-02s, t_eval=5.796e-03s, t_grad=7.844e-05s, t_sr=3.228e-03s, t_update=2.093e-04s, t_epoch=1.972e-02s]\n"
     ]
    },
    {
     "name": "stdout",
     "output_type": "stream",
     "text": [
      "\n",
      "--- Training Finished ---\n",
      "Completed 1000 epochs.\n",
      "Final Mean Energy: -0.803802+0.001286j\n",
      "\n",
      "Timing Summary (Average per epoch):\n",
      "Step                          Average Time (s)    \n",
      "--------------------------------------------------\n",
      "Sampling                      1.051e-02           \n",
      "Energy Evaluation             5.829e-03           \n",
      "Gradient Computation          1.636e-04           \n",
      "Stochastic Reconfiguration    3.593e-03           \n",
      "Parameter Update              1.486e-04           \n",
      "Total Epoch                   2.047e-02           \n"
     ]
    },
    {
     "data": {
      "image/png": "[encoded data removed]",
      "text/plain": [
       "<Figure size 350x262.5 with 1 Axes>"
      ]
     },
     "metadata": {},
     "output_type": "display_data"
    }
   ],
   "source": [
    "# %load_ext line_profiler\n",
    "\n",
    "#! Initialization\n",
    "history                 =       []\n",
    "sampling_times          =       []\n",
    "evaluation_times        =       []\n",
    "gradient_times          =       []\n",
    "reconfiguration_times   =       []\n",
    "update_times            =       []\n",
    "epoch_times             =       [] # To store total time per epoch\n",
    "\n",
    "#! Initial values for display before first epoch calculation\n",
    "means                   =       float('nan')\n",
    "stds                    =       float('nan')\n",
    "\n",
    "def train_function():\n",
    "    #! Training Loop with tqdm\n",
    "    # Use trange outside the loop variable assignment to get the progress bar object\n",
    "    pbar                    = trange(n_epo, desc=\"Starting Training...\", leave=True)\n",
    "    for i in pbar:\n",
    "        epoch_start_time = time.time() # Time the whole epoch\n",
    "\n",
    "        #! 1. Sampling\n",
    "        start_time      =       time.time()\n",
    "        (states, logprobas), (configs, configs_ansatze), probabilities = nqs.sample(reset=False)\n",
    "        sample_time     =       time.time() - start_time\n",
    "        sampling_times.append(sample_time)\n",
    "\n",
    "        #! 2. Energy Evaluation\n",
    "        start_time      =       time.time()\n",
    "        # Need to handle potential errors from evaluate_fun if sampling failed\n",
    "        try:\n",
    "            (configs, ansatze), probabilities, (v, means, stds) = nqs.evaluate_fun(\n",
    "                states_and_psi  = (configs, configs_ansatze),\n",
    "                probabilities   = probabilities,\n",
    "                functions       = None, # means that we evaluate energy\n",
    "                batch_size      = batch_size\n",
    "            )\n",
    "        except Exception as e:\n",
    "            print(f\"\\nError during energy evaluation in epoch {i+1}: {e}\")\n",
    "            print(\"Stopping training.\")\n",
    "            break\n",
    "        eval_time       =       time.time() - start_time\n",
    "        evaluation_times.append(eval_time)\n",
    "\n",
    "        # Check for NaN in energy early\n",
    "        if np.isnan(means):\n",
    "            print(f\"\\nNaN detected in energy calculation at epoch {i+1}, stopping training.\")\n",
    "            # Optionally print some state info for debugging\n",
    "            # print(\"Last configs:\", configs)\n",
    "            break\n",
    "\n",
    "        #! 3. Gradient Computation\n",
    "        start_time      =       time.time()\n",
    "        try:\n",
    "            grad        =       nqs.gradient(states=configs, batch_size=batch_size, params=nqs.get_params())\n",
    "            # print(grad.shape)\n",
    "        except Exception as e:\n",
    "            print(f\"\\nError during gradient calculation in epoch {i+1}: {e}\")\n",
    "            print(\"Stopping training.\")\n",
    "            break # Exit loop on gradient error\n",
    "        grad_time       =       time.time() - start_time\n",
    "        gradient_times.append(grad_time)\n",
    "\n",
    "        #! 4. Stochastic Reconfiguration\n",
    "        start_time      =       time.time()\n",
    "        try:\n",
    "            # Ensure v (loss) and grad (var_deriv) are correctly shaped and typed\n",
    "            # v should be (n_samples,) real array (E_loc - E_mean)\n",
    "            # grad should be (n_samples, n_params) complex array (O_k or O_k^*)\n",
    "            if not isinstance(v, (np.ndarray, jnp.ndarray)) or v.ndim != 1:\n",
    "                print(f\"\\nWarning: Unexpected format for 'loss' (v) in epoch {i+1}. Shape: {getattr(v, 'shape', 'N/A')}\")\n",
    "            if not isinstance(grad, (np.ndarray, jnp.ndarray)) or grad.ndim != 2:\n",
    "                print(f\"\\nWarning: Unexpected format for 'var_deriv' (grad) in epoch {i+1}. Shape: {getattr(grad, 'shape', 'N/A')}\")\n",
    "\n",
    "            # Ensure x0 matches the *complex* dtype of the expected solution\n",
    "            # SR solution df.x should match gradient complexity\n",
    "            expected_dtype  = grad.dtype\n",
    "            x0_sr           = jnp.zeros_like(grad[0, :], dtype=expected_dtype)\n",
    "            df              =       SR.solve_jax(\n",
    "                solve_func      = solver_linalg_func,\n",
    "                loss            = v,\n",
    "                var_deriv       = grad,\n",
    "                min_sr          = False,\n",
    "                x0              = x0_sr,\n",
    "                precond_apply   = precond_apply,\n",
    "                maxiter         = 500,\n",
    "                tol             = pinv\n",
    "            )\n",
    "            # s_c             =  SR.derivatives_centered_jax(grad, jnp.mean(grad, axis = 0))\n",
    "            # s_c_h           =  jnp.conjugate(s_c.T)\n",
    "            # loss_c          =  SR.loss_centered_jax(v, means)\n",
    "            # df              =  SR.gradient_jax(s_c_h, loss_c, loss_c.shape[0])\n",
    "            # df              =  solvers.SolverResult(x=df, converged=True, residual_norm=None, iterations=None)\n",
    "        except Exception as e:\n",
    "            print(f\"\\nError during SR calculation in epoch {i+1}: {e}\")\n",
    "            print(f\"SR Input shapes/dtypes: loss={v.shape}/{v.dtype}, var_deriv={grad.shape}/{grad.dtype}\")\n",
    "            print(\"Stopping training.\")\n",
    "            break\n",
    "        reconfig_time       =       time.time() - start_time\n",
    "        reconfiguration_times.append(reconfig_time)\n",
    "\n",
    "        #! 5. Update Network Parameters\n",
    "        start_time          =       time.time()\n",
    "        try:\n",
    "            # The update step: parameters = parameters - learning_rate * df.x\n",
    "            # nqs.update_parameters expects the full step (-lr * df.x)\n",
    "            nqs.update_parameters(df.x, -lr)\n",
    "        except Exception as e:\n",
    "            print(f\"\\nError during parameter update in epoch {i+1}: {e}\")\n",
    "            print(f\"Update step shape/dtype: {df.x.shape}/{df.x.dtype}\")\n",
    "            print(\"Stopping training.\")\n",
    "            break\n",
    "        update_time         =       time.time() - start_time\n",
    "        update_times.append(update_time)\n",
    "\n",
    "        # --- Store history and update progress bar ---\n",
    "        history.append(means)\n",
    "        epoch_time = time.time() - epoch_start_time\n",
    "        epoch_times.append(epoch_time)\n",
    "\n",
    "        # Update tqdm description and postfix\n",
    "        pbar.set_description(f\"Epoch {i + 1}/{n_epo}\")\n",
    "        postfix_dict = {\n",
    "            \"E_mean\"    : f\"{means:.6f}\",\n",
    "            \"E_std\"     : f\"{stds:.4f}\",\n",
    "            \"t_samp\"    : f\"{sample_time:.3e}s\",\n",
    "            \"t_eval\"    : f\"{eval_time:.3e}s\",\n",
    "            \"t_grad\"    : f\"{grad_time:.3e}s\",\n",
    "            \"t_sr\"      : f\"{reconfig_time:.3e}s\",\n",
    "            \"t_update\"  : f\"{update_time:.3e}s\",\n",
    "            \"t_epoch\"   : f\"{epoch_time:.3e}s\"\n",
    "        }\n",
    "        pbar.set_postfix(postfix_dict, refresh=True)\n",
    "        # print(nqs.get_params())\n",
    "\n",
    "    #! End of Loop\n",
    "    pbar.close()\n",
    "    return history, sampling_times, evaluation_times, gradient_times, reconfiguration_times, update_times, epoch_times\n",
    "\n",
    "\n",
    "# %lprun -f train_function history, sampling_times, evaluation_times, gradient_times, reconfiguration_times, update_times, epoch_times = train_function()\n",
    "# %lprun -f train_function history, sampling_times, evaluation_times, gradient_times, reconfiguration_times, update_times, epoch_times = train_function()\n",
    "\n",
    "history, sampling_times, evaluation_times, gradient_times, reconfiguration_times, update_times, epoch_times = train_function()\n",
    "\n",
    "#! Final Summary\n",
    "if history:\n",
    "    print(\"\\n--- Training Finished ---\")\n",
    "    print(f\"Completed {len(history)} epochs.\")\n",
    "    print(f\"Final Mean Energy: {history[-1]:.6f}\")\n",
    "\n",
    "    # Calculate averages only on successful steps\n",
    "    avg_sampling_time           = np.mean(sampling_times) if sampling_times else float('nan')\n",
    "    avg_evaluation_time         = np.mean(evaluation_times) if evaluation_times else float('nan')\n",
    "    avg_gradient_time           = np.mean(gradient_times) if gradient_times else float('nan')\n",
    "    avg_reconfiguration_time    = np.mean(reconfiguration_times) if reconfiguration_times else float('nan')\n",
    "    avg_epoch_time              = np.mean(epoch_times) if epoch_times else float('nan')\n",
    "    avg_update_time             = np.mean(update_times) if update_times else float('nan')\n",
    "\n",
    "    print(\"\\nTiming Summary (Average per epoch):\")\n",
    "    print(f\"{'Step':<30}{'Average Time (s)':<20}\")\n",
    "    print(f\"{'-'*50}\")\n",
    "    print(f\"{'Sampling':<30}{avg_sampling_time:<20.3e}\")\n",
    "    print(f\"{'Energy Evaluation':<30}{avg_evaluation_time:<20.3e}\")\n",
    "    print(f\"{'Gradient Computation':<30}{avg_gradient_time:<20.3e}\")\n",
    "    print(f\"{'Stochastic Reconfiguration':<30}{avg_reconfiguration_time:<20.3e}\")\n",
    "    print(f\"{'Parameter Update':<30}{avg_update_time:<20.3e}\")\n",
    "    print(f\"{'Total Epoch':<30}{avg_epoch_time:<20.3e}\")\n",
    "\n",
    "    # --- Plotting ---\n",
    "    plt.figure(1)               # Create a new figure\n",
    "    plt.plot(np.real(history))  # Plot real part of energy history\n",
    "    plt.xlabel(\"Epoch\")\n",
    "    plt.ylabel(\"Mean Energy\")\n",
    "    plt.title(\"Training Progress (Mean Energy)\")\n",
    "    plt.grid(True)\n",
    "    plt.show()\n",
    "else:\n",
    "    print(\"\\nTraining did not complete any epochs.\")"
   ]
  },
  {
   "cell_type": "markdown",
   "metadata": {},
   "source": [
    "#### Train loop small"
   ]
  },
  {
   "cell_type": "code",
   "execution_count": 3,
   "metadata": {},
   "outputs": [
    {
     "name": "stdout",
     "output_type": "stream",
     "text": [
      "<PjitFunction of <function Solver._solver_wrap_compiled.<locals>.wrapper_jax_fisher at 0x7060287419e0>>\n",
      "<PjitFunction of <function Preconditioner.get_apply_gram.<locals>.wrapped_apply_gram at 0x706028740e00>>\n",
      "<PjitFunction of <function FlaxInterface._compile_functions.<locals>.compiled_apply at 0x7060294893a0>>\n",
      "<PjitFunction of <function local_energy_jax_wrap.<locals>.final_wrapper at 0x706028946700>>\n",
      "<PjitFunction of <function flat_gradient_cpx_holo_jax at 0x7060295b44a0>>\n",
      "Epoch 1/1000 - Step Info: (0.5665852640874353+0.007222678212894373j), t_up:8.554e-02, t_s:1.074e+00, t_ss:8.877e-01, t_epoch:2.047e+00\n",
      "Epoch 2/1000 - Step Info: (0.6225280983241949-0.009144544482574145j), t_up:7.088e-04, t_s:6.332e-03, t_ss:7.020e-03, t_epoch:1.418e-02\n",
      "Epoch 3/1000 - Step Info: (0.5324089152651059+0.007129655264785282j), t_up:8.812e-04, t_s:4.560e-03, t_ss:6.857e-03, t_epoch:1.241e-02\n",
      "Epoch 4/1000 - Step Info: (0.5836697216540458-0.01316842433960808j), t_up:6.113e-04, t_s:4.751e-03, t_ss:6.108e-03, t_epoch:1.158e-02\n",
      "Epoch 5/1000 - Step Info: (0.5190408361833327-0.005263538257712579j), t_up:6.251e-04, t_s:5.100e-03, t_ss:6.236e-03, t_epoch:1.208e-02\n",
      "Epoch 6/1000 - Step Info: (0.5440675068561225-0.012411552416839612j), t_up:6.139e-04, t_s:4.832e-03, t_ss:6.921e-03, t_epoch:1.247e-02\n",
      "Epoch 7/1000 - Step Info: (0.48213903776758094-0.00242090050936355j), t_up:6.261e-04, t_s:4.520e-03, t_ss:6.788e-03, t_epoch:1.204e-02\n",
      "Epoch 8/1000 - Step Info: (0.5039472161853873-0.006255814728294101j), t_up:6.394e-04, t_s:4.767e-03, t_ss:6.055e-03, t_epoch:1.156e-02\n",
      "Epoch 9/1000 - Step Info: (0.49452626362219826-0.005834556705105458j), t_up:7.203e-04, t_s:5.292e-03, t_ss:6.207e-03, t_epoch:1.235e-02\n",
      "Epoch 10/1000 - Step Info: (0.4371884807110657-0.004355100962966506j), t_up:6.511e-04, t_s:4.831e-03, t_ss:6.948e-03, t_epoch:1.254e-02\n",
      "Epoch 11/1000 - Step Info: (0.38646997039200964+0.007655986057573116j), t_up:6.526e-04, t_s:4.531e-03, t_ss:6.768e-03, t_epoch:1.206e-02\n",
      "Epoch 12/1000 - Step Info: (0.4456049726384904-0.00509431248412294j), t_up:6.597e-04, t_s:4.839e-03, t_ss:6.112e-03, t_epoch:1.172e-02\n",
      "Epoch 13/1000 - Step Info: (0.38012317834736953-0.0032132962610849697j), t_up:6.382e-04, t_s:5.189e-03, t_ss:6.237e-03, t_epoch:1.217e-02\n",
      "Epoch 14/1000 - Step Info: (0.37102334159892+0.0028484539335269553j), t_up:6.421e-04, t_s:4.826e-03, t_ss:6.812e-03, t_epoch:1.245e-02\n",
      "Epoch 15/1000 - Step Info: (0.3385102365131955+0.005995897233896375j), t_up:6.373e-04, t_s:4.583e-03, t_ss:6.800e-03, t_epoch:1.212e-02\n",
      "Epoch 16/1000 - Step Info: (0.34660693101168955-0.003890149721626707j), t_up:6.251e-04, t_s:4.748e-03, t_ss:6.093e-03, t_epoch:1.157e-02\n",
      "Epoch 17/1000 - Step Info: (0.34348177334808894-0.004874755393731398j), t_up:6.418e-04, t_s:5.227e-03, t_ss:6.232e-03, t_epoch:1.221e-02\n",
      "Epoch 18/1000 - Step Info: (0.28704164734869886+0.012417115524886464j), t_up:6.173e-04, t_s:4.829e-03, t_ss:6.778e-03, t_epoch:1.234e-02\n",
      "Epoch 19/1000 - Step Info: (0.28542786470027476+0.002273749769193207j), t_up:6.475e-04, t_s:4.578e-03, t_ss:6.735e-03, t_epoch:1.206e-02\n",
      "Epoch 20/1000 - Step Info: (0.3218606995918426-0.016176726208614628j), t_up:6.216e-04, t_s:4.833e-03, t_ss:5.374e-03, t_epoch:1.092e-02\n",
      "Epoch 21/1000 - Step Info: (0.2939901172008143-0.0052293066671112295j), t_up:6.425e-04, t_s:4.323e-03, t_ss:6.204e-03, t_epoch:1.126e-02\n",
      "Epoch 22/1000 - Step Info: (0.25701637316790166+0.0030515942191630826j), t_up:6.025e-04, t_s:4.078e-03, t_ss:5.979e-03, t_epoch:1.076e-02\n",
      "Epoch 23/1000 - Step Info: (0.26221622778610093-0.0023236168855690032j), t_up:6.676e-04, t_s:4.071e-03, t_ss:5.454e-03, t_epoch:1.029e-02\n",
      "Epoch 24/1000 - Step Info: (0.22096301251774986+0.0034669509010777713j), t_up:6.227e-04, t_s:4.364e-03, t_ss:6.037e-03, t_epoch:1.112e-02\n",
      "Epoch 25/1000 - Step Info: (0.23709680895649582-0.0006945046339894279j), t_up:6.399e-04, t_s:4.060e-03, t_ss:5.970e-03, t_epoch:1.095e-02\n",
      "Epoch 26/1000 - Step Info: (0.23098287083506044-0.0022952544487490163j), t_up:6.275e-04, t_s:4.085e-03, t_ss:5.445e-03, t_epoch:1.027e-02\n",
      "Epoch 27/1000 - Step Info: (0.1894276079281623+0.004411139205722933j), t_up:6.177e-04, t_s:4.312e-03, t_ss:6.076e-03, t_epoch:1.111e-02\n",
      "Epoch 28/1000 - Step Info: (0.21337176515021974-0.01143666939468054j), t_up:6.502e-04, t_s:4.065e-03, t_ss:5.950e-03, t_epoch:1.078e-02\n",
      "Epoch 29/1000 - Step Info: (0.19459906303746333-0.008538208942535845j), t_up:7.255e-04, t_s:4.003e-03, t_ss:5.487e-03, t_epoch:1.032e-02\n",
      "Epoch 30/1000 - Step Info: (0.18751589942436347-0.004214692181256831j), t_up:7.496e-04, t_s:4.789e-03, t_ss:5.721e-03, t_epoch:1.138e-02\n",
      "Epoch 31/1000 - Step Info: (0.1974018073390678-0.011472385073834678j), t_up:6.456e-04, t_s:4.071e-03, t_ss:6.245e-03, t_epoch:1.108e-02\n",
      "Epoch 32/1000 - Step Info: (0.1748949900546156-0.0046095588011168314j), t_up:6.568e-04, t_s:4.062e-03, t_ss:5.467e-03, t_epoch:1.029e-02\n",
      "Epoch 33/1000 - Step Info: (0.12948362484933765-0.0016313934226009678j), t_up:6.433e-04, t_s:4.462e-03, t_ss:5.715e-03, t_epoch:1.091e-02\n",
      "Epoch 34/1000 - Step Info: (0.10993633635623871+0.014014843804115194j), t_up:6.623e-04, t_s:4.047e-03, t_ss:5.949e-03, t_epoch:1.077e-02\n",
      "Epoch 35/1000 - Step Info: (0.1089566848361835+0.002223524454885722j), t_up:6.163e-04, t_s:4.048e-03, t_ss:5.454e-03, t_epoch:1.021e-02\n",
      "Epoch 36/1000 - Step Info: (0.0748811119195616+0.012315149829174758j), t_up:6.449e-04, t_s:4.300e-03, t_ss:6.083e-03, t_epoch:1.113e-02\n",
      "Epoch 37/1000 - Step Info: (0.06279674821767157+0.00908422310699733j), t_up:6.545e-04, t_s:4.035e-03, t_ss:5.961e-03, t_epoch:1.076e-02\n",
      "Epoch 38/1000 - Step Info: (0.09120203352043581-0.005107952296550361j), t_up:6.280e-04, t_s:4.064e-03, t_ss:5.450e-03, t_epoch:1.024e-02\n",
      "Epoch 39/1000 - Step Info: (0.08963835217284126-0.008072088357055024j), t_up:6.511e-04, t_s:4.295e-03, t_ss:6.106e-03, t_epoch:1.116e-02\n",
      "Epoch 40/1000 - Step Info: (0.05829839946407099-0.0027047709982147387j), t_up:6.416e-04, t_s:4.050e-03, t_ss:5.979e-03, t_epoch:1.077e-02\n",
      "Epoch 41/1000 - Step Info: (0.05831523669614682-0.003808489079185904j), t_up:6.480e-04, t_s:4.083e-03, t_ss:5.435e-03, t_epoch:1.027e-02\n",
      "Epoch 42/1000 - Step Info: (0.052885432138769596-0.009481699576513613j), t_up:6.146e-04, t_s:4.351e-03, t_ss:6.093e-03, t_epoch:1.116e-02\n",
      "Epoch 43/1000 - Step Info: (0.021514263739607808-0.009038841768692359j), t_up:6.466e-04, t_s:4.074e-03, t_ss:5.952e-03, t_epoch:1.076e-02\n",
      "Epoch 44/1000 - Step Info: (0.005821991615831351-0.006832014589743041j), t_up:6.216e-04, t_s:4.064e-03, t_ss:5.455e-03, t_epoch:1.023e-02\n",
      "Epoch 45/1000 - Step Info: (0.0007670088797142736-0.0037399100200665486j), t_up:7.153e-04, t_s:4.315e-03, t_ss:6.101e-03, t_epoch:1.123e-02\n",
      "Epoch 46/1000 - Step Info: (0.015430318920968031-0.01939590262353827j), t_up:6.435e-04, t_s:4.088e-03, t_ss:5.967e-03, t_epoch:1.082e-02\n",
      "Epoch 47/1000 - Step Info: (-0.01855846322268496-0.008177470071558932j), t_up:6.382e-04, t_s:4.054e-03, t_ss:5.438e-03, t_epoch:1.023e-02\n",
      "Epoch 48/1000 - Step Info: (-0.02119290501766968-0.013213852020795289j), t_up:6.495e-04, t_s:4.346e-03, t_ss:6.113e-03, t_epoch:1.122e-02\n",
      "Epoch 49/1000 - Step Info: (-0.03788810401066356-0.011167236926536227j), t_up:6.542e-04, t_s:4.075e-03, t_ss:5.961e-03, t_epoch:1.116e-02\n",
      "Epoch 50/1000 - Step Info: (-0.04291660217509495-0.014500693805410084j), t_up:6.263e-04, t_s:4.047e-03, t_ss:5.463e-03, t_epoch:1.024e-02\n",
      "Epoch 51/1000 - Step Info: (-0.11700700619306606+0.01995763115242756j), t_up:6.547e-04, t_s:4.664e-03, t_ss:5.683e-03, t_epoch:1.110e-02\n",
      "Epoch 52/1000 - Step Info: (-0.12029570613362517+0.01618990597650356j), t_up:6.530e-04, t_s:4.037e-03, t_ss:6.214e-03, t_epoch:1.102e-02\n",
      "Epoch 53/1000 - Step Info: (-0.10925505423947843-0.0016749614621290663j), t_up:6.449e-04, t_s:4.050e-03, t_ss:5.468e-03, t_epoch:1.027e-02\n",
      "Epoch 54/1000 - Step Info: (-0.13804273830890196+0.014827851674912235j), t_up:6.001e-04, t_s:4.606e-03, t_ss:5.695e-03, t_epoch:1.101e-02\n",
      "Epoch 55/1000 - Step Info: (-0.0819115410531358-0.019332990877166785j), t_up:6.242e-04, t_s:4.055e-03, t_ss:5.960e-03, t_epoch:1.075e-02\n",
      "Epoch 56/1000 - Step Info: (-0.1054694973461697-0.017485451973995703j), t_up:6.435e-04, t_s:4.056e-03, t_ss:5.447e-03, t_epoch:1.025e-02\n",
      "Epoch 57/1000 - Step Info: (-0.1503342276683252+0.002189197080173068j), t_up:6.354e-04, t_s:4.316e-03, t_ss:6.090e-03, t_epoch:1.114e-02\n",
      "Epoch 58/1000 - Step Info: (-0.1537633049496847-0.0019234964174023644j), t_up:6.485e-04, t_s:4.019e-03, t_ss:5.941e-03, t_epoch:1.071e-02\n",
      "Epoch 59/1000 - Step Info: (-0.18550418342100655+0.006291576585146355j), t_up:6.363e-04, t_s:4.039e-03, t_ss:5.454e-03, t_epoch:1.023e-02\n",
      "Epoch 60/1000 - Step Info: (-0.18422403365624157-0.00043784824662885846j), t_up:6.282e-04, t_s:4.375e-03, t_ss:6.093e-03, t_epoch:1.120e-02\n",
      "Epoch 61/1000 - Step Info: (-0.2034502889960156+0.006669810908527837j), t_up:6.218e-04, t_s:4.034e-03, t_ss:5.965e-03, t_epoch:1.139e-02\n",
      "Epoch 62/1000 - Step Info: (-0.21205624723777594+0.004629571847506653j), t_up:6.390e-04, t_s:4.042e-03, t_ss:5.463e-03, t_epoch:1.024e-02\n",
      "Epoch 63/1000 - Step Info: (-0.21409780378108195-0.0027968940344037982j), t_up:6.344e-04, t_s:4.286e-03, t_ss:6.054e-03, t_epoch:1.106e-02\n",
      "Epoch 64/1000 - Step Info: (-0.22011421771423528-0.008132470588301556j), t_up:6.447e-04, t_s:4.022e-03, t_ss:5.943e-03, t_epoch:1.071e-02\n",
      "Epoch 65/1000 - Step Info: (-0.24631903642682357+0.013307059903972924j), t_up:6.149e-04, t_s:4.091e-03, t_ss:5.455e-03, t_epoch:1.026e-02\n",
      "Epoch 66/1000 - Step Info: (-0.2369824633456055-0.010787385043688515j), t_up:6.571e-04, t_s:4.282e-03, t_ss:5.970e-03, t_epoch:1.108e-02\n",
      "Epoch 67/1000 - Step Info: (-0.24593919353296814-0.0077280948160729016j), t_up:5.901e-04, t_s:4.037e-03, t_ss:5.953e-03, t_epoch:1.068e-02\n",
      "Epoch 68/1000 - Step Info: (-0.24792039756267356-0.01189407296719746j), t_up:6.096e-04, t_s:4.263e-03, t_ss:5.463e-03, t_epoch:1.043e-02\n",
      "Epoch 69/1000 - Step Info: (-0.28586807044868373+0.005744090605800388j), t_up:5.915e-04, t_s:4.298e-03, t_ss:5.988e-03, t_epoch:1.097e-02\n",
      "Epoch 70/1000 - Step Info: (-0.27288930918267595-0.0010149265897258636j), t_up:5.968e-04, t_s:4.063e-03, t_ss:6.097e-03, t_epoch:1.085e-02\n",
      "Epoch 71/1000 - Step Info: (-0.28312415658167334-0.008174337939715389j), t_up:6.170e-04, t_s:4.027e-03, t_ss:5.444e-03, t_epoch:1.019e-02\n",
      "Epoch 72/1000 - Step Info: (-0.3188933769332238+0.008627214067685034j), t_up:6.185e-04, t_s:4.310e-03, t_ss:5.998e-03, t_epoch:1.102e-02\n",
      "Epoch 73/1000 - Step Info: (-0.3122964809340848-0.002499513584605409j), t_up:6.497e-04, t_s:4.041e-03, t_ss:6.078e-03, t_epoch:1.086e-02\n",
      "Epoch 74/1000 - Step Info: (-0.3069878442614763-0.0019574070936231964j), t_up:6.039e-04, t_s:4.312e-03, t_ss:5.443e-03, t_epoch:1.045e-02\n",
      "Epoch 75/1000 - Step Info: (-0.3388477132717735-3.6691260836998476e-05j), t_up:6.151e-04, t_s:4.282e-03, t_ss:5.976e-03, t_epoch:1.098e-02\n",
      "Epoch 76/1000 - Step Info: (-0.33264478368014605-0.0017920600560044821j), t_up:6.013e-04, t_s:4.047e-03, t_ss:6.117e-03, t_epoch:1.086e-02\n",
      "Epoch 77/1000 - Step Info: (-0.3372284875447972-0.015945310845463866j), t_up:9.665e-04, t_s:4.360e-03, t_ss:5.449e-03, t_epoch:1.091e-02\n",
      "Epoch 78/1000 - Step Info: (-0.3527659831644244-0.00284543920500251j), t_up:8.814e-04, t_s:4.279e-03, t_ss:5.913e-03, t_epoch:1.121e-02\n",
      "Epoch 79/1000 - Step Info: (-0.36562427622901017+0.0073375404236407215j), t_up:6.957e-04, t_s:3.995e-03, t_ss:6.042e-03, t_epoch:1.083e-02\n",
      "Epoch 80/1000 - Step Info: (-0.3691659272024454-0.005376642184287335j), t_up:6.394e-04, t_s:4.259e-03, t_ss:5.388e-03, t_epoch:1.038e-02\n",
      "Epoch 81/1000 - Step Info: (-0.3852556994315631+0.013861802122107728j), t_up:6.075e-04, t_s:4.210e-03, t_ss:5.930e-03, t_epoch:1.084e-02\n",
      "Epoch 82/1000 - Step Info: (-0.39015069357825977+0.0073184384081765854j), t_up:6.540e-04, t_s:3.998e-03, t_ss:5.968e-03, t_epoch:1.073e-02\n",
      "Epoch 83/1000 - Step Info: (-0.3920090156657419-0.009480225580127474j), t_up:6.249e-04, t_s:4.266e-03, t_ss:5.396e-03, t_epoch:1.040e-02\n",
      "Epoch 84/1000 - Step Info: (-0.37711747156738873-0.025627108802247788j), t_up:6.051e-04, t_s:4.274e-03, t_ss:5.938e-03, t_epoch:1.091e-02\n",
      "Epoch 85/1000 - Step Info: (-0.4093892539458604+0.006395320249614763j), t_up:6.528e-04, t_s:3.986e-03, t_ss:5.944e-03, t_epoch:1.068e-02\n",
      "Epoch 86/1000 - Step Info: (-0.42084764865176716+0.013130828655648822j), t_up:6.166e-04, t_s:4.268e-03, t_ss:5.403e-03, t_epoch:1.039e-02\n",
      "Epoch 87/1000 - Step Info: (-0.41990667581096774-0.001136455242640177j), t_up:6.096e-04, t_s:3.989e-03, t_ss:6.140e-03, t_epoch:1.084e-02\n",
      "Epoch 88/1000 - Step Info: (-0.44143748376833625+0.021774823823060462j), t_up:6.366e-04, t_s:4.065e-03, t_ss:6.055e-03, t_epoch:1.087e-02\n",
      "Epoch 89/1000 - Step Info: (-0.4213101620347368-0.0099622762042265j), t_up:6.201e-04, t_s:4.236e-03, t_ss:5.414e-03, t_epoch:1.037e-02\n",
      "Epoch 90/1000 - Step Info: (-0.4323439910727596-0.007417704069974622j), t_up:6.144e-04, t_s:3.989e-03, t_ss:6.313e-03, t_epoch:1.101e-02\n",
      "Epoch 91/1000 - Step Info: (-0.4515479416260966+0.017973909295138035j), t_up:6.263e-04, t_s:4.140e-03, t_ss:5.983e-03, t_epoch:1.085e-02\n",
      "Epoch 92/1000 - Step Info: (-0.4464672808786109-0.010976559956113555j), t_up:6.027e-04, t_s:4.261e-03, t_ss:5.396e-03, t_epoch:1.036e-02\n",
      "Epoch 93/1000 - Step Info: (-0.47053584057276127+0.03585372206061943j), t_up:9.189e-04, t_s:3.979e-03, t_ss:6.177e-03, t_epoch:1.120e-02\n",
      "Epoch 94/1000 - Step Info: (-0.4717570395122548+0.017633932210849287j), t_up:8.764e-04, t_s:4.129e-03, t_ss:6.147e-03, t_epoch:1.125e-02\n",
      "Epoch 95/1000 - Step Info: (-0.4611940815149069-0.016587862418242998j), t_up:7.834e-04, t_s:4.255e-03, t_ss:5.400e-03, t_epoch:1.052e-02\n",
      "Epoch 96/1000 - Step Info: (-0.46093455002707073-0.028812426360416168j), t_up:7.730e-04, t_s:3.969e-03, t_ss:6.192e-03, t_epoch:1.104e-02\n",
      "Epoch 97/1000 - Step Info: (-0.4650358641205652-0.018123226749379245j), t_up:7.029e-04, t_s:4.132e-03, t_ss:6.064e-03, t_epoch:1.100e-02\n",
      "Epoch 98/1000 - Step Info: (-0.48957400291378456+0.01639120213046221j), t_up:8.984e-04, t_s:4.255e-03, t_ss:5.405e-03, t_epoch:1.069e-02\n",
      "Epoch 99/1000 - Step Info: (-0.4919207297168688+0.006014591200810244j), t_up:9.146e-04, t_s:4.286e-03, t_ss:5.939e-03, t_epoch:1.126e-02\n",
      "Epoch 100/1000 - Step Info: (-0.48712295517452814-0.008813825816309172j), t_up:8.402e-04, t_s:4.024e-03, t_ss:6.103e-03, t_epoch:1.110e-02\n",
      "Epoch 101/1000 - Step Info: (-0.5025278485651419+0.01487764151697839j), t_up:6.552e-04, t_s:4.031e-03, t_ss:5.428e-03, t_epoch:1.022e-02\n",
      "Epoch 102/1000 - Step Info: (-0.5085273683183693+0.006410969315547347j), t_up:7.601e-04, t_s:4.274e-03, t_ss:5.979e-03, t_epoch:1.112e-02\n",
      "Epoch 103/1000 - Step Info: (-0.4983430132542405-0.018412929532275298j), t_up:6.180e-04, t_s:4.011e-03, t_ss:6.058e-03, t_epoch:1.078e-02\n",
      "Epoch 104/1000 - Step Info: (-0.5172074350682979-0.01091249909990988j), t_up:6.254e-04, t_s:4.314e-03, t_ss:5.418e-03, t_epoch:1.045e-02\n",
      "Epoch 105/1000 - Step Info: (-0.5216227843223243+0.001774059138106967j), t_up:6.187e-04, t_s:4.305e-03, t_ss:5.940e-03, t_epoch:1.096e-02\n",
      "Epoch 106/1000 - Step Info: (-0.5326944451439662+0.007344809941748061j), t_up:6.518e-04, t_s:4.014e-03, t_ss:6.069e-03, t_epoch:1.083e-02\n",
      "Epoch 107/1000 - Step Info: (-0.5266936059638968+0.00846143105723489j), t_up:6.373e-04, t_s:4.101e-03, t_ss:5.396e-03, t_epoch:1.023e-02\n",
      "Epoch 108/1000 - Step Info: (-0.5374689814368335+0.014056143137137881j), t_up:6.182e-04, t_s:4.300e-03, t_ss:5.989e-03, t_epoch:1.102e-02\n",
      "Epoch 109/1000 - Step Info: (-0.5376223810067863+0.009426641305617121j), t_up:5.922e-04, t_s:3.978e-03, t_ss:6.136e-03, t_epoch:1.080e-02\n",
      "Epoch 110/1000 - Step Info: (-0.5281302347827244-0.027283562475220968j), t_up:6.251e-04, t_s:4.294e-03, t_ss:5.418e-03, t_epoch:1.044e-02\n",
      "Epoch 111/1000 - Step Info: (-0.5516584823912536-0.004419630275394816j), t_up:5.834e-04, t_s:4.278e-03, t_ss:5.958e-03, t_epoch:1.093e-02\n",
      "Epoch 112/1000 - Step Info: (-0.5513370723333674+0.0038462766349473907j), t_up:6.249e-04, t_s:4.018e-03, t_ss:6.143e-03, t_epoch:1.089e-02\n",
      "Epoch 113/1000 - Step Info: (-0.5587419867336821+0.0023677456800807726j), t_up:6.237e-04, t_s:4.244e-03, t_ss:5.416e-03, t_epoch:1.039e-02\n",
      "Epoch 114/1000 - Step Info: (-0.563934588507289+0.01655123458182785j), t_up:6.280e-04, t_s:4.302e-03, t_ss:5.939e-03, t_epoch:1.097e-02\n",
      "Epoch 115/1000 - Step Info: (-0.5622406632945931+0.0039761406977106934j), t_up:6.056e-04, t_s:4.036e-03, t_ss:6.143e-03, t_epoch:1.087e-02\n",
      "Epoch 116/1000 - Step Info: (-0.5667765695595645-0.0015054724730661224j), t_up:6.144e-04, t_s:4.310e-03, t_ss:5.407e-03, t_epoch:1.043e-02\n",
      "Epoch 117/1000 - Step Info: (-0.5722979947571942-0.010066231638408038j), t_up:6.294e-04, t_s:4.284e-03, t_ss:5.992e-03, t_epoch:1.103e-02\n",
      "Epoch 118/1000 - Step Info: (-0.5807905157958032+0.008238888909944175j), t_up:6.263e-04, t_s:4.034e-03, t_ss:6.148e-03, t_epoch:1.091e-02\n",
      "Epoch 119/1000 - Step Info: (-0.5645241618074532-0.018398745649645293j), t_up:6.123e-04, t_s:4.333e-03, t_ss:5.402e-03, t_epoch:1.044e-02\n",
      "Epoch 120/1000 - Step Info: (-0.5817836050661305-0.0005701782626738901j), t_up:6.166e-04, t_s:4.310e-03, t_ss:5.941e-03, t_epoch:1.097e-02\n",
      "Epoch 121/1000 - Step Info: (-0.5776110207972898-0.005260532158459499j), t_up:6.635e-04, t_s:4.015e-03, t_ss:6.139e-03, t_epoch:1.096e-02\n",
      "Epoch 122/1000 - Step Info: (-0.5811093745367156-0.0047775984502964886j), t_up:6.635e-04, t_s:4.157e-03, t_ss:5.413e-03, t_epoch:1.033e-02\n",
      "Epoch 123/1000 - Step Info: (-0.5868591656779291+0.002444691921516498j), t_up:6.142e-04, t_s:4.261e-03, t_ss:5.985e-03, t_epoch:1.095e-02\n",
      "Epoch 124/1000 - Step Info: (-0.5906099757381859+0.03728730025920546j), t_up:6.146e-04, t_s:4.029e-03, t_ss:6.216e-03, t_epoch:1.096e-02\n",
      "Epoch 125/1000 - Step Info: (-0.5960220647801736-0.00805251351020134j), t_up:6.230e-04, t_s:4.289e-03, t_ss:5.415e-03, t_epoch:1.043e-02\n",
      "Epoch 126/1000 - Step Info: (-0.6003447541753704+0.012694826742132036j), t_up:6.254e-04, t_s:4.270e-03, t_ss:5.983e-03, t_epoch:1.098e-02\n",
      "Epoch 127/1000 - Step Info: (-0.6025027671232078+0.002706584708830082j), t_up:6.125e-04, t_s:4.113e-03, t_ss:6.053e-03, t_epoch:1.088e-02\n",
      "Epoch 128/1000 - Step Info: (-0.6051599555922453-0.018803295675330647j), t_up:6.211e-04, t_s:4.309e-03, t_ss:5.428e-03, t_epoch:1.046e-02\n",
      "Epoch 129/1000 - Step Info: (-0.6053151865401276-0.007464039829038173j), t_up:6.063e-04, t_s:4.280e-03, t_ss:5.980e-03, t_epoch:1.099e-02\n",
      "Epoch 130/1000 - Step Info: (-0.622229104179404-0.018671829482031017j), t_up:6.111e-04, t_s:4.165e-03, t_ss:6.059e-03, t_epoch:1.093e-02\n",
      "Epoch 131/1000 - Step Info: (-0.6211931620064026-0.00872369668079611j), t_up:6.256e-04, t_s:4.280e-03, t_ss:5.423e-03, t_epoch:1.044e-02\n",
      "Epoch 132/1000 - Step Info: (-0.6140488756469479+0.030046194247569297j), t_up:5.972e-04, t_s:4.023e-03, t_ss:6.258e-03, t_epoch:1.098e-02\n",
      "Epoch 133/1000 - Step Info: (-0.6189024212110515-0.0045530203894807875j), t_up:6.504e-04, t_s:4.179e-03, t_ss:6.067e-03, t_epoch:1.099e-02\n",
      "Epoch 134/1000 - Step Info: (-0.62411687318994-0.015472547068389596j), t_up:6.094e-04, t_s:4.300e-03, t_ss:5.412e-03, t_epoch:1.043e-02\n",
      "Epoch 135/1000 - Step Info: (-0.6307540509608348+0.0031894230964227975j), t_up:6.373e-04, t_s:4.013e-03, t_ss:6.174e-03, t_epoch:1.092e-02\n",
      "Epoch 136/1000 - Step Info: (-0.6284104027988711+0.009751924211379792j), t_up:6.390e-04, t_s:4.142e-03, t_ss:6.052e-03, t_epoch:1.094e-02\n",
      "Epoch 137/1000 - Step Info: (-0.6360010829093222-0.005952609589461251j), t_up:6.189e-04, t_s:4.283e-03, t_ss:5.414e-03, t_epoch:1.042e-02\n",
      "Epoch 138/1000 - Step Info: (-0.6398338644839232-0.00863725733224732j), t_up:6.323e-04, t_s:3.979e-03, t_ss:6.206e-03, t_epoch:1.092e-02\n",
      "Epoch 139/1000 - Step Info: (-0.6313331680866172+0.0190803465999709j), t_up:6.318e-04, t_s:4.173e-03, t_ss:6.066e-03, t_epoch:1.096e-02\n",
      "Epoch 140/1000 - Step Info: (-0.63955384786593+0.014449477697462756j), t_up:8.790e-04, t_s:4.314e-03, t_ss:5.432e-03, t_epoch:1.077e-02\n",
      "Epoch 141/1000 - Step Info: (-0.6405473957059498-0.006303982399204045j), t_up:6.285e-04, t_s:4.282e-03, t_ss:5.951e-03, t_epoch:1.097e-02\n",
      "Epoch 142/1000 - Step Info: (-0.6494369351578685+0.0072941389900700315j), t_up:7.441e-04, t_s:4.176e-03, t_ss:6.179e-03, t_epoch:1.121e-02\n",
      "Epoch 143/1000 - Step Info: (-0.6440327251140767+0.001341517157377452j), t_up:6.449e-04, t_s:4.338e-03, t_ss:5.408e-03, t_epoch:1.049e-02\n",
      "Epoch 144/1000 - Step Info: (-0.6494440278920668-0.0018820339654971327j), t_up:6.466e-04, t_s:4.285e-03, t_ss:5.990e-03, t_epoch:1.101e-02\n",
      "Epoch 145/1000 - Step Info: (-0.656728909322805-0.013114951641711578j), t_up:6.330e-04, t_s:4.064e-03, t_ss:6.047e-03, t_epoch:1.084e-02\n",
      "Epoch 146/1000 - Step Info: (-0.6517960056440585+0.0138210602428256j), t_up:8.678e-04, t_s:4.312e-03, t_ss:5.412e-03, t_epoch:1.072e-02\n",
      "Epoch 147/1000 - Step Info: (-0.6568670461137356-0.002593172923963341j), t_up:8.819e-04, t_s:4.286e-03, t_ss:5.949e-03, t_epoch:1.123e-02\n",
      "Epoch 148/1000 - Step Info: (-0.6577588000190366-0.002753390702631187j), t_up:9.375e-04, t_s:4.012e-03, t_ss:5.934e-03, t_epoch:1.100e-02\n",
      "Epoch 149/1000 - Step Info: (-0.6612098907550885+0.00936180831049868j), t_up:5.786e-04, t_s:4.041e-03, t_ss:5.422e-03, t_epoch:1.015e-02\n",
      "Epoch 150/1000 - Step Info: (-0.6604449070692132+0.01309420909683166j), t_up:6.790e-04, t_s:4.231e-03, t_ss:5.968e-03, t_epoch:1.099e-02\n",
      "Epoch 151/1000 - Step Info: (-0.6661490004215916-0.017485114704104715j), t_up:6.652e-04, t_s:4.018e-03, t_ss:6.088e-03, t_epoch:1.087e-02\n",
      "Epoch 152/1000 - Step Info: (-0.6661626455332506-0.0072340358048351905j), t_up:6.843e-04, t_s:4.309e-03, t_ss:5.443e-03, t_epoch:1.053e-02\n",
      "Epoch 153/1000 - Step Info: (-0.6703553084831776-0.010399550485644378j), t_up:6.506e-04, t_s:4.294e-03, t_ss:5.972e-03, t_epoch:1.102e-02\n",
      "Epoch 154/1000 - Step Info: (-0.6685947153174514-0.0015270150241688167j), t_up:6.580e-04, t_s:4.046e-03, t_ss:5.958e-03, t_epoch:1.079e-02\n",
      "Epoch 155/1000 - Step Info: (-0.6765917507212662-0.028479079155039035j), t_up:6.998e-04, t_s:4.306e-03, t_ss:5.453e-03, t_epoch:1.055e-02\n",
      "Epoch 156/1000 - Step Info: (-0.6684659653808521-0.0006589510132452396j), t_up:6.223e-04, t_s:4.260e-03, t_ss:5.990e-03, t_epoch:1.097e-02\n",
      "Epoch 157/1000 - Step Info: (-0.6663984278644576+0.011427110103741086j), t_up:8.538e-04, t_s:4.029e-03, t_ss:5.963e-03, t_epoch:1.095e-02\n",
      "Epoch 158/1000 - Step Info: (-0.6721672783469875+0.010278449018036376j), t_up:6.731e-04, t_s:4.332e-03, t_ss:5.443e-03, t_epoch:1.055e-02\n",
      "Epoch 159/1000 - Step Info: (-0.6793532585542855-0.013317871362931954j), t_up:5.856e-04, t_s:4.312e-03, t_ss:6.101e-03, t_epoch:1.108e-02\n",
      "Epoch 160/1000 - Step Info: (-0.6704264318191533+0.01576483503403492j), t_up:6.053e-04, t_s:4.022e-03, t_ss:5.971e-03, t_epoch:1.070e-02\n",
      "Epoch 161/1000 - Step Info: (-0.6793252239044045+0.004699363540898367j), t_up:6.998e-04, t_s:4.301e-03, t_ss:5.477e-03, t_epoch:1.058e-02\n",
      "Epoch 162/1000 - Step Info: (-0.6782029687872789+0.0074116631393566735j), t_up:6.075e-04, t_s:4.293e-03, t_ss:6.103e-03, t_epoch:1.113e-02\n",
      "Epoch 163/1000 - Step Info: (-0.677602102796988+0.011515244143339133j), t_up:6.335e-04, t_s:4.032e-03, t_ss:5.972e-03, t_epoch:1.074e-02\n",
      "Epoch 164/1000 - Step Info: (-0.6793567695878199+0.003306011661168072j), t_up:6.330e-04, t_s:4.329e-03, t_ss:5.445e-03, t_epoch:1.050e-02\n",
      "Epoch 165/1000 - Step Info: (-0.6882516065884329-0.00495258450042799j), t_up:6.070e-04, t_s:4.325e-03, t_ss:6.105e-03, t_epoch:1.114e-02\n",
      "Epoch 166/1000 - Step Info: (-0.6877261535372039-0.012017842585348359j), t_up:7.474e-04, t_s:4.061e-03, t_ss:5.948e-03, t_epoch:1.087e-02\n",
      "Epoch 167/1000 - Step Info: (-0.6848779891573153+0.004696318456277272j), t_up:6.511e-04, t_s:4.340e-03, t_ss:5.465e-03, t_epoch:1.055e-02\n",
      "Epoch 168/1000 - Step Info: (-0.6878416434664594-0.0019487821294897896j), t_up:5.894e-04, t_s:4.725e-03, t_ss:5.701e-03, t_epoch:1.109e-02\n",
      "Epoch 169/1000 - Step Info: (-0.6820191893732993+0.00980382477978884j), t_up:5.794e-04, t_s:4.046e-03, t_ss:5.953e-03, t_epoch:1.066e-02\n",
      "Epoch 170/1000 - Step Info: (-0.6940663157820839-0.005566957873521379j), t_up:6.099e-04, t_s:4.327e-03, t_ss:5.459e-03, t_epoch:1.048e-02\n",
      "Epoch 171/1000 - Step Info: (-0.6905589678139438-0.005313035938202918j), t_up:5.882e-04, t_s:4.316e-03, t_ss:6.115e-03, t_epoch:1.110e-02\n",
      "Epoch 172/1000 - Step Info: (-0.6875414686604987+0.005234672943713865j), t_up:6.144e-04, t_s:4.046e-03, t_ss:5.980e-03, t_epoch:1.075e-02\n",
      "Epoch 173/1000 - Step Info: (-0.6961915586406149-0.006804214565964527j), t_up:5.665e-04, t_s:4.293e-03, t_ss:5.473e-03, t_epoch:1.043e-02\n",
      "Epoch 174/1000 - Step Info: (-0.7017441178717735-0.009377619242436694j), t_up:5.965e-04, t_s:4.265e-03, t_ss:6.099e-03, t_epoch:1.109e-02\n",
      "Epoch 175/1000 - Step Info: (-0.692067405541072+0.00342706838363047j), t_up:6.013e-04, t_s:4.057e-03, t_ss:5.970e-03, t_epoch:1.073e-02\n",
      "Epoch 176/1000 - Step Info: (-0.6980268727356138-0.005289596200277056j), t_up:6.607e-04, t_s:4.295e-03, t_ss:5.465e-03, t_epoch:1.052e-02\n",
      "Epoch 177/1000 - Step Info: (-0.6915788825962537+0.006365087853018119j), t_up:6.342e-04, t_s:4.736e-03, t_ss:5.684e-03, t_epoch:1.118e-02\n",
      "Epoch 178/1000 - Step Info: (-0.6985699759502549-0.00416359572515275j), t_up:5.927e-04, t_s:3.985e-03, t_ss:5.982e-03, t_epoch:1.067e-02\n",
      "Epoch 179/1000 - Step Info: (-0.7030399903700919-0.006576305119284037j), t_up:5.541e-04, t_s:4.253e-03, t_ss:5.438e-03, t_epoch:1.033e-02\n",
      "Epoch 180/1000 - Step Info: (-0.6949760429038799+0.003760758393924495j), t_up:6.263e-04, t_s:4.736e-03, t_ss:5.693e-03, t_epoch:1.115e-02\n",
      "Epoch 181/1000 - Step Info: (-0.6974788428731756+0.0038754115308578915j), t_up:6.266e-04, t_s:4.055e-03, t_ss:5.953e-03, t_epoch:1.073e-02\n",
      "Epoch 182/1000 - Step Info: (-0.6982475855114437+0.002487994756141026j), t_up:6.185e-04, t_s:4.280e-03, t_ss:5.438e-03, t_epoch:1.044e-02\n",
      "Epoch 183/1000 - Step Info: (-0.6991953241729894+0.0017421368940431145j), t_up:7.012e-04, t_s:4.510e-03, t_ss:5.695e-03, t_epoch:1.100e-02\n",
      "Epoch 184/1000 - Step Info: (-0.6946378526281086+0.008972207181182327j), t_up:6.461e-04, t_s:4.091e-03, t_ss:5.969e-03, t_epoch:1.083e-02\n",
      "Epoch 185/1000 - Step Info: (-0.6943997557967719+0.007035080910079054j), t_up:9.239e-04, t_s:4.013e-03, t_ss:5.470e-03, t_epoch:1.055e-02\n",
      "Epoch 186/1000 - Step Info: (-0.7041923553709002-0.002892160998994181j), t_up:6.573e-04, t_s:4.462e-03, t_ss:5.778e-03, t_epoch:1.101e-02\n",
      "Epoch 187/1000 - Step Info: (-0.7152525922120578-0.015243011886690347j), t_up:6.149e-04, t_s:4.030e-03, t_ss:5.999e-03, t_epoch:1.074e-02\n",
      "Epoch 188/1000 - Step Info: (-0.7043358730476984-0.0011932592991655943j), t_up:5.989e-04, t_s:4.086e-03, t_ss:5.466e-03, t_epoch:1.024e-02\n",
      "Epoch 189/1000 - Step Info: (-0.7011976058697086+0.002935096089285203j), t_up:6.571e-04, t_s:4.447e-03, t_ss:5.774e-03, t_epoch:1.099e-02\n",
      "Epoch 190/1000 - Step Info: (-0.7070692005177146-0.0016689540279640673j), t_up:6.258e-04, t_s:4.092e-03, t_ss:6.043e-03, t_epoch:1.086e-02\n",
      "Epoch 191/1000 - Step Info: (-0.6973980407884829+0.006802137941759091j), t_up:5.937e-04, t_s:4.022e-03, t_ss:5.453e-03, t_epoch:1.017e-02\n",
      "Epoch 192/1000 - Step Info: (-0.7069586385711321-0.0015808647191637958j), t_up:5.965e-04, t_s:4.322e-03, t_ss:5.709e-03, t_epoch:1.072e-02\n",
      "Epoch 193/1000 - Step Info: (-0.7069428127029014+0.0012238612809355896j), t_up:6.306e-04, t_s:4.075e-03, t_ss:5.960e-03, t_epoch:1.076e-02\n",
      "Epoch 194/1000 - Step Info: (-0.7080423285004099+0.00046937724420116834j), t_up:5.994e-04, t_s:3.997e-03, t_ss:5.454e-03, t_epoch:1.015e-02\n",
      "Epoch 195/1000 - Step Info: (-0.7046667844205899+0.0035447965249328557j), t_up:5.989e-04, t_s:4.412e-03, t_ss:5.709e-03, t_epoch:1.083e-02\n",
      "Epoch 196/1000 - Step Info: (-0.7106955664728216-0.0002304986205771984j), t_up:6.130e-04, t_s:4.054e-03, t_ss:5.957e-03, t_epoch:1.072e-02\n",
      "Epoch 197/1000 - Step Info: (-0.7053652336373984+0.002586084577711399j), t_up:6.208e-04, t_s:4.287e-03, t_ss:5.446e-03, t_epoch:1.045e-02\n",
      "Epoch 198/1000 - Step Info: (-0.7093653396528837-0.0010699199248592457j), t_up:6.490e-04, t_s:4.422e-03, t_ss:5.767e-03, t_epoch:1.096e-02\n",
      "Epoch 199/1000 - Step Info: (-0.7099546103655721+0.0013504229105339252j), t_up:6.042e-04, t_s:4.093e-03, t_ss:5.993e-03, t_epoch:1.080e-02\n",
      "Epoch 200/1000 - Step Info: (-0.7220343026831808-0.008702706370392896j), t_up:8.616e-04, t_s:4.307e-03, t_ss:5.463e-03, t_epoch:1.074e-02\n",
      "Epoch 201/1000 - Step Info: (-0.7120450771281702-0.0012762311532528434j), t_up:7.384e-04, t_s:4.075e-03, t_ss:5.704e-03, t_epoch:1.062e-02\n",
      "Epoch 202/1000 - Step Info: (-0.7143039527314826-0.0013343663199416062j), t_up:8.528e-04, t_s:3.999e-03, t_ss:5.992e-03, t_epoch:1.097e-02\n",
      "Epoch 203/1000 - Step Info: (-0.7182858045936-0.003196560744799717j), t_up:7.458e-04, t_s:4.076e-03, t_ss:5.443e-03, t_epoch:1.038e-02\n",
      "Epoch 204/1000 - Step Info: (-0.7136467964814491-0.0014071326133047535j), t_up:6.375e-04, t_s:4.059e-03, t_ss:5.713e-03, t_epoch:1.050e-02\n",
      "Epoch 205/1000 - Step Info: (-0.7142592541304416+0.0002660421167500241j), t_up:9.155e-04, t_s:4.036e-03, t_ss:5.958e-03, t_epoch:1.105e-02\n",
      "Epoch 206/1000 - Step Info: (-0.7075504279465192+0.006448364343547892j), t_up:9.434e-04, t_s:4.096e-03, t_ss:5.455e-03, t_epoch:1.063e-02\n",
      "Epoch 207/1000 - Step Info: (-0.7096353498623367+0.004808527517546342j), t_up:7.427e-04, t_s:4.079e-03, t_ss:5.729e-03, t_epoch:1.070e-02\n",
      "Epoch 208/1000 - Step Info: (-0.7203893077834106-0.0019082772769014019j), t_up:6.804e-04, t_s:4.071e-03, t_ss:6.107e-03, t_epoch:1.100e-02\n",
      "Epoch 209/1000 - Step Info: (-0.7069648296697025+0.007901079029366214j), t_up:8.035e-04, t_s:4.311e-03, t_ss:5.754e-03, t_epoch:1.106e-02\n",
      "Epoch 210/1000 - Step Info: (-0.7101662776674094+0.006380987517336796j), t_up:5.536e-04, t_s:4.095e-03, t_ss:5.731e-03, t_epoch:1.047e-02\n",
      "Epoch 211/1000 - Step Info: (-0.7096321149650091+0.005662299199729539j), t_up:6.526e-04, t_s:4.081e-03, t_ss:5.965e-03, t_epoch:1.079e-02\n",
      "Epoch 212/1000 - Step Info: (-0.7161522121001458+0.00016422701877326308j), t_up:5.558e-04, t_s:4.199e-03, t_ss:5.802e-03, t_epoch:1.074e-02\n",
      "Epoch 213/1000 - Step Info: (-0.7280100672860212-0.006171388789998002j), t_up:5.982e-04, t_s:4.055e-03, t_ss:5.708e-03, t_epoch:1.045e-02\n",
      "Epoch 214/1000 - Step Info: (-0.7281948993499767-0.006536164329831883j), t_up:5.467e-04, t_s:4.026e-03, t_ss:6.218e-03, t_epoch:1.089e-02\n",
      "Epoch 215/1000 - Step Info: (-0.7176273457805342+0.0011449252318281005j), t_up:6.242e-04, t_s:4.149e-03, t_ss:5.668e-03, t_epoch:1.057e-02\n",
      "Epoch 216/1000 - Step Info: (-0.7179184298022159+0.0015022933740828984j), t_up:5.648e-04, t_s:4.008e-03, t_ss:5.702e-03, t_epoch:1.037e-02\n",
      "Epoch 217/1000 - Step Info: (-0.7184087253883313+0.0018937351391936695j), t_up:5.841e-04, t_s:4.037e-03, t_ss:6.246e-03, t_epoch:1.096e-02\n",
      "Epoch 218/1000 - Step Info: (-0.7181443056209385+0.002260471767177708j), t_up:5.550e-04, t_s:4.170e-03, t_ss:5.504e-03, t_epoch:1.044e-02\n",
      "Epoch 219/1000 - Step Info: (-0.7186699085165414+0.0017582957510303943j), t_up:5.338e-04, t_s:4.038e-03, t_ss:5.675e-03, t_epoch:1.034e-02\n",
      "Epoch 220/1000 - Step Info: (-0.7241069669769572-0.0007734795199327653j), t_up:4.923e-04, t_s:4.037e-03, t_ss:5.927e-03, t_epoch:1.055e-02\n",
      "Epoch 221/1000 - Step Info: (-0.7283304667213765-0.003778163129560089j), t_up:6.359e-04, t_s:4.308e-03, t_ss:5.431e-03, t_epoch:1.048e-02\n",
      "Epoch 222/1000 - Step Info: (-0.7327437117962341-0.004946802702700856j), t_up:5.612e-04, t_s:4.402e-03, t_ss:5.683e-03, t_epoch:1.075e-02\n",
      "Epoch 223/1000 - Step Info: (-0.7234832434320632+0.0007591725065181971j), t_up:6.373e-04, t_s:4.043e-03, t_ss:5.947e-03, t_epoch:1.073e-02\n",
      "Epoch 224/1000 - Step Info: (-0.7152961103358955+0.00452977365095994j), t_up:5.925e-04, t_s:4.047e-03, t_ss:5.423e-03, t_epoch:1.017e-02\n",
      "Epoch 225/1000 - Step Info: (-0.7308576414782906-0.003142505853663931j), t_up:6.115e-04, t_s:4.051e-03, t_ss:5.676e-03, t_epoch:1.044e-02\n",
      "Epoch 226/1000 - Step Info: (-0.726642726226009-0.000245660778379199j), t_up:5.829e-04, t_s:3.995e-03, t_ss:5.933e-03, t_epoch:1.061e-02\n",
      "Epoch 227/1000 - Step Info: (-0.7273260173283895-0.0011188589319058191j), t_up:6.304e-04, t_s:4.065e-03, t_ss:5.425e-03, t_epoch:1.021e-02\n",
      "Epoch 228/1000 - Step Info: (-0.7175844802452552+0.0045069795917560196j), t_up:5.612e-04, t_s:4.438e-03, t_ss:5.666e-03, t_epoch:1.076e-02\n",
      "Epoch 229/1000 - Step Info: (-0.7288678605327182-0.00016964448018649914j), t_up:5.558e-04, t_s:4.058e-03, t_ss:5.946e-03, t_epoch:1.067e-02\n",
      "Epoch 230/1000 - Step Info: (-0.7270268697766862+0.0004658552512902299j), t_up:5.684e-04, t_s:4.023e-03, t_ss:5.420e-03, t_epoch:1.012e-02\n",
      "Epoch 231/1000 - Step Info: (-0.7251661457207225+0.0011125632412720796j), t_up:5.763e-04, t_s:4.735e-03, t_ss:5.665e-03, t_epoch:1.107e-02\n",
      "Epoch 232/1000 - Step Info: (-0.7262510460443469+0.0003844386806915823j), t_up:5.774e-04, t_s:4.072e-03, t_ss:5.927e-03, t_epoch:1.067e-02\n",
      "Epoch 233/1000 - Step Info: (-0.7322258112174795-0.0014345111735655932j), t_up:6.063e-04, t_s:4.323e-03, t_ss:5.431e-03, t_epoch:1.046e-02\n",
      "Epoch 234/1000 - Step Info: (-0.7274813241544426+0.0009390533742477319j), t_up:6.025e-04, t_s:4.495e-03, t_ss:5.692e-03, t_epoch:1.089e-02\n",
      "Epoch 235/1000 - Step Info: (-0.7363903225603438-0.002437071808438507j), t_up:6.039e-04, t_s:4.057e-03, t_ss:5.950e-03, t_epoch:1.071e-02\n",
      "Epoch 236/1000 - Step Info: (-0.7332833267418463-0.0011884033348099146j), t_up:5.600e-04, t_s:4.323e-03, t_ss:5.440e-03, t_epoch:1.043e-02\n",
      "Epoch 237/1000 - Step Info: (-0.7313892905484793-0.00036287384320974285j), t_up:5.739e-04, t_s:4.568e-03, t_ss:5.680e-03, t_epoch:1.092e-02\n",
      "Epoch 238/1000 - Step Info: (-0.7309686705324414+0.0008012306562174289j), t_up:5.891e-04, t_s:4.062e-03, t_ss:5.966e-03, t_epoch:1.072e-02\n",
      "Epoch 239/1000 - Step Info: (-0.7322734148474015+3.528606726605854e-05j), t_up:5.474e-04, t_s:4.077e-03, t_ss:5.425e-03, t_epoch:1.014e-02\n",
      "Epoch 240/1000 - Step Info: (-0.7374599834646347-0.002501715735409536j), t_up:5.546e-04, t_s:4.531e-03, t_ss:5.667e-03, t_epoch:1.084e-02\n",
      "Epoch 241/1000 - Step Info: (-0.7316279027313245+0.00036202513470133925j), t_up:5.524e-04, t_s:4.044e-03, t_ss:6.129e-03, t_epoch:1.081e-02\n",
      "Epoch 242/1000 - Step Info: (-0.7387344411507893-0.0024871099630550324j), t_up:5.858e-04, t_s:4.058e-03, t_ss:5.439e-03, t_epoch:1.018e-02\n",
      "Epoch 243/1000 - Step Info: (-0.7343470201859102-0.0004919241863875315j), t_up:6.025e-04, t_s:4.680e-03, t_ss:5.689e-03, t_epoch:1.107e-02\n",
      "Epoch 244/1000 - Step Info: (-0.7334513247551456+0.00044708722820765046j), t_up:5.636e-04, t_s:4.070e-03, t_ss:5.956e-03, t_epoch:1.069e-02\n",
      "Epoch 245/1000 - Step Info: (-0.7312330304006853+0.0012303155700379483j), t_up:5.677e-04, t_s:4.067e-03, t_ss:5.429e-03, t_epoch:1.016e-02\n",
      "Epoch 246/1000 - Step Info: (-0.7430484055859818-0.0034989862305995997j), t_up:5.534e-04, t_s:4.701e-03, t_ss:5.769e-03, t_epoch:1.112e-02\n",
      "Epoch 247/1000 - Step Info: (-0.7302596479366539+0.0018508607412179578j), t_up:5.913e-04, t_s:3.989e-03, t_ss:6.228e-03, t_epoch:1.091e-02\n",
      "Epoch 248/1000 - Step Info: (-0.7324379111427944+0.0013455338016832817j), t_up:5.550e-04, t_s:4.072e-03, t_ss:5.439e-03, t_epoch:1.017e-02\n",
      "Epoch 249/1000 - Step Info: (-0.7345185489412474+0.0004596718109738196j), t_up:5.934e-04, t_s:4.385e-03, t_ss:5.651e-03, t_epoch:1.073e-02\n",
      "Epoch 250/1000 - Step Info: (-0.7346645780520868+0.0004153780603664731j), t_up:5.682e-04, t_s:4.060e-03, t_ss:6.175e-03, t_epoch:1.090e-02\n",
      "Epoch 251/1000 - Step Info: (-0.7322398406549234+0.001205488056369844j), t_up:4.778e-04, t_s:3.971e-03, t_ss:5.417e-03, t_epoch:9.956e-03\n",
      "Epoch 252/1000 - Step Info: (-0.7392716627220663-0.0012472271759516144j), t_up:5.586e-04, t_s:4.479e-03, t_ss:5.689e-03, t_epoch:1.082e-02\n",
      "Epoch 253/1000 - Step Info: (-0.736906350031599-0.0005456110932009664j), t_up:5.937e-04, t_s:4.075e-03, t_ss:6.175e-03, t_epoch:1.094e-02\n",
      "Epoch 254/1000 - Step Info: (-0.7367191608809719+1.317325513547396e-05j), t_up:5.469e-04, t_s:3.979e-03, t_ss:5.432e-03, t_epoch:1.005e-02\n",
      "Epoch 255/1000 - Step Info: (-0.7340970516454072+0.000750919596227504j), t_up:5.827e-04, t_s:4.625e-03, t_ss:5.674e-03, t_epoch:1.097e-02\n",
      "Epoch 256/1000 - Step Info: (-0.7367212071118805+0.00025726030903355313j), t_up:5.965e-04, t_s:4.041e-03, t_ss:5.943e-03, t_epoch:1.088e-02\n",
      "Epoch 257/1000 - Step Info: (-0.734928945127583+0.00045321119520371454j), t_up:5.827e-04, t_s:4.048e-03, t_ss:5.429e-03, t_epoch:1.016e-02\n",
      "Epoch 258/1000 - Step Info: (-0.7399869959821265-0.001027536980588695j), t_up:7.339e-04, t_s:4.637e-03, t_ss:5.720e-03, t_epoch:1.123e-02\n",
      "Epoch 259/1000 - Step Info: (-0.7353495956842984+0.0008860013591951902j), t_up:7.219e-04, t_s:4.086e-03, t_ss:6.351e-03, t_epoch:1.127e-02\n",
      "Epoch 260/1000 - Step Info: (-0.7370492513712686+8.947986177695855e-05j), t_up:5.863e-04, t_s:4.105e-03, t_ss:5.454e-03, t_epoch:1.025e-02\n",
      "Epoch 261/1000 - Step Info: (-0.7366917880036963+0.00013742190670752973j), t_up:5.863e-04, t_s:4.337e-03, t_ss:5.710e-03, t_epoch:1.073e-02\n",
      "Epoch 262/1000 - Step Info: (-0.7373172176988823+0.00046977542989656997j), t_up:7.162e-04, t_s:3.996e-03, t_ss:6.218e-03, t_epoch:1.103e-02\n",
      "Epoch 263/1000 - Step Info: (-0.7406865627091779-0.001123716703303641j), t_up:5.407e-04, t_s:4.035e-03, t_ss:5.466e-03, t_epoch:1.013e-02\n",
      "Epoch 264/1000 - Step Info: (-0.7370734088622394+0.0006372314233067165j), t_up:5.805e-04, t_s:4.283e-03, t_ss:5.704e-03, t_epoch:1.067e-02\n",
      "Epoch 265/1000 - Step Info: (-0.7370701891617548+0.0007164974224225082j), t_up:5.567e-04, t_s:3.988e-03, t_ss:6.190e-03, t_epoch:1.082e-02\n",
      "Epoch 266/1000 - Step Info: (-0.7365981274321789+0.000524624310066244j), t_up:5.655e-04, t_s:3.994e-03, t_ss:5.428e-03, t_epoch:1.008e-02\n",
      "Epoch 267/1000 - Step Info: (-0.7430459376525661-0.0019332141692890948j), t_up:5.641e-04, t_s:4.380e-03, t_ss:5.701e-03, t_epoch:1.073e-02\n",
      "Epoch 268/1000 - Step Info: (-0.7380167672478123+0.00034655088103034904j), t_up:6.092e-04, t_s:4.081e-03, t_ss:5.943e-03, t_epoch:1.091e-02\n",
      "Epoch 269/1000 - Step Info: (-0.7384468530734337+9.847670105054913e-05j), t_up:7.281e-04, t_s:4.079e-03, t_ss:5.420e-03, t_epoch:1.032e-02\n",
      "Epoch 270/1000 - Step Info: (-0.7377940778240274+0.00042574317055748737j), t_up:8.647e-04, t_s:4.421e-03, t_ss:5.714e-03, t_epoch:1.112e-02\n",
      "Epoch 271/1000 - Step Info: (-0.7372441422193752+0.0006628559170882558j), t_up:8.709e-04, t_s:4.100e-03, t_ss:6.191e-03, t_epoch:1.128e-02\n",
      "Epoch 272/1000 - Step Info: (-0.7399767031519426-0.00045474986478008116j), t_up:9.940e-04, t_s:4.056e-03, t_ss:5.432e-03, t_epoch:1.061e-02\n",
      "Epoch 273/1000 - Step Info: (-0.7401107477745261-0.00023039830898257419j), t_up:6.237e-04, t_s:4.048e-03, t_ss:5.706e-03, t_epoch:1.048e-02\n",
      "Epoch 274/1000 - Step Info: (-0.739488988253613-1.2391691607125889e-05j), t_up:6.366e-04, t_s:4.053e-03, t_ss:6.202e-03, t_epoch:1.098e-02\n",
      "Epoch 275/1000 - Step Info: (-0.7382237486899152+0.00021134106347177133j), t_up:5.770e-04, t_s:4.026e-03, t_ss:5.419e-03, t_epoch:1.011e-02\n",
      "Epoch 276/1000 - Step Info: (-0.7404653698807676-0.0006405430792257036j), t_up:5.910e-04, t_s:4.201e-03, t_ss:5.697e-03, t_epoch:1.059e-02\n",
      "Epoch 277/1000 - Step Info: (-0.7391985722532648+0.00018997444084647487j), t_up:5.903e-04, t_s:3.981e-03, t_ss:6.299e-03, t_epoch:1.096e-02\n",
      "Epoch 278/1000 - Step Info: (-0.7416588913520802-0.000721649350129734j), t_up:5.679e-04, t_s:4.063e-03, t_ss:5.424e-03, t_epoch:1.014e-02\n",
      "Epoch 279/1000 - Step Info: (-0.7371751614188868+0.0009309192069796096j), t_up:6.132e-04, t_s:4.473e-03, t_ss:5.709e-03, t_epoch:1.089e-02\n",
      "Epoch 280/1000 - Step Info: (-0.7395961195165471+2.216205130077942e-05j), t_up:5.918e-04, t_s:4.071e-03, t_ss:6.189e-03, t_epoch:1.095e-02\n",
      "Epoch 281/1000 - Step Info: (-0.7397598465161604-1.4874168615830047e-06j), t_up:5.827e-04, t_s:4.083e-03, t_ss:5.445e-03, t_epoch:1.021e-02\n",
      "Epoch 282/1000 - Step Info: (-0.7385666345124303+0.0005667346860902174j), t_up:7.517e-04, t_s:4.324e-03, t_ss:5.865e-03, t_epoch:1.112e-02\n",
      "Epoch 283/1000 - Step Info: (-0.7406523235991043-0.00021759152403405505j), t_up:5.696e-04, t_s:4.189e-03, t_ss:6.248e-03, t_epoch:1.110e-02\n",
      "Epoch 284/1000 - Step Info: (-0.7408371767885282-0.0003116080098401811j), t_up:6.297e-04, t_s:4.228e-03, t_ss:5.313e-03, t_epoch:1.044e-02\n",
      "Epoch 285/1000 - Step Info: (-0.7382708163970033+0.0007114399342532828j), t_up:6.468e-04, t_s:4.062e-03, t_ss:5.698e-03, t_epoch:1.050e-02\n",
      "Epoch 286/1000 - Step Info: (-0.7402212057407521-1.9220446723394403e-05j), t_up:5.867e-04, t_s:4.055e-03, t_ss:6.256e-03, t_epoch:1.099e-02\n",
      "Epoch 287/1000 - Step Info: (-0.7402784229547877-4.020765400985197e-05j), t_up:6.464e-04, t_s:4.236e-03, t_ss:5.321e-03, t_epoch:1.030e-02\n",
      "Epoch 288/1000 - Step Info: (-0.7390609837807463+0.0004535727589602204j), t_up:6.695e-04, t_s:4.051e-03, t_ss:5.677e-03, t_epoch:1.049e-02\n",
      "Epoch 289/1000 - Step Info: (-0.7383394738473844+0.0007825556029641225j), t_up:5.815e-04, t_s:4.035e-03, t_ss:6.175e-03, t_epoch:1.089e-02\n",
      "Epoch 290/1000 - Step Info: (-0.7409636568417054-0.000299880348187021j), t_up:7.596e-04, t_s:4.135e-03, t_ss:5.467e-03, t_epoch:1.047e-02\n",
      "Epoch 291/1000 - Step Info: (-0.7384839066497823+0.0006304533625085253j), t_up:9.100e-04, t_s:4.213e-03, t_ss:5.732e-03, t_epoch:1.098e-02\n",
      "Epoch 292/1000 - Step Info: (-0.7394248242192066+0.00027840122397674466j), t_up:7.780e-04, t_s:4.125e-03, t_ss:6.202e-03, t_epoch:1.122e-02\n",
      "Epoch 293/1000 - Step Info: (-0.7403791894926721+2.6541008579687388e-05j), t_up:6.101e-04, t_s:4.228e-03, t_ss:5.686e-03, t_epoch:1.068e-02\n",
      "Epoch 294/1000 - Step Info: (-0.7411309537375838-0.0004538283197672641j), t_up:5.264e-04, t_s:4.051e-03, t_ss:5.655e-03, t_epoch:1.031e-02\n",
      "Epoch 295/1000 - Step Info: (-0.7399638070214921+4.52463057417075e-05j), t_up:6.042e-04, t_s:4.016e-03, t_ss:6.186e-03, t_epoch:1.090e-02\n",
      "Epoch 296/1000 - Step Info: (-0.7406357761797506+5.975905624710267e-06j), t_up:5.975e-04, t_s:4.016e-03, t_ss:5.451e-03, t_epoch:1.020e-02\n",
      "Epoch 297/1000 - Step Info: (-0.7400759864570934+0.00012034114163433183j), t_up:6.042e-04, t_s:4.053e-03, t_ss:5.629e-03, t_epoch:1.038e-02\n",
      "Epoch 298/1000 - Step Info: (-0.7403151757808502-6.90853245423393e-05j), t_up:5.982e-04, t_s:4.082e-03, t_ss:6.139e-03, t_epoch:1.091e-02\n",
      "Epoch 299/1000 - Step Info: (-0.7402736377162615-2.59123994940616e-05j), t_up:5.815e-04, t_s:4.003e-03, t_ss:5.434e-03, t_epoch:1.011e-02\n",
      "Epoch 300/1000 - Step Info: (-0.7400339476862395+0.00020835185197208065j), t_up:5.856e-04, t_s:4.436e-03, t_ss:5.658e-03, t_epoch:1.077e-02\n",
      "Epoch 301/1000 - Step Info: (-0.7402875155438658+9.094820422842177e-05j), t_up:5.925e-04, t_s:4.059e-03, t_ss:6.167e-03, t_epoch:1.094e-02\n",
      "Epoch 302/1000 - Step Info: (-0.7404626572742179-3.876029829512616e-05j), t_up:5.827e-04, t_s:4.047e-03, t_ss:5.452e-03, t_epoch:1.017e-02\n",
      "Epoch 303/1000 - Step Info: (-0.7407235959251885-0.0001573381620107554j), t_up:6.199e-04, t_s:4.308e-03, t_ss:5.699e-03, t_epoch:1.072e-02\n",
      "Epoch 304/1000 - Step Info: (-0.7401661943768787+0.00010702781829379651j), t_up:6.659e-04, t_s:4.038e-03, t_ss:6.139e-03, t_epoch:1.093e-02\n",
      "Epoch 305/1000 - Step Info: (-0.7403351848811149+4.447621819103222e-05j), t_up:4.425e-04, t_s:4.031e-03, t_ss:5.433e-03, t_epoch:9.978e-03\n",
      "Epoch 306/1000 - Step Info: (-0.7409341125593574-0.0001512834843146388j), t_up:4.778e-04, t_s:4.279e-03, t_ss:6.057e-03, t_epoch:1.091e-02\n",
      "Epoch 307/1000 - Step Info: (-0.7399854729672598+0.00021756193225061873j), t_up:4.570e-04, t_s:4.019e-03, t_ss:5.940e-03, t_epoch:1.049e-02\n",
      "Epoch 308/1000 - Step Info: (-0.7402109268723018+0.00013767991243108724j), t_up:5.031e-04, t_s:4.036e-03, t_ss:5.429e-03, t_epoch:1.007e-02\n",
      "Epoch 309/1000 - Step Info: (-0.741276986981931-0.00033897393877889756j), t_up:4.861e-04, t_s:4.292e-03, t_ss:5.930e-03, t_epoch:1.080e-02\n",
      "Epoch 310/1000 - Step Info: (-0.7404586622368038+3.5685642142921635e-05j), t_up:4.961e-04, t_s:4.043e-03, t_ss:5.964e-03, t_epoch:1.060e-02\n",
      "Epoch 311/1000 - Step Info: (-0.7412025539075993-0.0002324657842383041j), t_up:4.928e-04, t_s:4.036e-03, t_ss:5.426e-03, t_epoch:1.005e-02\n",
      "Epoch 312/1000 - Step Info: (-0.7400910987593057+0.00021590629373965793j), t_up:4.854e-04, t_s:4.286e-03, t_ss:5.932e-03, t_epoch:1.078e-02\n",
      "Epoch 313/1000 - Step Info: (-0.7401549254449095+0.00010168881963796214j), t_up:4.985e-04, t_s:3.993e-03, t_ss:6.084e-03, t_epoch:1.067e-02\n",
      "Epoch 314/1000 - Step Info: (-0.7401235050354361+0.00013417289519493064j), t_up:5.450e-04, t_s:4.306e-03, t_ss:5.438e-03, t_epoch:1.039e-02\n",
      "Epoch 315/1000 - Step Info: (-0.7410923546791183-0.0002142612466614928j), t_up:4.869e-04, t_s:4.289e-03, t_ss:5.928e-03, t_epoch:1.078e-02\n",
      "Epoch 316/1000 - Step Info: (-0.7405177487826311+4.684007303710741e-06j), t_up:5.801e-04, t_s:4.044e-03, t_ss:6.099e-03, t_epoch:1.081e-02\n",
      "Epoch 317/1000 - Step Info: (-0.7408586817872943+3.4340186192197038e-06j), t_up:4.959e-04, t_s:4.076e-03, t_ss:5.422e-03, t_epoch:1.008e-02\n",
      "Epoch 318/1000 - Step Info: (-0.7402556391698918+8.901157817204176e-05j), t_up:5.884e-04, t_s:4.228e-03, t_ss:5.913e-03, t_epoch:1.082e-02\n",
      "Epoch 319/1000 - Step Info: (-0.7409964396936641-0.00017516520539751426j), t_up:5.691e-04, t_s:4.138e-03, t_ss:6.094e-03, t_epoch:1.089e-02\n",
      "Epoch 320/1000 - Step Info: (-0.7406348439379306-6.823505225072973e-05j), t_up:5.109e-04, t_s:4.266e-03, t_ss:5.428e-03, t_epoch:1.028e-02\n",
      "Epoch 321/1000 - Step Info: (-0.7405830457957657+8.893570334449562e-06j), t_up:5.631e-04, t_s:4.297e-03, t_ss:5.906e-03, t_epoch:1.086e-02\n",
      "Epoch 322/1000 - Step Info: (-0.7403585516344614+6.393568302296928e-05j), t_up:5.720e-04, t_s:4.126e-03, t_ss:6.110e-03, t_epoch:1.089e-02\n",
      "Epoch 323/1000 - Step Info: (-0.7404524940146656+9.408087943741338e-05j), t_up:5.569e-04, t_s:4.267e-03, t_ss:5.426e-03, t_epoch:1.034e-02\n",
      "Epoch 324/1000 - Step Info: (-0.7407583919779135-0.00011040705505306641j), t_up:5.984e-04, t_s:4.315e-03, t_ss:5.904e-03, t_epoch:1.090e-02\n",
      "Epoch 325/1000 - Step Info: (-0.7410158920496898-0.00019984731282944582j), t_up:5.822e-04, t_s:4.024e-03, t_ss:6.064e-03, t_epoch:1.076e-02\n",
      "Epoch 326/1000 - Step Info: (-0.7407263937855452-6.243863476170358e-05j), t_up:5.686e-04, t_s:4.326e-03, t_ss:5.432e-03, t_epoch:1.042e-02\n",
      "Epoch 327/1000 - Step Info: (-0.7405801753455945-2.1733535273606293e-05j), t_up:4.425e-04, t_s:4.259e-03, t_ss:5.927e-03, t_epoch:1.072e-02\n",
      "Epoch 328/1000 - Step Info: (-0.7404971938008483-1.2713368803985752e-05j), t_up:5.796e-04, t_s:4.089e-03, t_ss:6.079e-03, t_epoch:1.084e-02\n",
      "Epoch 329/1000 - Step Info: (-0.7407083656418411-3.7527598000242594e-05j), t_up:4.449e-04, t_s:4.259e-03, t_ss:5.440e-03, t_epoch:1.024e-02\n",
      "Epoch 330/1000 - Step Info: (-0.7404260239168485+1.6574790634179943e-05j), t_up:4.611e-04, t_s:4.326e-03, t_ss:5.928e-03, t_epoch:1.080e-02\n",
      "Epoch 331/1000 - Step Info: (-0.7406436501196161-2.3314033062862145e-05j), t_up:6.008e-04, t_s:4.178e-03, t_ss:6.082e-03, t_epoch:1.097e-02\n",
      "Epoch 332/1000 - Step Info: (-0.7401789178894335+0.00012324294019767988j), t_up:5.708e-04, t_s:4.248e-03, t_ss:5.434e-03, t_epoch:1.035e-02\n",
      "Epoch 333/1000 - Step Info: (-0.7404152563995261+3.428449386526097e-05j), t_up:4.637e-04, t_s:4.327e-03, t_ss:5.910e-03, t_epoch:1.078e-02\n",
      "Epoch 334/1000 - Step Info: (-0.740519245289595+1.484738390315378e-05j), t_up:4.601e-04, t_s:4.173e-03, t_ss:6.024e-03, t_epoch:1.074e-02\n",
      "Epoch 335/1000 - Step Info: (-0.7405929482464357+4.844967443182316e-06j), t_up:4.368e-04, t_s:4.264e-03, t_ss:5.439e-03, t_epoch:1.022e-02\n",
      "Epoch 336/1000 - Step Info: (-0.7403691491077401+9.962292858502219e-05j), t_up:4.494e-04, t_s:4.046e-03, t_ss:6.175e-03, t_epoch:1.074e-02\n",
      "Epoch 337/1000 - Step Info: (-0.7403076995786481+8.60846026981651e-05j), t_up:5.183e-04, t_s:4.173e-03, t_ss:6.084e-03, t_epoch:1.087e-02\n",
      "Epoch 338/1000 - Step Info: (-0.7405176966960108+2.8554701446181915e-05j), t_up:4.461e-04, t_s:4.259e-03, t_ss:5.423e-03, t_epoch:1.021e-02\n",
      "Epoch 339/1000 - Step Info: (-0.7405432680606906-3.921495880282347e-06j), t_up:5.946e-04, t_s:4.035e-03, t_ss:6.148e-03, t_epoch:1.088e-02\n",
      "Epoch 340/1000 - Step Info: (-0.7407928514873999-9.552678338976393e-05j), t_up:4.828e-04, t_s:4.197e-03, t_ss:6.180e-03, t_epoch:1.096e-02\n",
      "Epoch 341/1000 - Step Info: (-0.7408635053911633-0.0001375203883659452j), t_up:4.635e-04, t_s:4.254e-03, t_ss:5.446e-03, t_epoch:1.023e-02\n",
      "Epoch 342/1000 - Step Info: (-0.7404898400743973+4.7260155441974076e-05j), t_up:4.966e-04, t_s:4.008e-03, t_ss:6.143e-03, t_epoch:1.072e-02\n",
      "Epoch 343/1000 - Step Info: (-0.7403823607540312+8.644970038126141e-05j), t_up:5.865e-04, t_s:4.179e-03, t_ss:6.194e-03, t_epoch:1.106e-02\n",
      "Epoch 344/1000 - Step Info: (-0.740756385072056-3.0180598428531317e-05j), t_up:5.493e-04, t_s:4.223e-03, t_ss:5.438e-03, t_epoch:1.029e-02\n",
      "Epoch 345/1000 - Step Info: (-0.7407259519227041-3.923892256732081e-05j), t_up:4.218e-04, t_s:4.037e-03, t_ss:6.131e-03, t_epoch:1.066e-02\n",
      "Epoch 346/1000 - Step Info: (-0.7403253166618095+0.00014024303783431694j), t_up:4.745e-04, t_s:4.167e-03, t_ss:6.103e-03, t_epoch:1.083e-02\n",
      "Epoch 347/1000 - Step Info: (-0.7405287242217335+2.1640709453955045e-05j), t_up:3.979e-04, t_s:4.306e-03, t_ss:5.442e-03, t_epoch:1.022e-02\n",
      "Epoch 348/1000 - Step Info: (-0.7404972214887486+3.043698332283653e-05j), t_up:4.454e-04, t_s:4.074e-03, t_ss:6.158e-03, t_epoch:1.077e-02\n",
      "Epoch 349/1000 - Step Info: (-0.7405483088964457+1.4833283100410607e-05j), t_up:5.863e-04, t_s:4.192e-03, t_ss:6.207e-03, t_epoch:1.109e-02\n",
      "Epoch 350/1000 - Step Info: (-0.7405778137722128-6.364738290821112e-06j), t_up:9.553e-04, t_s:4.289e-03, t_ss:5.557e-03, t_epoch:1.097e-02\n",
      "Epoch 351/1000 - Step Info: (-0.7405324199795144+4.023020944733161e-05j), t_up:8.960e-04, t_s:4.564e-03, t_ss:5.975e-03, t_epoch:1.161e-02\n",
      "Epoch 352/1000 - Step Info: (-0.7404948478726802+4.723462570511999e-05j), t_up:5.965e-04, t_s:4.111e-03, t_ss:6.238e-03, t_epoch:1.105e-02\n",
      "Epoch 353/1000 - Step Info: (-0.7404006209050954+9.702245278300648e-05j), t_up:5.722e-04, t_s:4.101e-03, t_ss:5.429e-03, t_epoch:1.021e-02\n",
      "Epoch 354/1000 - Step Info: (-0.7404962611170604+3.4332630194644484e-05j), t_up:5.817e-04, t_s:4.291e-03, t_ss:5.918e-03, t_epoch:1.090e-02\n",
      "Epoch 355/1000 - Step Info: (-0.7404800638193718+4.919609892048038e-05j), t_up:5.736e-04, t_s:4.039e-03, t_ss:6.062e-03, t_epoch:1.077e-02\n",
      "Epoch 356/1000 - Step Info: (-0.7405524693532785+1.6969370121044632e-05j), t_up:6.559e-04, t_s:4.036e-03, t_ss:5.437e-03, t_epoch:1.022e-02\n",
      "Epoch 357/1000 - Step Info: (-0.7406398537763974-1.9861595493399344e-05j), t_up:6.547e-04, t_s:4.334e-03, t_ss:6.105e-03, t_epoch:1.127e-02\n",
      "Epoch 358/1000 - Step Info: (-0.7405785367013163+1.4506338710015811e-05j), t_up:7.255e-04, t_s:4.126e-03, t_ss:6.106e-03, t_epoch:1.112e-02\n",
      "Epoch 359/1000 - Step Info: (-0.7406380799574688-1.6282094193304745e-05j), t_up:8.264e-04, t_s:4.159e-03, t_ss:5.590e-03, t_epoch:1.080e-02\n",
      "Epoch 360/1000 - Step Info: (-0.740682850214516-3.970601881503262e-05j), t_up:9.022e-04, t_s:4.753e-03, t_ss:5.831e-03, t_epoch:1.167e-02\n",
      "Epoch 361/1000 - Step Info: (-0.7406941755550264-4.904198865322802e-05j), t_up:9.527e-04, t_s:4.202e-03, t_ss:6.160e-03, t_epoch:1.150e-02\n",
      "Epoch 362/1000 - Step Info: (-0.7406672473475409-4.1519689508310724e-05j), t_up:9.203e-04, t_s:4.615e-03, t_ss:6.357e-03, t_epoch:1.208e-02\n",
      "Epoch 363/1000 - Step Info: (-0.7406212927366446-1.3981807367648614e-05j), t_up:9.301e-04, t_s:4.450e-03, t_ss:5.515e-03, t_epoch:1.107e-02\n",
      "Epoch 364/1000 - Step Info: (-0.7404386849680141+7.044440429105119e-05j), t_up:8.426e-04, t_s:4.401e-03, t_ss:5.785e-03, t_epoch:1.114e-02\n",
      "Epoch 365/1000 - Step Info: (-0.7405778281723442+3.820800111343443e-06j), t_up:6.406e-04, t_s:4.342e-03, t_ss:5.983e-03, t_epoch:1.105e-02\n",
      "Epoch 366/1000 - Step Info: (-0.7405880390727273+3.2821202822487507e-06j), t_up:5.853e-04, t_s:4.358e-03, t_ss:5.472e-03, t_epoch:1.051e-02\n",
      "Epoch 367/1000 - Step Info: (-0.7404016053376244+8.82248870158994e-05j), t_up:5.615e-04, t_s:4.298e-03, t_ss:5.974e-03, t_epoch:1.094e-02\n",
      "Epoch 368/1000 - Step Info: (-0.7405534308720537+2.418439807860807e-05j), t_up:5.744e-04, t_s:4.014e-03, t_ss:6.305e-03, t_epoch:1.099e-02\n",
      "Epoch 369/1000 - Step Info: (-0.7405980167498272-5.688645854089328e-06j), t_up:5.629e-04, t_s:4.103e-03, t_ss:5.452e-03, t_epoch:1.021e-02\n",
      "Epoch 370/1000 - Step Info: (-0.740652835795884-3.203334570438648e-05j), t_up:5.548e-04, t_s:4.288e-03, t_ss:5.969e-03, t_epoch:1.090e-02\n",
      "Epoch 371/1000 - Step Info: (-0.7406318152987876-1.8051600435789437e-05j), t_up:5.455e-04, t_s:4.007e-03, t_ss:6.076e-03, t_epoch:1.072e-02\n",
      "Epoch 372/1000 - Step Info: (-0.7406476275767515-2.8655322118385516e-05j), t_up:6.471e-04, t_s:4.244e-03, t_ss:5.435e-03, t_epoch:1.041e-02\n",
      "Epoch 373/1000 - Step Info: (-0.7406622374751101-3.422277331446934e-05j), t_up:5.665e-04, t_s:4.294e-03, t_ss:5.981e-03, t_epoch:1.097e-02\n",
      "Epoch 374/1000 - Step Info: (-0.7406080634920181-1.0084692952762281e-05j), t_up:5.698e-04, t_s:4.033e-03, t_ss:6.060e-03, t_epoch:1.076e-02\n",
      "Epoch 375/1000 - Step Info: (-0.7406184352687447-1.2687502055319495e-05j), t_up:7.021e-04, t_s:4.337e-03, t_ss:5.444e-03, t_epoch:1.060e-02\n",
      "Epoch 376/1000 - Step Info: (-0.7406605401572209-3.235487733130917e-05j), t_up:6.316e-04, t_s:4.256e-03, t_ss:5.997e-03, t_epoch:1.102e-02\n",
      "Epoch 377/1000 - Step Info: (-0.7406463934601507-2.773081463275545e-05j), t_up:6.607e-04, t_s:4.071e-03, t_ss:5.959e-03, t_epoch:1.080e-02\n",
      "Epoch 378/1000 - Step Info: (-0.7405732053011828+1.7263098978001485e-05j), t_up:5.894e-04, t_s:4.107e-03, t_ss:5.431e-03, t_epoch:1.022e-02\n",
      "Epoch 379/1000 - Step Info: (-0.7405582004720596+1.387114397631145e-05j), t_up:5.875e-04, t_s:4.300e-03, t_ss:5.951e-03, t_epoch:1.095e-02\n",
      "Epoch 380/1000 - Step Info: (-0.7406331330594288-1.8248312907602128e-05j), t_up:5.958e-04, t_s:4.019e-03, t_ss:6.069e-03, t_epoch:1.079e-02\n",
      "Epoch 381/1000 - Step Info: (-0.7406290999040153-1.6740637915842907e-05j), t_up:5.505e-04, t_s:4.170e-03, t_ss:5.443e-03, t_epoch:1.026e-02\n",
      "Epoch 382/1000 - Step Info: (-0.7404577978342006+7.068974194653282e-05j), t_up:6.118e-04, t_s:4.282e-03, t_ss:5.966e-03, t_epoch:1.096e-02\n",
      "Epoch 383/1000 - Step Info: (-0.7406158463759928-1.0592156229615554e-05j), t_up:6.061e-04, t_s:4.064e-03, t_ss:6.159e-03, t_epoch:1.093e-02\n",
      "Epoch 384/1000 - Step Info: (-0.7405498368183417+2.2402866133664027e-05j), t_up:5.910e-04, t_s:4.299e-03, t_ss:5.436e-03, t_epoch:1.042e-02\n",
      "Epoch 385/1000 - Step Info: (-0.740588557981414+7.007930348178831e-06j), t_up:5.977e-04, t_s:4.283e-03, t_ss:5.980e-03, t_epoch:1.097e-02\n",
      "Epoch 386/1000 - Step Info: (-0.7406134048170138-8.934876728653023e-06j), t_up:5.631e-04, t_s:4.002e-03, t_ss:6.076e-03, t_epoch:1.075e-02\n",
      "Epoch 387/1000 - Step Info: (-0.7405950924646809-6.238343496270384e-07j), t_up:6.092e-04, t_s:4.315e-03, t_ss:5.432e-03, t_epoch:1.046e-02\n",
      "Epoch 388/1000 - Step Info: (-0.7405355587572219+2.864382304223309e-05j), t_up:6.049e-04, t_s:4.238e-03, t_ss:5.975e-03, t_epoch:1.092e-02\n",
      "Epoch 389/1000 - Step Info: (-0.7406135495705248-9.568916485850815e-06j), t_up:6.127e-04, t_s:4.022e-03, t_ss:6.075e-03, t_epoch:1.081e-02\n",
      "Epoch 390/1000 - Step Info: (-0.7405729844896229+1.1488307915248069e-05j), t_up:5.844e-04, t_s:4.305e-03, t_ss:5.449e-03, t_epoch:1.044e-02\n",
      "Epoch 391/1000 - Step Info: (-0.7405796068485884+5.689598460654193e-06j), t_up:5.920e-04, t_s:4.323e-03, t_ss:5.976e-03, t_epoch:1.098e-02\n",
      "Epoch 392/1000 - Step Info: (-0.7406244796419963-1.3570151526038862e-05j), t_up:6.239e-04, t_s:4.070e-03, t_ss:6.082e-03, t_epoch:1.088e-02\n",
      "Epoch 393/1000 - Step Info: (-0.7405598803650388+1.611188045532073e-05j), t_up:5.229e-04, t_s:4.200e-03, t_ss:5.438e-03, t_epoch:1.026e-02\n",
      "Epoch 394/1000 - Step Info: (-0.7405815694383154+6.681548933807034e-06j), t_up:5.989e-04, t_s:4.336e-03, t_ss:5.975e-03, t_epoch:1.102e-02\n",
      "Epoch 395/1000 - Step Info: (-0.7405287258545632+3.4511483860540165e-05j), t_up:6.278e-04, t_s:4.059e-03, t_ss:6.064e-03, t_epoch:1.126e-02\n",
      "Epoch 396/1000 - Step Info: (-0.7405808682472396+1.0670887859691534e-05j), t_up:6.351e-04, t_s:3.998e-03, t_ss:5.422e-03, t_epoch:1.016e-02\n",
      "Epoch 397/1000 - Step Info: (-0.7406124702693856-6.526055512793612e-06j), t_up:5.982e-04, t_s:4.230e-03, t_ss:5.961e-03, t_epoch:1.089e-02\n",
      "Epoch 398/1000 - Step Info: (-0.7406029258559828-3.4008986950755053e-06j), t_up:6.292e-04, t_s:4.052e-03, t_ss:5.950e-03, t_epoch:1.074e-02\n",
      "Epoch 399/1000 - Step Info: (-0.7405821122296349+4.476690428686598e-06j), t_up:6.368e-04, t_s:4.107e-03, t_ss:5.429e-03, t_epoch:1.027e-02\n",
      "Epoch 400/1000 - Step Info: (-0.7405771664336467+1.2733489494021505e-05j), t_up:6.099e-04, t_s:4.278e-03, t_ss:5.977e-03, t_epoch:1.099e-02\n",
      "Epoch 401/1000 - Step Info: (-0.7406339772800067-2.5495693943656216e-05j), t_up:6.082e-04, t_s:3.997e-03, t_ss:6.145e-03, t_epoch:1.087e-02\n",
      "Epoch 402/1000 - Step Info: (-0.7406409074664093-2.3235226162692835e-05j), t_up:5.455e-04, t_s:4.079e-03, t_ss:5.457e-03, t_epoch:1.022e-02\n",
      "Epoch 403/1000 - Step Info: (-0.7405820835527629+9.728117931497034e-06j), t_up:5.200e-04, t_s:4.263e-03, t_ss:5.967e-03, t_epoch:1.084e-02\n",
      "Epoch 404/1000 - Step Info: (-0.7405646079283856+1.732712775500516e-05j), t_up:5.720e-04, t_s:4.008e-03, t_ss:6.169e-03, t_epoch:1.084e-02\n",
      "Epoch 405/1000 - Step Info: (-0.7405825381933216+6.576494409832202e-06j), t_up:5.980e-04, t_s:4.237e-03, t_ss:5.420e-03, t_epoch:1.036e-02\n",
      "Epoch 406/1000 - Step Info: (-0.7405918472886742+8.421954127195665e-07j), t_up:6.051e-04, t_s:4.300e-03, t_ss:5.974e-03, t_epoch:1.099e-02\n",
      "Epoch 407/1000 - Step Info: (-0.7405626388466954+2.405787529252836e-05j), t_up:5.951e-04, t_s:3.980e-03, t_ss:6.294e-03, t_epoch:1.096e-02\n",
      "Epoch 408/1000 - Step Info: (-0.7405470654969151+2.4454930356353612e-05j), t_up:6.266e-04, t_s:4.020e-03, t_ss:5.460e-03, t_epoch:1.022e-02\n",
      "Epoch 409/1000 - Step Info: (-0.7406363576609595-2.93449475468799e-05j), t_up:5.589e-04, t_s:4.290e-03, t_ss:5.977e-03, t_epoch:1.092e-02\n",
      "Epoch 410/1000 - Step Info: (-0.7405990368674008-1.6974278132293558e-06j), t_up:5.741e-04, t_s:4.003e-03, t_ss:5.934e-03, t_epoch:1.061e-02\n",
      "Epoch 411/1000 - Step Info: (-0.7406064197420065-8.247078313882181e-06j), t_up:5.584e-04, t_s:4.045e-03, t_ss:5.446e-03, t_epoch:1.014e-02\n",
      "Epoch 412/1000 - Step Info: (-0.7405708485447267+1.6235656772079284e-05j), t_up:5.567e-04, t_s:4.287e-03, t_ss:5.968e-03, t_epoch:1.092e-02\n",
      "Epoch 413/1000 - Step Info: (-0.7405993401879697-2.639826388705434e-06j), t_up:6.175e-04, t_s:4.043e-03, t_ss:6.090e-03, t_epoch:1.084e-02\n",
      "Epoch 414/1000 - Step Info: (-0.7405286294727179+3.1712419903787147e-05j), t_up:6.268e-04, t_s:4.348e-03, t_ss:5.435e-03, t_epoch:1.050e-02\n",
      "Epoch 415/1000 - Step Info: (-0.7406096203282286-5.7659279465977135e-06j), t_up:5.789e-04, t_s:4.303e-03, t_ss:5.996e-03, t_epoch:1.099e-02\n",
      "Epoch 416/1000 - Step Info: (-0.7406062495154094-8.484705250196044e-06j), t_up:6.139e-04, t_s:3.962e-03, t_ss:6.090e-03, t_epoch:1.077e-02\n",
      "Epoch 417/1000 - Step Info: (-0.7405814888212593+7.131906479699582e-06j), t_up:6.287e-04, t_s:4.040e-03, t_ss:5.448e-03, t_epoch:1.021e-02\n",
      "Epoch 418/1000 - Step Info: (-0.7406357477295911-1.8354411763013647e-05j), t_up:6.881e-04, t_s:4.695e-03, t_ss:6.016e-03, t_epoch:1.150e-02\n",
      "Epoch 419/1000 - Step Info: (-0.7406203406140337-1.3639772845656359e-05j), t_up:6.633e-04, t_s:4.008e-03, t_ss:5.965e-03, t_epoch:1.073e-02\n",
      "Epoch 420/1000 - Step Info: (-0.7405651497665866+1.6419330472309152e-05j), t_up:6.542e-04, t_s:4.313e-03, t_ss:5.443e-03, t_epoch:1.051e-02\n",
      "Epoch 421/1000 - Step Info: (-0.7405918855506178+2.6461975251294508e-06j), t_up:5.963e-04, t_s:4.288e-03, t_ss:6.102e-03, t_epoch:1.108e-02\n",
      "Epoch 422/1000 - Step Info: (-0.7405692231354354+9.5523328466259e-06j), t_up:6.390e-04, t_s:4.045e-03, t_ss:5.965e-03, t_epoch:1.075e-02\n",
      "Epoch 423/1000 - Step Info: (-0.740596536421791+3.9775980800001775e-06j), t_up:5.751e-04, t_s:4.305e-03, t_ss:5.446e-03, t_epoch:1.042e-02\n",
      "Epoch 424/1000 - Step Info: (-0.740575741498751+8.332529658099065e-06j), t_up:6.144e-04, t_s:4.323e-03, t_ss:6.094e-03, t_epoch:1.112e-02\n",
      "Epoch 425/1000 - Step Info: (-0.7406040773946418-3.6477935737474104e-06j), t_up:6.213e-04, t_s:4.033e-03, t_ss:5.942e-03, t_epoch:1.069e-02\n",
      "Epoch 426/1000 - Step Info: (-0.7406204540584245-9.830570949463866e-06j), t_up:6.406e-04, t_s:4.056e-03, t_ss:5.445e-03, t_epoch:1.024e-02\n",
      "Epoch 427/1000 - Step Info: (-0.7405661075156146+1.6619082796974637e-05j), t_up:6.046e-04, t_s:4.288e-03, t_ss:6.106e-03, t_epoch:1.109e-02\n",
      "Epoch 428/1000 - Step Info: (-0.7405704580365267+1.6510387372492982e-05j), t_up:5.891e-04, t_s:4.049e-03, t_ss:5.967e-03, t_epoch:1.071e-02\n",
      "Epoch 429/1000 - Step Info: (-0.7405745023397269+1.1744575214094682e-05j), t_up:6.464e-04, t_s:3.983e-03, t_ss:5.428e-03, t_epoch:1.015e-02\n",
      "Epoch 430/1000 - Step Info: (-0.7405806392894322+6.01274485798798e-06j), t_up:5.972e-04, t_s:4.276e-03, t_ss:5.969e-03, t_epoch:1.094e-02\n",
      "Epoch 431/1000 - Step Info: (-0.7406117220514169-1.1084836253904505e-05j), t_up:5.918e-04, t_s:4.027e-03, t_ss:5.949e-03, t_epoch:1.066e-02\n",
      "Epoch 432/1000 - Step Info: (-0.7406000484517569-5.038377565301208e-07j), t_up:6.046e-04, t_s:4.138e-03, t_ss:5.433e-03, t_epoch:1.027e-02\n",
      "Epoch 433/1000 - Step Info: (-0.7405701783649031+1.1025635806400322e-05j), t_up:5.736e-04, t_s:4.306e-03, t_ss:5.985e-03, t_epoch:1.096e-02\n",
      "Epoch 434/1000 - Step Info: (-0.740576228419211+1.145080774535609e-05j), t_up:5.889e-04, t_s:4.038e-03, t_ss:6.065e-03, t_epoch:1.079e-02\n",
      "Epoch 435/1000 - Step Info: (-0.7405936273396833-1.4011052303539528e-06j), t_up:6.046e-04, t_s:4.338e-03, t_ss:5.440e-03, t_epoch:1.049e-02\n",
      "Epoch 436/1000 - Step Info: (-0.7405803064815035+1.1064448584110032e-05j), t_up:6.034e-04, t_s:4.297e-03, t_ss:6.000e-03, t_epoch:1.100e-02\n",
      "Epoch 437/1000 - Step Info: (-0.7405910602668597+2.0796263460878276e-06j), t_up:6.330e-04, t_s:4.047e-03, t_ss:6.218e-03, t_epoch:1.101e-02\n",
      "Epoch 438/1000 - Step Info: (-0.7406028014428075-2.408233543471189e-06j), t_up:6.354e-04, t_s:4.317e-03, t_ss:5.445e-03, t_epoch:1.050e-02\n",
      "Epoch 439/1000 - Step Info: (-0.740603477307565-4.915321262011157e-06j), t_up:6.077e-04, t_s:4.305e-03, t_ss:5.984e-03, t_epoch:1.100e-02\n",
      "Epoch 440/1000 - Step Info: (-0.7405954815956418-4.378437847536435e-07j), t_up:6.304e-04, t_s:4.036e-03, t_ss:6.313e-03, t_epoch:1.108e-02\n",
      "Epoch 441/1000 - Step Info: (-0.7405818537917961+7.99541325691125e-06j), t_up:6.280e-04, t_s:4.061e-03, t_ss:5.436e-03, t_epoch:1.021e-02\n",
      "Epoch 442/1000 - Step Info: (-0.7406195693518052-1.1692183942727128e-05j), t_up:6.104e-04, t_s:4.279e-03, t_ss:5.988e-03, t_epoch:1.098e-02\n",
      "Epoch 443/1000 - Step Info: (-0.7405820929448395+7.857009634134712e-06j), t_up:6.127e-04, t_s:4.028e-03, t_ss:6.097e-03, t_epoch:1.084e-02\n",
      "Epoch 444/1000 - Step Info: (-0.7406058312773646-4.647696577532512e-06j), t_up:6.208e-04, t_s:4.286e-03, t_ss:5.448e-03, t_epoch:1.083e-02\n",
      "Epoch 445/1000 - Step Info: (-0.74058032242597+7.950697963423638e-06j), t_up:6.025e-04, t_s:4.297e-03, t_ss:6.089e-03, t_epoch:1.109e-02\n",
      "Epoch 446/1000 - Step Info: (-0.7406069649609466-5.59878983374861e-06j), t_up:5.922e-04, t_s:4.057e-03, t_ss:5.929e-03, t_epoch:1.068e-02\n",
      "Epoch 447/1000 - Step Info: (-0.7405898753966228+2.3243779650590485e-06j), t_up:5.968e-04, t_s:4.060e-03, t_ss:5.455e-03, t_epoch:1.024e-02\n",
      "Epoch 448/1000 - Step Info: (-0.7405868923867349+7.692066595145817e-06j), t_up:6.027e-04, t_s:4.308e-03, t_ss:6.098e-03, t_epoch:1.111e-02\n",
      "Epoch 449/1000 - Step Info: (-0.7405714689638266+1.4846623002143023e-05j), t_up:6.347e-04, t_s:4.070e-03, t_ss:5.928e-03, t_epoch:1.073e-02\n",
      "Epoch 450/1000 - Step Info: (-0.7406125137012063-7.74895819143291e-06j), t_up:5.929e-04, t_s:4.065e-03, t_ss:5.424e-03, t_epoch:1.022e-02\n",
      "Epoch 451/1000 - Step Info: (-0.7405902541196773+4.714057794110164e-06j), t_up:5.901e-04, t_s:4.322e-03, t_ss:6.094e-03, t_epoch:1.111e-02\n",
      "Epoch 452/1000 - Step Info: (-0.7405985847302173-2.3664871962635004e-06j), t_up:6.027e-04, t_s:4.035e-03, t_ss:5.934e-03, t_epoch:1.068e-02\n",
      "Epoch 453/1000 - Step Info: (-0.7406063697320389-1.7763245024667304e-06j), t_up:5.960e-04, t_s:4.040e-03, t_ss:5.432e-03, t_epoch:1.017e-02\n",
      "Epoch 454/1000 - Step Info: (-0.7405999748009134-2.577448508506473e-07j), t_up:5.982e-04, t_s:4.330e-03, t_ss:6.115e-03, t_epoch:1.114e-02\n",
      "Epoch 455/1000 - Step Info: (-0.7406119146974256-6.1763702822715506e-06j), t_up:6.480e-04, t_s:4.020e-03, t_ss:5.926e-03, t_epoch:1.069e-02\n",
      "Epoch 456/1000 - Step Info: (-0.7406116635013977-6.273692161736582e-06j), t_up:6.077e-04, t_s:4.041e-03, t_ss:5.436e-03, t_epoch:1.022e-02\n",
      "Epoch 457/1000 - Step Info: (-0.7406139589878835-8.076219210665847e-06j), t_up:6.046e-04, t_s:4.299e-03, t_ss:6.097e-03, t_epoch:1.110e-02\n",
      "Epoch 458/1000 - Step Info: (-0.7405820647274534+8.772425244223206e-06j), t_up:5.999e-04, t_s:4.082e-03, t_ss:5.955e-03, t_epoch:1.074e-02\n",
      "Epoch 459/1000 - Step Info: (-0.7406116646468988-5.390791466805484e-06j), t_up:5.951e-04, t_s:4.049e-03, t_ss:5.432e-03, t_epoch:1.016e-02\n",
      "Epoch 460/1000 - Step Info: (-0.7406019828664969-3.053815629151752e-06j), t_up:5.960e-04, t_s:4.321e-03, t_ss:6.092e-03, t_epoch:1.110e-02\n",
      "Epoch 461/1000 - Step Info: (-0.7406032717914772-3.0446904277957556e-06j), t_up:6.237e-04, t_s:4.014e-03, t_ss:5.962e-03, t_epoch:1.070e-02\n",
      "Epoch 462/1000 - Step Info: (-0.7405967735365967+1.6495095848612487e-07j), t_up:6.378e-04, t_s:3.980e-03, t_ss:5.419e-03, t_epoch:1.012e-02\n",
      "Epoch 463/1000 - Step Info: (-0.7406045402025222-2.310066512904453e-06j), t_up:1.515e-03, t_s:4.296e-03, t_ss:6.083e-03, t_epoch:1.200e-02\n",
      "Epoch 464/1000 - Step Info: (-0.7406008280622203-2.6348449631310915e-07j), t_up:7.010e-04, t_s:4.045e-03, t_ss:6.288e-03, t_epoch:1.115e-02\n",
      "Epoch 465/1000 - Step Info: (-0.74057400306914+1.1481568571492136e-05j), t_up:7.343e-04, t_s:4.038e-03, t_ss:5.478e-03, t_epoch:1.037e-02\n",
      "Epoch 466/1000 - Step Info: (-0.7405835715573984+5.144838597430418e-06j), t_up:7.048e-04, t_s:4.059e-03, t_ss:5.720e-03, t_epoch:1.058e-02\n",
      "Epoch 467/1000 - Step Info: (-0.7406109329683438-6.480823141086658e-06j), t_up:6.659e-04, t_s:4.015e-03, t_ss:6.187e-03, t_epoch:1.099e-02\n",
      "Epoch 468/1000 - Step Info: (-0.7405987431908525-3.179152207586121e-06j), t_up:7.007e-04, t_s:4.030e-03, t_ss:5.439e-03, t_epoch:1.027e-02\n",
      "Epoch 469/1000 - Step Info: (-0.7405938213429336+1.5524332191412091e-06j), t_up:6.468e-04, t_s:4.486e-03, t_ss:5.705e-03, t_epoch:1.094e-02\n",
      "Epoch 470/1000 - Step Info: (-0.740590102739878+6.328724927138436e-06j), t_up:6.568e-04, t_s:4.009e-03, t_ss:5.939e-03, t_epoch:1.072e-02\n",
      "Epoch 471/1000 - Step Info: (-0.7405948231566647+1.5072750017107798e-07j), t_up:6.745e-04, t_s:3.965e-03, t_ss:5.425e-03, t_epoch:1.017e-02\n",
      "Epoch 472/1000 - Step Info: (-0.740591430443926+4.989668340104757e-08j), t_up:5.996e-04, t_s:4.607e-03, t_ss:5.677e-03, t_epoch:1.098e-02\n",
      "Epoch 473/1000 - Step Info: (-0.7405961558130251-1.4099773669916337e-06j), t_up:6.170e-04, t_s:4.029e-03, t_ss:6.195e-03, t_epoch:1.093e-02\n",
      "Epoch 474/1000 - Step Info: (-0.7405865926155991+4.267469124297779e-06j), t_up:6.394e-04, t_s:4.016e-03, t_ss:5.427e-03, t_epoch:1.019e-02\n",
      "Epoch 475/1000 - Step Info: (-0.7405815160078226+8.239291857917747e-06j), t_up:5.982e-04, t_s:4.732e-03, t_ss:5.679e-03, t_epoch:1.111e-02\n",
      "Epoch 476/1000 - Step Info: (-0.7405987779068002-1.8201709450664105e-06j), t_up:6.785e-04, t_s:4.047e-03, t_ss:5.961e-03, t_epoch:1.098e-02\n",
      "Epoch 477/1000 - Step Info: (-0.7406046606946902-2.833724612237069e-06j), t_up:6.063e-04, t_s:4.017e-03, t_ss:5.435e-03, t_epoch:1.016e-02\n",
      "Epoch 478/1000 - Step Info: (-0.7405993074706075-2.1031138292514118e-07j), t_up:6.409e-04, t_s:4.731e-03, t_ss:5.679e-03, t_epoch:1.115e-02\n",
      "Epoch 479/1000 - Step Info: (-0.7406051035472548-5.162309904079069e-06j), t_up:7.689e-04, t_s:4.081e-03, t_ss:6.100e-03, t_epoch:1.122e-02\n",
      "Epoch 480/1000 - Step Info: (-0.7406127097187788-8.864173019572958e-06j), t_up:6.690e-04, t_s:4.004e-03, t_ss:5.441e-03, t_epoch:1.022e-02\n",
      "Epoch 481/1000 - Step Info: (-0.7405937237895481+1.6912129870448688e-06j), t_up:7.076e-04, t_s:4.463e-03, t_ss:5.685e-03, t_epoch:1.099e-02\n",
      "Epoch 482/1000 - Step Info: (-0.7406061185685969-3.450968342369248e-06j), t_up:6.921e-04, t_s:3.988e-03, t_ss:6.181e-03, t_epoch:1.096e-02\n",
      "Epoch 483/1000 - Step Info: (-0.7405909176211699+3.7923687278350704e-06j), t_up:6.313e-04, t_s:4.047e-03, t_ss:5.445e-03, t_epoch:1.023e-02\n",
      "Epoch 484/1000 - Step Info: (-0.7405964800996175+9.121932146205555e-07j), t_up:6.268e-04, t_s:4.518e-03, t_ss:5.680e-03, t_epoch:1.093e-02\n",
      "Epoch 485/1000 - Step Info: (-0.7405949589570872+9.710428436792893e-07j), t_up:6.192e-04, t_s:4.038e-03, t_ss:6.196e-03, t_epoch:1.096e-02\n",
      "Epoch 486/1000 - Step Info: (-0.7405988443435767-6.084465209281409e-07j), t_up:6.404e-04, t_s:4.025e-03, t_ss:5.457e-03, t_epoch:1.023e-02\n",
      "Epoch 487/1000 - Step Info: (-0.7405924184595786+3.0931144450751037e-06j), t_up:6.115e-04, t_s:4.506e-03, t_ss:5.684e-03, t_epoch:1.090e-02\n",
      "Epoch 488/1000 - Step Info: (-0.740598544410748-2.038688297522912e-06j), t_up:6.123e-04, t_s:4.048e-03, t_ss:5.948e-03, t_epoch:1.071e-02\n",
      "Epoch 489/1000 - Step Info: (-0.740583651184498+6.181060383147405e-06j), t_up:6.630e-04, t_s:4.036e-03, t_ss:5.448e-03, t_epoch:1.026e-02\n",
      "Epoch 490/1000 - Step Info: (-0.7405928755834722+2.8695865171735614e-06j), t_up:6.559e-04, t_s:4.272e-03, t_ss:6.126e-03, t_epoch:1.117e-02\n",
      "Epoch 491/1000 - Step Info: (-0.740609957954932-4.0679135388415715e-06j), t_up:6.804e-04, t_s:4.089e-03, t_ss:5.948e-03, t_epoch:1.081e-02\n",
      "Epoch 492/1000 - Step Info: (-0.7405903395336806+3.18750961726248e-06j), t_up:6.394e-04, t_s:4.098e-03, t_ss:5.424e-03, t_epoch:1.026e-02\n",
      "Epoch 493/1000 - Step Info: (-0.7406052594417057-4.626539707830024e-06j), t_up:6.087e-04, t_s:4.546e-03, t_ss:5.682e-03, t_epoch:1.094e-02\n",
      "Epoch 494/1000 - Step Info: (-0.7405968285965855+2.2816578840629696e-07j), t_up:6.216e-04, t_s:4.044e-03, t_ss:6.186e-03, t_epoch:1.095e-02\n",
      "Epoch 495/1000 - Step Info: (-0.7405948692857396+2.1924483217714605e-06j), t_up:6.135e-04, t_s:4.066e-03, t_ss:5.439e-03, t_epoch:1.024e-02\n",
      "Epoch 496/1000 - Step Info: (-0.7406045653275496-3.2893432918967445e-06j), t_up:6.313e-04, t_s:4.375e-03, t_ss:5.678e-03, t_epoch:1.079e-02\n",
      "Epoch 497/1000 - Step Info: (-0.7405914082668275+8.221339310870688e-07j), t_up:6.361e-04, t_s:4.081e-03, t_ss:5.953e-03, t_epoch:1.077e-02\n",
      "Epoch 498/1000 - Step Info: (-0.7405919683567331+2.851623036295873e-06j), t_up:6.256e-04, t_s:4.078e-03, t_ss:5.427e-03, t_epoch:1.023e-02\n",
      "Epoch 499/1000 - Step Info: (-0.7405956750376229+1.8339625446485344e-06j), t_up:6.127e-04, t_s:4.574e-03, t_ss:5.671e-03, t_epoch:1.095e-02\n",
      "Epoch 500/1000 - Step Info: (-0.7406010922543491-2.4385952349913535e-06j), t_up:6.204e-04, t_s:4.092e-03, t_ss:5.947e-03, t_epoch:1.077e-02\n",
      "Epoch 501/1000 - Step Info: (-0.7406024065089759-3.610514571980093e-06j), t_up:6.156e-04, t_s:4.060e-03, t_ss:5.439e-03, t_epoch:1.021e-02\n",
      "Epoch 502/1000 - Step Info: (-0.740597009596097-1.100148617599976e-06j), t_up:6.423e-04, t_s:4.593e-03, t_ss:5.704e-03, t_epoch:1.105e-02\n",
      "Epoch 503/1000 - Step Info: (-0.7405836302915493+6.5154829663169495e-06j), t_up:6.518e-04, t_s:4.045e-03, t_ss:5.943e-03, t_epoch:1.075e-02\n",
      "Epoch 504/1000 - Step Info: (-0.7405955351693185+1.5234820012168814e-06j), t_up:6.101e-04, t_s:4.069e-03, t_ss:5.456e-03, t_epoch:1.023e-02\n",
      "Epoch 505/1000 - Step Info: (-0.7405917880391868+1.9482063452549098e-06j), t_up:6.163e-04, t_s:4.672e-03, t_ss:5.680e-03, t_epoch:1.107e-02\n",
      "Epoch 506/1000 - Step Info: (-0.7406032406004761-3.2216112574453257e-06j), t_up:6.053e-04, t_s:4.087e-03, t_ss:6.174e-03, t_epoch:1.097e-02\n",
      "Epoch 507/1000 - Step Info: (-0.7405974485701332-1.5469279029941e-07j), t_up:6.452e-04, t_s:4.054e-03, t_ss:5.420e-03, t_epoch:1.022e-02\n",
      "Epoch 508/1000 - Step Info: (-0.740610684237964-6.3745147757147175e-06j), t_up:6.177e-04, t_s:4.566e-03, t_ss:5.671e-03, t_epoch:1.098e-02\n",
      "Epoch 509/1000 - Step Info: (-0.7405984120965159-1.1544043078688728e-06j), t_up:6.773e-04, t_s:4.079e-03, t_ss:5.950e-03, t_epoch:1.082e-02\n",
      "Epoch 510/1000 - Step Info: (-0.7405972972732116-1.0370045161343416e-06j), t_up:6.206e-04, t_s:4.047e-03, t_ss:5.430e-03, t_epoch:1.020e-02\n",
      "Epoch 511/1000 - Step Info: (-0.7405979730246018-1.5765460932312203e-07j), t_up:6.180e-04, t_s:4.304e-03, t_ss:6.102e-03, t_epoch:1.112e-02\n",
      "Epoch 512/1000 - Step Info: (-0.7406035039437072-2.989414758850214e-06j), t_up:6.785e-04, t_s:4.091e-03, t_ss:5.996e-03, t_epoch:1.091e-02\n",
      "Epoch 513/1000 - Step Info: (-0.7405975550106316-4.3003113153475474e-07j), t_up:6.115e-04, t_s:4.072e-03, t_ss:5.437e-03, t_epoch:1.022e-02\n",
      "Epoch 514/1000 - Step Info: (-0.7405979003995435-9.767290685135623e-07j), t_up:6.077e-04, t_s:4.705e-03, t_ss:5.697e-03, t_epoch:1.112e-02\n",
      "Epoch 515/1000 - Step Info: (-0.7405981301288737+3.987345054989877e-08j), t_up:6.225e-04, t_s:4.056e-03, t_ss:6.191e-03, t_epoch:1.096e-02\n",
      "Epoch 516/1000 - Step Info: (-0.7405955849122356+1.2340428928832209e-06j), t_up:6.778e-04, t_s:4.066e-03, t_ss:5.421e-03, t_epoch:1.027e-02\n",
      "Epoch 517/1000 - Step Info: (-0.74060152292011-2.4134845938332972e-06j), t_up:6.433e-04, t_s:4.584e-03, t_ss:5.686e-03, t_epoch:1.101e-02\n",
      "Epoch 518/1000 - Step Info: (-0.7405934231617916+1.6655030627982344e-06j), t_up:6.175e-04, t_s:4.068e-03, t_ss:5.932e-03, t_epoch:1.071e-02\n",
      "Epoch 519/1000 - Step Info: (-0.740595039032118+1.0053620090762227e-06j), t_up:6.003e-04, t_s:4.044e-03, t_ss:5.423e-03, t_epoch:1.016e-02\n",
      "Epoch 520/1000 - Step Info: (-0.7406030055922789-2.0015581781624894e-06j), t_up:6.359e-04, t_s:4.332e-03, t_ss:6.121e-03, t_epoch:1.119e-02\n",
      "Epoch 521/1000 - Step Info: (-0.740600880942483-2.533456678995307e-06j), t_up:6.073e-04, t_s:4.090e-03, t_ss:5.939e-03, t_epoch:1.073e-02\n",
      "Epoch 522/1000 - Step Info: (-0.7406003928960453-1.6428554950339887e-06j), t_up:6.077e-04, t_s:4.311e-03, t_ss:5.426e-03, t_epoch:1.043e-02\n",
      "Epoch 523/1000 - Step Info: (-0.7406023287638204-2.7689450071772444e-06j), t_up:6.485e-04, t_s:4.625e-03, t_ss:5.695e-03, t_epoch:1.107e-02\n",
      "Epoch 524/1000 - Step Info: (-0.7405907224865081+3.3522389565145926e-06j), t_up:6.216e-04, t_s:4.055e-03, t_ss:5.960e-03, t_epoch:1.073e-02\n",
      "Epoch 525/1000 - Step Info: (-0.7405944506375215+3.8600126240281765e-07j), t_up:6.039e-04, t_s:4.066e-03, t_ss:5.448e-03, t_epoch:1.020e-02\n",
      "Epoch 526/1000 - Step Info: (-0.7405947461914705+3.62908400145214e-07j), t_up:6.051e-04, t_s:4.307e-03, t_ss:6.081e-03, t_epoch:1.109e-02\n",
      "Epoch 527/1000 - Step Info: (-0.7405905865372024+3.1137565321199327e-06j), t_up:6.647e-04, t_s:4.065e-03, t_ss:5.948e-03, t_epoch:1.077e-02\n",
      "Epoch 528/1000 - Step Info: (-0.7406002393257657-1.0196127423728554e-06j), t_up:6.099e-04, t_s:4.315e-03, t_ss:5.432e-03, t_epoch:1.045e-02\n",
      "Epoch 529/1000 - Step Info: (-0.7405995785354931-8.218204519979846e-07j), t_up:6.297e-04, t_s:4.613e-03, t_ss:5.680e-03, t_epoch:1.103e-02\n",
      "Epoch 530/1000 - Step Info: (-0.7405965494155451+4.6694504837866933e-07j), t_up:6.173e-04, t_s:4.053e-03, t_ss:5.949e-03, t_epoch:1.071e-02\n",
      "Epoch 531/1000 - Step Info: (-0.740597580097226-8.985819220704163e-07j), t_up:6.087e-04, t_s:4.057e-03, t_ss:5.430e-03, t_epoch:1.019e-02\n",
      "Epoch 532/1000 - Step Info: (-0.7405968178698067+2.0824353304695516e-07j), t_up:6.292e-04, t_s:4.303e-03, t_ss:6.092e-03, t_epoch:1.112e-02\n",
      "Epoch 533/1000 - Step Info: (-0.740596758307111+1.775907576151639e-07j), t_up:6.065e-04, t_s:4.064e-03, t_ss:5.933e-03, t_epoch:1.070e-02\n",
      "Epoch 534/1000 - Step Info: (-0.7406004835089195-2.023270475874548e-06j), t_up:5.934e-04, t_s:4.308e-03, t_ss:5.439e-03, t_epoch:1.044e-02\n",
      "Epoch 535/1000 - Step Info: (-0.7406001103622238-1.8822859935060275e-06j), t_up:6.249e-04, t_s:4.704e-03, t_ss:5.676e-03, t_epoch:1.111e-02\n",
      "Epoch 536/1000 - Step Info: (-0.740600851450734-1.3986571023336337e-06j), t_up:6.220e-04, t_s:4.034e-03, t_ss:5.945e-03, t_epoch:1.070e-02\n",
      "Epoch 537/1000 - Step Info: (-0.740599785054035-1.1458848891159904e-06j), t_up:6.225e-04, t_s:4.307e-03, t_ss:5.430e-03, t_epoch:1.046e-02\n",
      "Epoch 538/1000 - Step Info: (-0.740594614231115+1.22331060676715e-06j), t_up:6.120e-04, t_s:4.676e-03, t_ss:5.691e-03, t_epoch:1.107e-02\n",
      "Epoch 539/1000 - Step Info: (-0.7406037174739055-2.9455460351220446e-06j), t_up:6.244e-04, t_s:4.052e-03, t_ss:5.979e-03, t_epoch:1.076e-02\n",
      "Epoch 540/1000 - Step Info: (-0.7405952306975406+1.271598822620373e-06j), t_up:7.610e-04, t_s:4.069e-03, t_ss:5.738e-03, t_epoch:1.071e-02\n",
      "Epoch 541/1000 - Step Info: (-0.7405982122957709-5.463081895796137e-07j), t_up:6.828e-04, t_s:4.532e-03, t_ss:5.700e-03, t_epoch:1.101e-02\n",
      "Epoch 542/1000 - Step Info: (-0.7405977308182262-7.318327786863262e-08j), t_up:7.181e-04, t_s:4.080e-03, t_ss:5.932e-03, t_epoch:1.082e-02\n",
      "Epoch 543/1000 - Step Info: (-0.7405994069825829-1.003798043618413e-06j), t_up:9.472e-04, t_s:4.041e-03, t_ss:5.433e-03, t_epoch:1.054e-02\n",
      "Epoch 544/1000 - Step Info: (-0.7405975596693752+7.943018699026264e-08j), t_up:7.131e-04, t_s:4.308e-03, t_ss:5.684e-03, t_epoch:1.080e-02\n",
      "Epoch 545/1000 - Step Info: (-0.7405960613707344+8.79527956240853e-07j), t_up:9.699e-04, t_s:4.056e-03, t_ss:5.956e-03, t_epoch:1.112e-02\n",
      "Epoch 546/1000 - Step Info: (-0.7405959314711256+2.5857545918486533e-07j), t_up:9.634e-04, t_s:4.049e-03, t_ss:5.436e-03, t_epoch:1.058e-02\n",
      "Epoch 547/1000 - Step Info: (-0.7406020313069448-2.5767675314099835e-06j), t_up:7.057e-04, t_s:4.054e-03, t_ss:5.676e-03, t_epoch:1.053e-02\n",
      "Epoch 548/1000 - Step Info: (-0.7405943405522678+1.3242690015305303e-06j), t_up:6.685e-04, t_s:4.066e-03, t_ss:5.924e-03, t_epoch:1.077e-02\n",
      "Epoch 549/1000 - Step Info: (-0.7405961238766158+7.403545141514688e-07j), t_up:6.299e-04, t_s:4.313e-03, t_ss:5.423e-03, t_epoch:1.046e-02\n",
      "Epoch 550/1000 - Step Info: (-0.7405987335245539-6.691998667995026e-07j), t_up:6.547e-04, t_s:4.446e-03, t_ss:5.666e-03, t_epoch:1.087e-02\n",
      "Epoch 551/1000 - Step Info: (-0.7405969263098919+1.6815843405882795e-07j), t_up:6.006e-04, t_s:4.056e-03, t_ss:5.936e-03, t_epoch:1.068e-02\n",
      "Epoch 552/1000 - Step Info: (-0.7405949278125609+8.581671728434567e-07j), t_up:6.583e-04, t_s:4.033e-03, t_ss:5.429e-03, t_epoch:1.022e-02\n",
      "Epoch 553/1000 - Step Info: (-0.7405976318875357-8.511654815137562e-07j), t_up:6.528e-04, t_s:4.527e-03, t_ss:5.654e-03, t_epoch:1.094e-02\n",
      "Epoch 554/1000 - Step Info: (-0.7405946920557395+1.739921984911611e-06j), t_up:6.557e-04, t_s:4.054e-03, t_ss:5.931e-03, t_epoch:1.075e-02\n",
      "Epoch 555/1000 - Step Info: (-0.7405941697992969+1.3352027251843404e-06j), t_up:6.375e-04, t_s:4.321e-03, t_ss:5.426e-03, t_epoch:1.049e-02\n",
      "Epoch 556/1000 - Step Info: (-0.7405951538602351+7.047537828407426e-07j), t_up:6.208e-04, t_s:4.492e-03, t_ss:5.678e-03, t_epoch:1.089e-02\n",
      "Epoch 557/1000 - Step Info: (-0.7405983607551927-3.7853171007789707e-07j), t_up:6.211e-04, t_s:4.076e-03, t_ss:5.953e-03, t_epoch:1.075e-02\n",
      "Epoch 558/1000 - Step Info: (-0.7405999933571301-1.5676311320912107e-06j), t_up:6.344e-04, t_s:4.085e-03, t_ss:5.436e-03, t_epoch:1.026e-02\n",
      "Epoch 559/1000 - Step Info: (-0.740594486369324+1.4714727693947436e-06j), t_up:6.285e-04, t_s:4.670e-03, t_ss:5.679e-03, t_epoch:1.107e-02\n",
      "Epoch 560/1000 - Step Info: (-0.740595600080534+7.571827365657594e-07j), t_up:6.392e-04, t_s:4.058e-03, t_ss:5.928e-03, t_epoch:1.072e-02\n",
      "Epoch 561/1000 - Step Info: (-0.7405973036212286+5.451464978169374e-07j), t_up:6.278e-04, t_s:4.300e-03, t_ss:5.426e-03, t_epoch:1.045e-02\n",
      "Epoch 562/1000 - Step Info: (-0.7405945619898164+1.3496640390607332e-06j), t_up:6.280e-04, t_s:4.682e-03, t_ss:5.423e-03, t_epoch:1.086e-02\n",
      "Epoch 563/1000 - Step Info: (-0.7405985454157058-5.383518358441286e-07j), t_up:6.483e-04, t_s:4.042e-03, t_ss:6.004e-03, t_epoch:1.080e-02\n",
      "Epoch 564/1000 - Step Info: (-0.7405973532509886-1.242519473098122e-07j), t_up:6.464e-04, t_s:4.323e-03, t_ss:5.480e-03, t_epoch:1.055e-02\n",
      "Epoch 565/1000 - Step Info: (-0.7405955668928984+6.988295638406409e-07j), t_up:6.468e-04, t_s:4.601e-03, t_ss:5.691e-03, t_epoch:1.103e-02\n",
      "Epoch 566/1000 - Step Info: (-0.7405981965583304-5.085840985245445e-07j), t_up:6.244e-04, t_s:4.080e-03, t_ss:5.946e-03, t_epoch:1.074e-02\n",
      "Epoch 567/1000 - Step Info: (-0.7405981572489853-8.38006977714092e-07j), t_up:6.258e-04, t_s:4.315e-03, t_ss:5.429e-03, t_epoch:1.046e-02\n",
      "Epoch 568/1000 - Step Info: (-0.7405953673093211+8.93958381316367e-07j), t_up:6.607e-04, t_s:4.521e-03, t_ss:5.660e-03, t_epoch:1.094e-02\n",
      "Epoch 569/1000 - Step Info: (-0.7405961081697112+5.550356213158165e-07j), t_up:6.936e-04, t_s:4.071e-03, t_ss:5.916e-03, t_epoch:1.079e-02\n",
      "Epoch 570/1000 - Step Info: (-0.7405968295690989+1.0878659251249285e-07j), t_up:6.225e-04, t_s:4.384e-03, t_ss:5.440e-03, t_epoch:1.054e-02\n",
      "Epoch 571/1000 - Step Info: (-0.7405962591937478+3.929463920522477e-07j), t_up:6.557e-04, t_s:4.439e-03, t_ss:5.713e-03, t_epoch:1.092e-02\n",
      "Epoch 572/1000 - Step Info: (-0.7405974806281673-2.1199825963143514e-07j), t_up:7.703e-04, t_s:4.056e-03, t_ss:5.946e-03, t_epoch:1.089e-02\n",
      "Epoch 573/1000 - Step Info: (-0.740598303262291-2.7611120444107015e-07j), t_up:6.287e-04, t_s:4.042e-03, t_ss:5.461e-03, t_epoch:1.023e-02\n",
      "Epoch 574/1000 - Step Info: (-0.74059901224348-3.9627577920479397e-07j), t_up:6.387e-04, t_s:4.496e-03, t_ss:5.689e-03, t_epoch:1.092e-02\n",
      "Epoch 575/1000 - Step Info: (-0.7405949722447434+9.294613944975335e-07j), t_up:8.371e-04, t_s:4.077e-03, t_ss:5.957e-03, t_epoch:1.097e-02\n",
      "Epoch 576/1000 - Step Info: (-0.7405969658910727+3.77699086429607e-07j), t_up:8.996e-04, t_s:4.048e-03, t_ss:5.427e-03, t_epoch:1.051e-02\n",
      "Epoch 577/1000 - Step Info: (-0.7405976134024432-1.8912355328243423e-07j), t_up:7.639e-04, t_s:4.380e-03, t_ss:5.672e-03, t_epoch:1.093e-02\n",
      "Epoch 578/1000 - Step Info: (-0.7405975859675258+6.105361503725917e-09j), t_up:6.659e-04, t_s:4.070e-03, t_ss:5.932e-03, t_epoch:1.078e-02\n",
      "Epoch 579/1000 - Step Info: (-0.7405972541738356-3.054548180170434e-07j), t_up:6.351e-04, t_s:4.280e-03, t_ss:5.429e-03, t_epoch:1.044e-02\n",
      "Epoch 580/1000 - Step Info: (-0.7405965633428732+3.788459547252668e-07j), t_up:6.392e-04, t_s:4.436e-03, t_ss:5.688e-03, t_epoch:1.086e-02\n",
      "Epoch 581/1000 - Step Info: (-0.7405961889925363+9.988792288173962e-08j), t_up:6.573e-04, t_s:4.058e-03, t_ss:5.959e-03, t_epoch:1.078e-02\n",
      "Epoch 582/1000 - Step Info: (-0.7405962774465611+4.002279851744034e-07j), t_up:8.407e-04, t_s:4.206e-03, t_ss:5.469e-03, t_epoch:1.064e-02\n",
      "Epoch 583/1000 - Step Info: (-0.7405973137319414+4.15607884729894e-08j), t_up:9.272e-04, t_s:4.425e-03, t_ss:5.695e-03, t_epoch:1.122e-02\n",
      "Epoch 584/1000 - Step Info: (-0.7405953328198283+9.688740792896243e-07j), t_up:9.212e-04, t_s:4.020e-03, t_ss:5.991e-03, t_epoch:1.105e-02\n",
      "Epoch 585/1000 - Step Info: (-0.7405966073951108+1.4410208169215089e-07j), t_up:7.932e-04, t_s:4.753e-03, t_ss:4.868e-03, t_epoch:1.064e-02\n",
      "Epoch 586/1000 - Step Info: (-0.7405974779385534-2.0958581938751306e-07j), t_up:8.278e-04, t_s:4.034e-03, t_ss:5.696e-03, t_epoch:1.069e-02\n",
      "Epoch 587/1000 - Step Info: (-0.7405975965477892+1.4579469000667033e-07j), t_up:7.238e-04, t_s:3.984e-03, t_ss:5.942e-03, t_epoch:1.075e-02\n",
      "Epoch 588/1000 - Step Info: (-0.7405984565253962-3.3465407725825507e-07j), t_up:6.297e-04, t_s:3.983e-03, t_ss:5.420e-03, t_epoch:1.013e-02\n",
      "Epoch 589/1000 - Step Info: (-0.7405983709918857-5.640355430970977e-07j), t_up:5.677e-04, t_s:4.357e-03, t_ss:5.675e-03, t_epoch:1.070e-02\n",
      "Epoch 590/1000 - Step Info: (-0.7405971815593394-1.132317341954516e-07j), t_up:6.087e-04, t_s:4.061e-03, t_ss:5.925e-03, t_epoch:1.070e-02\n",
      "Epoch 591/1000 - Step Info: (-0.7405985878603901-5.458433008605487e-07j), t_up:5.524e-04, t_s:4.088e-03, t_ss:5.441e-03, t_epoch:1.018e-02\n",
      "Epoch 592/1000 - Step Info: (-0.7405990100249495-5.617904153755212e-07j), t_up:5.739e-04, t_s:4.605e-03, t_ss:5.703e-03, t_epoch:1.100e-02\n",
      "Epoch 593/1000 - Step Info: (-0.7405958674882533+2.8315220201775406e-07j), t_up:6.056e-04, t_s:4.069e-03, t_ss:5.946e-03, t_epoch:1.071e-02\n",
      "Epoch 594/1000 - Step Info: (-0.7405940279400378+1.5238010024139666e-06j), t_up:6.306e-04, t_s:4.067e-03, t_ss:5.431e-03, t_epoch:1.023e-02\n",
      "Epoch 595/1000 - Step Info: (-0.7405981941891-4.252760787897853e-07j), t_up:5.651e-04, t_s:4.709e-03, t_ss:5.665e-03, t_epoch:1.102e-02\n",
      "Epoch 596/1000 - Step Info: (-0.7405987799689718-9.764851831108097e-07j), t_up:5.522e-04, t_s:4.063e-03, t_ss:6.178e-03, t_epoch:1.088e-02\n",
      "Epoch 597/1000 - Step Info: (-0.740596475682537+3.9804084050279803e-07j), t_up:5.677e-04, t_s:4.032e-03, t_ss:5.424e-03, t_epoch:1.011e-02\n",
      "Epoch 598/1000 - Step Info: (-0.7405968600751176+2.3815822280198762e-07j), t_up:6.452e-04, t_s:4.279e-03, t_ss:6.048e-03, t_epoch:1.108e-02\n",
      "Epoch 599/1000 - Step Info: (-0.7405966864563539+2.3365376817712085e-07j), t_up:6.628e-04, t_s:4.061e-03, t_ss:6.171e-03, t_epoch:1.100e-02\n",
      "Epoch 600/1000 - Step Info: (-0.74059721894625-3.3728237798257877e-09j), t_up:5.562e-04, t_s:4.059e-03, t_ss:5.431e-03, t_epoch:1.015e-02\n",
      "Epoch 601/1000 - Step Info: (-0.740596907475076+6.799579887241686e-08j), t_up:5.805e-04, t_s:4.624e-03, t_ss:5.682e-03, t_epoch:1.097e-02\n",
      "Epoch 602/1000 - Step Info: (-0.7405975300703306-4.336268849271405e-07j), t_up:5.896e-04, t_s:4.045e-03, t_ss:5.929e-03, t_epoch:1.065e-02\n",
      "Epoch 603/1000 - Step Info: (-0.7405979701490073-5.244024835436371e-07j), t_up:5.598e-04, t_s:4.046e-03, t_ss:5.435e-03, t_epoch:1.013e-02\n",
      "Epoch 604/1000 - Step Info: (-0.7405968744698266-1.895875479360444e-07j), t_up:6.726e-04, t_s:4.250e-03, t_ss:6.102e-03, t_epoch:1.113e-02\n",
      "Epoch 605/1000 - Step Info: (-0.7405960098731499+5.4011333450448e-07j), t_up:8.848e-04, t_s:4.078e-03, t_ss:5.964e-03, t_epoch:1.106e-02\n",
      "Epoch 606/1000 - Step Info: (-0.7405979855154382-6.855545210510362e-07j), t_up:6.387e-04, t_s:4.053e-03, t_ss:5.471e-03, t_epoch:1.026e-02\n",
      "Epoch 607/1000 - Step Info: (-0.740596415408721+2.9408614943196e-07j), t_up:6.378e-04, t_s:4.693e-03, t_ss:5.690e-03, t_epoch:1.112e-02\n",
      "Epoch 608/1000 - Step Info: (-0.7405974507348962-2.642431561399656e-07j), t_up:7.448e-04, t_s:4.099e-03, t_ss:6.181e-03, t_epoch:1.112e-02\n",
      "Epoch 609/1000 - Step Info: (-0.7405969668294202+2.188619581607039e-08j), t_up:7.882e-04, t_s:4.031e-03, t_ss:5.441e-03, t_epoch:1.038e-02\n",
      "Epoch 610/1000 - Step Info: (-0.7405973141291197-9.63228145483992e-08j), t_up:5.913e-04, t_s:4.463e-03, t_ss:5.684e-03, t_epoch:1.083e-02\n",
      "Epoch 611/1000 - Step Info: (-0.7405977518947066-2.941838604373086e-07j), t_up:6.359e-04, t_s:4.073e-03, t_ss:6.195e-03, t_epoch:1.099e-02\n",
      "Epoch 612/1000 - Step Info: (-0.7405958414849526+6.428074992607409e-07j), t_up:6.764e-04, t_s:4.036e-03, t_ss:5.422e-03, t_epoch:1.022e-02\n",
      "Epoch 613/1000 - Step Info: (-0.7405960007010326+4.7274813921697264e-07j), t_up:6.082e-04, t_s:4.496e-03, t_ss:5.702e-03, t_epoch:1.090e-02\n",
      "Epoch 614/1000 - Step Info: (-0.7405976188438876-1.6684217539558374e-07j), t_up:6.375e-04, t_s:4.060e-03, t_ss:6.200e-03, t_epoch:1.100e-02\n",
      "Epoch 615/1000 - Step Info: (-0.7405981652512528-4.6444507717561904e-07j), t_up:5.996e-04, t_s:4.044e-03, t_ss:5.424e-03, t_epoch:1.015e-02\n",
      "Epoch 616/1000 - Step Info: (-0.7405978931488918-2.238048397445454e-07j), t_up:6.361e-04, t_s:4.392e-03, t_ss:5.676e-03, t_epoch:1.080e-02\n",
      "Epoch 617/1000 - Step Info: (-0.7405967876667542+1.2218568581549887e-07j), t_up:6.032e-04, t_s:4.052e-03, t_ss:5.959e-03, t_epoch:1.090e-02\n",
      "Epoch 618/1000 - Step Info: (-0.7405975889492353-1.242448612025843e-07j), t_up:6.166e-04, t_s:4.043e-03, t_ss:5.435e-03, t_epoch:1.021e-02\n",
      "Epoch 619/1000 - Step Info: (-0.7405981185014425-3.836858475801001e-07j), t_up:6.316e-04, t_s:4.541e-03, t_ss:5.682e-03, t_epoch:1.095e-02\n",
      "Epoch 620/1000 - Step Info: (-0.740597273114437-8.186660589188763e-08j), t_up:6.366e-04, t_s:4.059e-03, t_ss:6.181e-03, t_epoch:1.097e-02\n",
      "Epoch 621/1000 - Step Info: (-0.7405972244757963+2.058047196092093e-09j), t_up:6.683e-04, t_s:4.045e-03, t_ss:5.422e-03, t_epoch:1.023e-02\n",
      "Epoch 622/1000 - Step Info: (-0.7405964659289394+3.096945981382658e-07j), t_up:6.561e-04, t_s:4.610e-03, t_ss:5.654e-03, t_epoch:1.102e-02\n",
      "Epoch 623/1000 - Step Info: (-0.7405970839078254+3.906803541377067e-08j), t_up:6.557e-04, t_s:4.062e-03, t_ss:6.203e-03, t_epoch:1.102e-02\n",
      "Epoch 624/1000 - Step Info: (-0.7405962632415289+4.4031492901768726e-07j), t_up:6.700e-04, t_s:4.040e-03, t_ss:5.427e-03, t_epoch:1.023e-02\n",
      "Epoch 625/1000 - Step Info: (-0.7405970389508928+6.043511623986747e-08j), t_up:7.277e-04, t_s:4.480e-03, t_ss:5.716e-03, t_epoch:1.106e-02\n",
      "Epoch 626/1000 - Step Info: (-0.7405970716480719+8.392835603193678e-08j), t_up:7.036e-04, t_s:4.088e-03, t_ss:6.282e-03, t_epoch:1.123e-02\n",
      "Epoch 627/1000 - Step Info: (-0.7405977937351503-4.0123579032546536e-07j), t_up:6.855e-04, t_s:4.069e-03, t_ss:5.494e-03, t_epoch:1.035e-02\n",
      "Epoch 628/1000 - Step Info: (-0.740598530660701-7.640148532196144e-07j), t_up:6.170e-04, t_s:4.344e-03, t_ss:5.703e-03, t_epoch:1.077e-02\n",
      "Epoch 629/1000 - Step Info: (-0.740597704457678-3.1118731903427554e-07j), t_up:6.235e-04, t_s:4.050e-03, t_ss:6.202e-03, t_epoch:1.097e-02\n",
      "Epoch 630/1000 - Step Info: (-0.7405965386469888+3.2991606690501013e-07j), t_up:6.547e-04, t_s:4.061e-03, t_ss:5.441e-03, t_epoch:1.025e-02\n",
      "Epoch 631/1000 - Step Info: (-0.740597595168905-2.536810111727658e-07j), t_up:6.340e-04, t_s:4.493e-03, t_ss:5.705e-03, t_epoch:1.092e-02\n",
      "Epoch 632/1000 - Step Info: (-0.7405974883539341-1.6857282950453777e-07j), t_up:6.585e-04, t_s:4.076e-03, t_ss:6.196e-03, t_epoch:1.103e-02\n",
      "Epoch 633/1000 - Step Info: (-0.7405977233801241-3.462831336109453e-07j), t_up:6.557e-04, t_s:4.049e-03, t_ss:5.425e-03, t_epoch:1.022e-02\n",
      "Epoch 634/1000 - Step Info: (-0.7405963900786029+3.329623212448011e-07j), t_up:6.547e-04, t_s:4.564e-03, t_ss:5.680e-03, t_epoch:1.101e-02\n",
      "Epoch 635/1000 - Step Info: (-0.74059718852591+5.19887432105322e-09j), t_up:6.499e-04, t_s:4.017e-03, t_ss:6.176e-03, t_epoch:1.094e-02\n",
      "Epoch 636/1000 - Step Info: (-0.7405970363821176+1.845428941529745e-07j), t_up:6.673e-04, t_s:4.066e-03, t_ss:5.461e-03, t_epoch:1.029e-02\n",
      "Epoch 637/1000 - Step Info: (-0.7405982178883358-5.815775423606239e-07j), t_up:6.473e-04, t_s:4.254e-03, t_ss:5.715e-03, t_epoch:1.072e-02\n",
      "Epoch 638/1000 - Step Info: (-0.7405972807304565-8.367696731359338e-08j), t_up:6.573e-04, t_s:4.092e-03, t_ss:6.200e-03, t_epoch:1.104e-02\n",
      "Epoch 639/1000 - Step Info: (-0.740596510756667+2.7231375243919753e-07j), t_up:5.987e-04, t_s:4.064e-03, t_ss:5.438e-03, t_epoch:1.021e-02\n",
      "Epoch 640/1000 - Step Info: (-0.7405968397159363+1.7765972522577435e-07j), t_up:6.568e-04, t_s:4.351e-03, t_ss:5.690e-03, t_epoch:1.080e-02\n",
      "Epoch 641/1000 - Step Info: (-0.7405978948749276-3.55922658498212e-07j), t_up:6.392e-04, t_s:4.091e-03, t_ss:6.203e-03, t_epoch:1.103e-02\n",
      "Epoch 642/1000 - Step Info: (-0.7405974332199798-1.2674929331325284e-07j), t_up:6.533e-04, t_s:4.056e-03, t_ss:5.422e-03, t_epoch:1.022e-02\n",
      "Epoch 643/1000 - Step Info: (-0.7405974163454943-2.1517802506371136e-07j), t_up:6.399e-04, t_s:4.408e-03, t_ss:5.692e-03, t_epoch:1.084e-02\n",
      "Epoch 644/1000 - Step Info: (-0.7405972467478105-2.5689176832768524e-08j), t_up:6.943e-04, t_s:4.053e-03, t_ss:6.212e-03, t_epoch:1.106e-02\n",
      "Epoch 645/1000 - Step Info: (-0.7405972138506322-3.894272080745629e-09j), t_up:6.359e-04, t_s:4.066e-03, t_ss:5.461e-03, t_epoch:1.027e-02\n",
      "Epoch 646/1000 - Step Info: (-0.7405972035574315+4.7848019089035195e-08j), t_up:9.041e-04, t_s:4.369e-03, t_ss:5.774e-03, t_epoch:1.125e-02\n",
      "Epoch 647/1000 - Step Info: (-0.7405964941753317+2.9279916725973156e-07j), t_up:7.372e-04, t_s:4.097e-03, t_ss:6.319e-03, t_epoch:1.126e-02\n",
      "Epoch 648/1000 - Step Info: (-0.7405972235179533-9.192859894082919e-08j), t_up:5.958e-04, t_s:4.269e-03, t_ss:5.956e-03, t_epoch:1.093e-02\n",
      "Epoch 649/1000 - Step Info: (-0.7405969909230644+6.168713067102639e-08j), t_up:6.168e-04, t_s:4.091e-03, t_ss:5.697e-03, t_epoch:1.050e-02\n",
      "Epoch 650/1000 - Step Info: (-0.7405970869397386-1.2384574843184663e-08j), t_up:6.111e-04, t_s:4.087e-03, t_ss:6.266e-03, t_epoch:1.106e-02\n",
      "Epoch 651/1000 - Step Info: (-0.7405968494480877+1.7703446443819938e-07j), t_up:6.449e-04, t_s:4.234e-03, t_ss:6.159e-03, t_epoch:1.113e-02\n",
      "Epoch 652/1000 - Step Info: (-0.7405974514286678-1.1407927594811196e-07j), t_up:6.044e-04, t_s:4.300e-03, t_ss:5.480e-03, t_epoch:1.047e-02\n",
      "Epoch 653/1000 - Step Info: (-0.7405968679725259+2.2674384794510635e-07j), t_up:5.901e-04, t_s:4.069e-03, t_ss:6.197e-03, t_epoch:1.095e-02\n",
      "Epoch 654/1000 - Step Info: (-0.740596933692583+1.151905158211733e-07j), t_up:6.084e-04, t_s:4.241e-03, t_ss:6.100e-03, t_epoch:1.105e-02\n",
      "Epoch 655/1000 - Step Info: (-0.7405972961331938-1.5030919987026617e-07j), t_up:6.680e-04, t_s:4.097e-03, t_ss:5.845e-03, t_epoch:1.073e-02\n",
      "Epoch 656/1000 - Step Info: (-0.7405971228816609+2.79078410883962e-08j), t_up:6.447e-04, t_s:4.092e-03, t_ss:6.290e-03, t_epoch:1.113e-02\n",
      "Epoch 657/1000 - Step Info: (-0.7405975347742524-1.3475193057688862e-07j), t_up:6.225e-04, t_s:4.267e-03, t_ss:6.216e-03, t_epoch:1.120e-02\n",
      "Epoch 658/1000 - Step Info: (-0.7405971191633864+1.5018015269589634e-07j), t_up:6.063e-04, t_s:4.302e-03, t_ss:5.482e-03, t_epoch:1.048e-02\n",
      "Epoch 659/1000 - Step Info: (-0.7405972687891916-5.423760874381477e-08j), t_up:5.963e-04, t_s:4.339e-03, t_ss:5.950e-03, t_epoch:1.098e-02\n",
      "Epoch 660/1000 - Step Info: (-0.7405970846384944+6.050918449606442e-08j), t_up:6.549e-04, t_s:4.079e-03, t_ss:6.215e-03, t_epoch:1.106e-02\n",
      "Epoch 661/1000 - Step Info: (-0.740596723869043+2.22893538239162e-07j), t_up:6.251e-04, t_s:4.307e-03, t_ss:5.469e-03, t_epoch:1.049e-02\n",
      "Epoch 662/1000 - Step Info: (-0.7405975496623425-2.4102148892406924e-07j), t_up:5.891e-04, t_s:4.338e-03, t_ss:5.972e-03, t_epoch:1.099e-02\n",
      "Epoch 663/1000 - Step Info: (-0.7405967997216504+1.6541412322164846e-07j), t_up:5.686e-04, t_s:4.080e-03, t_ss:6.184e-03, t_epoch:1.093e-02\n",
      "Epoch 664/1000 - Step Info: (-0.7405974327778843-9.157131626672551e-08j), t_up:5.703e-04, t_s:4.303e-03, t_ss:5.471e-03, t_epoch:1.044e-02\n",
      "Epoch 665/1000 - Step Info: (-0.7405972736942138-8.261053414401426e-08j), t_up:5.558e-04, t_s:4.337e-03, t_ss:5.991e-03, t_epoch:1.098e-02\n",
      "Epoch 666/1000 - Step Info: (-0.7405967833382129+1.4044439473155314e-07j), t_up:6.170e-04, t_s:4.091e-03, t_ss:6.297e-03, t_epoch:1.110e-02\n",
      "Epoch 667/1000 - Step Info: (-0.7405978167881895-3.2055313732847053e-07j), t_up:5.553e-04, t_s:4.071e-03, t_ss:5.475e-03, t_epoch:1.018e-02\n",
      "Epoch 668/1000 - Step Info: (-0.7405970447741806+7.999763702842823e-09j), t_up:5.629e-04, t_s:4.269e-03, t_ss:5.959e-03, t_epoch:1.088e-02\n",
      "Epoch 669/1000 - Step Info: (-0.7405968683160233+1.6997199214661222e-07j), t_up:6.039e-04, t_s:4.084e-03, t_ss:6.217e-03, t_epoch:1.100e-02\n",
      "Epoch 670/1000 - Step Info: (-0.7405968096626382+1.459100087791154e-07j), t_up:5.674e-04, t_s:4.079e-03, t_ss:5.454e-03, t_epoch:1.021e-02\n",
      "Epoch 671/1000 - Step Info: (-0.740596833598401+1.6326032528213726e-07j), t_up:5.605e-04, t_s:4.334e-03, t_ss:5.954e-03, t_epoch:1.093e-02\n",
      "Epoch 672/1000 - Step Info: (-0.7405969070997033+1.1522645518353089e-07j), t_up:8.056e-04, t_s:3.991e-03, t_ss:6.405e-03, t_epoch:1.136e-02\n",
      "Epoch 673/1000 - Step Info: (-0.7405971397449941-5.852261578744701e-08j), t_up:5.856e-04, t_s:4.133e-03, t_ss:5.435e-03, t_epoch:1.024e-02\n",
      "Epoch 674/1000 - Step Info: (-0.7405968893460785+1.1567437146903916e-07j), t_up:6.046e-04, t_s:4.339e-03, t_ss:5.957e-03, t_epoch:1.099e-02\n",
      "Epoch 675/1000 - Step Info: (-0.7405973704094749-1.1294602782689149e-07j), t_up:6.015e-04, t_s:4.005e-03, t_ss:5.962e-03, t_epoch:1.066e-02\n",
      "Epoch 676/1000 - Step Info: (-0.7405971628771276+2.9028923789049512e-08j), t_up:5.691e-04, t_s:4.256e-03, t_ss:5.445e-03, t_epoch:1.035e-02\n",
      "Epoch 677/1000 - Step Info: (-0.7405967042173998+2.323896939032057e-07j), t_up:5.593e-04, t_s:4.303e-03, t_ss:6.004e-03, t_epoch:1.097e-02\n",
      "Epoch 678/1000 - Step Info: (-0.7405971545826308-5.0951224173156056e-08j), t_up:6.380e-04, t_s:4.045e-03, t_ss:5.968e-03, t_epoch:1.075e-02\n",
      "Epoch 679/1000 - Step Info: (-0.7405972613465412-3.128193979194964e-08j), t_up:5.536e-04, t_s:4.039e-03, t_ss:5.473e-03, t_epoch:1.015e-02\n",
      "Epoch 680/1000 - Step Info: (-0.740597189974067-1.1424384282961989e-08j), t_up:5.534e-04, t_s:4.256e-03, t_ss:5.957e-03, t_epoch:1.086e-02\n",
      "Epoch 681/1000 - Step Info: (-0.740596965572449+6.10620061109147e-08j), t_up:8.454e-04, t_s:4.068e-03, t_ss:6.347e-03, t_epoch:1.137e-02\n",
      "Epoch 682/1000 - Step Info: (-0.7405967224959896+1.9811312957267888e-07j), t_up:9.787e-04, t_s:4.168e-03, t_ss:5.526e-03, t_epoch:1.080e-02\n",
      "Epoch 683/1000 - Step Info: (-0.7405971037886316+1.0801967607263206e-07j), t_up:7.062e-04, t_s:4.810e-03, t_ss:5.710e-03, t_epoch:1.132e-02\n",
      "Epoch 684/1000 - Step Info: (-0.7405971162557369-1.9923168202293904e-08j), t_up:6.294e-04, t_s:4.034e-03, t_ss:5.984e-03, t_epoch:1.074e-02\n",
      "Epoch 685/1000 - Step Info: (-0.7405970459143505+7.168578378269311e-08j), t_up:5.832e-04, t_s:3.983e-03, t_ss:5.462e-03, t_epoch:1.012e-02\n",
      "Epoch 686/1000 - Step Info: (-0.7405971637403383+4.4507729262585594e-08j), t_up:5.631e-04, t_s:4.750e-03, t_ss:5.668e-03, t_epoch:1.106e-02\n",
      "Epoch 687/1000 - Step Info: (-0.7405970674856844+6.174312126563031e-08j), t_up:7.460e-04, t_s:4.051e-03, t_ss:5.957e-03, t_epoch:1.085e-02\n",
      "Epoch 688/1000 - Step Info: (-0.7405970191374722+5.3505426874139496e-08j), t_up:5.519e-04, t_s:4.064e-03, t_ss:5.448e-03, t_epoch:1.016e-02\n",
      "Epoch 689/1000 - Step Info: (-0.7405973883199708-1.4971929643565068e-07j), t_up:5.517e-04, t_s:4.328e-03, t_ss:6.099e-03, t_epoch:1.106e-02\n",
      "Epoch 690/1000 - Step Info: (-0.7405970423893343+3.3577962420778465e-08j), t_up:5.584e-04, t_s:4.032e-03, t_ss:6.147e-03, t_epoch:1.082e-02\n",
      "Epoch 691/1000 - Step Info: (-0.7405972049207705-2.7706927286550056e-08j), t_up:5.927e-04, t_s:4.066e-03, t_ss:5.450e-03, t_epoch:1.022e-02\n",
      "Epoch 692/1000 - Step Info: (-0.7405968522120221+1.7997460973641154e-07j), t_up:5.734e-04, t_s:4.299e-03, t_ss:6.019e-03, t_epoch:1.098e-02\n",
      "Epoch 693/1000 - Step Info: (-0.7405971462629672-1.6187904884025836e-09j), t_up:5.667e-04, t_s:3.991e-03, t_ss:6.180e-03, t_epoch:1.082e-02\n",
      "Epoch 694/1000 - Step Info: (-0.7405968969195664+1.217730627896042e-07j), t_up:5.586e-04, t_s:4.072e-03, t_ss:5.454e-03, t_epoch:1.017e-02\n",
      "Epoch 695/1000 - Step Info: (-0.7405973479109309-9.92636078738145e-08j), t_up:6.304e-04, t_s:4.304e-03, t_ss:6.063e-03, t_epoch:1.108e-02\n",
      "Epoch 696/1000 - Step Info: (-0.7405969212061021+9.990781329777698e-08j), t_up:5.772e-04, t_s:4.077e-03, t_ss:5.977e-03, t_epoch:1.071e-02\n",
      "Epoch 697/1000 - Step Info: (-0.7405974588037662-1.974675384148671e-07j), t_up:7.079e-04, t_s:4.074e-03, t_ss:5.433e-03, t_epoch:1.031e-02\n",
      "Epoch 698/1000 - Step Info: (-0.7405970226183488+4.1824546736225275e-08j), t_up:5.579e-04, t_s:4.268e-03, t_ss:5.958e-03, t_epoch:1.096e-02\n",
      "Epoch 699/1000 - Step Info: (-0.7405969801082677+1.250100666932561e-07j), t_up:5.448e-04, t_s:4.047e-03, t_ss:5.965e-03, t_epoch:1.064e-02\n",
      "Epoch 700/1000 - Step Info: (-0.7405971045421559+1.6393941440514458e-08j), t_up:5.720e-04, t_s:4.068e-03, t_ss:5.455e-03, t_epoch:1.018e-02\n",
      "Epoch 701/1000 - Step Info: (-0.7405971859200073-2.2077474906933637e-08j), t_up:5.517e-04, t_s:4.340e-03, t_ss:5.942e-03, t_epoch:1.093e-02\n",
      "Epoch 702/1000 - Step Info: (-0.7405974504418866-1.202067906163234e-07j), t_up:7.131e-04, t_s:4.045e-03, t_ss:6.251e-03, t_epoch:1.116e-02\n",
      "Epoch 703/1000 - Step Info: (-0.7405971317360739+3.273766408810818e-08j), t_up:5.741e-04, t_s:4.148e-03, t_ss:5.489e-03, t_epoch:1.030e-02\n",
      "Epoch 704/1000 - Step Info: (-0.7405971386091985+1.07667529532115e-08j), t_up:5.875e-04, t_s:4.234e-03, t_ss:5.956e-03, t_epoch:1.095e-02\n",
      "Epoch 705/1000 - Step Info: (-0.7405969279583609+1.4888724893075189e-07j), t_up:5.846e-04, t_s:4.051e-03, t_ss:5.961e-03, t_epoch:1.068e-02\n",
      "Epoch 706/1000 - Step Info: (-0.7405970661594676+7.589354921322555e-08j), t_up:5.488e-04, t_s:4.022e-03, t_ss:5.438e-03, t_epoch:1.011e-02\n",
      "Epoch 707/1000 - Step Info: (-0.7405971337957337+4.6661094342363624e-08j), t_up:5.746e-04, t_s:4.292e-03, t_ss:5.917e-03, t_epoch:1.089e-02\n",
      "Epoch 708/1000 - Step Info: (-0.7405972179222778-1.0401369085717197e-08j), t_up:5.860e-04, t_s:4.047e-03, t_ss:5.947e-03, t_epoch:1.067e-02\n",
      "Epoch 709/1000 - Step Info: (-0.7405973375645516-1.1723253220571824e-07j), t_up:5.469e-04, t_s:4.149e-03, t_ss:5.446e-03, t_epoch:1.023e-02\n",
      "Epoch 710/1000 - Step Info: (-0.7405973340566953-6.439870475321013e-08j), t_up:5.717e-04, t_s:4.308e-03, t_ss:5.980e-03, t_epoch:1.096e-02\n",
      "Epoch 711/1000 - Step Info: (-0.7405971609332549+3.8529982998878104e-08j), t_up:7.396e-04, t_s:4.025e-03, t_ss:6.263e-03, t_epoch:1.112e-02\n",
      "Epoch 712/1000 - Step Info: (-0.7405971435553675-1.7297555503366473e-09j), t_up:5.500e-04, t_s:4.030e-03, t_ss:5.438e-03, t_epoch:1.011e-02\n",
      "Epoch 713/1000 - Step Info: (-0.7405971979071246-3.4672857626817893e-08j), t_up:1.682e-03, t_s:4.322e-03, t_ss:5.973e-03, t_epoch:1.231e-02\n",
      "Epoch 714/1000 - Step Info: (-0.7405969774557382+4.579852587699295e-08j), t_up:9.992e-04, t_s:4.695e-03, t_ss:6.135e-03, t_epoch:1.206e-02\n",
      "Epoch 715/1000 - Step Info: (-0.74059709342202+4.2477628807358035e-08j), t_up:6.602e-04, t_s:4.281e-03, t_ss:6.341e-03, t_epoch:1.138e-02\n",
      "Epoch 716/1000 - Step Info: (-0.7405971318966571-4.151051559414903e-08j), t_up:5.417e-04, t_s:4.326e-03, t_ss:5.461e-03, t_epoch:1.042e-02\n",
      "Epoch 717/1000 - Step Info: (-0.7405970474885719+4.942439792725465e-08j), t_up:9.007e-04, t_s:4.056e-03, t_ss:6.190e-03, t_epoch:1.127e-02\n",
      "Epoch 718/1000 - Step Info: (-0.740597229093861-4.178358479509454e-08j), t_up:6.888e-04, t_s:4.123e-03, t_ss:6.071e-03, t_epoch:1.103e-02\n",
      "Epoch 719/1000 - Step Info: (-0.7405971312957996+2.0233148343609646e-08j), t_up:5.789e-04, t_s:4.181e-03, t_ss:5.468e-03, t_epoch:1.033e-02\n",
      "Epoch 720/1000 - Step Info: (-0.7405972576482509-3.170626589404532e-08j), t_up:5.882e-04, t_s:4.357e-03, t_ss:6.103e-03, t_epoch:1.120e-02\n",
      "Epoch 721/1000 - Step Info: (-0.7405972153936272-3.2857481791270815e-08j), t_up:5.069e-04, t_s:4.107e-03, t_ss:6.293e-03, t_epoch:1.101e-02\n",
      "Epoch 722/1000 - Step Info: (-0.7405973503959019-9.191406436982024e-08j), t_up:6.523e-04, t_s:4.616e-03, t_ss:5.298e-03, t_epoch:1.066e-02\n",
      "Epoch 723/1000 - Step Info: (-0.7405970821737945-1.8189862450352812e-08j), t_up:6.664e-04, t_s:4.761e-03, t_ss:5.497e-03, t_epoch:1.103e-02\n",
      "Epoch 724/1000 - Step Info: (-0.7405971562938879-2.985569398470947e-08j), t_up:6.497e-04, t_s:4.374e-03, t_ss:5.996e-03, t_epoch:1.111e-02\n",
      "Epoch 725/1000 - Step Info: (-0.7405970448722269+3.836391830316128e-08j), t_up:8.299e-04, t_s:4.047e-03, t_ss:5.656e-03, t_epoch:1.068e-02\n",
      "Epoch 726/1000 - Step Info: (-0.7405969183754725+1.1289527470127887e-07j), t_up:6.905e-04, t_s:4.176e-03, t_ss:5.487e-03, t_epoch:1.047e-02\n",
      "Epoch 727/1000 - Step Info: (-0.7405971865633046-2.3380518113442333e-08j), t_up:5.777e-04, t_s:4.069e-03, t_ss:5.571e-03, t_epoch:1.030e-02\n",
      "Epoch 728/1000 - Step Info: (-0.7405970187351961+3.979460622284374e-08j), t_up:5.310e-04, t_s:4.052e-03, t_ss:5.293e-03, t_epoch:9.959e-03\n",
      "Epoch 729/1000 - Step Info: (-0.740597090057002+1.3513612723460123e-08j), t_up:4.594e-04, t_s:4.534e-03, t_ss:5.425e-03, t_epoch:1.050e-02\n",
      "Epoch 730/1000 - Step Info: (-0.7405971642005518-9.844375961013564e-09j), t_up:6.833e-04, t_s:4.045e-03, t_ss:6.185e-03, t_epoch:1.099e-02\n",
      "Epoch 731/1000 - Step Info: (-0.7405972134742435-5.426393081722489e-08j), t_up:4.442e-04, t_s:4.047e-03, t_ss:5.459e-03, t_epoch:1.002e-02\n",
      "Epoch 732/1000 - Step Info: (-0.7405972750874217-6.486335375999358e-08j), t_up:5.181e-04, t_s:4.310e-03, t_ss:6.004e-03, t_epoch:1.091e-02\n",
      "Epoch 733/1000 - Step Info: (-0.7405971399349018+2.1607597259726376e-08j), t_up:5.102e-04, t_s:4.052e-03, t_ss:6.181e-03, t_epoch:1.082e-02\n",
      "Epoch 734/1000 - Step Info: (-0.7405971196577827+1.6392934802229873e-08j), t_up:5.298e-04, t_s:4.035e-03, t_ss:5.429e-03, t_epoch:1.007e-02\n",
      "Epoch 735/1000 - Step Info: (-0.7405971318290716+9.669137499421206e-09j), t_up:4.103e-04, t_s:4.291e-03, t_ss:6.068e-03, t_epoch:1.084e-02\n",
      "Epoch 736/1000 - Step Info: (-0.7405970893328274+3.507291020095798e-08j), t_up:4.063e-04, t_s:4.006e-03, t_ss:6.207e-03, t_epoch:1.069e-02\n",
      "Epoch 737/1000 - Step Info: (-0.7405971571498705+6.426886168004432e-09j), t_up:4.432e-04, t_s:4.025e-03, t_ss:5.422e-03, t_epoch:9.961e-03\n",
      "Epoch 738/1000 - Step Info: (-0.7405971563445349+3.6125623778960103e-09j), t_up:4.585e-04, t_s:4.304e-03, t_ss:5.979e-03, t_epoch:1.083e-02\n",
      "Epoch 739/1000 - Step Info: (-0.7405971685720636-1.033090919763501e-08j), t_up:7.474e-04, t_s:4.014e-03, t_ss:6.323e-03, t_epoch:1.119e-02\n",
      "Epoch 740/1000 - Step Info: (-0.7405970820493529+3.045757700608618e-08j), t_up:4.730e-04, t_s:4.042e-03, t_ss:5.426e-03, t_epoch:1.002e-02\n",
      "Epoch 741/1000 - Step Info: (-0.7405972466051237-5.8673360391662484e-08j), t_up:4.995e-04, t_s:4.247e-03, t_ss:5.929e-03, t_epoch:1.075e-02\n",
      "Epoch 742/1000 - Step Info: (-0.7405972772872839-5.3649264235577456e-08j), t_up:6.304e-04, t_s:4.031e-03, t_ss:6.301e-03, t_epoch:1.104e-02\n",
      "Epoch 743/1000 - Step Info: (-0.7405972378252782-4.152813672908883e-08j), t_up:4.117e-04, t_s:3.959e-03, t_ss:5.433e-03, t_epoch:9.908e-03\n",
      "Epoch 744/1000 - Step Info: (-0.7405971144278441+1.6473504278496416e-08j), t_up:4.284e-04, t_s:4.263e-03, t_ss:5.928e-03, t_epoch:1.070e-02\n",
      "Epoch 745/1000 - Step Info: (-0.7405971293674948+3.3900010430820573e-08j), t_up:8.738e-04, t_s:4.014e-03, t_ss:6.541e-03, t_epoch:1.158e-02\n",
      "Epoch 746/1000 - Step Info: (-0.7405972198830839-1.6198579221861206e-08j), t_up:7.114e-04, t_s:4.122e-03, t_ss:5.427e-03, t_epoch:1.037e-02\n",
      "Epoch 747/1000 - Step Info: (-0.7405971316160082+4.811429311632814e-09j), t_up:6.750e-04, t_s:4.312e-03, t_ss:5.917e-03, t_epoch:1.104e-02\n",
      "Epoch 748/1000 - Step Info: (-0.7405972163789859-2.652559128181509e-08j), t_up:6.206e-04, t_s:4.010e-03, t_ss:6.212e-03, t_epoch:1.094e-02\n",
      "Epoch 749/1000 - Step Info: (-0.740597209843776-3.6096937378095495e-08j), t_up:6.063e-04, t_s:4.064e-03, t_ss:5.430e-03, t_epoch:1.019e-02\n",
      "Epoch 750/1000 - Step Info: (-0.7405971147123054+3.637507348280958e-08j), t_up:8.960e-04, t_s:4.370e-03, t_ss:5.912e-03, t_epoch:1.131e-02\n",
      "Epoch 751/1000 - Step Info: (-0.7405972371613199-3.310524550591922e-08j), t_up:7.567e-04, t_s:4.130e-03, t_ss:6.173e-03, t_epoch:1.117e-02\n",
      "Epoch 752/1000 - Step Info: (-0.7405972099397162-1.8501786527821263e-08j), t_up:6.933e-04, t_s:4.025e-03, t_ss:5.465e-03, t_epoch:1.028e-02\n",
      "Epoch 753/1000 - Step Info: (-0.740597105194364+2.482168556096512e-08j), t_up:6.359e-04, t_s:4.316e-03, t_ss:6.044e-03, t_epoch:1.110e-02\n",
      "Epoch 754/1000 - Step Info: (-0.7405970552918423+3.446615617090237e-08j), t_up:6.049e-04, t_s:4.022e-03, t_ss:6.136e-03, t_epoch:1.086e-02\n",
      "Epoch 755/1000 - Step Info: (-0.7405971090149284+4.704429345987357e-09j), t_up:6.418e-04, t_s:4.093e-03, t_ss:5.429e-03, t_epoch:1.026e-02\n",
      "Epoch 756/1000 - Step Info: (-0.7405971720102333-1.910395290652368e-08j), t_up:5.989e-04, t_s:4.310e-03, t_ss:6.039e-03, t_epoch:1.105e-02\n",
      "Epoch 757/1000 - Step Info: (-0.7405970164153353+5.485146692623863e-08j), t_up:6.275e-04, t_s:4.074e-03, t_ss:6.142e-03, t_epoch:1.094e-02\n",
      "Epoch 758/1000 - Step Info: (-0.7405971747346279-7.420777280097213e-09j), t_up:6.690e-04, t_s:4.093e-03, t_ss:5.426e-03, t_epoch:1.028e-02\n",
      "Epoch 759/1000 - Step Info: (-0.7405971709269598-1.7788824947168376e-08j), t_up:6.387e-04, t_s:4.332e-03, t_ss:6.038e-03, t_epoch:1.110e-02\n",
      "Epoch 760/1000 - Step Info: (-0.7405971014774895+2.5773876115415065e-08j), t_up:6.258e-04, t_s:4.085e-03, t_ss:6.168e-03, t_epoch:1.098e-02\n",
      "Epoch 761/1000 - Step Info: (-0.7405972537961849-3.4873445268420715e-08j), t_up:6.597e-04, t_s:4.062e-03, t_ss:5.421e-03, t_epoch:1.025e-02\n",
      "Epoch 762/1000 - Step Info: (-0.7405971884585664-9.340627485973665e-09j), t_up:6.595e-04, t_s:4.321e-03, t_ss:6.024e-03, t_epoch:1.110e-02\n",
      "Epoch 763/1000 - Step Info: (-0.7405971492076094+1.527522389765584e-09j), t_up:6.256e-04, t_s:4.076e-03, t_ss:6.171e-03, t_epoch:1.097e-02\n",
      "Epoch 764/1000 - Step Info: (-0.7405971477725015+9.829851927211375e-09j), t_up:6.557e-04, t_s:4.049e-03, t_ss:5.428e-03, t_epoch:1.023e-02\n",
      "Epoch 765/1000 - Step Info: (-0.740597152909289+1.3632278386196756e-08j), t_up:6.273e-04, t_s:4.495e-03, t_ss:5.861e-03, t_epoch:1.108e-02\n",
      "Epoch 766/1000 - Step Info: (-0.7405972118382622-2.368756131627864e-08j), t_up:6.695e-04, t_s:3.978e-03, t_ss:6.164e-03, t_epoch:1.092e-02\n",
      "Epoch 767/1000 - Step Info: (-0.7405971528095552+7.499304275151469e-09j), t_up:8.364e-04, t_s:4.073e-03, t_ss:5.507e-03, t_epoch:1.056e-02\n",
      "Epoch 768/1000 - Step Info: (-0.7405971040848139+1.2991802902048984e-08j), t_up:6.983e-04, t_s:4.488e-03, t_ss:5.437e-03, t_epoch:1.072e-02\n",
      "Epoch 769/1000 - Step Info: (-0.7405970757183273+4.102134366970951e-08j), t_up:6.564e-04, t_s:4.047e-03, t_ss:6.186e-03, t_epoch:1.099e-02\n",
      "Epoch 770/1000 - Step Info: (-0.7405971362205752+1.7311018312509803e-08j), t_up:8.616e-04, t_s:4.064e-03, t_ss:5.428e-03, t_epoch:1.047e-02\n",
      "Epoch 771/1000 - Step Info: (-0.740597109836745+1.4833931044543843e-08j), t_up:6.244e-04, t_s:4.375e-03, t_ss:5.400e-03, t_epoch:1.052e-02\n",
      "Epoch 772/1000 - Step Info: (-0.7405971531151793+3.319165624668514e-09j), t_up:6.397e-04, t_s:4.051e-03, t_ss:6.174e-03, t_epoch:1.095e-02\n",
      "Epoch 773/1000 - Step Info: (-0.7405971242278481+8.155320080132766e-09j), t_up:5.975e-04, t_s:4.027e-03, t_ss:5.425e-03, t_epoch:1.015e-02\n",
      "Epoch 774/1000 - Step Info: (-0.7405971711323012-4.501139331767933e-09j), t_up:7.138e-04, t_s:4.814e-03, t_ss:5.413e-03, t_epoch:1.104e-02\n",
      "Epoch 775/1000 - Step Info: (-0.7405972032732676-2.8066591897862042e-08j), t_up:6.680e-04, t_s:4.036e-03, t_ss:6.143e-03, t_epoch:1.095e-02\n",
      "Epoch 776/1000 - Step Info: (-0.7405971327527644+1.1211567403107249e-08j), t_up:6.487e-04, t_s:4.052e-03, t_ss:5.428e-03, t_epoch:1.023e-02\n",
      "Epoch 777/1000 - Step Info: (-0.7405971304447084+1.1981703365512442e-08j), t_up:8.802e-04, t_s:4.746e-03, t_ss:5.430e-03, t_epoch:1.119e-02\n",
      "Epoch 778/1000 - Step Info: (-0.7405971527736268+1.6376151639290328e-09j), t_up:6.511e-04, t_s:4.014e-03, t_ss:6.159e-03, t_epoch:1.093e-02\n",
      "Epoch 779/1000 - Step Info: (-0.7405971553526081-7.185554480271141e-09j), t_up:6.261e-04, t_s:4.019e-03, t_ss:5.417e-03, t_epoch:1.018e-02\n",
      "Epoch 780/1000 - Step Info: (-0.7405971715188373-4.194295387030963e-09j), t_up:6.886e-04, t_s:4.546e-03, t_ss:5.427e-03, t_epoch:1.076e-02\n",
      "Epoch 781/1000 - Step Info: (-0.7405971952187486-1.9934513146818785e-08j), t_up:7.126e-04, t_s:4.058e-03, t_ss:6.147e-03, t_epoch:1.101e-02\n",
      "Epoch 782/1000 - Step Info: (-0.7405971792182131-1.103208441233572e-08j), t_up:6.146e-04, t_s:4.042e-03, t_ss:5.433e-03, t_epoch:1.020e-02\n",
      "Epoch 783/1000 - Step Info: (-0.7405972030783559-2.0525560934010562e-08j), t_up:6.247e-04, t_s:4.729e-03, t_ss:5.423e-03, t_epoch:1.086e-02\n",
      "Epoch 784/1000 - Step Info: (-0.7405971579153277+3.530964121158827e-09j), t_up:6.251e-04, t_s:4.017e-03, t_ss:6.156e-03, t_epoch:1.090e-02\n",
      "Epoch 785/1000 - Step Info: (-0.7405971643811565-9.568443761702061e-10j), t_up:7.033e-04, t_s:4.030e-03, t_ss:5.526e-03, t_epoch:1.038e-02\n",
      "Epoch 786/1000 - Step Info: (-0.7405971961433147-2.8319820511933714e-08j), t_up:8.461e-04, t_s:4.668e-03, t_ss:5.418e-03, t_epoch:1.103e-02\n",
      "Epoch 787/1000 - Step Info: (-0.7405971666766087-3.627717053520535e-11j), t_up:8.457e-04, t_s:4.045e-03, t_ss:6.178e-03, t_epoch:1.120e-02\n",
      "Epoch 788/1000 - Step Info: (-0.7405971746444686-7.418491111226443e-09j), t_up:6.759e-04, t_s:3.990e-03, t_ss:5.442e-03, t_epoch:1.023e-02\n",
      "Epoch 789/1000 - Step Info: (-0.7405971076502701+2.7569743266891074e-08j), t_up:8.409e-04, t_s:4.473e-03, t_ss:5.410e-03, t_epoch:1.083e-02\n",
      "Epoch 790/1000 - Step Info: (-0.7405971625493434-3.116818720683233e-09j), t_up:6.232e-04, t_s:4.080e-03, t_ss:6.150e-03, t_epoch:1.096e-02\n",
      "Epoch 791/1000 - Step Info: (-0.7405971508482325-2.033867999338264e-10j), t_up:6.530e-04, t_s:4.067e-03, t_ss:5.421e-03, t_epoch:1.024e-02\n",
      "Epoch 792/1000 - Step Info: (-0.740597158052607-5.830327216050185e-09j), t_up:6.227e-04, t_s:4.397e-03, t_ss:5.406e-03, t_epoch:1.052e-02\n",
      "Epoch 793/1000 - Step Info: (-0.7405971407505395+5.019446016119657e-09j), t_up:6.320e-04, t_s:4.070e-03, t_ss:6.140e-03, t_epoch:1.094e-02\n",
      "Epoch 794/1000 - Step Info: (-0.7405971242800946+2.5962659685801218e-08j), t_up:5.965e-04, t_s:4.075e-03, t_ss:5.414e-03, t_epoch:1.018e-02\n",
      "Epoch 795/1000 - Step Info: (-0.7405970846410691+3.873937262553225e-08j), t_up:6.330e-04, t_s:4.930e-03, t_ss:5.426e-03, t_epoch:1.108e-02\n",
      "Epoch 796/1000 - Step Info: (-0.7405971220786329+2.0604902619957403e-08j), t_up:5.963e-04, t_s:4.056e-03, t_ss:6.118e-03, t_epoch:1.086e-02\n",
      "Epoch 797/1000 - Step Info: (-0.7405971751742091-5.051150783380817e-09j), t_up:6.614e-04, t_s:4.068e-03, t_ss:5.422e-03, t_epoch:1.024e-02\n",
      "Epoch 798/1000 - Step Info: (-0.7405971403031641+7.369793196366346e-09j), t_up:6.282e-04, t_s:4.864e-03, t_ss:5.410e-03, t_epoch:1.100e-02\n",
      "Epoch 799/1000 - Step Info: (-0.7405971279570379+1.2094834983330546e-08j), t_up:6.146e-04, t_s:4.095e-03, t_ss:6.152e-03, t_epoch:1.096e-02\n",
      "Epoch 800/1000 - Step Info: (-0.7405970918583215+2.5115624907607338e-08j), t_up:6.287e-04, t_s:4.053e-03, t_ss:5.433e-03, t_epoch:1.021e-02\n",
      "Epoch 801/1000 - Step Info: (-0.7405971806033002-1.7952219639864346e-08j), t_up:6.142e-04, t_s:4.821e-03, t_ss:5.424e-03, t_epoch:1.096e-02\n",
      "Epoch 802/1000 - Step Info: (-0.7405971384267583-5.5161264393484905e-09j), t_up:6.428e-04, t_s:4.068e-03, t_ss:6.152e-03, t_epoch:1.096e-02\n",
      "Epoch 803/1000 - Step Info: (-0.7405971175350298+1.7185858694787368e-08j), t_up:6.378e-04, t_s:4.062e-03, t_ss:5.455e-03, t_epoch:1.026e-02\n",
      "Epoch 804/1000 - Step Info: (-0.7405971516839455-1.743377737559978e-09j), t_up:6.955e-04, t_s:4.873e-03, t_ss:5.429e-03, t_epoch:1.110e-02\n",
      "Epoch 805/1000 - Step Info: (-0.7405971464450128+4.240459138172801e-09j), t_up:6.368e-04, t_s:4.071e-03, t_ss:6.171e-03, t_epoch:1.098e-02\n",
      "Epoch 806/1000 - Step Info: (-0.7405971332884248+6.144553307414613e-09j), t_up:6.397e-04, t_s:4.066e-03, t_ss:5.437e-03, t_epoch:1.024e-02\n",
      "Epoch 807/1000 - Step Info: (-0.7405971265349501+1.794255338071914e-08j), t_up:6.404e-04, t_s:4.754e-03, t_ss:5.421e-03, t_epoch:1.091e-02\n",
      "Epoch 808/1000 - Step Info: (-0.7405971051201045+2.257631884027897e-08j), t_up:6.368e-04, t_s:4.026e-03, t_ss:6.153e-03, t_epoch:1.091e-02\n",
      "Epoch 809/1000 - Step Info: (-0.7405971226107556+1.3790349291540264e-08j), t_up:6.011e-04, t_s:4.068e-03, t_ss:5.424e-03, t_epoch:1.020e-02\n",
      "Epoch 810/1000 - Step Info: (-0.7405971537761795+2.022707902735978e-09j), t_up:6.058e-04, t_s:4.850e-03, t_ss:5.414e-03, t_epoch:1.097e-02\n",
      "Epoch 811/1000 - Step Info: (-0.7405971340862083+5.79594902348212e-09j), t_up:6.557e-04, t_s:4.077e-03, t_ss:6.174e-03, t_epoch:1.102e-02\n",
      "Epoch 812/1000 - Step Info: (-0.7405971300643581+9.013982400436291e-09j), t_up:6.776e-04, t_s:4.063e-03, t_ss:5.430e-03, t_epoch:1.027e-02\n",
      "Epoch 813/1000 - Step Info: (-0.7405971451679118+1.4111289020647776e-09j), t_up:6.316e-04, t_s:4.772e-03, t_ss:5.421e-03, t_epoch:1.093e-02\n",
      "Epoch 814/1000 - Step Info: (-0.740597125733435+1.584387762534469e-08j), t_up:6.413e-04, t_s:4.060e-03, t_ss:6.164e-03, t_epoch:1.096e-02\n",
      "Epoch 815/1000 - Step Info: (-0.7405971432480739+4.876676643944037e-09j), t_up:7.980e-04, t_s:4.068e-03, t_ss:5.441e-03, t_epoch:1.041e-02\n",
      "Epoch 816/1000 - Step Info: (-0.7405971713419711-8.251348452618986e-09j), t_up:5.968e-04, t_s:4.683e-03, t_ss:5.424e-03, t_epoch:1.080e-02\n",
      "Epoch 817/1000 - Step Info: (-0.740597129627681+1.3446422350819048e-08j), t_up:6.084e-04, t_s:4.059e-03, t_ss:6.169e-03, t_epoch:1.093e-02\n",
      "Epoch 818/1000 - Step Info: (-0.7405971793838586-1.640399009715743e-08j), t_up:7.331e-04, t_s:4.093e-03, t_ss:5.438e-03, t_epoch:1.036e-02\n",
      "Epoch 819/1000 - Step Info: (-0.7405971436904938+6.19309501597375e-09j), t_up:6.509e-04, t_s:4.781e-03, t_ss:5.429e-03, t_epoch:1.097e-02\n",
      "Epoch 820/1000 - Step Info: (-0.7405971493205002+2.192005930945829e-09j), t_up:6.659e-04, t_s:4.116e-03, t_ss:6.187e-03, t_epoch:1.108e-02\n",
      "Epoch 821/1000 - Step Info: (-0.7405971552701383-1.7535251118709223e-09j), t_up:6.461e-04, t_s:4.019e-03, t_ss:5.473e-03, t_epoch:1.025e-02\n",
      "Epoch 822/1000 - Step Info: (-0.7405971660134824-9.508423022979351e-09j), t_up:6.340e-04, t_s:4.532e-03, t_ss:5.411e-03, t_epoch:1.068e-02\n",
      "Epoch 823/1000 - Step Info: (-0.7405971511677878+3.4436564798661098e-09j), t_up:6.700e-04, t_s:4.053e-03, t_ss:6.156e-03, t_epoch:1.098e-02\n",
      "Epoch 824/1000 - Step Info: (-0.7405971692151977-6.045745704963553e-09j), t_up:6.068e-04, t_s:4.091e-03, t_ss:5.419e-03, t_epoch:1.021e-02\n",
      "Epoch 825/1000 - Step Info: (-0.7405971220943327+1.5470028617308852e-08j), t_up:6.349e-04, t_s:4.823e-03, t_ss:5.415e-03, t_epoch:1.097e-02\n",
      "Epoch 826/1000 - Step Info: (-0.7405971428640924+3.9692913648088984e-10j), t_up:6.180e-04, t_s:4.083e-03, t_ss:6.141e-03, t_epoch:1.094e-02\n",
      "Epoch 827/1000 - Step Info: (-0.7405971132844305+1.72033661761677e-08j), t_up:6.242e-04, t_s:4.094e-03, t_ss:5.417e-03, t_epoch:1.024e-02\n",
      "Epoch 828/1000 - Step Info: (-0.7405971247706421+1.3441631012762047e-08j), t_up:6.366e-04, t_s:4.869e-03, t_ss:5.407e-03, t_epoch:1.101e-02\n",
      "Epoch 829/1000 - Step Info: (-0.7405971547805714-2.501087132051221e-09j), t_up:6.256e-04, t_s:4.093e-03, t_ss:6.156e-03, t_epoch:1.097e-02\n",
      "Epoch 830/1000 - Step Info: (-0.7405971478505339+4.913365615637142e-09j), t_up:6.216e-04, t_s:4.087e-03, t_ss:5.439e-03, t_epoch:1.024e-02\n",
      "Epoch 831/1000 - Step Info: (-0.7405971509350067+8.296775000254476e-10j), t_up:6.139e-04, t_s:4.813e-03, t_ss:5.414e-03, t_epoch:1.093e-02\n",
      "Epoch 832/1000 - Step Info: (-0.7405971505030734+1.2739769618096893e-09j), t_up:6.294e-04, t_s:4.068e-03, t_ss:6.167e-03, t_epoch:1.097e-02\n",
      "Epoch 833/1000 - Step Info: (-0.7405971542677475-4.7739780202874895e-09j), t_up:6.003e-04, t_s:4.078e-03, t_ss:5.511e-03, t_epoch:1.028e-02\n",
      "Epoch 834/1000 - Step Info: (-0.7405971368158952+4.971893762024924e-10j), t_up:6.440e-04, t_s:4.767e-03, t_ss:5.412e-03, t_epoch:1.093e-02\n",
      "Epoch 835/1000 - Step Info: (-0.740597156695284-2.2057782732949298e-09j), t_up:6.580e-04, t_s:4.073e-03, t_ss:6.176e-03, t_epoch:1.102e-02\n",
      "Epoch 836/1000 - Step Info: (-0.7405971321956699+1.0337587251203332e-08j), t_up:6.382e-04, t_s:4.046e-03, t_ss:5.442e-03, t_epoch:1.022e-02\n",
      "Epoch 837/1000 - Step Info: (-0.7405971442404198+3.1953411436762003e-09j), t_up:6.526e-04, t_s:4.773e-03, t_ss:5.406e-03, t_epoch:1.092e-02\n",
      "Epoch 838/1000 - Step Info: (-0.7405971638102778-1.1692737708174884e-08j), t_up:6.053e-04, t_s:4.066e-03, t_ss:6.168e-03, t_epoch:1.094e-02\n",
      "Epoch 839/1000 - Step Info: (-0.740597154341588-1.1497943794233704e-09j), t_up:6.366e-04, t_s:4.071e-03, t_ss:5.421e-03, t_epoch:1.022e-02\n",
      "Epoch 840/1000 - Step Info: (-0.7405971542960539-9.685937608587506e-10j), t_up:6.108e-04, t_s:4.813e-03, t_ss:5.408e-03, t_epoch:1.093e-02\n",
      "Epoch 841/1000 - Step Info: (-0.7405971519462072+2.0087015611235634e-09j), t_up:6.254e-04, t_s:4.076e-03, t_ss:6.173e-03, t_epoch:1.096e-02\n",
      "Epoch 842/1000 - Step Info: (-0.740597152403423-1.7169994361815712e-10j), t_up:6.087e-04, t_s:4.060e-03, t_ss:5.428e-03, t_epoch:1.019e-02\n",
      "Epoch 843/1000 - Step Info: (-0.7405971524991701+8.311378759382171e-10j), t_up:6.058e-04, t_s:4.822e-03, t_ss:5.423e-03, t_epoch:1.095e-02\n",
      "Epoch 844/1000 - Step Info: (-0.7405971449864026+6.949638624360751e-09j), t_up:8.457e-04, t_s:4.063e-03, t_ss:6.121e-03, t_epoch:1.112e-02\n",
      "Epoch 845/1000 - Step Info: (-0.7405971383588555+4.355485490988863e-09j), t_up:8.366e-04, t_s:4.044e-03, t_ss:5.427e-03, t_epoch:1.042e-02\n",
      "Epoch 846/1000 - Step Info: (-0.7405971476486305+2.3898172464525184e-11j), t_up:8.264e-04, t_s:4.453e-03, t_ss:5.414e-03, t_epoch:1.082e-02\n",
      "Epoch 847/1000 - Step Info: (-0.7405971467808382+2.4008473778077174e-09j), t_up:7.417e-04, t_s:4.075e-03, t_ss:6.158e-03, t_epoch:1.109e-02\n",
      "Epoch 848/1000 - Step Info: (-0.7405971620184746-4.714081015920864e-09j), t_up:6.068e-04, t_s:4.065e-03, t_ss:5.437e-03, t_epoch:1.022e-02\n",
      "Epoch 849/1000 - Step Info: (-0.7405971429933187+3.0412551630516565e-09j), t_up:5.894e-04, t_s:4.409e-03, t_ss:5.405e-03, t_epoch:1.050e-02\n",
      "Epoch 850/1000 - Step Info: (-0.7405971508718683+2.0668102908853803e-09j), t_up:6.342e-04, t_s:4.084e-03, t_ss:6.170e-03, t_epoch:1.098e-02\n",
      "Epoch 851/1000 - Step Info: (-0.7405971405573736+6.75155515708029e-09j), t_up:6.261e-04, t_s:4.049e-03, t_ss:5.430e-03, t_epoch:1.021e-02\n",
      "Epoch 852/1000 - Step Info: (-0.74059715189168-7.013232342880234e-10j), t_up:6.421e-04, t_s:4.886e-03, t_ss:5.406e-03, t_epoch:1.103e-02\n",
      "Epoch 853/1000 - Step Info: (-0.7405971562789839-4.850767950902076e-09j), t_up:6.392e-04, t_s:4.057e-03, t_ss:6.170e-03, t_epoch:1.097e-02\n",
      "Epoch 854/1000 - Step Info: (-0.7405971559211626-4.4683480977981395e-09j), t_up:6.199e-04, t_s:4.069e-03, t_ss:5.425e-03, t_epoch:1.020e-02\n",
      "Epoch 855/1000 - Step Info: (-0.7405971528362354-8.994980240260791e-10j), t_up:6.239e-04, t_s:4.894e-03, t_ss:5.429e-03, t_epoch:1.105e-02\n",
      "Epoch 856/1000 - Step Info: (-0.7405971575747785+8.939018763315505e-10j), t_up:6.413e-04, t_s:4.098e-03, t_ss:6.177e-03, t_epoch:1.101e-02\n",
      "Epoch 857/1000 - Step Info: (-0.7405971547235844+4.2855368186535896e-10j), t_up:6.278e-04, t_s:4.028e-03, t_ss:5.422e-03, t_epoch:1.017e-02\n",
      "Epoch 858/1000 - Step Info: (-0.740597159669894-4.07613952657833e-09j), t_up:6.087e-04, t_s:4.779e-03, t_ss:5.415e-03, t_epoch:1.091e-02\n",
      "Epoch 859/1000 - Step Info: (-0.7405971523135195-7.787683168983455e-10j), t_up:6.542e-04, t_s:4.077e-03, t_ss:6.124e-03, t_epoch:1.097e-02\n",
      "Epoch 860/1000 - Step Info: (-0.7405971603233568-6.134955354990465e-09j), t_up:6.092e-04, t_s:4.078e-03, t_ss:5.419e-03, t_epoch:1.020e-02\n",
      "Epoch 861/1000 - Step Info: (-0.7405971412689027+6.188169914127022e-09j), t_up:6.709e-04, t_s:4.873e-03, t_ss:5.426e-03, t_epoch:1.108e-02\n",
      "Epoch 862/1000 - Step Info: (-0.7405971502771047+8.10741209363577e-11j), t_up:6.275e-04, t_s:4.036e-03, t_ss:6.147e-03, t_epoch:1.091e-02\n",
      "Epoch 863/1000 - Step Info: (-0.7405971405864599+5.0929810688663654e-09j), t_up:6.275e-04, t_s:4.066e-03, t_ss:5.429e-03, t_epoch:1.022e-02\n",
      "Epoch 864/1000 - Step Info: (-0.7405971521013992-1.2224861975432558e-09j), t_up:5.996e-04, t_s:4.720e-03, t_ss:5.418e-03, t_epoch:1.083e-02\n",
      "Epoch 865/1000 - Step Info: (-0.7405971430220092+3.389401569442021e-09j), t_up:6.213e-04, t_s:4.060e-03, t_ss:6.164e-03, t_epoch:1.093e-02\n",
      "Epoch 866/1000 - Step Info: (-0.7405971545494472-1.2846899024118459e-09j), t_up:6.256e-04, t_s:4.059e-03, t_ss:5.431e-03, t_epoch:1.021e-02\n",
      "Epoch 867/1000 - Step Info: (-0.7405971601785388-5.041138235928495e-09j), t_up:7.546e-04, t_s:4.861e-03, t_ss:5.414e-03, t_epoch:1.112e-02\n",
      "Epoch 868/1000 - Step Info: (-0.7405971485956261+3.118820201024706e-09j), t_up:7.646e-04, t_s:4.093e-03, t_ss:6.227e-03, t_epoch:1.124e-02\n",
      "Epoch 869/1000 - Step Info: (-0.7405971696164011-9.470695386989547e-09j), t_up:6.299e-04, t_s:4.060e-03, t_ss:5.501e-03, t_epoch:1.029e-02\n",
      "Epoch 870/1000 - Step Info: (-0.7405971478004979+2.725785729855049e-09j), t_up:6.106e-04, t_s:4.480e-03, t_ss:5.435e-03, t_epoch:1.061e-02\n",
      "Epoch 871/1000 - Step Info: (-0.7405971478739514+4.168161851478019e-09j), t_up:6.301e-04, t_s:4.039e-03, t_ss:6.169e-03, t_epoch:1.093e-02\n",
      "Epoch 872/1000 - Step Info: (-0.7405971412304864+3.4378865197212747e-09j), t_up:6.206e-04, t_s:4.048e-03, t_ss:5.426e-03, t_epoch:1.021e-02\n",
      "Epoch 873/1000 - Step Info: (-0.7405971492315294+1.296434391575019e-10j), t_up:6.177e-04, t_s:4.857e-03, t_ss:5.417e-03, t_epoch:1.098e-02\n",
      "Epoch 874/1000 - Step Info: (-0.7405971392179406+6.040393118096386e-09j), t_up:6.282e-04, t_s:4.085e-03, t_ss:6.151e-03, t_epoch:1.097e-02\n",
      "Epoch 875/1000 - Step Info: (-0.7405971521063819-1.8077480024051292e-09j), t_up:6.073e-04, t_s:4.053e-03, t_ss:5.422e-03, t_epoch:1.018e-02\n",
      "Epoch 876/1000 - Step Info: (-0.7405971501010948+2.0450325925538727e-09j), t_up:6.645e-04, t_s:4.837e-03, t_ss:5.409e-03, t_epoch:1.101e-02\n",
      "Epoch 877/1000 - Step Info: (-0.7405971459368536+4.104707175873238e-09j), t_up:7.353e-04, t_s:4.072e-03, t_ss:6.143e-03, t_epoch:1.105e-02\n",
      "Epoch 878/1000 - Step Info: (-0.7405971492054236+2.6162273999523537e-09j), t_up:6.404e-04, t_s:4.067e-03, t_ss:5.449e-03, t_epoch:1.025e-02\n",
      "Epoch 879/1000 - Step Info: (-0.7405971516653976+1.4247902978141983e-09j), t_up:6.113e-04, t_s:4.659e-03, t_ss:5.425e-03, t_epoch:1.079e-02\n",
      "Epoch 880/1000 - Step Info: (-0.7405971435167392+3.8432518978042285e-09j), t_up:6.781e-04, t_s:4.068e-03, t_ss:6.152e-03, t_epoch:1.099e-02\n",
      "Epoch 881/1000 - Step Info: (-0.7405971464986324+1.1736175959550758e-09j), t_up:7.126e-04, t_s:4.078e-03, t_ss:5.446e-03, t_epoch:1.034e-02\n",
      "Epoch 882/1000 - Step Info: (-0.7405971511680545+1.6917408441733963e-09j), t_up:6.335e-04, t_s:4.711e-03, t_ss:5.417e-03, t_epoch:1.085e-02\n",
      "Epoch 883/1000 - Step Info: (-0.7405971428816903+3.1037258705750655e-09j), t_up:6.266e-04, t_s:4.057e-03, t_ss:6.159e-03, t_epoch:1.093e-02\n",
      "Epoch 884/1000 - Step Info: (-0.7405971506401159+1.7933198439456427e-09j), t_up:9.322e-04, t_s:4.030e-03, t_ss:5.463e-03, t_epoch:1.054e-02\n",
      "Epoch 885/1000 - Step Info: (-0.740597149419151+1.929252465541443e-09j), t_up:9.522e-04, t_s:4.866e-03, t_ss:5.487e-03, t_epoch:1.144e-02\n",
      "Epoch 886/1000 - Step Info: (-0.7405971513993109+2.4994384225273423e-10j), t_up:9.277e-04, t_s:4.055e-03, t_ss:6.192e-03, t_epoch:1.129e-02\n",
      "Epoch 887/1000 - Step Info: (-0.7405971454423687+1.9454975877112286e-09j), t_up:7.055e-04, t_s:4.206e-03, t_ss:5.302e-03, t_epoch:1.039e-02\n",
      "Epoch 888/1000 - Step Info: (-0.7405971439202794+3.771688963477876e-09j), t_up:6.466e-04, t_s:4.056e-03, t_ss:5.427e-03, t_epoch:1.025e-02\n",
      "Epoch 889/1000 - Step Info: (-0.7405971496279397+1.2393495863298698e-09j), t_up:6.299e-04, t_s:4.030e-03, t_ss:6.173e-03, t_epoch:1.093e-02\n",
      "Epoch 890/1000 - Step Info: (-0.7405971555845982-1.5530143477848605e-09j), t_up:6.406e-04, t_s:4.050e-03, t_ss:5.466e-03, t_epoch:1.026e-02\n",
      "Epoch 891/1000 - Step Info: (-0.740597145288187+3.6583783519474187e-09j), t_up:6.177e-04, t_s:4.573e-03, t_ss:5.414e-03, t_epoch:1.070e-02\n",
      "Epoch 892/1000 - Step Info: (-0.7405971512085687+1.5250029360560108e-09j), t_up:6.442e-04, t_s:4.022e-03, t_ss:6.168e-03, t_epoch:1.092e-02\n",
      "Epoch 893/1000 - Step Info: (-0.7405971618885058-5.641946812263602e-09j), t_up:6.130e-04, t_s:4.059e-03, t_ss:5.416e-03, t_epoch:1.018e-02\n",
      "Epoch 894/1000 - Step Info: (-0.7405971463672176+2.71674172251226e-09j), t_up:6.227e-04, t_s:4.925e-03, t_ss:5.426e-03, t_epoch:1.107e-02\n",
      "Epoch 895/1000 - Step Info: (-0.7405971509285686-1.067226654870301e-10j), t_up:6.025e-04, t_s:4.060e-03, t_ss:6.152e-03, t_epoch:1.091e-02\n",
      "Epoch 896/1000 - Step Info: (-0.7405971576125506-2.682559225088084e-09j), t_up:6.244e-04, t_s:3.986e-03, t_ss:5.443e-03, t_epoch:1.015e-02\n",
      "Epoch 897/1000 - Step Info: (-0.7405971594043665-3.7607813757718744e-09j), t_up:6.115e-04, t_s:4.918e-03, t_ss:5.422e-03, t_epoch:1.106e-02\n",
      "Epoch 898/1000 - Step Info: (-0.7405971511871613+1.359215710527277e-10j), t_up:6.466e-04, t_s:4.095e-03, t_ss:6.161e-03, t_epoch:1.101e-02\n",
      "Epoch 899/1000 - Step Info: (-0.7405971470824554+2.2302348414398924e-09j), t_up:9.403e-04, t_s:3.999e-03, t_ss:5.526e-03, t_epoch:1.061e-02\n",
      "Epoch 900/1000 - Step Info: (-0.7405971536423466-1.3631443437537192e-09j), t_up:7.975e-04, t_s:4.876e-03, t_ss:6.263e-03, t_epoch:1.210e-02\n",
      "Epoch 901/1000 - Step Info: (-0.740597143628563+4.256753915199428e-09j), t_up:7.353e-04, t_s:4.084e-03, t_ss:6.372e-03, t_epoch:1.131e-02\n",
      "Epoch 902/1000 - Step Info: (-0.7405971533418705-3.1382764175904075e-10j), t_up:7.157e-04, t_s:4.183e-03, t_ss:6.480e-03, t_epoch:1.147e-02\n",
      "Epoch 903/1000 - Step Info: (-0.7405971461244866+2.965844020817256e-09j), t_up:6.475e-04, t_s:4.067e-03, t_ss:5.422e-03, t_epoch:1.023e-02\n",
      "Epoch 904/1000 - Step Info: (-0.7405971560819855-2.5722683858513434e-09j), t_up:6.280e-04, t_s:4.060e-03, t_ss:6.614e-03, t_epoch:1.139e-02\n",
      "Epoch 905/1000 - Step Info: (-0.7405971558187888-1.4211870070151283e-09j), t_up:6.330e-04, t_s:4.154e-03, t_ss:6.764e-03, t_epoch:1.166e-02\n",
      "Epoch 906/1000 - Step Info: (-0.7405971545878485-1.0493652540742018e-09j), t_up:6.402e-04, t_s:4.050e-03, t_ss:5.429e-03, t_epoch:1.022e-02\n",
      "Epoch 907/1000 - Step Info: (-0.7405971567206883-1.9320481757833508e-09j), t_up:6.542e-04, t_s:4.630e-03, t_ss:6.135e-03, t_epoch:1.151e-02\n",
      "Epoch 908/1000 - Step Info: (-0.7405971510936752-2.3860497197061165e-10j), t_up:8.388e-04, t_s:4.207e-03, t_ss:6.757e-03, t_epoch:1.195e-02\n",
      "Epoch 909/1000 - Step Info: (-0.7405971513939499+6.195751777280835e-10j), t_up:7.834e-04, t_s:4.045e-03, t_ss:6.354e-03, t_epoch:1.130e-02\n",
      "Epoch 910/1000 - Step Info: (-0.7405971518206218+7.513617385801391e-10j), t_up:6.363e-04, t_s:4.227e-03, t_ss:5.752e-03, t_epoch:1.072e-02\n",
      "Epoch 911/1000 - Step Info: (-0.7405971535048514-2.0363923599446236e-09j), t_up:6.027e-04, t_s:4.036e-03, t_ss:5.666e-03, t_epoch:1.040e-02\n",
      "Epoch 912/1000 - Step Info: (-0.7405971494093828+1.5568940234958908e-09j), t_up:6.211e-04, t_s:4.039e-03, t_ss:5.848e-03, t_epoch:1.060e-02\n",
      "Epoch 913/1000 - Step Info: (-0.740597156343543-2.294609206780288e-09j), t_up:6.461e-04, t_s:4.451e-03, t_ss:5.579e-03, t_epoch:1.077e-02\n",
      "Epoch 914/1000 - Step Info: (-0.7405971569026361-2.1051799215683427e-09j), t_up:6.149e-04, t_s:4.031e-03, t_ss:5.665e-03, t_epoch:1.041e-02\n",
      "Epoch 915/1000 - Step Info: (-0.7405971570110025-1.7855423055416257e-09j), t_up:1.249e-03, t_s:4.076e-03, t_ss:5.875e-03, t_epoch:1.130e-02\n",
      "Epoch 916/1000 - Step Info: (-0.7405971502763581+1.1054425827224511e-09j), t_up:8.087e-04, t_s:4.431e-03, t_ss:5.786e-03, t_epoch:1.116e-02\n",
      "Epoch 917/1000 - Step Info: (-0.7405971486797653+1.2343655561957135e-09j), t_up:6.595e-04, t_s:4.075e-03, t_ss:5.736e-03, t_epoch:1.059e-02\n",
      "Epoch 918/1000 - Step Info: (-0.7405971526970385+1.2397248066310005e-10j), t_up:6.180e-04, t_s:4.049e-03, t_ss:5.885e-03, t_epoch:1.065e-02\n",
      "Epoch 919/1000 - Step Info: (-0.7405971575064723-2.7207331909501773e-09j), t_up:6.032e-04, t_s:4.060e-03, t_ss:5.756e-03, t_epoch:1.051e-02\n",
      "Epoch 920/1000 - Step Info: (-0.7405971527378062-5.070294096648103e-10j), t_up:6.211e-04, t_s:4.031e-03, t_ss:5.665e-03, t_epoch:1.041e-02\n",
      "Epoch 921/1000 - Step Info: (-0.7405971485292026+1.9912429955772766e-09j), t_up:6.196e-04, t_s:4.056e-03, t_ss:5.861e-03, t_epoch:1.063e-02\n",
      "Epoch 922/1000 - Step Info: (-0.7405971497682381+8.121712406871874e-10j), t_up:5.972e-04, t_s:4.333e-03, t_ss:5.740e-03, t_epoch:1.076e-02\n",
      "Epoch 923/1000 - Step Info: (-0.7405971516445652+1.857429122709631e-10j), t_up:6.249e-04, t_s:3.980e-03, t_ss:5.691e-03, t_epoch:1.039e-02\n",
      "Epoch 924/1000 - Step Info: (-0.7405971510777839+5.3974245838036075e-11j), t_up:6.025e-04, t_s:4.063e-03, t_ss:5.855e-03, t_epoch:1.061e-02\n",
      "Epoch 925/1000 - Step Info: (-0.7405971526734426-4.062486905145721e-10j), t_up:6.309e-04, t_s:4.418e-03, t_ss:5.603e-03, t_epoch:1.083e-02\n",
      "Epoch 926/1000 - Step Info: (-0.7405971513476698+8.379458111637959e-10j), t_up:6.070e-04, t_s:4.011e-03, t_ss:5.673e-03, t_epoch:1.039e-02\n",
      "Epoch 927/1000 - Step Info: (-0.7405971541220296-9.017307927187406e-10j), t_up:6.049e-04, t_s:4.067e-03, t_ss:5.878e-03, t_epoch:1.065e-02\n",
      "Epoch 928/1000 - Step Info: (-0.7405971491016526+1.4504929998262176e-09j), t_up:6.218e-04, t_s:4.403e-03, t_ss:5.292e-03, t_epoch:1.042e-02\n",
      "Epoch 929/1000 - Step Info: (-0.7405971558949188-1.811721986801275e-09j), t_up:9.406e-04, t_s:4.227e-03, t_ss:5.840e-03, t_epoch:1.113e-02\n",
      "Epoch 930/1000 - Step Info: (-0.7405971512070152+3.8528985482808874e-11j), t_up:8.276e-04, t_s:4.058e-03, t_ss:5.901e-03, t_epoch:1.092e-02\n",
      "Epoch 931/1000 - Step Info: (-0.7405971520066129-3.4730374529001316e-10j), t_up:7.410e-04, t_s:4.440e-03, t_ss:5.754e-03, t_epoch:1.107e-02\n",
      "Epoch 932/1000 - Step Info: (-0.7405971502489639+2.8724625877211423e-10j), t_up:8.645e-04, t_s:4.048e-03, t_ss:5.674e-03, t_epoch:1.072e-02\n",
      "Epoch 933/1000 - Step Info: (-0.7405971527337228-3.6504995706735974e-10j), t_up:8.824e-04, t_s:4.023e-03, t_ss:5.852e-03, t_epoch:1.087e-02\n",
      "Epoch 934/1000 - Step Info: (-0.7405971530205543-3.4068522228561614e-10j), t_up:6.237e-04, t_s:4.241e-03, t_ss:5.293e-03, t_epoch:1.027e-02\n",
      "Epoch 935/1000 - Step Info: (-0.7405971501453578+1.2295807900260301e-09j), t_up:6.261e-04, t_s:4.032e-03, t_ss:5.666e-03, t_epoch:1.043e-02\n",
      "Epoch 936/1000 - Step Info: (-0.7405971544792153-7.415182053840362e-10j), t_up:6.108e-04, t_s:4.058e-03, t_ss:6.016e-03, t_epoch:1.079e-02\n",
      "Epoch 937/1000 - Step Info: (-0.7405971540791204-3.7679677461974826e-10j), t_up:6.189e-04, t_s:4.485e-03, t_ss:5.285e-03, t_epoch:1.049e-02\n",
      "Epoch 938/1000 - Step Info: (-0.7405971553717332-1.361927614997696e-09j), t_up:6.006e-04, t_s:4.164e-03, t_ss:5.638e-03, t_epoch:1.050e-02\n",
      "Epoch 939/1000 - Step Info: (-0.7405971556939498-1.6715735111411233e-09j), t_up:6.628e-04, t_s:4.044e-03, t_ss:6.039e-03, t_epoch:1.085e-02\n",
      "Epoch 940/1000 - Step Info: (-0.7405971518267431-8.402327837109632e-11j), t_up:7.007e-04, t_s:4.437e-03, t_ss:5.305e-03, t_epoch:1.058e-02\n",
      "Epoch 941/1000 - Step Info: (-0.7405971507496463+6.450797344030386e-10j), t_up:6.168e-04, t_s:4.059e-03, t_ss:5.811e-03, t_epoch:1.060e-02\n",
      "Epoch 942/1000 - Step Info: (-0.7405971485071614+2.452228975722297e-09j), t_up:6.161e-04, t_s:4.036e-03, t_ss:5.883e-03, t_epoch:1.064e-02\n",
      "Epoch 943/1000 - Step Info: (-0.7405971498740073+9.864414990833487e-10j), t_up:8.049e-04, t_s:4.417e-03, t_ss:5.800e-03, t_epoch:1.114e-02\n",
      "Epoch 944/1000 - Step Info: (-0.7405971549753483-1.314595067674241e-09j), t_up:7.925e-04, t_s:4.097e-03, t_ss:5.801e-03, t_epoch:1.083e-02\n",
      "Epoch 945/1000 - Step Info: (-0.7405971524132628-6.572475258206121e-11j), t_up:8.600e-04, t_s:4.425e-03, t_ss:5.577e-03, t_epoch:1.098e-02\n",
      "Epoch 946/1000 - Step Info: (-0.7405971544445654-7.940262912752917e-10j), t_up:8.161e-04, t_s:4.387e-03, t_ss:5.890e-03, t_epoch:1.119e-02\n",
      "Epoch 947/1000 - Step Info: (-0.7405971508472147-5.53985468625813e-11j), t_up:8.974e-04, t_s:4.051e-03, t_ss:5.664e-03, t_epoch:1.073e-02\n",
      "Epoch 948/1000 - Step Info: (-0.7405971496357738+1.2455274434273256e-09j), t_up:9.401e-04, t_s:4.355e-03, t_ss:5.522e-03, t_epoch:1.095e-02\n",
      "Epoch 949/1000 - Step Info: (-0.7405971520653303+1.7478733808574262e-10j), t_up:7.315e-04, t_s:4.066e-03, t_ss:5.880e-03, t_epoch:1.080e-02\n",
      "Epoch 950/1000 - Step Info: (-0.7405971476754041+2.3808595612300193e-09j), t_up:6.154e-04, t_s:4.025e-03, t_ss:5.675e-03, t_epoch:1.041e-02\n",
      "Epoch 951/1000 - Step Info: (-0.7405971514830844-1.0214999155701291e-10j), t_up:7.102e-04, t_s:4.387e-03, t_ss:5.523e-03, t_epoch:1.072e-02\n",
      "Epoch 952/1000 - Step Info: (-0.7405971519889072-1.7413455499354173e-10j), t_up:6.275e-04, t_s:4.358e-03, t_ss:5.882e-03, t_epoch:1.098e-02\n",
      "Epoch 953/1000 - Step Info: (-0.7405971537324293-8.944667586114985e-10j), t_up:7.012e-04, t_s:4.029e-03, t_ss:5.675e-03, t_epoch:1.050e-02\n",
      "Epoch 954/1000 - Step Info: (-0.7405971533016404-4.752284698626058e-10j), t_up:7.076e-04, t_s:4.358e-03, t_ss:5.541e-03, t_epoch:1.070e-02\n",
      "Epoch 955/1000 - Step Info: (-0.740597152465737-4.3160923363978443e-10j), t_up:6.602e-04, t_s:4.332e-03, t_ss:5.890e-03, t_epoch:1.098e-02\n",
      "Epoch 956/1000 - Step Info: (-0.7405971514725656+3.773086491153341e-10j), t_up:7.718e-04, t_s:4.045e-03, t_ss:5.665e-03, t_epoch:1.058e-02\n",
      "Epoch 957/1000 - Step Info: (-0.7405971511338044+9.765029389361013e-10j), t_up:7.834e-04, t_s:4.337e-03, t_ss:5.545e-03, t_epoch:1.078e-02\n",
      "Epoch 958/1000 - Step Info: (-0.7405971508425635+6.471558727073896e-10j), t_up:9.012e-04, t_s:4.218e-03, t_ss:5.905e-03, t_epoch:1.115e-02\n",
      "Epoch 959/1000 - Step Info: (-0.740597151892424-1.4706438713789565e-10j), t_up:7.052e-04, t_s:4.071e-03, t_ss:5.724e-03, t_epoch:1.061e-02\n",
      "Epoch 960/1000 - Step Info: (-0.7405971531404844-3.439005786147478e-10j), t_up:6.363e-04, t_s:4.377e-03, t_ss:5.548e-03, t_epoch:1.066e-02\n",
      "Epoch 961/1000 - Step Info: (-0.7405971511185837+2.9314142726668924e-10j), t_up:6.235e-04, t_s:4.033e-03, t_ss:5.913e-03, t_epoch:1.067e-02\n",
      "Epoch 962/1000 - Step Info: (-0.7405971529974017-9.169545594233336e-10j), t_up:6.430e-04, t_s:4.076e-03, t_ss:5.650e-03, t_epoch:1.048e-02\n",
      "Epoch 963/1000 - Step Info: (-0.7405971533632132-4.345935168264788e-10j), t_up:6.242e-04, t_s:3.977e-03, t_ss:5.924e-03, t_epoch:1.061e-02\n",
      "Epoch 964/1000 - Step Info: (-0.7405971506669115+6.286986762251876e-10j), t_up:6.068e-04, t_s:4.182e-03, t_ss:5.868e-03, t_epoch:1.075e-02\n",
      "Epoch 965/1000 - Step Info: (-0.7405971528555213-5.949082820835475e-10j), t_up:6.132e-04, t_s:4.063e-03, t_ss:5.702e-03, t_epoch:1.048e-02\n",
      "Epoch 966/1000 - Step Info: (-0.7405971526151865-1.0675546608674517e-10j), t_up:6.123e-04, t_s:4.102e-03, t_ss:5.996e-03, t_epoch:1.081e-02\n",
      "Epoch 967/1000 - Step Info: (-0.7405971534354315-1.0719879652581574e-09j), t_up:6.416e-04, t_s:4.392e-03, t_ss:5.883e-03, t_epoch:1.102e-02\n",
      "Epoch 968/1000 - Step Info: (-0.7405971512182339+3.2943031650143107e-10j), t_up:6.397e-04, t_s:4.086e-03, t_ss:5.662e-03, t_epoch:1.049e-02\n",
      "Epoch 969/1000 - Step Info: (-0.74059715381038-5.635046000206235e-10j), t_up:6.161e-04, t_s:4.359e-03, t_ss:5.517e-03, t_epoch:1.058e-02\n",
      "Epoch 970/1000 - Step Info: (-0.7405971500162284+1.0486534651176165e-09j), t_up:6.876e-04, t_s:4.327e-03, t_ss:5.752e-03, t_epoch:1.086e-02\n",
      "Epoch 971/1000 - Step Info: (-0.7405971519092639-1.604868837784415e-10j), t_up:6.931e-04, t_s:4.089e-03, t_ss:5.698e-03, t_epoch:1.063e-02\n",
      "Epoch 972/1000 - Step Info: (-0.7405971528140747-5.312587512942078e-10j), t_up:7.126e-04, t_s:4.421e-03, t_ss:5.600e-03, t_epoch:1.086e-02\n",
      "Epoch 973/1000 - Step Info: (-0.7405971538648873-1.1428679484277319e-09j), t_up:6.590e-04, t_s:4.089e-03, t_ss:5.784e-03, t_epoch:1.065e-02\n",
      "Epoch 974/1000 - Step Info: (-0.7405971531378017-3.906356888946167e-10j), t_up:6.468e-04, t_s:4.033e-03, t_ss:5.675e-03, t_epoch:1.045e-02\n",
      "Epoch 975/1000 - Step Info: (-0.74059715078418+7.651363354081414e-10j), t_up:7.043e-04, t_s:4.396e-03, t_ss:5.524e-03, t_epoch:1.074e-02\n",
      "Epoch 976/1000 - Step Info: (-0.7405971514607791+4.260121394590381e-10j), t_up:6.905e-04, t_s:4.226e-03, t_ss:5.751e-03, t_epoch:1.079e-02\n",
      "Epoch 977/1000 - Step Info: (-0.7405971520689992+1.0531524798738423e-10j), t_up:6.766e-04, t_s:4.071e-03, t_ss:5.674e-03, t_epoch:1.053e-02\n",
      "Epoch 978/1000 - Step Info: (-0.7405971520593666+3.409740570680542e-11j), t_up:6.485e-04, t_s:4.370e-03, t_ss:5.584e-03, t_epoch:1.070e-02\n",
      "Epoch 979/1000 - Step Info: (-0.740597151573495+3.919435371968234e-10j), t_up:6.218e-04, t_s:4.390e-03, t_ss:5.759e-03, t_epoch:1.089e-02\n",
      "Epoch 980/1000 - Step Info: (-0.7405971533811205-9.74643461843023e-10j), t_up:6.289e-04, t_s:4.048e-03, t_ss:5.668e-03, t_epoch:1.044e-02\n",
      "Epoch 981/1000 - Step Info: (-0.740597150662333+7.028699432578268e-10j), t_up:6.676e-04, t_s:4.394e-03, t_ss:5.574e-03, t_epoch:1.075e-02\n",
      "Epoch 982/1000 - Step Info: (-0.7405971509875007+7.519453060169217e-10j), t_up:1.248e-03, t_s:4.450e-03, t_ss:5.559e-03, t_epoch:1.145e-02\n",
      "Epoch 983/1000 - Step Info: (-0.7405971500292268+7.589782645360347e-10j), t_up:6.993e-04, t_s:4.124e-03, t_ss:6.459e-03, t_epoch:1.138e-02\n",
      "Epoch 984/1000 - Step Info: (-0.7405971531477231-7.612378914466402e-10j), t_up:6.585e-04, t_s:4.014e-03, t_ss:5.431e-03, t_epoch:1.020e-02\n",
      "Epoch 985/1000 - Step Info: (-0.7405971536658913-9.123015560727311e-10j), t_up:6.716e-04, t_s:4.075e-03, t_ss:5.831e-03, t_epoch:1.067e-02\n",
      "Epoch 986/1000 - Step Info: (-0.7405971510880316+4.887053533606924e-10j), t_up:7.877e-04, t_s:4.060e-03, t_ss:5.799e-03, t_epoch:1.076e-02\n",
      "Epoch 987/1000 - Step Info: (-0.7405971525004853-5.198441052675605e-10j), t_up:7.837e-04, t_s:4.066e-03, t_ss:5.528e-03, t_epoch:1.049e-02\n",
      "Epoch 988/1000 - Step Info: (-0.7405971516998753+1.7867845763548565e-10j), t_up:6.576e-04, t_s:4.069e-03, t_ss:5.853e-03, t_epoch:1.068e-02\n",
      "Epoch 989/1000 - Step Info: (-0.740597153608275-8.3412842683693e-10j), t_up:6.676e-04, t_s:4.062e-03, t_ss:6.178e-03, t_epoch:1.101e-02\n",
      "Epoch 990/1000 - Step Info: (-0.7405971509988372+4.717353729871185e-10j), t_up:6.287e-04, t_s:4.048e-03, t_ss:5.426e-03, t_epoch:1.022e-02\n",
      "Epoch 991/1000 - Step Info: (-0.7405971515676226+3.038989631253828e-10j), t_up:6.256e-04, t_s:4.021e-03, t_ss:5.841e-03, t_epoch:1.058e-02\n",
      "Epoch 992/1000 - Step Info: (-0.7405971528336671-5.083943929316184e-10j), t_up:6.223e-04, t_s:4.068e-03, t_ss:6.162e-03, t_epoch:1.095e-02\n",
      "Epoch 993/1000 - Step Info: (-0.740597152038029+3.229034318131834e-10j), t_up:6.166e-04, t_s:4.066e-03, t_ss:5.418e-03, t_epoch:1.023e-02\n",
      "Epoch 994/1000 - Step Info: (-0.7405971511036071+7.315830432491864e-10j), t_up:6.537e-04, t_s:4.054e-03, t_ss:5.707e-03, t_epoch:1.051e-02\n",
      "Epoch 995/1000 - Step Info: (-0.7405971524472375-7.352517222995725e-11j), t_up:6.723e-04, t_s:4.056e-03, t_ss:6.079e-03, t_epoch:1.091e-02\n",
      "Epoch 996/1000 - Step Info: (-0.7405971527962162-4.152895804192671e-10j), t_up:6.716e-04, t_s:4.045e-03, t_ss:5.431e-03, t_epoch:1.025e-02\n",
      "Epoch 997/1000 - Step Info: (-0.740597150822723+5.188950633773485e-10j), t_up:5.908e-04, t_s:4.164e-03, t_ss:5.291e-03, t_epoch:1.014e-02\n",
      "Epoch 998/1000 - Step Info: (-0.7405971521462632-2.640460046801532e-10j), t_up:6.318e-04, t_s:4.149e-03, t_ss:5.955e-03, t_epoch:1.084e-02\n",
      "Epoch 999/1000 - Step Info: (-0.7405971519966814-5.005343117195331e-12j), t_up:6.192e-04, t_s:4.229e-03, t_ss:5.443e-03, t_epoch:1.039e-02\n",
      "Epoch 1000/1000 - Step Info: (-0.7405971517423958+5.3831951987353125e-11j), t_up:6.430e-04, t_s:4.443e-03, t_ss:5.502e-03, t_epoch:1.070e-02\n"
     ]
    }
   ],
   "source": [
    "%load_ext line_profiler\n",
    "\n",
    "sr_options = SR.SRParams(\n",
    "    min_sr          = False,\n",
    "    maxiter         = 500,\n",
    "    tol             = 1e-8,\n",
    "    reg             = 1.0,\n",
    "    # Solver parameters\n",
    "    solver_form_s   = False,\n",
    ")\n",
    "\n",
    "solver_fun  = solver_linalg_func\n",
    "precond_fun = precond_apply\n",
    "print(solver_fun)\n",
    "print(precond_fun)\n",
    "\n",
    "# functions\n",
    "ansatz      = nqs.ansatz\n",
    "loc_energy  = nqs.local_energy\n",
    "flat_grad   = nqs.flat_grad\n",
    "batch_size  = 5\n",
    "print(ansatz)\n",
    "print(loc_energy)\n",
    "print(flat_grad)\n",
    "\n",
    "# @jax.jit\n",
    "\n",
    "def single_step_train(i: int):\n",
    "    #! Generate samples\n",
    "    time_start  = time.time()\n",
    "    (states, logprobas), (configs, configs_ansatze), probabilities = nqs.sample(reset=False)\n",
    "    time_sample = time.time() - time_start\n",
    "\n",
    "    #! Single step in the NQS\n",
    "    time_start  = time.time()\n",
    "    dpar, step_info, (shapes, sizes, iscpx) = nqs.single_step_jax(\n",
    "        params              = nqs.get_params(),\n",
    "        configs             = configs,\n",
    "        configs_ansatze     = configs_ansatze,\n",
    "        probabilities       = probabilities,\n",
    "        apply_fn            = ansatz,\n",
    "        local_energy_fun    = loc_energy,\n",
    "        flat_grad_fun       = flat_grad,\n",
    "        #! Stochastic reconfiguration\n",
    "        use_sr              = True,\n",
    "        sr_options          = sr_options,\n",
    "        sr_precond_apply_fun= precond_fun,\n",
    "        sr_solve_linalg_fun = solver_fun,\n",
    "        batch_size          = batch_size,\n",
    "    )\n",
    "    time_single_step        = time.time() - time_start\n",
    "    \n",
    "    if step_info.failed:\n",
    "        return None, (None, time_sample, time_single_step)\n",
    "    \n",
    "    #! Update the parameters\n",
    "    time_start  = time.time()\n",
    "    nqs.update_parameters(dpar, -lr, shapes, sizes, iscpx)\n",
    "    time_update = time.time() - time_start\n",
    "    \n",
    "    #! Return the mean energy\n",
    "    return step_info.mean_energy, (time_update, time_sample, time_single_step)\n",
    "\n",
    "def train_function():\n",
    "    energies = []\n",
    "    for n in range(n_epo):\n",
    "        \n",
    "        time_start  = time.time() # Time the whole epoch\n",
    "        mean_energy, (time_update, time_sample, time_single_step) = single_step_train(n)\n",
    "        time_end    = time.time() - time_start\n",
    "        \n",
    "        if mean_energy is not None:\n",
    "            energies.append(mean_energy)\n",
    "            print(f\"Epoch {n + 1}/{n_epo} - Step Info: {mean_energy}, t_up:{time_update:.3e}, t_s:{time_sample:.3e}, t_ss:{time_single_step:.3e}, t_epoch:{time_end:.3e}\")\n",
    "        else:\n",
    "            print(f\"Epoch {n + 1}/{n_epo} - Step failed, stopping training.\")\n",
    "            break\n",
    "    return energies\n",
    "\n",
    "# %lprun -f train_function energies = train_function()\n",
    "energies = train_function()"
   ]
  },
  {
   "cell_type": "code",
   "execution_count": 46,
   "metadata": {},
   "outputs": [
    {
     "name": "stdout",
     "output_type": "stream",
     "text": [
      "\n",
      "--- Training Finished ---\n",
      "Completed 2000 epochs.\n",
      "Final Mean Energy: -1.184076-0.000586j\n"
     ]
    },
    {
     "data": {
      "image/png": "[encoded data removed]",
      "text/plain": [
       "<Figure size 350x262.5 with 1 Axes>"
      ]
     },
     "metadata": {},
     "output_type": "display_data"
    }
   ],
   "source": [
    "if energies:\n",
    "    print(\"\\n--- Training Finished ---\")\n",
    "    print(f\"Completed {len(energies)} epochs.\")\n",
    "    print(f\"Final Mean Energy: {energies[-1]:.6f}\")\n",
    "\n",
    "    # --- Plotting ---\n",
    "    plt.figure(1)               # Create a new figure\n",
    "    plt.plot(np.real(energies))  # Plot real part of energy history\n",
    "    plt.xlabel(\"Epoch\")\n",
    "    plt.ylabel(\"Mean Energy\")\n",
    "    plt.title(\"Training Progress (Mean Energy)\")\n",
    "    plt.grid(True)\n",
    "    plt.show()\n",
    "else:\n",
    "    print(\"\\nTraining did not complete any epochs.\")"
   ]
  },
  {
   "cell_type": "code",
   "execution_count": null,
   "metadata": {},
   "outputs": [],
   "source": []
  },
  {
   "cell_type": "code",
   "execution_count": 5,
   "metadata": {},
   "outputs": [
    {
     "data": {
      "text/plain": [
       "[]"
      ]
     },
     "execution_count": 5,
     "metadata": {},
     "output_type": "execute_result"
    }
   ],
   "source": [
    "# plt.plot(np.real(history))\n",
    "history"
   ]
  },
  {
   "cell_type": "code",
   "execution_count": 9,
   "metadata": {},
   "outputs": [
    {
     "name": "stderr",
     "output_type": "stream",
     "text": [
      "INFO:general_python.common.flog:241: \t->\u001b[0m[Transverse Field Ising Model] Building the Hamiltonian matrix...\u001b[0m\n",
      "INFO:general_python.common.flog:241: \t\t->\u001b[0m[Transverse Field Ising Model] Initialization completed in 0.000588 seconds\u001b[0m\n",
      "INFO:general_python.common.flog:241: \t\t->\u001b[0m[Transverse Field Ising Model] Calculating the Hamiltonian matrix using NumPy...\u001b[0m\n",
      "INFO:general_python.common.flog:241: \t->\u001b[0m[Transverse Field Ising Model] Hamiltonian matrix built in 0.893487 seconds.\u001b[0m\n",
      "INFO:general_python.common.flog:241: \t->\u001b[0m[Transverse Field Ising Model] Diagonalization started using (standard)...\u001b[0m\n",
      "INFO:general_python.common.flog:241: \t\t->\u001b[0m[Transverse Field Ising Model] Diagonalization (standard) completed in 0.031285 seconds.\u001b[0m\n"
     ]
    }
   ],
   "source": [
    "ham.build(verbose=True, use_numpy=True)\n",
    "ham.diagonalize(verbose=True)"
   ]
  },
  {
   "cell_type": "code",
   "execution_count": 10,
   "metadata": {},
   "outputs": [
    {
     "data": {
      "text/plain": [
       "array([-2.72819622, -2.62424739, -2.35908412, -2.35908412, -2.3380676 ])"
      ]
     },
     "execution_count": 10,
     "metadata": {},
     "output_type": "execute_result"
    }
   ],
   "source": [
    "# plt.plot(ham.eig_val)\n",
    "ham.eig_val[:5]"
   ]
  },
  {
   "cell_type": "markdown",
   "metadata": {},
   "source": [
    "### Test the ansatz again"
   ]
  },
  {
   "cell_type": "code",
   "execution_count": 5,
   "metadata": {},
   "outputs": [
    {
     "name": "stdout",
     "output_type": "stream",
     "text": [
      "The slowest run took 5.18 times longer than the fastest. This could mean that an intermediate result is being cached.\n",
      "327 μs ± 235 μs per loop (mean ± std. dev. of 5 runs, 5 loops each)\n"
     ]
    }
   ],
   "source": [
    "%%timeit -r 5 -n 5 \n",
    "ansatz, shape = nqsmodule.test_net_ansatz(nqs)"
   ]
  },
  {
   "cell_type": "markdown",
   "metadata": {},
   "source": [
    "### Check the params"
   ]
  },
  {
   "cell_type": "code",
   "execution_count": 3,
   "metadata": {},
   "outputs": [],
   "source": [
    "# params      = net.get_params()\n",
    "\n",
    "# k0 = params['params']['Dense_0']['kernel']\n",
    "# b0 = params['params']['Dense_0']['bias']\n",
    "# k1 = params['params']['Dense_1']['kernel']\n",
    "# b1 = params['params']['Dense_1']['bias']\n",
    "# print(\"dense 0:\", (k0.shape, b0.shape))\n",
    "# print(\"dense 1:\", (k1.shape, b1.shape))\n",
    "# params['params']\n"
   ]
  },
  {
   "cell_type": "markdown",
   "metadata": {},
   "source": [
    "#### Run the example"
   ]
  },
  {
   "cell_type": "code",
   "execution_count": null,
   "metadata": {},
   "outputs": [
    {
     "name": "stdout",
     "output_type": "stream",
     "text": [
      "DEBUG: Initializing Flax module. self.input_shape = (10,)\n",
      "DEBUG: self.input_dim = 10\n",
      "DEBUG: Creating dummy input with shape: (1, 10), dtype: float32\n"
     ]
    },
    {
     "data": {
      "text/plain": [
       "Array([[1.0123879],\n",
       "       [1.0123879],\n",
       "       [1.0123879],\n",
       "       [1.0123879],\n",
       "       [1.0123879]], dtype=float32)"
      ]
     },
     "execution_count": 4,
     "metadata": {},
     "output_type": "execute_result"
    }
   ],
   "source": [
    "import Python.QES.general_python.ml.net_impl.networks.net_simple_flax as simple_flax\n",
    "simple_flax.example()"
   ]
  },
  {
   "cell_type": "markdown",
   "metadata": {},
   "source": [
    "### Evaluate through solver"
   ]
  },
  {
   "cell_type": "code",
   "execution_count": 5,
   "metadata": {},
   "outputs": [
    {
     "data": {
      "text/plain": [
       "(Array(128.86084318+36.35979072j, dtype=complex128),\n",
       " Array(241.43732257, dtype=float64))"
      ]
     },
     "execution_count": 5,
     "metadata": {},
     "output_type": "execute_result"
    }
   ],
   "source": [
    "# %%timeit -r 2 -n 2\n",
    "# apply through the solver with the states\n",
    "(configs, ansatze), probabilities, (v, means, stds) = nqs.evaluate_fun(batch_size = 1)\n",
    "means, stds"
   ]
  },
  {
   "cell_type": "markdown",
   "metadata": {},
   "source": [
    "### Check whether one can calculate the gradient for the energies directly"
   ]
  },
  {
   "cell_type": "code",
   "execution_count": 10,
   "metadata": {},
   "outputs": [
    {
     "name": "stdout",
     "output_type": "stream",
     "text": [
      "{'Dense_0': {'bias': Array([0.+0.j, 0.+0.j, 0.+0.j, 0.+0.j, 0.+0.j], dtype=complex128), 'kernel': Array([[0.+0.j, 0.+0.j, 0.+0.j, 0.+0.j, 0.+0.j],\n",
      "       [0.+0.j, 0.+0.j, 0.+0.j, 0.+0.j, 0.+0.j],\n",
      "       [0.+0.j, 0.+0.j, 0.+0.j, 0.+0.j, 0.+0.j],\n",
      "       [0.+0.j, 0.+0.j, 0.+0.j, 0.+0.j, 0.+0.j],\n",
      "       [0.+0.j, 0.+0.j, 0.+0.j, 0.+0.j, 0.+0.j],\n",
      "       [0.+0.j, 0.+0.j, 0.+0.j, 0.+0.j, 0.+0.j],\n",
      "       [0.+0.j, 0.+0.j, 0.+0.j, 0.+0.j, 0.+0.j],\n",
      "       [0.+0.j, 0.+0.j, 0.+0.j, 0.+0.j, 0.+0.j],\n",
      "       [0.+0.j, 0.+0.j, 0.+0.j, 0.+0.j, 0.+0.j],\n",
      "       [0.+0.j, 0.+0.j, 0.+0.j, 0.+0.j, 0.+0.j]], dtype=complex128)}, 'Dense_1': {'bias': Array([0.+0.j], dtype=complex128), 'kernel': Array([[0.+0.j],\n",
      "       [0.+0.j],\n",
      "       [0.+0.j],\n",
      "       [0.+0.j],\n",
      "       [0.+0.j]], dtype=complex128)}}\n"
     ]
    }
   ],
   "source": [
    "import jax\n",
    "\n",
    "def loss_fn(params):\n",
    "    # recompute v with the given parameters\n",
    "    (configs, ansatze), probabilities, (v, means, stds) = nqs.evaluate_fun(batch_size=10)\n",
    "    return means\n",
    "params      = net.get_params()\n",
    "grad_loss   = jax.grad(loss_fn, holomorphic=True)(params)\n",
    "print(grad_loss)"
   ]
  },
  {
   "cell_type": "markdown",
   "metadata": {},
   "source": [
    "### Check whether one can calculate the gradient for the ansatz"
   ]
  },
  {
   "cell_type": "code",
   "execution_count": 3,
   "metadata": {},
   "outputs": [
    {
     "ename": "ValueError",
     "evalue": "axis 0 is out of bounds for array of dimension 0",
     "output_type": "error",
     "traceback": [
      "\u001b[0;31m---------------------------------------------------------------------------\u001b[0m",
      "\u001b[0;31mValueError\u001b[0m                                Traceback (most recent call last)",
      "Cell \u001b[0;32mIn[3], line 2\u001b[0m\n\u001b[1;32m      1\u001b[0m \u001b[38;5;66;03m# apply through the solver with the states\u001b[39;00m\n\u001b[0;32m----> 2\u001b[0m (configs, ansatze), probabilities, (v, means, stds) \u001b[38;5;241m=\u001b[39m nqs\u001b[38;5;241m.\u001b[39mevaluate_fun(batch_size \u001b[38;5;241m=\u001b[39m \u001b[38;5;241m10\u001b[39m)\n\u001b[1;32m      3\u001b[0m means, stds, configs\u001b[38;5;241m.\u001b[39mshape, ansatze\u001b[38;5;241m.\u001b[39mshape, probabilities\u001b[38;5;241m.\u001b[39mshape\n",
      "File \u001b[0;32m~/Codes/QuantumEigenSolver/Python/QES/NQS/nqs.py:689\u001b[0m, in \u001b[0;36mNQS.evaluate_fun\u001b[0;34m(self, functions, states_and_psi, probabilities, **kwargs)\u001b[0m\n\u001b[1;32m    685\u001b[0m     num_chains  \u001b[38;5;241m=\u001b[39m kwargs\u001b[38;5;241m.\u001b[39mget(\u001b[38;5;124m'\u001b[39m\u001b[38;5;124mnum_chains\u001b[39m\u001b[38;5;124m'\u001b[39m, \u001b[38;5;28;01mNone\u001b[39;00m)\n\u001b[1;32m    687\u001b[0m     \u001b[38;5;66;03m# otherwise, we shall use the sampler\u001b[39;00m\n\u001b[1;32m    688\u001b[0m     (states, ansatze), probabilities, output    \u001b[38;5;241m=\u001b[39m \\\n\u001b[0;32m--> 689\u001b[0m             \u001b[38;5;28mself\u001b[39m\u001b[38;5;241m.\u001b[39m_evaluate_fun_s(func           \u001b[38;5;241m=\u001b[39m functions,\n\u001b[1;32m    690\u001b[0m                                 sampler         \u001b[38;5;241m=\u001b[39m \u001b[38;5;28mself\u001b[39m\u001b[38;5;241m.\u001b[39m_sampler,\n\u001b[1;32m    691\u001b[0m                                 num_samples     \u001b[38;5;241m=\u001b[39m num_samples,\n\u001b[1;32m    692\u001b[0m                                 num_chains      \u001b[38;5;241m=\u001b[39m num_chains,\n\u001b[1;32m    693\u001b[0m                                 logproba_fun    \u001b[38;5;241m=\u001b[39m \u001b[38;5;28mself\u001b[39m\u001b[38;5;241m.\u001b[39m_ansatz_func,\n\u001b[1;32m    694\u001b[0m                                 parameters      \u001b[38;5;241m=\u001b[39m \u001b[38;5;28mself\u001b[39m\u001b[38;5;241m.\u001b[39m_net\u001b[38;5;241m.\u001b[39mget_params(),\n\u001b[1;32m    695\u001b[0m                                 batch_size      \u001b[38;5;241m=\u001b[39m batch_size,\n\u001b[1;32m    696\u001b[0m                                 is_jax          \u001b[38;5;241m=\u001b[39m \u001b[38;5;28mself\u001b[39m\u001b[38;5;241m.\u001b[39m_isjax)\n\u001b[1;32m    698\u001b[0m \u001b[38;5;66;03m# check if the output is a list\u001b[39;00m\n\u001b[1;32m    699\u001b[0m \u001b[38;5;28;01mif\u001b[39;00m \u001b[38;5;28misinstance\u001b[39m(output, \u001b[38;5;28mlist\u001b[39m) \u001b[38;5;129;01mand\u001b[39;00m \u001b[38;5;28mlen\u001b[39m(output) \u001b[38;5;241m==\u001b[39m \u001b[38;5;241m1\u001b[39m:\n",
      "File \u001b[0;32m~/Codes/QuantumEigenSolver/Python/QES/NQS/nqs.py:616\u001b[0m, in \u001b[0;36mNQS._evaluate_fun_s\u001b[0;34m(func, sampler, num_samples, num_chains, logproba_fun, parameters, batch_size, is_jax)\u001b[0m\n\u001b[1;32m    586\u001b[0m \u001b[38;5;250m\u001b[39m\u001b[38;5;124;03m\"\"\"\u001b[39;00m\n\u001b[1;32m    587\u001b[0m \u001b[38;5;124;03mEvaluates a given function using samples generated by a sampler.\u001b[39;00m\n\u001b[1;32m    588\u001b[0m \n\u001b[0;32m   (...)\u001b[0m\n\u001b[1;32m    612\u001b[0m \u001b[38;5;124;03m    the generated samples.\u001b[39;00m\n\u001b[1;32m    613\u001b[0m \u001b[38;5;124;03m\"\"\"\u001b[39;00m\n\u001b[1;32m    615\u001b[0m _, (states, ansatze), probabilities \u001b[38;5;241m=\u001b[39m sampler\u001b[38;5;241m.\u001b[39msample(parameters\u001b[38;5;241m=\u001b[39mparameters, num_samples\u001b[38;5;241m=\u001b[39mnum_samples, num_chains\u001b[38;5;241m=\u001b[39mnum_chains)\n\u001b[0;32m--> 616\u001b[0m evaluated_results \u001b[38;5;241m=\u001b[39m [NQS\u001b[38;5;241m.\u001b[39m_evaluate_fun(f, states, probabilities, ansatze, logproba_fun, parameters, batch_size, is_jax) \u001b[38;5;28;01mfor\u001b[39;00m f \u001b[38;5;129;01min\u001b[39;00m func]\n\u001b[1;32m    617\u001b[0m \u001b[38;5;28;01mreturn\u001b[39;00m (states, ansatze), probabilities, evaluated_results\n",
      "File \u001b[0;32m~/Codes/QuantumEigenSolver/Python/QES/NQS/nqs.py:569\u001b[0m, in \u001b[0;36mNQS._evaluate_fun\u001b[0;34m(func, states, probabilities, logproba_in, logproba_fun, parameters, batch_size, is_jax)\u001b[0m\n\u001b[1;32m    567\u001b[0m \u001b[38;5;66;03m# otherwise, we shall use the batched version\u001b[39;00m\n\u001b[1;32m    568\u001b[0m funct_in \u001b[38;5;241m=\u001b[39m net_utils\u001b[38;5;241m.\u001b[39mjaxpy\u001b[38;5;241m.\u001b[39mapply_callable_batched_jax \u001b[38;5;28;01mif\u001b[39;00m is_jax \u001b[38;5;28;01melse\u001b[39;00m net_utils\u001b[38;5;241m.\u001b[39mnumpy\u001b[38;5;241m.\u001b[39mapply_callable_batched_np\n\u001b[0;32m--> 569\u001b[0m \u001b[38;5;28;01mreturn\u001b[39;00m funct_in(func            \u001b[38;5;241m=\u001b[39m func,\n\u001b[1;32m    570\u001b[0m                 states          \u001b[38;5;241m=\u001b[39m states,\n\u001b[1;32m    571\u001b[0m                 sample_probas   \u001b[38;5;241m=\u001b[39m probabilities,\n\u001b[1;32m    572\u001b[0m                 logprobas_in    \u001b[38;5;241m=\u001b[39m logproba_in,\n\u001b[1;32m    573\u001b[0m                 logproba_fun    \u001b[38;5;241m=\u001b[39m logproba_fun,\n\u001b[1;32m    574\u001b[0m                 parameters      \u001b[38;5;241m=\u001b[39m parameters,\n\u001b[1;32m    575\u001b[0m                 batch_size      \u001b[38;5;241m=\u001b[39m batch_size)\n",
      "    \u001b[0;31m[... skipping hidden 11 frame]\u001b[0m\n",
      "File \u001b[0;32m~/Codes/QuantumEigenSolver/Python/QES/general_python/ml/net_impl/utils/net_utils_jax.py:540\u001b[0m, in \u001b[0;36mapply_callable_batched_jax\u001b[0;34m(func, states, sample_probas, logprobas_in, logproba_fun, parameters, batch_size)\u001b[0m\n\u001b[1;32m    537\u001b[0m     \u001b[38;5;28;01mreturn\u001b[39;00m jax\u001b[38;5;241m.\u001b[39mvmap(compute_estimate, in_axes\u001b[38;5;241m=\u001b[39m(\u001b[38;5;241m0\u001b[39m, \u001b[38;5;241m0\u001b[39m, \u001b[38;5;241m0\u001b[39m))(batch_states, batch_logps, batch_sampleps)\n\u001b[1;32m    539\u001b[0m \u001b[38;5;66;03m# Map over batches.\u001b[39;00m\n\u001b[0;32m--> 540\u001b[0m batch_estimates \u001b[38;5;241m=\u001b[39m jax\u001b[38;5;241m.\u001b[39mvmap(compute_batch, in_axes\u001b[38;5;241m=\u001b[39m(\u001b[38;5;241m0\u001b[39m, \u001b[38;5;241m0\u001b[39m, \u001b[38;5;241m0\u001b[39m))(batches, log_batches, sample_batches)\n\u001b[1;32m    541\u001b[0m estimates       \u001b[38;5;241m=\u001b[39m batch_estimates\u001b[38;5;241m.\u001b[39mreshape(\u001b[38;5;241m-\u001b[39m\u001b[38;5;241m1\u001b[39m)[:nstates]\n\u001b[1;32m    542\u001b[0m \u001b[38;5;28;01mreturn\u001b[39;00m estimates, jnp\u001b[38;5;241m.\u001b[39mmean(estimates, axis\u001b[38;5;241m=\u001b[39m\u001b[38;5;241m0\u001b[39m), jnp\u001b[38;5;241m.\u001b[39mstd(estimates, axis\u001b[38;5;241m=\u001b[39m\u001b[38;5;241m0\u001b[39m)\n",
      "    \u001b[0;31m[... skipping hidden 3 frame]\u001b[0m\n",
      "File \u001b[0;32m~/Codes/QuantumEigenSolver/Python/QES/general_python/ml/net_impl/utils/net_utils_jax.py:537\u001b[0m, in \u001b[0;36mapply_callable_batched_jax.<locals>.compute_batch\u001b[0;34m(batch_states, batch_logps, batch_sampleps)\u001b[0m\n\u001b[1;32m    536\u001b[0m \u001b[38;5;28;01mdef\u001b[39;00m \u001b[38;5;21mcompute_batch\u001b[39m(batch_states, batch_logps, batch_sampleps):\n\u001b[0;32m--> 537\u001b[0m     \u001b[38;5;28;01mreturn\u001b[39;00m jax\u001b[38;5;241m.\u001b[39mvmap(compute_estimate, in_axes\u001b[38;5;241m=\u001b[39m(\u001b[38;5;241m0\u001b[39m, \u001b[38;5;241m0\u001b[39m, \u001b[38;5;241m0\u001b[39m))(batch_states, batch_logps, batch_sampleps)\n",
      "    \u001b[0;31m[... skipping hidden 3 frame]\u001b[0m\n",
      "File \u001b[0;32m~/Codes/QuantumEigenSolver/Python/QES/general_python/ml/net_impl/utils/net_utils_jax.py:522\u001b[0m, in \u001b[0;36mapply_callable_batched_jax.<locals>.compute_estimate\u001b[0;34m(state, logp, sample_p)\u001b[0m\n\u001b[1;32m    520\u001b[0m weights                 \u001b[38;5;241m=\u001b[39m jnp\u001b[38;5;241m.\u001b[39mexp(new_logprobas \u001b[38;5;241m-\u001b[39m logp)\n\u001b[1;32m    521\u001b[0m weighted_sum            \u001b[38;5;241m=\u001b[39m jnp\u001b[38;5;241m.\u001b[39msum(new_vals \u001b[38;5;241m*\u001b[39m weights, axis\u001b[38;5;241m=\u001b[39m\u001b[38;5;241m0\u001b[39m)\n\u001b[0;32m--> 522\u001b[0m output                  \u001b[38;5;241m=\u001b[39m jnp\u001b[38;5;241m.\u001b[39msum(weighted_sum, axis\u001b[38;5;241m=\u001b[39m\u001b[38;5;241m0\u001b[39m)\n\u001b[1;32m    523\u001b[0m \u001b[38;5;28;01mreturn\u001b[39;00m output\n",
      "File \u001b[0;32m~/miniconda3/lib/python3.12/site-packages/jax/_src/numpy/reductions.py:289\u001b[0m, in \u001b[0;36msum\u001b[0;34m(a, axis, dtype, out, keepdims, initial, where, promote_integers)\u001b[0m\n\u001b[1;32m    220\u001b[0m \u001b[38;5;28;01mdef\u001b[39;00m \u001b[38;5;21msum\u001b[39m(a: ArrayLike, axis: Axis \u001b[38;5;241m=\u001b[39m \u001b[38;5;28;01mNone\u001b[39;00m, dtype: DTypeLike \u001b[38;5;241m|\u001b[39m \u001b[38;5;28;01mNone\u001b[39;00m \u001b[38;5;241m=\u001b[39m \u001b[38;5;28;01mNone\u001b[39;00m,\n\u001b[1;32m    221\u001b[0m         out: \u001b[38;5;28;01mNone\u001b[39;00m \u001b[38;5;241m=\u001b[39m \u001b[38;5;28;01mNone\u001b[39;00m, keepdims: \u001b[38;5;28mbool\u001b[39m \u001b[38;5;241m=\u001b[39m \u001b[38;5;28;01mFalse\u001b[39;00m, initial: ArrayLike \u001b[38;5;241m|\u001b[39m \u001b[38;5;28;01mNone\u001b[39;00m \u001b[38;5;241m=\u001b[39m \u001b[38;5;28;01mNone\u001b[39;00m,\n\u001b[1;32m    222\u001b[0m         where: ArrayLike \u001b[38;5;241m|\u001b[39m \u001b[38;5;28;01mNone\u001b[39;00m \u001b[38;5;241m=\u001b[39m \u001b[38;5;28;01mNone\u001b[39;00m, promote_integers: \u001b[38;5;28mbool\u001b[39m \u001b[38;5;241m=\u001b[39m \u001b[38;5;28;01mTrue\u001b[39;00m) \u001b[38;5;241m-\u001b[39m\u001b[38;5;241m>\u001b[39m Array:\n\u001b[1;32m    223\u001b[0m \u001b[38;5;250m  \u001b[39m\u001b[38;5;124mr\u001b[39m\u001b[38;5;124;03m\"\"\"Sum of the elements of the array over a given axis.\u001b[39;00m\n\u001b[1;32m    224\u001b[0m \n\u001b[1;32m    225\u001b[0m \u001b[38;5;124;03m  JAX implementation of :func:`numpy.sum`.\u001b[39;00m\n\u001b[0;32m   (...)\u001b[0m\n\u001b[1;32m    287\u001b[0m \u001b[38;5;124;03m    Array([[0, 0, 0, 0]], dtype=int32)\u001b[39;00m\n\u001b[1;32m    288\u001b[0m \u001b[38;5;124;03m  \"\"\"\u001b[39;00m\n\u001b[0;32m--> 289\u001b[0m   \u001b[38;5;28;01mreturn\u001b[39;00m _reduce_sum(a, axis\u001b[38;5;241m=\u001b[39m_ensure_optional_axes(axis), dtype\u001b[38;5;241m=\u001b[39mdtype, out\u001b[38;5;241m=\u001b[39mout,\n\u001b[1;32m    290\u001b[0m                      keepdims\u001b[38;5;241m=\u001b[39mkeepdims, initial\u001b[38;5;241m=\u001b[39minitial, where\u001b[38;5;241m=\u001b[39mwhere,\n\u001b[1;32m    291\u001b[0m                      promote_integers\u001b[38;5;241m=\u001b[39mpromote_integers)\n",
      "    \u001b[0;31m[... skipping hidden 11 frame]\u001b[0m\n",
      "File \u001b[0;32m~/miniconda3/lib/python3.12/site-packages/jax/_src/numpy/reductions.py:213\u001b[0m, in \u001b[0;36m_reduce_sum\u001b[0;34m(a, axis, dtype, out, keepdims, initial, where, promote_integers)\u001b[0m\n\u001b[1;32m    208\u001b[0m \u001b[38;5;129m@partial\u001b[39m(api\u001b[38;5;241m.\u001b[39mjit, static_argnames\u001b[38;5;241m=\u001b[39m(\u001b[38;5;124m'\u001b[39m\u001b[38;5;124maxis\u001b[39m\u001b[38;5;124m'\u001b[39m, \u001b[38;5;124m'\u001b[39m\u001b[38;5;124mdtype\u001b[39m\u001b[38;5;124m'\u001b[39m, \u001b[38;5;124m'\u001b[39m\u001b[38;5;124mkeepdims\u001b[39m\u001b[38;5;124m'\u001b[39m, \u001b[38;5;124m'\u001b[39m\u001b[38;5;124mpromote_integers\u001b[39m\u001b[38;5;124m'\u001b[39m), inline\u001b[38;5;241m=\u001b[39m\u001b[38;5;28;01mTrue\u001b[39;00m)\n\u001b[1;32m    209\u001b[0m \u001b[38;5;28;01mdef\u001b[39;00m \u001b[38;5;21m_reduce_sum\u001b[39m(a: ArrayLike, axis: Axis \u001b[38;5;241m=\u001b[39m \u001b[38;5;28;01mNone\u001b[39;00m, dtype: DTypeLike \u001b[38;5;241m|\u001b[39m \u001b[38;5;28;01mNone\u001b[39;00m \u001b[38;5;241m=\u001b[39m \u001b[38;5;28;01mNone\u001b[39;00m,\n\u001b[1;32m    210\u001b[0m                 out: \u001b[38;5;28;01mNone\u001b[39;00m \u001b[38;5;241m=\u001b[39m \u001b[38;5;28;01mNone\u001b[39;00m, keepdims: \u001b[38;5;28mbool\u001b[39m \u001b[38;5;241m=\u001b[39m \u001b[38;5;28;01mFalse\u001b[39;00m,\n\u001b[1;32m    211\u001b[0m                 initial: ArrayLike \u001b[38;5;241m|\u001b[39m \u001b[38;5;28;01mNone\u001b[39;00m \u001b[38;5;241m=\u001b[39m \u001b[38;5;28;01mNone\u001b[39;00m, where: ArrayLike \u001b[38;5;241m|\u001b[39m \u001b[38;5;28;01mNone\u001b[39;00m \u001b[38;5;241m=\u001b[39m \u001b[38;5;28;01mNone\u001b[39;00m,\n\u001b[1;32m    212\u001b[0m                 promote_integers: \u001b[38;5;28mbool\u001b[39m \u001b[38;5;241m=\u001b[39m \u001b[38;5;28;01mTrue\u001b[39;00m) \u001b[38;5;241m-\u001b[39m\u001b[38;5;241m>\u001b[39m Array:\n\u001b[0;32m--> 213\u001b[0m   \u001b[38;5;28;01mreturn\u001b[39;00m _reduction(a, \u001b[38;5;124m\"\u001b[39m\u001b[38;5;124msum\u001b[39m\u001b[38;5;124m\"\u001b[39m, np\u001b[38;5;241m.\u001b[39msum, lax\u001b[38;5;241m.\u001b[39madd, \u001b[38;5;241m0\u001b[39m, preproc\u001b[38;5;241m=\u001b[39m_cast_to_numeric,\n\u001b[1;32m    214\u001b[0m                     bool_op\u001b[38;5;241m=\u001b[39mlax\u001b[38;5;241m.\u001b[39mbitwise_or, upcast_f16_for_computation\u001b[38;5;241m=\u001b[39m\u001b[38;5;28;01mTrue\u001b[39;00m,\n\u001b[1;32m    215\u001b[0m                     axis\u001b[38;5;241m=\u001b[39maxis, dtype\u001b[38;5;241m=\u001b[39mdtype, out\u001b[38;5;241m=\u001b[39mout, keepdims\u001b[38;5;241m=\u001b[39mkeepdims,\n\u001b[1;32m    216\u001b[0m                     initial\u001b[38;5;241m=\u001b[39minitial, where_\u001b[38;5;241m=\u001b[39mwhere, parallel_reduce\u001b[38;5;241m=\u001b[39mlax\u001b[38;5;241m.\u001b[39mpsum,\n\u001b[1;32m    217\u001b[0m                     promote_integers\u001b[38;5;241m=\u001b[39mpromote_integers)\n",
      "File \u001b[0;32m~/miniconda3/lib/python3.12/site-packages/jax/_src/numpy/reductions.py:111\u001b[0m, in \u001b[0;36m_reduction\u001b[0;34m(a, name, np_fun, op, init_val, has_identity, preproc, bool_op, upcast_f16_for_computation, axis, dtype, out, keepdims, initial, where_, parallel_reduce, promote_integers)\u001b[0m\n\u001b[1;32m    109\u001b[0m a \u001b[38;5;241m=\u001b[39m a \u001b[38;5;28;01mif\u001b[39;00m \u001b[38;5;28misinstance\u001b[39m(a, Array) \u001b[38;5;28;01melse\u001b[39;00m lax_internal\u001b[38;5;241m.\u001b[39masarray(a)\n\u001b[1;32m    110\u001b[0m a \u001b[38;5;241m=\u001b[39m preproc(a) \u001b[38;5;28;01mif\u001b[39;00m preproc \u001b[38;5;28;01melse\u001b[39;00m a\n\u001b[0;32m--> 111\u001b[0m pos_dims, dims \u001b[38;5;241m=\u001b[39m _reduction_dims(a, axis)\n\u001b[1;32m    113\u001b[0m \u001b[38;5;28;01mif\u001b[39;00m initial \u001b[38;5;129;01mis\u001b[39;00m \u001b[38;5;28;01mNone\u001b[39;00m \u001b[38;5;129;01mand\u001b[39;00m \u001b[38;5;129;01mnot\u001b[39;00m has_identity:\n\u001b[1;32m    114\u001b[0m   shape \u001b[38;5;241m=\u001b[39m np\u001b[38;5;241m.\u001b[39mshape(a)\n",
      "File \u001b[0;32m~/miniconda3/lib/python3.12/site-packages/jax/_src/numpy/reductions.py:160\u001b[0m, in \u001b[0;36m_reduction_dims\u001b[0;34m(a, axis)\u001b[0m\n\u001b[1;32m    158\u001b[0m \u001b[38;5;28;01melif\u001b[39;00m \u001b[38;5;129;01mnot\u001b[39;00m \u001b[38;5;28misinstance\u001b[39m(axis, (np\u001b[38;5;241m.\u001b[39mndarray, \u001b[38;5;28mtuple\u001b[39m, \u001b[38;5;28mlist\u001b[39m)):\n\u001b[1;32m    159\u001b[0m   axis \u001b[38;5;241m=\u001b[39m (axis,)  \u001b[38;5;66;03m# type: ignore[assignment]\u001b[39;00m\n\u001b[0;32m--> 160\u001b[0m canon_axis \u001b[38;5;241m=\u001b[39m \u001b[38;5;28mtuple\u001b[39m(_canonicalize_axis_allow_named(x, np\u001b[38;5;241m.\u001b[39mndim(a))\n\u001b[1;32m    161\u001b[0m                    \u001b[38;5;28;01mfor\u001b[39;00m x \u001b[38;5;129;01min\u001b[39;00m axis)  \u001b[38;5;66;03m# type: ignore[union-attr]\u001b[39;00m\n\u001b[1;32m    162\u001b[0m \u001b[38;5;28;01mif\u001b[39;00m \u001b[38;5;28mlen\u001b[39m(canon_axis) \u001b[38;5;241m!=\u001b[39m \u001b[38;5;28mlen\u001b[39m(\u001b[38;5;28mset\u001b[39m(canon_axis)):\n\u001b[1;32m    163\u001b[0m   \u001b[38;5;28;01mraise\u001b[39;00m \u001b[38;5;167;01mValueError\u001b[39;00m(\u001b[38;5;124mf\u001b[39m\u001b[38;5;124m\"\u001b[39m\u001b[38;5;124mduplicate value in \u001b[39m\u001b[38;5;124m'\u001b[39m\u001b[38;5;124maxis\u001b[39m\u001b[38;5;124m'\u001b[39m\u001b[38;5;124m: \u001b[39m\u001b[38;5;132;01m{\u001b[39;00maxis\u001b[38;5;132;01m}\u001b[39;00m\u001b[38;5;124m\"\u001b[39m)\n",
      "File \u001b[0;32m~/miniconda3/lib/python3.12/site-packages/jax/_src/numpy/reductions.py:160\u001b[0m, in \u001b[0;36m<genexpr>\u001b[0;34m(.0)\u001b[0m\n\u001b[1;32m    158\u001b[0m \u001b[38;5;28;01melif\u001b[39;00m \u001b[38;5;129;01mnot\u001b[39;00m \u001b[38;5;28misinstance\u001b[39m(axis, (np\u001b[38;5;241m.\u001b[39mndarray, \u001b[38;5;28mtuple\u001b[39m, \u001b[38;5;28mlist\u001b[39m)):\n\u001b[1;32m    159\u001b[0m   axis \u001b[38;5;241m=\u001b[39m (axis,)  \u001b[38;5;66;03m# type: ignore[assignment]\u001b[39;00m\n\u001b[0;32m--> 160\u001b[0m canon_axis \u001b[38;5;241m=\u001b[39m \u001b[38;5;28mtuple\u001b[39m(_canonicalize_axis_allow_named(x, np\u001b[38;5;241m.\u001b[39mndim(a))\n\u001b[1;32m    161\u001b[0m                    \u001b[38;5;28;01mfor\u001b[39;00m x \u001b[38;5;129;01min\u001b[39;00m axis)  \u001b[38;5;66;03m# type: ignore[union-attr]\u001b[39;00m\n\u001b[1;32m    162\u001b[0m \u001b[38;5;28;01mif\u001b[39;00m \u001b[38;5;28mlen\u001b[39m(canon_axis) \u001b[38;5;241m!=\u001b[39m \u001b[38;5;28mlen\u001b[39m(\u001b[38;5;28mset\u001b[39m(canon_axis)):\n\u001b[1;32m    163\u001b[0m   \u001b[38;5;28;01mraise\u001b[39;00m \u001b[38;5;167;01mValueError\u001b[39;00m(\u001b[38;5;124mf\u001b[39m\u001b[38;5;124m\"\u001b[39m\u001b[38;5;124mduplicate value in \u001b[39m\u001b[38;5;124m'\u001b[39m\u001b[38;5;124maxis\u001b[39m\u001b[38;5;124m'\u001b[39m\u001b[38;5;124m: \u001b[39m\u001b[38;5;132;01m{\u001b[39;00maxis\u001b[38;5;132;01m}\u001b[39;00m\u001b[38;5;124m\"\u001b[39m)\n",
      "File \u001b[0;32m~/miniconda3/lib/python3.12/site-packages/jax/_src/numpy/reductions.py:153\u001b[0m, in \u001b[0;36m_canonicalize_axis_allow_named\u001b[0;34m(x, rank)\u001b[0m\n\u001b[1;32m    152\u001b[0m \u001b[38;5;28;01mdef\u001b[39;00m \u001b[38;5;21m_canonicalize_axis_allow_named\u001b[39m(x, rank):\n\u001b[0;32m--> 153\u001b[0m   \u001b[38;5;28;01mreturn\u001b[39;00m maybe_named_axis(x, \u001b[38;5;28;01mlambda\u001b[39;00m i: _canonicalize_axis(i, rank), \u001b[38;5;28;01mlambda\u001b[39;00m name: name)\n",
      "    \u001b[0;31m[... skipping hidden 1 frame]\u001b[0m\n",
      "File \u001b[0;32m~/miniconda3/lib/python3.12/site-packages/jax/_src/numpy/reductions.py:153\u001b[0m, in \u001b[0;36m_canonicalize_axis_allow_named.<locals>.<lambda>\u001b[0;34m(i)\u001b[0m\n\u001b[1;32m    152\u001b[0m \u001b[38;5;28;01mdef\u001b[39;00m \u001b[38;5;21m_canonicalize_axis_allow_named\u001b[39m(x, rank):\n\u001b[0;32m--> 153\u001b[0m   \u001b[38;5;28;01mreturn\u001b[39;00m maybe_named_axis(x, \u001b[38;5;28;01mlambda\u001b[39;00m i: _canonicalize_axis(i, rank), \u001b[38;5;28;01mlambda\u001b[39;00m name: name)\n",
      "File \u001b[0;32m~/miniconda3/lib/python3.12/site-packages/jax/_src/util.py:389\u001b[0m, in \u001b[0;36mcanonicalize_axis\u001b[0;34m(axis, num_dims)\u001b[0m\n\u001b[1;32m    387\u001b[0m axis \u001b[38;5;241m=\u001b[39m operator\u001b[38;5;241m.\u001b[39mindex(axis)\n\u001b[1;32m    388\u001b[0m \u001b[38;5;28;01mif\u001b[39;00m \u001b[38;5;129;01mnot\u001b[39;00m \u001b[38;5;241m-\u001b[39mnum_dims \u001b[38;5;241m<\u001b[39m\u001b[38;5;241m=\u001b[39m axis \u001b[38;5;241m<\u001b[39m num_dims:\n\u001b[0;32m--> 389\u001b[0m   \u001b[38;5;28;01mraise\u001b[39;00m \u001b[38;5;167;01mValueError\u001b[39;00m(\u001b[38;5;124mf\u001b[39m\u001b[38;5;124m\"\u001b[39m\u001b[38;5;124maxis \u001b[39m\u001b[38;5;132;01m{\u001b[39;00maxis\u001b[38;5;132;01m}\u001b[39;00m\u001b[38;5;124m is out of bounds for array of dimension \u001b[39m\u001b[38;5;132;01m{\u001b[39;00mnum_dims\u001b[38;5;132;01m}\u001b[39;00m\u001b[38;5;124m\"\u001b[39m)\n\u001b[1;32m    390\u001b[0m \u001b[38;5;28;01mif\u001b[39;00m axis \u001b[38;5;241m<\u001b[39m \u001b[38;5;241m0\u001b[39m:\n\u001b[1;32m    391\u001b[0m   axis \u001b[38;5;241m=\u001b[39m axis \u001b[38;5;241m+\u001b[39m num_dims\n",
      "\u001b[0;31mValueError\u001b[0m: axis 0 is out of bounds for array of dimension 0"
     ]
    }
   ],
   "source": [
    "# apply through the solver with the states\n",
    "(configs, ansatze), probabilities, (v, means, stds) = nqs.evaluate_fun(batch_size = 10)\n",
    "means, stds, configs.shape, ansatze.shape, probabilities.shape"
   ]
  },
  {
   "cell_type": "markdown",
   "metadata": {},
   "source": [
    "#### Directly"
   ]
  },
  {
   "cell_type": "code",
   "execution_count": 12,
   "metadata": {},
   "outputs": [
    {
     "name": "stdout",
     "output_type": "stream",
     "text": [
      "(9, 3, 10)\n",
      "(3, 1)\n"
     ]
    },
    {
     "data": {
      "text/plain": [
       "Array([[ 0.65866542+0.40745464j, -0.96497238+0.08639439j,\n",
       "         1.39652574-0.17228837j, ..., -0.02979387+1.4212116j ,\n",
       "         0.46657672+1.13146494j,  0.        +0.j        ],\n",
       "       [ 0.        +0.j        ,  0.        +0.j        ,\n",
       "         1.39652574-0.17228837j, ...,  0.34756038+0.38114775j,\n",
       "         0.        +0.j        ,  0.47825681+0.02549799j],\n",
       "       [ 0.65866542+0.40745464j, -0.96497238+0.08639439j,\n",
       "         1.39652574-0.17228837j, ..., -0.76903558+0.32339689j,\n",
       "         0.        +0.j        , -0.47113513+0.7089595j ],\n",
       "       ...,\n",
       "       [ 0.        +0.j        , -0.96497238+0.08639439j,\n",
       "         0.        +0.j        , ...,  0.        +0.j        ,\n",
       "         0.        +0.j        ,  0.        +0.j        ],\n",
       "       [ 0.        +0.j        ,  0.        +0.j        ,\n",
       "         1.39652574-0.17228837j, ...,  0.6245665 +0.16962344j,\n",
       "        -0.02625485+1.18055515j,  0.        +0.j        ],\n",
       "       [ 0.65866542+0.40745464j,  0.        +0.j        ,\n",
       "         0.        +0.j        , ...,  0.        +0.j        ,\n",
       "         0.        +0.j        , -0.04023486+0.57434484j]],      dtype=complex128)"
      ]
     },
     "execution_count": 12,
     "metadata": {},
     "output_type": "execute_result"
    }
   ],
   "source": [
    "import general_python.ml.net_impl.utils.net_utils as net_utils\n",
    "import jax \n",
    "# create the batches\n",
    "sb              = net_utils.jaxpy.create_batches_jax(configs, batch_size = 3)\n",
    "print(sb.shape)\n",
    "apply_f, params = net.get_apply(use_jax=True)\n",
    "print(apply_f(params, sb[0]).shape)\n",
    "\n",
    "# compute the gradients using JAX's vmap and scan\n",
    "# use the provided flat_grad_fun to compute the gradients\n",
    "# this is a function that computes the gradients of the network\n",
    "def scan_fun(c, x):\n",
    "    return c, jax.vmap(lambda y: net_utils.jaxpy.flat_gradient_holo_numerical_jax(apply_f, params, y), in_axes=(0,))(x)\n",
    "\n",
    "# use jax's scan to compute the gradients of the logarithmic wave function\n",
    "g = jax.lax.scan(scan_fun, None, sb)[1]\n",
    "from jax import tree_util\n",
    "\n",
    "g = tree_util.tree_map(lambda x: x.reshape((-1,) + x.shape[2:]), g)\n",
    "g = tree_util.tree_map(lambda x: x[:configs.shape[0]], g)\n",
    "\n",
    "# # g = jax.tree_map(lambda x: x / jax.lax.norm(x), g)\n",
    "g.shape\n",
    "g"
   ]
  },
  {
   "cell_type": "markdown",
   "metadata": {},
   "source": [
    "#### Through the solver"
   ]
  },
  {
   "cell_type": "code",
   "execution_count": 13,
   "metadata": {},
   "outputs": [
    {
     "data": {
      "text/plain": [
       "Array([[ 0.        +0.j        ,  0.        +0.j        ,\n",
       "         0.        +0.j        , ...,  0.        +0.j        ,\n",
       "         0.        +0.j        , -0.32002134+0.22016215j],\n",
       "       [ 0.65866542+0.40745464j, -0.96497238+0.08639439j,\n",
       "         1.39652574-0.17228837j, ...,  0.3286974 +0.65195047j,\n",
       "         0.        +0.j        ,  0.68316557+0.77572485j],\n",
       "       [ 0.        +0.j        , -0.96497238+0.08639439j,\n",
       "         1.39652574-0.17228837j, ...,  0.18765405+0.27717504j,\n",
       "         0.        +0.j        ,  0.28474208+0.13324456j],\n",
       "       ...,\n",
       "       [ 0.        +0.j        ,  0.        +0.j        ,\n",
       "         0.        +0.j        , ...,  0.        +0.j        ,\n",
       "         0.48503316+0.61455249j,  0.23406688+0.05146329j],\n",
       "       [ 0.65866542+0.40745464j, -0.96497238+0.08639439j,\n",
       "         0.        +0.j        , ...,  0.        +0.j        ,\n",
       "        -0.04850227+0.20163243j,  0.        +0.j        ],\n",
       "       [ 0.        +0.j        ,  0.        +0.j        ,\n",
       "         1.39652574-0.17228837j, ...,  0.01029463+1.32359544j,\n",
       "         0.        +0.j        ,  0.73293386+0.65416242j]],      dtype=complex128)"
      ]
     },
     "execution_count": 13,
     "metadata": {},
     "output_type": "execute_result"
    }
   ],
   "source": [
    "# through the solver\n",
    "g = nqs.gradient(configs, batch_size=3)\n",
    "g.shape\n",
    "g"
   ]
  },
  {
   "cell_type": "markdown",
   "metadata": {},
   "source": [
    "#### Try out standard gradient vector"
   ]
  },
  {
   "cell_type": "code",
   "execution_count": 14,
   "metadata": {},
   "outputs": [
    {
     "data": {
      "text/plain": [
       "((122,), (25,))"
      ]
     },
     "execution_count": 14,
     "metadata": {},
     "output_type": "execute_result"
    }
   ],
   "source": [
    "samples     = v.shape[0]\n",
    "e_centered  = (v - means)\n",
    "\n",
    "# derivatives centered\n",
    "g_means     = jnp.mean(g, axis = 0)\n",
    "g_means.shape, e_centered.shape"
   ]
  },
  {
   "cell_type": "code",
   "execution_count": 15,
   "metadata": {},
   "outputs": [
    {
     "data": {
      "text/plain": [
       "(25, 122)"
      ]
     },
     "execution_count": 15,
     "metadata": {},
     "output_type": "execute_result"
    }
   ],
   "source": [
    "g_centered  = g - g_means\n",
    "g_centered.shape"
   ]
  },
  {
   "cell_type": "code",
   "execution_count": 16,
   "metadata": {},
   "outputs": [
    {
     "data": {
      "text/plain": [
       "(122,)"
      ]
     },
     "execution_count": 16,
     "metadata": {},
     "output_type": "execute_result"
    }
   ],
   "source": [
    "# get F\n",
    "F = jnp.matmul(jnp.conj(g_centered).T, e_centered) / samples\n",
    "F.shape"
   ]
  },
  {
   "cell_type": "code",
   "execution_count": 17,
   "metadata": {},
   "outputs": [
    {
     "ename": "KeyError",
     "evalue": "'params'",
     "output_type": "error",
     "traceback": [
      "\u001b[0;31m---------------------------------------------------------------------------\u001b[0m",
      "\u001b[0;31mKeyError\u001b[0m                                  Traceback (most recent call last)",
      "Cell \u001b[0;32mIn[17], line 1\u001b[0m\n\u001b[0;32m----> 1\u001b[0m nqs\u001b[38;5;241m.\u001b[39mupdate_parameters(F)\n\u001b[1;32m      2\u001b[0m net\u001b[38;5;241m.\u001b[39mget_params()\n",
      "File \u001b[0;32m~/Codes/QuantumEigenSolver/Python/QES/NQS/nqs.py:845\u001b[0m, in \u001b[0;36mNQS.update_parameters\u001b[0;34m(self, d_par)\u001b[0m\n\u001b[1;32m    835\u001b[0m \u001b[38;5;250m\u001b[39m\u001b[38;5;124;03m'''\u001b[39;00m\n\u001b[1;32m    836\u001b[0m \u001b[38;5;124;03mUpdate the parameters of the model.\u001b[39;00m\n\u001b[1;32m    837\u001b[0m \u001b[38;5;124;03m\u001b[39;00m\n\u001b[0;32m   (...)\u001b[0m\n\u001b[1;32m    840\u001b[0m \u001b[38;5;124;03m            list, or numpy array.\u001b[39;00m\n\u001b[1;32m    841\u001b[0m \u001b[38;5;124;03m'''\u001b[39;00m\n\u001b[1;32m    843\u001b[0m unflattened     \u001b[38;5;241m=\u001b[39m \u001b[38;5;28mself\u001b[39m\u001b[38;5;241m.\u001b[39m_update_unflatten(d_par)\n\u001b[1;32m    844\u001b[0m new_parameters  \u001b[38;5;241m=\u001b[39m tree_map(jax\u001b[38;5;241m.\u001b[39mlax\u001b[38;5;241m.\u001b[39madd,\n\u001b[0;32m--> 845\u001b[0m                             \u001b[38;5;28mself\u001b[39m\u001b[38;5;241m.\u001b[39m_net\u001b[38;5;241m.\u001b[39mget_params()[\u001b[38;5;124m'\u001b[39m\u001b[38;5;124mparams\u001b[39m\u001b[38;5;124m'\u001b[39m],\n\u001b[1;32m    846\u001b[0m                             unflattened)\n\u001b[1;32m    848\u001b[0m \u001b[38;5;66;03m# set the new parameters already\u001b[39;00m\n\u001b[1;32m    849\u001b[0m \u001b[38;5;28mself\u001b[39m\u001b[38;5;241m.\u001b[39m_params   \u001b[38;5;241m=\u001b[39m new_parameters\n",
      "\u001b[0;31mKeyError\u001b[0m: 'params'"
     ]
    }
   ],
   "source": [
    "nqs.update_parameters(F)\n",
    "net.get_params()"
   ]
  },
  {
   "cell_type": "markdown",
   "metadata": {},
   "source": [
    "### Try out Stochastic Reconfiguration and gradient parameter"
   ]
  },
  {
   "cell_type": "code",
   "execution_count": 12,
   "metadata": {},
   "outputs": [
    {
     "data": {
      "text/plain": [
       "((200,), (200, 122))"
      ]
     },
     "execution_count": 12,
     "metadata": {},
     "output_type": "execute_result"
    }
   ],
   "source": [
    "# try out stochastic reconfiguration\n",
    "samples = v.shape[0]\n",
    "v.shape, g.shape"
   ]
  },
  {
   "cell_type": "code",
   "execution_count": 13,
   "metadata": {},
   "outputs": [
    {
     "data": {
      "text/plain": [
       "((122,), (200,))"
      ]
     },
     "execution_count": 13,
     "metadata": {},
     "output_type": "execute_result"
    }
   ],
   "source": [
    "e_centered  = (v - means)\n",
    "\n",
    "# derivatives centered\n",
    "g_means     = jnp.mean(g, axis = 0)\n",
    "g_means.shape, e_centered.shape"
   ]
  },
  {
   "cell_type": "code",
   "execution_count": 14,
   "metadata": {},
   "outputs": [
    {
     "data": {
      "text/plain": [
       "(200, 122)"
      ]
     },
     "execution_count": 14,
     "metadata": {},
     "output_type": "execute_result"
    }
   ],
   "source": [
    "g_centered  = g - g_means\n",
    "g_centered.shape"
   ]
  },
  {
   "cell_type": "code",
   "execution_count": 15,
   "metadata": {},
   "outputs": [],
   "source": [
    "g_centered_c_t = jnp.conj(g_centered).T"
   ]
  },
  {
   "cell_type": "code",
   "execution_count": 16,
   "metadata": {},
   "outputs": [
    {
     "data": {
      "text/plain": [
       "(122,)"
      ]
     },
     "execution_count": 16,
     "metadata": {},
     "output_type": "execute_result"
    }
   ],
   "source": [
    "# get F\n",
    "F = jnp.matmul(g_centered_c_t, e_centered)\n",
    "F.shape"
   ]
  },
  {
   "cell_type": "code",
   "execution_count": 17,
   "metadata": {},
   "outputs": [
    {
     "data": {
      "text/plain": [
       "(122, 122)"
      ]
     },
     "execution_count": 17,
     "metadata": {},
     "output_type": "execute_result"
    }
   ],
   "source": [
    "S = jnp.matmul(g_centered_c_t, g_centered) / samples\n",
    "S.shape"
   ]
  },
  {
   "cell_type": "code",
   "execution_count": 18,
   "metadata": {},
   "outputs": [
    {
     "data": {
      "text/plain": [
       "DeviceArray([[-3.93554855e+03+5.33812768e+03j,\n",
       "               7.62498881e+00+1.15546464e+00j,\n",
       "              -2.11245699e+02-1.75518038e+02j, ...,\n",
       "               1.72283782e+02+1.94078715e+03j,\n",
       "              -3.48546042e+02-1.49834946e+03j,\n",
       "              -3.32953450e+02+4.69936990e+02j],\n",
       "             [-2.22128851e+01-4.99460437e+01j,\n",
       "              -1.34701147e+03+1.70924399e+03j,\n",
       "               2.01349750e+02-7.58985694e+01j, ...,\n",
       "               4.59210850e+03+2.74385215e+03j,\n",
       "               1.55533214e+03+1.30541734e+03j,\n",
       "              -1.00787909e+02+3.97334206e+01j],\n",
       "             [ 1.00727776e+03+4.52922726e+02j,\n",
       "              -7.60509629e+00-1.21841041e+02j,\n",
       "              -1.19186272e+03+2.28626133e+03j, ...,\n",
       "               2.73049858e+03-1.70319819e+01j,\n",
       "               7.35045580e+02-8.81476689e+02j,\n",
       "               1.44884004e+03-7.05229453e+01j],\n",
       "             ...,\n",
       "             [ 4.91581972e+02-9.01879088e+02j,\n",
       "               3.96034578e+02-3.81158095e+01j,\n",
       "               3.45750497e+02+9.27203845e+01j, ...,\n",
       "              -3.19652743e+03-1.39800617e+04j,\n",
       "              -1.23453521e+03-1.30245718e+03j,\n",
       "               5.44165059e+01-4.23323443e+02j],\n",
       "             [-5.04081128e+02-4.71587637e+02j,\n",
       "               1.82655624e+01+1.27243564e+02j,\n",
       "              -1.21316262e+02+4.10459190e+01j, ...,\n",
       "               1.39342331e+03+6.25787047e+02j,\n",
       "               9.07990500e+03-1.01884531e+03j,\n",
       "               2.45100528e+02+4.75331080e+02j],\n",
       "             [ 8.71142035e+02+5.14851409e+02j,\n",
       "               2.68527240e+01-3.47713709e-01j,\n",
       "              -5.47890721e+02+3.18597849e+02j, ...,\n",
       "               1.40380178e+03+2.29816877e+02j,\n",
       "               1.61297057e+03-1.33546379e+03j,\n",
       "               1.96819796e+03+1.11362688e+03j]], dtype=complex128)"
      ]
     },
     "execution_count": 18,
     "metadata": {},
     "output_type": "execute_result"
    }
   ],
   "source": [
    "# use standard solver\n",
    "dF = jnp.linalg.pinv(S, 1e-5) * F\n",
    "dF.shape\n",
    "dF"
   ]
  },
  {
   "cell_type": "markdown",
   "metadata": {},
   "source": [
    "### Try the stochastic reconfiguration class (with solver)"
   ]
  },
  {
   "cell_type": "code",
   "execution_count": null,
   "metadata": {},
   "outputs": [
    {
     "data": {
      "text/plain": [
       "<module 'general_python.algebra.solver' from '/home/klimak/Codes/QuantumEigenSolver/Python/QES/general_python/algebra/solver.py'>"
      ]
     },
     "execution_count": 3,
     "metadata": {},
     "output_type": "execute_result"
    }
   ],
   "source": [
    "# setup the solver\n",
    "import general_python.algebra.solver as solver_mod"
   ]
  },
  {
   "cell_type": "markdown",
   "metadata": {},
   "source": [
    "###### a) Without MINSR - solver = direct - no covariance S"
   ]
  },
  {
   "cell_type": "code",
   "execution_count": 9,
   "metadata": {},
   "outputs": [
    {
     "data": {
      "text/plain": [
       "<general_python.algebra.solvers.stochastic_rcnfg.StochasticReconfiguration at 0x797ffcfe93d0>"
      ]
     },
     "execution_count": 9,
     "metadata": {},
     "output_type": "execute_result"
    }
   ],
   "source": [
    "from general_python.algebra.solvers import stochastic_rcnfg as sr\n",
    "\n",
    "# get the samples - apply through the solver with the states\n",
    "(configs, ansatze), probabilities, (v, means, stds) = nqs.evaluate_fun(batch_size = 10)\n",
    "means, stds, configs.shape, ansatze.shape, probabilities.shape\n",
    "\n",
    "# get the derivatives - through the solver\n",
    "g = nqs.gradient(configs, batch_size=3)\n",
    "g.shape\n",
    "\n",
    "# create the sr\n",
    "stochastic_reconfiguration = sr.StochasticReconfiguration(None, backend='jax')\n",
    "stochastic_reconfiguration"
   ]
  },
  {
   "cell_type": "code",
   "execution_count": 4,
   "metadata": {},
   "outputs": [
    {
     "ename": "NameError",
     "evalue": "name 'stochastic_reconfiguration' is not defined",
     "output_type": "error",
     "traceback": [
      "\u001b[0;31m---------------------------------------------------------------------------\u001b[0m",
      "\u001b[0;31mNameError\u001b[0m                                 Traceback (most recent call last)",
      "Cell \u001b[0;32mIn[4], line 1\u001b[0m\n\u001b[0;32m----> 1\u001b[0m stochastic_reconfiguration\u001b[38;5;241m.\u001b[39mset_values(loss  \u001b[38;5;241m=\u001b[39m   v, \n\u001b[1;32m      2\u001b[0m                                 derivatives \u001b[38;5;241m=\u001b[39m   g,\n\u001b[1;32m      3\u001b[0m                                 mean_loss   \u001b[38;5;241m=\u001b[39m   means,\n\u001b[1;32m      4\u001b[0m                                 mean_deriv  \u001b[38;5;241m=\u001b[39m   \u001b[38;5;28;01mNone\u001b[39;00m,\n\u001b[1;32m      5\u001b[0m                                 calculate_s \u001b[38;5;241m=\u001b[39m   \u001b[38;5;28;01mFalse\u001b[39;00m, \n\u001b[1;32m      6\u001b[0m                                 use_minsr   \u001b[38;5;241m=\u001b[39m   \u001b[38;5;28;01mFalse\u001b[39;00m)\n\u001b[1;32m      8\u001b[0m f \u001b[38;5;241m=\u001b[39m stochastic_reconfiguration\u001b[38;5;241m.\u001b[39mforces\n\u001b[1;32m      9\u001b[0m s \u001b[38;5;241m=\u001b[39m stochastic_reconfiguration\u001b[38;5;241m.\u001b[39mcovariance_matrix\n",
      "\u001b[0;31mNameError\u001b[0m: name 'stochastic_reconfiguration' is not defined"
     ]
    }
   ],
   "source": [
    "stochastic_reconfiguration.set_values(loss  =   v, \n",
    "                                derivatives =   g,\n",
    "                                mean_loss   =   means,\n",
    "                                mean_deriv  =   None,\n",
    "                                calculate_s =   False, \n",
    "                                use_minsr   =   False)\n",
    "\n",
    "f = stochastic_reconfiguration.forces\n",
    "s = stochastic_reconfiguration.covariance_matrix\n",
    "\n",
    "f.shape, s.shape\n",
    "f, s"
   ]
  },
  {
   "cell_type": "code",
   "execution_count": 13,
   "metadata": {},
   "outputs": [
    {
     "data": {
      "text/plain": [
       "(DeviceArray([[ 745.15788636  +0.j        ,  -66.73252033 +85.93926648j,\n",
       "                -98.5109987 +154.67123818j, ...,\n",
       "               -209.94125982 +24.31248764j,  219.1822494 -123.03491681j,\n",
       "                  0.          +0.j        ],\n",
       "              [ -66.73252033 -85.93926648j,   15.88762195  +0.j        ,\n",
       "                 26.660417    -2.49026228j, ...,\n",
       "                 21.60522895 +22.03528218j,  -33.81848985 -14.25997342j,\n",
       "                  0.          +0.j        ],\n",
       "              [ -98.5109987 -154.67123818j,   26.660417    +2.49026228j,\n",
       "                 77.36257027  +0.j        , ...,\n",
       "                 16.33149124 +38.77137793j,  -62.51135673 -29.44222441j,\n",
       "                  0.          +0.j        ],\n",
       "              ...,\n",
       "              [-209.94125982 -24.31248764j,   21.60522895 -22.03528218j,\n",
       "                 16.33149124 -38.77137793j, ...,\n",
       "                 71.51043787  +0.j        ,  -61.67045844 +27.22622149j,\n",
       "                  0.          +0.j        ],\n",
       "              [ 219.1822494 +123.03491681j,  -33.81848985 +14.25997342j,\n",
       "                -62.51135673 +29.44222441j, ...,\n",
       "                -61.67045844 -27.22622149j,   87.56863988  +0.j        ,\n",
       "                  0.          +0.j        ],\n",
       "              [   0.          +0.j        ,    0.          +0.j        ,\n",
       "                  0.          +0.j        , ...,\n",
       "                  0.          +0.j        ,    0.          +0.j        ,\n",
       "                  0.          +0.j        ]], dtype=complex128),\n",
       " DeviceArray([ 5.99399782e+18+2.00087254e+18j,\n",
       "              -3.06030530e+17-8.70477324e+17j,\n",
       "              -6.46453093e+17-2.58631367e+18j,\n",
       "               2.56051801e+18-9.19671846e+17j,\n",
       "               0.00000000e+00+0.00000000e+00j,\n",
       "               2.00087254e+18-5.99399782e+18j,\n",
       "              -8.70477324e+17+3.06030530e+17j,\n",
       "              -2.58631367e+18+6.46453093e+17j,\n",
       "              -9.19671846e+17-2.56051801e+18j,\n",
       "               0.00000000e+00+0.00000000e+00j,\n",
       "              -2.99699891e+18-1.00043627e+18j,\n",
       "               1.53015265e+17+4.35238662e+17j,\n",
       "               2.42419910e+17+9.69867626e+17j,\n",
       "               1.28025900e+18-4.59835923e+17j,\n",
       "               0.00000000e+00+0.00000000e+00j,\n",
       "              -2.99699891e+18-1.00043627e+18j,\n",
       "               1.53015265e+17+4.35238662e+17j,\n",
       "               3.23226547e+17+1.29315683e+18j,\n",
       "               2.01183558e+18-7.22599308e+17j,\n",
       "               0.00000000e+00+0.00000000e+00j,\n",
       "               2.99699891e+18+1.00043627e+18j,\n",
       "              -1.53015265e+17-4.35238662e+17j,\n",
       "              -2.42419910e+17-9.69867626e+17j,\n",
       "               1.64604729e+18-5.91217616e+17j,\n",
       "               0.00000000e+00+0.00000000e+00j,\n",
       "               2.14071351e+18+7.14597334e+17j,\n",
       "              -1.09296618e+17-3.10884759e+17j,\n",
       "              -2.42419910e+17-9.69867626e+17j,\n",
       "               1.28025900e+18-4.59835923e+17j,\n",
       "               0.00000000e+00+0.00000000e+00j,\n",
       "               2.99699891e+18+1.00043627e+18j,\n",
       "              -1.53015265e+17-4.35238662e+17j,\n",
       "              -3.23226547e+17-1.29315683e+18j,\n",
       "               1.64604729e+18-5.91217616e+17j,\n",
       "               0.00000000e+00+0.00000000e+00j,\n",
       "               2.99699891e+18+1.00043627e+18j,\n",
       "              -1.53015265e+17-4.35238662e+17j,\n",
       "              -2.42419910e+17-9.69867626e+17j,\n",
       "              -1.28025900e+18+4.59835923e+17j,\n",
       "               0.00000000e+00+0.00000000e+00j,\n",
       "              -4.28142701e+17-1.42919467e+17j,\n",
       "               2.18593236e+16+6.21769517e+16j,\n",
       "               8.08066367e+16+3.23289209e+17j,\n",
       "              -1.28025900e+18+4.59835923e+17j,\n",
       "               0.00000000e+00+0.00000000e+00j,\n",
       "               2.99699891e+18+1.00043627e+18j,\n",
       "              -1.53015265e+17-4.35238662e+17j,\n",
       "              -2.42419910e+17-9.69867626e+17j,\n",
       "               1.64604729e+18-5.91217616e+17j,\n",
       "               0.00000000e+00+0.00000000e+00j,\n",
       "               4.28142701e+17+1.42919467e+17j,\n",
       "              -2.18593236e+16-6.21769517e+16j,\n",
       "              -8.08066367e+16-3.23289209e+17j,\n",
       "               1.28025900e+18-4.59835923e+17j,\n",
       "               0.00000000e+00+0.00000000e+00j,\n",
       "               2.99699891e+18+1.00043627e+18j,\n",
       "              -1.53015265e+17-4.35238662e+17j,\n",
       "              -3.23226547e+17-1.29315683e+18j,\n",
       "              -1.64604729e+18+5.91217616e+17j,\n",
       "               0.00000000e+00+0.00000000e+00j,\n",
       "              -1.00043627e+18+2.99699891e+18j,\n",
       "               4.35238662e+17-1.53015265e+17j,\n",
       "               9.69867626e+17-2.42419910e+17j,\n",
       "              -4.59835923e+17-1.28025900e+18j,\n",
       "               0.00000000e+00+0.00000000e+00j,\n",
       "              -1.00043627e+18+2.99699891e+18j,\n",
       "               4.35238662e+17-1.53015265e+17j,\n",
       "               1.29315683e+18-3.23226547e+17j,\n",
       "              -7.22599308e+17-2.01183558e+18j,\n",
       "               0.00000000e+00+0.00000000e+00j,\n",
       "               1.00043627e+18-2.99699891e+18j,\n",
       "              -4.35238662e+17+1.53015265e+17j,\n",
       "              -9.69867626e+17+2.42419910e+17j,\n",
       "              -5.91217616e+17-1.64604729e+18j,\n",
       "               0.00000000e+00+0.00000000e+00j,\n",
       "               7.14597334e+17-2.14071351e+18j,\n",
       "              -3.10884759e+17+1.09296618e+17j,\n",
       "              -9.69867626e+17+2.42419910e+17j,\n",
       "              -4.59835923e+17-1.28025900e+18j,\n",
       "               0.00000000e+00+0.00000000e+00j,\n",
       "               1.00043627e+18-2.99699891e+18j,\n",
       "              -4.35238662e+17+1.53015265e+17j,\n",
       "              -1.29315683e+18+3.23226547e+17j,\n",
       "              -5.91217616e+17-1.64604729e+18j,\n",
       "               0.00000000e+00+0.00000000e+00j,\n",
       "               1.00043627e+18-2.99699891e+18j,\n",
       "              -4.35238662e+17+1.53015265e+17j,\n",
       "              -9.69867626e+17+2.42419910e+17j,\n",
       "               4.59835923e+17+1.28025900e+18j,\n",
       "               0.00000000e+00+0.00000000e+00j,\n",
       "              -1.42919467e+17+4.28142701e+17j,\n",
       "               6.21769517e+16-2.18593236e+16j,\n",
       "               3.23289209e+17-8.08066367e+16j,\n",
       "               4.59835923e+17+1.28025900e+18j,\n",
       "               0.00000000e+00+0.00000000e+00j,\n",
       "               1.00043627e+18-2.99699891e+18j,\n",
       "              -4.35238662e+17+1.53015265e+17j,\n",
       "              -9.69867626e+17+2.42419910e+17j,\n",
       "              -5.91217616e+17-1.64604729e+18j,\n",
       "               0.00000000e+00+0.00000000e+00j,\n",
       "               1.42919467e+17-4.28142701e+17j,\n",
       "              -6.21769517e+16+2.18593236e+16j,\n",
       "              -3.23289209e+17+8.08066367e+16j,\n",
       "              -4.59835923e+17-1.28025900e+18j,\n",
       "               0.00000000e+00+0.00000000e+00j,\n",
       "               1.00043627e+18-2.99699891e+18j,\n",
       "              -4.35238662e+17+1.53015265e+17j,\n",
       "              -1.29315683e+18+3.23226547e+17j,\n",
       "               5.91217616e+17+1.64604729e+18j,\n",
       "               0.00000000e+00+0.00000000e+00j,\n",
       "               0.00000000e+00+0.00000000e+00j,\n",
       "               0.00000000e+00+0.00000000e+00j,\n",
       "              -5.15687178e+18+2.16919139e+18j,\n",
       "              -1.12546802e+18-1.24310043e+18j,\n",
       "               2.21999887e+17-1.43263709e+18j,\n",
       "              -1.54163180e+18+1.52473597e+18j,\n",
       "               0.00000000e+00+0.00000000e+00j,\n",
       "               2.16919139e+18+5.15687178e+18j,\n",
       "              -1.24310043e+18+1.12546802e+18j,\n",
       "              -1.43263709e+18-2.21999887e+17j,\n",
       "               1.52473597e+18+1.54163180e+18j,\n",
       "               0.00000000e+00+0.00000000e+00j], dtype=complex128))"
      ]
     },
     "execution_count": 13,
     "metadata": {},
     "output_type": "execute_result"
    }
   ],
   "source": [
    "stochastic_reconfiguration.covariance_matrix, stochastic_reconfiguration.forces"
   ]
  },
  {
   "cell_type": "code",
   "execution_count": 14,
   "metadata": {},
   "outputs": [
    {
     "data": {
      "text/plain": [
       "(122,)"
      ]
     },
     "execution_count": 14,
     "metadata": {},
     "output_type": "execute_result"
    }
   ],
   "source": [
    "solution = stochastic_reconfiguration.solve(use_s = True, use_minsr = False)\n",
    "solution.shape\n",
    "solution.shape"
   ]
  },
  {
   "cell_type": "markdown",
   "metadata": {},
   "source": [
    "###### b) With MINSR - solver = direct - no covariance S"
   ]
  },
  {
   "cell_type": "code",
   "execution_count": 15,
   "metadata": {},
   "outputs": [
    {
     "data": {
      "text/plain": [
       "<general_python.algebra.solvers.stochastic_rcnfg.StochasticReconfiguration at 0x756b393a3a50>"
      ]
     },
     "execution_count": 15,
     "metadata": {},
     "output_type": "execute_result"
    }
   ],
   "source": [
    "from general_python.algebra.solvers import stochastic_rcnfg as sr\n",
    "\n",
    "# get the samples - apply through the solver with the states\n",
    "(configs, ansatze), probabilities, (v, means, stds) = nqs.evaluate_fun(batch_size = 10)\n",
    "means, stds, configs.shape, ansatze.shape, probabilities.shape\n",
    "\n",
    "# get the derivatives - through the solver\n",
    "g = nqs.gradient(configs, batch_size=3)\n",
    "g.shape\n",
    "\n",
    "# create the sr\n",
    "stochastic_reconfiguration = sr.StochasticReconfiguration(None, backend='jax')\n",
    "stochastic_reconfiguration"
   ]
  },
  {
   "cell_type": "code",
   "execution_count": 16,
   "metadata": {},
   "outputs": [
    {
     "data": {
      "text/plain": [
       "((122,), (200, 200))"
      ]
     },
     "execution_count": 16,
     "metadata": {},
     "output_type": "execute_result"
    }
   ],
   "source": [
    "stochastic_reconfiguration.set_values(loss  =   v, \n",
    "                                derivatives =   g,\n",
    "                                mean_loss   =   means,\n",
    "                                mean_deriv  =   None,\n",
    "                                calculate_s =   False, \n",
    "                                use_minsr   =   True)\n",
    "\n",
    "f = stochastic_reconfiguration.forces\n",
    "s = stochastic_reconfiguration.covariance_matrix\n",
    "\n",
    "f.shape, s.shape"
   ]
  },
  {
   "cell_type": "markdown",
   "metadata": {},
   "source": [
    "### Train it!"
   ]
  },
  {
   "cell_type": "code",
   "execution_count": 29,
   "metadata": {},
   "outputs": [],
   "source": [
    "nqs.reset()"
   ]
  },
  {
   "cell_type": "code",
   "execution_count": 33,
   "metadata": {},
   "outputs": [],
   "source": [
    "energies = nqs.train(10)"
   ]
  },
  {
   "cell_type": "code",
   "execution_count": 34,
   "metadata": {},
   "outputs": [
    {
     "data": {
      "text/plain": [
       "[DeviceArray(38.1857513-16.84196292j, dtype=complex128),\n",
       " DeviceArray(35.67420013-9.09484688j, dtype=complex128),\n",
       " DeviceArray(7.01671317+6.80436354j, dtype=complex128),\n",
       " DeviceArray(12.10060309-1.30004229j, dtype=complex128),\n",
       " DeviceArray(41.56942016+18.19404729j, dtype=complex128),\n",
       " DeviceArray(7.50651683-0.00095753j, dtype=complex128),\n",
       " DeviceArray(7.57187319-0.0018718j, dtype=complex128),\n",
       " DeviceArray(7.58687055-0.00189599j, dtype=complex128),\n",
       " DeviceArray(7.58524812-2.5173871e-05j, dtype=complex128),\n",
       " DeviceArray(7.64093191-0.00096358j, dtype=complex128)]"
      ]
     },
     "execution_count": 34,
     "metadata": {},
     "output_type": "execute_result"
    }
   ],
   "source": [
    "energies"
   ]
  },
  {
   "cell_type": "code",
   "execution_count": 36,
   "metadata": {},
   "outputs": [
    {
     "data": {
      "text/plain": [
       "[<matplotlib.lines.Line2D at 0x756b28677010>]"
      ]
     },
     "execution_count": 36,
     "metadata": {},
     "output_type": "execute_result"
    },
    {
     "data": {
      "image/png": "[encoded data removed]",
      "text/plain": [
       "<Figure size 350x262.5 with 1 Axes>"
      ]
     },
     "metadata": {},
     "output_type": "display_data"
    }
   ],
   "source": [
    "import matplotlib.pyplot as plt\n",
    "plt.plot(energies)"
   ]
  },
  {
   "cell_type": "code",
   "execution_count": 38,
   "metadata": {},
   "outputs": [
    {
     "data": {
      "text/plain": [
       "array([-11.92531811, -11.92531811, -11.38886164, ...,  11.38886164,\n",
       "        11.92531811,  11.92531811])"
      ]
     },
     "execution_count": 38,
     "metadata": {},
     "output_type": "execute_result"
    }
   ],
   "source": [
    "ham.build(use_numpy=True)\n",
    "ham.diagonalize()\n",
    "ham.eig_val"
   ]
  },
  {
   "cell_type": "code",
   "execution_count": 37,
   "metadata": {},
   "outputs": [
    {
     "data": {
      "text/plain": [
       "[<matplotlib.lines.Line2D at 0x756b2bfd3290>]"
      ]
     },
     "execution_count": 37,
     "metadata": {},
     "output_type": "execute_result"
    },
    {
     "data": {
      "image/png": "[encoded data removed]",
      "text/plain": [
       "<Figure size 350x262.5 with 1 Axes>"
      ]
     },
     "metadata": {},
     "output_type": "display_data"
    }
   ],
   "source": [
    "plt.plot(energies)\n",
    "# plt.axhline(energies[0])\n"
   ]
  },
  {
   "cell_type": "code",
   "execution_count": null,
   "metadata": {},
   "outputs": [],
   "source": []
  }
 ],
 "metadata": {
  "kernelspec": {
   "display_name": "base",
   "language": "python",
   "name": "python3"
  },
  "language_info": {
   "codemirror_mode": {
    "name": "ipython",
    "version": 3
   },
   "file_extension": ".py",
   "mimetype": "text/x-python",
   "name": "python",
   "nbconvert_exporter": "python",
   "pygments_lexer": "ipython3",
   "version": "3.11.5"
  }
 },
 "nbformat": 4,
 "nbformat_minor": 2
}
