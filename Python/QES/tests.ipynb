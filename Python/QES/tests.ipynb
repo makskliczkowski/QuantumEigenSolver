{
 "cells": [
  {
   "cell_type": "code",
   "execution_count": 1,
   "metadata": {},
   "outputs": [],
   "source": [
    "import sys\n",
    "import os\n",
    "\n",
    "# Add the parent directory (project root) to sys.path\n",
    "project_root = os.path.abspath(os.path.join(os.getcwd(), \"../..\"))\n",
    "if project_root not in sys.path:\n",
    "    sys.path.insert(0, project_root)"
   ]
  },
  {
   "cell_type": "code",
   "execution_count": 2,
   "metadata": {},
   "outputs": [
    {
     "name": "stdout",
     "output_type": "stream",
     "text": [
      "=== Backend Initialization ===\n",
      "\tNumPy Version: 1.26.4\n",
      "\tSciPy Version: 1.13.1\n",
      "\tJAX Version: 2023.12\n",
      "\tActive Backend: jax\n",
      "\tJAX Available: True\n",
      "\tDefault Random Key: [    0 12345]\n",
      "\tActive Backend Modules:\n",
      "\t\t  Main Module: <module 'jax.numpy' from '/home/klimak/libraries/anaconda3/lib/python3.11/site-packages/jax/numpy/__init__.py'>\n",
      "\t\t  Random Module: <module 'jax.random' from '/home/klimak/libraries/anaconda3/lib/python3.11/site-packages/jax/random.py'>\n",
      "\t\t  SciPy Module: <module 'jax.scipy' from '/home/klimak/libraries/anaconda3/lib/python3.11/site-packages/jax/scipy/__init__.py'>\n",
      "=== End of Backend Info ===\n"
     ]
    }
   ],
   "source": [
    "from general_python import algebra"
   ]
  },
  {
   "cell_type": "markdown",
   "metadata": {},
   "source": [
    "# Models"
   ]
  },
  {
   "cell_type": "markdown",
   "metadata": {},
   "source": [
    "## Quantum Sun Model"
   ]
  },
  {
   "cell_type": "code",
   "execution_count": 3,
   "metadata": {},
   "outputs": [
    {
     "name": "stderr",
     "output_type": "stream",
     "text": [
      "21_02_2025_12-14_12 [INFO] Log file created: ./log/global.log\n",
      "21_02_2025_12-14_12 [INFO] Log level set to: info\n",
      "21_02_2025_12-14_12 [INFO] ########### Global logger initialized. ###########\n",
      "21_02_2025_12-14_12 [INFO] \t->[HilbertSpace] No local or global symmetries provided; symmetry group is empty.\n",
      "21_02_2025_12-14_12 [INFO] \t->[HilbertSpace] No mapping generated.\n",
      "21_02_2025_12-14_12 [INFO] \t->[Quantum Sun Model] alpha = [0.800, 0.800, 0.800, 0.800, 0.800, 0.800]\n",
      "21_02_2025_12-14_12 [INFO] \t\t->[Quantum Sun Model] u = [1.000, 0.828, 2.034, 2.999, 4.182, 4.995]\n",
      "21_02_2025_12-14_12 [INFO] \t\t->[Quantum Sun Model] alpha^u = [0.800, 0.831, 0.635, 0.512, 0.393, 0.328]\n",
      "21_02_2025_12-14_12 [INFO] \t\t->[Quantum Sun Model] H_dot norm: 2.147e+00\n"
     ]
    },
    {
     "data": {
      "text/plain": [
       ",qsm,Ns=9,N=3,gamm=1.00,g0=1.00,alpha=0.800,h=1.000,xi=0.200"
      ]
     },
     "execution_count": 3,
     "metadata": {},
     "output_type": "execute_result"
    }
   ],
   "source": [
    "from Algebra.Model.Interacting.Spin.qsm import QSM\n",
    "\n",
    "qsm=QSM(ns=9, hilbert_space=None, n=3, a=0.8, h=1.0, xi=0.2, backend = 'jax', dtype='float64')\n",
    "qsm"
   ]
  },
  {
   "cell_type": "markdown",
   "metadata": {},
   "source": [
    "#### Build"
   ]
  },
  {
   "cell_type": "markdown",
   "metadata": {},
   "source": [
    "##### Sparse"
   ]
  },
  {
   "cell_type": "code",
   "execution_count": 4,
   "metadata": {},
   "outputs": [
    {
     "name": "stderr",
     "output_type": "stream",
     "text": [
      "21_02_2025_12-14_14 [INFO] \t->[Quantum Sun Model] Building the Hamiltonian matrix...\n",
      "21_02_2025_12-14_14 [INFO] \t\t->[Quantum Sun Model] Initializing the Hamiltonian matrix...\n",
      "21_02_2025_12-14_14 [INFO] \t\t\t->[Quantum Sun Model] JAX is available but NumPy is forced...\n",
      "21_02_2025_12-14_14 [INFO] \t\t\t->[Quantum Sun Model] Initializing the Hamiltonian matrix as a sparse matrix...\n",
      "21_02_2025_12-14_14 [INFO] \t\t\t->[Quantum Sun Model] Initializing the Hamiltonian matrix as a CSR sparse matrix...\n",
      "21_02_2025_12-14_14 [INFO] \t\t\t->[Quantum Sun Model] Hamiltonian matrix initialized.\n",
      "21_02_2025_12-14_14 [INFO] \t\t->[Quantum Sun Model] Initialization completed in 0.002433 seconds\n",
      "21_02_2025_12-14_14 [INFO] \t\t->[Quantum Sun Model] QSM: alpha=0.800, xi=0.200\n",
      "21_02_2025_12-14_14 [INFO] \t\t\t->[Quantum Sun Model] QSM: i=0 -> h=1.000e+00, a^u=8.000e-01\n",
      "21_02_2025_12-14_14 [INFO] \t\t\t->[Quantum Sun Model] QSM: i=1 -> h=1.000e+00, a^u=8.314e-01\n",
      "21_02_2025_12-14_14 [INFO] \t\t\t->[Quantum Sun Model] QSM: i=2 -> h=1.000e+00, a^u=6.351e-01\n",
      "21_02_2025_12-14_14 [INFO] \t\t\t->[Quantum Sun Model] QSM: i=3 -> h=1.000e+00, a^u=5.121e-01\n",
      "21_02_2025_12-14_14 [INFO] \t\t\t->[Quantum Sun Model] QSM: i=4 -> h=1.000e+00, a^u=3.933e-01\n",
      "21_02_2025_12-14_14 [INFO] \t\t\t->[Quantum Sun Model] QSM: i=5 -> h=1.000e+00, a^u=3.280e-01\n",
      "21_02_2025_12-14_14 [INFO] \t->[Quantum Sun Model] Calculating the sparse Hamiltonian matrix...\n",
      "21_02_2025_12-14_14 [INFO] \t\t->[Quantum Sun Model] Calculating the Hamiltonian matrix using NumPy...\n"
     ]
    },
    {
     "ename": "ValueError",
     "evalue": "An error occurred during Hamiltonian build. : Failed in nopython mode pipeline (step: nopython frontend)\n\u001b[1m\u001b[1mnon-precise type pyobject\u001b[0m\n\u001b[0m\u001b[1mDuring: typing of argument at /home/klimak/Codes/QuantumEigenSolver/Python/QES/Algebra/hamil.py (181)\u001b[0m\n\u001b[1m\nFile \"Algebra/hamil.py\", line 181:\u001b[0m\n\u001b[1mdef _hamiltonian_inplace_np_sparse(ham, ns: int, hilbert_space: HilbertSpace, max_local_changes: int,\n    <source elided>\n\n\u001b[1m    @njit(fastmath=True)\n\u001b[0m    \u001b[1m^\u001b[0m\u001b[0m \n\nThis error may have been caused by the following argument(s):\n- argument 0: \u001b[1mCannot determine Numba type of <class 'method'>\u001b[0m\n",
     "output_type": "error",
     "traceback": [
      "\u001b[0;31m---------------------------------------------------------------------------\u001b[0m",
      "\u001b[0;31mTypingError\u001b[0m                               Traceback (most recent call last)",
      "File \u001b[0;32m~/Codes/QuantumEigenSolver/Python/QES/Algebra/hamil.py:889\u001b[0m, in \u001b[0;36mHamiltonian.build\u001b[0;34m(self, verbose, use_numpy)\u001b[0m\n\u001b[1;32m    888\u001b[0m \u001b[38;5;28;01mtry\u001b[39;00m:\n\u001b[0;32m--> 889\u001b[0m     \u001b[38;5;28mself\u001b[39m\u001b[38;5;241m.\u001b[39m_hamiltonian(use_numpy)\n\u001b[1;32m    890\u001b[0m \u001b[38;5;28;01mexcept\u001b[39;00m \u001b[38;5;167;01mException\u001b[39;00m \u001b[38;5;28;01mas\u001b[39;00m e:\n",
      "File \u001b[0;32m~/Codes/QuantumEigenSolver/Python/QES/Algebra/Model/Interacting/Spin/qsm.py:377\u001b[0m, in \u001b[0;36mQSM._hamiltonian\u001b[0;34m(self, use_numpy)\u001b[0m\n\u001b[1;32m    375\u001b[0m     \u001b[38;5;28mself\u001b[39m\u001b[38;5;241m.\u001b[39m_log(\u001b[38;5;124mf\u001b[39m\u001b[38;5;124m\"\u001b[39m\u001b[38;5;124mQSM: i=\u001b[39m\u001b[38;5;132;01m{\u001b[39;00mi\u001b[38;5;132;01m}\u001b[39;00m\u001b[38;5;124m -> h=\u001b[39m\u001b[38;5;132;01m{\u001b[39;00m\u001b[38;5;28mself\u001b[39m\u001b[38;5;241m.\u001b[39m_h[i]\u001b[38;5;132;01m:\u001b[39;00m\u001b[38;5;124m.3e\u001b[39m\u001b[38;5;132;01m}\u001b[39;00m\u001b[38;5;124m, a^u=\u001b[39m\u001b[38;5;132;01m{\u001b[39;00m\u001b[38;5;28mself\u001b[39m\u001b[38;5;241m.\u001b[39m_au[i]\u001b[38;5;132;01m:\u001b[39;00m\u001b[38;5;124m.3e\u001b[39m\u001b[38;5;132;01m}\u001b[39;00m\u001b[38;5;124m\"\u001b[39m, lvl \u001b[38;5;241m=\u001b[39m \u001b[38;5;241m3\u001b[39m)\n\u001b[0;32m--> 377\u001b[0m \u001b[38;5;28msuper\u001b[39m()\u001b[38;5;241m.\u001b[39m_hamiltonian(use_numpy)\n\u001b[1;32m    379\u001b[0m \u001b[38;5;66;03m# add the Hamiltonian of the dot particles\u001b[39;00m\n",
      "File \u001b[0;32m~/Codes/QuantumEigenSolver/Python/QES/Algebra/hamil.py:1038\u001b[0m, in \u001b[0;36mHamiltonian._hamiltonian\u001b[0;34m(self, use_numpy)\u001b[0m\n\u001b[1;32m   1037\u001b[0m     \u001b[38;5;66;03m# Calculate the Hamiltonian matrix using the NumPy implementation.\u001b[39;00m\n\u001b[0;32m-> 1038\u001b[0m     \u001b[38;5;28mself\u001b[39m\u001b[38;5;241m.\u001b[39m_hamil \u001b[38;5;241m=\u001b[39m hamiltonian_inplace_np(\n\u001b[1;32m   1039\u001b[0m         \u001b[38;5;28mself\u001b[39m\u001b[38;5;241m.\u001b[39m_ns,\n\u001b[1;32m   1040\u001b[0m         hilbert_space       \u001b[38;5;241m=\u001b[39m   \u001b[38;5;28mself\u001b[39m\u001b[38;5;241m.\u001b[39m_hilbert_space,\n\u001b[1;32m   1041\u001b[0m         hamiltonian         \u001b[38;5;241m=\u001b[39m   \u001b[38;5;28mself\u001b[39m,\n\u001b[1;32m   1042\u001b[0m         max_local_changes   \u001b[38;5;241m=\u001b[39m   \u001b[38;5;28mself\u001b[39m\u001b[38;5;241m.\u001b[39m_max_local_ch,\n\u001b[1;32m   1043\u001b[0m         is_sparse           \u001b[38;5;241m=\u001b[39m   \u001b[38;5;28mself\u001b[39m\u001b[38;5;241m.\u001b[39m_is_sparse,\n\u001b[1;32m   1044\u001b[0m         start               \u001b[38;5;241m=\u001b[39m   \u001b[38;5;28mself\u001b[39m\u001b[38;5;241m.\u001b[39m_startns,\n\u001b[1;32m   1045\u001b[0m         dtype               \u001b[38;5;241m=\u001b[39m   \u001b[38;5;28mself\u001b[39m\u001b[38;5;241m.\u001b[39m_dtype)\n\u001b[1;32m   1046\u001b[0m \u001b[38;5;28;01melse\u001b[39;00m:\n",
      "File \u001b[0;32m~/Codes/QuantumEigenSolver/Python/QES/Algebra/hamil.py:240\u001b[0m, in \u001b[0;36mhamiltonian_inplace_np\u001b[0;34m(ns, hilbert_space, hamiltonian, max_local_changes, is_sparse, start, dtype)\u001b[0m\n\u001b[1;32m    239\u001b[0m \u001b[38;5;28;01mif\u001b[39;00m is_sparse:\n\u001b[0;32m--> 240\u001b[0m     ham \u001b[38;5;241m=\u001b[39m _hamiltonian_inplace_np_sparse(ham\u001b[38;5;241m=\u001b[39mhamiltonian, ns\u001b[38;5;241m=\u001b[39mns, hilbert_space\u001b[38;5;241m=\u001b[39mhilbert_space,\n\u001b[1;32m    241\u001b[0m                                 max_local_changes\u001b[38;5;241m=\u001b[39mmax_local_changes,\n\u001b[1;32m    242\u001b[0m                                 start\u001b[38;5;241m=\u001b[39mstart, dtype\u001b[38;5;241m=\u001b[39mdtype)\n\u001b[1;32m    243\u001b[0m     \u001b[38;5;28;01mreturn\u001b[39;00m ham\n",
      "File \u001b[0;32m~/Codes/QuantumEigenSolver/Python/QES/Algebra/hamil.py:198\u001b[0m, in \u001b[0;36m_hamiltonian_inplace_np_sparse\u001b[0;34m(ham, ns, hilbert_space, max_local_changes, start, dtype)\u001b[0m\n\u001b[1;32m    196\u001b[0m     \u001b[38;5;28;01mreturn\u001b[39;00m data_idx\n\u001b[0;32m--> 198\u001b[0m data_idx \u001b[38;5;241m=\u001b[39m _inner_loop(hilbert_space\u001b[38;5;241m.\u001b[39m\u001b[38;5;21m__getitem__\u001b[39m, ham\u001b[38;5;241m.\u001b[39mloc_energy_int, start, ns, nh)\n\u001b[1;32m    200\u001b[0m \u001b[38;5;66;03m# --- Create the sparse matrix ---\u001b[39;00m\n",
      "File \u001b[0;32m~/libraries/anaconda3/lib/python3.11/site-packages/numba/core/dispatcher.py:423\u001b[0m, in \u001b[0;36m_DispatcherBase._compile_for_args\u001b[0;34m(self, *args, **kws)\u001b[0m\n\u001b[1;32m    421\u001b[0m         e\u001b[38;5;241m.\u001b[39mpatch_message(msg)\n\u001b[0;32m--> 423\u001b[0m     error_rewrite(e, \u001b[38;5;124m'\u001b[39m\u001b[38;5;124mtyping\u001b[39m\u001b[38;5;124m'\u001b[39m)\n\u001b[1;32m    424\u001b[0m \u001b[38;5;28;01mexcept\u001b[39;00m errors\u001b[38;5;241m.\u001b[39mUnsupportedError \u001b[38;5;28;01mas\u001b[39;00m e:\n\u001b[1;32m    425\u001b[0m     \u001b[38;5;66;03m# Something unsupported is present in the user code, add help info\u001b[39;00m\n",
      "File \u001b[0;32m~/libraries/anaconda3/lib/python3.11/site-packages/numba/core/dispatcher.py:364\u001b[0m, in \u001b[0;36m_DispatcherBase._compile_for_args.<locals>.error_rewrite\u001b[0;34m(e, issue_type)\u001b[0m\n\u001b[1;32m    363\u001b[0m \u001b[38;5;28;01melse\u001b[39;00m:\n\u001b[0;32m--> 364\u001b[0m     \u001b[38;5;28;01mraise\u001b[39;00m e\u001b[38;5;241m.\u001b[39mwith_traceback(\u001b[38;5;28;01mNone\u001b[39;00m)\n",
      "\u001b[0;31mTypingError\u001b[0m: Failed in nopython mode pipeline (step: nopython frontend)\n\u001b[1m\u001b[1mnon-precise type pyobject\u001b[0m\n\u001b[0m\u001b[1mDuring: typing of argument at /home/klimak/Codes/QuantumEigenSolver/Python/QES/Algebra/hamil.py (181)\u001b[0m\n\u001b[1m\nFile \"Algebra/hamil.py\", line 181:\u001b[0m\n\u001b[1mdef _hamiltonian_inplace_np_sparse(ham, ns: int, hilbert_space: HilbertSpace, max_local_changes: int,\n    <source elided>\n\n\u001b[1m    @njit(fastmath=True)\n\u001b[0m    \u001b[1m^\u001b[0m\u001b[0m \n\nThis error may have been caused by the following argument(s):\n- argument 0: \u001b[1mCannot determine Numba type of <class 'method'>\u001b[0m\n",
      "\nThe above exception was the direct cause of the following exception:\n",
      "\u001b[0;31mValueError\u001b[0m                                Traceback (most recent call last)",
      "Cell \u001b[0;32mIn[4], line 1\u001b[0m\n\u001b[0;32m----> 1\u001b[0m qsm\u001b[38;5;241m.\u001b[39mbuild(verbose\u001b[38;5;241m=\u001b[39m\u001b[38;5;28;01mTrue\u001b[39;00m, use_numpy\u001b[38;5;241m=\u001b[39m\u001b[38;5;28;01mTrue\u001b[39;00m)\n",
      "File \u001b[0;32m~/Codes/QuantumEigenSolver/Python/QES/Algebra/hamil.py:891\u001b[0m, in \u001b[0;36mHamiltonian.build\u001b[0;34m(self, verbose, use_numpy)\u001b[0m\n\u001b[1;32m    889\u001b[0m     \u001b[38;5;28mself\u001b[39m\u001b[38;5;241m.\u001b[39m_hamiltonian(use_numpy)\n\u001b[1;32m    890\u001b[0m \u001b[38;5;28;01mexcept\u001b[39;00m \u001b[38;5;167;01mException\u001b[39;00m \u001b[38;5;28;01mas\u001b[39;00m e:\n\u001b[0;32m--> 891\u001b[0m     \u001b[38;5;28;01mraise\u001b[39;00m \u001b[38;5;167;01mValueError\u001b[39;00m(\u001b[38;5;124mf\u001b[39m\u001b[38;5;124m\"\u001b[39m\u001b[38;5;132;01m{\u001b[39;00mHamiltonian\u001b[38;5;241m.\u001b[39m_ERR_HAMILTONIAN_BUILD\u001b[38;5;132;01m}\u001b[39;00m\u001b[38;5;124m : \u001b[39m\u001b[38;5;132;01m{\u001b[39;00m\u001b[38;5;28mstr\u001b[39m(e)\u001b[38;5;132;01m}\u001b[39;00m\u001b[38;5;124m\"\u001b[39m) \u001b[38;5;28;01mfrom\u001b[39;00m \u001b[38;5;21;01me\u001b[39;00m\n\u001b[1;32m    893\u001b[0m ham_duration \u001b[38;5;241m=\u001b[39m time\u001b[38;5;241m.\u001b[39mperf_counter() \u001b[38;5;241m-\u001b[39m ham_start\n\u001b[1;32m    894\u001b[0m \u001b[38;5;28;01mif\u001b[39;00m \u001b[38;5;28mself\u001b[39m\u001b[38;5;241m.\u001b[39m_hamil \u001b[38;5;129;01mis\u001b[39;00m \u001b[38;5;129;01mnot\u001b[39;00m \u001b[38;5;28;01mNone\u001b[39;00m \u001b[38;5;129;01mand\u001b[39;00m \u001b[38;5;28mself\u001b[39m\u001b[38;5;241m.\u001b[39m_hamil\u001b[38;5;241m.\u001b[39msize \u001b[38;5;241m>\u001b[39m \u001b[38;5;241m0\u001b[39m:\n",
      "\u001b[0;31mValueError\u001b[0m: An error occurred during Hamiltonian build. : Failed in nopython mode pipeline (step: nopython frontend)\n\u001b[1m\u001b[1mnon-precise type pyobject\u001b[0m\n\u001b[0m\u001b[1mDuring: typing of argument at /home/klimak/Codes/QuantumEigenSolver/Python/QES/Algebra/hamil.py (181)\u001b[0m\n\u001b[1m\nFile \"Algebra/hamil.py\", line 181:\u001b[0m\n\u001b[1mdef _hamiltonian_inplace_np_sparse(ham, ns: int, hilbert_space: HilbertSpace, max_local_changes: int,\n    <source elided>\n\n\u001b[1m    @njit(fastmath=True)\n\u001b[0m    \u001b[1m^\u001b[0m\u001b[0m \n\nThis error may have been caused by the following argument(s):\n- argument 0: \u001b[1mCannot determine Numba type of <class 'method'>\u001b[0m\n"
     ]
    }
   ],
   "source": [
    "qsm.build(verbose=True, use_numpy=True)"
   ]
  },
  {
   "cell_type": "code",
   "execution_count": 3,
   "metadata": {},
   "outputs": [
    {
     "name": "stderr",
     "output_type": "stream",
     "text": [
      "21_02_2025_10-32_30 [INFO] \t->[Quantum Sun Model] Checking the memory used by the Hamiltonian matrix of type <class 'scipy.sparse._csr.csr_matrix'>\n",
      "21_02_2025_10-32_30 [INFO] \t\t->[Quantum Sun Model] It is not a dense matrix...\n"
     ]
    },
    {
     "data": {
      "text/plain": [
       "8.0108642578125e-05"
      ]
     },
     "execution_count": 3,
     "metadata": {},
     "output_type": "execute_result"
    }
   ],
   "source": [
    "qsm.memory_gb"
   ]
  },
  {
   "cell_type": "code",
   "execution_count": 4,
   "metadata": {},
   "outputs": [
    {
     "name": "stderr",
     "output_type": "stream",
     "text": [
      "21_02_2025_10-32_30 [INFO] [Quantum Sun Model] Diagonalization (standard) completed in 0.068244 seconds.\n"
     ]
    }
   ],
   "source": [
    "qsm.diagonalize(verbose=True)"
   ]
  },
  {
   "cell_type": "markdown",
   "metadata": {},
   "source": [
    "##### Dense"
   ]
  },
  {
   "cell_type": "code",
   "execution_count": 5,
   "metadata": {},
   "outputs": [
    {
     "name": "stderr",
     "output_type": "stream",
     "text": [
      "20_02_2025_17-19_29 [INFO] \t->[Quantum Sun Model] Converting the Hamiltonian matrix to a dense matrix... Run build...\n",
      "20_02_2025_17-19_29 [INFO] \t\t->[Quantum Sun Model] Hamiltonian cleared...\n"
     ]
    }
   ],
   "source": [
    "qsm.to_dense()"
   ]
  },
  {
   "cell_type": "code",
   "execution_count": 6,
   "metadata": {},
   "outputs": [
    {
     "name": "stderr",
     "output_type": "stream",
     "text": [
      "20_02_2025_17-19_30 [INFO] \t->[Quantum Sun Model] Building the Hamiltonian matrix...\n",
      "20_02_2025_17-19_30 [INFO] \t\t->[Quantum Sun Model] Initializing the Hamiltonian matrix...\n",
      "20_02_2025_17-19_30 [INFO] \t\t\t->[Quantum Sun Model] Initializing the Hamiltonian matrix as a dense matrix...\n",
      "20_02_2025_17-19_30 [INFO] \t\t\t->[Quantum Sun Model] Hamiltonian matrix initialized.\n",
      "20_02_2025_17-19_30 [INFO] \t\t->[Quantum Sun Model] Initialization completed in 0.001665 seconds\n",
      "20_02_2025_17-19_30 [INFO] \t\t->[Quantum Sun Model] QSM: alpha=0.800, xi=0.200\n",
      "20_02_2025_17-19_30 [INFO] \t\t\t->[Quantum Sun Model] QSM: i=0 -> h=1.000e+00, a^u=8.000e-01\n",
      "20_02_2025_17-19_30 [INFO] \t\t\t->[Quantum Sun Model] QSM: i=1 -> h=1.000e+00, a^u=7.994e-01\n",
      "20_02_2025_17-19_30 [INFO] \t\t\t->[Quantum Sun Model] QSM: i=2 -> h=1.000e+00, a^u=6.607e-01\n",
      "20_02_2025_17-19_30 [INFO] \t->[Quantum Sun Model] Calculating the dense Hamiltonian matrix...\n",
      "20_02_2025_17-19_30 [INFO] \t\t->[Quantum Sun Model] Calculating the Hamiltonian matrix using JAX...\n",
      "20_02_2025_17-19_30 [INFO] \t\t->[Quantum Sun Model] An error occurred during Hamiltonian build. : 'list' object has no attribute 'at'\n"
     ]
    },
    {
     "ename": "ValueError",
     "evalue": "An error occurred during Hamiltonian build.",
     "output_type": "error",
     "traceback": [
      "\u001b[0;31m---------------------------------------------------------------------------\u001b[0m",
      "\u001b[0;31mValueError\u001b[0m                                Traceback (most recent call last)",
      "Cell \u001b[0;32mIn[6], line 1\u001b[0m\n\u001b[0;32m----> 1\u001b[0m qsm\u001b[38;5;241m.\u001b[39mbuild(verbose\u001b[38;5;241m=\u001b[39m\u001b[38;5;28;01mTrue\u001b[39;00m)\n",
      "File \u001b[0;32m~/Codes/QuantumEigenSolver/Python/QES/Algebra/hamil.py:784\u001b[0m, in \u001b[0;36mHamiltonian.build\u001b[0;34m(self, verbose)\u001b[0m\n\u001b[1;32m    782\u001b[0m         \u001b[38;5;28mself\u001b[39m\u001b[38;5;241m.\u001b[39m_log(\u001b[38;5;124mf\u001b[39m\u001b[38;5;124m\"\u001b[39m\u001b[38;5;124mHamiltonian matrix built in \u001b[39m\u001b[38;5;132;01m{\u001b[39;00mham_duration\u001b[38;5;132;01m:\u001b[39;00m\u001b[38;5;124m.6f\u001b[39m\u001b[38;5;132;01m}\u001b[39;00m\u001b[38;5;124m seconds.\u001b[39m\u001b[38;5;124m\"\u001b[39m, lvl \u001b[38;5;241m=\u001b[39m \u001b[38;5;241m1\u001b[39m)\n\u001b[1;32m    783\u001b[0m \u001b[38;5;28;01melse\u001b[39;00m:\n\u001b[0;32m--> 784\u001b[0m     \u001b[38;5;28;01mraise\u001b[39;00m \u001b[38;5;167;01mValueError\u001b[39;00m(Hamiltonian\u001b[38;5;241m.\u001b[39m_ERR_HAMILTONIAN_BUILD)\n",
      "\u001b[0;31mValueError\u001b[0m: An error occurred during Hamiltonian build."
     ]
    }
   ],
   "source": [
    "qsm.build(verbose=True)"
   ]
  },
  {
   "cell_type": "code",
   "execution_count": 36,
   "metadata": {},
   "outputs": [
    {
     "name": "stderr",
     "output_type": "stream",
     "text": [
      "20_02_2025_16-20_22 [INFO] [Quantum Sun Model] Diagonalization (eigh) completed in 0.004620 seconds.\n"
     ]
    }
   ],
   "source": [
    "qsm.diagonalize(verbose=True)"
   ]
  },
  {
   "cell_type": "code",
   "execution_count": 37,
   "metadata": {},
   "outputs": [
    {
     "data": {
      "text/plain": [
       "0.000244140625"
      ]
     },
     "execution_count": 37,
     "metadata": {},
     "output_type": "execute_result"
    }
   ],
   "source": [
    "qsm.h_memory_gb"
   ]
  },
  {
   "cell_type": "markdown",
   "metadata": {},
   "source": [
    "##### Plot tests"
   ]
  },
  {
   "cell_type": "code",
   "execution_count": 5,
   "metadata": {},
   "outputs": [
    {
     "data": {
      "text/plain": [
       "(array([-3.85963286e+00, -3.77080231e+00, -3.37176283e+00, -3.30198060e+00,\n",
       "        -3.07116475e+00, -2.98883661e+00, -2.88835857e+00, -2.84517679e+00,\n",
       "        -2.84202471e+00, -2.82560166e+00, -2.78835078e+00, -2.75867936e+00,\n",
       "        -2.75596155e+00, -2.74963207e+00, -2.74364445e+00, -2.72969820e+00,\n",
       "        -2.71283443e+00, -2.66251195e+00, -2.52823894e+00, -2.44778659e+00,\n",
       "        -2.35993962e+00, -2.34609168e+00, -2.33304538e+00, -2.31920301e+00,\n",
       "        -2.29576136e+00, -2.28544904e+00, -2.28199315e+00, -2.26239140e+00,\n",
       "        -2.24343351e+00, -2.23897638e+00, -2.19647972e+00, -2.10604964e+00,\n",
       "        -2.05514757e+00, -2.05070060e+00, -2.03461613e+00, -2.01640712e+00,\n",
       "        -1.99603374e+00, -1.97847866e+00, -1.97106054e+00, -1.95141547e+00,\n",
       "        -1.94341859e+00, -1.91620323e+00, -1.90702495e+00, -1.87976741e+00,\n",
       "        -1.86467289e+00, -1.85239427e+00, -1.83783647e+00, -1.82659257e+00,\n",
       "        -1.81304635e+00, -1.80657295e+00, -1.80043733e+00, -1.78559148e+00,\n",
       "        -1.77174858e+00, -1.76569490e+00, -1.74538489e+00, -1.74127449e+00,\n",
       "        -1.74058701e+00, -1.73575024e+00, -1.73099485e+00, -1.72716209e+00,\n",
       "        -1.72604395e+00, -1.72212263e+00, -1.71834215e+00, -1.71208801e+00,\n",
       "        -1.70145108e+00, -1.69492169e+00, -1.68655173e+00, -1.67886232e+00,\n",
       "        -1.66622092e+00, -1.64914818e+00, -1.64387419e+00, -1.63986617e+00,\n",
       "        -1.62411583e+00, -1.60808389e+00, -1.51522117e+00, -1.50896578e+00,\n",
       "        -1.49450355e+00, -1.47985216e+00, -1.46914630e+00, -1.43716076e+00,\n",
       "        -1.43195630e+00, -1.41801355e+00, -1.40027829e+00, -1.38904004e+00,\n",
       "        -1.36026505e+00, -1.34603899e+00, -1.33376627e+00, -1.32064027e+00,\n",
       "        -1.30805038e+00, -1.30646195e+00, -1.29413766e+00, -1.28186121e+00,\n",
       "        -1.27548055e+00, -1.27331304e+00, -1.26334521e+00, -1.25703512e+00,\n",
       "        -1.24699408e+00, -1.23597837e+00, -1.22949396e+00, -1.22499682e+00,\n",
       "        -1.22247176e+00, -1.21446656e+00, -1.21191471e+00, -1.20228351e+00,\n",
       "        -1.18830872e+00, -1.18556285e+00, -1.18308721e+00, -1.18027824e+00,\n",
       "        -1.15643211e+00, -1.15046772e+00, -1.09896933e+00, -1.09446239e+00,\n",
       "        -1.09321912e+00, -1.07718117e+00, -1.05441028e+00, -1.03559757e+00,\n",
       "        -1.03270215e+00, -1.01844564e+00, -1.01383218e+00, -9.99948083e-01,\n",
       "        -9.95751268e-01, -9.79579987e-01, -9.78457455e-01, -9.72491579e-01,\n",
       "        -9.63088405e-01, -9.54431223e-01, -9.42477452e-01, -9.38998670e-01,\n",
       "        -9.35380110e-01, -9.31164965e-01, -9.23659914e-01, -9.12694639e-01,\n",
       "        -9.04701118e-01, -8.99709776e-01, -8.96542273e-01, -8.88723423e-01,\n",
       "        -8.84727185e-01, -8.82416536e-01, -8.75670406e-01, -8.65185898e-01,\n",
       "        -8.63021696e-01, -8.44861996e-01, -8.35113076e-01, -8.32184952e-01,\n",
       "        -8.21646603e-01, -8.16036143e-01, -8.05201576e-01, -7.97553115e-01,\n",
       "        -7.88492064e-01, -7.85236805e-01, -7.77602843e-01, -7.72347954e-01,\n",
       "        -7.63783627e-01, -7.57364741e-01, -7.54217733e-01, -7.40819148e-01,\n",
       "        -7.33303364e-01, -7.30374019e-01, -7.23539083e-01, -7.16634870e-01,\n",
       "        -7.14871058e-01, -7.13057074e-01, -7.10586809e-01, -7.06818809e-01,\n",
       "        -7.04155400e-01, -6.99316318e-01, -6.87616043e-01, -6.83746565e-01,\n",
       "        -6.82001701e-01, -6.75689944e-01, -6.70701883e-01, -6.60800554e-01,\n",
       "        -6.56145724e-01, -6.49831898e-01, -6.42255499e-01, -6.36330520e-01,\n",
       "        -6.32152599e-01, -6.29657726e-01, -6.26089181e-01, -6.15104069e-01,\n",
       "        -6.12031619e-01, -6.10333513e-01, -5.95702391e-01, -5.89957179e-01,\n",
       "        -5.85286861e-01, -5.80800020e-01, -4.96100922e-01, -4.81566287e-01,\n",
       "        -4.76976870e-01, -4.66804670e-01, -4.60824065e-01, -4.57670040e-01,\n",
       "        -4.51598163e-01, -4.46351859e-01, -4.39894984e-01, -4.24861349e-01,\n",
       "        -4.19836624e-01, -4.06436811e-01, -4.04971811e-01, -3.93688722e-01,\n",
       "        -3.88396694e-01, -3.86003525e-01, -3.76078769e-01, -3.64819992e-01,\n",
       "        -3.60679258e-01, -3.56196001e-01, -3.48509146e-01, -3.47486945e-01,\n",
       "        -3.38716857e-01, -3.32684622e-01, -3.20458908e-01, -3.15478273e-01,\n",
       "        -3.10794505e-01, -2.99904413e-01, -2.92614757e-01, -2.88701377e-01,\n",
       "        -2.80273838e-01, -2.66342348e-01, -2.62941386e-01, -2.55397225e-01,\n",
       "        -2.43317329e-01, -2.42152378e-01, -2.25525369e-01, -2.18518850e-01,\n",
       "        -2.09431449e-01, -2.04227446e-01, -1.99724140e-01, -1.95483817e-01,\n",
       "        -1.88693357e-01, -1.76216812e-01, -1.75374368e-01, -1.71142237e-01,\n",
       "        -1.69557506e-01, -1.67699311e-01, -1.64141224e-01, -1.55869678e-01,\n",
       "        -1.45339378e-01, -1.38879456e-01, -1.36703011e-01, -1.32757788e-01,\n",
       "        -1.18180200e-01, -1.06079187e-01, -8.70426819e-02, -8.38193377e-02,\n",
       "        -8.04179943e-02, -7.13249477e-02, -6.62116218e-02, -6.24281317e-02,\n",
       "        -4.71105697e-02, -4.53801405e-02, -4.13986881e-02, -3.47859491e-02,\n",
       "        -2.46195857e-02, -1.87714704e-02,  1.85214192e-03,  8.87347181e-03,\n",
       "         2.04543665e-02,  2.31035385e-02,  3.69938412e-02,  4.15182456e-02,\n",
       "         4.47597012e-02,  5.85385451e-02,  6.40066792e-02,  7.31645557e-02,\n",
       "         8.04486961e-02,  8.48548436e-02,  8.85527067e-02,  9.60105232e-02,\n",
       "         1.02917044e-01,  1.04738312e-01,  1.12428212e-01,  1.21539332e-01,\n",
       "         1.25190843e-01,  1.27791454e-01,  1.30946693e-01,  1.32858646e-01,\n",
       "         1.36882163e-01,  1.39763774e-01,  1.44349424e-01,  1.50522684e-01,\n",
       "         1.54759037e-01,  1.65122274e-01,  1.67379336e-01,  1.77840365e-01,\n",
       "         1.83341907e-01,  1.93120362e-01,  1.94002072e-01,  1.97828597e-01,\n",
       "         2.10376674e-01,  2.14225690e-01,  2.24174103e-01,  2.31606759e-01,\n",
       "         2.36533019e-01,  2.45095442e-01,  2.51275867e-01,  2.55020345e-01,\n",
       "         2.56408882e-01,  2.62016253e-01,  2.67625283e-01,  2.70883914e-01,\n",
       "         2.88401152e-01,  2.91515373e-01,  2.98197761e-01,  3.06659631e-01,\n",
       "         3.10073197e-01,  3.14956084e-01,  3.25779613e-01,  3.32946126e-01,\n",
       "         3.42205595e-01,  3.48159578e-01,  3.57124092e-01,  3.67444903e-01,\n",
       "         3.68672313e-01,  3.74795010e-01,  3.79842301e-01,  3.85877513e-01,\n",
       "         3.87421902e-01,  3.93408350e-01,  4.00624330e-01,  4.03127412e-01,\n",
       "         4.08255826e-01,  4.14067964e-01,  4.22169334e-01,  4.27521605e-01,\n",
       "         4.29320873e-01,  4.44555424e-01,  5.35511098e-01,  5.52524139e-01,\n",
       "         5.58245762e-01,  5.66419085e-01,  5.69162370e-01,  5.69419467e-01,\n",
       "         5.76660161e-01,  5.85928445e-01,  5.91181539e-01,  6.03073817e-01,\n",
       "         6.08091780e-01,  6.22204746e-01,  6.24740249e-01,  6.30596652e-01,\n",
       "         6.48889793e-01,  6.49485064e-01,  6.51731063e-01,  6.57959149e-01,\n",
       "         6.60700888e-01,  6.64220457e-01,  6.70319605e-01,  6.73319532e-01,\n",
       "         6.76751898e-01,  6.79376394e-01,  6.92510322e-01,  6.93656311e-01,\n",
       "         6.96587440e-01,  7.00035831e-01,  7.02280999e-01,  7.11909667e-01,\n",
       "         7.13376414e-01,  7.24841067e-01,  7.26044692e-01,  7.31765489e-01,\n",
       "         7.33733263e-01,  7.47360283e-01,  7.49082062e-01,  7.57429455e-01,\n",
       "         7.69842404e-01,  7.72327274e-01,  7.77119308e-01,  7.93041583e-01,\n",
       "         8.16623666e-01,  8.33536285e-01,  8.41281599e-01,  8.50239977e-01,\n",
       "         8.52501178e-01,  8.57876813e-01,  8.76030667e-01,  8.81160421e-01,\n",
       "         8.88949001e-01,  9.03253632e-01,  9.11708464e-01,  9.15673256e-01,\n",
       "         9.31278269e-01,  9.38404991e-01,  9.42670283e-01,  9.59589408e-01,\n",
       "         9.62742707e-01,  9.66348004e-01,  9.69547583e-01,  9.77775570e-01,\n",
       "         9.80354602e-01,  9.85748784e-01,  9.96150975e-01,  1.01451350e+00,\n",
       "         1.01718066e+00,  1.02895733e+00,  1.03807495e+00,  1.05777318e+00,\n",
       "         1.06116254e+00,  1.08124987e+00,  1.10152769e+00,  1.11341124e+00,\n",
       "         1.11773291e+00,  1.12324625e+00,  1.14158998e+00,  1.14612782e+00,\n",
       "         1.15055588e+00,  1.15902328e+00,  1.16189829e+00,  1.16793389e+00,\n",
       "         1.17602910e+00,  1.18250634e+00,  1.19606582e+00,  1.20314882e+00,\n",
       "         1.20612498e+00,  1.20897042e+00,  1.21436676e+00,  1.22759971e+00,\n",
       "         1.23025543e+00,  1.24553147e+00,  1.25921541e+00,  1.27389761e+00,\n",
       "         1.27629041e+00,  1.28119970e+00,  1.29015176e+00,  1.29284924e+00,\n",
       "         1.31034577e+00,  1.32521016e+00,  1.32776850e+00,  1.34365122e+00,\n",
       "         1.36002966e+00,  1.38129134e+00,  1.38681334e+00,  1.39584854e+00,\n",
       "         1.40287904e+00,  1.41389527e+00,  1.42173549e+00,  1.42420663e+00,\n",
       "         1.43690975e+00,  1.45505369e+00,  1.58182638e+00,  1.58425838e+00,\n",
       "         1.60095426e+00,  1.61100051e+00,  1.61855482e+00,  1.64404146e+00,\n",
       "         1.66345466e+00,  1.67732743e+00,  1.67914071e+00,  1.68428501e+00,\n",
       "         1.68887217e+00,  1.69255026e+00,  1.69890383e+00,  1.70689286e+00,\n",
       "         1.71055925e+00,  1.71332121e+00,  1.72248316e+00,  1.72468852e+00,\n",
       "         1.73829542e+00,  1.74265203e+00,  1.74621123e+00,  1.74845452e+00,\n",
       "         1.76082724e+00,  1.76981403e+00,  1.77072491e+00,  1.78171894e+00,\n",
       "         1.78816785e+00,  1.79165459e+00,  1.79505767e+00,  1.80762812e+00,\n",
       "         1.86399068e+00,  1.91851299e+00,  1.93001210e+00,  1.96667806e+00,\n",
       "         1.98292495e+00,  1.98729186e+00,  1.99842597e+00,  2.01585516e+00,\n",
       "         2.02887950e+00,  2.03936000e+00,  2.06434001e+00,  2.07556647e+00,\n",
       "         2.13814102e+00,  2.17782392e+00,  2.19174941e+00,  2.22249727e+00,\n",
       "         2.22265149e+00,  2.23764175e+00,  2.24737831e+00,  2.29473384e+00,\n",
       "         2.31018238e+00,  2.34487503e+00,  2.36062996e+00,  2.36178288e+00,\n",
       "         2.40557749e+00,  2.45149612e+00,  2.62496372e+00,  2.69717065e+00,\n",
       "         2.70979619e+00,  2.72468001e+00,  2.73401031e+00,  2.74000770e+00,\n",
       "         2.75842889e+00,  2.78176467e+00,  2.80157604e+00,  2.80540381e+00,\n",
       "         2.81697419e+00,  2.82369648e+00,  3.02470341e+00,  3.07814729e+00,\n",
       "         3.25746395e+00,  3.37834807e+00,  3.74986491e+00,  3.83293825e+00]),\n",
       " array([[ 2.54742344e-01, -2.54394223e-01,  1.11991974e-01, ...,\n",
       "         -1.88175397e-06,  5.98923928e-07,  1.52569565e-06],\n",
       "        [-5.10734328e-03, -5.73621145e-03,  8.20832891e-03, ...,\n",
       "         -3.95692056e-05,  1.98939202e-05,  6.92275655e-06],\n",
       "        [-1.35342363e-02,  1.24491034e-03, -5.75291671e-02, ...,\n",
       "          1.09669009e-05, -1.60010525e-05, -8.43328450e-06],\n",
       "        ...,\n",
       "        [ 3.88214229e-06,  1.35820966e-05, -6.18626977e-06, ...,\n",
       "          2.51510705e-02,  1.63892609e-02, -3.71823192e-02],\n",
       "        [-4.47790602e-06,  1.59766233e-05, -1.75169348e-05, ...,\n",
       "         -1.06540818e-02, -5.56496475e-03,  2.54456455e-02],\n",
       "        [ 7.51824335e-07,  4.87974184e-07, -5.72021031e-07, ...,\n",
       "         -4.42527016e-01,  2.74731902e-01, -6.36810154e-02]]),\n",
       " (512, 512))"
      ]
     },
     "execution_count": 5,
     "metadata": {},
     "output_type": "execute_result"
    },
    {
     "data": {
      "image/png": "[encoded data removed]",
      "text/plain": [
       "<Figure size 350x262.5 with 1 Axes>"
      ]
     },
     "metadata": {},
     "output_type": "display_data"
    }
   ],
   "source": [
    "import matplotlib.pyplot as plt\n",
    "plt.plot(qsm.eig_val)\n",
    "qsm.eig_val, qsm.eig_vec, qsm.eig_vec.shape"
   ]
  },
  {
   "cell_type": "code",
   "execution_count": 6,
   "metadata": {},
   "outputs": [
    {
     "name": "stdout",
     "output_type": "stream",
     "text": [
      "Minimum value: -3.5422634597392073\n",
      "Maximum value: 3.3869341106567776\n"
     ]
    },
    {
     "data": {
      "image/png": "[encoded data removed]",
      "text/plain": [
       "<Figure size 1000x800 with 2 Axes>"
      ]
     },
     "metadata": {},
     "output_type": "display_data"
    }
   ],
   "source": [
    "import numpy as np\n",
    "# make dense\n",
    "qsm_dense   = qsm.hamil.todense()\n",
    "minimum     = qsm_dense.min()\n",
    "maximum     = qsm_dense.max()\n",
    "qsm_dense   = np.abs(qsm_dense)\n",
    "\n",
    "print(\"Minimum value:\", minimum)\n",
    "print(\"Maximum value:\", maximum)\n",
    "\n",
    "plt.figure(figsize=(10, 8))\n",
    "plt.imshow(qsm_dense, cmap='viridis')\n",
    "plt.colorbar()\n",
    "plt.title(\"Density Representation\")\n",
    "plt.show()"
   ]
  },
  {
   "cell_type": "code",
   "execution_count": null,
   "metadata": {},
   "outputs": [],
   "source": []
  },
  {
   "cell_type": "markdown",
   "metadata": {},
   "source": [
    "# Linear algebra"
   ]
  },
  {
   "cell_type": "code",
   "execution_count": 5,
   "metadata": {},
   "outputs": [
    {
     "ename": "NameError",
     "evalue": "name 'algebra' is not defined",
     "output_type": "error",
     "traceback": [
      "\u001b[0;31m---------------------------------------------------------------------------\u001b[0m",
      "\u001b[0;31mNameError\u001b[0m                                 Traceback (most recent call last)",
      "Cell \u001b[0;32mIn[5], line 1\u001b[0m\n\u001b[0;32m----> 1\u001b[0m a \u001b[38;5;241m=\u001b[39m algebra\u001b[38;5;241m.\u001b[39mAlgebraTests(backend\u001b[38;5;241m=\u001b[39m\u001b[38;5;124m'\u001b[39m\u001b[38;5;124mjax\u001b[39m\u001b[38;5;124m'\u001b[39m)\n\u001b[1;32m      2\u001b[0m b \u001b[38;5;241m=\u001b[39m algebra\u001b[38;5;241m.\u001b[39mAlgebraTests(backend\u001b[38;5;241m=\u001b[39m\u001b[38;5;124m'\u001b[39m\u001b[38;5;124mnumpy\u001b[39m\u001b[38;5;124m'\u001b[39m)\n",
      "\u001b[0;31mNameError\u001b[0m: name 'algebra' is not defined"
     ]
    }
   ],
   "source": [
    "a = algebra.AlgebraTests(backend='jax')\n",
    "b = algebra.AlgebraTests(backend='numpy')"
   ]
  },
  {
   "cell_type": "markdown",
   "metadata": {},
   "source": [
    "## Standard tests"
   ]
  },
  {
   "cell_type": "markdown",
   "metadata": {},
   "source": [
    "### Change the basis with a unitary matrix"
   ]
  },
  {
   "cell_type": "code",
   "execution_count": null,
   "metadata": {},
   "outputs": [
    {
     "name": "stdout",
     "output_type": "stream",
     "text": [
      "[14/02/2025 02:19:50]\t->\u001b[34m[TEST 1] Starting change_basis\u001b[0m\n",
      "U=\n"
     ]
    },
    {
     "data": {
      "text/latex": [
       "$\\displaystyle \\left[\\begin{matrix}0 & 1\\\\1 & 0\\end{matrix}\\right]$"
      ],
      "text/plain": [
       "Matrix([\n",
       "[0, 1],\n",
       "[1, 0]])"
      ]
     },
     "metadata": {},
     "output_type": "display_data"
    },
    {
     "name": "stdout",
     "output_type": "stream",
     "text": [
      "vec=\n"
     ]
    },
    {
     "data": {
      "text/latex": [
       "$\\displaystyle \\left[\\begin{matrix}1\\\\0\\end{matrix}\\right]$"
      ],
      "text/plain": [
       "Matrix([\n",
       "[1],\n",
       "[0]])"
      ]
     },
     "metadata": {},
     "output_type": "display_data"
    },
    {
     "name": "stdout",
     "output_type": "stream",
     "text": [
      "tvec=\n"
     ]
    },
    {
     "data": {
      "text/latex": [
       "$\\displaystyle \\left[\\begin{matrix}0\\\\1\\end{matrix}\\right]$"
      ],
      "text/plain": [
       "Matrix([\n",
       "[0],\n",
       "[1]])"
      ]
     },
     "metadata": {},
     "output_type": "display_data"
    },
    {
     "name": "stdout",
     "output_type": "stream",
     "text": [
      "transformed_vec=\n"
     ]
    },
    {
     "data": {
      "text/latex": [
       "$\\displaystyle \\left[\\begin{matrix}0\\\\1\\end{matrix}\\right]$"
      ],
      "text/plain": [
       "Matrix([\n",
       "[0],\n",
       "[1]])"
      ]
     },
     "metadata": {},
     "output_type": "display_data"
    },
    {
     "name": "stdout",
     "output_type": "stream",
     "text": [
      "transformed_twice=\n"
     ]
    },
    {
     "data": {
      "text/latex": [
       "$\\displaystyle \\left[\\begin{matrix}1\\\\0\\end{matrix}\\right]$"
      ],
      "text/plain": [
       "Matrix([\n",
       "[1],\n",
       "[0]])"
      ]
     },
     "metadata": {},
     "output_type": "display_data"
    },
    {
     "name": "stdout",
     "output_type": "stream",
     "text": [
      "[14/02/2025 02:19:50]\t->\u001b[32m[TEST 1] Completed change_basis\u001b[0m\n",
      "[14/02/2025 02:19:50]\t->\u001b[34m[TEST 1] Starting change_basis\u001b[0m\n",
      "U=\n"
     ]
    },
    {
     "data": {
      "text/latex": [
       "$\\displaystyle \\left[\\begin{matrix}0 & 1\\\\1 & 0\\end{matrix}\\right]$"
      ],
      "text/plain": [
       "Matrix([\n",
       "[0, 1],\n",
       "[1, 0]])"
      ]
     },
     "metadata": {},
     "output_type": "display_data"
    },
    {
     "name": "stdout",
     "output_type": "stream",
     "text": [
      "vec=\n"
     ]
    },
    {
     "data": {
      "text/latex": [
       "$\\displaystyle \\left[\\begin{matrix}1\\\\0\\end{matrix}\\right]$"
      ],
      "text/plain": [
       "Matrix([\n",
       "[1],\n",
       "[0]])"
      ]
     },
     "metadata": {},
     "output_type": "display_data"
    },
    {
     "name": "stdout",
     "output_type": "stream",
     "text": [
      "tvec=\n"
     ]
    },
    {
     "data": {
      "text/latex": [
       "$\\displaystyle \\left[\\begin{matrix}0\\\\1\\end{matrix}\\right]$"
      ],
      "text/plain": [
       "Matrix([\n",
       "[0],\n",
       "[1]])"
      ]
     },
     "metadata": {},
     "output_type": "display_data"
    },
    {
     "name": "stdout",
     "output_type": "stream",
     "text": [
      "transformed_vec=\n"
     ]
    },
    {
     "data": {
      "text/latex": [
       "$\\displaystyle \\left[\\begin{matrix}0\\\\1\\end{matrix}\\right]$"
      ],
      "text/plain": [
       "Matrix([\n",
       "[0],\n",
       "[1]])"
      ]
     },
     "metadata": {},
     "output_type": "display_data"
    },
    {
     "name": "stdout",
     "output_type": "stream",
     "text": [
      "transformed_twice=\n"
     ]
    },
    {
     "data": {
      "text/latex": [
       "$\\displaystyle \\left[\\begin{matrix}1\\\\0\\end{matrix}\\right]$"
      ],
      "text/plain": [
       "Matrix([\n",
       "[1],\n",
       "[0]])"
      ]
     },
     "metadata": {},
     "output_type": "display_data"
    },
    {
     "name": "stdout",
     "output_type": "stream",
     "text": [
      "[14/02/2025 02:19:50]\t->\u001b[32m[TEST 1] Completed change_basis\u001b[0m\n"
     ]
    }
   ],
   "source": [
    "a.change_basis(verbose=True)\n",
    "b.change_basis(verbose=True)"
   ]
  },
  {
   "cell_type": "markdown",
   "metadata": {},
   "source": [
    "### Change the basis of a matrix with a unitary matrix"
   ]
  },
  {
   "cell_type": "code",
   "execution_count": null,
   "metadata": {},
   "outputs": [
    {
     "name": "stdout",
     "output_type": "stream",
     "text": [
      "[14/02/2025 02:19:55]\t->\u001b[34m[TEST 2] Starting change_basis_matrix\u001b[0m\n",
      "U=\n"
     ]
    },
    {
     "data": {
      "text/latex": [
       "$\\displaystyle \\left[\\begin{matrix}0 & 1\\\\1 & 0\\end{matrix}\\right]$"
      ],
      "text/plain": [
       "Matrix([\n",
       "[0, 1],\n",
       "[1, 0]])"
      ]
     },
     "metadata": {},
     "output_type": "display_data"
    },
    {
     "name": "stdout",
     "output_type": "stream",
     "text": [
      "A=\n"
     ]
    },
    {
     "data": {
      "text/latex": [
       "$\\displaystyle \\left[\\begin{matrix}1 & 2\\\\3 & 4\\end{matrix}\\right]$"
      ],
      "text/plain": [
       "Matrix([\n",
       "[1, 2],\n",
       "[3, 4]])"
      ]
     },
     "metadata": {},
     "output_type": "display_data"
    },
    {
     "name": "stdout",
     "output_type": "stream",
     "text": [
      "At=\n"
     ]
    },
    {
     "data": {
      "text/latex": [
       "$\\displaystyle \\left[\\begin{matrix}4 & 3\\\\2 & 1\\end{matrix}\\right]$"
      ],
      "text/plain": [
       "Matrix([\n",
       "[4, 3],\n",
       "[2, 1]])"
      ]
     },
     "metadata": {},
     "output_type": "display_data"
    },
    {
     "name": "stdout",
     "output_type": "stream",
     "text": [
      "transformed_matrix=\n"
     ]
    },
    {
     "data": {
      "text/latex": [
       "$\\displaystyle \\left[\\begin{matrix}4 & 3\\\\2 & 1\\end{matrix}\\right]$"
      ],
      "text/plain": [
       "Matrix([\n",
       "[4, 3],\n",
       "[2, 1]])"
      ]
     },
     "metadata": {},
     "output_type": "display_data"
    },
    {
     "name": "stdout",
     "output_type": "stream",
     "text": [
      "[14/02/2025 02:19:55]\t->\u001b[32m[TEST 2] Completed change_basis_matrix\u001b[0m\n"
     ]
    }
   ],
   "source": [
    "a.change_basis_matrix(verbose=True)"
   ]
  },
  {
   "cell_type": "markdown",
   "metadata": {},
   "source": [
    "### Outer product"
   ]
  },
  {
   "cell_type": "code",
   "execution_count": null,
   "metadata": {},
   "outputs": [
    {
     "name": "stdout",
     "output_type": "stream",
     "text": [
      "[14/02/2025 02:19:57]\t->\u001b[34m[TEST 3] Starting outer\u001b[0m\n",
      "A=\n"
     ]
    },
    {
     "data": {
      "text/latex": [
       "$\\displaystyle \\left[\\begin{matrix}1\\\\2\\end{matrix}\\right]$"
      ],
      "text/plain": [
       "Matrix([\n",
       "[1],\n",
       "[2]])"
      ]
     },
     "metadata": {},
     "output_type": "display_data"
    },
    {
     "name": "stdout",
     "output_type": "stream",
     "text": [
      "B=\n"
     ]
    },
    {
     "data": {
      "text/latex": [
       "$\\displaystyle \\left[\\begin{matrix}3\\\\4\\end{matrix}\\right]$"
      ],
      "text/plain": [
       "Matrix([\n",
       "[3],\n",
       "[4]])"
      ]
     },
     "metadata": {},
     "output_type": "display_data"
    },
    {
     "name": "stdout",
     "output_type": "stream",
     "text": [
      "outer_product= A ⊗ B\n"
     ]
    },
    {
     "data": {
      "text/latex": [
       "$\\displaystyle \\left[\\begin{matrix}3 & 4\\\\6 & 8\\end{matrix}\\right]$"
      ],
      "text/plain": [
       "Matrix([\n",
       "[3, 4],\n",
       "[6, 8]])"
      ]
     },
     "metadata": {},
     "output_type": "display_data"
    },
    {
     "name": "stdout",
     "output_type": "stream",
     "text": [
      "A_mat=\n"
     ]
    },
    {
     "data": {
      "text/latex": [
       "$\\displaystyle \\left[\\begin{matrix}1 & 2\\\\2 & 0\\end{matrix}\\right]$"
      ],
      "text/plain": [
       "Matrix([\n",
       "[1, 2],\n",
       "[2, 0]])"
      ]
     },
     "metadata": {},
     "output_type": "display_data"
    },
    {
     "name": "stdout",
     "output_type": "stream",
     "text": [
      "B_mat=\n"
     ]
    },
    {
     "data": {
      "text/latex": [
       "$\\displaystyle \\left[\\begin{matrix}3 & 4\\\\4 & 0\\end{matrix}\\right]$"
      ],
      "text/plain": [
       "Matrix([\n",
       "[3, 4],\n",
       "[4, 0]])"
      ]
     },
     "metadata": {},
     "output_type": "display_data"
    },
    {
     "name": "stdout",
     "output_type": "stream",
     "text": [
      "outer_product_mat= A_mat ⊗ B_mat\n"
     ]
    },
    {
     "data": {
      "text/latex": [
       "$\\displaystyle \\left[\\begin{matrix}3 & 4 & 4 & 0\\\\6 & 8 & 8 & 0\\\\6 & 8 & 8 & 0\\\\0 & 0 & 0 & 0\\end{matrix}\\right]$"
      ],
      "text/plain": [
       "Matrix([\n",
       "[3, 4, 4, 0],\n",
       "[6, 8, 8, 0],\n",
       "[6, 8, 8, 0],\n",
       "[0, 0, 0, 0]])"
      ]
     },
     "metadata": {},
     "output_type": "display_data"
    },
    {
     "name": "stdout",
     "output_type": "stream",
     "text": [
      "[14/02/2025 02:19:57]\t->\u001b[32m[TEST 3] Completed outer\u001b[0m\n",
      "[14/02/2025 02:19:57]\t->\u001b[34m[TEST 3] Starting outer\u001b[0m\n",
      "A=\n"
     ]
    },
    {
     "data": {
      "text/latex": [
       "$\\displaystyle \\left[\\begin{matrix}1\\\\2\\end{matrix}\\right]$"
      ],
      "text/plain": [
       "Matrix([\n",
       "[1],\n",
       "[2]])"
      ]
     },
     "metadata": {},
     "output_type": "display_data"
    },
    {
     "name": "stdout",
     "output_type": "stream",
     "text": [
      "B=\n"
     ]
    },
    {
     "data": {
      "text/latex": [
       "$\\displaystyle \\left[\\begin{matrix}3\\\\4\\end{matrix}\\right]$"
      ],
      "text/plain": [
       "Matrix([\n",
       "[3],\n",
       "[4]])"
      ]
     },
     "metadata": {},
     "output_type": "display_data"
    },
    {
     "name": "stdout",
     "output_type": "stream",
     "text": [
      "outer_product= A ⊗ B\n"
     ]
    },
    {
     "data": {
      "text/latex": [
       "$\\displaystyle \\left[\\begin{matrix}3 & 4\\\\6 & 8\\end{matrix}\\right]$"
      ],
      "text/plain": [
       "Matrix([\n",
       "[3, 4],\n",
       "[6, 8]])"
      ]
     },
     "metadata": {},
     "output_type": "display_data"
    },
    {
     "name": "stdout",
     "output_type": "stream",
     "text": [
      "A_mat=\n"
     ]
    },
    {
     "data": {
      "text/latex": [
       "$\\displaystyle \\left[\\begin{matrix}1 & 2\\\\2 & 0\\end{matrix}\\right]$"
      ],
      "text/plain": [
       "Matrix([\n",
       "[1, 2],\n",
       "[2, 0]])"
      ]
     },
     "metadata": {},
     "output_type": "display_data"
    },
    {
     "name": "stdout",
     "output_type": "stream",
     "text": [
      "B_mat=\n"
     ]
    },
    {
     "data": {
      "text/latex": [
       "$\\displaystyle \\left[\\begin{matrix}3 & 4\\\\4 & 0\\end{matrix}\\right]$"
      ],
      "text/plain": [
       "Matrix([\n",
       "[3, 4],\n",
       "[4, 0]])"
      ]
     },
     "metadata": {},
     "output_type": "display_data"
    },
    {
     "name": "stdout",
     "output_type": "stream",
     "text": [
      "outer_product_mat= A_mat ⊗ B_mat\n"
     ]
    },
    {
     "data": {
      "text/latex": [
       "$\\displaystyle \\left[\\begin{matrix}3 & 4 & 4 & 0\\\\6 & 8 & 8 & 0\\\\6 & 8 & 8 & 0\\\\0 & 0 & 0 & 0\\end{matrix}\\right]$"
      ],
      "text/plain": [
       "Matrix([\n",
       "[3, 4, 4, 0],\n",
       "[6, 8, 8, 0],\n",
       "[6, 8, 8, 0],\n",
       "[0, 0, 0, 0]])"
      ]
     },
     "metadata": {},
     "output_type": "display_data"
    },
    {
     "name": "stdout",
     "output_type": "stream",
     "text": [
      "[14/02/2025 02:19:57]\t->\u001b[32m[TEST 3] Completed outer\u001b[0m\n"
     ]
    }
   ],
   "source": [
    "a.outer(verbose=True)\n",
    "b.outer(verbose=True)"
   ]
  },
  {
   "cell_type": "markdown",
   "metadata": {},
   "source": [
    "### Kronecker product"
   ]
  },
  {
   "cell_type": "code",
   "execution_count": null,
   "metadata": {},
   "outputs": [
    {
     "name": "stdout",
     "output_type": "stream",
     "text": [
      "[10/02/2025 19:49:28]\t->[TEST 4] Starting kron\n",
      "A=\n"
     ]
    },
    {
     "data": {
      "text/latex": [
       "$\\displaystyle \\left[\\begin{matrix}1 & 2\\\\3 & 4\\end{matrix}\\right]$"
      ],
      "text/plain": [
       "Matrix([\n",
       "[1, 2],\n",
       "[3, 4]])"
      ]
     },
     "metadata": {},
     "output_type": "display_data"
    },
    {
     "name": "stdout",
     "output_type": "stream",
     "text": [
      "B=\n"
     ]
    },
    {
     "data": {
      "text/latex": [
       "$\\displaystyle \\left[\\begin{matrix}5 & 6\\\\7 & 8\\end{matrix}\\right]$"
      ],
      "text/plain": [
       "Matrix([\n",
       "[5, 6],\n",
       "[7, 8]])"
      ]
     },
     "metadata": {},
     "output_type": "display_data"
    },
    {
     "name": "stdout",
     "output_type": "stream",
     "text": [
      "kron_product= A ⊗ B\n"
     ]
    },
    {
     "data": {
      "text/latex": [
       "$\\displaystyle \\left[\\begin{matrix}5 & 6 & 10 & 12\\\\7 & 8 & 14 & 16\\\\15 & 18 & 20 & 24\\\\21 & 24 & 28 & 32\\end{matrix}\\right]$"
      ],
      "text/plain": [
       "Matrix([\n",
       "[ 5,  6, 10, 12],\n",
       "[ 7,  8, 14, 16],\n",
       "[15, 18, 20, 24],\n",
       "[21, 24, 28, 32]])"
      ]
     },
     "metadata": {},
     "output_type": "display_data"
    },
    {
     "name": "stdout",
     "output_type": "stream",
     "text": [
      "[10/02/2025 19:49:28]\t->[TEST 4] Completed kron\n"
     ]
    }
   ],
   "source": [
    "a.kron(verbose=True)"
   ]
  },
  {
   "cell_type": "markdown",
   "metadata": {},
   "source": [
    "## Linear solvers"
   ]
  },
  {
   "cell_type": "code",
   "execution_count": null,
   "metadata": {},
   "outputs": [],
   "source": [
    "a = algebra.SolversTests(backend='numpy')\n",
    "b = algebra.SolversTests(backend='jax')"
   ]
  },
  {
   "cell_type": "code",
   "execution_count": null,
   "metadata": {},
   "outputs": [
    {
     "name": "stdout",
     "output_type": "stream",
     "text": [
      "[TEST 0] Starting solver test using cg\n"
     ]
    },
    {
     "ename": "TypeError",
     "evalue": "random() got an unexpected keyword argument 'dtype'",
     "output_type": "error",
     "traceback": [
      "\u001b[0;31m---------------------------------------------------------------------------\u001b[0m",
      "\u001b[0;31mTypeError\u001b[0m                                 Traceback (most recent call last)",
      "Cell \u001b[0;32mIn[6], line 1\u001b[0m\n\u001b[0;32m----> 1\u001b[0m a\u001b[38;5;241m.\u001b[39msolver_test()\n",
      "File \u001b[0;32m~/Codes/QuantumEigenSolver/Python/QES/general_python/algebra/__init__.py:361\u001b[0m, in \u001b[0;36mSolversTests.solver_test\u001b[0;34m(self, make_random, symmetric, solver_type, eps, max_iter, reg, precond_type, dtype)\u001b[0m\n\u001b[1;32m    358\u001b[0m \u001b[38;5;28mself\u001b[39m\u001b[38;5;241m.\u001b[39m_log(\u001b[38;5;124mf\u001b[39m\u001b[38;5;124m\"\u001b[39m\u001b[38;5;124mStarting solver test using \u001b[39m\u001b[38;5;132;01m{\u001b[39;00msolver_type\u001b[38;5;132;01m}\u001b[39;00m\u001b[38;5;124m\"\u001b[39m, \u001b[38;5;28mself\u001b[39m\u001b[38;5;241m.\u001b[39mtest_count)\n\u001b[1;32m    360\u001b[0m \u001b[38;5;66;03m# Generate test matrix A and vector b.\u001b[39;00m\n\u001b[0;32m--> 361\u001b[0m a, b    \u001b[38;5;241m=\u001b[39m generate_test_mat_vec(make_random, symmetric, dtype\u001b[38;5;241m=\u001b[39mdtype, backend\u001b[38;5;241m=\u001b[39m\u001b[38;5;28mself\u001b[39m\u001b[38;5;241m.\u001b[39mbackend)\n\u001b[1;32m    363\u001b[0m \u001b[38;5;66;03m# Instantiate the chosen solver.\u001b[39;00m\n\u001b[1;32m    364\u001b[0m solver  \u001b[38;5;241m=\u001b[39m choose_solver(solver_type, backend\u001b[38;5;241m=\u001b[39m\u001b[38;5;28mself\u001b[39m\u001b[38;5;241m.\u001b[39mbackend, size\u001b[38;5;241m=\u001b[39ma\u001b[38;5;241m.\u001b[39mshape[\u001b[38;5;241m1\u001b[39m], eps\u001b[38;5;241m=\u001b[39meps, maxiter\u001b[38;5;241m=\u001b[39mmax_iter, reg\u001b[38;5;241m=\u001b[39mreg)\n",
      "File \u001b[0;32m~/Codes/QuantumEigenSolver/Python/QES/general_python/algebra/solvers/__init__.py:119\u001b[0m, in \u001b[0;36mgenerate_test_mat_vec\u001b[0;34m(make_random, symmetric, size, dtype, backend)\u001b[0m\n\u001b[1;32m    116\u001b[0m     b[\u001b[38;5;241m3\u001b[39m] \u001b[38;5;241m=\u001b[39m \u001b[38;5;241m2\u001b[39m \u001b[38;5;241m+\u001b[39m \u001b[38;5;241m3\u001b[39mj\n\u001b[1;32m    117\u001b[0m \u001b[38;5;28;01melse\u001b[39;00m:\n\u001b[1;32m    118\u001b[0m     \u001b[38;5;66;03m# Random matrix and vector.\u001b[39;00m\n\u001b[0;32m--> 119\u001b[0m     A \u001b[38;5;241m=\u001b[39m rdg\u001b[38;5;241m.\u001b[39mrandom(size\u001b[38;5;241m=\u001b[39m(size, size), dtype\u001b[38;5;241m=\u001b[39mdtype)\n\u001b[1;32m    120\u001b[0m     b \u001b[38;5;241m=\u001b[39m rdg\u001b[38;5;241m.\u001b[39mrandom(size\u001b[38;5;241m=\u001b[39m(size,), dtype\u001b[38;5;241m=\u001b[39mdtype)\n\u001b[1;32m    121\u001b[0m     \u001b[38;5;28;01mif\u001b[39;00m dtype \u001b[38;5;129;01mnot\u001b[39;00m \u001b[38;5;129;01min\u001b[39;00m (backend\u001b[38;5;241m.\u001b[39mfloat32, backend\u001b[38;5;241m.\u001b[39mfloat64):\n",
      "File \u001b[0;32mnumpy/random/mtrand.pyx:439\u001b[0m, in \u001b[0;36mnumpy.random.mtrand.RandomState.random\u001b[0;34m()\u001b[0m\n",
      "\u001b[0;31mTypeError\u001b[0m: random() got an unexpected keyword argument 'dtype'"
     ]
    }
   ],
   "source": [
    "a.solver_test()"
   ]
  },
  {
   "cell_type": "markdown",
   "metadata": {},
   "source": [
    "# Binary "
   ]
  },
  {
   "cell_type": "markdown",
   "metadata": {},
   "source": [
    "### Standard tests"
   ]
  },
  {
   "cell_type": "code",
   "execution_count": null,
   "metadata": {},
   "outputs": [],
   "source": [
    "from general_python.common import binary\n",
    "NUM         = 42\n",
    "tests       = binary.BinaryFunctionTests()"
   ]
  },
  {
   "cell_type": "code",
   "execution_count": null,
   "metadata": {},
   "outputs": [
    {
     "name": "stdout",
     "output_type": "stream",
     "text": [
      "[14/02/2025 02:22:22]\t->\u001b[0m[TEST 0] ==================================================\u001b[0m\n",
      "[14/02/2025 02:22:22]\t->\u001b[0m[TEST 0]              TESTING BINARY FUNCTIONS             \u001b[0m\n",
      "[14/02/2025 02:22:22]\t->\u001b[0m[TEST 0] ==================================================\u001b[0m\n",
      "[14/02/2025 02:22:22]\t->\u001b[0m[TEST 0] Random integer n = 304487426887 (binary: 000100011011100100110111010110101101000111)\u001b[0m\n",
      "[14/02/2025 02:22:22]\t->\u001b[0m[TEST 0] --------------------------------------------------\u001b[0m\n",
      "[14/02/2025 02:22:22]\t->\u001b[0m[TEST 0] --------------------------------------------------\u001b[0m\n",
      "[14/02/2025 02:22:22]\t->\u001b[34m[TEST 1] Test 1: Extract bits using mask\u001b[0m\n",
      "[14/02/2025 02:22:22]\t->\u001b[0m[TEST 1] Input n    : 000100011011100100110111010110101101000111\u001b[0m\n",
      "[14/02/2025 02:22:22]\t->\u001b[0m[TEST 1] Mask       : 000000000000000000000000000000000000001011\u001b[0m\n",
      "[14/02/2025 02:22:22]\t->\u001b[0m[TEST 1] Extracted  : 000000000000000000000000000000000000000011 (3)\u001b[0m\n",
      "[14/02/2025 02:22:22]\t->\u001b[0m[TEST 1] Time       : 0.000002 seconds\u001b[0m\n",
      "[14/02/2025 02:22:22]\t->\u001b[0m[TEST 1] --------------------------------------------------\u001b[0m\n",
      "[14/02/2025 02:22:22]\t->\u001b[34m[TEST 2] Test 2: Extract leftmost and rightmost 4 bits\u001b[0m\n",
      "[14/02/2025 02:22:22]\t->\u001b[0m[TEST 2] Input n         : 000100011011100100110111010110101101000111\u001b[0m\n",
      "[14/02/2025 02:22:22]\t->\u001b[0m[TEST 2] Leftmost 4 bits : 0001\u001b[0m\n",
      "[14/02/2025 02:22:22]\t->\u001b[0m[TEST 2] Rightmost 4 bits: 0111\u001b[0m\n",
      "[14/02/2025 02:22:22]\t->\u001b[0m[TEST 2] Time            : 0.000002 seconds\u001b[0m\n",
      "[14/02/2025 02:22:22]\t->\u001b[0m[TEST 2] --------------------------------------------------\u001b[0m\n",
      "[14/02/2025 02:22:22]\t->\u001b[34m[TEST 3] Test 3: Prepare mask from positions\u001b[0m\n",
      "[14/02/2025 02:22:22]\t->\u001b[0m[TEST 3] Positions          : [0, 1, 3]\u001b[0m\n",
      "[14/02/2025 02:22:22]\t->\u001b[0m[TEST 3] Prepared Mask (42 bits) : 110100000000000000000000000000000000000000\u001b[0m\n",
      "[14/02/2025 02:22:22]\t->\u001b[0m[TEST 3] Time               : 0.000002 seconds\u001b[0m\n",
      "[14/02/2025 02:22:22]\t->\u001b[0m[TEST 3] --------------------------------------------------\u001b[0m\n",
      "[14/02/2025 02:22:22]\t->\u001b[34m[TEST 4] Test 4: Prepare inverted mask from positions\u001b[0m\n",
      "[14/02/2025 02:22:22]\t->\u001b[0m[TEST 4] Positions             : [0, 1, 3]\u001b[0m\n",
      "[14/02/2025 02:22:22]\t->\u001b[0m[TEST 4] Inverted Mask (42 bits): 000000000000000000000000000000000000001011\u001b[0m\n",
      "[14/02/2025 02:22:22]\t->\u001b[0m[TEST 4] Time                  : 0.000001 seconds\u001b[0m\n",
      "[14/02/2025 02:22:22]\t->\u001b[0m[TEST 4] --------------------------------------------------\u001b[0m\n",
      "[14/02/2025 02:22:22]\t->\u001b[34m[TEST 5] Test 5: Check if n is a power of two\u001b[0m\n",
      "[14/02/2025 02:22:22]\t->\u001b[0m[TEST 5] Input n : 000100011011100100110111010110101101000111\u001b[0m\n",
      "[14/02/2025 02:22:22]\t->\u001b[0m[TEST 5] Result  : False\u001b[0m\n",
      "[14/02/2025 02:22:22]\t->\u001b[0m[TEST 5] Time    : 0.000001 seconds\u001b[0m\n",
      "[14/02/2025 02:22:22]\t->\u001b[0m[TEST 5] --------------------------------------------------\u001b[0m\n",
      "[14/02/2025 02:22:22]\t->\u001b[34m[TEST 6] Test 6: Reverse the bits\u001b[0m\n",
      "[14/02/2025 02:22:22]\t->\u001b[0m[TEST 6] Input n  : 000100011011100100110111010110101101000111\u001b[0m\n",
      "[14/02/2025 02:22:22]\t->\u001b[0m[TEST 6] Reversed : 111000101101011010111011001001110110001000\u001b[0m\n",
      "[14/02/2025 02:22:22]\t->\u001b[0m[TEST 6] Time     : 0.000005 seconds\u001b[0m\n",
      "[14/02/2025 02:22:22]\t->\u001b[0m[TEST 6] --------------------------------------------------\u001b[0m\n",
      "[14/02/2025 02:22:22]\t->\u001b[34m[TEST 7] Test 7: Check specific bit\u001b[0m\n",
      "[14/02/2025 02:22:22]\t->\u001b[0m[TEST 7] Input n          : 000100011011100100110111010110101101000111\u001b[0m\n",
      "[14/02/2025 02:22:22]\t->\u001b[0m[TEST 7] Bit position (0-indexed from right): 2\u001b[0m\n",
      "[14/02/2025 02:22:22]\t->\u001b[0m[TEST 7] Bit value        : True\u001b[0m\n",
      "[14/02/2025 02:22:22]\t->\u001b[0m[TEST 7] Time             : 0.000001 seconds\u001b[0m\n",
      "[14/02/2025 02:22:22]\t->\u001b[0m[TEST 7] --------------------------------------------------\u001b[0m\n",
      "[14/02/2025 02:22:22]\t->\u001b[34m[TEST 8] Test 8: Convert integer to base representation: <class 'int'>\u001b[0m\n",
      "[14/02/2025 02:22:22]\t->\u001b[0m[TEST 8] Input n           : 000100011011100100110111010110101101000111\u001b[0m\n",
      "[14/02/2025 02:22:22]\t->\u001b[0m[TEST 8] Base representation: [-0.5 -0.5 -0.5  0.5 -0.5 -0.5 -0.5  0.5  0.5 -0.5  0.5  0.5  0.5 -0.5\n",
      " -0.5  0.5 -0.5 -0.5  0.5  0.5 -0.5  0.5  0.5  0.5 -0.5  0.5 -0.5  0.5\n",
      "  0.5 -0.5  0.5 -0.5  0.5  0.5 -0.5  0.5 -0.5 -0.5 -0.5  0.5  0.5  0.5] (type: <class 'jaxlib.xla_extension.ArrayImpl'>)\u001b[0m\n",
      "[14/02/2025 02:22:22]\t->\u001b[0m[TEST 8] Time              : 0.000321 seconds\u001b[0m\n",
      "[14/02/2025 02:22:22]\t->\u001b[0m[TEST 8] --------------------------------------------------\u001b[0m\n",
      "[14/02/2025 02:22:22]\t->\u001b[34m[TEST 9] Test 9: Convert base representation back to integer: <class 'jaxlib.xla_extension.ArrayImpl'>\u001b[0m\n",
      "[14/02/2025 02:22:22]\t->\u001b[0m[TEST 9] Base representation : [-0.5 -0.5 -0.5  0.5 -0.5 -0.5 -0.5  0.5  0.5 -0.5  0.5  0.5  0.5 -0.5\n",
      " -0.5  0.5 -0.5 -0.5  0.5  0.5 -0.5  0.5  0.5  0.5 -0.5  0.5 -0.5  0.5\n",
      "  0.5 -0.5  0.5 -0.5  0.5  0.5 -0.5  0.5 -0.5 -0.5 -0.5  0.5  0.5  0.5] (type: <class 'jaxlib.xla_extension.ArrayImpl'>)\u001b[0m\n",
      "[14/02/2025 02:22:22]\t->\u001b[0m[TEST 9] Recovered integer   : 304487426887 (type: <class 'int'>)\u001b[0m\n",
      "[14/02/2025 02:22:22]\t->\u001b[0m[TEST 9] Time                : 0.004992 seconds\u001b[0m\n",
      "[14/02/2025 02:22:22]\t->\u001b[0m[TEST 9] --------------------------------------------------\u001b[0m\n",
      "[14/02/2025 02:22:22]\t->\u001b[34m[TEST 10] Test 10: Flip all bits: <class 'int'>\u001b[0m\n",
      "[14/02/2025 02:22:22]\t->\u001b[0m[TEST 10] Input n : 000100011011100100110111010110101101000111\u001b[0m\n",
      "[14/02/2025 02:22:22]\t->\u001b[0m[TEST 10] Flipped : 111011100100011011001000101001010010111000\u001b[0m\n",
      "[14/02/2025 02:22:22]\t->\u001b[0m[TEST 10] Time    : 0.000002 seconds\u001b[0m\n",
      "[14/02/2025 02:22:22]\t->\u001b[0m[TEST 10] --------------------------------------------------\u001b[0m\n",
      "[14/02/2025 02:22:22]\t->\u001b[34m[TEST 11] Test 11: Flip a specific bit in integer: <class 'int'>\u001b[0m\n",
      "[14/02/2025 02:22:22]\t->\u001b[0m[TEST 11] Input n           : 000100011011100100110111010110101101000111\u001b[0m\n",
      "[14/02/2025 02:22:22]\t->\u001b[0m[TEST 11] Flipped bit at pos: 2 -> 000100011011100100110111010110101101000011\u001b[0m\n",
      "[14/02/2025 02:22:22]\t->\u001b[0m[TEST 11] Time              : 0.000003 seconds\u001b[0m\n",
      "[14/02/2025 02:22:22]\t->\u001b[0m[TEST 11] --------------------------------------------------\u001b[0m\n",
      "[14/02/2025 02:22:22]\t->\u001b[34m[TEST 12] Test 12: Flip a specific bit in base representation: <class 'jaxlib.xla_extension.ArrayImpl'>\u001b[0m\n",
      "[14/02/2025 02:22:22]\t->\u001b[0m[TEST 12] Input base rep    : [-0.5 -0.5 -0.5  0.5 -0.5 -0.5 -0.5  0.5  0.5 -0.5  0.5  0.5  0.5 -0.5\n",
      " -0.5  0.5 -0.5 -0.5  0.5  0.5 -0.5  0.5  0.5  0.5 -0.5  0.5 -0.5  0.5\n",
      "  0.5 -0.5  0.5 -0.5  0.5  0.5 -0.5  0.5 -0.5 -0.5 -0.5  0.5  0.5  0.5] : <class 'jaxlib.xla_extension.ArrayImpl'>\u001b[0m\n",
      "[14/02/2025 02:22:22]\t->\u001b[0m[TEST 12] Flipped bit at pos: 2 -> [-0.5 -0.5  0.5  0.5 -0.5 -0.5 -0.5  0.5  0.5 -0.5  0.5  0.5  0.5 -0.5\n",
      " -0.5  0.5 -0.5 -0.5  0.5  0.5 -0.5  0.5  0.5  0.5 -0.5  0.5 -0.5  0.5\n",
      "  0.5 -0.5  0.5 -0.5  0.5  0.5 -0.5  0.5 -0.5 -0.5 -0.5  0.5  0.5  0.5] : <class 'jaxlib.xla_extension.ArrayImpl'>\u001b[0m\n",
      "[14/02/2025 02:22:22]\t->\u001b[0m[TEST 12] Time              : 0.000017 seconds\u001b[0m\n",
      "[14/02/2025 02:22:22]\t->\u001b[0m[TEST 12] --------------------------------------------------\u001b[0m\n",
      "[14/02/2025 02:22:22]\t->\u001b[34m[TEST 13] Test 13: Rotate left (integer)\u001b[0m\n",
      "[14/02/2025 02:22:22]\t->\u001b[0m[TEST 13] Input n       : 000100011011100100110111010110101101000111\u001b[0m\n",
      "[14/02/2025 02:22:22]\t->\u001b[0m[TEST 13] Rotated left  : 001000110111001001101110101101011010001110\u001b[0m\n",
      "[14/02/2025 02:22:22]\t->\u001b[0m[TEST 13] Time          : 0.000001 seconds\u001b[0m\n",
      "[14/02/2025 02:22:22]\t->\u001b[0m[TEST 13] --------------------------------------------------\u001b[0m\n",
      "[14/02/2025 02:22:22]\t->\u001b[34m[TEST 14] Test 14: Rotate left (base representation): <class 'jaxlib.xla_extension.ArrayImpl'>\u001b[0m\n",
      "[14/02/2025 02:22:22]\t->\u001b[0m[TEST 14] Input base rep: [-0.5 -0.5  0.5  0.5 -0.5 -0.5 -0.5  0.5  0.5 -0.5  0.5  0.5  0.5 -0.5\n",
      " -0.5  0.5 -0.5 -0.5  0.5  0.5 -0.5  0.5  0.5  0.5 -0.5  0.5 -0.5  0.5\n",
      "  0.5 -0.5  0.5 -0.5  0.5  0.5 -0.5  0.5 -0.5 -0.5 -0.5  0.5  0.5  0.5] : <class 'jaxlib.xla_extension.ArrayImpl'>\u001b[0m\n",
      "[14/02/2025 02:22:22]\t->\u001b[0m[TEST 14] Rotated left  : [-0.5  0.5  0.5 -0.5 -0.5 -0.5  0.5  0.5 -0.5  0.5  0.5  0.5 -0.5 -0.5\n",
      "  0.5 -0.5 -0.5  0.5  0.5 -0.5  0.5  0.5  0.5 -0.5  0.5 -0.5  0.5  0.5\n",
      " -0.5  0.5 -0.5  0.5  0.5 -0.5  0.5 -0.5 -0.5 -0.5  0.5  0.5  0.5 -0.5] : <class 'jaxlib.xla_extension.ArrayImpl'>\u001b[0m\n",
      "[14/02/2025 02:22:22]\t->\u001b[0m[TEST 14] Time          : 0.000141 seconds\u001b[0m\n",
      "[14/02/2025 02:22:22]\t->\u001b[0m[TEST 14] --------------------------------------------------\u001b[0m\n",
      "[14/02/2025 02:22:22]\t->\u001b[34m[TEST 15] Test 15: Rotate right (integer)\u001b[0m\n",
      "[14/02/2025 02:22:22]\t->\u001b[0m[TEST 15] Input n        : 000100011011100100110111010110101101000111\u001b[0m\n",
      "[14/02/2025 02:22:22]\t->\u001b[0m[TEST 15] Rotated right  : 100010001101110010011011101011010110100011\u001b[0m\n",
      "[14/02/2025 02:22:22]\t->\u001b[0m[TEST 15] Time           : 0.000001 seconds\u001b[0m\n",
      "[14/02/2025 02:22:22]\t->\u001b[0m[TEST 15] --------------------------------------------------\u001b[0m\n",
      "[14/02/2025 02:22:22]\t->\u001b[34m[TEST 16] Test 16: Rotate right (base representation): <class 'jaxlib.xla_extension.ArrayImpl'>\u001b[0m\n",
      "[14/02/2025 02:22:22]\t->\u001b[0m[TEST 16] Input base rep : [-0.5  0.5  0.5 -0.5 -0.5 -0.5  0.5  0.5 -0.5  0.5  0.5  0.5 -0.5 -0.5\n",
      "  0.5 -0.5 -0.5  0.5  0.5 -0.5  0.5  0.5  0.5 -0.5  0.5 -0.5  0.5  0.5\n",
      " -0.5  0.5 -0.5  0.5  0.5 -0.5  0.5 -0.5 -0.5 -0.5  0.5  0.5  0.5 -0.5] : <class 'jaxlib.xla_extension.ArrayImpl'>\u001b[0m\n",
      "[14/02/2025 02:22:22]\t->\u001b[0m[TEST 16] Rotated right  : [-0.5 -0.5  0.5  0.5 -0.5 -0.5 -0.5  0.5  0.5 -0.5  0.5  0.5  0.5 -0.5\n",
      " -0.5  0.5 -0.5 -0.5  0.5  0.5 -0.5  0.5  0.5  0.5 -0.5  0.5 -0.5  0.5\n",
      "  0.5 -0.5  0.5 -0.5  0.5  0.5 -0.5  0.5 -0.5 -0.5 -0.5  0.5  0.5  0.5] : <class 'jaxlib.xla_extension.ArrayImpl'>\u001b[0m\n",
      "[14/02/2025 02:22:22]\t->\u001b[0m[TEST 16] Time           : 0.000096 seconds\u001b[0m\n",
      "[14/02/2025 02:22:22]\t->\u001b[0m[TEST 16] --------------------------------------------------\u001b[0m\n",
      "[14/02/2025 02:22:22]\t->\u001b[0m[TEST 0] ==================================================\u001b[0m\n",
      "[14/02/2025 02:22:22]\t->\u001b[32m[TEST 0] Total testing time: 0.008149 seconds\u001b[0m\n",
      "[14/02/2025 02:22:22]\t->\u001b[0m[TEST 0] ==================================================\u001b[0m\n",
      "[14/02/2025 02:22:22]\t->\u001b[32m[TEST 0] Testing completed.\u001b[0m\n"
     ]
    }
   ],
   "source": [
    "tests.run_tests(NUM, spin_value = binary._BACKENDREPR)"
   ]
  },
  {
   "cell_type": "code",
   "execution_count": null,
   "metadata": {},
   "outputs": [
    {
     "name": "stdout",
     "output_type": "stream",
     "text": [
      "[14/02/2025 02:22:28]\t->\u001b[0m[TEST 0] ==================================================\u001b[0m\n",
      "[14/02/2025 02:22:28]\t->\u001b[0m[TEST 0]              TESTING BINARY FUNCTIONS             \u001b[0m\n",
      "[14/02/2025 02:22:28]\t->\u001b[0m[TEST 0] ==================================================\u001b[0m\n",
      "[14/02/2025 02:22:28]\t->\u001b[0m[TEST 0] Random integer n = 463308285429 (binary: 000110101111011111010100110110010111110101)\u001b[0m\n",
      "[14/02/2025 02:22:28]\t->\u001b[0m[TEST 0] --------------------------------------------------\u001b[0m\n",
      "[14/02/2025 02:22:28]\t->\u001b[0m[TEST 0] --------------------------------------------------\u001b[0m\n",
      "[14/02/2025 02:22:28]\t->\u001b[34m[TEST 1] Test 1: Extract bits using mask\u001b[0m\n",
      "[14/02/2025 02:22:28]\t->\u001b[0m[TEST 1] Input n    : 000110101111011111010100110110010111110101\u001b[0m\n",
      "[14/02/2025 02:22:28]\t->\u001b[0m[TEST 1] Mask       : 000000000000000000000000000000000000001011\u001b[0m\n",
      "[14/02/2025 02:22:28]\t->\u001b[0m[TEST 1] Extracted  : 000000000000000000000000000000000000000001 (1)\u001b[0m\n",
      "[14/02/2025 02:22:28]\t->\u001b[0m[TEST 1] Time       : 0.000004 seconds\u001b[0m\n",
      "[14/02/2025 02:22:28]\t->\u001b[0m[TEST 1] --------------------------------------------------\u001b[0m\n",
      "[14/02/2025 02:22:28]\t->\u001b[34m[TEST 2] Test 2: Extract leftmost and rightmost 4 bits\u001b[0m\n",
      "[14/02/2025 02:22:28]\t->\u001b[0m[TEST 2] Input n         : 000110101111011111010100110110010111110101\u001b[0m\n",
      "[14/02/2025 02:22:28]\t->\u001b[0m[TEST 2] Leftmost 4 bits : 0001\u001b[0m\n",
      "[14/02/2025 02:22:28]\t->\u001b[0m[TEST 2] Rightmost 4 bits: 0101\u001b[0m\n",
      "[14/02/2025 02:22:28]\t->\u001b[0m[TEST 2] Time            : 0.000002 seconds\u001b[0m\n",
      "[14/02/2025 02:22:28]\t->\u001b[0m[TEST 2] --------------------------------------------------\u001b[0m\n",
      "[14/02/2025 02:22:28]\t->\u001b[34m[TEST 3] Test 3: Prepare mask from positions\u001b[0m\n",
      "[14/02/2025 02:22:28]\t->\u001b[0m[TEST 3] Positions          : [0, 1, 3]\u001b[0m\n",
      "[14/02/2025 02:22:28]\t->\u001b[0m[TEST 3] Prepared Mask (42 bits) : 110100000000000000000000000000000000000000\u001b[0m\n",
      "[14/02/2025 02:22:28]\t->\u001b[0m[TEST 3] Time               : 0.000003 seconds\u001b[0m\n",
      "[14/02/2025 02:22:28]\t->\u001b[0m[TEST 3] --------------------------------------------------\u001b[0m\n",
      "[14/02/2025 02:22:28]\t->\u001b[34m[TEST 4] Test 4: Prepare inverted mask from positions\u001b[0m\n",
      "[14/02/2025 02:22:28]\t->\u001b[0m[TEST 4] Positions             : [0, 1, 3]\u001b[0m\n",
      "[14/02/2025 02:22:28]\t->\u001b[0m[TEST 4] Inverted Mask (42 bits): 000000000000000000000000000000000000001011\u001b[0m\n",
      "[14/02/2025 02:22:28]\t->\u001b[0m[TEST 4] Time                  : 0.000001 seconds\u001b[0m\n",
      "[14/02/2025 02:22:28]\t->\u001b[0m[TEST 4] --------------------------------------------------\u001b[0m\n",
      "[14/02/2025 02:22:28]\t->\u001b[34m[TEST 5] Test 5: Check if n is a power of two\u001b[0m\n",
      "[14/02/2025 02:22:28]\t->\u001b[0m[TEST 5] Input n : 000110101111011111010100110110010111110101\u001b[0m\n",
      "[14/02/2025 02:22:28]\t->\u001b[0m[TEST 5] Result  : False\u001b[0m\n",
      "[14/02/2025 02:22:28]\t->\u001b[0m[TEST 5] Time    : 0.000001 seconds\u001b[0m\n",
      "[14/02/2025 02:22:28]\t->\u001b[0m[TEST 5] --------------------------------------------------\u001b[0m\n",
      "[14/02/2025 02:22:28]\t->\u001b[34m[TEST 6] Test 6: Reverse the bits\u001b[0m\n",
      "[14/02/2025 02:22:28]\t->\u001b[0m[TEST 6] Input n  : 000110101111011111010100110110010111110101\u001b[0m\n",
      "[14/02/2025 02:22:28]\t->\u001b[0m[TEST 6] Reversed : 101011111010011011001010111110111101011000\u001b[0m\n",
      "[14/02/2025 02:22:28]\t->\u001b[0m[TEST 6] Time     : 0.000006 seconds\u001b[0m\n",
      "[14/02/2025 02:22:28]\t->\u001b[0m[TEST 6] --------------------------------------------------\u001b[0m\n",
      "[14/02/2025 02:22:28]\t->\u001b[34m[TEST 7] Test 7: Check specific bit\u001b[0m\n",
      "[14/02/2025 02:22:28]\t->\u001b[0m[TEST 7] Input n          : 000110101111011111010100110110010111110101\u001b[0m\n",
      "[14/02/2025 02:22:28]\t->\u001b[0m[TEST 7] Bit position (0-indexed from right): 2\u001b[0m\n",
      "[14/02/2025 02:22:28]\t->\u001b[0m[TEST 7] Bit value        : True\u001b[0m\n",
      "[14/02/2025 02:22:28]\t->\u001b[0m[TEST 7] Time             : 0.000003 seconds\u001b[0m\n",
      "[14/02/2025 02:22:28]\t->\u001b[0m[TEST 7] --------------------------------------------------\u001b[0m\n",
      "[14/02/2025 02:22:28]\t->\u001b[34m[TEST 8] Test 8: Convert integer to base representation: <class 'int'>\u001b[0m\n",
      "[14/02/2025 02:22:28]\t->\u001b[0m[TEST 8] Input n           : 000110101111011111010100110110010111110101\u001b[0m\n",
      "[14/02/2025 02:22:28]\t->\u001b[0m[TEST 8] Base representation: [-0.5 -0.5 -0.5  0.5  0.5 -0.5  0.5 -0.5  0.5  0.5  0.5  0.5 -0.5  0.5\n",
      "  0.5  0.5  0.5  0.5 -0.5  0.5 -0.5  0.5 -0.5 -0.5  0.5  0.5 -0.5  0.5\n",
      "  0.5 -0.5 -0.5  0.5 -0.5  0.5  0.5  0.5  0.5  0.5 -0.5  0.5 -0.5  0.5] (type: <class 'numpy.ndarray'>)\u001b[0m\n",
      "[14/02/2025 02:22:28]\t->\u001b[0m[TEST 8] Time              : 0.000039 seconds\u001b[0m\n",
      "[14/02/2025 02:22:28]\t->\u001b[0m[TEST 8] --------------------------------------------------\u001b[0m\n",
      "[14/02/2025 02:22:28]\t->\u001b[34m[TEST 9] Test 9: Convert base representation back to integer: <class 'numpy.ndarray'>\u001b[0m\n",
      "[14/02/2025 02:22:28]\t->\u001b[0m[TEST 9] Base representation : [-0.5 -0.5 -0.5  0.5  0.5 -0.5  0.5 -0.5  0.5  0.5  0.5  0.5 -0.5  0.5\n",
      "  0.5  0.5  0.5  0.5 -0.5  0.5 -0.5  0.5 -0.5 -0.5  0.5  0.5 -0.5  0.5\n",
      "  0.5 -0.5 -0.5  0.5 -0.5  0.5  0.5  0.5  0.5  0.5 -0.5  0.5 -0.5  0.5] (type: <class 'numpy.ndarray'>)\u001b[0m\n",
      "[14/02/2025 02:22:28]\t->\u001b[0m[TEST 9] Recovered integer   : 463308285429 (type: <class 'int'>)\u001b[0m\n",
      "[14/02/2025 02:22:28]\t->\u001b[0m[TEST 9] Time                : 0.000026 seconds\u001b[0m\n",
      "[14/02/2025 02:22:28]\t->\u001b[0m[TEST 9] --------------------------------------------------\u001b[0m\n",
      "[14/02/2025 02:22:28]\t->\u001b[34m[TEST 10] Test 10: Flip all bits: <class 'int'>\u001b[0m\n",
      "[14/02/2025 02:22:28]\t->\u001b[0m[TEST 10] Input n : 000110101111011111010100110110010111110101\u001b[0m\n",
      "[14/02/2025 02:22:28]\t->\u001b[0m[TEST 10] Flipped : 111001010000100000101011001001101000001010\u001b[0m\n",
      "[14/02/2025 02:22:28]\t->\u001b[0m[TEST 10] Time    : 0.000002 seconds\u001b[0m\n",
      "[14/02/2025 02:22:28]\t->\u001b[0m[TEST 10] --------------------------------------------------\u001b[0m\n",
      "[14/02/2025 02:22:28]\t->\u001b[34m[TEST 11] Test 11: Flip a specific bit in integer: <class 'int'>\u001b[0m\n",
      "[14/02/2025 02:22:28]\t->\u001b[0m[TEST 11] Input n           : 000110101111011111010100110110010111110101\u001b[0m\n",
      "[14/02/2025 02:22:28]\t->\u001b[0m[TEST 11] Flipped bit at pos: 2 -> 000110101111011111010100110110010111110001\u001b[0m\n",
      "[14/02/2025 02:22:28]\t->\u001b[0m[TEST 11] Time              : 0.000003 seconds\u001b[0m\n",
      "[14/02/2025 02:22:28]\t->\u001b[0m[TEST 11] --------------------------------------------------\u001b[0m\n",
      "[14/02/2025 02:22:28]\t->\u001b[34m[TEST 12] Test 12: Flip a specific bit in base representation: <class 'numpy.ndarray'>\u001b[0m\n",
      "[14/02/2025 02:22:28]\t->\u001b[0m[TEST 12] Input base rep    : [-0.5 -0.5  0.5  0.5  0.5 -0.5  0.5 -0.5  0.5  0.5  0.5  0.5 -0.5  0.5\n",
      "  0.5  0.5  0.5  0.5 -0.5  0.5 -0.5  0.5 -0.5 -0.5  0.5  0.5 -0.5  0.5\n",
      "  0.5 -0.5 -0.5  0.5 -0.5  0.5  0.5  0.5  0.5  0.5 -0.5  0.5 -0.5  0.5] : <class 'numpy.ndarray'>\u001b[0m\n",
      "[14/02/2025 02:22:28]\t->\u001b[0m[TEST 12] Flipped bit at pos: 2 -> [-0.5 -0.5  0.5  0.5  0.5 -0.5  0.5 -0.5  0.5  0.5  0.5  0.5 -0.5  0.5\n",
      "  0.5  0.5  0.5  0.5 -0.5  0.5 -0.5  0.5 -0.5 -0.5  0.5  0.5 -0.5  0.5\n",
      "  0.5 -0.5 -0.5  0.5 -0.5  0.5  0.5  0.5  0.5  0.5 -0.5  0.5 -0.5  0.5] : <class 'numpy.ndarray'>\u001b[0m\n",
      "[14/02/2025 02:22:28]\t->\u001b[0m[TEST 12] Time              : 0.000004 seconds\u001b[0m\n",
      "[14/02/2025 02:22:28]\t->\u001b[0m[TEST 12] --------------------------------------------------\u001b[0m\n",
      "[14/02/2025 02:22:28]\t->\u001b[34m[TEST 13] Test 13: Rotate left (integer)\u001b[0m\n",
      "[14/02/2025 02:22:28]\t->\u001b[0m[TEST 13] Input n       : 000110101111011111010100110110010111110101\u001b[0m\n",
      "[14/02/2025 02:22:28]\t->\u001b[0m[TEST 13] Rotated left  : 001101011110111110101001101100101111101010\u001b[0m\n",
      "[14/02/2025 02:22:28]\t->\u001b[0m[TEST 13] Time          : 0.000002 seconds\u001b[0m\n",
      "[14/02/2025 02:22:28]\t->\u001b[0m[TEST 13] --------------------------------------------------\u001b[0m\n",
      "[14/02/2025 02:22:28]\t->\u001b[34m[TEST 14] Test 14: Rotate left (base representation): <class 'numpy.ndarray'>\u001b[0m\n",
      "[14/02/2025 02:22:28]\t->\u001b[0m[TEST 14] Input base rep: [-0.5 -0.5  0.5  0.5  0.5 -0.5  0.5 -0.5  0.5  0.5  0.5  0.5 -0.5  0.5\n",
      "  0.5  0.5  0.5  0.5 -0.5  0.5 -0.5  0.5 -0.5 -0.5  0.5  0.5 -0.5  0.5\n",
      "  0.5 -0.5 -0.5  0.5 -0.5  0.5  0.5  0.5  0.5  0.5 -0.5  0.5 -0.5  0.5] : <class 'numpy.ndarray'>\u001b[0m\n",
      "[14/02/2025 02:22:28]\t->\u001b[0m[TEST 14] Rotated left  : [-0.5  0.5  0.5  0.5 -0.5  0.5 -0.5  0.5  0.5  0.5  0.5 -0.5  0.5  0.5\n",
      "  0.5  0.5  0.5 -0.5  0.5 -0.5  0.5 -0.5 -0.5  0.5  0.5 -0.5  0.5  0.5\n",
      " -0.5 -0.5  0.5 -0.5  0.5  0.5  0.5  0.5  0.5 -0.5  0.5 -0.5  0.5 -0.5] : <class 'numpy.ndarray'>\u001b[0m\n",
      "[14/02/2025 02:22:28]\t->\u001b[0m[TEST 14] Time          : 0.000185 seconds\u001b[0m\n",
      "[14/02/2025 02:22:28]\t->\u001b[0m[TEST 14] --------------------------------------------------\u001b[0m\n",
      "[14/02/2025 02:22:28]\t->\u001b[34m[TEST 15] Test 15: Rotate right (integer)\u001b[0m\n",
      "[14/02/2025 02:22:28]\t->\u001b[0m[TEST 15] Input n        : 000110101111011111010100110110010111110101\u001b[0m\n",
      "[14/02/2025 02:22:28]\t->\u001b[0m[TEST 15] Rotated right  : 100011010111101111101010011011001011111010\u001b[0m\n",
      "[14/02/2025 02:22:28]\t->\u001b[0m[TEST 15] Time           : 0.000004 seconds\u001b[0m\n",
      "[14/02/2025 02:22:28]\t->\u001b[0m[TEST 15] --------------------------------------------------\u001b[0m\n",
      "[14/02/2025 02:22:28]\t->\u001b[34m[TEST 16] Test 16: Rotate right (base representation): <class 'numpy.ndarray'>\u001b[0m\n",
      "[14/02/2025 02:22:28]\t->\u001b[0m[TEST 16] Input base rep : [-0.5  0.5  0.5  0.5 -0.5  0.5 -0.5  0.5  0.5  0.5  0.5 -0.5  0.5  0.5\n",
      "  0.5  0.5  0.5 -0.5  0.5 -0.5  0.5 -0.5 -0.5  0.5  0.5 -0.5  0.5  0.5\n",
      " -0.5 -0.5  0.5 -0.5  0.5  0.5  0.5  0.5  0.5 -0.5  0.5 -0.5  0.5 -0.5] : <class 'numpy.ndarray'>\u001b[0m\n",
      "[14/02/2025 02:22:28]\t->\u001b[0m[TEST 16] Rotated right  : [-0.5 -0.5  0.5  0.5  0.5 -0.5  0.5 -0.5  0.5  0.5  0.5  0.5 -0.5  0.5\n",
      "  0.5  0.5  0.5  0.5 -0.5  0.5 -0.5  0.5 -0.5 -0.5  0.5  0.5 -0.5  0.5\n",
      "  0.5 -0.5 -0.5  0.5 -0.5  0.5  0.5  0.5  0.5  0.5 -0.5  0.5 -0.5  0.5] : <class 'numpy.ndarray'>\u001b[0m\n",
      "[14/02/2025 02:22:28]\t->\u001b[0m[TEST 16] Time           : 0.000052 seconds\u001b[0m\n",
      "[14/02/2025 02:22:28]\t->\u001b[0m[TEST 16] --------------------------------------------------\u001b[0m\n",
      "[14/02/2025 02:22:28]\t->\u001b[0m[TEST 0] ==================================================\u001b[0m\n",
      "[14/02/2025 02:22:28]\t->\u001b[32m[TEST 0] Total testing time: 0.004518 seconds\u001b[0m\n",
      "[14/02/2025 02:22:28]\t->\u001b[0m[TEST 0] ==================================================\u001b[0m\n",
      "[14/02/2025 02:22:28]\t->\u001b[32m[TEST 0] Testing completed.\u001b[0m\n"
     ]
    }
   ],
   "source": [
    "tests.run_tests(NUM, spin_value = binary._BACKENDREPR, backend = 'np')"
   ]
  },
  {
   "cell_type": "markdown",
   "metadata": {},
   "source": [
    "### Test JAX"
   ]
  },
  {
   "cell_type": "code",
   "execution_count": null,
   "metadata": {},
   "outputs": [],
   "source": [
    "from algebra import get_backend\n",
    "import time \n",
    "from jax import numpy as jnp, random as jnpr\n",
    "import numpy as np, numpy.random as npr\n",
    "from jax import jit\n",
    "\n",
    "seed = 1701\n",
    "\n",
    "# Test the speed of the matrix multiplication\n",
    "key_np = npr.seed(seed)\n",
    "key_jnp = jnpr.key(seed)\n",
    "size = 5000\n",
    "\n",
    "def matrix_mult_test_jax(size=size):\n",
    "    random_mat  = jnpr.normal(key_jnp, (size, size))\n",
    "    vec         = jnpr.normal(key_jnp, (size,))\n",
    "    result      = random_mat @ vec\n",
    "    print(\"Result of matrix-vector multiplication:\\n\", result)\n",
    "    \n",
    "def matrix_mult_test_numpy(size = size):\n",
    "    random_mat  = npr.normal(size=(size, size))\n",
    "    vec         = npr.normal(size=(size,))\n",
    "    result      = random_mat @ vec\n",
    "    print(\"Result of matrix-vector multiplication:\\n\", result)\n",
    "    \n",
    "@jit\n",
    "def matrix_mult_test_jax_jit():\n",
    "    random_mat  = jnpr.normal(key_jnp, (size, size))\n",
    "    vec         = jnpr.normal(key_jnp, (size,))\n",
    "    result      = random_mat @ vec\n",
    "    print(\"Result of matrix-vector multiplication:\\n\", result)\n"
   ]
  },
  {
   "cell_type": "markdown",
   "metadata": {},
   "source": [
    "#### Numpy"
   ]
  },
  {
   "cell_type": "code",
   "execution_count": null,
   "metadata": {},
   "outputs": [
    {
     "name": "stdout",
     "output_type": "stream",
     "text": [
      "Result of matrix-vector multiplication:\n",
      " [ -8.88432611  21.0377515  -48.17831994 ...  55.97818048  59.8701578\n",
      "  -4.3396083 ]\n",
      "Time taken: 0.5076 seconds (numpy)\n"
     ]
    }
   ],
   "source": [
    "start_time = time.time()\n",
    "matrix_mult_test_numpy()\n",
    "end_time = time.time()\n",
    "print(f\"Time taken: {end_time - start_time:.4f} seconds (numpy)\")"
   ]
  },
  {
   "cell_type": "markdown",
   "metadata": {},
   "source": [
    "#### Jax"
   ]
  },
  {
   "cell_type": "code",
   "execution_count": null,
   "metadata": {},
   "outputs": [
    {
     "name": "stdout",
     "output_type": "stream",
     "text": [
      "Result of matrix-vector multiplication:\n",
      " [ 36.282516   22.475544   -1.3575363 ...  41.09931    -3.48946\n",
      " -64.0355   ]\n",
      "Time taken: 0.0888 seconds (jax)\n"
     ]
    }
   ],
   "source": [
    "start_time = time.time()\n",
    "matrix_mult_test_jax()\n",
    "end_time = time.time()\n",
    "print(f\"Time taken: {end_time - start_time:.4f} seconds (jax)\")"
   ]
  },
  {
   "cell_type": "markdown",
   "metadata": {},
   "source": [
    "#### Jax jit"
   ]
  },
  {
   "cell_type": "code",
   "execution_count": null,
   "metadata": {},
   "outputs": [
    {
     "name": "stdout",
     "output_type": "stream",
     "text": [
      "Result of matrix-vector multiplication:\n",
      " Traced<ShapedArray(float32[5000])>with<DynamicJaxprTrace(level=1/0)>\n",
      "Time taken: 0.0180 seconds (jax, jitted)\n"
     ]
    }
   ],
   "source": [
    "start_time = time.time()\n",
    "matrix_mult_test_jax_jit()\n",
    "end_time = time.time()  \n",
    "print(f\"Time taken: {end_time - start_time:.4f} seconds (jax, jitted)\")"
   ]
  },
  {
   "cell_type": "markdown",
   "metadata": {},
   "source": [
    "# Lattice\n"
   ]
  },
  {
   "cell_type": "code",
   "execution_count": null,
   "metadata": {},
   "outputs": [
    {
     "name": "stderr",
     "output_type": "stream",
     "text": [
      "\n",
      "KeyboardInterrupt\n",
      "\n"
     ]
    }
   ],
   "source": [
    "from lattices import Lattice, run_lattice_tests\n",
    "\n",
    "# Run tests for different configurations\n",
    "# run_lattice_tests(dim=1, lx=10, ly=1, lz=1, bc=lattices.LatticeBC.PBC, typek=\"square\")\n",
    "# run_lattice_tests(dim=2, lx=5, ly=3, lz=1, bc=lattices.LatticeBC.PBC, typek=\"square\")\n",
    "# run_lattice_tests(dim=2, lx=5, ly=5, lz=1, bc=lattices.LatticeBC.OBC, typek=\"square\")\n",
    "# run_lattice_tests(dim=3, lx=3, ly=3, lz=3, bc=lattices.LatticeBC.PBC, typek=\"square\")\n",
    "run_lattice_tests(dim=2, lx=3, ly=2, lz=1, bc=lattices.LatticeBC.PBC, typek=\"honeycomb\")"
   ]
  },
  {
   "cell_type": "code",
   "execution_count": null,
   "metadata": {},
   "outputs": [
    {
     "name": "stdout",
     "output_type": "stream",
     "text": [
      "0.0 0.0\n",
      "Ns= 0 -- (x,y)= 0 0\n",
      "0.8660254037844386 0.5\n",
      "Ns= 1 -- (x,y)= 0 0\n",
      "1.7320508075688772 0.0\n",
      "Ns= 2 -- (x,y)= 1 0\n",
      "2.598076211353316 0.5\n",
      "Ns= 3 -- (x,y)= 1 0\n",
      "3.4641016151377544 0.0\n",
      "Ns= 4 -- (x,y)= 2 0\n",
      "6.06217782649107 0.5\n",
      "Ns= 5 -- (x,y)= 2 0\n",
      "5.196152422706632 0.0\n",
      "Ns= 6 -- (x,y)= 3 0\n",
      "11.258330249197702 0.5\n",
      "Ns= 7 -- (x,y)= 3 0\n",
      "0.8660254037844386 1.5\n",
      "Ns= 8 -- (x,y)= 0 1\n",
      "12.12435565298214 2.0\n",
      "Ns= 9 -- (x,y)= 0 1\n",
      "2.598076211353316 1.5\n",
      "Ns= 10 -- (x,y)= 1 1\n",
      "14.722431864335457 3.5\n",
      "Ns= 11 -- (x,y)= 1 1\n",
      "4.330127018922193 1.5\n",
      "Ns= 12 -- (x,y)= 2 1\n",
      "19.05255888325765 5.0\n",
      "Ns= 13 -- (x,y)= 2 1\n",
      "6.06217782649107 1.5\n",
      "Ns= 14 -- (x,y)= 3 1\n",
      "25.11473670974872 6.5\n",
      "Ns= 15 -- (x,y)= 3 1\n"
     ]
    },
    {
     "data": {
      "text/plain": [
       "<matplotlib.patches.FancyArrow at 0x16ccd9160>"
      ]
     },
     "execution_count": 41,
     "metadata": {},
     "output_type": "execute_result"
    },
    {
     "data": {
      "image/png": "[encoded data removed]",
      "text/plain": [
       "<Figure size 800x800 with 1 Axes>"
      ]
     },
     "metadata": {},
     "output_type": "display_data"
    }
   ],
   "source": [
    "import numpy as np \n",
    "import matplotlib.pyplot as plt\n",
    "\n",
    "plt.figure(figsize=(8,8))\n",
    "\n",
    "a = 1\n",
    "b = 1\n",
    "c = 1\n",
    "\n",
    "Lx = 4\n",
    "Ly = 2\n",
    "Ns = 2 * Lx * Ly\n",
    "\n",
    "_a1 = np.array([np.sqrt(3) * a / 2.0, 3 * a / 2.0, 0])\n",
    "_a2 = np.array([np.sqrt(3) * a / 2.0, -3 * a / 2.0, 0])\n",
    "_a3 = np.array([0, 0, c])\n",
    "\n",
    "\n",
    "\n",
    "coords      = []\n",
    "move_vector = _a1 - np.array([0, a, 0])\n",
    "for i in range(Ns):\n",
    "    # get the unit cell on a square lattic\n",
    "    x = (i // 2) % Lx\n",
    "    y = ((i//2) // Lx) % Ly\n",
    "    \n",
    "    # from coorditates to position on the lattice\n",
    "    xy = np.array([0., 0, 0]) if i % 2 == 0 else move_vector\n",
    "    xy += x * (_a1 + _a2) + y * _a1\n",
    "    xp, yp = xy[0], xy[1]\n",
    "    print(xp, yp)\n",
    "    plt.scatter(xp, yp, color='red' if i % 2 == 0 else 'blue', marker='o', s=100, facecolor='none')\n",
    "    plt.text(xp + 0.1, yp + 0.1, i)\n",
    "    \n",
    "    print(\"Ns=\", i, \"-- (x,y)=\", x, y)\n",
    "\n",
    "\n",
    "plt.arrow(0, 0, _a1[0], _a1[1], head_width=0.1, head_length=0.1, fc='r', ec='r')\n",
    "plt.arrow(0, 0, _a2[0], _a2[1], head_width=0.1, head_length=0.1, fc='b', ec='b')\n",
    "# plt.arrow(0, 0, _a1[0] - _a2[0], _a1[1] - _a2[1], head_width=0.1, head_length=0.1, fc='g', ec='g')\n",
    "# plt.arrow(0, 0, _a1[0] + _a2[0], _a1[1] + _a2[1], head_width=0.1, head_length=0.1, fc='y', ec='y')\n",
    "# plt.arrow(0, 0, -_a1[0] + _a2[0], -_a1[1] + _a2[1], head_width=0.1, head_length=0.1, fc='m', ec='m')\n",
    "# plt.arrow(0, 0, -_a1[0] - _a2[0], -_a1[1] - _a2[1], head_width=0.1, head_length=0.1, fc='c', ec='c')\n"
   ]
  },
  {
   "cell_type": "code",
   "execution_count": null,
   "metadata": {},
   "outputs": [],
   "source": []
  }
 ],
 "metadata": {
  "kernelspec": {
   "display_name": "base",
   "language": "python",
   "name": "python3"
  },
  "language_info": {
   "codemirror_mode": {
    "name": "ipython",
    "version": 3
   },
   "file_extension": ".py",
   "mimetype": "text/x-python",
   "name": "python",
   "nbconvert_exporter": "python",
   "pygments_lexer": "ipython3",
   "version": "3.11.5"
  }
 },
 "nbformat": 4,
 "nbformat_minor": 2
}
