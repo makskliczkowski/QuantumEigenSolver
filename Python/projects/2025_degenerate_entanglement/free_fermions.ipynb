{
 "cells": [
  {
   "cell_type": "code",
   "execution_count": 1,
   "id": "c693d008",
   "metadata": {},
   "outputs": [
    {
     "name": "stdout",
     "output_type": "stream",
     "text": [
      "/Users/makskliczkowski/Codes/QuantumEigenSolver/Python/Projects\n",
      "/Users/makskliczkowski/Codes/QuantumEigenSolver/Python\n"
     ]
    },
    {
     "name": "stderr",
     "output_type": "stream",
     "text": [
      "INFO:general_python.algebra.utils:63: JAX backend available and successfully imported\n",
      "INFO:general_python.algebra.utils:63: \tJAX 64-bit precision enabled.\n",
      "INFO:general_python.algebra.utils:63: \tJAX is available but not set as the active backend.\n",
      "INFO:general_python.algebra.utils:63: **************************************************\n",
      "INFO:general_python.algebra.utils:63: Backend Configuration:\n",
      "INFO:general_python.algebra.utils:63: \t\tNumPy Version: 2.1.3\n",
      "INFO:general_python.algebra.utils:63: \t\tSciPy Version: 1.15.2\n",
      "INFO:general_python.algebra.utils:63: \t\tJAX Version: 0.5.3\n",
      "INFO:general_python.algebra.utils:63: \t\tActive Backend: numpy\n",
      "INFO:general_python.algebra.utils:63: \t\t\tJAX Available: True\n",
      "INFO:general_python.algebra.utils:63: \t\t\tDefault Seed: 42\n",
      "INFO:general_python.algebra.utils:63: \t\tNumPy Backend Details:\n",
      "INFO:general_python.algebra.utils:63: \t\t\t\tMain Module: numpy\n",
      "INFO:general_python.algebra.utils:63: \t\t\t\tRandom Module: Generator\n",
      "INFO:general_python.algebra.utils:63: \t\t\t\tSciPy Module: scipy\n",
      "INFO:general_python.algebra.utils:63: \t\tActive Data Types:\n",
      "INFO:general_python.algebra.utils:63: \t\t\t\tInteger Type: int64\n",
      "INFO:general_python.algebra.utils:63: \t\t\t\tFloat Type: float64\n",
      "INFO:general_python.algebra.utils:63: \t\t\t\tComplex Type: complex128\n",
      "INFO:general_python.algebra.utils:63: \t\tHardware & Device Detection:\n",
      "INFO:general_python.algebra.utils:63: \t\t\tCPU Cores: 8\n",
      "INFO:general_python.algebra.utils:63: \t\t\tDetected JAX Platform: DETECTION FAILED\n",
      "INFO:general_python.algebra.utils:63: \t\tJAX Devices Found: Detection Failed or Not Run\n",
      "INFO:general_python.algebra.utils:63: **************************************************\n",
      "\n",
      "\n",
      "\n"
     ]
    }
   ],
   "source": [
    "import os\n",
    "import sys\n",
    "# os.environ[\"BACKEND\"] = \"numpy\"\n",
    "script_dir      = os.path.dirname(os.curdir)\n",
    "parent_dir      = os.path.abspath(os.path.join(script_dir, '..'))\n",
    "parent_dir_up   = os.path.abspath(os.path.join(parent_dir, '..'))\n",
    "if parent_dir_up not in sys.path:\n",
    "    sys.path.append(parent_dir_up)\n",
    "\n",
    "from QES.Algebra.Model.Noninteracting.Conserving.free_fermions import FreeFermions\n",
    "import numpy as np"
   ]
  },
  {
   "cell_type": "code",
   "execution_count": 13,
   "id": "1db3bada",
   "metadata": {},
   "outputs": [
    {
     "data": {
      "text/plain": [
       "FreeFermions(ns=12, t=1.0, constant_offset=0.0)"
      ]
     },
     "execution_count": 13,
     "metadata": {},
     "output_type": "execute_result"
    }
   ],
   "source": [
    "ns      = 12\n",
    "t       = 1.0\n",
    "backend = 'numpy'\n",
    "hamil   = FreeFermions(ns=ns, t = t, dtype = np.complex128, backend = backend, logger=None)\n",
    "hamil"
   ]
  },
  {
   "cell_type": "code",
   "execution_count": 14,
   "id": "5f91ece3",
   "metadata": {},
   "outputs": [
    {
     "data": {
      "text/plain": [
       "[<matplotlib.lines.Line2D at 0x312d49d00>]"
      ]
     },
     "execution_count": 14,
     "metadata": {},
     "output_type": "execute_result"
    },
    {
     "data": {
      "image/png": "[encoded data removed]",
      "text/plain": [
       "<Figure size 400x400 with 1 Axes>"
      ]
     },
     "metadata": {},
     "output_type": "display_data"
    }
   ],
   "source": [
    "from general_python.common.plot import Plotter\n",
    "\n",
    "fig, ax = Plotter.get_subplots(1, 1, sizex=4, sizey=4)\n",
    "k       = np.linspace(0, 2 * np.pi, hamil.ns)\n",
    "ax[0].plot(k, hamil.eig_val, '-o', markersize=2)"
   ]
  },
  {
   "cell_type": "code",
   "execution_count": 15,
   "id": "6cc0cca6",
   "metadata": {},
   "outputs": [
    {
     "name": "stdout",
     "output_type": "stream",
     "text": [
      "n_elements: 1\n",
      "\tall_combinations: 1\n",
      "n_elements: 12\n",
      "\tall_combinations: 12\n",
      "n_elements: 66\n",
      "\tall_combinations: 66\n",
      "n_elements: 220\n",
      "\tall_combinations: 220\n",
      "n_elements: 495\n",
      "\tall_combinations: 495\n",
      "n_elements: 792\n",
      "\tall_combinations: 792\n",
      "n_elements: 924\n",
      "\tall_combinations: 924\n",
      "n_elements: 792\n",
      "\tall_combinations: 792\n",
      "n_elements: 495\n",
      "\tall_combinations: 495\n",
      "n_elements: 220\n",
      "\tall_combinations: 220\n",
      "n_elements: 66\n",
      "\tall_combinations: 66\n",
      "n_elements: 12\n",
      "\tall_combinations: 12\n",
      "n_elements: 1\n",
      "\tall_combinations: 1\n",
      "nh: 4096\n"
     ]
    }
   ],
   "source": [
    "from scipy.special import comb\n",
    "from itertools import combinations\n",
    "\n",
    "def n_choose(n, k):\n",
    "    return comb(n, k)\n",
    "\n",
    "n_particles = 3\n",
    "arange      = list(range(hamil.ns))\n",
    "orbitals    = np.random.choice(arange, n_particles)\n",
    "energies    = []\n",
    "ns          = hamil.ns\n",
    "nh          = 0\n",
    "for i in range(ns + 1):\n",
    "    # go through all the orbitals combinations\n",
    "    n_elements = int(n_choose(ns, i))\n",
    "    print(f\"n_elements: {n_elements}\")\n",
    "    \n",
    "    all_combinations = list(combinations(arange, i))\n",
    "    \n",
    "    if len(all_combinations) == 0:\n",
    "        continue\n",
    "    print(f\"\\tall_combinations: {len(all_combinations)}\")\n",
    "    \n",
    "    for j in range(n_elements):\n",
    "        orbitals    = np.array(all_combinations[j])\n",
    "        energy      = hamil.many_body_energy(orbitals)\n",
    "        energies.append(energy)\n",
    "    # add\n",
    "    nh += n_elements\n",
    "print(f\"nh: {nh}\")"
   ]
  },
  {
   "cell_type": "code",
   "execution_count": 16,
   "id": "91195162",
   "metadata": {},
   "outputs": [
    {
     "data": {
      "text/plain": [
       "np.float64(-7.4641016151377535)"
      ]
     },
     "execution_count": 16,
     "metadata": {},
     "output_type": "execute_result"
    },
    {
     "data": {
      "image/png": "[encoded data removed]",
      "text/plain": [
       "<Figure size 400x400 with 1 Axes>"
      ]
     },
     "metadata": {},
     "output_type": "display_data"
    }
   ],
   "source": [
    "fig, ax     = Plotter.get_subplots(1, 1, sizex=4, sizey=4)\n",
    "energies    = np.sort(energies)\n",
    "ax[0].plot(energies / ns, '-o', markersize=2)\n",
    "\n",
    "energies[0]"
   ]
  },
  {
   "cell_type": "code",
   "execution_count": 19,
   "id": "bca7fa6e",
   "metadata": {},
   "outputs": [
    {
     "data": {
      "text/plain": [
       "(np.float64(-7.4641016151377535), 6)"
      ]
     },
     "execution_count": 19,
     "metadata": {},
     "output_type": "execute_result"
    }
   ],
   "source": [
    "energies_sp     = hamil.eig_val\n",
    "energies_sp_neg = energies_sp[energies_sp < 0]\n",
    "ground_state_occ= len(energies_sp_neg)\n",
    "ground_state    = np.sum(energies_sp_neg)\n",
    "ground_state, ground_state_occ"
   ]
  },
  {
   "cell_type": "code",
   "execution_count": null,
   "id": "64e1fcdb",
   "metadata": {},
   "outputs": [],
   "source": []
  }
 ],
 "metadata": {
  "kernelspec": {
   "display_name": "base",
   "language": "python",
   "name": "python3"
  },
  "language_info": {
   "codemirror_mode": {
    "name": "ipython",
    "version": 3
   },
   "file_extension": ".py",
   "mimetype": "text/x-python",
   "name": "python",
   "nbconvert_exporter": "python",
   "pygments_lexer": "ipython3",
   "version": "3.11.11"
  }
 },
 "nbformat": 4,
 "nbformat_minor": 5
}
