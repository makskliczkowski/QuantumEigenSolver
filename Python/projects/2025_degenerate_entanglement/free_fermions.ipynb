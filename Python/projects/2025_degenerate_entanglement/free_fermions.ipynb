{
 "cells": [
  {
   "cell_type": "code",
   "execution_count": 1,
   "id": "c693d008",
   "metadata": {},
   "outputs": [
    {
     "name": "stderr",
     "output_type": "stream",
     "text": [
      "INFO:general_python.algebra.utils:63: JAX backend available and successfully imported\n",
      "INFO:general_python.algebra.utils:63: \tJAX 64-bit precision enabled.\n",
      "INFO:general_python.algebra.utils:63: \tJAX is available but not set as the active backend.\n",
      "INFO:general_python.algebra.utils:63: **************************************************\n",
      "INFO:general_python.algebra.utils:63: Backend Configuration:\n",
      "INFO:general_python.algebra.utils:63: \t\tNumPy Version: 1.26.4\n",
      "INFO:general_python.algebra.utils:63: \t\tSciPy Version: 1.13.1\n",
      "INFO:general_python.algebra.utils:63: \t\tJAX Version: 0.5.3\n",
      "INFO:general_python.algebra.utils:63: \t\tActive Backend: numpy\n",
      "INFO:general_python.algebra.utils:63: \t\t\tJAX Available: True\n",
      "INFO:general_python.algebra.utils:63: \t\t\tDefault Seed: 42\n",
      "INFO:general_python.algebra.utils:63: \t\tNumPy Backend Details:\n",
      "INFO:general_python.algebra.utils:63: \t\t\t\tMain Module: numpy\n",
      "INFO:general_python.algebra.utils:63: \t\t\t\tRandom Module: Generator\n",
      "INFO:general_python.algebra.utils:63: \t\t\t\tSciPy Module: scipy\n",
      "INFO:general_python.algebra.utils:63: \t\tActive Data Types:\n",
      "INFO:general_python.algebra.utils:63: \t\t\t\tInteger Type: int64\n",
      "INFO:general_python.algebra.utils:63: \t\t\t\tFloat Type: float64\n",
      "INFO:general_python.algebra.utils:63: \t\t\t\tComplex Type: complex128\n",
      "INFO:general_python.algebra.utils:63: \t\tHardware & Device Detection:\n",
      "INFO:general_python.algebra.utils:63: \t\t\tCPU Cores: 48\n",
      "INFO:general_python.algebra.utils:63: \t\t\tDetected JAX Platform: DETECTION FAILED\n",
      "INFO:general_python.algebra.utils:63: \t\tJAX Devices Found: Detection Failed or Not Run\n",
      "INFO:general_python.algebra.utils:63: **************************************************\n",
      "\n",
      "\n",
      "\n"
     ]
    },
    {
     "name": "stdout",
     "output_type": "stream",
     "text": [
      "05_05_2025_10-56_38 [INFO] Starting the script\n"
     ]
    }
   ],
   "source": [
    "import numpy as np\n",
    "import os\n",
    "import sys\n",
    "os.environ[\"BACKEND\"]   = \"numpy\"\n",
    "script_dir              = os.path.dirname(os.curdir)\n",
    "parent_dir              = os.path.abspath(os.path.join(script_dir, '..'))\n",
    "parent_dir_up           = os.path.abspath(os.path.join(parent_dir, '..'))\n",
    "if parent_dir_up not in sys.path:\n",
    "    sys.path.append(parent_dir_up)\n",
    "\n",
    "from QES.Algebra.hamil_quadratic import QuadraticSelection                          # to select the orbital indices\n",
    "from QES.Algebra.Model.Noninteracting.Conserving.free_fermions import FreeFermions  # to generate the Hamiltonian\n",
    "from QES.general_python.common.binary import extract as Extractor                   # to handle binary strings\n",
    "from QES.general_python.common.binary import base2int, int2base, int2binstr         # to convert between binary strings and integers\n",
    "from QES.general_python.physics import entropy as Entropy, density_matrix as Dens   # to calculate the entanglement entropy and density matrix\n",
    "from QES.general_python.physics.sp import correlation_matrix as Corr                # to calculate the correlation matrix - single particle\n",
    "from QES.general_python.common.flog import Logger                                   # to log the results\n",
    "from QES.general_python.common.plot import Plotter                                  # to plot the results\n",
    "\n",
    "# make random generator\n",
    "rng     = np.random.default_rng(seed=42)\n",
    "backend = 'numpy'\n",
    "logger  = Logger(lvl = 'debug', use_ts_in_cmd=True)\n",
    "logger.info('Starting the script')"
   ]
  },
  {
   "cell_type": "markdown",
   "id": "577240c4",
   "metadata": {},
   "source": [
    "Create the Free Fermion Hamiltonian"
   ]
  },
  {
   "cell_type": "code",
   "execution_count": 2,
   "id": "1db3bada",
   "metadata": {},
   "outputs": [
    {
     "name": "stdout",
     "output_type": "stream",
     "text": [
      "05_05_2025_10-56_38 [INFO] Log file created: ./log/global_05_05_2025_10-56_38.log\n",
      "05_05_2025_10-56_38 [INFO] Log level set to: info\n",
      "05_05_2025_10-56_38 [INFO] ############Global logger initialized.############\n"
     ]
    },
    {
     "data": {
      "text/plain": [
       "FreeFermions(ns=12, t=1.0, constant_offset=0.0)"
      ]
     },
     "execution_count": 2,
     "metadata": {},
     "output_type": "execute_result"
    }
   ],
   "source": [
    "ns      = 12\n",
    "t       = 1.0\n",
    "backend = 'numpy'\n",
    "hamil   = FreeFermions(ns=ns, t = t, dtype = np.complex128, backend = backend, logger=logger)\n",
    "hamil"
   ]
  },
  {
   "cell_type": "markdown",
   "id": "1b4b97f4",
   "metadata": {},
   "source": [
    "### a) Plot the eigenenergies to see whether it is correct"
   ]
  },
  {
   "cell_type": "code",
   "execution_count": 3,
   "id": "5f91ece3",
   "metadata": {},
   "outputs": [
    {
     "data": {
      "image/png": "[encoded data removed]",
      "text/plain": [
       "<Figure size 400x300 with 1 Axes>"
      ]
     },
     "metadata": {},
     "output_type": "display_data"
    }
   ],
   "source": [
    "from QES.general_python.common.plot import Plotter\n",
    "\n",
    "fig, ax = Plotter.get_subplots(1, 1, sizex=4, sizey=3)\n",
    "k       = np.linspace(0, 2 * np.pi, hamil.ns)\n",
    "ax[0].plot(k / 2 / np.pi, hamil.eig_val, '-o', markersize=2)\n",
    "ax[0].set_xlabel('k (Wave Vector)')\n",
    "ax[0].set_ylabel('Eigenvalues')\n",
    "ax[0].set_title('Eigenvalues vs Wave Vector')\n",
    "ax[0].grid(True)"
   ]
  },
  {
   "cell_type": "markdown",
   "id": "a0e15d17",
   "metadata": {},
   "source": [
    "### b) Test whether the many body energies agree"
   ]
  },
  {
   "cell_type": "code",
   "execution_count": 40,
   "id": "6cc0cca6",
   "metadata": {},
   "outputs": [
    {
     "name": "stdout",
     "output_type": "stream",
     "text": [
      "Total number should be: 4096\n",
      "\tNumber of combinations for 0 particles: 1\n",
      "\tNumber of combinations for 1 particles: 12\n",
      "\tNumber of combinations for 2 particles: 66\n",
      "\tNumber of combinations for 3 particles: 220\n",
      "\tNumber of combinations for 4 particles: 495\n",
      "\tNumber of combinations for 5 particles: 792\n",
      "\tNumber of combinations for 6 particles: 924\n",
      "\tNumber of combinations for 7 particles: 792\n",
      "\tNumber of combinations for 8 particles: 495\n",
      "\tNumber of combinations for 9 particles: 220\n",
      "\tNumber of combinations for 10 particles: 66\n",
      "\tNumber of combinations for 11 particles: 12\n",
      "\tNumber of combinations for 12 particles: 1\n",
      "Total number of many-body states (nh): 4096\n"
     ]
    }
   ],
   "source": [
    "n_particles = 3\n",
    "arange      = np.arange(hamil.ns)\n",
    "energies    = []\n",
    "nh          = 0\n",
    "print(f\"Total number should be: {2**ns}\")\n",
    "for i in range(hamil.ns + 1):\n",
    "    # Calculate the number of combinations\n",
    "    n_elements = QuadraticSelection.all_orbitals_size(hamil.ns, i)\n",
    "    print(f\"\\tNumber of combinations for {i} particles: {n_elements}\")\n",
    "    \n",
    "    # Generate all combinations of orbitals\n",
    "    arange, all_combinations = QuadraticSelection.all_orbitals(arange, i)\n",
    "    \n",
    "    for orbitals in all_combinations:\n",
    "        orbitals = np.array(orbitals)\n",
    "        energy   = hamil.many_body_energy(orbitals)\n",
    "        energies.append(energy)\n",
    "    nh += n_elements\n",
    "print(f\"Total number of many-body states (nh): {nh}\")\n"
   ]
  },
  {
   "cell_type": "markdown",
   "id": "c6a1c0d6",
   "metadata": {},
   "source": [
    "### c) Plot the many body energies"
   ]
  },
  {
   "cell_type": "code",
   "execution_count": 41,
   "id": "91195162",
   "metadata": {},
   "outputs": [
    {
     "name": "stdout",
     "output_type": "stream",
     "text": [
      "Ground state energy: -7.4641016151377535\n",
      "Sanity: Ground state energy = -7.4641016151377535, Ground state occupancy = 6\n"
     ]
    },
    {
     "data": {
      "image/png": "[encoded data removed]",
      "text/plain": [
       "<Figure size 400x300 with 1 Axes>"
      ]
     },
     "metadata": {},
     "output_type": "display_data"
    }
   ],
   "source": [
    "fig, ax = Plotter.get_subplots(1, 1, sizex=4, sizey=3)\n",
    "\n",
    "# Sort and normalize the energies\n",
    "energies_sorted     = np.sort(energies)\n",
    "normalized_energies = energies_sorted / ns\n",
    "\n",
    "# Plot the normalized energies\n",
    "ax[0].plot(normalized_energies, '-o', markersize=2)\n",
    "ax[0].set_xlabel('State Index')\n",
    "ax[0].set_ylabel(r'$E / L$')\n",
    "ax[0].set_title('Normalized Many-Body Energies')\n",
    "ax[0].grid(True)\n",
    "\n",
    "# Display the ground state energy\n",
    "ground_state_energy = energies_sorted[0]\n",
    "print(f\"Ground state energy: {ground_state_energy}\")\n",
    "\n",
    "#! Sanity check\n",
    "# Extract single-particle energies and identify negative ones\n",
    "energies_sp         = hamil.eig_val\n",
    "energies_sp_neg     = energies_sp[energies_sp < 0]\n",
    "\n",
    "# Calculate the number of occupied states and the ground state energy\n",
    "ground_state_occ    = len(energies_sp_neg)\n",
    "ground_state        = np.sum(energies_sp_neg)\n",
    "\n",
    "# Perform a sanity check to ensure consistency with the many-body ground state energy\n",
    "assert np.isclose(ground_state, ground_state_energy), \"Sanity check failed: Ground state energies do not match.\"\n",
    "print(f\"Sanity: Ground state energy = {ground_state}, Ground state occupancy = {ground_state_occ}\")"
   ]
  },
  {
   "cell_type": "markdown",
   "id": "5a1cee7f",
   "metadata": {},
   "source": [
    "### d) Test the state extractor"
   ]
  },
  {
   "cell_type": "code",
   "execution_count": 42,
   "id": "64e1fcdb",
   "metadata": {},
   "outputs": [
    {
     "name": "stdout",
     "output_type": "stream",
     "text": [
      "[INFO] State A mask = (3400) 110101001000\n",
      "[INFO] State B mask = (695) 001010110111\n",
      "[INFO] \n",
      "Full (2178)    = \u001b[32m1\u001b[0m\u001b[32m0\u001b[0m\u001b[0m0\u001b[0m\u001b[32m0\u001b[0m\u001b[0m1\u001b[0m\u001b[32m0\u001b[0m\u001b[0m0\u001b[0m\u001b[0m0\u001b[0m\u001b[32m0\u001b[0m\u001b[0m0\u001b[0m\u001b[0m1\u001b[0m\u001b[0m0\u001b[0m\n",
      "[INFO]   State A bits      = \u001b[32m00001\u001b[0m\n",
      "[INFO]   State B bits      = \u001b[0m0100010\u001b[0m\n",
      "[INFO]   A scalar-mask : 10000   [7.3 µs]\n",
      "[INFO]   B scalar‑mask : 0100010   [6.2 µs]\n",
      "[INFO]   A vector‑mask : 10000   [10.9 µs]\n",
      "[INFO]   B vector‑mask : 0100010   [1.7 µs]\n",
      "[INFO] ++++++++++++++++++++++++++++++++++++++++++++++++++\n",
      "\n",
      "[INFO] \n",
      "Full (1947)    = \u001b[32m0\u001b[0m\u001b[32m1\u001b[0m\u001b[0m1\u001b[0m\u001b[32m1\u001b[0m\u001b[0m1\u001b[0m\u001b[32m0\u001b[0m\u001b[0m0\u001b[0m\u001b[0m1\u001b[0m\u001b[32m1\u001b[0m\u001b[0m0\u001b[0m\u001b[0m1\u001b[0m\u001b[0m1\u001b[0m\n",
      "[INFO]   State A bits      = \u001b[32m10110\u001b[0m\n",
      "[INFO]   State B bits      = \u001b[0m1101011\u001b[0m\n",
      "[INFO]   A scalar-mask : 01101   [4.9 µs]\n",
      "[INFO]   B scalar‑mask : 1101011   [4.8 µs]\n",
      "[INFO]   A vector‑mask : 01101   [8.0 µs]\n",
      "[INFO]   B vector‑mask : 1101011   [3.2 µs]\n",
      "[INFO] ++++++++++++++++++++++++++++++++++++++++++++++++++\n",
      "\n",
      "[INFO] \n",
      "Full (2286)    = \u001b[32m1\u001b[0m\u001b[32m0\u001b[0m\u001b[0m0\u001b[0m\u001b[32m0\u001b[0m\u001b[0m1\u001b[0m\u001b[32m1\u001b[0m\u001b[0m1\u001b[0m\u001b[0m0\u001b[0m\u001b[32m1\u001b[0m\u001b[0m1\u001b[0m\u001b[0m1\u001b[0m\u001b[0m0\u001b[0m\n",
      "[INFO]   State A bits      = \u001b[32m11001\u001b[0m\n",
      "[INFO]   State B bits      = \u001b[0m0110110\u001b[0m\n",
      "[INFO]   A scalar-mask : 10011   [3.2 µs]\n",
      "[INFO]   B scalar‑mask : 0110110   [3.7 µs]\n",
      "[INFO]   A vector‑mask : 10011   [1.6 µs]\n",
      "[INFO]   B vector‑mask : 0110110   [2.6 µs]\n",
      "[INFO] ++++++++++++++++++++++++++++++++++++++++++++++++++\n",
      "\n"
     ]
    }
   ],
   "source": [
    "size        = ns\n",
    "size_a      = 5\n",
    "mask_a      = [0, 1, 3, 5, 8]\n",
    "mask_a_e    = Extractor.prepare_mask(mask_a, size)\n",
    "\n",
    "Extractor.test(size, size_a, mask_a_e, nsamples=3)"
   ]
  },
  {
   "cell_type": "markdown",
   "id": "56b11e27",
   "metadata": {},
   "source": [
    "### e) Reduced density matrix for a given state from the Hamiltonian"
   ]
  },
  {
   "cell_type": "code",
   "execution_count": 10,
   "id": "957ca756",
   "metadata": {},
   "outputs": [
    {
     "name": "stdout",
     "output_type": "stream",
     "text": [
      "05_05_2025_10-56_48 [INFO] Mask for the lattice positions on A: [0 1 2 3 4]\n",
      "05_05_2025_10-56_48 [INFO] \t->Mask for the lattice positions on A (one-hot): [ True  True  True  True  True False False False False False False False]\n",
      "05_05_2025_10-56_48 [INFO] Mask for the lattice positions on B: [ 5  6  7  8  9 10 11]\n",
      "05_05_2025_10-56_48 [INFO] \t->Mask for the lattice positions on B (one-hot): [False False False False False  True  True  True  True  True  True  True]\n",
      "05_05_2025_10-56_48 [INFO] \t->Order of the mask: (0, 1, 2, 3, 4, 5, 6, 7, 8, 9, 10, 11)\n",
      "05_05_2025_10-56_48 [INFO] \u001b[32m++++++++++++++++++++Small test++++++++++++++++++++\u001b[0m\n",
      "05_05_2025_10-56_48 [INFO] \t->State to extract: 2290:\u001b[32m1\u001b[0m\u001b[32m0\u001b[0m\u001b[32m0\u001b[0m\u001b[32m0\u001b[0m\u001b[32m1\u001b[0m\u001b[0m1\u001b[0m\u001b[0m1\u001b[0m\u001b[0m1\u001b[0m\u001b[0m0\u001b[0m\u001b[0m0\u001b[0m\u001b[0m1\u001b[0m\u001b[0m0\u001b[0m\n",
      "05_05_2025_10-56_48 [INFO] \t\t->\u001b[32mMask for the lattice positions on A (extracted): 17:10001\u001b[0m\n",
      "05_05_2025_10-56_48 [INFO] \t\t->\u001b[0mMask for the lattice positions on B (extracted): 114:1110010\u001b[0m\n",
      "05_05_2025_10-56_48 [INFO] \t\t->Execution time: 2.2104e-03 seconds\n",
      "05_05_2025_10-56_48 [INFO] \u001b[32m+++++++++++++++++++++Finished+++++++++++++++++++++\u001b[0m\n",
      "05_05_2025_10-56_48 [INFO] \t\t->Shape of W: (12, 12)\n",
      "05_05_2025_10-56_48 [INFO] \t\t\t->Shape of W_A: (12, 5)\n",
      "05_05_2025_10-56_48 [INFO] \t\t\t->Shape of W_A_CT: (5, 12)\n",
      "05_05_2025_10-56_48 [INFO] \t\t\t->\u001b[33mExecution time: 5.4526e-04 seconds\u001b[0m\n",
      "05_05_2025_10-56_48 [INFO] \t->\u001b[31mProcessing sample 1/2\u001b[0m\n",
      "05_05_2025_10-56_48 [INFO] \t\t->Randomly selected orbitals: [0 2 4 6 9]\n",
      "05_05_2025_10-56_48 [INFO] \t\t\t->Randomly selected orbitals (one-hot): [ True False  True False  True False  True False False  True False False]\n",
      "05_05_2025_10-56_48 [INFO] \t\t\t->Randomly selected orbitals (int): 2724\n",
      "05_05_2025_10-56_48 [INFO] \t\t\t->Randomly selected orbitals (binary): 101010100100\n",
      "05_05_2025_10-56_48 [INFO] \t\t\t->\u001b[33mExecution time: 1.0107e-03 seconds\u001b[0m\n",
      "05_05_2025_10-56_48 [INFO] \t\t->\u001b[32mEntropy from single-particle correlation: 3.1485e+00\u001b[0m\n",
      "05_05_2025_10-56_48 [INFO] \t\t\t->\u001b[33mExecution time: 3.9315e-04 seconds\u001b[0m\n",
      "05_05_2025_10-56_48 [INFO] \t\t\t\t->\u001b[33mExecution time for correlation matrix calculation: 5.6505e-05 seconds\u001b[0m\n",
      "05_05_2025_10-56_48 [INFO] \t\t->\u001b[34mEntropy from many-body state: 3.1485e+00\u001b[0m\n",
      "05_05_2025_10-56_48 [INFO] \t\t\t->\u001b[33mExecution time: 3.4170e-03 seconds\u001b[0m\n",
      "05_05_2025_10-56_48 [INFO] \t\t\t\t->\u001b[33mExecution time for many body state preparation: 2.6896e-03 seconds\u001b[0m\n",
      "05_05_2025_10-56_48 [INFO] \t\t\t\t->\u001b[33mExecution time for density matrix calculation: 1.0767e-03 seconds\u001b[0m\n",
      "05_05_2025_10-56_48 [INFO] \t\t->\u001b[0mDifference between entropies: 0.0000e+00\u001b[0m\n",
      "05_05_2025_10-56_48 [INFO] \t->\u001b[31mProcessing sample 2/2\u001b[0m\n",
      "05_05_2025_10-56_48 [INFO] \t\t->Randomly selected orbitals: [0 2 3 8 9]\n",
      "05_05_2025_10-56_48 [INFO] \t\t\t->Randomly selected orbitals (one-hot): [ True False  True  True False False False False  True  True False False]\n",
      "05_05_2025_10-56_48 [INFO] \t\t\t->Randomly selected orbitals (int): 2828\n",
      "05_05_2025_10-56_48 [INFO] \t\t\t->Randomly selected orbitals (binary): 101100001100\n",
      "05_05_2025_10-56_48 [INFO] \t\t\t->\u001b[33mExecution time: 6.8235e-04 seconds\u001b[0m\n",
      "05_05_2025_10-56_48 [INFO] \t\t->\u001b[32mEntropy from single-particle correlation: 2.2698e+00\u001b[0m\n",
      "05_05_2025_10-56_48 [INFO] \t\t\t->\u001b[33mExecution time: 5.4383e-04 seconds\u001b[0m\n",
      "05_05_2025_10-56_48 [INFO] \t\t\t\t->\u001b[33mExecution time for correlation matrix calculation: 3.9577e-05 seconds\u001b[0m\n",
      "05_05_2025_10-56_48 [INFO] \t\t->\u001b[34mEntropy from many-body state: 2.2698e+00\u001b[0m\n",
      "05_05_2025_10-56_48 [INFO] \t\t\t->\u001b[33mExecution time: 4.6456e-03 seconds\u001b[0m\n",
      "05_05_2025_10-56_48 [INFO] \t\t\t\t->\u001b[33mExecution time for many body state preparation: 3.9203e-03 seconds\u001b[0m\n",
      "05_05_2025_10-56_48 [INFO] \t\t\t\t->\u001b[33mExecution time for density matrix calculation: 9.9325e-04 seconds\u001b[0m\n",
      "05_05_2025_10-56_48 [INFO] \t\t->\u001b[0mDifference between entropies: 1.7764e-15\u001b[0m\n",
      "05_05_2025_10-56_48 [INFO] \u001b[32m+++++++++++++++++++++Finished+++++++++++++++++++++\u001b[0m\n",
      "05_05_2025_10-56_48 [INFO] \u001b[31mTotal execution time: 1.9666e-02 s : 9.8339e-03 s/S\u001b[0m\n",
      "05_05_2025_10-56_48 [INFO] Average entropy from single-particle correlation: 2.7091e+00\n",
      "05_05_2025_10-56_48 [INFO] Average entropy from many-body state: 2.7091e+00\n"
     ]
    }
   ],
   "source": [
    "import time\n",
    "import numpy as np\n",
    "\n",
    "#! This script is used to test the performance of the correlation matrix and the many-body state\n",
    "ns                      = 12\n",
    "t                       = 1.0\n",
    "backend                 = 'numpy'\n",
    "hamil                   = FreeFermions(ns=ns, t = t, dtype = np.complex128, backend = backend, logger=logger)\n",
    "\n",
    "# Number of samples to generate\n",
    "num_samples             = 2\n",
    "n_occupation            = 5\n",
    "ordered                 = True\n",
    "\n",
    "# Performance measurement\n",
    "start_total             = time.time()\n",
    "\n",
    "# Block 1: Mask preparation\n",
    "dimA                    = 2**n_occupation\n",
    "dimB                    = 2**(hamil.ns - n_occupation)\n",
    "\n",
    "# Generate a random mask for the lattice positions\n",
    "if ordered:\n",
    "    mask_a              = np.arange(n_occupation)\n",
    "else:\n",
    "    mask_a              = np.sort(rng.choice(np.arange(hamil.ns), n_occupation, replace=False))\n",
    "mask_b                  = np.setdiff1d(np.arange(hamil.ns), mask_a)\n",
    "order                   = tuple(mask_a) + tuple(mask_b)\n",
    "mask_a_extractor        = Extractor.make_extractor(mask_a, size=hamil.ns, backend='numba_vnb')\n",
    "mask_b_extractor        = Extractor.make_extractor(mask_b, size=hamil.ns, backend='numba_vnb')\n",
    "mask_a_onehot           = Extractor.to_one_hot(mask_a, hamil.ns)\n",
    "mask_b_onehot           = Extractor.to_one_hot(mask_b, hamil.ns)\n",
    "\n",
    "# test the extractor\n",
    "state_to_extract        = rng.integers(0, 2**hamil.ns)\n",
    "state_to_extract_str    = int2binstr(state_to_extract, hamil.ns)\n",
    "state_to_extract_col    = Extractor.colorize_extractor(state_to_extract_str, mask_a, mask_b, logger)\n",
    "state_ext_a             = mask_a_extractor(state_to_extract)\n",
    "state_ext_b             = mask_b_extractor(state_to_extract)\n",
    "start_block             = time.time()\n",
    "logger.info(f\"Mask for the lattice positions on A: {mask_a}\", lvl=0)\n",
    "logger.info(f\"Mask for the lattice positions on A (one-hot): {mask_a_onehot}\", lvl=1)\n",
    "logger.info(f\"Mask for the lattice positions on B: {mask_b}\", lvl=0)\n",
    "logger.info(f\"Mask for the lattice positions on B (one-hot): {mask_b_onehot}\", lvl=1)\n",
    "logger.info(f\"Order of the mask: {order}\", lvl=1)\n",
    "logger.title(\"Small test\", desired_size=50, fill='+', color='green')\n",
    "logger.info(f\"State to extract: {state_to_extract}:{state_to_extract_col}\", lvl=1)\n",
    "logger.info(f\"Mask for the lattice positions on A (extracted): {state_ext_a}:{int2binstr(state_ext_a, n_occupation)}\", lvl=2, color='green')\n",
    "logger.info(f\"Mask for the lattice positions on B (extracted): {state_ext_b}:{int2binstr(state_ext_b, hamil.ns - n_occupation)}\", lvl=2, color='white')\n",
    "logger.info(f\"Execution time: {time.time() - start_block:.4e} seconds\", lvl=2)\n",
    "logger.title(\"Finished\", desired_size=50, fill='+', color='green')\n",
    "\n",
    "# Initialize lists to store results\n",
    "entropies_correlation   = []\n",
    "entropies_many_body     = []\n",
    "\n",
    "# Block 2: Transformation matrix preparation\n",
    "start_block             = time.time()\n",
    "W, W_A, W_A_CT          = hamil.prepare_transformation(mask_a_onehot)\n",
    "logger.info(f\"Shape of W: {W.shape}\", lvl=2)\n",
    "logger.info(f\"Shape of W_A: {W_A.shape}\", lvl=3)\n",
    "logger.info(f\"Shape of W_A_CT: {W_A_CT.shape}\", lvl=3)\n",
    "logger.info(f\"Execution time: {time.time() - start_block:.4e} seconds\", lvl=3, color = 'yellow')\n",
    "\n",
    "for sample_idx in range(num_samples):\n",
    "    logger.info(f\"Processing sample {sample_idx + 1}/{num_samples}\", lvl=1, color='red')\n",
    "    many_body_state         = np.zeros((2**hamil.ns), dtype=np.complex128)\n",
    "\n",
    "    # Block 3: Random orbital generation\n",
    "    start_block             = time.time()\n",
    "    arange, orb_4_mb_state  = QuadraticSelection.ran_orbitals(hamil.ns, n_occupation, rng=rng)\n",
    "    orb_4_mb_state          = np.sort(orb_4_mb_state)\n",
    "    orb_4_mb_state_1_hot    = Extractor.to_one_hot(orb_4_mb_state, hamil.ns)\n",
    "    orb_4_mb_state_binary   = base2int(orb_4_mb_state_1_hot)\n",
    "    logger.info(f\"Randomly selected orbitals: {orb_4_mb_state}\", lvl=2)\n",
    "    logger.info(f\"Randomly selected orbitals (one-hot): {orb_4_mb_state_1_hot}\", lvl=3)\n",
    "    logger.info(f\"Randomly selected orbitals (int): {orb_4_mb_state_binary}\", lvl=3)\n",
    "    logger.info(f\"Randomly selected orbitals (binary): {int2binstr(orb_4_mb_state_binary, hamil.ns)}\", lvl=3)\n",
    "    logger.info(f\"Execution time: {time.time() - start_block:.4e} seconds\", lvl=3, color = 'yellow')\n",
    "\n",
    "    # Block 4: Correlation matrix calculation\n",
    "    start_block             = time.time()\n",
    "    correlation_matrix      = Corr.corr_single(W_A, orb_4_mb_state_1_hot, W_A_CT=W_A_CT, raw=True, subtract_identity=True)\n",
    "    start_block_2           = time.time()\n",
    "    corr_val, _             = np.linalg.eigh(correlation_matrix)\n",
    "    entropy_correlation     = Entropy.entropy(corr_val, typek=Entropy.Entanglement.SINGLE)\n",
    "    entropies_correlation.append(entropy_correlation)\n",
    "    logger.info(f\"Entropy from single-particle correlation: {entropy_correlation:.4e}\", lvl=2, color='green')\n",
    "    logger.info(f\"Execution time: {time.time() - start_block:.4e} seconds\", lvl=3, color='yellow')\n",
    "    logger.info(f\"Execution time for correlation matrix calculation: {start_block_2 - start_block:.4e} seconds\", lvl=4, color='yellow')\n",
    "\n",
    "    # Block 5: Many-body state and density matrix calculation\n",
    "    start_block             = time.time()\n",
    "    many_body_state         = hamil.many_body_state(orb_4_mb_state, resulting_state=many_body_state)\n",
    "    start_block_2           = time.time()\n",
    "    # red_dens_mat_schmidt, _ = Dens.schmidt_numba(many_body_state, dimA=dimA, dimB=dimB, eig=False)\n",
    "    red_dens_mat_schmidt, _ = Dens.schmidt_numba_mask(psi = Dens.rho_numba_mask(many_body_state, order, n_occupation),\n",
    "                                                    order = order, size_a = n_occupation, eig = True)\n",
    "    entropy_many_body       = Entropy.entropy(red_dens_mat_schmidt, typek=Entropy.Entanglement.VN)\n",
    "    entropies_many_body.append(entropy_many_body)\n",
    "    logger.info(f\"Entropy from many-body state: {entropy_many_body:.4e}\", lvl=2, color='blue')\n",
    "    logger.info(f\"Execution time: {time.time() - start_block:.4e} seconds\", lvl=3, color='yellow')\n",
    "    logger.info(f\"Execution time for many body state preparation: {start_block_2 - start_block:.4e} seconds\", lvl=4, color='yellow')\n",
    "    logger.info(f\"Execution time for density matrix calculation: {time.time() - start_block_2:.4e} seconds\", lvl=4, color='yellow')\n",
    "\n",
    "    # Block 6: Check the difference between the two entropies\n",
    "    diff_entropy            = np.abs(entropy_correlation - entropy_many_body)\n",
    "    logger.info(f\"Difference between entropies: {diff_entropy:.4e}\", lvl=2, color='white')\n",
    "\n",
    "logger.title(\"Finished\", desired_size=50, fill='+', color='green')\n",
    "logger.info(f\"Total execution time: {time.time() - start_total:.4e} s : {(time.time() - start_total) / num_samples:.4e} s/S\", lvl=0, color = 'red')\n",
    "\n",
    "# Display summary statistics\n",
    "logger.info(f\"Average entropy from single-particle correlation: {np.mean(entropies_correlation):.4e}\", lvl=0)\n",
    "logger.info(f\"Average entropy from many-body state: {np.mean(entropies_many_body):.4e}\", lvl=0)\n"
   ]
  },
  {
   "cell_type": "markdown",
   "id": "3ff859cf",
   "metadata": {},
   "source": [
    "### f) Try to generate a mixed state with a given entropy and try to minimize it."
   ]
  },
  {
   "cell_type": "code",
   "execution_count": 11,
   "id": "ba531e94",
   "metadata": {},
   "outputs": [],
   "source": [
    "#! This script is used to test the performance of the correlation matrix and the many-body state\n",
    "ns                      = 12\n",
    "nh                      = 2**ns\n",
    "t                       = 1.0\n",
    "hamil                   = FreeFermions(ns=ns, t=t, dtype=np.complex128, backend=backend, logger=logger)\n",
    "n_occupation            = 5\n",
    "f                       = n = n_occupation / hamil.ns\n",
    "\n",
    "mask_d                  = QuadraticSelection.mask_orbitals(hamil.ns, n_occupation, ordered=True, rng=rng, return_b=True)\n",
    "W, W_A, W_A_CT          = hamil.prepare_transformation(mask_d['mask_a_1h'])\n",
    "page_value              = Entropy.EntropyPredictions.mean.page_u1_th(f=f, n=n, L=hamil.ns)\n",
    "quadratic_chaotic       = Entropy.EntropyPredictions.mean.quadratic_chaotic(L=ns, f=f)\n",
    "\n",
    "############################\n",
    "many_body_energies      = hamil.many_body_energies(n_occupation, nh = nh)\n",
    "sorted_energies         = sorted(many_body_energies.items(), key=lambda x: x[1])\n",
    "binned_energies         = QuadraticSelection.bin_energies(sorted_energies, digits=12)\n",
    "\n",
    "# energy manifolds\n",
    "man_energies, man_energies_v = QuadraticSelection.man_energies(binned_energies, dtype=hamil.dtypeint)"
   ]
  },
  {
   "cell_type": "markdown",
   "id": "06f8d075",
   "metadata": {},
   "source": [
    "##### Sanity checks"
   ]
  },
  {
   "cell_type": "code",
   "execution_count": 12,
   "id": "d4dc0aa5",
   "metadata": {},
   "outputs": [
    {
     "name": "stdout",
     "output_type": "stream",
     "text": [
      "05_05_2025_10-57_41 [INFO] \t->Number of many-body states (2^ns): 4096\n",
      "05_05_2025_10-57_41 [INFO] \t\t->\u001b[31mNumber of many-body states: 792\u001b[0m\n",
      "05_05_2025_10-57_41 [INFO] \t\t->\u001b[34mNumber of many-body states in the U(1) symmetry sector: 792\u001b[0m\n",
      "05_05_2025_10-57_41 [INFO] \t->Number of unique energy levels in sorted_energies: 344\n",
      "05_05_2025_10-57_41 [INFO] \t->Number of unique energy levels in bins: 45 (12 digits cut)\n",
      "05_05_2025_10-57_41 [INFO] \t->Total states across energy manifolds: 792\n",
      "05_05_2025_10-57_41 [INFO] \t->All energy values match between `sorted_energies` and `many_body_energies`.\n",
      "05_05_2025_10-57_41 [INFO] \u001b[32mSanity checks passed successfully!\u001b[0m\n"
     ]
    }
   ],
   "source": [
    "# Sanity checks\n",
    "expected_states = QuadraticSelection.all_orbitals_size(hamil.ns, n_occupation)\n",
    "logger.info(f\"Number of many-body states (2^ns): {2**ns}\", lvl=1)\n",
    "logger.info(f\"Number of many-body states: {len(sorted_energies)}\", lvl=2, color='red')\n",
    "logger.info(f\"Number of many-body states in the U(1) symmetry sector: {expected_states}\", lvl=2, color='blue')\n",
    "assert len(sorted_energies) == expected_states, \"Mismatch in the total number of many-body states!\"\n",
    "\n",
    "# Validate energy values\n",
    "unique_energies     = set(energy for _, energy in sorted_energies)\n",
    "unique_energies_len = len(unique_energies)\n",
    "binned_energies_len = len(binned_energies)\n",
    "logger.info(f\"Number of unique energy levels in sorted_energies: {unique_energies_len}\", lvl=1)\n",
    "logger.info(f\"Number of unique energy levels in bins: {binned_energies_len} (12 digits cut)\", lvl=1)\n",
    "# assert len(unique_energies) == binned_energies_len, \"Mismatch in the number of unique energy levels!\"\n",
    "\n",
    "# Verify energy manifold counts\n",
    "manifold_counts = sum(man_energies.values())\n",
    "logger.info(f\"Total states across energy manifolds: {manifold_counts}\", lvl=1)\n",
    "assert manifold_counts == len(sorted_energies), \"Mismatch in the total states across energy manifolds!\"\n",
    "\n",
    "# Check if the energy values in `sorted_energies` match `many_body_energies`\n",
    "for state, energy in sorted_energies:\n",
    "    assert np.isclose(many_body_energies[state], energy), f\"Energy mismatch for state {state}!\"\n",
    "logger.info(\"All energy values match between `sorted_energies` and `many_body_energies`.\", lvl=1)\n",
    "logger.info(\"Sanity checks passed successfully!\", lvl=0, color='green')"
   ]
  },
  {
   "cell_type": "markdown",
   "id": "0c52c26c",
   "metadata": {},
   "source": [
    "##### Selection"
   ]
  },
  {
   "cell_type": "code",
   "execution_count": 13,
   "id": "703957b6",
   "metadata": {},
   "outputs": [
    {
     "name": "stdout",
     "output_type": "stream",
     "text": [
      "05_05_2025_10-57_43 [INFO] Randomly selected energy manifold: 7\n",
      "05_05_2025_10-57_43 [INFO] Randomly selected energy manifold energies: [-5.464101615138, -1.464101615138, 1.464101615138, 5.464101615138]\n",
      "05_05_2025_10-57_43 [INFO] Randomly selected energy manifold: -1.464101615138\n",
      "05_05_2025_10-57_43 [INFO] Those are the states: [1697, 1317, 1417, 1577, 1165, 1187, 1067]\n",
      "05_05_2025_10-57_43 [INFO] \t->State 0: 1697 - energy (sanity) = -1.4641016151377548\n",
      "05_05_2025_10-57_43 [INFO] \t\t\t->\u001b[32mEntropy from single-particle correlation: 2.6765e+00\u001b[0m\n",
      "05_05_2025_10-57_43 [INFO] \t\t\t->\u001b[34mEntropy from many-body state: 2.6765e+00\u001b[0m\n",
      "05_05_2025_10-57_43 [INFO] \t\t\t\t->\u001b[0mDifference between entropies: 4.4409e-16\u001b[0m\n",
      "05_05_2025_10-57_43 [INFO] \t->State 1: 1317 - energy (sanity) = -1.464101615137754\n",
      "05_05_2025_10-57_43 [INFO] \t\t\t->\u001b[32mEntropy from single-particle correlation: 3.1485e+00\u001b[0m\n",
      "05_05_2025_10-57_43 [INFO] \t\t\t->\u001b[34mEntropy from many-body state: 3.1485e+00\u001b[0m\n",
      "05_05_2025_10-57_43 [INFO] \t\t\t\t->\u001b[0mDifference between entropies: 4.4409e-16\u001b[0m\n",
      "05_05_2025_10-57_43 [INFO] \t->State 2: 1417 - energy (sanity) = -1.464101615137754\n",
      "05_05_2025_10-57_43 [INFO] \t\t\t->\u001b[32mEntropy from single-particle correlation: 2.7221e+00\u001b[0m\n",
      "05_05_2025_10-57_43 [INFO] \t\t\t->\u001b[34mEntropy from many-body state: 2.7221e+00\u001b[0m\n",
      "05_05_2025_10-57_43 [INFO] \t\t\t\t->\u001b[0mDifference between entropies: 0.0000e+00\u001b[0m\n",
      "05_05_2025_10-57_43 [INFO] \t->State 3: 1577 - energy (sanity) = -1.4641016151377535\n",
      "05_05_2025_10-57_43 [INFO] \t\t\t->\u001b[32mEntropy from single-particle correlation: 2.7394e+00\u001b[0m\n",
      "05_05_2025_10-57_43 [INFO] \t\t\t->\u001b[34mEntropy from many-body state: 2.7394e+00\u001b[0m\n",
      "05_05_2025_10-57_43 [INFO] \t\t\t\t->\u001b[0mDifference between entropies: 4.4409e-16\u001b[0m\n",
      "05_05_2025_10-57_43 [INFO] \t->State 4: 1165 - energy (sanity) = -1.4641016151377533\n",
      "05_05_2025_10-57_43 [INFO] \t\t\t->\u001b[32mEntropy from single-particle correlation: 2.7221e+00\u001b[0m\n",
      "05_05_2025_10-57_43 [INFO] \t\t\t->\u001b[34mEntropy from many-body state: 2.7221e+00\u001b[0m\n",
      "05_05_2025_10-57_43 [INFO] \t\t\t\t->\u001b[0mDifference between entropies: 1.3323e-15\u001b[0m\n",
      "05_05_2025_10-57_43 [INFO] \t->State 5: 1187 - energy (sanity) = -1.4641016151377533\n",
      "05_05_2025_10-57_43 [INFO] \t\t\t->\u001b[32mEntropy from single-particle correlation: 2.7394e+00\u001b[0m\n",
      "05_05_2025_10-57_43 [INFO] \t\t\t->\u001b[34mEntropy from many-body state: 2.7394e+00\u001b[0m\n",
      "05_05_2025_10-57_43 [INFO] \t\t\t\t->\u001b[0mDifference between entropies: 0.0000e+00\u001b[0m\n",
      "05_05_2025_10-57_43 [INFO] \t->State 6: 1067 - energy (sanity) = -1.464101615137752\n",
      "05_05_2025_10-57_43 [INFO] \t\t\t->\u001b[32mEntropy from single-particle correlation: 2.6765e+00\u001b[0m\n",
      "05_05_2025_10-57_43 [INFO] \t\t\t->\u001b[34mEntropy from many-body state: 2.6765e+00\u001b[0m\n",
      "05_05_2025_10-57_43 [INFO] \t\t\t\t->\u001b[0mDifference between entropies: 0.0000e+00\u001b[0m\n"
     ]
    }
   ],
   "source": [
    "gamma               = rng.choice(man_energies_v, size=1)[0]\n",
    "order               = mask_d['order']\n",
    "manifolds_limit     = [x for x in man_energies if man_energies[x] == gamma]\n",
    "manifolds_choice    = rng.choice(manifolds_limit, size=1)[0]\n",
    "logger.info(f\"Randomly selected energy manifold: {gamma}\", lvl=0)\n",
    "logger.info(f\"Randomly selected energy manifold energies: {manifolds_limit}\", lvl=0)\n",
    "logger.info(f\"Randomly selected energy manifold: {manifolds_choice}\", lvl=0)\n",
    "logger.info(f\"Those are the states: {binned_energies[manifolds_choice]}\", lvl=0)\n",
    "\n",
    "# at this energy, we have gamma degenerate states, check their single particle entropy\n",
    "# and many body entropy\n",
    "entropies_sp_np     = np.zeros((gamma), dtype=np.float64)\n",
    "entropies_mb_np     = np.zeros((gamma), dtype=np.float64)\n",
    "energies_np         = np.zeros((gamma), dtype=np.float64)\n",
    "psi_np              = np.zeros((nh, gamma), dtype=np.complex128)\n",
    "compute_mb_state    = ns < 14\n",
    "states_in_bin       = binned_energies[manifolds_choice]\n",
    "\n",
    "for ii, state in enumerate(states_in_bin):\n",
    "    \n",
    "    #! occupied orbitals\n",
    "    if isinstance(state, int):\n",
    "        occ_orb = int2base(state, ns, spin=False, spin_value=1).astype(hamil._dtypeint)\n",
    "        occ_idx = np.flatnonzero(occ_orb)\n",
    "    else:\n",
    "        occ_idx = state\n",
    "\n",
    "    #! energy - sanity check\n",
    "    energy              = hamil.many_body_energy(occ_idx)\n",
    "    energies_np[ii]     = energy\n",
    "    \n",
    "    #! correlation matrix\n",
    "    corr_mat            = Corr.corr_single(W_A, occ_idx, W_A_CT=W_A_CT, raw=True, subtract_identity=True)\n",
    "    eigvals             = np.linalg.eigvalsh(corr_mat)\n",
    "    entropies_sp_np[ii] = Entropy.entropy(eigvals, typek=Entropy.Entanglement.SINGLE)\n",
    "    \n",
    "    #! many body state\n",
    "    if compute_mb_state:\n",
    "        mb_state            = hamil.many_body_state(occ_idx)\n",
    "        rho                 = Dens.rho_numba_mask(mb_state, order, n_occupation)\n",
    "        schmidt_vals, _     = Dens.schmidt_numba_mask(psi=rho, order=order, size_a=n_occupation, eig=False)\n",
    "        entropies_mb_np[ii] = Entropy.entropy(schmidt_vals, typek=Entropy.Entanglement.VN)\n",
    "        psi_np[:, ii]       = mb_state\n",
    "\n",
    "for i in range(gamma):\n",
    "    logger.info(f\"State {i}: {states_in_bin[i]} - energy (sanity) = {energies_np[i]}\", lvl=1)\n",
    "    logger.info(f\"Entropy from single-particle correlation: {entropies_sp_np[i]:.4e}\", lvl=3, color='green')\n",
    "    logger.info(f\"Entropy from many-body state: {entropies_mb_np[i]:.4e}\", lvl=3, color='blue')\n",
    "    logger.info(f\"Difference between entropies: {abs(entropies_sp_np[i] - entropies_mb_np[i]):.4e}\", lvl=4, color='white')\n",
    "    "
   ]
  },
  {
   "cell_type": "markdown",
   "id": "2e3e949f",
   "metadata": {},
   "source": [
    "##### JAX calculations"
   ]
  },
  {
   "cell_type": "code",
   "execution_count": 16,
   "id": "1f8e6512",
   "metadata": {},
   "outputs": [
    {
     "name": "stdout",
     "output_type": "stream",
     "text": [
      "05_05_2025_10-58_29 [INFO] \t->Mixing the states\n"
     ]
    },
    {
     "name": "stdout",
     "output_type": "stream",
     "text": [
      "05_05_2025_10-58_29 [INFO] \t->\u001b[33mPage value: 0.9622202921551711\u001b[0m\n",
      "05_05_2025_10-58_29 [INFO] \t->\u001b[33mQuadratic chaotic value: 0.6459555692400096\u001b[0m\n",
      "05_05_2025_10-58_29 [INFO] \t\t->\u001b[33mEntropy is normalized by: 3.4657359027997265\u001b[0m\n",
      "05_05_2025_10-58_29 [INFO] \t->\u001b[32mNon-jax (original): [0.7722758  0.90845155 0.78541998 0.79041192 0.78541998 0.79041192\n",
      " 0.7722758 ]\u001b[0m\n",
      "05_05_2025_10-58_29 [INFO] \u001b[0mJAX:\u001b[0m\n",
      "05_05_2025_10-58_29 [INFO] \t->\u001b[31mEntropy from mixed state (jax): [0.86158715 0.88306344 0.83589322 0.86651628 0.86867528 0.88873806\n",
      " 0.88411745]\u001b[0m\n",
      "05_05_2025_10-58_29 [INFO] \t\t->\u001b[31mMinimum entropy (mixed): 8.3589e-01\u001b[0m\n",
      "05_05_2025_10-58_29 [INFO] \t\t->\u001b[31mMaximum entropy (mixed): 8.8874e-01\u001b[0m\n",
      "05_05_2025_10-58_29 [INFO] \t\t->\u001b[31mAverage entropy (mixed): 8.6980e-01\u001b[0m\n",
      "05_05_2025_10-58_29 [INFO] \t->\u001b[34mEntropy from original state (jax): [0.7722758  0.90845155 0.78541998 0.79041192 0.78541998 0.79041192\n",
      " 0.7722758 ]\u001b[0m\n",
      "05_05_2025_10-58_29 [INFO] \t\t->\u001b[34mMinimum entropy (original): 7.7228e-01\u001b[0m\n",
      "05_05_2025_10-58_29 [INFO] \t\t->\u001b[34mMaximum entropy (original): 9.0845e-01\u001b[0m\n",
      "05_05_2025_10-58_29 [INFO] \t\t->\u001b[34mAverage entropy (original): 8.0067e-01\u001b[0m\n"
     ]
    }
   ],
   "source": [
    "import jax.numpy as jnp\n",
    "import jax\n",
    "\n",
    "psi_jnp         = jnp.array(psi_np, dtype=jnp.complex128)\n",
    "U_org           = jnp.array(QuadraticSelection.haar_random_unitary(gamma, rng=rng, dtype=np.complex128), dtype=jnp.complex128)\n",
    "psi_mixed       = psi_jnp @ U_org.T\n",
    "\n",
    "entro_org_jax   = jnp.zeros((gamma), dtype=jnp.float64)\n",
    "entro_mixed_jax = jnp.zeros((gamma), dtype=jnp.float64)\n",
    "normlog         = n_occupation * jnp.log(2.0)\n",
    "\n",
    "logger.info(\"Mixing the states\", lvl=1)\n",
    "# Compute entropies for mixed and original states\n",
    "for i in range(gamma):\n",
    "    # mixed state\n",
    "    rho_mixed              = Dens.jnp.rho_mask(psi_mixed[:, i], order, n_occupation)\n",
    "    schmidt_mixed, _       = Dens.jnp.schmidt_mask(rho_mixed, order, n_occupation, eig=False)\n",
    "    entro_mixed_jax        = entro_mixed_jax.at[i].set(Entropy.jnp.vn_entropy(schmidt_mixed) / normlog)\n",
    "\n",
    "    # original state\n",
    "    rho_orig               = Dens.jnp.rho_mask(psi_jnp[:, i], order, n_occupation)\n",
    "    schmidt_orig, _        = Dens.jnp.schmidt_mask(rho_orig, order, n_occupation, eig=False)\n",
    "    entro_org_jax          = entro_org_jax.at[i].set(Entropy.jnp.vn_entropy(schmidt_orig) / normlog)\n",
    "\n",
    "org_average_entropy = jnp.mean(entro_org_jax)\n",
    "# mixed and original entropies\n",
    "logger.info(f\"Page value: {page_value/normlog}\", lvl=1, color='yellow')\n",
    "logger.info(f\"Quadratic chaotic value: {quadratic_chaotic/normlog}\", lvl=1, color='yellow')\n",
    "logger.info(f\"Entropy is normalized by: {normlog}\", lvl=2, color='yellow')\n",
    "logger.info(f\"Non-jax (original): {entropies_mb_np / np.array(normlog)}\", lvl=1, color='green')\n",
    "logger.info(f\"JAX:\", lvl=0, color='white')\n",
    "logger.info(f\"Entropy from mixed state (jax): {entro_mixed_jax}\", lvl=1, color='red')\n",
    "logger.info(f\"Minimum entropy (mixed): {jnp.min(entro_mixed_jax):.4e}\", lvl=2, color='red')\n",
    "logger.info(f\"Maximum entropy (mixed): {jnp.max(entro_mixed_jax):.4e}\", lvl=2, color='red')\n",
    "logger.info(f\"Average entropy (mixed): {jnp.mean(entro_mixed_jax):.4e}\", lvl=2, color='red')\n",
    "logger.info(f\"Entropy from original state (jax): {entro_org_jax}\", lvl=1, color='blue')\n",
    "logger.info(f\"Minimum entropy (original): {jnp.min(entro_org_jax):.4e}\", lvl=2, color='blue')\n",
    "logger.info(f\"Maximum entropy (original): {jnp.max(entro_org_jax):.4e}\", lvl=2, color='blue')\n",
    "logger.info(f\"Average entropy (original): {jnp.mean(entro_org_jax):.4e}\", lvl=2, color='blue')\n"
   ]
  },
  {
   "cell_type": "code",
   "execution_count": 17,
   "id": "e14f8205",
   "metadata": {},
   "outputs": [],
   "source": [
    "import jax\n",
    "import jax.numpy as jnp\n",
    "import optax\n",
    "from functools import partial\n",
    "\n",
    "#! Unitary from arbitrary Z\n",
    "@jax.jit\n",
    "def unitary_from_Z(Z: jnp.ndarray) -> jnp.ndarray:\n",
    "    Q, R   = jnp.linalg.qr(Z)\n",
    "    phase  = jnp.diag(R)\n",
    "    phase /= jnp.where(jnp.abs(phase) < 1e-20, 1.0, jnp.abs(phase))\n",
    "    Q      = Q @ jnp.diag(jnp.conj(phase))\n",
    "    return Q\n",
    "\n",
    "#! Initialization\n",
    "def init_params(key, gamma: int, dtype=jnp.complex128) -> jnp.ndarray:\n",
    "    key_re, key_im  = jax.random.split(key)\n",
    "    re              = jax.random.normal(key_re, (gamma, gamma))\n",
    "    im              = jax.random.normal(key_im, (gamma, gamma))\n",
    "    return (re + 1j * im).astype(dtype)\n",
    "\n",
    "def init_coeff(key, gamma: int, dtype=jnp.complex128) -> jnp.ndarray:\n",
    "    key_re, key_im  = jax.random.split(key)\n",
    "    re              = jax.random.normal(key_re, (gamma, 1))\n",
    "    im              = jax.random.normal(key_im, (gamma, 1))\n",
    "    return (re + 1j * im).astype(dtype)\n",
    "\n",
    "#! Forward Pass\n",
    "def forward(Z: jnp.ndarray, mode='a') -> jnp.ndarray:\n",
    "    U = unitary_from_Z(Z)\n",
    "    if mode == 'U':\n",
    "        return U\n",
    "    coeffs = jnp.ones(U.shape[0], dtype=U.dtype) / jnp.sqrt(U.shape[0])\n",
    "    return U @ coeffs\n",
    "\n",
    "#! Mean Entropy Loss\n",
    "@partial(jax.jit, static_argnames=('order', 'size_a', 'use_a'))\n",
    "def mean_entropy_loss(Z         : jnp.ndarray,\n",
    "                    psi_mixed   : jnp.ndarray,\n",
    "                    order       : tuple,\n",
    "                    size_a      : int,\n",
    "                    use_a       : bool) -> float:\n",
    "    \"\"\"\n",
    "    Two pathways:\n",
    "    - `use_a = True`    : Optimize over superposition vector a (shape gamma \\times 1)\n",
    "    - `use_a = False`   : Optimize over U ∈ U(gamma)\n",
    "    \"\"\"\n",
    "    normlog = size_a * jnp.log(2.0)\n",
    "    normst  = jnp.sqrt(gamma)\n",
    "\n",
    "    def loss_a_path(Z, psi_mixed):\n",
    "        a               = Z / normst\n",
    "        psi_combined    = psi_mixed @ a                     # D \\times 1\n",
    "        rho             = Dens.jnp.rho_mask(psi_combined, order, size_a)\n",
    "        lam, _          = Dens.jnp.schmidt_mask(rho, order, size_a, eig=False)\n",
    "        return Entropy.jnp.vn_entropy(lam) / normlog\n",
    "\n",
    "    def loss_U_path(Z, psi_mixed):\n",
    "        \"\"\"\n",
    "        Loss function: average von Neumann entropy of reduced states after applying unitary U(Z) to psi_mixed.\n",
    "        \n",
    "        Parameters\n",
    "        ----------\n",
    "        Z : array\n",
    "            Parametrization of unitary matrix (e.g., via exponential map).\n",
    "        psi_mixed : array, shape (D, gamma)\n",
    "            Mixed state represented as a matrix with gamma basis states over D samples.\n",
    "\n",
    "        Returns\n",
    "        -------\n",
    "        mean_entropy : float\n",
    "            Average entropy across all transformed states.\n",
    "        \"\"\"\n",
    "        U           = unitary_from_Z(Z)     # gamma  \\times  gamma unitary\n",
    "        psi_new     = psi_mixed @ U         # D  \\times  gamma transformed states\n",
    "        def S_single(state):\n",
    "            rho     = Dens.jnp.rho_mask(state, order, size_a)\n",
    "            lam, _  = Dens.jnp.schmidt_mask(rho, order, size_a, eig=False)\n",
    "            return Entropy.jnp.vn_entropy(lam) / normlog\n",
    "        return jnp.mean(jax.vmap(S_single)(psi_new.T))\n",
    "    if use_a:\n",
    "        loss_in = loss_a_path(Z, psi_mixed)\n",
    "    else:\n",
    "        loss_in = loss_U_path(Z, psi_mixed)\n",
    "    return loss_in\n",
    "    # return jax.lax.cond(use_a, loss_a_path, loss_U_path, Z, psi_mixed)\n",
    "\n",
    "#! Training Loop\n",
    "def train_mean_entropy(psi_mixed    : jnp.ndarray,\n",
    "                    order           : tuple,\n",
    "                    size_a          : int,\n",
    "                    steps           : int   = 4000,\n",
    "                    lr              : float = 3e-3,\n",
    "                    log_every       : int   = 400,\n",
    "                    use_a           : bool  = False,\n",
    "                    seed            : int   = 0):\n",
    "    gamma       = psi_mixed.shape[1]\n",
    "    key         = jax.random.PRNGKey(seed)\n",
    "\n",
    "    # Init parameters\n",
    "    Z           = init_coeff(key, gamma) if use_a else init_params(key, gamma)\n",
    "\n",
    "    # Optax setup\n",
    "    opt         = optax.adam(lr)\n",
    "    opt_state   = opt.init(Z)\n",
    "\n",
    "    @jax.jit\n",
    "    def step(Z, opt_state):\n",
    "        loss, grad          = jax.value_and_grad(mean_entropy_loss)(Z, psi_mixed, order, size_a, use_a)\n",
    "        updates, opt_state  = opt.update(grad, opt_state, Z)\n",
    "        Z                   = optax.apply_updates(Z, updates)\n",
    "        return Z, opt_state, loss\n",
    "\n",
    "    # Training loop\n",
    "    history = []\n",
    "    for t in range(steps + 1):\n",
    "        Z, opt_state, loss = step(Z, opt_state)\n",
    "        history.append(loss)\n",
    "        if t % log_every == 0:\n",
    "            print(f\"[step {t:5d}]   ⟨S_A⟩ = {loss:.6e}\")\n",
    "\n",
    "    return Z, jnp.array(history)\n"
   ]
  },
  {
   "cell_type": "markdown",
   "id": "eb5766ed",
   "metadata": {},
   "source": [
    "##### Use just coefficients"
   ]
  },
  {
   "cell_type": "code",
   "execution_count": 18,
   "id": "ef81e222",
   "metadata": {},
   "outputs": [
    {
     "name": "stdout",
     "output_type": "stream",
     "text": [
      "[step     0]   ⟨S_A⟩ = 8.782887e-01\n",
      "[step   400]   ⟨S_A⟩ = 8.804551e-01\n",
      "[step   800]   ⟨S_A⟩ = 8.883504e-01\n",
      "[step  1200]   ⟨S_A⟩ = 8.896525e-01\n",
      "[step  1600]   ⟨S_A⟩ = 8.894437e-01\n",
      "[step  2000]   ⟨S_A⟩ = 8.886457e-01\n",
      "[step  2400]   ⟨S_A⟩ = 8.874596e-01\n",
      "[step  2800]   ⟨S_A⟩ = 8.858532e-01\n",
      "[step  3200]   ⟨S_A⟩ = 8.836603e-01\n",
      "[step  3600]   ⟨S_A⟩ = 8.805941e-01\n",
      "[step  4000]   ⟨S_A⟩ = 8.763231e-01\n",
      "[step  4400]   ⟨S_A⟩ = 8.709452e-01\n",
      "[step  4800]   ⟨S_A⟩ = 8.664941e-01\n",
      "[step  5200]   ⟨S_A⟩ = 8.677462e-01\n",
      "[step  5600]   ⟨S_A⟩ = 8.797605e-01\n",
      "[step  6000]   ⟨S_A⟩ = 8.968332e-01\n",
      "[step  6400]   ⟨S_A⟩ = 8.934031e-01\n",
      "[step  6800]   ⟨S_A⟩ = 8.907638e-01\n",
      "[step  7200]   ⟨S_A⟩ = 8.774690e-01\n",
      "[step  7600]   ⟨S_A⟩ = 8.331149e-01\n",
      "[step  8000]   ⟨S_A⟩ = 8.354582e-01\n",
      "[step  8400]   ⟨S_A⟩ = 8.402862e-01\n",
      "[step  8800]   ⟨S_A⟩ = 8.408669e-01\n",
      "[step  9200]   ⟨S_A⟩ = 8.407655e-01\n",
      "[step  9600]   ⟨S_A⟩ = 8.408357e-01\n",
      "[step 10000]   ⟨S_A⟩ = 8.411920e-01\n",
      "[step 10400]   ⟨S_A⟩ = 8.417771e-01\n",
      "[step 10800]   ⟨S_A⟩ = 8.425001e-01\n",
      "[step 11200]   ⟨S_A⟩ = 8.432750e-01\n",
      "[step 11600]   ⟨S_A⟩ = 8.440335e-01\n",
      "[step 12000]   ⟨S_A⟩ = 8.447285e-01\n",
      "[step 12400]   ⟨S_A⟩ = 8.453331e-01\n",
      "[step 12800]   ⟨S_A⟩ = 8.458367e-01\n",
      "[step 13200]   ⟨S_A⟩ = 8.462395e-01\n",
      "[step 13600]   ⟨S_A⟩ = 8.465490e-01\n",
      "[step 14000]   ⟨S_A⟩ = 8.467760e-01\n",
      "[step 14400]   ⟨S_A⟩ = 8.469330e-01\n",
      "[step 14800]   ⟨S_A⟩ = 8.470323e-01\n",
      "[step 15200]   ⟨S_A⟩ = 8.470854e-01\n",
      "[step 15600]   ⟨S_A⟩ = 8.471023e-01\n",
      "[step 16000]   ⟨S_A⟩ = 8.470918e-01\n",
      "[step 16400]   ⟨S_A⟩ = 8.470610e-01\n",
      "[step 16800]   ⟨S_A⟩ = 8.470158e-01\n",
      "[step 17200]   ⟨S_A⟩ = 8.469607e-01\n",
      "[step 17600]   ⟨S_A⟩ = 8.468993e-01\n",
      "[step 18000]   ⟨S_A⟩ = 8.468345e-01\n",
      "[step 18400]   ⟨S_A⟩ = 8.467683e-01\n",
      "[step 18800]   ⟨S_A⟩ = 8.467020e-01\n",
      "[step 19200]   ⟨S_A⟩ = 8.466369e-01\n",
      "[step 19600]   ⟨S_A⟩ = 8.465736e-01\n",
      "[step 20000]   ⟨S_A⟩ = 8.465125e-01\n",
      "[step 20400]   ⟨S_A⟩ = 8.464541e-01\n",
      "[step 20800]   ⟨S_A⟩ = 8.463984e-01\n",
      "[step 21200]   ⟨S_A⟩ = 8.463457e-01\n",
      "[step 21600]   ⟨S_A⟩ = 8.462960e-01\n",
      "[step 22000]   ⟨S_A⟩ = 8.462493e-01\n",
      "[step 22400]   ⟨S_A⟩ = 8.462058e-01\n",
      "[step 22800]   ⟨S_A⟩ = 8.461654e-01\n",
      "[step 23200]   ⟨S_A⟩ = 8.461283e-01\n",
      "[step 23600]   ⟨S_A⟩ = 8.460946e-01\n",
      "[step 24000]   ⟨S_A⟩ = 8.460645e-01\n",
      "[step 24400]   ⟨S_A⟩ = 8.460380e-01\n",
      "[step 24800]   ⟨S_A⟩ = 8.460154e-01\n"
     ]
    }
   ],
   "source": [
    "size_a      = n_occupation\n",
    "Z_opt, h    = train_mean_entropy(psi_mixed, order, size_a, steps=25000, lr=1, use_a=True)\n",
    "U_opt       = unitary_from_Z(Z_opt)                 # gamma  \\times  gamma exact unitary\n",
    "states      = psi_mixed @ U_opt                     # D  \\times  gamma"
   ]
  },
  {
   "cell_type": "code",
   "execution_count": 22,
   "id": "2a83b790",
   "metadata": {},
   "outputs": [
    {
     "data": {
      "image/png": "[encoded data removed]",
      "text/plain": [
       "<Figure size 400x300 with 1 Axes>"
      ]
     },
     "metadata": {},
     "output_type": "display_data"
    }
   ],
   "source": [
    "fig, ax     = Plotter.get_subplots(1, 1, sizex=4, sizey=3)\n",
    "ax[0].plot(h, 'o', markersize=2)\n",
    "ax[0].set_xlabel('Iteration')\n",
    "ax[0].set_ylabel(r'$\\langle S_A \\rangle / (L_A\\log(2))$')\n",
    "ax[0].axhline(page_value/normlog, color='red', linestyle='--', label='Page value')\n",
    "ax[0].axhline(jnp.mean(h), color='blue', linestyle=':', label='Mean value')\n",
    "ax[0].axhline(org_average_entropy, color='green', linestyle='-', label='Original mean value')\n",
    "ax[0].set_title('Mean Entropy Loss for optimizing over coefficients $a$')\n",
    "Plotter.set_legend(ax[0], frameon=True)"
   ]
  },
  {
   "cell_type": "markdown",
   "id": "2c08ec18",
   "metadata": {},
   "source": [
    "##### Use a whole unitary"
   ]
  },
  {
   "cell_type": "code",
   "execution_count": 23,
   "id": "9f1eb404",
   "metadata": {},
   "outputs": [
    {
     "name": "stdout",
     "output_type": "stream",
     "text": [
      "[step     0]   ⟨S_A⟩ = 7.672869e-01\n",
      "[step   400]   ⟨S_A⟩ = 7.651661e-01\n",
      "[step   800]   ⟨S_A⟩ = 7.642952e-01\n",
      "[step  1200]   ⟨S_A⟩ = 7.642401e-01\n",
      "[step  1600]   ⟨S_A⟩ = 7.618587e-01\n",
      "[step  2000]   ⟨S_A⟩ = 7.617599e-01\n",
      "[step  2400]   ⟨S_A⟩ = 7.618430e-01\n",
      "[step  2800]   ⟨S_A⟩ = 7.609768e-01\n",
      "[step  3200]   ⟨S_A⟩ = 7.633861e-01\n",
      "[step  3600]   ⟨S_A⟩ = 7.670883e-01\n",
      "[step  4000]   ⟨S_A⟩ = 7.709394e-01\n",
      "[step  4400]   ⟨S_A⟩ = 7.724488e-01\n",
      "[step  4800]   ⟨S_A⟩ = 7.746819e-01\n",
      "[step  5200]   ⟨S_A⟩ = 7.737097e-01\n",
      "[step  5600]   ⟨S_A⟩ = 7.660608e-01\n",
      "[step  6000]   ⟨S_A⟩ = 7.615682e-01\n",
      "[step  6400]   ⟨S_A⟩ = 7.633672e-01\n",
      "[step  6800]   ⟨S_A⟩ = 7.684939e-01\n"
     ]
    }
   ],
   "source": [
    "size_a      = n_occupation\n",
    "Z_opt, h    = train_mean_entropy(psi_mixed, order, size_a, steps=7000, lr=1e-1, use_a=False)\n",
    "U_opt       = unitary_from_Z(Z_opt)                 # gamma  \\times  gamma exact unitary\n",
    "states      = psi_mixed @ U_opt                     # D  \\times  gamma"
   ]
  },
  {
   "cell_type": "code",
   "execution_count": 24,
   "id": "2c4ac518",
   "metadata": {},
   "outputs": [
    {
     "data": {
      "image/png": "[encoded data removed]",
      "text/plain": [
       "<Figure size 400x300 with 1 Axes>"
      ]
     },
     "metadata": {},
     "output_type": "display_data"
    }
   ],
   "source": [
    "fig, ax     = Plotter.get_subplots(1, 1, sizex=4, sizey=3)\n",
    "ax[0].plot(h, 'o', markersize=2)\n",
    "ax[0].set_xlabel('Iteration')\n",
    "ax[0].set_ylabel(r'$\\langle S_A \\rangle / (L_A\\log(2))$')\n",
    "ax[0].axhline(page_value/normlog, color='red', linestyle='--', label='Page value')\n",
    "ax[0].axhline(jnp.mean(h), color='blue', linestyle=':', label='Mean value')\n",
    "ax[0].axhline(org_average_entropy, color='green', linestyle='-', label='Original mean value')\n",
    "ax[0].set_title('Mean Entropy Loss for optimizing over $U$')\n",
    "Plotter.set_legend(ax[0], frameon=True)"
   ]
  },
  {
   "cell_type": "markdown",
   "id": "14155e59",
   "metadata": {},
   "source": [
    "##### Autoencoder - doesn't work, don't even run\n",
    "\n"
   ]
  },
  {
   "cell_type": "code",
   "execution_count": null,
   "id": "574b1851",
   "metadata": {},
   "outputs": [],
   "source": [
    "import jax\n",
    "import jax.numpy as jnp\n",
    "from functools import partial\n",
    "import optax\n",
    "\n",
    "# -- Utilities --\n",
    "@jax.jit\n",
    "def unitary_from_Z(Z):\n",
    "    Q, R   = jnp.linalg.qr(Z)\n",
    "    phase  = jnp.diag(R) / jnp.where(\n",
    "                jnp.abs(jnp.diag(R)) < 1e-20, 1.0, jnp.abs(jnp.diag(R)))\n",
    "    Q      = Q @ jnp.diag(jnp.conj(phase))\n",
    "    return Q\n",
    "\n",
    "def init_unitary_params(key, gamma):\n",
    "    re, key = jax.random.normal(key, (gamma, gamma)), jax.random.split(key)[0]\n",
    "    im, key = jax.random.normal(key, (gamma, gamma)), jax.random.split(key)[0]\n",
    "    return (re + 1j * im)\n",
    "\n",
    "# -- Entropy computation --\n",
    "def entropy_single(state, order, size_a, normlog):\n",
    "    rho        = Dens.jnp.rho_mask(state, order, size_a)\n",
    "    schmidt, _ = Dens.jnp.schmidt_mask(rho, order, size_a, eig=False)\n",
    "    return Entropy.jnp.vn_entropy(schmidt) / normlog\n",
    "\n",
    "# -- Forward pass through layered unitary autoencoder --\n",
    "def stacked_unitary(Zs):\n",
    "    U = unitary_from_Z(Zs[0])\n",
    "    for Z in Zs[1:]:\n",
    "        U = unitary_from_Z(Z) @ U\n",
    "    return U\n",
    "\n",
    "@partial(jax.jit, static_argnums=(2, 3, 4))\n",
    "def autoencoder_loss(Zs, psi_input, order, size_a, num_layers):\n",
    "    normlog = size_a * jnp.log(2.0)\n",
    "    U       = stacked_unitary(Zs)\n",
    "    U_dag   = U.conj().T\n",
    "\n",
    "    encoded     = U @ psi_input     # gamma  \\times  D\n",
    "    decoded     = U_dag @ encoded   # gamma  \\times  D\n",
    "\n",
    "    reconstruction_loss = jnp.mean(jnp.abs(decoded - psi_input)**2)\n",
    "\n",
    "    # Apply entropy to each column of encoded\n",
    "    encoded_T   = encoded.T  # shape D  \\times  gamma\n",
    "    entropies   = jax.vmap(lambda x: entropy_single(x, order, size_a, normlog))(encoded_T)\n",
    "    entropy_reg = jnp.mean(entropies)\n",
    "\n",
    "    return reconstruction_loss + entropy_reg  # total loss\n",
    "\n",
    "# -- Training loop with multiple unitary layers --\n",
    "def train_autoencoder(psi_input, order, size_a, steps=4000, lr=3e-3, log_every=400, seed=0, num_layers=2):\n",
    "    gamma    = psi_input.shape[0]\n",
    "    key      = jax.random.PRNGKey(seed)\n",
    "    normlog  = size_a * jnp.log(2.0)\n",
    "\n",
    "    # Initialize a list of parameters for stacked unitaries\n",
    "    keys     = jax.random.split(key, num_layers)\n",
    "    Zs       = [init_unitary_params(k, gamma) for k in keys]\n",
    "\n",
    "    opt      = optax.adam(lr)\n",
    "    opt_state = opt.init(Zs)\n",
    "\n",
    "    @jax.jit\n",
    "    def step(Zs, opt_state):\n",
    "        loss, grads      = jax.value_and_grad(autoencoder_loss)(Zs, psi_input, order, size_a, num_layers)\n",
    "        updates, opt_state = opt.update(grads, opt_state, params=Zs)\n",
    "        Zs = optax.apply_updates(Zs, updates)\n",
    "        return Zs, opt_state, loss\n",
    "\n",
    "    history = []\n",
    "    for t in range(steps + 1):\n",
    "        Zs, opt_state, L = step(Zs, opt_state)\n",
    "        history.append(L)\n",
    "        if t % log_every == 0:\n",
    "            print(f\"Step {t:5d} | Loss = {L:.6e}\")\n",
    "\n",
    "    return Zs, history\n"
   ]
  },
  {
   "cell_type": "code",
   "execution_count": null,
   "id": "254887e6",
   "metadata": {},
   "outputs": [
    {
     "name": "stdout",
     "output_type": "stream",
     "text": [
      "Step     0 | Loss = 9.643953e-01\n"
     ]
    }
   ],
   "source": [
    "size_a      = n_occupation\n",
    "Z_opt, h    = train_autoencoder(psi_mixed, order, size_a, steps=70, lr=1e-1, log_every=10, seed=0, num_layers=1)\n",
    "U_opt       = unitary_from_Z(Z_opt)                 # gamma  \\times  gamma exact unitary\n",
    "states      = psi_mixed @ U_opt                     # D  \\times  gamma"
   ]
  },
  {
   "cell_type": "code",
   "execution_count": 18,
   "id": "b854ff9a",
   "metadata": {},
   "outputs": [
    {
     "name": "stdout",
     "output_type": "stream",
     "text": [
      "mask_shift: 010000\n",
      "mask_rev: 001111\n",
      "mask_bits: 111100\n"
     ]
    }
   ],
   "source": [
    "ns          = 6\n",
    "site        = 2\n",
    "shift       = ns - site\n",
    "\n",
    "mask_shift  = 1 << shift\n",
    "print(f\"mask_shift: {mask_shift:0{ns}b}\")\n",
    "mask_rev    = mask_shift - 1\n",
    "print(f\"mask_rev: {mask_rev:0{ns}b}\")\n",
    "mask_bits   = mask_rev << (site)\n",
    "print(f\"mask_bits: {mask_bits:0{ns}b}\")"
   ]
  },
  {
   "cell_type": "code",
   "execution_count": null,
   "id": "c1916389",
   "metadata": {},
   "outputs": [],
   "source": []
  }
 ],
 "metadata": {
  "kernelspec": {
   "display_name": "base",
   "language": "python",
   "name": "python3"
  },
  "language_info": {
   "codemirror_mode": {
    "name": "ipython",
    "version": 3
   },
   "file_extension": ".py",
   "mimetype": "text/x-python",
   "name": "python",
   "nbconvert_exporter": "python",
   "pygments_lexer": "ipython3",
   "version": "3.11.11"
  }
 },
 "nbformat": 4,
 "nbformat_minor": 5
}
