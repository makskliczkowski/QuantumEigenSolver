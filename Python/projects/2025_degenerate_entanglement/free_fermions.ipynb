{
 "cells": [
  {
   "cell_type": "code",
   "execution_count": null,
   "id": "c693d008",
   "metadata": {},
   "outputs": [
    {
     "name": "stdout",
     "output_type": "stream",
     "text": [
      "/Users/makskliczkowski/Codes/QuantumEigenSolver/Python/Projects\n",
      "/Users/makskliczkowski/Codes/QuantumEigenSolver/Python\n"
     ]
    },
    {
     "ename": "",
     "evalue": "",
     "output_type": "error",
     "traceback": [
      "\u001b[1;31mThe Kernel crashed while executing code in the current cell or a previous cell. \n",
      "\u001b[1;31mPlease review the code in the cell(s) to identify a possible cause of the failure. \n",
      "\u001b[1;31mClick <a href='https://aka.ms/vscodeJupyterKernelCrash'>here</a> for more info. \n",
      "\u001b[1;31mView Jupyter <a href='command:jupyter.viewOutput'>log</a> for further details."
     ]
    }
   ],
   "source": [
    "import os\n",
    "import sys\n",
    "os.environ[\"BACKEND\"] = \"numpy\"\n",
    "script_dir      = os.path.dirname(os.curdir)\n",
    "parent_dir      = os.path.abspath(os.path.join(script_dir, '..'))\n",
    "parent_dir_up   = os.path.abspath(os.path.join(parent_dir, '..'))\n",
    "print(parent_dir)\n",
    "print(parent_dir_up)\n",
    "if parent_dir not in sys.path:\n",
    "    sys.path.append(parent_dir)\n",
    "if parent_dir_up not in sys.path:\n",
    "    sys.path.append(parent_dir_up)\n",
    "\n",
    "# from QES.Algebra.Model.Noninteracting.Conserving.free_fermions import FreeFermions\n",
    "import numpy as np\n",
    "from QES.Algebra.Model import ham"
   ]
  },
  {
   "cell_type": "code",
   "execution_count": null,
   "id": "1db3bada",
   "metadata": {},
   "outputs": [],
   "source": []
  },
  {
   "cell_type": "code",
   "execution_count": null,
   "id": "5f91ece3",
   "metadata": {},
   "outputs": [],
   "source": []
  }
 ],
 "metadata": {
  "kernelspec": {
   "display_name": "base",
   "language": "python",
   "name": "python3"
  },
  "language_info": {
   "codemirror_mode": {
    "name": "ipython",
    "version": 3
   },
   "file_extension": ".py",
   "mimetype": "text/x-python",
   "name": "python",
   "nbconvert_exporter": "python",
   "pygments_lexer": "ipython3",
   "version": "3.12.2"
  }
 },
 "nbformat": 4,
 "nbformat_minor": 5
}
