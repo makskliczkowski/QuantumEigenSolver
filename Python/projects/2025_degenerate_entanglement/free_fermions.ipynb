{
 "cells": [
  {
   "cell_type": "code",
   "execution_count": 1,
   "id": "c693d008",
   "metadata": {},
   "outputs": [
    {
     "name": "stderr",
     "output_type": "stream",
     "text": [
      "INFO:general_python.algebra.utils:63: JAX backend available and successfully imported\n",
      "INFO:general_python.algebra.utils:63: \tJAX 64-bit precision enabled.\n",
      "INFO:general_python.algebra.utils:63: \tJAX is available but not set as the active backend.\n",
      "INFO:general_python.algebra.utils:63: **************************************************\n",
      "INFO:general_python.algebra.utils:63: Backend Configuration:\n",
      "INFO:general_python.algebra.utils:63: \t\tNumPy Version: 2.1.3\n",
      "INFO:general_python.algebra.utils:63: \t\tSciPy Version: 1.15.2\n",
      "INFO:general_python.algebra.utils:63: \t\tJAX Version: 0.5.3\n",
      "INFO:general_python.algebra.utils:63: \t\tActive Backend: numpy\n",
      "INFO:general_python.algebra.utils:63: \t\t\tJAX Available: True\n",
      "INFO:general_python.algebra.utils:63: \t\t\tDefault Seed: 42\n",
      "INFO:general_python.algebra.utils:63: \t\tNumPy Backend Details:\n",
      "INFO:general_python.algebra.utils:63: \t\t\t\tMain Module: numpy\n",
      "INFO:general_python.algebra.utils:63: \t\t\t\tRandom Module: Generator\n",
      "INFO:general_python.algebra.utils:63: \t\t\t\tSciPy Module: scipy\n",
      "INFO:general_python.algebra.utils:63: \t\tActive Data Types:\n",
      "INFO:general_python.algebra.utils:63: \t\t\t\tInteger Type: int64\n",
      "INFO:general_python.algebra.utils:63: \t\t\t\tFloat Type: float64\n",
      "INFO:general_python.algebra.utils:63: \t\t\t\tComplex Type: complex128\n",
      "INFO:general_python.algebra.utils:63: \t\tHardware & Device Detection:\n",
      "INFO:general_python.algebra.utils:63: \t\t\tCPU Cores: 8\n",
      "INFO:general_python.algebra.utils:63: \t\t\tDetected JAX Platform: DETECTION FAILED\n",
      "INFO:general_python.algebra.utils:63: \t\tJAX Devices Found: Detection Failed or Not Run\n",
      "INFO:general_python.algebra.utils:63: **************************************************\n",
      "\n",
      "\n",
      "\n"
     ]
    }
   ],
   "source": [
    "import os\n",
    "import sys\n",
    "os.environ[\"BACKEND\"]   = \"numpy\"\n",
    "script_dir              = os.path.dirname(os.curdir)\n",
    "parent_dir              = os.path.abspath(os.path.join(script_dir, '..'))\n",
    "parent_dir_up           = os.path.abspath(os.path.join(parent_dir, '..'))\n",
    "if parent_dir_up not in sys.path:\n",
    "    sys.path.append(parent_dir_up)\n",
    "\n",
    "from QES.Algebra.hamil_quadratic import QuadraticSelection\n",
    "from QES.Algebra.Model.Noninteracting.Conserving.free_fermions import FreeFermions\n",
    "from QES.general_python.common.binary import extract as Extractor\n",
    "from QES.general_python.common.binary import base2int, int2base, int2binstr\n",
    "from QES.general_python.physics import entropy as Entropy, density_matrix as Dens\n",
    "from QES.general_python.physics.sp import correlation_matrix as Corr\n",
    "from QES.general_python.common.plot import Plotter\n",
    "import numpy as np\n"
   ]
  },
  {
   "cell_type": "markdown",
   "id": "577240c4",
   "metadata": {},
   "source": [
    "Create the Free Fermion Hamiltonian"
   ]
  },
  {
   "cell_type": "code",
   "execution_count": 2,
   "id": "1db3bada",
   "metadata": {},
   "outputs": [
    {
     "name": "stderr",
     "output_type": "stream",
     "text": [
      "INFO:general_python.common.flog:241: Log file created: ./log/global.log\n",
      "INFO:general_python.common.flog:241: Log level set to: info\n",
      "INFO:general_python.common.flog:256: ############Global logger initialized.############\n"
     ]
    },
    {
     "data": {
      "text/plain": [
       "FreeFermions(ns=12, t=1.0, constant_offset=0.0)"
      ]
     },
     "execution_count": 2,
     "metadata": {},
     "output_type": "execute_result"
    }
   ],
   "source": [
    "ns      = 12\n",
    "t       = 1.0\n",
    "backend = 'numpy'\n",
    "hamil   = FreeFermions(ns=ns, t = t, dtype = np.complex128, backend = backend, logger=None)\n",
    "hamil"
   ]
  },
  {
   "cell_type": "markdown",
   "id": "1b4b97f4",
   "metadata": {},
   "source": [
    "### a) Plot the eigenenergies to see whether it is correct"
   ]
  },
  {
   "cell_type": "code",
   "execution_count": 7,
   "id": "5f91ece3",
   "metadata": {},
   "outputs": [
    {
     "data": {
      "image/png": "[encoded data removed]",
      "text/plain": [
       "<Figure size 400x300 with 1 Axes>"
      ]
     },
     "metadata": {},
     "output_type": "display_data"
    }
   ],
   "source": [
    "from QES.general_python.common.plot import Plotter\n",
    "\n",
    "fig, ax = Plotter.get_subplots(1, 1, sizex=4, sizey=3)\n",
    "k       = np.linspace(0, 2 * np.pi, hamil.ns)\n",
    "ax[0].plot(k, hamil.eig_val, '-o', markersize=2)\n",
    "ax[0].set_xlabel('k (Wave Vector)')\n",
    "ax[0].set_ylabel('Eigenvalues')\n",
    "ax[0].set_title('Eigenvalues vs Wave Vector')\n",
    "ax[0].grid(True)"
   ]
  },
  {
   "cell_type": "markdown",
   "id": "a0e15d17",
   "metadata": {},
   "source": [
    "### b) Test whether the many body energies agree"
   ]
  },
  {
   "cell_type": "code",
   "execution_count": 12,
   "id": "6cc0cca6",
   "metadata": {},
   "outputs": [
    {
     "name": "stdout",
     "output_type": "stream",
     "text": [
      "Total number should be: 4096\n",
      "\tNumber of combinations for 0 particles: 1\n",
      "\tNumber of combinations for 1 particles: 12\n",
      "\tNumber of combinations for 2 particles: 66\n",
      "\tNumber of combinations for 3 particles: 220\n",
      "\tNumber of combinations for 4 particles: 495\n",
      "\tNumber of combinations for 5 particles: 792\n",
      "\tNumber of combinations for 6 particles: 924\n",
      "\tNumber of combinations for 7 particles: 792\n",
      "\tNumber of combinations for 8 particles: 495\n",
      "\tNumber of combinations for 9 particles: 220\n",
      "\tNumber of combinations for 10 particles: 66\n",
      "\tNumber of combinations for 11 particles: 12\n",
      "\tNumber of combinations for 12 particles: 1\n",
      "Total number of many-body states (nh): 4096\n"
     ]
    }
   ],
   "source": [
    "n_particles = 3\n",
    "arange      = np.arange(hamil.ns)\n",
    "energies    = []\n",
    "nh          = 0\n",
    "print(f\"Total number should be: {2**ns}\")\n",
    "for i in range(hamil.ns + 1):\n",
    "    # Calculate the number of combinations\n",
    "    n_elements = QuadraticSelection.all_orbitals_size(hamil.ns, i)\n",
    "    print(f\"\\tNumber of combinations for {i} particles: {n_elements}\")\n",
    "    \n",
    "    # Generate all combinations of orbitals\n",
    "    arange, all_combinations = QuadraticSelection.all_orbitals(arange, i)\n",
    "    \n",
    "    for orbitals in all_combinations:\n",
    "        orbitals = np.array(orbitals)\n",
    "        energy   = hamil.many_body_energy(orbitals)\n",
    "        energies.append(energy)\n",
    "    nh += n_elements\n",
    "print(f\"Total number of many-body states (nh): {nh}\")\n"
   ]
  },
  {
   "cell_type": "markdown",
   "id": "c6a1c0d6",
   "metadata": {},
   "source": [
    "### c) Plot the many body energies"
   ]
  },
  {
   "cell_type": "code",
   "execution_count": 3,
   "id": "91195162",
   "metadata": {},
   "outputs": [
    {
     "ename": "NameError",
     "evalue": "name 'energies' is not defined",
     "output_type": "error",
     "traceback": [
      "\u001b[31m---------------------------------------------------------------------------\u001b[39m",
      "\u001b[31mNameError\u001b[39m                                 Traceback (most recent call last)",
      "\u001b[36mCell\u001b[39m\u001b[36m \u001b[39m\u001b[32mIn[3]\u001b[39m\u001b[32m, line 4\u001b[39m\n\u001b[32m      1\u001b[39m fig, ax = Plotter.get_subplots(\u001b[32m1\u001b[39m, \u001b[32m1\u001b[39m, sizex=\u001b[32m4\u001b[39m, sizey=\u001b[32m3\u001b[39m)\n\u001b[32m      3\u001b[39m \u001b[38;5;66;03m# Sort and normalize the energies\u001b[39;00m\n\u001b[32m----> \u001b[39m\u001b[32m4\u001b[39m energies_sorted     = np.sort(\u001b[43menergies\u001b[49m)\n\u001b[32m      5\u001b[39m normalized_energies = energies_sorted / ns\n\u001b[32m      7\u001b[39m \u001b[38;5;66;03m# Plot the normalized energies\u001b[39;00m\n",
      "\u001b[31mNameError\u001b[39m: name 'energies' is not defined"
     ]
    },
    {
     "data": {
      "image/png": "[encoded data removed]",
      "text/plain": [
       "<Figure size 400x300 with 1 Axes>"
      ]
     },
     "metadata": {},
     "output_type": "display_data"
    }
   ],
   "source": [
    "fig, ax = Plotter.get_subplots(1, 1, sizex=4, sizey=3)\n",
    "\n",
    "# Sort and normalize the energies\n",
    "energies_sorted     = np.sort(energies)\n",
    "normalized_energies = energies_sorted / ns\n",
    "\n",
    "# Plot the normalized energies\n",
    "ax[0].plot(normalized_energies, '-o', markersize=2)\n",
    "ax[0].set_xlabel('State Index')\n",
    "ax[0].set_ylabel(r'$E / L$')\n",
    "ax[0].set_title('Normalized Many-Body Energies')\n",
    "ax[0].grid(True)\n",
    "\n",
    "# Display the ground state energy\n",
    "ground_state_energy = energies_sorted[0]\n",
    "print(f\"Ground state energy: {ground_state_energy}\")\n",
    "\n",
    "#! Sanity check\n",
    "# Extract single-particle energies and identify negative ones\n",
    "energies_sp         = hamil.eig_val\n",
    "energies_sp_neg     = energies_sp[energies_sp < 0]\n",
    "\n",
    "# Calculate the number of occupied states and the ground state energy\n",
    "ground_state_occ    = len(energies_sp_neg)\n",
    "ground_state        = np.sum(energies_sp_neg)\n",
    "\n",
    "# Perform a sanity check to ensure consistency with the many-body ground state energy\n",
    "assert np.isclose(ground_state, ground_state_energy), \"Sanity check failed: Ground state energies do not match.\"\n",
    "print(f\"Sanity: Ground state energy = {ground_state}, Ground state occupancy = {ground_state_occ}\")"
   ]
  },
  {
   "cell_type": "markdown",
   "id": "5a1cee7f",
   "metadata": {},
   "source": [
    "### d) Test the state extractor"
   ]
  },
  {
   "cell_type": "code",
   "execution_count": 3,
   "id": "64e1fcdb",
   "metadata": {},
   "outputs": [
    {
     "name": "stderr",
     "output_type": "stream",
     "text": [
      "INFO:general_python.common.flog:256: State A mask = (3400) 110101001000\n",
      "INFO:general_python.common.flog:256: State B mask = (695) 001010110111\n",
      "INFO:general_python.common.flog:256: \n",
      "Full (152)    = \u001b[32m0\u001b[0m\u001b[32m0\u001b[0m\u001b[0m0\u001b[0m\u001b[32m0\u001b[0m\u001b[0m1\u001b[0m\u001b[32m0\u001b[0m\u001b[0m0\u001b[0m\u001b[0m1\u001b[0m\u001b[32m1\u001b[0m\u001b[0m0\u001b[0m\u001b[0m0\u001b[0m\u001b[0m0\u001b[0m\n",
      "INFO:general_python.common.flog:256:   State A bits      = \u001b[32m10000\u001b[0m\n",
      "INFO:general_python.common.flog:256:   State B bits      = \u001b[0m0001010\u001b[0m\n",
      "INFO:general_python.common.flog:256:   A scalar-mask : 00001   [24.2 µs]\n",
      "INFO:general_python.common.flog:256:   B scalar‑mask : 0101000   [4.3 µs]\n",
      "INFO:general_python.common.flog:256:   A vector‑mask : 00001   [2842.4 µs]\n",
      "INFO:general_python.common.flog:256:   B vector‑mask : 0101000   [2.5 µs]\n",
      "INFO:general_python.common.flog:256: ++++++++++++++++++++++++++++++++++++++++++++++++++\n",
      "INFO:general_python.common.flog:256: \n",
      "Full (3137)    = \u001b[32m1\u001b[0m\u001b[32m1\u001b[0m\u001b[0m0\u001b[0m\u001b[32m0\u001b[0m\u001b[0m0\u001b[0m\u001b[32m1\u001b[0m\u001b[0m0\u001b[0m\u001b[0m0\u001b[0m\u001b[32m0\u001b[0m\u001b[0m0\u001b[0m\u001b[0m0\u001b[0m\u001b[0m1\u001b[0m\n",
      "INFO:general_python.common.flog:256:   State A bits      = \u001b[32m01011\u001b[0m\n",
      "INFO:general_python.common.flog:256:   State B bits      = \u001b[0m1000000\u001b[0m\n",
      "INFO:general_python.common.flog:256:   A scalar-mask : 11010   [5.5 µs]\n",
      "INFO:general_python.common.flog:256:   B scalar‑mask : 0000001   [5.3 µs]\n",
      "INFO:general_python.common.flog:256:   A vector‑mask : 11010   [5.0 µs]\n",
      "INFO:general_python.common.flog:256:   B vector‑mask : 0000001   [3.4 µs]\n",
      "INFO:general_python.common.flog:256: ++++++++++++++++++++++++++++++++++++++++++++++++++\n",
      "INFO:general_python.common.flog:256: \n",
      "Full (2986)    = \u001b[32m1\u001b[0m\u001b[32m0\u001b[0m\u001b[0m1\u001b[0m\u001b[32m1\u001b[0m\u001b[0m1\u001b[0m\u001b[32m0\u001b[0m\u001b[0m1\u001b[0m\u001b[0m0\u001b[0m\u001b[32m1\u001b[0m\u001b[0m0\u001b[0m\u001b[0m1\u001b[0m\u001b[0m0\u001b[0m\n",
      "INFO:general_python.common.flog:256:   State A bits      = \u001b[32m10101\u001b[0m\n",
      "INFO:general_python.common.flog:256:   State B bits      = \u001b[0m0100111\u001b[0m\n",
      "INFO:general_python.common.flog:256:   A scalar-mask : 10101   [4.4 µs]\n",
      "INFO:general_python.common.flog:256:   B scalar‑mask : 1110010   [4.5 µs]\n",
      "INFO:general_python.common.flog:256:   A vector‑mask : 10101   [2.5 µs]\n",
      "INFO:general_python.common.flog:256:   B vector‑mask : 1110010   [17.8 µs]\n",
      "INFO:general_python.common.flog:256: ++++++++++++++++++++++++++++++++++++++++++++++++++\n"
     ]
    },
    {
     "name": "stdout",
     "output_type": "stream",
     "text": [
      "\n",
      "\n",
      "\n"
     ]
    }
   ],
   "source": [
    "size        = ns\n",
    "size_a      = 5\n",
    "mask_a      = [0, 1, 3, 5, 8]\n",
    "mask_a_e    = Extractor.prepare_mask(mask_a, size)\n",
    "\n",
    "Extractor.test(size, size_a, mask_a_e, nsamples=3)"
   ]
  },
  {
   "cell_type": "markdown",
   "id": "56b11e27",
   "metadata": {},
   "source": [
    "### e) Reduced density matrix for a given state from the Hamiltonian"
   ]
  },
  {
   "cell_type": "code",
   "execution_count": 4,
   "id": "957ca756",
   "metadata": {},
   "outputs": [
    {
     "name": "stdout",
     "output_type": "stream",
     "text": [
      "Mask for the lattice possitions on A : [0 1 2 3 4 5]\n",
      "\t[1 1 1 1 1 1 0 0 0 0 0 0]\n",
      "\t\tShape W: (12, 12)\n",
      "\t\tShape W_A: (12, 6)\n",
      "\t\tShape W_A_CT: (6, 12)\n",
      "Choosing orbitals [10  9  0  8  6  3]\n",
      "\t[1 0 0 1 0 0 1 0 1 1 1 0]\n",
      "\t2350, 100100101110\n",
      "Entropy from single particle correlation: 2.7534e+00\n",
      "Entropy from many-body state: 2.7534e+00\n"
     ]
    }
   ],
   "source": [
    "n_occupation            = 6\n",
    "dimA                    = 2**n_occupation\n",
    "dimB                    = 2**(hamil.ns-n_occupation)\n",
    "mask_a                  = np.array([0, 1, 2, 3, 4, 5])\n",
    "mask_a_onehot           = Extractor.to_one_hot(mask_a, hamil.ns)\n",
    "print(f\"Mask for the lattice possitions on A : {mask_a}\")\n",
    "print(f\"\\t{mask_a_onehot}\")\n",
    "W                       = hamil.eig_vec\n",
    "W_A                     = W[:, mask_a]\n",
    "W_A_CT                  = W_A.conj().T\n",
    "print(f\"\\t\\tShape W: {W.shape}\")\n",
    "print(f\"\\t\\tShape W_A: {W_A.shape}\")\n",
    "print(f\"\\t\\tShape W_A_CT: {W_A_CT.shape}\")\n",
    "arange, orb_4_mb_state  = QuadraticSelection.ran_orbitals(hamil.ns, n_occupation)\n",
    "orb_4_mb_state_1_hot    = Extractor.to_one_hot(orb_4_mb_state, hamil.ns)\n",
    "orb_4_mb_state_binary   = base2int(orb_4_mb_state_1_hot)\n",
    "print(f\"Choosing orbitals {orb_4_mb_state}\")\n",
    "print(f\"\\t{orb_4_mb_state_1_hot}\")\n",
    "print(f\"\\t{orb_4_mb_state_binary}, {int2binstr(orb_4_mb_state_binary, hamil.ns)}\")\n",
    "\n",
    "correlation_matrix      = Corr.corr_single(W_A, orb_4_mb_state_1_hot, W_A_CT = W_A_CT, raw = True, subtract_identity=True)\n",
    "corr_val, _             = np.linalg.eigh(correlation_matrix)\n",
    "entropy_correlation     = Entropy.entropy(corr_val, typek = Entropy.Entanglement.SINGLE)\n",
    "print(f\"Entropy from single particle correlation: {entropy_correlation:.4e}\")\n",
    "\n",
    "many_body_state         = hamil.many_body_state(orb_4_mb_state)\n",
    "red_dens_mat_schmidt,_  = Dens.schmidt_numba(many_body_state, dimA=dimA, dimB=dimB, eig=False)\n",
    "entropy_many_body       = Entropy.entropy(red_dens_mat_schmidt, typek = Entropy.Entanglement.VN)\n",
    "print(f\"Entropy from many-body state: {entropy_many_body:.4e}\")"
   ]
  },
  {
   "cell_type": "code",
   "execution_count": null,
   "id": "ba531e94",
   "metadata": {},
   "outputs": [],
   "source": []
  },
  {
   "cell_type": "code",
   "execution_count": null,
   "id": "d4dc0aa5",
   "metadata": {},
   "outputs": [],
   "source": []
  }
 ],
 "metadata": {
  "kernelspec": {
   "display_name": "base",
   "language": "python",
   "name": "python3"
  },
  "language_info": {
   "codemirror_mode": {
    "name": "ipython",
    "version": 3
   },
   "file_extension": ".py",
   "mimetype": "text/x-python",
   "name": "python",
   "nbconvert_exporter": "python",
   "pygments_lexer": "ipython3",
   "version": "3.12.2"
  }
 },
 "nbformat": 4,
 "nbformat_minor": 5
}
