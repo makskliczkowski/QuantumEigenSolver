{
 "cells": [
  {
   "cell_type": "code",
   "execution_count": 1,
   "metadata": {},
   "outputs": [
    {
     "name": "stderr",
     "output_type": "stream",
     "text": [
      "C:\\Users\\maxgr\\anaconda3\\Lib\\site-packages\\tenpy\\tools\\optimization.py:307: UserWarning: Couldn't load compiled cython code. Code will run a bit slower.\n",
      "  warnings.warn(\"Couldn't load compiled cython code. Code will run a bit slower.\")\n"
     ]
    }
   ],
   "source": [
    "\n",
    "# LIBRARIES GENERAL #\n",
    "import sys\n",
    "import os\n",
    "sys.path.append(os.path.join(os.path.join(os.curdir, '../general_python/')))\n",
    "sys.path.append(os.path.join(os.path.join(os.curdir, './src/')))\n",
    "\n",
    "from common.__binary__ import *\n",
    "from common.__time__ import *\n",
    "from common.__parsers__ import *\n",
    "from src.__calculator__ import *\n",
    "\n",
    "def entropy(  rho,\n",
    "              TYP = \"SCHMIDT\"):    \n",
    "    '''\n",
    "    Calculate the bipartite entanglement entropy\n",
    "    '''\n",
    "    print(TYP)\n",
    "    entropy = 0\n",
    "    eV      = None\n",
    "    if TYP == \"SCHMIDT\":\n",
    "        # get schmidt coefficients from singular-value-decomposition\n",
    "        _, schmidt_coeff, _ = svd(rho)\n",
    "\n",
    "        # return square\n",
    "        eV  = np.square(schmidt_coeff)\n",
    "    else:\n",
    "        eV  = np.linalg.eigvals(rho)\n",
    "        \n",
    "    for i in range(len(eV)):\n",
    "        entropy += ((-eV[i] * np.log(eV[i])) if (abs(eV[i]) > 0) else 0)\n",
    "    return entropy"
   ]
  },
  {
   "cell_type": "markdown",
   "metadata": {},
   "source": [
    "## Spin $1/2$ (all is done in 1D right now)!"
   ]
  },
  {
   "cell_type": "markdown",
   "metadata": {},
   "source": [
    "### Test the binary implementation of modulo and division operation when one has the spin 1/2 system.\n",
    "\n",
    "Let us say we have a state \n",
    "$$|\\underbrace{\\sigma _1, ..., \\sigma _{m-1}}_{A}, \\vert \\underbrace{\\sigma _m, ..., \\sigma _L}_{B} \\rangle. $$\n",
    "\n",
    "The state can be written as an integer. The binary representation of the state is:\n",
    "\n",
    "$$ s = \\sigma _1 * 2^{L-1} + ... + \\sigma _L * 2^0. $$\n",
    "\n",
    "Let us say that the system is divided into $L_A$ and $L_B$ sites. With $|H_A| = 2^{L_A}$ and $|H_B|= 2^{L_B}$: \n",
    "\n",
    "a) the L_A subsystem integer is obtainable by dividing $s // |H_A|$. Knowing that the state has specific number of sites, this can be achieved by a bit shift by $L_B$ sites to the right \n",
    "$$s >> L_B.$$\n",
    "b) the $L_B$ subsystem can be obtained by the usage of the mask \n",
    "\n",
    "$$m_B = |\\underbrace{0, ..., 0}_A, \\vert \\underbrace{1, ..., 1}_{B} \\rangle. = (|H_B| - 1)$$\n",
    "\n",
    "Of course this can be also done for the second point. \n",
    "\n",
    "$$m_A = |\\underbrace{1 ..., 1}_A, \\vert \\underbrace{0, ..., 0}_{B} \\rangle. = [(|H_A| - 1) << L_B]$$"
   ]
  },
  {
   "cell_type": "code",
   "execution_count": 2,
   "metadata": {},
   "outputs": [
    {
     "name": "stdout",
     "output_type": "stream",
     "text": [
      "Full state (57899784)= 11011100110111101100001000\n",
      "\tState A = 110111001101\n",
      "\tState B = 11101100001000\n",
      "\t\tState A mask = 11111111111100000000000000\n",
      "\t\tState B mask = 00000000000011111111111111\n",
      "After division and modulo\n",
      "\tState A = 110111001101\n",
      "\t\t Division took:  0.00014050002209842205\n",
      "\tState B = 11101100001000\n",
      "\t\t Modulo took:  0.00014900002861395478\n",
      "After division and modulo\n",
      "\tState A = 110111001101\n",
      "\t\t Bit shift took:  0.0001156999496743083\n",
      "\tState B = 11101100001000\n",
      "\t\t And took:  0.00011470000026747584\n",
      "--------------------------------------------------------------------------\n"
     ]
    }
   ],
   "source": [
    "La = 12\n",
    "Lb = 14\n",
    "\n",
    "dA = 2**La\n",
    "dB = 2**Lb\n",
    "rng= np.random.default_rng()\n",
    "\n",
    "for i in range(1):\n",
    "    state   = rng.integers(0, dA * dB)\n",
    "\n",
    "    with Timer() as timer:\n",
    "        # full state representation\n",
    "        state_bin = Binary.int2bin(state, La + Lb)\n",
    "        state_A_bin = state_bin[:La]\n",
    "        state_B_bin = state_bin[La:]\n",
    "        state_A_mask = (dA - 1) << Lb\n",
    "        state_B_mask = dB - 1\n",
    "\n",
    "        print(f\"Full state ({state})=\", state_bin)\n",
    "        print(\"\\tState A =\", state_A_bin)\n",
    "        print(\"\\tState B =\", state_B_bin)\n",
    "        print(\"\\t\\tState A mask =\", Binary.int2bin(state_A_mask, La + Lb))\n",
    "        print(\"\\t\\tState B mask =\", Binary.int2bin(state_B_mask, La + Lb))\n",
    "        \n",
    "        # use modulo and division to get the samne\n",
    "        print(\"After division and modulo\")\n",
    "        timer.reset()\n",
    "        print(\"\\tState A =\", Binary.int2bin(state // dB, La))\n",
    "        print(\"\\t\\t\", \"Division took: \", timer.elapsed())\n",
    "        timer.reset()\n",
    "        print(\"\\tState B =\", Binary.int2bin(state % dB, Lb))\n",
    "        print(\"\\t\\t\", \"Modulo took: \", timer.elapsed())\n",
    "\n",
    "\n",
    "        # can one do the same with bit shift, what is faster?\n",
    "        print(\"After division and modulo\")\n",
    "        timer.reset()\n",
    "        print(\"\\tState A =\", Binary.int2bin(state >> Lb, La))\n",
    "        print(\"\\t\\t\", \"Bit shift took: \", timer.elapsed())\n",
    "        timer.reset()\n",
    "        print(\"\\tState B =\", Binary.int2bin(state & state_B_mask, Lb))\n",
    "        print(\"\\t\\t\", \"And took: \", timer.elapsed())\n",
    "        print(\"--------------------------------------------------------------------------\")\n"
   ]
  },
  {
   "cell_type": "markdown",
   "metadata": {},
   "source": [
    "### Extract specific bits from an integer"
   ]
  },
  {
   "cell_type": "code",
   "execution_count": 75,
   "metadata": {},
   "outputs": [
    {
     "name": "stdout",
     "output_type": "stream",
     "text": [
      " Mask List of indices = [5, 2, 1]\n",
      " State Integer = 878\n",
      " State string = 1101101110\n",
      " Mask Integer = 400\n",
      " Mask string = 0110010000\n",
      " \tUsing integer mask : 100 \n",
      " \tUsing list mask : 100\n"
     ]
    }
   ],
   "source": [
    "def extractIntMask(n : int, \n",
    "                mask : int):\n",
    "    result      = 0\n",
    "    position    = 0\n",
    "    position_n  = 0\n",
    "    while mask:\n",
    "        # Extract the least significant bit of mask\n",
    "        if mask & 1:\n",
    "            result      |= ((n >> position) & 1) << position_n\n",
    "            position_n  += 1\n",
    "        mask        >>= 1\n",
    "        position    += 1\n",
    "    return result\n",
    "\n",
    "# def extractVecMask(n : int,\n",
    "#                    mask,\n",
    "#                    L : int\n",
    "#                    ):\n",
    "#     '''\n",
    "#     Indices have to be sorted from highest to lowest!\n",
    "#     '''\n",
    "    \n",
    "#     # go through the mask and extract the bits\n",
    "#     result      = 0\n",
    "    \n",
    "#     # do first step in moving (remember that mask indicates the positions from left to right,\n",
    "#     # although the bits are counted from right to left)\n",
    "    \n",
    "#     for i, m in enumerate(mask): \n",
    "#         # print(f\"Moving by {L - mask[position] - 1} bits to the right.\")\n",
    "#         result     |= ((n >> (L - m - 1)) & 1) << i\n",
    "        \n",
    "#     return result    \n",
    "def extractVecMask(n : int,\n",
    "                   mask,\n",
    "                   L : int\n",
    "                   ):\n",
    "    \"\"\"\n",
    "    Indices have to be sorted from highest to lowest!\n",
    "    \"\"\"\n",
    "    # Precompute L - m - 1 values\n",
    "    shifts = [(L - m - 1) for m in mask]\n",
    "    \n",
    "    # Initialize result\n",
    "    result = 0\n",
    "    \n",
    "    # Iterate through mask and extract bits\n",
    "    for i, m in enumerate(mask):\n",
    "        # Extract bit from n using bitwise AND\n",
    "        bit = (n >> shifts[i]) & 1\n",
    "        # Set bit in result using bitwise OR\n",
    "        result |= bit << i\n",
    "    \n",
    "    return result\n",
    "def prepareMask(_vec, _size):\n",
    "    _mask = 0\n",
    "    for _pos in _vec:\n",
    "        _mask |= 1 << (_size - 1 - _pos)\n",
    "    return _mask\n",
    "\n",
    "# test different mask preparations\n",
    "\n",
    "bits = 10\n",
    "n    = np.random.randint(0, 2**bits)\n",
    "maskL= [1, 2, 5]\n",
    "maskL.sort(reverse=True)\n",
    "mask = prepareMask(maskL, bits) \n",
    "maskB= Binary.int2bin(mask, bits)\n",
    "\n",
    "print(f\" Mask List of indices = {maskL}\\n\", \n",
    "      f'State Integer = {n}\\n',\n",
    "      f'State string = {Binary.int2bin(n, bits)}\\n',\n",
    "      f\"Mask Integer = {mask}\\n\",\n",
    "      f\"Mask string = {maskB}\\n\",\n",
    "      \"\\tUsing integer mask :\", Binary.int2bin(extractIntMask(n, mask), len(maskL)), '\\n',\n",
    "      \"\\tUsing list mask :\", Binary.int2bin(extractVecMask(n, maskL, bits), len(maskL)))\n",
    "\n"
   ]
  },
  {
   "cell_type": "code",
   "execution_count": 94,
   "metadata": {},
   "outputs": [
    {
     "name": "stdout",
     "output_type": "stream",
     "text": [
      "State A mask = 000001100111\n",
      "State B mask = 111110011000\n",
      "\tFull state (3336)= 110100001000\n",
      "\t\tState A = 00000\n",
      "\t\tState B = 1101001\n",
      "\tState A from my extractor:  00000\n",
      "\t\t Bit shift took:  0.00012640003114938736\n",
      "\tState B from my extractor:  1101001\n",
      "\t\t Bit shift took:  0.0001962999813258648\n",
      "\tState A from my VECTOR extractor:  00000\n",
      "\t\t Bit shift took:  0.000103199970908463\n",
      "\tState B from my VECTOR extractor:  1101001\n",
      "\t\t Bit shift took:  8.240004535764456e-05\n",
      "--------------------------------------------------------------------------\n"
     ]
    }
   ],
   "source": [
    "L  = 12\n",
    "La = 5\n",
    "Lb = L-La\n",
    "\n",
    "dA = 2**La\n",
    "dB = 2**Lb\n",
    "d  = (1 << La + Lb)\n",
    "rng= np.random.default_rng()\n",
    "\n",
    "state_A_mask    = 0x66 + 1\n",
    "state_B_mask    = (d - 1) - state_A_mask\n",
    "print(\"State A mask =\", Binary.int2bin(state_A_mask, La + Lb))\n",
    "print(\"State B mask =\", Binary.int2bin(state_B_mask, La + Lb))\n",
    "\n",
    "for i in range(1):\n",
    "    state   = rng.integers(0, dA * dB)\n",
    "    with Timer() as timer:\n",
    "        # full state representation\n",
    "        state_bin       = Binary.int2bin(state, La + Lb)\n",
    "        # print states\n",
    "        elems           = [i for (i, b) in enumerate(Binary.int2bin(state_A_mask, L)) if int(b) == 1]\n",
    "        elemsR          = [i for (i, b) in enumerate(Binary.int2bin(state_B_mask, L)) if int(b) == 1]\n",
    "        state_A_bin     = StringParser.ls([state_bin[i] for i in elems], joinElem='', withoutBrcts=True)\n",
    "        state_B_bin     = StringParser.ls([state_bin[i] for i in range(L) if i not in elems], joinElem='', withoutBrcts=True)\n",
    "        \n",
    "        print(f\"\\tFull state ({state})=\", state_bin)\n",
    "        print(\"\\t\\tState A =\", state_A_bin)\n",
    "        print(\"\\t\\tState B =\", state_B_bin)\n",
    "        \n",
    "        timer.reset()\n",
    "        print(\"\\tState A from my extractor: \", Binary.int2bin(extractIntMask(state, state_A_mask), La))\n",
    "        print(\"\\t\\t\", \"Bit shift took: \", timer.elapsed())\n",
    "        timer.reset()\n",
    "        print(\"\\tState B from my extractor: \", Binary.int2bin(extractIntMask(state, state_B_mask), Lb))\n",
    "        print(\"\\t\\t\", \"Bit shift took: \", timer.elapsed())\n",
    "        \n",
    "        elems.sort(reverse=True) \n",
    "        elemsR.sort(reverse=True)        \n",
    "        timer.reset()\n",
    "        print(\"\\tState A from my VECTOR extractor: \", Binary.int2bin(extractVecMask(state, elems, L), La))\n",
    "        print(\"\\t\\t\", \"Bit shift took: \", timer.elapsed())\n",
    "        timer.reset()\n",
    "        print(\"\\tState B from my VECTOR extractor: \", Binary.int2bin(extractVecMask(state, elemsR, L), Lb))\n",
    "        print(\"\\t\\t\", \"Bit shift took: \", timer.elapsed())\n",
    "        \n",
    "\n",
    "    print(\"--------------------------------------------------------------------------\")        \n",
    "        "
   ]
  },
  {
   "cell_type": "markdown",
   "metadata": {},
   "source": [
    "### Schmidt decomposition by bipartite division\n",
    "\n",
    "$$ |\\psi \\rangle = \\sum _{a, b} \\psi _{a,b} |a\\rangle |b\\rangle \\rightarrow |\\psi \\rangle = \\sum _\\alpha s _\\alpha |\\alpha \\rangle _A |\\alpha \\rangle _B $$ \n",
    "\n",
    "and $\\psi _{a, b}$ is a matrix and indices $a$ go through subsystem $A$ sites and b over subsystem $B$ sites."
   ]
  },
  {
   "cell_type": "code",
   "execution_count": 4,
   "metadata": {},
   "outputs": [
    {
     "data": {
      "text/plain": [
       "(3.6673804961211403, (3.6673804961211363+1.525548184231068e-17j))"
      ]
     },
     "execution_count": 4,
     "metadata": {},
     "output_type": "execute_result"
    }
   ],
   "source": [
    "L   = 12\n",
    "La  = 6\n",
    "Lb  = (L - La)\n",
    "\n",
    "dA  = int(2**La)\n",
    "dB  = int(2**Lb)\n",
    "N   = dA * dB\n",
    "np.random.seed(0)\n",
    "psi = genRandomStateCoefficients(dA * dB)\n",
    "entropy_vonNeuman(psi, L, La, \"SCHMIDT\"), entropy_vonNeuman(psi, L, La, \"EIGENVALUES\")"
   ]
  },
  {
   "cell_type": "markdown",
   "metadata": {},
   "source": [
    "#### Various methods\n",
    "1. Calculate the reduced density matrix by hand, summing all the contributions with the modulo method\n",
    "2. Calculate the reduced density matrix by hand, summing all the contributions with the new bitwise method\n",
    "3. Calculate the reduced density matrix by hand, summing all the contributions with the Schmidt method"
   ]
  },
  {
   "cell_type": "code",
   "execution_count": 96,
   "metadata": {},
   "outputs": [
    {
     "name": "stdout",
     "output_type": "stream",
     "text": [
      "Old method took:  1.812e-01\n",
      "OLD\n",
      "\tOld method entropy = (3.6673804961211363+1.525548184231068e-17j)\n",
      "Bitwise methodtook:  1.372e-02\n",
      "OLD\n",
      "\tBitwise method entropy = (3.6673804961211407+2.1735336640018013e-17j)\n",
      "Schmidt methodtook:  8.900e-06\n",
      "SCHMIDT\n",
      "\tSchmidt method entropy = 3.6673804961211403\n"
     ]
    }
   ],
   "source": [
    "with Timer() as timer:\n",
    "    rho = np.zeros((dA, dA), dtype = complex)\n",
    "    for n in range(0, N, 1):\t\t\t\t\t\n",
    "        counter     =   0\n",
    "        idx         =   n // dB\n",
    "        s_n_c       =   np.conj(psi[n])\n",
    "        for m in range(n % dB, N, dB):\n",
    "            rho[idx, counter]       +=  s_n_c * psi[m]\n",
    "            counter                 +=  1\n",
    "    print(\"Old method took: \", f'{timer.elapsed():.3e}')\n",
    "    print(\"\\tOld method entropy =\", entropy(rho, \"OLD\"))\n",
    "\n",
    "#######################################################\n",
    "\n",
    "state_A_mask = (dA - 1) << Lb\n",
    "state_B_mask = dB - 1\n",
    "with Timer() as timer:\n",
    "    rho = np.zeros((dA, dA), dtype = complex)\n",
    "    for n in range(0, N, 1):\t\t\t\t\t\n",
    "        idx         =   n >> Lb\n",
    "        s_n_c       =   np.conj(psi[n])\n",
    "        rho[idx]    +=  s_n_c * psi[n & state_B_mask::dB]\n",
    "    print(\"Bitwise methodtook: \", f'{timer.elapsed():.3e}')\n",
    "    print(\"\\tBitwise method entropy =\", entropy(rho, \"OLD\"))\n",
    "\n",
    "with Timer() as timer:\n",
    "    rho = psi.reshape(dA, dB)\n",
    "    print(\"Schmidt methodtook: \", f'{timer.elapsed():.3e}')\n",
    "    print(\"\\tSchmidt method entropy =\", entropy(rho))\n"
   ]
  },
  {
   "cell_type": "markdown",
   "metadata": {},
   "source": [
    "#### "
   ]
  },
  {
   "cell_type": "markdown",
   "metadata": {},
   "source": [
    "#### Different ordering than half of the system"
   ]
  },
  {
   "cell_type": "code",
   "execution_count": 71,
   "metadata": {},
   "outputs": [
    {
     "name": "stdout",
     "output_type": "stream",
     "text": [
      "State A mask = 0000000000000111\n",
      "State B mask = 1111111111111000\n"
     ]
    },
    {
     "data": {
      "text/plain": [
       "(2.079029578243187, (2.079029578243187-8.652977671715425e-18j))"
      ]
     },
     "execution_count": 71,
     "metadata": {},
     "output_type": "execute_result"
    }
   ],
   "source": [
    "L   = 16\n",
    "La  = 3\n",
    "Lb  = (L - La)\n",
    "\n",
    "dA  = int(2**La)\n",
    "dB  = int(2**Lb)\n",
    "N   = dA * dB\n",
    "np.random.seed(0)\n",
    "\n",
    "# string order\n",
    "state_A_mask    = 7\n",
    "# left side only (bipartite)\n",
    "# state_A_mask    = (dA - 1) << Lb\n",
    "state_B_mask    = N - 1 - state_A_mask\n",
    "elemsA          = [i for (i, b) in enumerate(Binary.int2bin(state_A_mask, L)) if int(b) == 1]\n",
    "elemsB          = [i for (i, b) in enumerate(Binary.int2bin(state_B_mask, L)) if int(b) == 1]\n",
    "\n",
    "print(\"State A mask =\", Binary.int2bin(state_A_mask, La + Lb))\n",
    "print(\"State B mask =\", Binary.int2bin(state_B_mask, La + Lb))\n",
    "\n",
    "psi = np.random.normal(size = (dA * dB)) + 1j * np.random.normal(size = dA * dB)\n",
    "psi = psi / np.linalg.norm(psi)\n",
    "entropy_vonNeuman(psi, L, La, \"SCHMIDT\"), entropy_vonNeuman(psi, L, La, \"EIGENVALUES\")"
   ]
  },
  {
   "cell_type": "markdown",
   "metadata": {},
   "source": [
    "Method with extracting from integer mask"
   ]
  },
  {
   "cell_type": "code",
   "execution_count": 77,
   "metadata": {},
   "outputs": [
    {
     "name": "stdout",
     "output_type": "stream",
     "text": [
      "SCHMIDT\n",
      "The method took:  3.820e-01  With S(rho) = 2.0788588804033146\n",
      "SCHMIDT\n",
      "The method took:  3.420e-01  With S(rho) = 2.0788588804033146\n",
      "SCHMIDT\n",
      "The method took:  3.456e-01  With S(rho) = 2.0788588804033146\n",
      "SCHMIDT\n",
      "The method took:  3.150e-01  With S(rho) = 2.0788588804033146\n",
      "SCHMIDT\n",
      "The method took:  2.930e-01  With S(rho) = 2.0788588804033146\n",
      "3.36e-01, 3.01e-02\n"
     ]
    }
   ],
   "source": [
    "# try doing Schmidt matrix with a loop\n",
    "times = []\n",
    "for i in range(5):\n",
    "    rho = np.zeros((dA, dB), dtype = complex)\n",
    "    with Timer() as timer:\n",
    "        for i, s in enumerate(psi):\n",
    "            i_A = extractIntMask(i, state_A_mask)\n",
    "            # print(Binary.int2bin(i, L))\n",
    "            # print(\"A=\", Binary.int2bin(i_A, La))\n",
    "            # print(\"I_A\", Binary.int2bin(i_A, La))\n",
    "            i_B = extractIntMask(i, state_B_mask)\n",
    "            # print(\"B=\", Binary.int2bin(i_B, Lb))\n",
    "            # print(\"-----------------\")\n",
    "            # print(\"I_B\", Binary.int2bin(i_B, Lb))\n",
    "            # create the Schmidt matrix\n",
    "            rho[i_A, i_B] += s\n",
    "        t = timer.elapsed()\n",
    "        print(\"The method took: \", f\"{t:.3e}\", \" With S(rho) =\", entropy(rho))\n",
    "        times.append(t)\n",
    "print(f\"{np.mean(times):.2e}, {np.std(times):.2e}\")"
   ]
  },
  {
   "cell_type": "markdown",
   "metadata": {},
   "source": [
    "Method with extracting from list mask"
   ]
  },
  {
   "cell_type": "code",
   "execution_count": 78,
   "metadata": {},
   "outputs": [
    {
     "data": {
      "text/plain": [
       "([15, 14, 13], [12, 11, 10, 9, 8, 7, 6, 5, 4, 3, 2, 1, 0])"
      ]
     },
     "execution_count": 78,
     "metadata": {},
     "output_type": "execute_result"
    }
   ],
   "source": [
    "elemsA.sort(reverse=True)\n",
    "elemsB.sort(reverse=True)\n",
    "elemsA, elemsB"
   ]
  },
  {
   "cell_type": "code",
   "execution_count": 80,
   "metadata": {},
   "outputs": [
    {
     "name": "stdout",
     "output_type": "stream",
     "text": [
      "SCHMIDT\n",
      "The method took:  4.353e-01  With S(rho) = 2.0788588804033146\n",
      "SCHMIDT\n",
      "The method took:  6.438e-01  With S(rho) = 2.0788588804033146\n",
      "SCHMIDT\n",
      "The method took:  3.470e-01  With S(rho) = 2.0788588804033146\n",
      "SCHMIDT\n",
      "The method took:  3.739e-01  With S(rho) = 2.0788588804033146\n",
      "SCHMIDT\n",
      "The method took:  2.773e-01  With S(rho) = 2.0788588804033146\n",
      "4.15e-01, 1.25e-01\n"
     ]
    }
   ],
   "source": [
    "# try doing Schmidt matrix with a loop\n",
    "times = []\n",
    "for i in range(5):\n",
    "    rho = np.zeros((dA, dB), dtype = complex)\n",
    "    with Timer() as timer:\n",
    "        for i, s in enumerate(psi):\n",
    "            i_A = extractVecMask(i, elemsA, L)\n",
    "            # print(\"I_A\", Binary.int2bin(i_A, La))\n",
    "            i_B = extractVecMask(i, elemsB, L)\n",
    "            # print(\"I_B\", Binary.int2bin(i_B, Lb))\n",
    "            # create the Schmidt matrix\n",
    "            rho[i_A, i_B] += s\n",
    "        t = timer.elapsed()\n",
    "        print(\"The method took: \", f\"{t:.3e}\", \" With S(rho) =\", entropy(rho))\n",
    "        times.append(t)\n",
    "print(f\"{np.mean(times):.2e}, {np.std(times):.2e}\")"
   ]
  },
  {
   "cell_type": "code",
   "execution_count": null,
   "metadata": {},
   "outputs": [],
   "source": []
  },
  {
   "cell_type": "code",
   "execution_count": null,
   "metadata": {},
   "outputs": [],
   "source": []
  }
 ],
 "metadata": {
  "kernelspec": {
   "display_name": "Python (base)",
   "language": "python",
   "name": "base"
  },
  "language_info": {
   "codemirror_mode": {
    "name": "ipython",
    "version": 3
   },
   "file_extension": ".py",
   "mimetype": "text/x-python",
   "name": "python",
   "nbconvert_exporter": "python",
   "pygments_lexer": "ipython3",
   "version": "3.11.7"
  }
 },
 "nbformat": 4,
 "nbformat_minor": 2
}
