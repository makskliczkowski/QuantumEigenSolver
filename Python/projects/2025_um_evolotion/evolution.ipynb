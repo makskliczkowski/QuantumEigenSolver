{
 "cells": [
  {
   "cell_type": "code",
   "execution_count": 1,
   "id": "141533d2",
   "metadata": {},
   "outputs": [
    {
     "name": "stdout",
     "output_type": "stream",
     "text": [
      "19_05_2025_16-35_35 [INFO] Log file created: ./log/QES_19_05_2025_16-35_35.log\n",
      "19_05_2025_16-35_35 [INFO] Log level set to: info\n",
      "19_05_2025_16-35_35 [INFO] ############Global logger initialized.############\n",
      "19_05_2025_16-35_35 [INFO] JAX backend available and successfully imported\n",
      "19_05_2025_16-35_35 [INFO] \tJAX 64-bit precision enabled.\n",
      "19_05_2025_16-35_35 [INFO] Setting JAX as the active backend.\n",
      "19_05_2025_16-35_35 [INFO] **************************************************\n",
      "19_05_2025_16-35_35 [INFO] Backend Configuration:\n",
      "19_05_2025_16-35_35 [INFO] \t\tNumPy Version: 1.26.4\n",
      "19_05_2025_16-35_35 [INFO] \t\tSciPy Version: 1.13.1\n",
      "19_05_2025_16-35_35 [INFO] \t\tJAX Version: 0.6.0\n",
      "19_05_2025_16-35_35 [INFO] \t\tActive Backend: jax\n",
      "19_05_2025_16-35_35 [INFO] \t\t\tJAX Available: True\n",
      "19_05_2025_16-35_35 [INFO] \t\t\tDefault Seed: 42\n",
      "19_05_2025_16-35_35 [INFO] \t\tJAX Backend Details:\n",
      "19_05_2025_16-35_35 [INFO] \t\t\t\tMain Module: jax.numpy\n",
      "19_05_2025_16-35_35 [INFO] \t\t\t\tRandom Module: jax.random (+ PRNGKey)\n",
      "19_05_2025_16-35_35 [INFO] \t\t\t\tSciPy Module: jax.scipy\n",
      "19_05_2025_16-35_35 [INFO] \t\t\t\tDefault JAX Key: PRNGKey(42)\n",
      "19_05_2025_16-35_35 [INFO] \t\tActive Data Types:\n",
      "19_05_2025_16-35_35 [INFO] \t\t\t\tInteger Type: int64\n",
      "19_05_2025_16-35_35 [INFO] \t\t\t\tFloat Type: float64\n",
      "19_05_2025_16-35_35 [INFO] \t\t\t\tComplex Type: complex128\n",
      "19_05_2025_16-35_35 [INFO] \t\tHardware & Device Detection:\n",
      "19_05_2025_16-35_35 [INFO] \t\t\tCPU Cores: 48\n",
      "19_05_2025_16-35_35 [INFO] \t\t\tDetected JAX Platform: DETECTION FAILED\n",
      "19_05_2025_16-35_35 [INFO] \t\tJAX Devices Found: Detection Failed or Not Run\n",
      "19_05_2025_16-35_35 [INFO] **************************************************\n",
      "\n",
      "\n",
      "\n"
     ]
    }
   ],
   "source": [
    "import sys\n",
    "import os\n",
    "# os.environ['JAX_PLATFORM_NAME'] = 'cpu'\n",
    "\n",
    "import numpy as np\n",
    "import time\n",
    "\n",
    "# Add the parent directory (project root) to sys.path\n",
    "script_dir = os.path.dirname(os.curdir)\n",
    "parent_dir = os.path.abspath(os.path.join(script_dir, '..', '..'))\n",
    "if parent_dir not in sys.path:\n",
    "    sys.path.append(parent_dir)\n",
    "\n",
    "# ------------------------------------------------------------------\n",
    "#! General\n",
    "import QES.general_python.common.binary as Binary\n",
    "from QES.general_python.common.timer import Timer, timeit\n",
    "from QES.general_python.common.binary import JAX_AVAILABLE, get_backend, get_global_logger\n",
    "from QES.general_python.common.plot import Plotter, MatrixPrinter, colorsCycle, linestylesCycle\n",
    "\n",
    "# ------------------------------------------------------------------\n",
    "from QES.Algebra.Model.Interacting.Spin.ultrametric import UltrametricModel\n",
    "from QES.Algebra.hilbert import HilbertSpace\n",
    "\n",
    "# ------------------------------------------------------------------\n",
    "from QES.Algebra.Properties import time_evo\n",
    "from QES.general_python.algebra.linalg import act, overlap, overlap_diag\n"
   ]
  },
  {
   "cell_type": "code",
   "execution_count": 2,
   "id": "789c484c",
   "metadata": {},
   "outputs": [],
   "source": [
    "model   = UltrametricModel(\n",
    "    ns      = 10,\n",
    "    n       = 3,\n",
    "    alphas  = 0.8,\n",
    "    backend = np\n",
    ")"
   ]
  },
  {
   "cell_type": "code",
   "execution_count": 3,
   "id": "1fbc0237",
   "metadata": {},
   "outputs": [],
   "source": [
    "model.build()"
   ]
  },
  {
   "cell_type": "code",
   "execution_count": 4,
   "id": "4573c5be",
   "metadata": {},
   "outputs": [
    {
     "name": "stdout",
     "output_type": "stream",
     "text": [
      "19_05_2025_16-35_35 [INFO] \t->\u001b[0m[Hamiltonian] Diagonalization started using (standard)...\u001b[0m\n",
      "19_05_2025_16-35_35 [INFO] \t\t->\u001b[0m[Hamiltonian] Diagonalization (standard) completed in 0.150771 seconds.\u001b[0m\n"
     ]
    }
   ],
   "source": [
    "model.diagonalize(verbose=True)"
   ]
  },
  {
   "cell_type": "code",
   "execution_count": 8,
   "id": "1861a839",
   "metadata": {},
   "outputs": [
    {
     "data": {
      "text/plain": [
       "[<matplotlib.lines.Line2D at 0x7856e42f4990>]"
      ]
     },
     "execution_count": 8,
     "metadata": {},
     "output_type": "execute_result"
    },
    {
     "data": {
      "image/png": "[encoded data removed]",
      "text/plain": [
       "<Figure size 300x300 with 1 Axes>"
      ]
     },
     "metadata": {},
     "output_type": "display_data"
    }
   ],
   "source": [
    "fig, ax = Plotter.get_subplots(1, 1, figsize=(3, 3))\n",
    "ax[0].plot(model.eig_val, 'o', color='black', label='Eigenvalues')"
   ]
  },
  {
   "cell_type": "code",
   "execution_count": null,
   "id": "33e83794",
   "metadata": {},
   "outputs": [],
   "source": []
  }
 ],
 "metadata": {
  "kernelspec": {
   "display_name": "base",
   "language": "python",
   "name": "python3"
  },
  "language_info": {
   "codemirror_mode": {
    "name": "ipython",
    "version": 3
   },
   "file_extension": ".py",
   "mimetype": "text/x-python",
   "name": "python",
   "nbconvert_exporter": "python",
   "pygments_lexer": "ipython3",
   "version": "3.11.11"
  }
 },
 "nbformat": 4,
 "nbformat_minor": 5
}
