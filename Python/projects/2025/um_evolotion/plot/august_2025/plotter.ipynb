{
 "cells": [
  {
   "cell_type": "code",
   "execution_count": 4,
   "id": "4ba78756",
   "metadata": {},
   "outputs": [
    {
     "name": "stdout",
     "output_type": "stream",
     "text": [
      "-> CWD: /home/klimak/Codes/QuantumEigenSolver/Python/projects/2025/um_evolotion/plot/august_2025\n",
      "-> Module Path: /home/klimak/Codes/QuantumEigenSolver/Python/projects/2025/um_evolotion/plot/august_2025\n",
      "-> File Path: /home/klimak/Codes/QuantumEigenSolver/Python/projects/2025/um_evolotion/plot\n",
      "-> QES Path: /home/klimak/Codes/QuantumEigenSolver/Python\n",
      "-> QES Lib Path: /home/klimak/Codes/QuantumEigenSolver/Python/QES\n",
      "-> General Lib Path: /home/klimak/Codes/QuantumEigenSolver/Python/QES/general_python\n"
     ]
    }
   ],
   "source": [
    "import os, sys\n",
    "from pathlib import Path\n",
    "\n",
    "#! -------------------------------------------------------\n",
    "os.environ['QES_BACKEND'] = 'numpy'   # Backend for numerical operations\n",
    "os.environ['QES_LOGFILE'] = '0'       # Disable logging to file\n",
    "#! -------------------------------------------------------\n",
    "\n",
    "# add to directory\n",
    "cwd             = Path(os.getcwd())\n",
    "mod_path        = Path(os.curdir).resolve()\n",
    "file_path       = mod_path.parent\n",
    "qes_path        = file_path.parent.parent.parent.parent\n",
    "data_path       = file_path.parent\n",
    "qes_lib_path    = qes_path / \"QES\"\n",
    "gen_lib_path    = qes_lib_path / \"general_python\"\n",
    "print(f\"-> CWD: {cwd}\")\n",
    "print(f\"-> Module Path: {mod_path}\")\n",
    "print(f\"-> File Path: {file_path}\")\n",
    "print(f\"-> QES Path: {qes_path}\")\n",
    "print(f\"-> QES Lib Path: {qes_lib_path}\")\n",
    "print(f\"-> General Lib Path: {gen_lib_path}\")\n",
    "sys.path.insert(0, str(qes_path))\n",
    "sys.path.insert(0, str(qes_lib_path))\n",
    "sys.path.insert(0, str(gen_lib_path))\n",
    "\n",
    "# --------------------------------------\n",
    "from QES.general_python.common.plot import Plotter\n",
    "from QES.general_python.common.directories import Directories\n",
    "from QES.general_python.common.hdf5_lib import HDF5Handler\n",
    "from QES.Algebra.hamil import Hamiltonian\n",
    "from QES.Algebra.Model.Interacting.Spin.ultrametric import UltrametricModel\n",
    "from QES.Algebra.Model.Noninteracting.plrb import PowerLawRandomBanded\n",
    "# --------------------------------------\n",
    "\n",
    "# --------------------------------------\n",
    "\n",
    "typek           = \"uniform\"\n",
    "model           = \"um\"\n",
    "\n",
    "def repr(model: str, ns: int, param: float, **kwargs):\n",
    "    if model == 'um' or model == 'ultrametric':\n",
    "        return UltrametricModel.repr(ns=ns, n=kwargs.get('n', 1), J=kwargs.get('J', 1.0), g=kwargs.get('g', 1.0), alphas=param)\n",
    "    elif model == 'plrb' or model == 'powerlaw':\n",
    "        return PowerLawRandomBanded.repr(ns=ns, many_body=True, a=param, b=1.0)\n",
    "    else:\n",
    "        raise ValueError(f\"Unknown model: {model}\")\n",
    "    \n",
    "# --------------------------------------\n",
    "\n",
    "stat_start      = \"stat_\"\n",
    "diag_start      = \"diag_\"\n",
    "fidl_start      = \"fid_\"\n",
    "hist_start      = \"hist_\"\n",
    "evol_start      = \"evo_\"\n"
   ]
  },
  {
   "cell_type": "markdown",
   "id": "f5ee6718",
   "metadata": {},
   "source": [
    "### Fluctuations"
   ]
  },
  {
   "cell_type": "code",
   "execution_count": null,
   "id": "949906c6",
   "metadata": {},
   "outputs": [
    {
     "name": "stdout",
     "output_type": "stream",
     "text": [
      "/home/klimak/Codes/QuantumEigenSolver/Python/projects/2025/um_evolotion/data_big_times_test/uniform/Ultrametric(ns=8,N=1,J=1.0,g=1.0,a=0.700)\n",
      "/home/klimak/Codes/QuantumEigenSolver/Python/projects/2025/um_evolotion/data_big_times_test/uniform/Ultrametric(ns=9,N=1,J=1.0,g=1.0,a=0.700)\n",
      "/home/klimak/Codes/QuantumEigenSolver/Python/projects/2025/um_evolotion/data_big_times_test/uniform/Ultrametric(ns=10,N=1,J=1.0,g=1.0,a=0.700)\n",
      "/home/klimak/Codes/QuantumEigenSolver/Python/projects/2025/um_evolotion/data_big_times_test/uniform/Ultrametric(ns=11,N=1,J=1.0,g=1.0,a=0.700)\n",
      "/home/klimak/Codes/QuantumEigenSolver/Python/projects/2025/um_evolotion/data_big_times_test/uniform/Ultrametric(ns=12,N=1,J=1.0,g=1.0,a=0.700)\n",
      "/home/klimak/Codes/QuantumEigenSolver/Python/projects/2025/um_evolotion/data_big_times_test/uniform/Ultrametric(ns=8,N=1,J=1.0,g=1.0,a=0.740)\n",
      "/home/klimak/Codes/QuantumEigenSolver/Python/projects/2025/um_evolotion/data_big_times_test/uniform/Ultrametric(ns=9,N=1,J=1.0,g=1.0,a=0.740)\n",
      "/home/klimak/Codes/QuantumEigenSolver/Python/projects/2025/um_evolotion/data_big_times_test/uniform/Ultrametric(ns=10,N=1,J=1.0,g=1.0,a=0.740)\n",
      "/home/klimak/Codes/QuantumEigenSolver/Python/projects/2025/um_evolotion/data_big_times_test/uniform/Ultrametric(ns=11,N=1,J=1.0,g=1.0,a=0.740)\n",
      "/home/klimak/Codes/QuantumEigenSolver/Python/projects/2025/um_evolotion/data_big_times_test/uniform/Ultrametric(ns=12,N=1,J=1.0,g=1.0,a=0.740)\n"
     ]
    }
   ],
   "source": [
    "data_dir            = Directories(data_path / \"data_big_times_test\" / typek)\n",
    "model_directories   = data_dir.list_dirs(as_string=True)\n",
    "alphas              = [0.700, 0.740]\n",
    "nss                 = [8, 9, 10, 11, 12]\n",
    "\n",
    "for alpha in alphas:\n",
    "    for ns in nss:\n",
    "        model_str   = repr(model=model, ns=ns, param=alpha, n=1)\n",
    "        dir_in      = data_dir / model_str\n",
    "        if not dir_in.exists():\n",
    "            continue\n",
    "        # get the files\n",
    "        evo_files   = HDF5Handler.file_list_matching()\n",
    "        \n",
    "        "
   ]
  },
  {
   "cell_type": "code",
   "execution_count": null,
   "id": "dfe3c727",
   "metadata": {},
   "outputs": [],
   "source": []
  }
 ],
 "metadata": {
  "kernelspec": {
   "display_name": "base",
   "language": "python",
   "name": "python3"
  },
  "language_info": {
   "codemirror_mode": {
    "name": "ipython",
    "version": 3
   },
   "file_extension": ".py",
   "mimetype": "text/x-python",
   "name": "python",
   "nbconvert_exporter": "python",
   "pygments_lexer": "ipython3",
   "version": "3.11.11"
  }
 },
 "nbformat": 4,
 "nbformat_minor": 5
}
