{
 "cells": [
  {
   "cell_type": "code",
   "execution_count": 1,
   "id": "31be730c",
   "metadata": {},
   "outputs": [
    {
     "name": "stdout",
     "output_type": "stream",
     "text": [
      "17_05_2025_23-45_26 [INFO] Log file created: ./log/QES_17_05_2025_23-45_26.log\n",
      "17_05_2025_23-45_26 [INFO] Log level set to: info\n",
      "17_05_2025_23-45_26 [INFO] ############Global logger initialized.############\n",
      "17_05_2025_23-45_27 [INFO] JAX backend available and successfully imported\n",
      "17_05_2025_23-45_27 [INFO] \tJAX 64-bit precision enabled.\n",
      "17_05_2025_23-45_27 [INFO] Setting JAX as the active backend.\n",
      "17_05_2025_23-45_27 [INFO] **************************************************\n",
      "17_05_2025_23-45_27 [INFO] Backend Configuration:\n",
      "17_05_2025_23-45_27 [INFO] \t\tNumPy Version: 1.26.4\n",
      "17_05_2025_23-45_27 [INFO] \t\tSciPy Version: 1.13.1\n",
      "17_05_2025_23-45_27 [INFO] \t\tJAX Version: 0.5.3\n",
      "17_05_2025_23-45_27 [INFO] \t\tActive Backend: jax\n",
      "17_05_2025_23-45_27 [INFO] \t\t\tJAX Available: True\n",
      "17_05_2025_23-45_27 [INFO] \t\t\tDefault Seed: 42\n",
      "17_05_2025_23-45_27 [INFO] \t\tJAX Backend Details:\n",
      "17_05_2025_23-45_27 [INFO] \t\t\t\tMain Module: jax.numpy\n",
      "17_05_2025_23-45_27 [INFO] \t\t\t\tRandom Module: jax.random (+ PRNGKey)\n",
      "17_05_2025_23-45_27 [INFO] \t\t\t\tSciPy Module: jax.scipy\n",
      "17_05_2025_23-45_27 [INFO] \t\t\t\tDefault JAX Key: PRNGKey(42)\n",
      "17_05_2025_23-45_27 [INFO] \t\tActive Data Types:\n",
      "17_05_2025_23-45_27 [INFO] \t\t\t\tInteger Type: int64\n",
      "17_05_2025_23-45_27 [INFO] \t\t\t\tFloat Type: float64\n",
      "17_05_2025_23-45_27 [INFO] \t\t\t\tComplex Type: complex128\n",
      "17_05_2025_23-45_27 [INFO] \t\tHardware & Device Detection:\n",
      "17_05_2025_23-45_27 [INFO] \t\t\tCPU Cores: 48\n",
      "17_05_2025_23-45_27 [INFO] \t\t\tDetected JAX Platform: DETECTION FAILED\n",
      "17_05_2025_23-45_27 [INFO] \t\tJAX Devices Found: Detection Failed or Not Run\n",
      "17_05_2025_23-45_27 [INFO] **************************************************\n",
      "\n",
      "\n",
      "\n"
     ]
    }
   ],
   "source": [
    "import sys\n",
    "import os\n",
    "# os.environ['JAX_PLATFORM_NAME'] = 'cpu'\n",
    "\n",
    "import numpy as np\n",
    "import time\n",
    "from typing import Union, List, Sequence, Optional\n",
    "from tqdm import trange\n",
    "\n",
    "# Add the parent directory (project root) to sys.path\n",
    "script_dir = os.path.dirname(os.curdir)\n",
    "parent_dir = os.path.abspath(os.path.join(script_dir, '..'))\n",
    "if parent_dir not in sys.path:\n",
    "    sys.path.append(parent_dir)\n",
    "\n",
    "# ------------------------------------------------------------------\n",
    "#! General\n",
    "import QES.general_python.common.binary as Binary\n",
    "from QES.general_python.common.timer import Timer, timeit\n",
    "from QES.general_python.common.binary import JAX_AVAILABLE, get_backend, get_global_logger\n",
    "from QES.general_python.common.plot import Plotter, MatrixPrinter\n",
    "\n",
    "# ------------------------------------------------------------------\n",
    "#! Lattice\n",
    "from QES.general_python.lattices import choose_lattice, plot_bonds\n",
    "\n",
    "# ------------------------------------------------------------------\n",
    "#! Sampler\n",
    "import QES.Solver.MonteCarlo.sampler as Sampler\n",
    "import QES.NQS.nqs as NQS\n",
    "import QES.NQS.nqs_train as NQST\n",
    "import QES.NQS.tdvp as TDVP\n",
    "from QES.general_python.ml.schedulers import EarlyStopping, ConstantScheduler, ExponentialDecayScheduler\n",
    "\n",
    "# ------------------------------------------------------------------\n",
    "#! ODE solver\n",
    "from QES.general_python.algebra.ode import choose_ode\n",
    "\n",
    "# ------------------------------------------------------------------\n",
    "#! Networks\n",
    "from QES.general_python.ml.net_impl.networks.net_rbm import RBM\n",
    "from QES.general_python.ml.net_impl.networks.net_cnn import CNN\n",
    "from QES.general_python.ml.net_impl.activation_functions import relu_jnp, tanh_jnp, sigmoid_jnp, leaky_relu_jnp, elu_jnp, poly6_jnp, softplus_jnp\n",
    "\n",
    "# ------------------------------------------------------------------\n",
    "#! Hamiltonians\n",
    "from QES.general_python.algebra.linalg import act, overlap\n",
    "from QES.Algebra.Model.dummy import DummyHamiltonian\n",
    "from QES.Algebra.Model.Interacting.Spin.heisenberg_kitaev import HeisenbergKitaev\n",
    "from QES.Algebra.Model.Interacting.Spin.transverse_ising import TransverseFieldIsing\n",
    "\n",
    "# ------------------------------------------------------------------\n",
    "#! Linear algebra\n",
    "import QES.general_python.algebra.solvers.stochastic_rcnfg as SR\n",
    "import QES.general_python.algebra.solvers as solvers\n",
    "import QES.general_python.algebra.preconditioners as preconditioners\n",
    "\n",
    "# ------------------------------------------------------------------\n",
    "\n",
    "#! Spin operators\n",
    "import QES.Algebra.Operator.operators_spin as op_spin\n",
    "#! Fermionic operators\n",
    "import QES.Algebra.Operator.operators_spinless_fermions as op_sferm\n",
    "\n",
    "#! Backends\n",
    "if JAX_AVAILABLE:\n",
    "    import jax\n",
    "    import jax.numpy as jnp\n",
    "else:\n",
    "    jax = None\n",
    "    jnp = None\n",
    "    \n",
    "# ------------------------------------------------------------------\n",
    "lattice_type        = 'honeycomb'\n",
    "# lattice_type        = 'square'\n",
    "lx, ly, lz          = 2, 4, 1\n",
    "# lx, ly, lz          = 10, 1, 1\n",
    "# ------------------------------------------------------------------\n",
    "scheduler           = 'ExponentialDecay'\n",
    "ode_solver_type     = 'Euler'\n",
    "# ode_solver_type   = 'Heun'\n",
    "# ode_solver_type   = 'AdaptiveHeun'\n",
    "# ode_solver_type   = 'RK4'\n",
    "lr                  = 0.02 # is also dt\n",
    "# ------------------------------------------------------------------\n",
    "network_type        = 'RBM'\n",
    "# network_type        = 'CNN'\n",
    "alpha               = 2\n",
    "# ------------------------------------------------------------------\n",
    "ham_type            = 'HeisenbergKitaev'\n",
    "# ham_type            = 'TransverseFieldIsing'\n",
    "# ham_type            = 'DummyHamiltonian'\n",
    "ham_dtype           = jnp.float32\n",
    "# ------------------------------------------------------------------\n",
    "\n",
    "logger              = get_global_logger()\n",
    "backend             = 'jax'\n",
    "seed                = 1234\n",
    "dtypex              = jnp.complex128\n",
    "be_modules          = get_backend(backend, random=True, seed=seed, scipy=True)\n",
    "backend_np, (rng, rng_k), backend_sp = be_modules if isinstance(be_modules, tuple) else (be_modules, (None, None), None)\n",
    "\n",
    "# ------------------------------------------------------------------\n"
   ]
  },
  {
   "cell_type": "markdown",
   "id": "a405c16b",
   "metadata": {},
   "source": [
    "### Lattice interface"
   ]
  },
  {
   "cell_type": "code",
   "execution_count": 2,
   "id": "362a1219",
   "metadata": {},
   "outputs": [
    {
     "name": "stdout",
     "output_type": "stream",
     "text": [
      "17_05_2025_23-45_27 [INFO] \t->\u001b[32mNeighbors of site 0: 3\u001b[0m\n",
      "17_05_2025_23-45_27 [INFO] \t\t->\u001b[34mNeighbor 0 of site 0: -1\u001b[0m\n",
      "17_05_2025_23-45_27 [INFO] \t\t->\u001b[34mNeighbor 1 of site 0: -1\u001b[0m\n",
      "17_05_2025_23-45_27 [INFO] \t\t->\u001b[34mNeighbor 2 of site 0: 1\u001b[0m\n",
      "17_05_2025_23-45_27 [INFO] \t->\u001b[32mNeighbors of site 1: 3\u001b[0m\n",
      "17_05_2025_23-45_27 [INFO] \t\t->\u001b[34mNeighbor 0 of site 1: 4\u001b[0m\n",
      "17_05_2025_23-45_27 [INFO] \t\t->\u001b[34mNeighbor 1 of site 1: 2\u001b[0m\n",
      "17_05_2025_23-45_27 [INFO] \t\t->\u001b[34mNeighbor 2 of site 1: -1\u001b[0m\n",
      "17_05_2025_23-45_27 [INFO] \t->\u001b[32mNeighbors of site 2: 3\u001b[0m\n",
      "17_05_2025_23-45_27 [INFO] \t\t->\u001b[34mNeighbor 0 of site 2: -1\u001b[0m\n",
      "17_05_2025_23-45_27 [INFO] \t\t->\u001b[34mNeighbor 1 of site 2: -1\u001b[0m\n",
      "17_05_2025_23-45_27 [INFO] \t\t->\u001b[34mNeighbor 2 of site 2: 3\u001b[0m\n",
      "17_05_2025_23-45_27 [INFO] \t->\u001b[32mNeighbors of site 3: 3\u001b[0m\n",
      "17_05_2025_23-45_27 [INFO] \t\t->\u001b[34mNeighbor 0 of site 3: 6\u001b[0m\n",
      "17_05_2025_23-45_27 [INFO] \t\t->\u001b[34mNeighbor 1 of site 3: 0\u001b[0m\n",
      "17_05_2025_23-45_27 [INFO] \t\t->\u001b[34mNeighbor 2 of site 3: -1\u001b[0m\n",
      "17_05_2025_23-45_27 [INFO] \t->\u001b[32mNeighbors of site 4: 3\u001b[0m\n",
      "17_05_2025_23-45_27 [INFO] \t\t->\u001b[34mNeighbor 0 of site 4: -1\u001b[0m\n",
      "17_05_2025_23-45_27 [INFO] \t\t->\u001b[34mNeighbor 1 of site 4: -1\u001b[0m\n",
      "17_05_2025_23-45_27 [INFO] \t\t->\u001b[34mNeighbor 2 of site 4: 5\u001b[0m\n",
      "17_05_2025_23-45_27 [INFO] \t->\u001b[32mNeighbors of site 5: 3\u001b[0m\n",
      "17_05_2025_23-45_27 [INFO] \t\t->\u001b[34mNeighbor 0 of site 5: 8\u001b[0m\n",
      "17_05_2025_23-45_27 [INFO] \t\t->\u001b[34mNeighbor 1 of site 5: 6\u001b[0m\n",
      "17_05_2025_23-45_27 [INFO] \t\t->\u001b[34mNeighbor 2 of site 5: -1\u001b[0m\n",
      "17_05_2025_23-45_27 [INFO] \t->\u001b[32mNeighbors of site 6: 3\u001b[0m\n",
      "17_05_2025_23-45_27 [INFO] \t\t->\u001b[34mNeighbor 0 of site 6: -1\u001b[0m\n",
      "17_05_2025_23-45_27 [INFO] \t\t->\u001b[34mNeighbor 1 of site 6: -1\u001b[0m\n",
      "17_05_2025_23-45_27 [INFO] \t\t->\u001b[34mNeighbor 2 of site 6: 7\u001b[0m\n",
      "17_05_2025_23-45_27 [INFO] \t->\u001b[32mNeighbors of site 7: 3\u001b[0m\n",
      "17_05_2025_23-45_27 [INFO] \t\t->\u001b[34mNeighbor 0 of site 7: 10\u001b[0m\n",
      "17_05_2025_23-45_27 [INFO] \t\t->\u001b[34mNeighbor 1 of site 7: 4\u001b[0m\n",
      "17_05_2025_23-45_27 [INFO] \t\t->\u001b[34mNeighbor 2 of site 7: -1\u001b[0m\n",
      "17_05_2025_23-45_27 [INFO] \t->\u001b[32mNeighbors of site 8: 3\u001b[0m\n",
      "17_05_2025_23-45_27 [INFO] \t\t->\u001b[34mNeighbor 0 of site 8: -1\u001b[0m\n",
      "17_05_2025_23-45_27 [INFO] \t\t->\u001b[34mNeighbor 1 of site 8: -1\u001b[0m\n",
      "17_05_2025_23-45_27 [INFO] \t\t->\u001b[34mNeighbor 2 of site 8: 9\u001b[0m\n",
      "17_05_2025_23-45_27 [INFO] \t->\u001b[32mNeighbors of site 9: 3\u001b[0m\n",
      "17_05_2025_23-45_27 [INFO] \t\t->\u001b[34mNeighbor 0 of site 9: 12\u001b[0m\n",
      "17_05_2025_23-45_27 [INFO] \t\t->\u001b[34mNeighbor 1 of site 9: 10\u001b[0m\n",
      "17_05_2025_23-45_27 [INFO] \t\t->\u001b[34mNeighbor 2 of site 9: -1\u001b[0m\n",
      "17_05_2025_23-45_27 [INFO] \t->\u001b[32mNeighbors of site 10: 3\u001b[0m\n",
      "17_05_2025_23-45_27 [INFO] \t\t->\u001b[34mNeighbor 0 of site 10: -1\u001b[0m\n",
      "17_05_2025_23-45_27 [INFO] \t\t->\u001b[34mNeighbor 1 of site 10: -1\u001b[0m\n",
      "17_05_2025_23-45_27 [INFO] \t\t->\u001b[34mNeighbor 2 of site 10: 11\u001b[0m\n",
      "17_05_2025_23-45_27 [INFO] \t->\u001b[32mNeighbors of site 11: 3\u001b[0m\n",
      "17_05_2025_23-45_27 [INFO] \t\t->\u001b[34mNeighbor 0 of site 11: 14\u001b[0m\n",
      "17_05_2025_23-45_27 [INFO] \t\t->\u001b[34mNeighbor 1 of site 11: 8\u001b[0m\n",
      "17_05_2025_23-45_27 [INFO] \t\t->\u001b[34mNeighbor 2 of site 11: -1\u001b[0m\n",
      "17_05_2025_23-45_27 [INFO] \t->\u001b[32mNeighbors of site 12: 3\u001b[0m\n",
      "17_05_2025_23-45_27 [INFO] \t\t->\u001b[34mNeighbor 0 of site 12: -1\u001b[0m\n",
      "17_05_2025_23-45_27 [INFO] \t\t->\u001b[34mNeighbor 1 of site 12: -1\u001b[0m\n",
      "17_05_2025_23-45_27 [INFO] \t\t->\u001b[34mNeighbor 2 of site 12: 13\u001b[0m\n",
      "17_05_2025_23-45_27 [INFO] \t->\u001b[32mNeighbors of site 13: 3\u001b[0m\n",
      "17_05_2025_23-45_27 [INFO] \t\t->\u001b[34mNeighbor 0 of site 13: -1\u001b[0m\n",
      "17_05_2025_23-45_27 [INFO] \t\t->\u001b[34mNeighbor 1 of site 13: 14\u001b[0m\n",
      "17_05_2025_23-45_27 [INFO] \t\t->\u001b[34mNeighbor 2 of site 13: -1\u001b[0m\n",
      "17_05_2025_23-45_27 [INFO] \t->\u001b[32mNeighbors of site 14: 3\u001b[0m\n",
      "17_05_2025_23-45_27 [INFO] \t\t->\u001b[34mNeighbor 0 of site 14: -1\u001b[0m\n",
      "17_05_2025_23-45_27 [INFO] \t\t->\u001b[34mNeighbor 1 of site 14: -1\u001b[0m\n",
      "17_05_2025_23-45_27 [INFO] \t\t->\u001b[34mNeighbor 2 of site 14: 15\u001b[0m\n",
      "17_05_2025_23-45_27 [INFO] \t->\u001b[32mNeighbors of site 15: 3\u001b[0m\n",
      "17_05_2025_23-45_27 [INFO] \t\t->\u001b[34mNeighbor 0 of site 15: -1\u001b[0m\n",
      "17_05_2025_23-45_27 [INFO] \t\t->\u001b[34mNeighbor 1 of site 15: 12\u001b[0m\n",
      "17_05_2025_23-45_27 [INFO] \t\t->\u001b[34mNeighbor 2 of site 15: -1\u001b[0m\n"
     ]
    }
   ],
   "source": [
    "lattice = choose_lattice(\n",
    "    typek = lattice_type,\n",
    "    lx    = lx,\n",
    "    ly    = ly,\n",
    "    lz    = lz,\n",
    "    bc    = 'mbc'\n",
    ")\n",
    "ns, mult, st_shape = lattice.ns, lattice.ns // (lx * ly * lz), (lattice.ns, )\n",
    "lattice.print_forward(logger=logger)\n",
    "\n",
    "# lattice\n",
    "# MatrixPrinter.print_matrix(A)"
   ]
  },
  {
   "cell_type": "markdown",
   "id": "bcb740bd",
   "metadata": {},
   "source": [
    "### Operators to test later on"
   ]
  },
  {
   "cell_type": "code",
   "execution_count": 3,
   "id": "776542a4",
   "metadata": {},
   "outputs": [],
   "source": [
    "sig_z = op_spin.sig_z(\n",
    "    lattice = lattice,\n",
    "    ns      = lattice.ns,\n",
    "    type_act= op_spin.OperatorTypeActing.Global,\n",
    "    sites   = [0]\n",
    ")\n",
    "\n",
    "sig_x = op_spin.sig_x(\n",
    "    lattice = lattice,\n",
    "    ns      = lattice.ns,\n",
    "    type_act= op_spin.OperatorTypeActing.Global,\n",
    "    sites   = [0]\n",
    ")\n",
    "\n",
    "sig_z_c = op_spin.sig_z(\n",
    "    lattice = lattice,\n",
    "    ns      = lattice.ns,\n",
    "    type_act= op_spin.OperatorTypeActing.Global,\n",
    "    sites   = [0, 1]\n",
    ")\n",
    "\n",
    "sig_x_c = op_spin.sig_x(\n",
    "    lattice = lattice,\n",
    "    ns      = lattice.ns,\n",
    "    type_act= op_spin.OperatorTypeActing.Global,\n",
    "    sites   = [0, 1]\n",
    ")\n",
    "\n",
    "if lattice.ns == 2:\n",
    "    matrix_test = np.kron(op_spin._SIG_X, op_spin._SIG_0) * (0.5)\n",
    "    print('Matrix test:', matrix_test)"
   ]
  },
  {
   "cell_type": "markdown",
   "id": "eef281c4",
   "metadata": {},
   "source": [
    "### Hamiltonian - Hamiltonian operator $H$ and its expectation value $\\langle H \\rangle$."
   ]
  },
  {
   "cell_type": "code",
   "execution_count": 4,
   "id": "f89ecad8",
   "metadata": {},
   "outputs": [
    {
     "name": "stdout",
     "output_type": "stream",
     "text": [
      "17_05_2025_23-45_27 [INFO] \t\t->\u001b[0m[Hamiltonian] The type of the lattice HON,LatticeBC.MBC,d=2,Ns=16,Lx=2,Ly=4,Lz=1 is not standard. Check your intentions...\u001b[0m\n",
      "17_05_2025_23-45_27 [INFO] \t\t->\u001b[0m[Heisenberg Kitaev Model] Adding non-modifying operator Operator(Sz/L, type_acting=Local, eigval=1.0, type=Other) at site 0 (sites: [0]) with multiplier 0.0\u001b[0m\n",
      "17_05_2025_23-45_27 [INFO] \t\t->\u001b[0m[Heisenberg Kitaev Model] Adding modifying operator Operator(Sx/L, type_acting=Local, eigval=1.0, type=Other) at site 0 (sites: [0]) with multiplier 0.0\u001b[0m\n",
      "17_05_2025_23-45_27 [INFO] \t\t->\u001b[0m[Heisenberg Kitaev Model] Adding non-modifying operator Operator(Sz/C, type_acting=Correlation, eigval=1.0, type=Other) at site 0 (sites: [0, 1]) with multiplier 1.0\u001b[0m\n",
      "17_05_2025_23-45_27 [INFO] \t\t->\u001b[0m[Heisenberg Kitaev Model] Adding modifying operator Operator(Sx/C, type_acting=Correlation, eigval=1.0, type=Other) at site 0 (sites: [0, 1]) with multiplier 2.0\u001b[0m\n",
      "17_05_2025_23-45_27 [INFO] \t\t->\u001b[0m[Heisenberg Kitaev Model] Adding modifying operator Operator(Sy/C, type_acting=Correlation, eigval=1.0, type=Other) at site 0 (sites: [0, 1]) with multiplier 1.0\u001b[0m\n",
      "17_05_2025_23-45_27 [INFO] \t\t->\u001b[0m[Heisenberg Kitaev Model] Adding non-modifying operator Operator(Sz/L, type_acting=Local, eigval=1.0, type=Other) at site 1 (sites: [1]) with multiplier 0.0\u001b[0m\n",
      "17_05_2025_23-45_27 [INFO] \t\t->\u001b[0m[Heisenberg Kitaev Model] Adding modifying operator Operator(Sx/L, type_acting=Local, eigval=1.0, type=Other) at site 1 (sites: [1]) with multiplier 0.0\u001b[0m\n",
      "17_05_2025_23-45_27 [INFO] \t\t->\u001b[0m[Heisenberg Kitaev Model] Adding non-modifying operator Operator(Sz/C, type_acting=Correlation, eigval=1.0, type=Other) at site 1 (sites: [1, 4]) with multiplier 2.0\u001b[0m\n",
      "17_05_2025_23-45_27 [INFO] \t\t->\u001b[0m[Heisenberg Kitaev Model] Adding modifying operator Operator(Sx/C, type_acting=Correlation, eigval=1.0, type=Other) at site 1 (sites: [1, 4]) with multiplier 1.0\u001b[0m\n",
      "17_05_2025_23-45_27 [INFO] \t\t->\u001b[0m[Heisenberg Kitaev Model] Adding modifying operator Operator(Sy/C, type_acting=Correlation, eigval=1.0, type=Other) at site 1 (sites: [1, 4]) with multiplier 1.0\u001b[0m\n",
      "17_05_2025_23-45_27 [INFO] \t\t->\u001b[0m[Heisenberg Kitaev Model] Adding non-modifying operator Operator(Sz/C, type_acting=Correlation, eigval=1.0, type=Other) at site 1 (sites: [1, 2]) with multiplier 1.0\u001b[0m\n",
      "17_05_2025_23-45_27 [INFO] \t\t->\u001b[0m[Heisenberg Kitaev Model] Adding modifying operator Operator(Sx/C, type_acting=Correlation, eigval=1.0, type=Other) at site 1 (sites: [1, 2]) with multiplier 1.0\u001b[0m\n",
      "17_05_2025_23-45_27 [INFO] \t\t->\u001b[0m[Heisenberg Kitaev Model] Adding modifying operator Operator(Sy/C, type_acting=Correlation, eigval=1.0, type=Other) at site 1 (sites: [1, 2]) with multiplier 2.0\u001b[0m\n",
      "17_05_2025_23-45_27 [INFO] \t\t->\u001b[0m[Heisenberg Kitaev Model] Adding non-modifying operator Operator(Sz/L, type_acting=Local, eigval=1.0, type=Other) at site 2 (sites: [2]) with multiplier 0.0\u001b[0m\n",
      "17_05_2025_23-45_27 [INFO] \t\t->\u001b[0m[Heisenberg Kitaev Model] Adding modifying operator Operator(Sx/L, type_acting=Local, eigval=1.0, type=Other) at site 2 (sites: [2]) with multiplier 0.0\u001b[0m\n",
      "17_05_2025_23-45_27 [INFO] \t\t->\u001b[0m[Heisenberg Kitaev Model] Adding non-modifying operator Operator(Sz/C, type_acting=Correlation, eigval=1.0, type=Other) at site 2 (sites: [2, 3]) with multiplier 1.0\u001b[0m\n",
      "17_05_2025_23-45_27 [INFO] \t\t->\u001b[0m[Heisenberg Kitaev Model] Adding modifying operator Operator(Sx/C, type_acting=Correlation, eigval=1.0, type=Other) at site 2 (sites: [2, 3]) with multiplier 2.0\u001b[0m\n",
      "17_05_2025_23-45_27 [INFO] \t\t->\u001b[0m[Heisenberg Kitaev Model] Adding modifying operator Operator(Sy/C, type_acting=Correlation, eigval=1.0, type=Other) at site 2 (sites: [2, 3]) with multiplier 1.0\u001b[0m\n",
      "17_05_2025_23-45_27 [INFO] \t\t->\u001b[0m[Heisenberg Kitaev Model] Adding non-modifying operator Operator(Sz/L, type_acting=Local, eigval=1.0, type=Other) at site 3 (sites: [3]) with multiplier 0.0\u001b[0m\n",
      "17_05_2025_23-45_27 [INFO] \t\t->\u001b[0m[Heisenberg Kitaev Model] Adding modifying operator Operator(Sx/L, type_acting=Local, eigval=1.0, type=Other) at site 3 (sites: [3]) with multiplier 0.0\u001b[0m\n",
      "17_05_2025_23-45_27 [INFO] \t\t->\u001b[0m[Heisenberg Kitaev Model] Adding non-modifying operator Operator(Sz/C, type_acting=Correlation, eigval=1.0, type=Other) at site 3 (sites: [3, 6]) with multiplier 2.0\u001b[0m\n",
      "17_05_2025_23-45_27 [INFO] \t\t->\u001b[0m[Heisenberg Kitaev Model] Adding modifying operator Operator(Sx/C, type_acting=Correlation, eigval=1.0, type=Other) at site 3 (sites: [3, 6]) with multiplier 1.0\u001b[0m\n",
      "17_05_2025_23-45_27 [INFO] \t\t->\u001b[0m[Heisenberg Kitaev Model] Adding modifying operator Operator(Sy/C, type_acting=Correlation, eigval=1.0, type=Other) at site 3 (sites: [3, 6]) with multiplier 1.0\u001b[0m\n",
      "17_05_2025_23-45_27 [INFO] \t\t->\u001b[0m[Heisenberg Kitaev Model] Adding non-modifying operator Operator(Sz/C, type_acting=Correlation, eigval=1.0, type=Other) at site 3 (sites: [3, 0]) with multiplier 1.0\u001b[0m\n",
      "17_05_2025_23-45_27 [INFO] \t\t->\u001b[0m[Heisenberg Kitaev Model] Adding modifying operator Operator(Sx/C, type_acting=Correlation, eigval=1.0, type=Other) at site 3 (sites: [3, 0]) with multiplier 1.0\u001b[0m\n",
      "17_05_2025_23-45_27 [INFO] \t\t->\u001b[0m[Heisenberg Kitaev Model] Adding modifying operator Operator(Sy/C, type_acting=Correlation, eigval=1.0, type=Other) at site 3 (sites: [3, 0]) with multiplier 2.0\u001b[0m\n",
      "17_05_2025_23-45_27 [INFO] \t\t->\u001b[0m[Heisenberg Kitaev Model] Adding non-modifying operator Operator(Sz/L, type_acting=Local, eigval=1.0, type=Other) at site 4 (sites: [4]) with multiplier 0.0\u001b[0m\n",
      "17_05_2025_23-45_27 [INFO] \t\t->\u001b[0m[Heisenberg Kitaev Model] Adding modifying operator Operator(Sx/L, type_acting=Local, eigval=1.0, type=Other) at site 4 (sites: [4]) with multiplier 0.0\u001b[0m\n",
      "17_05_2025_23-45_27 [INFO] \t\t->\u001b[0m[Heisenberg Kitaev Model] Adding non-modifying operator Operator(Sz/C, type_acting=Correlation, eigval=1.0, type=Other) at site 4 (sites: [4, 5]) with multiplier 1.0\u001b[0m\n",
      "17_05_2025_23-45_27 [INFO] \t\t->\u001b[0m[Heisenberg Kitaev Model] Adding modifying operator Operator(Sx/C, type_acting=Correlation, eigval=1.0, type=Other) at site 4 (sites: [4, 5]) with multiplier 2.0\u001b[0m\n",
      "17_05_2025_23-45_27 [INFO] \t\t->\u001b[0m[Heisenberg Kitaev Model] Adding modifying operator Operator(Sy/C, type_acting=Correlation, eigval=1.0, type=Other) at site 4 (sites: [4, 5]) with multiplier 1.0\u001b[0m\n",
      "17_05_2025_23-45_27 [INFO] \t\t->\u001b[0m[Heisenberg Kitaev Model] Adding non-modifying operator Operator(Sz/L, type_acting=Local, eigval=1.0, type=Other) at site 5 (sites: [5]) with multiplier 0.0\u001b[0m\n",
      "17_05_2025_23-45_27 [INFO] \t\t->\u001b[0m[Heisenberg Kitaev Model] Adding modifying operator Operator(Sx/L, type_acting=Local, eigval=1.0, type=Other) at site 5 (sites: [5]) with multiplier 0.0\u001b[0m\n",
      "17_05_2025_23-45_27 [INFO] \t\t->\u001b[0m[Heisenberg Kitaev Model] Adding non-modifying operator Operator(Sz/C, type_acting=Correlation, eigval=1.0, type=Other) at site 5 (sites: [5, 8]) with multiplier 2.0\u001b[0m\n",
      "17_05_2025_23-45_27 [INFO] \t\t->\u001b[0m[Heisenberg Kitaev Model] Adding modifying operator Operator(Sx/C, type_acting=Correlation, eigval=1.0, type=Other) at site 5 (sites: [5, 8]) with multiplier 1.0\u001b[0m\n",
      "17_05_2025_23-45_27 [INFO] \t\t->\u001b[0m[Heisenberg Kitaev Model] Adding modifying operator Operator(Sy/C, type_acting=Correlation, eigval=1.0, type=Other) at site 5 (sites: [5, 8]) with multiplier 1.0\u001b[0m\n",
      "17_05_2025_23-45_27 [INFO] \t\t->\u001b[0m[Heisenberg Kitaev Model] Adding non-modifying operator Operator(Sz/C, type_acting=Correlation, eigval=1.0, type=Other) at site 5 (sites: [5, 6]) with multiplier 1.0\u001b[0m\n",
      "17_05_2025_23-45_27 [INFO] \t\t->\u001b[0m[Heisenberg Kitaev Model] Adding modifying operator Operator(Sx/C, type_acting=Correlation, eigval=1.0, type=Other) at site 5 (sites: [5, 6]) with multiplier 1.0\u001b[0m\n",
      "17_05_2025_23-45_27 [INFO] \t\t->\u001b[0m[Heisenberg Kitaev Model] Adding modifying operator Operator(Sy/C, type_acting=Correlation, eigval=1.0, type=Other) at site 5 (sites: [5, 6]) with multiplier 2.0\u001b[0m\n",
      "17_05_2025_23-45_27 [INFO] \t\t->\u001b[0m[Heisenberg Kitaev Model] Adding non-modifying operator Operator(Sz/L, type_acting=Local, eigval=1.0, type=Other) at site 6 (sites: [6]) with multiplier 0.0\u001b[0m\n",
      "17_05_2025_23-45_27 [INFO] \t\t->\u001b[0m[Heisenberg Kitaev Model] Adding modifying operator Operator(Sx/L, type_acting=Local, eigval=1.0, type=Other) at site 6 (sites: [6]) with multiplier 0.0\u001b[0m\n",
      "17_05_2025_23-45_27 [INFO] \t\t->\u001b[0m[Heisenberg Kitaev Model] Adding non-modifying operator Operator(Sz/C, type_acting=Correlation, eigval=1.0, type=Other) at site 6 (sites: [6, 7]) with multiplier 1.0\u001b[0m\n",
      "17_05_2025_23-45_27 [INFO] \t\t->\u001b[0m[Heisenberg Kitaev Model] Adding modifying operator Operator(Sx/C, type_acting=Correlation, eigval=1.0, type=Other) at site 6 (sites: [6, 7]) with multiplier 2.0\u001b[0m\n",
      "17_05_2025_23-45_27 [INFO] \t\t->\u001b[0m[Heisenberg Kitaev Model] Adding modifying operator Operator(Sy/C, type_acting=Correlation, eigval=1.0, type=Other) at site 6 (sites: [6, 7]) with multiplier 1.0\u001b[0m\n",
      "17_05_2025_23-45_27 [INFO] \t\t->\u001b[0m[Heisenberg Kitaev Model] Adding non-modifying operator Operator(Sz/L, type_acting=Local, eigval=1.0, type=Other) at site 7 (sites: [7]) with multiplier 0.0\u001b[0m\n",
      "17_05_2025_23-45_27 [INFO] \t\t->\u001b[0m[Heisenberg Kitaev Model] Adding modifying operator Operator(Sx/L, type_acting=Local, eigval=1.0, type=Other) at site 7 (sites: [7]) with multiplier 0.0\u001b[0m\n",
      "17_05_2025_23-45_27 [INFO] \t\t->\u001b[0m[Heisenberg Kitaev Model] Adding non-modifying operator Operator(Sz/C, type_acting=Correlation, eigval=1.0, type=Other) at site 7 (sites: [7, 10]) with multiplier 2.0\u001b[0m\n",
      "17_05_2025_23-45_27 [INFO] \t\t->\u001b[0m[Heisenberg Kitaev Model] Adding modifying operator Operator(Sx/C, type_acting=Correlation, eigval=1.0, type=Other) at site 7 (sites: [7, 10]) with multiplier 1.0\u001b[0m\n",
      "17_05_2025_23-45_27 [INFO] \t\t->\u001b[0m[Heisenberg Kitaev Model] Adding modifying operator Operator(Sy/C, type_acting=Correlation, eigval=1.0, type=Other) at site 7 (sites: [7, 10]) with multiplier 1.0\u001b[0m\n",
      "17_05_2025_23-45_27 [INFO] \t\t->\u001b[0m[Heisenberg Kitaev Model] Adding non-modifying operator Operator(Sz/C, type_acting=Correlation, eigval=1.0, type=Other) at site 7 (sites: [7, 4]) with multiplier 1.0\u001b[0m\n",
      "17_05_2025_23-45_27 [INFO] \t\t->\u001b[0m[Heisenberg Kitaev Model] Adding modifying operator Operator(Sx/C, type_acting=Correlation, eigval=1.0, type=Other) at site 7 (sites: [7, 4]) with multiplier 1.0\u001b[0m\n",
      "17_05_2025_23-45_27 [INFO] \t\t->\u001b[0m[Heisenberg Kitaev Model] Adding modifying operator Operator(Sy/C, type_acting=Correlation, eigval=1.0, type=Other) at site 7 (sites: [7, 4]) with multiplier 2.0\u001b[0m\n",
      "17_05_2025_23-45_27 [INFO] \t\t->\u001b[0m[Heisenberg Kitaev Model] Adding non-modifying operator Operator(Sz/L, type_acting=Local, eigval=1.0, type=Other) at site 8 (sites: [8]) with multiplier 0.0\u001b[0m\n",
      "17_05_2025_23-45_27 [INFO] \t\t->\u001b[0m[Heisenberg Kitaev Model] Adding modifying operator Operator(Sx/L, type_acting=Local, eigval=1.0, type=Other) at site 8 (sites: [8]) with multiplier 0.0\u001b[0m\n",
      "17_05_2025_23-45_27 [INFO] \t\t->\u001b[0m[Heisenberg Kitaev Model] Adding non-modifying operator Operator(Sz/C, type_acting=Correlation, eigval=1.0, type=Other) at site 8 (sites: [8, 9]) with multiplier 1.0\u001b[0m\n",
      "17_05_2025_23-45_27 [INFO] \t\t->\u001b[0m[Heisenberg Kitaev Model] Adding modifying operator Operator(Sx/C, type_acting=Correlation, eigval=1.0, type=Other) at site 8 (sites: [8, 9]) with multiplier 2.0\u001b[0m\n",
      "17_05_2025_23-45_27 [INFO] \t\t->\u001b[0m[Heisenberg Kitaev Model] Adding modifying operator Operator(Sy/C, type_acting=Correlation, eigval=1.0, type=Other) at site 8 (sites: [8, 9]) with multiplier 1.0\u001b[0m\n",
      "17_05_2025_23-45_27 [INFO] \t\t->\u001b[0m[Heisenberg Kitaev Model] Adding non-modifying operator Operator(Sz/L, type_acting=Local, eigval=1.0, type=Other) at site 9 (sites: [9]) with multiplier 0.0\u001b[0m\n",
      "17_05_2025_23-45_27 [INFO] \t\t->\u001b[0m[Heisenberg Kitaev Model] Adding modifying operator Operator(Sx/L, type_acting=Local, eigval=1.0, type=Other) at site 9 (sites: [9]) with multiplier 0.0\u001b[0m\n",
      "17_05_2025_23-45_27 [INFO] \t\t->\u001b[0m[Heisenberg Kitaev Model] Adding non-modifying operator Operator(Sz/C, type_acting=Correlation, eigval=1.0, type=Other) at site 9 (sites: [9, 12]) with multiplier 2.0\u001b[0m\n",
      "17_05_2025_23-45_27 [INFO] \t\t->\u001b[0m[Heisenberg Kitaev Model] Adding modifying operator Operator(Sx/C, type_acting=Correlation, eigval=1.0, type=Other) at site 9 (sites: [9, 12]) with multiplier 1.0\u001b[0m\n",
      "17_05_2025_23-45_27 [INFO] \t\t->\u001b[0m[Heisenberg Kitaev Model] Adding modifying operator Operator(Sy/C, type_acting=Correlation, eigval=1.0, type=Other) at site 9 (sites: [9, 12]) with multiplier 1.0\u001b[0m\n",
      "17_05_2025_23-45_27 [INFO] \t\t->\u001b[0m[Heisenberg Kitaev Model] Adding non-modifying operator Operator(Sz/C, type_acting=Correlation, eigval=1.0, type=Other) at site 9 (sites: [9, 10]) with multiplier 1.0\u001b[0m\n",
      "17_05_2025_23-45_27 [INFO] \t\t->\u001b[0m[Heisenberg Kitaev Model] Adding modifying operator Operator(Sx/C, type_acting=Correlation, eigval=1.0, type=Other) at site 9 (sites: [9, 10]) with multiplier 1.0\u001b[0m\n",
      "17_05_2025_23-45_27 [INFO] \t\t->\u001b[0m[Heisenberg Kitaev Model] Adding modifying operator Operator(Sy/C, type_acting=Correlation, eigval=1.0, type=Other) at site 9 (sites: [9, 10]) with multiplier 2.0\u001b[0m\n",
      "17_05_2025_23-45_27 [INFO] \t\t->\u001b[0m[Heisenberg Kitaev Model] Adding non-modifying operator Operator(Sz/L, type_acting=Local, eigval=1.0, type=Other) at site 10 (sites: [10]) with multiplier 0.0\u001b[0m\n",
      "17_05_2025_23-45_27 [INFO] \t\t->\u001b[0m[Heisenberg Kitaev Model] Adding modifying operator Operator(Sx/L, type_acting=Local, eigval=1.0, type=Other) at site 10 (sites: [10]) with multiplier 0.0\u001b[0m\n",
      "17_05_2025_23-45_27 [INFO] \t\t->\u001b[0m[Heisenberg Kitaev Model] Adding non-modifying operator Operator(Sz/C, type_acting=Correlation, eigval=1.0, type=Other) at site 10 (sites: [10, 11]) with multiplier 1.0\u001b[0m\n",
      "17_05_2025_23-45_27 [INFO] \t\t->\u001b[0m[Heisenberg Kitaev Model] Adding modifying operator Operator(Sx/C, type_acting=Correlation, eigval=1.0, type=Other) at site 10 (sites: [10, 11]) with multiplier 2.0\u001b[0m\n",
      "17_05_2025_23-45_27 [INFO] \t\t->\u001b[0m[Heisenberg Kitaev Model] Adding modifying operator Operator(Sy/C, type_acting=Correlation, eigval=1.0, type=Other) at site 10 (sites: [10, 11]) with multiplier 1.0\u001b[0m\n",
      "17_05_2025_23-45_27 [INFO] \t\t->\u001b[0m[Heisenberg Kitaev Model] Adding non-modifying operator Operator(Sz/L, type_acting=Local, eigval=1.0, type=Other) at site 11 (sites: [11]) with multiplier 0.0\u001b[0m\n",
      "17_05_2025_23-45_27 [INFO] \t\t->\u001b[0m[Heisenberg Kitaev Model] Adding modifying operator Operator(Sx/L, type_acting=Local, eigval=1.0, type=Other) at site 11 (sites: [11]) with multiplier 0.0\u001b[0m\n",
      "17_05_2025_23-45_27 [INFO] \t\t->\u001b[0m[Heisenberg Kitaev Model] Adding non-modifying operator Operator(Sz/C, type_acting=Correlation, eigval=1.0, type=Other) at site 11 (sites: [11, 14]) with multiplier 2.0\u001b[0m\n",
      "17_05_2025_23-45_27 [INFO] \t\t->\u001b[0m[Heisenberg Kitaev Model] Adding modifying operator Operator(Sx/C, type_acting=Correlation, eigval=1.0, type=Other) at site 11 (sites: [11, 14]) with multiplier 1.0\u001b[0m\n",
      "17_05_2025_23-45_27 [INFO] \t\t->\u001b[0m[Heisenberg Kitaev Model] Adding modifying operator Operator(Sy/C, type_acting=Correlation, eigval=1.0, type=Other) at site 11 (sites: [11, 14]) with multiplier 1.0\u001b[0m\n",
      "17_05_2025_23-45_27 [INFO] \t\t->\u001b[0m[Heisenberg Kitaev Model] Adding non-modifying operator Operator(Sz/C, type_acting=Correlation, eigval=1.0, type=Other) at site 11 (sites: [11, 8]) with multiplier 1.0\u001b[0m\n",
      "17_05_2025_23-45_27 [INFO] \t\t->\u001b[0m[Heisenberg Kitaev Model] Adding modifying operator Operator(Sx/C, type_acting=Correlation, eigval=1.0, type=Other) at site 11 (sites: [11, 8]) with multiplier 1.0\u001b[0m\n",
      "17_05_2025_23-45_27 [INFO] \t\t->\u001b[0m[Heisenberg Kitaev Model] Adding modifying operator Operator(Sy/C, type_acting=Correlation, eigval=1.0, type=Other) at site 11 (sites: [11, 8]) with multiplier 2.0\u001b[0m\n",
      "17_05_2025_23-45_27 [INFO] \t\t->\u001b[0m[Heisenberg Kitaev Model] Adding non-modifying operator Operator(Sz/L, type_acting=Local, eigval=1.0, type=Other) at site 12 (sites: [12]) with multiplier 0.0\u001b[0m\n",
      "17_05_2025_23-45_27 [INFO] \t\t->\u001b[0m[Heisenberg Kitaev Model] Adding modifying operator Operator(Sx/L, type_acting=Local, eigval=1.0, type=Other) at site 12 (sites: [12]) with multiplier 0.0\u001b[0m\n",
      "17_05_2025_23-45_27 [INFO] \t\t->\u001b[0m[Heisenberg Kitaev Model] Adding non-modifying operator Operator(Sz/C, type_acting=Correlation, eigval=1.0, type=Other) at site 12 (sites: [12, 13]) with multiplier 1.0\u001b[0m\n",
      "17_05_2025_23-45_27 [INFO] \t\t->\u001b[0m[Heisenberg Kitaev Model] Adding modifying operator Operator(Sx/C, type_acting=Correlation, eigval=1.0, type=Other) at site 12 (sites: [12, 13]) with multiplier 2.0\u001b[0m\n",
      "17_05_2025_23-45_27 [INFO] \t\t->\u001b[0m[Heisenberg Kitaev Model] Adding modifying operator Operator(Sy/C, type_acting=Correlation, eigval=1.0, type=Other) at site 12 (sites: [12, 13]) with multiplier 1.0\u001b[0m\n",
      "17_05_2025_23-45_27 [INFO] \t\t->\u001b[0m[Heisenberg Kitaev Model] Adding non-modifying operator Operator(Sz/L, type_acting=Local, eigval=1.0, type=Other) at site 13 (sites: [13]) with multiplier 0.0\u001b[0m\n",
      "17_05_2025_23-45_27 [INFO] \t\t->\u001b[0m[Heisenberg Kitaev Model] Adding modifying operator Operator(Sx/L, type_acting=Local, eigval=1.0, type=Other) at site 13 (sites: [13]) with multiplier 0.0\u001b[0m\n",
      "17_05_2025_23-45_27 [INFO] \t\t->\u001b[0m[Heisenberg Kitaev Model] Adding non-modifying operator Operator(Sz/C, type_acting=Correlation, eigval=1.0, type=Other) at site 13 (sites: [13, 14]) with multiplier 1.0\u001b[0m\n",
      "17_05_2025_23-45_27 [INFO] \t\t->\u001b[0m[Heisenberg Kitaev Model] Adding modifying operator Operator(Sx/C, type_acting=Correlation, eigval=1.0, type=Other) at site 13 (sites: [13, 14]) with multiplier 1.0\u001b[0m\n",
      "17_05_2025_23-45_27 [INFO] \t\t->\u001b[0m[Heisenberg Kitaev Model] Adding modifying operator Operator(Sy/C, type_acting=Correlation, eigval=1.0, type=Other) at site 13 (sites: [13, 14]) with multiplier 2.0\u001b[0m\n",
      "17_05_2025_23-45_27 [INFO] \t\t->\u001b[0m[Heisenberg Kitaev Model] Adding non-modifying operator Operator(Sz/L, type_acting=Local, eigval=1.0, type=Other) at site 14 (sites: [14]) with multiplier 0.0\u001b[0m\n",
      "17_05_2025_23-45_27 [INFO] \t\t->\u001b[0m[Heisenberg Kitaev Model] Adding modifying operator Operator(Sx/L, type_acting=Local, eigval=1.0, type=Other) at site 14 (sites: [14]) with multiplier 0.0\u001b[0m\n",
      "17_05_2025_23-45_27 [INFO] \t\t->\u001b[0m[Heisenberg Kitaev Model] Adding non-modifying operator Operator(Sz/C, type_acting=Correlation, eigval=1.0, type=Other) at site 14 (sites: [14, 15]) with multiplier 1.0\u001b[0m\n",
      "17_05_2025_23-45_27 [INFO] \t\t->\u001b[0m[Heisenberg Kitaev Model] Adding modifying operator Operator(Sx/C, type_acting=Correlation, eigval=1.0, type=Other) at site 14 (sites: [14, 15]) with multiplier 2.0\u001b[0m\n",
      "17_05_2025_23-45_27 [INFO] \t\t->\u001b[0m[Heisenberg Kitaev Model] Adding modifying operator Operator(Sy/C, type_acting=Correlation, eigval=1.0, type=Other) at site 14 (sites: [14, 15]) with multiplier 1.0\u001b[0m\n",
      "17_05_2025_23-45_27 [INFO] \t\t->\u001b[0m[Heisenberg Kitaev Model] Adding non-modifying operator Operator(Sz/L, type_acting=Local, eigval=1.0, type=Other) at site 15 (sites: [15]) with multiplier 0.0\u001b[0m\n",
      "17_05_2025_23-45_27 [INFO] \t\t->\u001b[0m[Heisenberg Kitaev Model] Adding modifying operator Operator(Sx/L, type_acting=Local, eigval=1.0, type=Other) at site 15 (sites: [15]) with multiplier 0.0\u001b[0m\n",
      "17_05_2025_23-45_27 [INFO] \t\t->\u001b[0m[Heisenberg Kitaev Model] Adding non-modifying operator Operator(Sz/C, type_acting=Correlation, eigval=1.0, type=Other) at site 15 (sites: [15, 12]) with multiplier 1.0\u001b[0m\n",
      "17_05_2025_23-45_27 [INFO] \t\t->\u001b[0m[Heisenberg Kitaev Model] Adding modifying operator Operator(Sx/C, type_acting=Correlation, eigval=1.0, type=Other) at site 15 (sites: [15, 12]) with multiplier 1.0\u001b[0m\n",
      "17_05_2025_23-45_27 [INFO] \t\t->\u001b[0m[Heisenberg Kitaev Model] Adding modifying operator Operator(Sy/C, type_acting=Correlation, eigval=1.0, type=Other) at site 15 (sites: [15, 12]) with multiplier 2.0\u001b[0m\n",
      "17_05_2025_23-45_27 [INFO] \t->\u001b[0m[Heisenberg Kitaev Model] Successfully set local energy operators...\u001b[0m\n",
      "17_05_2025_23-45_27 [INFO] \u001b[31m#####################################################################Hamiltonian#####################################################################\u001b[0m\n"
     ]
    },
    {
     "data": {
      "text/plain": [
       "HeiKit(Ns=16,J=1.0,Kx=1.0,Ky=1.0,Kz=1.0,\n",
       "dlt=1.0,hz=0.0,hx=0.0,LatticeBC.MBC)"
      ]
     },
     "execution_count": 4,
     "metadata": {},
     "output_type": "execute_result"
    }
   ],
   "source": [
    "if ham_type == 'HeisenbergKitaev':\n",
    "    hamil = HeisenbergKitaev(lattice    = lattice,\n",
    "                        hilbert_space   = None,\n",
    "                        hx              = 0.0,\n",
    "                        hz              = 0.0,\n",
    "                        kx              = 1.0,\n",
    "                        ky              = 1.0,\n",
    "                        kz              = 1.0,\n",
    "                        j               = 1.0,\n",
    "                        dlt             = 1.0,\n",
    "                        dtype           = ham_dtype,\n",
    "                        backend         = backend)\n",
    "\n",
    "elif ham_type == 'TransverseFieldIsing':\n",
    "    hamil = TransverseFieldIsing(\n",
    "                        lattice        = lattice,\n",
    "                        hilbert_space  = None,\n",
    "                        hz             = 2.5,\n",
    "                        hx             = -1.4,\n",
    "                        # hx             = -0.7,    # same, but we use spin = 1/2\n",
    "                        j              = 4.0,          \n",
    "                        # j              = -1.0,    # same, but we use spin = 1/2          \n",
    "                        dtype          = ham_dtype,\n",
    "                        backend        = backend\n",
    "                )\n",
    "elif ham_type == 'DummyHamiltonian':\n",
    "    hamil = DummyHamiltonian(\n",
    "                        lattice        = lattice,\n",
    "                        hilbert_space  = None,\n",
    "                        dtype          = ham_dtype,\n",
    "                        backend        = backend\n",
    "                )\n",
    "else:\n",
    "    raise ValueError(f\"Unknown Hamiltonian type: {ham_type}\")\n",
    "\n",
    "logger.title('Hamiltonian', desired_size=150, fill='#', color='red')\n",
    "hamil"
   ]
  },
  {
   "cell_type": "code",
   "execution_count": 17,
   "id": "11d08b0f",
   "metadata": {},
   "outputs": [
    {
     "name": "stdout",
     "output_type": "stream",
     "text": [
      "17_05_2025_23-51_36 [INFO] \t\t\t->\u001b[0m[Heisenberg Kitaev Model] JAX is available but NumPy is forced...\u001b[0m\n",
      "17_05_2025_23-51_36 [INFO] \t\t->\u001b[0m[Heisenberg Kitaev Model] Calculating the Hamiltonian matrix using NumPy...\u001b[0m\n"
     ]
    },
    {
     "ename": "",
     "evalue": "",
     "output_type": "error",
     "traceback": [
      "\u001b[1;31mCannot execute code, session has been disposed. Please try restarting the Kernel."
     ]
    },
    {
     "ename": "",
     "evalue": "",
     "output_type": "error",
     "traceback": [
      "\u001b[1;31mCannot execute code, session has been disposed. Please try restarting the Kernel. \n",
      "\u001b[1;31mView Jupyter <a href='command:jupyter.viewOutput'>log</a> for further details."
     ]
    }
   ],
   "source": [
    "if hamil.hilbert_size <= 2**20:\n",
    "    time0   = time.time()\n",
    "    hamil.build(use_numpy=True)\n",
    "    time1   = time.time()\n",
    "    logger.info(f\"Time to build Hamiltonian: {time1 - time0:.2f} seconds\", color='green')\n",
    "    \n",
    "    if hamil.hilbert_size <= 2**12:\n",
    "        hamil.diagonalize()\n",
    "    else:\n",
    "        hamil.diagonalize(method = 'lanczos', k = 50)\n",
    "    time2   = time.time()\n",
    "    logger.info(f\"Time to diagonalize Hamiltonian: {time2 - time1:.2f} seconds\", color='blue')\n",
    "    eigv    = hamil.get_eigval()\n",
    "    \n",
    "    #! Test the operator expectation in the ground state\n",
    "    if hamil.hilbert_size <= 2**12:\n",
    "        gs              = hamil.get_eigvec(0)\n",
    "        # test energy \n",
    "        hamil_mat       = hamil.hamil\n",
    "        energy_0        = overlap(gs, hamil_mat, backend = np)   \n",
    "        logger.info(f\"Energy of the ground state: {energy_0:.4f}\", color='green')\n",
    "        \n",
    "        sig_x_op_mat    = sig_x.matrix(dim = hamil.hilbert_size, use_numpy = True)\n",
    "        sig_z_op_mat    = sig_z.matrix(dim = hamil.hilbert_size, use_numpy = True)\n",
    "        sig_x_op_mat_c  = sig_x_c.matrix(dim = hamil.hilbert_size, use_numpy = True)\n",
    "        sig_z_op_mat_c  = sig_z_c.matrix(dim = hamil.hilbert_size, use_numpy = True)\n",
    "\n",
    "        ed_sig_x_exp    = overlap(gs, sig_x_op_mat, backend = np)\n",
    "        ed_sig_z_exp    = overlap(gs, sig_z_op_mat, backend = np)\n",
    "        ed_sig_x_exp_c  = overlap(gs, sig_x_op_mat_c, backend = np)\n",
    "        ed_sig_z_exp_c  = overlap(gs, sig_z_op_mat_c, backend = np)\n",
    "        logger.info(f\"sig_x expectation value: {ed_sig_x_exp:.4f}\", color='green')\n",
    "        logger.info(f\"sig_z expectation value: {ed_sig_z_exp:.4f}\", color='green')\n",
    "        logger.info(f\"sig_x expectation value (c): {ed_sig_x_exp_c:.4f}\", color='green')\n",
    "        logger.info(f\"sig_z expectation value (c): {ed_sig_z_exp_c:.4f}\", color='green')\n",
    "    else:\n",
    "        ed_sig_x_exp    = None\n",
    "        ed_sig_z_exp    = None\n",
    "        ed_sig_x_exp_c  = None\n",
    "        ed_sig_z_exp_c  = None\n",
    "        logger.info(f\"(TODO) Cannot compute expectation values for Hamiltonian: {hamil.hilbert_size} > 2^12\", color='red')\n",
    "else:\n",
    "    eigv                = [None]\n",
    "    ed_sig_x_exp        = None\n",
    "    ed_sig_z_exp        = None\n",
    "    ed_sig_x_exp_c      = None\n",
    "    ed_sig_z_exp_c      = None\n",
    "    logger.info(f\"Cannot diagonalize Hamiltonian: {hamil.hilbert_size} > 2^20\", color='red')\n",
    "    "
   ]
  },
  {
   "cell_type": "markdown",
   "id": "6dc5eb0a",
   "metadata": {},
   "source": [
    "#### Plot if needed"
   ]
  },
  {
   "cell_type": "code",
   "execution_count": 6,
   "id": "48b0321a",
   "metadata": {},
   "outputs": [
    {
     "data": {
      "image/png": "[encoded data removed]",
      "text/plain": [
       "<Figure size 400x300 with 1 Axes>"
      ]
     },
     "metadata": {},
     "output_type": "display_data"
    }
   ],
   "source": [
    "if eigv is not None:\n",
    "    fig, ax = Plotter.get_subplots(\n",
    "        nrows       = 1,\n",
    "        ncols       = 1,\n",
    "        figsize     = (4, 3),\n",
    "        dpi         = 100,\n",
    "    )\n",
    "    x   = np.arange(0, len(eigv))\n",
    "    y   = eigv\n",
    "    ax[0].plot(x, y / lattice.ns, 'o', markersize=2)\n",
    "    ax[0].set_xlabel(r'$\\mathcal{e}$')\n",
    "    ax[0].set_ylabel(r'$E/N_s$')\n",
    "    ax[0].axhline(eigv[0] / lattice.ns, color='r', linestyle='--', label=f'Ground state {eigv[0] / lattice.ns :.3e}')\n",
    "    ax[0].legend()"
   ]
  },
  {
   "cell_type": "markdown",
   "id": "7579bc28",
   "metadata": {},
   "source": [
    "### Network - variational ansatz body $\\psi _\\theta (s)$ and its gradient $\\nabla \\psi _\\theta (s)$."
   ]
  },
  {
   "cell_type": "code",
   "execution_count": 7,
   "id": "c90ee629",
   "metadata": {},
   "outputs": [
    {
     "name": "stdout",
     "output_type": "stream",
     "text": [
      "17_05_2025_23-46_14 [INFO] \t->\u001b[34m[GeneralNet] Holomorphic check result (||∇Re[f] - i*∇Im[f]|| / ||∇Re[f]|| ≈ 0): True\u001b[0m\n",
      "17_05_2025_23-46_14 [INFO] \t->\u001b[34m[GeneralNet] FlaxInterface initialized: dtype=complex128, is_complex=True, nparams=560, is_holomorphic=True\u001b[0m\n"
     ]
    },
    {
     "data": {
      "text/plain": [
       "ComplexRBM(shape=(16,), hidden=32, bias=on, visible_bias=on, dtype=complex128, params=560, analytic_grad=False, initialized)"
      ]
     },
     "execution_count": 7,
     "metadata": {},
     "output_type": "execute_result"
    }
   ],
   "source": [
    "if network_type == 'RBM':\n",
    "    net = RBM(\n",
    "        input_shape         = st_shape, \n",
    "        n_hidden            = int(alpha * ns),\n",
    "        dtype               = dtypex,\n",
    "        param_dtype         = dtypex,\n",
    "        seed                = seed,\n",
    "        visible_bias        = True,\n",
    "        bias                = True,\n",
    "    )\n",
    "elif network_type == 'CNN':\n",
    "    net     = CNN(\n",
    "        input_shape         = st_shape,\n",
    "        reshape_dims        = (lx, ly * mult),\n",
    "        features            = (8,) * alpha,\n",
    "        strides             = [(1, 1)] * alpha,\n",
    "        kernel_sizes        = [(2, 2)] * alpha,\n",
    "        activations         = [elu_jnp] * alpha,\n",
    "        dtype               = dtypex,\n",
    "        param_dtype         = dtypex,\n",
    "        final_activation    = elu_jnp,\n",
    "        seed                = seed,\n",
    "        output_shape        = (1,)\n",
    "    )\n",
    "else:\n",
    "    raise ValueError(f\"Unknown network type: {network_type}\")\n",
    "net"
   ]
  },
  {
   "cell_type": "markdown",
   "id": "8079b2cb",
   "metadata": {},
   "source": [
    "### Sampler - sampling from the distribution $p_\\theta (s)$."
   ]
  },
  {
   "cell_type": "code",
   "execution_count": 8,
   "id": "9c866d71",
   "metadata": {},
   "outputs": [
    {
     "data": {
      "text/plain": [
       "MCSampler(shape=(16,), mu=2.0, beta=1.0, therm_steps=25, sweep_steps=16, numsamples=100, numchains=5, backend=jax)"
      ]
     },
     "execution_count": 8,
     "metadata": {},
     "output_type": "execute_result"
    }
   ],
   "source": [
    "n_chains        = 5\n",
    "n_samples       = 100\n",
    "n_therm_steps   = 25\n",
    "sampler         = Sampler.MCSampler(\n",
    "                    net             = net,\n",
    "                    shape           = st_shape,\n",
    "                    rng             = rng,\n",
    "                    rng_k           = rng_k,\n",
    "                    numchains       = n_chains,\n",
    "                    numsamples      = n_samples,\n",
    "                    sweep_steps     = ns,\n",
    "                    backend         = backend_np,\n",
    "                    therm_steps     = n_therm_steps,\n",
    "                    mu              = 2.0,\n",
    "                    seed            = seed,\n",
    "                    dtype           = dtypex,\n",
    "                    statetype       = np.float32,\n",
    "                    makediffer      = True\n",
    "                )\n",
    "do_tests    = False\n",
    "sampler_fun = sampler.get_sampler_jax()\n",
    "sampler"
   ]
  },
  {
   "cell_type": "markdown",
   "id": "7dbf9357",
   "metadata": {},
   "source": [
    "#### Optional tests"
   ]
  },
  {
   "cell_type": "code",
   "execution_count": 9,
   "id": "34275ca2",
   "metadata": {},
   "outputs": [
    {
     "name": "stdout",
     "output_type": "stream",
     "text": [
      "28.4 ns ± 20.9 ns per loop (mean ± std. dev. of 5 runs, 5 loops each)\n"
     ]
    }
   ],
   "source": [
    "%%timeit -r 5 -n 5\n",
    "if do_tests:\n",
    "    sampler.sample()"
   ]
  },
  {
   "cell_type": "code",
   "execution_count": 10,
   "id": "b74803c9",
   "metadata": {},
   "outputs": [
    {
     "name": "stdout",
     "output_type": "stream",
     "text": [
      "43.3 ns ± 41.6 ns per loop (mean ± std. dev. of 5 runs, 5 loops each)\n"
     ]
    }
   ],
   "source": [
    "%%timeit -r 5 -n 5\n",
    "if do_tests:\n",
    "    sampler_fun(sampler.states, sampler.rng_k, net.get_params())"
   ]
  },
  {
   "cell_type": "code",
   "execution_count": 11,
   "id": "825f4019",
   "metadata": {},
   "outputs": [],
   "source": [
    "if do_tests:\n",
    "    samples = sampler.sample()\n",
    "    samples[1][0].shape"
   ]
  },
  {
   "cell_type": "code",
   "execution_count": 12,
   "id": "da53a185",
   "metadata": {},
   "outputs": [],
   "source": [
    "import time \n",
    "\n",
    "# seems is 5-10x faster than vmc_jax\n",
    "def multiple_samples(n):\n",
    "    samples = []\n",
    "    for i in range(n):\n",
    "        start       = time.time()\n",
    "        samples     = sampler.sample()\n",
    "        samples[0][0].block_until_ready()\n",
    "        end         = time.time()\n",
    "        print(f\"Time taken for iteration {i}: {end - start:.4f} seconds\")\n",
    "    return samples\n",
    "\n",
    "if do_tests:\n",
    "    samples = multiple_samples(50)"
   ]
  },
  {
   "cell_type": "code",
   "execution_count": 13,
   "id": "29f1ee8e",
   "metadata": {},
   "outputs": [],
   "source": [
    "if do_tests:\n",
    "    x, y, z     = samples\n",
    "    y_st, y_an  = y\n",
    "    logger.info(f\"y_st: {y_st}, shape: {y_st.shape}\")"
   ]
  },
  {
   "cell_type": "markdown",
   "id": "b9157d81",
   "metadata": {},
   "source": [
    "### Stepper - TDVP stepper for the time evolution of the state $\\psi _\\theta (s)$."
   ]
  },
  {
   "cell_type": "code",
   "execution_count": 9,
   "id": "551c2668",
   "metadata": {},
   "outputs": [
    {
     "data": {
      "text/plain": [
       "Euler(dt=0.02, backend=jax, rhs_p=-1.0)"
      ]
     },
     "execution_count": 9,
     "metadata": {},
     "output_type": "execute_result"
    }
   ],
   "source": [
    "ode_solver = choose_ode(ode_type = ode_solver_type, backend = backend_np, dt = lr, rhs_prefactor = -1.0)\n",
    "ode_solver"
   ]
  },
  {
   "cell_type": "markdown",
   "id": "7ccd506f",
   "metadata": {},
   "source": [
    "### NQS - neural network quantum state $\\psi_\\theta (s)$ and its gradient $\\nabla \\psi_\\theta (s)$."
   ]
  },
  {
   "cell_type": "code",
   "execution_count": 10,
   "id": "cb454579",
   "metadata": {},
   "outputs": [
    {
     "name": "stdout",
     "output_type": "stream",
     "text": [
      "Warning: Ignoring invalid kwargs for JacobiPreconditioner: {'sigma': 0.1}\n",
      "17_05_2025_23-46_14 [INFO] \t->\u001b[33m[Jacobi Preconditioner] Resetting backend to: <module 'jax.numpy' from '/home/klimak/libraries/anaconda3/lib/python3.11/site-packages/jax/numpy/__init__.py'>\u001b[0m\n",
      "17_05_2025_23-46_14 [INFO] \t\t->\u001b[33m[Jacobi Preconditioner] JIT compiling apply_gram(r, S, Sp, ...) function...\u001b[0m\n"
     ]
    },
    {
     "data": {
      "text/plain": [
       "TDVP(backend=jax,use_sr=True,use_minsr=False,rhs_prefact=1.0,sr_snr_tol=1e-08,sr_pinv_tol=1e-08,sr_diag_shift=0.1,sr_maxiter=1000)"
      ]
     },
     "execution_count": 10,
     "metadata": {},
     "output_type": "execute_result"
    }
   ],
   "source": [
    "n_epo           = 1000\n",
    "n_sweep_steps   = ns\n",
    "n_batch         = 100\n",
    "\n",
    "# Other\n",
    "reg             = 1e-1\n",
    "maxiter         = 1000\n",
    "tolerance       = 1e-8\n",
    "use_min_sr      = False\n",
    "\n",
    "# Solver\n",
    "solver_id       = solvers.SolverType.SCIPY_CG\n",
    "precond_id      = preconditioners.PreconditionersTypeSym.JACOBI\n",
    "precond         = preconditioners.choose_precond(precond_id=precond_id, sigma=reg, backend=backend_np)\n",
    "# precond_id      = None\n",
    "\n",
    "tdvp = TDVP.TDVP(\n",
    "    use_sr          = True,\n",
    "    use_minsr       = False,\n",
    "    rhs_prefact     = 1.0,\n",
    "    sr_lin_solver   = solver_id,\n",
    "    sr_precond      = precond,\n",
    "    sr_pinv_tol     = tolerance,\n",
    "    sr_pinv_cutoff  = 1e-8,\n",
    "    sr_snr_tol      = tolerance,\n",
    "    sr_diag_shift   = reg,\n",
    "    sr_lin_solver_t = solvers.SolverForm.GRAM,\n",
    "    sr_maxiter      = maxiter,\n",
    "    backend         = backend_np\n",
    ")\n",
    "tdvp"
   ]
  },
  {
   "cell_type": "code",
   "execution_count": 11,
   "id": "1f68f7f5",
   "metadata": {},
   "outputs": [
    {
     "name": "stdout",
     "output_type": "stream",
     "text": [
      "17_05_2025_23-46_14 [INFO] \t->\u001b[34m[GeneralNet] Holomorphic check result (||∇Re[f] - i*∇Im[f]|| / ||∇Re[f]|| ≈ 0): True\u001b[0m\n",
      "17_05_2025_23-46_14 [INFO] \t->\u001b[34m[GeneralNet] FlaxInterface initialized: dtype=complex128, is_complex=True, nparams=560, is_holomorphic=True\u001b[0m\n",
      "17_05_2025_23-46_14 [INFO] \t->\u001b[34m[GeneralNet] Network <class 'QES.general_python.ml.net_impl.networks.net_rbm.RBM'> initialized with forced init.\u001b[0m\n",
      "17_05_2025_23-46_14 [INFO] \u001b[0m[ExponentialDecayScheduler] Initialized with initial LR: 2.0000e-02, decay rate: 0.0100\u001b[0m\n",
      "17_05_2025_23-46_14 [INFO] \u001b[0m[ConstantScheduler] Initialized with constant LR: 1.0000e-01\u001b[0m\n"
     ]
    },
    {
     "data": {
      "text/plain": [
       "NQS(ansatz=FlaxNetInterface(input_dim=16, dtype=complex128, flax_module=_FlaxRBM),sampler=MCSampler:\n",
       "  - State shape: (16,) (Size: 16)\n",
       "  - Backend: jax\n",
       "  - Chains: 5, Samples/Chain: 100\n",
       "  - Params: mu=2.000, beta=1.000, logprob_fact=0.500\n",
       "  - Thermalization: 25 sweeps x 16 steps/sweep (102400 total site updates/chain)\n",
       "  - Sampling: 16 steps/sample (25600 total site updates/chain)\n",
       ",backend=jax)"
      ]
     },
     "execution_count": 11,
     "metadata": {},
     "output_type": "execute_result"
    }
   ],
   "source": [
    "nqs = NQS.NQS(\n",
    "            net             = net,\n",
    "            sampler         = sampler,\n",
    "            hamiltonian     = hamil,\n",
    "            lower_betas     = None,\n",
    "            lower_states    = None,\n",
    "            seed            = seed,\n",
    "            beta            = 1.0,\n",
    "            mu              = sampler.get_mu(),\n",
    "            shape           = st_shape,\n",
    "            backend         = backend_np,\n",
    "            batch_size      = n_batch,\n",
    "            dtype           = dtypex,  \n",
    "        )\n",
    "nqs.reset()\n",
    "\n",
    "nqs_train = NQST.NQSTrainer(\n",
    "    nqs             = nqs,\n",
    "    ode_solver      = ode_solver,\n",
    "    tdvp            = tdvp,\n",
    "    n_batch         = n_batch,\n",
    "    lr_scheduler    = ExponentialDecayScheduler(lr, n_epo, lr_decay=1e-2, logger=logger, lr_clamp=1e-2),\n",
    "    early_stopper   = EarlyStopping(patience = 50, min_delta=1e-3, logger=logger),\n",
    "    reg_scheduler   = ConstantScheduler(reg, max_epochs=n_epo, lr_clamp=1e-2, logger=logger),\n",
    "    logger          = logger,\n",
    ")\n",
    "nqs"
   ]
  },
  {
   "cell_type": "code",
   "execution_count": 12,
   "id": "50f88db5",
   "metadata": {},
   "outputs": [
    {
     "data": {
      "text/plain": [
       "NQSTrainer(nqs=NQS(ansatz=FlaxNetInterface(input_dim=16, dtype=complex128, flax_module=_FlaxRBM),sampler=MCSampler:\n",
       "  - State shape: (16,) (Size: 16)\n",
       "  - Backend: jax\n",
       "  - Chains: 5, Samples/Chain: 100\n",
       "  - Params: mu=2.000, beta=1.000, logprob_fact=0.500\n",
       "  - Thermalization: 25 sweeps x 16 steps/sweep (102400 total site updates/chain)\n",
       "  - Sampling: 16 steps/sample (25600 total site updates/chain)\n",
       ",backend=jax), ode_solver=Euler(dt=0.02, backend=jax, rhs_p=-1.0), tdvp=TDVP(backend=jax,use_sr=True,use_minsr=False,rhs_prefact=1.0,sr_snr_tol=1e-08,sr_pinv_tol=1e-08,sr_diag_shift=0.1,sr_maxiter=1000)"
      ]
     },
     "execution_count": 12,
     "metadata": {},
     "output_type": "execute_result"
    }
   ],
   "source": [
    "nqs_train"
   ]
  },
  {
   "cell_type": "markdown",
   "id": "a36a6f8f",
   "metadata": {},
   "source": [
    "### Test the training of the NQS with a simple Hamiltonian."
   ]
  },
  {
   "cell_type": "code",
   "execution_count": 13,
   "id": "b46e97e6",
   "metadata": {},
   "outputs": [
    {
     "name": "stdout",
     "output_type": "stream",
     "text": [
      "17_05_2025_23-46_19 [INFO] \t->\u001b[0m[EarlyStopping] EarlyStopping reset.\u001b[0m\n"
     ]
    },
    {
     "name": "stderr",
     "output_type": "stream",
     "text": [
      "Training:  37%|███▋      | 372/1000 [01:44<02:53,  3.62it/s, E/N=-4.4278e-01-2.5854e-03j ± 1.8844e-01, lr=1.0e-02, sig=1.0e-01, t_sample=2.42e-01s, t_step=3.06e-02s, t_update=1.56e-03s, t_gradient=8.32e-05s, t_prepare=8.07e-04s, t_solve=1.60e-02s, t_total=2.91e-01s]"
     ]
    },
    {
     "name": "stdout",
     "output_type": "stream",
     "text": [
      "17_05_2025_23-48_04 [INFO] \u001b[33m[EarlyStopping] EarlyStopping: Metric did not improve for 50 epochs. Stopping.\u001b[0m\n",
      "17_05_2025_23-48_04 [INFO] Early stopping at epoch 372.\n"
     ]
    },
    {
     "name": "stderr",
     "output_type": "stream",
     "text": [
      "Training:  37%|███▋      | 372/1000 [01:44<02:57,  3.54it/s, E/N=-4.4278e-01-2.5854e-03j ± 1.8844e-01, lr=1.0e-02, sig=1.0e-01, t_sample=2.42e-01s, t_step=3.06e-02s, t_update=1.56e-03s, t_gradient=8.32e-05s, t_prepare=8.07e-04s, t_solve=1.60e-02s, t_total=2.91e-01s]\n"
     ]
    }
   ],
   "source": [
    "history, history_std, timings = nqs_train.train(n_epochs=n_epo, reset=False, use_lr_scheduler=(ode_solver_type=='Euler'), use_reg_scheduler=False)"
   ]
  },
  {
   "cell_type": "code",
   "execution_count": 15,
   "id": "73d384c7",
   "metadata": {},
   "outputs": [
    {
     "name": "stdout",
     "output_type": "stream",
     "text": [
      "17_05_2025_23-48_47 [INFO] \u001b[34mTime breakdown (s):\u001b[0m\n",
      "17_05_2025_23-48_47 [INFO] \t->- sampling: 9.01e+01 (86.4%)\n",
      "17_05_2025_23-48_47 [INFO] \t->- compute : 1.34e+01 (12.8%)\n",
      "17_05_2025_23-48_47 [INFO] \t->- update  : 8.17e-01 (0.8%)\n",
      "17_05_2025_23-48_47 [INFO] \t->- prepare : 4.02e-01 (0.4%)\n",
      "17_05_2025_23-48_47 [INFO] \t->- solve   : 5.50e+00 (5.3%)\n",
      "17_05_2025_23-48_47 [INFO] \t->- gradient: 8.35e-02 (0.1%)\n",
      "17_05_2025_23-48_47 [INFO] \u001b[32m- total   : 1.04e+02\u001b[0m\n",
      "17_05_2025_23-48_47 [INFO] Saved figure to './data/nqs_train/HeisenbergKitaev/gs_train.png' and JSON to './data/nqs_train/HeisenbergKitaev/'.\n",
      "17_05_2025_23-48_47 [INFO] \t->\u001b[32mSaved parameters to ./data/nqs_train/HeisenbergKitaev/gs_train_info.json\u001b[0m\n",
      "17_05_2025_23-48_47 [WARNING] Failed to save parameters: Object of type complex128 is not JSON serializable\n",
      "17_05_2025_23-48_47 [WARNING] Parameters are not saved.\n",
      "17_05_2025_23-48_47 [WARNING] \t->\u001b[31mYou can save them manually using `nqs.get_params()`.\u001b[0m\n"
     ]
    },
    {
     "data": {
      "text/plain": [
       "<matplotlib.lines.Line2D at 0x7c573854fd90>"
      ]
     },
     "execution_count": 15,
     "metadata": {},
     "output_type": "execute_result"
    },
    {
     "data": {
      "image/png": "[encoded data removed]",
      "text/plain": [
       "<Figure size 600x750 with 2 Axes>"
      ]
     },
     "metadata": {},
     "output_type": "display_data"
    }
   ],
   "source": [
    "fig, ax = nqs_train.report_gs(eigv=eigv[0], last_n=0.05, savedir=f'./data/nqs_train/{ham_type}/')\n",
    "ax[0].axvline(-18.583590144097595 / lattice.ns, color='r', linestyle='--', label=f'Ground state (DMRG) {-18.583590144097595 / lattice.ns :.3e}')\n"
   ]
  },
  {
   "cell_type": "code",
   "execution_count": 16,
   "id": "c529175a",
   "metadata": {},
   "outputs": [
    {
     "ename": "NameError",
     "evalue": "name 'ed_sig_z_exp' is not defined",
     "output_type": "error",
     "traceback": [
      "\u001b[0;31m---------------------------------------------------------------------------\u001b[0m",
      "\u001b[0;31mNameError\u001b[0m                                 Traceback (most recent call last)",
      "Cell \u001b[0;32mIn[16], line 3\u001b[0m\n\u001b[1;32m      1\u001b[0m results, energy, timings \u001b[38;5;241m=\u001b[39m nqs\u001b[38;5;241m.\u001b[39meval_observables(\n\u001b[1;32m      2\u001b[0m     operators      \u001b[38;5;241m=\u001b[39m [sig_z, sig_x, sig_z_c, sig_x_c],\n\u001b[0;32m----> 3\u001b[0m     true_values    \u001b[38;5;241m=\u001b[39m [ed_sig_z_exp, ed_sig_x_exp, ed_sig_z_exp_c, ed_sig_x_exp_c],\n\u001b[1;32m      4\u001b[0m     n_chains       \u001b[38;5;241m=\u001b[39m n_chains,\n\u001b[1;32m      5\u001b[0m     n_samples      \u001b[38;5;241m=\u001b[39m n_samples,\n\u001b[1;32m      6\u001b[0m     batch_size     \u001b[38;5;241m=\u001b[39m \u001b[38;5;241m100\u001b[39m,\n\u001b[1;32m      7\u001b[0m     logger         \u001b[38;5;241m=\u001b[39m logger,\n\u001b[1;32m      8\u001b[0m     plot           \u001b[38;5;241m=\u001b[39m \u001b[38;5;28;01mTrue\u001b[39;00m,\n\u001b[1;32m      9\u001b[0m     get_energy     \u001b[38;5;241m=\u001b[39m \u001b[38;5;28;01mTrue\u001b[39;00m,\n\u001b[1;32m     10\u001b[0m     bins           \u001b[38;5;241m=\u001b[39m \u001b[38;5;241m200\u001b[39m,\n\u001b[1;32m     11\u001b[0m     true_en        \u001b[38;5;241m=\u001b[39m energy_0,\n\u001b[1;32m     12\u001b[0m )\n",
      "\u001b[0;31mNameError\u001b[0m: name 'ed_sig_z_exp' is not defined"
     ]
    }
   ],
   "source": [
    "results, energy, timings = nqs.eval_observables(\n",
    "    operators      = [sig_z, sig_x, sig_z_c, sig_x_c],\n",
    "    true_values    = [ed_sig_z_exp, ed_sig_x_exp, ed_sig_z_exp_c, ed_sig_x_exp_c],\n",
    "    n_chains       = n_chains,\n",
    "    n_samples      = n_samples,\n",
    "    batch_size     = 100,\n",
    "    logger         = logger,\n",
    "    plot           = True,\n",
    "    get_energy     = True,\n",
    "    bins           = 200,\n",
    "    true_en        = energy_0,\n",
    ")"
   ]
  },
  {
   "cell_type": "markdown",
   "id": "6c12705b",
   "metadata": {},
   "source": [
    "### Test modifier"
   ]
  },
  {
   "cell_type": "code",
   "execution_count": null,
   "id": "6ac9632d",
   "metadata": {},
   "outputs": [],
   "source": [
    "from QES.Algebra.Operator.operator import initial_states, create_operator\n",
    "\n",
    "sites_all       = []\n",
    "operators_inv   = []\n",
    "# locals\n",
    "sites           = [0]\n",
    "\n",
    "operators_inv.append(\n",
    "    create_operator(\n",
    "        type_act        =   op_spin.OperatorTypeActing.Global,\n",
    "        op_func_int     =   None,\n",
    "        op_func_np      =   None,\n",
    "        op_func_jnp     =   op_spin.sigma_z_inv_jnp,\n",
    "        ns              =   lattice.ns,\n",
    "        sites           =   sites,\n",
    "        name            =   'sig_z_0',\n",
    "        extra_args      =   (True, 1.0),\n",
    "        modifies        =   False,\n",
    "        \n",
    "    )\n",
    ")\n",
    "\n",
    "operators_inv.append(\n",
    "    create_operator(\n",
    "        type_act        =   op_spin.OperatorTypeActing.Global,\n",
    "        op_func_int     =   None,\n",
    "        op_func_np      =   None,\n",
    "        op_func_jnp     =   op_spin.sigma_x_inv_jnp,\n",
    "        ns              =   lattice.ns,\n",
    "        sites           =   sites,\n",
    "        name            =   'sig_x_0',\n",
    "        extra_args      =   (True, 1.0),\n",
    "        modifies        =   False,\n",
    "        \n",
    "    )\n",
    ")\n",
    "\n",
    "# correlations\n",
    "sites_corr = jnp.array([0, 3], dtype=jnp.int32)\n",
    "def sig_z_c_modifier(x):\n",
    "    return op_spin.sigma_z_inv_jnp(x, sites=sites_corr)\n",
    "\n",
    "def sig_x_c_modifier(x):\n",
    "    return op_spin.sigma_x_inv_jnp(x, sites=sites_corr)\n",
    "\n",
    "# k-space\n",
    "k       = 1.0\n",
    "sites_k = jnp.arange(0, lattice.ns, dtype=jnp.int32)\n",
    "def sig_k_modifier(x):\n",
    "    return op_spin.sigma_k_inv_jnp(x, k=k, sites=sites_k)\n",
    "\n",
    "\n",
    "names = ['sig_z', 'sig_x', 'sig_z_c', 'sig_x_c', 'sig_k']\n",
    "\n",
    "sig_z_modifier_jit      = operators_inv[0].jax\n",
    "sig_x_modifier_jit      = operators_inv[1].jax\n",
    "sig_z_c_modifier_jit    = jax.jit(sig_z_c_modifier)\n",
    "sig_x_c_modifier_jit    = jax.jit(sig_x_c_modifier)\n",
    "sig_k_modifier_jit      = jax.jit(sig_k_modifier)"
   ]
  },
  {
   "cell_type": "code",
   "execution_count": null,
   "id": "a34a4569",
   "metadata": {},
   "outputs": [],
   "source": [
    "# test modifiers\n",
    "_, _, st_jax = initial_states(lattice.ns, display=True)\n",
    "st_jax       = (st_jax - 0.5) * 2"
   ]
  },
  {
   "cell_type": "code",
   "execution_count": null,
   "id": "309dd9e8",
   "metadata": {},
   "outputs": [],
   "source": [
    "for modifier in [sig_z_modifier_jit, sig_x_modifier_jit]:\n",
    "    st_out, st_val = modifier(st_jax)\n",
    "    logger.title('Modifier', desired_size=150, fill='#', color='red')\n",
    "    logger.info(f\"Modified state: {st_out[0]}\")\n",
    "    logger.info(f\"Original state: {st_jax}\")\n",
    "    logger.info(f\"Modified state value: {st_val}\")\n",
    "    logger.info(f\"Modified state shape: {st_out.shape}\")"
   ]
  },
  {
   "cell_type": "markdown",
   "id": "5a0e61c7",
   "metadata": {},
   "source": [
    "#### $\\sigma_z$ - Pauli Z operator at site $i=0$."
   ]
  },
  {
   "cell_type": "code",
   "execution_count": null,
   "id": "05bc4b44",
   "metadata": {},
   "outputs": [],
   "source": [
    "nqs.unset_modifier()\n",
    "two_states      = jnp.array([st_jax, st_jax], dtype=jnp.float32)\n",
    "nqs_ansatz_old  = nqs.ansatz\n",
    "nqs_eval_before = nqs_ansatz_old(nqs.get_params(), two_states)\n",
    "nqs_eval_before"
   ]
  },
  {
   "cell_type": "code",
   "execution_count": null,
   "id": "e6c8e018",
   "metadata": {},
   "outputs": [],
   "source": [
    "nqs.set_modifier(modifier=sig_z_modifier_jit, name=operators_inv[0].name)"
   ]
  },
  {
   "cell_type": "markdown",
   "id": "4c815a52",
   "metadata": {},
   "source": [
    "Try to evaluate"
   ]
  },
  {
   "cell_type": "code",
   "execution_count": null,
   "id": "037bf1c6",
   "metadata": {},
   "outputs": [],
   "source": [
    "nqs_ansatz_new  = nqs.ansatz\n",
    "nqs_eval_new    = nqs_ansatz_new(nqs.get_params(), two_states)\n",
    "nqs_eval_new"
   ]
  },
  {
   "cell_type": "code",
   "execution_count": null,
   "id": "d255d35e",
   "metadata": {},
   "outputs": [],
   "source": [
    "results, energy, timings = nqs.eval_observables(\n",
    "    operators      = [sig_z],\n",
    "    true_values    = [ed_sig_z_exp],\n",
    "    n_chains       = n_chains,\n",
    "    n_samples      = n_samples,\n",
    "    batch_size     = 100,\n",
    "    logger         = logger,\n",
    "    plot           = True,\n",
    "    get_energy     = True,\n",
    "    bins           = 200,\n",
    "    true_en        = energy_0,\n",
    ")"
   ]
  },
  {
   "cell_type": "code",
   "execution_count": null,
   "id": "a1038358",
   "metadata": {},
   "outputs": [],
   "source": []
  }
 ],
 "metadata": {
  "kernelspec": {
   "display_name": "base",
   "language": "python",
   "name": "python3"
  },
  "language_info": {
   "codemirror_mode": {
    "name": "ipython",
    "version": 3
   },
   "file_extension": ".py",
   "mimetype": "text/x-python",
   "name": "python",
   "nbconvert_exporter": "python",
   "pygments_lexer": "ipython3",
   "version": "3.11.11"
  }
 },
 "nbformat": 4,
 "nbformat_minor": 5
}
