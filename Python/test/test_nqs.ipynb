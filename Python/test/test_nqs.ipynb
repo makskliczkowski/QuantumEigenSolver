{
 "cells": [
  {
   "cell_type": "code",
   "execution_count": 1,
   "id": "31be730c",
   "metadata": {},
   "outputs": [
    {
     "name": "stdout",
     "output_type": "stream",
     "text": [
      "18_05_2025_22-33_53 [INFO] Log file created: ./log/QES_18_05_2025_22-33_53.log\n",
      "18_05_2025_22-33_53 [INFO] Log level set to: info\n",
      "18_05_2025_22-33_53 [INFO] ############Global logger initialized.############\n",
      "18_05_2025_22-33_53 [INFO] JAX backend available and successfully imported\n",
      "18_05_2025_22-33_53 [INFO] \tJAX 64-bit precision enabled.\n",
      "18_05_2025_22-33_53 [INFO] Setting JAX as the active backend.\n",
      "18_05_2025_22-33_53 [INFO] **************************************************\n",
      "18_05_2025_22-33_53 [INFO] Backend Configuration:\n",
      "18_05_2025_22-33_53 [INFO] \t\tNumPy Version: 2.1.3\n",
      "18_05_2025_22-33_53 [INFO] \t\tSciPy Version: 1.15.2\n",
      "18_05_2025_22-33_53 [INFO] \t\tJAX Version: 0.5.3\n",
      "18_05_2025_22-33_53 [INFO] \t\tActive Backend: jax\n",
      "18_05_2025_22-33_53 [INFO] \t\t\tJAX Available: True\n",
      "18_05_2025_22-33_53 [INFO] \t\t\tDefault Seed: 42\n",
      "18_05_2025_22-33_53 [INFO] \t\tJAX Backend Details:\n",
      "18_05_2025_22-33_53 [INFO] \t\t\t\tMain Module: jax.numpy\n",
      "18_05_2025_22-33_53 [INFO] \t\t\t\tRandom Module: jax.random (+ PRNGKey)\n",
      "18_05_2025_22-33_53 [INFO] \t\t\t\tSciPy Module: jax.scipy\n",
      "18_05_2025_22-33_53 [INFO] \t\t\t\tDefault JAX Key: PRNGKey(42)\n",
      "18_05_2025_22-33_53 [INFO] \t\tActive Data Types:\n",
      "18_05_2025_22-33_53 [INFO] \t\t\t\tInteger Type: int64\n",
      "18_05_2025_22-33_53 [INFO] \t\t\t\tFloat Type: float64\n",
      "18_05_2025_22-33_53 [INFO] \t\t\t\tComplex Type: complex128\n",
      "18_05_2025_22-33_53 [INFO] \t\tHardware & Device Detection:\n",
      "18_05_2025_22-33_53 [INFO] \t\t\tCPU Cores: 8\n",
      "18_05_2025_22-33_53 [INFO] \t\t\tDetected JAX Platform: DETECTION FAILED\n",
      "18_05_2025_22-33_53 [INFO] \t\tJAX Devices Found: Detection Failed or Not Run\n",
      "18_05_2025_22-33_53 [INFO] **************************************************\n",
      "\n",
      "\n",
      "\n"
     ]
    }
   ],
   "source": [
    "import sys\n",
    "import os\n",
    "# os.environ['JAX_PLATFORM_NAME'] = 'cpu'\n",
    "\n",
    "import numpy as np\n",
    "import time\n",
    "\n",
    "# Add the parent directory (project root) to sys.path\n",
    "script_dir = os.path.dirname(os.curdir)\n",
    "parent_dir = os.path.abspath(os.path.join(script_dir, '..'))\n",
    "if parent_dir not in sys.path:\n",
    "    sys.path.append(parent_dir)\n",
    "\n",
    "# ------------------------------------------------------------------\n",
    "#! General\n",
    "import QES.general_python.common.binary as Binary\n",
    "from QES.general_python.common.timer import Timer, timeit\n",
    "from QES.general_python.common.binary import JAX_AVAILABLE, get_backend, get_global_logger\n",
    "from QES.general_python.common.plot import Plotter, MatrixPrinter\n",
    "\n",
    "# ------------------------------------------------------------------\n",
    "#! Lattice\n",
    "from QES.general_python.lattices import choose_lattice, plot_bonds\n",
    "\n",
    "# ------------------------------------------------------------------\n",
    "#! Sampler\n",
    "import QES.Solver.MonteCarlo.sampler as Sampler\n",
    "import QES.NQS.nqs as NQS\n",
    "import QES.NQS.nqs_train as NQST\n",
    "import QES.NQS.tdvp as TDVP\n",
    "from QES.general_python.ml.schedulers import EarlyStopping, ConstantScheduler, ExponentialDecayScheduler\n",
    "\n",
    "# ------------------------------------------------------------------\n",
    "#! ODE solver\n",
    "from QES.general_python.algebra.ode import choose_ode\n",
    "\n",
    "# ------------------------------------------------------------------\n",
    "#! Networks\n",
    "from QES.general_python.ml.net_impl.networks.net_rbm import RBM\n",
    "from QES.general_python.ml.net_impl.networks.net_cnn import CNN\n",
    "from QES.general_python.ml.net_impl.activation_functions import relu_jnp, tanh_jnp, sigmoid_jnp, leaky_relu_jnp, elu_jnp, poly6_jnp, softplus_jnp\n",
    "\n",
    "# ------------------------------------------------------------------\n",
    "#! Hamiltonians\n",
    "from QES.general_python.algebra.linalg import act, overlap\n",
    "from QES.Algebra.Model.dummy import DummyHamiltonian\n",
    "from QES.Algebra.Model.Interacting.Spin.heisenberg_kitaev import HeisenbergKitaev\n",
    "from QES.Algebra.Model.Interacting.Spin.transverse_ising import TransverseFieldIsing\n",
    "\n",
    "# ------------------------------------------------------------------\n",
    "#! Linear algebra\n",
    "import QES.general_python.algebra.solvers.stochastic_rcnfg as SR\n",
    "import QES.general_python.algebra.solvers as solvers\n",
    "import QES.general_python.algebra.preconditioners as preconditioners\n",
    "\n",
    "# ------------------------------------------------------------------\n",
    "\n",
    "#! Spin operators\n",
    "import QES.Algebra.Operator.operators_spin as op_spin\n",
    "#! Fermionic operators\n",
    "import QES.Algebra.Operator.operators_spinless_fermions as op_sferm\n",
    "\n",
    "#! Backends\n",
    "if JAX_AVAILABLE:\n",
    "    import jax\n",
    "    import jax.numpy as jnp\n",
    "else:\n",
    "    jax = None\n",
    "    jnp = None\n",
    "    \n",
    "# ------------------------------------------------------------------\n",
    "# lattice_type        = 'honeycomb'\n",
    "lattice_type        = 'square'\n",
    "lx, ly, lz          = 12, 1, 1\n",
    "# lx, ly, lz          = 10, 1, 1\n",
    "# ------------------------------------------------------------------\n",
    "scheduler           = 'ExponentialDecay'\n",
    "ode_solver_type     = 'Euler'\n",
    "# ode_solver_type   = 'Heun'\n",
    "# ode_solver_type   = 'AdaptiveHeun'\n",
    "# ode_solver_type   = 'RK4'\n",
    "lr                  = 0.1 # is also dt\n",
    "# ------------------------------------------------------------------\n",
    "network_type        = 'RBM'\n",
    "# network_type        = 'CNN'\n",
    "alpha               = 2\n",
    "# ------------------------------------------------------------------\n",
    "# ham_type            = 'HeisenbergKitaev'\n",
    "ham_type            = 'TransverseFieldIsing'\n",
    "# ham_type            = 'DummyHamiltonian'\n",
    "ham_dtype           = jnp.float32\n",
    "# ------------------------------------------------------------------\n",
    "\n",
    "logger              = get_global_logger()\n",
    "backend             = 'jax'\n",
    "seed                = 0\n",
    "dtypex              = jnp.complex128\n",
    "be_modules          = get_backend(backend, random=True, seed=seed, scipy=True)\n",
    "backend_np, (rng, rng_k), backend_sp = be_modules if isinstance(be_modules, tuple) else (be_modules, (None, None), None)\n",
    "\n",
    "# ------------------------------------------------------------------\n"
   ]
  },
  {
   "cell_type": "markdown",
   "id": "a405c16b",
   "metadata": {},
   "source": [
    "### Lattice interface"
   ]
  },
  {
   "cell_type": "code",
   "execution_count": 2,
   "id": "362a1219",
   "metadata": {},
   "outputs": [
    {
     "name": "stdout",
     "output_type": "stream",
     "text": [
      "18_05_2025_22-33_54 [INFO] \t->\u001b[32mNeighbors of site 0: 1\u001b[0m\n",
      "18_05_2025_22-33_54 [INFO] \t\t->\u001b[34mNeighbor 0 of site 0: 1\u001b[0m\n",
      "18_05_2025_22-33_54 [INFO] \t->\u001b[32mNeighbors of site 1: 1\u001b[0m\n",
      "18_05_2025_22-33_54 [INFO] \t\t->\u001b[34mNeighbor 0 of site 1: 2\u001b[0m\n",
      "18_05_2025_22-33_54 [INFO] \t->\u001b[32mNeighbors of site 2: 1\u001b[0m\n",
      "18_05_2025_22-33_54 [INFO] \t\t->\u001b[34mNeighbor 0 of site 2: 3\u001b[0m\n",
      "18_05_2025_22-33_54 [INFO] \t->\u001b[32mNeighbors of site 3: 1\u001b[0m\n",
      "18_05_2025_22-33_54 [INFO] \t\t->\u001b[34mNeighbor 0 of site 3: 4\u001b[0m\n",
      "18_05_2025_22-33_54 [INFO] \t->\u001b[32mNeighbors of site 4: 1\u001b[0m\n",
      "18_05_2025_22-33_54 [INFO] \t\t->\u001b[34mNeighbor 0 of site 4: 5\u001b[0m\n",
      "18_05_2025_22-33_54 [INFO] \t->\u001b[32mNeighbors of site 5: 1\u001b[0m\n",
      "18_05_2025_22-33_54 [INFO] \t\t->\u001b[34mNeighbor 0 of site 5: 6\u001b[0m\n",
      "18_05_2025_22-33_54 [INFO] \t->\u001b[32mNeighbors of site 6: 1\u001b[0m\n",
      "18_05_2025_22-33_54 [INFO] \t\t->\u001b[34mNeighbor 0 of site 6: 7\u001b[0m\n",
      "18_05_2025_22-33_54 [INFO] \t->\u001b[32mNeighbors of site 7: 1\u001b[0m\n",
      "18_05_2025_22-33_54 [INFO] \t\t->\u001b[34mNeighbor 0 of site 7: 8\u001b[0m\n",
      "18_05_2025_22-33_54 [INFO] \t->\u001b[32mNeighbors of site 8: 1\u001b[0m\n",
      "18_05_2025_22-33_54 [INFO] \t\t->\u001b[34mNeighbor 0 of site 8: 9\u001b[0m\n",
      "18_05_2025_22-33_54 [INFO] \t->\u001b[32mNeighbors of site 9: 1\u001b[0m\n",
      "18_05_2025_22-33_54 [INFO] \t\t->\u001b[34mNeighbor 0 of site 9: 10\u001b[0m\n",
      "18_05_2025_22-33_54 [INFO] \t->\u001b[32mNeighbors of site 10: 1\u001b[0m\n",
      "18_05_2025_22-33_54 [INFO] \t\t->\u001b[34mNeighbor 0 of site 10: 11\u001b[0m\n",
      "18_05_2025_22-33_54 [INFO] \t->\u001b[32mNeighbors of site 11: 1\u001b[0m\n",
      "18_05_2025_22-33_54 [INFO] \t\t->\u001b[34mNeighbor 0 of site 11: 0\u001b[0m\n"
     ]
    }
   ],
   "source": [
    "lattice = choose_lattice(\n",
    "    typek = lattice_type,\n",
    "    lx    = lx,\n",
    "    ly    = ly,\n",
    "    lz    = lz,\n",
    "    bc    = 'mbc'\n",
    ")\n",
    "ns, mult, st_shape = lattice.ns, lattice.ns // (lx * ly * lz), (lattice.ns, )\n",
    "lattice.print_forward(logger=logger)\n",
    "\n",
    "# lattice\n",
    "# MatrixPrinter.print_matrix(A)"
   ]
  },
  {
   "cell_type": "markdown",
   "id": "bcb740bd",
   "metadata": {},
   "source": [
    "### Operators to test later on"
   ]
  },
  {
   "cell_type": "code",
   "execution_count": 3,
   "id": "776542a4",
   "metadata": {},
   "outputs": [],
   "source": [
    "sig_z = op_spin.sig_z(\n",
    "    lattice = lattice,\n",
    "    ns      = lattice.ns,\n",
    "    type_act= op_spin.OperatorTypeActing.Global,\n",
    "    sites   = [0]\n",
    ")\n",
    "\n",
    "sig_x = op_spin.sig_x(\n",
    "    lattice = lattice,\n",
    "    ns      = lattice.ns,\n",
    "    type_act= op_spin.OperatorTypeActing.Global,\n",
    "    sites   = [0]\n",
    ")\n",
    "\n",
    "sig_z_c = op_spin.sig_z(\n",
    "    lattice = lattice,\n",
    "    ns      = lattice.ns,\n",
    "    type_act= op_spin.OperatorTypeActing.Global,\n",
    "    sites   = [0, 1]\n",
    ")\n",
    "\n",
    "sig_x_c = op_spin.sig_x(\n",
    "    lattice = lattice,\n",
    "    ns      = lattice.ns,\n",
    "    type_act= op_spin.OperatorTypeActing.Global,\n",
    "    sites   = [0, 1]\n",
    ")\n",
    "\n",
    "if lattice.ns == 2:\n",
    "    matrix_test = np.kron(op_spin._SIG_X, op_spin._SIG_0) * (0.5)\n",
    "    print('Matrix test:', matrix_test)"
   ]
  },
  {
   "cell_type": "markdown",
   "id": "eef281c4",
   "metadata": {},
   "source": [
    "### Hamiltonian - Hamiltonian operator $H$ and its expectation value $\\langle H \\rangle$."
   ]
  },
  {
   "cell_type": "code",
   "execution_count": 4,
   "id": "f89ecad8",
   "metadata": {},
   "outputs": [
    {
     "name": "stdout",
     "output_type": "stream",
     "text": [
      "18_05_2025_22-33_54 [INFO] \t->\u001b[0m[Transverse Field Ising Model] Building TFIM operator list...\u001b[0m\n",
      "18_05_2025_22-33_54 [INFO] \t\t->\u001b[0m[Transverse Field Ising Model] Adding modifying operator Operator(Sx/L, type_acting=Local, eigval=1.0, type=Other) at site 0 (sites: [0]) with multiplier 1.399999976158142\u001b[0m\n",
      "18_05_2025_22-33_54 [INFO] \t\t->\u001b[0m[Transverse Field Ising Model] Adding modifying operator Operator(Sx/L, type_acting=Local, eigval=1.0, type=Other) at site 1 (sites: [1]) with multiplier 1.399999976158142\u001b[0m\n",
      "18_05_2025_22-33_54 [INFO] \t\t->\u001b[0m[Transverse Field Ising Model] Adding modifying operator Operator(Sx/L, type_acting=Local, eigval=1.0, type=Other) at site 2 (sites: [2]) with multiplier 1.399999976158142\u001b[0m\n",
      "18_05_2025_22-33_54 [INFO] \t\t->\u001b[0m[Transverse Field Ising Model] Adding modifying operator Operator(Sx/L, type_acting=Local, eigval=1.0, type=Other) at site 3 (sites: [3]) with multiplier 1.399999976158142\u001b[0m\n",
      "18_05_2025_22-33_54 [INFO] \t\t->\u001b[0m[Transverse Field Ising Model] Adding modifying operator Operator(Sx/L, type_acting=Local, eigval=1.0, type=Other) at site 4 (sites: [4]) with multiplier 1.399999976158142\u001b[0m\n",
      "18_05_2025_22-33_54 [INFO] \t\t->\u001b[0m[Transverse Field Ising Model] Adding modifying operator Operator(Sx/L, type_acting=Local, eigval=1.0, type=Other) at site 5 (sites: [5]) with multiplier 1.399999976158142\u001b[0m\n",
      "18_05_2025_22-33_54 [INFO] \t\t->\u001b[0m[Transverse Field Ising Model] Adding modifying operator Operator(Sx/L, type_acting=Local, eigval=1.0, type=Other) at site 6 (sites: [6]) with multiplier 1.399999976158142\u001b[0m\n",
      "18_05_2025_22-33_54 [INFO] \t\t->\u001b[0m[Transverse Field Ising Model] Adding modifying operator Operator(Sx/L, type_acting=Local, eigval=1.0, type=Other) at site 7 (sites: [7]) with multiplier 1.399999976158142\u001b[0m\n",
      "18_05_2025_22-33_54 [INFO] \t\t->\u001b[0m[Transverse Field Ising Model] Adding modifying operator Operator(Sx/L, type_acting=Local, eigval=1.0, type=Other) at site 8 (sites: [8]) with multiplier 1.399999976158142\u001b[0m\n",
      "18_05_2025_22-33_54 [INFO] \t\t->\u001b[0m[Transverse Field Ising Model] Adding modifying operator Operator(Sx/L, type_acting=Local, eigval=1.0, type=Other) at site 9 (sites: [9]) with multiplier 1.399999976158142\u001b[0m\n",
      "18_05_2025_22-33_54 [INFO] \t\t->\u001b[0m[Transverse Field Ising Model] Adding modifying operator Operator(Sx/L, type_acting=Local, eigval=1.0, type=Other) at site 10 (sites: [10]) with multiplier 1.399999976158142\u001b[0m\n",
      "18_05_2025_22-33_54 [INFO] \t\t->\u001b[0m[Transverse Field Ising Model] Adding modifying operator Operator(Sx/L, type_acting=Local, eigval=1.0, type=Other) at site 11 (sites: [11]) with multiplier 1.399999976158142\u001b[0m\n",
      "18_05_2025_22-33_54 [INFO] \t\t->\u001b[0m[Transverse Field Ising Model] Adding non-modifying operator Operator(Sz/L, type_acting=Local, eigval=1.0, type=Other) at site 0 (sites: [0]) with multiplier -2.5\u001b[0m\n",
      "18_05_2025_22-33_54 [INFO] \t\t->\u001b[0m[Transverse Field Ising Model] Adding non-modifying operator Operator(Sz/L, type_acting=Local, eigval=1.0, type=Other) at site 1 (sites: [1]) with multiplier -2.5\u001b[0m\n",
      "18_05_2025_22-33_54 [INFO] \t\t->\u001b[0m[Transverse Field Ising Model] Adding non-modifying operator Operator(Sz/L, type_acting=Local, eigval=1.0, type=Other) at site 2 (sites: [2]) with multiplier -2.5\u001b[0m\n",
      "18_05_2025_22-33_54 [INFO] \t\t->\u001b[0m[Transverse Field Ising Model] Adding non-modifying operator Operator(Sz/L, type_acting=Local, eigval=1.0, type=Other) at site 3 (sites: [3]) with multiplier -2.5\u001b[0m\n",
      "18_05_2025_22-33_54 [INFO] \t\t->\u001b[0m[Transverse Field Ising Model] Adding non-modifying operator Operator(Sz/L, type_acting=Local, eigval=1.0, type=Other) at site 4 (sites: [4]) with multiplier -2.5\u001b[0m\n",
      "18_05_2025_22-33_54 [INFO] \t\t->\u001b[0m[Transverse Field Ising Model] Adding non-modifying operator Operator(Sz/L, type_acting=Local, eigval=1.0, type=Other) at site 5 (sites: [5]) with multiplier -2.5\u001b[0m\n",
      "18_05_2025_22-33_54 [INFO] \t\t->\u001b[0m[Transverse Field Ising Model] Adding non-modifying operator Operator(Sz/L, type_acting=Local, eigval=1.0, type=Other) at site 6 (sites: [6]) with multiplier -2.5\u001b[0m\n",
      "18_05_2025_22-33_54 [INFO] \t\t->\u001b[0m[Transverse Field Ising Model] Adding non-modifying operator Operator(Sz/L, type_acting=Local, eigval=1.0, type=Other) at site 7 (sites: [7]) with multiplier -2.5\u001b[0m\n",
      "18_05_2025_22-33_54 [INFO] \t\t->\u001b[0m[Transverse Field Ising Model] Adding non-modifying operator Operator(Sz/L, type_acting=Local, eigval=1.0, type=Other) at site 8 (sites: [8]) with multiplier -2.5\u001b[0m\n",
      "18_05_2025_22-33_54 [INFO] \t\t->\u001b[0m[Transverse Field Ising Model] Adding non-modifying operator Operator(Sz/L, type_acting=Local, eigval=1.0, type=Other) at site 9 (sites: [9]) with multiplier -2.5\u001b[0m\n",
      "18_05_2025_22-33_54 [INFO] \t\t->\u001b[0m[Transverse Field Ising Model] Adding non-modifying operator Operator(Sz/L, type_acting=Local, eigval=1.0, type=Other) at site 10 (sites: [10]) with multiplier -2.5\u001b[0m\n",
      "18_05_2025_22-33_54 [INFO] \t\t->\u001b[0m[Transverse Field Ising Model] Adding non-modifying operator Operator(Sz/L, type_acting=Local, eigval=1.0, type=Other) at site 11 (sites: [11]) with multiplier -2.5\u001b[0m\n",
      "18_05_2025_22-33_54 [INFO] \t\t->\u001b[0m[Transverse Field Ising Model] Adding non-modifying operator Operator(Sz/C, type_acting=Correlation, eigval=1.0, type=Other) at site 0 (sites: [0, 1]) with multiplier -4.0\u001b[0m\n",
      "18_05_2025_22-33_54 [INFO] \t\t->\u001b[0m[Transverse Field Ising Model] Adding non-modifying operator Operator(Sz/C, type_acting=Correlation, eigval=1.0, type=Other) at site 1 (sites: [1, 2]) with multiplier -4.0\u001b[0m\n",
      "18_05_2025_22-33_54 [INFO] \t\t->\u001b[0m[Transverse Field Ising Model] Adding non-modifying operator Operator(Sz/C, type_acting=Correlation, eigval=1.0, type=Other) at site 2 (sites: [2, 3]) with multiplier -4.0\u001b[0m\n",
      "18_05_2025_22-33_54 [INFO] \t\t->\u001b[0m[Transverse Field Ising Model] Adding non-modifying operator Operator(Sz/C, type_acting=Correlation, eigval=1.0, type=Other) at site 3 (sites: [3, 4]) with multiplier -4.0\u001b[0m\n",
      "18_05_2025_22-33_54 [INFO] \t\t->\u001b[0m[Transverse Field Ising Model] Adding non-modifying operator Operator(Sz/C, type_acting=Correlation, eigval=1.0, type=Other) at site 4 (sites: [4, 5]) with multiplier -4.0\u001b[0m\n",
      "18_05_2025_22-33_54 [INFO] \t\t->\u001b[0m[Transverse Field Ising Model] Adding non-modifying operator Operator(Sz/C, type_acting=Correlation, eigval=1.0, type=Other) at site 5 (sites: [5, 6]) with multiplier -4.0\u001b[0m\n",
      "18_05_2025_22-33_54 [INFO] \t\t->\u001b[0m[Transverse Field Ising Model] Adding non-modifying operator Operator(Sz/C, type_acting=Correlation, eigval=1.0, type=Other) at site 6 (sites: [6, 7]) with multiplier -4.0\u001b[0m\n",
      "18_05_2025_22-33_54 [INFO] \t\t->\u001b[0m[Transverse Field Ising Model] Adding non-modifying operator Operator(Sz/C, type_acting=Correlation, eigval=1.0, type=Other) at site 7 (sites: [7, 8]) with multiplier -4.0\u001b[0m\n",
      "18_05_2025_22-33_54 [INFO] \t\t->\u001b[0m[Transverse Field Ising Model] Adding non-modifying operator Operator(Sz/C, type_acting=Correlation, eigval=1.0, type=Other) at site 8 (sites: [8, 9]) with multiplier -4.0\u001b[0m\n",
      "18_05_2025_22-33_54 [INFO] \t\t->\u001b[0m[Transverse Field Ising Model] Adding non-modifying operator Operator(Sz/C, type_acting=Correlation, eigval=1.0, type=Other) at site 9 (sites: [9, 10]) with multiplier -4.0\u001b[0m\n",
      "18_05_2025_22-33_54 [INFO] \t\t->\u001b[0m[Transverse Field Ising Model] Adding non-modifying operator Operator(Sz/C, type_acting=Correlation, eigval=1.0, type=Other) at site 10 (sites: [10, 11]) with multiplier -4.0\u001b[0m\n",
      "18_05_2025_22-33_54 [INFO] \t\t->\u001b[0m[Transverse Field Ising Model] Adding non-modifying operator Operator(Sz/C, type_acting=Correlation, eigval=1.0, type=Other) at site 11 (sites: [11, 0]) with multiplier -4.0\u001b[0m\n",
      "18_05_2025_22-33_54 [INFO] \t->\u001b[0m[Transverse Field Ising Model] TFIM Hamiltonian initialized for 12 sites.\u001b[0m\n",
      "18_05_2025_22-33_54 [INFO] \u001b[31m#####################################################################Hamiltonian#####################################################################\u001b[0m\n"
     ]
    },
    {
     "data": {
      "text/plain": [
       "TFIM(Ns=12, J=4.0, hx=-1.4)"
      ]
     },
     "execution_count": 4,
     "metadata": {},
     "output_type": "execute_result"
    }
   ],
   "source": [
    "if ham_type == 'HeisenbergKitaev':\n",
    "    hamil = HeisenbergKitaev(lattice    = lattice,\n",
    "                        hilbert_space   = None,\n",
    "                        hx              = 0.0,\n",
    "                        hz              = 0.0,\n",
    "                        kx              = 1.0,\n",
    "                        ky              = 1.0,\n",
    "                        kz              = 1.0,\n",
    "                        j               = 0.0,\n",
    "                        dlt             = 1.0,\n",
    "                        dtype           = ham_dtype,\n",
    "                        use_forward     = False,\n",
    "                        backend         = backend)\n",
    "\n",
    "elif ham_type == 'TransverseFieldIsing':\n",
    "    hamil = TransverseFieldIsing(\n",
    "                        lattice        = lattice,\n",
    "                        hilbert_space  = None,\n",
    "                        hz             = 2.5,\n",
    "                        hx             = -1.4,\n",
    "                        # hx             = -0.7,    # same, but we use spin = 1/2\n",
    "                        j              = 4.0,          \n",
    "                        # j              = -1.0,    # same, but we use spin = 1/2          \n",
    "                        dtype          = ham_dtype,\n",
    "                        backend        = backend\n",
    "                )\n",
    "elif ham_type == 'DummyHamiltonian':\n",
    "    hamil = DummyHamiltonian(\n",
    "                        lattice        = lattice,\n",
    "                        hilbert_space  = None,\n",
    "                        dtype          = ham_dtype,\n",
    "                        backend        = backend\n",
    "                )\n",
    "else:\n",
    "    raise ValueError(f\"Unknown Hamiltonian type: {ham_type}\")\n",
    "\n",
    "logger.title('Hamiltonian', desired_size=150, fill='#', color='red')\n",
    "hamil"
   ]
  },
  {
   "cell_type": "code",
   "execution_count": 5,
   "id": "11d08b0f",
   "metadata": {},
   "outputs": [
    {
     "name": "stdout",
     "output_type": "stream",
     "text": [
      "18_05_2025_22-33_54 [INFO] \t\t\t->\u001b[0m[Transverse Field Ising Model] JAX is available but NumPy is forced...\u001b[0m\n",
      "18_05_2025_22-33_54 [INFO] \t\t->\u001b[0m[Transverse Field Ising Model] Calculating the Hamiltonian matrix using NumPy...\u001b[0m\n",
      "18_05_2025_22-33_57 [INFO] \u001b[32mTime to build Hamiltonian: 2.75 seconds\u001b[0m\n",
      "18_05_2025_22-34_12 [INFO] \u001b[34mTime to diagonalize Hamiltonian: 15.06 seconds\u001b[0m\n",
      "18_05_2025_22-34_12 [INFO] \u001b[32mEnergy of the ground state: -27.9033\u001b[0m\n",
      "18_05_2025_22-34_12 [INFO] \t\t->\u001b[0m[HilbertSpace] Inferred Ns=12 from Nh=4096 and Nhl=2\u001b[0m\n",
      "18_05_2025_22-34_12 [INFO] \t\t->\u001b[0m[HilbertSpace] Inferred Ns=12 from Nh=4096 and Nhl=2\u001b[0m\n",
      "18_05_2025_22-34_12 [INFO] \t\t->\u001b[0m[HilbertSpace] Inferred Ns=12 from Nh=4096 and Nhl=2\u001b[0m\n",
      "18_05_2025_22-34_13 [INFO] \t\t->\u001b[0m[HilbertSpace] Inferred Ns=12 from Nh=4096 and Nhl=2\u001b[0m\n",
      "18_05_2025_22-34_13 [INFO] \u001b[32msig_x expectation value: -0.1074\u001b[0m\n",
      "18_05_2025_22-34_13 [INFO] \u001b[32msig_z expectation value: 0.4883\u001b[0m\n",
      "18_05_2025_22-34_13 [INFO] \u001b[32msig_x expectation value (c): 0.0139\u001b[0m\n",
      "18_05_2025_22-34_13 [INFO] \u001b[32msig_z expectation value (c): 0.2386\u001b[0m\n"
     ]
    }
   ],
   "source": [
    "if hamil.hilbert_size <= 2**20:\n",
    "    time0   = time.time()\n",
    "    hamil.build(use_numpy=True)\n",
    "    time1   = time.time()\n",
    "    logger.info(f\"Time to build Hamiltonian: {time1 - time0:.2f} seconds\", color='green')\n",
    "    \n",
    "    if hamil.hilbert_size <= 2**12:\n",
    "        hamil.diagonalize()\n",
    "    else:\n",
    "        hamil.diagonalize(method = 'lanczos', k = 50)\n",
    "    time2   = time.time()\n",
    "    logger.info(f\"Time to diagonalize Hamiltonian: {time2 - time1:.2f} seconds\", color='blue')\n",
    "    eigv    = hamil.get_eigval()\n",
    "    \n",
    "    #! Test the operator expectation in the ground state\n",
    "    if hamil.hilbert_size <= 2**12:\n",
    "        gs              = hamil.get_eigvec(0)\n",
    "        # test energy \n",
    "        hamil_mat       = hamil.hamil\n",
    "        energy_0        = overlap(gs, hamil_mat, backend = np)   \n",
    "        logger.info(f\"Energy of the ground state: {energy_0:.4f}\", color='green')\n",
    "        \n",
    "        sig_x_op_mat    = sig_x.matrix(dim = hamil.hilbert_size, use_numpy = True)\n",
    "        sig_z_op_mat    = sig_z.matrix(dim = hamil.hilbert_size, use_numpy = True)\n",
    "        sig_x_op_mat_c  = sig_x_c.matrix(dim = hamil.hilbert_size, use_numpy = True)\n",
    "        sig_z_op_mat_c  = sig_z_c.matrix(dim = hamil.hilbert_size, use_numpy = True)\n",
    "\n",
    "        ed_sig_x_exp    = overlap(gs, sig_x_op_mat, backend = np)\n",
    "        ed_sig_z_exp    = overlap(gs, sig_z_op_mat, backend = np)\n",
    "        ed_sig_x_exp_c  = overlap(gs, sig_x_op_mat_c, backend = np)\n",
    "        ed_sig_z_exp_c  = overlap(gs, sig_z_op_mat_c, backend = np)\n",
    "        logger.info(f\"sig_x expectation value: {ed_sig_x_exp:.4f}\", color='green')\n",
    "        logger.info(f\"sig_z expectation value: {ed_sig_z_exp:.4f}\", color='green')\n",
    "        logger.info(f\"sig_x expectation value (c): {ed_sig_x_exp_c:.4f}\", color='green')\n",
    "        logger.info(f\"sig_z expectation value (c): {ed_sig_z_exp_c:.4f}\", color='green')\n",
    "    else:\n",
    "        ed_sig_x_exp    = None\n",
    "        ed_sig_z_exp    = None\n",
    "        ed_sig_x_exp_c  = None\n",
    "        ed_sig_z_exp_c  = None\n",
    "        logger.info(f\"(TODO) Cannot compute expectation values for Hamiltonian: {hamil.hilbert_size} > 2^12\", color='red')\n",
    "else:\n",
    "    eigv                = [None]\n",
    "    ed_sig_x_exp        = None\n",
    "    ed_sig_z_exp        = None\n",
    "    ed_sig_x_exp_c      = None\n",
    "    ed_sig_z_exp_c      = None\n",
    "    logger.info(f\"Cannot diagonalize Hamiltonian: {hamil.hilbert_size} > 2^20\", color='red')\n",
    "    "
   ]
  },
  {
   "cell_type": "markdown",
   "id": "6dc5eb0a",
   "metadata": {},
   "source": [
    "#### Plot if needed"
   ]
  },
  {
   "cell_type": "code",
   "execution_count": 6,
   "id": "48b0321a",
   "metadata": {},
   "outputs": [
    {
     "data": {
      "image/png": "[encoded data removed]",
      "text/plain": [
       "<Figure size 400x300 with 1 Axes>"
      ]
     },
     "metadata": {},
     "output_type": "display_data"
    }
   ],
   "source": [
    "if eigv is not None and len(eigv) > 1:\n",
    "    fig, ax = Plotter.get_subplots(\n",
    "        nrows       = 1,\n",
    "        ncols       = 1,\n",
    "        figsize     = (4, 3),\n",
    "        dpi         = 100,\n",
    "    )\n",
    "    x   = np.arange(0, len(eigv))\n",
    "    y   = eigv\n",
    "    ax[0].plot(x, y / lattice.ns, 'o', markersize=2)\n",
    "    ax[0].set_xlabel(r'$\\mathcal{e}$')\n",
    "    ax[0].set_ylabel(r'$E/N_s$')\n",
    "    ax[0].axhline(eigv[0] / lattice.ns, color='r', linestyle='--', label=f'Ground state {eigv[0] / lattice.ns :.3e}')\n",
    "    ax[0].legend()"
   ]
  },
  {
   "cell_type": "markdown",
   "id": "7579bc28",
   "metadata": {},
   "source": [
    "### Network - variational ansatz body $\\psi _\\theta (s)$ and its gradient $\\nabla \\psi _\\theta (s)$."
   ]
  },
  {
   "cell_type": "code",
   "execution_count": 7,
   "id": "c90ee629",
   "metadata": {},
   "outputs": [
    {
     "name": "stdout",
     "output_type": "stream",
     "text": [
      "18_05_2025_22-34_16 [INFO] \t->\u001b[34m[GeneralNet] Holomorphic check result (||∇Re[f] - i*∇Im[f]|| / ||∇Re[f]|| ≈ 0): True\u001b[0m\n",
      "18_05_2025_22-34_16 [INFO] \t->\u001b[34m[GeneralNet] FlaxInterface initialized: dtype=complex128, is_complex=True, nparams=324, is_holomorphic=True\u001b[0m\n"
     ]
    },
    {
     "data": {
      "text/plain": [
       "ComplexRBM(shape=(12,), hidden=24, bias=on, visible_bias=on, dtype=complex128, params=324, analytic_grad=False, initialized)"
      ]
     },
     "execution_count": 7,
     "metadata": {},
     "output_type": "execute_result"
    }
   ],
   "source": [
    "if network_type == 'RBM':\n",
    "    net = RBM(\n",
    "        input_shape         = st_shape, \n",
    "        n_hidden            = int(alpha * ns),\n",
    "        dtype               = dtypex,\n",
    "        param_dtype         = dtypex,\n",
    "        seed                = seed,\n",
    "        visible_bias        = True,\n",
    "        bias                = True,\n",
    "    )\n",
    "elif network_type == 'CNN':\n",
    "    net     = CNN(\n",
    "        input_shape         = st_shape,\n",
    "        reshape_dims        = (lx, ly * mult),\n",
    "        features            = (8,) * alpha,\n",
    "        strides             = [(1, 1)] * alpha,\n",
    "        kernel_sizes        = [(2, 2)] * alpha,\n",
    "        activations         = [elu_jnp] * alpha,\n",
    "        dtype               = dtypex,\n",
    "        param_dtype         = dtypex,\n",
    "        final_activation    = elu_jnp,\n",
    "        seed                = seed,\n",
    "        output_shape        = (1,)\n",
    "    )\n",
    "else:\n",
    "    raise ValueError(f\"Unknown network type: {network_type}\")\n",
    "net"
   ]
  },
  {
   "cell_type": "markdown",
   "id": "8079b2cb",
   "metadata": {},
   "source": [
    "### Sampler - sampling from the distribution $p_\\theta (s)$."
   ]
  },
  {
   "cell_type": "code",
   "execution_count": 8,
   "id": "9c866d71",
   "metadata": {},
   "outputs": [
    {
     "data": {
      "text/plain": [
       "MCSampler(shape=(12,), mu=2.0, beta=1.0, therm_steps=25, sweep_steps=12, numsamples=200, numchains=5, backend=jax)"
      ]
     },
     "execution_count": 8,
     "metadata": {},
     "output_type": "execute_result"
    }
   ],
   "source": [
    "n_chains        = 5\n",
    "n_samples       = 200\n",
    "n_therm_steps   = 25\n",
    "sampler         = Sampler.MCSampler(\n",
    "                    net             = net,\n",
    "                    shape           = st_shape,\n",
    "                    rng             = rng,\n",
    "                    rng_k           = rng_k,\n",
    "                    numchains       = n_chains,\n",
    "                    numsamples      = n_samples,\n",
    "                    sweep_steps     = min(ns, 28),\n",
    "                    backend         = backend_np,\n",
    "                    therm_steps     = n_therm_steps,\n",
    "                    mu              = 2.0,\n",
    "                    seed            = seed,\n",
    "                    dtype           = dtypex,\n",
    "                    statetype       = np.float64,\n",
    "                    makediffer      = True\n",
    "                )\n",
    "do_tests    = False\n",
    "sampler_fun = sampler.get_sampler_jax()\n",
    "sampler"
   ]
  },
  {
   "cell_type": "markdown",
   "id": "b9157d81",
   "metadata": {},
   "source": [
    "### Stepper - TDVP stepper for the time evolution of the state $\\psi _\\theta (s)$."
   ]
  },
  {
   "cell_type": "code",
   "execution_count": 9,
   "id": "551c2668",
   "metadata": {},
   "outputs": [
    {
     "data": {
      "text/plain": [
       "Euler(dt=0.1, backend=jax, rhs_p=-1.0)"
      ]
     },
     "execution_count": 9,
     "metadata": {},
     "output_type": "execute_result"
    }
   ],
   "source": [
    "ode_solver = choose_ode(ode_type = ode_solver_type, backend = backend_np, dt = lr, rhs_prefactor = -1.0)\n",
    "ode_solver"
   ]
  },
  {
   "cell_type": "markdown",
   "id": "7ccd506f",
   "metadata": {},
   "source": [
    "### NQS - neural network quantum state $\\psi_\\theta (s)$ and its gradient $\\nabla \\psi_\\theta (s)$."
   ]
  },
  {
   "cell_type": "code",
   "execution_count": 10,
   "id": "cb454579",
   "metadata": {},
   "outputs": [
    {
     "name": "stdout",
     "output_type": "stream",
     "text": [
      "18_05_2025_22-34_17 [INFO] \t->\u001b[33m[Jacobi Preconditioner] Resetting backend to: <module 'jax.numpy' from '/Users/makskliczkowski/miniconda3/lib/python3.12/site-packages/jax/numpy/__init__.py'>\u001b[0m\n",
      "18_05_2025_22-34_17 [INFO] \t\t->\u001b[33m[Jacobi Preconditioner] JIT compiling apply_gram(r, S, Sp, ...) function...\u001b[0m\n"
     ]
    },
    {
     "data": {
      "text/plain": [
       "TDVP(backend=jax,use_sr=True,use_minsr=False,rhs_prefact=1.0,sr_snr_tol=1e-08,sr_pinv_tol=1e-08,sr_diag_shift=0.01,sr_maxiter=600)"
      ]
     },
     "execution_count": 10,
     "metadata": {},
     "output_type": "execute_result"
    }
   ],
   "source": [
    "n_epo           = 500\n",
    "n_sweep_steps   = ns\n",
    "n_batch         = 128\n",
    "\n",
    "# Other\n",
    "reg             = 1e-2\n",
    "maxiter         = 600\n",
    "tolerance       = 1e-8\n",
    "use_min_sr      = False\n",
    "\n",
    "# Solver\n",
    "solver_id       = solvers.SolverType.SCIPY_CG\n",
    "precond_id      = preconditioners.PreconditionersTypeSym.JACOBI\n",
    "precond         = preconditioners.choose_precond(precond_id=precond_id, backend=backend_np)\n",
    "# precond_id      = None\n",
    "\n",
    "tdvp = TDVP.TDVP(\n",
    "    use_sr          = True,\n",
    "    use_minsr       = False,\n",
    "    rhs_prefact     = 1.0,\n",
    "    sr_lin_solver   = solver_id,\n",
    "    sr_precond      = precond,\n",
    "    sr_pinv_tol     = tolerance,\n",
    "    sr_pinv_cutoff  = 1e-8,\n",
    "    sr_snr_tol      = tolerance,\n",
    "    sr_diag_shift   = reg,\n",
    "    sr_lin_solver_t = solvers.SolverForm.GRAM,\n",
    "    sr_maxiter      = maxiter,\n",
    "    backend         = backend_np\n",
    ")\n",
    "tdvp"
   ]
  },
  {
   "cell_type": "code",
   "execution_count": 11,
   "id": "1f68f7f5",
   "metadata": {},
   "outputs": [
    {
     "name": "stdout",
     "output_type": "stream",
     "text": [
      "18_05_2025_22-34_17 [INFO] \t->\u001b[34m[GeneralNet] Holomorphic check result (||∇Re[f] - i*∇Im[f]|| / ||∇Re[f]|| ≈ 0): True\u001b[0m\n",
      "18_05_2025_22-34_17 [INFO] \t->\u001b[34m[GeneralNet] FlaxInterface initialized: dtype=complex128, is_complex=True, nparams=324, is_holomorphic=True\u001b[0m\n",
      "18_05_2025_22-34_17 [INFO] \t->\u001b[34m[GeneralNet] Network <class 'QES.general_python.ml.net_impl.networks.net_rbm.RBM'> initialized with forced init.\u001b[0m\n",
      "18_05_2025_22-34_17 [INFO] \u001b[0m[ExponentialDecayScheduler] Initialized with initial LR: 1.0000e-01, decay rate: 0.0003\u001b[0m\n",
      "18_05_2025_22-34_17 [INFO] \u001b[0m[ConstantScheduler] Initialized with constant LR: 1.0000e-02\u001b[0m\n"
     ]
    },
    {
     "data": {
      "text/plain": [
       "NQS(ansatz=FlaxNetInterface(input_dim=12, dtype=complex128, flax_module=_FlaxRBM),sampler=MCSampler:\n",
       "  - State shape: (12,) (Size: 12)\n",
       "  - Backend: jax\n",
       "  - Chains: 5, Samples/Chain: 200\n",
       "  - Params: mu=2.000, beta=1.000, logprob_fact=0.500\n",
       "  - Thermalization: 25 sweeps x 12 steps/sweep (43200 total site updates/chain)\n",
       "  - Sampling: 12 steps/sample (28800 total site updates/chain)\n",
       ",backend=jax)"
      ]
     },
     "execution_count": 11,
     "metadata": {},
     "output_type": "execute_result"
    }
   ],
   "source": [
    "nqs = NQS.NQS(\n",
    "            net             = net,\n",
    "            sampler         = sampler,\n",
    "            hamiltonian     = hamil,\n",
    "            lower_betas     = None,\n",
    "            lower_states    = None,\n",
    "            seed            = seed,\n",
    "            beta            = 1.0,\n",
    "            mu              = sampler.get_mu(),\n",
    "            shape           = st_shape,\n",
    "            backend         = backend_np,\n",
    "            batch_size      = n_batch,\n",
    "            dtype           = dtypex,  \n",
    "        )\n",
    "nqs.reset()\n",
    "\n",
    "nqs_train = NQST.NQSTrainer(\n",
    "    nqs             = nqs,\n",
    "    ode_solver      = ode_solver,\n",
    "    tdvp            = tdvp,\n",
    "    n_batch         = n_batch,\n",
    "    lr_scheduler    = ExponentialDecayScheduler(lr, n_epo, lr_decay=3e-4, logger=logger, lr_clamp=3e-2),\n",
    "    early_stopper   = EarlyStopping(patience = 500, min_delta=1e-4, logger=logger),\n",
    "    reg_scheduler   = ConstantScheduler(reg, max_epochs=n_epo, lr_clamp=1e-2, logger=logger),\n",
    "    logger          = logger,\n",
    ")\n",
    "nqs"
   ]
  },
  {
   "cell_type": "code",
   "execution_count": 12,
   "id": "50f88db5",
   "metadata": {},
   "outputs": [
    {
     "data": {
      "text/plain": [
       "NQSTrainer(nqs=NQS(ansatz=FlaxNetInterface(input_dim=12, dtype=complex128, flax_module=_FlaxRBM),sampler=MCSampler:\n",
       "  - State shape: (12,) (Size: 12)\n",
       "  - Backend: jax\n",
       "  - Chains: 5, Samples/Chain: 200\n",
       "  - Params: mu=2.000, beta=1.000, logprob_fact=0.500\n",
       "  - Thermalization: 25 sweeps x 12 steps/sweep (43200 total site updates/chain)\n",
       "  - Sampling: 12 steps/sample (28800 total site updates/chain)\n",
       ",backend=jax), ode_solver=Euler(dt=0.1, backend=jax, rhs_p=-1.0), tdvp=TDVP(backend=jax,use_sr=True,use_minsr=False,rhs_prefact=1.0,sr_snr_tol=1e-08,sr_pinv_tol=1e-08,sr_diag_shift=0.01,sr_maxiter=600)"
      ]
     },
     "execution_count": 12,
     "metadata": {},
     "output_type": "execute_result"
    }
   ],
   "source": [
    "nqs_train"
   ]
  },
  {
   "cell_type": "markdown",
   "id": "a36a6f8f",
   "metadata": {},
   "source": [
    "### Test the training of the NQS with a simple Hamiltonian."
   ]
  },
  {
   "cell_type": "code",
   "execution_count": 13,
   "id": "b46e97e6",
   "metadata": {},
   "outputs": [
    {
     "name": "stdout",
     "output_type": "stream",
     "text": [
      "18_05_2025_22-34_21 [INFO] \t->\u001b[0m[EarlyStopping] EarlyStopping reset.\u001b[0m\n"
     ]
    },
    {
     "name": "stderr",
     "output_type": "stream",
     "text": [
      "Training: 100%|██████████| 50/50 [00:11<00:00,  4.20it/s, E/N=-2.3106e+00-3.1225e-05j ± 2.1333e-02, lr=9.9e-02, sig=1.0e-02, t_sample=8.25e-02s, t_step=1.16e-01s, t_update=8.97e-04s, t_gradient=4.60e-04s, t_prepare=2.73e-02s, t_solve=8.78e-02s, t_total=3.15e-01s]\n"
     ]
    }
   ],
   "source": [
    "nqs_train._reset_history()\n",
    "history, history_std, timings = nqs_train.train(n_epochs=50, \n",
    "                        reset=False, use_lr_scheduler=(ode_solver_type=='Euler'), use_reg_scheduler=False)"
   ]
  },
  {
   "cell_type": "code",
   "execution_count": 14,
   "id": "73d384c7",
   "metadata": {},
   "outputs": [
    {
     "name": "stdout",
     "output_type": "stream",
     "text": [
      "18_05_2025_22-34_33 [INFO] \u001b[34mTime breakdown (s):\u001b[0m\n",
      "18_05_2025_22-34_33 [INFO] \t->- sampling: 4.17e+00 (35.6%)\n",
      "18_05_2025_22-34_33 [INFO] \t->- compute : 7.23e+00 (61.6%)\n",
      "18_05_2025_22-34_33 [INFO] \t->- update  : 3.27e-01 (2.8%)\n",
      "18_05_2025_22-34_33 [INFO] \t->- prepare : 1.42e+00 (12.1%)\n",
      "18_05_2025_22-34_33 [INFO] \t->- solve   : 4.97e+00 (42.4%)\n",
      "18_05_2025_22-34_33 [INFO] \t->- gradient: 6.14e-02 (0.5%)\n",
      "18_05_2025_22-34_33 [INFO] \u001b[32m- total   : 1.17e+01\u001b[0m\n",
      "18_05_2025_22-34_34 [INFO] Saved figure to './data/nqs_train/TransverseFieldIsing/gs_train.png' and JSON to './data/nqs_train/TransverseFieldIsing/'.\n",
      "18_05_2025_22-34_34 [INFO] \t->\u001b[32mSaved parameters to ./data/nqs_train/TransverseFieldIsing/gs_train_info.json\u001b[0m\n",
      "18_05_2025_22-34_34 [WARNING] Failed to save parameters: Object of type complex128 is not JSON serializable\n",
      "18_05_2025_22-34_34 [WARNING] Parameters are not saved.\n",
      "18_05_2025_22-34_34 [WARNING] \t->\u001b[31mYou can save them manually using `nqs.get_params()`.\u001b[0m\n"
     ]
    },
    {
     "data": {
      "image/png": "[encoded data removed]",
      "text/plain": [
       "<Figure size 600x750 with 2 Axes>"
      ]
     },
     "metadata": {},
     "output_type": "display_data"
    }
   ],
   "source": [
    "energy_plot = eigv[0] if eigv[0] is not None else -18.583590144097595\n",
    "fig, ax = nqs_train.report_gs(eigv      =   energy_plot,\n",
    "                            last_n      =   0.05,\n",
    "                            savedir     =   f'./data/nqs_train/{ham_type}/',\n",
    "                            plot_kwargs =   {\n",
    "                                'ylim_0'        : (-3.5, 3e-2),\n",
    "                                'ylim_1'        : (1e-5, 1e0),\n",
    "                                'inset_axes'    : (0.55, 0.2, 0.4, 0.4),\n",
    "                                'annotate_x'    : 0.93,\n",
    "                                'annotate_y'    : 0.05\n",
    "                            })"
   ]
  },
  {
   "cell_type": "code",
   "execution_count": 15,
   "id": "c529175a",
   "metadata": {},
   "outputs": [
    {
     "name": "stdout",
     "output_type": "stream",
     "text": [
      "18_05_2025_22-34_35 [INFO] \u001b[31mOperator(Sz/0, type_acting=Global, eigval=1.0, type=Other): ⟨O⟩ = (0.5000+0.0000j) ± (0.0000)  (N=1000)\u001b[0m\n",
      "18_05_2025_22-34_35 [INFO] \t\t->ref = 0.4883 - rel.err = 2.40 %\n",
      "18_05_2025_22-34_35 [INFO] \u001b[34mOperator(Sx/0, type_acting=Global, eigval=1.0, type=Other): ⟨O⟩ = (0.0019+0.0003j) ± (0.0006)  (N=1000)\u001b[0m\n",
      "18_05_2025_22-34_35 [INFO] \t\t->ref = -0.1074 - rel.err = 101.81 %\n",
      "18_05_2025_22-34_35 [INFO] \u001b[32mOperator(Sz/0-1, type_acting=Global, eigval=1.0, type=Other): ⟨O⟩ = (0.2450+0.0000j) ± (0.0497)  (N=1000)\u001b[0m\n",
      "18_05_2025_22-34_35 [INFO] \t\t->ref = 0.2386 - rel.err = 2.70 %\n",
      "18_05_2025_22-34_35 [INFO] \u001b[0mOperator(Sx/0-1, type_acting=Global, eigval=1.0, type=Other): ⟨O⟩ = (-0.0002-0.0000j) ± (0.0010)  (N=1000)\u001b[0m\n",
      "18_05_2025_22-34_35 [INFO] \t\t->ref = 0.0139 - rel.err = 101.48 %\n",
      "18_05_2025_22-34_36 [INFO] \u001b[0mEnergy: E = (-2.7739e+01-4.4490e-03j) ± (0.2328) (N=1000)\u001b[0m\n",
      "None\n",
      "None\n",
      "None\n",
      "None\n",
      "18_05_2025_22-34_37 [INFO] \u001b[32msample: 8.99e-02 s\u001b[0m\n",
      "18_05_2025_22-34_37 [INFO] \u001b[32mobs_0: 1.48e-01 s\u001b[0m\n",
      "18_05_2025_22-34_37 [INFO] \u001b[32mobs_1: 1.98e-01 s\u001b[0m\n",
      "18_05_2025_22-34_37 [INFO] \u001b[32mobs_2: 1.44e-01 s\u001b[0m\n",
      "18_05_2025_22-34_37 [INFO] \u001b[32mobs_3: 1.48e-01 s\u001b[0m\n",
      "18_05_2025_22-34_37 [INFO] \u001b[32menergy: 5.44e-01 s\u001b[0m\n"
     ]
    },
    {
     "data": {
      "image/png": "[encoded data removed]",
      "text/plain": [
       "<Figure size 480x900 with 5 Axes>"
      ]
     },
     "metadata": {},
     "output_type": "display_data"
    }
   ],
   "source": [
    "results, energy, timings = nqs.eval_observables(\n",
    "    operators      = [sig_z, sig_x, sig_z_c, sig_x_c],\n",
    "    true_values    = [ed_sig_z_exp, ed_sig_x_exp, ed_sig_z_exp_c, ed_sig_x_exp_c],\n",
    "    n_chains       = n_chains,\n",
    "    n_samples      = n_samples,\n",
    "    batch_size     = 100,\n",
    "    logger         = logger,\n",
    "    plot           = True,\n",
    "    get_energy     = True,\n",
    "    bins           = 200,\n",
    "    true_en        = eigv[0],\n",
    "    plot_kwargs    = {\n",
    "        # 'xlim_0'    : (-0.5, 0.1),\n",
    "        # 'xlim_1'    : (-0.5, 0.1),\n",
    "        'inset_axes': (0.6, 0.2, 0.35, 0.4),\n",
    "    }\n",
    ")"
   ]
  },
  {
   "cell_type": "markdown",
   "id": "6c12705b",
   "metadata": {},
   "source": [
    "### Test modifier"
   ]
  },
  {
   "cell_type": "code",
   "execution_count": 16,
   "id": "6ac9632d",
   "metadata": {},
   "outputs": [],
   "source": [
    "from QES.Algebra.Operator.operator import initial_states, create_operator\n",
    "\n",
    "sites_all       = []\n",
    "operators_inv   = []\n",
    "# locals\n",
    "sites           = [0]\n",
    "\n",
    "operators_inv.append(\n",
    "    create_operator(\n",
    "        type_act        =   op_spin.OperatorTypeActing.Global,\n",
    "        op_func_int     =   None,\n",
    "        op_func_np      =   None,\n",
    "        op_func_jnp     =   op_spin.sigma_z_inv_jnp,\n",
    "        ns              =   lattice.ns,\n",
    "        sites           =   sites,\n",
    "        name            =   'sig_z_0',\n",
    "        extra_args      =   (True, 1.0),\n",
    "        modifies        =   False,\n",
    "        \n",
    "    )\n",
    ")\n",
    "\n",
    "operators_inv.append(\n",
    "    create_operator(\n",
    "        type_act        =   op_spin.OperatorTypeActing.Global,\n",
    "        op_func_int     =   None,\n",
    "        op_func_np      =   None,\n",
    "        op_func_jnp     =   op_spin.sigma_x_inv_jnp,\n",
    "        ns              =   lattice.ns,\n",
    "        sites           =   sites,\n",
    "        name            =   'sig_x_0',\n",
    "        extra_args      =   (True, 1.0),\n",
    "        modifies        =   False,\n",
    "        \n",
    "    )\n",
    ")\n",
    "\n",
    "# correlations\n",
    "sites_corr = jnp.array([0, 3], dtype=jnp.int32)\n",
    "def sig_z_c_modifier(x):\n",
    "    return op_spin.sigma_z_inv_jnp(x, sites=sites_corr)\n",
    "\n",
    "def sig_x_c_modifier(x):\n",
    "    return op_spin.sigma_x_inv_jnp(x, sites=sites_corr)\n",
    "\n",
    "# k-space\n",
    "k       = 1.0\n",
    "sites_k = jnp.arange(0, lattice.ns, dtype=jnp.int32)\n",
    "def sig_k_modifier(x):\n",
    "    return op_spin.sigma_k_inv_jnp(x, k=k, sites=sites_k)\n",
    "\n",
    "\n",
    "names = ['sig_z', 'sig_x', 'sig_z_c', 'sig_x_c', 'sig_k']\n",
    "\n",
    "sig_z_modifier_jit      = operators_inv[0].jax\n",
    "sig_x_modifier_jit      = operators_inv[1].jax\n",
    "sig_z_c_modifier_jit    = jax.jit(sig_z_c_modifier)\n",
    "sig_x_c_modifier_jit    = jax.jit(sig_x_c_modifier)\n",
    "sig_k_modifier_jit      = jax.jit(sig_k_modifier)"
   ]
  },
  {
   "cell_type": "code",
   "execution_count": 17,
   "id": "a34a4569",
   "metadata": {},
   "outputs": [
    {
     "data": {
      "text/latex": [
       "$\\displaystyle \\text{Integer state: }\\,\\left|(3174)\\,110001100110\\right\\rangle$"
      ],
      "text/plain": [
       "<IPython.core.display.Math object>"
      ]
     },
     "metadata": {},
     "output_type": "display_data"
    },
    {
     "data": {
      "text/latex": [
       "$\\displaystyle \\text{NumPy state: }\\,|1 1 0 0 0 1 1 0 0 1 1 0\\rangle$"
      ],
      "text/plain": [
       "<IPython.core.display.Math object>"
      ]
     },
     "metadata": {},
     "output_type": "display_data"
    },
    {
     "data": {
      "text/latex": [
       "$\\displaystyle \\text{JAX state: }\\,|1 1 0 0 0 1 1 0 0 1 1 0\\rangle$"
      ],
      "text/plain": [
       "<IPython.core.display.Math object>"
      ]
     },
     "metadata": {},
     "output_type": "display_data"
    }
   ],
   "source": [
    "# test modifiers\n",
    "_, _, st_jax = initial_states(lattice.ns, display=True)\n",
    "st_jax       = (st_jax - 0.5) * 2"
   ]
  },
  {
   "cell_type": "code",
   "execution_count": 18,
   "id": "309dd9e8",
   "metadata": {},
   "outputs": [
    {
     "name": "stdout",
     "output_type": "stream",
     "text": [
      "18_05_2025_22-34_39 [INFO] \u001b[31m#######################################################################Modifier#######################################################################\u001b[0m\n",
      "18_05_2025_22-34_39 [INFO] Modified state: [ 1.  1. -1. -1. -1.  1.  1. -1. -1.  1.  1. -1.]\n",
      "18_05_2025_22-34_39 [INFO] Original state: [ 1.  1. -1. -1. -1.  1.  1. -1. -1.  1.  1. -1.]\n",
      "18_05_2025_22-34_39 [INFO] Modified state value: [1.]\n",
      "18_05_2025_22-34_39 [INFO] Modified state shape: (1, 12)\n",
      "18_05_2025_22-34_39 [INFO] \u001b[31m#######################################################################Modifier#######################################################################\u001b[0m\n",
      "18_05_2025_22-34_39 [INFO] Modified state: [-1.  1. -1. -1. -1.  1.  1. -1. -1.  1.  1. -1.]\n",
      "18_05_2025_22-34_39 [INFO] Original state: [ 1.  1. -1. -1. -1.  1.  1. -1. -1.  1.  1. -1.]\n",
      "18_05_2025_22-34_39 [INFO] Modified state value: [1.]\n",
      "18_05_2025_22-34_39 [INFO] Modified state shape: (1, 12)\n"
     ]
    }
   ],
   "source": [
    "for modifier in [sig_z_modifier_jit, sig_x_modifier_jit]:\n",
    "    st_out, st_val = modifier(st_jax)\n",
    "    logger.title('Modifier', desired_size=150, fill='#', color='red')\n",
    "    logger.info(f\"Modified state: {st_out[0]}\")\n",
    "    logger.info(f\"Original state: {st_jax}\")\n",
    "    logger.info(f\"Modified state value: {st_val}\")\n",
    "    logger.info(f\"Modified state shape: {st_out.shape}\")"
   ]
  },
  {
   "cell_type": "markdown",
   "id": "5a0e61c7",
   "metadata": {},
   "source": [
    "#### $\\sigma_z$ - Pauli Z operator at site $i=0$."
   ]
  },
  {
   "cell_type": "code",
   "execution_count": 19,
   "id": "e21572e7",
   "metadata": {},
   "outputs": [
    {
     "data": {
      "text/plain": [
       "Array([[0.5, 0.5, 0.5, ..., 0.5, 0.5, 0.5],\n",
       "       [0.5, 0.5, 0.5, ..., 0.5, 0.5, 0.5],\n",
       "       [0.5, 0.5, 0.5, ..., 0.5, 0.5, 0.5],\n",
       "       ...,\n",
       "       [0.5, 0.5, 0.5, ..., 0.5, 0.5, 0.5],\n",
       "       [0.5, 0.5, 0.5, ..., 0.5, 0.5, 0.5],\n",
       "       [0.5, 0.5, 0.5, ..., 0.5, 0.5, 0.5]], dtype=float64)"
      ]
     },
     "execution_count": 19,
     "metadata": {},
     "output_type": "execute_result"
    }
   ],
   "source": [
    "(_, _), (cfgs, cfgs_psi), probs = nqs.sample()\n",
    "cfgs"
   ]
  },
  {
   "cell_type": "code",
   "execution_count": 20,
   "id": "05bc4b44",
   "metadata": {},
   "outputs": [
    {
     "name": "stdout",
     "output_type": "stream",
     "text": [
      "18_05_2025_22-34_39 [INFO] \t\t->\u001b[34m[<class 'QES.NQS.nqs.NQS'>] State modifier unset.\u001b[0m\n",
      "Before: [7.19576336+8.84694715j 7.19576336+8.84694715j]\n",
      "Before exp: [-1117.23010259+728.51507147j -1117.23010259+728.51507147j]\n",
      "18_05_2025_22-34_40 [INFO] \t\t->\u001b[34m[<class 'QES.NQS.nqs.NQS'>] State modifier function set to <PjitFunction of <function make_jax_operator_closure.<locals>.compiled_op at 0x308048b80>>.\u001b[0m\n",
      "After: [7.19576336+8.84694715j 7.19576336+8.84694715j]\n",
      "After exp: [-1117.23010259+728.51507147j -1117.23010259+728.51507147j]\n"
     ]
    }
   ],
   "source": [
    "nqs.unset_modifier()\n",
    "two_states      = jnp.array([st_jax, st_jax], dtype=jnp.float32)\n",
    "nqs_ansatz_old  = nqs.ansatz\n",
    "nqs_eval_before = nqs_ansatz_old(nqs.get_params(), two_states)\n",
    "print('Before:', nqs_eval_before)\n",
    "print('Before exp:', jnp.exp(nqs_eval_before))\n",
    "nqs.set_modifier(modifier=sig_z_modifier_jit, name=operators_inv[0].name)\n",
    "nqs_ansatz_new  = nqs.ansatz\n",
    "nqs_eval_new    = nqs_ansatz_new(nqs.get_params(), two_states)\n",
    "print('After:', nqs_eval_new)\n",
    "print('After exp:', jnp.exp(nqs_eval_new))"
   ]
  },
  {
   "cell_type": "code",
   "execution_count": 21,
   "id": "e8a8b87c",
   "metadata": {},
   "outputs": [],
   "source": [
    "out = nqs_ansatz_new(nqs.get_params(), cfgs)\n"
   ]
  },
  {
   "cell_type": "markdown",
   "id": "4c815a52",
   "metadata": {},
   "source": [
    "#### Try to evaluate"
   ]
  },
  {
   "cell_type": "code",
   "execution_count": 22,
   "id": "d255d35e",
   "metadata": {},
   "outputs": [
    {
     "name": "stdout",
     "output_type": "stream",
     "text": [
      "18_05_2025_22-34_41 [INFO] \u001b[31mOperator(Sx/0, type_acting=Global, eigval=1.0, type=Other): ⟨O⟩ = (-0.0019-0.0003j) ± (0.0007)  (N=1000)\u001b[0m\n",
      "18_05_2025_22-34_41 [INFO] \t\t->ref = 0.4883 - rel.err = 100.39 %\n",
      "18_05_2025_22-34_41 [INFO] \u001b[0mEnergy: E = (-2.7743e+01+6.3536e-03j) ± (0.2715) (N=1000)\u001b[0m\n",
      "None\n",
      "18_05_2025_22-34_42 [INFO] \u001b[32msample: 1.67e-01 s\u001b[0m\n",
      "18_05_2025_22-34_42 [INFO] \u001b[32mobs_0: 1.74e-01 s\u001b[0m\n",
      "18_05_2025_22-34_42 [INFO] \u001b[32menergy: 5.64e-01 s\u001b[0m\n"
     ]
    },
    {
     "data": {
      "image/png": "[encoded data removed]",
      "text/plain": [
       "<Figure size 480x360 with 2 Axes>"
      ]
     },
     "metadata": {},
     "output_type": "display_data"
    }
   ],
   "source": [
    "results, energy, timings = nqs.eval_observables(\n",
    "    operators      = [sig_x],\n",
    "    true_values    = [ed_sig_z_exp],\n",
    "    n_chains       = n_chains,\n",
    "    n_samples      = n_samples,\n",
    "    batch_size     = 100,\n",
    "    logger         = logger,\n",
    "    plot           = True,\n",
    "    get_energy     = True,\n",
    "    bins           = 200,\n",
    "    true_en        = energy_0,\n",
    "    plot_kwargs    = {\n",
    "    }\n",
    ")"
   ]
  },
  {
   "cell_type": "markdown",
   "id": "13428001",
   "metadata": {},
   "source": [
    "#### ED evolution - exact diagonalization of the Hamiltonian $H$."
   ]
  },
  {
   "cell_type": "code",
   "execution_count": null,
   "id": "5f5b6c4b",
   "metadata": {},
   "outputs": [],
   "source": []
  },
  {
   "cell_type": "markdown",
   "id": "e2165773",
   "metadata": {},
   "source": [
    "#### TDVP evolution - time-dependent variational principle (TDVP) evolution of the state $\\psi_\\theta (s)$."
   ]
  },
  {
   "cell_type": "code",
   "execution_count": 25,
   "id": "a1038358",
   "metadata": {},
   "outputs": [
    {
     "name": "stdout",
     "output_type": "stream",
     "text": [
      "18_05_2025_22-37_30 [INFO] \u001b[32mCurrent time: 0.0000: 0/200\u001b[0m\n",
      "18_05_2025_22-37_30 [INFO] \t\t->\u001b[32mMean value: -0.0008-0.0017j +/- 0.0009\u001b[0m\n",
      "18_05_2025_22-37_30 [INFO] \u001b[32mCurrent time: 0.0100: 1/200\u001b[0m\n",
      "18_05_2025_22-37_31 [INFO] \t\t->\u001b[32mMean value: -0.0007-0.0016j +/- 0.0010\u001b[0m\n",
      "18_05_2025_22-37_31 [INFO] \u001b[32mCurrent time: 0.0200: 2/200\u001b[0m\n",
      "18_05_2025_22-37_32 [INFO] \t\t->\u001b[32mMean value: 0.1298-0.2393j +/- 4.8773\u001b[0m\n",
      "18_05_2025_22-37_32 [INFO] \u001b[32mCurrent time: 0.0300: 3/200\u001b[0m\n",
      "18_05_2025_22-37_32 [INFO] \t\t->\u001b[32mMean value: 0.0036-0.0055j +/- 0.0021\u001b[0m\n",
      "18_05_2025_22-37_32 [INFO] \u001b[32mCurrent time: 0.0400: 4/200\u001b[0m\n",
      "18_05_2025_22-37_33 [INFO] \t\t->\u001b[32mMean value: 0.0034-0.0052j +/- 0.0027\u001b[0m\n",
      "18_05_2025_22-37_33 [INFO] \u001b[32mCurrent time: 0.0500: 5/200\u001b[0m\n",
      "18_05_2025_22-37_34 [INFO] \t\t->\u001b[32mMean value: -0.0110-0.0328j +/- 0.9928\u001b[0m\n",
      "18_05_2025_22-37_34 [INFO] \u001b[32mCurrent time: 0.0600: 6/200\u001b[0m\n",
      "18_05_2025_22-37_35 [INFO] \t\t->\u001b[32mMean value: 0.0061-0.0064j +/- 0.0032\u001b[0m\n",
      "18_05_2025_22-37_35 [INFO] \u001b[32mCurrent time: 0.0700: 7/200\u001b[0m\n",
      "18_05_2025_22-37_35 [INFO] \t\t->\u001b[32mMean value: 0.0059-0.0061j +/- 0.0036\u001b[0m\n",
      "18_05_2025_22-37_35 [INFO] \u001b[32mCurrent time: 0.0800: 8/200\u001b[0m\n",
      "18_05_2025_22-37_36 [INFO] \t\t->\u001b[32mMean value: 0.0058-0.0061j +/- 0.0034\u001b[0m\n",
      "18_05_2025_22-37_36 [INFO] \u001b[32mCurrent time: 0.0900: 9/200\u001b[0m\n",
      "18_05_2025_22-37_37 [INFO] \t\t->\u001b[32mMean value: -0.0560-0.0738j +/- 1.4757\u001b[0m\n",
      "18_05_2025_22-37_37 [INFO] \u001b[32mCurrent time: 0.1000: 10/200\u001b[0m\n",
      "18_05_2025_22-37_37 [INFO] \t\t->\u001b[32mMean value: 0.0091-0.0062j +/- 0.0038\u001b[0m\n",
      "18_05_2025_22-37_37 [INFO] \u001b[32mCurrent time: 0.1100: 11/200\u001b[0m\n",
      "18_05_2025_22-37_38 [INFO] \t\t->\u001b[32mMean value: 0.0091-0.0060j +/- 0.0045\u001b[0m\n",
      "18_05_2025_22-37_38 [INFO] \u001b[32mCurrent time: 0.1200: 12/200\u001b[0m\n",
      "18_05_2025_22-37_39 [INFO] \t\t->\u001b[32mMean value: 0.0094-0.0059j +/- 0.0043\u001b[0m\n",
      "18_05_2025_22-37_39 [INFO] \u001b[32mCurrent time: 0.1300: 13/200\u001b[0m\n",
      "18_05_2025_22-37_39 [INFO] \t\t->\u001b[32mMean value: 0.0094-0.0060j +/- 0.0042\u001b[0m\n",
      "18_05_2025_22-37_39 [INFO] \u001b[32mCurrent time: 0.1400: 14/200\u001b[0m\n",
      "18_05_2025_22-37_40 [INFO] \t\t->\u001b[32mMean value: 0.0091-0.0057j +/- 0.0040\u001b[0m\n",
      "18_05_2025_22-37_40 [INFO] \u001b[32mCurrent time: 0.1500: 15/200\u001b[0m\n",
      "18_05_2025_22-37_41 [INFO] \t\t->\u001b[32mMean value: 0.0165+0.0171j +/- 0.7121\u001b[0m\n",
      "18_05_2025_22-37_41 [INFO] \u001b[32mCurrent time: 0.1600: 16/200\u001b[0m\n",
      "18_05_2025_22-37_42 [INFO] \t\t->\u001b[32mMean value: 0.0088-0.0026j +/- 0.0034\u001b[0m\n",
      "18_05_2025_22-37_42 [INFO] \u001b[32mCurrent time: 0.1700: 17/200\u001b[0m\n",
      "18_05_2025_22-37_42 [INFO] \t\t->\u001b[32mMean value: 0.0089-0.0028j +/- 0.0035\u001b[0m\n",
      "18_05_2025_22-37_42 [INFO] \u001b[32mCurrent time: 0.1800: 18/200\u001b[0m\n",
      "18_05_2025_22-37_43 [INFO] \t\t->\u001b[32mMean value: 0.0089-0.0026j +/- 0.0032\u001b[0m\n",
      "18_05_2025_22-37_43 [INFO] \u001b[32mCurrent time: 0.1900: 19/200\u001b[0m\n",
      "18_05_2025_22-37_44 [INFO] \t\t->\u001b[32mMean value: 0.0089-0.0025j +/- 0.0034\u001b[0m\n",
      "18_05_2025_22-37_44 [INFO] \u001b[32mCurrent time: 0.2000: 20/200\u001b[0m\n",
      "18_05_2025_22-37_45 [INFO] \t\t->\u001b[32mMean value: 0.0089-0.0029j +/- 0.0034\u001b[0m\n",
      "18_05_2025_22-37_45 [INFO] \u001b[32mCurrent time: 0.2100: 21/200\u001b[0m\n",
      "18_05_2025_22-37_45 [INFO] \t\t->\u001b[32mMean value: 0.0089-0.0028j +/- 0.0039\u001b[0m\n",
      "18_05_2025_22-37_45 [INFO] \u001b[32mCurrent time: 0.2200: 22/200\u001b[0m\n",
      "18_05_2025_22-37_46 [INFO] \t\t->\u001b[32mMean value: -0.0340-0.0156j +/- 1.0192\u001b[0m\n",
      "18_05_2025_22-37_46 [INFO] \u001b[32mCurrent time: 0.2300: 23/200\u001b[0m\n",
      "18_05_2025_22-37_47 [INFO] \t\t->\u001b[32mMean value: 0.0099-0.0018j +/- 0.0040\u001b[0m\n",
      "18_05_2025_22-37_47 [INFO] \u001b[32mCurrent time: 0.2400: 24/200\u001b[0m\n",
      "18_05_2025_22-37_47 [INFO] \t\t->\u001b[32mMean value: 0.0097-0.0016j +/- 0.0044\u001b[0m\n",
      "18_05_2025_22-37_47 [INFO] \u001b[32mCurrent time: 0.2500: 25/200\u001b[0m\n",
      "18_05_2025_22-37_48 [INFO] \t\t->\u001b[32mMean value: 0.0104-0.0019j +/- 0.0034\u001b[0m\n",
      "18_05_2025_22-37_48 [INFO] \u001b[32mCurrent time: 0.2600: 26/200\u001b[0m\n",
      "18_05_2025_22-37_49 [INFO] \t\t->\u001b[32mMean value: 0.0099-0.0016j +/- 0.0041\u001b[0m\n",
      "18_05_2025_22-37_49 [INFO] \u001b[32mCurrent time: 0.2700: 27/200\u001b[0m\n",
      "18_05_2025_22-37_50 [INFO] \t\t->\u001b[32mMean value: 0.0100-0.0015j +/- 0.0043\u001b[0m\n",
      "18_05_2025_22-37_50 [INFO] \u001b[32mCurrent time: 0.2800: 28/200\u001b[0m\n",
      "18_05_2025_22-37_50 [INFO] \t\t->\u001b[32mMean value: 0.0102-0.0016j +/- 0.0035\u001b[0m\n",
      "18_05_2025_22-37_50 [INFO] \u001b[32mCurrent time: 0.2900: 29/200\u001b[0m\n",
      "18_05_2025_22-37_51 [INFO] \t\t->\u001b[32mMean value: 0.0102-0.0014j +/- 0.0039\u001b[0m\n",
      "18_05_2025_22-37_51 [INFO] \u001b[32mCurrent time: 0.3000: 30/200\u001b[0m\n",
      "18_05_2025_22-37_52 [INFO] \t\t->\u001b[32mMean value: 0.0099-0.0016j +/- 0.0037\u001b[0m\n",
      "18_05_2025_22-37_52 [INFO] \u001b[32mCurrent time: 0.3100: 31/200\u001b[0m\n",
      "18_05_2025_22-37_52 [INFO] \t\t->\u001b[32mMean value: 0.0100-0.0014j +/- 0.0038\u001b[0m\n",
      "18_05_2025_22-37_52 [INFO] \u001b[32mCurrent time: 0.3200: 32/200\u001b[0m\n",
      "18_05_2025_22-37_53 [INFO] \t\t->\u001b[32mMean value: 0.0095-0.0012j +/- 0.0041\u001b[0m\n",
      "18_05_2025_22-37_53 [INFO] \u001b[32mCurrent time: 0.3300: 33/200\u001b[0m\n",
      "18_05_2025_22-37_54 [INFO] \t\t->\u001b[32mMean value: 0.0102-0.0016j +/- 0.0036\u001b[0m\n",
      "18_05_2025_22-37_54 [INFO] \u001b[32mCurrent time: 0.3400: 34/200\u001b[0m\n",
      "18_05_2025_22-37_55 [INFO] \t\t->\u001b[32mMean value: -0.0111-0.0031j +/- 0.6818\u001b[0m\n",
      "18_05_2025_22-37_55 [INFO] \u001b[32mCurrent time: 0.3500: 35/200\u001b[0m\n",
      "18_05_2025_22-37_55 [INFO] \t\t->\u001b[32mMean value: -0.0103+0.0017j +/- 0.6553\u001b[0m\n",
      "18_05_2025_22-37_55 [INFO] \u001b[32mCurrent time: 0.3600: 36/200\u001b[0m\n",
      "18_05_2025_22-37_56 [INFO] \t\t->\u001b[32mMean value: -0.0105+0.0056j +/- 0.6446\u001b[0m\n",
      "18_05_2025_22-37_56 [INFO] \u001b[32mCurrent time: 0.3700: 37/200\u001b[0m\n",
      "18_05_2025_22-37_57 [INFO] \t\t->\u001b[32mMean value: 0.0101+0.0030j +/- 0.0032\u001b[0m\n",
      "18_05_2025_22-37_57 [INFO] \u001b[32mCurrent time: 0.3800: 38/200\u001b[0m\n",
      "18_05_2025_22-37_57 [INFO] \t\t->\u001b[32mMean value: 0.0097+0.0030j +/- 0.0041\u001b[0m\n",
      "18_05_2025_22-37_57 [INFO] \u001b[32mCurrent time: 0.3900: 39/200\u001b[0m\n",
      "18_05_2025_22-37_58 [INFO] \t\t->\u001b[32mMean value: 0.0098+0.0030j +/- 0.0042\u001b[0m\n",
      "18_05_2025_22-37_58 [INFO] \u001b[32mCurrent time: 0.4000: 40/200\u001b[0m\n",
      "18_05_2025_22-37_59 [INFO] \t\t->\u001b[32mMean value: 0.0098+0.0029j +/- 0.0040\u001b[0m\n",
      "18_05_2025_22-37_59 [INFO] \u001b[32mCurrent time: 0.4100: 41/200\u001b[0m\n",
      "18_05_2025_22-37_59 [INFO] \t\t->\u001b[32mMean value: 0.0097+0.0029j +/- 0.0042\u001b[0m\n",
      "18_05_2025_22-37_59 [INFO] \u001b[32mCurrent time: 0.4200: 42/200\u001b[0m\n",
      "18_05_2025_22-38_00 [INFO] \t\t->\u001b[32mMean value: 0.0098+0.0029j +/- 0.0038\u001b[0m\n",
      "18_05_2025_22-38_00 [INFO] \u001b[32mCurrent time: 0.4300: 43/200\u001b[0m\n",
      "18_05_2025_22-38_01 [INFO] \t\t->\u001b[32mMean value: 0.0098+0.0031j +/- 0.0037\u001b[0m\n",
      "18_05_2025_22-38_01 [INFO] \u001b[32mCurrent time: 0.4400: 44/200\u001b[0m\n",
      "18_05_2025_22-38_02 [INFO] \t\t->\u001b[32mMean value: 0.0100+0.0031j +/- 0.0034\u001b[0m\n",
      "18_05_2025_22-38_02 [INFO] \u001b[32mCurrent time: 0.4500: 45/200\u001b[0m\n",
      "18_05_2025_22-38_02 [INFO] \t\t->\u001b[32mMean value: -0.0121+0.0114j +/- 0.6963\u001b[0m\n",
      "18_05_2025_22-38_02 [INFO] \u001b[32mCurrent time: 0.4600: 46/200\u001b[0m\n",
      "18_05_2025_22-38_03 [INFO] \t\t->\u001b[32mMean value: 0.0084+0.0043j +/- 0.0037\u001b[0m\n",
      "18_05_2025_22-38_03 [INFO] \u001b[32mCurrent time: 0.4700: 47/200\u001b[0m\n",
      "18_05_2025_22-38_04 [INFO] \t\t->\u001b[32mMean value: 0.0087+0.0040j +/- 0.0030\u001b[0m\n",
      "18_05_2025_22-38_04 [INFO] \u001b[32mCurrent time: 0.4800: 48/200\u001b[0m\n",
      "18_05_2025_22-38_04 [INFO] \t\t->\u001b[32mMean value: 0.0084+0.0042j +/- 0.0036\u001b[0m\n",
      "18_05_2025_22-38_04 [INFO] \u001b[32mCurrent time: 0.4900: 49/200\u001b[0m\n",
      "18_05_2025_22-38_05 [INFO] \t\t->\u001b[32mMean value: 0.0086+0.0046j +/- 0.0035\u001b[0m\n",
      "18_05_2025_22-38_05 [INFO] \u001b[32mCurrent time: 0.5000: 50/200\u001b[0m\n",
      "18_05_2025_22-38_06 [INFO] \t\t->\u001b[32mMean value: 0.0088+0.0044j +/- 0.0029\u001b[0m\n",
      "18_05_2025_22-38_06 [INFO] \u001b[32mCurrent time: 0.5100: 51/200\u001b[0m\n",
      "18_05_2025_22-38_06 [INFO] \t\t->\u001b[32mMean value: 0.0084+0.0046j +/- 0.0034\u001b[0m\n",
      "18_05_2025_22-38_06 [INFO] \u001b[32mCurrent time: 0.5200: 52/200\u001b[0m\n",
      "18_05_2025_22-38_07 [INFO] \t\t->\u001b[32mMean value: 0.0085+0.0043j +/- 0.0033\u001b[0m\n",
      "18_05_2025_22-38_07 [INFO] \u001b[32mCurrent time: 0.5300: 53/200\u001b[0m\n",
      "18_05_2025_22-38_08 [INFO] \t\t->\u001b[32mMean value: 0.0086+0.0046j +/- 0.0028\u001b[0m\n",
      "18_05_2025_22-38_08 [INFO] \u001b[32mCurrent time: 0.5400: 54/200\u001b[0m\n",
      "18_05_2025_22-38_08 [INFO] \t\t->\u001b[32mMean value: 0.0083+0.0043j +/- 0.0036\u001b[0m\n",
      "18_05_2025_22-38_08 [INFO] \u001b[32mCurrent time: 0.5500: 55/200\u001b[0m\n",
      "18_05_2025_22-38_09 [INFO] \t\t->\u001b[32mMean value: 0.0084+0.0044j +/- 0.0033\u001b[0m\n",
      "18_05_2025_22-38_09 [INFO] \u001b[32mCurrent time: 0.5600: 56/200\u001b[0m\n",
      "18_05_2025_22-38_10 [INFO] \t\t->\u001b[32mMean value: 0.0085+0.0044j +/- 0.0030\u001b[0m\n",
      "18_05_2025_22-38_10 [INFO] \u001b[32mCurrent time: 0.5700: 57/200\u001b[0m\n",
      "18_05_2025_22-38_11 [INFO] \t\t->\u001b[32mMean value: 0.0083+0.0052j +/- 0.0049\u001b[0m\n",
      "18_05_2025_22-38_11 [INFO] \u001b[32mCurrent time: 0.5800: 58/200\u001b[0m\n",
      "18_05_2025_22-38_11 [INFO] \t\t->\u001b[32mMean value: 0.0083+0.0044j +/- 0.0029\u001b[0m\n",
      "18_05_2025_22-38_11 [INFO] \u001b[32mCurrent time: 0.5900: 59/200\u001b[0m\n",
      "18_05_2025_22-38_12 [INFO] \t\t->\u001b[32mMean value: -0.0141+0.0182j +/- 0.7808\u001b[0m\n",
      "18_05_2025_22-38_12 [INFO] \u001b[32mCurrent time: 0.6000: 60/200\u001b[0m\n",
      "18_05_2025_22-38_13 [INFO] \t\t->\u001b[32mMean value: 0.0065+0.0049j +/- 0.0027\u001b[0m\n",
      "18_05_2025_22-38_13 [INFO] \u001b[32mCurrent time: 0.6100: 61/200\u001b[0m\n",
      "18_05_2025_22-38_13 [INFO] \t\t->\u001b[32mMean value: 0.0064+0.0050j +/- 0.0024\u001b[0m\n",
      "18_05_2025_22-38_13 [INFO] \u001b[32mCurrent time: 0.6200: 62/200\u001b[0m\n",
      "18_05_2025_22-38_14 [INFO] \t\t->\u001b[32mMean value: 0.0064+0.0051j +/- 0.0027\u001b[0m\n",
      "18_05_2025_22-38_14 [INFO] \u001b[32mCurrent time: 0.6300: 63/200\u001b[0m\n",
      "18_05_2025_22-38_15 [INFO] \t\t->\u001b[32mMean value: 0.0065+0.0050j +/- 0.0029\u001b[0m\n",
      "18_05_2025_22-38_15 [INFO] \u001b[32mCurrent time: 0.6400: 64/200\u001b[0m\n",
      "18_05_2025_22-38_15 [INFO] \t\t->\u001b[32mMean value: 0.0063+0.0052j +/- 0.0029\u001b[0m\n",
      "18_05_2025_22-38_15 [INFO] \u001b[32mCurrent time: 0.6500: 65/200\u001b[0m\n",
      "18_05_2025_22-38_16 [INFO] \t\t->\u001b[32mMean value: 0.0063+0.0052j +/- 0.0026\u001b[0m\n",
      "18_05_2025_22-38_16 [INFO] \u001b[32mCurrent time: 0.6600: 66/200\u001b[0m\n",
      "18_05_2025_22-38_17 [INFO] \t\t->\u001b[32mMean value: -0.0384+0.0464j +/- 1.3349\u001b[0m\n",
      "18_05_2025_22-38_17 [INFO] \u001b[32mCurrent time: 0.6700: 67/200\u001b[0m\n",
      "18_05_2025_22-38_17 [INFO] \t\t->\u001b[32mMean value: 0.0042+0.0048j +/- 0.0018\u001b[0m\n",
      "18_05_2025_22-38_17 [INFO] \u001b[32mCurrent time: 0.6800: 68/200\u001b[0m\n",
      "18_05_2025_22-38_18 [INFO] \t\t->\u001b[32mMean value: 0.0041+0.0052j +/- 0.0020\u001b[0m\n",
      "18_05_2025_22-38_18 [INFO] \u001b[32mCurrent time: 0.6900: 69/200\u001b[0m\n",
      "18_05_2025_22-38_19 [INFO] \t\t->\u001b[32mMean value: 0.0041+0.0048j +/- 0.0021\u001b[0m\n",
      "18_05_2025_22-38_19 [INFO] \u001b[32mCurrent time: 0.7000: 70/200\u001b[0m\n",
      "18_05_2025_22-38_20 [INFO] \t\t->\u001b[32mMean value: -0.0200+0.0370j +/- 1.2720\u001b[0m\n",
      "18_05_2025_22-38_20 [INFO] \u001b[32mCurrent time: 0.7100: 71/200\u001b[0m\n",
      "18_05_2025_22-38_20 [INFO] \t\t->\u001b[32mMean value: 0.0024+0.0037j +/- 0.0014\u001b[0m\n",
      "18_05_2025_22-38_20 [INFO] \u001b[32mCurrent time: 0.7200: 72/200\u001b[0m\n",
      "18_05_2025_22-38_21 [INFO] \t\t->\u001b[32mMean value: 0.0024+0.0038j +/- 0.0020\u001b[0m\n",
      "18_05_2025_22-38_21 [INFO] \u001b[32mCurrent time: 0.7300: 73/200\u001b[0m\n",
      "18_05_2025_22-38_22 [INFO] \t\t->\u001b[32mMean value: 0.0025+0.0038j +/- 0.0017\u001b[0m\n",
      "18_05_2025_22-38_22 [INFO] \u001b[32mCurrent time: 0.7400: 74/200\u001b[0m\n",
      "18_05_2025_22-38_22 [INFO] \t\t->\u001b[32mMean value: 0.0024+0.0037j +/- 0.0017\u001b[0m\n",
      "18_05_2025_22-38_22 [INFO] \u001b[32mCurrent time: 0.7500: 75/200\u001b[0m\n",
      "18_05_2025_22-38_23 [INFO] \t\t->\u001b[32mMean value: 0.0026+0.0036j +/- 0.0013\u001b[0m\n",
      "18_05_2025_22-38_23 [INFO] \u001b[32mCurrent time: 0.7600: 76/200\u001b[0m\n",
      "18_05_2025_22-38_24 [INFO] \t\t->\u001b[32mMean value: 0.0025+0.0036j +/- 0.0015\u001b[0m\n",
      "18_05_2025_22-38_24 [INFO] \u001b[32mCurrent time: 0.7700: 77/200\u001b[0m\n",
      "18_05_2025_22-38_24 [INFO] \t\t->\u001b[32mMean value: 0.0026+0.0035j +/- 0.0016\u001b[0m\n",
      "18_05_2025_22-38_24 [INFO] \u001b[32mCurrent time: 0.7800: 78/200\u001b[0m\n",
      "18_05_2025_22-38_25 [INFO] \t\t->\u001b[32mMean value: 0.0025+0.0035j +/- 0.0015\u001b[0m\n",
      "18_05_2025_22-38_25 [INFO] \u001b[32mCurrent time: 0.7900: 79/200\u001b[0m\n",
      "18_05_2025_22-38_26 [INFO] \t\t->\u001b[32mMean value: 0.0026+0.0034j +/- 0.0015\u001b[0m\n",
      "18_05_2025_22-38_26 [INFO] \u001b[32mCurrent time: 0.8000: 80/200\u001b[0m\n",
      "18_05_2025_22-38_27 [INFO] \t\t->\u001b[32mMean value: 0.0026+0.0034j +/- 0.0015\u001b[0m\n",
      "18_05_2025_22-38_27 [INFO] \u001b[32mCurrent time: 0.8100: 81/200\u001b[0m\n",
      "18_05_2025_22-38_27 [INFO] \t\t->\u001b[32mMean value: 0.0026+0.0034j +/- 0.0015\u001b[0m\n",
      "18_05_2025_22-38_27 [INFO] \u001b[32mCurrent time: 0.8200: 82/200\u001b[0m\n",
      "18_05_2025_22-38_28 [INFO] \t\t->\u001b[32mMean value: 0.0026+0.0034j +/- 0.0015\u001b[0m\n",
      "18_05_2025_22-38_28 [INFO] \u001b[32mCurrent time: 0.8300: 83/200\u001b[0m\n",
      "18_05_2025_22-38_29 [INFO] \t\t->\u001b[32mMean value: 0.0027+0.0033j +/- 0.0013\u001b[0m\n",
      "18_05_2025_22-38_29 [INFO] \u001b[32mCurrent time: 0.8400: 84/200\u001b[0m\n",
      "18_05_2025_22-38_29 [INFO] \t\t->\u001b[32mMean value: 0.0028+0.0032j +/- 0.0013\u001b[0m\n",
      "18_05_2025_22-38_29 [INFO] \u001b[32mCurrent time: 0.8500: 85/200\u001b[0m\n",
      "18_05_2025_22-38_30 [INFO] \t\t->\u001b[32mMean value: 0.0028+0.0030j +/- 0.0017\u001b[0m\n",
      "18_05_2025_22-38_30 [INFO] \u001b[32mCurrent time: 0.8600: 86/200\u001b[0m\n",
      "18_05_2025_22-38_31 [INFO] \t\t->\u001b[32mMean value: 0.0028+0.0031j +/- 0.0012\u001b[0m\n",
      "18_05_2025_22-38_31 [INFO] \u001b[32mCurrent time: 0.8700: 87/200\u001b[0m\n",
      "18_05_2025_22-38_31 [INFO] \t\t->\u001b[32mMean value: 0.0028+0.0031j +/- 0.0014\u001b[0m\n",
      "18_05_2025_22-38_31 [INFO] \u001b[32mCurrent time: 0.8800: 88/200\u001b[0m\n",
      "18_05_2025_22-38_32 [INFO] \t\t->\u001b[32mMean value: 0.0028+0.0030j +/- 0.0013\u001b[0m\n",
      "18_05_2025_22-38_32 [INFO] \u001b[32mCurrent time: 0.8900: 89/200\u001b[0m\n",
      "18_05_2025_22-38_33 [INFO] \t\t->\u001b[32mMean value: 0.0029+0.0030j +/- 0.0016\u001b[0m\n",
      "18_05_2025_22-38_33 [INFO] \u001b[32mCurrent time: 0.9000: 90/200\u001b[0m\n",
      "18_05_2025_22-38_34 [INFO] \t\t->\u001b[32mMean value: 0.0028+0.0029j +/- 0.0016\u001b[0m\n",
      "18_05_2025_22-38_34 [INFO] \u001b[32mCurrent time: 0.9100: 91/200\u001b[0m\n",
      "18_05_2025_22-38_34 [INFO] \t\t->\u001b[32mMean value: 0.0030+0.0028j +/- 0.0016\u001b[0m\n",
      "18_05_2025_22-38_34 [INFO] \u001b[32mCurrent time: 0.9200: 92/200\u001b[0m\n",
      "18_05_2025_22-38_35 [INFO] \t\t->\u001b[32mMean value: 0.0031+0.0028j +/- 0.0014\u001b[0m\n",
      "18_05_2025_22-38_35 [INFO] \u001b[32mCurrent time: 0.9300: 93/200\u001b[0m\n",
      "18_05_2025_22-38_36 [INFO] \t\t->\u001b[32mMean value: 0.0032+0.0027j +/- 0.0017\u001b[0m\n",
      "18_05_2025_22-38_36 [INFO] \u001b[32mCurrent time: 0.9400: 94/200\u001b[0m\n",
      "18_05_2025_22-38_36 [INFO] \t\t->\u001b[32mMean value: 0.0031+0.0025j +/- 0.0018\u001b[0m\n",
      "18_05_2025_22-38_36 [INFO] \u001b[32mCurrent time: 0.9500: 95/200\u001b[0m\n",
      "18_05_2025_22-38_37 [INFO] \t\t->\u001b[32mMean value: 0.0031+0.0026j +/- 0.0018\u001b[0m\n",
      "18_05_2025_22-38_37 [INFO] \u001b[32mCurrent time: 0.9600: 96/200\u001b[0m\n",
      "18_05_2025_22-38_38 [INFO] \t\t->\u001b[32mMean value: 0.0032+0.0025j +/- 0.0020\u001b[0m\n",
      "18_05_2025_22-38_38 [INFO] \u001b[32mCurrent time: 0.9700: 97/200\u001b[0m\n",
      "18_05_2025_22-38_39 [INFO] \t\t->\u001b[32mMean value: 0.0033+0.0025j +/- 0.0021\u001b[0m\n",
      "18_05_2025_22-38_39 [INFO] \u001b[32mCurrent time: 0.9800: 98/200\u001b[0m\n",
      "18_05_2025_22-38_39 [INFO] \t\t->\u001b[32mMean value: 0.0033+0.0024j +/- 0.0017\u001b[0m\n",
      "18_05_2025_22-38_39 [INFO] \u001b[32mCurrent time: 0.9900: 99/200\u001b[0m\n",
      "18_05_2025_22-38_40 [INFO] \t\t->\u001b[32mMean value: 0.0035+0.0023j +/- 0.0014\u001b[0m\n",
      "18_05_2025_22-38_40 [INFO] \u001b[32mCurrent time: 1.0000: 100/200\u001b[0m\n",
      "18_05_2025_22-38_41 [INFO] \t\t->\u001b[32mMean value: 0.0033+0.0022j +/- 0.0019\u001b[0m\n",
      "18_05_2025_22-38_41 [INFO] \u001b[32mCurrent time: 1.0100: 101/200\u001b[0m\n",
      "18_05_2025_22-38_41 [INFO] \t\t->\u001b[32mMean value: 0.0034+0.0023j +/- 0.0019\u001b[0m\n",
      "18_05_2025_22-38_41 [INFO] \u001b[32mCurrent time: 1.0200: 102/200\u001b[0m\n",
      "18_05_2025_22-38_42 [INFO] \t\t->\u001b[32mMean value: 0.0034+0.0023j +/- 0.0017\u001b[0m\n",
      "18_05_2025_22-38_42 [INFO] \u001b[32mCurrent time: 1.0300: 103/200\u001b[0m\n",
      "18_05_2025_22-38_43 [INFO] \t\t->\u001b[32mMean value: 0.0037+0.0022j +/- 0.0016\u001b[0m\n",
      "18_05_2025_22-38_43 [INFO] \u001b[32mCurrent time: 1.0400: 104/200\u001b[0m\n",
      "18_05_2025_22-38_44 [INFO] \t\t->\u001b[32mMean value: 0.0037+0.0022j +/- 0.0019\u001b[0m\n",
      "18_05_2025_22-38_44 [INFO] \u001b[32mCurrent time: 1.0500: 105/200\u001b[0m\n",
      "18_05_2025_22-38_44 [INFO] \t\t->\u001b[32mMean value: 0.0038+0.0022j +/- 0.0017\u001b[0m\n",
      "18_05_2025_22-38_44 [INFO] \u001b[32mCurrent time: 1.0600: 106/200\u001b[0m\n",
      "18_05_2025_22-38_45 [INFO] \t\t->\u001b[32mMean value: 0.0038+0.0019j +/- 0.0017\u001b[0m\n",
      "18_05_2025_22-38_45 [INFO] \u001b[32mCurrent time: 1.0700: 107/200\u001b[0m\n",
      "18_05_2025_22-38_46 [INFO] \t\t->\u001b[32mMean value: 0.0039+0.0019j +/- 0.0021\u001b[0m\n",
      "18_05_2025_22-38_46 [INFO] \u001b[32mCurrent time: 1.0800: 108/200\u001b[0m\n",
      "18_05_2025_22-38_46 [INFO] \t\t->\u001b[32mMean value: 0.0040+0.0019j +/- 0.0018\u001b[0m\n",
      "18_05_2025_22-38_46 [INFO] \u001b[32mCurrent time: 1.0900: 109/200\u001b[0m\n",
      "18_05_2025_22-38_47 [INFO] \t\t->\u001b[32mMean value: 0.0041+0.0018j +/- 0.0022\u001b[0m\n",
      "18_05_2025_22-38_47 [INFO] \u001b[32mCurrent time: 1.1000: 110/200\u001b[0m\n",
      "18_05_2025_22-38_48 [INFO] \t\t->\u001b[32mMean value: 0.0042+0.0018j +/- 0.0021\u001b[0m\n",
      "18_05_2025_22-38_48 [INFO] \u001b[32mCurrent time: 1.1100: 111/200\u001b[0m\n",
      "18_05_2025_22-38_49 [INFO] \t\t->\u001b[32mMean value: 0.0236+0.0215j +/- 0.8733\u001b[0m\n",
      "18_05_2025_22-38_49 [INFO] \u001b[32mCurrent time: 1.1200: 112/200\u001b[0m\n",
      "18_05_2025_22-38_49 [INFO] \t\t->\u001b[32mMean value: 0.0033+0.0028j +/- 0.0017\u001b[0m\n",
      "18_05_2025_22-38_49 [INFO] \u001b[32mCurrent time: 1.1300: 113/200\u001b[0m\n",
      "18_05_2025_22-38_50 [INFO] \t\t->\u001b[32mMean value: 0.0033+0.0027j +/- 0.0017\u001b[0m\n",
      "18_05_2025_22-38_50 [INFO] \u001b[32mCurrent time: 1.1400: 114/200\u001b[0m\n",
      "18_05_2025_22-38_51 [INFO] \t\t->\u001b[32mMean value: 0.0033+0.0028j +/- 0.0017\u001b[0m\n",
      "18_05_2025_22-38_51 [INFO] \u001b[32mCurrent time: 1.1500: 115/200\u001b[0m\n",
      "18_05_2025_22-38_52 [INFO] \t\t->\u001b[32mMean value: 0.0035+0.0028j +/- 0.0016\u001b[0m\n",
      "18_05_2025_22-38_52 [INFO] \u001b[32mCurrent time: 1.1600: 116/200\u001b[0m\n",
      "18_05_2025_22-38_52 [INFO] \t\t->\u001b[32mMean value: 0.0035+0.0029j +/- 0.0018\u001b[0m\n",
      "18_05_2025_22-38_52 [INFO] \u001b[32mCurrent time: 1.1700: 117/200\u001b[0m\n",
      "18_05_2025_22-38_53 [INFO] \t\t->\u001b[32mMean value: 0.0033+0.0027j +/- 0.0019\u001b[0m\n",
      "18_05_2025_22-38_53 [INFO] \u001b[32mCurrent time: 1.1800: 118/200\u001b[0m\n",
      "18_05_2025_22-38_54 [INFO] \t\t->\u001b[32mMean value: 0.0035+0.0030j +/- 0.0025\u001b[0m\n",
      "18_05_2025_22-38_54 [INFO] \u001b[32mCurrent time: 1.1900: 119/200\u001b[0m\n",
      "18_05_2025_22-38_55 [INFO] \t\t->\u001b[32mMean value: 0.0039+0.0029j +/- 0.0018\u001b[0m\n",
      "18_05_2025_22-38_55 [INFO] \u001b[32mCurrent time: 1.2000: 120/200\u001b[0m\n",
      "18_05_2025_22-38_55 [INFO] \t\t->\u001b[32mMean value: 0.0038+0.0029j +/- 0.0023\u001b[0m\n",
      "18_05_2025_22-38_55 [INFO] \u001b[32mCurrent time: 1.2100: 121/200\u001b[0m\n",
      "18_05_2025_22-38_56 [INFO] \t\t->\u001b[32mMean value: 0.0039+0.0029j +/- 0.0022\u001b[0m\n",
      "18_05_2025_22-38_56 [INFO] \u001b[32mCurrent time: 1.2200: 122/200\u001b[0m\n",
      "18_05_2025_22-38_57 [INFO] \t\t->\u001b[32mMean value: -0.0388+0.0308j +/- 1.6123\u001b[0m\n",
      "18_05_2025_22-38_57 [INFO] \u001b[32mCurrent time: 1.2300: 123/200\u001b[0m\n",
      "18_05_2025_22-38_58 [INFO] \t\t->\u001b[32mMean value: 0.0029+0.0021j +/- 0.0017\u001b[0m\n",
      "18_05_2025_22-38_58 [INFO] \u001b[32mCurrent time: 1.2400: 124/200\u001b[0m\n",
      "18_05_2025_22-38_58 [INFO] \t\t->\u001b[32mMean value: 0.0032+0.0021j +/- 0.0018\u001b[0m\n",
      "18_05_2025_22-38_58 [INFO] \u001b[32mCurrent time: 1.2500: 125/200\u001b[0m\n",
      "18_05_2025_22-38_59 [INFO] \t\t->\u001b[32mMean value: 0.0034+0.0021j +/- 0.0015\u001b[0m\n",
      "18_05_2025_22-38_59 [INFO] \u001b[32mCurrent time: 1.2600: 126/200\u001b[0m\n",
      "18_05_2025_22-39_00 [INFO] \t\t->\u001b[32mMean value: -0.0538+0.0337j +/- 2.0638\u001b[0m\n",
      "18_05_2025_22-39_00 [INFO] \u001b[32mCurrent time: 1.2700: 127/200\u001b[0m\n",
      "18_05_2025_22-39_01 [INFO] \t\t->\u001b[32mMean value: 0.0027+0.0010j +/- 0.0015\u001b[0m\n",
      "18_05_2025_22-39_01 [INFO] \u001b[32mCurrent time: 1.2800: 128/200\u001b[0m\n",
      "18_05_2025_22-39_02 [INFO] \t\t->\u001b[32mMean value: 0.0027+0.0011j +/- 0.0019\u001b[0m\n",
      "18_05_2025_22-39_02 [INFO] \u001b[32mCurrent time: 1.2900: 129/200\u001b[0m\n",
      "18_05_2025_22-39_02 [INFO] \t\t->\u001b[32mMean value: 0.0028+0.0010j +/- 0.0015\u001b[0m\n",
      "18_05_2025_22-39_02 [INFO] \u001b[32mCurrent time: 1.3000: 130/200\u001b[0m\n",
      "18_05_2025_22-39_03 [INFO] \t\t->\u001b[32mMean value: 0.0029+0.0010j +/- 0.0016\u001b[0m\n",
      "18_05_2025_22-39_03 [INFO] \u001b[32mCurrent time: 1.3100: 131/200\u001b[0m\n",
      "18_05_2025_22-39_04 [INFO] \t\t->\u001b[32mMean value: 0.0030+0.0010j +/- 0.0014\u001b[0m\n",
      "18_05_2025_22-39_04 [INFO] \u001b[32mCurrent time: 1.3200: 132/200\u001b[0m\n",
      "18_05_2025_22-39_05 [INFO] \t\t->\u001b[32mMean value: 0.0030+0.0011j +/- 0.0015\u001b[0m\n",
      "18_05_2025_22-39_05 [INFO] \u001b[32mCurrent time: 1.3300: 133/200\u001b[0m\n",
      "18_05_2025_22-39_05 [INFO] \t\t->\u001b[32mMean value: 0.0031+0.0012j +/- 0.0015\u001b[0m\n",
      "18_05_2025_22-39_05 [INFO] \u001b[32mCurrent time: 1.3400: 134/200\u001b[0m\n",
      "18_05_2025_22-39_06 [INFO] \t\t->\u001b[32mMean value: 0.0032+0.0012j +/- 0.0017\u001b[0m\n",
      "18_05_2025_22-39_06 [INFO] \u001b[32mCurrent time: 1.3500: 135/200\u001b[0m\n",
      "18_05_2025_22-39_07 [INFO] \t\t->\u001b[32mMean value: 0.0034+0.0012j +/- 0.0015\u001b[0m\n",
      "18_05_2025_22-39_07 [INFO] \u001b[32mCurrent time: 1.3600: 136/200\u001b[0m\n",
      "18_05_2025_22-39_08 [INFO] \t\t->\u001b[32mMean value: 0.0034+0.0012j +/- 0.0015\u001b[0m\n",
      "18_05_2025_22-39_08 [INFO] \u001b[32mCurrent time: 1.3700: 137/200\u001b[0m\n",
      "18_05_2025_22-39_08 [INFO] \t\t->\u001b[32mMean value: 0.0034+0.0012j +/- 0.0016\u001b[0m\n",
      "18_05_2025_22-39_08 [INFO] \u001b[32mCurrent time: 1.3800: 138/200\u001b[0m\n",
      "18_05_2025_22-39_09 [INFO] \t\t->\u001b[32mMean value: -0.0621+0.0181j +/- 2.1375\u001b[0m\n",
      "18_05_2025_22-39_09 [INFO] \u001b[32mCurrent time: 1.3900: 139/200\u001b[0m\n",
      "18_05_2025_22-39_10 [INFO] \t\t->\u001b[32mMean value: 0.0028+0.0001j +/- 0.0012\u001b[0m\n",
      "18_05_2025_22-39_10 [INFO] \u001b[32mCurrent time: 1.4000: 140/200\u001b[0m\n",
      "18_05_2025_22-39_11 [INFO] \t\t->\u001b[32mMean value: 0.0028+0.0000j +/- 0.0014\u001b[0m\n",
      "18_05_2025_22-39_11 [INFO] \u001b[32mCurrent time: 1.4100: 141/200\u001b[0m\n",
      "18_05_2025_22-39_11 [INFO] \t\t->\u001b[32mMean value: 0.0029+0.0003j +/- 0.0016\u001b[0m\n",
      "18_05_2025_22-39_11 [INFO] \u001b[32mCurrent time: 1.4200: 142/200\u001b[0m\n",
      "18_05_2025_22-39_12 [INFO] \t\t->\u001b[32mMean value: 0.0030+0.0002j +/- 0.0013\u001b[0m\n",
      "18_05_2025_22-39_12 [INFO] \u001b[32mCurrent time: 1.4300: 143/200\u001b[0m\n",
      "18_05_2025_22-39_13 [INFO] \t\t->\u001b[32mMean value: 0.0030+0.0003j +/- 0.0013\u001b[0m\n",
      "18_05_2025_22-39_13 [INFO] \u001b[32mCurrent time: 1.4400: 144/200\u001b[0m\n",
      "18_05_2025_22-39_14 [INFO] \t\t->\u001b[32mMean value: 0.0029+0.0003j +/- 0.0014\u001b[0m\n",
      "18_05_2025_22-39_14 [INFO] \u001b[32mCurrent time: 1.4500: 145/200\u001b[0m\n",
      "18_05_2025_22-39_14 [INFO] \t\t->\u001b[32mMean value: 0.0030+0.0003j +/- 0.0015\u001b[0m\n",
      "18_05_2025_22-39_14 [INFO] \u001b[32mCurrent time: 1.4600: 146/200\u001b[0m\n",
      "18_05_2025_22-39_15 [INFO] \t\t->\u001b[32mMean value: 0.0030+0.0002j +/- 0.0013\u001b[0m\n",
      "18_05_2025_22-39_15 [INFO] \u001b[32mCurrent time: 1.4700: 147/200\u001b[0m\n",
      "18_05_2025_22-39_16 [INFO] \t\t->\u001b[32mMean value: -0.0773-0.0009j +/- 2.5325\u001b[0m\n",
      "18_05_2025_22-39_16 [INFO] \u001b[32mCurrent time: 1.4800: 148/200\u001b[0m\n",
      "18_05_2025_22-39_17 [INFO] \t\t->\u001b[32mMean value: 0.0028-0.0011j +/- 0.0016\u001b[0m\n",
      "18_05_2025_22-39_17 [INFO] \u001b[32mCurrent time: 1.4900: 149/200\u001b[0m\n",
      "18_05_2025_22-39_17 [INFO] \t\t->\u001b[32mMean value: 0.0030-0.0011j +/- 0.0015\u001b[0m\n",
      "18_05_2025_22-39_17 [INFO] \u001b[32mCurrent time: 1.5000: 150/200\u001b[0m\n",
      "18_05_2025_22-39_18 [INFO] \t\t->\u001b[32mMean value: 0.0030-0.0011j +/- 0.0016\u001b[0m\n",
      "18_05_2025_22-39_18 [INFO] \u001b[32mCurrent time: 1.5100: 151/200\u001b[0m\n",
      "18_05_2025_22-39_19 [INFO] \t\t->\u001b[32mMean value: 0.0028-0.0010j +/- 0.0016\u001b[0m\n",
      "18_05_2025_22-39_19 [INFO] \u001b[32mCurrent time: 1.5200: 152/200\u001b[0m\n",
      "18_05_2025_22-39_20 [INFO] \t\t->\u001b[32mMean value: 0.0032-0.0010j +/- 0.0015\u001b[0m\n",
      "18_05_2025_22-39_20 [INFO] \u001b[32mCurrent time: 1.5300: 153/200\u001b[0m\n",
      "18_05_2025_22-39_20 [INFO] \t\t->\u001b[32mMean value: 0.0031-0.0011j +/- 0.0018\u001b[0m\n",
      "18_05_2025_22-39_20 [INFO] \u001b[32mCurrent time: 1.5400: 154/200\u001b[0m\n",
      "18_05_2025_22-39_21 [INFO] \t\t->\u001b[32mMean value: 0.0031-0.0011j +/- 0.0015\u001b[0m\n",
      "18_05_2025_22-39_21 [INFO] \u001b[32mCurrent time: 1.5500: 155/200\u001b[0m\n",
      "18_05_2025_22-39_22 [INFO] \t\t->\u001b[32mMean value: 0.0029-0.0012j +/- 0.0013\u001b[0m\n",
      "18_05_2025_22-39_22 [INFO] \u001b[32mCurrent time: 1.5600: 156/200\u001b[0m\n",
      "18_05_2025_22-39_23 [INFO] \t\t->\u001b[32mMean value: 0.0029-0.0009j +/- 0.0013\u001b[0m\n",
      "18_05_2025_22-39_23 [INFO] \u001b[32mCurrent time: 1.5700: 157/200\u001b[0m\n",
      "18_05_2025_22-39_23 [INFO] \t\t->\u001b[32mMean value: 0.0029-0.0009j +/- 0.0016\u001b[0m\n",
      "18_05_2025_22-39_23 [INFO] \u001b[32mCurrent time: 1.5800: 158/200\u001b[0m\n",
      "18_05_2025_22-39_24 [INFO] \t\t->\u001b[32mMean value: 0.0029-0.0008j +/- 0.0015\u001b[0m\n",
      "18_05_2025_22-39_24 [INFO] \u001b[32mCurrent time: 1.5900: 159/200\u001b[0m\n",
      "18_05_2025_22-39_25 [INFO] \t\t->\u001b[32mMean value: 0.0030-0.0008j +/- 0.0015\u001b[0m\n",
      "18_05_2025_22-39_25 [INFO] \u001b[32mCurrent time: 1.6000: 160/200\u001b[0m\n",
      "18_05_2025_22-39_26 [INFO] \t\t->\u001b[32mMean value: 0.0031-0.0008j +/- 0.0014\u001b[0m\n",
      "18_05_2025_22-39_26 [INFO] \u001b[32mCurrent time: 1.6100: 161/200\u001b[0m\n",
      "18_05_2025_22-39_26 [INFO] \t\t->\u001b[32mMean value: 0.0031-0.0008j +/- 0.0014\u001b[0m\n",
      "18_05_2025_22-39_26 [INFO] \u001b[32mCurrent time: 1.6200: 162/200\u001b[0m\n",
      "18_05_2025_22-39_27 [INFO] \t\t->\u001b[32mMean value: 0.0026-0.0006j +/- 0.0014\u001b[0m\n",
      "18_05_2025_22-39_27 [INFO] \u001b[32mCurrent time: 1.6300: 163/200\u001b[0m\n",
      "18_05_2025_22-39_28 [INFO] \t\t->\u001b[32mMean value: -0.1497-0.0613j +/- 3.6573\u001b[0m\n",
      "18_05_2025_22-39_28 [INFO] \u001b[32mCurrent time: 1.6400: 164/200\u001b[0m\n",
      "18_05_2025_22-39_29 [INFO] \t\t->\u001b[32mMean value: 0.0030-0.0028j +/- 0.0016\u001b[0m\n",
      "18_05_2025_22-39_29 [INFO] \u001b[32mCurrent time: 1.6500: 165/200\u001b[0m\n",
      "18_05_2025_22-39_29 [INFO] \t\t->\u001b[32mMean value: 0.0029-0.0028j +/- 0.0019\u001b[0m\n",
      "18_05_2025_22-39_29 [INFO] \u001b[32mCurrent time: 1.6600: 166/200\u001b[0m\n",
      "18_05_2025_22-39_30 [INFO] \t\t->\u001b[32mMean value: 0.0029-0.0028j +/- 0.0018\u001b[0m\n",
      "18_05_2025_22-39_30 [INFO] \u001b[32mCurrent time: 1.6700: 167/200\u001b[0m\n",
      "18_05_2025_22-39_31 [INFO] \t\t->\u001b[32mMean value: 0.0033-0.0026j +/- 0.0021\u001b[0m\n",
      "18_05_2025_22-39_31 [INFO] \u001b[32mCurrent time: 1.6800: 168/200\u001b[0m\n",
      "18_05_2025_22-39_31 [INFO] \t\t->\u001b[32mMean value: 0.0034-0.0027j +/- 0.0018\u001b[0m\n",
      "18_05_2025_22-39_31 [INFO] \u001b[32mCurrent time: 1.6900: 169/200\u001b[0m\n",
      "18_05_2025_22-39_32 [INFO] \t\t->\u001b[32mMean value: 0.0029-0.0022j +/- 0.0014\u001b[0m\n",
      "18_05_2025_22-39_32 [INFO] \u001b[32mCurrent time: 1.7000: 170/200\u001b[0m\n",
      "18_05_2025_22-39_33 [INFO] \t\t->\u001b[32mMean value: 0.0030-0.0024j +/- 0.0015\u001b[0m\n",
      "18_05_2025_22-39_33 [INFO] \u001b[32mCurrent time: 1.7100: 171/200\u001b[0m\n",
      "18_05_2025_22-39_34 [INFO] \t\t->\u001b[32mMean value: 0.0031-0.0025j +/- 0.0016\u001b[0m\n",
      "18_05_2025_22-39_34 [INFO] \u001b[32mCurrent time: 1.7200: 172/200\u001b[0m\n",
      "18_05_2025_22-39_34 [INFO] \t\t->\u001b[32mMean value: 0.0030-0.0024j +/- 0.0016\u001b[0m\n",
      "18_05_2025_22-39_34 [INFO] \u001b[32mCurrent time: 1.7300: 173/200\u001b[0m\n",
      "18_05_2025_22-39_35 [INFO] \t\t->\u001b[32mMean value: 0.0030-0.0025j +/- 0.0015\u001b[0m\n",
      "18_05_2025_22-39_35 [INFO] \u001b[32mCurrent time: 1.7400: 174/200\u001b[0m\n",
      "18_05_2025_22-39_36 [INFO] \t\t->\u001b[32mMean value: 0.0029-0.0024j +/- 0.0018\u001b[0m\n",
      "18_05_2025_22-39_36 [INFO] \u001b[32mCurrent time: 1.7500: 175/200\u001b[0m\n",
      "18_05_2025_22-39_37 [INFO] \t\t->\u001b[32mMean value: 0.0027-0.0025j +/- 0.0015\u001b[0m\n",
      "18_05_2025_22-39_37 [INFO] \u001b[32mCurrent time: 1.7600: 176/200\u001b[0m\n",
      "18_05_2025_22-39_37 [INFO] \t\t->\u001b[32mMean value: 0.0029-0.0022j +/- 0.0014\u001b[0m\n",
      "18_05_2025_22-39_37 [INFO] \u001b[32mCurrent time: 1.7700: 177/200\u001b[0m\n",
      "18_05_2025_22-39_38 [INFO] \t\t->\u001b[32mMean value: 0.0031-0.0022j +/- 0.0017\u001b[0m\n",
      "18_05_2025_22-39_38 [INFO] \u001b[32mCurrent time: 1.7800: 178/200\u001b[0m\n",
      "18_05_2025_22-39_39 [INFO] \t\t->\u001b[32mMean value: 0.0030-0.0024j +/- 0.0014\u001b[0m\n",
      "18_05_2025_22-39_39 [INFO] \u001b[32mCurrent time: 1.7900: 179/200\u001b[0m\n",
      "18_05_2025_22-39_40 [INFO] \t\t->\u001b[32mMean value: 0.0029-0.0021j +/- 0.0014\u001b[0m\n",
      "18_05_2025_22-39_40 [INFO] \u001b[32mCurrent time: 1.8000: 180/200\u001b[0m\n",
      "18_05_2025_22-39_40 [INFO] \t\t->\u001b[32mMean value: 0.0029-0.0020j +/- 0.0016\u001b[0m\n",
      "18_05_2025_22-39_40 [INFO] \u001b[32mCurrent time: 1.8100: 181/200\u001b[0m\n",
      "18_05_2025_22-39_41 [INFO] \t\t->\u001b[32mMean value: 0.0029-0.0021j +/- 0.0016\u001b[0m\n",
      "18_05_2025_22-39_41 [INFO] \u001b[32mCurrent time: 1.8200: 182/200\u001b[0m\n",
      "18_05_2025_22-39_42 [INFO] \t\t->\u001b[32mMean value: 0.0030-0.0023j +/- 0.0015\u001b[0m\n",
      "18_05_2025_22-39_42 [INFO] \u001b[32mCurrent time: 1.8300: 183/200\u001b[0m\n",
      "18_05_2025_22-39_43 [INFO] \t\t->\u001b[32mMean value: 0.0030-0.0022j +/- 0.0015\u001b[0m\n",
      "18_05_2025_22-39_43 [INFO] \u001b[32mCurrent time: 1.8400: 184/200\u001b[0m\n",
      "18_05_2025_22-39_43 [INFO] \t\t->\u001b[32mMean value: 0.0030-0.0024j +/- 0.0013\u001b[0m\n",
      "18_05_2025_22-39_43 [INFO] \u001b[32mCurrent time: 1.8500: 185/200\u001b[0m\n",
      "18_05_2025_22-39_44 [INFO] \t\t->\u001b[32mMean value: -0.0453-0.0106j +/- 1.5494\u001b[0m\n",
      "18_05_2025_22-39_44 [INFO] \u001b[32mCurrent time: 1.8600: 186/200\u001b[0m\n",
      "18_05_2025_22-39_45 [INFO] \t\t->\u001b[32mMean value: 0.0031-0.0028j +/- 0.0019\u001b[0m\n",
      "18_05_2025_22-39_45 [INFO] \u001b[32mCurrent time: 1.8700: 187/200\u001b[0m\n",
      "18_05_2025_22-39_45 [INFO] \t\t->\u001b[32mMean value: 0.0031-0.0027j +/- 0.0017\u001b[0m\n",
      "18_05_2025_22-39_45 [INFO] \u001b[32mCurrent time: 1.8800: 188/200\u001b[0m\n",
      "18_05_2025_22-39_46 [INFO] \t\t->\u001b[32mMean value: 0.0030-0.0028j +/- 0.0019\u001b[0m\n",
      "18_05_2025_22-39_46 [INFO] \u001b[32mCurrent time: 1.8900: 189/200\u001b[0m\n",
      "18_05_2025_22-39_47 [INFO] \t\t->\u001b[32mMean value: 0.0031-0.0031j +/- 0.0011\u001b[0m\n",
      "18_05_2025_22-39_47 [INFO] \u001b[32mCurrent time: 1.9000: 190/200\u001b[0m\n",
      "18_05_2025_22-39_48 [INFO] \t\t->\u001b[32mMean value: 0.0030-0.0025j +/- 0.0016\u001b[0m\n",
      "18_05_2025_22-39_48 [INFO] \u001b[32mCurrent time: 1.9100: 191/200\u001b[0m\n",
      "18_05_2025_22-39_48 [INFO] \t\t->\u001b[32mMean value: 0.0030-0.0027j +/- 0.0016\u001b[0m\n",
      "18_05_2025_22-39_48 [INFO] \u001b[32mCurrent time: 1.9200: 192/200\u001b[0m\n",
      "18_05_2025_22-39_49 [INFO] \t\t->\u001b[32mMean value: 0.0031-0.0029j +/- 0.0015\u001b[0m\n",
      "18_05_2025_22-39_49 [INFO] \u001b[32mCurrent time: 1.9300: 193/200\u001b[0m\n",
      "18_05_2025_22-39_50 [INFO] \t\t->\u001b[32mMean value: 0.0032-0.0027j +/- 0.0017\u001b[0m\n",
      "18_05_2025_22-39_50 [INFO] \u001b[32mCurrent time: 1.9400: 194/200\u001b[0m\n",
      "18_05_2025_22-39_51 [INFO] \t\t->\u001b[32mMean value: 0.0033-0.0027j +/- 0.0022\u001b[0m\n",
      "18_05_2025_22-39_51 [INFO] \u001b[32mCurrent time: 1.9500: 195/200\u001b[0m\n",
      "18_05_2025_22-39_51 [INFO] \t\t->\u001b[32mMean value: 0.0035-0.0028j +/- 0.0018\u001b[0m\n",
      "18_05_2025_22-39_51 [INFO] \u001b[32mCurrent time: 1.9600: 196/200\u001b[0m\n",
      "18_05_2025_22-39_52 [INFO] \t\t->\u001b[32mMean value: 0.0031-0.0030j +/- 0.0020\u001b[0m\n",
      "18_05_2025_22-39_52 [INFO] \u001b[32mCurrent time: 1.9700: 197/200\u001b[0m\n",
      "18_05_2025_22-39_53 [INFO] \t\t->\u001b[32mMean value: 0.0037-0.0026j +/- 0.0020\u001b[0m\n",
      "18_05_2025_22-39_53 [INFO] \u001b[32mCurrent time: 1.9800: 198/200\u001b[0m\n",
      "18_05_2025_22-39_54 [INFO] \t\t->\u001b[32mMean value: 0.0033-0.0027j +/- 0.0018\u001b[0m\n",
      "18_05_2025_22-39_54 [INFO] \u001b[32mCurrent time: 1.9900: 199/200\u001b[0m\n",
      "18_05_2025_22-39_54 [INFO] \t\t->\u001b[32mMean value: -0.0291-0.0390j +/- 1.5450\u001b[0m\n"
     ]
    }
   ],
   "source": [
    "# evolve\n",
    "from contextlib import contextmanager\n",
    "\n",
    "_nqs            = nqs\n",
    "dt              = 0.01\n",
    "ode_solver_t    = choose_ode(ode_type = ode_solver_type, backend = backend_np, dt = dt, rhs_prefactor = 1.0j)\n",
    "t_start         = 0.0\n",
    "t_num           = 200\n",
    "t_end           = t_start + dt * t_num\n",
    "current_time    = t_start\n",
    "timings         = {\n",
    "    'sample'   : [],\n",
    "    'step'     : [],\n",
    "    'update'   : [],\n",
    "    'evaluate' : [],\n",
    "}\n",
    "#! check operator evolution\n",
    "op              = sig_x\n",
    "mean_values     = []\n",
    "std_values      = []\n",
    "\n",
    "@contextmanager\n",
    "def _time(phase, funct, *args, **kwargs):\n",
    "    result, elapsed = timeit(funct, *args, **kwargs)\n",
    "    timings[phase].append(elapsed)\n",
    "    yield result\n",
    "\n",
    "_single_step = _nqs.wrap_single_step_jax()\n",
    "\n",
    "iterate = 0\n",
    "while current_time < t_end:\n",
    "\n",
    "    logger.info(f\"Current time: {current_time:.4f}: {iterate}/{t_num}\", color='green')\n",
    "\n",
    "    #! sampling\n",
    "    with _time(\"sample\", _nqs.sample, reset=False) as sample_out:\n",
    "        (_, _), (cfgs, cfgs_psi), probs = sample_out\n",
    "\n",
    "    #! energy + gradient\n",
    "    params = _nqs.get_params(unravel=True)\n",
    "    with _time(\"step\", ode_solver_t.step,\n",
    "                f               = tdvp,\n",
    "                y               = params,\n",
    "                t               = current_time,\n",
    "                est_fn          = _single_step,\n",
    "                configs         = cfgs,\n",
    "                configs_ansatze = cfgs_psi,\n",
    "                probabilities   = probs) as step_out:\n",
    "        dparams, _, (info, meta) = step_out\n",
    "\n",
    "    #! update\n",
    "    with _time(\"update\", _nqs.set_params, dparams,\n",
    "                shapes  = meta[0],\n",
    "                sizes   = meta[1],\n",
    "                iscpx   = meta[2]) as update_out:\n",
    "        pass\n",
    "    \n",
    "    #! evaluate observables\n",
    "    params = _nqs.get_params(unravel=False)\n",
    "    with _time(\"evaluate\", funct = _nqs.evaluate_fun_jax, \n",
    "                func           = op.jax,\n",
    "                states         = cfgs,\n",
    "                probabilities  = probs,\n",
    "                logproba_in    = cfgs_psi,\n",
    "                logproba_fun   = _nqs.ansatz,\n",
    "                parameters     = params,\n",
    "                batch_size     = 50,\n",
    "                ) as evaluate_out:\n",
    "        (vals, mean_op, sig_op) = evaluate_out\n",
    "        mean_values.append(mean_op)\n",
    "        std_values.append(sig_op)\n",
    "        logger.info(f\"Mean value: {mean_op:.4f} +/- {sig_op:.4f}\", color='green', lvl = 2)\n",
    "\n",
    "    #! update time\n",
    "    current_time += ode_solver_t.dt(0, 0)\n",
    "    iterate      += 1\n",
    "    "
   ]
  },
  {
   "cell_type": "code",
   "execution_count": 26,
   "id": "7208234a",
   "metadata": {},
   "outputs": [
    {
     "data": {
      "image/png": "[encoded data removed]",
      "text/plain": [
       "<Figure size 400x300 with 1 Axes>"
      ]
     },
     "metadata": {},
     "output_type": "display_data"
    }
   ],
   "source": [
    "fig, ax = Plotter.get_subplots(\n",
    "    nrows       = 1,\n",
    "    ncols       = 1,\n",
    "    figsize     = (4, 3),\n",
    "    dpi         = 100,\n",
    ")\n",
    "Plotter.plot(\n",
    "    ax      = ax[0],\n",
    "    x       = np.arange(0, len(mean_values)),\n",
    "    y       = np.array(mean_values),\n",
    ")"
   ]
  },
  {
   "cell_type": "code",
   "execution_count": 48,
   "id": "5b52bf71",
   "metadata": {},
   "outputs": [
    {
     "name": "stdout",
     "output_type": "stream",
     "text": [
      "18_05_2025_22-27_52 [INFO] \u001b[31mOperator(Sz/0, type_acting=Global, eigval=1.0, type=Other): ⟨O⟩ = (0.5000+0.0000j) ± (0.0000)  (N=1000)\u001b[0m\n",
      "18_05_2025_22-27_52 [INFO] \t\t->ref = 0.4883 - rel.err = 2.40 %\n",
      "18_05_2025_22-27_52 [INFO] \u001b[0mEnergy: E = (-2.7742e+01+7.0675e-03j) ± (0.5534) (N=1000)\u001b[0m\n",
      "None\n",
      "18_05_2025_22-27_52 [INFO] \u001b[32msample: 9.28e-02 s\u001b[0m\n",
      "18_05_2025_22-27_52 [INFO] \u001b[32mobs_0: 1.75e-03 s\u001b[0m\n",
      "18_05_2025_22-27_52 [INFO] \u001b[32menergy: 1.23e-01 s\u001b[0m\n"
     ]
    },
    {
     "data": {
      "image/png": "[encoded data removed]",
      "text/plain": [
       "<Figure size 480x360 with 2 Axes>"
      ]
     },
     "metadata": {},
     "output_type": "display_data"
    }
   ],
   "source": [
    "results, energy, timings = nqs.eval_observables(\n",
    "    operators      = [sig_z],\n",
    "    true_values    = [ed_sig_z_exp],\n",
    "    n_chains       = n_chains,\n",
    "    n_samples      = n_samples,\n",
    "    batch_size     = 100,\n",
    "    logger         = logger,\n",
    "    plot           = True,\n",
    "    get_energy     = True,\n",
    "    bins           = 200,\n",
    "    true_en        = energy_0,\n",
    "    plot_kwargs    = {\n",
    "    }\n",
    ")"
   ]
  },
  {
   "cell_type": "code",
   "execution_count": null,
   "id": "73f4ba67",
   "metadata": {},
   "outputs": [],
   "source": []
  }
 ],
 "metadata": {
  "kernelspec": {
   "display_name": "base",
   "language": "python",
   "name": "python3"
  },
  "language_info": {
   "codemirror_mode": {
    "name": "ipython",
    "version": 3
   },
   "file_extension": ".py",
   "mimetype": "text/x-python",
   "name": "python",
   "nbconvert_exporter": "python",
   "pygments_lexer": "ipython3",
   "version": "3.12.2"
  }
 },
 "nbformat": 4,
 "nbformat_minor": 5
}
