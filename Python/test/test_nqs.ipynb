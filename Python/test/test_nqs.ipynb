{
 "cells": [
  {
   "cell_type": "code",
   "execution_count": 1,
   "id": "31be730c",
   "metadata": {},
   "outputs": [
    {
     "name": "stdout",
     "output_type": "stream",
     "text": [
      "19_05_2025_00-04_27 [INFO] Log file created: ./log/QES_19_05_2025_00-04_27.log\n",
      "19_05_2025_00-04_27 [INFO] Log level set to: info\n",
      "19_05_2025_00-04_27 [INFO] ############Global logger initialized.############\n",
      "19_05_2025_00-04_27 [INFO] JAX backend available and successfully imported\n",
      "19_05_2025_00-04_27 [INFO] \tJAX 64-bit precision enabled.\n",
      "19_05_2025_00-04_28 [INFO] Setting JAX as the active backend.\n",
      "19_05_2025_00-04_28 [INFO] **************************************************\n",
      "19_05_2025_00-04_28 [INFO] Backend Configuration:\n",
      "19_05_2025_00-04_28 [INFO] \t\tNumPy Version: 2.1.3\n",
      "19_05_2025_00-04_28 [INFO] \t\tSciPy Version: 1.15.2\n",
      "19_05_2025_00-04_28 [INFO] \t\tJAX Version: 0.5.3\n",
      "19_05_2025_00-04_28 [INFO] \t\tActive Backend: jax\n",
      "19_05_2025_00-04_28 [INFO] \t\t\tJAX Available: True\n",
      "19_05_2025_00-04_28 [INFO] \t\t\tDefault Seed: 42\n",
      "19_05_2025_00-04_28 [INFO] \t\tJAX Backend Details:\n",
      "19_05_2025_00-04_28 [INFO] \t\t\t\tMain Module: jax.numpy\n",
      "19_05_2025_00-04_28 [INFO] \t\t\t\tRandom Module: jax.random (+ PRNGKey)\n",
      "19_05_2025_00-04_28 [INFO] \t\t\t\tSciPy Module: jax.scipy\n",
      "19_05_2025_00-04_28 [INFO] \t\t\t\tDefault JAX Key: PRNGKey(42)\n",
      "19_05_2025_00-04_28 [INFO] \t\tActive Data Types:\n",
      "19_05_2025_00-04_28 [INFO] \t\t\t\tInteger Type: int64\n",
      "19_05_2025_00-04_28 [INFO] \t\t\t\tFloat Type: float64\n",
      "19_05_2025_00-04_28 [INFO] \t\t\t\tComplex Type: complex128\n",
      "19_05_2025_00-04_28 [INFO] \t\tHardware & Device Detection:\n",
      "19_05_2025_00-04_28 [INFO] \t\t\tCPU Cores: 8\n",
      "19_05_2025_00-04_28 [INFO] \t\t\tDetected JAX Platform: DETECTION FAILED\n",
      "19_05_2025_00-04_28 [INFO] \t\tJAX Devices Found: Detection Failed or Not Run\n",
      "19_05_2025_00-04_28 [INFO] **************************************************\n",
      "\n",
      "\n",
      "\n"
     ]
    }
   ],
   "source": [
    "import sys\n",
    "import os\n",
    "# os.environ['JAX_PLATFORM_NAME'] = 'cpu'\n",
    "\n",
    "import numpy as np\n",
    "import time\n",
    "\n",
    "# Add the parent directory (project root) to sys.path\n",
    "script_dir = os.path.dirname(os.curdir)\n",
    "parent_dir = os.path.abspath(os.path.join(script_dir, '..'))\n",
    "if parent_dir not in sys.path:\n",
    "    sys.path.append(parent_dir)\n",
    "\n",
    "# ------------------------------------------------------------------\n",
    "#! General\n",
    "import QES.general_python.common.binary as Binary\n",
    "from QES.general_python.common.timer import Timer, timeit\n",
    "from QES.general_python.common.binary import JAX_AVAILABLE, get_backend, get_global_logger\n",
    "from QES.general_python.common.plot import Plotter, MatrixPrinter\n",
    "\n",
    "# ------------------------------------------------------------------\n",
    "#! Lattice\n",
    "from QES.general_python.lattices import choose_lattice, plot_bonds\n",
    "\n",
    "# ------------------------------------------------------------------\n",
    "#! Sampler\n",
    "import QES.Solver.MonteCarlo.sampler as Sampler\n",
    "import QES.NQS.nqs as NQS\n",
    "import QES.NQS.nqs_train as NQST\n",
    "import QES.NQS.tdvp as TDVP\n",
    "from QES.general_python.ml.schedulers import EarlyStopping, ConstantScheduler, ExponentialDecayScheduler\n",
    "\n",
    "# ------------------------------------------------------------------\n",
    "#! ODE solver\n",
    "from QES.general_python.algebra.ode import choose_ode\n",
    "\n",
    "# ------------------------------------------------------------------\n",
    "#! Networks\n",
    "from QES.general_python.ml.net_impl.networks.net_rbm import RBM\n",
    "from QES.general_python.ml.net_impl.networks.net_cnn import CNN\n",
    "from QES.general_python.ml.net_impl.activation_functions import relu_jnp, tanh_jnp, sigmoid_jnp, leaky_relu_jnp, elu_jnp, poly6_jnp, softplus_jnp\n",
    "\n",
    "# ------------------------------------------------------------------\n",
    "#! Hamiltonians\n",
    "from QES.general_python.algebra.linalg import act, overlap\n",
    "from QES.Algebra.Model.dummy import DummyHamiltonian\n",
    "from QES.Algebra.Model.Interacting.Spin.heisenberg_kitaev import HeisenbergKitaev\n",
    "from QES.Algebra.Model.Interacting.Spin.transverse_ising import TransverseFieldIsing\n",
    "\n",
    "# ------------------------------------------------------------------\n",
    "#! Linear algebra\n",
    "import QES.general_python.algebra.solvers.stochastic_rcnfg as SR\n",
    "import QES.general_python.algebra.solvers as solvers\n",
    "import QES.general_python.algebra.preconditioners as preconditioners\n",
    "\n",
    "# ------------------------------------------------------------------\n",
    "\n",
    "#! Spin operators\n",
    "import QES.Algebra.Operator.operators_spin as op_spin\n",
    "#! Fermionic operators\n",
    "import QES.Algebra.Operator.operators_spinless_fermions as op_sferm\n",
    "\n",
    "#! Backends\n",
    "if JAX_AVAILABLE:\n",
    "    import jax\n",
    "    import jax.numpy as jnp\n",
    "else:\n",
    "    jax = None\n",
    "    jnp = None\n",
    "    \n",
    "# ------------------------------------------------------------------\n",
    "# lattice_type        = 'honeycomb'\n",
    "lattice_type        = 'square'\n",
    "lx, ly, lz          = 12, 1, 1\n",
    "# lx, ly, lz          = 10, 1, 1\n",
    "# ------------------------------------------------------------------\n",
    "scheduler           = 'ExponentialDecay'\n",
    "ode_solver_type     = 'Euler'\n",
    "# ode_solver_type   = 'Heun'\n",
    "# ode_solver_type   = 'AdaptiveHeun'\n",
    "# ode_solver_type   = 'RK4'\n",
    "lr                  = 0.1 # is also dt\n",
    "# ------------------------------------------------------------------\n",
    "network_type        = 'RBM'\n",
    "# network_type        = 'CNN'\n",
    "alpha               = 2\n",
    "# ------------------------------------------------------------------\n",
    "# ham_type            = 'HeisenbergKitaev'\n",
    "ham_type            = 'TransverseFieldIsing'\n",
    "# ham_type            = 'DummyHamiltonian'\n",
    "ham_dtype           = jnp.float32\n",
    "# ------------------------------------------------------------------\n",
    "\n",
    "logger              = get_global_logger()\n",
    "backend             = 'jax'\n",
    "seed                = 0\n",
    "dtypex              = jnp.complex128\n",
    "be_modules          = get_backend(backend, random=True, seed=seed, scipy=True)\n",
    "backend_np, (rng, rng_k), backend_sp = be_modules if isinstance(be_modules, tuple) else (be_modules, (None, None), None)\n",
    "\n",
    "# ------------------------------------------------------------------\n"
   ]
  },
  {
   "cell_type": "markdown",
   "id": "a405c16b",
   "metadata": {},
   "source": [
    "### Lattice interface"
   ]
  },
  {
   "cell_type": "code",
   "execution_count": 2,
   "id": "362a1219",
   "metadata": {},
   "outputs": [
    {
     "name": "stdout",
     "output_type": "stream",
     "text": [
      "19_05_2025_00-04_28 [INFO] \t->\u001b[32mNeighbors of site 0: 1\u001b[0m\n",
      "19_05_2025_00-04_28 [INFO] \t\t->\u001b[34mNeighbor 0 of site 0: 1\u001b[0m\n",
      "19_05_2025_00-04_28 [INFO] \t->\u001b[32mNeighbors of site 1: 1\u001b[0m\n",
      "19_05_2025_00-04_28 [INFO] \t\t->\u001b[34mNeighbor 0 of site 1: 2\u001b[0m\n",
      "19_05_2025_00-04_28 [INFO] \t->\u001b[32mNeighbors of site 2: 1\u001b[0m\n",
      "19_05_2025_00-04_28 [INFO] \t\t->\u001b[34mNeighbor 0 of site 2: 3\u001b[0m\n",
      "19_05_2025_00-04_28 [INFO] \t->\u001b[32mNeighbors of site 3: 1\u001b[0m\n",
      "19_05_2025_00-04_28 [INFO] \t\t->\u001b[34mNeighbor 0 of site 3: 4\u001b[0m\n",
      "19_05_2025_00-04_28 [INFO] \t->\u001b[32mNeighbors of site 4: 1\u001b[0m\n",
      "19_05_2025_00-04_28 [INFO] \t\t->\u001b[34mNeighbor 0 of site 4: 5\u001b[0m\n",
      "19_05_2025_00-04_28 [INFO] \t->\u001b[32mNeighbors of site 5: 1\u001b[0m\n",
      "19_05_2025_00-04_28 [INFO] \t\t->\u001b[34mNeighbor 0 of site 5: 6\u001b[0m\n",
      "19_05_2025_00-04_28 [INFO] \t->\u001b[32mNeighbors of site 6: 1\u001b[0m\n",
      "19_05_2025_00-04_28 [INFO] \t\t->\u001b[34mNeighbor 0 of site 6: 7\u001b[0m\n",
      "19_05_2025_00-04_28 [INFO] \t->\u001b[32mNeighbors of site 7: 1\u001b[0m\n",
      "19_05_2025_00-04_28 [INFO] \t\t->\u001b[34mNeighbor 0 of site 7: 8\u001b[0m\n",
      "19_05_2025_00-04_28 [INFO] \t->\u001b[32mNeighbors of site 8: 1\u001b[0m\n",
      "19_05_2025_00-04_28 [INFO] \t\t->\u001b[34mNeighbor 0 of site 8: 9\u001b[0m\n",
      "19_05_2025_00-04_28 [INFO] \t->\u001b[32mNeighbors of site 9: 1\u001b[0m\n",
      "19_05_2025_00-04_28 [INFO] \t\t->\u001b[34mNeighbor 0 of site 9: 10\u001b[0m\n",
      "19_05_2025_00-04_28 [INFO] \t->\u001b[32mNeighbors of site 10: 1\u001b[0m\n",
      "19_05_2025_00-04_28 [INFO] \t\t->\u001b[34mNeighbor 0 of site 10: 11\u001b[0m\n",
      "19_05_2025_00-04_28 [INFO] \t->\u001b[32mNeighbors of site 11: 1\u001b[0m\n",
      "19_05_2025_00-04_28 [INFO] \t\t->\u001b[34mNeighbor 0 of site 11: 0\u001b[0m\n"
     ]
    }
   ],
   "source": [
    "lattice = choose_lattice(\n",
    "    typek = lattice_type,\n",
    "    lx    = lx,\n",
    "    ly    = ly,\n",
    "    lz    = lz,\n",
    "    bc    = 'mbc'\n",
    ")\n",
    "ns, mult, st_shape = lattice.ns, lattice.ns // (lx * ly * lz), (lattice.ns, )\n",
    "lattice.print_forward(logger=logger)\n",
    "\n",
    "# lattice\n",
    "# MatrixPrinter.print_matrix(A)"
   ]
  },
  {
   "cell_type": "markdown",
   "id": "bcb740bd",
   "metadata": {},
   "source": [
    "### Operators to test later on"
   ]
  },
  {
   "cell_type": "code",
   "execution_count": 3,
   "id": "776542a4",
   "metadata": {},
   "outputs": [],
   "source": [
    "sig_z = op_spin.sig_z(\n",
    "    lattice = lattice,\n",
    "    ns      = lattice.ns,\n",
    "    type_act= op_spin.OperatorTypeActing.Global,\n",
    "    sites   = [0]\n",
    ")\n",
    "\n",
    "sig_x = op_spin.sig_x(\n",
    "    lattice = lattice,\n",
    "    ns      = lattice.ns,\n",
    "    type_act= op_spin.OperatorTypeActing.Global,\n",
    "    sites   = [0]\n",
    ")\n",
    "\n",
    "sig_z_c = op_spin.sig_z(\n",
    "    lattice = lattice,\n",
    "    ns      = lattice.ns,\n",
    "    type_act= op_spin.OperatorTypeActing.Global,\n",
    "    sites   = [0, 1]\n",
    ")\n",
    "\n",
    "sig_x_c = op_spin.sig_x(\n",
    "    lattice = lattice,\n",
    "    ns      = lattice.ns,\n",
    "    type_act= op_spin.OperatorTypeActing.Global,\n",
    "    sites   = [0, 1]\n",
    ")\n",
    "\n",
    "if lattice.ns == 2:\n",
    "    matrix_test = np.kron(op_spin._SIG_X, op_spin._SIG_0) * (0.5)\n",
    "    print('Matrix test:', matrix_test)"
   ]
  },
  {
   "cell_type": "markdown",
   "id": "eef281c4",
   "metadata": {},
   "source": [
    "### Hamiltonian - Hamiltonian operator $H$ and its expectation value $\\langle H \\rangle$."
   ]
  },
  {
   "cell_type": "code",
   "execution_count": 4,
   "id": "f89ecad8",
   "metadata": {},
   "outputs": [
    {
     "name": "stdout",
     "output_type": "stream",
     "text": [
      "19_05_2025_00-04_28 [INFO] \t->\u001b[0m[Transverse Field Ising Model] Building TFIM operator list...\u001b[0m\n",
      "19_05_2025_00-04_28 [INFO] \t\t->\u001b[0m[Transverse Field Ising Model] Adding modifying operator Operator(Sx/L, type_acting=Local, eigval=1.0, type=Other) at site 0 (sites: [0]) with multiplier 1.399999976158142\u001b[0m\n",
      "19_05_2025_00-04_28 [INFO] \t\t->\u001b[0m[Transverse Field Ising Model] Adding modifying operator Operator(Sx/L, type_acting=Local, eigval=1.0, type=Other) at site 1 (sites: [1]) with multiplier 1.399999976158142\u001b[0m\n",
      "19_05_2025_00-04_28 [INFO] \t\t->\u001b[0m[Transverse Field Ising Model] Adding modifying operator Operator(Sx/L, type_acting=Local, eigval=1.0, type=Other) at site 2 (sites: [2]) with multiplier 1.399999976158142\u001b[0m\n",
      "19_05_2025_00-04_28 [INFO] \t\t->\u001b[0m[Transverse Field Ising Model] Adding modifying operator Operator(Sx/L, type_acting=Local, eigval=1.0, type=Other) at site 3 (sites: [3]) with multiplier 1.399999976158142\u001b[0m\n",
      "19_05_2025_00-04_28 [INFO] \t\t->\u001b[0m[Transverse Field Ising Model] Adding modifying operator Operator(Sx/L, type_acting=Local, eigval=1.0, type=Other) at site 4 (sites: [4]) with multiplier 1.399999976158142\u001b[0m\n",
      "19_05_2025_00-04_28 [INFO] \t\t->\u001b[0m[Transverse Field Ising Model] Adding modifying operator Operator(Sx/L, type_acting=Local, eigval=1.0, type=Other) at site 5 (sites: [5]) with multiplier 1.399999976158142\u001b[0m\n",
      "19_05_2025_00-04_28 [INFO] \t\t->\u001b[0m[Transverse Field Ising Model] Adding modifying operator Operator(Sx/L, type_acting=Local, eigval=1.0, type=Other) at site 6 (sites: [6]) with multiplier 1.399999976158142\u001b[0m\n",
      "19_05_2025_00-04_28 [INFO] \t\t->\u001b[0m[Transverse Field Ising Model] Adding modifying operator Operator(Sx/L, type_acting=Local, eigval=1.0, type=Other) at site 7 (sites: [7]) with multiplier 1.399999976158142\u001b[0m\n",
      "19_05_2025_00-04_28 [INFO] \t\t->\u001b[0m[Transverse Field Ising Model] Adding modifying operator Operator(Sx/L, type_acting=Local, eigval=1.0, type=Other) at site 8 (sites: [8]) with multiplier 1.399999976158142\u001b[0m\n",
      "19_05_2025_00-04_28 [INFO] \t\t->\u001b[0m[Transverse Field Ising Model] Adding modifying operator Operator(Sx/L, type_acting=Local, eigval=1.0, type=Other) at site 9 (sites: [9]) with multiplier 1.399999976158142\u001b[0m\n",
      "19_05_2025_00-04_28 [INFO] \t\t->\u001b[0m[Transverse Field Ising Model] Adding modifying operator Operator(Sx/L, type_acting=Local, eigval=1.0, type=Other) at site 10 (sites: [10]) with multiplier 1.399999976158142\u001b[0m\n",
      "19_05_2025_00-04_28 [INFO] \t\t->\u001b[0m[Transverse Field Ising Model] Adding modifying operator Operator(Sx/L, type_acting=Local, eigval=1.0, type=Other) at site 11 (sites: [11]) with multiplier 1.399999976158142\u001b[0m\n",
      "19_05_2025_00-04_28 [INFO] \t\t->\u001b[0m[Transverse Field Ising Model] Adding non-modifying operator Operator(Sz/L, type_acting=Local, eigval=1.0, type=Other) at site 0 (sites: [0]) with multiplier -2.5\u001b[0m\n",
      "19_05_2025_00-04_28 [INFO] \t\t->\u001b[0m[Transverse Field Ising Model] Adding non-modifying operator Operator(Sz/L, type_acting=Local, eigval=1.0, type=Other) at site 1 (sites: [1]) with multiplier -2.5\u001b[0m\n",
      "19_05_2025_00-04_28 [INFO] \t\t->\u001b[0m[Transverse Field Ising Model] Adding non-modifying operator Operator(Sz/L, type_acting=Local, eigval=1.0, type=Other) at site 2 (sites: [2]) with multiplier -2.5\u001b[0m\n",
      "19_05_2025_00-04_28 [INFO] \t\t->\u001b[0m[Transverse Field Ising Model] Adding non-modifying operator Operator(Sz/L, type_acting=Local, eigval=1.0, type=Other) at site 3 (sites: [3]) with multiplier -2.5\u001b[0m\n",
      "19_05_2025_00-04_28 [INFO] \t\t->\u001b[0m[Transverse Field Ising Model] Adding non-modifying operator Operator(Sz/L, type_acting=Local, eigval=1.0, type=Other) at site 4 (sites: [4]) with multiplier -2.5\u001b[0m\n",
      "19_05_2025_00-04_28 [INFO] \t\t->\u001b[0m[Transverse Field Ising Model] Adding non-modifying operator Operator(Sz/L, type_acting=Local, eigval=1.0, type=Other) at site 5 (sites: [5]) with multiplier -2.5\u001b[0m\n",
      "19_05_2025_00-04_28 [INFO] \t\t->\u001b[0m[Transverse Field Ising Model] Adding non-modifying operator Operator(Sz/L, type_acting=Local, eigval=1.0, type=Other) at site 6 (sites: [6]) with multiplier -2.5\u001b[0m\n",
      "19_05_2025_00-04_28 [INFO] \t\t->\u001b[0m[Transverse Field Ising Model] Adding non-modifying operator Operator(Sz/L, type_acting=Local, eigval=1.0, type=Other) at site 7 (sites: [7]) with multiplier -2.5\u001b[0m\n",
      "19_05_2025_00-04_28 [INFO] \t\t->\u001b[0m[Transverse Field Ising Model] Adding non-modifying operator Operator(Sz/L, type_acting=Local, eigval=1.0, type=Other) at site 8 (sites: [8]) with multiplier -2.5\u001b[0m\n",
      "19_05_2025_00-04_28 [INFO] \t\t->\u001b[0m[Transverse Field Ising Model] Adding non-modifying operator Operator(Sz/L, type_acting=Local, eigval=1.0, type=Other) at site 9 (sites: [9]) with multiplier -2.5\u001b[0m\n",
      "19_05_2025_00-04_28 [INFO] \t\t->\u001b[0m[Transverse Field Ising Model] Adding non-modifying operator Operator(Sz/L, type_acting=Local, eigval=1.0, type=Other) at site 10 (sites: [10]) with multiplier -2.5\u001b[0m\n",
      "19_05_2025_00-04_28 [INFO] \t\t->\u001b[0m[Transverse Field Ising Model] Adding non-modifying operator Operator(Sz/L, type_acting=Local, eigval=1.0, type=Other) at site 11 (sites: [11]) with multiplier -2.5\u001b[0m\n",
      "19_05_2025_00-04_28 [INFO] \t\t->\u001b[0m[Transverse Field Ising Model] Adding non-modifying operator Operator(Sz/C, type_acting=Correlation, eigval=1.0, type=Other) at site 0 (sites: [0, 1]) with multiplier -4.0\u001b[0m\n",
      "19_05_2025_00-04_28 [INFO] \t\t->\u001b[0m[Transverse Field Ising Model] Adding non-modifying operator Operator(Sz/C, type_acting=Correlation, eigval=1.0, type=Other) at site 1 (sites: [1, 2]) with multiplier -4.0\u001b[0m\n",
      "19_05_2025_00-04_28 [INFO] \t\t->\u001b[0m[Transverse Field Ising Model] Adding non-modifying operator Operator(Sz/C, type_acting=Correlation, eigval=1.0, type=Other) at site 2 (sites: [2, 3]) with multiplier -4.0\u001b[0m\n",
      "19_05_2025_00-04_28 [INFO] \t\t->\u001b[0m[Transverse Field Ising Model] Adding non-modifying operator Operator(Sz/C, type_acting=Correlation, eigval=1.0, type=Other) at site 3 (sites: [3, 4]) with multiplier -4.0\u001b[0m\n",
      "19_05_2025_00-04_28 [INFO] \t\t->\u001b[0m[Transverse Field Ising Model] Adding non-modifying operator Operator(Sz/C, type_acting=Correlation, eigval=1.0, type=Other) at site 4 (sites: [4, 5]) with multiplier -4.0\u001b[0m\n",
      "19_05_2025_00-04_28 [INFO] \t\t->\u001b[0m[Transverse Field Ising Model] Adding non-modifying operator Operator(Sz/C, type_acting=Correlation, eigval=1.0, type=Other) at site 5 (sites: [5, 6]) with multiplier -4.0\u001b[0m\n",
      "19_05_2025_00-04_28 [INFO] \t\t->\u001b[0m[Transverse Field Ising Model] Adding non-modifying operator Operator(Sz/C, type_acting=Correlation, eigval=1.0, type=Other) at site 6 (sites: [6, 7]) with multiplier -4.0\u001b[0m\n",
      "19_05_2025_00-04_28 [INFO] \t\t->\u001b[0m[Transverse Field Ising Model] Adding non-modifying operator Operator(Sz/C, type_acting=Correlation, eigval=1.0, type=Other) at site 7 (sites: [7, 8]) with multiplier -4.0\u001b[0m\n",
      "19_05_2025_00-04_28 [INFO] \t\t->\u001b[0m[Transverse Field Ising Model] Adding non-modifying operator Operator(Sz/C, type_acting=Correlation, eigval=1.0, type=Other) at site 8 (sites: [8, 9]) with multiplier -4.0\u001b[0m\n",
      "19_05_2025_00-04_28 [INFO] \t\t->\u001b[0m[Transverse Field Ising Model] Adding non-modifying operator Operator(Sz/C, type_acting=Correlation, eigval=1.0, type=Other) at site 9 (sites: [9, 10]) with multiplier -4.0\u001b[0m\n",
      "19_05_2025_00-04_28 [INFO] \t\t->\u001b[0m[Transverse Field Ising Model] Adding non-modifying operator Operator(Sz/C, type_acting=Correlation, eigval=1.0, type=Other) at site 10 (sites: [10, 11]) with multiplier -4.0\u001b[0m\n",
      "19_05_2025_00-04_28 [INFO] \t\t->\u001b[0m[Transverse Field Ising Model] Adding non-modifying operator Operator(Sz/C, type_acting=Correlation, eigval=1.0, type=Other) at site 11 (sites: [11, 0]) with multiplier -4.0\u001b[0m\n",
      "19_05_2025_00-04_28 [INFO] \t->\u001b[0m[Transverse Field Ising Model] TFIM Hamiltonian initialized for 12 sites.\u001b[0m\n",
      "19_05_2025_00-04_28 [INFO] \u001b[31m#####################################################################Hamiltonian#####################################################################\u001b[0m\n"
     ]
    },
    {
     "data": {
      "text/plain": [
       "TFIM(Ns=12, J=4.0, hx=-1.4)"
      ]
     },
     "execution_count": 4,
     "metadata": {},
     "output_type": "execute_result"
    }
   ],
   "source": [
    "if ham_type == 'HeisenbergKitaev':\n",
    "    hamil = HeisenbergKitaev(lattice    = lattice,\n",
    "                        hilbert_space   = None,\n",
    "                        hx              = 0.0,\n",
    "                        hz              = 0.0,\n",
    "                        kx              = 1.0,\n",
    "                        ky              = 1.0,\n",
    "                        kz              = 1.0,\n",
    "                        j               = 0.0,\n",
    "                        dlt             = 1.0,\n",
    "                        dtype           = ham_dtype,\n",
    "                        use_forward     = False,\n",
    "                        backend         = backend)\n",
    "\n",
    "elif ham_type == 'TransverseFieldIsing':\n",
    "    hamil = TransverseFieldIsing(\n",
    "                        lattice        = lattice,\n",
    "                        hilbert_space  = None,\n",
    "                        hz             = 2.5,\n",
    "                        hx             = -1.4,\n",
    "                        # hx             = -0.7,    # same, but we use spin = 1/2\n",
    "                        j              = 4.0,          \n",
    "                        # j              = -1.0,    # same, but we use spin = 1/2          \n",
    "                        dtype          = ham_dtype,\n",
    "                        backend        = backend\n",
    "                )\n",
    "elif ham_type == 'DummyHamiltonian':\n",
    "    hamil = DummyHamiltonian(\n",
    "                        lattice        = lattice,\n",
    "                        hilbert_space  = None,\n",
    "                        dtype          = ham_dtype,\n",
    "                        backend        = backend\n",
    "                )\n",
    "else:\n",
    "    raise ValueError(f\"Unknown Hamiltonian type: {ham_type}\")\n",
    "\n",
    "logger.title('Hamiltonian', desired_size=150, fill='#', color='red')\n",
    "hamil"
   ]
  },
  {
   "cell_type": "code",
   "execution_count": 5,
   "id": "11d08b0f",
   "metadata": {},
   "outputs": [
    {
     "name": "stdout",
     "output_type": "stream",
     "text": [
      "19_05_2025_00-04_28 [INFO] \t\t\t->\u001b[0m[Transverse Field Ising Model] JAX is available but NumPy is forced...\u001b[0m\n",
      "19_05_2025_00-04_28 [INFO] \t\t->\u001b[0m[Transverse Field Ising Model] Calculating the Hamiltonian matrix using NumPy...\u001b[0m\n",
      "19_05_2025_00-04_30 [INFO] \u001b[32mTime to build Hamiltonian: 1.56 seconds\u001b[0m\n",
      "19_05_2025_00-04_38 [INFO] \u001b[34mTime to diagonalize Hamiltonian: 7.69 seconds\u001b[0m\n",
      "19_05_2025_00-04_38 [INFO] \u001b[32mEnergy of the ground state: -27.9033\u001b[0m\n",
      "19_05_2025_00-04_38 [INFO] \t\t->\u001b[0m[HilbertSpace] Inferred Ns=12 from Nh=4096 and Nhl=2\u001b[0m\n",
      "19_05_2025_00-04_38 [INFO] \t\t->\u001b[0m[HilbertSpace] Inferred Ns=12 from Nh=4096 and Nhl=2\u001b[0m\n",
      "19_05_2025_00-04_38 [INFO] \t\t->\u001b[0m[HilbertSpace] Inferred Ns=12 from Nh=4096 and Nhl=2\u001b[0m\n",
      "19_05_2025_00-04_38 [INFO] \t\t->\u001b[0m[HilbertSpace] Inferred Ns=12 from Nh=4096 and Nhl=2\u001b[0m\n",
      "19_05_2025_00-04_38 [INFO] \u001b[32msig_x expectation value: -0.1074\u001b[0m\n",
      "19_05_2025_00-04_38 [INFO] \u001b[32msig_z expectation value: 0.4883\u001b[0m\n",
      "19_05_2025_00-04_38 [INFO] \u001b[32msig_x expectation value (c): 0.0139\u001b[0m\n",
      "19_05_2025_00-04_38 [INFO] \u001b[32msig_z expectation value (c): 0.2386\u001b[0m\n"
     ]
    }
   ],
   "source": [
    "if hamil.hilbert_size <= 2**20:\n",
    "    time0   = time.time()\n",
    "    hamil.build(use_numpy=True)\n",
    "    time1   = time.time()\n",
    "    logger.info(f\"Time to build Hamiltonian: {time1 - time0:.2f} seconds\", color='green')\n",
    "    \n",
    "    if hamil.hilbert_size <= 2**12:\n",
    "        hamil.diagonalize()\n",
    "    else:\n",
    "        hamil.diagonalize(method = 'lanczos', k = 50)\n",
    "    time2   = time.time()\n",
    "    logger.info(f\"Time to diagonalize Hamiltonian: {time2 - time1:.2f} seconds\", color='blue')\n",
    "    eigv    = hamil.get_eigval()\n",
    "    \n",
    "    #! Test the operator expectation in the ground state\n",
    "    if hamil.hilbert_size <= 2**12:\n",
    "        gs              = hamil.get_eigvec(0)\n",
    "        # test energy \n",
    "        hamil_mat       = hamil.hamil\n",
    "        energy_0        = overlap(gs, hamil_mat, backend = np)   \n",
    "        logger.info(f\"Energy of the ground state: {energy_0:.4f}\", color='green')\n",
    "        \n",
    "        sig_x_op_mat    = sig_x.matrix(dim = hamil.hilbert_size, use_numpy = True)\n",
    "        sig_z_op_mat    = sig_z.matrix(dim = hamil.hilbert_size, use_numpy = True)\n",
    "        sig_x_op_mat_c  = sig_x_c.matrix(dim = hamil.hilbert_size, use_numpy = True)\n",
    "        sig_z_op_mat_c  = sig_z_c.matrix(dim = hamil.hilbert_size, use_numpy = True)\n",
    "\n",
    "        ed_sig_x_exp    = overlap(gs, sig_x_op_mat, backend = np)\n",
    "        ed_sig_z_exp    = overlap(gs, sig_z_op_mat, backend = np)\n",
    "        ed_sig_x_exp_c  = overlap(gs, sig_x_op_mat_c, backend = np)\n",
    "        ed_sig_z_exp_c  = overlap(gs, sig_z_op_mat_c, backend = np)\n",
    "        logger.info(f\"sig_x expectation value: {ed_sig_x_exp:.4f}\", color='green')\n",
    "        logger.info(f\"sig_z expectation value: {ed_sig_z_exp:.4f}\", color='green')\n",
    "        logger.info(f\"sig_x expectation value (c): {ed_sig_x_exp_c:.4f}\", color='green')\n",
    "        logger.info(f\"sig_z expectation value (c): {ed_sig_z_exp_c:.4f}\", color='green')\n",
    "    else:\n",
    "        ed_sig_x_exp    = None\n",
    "        ed_sig_z_exp    = None\n",
    "        ed_sig_x_exp_c  = None\n",
    "        ed_sig_z_exp_c  = None\n",
    "        logger.info(f\"(TODO) Cannot compute expectation values for Hamiltonian: {hamil.hilbert_size} > 2^12\", color='red')\n",
    "else:\n",
    "    eigv                = [None]\n",
    "    ed_sig_x_exp        = None\n",
    "    ed_sig_z_exp        = None\n",
    "    ed_sig_x_exp_c      = None\n",
    "    ed_sig_z_exp_c      = None\n",
    "    logger.info(f\"Cannot diagonalize Hamiltonian: {hamil.hilbert_size} > 2^20\", color='red')\n",
    "    "
   ]
  },
  {
   "cell_type": "markdown",
   "id": "6dc5eb0a",
   "metadata": {},
   "source": [
    "#### Plot if needed"
   ]
  },
  {
   "cell_type": "code",
   "execution_count": 6,
   "id": "48b0321a",
   "metadata": {},
   "outputs": [
    {
     "data": {
      "image/png": "[encoded data removed]",
      "text/plain": [
       "<Figure size 400x300 with 1 Axes>"
      ]
     },
     "metadata": {},
     "output_type": "display_data"
    }
   ],
   "source": [
    "if eigv is not None and len(eigv) > 1:\n",
    "    fig, ax = Plotter.get_subplots(\n",
    "        nrows       = 1,\n",
    "        ncols       = 1,\n",
    "        figsize     = (4, 3),\n",
    "        dpi         = 100,\n",
    "    )\n",
    "    x   = np.arange(0, len(eigv))\n",
    "    y   = eigv\n",
    "    ax[0].plot(x, y / lattice.ns, 'o', markersize=2)\n",
    "    ax[0].set_xlabel(r'$\\mathcal{e}$')\n",
    "    ax[0].set_ylabel(r'$E/N_s$')\n",
    "    ax[0].axhline(eigv[0] / lattice.ns, color='r', linestyle='--', label=f'Ground state {eigv[0] / lattice.ns :.3e}')\n",
    "    ax[0].legend()"
   ]
  },
  {
   "cell_type": "markdown",
   "id": "7579bc28",
   "metadata": {},
   "source": [
    "### Network - variational ansatz body $\\psi _\\theta (s)$ and its gradient $\\nabla \\psi _\\theta (s)$."
   ]
  },
  {
   "cell_type": "code",
   "execution_count": 7,
   "id": "c90ee629",
   "metadata": {},
   "outputs": [
    {
     "name": "stdout",
     "output_type": "stream",
     "text": [
      "19_05_2025_00-04_40 [INFO] \t->\u001b[34m[GeneralNet] Holomorphic check result (||∇Re[f] - i*∇Im[f]|| / ||∇Re[f]|| ≈ 0): True\u001b[0m\n",
      "19_05_2025_00-04_40 [INFO] \t->\u001b[34m[GeneralNet] FlaxInterface initialized: dtype=complex128, is_complex=True, nparams=324, is_holomorphic=True\u001b[0m\n"
     ]
    },
    {
     "data": {
      "text/plain": [
       "ComplexRBM(shape=(12,), hidden=24, bias=on, visible_bias=on, dtype=complex128, params=324, analytic_grad=False, initialized)"
      ]
     },
     "execution_count": 7,
     "metadata": {},
     "output_type": "execute_result"
    }
   ],
   "source": [
    "if network_type == 'RBM':\n",
    "    net = RBM(\n",
    "        input_shape         = st_shape, \n",
    "        n_hidden            = int(alpha * ns),\n",
    "        dtype               = dtypex,\n",
    "        param_dtype         = dtypex,\n",
    "        seed                = seed,\n",
    "        visible_bias        = True,\n",
    "        bias                = True,\n",
    "    )\n",
    "elif network_type == 'CNN':\n",
    "    net     = CNN(\n",
    "        input_shape         = st_shape,\n",
    "        reshape_dims        = (lx, ly * mult),\n",
    "        features            = (8,) * alpha,\n",
    "        strides             = [(1, 1)] * alpha,\n",
    "        kernel_sizes        = [(2, 2)] * alpha,\n",
    "        activations         = [elu_jnp] * alpha,\n",
    "        dtype               = dtypex,\n",
    "        param_dtype         = dtypex,\n",
    "        final_activation    = elu_jnp,\n",
    "        seed                = seed,\n",
    "        output_shape        = (1,)\n",
    "    )\n",
    "else:\n",
    "    raise ValueError(f\"Unknown network type: {network_type}\")\n",
    "net"
   ]
  },
  {
   "cell_type": "markdown",
   "id": "8079b2cb",
   "metadata": {},
   "source": [
    "### Sampler - sampling from the distribution $p_\\theta (s)$."
   ]
  },
  {
   "cell_type": "code",
   "execution_count": 8,
   "id": "9c866d71",
   "metadata": {},
   "outputs": [
    {
     "data": {
      "text/plain": [
       "MCSampler(shape=(12,), mu=2.0, beta=1.0, therm_steps=25, sweep_steps=12, numsamples=200, numchains=5, backend=jax)"
      ]
     },
     "execution_count": 8,
     "metadata": {},
     "output_type": "execute_result"
    }
   ],
   "source": [
    "n_chains        = 5\n",
    "n_samples       = 200\n",
    "n_therm_steps   = 25\n",
    "sampler         = Sampler.MCSampler(\n",
    "                    net             = net,\n",
    "                    shape           = st_shape,\n",
    "                    rng             = rng,\n",
    "                    rng_k           = rng_k,\n",
    "                    numchains       = n_chains,\n",
    "                    numsamples      = n_samples,\n",
    "                    sweep_steps     = min(ns, 28),\n",
    "                    backend         = backend_np,\n",
    "                    therm_steps     = n_therm_steps,\n",
    "                    mu              = 2.0,\n",
    "                    seed            = seed,\n",
    "                    dtype           = dtypex,\n",
    "                    statetype       = np.float64,\n",
    "                    makediffer      = True\n",
    "                )\n",
    "do_tests    = False\n",
    "sampler_fun = sampler.get_sampler_jax()\n",
    "sampler"
   ]
  },
  {
   "cell_type": "markdown",
   "id": "b9157d81",
   "metadata": {},
   "source": [
    "### Stepper - TDVP stepper for the time evolution of the state $\\psi _\\theta (s)$."
   ]
  },
  {
   "cell_type": "code",
   "execution_count": 9,
   "id": "551c2668",
   "metadata": {},
   "outputs": [
    {
     "data": {
      "text/plain": [
       "Euler(dt=0.1, backend=jax, rhs_p=-1.0)"
      ]
     },
     "execution_count": 9,
     "metadata": {},
     "output_type": "execute_result"
    }
   ],
   "source": [
    "ode_solver = choose_ode(ode_type = ode_solver_type, backend = backend_np, dt = lr, rhs_prefactor = -1.0)\n",
    "ode_solver"
   ]
  },
  {
   "cell_type": "markdown",
   "id": "7ccd506f",
   "metadata": {},
   "source": [
    "### NQS - neural network quantum state $\\psi_\\theta (s)$ and its gradient $\\nabla \\psi_\\theta (s)$."
   ]
  },
  {
   "cell_type": "code",
   "execution_count": 10,
   "id": "cb454579",
   "metadata": {},
   "outputs": [
    {
     "name": "stdout",
     "output_type": "stream",
     "text": [
      "19_05_2025_00-04_40 [INFO] \t->\u001b[33m[Jacobi Preconditioner] Resetting backend to: <module 'jax.numpy' from '/Users/makskliczkowski/miniconda3/lib/python3.12/site-packages/jax/numpy/__init__.py'>\u001b[0m\n",
      "19_05_2025_00-04_40 [INFO] \t\t->\u001b[33m[Jacobi Preconditioner] JIT compiling apply_gram(r, S, Sp, ...) function...\u001b[0m\n"
     ]
    },
    {
     "data": {
      "text/plain": [
       "TDVP(backend=jax,use_sr=True,use_minsr=False,rhs_prefactor=1.0,sr_snr_tol=1e-08,sr_pinv_tol=1e-08,sr_diag_shift=0.01,sr_maxiter=600)"
      ]
     },
     "execution_count": 10,
     "metadata": {},
     "output_type": "execute_result"
    }
   ],
   "source": [
    "n_epo           = 500\n",
    "n_sweep_steps   = ns\n",
    "n_batch         = 128\n",
    "\n",
    "# Other\n",
    "reg             = 1e-2\n",
    "maxiter         = 600\n",
    "tolerance       = 1e-8\n",
    "use_min_sr      = False\n",
    "\n",
    "# Solver\n",
    "solver_id       = solvers.SolverType.SCIPY_CG\n",
    "precond_id      = preconditioners.PreconditionersTypeSym.JACOBI\n",
    "precond         = preconditioners.choose_precond(precond_id=precond_id, backend=backend_np)\n",
    "# precond_id      = None\n",
    "\n",
    "tdvp = TDVP.TDVP(\n",
    "    use_sr          = True,\n",
    "    use_minsr       = False,\n",
    "    rhs_prefactor   = 1.0,\n",
    "    sr_lin_solver   = solver_id,\n",
    "    sr_precond      = precond,\n",
    "    sr_pinv_tol     = tolerance,\n",
    "    sr_pinv_cutoff  = 1e-8,\n",
    "    sr_snr_tol      = tolerance,\n",
    "    sr_diag_shift   = reg,\n",
    "    sr_lin_solver_t = solvers.SolverForm.GRAM,\n",
    "    sr_maxiter      = maxiter,\n",
    "    backend         = backend_np\n",
    ")\n",
    "tdvp"
   ]
  },
  {
   "cell_type": "code",
   "execution_count": 11,
   "id": "1f68f7f5",
   "metadata": {},
   "outputs": [
    {
     "name": "stdout",
     "output_type": "stream",
     "text": [
      "19_05_2025_00-04_40 [INFO] \t->\u001b[34m[GeneralNet] Holomorphic check result (||∇Re[f] - i*∇Im[f]|| / ||∇Re[f]|| ≈ 0): True\u001b[0m\n",
      "19_05_2025_00-04_40 [INFO] \t->\u001b[34m[GeneralNet] FlaxInterface initialized: dtype=complex128, is_complex=True, nparams=324, is_holomorphic=True\u001b[0m\n",
      "19_05_2025_00-04_40 [INFO] \t->\u001b[34m[GeneralNet] Network <class 'QES.general_python.ml.net_impl.networks.net_rbm.RBM'> initialized with forced init.\u001b[0m\n",
      "19_05_2025_00-04_40 [INFO] \u001b[0m[ExponentialDecayScheduler] Initialized with initial LR: 1.0000e-01, decay rate: 0.0003\u001b[0m\n",
      "19_05_2025_00-04_40 [INFO] \u001b[0m[ConstantScheduler] Initialized with constant LR: 1.0000e-02\u001b[0m\n"
     ]
    },
    {
     "data": {
      "text/plain": [
       "NQS(ansatz=FlaxNetInterface(input_dim=12, dtype=complex128, flax_module=_FlaxRBM),sampler=MCSampler:\n",
       "  - State shape: (12,) (Size: 12)\n",
       "  - Backend: jax\n",
       "  - Chains: 5, Samples/Chain: 200\n",
       "  - Params: mu=2.000, beta=1.000, logprob_fact=0.500\n",
       "  - Thermalization: 25 sweeps x 12 steps/sweep (43200 total site updates/chain)\n",
       "  - Sampling: 12 steps/sample (28800 total site updates/chain)\n",
       ",backend=jax)"
      ]
     },
     "execution_count": 11,
     "metadata": {},
     "output_type": "execute_result"
    }
   ],
   "source": [
    "nqs = NQS.NQS(\n",
    "            net             = net,\n",
    "            sampler         = sampler,\n",
    "            hamiltonian     = hamil,\n",
    "            lower_betas     = None,\n",
    "            lower_states    = None,\n",
    "            seed            = seed,\n",
    "            beta            = 1.0,\n",
    "            mu              = sampler.get_mu(),\n",
    "            shape           = st_shape,\n",
    "            backend         = backend_np,\n",
    "            batch_size      = n_batch,\n",
    "            dtype           = dtypex,  \n",
    "        )\n",
    "nqs.reset()\n",
    "\n",
    "nqs_train = NQST.NQSTrainer(\n",
    "    nqs             = nqs,\n",
    "    ode_solver      = ode_solver,\n",
    "    tdvp            = tdvp,\n",
    "    n_batch         = n_batch,\n",
    "    lr_scheduler    = ExponentialDecayScheduler(lr, n_epo, lr_decay=3e-4, logger=logger, lr_clamp=3e-2),\n",
    "    early_stopper   = EarlyStopping(patience = 500, min_delta=1e-4, logger=logger),\n",
    "    reg_scheduler   = ConstantScheduler(reg, max_epochs=n_epo, lr_clamp=1e-2, logger=logger),\n",
    "    logger          = logger,\n",
    ")\n",
    "nqs"
   ]
  },
  {
   "cell_type": "code",
   "execution_count": 12,
   "id": "50f88db5",
   "metadata": {},
   "outputs": [
    {
     "data": {
      "text/plain": [
       "NQSTrainer(nqs=NQS(ansatz=FlaxNetInterface(input_dim=12, dtype=complex128, flax_module=_FlaxRBM),sampler=MCSampler:\n",
       "  - State shape: (12,) (Size: 12)\n",
       "  - Backend: jax\n",
       "  - Chains: 5, Samples/Chain: 200\n",
       "  - Params: mu=2.000, beta=1.000, logprob_fact=0.500\n",
       "  - Thermalization: 25 sweeps x 12 steps/sweep (43200 total site updates/chain)\n",
       "  - Sampling: 12 steps/sample (28800 total site updates/chain)\n",
       ",backend=jax), ode_solver=Euler(dt=0.1, backend=jax, rhs_p=-1.0), tdvp=TDVP(backend=jax,use_sr=True,use_minsr=False,rhs_prefactor=1.0,sr_snr_tol=1e-08,sr_pinv_tol=1e-08,sr_diag_shift=0.01,sr_maxiter=600)"
      ]
     },
     "execution_count": 12,
     "metadata": {},
     "output_type": "execute_result"
    }
   ],
   "source": [
    "nqs_train"
   ]
  },
  {
   "cell_type": "markdown",
   "id": "a36a6f8f",
   "metadata": {},
   "source": [
    "### Test the training of the NQS with a simple Hamiltonian."
   ]
  },
  {
   "cell_type": "code",
   "execution_count": 13,
   "id": "b46e97e6",
   "metadata": {},
   "outputs": [
    {
     "name": "stdout",
     "output_type": "stream",
     "text": [
      "19_05_2025_00-04_42 [INFO] \t->\u001b[0m[EarlyStopping] EarlyStopping reset.\u001b[0m\n"
     ]
    },
    {
     "name": "stderr",
     "output_type": "stream",
     "text": [
      "Training: 100%|██████████| 50/50 [00:07<00:00,  6.95it/s, E/N=-2.3106e+00-3.1225e-05j ± 2.1333e-02, lr=9.9e-02, sig=1.0e-02, t_sample=4.80e-02s, t_step=6.89e-02s, t_update=4.87e-04s, t_gradient=2.87e-04s, t_prepare=1.72e-02s, t_solve=5.08e-02s, t_total=1.86e-01s]\n"
     ]
    }
   ],
   "source": [
    "nqs_train._reset_history()\n",
    "history, history_std, timings = nqs_train.train(n_epochs=50, \n",
    "                        reset=False, use_lr_scheduler=(ode_solver_type=='Euler'), use_reg_scheduler=False)"
   ]
  },
  {
   "cell_type": "code",
   "execution_count": 14,
   "id": "73d384c7",
   "metadata": {},
   "outputs": [
    {
     "name": "stdout",
     "output_type": "stream",
     "text": [
      "19_05_2025_00-04_49 [INFO] \u001b[34mTime breakdown (s):\u001b[0m\n",
      "19_05_2025_00-04_49 [INFO] \t->- sampling: 2.53e+00 (35.9%)\n",
      "19_05_2025_00-04_49 [INFO] \t->- compute : 4.31e+00 (61.1%)\n",
      "19_05_2025_00-04_49 [INFO] \t->- update  : 2.09e-01 (3.0%)\n",
      "19_05_2025_00-04_49 [INFO] \t->- prepare : 8.58e-01 (12.2%)\n",
      "19_05_2025_00-04_49 [INFO] \t->- solve   : 3.00e+00 (42.5%)\n",
      "19_05_2025_00-04_49 [INFO] \t->- gradient: 3.34e-02 (0.5%)\n",
      "19_05_2025_00-04_49 [INFO] \u001b[32m- total   : 7.06e+00\u001b[0m\n",
      "19_05_2025_00-04_50 [INFO] Saved figure to './data/nqs_train/TransverseFieldIsing/gs_train.png' and JSON to './data/nqs_train/TransverseFieldIsing/'.\n",
      "19_05_2025_00-04_50 [INFO] \t->\u001b[32mSaved parameters to ./data/nqs_train/TransverseFieldIsing/gs_train_info.json\u001b[0m\n",
      "19_05_2025_00-04_50 [WARNING] Failed to save parameters: Object of type complex128 is not JSON serializable\n",
      "19_05_2025_00-04_50 [WARNING] Parameters are not saved.\n",
      "19_05_2025_00-04_50 [WARNING] \t->\u001b[31mYou can save them manually using `nqs.get_params()`.\u001b[0m\n"
     ]
    },
    {
     "data": {
      "image/png": "[encoded data removed]",
      "text/plain": [
       "<Figure size 600x750 with 2 Axes>"
      ]
     },
     "metadata": {},
     "output_type": "display_data"
    }
   ],
   "source": [
    "energy_plot = eigv[0] if eigv[0] is not None else -18.583590144097595\n",
    "fig, ax = nqs_train.report_gs(eigv      =   energy_plot,\n",
    "                            last_n      =   0.05,\n",
    "                            savedir     =   f'./data/nqs_train/{ham_type}/',\n",
    "                            plot_kwargs =   {\n",
    "                                'ylim_0'        : (-3.5, 3e-2),\n",
    "                                'ylim_1'        : (1e-5, 1e0),\n",
    "                                'inset_axes'    : (0.55, 0.2, 0.4, 0.4),\n",
    "                                'annotate_x'    : 0.93,\n",
    "                                'annotate_y'    : 0.05\n",
    "                            })"
   ]
  },
  {
   "cell_type": "code",
   "execution_count": null,
   "id": "c529175a",
   "metadata": {},
   "outputs": [
    {
     "name": "stdout",
     "output_type": "stream",
     "text": [
      "19_05_2025_00-00_55 [INFO] \u001b[31mOperator(Sz/0, type_acting=Global, eigval=1.0, type=Other): ⟨O⟩ = (0.5000+0.0000j) ± (0.0000)  (N=1000)\u001b[0m\n",
      "19_05_2025_00-00_55 [INFO] \t\t->ref = 0.4883 - rel.err = 2.40 %\n",
      "19_05_2025_00-00_55 [INFO] \u001b[34mOperator(Sx/0, type_acting=Global, eigval=1.0, type=Other): ⟨O⟩ = (0.0019+0.0003j) ± (0.0006)  (N=1000)\u001b[0m\n",
      "19_05_2025_00-00_55 [INFO] \t\t->ref = -0.1074 - rel.err = 101.81 %\n",
      "19_05_2025_00-00_55 [INFO] \u001b[32mOperator(Sz/0-1, type_acting=Global, eigval=1.0, type=Other): ⟨O⟩ = (0.2450+0.0000j) ± (0.0497)  (N=1000)\u001b[0m\n",
      "19_05_2025_00-00_55 [INFO] \t\t->ref = 0.2386 - rel.err = 2.70 %\n",
      "19_05_2025_00-00_55 [INFO] \u001b[0mOperator(Sx/0-1, type_acting=Global, eigval=1.0, type=Other): ⟨O⟩ = (-0.0002-0.0000j) ± (0.0010)  (N=1000)\u001b[0m\n",
      "19_05_2025_00-00_55 [INFO] \t\t->ref = 0.0139 - rel.err = 101.48 %\n",
      "19_05_2025_00-00_55 [INFO] \u001b[0mEnergy: E = (-2.7739e+01-4.4490e-03j) ± (0.2328) (N=1000)\u001b[0m\n",
      "None\n",
      "None\n",
      "None\n",
      "None\n",
      "19_05_2025_00-00_56 [INFO] \u001b[32msample: 1.15e-01 s\u001b[0m\n",
      "19_05_2025_00-00_56 [INFO] \u001b[32mobs_0: 8.49e-02 s\u001b[0m\n",
      "19_05_2025_00-00_56 [INFO] \u001b[32mobs_1: 9.62e-02 s\u001b[0m\n",
      "19_05_2025_00-00_56 [INFO] \u001b[32mobs_2: 8.11e-02 s\u001b[0m\n",
      "19_05_2025_00-00_56 [INFO] \u001b[32mobs_3: 9.21e-02 s\u001b[0m\n",
      "19_05_2025_00-00_56 [INFO] \u001b[32menergy: 3.01e-01 s\u001b[0m\n"
     ]
    },
    {
     "data": {
      "image/png": "[encoded data removed]",
      "text/plain": [
       "<Figure size 480x900 with 5 Axes>"
      ]
     },
     "metadata": {},
     "output_type": "display_data"
    }
   ],
   "source": [
    "results, energy, timings = nqs.eval_observables(\n",
    "    operators      = [sig_z, sig_x, sig_z_c, sig_x_c],\n",
    "    true_values    = [ed_sig_z_exp, ed_sig_x_exp, ed_sig_z_exp_c, ed_sig_x_exp_c],\n",
    "    n_chains       = n_chains,\n",
    "    n_samples      = n_samples,\n",
    "    batch_size     = 100,\n",
    "    logger         = logger,\n",
    "    plot           = True,\n",
    "    get_energy     = True,\n",
    "    bins           = 200,\n",
    "    true_en        = eigv[0],\n",
    "    plot_kwargs    = {\n",
    "        # 'xlim_0'    : (-0.5, 0.1),\n",
    "        # 'xlim_1'    : (-0.5, 0.1),\n",
    "        'inset_axes': (0.6, 0.2, 0.35, 0.4),\n",
    "    }\n",
    ")"
   ]
  },
  {
   "cell_type": "markdown",
   "id": "6c12705b",
   "metadata": {},
   "source": [
    "### Test modifier"
   ]
  },
  {
   "cell_type": "code",
   "execution_count": 15,
   "id": "6ac9632d",
   "metadata": {},
   "outputs": [],
   "source": [
    "from QES.Algebra.Operator.operator import initial_states, create_operator\n",
    "\n",
    "sites_all       = []\n",
    "operators_inv   = []\n",
    "# locals\n",
    "sites           = [0]\n",
    "\n",
    "operators_inv.append(\n",
    "    create_operator(\n",
    "        type_act        =   op_spin.OperatorTypeActing.Global,\n",
    "        op_func_int     =   None,\n",
    "        op_func_np      =   None,\n",
    "        op_func_jnp     =   op_spin.sigma_z_inv_jnp,\n",
    "        ns              =   lattice.ns,\n",
    "        sites           =   sites,\n",
    "        name            =   'sig_z_0',\n",
    "        extra_args      =   (True, 1.0),\n",
    "        modifies        =   False,\n",
    "        \n",
    "    )\n",
    ")\n",
    "\n",
    "operators_inv.append(\n",
    "    create_operator(\n",
    "        type_act        =   op_spin.OperatorTypeActing.Global,\n",
    "        op_func_int     =   None,\n",
    "        op_func_np      =   None,\n",
    "        op_func_jnp     =   op_spin.sigma_x_inv_jnp,\n",
    "        ns              =   lattice.ns,\n",
    "        sites           =   sites,\n",
    "        name            =   'sig_x_0',\n",
    "        extra_args      =   (True, 1.0),\n",
    "        modifies        =   False,\n",
    "        \n",
    "    )\n",
    ")\n",
    "\n",
    "# correlations\n",
    "sites_corr = jnp.array([0, 3], dtype=jnp.int32)\n",
    "def sig_z_c_modifier(x):\n",
    "    return op_spin.sigma_z_inv_jnp(x, sites=sites_corr)\n",
    "\n",
    "def sig_x_c_modifier(x):\n",
    "    return op_spin.sigma_x_inv_jnp(x, sites=sites_corr)\n",
    "\n",
    "# k-space\n",
    "k       = 1.0\n",
    "sites_k = jnp.arange(0, lattice.ns, dtype=jnp.int32)\n",
    "def sig_k_modifier(x):\n",
    "    return op_spin.sigma_k_inv_jnp(x, k=k, sites=sites_k)\n",
    "\n",
    "\n",
    "names = ['sig_z', 'sig_x', 'sig_z_c', 'sig_x_c', 'sig_k']\n",
    "\n",
    "sig_z_modifier_jit      = operators_inv[0].jax\n",
    "sig_x_modifier_jit      = operators_inv[1].jax\n",
    "sig_z_c_modifier_jit    = jax.jit(sig_z_c_modifier)\n",
    "sig_x_c_modifier_jit    = jax.jit(sig_x_c_modifier)\n",
    "sig_k_modifier_jit      = jax.jit(sig_k_modifier)"
   ]
  },
  {
   "cell_type": "code",
   "execution_count": 21,
   "id": "a34a4569",
   "metadata": {},
   "outputs": [
    {
     "data": {
      "text/latex": [
       "$\\displaystyle \\text{Integer state: }\\,\\left|(860)\\,001101011100\\right\\rangle$"
      ],
      "text/plain": [
       "<IPython.core.display.Math object>"
      ]
     },
     "metadata": {},
     "output_type": "display_data"
    },
    {
     "data": {
      "text/latex": [
       "$\\displaystyle \\text{NumPy state: }\\,|0 0 1 1 0 1 0 1 1 1 0 0\\rangle$"
      ],
      "text/plain": [
       "<IPython.core.display.Math object>"
      ]
     },
     "metadata": {},
     "output_type": "display_data"
    },
    {
     "data": {
      "text/latex": [
       "$\\displaystyle \\text{JAX state: }\\,|0 0 1 1 0 1 0 1 1 1 0 0\\rangle$"
      ],
      "text/plain": [
       "<IPython.core.display.Math object>"
      ]
     },
     "metadata": {},
     "output_type": "display_data"
    }
   ],
   "source": [
    "# test modifiers\n",
    "_, _, st_jax = initial_states(lattice.ns, display=True)\n",
    "st_jax       = (st_jax - 0.5) * 2"
   ]
  },
  {
   "cell_type": "code",
   "execution_count": 22,
   "id": "309dd9e8",
   "metadata": {},
   "outputs": [
    {
     "name": "stdout",
     "output_type": "stream",
     "text": [
      "19_05_2025_00-05_07 [INFO] \u001b[31m#######################################################################Modifier#######################################################################\u001b[0m\n",
      "19_05_2025_00-05_07 [INFO] Modified state: [-1. -1.  1.  1. -1.  1. -1.  1.  1.  1. -1. -1.]\n",
      "19_05_2025_00-05_07 [INFO] Original state: [-1. -1.  1.  1. -1.  1. -1.  1.  1.  1. -1. -1.]\n",
      "19_05_2025_00-05_07 [INFO] Modified state value: [-1.]\n",
      "19_05_2025_00-05_07 [INFO] Modified state shape: (1, 12)\n",
      "19_05_2025_00-05_07 [INFO] \u001b[31m#######################################################################Modifier#######################################################################\u001b[0m\n",
      "19_05_2025_00-05_07 [INFO] Modified state: [ 1. -1.  1.  1. -1.  1. -1.  1.  1.  1. -1. -1.]\n",
      "19_05_2025_00-05_07 [INFO] Original state: [-1. -1.  1.  1. -1.  1. -1.  1.  1.  1. -1. -1.]\n",
      "19_05_2025_00-05_07 [INFO] Modified state value: [1.]\n",
      "19_05_2025_00-05_07 [INFO] Modified state shape: (1, 12)\n"
     ]
    }
   ],
   "source": [
    "for modifier in [sig_z_modifier_jit, sig_x_modifier_jit]:\n",
    "    st_out, st_val = modifier(st_jax)\n",
    "    logger.title('Modifier', desired_size=150, fill='#', color='red')\n",
    "    logger.info(f\"Modified state: {st_out[0]}\")\n",
    "    logger.info(f\"Original state: {st_jax}\")\n",
    "    logger.info(f\"Modified state value: {st_val}\")\n",
    "    logger.info(f\"Modified state shape: {st_out.shape}\")"
   ]
  },
  {
   "cell_type": "markdown",
   "id": "5a0e61c7",
   "metadata": {},
   "source": [
    "#### $\\sigma_z$ - Pauli Z operator at site $i=0$."
   ]
  },
  {
   "cell_type": "code",
   "execution_count": 23,
   "id": "e21572e7",
   "metadata": {},
   "outputs": [
    {
     "data": {
      "text/plain": [
       "Array([[0.5, 0.5, 0.5, ..., 0.5, 0.5, 0.5],\n",
       "       [0.5, 0.5, 0.5, ..., 0.5, 0.5, 0.5],\n",
       "       [0.5, 0.5, 0.5, ..., 0.5, 0.5, 0.5],\n",
       "       ...,\n",
       "       [0.5, 0.5, 0.5, ..., 0.5, 0.5, 0.5],\n",
       "       [0.5, 0.5, 0.5, ..., 0.5, 0.5, 0.5],\n",
       "       [0.5, 0.5, 0.5, ..., 0.5, 0.5, 0.5]], dtype=float64)"
      ]
     },
     "execution_count": 23,
     "metadata": {},
     "output_type": "execute_result"
    }
   ],
   "source": [
    "(_, _), (cfgs, cfgs_psi), probs = nqs.sample()\n",
    "cfgs"
   ]
  },
  {
   "cell_type": "code",
   "execution_count": 24,
   "id": "05bc4b44",
   "metadata": {},
   "outputs": [
    {
     "name": "stdout",
     "output_type": "stream",
     "text": [
      "19_05_2025_00-05_11 [INFO] \t\t->\u001b[34m[<class 'QES.NQS.nqs.NQS'>] State modifier unset.\u001b[0m\n",
      "Before: [6.72429147+11.60185633j 6.72429147+11.60185633j]\n",
      "Before exp: [474.3046569-684.0284264j 474.3046569-684.0284264j]\n",
      "19_05_2025_00-05_11 [INFO] \t\t->\u001b[34m[<class 'QES.NQS.nqs.NQS'>] State modifier function set to <PjitFunction of <function make_jax_operator_closure.<locals>.compiled_op at 0x33a98de40>>.\u001b[0m\n",
      "After: [6.72429147+14.74344898j 6.72429147+14.74344898j]\n",
      "After exp: [-474.3046569+684.0284264j -474.3046569+684.0284264j]\n"
     ]
    }
   ],
   "source": [
    "nqs.unset_modifier()\n",
    "two_states      = jnp.array([st_jax, st_jax], dtype=jnp.float32)\n",
    "nqs_ansatz_old  = nqs.ansatz\n",
    "nqs_eval_before = nqs_ansatz_old(nqs.get_params(), two_states)\n",
    "print('Before:', nqs_eval_before)\n",
    "print('Before exp:', jnp.exp(nqs_eval_before))\n",
    "nqs.set_modifier(modifier=sig_z_modifier_jit, name=operators_inv[0].name)\n",
    "nqs_ansatz_new  = nqs.ansatz\n",
    "nqs_eval_new    = nqs_ansatz_new(nqs.get_params(), two_states)\n",
    "print('After:', nqs_eval_new)\n",
    "print('After exp:', jnp.exp(nqs_eval_new))"
   ]
  },
  {
   "cell_type": "code",
   "execution_count": null,
   "id": "e8a8b87c",
   "metadata": {},
   "outputs": [],
   "source": [
    "out = nqs_ansatz_new(nqs.get_params(), cfgs)\n"
   ]
  },
  {
   "cell_type": "markdown",
   "id": "4c815a52",
   "metadata": {},
   "source": [
    "#### Try to evaluate"
   ]
  },
  {
   "cell_type": "code",
   "execution_count": null,
   "id": "d255d35e",
   "metadata": {},
   "outputs": [
    {
     "name": "stdout",
     "output_type": "stream",
     "text": [
      "19_05_2025_00-00_58 [INFO] \u001b[31mOperator(Sx/0, type_acting=Global, eigval=1.0, type=Other): ⟨O⟩ = (-0.0019-0.0003j) ± (0.0007)  (N=1000)\u001b[0m\n",
      "19_05_2025_00-00_58 [INFO] \t\t->ref = 0.4883 - rel.err = 100.39 %\n",
      "19_05_2025_00-00_58 [INFO] \u001b[0mEnergy: E = (-2.7743e+01+6.3536e-03j) ± (0.2715) (N=1000)\u001b[0m\n",
      "None\n",
      "19_05_2025_00-00_59 [INFO] \u001b[32msample: 5.43e-02 s\u001b[0m\n",
      "19_05_2025_00-00_59 [INFO] \u001b[32mobs_0: 1.05e-01 s\u001b[0m\n",
      "19_05_2025_00-00_59 [INFO] \u001b[32menergy: 3.62e-01 s\u001b[0m\n"
     ]
    },
    {
     "data": {
      "image/png": "[encoded data removed]",
      "text/plain": [
       "<Figure size 480x360 with 2 Axes>"
      ]
     },
     "metadata": {},
     "output_type": "display_data"
    }
   ],
   "source": [
    "results, energy, timings = nqs.eval_observables(\n",
    "    operators      = [sig_x],\n",
    "    true_values    = [ed_sig_z_exp],\n",
    "    n_chains       = n_chains,\n",
    "    n_samples      = n_samples,\n",
    "    batch_size     = 100,\n",
    "    logger         = logger,\n",
    "    plot           = True,\n",
    "    get_energy     = True,\n",
    "    bins           = 200,\n",
    "    true_en        = energy_0,\n",
    "    plot_kwargs    = {\n",
    "    }\n",
    ")"
   ]
  },
  {
   "cell_type": "markdown",
   "id": "13428001",
   "metadata": {},
   "source": [
    "#### ED evolution - exact diagonalization of the Hamiltonian $H$."
   ]
  },
  {
   "cell_type": "code",
   "execution_count": null,
   "id": "5f5b6c4b",
   "metadata": {},
   "outputs": [],
   "source": []
  },
  {
   "cell_type": "markdown",
   "id": "e2165773",
   "metadata": {},
   "source": [
    "#### TDVP evolution - time-dependent variational principle (TDVP) evolution of the state $\\psi_\\theta (s)$."
   ]
  },
  {
   "cell_type": "code",
   "execution_count": null,
   "id": "40738430",
   "metadata": {},
   "outputs": [],
   "source": [
    "params_org      = nqs.get_params().copy()"
   ]
  },
  {
   "cell_type": "code",
   "execution_count": 47,
   "id": "c820e631",
   "metadata": {},
   "outputs": [
    {
     "data": {
      "text/plain": [
       "Euler(dt=0.08, backend=jax, rhs_p=1.0)"
      ]
     },
     "execution_count": 47,
     "metadata": {},
     "output_type": "execute_result"
    }
   ],
   "source": [
    "dt              = 0.08\n",
    "ode_solver_t    = choose_ode(ode_type = ode_solver_type, backend = backend_np, dt = dt, rhs_prefactor = 1.0)\n",
    "ode_solver_t"
   ]
  },
  {
   "cell_type": "code",
   "execution_count": 48,
   "id": "dd309ae9",
   "metadata": {},
   "outputs": [
    {
     "name": "stdout",
     "output_type": "stream",
     "text": [
      "19_05_2025_00-14_11 [INFO] \t->\u001b[33m[Jacobi Preconditioner] Resetting backend to: <module 'jax.numpy' from '/Users/makskliczkowski/miniconda3/lib/python3.12/site-packages/jax/numpy/__init__.py'>\u001b[0m\n",
      "19_05_2025_00-14_11 [INFO] \t\t->\u001b[33m[Jacobi Preconditioner] JIT compiling apply_gram(r, S, Sp, ...) function...\u001b[0m\n"
     ]
    },
    {
     "data": {
      "text/plain": [
       "TDVP(backend=jax,use_sr=True,use_minsr=False,rhs_prefactor=(-0-1j),sr_snr_tol=1e-08,sr_pinv_tol=1e-08,sr_diag_shift=0.01,sr_maxiter=600)"
      ]
     },
     "execution_count": 48,
     "metadata": {},
     "output_type": "execute_result"
    }
   ],
   "source": [
    "# Other\n",
    "reg             = 1e-2\n",
    "maxiter         = 600\n",
    "tolerance       = 1e-8\n",
    "use_min_sr      = False\n",
    "\n",
    "# Solver\n",
    "solver_id       = solvers.SolverType.SCIPY_CG\n",
    "precond_id      = preconditioners.PreconditionersTypeSym.JACOBI\n",
    "precond         = preconditioners.choose_precond(precond_id=precond_id, backend=backend_np)\n",
    "# precond_id      = None\n",
    "\n",
    "tdvp_t = TDVP.TDVP(\n",
    "    use_sr          = True,\n",
    "    use_minsr       = False,\n",
    "    rhs_prefactor   = -1.0j,\n",
    "    sr_lin_solver   = solver_id,\n",
    "    sr_precond      = precond,\n",
    "    sr_pinv_tol     = tolerance,\n",
    "    sr_pinv_cutoff  = 1e-8,\n",
    "    sr_snr_tol      = tolerance,\n",
    "    sr_diag_shift   = reg,\n",
    "    sr_lin_solver_t = solvers.SolverForm.GRAM,\n",
    "    sr_maxiter      = maxiter,\n",
    "    backend         = backend_np\n",
    ")\n",
    "tdvp_t"
   ]
  },
  {
   "cell_type": "code",
   "execution_count": 49,
   "id": "a1038358",
   "metadata": {},
   "outputs": [
    {
     "name": "stdout",
     "output_type": "stream",
     "text": [
      "19_05_2025_00-14_12 [INFO] \u001b[32mCurrent time: 0.0000: 0/50\u001b[0m\n",
      "19_05_2025_00-14_13 [INFO] \t\t->\u001b[32mMean value: 0.3054+0.0064j +/- 0.0651\u001b[0m\n",
      "19_05_2025_00-14_13 [INFO] \u001b[32mCurrent time: 0.0800: 1/50\u001b[0m\n",
      "19_05_2025_00-14_13 [INFO] \t\t->\u001b[32mMean value: 0.2287-0.0186j +/- 0.0518\u001b[0m\n",
      "19_05_2025_00-14_13 [INFO] \u001b[32mCurrent time: 0.1600: 2/50\u001b[0m\n",
      "19_05_2025_00-14_14 [INFO] \t\t->\u001b[32mMean value: 0.2276-0.0245j +/- 0.0600\u001b[0m\n",
      "19_05_2025_00-14_14 [INFO] \u001b[32mCurrent time: 0.2400: 3/50\u001b[0m\n",
      "19_05_2025_00-14_14 [INFO] \t\t->\u001b[32mMean value: 0.2340-0.0156j +/- 0.0506\u001b[0m\n",
      "19_05_2025_00-14_14 [INFO] \u001b[32mCurrent time: 0.3200: 4/50\u001b[0m\n",
      "19_05_2025_00-14_15 [INFO] \t\t->\u001b[32mMean value: 0.2134-0.0009j +/- 0.0430\u001b[0m\n",
      "19_05_2025_00-14_15 [INFO] \u001b[32mCurrent time: 0.4000: 5/50\u001b[0m\n",
      "19_05_2025_00-14_15 [INFO] \t\t->\u001b[32mMean value: 0.2222+0.0102j +/- 0.0696\u001b[0m\n",
      "19_05_2025_00-14_15 [INFO] \u001b[32mCurrent time: 0.4800: 6/50\u001b[0m\n",
      "19_05_2025_00-14_15 [INFO] \t\t->\u001b[32mMean value: 0.2304+0.0333j +/- 0.0585\u001b[0m\n",
      "19_05_2025_00-14_15 [INFO] \u001b[32mCurrent time: 0.5600: 7/50\u001b[0m\n",
      "19_05_2025_00-14_16 [INFO] \t\t->\u001b[32mMean value: 0.2249+0.0140j +/- 0.0628\u001b[0m\n",
      "19_05_2025_00-14_16 [INFO] \u001b[32mCurrent time: 0.6400: 8/50\u001b[0m\n",
      "19_05_2025_00-14_16 [INFO] \t\t->\u001b[32mMean value: 0.2586+0.0126j +/- 0.0322\u001b[0m\n",
      "19_05_2025_00-14_16 [INFO] \u001b[32mCurrent time: 0.7200: 9/50\u001b[0m\n",
      "19_05_2025_00-14_17 [INFO] \t\t->\u001b[32mMean value: 0.2452-0.0166j +/- 0.0437\u001b[0m\n",
      "19_05_2025_00-14_17 [INFO] \u001b[32mCurrent time: 0.8000: 10/50\u001b[0m\n",
      "19_05_2025_00-14_17 [INFO] \t\t->\u001b[32mMean value: 0.2488-0.0294j +/- 0.0489\u001b[0m\n",
      "19_05_2025_00-14_17 [INFO] \u001b[32mCurrent time: 0.8800: 11/50\u001b[0m\n",
      "19_05_2025_00-14_18 [INFO] \t\t->\u001b[32mMean value: 0.2488-0.0009j +/- 0.0296\u001b[0m\n",
      "19_05_2025_00-14_18 [INFO] \u001b[32mCurrent time: 0.9600: 12/50\u001b[0m\n",
      "19_05_2025_00-14_18 [INFO] \t\t->\u001b[32mMean value: 0.2284-0.0144j +/- 0.0590\u001b[0m\n",
      "19_05_2025_00-14_18 [INFO] \u001b[32mCurrent time: 1.0400: 13/50\u001b[0m\n",
      "19_05_2025_00-14_18 [INFO] \t\t->\u001b[32mMean value: 0.2195+0.0027j +/- 0.0540\u001b[0m\n",
      "19_05_2025_00-14_18 [INFO] \u001b[32mCurrent time: 1.1200: 14/50\u001b[0m\n",
      "19_05_2025_00-14_19 [INFO] \t\t->\u001b[32mMean value: 0.1993+0.0064j +/- 0.0585\u001b[0m\n",
      "19_05_2025_00-14_19 [INFO] \u001b[32mCurrent time: 1.2000: 15/50\u001b[0m\n",
      "19_05_2025_00-14_19 [INFO] \t\t->\u001b[32mMean value: 0.1770+0.0230j +/- 0.0782\u001b[0m\n",
      "19_05_2025_00-14_19 [INFO] \u001b[32mCurrent time: 1.2800: 16/50\u001b[0m\n",
      "19_05_2025_00-14_20 [INFO] \t\t->\u001b[32mMean value: 0.2107+0.0431j +/- 0.0692\u001b[0m\n",
      "19_05_2025_00-14_20 [INFO] \u001b[32mCurrent time: 1.3600: 17/50\u001b[0m\n",
      "19_05_2025_00-14_20 [INFO] \t\t->\u001b[32mMean value: 0.1982+0.0780j +/- 0.0765\u001b[0m\n",
      "19_05_2025_00-14_20 [INFO] \u001b[32mCurrent time: 1.4400: 18/50\u001b[0m\n",
      "19_05_2025_00-14_20 [INFO] \t\t->\u001b[32mMean value: 0.2328+0.0862j +/- 0.0679\u001b[0m\n",
      "19_05_2025_00-14_20 [INFO] \u001b[32mCurrent time: 1.5200: 19/50\u001b[0m\n",
      "19_05_2025_00-14_21 [INFO] \t\t->\u001b[32mMean value: 0.2992+0.0992j +/- 0.0607\u001b[0m\n",
      "19_05_2025_00-14_21 [INFO] \u001b[32mCurrent time: 1.6000: 20/50\u001b[0m\n",
      "19_05_2025_00-14_21 [INFO] \t\t->\u001b[32mMean value: 0.3413+0.1037j +/- 0.0588\u001b[0m\n",
      "19_05_2025_00-14_21 [INFO] \u001b[32mCurrent time: 1.6800: 21/50\u001b[0m\n",
      "19_05_2025_00-14_22 [INFO] \t\t->\u001b[32mMean value: 0.3953+0.0905j +/- 0.0613\u001b[0m\n",
      "19_05_2025_00-14_22 [INFO] \u001b[32mCurrent time: 1.7600: 22/50\u001b[0m\n",
      "19_05_2025_00-14_22 [INFO] \t\t->\u001b[32mMean value: 0.3550-0.3044j +/- 0.0408\u001b[0m\n",
      "19_05_2025_00-14_22 [INFO] \u001b[32mCurrent time: 1.8400: 23/50\u001b[0m\n",
      "19_05_2025_00-14_23 [INFO] \t\t->\u001b[32mMean value: 0.4207-0.4254j +/- 0.0587\u001b[0m\n",
      "19_05_2025_00-14_23 [INFO] \u001b[32mCurrent time: 1.9200: 24/50\u001b[0m\n",
      "19_05_2025_00-14_23 [INFO] \t\t->\u001b[32mMean value: 0.2152-0.0837j +/- 0.0199\u001b[0m\n",
      "19_05_2025_00-14_23 [INFO] \u001b[32mCurrent time: 2.0000: 25/50\u001b[0m\n",
      "19_05_2025_00-14_23 [INFO] \t\t->\u001b[32mMean value: 0.1938-0.0294j +/- 0.0186\u001b[0m\n",
      "19_05_2025_00-14_23 [INFO] \u001b[32mCurrent time: 2.0800: 26/50\u001b[0m\n",
      "19_05_2025_00-14_24 [INFO] \t\t->\u001b[32mMean value: 0.2332-0.0056j +/- 0.0199\u001b[0m\n",
      "19_05_2025_00-14_24 [INFO] \u001b[32mCurrent time: 2.1600: 27/50\u001b[0m\n",
      "19_05_2025_00-14_24 [INFO] \t\t->\u001b[32mMean value: 0.2667+0.0218j +/- 0.0251\u001b[0m\n",
      "19_05_2025_00-14_24 [INFO] \u001b[32mCurrent time: 2.2400: 28/50\u001b[0m\n",
      "19_05_2025_00-14_25 [INFO] \t\t->\u001b[32mMean value: 0.1570+0.0467j +/- 0.0185\u001b[0m\n",
      "19_05_2025_00-14_25 [INFO] \u001b[32mCurrent time: 2.3200: 29/50\u001b[0m\n",
      "19_05_2025_00-14_25 [INFO] \t\t->\u001b[32mMean value: 0.1758+0.0647j +/- 0.0232\u001b[0m\n",
      "19_05_2025_00-14_25 [INFO] \u001b[32mCurrent time: 2.4000: 30/50\u001b[0m\n",
      "19_05_2025_00-14_26 [INFO] \t\t->\u001b[32mMean value: 0.1658+0.1112j +/- 0.0235\u001b[0m\n",
      "19_05_2025_00-14_26 [INFO] \u001b[32mCurrent time: 2.4800: 31/50\u001b[0m\n",
      "19_05_2025_00-14_26 [INFO] \t\t->\u001b[32mMean value: 0.2063+0.1536j +/- 0.0317\u001b[0m\n",
      "19_05_2025_00-14_26 [INFO] \u001b[32mCurrent time: 2.5600: 32/50\u001b[0m\n",
      "19_05_2025_00-14_26 [INFO] \t\t->\u001b[32mMean value: 0.3080+0.1864j +/- 0.0426\u001b[0m\n",
      "19_05_2025_00-14_26 [INFO] \u001b[32mCurrent time: 2.6400: 33/50\u001b[0m\n",
      "19_05_2025_00-14_27 [INFO] \t\t->\u001b[32mMean value: 0.4951+0.2405j +/- 0.0653\u001b[0m\n",
      "19_05_2025_00-14_27 [INFO] \u001b[32mCurrent time: 2.7200: 34/50\u001b[0m\n",
      "19_05_2025_00-14_27 [INFO] \t\t->\u001b[32mMean value: 0.3374+0.1974j +/- 0.0407\u001b[0m\n",
      "19_05_2025_00-14_27 [INFO] \u001b[32mCurrent time: 2.8000: 35/50\u001b[0m\n",
      "19_05_2025_00-14_28 [INFO] \t\t->\u001b[32mMean value: 0.5324+0.5045j +/- 0.0879\u001b[0m\n",
      "19_05_2025_00-14_28 [INFO] \u001b[32mCurrent time: 2.8800: 36/50\u001b[0m\n",
      "19_05_2025_00-14_28 [INFO] \t\t->\u001b[32mMean value: -0.2252+0.8409j +/- 0.0927\u001b[0m\n",
      "19_05_2025_00-14_28 [INFO] \u001b[32mCurrent time: 2.9600: 37/50\u001b[0m\n",
      "19_05_2025_00-14_29 [INFO] \t\t->\u001b[32mMean value: 0.5395+0.2191j +/- 0.0517\u001b[0m\n",
      "19_05_2025_00-14_29 [INFO] \u001b[32mCurrent time: 3.0400: 38/50\u001b[0m\n",
      "19_05_2025_00-14_29 [INFO] \t\t->\u001b[32mMean value: 1.1125+0.6162j +/- 0.0991\u001b[0m\n",
      "19_05_2025_00-14_29 [INFO] \u001b[32mCurrent time: 3.1200: 39/50\u001b[0m\n",
      "19_05_2025_00-14_29 [INFO] \t\t->\u001b[32mMean value: 6.6926-1.2744j +/- 0.7457\u001b[0m\n",
      "19_05_2025_00-14_29 [INFO] \u001b[32mCurrent time: 3.2000: 40/50\u001b[0m\n",
      "19_05_2025_00-14_30 [INFO] \t\t->\u001b[32mMean value: 0.0700+0.4331j +/- 0.0281\u001b[0m\n",
      "19_05_2025_00-14_30 [INFO] \u001b[32mCurrent time: 3.2800: 41/50\u001b[0m\n",
      "19_05_2025_00-14_31 [INFO] \t\t->\u001b[32mMean value: -0.0153+0.0177j +/- 0.5231\u001b[0m\n",
      "19_05_2025_00-14_31 [INFO] \u001b[32mCurrent time: 3.3600: 42/50\u001b[0m\n",
      "19_05_2025_00-14_31 [INFO] \t\t->\u001b[32mMean value: 0.2006-0.0447j +/- 0.0456\u001b[0m\n",
      "19_05_2025_00-14_31 [INFO] \u001b[32mCurrent time: 3.4400: 43/50\u001b[0m\n",
      "19_05_2025_00-14_32 [INFO] \t\t->\u001b[32mMean value: 0.0739-0.1901j +/- 0.0517\u001b[0m\n",
      "19_05_2025_00-14_32 [INFO] \u001b[32mCurrent time: 3.5200: 44/50\u001b[0m\n",
      "19_05_2025_00-14_32 [INFO] \t\t->\u001b[32mMean value: 0.2171+0.0124j +/- 0.0474\u001b[0m\n",
      "19_05_2025_00-14_32 [INFO] \u001b[32mCurrent time: 3.6000: 45/50\u001b[0m\n",
      "19_05_2025_00-14_33 [INFO] \t\t->\u001b[32mMean value: 0.3309-0.3290j +/- 0.1068\u001b[0m\n",
      "19_05_2025_00-14_33 [INFO] \u001b[32mCurrent time: 3.6800: 46/50\u001b[0m\n",
      "19_05_2025_00-14_33 [INFO] \t\t->\u001b[32mMean value: -0.0071-0.0031j +/- 0.6057\u001b[0m\n",
      "19_05_2025_00-14_33 [INFO] \u001b[32mCurrent time: 3.7600: 47/50\u001b[0m\n",
      "19_05_2025_00-14_34 [INFO] \t\t->\u001b[32mMean value: 0.2529-0.0047j +/- 0.0781\u001b[0m\n",
      "19_05_2025_00-14_34 [INFO] \u001b[32mCurrent time: 3.8400: 48/50\u001b[0m\n",
      "19_05_2025_00-14_34 [INFO] \t\t->\u001b[32mMean value: 0.2584-0.0055j +/- 0.0820\u001b[0m\n",
      "19_05_2025_00-14_34 [INFO] \u001b[32mCurrent time: 3.9200: 49/50\u001b[0m\n",
      "19_05_2025_00-14_35 [INFO] \t\t->\u001b[32mMean value: 0.2659-0.0058j +/- 0.0865\u001b[0m\n"
     ]
    }
   ],
   "source": [
    "# evolve\n",
    "from contextlib import contextmanager\n",
    "\n",
    "_nqs            = nqs\n",
    "_nqs.set_params(params_org)\n",
    "t_start         = 0.0\n",
    "t_num           = 50\n",
    "t_end           = t_start + dt * t_num\n",
    "current_time    = t_start\n",
    "timings         = {\n",
    "    'sample'   : [],\n",
    "    'step'     : [],\n",
    "    'update'   : [],\n",
    "    'evaluate' : [],\n",
    "}\n",
    "#! check operator evolution\n",
    "op              = sig_z_c\n",
    "mean_values     = []\n",
    "std_values      = []\n",
    "\n",
    "@contextmanager\n",
    "def _time(phase, funct, *args, **kwargs):\n",
    "    result, elapsed = timeit(funct, *args, **kwargs)\n",
    "    timings[phase].append(elapsed)\n",
    "    yield result\n",
    "\n",
    "_single_step = _nqs.wrap_single_step_jax()\n",
    "\n",
    "iterate = 0\n",
    "while current_time < t_end:\n",
    "\n",
    "    logger.info(f\"Current time: {current_time:.4f}: {iterate}/{t_num}\", color='green')\n",
    "\n",
    "    #! sampling\n",
    "    with _time(\"sample\", _nqs.sample, reset=False) as sample_out:\n",
    "        (_, _), (cfgs, cfgs_psi), probs = sample_out\n",
    "\n",
    "    #! energy + gradient\n",
    "    params = _nqs.get_params(unravel=True)\n",
    "    with _time(\"step\", ode_solver_t.step,\n",
    "                f               = tdvp_t,\n",
    "                y               = params,\n",
    "                t               = current_time,\n",
    "                est_fn          = _single_step,\n",
    "                configs         = cfgs,\n",
    "                configs_ansatze = cfgs_psi,\n",
    "                probabilities   = probs) as step_out:\n",
    "        dparams, _, (info, meta) = step_out\n",
    "\n",
    "    #! update\n",
    "    with _time(\"update\", _nqs.set_params, dparams,\n",
    "                shapes  = meta[0],\n",
    "                sizes   = meta[1],\n",
    "                iscpx   = meta[2]) as update_out:\n",
    "        pass\n",
    "    \n",
    "    #! evaluate observables\n",
    "    params = _nqs.get_params(unravel=False)\n",
    "    with _time(\"evaluate\", funct = _nqs.evaluate_fun_jax, \n",
    "                func           = op.jax,\n",
    "                states         = cfgs,\n",
    "                probabilities  = probs,\n",
    "                logproba_in    = cfgs_psi,\n",
    "                logproba_fun   = _nqs.ansatz,\n",
    "                parameters     = params,\n",
    "                batch_size     = 50,\n",
    "                ) as evaluate_out:\n",
    "        (vals, mean_op, sig_op) = evaluate_out\n",
    "        mean_values.append(mean_op)\n",
    "        std_values.append(sig_op)\n",
    "        logger.info(f\"Mean value: {mean_op:.4f} +/- {sig_op:.4f}\", color='green', lvl = 2)\n",
    "\n",
    "    #! update time\n",
    "    current_time += ode_solver_t.dt(0, 0)\n",
    "    iterate      += 1\n",
    "    "
   ]
  },
  {
   "cell_type": "code",
   "execution_count": 50,
   "id": "7208234a",
   "metadata": {},
   "outputs": [
    {
     "name": "stderr",
     "output_type": "stream",
     "text": [
      "/Users/makskliczkowski/miniconda3/lib/python3.12/site-packages/matplotlib/cbook.py:1719: ComplexWarning: Casting complex values to real discards the imaginary part\n",
      "  return math.isfinite(val)\n",
      "/Users/makskliczkowski/miniconda3/lib/python3.12/site-packages/matplotlib/cbook.py:1355: ComplexWarning: Casting complex values to real discards the imaginary part\n",
      "  return np.asarray(x, float)\n"
     ]
    },
    {
     "data": {
      "image/png": "[encoded data removed]",
      "text/plain": [
       "<Figure size 400x300 with 1 Axes>"
      ]
     },
     "metadata": {},
     "output_type": "display_data"
    }
   ],
   "source": [
    "fig, ax = Plotter.get_subplots(\n",
    "    nrows       = 1,\n",
    "    ncols       = 1,\n",
    "    figsize     = (4, 3),\n",
    "    dpi         = 100,\n",
    ")\n",
    "Plotter.plot(\n",
    "    ax      = ax[0],\n",
    "    x       = np.arange(0, len(mean_values)),\n",
    "    y       = np.array(mean_values),\n",
    ")"
   ]
  },
  {
   "cell_type": "code",
   "execution_count": 46,
   "id": "5b52bf71",
   "metadata": {},
   "outputs": [
    {
     "name": "stdout",
     "output_type": "stream",
     "text": [
      "19_05_2025_00-13_57 [INFO] \u001b[31mOperator(Sz/0-1, type_acting=Global, eigval=1.0, type=Other): ⟨O⟩ = (0.2410+0.0000j) ± (0.0665)  (N=1000)\u001b[0m\n",
      "19_05_2025_00-13_57 [INFO] \t\t->ref = 0.2386 - rel.err = 1.02 %\n",
      "19_05_2025_00-13_57 [INFO] \u001b[0mEnergy: E = (-2.6922e+01+4.5012e-02j) ± (2.4514) (N=1000)\u001b[0m\n",
      "None\n",
      "19_05_2025_00-13_57 [INFO] \u001b[32msample: 6.70e-02 s\u001b[0m\n",
      "19_05_2025_00-13_57 [INFO] \u001b[32mobs_0: 1.23e-03 s\u001b[0m\n",
      "19_05_2025_00-13_57 [INFO] \u001b[32menergy: 1.86e-02 s\u001b[0m\n"
     ]
    },
    {
     "data": {
      "image/png": "[encoded data removed]",
      "text/plain": [
       "<Figure size 480x360 with 2 Axes>"
      ]
     },
     "metadata": {},
     "output_type": "display_data"
    }
   ],
   "source": [
    "results, energy, timings = _nqs.eval_observables(\n",
    "    operators      = [sig_z_c],\n",
    "    true_values    = [ed_sig_z_exp_c],\n",
    "    n_chains       = n_chains,\n",
    "    n_samples      = n_samples,\n",
    "    batch_size     = 100,\n",
    "    logger         = logger,\n",
    "    plot           = True,\n",
    "    get_energy     = True,\n",
    "    bins           = 200,\n",
    "    true_en        = energy_0,\n",
    "    plot_kwargs    = {\n",
    "    }\n",
    ")"
   ]
  },
  {
   "cell_type": "code",
   "execution_count": null,
   "id": "73f4ba67",
   "metadata": {},
   "outputs": [],
   "source": []
  }
 ],
 "metadata": {
  "kernelspec": {
   "display_name": "base",
   "language": "python",
   "name": "python3"
  },
  "language_info": {
   "codemirror_mode": {
    "name": "ipython",
    "version": 3
   },
   "file_extension": ".py",
   "mimetype": "text/x-python",
   "name": "python",
   "nbconvert_exporter": "python",
   "pygments_lexer": "ipython3",
   "version": "3.12.2"
  }
 },
 "nbformat": 4,
 "nbformat_minor": 5
}
