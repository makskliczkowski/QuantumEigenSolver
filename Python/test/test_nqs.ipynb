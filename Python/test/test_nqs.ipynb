{
 "cells": [
  {
   "cell_type": "code",
   "execution_count": 1,
   "id": "31be730c",
   "metadata": {},
   "outputs": [
    {
     "name": "stdout",
     "output_type": "stream",
     "text": [
      "12_05_2025_15-10_58 [INFO] Log file created: ./log/QES_12_05_2025_15-10_58.log\n",
      "12_05_2025_15-10_58 [INFO] Log level set to: info\n",
      "12_05_2025_15-10_58 [INFO] ############Global logger initialized.############\n",
      "12_05_2025_15-10_59 [INFO] JAX backend available and successfully imported\n",
      "12_05_2025_15-10_59 [INFO] \tJAX 64-bit precision enabled.\n",
      "12_05_2025_15-10_59 [INFO] Setting JAX as the active backend.\n",
      "12_05_2025_15-10_59 [INFO] **************************************************\n",
      "12_05_2025_15-10_59 [INFO] Backend Configuration:\n",
      "12_05_2025_15-10_59 [INFO] \t\tNumPy Version: 1.26.4\n",
      "12_05_2025_15-10_59 [INFO] \t\tSciPy Version: 1.13.1\n",
      "12_05_2025_15-10_59 [INFO] \t\tJAX Version: 0.5.3\n",
      "12_05_2025_15-10_59 [INFO] \t\tActive Backend: jax\n",
      "12_05_2025_15-10_59 [INFO] \t\t\tJAX Available: True\n",
      "12_05_2025_15-10_59 [INFO] \t\t\tDefault Seed: 42\n",
      "12_05_2025_15-10_59 [INFO] \t\tJAX Backend Details:\n",
      "12_05_2025_15-10_59 [INFO] \t\t\t\tMain Module: jax.numpy\n",
      "12_05_2025_15-10_59 [INFO] \t\t\t\tRandom Module: jax.random (+ PRNGKey)\n",
      "12_05_2025_15-10_59 [INFO] \t\t\t\tSciPy Module: jax.scipy\n",
      "12_05_2025_15-10_59 [INFO] \t\t\t\tDefault JAX Key: PRNGKey(42)\n",
      "12_05_2025_15-10_59 [INFO] \t\tActive Data Types:\n",
      "12_05_2025_15-10_59 [INFO] \t\t\t\tInteger Type: int64\n",
      "12_05_2025_15-10_59 [INFO] \t\t\t\tFloat Type: float64\n",
      "12_05_2025_15-10_59 [INFO] \t\t\t\tComplex Type: complex128\n",
      "12_05_2025_15-10_59 [INFO] \t\tHardware & Device Detection:\n",
      "12_05_2025_15-10_59 [INFO] \t\t\tCPU Cores: 48\n",
      "12_05_2025_15-10_59 [INFO] \t\t\tDetected JAX Platform: DETECTION FAILED\n",
      "12_05_2025_15-10_59 [INFO] \t\tJAX Devices Found: Detection Failed or Not Run\n",
      "12_05_2025_15-10_59 [INFO] **************************************************\n",
      "\n",
      "\n",
      "\n",
      "12_05_2025_15-10_59 [INFO] JAX backend available and successfully imported\n",
      "12_05_2025_15-10_59 [INFO] \tJAX 64-bit precision enabled.\n",
      "12_05_2025_15-10_59 [INFO] Setting JAX as the active backend.\n",
      "12_05_2025_15-10_59 [INFO] **************************************************\n",
      "12_05_2025_15-10_59 [INFO] Backend Configuration:\n",
      "12_05_2025_15-10_59 [INFO] \t\tNumPy Version: 1.26.4\n",
      "12_05_2025_15-10_59 [INFO] \t\tSciPy Version: 1.13.1\n",
      "12_05_2025_15-10_59 [INFO] \t\tJAX Version: 0.5.3\n",
      "12_05_2025_15-10_59 [INFO] \t\tActive Backend: jax\n",
      "12_05_2025_15-10_59 [INFO] \t\t\tJAX Available: True\n",
      "12_05_2025_15-10_59 [INFO] \t\t\tDefault Seed: 42\n",
      "12_05_2025_15-10_59 [INFO] \t\tJAX Backend Details:\n",
      "12_05_2025_15-10_59 [INFO] \t\t\t\tMain Module: jax.numpy\n",
      "12_05_2025_15-10_59 [INFO] \t\t\t\tRandom Module: jax.random (+ PRNGKey)\n",
      "12_05_2025_15-10_59 [INFO] \t\t\t\tSciPy Module: jax.scipy\n",
      "12_05_2025_15-10_59 [INFO] \t\t\t\tDefault JAX Key: PRNGKey(42)\n",
      "12_05_2025_15-10_59 [INFO] \t\tActive Data Types:\n",
      "12_05_2025_15-10_59 [INFO] \t\t\t\tInteger Type: int64\n",
      "12_05_2025_15-10_59 [INFO] \t\t\t\tFloat Type: float64\n",
      "12_05_2025_15-10_59 [INFO] \t\t\t\tComplex Type: complex128\n",
      "12_05_2025_15-10_59 [INFO] \t\tHardware & Device Detection:\n",
      "12_05_2025_15-10_59 [INFO] \t\t\tCPU Cores: 48\n",
      "12_05_2025_15-10_59 [INFO] \t\t\tDetected JAX Platform: DETECTION FAILED\n",
      "12_05_2025_15-10_59 [INFO] \t\tJAX Devices Found: Detection Failed or Not Run\n",
      "12_05_2025_15-10_59 [INFO] **************************************************\n",
      "\n",
      "\n",
      "\n"
     ]
    }
   ],
   "source": [
    "import sys\n",
    "import os\n",
    "os.environ['JAX_PLATFORM_NAME'] = 'cpu'\n",
    "\n",
    "import numpy as np\n",
    "import time\n",
    "from typing import Union, List, Sequence, Optional\n",
    "from tqdm import trange\n",
    "\n",
    "# Add the parent directory (project root) to sys.path\n",
    "script_dir = os.path.dirname(os.curdir)\n",
    "parent_dir = os.path.abspath(os.path.join(script_dir, '..'))\n",
    "if parent_dir not in sys.path:\n",
    "    sys.path.append(parent_dir)\n",
    "\n",
    "# ------------------------------------------------------------------\n",
    "#! General\n",
    "import QES.general_python.common.binary as Binary\n",
    "from QES.general_python.algebra.utils import JAX_AVAILABLE, get_backend, get_global_logger\n",
    "from QES.general_python.common.plot import Plotter\n",
    "\n",
    "# ------------------------------------------------------------------\n",
    "#! Lattice\n",
    "from QES.general_python.lattices.lattice import LatticeBC, Lattice\n",
    "from QES.general_python.lattices.honeycomb import HoneycombLattice\n",
    "from QES.general_python.lattices.square import SquareLattice\n",
    "\n",
    "# ------------------------------------------------------------------\n",
    "#! Sampler\n",
    "import QES.Solver.MonteCarlo.sampler as Sampler\n",
    "import QES.NQS.nqs as NQS\n",
    "\n",
    "# ------------------------------------------------------------------\n",
    "#! Networks\n",
    "from QES.general_python.ml.net_impl.networks.net_rbm import RBM\n",
    "from QES.general_python.ml.net_impl.networks.net_cnn import CNN\n",
    "from QES.general_python.ml.net_impl.activation_functions import relu_jnp, tanh_jnp, sigmoid_jnp, leaky_relu_jnp, elu_jnp, poly6_jnp, softplus_jnp\n",
    "\n",
    "# ------------------------------------------------------------------\n",
    "#! Hamiltonians\n",
    "from QES.Algebra.Model.dummy import DummyHamiltonian\n",
    "from QES.Algebra.Model.Interacting.Spin.heisenberg_kitaev import HeisenbergKitaev\n",
    "from QES.Algebra.Model.Interacting.Spin.transverse_ising import TransverseFieldIsing\n",
    "\n",
    "# ------------------------------------------------------------------\n",
    "#! Linear algebra\n",
    "import QES.general_python.algebra.solvers.stochastic_rcnfg as SR\n",
    "import QES.general_python.algebra.solvers as solvers\n",
    "import QES.general_python.algebra.preconditioners as preconditioners\n",
    "\n",
    "# ------------------------------------------------------------------\n",
    "\n",
    "#! Spin operators\n",
    "import QES.Algebra.Operator.operators_spin as op_spin\n",
    "#! Fermionic operators\n",
    "import QES.Algebra.Operator.operators_spinless_fermions as op_sferm\n",
    "\n",
    "#! Backends\n",
    "if JAX_AVAILABLE:\n",
    "    import jax\n",
    "    import jax.numpy as jnp\n",
    "else:\n",
    "    jax = None\n",
    "    jnp = None\n",
    "\n",
    "# ------------------------------------------------------------------\n",
    "logger              = get_global_logger()\n",
    "backend             = 'jax'\n",
    "seed                = 1234\n",
    "dtypex              = jnp.complex128\n",
    "be_modules          = get_backend(backend, random=True, seed=seed, scipy=True)\n",
    "backend_np, (rng, rng_k), backend_sp = be_modules if isinstance(be_modules, tuple) else (be_modules, (None, None), None)"
   ]
  },
  {
   "cell_type": "markdown",
   "id": "a405c16b",
   "metadata": {},
   "source": [
    "### Lattice interface"
   ]
  },
  {
   "cell_type": "code",
   "execution_count": 29,
   "id": "362a1219",
   "metadata": {},
   "outputs": [
    {
     "data": {
      "text/plain": [
       "HON,LatticeBC.PBC,d=2,Ns=12,Lx=3,Ly=2,Lz=1"
      ]
     },
     "execution_count": 29,
     "metadata": {},
     "output_type": "execute_result"
    }
   ],
   "source": [
    "ham_dtype   = jnp.float64\n",
    "lx          = 3\n",
    "ly          = 2\n",
    "lattice     = SquareLattice(\n",
    "                    dim = 2, \n",
    "                    lx  = lx,\n",
    "                    ly  = ly,\n",
    "                    lz  = 1, \n",
    "                    bc  = LatticeBC.PBC\n",
    "                )\n",
    "lattice     = HoneycombLattice(\n",
    "                    dim = 2,\n",
    "                    lx  = lx,\n",
    "                    ly  = ly,\n",
    "                    lz  = 1,\n",
    "                    bc  = LatticeBC.PBC\n",
    "                )\n",
    "ns          = lattice.ns\n",
    "st_shape    = (ns, )\n",
    "\n",
    "lattice"
   ]
  },
  {
   "cell_type": "markdown",
   "id": "eef281c4",
   "metadata": {},
   "source": [
    "### Hamiltonian - Hamiltonian operator $H$ and its expectation value $\\langle H \\rangle$."
   ]
  },
  {
   "cell_type": "code",
   "execution_count": 30,
   "id": "f89ecad8",
   "metadata": {},
   "outputs": [
    {
     "name": "stdout",
     "output_type": "stream",
     "text": [
      "12_05_2025_12-26_46 [INFO] \t\t->\u001b[0m[Hamiltonian] The type of the lattice HON,LatticeBC.PBC,d=2,Ns=12,Lx=3,Ly=2,Lz=1 is not standard. Check your intentions...\u001b[0m\n",
      "12_05_2025_12-26_46 [INFO] \t\t->\u001b[0m[Heisenberg Kitaev Model] Adding non-modifying operator Operator(Sz/L, type_acting=Local, eigval=1.0, type=Other) at site 0 (sites: [0]) with multiplier -0.3\u001b[0m\n",
      "12_05_2025_12-26_46 [INFO] \t\t->\u001b[0m[Heisenberg Kitaev Model] Adding modifying operator Operator(Sx/L, type_acting=Local, eigval=1.0, type=Other) at site 0 (sites: [0]) with multiplier 0.5\u001b[0m\n",
      "12_05_2025_12-26_46 [INFO] \t\t->\u001b[0m[Heisenberg Kitaev Model] Adding non-modifying operator Operator(Sz/C, type_acting=Correlation, eigval=1.0, type=Other) at site 0 (sites: [0, 1]) with multiplier 1.0\u001b[0m\n",
      "12_05_2025_12-26_46 [INFO] \t\t->\u001b[0m[Heisenberg Kitaev Model] Adding modifying operator Operator(Sx/C, type_acting=Correlation, eigval=1.0, type=Other) at site 0 (sites: [0, 1]) with multiplier 1.0\u001b[0m\n",
      "12_05_2025_12-26_46 [INFO] \t\t->\u001b[0m[Heisenberg Kitaev Model] Adding modifying operator Operator(Sy/C, type_acting=Correlation, eigval=1.0, type=Other) at site 0 (sites: [0, 1]) with multiplier 2.0\u001b[0m\n",
      "12_05_2025_12-26_46 [INFO] \t\t->\u001b[0m[Heisenberg Kitaev Model] Adding non-modifying operator Operator(Sz/L, type_acting=Local, eigval=1.0, type=Other) at site 1 (sites: [1]) with multiplier -0.3\u001b[0m\n",
      "12_05_2025_12-26_46 [INFO] \t\t->\u001b[0m[Heisenberg Kitaev Model] Adding modifying operator Operator(Sx/L, type_acting=Local, eigval=1.0, type=Other) at site 1 (sites: [1]) with multiplier 0.5\u001b[0m\n",
      "12_05_2025_12-26_46 [INFO] \t\t->\u001b[0m[Heisenberg Kitaev Model] Adding non-modifying operator Operator(Sz/C, type_acting=Correlation, eigval=1.0, type=Other) at site 1 (sites: [1, 6]) with multiplier 1.0\u001b[0m\n",
      "12_05_2025_12-26_46 [INFO] \t\t->\u001b[0m[Heisenberg Kitaev Model] Adding modifying operator Operator(Sx/C, type_acting=Correlation, eigval=1.0, type=Other) at site 1 (sites: [1, 6]) with multiplier 2.0\u001b[0m\n",
      "12_05_2025_12-26_46 [INFO] \t\t->\u001b[0m[Heisenberg Kitaev Model] Adding modifying operator Operator(Sy/C, type_acting=Correlation, eigval=1.0, type=Other) at site 1 (sites: [1, 6]) with multiplier 1.0\u001b[0m\n",
      "12_05_2025_12-26_46 [INFO] \t\t->\u001b[0m[Heisenberg Kitaev Model] Adding non-modifying operator Operator(Sz/C, type_acting=Correlation, eigval=1.0, type=Other) at site 1 (sites: [1, 2]) with multiplier 2.0\u001b[0m\n",
      "12_05_2025_12-26_46 [INFO] \t\t->\u001b[0m[Heisenberg Kitaev Model] Adding modifying operator Operator(Sx/C, type_acting=Correlation, eigval=1.0, type=Other) at site 1 (sites: [1, 2]) with multiplier 1.0\u001b[0m\n",
      "12_05_2025_12-26_46 [INFO] \t\t->\u001b[0m[Heisenberg Kitaev Model] Adding modifying operator Operator(Sy/C, type_acting=Correlation, eigval=1.0, type=Other) at site 1 (sites: [1, 2]) with multiplier 1.0\u001b[0m\n",
      "12_05_2025_12-26_46 [INFO] \t\t->\u001b[0m[Heisenberg Kitaev Model] Adding non-modifying operator Operator(Sz/L, type_acting=Local, eigval=1.0, type=Other) at site 2 (sites: [2]) with multiplier -0.3\u001b[0m\n",
      "12_05_2025_12-26_46 [INFO] \t\t->\u001b[0m[Heisenberg Kitaev Model] Adding modifying operator Operator(Sx/L, type_acting=Local, eigval=1.0, type=Other) at site 2 (sites: [2]) with multiplier 0.5\u001b[0m\n",
      "12_05_2025_12-26_46 [INFO] \t\t->\u001b[0m[Heisenberg Kitaev Model] Adding non-modifying operator Operator(Sz/C, type_acting=Correlation, eigval=1.0, type=Other) at site 2 (sites: [2, 3]) with multiplier 1.0\u001b[0m\n",
      "12_05_2025_12-26_46 [INFO] \t\t->\u001b[0m[Heisenberg Kitaev Model] Adding modifying operator Operator(Sx/C, type_acting=Correlation, eigval=1.0, type=Other) at site 2 (sites: [2, 3]) with multiplier 1.0\u001b[0m\n",
      "12_05_2025_12-26_46 [INFO] \t\t->\u001b[0m[Heisenberg Kitaev Model] Adding modifying operator Operator(Sy/C, type_acting=Correlation, eigval=1.0, type=Other) at site 2 (sites: [2, 3]) with multiplier 2.0\u001b[0m\n",
      "12_05_2025_12-26_46 [INFO] \t\t->\u001b[0m[Heisenberg Kitaev Model] Adding non-modifying operator Operator(Sz/L, type_acting=Local, eigval=1.0, type=Other) at site 3 (sites: [3]) with multiplier -0.3\u001b[0m\n",
      "12_05_2025_12-26_46 [INFO] \t\t->\u001b[0m[Heisenberg Kitaev Model] Adding modifying operator Operator(Sx/L, type_acting=Local, eigval=1.0, type=Other) at site 3 (sites: [3]) with multiplier 0.5\u001b[0m\n",
      "12_05_2025_12-26_46 [INFO] \t\t->\u001b[0m[Heisenberg Kitaev Model] Adding non-modifying operator Operator(Sz/C, type_acting=Correlation, eigval=1.0, type=Other) at site 3 (sites: [3, 8]) with multiplier 1.0\u001b[0m\n",
      "12_05_2025_12-26_46 [INFO] \t\t->\u001b[0m[Heisenberg Kitaev Model] Adding modifying operator Operator(Sx/C, type_acting=Correlation, eigval=1.0, type=Other) at site 3 (sites: [3, 8]) with multiplier 2.0\u001b[0m\n",
      "12_05_2025_12-26_46 [INFO] \t\t->\u001b[0m[Heisenberg Kitaev Model] Adding modifying operator Operator(Sy/C, type_acting=Correlation, eigval=1.0, type=Other) at site 3 (sites: [3, 8]) with multiplier 1.0\u001b[0m\n",
      "12_05_2025_12-26_46 [INFO] \t\t->\u001b[0m[Heisenberg Kitaev Model] Adding non-modifying operator Operator(Sz/C, type_acting=Correlation, eigval=1.0, type=Other) at site 3 (sites: [3, 4]) with multiplier 2.0\u001b[0m\n",
      "12_05_2025_12-26_46 [INFO] \t\t->\u001b[0m[Heisenberg Kitaev Model] Adding modifying operator Operator(Sx/C, type_acting=Correlation, eigval=1.0, type=Other) at site 3 (sites: [3, 4]) with multiplier 1.0\u001b[0m\n",
      "12_05_2025_12-26_46 [INFO] \t\t->\u001b[0m[Heisenberg Kitaev Model] Adding modifying operator Operator(Sy/C, type_acting=Correlation, eigval=1.0, type=Other) at site 3 (sites: [3, 4]) with multiplier 1.0\u001b[0m\n",
      "12_05_2025_12-26_46 [INFO] \t\t->\u001b[0m[Heisenberg Kitaev Model] Adding non-modifying operator Operator(Sz/L, type_acting=Local, eigval=1.0, type=Other) at site 4 (sites: [4]) with multiplier -0.3\u001b[0m\n",
      "12_05_2025_12-26_46 [INFO] \t\t->\u001b[0m[Heisenberg Kitaev Model] Adding modifying operator Operator(Sx/L, type_acting=Local, eigval=1.0, type=Other) at site 4 (sites: [4]) with multiplier 0.5\u001b[0m\n",
      "12_05_2025_12-26_46 [INFO] \t\t->\u001b[0m[Heisenberg Kitaev Model] Adding non-modifying operator Operator(Sz/C, type_acting=Correlation, eigval=1.0, type=Other) at site 4 (sites: [4, 5]) with multiplier 1.0\u001b[0m\n",
      "12_05_2025_12-26_46 [INFO] \t\t->\u001b[0m[Heisenberg Kitaev Model] Adding modifying operator Operator(Sx/C, type_acting=Correlation, eigval=1.0, type=Other) at site 4 (sites: [4, 5]) with multiplier 1.0\u001b[0m\n",
      "12_05_2025_12-26_46 [INFO] \t\t->\u001b[0m[Heisenberg Kitaev Model] Adding modifying operator Operator(Sy/C, type_acting=Correlation, eigval=1.0, type=Other) at site 4 (sites: [4, 5]) with multiplier 2.0\u001b[0m\n",
      "12_05_2025_12-26_46 [INFO] \t\t->\u001b[0m[Heisenberg Kitaev Model] Adding non-modifying operator Operator(Sz/L, type_acting=Local, eigval=1.0, type=Other) at site 5 (sites: [5]) with multiplier -0.3\u001b[0m\n",
      "12_05_2025_12-26_46 [INFO] \t\t->\u001b[0m[Heisenberg Kitaev Model] Adding modifying operator Operator(Sx/L, type_acting=Local, eigval=1.0, type=Other) at site 5 (sites: [5]) with multiplier 0.5\u001b[0m\n",
      "12_05_2025_12-26_46 [INFO] \t\t->\u001b[0m[Heisenberg Kitaev Model] Adding non-modifying operator Operator(Sz/C, type_acting=Correlation, eigval=1.0, type=Other) at site 5 (sites: [5, 10]) with multiplier 1.0\u001b[0m\n",
      "12_05_2025_12-26_46 [INFO] \t\t->\u001b[0m[Heisenberg Kitaev Model] Adding modifying operator Operator(Sx/C, type_acting=Correlation, eigval=1.0, type=Other) at site 5 (sites: [5, 10]) with multiplier 2.0\u001b[0m\n",
      "12_05_2025_12-26_46 [INFO] \t\t->\u001b[0m[Heisenberg Kitaev Model] Adding modifying operator Operator(Sy/C, type_acting=Correlation, eigval=1.0, type=Other) at site 5 (sites: [5, 10]) with multiplier 1.0\u001b[0m\n",
      "12_05_2025_12-26_46 [INFO] \t\t->\u001b[0m[Heisenberg Kitaev Model] Adding non-modifying operator Operator(Sz/C, type_acting=Correlation, eigval=1.0, type=Other) at site 5 (sites: [5, 0]) with multiplier 2.0\u001b[0m\n",
      "12_05_2025_12-26_46 [INFO] \t\t->\u001b[0m[Heisenberg Kitaev Model] Adding modifying operator Operator(Sx/C, type_acting=Correlation, eigval=1.0, type=Other) at site 5 (sites: [5, 0]) with multiplier 1.0\u001b[0m\n",
      "12_05_2025_12-26_46 [INFO] \t\t->\u001b[0m[Heisenberg Kitaev Model] Adding modifying operator Operator(Sy/C, type_acting=Correlation, eigval=1.0, type=Other) at site 5 (sites: [5, 0]) with multiplier 1.0\u001b[0m\n",
      "12_05_2025_12-26_46 [INFO] \t\t->\u001b[0m[Heisenberg Kitaev Model] Adding non-modifying operator Operator(Sz/L, type_acting=Local, eigval=1.0, type=Other) at site 6 (sites: [6]) with multiplier -0.3\u001b[0m\n",
      "12_05_2025_12-26_46 [INFO] \t\t->\u001b[0m[Heisenberg Kitaev Model] Adding modifying operator Operator(Sx/L, type_acting=Local, eigval=1.0, type=Other) at site 6 (sites: [6]) with multiplier 0.5\u001b[0m\n",
      "12_05_2025_12-26_46 [INFO] \t\t->\u001b[0m[Heisenberg Kitaev Model] Adding non-modifying operator Operator(Sz/C, type_acting=Correlation, eigval=1.0, type=Other) at site 6 (sites: [6, 7]) with multiplier 1.0\u001b[0m\n",
      "12_05_2025_12-26_46 [INFO] \t\t->\u001b[0m[Heisenberg Kitaev Model] Adding modifying operator Operator(Sx/C, type_acting=Correlation, eigval=1.0, type=Other) at site 6 (sites: [6, 7]) with multiplier 1.0\u001b[0m\n",
      "12_05_2025_12-26_46 [INFO] \t\t->\u001b[0m[Heisenberg Kitaev Model] Adding modifying operator Operator(Sy/C, type_acting=Correlation, eigval=1.0, type=Other) at site 6 (sites: [6, 7]) with multiplier 2.0\u001b[0m\n",
      "12_05_2025_12-26_46 [INFO] \t\t->\u001b[0m[Heisenberg Kitaev Model] Adding non-modifying operator Operator(Sz/L, type_acting=Local, eigval=1.0, type=Other) at site 7 (sites: [7]) with multiplier -0.3\u001b[0m\n",
      "12_05_2025_12-26_46 [INFO] \t\t->\u001b[0m[Heisenberg Kitaev Model] Adding modifying operator Operator(Sx/L, type_acting=Local, eigval=1.0, type=Other) at site 7 (sites: [7]) with multiplier 0.5\u001b[0m\n",
      "12_05_2025_12-26_46 [INFO] \t\t->\u001b[0m[Heisenberg Kitaev Model] Adding non-modifying operator Operator(Sz/C, type_acting=Correlation, eigval=1.0, type=Other) at site 7 (sites: [7, 0]) with multiplier 1.0\u001b[0m\n",
      "12_05_2025_12-26_46 [INFO] \t\t->\u001b[0m[Heisenberg Kitaev Model] Adding modifying operator Operator(Sx/C, type_acting=Correlation, eigval=1.0, type=Other) at site 7 (sites: [7, 0]) with multiplier 2.0\u001b[0m\n",
      "12_05_2025_12-26_46 [INFO] \t\t->\u001b[0m[Heisenberg Kitaev Model] Adding modifying operator Operator(Sy/C, type_acting=Correlation, eigval=1.0, type=Other) at site 7 (sites: [7, 0]) with multiplier 1.0\u001b[0m\n",
      "12_05_2025_12-26_46 [INFO] \t\t->\u001b[0m[Heisenberg Kitaev Model] Adding non-modifying operator Operator(Sz/C, type_acting=Correlation, eigval=1.0, type=Other) at site 7 (sites: [7, 8]) with multiplier 2.0\u001b[0m\n",
      "12_05_2025_12-26_46 [INFO] \t\t->\u001b[0m[Heisenberg Kitaev Model] Adding modifying operator Operator(Sx/C, type_acting=Correlation, eigval=1.0, type=Other) at site 7 (sites: [7, 8]) with multiplier 1.0\u001b[0m\n",
      "12_05_2025_12-26_46 [INFO] \t\t->\u001b[0m[Heisenberg Kitaev Model] Adding modifying operator Operator(Sy/C, type_acting=Correlation, eigval=1.0, type=Other) at site 7 (sites: [7, 8]) with multiplier 1.0\u001b[0m\n",
      "12_05_2025_12-26_46 [INFO] \t\t->\u001b[0m[Heisenberg Kitaev Model] Adding non-modifying operator Operator(Sz/L, type_acting=Local, eigval=1.0, type=Other) at site 8 (sites: [8]) with multiplier -0.3\u001b[0m\n",
      "12_05_2025_12-26_46 [INFO] \t\t->\u001b[0m[Heisenberg Kitaev Model] Adding modifying operator Operator(Sx/L, type_acting=Local, eigval=1.0, type=Other) at site 8 (sites: [8]) with multiplier 0.5\u001b[0m\n",
      "12_05_2025_12-26_46 [INFO] \t\t->\u001b[0m[Heisenberg Kitaev Model] Adding non-modifying operator Operator(Sz/C, type_acting=Correlation, eigval=1.0, type=Other) at site 8 (sites: [8, 9]) with multiplier 1.0\u001b[0m\n",
      "12_05_2025_12-26_46 [INFO] \t\t->\u001b[0m[Heisenberg Kitaev Model] Adding modifying operator Operator(Sx/C, type_acting=Correlation, eigval=1.0, type=Other) at site 8 (sites: [8, 9]) with multiplier 1.0\u001b[0m\n",
      "12_05_2025_12-26_46 [INFO] \t\t->\u001b[0m[Heisenberg Kitaev Model] Adding modifying operator Operator(Sy/C, type_acting=Correlation, eigval=1.0, type=Other) at site 8 (sites: [8, 9]) with multiplier 2.0\u001b[0m\n",
      "12_05_2025_12-26_46 [INFO] \t\t->\u001b[0m[Heisenberg Kitaev Model] Adding non-modifying operator Operator(Sz/L, type_acting=Local, eigval=1.0, type=Other) at site 9 (sites: [9]) with multiplier -0.3\u001b[0m\n",
      "12_05_2025_12-26_46 [INFO] \t\t->\u001b[0m[Heisenberg Kitaev Model] Adding modifying operator Operator(Sx/L, type_acting=Local, eigval=1.0, type=Other) at site 9 (sites: [9]) with multiplier 0.5\u001b[0m\n",
      "12_05_2025_12-26_46 [INFO] \t\t->\u001b[0m[Heisenberg Kitaev Model] Adding non-modifying operator Operator(Sz/C, type_acting=Correlation, eigval=1.0, type=Other) at site 9 (sites: [9, 2]) with multiplier 1.0\u001b[0m\n",
      "12_05_2025_12-26_46 [INFO] \t\t->\u001b[0m[Heisenberg Kitaev Model] Adding modifying operator Operator(Sx/C, type_acting=Correlation, eigval=1.0, type=Other) at site 9 (sites: [9, 2]) with multiplier 2.0\u001b[0m\n",
      "12_05_2025_12-26_46 [INFO] \t\t->\u001b[0m[Heisenberg Kitaev Model] Adding modifying operator Operator(Sy/C, type_acting=Correlation, eigval=1.0, type=Other) at site 9 (sites: [9, 2]) with multiplier 1.0\u001b[0m\n",
      "12_05_2025_12-26_46 [INFO] \t\t->\u001b[0m[Heisenberg Kitaev Model] Adding non-modifying operator Operator(Sz/C, type_acting=Correlation, eigval=1.0, type=Other) at site 9 (sites: [9, 10]) with multiplier 2.0\u001b[0m\n",
      "12_05_2025_12-26_46 [INFO] \t\t->\u001b[0m[Heisenberg Kitaev Model] Adding modifying operator Operator(Sx/C, type_acting=Correlation, eigval=1.0, type=Other) at site 9 (sites: [9, 10]) with multiplier 1.0\u001b[0m\n",
      "12_05_2025_12-26_46 [INFO] \t\t->\u001b[0m[Heisenberg Kitaev Model] Adding modifying operator Operator(Sy/C, type_acting=Correlation, eigval=1.0, type=Other) at site 9 (sites: [9, 10]) with multiplier 1.0\u001b[0m\n",
      "12_05_2025_12-26_46 [INFO] \t\t->\u001b[0m[Heisenberg Kitaev Model] Adding non-modifying operator Operator(Sz/L, type_acting=Local, eigval=1.0, type=Other) at site 10 (sites: [10]) with multiplier -0.3\u001b[0m\n",
      "12_05_2025_12-26_46 [INFO] \t\t->\u001b[0m[Heisenberg Kitaev Model] Adding modifying operator Operator(Sx/L, type_acting=Local, eigval=1.0, type=Other) at site 10 (sites: [10]) with multiplier 0.5\u001b[0m\n",
      "12_05_2025_12-26_46 [INFO] \t\t->\u001b[0m[Heisenberg Kitaev Model] Adding non-modifying operator Operator(Sz/C, type_acting=Correlation, eigval=1.0, type=Other) at site 10 (sites: [10, 11]) with multiplier 1.0\u001b[0m\n",
      "12_05_2025_12-26_46 [INFO] \t\t->\u001b[0m[Heisenberg Kitaev Model] Adding modifying operator Operator(Sx/C, type_acting=Correlation, eigval=1.0, type=Other) at site 10 (sites: [10, 11]) with multiplier 1.0\u001b[0m\n",
      "12_05_2025_12-26_46 [INFO] \t\t->\u001b[0m[Heisenberg Kitaev Model] Adding modifying operator Operator(Sy/C, type_acting=Correlation, eigval=1.0, type=Other) at site 10 (sites: [10, 11]) with multiplier 2.0\u001b[0m\n",
      "12_05_2025_12-26_46 [INFO] \t\t->\u001b[0m[Heisenberg Kitaev Model] Adding non-modifying operator Operator(Sz/L, type_acting=Local, eigval=1.0, type=Other) at site 11 (sites: [11]) with multiplier -0.3\u001b[0m\n",
      "12_05_2025_12-26_46 [INFO] \t\t->\u001b[0m[Heisenberg Kitaev Model] Adding modifying operator Operator(Sx/L, type_acting=Local, eigval=1.0, type=Other) at site 11 (sites: [11]) with multiplier 0.5\u001b[0m\n",
      "12_05_2025_12-26_46 [INFO] \t\t->\u001b[0m[Heisenberg Kitaev Model] Adding non-modifying operator Operator(Sz/C, type_acting=Correlation, eigval=1.0, type=Other) at site 11 (sites: [11, 4]) with multiplier 1.0\u001b[0m\n",
      "12_05_2025_12-26_46 [INFO] \t\t->\u001b[0m[Heisenberg Kitaev Model] Adding modifying operator Operator(Sx/C, type_acting=Correlation, eigval=1.0, type=Other) at site 11 (sites: [11, 4]) with multiplier 2.0\u001b[0m\n",
      "12_05_2025_12-26_46 [INFO] \t\t->\u001b[0m[Heisenberg Kitaev Model] Adding modifying operator Operator(Sy/C, type_acting=Correlation, eigval=1.0, type=Other) at site 11 (sites: [11, 4]) with multiplier 1.0\u001b[0m\n",
      "12_05_2025_12-26_46 [INFO] \t\t->\u001b[0m[Heisenberg Kitaev Model] Adding non-modifying operator Operator(Sz/C, type_acting=Correlation, eigval=1.0, type=Other) at site 11 (sites: [11, 6]) with multiplier 2.0\u001b[0m\n",
      "12_05_2025_12-26_46 [INFO] \t\t->\u001b[0m[Heisenberg Kitaev Model] Adding modifying operator Operator(Sx/C, type_acting=Correlation, eigval=1.0, type=Other) at site 11 (sites: [11, 6]) with multiplier 1.0\u001b[0m\n",
      "12_05_2025_12-26_46 [INFO] \t\t->\u001b[0m[Heisenberg Kitaev Model] Adding modifying operator Operator(Sy/C, type_acting=Correlation, eigval=1.0, type=Other) at site 11 (sites: [11, 6]) with multiplier 1.0\u001b[0m\n",
      "12_05_2025_12-26_46 [INFO] \t->\u001b[0m[Heisenberg Kitaev Model] Successfully set local energy operators...\u001b[0m\n",
      "12_05_2025_12-26_46 [INFO] \u001b[31m#####################################################################Hamiltonian#####################################################################\u001b[0m\n",
      "12_05_2025_12-26_46 [INFO] \t\t\t->\u001b[0m[Heisenberg Kitaev Model] JAX is available but NumPy is forced...\u001b[0m\n",
      "12_05_2025_12-26_46 [INFO] \t\t->\u001b[0m[Heisenberg Kitaev Model] Calculating the Hamiltonian matrix using NumPy...\u001b[0m\n",
      "12_05_2025_12-26_48 [INFO] \u001b[32mTime to build Hamiltonian: 2.26 seconds\u001b[0m\n",
      "12_05_2025_12-26_54 [INFO] \u001b[34mTime to diagonalize Hamiltonian: 5.51 seconds\u001b[0m\n"
     ]
    }
   ],
   "source": [
    "model = 'kitaev'\n",
    "\n",
    "if model == 'kitaev':\n",
    "    hamil = HeisenbergKitaev(lattice    = lattice,\n",
    "                        hilbert_space   = None,\n",
    "                        hx              = 0.5,\n",
    "                        hz              = -0.3,\n",
    "                        kx              = 1.0,\n",
    "                        ky              = 1.0,\n",
    "                        kz              = 1.0,\n",
    "                        j               = 1.0,\n",
    "                        dlt             = 1.0,\n",
    "                        dtype           = jnp.float64,\n",
    "                        backend         = backend)\n",
    "\n",
    "else:\n",
    "    hamil = TransverseFieldIsing(\n",
    "                        lattice        = lattice,\n",
    "                        hilbert_space  = None,\n",
    "                        hx             = 0.5,\n",
    "                        hz             = -0.3,\n",
    "                        dtype          = jnp.float64,\n",
    "                        backend        = backend\n",
    "                )\n",
    "logger.title('Hamiltonian', desired_size=150, fill='#', color='red')\n",
    "\n",
    "#######\n",
    "\n",
    "if hamil.hilbert_size <= 2**20:\n",
    "    time0   = time.time()\n",
    "    hamil.build(use_numpy=True)\n",
    "    time1   = time.time()\n",
    "    logger.info(f\"Time to build Hamiltonian: {time1 - time0:.2f} seconds\", color='green')\n",
    "    \n",
    "    if hamil.hilbert_size <= 2**12:\n",
    "        hamil.diagonalize()\n",
    "    else:\n",
    "        hamil.diagonalize(method = 'lanczos', k = 50)\n",
    "    time2   = time.time()\n",
    "    logger.info(f\"Time to diagonalize Hamiltonian: {time2 - time1:.2f} seconds\", color='blue')\n",
    "    eigv    = hamil.get_eigval()\n",
    "else:\n",
    "    eigv = None"
   ]
  },
  {
   "cell_type": "markdown",
   "id": "6dc5eb0a",
   "metadata": {},
   "source": [
    "#### Plot if needed"
   ]
  },
  {
   "cell_type": "code",
   "execution_count": 31,
   "id": "48b0321a",
   "metadata": {},
   "outputs": [
    {
     "data": {
      "image/png": "[encoded data removed]",
      "text/plain": [
       "<Figure size 400x300 with 1 Axes>"
      ]
     },
     "metadata": {},
     "output_type": "display_data"
    }
   ],
   "source": [
    "if eigv is not None:\n",
    "    fig, ax = Plotter.get_subplots(\n",
    "        nrows       = 1,\n",
    "        ncols       = 1,\n",
    "        figsize     = (4, 3),\n",
    "        dpi         = 100,\n",
    "    )\n",
    "    x   = np.arange(0, len(eigv))\n",
    "    y   = eigv\n",
    "    ax[0].plot(x, y, 'o', markersize=2)\n",
    "    ax[0].set_xlabel('Index')\n",
    "    ax[0].set_ylabel('Eigenvalue')\n",
    "    ax[0].axhline(eigv[0], color='r', linestyle='--', label=f'Ground state {eigv[0]:.3e}')\n",
    "    ax[0].legend()"
   ]
  },
  {
   "cell_type": "markdown",
   "id": "7579bc28",
   "metadata": {},
   "source": [
    "### Network - variational ansatz body $\\psi _\\theta (s)$ and its gradient $\\nabla \\psi _\\theta (s)$."
   ]
  },
  {
   "cell_type": "code",
   "execution_count": 32,
   "id": "c90ee629",
   "metadata": {},
   "outputs": [
    {
     "name": "stdout",
     "output_type": "stream",
     "text": [
      "12_05_2025_12-26_54 [INFO] \t->\u001b[34m[GeneralNet] Holomorphic check result (||∇Re[f] - i*∇Im[f]|| / ||∇Re[f]|| ≈ 0): True\u001b[0m\n",
      "12_05_2025_12-26_54 [INFO] \t->\u001b[34m[GeneralNet] FlaxInterface initialized: dtype=complex128, is_complex=True, nparams=936, is_holomorphic=True\u001b[0m\n"
     ]
    },
    {
     "data": {
      "text/plain": [
       "ComplexRBM(shape=(12,), hidden=72, bias=on, visible_bias=off, dtype=complex128, params=936, analytic_grad=False, initialized)"
      ]
     },
     "execution_count": 32,
     "metadata": {},
     "output_type": "execute_result"
    }
   ],
   "source": [
    "network = 'rbm'\n",
    "# network = 'cnn'\n",
    "alpha   = 6\n",
    "mult    = lattice.ns // (lx * ly)\n",
    "if network == 'rbm':\n",
    "    net = RBM(\n",
    "        input_shape     = st_shape, \n",
    "        n_hidden        = int(alpha * ns),\n",
    "        dtype           = dtypex,\n",
    "        seed            = seed,\n",
    "        visible_bias    = False,\n",
    "        bias            = True,\n",
    "    )\n",
    "else:\n",
    "    net     = CNN(\n",
    "        input_shape         = st_shape,\n",
    "        reshape_dims        = (lx, ly * mult),\n",
    "        features            = (8,) * alpha,\n",
    "        kernel_sizes        = [(3, 3)] * alpha,\n",
    "        activations         = [elu_jnp] * alpha,\n",
    "        dtype               = dtypex,\n",
    "        param_dtype         = dtypex,\n",
    "        final_activation    = elu_jnp,\n",
    "        seed                = seed,\n",
    "        output_shape        = (1,)\n",
    "    )\n",
    "net"
   ]
  },
  {
   "cell_type": "markdown",
   "id": "8079b2cb",
   "metadata": {},
   "source": [
    "### Sampler - sampling from the distribution $p_\\theta (s)$."
   ]
  },
  {
   "cell_type": "code",
   "execution_count": 33,
   "id": "9c866d71",
   "metadata": {},
   "outputs": [
    {
     "data": {
      "text/plain": [
       "MCSampler(shape=(12,), mu=2.0, beta=1.0, therm_steps=25, sweep_steps=12, numsamples=200, numchains=5, backend=jax)"
      ]
     },
     "execution_count": 33,
     "metadata": {},
     "output_type": "execute_result"
    }
   ],
   "source": [
    "n_chains        = 5\n",
    "n_samples       = 200\n",
    "n_therm_steps   = 25\n",
    "sampler = Sampler.MCSampler(\n",
    "                net             = net,\n",
    "                shape           = st_shape,\n",
    "                rng             = rng,\n",
    "                rng_k           = rng_k,\n",
    "                numchains       = n_chains,\n",
    "                numsamples      = n_samples,\n",
    "                sweep_steps     = ns,\n",
    "                backend         = backend_np,\n",
    "                therm_steps     = n_therm_steps,\n",
    "                mu              = 2.0,\n",
    "                seed            = seed\n",
    "            )\n",
    "sampler"
   ]
  },
  {
   "cell_type": "markdown",
   "id": "7ccd506f",
   "metadata": {},
   "source": [
    "### NQS - neural network quantum state $\\psi_\\theta (s)$ and its gradient $\\nabla \\psi_\\theta (s)$."
   ]
  },
  {
   "cell_type": "code",
   "execution_count": 72,
   "id": "cb454579",
   "metadata": {},
   "outputs": [
    {
     "name": "stdout",
     "output_type": "stream",
     "text": [
      "12_05_2025_12-41_07 [INFO] \t->\u001b[33m[Jacobi Preconditioner] Resetting backend to: jax\u001b[0m\n",
      "12_05_2025_12-41_07 [INFO] \t\t->\u001b[33m[Jacobi Preconditioner] JIT compiling apply_gram(r, S, Sp, ...) function...\u001b[0m\n"
     ]
    },
    {
     "data": {
      "text/plain": [
       "(CgSolverScipy(type=SCIPY_CG, backend='jax'),\n",
       " Jacobi Preconditioner(sigma=0.0, backend='jax', type=PreconditionersTypeSym.JACOBI, tol_small=1e-13))"
      ]
     },
     "execution_count": 72,
     "metadata": {},
     "output_type": "execute_result"
    }
   ],
   "source": [
    "n_epo           = 1000\n",
    "lr              = 0.05\n",
    "n_hidden        = 2*ns\n",
    "n_sweep_steps   = ns\n",
    "n_batch         = 1\n",
    "\n",
    "# Other\n",
    "reg             = 5\n",
    "maxiter         = 1000\n",
    "tolerance       = 1e-8\n",
    "use_min_sr      = False\n",
    "\n",
    "# Solver\n",
    "solver_id       = solvers.SolverType.SCIPY_CG\n",
    "precond_id      = preconditioners.PreconditionersTypeSym.JACOBI\n",
    "solver          = solvers.choose_solver(solver_id=solver_id, sigma=reg)\n",
    "precond         = preconditioners.choose_precond(precond_id=precond_id, backend=backend)\n",
    "precond_apply   = precond.get_apply_gram()\n",
    "\n",
    "# Stochastic Reconfiguration\n",
    "sr_options      = SR.SRParams(\n",
    "                    min_sr        = use_min_sr,\n",
    "                    maxiter       = maxiter,\n",
    "                    tol           = tolerance,\n",
    "                    reg           = reg,\n",
    "                    solver_form_s = False\n",
    "                )\n",
    "solver_linalg_func = solver.get_solver_func(\n",
    "                        backend_module = backend_np,\n",
    "                        use_matvec     = False,\n",
    "                        use_matrix     = False,\n",
    "                        use_fisher     = True,\n",
    "                        sigma          = None\n",
    "                    )\n",
    "\n",
    "#! Functions\n",
    "solver_fun      = solver_linalg_func\n",
    "precond_fun     = precond_apply\n",
    "\n",
    "solver, precond"
   ]
  },
  {
   "cell_type": "code",
   "execution_count": 73,
   "id": "1f68f7f5",
   "metadata": {},
   "outputs": [
    {
     "data": {
      "text/plain": [
       "[1] I am a NQS object with a general Monte Carlo Solver at β =  1.00."
      ]
     },
     "execution_count": 73,
     "metadata": {},
     "output_type": "execute_result"
    }
   ],
   "source": [
    "nqs =   NQS.NQS(\n",
    "            net             = net,\n",
    "            sampler         = sampler,\n",
    "            hamiltonian     = hamil,\n",
    "            lower_betas     = None,\n",
    "            lower_states    = None,\n",
    "            seed            = seed,\n",
    "            beta            = 1.0,\n",
    "            mu              = sampler.get_mu(),\n",
    "            shape           = st_shape,\n",
    "            backend         = backend_np,\n",
    "            nthread         = 1,\n",
    "            batch_size      = n_batch,\n",
    "        )\n",
    "ansatz          = nqs.ansatz\n",
    "loc_energy      = nqs.local_energy\n",
    "flat_grad       = nqs.flat_grad\n",
    "nqs"
   ]
  },
  {
   "cell_type": "markdown",
   "id": "a36a6f8f",
   "metadata": {},
   "source": [
    "### Test the training of the NQS with a simple Hamiltonian."
   ]
  },
  {
   "cell_type": "code",
   "execution_count": 74,
   "id": "e84020e7",
   "metadata": {},
   "outputs": [],
   "source": [
    "def _single_step_jax(params, configs, configs_ansatze, probabilities):\n",
    "    #! Single step in the NQS (includes ansatz evaluation, local energy computation, and gradient calculation)\n",
    "    dpar, step_info, (shapes, sizes, iscpx) = nqs.single_step_jax(\n",
    "                            params               = params,\n",
    "                            configs              = configs,\n",
    "                            configs_ansatze      = configs_ansatze,\n",
    "                            probabilities        = probabilities,\n",
    "                            apply_fn             = ansatz,\n",
    "                            local_energy_fun     = loc_energy,\n",
    "                            flat_grad_fun        = flat_grad,\n",
    "                            #! Stochastic reconfiguration options\n",
    "                            use_sr               = True,\n",
    "                            sr_options           = sr_options,\n",
    "                            sr_precond_apply_fun = precond_fun,\n",
    "                            sr_solve_linalg_fun  = solver_fun,\n",
    "                        )\n",
    "    return dpar, step_info, (shapes, sizes, iscpx)\n",
    "\n",
    "#! force compilation\n",
    "(_, _), (configs, configs_ansatze), probabilities = nqs.sample(reset=True)\n",
    "single_step_jax = jax.jit(_single_step_jax)\n",
    "dummy           = single_step_jax(params=nqs.get_params(), configs=configs, configs_ansatze=configs_ansatze, probabilities=probabilities)\n",
    "# ---\n",
    "#! timeit\n",
    "def _timeit(fn, **kwargs):\n",
    "    \"\"\"Utility: run fn(*args, **kwargs) and return (result, elapsed_seconds).\"\"\"\n",
    "    t0      = time.time()\n",
    "    res     = fn(**kwargs)\n",
    "    # If JAX DeviceArray or tuple thereof, block until ready for accurate timing\n",
    "    if hasattr(res, \"block_until_ready\"):\n",
    "        res.block_until_ready()\n",
    "    elif isinstance(res, tuple):\n",
    "        for x in res:\n",
    "            if hasattr(x, \"block_until_ready\"):\n",
    "                x.block_until_ready()\n",
    "    return res, time.time() - t0\n",
    "\n",
    "#! Training\n",
    "def single_step_train(i: int, lr: float, reset: bool=False):\n",
    "    # 1) Sampling\n",
    "    ((_, _), (configs, configs_ansatze), probabilities), t_sample = _timeit(nqs.sample, reset=reset)\n",
    "    # (_, _), (configs, configs_ansatze), probabilities = nqs.sample(reset=reset)\n",
    "\n",
    "    # 2) Energy + gradient (JIT-compiled)\n",
    "    params = nqs.get_params()\n",
    "    (dpar, step_info, (shapes, sizes, iscpx)), t_step = _timeit(_single_step_jax,\n",
    "                                        params=params, configs=configs, configs_ansatze=configs_ansatze, probabilities=probabilities)\n",
    "\n",
    "    if step_info.failed:\n",
    "        logger.error(f\"Step {i} failed.\")\n",
    "        return None, None, (t_sample, t_step, 0.0)\n",
    "\n",
    "    # 3) Parameter update\n",
    "    _, t_update = _timeit(nqs.update_parameters, d_par=dpar, mult=-lr, shapes=shapes, sizes=sizes, iscpx=iscpx)\n",
    "    return (step_info.mean_energy, step_info.std_energy), (t_sample, t_step, t_update)\n",
    "\n",
    "def train_function(n_epo     : int,\n",
    "                lr           : float = 7e-2,\n",
    "                decay_rate   : float = 0.999,\n",
    "                lr_floor     : float = 5e-3,\n",
    "                reset        : bool = False):\n",
    "\n",
    "    history      = np.zeros(n_epo, dtype=np.float64)\n",
    "    history_std  = np.zeros(n_epo, dtype=np.float64)\n",
    "    times_samp   = np.zeros(n_epo, dtype=np.float64)\n",
    "    times_step   = np.zeros(n_epo, dtype=np.float64)\n",
    "    times_update = np.zeros(n_epo, dtype=np.float64)\n",
    "    pbar         = trange(n_epo, desc=\"Training\", leave=True)\n",
    "\n",
    "    for i in pbar:\n",
    "        current_lr = max(lr_floor, lr * (decay_rate ** i))\n",
    "\n",
    "        (mean_E, std_E), (t_s, t_st, t_u) = single_step_train(i, current_lr, reset)\n",
    "        if mean_E is None:\n",
    "            logger.warning(f\"Stopped at epoch {i} due to failure.\")\n",
    "            break\n",
    "\n",
    "        # Log & display\n",
    "        times_samp[i], times_step[i], times_update[i]   = t_s, t_st, t_u\n",
    "        history[i], history_std[i]                      = np.real(mean_E), np.real(std_E)\n",
    "\n",
    "        pbar.set_postfix({\n",
    "            \"E_mean\"        :  f\"{mean_E:.4e}\",\n",
    "            \"lr\"            :  f\"{current_lr:.1e}\",\n",
    "            \"t_sample\"      :  f\"{t_s:.3e}s\",\n",
    "            \"t_step\"        :  f\"{t_st:.3e}s\",\n",
    "            \"t_update\"      :  f\"{t_u:.3e}s\",\n",
    "            \"t_tot\"         :  f\"{(t_s+t_st+t_u):.3e}s\",\n",
    "        }, refresh=True)\n",
    "\n",
    "        if np.isnan(mean_E) or np.isnan(std_E):\n",
    "            logger.warning(f\"NaN detected at epoch {i}.\")\n",
    "            break\n",
    "\n",
    "    # At the end, you can quickly see where time went:\n",
    "    total = times_samp + times_step + times_update\n",
    "    print(\"Time breakdown (fraction of total):\")\n",
    "    print(f\"-sampling: {times_samp.sum()/total.sum():.2%}\")\n",
    "    print(f\"-compute:  {times_step.sum()/total.sum():.2%}\")\n",
    "    print(f\"-update:   {times_update.sum()/total.sum():.2%}\")\n",
    "\n",
    "    return (history[:i+1],\n",
    "            history_std[:i+1],\n",
    "            total[:i+1])"
   ]
  },
  {
   "cell_type": "code",
   "execution_count": 76,
   "id": "6cf9e9d1",
   "metadata": {},
   "outputs": [
    {
     "name": "stderr",
     "output_type": "stream",
     "text": [
      "Training: 100%|██████████| 1000/1000 [05:14<00:00,  3.17it/s, E_mean=-8.2264e+00+2.8406e-02j, lr=1.8e-02, t_sample=1.432e-01s, t_step=1.217e-01s, t_update=2.549e-04s, t_tot=2.652e-01s]"
     ]
    },
    {
     "name": "stdout",
     "output_type": "stream",
     "text": [
      "Time breakdown (fraction of total):\n",
      "-sampling: 46.02%\n",
      "-compute:  53.90%\n",
      "-update:   0.08%\n"
     ]
    },
    {
     "name": "stderr",
     "output_type": "stream",
     "text": [
      "\n"
     ]
    }
   ],
   "source": [
    "history, history_std, epoch_times = train_function(n_epo    = n_epo,\n",
    "            lr          = lr,\n",
    "            reset       = False,\n",
    "            decay_rate  = 0.999\n",
    "            )"
   ]
  },
  {
   "cell_type": "code",
   "execution_count": 77,
   "id": "5ad76415",
   "metadata": {},
   "outputs": [
    {
     "data": {
      "image/png": "[encoded data removed]",
      "text/plain": [
       "<Figure size 750x900 with 3 Axes>"
      ]
     },
     "metadata": {},
     "output_type": "display_data"
    }
   ],
   "source": [
    "energies        = history[~np.isnan(history)]\n",
    "energies_std    = history_std[~np.isnan(history_std)]\n",
    "fig, ax         = Plotter.get_subplots(nrows=3, ncols=1, figsize=(5, 6), dpi=150, sharex=True)\n",
    "Plotter.plot(ax[0], x=np.arange(len(energies)), y=np.real(energies), marker=\"o\", markersize=0.5, lw=1)\n",
    "if eigv is not None:\n",
    "    ax[0].axhline(eigv[0], color='r', linestyle='--', label=f'Ground state {eigv[0]:.3e}')\n",
    "    ax[0].legend()\n",
    "Plotter.set_ax_params(ax[0], title=\"Training Progress\", ylabel=r\"$E$\")\n",
    "Plotter.set_tickparams(ax[0], maj_tick_l=2, min_tick_l=1)\n",
    "\n",
    "\n",
    "Plotter.plot(ax[1], x=np.arange(len(energies_std)), y=np.real(energies_std), marker=\"o\", markersize=0.5, lw=1)\n",
    "Plotter.set_ax_params(ax[1], ylabel=r\"$\\sigma_E$\")\n",
    "Plotter.set_tickparams(ax[1], maj_tick_l=2, min_tick_l=1)\n",
    "\n",
    "Plotter.plot(ax[2], x=np.arange(len(epoch_times)), y=np.real(epoch_times), marker=\"o\", markersize=0.5, lw=1)\n",
    "Plotter.set_ax_params(ax[2], xlabel=\"Epoch\", ylabel=r\"$t_{epoch} [s]$\", yscale=\"log\")"
   ]
  },
  {
   "cell_type": "code",
   "execution_count": null,
   "id": "e562d568",
   "metadata": {},
   "outputs": [],
   "source": []
  }
 ],
 "metadata": {
  "kernelspec": {
   "display_name": "base",
   "language": "python",
   "name": "python3"
  },
  "language_info": {
   "codemirror_mode": {
    "name": "ipython",
    "version": 3
   },
   "file_extension": ".py",
   "mimetype": "text/x-python",
   "name": "python",
   "nbconvert_exporter": "python",
   "pygments_lexer": "ipython3",
   "version": "3.11.11"
  }
 },
 "nbformat": 4,
 "nbformat_minor": 5
}
