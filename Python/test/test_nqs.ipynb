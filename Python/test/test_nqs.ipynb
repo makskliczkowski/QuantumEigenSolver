{
 "cells": [
  {
   "cell_type": "code",
   "execution_count": null,
   "id": "31be730c",
   "metadata": {},
   "outputs": [],
   "source": [
    "import sys\n",
    "import os\n",
    "# os.environ['JAX_PLATFORM_NAME'] = 'cpu'\n",
    "\n",
    "import numpy as np\n",
    "import time\n",
    "\n",
    "# Add the parent directory (project root) to sys.path\n",
    "script_dir = os.path.dirname(os.curdir)\n",
    "parent_dir = os.path.abspath(os.path.join(script_dir, '..'))\n",
    "if parent_dir not in sys.path:\n",
    "    sys.path.append(parent_dir)\n",
    "\n",
    "# ------------------------------------------------------------------\n",
    "#! General\n",
    "import QES.general_python.common.binary as Binary\n",
    "from QES.general_python.common.timer import Timer, timeit\n",
    "from QES.general_python.common.binary import JAX_AVAILABLE, get_backend, get_global_logger\n",
    "from QES.general_python.common.plot import Plotter, MatrixPrinter\n",
    "\n",
    "# ------------------------------------------------------------------\n",
    "#! Lattice\n",
    "from QES.general_python.lattices import choose_lattice, plot_bonds\n",
    "\n",
    "# ------------------------------------------------------------------\n",
    "#! Sampler\n",
    "import QES.Solver.MonteCarlo.sampler as Sampler\n",
    "import QES.NQS.nqs as NQS\n",
    "import QES.NQS.nqs_train as NQST\n",
    "import QES.NQS.tdvp as TDVP\n",
    "from QES.general_python.ml.schedulers import EarlyStopping, ConstantScheduler, ExponentialDecayScheduler\n",
    "\n",
    "# ------------------------------------------------------------------\n",
    "#! ODE solver\n",
    "from QES.general_python.algebra.ode import choose_ode\n",
    "\n",
    "# ------------------------------------------------------------------\n",
    "#! Networks\n",
    "from QES.general_python.ml.net_impl.networks.net_rbm import RBM\n",
    "from QES.general_python.ml.net_impl.networks.net_cnn import CNN\n",
    "from QES.general_python.ml.net_impl.activation_functions import relu_jnp, tanh_jnp, sigmoid_jnp, leaky_relu_jnp, elu_jnp, poly6_jnp, softplus_jnp\n",
    "\n",
    "# ------------------------------------------------------------------\n",
    "#! Hamiltonians\n",
    "from QES.general_python.algebra.linalg import act, overlap\n",
    "from QES.Algebra.Model.dummy import DummyHamiltonian\n",
    "from QES.Algebra.Model.Interacting.Spin.heisenberg_kitaev import HeisenbergKitaev\n",
    "from QES.Algebra.Model.Interacting.Spin.transverse_ising import TransverseFieldIsing\n",
    "\n",
    "# ------------------------------------------------------------------\n",
    "#! Linear algebra\n",
    "import QES.general_python.algebra.solvers.stochastic_rcnfg as SR\n",
    "import QES.general_python.algebra.solvers as solvers\n",
    "import QES.general_python.algebra.preconditioners as preconditioners\n",
    "\n",
    "# ------------------------------------------------------------------\n",
    "\n",
    "#! Spin operators\n",
    "import QES.Algebra.Operator.operators_spin as op_spin\n",
    "#! Fermionic operators\n",
    "import QES.Algebra.Operator.operators_spinless_fermions as op_sferm\n",
    "\n",
    "#! Backends\n",
    "if JAX_AVAILABLE:\n",
    "    import jax\n",
    "    import jax.numpy as jnp\n",
    "else:\n",
    "    jax = None\n",
    "    jnp = None\n",
    "    \n",
    "# ------------------------------------------------------------------\n",
    "lattice_type        = 'honeycomb'\n",
    "# lattice_type        = 'square'\n",
    "lx, ly, lz          = 8, 4, 1\n",
    "# lx, ly, lz          = 10, 1, 1\n",
    "# ------------------------------------------------------------------\n",
    "scheduler           = 'ExponentialDecay'\n",
    "ode_solver_type     = 'Euler'\n",
    "# ode_solver_type   = 'Heun'\n",
    "# ode_solver_type   = 'AdaptiveHeun'\n",
    "# ode_solver_type   = 'RK4'\n",
    "lr                  = 0.1 # is also dt\n",
    "# ------------------------------------------------------------------\n",
    "network_type        = 'RBM'\n",
    "# network_type        = 'CNN'\n",
    "alpha               = 3\n",
    "# ------------------------------------------------------------------\n",
    "ham_type            = 'HeisenbergKitaev'\n",
    "# ham_type            = 'TransverseFieldIsing'\n",
    "# ham_type            = 'DummyHamiltonian'\n",
    "ham_dtype           = jnp.float32\n",
    "# ------------------------------------------------------------------\n",
    "\n",
    "logger              = get_global_logger()\n",
    "backend             = 'jax'\n",
    "seed                = 0\n",
    "dtypex              = jnp.complex128\n",
    "be_modules          = get_backend(backend, random=True, seed=seed, scipy=True)\n",
    "backend_np, (rng, rng_k), backend_sp = be_modules if isinstance(be_modules, tuple) else (be_modules, (None, None), None)\n",
    "\n",
    "# ------------------------------------------------------------------\n"
   ]
  },
  {
   "cell_type": "markdown",
   "id": "a405c16b",
   "metadata": {},
   "source": [
    "### Lattice interface"
   ]
  },
  {
   "cell_type": "code",
   "execution_count": null,
   "id": "362a1219",
   "metadata": {},
   "outputs": [],
   "source": [
    "lattice = choose_lattice(\n",
    "    typek = lattice_type,\n",
    "    lx    = lx,\n",
    "    ly    = ly,\n",
    "    lz    = lz,\n",
    "    bc    = 'mbc'\n",
    ")\n",
    "ns, mult, st_shape = lattice.ns, lattice.ns // (lx * ly * lz), (lattice.ns, )\n",
    "lattice.print_forward(logger=logger)\n",
    "\n",
    "# lattice\n",
    "# MatrixPrinter.print_matrix(A)"
   ]
  },
  {
   "cell_type": "markdown",
   "id": "bcb740bd",
   "metadata": {},
   "source": [
    "### Operators to test later on"
   ]
  },
  {
   "cell_type": "code",
   "execution_count": null,
   "id": "776542a4",
   "metadata": {},
   "outputs": [],
   "source": [
    "sig_z = op_spin.sig_z(\n",
    "    lattice = lattice,\n",
    "    ns      = lattice.ns,\n",
    "    type_act= op_spin.OperatorTypeActing.Global,\n",
    "    sites   = [0]\n",
    ")\n",
    "\n",
    "sig_x = op_spin.sig_x(\n",
    "    lattice = lattice,\n",
    "    ns      = lattice.ns,\n",
    "    type_act= op_spin.OperatorTypeActing.Global,\n",
    "    sites   = [0]\n",
    ")\n",
    "\n",
    "sig_z_c = op_spin.sig_z(\n",
    "    lattice = lattice,\n",
    "    ns      = lattice.ns,\n",
    "    type_act= op_spin.OperatorTypeActing.Global,\n",
    "    sites   = [0, 1]\n",
    ")\n",
    "\n",
    "sig_x_c = op_spin.sig_x(\n",
    "    lattice = lattice,\n",
    "    ns      = lattice.ns,\n",
    "    type_act= op_spin.OperatorTypeActing.Global,\n",
    "    sites   = [0, 1]\n",
    ")\n",
    "\n",
    "if lattice.ns == 2:\n",
    "    matrix_test = np.kron(op_spin._SIG_X, op_spin._SIG_0) * (0.5)\n",
    "    print('Matrix test:', matrix_test)"
   ]
  },
  {
   "cell_type": "markdown",
   "id": "eef281c4",
   "metadata": {},
   "source": [
    "### Hamiltonian - Hamiltonian operator $H$ and its expectation value $\\langle H \\rangle$."
   ]
  },
  {
   "cell_type": "code",
   "execution_count": null,
   "id": "f89ecad8",
   "metadata": {},
   "outputs": [],
   "source": [
    "if ham_type == 'HeisenbergKitaev':\n",
    "    hamil = HeisenbergKitaev(lattice    = lattice,\n",
    "                        hilbert_space   = None,\n",
    "                        hx              = 0.0,\n",
    "                        hz              = 0.0,\n",
    "                        kx              = 1.0,\n",
    "                        ky              = 1.0,\n",
    "                        kz              = 1.0,\n",
    "                        j               = 0.0,\n",
    "                        dlt             = 1.0,\n",
    "                        dtype           = ham_dtype,\n",
    "                        use_forward     = False,\n",
    "                        backend         = backend)\n",
    "\n",
    "elif ham_type == 'TransverseFieldIsing':\n",
    "    hamil = TransverseFieldIsing(\n",
    "                        lattice        = lattice,\n",
    "                        hilbert_space  = None,\n",
    "                        hz             = 2.5,\n",
    "                        hx             = -1.4,\n",
    "                        # hx             = -0.7,    # same, but we use spin = 1/2\n",
    "                        j              = 4.0,          \n",
    "                        # j              = -1.0,    # same, but we use spin = 1/2          \n",
    "                        dtype          = ham_dtype,\n",
    "                        backend        = backend\n",
    "                )\n",
    "elif ham_type == 'DummyHamiltonian':\n",
    "    hamil = DummyHamiltonian(\n",
    "                        lattice        = lattice,\n",
    "                        hilbert_space  = None,\n",
    "                        dtype          = ham_dtype,\n",
    "                        backend        = backend\n",
    "                )\n",
    "else:\n",
    "    raise ValueError(f\"Unknown Hamiltonian type: {ham_type}\")\n",
    "\n",
    "logger.title('Hamiltonian', desired_size=150, fill='#', color='red')\n",
    "hamil"
   ]
  },
  {
   "cell_type": "code",
   "execution_count": null,
   "id": "11d08b0f",
   "metadata": {},
   "outputs": [],
   "source": [
    "if hamil.hilbert_size <= 2**20:\n",
    "    time0   = time.time()\n",
    "    hamil.build(use_numpy=True)\n",
    "    time1   = time.time()\n",
    "    logger.info(f\"Time to build Hamiltonian: {time1 - time0:.2f} seconds\", color='green')\n",
    "    \n",
    "    if hamil.hilbert_size <= 2**12:\n",
    "        hamil.diagonalize()\n",
    "    else:\n",
    "        hamil.diagonalize(method = 'lanczos', k = 50)\n",
    "    time2   = time.time()\n",
    "    logger.info(f\"Time to diagonalize Hamiltonian: {time2 - time1:.2f} seconds\", color='blue')\n",
    "    eigv    = hamil.get_eigval()\n",
    "    \n",
    "    #! Test the operator expectation in the ground state\n",
    "    if hamil.hilbert_size <= 2**12:\n",
    "        gs              = hamil.get_eigvec(0)\n",
    "        # test energy \n",
    "        hamil_mat       = hamil.hamil\n",
    "        energy_0        = overlap(gs, hamil_mat, backend = np)   \n",
    "        logger.info(f\"Energy of the ground state: {energy_0:.4f}\", color='green')\n",
    "        \n",
    "        sig_x_op_mat    = sig_x.matrix(dim = hamil.hilbert_size, use_numpy = True)\n",
    "        sig_z_op_mat    = sig_z.matrix(dim = hamil.hilbert_size, use_numpy = True)\n",
    "        sig_x_op_mat_c  = sig_x_c.matrix(dim = hamil.hilbert_size, use_numpy = True)\n",
    "        sig_z_op_mat_c  = sig_z_c.matrix(dim = hamil.hilbert_size, use_numpy = True)\n",
    "\n",
    "        ed_sig_x_exp    = overlap(gs, sig_x_op_mat, backend = np)\n",
    "        ed_sig_z_exp    = overlap(gs, sig_z_op_mat, backend = np)\n",
    "        ed_sig_x_exp_c  = overlap(gs, sig_x_op_mat_c, backend = np)\n",
    "        ed_sig_z_exp_c  = overlap(gs, sig_z_op_mat_c, backend = np)\n",
    "        logger.info(f\"sig_x expectation value: {ed_sig_x_exp:.4f}\", color='green')\n",
    "        logger.info(f\"sig_z expectation value: {ed_sig_z_exp:.4f}\", color='green')\n",
    "        logger.info(f\"sig_x expectation value (c): {ed_sig_x_exp_c:.4f}\", color='green')\n",
    "        logger.info(f\"sig_z expectation value (c): {ed_sig_z_exp_c:.4f}\", color='green')\n",
    "    else:\n",
    "        ed_sig_x_exp    = None\n",
    "        ed_sig_z_exp    = None\n",
    "        ed_sig_x_exp_c  = None\n",
    "        ed_sig_z_exp_c  = None\n",
    "        logger.info(f\"(TODO) Cannot compute expectation values for Hamiltonian: {hamil.hilbert_size} > 2^12\", color='red')\n",
    "else:\n",
    "    eigv                = [None]\n",
    "    ed_sig_x_exp        = None\n",
    "    ed_sig_z_exp        = None\n",
    "    ed_sig_x_exp_c      = None\n",
    "    ed_sig_z_exp_c      = None\n",
    "    logger.info(f\"Cannot diagonalize Hamiltonian: {hamil.hilbert_size} > 2^20\", color='red')\n",
    "    "
   ]
  },
  {
   "cell_type": "markdown",
   "id": "6dc5eb0a",
   "metadata": {},
   "source": [
    "#### Plot if needed"
   ]
  },
  {
   "cell_type": "code",
   "execution_count": null,
   "id": "48b0321a",
   "metadata": {},
   "outputs": [],
   "source": [
    "if eigv is not None and len(eigv) > 1:\n",
    "    fig, ax = Plotter.get_subplots(\n",
    "        nrows       = 1,\n",
    "        ncols       = 1,\n",
    "        figsize     = (4, 3),\n",
    "        dpi         = 100,\n",
    "    )\n",
    "    x   = np.arange(0, len(eigv))\n",
    "    y   = eigv\n",
    "    ax[0].plot(x, y / lattice.ns, 'o', markersize=2)\n",
    "    ax[0].set_xlabel(r'$\\mathcal{e}$')\n",
    "    ax[0].set_ylabel(r'$E/N_s$')\n",
    "    ax[0].axhline(eigv[0] / lattice.ns, color='r', linestyle='--', label=f'Ground state {eigv[0] / lattice.ns :.3e}')\n",
    "    ax[0].legend()"
   ]
  },
  {
   "cell_type": "markdown",
   "id": "7579bc28",
   "metadata": {},
   "source": [
    "### Network - variational ansatz body $\\psi _\\theta (s)$ and its gradient $\\nabla \\psi _\\theta (s)$."
   ]
  },
  {
   "cell_type": "code",
   "execution_count": null,
   "id": "c90ee629",
   "metadata": {},
   "outputs": [],
   "source": [
    "if network_type == 'RBM':\n",
    "    net = RBM(\n",
    "        input_shape         = st_shape, \n",
    "        n_hidden            = int(alpha * ns),\n",
    "        dtype               = dtypex,\n",
    "        param_dtype         = dtypex,\n",
    "        seed                = seed,\n",
    "        visible_bias        = True,\n",
    "        bias                = True,\n",
    "    )\n",
    "elif network_type == 'CNN':\n",
    "    net     = CNN(\n",
    "        input_shape         = st_shape,\n",
    "        reshape_dims        = (lx, ly * mult),\n",
    "        features            = (8,) * alpha,\n",
    "        strides             = [(1, 1)] * alpha,\n",
    "        kernel_sizes        = [(2, 2)] * alpha,\n",
    "        activations         = [elu_jnp] * alpha,\n",
    "        dtype               = dtypex,\n",
    "        param_dtype         = dtypex,\n",
    "        final_activation    = elu_jnp,\n",
    "        seed                = seed,\n",
    "        output_shape        = (1,)\n",
    "    )\n",
    "else:\n",
    "    raise ValueError(f\"Unknown network type: {network_type}\")\n",
    "net"
   ]
  },
  {
   "cell_type": "markdown",
   "id": "8079b2cb",
   "metadata": {},
   "source": [
    "### Sampler - sampling from the distribution $p_\\theta (s)$."
   ]
  },
  {
   "cell_type": "code",
   "execution_count": null,
   "id": "9c866d71",
   "metadata": {},
   "outputs": [],
   "source": [
    "n_chains        = 5\n",
    "n_samples       = 200\n",
    "n_therm_steps   = 25\n",
    "sampler         = Sampler.MCSampler(\n",
    "                    net             = net,\n",
    "                    shape           = st_shape,\n",
    "                    rng             = rng,\n",
    "                    rng_k           = rng_k,\n",
    "                    numchains       = n_chains,\n",
    "                    numsamples      = n_samples,\n",
    "                    sweep_steps     = min(ns, 28),\n",
    "                    backend         = backend_np,\n",
    "                    therm_steps     = n_therm_steps,\n",
    "                    mu              = 2.0,\n",
    "                    seed            = seed,\n",
    "                    dtype           = dtypex,\n",
    "                    statetype       = np.float64,\n",
    "                    makediffer      = True\n",
    "                )\n",
    "do_tests    = False\n",
    "sampler_fun = sampler.get_sampler_jax()\n",
    "sampler"
   ]
  },
  {
   "cell_type": "markdown",
   "id": "7dbf9357",
   "metadata": {},
   "source": [
    "#### Optional tests"
   ]
  },
  {
   "cell_type": "code",
   "execution_count": null,
   "id": "34275ca2",
   "metadata": {},
   "outputs": [],
   "source": [
    "%%timeit -r 5 -n 5\n",
    "if do_tests:\n",
    "    sampler.sample()"
   ]
  },
  {
   "cell_type": "code",
   "execution_count": null,
   "id": "b74803c9",
   "metadata": {},
   "outputs": [],
   "source": [
    "%%timeit -r 5 -n 5\n",
    "if do_tests:\n",
    "    sampler_fun(sampler.states, sampler.rng_k, net.get_params())"
   ]
  },
  {
   "cell_type": "code",
   "execution_count": null,
   "id": "825f4019",
   "metadata": {},
   "outputs": [],
   "source": [
    "if do_tests:\n",
    "    samples = sampler.sample()\n",
    "    samples[1][0].shape"
   ]
  },
  {
   "cell_type": "code",
   "execution_count": null,
   "id": "da53a185",
   "metadata": {},
   "outputs": [],
   "source": [
    "import time \n",
    "\n",
    "# seems is 5-10x faster than vmc_jax\n",
    "def multiple_samples(n):\n",
    "    samples = []\n",
    "    for i in range(n):\n",
    "        start       = time.time()\n",
    "        samples     = sampler.sample()\n",
    "        samples[0][0].block_until_ready()\n",
    "        end         = time.time()\n",
    "        print(f\"Time taken for iteration {i}: {end - start:.4f} seconds\")\n",
    "    return samples\n",
    "\n",
    "if do_tests:\n",
    "    samples = multiple_samples(50)"
   ]
  },
  {
   "cell_type": "code",
   "execution_count": null,
   "id": "29f1ee8e",
   "metadata": {},
   "outputs": [],
   "source": [
    "if do_tests:\n",
    "    x, y, z     = samples\n",
    "    y_st, y_an  = y\n",
    "    logger.info(f\"y_st: {y_st}, shape: {y_st.shape}\")"
   ]
  },
  {
   "cell_type": "markdown",
   "id": "b9157d81",
   "metadata": {},
   "source": [
    "### Stepper - TDVP stepper for the time evolution of the state $\\psi _\\theta (s)$."
   ]
  },
  {
   "cell_type": "code",
   "execution_count": null,
   "id": "551c2668",
   "metadata": {},
   "outputs": [],
   "source": [
    "ode_solver = choose_ode(ode_type = ode_solver_type, backend = backend_np, dt = lr, rhs_prefactor = -1.0)\n",
    "ode_solver"
   ]
  },
  {
   "cell_type": "markdown",
   "id": "7ccd506f",
   "metadata": {},
   "source": [
    "### NQS - neural network quantum state $\\psi_\\theta (s)$ and its gradient $\\nabla \\psi_\\theta (s)$."
   ]
  },
  {
   "cell_type": "code",
   "execution_count": null,
   "id": "cb454579",
   "metadata": {},
   "outputs": [],
   "source": [
    "n_epo           = 5000\n",
    "n_sweep_steps   = ns\n",
    "n_batch         = 128\n",
    "\n",
    "# Other\n",
    "reg             = 5e-2\n",
    "maxiter         = 1000\n",
    "tolerance       = 1e-8\n",
    "use_min_sr      = False\n",
    "\n",
    "# Solver\n",
    "solver_id       = solvers.SolverType.SCIPY_CG\n",
    "precond_id      = preconditioners.PreconditionersTypeSym.JACOBI\n",
    "precond         = preconditioners.choose_precond(precond_id=precond_id, backend=backend_np)\n",
    "# precond_id      = None\n",
    "\n",
    "tdvp = TDVP.TDVP(\n",
    "    use_sr          = True,\n",
    "    use_minsr       = False,\n",
    "    rhs_prefact     = 1.0,\n",
    "    sr_lin_solver   = solver_id,\n",
    "    sr_precond      = precond,\n",
    "    sr_pinv_tol     = tolerance,\n",
    "    sr_pinv_cutoff  = 1e-8,\n",
    "    sr_snr_tol      = tolerance,\n",
    "    sr_diag_shift   = reg,\n",
    "    sr_lin_solver_t = solvers.SolverForm.GRAM,\n",
    "    sr_maxiter      = maxiter,\n",
    "    backend         = backend_np\n",
    ")\n",
    "tdvp"
   ]
  },
  {
   "cell_type": "code",
   "execution_count": null,
   "id": "1f68f7f5",
   "metadata": {},
   "outputs": [],
   "source": [
    "nqs = NQS.NQS(\n",
    "            net             = net,\n",
    "            sampler         = sampler,\n",
    "            hamiltonian     = hamil,\n",
    "            lower_betas     = None,\n",
    "            lower_states    = None,\n",
    "            seed            = seed,\n",
    "            beta            = 1.0,\n",
    "            mu              = sampler.get_mu(),\n",
    "            shape           = st_shape,\n",
    "            backend         = backend_np,\n",
    "            batch_size      = n_batch,\n",
    "            dtype           = dtypex,  \n",
    "        )\n",
    "nqs.reset()\n",
    "\n",
    "nqs_train = NQST.NQSTrainer(\n",
    "    nqs             = nqs,\n",
    "    ode_solver      = ode_solver,\n",
    "    tdvp            = tdvp,\n",
    "    n_batch         = n_batch,\n",
    "    lr_scheduler    = ExponentialDecayScheduler(lr, n_epo, lr_decay=3e-4, logger=logger, lr_clamp=3e-2),\n",
    "    early_stopper   = EarlyStopping(patience = 500, min_delta=1e-4, logger=logger),\n",
    "    reg_scheduler   = ConstantScheduler(reg, max_epochs=n_epo, lr_clamp=1e-2, logger=logger),\n",
    "    logger          = logger,\n",
    ")\n",
    "nqs"
   ]
  },
  {
   "cell_type": "code",
   "execution_count": null,
   "id": "50f88db5",
   "metadata": {},
   "outputs": [],
   "source": [
    "nqs_train"
   ]
  },
  {
   "cell_type": "markdown",
   "id": "a36a6f8f",
   "metadata": {},
   "source": [
    "### Test the training of the NQS with a simple Hamiltonian."
   ]
  },
  {
   "cell_type": "code",
   "execution_count": null,
   "id": "b46e97e6",
   "metadata": {},
   "outputs": [
    {
     "name": "stderr",
     "output_type": "stream",
     "text": [
      "Training:  10%|▉         | 493/5000 [1:55:08<17:44:22, 14.17s/it, E/N=-2.6935e-01+6.7591e-05j ± 1.0928e-02, lr=8.6e-02, sig=5.0e-02, t_sample=2.60e+00s, t_step=1.14e+01s, t_update=5.36e-04s, t_gradient=1.93e-02s, t_prepare=5.86e-01s, t_solve=1.08e+01s, t_total=2.54e+01s]"
     ]
    }
   ],
   "source": [
    "history, history_std, timings = nqs_train.train(n_epochs=n_epo, \n",
    "                        reset=False, use_lr_scheduler=(ode_solver_type=='Euler'), use_reg_scheduler=False)"
   ]
  },
  {
   "cell_type": "code",
   "execution_count": null,
   "id": "73d384c7",
   "metadata": {},
   "outputs": [],
   "source": [
    "energy_plot = eigv[0] if eigv[0] is not None else -18.583590144097595\n",
    "fig, ax = nqs_train.report_gs(eigv  =   energy_plot,\n",
    "                            last_n  =   0.05,\n",
    "                            savedir =   f'./data/nqs_train/{ham_type}/',\n",
    "                            plot_kw =   {\n",
    "                                'ylim_0'        : (-0.5, 3e-2),\n",
    "                                'ylim_1'        : (5e-2, 1e0),\n",
    "                                'inset_axes'    : (0.18, 0.02, 0.4, 0.4),\n",
    "                                'annotate_x'    : 0.93,\n",
    "                                'annotate_y'    : 0.05\n",
    "                            })"
   ]
  },
  {
   "cell_type": "code",
   "execution_count": null,
   "id": "c529175a",
   "metadata": {},
   "outputs": [],
   "source": [
    "results, energy, timings = nqs.eval_observables(\n",
    "    operators      = [sig_z, sig_x, sig_z_c, sig_x_c],\n",
    "    true_values    = [ed_sig_z_exp, ed_sig_x_exp, ed_sig_z_exp_c, ed_sig_x_exp_c],\n",
    "    n_chains       = n_chains,\n",
    "    n_samples      = n_samples,\n",
    "    batch_size     = 100,\n",
    "    logger         = logger,\n",
    "    plot           = True,\n",
    "    get_energy     = True,\n",
    "    bins           = 200,\n",
    "    true_en        = eigv[0],\n",
    "    plot_kwargs    = {\n",
    "        'xlim_0'    : (-0.5, 0.1),\n",
    "        'xlim_1'    : (-0.5, 0.1),\n",
    "        'inset_axes': (0.6, 0.2, 0.35, 0.4),\n",
    "    }\n",
    ")"
   ]
  },
  {
   "cell_type": "markdown",
   "id": "6c12705b",
   "metadata": {},
   "source": [
    "### Test modifier"
   ]
  },
  {
   "cell_type": "code",
   "execution_count": null,
   "id": "6ac9632d",
   "metadata": {},
   "outputs": [],
   "source": [
    "from QES.Algebra.Operator.operator import initial_states, create_operator\n",
    "\n",
    "sites_all       = []\n",
    "operators_inv   = []\n",
    "# locals\n",
    "sites           = [0]\n",
    "\n",
    "operators_inv.append(\n",
    "    create_operator(\n",
    "        type_act        =   op_spin.OperatorTypeActing.Global,\n",
    "        op_func_int     =   None,\n",
    "        op_func_np      =   None,\n",
    "        op_func_jnp     =   op_spin.sigma_z_inv_jnp,\n",
    "        ns              =   lattice.ns,\n",
    "        sites           =   sites,\n",
    "        name            =   'sig_z_0',\n",
    "        extra_args      =   (True, 1.0),\n",
    "        modifies        =   False,\n",
    "        \n",
    "    )\n",
    ")\n",
    "\n",
    "operators_inv.append(\n",
    "    create_operator(\n",
    "        type_act        =   op_spin.OperatorTypeActing.Global,\n",
    "        op_func_int     =   None,\n",
    "        op_func_np      =   None,\n",
    "        op_func_jnp     =   op_spin.sigma_x_inv_jnp,\n",
    "        ns              =   lattice.ns,\n",
    "        sites           =   sites,\n",
    "        name            =   'sig_x_0',\n",
    "        extra_args      =   (True, 1.0),\n",
    "        modifies        =   False,\n",
    "        \n",
    "    )\n",
    ")\n",
    "\n",
    "# correlations\n",
    "sites_corr = jnp.array([0, 3], dtype=jnp.int32)\n",
    "def sig_z_c_modifier(x):\n",
    "    return op_spin.sigma_z_inv_jnp(x, sites=sites_corr)\n",
    "\n",
    "def sig_x_c_modifier(x):\n",
    "    return op_spin.sigma_x_inv_jnp(x, sites=sites_corr)\n",
    "\n",
    "# k-space\n",
    "k       = 1.0\n",
    "sites_k = jnp.arange(0, lattice.ns, dtype=jnp.int32)\n",
    "def sig_k_modifier(x):\n",
    "    return op_spin.sigma_k_inv_jnp(x, k=k, sites=sites_k)\n",
    "\n",
    "\n",
    "names = ['sig_z', 'sig_x', 'sig_z_c', 'sig_x_c', 'sig_k']\n",
    "\n",
    "sig_z_modifier_jit      = operators_inv[0].jax\n",
    "sig_x_modifier_jit      = operators_inv[1].jax\n",
    "sig_z_c_modifier_jit    = jax.jit(sig_z_c_modifier)\n",
    "sig_x_c_modifier_jit    = jax.jit(sig_x_c_modifier)\n",
    "sig_k_modifier_jit      = jax.jit(sig_k_modifier)"
   ]
  },
  {
   "cell_type": "code",
   "execution_count": null,
   "id": "a34a4569",
   "metadata": {},
   "outputs": [],
   "source": [
    "# test modifiers\n",
    "_, _, st_jax = initial_states(lattice.ns, display=True)\n",
    "st_jax       = (st_jax - 0.5) * 2"
   ]
  },
  {
   "cell_type": "code",
   "execution_count": null,
   "id": "309dd9e8",
   "metadata": {},
   "outputs": [],
   "source": [
    "for modifier in [sig_z_modifier_jit, sig_x_modifier_jit]:\n",
    "    st_out, st_val = modifier(st_jax)\n",
    "    logger.title('Modifier', desired_size=150, fill='#', color='red')\n",
    "    logger.info(f\"Modified state: {st_out[0]}\")\n",
    "    logger.info(f\"Original state: {st_jax}\")\n",
    "    logger.info(f\"Modified state value: {st_val}\")\n",
    "    logger.info(f\"Modified state shape: {st_out.shape}\")"
   ]
  },
  {
   "cell_type": "markdown",
   "id": "5a0e61c7",
   "metadata": {},
   "source": [
    "#### $\\sigma_z$ - Pauli Z operator at site $i=0$."
   ]
  },
  {
   "cell_type": "code",
   "execution_count": null,
   "id": "05bc4b44",
   "metadata": {},
   "outputs": [],
   "source": [
    "nqs.unset_modifier()\n",
    "two_states      = jnp.array([st_jax, st_jax], dtype=jnp.float32)\n",
    "nqs_ansatz_old  = nqs.ansatz\n",
    "nqs_eval_before = nqs_ansatz_old(nqs.get_params(), two_states)\n",
    "nqs_eval_before"
   ]
  },
  {
   "cell_type": "code",
   "execution_count": null,
   "id": "e6c8e018",
   "metadata": {},
   "outputs": [],
   "source": [
    "nqs.set_modifier(modifier=sig_z_modifier_jit, name=operators_inv[0].name)"
   ]
  },
  {
   "cell_type": "markdown",
   "id": "4c815a52",
   "metadata": {},
   "source": [
    "Try to evaluate"
   ]
  },
  {
   "cell_type": "code",
   "execution_count": null,
   "id": "037bf1c6",
   "metadata": {},
   "outputs": [],
   "source": [
    "nqs_ansatz_new  = nqs.ansatz\n",
    "nqs_eval_new    = nqs_ansatz_new(nqs.get_params(), two_states)\n",
    "nqs_eval_new"
   ]
  },
  {
   "cell_type": "code",
   "execution_count": null,
   "id": "d255d35e",
   "metadata": {},
   "outputs": [],
   "source": [
    "results, energy, timings = nqs.eval_observables(\n",
    "    operators      = [sig_z],\n",
    "    true_values    = [ed_sig_z_exp],\n",
    "    n_chains       = n_chains,\n",
    "    n_samples      = n_samples,\n",
    "    batch_size     = 100,\n",
    "    logger         = logger,\n",
    "    plot           = True,\n",
    "    get_energy     = True,\n",
    "    bins           = 200,\n",
    "    true_en        = energy_0,\n",
    ")"
   ]
  },
  {
   "cell_type": "code",
   "execution_count": null,
   "id": "a1038358",
   "metadata": {},
   "outputs": [],
   "source": []
  }
 ],
 "metadata": {
  "kernelspec": {
   "display_name": "base",
   "language": "python",
   "name": "python3"
  },
  "language_info": {
   "codemirror_mode": {
    "name": "ipython",
    "version": 3
   },
   "file_extension": ".py",
   "mimetype": "text/x-python",
   "name": "python",
   "nbconvert_exporter": "python",
   "pygments_lexer": "ipython3",
   "version": "3.12.2"
  }
 },
 "nbformat": 4,
 "nbformat_minor": 5
}
