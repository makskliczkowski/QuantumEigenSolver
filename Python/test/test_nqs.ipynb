{
 "cells": [
  {
   "cell_type": "code",
   "execution_count": 4,
   "id": "31be730c",
   "metadata": {},
   "outputs": [],
   "source": [
    "import sys\n",
    "import os\n",
    "os.environ['JAX_PLATFORM_NAME'] = 'cpu'\n",
    "\n",
    "import numpy as np\n",
    "import time\n",
    "from typing import Union, List, Sequence, Optional\n",
    "from tqdm import trange\n",
    "\n",
    "# Add the parent directory (project root) to sys.path\n",
    "script_dir = os.path.dirname(os.curdir)\n",
    "parent_dir = os.path.abspath(os.path.join(script_dir, '..'))\n",
    "if parent_dir not in sys.path:\n",
    "    sys.path.append(parent_dir)\n",
    "\n",
    "# ------------------------------------------------------------------\n",
    "#! General\n",
    "import QES.general_python.common.binary as Binary\n",
    "from QES.general_python.common.timer import Timer, timeit\n",
    "from QES.general_python.common.binary import JAX_AVAILABLE, get_backend, get_global_logger\n",
    "from QES.general_python.common.plot import Plotter\n",
    "\n",
    "# ------------------------------------------------------------------\n",
    "#! Lattice\n",
    "from QES.general_python.lattices.lattice import LatticeBC, Lattice\n",
    "from QES.general_python.lattices.honeycomb import HoneycombLattice\n",
    "from QES.general_python.lattices.square import SquareLattice\n",
    "\n",
    "# ------------------------------------------------------------------\n",
    "#! Sampler\n",
    "import QES.Solver.MonteCarlo.sampler as Sampler\n",
    "import QES.NQS.nqs as NQS\n",
    "\n",
    "# ------------------------------------------------------------------\n",
    "#! ODE solver\n",
    "from QES.general_python.common.ode import Euler, Heun, AdaptiveHeun, RK, ScipyRK\n",
    "\n",
    "# ------------------------------------------------------------------\n",
    "#! Networks\n",
    "from QES.general_python.ml.net_impl.networks.net_rbm import RBM\n",
    "from QES.general_python.ml.net_impl.networks.net_cnn import CNN\n",
    "from QES.general_python.ml.net_impl.activation_functions import relu_jnp, tanh_jnp, sigmoid_jnp, leaky_relu_jnp, elu_jnp, poly6_jnp, softplus_jnp\n",
    "\n",
    "# ------------------------------------------------------------------\n",
    "#! Hamiltonians\n",
    "from QES.Algebra.Model.dummy import DummyHamiltonian\n",
    "from QES.Algebra.Model.Interacting.Spin.heisenberg_kitaev import HeisenbergKitaev\n",
    "from QES.Algebra.Model.Interacting.Spin.transverse_ising import TransverseFieldIsing\n",
    "\n",
    "# ------------------------------------------------------------------\n",
    "#! Linear algebra\n",
    "import QES.general_python.algebra.solvers.stochastic_rcnfg as SR\n",
    "import QES.general_python.algebra.solvers as solvers\n",
    "import QES.general_python.algebra.preconditioners as preconditioners\n",
    "\n",
    "# ------------------------------------------------------------------\n",
    "\n",
    "#! Spin operators\n",
    "import QES.Algebra.Operator.operators_spin as op_spin\n",
    "#! Fermionic operators\n",
    "import QES.Algebra.Operator.operators_spinless_fermions as op_sferm\n",
    "\n",
    "#! Backends\n",
    "if JAX_AVAILABLE:\n",
    "    import jax\n",
    "    import jax.numpy as jnp\n",
    "else:\n",
    "    jax = None\n",
    "    jnp = None\n",
    "    \n",
    "# ------------------------------------------------------------------\n",
    "lattice_type        = 'honeycomb'\n",
    "lx, ly, lz          = 2, 2, 1\n",
    "# ------------------------------------------------------------------\n",
    "ode_solver_type     = 'Euler'\n",
    "# ode_solver_type   = 'Heun'\n",
    "# ode_solver_type   = 'AdaptiveHeun'\n",
    "# ode_solver_type   = 'RK4'\n",
    "lr                  = 0.01 # is also dt\n",
    "# ------------------------------------------------------------------\n",
    "network_type        = 'RBM'\n",
    "# network_type        = 'CNN'\n",
    "alpha               = 4\n",
    "# ------------------------------------------------------------------\n",
    "ham_type            = 'HeisenbergKitaev'\n",
    "# ham_type            = 'TransverseFieldIsing'\n",
    "# ham_type            = 'DummyHamiltonian'\n",
    "ham_dtype           = jnp.float64\n",
    "# ------------------------------------------------------------------\n",
    "\n",
    "logger              = get_global_logger()\n",
    "backend             = 'jax'\n",
    "seed                = 1234\n",
    "dtypex              = jnp.complex128\n",
    "be_modules          = get_backend(backend, random=True, seed=seed, scipy=True)\n",
    "backend_np, (rng, rng_k), backend_sp = be_modules if isinstance(be_modules, tuple) else (be_modules, (None, None), None)"
   ]
  },
  {
   "cell_type": "markdown",
   "id": "a405c16b",
   "metadata": {},
   "source": [
    "### Lattice interface"
   ]
  },
  {
   "cell_type": "code",
   "execution_count": 5,
   "id": "362a1219",
   "metadata": {},
   "outputs": [
    {
     "data": {
      "text/plain": [
       "HON,LatticeBC.PBC,d=2,Ns=8,Lx=2,Ly=2,Lz=1"
      ]
     },
     "execution_count": 5,
     "metadata": {},
     "output_type": "execute_result"
    }
   ],
   "source": [
    "if lattice_type == 'square':\n",
    "    lattice     = SquareLattice(\n",
    "                        dim = 2, \n",
    "                        lx  = lx,\n",
    "                        ly  = ly,\n",
    "                        lz  = lz,\n",
    "                        bc  = LatticeBC.PBC\n",
    "                    )\n",
    "elif lattice_type == 'honeycomb':\n",
    "    lattice     = HoneycombLattice(\n",
    "                        dim = 2,\n",
    "                        lx  = lx,\n",
    "                        ly  = ly,\n",
    "                        lz  = lz,\n",
    "                        bc  = LatticeBC.PBC\n",
    "                    )\n",
    "else:\n",
    "    raise ValueError(f\"Unknown lattice type: {lattice_type}\")\n",
    "ns          = lattice.ns\n",
    "mult        = lattice.ns // (lx * ly * lz)\n",
    "st_shape    = (ns, )\n",
    "lattice"
   ]
  },
  {
   "cell_type": "markdown",
   "id": "eef281c4",
   "metadata": {},
   "source": [
    "### Hamiltonian - Hamiltonian operator $H$ and its expectation value $\\langle H \\rangle$."
   ]
  },
  {
   "cell_type": "code",
   "execution_count": 6,
   "id": "f89ecad8",
   "metadata": {},
   "outputs": [
    {
     "name": "stdout",
     "output_type": "stream",
     "text": [
      "12_05_2025_21-32_32 [INFO] \t\t->\u001b[0m[Hamiltonian] The type of the lattice HON,LatticeBC.PBC,d=2,Ns=8,Lx=2,Ly=2,Lz=1 is not standard. Check your intentions...\u001b[0m\n",
      "12_05_2025_21-32_32 [INFO] \t\t->\u001b[0m[Heisenberg Kitaev Model] Adding non-modifying operator Operator(Sz/L, type_acting=Local, eigval=1.0, type=Other) at site 0 (sites: [0]) with multiplier -0.3\u001b[0m\n",
      "12_05_2025_21-32_32 [INFO] \t\t->\u001b[0m[Heisenberg Kitaev Model] Adding modifying operator Operator(Sx/L, type_acting=Local, eigval=1.0, type=Other) at site 0 (sites: [0]) with multiplier 0.5\u001b[0m\n",
      "12_05_2025_21-32_32 [INFO] \t\t->\u001b[0m[Heisenberg Kitaev Model] Adding non-modifying operator Operator(Sz/C, type_acting=Correlation, eigval=1.0, type=Other) at site 0 (sites: [0, 1]) with multiplier 1.0\u001b[0m\n",
      "12_05_2025_21-32_32 [INFO] \t\t->\u001b[0m[Heisenberg Kitaev Model] Adding modifying operator Operator(Sx/C, type_acting=Correlation, eigval=1.0, type=Other) at site 0 (sites: [0, 1]) with multiplier 1.0\u001b[0m\n",
      "12_05_2025_21-32_32 [INFO] \t\t->\u001b[0m[Heisenberg Kitaev Model] Adding modifying operator Operator(Sy/C, type_acting=Correlation, eigval=1.0, type=Other) at site 0 (sites: [0, 1]) with multiplier 2.0\u001b[0m\n",
      "12_05_2025_21-32_32 [INFO] \t\t->\u001b[0m[Heisenberg Kitaev Model] Adding non-modifying operator Operator(Sz/L, type_acting=Local, eigval=1.0, type=Other) at site 1 (sites: [1]) with multiplier -0.3\u001b[0m\n",
      "12_05_2025_21-32_32 [INFO] \t\t->\u001b[0m[Heisenberg Kitaev Model] Adding modifying operator Operator(Sx/L, type_acting=Local, eigval=1.0, type=Other) at site 1 (sites: [1]) with multiplier 0.5\u001b[0m\n",
      "12_05_2025_21-32_32 [INFO] \t\t->\u001b[0m[Heisenberg Kitaev Model] Adding non-modifying operator Operator(Sz/C, type_acting=Correlation, eigval=1.0, type=Other) at site 1 (sites: [1, 4]) with multiplier 1.0\u001b[0m\n",
      "12_05_2025_21-32_32 [INFO] \t\t->\u001b[0m[Heisenberg Kitaev Model] Adding modifying operator Operator(Sx/C, type_acting=Correlation, eigval=1.0, type=Other) at site 1 (sites: [1, 4]) with multiplier 2.0\u001b[0m\n",
      "12_05_2025_21-32_32 [INFO] \t\t->\u001b[0m[Heisenberg Kitaev Model] Adding modifying operator Operator(Sy/C, type_acting=Correlation, eigval=1.0, type=Other) at site 1 (sites: [1, 4]) with multiplier 1.0\u001b[0m\n",
      "12_05_2025_21-32_32 [INFO] \t\t->\u001b[0m[Heisenberg Kitaev Model] Adding non-modifying operator Operator(Sz/C, type_acting=Correlation, eigval=1.0, type=Other) at site 1 (sites: [1, 2]) with multiplier 2.0\u001b[0m\n",
      "12_05_2025_21-32_32 [INFO] \t\t->\u001b[0m[Heisenberg Kitaev Model] Adding modifying operator Operator(Sx/C, type_acting=Correlation, eigval=1.0, type=Other) at site 1 (sites: [1, 2]) with multiplier 1.0\u001b[0m\n",
      "12_05_2025_21-32_32 [INFO] \t\t->\u001b[0m[Heisenberg Kitaev Model] Adding modifying operator Operator(Sy/C, type_acting=Correlation, eigval=1.0, type=Other) at site 1 (sites: [1, 2]) with multiplier 1.0\u001b[0m\n",
      "12_05_2025_21-32_32 [INFO] \t\t->\u001b[0m[Heisenberg Kitaev Model] Adding non-modifying operator Operator(Sz/L, type_acting=Local, eigval=1.0, type=Other) at site 2 (sites: [2]) with multiplier -0.3\u001b[0m\n",
      "12_05_2025_21-32_32 [INFO] \t\t->\u001b[0m[Heisenberg Kitaev Model] Adding modifying operator Operator(Sx/L, type_acting=Local, eigval=1.0, type=Other) at site 2 (sites: [2]) with multiplier 0.5\u001b[0m\n",
      "12_05_2025_21-32_32 [INFO] \t\t->\u001b[0m[Heisenberg Kitaev Model] Adding non-modifying operator Operator(Sz/C, type_acting=Correlation, eigval=1.0, type=Other) at site 2 (sites: [2, 3]) with multiplier 1.0\u001b[0m\n",
      "12_05_2025_21-32_32 [INFO] \t\t->\u001b[0m[Heisenberg Kitaev Model] Adding modifying operator Operator(Sx/C, type_acting=Correlation, eigval=1.0, type=Other) at site 2 (sites: [2, 3]) with multiplier 1.0\u001b[0m\n",
      "12_05_2025_21-32_32 [INFO] \t\t->\u001b[0m[Heisenberg Kitaev Model] Adding modifying operator Operator(Sy/C, type_acting=Correlation, eigval=1.0, type=Other) at site 2 (sites: [2, 3]) with multiplier 2.0\u001b[0m\n",
      "12_05_2025_21-32_32 [INFO] \t\t->\u001b[0m[Heisenberg Kitaev Model] Adding non-modifying operator Operator(Sz/L, type_acting=Local, eigval=1.0, type=Other) at site 3 (sites: [3]) with multiplier -0.3\u001b[0m\n",
      "12_05_2025_21-32_32 [INFO] \t\t->\u001b[0m[Heisenberg Kitaev Model] Adding modifying operator Operator(Sx/L, type_acting=Local, eigval=1.0, type=Other) at site 3 (sites: [3]) with multiplier 0.5\u001b[0m\n",
      "12_05_2025_21-32_32 [INFO] \t\t->\u001b[0m[Heisenberg Kitaev Model] Adding non-modifying operator Operator(Sz/C, type_acting=Correlation, eigval=1.0, type=Other) at site 3 (sites: [3, 6]) with multiplier 1.0\u001b[0m\n",
      "12_05_2025_21-32_32 [INFO] \t\t->\u001b[0m[Heisenberg Kitaev Model] Adding modifying operator Operator(Sx/C, type_acting=Correlation, eigval=1.0, type=Other) at site 3 (sites: [3, 6]) with multiplier 2.0\u001b[0m\n",
      "12_05_2025_21-32_32 [INFO] \t\t->\u001b[0m[Heisenberg Kitaev Model] Adding modifying operator Operator(Sy/C, type_acting=Correlation, eigval=1.0, type=Other) at site 3 (sites: [3, 6]) with multiplier 1.0\u001b[0m\n",
      "12_05_2025_21-32_32 [INFO] \t\t->\u001b[0m[Heisenberg Kitaev Model] Adding non-modifying operator Operator(Sz/C, type_acting=Correlation, eigval=1.0, type=Other) at site 3 (sites: [3, 0]) with multiplier 2.0\u001b[0m\n",
      "12_05_2025_21-32_32 [INFO] \t\t->\u001b[0m[Heisenberg Kitaev Model] Adding modifying operator Operator(Sx/C, type_acting=Correlation, eigval=1.0, type=Other) at site 3 (sites: [3, 0]) with multiplier 1.0\u001b[0m\n",
      "12_05_2025_21-32_32 [INFO] \t\t->\u001b[0m[Heisenberg Kitaev Model] Adding modifying operator Operator(Sy/C, type_acting=Correlation, eigval=1.0, type=Other) at site 3 (sites: [3, 0]) with multiplier 1.0\u001b[0m\n",
      "12_05_2025_21-32_32 [INFO] \t\t->\u001b[0m[Heisenberg Kitaev Model] Adding non-modifying operator Operator(Sz/L, type_acting=Local, eigval=1.0, type=Other) at site 4 (sites: [4]) with multiplier -0.3\u001b[0m\n",
      "12_05_2025_21-32_32 [INFO] \t\t->\u001b[0m[Heisenberg Kitaev Model] Adding modifying operator Operator(Sx/L, type_acting=Local, eigval=1.0, type=Other) at site 4 (sites: [4]) with multiplier 0.5\u001b[0m\n",
      "12_05_2025_21-32_32 [INFO] \t\t->\u001b[0m[Heisenberg Kitaev Model] Adding non-modifying operator Operator(Sz/C, type_acting=Correlation, eigval=1.0, type=Other) at site 4 (sites: [4, 5]) with multiplier 1.0\u001b[0m\n",
      "12_05_2025_21-32_32 [INFO] \t\t->\u001b[0m[Heisenberg Kitaev Model] Adding modifying operator Operator(Sx/C, type_acting=Correlation, eigval=1.0, type=Other) at site 4 (sites: [4, 5]) with multiplier 1.0\u001b[0m\n",
      "12_05_2025_21-32_32 [INFO] \t\t->\u001b[0m[Heisenberg Kitaev Model] Adding modifying operator Operator(Sy/C, type_acting=Correlation, eigval=1.0, type=Other) at site 4 (sites: [4, 5]) with multiplier 2.0\u001b[0m\n",
      "12_05_2025_21-32_32 [INFO] \t\t->\u001b[0m[Heisenberg Kitaev Model] Adding non-modifying operator Operator(Sz/L, type_acting=Local, eigval=1.0, type=Other) at site 5 (sites: [5]) with multiplier -0.3\u001b[0m\n",
      "12_05_2025_21-32_32 [INFO] \t\t->\u001b[0m[Heisenberg Kitaev Model] Adding modifying operator Operator(Sx/L, type_acting=Local, eigval=1.0, type=Other) at site 5 (sites: [5]) with multiplier 0.5\u001b[0m\n",
      "12_05_2025_21-32_32 [INFO] \t\t->\u001b[0m[Heisenberg Kitaev Model] Adding non-modifying operator Operator(Sz/C, type_acting=Correlation, eigval=1.0, type=Other) at site 5 (sites: [5, 0]) with multiplier 1.0\u001b[0m\n",
      "12_05_2025_21-32_32 [INFO] \t\t->\u001b[0m[Heisenberg Kitaev Model] Adding modifying operator Operator(Sx/C, type_acting=Correlation, eigval=1.0, type=Other) at site 5 (sites: [5, 0]) with multiplier 2.0\u001b[0m\n",
      "12_05_2025_21-32_32 [INFO] \t\t->\u001b[0m[Heisenberg Kitaev Model] Adding modifying operator Operator(Sy/C, type_acting=Correlation, eigval=1.0, type=Other) at site 5 (sites: [5, 0]) with multiplier 1.0\u001b[0m\n",
      "12_05_2025_21-32_32 [INFO] \t\t->\u001b[0m[Heisenberg Kitaev Model] Adding non-modifying operator Operator(Sz/C, type_acting=Correlation, eigval=1.0, type=Other) at site 5 (sites: [5, 6]) with multiplier 2.0\u001b[0m\n",
      "12_05_2025_21-32_32 [INFO] \t\t->\u001b[0m[Heisenberg Kitaev Model] Adding modifying operator Operator(Sx/C, type_acting=Correlation, eigval=1.0, type=Other) at site 5 (sites: [5, 6]) with multiplier 1.0\u001b[0m\n",
      "12_05_2025_21-32_32 [INFO] \t\t->\u001b[0m[Heisenberg Kitaev Model] Adding modifying operator Operator(Sy/C, type_acting=Correlation, eigval=1.0, type=Other) at site 5 (sites: [5, 6]) with multiplier 1.0\u001b[0m\n",
      "12_05_2025_21-32_32 [INFO] \t\t->\u001b[0m[Heisenberg Kitaev Model] Adding non-modifying operator Operator(Sz/L, type_acting=Local, eigval=1.0, type=Other) at site 6 (sites: [6]) with multiplier -0.3\u001b[0m\n",
      "12_05_2025_21-32_32 [INFO] \t\t->\u001b[0m[Heisenberg Kitaev Model] Adding modifying operator Operator(Sx/L, type_acting=Local, eigval=1.0, type=Other) at site 6 (sites: [6]) with multiplier 0.5\u001b[0m\n",
      "12_05_2025_21-32_32 [INFO] \t\t->\u001b[0m[Heisenberg Kitaev Model] Adding non-modifying operator Operator(Sz/C, type_acting=Correlation, eigval=1.0, type=Other) at site 6 (sites: [6, 7]) with multiplier 1.0\u001b[0m\n",
      "12_05_2025_21-32_32 [INFO] \t\t->\u001b[0m[Heisenberg Kitaev Model] Adding modifying operator Operator(Sx/C, type_acting=Correlation, eigval=1.0, type=Other) at site 6 (sites: [6, 7]) with multiplier 1.0\u001b[0m\n",
      "12_05_2025_21-32_32 [INFO] \t\t->\u001b[0m[Heisenberg Kitaev Model] Adding modifying operator Operator(Sy/C, type_acting=Correlation, eigval=1.0, type=Other) at site 6 (sites: [6, 7]) with multiplier 2.0\u001b[0m\n",
      "12_05_2025_21-32_32 [INFO] \t\t->\u001b[0m[Heisenberg Kitaev Model] Adding non-modifying operator Operator(Sz/L, type_acting=Local, eigval=1.0, type=Other) at site 7 (sites: [7]) with multiplier -0.3\u001b[0m\n",
      "12_05_2025_21-32_32 [INFO] \t\t->\u001b[0m[Heisenberg Kitaev Model] Adding modifying operator Operator(Sx/L, type_acting=Local, eigval=1.0, type=Other) at site 7 (sites: [7]) with multiplier 0.5\u001b[0m\n",
      "12_05_2025_21-32_32 [INFO] \t\t->\u001b[0m[Heisenberg Kitaev Model] Adding non-modifying operator Operator(Sz/C, type_acting=Correlation, eigval=1.0, type=Other) at site 7 (sites: [7, 2]) with multiplier 1.0\u001b[0m\n",
      "12_05_2025_21-32_32 [INFO] \t\t->\u001b[0m[Heisenberg Kitaev Model] Adding modifying operator Operator(Sx/C, type_acting=Correlation, eigval=1.0, type=Other) at site 7 (sites: [7, 2]) with multiplier 2.0\u001b[0m\n",
      "12_05_2025_21-32_32 [INFO] \t\t->\u001b[0m[Heisenberg Kitaev Model] Adding modifying operator Operator(Sy/C, type_acting=Correlation, eigval=1.0, type=Other) at site 7 (sites: [7, 2]) with multiplier 1.0\u001b[0m\n",
      "12_05_2025_21-32_32 [INFO] \t\t->\u001b[0m[Heisenberg Kitaev Model] Adding non-modifying operator Operator(Sz/C, type_acting=Correlation, eigval=1.0, type=Other) at site 7 (sites: [7, 4]) with multiplier 2.0\u001b[0m\n",
      "12_05_2025_21-32_32 [INFO] \t\t->\u001b[0m[Heisenberg Kitaev Model] Adding modifying operator Operator(Sx/C, type_acting=Correlation, eigval=1.0, type=Other) at site 7 (sites: [7, 4]) with multiplier 1.0\u001b[0m\n",
      "12_05_2025_21-32_32 [INFO] \t\t->\u001b[0m[Heisenberg Kitaev Model] Adding modifying operator Operator(Sy/C, type_acting=Correlation, eigval=1.0, type=Other) at site 7 (sites: [7, 4]) with multiplier 1.0\u001b[0m\n",
      "12_05_2025_21-32_32 [INFO] \t->\u001b[0m[Heisenberg Kitaev Model] Successfully set local energy operators...\u001b[0m\n",
      "12_05_2025_21-32_32 [INFO] \u001b[31m#####################################################################Hamiltonian#####################################################################\u001b[0m\n",
      "12_05_2025_21-32_32 [INFO] \t\t\t->\u001b[0m[Heisenberg Kitaev Model] JAX is available but NumPy is forced...\u001b[0m\n",
      "12_05_2025_21-32_32 [INFO] \t\t->\u001b[0m[Heisenberg Kitaev Model] Calculating the Hamiltonian matrix using NumPy...\u001b[0m\n",
      "12_05_2025_21-32_32 [INFO] \u001b[32mTime to build Hamiltonian: 0.36 seconds\u001b[0m\n",
      "12_05_2025_21-32_32 [INFO] \u001b[34mTime to diagonalize Hamiltonian: 0.14 seconds\u001b[0m\n"
     ]
    }
   ],
   "source": [
    "if ham_type == 'HeisenbergKitaev':\n",
    "    hamil = HeisenbergKitaev(lattice    = lattice,\n",
    "                        hilbert_space   = None,\n",
    "                        hx              = 0.5,\n",
    "                        hz              = -0.3,\n",
    "                        kx              = 1.0,\n",
    "                        ky              = 1.0,\n",
    "                        kz              = 1.0,\n",
    "                        j               = 1.0,\n",
    "                        dlt             = 1.0,\n",
    "                        dtype           = ham_dtype,\n",
    "                        backend         = backend)\n",
    "\n",
    "elif ham_type == 'TransverseFieldIsing':\n",
    "    hamil = TransverseFieldIsing(\n",
    "                        lattice        = lattice,\n",
    "                        hilbert_space  = None,\n",
    "                        hx             = 0.5,\n",
    "                        hz             = -0.3,\n",
    "                        dtype          = ham_dtype,\n",
    "                        backend        = backend\n",
    "                )\n",
    "elif ham_type == 'DummyHamiltonian':\n",
    "    hamil = DummyHamiltonian(\n",
    "                        lattice        = lattice,\n",
    "                        hilbert_space  = None,\n",
    "                        dtype          = ham_dtype,\n",
    "                        backend        = backend\n",
    "                )\n",
    "else:\n",
    "    raise ValueError(f\"Unknown Hamiltonian type: {ham_type}\")\n",
    "\n",
    "logger.title('Hamiltonian', desired_size=150, fill='#', color='red')\n",
    "\n",
    "#######\n",
    "if hamil.hilbert_size <= 2**20:\n",
    "    time0   = time.time()\n",
    "    hamil.build(use_numpy=True)\n",
    "    time1   = time.time()\n",
    "    logger.info(f\"Time to build Hamiltonian: {time1 - time0:.2f} seconds\", color='green')\n",
    "    \n",
    "    if hamil.hilbert_size <= 2**12:\n",
    "        hamil.diagonalize()\n",
    "    else:\n",
    "        hamil.diagonalize(method = 'lanczos', k = 50)\n",
    "    time2   = time.time()\n",
    "    logger.info(f\"Time to diagonalize Hamiltonian: {time2 - time1:.2f} seconds\", color='blue')\n",
    "    eigv    = hamil.get_eigval()\n",
    "else:\n",
    "    eigv = None"
   ]
  },
  {
   "cell_type": "markdown",
   "id": "6dc5eb0a",
   "metadata": {},
   "source": [
    "#### Plot if needed"
   ]
  },
  {
   "cell_type": "code",
   "execution_count": 7,
   "id": "48b0321a",
   "metadata": {},
   "outputs": [
    {
     "data": {
      "image/png": "[encoded data removed]",
      "text/plain": [
       "<Figure size 400x300 with 1 Axes>"
      ]
     },
     "metadata": {},
     "output_type": "display_data"
    }
   ],
   "source": [
    "if eigv is not None:\n",
    "    fig, ax = Plotter.get_subplots(\n",
    "        nrows       = 1,\n",
    "        ncols       = 1,\n",
    "        figsize     = (4, 3),\n",
    "        dpi         = 100,\n",
    "    )\n",
    "    x   = np.arange(0, len(eigv))\n",
    "    y   = eigv\n",
    "    ax[0].plot(x, y, 'o', markersize=2)\n",
    "    ax[0].set_xlabel('Index')\n",
    "    ax[0].set_ylabel('Eigenvalue')\n",
    "    ax[0].axhline(eigv[0], color='r', linestyle='--', label=f'Ground state {eigv[0]:.3e}')\n",
    "    ax[0].legend()"
   ]
  },
  {
   "cell_type": "markdown",
   "id": "7579bc28",
   "metadata": {},
   "source": [
    "### Network - variational ansatz body $\\psi _\\theta (s)$ and its gradient $\\nabla \\psi _\\theta (s)$."
   ]
  },
  {
   "cell_type": "code",
   "execution_count": 8,
   "id": "c90ee629",
   "metadata": {},
   "outputs": [
    {
     "name": "stdout",
     "output_type": "stream",
     "text": [
      "12_05_2025_21-32_33 [INFO] \t->\u001b[34m[GeneralNet] Holomorphic check result (||∇Re[f] - i*∇Im[f]|| / ||∇Re[f]|| ≈ 0): True\u001b[0m\n",
      "12_05_2025_21-32_33 [INFO] \t->\u001b[34m[GeneralNet] FlaxInterface initialized: dtype=complex128, is_complex=True, nparams=288, is_holomorphic=True\u001b[0m\n"
     ]
    },
    {
     "data": {
      "text/plain": [
       "ComplexRBM(shape=(8,), hidden=32, bias=on, visible_bias=off, dtype=complex128, params=288, analytic_grad=False, initialized)"
      ]
     },
     "execution_count": 8,
     "metadata": {},
     "output_type": "execute_result"
    }
   ],
   "source": [
    "if network_type == 'RBM':\n",
    "    net = RBM(\n",
    "        input_shape     = st_shape, \n",
    "        n_hidden        = int(alpha * ns),\n",
    "        dtype           = dtypex,\n",
    "        seed            = seed,\n",
    "        visible_bias    = False,\n",
    "        bias            = True,\n",
    "    )\n",
    "elif network_type == 'CNN':\n",
    "    net     = CNN(\n",
    "        input_shape         = st_shape,\n",
    "        reshape_dims        = (lx, ly * mult),\n",
    "        features            = (8,) * alpha,\n",
    "        kernel_sizes        = [(3, 3)] * alpha,\n",
    "        activations         = [elu_jnp] * alpha,\n",
    "        dtype               = dtypex,\n",
    "        param_dtype         = dtypex,\n",
    "        final_activation    = elu_jnp,\n",
    "        seed                = seed,\n",
    "        output_shape        = (1,)\n",
    "    )\n",
    "else:\n",
    "    raise ValueError(f\"Unknown network type: {network_type}\")\n",
    "net"
   ]
  },
  {
   "cell_type": "markdown",
   "id": "8079b2cb",
   "metadata": {},
   "source": [
    "### Sampler - sampling from the distribution $p_\\theta (s)$."
   ]
  },
  {
   "cell_type": "code",
   "execution_count": 9,
   "id": "9c866d71",
   "metadata": {},
   "outputs": [
    {
     "data": {
      "text/plain": [
       "MCSampler(shape=(8,), mu=2.0, beta=1.0, therm_steps=25, sweep_steps=8, numsamples=500, numchains=5, backend=jax)"
      ]
     },
     "execution_count": 9,
     "metadata": {},
     "output_type": "execute_result"
    }
   ],
   "source": [
    "n_chains        = 5\n",
    "n_samples       = 500\n",
    "n_therm_steps   = 25\n",
    "sampler         = Sampler.MCSampler(\n",
    "                    net             = net,\n",
    "                    shape           = st_shape,\n",
    "                    rng             = rng,\n",
    "                    rng_k           = rng_k,\n",
    "                    numchains       = n_chains,\n",
    "                    numsamples      = n_samples,\n",
    "                    sweep_steps     = ns,\n",
    "                    backend         = backend_np,\n",
    "                    therm_steps     = n_therm_steps,\n",
    "                    mu              = 2.0,\n",
    "                    seed            = seed\n",
    "                )\n",
    "sampler"
   ]
  },
  {
   "cell_type": "markdown",
   "id": "b9157d81",
   "metadata": {},
   "source": [
    "### Stepper - TDVP stepper for the time evolution of the state $\\psi _\\theta (s)$."
   ]
  },
  {
   "cell_type": "code",
   "execution_count": 10,
   "id": "551c2668",
   "metadata": {},
   "outputs": [
    {
     "data": {
      "text/plain": [
       "Euler(dt=0.01, backend=<module 'jax.numpy' from '/home/klimak/libraries/anaconda3/lib/python3.11/site-packages/jax/numpy/__init__.py'>, rhs_p=-1.0)"
      ]
     },
     "execution_count": 10,
     "metadata": {},
     "output_type": "execute_result"
    }
   ],
   "source": [
    "if ode_solver_type == 'Euler':\n",
    "    ode_solver = Euler(\n",
    "        backend         = backend_np,\n",
    "        dt              = lr, \n",
    "        rhs_prefactor   = -1.0,\n",
    "    )\n",
    "elif ode_solver_type == 'Heun':\n",
    "    ode_solver = Heun(\n",
    "        backend         = backend_np,\n",
    "        dt              = lr,\n",
    "        rhs_prefactor   = -1.0,\n",
    "    )\n",
    "elif ode_solver_type == 'AdaptiveHeun':\n",
    "    ode_solver = AdaptiveHeun(\n",
    "        backend         = backend_np,\n",
    "        dt              = lr,\n",
    "        rhs_prefactor   = -1.0,\n",
    "    )\n",
    "else:\n",
    "    raise ValueError(f\"Unknown ODE solver: {ode_solver_type}\")\n",
    "ode_solver"
   ]
  },
  {
   "cell_type": "markdown",
   "id": "7ccd506f",
   "metadata": {},
   "source": [
    "### NQS - neural network quantum state $\\psi_\\theta (s)$ and its gradient $\\nabla \\psi_\\theta (s)$."
   ]
  },
  {
   "cell_type": "code",
   "execution_count": 11,
   "id": "cb454579",
   "metadata": {},
   "outputs": [
    {
     "name": "stdout",
     "output_type": "stream",
     "text": [
      "12_05_2025_21-32_35 [INFO] \t->\u001b[33m[Jacobi Preconditioner] Resetting backend to: jax\u001b[0m\n",
      "12_05_2025_21-32_35 [INFO] \t\t->\u001b[33m[Jacobi Preconditioner] JIT compiling apply_gram(r, S, Sp, ...) function...\u001b[0m\n"
     ]
    },
    {
     "data": {
      "text/plain": [
       "(CgSolverScipy(type=SCIPY_CG, backend='jax'),\n",
       " Jacobi Preconditioner(sigma=0.0, backend='jax', type=PreconditionersTypeSym.JACOBI, tol_small=1e-13))"
      ]
     },
     "execution_count": 11,
     "metadata": {},
     "output_type": "execute_result"
    }
   ],
   "source": [
    "n_epo           = 1000\n",
    "n_sweep_steps   = ns\n",
    "n_batch         = 10\n",
    "\n",
    "# Other\n",
    "reg             = 10\n",
    "maxiter         = 1000\n",
    "tolerance       = 1e-8\n",
    "use_min_sr      = False\n",
    "\n",
    "# Solver\n",
    "solver_id       = solvers.SolverType.SCIPY_CG\n",
    "precond_id      = preconditioners.PreconditionersTypeSym.JACOBI\n",
    "solver          = solvers.choose_solver(solver_id=solver_id, sigma=reg)\n",
    "precond         = preconditioners.choose_precond(precond_id=precond_id, backend=backend)\n",
    "precond_apply   = precond.get_apply_gram()\n",
    "\n",
    "# Stochastic Reconfiguration\n",
    "sr_options      = SR.SRParams(\n",
    "                    min_sr        = use_min_sr,\n",
    "                    maxiter       = maxiter,\n",
    "                    tol           = tolerance,\n",
    "                    reg           = reg,\n",
    "                    solver_form_s = False\n",
    "                )\n",
    "solver_linalg_func = solver.get_solver_func(\n",
    "                        backend_module = backend_np,\n",
    "                        use_matvec     = False,\n",
    "                        use_matrix     = False,\n",
    "                        use_fisher     = True,\n",
    "                        sigma          = None\n",
    "                    )\n",
    "\n",
    "#! Functions\n",
    "solver_fun      = solver_linalg_func\n",
    "precond_fun     = precond_apply\n",
    "\n",
    "solver, precond"
   ]
  },
  {
   "cell_type": "code",
   "execution_count": 12,
   "id": "1f68f7f5",
   "metadata": {},
   "outputs": [
    {
     "data": {
      "text/plain": [
       "[1] I am a NQS object with a general Monte Carlo Solver at β =  1.00."
      ]
     },
     "execution_count": 12,
     "metadata": {},
     "output_type": "execute_result"
    }
   ],
   "source": [
    "nqs =   NQS.NQS(\n",
    "            net             = net,\n",
    "            sampler         = sampler,\n",
    "            hamiltonian     = hamil,\n",
    "            lower_betas     = None,\n",
    "            lower_states    = None,\n",
    "            seed            = seed,\n",
    "            beta            = 1.0,\n",
    "            mu              = sampler.get_mu(),\n",
    "            shape           = st_shape,\n",
    "            backend         = backend_np,\n",
    "            nthread         = 1,\n",
    "            batch_size      = n_batch,\n",
    "        )\n",
    "ansatz          = nqs.ansatz\n",
    "loc_energy      = nqs.local_energy\n",
    "flat_grad       = nqs.flat_grad\n",
    "nqs"
   ]
  },
  {
   "cell_type": "markdown",
   "id": "a36a6f8f",
   "metadata": {},
   "source": [
    "### Test the training of the NQS with a simple Hamiltonian."
   ]
  },
  {
   "cell_type": "code",
   "execution_count": 16,
   "id": "e84020e7",
   "metadata": {},
   "outputs": [],
   "source": [
    "_single_step_jax = nqs.wrap_single_step_jax(\n",
    "    #! JAX options\n",
    "    apply_fn             = ansatz,\n",
    "    local_energy_fun     = loc_energy,\n",
    "    flat_grad_fun        = flat_grad,\n",
    "    #! Stochastic reconfiguration options\n",
    "    use_sr               = True,\n",
    "    sr_options           = sr_options,\n",
    "    sr_precond_apply_fun = precond_fun,\n",
    "    sr_solve_linalg_fun  = solver_fun,\n",
    ")\n",
    "\n",
    "#! Training\n",
    "def single_step_train(i: int, t = 0, reset: bool=False):\n",
    "    \n",
    "    #! 1) Sampling\n",
    "    ((_, _), (configs, configs_ansatze), probabilities), t_sample = timeit(nqs.sample, reset=reset)\n",
    "\n",
    "    #! 2) Energy + gradient (JIT-compiled)\n",
    "    params      = nqs.get_params(unravel=True)\n",
    "    \n",
    "    (dpar, lr, (step_info, (shapes, sizes, iscpx))), t_step = timeit(ode_solver.step,\n",
    "                            f               = _single_step_jax,\n",
    "                            y               = params,\n",
    "                            t               = t,\n",
    "                            configs         = configs,\n",
    "                            configs_ansatze = configs_ansatze,\n",
    "                            probabilities   = probabilities\n",
    "                            )\n",
    "    if step_info.failed:\n",
    "        logger.error(f\"Step {i} failed.\")\n",
    "        return None, None, (t_sample, t_step, 0.0)\n",
    "\n",
    "    #! 3) Parameter update\n",
    "    _, t_update = timeit(nqs.set_params, dpar, shapes=shapes, sizes=sizes, iscpx=iscpx)\n",
    "    return (step_info.mean_energy, step_info.std_energy), (t_sample, t_step, t_update)\n",
    "\n",
    "def train_function(n_epo : int, reset : bool = False):\n",
    "\n",
    "    history      = np.zeros(n_epo, dtype=np.float64)\n",
    "    history_std  = np.zeros(n_epo, dtype=np.float64)\n",
    "    times_samp   = np.zeros(n_epo, dtype=np.float64)\n",
    "    times_step   = np.zeros(n_epo, dtype=np.float64)\n",
    "    times_update = np.zeros(n_epo, dtype=np.float64)\n",
    "    pbar         = trange(n_epo, desc=\"Training\", leave=True)\n",
    "\n",
    "    for i in pbar:\n",
    "\n",
    "        (mean_E, std_E), (t_s, t_st, t_u) = single_step_train(i, t=0, reset=reset)\n",
    "        if mean_E is None:\n",
    "            logger.warning(f\"Stopped at epoch {i} due to failure.\")\n",
    "            break\n",
    "\n",
    "        # Log & display\n",
    "        times_samp[i], times_step[i], times_update[i]   = t_s, t_st, t_u\n",
    "        history[i], history_std[i]                      = np.real(mean_E), np.real(std_E)\n",
    "\n",
    "        pbar.set_postfix({\n",
    "            \"E_mean\"        :  f\"{mean_E:.4e}\",\n",
    "            \"lr\"            :  f\"{ode_solver.dt(0, 0):.1e}\",\n",
    "            \"t_sample\"      :  f\"{t_s:.3e}s\",\n",
    "            \"t_step\"        :  f\"{t_st:.3e}s\",\n",
    "            \"t_update\"      :  f\"{t_u:.3e}s\",\n",
    "            \"t_tot\"         :  f\"{(t_s+t_st+t_u):.3e}s\",\n",
    "        }, refresh=True)\n",
    "\n",
    "        if np.isnan(mean_E) or np.isnan(std_E):\n",
    "            logger.warning(f\"NaN detected at epoch {i}.\")\n",
    "            break\n",
    "\n",
    "    # At the end, you can quickly see where time went:\n",
    "    total = times_samp + times_step + times_update\n",
    "    print(\"Time breakdown (fraction of total):\")\n",
    "    print(f\"-sampling: {times_samp.sum()/total.sum():.2%}\")\n",
    "    print(f\"-compute:  {times_step.sum()/total.sum():.2%}\")\n",
    "    print(f\"-update:   {times_update.sum()/total.sum():.2%}\")\n",
    "\n",
    "    return (history[:i+1],\n",
    "            history_std[:i+1],\n",
    "            total[:i+1])"
   ]
  },
  {
   "cell_type": "code",
   "execution_count": 17,
   "id": "6cf9e9d1",
   "metadata": {},
   "outputs": [
    {
     "name": "stderr",
     "output_type": "stream",
     "text": [
      "Training:   8%|▊         | 77/1000 [00:54<10:48,  1.42it/s, E_mean=-4.5269e+00-1.3426e-02j, lr=1.0e-02, t_sample=6.234e-02s, t_step=6.571e-01s, t_update=2.162e-04s, t_tot=7.196e-01s]\n"
     ]
    },
    {
     "ename": "KeyboardInterrupt",
     "evalue": "",
     "output_type": "error",
     "traceback": [
      "\u001b[0;31m---------------------------------------------------------------------------\u001b[0m",
      "\u001b[0;31mKeyboardInterrupt\u001b[0m                         Traceback (most recent call last)",
      "Cell \u001b[0;32mIn[17], line 1\u001b[0m\n\u001b[0;32m----> 1\u001b[0m history, history_std, epoch_times \u001b[38;5;241m=\u001b[39m train_function(\n\u001b[1;32m      2\u001b[0m             n_epo       \u001b[38;5;241m=\u001b[39m n_epo,\n\u001b[1;32m      3\u001b[0m             reset       \u001b[38;5;241m=\u001b[39m \u001b[38;5;28;01mTrue\u001b[39;00m,\n\u001b[1;32m      4\u001b[0m             )\n",
      "Cell \u001b[0;32mIn[16], line 49\u001b[0m, in \u001b[0;36mtrain_function\u001b[0;34m(n_epo, reset)\u001b[0m\n\u001b[1;32m     45\u001b[0m pbar         \u001b[38;5;241m=\u001b[39m trange(n_epo, desc\u001b[38;5;241m=\u001b[39m\u001b[38;5;124m\"\u001b[39m\u001b[38;5;124mTraining\u001b[39m\u001b[38;5;124m\"\u001b[39m, leave\u001b[38;5;241m=\u001b[39m\u001b[38;5;28;01mTrue\u001b[39;00m)\n\u001b[1;32m     47\u001b[0m \u001b[38;5;28;01mfor\u001b[39;00m i \u001b[38;5;129;01min\u001b[39;00m pbar:\n\u001b[0;32m---> 49\u001b[0m     (mean_E, std_E), (t_s, t_st, t_u) \u001b[38;5;241m=\u001b[39m single_step_train(i, t\u001b[38;5;241m=\u001b[39m\u001b[38;5;241m0\u001b[39m, reset\u001b[38;5;241m=\u001b[39mreset)\n\u001b[1;32m     50\u001b[0m     \u001b[38;5;28;01mif\u001b[39;00m mean_E \u001b[38;5;129;01mis\u001b[39;00m \u001b[38;5;28;01mNone\u001b[39;00m:\n\u001b[1;32m     51\u001b[0m         logger\u001b[38;5;241m.\u001b[39mwarning(\u001b[38;5;124mf\u001b[39m\u001b[38;5;124m\"\u001b[39m\u001b[38;5;124mStopped at epoch \u001b[39m\u001b[38;5;132;01m{\u001b[39;00mi\u001b[38;5;132;01m}\u001b[39;00m\u001b[38;5;124m due to failure.\u001b[39m\u001b[38;5;124m\"\u001b[39m)\n",
      "Cell \u001b[0;32mIn[16], line 22\u001b[0m, in \u001b[0;36msingle_step_train\u001b[0;34m(i, t, reset)\u001b[0m\n\u001b[1;32m     19\u001b[0m \u001b[38;5;66;03m#! 2) Energy + gradient (JIT-compiled)\u001b[39;00m\n\u001b[1;32m     20\u001b[0m params      \u001b[38;5;241m=\u001b[39m nqs\u001b[38;5;241m.\u001b[39mget_params(unravel\u001b[38;5;241m=\u001b[39m\u001b[38;5;28;01mTrue\u001b[39;00m)\n\u001b[0;32m---> 22\u001b[0m (dpar, lr, (step_info, (shapes, sizes, iscpx))), t_step \u001b[38;5;241m=\u001b[39m timeit(ode_solver\u001b[38;5;241m.\u001b[39mstep,\n\u001b[1;32m     23\u001b[0m                         f               \u001b[38;5;241m=\u001b[39m _single_step_jax,\n\u001b[1;32m     24\u001b[0m                         y               \u001b[38;5;241m=\u001b[39m params,\n\u001b[1;32m     25\u001b[0m                         t               \u001b[38;5;241m=\u001b[39m t,\n\u001b[1;32m     26\u001b[0m                         configs         \u001b[38;5;241m=\u001b[39m configs,\n\u001b[1;32m     27\u001b[0m                         configs_ansatze \u001b[38;5;241m=\u001b[39m configs_ansatze,\n\u001b[1;32m     28\u001b[0m                         probabilities   \u001b[38;5;241m=\u001b[39m probabilities\n\u001b[1;32m     29\u001b[0m                         )\n\u001b[1;32m     30\u001b[0m \u001b[38;5;28;01mif\u001b[39;00m step_info\u001b[38;5;241m.\u001b[39mfailed:\n\u001b[1;32m     31\u001b[0m     logger\u001b[38;5;241m.\u001b[39merror(\u001b[38;5;124mf\u001b[39m\u001b[38;5;124m\"\u001b[39m\u001b[38;5;124mStep \u001b[39m\u001b[38;5;132;01m{\u001b[39;00mi\u001b[38;5;132;01m}\u001b[39;00m\u001b[38;5;124m failed.\u001b[39m\u001b[38;5;124m\"\u001b[39m)\n",
      "File \u001b[0;32m~/Codes/QuantumEigenSolver/Python/QES/general_python/common/timer.py:150\u001b[0m, in \u001b[0;36mtimeit\u001b[0;34m(fn, *args, **kwargs)\u001b[0m\n\u001b[1;32m    148\u001b[0m     \u001b[38;5;28;01mfor\u001b[39;00m x \u001b[38;5;129;01min\u001b[39;00m res:\n\u001b[1;32m    149\u001b[0m         \u001b[38;5;28;01mif\u001b[39;00m \u001b[38;5;28mhasattr\u001b[39m(x, \u001b[38;5;124m\"\u001b[39m\u001b[38;5;124mblock_until_ready\u001b[39m\u001b[38;5;124m\"\u001b[39m):\n\u001b[0;32m--> 150\u001b[0m             x\u001b[38;5;241m.\u001b[39mblock_until_ready()\n\u001b[1;32m    151\u001b[0m \u001b[38;5;28;01mreturn\u001b[39;00m res, time\u001b[38;5;241m.\u001b[39mtime() \u001b[38;5;241m-\u001b[39m t0\n",
      "\u001b[0;31mKeyboardInterrupt\u001b[0m: "
     ]
    }
   ],
   "source": [
    "history, history_std, epoch_times = train_function(\n",
    "            n_epo       = n_epo,\n",
    "            reset       = True,\n",
    "            )"
   ]
  },
  {
   "cell_type": "code",
   "execution_count": null,
   "id": "5ad76415",
   "metadata": {},
   "outputs": [
    {
     "ename": "NameError",
     "evalue": "name 'history' is not defined",
     "output_type": "error",
     "traceback": [
      "\u001b[0;31m---------------------------------------------------------------------------\u001b[0m",
      "\u001b[0;31mNameError\u001b[0m                                 Traceback (most recent call last)",
      "Cell \u001b[0;32mIn[1], line 1\u001b[0m\n\u001b[0;32m----> 1\u001b[0m energies        \u001b[38;5;241m=\u001b[39m history[\u001b[38;5;241m~\u001b[39mnp\u001b[38;5;241m.\u001b[39misnan(history)][:\u001b[38;5;241m-\u001b[39m\u001b[38;5;241m2\u001b[39m]\n\u001b[1;32m      2\u001b[0m energies_std    \u001b[38;5;241m=\u001b[39m history_std[\u001b[38;5;241m~\u001b[39mnp\u001b[38;5;241m.\u001b[39misnan(history_std)][:\u001b[38;5;241m-\u001b[39m\u001b[38;5;241m2\u001b[39m]\n\u001b[1;32m      3\u001b[0m fig, ax         \u001b[38;5;241m=\u001b[39m Plotter\u001b[38;5;241m.\u001b[39mget_subplots(nrows\u001b[38;5;241m=\u001b[39m\u001b[38;5;241m3\u001b[39m, ncols\u001b[38;5;241m=\u001b[39m\u001b[38;5;241m1\u001b[39m, figsize\u001b[38;5;241m=\u001b[39m(\u001b[38;5;241m5\u001b[39m, \u001b[38;5;241m6\u001b[39m), dpi\u001b[38;5;241m=\u001b[39m\u001b[38;5;241m150\u001b[39m, sharex\u001b[38;5;241m=\u001b[39m\u001b[38;5;28;01mTrue\u001b[39;00m)\n",
      "\u001b[0;31mNameError\u001b[0m: name 'history' is not defined"
     ]
    }
   ],
   "source": [
    "energies        = history[~np.isnan(history)][:-2]\n",
    "energies_std    = history_std[~np.isnan(history_std)][:-2]\n",
    "fig, ax         = Plotter.get_subplots(nrows=3, ncols=1, figsize=(5, 6), dpi=150, sharex=True)\n",
    "Plotter.plot(ax[0], x=np.arange(len(energies)), y=np.real(energies) / lattice.ns, marker=\"o\", markersize=0.5, lw=1)\n",
    "if eigv is not None:\n",
    "    ax[0].axhline(eigv[0] / lattice.ns, color='r', linestyle='--', label=f'Ground state {eigv[0] / lattice.ns:.3e}')\n",
    "    ax[0].legend()\n",
    "Plotter.set_ax_params(ax[0], title=\"Training Progress\", ylabel=r\"$E/N_s$\")\n",
    "Plotter.set_tickparams(ax[0], maj_tick_l=2, min_tick_l=1)\n",
    "\n",
    "\n",
    "Plotter.plot(ax[1], x=np.arange(len(energies_std)), y=np.real(energies_std) / lattice.ns, marker=\"o\", markersize=0.5, lw=1)\n",
    "Plotter.set_ax_params(ax[1], ylabel=r\"$\\sigma_E/N_s$\", yscale=\"log\")\n",
    "Plotter.set_tickparams(ax[1], maj_tick_l=2, min_tick_l=1)\n",
    "\n",
    "Plotter.plot(ax[2], x=np.arange(len(epoch_times)), y=np.real(epoch_times) / lattice.ns, marker=\"o\", markersize=0.5, lw=1)\n",
    "Plotter.set_ax_params(ax[2], xlabel=\"Epoch\", ylabel=r\"$t_{\\rm epoch} [s / N_s]$\", yscale=\"log\")"
   ]
  },
  {
   "cell_type": "code",
   "execution_count": null,
   "id": "e562d568",
   "metadata": {},
   "outputs": [],
   "source": []
  }
 ],
 "metadata": {
  "kernelspec": {
   "display_name": "base",
   "language": "python",
   "name": "python3"
  },
  "language_info": {
   "codemirror_mode": {
    "name": "ipython",
    "version": 3
   },
   "file_extension": ".py",
   "mimetype": "text/x-python",
   "name": "python",
   "nbconvert_exporter": "python",
   "pygments_lexer": "ipython3",
   "version": "3.11.11"
  }
 },
 "nbformat": 4,
 "nbformat_minor": 5
}
