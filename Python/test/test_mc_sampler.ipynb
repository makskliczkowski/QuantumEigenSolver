{
 "cells": [
  {
   "cell_type": "code",
   "execution_count": 28,
   "id": "f81ad4c7",
   "metadata": {},
   "outputs": [],
   "source": [
    "import sys\n",
    "import os\n",
    "# os.environ['JAX_PLATFORM_NAME'] = 'cpu'\n",
    "\n",
    "import numpy as np\n",
    "import time\n",
    "\n",
    "# Add the parent directory (project root) to sys.path\n",
    "script_dir = os.path.dirname(os.curdir)\n",
    "parent_dir = os.path.abspath(os.path.join(script_dir, '..'))\n",
    "if parent_dir not in sys.path:\n",
    "    sys.path.append(parent_dir)\n",
    "\n",
    "# ------------------------------------------------------------------\n",
    "#! General\n",
    "from QES.general_python.common.timer import Timer, timeit\n",
    "from QES.general_python.common.plot import Plotter, MatrixPrinter\n",
    "from QES.general_python.common.binary import JAX_AVAILABLE, get_backend, get_global_logger\n",
    "\n",
    "# ------------------------------------------------------------------\n",
    "#! Sampler\n",
    "import QES.Solver.MonteCarlo.sampler as Sampler\n",
    "\n",
    "# ------------------------------------------------------------------\n",
    "#! Networks\n",
    "from QES.general_python.ml.net_impl.networks.net_rbm import RBM\n",
    "from QES.general_python.ml.net_impl.networks.net_cnn import CNN\n",
    "from QES.general_python.ml.net_impl.activation_functions import relu_jnp, tanh_jnp, sigmoid_jnp, leaky_relu_jnp, elu_jnp, poly6_jnp, softplus_jnp\n",
    "\n",
    "#! Backends\n",
    "if JAX_AVAILABLE:\n",
    "    import jax\n",
    "    import jax.numpy as jnp\n",
    "else:\n",
    "    jax = None\n",
    "    jnp = np\n",
    "\n",
    "# ------------------------------------------------------------------\n",
    "network_type    = 'rbm'  # 'cnn' or 'rbm'\n",
    "lx              = 5\n",
    "ly              = 2\n",
    "ns              = 10\n",
    "mult            = (ns) // (lx * ly)\n",
    "st_shape        = (ns, )\n",
    "alpha           = 2\n",
    "dtypex          = jnp.complex64\n",
    "seed            = 1234\n",
    "\n",
    "logger          = get_global_logger()\n",
    "backend         = 'jax'\n",
    "be_modules      = get_backend(backend, random=True, seed=seed, scipy=True)\n",
    "backend_np, (rng, rng_k), backend_sp = be_modules if isinstance(be_modules, tuple) else (be_modules, (None, None), None)"
   ]
  },
  {
   "cell_type": "code",
   "execution_count": 29,
   "id": "f0ad5c34",
   "metadata": {},
   "outputs": [
    {
     "name": "stdout",
     "output_type": "stream",
     "text": [
      "18_05_2025_20-37_24 [INFO] \t->\u001b[34m[GeneralNet] Holomorphic check result (||∇Re[f] - i*∇Im[f]|| / ||∇Re[f]|| ≈ 0): True\u001b[0m\n",
      "18_05_2025_20-37_24 [INFO] \t->\u001b[34m[GeneralNet] FlaxInterface initialized: dtype=complex64, is_complex=True, nparams=230, is_holomorphic=True\u001b[0m\n"
     ]
    },
    {
     "data": {
      "text/plain": [
       "ComplexRBM(shape=(10,), hidden=20, bias=on, visible_bias=on, dtype=complex64, params=230, analytic_grad=False, initialized)"
      ]
     },
     "execution_count": 29,
     "metadata": {},
     "output_type": "execute_result"
    }
   ],
   "source": [
    "if network_type == 'rbm':\n",
    "    net = RBM(\n",
    "        input_shape         = st_shape, \n",
    "        n_hidden            = int(alpha * ns),\n",
    "        dtype               = dtypex,\n",
    "        param_dtype         = dtypex,\n",
    "        seed                = seed,\n",
    "        visible_bias        = True,\n",
    "        bias                = True,\n",
    "    )\n",
    "elif network_type == 'cnn':\n",
    "    net     = CNN(\n",
    "        input_shape         = st_shape,\n",
    "        reshape_dims        = (lx, ly * mult),\n",
    "        features            = (8,) * alpha,\n",
    "        strides             = [(1, 1)] * alpha,\n",
    "        kernel_sizes        = [(2, 2)] * alpha,\n",
    "        activations         = [elu_jnp] * alpha,\n",
    "        dtype               = dtypex,\n",
    "        param_dtype         = dtypex,\n",
    "        final_activation    = elu_jnp,\n",
    "        seed                = seed,\n",
    "        output_shape        = (1,)\n",
    "    )\n",
    "else:\n",
    "    raise ValueError(f\"Unknown network type: {network_type}\")\n",
    "net"
   ]
  },
  {
   "cell_type": "code",
   "execution_count": 30,
   "id": "ca1f002c",
   "metadata": {},
   "outputs": [
    {
     "data": {
      "text/plain": [
       "MCSampler(shape=(10,), mu=2.0, beta=1.0, therm_steps=25, sweep_steps=10, numsamples=200, numchains=5, backend=jax)"
      ]
     },
     "execution_count": 30,
     "metadata": {},
     "output_type": "execute_result"
    }
   ],
   "source": [
    "n_chains        = 5\n",
    "n_samples       = 200\n",
    "n_therm_steps   = 25\n",
    "sampler         = Sampler.MCSampler(\n",
    "                    net             = net,\n",
    "                    shape           = st_shape,\n",
    "                    rng             = rng,\n",
    "                    rng_k           = rng_k,\n",
    "                    numchains       = n_chains,\n",
    "                    numsamples      = n_samples,\n",
    "                    sweep_steps     = min(ns, 28),\n",
    "                    backend         = backend_np,\n",
    "                    therm_steps     = n_therm_steps,\n",
    "                    mu              = 2.0,\n",
    "                    seed            = seed,\n",
    "                    dtype           = dtypex,\n",
    "                    statetype       = np.float64,\n",
    "                    makediffer      = True\n",
    "                )\n",
    "do_tests    = False\n",
    "sampler_fun = sampler.get_sampler_jax()\n",
    "sampler"
   ]
  },
  {
   "cell_type": "markdown",
   "id": "11f09147",
   "metadata": {},
   "source": [
    "### Test many samples through sample() method "
   ]
  },
  {
   "cell_type": "code",
   "execution_count": 31,
   "id": "8bc5551a",
   "metadata": {},
   "outputs": [
    {
     "name": "stdout",
     "output_type": "stream",
     "text": [
      "58.3 ns ± 50.3 ns per loop (mean ± std. dev. of 5 runs, 5 loops each)\n"
     ]
    }
   ],
   "source": [
    "%%timeit -r 5 -n 5\n",
    "if do_tests:\n",
    "    sampler.sample()"
   ]
  },
  {
   "cell_type": "markdown",
   "id": "a7a11394",
   "metadata": {},
   "source": [
    "### Test many samples through obtained sampler function "
   ]
  },
  {
   "cell_type": "code",
   "execution_count": 32,
   "id": "3faefe49",
   "metadata": {},
   "outputs": [
    {
     "name": "stdout",
     "output_type": "stream",
     "text": [
      "46.7 ns ± 41 ns per loop (mean ± std. dev. of 5 runs, 5 loops each)\n"
     ]
    }
   ],
   "source": [
    "%%timeit -r 5 -n 5\n",
    "if do_tests:\n",
    "    sampler_fun(sampler.states, sampler.rng_k, net.get_params())"
   ]
  },
  {
   "cell_type": "code",
   "execution_count": 49,
   "id": "09b37958",
   "metadata": {},
   "outputs": [
    {
     "name": "stdout",
     "output_type": "stream",
     "text": [
      "18_05_2025_20-40_55 [INFO] \u001b[32mSampling 100 times\u001b[0m\n",
      "18_05_2025_20-40_55 [INFO] \t->\u001b[34mIteration 0: 5.2204e-02 seconds\u001b[0m\n",
      "18_05_2025_20-40_56 [INFO] \t->\u001b[34mIteration 10: 3.7067e-02 seconds\u001b[0m\n",
      "18_05_2025_20-40_56 [INFO] \t->\u001b[34mIteration 20: 3.7114e-02 seconds\u001b[0m\n",
      "18_05_2025_20-40_57 [INFO] \t->\u001b[34mIteration 30: 3.6813e-02 seconds\u001b[0m\n",
      "18_05_2025_20-40_57 [INFO] \t->\u001b[34mIteration 40: 3.6877e-02 seconds\u001b[0m\n",
      "18_05_2025_20-40_57 [INFO] \t->\u001b[34mIteration 50: 3.6599e-02 seconds\u001b[0m\n",
      "18_05_2025_20-40_58 [INFO] \t->\u001b[34mIteration 60: 3.7736e-02 seconds\u001b[0m\n",
      "18_05_2025_20-40_58 [INFO] \t->\u001b[34mIteration 70: 3.7103e-02 seconds\u001b[0m\n",
      "18_05_2025_20-40_58 [INFO] \t->\u001b[34mIteration 80: 3.6729e-02 seconds\u001b[0m\n",
      "18_05_2025_20-40_59 [INFO] \t->\u001b[34mIteration 90: 3.6184e-02 seconds\u001b[0m\n",
      "18_05_2025_20-40_59 [INFO] \u001b[0mMean time: 3.7490e-02 seconds\u001b[0m\n",
      "18_05_2025_20-40_59 [INFO] \u001b[31mMax time: 5.2204e-02 seconds\u001b[0m\n",
      "18_05_2025_20-40_59 [INFO] \u001b[32mMin time: 3.6057e-02 seconds\u001b[0m\n",
      "18_05_2025_20-40_59 [INFO] \u001b[33mStd time: 1.6827e-03 seconds\u001b[0m\n"
     ]
    }
   ],
   "source": [
    "def multiple_samples(n):\n",
    "    samples = []\n",
    "    times   = []\n",
    "    \n",
    "    def shall_print(i):\n",
    "        if n < 50:\n",
    "            return True\n",
    "        if i % (n // 10) == 0:\n",
    "            return True\n",
    "        return False\n",
    "    \n",
    "    logger.info(f\"Sampling {n} times\", color='green')\n",
    "    for i in range(n):\n",
    "        s, t        = timeit(sampler.sample)\n",
    "        samples.append(s)\n",
    "        times.append(t)\n",
    "        if shall_print(i):\n",
    "            logger.info(f\"Iteration {i}: {t:.4e} seconds\", color='blue', lvl=1)\n",
    "    # statistics\n",
    "    times   = np.array(times)\n",
    "    logger.info(f\"Mean time: {np.mean(times):.4e} seconds\", color='white', lvl=0)\n",
    "    logger.info(f\"Max time: {np.max(times):.4e} seconds\", color='red', lvl=0)\n",
    "    logger.info(f\"Min time: {np.min(times):.4e} seconds\", color='green', lvl=0)\n",
    "    logger.info(f\"Std time: {np.std(times):.4e} seconds\", color='yellow', lvl=0)\n",
    "    \n",
    "    return samples, times\n",
    "samples, times = multiple_samples(100)"
   ]
  },
  {
   "cell_type": "code",
   "execution_count": null,
   "id": "46b4d6ea",
   "metadata": {},
   "outputs": [],
   "source": []
  },
  {
   "cell_type": "code",
   "execution_count": null,
   "id": "cc32c09c",
   "metadata": {},
   "outputs": [],
   "source": []
  }
 ],
 "metadata": {
  "kernelspec": {
   "display_name": "base",
   "language": "python",
   "name": "python3"
  },
  "language_info": {
   "codemirror_mode": {
    "name": "ipython",
    "version": 3
   },
   "file_extension": ".py",
   "mimetype": "text/x-python",
   "name": "python",
   "nbconvert_exporter": "python",
   "pygments_lexer": "ipython3",
   "version": "3.12.2"
  }
 },
 "nbformat": 4,
 "nbformat_minor": 5
}
