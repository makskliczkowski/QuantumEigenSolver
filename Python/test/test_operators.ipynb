{
 "cells": [
  {
   "cell_type": "code",
   "execution_count": 6,
   "id": "49806205",
   "metadata": {},
   "outputs": [],
   "source": [
    "import sys\n",
    "import os\n",
    "import numbers\n",
    "import numpy as np\n",
    "from IPython.display import Math, display\n",
    "from typing import Union, List, Sequence, Optional\n",
    "\n",
    "# Add the parent directory (project root) to sys.path\n",
    "script_dir              = os.path.dirname(os.curdir)\n",
    "parent_dir              = os.path.abspath(os.path.join(script_dir, '..'))\n",
    "if parent_dir not in sys.path:\n",
    "    sys.path.append(parent_dir)\n",
    "\n",
    "from QES.general_python.algebra.utils import JAX_AVAILABLE\n",
    "from QES.general_python.lattices.honeycomb import HoneycombLattice\n",
    "from QES.general_python.lattices.square import SquareLattice\n",
    "from QES.general_python.lattices.lattice import LatticeBC, Lattice\n",
    "import QES.general_python.common.binary as _bin_mod\n",
    "from QES.general_python.common.timer import Timer\n",
    "from QES.general_python.common.display import (\n",
    "    display_state,\n",
    "    display_operator_action,\n",
    ")\n",
    "\n",
    "from QES.Algebra.Operator.operator import OperatorTypeActing, Operator\n",
    "#! Spin operators\n",
    "import QES.Algebra.Operator.operators_spin as op_spin\n",
    "#! Fermionic operators\n",
    "import QES.Algebra.Operator.operators_spinless_fermions as op_sferm\n",
    "\n",
    "\n",
    "#! Backends\n",
    "if JAX_AVAILABLE:\n",
    "    import jax\n",
    "    import jax.numpy as jnp\n",
    "else:\n",
    "    jax = None\n",
    "    jnp = None\n",
    "    \n",
    "backend = 'np'\n",
    "lat     = SquareLattice(dim     = 1,\n",
    "                        lx      = 5,\n",
    "                        ly      = 1,\n",
    "                        lz      = 1,\n",
    "                        bc      = LatticeBC.PBC)\n",
    "\n",
    "#! Create functions for testing\n",
    "\n",
    "def test_operator_on_state(op           : Union[Operator, Sequence[Operator]],\n",
    "                        lat             : Lattice,\n",
    "                        state           : Union[int, np.ndarray, jnp.ndarray],\n",
    "                        *,\n",
    "                        ns              : Optional[int] = None,\n",
    "                        op_acting       : \"OperatorTypeActing\" = OperatorTypeActing.Local,\n",
    "                        op_label        = None,\n",
    "                        to_bin          = None) -> None:\n",
    "    r\"\"\"\n",
    "    Pretty-print the action of *one or several* lattice operators\n",
    "    on a basis state or wave-function.\n",
    "\n",
    "    Parameters\n",
    "    ----------\n",
    "    op : Operator or sequence[Operator]\n",
    "        The operator(s) Ô acting on 0, 1, or 2 sites.\n",
    "    lat : Lattice\n",
    "        Provides the number of sites ``lat.ns`` = :math:`N_s`.\n",
    "    state : int | np.ndarray | jax.numpy.ndarray\n",
    "        *Basis state* (integer encoding) or *wave-function* :math:`|\\psi\\rangle`.\n",
    "    op_acting : OperatorTypeActing, default = ``Local``\n",
    "        How Ô acts: Local (Ôᵢ), Correlation (Ôᵢⱼ), or Global (Ô).\n",
    "    op_label : str | sequence[str], optional\n",
    "        LaTeX label(s).  If *None*, uses ``op.name`` for every operator.\n",
    "    to_bin : Callable[[int, int], str], optional\n",
    "        Integer → binary-string formatter.  Defaults to\n",
    "        ``lambda k,L: format(k, f'0{L}b')``.\n",
    "\n",
    "    Notes\n",
    "    -----\n",
    "    * For **integer states** we reproduce the coefficient table you had before.\n",
    "    * For **array states** (NumPy / JAX) we show only the *first* non-zero\n",
    "        coefficient returned by the operator.  Adjust if you need more detail.\n",
    "    \"\"\"\n",
    "    # ------------------------------------------------------------------\n",
    "    ops      = (op,) if not isinstance(op, Sequence) else tuple(op)\n",
    "    labels   = _prepare_labels(ops, op_label)\n",
    "    is_int   = isinstance(state, (numbers.Integral, int, np.integer)) \n",
    "    ns       = lat.ns if ns is None else ns\n",
    "    \n",
    "    # ------------------------------------------------------------------\n",
    "    if is_int:\n",
    "        display_state(state,\n",
    "                    ns,\n",
    "                    label  = f\"Initial integer state (Ns={ns})\",\n",
    "                    to_bin = to_bin)\n",
    "    else:\n",
    "        print(f\"Input state is a {state}\")\n",
    "\n",
    "    # ------------------------------------------------------------------\n",
    "    with Timer(verbose=True):\n",
    "        for cur_op, lab in zip(ops, labels):\n",
    "            display(Math(fr\"\\text{{Operator: }} {lab}, \\text{{typeacting}}: {op_acting}\"))\n",
    "            \n",
    "            if op_acting == OperatorTypeActing.Local:\n",
    "                for i in range(ns):\n",
    "                    display(Math(fr\"\\quad \\text{{Site index: }} {i}\"))\n",
    "                    _dispatch(cur_op, state, lat, is_int, to_bin, lab, i=i)\n",
    "\n",
    "            elif op_acting == OperatorTypeActing.Correlation:\n",
    "                for i in range(ns):\n",
    "                    for j in range(ns):\n",
    "                        display(Math(fr\"\\text{{Site indices: }} {i}, {j}\"))\n",
    "                        _dispatch(cur_op, state, lat, is_int, to_bin, lab, i=i, j=j)\n",
    "\n",
    "            elif op_acting == OperatorTypeActing.Global:\n",
    "                _dispatch(cur_op, state, lat, is_int, to_bin, lab)\n",
    "\n",
    "            else:\n",
    "                raise ValueError(f\"Operator acting type {op_acting!r} not supported.\")\n",
    "\n",
    "\n",
    "#------------------------------------------------------------------------\n",
    "#! Helper functions\n",
    "#------------------------------------------------------------------------\n",
    "\n",
    "def _prepare_labels(ops, op_label):\n",
    "    \"\"\"Return a tuple of LaTeX labels matching *ops*.\"\"\"\n",
    "    if op_label is None:\n",
    "        return tuple(getattr(op, \"name\", f\"op_{k}\") for k, op in enumerate(ops))\n",
    "    if isinstance(op_label, Sequence):\n",
    "        if len(op_label) != len(ops):\n",
    "            raise ValueError(\"Length of op_label must match number of operators\")\n",
    "        return tuple(op_label)\n",
    "    return tuple(op_label for _ in ops)\n",
    "\n",
    "def _dispatch(op, state, lat, is_int, to_bin, lab, *, i=None, j=None):\n",
    "    \"\"\"\n",
    "    Call *op* with the right signature and send its first output to\n",
    "    `display_operator_action`.\n",
    "    \"\"\"\n",
    "    \n",
    "    if is_int:\n",
    "        state_act = state\n",
    "    else:\n",
    "        state_act = state.copy()\n",
    "    \n",
    "    # call signature depends on OperatorTypeActing\n",
    "    if i is None:                        # Global operator\n",
    "        st_out, coeff = op(state_act)\n",
    "    elif j is None:                      # Local operator\n",
    "        if is_int:\n",
    "            st_out, coeff = op(state_act, i)\n",
    "        elif isinstance(state_act, (np.ndarray)):\n",
    "            sites         = np.array([i])\n",
    "            st_out, coeff = op(state_act, sites)\n",
    "        elif isinstance(state_act, (jnp.ndarray)):\n",
    "            sites         = jnp.array([i])\n",
    "            st_out, coeff = op(state_act, sites[0])\n",
    "    else:                                # Correlation operator\n",
    "        if is_int:\n",
    "            st_out, coeff = op(state_act, i, j)\n",
    "        elif isinstance(state_act, (np.ndarray)):\n",
    "            sites         = np.array([i, j])\n",
    "            st_out, coeff = op(state_act, sites)\n",
    "        elif isinstance(state_act, (jnp.ndarray)):\n",
    "            sites         = jnp.array([i, j])\n",
    "            st_out, coeff = op(state_act, sites[0], sites[1])\n",
    "            \n",
    "    # --------------- choose what to show depending on state representation ---\n",
    "    if is_int:\n",
    "        new_state = None if st_out is None else st_out[0]\n",
    "        new_coeff = 0    if st_out is None else coeff[0]\n",
    "    else:\n",
    "        # For array-based states: show the first coefficient, state display N/A\n",
    "        new_state = None\n",
    "        new_coeff = coeff[0] if np.size(coeff) else coeff\n",
    "\n",
    "    display_operator_action(f\"\\\\quad \\\\quad {lab}\",\n",
    "                            i if j is None else (i, j),\n",
    "                            state,\n",
    "                            lat.ns,\n",
    "                            new_state,\n",
    "                            new_coeff,\n",
    "                            to_bin = to_bin)"
   ]
  },
  {
   "cell_type": "markdown",
   "id": "9ea8da02",
   "metadata": {},
   "source": [
    "## Spin operators $\\sigma^x$, $\\sigma^y$, $\\sigma^z$\n",
    "\n",
    "The Pauli matrices are defined as:\n",
    "$$\n",
    "\\sigma^x = \\begin{pmatrix}\n",
    "0 & 1 \\\\\n",
    "1 & 0\n",
    "\\end{pmatrix}, \\quad\n",
    "\\sigma^y = \\begin{pmatrix}\n",
    "0 & -i \\\\\n",
    "-i & 0\n",
    "\\end{pmatrix}, \\quad\n",
    "\\sigma^z = \\begin{pmatrix}\n",
    "1 & 0 \\\\\n",
    "0 & -1\n",
    "\\end{pmatrix}\n",
    "$$"
   ]
  },
  {
   "cell_type": "markdown",
   "id": "54de3ab4",
   "metadata": {},
   "source": [
    "### a) Local operators"
   ]
  },
  {
   "cell_type": "code",
   "execution_count": 7,
   "id": "59e4d3ac",
   "metadata": {},
   "outputs": [
    {
     "data": {
      "text/plain": [
       "(19, array([1., 1., 1., 1., 1.]), Array([1., 1., 1., 1., 1.], dtype=float64))"
      ]
     },
     "execution_count": 7,
     "metadata": {},
     "output_type": "execute_result"
    }
   ],
   "source": [
    "sig_x = op_spin.sig_x(\n",
    "    lattice  = lat,\n",
    "    type_act = op_spin.OperatorTypeActing.Local\n",
    ")\n",
    "sig_y = op_spin.sig_y(\n",
    "    lattice  = lat,\n",
    "    type_act = op_spin.OperatorTypeActing.Local\n",
    ")\n",
    "sig_z = op_spin.sig_z(\n",
    "    lattice  = lat,\n",
    "    type_act = op_spin.OperatorTypeActing.Local\n",
    ")\n",
    "\n",
    "# create a set of states and test it\n",
    "int_state = np.random.randint(0, 2**lat.ns, dtype=np.int32)\n",
    "np_state  = np.ones((lat.ns), dtype = np.float64)\n",
    "jnp_state = jnp.ones((lat.ns), dtype = jnp.float64)\n",
    "\n",
    "int_state, np_state, jnp_state"
   ]
  },
  {
   "cell_type": "markdown",
   "id": "aa380d42",
   "metadata": {},
   "source": [
    "#### a) Integer states"
   ]
  },
  {
   "cell_type": "code",
   "execution_count": null,
   "id": "2d834af1",
   "metadata": {},
   "outputs": [
    {
     "data": {
      "text/latex": [
       "$\\displaystyle \\text{Initial integer state (Ns=5): }\\,\\left|(19)\\,10011\\right\\rangle$"
      ],
      "text/plain": [
       "<IPython.core.display.Math object>"
      ]
     },
     "metadata": {},
     "output_type": "display_data"
    },
    {
     "data": {
      "text/latex": [
       "$\\displaystyle \\text{Operator: } \\sigma^x, \\text{typeacting}: OperatorTypeActing.Local$"
      ],
      "text/plain": [
       "<IPython.core.display.Math object>"
      ]
     },
     "metadata": {},
     "output_type": "display_data"
    },
    {
     "data": {
      "text/latex": [
       "$\\displaystyle \\quad \\text{Site index: } 0$"
      ],
      "text/plain": [
       "<IPython.core.display.Math object>"
      ]
     },
     "metadata": {},
     "output_type": "display_data"
    },
    {
     "data": {
      "text/latex": [
       "$\\displaystyle \\quad \\quad \\sigma^x_{0}\\,\\left|(19)\\,10011\\right\\rangle = 0.5\\left|(3)\\,00011\\right\\rangle$"
      ],
      "text/plain": [
       "<IPython.core.display.Math object>"
      ]
     },
     "metadata": {},
     "output_type": "display_data"
    },
    {
     "data": {
      "text/latex": [
       "$\\displaystyle \\quad \\text{Site index: } 1$"
      ],
      "text/plain": [
       "<IPython.core.display.Math object>"
      ]
     },
     "metadata": {},
     "output_type": "display_data"
    },
    {
     "data": {
      "text/latex": [
       "$\\displaystyle \\quad \\quad \\sigma^x_{1}\\,\\left|(19)\\,10011\\right\\rangle = 0.5\\left|(27)\\,11011\\right\\rangle$"
      ],
      "text/plain": [
       "<IPython.core.display.Math object>"
      ]
     },
     "metadata": {},
     "output_type": "display_data"
    },
    {
     "data": {
      "text/latex": [
       "$\\displaystyle \\quad \\text{Site index: } 2$"
      ],
      "text/plain": [
       "<IPython.core.display.Math object>"
      ]
     },
     "metadata": {},
     "output_type": "display_data"
    },
    {
     "data": {
      "text/latex": [
       "$\\displaystyle \\quad \\quad \\sigma^x_{2}\\,\\left|(19)\\,10011\\right\\rangle = 0.5\\left|(23)\\,10111\\right\\rangle$"
      ],
      "text/plain": [
       "<IPython.core.display.Math object>"
      ]
     },
     "metadata": {},
     "output_type": "display_data"
    },
    {
     "data": {
      "text/latex": [
       "$\\displaystyle \\quad \\text{Site index: } 3$"
      ],
      "text/plain": [
       "<IPython.core.display.Math object>"
      ]
     },
     "metadata": {},
     "output_type": "display_data"
    },
    {
     "data": {
      "text/latex": [
       "$\\displaystyle \\quad \\quad \\sigma^x_{3}\\,\\left|(19)\\,10011\\right\\rangle = 0.5\\left|(17)\\,10001\\right\\rangle$"
      ],
      "text/plain": [
       "<IPython.core.display.Math object>"
      ]
     },
     "metadata": {},
     "output_type": "display_data"
    },
    {
     "data": {
      "text/latex": [
       "$\\displaystyle \\quad \\text{Site index: } 4$"
      ],
      "text/plain": [
       "<IPython.core.display.Math object>"
      ]
     },
     "metadata": {},
     "output_type": "display_data"
    },
    {
     "data": {
      "text/latex": [
       "$\\displaystyle \\quad \\quad \\sigma^x_{4}\\,\\left|(19)\\,10011\\right\\rangle = 0.5\\left|(18)\\,10010\\right\\rangle$"
      ],
      "text/plain": [
       "<IPython.core.display.Math object>"
      ]
     },
     "metadata": {},
     "output_type": "display_data"
    },
    {
     "data": {
      "text/latex": [
       "$\\displaystyle \\text{Operator: } \\sigma^z, \\text{typeacting}: OperatorTypeActing.Local$"
      ],
      "text/plain": [
       "<IPython.core.display.Math object>"
      ]
     },
     "metadata": {},
     "output_type": "display_data"
    },
    {
     "data": {
      "text/latex": [
       "$\\displaystyle \\quad \\text{Site index: } 0$"
      ],
      "text/plain": [
       "<IPython.core.display.Math object>"
      ]
     },
     "metadata": {},
     "output_type": "display_data"
    },
    {
     "data": {
      "text/latex": [
       "$\\displaystyle \\quad \\quad \\sigma^z_{0}\\,\\left|(19)\\,10011\\right\\rangle = 0.5\\left|(19)\\,10011\\right\\rangle$"
      ],
      "text/plain": [
       "<IPython.core.display.Math object>"
      ]
     },
     "metadata": {},
     "output_type": "display_data"
    },
    {
     "data": {
      "text/latex": [
       "$\\displaystyle \\quad \\text{Site index: } 1$"
      ],
      "text/plain": [
       "<IPython.core.display.Math object>"
      ]
     },
     "metadata": {},
     "output_type": "display_data"
    },
    {
     "data": {
      "text/latex": [
       "$\\displaystyle \\quad \\quad \\sigma^z_{1}\\,\\left|(19)\\,10011\\right\\rangle = -0.5\\left|(19)\\,10011\\right\\rangle$"
      ],
      "text/plain": [
       "<IPython.core.display.Math object>"
      ]
     },
     "metadata": {},
     "output_type": "display_data"
    },
    {
     "data": {
      "text/latex": [
       "$\\displaystyle \\quad \\text{Site index: } 2$"
      ],
      "text/plain": [
       "<IPython.core.display.Math object>"
      ]
     },
     "metadata": {},
     "output_type": "display_data"
    },
    {
     "data": {
      "text/latex": [
       "$\\displaystyle \\quad \\quad \\sigma^z_{2}\\,\\left|(19)\\,10011\\right\\rangle = -0.5\\left|(19)\\,10011\\right\\rangle$"
      ],
      "text/plain": [
       "<IPython.core.display.Math object>"
      ]
     },
     "metadata": {},
     "output_type": "display_data"
    },
    {
     "data": {
      "text/latex": [
       "$\\displaystyle \\quad \\text{Site index: } 3$"
      ],
      "text/plain": [
       "<IPython.core.display.Math object>"
      ]
     },
     "metadata": {},
     "output_type": "display_data"
    },
    {
     "data": {
      "text/latex": [
       "$\\displaystyle \\quad \\quad \\sigma^z_{3}\\,\\left|(19)\\,10011\\right\\rangle = 0.5\\left|(19)\\,10011\\right\\rangle$"
      ],
      "text/plain": [
       "<IPython.core.display.Math object>"
      ]
     },
     "metadata": {},
     "output_type": "display_data"
    },
    {
     "data": {
      "text/latex": [
       "$\\displaystyle \\quad \\text{Site index: } 4$"
      ],
      "text/plain": [
       "<IPython.core.display.Math object>"
      ]
     },
     "metadata": {},
     "output_type": "display_data"
    },
    {
     "data": {
      "text/latex": [
       "$\\displaystyle \\quad \\quad \\sigma^z_{4}\\,\\left|(19)\\,10011\\right\\rangle = 0.5\\left|(19)\\,10011\\right\\rangle$"
      ],
      "text/plain": [
       "<IPython.core.display.Math object>"
      ]
     },
     "metadata": {},
     "output_type": "display_data"
    },
    {
     "name": "stdout",
     "output_type": "stream",
     "text": [
      "None: 0.1108 seconds\n"
     ]
    }
   ],
   "source": [
    "test_operator_on_state(\n",
    "    op          = [sig_x, sig_z],\n",
    "    lat         = lat,\n",
    "    state       = int_state,\n",
    "    op_acting   = OperatorTypeActing.Local,\n",
    "    op_label    = ['\\\\sigma^x', '\\\\sigma^z'],\n",
    "    to_bin      = lambda k, L: format(k, f'0{L}b'),\n",
    ")\n"
   ]
  },
  {
   "cell_type": "code",
   "execution_count": null,
   "id": "1dfd4991",
   "metadata": {},
   "outputs": [],
   "source": []
  }
 ],
 "metadata": {
  "kernelspec": {
   "display_name": "base",
   "language": "python",
   "name": "python3"
  },
  "language_info": {
   "codemirror_mode": {
    "name": "ipython",
    "version": 3
   },
   "file_extension": ".py",
   "mimetype": "text/x-python",
   "name": "python",
   "nbconvert_exporter": "python",
   "pygments_lexer": "ipython3",
   "version": "3.11.11"
  }
 },
 "nbformat": 4,
 "nbformat_minor": 5
}
