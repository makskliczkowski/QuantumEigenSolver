{
 "cells": [
  {
   "cell_type": "code",
   "execution_count": 1,
   "id": "49806205",
   "metadata": {},
   "outputs": [
    {
     "name": "stdout",
     "output_type": "stream",
     "text": [
      "07_05_2025_19-31_54 [INFO] Log file created: ./log/QES_07_05_2025_19-31_54.log\n",
      "07_05_2025_19-31_54 [INFO] Log level set to: info\n",
      "07_05_2025_19-31_54 [INFO] ############Global logger initialized.############\n",
      "07_05_2025_19-31_54 [INFO] JAX backend available and successfully imported\n",
      "07_05_2025_19-31_54 [INFO] \tJAX 64-bit precision enabled.\n",
      "07_05_2025_19-31_54 [INFO] Setting JAX as the active backend.\n",
      "07_05_2025_19-31_54 [INFO] **************************************************\n",
      "07_05_2025_19-31_54 [INFO] Backend Configuration:\n",
      "07_05_2025_19-31_54 [INFO] \t\tNumPy Version: 2.1.3\n",
      "07_05_2025_19-31_54 [INFO] \t\tSciPy Version: 1.15.2\n",
      "07_05_2025_19-31_54 [INFO] \t\tJAX Version: 0.5.3\n",
      "07_05_2025_19-31_54 [INFO] \t\tActive Backend: jax\n",
      "07_05_2025_19-31_54 [INFO] \t\t\tJAX Available: True\n",
      "07_05_2025_19-31_54 [INFO] \t\t\tDefault Seed: 42\n",
      "07_05_2025_19-31_54 [INFO] \t\tJAX Backend Details:\n",
      "07_05_2025_19-31_54 [INFO] \t\t\t\tMain Module: jax.numpy\n",
      "07_05_2025_19-31_54 [INFO] \t\t\t\tRandom Module: jax.random (+ PRNGKey)\n",
      "07_05_2025_19-31_54 [INFO] \t\t\t\tSciPy Module: jax.scipy\n",
      "07_05_2025_19-31_54 [INFO] \t\t\t\tDefault JAX Key: PRNGKey(42)\n",
      "07_05_2025_19-31_54 [INFO] \t\tActive Data Types:\n",
      "07_05_2025_19-31_54 [INFO] \t\t\t\tInteger Type: int64\n",
      "07_05_2025_19-31_54 [INFO] \t\t\t\tFloat Type: float64\n",
      "07_05_2025_19-31_54 [INFO] \t\t\t\tComplex Type: complex128\n",
      "07_05_2025_19-31_54 [INFO] \t\tHardware & Device Detection:\n",
      "07_05_2025_19-31_54 [INFO] \t\t\tCPU Cores: 8\n",
      "07_05_2025_19-31_54 [INFO] \t\t\tDetected JAX Platform: DETECTION FAILED\n",
      "07_05_2025_19-31_54 [INFO] \t\tJAX Devices Found: Detection Failed or Not Run\n",
      "07_05_2025_19-31_54 [INFO] **************************************************\n",
      "\n",
      "\n",
      "\n"
     ]
    }
   ],
   "source": [
    "import sys\n",
    "import os\n",
    "import numbers\n",
    "import numpy as np\n",
    "from IPython.display import Math, display\n",
    "from typing import Union, List, Sequence, Optional\n",
    "\n",
    "# Add the parent directory (project root) to sys.path\n",
    "script_dir              = os.path.dirname(os.curdir)\n",
    "parent_dir              = os.path.abspath(os.path.join(script_dir, '..'))\n",
    "if parent_dir not in sys.path:\n",
    "    sys.path.append(parent_dir)\n",
    "\n",
    "from QES.general_python.lattices.honeycomb import HoneycombLattice\n",
    "from QES.general_python.lattices.square import SquareLattice\n",
    "from QES.general_python.lattices.lattice import LatticeBC, Lattice\n",
    "import QES.general_python.common.binary as _bin_mod\n",
    "from QES.general_python.common.timer import Timer\n",
    "from QES.general_python.common.display import (\n",
    "    display_state,\n",
    "    display_operator_action,\n",
    ")\n",
    "\n",
    "from QES.Algebra.Operator.operator import OperatorTypeActing, Operator, JAX_AVAILABLE\n",
    "#! Spin operators\n",
    "import QES.Algebra.Operator.operators_spin as op_spin\n",
    "#! Fermionic operators\n",
    "import QES.Algebra.Operator.operators_spinless_fermions as op_sferm\n",
    "\n",
    "\n",
    "#! Backends\n",
    "if JAX_AVAILABLE:\n",
    "    import jax\n",
    "    import jax.numpy as jnp\n",
    "else:\n",
    "    jax = None\n",
    "    jnp = None\n",
    "    \n",
    "backend = 'np'\n",
    "lat     = SquareLattice(dim     = 1,\n",
    "                        lx      = 5,\n",
    "                        ly      = 1,\n",
    "                        lz      = 1,\n",
    "                        bc      = LatticeBC.PBC)\n",
    "\n",
    "#! Create functions for testing\n",
    "\n",
    "def test_operator_on_state(op           : Union[Operator, Sequence[Operator]],\n",
    "                        lat             : Lattice,\n",
    "                        state           : Union[int, np.ndarray, jnp.ndarray],\n",
    "                        *,\n",
    "                        ns              : Optional[int] = None,\n",
    "                        op_acting       : \"OperatorTypeActing\" = OperatorTypeActing.Local,\n",
    "                        op_label        = None,\n",
    "                        to_bin          = None,\n",
    "                        just_time       = False\n",
    "                        ) -> None:\n",
    "    r\"\"\"\n",
    "    Pretty-print the action of *one or several* lattice operators\n",
    "    on a basis state or wave-function.\n",
    "\n",
    "    Parameters\n",
    "    ----------\n",
    "    op : Operator or sequence[Operator]\n",
    "        The operator(s) Ô acting on 0, 1, or 2 sites.\n",
    "    lat : Lattice\n",
    "        Provides the number of sites ``lat.ns`` = :math:`N_s`.\n",
    "    ns : int, optional\n",
    "        Number of sites.  If *None*, uses ``lat.ns``.\n",
    "    state : int | np.ndarray | jax.numpy.ndarray\n",
    "        *Basis state* (integer encoding) or *wave-function* :math:`|\\psi\\rangle`.\n",
    "    op_acting : OperatorTypeActing, default = ``Local``\n",
    "        How Ô acts: Local (Ôᵢ), Correlation (Ôᵢⱼ), or Global (Ô).\n",
    "    op_label : str | sequence[str], optional\n",
    "        LaTeX label(s).  If *None*, uses ``op.name`` for every operator.\n",
    "    to_bin : Callable[[int, int], str], optional\n",
    "        Integer → binary-string formatter.  Defaults to\n",
    "        ``lambda k,L: format(k, f'0{L}b')``.\n",
    "    just_time : bool, default = False\n",
    "        If True, only measure the time taken for the operation without\n",
    "        displaying the results.  This is useful for benchmarking.\n",
    "\n",
    "    Notes\n",
    "    -----\n",
    "    * For **integer states** we reproduce the coefficient table you had before.\n",
    "    * For **array states** (NumPy / JAX) we show only the *first* non-zero\n",
    "        coefficient returned by the operator.  Adjust if you need more detail.\n",
    "    \"\"\"\n",
    "    # ------------------------------------------------------------------\n",
    "    ops      = (op,) if not isinstance(op, Sequence) else tuple(op)\n",
    "    is_int   = isinstance(state, (numbers.Integral, int, np.integer)) \n",
    "    ns       = lat.ns if ns is None else ns\n",
    "    if not just_time:\n",
    "        labels   = _prepare_labels(ops, op_label)\n",
    "    else:\n",
    "        labels   = [''] * len(ops)\n",
    "    \n",
    "    def display_state_in(*args, **kwargs):\n",
    "        if not just_time:\n",
    "            display_state(*args, **kwargs)\n",
    "\n",
    "    def display_in(*args, **kwargs):\n",
    "        if not just_time:\n",
    "            display(*args, **kwargs)\n",
    "    \n",
    "    # ------------------------------------------------------------------\n",
    "    display_state_in(state,\n",
    "                ns,\n",
    "                label  = f\"Initial integer state (Ns={ns})\",\n",
    "                to_bin = to_bin)\n",
    "\n",
    "    # ------------------------------------------------------------------\n",
    "    with Timer(verbose=True, precision='us', name=\"Operator action\"):\n",
    "        for cur_op, lab in zip(ops, labels):\n",
    "            display_in(Math(fr\"\\text{{Operator: }} {lab}, \\text{{typeacting}}: {op_acting}\"))\n",
    "            \n",
    "            if op_acting == OperatorTypeActing.Local:\n",
    "                for i in range(ns):\n",
    "                    display_in(Math(fr\"\\quad \\text{{Site index: }} {i}\"))\n",
    "                    s, c = _dispatch(cur_op, state, lat, is_int, to_bin, lab, i=i, just_time=just_time)\n",
    "\n",
    "            elif op_acting == OperatorTypeActing.Correlation:\n",
    "                for i in range(ns):\n",
    "                    for j in range(ns):\n",
    "                        display_in(Math(fr\"\\text{{Site indices: }} {i}, {j}\"))\n",
    "                        s, c = _dispatch(cur_op, state, lat, is_int, to_bin, lab, i=i, j=j, just_time=just_time)\n",
    "\n",
    "            elif op_acting == OperatorTypeActing.Global:\n",
    "                s, c = _dispatch(cur_op, state, lat, is_int, to_bin, lab, just_time=just_time)\n",
    "\n",
    "            else:\n",
    "                raise ValueError(f\"Operator acting type {op_acting!r} not supported.\")\n",
    "\n",
    "#------------------------------------------------------------------------\n",
    "#! Helper functions\n",
    "#------------------------------------------------------------------------\n",
    "\n",
    "def _prepare_labels(ops, op_label):\n",
    "    \"\"\"Return a tuple of LaTeX labels matching *ops*.\"\"\"\n",
    "    if op_label is None:\n",
    "        return tuple(getattr(op, \"name\", f\"op_{k}\") for k, op in enumerate(ops))\n",
    "    if isinstance(op_label, Sequence):\n",
    "        print(f\"op_label: {op_label}\", len(op_label))\n",
    "        if len(op_label) != len(ops):\n",
    "            raise ValueError(\"Length of op_label must match number of operators\")\n",
    "        return tuple(op_label)\n",
    "    return tuple(op_label for _ in ops)\n",
    "\n",
    "def _dispatch(op, state, lat, is_int, to_bin, lab, *, i=None, j=None, just_time=False):\n",
    "    \"\"\"\n",
    "    Call *op* with the right signature and send its first output to\n",
    "    `display_operator_action`.\n",
    "    \"\"\"\n",
    "    \n",
    "    if is_int:\n",
    "        state_act = state\n",
    "    else:\n",
    "        state_act = state.copy()\n",
    "    \n",
    "    # call signature depends on OperatorTypeActing\n",
    "    if i is None:                        # Global operator\n",
    "        st_out, coeff = op(state_act)\n",
    "    elif j is None:                      # Local operator\n",
    "        if is_int:\n",
    "            st_out, coeff = op(state_act, i)\n",
    "        elif isinstance(state_act, (np.ndarray)):\n",
    "            sites         = np.array([i])\n",
    "            st_out, coeff = op(state_act, *sites)\n",
    "        elif isinstance(state_act, (jnp.ndarray)):\n",
    "            sites         = jnp.array([i])\n",
    "            st_out, coeff = op(state_act, sites[0])\n",
    "    else:                                # Correlation operator\n",
    "        if is_int:\n",
    "            st_out, coeff = op(state_act, i, j)\n",
    "        elif isinstance(state_act, (np.ndarray)):\n",
    "            sites         = np.array([i, j])\n",
    "            st_out, coeff = op(state_act, *sites)\n",
    "        elif isinstance(state_act, (jnp.ndarray)):\n",
    "            sites         = jnp.array([i, j])\n",
    "            st_out, coeff = op(state_act, sites[0], sites[1])\n",
    "            \n",
    "    #! choose what to show depending on state representation\n",
    "    new_state = st_out\n",
    "    new_coeff = coeff\n",
    "    if not just_time:\n",
    "        display_operator_action(f\"\\\\quad \\\\quad {lab}\",\n",
    "                                i if j is None else (i, j),\n",
    "                                state,\n",
    "                                lat.ns,\n",
    "                                new_state,\n",
    "                                new_coeff,\n",
    "                                to_bin = to_bin)\n",
    "    return new_state, new_coeff\n",
    "\n",
    "# ------------------------------------------------------------------\n",
    "\n",
    "def initial_states(ns: int, display: bool = False) -> tuple:\n",
    "    int_state = np.random.randint(0, 2**(ns%64), dtype=np.int32)\n",
    "    if ns >= 64:\n",
    "        np_state  = np.random.randint(0, 2, size=lat.ns).astype(np.float32)\n",
    "        jnp_state = jnp.array(np_state)\n",
    "    else:\n",
    "        np_state  = _bin_mod.int2base_np(int_state, size = ns, value_true=1, value_false=0).astype(np.float32)\n",
    "        jnp_state = jnp.array(np_state)\n",
    "    \n",
    "    if display:\n",
    "        display_state(int_state, lat.ns,    label = \"Integer state\")\n",
    "        display_state(np_state, lat.ns,     label = \"NumPy state\")\n",
    "        display_state(jnp_state, lat.ns,    label = \"JAX state\")\n",
    "    \n",
    "    return int_state, np_state, jnp_state\n",
    "\n",
    "# ------------------------------------------------------------------"
   ]
  },
  {
   "cell_type": "markdown",
   "id": "9ea8da02",
   "metadata": {},
   "source": [
    "## Spin operators $\\sigma^x$, $\\sigma^y$, $\\sigma^z$\n",
    "\n",
    "The Pauli matrices are defined as:\n",
    "$$\n",
    "\\sigma^x = \\begin{pmatrix}\n",
    "0 & 1 \\\\\n",
    "1 & 0\n",
    "\\end{pmatrix}, \\quad\n",
    "\\sigma^y = \\begin{pmatrix}\n",
    "0 & -i \\\\\n",
    "-i & 0\n",
    "\\end{pmatrix}, \\quad\n",
    "\\sigma^z = \\begin{pmatrix}\n",
    "1 & 0 \\\\\n",
    "0 & -1\n",
    "\\end{pmatrix}\n",
    "$$"
   ]
  },
  {
   "cell_type": "markdown",
   "id": "54de3ab4",
   "metadata": {},
   "source": [
    "### a) Local operators"
   ]
  },
  {
   "cell_type": "code",
   "execution_count": 2,
   "id": "59e4d3ac",
   "metadata": {},
   "outputs": [
    {
     "data": {
      "text/latex": [
       "$\\displaystyle \\text{Integer state: }\\,\\left|(6)\\,00110\\right\\rangle$"
      ],
      "text/plain": [
       "<IPython.core.display.Math object>"
      ]
     },
     "metadata": {},
     "output_type": "display_data"
    },
    {
     "data": {
      "text/latex": [
       "$\\displaystyle \\text{NumPy state: }\\,|0 0 1 1 0\\rangle$"
      ],
      "text/plain": [
       "<IPython.core.display.Math object>"
      ]
     },
     "metadata": {},
     "output_type": "display_data"
    },
    {
     "data": {
      "text/latex": [
       "$\\displaystyle \\text{JAX state: }\\,|0 0 1 1 0\\rangle$"
      ],
      "text/plain": [
       "<IPython.core.display.Math object>"
      ]
     },
     "metadata": {},
     "output_type": "display_data"
    }
   ],
   "source": [
    "type_act = op_spin.OperatorTypeActing.Local\n",
    "\n",
    "sig_x_l = op_spin.sig_x(\n",
    "    lattice  = lat,\n",
    "    type_act = type_act\n",
    ")\n",
    "sig_y_l = op_spin.sig_y(\n",
    "    lattice  = lat,\n",
    "    type_act = type_act\n",
    ")\n",
    "sig_z_l = op_spin.sig_z(\n",
    "    lattice  = lat,\n",
    "    type_act = type_act\n",
    ")\n",
    "sig_p_l = op_spin.sig_p(\n",
    "    lattice  = lat,\n",
    "    type_act = type_act\n",
    ")\n",
    "sig_m_l = op_spin.sig_m(\n",
    "    lattice  = lat,\n",
    "    type_act = type_act\n",
    ")\n",
    "sig_pm_l = op_spin.sig_pm(\n",
    "    lattice  = lat,\n",
    "    type_act = type_act\n",
    ")\n",
    "sig_mp_l = op_spin.sig_mp(\n",
    "    lattice  = lat,\n",
    "    type_act = type_act\n",
    ")\n",
    "operators_l  = [sig_x_l, sig_y_l, sig_z_l]#, sig_p_l]#, sig_m_l]# sig_pm_l, sig_mp_l]\n",
    "labels_l     = ['\\\\sigma^x', '\\\\sigma^y', '\\\\sigma^z', \n",
    "                '\\\\sigma^+', '\\\\sigma^-', \n",
    "                '[\\\\sigma^+]\\\\sigma^{\\\\pm}', '[\\\\sigma^-]\\\\sigma^{\\\\mp}'][:len(operators_l)]\n",
    "# create a set of states and test it\n",
    "int_state, np_state, jnp_state = initial_states(lat.ns, display=True)"
   ]
  },
  {
   "cell_type": "markdown",
   "id": "aa380d42",
   "metadata": {},
   "source": [
    "#### i) Integer states"
   ]
  },
  {
   "cell_type": "code",
   "execution_count": 3,
   "id": "2d834af1",
   "metadata": {},
   "outputs": [
    {
     "name": "stdout",
     "output_type": "stream",
     "text": [
      "op_label: ['\\\\sigma^x', '\\\\sigma^y', '\\\\sigma^z', '\\\\sigma^+', '\\\\sigma^-', '[\\\\sigma^+]\\\\sigma^{\\\\pm}', '[\\\\sigma^-]\\\\sigma^{\\\\mp}'] 7\n"
     ]
    },
    {
     "data": {
      "text/latex": [
       "$\\displaystyle \\text{Initial integer state (Ns=5): }\\,\\left|(6)\\,00110\\right\\rangle$"
      ],
      "text/plain": [
       "<IPython.core.display.Math object>"
      ]
     },
     "metadata": {},
     "output_type": "display_data"
    },
    {
     "data": {
      "text/latex": [
       "$\\displaystyle \\text{Operator: } \\sigma^x, \\text{typeacting}: OperatorTypeActing.Local$"
      ],
      "text/plain": [
       "<IPython.core.display.Math object>"
      ]
     },
     "metadata": {},
     "output_type": "display_data"
    },
    {
     "data": {
      "text/latex": [
       "$\\displaystyle \\quad \\text{Site index: } 0$"
      ],
      "text/plain": [
       "<IPython.core.display.Math object>"
      ]
     },
     "metadata": {},
     "output_type": "display_data"
    },
    {
     "data": {
      "text/latex": [
       "$\\displaystyle \\quad \\quad \\sigma^x_{0}\\,\\left|(6)\\,00110\\right\\rangle = 0.5\\left|(22)\\,10110\\right\\rangle$"
      ],
      "text/plain": [
       "<IPython.core.display.Math object>"
      ]
     },
     "metadata": {},
     "output_type": "display_data"
    },
    {
     "data": {
      "text/latex": [
       "$\\displaystyle \\quad \\text{Site index: } 1$"
      ],
      "text/plain": [
       "<IPython.core.display.Math object>"
      ]
     },
     "metadata": {},
     "output_type": "display_data"
    },
    {
     "data": {
      "text/latex": [
       "$\\displaystyle \\quad \\quad \\sigma^x_{1}\\,\\left|(6)\\,00110\\right\\rangle = 0.5\\left|(14)\\,01110\\right\\rangle$"
      ],
      "text/plain": [
       "<IPython.core.display.Math object>"
      ]
     },
     "metadata": {},
     "output_type": "display_data"
    },
    {
     "data": {
      "text/latex": [
       "$\\displaystyle \\quad \\text{Site index: } 2$"
      ],
      "text/plain": [
       "<IPython.core.display.Math object>"
      ]
     },
     "metadata": {},
     "output_type": "display_data"
    },
    {
     "data": {
      "text/latex": [
       "$\\displaystyle \\quad \\quad \\sigma^x_{2}\\,\\left|(6)\\,00110\\right\\rangle = 0.5\\left|(2)\\,00010\\right\\rangle$"
      ],
      "text/plain": [
       "<IPython.core.display.Math object>"
      ]
     },
     "metadata": {},
     "output_type": "display_data"
    },
    {
     "data": {
      "text/latex": [
       "$\\displaystyle \\quad \\text{Site index: } 3$"
      ],
      "text/plain": [
       "<IPython.core.display.Math object>"
      ]
     },
     "metadata": {},
     "output_type": "display_data"
    },
    {
     "data": {
      "text/latex": [
       "$\\displaystyle \\quad \\quad \\sigma^x_{3}\\,\\left|(6)\\,00110\\right\\rangle = 0.5\\left|(4)\\,00100\\right\\rangle$"
      ],
      "text/plain": [
       "<IPython.core.display.Math object>"
      ]
     },
     "metadata": {},
     "output_type": "display_data"
    },
    {
     "data": {
      "text/latex": [
       "$\\displaystyle \\quad \\text{Site index: } 4$"
      ],
      "text/plain": [
       "<IPython.core.display.Math object>"
      ]
     },
     "metadata": {},
     "output_type": "display_data"
    },
    {
     "data": {
      "text/latex": [
       "$\\displaystyle \\quad \\quad \\sigma^x_{4}\\,\\left|(6)\\,00110\\right\\rangle = 0.5\\left|(7)\\,00111\\right\\rangle$"
      ],
      "text/plain": [
       "<IPython.core.display.Math object>"
      ]
     },
     "metadata": {},
     "output_type": "display_data"
    },
    {
     "data": {
      "text/latex": [
       "$\\displaystyle \\text{Operator: } \\sigma^y, \\text{typeacting}: OperatorTypeActing.Local$"
      ],
      "text/plain": [
       "<IPython.core.display.Math object>"
      ]
     },
     "metadata": {},
     "output_type": "display_data"
    },
    {
     "data": {
      "text/latex": [
       "$\\displaystyle \\quad \\text{Site index: } 0$"
      ],
      "text/plain": [
       "<IPython.core.display.Math object>"
      ]
     },
     "metadata": {},
     "output_type": "display_data"
    },
    {
     "data": {
      "text/latex": [
       "$\\displaystyle \\quad \\quad \\sigma^y_{0}\\,\\left|(6)\\,00110\\right\\rangle = 0.5e^{-i0.5\\pi}\\left|(22)\\,10110\\right\\rangle$"
      ],
      "text/plain": [
       "<IPython.core.display.Math object>"
      ]
     },
     "metadata": {},
     "output_type": "display_data"
    },
    {
     "data": {
      "text/latex": [
       "$\\displaystyle \\quad \\text{Site index: } 1$"
      ],
      "text/plain": [
       "<IPython.core.display.Math object>"
      ]
     },
     "metadata": {},
     "output_type": "display_data"
    },
    {
     "data": {
      "text/latex": [
       "$\\displaystyle \\quad \\quad \\sigma^y_{1}\\,\\left|(6)\\,00110\\right\\rangle = 0.5e^{-i0.5\\pi}\\left|(14)\\,01110\\right\\rangle$"
      ],
      "text/plain": [
       "<IPython.core.display.Math object>"
      ]
     },
     "metadata": {},
     "output_type": "display_data"
    },
    {
     "data": {
      "text/latex": [
       "$\\displaystyle \\quad \\text{Site index: } 2$"
      ],
      "text/plain": [
       "<IPython.core.display.Math object>"
      ]
     },
     "metadata": {},
     "output_type": "display_data"
    },
    {
     "data": {
      "text/latex": [
       "$\\displaystyle \\quad \\quad \\sigma^y_{2}\\,\\left|(6)\\,00110\\right\\rangle = 0.5e^{i0.5\\pi}\\left|(2)\\,00010\\right\\rangle$"
      ],
      "text/plain": [
       "<IPython.core.display.Math object>"
      ]
     },
     "metadata": {},
     "output_type": "display_data"
    },
    {
     "data": {
      "text/latex": [
       "$\\displaystyle \\quad \\text{Site index: } 3$"
      ],
      "text/plain": [
       "<IPython.core.display.Math object>"
      ]
     },
     "metadata": {},
     "output_type": "display_data"
    },
    {
     "data": {
      "text/latex": [
       "$\\displaystyle \\quad \\quad \\sigma^y_{3}\\,\\left|(6)\\,00110\\right\\rangle = 0.5e^{i0.5\\pi}\\left|(4)\\,00100\\right\\rangle$"
      ],
      "text/plain": [
       "<IPython.core.display.Math object>"
      ]
     },
     "metadata": {},
     "output_type": "display_data"
    },
    {
     "data": {
      "text/latex": [
       "$\\displaystyle \\quad \\text{Site index: } 4$"
      ],
      "text/plain": [
       "<IPython.core.display.Math object>"
      ]
     },
     "metadata": {},
     "output_type": "display_data"
    },
    {
     "data": {
      "text/latex": [
       "$\\displaystyle \\quad \\quad \\sigma^y_{4}\\,\\left|(6)\\,00110\\right\\rangle = 0.5e^{-i0.5\\pi}\\left|(7)\\,00111\\right\\rangle$"
      ],
      "text/plain": [
       "<IPython.core.display.Math object>"
      ]
     },
     "metadata": {},
     "output_type": "display_data"
    },
    {
     "data": {
      "text/latex": [
       "$\\displaystyle \\text{Operator: } \\sigma^z, \\text{typeacting}: OperatorTypeActing.Local$"
      ],
      "text/plain": [
       "<IPython.core.display.Math object>"
      ]
     },
     "metadata": {},
     "output_type": "display_data"
    },
    {
     "data": {
      "text/latex": [
       "$\\displaystyle \\quad \\text{Site index: } 0$"
      ],
      "text/plain": [
       "<IPython.core.display.Math object>"
      ]
     },
     "metadata": {},
     "output_type": "display_data"
    },
    {
     "data": {
      "text/latex": [
       "$\\displaystyle \\quad \\quad \\sigma^z_{0}\\,\\left|(6)\\,00110\\right\\rangle = -0.5\\left|(6)\\,00110\\right\\rangle$"
      ],
      "text/plain": [
       "<IPython.core.display.Math object>"
      ]
     },
     "metadata": {},
     "output_type": "display_data"
    },
    {
     "data": {
      "text/latex": [
       "$\\displaystyle \\quad \\text{Site index: } 1$"
      ],
      "text/plain": [
       "<IPython.core.display.Math object>"
      ]
     },
     "metadata": {},
     "output_type": "display_data"
    },
    {
     "data": {
      "text/latex": [
       "$\\displaystyle \\quad \\quad \\sigma^z_{1}\\,\\left|(6)\\,00110\\right\\rangle = -0.5\\left|(6)\\,00110\\right\\rangle$"
      ],
      "text/plain": [
       "<IPython.core.display.Math object>"
      ]
     },
     "metadata": {},
     "output_type": "display_data"
    },
    {
     "data": {
      "text/latex": [
       "$\\displaystyle \\quad \\text{Site index: } 2$"
      ],
      "text/plain": [
       "<IPython.core.display.Math object>"
      ]
     },
     "metadata": {},
     "output_type": "display_data"
    },
    {
     "data": {
      "text/latex": [
       "$\\displaystyle \\quad \\quad \\sigma^z_{2}\\,\\left|(6)\\,00110\\right\\rangle = 0.5\\left|(6)\\,00110\\right\\rangle$"
      ],
      "text/plain": [
       "<IPython.core.display.Math object>"
      ]
     },
     "metadata": {},
     "output_type": "display_data"
    },
    {
     "data": {
      "text/latex": [
       "$\\displaystyle \\quad \\text{Site index: } 3$"
      ],
      "text/plain": [
       "<IPython.core.display.Math object>"
      ]
     },
     "metadata": {},
     "output_type": "display_data"
    },
    {
     "data": {
      "text/latex": [
       "$\\displaystyle \\quad \\quad \\sigma^z_{3}\\,\\left|(6)\\,00110\\right\\rangle = 0.5\\left|(6)\\,00110\\right\\rangle$"
      ],
      "text/plain": [
       "<IPython.core.display.Math object>"
      ]
     },
     "metadata": {},
     "output_type": "display_data"
    },
    {
     "data": {
      "text/latex": [
       "$\\displaystyle \\quad \\text{Site index: } 4$"
      ],
      "text/plain": [
       "<IPython.core.display.Math object>"
      ]
     },
     "metadata": {},
     "output_type": "display_data"
    },
    {
     "data": {
      "text/latex": [
       "$\\displaystyle \\quad \\quad \\sigma^z_{4}\\,\\left|(6)\\,00110\\right\\rangle = -0.5\\left|(6)\\,00110\\right\\rangle$"
      ],
      "text/plain": [
       "<IPython.core.display.Math object>"
      ]
     },
     "metadata": {},
     "output_type": "display_data"
    },
    {
     "data": {
      "text/latex": [
       "$\\displaystyle \\text{Operator: } \\sigma^+, \\text{typeacting}: OperatorTypeActing.Local$"
      ],
      "text/plain": [
       "<IPython.core.display.Math object>"
      ]
     },
     "metadata": {},
     "output_type": "display_data"
    },
    {
     "data": {
      "text/latex": [
       "$\\displaystyle \\quad \\text{Site index: } 0$"
      ],
      "text/plain": [
       "<IPython.core.display.Math object>"
      ]
     },
     "metadata": {},
     "output_type": "display_data"
    },
    {
     "data": {
      "text/latex": [
       "$\\displaystyle \\quad \\quad \\sigma^+_{0}\\,\\left|(6)\\,00110\\right\\rangle = 0.5\\left|(22)\\,10110\\right\\rangle$"
      ],
      "text/plain": [
       "<IPython.core.display.Math object>"
      ]
     },
     "metadata": {},
     "output_type": "display_data"
    },
    {
     "data": {
      "text/latex": [
       "$\\displaystyle \\quad \\text{Site index: } 1$"
      ],
      "text/plain": [
       "<IPython.core.display.Math object>"
      ]
     },
     "metadata": {},
     "output_type": "display_data"
    },
    {
     "data": {
      "text/latex": [
       "$\\displaystyle \\quad \\quad \\sigma^+_{1}\\,\\left|(6)\\,00110\\right\\rangle = 0.5\\left|(14)\\,01110\\right\\rangle$"
      ],
      "text/plain": [
       "<IPython.core.display.Math object>"
      ]
     },
     "metadata": {},
     "output_type": "display_data"
    },
    {
     "data": {
      "text/latex": [
       "$\\displaystyle \\quad \\text{Site index: } 2$"
      ],
      "text/plain": [
       "<IPython.core.display.Math object>"
      ]
     },
     "metadata": {},
     "output_type": "display_data"
    },
    {
     "data": {
      "text/latex": [
       "$\\displaystyle \\quad \\quad \\sigma^+_{2}\\,\\left|(6)\\,00110\\right\\rangle = 0$"
      ],
      "text/plain": [
       "<IPython.core.display.Math object>"
      ]
     },
     "metadata": {},
     "output_type": "display_data"
    },
    {
     "data": {
      "text/latex": [
       "$\\displaystyle \\quad \\text{Site index: } 3$"
      ],
      "text/plain": [
       "<IPython.core.display.Math object>"
      ]
     },
     "metadata": {},
     "output_type": "display_data"
    },
    {
     "data": {
      "text/latex": [
       "$\\displaystyle \\quad \\quad \\sigma^+_{3}\\,\\left|(6)\\,00110\\right\\rangle = 0$"
      ],
      "text/plain": [
       "<IPython.core.display.Math object>"
      ]
     },
     "metadata": {},
     "output_type": "display_data"
    },
    {
     "data": {
      "text/latex": [
       "$\\displaystyle \\quad \\text{Site index: } 4$"
      ],
      "text/plain": [
       "<IPython.core.display.Math object>"
      ]
     },
     "metadata": {},
     "output_type": "display_data"
    },
    {
     "data": {
      "text/latex": [
       "$\\displaystyle \\quad \\quad \\sigma^+_{4}\\,\\left|(6)\\,00110\\right\\rangle = 0.5\\left|(7)\\,00111\\right\\rangle$"
      ],
      "text/plain": [
       "<IPython.core.display.Math object>"
      ]
     },
     "metadata": {},
     "output_type": "display_data"
    },
    {
     "data": {
      "text/latex": [
       "$\\displaystyle \\text{Operator: } \\sigma^-, \\text{typeacting}: OperatorTypeActing.Local$"
      ],
      "text/plain": [
       "<IPython.core.display.Math object>"
      ]
     },
     "metadata": {},
     "output_type": "display_data"
    },
    {
     "data": {
      "text/latex": [
       "$\\displaystyle \\quad \\text{Site index: } 0$"
      ],
      "text/plain": [
       "<IPython.core.display.Math object>"
      ]
     },
     "metadata": {},
     "output_type": "display_data"
    },
    {
     "data": {
      "text/latex": [
       "$\\displaystyle \\quad \\quad \\sigma^-_{0}\\,\\left|(6)\\,00110\\right\\rangle = 0$"
      ],
      "text/plain": [
       "<IPython.core.display.Math object>"
      ]
     },
     "metadata": {},
     "output_type": "display_data"
    },
    {
     "data": {
      "text/latex": [
       "$\\displaystyle \\quad \\text{Site index: } 1$"
      ],
      "text/plain": [
       "<IPython.core.display.Math object>"
      ]
     },
     "metadata": {},
     "output_type": "display_data"
    },
    {
     "data": {
      "text/latex": [
       "$\\displaystyle \\quad \\quad \\sigma^-_{1}\\,\\left|(6)\\,00110\\right\\rangle = 0$"
      ],
      "text/plain": [
       "<IPython.core.display.Math object>"
      ]
     },
     "metadata": {},
     "output_type": "display_data"
    },
    {
     "data": {
      "text/latex": [
       "$\\displaystyle \\quad \\text{Site index: } 2$"
      ],
      "text/plain": [
       "<IPython.core.display.Math object>"
      ]
     },
     "metadata": {},
     "output_type": "display_data"
    },
    {
     "data": {
      "text/latex": [
       "$\\displaystyle \\quad \\quad \\sigma^-_{2}\\,\\left|(6)\\,00110\\right\\rangle = 0.5\\left|(2)\\,00010\\right\\rangle$"
      ],
      "text/plain": [
       "<IPython.core.display.Math object>"
      ]
     },
     "metadata": {},
     "output_type": "display_data"
    },
    {
     "data": {
      "text/latex": [
       "$\\displaystyle \\quad \\text{Site index: } 3$"
      ],
      "text/plain": [
       "<IPython.core.display.Math object>"
      ]
     },
     "metadata": {},
     "output_type": "display_data"
    },
    {
     "data": {
      "text/latex": [
       "$\\displaystyle \\quad \\quad \\sigma^-_{3}\\,\\left|(6)\\,00110\\right\\rangle = 0.5\\left|(4)\\,00100\\right\\rangle$"
      ],
      "text/plain": [
       "<IPython.core.display.Math object>"
      ]
     },
     "metadata": {},
     "output_type": "display_data"
    },
    {
     "data": {
      "text/latex": [
       "$\\displaystyle \\quad \\text{Site index: } 4$"
      ],
      "text/plain": [
       "<IPython.core.display.Math object>"
      ]
     },
     "metadata": {},
     "output_type": "display_data"
    },
    {
     "data": {
      "text/latex": [
       "$\\displaystyle \\quad \\quad \\sigma^-_{4}\\,\\left|(6)\\,00110\\right\\rangle = 0$"
      ],
      "text/plain": [
       "<IPython.core.display.Math object>"
      ]
     },
     "metadata": {},
     "output_type": "display_data"
    },
    {
     "data": {
      "text/latex": [
       "$\\displaystyle \\text{Operator: } [\\sigma^+]\\sigma^{\\pm}, \\text{typeacting}: OperatorTypeActing.Local$"
      ],
      "text/plain": [
       "<IPython.core.display.Math object>"
      ]
     },
     "metadata": {},
     "output_type": "display_data"
    },
    {
     "data": {
      "text/latex": [
       "$\\displaystyle \\quad \\text{Site index: } 0$"
      ],
      "text/plain": [
       "<IPython.core.display.Math object>"
      ]
     },
     "metadata": {},
     "output_type": "display_data"
    },
    {
     "data": {
      "text/latex": [
       "$\\displaystyle \\quad \\quad [\\sigma^+]\\sigma^{\\pm}_{0}\\,\\left|(6)\\,00110\\right\\rangle = 0.5\\left|(22)\\,10110\\right\\rangle$"
      ],
      "text/plain": [
       "<IPython.core.display.Math object>"
      ]
     },
     "metadata": {},
     "output_type": "display_data"
    },
    {
     "data": {
      "text/latex": [
       "$\\displaystyle \\quad \\text{Site index: } 1$"
      ],
      "text/plain": [
       "<IPython.core.display.Math object>"
      ]
     },
     "metadata": {},
     "output_type": "display_data"
    },
    {
     "data": {
      "text/latex": [
       "$\\displaystyle \\quad \\quad [\\sigma^+]\\sigma^{\\pm}_{1}\\,\\left|(6)\\,00110\\right\\rangle = 0.5\\left|(14)\\,01110\\right\\rangle$"
      ],
      "text/plain": [
       "<IPython.core.display.Math object>"
      ]
     },
     "metadata": {},
     "output_type": "display_data"
    },
    {
     "data": {
      "text/latex": [
       "$\\displaystyle \\quad \\text{Site index: } 2$"
      ],
      "text/plain": [
       "<IPython.core.display.Math object>"
      ]
     },
     "metadata": {},
     "output_type": "display_data"
    },
    {
     "data": {
      "text/latex": [
       "$\\displaystyle \\quad \\quad [\\sigma^+]\\sigma^{\\pm}_{2}\\,\\left|(6)\\,00110\\right\\rangle = 0$"
      ],
      "text/plain": [
       "<IPython.core.display.Math object>"
      ]
     },
     "metadata": {},
     "output_type": "display_data"
    },
    {
     "data": {
      "text/latex": [
       "$\\displaystyle \\quad \\text{Site index: } 3$"
      ],
      "text/plain": [
       "<IPython.core.display.Math object>"
      ]
     },
     "metadata": {},
     "output_type": "display_data"
    },
    {
     "data": {
      "text/latex": [
       "$\\displaystyle \\quad \\quad [\\sigma^+]\\sigma^{\\pm}_{3}\\,\\left|(6)\\,00110\\right\\rangle = 0$"
      ],
      "text/plain": [
       "<IPython.core.display.Math object>"
      ]
     },
     "metadata": {},
     "output_type": "display_data"
    },
    {
     "data": {
      "text/latex": [
       "$\\displaystyle \\quad \\text{Site index: } 4$"
      ],
      "text/plain": [
       "<IPython.core.display.Math object>"
      ]
     },
     "metadata": {},
     "output_type": "display_data"
    },
    {
     "data": {
      "text/latex": [
       "$\\displaystyle \\quad \\quad [\\sigma^+]\\sigma^{\\pm}_{4}\\,\\left|(6)\\,00110\\right\\rangle = 0.5\\left|(7)\\,00111\\right\\rangle$"
      ],
      "text/plain": [
       "<IPython.core.display.Math object>"
      ]
     },
     "metadata": {},
     "output_type": "display_data"
    },
    {
     "data": {
      "text/latex": [
       "$\\displaystyle \\text{Operator: } [\\sigma^-]\\sigma^{\\mp}, \\text{typeacting}: OperatorTypeActing.Local$"
      ],
      "text/plain": [
       "<IPython.core.display.Math object>"
      ]
     },
     "metadata": {},
     "output_type": "display_data"
    },
    {
     "data": {
      "text/latex": [
       "$\\displaystyle \\quad \\text{Site index: } 0$"
      ],
      "text/plain": [
       "<IPython.core.display.Math object>"
      ]
     },
     "metadata": {},
     "output_type": "display_data"
    },
    {
     "data": {
      "text/latex": [
       "$\\displaystyle \\quad \\quad [\\sigma^-]\\sigma^{\\mp}_{0}\\,\\left|(6)\\,00110\\right\\rangle = 0$"
      ],
      "text/plain": [
       "<IPython.core.display.Math object>"
      ]
     },
     "metadata": {},
     "output_type": "display_data"
    },
    {
     "data": {
      "text/latex": [
       "$\\displaystyle \\quad \\text{Site index: } 1$"
      ],
      "text/plain": [
       "<IPython.core.display.Math object>"
      ]
     },
     "metadata": {},
     "output_type": "display_data"
    },
    {
     "data": {
      "text/latex": [
       "$\\displaystyle \\quad \\quad [\\sigma^-]\\sigma^{\\mp}_{1}\\,\\left|(6)\\,00110\\right\\rangle = 0$"
      ],
      "text/plain": [
       "<IPython.core.display.Math object>"
      ]
     },
     "metadata": {},
     "output_type": "display_data"
    },
    {
     "data": {
      "text/latex": [
       "$\\displaystyle \\quad \\text{Site index: } 2$"
      ],
      "text/plain": [
       "<IPython.core.display.Math object>"
      ]
     },
     "metadata": {},
     "output_type": "display_data"
    },
    {
     "data": {
      "text/latex": [
       "$\\displaystyle \\quad \\quad [\\sigma^-]\\sigma^{\\mp}_{2}\\,\\left|(6)\\,00110\\right\\rangle = 0.5\\left|(2)\\,00010\\right\\rangle$"
      ],
      "text/plain": [
       "<IPython.core.display.Math object>"
      ]
     },
     "metadata": {},
     "output_type": "display_data"
    },
    {
     "data": {
      "text/latex": [
       "$\\displaystyle \\quad \\text{Site index: } 3$"
      ],
      "text/plain": [
       "<IPython.core.display.Math object>"
      ]
     },
     "metadata": {},
     "output_type": "display_data"
    },
    {
     "data": {
      "text/latex": [
       "$\\displaystyle \\quad \\quad [\\sigma^-]\\sigma^{\\mp}_{3}\\,\\left|(6)\\,00110\\right\\rangle = 0.5\\left|(4)\\,00100\\right\\rangle$"
      ],
      "text/plain": [
       "<IPython.core.display.Math object>"
      ]
     },
     "metadata": {},
     "output_type": "display_data"
    },
    {
     "data": {
      "text/latex": [
       "$\\displaystyle \\quad \\text{Site index: } 4$"
      ],
      "text/plain": [
       "<IPython.core.display.Math object>"
      ]
     },
     "metadata": {},
     "output_type": "display_data"
    },
    {
     "data": {
      "text/latex": [
       "$\\displaystyle \\quad \\quad [\\sigma^-]\\sigma^{\\mp}_{4}\\,\\left|(6)\\,00110\\right\\rangle = 0$"
      ],
      "text/plain": [
       "<IPython.core.display.Math object>"
      ]
     },
     "metadata": {},
     "output_type": "display_data"
    },
    {
     "name": "stdout",
     "output_type": "stream",
     "text": [
      "Operator action: 1230875.750000 us\n"
     ]
    }
   ],
   "source": [
    "test_operator_on_state(\n",
    "    op          = operators_l,\n",
    "    lat         = lat,\n",
    "    state       = int_state,\n",
    "    op_acting   = OperatorTypeActing.Local,\n",
    "    op_label    = labels_l,\n",
    "    to_bin      = None,\n",
    "    just_time   = False\n",
    ")\n"
   ]
  },
  {
   "cell_type": "markdown",
   "id": "2b481ceb",
   "metadata": {},
   "source": [
    "#### ii) Numpy states"
   ]
  },
  {
   "cell_type": "code",
   "execution_count": 4,
   "id": "132a408f",
   "metadata": {},
   "outputs": [
    {
     "name": "stdout",
     "output_type": "stream",
     "text": [
      "Operator action: 399.375000 us\n"
     ]
    },
    {
     "ename": "TypingError",
     "evalue": "Failed in nopython mode pipeline (step: nopython frontend)\n\u001b[1m\u001b[1m\u001b[1m\u001b[1m\u001b[1mFailed in nopython mode pipeline (step: nopython frontend)\n\u001b[1m\u001b[1m\u001b[1m\u001b[1mNo implementation of function Function(<class 'float'>) found for signature:\n \n >>> float(bool)\n \nThere are 4 candidate implementations:\n\u001b[1m  - Of which 2 did not match due to:\n  Overload in function 'Float.generic': File: numba/core/typing/old_builtins.py: Line 992.\n    With argument(s): '(bool)':\u001b[0m\n\u001b[1m   Rejected as the implementation raised a specific error:\n     NumbaTypeError: \u001b[1mfloat() only support for numbers\u001b[0m\u001b[0m\n  raised from /Users/makskliczkowski/miniconda3/lib/python3.12/site-packages/numba/core/typing/old_builtins.py:1005\n\u001b[1m  - Of which 2 did not match due to:\n  Overload of function 'float': File: numba/experimental/jitclass/overloads.py: Line 137.\n    With argument(s): '(bool)':\u001b[0m\n\u001b[1m   No match.\u001b[0m\n\u001b[0m\n\u001b[0m\u001b[1mDuring: resolving callee type: Function(<class 'float'>)\u001b[0m\n\u001b[0m\u001b[1mDuring: typing of call at /Users/makskliczkowski/Codes/QuantumEigenSolver/Python/QES/general_python/common/binary.py (343)\n\u001b[0m\n\u001b[1m\nFile \"../QES/general_python/common/binary.py\", line 343:\u001b[0m\n\u001b[1mdef flip_array_np_nspin(n           : Array,\n    <source elided>\n    \"\"\"\n\u001b[1m    n[k] = float(not (n[k] == spin_value)) * spin_value\n\u001b[0m    \u001b[1m^\u001b[0m\u001b[0m\n\n\u001b[0m\u001b[1mDuring: Pass nopython_type_inference\u001b[0m\n\u001b[0m\u001b[1mDuring: resolving callee type: type(CPUDispatcher(<function sigma_y_np at 0x3131b67a0>))\u001b[0m\n\u001b[0m\u001b[1mDuring: typing of call at /Users/makskliczkowski/Codes/QuantumEigenSolver/Python/QES/Algebra/Operator/operator.py (1684)\n\u001b[0m\n\u001b[0m\u001b[1mDuring: resolving callee type: type(CPUDispatcher(<function sigma_y_np at 0x3131b67a0>))\u001b[0m\n\u001b[0m\u001b[1mDuring: typing of call at /Users/makskliczkowski/Codes/QuantumEigenSolver/Python/QES/Algebra/Operator/operator.py (1684)\n\u001b[0m\n\u001b[1m\nFile \"../QES/Algebra/Operator/operator.py\", line 1684:\u001b[0m\n\u001b[1m        def fun_np(state, i):\n            <source elided>\n            sites_1 = np.array([i], dtype=np.int32)\n\u001b[1m            return op_func_np(state, sites_1, *extra_args)\n\u001b[0m            \u001b[1m^\u001b[0m\u001b[0m\n\n\u001b[0m\u001b[1mDuring: Pass nopython_type_inference\u001b[0m",
     "output_type": "error",
     "traceback": [
      "\u001b[31m---------------------------------------------------------------------------\u001b[39m",
      "\u001b[31mTypingError\u001b[39m                               Traceback (most recent call last)",
      "\u001b[36mCell\u001b[39m\u001b[36m \u001b[39m\u001b[32mIn[4]\u001b[39m\u001b[32m, line 1\u001b[39m\n\u001b[32m----> \u001b[39m\u001b[32m1\u001b[39m \u001b[43mtest_operator_on_state\u001b[49m\u001b[43m(\u001b[49m\n\u001b[32m      2\u001b[39m \u001b[43m    \u001b[49m\u001b[43mop\u001b[49m\u001b[43m          \u001b[49m\u001b[43m=\u001b[49m\u001b[43m \u001b[49m\u001b[43moperators_l\u001b[49m\u001b[43m,\u001b[49m\n\u001b[32m      3\u001b[39m \u001b[43m    \u001b[49m\u001b[43mlat\u001b[49m\u001b[43m         \u001b[49m\u001b[43m=\u001b[49m\u001b[43m \u001b[49m\u001b[43mlat\u001b[49m\u001b[43m,\u001b[49m\n\u001b[32m      4\u001b[39m \u001b[43m    \u001b[49m\u001b[43mstate\u001b[49m\u001b[43m       \u001b[49m\u001b[43m=\u001b[49m\u001b[43m \u001b[49m\u001b[43mnp_state\u001b[49m\u001b[43m,\u001b[49m\n\u001b[32m      5\u001b[39m \u001b[43m    \u001b[49m\u001b[43mop_acting\u001b[49m\u001b[43m   \u001b[49m\u001b[43m=\u001b[49m\u001b[43m \u001b[49m\u001b[43mOperatorTypeActing\u001b[49m\u001b[43m.\u001b[49m\u001b[43mLocal\u001b[49m\u001b[43m,\u001b[49m\n\u001b[32m      6\u001b[39m \u001b[43m    \u001b[49m\u001b[43mop_label\u001b[49m\u001b[43m    \u001b[49m\u001b[43m=\u001b[49m\u001b[43m \u001b[49m\u001b[43mlabels_l\u001b[49m\u001b[43m,\u001b[49m\n\u001b[32m      7\u001b[39m \u001b[43m    \u001b[49m\u001b[43mto_bin\u001b[49m\u001b[43m      \u001b[49m\u001b[43m=\u001b[49m\u001b[43m \u001b[49m\u001b[38;5;28;43;01mNone\u001b[39;49;00m\u001b[43m,\u001b[49m\n\u001b[32m      8\u001b[39m \u001b[43m    \u001b[49m\u001b[43mjust_time\u001b[49m\u001b[43m   \u001b[49m\u001b[43m=\u001b[49m\u001b[43m \u001b[49m\u001b[38;5;28;43;01mTrue\u001b[39;49;00m\n\u001b[32m      9\u001b[39m \u001b[43m)\u001b[49m\n",
      "\u001b[36mCell\u001b[39m\u001b[36m \u001b[39m\u001b[32mIn[1]\u001b[39m\u001b[32m, line 120\u001b[39m, in \u001b[36mtest_operator_on_state\u001b[39m\u001b[34m(op, lat, state, ns, op_acting, op_label, to_bin, just_time)\u001b[39m\n\u001b[32m    118\u001b[39m     \u001b[38;5;28;01mfor\u001b[39;00m i \u001b[38;5;129;01min\u001b[39;00m \u001b[38;5;28mrange\u001b[39m(ns):\n\u001b[32m    119\u001b[39m         display_in(Math(\u001b[33mfr\u001b[39m\u001b[33m\"\u001b[39m\u001b[33m\\\u001b[39m\u001b[33mquad \u001b[39m\u001b[33m\\\u001b[39m\u001b[33mtext\u001b[39m\u001b[38;5;130;01m{{\u001b[39;00m\u001b[33mSite index: \u001b[39m\u001b[38;5;130;01m}}\u001b[39;00m\u001b[33m \u001b[39m\u001b[38;5;132;01m{\u001b[39;00mi\u001b[38;5;132;01m}\u001b[39;00m\u001b[33m\"\u001b[39m))\n\u001b[32m--> \u001b[39m\u001b[32m120\u001b[39m         s, c = \u001b[43m_dispatch\u001b[49m\u001b[43m(\u001b[49m\u001b[43mcur_op\u001b[49m\u001b[43m,\u001b[49m\u001b[43m \u001b[49m\u001b[43mstate\u001b[49m\u001b[43m,\u001b[49m\u001b[43m \u001b[49m\u001b[43mlat\u001b[49m\u001b[43m,\u001b[49m\u001b[43m \u001b[49m\u001b[43mis_int\u001b[49m\u001b[43m,\u001b[49m\u001b[43m \u001b[49m\u001b[43mto_bin\u001b[49m\u001b[43m,\u001b[49m\u001b[43m \u001b[49m\u001b[43mlab\u001b[49m\u001b[43m,\u001b[49m\u001b[43m \u001b[49m\u001b[43mi\u001b[49m\u001b[43m=\u001b[49m\u001b[43mi\u001b[49m\u001b[43m,\u001b[49m\u001b[43m \u001b[49m\u001b[43mjust_time\u001b[49m\u001b[43m=\u001b[49m\u001b[43mjust_time\u001b[49m\u001b[43m)\u001b[49m\n\u001b[32m    122\u001b[39m \u001b[38;5;28;01melif\u001b[39;00m op_acting == OperatorTypeActing.Correlation:\n\u001b[32m    123\u001b[39m     \u001b[38;5;28;01mfor\u001b[39;00m i \u001b[38;5;129;01min\u001b[39;00m \u001b[38;5;28mrange\u001b[39m(ns):\n",
      "\u001b[36mCell\u001b[39m\u001b[36m \u001b[39m\u001b[32mIn[1]\u001b[39m\u001b[32m, line 168\u001b[39m, in \u001b[36m_dispatch\u001b[39m\u001b[34m(op, state, lat, is_int, to_bin, lab, i, j, just_time)\u001b[39m\n\u001b[32m    166\u001b[39m \u001b[38;5;28;01melif\u001b[39;00m \u001b[38;5;28misinstance\u001b[39m(state_act, (np.ndarray)):\n\u001b[32m    167\u001b[39m     sites         = np.array([i])\n\u001b[32m--> \u001b[39m\u001b[32m168\u001b[39m     st_out, coeff = \u001b[43mop\u001b[49m\u001b[43m(\u001b[49m\u001b[43mstate_act\u001b[49m\u001b[43m,\u001b[49m\u001b[43m \u001b[49m\u001b[43m*\u001b[49m\u001b[43msites\u001b[49m\u001b[43m)\u001b[49m\n\u001b[32m    169\u001b[39m \u001b[38;5;28;01melif\u001b[39;00m \u001b[38;5;28misinstance\u001b[39m(state_act, (jnp.ndarray)):\n\u001b[32m    170\u001b[39m     sites         = jnp.array([i])\n",
      "\u001b[36mFile \u001b[39m\u001b[32m~/Codes/QuantumEigenSolver/Python/QES/Algebra/Operator/operator.py:1401\u001b[39m, in \u001b[36mOperator.__call__\u001b[39m\u001b[34m(self, states, *args)\u001b[39m\n\u001b[32m   1391\u001b[39m \u001b[38;5;28;01mdef\u001b[39;00m\u001b[38;5;250m \u001b[39m\u001b[34m__call__\u001b[39m(\u001b[38;5;28mself\u001b[39m, states: \u001b[38;5;28mlist\u001b[39m | np.ndarray | jnp.ndarray, *args):\n\u001b[32m   1392\u001b[39m \u001b[38;5;250m    \u001b[39m\u001b[33;03m\"\"\"\u001b[39;00m\n\u001b[32m   1393\u001b[39m \u001b[33;03m    Apply the operator to the state. \u001b[39;00m\n\u001b[32m   1394\u001b[39m \u001b[33;03m    \u001b[39;00m\n\u001b[32m   (...)\u001b[39m\u001b[32m   1399\u001b[39m \u001b[33;03m                            If there are arguments, the operator acts on the state locally - local operator (e.g., site-dependent).\u001b[39;00m\n\u001b[32m   1400\u001b[39m \u001b[33;03m    \"\"\"\u001b[39;00m\n\u001b[32m-> \u001b[39m\u001b[32m1401\u001b[39m     \u001b[38;5;28;01mreturn\u001b[39;00m \u001b[38;5;28;43mself\u001b[39;49m\u001b[43m.\u001b[49m\u001b[43mapply\u001b[49m\u001b[43m(\u001b[49m\u001b[43mstates\u001b[49m\u001b[43m,\u001b[49m\u001b[43m \u001b[49m\u001b[43m*\u001b[49m\u001b[43margs\u001b[49m\u001b[43m)\u001b[49m\n",
      "\u001b[36mFile \u001b[39m\u001b[32m~/Codes/QuantumEigenSolver/Python/QES/Algebra/Operator/operator.py:1382\u001b[39m, in \u001b[36mOperator.apply\u001b[39m\u001b[34m(self, states, *args)\u001b[39m\n\u001b[32m   1380\u001b[39m     \u001b[38;5;28;01mreturn\u001b[39;00m \u001b[38;5;28mself\u001b[39m._apply_global(states)\n\u001b[32m   1381\u001b[39m \u001b[38;5;28;01melif\u001b[39;00m \u001b[38;5;28mself\u001b[39m._type_acting.is_local():\n\u001b[32m-> \u001b[39m\u001b[32m1382\u001b[39m     \u001b[38;5;28;01mreturn\u001b[39;00m \u001b[38;5;28;43mself\u001b[39;49m\u001b[43m.\u001b[49m\u001b[43m_apply_local\u001b[49m\u001b[43m(\u001b[49m\u001b[43mstates\u001b[49m\u001b[43m,\u001b[49m\u001b[43m \u001b[49m\u001b[43m*\u001b[49m\u001b[43margs\u001b[49m\u001b[43m)\u001b[49m\n\u001b[32m   1383\u001b[39m \u001b[38;5;28;01melif\u001b[39;00m \u001b[38;5;28mself\u001b[39m._type_acting.is_correlation():\n\u001b[32m   1384\u001b[39m     \u001b[38;5;28;01mreturn\u001b[39;00m \u001b[38;5;28mself\u001b[39m._apply_correlation(states, *args)\n",
      "\u001b[36mFile \u001b[39m\u001b[32m~/Codes/QuantumEigenSolver/Python/QES/Algebra/Operator/operator.py:1338\u001b[39m, in \u001b[36mOperator._apply_local\u001b[39m\u001b[34m(self, states, i)\u001b[39m\n\u001b[32m   1324\u001b[39m \u001b[38;5;250m\u001b[39m\u001b[33;03m\"\"\"\u001b[39;00m\n\u001b[32m   1325\u001b[39m \u001b[33;03mApplies a local operation to a given state or a collection of states.\u001b[39;00m\n\u001b[32m   1326\u001b[39m \u001b[33;03mParameters:\u001b[39;00m\n\u001b[32m   (...)\u001b[39m\u001b[32m   1334\u001b[39m \u001b[33;03m        If the input is a single state, the result is returned as a single state and value.\u001b[39;00m\n\u001b[32m   1335\u001b[39m \u001b[33;03m\"\"\"\u001b[39;00m\n\u001b[32m   1336\u001b[39m \u001b[38;5;28;01mif\u001b[39;00m (\u001b[38;5;28mhasattr\u001b[39m(states, \u001b[33m'\u001b[39m\u001b[33mshape\u001b[39m\u001b[33m'\u001b[39m) \u001b[38;5;129;01mand\u001b[39;00m \u001b[38;5;28mlen\u001b[39m(states.shape) == \u001b[32m1\u001b[39m) \u001b[38;5;129;01mor\u001b[39;00m \u001b[38;5;28misinstance\u001b[39m(states, (\u001b[38;5;28mint\u001b[39m, np.int8, np.int16, np.int32, np.int64)):\n\u001b[32m   1337\u001b[39m     \u001b[38;5;66;03m# if the state is a single state, apply the function directly\u001b[39;00m\n\u001b[32m-> \u001b[39m\u001b[32m1338\u001b[39m     st, val = \u001b[38;5;28;43mself\u001b[39;49m\u001b[43m.\u001b[49m\u001b[43m_fun\u001b[49m\u001b[43m(\u001b[49m\u001b[43mstates\u001b[49m\u001b[43m,\u001b[49m\u001b[43m \u001b[49m\u001b[43mi\u001b[49m\u001b[43m)\u001b[49m\n\u001b[32m   1339\u001b[39m     \u001b[38;5;28;01mreturn\u001b[39;00m st, val * \u001b[38;5;28mself\u001b[39m._eigval\n\u001b[32m   1340\u001b[39m results     = [\u001b[38;5;28mself\u001b[39m._fun(state, i) \u001b[38;5;28;01mfor\u001b[39;00m state \u001b[38;5;129;01min\u001b[39;00m states]\n",
      "\u001b[36mFile \u001b[39m\u001b[32m~/Codes/QuantumEigenSolver/Python/QES/Algebra/Operator/operator.py:471\u001b[39m, in \u001b[36mOperatorFunction.__call__\u001b[39m\u001b[34m(self, s, *args)\u001b[39m\n\u001b[32m    455\u001b[39m \u001b[38;5;28;01mdef\u001b[39;00m\u001b[38;5;250m \u001b[39m\u001b[34m__call__\u001b[39m(\u001b[38;5;28mself\u001b[39m, s: Union[\u001b[38;5;28mint\u001b[39m], *args) -> List[Tuple[Optional[Union[\u001b[38;5;28mint\u001b[39m]], Union[\u001b[38;5;28mfloat\u001b[39m, \u001b[38;5;28mcomplex\u001b[39m]]]:\n\u001b[32m    456\u001b[39m \u001b[38;5;250m    \u001b[39m\u001b[33;03m\"\"\"\u001b[39;00m\n\u001b[32m    457\u001b[39m \u001b[33;03m    Apply the operator function to a given state.\u001b[39;00m\n\u001b[32m    458\u001b[39m \n\u001b[32m   (...)\u001b[39m\u001b[32m    469\u001b[39m \u001b[33;03m                    or if the return type from the operator function is not recognized.\u001b[39;00m\n\u001b[32m    470\u001b[39m \u001b[33;03m    \"\"\"\u001b[39;00m\n\u001b[32m--> \u001b[39m\u001b[32m471\u001b[39m     \u001b[38;5;28;01mreturn\u001b[39;00m \u001b[38;5;28;43mself\u001b[39;49m\u001b[43m.\u001b[49m\u001b[43mapply\u001b[49m\u001b[43m(\u001b[49m\u001b[43ms\u001b[49m\u001b[43m,\u001b[49m\u001b[43m \u001b[49m\u001b[43m*\u001b[49m\u001b[43margs\u001b[49m\u001b[43m)\u001b[49m\n",
      "\u001b[36mFile \u001b[39m\u001b[32m~/Codes/QuantumEigenSolver/Python/QES/Algebra/Operator/operator.py:436\u001b[39m, in \u001b[36mOperatorFunction.apply\u001b[39m\u001b[34m(self, s, *args)\u001b[39m\n\u001b[32m    434\u001b[39m     result = \u001b[38;5;28mself\u001b[39m._apply_global(s)\n\u001b[32m    435\u001b[39m \u001b[38;5;28;01melif\u001b[39;00m \u001b[38;5;28mself\u001b[39m._necessary_args == \u001b[32m1\u001b[39m:\n\u001b[32m--> \u001b[39m\u001b[32m436\u001b[39m     result = \u001b[38;5;28;43mself\u001b[39;49m\u001b[43m.\u001b[49m\u001b[43m_apply_local\u001b[49m\u001b[43m(\u001b[49m\u001b[43ms\u001b[49m\u001b[43m,\u001b[49m\u001b[43m \u001b[49m\u001b[43margs\u001b[49m\u001b[43m[\u001b[49m\u001b[32;43m0\u001b[39;49m\u001b[43m]\u001b[49m\u001b[43m)\u001b[49m\n\u001b[32m    437\u001b[39m \u001b[38;5;28;01melif\u001b[39;00m \u001b[38;5;28mself\u001b[39m._necessary_args == \u001b[32m2\u001b[39m:\n\u001b[32m    438\u001b[39m     result = \u001b[38;5;28mself\u001b[39m._apply_correlation(s, args[\u001b[32m0\u001b[39m], args[\u001b[32m1\u001b[39m])\n",
      "\u001b[36mFile \u001b[39m\u001b[32m~/Codes/QuantumEigenSolver/Python/QES/Algebra/Operator/operator.py:377\u001b[39m, in \u001b[36mOperatorFunction._apply_local\u001b[39m\u001b[34m(self, s, i)\u001b[39m\n\u001b[32m    374\u001b[39m \u001b[38;5;66;03m# If the state is a NumPy array, use the NumPy function\u001b[39;00m\n\u001b[32m    375\u001b[39m \u001b[38;5;28;01melif\u001b[39;00m \u001b[38;5;28misinstance\u001b[39m(s, np.ndarray) \u001b[38;5;129;01mand\u001b[39;00m \u001b[38;5;28mself\u001b[39m._fun_np \u001b[38;5;129;01mis\u001b[39;00m \u001b[38;5;129;01mnot\u001b[39;00m \u001b[38;5;28;01mNone\u001b[39;00m:\n\u001b[32m    376\u001b[39m     \u001b[38;5;66;03m# If the state is a NumPy array, use the NumPy function\u001b[39;00m\n\u001b[32m--> \u001b[39m\u001b[32m377\u001b[39m     \u001b[38;5;28;01mreturn\u001b[39;00m \u001b[38;5;28;43mself\u001b[39;49m\u001b[43m.\u001b[49m\u001b[43m_fun_np\u001b[49m\u001b[43m(\u001b[49m\u001b[43ms\u001b[49m\u001b[43m,\u001b[49m\u001b[43m \u001b[49m\u001b[43mi\u001b[49m\u001b[43m)\u001b[49m\n\u001b[32m    378\u001b[39m \u001b[38;5;66;03m# If the state is an integer, use the integer function\u001b[39;00m\n\u001b[32m    379\u001b[39m \u001b[38;5;66;03m# Note: The integer function should be able to handle the additional argument\u001b[39;00m\n\u001b[32m    380\u001b[39m \u001b[38;5;28;01mreturn\u001b[39;00m \u001b[38;5;28mself\u001b[39m._fun_int(s, i)\n",
      "\u001b[36mFile \u001b[39m\u001b[32m~/miniconda3/lib/python3.12/site-packages/numba/core/dispatcher.py:424\u001b[39m, in \u001b[36m_DispatcherBase._compile_for_args\u001b[39m\u001b[34m(self, *args, **kws)\u001b[39m\n\u001b[32m    420\u001b[39m         msg = (\u001b[33mf\u001b[39m\u001b[33m\"\u001b[39m\u001b[38;5;132;01m{\u001b[39;00m\u001b[38;5;28mstr\u001b[39m(e).rstrip()\u001b[38;5;132;01m}\u001b[39;00m\u001b[33m \u001b[39m\u001b[38;5;130;01m\\n\u001b[39;00m\u001b[38;5;130;01m\\n\u001b[39;00m\u001b[33mThis error may have been caused \u001b[39m\u001b[33m\"\u001b[39m\n\u001b[32m    421\u001b[39m                \u001b[33mf\u001b[39m\u001b[33m\"\u001b[39m\u001b[33mby the following argument(s):\u001b[39m\u001b[38;5;130;01m\\n\u001b[39;00m\u001b[38;5;132;01m{\u001b[39;00margs_str\u001b[38;5;132;01m}\u001b[39;00m\u001b[38;5;130;01m\\n\u001b[39;00m\u001b[33m\"\u001b[39m)\n\u001b[32m    422\u001b[39m         e.patch_message(msg)\n\u001b[32m--> \u001b[39m\u001b[32m424\u001b[39m     \u001b[43merror_rewrite\u001b[49m\u001b[43m(\u001b[49m\u001b[43me\u001b[49m\u001b[43m,\u001b[49m\u001b[43m \u001b[49m\u001b[33;43m'\u001b[39;49m\u001b[33;43mtyping\u001b[39;49m\u001b[33;43m'\u001b[39;49m\u001b[43m)\u001b[49m\n\u001b[32m    425\u001b[39m \u001b[38;5;28;01mexcept\u001b[39;00m errors.UnsupportedError \u001b[38;5;28;01mas\u001b[39;00m e:\n\u001b[32m    426\u001b[39m     \u001b[38;5;66;03m# Something unsupported is present in the user code, add help info\u001b[39;00m\n\u001b[32m    427\u001b[39m     error_rewrite(e, \u001b[33m'\u001b[39m\u001b[33munsupported_error\u001b[39m\u001b[33m'\u001b[39m)\n",
      "\u001b[36mFile \u001b[39m\u001b[32m~/miniconda3/lib/python3.12/site-packages/numba/core/dispatcher.py:365\u001b[39m, in \u001b[36m_DispatcherBase._compile_for_args.<locals>.error_rewrite\u001b[39m\u001b[34m(e, issue_type)\u001b[39m\n\u001b[32m    363\u001b[39m     \u001b[38;5;28;01mraise\u001b[39;00m e\n\u001b[32m    364\u001b[39m \u001b[38;5;28;01melse\u001b[39;00m:\n\u001b[32m--> \u001b[39m\u001b[32m365\u001b[39m     \u001b[38;5;28;01mraise\u001b[39;00m e.with_traceback(\u001b[38;5;28;01mNone\u001b[39;00m)\n",
      "\u001b[31mTypingError\u001b[39m: Failed in nopython mode pipeline (step: nopython frontend)\n\u001b[1m\u001b[1m\u001b[1m\u001b[1m\u001b[1mFailed in nopython mode pipeline (step: nopython frontend)\n\u001b[1m\u001b[1m\u001b[1m\u001b[1mNo implementation of function Function(<class 'float'>) found for signature:\n \n >>> float(bool)\n \nThere are 4 candidate implementations:\n\u001b[1m  - Of which 2 did not match due to:\n  Overload in function 'Float.generic': File: numba/core/typing/old_builtins.py: Line 992.\n    With argument(s): '(bool)':\u001b[0m\n\u001b[1m   Rejected as the implementation raised a specific error:\n     NumbaTypeError: \u001b[1mfloat() only support for numbers\u001b[0m\u001b[0m\n  raised from /Users/makskliczkowski/miniconda3/lib/python3.12/site-packages/numba/core/typing/old_builtins.py:1005\n\u001b[1m  - Of which 2 did not match due to:\n  Overload of function 'float': File: numba/experimental/jitclass/overloads.py: Line 137.\n    With argument(s): '(bool)':\u001b[0m\n\u001b[1m   No match.\u001b[0m\n\u001b[0m\n\u001b[0m\u001b[1mDuring: resolving callee type: Function(<class 'float'>)\u001b[0m\n\u001b[0m\u001b[1mDuring: typing of call at /Users/makskliczkowski/Codes/QuantumEigenSolver/Python/QES/general_python/common/binary.py (343)\n\u001b[0m\n\u001b[1m\nFile \"../QES/general_python/common/binary.py\", line 343:\u001b[0m\n\u001b[1mdef flip_array_np_nspin(n           : Array,\n    <source elided>\n    \"\"\"\n\u001b[1m    n[k] = float(not (n[k] == spin_value)) * spin_value\n\u001b[0m    \u001b[1m^\u001b[0m\u001b[0m\n\n\u001b[0m\u001b[1mDuring: Pass nopython_type_inference\u001b[0m\n\u001b[0m\u001b[1mDuring: resolving callee type: type(CPUDispatcher(<function sigma_y_np at 0x3131b67a0>))\u001b[0m\n\u001b[0m\u001b[1mDuring: typing of call at /Users/makskliczkowski/Codes/QuantumEigenSolver/Python/QES/Algebra/Operator/operator.py (1684)\n\u001b[0m\n\u001b[0m\u001b[1mDuring: resolving callee type: type(CPUDispatcher(<function sigma_y_np at 0x3131b67a0>))\u001b[0m\n\u001b[0m\u001b[1mDuring: typing of call at /Users/makskliczkowski/Codes/QuantumEigenSolver/Python/QES/Algebra/Operator/operator.py (1684)\n\u001b[0m\n\u001b[1m\nFile \"../QES/Algebra/Operator/operator.py\", line 1684:\u001b[0m\n\u001b[1m        def fun_np(state, i):\n            <source elided>\n            sites_1 = np.array([i], dtype=np.int32)\n\u001b[1m            return op_func_np(state, sites_1, *extra_args)\n\u001b[0m            \u001b[1m^\u001b[0m\u001b[0m\n\n\u001b[0m\u001b[1mDuring: Pass nopython_type_inference\u001b[0m"
     ]
    }
   ],
   "source": [
    "test_operator_on_state(\n",
    "    op          = operators_l,\n",
    "    lat         = lat,\n",
    "    state       = np_state,\n",
    "    op_acting   = OperatorTypeActing.Local,\n",
    "    op_label    = labels_l,\n",
    "    to_bin      = None,\n",
    "    just_time   = True\n",
    ")\n"
   ]
  },
  {
   "cell_type": "markdown",
   "id": "b20548f9",
   "metadata": {},
   "source": [
    "#### iii) JAX states"
   ]
  },
  {
   "cell_type": "code",
   "execution_count": 57,
   "id": "0fa3f906",
   "metadata": {},
   "outputs": [
    {
     "name": "stdout",
     "output_type": "stream",
     "text": [
      "op_label: ['\\\\sigma^x', '\\\\sigma^z'] 2\n"
     ]
    },
    {
     "data": {
      "text/latex": [
       "$\\displaystyle \\text{Initial integer state (Ns=5): }\\,|1 0 1 1 0\\rangle$"
      ],
      "text/plain": [
       "<IPython.core.display.Math object>"
      ]
     },
     "metadata": {},
     "output_type": "display_data"
    },
    {
     "data": {
      "text/latex": [
       "$\\displaystyle \\text{Operator: } \\sigma^x, \\text{typeacting}: OperatorTypeActing.Local$"
      ],
      "text/plain": [
       "<IPython.core.display.Math object>"
      ]
     },
     "metadata": {},
     "output_type": "display_data"
    },
    {
     "data": {
      "text/latex": [
       "$\\displaystyle \\quad \\text{Site index: } 0$"
      ],
      "text/plain": [
       "<IPython.core.display.Math object>"
      ]
     },
     "metadata": {},
     "output_type": "display_data"
    },
    {
     "data": {
      "text/latex": [
       "$\\displaystyle \\quad \\quad \\sigma^x_{0}\\,|1 0 1 1 0\\rangle = 0.5\\left|00110\\right\\rangle$"
      ],
      "text/plain": [
       "<IPython.core.display.Math object>"
      ]
     },
     "metadata": {},
     "output_type": "display_data"
    },
    {
     "data": {
      "text/latex": [
       "$\\displaystyle \\quad \\text{Site index: } 1$"
      ],
      "text/plain": [
       "<IPython.core.display.Math object>"
      ]
     },
     "metadata": {},
     "output_type": "display_data"
    },
    {
     "data": {
      "text/latex": [
       "$\\displaystyle \\quad \\quad \\sigma^x_{1}\\,|1 0 1 1 0\\rangle = 0.5\\left|10110\\right\\rangle$"
      ],
      "text/plain": [
       "<IPython.core.display.Math object>"
      ]
     },
     "metadata": {},
     "output_type": "display_data"
    },
    {
     "data": {
      "text/latex": [
       "$\\displaystyle \\quad \\text{Site index: } 2$"
      ],
      "text/plain": [
       "<IPython.core.display.Math object>"
      ]
     },
     "metadata": {},
     "output_type": "display_data"
    },
    {
     "data": {
      "text/latex": [
       "$\\displaystyle \\quad \\quad \\sigma^x_{2}\\,|1 0 1 1 0\\rangle = 0.5\\left|10010\\right\\rangle$"
      ],
      "text/plain": [
       "<IPython.core.display.Math object>"
      ]
     },
     "metadata": {},
     "output_type": "display_data"
    },
    {
     "data": {
      "text/latex": [
       "$\\displaystyle \\quad \\text{Site index: } 3$"
      ],
      "text/plain": [
       "<IPython.core.display.Math object>"
      ]
     },
     "metadata": {},
     "output_type": "display_data"
    },
    {
     "data": {
      "text/latex": [
       "$\\displaystyle \\quad \\quad \\sigma^x_{3}\\,|1 0 1 1 0\\rangle = 0.5\\left|10100\\right\\rangle$"
      ],
      "text/plain": [
       "<IPython.core.display.Math object>"
      ]
     },
     "metadata": {},
     "output_type": "display_data"
    },
    {
     "data": {
      "text/latex": [
       "$\\displaystyle \\quad \\text{Site index: } 4$"
      ],
      "text/plain": [
       "<IPython.core.display.Math object>"
      ]
     },
     "metadata": {},
     "output_type": "display_data"
    },
    {
     "data": {
      "text/latex": [
       "$\\displaystyle \\quad \\quad \\sigma^x_{4}\\,|1 0 1 1 0\\rangle = 0.5\\left|10110\\right\\rangle$"
      ],
      "text/plain": [
       "<IPython.core.display.Math object>"
      ]
     },
     "metadata": {},
     "output_type": "display_data"
    },
    {
     "data": {
      "text/latex": [
       "$\\displaystyle \\text{Operator: } \\sigma^z, \\text{typeacting}: OperatorTypeActing.Local$"
      ],
      "text/plain": [
       "<IPython.core.display.Math object>"
      ]
     },
     "metadata": {},
     "output_type": "display_data"
    },
    {
     "data": {
      "text/latex": [
       "$\\displaystyle \\quad \\text{Site index: } 0$"
      ],
      "text/plain": [
       "<IPython.core.display.Math object>"
      ]
     },
     "metadata": {},
     "output_type": "display_data"
    },
    {
     "data": {
      "text/latex": [
       "$\\displaystyle \\quad \\quad \\sigma^z_{0}\\,|1 0 1 1 0\\rangle = 0.5\\left|10110\\right\\rangle$"
      ],
      "text/plain": [
       "<IPython.core.display.Math object>"
      ]
     },
     "metadata": {},
     "output_type": "display_data"
    },
    {
     "data": {
      "text/latex": [
       "$\\displaystyle \\quad \\text{Site index: } 1$"
      ],
      "text/plain": [
       "<IPython.core.display.Math object>"
      ]
     },
     "metadata": {},
     "output_type": "display_data"
    },
    {
     "data": {
      "text/latex": [
       "$\\displaystyle \\quad \\quad \\sigma^z_{1}\\,|1 0 1 1 0\\rangle = -0.5\\left|10110\\right\\rangle$"
      ],
      "text/plain": [
       "<IPython.core.display.Math object>"
      ]
     },
     "metadata": {},
     "output_type": "display_data"
    },
    {
     "data": {
      "text/latex": [
       "$\\displaystyle \\quad \\text{Site index: } 2$"
      ],
      "text/plain": [
       "<IPython.core.display.Math object>"
      ]
     },
     "metadata": {},
     "output_type": "display_data"
    },
    {
     "data": {
      "text/latex": [
       "$\\displaystyle \\quad \\quad \\sigma^z_{2}\\,|1 0 1 1 0\\rangle = 0.5\\left|10110\\right\\rangle$"
      ],
      "text/plain": [
       "<IPython.core.display.Math object>"
      ]
     },
     "metadata": {},
     "output_type": "display_data"
    },
    {
     "data": {
      "text/latex": [
       "$\\displaystyle \\quad \\text{Site index: } 3$"
      ],
      "text/plain": [
       "<IPython.core.display.Math object>"
      ]
     },
     "metadata": {},
     "output_type": "display_data"
    },
    {
     "data": {
      "text/latex": [
       "$\\displaystyle \\quad \\quad \\sigma^z_{3}\\,|1 0 1 1 0\\rangle = 0.5\\left|10110\\right\\rangle$"
      ],
      "text/plain": [
       "<IPython.core.display.Math object>"
      ]
     },
     "metadata": {},
     "output_type": "display_data"
    },
    {
     "data": {
      "text/latex": [
       "$\\displaystyle \\quad \\text{Site index: } 4$"
      ],
      "text/plain": [
       "<IPython.core.display.Math object>"
      ]
     },
     "metadata": {},
     "output_type": "display_data"
    },
    {
     "data": {
      "text/latex": [
       "$\\displaystyle \\quad \\quad \\sigma^z_{4}\\,|1 0 1 1 0\\rangle = -0.5\\left|10110\\right\\rangle$"
      ],
      "text/plain": [
       "<IPython.core.display.Math object>"
      ]
     },
     "metadata": {},
     "output_type": "display_data"
    },
    {
     "name": "stdout",
     "output_type": "stream",
     "text": [
      "Operator action: 31927.042000 us\n"
     ]
    }
   ],
   "source": [
    "test_operator_on_state(\n",
    "    op          = [sig_x_l, sig_z_l],\n",
    "    lat         = lat,\n",
    "    state       = jnp_state,\n",
    "    op_acting   = OperatorTypeActing.Local,\n",
    "    op_label    = ['\\\\sigma^x', '\\\\sigma^z'],\n",
    "    to_bin      = None,\n",
    "    just_time   = False\n",
    ")"
   ]
  },
  {
   "cell_type": "markdown",
   "id": "d2736af9",
   "metadata": {},
   "source": [
    "### b) Correlation functions"
   ]
  },
  {
   "cell_type": "code",
   "execution_count": 64,
   "id": "1dfd4991",
   "metadata": {},
   "outputs": [
    {
     "data": {
      "text/latex": [
       "$\\displaystyle \\text{Integer state: }\\,\\left|(14)\\,01110\\right\\rangle$"
      ],
      "text/plain": [
       "<IPython.core.display.Math object>"
      ]
     },
     "metadata": {},
     "output_type": "display_data"
    },
    {
     "data": {
      "text/latex": [
       "$\\displaystyle \\text{NumPy state: }\\,|0 1 1 1 0\\rangle$"
      ],
      "text/plain": [
       "<IPython.core.display.Math object>"
      ]
     },
     "metadata": {},
     "output_type": "display_data"
    },
    {
     "data": {
      "text/latex": [
       "$\\displaystyle \\text{JAX state: }\\,|0 1 1 1 0\\rangle$"
      ],
      "text/plain": [
       "<IPython.core.display.Math object>"
      ]
     },
     "metadata": {},
     "output_type": "display_data"
    }
   ],
   "source": [
    "sig_x_c = op_spin.sig_x(\n",
    "    lattice  = lat,\n",
    "    type_act = op_spin.OperatorTypeActing.Correlation\n",
    ")\n",
    "sig_y_c = op_spin.sig_y(\n",
    "    lattice  = lat,\n",
    "    type_act = op_spin.OperatorTypeActing.Correlation\n",
    ")\n",
    "sig_z_c = op_spin.sig_z(\n",
    "    lattice  = lat,\n",
    "    type_act = op_spin.OperatorTypeActing.Correlation\n",
    ")\n",
    "\n",
    "int_state, np_state, jnp_state = initial_states(lat.ns, display = True)"
   ]
  },
  {
   "cell_type": "markdown",
   "id": "bff7d146",
   "metadata": {},
   "source": [
    "#### i) Integer states"
   ]
  },
  {
   "cell_type": "code",
   "execution_count": 67,
   "id": "1ad6629a",
   "metadata": {},
   "outputs": [
    {
     "data": {
      "text/latex": [
       "$\\displaystyle \\text{Initial integer state (Ns=5): }\\,\\left|(14)\\,01110\\right\\rangle$"
      ],
      "text/plain": [
       "<IPython.core.display.Math object>"
      ]
     },
     "metadata": {},
     "output_type": "display_data"
    },
    {
     "data": {
      "text/latex": [
       "$\\displaystyle \\text{Operator: } \\sigma^x, \\text{typeacting}: OperatorTypeActing.Correlation$"
      ],
      "text/plain": [
       "<IPython.core.display.Math object>"
      ]
     },
     "metadata": {},
     "output_type": "display_data"
    },
    {
     "data": {
      "text/latex": [
       "$\\displaystyle \\text{Site indices: } 0, 0$"
      ],
      "text/plain": [
       "<IPython.core.display.Math object>"
      ]
     },
     "metadata": {},
     "output_type": "display_data"
    },
    {
     "data": {
      "text/latex": [
       "$\\displaystyle \\quad \\quad \\sigma^x_{0,0}\\,\\left|(14)\\,01110\\right\\rangle = [0.25]\\left|7\\right\\rangle$"
      ],
      "text/plain": [
       "<IPython.core.display.Math object>"
      ]
     },
     "metadata": {},
     "output_type": "display_data"
    },
    {
     "data": {
      "text/latex": [
       "$\\displaystyle \\text{Site indices: } 0, 1$"
      ],
      "text/plain": [
       "<IPython.core.display.Math object>"
      ]
     },
     "metadata": {},
     "output_type": "display_data"
    },
    {
     "data": {
      "text/latex": [
       "$\\displaystyle \\quad \\quad \\sigma^x_{0,1}\\,\\left|(14)\\,01110\\right\\rangle = [0.25]\\left|11\\right\\rangle$"
      ],
      "text/plain": [
       "<IPython.core.display.Math object>"
      ]
     },
     "metadata": {},
     "output_type": "display_data"
    },
    {
     "data": {
      "text/latex": [
       "$\\displaystyle \\text{Site indices: } 0, 2$"
      ],
      "text/plain": [
       "<IPython.core.display.Math object>"
      ]
     },
     "metadata": {},
     "output_type": "display_data"
    },
    {
     "data": {
      "text/latex": [
       "$\\displaystyle \\quad \\quad \\sigma^x_{0,2}\\,\\left|(14)\\,01110\\right\\rangle = [0.25]\\left|13\\right\\rangle$"
      ],
      "text/plain": [
       "<IPython.core.display.Math object>"
      ]
     },
     "metadata": {},
     "output_type": "display_data"
    },
    {
     "data": {
      "text/latex": [
       "$\\displaystyle \\text{Site indices: } 0, 3$"
      ],
      "text/plain": [
       "<IPython.core.display.Math object>"
      ]
     },
     "metadata": {},
     "output_type": "display_data"
    },
    {
     "data": {
      "text/latex": [
       "$\\displaystyle \\quad \\quad \\sigma^x_{0,3}\\,\\left|(14)\\,01110\\right\\rangle = [0.25]\\left|14\\right\\rangle$"
      ],
      "text/plain": [
       "<IPython.core.display.Math object>"
      ]
     },
     "metadata": {},
     "output_type": "display_data"
    },
    {
     "data": {
      "text/latex": [
       "$\\displaystyle \\text{Site indices: } 0, 4$"
      ],
      "text/plain": [
       "<IPython.core.display.Math object>"
      ]
     },
     "metadata": {},
     "output_type": "display_data"
    },
    {
     "data": {
      "text/latex": [
       "$\\displaystyle \\quad \\quad \\sigma^x_{0,4}\\,\\left|(14)\\,01110\\right\\rangle = [0.25]\\left|16\\right\\rangle$"
      ],
      "text/plain": [
       "<IPython.core.display.Math object>"
      ]
     },
     "metadata": {},
     "output_type": "display_data"
    },
    {
     "data": {
      "text/latex": [
       "$\\displaystyle \\text{Site indices: } 1, 0$"
      ],
      "text/plain": [
       "<IPython.core.display.Math object>"
      ]
     },
     "metadata": {},
     "output_type": "display_data"
    },
    {
     "data": {
      "text/latex": [
       "$\\displaystyle \\quad \\quad \\sigma^x_{1,0}\\,\\left|(14)\\,01110\\right\\rangle = [0.25]\\left|11\\right\\rangle$"
      ],
      "text/plain": [
       "<IPython.core.display.Math object>"
      ]
     },
     "metadata": {},
     "output_type": "display_data"
    },
    {
     "data": {
      "text/latex": [
       "$\\displaystyle \\text{Site indices: } 1, 1$"
      ],
      "text/plain": [
       "<IPython.core.display.Math object>"
      ]
     },
     "metadata": {},
     "output_type": "display_data"
    },
    {
     "data": {
      "text/latex": [
       "$\\displaystyle \\quad \\quad \\sigma^x_{1,1}\\,\\left|(14)\\,01110\\right\\rangle = [0.25]\\left|7\\right\\rangle$"
      ],
      "text/plain": [
       "<IPython.core.display.Math object>"
      ]
     },
     "metadata": {},
     "output_type": "display_data"
    },
    {
     "data": {
      "text/latex": [
       "$\\displaystyle \\text{Site indices: } 1, 2$"
      ],
      "text/plain": [
       "<IPython.core.display.Math object>"
      ]
     },
     "metadata": {},
     "output_type": "display_data"
    },
    {
     "data": {
      "text/latex": [
       "$\\displaystyle \\quad \\quad \\sigma^x_{1,2}\\,\\left|(14)\\,01110\\right\\rangle = [0.25]\\left|1\\right\\rangle$"
      ],
      "text/plain": [
       "<IPython.core.display.Math object>"
      ]
     },
     "metadata": {},
     "output_type": "display_data"
    },
    {
     "data": {
      "text/latex": [
       "$\\displaystyle \\text{Site indices: } 1, 3$"
      ],
      "text/plain": [
       "<IPython.core.display.Math object>"
      ]
     },
     "metadata": {},
     "output_type": "display_data"
    },
    {
     "data": {
      "text/latex": [
       "$\\displaystyle \\quad \\quad \\sigma^x_{1,3}\\,\\left|(14)\\,01110\\right\\rangle = [0.25]\\left|2\\right\\rangle$"
      ],
      "text/plain": [
       "<IPython.core.display.Math object>"
      ]
     },
     "metadata": {},
     "output_type": "display_data"
    },
    {
     "data": {
      "text/latex": [
       "$\\displaystyle \\text{Site indices: } 1, 4$"
      ],
      "text/plain": [
       "<IPython.core.display.Math object>"
      ]
     },
     "metadata": {},
     "output_type": "display_data"
    },
    {
     "data": {
      "text/latex": [
       "$\\displaystyle \\quad \\quad \\sigma^x_{1,4}\\,\\left|(14)\\,01110\\right\\rangle = [0.25]\\left|4\\right\\rangle$"
      ],
      "text/plain": [
       "<IPython.core.display.Math object>"
      ]
     },
     "metadata": {},
     "output_type": "display_data"
    },
    {
     "data": {
      "text/latex": [
       "$\\displaystyle \\text{Site indices: } 2, 0$"
      ],
      "text/plain": [
       "<IPython.core.display.Math object>"
      ]
     },
     "metadata": {},
     "output_type": "display_data"
    },
    {
     "data": {
      "text/latex": [
       "$\\displaystyle \\quad \\quad \\sigma^x_{2,0}\\,\\left|(14)\\,01110\\right\\rangle = [0.25]\\left|13\\right\\rangle$"
      ],
      "text/plain": [
       "<IPython.core.display.Math object>"
      ]
     },
     "metadata": {},
     "output_type": "display_data"
    },
    {
     "data": {
      "text/latex": [
       "$\\displaystyle \\text{Site indices: } 2, 1$"
      ],
      "text/plain": [
       "<IPython.core.display.Math object>"
      ]
     },
     "metadata": {},
     "output_type": "display_data"
    },
    {
     "data": {
      "text/latex": [
       "$\\displaystyle \\quad \\quad \\sigma^x_{2,1}\\,\\left|(14)\\,01110\\right\\rangle = [0.25]\\left|1\\right\\rangle$"
      ],
      "text/plain": [
       "<IPython.core.display.Math object>"
      ]
     },
     "metadata": {},
     "output_type": "display_data"
    },
    {
     "data": {
      "text/latex": [
       "$\\displaystyle \\text{Site indices: } 2, 2$"
      ],
      "text/plain": [
       "<IPython.core.display.Math object>"
      ]
     },
     "metadata": {},
     "output_type": "display_data"
    },
    {
     "data": {
      "text/latex": [
       "$\\displaystyle \\quad \\quad \\sigma^x_{2,2}\\,\\left|(14)\\,01110\\right\\rangle = [0.25]\\left|7\\right\\rangle$"
      ],
      "text/plain": [
       "<IPython.core.display.Math object>"
      ]
     },
     "metadata": {},
     "output_type": "display_data"
    },
    {
     "data": {
      "text/latex": [
       "$\\displaystyle \\text{Site indices: } 2, 3$"
      ],
      "text/plain": [
       "<IPython.core.display.Math object>"
      ]
     },
     "metadata": {},
     "output_type": "display_data"
    },
    {
     "data": {
      "text/latex": [
       "$\\displaystyle \\quad \\quad \\sigma^x_{2,3}\\,\\left|(14)\\,01110\\right\\rangle = [0.25]\\left|4\\right\\rangle$"
      ],
      "text/plain": [
       "<IPython.core.display.Math object>"
      ]
     },
     "metadata": {},
     "output_type": "display_data"
    },
    {
     "data": {
      "text/latex": [
       "$\\displaystyle \\text{Site indices: } 2, 4$"
      ],
      "text/plain": [
       "<IPython.core.display.Math object>"
      ]
     },
     "metadata": {},
     "output_type": "display_data"
    },
    {
     "data": {
      "text/latex": [
       "$\\displaystyle \\quad \\quad \\sigma^x_{2,4}\\,\\left|(14)\\,01110\\right\\rangle = [0.25]\\left|6\\right\\rangle$"
      ],
      "text/plain": [
       "<IPython.core.display.Math object>"
      ]
     },
     "metadata": {},
     "output_type": "display_data"
    },
    {
     "data": {
      "text/latex": [
       "$\\displaystyle \\text{Site indices: } 3, 0$"
      ],
      "text/plain": [
       "<IPython.core.display.Math object>"
      ]
     },
     "metadata": {},
     "output_type": "display_data"
    },
    {
     "data": {
      "text/latex": [
       "$\\displaystyle \\quad \\quad \\sigma^x_{3,0}\\,\\left|(14)\\,01110\\right\\rangle = [0.25]\\left|14\\right\\rangle$"
      ],
      "text/plain": [
       "<IPython.core.display.Math object>"
      ]
     },
     "metadata": {},
     "output_type": "display_data"
    },
    {
     "data": {
      "text/latex": [
       "$\\displaystyle \\text{Site indices: } 3, 1$"
      ],
      "text/plain": [
       "<IPython.core.display.Math object>"
      ]
     },
     "metadata": {},
     "output_type": "display_data"
    },
    {
     "data": {
      "text/latex": [
       "$\\displaystyle \\quad \\quad \\sigma^x_{3,1}\\,\\left|(14)\\,01110\\right\\rangle = [0.25]\\left|2\\right\\rangle$"
      ],
      "text/plain": [
       "<IPython.core.display.Math object>"
      ]
     },
     "metadata": {},
     "output_type": "display_data"
    },
    {
     "data": {
      "text/latex": [
       "$\\displaystyle \\text{Site indices: } 3, 2$"
      ],
      "text/plain": [
       "<IPython.core.display.Math object>"
      ]
     },
     "metadata": {},
     "output_type": "display_data"
    },
    {
     "data": {
      "text/latex": [
       "$\\displaystyle \\quad \\quad \\sigma^x_{3,2}\\,\\left|(14)\\,01110\\right\\rangle = [0.25]\\left|4\\right\\rangle$"
      ],
      "text/plain": [
       "<IPython.core.display.Math object>"
      ]
     },
     "metadata": {},
     "output_type": "display_data"
    },
    {
     "data": {
      "text/latex": [
       "$\\displaystyle \\text{Site indices: } 3, 3$"
      ],
      "text/plain": [
       "<IPython.core.display.Math object>"
      ]
     },
     "metadata": {},
     "output_type": "display_data"
    },
    {
     "data": {
      "text/latex": [
       "$\\displaystyle \\quad \\quad \\sigma^x_{3,3}\\,\\left|(14)\\,01110\\right\\rangle = [0.25]\\left|7\\right\\rangle$"
      ],
      "text/plain": [
       "<IPython.core.display.Math object>"
      ]
     },
     "metadata": {},
     "output_type": "display_data"
    },
    {
     "data": {
      "text/latex": [
       "$\\displaystyle \\text{Site indices: } 3, 4$"
      ],
      "text/plain": [
       "<IPython.core.display.Math object>"
      ]
     },
     "metadata": {},
     "output_type": "display_data"
    },
    {
     "data": {
      "text/latex": [
       "$\\displaystyle \\quad \\quad \\sigma^x_{3,4}\\,\\left|(14)\\,01110\\right\\rangle = [0.25]\\left|7\\right\\rangle$"
      ],
      "text/plain": [
       "<IPython.core.display.Math object>"
      ]
     },
     "metadata": {},
     "output_type": "display_data"
    },
    {
     "data": {
      "text/latex": [
       "$\\displaystyle \\text{Site indices: } 4, 0$"
      ],
      "text/plain": [
       "<IPython.core.display.Math object>"
      ]
     },
     "metadata": {},
     "output_type": "display_data"
    },
    {
     "data": {
      "text/latex": [
       "$\\displaystyle \\quad \\quad \\sigma^x_{4,0}\\,\\left|(14)\\,01110\\right\\rangle = [0.25]\\left|16\\right\\rangle$"
      ],
      "text/plain": [
       "<IPython.core.display.Math object>"
      ]
     },
     "metadata": {},
     "output_type": "display_data"
    },
    {
     "data": {
      "text/latex": [
       "$\\displaystyle \\text{Site indices: } 4, 1$"
      ],
      "text/plain": [
       "<IPython.core.display.Math object>"
      ]
     },
     "metadata": {},
     "output_type": "display_data"
    },
    {
     "data": {
      "text/latex": [
       "$\\displaystyle \\quad \\quad \\sigma^x_{4,1}\\,\\left|(14)\\,01110\\right\\rangle = [0.25]\\left|4\\right\\rangle$"
      ],
      "text/plain": [
       "<IPython.core.display.Math object>"
      ]
     },
     "metadata": {},
     "output_type": "display_data"
    },
    {
     "data": {
      "text/latex": [
       "$\\displaystyle \\text{Site indices: } 4, 2$"
      ],
      "text/plain": [
       "<IPython.core.display.Math object>"
      ]
     },
     "metadata": {},
     "output_type": "display_data"
    },
    {
     "data": {
      "text/latex": [
       "$\\displaystyle \\quad \\quad \\sigma^x_{4,2}\\,\\left|(14)\\,01110\\right\\rangle = [0.25]\\left|6\\right\\rangle$"
      ],
      "text/plain": [
       "<IPython.core.display.Math object>"
      ]
     },
     "metadata": {},
     "output_type": "display_data"
    },
    {
     "data": {
      "text/latex": [
       "$\\displaystyle \\text{Site indices: } 4, 3$"
      ],
      "text/plain": [
       "<IPython.core.display.Math object>"
      ]
     },
     "metadata": {},
     "output_type": "display_data"
    },
    {
     "data": {
      "text/latex": [
       "$\\displaystyle \\quad \\quad \\sigma^x_{4,3}\\,\\left|(14)\\,01110\\right\\rangle = [0.25]\\left|7\\right\\rangle$"
      ],
      "text/plain": [
       "<IPython.core.display.Math object>"
      ]
     },
     "metadata": {},
     "output_type": "display_data"
    },
    {
     "data": {
      "text/latex": [
       "$\\displaystyle \\text{Site indices: } 4, 4$"
      ],
      "text/plain": [
       "<IPython.core.display.Math object>"
      ]
     },
     "metadata": {},
     "output_type": "display_data"
    },
    {
     "data": {
      "text/latex": [
       "$\\displaystyle \\quad \\quad \\sigma^x_{4,4}\\,\\left|(14)\\,01110\\right\\rangle = [0.25]\\left|7\\right\\rangle$"
      ],
      "text/plain": [
       "<IPython.core.display.Math object>"
      ]
     },
     "metadata": {},
     "output_type": "display_data"
    },
    {
     "data": {
      "text/latex": [
       "$\\displaystyle \\text{Operator: } \\sigma^y, \\text{typeacting}: OperatorTypeActing.Correlation$"
      ],
      "text/plain": [
       "<IPython.core.display.Math object>"
      ]
     },
     "metadata": {},
     "output_type": "display_data"
    },
    {
     "data": {
      "text/latex": [
       "$\\displaystyle \\text{Site indices: } 0, 0$"
      ],
      "text/plain": [
       "<IPython.core.display.Math object>"
      ]
     },
     "metadata": {},
     "output_type": "display_data"
    },
    {
     "name": "stdout",
     "output_type": "stream",
     "text": [
      "Operator action: 123653.333000 us\n"
     ]
    },
    {
     "ename": "TypingError",
     "evalue": "Failed in nopython mode pipeline (step: nopython frontend)\n\u001b[1m\u001b[1mUntyped global name 'op_func_int':\u001b[0m \u001b[1m\u001b[1mCannot determine Numba type of <class 'function'>\u001b[0m\n\u001b[1m\nFile \"../QES/Algebra/Operator/operator.py\", line 1711:\u001b[0m\n\u001b[1m        def fun_int(state, i, j):\n            <source elided>\n            sites_2 = np.array([i, j], dtype=np.int32)\n\u001b[1m            return op_func_int(state, ns, sites_2, *extra_args)\n\u001b[0m            \u001b[1m^\u001b[0m\u001b[0m\n\u001b[0m\n\u001b[0m\u001b[1mDuring: Pass nopython_type_inference\u001b[0m",
     "output_type": "error",
     "traceback": [
      "\u001b[31m---------------------------------------------------------------------------\u001b[39m",
      "\u001b[31mTypingError\u001b[39m                               Traceback (most recent call last)",
      "\u001b[36mCell\u001b[39m\u001b[36m \u001b[39m\u001b[32mIn[67]\u001b[39m\u001b[32m, line 1\u001b[39m\n\u001b[32m----> \u001b[39m\u001b[32m1\u001b[39m \u001b[43mtest_operator_on_state\u001b[49m\u001b[43m(\u001b[49m\n\u001b[32m      2\u001b[39m \u001b[43m    \u001b[49m\u001b[43mop\u001b[49m\u001b[43m          \u001b[49m\u001b[43m=\u001b[49m\u001b[43m \u001b[49m\u001b[43m[\u001b[49m\u001b[43msig_x_c\u001b[49m\u001b[43m,\u001b[49m\u001b[43m \u001b[49m\u001b[43msig_y_c\u001b[49m\u001b[43m,\u001b[49m\u001b[43m \u001b[49m\u001b[43msig_z_c\u001b[49m\u001b[43m]\u001b[49m\u001b[43m,\u001b[49m\n\u001b[32m      3\u001b[39m \u001b[43m    \u001b[49m\u001b[43mlat\u001b[49m\u001b[43m         \u001b[49m\u001b[43m=\u001b[49m\u001b[43m \u001b[49m\u001b[43mlat\u001b[49m\u001b[43m,\u001b[49m\n\u001b[32m      4\u001b[39m \u001b[43m    \u001b[49m\u001b[43mstate\u001b[49m\u001b[43m       \u001b[49m\u001b[43m=\u001b[49m\u001b[43m \u001b[49m\u001b[43mint_state\u001b[49m\u001b[43m,\u001b[49m\n\u001b[32m      5\u001b[39m \u001b[43m    \u001b[49m\u001b[43mop_acting\u001b[49m\u001b[43m   \u001b[49m\u001b[43m=\u001b[49m\u001b[43m \u001b[49m\u001b[43mOperatorTypeActing\u001b[49m\u001b[43m.\u001b[49m\u001b[43mCorrelation\u001b[49m\u001b[43m,\u001b[49m\n\u001b[32m      6\u001b[39m \u001b[43m    \u001b[49m\u001b[43mop_label\u001b[49m\u001b[43m    \u001b[49m\u001b[43m=\u001b[49m\u001b[43m \u001b[49m\u001b[43m[\u001b[49m\u001b[33;43m'\u001b[39;49m\u001b[38;5;130;43;01m\\\\\u001b[39;49;00m\u001b[33;43msigma^x\u001b[39;49m\u001b[33;43m'\u001b[39;49m\u001b[43m,\u001b[49m\u001b[43m \u001b[49m\u001b[33;43m'\u001b[39;49m\u001b[38;5;130;43;01m\\\\\u001b[39;49;00m\u001b[33;43msigma^y\u001b[39;49m\u001b[33;43m'\u001b[39;49m\u001b[43m,\u001b[49m\u001b[43m \u001b[49m\u001b[33;43m'\u001b[39;49m\u001b[38;5;130;43;01m\\\\\u001b[39;49;00m\u001b[33;43msigma^z\u001b[39;49m\u001b[33;43m'\u001b[39;49m\u001b[43m]\u001b[49m\u001b[43m,\u001b[49m\n\u001b[32m      7\u001b[39m \u001b[43m    \u001b[49m\u001b[43mto_bin\u001b[49m\u001b[43m      \u001b[49m\u001b[43m=\u001b[49m\u001b[43m \u001b[49m\u001b[38;5;28;43;01mNone\u001b[39;49;00m\u001b[43m,\u001b[49m\n\u001b[32m      8\u001b[39m \u001b[43m    \u001b[49m\u001b[43mjust_time\u001b[49m\u001b[43m   \u001b[49m\u001b[43m=\u001b[49m\u001b[43m \u001b[49m\u001b[38;5;28;43;01mFalse\u001b[39;49;00m\n\u001b[32m      9\u001b[39m \u001b[43m)\u001b[49m\n",
      "\u001b[36mCell\u001b[39m\u001b[36m \u001b[39m\u001b[32mIn[56]\u001b[39m\u001b[32m, line 126\u001b[39m, in \u001b[36mtest_operator_on_state\u001b[39m\u001b[34m(op, lat, state, ns, op_acting, op_label, to_bin, just_time)\u001b[39m\n\u001b[32m    124\u001b[39m         \u001b[38;5;28;01mfor\u001b[39;00m j \u001b[38;5;129;01min\u001b[39;00m \u001b[38;5;28mrange\u001b[39m(ns):\n\u001b[32m    125\u001b[39m             display_in(Math(\u001b[33mfr\u001b[39m\u001b[33m\"\u001b[39m\u001b[33m\\\u001b[39m\u001b[33mtext\u001b[39m\u001b[38;5;130;01m{{\u001b[39;00m\u001b[33mSite indices: \u001b[39m\u001b[38;5;130;01m}}\u001b[39;00m\u001b[33m \u001b[39m\u001b[38;5;132;01m{\u001b[39;00mi\u001b[38;5;132;01m}\u001b[39;00m\u001b[33m, \u001b[39m\u001b[38;5;132;01m{\u001b[39;00mj\u001b[38;5;132;01m}\u001b[39;00m\u001b[33m\"\u001b[39m))\n\u001b[32m--> \u001b[39m\u001b[32m126\u001b[39m             s, c = \u001b[43m_dispatch\u001b[49m\u001b[43m(\u001b[49m\u001b[43mcur_op\u001b[49m\u001b[43m,\u001b[49m\u001b[43m \u001b[49m\u001b[43mstate\u001b[49m\u001b[43m,\u001b[49m\u001b[43m \u001b[49m\u001b[43mlat\u001b[49m\u001b[43m,\u001b[49m\u001b[43m \u001b[49m\u001b[43mis_int\u001b[49m\u001b[43m,\u001b[49m\u001b[43m \u001b[49m\u001b[43mto_bin\u001b[49m\u001b[43m,\u001b[49m\u001b[43m \u001b[49m\u001b[43mlab\u001b[49m\u001b[43m,\u001b[49m\u001b[43m \u001b[49m\u001b[43mi\u001b[49m\u001b[43m=\u001b[49m\u001b[43mi\u001b[49m\u001b[43m,\u001b[49m\u001b[43m \u001b[49m\u001b[43mj\u001b[49m\u001b[43m=\u001b[49m\u001b[43mj\u001b[49m\u001b[43m)\u001b[49m\n\u001b[32m    128\u001b[39m \u001b[38;5;28;01melif\u001b[39;00m op_acting == OperatorTypeActing.Global:\n\u001b[32m    129\u001b[39m     s, c = _dispatch(cur_op, state, lat, is_int, to_bin, lab)\n",
      "\u001b[36mCell\u001b[39m\u001b[36m \u001b[39m\u001b[32mIn[56]\u001b[39m\u001b[32m, line 173\u001b[39m, in \u001b[36m_dispatch\u001b[39m\u001b[34m(op, state, lat, is_int, to_bin, lab, i, j, just_time)\u001b[39m\n\u001b[32m    171\u001b[39m \u001b[38;5;28;01melse\u001b[39;00m:                                \u001b[38;5;66;03m# Correlation operator\u001b[39;00m\n\u001b[32m    172\u001b[39m     \u001b[38;5;28;01mif\u001b[39;00m is_int:\n\u001b[32m--> \u001b[39m\u001b[32m173\u001b[39m         st_out, coeff = \u001b[43mop\u001b[49m\u001b[43m(\u001b[49m\u001b[43mstate_act\u001b[49m\u001b[43m,\u001b[49m\u001b[43m \u001b[49m\u001b[43mi\u001b[49m\u001b[43m,\u001b[49m\u001b[43m \u001b[49m\u001b[43mj\u001b[49m\u001b[43m)\u001b[49m\n\u001b[32m    174\u001b[39m     \u001b[38;5;28;01melif\u001b[39;00m \u001b[38;5;28misinstance\u001b[39m(state_act, (np.ndarray)):\n\u001b[32m    175\u001b[39m         sites         = np.array([i, j])\n",
      "\u001b[36mFile \u001b[39m\u001b[32m~/Codes/QuantumEigenSolver/Python/QES/Algebra/Operator/operator.py:1401\u001b[39m, in \u001b[36mOperator.__call__\u001b[39m\u001b[34m(self, states, *args)\u001b[39m\n\u001b[32m   1391\u001b[39m \u001b[38;5;28;01mdef\u001b[39;00m\u001b[38;5;250m \u001b[39m\u001b[34m__call__\u001b[39m(\u001b[38;5;28mself\u001b[39m, states: \u001b[38;5;28mlist\u001b[39m | np.ndarray | jnp.ndarray, *args):\n\u001b[32m   1392\u001b[39m \u001b[38;5;250m    \u001b[39m\u001b[33;03m\"\"\"\u001b[39;00m\n\u001b[32m   1393\u001b[39m \u001b[33;03m    Apply the operator to the state. \u001b[39;00m\n\u001b[32m   1394\u001b[39m \u001b[33;03m    \u001b[39;00m\n\u001b[32m   (...)\u001b[39m\u001b[32m   1399\u001b[39m \u001b[33;03m                            If there are arguments, the operator acts on the state locally - local operator (e.g., site-dependent).\u001b[39;00m\n\u001b[32m   1400\u001b[39m \u001b[33;03m    \"\"\"\u001b[39;00m\n\u001b[32m-> \u001b[39m\u001b[32m1401\u001b[39m     \u001b[38;5;28;01mreturn\u001b[39;00m \u001b[38;5;28;43mself\u001b[39;49m\u001b[43m.\u001b[49m\u001b[43mapply\u001b[49m\u001b[43m(\u001b[49m\u001b[43mstates\u001b[49m\u001b[43m,\u001b[49m\u001b[43m \u001b[49m\u001b[43m*\u001b[49m\u001b[43margs\u001b[49m\u001b[43m)\u001b[49m\n",
      "\u001b[36mFile \u001b[39m\u001b[32m~/Codes/QuantumEigenSolver/Python/QES/Algebra/Operator/operator.py:1384\u001b[39m, in \u001b[36mOperator.apply\u001b[39m\u001b[34m(self, states, *args)\u001b[39m\n\u001b[32m   1382\u001b[39m     \u001b[38;5;28;01mreturn\u001b[39;00m \u001b[38;5;28mself\u001b[39m._apply_local(states, *args)\n\u001b[32m   1383\u001b[39m \u001b[38;5;28;01melif\u001b[39;00m \u001b[38;5;28mself\u001b[39m._type_acting.is_correlation():\n\u001b[32m-> \u001b[39m\u001b[32m1384\u001b[39m     \u001b[38;5;28;01mreturn\u001b[39;00m \u001b[38;5;28;43mself\u001b[39;49m\u001b[43m.\u001b[49m\u001b[43m_apply_correlation\u001b[49m\u001b[43m(\u001b[49m\u001b[43mstates\u001b[49m\u001b[43m,\u001b[49m\u001b[43m \u001b[49m\u001b[43m*\u001b[49m\u001b[43margs\u001b[49m\u001b[43m)\u001b[49m\n\u001b[32m   1385\u001b[39m \u001b[38;5;28;01melse\u001b[39;00m:\n\u001b[32m   1386\u001b[39m     \u001b[38;5;28;01mraise\u001b[39;00m \u001b[38;5;167;01mNotImplementedError\u001b[39;00m(\u001b[33m\"\u001b[39m\u001b[33mInvalid operator acting type.\u001b[39m\u001b[33m\"\u001b[39m)\n",
      "\u001b[36mFile \u001b[39m\u001b[32m~/Codes/QuantumEigenSolver/Python/QES/Algebra/Operator/operator.py:1362\u001b[39m, in \u001b[36mOperator._apply_correlation\u001b[39m\u001b[34m(self, states, i, j)\u001b[39m\n\u001b[32m   1345\u001b[39m \u001b[38;5;250m\u001b[39m\u001b[33;03m\"\"\"\u001b[39;00m\n\u001b[32m   1346\u001b[39m \u001b[33;03mApplies a correlation function to a given state or a collection of states.\u001b[39;00m\n\u001b[32m   1347\u001b[39m \u001b[33;03mParameters:\u001b[39;00m\n\u001b[32m   (...)\u001b[39m\u001b[32m   1358\u001b[39m \u001b[33;03m        - `val_list` contains the corresponding values for each input state.\u001b[39;00m\n\u001b[32m   1359\u001b[39m \u001b[33;03m\"\"\"\u001b[39;00m\n\u001b[32m   1360\u001b[39m \u001b[38;5;28;01mif\u001b[39;00m (\u001b[38;5;28mhasattr\u001b[39m(states, \u001b[33m'\u001b[39m\u001b[33mshape\u001b[39m\u001b[33m'\u001b[39m) \u001b[38;5;129;01mand\u001b[39;00m \u001b[38;5;28mlen\u001b[39m(states.shape) == \u001b[32m1\u001b[39m) \u001b[38;5;129;01mor\u001b[39;00m \u001b[38;5;28misinstance\u001b[39m(states, (\u001b[38;5;28mint\u001b[39m, np.int8, np.int16, np.int32, np.int64)):\n\u001b[32m   1361\u001b[39m     \u001b[38;5;66;03m# if the state is a single state, apply the function directly\u001b[39;00m\n\u001b[32m-> \u001b[39m\u001b[32m1362\u001b[39m     st, val = \u001b[38;5;28;43mself\u001b[39;49m\u001b[43m.\u001b[49m\u001b[43m_fun\u001b[49m\u001b[43m(\u001b[49m\u001b[43mstates\u001b[49m\u001b[43m,\u001b[49m\u001b[43m \u001b[49m\u001b[43mi\u001b[49m\u001b[43m,\u001b[49m\u001b[43m \u001b[49m\u001b[43mj\u001b[49m\u001b[43m)\u001b[49m\n\u001b[32m   1363\u001b[39m     \u001b[38;5;28;01mreturn\u001b[39;00m st, val * \u001b[38;5;28mself\u001b[39m._eigval\n\u001b[32m   1365\u001b[39m results     = [\u001b[38;5;28mself\u001b[39m._fun(state, i, j) \u001b[38;5;28;01mfor\u001b[39;00m state \u001b[38;5;129;01min\u001b[39;00m states]\n",
      "\u001b[36mFile \u001b[39m\u001b[32m~/Codes/QuantumEigenSolver/Python/QES/Algebra/Operator/operator.py:471\u001b[39m, in \u001b[36mOperatorFunction.__call__\u001b[39m\u001b[34m(self, s, *args)\u001b[39m\n\u001b[32m    455\u001b[39m \u001b[38;5;28;01mdef\u001b[39;00m\u001b[38;5;250m \u001b[39m\u001b[34m__call__\u001b[39m(\u001b[38;5;28mself\u001b[39m, s: Union[\u001b[38;5;28mint\u001b[39m], *args) -> List[Tuple[Optional[Union[\u001b[38;5;28mint\u001b[39m]], Union[\u001b[38;5;28mfloat\u001b[39m, \u001b[38;5;28mcomplex\u001b[39m]]]:\n\u001b[32m    456\u001b[39m \u001b[38;5;250m    \u001b[39m\u001b[33;03m\"\"\"\u001b[39;00m\n\u001b[32m    457\u001b[39m \u001b[33;03m    Apply the operator function to a given state.\u001b[39;00m\n\u001b[32m    458\u001b[39m \n\u001b[32m   (...)\u001b[39m\u001b[32m    469\u001b[39m \u001b[33;03m                    or if the return type from the operator function is not recognized.\u001b[39;00m\n\u001b[32m    470\u001b[39m \u001b[33;03m    \"\"\"\u001b[39;00m\n\u001b[32m--> \u001b[39m\u001b[32m471\u001b[39m     \u001b[38;5;28;01mreturn\u001b[39;00m \u001b[38;5;28;43mself\u001b[39;49m\u001b[43m.\u001b[49m\u001b[43mapply\u001b[49m\u001b[43m(\u001b[49m\u001b[43ms\u001b[49m\u001b[43m,\u001b[49m\u001b[43m \u001b[49m\u001b[43m*\u001b[49m\u001b[43margs\u001b[49m\u001b[43m)\u001b[49m\n",
      "\u001b[36mFile \u001b[39m\u001b[32m~/Codes/QuantumEigenSolver/Python/QES/Algebra/Operator/operator.py:438\u001b[39m, in \u001b[36mOperatorFunction.apply\u001b[39m\u001b[34m(self, s, *args)\u001b[39m\n\u001b[32m    436\u001b[39m     result = \u001b[38;5;28mself\u001b[39m._apply_local(s, args[\u001b[32m0\u001b[39m])\n\u001b[32m    437\u001b[39m \u001b[38;5;28;01melif\u001b[39;00m \u001b[38;5;28mself\u001b[39m._necessary_args == \u001b[32m2\u001b[39m:\n\u001b[32m--> \u001b[39m\u001b[32m438\u001b[39m     result = \u001b[38;5;28;43mself\u001b[39;49m\u001b[43m.\u001b[49m\u001b[43m_apply_correlation\u001b[49m\u001b[43m(\u001b[49m\u001b[43ms\u001b[49m\u001b[43m,\u001b[49m\u001b[43m \u001b[49m\u001b[43margs\u001b[49m\u001b[43m[\u001b[49m\u001b[32;43m0\u001b[39;49m\u001b[43m]\u001b[49m\u001b[43m,\u001b[49m\u001b[43m \u001b[49m\u001b[43margs\u001b[49m\u001b[43m[\u001b[49m\u001b[32;43m1\u001b[39;49m\u001b[43m]\u001b[49m\u001b[43m)\u001b[49m\n\u001b[32m    439\u001b[39m \u001b[38;5;28;01melse\u001b[39;00m:\n\u001b[32m    440\u001b[39m     \u001b[38;5;28;01mif\u001b[39;00m \u001b[38;5;28misinstance\u001b[39m(s, jnp.ndarray) \u001b[38;5;129;01mand\u001b[39;00m \u001b[38;5;28mself\u001b[39m._fun_jax \u001b[38;5;129;01mis\u001b[39;00m \u001b[38;5;129;01mnot\u001b[39;00m \u001b[38;5;28;01mNone\u001b[39;00m:\n",
      "\u001b[36mFile \u001b[39m\u001b[32m~/Codes/QuantumEigenSolver/Python/QES/Algebra/Operator/operator.py:405\u001b[39m, in \u001b[36mOperatorFunction._apply_correlation\u001b[39m\u001b[34m(self, s, i, j)\u001b[39m\n\u001b[32m    402\u001b[39m     \u001b[38;5;28;01mreturn\u001b[39;00m \u001b[38;5;28mself\u001b[39m._fun_np(s, i, j)\n\u001b[32m    403\u001b[39m \u001b[38;5;66;03m# If the state is an integer, use the integer function\u001b[39;00m\n\u001b[32m    404\u001b[39m \u001b[38;5;66;03m# Note: The integer function should be able to handle the additional arguments\u001b[39;00m\n\u001b[32m--> \u001b[39m\u001b[32m405\u001b[39m \u001b[38;5;28;01mreturn\u001b[39;00m \u001b[38;5;28;43mself\u001b[39;49m\u001b[43m.\u001b[49m\u001b[43m_fun_int\u001b[49m\u001b[43m(\u001b[49m\u001b[43ms\u001b[49m\u001b[43m,\u001b[49m\u001b[43m \u001b[49m\u001b[43mi\u001b[49m\u001b[43m,\u001b[49m\u001b[43m \u001b[49m\u001b[43mj\u001b[49m\u001b[43m)\u001b[49m\n",
      "\u001b[36mFile \u001b[39m\u001b[32m~/miniconda3/lib/python3.12/site-packages/numba/core/dispatcher.py:424\u001b[39m, in \u001b[36m_DispatcherBase._compile_for_args\u001b[39m\u001b[34m(self, *args, **kws)\u001b[39m\n\u001b[32m    420\u001b[39m         msg = (\u001b[33mf\u001b[39m\u001b[33m\"\u001b[39m\u001b[38;5;132;01m{\u001b[39;00m\u001b[38;5;28mstr\u001b[39m(e).rstrip()\u001b[38;5;132;01m}\u001b[39;00m\u001b[33m \u001b[39m\u001b[38;5;130;01m\\n\u001b[39;00m\u001b[38;5;130;01m\\n\u001b[39;00m\u001b[33mThis error may have been caused \u001b[39m\u001b[33m\"\u001b[39m\n\u001b[32m    421\u001b[39m                \u001b[33mf\u001b[39m\u001b[33m\"\u001b[39m\u001b[33mby the following argument(s):\u001b[39m\u001b[38;5;130;01m\\n\u001b[39;00m\u001b[38;5;132;01m{\u001b[39;00margs_str\u001b[38;5;132;01m}\u001b[39;00m\u001b[38;5;130;01m\\n\u001b[39;00m\u001b[33m\"\u001b[39m)\n\u001b[32m    422\u001b[39m         e.patch_message(msg)\n\u001b[32m--> \u001b[39m\u001b[32m424\u001b[39m     \u001b[43merror_rewrite\u001b[49m\u001b[43m(\u001b[49m\u001b[43me\u001b[49m\u001b[43m,\u001b[49m\u001b[43m \u001b[49m\u001b[33;43m'\u001b[39;49m\u001b[33;43mtyping\u001b[39;49m\u001b[33;43m'\u001b[39;49m\u001b[43m)\u001b[49m\n\u001b[32m    425\u001b[39m \u001b[38;5;28;01mexcept\u001b[39;00m errors.UnsupportedError \u001b[38;5;28;01mas\u001b[39;00m e:\n\u001b[32m    426\u001b[39m     \u001b[38;5;66;03m# Something unsupported is present in the user code, add help info\u001b[39;00m\n\u001b[32m    427\u001b[39m     error_rewrite(e, \u001b[33m'\u001b[39m\u001b[33munsupported_error\u001b[39m\u001b[33m'\u001b[39m)\n",
      "\u001b[36mFile \u001b[39m\u001b[32m~/miniconda3/lib/python3.12/site-packages/numba/core/dispatcher.py:365\u001b[39m, in \u001b[36m_DispatcherBase._compile_for_args.<locals>.error_rewrite\u001b[39m\u001b[34m(e, issue_type)\u001b[39m\n\u001b[32m    363\u001b[39m     \u001b[38;5;28;01mraise\u001b[39;00m e\n\u001b[32m    364\u001b[39m \u001b[38;5;28;01melse\u001b[39;00m:\n\u001b[32m--> \u001b[39m\u001b[32m365\u001b[39m     \u001b[38;5;28;01mraise\u001b[39;00m e.with_traceback(\u001b[38;5;28;01mNone\u001b[39;00m)\n",
      "\u001b[31mTypingError\u001b[39m: Failed in nopython mode pipeline (step: nopython frontend)\n\u001b[1m\u001b[1mUntyped global name 'op_func_int':\u001b[0m \u001b[1m\u001b[1mCannot determine Numba type of <class 'function'>\u001b[0m\n\u001b[1m\nFile \"../QES/Algebra/Operator/operator.py\", line 1711:\u001b[0m\n\u001b[1m        def fun_int(state, i, j):\n            <source elided>\n            sites_2 = np.array([i, j], dtype=np.int32)\n\u001b[1m            return op_func_int(state, ns, sites_2, *extra_args)\n\u001b[0m            \u001b[1m^\u001b[0m\u001b[0m\n\u001b[0m\n\u001b[0m\u001b[1mDuring: Pass nopython_type_inference\u001b[0m"
     ]
    }
   ],
   "source": [
    "test_operator_on_state(\n",
    "    op          = [sig_x_c, sig_y_c, sig_z_c],\n",
    "    lat         = lat,\n",
    "    state       = int_state,\n",
    "    op_acting   = OperatorTypeActing.Correlation,\n",
    "    op_label    = ['\\\\sigma^x', '\\\\sigma^y', '\\\\sigma^z'],\n",
    "    to_bin      = None,\n",
    "    just_time   = False\n",
    ")"
   ]
  },
  {
   "cell_type": "code",
   "execution_count": null,
   "id": "ac5e5fe6",
   "metadata": {},
   "outputs": [],
   "source": []
  }
 ],
 "metadata": {
  "kernelspec": {
   "display_name": "base",
   "language": "python",
   "name": "python3"
  },
  "language_info": {
   "codemirror_mode": {
    "name": "ipython",
    "version": 3
   },
   "file_extension": ".py",
   "mimetype": "text/x-python",
   "name": "python",
   "nbconvert_exporter": "python",
   "pygments_lexer": "ipython3",
   "version": "3.12.2"
  }
 },
 "nbformat": 4,
 "nbformat_minor": 5
}
