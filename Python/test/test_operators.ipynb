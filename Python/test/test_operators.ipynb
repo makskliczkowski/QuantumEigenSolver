{
 "cells": [
  {
   "cell_type": "code",
   "execution_count": 9,
   "id": "49806205",
   "metadata": {},
   "outputs": [],
   "source": [
    "import sys\n",
    "import os\n",
    "import numbers\n",
    "import numpy as np\n",
    "from IPython.display import Math, display\n",
    "from typing import Union, List, Sequence, Optional\n",
    "\n",
    "# Add the parent directory (project root) to sys.path\n",
    "script_dir              = os.path.dirname(os.curdir)\n",
    "parent_dir              = os.path.abspath(os.path.join(script_dir, '..'))\n",
    "if parent_dir not in sys.path:\n",
    "    sys.path.append(parent_dir)\n",
    "\n",
    "import QES.general_python.common.binary as _bin_mod\n",
    "from QES.general_python.lattices.honeycomb import HoneycombLattice\n",
    "from QES.general_python.lattices.square import SquareLattice\n",
    "from QES.general_python.lattices.lattice import LatticeBC, Lattice\n",
    "from QES.general_python.common.timer import Timer\n",
    "from QES.general_python.common.display import (\n",
    "    display_state,\n",
    "    display_operator_action,\n",
    "    prepare_labels\n",
    ")\n",
    "\n",
    "from QES.Algebra.Operator.operator import OperatorTypeActing, Operator, JAX_AVAILABLE\n",
    "#! Spin operators\n",
    "import QES.Algebra.Operator.operators_spin as op_spin\n",
    "#! Fermionic operators\n",
    "import QES.Algebra.Operator.operators_spinless_fermions as op_sferm\n",
    "\n",
    "\n",
    "#! Backends\n",
    "if JAX_AVAILABLE:\n",
    "    import jax\n",
    "    import jax.numpy as jnp\n",
    "else:\n",
    "    jax = None\n",
    "    jnp = None\n",
    "    \n",
    "backend = 'np'\n",
    "lat     = SquareLattice(dim     = 1,\n",
    "                        lx      = 5,\n",
    "                        ly      = 1,\n",
    "                        lz      = 1,\n",
    "                        bc      = LatticeBC.PBC)\n",
    "\n",
    "#! Create functions for testing\n",
    "\n",
    "def test_operator_on_state(op           : Union[Operator, Sequence[Operator]],\n",
    "                        lat             : Lattice,\n",
    "                        state           : Union[int, np.ndarray, jnp.ndarray],\n",
    "                        *,\n",
    "                        ns              : Optional[int] = None,\n",
    "                        op_acting       : \"OperatorTypeActing\" = OperatorTypeActing.Local,\n",
    "                        op_label        = None,\n",
    "                        to_bin          = None,\n",
    "                        just_time       = False\n",
    "                        ) -> None:\n",
    "    r\"\"\"\n",
    "    Pretty-print the action of *one or several* lattice operators\n",
    "    on a basis state or wave-function.\n",
    "\n",
    "    Parameters\n",
    "    ----------\n",
    "    op : Operator or sequence[Operator]\n",
    "        The operator(s) Ô acting on 0, 1, or 2 sites.\n",
    "    lat : Lattice\n",
    "        Provides the number of sites ``lat.ns`` = :math:`N_s`.\n",
    "    ns : int, optional\n",
    "        Number of sites.  If *None*, uses ``lat.ns``.\n",
    "    state : int | np.ndarray | jax.numpy.ndarray\n",
    "        *Basis state* (integer encoding) or *wave-function* :math:`|\\psi\\rangle`.\n",
    "    op_acting : OperatorTypeActing, default = ``Local``\n",
    "        How Ô acts: Local (Ôᵢ), Correlation (Ôᵢⱼ), or Global (Ô).\n",
    "    op_label : str | sequence[str], optional\n",
    "        LaTeX label(s).  If *None*, uses ``op.name`` for every operator.\n",
    "    to_bin : Callable[[int, int], str], optional\n",
    "        Integer → binary-string formatter.  Defaults to\n",
    "        ``lambda k,L: format(k, f'0{L}b')``.\n",
    "    just_time : bool, default = False\n",
    "        If True, only measure the time taken for the operation without\n",
    "        displaying the results.  This is useful for benchmarking.\n",
    "\n",
    "    Notes\n",
    "    -----\n",
    "    * For **integer states** we reproduce the coefficient table you had before.\n",
    "    * For **array states** (NumPy / JAX) we show only the *first* non-zero\n",
    "        coefficient returned by the operator.  Adjust if you need more detail.\n",
    "    \"\"\"\n",
    "    # ------------------------------------------------------------------\n",
    "    ops      = (op,) if not isinstance(op, Sequence) else tuple(op)\n",
    "    is_int   = isinstance(state, (numbers.Integral, int, np.integer)) \n",
    "    ns       = lat.ns if ns is None else ns\n",
    "    labels   = prepare_labels(ops, op_label) if not just_time else [''] * len(ops)\n",
    "    def display_in(*args, **kwargs): \n",
    "        if not just_time:\n",
    "            display(*args, **kwargs)\n",
    "    \n",
    "    # ------------------------------------------------------------------\n",
    "    display_state(state,\n",
    "                ns,\n",
    "                label   = f\"Initial integer state (Ns={ns})\",\n",
    "                to_bin  = to_bin,\n",
    "                verbose = not just_time)\n",
    "\n",
    "    # ------------------------------------------------------------------\n",
    "    with Timer(verbose=True, precision='us', name=\"Operator action\"):\n",
    "        for cur_op, lab in zip(ops, labels):\n",
    "            display_in(Math(fr\"\\text{{Operator: }} {lab}, \\text{{typeacting}}: {op_acting}\"))\n",
    "            \n",
    "            if op_acting == op_spin.OperatorTypeActing.Local or op_acting == op_sferm.OperatorTypeActing.Local:\n",
    "                for i in range(ns):\n",
    "                    display_in(Math(fr\"\\quad \\text{{Site index: }} {i}\"))\n",
    "                    s, c = _dispatch(cur_op, state, lat, is_int, to_bin, lab, i=i, just_time=just_time)\n",
    "\n",
    "            elif op_acting == OperatorTypeActing.Correlation or op_acting == op_sferm.OperatorTypeActing.Correlation:\n",
    "                for i in range(ns):\n",
    "                    for j in range(ns):\n",
    "                        display_in(Math(fr\"\\text{{Site indices: }} {i}, {j}\"))\n",
    "                        s, c = _dispatch(cur_op, state, lat, is_int, to_bin, lab, i=i, j=j, just_time=just_time)\n",
    "\n",
    "            elif op_acting == OperatorTypeActing.Global or op_acting == op_sferm.OperatorTypeActing.Global:\n",
    "                s, c = _dispatch(cur_op, state, lat, is_int, to_bin, lab, just_time=just_time)\n",
    "            else:\n",
    "                raise ValueError(f\"Operator acting type {op_acting!r} not supported.\")\n",
    "            \n",
    "#------------------------------------------------------------------------\n",
    "#! Helper functions\n",
    "#------------------------------------------------------------------------\n",
    "\n",
    "def _dispatch(op, state, lat, is_int, to_bin, lab, *, i=None, j=None, just_time=False):\n",
    "    \"\"\"\n",
    "    Call *op* with the right signature and send its first output to\n",
    "    `display_operator_action`.\n",
    "    \"\"\"\n",
    "    \n",
    "    if is_int:\n",
    "        state_act = state\n",
    "    else:\n",
    "        state_act = state.copy()\n",
    "    \n",
    "    # call signature depends on OperatorTypeActing\n",
    "    if i is None:                        # Global operator\n",
    "        st_out, coeff = op(state_act)\n",
    "    elif j is None:                      # Local operator\n",
    "        if is_int:\n",
    "            st_out, coeff = op(state_act, i)\n",
    "        elif isinstance(state_act, (np.ndarray)):\n",
    "            sites         = np.array([i])\n",
    "            st_out, coeff = op(state_act, *sites)\n",
    "        elif isinstance(state_act, (jnp.ndarray)):\n",
    "            sites         = jnp.array([i])\n",
    "            st_out, coeff = op(state_act, sites[0])\n",
    "    else:                                # Correlation operator\n",
    "        if is_int:\n",
    "            st_out, coeff = op(state_act, i, j)\n",
    "        elif isinstance(state_act, (np.ndarray)):\n",
    "            sites         = np.array([i, j])\n",
    "            st_out, coeff = op(state_act, *sites)\n",
    "        elif isinstance(state_act, (jnp.ndarray)):\n",
    "            sites         = jnp.array([i, j])\n",
    "            st_out, coeff = op(state_act, sites[0], sites[1])\n",
    "            \n",
    "    #! choose what to show depending on state representation\n",
    "    new_state = st_out\n",
    "    new_coeff = coeff\n",
    "    if not just_time:\n",
    "        display_operator_action(f\"\\\\quad \\\\quad {lab}\",\n",
    "                                i if j is None else (i, j),\n",
    "                                state,\n",
    "                                lat.ns,\n",
    "                                new_state,\n",
    "                                new_coeff,\n",
    "                                to_bin = to_bin)\n",
    "    return new_state, new_coeff\n",
    "\n",
    "# ------------------------------------------------------------------\n",
    "\n",
    "def initial_states(ns: int, display: bool = False) -> tuple:\n",
    "    int_state = np.random.randint(0, 2**(ns%64), dtype=np.int32)\n",
    "    if ns >= 64:\n",
    "        np_state  = np.random.randint(0, 2, size=lat.ns).astype(np.float32)\n",
    "        jnp_state = jnp.array(np_state)\n",
    "    else:\n",
    "        np_state  = _bin_mod.int2base_np(int_state, size = ns, value_true=1, value_false=0).astype(np.float32)\n",
    "        jnp_state = jnp.array(np_state)\n",
    "    \n",
    "    if display:\n",
    "        display_state(int_state, lat.ns,    label = \"Integer state\")\n",
    "        display_state(np_state, lat.ns,     label = \"NumPy state\")\n",
    "        display_state(jnp_state, lat.ns,    label = \"JAX state\")\n",
    "    \n",
    "    return int_state, np_state, jnp_state\n",
    "\n",
    "# ------------------------------------------------------------------"
   ]
  },
  {
   "cell_type": "markdown",
   "id": "9ea8da02",
   "metadata": {},
   "source": [
    "## Spin operators $\\sigma^x$, $\\sigma^y$, $\\sigma^z$\n",
    "\n",
    "The Pauli matrices are defined as:\n",
    "$$\n",
    "\\sigma^x = \\begin{pmatrix}\n",
    "0 & 1 \\\\\n",
    "1 & 0\n",
    "\\end{pmatrix}, \\quad\n",
    "\\sigma^y = \\begin{pmatrix}\n",
    "0 & -i \\\\\n",
    "-i & 0\n",
    "\\end{pmatrix}, \\quad\n",
    "\\sigma^z = \\begin{pmatrix}\n",
    "1 & 0 \\\\\n",
    "0 & -1\n",
    "\\end{pmatrix}\n",
    "$$"
   ]
  },
  {
   "cell_type": "markdown",
   "id": "54de3ab4",
   "metadata": {},
   "source": [
    "### a) Local operators"
   ]
  },
  {
   "cell_type": "code",
   "execution_count": 2,
   "id": "59e4d3ac",
   "metadata": {},
   "outputs": [
    {
     "data": {
      "text/latex": [
       "$\\displaystyle \\text{Integer state: }\\,\\left|(6)\\,00110\\right\\rangle$"
      ],
      "text/plain": [
       "<IPython.core.display.Math object>"
      ]
     },
     "metadata": {},
     "output_type": "display_data"
    },
    {
     "data": {
      "text/latex": [
       "$\\displaystyle \\text{NumPy state: }\\,|0 0 1 1 0\\rangle$"
      ],
      "text/plain": [
       "<IPython.core.display.Math object>"
      ]
     },
     "metadata": {},
     "output_type": "display_data"
    },
    {
     "data": {
      "text/latex": [
       "$\\displaystyle \\text{JAX state: }\\,|0 0 1 1 0\\rangle$"
      ],
      "text/plain": [
       "<IPython.core.display.Math object>"
      ]
     },
     "metadata": {},
     "output_type": "display_data"
    }
   ],
   "source": [
    "type_act = op_spin.OperatorTypeActing.Local\n",
    "\n",
    "sig_x_l = op_spin.sig_x(\n",
    "    lattice  = lat,\n",
    "    type_act = type_act,\n",
    "    spin     = False\n",
    ")\n",
    "sig_y_l = op_spin.sig_y(\n",
    "    lattice  = lat,\n",
    "    type_act = type_act,\n",
    "    spin     = False\n",
    ")\n",
    "sig_z_l = op_spin.sig_z(\n",
    "    lattice  = lat,\n",
    "    type_act = type_act,\n",
    "    spin     = False\n",
    ")\n",
    "sig_p_l = op_spin.sig_p(\n",
    "    lattice  = lat,\n",
    "    type_act = type_act,\n",
    "    spin     = False\n",
    ")\n",
    "sig_m_l = op_spin.sig_m(\n",
    "    lattice  = lat,\n",
    "    type_act = type_act,\n",
    "    spin     = False\n",
    ")\n",
    "sig_pm_l = op_spin.sig_pm(\n",
    "    lattice  = lat,\n",
    "    type_act = type_act,\n",
    "    spin     = False\n",
    ")\n",
    "sig_mp_l = op_spin.sig_mp(\n",
    "    lattice  = lat,\n",
    "    type_act = type_act,\n",
    "    spin     = False\n",
    ")\n",
    "operators_l  = [sig_x_l, sig_y_l, sig_z_l]#, sig_p_l, sig_m_l, sig_pm_l, sig_mp_l]\n",
    "labels_l     = ['\\\\sigma^x', '\\\\sigma^y', '\\\\sigma^z', \n",
    "                '\\\\sigma^+', '\\\\sigma^-', \n",
    "                '[\\\\sigma^+]\\\\sigma^{\\\\pm}', '[\\\\sigma^-]\\\\sigma^{\\\\mp}'][:len(operators_l)]\n",
    "# create a set of states and test it\n",
    "int_state, np_state, jnp_state = initial_states(lat.ns, display=True)"
   ]
  },
  {
   "cell_type": "markdown",
   "id": "aa380d42",
   "metadata": {},
   "source": [
    "#### i) Integer states"
   ]
  },
  {
   "cell_type": "code",
   "execution_count": 3,
   "id": "2d834af1",
   "metadata": {},
   "outputs": [
    {
     "data": {
      "text/latex": [
       "$\\displaystyle \\text{Initial integer state (Ns=5): }\\,\\left|(6)\\,00110\\right\\rangle$"
      ],
      "text/plain": [
       "<IPython.core.display.Math object>"
      ]
     },
     "metadata": {},
     "output_type": "display_data"
    },
    {
     "data": {
      "text/latex": [
       "$\\displaystyle \\text{Operator: } \\sigma^x, \\text{typeacting}: OperatorTypeActing.Local$"
      ],
      "text/plain": [
       "<IPython.core.display.Math object>"
      ]
     },
     "metadata": {},
     "output_type": "display_data"
    },
    {
     "data": {
      "text/latex": [
       "$\\displaystyle \\quad \\text{Site index: } 0$"
      ],
      "text/plain": [
       "<IPython.core.display.Math object>"
      ]
     },
     "metadata": {},
     "output_type": "display_data"
    },
    {
     "data": {
      "text/latex": [
       "$\\displaystyle \\quad \\quad \\sigma^x_{0}\\,\\left|(6)\\,00110\\right\\rangle = 0.5\\left|(22)\\,10110\\right\\rangle$"
      ],
      "text/plain": [
       "<IPython.core.display.Math object>"
      ]
     },
     "metadata": {},
     "output_type": "display_data"
    },
    {
     "data": {
      "text/latex": [
       "$\\displaystyle \\quad \\text{Site index: } 1$"
      ],
      "text/plain": [
       "<IPython.core.display.Math object>"
      ]
     },
     "metadata": {},
     "output_type": "display_data"
    },
    {
     "data": {
      "text/latex": [
       "$\\displaystyle \\quad \\quad \\sigma^x_{1}\\,\\left|(6)\\,00110\\right\\rangle = 0.5\\left|(14)\\,01110\\right\\rangle$"
      ],
      "text/plain": [
       "<IPython.core.display.Math object>"
      ]
     },
     "metadata": {},
     "output_type": "display_data"
    },
    {
     "data": {
      "text/latex": [
       "$\\displaystyle \\quad \\text{Site index: } 2$"
      ],
      "text/plain": [
       "<IPython.core.display.Math object>"
      ]
     },
     "metadata": {},
     "output_type": "display_data"
    },
    {
     "data": {
      "text/latex": [
       "$\\displaystyle \\quad \\quad \\sigma^x_{2}\\,\\left|(6)\\,00110\\right\\rangle = 0.5\\left|(2)\\,00010\\right\\rangle$"
      ],
      "text/plain": [
       "<IPython.core.display.Math object>"
      ]
     },
     "metadata": {},
     "output_type": "display_data"
    },
    {
     "data": {
      "text/latex": [
       "$\\displaystyle \\quad \\text{Site index: } 3$"
      ],
      "text/plain": [
       "<IPython.core.display.Math object>"
      ]
     },
     "metadata": {},
     "output_type": "display_data"
    },
    {
     "data": {
      "text/latex": [
       "$\\displaystyle \\quad \\quad \\sigma^x_{3}\\,\\left|(6)\\,00110\\right\\rangle = 0.5\\left|(4)\\,00100\\right\\rangle$"
      ],
      "text/plain": [
       "<IPython.core.display.Math object>"
      ]
     },
     "metadata": {},
     "output_type": "display_data"
    },
    {
     "data": {
      "text/latex": [
       "$\\displaystyle \\quad \\text{Site index: } 4$"
      ],
      "text/plain": [
       "<IPython.core.display.Math object>"
      ]
     },
     "metadata": {},
     "output_type": "display_data"
    },
    {
     "data": {
      "text/latex": [
       "$\\displaystyle \\quad \\quad \\sigma^x_{4}\\,\\left|(6)\\,00110\\right\\rangle = 0.5\\left|(7)\\,00111\\right\\rangle$"
      ],
      "text/plain": [
       "<IPython.core.display.Math object>"
      ]
     },
     "metadata": {},
     "output_type": "display_data"
    },
    {
     "data": {
      "text/latex": [
       "$\\displaystyle \\text{Operator: } \\sigma^y, \\text{typeacting}: OperatorTypeActing.Local$"
      ],
      "text/plain": [
       "<IPython.core.display.Math object>"
      ]
     },
     "metadata": {},
     "output_type": "display_data"
    },
    {
     "data": {
      "text/latex": [
       "$\\displaystyle \\quad \\text{Site index: } 0$"
      ],
      "text/plain": [
       "<IPython.core.display.Math object>"
      ]
     },
     "metadata": {},
     "output_type": "display_data"
    },
    {
     "data": {
      "text/latex": [
       "$\\displaystyle \\quad \\quad \\sigma^y_{0}\\,\\left|(6)\\,00110\\right\\rangle = 0.5e^{-i0.5\\pi}\\left|(22)\\,10110\\right\\rangle$"
      ],
      "text/plain": [
       "<IPython.core.display.Math object>"
      ]
     },
     "metadata": {},
     "output_type": "display_data"
    },
    {
     "data": {
      "text/latex": [
       "$\\displaystyle \\quad \\text{Site index: } 1$"
      ],
      "text/plain": [
       "<IPython.core.display.Math object>"
      ]
     },
     "metadata": {},
     "output_type": "display_data"
    },
    {
     "data": {
      "text/latex": [
       "$\\displaystyle \\quad \\quad \\sigma^y_{1}\\,\\left|(6)\\,00110\\right\\rangle = 0.5e^{-i0.5\\pi}\\left|(14)\\,01110\\right\\rangle$"
      ],
      "text/plain": [
       "<IPython.core.display.Math object>"
      ]
     },
     "metadata": {},
     "output_type": "display_data"
    },
    {
     "data": {
      "text/latex": [
       "$\\displaystyle \\quad \\text{Site index: } 2$"
      ],
      "text/plain": [
       "<IPython.core.display.Math object>"
      ]
     },
     "metadata": {},
     "output_type": "display_data"
    },
    {
     "data": {
      "text/latex": [
       "$\\displaystyle \\quad \\quad \\sigma^y_{2}\\,\\left|(6)\\,00110\\right\\rangle = 0.5e^{i0.5\\pi}\\left|(2)\\,00010\\right\\rangle$"
      ],
      "text/plain": [
       "<IPython.core.display.Math object>"
      ]
     },
     "metadata": {},
     "output_type": "display_data"
    },
    {
     "data": {
      "text/latex": [
       "$\\displaystyle \\quad \\text{Site index: } 3$"
      ],
      "text/plain": [
       "<IPython.core.display.Math object>"
      ]
     },
     "metadata": {},
     "output_type": "display_data"
    },
    {
     "data": {
      "text/latex": [
       "$\\displaystyle \\quad \\quad \\sigma^y_{3}\\,\\left|(6)\\,00110\\right\\rangle = 0.5e^{i0.5\\pi}\\left|(4)\\,00100\\right\\rangle$"
      ],
      "text/plain": [
       "<IPython.core.display.Math object>"
      ]
     },
     "metadata": {},
     "output_type": "display_data"
    },
    {
     "data": {
      "text/latex": [
       "$\\displaystyle \\quad \\text{Site index: } 4$"
      ],
      "text/plain": [
       "<IPython.core.display.Math object>"
      ]
     },
     "metadata": {},
     "output_type": "display_data"
    },
    {
     "data": {
      "text/latex": [
       "$\\displaystyle \\quad \\quad \\sigma^y_{4}\\,\\left|(6)\\,00110\\right\\rangle = 0.5e^{-i0.5\\pi}\\left|(7)\\,00111\\right\\rangle$"
      ],
      "text/plain": [
       "<IPython.core.display.Math object>"
      ]
     },
     "metadata": {},
     "output_type": "display_data"
    },
    {
     "data": {
      "text/latex": [
       "$\\displaystyle \\text{Operator: } \\sigma^z, \\text{typeacting}: OperatorTypeActing.Local$"
      ],
      "text/plain": [
       "<IPython.core.display.Math object>"
      ]
     },
     "metadata": {},
     "output_type": "display_data"
    },
    {
     "data": {
      "text/latex": [
       "$\\displaystyle \\quad \\text{Site index: } 0$"
      ],
      "text/plain": [
       "<IPython.core.display.Math object>"
      ]
     },
     "metadata": {},
     "output_type": "display_data"
    },
    {
     "data": {
      "text/latex": [
       "$\\displaystyle \\quad \\quad \\sigma^z_{0}\\,\\left|(6)\\,00110\\right\\rangle = -0.5\\left|(6)\\,00110\\right\\rangle$"
      ],
      "text/plain": [
       "<IPython.core.display.Math object>"
      ]
     },
     "metadata": {},
     "output_type": "display_data"
    },
    {
     "data": {
      "text/latex": [
       "$\\displaystyle \\quad \\text{Site index: } 1$"
      ],
      "text/plain": [
       "<IPython.core.display.Math object>"
      ]
     },
     "metadata": {},
     "output_type": "display_data"
    },
    {
     "data": {
      "text/latex": [
       "$\\displaystyle \\quad \\quad \\sigma^z_{1}\\,\\left|(6)\\,00110\\right\\rangle = -0.5\\left|(6)\\,00110\\right\\rangle$"
      ],
      "text/plain": [
       "<IPython.core.display.Math object>"
      ]
     },
     "metadata": {},
     "output_type": "display_data"
    },
    {
     "data": {
      "text/latex": [
       "$\\displaystyle \\quad \\text{Site index: } 2$"
      ],
      "text/plain": [
       "<IPython.core.display.Math object>"
      ]
     },
     "metadata": {},
     "output_type": "display_data"
    },
    {
     "data": {
      "text/latex": [
       "$\\displaystyle \\quad \\quad \\sigma^z_{2}\\,\\left|(6)\\,00110\\right\\rangle = 0.5\\left|(6)\\,00110\\right\\rangle$"
      ],
      "text/plain": [
       "<IPython.core.display.Math object>"
      ]
     },
     "metadata": {},
     "output_type": "display_data"
    },
    {
     "data": {
      "text/latex": [
       "$\\displaystyle \\quad \\text{Site index: } 3$"
      ],
      "text/plain": [
       "<IPython.core.display.Math object>"
      ]
     },
     "metadata": {},
     "output_type": "display_data"
    },
    {
     "data": {
      "text/latex": [
       "$\\displaystyle \\quad \\quad \\sigma^z_{3}\\,\\left|(6)\\,00110\\right\\rangle = 0.5\\left|(6)\\,00110\\right\\rangle$"
      ],
      "text/plain": [
       "<IPython.core.display.Math object>"
      ]
     },
     "metadata": {},
     "output_type": "display_data"
    },
    {
     "data": {
      "text/latex": [
       "$\\displaystyle \\quad \\text{Site index: } 4$"
      ],
      "text/plain": [
       "<IPython.core.display.Math object>"
      ]
     },
     "metadata": {},
     "output_type": "display_data"
    },
    {
     "data": {
      "text/latex": [
       "$\\displaystyle \\quad \\quad \\sigma^z_{4}\\,\\left|(6)\\,00110\\right\\rangle = -0.5\\left|(6)\\,00110\\right\\rangle$"
      ],
      "text/plain": [
       "<IPython.core.display.Math object>"
      ]
     },
     "metadata": {},
     "output_type": "display_data"
    },
    {
     "name": "stdout",
     "output_type": "stream",
     "text": [
      "Operator action: 1118585.791000 us\n"
     ]
    }
   ],
   "source": [
    "test_operator_on_state(\n",
    "    op          = operators_l,\n",
    "    lat         = lat,\n",
    "    state       = int_state,\n",
    "    op_acting   = OperatorTypeActing.Local,\n",
    "    op_label    = labels_l,\n",
    "    to_bin      = None,\n",
    "    just_time   = False\n",
    ")\n"
   ]
  },
  {
   "cell_type": "markdown",
   "id": "2b481ceb",
   "metadata": {},
   "source": [
    "#### ii) Numpy states"
   ]
  },
  {
   "cell_type": "code",
   "execution_count": 5,
   "id": "132a408f",
   "metadata": {},
   "outputs": [
    {
     "name": "stdout",
     "output_type": "stream",
     "text": [
      "Operator action: 531.917000 us\n"
     ]
    }
   ],
   "source": [
    "test_operator_on_state(\n",
    "    op          = operators_l,\n",
    "    lat         = lat,\n",
    "    state       = np_state,\n",
    "    op_acting   = OperatorTypeActing.Local,\n",
    "    op_label    = labels_l,\n",
    "    to_bin      = None,\n",
    "    just_time   = True\n",
    ")\n"
   ]
  },
  {
   "cell_type": "markdown",
   "id": "b20548f9",
   "metadata": {},
   "source": [
    "#### iii) JAX states"
   ]
  },
  {
   "cell_type": "code",
   "execution_count": 12,
   "id": "0fa3f906",
   "metadata": {},
   "outputs": [
    {
     "name": "stdout",
     "output_type": "stream",
     "text": [
      "Operator action: 5827.291000 us\n"
     ]
    }
   ],
   "source": [
    "test_operator_on_state(\n",
    "    op          = operators_l,\n",
    "    lat         = lat,\n",
    "    state       = jnp_state,\n",
    "    op_acting   = OperatorTypeActing.Local,\n",
    "    op_label    = labels_l,\n",
    "    to_bin      = None,\n",
    "    just_time   = True\n",
    ")"
   ]
  },
  {
   "cell_type": "markdown",
   "id": "d2736af9",
   "metadata": {},
   "source": [
    "### b) Correlation functions"
   ]
  },
  {
   "cell_type": "code",
   "execution_count": 13,
   "id": "1dfd4991",
   "metadata": {},
   "outputs": [
    {
     "data": {
      "text/latex": [
       "$\\displaystyle \\text{Integer state: }\\,\\left|(19)\\,10011\\right\\rangle$"
      ],
      "text/plain": [
       "<IPython.core.display.Math object>"
      ]
     },
     "metadata": {},
     "output_type": "display_data"
    },
    {
     "data": {
      "text/latex": [
       "$\\displaystyle \\text{NumPy state: }\\,|1 0 0 1 1\\rangle$"
      ],
      "text/plain": [
       "<IPython.core.display.Math object>"
      ]
     },
     "metadata": {},
     "output_type": "display_data"
    },
    {
     "data": {
      "text/latex": [
       "$\\displaystyle \\text{JAX state: }\\,|1 0 0 1 1\\rangle$"
      ],
      "text/plain": [
       "<IPython.core.display.Math object>"
      ]
     },
     "metadata": {},
     "output_type": "display_data"
    }
   ],
   "source": [
    "type_act = op_spin.OperatorTypeActing.Correlation\n",
    "\n",
    "sig_x_c = op_spin.sig_x(\n",
    "    lattice  = lat,\n",
    "    type_act = type_act,\n",
    "    spin     = False\n",
    ")\n",
    "sig_y_c = op_spin.sig_y(\n",
    "    lattice  = lat,\n",
    "    type_act = type_act,\n",
    "    spin     = False\n",
    ")\n",
    "sig_z_c = op_spin.sig_z(\n",
    "    lattice  = lat,\n",
    "    type_act = type_act,\n",
    "    spin     = False\n",
    ")\n",
    "sig_p_c = op_spin.sig_p(\n",
    "    lattice  = lat,\n",
    "    type_act = type_act,\n",
    "    spin     = False\n",
    ")\n",
    "sig_m_c = op_spin.sig_m(\n",
    "    lattice  = lat,\n",
    "    type_act = type_act,\n",
    "    spin     = False\n",
    ")\n",
    "sig_pm_c = op_spin.sig_pm(\n",
    "    lattice  = lat,\n",
    "    type_act = type_act,\n",
    "    spin     = False\n",
    ")\n",
    "sig_mp_c = op_spin.sig_mp(\n",
    "    lattice  = lat,\n",
    "    type_act = type_act,\n",
    "    spin     = False\n",
    ")\n",
    "operators_c  = [sig_x_c, sig_y_c, sig_z_c, sig_p_c, sig_m_c, sig_pm_c, sig_mp_c]\n",
    "labels_c     = ['\\\\sigma^x', '\\\\sigma^y', '\\\\sigma^z', \n",
    "                '\\\\sigma^+', '\\\\sigma^-', \n",
    "                '[\\\\sigma^+]\\\\sigma^{\\\\pm}', '[\\\\sigma^-]\\\\sigma^{\\\\mp}'][:len(operators_c)]\n",
    "# create a set of states and test it\n",
    "int_state, np_state, jnp_state = initial_states(lat.ns, display=True)"
   ]
  },
  {
   "cell_type": "markdown",
   "id": "bff7d146",
   "metadata": {},
   "source": [
    "#### i) Integer states"
   ]
  },
  {
   "cell_type": "code",
   "execution_count": 14,
   "id": "1ad6629a",
   "metadata": {},
   "outputs": [
    {
     "data": {
      "text/latex": [
       "$\\displaystyle \\text{Initial integer state (Ns=5): }\\,\\left|(19)\\,10011\\right\\rangle$"
      ],
      "text/plain": [
       "<IPython.core.display.Math object>"
      ]
     },
     "metadata": {},
     "output_type": "display_data"
    },
    {
     "data": {
      "text/latex": [
       "$\\displaystyle \\text{Operator: } \\sigma^x, \\text{typeacting}: OperatorTypeActing.Correlation$"
      ],
      "text/plain": [
       "<IPython.core.display.Math object>"
      ]
     },
     "metadata": {},
     "output_type": "display_data"
    },
    {
     "data": {
      "text/latex": [
       "$\\displaystyle \\text{Site indices: } 0, 0$"
      ],
      "text/plain": [
       "<IPython.core.display.Math object>"
      ]
     },
     "metadata": {},
     "output_type": "display_data"
    },
    {
     "data": {
      "text/latex": [
       "$\\displaystyle \\quad \\quad \\sigma^x_{0,0}\\,\\left|(19)\\,10011\\right\\rangle = 0.25\\left|(19)\\,10011\\right\\rangle$"
      ],
      "text/plain": [
       "<IPython.core.display.Math object>"
      ]
     },
     "metadata": {},
     "output_type": "display_data"
    },
    {
     "data": {
      "text/latex": [
       "$\\displaystyle \\text{Site indices: } 0, 1$"
      ],
      "text/plain": [
       "<IPython.core.display.Math object>"
      ]
     },
     "metadata": {},
     "output_type": "display_data"
    },
    {
     "data": {
      "text/latex": [
       "$\\displaystyle \\quad \\quad \\sigma^x_{0,1}\\,\\left|(19)\\,10011\\right\\rangle = 0.25\\left|(11)\\,01011\\right\\rangle$"
      ],
      "text/plain": [
       "<IPython.core.display.Math object>"
      ]
     },
     "metadata": {},
     "output_type": "display_data"
    },
    {
     "data": {
      "text/latex": [
       "$\\displaystyle \\text{Site indices: } 0, 2$"
      ],
      "text/plain": [
       "<IPython.core.display.Math object>"
      ]
     },
     "metadata": {},
     "output_type": "display_data"
    },
    {
     "data": {
      "text/latex": [
       "$\\displaystyle \\quad \\quad \\sigma^x_{0,2}\\,\\left|(19)\\,10011\\right\\rangle = 0.25\\left|(7)\\,00111\\right\\rangle$"
      ],
      "text/plain": [
       "<IPython.core.display.Math object>"
      ]
     },
     "metadata": {},
     "output_type": "display_data"
    },
    {
     "data": {
      "text/latex": [
       "$\\displaystyle \\text{Site indices: } 0, 3$"
      ],
      "text/plain": [
       "<IPython.core.display.Math object>"
      ]
     },
     "metadata": {},
     "output_type": "display_data"
    },
    {
     "data": {
      "text/latex": [
       "$\\displaystyle \\quad \\quad \\sigma^x_{0,3}\\,\\left|(19)\\,10011\\right\\rangle = 0.25\\left|(1)\\,00001\\right\\rangle$"
      ],
      "text/plain": [
       "<IPython.core.display.Math object>"
      ]
     },
     "metadata": {},
     "output_type": "display_data"
    },
    {
     "data": {
      "text/latex": [
       "$\\displaystyle \\text{Site indices: } 0, 4$"
      ],
      "text/plain": [
       "<IPython.core.display.Math object>"
      ]
     },
     "metadata": {},
     "output_type": "display_data"
    },
    {
     "data": {
      "text/latex": [
       "$\\displaystyle \\quad \\quad \\sigma^x_{0,4}\\,\\left|(19)\\,10011\\right\\rangle = 0.25\\left|(2)\\,00010\\right\\rangle$"
      ],
      "text/plain": [
       "<IPython.core.display.Math object>"
      ]
     },
     "metadata": {},
     "output_type": "display_data"
    },
    {
     "data": {
      "text/latex": [
       "$\\displaystyle \\text{Site indices: } 1, 0$"
      ],
      "text/plain": [
       "<IPython.core.display.Math object>"
      ]
     },
     "metadata": {},
     "output_type": "display_data"
    },
    {
     "data": {
      "text/latex": [
       "$\\displaystyle \\quad \\quad \\sigma^x_{1,0}\\,\\left|(19)\\,10011\\right\\rangle = 0.25\\left|(11)\\,01011\\right\\rangle$"
      ],
      "text/plain": [
       "<IPython.core.display.Math object>"
      ]
     },
     "metadata": {},
     "output_type": "display_data"
    },
    {
     "data": {
      "text/latex": [
       "$\\displaystyle \\text{Site indices: } 1, 1$"
      ],
      "text/plain": [
       "<IPython.core.display.Math object>"
      ]
     },
     "metadata": {},
     "output_type": "display_data"
    },
    {
     "data": {
      "text/latex": [
       "$\\displaystyle \\quad \\quad \\sigma^x_{1,1}\\,\\left|(19)\\,10011\\right\\rangle = 0.25\\left|(19)\\,10011\\right\\rangle$"
      ],
      "text/plain": [
       "<IPython.core.display.Math object>"
      ]
     },
     "metadata": {},
     "output_type": "display_data"
    },
    {
     "data": {
      "text/latex": [
       "$\\displaystyle \\text{Site indices: } 1, 2$"
      ],
      "text/plain": [
       "<IPython.core.display.Math object>"
      ]
     },
     "metadata": {},
     "output_type": "display_data"
    },
    {
     "data": {
      "text/latex": [
       "$\\displaystyle \\quad \\quad \\sigma^x_{1,2}\\,\\left|(19)\\,10011\\right\\rangle = 0.25\\left|(31)\\,11111\\right\\rangle$"
      ],
      "text/plain": [
       "<IPython.core.display.Math object>"
      ]
     },
     "metadata": {},
     "output_type": "display_data"
    },
    {
     "data": {
      "text/latex": [
       "$\\displaystyle \\text{Site indices: } 1, 3$"
      ],
      "text/plain": [
       "<IPython.core.display.Math object>"
      ]
     },
     "metadata": {},
     "output_type": "display_data"
    },
    {
     "data": {
      "text/latex": [
       "$\\displaystyle \\quad \\quad \\sigma^x_{1,3}\\,\\left|(19)\\,10011\\right\\rangle = 0.25\\left|(25)\\,11001\\right\\rangle$"
      ],
      "text/plain": [
       "<IPython.core.display.Math object>"
      ]
     },
     "metadata": {},
     "output_type": "display_data"
    },
    {
     "data": {
      "text/latex": [
       "$\\displaystyle \\text{Site indices: } 1, 4$"
      ],
      "text/plain": [
       "<IPython.core.display.Math object>"
      ]
     },
     "metadata": {},
     "output_type": "display_data"
    },
    {
     "data": {
      "text/latex": [
       "$\\displaystyle \\quad \\quad \\sigma^x_{1,4}\\,\\left|(19)\\,10011\\right\\rangle = 0.25\\left|(26)\\,11010\\right\\rangle$"
      ],
      "text/plain": [
       "<IPython.core.display.Math object>"
      ]
     },
     "metadata": {},
     "output_type": "display_data"
    },
    {
     "data": {
      "text/latex": [
       "$\\displaystyle \\text{Site indices: } 2, 0$"
      ],
      "text/plain": [
       "<IPython.core.display.Math object>"
      ]
     },
     "metadata": {},
     "output_type": "display_data"
    },
    {
     "data": {
      "text/latex": [
       "$\\displaystyle \\quad \\quad \\sigma^x_{2,0}\\,\\left|(19)\\,10011\\right\\rangle = 0.25\\left|(7)\\,00111\\right\\rangle$"
      ],
      "text/plain": [
       "<IPython.core.display.Math object>"
      ]
     },
     "metadata": {},
     "output_type": "display_data"
    },
    {
     "data": {
      "text/latex": [
       "$\\displaystyle \\text{Site indices: } 2, 1$"
      ],
      "text/plain": [
       "<IPython.core.display.Math object>"
      ]
     },
     "metadata": {},
     "output_type": "display_data"
    },
    {
     "data": {
      "text/latex": [
       "$\\displaystyle \\quad \\quad \\sigma^x_{2,1}\\,\\left|(19)\\,10011\\right\\rangle = 0.25\\left|(31)\\,11111\\right\\rangle$"
      ],
      "text/plain": [
       "<IPython.core.display.Math object>"
      ]
     },
     "metadata": {},
     "output_type": "display_data"
    },
    {
     "data": {
      "text/latex": [
       "$\\displaystyle \\text{Site indices: } 2, 2$"
      ],
      "text/plain": [
       "<IPython.core.display.Math object>"
      ]
     },
     "metadata": {},
     "output_type": "display_data"
    },
    {
     "data": {
      "text/latex": [
       "$\\displaystyle \\quad \\quad \\sigma^x_{2,2}\\,\\left|(19)\\,10011\\right\\rangle = 0.25\\left|(19)\\,10011\\right\\rangle$"
      ],
      "text/plain": [
       "<IPython.core.display.Math object>"
      ]
     },
     "metadata": {},
     "output_type": "display_data"
    },
    {
     "data": {
      "text/latex": [
       "$\\displaystyle \\text{Site indices: } 2, 3$"
      ],
      "text/plain": [
       "<IPython.core.display.Math object>"
      ]
     },
     "metadata": {},
     "output_type": "display_data"
    },
    {
     "data": {
      "text/latex": [
       "$\\displaystyle \\quad \\quad \\sigma^x_{2,3}\\,\\left|(19)\\,10011\\right\\rangle = 0.25\\left|(21)\\,10101\\right\\rangle$"
      ],
      "text/plain": [
       "<IPython.core.display.Math object>"
      ]
     },
     "metadata": {},
     "output_type": "display_data"
    },
    {
     "data": {
      "text/latex": [
       "$\\displaystyle \\text{Site indices: } 2, 4$"
      ],
      "text/plain": [
       "<IPython.core.display.Math object>"
      ]
     },
     "metadata": {},
     "output_type": "display_data"
    },
    {
     "data": {
      "text/latex": [
       "$\\displaystyle \\quad \\quad \\sigma^x_{2,4}\\,\\left|(19)\\,10011\\right\\rangle = 0.25\\left|(22)\\,10110\\right\\rangle$"
      ],
      "text/plain": [
       "<IPython.core.display.Math object>"
      ]
     },
     "metadata": {},
     "output_type": "display_data"
    },
    {
     "data": {
      "text/latex": [
       "$\\displaystyle \\text{Site indices: } 3, 0$"
      ],
      "text/plain": [
       "<IPython.core.display.Math object>"
      ]
     },
     "metadata": {},
     "output_type": "display_data"
    },
    {
     "data": {
      "text/latex": [
       "$\\displaystyle \\quad \\quad \\sigma^x_{3,0}\\,\\left|(19)\\,10011\\right\\rangle = 0.25\\left|(1)\\,00001\\right\\rangle$"
      ],
      "text/plain": [
       "<IPython.core.display.Math object>"
      ]
     },
     "metadata": {},
     "output_type": "display_data"
    },
    {
     "data": {
      "text/latex": [
       "$\\displaystyle \\text{Site indices: } 3, 1$"
      ],
      "text/plain": [
       "<IPython.core.display.Math object>"
      ]
     },
     "metadata": {},
     "output_type": "display_data"
    },
    {
     "data": {
      "text/latex": [
       "$\\displaystyle \\quad \\quad \\sigma^x_{3,1}\\,\\left|(19)\\,10011\\right\\rangle = 0.25\\left|(25)\\,11001\\right\\rangle$"
      ],
      "text/plain": [
       "<IPython.core.display.Math object>"
      ]
     },
     "metadata": {},
     "output_type": "display_data"
    },
    {
     "data": {
      "text/latex": [
       "$\\displaystyle \\text{Site indices: } 3, 2$"
      ],
      "text/plain": [
       "<IPython.core.display.Math object>"
      ]
     },
     "metadata": {},
     "output_type": "display_data"
    },
    {
     "data": {
      "text/latex": [
       "$\\displaystyle \\quad \\quad \\sigma^x_{3,2}\\,\\left|(19)\\,10011\\right\\rangle = 0.25\\left|(21)\\,10101\\right\\rangle$"
      ],
      "text/plain": [
       "<IPython.core.display.Math object>"
      ]
     },
     "metadata": {},
     "output_type": "display_data"
    },
    {
     "data": {
      "text/latex": [
       "$\\displaystyle \\text{Site indices: } 3, 3$"
      ],
      "text/plain": [
       "<IPython.core.display.Math object>"
      ]
     },
     "metadata": {},
     "output_type": "display_data"
    },
    {
     "data": {
      "text/latex": [
       "$\\displaystyle \\quad \\quad \\sigma^x_{3,3}\\,\\left|(19)\\,10011\\right\\rangle = 0.25\\left|(19)\\,10011\\right\\rangle$"
      ],
      "text/plain": [
       "<IPython.core.display.Math object>"
      ]
     },
     "metadata": {},
     "output_type": "display_data"
    },
    {
     "data": {
      "text/latex": [
       "$\\displaystyle \\text{Site indices: } 3, 4$"
      ],
      "text/plain": [
       "<IPython.core.display.Math object>"
      ]
     },
     "metadata": {},
     "output_type": "display_data"
    },
    {
     "data": {
      "text/latex": [
       "$\\displaystyle \\quad \\quad \\sigma^x_{3,4}\\,\\left|(19)\\,10011\\right\\rangle = 0.25\\left|(16)\\,10000\\right\\rangle$"
      ],
      "text/plain": [
       "<IPython.core.display.Math object>"
      ]
     },
     "metadata": {},
     "output_type": "display_data"
    },
    {
     "data": {
      "text/latex": [
       "$\\displaystyle \\text{Site indices: } 4, 0$"
      ],
      "text/plain": [
       "<IPython.core.display.Math object>"
      ]
     },
     "metadata": {},
     "output_type": "display_data"
    },
    {
     "data": {
      "text/latex": [
       "$\\displaystyle \\quad \\quad \\sigma^x_{4,0}\\,\\left|(19)\\,10011\\right\\rangle = 0.25\\left|(2)\\,00010\\right\\rangle$"
      ],
      "text/plain": [
       "<IPython.core.display.Math object>"
      ]
     },
     "metadata": {},
     "output_type": "display_data"
    },
    {
     "data": {
      "text/latex": [
       "$\\displaystyle \\text{Site indices: } 4, 1$"
      ],
      "text/plain": [
       "<IPython.core.display.Math object>"
      ]
     },
     "metadata": {},
     "output_type": "display_data"
    },
    {
     "data": {
      "text/latex": [
       "$\\displaystyle \\quad \\quad \\sigma^x_{4,1}\\,\\left|(19)\\,10011\\right\\rangle = 0.25\\left|(26)\\,11010\\right\\rangle$"
      ],
      "text/plain": [
       "<IPython.core.display.Math object>"
      ]
     },
     "metadata": {},
     "output_type": "display_data"
    },
    {
     "data": {
      "text/latex": [
       "$\\displaystyle \\text{Site indices: } 4, 2$"
      ],
      "text/plain": [
       "<IPython.core.display.Math object>"
      ]
     },
     "metadata": {},
     "output_type": "display_data"
    },
    {
     "data": {
      "text/latex": [
       "$\\displaystyle \\quad \\quad \\sigma^x_{4,2}\\,\\left|(19)\\,10011\\right\\rangle = 0.25\\left|(22)\\,10110\\right\\rangle$"
      ],
      "text/plain": [
       "<IPython.core.display.Math object>"
      ]
     },
     "metadata": {},
     "output_type": "display_data"
    },
    {
     "data": {
      "text/latex": [
       "$\\displaystyle \\text{Site indices: } 4, 3$"
      ],
      "text/plain": [
       "<IPython.core.display.Math object>"
      ]
     },
     "metadata": {},
     "output_type": "display_data"
    },
    {
     "data": {
      "text/latex": [
       "$\\displaystyle \\quad \\quad \\sigma^x_{4,3}\\,\\left|(19)\\,10011\\right\\rangle = 0.25\\left|(16)\\,10000\\right\\rangle$"
      ],
      "text/plain": [
       "<IPython.core.display.Math object>"
      ]
     },
     "metadata": {},
     "output_type": "display_data"
    },
    {
     "data": {
      "text/latex": [
       "$\\displaystyle \\text{Site indices: } 4, 4$"
      ],
      "text/plain": [
       "<IPython.core.display.Math object>"
      ]
     },
     "metadata": {},
     "output_type": "display_data"
    },
    {
     "data": {
      "text/latex": [
       "$\\displaystyle \\quad \\quad \\sigma^x_{4,4}\\,\\left|(19)\\,10011\\right\\rangle = 0.25\\left|(19)\\,10011\\right\\rangle$"
      ],
      "text/plain": [
       "<IPython.core.display.Math object>"
      ]
     },
     "metadata": {},
     "output_type": "display_data"
    },
    {
     "data": {
      "text/latex": [
       "$\\displaystyle \\text{Operator: } \\sigma^y, \\text{typeacting}: OperatorTypeActing.Correlation$"
      ],
      "text/plain": [
       "<IPython.core.display.Math object>"
      ]
     },
     "metadata": {},
     "output_type": "display_data"
    },
    {
     "data": {
      "text/latex": [
       "$\\displaystyle \\text{Site indices: } 0, 0$"
      ],
      "text/plain": [
       "<IPython.core.display.Math object>"
      ]
     },
     "metadata": {},
     "output_type": "display_data"
    },
    {
     "data": {
      "text/latex": [
       "$\\displaystyle \\quad \\quad \\sigma^y_{0,0}\\,\\left|(19)\\,10011\\right\\rangle = -0.25\\left|(19)\\,10011\\right\\rangle$"
      ],
      "text/plain": [
       "<IPython.core.display.Math object>"
      ]
     },
     "metadata": {},
     "output_type": "display_data"
    },
    {
     "data": {
      "text/latex": [
       "$\\displaystyle \\text{Site indices: } 0, 1$"
      ],
      "text/plain": [
       "<IPython.core.display.Math object>"
      ]
     },
     "metadata": {},
     "output_type": "display_data"
    },
    {
     "data": {
      "text/latex": [
       "$\\displaystyle \\quad \\quad \\sigma^y_{0,1}\\,\\left|(19)\\,10011\\right\\rangle = -0.25\\left|(11)\\,01011\\right\\rangle$"
      ],
      "text/plain": [
       "<IPython.core.display.Math object>"
      ]
     },
     "metadata": {},
     "output_type": "display_data"
    },
    {
     "data": {
      "text/latex": [
       "$\\displaystyle \\text{Site indices: } 0, 2$"
      ],
      "text/plain": [
       "<IPython.core.display.Math object>"
      ]
     },
     "metadata": {},
     "output_type": "display_data"
    },
    {
     "data": {
      "text/latex": [
       "$\\displaystyle \\quad \\quad \\sigma^y_{0,2}\\,\\left|(19)\\,10011\\right\\rangle = -0.25\\left|(7)\\,00111\\right\\rangle$"
      ],
      "text/plain": [
       "<IPython.core.display.Math object>"
      ]
     },
     "metadata": {},
     "output_type": "display_data"
    },
    {
     "data": {
      "text/latex": [
       "$\\displaystyle \\text{Site indices: } 0, 3$"
      ],
      "text/plain": [
       "<IPython.core.display.Math object>"
      ]
     },
     "metadata": {},
     "output_type": "display_data"
    },
    {
     "data": {
      "text/latex": [
       "$\\displaystyle \\quad \\quad \\sigma^y_{0,3}\\,\\left|(19)\\,10011\\right\\rangle = 0.25\\left|(1)\\,00001\\right\\rangle$"
      ],
      "text/plain": [
       "<IPython.core.display.Math object>"
      ]
     },
     "metadata": {},
     "output_type": "display_data"
    },
    {
     "data": {
      "text/latex": [
       "$\\displaystyle \\text{Site indices: } 0, 4$"
      ],
      "text/plain": [
       "<IPython.core.display.Math object>"
      ]
     },
     "metadata": {},
     "output_type": "display_data"
    },
    {
     "data": {
      "text/latex": [
       "$\\displaystyle \\quad \\quad \\sigma^y_{0,4}\\,\\left|(19)\\,10011\\right\\rangle = 0.25\\left|(2)\\,00010\\right\\rangle$"
      ],
      "text/plain": [
       "<IPython.core.display.Math object>"
      ]
     },
     "metadata": {},
     "output_type": "display_data"
    },
    {
     "data": {
      "text/latex": [
       "$\\displaystyle \\text{Site indices: } 1, 0$"
      ],
      "text/plain": [
       "<IPython.core.display.Math object>"
      ]
     },
     "metadata": {},
     "output_type": "display_data"
    },
    {
     "data": {
      "text/latex": [
       "$\\displaystyle \\quad \\quad \\sigma^y_{1,0}\\,\\left|(19)\\,10011\\right\\rangle = -0.25\\left|(11)\\,01011\\right\\rangle$"
      ],
      "text/plain": [
       "<IPython.core.display.Math object>"
      ]
     },
     "metadata": {},
     "output_type": "display_data"
    },
    {
     "data": {
      "text/latex": [
       "$\\displaystyle \\text{Site indices: } 1, 1$"
      ],
      "text/plain": [
       "<IPython.core.display.Math object>"
      ]
     },
     "metadata": {},
     "output_type": "display_data"
    },
    {
     "data": {
      "text/latex": [
       "$\\displaystyle \\quad \\quad \\sigma^y_{1,1}\\,\\left|(19)\\,10011\\right\\rangle = -0.25\\left|(19)\\,10011\\right\\rangle$"
      ],
      "text/plain": [
       "<IPython.core.display.Math object>"
      ]
     },
     "metadata": {},
     "output_type": "display_data"
    },
    {
     "data": {
      "text/latex": [
       "$\\displaystyle \\text{Site indices: } 1, 2$"
      ],
      "text/plain": [
       "<IPython.core.display.Math object>"
      ]
     },
     "metadata": {},
     "output_type": "display_data"
    },
    {
     "data": {
      "text/latex": [
       "$\\displaystyle \\quad \\quad \\sigma^y_{1,2}\\,\\left|(19)\\,10011\\right\\rangle = 0.25\\left|(31)\\,11111\\right\\rangle$"
      ],
      "text/plain": [
       "<IPython.core.display.Math object>"
      ]
     },
     "metadata": {},
     "output_type": "display_data"
    },
    {
     "data": {
      "text/latex": [
       "$\\displaystyle \\text{Site indices: } 1, 3$"
      ],
      "text/plain": [
       "<IPython.core.display.Math object>"
      ]
     },
     "metadata": {},
     "output_type": "display_data"
    },
    {
     "data": {
      "text/latex": [
       "$\\displaystyle \\quad \\quad \\sigma^y_{1,3}\\,\\left|(19)\\,10011\\right\\rangle = -0.25\\left|(25)\\,11001\\right\\rangle$"
      ],
      "text/plain": [
       "<IPython.core.display.Math object>"
      ]
     },
     "metadata": {},
     "output_type": "display_data"
    },
    {
     "data": {
      "text/latex": [
       "$\\displaystyle \\text{Site indices: } 1, 4$"
      ],
      "text/plain": [
       "<IPython.core.display.Math object>"
      ]
     },
     "metadata": {},
     "output_type": "display_data"
    },
    {
     "data": {
      "text/latex": [
       "$\\displaystyle \\quad \\quad \\sigma^y_{1,4}\\,\\left|(19)\\,10011\\right\\rangle = -0.25\\left|(26)\\,11010\\right\\rangle$"
      ],
      "text/plain": [
       "<IPython.core.display.Math object>"
      ]
     },
     "metadata": {},
     "output_type": "display_data"
    },
    {
     "data": {
      "text/latex": [
       "$\\displaystyle \\text{Site indices: } 2, 0$"
      ],
      "text/plain": [
       "<IPython.core.display.Math object>"
      ]
     },
     "metadata": {},
     "output_type": "display_data"
    },
    {
     "data": {
      "text/latex": [
       "$\\displaystyle \\quad \\quad \\sigma^y_{2,0}\\,\\left|(19)\\,10011\\right\\rangle = -0.25\\left|(7)\\,00111\\right\\rangle$"
      ],
      "text/plain": [
       "<IPython.core.display.Math object>"
      ]
     },
     "metadata": {},
     "output_type": "display_data"
    },
    {
     "data": {
      "text/latex": [
       "$\\displaystyle \\text{Site indices: } 2, 1$"
      ],
      "text/plain": [
       "<IPython.core.display.Math object>"
      ]
     },
     "metadata": {},
     "output_type": "display_data"
    },
    {
     "data": {
      "text/latex": [
       "$\\displaystyle \\quad \\quad \\sigma^y_{2,1}\\,\\left|(19)\\,10011\\right\\rangle = 0.25\\left|(31)\\,11111\\right\\rangle$"
      ],
      "text/plain": [
       "<IPython.core.display.Math object>"
      ]
     },
     "metadata": {},
     "output_type": "display_data"
    },
    {
     "data": {
      "text/latex": [
       "$\\displaystyle \\text{Site indices: } 2, 2$"
      ],
      "text/plain": [
       "<IPython.core.display.Math object>"
      ]
     },
     "metadata": {},
     "output_type": "display_data"
    },
    {
     "data": {
      "text/latex": [
       "$\\displaystyle \\quad \\quad \\sigma^y_{2,2}\\,\\left|(19)\\,10011\\right\\rangle = -0.25\\left|(19)\\,10011\\right\\rangle$"
      ],
      "text/plain": [
       "<IPython.core.display.Math object>"
      ]
     },
     "metadata": {},
     "output_type": "display_data"
    },
    {
     "data": {
      "text/latex": [
       "$\\displaystyle \\text{Site indices: } 2, 3$"
      ],
      "text/plain": [
       "<IPython.core.display.Math object>"
      ]
     },
     "metadata": {},
     "output_type": "display_data"
    },
    {
     "data": {
      "text/latex": [
       "$\\displaystyle \\quad \\quad \\sigma^y_{2,3}\\,\\left|(19)\\,10011\\right\\rangle = -0.25\\left|(21)\\,10101\\right\\rangle$"
      ],
      "text/plain": [
       "<IPython.core.display.Math object>"
      ]
     },
     "metadata": {},
     "output_type": "display_data"
    },
    {
     "data": {
      "text/latex": [
       "$\\displaystyle \\text{Site indices: } 2, 4$"
      ],
      "text/plain": [
       "<IPython.core.display.Math object>"
      ]
     },
     "metadata": {},
     "output_type": "display_data"
    },
    {
     "data": {
      "text/latex": [
       "$\\displaystyle \\quad \\quad \\sigma^y_{2,4}\\,\\left|(19)\\,10011\\right\\rangle = -0.25\\left|(22)\\,10110\\right\\rangle$"
      ],
      "text/plain": [
       "<IPython.core.display.Math object>"
      ]
     },
     "metadata": {},
     "output_type": "display_data"
    },
    {
     "data": {
      "text/latex": [
       "$\\displaystyle \\text{Site indices: } 3, 0$"
      ],
      "text/plain": [
       "<IPython.core.display.Math object>"
      ]
     },
     "metadata": {},
     "output_type": "display_data"
    },
    {
     "data": {
      "text/latex": [
       "$\\displaystyle \\quad \\quad \\sigma^y_{3,0}\\,\\left|(19)\\,10011\\right\\rangle = 0.25\\left|(1)\\,00001\\right\\rangle$"
      ],
      "text/plain": [
       "<IPython.core.display.Math object>"
      ]
     },
     "metadata": {},
     "output_type": "display_data"
    },
    {
     "data": {
      "text/latex": [
       "$\\displaystyle \\text{Site indices: } 3, 1$"
      ],
      "text/plain": [
       "<IPython.core.display.Math object>"
      ]
     },
     "metadata": {},
     "output_type": "display_data"
    },
    {
     "data": {
      "text/latex": [
       "$\\displaystyle \\quad \\quad \\sigma^y_{3,1}\\,\\left|(19)\\,10011\\right\\rangle = -0.25\\left|(25)\\,11001\\right\\rangle$"
      ],
      "text/plain": [
       "<IPython.core.display.Math object>"
      ]
     },
     "metadata": {},
     "output_type": "display_data"
    },
    {
     "data": {
      "text/latex": [
       "$\\displaystyle \\text{Site indices: } 3, 2$"
      ],
      "text/plain": [
       "<IPython.core.display.Math object>"
      ]
     },
     "metadata": {},
     "output_type": "display_data"
    },
    {
     "data": {
      "text/latex": [
       "$\\displaystyle \\quad \\quad \\sigma^y_{3,2}\\,\\left|(19)\\,10011\\right\\rangle = -0.25\\left|(21)\\,10101\\right\\rangle$"
      ],
      "text/plain": [
       "<IPython.core.display.Math object>"
      ]
     },
     "metadata": {},
     "output_type": "display_data"
    },
    {
     "data": {
      "text/latex": [
       "$\\displaystyle \\text{Site indices: } 3, 3$"
      ],
      "text/plain": [
       "<IPython.core.display.Math object>"
      ]
     },
     "metadata": {},
     "output_type": "display_data"
    },
    {
     "data": {
      "text/latex": [
       "$\\displaystyle \\quad \\quad \\sigma^y_{3,3}\\,\\left|(19)\\,10011\\right\\rangle = -0.25\\left|(19)\\,10011\\right\\rangle$"
      ],
      "text/plain": [
       "<IPython.core.display.Math object>"
      ]
     },
     "metadata": {},
     "output_type": "display_data"
    },
    {
     "data": {
      "text/latex": [
       "$\\displaystyle \\text{Site indices: } 3, 4$"
      ],
      "text/plain": [
       "<IPython.core.display.Math object>"
      ]
     },
     "metadata": {},
     "output_type": "display_data"
    },
    {
     "data": {
      "text/latex": [
       "$\\displaystyle \\quad \\quad \\sigma^y_{3,4}\\,\\left|(19)\\,10011\\right\\rangle = 0.25\\left|(16)\\,10000\\right\\rangle$"
      ],
      "text/plain": [
       "<IPython.core.display.Math object>"
      ]
     },
     "metadata": {},
     "output_type": "display_data"
    },
    {
     "data": {
      "text/latex": [
       "$\\displaystyle \\text{Site indices: } 4, 0$"
      ],
      "text/plain": [
       "<IPython.core.display.Math object>"
      ]
     },
     "metadata": {},
     "output_type": "display_data"
    },
    {
     "data": {
      "text/latex": [
       "$\\displaystyle \\quad \\quad \\sigma^y_{4,0}\\,\\left|(19)\\,10011\\right\\rangle = 0.25\\left|(2)\\,00010\\right\\rangle$"
      ],
      "text/plain": [
       "<IPython.core.display.Math object>"
      ]
     },
     "metadata": {},
     "output_type": "display_data"
    },
    {
     "data": {
      "text/latex": [
       "$\\displaystyle \\text{Site indices: } 4, 1$"
      ],
      "text/plain": [
       "<IPython.core.display.Math object>"
      ]
     },
     "metadata": {},
     "output_type": "display_data"
    },
    {
     "data": {
      "text/latex": [
       "$\\displaystyle \\quad \\quad \\sigma^y_{4,1}\\,\\left|(19)\\,10011\\right\\rangle = -0.25\\left|(26)\\,11010\\right\\rangle$"
      ],
      "text/plain": [
       "<IPython.core.display.Math object>"
      ]
     },
     "metadata": {},
     "output_type": "display_data"
    },
    {
     "data": {
      "text/latex": [
       "$\\displaystyle \\text{Site indices: } 4, 2$"
      ],
      "text/plain": [
       "<IPython.core.display.Math object>"
      ]
     },
     "metadata": {},
     "output_type": "display_data"
    },
    {
     "data": {
      "text/latex": [
       "$\\displaystyle \\quad \\quad \\sigma^y_{4,2}\\,\\left|(19)\\,10011\\right\\rangle = -0.25\\left|(22)\\,10110\\right\\rangle$"
      ],
      "text/plain": [
       "<IPython.core.display.Math object>"
      ]
     },
     "metadata": {},
     "output_type": "display_data"
    },
    {
     "data": {
      "text/latex": [
       "$\\displaystyle \\text{Site indices: } 4, 3$"
      ],
      "text/plain": [
       "<IPython.core.display.Math object>"
      ]
     },
     "metadata": {},
     "output_type": "display_data"
    },
    {
     "data": {
      "text/latex": [
       "$\\displaystyle \\quad \\quad \\sigma^y_{4,3}\\,\\left|(19)\\,10011\\right\\rangle = 0.25\\left|(16)\\,10000\\right\\rangle$"
      ],
      "text/plain": [
       "<IPython.core.display.Math object>"
      ]
     },
     "metadata": {},
     "output_type": "display_data"
    },
    {
     "data": {
      "text/latex": [
       "$\\displaystyle \\text{Site indices: } 4, 4$"
      ],
      "text/plain": [
       "<IPython.core.display.Math object>"
      ]
     },
     "metadata": {},
     "output_type": "display_data"
    },
    {
     "data": {
      "text/latex": [
       "$\\displaystyle \\quad \\quad \\sigma^y_{4,4}\\,\\left|(19)\\,10011\\right\\rangle = -0.25\\left|(19)\\,10011\\right\\rangle$"
      ],
      "text/plain": [
       "<IPython.core.display.Math object>"
      ]
     },
     "metadata": {},
     "output_type": "display_data"
    },
    {
     "data": {
      "text/latex": [
       "$\\displaystyle \\text{Operator: } \\sigma^z, \\text{typeacting}: OperatorTypeActing.Correlation$"
      ],
      "text/plain": [
       "<IPython.core.display.Math object>"
      ]
     },
     "metadata": {},
     "output_type": "display_data"
    },
    {
     "data": {
      "text/latex": [
       "$\\displaystyle \\text{Site indices: } 0, 0$"
      ],
      "text/plain": [
       "<IPython.core.display.Math object>"
      ]
     },
     "metadata": {},
     "output_type": "display_data"
    },
    {
     "data": {
      "text/latex": [
       "$\\displaystyle \\quad \\quad \\sigma^z_{0,0}\\,\\left|(19)\\,10011\\right\\rangle = 0.25\\left|(19)\\,10011\\right\\rangle$"
      ],
      "text/plain": [
       "<IPython.core.display.Math object>"
      ]
     },
     "metadata": {},
     "output_type": "display_data"
    },
    {
     "data": {
      "text/latex": [
       "$\\displaystyle \\text{Site indices: } 0, 1$"
      ],
      "text/plain": [
       "<IPython.core.display.Math object>"
      ]
     },
     "metadata": {},
     "output_type": "display_data"
    },
    {
     "data": {
      "text/latex": [
       "$\\displaystyle \\quad \\quad \\sigma^z_{0,1}\\,\\left|(19)\\,10011\\right\\rangle = -0.25\\left|(19)\\,10011\\right\\rangle$"
      ],
      "text/plain": [
       "<IPython.core.display.Math object>"
      ]
     },
     "metadata": {},
     "output_type": "display_data"
    },
    {
     "data": {
      "text/latex": [
       "$\\displaystyle \\text{Site indices: } 0, 2$"
      ],
      "text/plain": [
       "<IPython.core.display.Math object>"
      ]
     },
     "metadata": {},
     "output_type": "display_data"
    },
    {
     "data": {
      "text/latex": [
       "$\\displaystyle \\quad \\quad \\sigma^z_{0,2}\\,\\left|(19)\\,10011\\right\\rangle = -0.25\\left|(19)\\,10011\\right\\rangle$"
      ],
      "text/plain": [
       "<IPython.core.display.Math object>"
      ]
     },
     "metadata": {},
     "output_type": "display_data"
    },
    {
     "data": {
      "text/latex": [
       "$\\displaystyle \\text{Site indices: } 0, 3$"
      ],
      "text/plain": [
       "<IPython.core.display.Math object>"
      ]
     },
     "metadata": {},
     "output_type": "display_data"
    },
    {
     "data": {
      "text/latex": [
       "$\\displaystyle \\quad \\quad \\sigma^z_{0,3}\\,\\left|(19)\\,10011\\right\\rangle = 0.25\\left|(19)\\,10011\\right\\rangle$"
      ],
      "text/plain": [
       "<IPython.core.display.Math object>"
      ]
     },
     "metadata": {},
     "output_type": "display_data"
    },
    {
     "data": {
      "text/latex": [
       "$\\displaystyle \\text{Site indices: } 0, 4$"
      ],
      "text/plain": [
       "<IPython.core.display.Math object>"
      ]
     },
     "metadata": {},
     "output_type": "display_data"
    },
    {
     "data": {
      "text/latex": [
       "$\\displaystyle \\quad \\quad \\sigma^z_{0,4}\\,\\left|(19)\\,10011\\right\\rangle = 0.25\\left|(19)\\,10011\\right\\rangle$"
      ],
      "text/plain": [
       "<IPython.core.display.Math object>"
      ]
     },
     "metadata": {},
     "output_type": "display_data"
    },
    {
     "data": {
      "text/latex": [
       "$\\displaystyle \\text{Site indices: } 1, 0$"
      ],
      "text/plain": [
       "<IPython.core.display.Math object>"
      ]
     },
     "metadata": {},
     "output_type": "display_data"
    },
    {
     "data": {
      "text/latex": [
       "$\\displaystyle \\quad \\quad \\sigma^z_{1,0}\\,\\left|(19)\\,10011\\right\\rangle = -0.25\\left|(19)\\,10011\\right\\rangle$"
      ],
      "text/plain": [
       "<IPython.core.display.Math object>"
      ]
     },
     "metadata": {},
     "output_type": "display_data"
    },
    {
     "data": {
      "text/latex": [
       "$\\displaystyle \\text{Site indices: } 1, 1$"
      ],
      "text/plain": [
       "<IPython.core.display.Math object>"
      ]
     },
     "metadata": {},
     "output_type": "display_data"
    },
    {
     "data": {
      "text/latex": [
       "$\\displaystyle \\quad \\quad \\sigma^z_{1,1}\\,\\left|(19)\\,10011\\right\\rangle = 0.25\\left|(19)\\,10011\\right\\rangle$"
      ],
      "text/plain": [
       "<IPython.core.display.Math object>"
      ]
     },
     "metadata": {},
     "output_type": "display_data"
    },
    {
     "data": {
      "text/latex": [
       "$\\displaystyle \\text{Site indices: } 1, 2$"
      ],
      "text/plain": [
       "<IPython.core.display.Math object>"
      ]
     },
     "metadata": {},
     "output_type": "display_data"
    },
    {
     "data": {
      "text/latex": [
       "$\\displaystyle \\quad \\quad \\sigma^z_{1,2}\\,\\left|(19)\\,10011\\right\\rangle = 0.25\\left|(19)\\,10011\\right\\rangle$"
      ],
      "text/plain": [
       "<IPython.core.display.Math object>"
      ]
     },
     "metadata": {},
     "output_type": "display_data"
    },
    {
     "data": {
      "text/latex": [
       "$\\displaystyle \\text{Site indices: } 1, 3$"
      ],
      "text/plain": [
       "<IPython.core.display.Math object>"
      ]
     },
     "metadata": {},
     "output_type": "display_data"
    },
    {
     "data": {
      "text/latex": [
       "$\\displaystyle \\quad \\quad \\sigma^z_{1,3}\\,\\left|(19)\\,10011\\right\\rangle = -0.25\\left|(19)\\,10011\\right\\rangle$"
      ],
      "text/plain": [
       "<IPython.core.display.Math object>"
      ]
     },
     "metadata": {},
     "output_type": "display_data"
    },
    {
     "data": {
      "text/latex": [
       "$\\displaystyle \\text{Site indices: } 1, 4$"
      ],
      "text/plain": [
       "<IPython.core.display.Math object>"
      ]
     },
     "metadata": {},
     "output_type": "display_data"
    },
    {
     "data": {
      "text/latex": [
       "$\\displaystyle \\quad \\quad \\sigma^z_{1,4}\\,\\left|(19)\\,10011\\right\\rangle = -0.25\\left|(19)\\,10011\\right\\rangle$"
      ],
      "text/plain": [
       "<IPython.core.display.Math object>"
      ]
     },
     "metadata": {},
     "output_type": "display_data"
    },
    {
     "data": {
      "text/latex": [
       "$\\displaystyle \\text{Site indices: } 2, 0$"
      ],
      "text/plain": [
       "<IPython.core.display.Math object>"
      ]
     },
     "metadata": {},
     "output_type": "display_data"
    },
    {
     "data": {
      "text/latex": [
       "$\\displaystyle \\quad \\quad \\sigma^z_{2,0}\\,\\left|(19)\\,10011\\right\\rangle = -0.25\\left|(19)\\,10011\\right\\rangle$"
      ],
      "text/plain": [
       "<IPython.core.display.Math object>"
      ]
     },
     "metadata": {},
     "output_type": "display_data"
    },
    {
     "data": {
      "text/latex": [
       "$\\displaystyle \\text{Site indices: } 2, 1$"
      ],
      "text/plain": [
       "<IPython.core.display.Math object>"
      ]
     },
     "metadata": {},
     "output_type": "display_data"
    },
    {
     "data": {
      "text/latex": [
       "$\\displaystyle \\quad \\quad \\sigma^z_{2,1}\\,\\left|(19)\\,10011\\right\\rangle = 0.25\\left|(19)\\,10011\\right\\rangle$"
      ],
      "text/plain": [
       "<IPython.core.display.Math object>"
      ]
     },
     "metadata": {},
     "output_type": "display_data"
    },
    {
     "data": {
      "text/latex": [
       "$\\displaystyle \\text{Site indices: } 2, 2$"
      ],
      "text/plain": [
       "<IPython.core.display.Math object>"
      ]
     },
     "metadata": {},
     "output_type": "display_data"
    },
    {
     "data": {
      "text/latex": [
       "$\\displaystyle \\quad \\quad \\sigma^z_{2,2}\\,\\left|(19)\\,10011\\right\\rangle = 0.25\\left|(19)\\,10011\\right\\rangle$"
      ],
      "text/plain": [
       "<IPython.core.display.Math object>"
      ]
     },
     "metadata": {},
     "output_type": "display_data"
    },
    {
     "data": {
      "text/latex": [
       "$\\displaystyle \\text{Site indices: } 2, 3$"
      ],
      "text/plain": [
       "<IPython.core.display.Math object>"
      ]
     },
     "metadata": {},
     "output_type": "display_data"
    },
    {
     "data": {
      "text/latex": [
       "$\\displaystyle \\quad \\quad \\sigma^z_{2,3}\\,\\left|(19)\\,10011\\right\\rangle = -0.25\\left|(19)\\,10011\\right\\rangle$"
      ],
      "text/plain": [
       "<IPython.core.display.Math object>"
      ]
     },
     "metadata": {},
     "output_type": "display_data"
    },
    {
     "data": {
      "text/latex": [
       "$\\displaystyle \\text{Site indices: } 2, 4$"
      ],
      "text/plain": [
       "<IPython.core.display.Math object>"
      ]
     },
     "metadata": {},
     "output_type": "display_data"
    },
    {
     "data": {
      "text/latex": [
       "$\\displaystyle \\quad \\quad \\sigma^z_{2,4}\\,\\left|(19)\\,10011\\right\\rangle = -0.25\\left|(19)\\,10011\\right\\rangle$"
      ],
      "text/plain": [
       "<IPython.core.display.Math object>"
      ]
     },
     "metadata": {},
     "output_type": "display_data"
    },
    {
     "data": {
      "text/latex": [
       "$\\displaystyle \\text{Site indices: } 3, 0$"
      ],
      "text/plain": [
       "<IPython.core.display.Math object>"
      ]
     },
     "metadata": {},
     "output_type": "display_data"
    },
    {
     "data": {
      "text/latex": [
       "$\\displaystyle \\quad \\quad \\sigma^z_{3,0}\\,\\left|(19)\\,10011\\right\\rangle = 0.25\\left|(19)\\,10011\\right\\rangle$"
      ],
      "text/plain": [
       "<IPython.core.display.Math object>"
      ]
     },
     "metadata": {},
     "output_type": "display_data"
    },
    {
     "data": {
      "text/latex": [
       "$\\displaystyle \\text{Site indices: } 3, 1$"
      ],
      "text/plain": [
       "<IPython.core.display.Math object>"
      ]
     },
     "metadata": {},
     "output_type": "display_data"
    },
    {
     "data": {
      "text/latex": [
       "$\\displaystyle \\quad \\quad \\sigma^z_{3,1}\\,\\left|(19)\\,10011\\right\\rangle = -0.25\\left|(19)\\,10011\\right\\rangle$"
      ],
      "text/plain": [
       "<IPython.core.display.Math object>"
      ]
     },
     "metadata": {},
     "output_type": "display_data"
    },
    {
     "data": {
      "text/latex": [
       "$\\displaystyle \\text{Site indices: } 3, 2$"
      ],
      "text/plain": [
       "<IPython.core.display.Math object>"
      ]
     },
     "metadata": {},
     "output_type": "display_data"
    },
    {
     "data": {
      "text/latex": [
       "$\\displaystyle \\quad \\quad \\sigma^z_{3,2}\\,\\left|(19)\\,10011\\right\\rangle = -0.25\\left|(19)\\,10011\\right\\rangle$"
      ],
      "text/plain": [
       "<IPython.core.display.Math object>"
      ]
     },
     "metadata": {},
     "output_type": "display_data"
    },
    {
     "data": {
      "text/latex": [
       "$\\displaystyle \\text{Site indices: } 3, 3$"
      ],
      "text/plain": [
       "<IPython.core.display.Math object>"
      ]
     },
     "metadata": {},
     "output_type": "display_data"
    },
    {
     "data": {
      "text/latex": [
       "$\\displaystyle \\quad \\quad \\sigma^z_{3,3}\\,\\left|(19)\\,10011\\right\\rangle = 0.25\\left|(19)\\,10011\\right\\rangle$"
      ],
      "text/plain": [
       "<IPython.core.display.Math object>"
      ]
     },
     "metadata": {},
     "output_type": "display_data"
    },
    {
     "data": {
      "text/latex": [
       "$\\displaystyle \\text{Site indices: } 3, 4$"
      ],
      "text/plain": [
       "<IPython.core.display.Math object>"
      ]
     },
     "metadata": {},
     "output_type": "display_data"
    },
    {
     "data": {
      "text/latex": [
       "$\\displaystyle \\quad \\quad \\sigma^z_{3,4}\\,\\left|(19)\\,10011\\right\\rangle = 0.25\\left|(19)\\,10011\\right\\rangle$"
      ],
      "text/plain": [
       "<IPython.core.display.Math object>"
      ]
     },
     "metadata": {},
     "output_type": "display_data"
    },
    {
     "data": {
      "text/latex": [
       "$\\displaystyle \\text{Site indices: } 4, 0$"
      ],
      "text/plain": [
       "<IPython.core.display.Math object>"
      ]
     },
     "metadata": {},
     "output_type": "display_data"
    },
    {
     "data": {
      "text/latex": [
       "$\\displaystyle \\quad \\quad \\sigma^z_{4,0}\\,\\left|(19)\\,10011\\right\\rangle = 0.25\\left|(19)\\,10011\\right\\rangle$"
      ],
      "text/plain": [
       "<IPython.core.display.Math object>"
      ]
     },
     "metadata": {},
     "output_type": "display_data"
    },
    {
     "data": {
      "text/latex": [
       "$\\displaystyle \\text{Site indices: } 4, 1$"
      ],
      "text/plain": [
       "<IPython.core.display.Math object>"
      ]
     },
     "metadata": {},
     "output_type": "display_data"
    },
    {
     "data": {
      "text/latex": [
       "$\\displaystyle \\quad \\quad \\sigma^z_{4,1}\\,\\left|(19)\\,10011\\right\\rangle = -0.25\\left|(19)\\,10011\\right\\rangle$"
      ],
      "text/plain": [
       "<IPython.core.display.Math object>"
      ]
     },
     "metadata": {},
     "output_type": "display_data"
    },
    {
     "data": {
      "text/latex": [
       "$\\displaystyle \\text{Site indices: } 4, 2$"
      ],
      "text/plain": [
       "<IPython.core.display.Math object>"
      ]
     },
     "metadata": {},
     "output_type": "display_data"
    },
    {
     "data": {
      "text/latex": [
       "$\\displaystyle \\quad \\quad \\sigma^z_{4,2}\\,\\left|(19)\\,10011\\right\\rangle = -0.25\\left|(19)\\,10011\\right\\rangle$"
      ],
      "text/plain": [
       "<IPython.core.display.Math object>"
      ]
     },
     "metadata": {},
     "output_type": "display_data"
    },
    {
     "data": {
      "text/latex": [
       "$\\displaystyle \\text{Site indices: } 4, 3$"
      ],
      "text/plain": [
       "<IPython.core.display.Math object>"
      ]
     },
     "metadata": {},
     "output_type": "display_data"
    },
    {
     "data": {
      "text/latex": [
       "$\\displaystyle \\quad \\quad \\sigma^z_{4,3}\\,\\left|(19)\\,10011\\right\\rangle = 0.25\\left|(19)\\,10011\\right\\rangle$"
      ],
      "text/plain": [
       "<IPython.core.display.Math object>"
      ]
     },
     "metadata": {},
     "output_type": "display_data"
    },
    {
     "data": {
      "text/latex": [
       "$\\displaystyle \\text{Site indices: } 4, 4$"
      ],
      "text/plain": [
       "<IPython.core.display.Math object>"
      ]
     },
     "metadata": {},
     "output_type": "display_data"
    },
    {
     "data": {
      "text/latex": [
       "$\\displaystyle \\quad \\quad \\sigma^z_{4,4}\\,\\left|(19)\\,10011\\right\\rangle = 0.25\\left|(19)\\,10011\\right\\rangle$"
      ],
      "text/plain": [
       "<IPython.core.display.Math object>"
      ]
     },
     "metadata": {},
     "output_type": "display_data"
    },
    {
     "data": {
      "text/latex": [
       "$\\displaystyle \\text{Operator: } \\sigma^+, \\text{typeacting}: OperatorTypeActing.Correlation$"
      ],
      "text/plain": [
       "<IPython.core.display.Math object>"
      ]
     },
     "metadata": {},
     "output_type": "display_data"
    },
    {
     "data": {
      "text/latex": [
       "$\\displaystyle \\text{Site indices: } 0, 0$"
      ],
      "text/plain": [
       "<IPython.core.display.Math object>"
      ]
     },
     "metadata": {},
     "output_type": "display_data"
    },
    {
     "data": {
      "text/latex": [
       "$\\displaystyle \\quad \\quad \\sigma^+_{0,0}\\,\\left|(19)\\,10011\\right\\rangle = 0$"
      ],
      "text/plain": [
       "<IPython.core.display.Math object>"
      ]
     },
     "metadata": {},
     "output_type": "display_data"
    },
    {
     "data": {
      "text/latex": [
       "$\\displaystyle \\text{Site indices: } 0, 1$"
      ],
      "text/plain": [
       "<IPython.core.display.Math object>"
      ]
     },
     "metadata": {},
     "output_type": "display_data"
    },
    {
     "data": {
      "text/latex": [
       "$\\displaystyle \\quad \\quad \\sigma^+_{0,1}\\,\\left|(19)\\,10011\\right\\rangle = 0$"
      ],
      "text/plain": [
       "<IPython.core.display.Math object>"
      ]
     },
     "metadata": {},
     "output_type": "display_data"
    },
    {
     "data": {
      "text/latex": [
       "$\\displaystyle \\text{Site indices: } 0, 2$"
      ],
      "text/plain": [
       "<IPython.core.display.Math object>"
      ]
     },
     "metadata": {},
     "output_type": "display_data"
    },
    {
     "data": {
      "text/latex": [
       "$\\displaystyle \\quad \\quad \\sigma^+_{0,2}\\,\\left|(19)\\,10011\\right\\rangle = 0$"
      ],
      "text/plain": [
       "<IPython.core.display.Math object>"
      ]
     },
     "metadata": {},
     "output_type": "display_data"
    },
    {
     "data": {
      "text/latex": [
       "$\\displaystyle \\text{Site indices: } 0, 3$"
      ],
      "text/plain": [
       "<IPython.core.display.Math object>"
      ]
     },
     "metadata": {},
     "output_type": "display_data"
    },
    {
     "data": {
      "text/latex": [
       "$\\displaystyle \\quad \\quad \\sigma^+_{0,3}\\,\\left|(19)\\,10011\\right\\rangle = 0$"
      ],
      "text/plain": [
       "<IPython.core.display.Math object>"
      ]
     },
     "metadata": {},
     "output_type": "display_data"
    },
    {
     "data": {
      "text/latex": [
       "$\\displaystyle \\text{Site indices: } 0, 4$"
      ],
      "text/plain": [
       "<IPython.core.display.Math object>"
      ]
     },
     "metadata": {},
     "output_type": "display_data"
    },
    {
     "data": {
      "text/latex": [
       "$\\displaystyle \\quad \\quad \\sigma^+_{0,4}\\,\\left|(19)\\,10011\\right\\rangle = 0$"
      ],
      "text/plain": [
       "<IPython.core.display.Math object>"
      ]
     },
     "metadata": {},
     "output_type": "display_data"
    },
    {
     "data": {
      "text/latex": [
       "$\\displaystyle \\text{Site indices: } 1, 0$"
      ],
      "text/plain": [
       "<IPython.core.display.Math object>"
      ]
     },
     "metadata": {},
     "output_type": "display_data"
    },
    {
     "data": {
      "text/latex": [
       "$\\displaystyle \\quad \\quad \\sigma^+_{1,0}\\,\\left|(19)\\,10011\\right\\rangle = 0$"
      ],
      "text/plain": [
       "<IPython.core.display.Math object>"
      ]
     },
     "metadata": {},
     "output_type": "display_data"
    },
    {
     "data": {
      "text/latex": [
       "$\\displaystyle \\text{Site indices: } 1, 1$"
      ],
      "text/plain": [
       "<IPython.core.display.Math object>"
      ]
     },
     "metadata": {},
     "output_type": "display_data"
    },
    {
     "data": {
      "text/latex": [
       "$\\displaystyle \\quad \\quad \\sigma^+_{1,1}\\,\\left|(19)\\,10011\\right\\rangle = 0$"
      ],
      "text/plain": [
       "<IPython.core.display.Math object>"
      ]
     },
     "metadata": {},
     "output_type": "display_data"
    },
    {
     "data": {
      "text/latex": [
       "$\\displaystyle \\text{Site indices: } 1, 2$"
      ],
      "text/plain": [
       "<IPython.core.display.Math object>"
      ]
     },
     "metadata": {},
     "output_type": "display_data"
    },
    {
     "data": {
      "text/latex": [
       "$\\displaystyle \\quad \\quad \\sigma^+_{1,2}\\,\\left|(19)\\,10011\\right\\rangle = 0.25\\left|(31)\\,11111\\right\\rangle$"
      ],
      "text/plain": [
       "<IPython.core.display.Math object>"
      ]
     },
     "metadata": {},
     "output_type": "display_data"
    },
    {
     "data": {
      "text/latex": [
       "$\\displaystyle \\text{Site indices: } 1, 3$"
      ],
      "text/plain": [
       "<IPython.core.display.Math object>"
      ]
     },
     "metadata": {},
     "output_type": "display_data"
    },
    {
     "data": {
      "text/latex": [
       "$\\displaystyle \\quad \\quad \\sigma^+_{1,3}\\,\\left|(19)\\,10011\\right\\rangle = 0$"
      ],
      "text/plain": [
       "<IPython.core.display.Math object>"
      ]
     },
     "metadata": {},
     "output_type": "display_data"
    },
    {
     "data": {
      "text/latex": [
       "$\\displaystyle \\text{Site indices: } 1, 4$"
      ],
      "text/plain": [
       "<IPython.core.display.Math object>"
      ]
     },
     "metadata": {},
     "output_type": "display_data"
    },
    {
     "data": {
      "text/latex": [
       "$\\displaystyle \\quad \\quad \\sigma^+_{1,4}\\,\\left|(19)\\,10011\\right\\rangle = 0$"
      ],
      "text/plain": [
       "<IPython.core.display.Math object>"
      ]
     },
     "metadata": {},
     "output_type": "display_data"
    },
    {
     "data": {
      "text/latex": [
       "$\\displaystyle \\text{Site indices: } 2, 0$"
      ],
      "text/plain": [
       "<IPython.core.display.Math object>"
      ]
     },
     "metadata": {},
     "output_type": "display_data"
    },
    {
     "data": {
      "text/latex": [
       "$\\displaystyle \\quad \\quad \\sigma^+_{2,0}\\,\\left|(19)\\,10011\\right\\rangle = 0$"
      ],
      "text/plain": [
       "<IPython.core.display.Math object>"
      ]
     },
     "metadata": {},
     "output_type": "display_data"
    },
    {
     "data": {
      "text/latex": [
       "$\\displaystyle \\text{Site indices: } 2, 1$"
      ],
      "text/plain": [
       "<IPython.core.display.Math object>"
      ]
     },
     "metadata": {},
     "output_type": "display_data"
    },
    {
     "data": {
      "text/latex": [
       "$\\displaystyle \\quad \\quad \\sigma^+_{2,1}\\,\\left|(19)\\,10011\\right\\rangle = 0.25\\left|(31)\\,11111\\right\\rangle$"
      ],
      "text/plain": [
       "<IPython.core.display.Math object>"
      ]
     },
     "metadata": {},
     "output_type": "display_data"
    },
    {
     "data": {
      "text/latex": [
       "$\\displaystyle \\text{Site indices: } 2, 2$"
      ],
      "text/plain": [
       "<IPython.core.display.Math object>"
      ]
     },
     "metadata": {},
     "output_type": "display_data"
    },
    {
     "data": {
      "text/latex": [
       "$\\displaystyle \\quad \\quad \\sigma^+_{2,2}\\,\\left|(19)\\,10011\\right\\rangle = 0$"
      ],
      "text/plain": [
       "<IPython.core.display.Math object>"
      ]
     },
     "metadata": {},
     "output_type": "display_data"
    },
    {
     "data": {
      "text/latex": [
       "$\\displaystyle \\text{Site indices: } 2, 3$"
      ],
      "text/plain": [
       "<IPython.core.display.Math object>"
      ]
     },
     "metadata": {},
     "output_type": "display_data"
    },
    {
     "data": {
      "text/latex": [
       "$\\displaystyle \\quad \\quad \\sigma^+_{2,3}\\,\\left|(19)\\,10011\\right\\rangle = 0$"
      ],
      "text/plain": [
       "<IPython.core.display.Math object>"
      ]
     },
     "metadata": {},
     "output_type": "display_data"
    },
    {
     "data": {
      "text/latex": [
       "$\\displaystyle \\text{Site indices: } 2, 4$"
      ],
      "text/plain": [
       "<IPython.core.display.Math object>"
      ]
     },
     "metadata": {},
     "output_type": "display_data"
    },
    {
     "data": {
      "text/latex": [
       "$\\displaystyle \\quad \\quad \\sigma^+_{2,4}\\,\\left|(19)\\,10011\\right\\rangle = 0$"
      ],
      "text/plain": [
       "<IPython.core.display.Math object>"
      ]
     },
     "metadata": {},
     "output_type": "display_data"
    },
    {
     "data": {
      "text/latex": [
       "$\\displaystyle \\text{Site indices: } 3, 0$"
      ],
      "text/plain": [
       "<IPython.core.display.Math object>"
      ]
     },
     "metadata": {},
     "output_type": "display_data"
    },
    {
     "data": {
      "text/latex": [
       "$\\displaystyle \\quad \\quad \\sigma^+_{3,0}\\,\\left|(19)\\,10011\\right\\rangle = 0$"
      ],
      "text/plain": [
       "<IPython.core.display.Math object>"
      ]
     },
     "metadata": {},
     "output_type": "display_data"
    },
    {
     "data": {
      "text/latex": [
       "$\\displaystyle \\text{Site indices: } 3, 1$"
      ],
      "text/plain": [
       "<IPython.core.display.Math object>"
      ]
     },
     "metadata": {},
     "output_type": "display_data"
    },
    {
     "data": {
      "text/latex": [
       "$\\displaystyle \\quad \\quad \\sigma^+_{3,1}\\,\\left|(19)\\,10011\\right\\rangle = 0$"
      ],
      "text/plain": [
       "<IPython.core.display.Math object>"
      ]
     },
     "metadata": {},
     "output_type": "display_data"
    },
    {
     "data": {
      "text/latex": [
       "$\\displaystyle \\text{Site indices: } 3, 2$"
      ],
      "text/plain": [
       "<IPython.core.display.Math object>"
      ]
     },
     "metadata": {},
     "output_type": "display_data"
    },
    {
     "data": {
      "text/latex": [
       "$\\displaystyle \\quad \\quad \\sigma^+_{3,2}\\,\\left|(19)\\,10011\\right\\rangle = 0$"
      ],
      "text/plain": [
       "<IPython.core.display.Math object>"
      ]
     },
     "metadata": {},
     "output_type": "display_data"
    },
    {
     "data": {
      "text/latex": [
       "$\\displaystyle \\text{Site indices: } 3, 3$"
      ],
      "text/plain": [
       "<IPython.core.display.Math object>"
      ]
     },
     "metadata": {},
     "output_type": "display_data"
    },
    {
     "data": {
      "text/latex": [
       "$\\displaystyle \\quad \\quad \\sigma^+_{3,3}\\,\\left|(19)\\,10011\\right\\rangle = 0$"
      ],
      "text/plain": [
       "<IPython.core.display.Math object>"
      ]
     },
     "metadata": {},
     "output_type": "display_data"
    },
    {
     "data": {
      "text/latex": [
       "$\\displaystyle \\text{Site indices: } 3, 4$"
      ],
      "text/plain": [
       "<IPython.core.display.Math object>"
      ]
     },
     "metadata": {},
     "output_type": "display_data"
    },
    {
     "data": {
      "text/latex": [
       "$\\displaystyle \\quad \\quad \\sigma^+_{3,4}\\,\\left|(19)\\,10011\\right\\rangle = 0$"
      ],
      "text/plain": [
       "<IPython.core.display.Math object>"
      ]
     },
     "metadata": {},
     "output_type": "display_data"
    },
    {
     "data": {
      "text/latex": [
       "$\\displaystyle \\text{Site indices: } 4, 0$"
      ],
      "text/plain": [
       "<IPython.core.display.Math object>"
      ]
     },
     "metadata": {},
     "output_type": "display_data"
    },
    {
     "data": {
      "text/latex": [
       "$\\displaystyle \\quad \\quad \\sigma^+_{4,0}\\,\\left|(19)\\,10011\\right\\rangle = 0$"
      ],
      "text/plain": [
       "<IPython.core.display.Math object>"
      ]
     },
     "metadata": {},
     "output_type": "display_data"
    },
    {
     "data": {
      "text/latex": [
       "$\\displaystyle \\text{Site indices: } 4, 1$"
      ],
      "text/plain": [
       "<IPython.core.display.Math object>"
      ]
     },
     "metadata": {},
     "output_type": "display_data"
    },
    {
     "data": {
      "text/latex": [
       "$\\displaystyle \\quad \\quad \\sigma^+_{4,1}\\,\\left|(19)\\,10011\\right\\rangle = 0$"
      ],
      "text/plain": [
       "<IPython.core.display.Math object>"
      ]
     },
     "metadata": {},
     "output_type": "display_data"
    },
    {
     "data": {
      "text/latex": [
       "$\\displaystyle \\text{Site indices: } 4, 2$"
      ],
      "text/plain": [
       "<IPython.core.display.Math object>"
      ]
     },
     "metadata": {},
     "output_type": "display_data"
    },
    {
     "data": {
      "text/latex": [
       "$\\displaystyle \\quad \\quad \\sigma^+_{4,2}\\,\\left|(19)\\,10011\\right\\rangle = 0$"
      ],
      "text/plain": [
       "<IPython.core.display.Math object>"
      ]
     },
     "metadata": {},
     "output_type": "display_data"
    },
    {
     "data": {
      "text/latex": [
       "$\\displaystyle \\text{Site indices: } 4, 3$"
      ],
      "text/plain": [
       "<IPython.core.display.Math object>"
      ]
     },
     "metadata": {},
     "output_type": "display_data"
    },
    {
     "data": {
      "text/latex": [
       "$\\displaystyle \\quad \\quad \\sigma^+_{4,3}\\,\\left|(19)\\,10011\\right\\rangle = 0$"
      ],
      "text/plain": [
       "<IPython.core.display.Math object>"
      ]
     },
     "metadata": {},
     "output_type": "display_data"
    },
    {
     "data": {
      "text/latex": [
       "$\\displaystyle \\text{Site indices: } 4, 4$"
      ],
      "text/plain": [
       "<IPython.core.display.Math object>"
      ]
     },
     "metadata": {},
     "output_type": "display_data"
    },
    {
     "data": {
      "text/latex": [
       "$\\displaystyle \\quad \\quad \\sigma^+_{4,4}\\,\\left|(19)\\,10011\\right\\rangle = 0$"
      ],
      "text/plain": [
       "<IPython.core.display.Math object>"
      ]
     },
     "metadata": {},
     "output_type": "display_data"
    },
    {
     "data": {
      "text/latex": [
       "$\\displaystyle \\text{Operator: } \\sigma^-, \\text{typeacting}: OperatorTypeActing.Correlation$"
      ],
      "text/plain": [
       "<IPython.core.display.Math object>"
      ]
     },
     "metadata": {},
     "output_type": "display_data"
    },
    {
     "data": {
      "text/latex": [
       "$\\displaystyle \\text{Site indices: } 0, 0$"
      ],
      "text/plain": [
       "<IPython.core.display.Math object>"
      ]
     },
     "metadata": {},
     "output_type": "display_data"
    },
    {
     "data": {
      "text/latex": [
       "$\\displaystyle \\quad \\quad \\sigma^-_{0,0}\\,\\left|(19)\\,10011\\right\\rangle = 0$"
      ],
      "text/plain": [
       "<IPython.core.display.Math object>"
      ]
     },
     "metadata": {},
     "output_type": "display_data"
    },
    {
     "data": {
      "text/latex": [
       "$\\displaystyle \\text{Site indices: } 0, 1$"
      ],
      "text/plain": [
       "<IPython.core.display.Math object>"
      ]
     },
     "metadata": {},
     "output_type": "display_data"
    },
    {
     "data": {
      "text/latex": [
       "$\\displaystyle \\quad \\quad \\sigma^-_{0,1}\\,\\left|(19)\\,10011\\right\\rangle = 0$"
      ],
      "text/plain": [
       "<IPython.core.display.Math object>"
      ]
     },
     "metadata": {},
     "output_type": "display_data"
    },
    {
     "data": {
      "text/latex": [
       "$\\displaystyle \\text{Site indices: } 0, 2$"
      ],
      "text/plain": [
       "<IPython.core.display.Math object>"
      ]
     },
     "metadata": {},
     "output_type": "display_data"
    },
    {
     "data": {
      "text/latex": [
       "$\\displaystyle \\quad \\quad \\sigma^-_{0,2}\\,\\left|(19)\\,10011\\right\\rangle = 0$"
      ],
      "text/plain": [
       "<IPython.core.display.Math object>"
      ]
     },
     "metadata": {},
     "output_type": "display_data"
    },
    {
     "data": {
      "text/latex": [
       "$\\displaystyle \\text{Site indices: } 0, 3$"
      ],
      "text/plain": [
       "<IPython.core.display.Math object>"
      ]
     },
     "metadata": {},
     "output_type": "display_data"
    },
    {
     "data": {
      "text/latex": [
       "$\\displaystyle \\quad \\quad \\sigma^-_{0,3}\\,\\left|(19)\\,10011\\right\\rangle = 0.25\\left|(1)\\,00001\\right\\rangle$"
      ],
      "text/plain": [
       "<IPython.core.display.Math object>"
      ]
     },
     "metadata": {},
     "output_type": "display_data"
    },
    {
     "data": {
      "text/latex": [
       "$\\displaystyle \\text{Site indices: } 0, 4$"
      ],
      "text/plain": [
       "<IPython.core.display.Math object>"
      ]
     },
     "metadata": {},
     "output_type": "display_data"
    },
    {
     "data": {
      "text/latex": [
       "$\\displaystyle \\quad \\quad \\sigma^-_{0,4}\\,\\left|(19)\\,10011\\right\\rangle = 0.25\\left|(2)\\,00010\\right\\rangle$"
      ],
      "text/plain": [
       "<IPython.core.display.Math object>"
      ]
     },
     "metadata": {},
     "output_type": "display_data"
    },
    {
     "data": {
      "text/latex": [
       "$\\displaystyle \\text{Site indices: } 1, 0$"
      ],
      "text/plain": [
       "<IPython.core.display.Math object>"
      ]
     },
     "metadata": {},
     "output_type": "display_data"
    },
    {
     "data": {
      "text/latex": [
       "$\\displaystyle \\quad \\quad \\sigma^-_{1,0}\\,\\left|(19)\\,10011\\right\\rangle = 0$"
      ],
      "text/plain": [
       "<IPython.core.display.Math object>"
      ]
     },
     "metadata": {},
     "output_type": "display_data"
    },
    {
     "data": {
      "text/latex": [
       "$\\displaystyle \\text{Site indices: } 1, 1$"
      ],
      "text/plain": [
       "<IPython.core.display.Math object>"
      ]
     },
     "metadata": {},
     "output_type": "display_data"
    },
    {
     "data": {
      "text/latex": [
       "$\\displaystyle \\quad \\quad \\sigma^-_{1,1}\\,\\left|(19)\\,10011\\right\\rangle = 0$"
      ],
      "text/plain": [
       "<IPython.core.display.Math object>"
      ]
     },
     "metadata": {},
     "output_type": "display_data"
    },
    {
     "data": {
      "text/latex": [
       "$\\displaystyle \\text{Site indices: } 1, 2$"
      ],
      "text/plain": [
       "<IPython.core.display.Math object>"
      ]
     },
     "metadata": {},
     "output_type": "display_data"
    },
    {
     "data": {
      "text/latex": [
       "$\\displaystyle \\quad \\quad \\sigma^-_{1,2}\\,\\left|(19)\\,10011\\right\\rangle = 0$"
      ],
      "text/plain": [
       "<IPython.core.display.Math object>"
      ]
     },
     "metadata": {},
     "output_type": "display_data"
    },
    {
     "data": {
      "text/latex": [
       "$\\displaystyle \\text{Site indices: } 1, 3$"
      ],
      "text/plain": [
       "<IPython.core.display.Math object>"
      ]
     },
     "metadata": {},
     "output_type": "display_data"
    },
    {
     "data": {
      "text/latex": [
       "$\\displaystyle \\quad \\quad \\sigma^-_{1,3}\\,\\left|(19)\\,10011\\right\\rangle = 0$"
      ],
      "text/plain": [
       "<IPython.core.display.Math object>"
      ]
     },
     "metadata": {},
     "output_type": "display_data"
    },
    {
     "data": {
      "text/latex": [
       "$\\displaystyle \\text{Site indices: } 1, 4$"
      ],
      "text/plain": [
       "<IPython.core.display.Math object>"
      ]
     },
     "metadata": {},
     "output_type": "display_data"
    },
    {
     "data": {
      "text/latex": [
       "$\\displaystyle \\quad \\quad \\sigma^-_{1,4}\\,\\left|(19)\\,10011\\right\\rangle = 0$"
      ],
      "text/plain": [
       "<IPython.core.display.Math object>"
      ]
     },
     "metadata": {},
     "output_type": "display_data"
    },
    {
     "data": {
      "text/latex": [
       "$\\displaystyle \\text{Site indices: } 2, 0$"
      ],
      "text/plain": [
       "<IPython.core.display.Math object>"
      ]
     },
     "metadata": {},
     "output_type": "display_data"
    },
    {
     "data": {
      "text/latex": [
       "$\\displaystyle \\quad \\quad \\sigma^-_{2,0}\\,\\left|(19)\\,10011\\right\\rangle = 0$"
      ],
      "text/plain": [
       "<IPython.core.display.Math object>"
      ]
     },
     "metadata": {},
     "output_type": "display_data"
    },
    {
     "data": {
      "text/latex": [
       "$\\displaystyle \\text{Site indices: } 2, 1$"
      ],
      "text/plain": [
       "<IPython.core.display.Math object>"
      ]
     },
     "metadata": {},
     "output_type": "display_data"
    },
    {
     "data": {
      "text/latex": [
       "$\\displaystyle \\quad \\quad \\sigma^-_{2,1}\\,\\left|(19)\\,10011\\right\\rangle = 0$"
      ],
      "text/plain": [
       "<IPython.core.display.Math object>"
      ]
     },
     "metadata": {},
     "output_type": "display_data"
    },
    {
     "data": {
      "text/latex": [
       "$\\displaystyle \\text{Site indices: } 2, 2$"
      ],
      "text/plain": [
       "<IPython.core.display.Math object>"
      ]
     },
     "metadata": {},
     "output_type": "display_data"
    },
    {
     "data": {
      "text/latex": [
       "$\\displaystyle \\quad \\quad \\sigma^-_{2,2}\\,\\left|(19)\\,10011\\right\\rangle = 0$"
      ],
      "text/plain": [
       "<IPython.core.display.Math object>"
      ]
     },
     "metadata": {},
     "output_type": "display_data"
    },
    {
     "data": {
      "text/latex": [
       "$\\displaystyle \\text{Site indices: } 2, 3$"
      ],
      "text/plain": [
       "<IPython.core.display.Math object>"
      ]
     },
     "metadata": {},
     "output_type": "display_data"
    },
    {
     "data": {
      "text/latex": [
       "$\\displaystyle \\quad \\quad \\sigma^-_{2,3}\\,\\left|(19)\\,10011\\right\\rangle = 0$"
      ],
      "text/plain": [
       "<IPython.core.display.Math object>"
      ]
     },
     "metadata": {},
     "output_type": "display_data"
    },
    {
     "data": {
      "text/latex": [
       "$\\displaystyle \\text{Site indices: } 2, 4$"
      ],
      "text/plain": [
       "<IPython.core.display.Math object>"
      ]
     },
     "metadata": {},
     "output_type": "display_data"
    },
    {
     "data": {
      "text/latex": [
       "$\\displaystyle \\quad \\quad \\sigma^-_{2,4}\\,\\left|(19)\\,10011\\right\\rangle = 0$"
      ],
      "text/plain": [
       "<IPython.core.display.Math object>"
      ]
     },
     "metadata": {},
     "output_type": "display_data"
    },
    {
     "data": {
      "text/latex": [
       "$\\displaystyle \\text{Site indices: } 3, 0$"
      ],
      "text/plain": [
       "<IPython.core.display.Math object>"
      ]
     },
     "metadata": {},
     "output_type": "display_data"
    },
    {
     "data": {
      "text/latex": [
       "$\\displaystyle \\quad \\quad \\sigma^-_{3,0}\\,\\left|(19)\\,10011\\right\\rangle = 0.25\\left|(1)\\,00001\\right\\rangle$"
      ],
      "text/plain": [
       "<IPython.core.display.Math object>"
      ]
     },
     "metadata": {},
     "output_type": "display_data"
    },
    {
     "data": {
      "text/latex": [
       "$\\displaystyle \\text{Site indices: } 3, 1$"
      ],
      "text/plain": [
       "<IPython.core.display.Math object>"
      ]
     },
     "metadata": {},
     "output_type": "display_data"
    },
    {
     "data": {
      "text/latex": [
       "$\\displaystyle \\quad \\quad \\sigma^-_{3,1}\\,\\left|(19)\\,10011\\right\\rangle = 0$"
      ],
      "text/plain": [
       "<IPython.core.display.Math object>"
      ]
     },
     "metadata": {},
     "output_type": "display_data"
    },
    {
     "data": {
      "text/latex": [
       "$\\displaystyle \\text{Site indices: } 3, 2$"
      ],
      "text/plain": [
       "<IPython.core.display.Math object>"
      ]
     },
     "metadata": {},
     "output_type": "display_data"
    },
    {
     "data": {
      "text/latex": [
       "$\\displaystyle \\quad \\quad \\sigma^-_{3,2}\\,\\left|(19)\\,10011\\right\\rangle = 0$"
      ],
      "text/plain": [
       "<IPython.core.display.Math object>"
      ]
     },
     "metadata": {},
     "output_type": "display_data"
    },
    {
     "data": {
      "text/latex": [
       "$\\displaystyle \\text{Site indices: } 3, 3$"
      ],
      "text/plain": [
       "<IPython.core.display.Math object>"
      ]
     },
     "metadata": {},
     "output_type": "display_data"
    },
    {
     "data": {
      "text/latex": [
       "$\\displaystyle \\quad \\quad \\sigma^-_{3,3}\\,\\left|(19)\\,10011\\right\\rangle = 0$"
      ],
      "text/plain": [
       "<IPython.core.display.Math object>"
      ]
     },
     "metadata": {},
     "output_type": "display_data"
    },
    {
     "data": {
      "text/latex": [
       "$\\displaystyle \\text{Site indices: } 3, 4$"
      ],
      "text/plain": [
       "<IPython.core.display.Math object>"
      ]
     },
     "metadata": {},
     "output_type": "display_data"
    },
    {
     "data": {
      "text/latex": [
       "$\\displaystyle \\quad \\quad \\sigma^-_{3,4}\\,\\left|(19)\\,10011\\right\\rangle = 0.25\\left|(16)\\,10000\\right\\rangle$"
      ],
      "text/plain": [
       "<IPython.core.display.Math object>"
      ]
     },
     "metadata": {},
     "output_type": "display_data"
    },
    {
     "data": {
      "text/latex": [
       "$\\displaystyle \\text{Site indices: } 4, 0$"
      ],
      "text/plain": [
       "<IPython.core.display.Math object>"
      ]
     },
     "metadata": {},
     "output_type": "display_data"
    },
    {
     "data": {
      "text/latex": [
       "$\\displaystyle \\quad \\quad \\sigma^-_{4,0}\\,\\left|(19)\\,10011\\right\\rangle = 0.25\\left|(2)\\,00010\\right\\rangle$"
      ],
      "text/plain": [
       "<IPython.core.display.Math object>"
      ]
     },
     "metadata": {},
     "output_type": "display_data"
    },
    {
     "data": {
      "text/latex": [
       "$\\displaystyle \\text{Site indices: } 4, 1$"
      ],
      "text/plain": [
       "<IPython.core.display.Math object>"
      ]
     },
     "metadata": {},
     "output_type": "display_data"
    },
    {
     "data": {
      "text/latex": [
       "$\\displaystyle \\quad \\quad \\sigma^-_{4,1}\\,\\left|(19)\\,10011\\right\\rangle = 0$"
      ],
      "text/plain": [
       "<IPython.core.display.Math object>"
      ]
     },
     "metadata": {},
     "output_type": "display_data"
    },
    {
     "data": {
      "text/latex": [
       "$\\displaystyle \\text{Site indices: } 4, 2$"
      ],
      "text/plain": [
       "<IPython.core.display.Math object>"
      ]
     },
     "metadata": {},
     "output_type": "display_data"
    },
    {
     "data": {
      "text/latex": [
       "$\\displaystyle \\quad \\quad \\sigma^-_{4,2}\\,\\left|(19)\\,10011\\right\\rangle = 0$"
      ],
      "text/plain": [
       "<IPython.core.display.Math object>"
      ]
     },
     "metadata": {},
     "output_type": "display_data"
    },
    {
     "data": {
      "text/latex": [
       "$\\displaystyle \\text{Site indices: } 4, 3$"
      ],
      "text/plain": [
       "<IPython.core.display.Math object>"
      ]
     },
     "metadata": {},
     "output_type": "display_data"
    },
    {
     "data": {
      "text/latex": [
       "$\\displaystyle \\quad \\quad \\sigma^-_{4,3}\\,\\left|(19)\\,10011\\right\\rangle = 0.25\\left|(16)\\,10000\\right\\rangle$"
      ],
      "text/plain": [
       "<IPython.core.display.Math object>"
      ]
     },
     "metadata": {},
     "output_type": "display_data"
    },
    {
     "data": {
      "text/latex": [
       "$\\displaystyle \\text{Site indices: } 4, 4$"
      ],
      "text/plain": [
       "<IPython.core.display.Math object>"
      ]
     },
     "metadata": {},
     "output_type": "display_data"
    },
    {
     "data": {
      "text/latex": [
       "$\\displaystyle \\quad \\quad \\sigma^-_{4,4}\\,\\left|(19)\\,10011\\right\\rangle = 0$"
      ],
      "text/plain": [
       "<IPython.core.display.Math object>"
      ]
     },
     "metadata": {},
     "output_type": "display_data"
    },
    {
     "data": {
      "text/latex": [
       "$\\displaystyle \\text{Operator: } [\\sigma^+]\\sigma^{\\pm}, \\text{typeacting}: OperatorTypeActing.Correlation$"
      ],
      "text/plain": [
       "<IPython.core.display.Math object>"
      ]
     },
     "metadata": {},
     "output_type": "display_data"
    },
    {
     "data": {
      "text/latex": [
       "$\\displaystyle \\text{Site indices: } 0, 0$"
      ],
      "text/plain": [
       "<IPython.core.display.Math object>"
      ]
     },
     "metadata": {},
     "output_type": "display_data"
    },
    {
     "data": {
      "text/latex": [
       "$\\displaystyle \\quad \\quad [\\sigma^+]\\sigma^{\\pm}_{0,0}\\,\\left|(19)\\,10011\\right\\rangle = 0$"
      ],
      "text/plain": [
       "<IPython.core.display.Math object>"
      ]
     },
     "metadata": {},
     "output_type": "display_data"
    },
    {
     "data": {
      "text/latex": [
       "$\\displaystyle \\text{Site indices: } 0, 1$"
      ],
      "text/plain": [
       "<IPython.core.display.Math object>"
      ]
     },
     "metadata": {},
     "output_type": "display_data"
    },
    {
     "data": {
      "text/latex": [
       "$\\displaystyle \\quad \\quad [\\sigma^+]\\sigma^{\\pm}_{0,1}\\,\\left|(19)\\,10011\\right\\rangle = 0$"
      ],
      "text/plain": [
       "<IPython.core.display.Math object>"
      ]
     },
     "metadata": {},
     "output_type": "display_data"
    },
    {
     "data": {
      "text/latex": [
       "$\\displaystyle \\text{Site indices: } 0, 2$"
      ],
      "text/plain": [
       "<IPython.core.display.Math object>"
      ]
     },
     "metadata": {},
     "output_type": "display_data"
    },
    {
     "data": {
      "text/latex": [
       "$\\displaystyle \\quad \\quad [\\sigma^+]\\sigma^{\\pm}_{0,2}\\,\\left|(19)\\,10011\\right\\rangle = 0$"
      ],
      "text/plain": [
       "<IPython.core.display.Math object>"
      ]
     },
     "metadata": {},
     "output_type": "display_data"
    },
    {
     "data": {
      "text/latex": [
       "$\\displaystyle \\text{Site indices: } 0, 3$"
      ],
      "text/plain": [
       "<IPython.core.display.Math object>"
      ]
     },
     "metadata": {},
     "output_type": "display_data"
    },
    {
     "data": {
      "text/latex": [
       "$\\displaystyle \\quad \\quad [\\sigma^+]\\sigma^{\\pm}_{0,3}\\,\\left|(19)\\,10011\\right\\rangle = 0$"
      ],
      "text/plain": [
       "<IPython.core.display.Math object>"
      ]
     },
     "metadata": {},
     "output_type": "display_data"
    },
    {
     "data": {
      "text/latex": [
       "$\\displaystyle \\text{Site indices: } 0, 4$"
      ],
      "text/plain": [
       "<IPython.core.display.Math object>"
      ]
     },
     "metadata": {},
     "output_type": "display_data"
    },
    {
     "data": {
      "text/latex": [
       "$\\displaystyle \\quad \\quad [\\sigma^+]\\sigma^{\\pm}_{0,4}\\,\\left|(19)\\,10011\\right\\rangle = 0$"
      ],
      "text/plain": [
       "<IPython.core.display.Math object>"
      ]
     },
     "metadata": {},
     "output_type": "display_data"
    },
    {
     "data": {
      "text/latex": [
       "$\\displaystyle \\text{Site indices: } 1, 0$"
      ],
      "text/plain": [
       "<IPython.core.display.Math object>"
      ]
     },
     "metadata": {},
     "output_type": "display_data"
    },
    {
     "data": {
      "text/latex": [
       "$\\displaystyle \\quad \\quad [\\sigma^+]\\sigma^{\\pm}_{1,0}\\,\\left|(19)\\,10011\\right\\rangle = 0.25\\left|(11)\\,01011\\right\\rangle$"
      ],
      "text/plain": [
       "<IPython.core.display.Math object>"
      ]
     },
     "metadata": {},
     "output_type": "display_data"
    },
    {
     "data": {
      "text/latex": [
       "$\\displaystyle \\text{Site indices: } 1, 1$"
      ],
      "text/plain": [
       "<IPython.core.display.Math object>"
      ]
     },
     "metadata": {},
     "output_type": "display_data"
    },
    {
     "data": {
      "text/latex": [
       "$\\displaystyle \\quad \\quad [\\sigma^+]\\sigma^{\\pm}_{1,1}\\,\\left|(19)\\,10011\\right\\rangle = 0.25\\left|(19)\\,10011\\right\\rangle$"
      ],
      "text/plain": [
       "<IPython.core.display.Math object>"
      ]
     },
     "metadata": {},
     "output_type": "display_data"
    },
    {
     "data": {
      "text/latex": [
       "$\\displaystyle \\text{Site indices: } 1, 2$"
      ],
      "text/plain": [
       "<IPython.core.display.Math object>"
      ]
     },
     "metadata": {},
     "output_type": "display_data"
    },
    {
     "data": {
      "text/latex": [
       "$\\displaystyle \\quad \\quad [\\sigma^+]\\sigma^{\\pm}_{1,2}\\,\\left|(19)\\,10011\\right\\rangle = 0$"
      ],
      "text/plain": [
       "<IPython.core.display.Math object>"
      ]
     },
     "metadata": {},
     "output_type": "display_data"
    },
    {
     "data": {
      "text/latex": [
       "$\\displaystyle \\text{Site indices: } 1, 3$"
      ],
      "text/plain": [
       "<IPython.core.display.Math object>"
      ]
     },
     "metadata": {},
     "output_type": "display_data"
    },
    {
     "data": {
      "text/latex": [
       "$\\displaystyle \\quad \\quad [\\sigma^+]\\sigma^{\\pm}_{1,3}\\,\\left|(19)\\,10011\\right\\rangle = 0.25\\left|(25)\\,11001\\right\\rangle$"
      ],
      "text/plain": [
       "<IPython.core.display.Math object>"
      ]
     },
     "metadata": {},
     "output_type": "display_data"
    },
    {
     "data": {
      "text/latex": [
       "$\\displaystyle \\text{Site indices: } 1, 4$"
      ],
      "text/plain": [
       "<IPython.core.display.Math object>"
      ]
     },
     "metadata": {},
     "output_type": "display_data"
    },
    {
     "data": {
      "text/latex": [
       "$\\displaystyle \\quad \\quad [\\sigma^+]\\sigma^{\\pm}_{1,4}\\,\\left|(19)\\,10011\\right\\rangle = 0.25\\left|(26)\\,11010\\right\\rangle$"
      ],
      "text/plain": [
       "<IPython.core.display.Math object>"
      ]
     },
     "metadata": {},
     "output_type": "display_data"
    },
    {
     "data": {
      "text/latex": [
       "$\\displaystyle \\text{Site indices: } 2, 0$"
      ],
      "text/plain": [
       "<IPython.core.display.Math object>"
      ]
     },
     "metadata": {},
     "output_type": "display_data"
    },
    {
     "data": {
      "text/latex": [
       "$\\displaystyle \\quad \\quad [\\sigma^+]\\sigma^{\\pm}_{2,0}\\,\\left|(19)\\,10011\\right\\rangle = 0.25\\left|(7)\\,00111\\right\\rangle$"
      ],
      "text/plain": [
       "<IPython.core.display.Math object>"
      ]
     },
     "metadata": {},
     "output_type": "display_data"
    },
    {
     "data": {
      "text/latex": [
       "$\\displaystyle \\text{Site indices: } 2, 1$"
      ],
      "text/plain": [
       "<IPython.core.display.Math object>"
      ]
     },
     "metadata": {},
     "output_type": "display_data"
    },
    {
     "data": {
      "text/latex": [
       "$\\displaystyle \\quad \\quad [\\sigma^+]\\sigma^{\\pm}_{2,1}\\,\\left|(19)\\,10011\\right\\rangle = 0$"
      ],
      "text/plain": [
       "<IPython.core.display.Math object>"
      ]
     },
     "metadata": {},
     "output_type": "display_data"
    },
    {
     "data": {
      "text/latex": [
       "$\\displaystyle \\text{Site indices: } 2, 2$"
      ],
      "text/plain": [
       "<IPython.core.display.Math object>"
      ]
     },
     "metadata": {},
     "output_type": "display_data"
    },
    {
     "data": {
      "text/latex": [
       "$\\displaystyle \\quad \\quad [\\sigma^+]\\sigma^{\\pm}_{2,2}\\,\\left|(19)\\,10011\\right\\rangle = 0.25\\left|(19)\\,10011\\right\\rangle$"
      ],
      "text/plain": [
       "<IPython.core.display.Math object>"
      ]
     },
     "metadata": {},
     "output_type": "display_data"
    },
    {
     "data": {
      "text/latex": [
       "$\\displaystyle \\text{Site indices: } 2, 3$"
      ],
      "text/plain": [
       "<IPython.core.display.Math object>"
      ]
     },
     "metadata": {},
     "output_type": "display_data"
    },
    {
     "data": {
      "text/latex": [
       "$\\displaystyle \\quad \\quad [\\sigma^+]\\sigma^{\\pm}_{2,3}\\,\\left|(19)\\,10011\\right\\rangle = 0.25\\left|(21)\\,10101\\right\\rangle$"
      ],
      "text/plain": [
       "<IPython.core.display.Math object>"
      ]
     },
     "metadata": {},
     "output_type": "display_data"
    },
    {
     "data": {
      "text/latex": [
       "$\\displaystyle \\text{Site indices: } 2, 4$"
      ],
      "text/plain": [
       "<IPython.core.display.Math object>"
      ]
     },
     "metadata": {},
     "output_type": "display_data"
    },
    {
     "data": {
      "text/latex": [
       "$\\displaystyle \\quad \\quad [\\sigma^+]\\sigma^{\\pm}_{2,4}\\,\\left|(19)\\,10011\\right\\rangle = 0.25\\left|(22)\\,10110\\right\\rangle$"
      ],
      "text/plain": [
       "<IPython.core.display.Math object>"
      ]
     },
     "metadata": {},
     "output_type": "display_data"
    },
    {
     "data": {
      "text/latex": [
       "$\\displaystyle \\text{Site indices: } 3, 0$"
      ],
      "text/plain": [
       "<IPython.core.display.Math object>"
      ]
     },
     "metadata": {},
     "output_type": "display_data"
    },
    {
     "data": {
      "text/latex": [
       "$\\displaystyle \\quad \\quad [\\sigma^+]\\sigma^{\\pm}_{3,0}\\,\\left|(19)\\,10011\\right\\rangle = 0$"
      ],
      "text/plain": [
       "<IPython.core.display.Math object>"
      ]
     },
     "metadata": {},
     "output_type": "display_data"
    },
    {
     "data": {
      "text/latex": [
       "$\\displaystyle \\text{Site indices: } 3, 1$"
      ],
      "text/plain": [
       "<IPython.core.display.Math object>"
      ]
     },
     "metadata": {},
     "output_type": "display_data"
    },
    {
     "data": {
      "text/latex": [
       "$\\displaystyle \\quad \\quad [\\sigma^+]\\sigma^{\\pm}_{3,1}\\,\\left|(19)\\,10011\\right\\rangle = 0$"
      ],
      "text/plain": [
       "<IPython.core.display.Math object>"
      ]
     },
     "metadata": {},
     "output_type": "display_data"
    },
    {
     "data": {
      "text/latex": [
       "$\\displaystyle \\text{Site indices: } 3, 2$"
      ],
      "text/plain": [
       "<IPython.core.display.Math object>"
      ]
     },
     "metadata": {},
     "output_type": "display_data"
    },
    {
     "data": {
      "text/latex": [
       "$\\displaystyle \\quad \\quad [\\sigma^+]\\sigma^{\\pm}_{3,2}\\,\\left|(19)\\,10011\\right\\rangle = 0$"
      ],
      "text/plain": [
       "<IPython.core.display.Math object>"
      ]
     },
     "metadata": {},
     "output_type": "display_data"
    },
    {
     "data": {
      "text/latex": [
       "$\\displaystyle \\text{Site indices: } 3, 3$"
      ],
      "text/plain": [
       "<IPython.core.display.Math object>"
      ]
     },
     "metadata": {},
     "output_type": "display_data"
    },
    {
     "data": {
      "text/latex": [
       "$\\displaystyle \\quad \\quad [\\sigma^+]\\sigma^{\\pm}_{3,3}\\,\\left|(19)\\,10011\\right\\rangle = 0$"
      ],
      "text/plain": [
       "<IPython.core.display.Math object>"
      ]
     },
     "metadata": {},
     "output_type": "display_data"
    },
    {
     "data": {
      "text/latex": [
       "$\\displaystyle \\text{Site indices: } 3, 4$"
      ],
      "text/plain": [
       "<IPython.core.display.Math object>"
      ]
     },
     "metadata": {},
     "output_type": "display_data"
    },
    {
     "data": {
      "text/latex": [
       "$\\displaystyle \\quad \\quad [\\sigma^+]\\sigma^{\\pm}_{3,4}\\,\\left|(19)\\,10011\\right\\rangle = 0$"
      ],
      "text/plain": [
       "<IPython.core.display.Math object>"
      ]
     },
     "metadata": {},
     "output_type": "display_data"
    },
    {
     "data": {
      "text/latex": [
       "$\\displaystyle \\text{Site indices: } 4, 0$"
      ],
      "text/plain": [
       "<IPython.core.display.Math object>"
      ]
     },
     "metadata": {},
     "output_type": "display_data"
    },
    {
     "data": {
      "text/latex": [
       "$\\displaystyle \\quad \\quad [\\sigma^+]\\sigma^{\\pm}_{4,0}\\,\\left|(19)\\,10011\\right\\rangle = 0$"
      ],
      "text/plain": [
       "<IPython.core.display.Math object>"
      ]
     },
     "metadata": {},
     "output_type": "display_data"
    },
    {
     "data": {
      "text/latex": [
       "$\\displaystyle \\text{Site indices: } 4, 1$"
      ],
      "text/plain": [
       "<IPython.core.display.Math object>"
      ]
     },
     "metadata": {},
     "output_type": "display_data"
    },
    {
     "data": {
      "text/latex": [
       "$\\displaystyle \\quad \\quad [\\sigma^+]\\sigma^{\\pm}_{4,1}\\,\\left|(19)\\,10011\\right\\rangle = 0$"
      ],
      "text/plain": [
       "<IPython.core.display.Math object>"
      ]
     },
     "metadata": {},
     "output_type": "display_data"
    },
    {
     "data": {
      "text/latex": [
       "$\\displaystyle \\text{Site indices: } 4, 2$"
      ],
      "text/plain": [
       "<IPython.core.display.Math object>"
      ]
     },
     "metadata": {},
     "output_type": "display_data"
    },
    {
     "data": {
      "text/latex": [
       "$\\displaystyle \\quad \\quad [\\sigma^+]\\sigma^{\\pm}_{4,2}\\,\\left|(19)\\,10011\\right\\rangle = 0$"
      ],
      "text/plain": [
       "<IPython.core.display.Math object>"
      ]
     },
     "metadata": {},
     "output_type": "display_data"
    },
    {
     "data": {
      "text/latex": [
       "$\\displaystyle \\text{Site indices: } 4, 3$"
      ],
      "text/plain": [
       "<IPython.core.display.Math object>"
      ]
     },
     "metadata": {},
     "output_type": "display_data"
    },
    {
     "data": {
      "text/latex": [
       "$\\displaystyle \\quad \\quad [\\sigma^+]\\sigma^{\\pm}_{4,3}\\,\\left|(19)\\,10011\\right\\rangle = 0$"
      ],
      "text/plain": [
       "<IPython.core.display.Math object>"
      ]
     },
     "metadata": {},
     "output_type": "display_data"
    },
    {
     "data": {
      "text/latex": [
       "$\\displaystyle \\text{Site indices: } 4, 4$"
      ],
      "text/plain": [
       "<IPython.core.display.Math object>"
      ]
     },
     "metadata": {},
     "output_type": "display_data"
    },
    {
     "data": {
      "text/latex": [
       "$\\displaystyle \\quad \\quad [\\sigma^+]\\sigma^{\\pm}_{4,4}\\,\\left|(19)\\,10011\\right\\rangle = 0$"
      ],
      "text/plain": [
       "<IPython.core.display.Math object>"
      ]
     },
     "metadata": {},
     "output_type": "display_data"
    },
    {
     "data": {
      "text/latex": [
       "$\\displaystyle \\text{Operator: } [\\sigma^-]\\sigma^{\\mp}, \\text{typeacting}: OperatorTypeActing.Correlation$"
      ],
      "text/plain": [
       "<IPython.core.display.Math object>"
      ]
     },
     "metadata": {},
     "output_type": "display_data"
    },
    {
     "data": {
      "text/latex": [
       "$\\displaystyle \\text{Site indices: } 0, 0$"
      ],
      "text/plain": [
       "<IPython.core.display.Math object>"
      ]
     },
     "metadata": {},
     "output_type": "display_data"
    },
    {
     "data": {
      "text/latex": [
       "$\\displaystyle \\quad \\quad [\\sigma^-]\\sigma^{\\mp}_{0,0}\\,\\left|(19)\\,10011\\right\\rangle = 0.25\\left|(19)\\,10011\\right\\rangle$"
      ],
      "text/plain": [
       "<IPython.core.display.Math object>"
      ]
     },
     "metadata": {},
     "output_type": "display_data"
    },
    {
     "data": {
      "text/latex": [
       "$\\displaystyle \\text{Site indices: } 0, 1$"
      ],
      "text/plain": [
       "<IPython.core.display.Math object>"
      ]
     },
     "metadata": {},
     "output_type": "display_data"
    },
    {
     "data": {
      "text/latex": [
       "$\\displaystyle \\quad \\quad [\\sigma^-]\\sigma^{\\mp}_{0,1}\\,\\left|(19)\\,10011\\right\\rangle = 0.25\\left|(11)\\,01011\\right\\rangle$"
      ],
      "text/plain": [
       "<IPython.core.display.Math object>"
      ]
     },
     "metadata": {},
     "output_type": "display_data"
    },
    {
     "data": {
      "text/latex": [
       "$\\displaystyle \\text{Site indices: } 0, 2$"
      ],
      "text/plain": [
       "<IPython.core.display.Math object>"
      ]
     },
     "metadata": {},
     "output_type": "display_data"
    },
    {
     "data": {
      "text/latex": [
       "$\\displaystyle \\quad \\quad [\\sigma^-]\\sigma^{\\mp}_{0,2}\\,\\left|(19)\\,10011\\right\\rangle = 0.25\\left|(7)\\,00111\\right\\rangle$"
      ],
      "text/plain": [
       "<IPython.core.display.Math object>"
      ]
     },
     "metadata": {},
     "output_type": "display_data"
    },
    {
     "data": {
      "text/latex": [
       "$\\displaystyle \\text{Site indices: } 0, 3$"
      ],
      "text/plain": [
       "<IPython.core.display.Math object>"
      ]
     },
     "metadata": {},
     "output_type": "display_data"
    },
    {
     "data": {
      "text/latex": [
       "$\\displaystyle \\quad \\quad [\\sigma^-]\\sigma^{\\mp}_{0,3}\\,\\left|(19)\\,10011\\right\\rangle = 0$"
      ],
      "text/plain": [
       "<IPython.core.display.Math object>"
      ]
     },
     "metadata": {},
     "output_type": "display_data"
    },
    {
     "data": {
      "text/latex": [
       "$\\displaystyle \\text{Site indices: } 0, 4$"
      ],
      "text/plain": [
       "<IPython.core.display.Math object>"
      ]
     },
     "metadata": {},
     "output_type": "display_data"
    },
    {
     "data": {
      "text/latex": [
       "$\\displaystyle \\quad \\quad [\\sigma^-]\\sigma^{\\mp}_{0,4}\\,\\left|(19)\\,10011\\right\\rangle = 0$"
      ],
      "text/plain": [
       "<IPython.core.display.Math object>"
      ]
     },
     "metadata": {},
     "output_type": "display_data"
    },
    {
     "data": {
      "text/latex": [
       "$\\displaystyle \\text{Site indices: } 1, 0$"
      ],
      "text/plain": [
       "<IPython.core.display.Math object>"
      ]
     },
     "metadata": {},
     "output_type": "display_data"
    },
    {
     "data": {
      "text/latex": [
       "$\\displaystyle \\quad \\quad [\\sigma^-]\\sigma^{\\mp}_{1,0}\\,\\left|(19)\\,10011\\right\\rangle = 0$"
      ],
      "text/plain": [
       "<IPython.core.display.Math object>"
      ]
     },
     "metadata": {},
     "output_type": "display_data"
    },
    {
     "data": {
      "text/latex": [
       "$\\displaystyle \\text{Site indices: } 1, 1$"
      ],
      "text/plain": [
       "<IPython.core.display.Math object>"
      ]
     },
     "metadata": {},
     "output_type": "display_data"
    },
    {
     "data": {
      "text/latex": [
       "$\\displaystyle \\quad \\quad [\\sigma^-]\\sigma^{\\mp}_{1,1}\\,\\left|(19)\\,10011\\right\\rangle = 0$"
      ],
      "text/plain": [
       "<IPython.core.display.Math object>"
      ]
     },
     "metadata": {},
     "output_type": "display_data"
    },
    {
     "data": {
      "text/latex": [
       "$\\displaystyle \\text{Site indices: } 1, 2$"
      ],
      "text/plain": [
       "<IPython.core.display.Math object>"
      ]
     },
     "metadata": {},
     "output_type": "display_data"
    },
    {
     "data": {
      "text/latex": [
       "$\\displaystyle \\quad \\quad [\\sigma^-]\\sigma^{\\mp}_{1,2}\\,\\left|(19)\\,10011\\right\\rangle = 0$"
      ],
      "text/plain": [
       "<IPython.core.display.Math object>"
      ]
     },
     "metadata": {},
     "output_type": "display_data"
    },
    {
     "data": {
      "text/latex": [
       "$\\displaystyle \\text{Site indices: } 1, 3$"
      ],
      "text/plain": [
       "<IPython.core.display.Math object>"
      ]
     },
     "metadata": {},
     "output_type": "display_data"
    },
    {
     "data": {
      "text/latex": [
       "$\\displaystyle \\quad \\quad [\\sigma^-]\\sigma^{\\mp}_{1,3}\\,\\left|(19)\\,10011\\right\\rangle = 0$"
      ],
      "text/plain": [
       "<IPython.core.display.Math object>"
      ]
     },
     "metadata": {},
     "output_type": "display_data"
    },
    {
     "data": {
      "text/latex": [
       "$\\displaystyle \\text{Site indices: } 1, 4$"
      ],
      "text/plain": [
       "<IPython.core.display.Math object>"
      ]
     },
     "metadata": {},
     "output_type": "display_data"
    },
    {
     "data": {
      "text/latex": [
       "$\\displaystyle \\quad \\quad [\\sigma^-]\\sigma^{\\mp}_{1,4}\\,\\left|(19)\\,10011\\right\\rangle = 0$"
      ],
      "text/plain": [
       "<IPython.core.display.Math object>"
      ]
     },
     "metadata": {},
     "output_type": "display_data"
    },
    {
     "data": {
      "text/latex": [
       "$\\displaystyle \\text{Site indices: } 2, 0$"
      ],
      "text/plain": [
       "<IPython.core.display.Math object>"
      ]
     },
     "metadata": {},
     "output_type": "display_data"
    },
    {
     "data": {
      "text/latex": [
       "$\\displaystyle \\quad \\quad [\\sigma^-]\\sigma^{\\mp}_{2,0}\\,\\left|(19)\\,10011\\right\\rangle = 0$"
      ],
      "text/plain": [
       "<IPython.core.display.Math object>"
      ]
     },
     "metadata": {},
     "output_type": "display_data"
    },
    {
     "data": {
      "text/latex": [
       "$\\displaystyle \\text{Site indices: } 2, 1$"
      ],
      "text/plain": [
       "<IPython.core.display.Math object>"
      ]
     },
     "metadata": {},
     "output_type": "display_data"
    },
    {
     "data": {
      "text/latex": [
       "$\\displaystyle \\quad \\quad [\\sigma^-]\\sigma^{\\mp}_{2,1}\\,\\left|(19)\\,10011\\right\\rangle = 0$"
      ],
      "text/plain": [
       "<IPython.core.display.Math object>"
      ]
     },
     "metadata": {},
     "output_type": "display_data"
    },
    {
     "data": {
      "text/latex": [
       "$\\displaystyle \\text{Site indices: } 2, 2$"
      ],
      "text/plain": [
       "<IPython.core.display.Math object>"
      ]
     },
     "metadata": {},
     "output_type": "display_data"
    },
    {
     "data": {
      "text/latex": [
       "$\\displaystyle \\quad \\quad [\\sigma^-]\\sigma^{\\mp}_{2,2}\\,\\left|(19)\\,10011\\right\\rangle = 0$"
      ],
      "text/plain": [
       "<IPython.core.display.Math object>"
      ]
     },
     "metadata": {},
     "output_type": "display_data"
    },
    {
     "data": {
      "text/latex": [
       "$\\displaystyle \\text{Site indices: } 2, 3$"
      ],
      "text/plain": [
       "<IPython.core.display.Math object>"
      ]
     },
     "metadata": {},
     "output_type": "display_data"
    },
    {
     "data": {
      "text/latex": [
       "$\\displaystyle \\quad \\quad [\\sigma^-]\\sigma^{\\mp}_{2,3}\\,\\left|(19)\\,10011\\right\\rangle = 0$"
      ],
      "text/plain": [
       "<IPython.core.display.Math object>"
      ]
     },
     "metadata": {},
     "output_type": "display_data"
    },
    {
     "data": {
      "text/latex": [
       "$\\displaystyle \\text{Site indices: } 2, 4$"
      ],
      "text/plain": [
       "<IPython.core.display.Math object>"
      ]
     },
     "metadata": {},
     "output_type": "display_data"
    },
    {
     "data": {
      "text/latex": [
       "$\\displaystyle \\quad \\quad [\\sigma^-]\\sigma^{\\mp}_{2,4}\\,\\left|(19)\\,10011\\right\\rangle = 0$"
      ],
      "text/plain": [
       "<IPython.core.display.Math object>"
      ]
     },
     "metadata": {},
     "output_type": "display_data"
    },
    {
     "data": {
      "text/latex": [
       "$\\displaystyle \\text{Site indices: } 3, 0$"
      ],
      "text/plain": [
       "<IPython.core.display.Math object>"
      ]
     },
     "metadata": {},
     "output_type": "display_data"
    },
    {
     "data": {
      "text/latex": [
       "$\\displaystyle \\quad \\quad [\\sigma^-]\\sigma^{\\mp}_{3,0}\\,\\left|(19)\\,10011\\right\\rangle = 0$"
      ],
      "text/plain": [
       "<IPython.core.display.Math object>"
      ]
     },
     "metadata": {},
     "output_type": "display_data"
    },
    {
     "data": {
      "text/latex": [
       "$\\displaystyle \\text{Site indices: } 3, 1$"
      ],
      "text/plain": [
       "<IPython.core.display.Math object>"
      ]
     },
     "metadata": {},
     "output_type": "display_data"
    },
    {
     "data": {
      "text/latex": [
       "$\\displaystyle \\quad \\quad [\\sigma^-]\\sigma^{\\mp}_{3,1}\\,\\left|(19)\\,10011\\right\\rangle = 0.25\\left|(25)\\,11001\\right\\rangle$"
      ],
      "text/plain": [
       "<IPython.core.display.Math object>"
      ]
     },
     "metadata": {},
     "output_type": "display_data"
    },
    {
     "data": {
      "text/latex": [
       "$\\displaystyle \\text{Site indices: } 3, 2$"
      ],
      "text/plain": [
       "<IPython.core.display.Math object>"
      ]
     },
     "metadata": {},
     "output_type": "display_data"
    },
    {
     "data": {
      "text/latex": [
       "$\\displaystyle \\quad \\quad [\\sigma^-]\\sigma^{\\mp}_{3,2}\\,\\left|(19)\\,10011\\right\\rangle = 0.25\\left|(21)\\,10101\\right\\rangle$"
      ],
      "text/plain": [
       "<IPython.core.display.Math object>"
      ]
     },
     "metadata": {},
     "output_type": "display_data"
    },
    {
     "data": {
      "text/latex": [
       "$\\displaystyle \\text{Site indices: } 3, 3$"
      ],
      "text/plain": [
       "<IPython.core.display.Math object>"
      ]
     },
     "metadata": {},
     "output_type": "display_data"
    },
    {
     "data": {
      "text/latex": [
       "$\\displaystyle \\quad \\quad [\\sigma^-]\\sigma^{\\mp}_{3,3}\\,\\left|(19)\\,10011\\right\\rangle = 0.25\\left|(19)\\,10011\\right\\rangle$"
      ],
      "text/plain": [
       "<IPython.core.display.Math object>"
      ]
     },
     "metadata": {},
     "output_type": "display_data"
    },
    {
     "data": {
      "text/latex": [
       "$\\displaystyle \\text{Site indices: } 3, 4$"
      ],
      "text/plain": [
       "<IPython.core.display.Math object>"
      ]
     },
     "metadata": {},
     "output_type": "display_data"
    },
    {
     "data": {
      "text/latex": [
       "$\\displaystyle \\quad \\quad [\\sigma^-]\\sigma^{\\mp}_{3,4}\\,\\left|(19)\\,10011\\right\\rangle = 0$"
      ],
      "text/plain": [
       "<IPython.core.display.Math object>"
      ]
     },
     "metadata": {},
     "output_type": "display_data"
    },
    {
     "data": {
      "text/latex": [
       "$\\displaystyle \\text{Site indices: } 4, 0$"
      ],
      "text/plain": [
       "<IPython.core.display.Math object>"
      ]
     },
     "metadata": {},
     "output_type": "display_data"
    },
    {
     "data": {
      "text/latex": [
       "$\\displaystyle \\quad \\quad [\\sigma^-]\\sigma^{\\mp}_{4,0}\\,\\left|(19)\\,10011\\right\\rangle = 0$"
      ],
      "text/plain": [
       "<IPython.core.display.Math object>"
      ]
     },
     "metadata": {},
     "output_type": "display_data"
    },
    {
     "data": {
      "text/latex": [
       "$\\displaystyle \\text{Site indices: } 4, 1$"
      ],
      "text/plain": [
       "<IPython.core.display.Math object>"
      ]
     },
     "metadata": {},
     "output_type": "display_data"
    },
    {
     "data": {
      "text/latex": [
       "$\\displaystyle \\quad \\quad [\\sigma^-]\\sigma^{\\mp}_{4,1}\\,\\left|(19)\\,10011\\right\\rangle = 0.25\\left|(26)\\,11010\\right\\rangle$"
      ],
      "text/plain": [
       "<IPython.core.display.Math object>"
      ]
     },
     "metadata": {},
     "output_type": "display_data"
    },
    {
     "data": {
      "text/latex": [
       "$\\displaystyle \\text{Site indices: } 4, 2$"
      ],
      "text/plain": [
       "<IPython.core.display.Math object>"
      ]
     },
     "metadata": {},
     "output_type": "display_data"
    },
    {
     "data": {
      "text/latex": [
       "$\\displaystyle \\quad \\quad [\\sigma^-]\\sigma^{\\mp}_{4,2}\\,\\left|(19)\\,10011\\right\\rangle = 0.25\\left|(22)\\,10110\\right\\rangle$"
      ],
      "text/plain": [
       "<IPython.core.display.Math object>"
      ]
     },
     "metadata": {},
     "output_type": "display_data"
    },
    {
     "data": {
      "text/latex": [
       "$\\displaystyle \\text{Site indices: } 4, 3$"
      ],
      "text/plain": [
       "<IPython.core.display.Math object>"
      ]
     },
     "metadata": {},
     "output_type": "display_data"
    },
    {
     "data": {
      "text/latex": [
       "$\\displaystyle \\quad \\quad [\\sigma^-]\\sigma^{\\mp}_{4,3}\\,\\left|(19)\\,10011\\right\\rangle = 0$"
      ],
      "text/plain": [
       "<IPython.core.display.Math object>"
      ]
     },
     "metadata": {},
     "output_type": "display_data"
    },
    {
     "data": {
      "text/latex": [
       "$\\displaystyle \\text{Site indices: } 4, 4$"
      ],
      "text/plain": [
       "<IPython.core.display.Math object>"
      ]
     },
     "metadata": {},
     "output_type": "display_data"
    },
    {
     "data": {
      "text/latex": [
       "$\\displaystyle \\quad \\quad [\\sigma^-]\\sigma^{\\mp}_{4,4}\\,\\left|(19)\\,10011\\right\\rangle = 0.25\\left|(19)\\,10011\\right\\rangle$"
      ],
      "text/plain": [
       "<IPython.core.display.Math object>"
      ]
     },
     "metadata": {},
     "output_type": "display_data"
    },
    {
     "name": "stdout",
     "output_type": "stream",
     "text": [
      "Operator action: 2147714.042000 us\n"
     ]
    }
   ],
   "source": [
    "test_operator_on_state(\n",
    "    op          = operators_c,\n",
    "    lat         = lat,\n",
    "    state       = int_state,\n",
    "    op_acting   = OperatorTypeActing.Correlation,\n",
    "    op_label    = labels_c,\n",
    "    to_bin      = None,\n",
    "    just_time   = False\n",
    ")"
   ]
  },
  {
   "cell_type": "markdown",
   "id": "5277944a",
   "metadata": {},
   "source": [
    "## Creation and annihilation operators (spinless fermions)\n",
    "The creation and annihilation operators for spinless fermions are defined as:\n",
    "$$\n",
    "c_i^\\dagger = \\begin{pmatrix}\n",
    "1 & 0 \\\\\n",
    "0 & 0\n",
    "\\end{pmatrix}, \\quad\n",
    "c_i = \\begin{pmatrix}\n",
    "0 & 0 \\\\\n",
    "0 & 1\n",
    "\\end{pmatrix}\n",
    "$$\n",
    "where $c_i^\\dagger$ creates a fermion at site $i$ and $c_i$ annihilates a fermion at site $i$."
   ]
  },
  {
   "cell_type": "markdown",
   "id": "fb2739f7",
   "metadata": {},
   "source": [
    "### a) Local operators"
   ]
  },
  {
   "cell_type": "code",
   "execution_count": 10,
   "id": "ac5e5fe6",
   "metadata": {},
   "outputs": [
    {
     "data": {
      "text/latex": [
       "$\\displaystyle \\text{Integer state: }\\,\\left|(28)\\,11100\\right\\rangle$"
      ],
      "text/plain": [
       "<IPython.core.display.Math object>"
      ]
     },
     "metadata": {},
     "output_type": "display_data"
    },
    {
     "data": {
      "text/latex": [
       "$\\displaystyle \\text{NumPy state: }\\,|1 1 1 0 0\\rangle$"
      ],
      "text/plain": [
       "<IPython.core.display.Math object>"
      ]
     },
     "metadata": {},
     "output_type": "display_data"
    },
    {
     "data": {
      "text/latex": [
       "$\\displaystyle \\text{JAX state: }\\,|1 1 1 0 0\\rangle$"
      ],
      "text/plain": [
       "<IPython.core.display.Math object>"
      ]
     },
     "metadata": {},
     "output_type": "display_data"
    }
   ],
   "source": [
    "type_act = op_sferm.OperatorTypeActing.Local\n",
    "\n",
    "c_l = op_sferm.c(\n",
    "    lattice  = lat,\n",
    "    ns       = lat.ns,\n",
    "    type_act = type_act,\n",
    ")\n",
    "c_dag_l = op_sferm.cdag(\n",
    "    lattice  = lat,\n",
    "    ns       = lat.ns,\n",
    "    type_act = type_act,\n",
    ")\n",
    "n_l = op_sferm.n(\n",
    "    lattice  = lat,\n",
    "    ns       = lat.ns,\n",
    "    type_act = type_act,\n",
    ")\n",
    "operators_l  = [c_l, c_dag_l, n_l]\n",
    "labels_l     = ['c', 'c^\\\\dag', 'n'][:len(operators_l)]\n",
    "\n",
    "# create a set of states and test it\n",
    "int_state, np_state, jnp_state = initial_states(lat.ns, display=True)"
   ]
  },
  {
   "cell_type": "markdown",
   "id": "e7154f88",
   "metadata": {},
   "source": [
    "#### i) Integer states"
   ]
  },
  {
   "cell_type": "code",
   "execution_count": 11,
   "id": "9d64affb",
   "metadata": {},
   "outputs": [
    {
     "data": {
      "text/latex": [
       "$\\displaystyle \\text{Initial integer state (Ns=5): }\\,|1 1 1 0 0\\rangle$"
      ],
      "text/plain": [
       "<IPython.core.display.Math object>"
      ]
     },
     "metadata": {},
     "output_type": "display_data"
    },
    {
     "data": {
      "text/latex": [
       "$\\displaystyle \\text{Operator: } c, \\text{typeacting}: OperatorTypeActing.Local$"
      ],
      "text/plain": [
       "<IPython.core.display.Math object>"
      ]
     },
     "metadata": {},
     "output_type": "display_data"
    },
    {
     "data": {
      "text/latex": [
       "$\\displaystyle \\quad \\text{Site index: } 0$"
      ],
      "text/plain": [
       "<IPython.core.display.Math object>"
      ]
     },
     "metadata": {},
     "output_type": "display_data"
    },
    {
     "data": {
      "text/latex": [
       "$\\displaystyle \\quad \\quad c_{0}\\,|1 1 1 0 0\\rangle = \\left|01100\\right\\rangle$"
      ],
      "text/plain": [
       "<IPython.core.display.Math object>"
      ]
     },
     "metadata": {},
     "output_type": "display_data"
    },
    {
     "data": {
      "text/latex": [
       "$\\displaystyle \\quad \\text{Site index: } 1$"
      ],
      "text/plain": [
       "<IPython.core.display.Math object>"
      ]
     },
     "metadata": {},
     "output_type": "display_data"
    },
    {
     "data": {
      "text/latex": [
       "$\\displaystyle \\quad \\quad c_{1}\\,|1 1 1 0 0\\rangle = -\\left|10100\\right\\rangle$"
      ],
      "text/plain": [
       "<IPython.core.display.Math object>"
      ]
     },
     "metadata": {},
     "output_type": "display_data"
    },
    {
     "data": {
      "text/latex": [
       "$\\displaystyle \\quad \\text{Site index: } 2$"
      ],
      "text/plain": [
       "<IPython.core.display.Math object>"
      ]
     },
     "metadata": {},
     "output_type": "display_data"
    },
    {
     "data": {
      "text/latex": [
       "$\\displaystyle \\quad \\quad c_{2}\\,|1 1 1 0 0\\rangle = \\left|11000\\right\\rangle$"
      ],
      "text/plain": [
       "<IPython.core.display.Math object>"
      ]
     },
     "metadata": {},
     "output_type": "display_data"
    },
    {
     "data": {
      "text/latex": [
       "$\\displaystyle \\quad \\text{Site index: } 3$"
      ],
      "text/plain": [
       "<IPython.core.display.Math object>"
      ]
     },
     "metadata": {},
     "output_type": "display_data"
    },
    {
     "data": {
      "text/latex": [
       "$\\displaystyle \\quad \\quad c_{3}\\,|1 1 1 0 0\\rangle = 0$"
      ],
      "text/plain": [
       "<IPython.core.display.Math object>"
      ]
     },
     "metadata": {},
     "output_type": "display_data"
    },
    {
     "data": {
      "text/latex": [
       "$\\displaystyle \\quad \\text{Site index: } 4$"
      ],
      "text/plain": [
       "<IPython.core.display.Math object>"
      ]
     },
     "metadata": {},
     "output_type": "display_data"
    },
    {
     "data": {
      "text/latex": [
       "$\\displaystyle \\quad \\quad c_{4}\\,|1 1 1 0 0\\rangle = 0$"
      ],
      "text/plain": [
       "<IPython.core.display.Math object>"
      ]
     },
     "metadata": {},
     "output_type": "display_data"
    },
    {
     "data": {
      "text/latex": [
       "$\\displaystyle \\text{Operator: } c^\\dag, \\text{typeacting}: OperatorTypeActing.Local$"
      ],
      "text/plain": [
       "<IPython.core.display.Math object>"
      ]
     },
     "metadata": {},
     "output_type": "display_data"
    },
    {
     "data": {
      "text/latex": [
       "$\\displaystyle \\quad \\text{Site index: } 0$"
      ],
      "text/plain": [
       "<IPython.core.display.Math object>"
      ]
     },
     "metadata": {},
     "output_type": "display_data"
    },
    {
     "data": {
      "text/latex": [
       "$\\displaystyle \\quad \\quad c^\\dag_{0}\\,|1 1 1 0 0\\rangle = 0$"
      ],
      "text/plain": [
       "<IPython.core.display.Math object>"
      ]
     },
     "metadata": {},
     "output_type": "display_data"
    },
    {
     "data": {
      "text/latex": [
       "$\\displaystyle \\quad \\text{Site index: } 1$"
      ],
      "text/plain": [
       "<IPython.core.display.Math object>"
      ]
     },
     "metadata": {},
     "output_type": "display_data"
    },
    {
     "data": {
      "text/latex": [
       "$\\displaystyle \\quad \\quad c^\\dag_{1}\\,|1 1 1 0 0\\rangle = 0$"
      ],
      "text/plain": [
       "<IPython.core.display.Math object>"
      ]
     },
     "metadata": {},
     "output_type": "display_data"
    },
    {
     "data": {
      "text/latex": [
       "$\\displaystyle \\quad \\text{Site index: } 2$"
      ],
      "text/plain": [
       "<IPython.core.display.Math object>"
      ]
     },
     "metadata": {},
     "output_type": "display_data"
    },
    {
     "data": {
      "text/latex": [
       "$\\displaystyle \\quad \\quad c^\\dag_{2}\\,|1 1 1 0 0\\rangle = 0$"
      ],
      "text/plain": [
       "<IPython.core.display.Math object>"
      ]
     },
     "metadata": {},
     "output_type": "display_data"
    },
    {
     "data": {
      "text/latex": [
       "$\\displaystyle \\quad \\text{Site index: } 3$"
      ],
      "text/plain": [
       "<IPython.core.display.Math object>"
      ]
     },
     "metadata": {},
     "output_type": "display_data"
    },
    {
     "data": {
      "text/latex": [
       "$\\displaystyle \\quad \\quad c^\\dag_{3}\\,|1 1 1 0 0\\rangle = -\\left|11110\\right\\rangle$"
      ],
      "text/plain": [
       "<IPython.core.display.Math object>"
      ]
     },
     "metadata": {},
     "output_type": "display_data"
    },
    {
     "data": {
      "text/latex": [
       "$\\displaystyle \\quad \\text{Site index: } 4$"
      ],
      "text/plain": [
       "<IPython.core.display.Math object>"
      ]
     },
     "metadata": {},
     "output_type": "display_data"
    },
    {
     "data": {
      "text/latex": [
       "$\\displaystyle \\quad \\quad c^\\dag_{4}\\,|1 1 1 0 0\\rangle = -\\left|11101\\right\\rangle$"
      ],
      "text/plain": [
       "<IPython.core.display.Math object>"
      ]
     },
     "metadata": {},
     "output_type": "display_data"
    },
    {
     "data": {
      "text/latex": [
       "$\\displaystyle \\text{Operator: } n, \\text{typeacting}: OperatorTypeActing.Local$"
      ],
      "text/plain": [
       "<IPython.core.display.Math object>"
      ]
     },
     "metadata": {},
     "output_type": "display_data"
    },
    {
     "data": {
      "text/latex": [
       "$\\displaystyle \\quad \\text{Site index: } 0$"
      ],
      "text/plain": [
       "<IPython.core.display.Math object>"
      ]
     },
     "metadata": {},
     "output_type": "display_data"
    },
    {
     "data": {
      "text/latex": [
       "$\\displaystyle \\quad \\quad n_{0}\\,|1 1 1 0 0\\rangle = \\left|11100\\right\\rangle$"
      ],
      "text/plain": [
       "<IPython.core.display.Math object>"
      ]
     },
     "metadata": {},
     "output_type": "display_data"
    },
    {
     "data": {
      "text/latex": [
       "$\\displaystyle \\quad \\text{Site index: } 1$"
      ],
      "text/plain": [
       "<IPython.core.display.Math object>"
      ]
     },
     "metadata": {},
     "output_type": "display_data"
    },
    {
     "data": {
      "text/latex": [
       "$\\displaystyle \\quad \\quad n_{1}\\,|1 1 1 0 0\\rangle = \\left|11100\\right\\rangle$"
      ],
      "text/plain": [
       "<IPython.core.display.Math object>"
      ]
     },
     "metadata": {},
     "output_type": "display_data"
    },
    {
     "data": {
      "text/latex": [
       "$\\displaystyle \\quad \\text{Site index: } 2$"
      ],
      "text/plain": [
       "<IPython.core.display.Math object>"
      ]
     },
     "metadata": {},
     "output_type": "display_data"
    },
    {
     "data": {
      "text/latex": [
       "$\\displaystyle \\quad \\quad n_{2}\\,|1 1 1 0 0\\rangle = \\left|11100\\right\\rangle$"
      ],
      "text/plain": [
       "<IPython.core.display.Math object>"
      ]
     },
     "metadata": {},
     "output_type": "display_data"
    },
    {
     "data": {
      "text/latex": [
       "$\\displaystyle \\quad \\text{Site index: } 3$"
      ],
      "text/plain": [
       "<IPython.core.display.Math object>"
      ]
     },
     "metadata": {},
     "output_type": "display_data"
    },
    {
     "data": {
      "text/latex": [
       "$\\displaystyle \\quad \\quad n_{3}\\,|1 1 1 0 0\\rangle = 0$"
      ],
      "text/plain": [
       "<IPython.core.display.Math object>"
      ]
     },
     "metadata": {},
     "output_type": "display_data"
    },
    {
     "data": {
      "text/latex": [
       "$\\displaystyle \\quad \\text{Site index: } 4$"
      ],
      "text/plain": [
       "<IPython.core.display.Math object>"
      ]
     },
     "metadata": {},
     "output_type": "display_data"
    },
    {
     "data": {
      "text/latex": [
       "$\\displaystyle \\quad \\quad n_{4}\\,|1 1 1 0 0\\rangle = 0$"
      ],
      "text/plain": [
       "<IPython.core.display.Math object>"
      ]
     },
     "metadata": {},
     "output_type": "display_data"
    },
    {
     "name": "stdout",
     "output_type": "stream",
     "text": [
      "Operator action: 823290.292000 us\n"
     ]
    }
   ],
   "source": [
    "test_operator_on_state(\n",
    "    op          = operators_l,\n",
    "    lat         = lat,\n",
    "    state       = np_state,\n",
    "    op_acting   = op_sferm.OperatorTypeActing.Local,\n",
    "    op_label    = labels_l,\n",
    "    to_bin      = None,\n",
    "    just_time   = False\n",
    ")"
   ]
  },
  {
   "cell_type": "code",
   "execution_count": null,
   "id": "0d01a96c",
   "metadata": {},
   "outputs": [],
   "source": []
  }
 ],
 "metadata": {
  "kernelspec": {
   "display_name": "base",
   "language": "python",
   "name": "python3"
  },
  "language_info": {
   "codemirror_mode": {
    "name": "ipython",
    "version": 3
   },
   "file_extension": ".py",
   "mimetype": "text/x-python",
   "name": "python",
   "nbconvert_exporter": "python",
   "pygments_lexer": "ipython3",
   "version": "3.12.2"
  }
 },
 "nbformat": 4,
 "nbformat_minor": 5
}
