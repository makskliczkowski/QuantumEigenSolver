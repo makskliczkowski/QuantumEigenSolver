{
 "cells": [
  {
   "cell_type": "code",
   "execution_count": 2,
   "id": "49806205",
   "metadata": {},
   "outputs": [
    {
     "name": "stdout",
     "output_type": "stream",
     "text": [
      "12_05_2025_21-36_25 [INFO] JAX backend available and successfully imported\n",
      "12_05_2025_21-36_25 [INFO] \tJAX 64-bit precision enabled.\n"
     ]
    },
    {
     "name": "stderr",
     "output_type": "stream",
     "text": [
      "WARNING:2025-05-12 21:36:25,810:jax._src.interpreters.pxla:1912: Compiling convert_element_type with global shapes and types [ShapedArray(int64[])]. Argument mapping: (UnspecifiedValue,).\n",
      "WARNING:2025-05-12 21:36:25,816:jax._src.dispatch:190: Finished jaxpr to MLIR module conversion jit(convert_element_type) in 0.005558729 sec\n",
      "WARNING:2025-05-12 21:36:25,823:jax._src.dispatch:190: Finished XLA compilation of jit(convert_element_type) in 0.006671429 sec\n",
      "WARNING:2025-05-12 21:36:25,825:jax._src.dispatch:190: Finished tracing + transforming bitwise_and for pjit in 0.000256300 sec\n",
      "WARNING:2025-05-12 21:36:25,826:jax._src.dispatch:190: Finished tracing + transforming _threefry_seed for pjit in 0.001555443 sec\n",
      "WARNING:2025-05-12 21:36:25,826:jax._src.interpreters.pxla:1912: Compiling _threefry_seed with global shapes and types [ShapedArray(int64[])]. Argument mapping: (UnspecifiedValue,).\n",
      "WARNING:2025-05-12 21:36:25,829:jax._src.dispatch:190: Finished jaxpr to MLIR module conversion jit(_threefry_seed) in 0.002580881 sec\n",
      "WARNING:2025-05-12 21:36:25,837:jax._src.dispatch:190: Finished XLA compilation of jit(_threefry_seed) in 0.007897377 sec\n"
     ]
    },
    {
     "name": "stdout",
     "output_type": "stream",
     "text": [
      "12_05_2025_21-36_25 [INFO] Setting JAX as the active backend.\n",
      "12_05_2025_21-36_25 [INFO] **************************************************\n",
      "12_05_2025_21-36_25 [INFO] Backend Configuration:\n",
      "12_05_2025_21-36_25 [INFO] \t\tNumPy Version: 1.26.4\n",
      "12_05_2025_21-36_25 [INFO] \t\tSciPy Version: 1.13.1\n",
      "12_05_2025_21-36_25 [INFO] \t\tJAX Version: 0.5.3\n",
      "12_05_2025_21-36_25 [INFO] \t\tActive Backend: jax\n",
      "12_05_2025_21-36_25 [INFO] \t\t\tJAX Available: True\n",
      "12_05_2025_21-36_25 [INFO] \t\t\tDefault Seed: 42\n",
      "12_05_2025_21-36_25 [INFO] \t\tJAX Backend Details:\n",
      "12_05_2025_21-36_25 [INFO] \t\t\t\tMain Module: jax.numpy\n",
      "12_05_2025_21-36_25 [INFO] \t\t\t\tRandom Module: jax.random (+ PRNGKey)\n",
      "12_05_2025_21-36_25 [INFO] \t\t\t\tSciPy Module: jax.scipy\n",
      "12_05_2025_21-36_25 [INFO] \t\t\t\tDefault JAX Key: PRNGKey(42)\n",
      "12_05_2025_21-36_25 [INFO] \t\tActive Data Types:\n",
      "12_05_2025_21-36_25 [INFO] \t\t\t\tInteger Type: int64\n",
      "12_05_2025_21-36_25 [INFO] \t\t\t\tFloat Type: float64\n",
      "12_05_2025_21-36_25 [INFO] \t\t\t\tComplex Type: complex128\n",
      "12_05_2025_21-36_25 [INFO] \t\tHardware & Device Detection:\n",
      "12_05_2025_21-36_25 [INFO] \t\t\tCPU Cores: 48\n",
      "12_05_2025_21-36_25 [INFO] \t\t\tDetected JAX Platform: DETECTION FAILED\n",
      "12_05_2025_21-36_25 [INFO] \t\tJAX Devices Found: Detection Failed or Not Run\n",
      "12_05_2025_21-36_25 [INFO] **************************************************\n",
      "\n",
      "\n",
      "\n"
     ]
    },
    {
     "name": "stderr",
     "output_type": "stream",
     "text": [
      "WARNING:2025-05-12 21:36:25,870:jax._src.dispatch:190: Finished tracing + transforming convert_element_type for pjit in 0.000193834 sec\n",
      "WARNING:2025-05-12 21:36:25,870:jax._src.interpreters.pxla:1912: Compiling convert_element_type with global shapes and types [ShapedArray(int64[63])]. Argument mapping: (UnspecifiedValue,).\n",
      "WARNING:2025-05-12 21:36:25,872:jax._src.dispatch:190: Finished jaxpr to MLIR module conversion jit(convert_element_type) in 0.001732111 sec\n",
      "WARNING:2025-05-12 21:36:25,876:jax._src.dispatch:190: Finished XLA compilation of jit(convert_element_type) in 0.003482819 sec\n",
      "WARNING:2025-05-12 21:36:25,878:jax._src.dispatch:190: Finished tracing + transforming convert_element_type for pjit in 0.000146389 sec\n",
      "WARNING:2025-05-12 21:36:25,878:jax._src.interpreters.pxla:1912: Compiling convert_element_type with global shapes and types [ShapedArray(int64[256])]. Argument mapping: (UnspecifiedValue,).\n",
      "WARNING:2025-05-12 21:36:25,879:jax._src.dispatch:190: Finished jaxpr to MLIR module conversion jit(convert_element_type) in 0.001114130 sec\n",
      "WARNING:2025-05-12 21:36:25,883:jax._src.dispatch:190: Finished XLA compilation of jit(convert_element_type) in 0.002990246 sec\n",
      "WARNING:2025-05-12 21:36:25,891:jax._src.dispatch:190: Finished tracing + transforming convert_element_type for pjit in 0.000218391 sec\n",
      "WARNING:2025-05-12 21:36:25,891:jax._src.interpreters.pxla:1912: Compiling convert_element_type with global shapes and types [ShapedArray(float64[2,2])]. Argument mapping: (UnspecifiedValue,).\n",
      "WARNING:2025-05-12 21:36:25,893:jax._src.dispatch:190: Finished jaxpr to MLIR module conversion jit(convert_element_type) in 0.001423120 sec\n",
      "WARNING:2025-05-12 21:36:25,897:jax._src.dispatch:190: Finished XLA compilation of jit(convert_element_type) in 0.003219366 sec\n",
      "WARNING:2025-05-12 21:36:25,898:jax._src.dispatch:190: Finished tracing + transforming convert_element_type for pjit in 0.000117779 sec\n",
      "WARNING:2025-05-12 21:36:25,898:jax._src.interpreters.pxla:1912: Compiling convert_element_type with global shapes and types [ShapedArray(complex128[2,2])]. Argument mapping: (UnspecifiedValue,).\n",
      "WARNING:2025-05-12 21:36:25,899:jax._src.dispatch:190: Finished jaxpr to MLIR module conversion jit(convert_element_type) in 0.001016855 sec\n",
      "WARNING:2025-05-12 21:36:25,903:jax._src.dispatch:190: Finished XLA compilation of jit(convert_element_type) in 0.002829552 sec\n"
     ]
    }
   ],
   "source": [
    "import sys\n",
    "import os\n",
    "import numpy as np\n",
    "from typing import Union, List, Sequence, Optional\n",
    "\n",
    "# Add the parent directory (project root) to sys.path\n",
    "script_dir              = os.path.dirname(os.curdir)\n",
    "parent_dir              = os.path.abspath(os.path.join(script_dir, '..'))\n",
    "if parent_dir not in sys.path:\n",
    "    sys.path.append(parent_dir)\n",
    "\n",
    "import QES.general_python.common.binary as _bin_mod\n",
    "from QES.general_python.lattices.honeycomb import HoneycombLattice\n",
    "from QES.general_python.lattices.square import SquareLattice\n",
    "from QES.general_python.lattices.lattice import LatticeBC, Lattice\n",
    "from QES.general_python.common.timer import Timer\n",
    "\n",
    "#! General\n",
    "from QES.Algebra.Operator.operator import (\n",
    "    initial_states,\n",
    "    test_operator_on_state,\n",
    "    OperatorTypeActing,\n",
    "    Operator, JAX_AVAILABLE\n",
    ")\n",
    "\n",
    "#! Spin operators\n",
    "import QES.Algebra.Operator.operators_spin as op_spin\n",
    "#! Fermionic operators\n",
    "import QES.Algebra.Operator.operators_spinless_fermions as op_sferm\n",
    "\n",
    "\n",
    "#! Backends\n",
    "if JAX_AVAILABLE:\n",
    "    import jax\n",
    "    import jax.numpy as jnp\n",
    "else:\n",
    "    jax = None\n",
    "    jnp = None\n",
    "    \n",
    "backend = 'np'\n",
    "lat     = SquareLattice(dim     = 1,\n",
    "                        lx      = 5,\n",
    "                        ly      = 1,\n",
    "                        lz      = 1,\n",
    "                        bc      = LatticeBC.PBC)\n",
    "test_mult = True\n",
    "test_mult = False\n",
    "# ------------------------------------------------------------------"
   ]
  },
  {
   "cell_type": "markdown",
   "id": "9ea8da02",
   "metadata": {},
   "source": [
    "## Spin operators $\\sigma^x$, $\\sigma^y$, $\\sigma^z$\n",
    "\n",
    "The Pauli matrices are defined as:\n",
    "$$\n",
    "\\sigma^x = \\begin{pmatrix}\n",
    "0 & 1 \\\\\n",
    "1 & 0\n",
    "\\end{pmatrix}, \\quad\n",
    "\\sigma^y = \\begin{pmatrix}\n",
    "0 & -i \\\\\n",
    "-i & 0\n",
    "\\end{pmatrix}, \\quad\n",
    "\\sigma^z = \\begin{pmatrix}\n",
    "1 & 0 \\\\\n",
    "0 & -1\n",
    "\\end{pmatrix}\n",
    "$$"
   ]
  },
  {
   "cell_type": "markdown",
   "id": "54de3ab4",
   "metadata": {},
   "source": [
    "### a) Local operators"
   ]
  },
  {
   "cell_type": "code",
   "execution_count": 25,
   "id": "59e4d3ac",
   "metadata": {},
   "outputs": [
    {
     "name": "stdout",
     "output_type": "stream",
     "text": [
      "Acting on OperatorTypeActing.Local sites\n",
      "2\n"
     ]
    },
    {
     "data": {
      "text/latex": [
       "$\\displaystyle \\text{Integer state: }\\,\\left|(10)\\,01010\\right\\rangle$"
      ],
      "text/plain": [
       "<IPython.core.display.Math object>"
      ]
     },
     "metadata": {},
     "output_type": "display_data"
    },
    {
     "data": {
      "text/latex": [
       "$\\displaystyle \\text{NumPy state: }\\,|0 1 0 1 0\\rangle$"
      ],
      "text/plain": [
       "<IPython.core.display.Math object>"
      ]
     },
     "metadata": {},
     "output_type": "display_data"
    },
    {
     "data": {
      "text/latex": [
       "$\\displaystyle \\text{JAX state: }\\,|0 1 0 1 0\\rangle$"
      ],
      "text/plain": [
       "<IPython.core.display.Math object>"
      ]
     },
     "metadata": {},
     "output_type": "display_data"
    }
   ],
   "source": [
    "type_act = OperatorTypeActing.Local\n",
    "print(f'Acting on {type_act} sites')\n",
    "print(f\"{type_act.value}\")\n",
    "\n",
    "sig_x_l = op_spin.sig_x(\n",
    "    lattice  = lat,\n",
    "    type_act = type_act,\n",
    "    spin     = False\n",
    ")\n",
    "sig_y_l = op_spin.sig_y(\n",
    "    lattice  = lat,\n",
    "    type_act = type_act,\n",
    "    spin     = False\n",
    ")\n",
    "sig_z_l = op_spin.sig_z(\n",
    "    lattice  = lat,\n",
    "    type_act = type_act,\n",
    "    spin     = False\n",
    ")\n",
    "sig_p_l = op_spin.sig_p(\n",
    "    lattice  = lat,\n",
    "    type_act = type_act,\n",
    "    spin     = False\n",
    ")\n",
    "sig_m_l = op_spin.sig_m(\n",
    "    lattice  = lat,\n",
    "    type_act = type_act,\n",
    "    spin     = False\n",
    ")\n",
    "sig_pm_l = op_spin.sig_pm(\n",
    "    lattice  = lat,\n",
    "    type_act = type_act,\n",
    "    spin     = False\n",
    ")\n",
    "sig_mp_l = op_spin.sig_mp(\n",
    "    lattice  = lat,\n",
    "    type_act = type_act,\n",
    "    spin     = False\n",
    ")\n",
    "sig_k_l = op_spin.sig_k(\n",
    "    lattice  = lat,\n",
    "    type_act = type_act,\n",
    "    k        = np.pi * 2.0 / lat.ns,\n",
    "    spin     = False\n",
    ")\n",
    "sig_x_sig_x_l = sig_x_l * sig_x_l\n",
    "sig_z_sig_x_l = sig_z_l * sig_x_l\n",
    "sig_x_sig_z_l = sig_x_l * sig_z_l\n",
    "\n",
    "operators_l  = [sig_x_l, sig_y_l, sig_z_l, sig_p_l, sig_m_l, sig_pm_l, sig_mp_l, sig_k_l] if not test_mult else [sig_x_sig_x_l, sig_z_sig_x_l, sig_x_sig_z_l]\n",
    "labels_l     = ['\\\\sigma^x', '\\\\sigma^y', '\\\\sigma^z', \n",
    "                '\\\\sigma^+', '\\\\sigma^-', \n",
    "                '[\\\\sigma^+]\\\\sigma^{\\\\pm}', '[\\\\sigma^-]\\\\sigma^{\\\\mp}', \n",
    "                '\\\\sigma^k'][:len(operators_l)] if not test_mult else ['(\\\\sigma^x\\\\sigma^x)', '(\\\\sigma^z\\\\sigma^x)', '(\\\\sigma^x\\\\sigma^z)']\n",
    "# create a set of states and test it\n",
    "int_state, np_state, jnp_state = initial_states(lat.ns, display=True)"
   ]
  },
  {
   "cell_type": "markdown",
   "id": "aa380d42",
   "metadata": {},
   "source": [
    "#### i) Integer states"
   ]
  },
  {
   "cell_type": "code",
   "execution_count": 26,
   "id": "2d834af1",
   "metadata": {},
   "outputs": [
    {
     "name": "stdout",
     "output_type": "stream",
     "text": [
      "Operator action: 1384526.536000 us\n"
     ]
    }
   ],
   "source": [
    "test_operator_on_state(\n",
    "    op          = operators_l,\n",
    "    lat         = lat,\n",
    "    state       = int_state,\n",
    "    op_acting   = type_act,\n",
    "    op_label    = labels_l,\n",
    "    to_bin      = None,\n",
    "    just_time   = True\n",
    ")\n"
   ]
  },
  {
   "cell_type": "markdown",
   "id": "2b481ceb",
   "metadata": {},
   "source": [
    "#### ii) Numpy states"
   ]
  },
  {
   "cell_type": "code",
   "execution_count": 6,
   "id": "132a408f",
   "metadata": {},
   "outputs": [
    {
     "name": "stdout",
     "output_type": "stream",
     "text": [
      "Operator action: 275.384000 us\n"
     ]
    }
   ],
   "source": [
    "test_operator_on_state(\n",
    "    op          = operators_l,\n",
    "    lat         = lat,\n",
    "    state       = np_state,\n",
    "    op_acting   = OperatorTypeActing.Local,\n",
    "    op_label    = labels_l,\n",
    "    to_bin      = None,\n",
    "    just_time   = True\n",
    ")\n"
   ]
  },
  {
   "cell_type": "markdown",
   "id": "b20548f9",
   "metadata": {},
   "source": [
    "#### iii) JAX states"
   ]
  },
  {
   "cell_type": "code",
   "execution_count": 39,
   "id": "0fa3f906",
   "metadata": {},
   "outputs": [
    {
     "data": {
      "text/latex": [
       "$\\displaystyle \\text{Initial integer state (Ns=5): }\\,|0 1 0 1 0\\rangle$"
      ],
      "text/plain": [
       "<IPython.core.display.Math object>"
      ]
     },
     "metadata": {},
     "output_type": "display_data"
    },
    {
     "data": {
      "text/latex": [
       "$\\displaystyle \\text{Operator: } \\sigma^x, \\text{typeacting}: OperatorTypeActing.Local$"
      ],
      "text/plain": [
       "<IPython.core.display.Math object>"
      ]
     },
     "metadata": {},
     "output_type": "display_data"
    },
    {
     "data": {
      "text/latex": [
       "$\\displaystyle \\quad \\text{Site index: } 0$"
      ],
      "text/plain": [
       "<IPython.core.display.Math object>"
      ]
     },
     "metadata": {},
     "output_type": "display_data"
    },
    {
     "data": {
      "text/latex": [
       "$\\displaystyle \\quad \\quad \\sigma^x_{0}\\,|0 1 0 1 0\\rangle = 0.5\\left|11010\\right\\rangle$"
      ],
      "text/plain": [
       "<IPython.core.display.Math object>"
      ]
     },
     "metadata": {},
     "output_type": "display_data"
    },
    {
     "data": {
      "text/latex": [
       "$\\displaystyle \\quad \\text{Site index: } 1$"
      ],
      "text/plain": [
       "<IPython.core.display.Math object>"
      ]
     },
     "metadata": {},
     "output_type": "display_data"
    },
    {
     "data": {
      "text/latex": [
       "$\\displaystyle \\quad \\quad \\sigma^x_{1}\\,|0 1 0 1 0\\rangle = 0.5\\left|00010\\right\\rangle$"
      ],
      "text/plain": [
       "<IPython.core.display.Math object>"
      ]
     },
     "metadata": {},
     "output_type": "display_data"
    },
    {
     "data": {
      "text/latex": [
       "$\\displaystyle \\quad \\text{Site index: } 2$"
      ],
      "text/plain": [
       "<IPython.core.display.Math object>"
      ]
     },
     "metadata": {},
     "output_type": "display_data"
    },
    {
     "data": {
      "text/latex": [
       "$\\displaystyle \\quad \\quad \\sigma^x_{2}\\,|0 1 0 1 0\\rangle = 0.5\\left|01110\\right\\rangle$"
      ],
      "text/plain": [
       "<IPython.core.display.Math object>"
      ]
     },
     "metadata": {},
     "output_type": "display_data"
    },
    {
     "data": {
      "text/latex": [
       "$\\displaystyle \\quad \\text{Site index: } 3$"
      ],
      "text/plain": [
       "<IPython.core.display.Math object>"
      ]
     },
     "metadata": {},
     "output_type": "display_data"
    },
    {
     "data": {
      "text/latex": [
       "$\\displaystyle \\quad \\quad \\sigma^x_{3}\\,|0 1 0 1 0\\rangle = 0.5\\left|01000\\right\\rangle$"
      ],
      "text/plain": [
       "<IPython.core.display.Math object>"
      ]
     },
     "metadata": {},
     "output_type": "display_data"
    },
    {
     "data": {
      "text/latex": [
       "$\\displaystyle \\quad \\text{Site index: } 4$"
      ],
      "text/plain": [
       "<IPython.core.display.Math object>"
      ]
     },
     "metadata": {},
     "output_type": "display_data"
    },
    {
     "data": {
      "text/latex": [
       "$\\displaystyle \\quad \\quad \\sigma^x_{4}\\,|0 1 0 1 0\\rangle = 0.5\\left|01011\\right\\rangle$"
      ],
      "text/plain": [
       "<IPython.core.display.Math object>"
      ]
     },
     "metadata": {},
     "output_type": "display_data"
    },
    {
     "data": {
      "text/latex": [
       "$\\displaystyle \\text{Operator: } \\sigma^y, \\text{typeacting}: OperatorTypeActing.Local$"
      ],
      "text/plain": [
       "<IPython.core.display.Math object>"
      ]
     },
     "metadata": {},
     "output_type": "display_data"
    },
    {
     "data": {
      "text/latex": [
       "$\\displaystyle \\quad \\text{Site index: } 0$"
      ],
      "text/plain": [
       "<IPython.core.display.Math object>"
      ]
     },
     "metadata": {},
     "output_type": "display_data"
    },
    {
     "data": {
      "text/latex": [
       "$\\displaystyle \\quad \\quad \\sigma^y_{0}\\,|0 1 0 1 0\\rangle = -0.5j\\left|11010\\right\\rangle$"
      ],
      "text/plain": [
       "<IPython.core.display.Math object>"
      ]
     },
     "metadata": {},
     "output_type": "display_data"
    },
    {
     "data": {
      "text/latex": [
       "$\\displaystyle \\quad \\text{Site index: } 1$"
      ],
      "text/plain": [
       "<IPython.core.display.Math object>"
      ]
     },
     "metadata": {},
     "output_type": "display_data"
    },
    {
     "data": {
      "text/latex": [
       "$\\displaystyle \\quad \\quad \\sigma^y_{1}\\,|0 1 0 1 0\\rangle = 0.5j\\left|00010\\right\\rangle$"
      ],
      "text/plain": [
       "<IPython.core.display.Math object>"
      ]
     },
     "metadata": {},
     "output_type": "display_data"
    },
    {
     "data": {
      "text/latex": [
       "$\\displaystyle \\quad \\text{Site index: } 2$"
      ],
      "text/plain": [
       "<IPython.core.display.Math object>"
      ]
     },
     "metadata": {},
     "output_type": "display_data"
    },
    {
     "data": {
      "text/latex": [
       "$\\displaystyle \\quad \\quad \\sigma^y_{2}\\,|0 1 0 1 0\\rangle = -0.5j\\left|01110\\right\\rangle$"
      ],
      "text/plain": [
       "<IPython.core.display.Math object>"
      ]
     },
     "metadata": {},
     "output_type": "display_data"
    },
    {
     "data": {
      "text/latex": [
       "$\\displaystyle \\quad \\text{Site index: } 3$"
      ],
      "text/plain": [
       "<IPython.core.display.Math object>"
      ]
     },
     "metadata": {},
     "output_type": "display_data"
    },
    {
     "data": {
      "text/latex": [
       "$\\displaystyle \\quad \\quad \\sigma^y_{3}\\,|0 1 0 1 0\\rangle = 0.5j\\left|01000\\right\\rangle$"
      ],
      "text/plain": [
       "<IPython.core.display.Math object>"
      ]
     },
     "metadata": {},
     "output_type": "display_data"
    },
    {
     "data": {
      "text/latex": [
       "$\\displaystyle \\quad \\text{Site index: } 4$"
      ],
      "text/plain": [
       "<IPython.core.display.Math object>"
      ]
     },
     "metadata": {},
     "output_type": "display_data"
    },
    {
     "data": {
      "text/latex": [
       "$\\displaystyle \\quad \\quad \\sigma^y_{4}\\,|0 1 0 1 0\\rangle = -0.5j\\left|01011\\right\\rangle$"
      ],
      "text/plain": [
       "<IPython.core.display.Math object>"
      ]
     },
     "metadata": {},
     "output_type": "display_data"
    },
    {
     "data": {
      "text/latex": [
       "$\\displaystyle \\text{Operator: } \\sigma^z, \\text{typeacting}: OperatorTypeActing.Local$"
      ],
      "text/plain": [
       "<IPython.core.display.Math object>"
      ]
     },
     "metadata": {},
     "output_type": "display_data"
    },
    {
     "data": {
      "text/latex": [
       "$\\displaystyle \\quad \\text{Site index: } 0$"
      ],
      "text/plain": [
       "<IPython.core.display.Math object>"
      ]
     },
     "metadata": {},
     "output_type": "display_data"
    },
    {
     "data": {
      "text/latex": [
       "$\\displaystyle \\quad \\quad \\sigma^z_{0}\\,|0 1 0 1 0\\rangle = -0.5\\left|01010\\right\\rangle$"
      ],
      "text/plain": [
       "<IPython.core.display.Math object>"
      ]
     },
     "metadata": {},
     "output_type": "display_data"
    },
    {
     "data": {
      "text/latex": [
       "$\\displaystyle \\quad \\text{Site index: } 1$"
      ],
      "text/plain": [
       "<IPython.core.display.Math object>"
      ]
     },
     "metadata": {},
     "output_type": "display_data"
    },
    {
     "data": {
      "text/latex": [
       "$\\displaystyle \\quad \\quad \\sigma^z_{1}\\,|0 1 0 1 0\\rangle = 0.5\\left|01010\\right\\rangle$"
      ],
      "text/plain": [
       "<IPython.core.display.Math object>"
      ]
     },
     "metadata": {},
     "output_type": "display_data"
    },
    {
     "data": {
      "text/latex": [
       "$\\displaystyle \\quad \\text{Site index: } 2$"
      ],
      "text/plain": [
       "<IPython.core.display.Math object>"
      ]
     },
     "metadata": {},
     "output_type": "display_data"
    },
    {
     "data": {
      "text/latex": [
       "$\\displaystyle \\quad \\quad \\sigma^z_{2}\\,|0 1 0 1 0\\rangle = -0.5\\left|01010\\right\\rangle$"
      ],
      "text/plain": [
       "<IPython.core.display.Math object>"
      ]
     },
     "metadata": {},
     "output_type": "display_data"
    },
    {
     "data": {
      "text/latex": [
       "$\\displaystyle \\quad \\text{Site index: } 3$"
      ],
      "text/plain": [
       "<IPython.core.display.Math object>"
      ]
     },
     "metadata": {},
     "output_type": "display_data"
    },
    {
     "data": {
      "text/latex": [
       "$\\displaystyle \\quad \\quad \\sigma^z_{3}\\,|0 1 0 1 0\\rangle = 0.5\\left|01010\\right\\rangle$"
      ],
      "text/plain": [
       "<IPython.core.display.Math object>"
      ]
     },
     "metadata": {},
     "output_type": "display_data"
    },
    {
     "data": {
      "text/latex": [
       "$\\displaystyle \\quad \\text{Site index: } 4$"
      ],
      "text/plain": [
       "<IPython.core.display.Math object>"
      ]
     },
     "metadata": {},
     "output_type": "display_data"
    },
    {
     "data": {
      "text/latex": [
       "$\\displaystyle \\quad \\quad \\sigma^z_{4}\\,|0 1 0 1 0\\rangle = -0.5\\left|01010\\right\\rangle$"
      ],
      "text/plain": [
       "<IPython.core.display.Math object>"
      ]
     },
     "metadata": {},
     "output_type": "display_data"
    },
    {
     "data": {
      "text/latex": [
       "$\\displaystyle \\text{Operator: } \\sigma^+, \\text{typeacting}: OperatorTypeActing.Local$"
      ],
      "text/plain": [
       "<IPython.core.display.Math object>"
      ]
     },
     "metadata": {},
     "output_type": "display_data"
    },
    {
     "data": {
      "text/latex": [
       "$\\displaystyle \\quad \\text{Site index: } 0$"
      ],
      "text/plain": [
       "<IPython.core.display.Math object>"
      ]
     },
     "metadata": {},
     "output_type": "display_data"
    },
    {
     "data": {
      "text/latex": [
       "$\\displaystyle \\quad \\quad \\sigma^+_{0}\\,|0 1 0 1 0\\rangle = 0.5\\left|11010\\right\\rangle$"
      ],
      "text/plain": [
       "<IPython.core.display.Math object>"
      ]
     },
     "metadata": {},
     "output_type": "display_data"
    },
    {
     "data": {
      "text/latex": [
       "$\\displaystyle \\quad \\text{Site index: } 1$"
      ],
      "text/plain": [
       "<IPython.core.display.Math object>"
      ]
     },
     "metadata": {},
     "output_type": "display_data"
    },
    {
     "data": {
      "text/latex": [
       "$\\displaystyle \\quad \\quad \\sigma^+_{1}\\,|0 1 0 1 0\\rangle = 0$"
      ],
      "text/plain": [
       "<IPython.core.display.Math object>"
      ]
     },
     "metadata": {},
     "output_type": "display_data"
    },
    {
     "data": {
      "text/latex": [
       "$\\displaystyle \\quad \\text{Site index: } 2$"
      ],
      "text/plain": [
       "<IPython.core.display.Math object>"
      ]
     },
     "metadata": {},
     "output_type": "display_data"
    },
    {
     "data": {
      "text/latex": [
       "$\\displaystyle \\quad \\quad \\sigma^+_{2}\\,|0 1 0 1 0\\rangle = 0.5\\left|01110\\right\\rangle$"
      ],
      "text/plain": [
       "<IPython.core.display.Math object>"
      ]
     },
     "metadata": {},
     "output_type": "display_data"
    },
    {
     "data": {
      "text/latex": [
       "$\\displaystyle \\quad \\text{Site index: } 3$"
      ],
      "text/plain": [
       "<IPython.core.display.Math object>"
      ]
     },
     "metadata": {},
     "output_type": "display_data"
    },
    {
     "data": {
      "text/latex": [
       "$\\displaystyle \\quad \\quad \\sigma^+_{3}\\,|0 1 0 1 0\\rangle = 0$"
      ],
      "text/plain": [
       "<IPython.core.display.Math object>"
      ]
     },
     "metadata": {},
     "output_type": "display_data"
    },
    {
     "data": {
      "text/latex": [
       "$\\displaystyle \\quad \\text{Site index: } 4$"
      ],
      "text/plain": [
       "<IPython.core.display.Math object>"
      ]
     },
     "metadata": {},
     "output_type": "display_data"
    },
    {
     "data": {
      "text/latex": [
       "$\\displaystyle \\quad \\quad \\sigma^+_{4}\\,|0 1 0 1 0\\rangle = 0.5\\left|01011\\right\\rangle$"
      ],
      "text/plain": [
       "<IPython.core.display.Math object>"
      ]
     },
     "metadata": {},
     "output_type": "display_data"
    },
    {
     "data": {
      "text/latex": [
       "$\\displaystyle \\text{Operator: } \\sigma^-, \\text{typeacting}: OperatorTypeActing.Local$"
      ],
      "text/plain": [
       "<IPython.core.display.Math object>"
      ]
     },
     "metadata": {},
     "output_type": "display_data"
    },
    {
     "data": {
      "text/latex": [
       "$\\displaystyle \\quad \\text{Site index: } 0$"
      ],
      "text/plain": [
       "<IPython.core.display.Math object>"
      ]
     },
     "metadata": {},
     "output_type": "display_data"
    },
    {
     "data": {
      "text/latex": [
       "$\\displaystyle \\quad \\quad \\sigma^-_{0}\\,|0 1 0 1 0\\rangle = 0.5\\left|11010\\right\\rangle$"
      ],
      "text/plain": [
       "<IPython.core.display.Math object>"
      ]
     },
     "metadata": {},
     "output_type": "display_data"
    },
    {
     "data": {
      "text/latex": [
       "$\\displaystyle \\quad \\text{Site index: } 1$"
      ],
      "text/plain": [
       "<IPython.core.display.Math object>"
      ]
     },
     "metadata": {},
     "output_type": "display_data"
    },
    {
     "data": {
      "text/latex": [
       "$\\displaystyle \\quad \\quad \\sigma^-_{1}\\,|0 1 0 1 0\\rangle = 0$"
      ],
      "text/plain": [
       "<IPython.core.display.Math object>"
      ]
     },
     "metadata": {},
     "output_type": "display_data"
    },
    {
     "data": {
      "text/latex": [
       "$\\displaystyle \\quad \\text{Site index: } 2$"
      ],
      "text/plain": [
       "<IPython.core.display.Math object>"
      ]
     },
     "metadata": {},
     "output_type": "display_data"
    },
    {
     "data": {
      "text/latex": [
       "$\\displaystyle \\quad \\quad \\sigma^-_{2}\\,|0 1 0 1 0\\rangle = 0.5\\left|01110\\right\\rangle$"
      ],
      "text/plain": [
       "<IPython.core.display.Math object>"
      ]
     },
     "metadata": {},
     "output_type": "display_data"
    },
    {
     "data": {
      "text/latex": [
       "$\\displaystyle \\quad \\text{Site index: } 3$"
      ],
      "text/plain": [
       "<IPython.core.display.Math object>"
      ]
     },
     "metadata": {},
     "output_type": "display_data"
    },
    {
     "data": {
      "text/latex": [
       "$\\displaystyle \\quad \\quad \\sigma^-_{3}\\,|0 1 0 1 0\\rangle = 0$"
      ],
      "text/plain": [
       "<IPython.core.display.Math object>"
      ]
     },
     "metadata": {},
     "output_type": "display_data"
    },
    {
     "data": {
      "text/latex": [
       "$\\displaystyle \\quad \\text{Site index: } 4$"
      ],
      "text/plain": [
       "<IPython.core.display.Math object>"
      ]
     },
     "metadata": {},
     "output_type": "display_data"
    },
    {
     "data": {
      "text/latex": [
       "$\\displaystyle \\quad \\quad \\sigma^-_{4}\\,|0 1 0 1 0\\rangle = 0.5\\left|01011\\right\\rangle$"
      ],
      "text/plain": [
       "<IPython.core.display.Math object>"
      ]
     },
     "metadata": {},
     "output_type": "display_data"
    },
    {
     "data": {
      "text/latex": [
       "$\\displaystyle \\text{Operator: } [\\sigma^+]\\sigma^{\\pm}, \\text{typeacting}: OperatorTypeActing.Local$"
      ],
      "text/plain": [
       "<IPython.core.display.Math object>"
      ]
     },
     "metadata": {},
     "output_type": "display_data"
    },
    {
     "data": {
      "text/latex": [
       "$\\displaystyle \\quad \\text{Site index: } 0$"
      ],
      "text/plain": [
       "<IPython.core.display.Math object>"
      ]
     },
     "metadata": {},
     "output_type": "display_data"
    },
    {
     "data": {
      "text/latex": [
       "$\\displaystyle \\quad \\quad [\\sigma^+]\\sigma^{\\pm}_{0}\\,|0 1 0 1 0\\rangle = 1.0\\left|11010\\right\\rangle$"
      ],
      "text/plain": [
       "<IPython.core.display.Math object>"
      ]
     },
     "metadata": {},
     "output_type": "display_data"
    },
    {
     "data": {
      "text/latex": [
       "$\\displaystyle \\quad \\text{Site index: } 1$"
      ],
      "text/plain": [
       "<IPython.core.display.Math object>"
      ]
     },
     "metadata": {},
     "output_type": "display_data"
    },
    {
     "data": {
      "text/latex": [
       "$\\displaystyle \\quad \\quad [\\sigma^+]\\sigma^{\\pm}_{1}\\,|0 1 0 1 0\\rangle = 1.0\\left|01010\\right\\rangle$"
      ],
      "text/plain": [
       "<IPython.core.display.Math object>"
      ]
     },
     "metadata": {},
     "output_type": "display_data"
    },
    {
     "data": {
      "text/latex": [
       "$\\displaystyle \\quad \\text{Site index: } 2$"
      ],
      "text/plain": [
       "<IPython.core.display.Math object>"
      ]
     },
     "metadata": {},
     "output_type": "display_data"
    },
    {
     "data": {
      "text/latex": [
       "$\\displaystyle \\quad \\quad [\\sigma^+]\\sigma^{\\pm}_{2}\\,|0 1 0 1 0\\rangle = 1.0\\left|01110\\right\\rangle$"
      ],
      "text/plain": [
       "<IPython.core.display.Math object>"
      ]
     },
     "metadata": {},
     "output_type": "display_data"
    },
    {
     "data": {
      "text/latex": [
       "$\\displaystyle \\quad \\text{Site index: } 3$"
      ],
      "text/plain": [
       "<IPython.core.display.Math object>"
      ]
     },
     "metadata": {},
     "output_type": "display_data"
    },
    {
     "data": {
      "text/latex": [
       "$\\displaystyle \\quad \\quad [\\sigma^+]\\sigma^{\\pm}_{3}\\,|0 1 0 1 0\\rangle = 1.0\\left|01010\\right\\rangle$"
      ],
      "text/plain": [
       "<IPython.core.display.Math object>"
      ]
     },
     "metadata": {},
     "output_type": "display_data"
    },
    {
     "data": {
      "text/latex": [
       "$\\displaystyle \\quad \\text{Site index: } 4$"
      ],
      "text/plain": [
       "<IPython.core.display.Math object>"
      ]
     },
     "metadata": {},
     "output_type": "display_data"
    },
    {
     "data": {
      "text/latex": [
       "$\\displaystyle \\quad \\quad [\\sigma^+]\\sigma^{\\pm}_{4}\\,|0 1 0 1 0\\rangle = 1.0\\left|01011\\right\\rangle$"
      ],
      "text/plain": [
       "<IPython.core.display.Math object>"
      ]
     },
     "metadata": {},
     "output_type": "display_data"
    },
    {
     "data": {
      "text/latex": [
       "$\\displaystyle \\text{Operator: } [\\sigma^-]\\sigma^{\\mp}, \\text{typeacting}: OperatorTypeActing.Local$"
      ],
      "text/plain": [
       "<IPython.core.display.Math object>"
      ]
     },
     "metadata": {},
     "output_type": "display_data"
    },
    {
     "data": {
      "text/latex": [
       "$\\displaystyle \\quad \\text{Site index: } 0$"
      ],
      "text/plain": [
       "<IPython.core.display.Math object>"
      ]
     },
     "metadata": {},
     "output_type": "display_data"
    },
    {
     "data": {
      "text/latex": [
       "$\\displaystyle \\quad \\quad [\\sigma^-]\\sigma^{\\mp}_{0}\\,|0 1 0 1 0\\rangle = 0$"
      ],
      "text/plain": [
       "<IPython.core.display.Math object>"
      ]
     },
     "metadata": {},
     "output_type": "display_data"
    },
    {
     "data": {
      "text/latex": [
       "$\\displaystyle \\quad \\text{Site index: } 1$"
      ],
      "text/plain": [
       "<IPython.core.display.Math object>"
      ]
     },
     "metadata": {},
     "output_type": "display_data"
    },
    {
     "data": {
      "text/latex": [
       "$\\displaystyle \\quad \\quad [\\sigma^-]\\sigma^{\\mp}_{1}\\,|0 1 0 1 0\\rangle = 0.5\\left|00010\\right\\rangle$"
      ],
      "text/plain": [
       "<IPython.core.display.Math object>"
      ]
     },
     "metadata": {},
     "output_type": "display_data"
    },
    {
     "data": {
      "text/latex": [
       "$\\displaystyle \\quad \\text{Site index: } 2$"
      ],
      "text/plain": [
       "<IPython.core.display.Math object>"
      ]
     },
     "metadata": {},
     "output_type": "display_data"
    },
    {
     "data": {
      "text/latex": [
       "$\\displaystyle \\quad \\quad [\\sigma^-]\\sigma^{\\mp}_{2}\\,|0 1 0 1 0\\rangle = 0$"
      ],
      "text/plain": [
       "<IPython.core.display.Math object>"
      ]
     },
     "metadata": {},
     "output_type": "display_data"
    },
    {
     "data": {
      "text/latex": [
       "$\\displaystyle \\quad \\text{Site index: } 3$"
      ],
      "text/plain": [
       "<IPython.core.display.Math object>"
      ]
     },
     "metadata": {},
     "output_type": "display_data"
    },
    {
     "data": {
      "text/latex": [
       "$\\displaystyle \\quad \\quad [\\sigma^-]\\sigma^{\\mp}_{3}\\,|0 1 0 1 0\\rangle = 0.5\\left|01000\\right\\rangle$"
      ],
      "text/plain": [
       "<IPython.core.display.Math object>"
      ]
     },
     "metadata": {},
     "output_type": "display_data"
    },
    {
     "data": {
      "text/latex": [
       "$\\displaystyle \\quad \\text{Site index: } 4$"
      ],
      "text/plain": [
       "<IPython.core.display.Math object>"
      ]
     },
     "metadata": {},
     "output_type": "display_data"
    },
    {
     "data": {
      "text/latex": [
       "$\\displaystyle \\quad \\quad [\\sigma^-]\\sigma^{\\mp}_{4}\\,|0 1 0 1 0\\rangle = 0$"
      ],
      "text/plain": [
       "<IPython.core.display.Math object>"
      ]
     },
     "metadata": {},
     "output_type": "display_data"
    },
    {
     "data": {
      "text/latex": [
       "$\\displaystyle \\text{Operator: } \\sigma^k, \\text{typeacting}: OperatorTypeActing.Local$"
      ],
      "text/plain": [
       "<IPython.core.display.Math object>"
      ]
     },
     "metadata": {},
     "output_type": "display_data"
    },
    {
     "data": {
      "text/latex": [
       "$\\displaystyle \\quad \\text{Site index: } 0$"
      ],
      "text/plain": [
       "<IPython.core.display.Math object>"
      ]
     },
     "metadata": {},
     "output_type": "display_data"
    },
    {
     "data": {
      "text/latex": [
       "$\\displaystyle \\quad \\quad \\sigma^k_{0}\\,|0 1 0 1 0\\rangle = (-0.5+0j)\\left|01010\\right\\rangle$"
      ],
      "text/plain": [
       "<IPython.core.display.Math object>"
      ]
     },
     "metadata": {},
     "output_type": "display_data"
    },
    {
     "data": {
      "text/latex": [
       "$\\displaystyle \\quad \\text{Site index: } 1$"
      ],
      "text/plain": [
       "<IPython.core.display.Math object>"
      ]
     },
     "metadata": {},
     "output_type": "display_data"
    },
    {
     "data": {
      "text/latex": [
       "$\\displaystyle \\quad \\quad \\sigma^k_{1}\\,|0 1 0 1 0\\rangle = (0.15450849718747373+0.47552825814757677j)\\left|01010\\right\\rangle$"
      ],
      "text/plain": [
       "<IPython.core.display.Math object>"
      ]
     },
     "metadata": {},
     "output_type": "display_data"
    },
    {
     "data": {
      "text/latex": [
       "$\\displaystyle \\quad \\text{Site index: } 2$"
      ],
      "text/plain": [
       "<IPython.core.display.Math object>"
      ]
     },
     "metadata": {},
     "output_type": "display_data"
    },
    {
     "data": {
      "text/latex": [
       "$\\displaystyle \\quad \\quad \\sigma^k_{2}\\,|0 1 0 1 0\\rangle = (0.40450849718747367-0.2938926261462366j)\\left|01010\\right\\rangle$"
      ],
      "text/plain": [
       "<IPython.core.display.Math object>"
      ]
     },
     "metadata": {},
     "output_type": "display_data"
    },
    {
     "data": {
      "text/latex": [
       "$\\displaystyle \\quad \\text{Site index: } 3$"
      ],
      "text/plain": [
       "<IPython.core.display.Math object>"
      ]
     },
     "metadata": {},
     "output_type": "display_data"
    },
    {
     "data": {
      "text/latex": [
       "$\\displaystyle \\quad \\quad \\sigma^k_{3}\\,|0 1 0 1 0\\rangle = (-0.4045084971874738-0.2938926261462365j)\\left|01010\\right\\rangle$"
      ],
      "text/plain": [
       "<IPython.core.display.Math object>"
      ]
     },
     "metadata": {},
     "output_type": "display_data"
    },
    {
     "data": {
      "text/latex": [
       "$\\displaystyle \\quad \\text{Site index: } 4$"
      ],
      "text/plain": [
       "<IPython.core.display.Math object>"
      ]
     },
     "metadata": {},
     "output_type": "display_data"
    },
    {
     "data": {
      "text/latex": [
       "$\\displaystyle \\quad \\quad \\sigma^k_{4}\\,|0 1 0 1 0\\rangle = (-0.15450849718747361+0.4755282581475768j)\\left|01010\\right\\rangle$"
      ],
      "text/plain": [
       "<IPython.core.display.Math object>"
      ]
     },
     "metadata": {},
     "output_type": "display_data"
    },
    {
     "name": "stdout",
     "output_type": "stream",
     "text": [
      "Operator action: 41748.521000 us\n"
     ]
    }
   ],
   "source": [
    "test_operator_on_state(\n",
    "    op          = operators_l,\n",
    "    lat         = lat,\n",
    "    state       = jnp_state,\n",
    "    op_acting   = type_act,\n",
    "    op_label    = labels_l,\n",
    "    to_bin      = None,\n",
    "    just_time   = False\n",
    ")"
   ]
  },
  {
   "cell_type": "markdown",
   "id": "d2736af9",
   "metadata": {},
   "source": [
    "### b) Correlation functions"
   ]
  },
  {
   "cell_type": "code",
   "execution_count": 31,
   "id": "1dfd4991",
   "metadata": {},
   "outputs": [
    {
     "data": {
      "text/latex": [
       "$\\displaystyle \\text{Integer state: }\\,\\left|(10)\\,01010\\right\\rangle$"
      ],
      "text/plain": [
       "<IPython.core.display.Math object>"
      ]
     },
     "metadata": {},
     "output_type": "display_data"
    },
    {
     "data": {
      "text/latex": [
       "$\\displaystyle \\text{NumPy state: }\\,|0 1 0 1 0\\rangle$"
      ],
      "text/plain": [
       "<IPython.core.display.Math object>"
      ]
     },
     "metadata": {},
     "output_type": "display_data"
    },
    {
     "data": {
      "text/latex": [
       "$\\displaystyle \\text{JAX state: }\\,|0 1 0 1 0\\rangle$"
      ],
      "text/plain": [
       "<IPython.core.display.Math object>"
      ]
     },
     "metadata": {},
     "output_type": "display_data"
    }
   ],
   "source": [
    "type_act = op_spin.OperatorTypeActing.Correlation\n",
    "\n",
    "sig_x_c = op_spin.sig_x(\n",
    "    lattice  = lat,\n",
    "    type_act = type_act,\n",
    "    spin     = False\n",
    ")\n",
    "sig_y_c = op_spin.sig_y(\n",
    "    lattice  = lat,\n",
    "    type_act = type_act,\n",
    "    spin     = False\n",
    ")\n",
    "sig_z_c = op_spin.sig_z(\n",
    "    lattice  = lat,\n",
    "    type_act = type_act,\n",
    "    spin     = False\n",
    ")\n",
    "sig_p_c = op_spin.sig_p(\n",
    "    lattice  = lat,\n",
    "    type_act = type_act,\n",
    "    spin     = False\n",
    ")\n",
    "sig_m_c = op_spin.sig_m(\n",
    "    lattice  = lat,\n",
    "    type_act = type_act,\n",
    "    spin     = False\n",
    ")\n",
    "sig_pm_c = op_spin.sig_pm(\n",
    "    lattice  = lat,\n",
    "    type_act = type_act,\n",
    "    spin     = False\n",
    ")\n",
    "sig_mp_c = op_spin.sig_mp(\n",
    "    lattice  = lat,\n",
    "    type_act = type_act,\n",
    "    spin     = False\n",
    ")\n",
    "operators_c  = [sig_x_c, sig_y_c, sig_z_c, sig_p_c, sig_m_c, sig_pm_c, sig_mp_c]\n",
    "labels_c     = ['\\\\sigma^x', '\\\\sigma^y', '\\\\sigma^z', \n",
    "                '\\\\sigma^+', '\\\\sigma^-', \n",
    "                '[\\\\sigma^+]\\\\sigma^{\\\\pm}', '[\\\\sigma^-]\\\\sigma^{\\\\mp}'][:len(operators_c)]\n",
    "# create a set of states and test it\n",
    "int_state, np_state, jnp_state = initial_states(lat.ns, display=True)"
   ]
  },
  {
   "cell_type": "markdown",
   "id": "bff7d146",
   "metadata": {},
   "source": [
    "#### i) Integer states"
   ]
  },
  {
   "cell_type": "code",
   "execution_count": 14,
   "id": "1ad6629a",
   "metadata": {},
   "outputs": [
    {
     "data": {
      "text/latex": [
       "$\\displaystyle \\text{Initial integer state (Ns=5): }\\,\\left|(19)\\,10011\\right\\rangle$"
      ],
      "text/plain": [
       "<IPython.core.display.Math object>"
      ]
     },
     "metadata": {},
     "output_type": "display_data"
    },
    {
     "data": {
      "text/latex": [
       "$\\displaystyle \\text{Operator: } \\sigma^x, \\text{typeacting}: OperatorTypeActing.Correlation$"
      ],
      "text/plain": [
       "<IPython.core.display.Math object>"
      ]
     },
     "metadata": {},
     "output_type": "display_data"
    },
    {
     "data": {
      "text/latex": [
       "$\\displaystyle \\text{Site indices: } 0, 0$"
      ],
      "text/plain": [
       "<IPython.core.display.Math object>"
      ]
     },
     "metadata": {},
     "output_type": "display_data"
    },
    {
     "data": {
      "text/latex": [
       "$\\displaystyle \\quad \\quad \\sigma^x_{0,0}\\,\\left|(19)\\,10011\\right\\rangle = 0.25\\left|(19)\\,10011\\right\\rangle$"
      ],
      "text/plain": [
       "<IPython.core.display.Math object>"
      ]
     },
     "metadata": {},
     "output_type": "display_data"
    },
    {
     "data": {
      "text/latex": [
       "$\\displaystyle \\text{Site indices: } 0, 1$"
      ],
      "text/plain": [
       "<IPython.core.display.Math object>"
      ]
     },
     "metadata": {},
     "output_type": "display_data"
    },
    {
     "data": {
      "text/latex": [
       "$\\displaystyle \\quad \\quad \\sigma^x_{0,1}\\,\\left|(19)\\,10011\\right\\rangle = 0.25\\left|(11)\\,01011\\right\\rangle$"
      ],
      "text/plain": [
       "<IPython.core.display.Math object>"
      ]
     },
     "metadata": {},
     "output_type": "display_data"
    },
    {
     "data": {
      "text/latex": [
       "$\\displaystyle \\text{Site indices: } 0, 2$"
      ],
      "text/plain": [
       "<IPython.core.display.Math object>"
      ]
     },
     "metadata": {},
     "output_type": "display_data"
    },
    {
     "data": {
      "text/latex": [
       "$\\displaystyle \\quad \\quad \\sigma^x_{0,2}\\,\\left|(19)\\,10011\\right\\rangle = 0.25\\left|(7)\\,00111\\right\\rangle$"
      ],
      "text/plain": [
       "<IPython.core.display.Math object>"
      ]
     },
     "metadata": {},
     "output_type": "display_data"
    },
    {
     "data": {
      "text/latex": [
       "$\\displaystyle \\text{Site indices: } 0, 3$"
      ],
      "text/plain": [
       "<IPython.core.display.Math object>"
      ]
     },
     "metadata": {},
     "output_type": "display_data"
    },
    {
     "data": {
      "text/latex": [
       "$\\displaystyle \\quad \\quad \\sigma^x_{0,3}\\,\\left|(19)\\,10011\\right\\rangle = 0.25\\left|(1)\\,00001\\right\\rangle$"
      ],
      "text/plain": [
       "<IPython.core.display.Math object>"
      ]
     },
     "metadata": {},
     "output_type": "display_data"
    },
    {
     "data": {
      "text/latex": [
       "$\\displaystyle \\text{Site indices: } 0, 4$"
      ],
      "text/plain": [
       "<IPython.core.display.Math object>"
      ]
     },
     "metadata": {},
     "output_type": "display_data"
    },
    {
     "data": {
      "text/latex": [
       "$\\displaystyle \\quad \\quad \\sigma^x_{0,4}\\,\\left|(19)\\,10011\\right\\rangle = 0.25\\left|(2)\\,00010\\right\\rangle$"
      ],
      "text/plain": [
       "<IPython.core.display.Math object>"
      ]
     },
     "metadata": {},
     "output_type": "display_data"
    },
    {
     "data": {
      "text/latex": [
       "$\\displaystyle \\text{Site indices: } 1, 0$"
      ],
      "text/plain": [
       "<IPython.core.display.Math object>"
      ]
     },
     "metadata": {},
     "output_type": "display_data"
    },
    {
     "data": {
      "text/latex": [
       "$\\displaystyle \\quad \\quad \\sigma^x_{1,0}\\,\\left|(19)\\,10011\\right\\rangle = 0.25\\left|(11)\\,01011\\right\\rangle$"
      ],
      "text/plain": [
       "<IPython.core.display.Math object>"
      ]
     },
     "metadata": {},
     "output_type": "display_data"
    },
    {
     "data": {
      "text/latex": [
       "$\\displaystyle \\text{Site indices: } 1, 1$"
      ],
      "text/plain": [
       "<IPython.core.display.Math object>"
      ]
     },
     "metadata": {},
     "output_type": "display_data"
    },
    {
     "data": {
      "text/latex": [
       "$\\displaystyle \\quad \\quad \\sigma^x_{1,1}\\,\\left|(19)\\,10011\\right\\rangle = 0.25\\left|(19)\\,10011\\right\\rangle$"
      ],
      "text/plain": [
       "<IPython.core.display.Math object>"
      ]
     },
     "metadata": {},
     "output_type": "display_data"
    },
    {
     "data": {
      "text/latex": [
       "$\\displaystyle \\text{Site indices: } 1, 2$"
      ],
      "text/plain": [
       "<IPython.core.display.Math object>"
      ]
     },
     "metadata": {},
     "output_type": "display_data"
    },
    {
     "data": {
      "text/latex": [
       "$\\displaystyle \\quad \\quad \\sigma^x_{1,2}\\,\\left|(19)\\,10011\\right\\rangle = 0.25\\left|(31)\\,11111\\right\\rangle$"
      ],
      "text/plain": [
       "<IPython.core.display.Math object>"
      ]
     },
     "metadata": {},
     "output_type": "display_data"
    },
    {
     "data": {
      "text/latex": [
       "$\\displaystyle \\text{Site indices: } 1, 3$"
      ],
      "text/plain": [
       "<IPython.core.display.Math object>"
      ]
     },
     "metadata": {},
     "output_type": "display_data"
    },
    {
     "data": {
      "text/latex": [
       "$\\displaystyle \\quad \\quad \\sigma^x_{1,3}\\,\\left|(19)\\,10011\\right\\rangle = 0.25\\left|(25)\\,11001\\right\\rangle$"
      ],
      "text/plain": [
       "<IPython.core.display.Math object>"
      ]
     },
     "metadata": {},
     "output_type": "display_data"
    },
    {
     "data": {
      "text/latex": [
       "$\\displaystyle \\text{Site indices: } 1, 4$"
      ],
      "text/plain": [
       "<IPython.core.display.Math object>"
      ]
     },
     "metadata": {},
     "output_type": "display_data"
    },
    {
     "data": {
      "text/latex": [
       "$\\displaystyle \\quad \\quad \\sigma^x_{1,4}\\,\\left|(19)\\,10011\\right\\rangle = 0.25\\left|(26)\\,11010\\right\\rangle$"
      ],
      "text/plain": [
       "<IPython.core.display.Math object>"
      ]
     },
     "metadata": {},
     "output_type": "display_data"
    },
    {
     "data": {
      "text/latex": [
       "$\\displaystyle \\text{Site indices: } 2, 0$"
      ],
      "text/plain": [
       "<IPython.core.display.Math object>"
      ]
     },
     "metadata": {},
     "output_type": "display_data"
    },
    {
     "data": {
      "text/latex": [
       "$\\displaystyle \\quad \\quad \\sigma^x_{2,0}\\,\\left|(19)\\,10011\\right\\rangle = 0.25\\left|(7)\\,00111\\right\\rangle$"
      ],
      "text/plain": [
       "<IPython.core.display.Math object>"
      ]
     },
     "metadata": {},
     "output_type": "display_data"
    },
    {
     "data": {
      "text/latex": [
       "$\\displaystyle \\text{Site indices: } 2, 1$"
      ],
      "text/plain": [
       "<IPython.core.display.Math object>"
      ]
     },
     "metadata": {},
     "output_type": "display_data"
    },
    {
     "data": {
      "text/latex": [
       "$\\displaystyle \\quad \\quad \\sigma^x_{2,1}\\,\\left|(19)\\,10011\\right\\rangle = 0.25\\left|(31)\\,11111\\right\\rangle$"
      ],
      "text/plain": [
       "<IPython.core.display.Math object>"
      ]
     },
     "metadata": {},
     "output_type": "display_data"
    },
    {
     "data": {
      "text/latex": [
       "$\\displaystyle \\text{Site indices: } 2, 2$"
      ],
      "text/plain": [
       "<IPython.core.display.Math object>"
      ]
     },
     "metadata": {},
     "output_type": "display_data"
    },
    {
     "data": {
      "text/latex": [
       "$\\displaystyle \\quad \\quad \\sigma^x_{2,2}\\,\\left|(19)\\,10011\\right\\rangle = 0.25\\left|(19)\\,10011\\right\\rangle$"
      ],
      "text/plain": [
       "<IPython.core.display.Math object>"
      ]
     },
     "metadata": {},
     "output_type": "display_data"
    },
    {
     "data": {
      "text/latex": [
       "$\\displaystyle \\text{Site indices: } 2, 3$"
      ],
      "text/plain": [
       "<IPython.core.display.Math object>"
      ]
     },
     "metadata": {},
     "output_type": "display_data"
    },
    {
     "data": {
      "text/latex": [
       "$\\displaystyle \\quad \\quad \\sigma^x_{2,3}\\,\\left|(19)\\,10011\\right\\rangle = 0.25\\left|(21)\\,10101\\right\\rangle$"
      ],
      "text/plain": [
       "<IPython.core.display.Math object>"
      ]
     },
     "metadata": {},
     "output_type": "display_data"
    },
    {
     "data": {
      "text/latex": [
       "$\\displaystyle \\text{Site indices: } 2, 4$"
      ],
      "text/plain": [
       "<IPython.core.display.Math object>"
      ]
     },
     "metadata": {},
     "output_type": "display_data"
    },
    {
     "data": {
      "text/latex": [
       "$\\displaystyle \\quad \\quad \\sigma^x_{2,4}\\,\\left|(19)\\,10011\\right\\rangle = 0.25\\left|(22)\\,10110\\right\\rangle$"
      ],
      "text/plain": [
       "<IPython.core.display.Math object>"
      ]
     },
     "metadata": {},
     "output_type": "display_data"
    },
    {
     "data": {
      "text/latex": [
       "$\\displaystyle \\text{Site indices: } 3, 0$"
      ],
      "text/plain": [
       "<IPython.core.display.Math object>"
      ]
     },
     "metadata": {},
     "output_type": "display_data"
    },
    {
     "data": {
      "text/latex": [
       "$\\displaystyle \\quad \\quad \\sigma^x_{3,0}\\,\\left|(19)\\,10011\\right\\rangle = 0.25\\left|(1)\\,00001\\right\\rangle$"
      ],
      "text/plain": [
       "<IPython.core.display.Math object>"
      ]
     },
     "metadata": {},
     "output_type": "display_data"
    },
    {
     "data": {
      "text/latex": [
       "$\\displaystyle \\text{Site indices: } 3, 1$"
      ],
      "text/plain": [
       "<IPython.core.display.Math object>"
      ]
     },
     "metadata": {},
     "output_type": "display_data"
    },
    {
     "data": {
      "text/latex": [
       "$\\displaystyle \\quad \\quad \\sigma^x_{3,1}\\,\\left|(19)\\,10011\\right\\rangle = 0.25\\left|(25)\\,11001\\right\\rangle$"
      ],
      "text/plain": [
       "<IPython.core.display.Math object>"
      ]
     },
     "metadata": {},
     "output_type": "display_data"
    },
    {
     "data": {
      "text/latex": [
       "$\\displaystyle \\text{Site indices: } 3, 2$"
      ],
      "text/plain": [
       "<IPython.core.display.Math object>"
      ]
     },
     "metadata": {},
     "output_type": "display_data"
    },
    {
     "data": {
      "text/latex": [
       "$\\displaystyle \\quad \\quad \\sigma^x_{3,2}\\,\\left|(19)\\,10011\\right\\rangle = 0.25\\left|(21)\\,10101\\right\\rangle$"
      ],
      "text/plain": [
       "<IPython.core.display.Math object>"
      ]
     },
     "metadata": {},
     "output_type": "display_data"
    },
    {
     "data": {
      "text/latex": [
       "$\\displaystyle \\text{Site indices: } 3, 3$"
      ],
      "text/plain": [
       "<IPython.core.display.Math object>"
      ]
     },
     "metadata": {},
     "output_type": "display_data"
    },
    {
     "data": {
      "text/latex": [
       "$\\displaystyle \\quad \\quad \\sigma^x_{3,3}\\,\\left|(19)\\,10011\\right\\rangle = 0.25\\left|(19)\\,10011\\right\\rangle$"
      ],
      "text/plain": [
       "<IPython.core.display.Math object>"
      ]
     },
     "metadata": {},
     "output_type": "display_data"
    },
    {
     "data": {
      "text/latex": [
       "$\\displaystyle \\text{Site indices: } 3, 4$"
      ],
      "text/plain": [
       "<IPython.core.display.Math object>"
      ]
     },
     "metadata": {},
     "output_type": "display_data"
    },
    {
     "data": {
      "text/latex": [
       "$\\displaystyle \\quad \\quad \\sigma^x_{3,4}\\,\\left|(19)\\,10011\\right\\rangle = 0.25\\left|(16)\\,10000\\right\\rangle$"
      ],
      "text/plain": [
       "<IPython.core.display.Math object>"
      ]
     },
     "metadata": {},
     "output_type": "display_data"
    },
    {
     "data": {
      "text/latex": [
       "$\\displaystyle \\text{Site indices: } 4, 0$"
      ],
      "text/plain": [
       "<IPython.core.display.Math object>"
      ]
     },
     "metadata": {},
     "output_type": "display_data"
    },
    {
     "data": {
      "text/latex": [
       "$\\displaystyle \\quad \\quad \\sigma^x_{4,0}\\,\\left|(19)\\,10011\\right\\rangle = 0.25\\left|(2)\\,00010\\right\\rangle$"
      ],
      "text/plain": [
       "<IPython.core.display.Math object>"
      ]
     },
     "metadata": {},
     "output_type": "display_data"
    },
    {
     "data": {
      "text/latex": [
       "$\\displaystyle \\text{Site indices: } 4, 1$"
      ],
      "text/plain": [
       "<IPython.core.display.Math object>"
      ]
     },
     "metadata": {},
     "output_type": "display_data"
    },
    {
     "data": {
      "text/latex": [
       "$\\displaystyle \\quad \\quad \\sigma^x_{4,1}\\,\\left|(19)\\,10011\\right\\rangle = 0.25\\left|(26)\\,11010\\right\\rangle$"
      ],
      "text/plain": [
       "<IPython.core.display.Math object>"
      ]
     },
     "metadata": {},
     "output_type": "display_data"
    },
    {
     "data": {
      "text/latex": [
       "$\\displaystyle \\text{Site indices: } 4, 2$"
      ],
      "text/plain": [
       "<IPython.core.display.Math object>"
      ]
     },
     "metadata": {},
     "output_type": "display_data"
    },
    {
     "data": {
      "text/latex": [
       "$\\displaystyle \\quad \\quad \\sigma^x_{4,2}\\,\\left|(19)\\,10011\\right\\rangle = 0.25\\left|(22)\\,10110\\right\\rangle$"
      ],
      "text/plain": [
       "<IPython.core.display.Math object>"
      ]
     },
     "metadata": {},
     "output_type": "display_data"
    },
    {
     "data": {
      "text/latex": [
       "$\\displaystyle \\text{Site indices: } 4, 3$"
      ],
      "text/plain": [
       "<IPython.core.display.Math object>"
      ]
     },
     "metadata": {},
     "output_type": "display_data"
    },
    {
     "data": {
      "text/latex": [
       "$\\displaystyle \\quad \\quad \\sigma^x_{4,3}\\,\\left|(19)\\,10011\\right\\rangle = 0.25\\left|(16)\\,10000\\right\\rangle$"
      ],
      "text/plain": [
       "<IPython.core.display.Math object>"
      ]
     },
     "metadata": {},
     "output_type": "display_data"
    },
    {
     "data": {
      "text/latex": [
       "$\\displaystyle \\text{Site indices: } 4, 4$"
      ],
      "text/plain": [
       "<IPython.core.display.Math object>"
      ]
     },
     "metadata": {},
     "output_type": "display_data"
    },
    {
     "data": {
      "text/latex": [
       "$\\displaystyle \\quad \\quad \\sigma^x_{4,4}\\,\\left|(19)\\,10011\\right\\rangle = 0.25\\left|(19)\\,10011\\right\\rangle$"
      ],
      "text/plain": [
       "<IPython.core.display.Math object>"
      ]
     },
     "metadata": {},
     "output_type": "display_data"
    },
    {
     "data": {
      "text/latex": [
       "$\\displaystyle \\text{Operator: } \\sigma^y, \\text{typeacting}: OperatorTypeActing.Correlation$"
      ],
      "text/plain": [
       "<IPython.core.display.Math object>"
      ]
     },
     "metadata": {},
     "output_type": "display_data"
    },
    {
     "data": {
      "text/latex": [
       "$\\displaystyle \\text{Site indices: } 0, 0$"
      ],
      "text/plain": [
       "<IPython.core.display.Math object>"
      ]
     },
     "metadata": {},
     "output_type": "display_data"
    },
    {
     "data": {
      "text/latex": [
       "$\\displaystyle \\quad \\quad \\sigma^y_{0,0}\\,\\left|(19)\\,10011\\right\\rangle = -0.25\\left|(19)\\,10011\\right\\rangle$"
      ],
      "text/plain": [
       "<IPython.core.display.Math object>"
      ]
     },
     "metadata": {},
     "output_type": "display_data"
    },
    {
     "data": {
      "text/latex": [
       "$\\displaystyle \\text{Site indices: } 0, 1$"
      ],
      "text/plain": [
       "<IPython.core.display.Math object>"
      ]
     },
     "metadata": {},
     "output_type": "display_data"
    },
    {
     "data": {
      "text/latex": [
       "$\\displaystyle \\quad \\quad \\sigma^y_{0,1}\\,\\left|(19)\\,10011\\right\\rangle = -0.25\\left|(11)\\,01011\\right\\rangle$"
      ],
      "text/plain": [
       "<IPython.core.display.Math object>"
      ]
     },
     "metadata": {},
     "output_type": "display_data"
    },
    {
     "data": {
      "text/latex": [
       "$\\displaystyle \\text{Site indices: } 0, 2$"
      ],
      "text/plain": [
       "<IPython.core.display.Math object>"
      ]
     },
     "metadata": {},
     "output_type": "display_data"
    },
    {
     "data": {
      "text/latex": [
       "$\\displaystyle \\quad \\quad \\sigma^y_{0,2}\\,\\left|(19)\\,10011\\right\\rangle = -0.25\\left|(7)\\,00111\\right\\rangle$"
      ],
      "text/plain": [
       "<IPython.core.display.Math object>"
      ]
     },
     "metadata": {},
     "output_type": "display_data"
    },
    {
     "data": {
      "text/latex": [
       "$\\displaystyle \\text{Site indices: } 0, 3$"
      ],
      "text/plain": [
       "<IPython.core.display.Math object>"
      ]
     },
     "metadata": {},
     "output_type": "display_data"
    },
    {
     "data": {
      "text/latex": [
       "$\\displaystyle \\quad \\quad \\sigma^y_{0,3}\\,\\left|(19)\\,10011\\right\\rangle = 0.25\\left|(1)\\,00001\\right\\rangle$"
      ],
      "text/plain": [
       "<IPython.core.display.Math object>"
      ]
     },
     "metadata": {},
     "output_type": "display_data"
    },
    {
     "data": {
      "text/latex": [
       "$\\displaystyle \\text{Site indices: } 0, 4$"
      ],
      "text/plain": [
       "<IPython.core.display.Math object>"
      ]
     },
     "metadata": {},
     "output_type": "display_data"
    },
    {
     "data": {
      "text/latex": [
       "$\\displaystyle \\quad \\quad \\sigma^y_{0,4}\\,\\left|(19)\\,10011\\right\\rangle = 0.25\\left|(2)\\,00010\\right\\rangle$"
      ],
      "text/plain": [
       "<IPython.core.display.Math object>"
      ]
     },
     "metadata": {},
     "output_type": "display_data"
    },
    {
     "data": {
      "text/latex": [
       "$\\displaystyle \\text{Site indices: } 1, 0$"
      ],
      "text/plain": [
       "<IPython.core.display.Math object>"
      ]
     },
     "metadata": {},
     "output_type": "display_data"
    },
    {
     "data": {
      "text/latex": [
       "$\\displaystyle \\quad \\quad \\sigma^y_{1,0}\\,\\left|(19)\\,10011\\right\\rangle = -0.25\\left|(11)\\,01011\\right\\rangle$"
      ],
      "text/plain": [
       "<IPython.core.display.Math object>"
      ]
     },
     "metadata": {},
     "output_type": "display_data"
    },
    {
     "data": {
      "text/latex": [
       "$\\displaystyle \\text{Site indices: } 1, 1$"
      ],
      "text/plain": [
       "<IPython.core.display.Math object>"
      ]
     },
     "metadata": {},
     "output_type": "display_data"
    },
    {
     "data": {
      "text/latex": [
       "$\\displaystyle \\quad \\quad \\sigma^y_{1,1}\\,\\left|(19)\\,10011\\right\\rangle = -0.25\\left|(19)\\,10011\\right\\rangle$"
      ],
      "text/plain": [
       "<IPython.core.display.Math object>"
      ]
     },
     "metadata": {},
     "output_type": "display_data"
    },
    {
     "data": {
      "text/latex": [
       "$\\displaystyle \\text{Site indices: } 1, 2$"
      ],
      "text/plain": [
       "<IPython.core.display.Math object>"
      ]
     },
     "metadata": {},
     "output_type": "display_data"
    },
    {
     "data": {
      "text/latex": [
       "$\\displaystyle \\quad \\quad \\sigma^y_{1,2}\\,\\left|(19)\\,10011\\right\\rangle = 0.25\\left|(31)\\,11111\\right\\rangle$"
      ],
      "text/plain": [
       "<IPython.core.display.Math object>"
      ]
     },
     "metadata": {},
     "output_type": "display_data"
    },
    {
     "data": {
      "text/latex": [
       "$\\displaystyle \\text{Site indices: } 1, 3$"
      ],
      "text/plain": [
       "<IPython.core.display.Math object>"
      ]
     },
     "metadata": {},
     "output_type": "display_data"
    },
    {
     "data": {
      "text/latex": [
       "$\\displaystyle \\quad \\quad \\sigma^y_{1,3}\\,\\left|(19)\\,10011\\right\\rangle = -0.25\\left|(25)\\,11001\\right\\rangle$"
      ],
      "text/plain": [
       "<IPython.core.display.Math object>"
      ]
     },
     "metadata": {},
     "output_type": "display_data"
    },
    {
     "data": {
      "text/latex": [
       "$\\displaystyle \\text{Site indices: } 1, 4$"
      ],
      "text/plain": [
       "<IPython.core.display.Math object>"
      ]
     },
     "metadata": {},
     "output_type": "display_data"
    },
    {
     "data": {
      "text/latex": [
       "$\\displaystyle \\quad \\quad \\sigma^y_{1,4}\\,\\left|(19)\\,10011\\right\\rangle = -0.25\\left|(26)\\,11010\\right\\rangle$"
      ],
      "text/plain": [
       "<IPython.core.display.Math object>"
      ]
     },
     "metadata": {},
     "output_type": "display_data"
    },
    {
     "data": {
      "text/latex": [
       "$\\displaystyle \\text{Site indices: } 2, 0$"
      ],
      "text/plain": [
       "<IPython.core.display.Math object>"
      ]
     },
     "metadata": {},
     "output_type": "display_data"
    },
    {
     "data": {
      "text/latex": [
       "$\\displaystyle \\quad \\quad \\sigma^y_{2,0}\\,\\left|(19)\\,10011\\right\\rangle = -0.25\\left|(7)\\,00111\\right\\rangle$"
      ],
      "text/plain": [
       "<IPython.core.display.Math object>"
      ]
     },
     "metadata": {},
     "output_type": "display_data"
    },
    {
     "data": {
      "text/latex": [
       "$\\displaystyle \\text{Site indices: } 2, 1$"
      ],
      "text/plain": [
       "<IPython.core.display.Math object>"
      ]
     },
     "metadata": {},
     "output_type": "display_data"
    },
    {
     "data": {
      "text/latex": [
       "$\\displaystyle \\quad \\quad \\sigma^y_{2,1}\\,\\left|(19)\\,10011\\right\\rangle = 0.25\\left|(31)\\,11111\\right\\rangle$"
      ],
      "text/plain": [
       "<IPython.core.display.Math object>"
      ]
     },
     "metadata": {},
     "output_type": "display_data"
    },
    {
     "data": {
      "text/latex": [
       "$\\displaystyle \\text{Site indices: } 2, 2$"
      ],
      "text/plain": [
       "<IPython.core.display.Math object>"
      ]
     },
     "metadata": {},
     "output_type": "display_data"
    },
    {
     "data": {
      "text/latex": [
       "$\\displaystyle \\quad \\quad \\sigma^y_{2,2}\\,\\left|(19)\\,10011\\right\\rangle = -0.25\\left|(19)\\,10011\\right\\rangle$"
      ],
      "text/plain": [
       "<IPython.core.display.Math object>"
      ]
     },
     "metadata": {},
     "output_type": "display_data"
    },
    {
     "data": {
      "text/latex": [
       "$\\displaystyle \\text{Site indices: } 2, 3$"
      ],
      "text/plain": [
       "<IPython.core.display.Math object>"
      ]
     },
     "metadata": {},
     "output_type": "display_data"
    },
    {
     "data": {
      "text/latex": [
       "$\\displaystyle \\quad \\quad \\sigma^y_{2,3}\\,\\left|(19)\\,10011\\right\\rangle = -0.25\\left|(21)\\,10101\\right\\rangle$"
      ],
      "text/plain": [
       "<IPython.core.display.Math object>"
      ]
     },
     "metadata": {},
     "output_type": "display_data"
    },
    {
     "data": {
      "text/latex": [
       "$\\displaystyle \\text{Site indices: } 2, 4$"
      ],
      "text/plain": [
       "<IPython.core.display.Math object>"
      ]
     },
     "metadata": {},
     "output_type": "display_data"
    },
    {
     "data": {
      "text/latex": [
       "$\\displaystyle \\quad \\quad \\sigma^y_{2,4}\\,\\left|(19)\\,10011\\right\\rangle = -0.25\\left|(22)\\,10110\\right\\rangle$"
      ],
      "text/plain": [
       "<IPython.core.display.Math object>"
      ]
     },
     "metadata": {},
     "output_type": "display_data"
    },
    {
     "data": {
      "text/latex": [
       "$\\displaystyle \\text{Site indices: } 3, 0$"
      ],
      "text/plain": [
       "<IPython.core.display.Math object>"
      ]
     },
     "metadata": {},
     "output_type": "display_data"
    },
    {
     "data": {
      "text/latex": [
       "$\\displaystyle \\quad \\quad \\sigma^y_{3,0}\\,\\left|(19)\\,10011\\right\\rangle = 0.25\\left|(1)\\,00001\\right\\rangle$"
      ],
      "text/plain": [
       "<IPython.core.display.Math object>"
      ]
     },
     "metadata": {},
     "output_type": "display_data"
    },
    {
     "data": {
      "text/latex": [
       "$\\displaystyle \\text{Site indices: } 3, 1$"
      ],
      "text/plain": [
       "<IPython.core.display.Math object>"
      ]
     },
     "metadata": {},
     "output_type": "display_data"
    },
    {
     "data": {
      "text/latex": [
       "$\\displaystyle \\quad \\quad \\sigma^y_{3,1}\\,\\left|(19)\\,10011\\right\\rangle = -0.25\\left|(25)\\,11001\\right\\rangle$"
      ],
      "text/plain": [
       "<IPython.core.display.Math object>"
      ]
     },
     "metadata": {},
     "output_type": "display_data"
    },
    {
     "data": {
      "text/latex": [
       "$\\displaystyle \\text{Site indices: } 3, 2$"
      ],
      "text/plain": [
       "<IPython.core.display.Math object>"
      ]
     },
     "metadata": {},
     "output_type": "display_data"
    },
    {
     "data": {
      "text/latex": [
       "$\\displaystyle \\quad \\quad \\sigma^y_{3,2}\\,\\left|(19)\\,10011\\right\\rangle = -0.25\\left|(21)\\,10101\\right\\rangle$"
      ],
      "text/plain": [
       "<IPython.core.display.Math object>"
      ]
     },
     "metadata": {},
     "output_type": "display_data"
    },
    {
     "data": {
      "text/latex": [
       "$\\displaystyle \\text{Site indices: } 3, 3$"
      ],
      "text/plain": [
       "<IPython.core.display.Math object>"
      ]
     },
     "metadata": {},
     "output_type": "display_data"
    },
    {
     "data": {
      "text/latex": [
       "$\\displaystyle \\quad \\quad \\sigma^y_{3,3}\\,\\left|(19)\\,10011\\right\\rangle = -0.25\\left|(19)\\,10011\\right\\rangle$"
      ],
      "text/plain": [
       "<IPython.core.display.Math object>"
      ]
     },
     "metadata": {},
     "output_type": "display_data"
    },
    {
     "data": {
      "text/latex": [
       "$\\displaystyle \\text{Site indices: } 3, 4$"
      ],
      "text/plain": [
       "<IPython.core.display.Math object>"
      ]
     },
     "metadata": {},
     "output_type": "display_data"
    },
    {
     "data": {
      "text/latex": [
       "$\\displaystyle \\quad \\quad \\sigma^y_{3,4}\\,\\left|(19)\\,10011\\right\\rangle = 0.25\\left|(16)\\,10000\\right\\rangle$"
      ],
      "text/plain": [
       "<IPython.core.display.Math object>"
      ]
     },
     "metadata": {},
     "output_type": "display_data"
    },
    {
     "data": {
      "text/latex": [
       "$\\displaystyle \\text{Site indices: } 4, 0$"
      ],
      "text/plain": [
       "<IPython.core.display.Math object>"
      ]
     },
     "metadata": {},
     "output_type": "display_data"
    },
    {
     "data": {
      "text/latex": [
       "$\\displaystyle \\quad \\quad \\sigma^y_{4,0}\\,\\left|(19)\\,10011\\right\\rangle = 0.25\\left|(2)\\,00010\\right\\rangle$"
      ],
      "text/plain": [
       "<IPython.core.display.Math object>"
      ]
     },
     "metadata": {},
     "output_type": "display_data"
    },
    {
     "data": {
      "text/latex": [
       "$\\displaystyle \\text{Site indices: } 4, 1$"
      ],
      "text/plain": [
       "<IPython.core.display.Math object>"
      ]
     },
     "metadata": {},
     "output_type": "display_data"
    },
    {
     "data": {
      "text/latex": [
       "$\\displaystyle \\quad \\quad \\sigma^y_{4,1}\\,\\left|(19)\\,10011\\right\\rangle = -0.25\\left|(26)\\,11010\\right\\rangle$"
      ],
      "text/plain": [
       "<IPython.core.display.Math object>"
      ]
     },
     "metadata": {},
     "output_type": "display_data"
    },
    {
     "data": {
      "text/latex": [
       "$\\displaystyle \\text{Site indices: } 4, 2$"
      ],
      "text/plain": [
       "<IPython.core.display.Math object>"
      ]
     },
     "metadata": {},
     "output_type": "display_data"
    },
    {
     "data": {
      "text/latex": [
       "$\\displaystyle \\quad \\quad \\sigma^y_{4,2}\\,\\left|(19)\\,10011\\right\\rangle = -0.25\\left|(22)\\,10110\\right\\rangle$"
      ],
      "text/plain": [
       "<IPython.core.display.Math object>"
      ]
     },
     "metadata": {},
     "output_type": "display_data"
    },
    {
     "data": {
      "text/latex": [
       "$\\displaystyle \\text{Site indices: } 4, 3$"
      ],
      "text/plain": [
       "<IPython.core.display.Math object>"
      ]
     },
     "metadata": {},
     "output_type": "display_data"
    },
    {
     "data": {
      "text/latex": [
       "$\\displaystyle \\quad \\quad \\sigma^y_{4,3}\\,\\left|(19)\\,10011\\right\\rangle = 0.25\\left|(16)\\,10000\\right\\rangle$"
      ],
      "text/plain": [
       "<IPython.core.display.Math object>"
      ]
     },
     "metadata": {},
     "output_type": "display_data"
    },
    {
     "data": {
      "text/latex": [
       "$\\displaystyle \\text{Site indices: } 4, 4$"
      ],
      "text/plain": [
       "<IPython.core.display.Math object>"
      ]
     },
     "metadata": {},
     "output_type": "display_data"
    },
    {
     "data": {
      "text/latex": [
       "$\\displaystyle \\quad \\quad \\sigma^y_{4,4}\\,\\left|(19)\\,10011\\right\\rangle = -0.25\\left|(19)\\,10011\\right\\rangle$"
      ],
      "text/plain": [
       "<IPython.core.display.Math object>"
      ]
     },
     "metadata": {},
     "output_type": "display_data"
    },
    {
     "data": {
      "text/latex": [
       "$\\displaystyle \\text{Operator: } \\sigma^z, \\text{typeacting}: OperatorTypeActing.Correlation$"
      ],
      "text/plain": [
       "<IPython.core.display.Math object>"
      ]
     },
     "metadata": {},
     "output_type": "display_data"
    },
    {
     "data": {
      "text/latex": [
       "$\\displaystyle \\text{Site indices: } 0, 0$"
      ],
      "text/plain": [
       "<IPython.core.display.Math object>"
      ]
     },
     "metadata": {},
     "output_type": "display_data"
    },
    {
     "data": {
      "text/latex": [
       "$\\displaystyle \\quad \\quad \\sigma^z_{0,0}\\,\\left|(19)\\,10011\\right\\rangle = 0.25\\left|(19)\\,10011\\right\\rangle$"
      ],
      "text/plain": [
       "<IPython.core.display.Math object>"
      ]
     },
     "metadata": {},
     "output_type": "display_data"
    },
    {
     "data": {
      "text/latex": [
       "$\\displaystyle \\text{Site indices: } 0, 1$"
      ],
      "text/plain": [
       "<IPython.core.display.Math object>"
      ]
     },
     "metadata": {},
     "output_type": "display_data"
    },
    {
     "data": {
      "text/latex": [
       "$\\displaystyle \\quad \\quad \\sigma^z_{0,1}\\,\\left|(19)\\,10011\\right\\rangle = -0.25\\left|(19)\\,10011\\right\\rangle$"
      ],
      "text/plain": [
       "<IPython.core.display.Math object>"
      ]
     },
     "metadata": {},
     "output_type": "display_data"
    },
    {
     "data": {
      "text/latex": [
       "$\\displaystyle \\text{Site indices: } 0, 2$"
      ],
      "text/plain": [
       "<IPython.core.display.Math object>"
      ]
     },
     "metadata": {},
     "output_type": "display_data"
    },
    {
     "data": {
      "text/latex": [
       "$\\displaystyle \\quad \\quad \\sigma^z_{0,2}\\,\\left|(19)\\,10011\\right\\rangle = -0.25\\left|(19)\\,10011\\right\\rangle$"
      ],
      "text/plain": [
       "<IPython.core.display.Math object>"
      ]
     },
     "metadata": {},
     "output_type": "display_data"
    },
    {
     "data": {
      "text/latex": [
       "$\\displaystyle \\text{Site indices: } 0, 3$"
      ],
      "text/plain": [
       "<IPython.core.display.Math object>"
      ]
     },
     "metadata": {},
     "output_type": "display_data"
    },
    {
     "data": {
      "text/latex": [
       "$\\displaystyle \\quad \\quad \\sigma^z_{0,3}\\,\\left|(19)\\,10011\\right\\rangle = 0.25\\left|(19)\\,10011\\right\\rangle$"
      ],
      "text/plain": [
       "<IPython.core.display.Math object>"
      ]
     },
     "metadata": {},
     "output_type": "display_data"
    },
    {
     "data": {
      "text/latex": [
       "$\\displaystyle \\text{Site indices: } 0, 4$"
      ],
      "text/plain": [
       "<IPython.core.display.Math object>"
      ]
     },
     "metadata": {},
     "output_type": "display_data"
    },
    {
     "data": {
      "text/latex": [
       "$\\displaystyle \\quad \\quad \\sigma^z_{0,4}\\,\\left|(19)\\,10011\\right\\rangle = 0.25\\left|(19)\\,10011\\right\\rangle$"
      ],
      "text/plain": [
       "<IPython.core.display.Math object>"
      ]
     },
     "metadata": {},
     "output_type": "display_data"
    },
    {
     "data": {
      "text/latex": [
       "$\\displaystyle \\text{Site indices: } 1, 0$"
      ],
      "text/plain": [
       "<IPython.core.display.Math object>"
      ]
     },
     "metadata": {},
     "output_type": "display_data"
    },
    {
     "data": {
      "text/latex": [
       "$\\displaystyle \\quad \\quad \\sigma^z_{1,0}\\,\\left|(19)\\,10011\\right\\rangle = -0.25\\left|(19)\\,10011\\right\\rangle$"
      ],
      "text/plain": [
       "<IPython.core.display.Math object>"
      ]
     },
     "metadata": {},
     "output_type": "display_data"
    },
    {
     "data": {
      "text/latex": [
       "$\\displaystyle \\text{Site indices: } 1, 1$"
      ],
      "text/plain": [
       "<IPython.core.display.Math object>"
      ]
     },
     "metadata": {},
     "output_type": "display_data"
    },
    {
     "data": {
      "text/latex": [
       "$\\displaystyle \\quad \\quad \\sigma^z_{1,1}\\,\\left|(19)\\,10011\\right\\rangle = 0.25\\left|(19)\\,10011\\right\\rangle$"
      ],
      "text/plain": [
       "<IPython.core.display.Math object>"
      ]
     },
     "metadata": {},
     "output_type": "display_data"
    },
    {
     "data": {
      "text/latex": [
       "$\\displaystyle \\text{Site indices: } 1, 2$"
      ],
      "text/plain": [
       "<IPython.core.display.Math object>"
      ]
     },
     "metadata": {},
     "output_type": "display_data"
    },
    {
     "data": {
      "text/latex": [
       "$\\displaystyle \\quad \\quad \\sigma^z_{1,2}\\,\\left|(19)\\,10011\\right\\rangle = 0.25\\left|(19)\\,10011\\right\\rangle$"
      ],
      "text/plain": [
       "<IPython.core.display.Math object>"
      ]
     },
     "metadata": {},
     "output_type": "display_data"
    },
    {
     "data": {
      "text/latex": [
       "$\\displaystyle \\text{Site indices: } 1, 3$"
      ],
      "text/plain": [
       "<IPython.core.display.Math object>"
      ]
     },
     "metadata": {},
     "output_type": "display_data"
    },
    {
     "data": {
      "text/latex": [
       "$\\displaystyle \\quad \\quad \\sigma^z_{1,3}\\,\\left|(19)\\,10011\\right\\rangle = -0.25\\left|(19)\\,10011\\right\\rangle$"
      ],
      "text/plain": [
       "<IPython.core.display.Math object>"
      ]
     },
     "metadata": {},
     "output_type": "display_data"
    },
    {
     "data": {
      "text/latex": [
       "$\\displaystyle \\text{Site indices: } 1, 4$"
      ],
      "text/plain": [
       "<IPython.core.display.Math object>"
      ]
     },
     "metadata": {},
     "output_type": "display_data"
    },
    {
     "data": {
      "text/latex": [
       "$\\displaystyle \\quad \\quad \\sigma^z_{1,4}\\,\\left|(19)\\,10011\\right\\rangle = -0.25\\left|(19)\\,10011\\right\\rangle$"
      ],
      "text/plain": [
       "<IPython.core.display.Math object>"
      ]
     },
     "metadata": {},
     "output_type": "display_data"
    },
    {
     "data": {
      "text/latex": [
       "$\\displaystyle \\text{Site indices: } 2, 0$"
      ],
      "text/plain": [
       "<IPython.core.display.Math object>"
      ]
     },
     "metadata": {},
     "output_type": "display_data"
    },
    {
     "data": {
      "text/latex": [
       "$\\displaystyle \\quad \\quad \\sigma^z_{2,0}\\,\\left|(19)\\,10011\\right\\rangle = -0.25\\left|(19)\\,10011\\right\\rangle$"
      ],
      "text/plain": [
       "<IPython.core.display.Math object>"
      ]
     },
     "metadata": {},
     "output_type": "display_data"
    },
    {
     "data": {
      "text/latex": [
       "$\\displaystyle \\text{Site indices: } 2, 1$"
      ],
      "text/plain": [
       "<IPython.core.display.Math object>"
      ]
     },
     "metadata": {},
     "output_type": "display_data"
    },
    {
     "data": {
      "text/latex": [
       "$\\displaystyle \\quad \\quad \\sigma^z_{2,1}\\,\\left|(19)\\,10011\\right\\rangle = 0.25\\left|(19)\\,10011\\right\\rangle$"
      ],
      "text/plain": [
       "<IPython.core.display.Math object>"
      ]
     },
     "metadata": {},
     "output_type": "display_data"
    },
    {
     "data": {
      "text/latex": [
       "$\\displaystyle \\text{Site indices: } 2, 2$"
      ],
      "text/plain": [
       "<IPython.core.display.Math object>"
      ]
     },
     "metadata": {},
     "output_type": "display_data"
    },
    {
     "data": {
      "text/latex": [
       "$\\displaystyle \\quad \\quad \\sigma^z_{2,2}\\,\\left|(19)\\,10011\\right\\rangle = 0.25\\left|(19)\\,10011\\right\\rangle$"
      ],
      "text/plain": [
       "<IPython.core.display.Math object>"
      ]
     },
     "metadata": {},
     "output_type": "display_data"
    },
    {
     "data": {
      "text/latex": [
       "$\\displaystyle \\text{Site indices: } 2, 3$"
      ],
      "text/plain": [
       "<IPython.core.display.Math object>"
      ]
     },
     "metadata": {},
     "output_type": "display_data"
    },
    {
     "data": {
      "text/latex": [
       "$\\displaystyle \\quad \\quad \\sigma^z_{2,3}\\,\\left|(19)\\,10011\\right\\rangle = -0.25\\left|(19)\\,10011\\right\\rangle$"
      ],
      "text/plain": [
       "<IPython.core.display.Math object>"
      ]
     },
     "metadata": {},
     "output_type": "display_data"
    },
    {
     "data": {
      "text/latex": [
       "$\\displaystyle \\text{Site indices: } 2, 4$"
      ],
      "text/plain": [
       "<IPython.core.display.Math object>"
      ]
     },
     "metadata": {},
     "output_type": "display_data"
    },
    {
     "data": {
      "text/latex": [
       "$\\displaystyle \\quad \\quad \\sigma^z_{2,4}\\,\\left|(19)\\,10011\\right\\rangle = -0.25\\left|(19)\\,10011\\right\\rangle$"
      ],
      "text/plain": [
       "<IPython.core.display.Math object>"
      ]
     },
     "metadata": {},
     "output_type": "display_data"
    },
    {
     "data": {
      "text/latex": [
       "$\\displaystyle \\text{Site indices: } 3, 0$"
      ],
      "text/plain": [
       "<IPython.core.display.Math object>"
      ]
     },
     "metadata": {},
     "output_type": "display_data"
    },
    {
     "data": {
      "text/latex": [
       "$\\displaystyle \\quad \\quad \\sigma^z_{3,0}\\,\\left|(19)\\,10011\\right\\rangle = 0.25\\left|(19)\\,10011\\right\\rangle$"
      ],
      "text/plain": [
       "<IPython.core.display.Math object>"
      ]
     },
     "metadata": {},
     "output_type": "display_data"
    },
    {
     "data": {
      "text/latex": [
       "$\\displaystyle \\text{Site indices: } 3, 1$"
      ],
      "text/plain": [
       "<IPython.core.display.Math object>"
      ]
     },
     "metadata": {},
     "output_type": "display_data"
    },
    {
     "data": {
      "text/latex": [
       "$\\displaystyle \\quad \\quad \\sigma^z_{3,1}\\,\\left|(19)\\,10011\\right\\rangle = -0.25\\left|(19)\\,10011\\right\\rangle$"
      ],
      "text/plain": [
       "<IPython.core.display.Math object>"
      ]
     },
     "metadata": {},
     "output_type": "display_data"
    },
    {
     "data": {
      "text/latex": [
       "$\\displaystyle \\text{Site indices: } 3, 2$"
      ],
      "text/plain": [
       "<IPython.core.display.Math object>"
      ]
     },
     "metadata": {},
     "output_type": "display_data"
    },
    {
     "data": {
      "text/latex": [
       "$\\displaystyle \\quad \\quad \\sigma^z_{3,2}\\,\\left|(19)\\,10011\\right\\rangle = -0.25\\left|(19)\\,10011\\right\\rangle$"
      ],
      "text/plain": [
       "<IPython.core.display.Math object>"
      ]
     },
     "metadata": {},
     "output_type": "display_data"
    },
    {
     "data": {
      "text/latex": [
       "$\\displaystyle \\text{Site indices: } 3, 3$"
      ],
      "text/plain": [
       "<IPython.core.display.Math object>"
      ]
     },
     "metadata": {},
     "output_type": "display_data"
    },
    {
     "data": {
      "text/latex": [
       "$\\displaystyle \\quad \\quad \\sigma^z_{3,3}\\,\\left|(19)\\,10011\\right\\rangle = 0.25\\left|(19)\\,10011\\right\\rangle$"
      ],
      "text/plain": [
       "<IPython.core.display.Math object>"
      ]
     },
     "metadata": {},
     "output_type": "display_data"
    },
    {
     "data": {
      "text/latex": [
       "$\\displaystyle \\text{Site indices: } 3, 4$"
      ],
      "text/plain": [
       "<IPython.core.display.Math object>"
      ]
     },
     "metadata": {},
     "output_type": "display_data"
    },
    {
     "data": {
      "text/latex": [
       "$\\displaystyle \\quad \\quad \\sigma^z_{3,4}\\,\\left|(19)\\,10011\\right\\rangle = 0.25\\left|(19)\\,10011\\right\\rangle$"
      ],
      "text/plain": [
       "<IPython.core.display.Math object>"
      ]
     },
     "metadata": {},
     "output_type": "display_data"
    },
    {
     "data": {
      "text/latex": [
       "$\\displaystyle \\text{Site indices: } 4, 0$"
      ],
      "text/plain": [
       "<IPython.core.display.Math object>"
      ]
     },
     "metadata": {},
     "output_type": "display_data"
    },
    {
     "data": {
      "text/latex": [
       "$\\displaystyle \\quad \\quad \\sigma^z_{4,0}\\,\\left|(19)\\,10011\\right\\rangle = 0.25\\left|(19)\\,10011\\right\\rangle$"
      ],
      "text/plain": [
       "<IPython.core.display.Math object>"
      ]
     },
     "metadata": {},
     "output_type": "display_data"
    },
    {
     "data": {
      "text/latex": [
       "$\\displaystyle \\text{Site indices: } 4, 1$"
      ],
      "text/plain": [
       "<IPython.core.display.Math object>"
      ]
     },
     "metadata": {},
     "output_type": "display_data"
    },
    {
     "data": {
      "text/latex": [
       "$\\displaystyle \\quad \\quad \\sigma^z_{4,1}\\,\\left|(19)\\,10011\\right\\rangle = -0.25\\left|(19)\\,10011\\right\\rangle$"
      ],
      "text/plain": [
       "<IPython.core.display.Math object>"
      ]
     },
     "metadata": {},
     "output_type": "display_data"
    },
    {
     "data": {
      "text/latex": [
       "$\\displaystyle \\text{Site indices: } 4, 2$"
      ],
      "text/plain": [
       "<IPython.core.display.Math object>"
      ]
     },
     "metadata": {},
     "output_type": "display_data"
    },
    {
     "data": {
      "text/latex": [
       "$\\displaystyle \\quad \\quad \\sigma^z_{4,2}\\,\\left|(19)\\,10011\\right\\rangle = -0.25\\left|(19)\\,10011\\right\\rangle$"
      ],
      "text/plain": [
       "<IPython.core.display.Math object>"
      ]
     },
     "metadata": {},
     "output_type": "display_data"
    },
    {
     "data": {
      "text/latex": [
       "$\\displaystyle \\text{Site indices: } 4, 3$"
      ],
      "text/plain": [
       "<IPython.core.display.Math object>"
      ]
     },
     "metadata": {},
     "output_type": "display_data"
    },
    {
     "data": {
      "text/latex": [
       "$\\displaystyle \\quad \\quad \\sigma^z_{4,3}\\,\\left|(19)\\,10011\\right\\rangle = 0.25\\left|(19)\\,10011\\right\\rangle$"
      ],
      "text/plain": [
       "<IPython.core.display.Math object>"
      ]
     },
     "metadata": {},
     "output_type": "display_data"
    },
    {
     "data": {
      "text/latex": [
       "$\\displaystyle \\text{Site indices: } 4, 4$"
      ],
      "text/plain": [
       "<IPython.core.display.Math object>"
      ]
     },
     "metadata": {},
     "output_type": "display_data"
    },
    {
     "data": {
      "text/latex": [
       "$\\displaystyle \\quad \\quad \\sigma^z_{4,4}\\,\\left|(19)\\,10011\\right\\rangle = 0.25\\left|(19)\\,10011\\right\\rangle$"
      ],
      "text/plain": [
       "<IPython.core.display.Math object>"
      ]
     },
     "metadata": {},
     "output_type": "display_data"
    },
    {
     "data": {
      "text/latex": [
       "$\\displaystyle \\text{Operator: } \\sigma^+, \\text{typeacting}: OperatorTypeActing.Correlation$"
      ],
      "text/plain": [
       "<IPython.core.display.Math object>"
      ]
     },
     "metadata": {},
     "output_type": "display_data"
    },
    {
     "data": {
      "text/latex": [
       "$\\displaystyle \\text{Site indices: } 0, 0$"
      ],
      "text/plain": [
       "<IPython.core.display.Math object>"
      ]
     },
     "metadata": {},
     "output_type": "display_data"
    },
    {
     "data": {
      "text/latex": [
       "$\\displaystyle \\quad \\quad \\sigma^+_{0,0}\\,\\left|(19)\\,10011\\right\\rangle = 0$"
      ],
      "text/plain": [
       "<IPython.core.display.Math object>"
      ]
     },
     "metadata": {},
     "output_type": "display_data"
    },
    {
     "data": {
      "text/latex": [
       "$\\displaystyle \\text{Site indices: } 0, 1$"
      ],
      "text/plain": [
       "<IPython.core.display.Math object>"
      ]
     },
     "metadata": {},
     "output_type": "display_data"
    },
    {
     "data": {
      "text/latex": [
       "$\\displaystyle \\quad \\quad \\sigma^+_{0,1}\\,\\left|(19)\\,10011\\right\\rangle = 0$"
      ],
      "text/plain": [
       "<IPython.core.display.Math object>"
      ]
     },
     "metadata": {},
     "output_type": "display_data"
    },
    {
     "data": {
      "text/latex": [
       "$\\displaystyle \\text{Site indices: } 0, 2$"
      ],
      "text/plain": [
       "<IPython.core.display.Math object>"
      ]
     },
     "metadata": {},
     "output_type": "display_data"
    },
    {
     "data": {
      "text/latex": [
       "$\\displaystyle \\quad \\quad \\sigma^+_{0,2}\\,\\left|(19)\\,10011\\right\\rangle = 0$"
      ],
      "text/plain": [
       "<IPython.core.display.Math object>"
      ]
     },
     "metadata": {},
     "output_type": "display_data"
    },
    {
     "data": {
      "text/latex": [
       "$\\displaystyle \\text{Site indices: } 0, 3$"
      ],
      "text/plain": [
       "<IPython.core.display.Math object>"
      ]
     },
     "metadata": {},
     "output_type": "display_data"
    },
    {
     "data": {
      "text/latex": [
       "$\\displaystyle \\quad \\quad \\sigma^+_{0,3}\\,\\left|(19)\\,10011\\right\\rangle = 0$"
      ],
      "text/plain": [
       "<IPython.core.display.Math object>"
      ]
     },
     "metadata": {},
     "output_type": "display_data"
    },
    {
     "data": {
      "text/latex": [
       "$\\displaystyle \\text{Site indices: } 0, 4$"
      ],
      "text/plain": [
       "<IPython.core.display.Math object>"
      ]
     },
     "metadata": {},
     "output_type": "display_data"
    },
    {
     "data": {
      "text/latex": [
       "$\\displaystyle \\quad \\quad \\sigma^+_{0,4}\\,\\left|(19)\\,10011\\right\\rangle = 0$"
      ],
      "text/plain": [
       "<IPython.core.display.Math object>"
      ]
     },
     "metadata": {},
     "output_type": "display_data"
    },
    {
     "data": {
      "text/latex": [
       "$\\displaystyle \\text{Site indices: } 1, 0$"
      ],
      "text/plain": [
       "<IPython.core.display.Math object>"
      ]
     },
     "metadata": {},
     "output_type": "display_data"
    },
    {
     "data": {
      "text/latex": [
       "$\\displaystyle \\quad \\quad \\sigma^+_{1,0}\\,\\left|(19)\\,10011\\right\\rangle = 0$"
      ],
      "text/plain": [
       "<IPython.core.display.Math object>"
      ]
     },
     "metadata": {},
     "output_type": "display_data"
    },
    {
     "data": {
      "text/latex": [
       "$\\displaystyle \\text{Site indices: } 1, 1$"
      ],
      "text/plain": [
       "<IPython.core.display.Math object>"
      ]
     },
     "metadata": {},
     "output_type": "display_data"
    },
    {
     "data": {
      "text/latex": [
       "$\\displaystyle \\quad \\quad \\sigma^+_{1,1}\\,\\left|(19)\\,10011\\right\\rangle = 0$"
      ],
      "text/plain": [
       "<IPython.core.display.Math object>"
      ]
     },
     "metadata": {},
     "output_type": "display_data"
    },
    {
     "data": {
      "text/latex": [
       "$\\displaystyle \\text{Site indices: } 1, 2$"
      ],
      "text/plain": [
       "<IPython.core.display.Math object>"
      ]
     },
     "metadata": {},
     "output_type": "display_data"
    },
    {
     "data": {
      "text/latex": [
       "$\\displaystyle \\quad \\quad \\sigma^+_{1,2}\\,\\left|(19)\\,10011\\right\\rangle = 0.25\\left|(31)\\,11111\\right\\rangle$"
      ],
      "text/plain": [
       "<IPython.core.display.Math object>"
      ]
     },
     "metadata": {},
     "output_type": "display_data"
    },
    {
     "data": {
      "text/latex": [
       "$\\displaystyle \\text{Site indices: } 1, 3$"
      ],
      "text/plain": [
       "<IPython.core.display.Math object>"
      ]
     },
     "metadata": {},
     "output_type": "display_data"
    },
    {
     "data": {
      "text/latex": [
       "$\\displaystyle \\quad \\quad \\sigma^+_{1,3}\\,\\left|(19)\\,10011\\right\\rangle = 0$"
      ],
      "text/plain": [
       "<IPython.core.display.Math object>"
      ]
     },
     "metadata": {},
     "output_type": "display_data"
    },
    {
     "data": {
      "text/latex": [
       "$\\displaystyle \\text{Site indices: } 1, 4$"
      ],
      "text/plain": [
       "<IPython.core.display.Math object>"
      ]
     },
     "metadata": {},
     "output_type": "display_data"
    },
    {
     "data": {
      "text/latex": [
       "$\\displaystyle \\quad \\quad \\sigma^+_{1,4}\\,\\left|(19)\\,10011\\right\\rangle = 0$"
      ],
      "text/plain": [
       "<IPython.core.display.Math object>"
      ]
     },
     "metadata": {},
     "output_type": "display_data"
    },
    {
     "data": {
      "text/latex": [
       "$\\displaystyle \\text{Site indices: } 2, 0$"
      ],
      "text/plain": [
       "<IPython.core.display.Math object>"
      ]
     },
     "metadata": {},
     "output_type": "display_data"
    },
    {
     "data": {
      "text/latex": [
       "$\\displaystyle \\quad \\quad \\sigma^+_{2,0}\\,\\left|(19)\\,10011\\right\\rangle = 0$"
      ],
      "text/plain": [
       "<IPython.core.display.Math object>"
      ]
     },
     "metadata": {},
     "output_type": "display_data"
    },
    {
     "data": {
      "text/latex": [
       "$\\displaystyle \\text{Site indices: } 2, 1$"
      ],
      "text/plain": [
       "<IPython.core.display.Math object>"
      ]
     },
     "metadata": {},
     "output_type": "display_data"
    },
    {
     "data": {
      "text/latex": [
       "$\\displaystyle \\quad \\quad \\sigma^+_{2,1}\\,\\left|(19)\\,10011\\right\\rangle = 0.25\\left|(31)\\,11111\\right\\rangle$"
      ],
      "text/plain": [
       "<IPython.core.display.Math object>"
      ]
     },
     "metadata": {},
     "output_type": "display_data"
    },
    {
     "data": {
      "text/latex": [
       "$\\displaystyle \\text{Site indices: } 2, 2$"
      ],
      "text/plain": [
       "<IPython.core.display.Math object>"
      ]
     },
     "metadata": {},
     "output_type": "display_data"
    },
    {
     "data": {
      "text/latex": [
       "$\\displaystyle \\quad \\quad \\sigma^+_{2,2}\\,\\left|(19)\\,10011\\right\\rangle = 0$"
      ],
      "text/plain": [
       "<IPython.core.display.Math object>"
      ]
     },
     "metadata": {},
     "output_type": "display_data"
    },
    {
     "data": {
      "text/latex": [
       "$\\displaystyle \\text{Site indices: } 2, 3$"
      ],
      "text/plain": [
       "<IPython.core.display.Math object>"
      ]
     },
     "metadata": {},
     "output_type": "display_data"
    },
    {
     "data": {
      "text/latex": [
       "$\\displaystyle \\quad \\quad \\sigma^+_{2,3}\\,\\left|(19)\\,10011\\right\\rangle = 0$"
      ],
      "text/plain": [
       "<IPython.core.display.Math object>"
      ]
     },
     "metadata": {},
     "output_type": "display_data"
    },
    {
     "data": {
      "text/latex": [
       "$\\displaystyle \\text{Site indices: } 2, 4$"
      ],
      "text/plain": [
       "<IPython.core.display.Math object>"
      ]
     },
     "metadata": {},
     "output_type": "display_data"
    },
    {
     "data": {
      "text/latex": [
       "$\\displaystyle \\quad \\quad \\sigma^+_{2,4}\\,\\left|(19)\\,10011\\right\\rangle = 0$"
      ],
      "text/plain": [
       "<IPython.core.display.Math object>"
      ]
     },
     "metadata": {},
     "output_type": "display_data"
    },
    {
     "data": {
      "text/latex": [
       "$\\displaystyle \\text{Site indices: } 3, 0$"
      ],
      "text/plain": [
       "<IPython.core.display.Math object>"
      ]
     },
     "metadata": {},
     "output_type": "display_data"
    },
    {
     "data": {
      "text/latex": [
       "$\\displaystyle \\quad \\quad \\sigma^+_{3,0}\\,\\left|(19)\\,10011\\right\\rangle = 0$"
      ],
      "text/plain": [
       "<IPython.core.display.Math object>"
      ]
     },
     "metadata": {},
     "output_type": "display_data"
    },
    {
     "data": {
      "text/latex": [
       "$\\displaystyle \\text{Site indices: } 3, 1$"
      ],
      "text/plain": [
       "<IPython.core.display.Math object>"
      ]
     },
     "metadata": {},
     "output_type": "display_data"
    },
    {
     "data": {
      "text/latex": [
       "$\\displaystyle \\quad \\quad \\sigma^+_{3,1}\\,\\left|(19)\\,10011\\right\\rangle = 0$"
      ],
      "text/plain": [
       "<IPython.core.display.Math object>"
      ]
     },
     "metadata": {},
     "output_type": "display_data"
    },
    {
     "data": {
      "text/latex": [
       "$\\displaystyle \\text{Site indices: } 3, 2$"
      ],
      "text/plain": [
       "<IPython.core.display.Math object>"
      ]
     },
     "metadata": {},
     "output_type": "display_data"
    },
    {
     "data": {
      "text/latex": [
       "$\\displaystyle \\quad \\quad \\sigma^+_{3,2}\\,\\left|(19)\\,10011\\right\\rangle = 0$"
      ],
      "text/plain": [
       "<IPython.core.display.Math object>"
      ]
     },
     "metadata": {},
     "output_type": "display_data"
    },
    {
     "data": {
      "text/latex": [
       "$\\displaystyle \\text{Site indices: } 3, 3$"
      ],
      "text/plain": [
       "<IPython.core.display.Math object>"
      ]
     },
     "metadata": {},
     "output_type": "display_data"
    },
    {
     "data": {
      "text/latex": [
       "$\\displaystyle \\quad \\quad \\sigma^+_{3,3}\\,\\left|(19)\\,10011\\right\\rangle = 0$"
      ],
      "text/plain": [
       "<IPython.core.display.Math object>"
      ]
     },
     "metadata": {},
     "output_type": "display_data"
    },
    {
     "data": {
      "text/latex": [
       "$\\displaystyle \\text{Site indices: } 3, 4$"
      ],
      "text/plain": [
       "<IPython.core.display.Math object>"
      ]
     },
     "metadata": {},
     "output_type": "display_data"
    },
    {
     "data": {
      "text/latex": [
       "$\\displaystyle \\quad \\quad \\sigma^+_{3,4}\\,\\left|(19)\\,10011\\right\\rangle = 0$"
      ],
      "text/plain": [
       "<IPython.core.display.Math object>"
      ]
     },
     "metadata": {},
     "output_type": "display_data"
    },
    {
     "data": {
      "text/latex": [
       "$\\displaystyle \\text{Site indices: } 4, 0$"
      ],
      "text/plain": [
       "<IPython.core.display.Math object>"
      ]
     },
     "metadata": {},
     "output_type": "display_data"
    },
    {
     "data": {
      "text/latex": [
       "$\\displaystyle \\quad \\quad \\sigma^+_{4,0}\\,\\left|(19)\\,10011\\right\\rangle = 0$"
      ],
      "text/plain": [
       "<IPython.core.display.Math object>"
      ]
     },
     "metadata": {},
     "output_type": "display_data"
    },
    {
     "data": {
      "text/latex": [
       "$\\displaystyle \\text{Site indices: } 4, 1$"
      ],
      "text/plain": [
       "<IPython.core.display.Math object>"
      ]
     },
     "metadata": {},
     "output_type": "display_data"
    },
    {
     "data": {
      "text/latex": [
       "$\\displaystyle \\quad \\quad \\sigma^+_{4,1}\\,\\left|(19)\\,10011\\right\\rangle = 0$"
      ],
      "text/plain": [
       "<IPython.core.display.Math object>"
      ]
     },
     "metadata": {},
     "output_type": "display_data"
    },
    {
     "data": {
      "text/latex": [
       "$\\displaystyle \\text{Site indices: } 4, 2$"
      ],
      "text/plain": [
       "<IPython.core.display.Math object>"
      ]
     },
     "metadata": {},
     "output_type": "display_data"
    },
    {
     "data": {
      "text/latex": [
       "$\\displaystyle \\quad \\quad \\sigma^+_{4,2}\\,\\left|(19)\\,10011\\right\\rangle = 0$"
      ],
      "text/plain": [
       "<IPython.core.display.Math object>"
      ]
     },
     "metadata": {},
     "output_type": "display_data"
    },
    {
     "data": {
      "text/latex": [
       "$\\displaystyle \\text{Site indices: } 4, 3$"
      ],
      "text/plain": [
       "<IPython.core.display.Math object>"
      ]
     },
     "metadata": {},
     "output_type": "display_data"
    },
    {
     "data": {
      "text/latex": [
       "$\\displaystyle \\quad \\quad \\sigma^+_{4,3}\\,\\left|(19)\\,10011\\right\\rangle = 0$"
      ],
      "text/plain": [
       "<IPython.core.display.Math object>"
      ]
     },
     "metadata": {},
     "output_type": "display_data"
    },
    {
     "data": {
      "text/latex": [
       "$\\displaystyle \\text{Site indices: } 4, 4$"
      ],
      "text/plain": [
       "<IPython.core.display.Math object>"
      ]
     },
     "metadata": {},
     "output_type": "display_data"
    },
    {
     "data": {
      "text/latex": [
       "$\\displaystyle \\quad \\quad \\sigma^+_{4,4}\\,\\left|(19)\\,10011\\right\\rangle = 0$"
      ],
      "text/plain": [
       "<IPython.core.display.Math object>"
      ]
     },
     "metadata": {},
     "output_type": "display_data"
    },
    {
     "data": {
      "text/latex": [
       "$\\displaystyle \\text{Operator: } \\sigma^-, \\text{typeacting}: OperatorTypeActing.Correlation$"
      ],
      "text/plain": [
       "<IPython.core.display.Math object>"
      ]
     },
     "metadata": {},
     "output_type": "display_data"
    },
    {
     "data": {
      "text/latex": [
       "$\\displaystyle \\text{Site indices: } 0, 0$"
      ],
      "text/plain": [
       "<IPython.core.display.Math object>"
      ]
     },
     "metadata": {},
     "output_type": "display_data"
    },
    {
     "data": {
      "text/latex": [
       "$\\displaystyle \\quad \\quad \\sigma^-_{0,0}\\,\\left|(19)\\,10011\\right\\rangle = 0$"
      ],
      "text/plain": [
       "<IPython.core.display.Math object>"
      ]
     },
     "metadata": {},
     "output_type": "display_data"
    },
    {
     "data": {
      "text/latex": [
       "$\\displaystyle \\text{Site indices: } 0, 1$"
      ],
      "text/plain": [
       "<IPython.core.display.Math object>"
      ]
     },
     "metadata": {},
     "output_type": "display_data"
    },
    {
     "data": {
      "text/latex": [
       "$\\displaystyle \\quad \\quad \\sigma^-_{0,1}\\,\\left|(19)\\,10011\\right\\rangle = 0$"
      ],
      "text/plain": [
       "<IPython.core.display.Math object>"
      ]
     },
     "metadata": {},
     "output_type": "display_data"
    },
    {
     "data": {
      "text/latex": [
       "$\\displaystyle \\text{Site indices: } 0, 2$"
      ],
      "text/plain": [
       "<IPython.core.display.Math object>"
      ]
     },
     "metadata": {},
     "output_type": "display_data"
    },
    {
     "data": {
      "text/latex": [
       "$\\displaystyle \\quad \\quad \\sigma^-_{0,2}\\,\\left|(19)\\,10011\\right\\rangle = 0$"
      ],
      "text/plain": [
       "<IPython.core.display.Math object>"
      ]
     },
     "metadata": {},
     "output_type": "display_data"
    },
    {
     "data": {
      "text/latex": [
       "$\\displaystyle \\text{Site indices: } 0, 3$"
      ],
      "text/plain": [
       "<IPython.core.display.Math object>"
      ]
     },
     "metadata": {},
     "output_type": "display_data"
    },
    {
     "data": {
      "text/latex": [
       "$\\displaystyle \\quad \\quad \\sigma^-_{0,3}\\,\\left|(19)\\,10011\\right\\rangle = 0.25\\left|(1)\\,00001\\right\\rangle$"
      ],
      "text/plain": [
       "<IPython.core.display.Math object>"
      ]
     },
     "metadata": {},
     "output_type": "display_data"
    },
    {
     "data": {
      "text/latex": [
       "$\\displaystyle \\text{Site indices: } 0, 4$"
      ],
      "text/plain": [
       "<IPython.core.display.Math object>"
      ]
     },
     "metadata": {},
     "output_type": "display_data"
    },
    {
     "data": {
      "text/latex": [
       "$\\displaystyle \\quad \\quad \\sigma^-_{0,4}\\,\\left|(19)\\,10011\\right\\rangle = 0.25\\left|(2)\\,00010\\right\\rangle$"
      ],
      "text/plain": [
       "<IPython.core.display.Math object>"
      ]
     },
     "metadata": {},
     "output_type": "display_data"
    },
    {
     "data": {
      "text/latex": [
       "$\\displaystyle \\text{Site indices: } 1, 0$"
      ],
      "text/plain": [
       "<IPython.core.display.Math object>"
      ]
     },
     "metadata": {},
     "output_type": "display_data"
    },
    {
     "data": {
      "text/latex": [
       "$\\displaystyle \\quad \\quad \\sigma^-_{1,0}\\,\\left|(19)\\,10011\\right\\rangle = 0$"
      ],
      "text/plain": [
       "<IPython.core.display.Math object>"
      ]
     },
     "metadata": {},
     "output_type": "display_data"
    },
    {
     "data": {
      "text/latex": [
       "$\\displaystyle \\text{Site indices: } 1, 1$"
      ],
      "text/plain": [
       "<IPython.core.display.Math object>"
      ]
     },
     "metadata": {},
     "output_type": "display_data"
    },
    {
     "data": {
      "text/latex": [
       "$\\displaystyle \\quad \\quad \\sigma^-_{1,1}\\,\\left|(19)\\,10011\\right\\rangle = 0$"
      ],
      "text/plain": [
       "<IPython.core.display.Math object>"
      ]
     },
     "metadata": {},
     "output_type": "display_data"
    },
    {
     "data": {
      "text/latex": [
       "$\\displaystyle \\text{Site indices: } 1, 2$"
      ],
      "text/plain": [
       "<IPython.core.display.Math object>"
      ]
     },
     "metadata": {},
     "output_type": "display_data"
    },
    {
     "data": {
      "text/latex": [
       "$\\displaystyle \\quad \\quad \\sigma^-_{1,2}\\,\\left|(19)\\,10011\\right\\rangle = 0$"
      ],
      "text/plain": [
       "<IPython.core.display.Math object>"
      ]
     },
     "metadata": {},
     "output_type": "display_data"
    },
    {
     "data": {
      "text/latex": [
       "$\\displaystyle \\text{Site indices: } 1, 3$"
      ],
      "text/plain": [
       "<IPython.core.display.Math object>"
      ]
     },
     "metadata": {},
     "output_type": "display_data"
    },
    {
     "data": {
      "text/latex": [
       "$\\displaystyle \\quad \\quad \\sigma^-_{1,3}\\,\\left|(19)\\,10011\\right\\rangle = 0$"
      ],
      "text/plain": [
       "<IPython.core.display.Math object>"
      ]
     },
     "metadata": {},
     "output_type": "display_data"
    },
    {
     "data": {
      "text/latex": [
       "$\\displaystyle \\text{Site indices: } 1, 4$"
      ],
      "text/plain": [
       "<IPython.core.display.Math object>"
      ]
     },
     "metadata": {},
     "output_type": "display_data"
    },
    {
     "data": {
      "text/latex": [
       "$\\displaystyle \\quad \\quad \\sigma^-_{1,4}\\,\\left|(19)\\,10011\\right\\rangle = 0$"
      ],
      "text/plain": [
       "<IPython.core.display.Math object>"
      ]
     },
     "metadata": {},
     "output_type": "display_data"
    },
    {
     "data": {
      "text/latex": [
       "$\\displaystyle \\text{Site indices: } 2, 0$"
      ],
      "text/plain": [
       "<IPython.core.display.Math object>"
      ]
     },
     "metadata": {},
     "output_type": "display_data"
    },
    {
     "data": {
      "text/latex": [
       "$\\displaystyle \\quad \\quad \\sigma^-_{2,0}\\,\\left|(19)\\,10011\\right\\rangle = 0$"
      ],
      "text/plain": [
       "<IPython.core.display.Math object>"
      ]
     },
     "metadata": {},
     "output_type": "display_data"
    },
    {
     "data": {
      "text/latex": [
       "$\\displaystyle \\text{Site indices: } 2, 1$"
      ],
      "text/plain": [
       "<IPython.core.display.Math object>"
      ]
     },
     "metadata": {},
     "output_type": "display_data"
    },
    {
     "data": {
      "text/latex": [
       "$\\displaystyle \\quad \\quad \\sigma^-_{2,1}\\,\\left|(19)\\,10011\\right\\rangle = 0$"
      ],
      "text/plain": [
       "<IPython.core.display.Math object>"
      ]
     },
     "metadata": {},
     "output_type": "display_data"
    },
    {
     "data": {
      "text/latex": [
       "$\\displaystyle \\text{Site indices: } 2, 2$"
      ],
      "text/plain": [
       "<IPython.core.display.Math object>"
      ]
     },
     "metadata": {},
     "output_type": "display_data"
    },
    {
     "data": {
      "text/latex": [
       "$\\displaystyle \\quad \\quad \\sigma^-_{2,2}\\,\\left|(19)\\,10011\\right\\rangle = 0$"
      ],
      "text/plain": [
       "<IPython.core.display.Math object>"
      ]
     },
     "metadata": {},
     "output_type": "display_data"
    },
    {
     "data": {
      "text/latex": [
       "$\\displaystyle \\text{Site indices: } 2, 3$"
      ],
      "text/plain": [
       "<IPython.core.display.Math object>"
      ]
     },
     "metadata": {},
     "output_type": "display_data"
    },
    {
     "data": {
      "text/latex": [
       "$\\displaystyle \\quad \\quad \\sigma^-_{2,3}\\,\\left|(19)\\,10011\\right\\rangle = 0$"
      ],
      "text/plain": [
       "<IPython.core.display.Math object>"
      ]
     },
     "metadata": {},
     "output_type": "display_data"
    },
    {
     "data": {
      "text/latex": [
       "$\\displaystyle \\text{Site indices: } 2, 4$"
      ],
      "text/plain": [
       "<IPython.core.display.Math object>"
      ]
     },
     "metadata": {},
     "output_type": "display_data"
    },
    {
     "data": {
      "text/latex": [
       "$\\displaystyle \\quad \\quad \\sigma^-_{2,4}\\,\\left|(19)\\,10011\\right\\rangle = 0$"
      ],
      "text/plain": [
       "<IPython.core.display.Math object>"
      ]
     },
     "metadata": {},
     "output_type": "display_data"
    },
    {
     "data": {
      "text/latex": [
       "$\\displaystyle \\text{Site indices: } 3, 0$"
      ],
      "text/plain": [
       "<IPython.core.display.Math object>"
      ]
     },
     "metadata": {},
     "output_type": "display_data"
    },
    {
     "data": {
      "text/latex": [
       "$\\displaystyle \\quad \\quad \\sigma^-_{3,0}\\,\\left|(19)\\,10011\\right\\rangle = 0.25\\left|(1)\\,00001\\right\\rangle$"
      ],
      "text/plain": [
       "<IPython.core.display.Math object>"
      ]
     },
     "metadata": {},
     "output_type": "display_data"
    },
    {
     "data": {
      "text/latex": [
       "$\\displaystyle \\text{Site indices: } 3, 1$"
      ],
      "text/plain": [
       "<IPython.core.display.Math object>"
      ]
     },
     "metadata": {},
     "output_type": "display_data"
    },
    {
     "data": {
      "text/latex": [
       "$\\displaystyle \\quad \\quad \\sigma^-_{3,1}\\,\\left|(19)\\,10011\\right\\rangle = 0$"
      ],
      "text/plain": [
       "<IPython.core.display.Math object>"
      ]
     },
     "metadata": {},
     "output_type": "display_data"
    },
    {
     "data": {
      "text/latex": [
       "$\\displaystyle \\text{Site indices: } 3, 2$"
      ],
      "text/plain": [
       "<IPython.core.display.Math object>"
      ]
     },
     "metadata": {},
     "output_type": "display_data"
    },
    {
     "data": {
      "text/latex": [
       "$\\displaystyle \\quad \\quad \\sigma^-_{3,2}\\,\\left|(19)\\,10011\\right\\rangle = 0$"
      ],
      "text/plain": [
       "<IPython.core.display.Math object>"
      ]
     },
     "metadata": {},
     "output_type": "display_data"
    },
    {
     "data": {
      "text/latex": [
       "$\\displaystyle \\text{Site indices: } 3, 3$"
      ],
      "text/plain": [
       "<IPython.core.display.Math object>"
      ]
     },
     "metadata": {},
     "output_type": "display_data"
    },
    {
     "data": {
      "text/latex": [
       "$\\displaystyle \\quad \\quad \\sigma^-_{3,3}\\,\\left|(19)\\,10011\\right\\rangle = 0$"
      ],
      "text/plain": [
       "<IPython.core.display.Math object>"
      ]
     },
     "metadata": {},
     "output_type": "display_data"
    },
    {
     "data": {
      "text/latex": [
       "$\\displaystyle \\text{Site indices: } 3, 4$"
      ],
      "text/plain": [
       "<IPython.core.display.Math object>"
      ]
     },
     "metadata": {},
     "output_type": "display_data"
    },
    {
     "data": {
      "text/latex": [
       "$\\displaystyle \\quad \\quad \\sigma^-_{3,4}\\,\\left|(19)\\,10011\\right\\rangle = 0.25\\left|(16)\\,10000\\right\\rangle$"
      ],
      "text/plain": [
       "<IPython.core.display.Math object>"
      ]
     },
     "metadata": {},
     "output_type": "display_data"
    },
    {
     "data": {
      "text/latex": [
       "$\\displaystyle \\text{Site indices: } 4, 0$"
      ],
      "text/plain": [
       "<IPython.core.display.Math object>"
      ]
     },
     "metadata": {},
     "output_type": "display_data"
    },
    {
     "data": {
      "text/latex": [
       "$\\displaystyle \\quad \\quad \\sigma^-_{4,0}\\,\\left|(19)\\,10011\\right\\rangle = 0.25\\left|(2)\\,00010\\right\\rangle$"
      ],
      "text/plain": [
       "<IPython.core.display.Math object>"
      ]
     },
     "metadata": {},
     "output_type": "display_data"
    },
    {
     "data": {
      "text/latex": [
       "$\\displaystyle \\text{Site indices: } 4, 1$"
      ],
      "text/plain": [
       "<IPython.core.display.Math object>"
      ]
     },
     "metadata": {},
     "output_type": "display_data"
    },
    {
     "data": {
      "text/latex": [
       "$\\displaystyle \\quad \\quad \\sigma^-_{4,1}\\,\\left|(19)\\,10011\\right\\rangle = 0$"
      ],
      "text/plain": [
       "<IPython.core.display.Math object>"
      ]
     },
     "metadata": {},
     "output_type": "display_data"
    },
    {
     "data": {
      "text/latex": [
       "$\\displaystyle \\text{Site indices: } 4, 2$"
      ],
      "text/plain": [
       "<IPython.core.display.Math object>"
      ]
     },
     "metadata": {},
     "output_type": "display_data"
    },
    {
     "data": {
      "text/latex": [
       "$\\displaystyle \\quad \\quad \\sigma^-_{4,2}\\,\\left|(19)\\,10011\\right\\rangle = 0$"
      ],
      "text/plain": [
       "<IPython.core.display.Math object>"
      ]
     },
     "metadata": {},
     "output_type": "display_data"
    },
    {
     "data": {
      "text/latex": [
       "$\\displaystyle \\text{Site indices: } 4, 3$"
      ],
      "text/plain": [
       "<IPython.core.display.Math object>"
      ]
     },
     "metadata": {},
     "output_type": "display_data"
    },
    {
     "data": {
      "text/latex": [
       "$\\displaystyle \\quad \\quad \\sigma^-_{4,3}\\,\\left|(19)\\,10011\\right\\rangle = 0.25\\left|(16)\\,10000\\right\\rangle$"
      ],
      "text/plain": [
       "<IPython.core.display.Math object>"
      ]
     },
     "metadata": {},
     "output_type": "display_data"
    },
    {
     "data": {
      "text/latex": [
       "$\\displaystyle \\text{Site indices: } 4, 4$"
      ],
      "text/plain": [
       "<IPython.core.display.Math object>"
      ]
     },
     "metadata": {},
     "output_type": "display_data"
    },
    {
     "data": {
      "text/latex": [
       "$\\displaystyle \\quad \\quad \\sigma^-_{4,4}\\,\\left|(19)\\,10011\\right\\rangle = 0$"
      ],
      "text/plain": [
       "<IPython.core.display.Math object>"
      ]
     },
     "metadata": {},
     "output_type": "display_data"
    },
    {
     "data": {
      "text/latex": [
       "$\\displaystyle \\text{Operator: } [\\sigma^+]\\sigma^{\\pm}, \\text{typeacting}: OperatorTypeActing.Correlation$"
      ],
      "text/plain": [
       "<IPython.core.display.Math object>"
      ]
     },
     "metadata": {},
     "output_type": "display_data"
    },
    {
     "data": {
      "text/latex": [
       "$\\displaystyle \\text{Site indices: } 0, 0$"
      ],
      "text/plain": [
       "<IPython.core.display.Math object>"
      ]
     },
     "metadata": {},
     "output_type": "display_data"
    },
    {
     "data": {
      "text/latex": [
       "$\\displaystyle \\quad \\quad [\\sigma^+]\\sigma^{\\pm}_{0,0}\\,\\left|(19)\\,10011\\right\\rangle = 0$"
      ],
      "text/plain": [
       "<IPython.core.display.Math object>"
      ]
     },
     "metadata": {},
     "output_type": "display_data"
    },
    {
     "data": {
      "text/latex": [
       "$\\displaystyle \\text{Site indices: } 0, 1$"
      ],
      "text/plain": [
       "<IPython.core.display.Math object>"
      ]
     },
     "metadata": {},
     "output_type": "display_data"
    },
    {
     "data": {
      "text/latex": [
       "$\\displaystyle \\quad \\quad [\\sigma^+]\\sigma^{\\pm}_{0,1}\\,\\left|(19)\\,10011\\right\\rangle = 0$"
      ],
      "text/plain": [
       "<IPython.core.display.Math object>"
      ]
     },
     "metadata": {},
     "output_type": "display_data"
    },
    {
     "data": {
      "text/latex": [
       "$\\displaystyle \\text{Site indices: } 0, 2$"
      ],
      "text/plain": [
       "<IPython.core.display.Math object>"
      ]
     },
     "metadata": {},
     "output_type": "display_data"
    },
    {
     "data": {
      "text/latex": [
       "$\\displaystyle \\quad \\quad [\\sigma^+]\\sigma^{\\pm}_{0,2}\\,\\left|(19)\\,10011\\right\\rangle = 0$"
      ],
      "text/plain": [
       "<IPython.core.display.Math object>"
      ]
     },
     "metadata": {},
     "output_type": "display_data"
    },
    {
     "data": {
      "text/latex": [
       "$\\displaystyle \\text{Site indices: } 0, 3$"
      ],
      "text/plain": [
       "<IPython.core.display.Math object>"
      ]
     },
     "metadata": {},
     "output_type": "display_data"
    },
    {
     "data": {
      "text/latex": [
       "$\\displaystyle \\quad \\quad [\\sigma^+]\\sigma^{\\pm}_{0,3}\\,\\left|(19)\\,10011\\right\\rangle = 0$"
      ],
      "text/plain": [
       "<IPython.core.display.Math object>"
      ]
     },
     "metadata": {},
     "output_type": "display_data"
    },
    {
     "data": {
      "text/latex": [
       "$\\displaystyle \\text{Site indices: } 0, 4$"
      ],
      "text/plain": [
       "<IPython.core.display.Math object>"
      ]
     },
     "metadata": {},
     "output_type": "display_data"
    },
    {
     "data": {
      "text/latex": [
       "$\\displaystyle \\quad \\quad [\\sigma^+]\\sigma^{\\pm}_{0,4}\\,\\left|(19)\\,10011\\right\\rangle = 0$"
      ],
      "text/plain": [
       "<IPython.core.display.Math object>"
      ]
     },
     "metadata": {},
     "output_type": "display_data"
    },
    {
     "data": {
      "text/latex": [
       "$\\displaystyle \\text{Site indices: } 1, 0$"
      ],
      "text/plain": [
       "<IPython.core.display.Math object>"
      ]
     },
     "metadata": {},
     "output_type": "display_data"
    },
    {
     "data": {
      "text/latex": [
       "$\\displaystyle \\quad \\quad [\\sigma^+]\\sigma^{\\pm}_{1,0}\\,\\left|(19)\\,10011\\right\\rangle = 0.25\\left|(11)\\,01011\\right\\rangle$"
      ],
      "text/plain": [
       "<IPython.core.display.Math object>"
      ]
     },
     "metadata": {},
     "output_type": "display_data"
    },
    {
     "data": {
      "text/latex": [
       "$\\displaystyle \\text{Site indices: } 1, 1$"
      ],
      "text/plain": [
       "<IPython.core.display.Math object>"
      ]
     },
     "metadata": {},
     "output_type": "display_data"
    },
    {
     "data": {
      "text/latex": [
       "$\\displaystyle \\quad \\quad [\\sigma^+]\\sigma^{\\pm}_{1,1}\\,\\left|(19)\\,10011\\right\\rangle = 0.25\\left|(19)\\,10011\\right\\rangle$"
      ],
      "text/plain": [
       "<IPython.core.display.Math object>"
      ]
     },
     "metadata": {},
     "output_type": "display_data"
    },
    {
     "data": {
      "text/latex": [
       "$\\displaystyle \\text{Site indices: } 1, 2$"
      ],
      "text/plain": [
       "<IPython.core.display.Math object>"
      ]
     },
     "metadata": {},
     "output_type": "display_data"
    },
    {
     "data": {
      "text/latex": [
       "$\\displaystyle \\quad \\quad [\\sigma^+]\\sigma^{\\pm}_{1,2}\\,\\left|(19)\\,10011\\right\\rangle = 0$"
      ],
      "text/plain": [
       "<IPython.core.display.Math object>"
      ]
     },
     "metadata": {},
     "output_type": "display_data"
    },
    {
     "data": {
      "text/latex": [
       "$\\displaystyle \\text{Site indices: } 1, 3$"
      ],
      "text/plain": [
       "<IPython.core.display.Math object>"
      ]
     },
     "metadata": {},
     "output_type": "display_data"
    },
    {
     "data": {
      "text/latex": [
       "$\\displaystyle \\quad \\quad [\\sigma^+]\\sigma^{\\pm}_{1,3}\\,\\left|(19)\\,10011\\right\\rangle = 0.25\\left|(25)\\,11001\\right\\rangle$"
      ],
      "text/plain": [
       "<IPython.core.display.Math object>"
      ]
     },
     "metadata": {},
     "output_type": "display_data"
    },
    {
     "data": {
      "text/latex": [
       "$\\displaystyle \\text{Site indices: } 1, 4$"
      ],
      "text/plain": [
       "<IPython.core.display.Math object>"
      ]
     },
     "metadata": {},
     "output_type": "display_data"
    },
    {
     "data": {
      "text/latex": [
       "$\\displaystyle \\quad \\quad [\\sigma^+]\\sigma^{\\pm}_{1,4}\\,\\left|(19)\\,10011\\right\\rangle = 0.25\\left|(26)\\,11010\\right\\rangle$"
      ],
      "text/plain": [
       "<IPython.core.display.Math object>"
      ]
     },
     "metadata": {},
     "output_type": "display_data"
    },
    {
     "data": {
      "text/latex": [
       "$\\displaystyle \\text{Site indices: } 2, 0$"
      ],
      "text/plain": [
       "<IPython.core.display.Math object>"
      ]
     },
     "metadata": {},
     "output_type": "display_data"
    },
    {
     "data": {
      "text/latex": [
       "$\\displaystyle \\quad \\quad [\\sigma^+]\\sigma^{\\pm}_{2,0}\\,\\left|(19)\\,10011\\right\\rangle = 0.25\\left|(7)\\,00111\\right\\rangle$"
      ],
      "text/plain": [
       "<IPython.core.display.Math object>"
      ]
     },
     "metadata": {},
     "output_type": "display_data"
    },
    {
     "data": {
      "text/latex": [
       "$\\displaystyle \\text{Site indices: } 2, 1$"
      ],
      "text/plain": [
       "<IPython.core.display.Math object>"
      ]
     },
     "metadata": {},
     "output_type": "display_data"
    },
    {
     "data": {
      "text/latex": [
       "$\\displaystyle \\quad \\quad [\\sigma^+]\\sigma^{\\pm}_{2,1}\\,\\left|(19)\\,10011\\right\\rangle = 0$"
      ],
      "text/plain": [
       "<IPython.core.display.Math object>"
      ]
     },
     "metadata": {},
     "output_type": "display_data"
    },
    {
     "data": {
      "text/latex": [
       "$\\displaystyle \\text{Site indices: } 2, 2$"
      ],
      "text/plain": [
       "<IPython.core.display.Math object>"
      ]
     },
     "metadata": {},
     "output_type": "display_data"
    },
    {
     "data": {
      "text/latex": [
       "$\\displaystyle \\quad \\quad [\\sigma^+]\\sigma^{\\pm}_{2,2}\\,\\left|(19)\\,10011\\right\\rangle = 0.25\\left|(19)\\,10011\\right\\rangle$"
      ],
      "text/plain": [
       "<IPython.core.display.Math object>"
      ]
     },
     "metadata": {},
     "output_type": "display_data"
    },
    {
     "data": {
      "text/latex": [
       "$\\displaystyle \\text{Site indices: } 2, 3$"
      ],
      "text/plain": [
       "<IPython.core.display.Math object>"
      ]
     },
     "metadata": {},
     "output_type": "display_data"
    },
    {
     "data": {
      "text/latex": [
       "$\\displaystyle \\quad \\quad [\\sigma^+]\\sigma^{\\pm}_{2,3}\\,\\left|(19)\\,10011\\right\\rangle = 0.25\\left|(21)\\,10101\\right\\rangle$"
      ],
      "text/plain": [
       "<IPython.core.display.Math object>"
      ]
     },
     "metadata": {},
     "output_type": "display_data"
    },
    {
     "data": {
      "text/latex": [
       "$\\displaystyle \\text{Site indices: } 2, 4$"
      ],
      "text/plain": [
       "<IPython.core.display.Math object>"
      ]
     },
     "metadata": {},
     "output_type": "display_data"
    },
    {
     "data": {
      "text/latex": [
       "$\\displaystyle \\quad \\quad [\\sigma^+]\\sigma^{\\pm}_{2,4}\\,\\left|(19)\\,10011\\right\\rangle = 0.25\\left|(22)\\,10110\\right\\rangle$"
      ],
      "text/plain": [
       "<IPython.core.display.Math object>"
      ]
     },
     "metadata": {},
     "output_type": "display_data"
    },
    {
     "data": {
      "text/latex": [
       "$\\displaystyle \\text{Site indices: } 3, 0$"
      ],
      "text/plain": [
       "<IPython.core.display.Math object>"
      ]
     },
     "metadata": {},
     "output_type": "display_data"
    },
    {
     "data": {
      "text/latex": [
       "$\\displaystyle \\quad \\quad [\\sigma^+]\\sigma^{\\pm}_{3,0}\\,\\left|(19)\\,10011\\right\\rangle = 0$"
      ],
      "text/plain": [
       "<IPython.core.display.Math object>"
      ]
     },
     "metadata": {},
     "output_type": "display_data"
    },
    {
     "data": {
      "text/latex": [
       "$\\displaystyle \\text{Site indices: } 3, 1$"
      ],
      "text/plain": [
       "<IPython.core.display.Math object>"
      ]
     },
     "metadata": {},
     "output_type": "display_data"
    },
    {
     "data": {
      "text/latex": [
       "$\\displaystyle \\quad \\quad [\\sigma^+]\\sigma^{\\pm}_{3,1}\\,\\left|(19)\\,10011\\right\\rangle = 0$"
      ],
      "text/plain": [
       "<IPython.core.display.Math object>"
      ]
     },
     "metadata": {},
     "output_type": "display_data"
    },
    {
     "data": {
      "text/latex": [
       "$\\displaystyle \\text{Site indices: } 3, 2$"
      ],
      "text/plain": [
       "<IPython.core.display.Math object>"
      ]
     },
     "metadata": {},
     "output_type": "display_data"
    },
    {
     "data": {
      "text/latex": [
       "$\\displaystyle \\quad \\quad [\\sigma^+]\\sigma^{\\pm}_{3,2}\\,\\left|(19)\\,10011\\right\\rangle = 0$"
      ],
      "text/plain": [
       "<IPython.core.display.Math object>"
      ]
     },
     "metadata": {},
     "output_type": "display_data"
    },
    {
     "data": {
      "text/latex": [
       "$\\displaystyle \\text{Site indices: } 3, 3$"
      ],
      "text/plain": [
       "<IPython.core.display.Math object>"
      ]
     },
     "metadata": {},
     "output_type": "display_data"
    },
    {
     "data": {
      "text/latex": [
       "$\\displaystyle \\quad \\quad [\\sigma^+]\\sigma^{\\pm}_{3,3}\\,\\left|(19)\\,10011\\right\\rangle = 0$"
      ],
      "text/plain": [
       "<IPython.core.display.Math object>"
      ]
     },
     "metadata": {},
     "output_type": "display_data"
    },
    {
     "data": {
      "text/latex": [
       "$\\displaystyle \\text{Site indices: } 3, 4$"
      ],
      "text/plain": [
       "<IPython.core.display.Math object>"
      ]
     },
     "metadata": {},
     "output_type": "display_data"
    },
    {
     "data": {
      "text/latex": [
       "$\\displaystyle \\quad \\quad [\\sigma^+]\\sigma^{\\pm}_{3,4}\\,\\left|(19)\\,10011\\right\\rangle = 0$"
      ],
      "text/plain": [
       "<IPython.core.display.Math object>"
      ]
     },
     "metadata": {},
     "output_type": "display_data"
    },
    {
     "data": {
      "text/latex": [
       "$\\displaystyle \\text{Site indices: } 4, 0$"
      ],
      "text/plain": [
       "<IPython.core.display.Math object>"
      ]
     },
     "metadata": {},
     "output_type": "display_data"
    },
    {
     "data": {
      "text/latex": [
       "$\\displaystyle \\quad \\quad [\\sigma^+]\\sigma^{\\pm}_{4,0}\\,\\left|(19)\\,10011\\right\\rangle = 0$"
      ],
      "text/plain": [
       "<IPython.core.display.Math object>"
      ]
     },
     "metadata": {},
     "output_type": "display_data"
    },
    {
     "data": {
      "text/latex": [
       "$\\displaystyle \\text{Site indices: } 4, 1$"
      ],
      "text/plain": [
       "<IPython.core.display.Math object>"
      ]
     },
     "metadata": {},
     "output_type": "display_data"
    },
    {
     "data": {
      "text/latex": [
       "$\\displaystyle \\quad \\quad [\\sigma^+]\\sigma^{\\pm}_{4,1}\\,\\left|(19)\\,10011\\right\\rangle = 0$"
      ],
      "text/plain": [
       "<IPython.core.display.Math object>"
      ]
     },
     "metadata": {},
     "output_type": "display_data"
    },
    {
     "data": {
      "text/latex": [
       "$\\displaystyle \\text{Site indices: } 4, 2$"
      ],
      "text/plain": [
       "<IPython.core.display.Math object>"
      ]
     },
     "metadata": {},
     "output_type": "display_data"
    },
    {
     "data": {
      "text/latex": [
       "$\\displaystyle \\quad \\quad [\\sigma^+]\\sigma^{\\pm}_{4,2}\\,\\left|(19)\\,10011\\right\\rangle = 0$"
      ],
      "text/plain": [
       "<IPython.core.display.Math object>"
      ]
     },
     "metadata": {},
     "output_type": "display_data"
    },
    {
     "data": {
      "text/latex": [
       "$\\displaystyle \\text{Site indices: } 4, 3$"
      ],
      "text/plain": [
       "<IPython.core.display.Math object>"
      ]
     },
     "metadata": {},
     "output_type": "display_data"
    },
    {
     "data": {
      "text/latex": [
       "$\\displaystyle \\quad \\quad [\\sigma^+]\\sigma^{\\pm}_{4,3}\\,\\left|(19)\\,10011\\right\\rangle = 0$"
      ],
      "text/plain": [
       "<IPython.core.display.Math object>"
      ]
     },
     "metadata": {},
     "output_type": "display_data"
    },
    {
     "data": {
      "text/latex": [
       "$\\displaystyle \\text{Site indices: } 4, 4$"
      ],
      "text/plain": [
       "<IPython.core.display.Math object>"
      ]
     },
     "metadata": {},
     "output_type": "display_data"
    },
    {
     "data": {
      "text/latex": [
       "$\\displaystyle \\quad \\quad [\\sigma^+]\\sigma^{\\pm}_{4,4}\\,\\left|(19)\\,10011\\right\\rangle = 0$"
      ],
      "text/plain": [
       "<IPython.core.display.Math object>"
      ]
     },
     "metadata": {},
     "output_type": "display_data"
    },
    {
     "data": {
      "text/latex": [
       "$\\displaystyle \\text{Operator: } [\\sigma^-]\\sigma^{\\mp}, \\text{typeacting}: OperatorTypeActing.Correlation$"
      ],
      "text/plain": [
       "<IPython.core.display.Math object>"
      ]
     },
     "metadata": {},
     "output_type": "display_data"
    },
    {
     "data": {
      "text/latex": [
       "$\\displaystyle \\text{Site indices: } 0, 0$"
      ],
      "text/plain": [
       "<IPython.core.display.Math object>"
      ]
     },
     "metadata": {},
     "output_type": "display_data"
    },
    {
     "data": {
      "text/latex": [
       "$\\displaystyle \\quad \\quad [\\sigma^-]\\sigma^{\\mp}_{0,0}\\,\\left|(19)\\,10011\\right\\rangle = 0.25\\left|(19)\\,10011\\right\\rangle$"
      ],
      "text/plain": [
       "<IPython.core.display.Math object>"
      ]
     },
     "metadata": {},
     "output_type": "display_data"
    },
    {
     "data": {
      "text/latex": [
       "$\\displaystyle \\text{Site indices: } 0, 1$"
      ],
      "text/plain": [
       "<IPython.core.display.Math object>"
      ]
     },
     "metadata": {},
     "output_type": "display_data"
    },
    {
     "data": {
      "text/latex": [
       "$\\displaystyle \\quad \\quad [\\sigma^-]\\sigma^{\\mp}_{0,1}\\,\\left|(19)\\,10011\\right\\rangle = 0.25\\left|(11)\\,01011\\right\\rangle$"
      ],
      "text/plain": [
       "<IPython.core.display.Math object>"
      ]
     },
     "metadata": {},
     "output_type": "display_data"
    },
    {
     "data": {
      "text/latex": [
       "$\\displaystyle \\text{Site indices: } 0, 2$"
      ],
      "text/plain": [
       "<IPython.core.display.Math object>"
      ]
     },
     "metadata": {},
     "output_type": "display_data"
    },
    {
     "data": {
      "text/latex": [
       "$\\displaystyle \\quad \\quad [\\sigma^-]\\sigma^{\\mp}_{0,2}\\,\\left|(19)\\,10011\\right\\rangle = 0.25\\left|(7)\\,00111\\right\\rangle$"
      ],
      "text/plain": [
       "<IPython.core.display.Math object>"
      ]
     },
     "metadata": {},
     "output_type": "display_data"
    },
    {
     "data": {
      "text/latex": [
       "$\\displaystyle \\text{Site indices: } 0, 3$"
      ],
      "text/plain": [
       "<IPython.core.display.Math object>"
      ]
     },
     "metadata": {},
     "output_type": "display_data"
    },
    {
     "data": {
      "text/latex": [
       "$\\displaystyle \\quad \\quad [\\sigma^-]\\sigma^{\\mp}_{0,3}\\,\\left|(19)\\,10011\\right\\rangle = 0$"
      ],
      "text/plain": [
       "<IPython.core.display.Math object>"
      ]
     },
     "metadata": {},
     "output_type": "display_data"
    },
    {
     "data": {
      "text/latex": [
       "$\\displaystyle \\text{Site indices: } 0, 4$"
      ],
      "text/plain": [
       "<IPython.core.display.Math object>"
      ]
     },
     "metadata": {},
     "output_type": "display_data"
    },
    {
     "data": {
      "text/latex": [
       "$\\displaystyle \\quad \\quad [\\sigma^-]\\sigma^{\\mp}_{0,4}\\,\\left|(19)\\,10011\\right\\rangle = 0$"
      ],
      "text/plain": [
       "<IPython.core.display.Math object>"
      ]
     },
     "metadata": {},
     "output_type": "display_data"
    },
    {
     "data": {
      "text/latex": [
       "$\\displaystyle \\text{Site indices: } 1, 0$"
      ],
      "text/plain": [
       "<IPython.core.display.Math object>"
      ]
     },
     "metadata": {},
     "output_type": "display_data"
    },
    {
     "data": {
      "text/latex": [
       "$\\displaystyle \\quad \\quad [\\sigma^-]\\sigma^{\\mp}_{1,0}\\,\\left|(19)\\,10011\\right\\rangle = 0$"
      ],
      "text/plain": [
       "<IPython.core.display.Math object>"
      ]
     },
     "metadata": {},
     "output_type": "display_data"
    },
    {
     "data": {
      "text/latex": [
       "$\\displaystyle \\text{Site indices: } 1, 1$"
      ],
      "text/plain": [
       "<IPython.core.display.Math object>"
      ]
     },
     "metadata": {},
     "output_type": "display_data"
    },
    {
     "data": {
      "text/latex": [
       "$\\displaystyle \\quad \\quad [\\sigma^-]\\sigma^{\\mp}_{1,1}\\,\\left|(19)\\,10011\\right\\rangle = 0$"
      ],
      "text/plain": [
       "<IPython.core.display.Math object>"
      ]
     },
     "metadata": {},
     "output_type": "display_data"
    },
    {
     "data": {
      "text/latex": [
       "$\\displaystyle \\text{Site indices: } 1, 2$"
      ],
      "text/plain": [
       "<IPython.core.display.Math object>"
      ]
     },
     "metadata": {},
     "output_type": "display_data"
    },
    {
     "data": {
      "text/latex": [
       "$\\displaystyle \\quad \\quad [\\sigma^-]\\sigma^{\\mp}_{1,2}\\,\\left|(19)\\,10011\\right\\rangle = 0$"
      ],
      "text/plain": [
       "<IPython.core.display.Math object>"
      ]
     },
     "metadata": {},
     "output_type": "display_data"
    },
    {
     "data": {
      "text/latex": [
       "$\\displaystyle \\text{Site indices: } 1, 3$"
      ],
      "text/plain": [
       "<IPython.core.display.Math object>"
      ]
     },
     "metadata": {},
     "output_type": "display_data"
    },
    {
     "data": {
      "text/latex": [
       "$\\displaystyle \\quad \\quad [\\sigma^-]\\sigma^{\\mp}_{1,3}\\,\\left|(19)\\,10011\\right\\rangle = 0$"
      ],
      "text/plain": [
       "<IPython.core.display.Math object>"
      ]
     },
     "metadata": {},
     "output_type": "display_data"
    },
    {
     "data": {
      "text/latex": [
       "$\\displaystyle \\text{Site indices: } 1, 4$"
      ],
      "text/plain": [
       "<IPython.core.display.Math object>"
      ]
     },
     "metadata": {},
     "output_type": "display_data"
    },
    {
     "data": {
      "text/latex": [
       "$\\displaystyle \\quad \\quad [\\sigma^-]\\sigma^{\\mp}_{1,4}\\,\\left|(19)\\,10011\\right\\rangle = 0$"
      ],
      "text/plain": [
       "<IPython.core.display.Math object>"
      ]
     },
     "metadata": {},
     "output_type": "display_data"
    },
    {
     "data": {
      "text/latex": [
       "$\\displaystyle \\text{Site indices: } 2, 0$"
      ],
      "text/plain": [
       "<IPython.core.display.Math object>"
      ]
     },
     "metadata": {},
     "output_type": "display_data"
    },
    {
     "data": {
      "text/latex": [
       "$\\displaystyle \\quad \\quad [\\sigma^-]\\sigma^{\\mp}_{2,0}\\,\\left|(19)\\,10011\\right\\rangle = 0$"
      ],
      "text/plain": [
       "<IPython.core.display.Math object>"
      ]
     },
     "metadata": {},
     "output_type": "display_data"
    },
    {
     "data": {
      "text/latex": [
       "$\\displaystyle \\text{Site indices: } 2, 1$"
      ],
      "text/plain": [
       "<IPython.core.display.Math object>"
      ]
     },
     "metadata": {},
     "output_type": "display_data"
    },
    {
     "data": {
      "text/latex": [
       "$\\displaystyle \\quad \\quad [\\sigma^-]\\sigma^{\\mp}_{2,1}\\,\\left|(19)\\,10011\\right\\rangle = 0$"
      ],
      "text/plain": [
       "<IPython.core.display.Math object>"
      ]
     },
     "metadata": {},
     "output_type": "display_data"
    },
    {
     "data": {
      "text/latex": [
       "$\\displaystyle \\text{Site indices: } 2, 2$"
      ],
      "text/plain": [
       "<IPython.core.display.Math object>"
      ]
     },
     "metadata": {},
     "output_type": "display_data"
    },
    {
     "data": {
      "text/latex": [
       "$\\displaystyle \\quad \\quad [\\sigma^-]\\sigma^{\\mp}_{2,2}\\,\\left|(19)\\,10011\\right\\rangle = 0$"
      ],
      "text/plain": [
       "<IPython.core.display.Math object>"
      ]
     },
     "metadata": {},
     "output_type": "display_data"
    },
    {
     "data": {
      "text/latex": [
       "$\\displaystyle \\text{Site indices: } 2, 3$"
      ],
      "text/plain": [
       "<IPython.core.display.Math object>"
      ]
     },
     "metadata": {},
     "output_type": "display_data"
    },
    {
     "data": {
      "text/latex": [
       "$\\displaystyle \\quad \\quad [\\sigma^-]\\sigma^{\\mp}_{2,3}\\,\\left|(19)\\,10011\\right\\rangle = 0$"
      ],
      "text/plain": [
       "<IPython.core.display.Math object>"
      ]
     },
     "metadata": {},
     "output_type": "display_data"
    },
    {
     "data": {
      "text/latex": [
       "$\\displaystyle \\text{Site indices: } 2, 4$"
      ],
      "text/plain": [
       "<IPython.core.display.Math object>"
      ]
     },
     "metadata": {},
     "output_type": "display_data"
    },
    {
     "data": {
      "text/latex": [
       "$\\displaystyle \\quad \\quad [\\sigma^-]\\sigma^{\\mp}_{2,4}\\,\\left|(19)\\,10011\\right\\rangle = 0$"
      ],
      "text/plain": [
       "<IPython.core.display.Math object>"
      ]
     },
     "metadata": {},
     "output_type": "display_data"
    },
    {
     "data": {
      "text/latex": [
       "$\\displaystyle \\text{Site indices: } 3, 0$"
      ],
      "text/plain": [
       "<IPython.core.display.Math object>"
      ]
     },
     "metadata": {},
     "output_type": "display_data"
    },
    {
     "data": {
      "text/latex": [
       "$\\displaystyle \\quad \\quad [\\sigma^-]\\sigma^{\\mp}_{3,0}\\,\\left|(19)\\,10011\\right\\rangle = 0$"
      ],
      "text/plain": [
       "<IPython.core.display.Math object>"
      ]
     },
     "metadata": {},
     "output_type": "display_data"
    },
    {
     "data": {
      "text/latex": [
       "$\\displaystyle \\text{Site indices: } 3, 1$"
      ],
      "text/plain": [
       "<IPython.core.display.Math object>"
      ]
     },
     "metadata": {},
     "output_type": "display_data"
    },
    {
     "data": {
      "text/latex": [
       "$\\displaystyle \\quad \\quad [\\sigma^-]\\sigma^{\\mp}_{3,1}\\,\\left|(19)\\,10011\\right\\rangle = 0.25\\left|(25)\\,11001\\right\\rangle$"
      ],
      "text/plain": [
       "<IPython.core.display.Math object>"
      ]
     },
     "metadata": {},
     "output_type": "display_data"
    },
    {
     "data": {
      "text/latex": [
       "$\\displaystyle \\text{Site indices: } 3, 2$"
      ],
      "text/plain": [
       "<IPython.core.display.Math object>"
      ]
     },
     "metadata": {},
     "output_type": "display_data"
    },
    {
     "data": {
      "text/latex": [
       "$\\displaystyle \\quad \\quad [\\sigma^-]\\sigma^{\\mp}_{3,2}\\,\\left|(19)\\,10011\\right\\rangle = 0.25\\left|(21)\\,10101\\right\\rangle$"
      ],
      "text/plain": [
       "<IPython.core.display.Math object>"
      ]
     },
     "metadata": {},
     "output_type": "display_data"
    },
    {
     "data": {
      "text/latex": [
       "$\\displaystyle \\text{Site indices: } 3, 3$"
      ],
      "text/plain": [
       "<IPython.core.display.Math object>"
      ]
     },
     "metadata": {},
     "output_type": "display_data"
    },
    {
     "data": {
      "text/latex": [
       "$\\displaystyle \\quad \\quad [\\sigma^-]\\sigma^{\\mp}_{3,3}\\,\\left|(19)\\,10011\\right\\rangle = 0.25\\left|(19)\\,10011\\right\\rangle$"
      ],
      "text/plain": [
       "<IPython.core.display.Math object>"
      ]
     },
     "metadata": {},
     "output_type": "display_data"
    },
    {
     "data": {
      "text/latex": [
       "$\\displaystyle \\text{Site indices: } 3, 4$"
      ],
      "text/plain": [
       "<IPython.core.display.Math object>"
      ]
     },
     "metadata": {},
     "output_type": "display_data"
    },
    {
     "data": {
      "text/latex": [
       "$\\displaystyle \\quad \\quad [\\sigma^-]\\sigma^{\\mp}_{3,4}\\,\\left|(19)\\,10011\\right\\rangle = 0$"
      ],
      "text/plain": [
       "<IPython.core.display.Math object>"
      ]
     },
     "metadata": {},
     "output_type": "display_data"
    },
    {
     "data": {
      "text/latex": [
       "$\\displaystyle \\text{Site indices: } 4, 0$"
      ],
      "text/plain": [
       "<IPython.core.display.Math object>"
      ]
     },
     "metadata": {},
     "output_type": "display_data"
    },
    {
     "data": {
      "text/latex": [
       "$\\displaystyle \\quad \\quad [\\sigma^-]\\sigma^{\\mp}_{4,0}\\,\\left|(19)\\,10011\\right\\rangle = 0$"
      ],
      "text/plain": [
       "<IPython.core.display.Math object>"
      ]
     },
     "metadata": {},
     "output_type": "display_data"
    },
    {
     "data": {
      "text/latex": [
       "$\\displaystyle \\text{Site indices: } 4, 1$"
      ],
      "text/plain": [
       "<IPython.core.display.Math object>"
      ]
     },
     "metadata": {},
     "output_type": "display_data"
    },
    {
     "data": {
      "text/latex": [
       "$\\displaystyle \\quad \\quad [\\sigma^-]\\sigma^{\\mp}_{4,1}\\,\\left|(19)\\,10011\\right\\rangle = 0.25\\left|(26)\\,11010\\right\\rangle$"
      ],
      "text/plain": [
       "<IPython.core.display.Math object>"
      ]
     },
     "metadata": {},
     "output_type": "display_data"
    },
    {
     "data": {
      "text/latex": [
       "$\\displaystyle \\text{Site indices: } 4, 2$"
      ],
      "text/plain": [
       "<IPython.core.display.Math object>"
      ]
     },
     "metadata": {},
     "output_type": "display_data"
    },
    {
     "data": {
      "text/latex": [
       "$\\displaystyle \\quad \\quad [\\sigma^-]\\sigma^{\\mp}_{4,2}\\,\\left|(19)\\,10011\\right\\rangle = 0.25\\left|(22)\\,10110\\right\\rangle$"
      ],
      "text/plain": [
       "<IPython.core.display.Math object>"
      ]
     },
     "metadata": {},
     "output_type": "display_data"
    },
    {
     "data": {
      "text/latex": [
       "$\\displaystyle \\text{Site indices: } 4, 3$"
      ],
      "text/plain": [
       "<IPython.core.display.Math object>"
      ]
     },
     "metadata": {},
     "output_type": "display_data"
    },
    {
     "data": {
      "text/latex": [
       "$\\displaystyle \\quad \\quad [\\sigma^-]\\sigma^{\\mp}_{4,3}\\,\\left|(19)\\,10011\\right\\rangle = 0$"
      ],
      "text/plain": [
       "<IPython.core.display.Math object>"
      ]
     },
     "metadata": {},
     "output_type": "display_data"
    },
    {
     "data": {
      "text/latex": [
       "$\\displaystyle \\text{Site indices: } 4, 4$"
      ],
      "text/plain": [
       "<IPython.core.display.Math object>"
      ]
     },
     "metadata": {},
     "output_type": "display_data"
    },
    {
     "data": {
      "text/latex": [
       "$\\displaystyle \\quad \\quad [\\sigma^-]\\sigma^{\\mp}_{4,4}\\,\\left|(19)\\,10011\\right\\rangle = 0.25\\left|(19)\\,10011\\right\\rangle$"
      ],
      "text/plain": [
       "<IPython.core.display.Math object>"
      ]
     },
     "metadata": {},
     "output_type": "display_data"
    },
    {
     "name": "stdout",
     "output_type": "stream",
     "text": [
      "Operator action: 2147714.042000 us\n"
     ]
    }
   ],
   "source": [
    "test_operator_on_state(\n",
    "    op          = operators_c,\n",
    "    lat         = lat,\n",
    "    state       = int_state,\n",
    "    op_acting   = OperatorTypeActing.Correlation,\n",
    "    op_label    = labels_c,\n",
    "    to_bin      = None,\n",
    "    just_time   = False\n",
    ")"
   ]
  },
  {
   "cell_type": "markdown",
   "id": "d9068909",
   "metadata": {},
   "source": [
    "### c) Global functions"
   ]
  },
  {
   "cell_type": "code",
   "execution_count": 24,
   "id": "3ed483eb",
   "metadata": {},
   "outputs": [
    {
     "data": {
      "text/latex": [
       "$\\displaystyle \\text{Integer state: }\\,\\left|(14)\\,01110\\right\\rangle$"
      ],
      "text/plain": [
       "<IPython.core.display.Math object>"
      ]
     },
     "metadata": {},
     "output_type": "display_data"
    },
    {
     "data": {
      "text/latex": [
       "$\\displaystyle \\text{NumPy state: }\\,|0 1 1 1 0\\rangle$"
      ],
      "text/plain": [
       "<IPython.core.display.Math object>"
      ]
     },
     "metadata": {},
     "output_type": "display_data"
    },
    {
     "data": {
      "text/latex": [
       "$\\displaystyle \\text{JAX state: }\\,|0 1 1 1 0\\rangle$"
      ],
      "text/plain": [
       "<IPython.core.display.Math object>"
      ]
     },
     "metadata": {},
     "output_type": "display_data"
    }
   ],
   "source": [
    "type_act = op_spin.OperatorTypeActing.Global\n",
    "sites    = [0, 3]\n",
    "sig_x_g = op_spin.sig_x(\n",
    "    lattice  = lat,\n",
    "    type_act = type_act,\n",
    "    spin     = False,\n",
    "    sites    = sites\n",
    ")\n",
    "sig_y_g = op_spin.sig_y(\n",
    "    lattice  = lat,\n",
    "    type_act = type_act,\n",
    "    spin     = False,\n",
    "    sites    = sites\n",
    ")\n",
    "sig_z_g = op_spin.sig_z(\n",
    "    lattice  = lat,\n",
    "    type_act = type_act,\n",
    "    spin     = False,\n",
    "    sites    = sites\n",
    ")\n",
    "sig_p_g = op_spin.sig_p(\n",
    "    lattice  = lat,\n",
    "    type_act = type_act,\n",
    "    spin     = False,\n",
    "    sites    = sites\n",
    ")\n",
    "sig_m_g = op_spin.sig_m(\n",
    "    lattice  = lat,\n",
    "    type_act = type_act,\n",
    "    spin     = False,\n",
    "    sites    = sites\n",
    ")\n",
    "sig_pm_g = op_spin.sig_pm(\n",
    "    lattice  = lat,\n",
    "    type_act = type_act,\n",
    "    spin     = False,\n",
    "    sites    = sites\n",
    ")\n",
    "sig_mp_g = op_spin.sig_mp(\n",
    "    lattice  = lat,\n",
    "    type_act = type_act,\n",
    "    spin     = False,\n",
    "    sites    = sites\n",
    ")\n",
    "sig_k_g = op_spin.sig_k(\n",
    "    lattice  = lat,\n",
    "    type_act = type_act,\n",
    "    k        = np.pi * 2.0 / lat.ns,\n",
    "    spin     = False,\n",
    "    sites    = sites\n",
    ")\n",
    "sig_x_sig_x_g = sig_x_g * sig_x_g\n",
    "sig_z_sig_x_g = sig_z_g * sig_x_g\n",
    "sig_x_sig_z_g = sig_x_g * sig_z_g\n",
    "\n",
    "operators_g = [sig_x_g, sig_y_g, sig_z_g, sig_p_g, sig_m_g, sig_pm_g, sig_mp_g, sig_k_g] if not test_mult else [sig_x_sig_x_g, sig_z_sig_x_g, sig_x_sig_z_g]\n",
    "labels_g     = ['\\\\sigma^x', '\\\\sigma^y', '\\\\sigma^z', \n",
    "                '\\\\sigma^+', '\\\\sigma^-', \n",
    "                '[\\\\sigma^+]\\\\sigma^{\\\\pm}', '[\\\\sigma^-]\\\\sigma^{\\\\mp}',\n",
    "                '\\\\sigma^k'][:len(operators_g)] if not test_mult else ['(\\\\sigma^x\\\\sigma^x)', '(\\\\sigma^z\\\\sigma^x)', '(\\\\sigma^x\\\\sigma^z)']\n",
    "# create a set of states and test it\n",
    "int_state, np_state, jnp_state = initial_states(lat.ns, display=True)"
   ]
  },
  {
   "cell_type": "markdown",
   "id": "042510f2",
   "metadata": {},
   "source": [
    "#### i) Integer states"
   ]
  },
  {
   "cell_type": "code",
   "execution_count": 34,
   "id": "c8ffc1d5",
   "metadata": {},
   "outputs": [
    {
     "name": "stdout",
     "output_type": "stream",
     "text": [
      "Operator action: 125.703000 us\n"
     ]
    }
   ],
   "source": [
    "test_operator_on_state(\n",
    "    op          = operators_g,\n",
    "    lat         = lat,\n",
    "    state       = int_state,\n",
    "    op_acting   = type_act,\n",
    "    op_label    = labels_g,\n",
    "    to_bin      = None,\n",
    "    just_time   = True,\n",
    "    sites       = sites\n",
    ")"
   ]
  },
  {
   "cell_type": "markdown",
   "id": "9362dd0a",
   "metadata": {},
   "source": [
    "#### ii) Numpy states"
   ]
  },
  {
   "cell_type": "code",
   "execution_count": 36,
   "id": "6c09d2ef",
   "metadata": {},
   "outputs": [
    {
     "name": "stdout",
     "output_type": "stream",
     "text": [
      "Operator action: 124.422000 us\n"
     ]
    }
   ],
   "source": [
    "test_operator_on_state(\n",
    "    op          = operators_g,\n",
    "    lat         = lat,\n",
    "    state       = np_state,\n",
    "    op_acting   = type_act,\n",
    "    op_label    = labels_g,\n",
    "    to_bin      = None,\n",
    "    just_time   = True\n",
    ")"
   ]
  },
  {
   "cell_type": "markdown",
   "id": "69709502",
   "metadata": {},
   "source": [
    "#### iii) JAX states"
   ]
  },
  {
   "cell_type": "code",
   "execution_count": 23,
   "id": "1c47d53c",
   "metadata": {},
   "outputs": [
    {
     "name": "stdout",
     "output_type": "stream",
     "text": [
      "Operator action: 747.891000 us\n"
     ]
    }
   ],
   "source": [
    "test_operator_on_state(\n",
    "    op          = operators_g,\n",
    "    lat         = lat,\n",
    "    state       = jnp_state,\n",
    "    op_acting   = type_act,\n",
    "    op_label    = labels_g,\n",
    "    to_bin      = None,\n",
    "    just_time   = True,\n",
    "    sites       = sites\n",
    ")"
   ]
  },
  {
   "cell_type": "markdown",
   "id": "5277944a",
   "metadata": {},
   "source": [
    "## Creation and annihilation operators (spinless fermions)\n",
    "The creation and annihilation operators for spinless fermions are defined as:\n",
    "$$\n",
    "c_i^\\dagger = \\begin{pmatrix}\n",
    "1 & 0 \\\\\n",
    "0 & 0\n",
    "\\end{pmatrix}, \\quad\n",
    "c_i = \\begin{pmatrix}\n",
    "0 & 0 \\\\\n",
    "0 & 1\n",
    "\\end{pmatrix}\n",
    "$$\n",
    "where $c_i^\\dagger$ creates a fermion at site $i$ and $c_i$ annihilates a fermion at site $i$."
   ]
  },
  {
   "cell_type": "markdown",
   "id": "fb2739f7",
   "metadata": {},
   "source": [
    "### a) Local operators"
   ]
  },
  {
   "cell_type": "code",
   "execution_count": 45,
   "id": "ac5e5fe6",
   "metadata": {},
   "outputs": [
    {
     "data": {
      "text/latex": [
       "$\\displaystyle \\text{Integer state: }\\,\\left|(28)\\,11100\\right\\rangle$"
      ],
      "text/plain": [
       "<IPython.core.display.Math object>"
      ]
     },
     "metadata": {},
     "output_type": "display_data"
    },
    {
     "data": {
      "text/latex": [
       "$\\displaystyle \\text{NumPy state: }\\,|1 1 1 0 0\\rangle$"
      ],
      "text/plain": [
       "<IPython.core.display.Math object>"
      ]
     },
     "metadata": {},
     "output_type": "display_data"
    },
    {
     "data": {
      "text/latex": [
       "$\\displaystyle \\text{JAX state: }\\,|1 1 1 0 0\\rangle$"
      ],
      "text/plain": [
       "<IPython.core.display.Math object>"
      ]
     },
     "metadata": {},
     "output_type": "display_data"
    }
   ],
   "source": [
    "type_act = op_sferm.OperatorTypeActing.Local\n",
    "\n",
    "c_l = op_sferm.c(\n",
    "    lattice  = lat,\n",
    "    ns       = lat.ns,\n",
    "    type_act = type_act,\n",
    ")\n",
    "c_dag_l = op_sferm.cdag(\n",
    "    lattice  = lat,\n",
    "    ns       = lat.ns,\n",
    "    type_act = type_act,\n",
    ")\n",
    "c_c_dag_l   = c_l * c_dag_l\n",
    "n_l = op_sferm.n(\n",
    "    lattice  = lat,\n",
    "    ns       = lat.ns,\n",
    "    type_act = type_act,\n",
    ")\n",
    "operators_l  = [c_l, c_dag_l, n_l]#, c_c_dag_l]\n",
    "labels_l     = ['c', 'c^\\\\dag', 'n', '(c * c^\\\\dag)'][:len(operators_l)]\n",
    "\n",
    "# create a set of states and test it\n",
    "int_state, np_state, jnp_state = initial_states(lat.ns, display=True)"
   ]
  },
  {
   "cell_type": "markdown",
   "id": "e7154f88",
   "metadata": {},
   "source": [
    "#### i) Integer states"
   ]
  },
  {
   "cell_type": "code",
   "execution_count": 47,
   "id": "9d64affb",
   "metadata": {},
   "outputs": [
    {
     "data": {
      "text/latex": [
       "$\\displaystyle \\text{Initial integer state (Ns=5): }\\,\\left|(28)\\,11100\\right\\rangle$"
      ],
      "text/plain": [
       "<IPython.core.display.Math object>"
      ]
     },
     "metadata": {},
     "output_type": "display_data"
    },
    {
     "data": {
      "text/latex": [
       "$\\displaystyle \\text{Operator: } c, \\text{typeacting}: OperatorTypeActing.Local$"
      ],
      "text/plain": [
       "<IPython.core.display.Math object>"
      ]
     },
     "metadata": {},
     "output_type": "display_data"
    },
    {
     "data": {
      "text/latex": [
       "$\\displaystyle \\quad \\text{Site index: } 0$"
      ],
      "text/plain": [
       "<IPython.core.display.Math object>"
      ]
     },
     "metadata": {},
     "output_type": "display_data"
    },
    {
     "data": {
      "text/latex": [
       "$\\displaystyle \\quad \\quad c_{0}\\,\\left|(28)\\,11100\\right\\rangle = -\\left|(12)\\,01100\\right\\rangle$"
      ],
      "text/plain": [
       "<IPython.core.display.Math object>"
      ]
     },
     "metadata": {},
     "output_type": "display_data"
    },
    {
     "data": {
      "text/latex": [
       "$\\displaystyle \\quad \\text{Site index: } 1$"
      ],
      "text/plain": [
       "<IPython.core.display.Math object>"
      ]
     },
     "metadata": {},
     "output_type": "display_data"
    },
    {
     "data": {
      "text/latex": [
       "$\\displaystyle \\quad \\quad c_{1}\\,\\left|(28)\\,11100\\right\\rangle = \\left|(20)\\,10100\\right\\rangle$"
      ],
      "text/plain": [
       "<IPython.core.display.Math object>"
      ]
     },
     "metadata": {},
     "output_type": "display_data"
    },
    {
     "data": {
      "text/latex": [
       "$\\displaystyle \\quad \\text{Site index: } 2$"
      ],
      "text/plain": [
       "<IPython.core.display.Math object>"
      ]
     },
     "metadata": {},
     "output_type": "display_data"
    },
    {
     "data": {
      "text/latex": [
       "$\\displaystyle \\quad \\quad c_{2}\\,\\left|(28)\\,11100\\right\\rangle = -\\left|(24)\\,11000\\right\\rangle$"
      ],
      "text/plain": [
       "<IPython.core.display.Math object>"
      ]
     },
     "metadata": {},
     "output_type": "display_data"
    },
    {
     "data": {
      "text/latex": [
       "$\\displaystyle \\quad \\text{Site index: } 3$"
      ],
      "text/plain": [
       "<IPython.core.display.Math object>"
      ]
     },
     "metadata": {},
     "output_type": "display_data"
    },
    {
     "data": {
      "text/latex": [
       "$\\displaystyle \\quad \\quad c_{3}\\,\\left|(28)\\,11100\\right\\rangle = 0$"
      ],
      "text/plain": [
       "<IPython.core.display.Math object>"
      ]
     },
     "metadata": {},
     "output_type": "display_data"
    },
    {
     "data": {
      "text/latex": [
       "$\\displaystyle \\quad \\text{Site index: } 4$"
      ],
      "text/plain": [
       "<IPython.core.display.Math object>"
      ]
     },
     "metadata": {},
     "output_type": "display_data"
    },
    {
     "data": {
      "text/latex": [
       "$\\displaystyle \\quad \\quad c_{4}\\,\\left|(28)\\,11100\\right\\rangle = 0$"
      ],
      "text/plain": [
       "<IPython.core.display.Math object>"
      ]
     },
     "metadata": {},
     "output_type": "display_data"
    },
    {
     "data": {
      "text/latex": [
       "$\\displaystyle \\text{Operator: } c^\\dag, \\text{typeacting}: OperatorTypeActing.Local$"
      ],
      "text/plain": [
       "<IPython.core.display.Math object>"
      ]
     },
     "metadata": {},
     "output_type": "display_data"
    },
    {
     "data": {
      "text/latex": [
       "$\\displaystyle \\quad \\text{Site index: } 0$"
      ],
      "text/plain": [
       "<IPython.core.display.Math object>"
      ]
     },
     "metadata": {},
     "output_type": "display_data"
    },
    {
     "data": {
      "text/latex": [
       "$\\displaystyle \\quad \\quad c^\\dag_{0}\\,\\left|(28)\\,11100\\right\\rangle = 0$"
      ],
      "text/plain": [
       "<IPython.core.display.Math object>"
      ]
     },
     "metadata": {},
     "output_type": "display_data"
    },
    {
     "data": {
      "text/latex": [
       "$\\displaystyle \\quad \\text{Site index: } 1$"
      ],
      "text/plain": [
       "<IPython.core.display.Math object>"
      ]
     },
     "metadata": {},
     "output_type": "display_data"
    },
    {
     "data": {
      "text/latex": [
       "$\\displaystyle \\quad \\quad c^\\dag_{1}\\,\\left|(28)\\,11100\\right\\rangle = 0$"
      ],
      "text/plain": [
       "<IPython.core.display.Math object>"
      ]
     },
     "metadata": {},
     "output_type": "display_data"
    },
    {
     "data": {
      "text/latex": [
       "$\\displaystyle \\quad \\text{Site index: } 2$"
      ],
      "text/plain": [
       "<IPython.core.display.Math object>"
      ]
     },
     "metadata": {},
     "output_type": "display_data"
    },
    {
     "data": {
      "text/latex": [
       "$\\displaystyle \\quad \\quad c^\\dag_{2}\\,\\left|(28)\\,11100\\right\\rangle = 0$"
      ],
      "text/plain": [
       "<IPython.core.display.Math object>"
      ]
     },
     "metadata": {},
     "output_type": "display_data"
    },
    {
     "data": {
      "text/latex": [
       "$\\displaystyle \\quad \\text{Site index: } 3$"
      ],
      "text/plain": [
       "<IPython.core.display.Math object>"
      ]
     },
     "metadata": {},
     "output_type": "display_data"
    },
    {
     "data": {
      "text/latex": [
       "$\\displaystyle \\quad \\quad c^\\dag_{3}\\,\\left|(28)\\,11100\\right\\rangle = \\left|(30)\\,11110\\right\\rangle$"
      ],
      "text/plain": [
       "<IPython.core.display.Math object>"
      ]
     },
     "metadata": {},
     "output_type": "display_data"
    },
    {
     "data": {
      "text/latex": [
       "$\\displaystyle \\quad \\text{Site index: } 4$"
      ],
      "text/plain": [
       "<IPython.core.display.Math object>"
      ]
     },
     "metadata": {},
     "output_type": "display_data"
    },
    {
     "data": {
      "text/latex": [
       "$\\displaystyle \\quad \\quad c^\\dag_{4}\\,\\left|(28)\\,11100\\right\\rangle = \\left|(29)\\,11101\\right\\rangle$"
      ],
      "text/plain": [
       "<IPython.core.display.Math object>"
      ]
     },
     "metadata": {},
     "output_type": "display_data"
    },
    {
     "data": {
      "text/latex": [
       "$\\displaystyle \\text{Operator: } n, \\text{typeacting}: OperatorTypeActing.Local$"
      ],
      "text/plain": [
       "<IPython.core.display.Math object>"
      ]
     },
     "metadata": {},
     "output_type": "display_data"
    },
    {
     "data": {
      "text/latex": [
       "$\\displaystyle \\quad \\text{Site index: } 0$"
      ],
      "text/plain": [
       "<IPython.core.display.Math object>"
      ]
     },
     "metadata": {},
     "output_type": "display_data"
    },
    {
     "data": {
      "text/latex": [
       "$\\displaystyle \\quad \\quad n_{0}\\,\\left|(28)\\,11100\\right\\rangle = \\left|(28)\\,11100\\right\\rangle$"
      ],
      "text/plain": [
       "<IPython.core.display.Math object>"
      ]
     },
     "metadata": {},
     "output_type": "display_data"
    },
    {
     "data": {
      "text/latex": [
       "$\\displaystyle \\quad \\text{Site index: } 1$"
      ],
      "text/plain": [
       "<IPython.core.display.Math object>"
      ]
     },
     "metadata": {},
     "output_type": "display_data"
    },
    {
     "data": {
      "text/latex": [
       "$\\displaystyle \\quad \\quad n_{1}\\,\\left|(28)\\,11100\\right\\rangle = \\left|(28)\\,11100\\right\\rangle$"
      ],
      "text/plain": [
       "<IPython.core.display.Math object>"
      ]
     },
     "metadata": {},
     "output_type": "display_data"
    },
    {
     "data": {
      "text/latex": [
       "$\\displaystyle \\quad \\text{Site index: } 2$"
      ],
      "text/plain": [
       "<IPython.core.display.Math object>"
      ]
     },
     "metadata": {},
     "output_type": "display_data"
    },
    {
     "data": {
      "text/latex": [
       "$\\displaystyle \\quad \\quad n_{2}\\,\\left|(28)\\,11100\\right\\rangle = \\left|(28)\\,11100\\right\\rangle$"
      ],
      "text/plain": [
       "<IPython.core.display.Math object>"
      ]
     },
     "metadata": {},
     "output_type": "display_data"
    },
    {
     "data": {
      "text/latex": [
       "$\\displaystyle \\quad \\text{Site index: } 3$"
      ],
      "text/plain": [
       "<IPython.core.display.Math object>"
      ]
     },
     "metadata": {},
     "output_type": "display_data"
    },
    {
     "data": {
      "text/latex": [
       "$\\displaystyle \\quad \\quad n_{3}\\,\\left|(28)\\,11100\\right\\rangle = 0$"
      ],
      "text/plain": [
       "<IPython.core.display.Math object>"
      ]
     },
     "metadata": {},
     "output_type": "display_data"
    },
    {
     "data": {
      "text/latex": [
       "$\\displaystyle \\quad \\text{Site index: } 4$"
      ],
      "text/plain": [
       "<IPython.core.display.Math object>"
      ]
     },
     "metadata": {},
     "output_type": "display_data"
    },
    {
     "data": {
      "text/latex": [
       "$\\displaystyle \\quad \\quad n_{4}\\,\\left|(28)\\,11100\\right\\rangle = 0$"
      ],
      "text/plain": [
       "<IPython.core.display.Math object>"
      ]
     },
     "metadata": {},
     "output_type": "display_data"
    },
    {
     "name": "stdout",
     "output_type": "stream",
     "text": [
      "Operator action: 9760.315000 us\n"
     ]
    }
   ],
   "source": [
    "test_operator_on_state(\n",
    "    op          = operators_l,\n",
    "    lat         = lat,\n",
    "    state       = int_state,\n",
    "    op_acting   = op_sferm.OperatorTypeActing.Local,\n",
    "    op_label    = labels_l,\n",
    "    to_bin      = None,\n",
    "    # just_time   = True\n",
    ")"
   ]
  },
  {
   "cell_type": "markdown",
   "id": "28b1da94",
   "metadata": {},
   "source": [
    "#### ii) Numpy states"
   ]
  },
  {
   "cell_type": "code",
   "execution_count": 50,
   "id": "0d01a96c",
   "metadata": {},
   "outputs": [
    {
     "name": "stdout",
     "output_type": "stream",
     "text": [
      "Operator action: 137.402000 us\n"
     ]
    }
   ],
   "source": [
    "test_operator_on_state(\n",
    "    op          = operators_l,\n",
    "    lat         = lat,\n",
    "    state       = np_state,\n",
    "    op_acting   = op_sferm.OperatorTypeActing.Local,\n",
    "    op_label    = labels_l,\n",
    "    to_bin      = None,\n",
    "    just_time   = True\n",
    ")"
   ]
  },
  {
   "cell_type": "markdown",
   "id": "cea81a78",
   "metadata": {},
   "source": [
    "#### iii) JAX states"
   ]
  },
  {
   "cell_type": "code",
   "execution_count": 58,
   "id": "50474ef4",
   "metadata": {},
   "outputs": [
    {
     "name": "stdout",
     "output_type": "stream",
     "text": [
      "Operator action: 5395.000000 us\n"
     ]
    }
   ],
   "source": [
    "test_operator_on_state(\n",
    "    op          = operators_l,\n",
    "    lat         = lat,\n",
    "    state       = jnp_state,\n",
    "    op_acting   = op_sferm.OperatorTypeActing.Local,\n",
    "    op_label    = labels_l,\n",
    "    to_bin      = None,\n",
    "    just_time   = True\n",
    ")"
   ]
  },
  {
   "cell_type": "code",
   "execution_count": null,
   "id": "4613dca6",
   "metadata": {},
   "outputs": [],
   "source": []
  }
 ],
 "metadata": {
  "kernelspec": {
   "display_name": "base",
   "language": "python",
   "name": "python3"
  },
  "language_info": {
   "codemirror_mode": {
    "name": "ipython",
    "version": 3
   },
   "file_extension": ".py",
   "mimetype": "text/x-python",
   "name": "python",
   "nbconvert_exporter": "python",
   "pygments_lexer": "ipython3",
   "version": "3.11.11"
  }
 },
 "nbformat": 4,
 "nbformat_minor": 5
}
