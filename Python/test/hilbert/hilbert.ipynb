{
 "cells": [
  {
   "cell_type": "code",
   "execution_count": 1,
   "id": "7bc18914",
   "metadata": {},
   "outputs": [
    {
     "name": "stdout",
     "output_type": "stream",
     "text": [
      "Current working directory: /home/klimak/Codes/QuantumEigenSolver/Python/test/hilbert\n",
      "Module path: /home/klimak/Codes/QuantumEigenSolver/Python/test/hilbert/test_hilbert.py\n",
      "QES path: /home/klimak/Codes/QuantumEigenSolver/Python\n",
      "Library path: /home/klimak/Codes/QuantumEigenSolver/Python/QES \n",
      "\tWith folders: ['ultrametric_energy_width.png', 'Solver', '__pycache__', 'NQS', 'general_python', '__init__.py', 'Algebra', 'ultrametric_energy_width_small.png']\n"
     ]
    }
   ],
   "source": [
    "from test_hilbert import *\n",
    "os.environ['QES_LOGFILE'] = '0' # Disable logging to file\n"
   ]
  },
  {
   "cell_type": "code",
   "execution_count": null,
   "id": "be61fe12",
   "metadata": {},
   "outputs": [],
   "source": [
    "from QES.Algebra.hilbert import HilbertSpace, StateTypes, LocalSpace\n",
    "from QES.general_python.lattices import SquareLattice\n",
    "from QES.Algebra.symmetries import translation_x, SymmetryGenerators\n",
    "# from QES.Algebra.symmetries import "
   ]
  },
  {
   "cell_type": "code",
   "execution_count": null,
   "id": "956f96db",
   "metadata": {},
   "outputs": [
    {
     "ename": "TypeError",
     "evalue": "cannot unpack non-iterable SymmetryGenerators object",
     "output_type": "error",
     "traceback": [
      "\u001b[0;31m---------------------------------------------------------------------------\u001b[0m",
      "\u001b[0;31mTypeError\u001b[0m                                 Traceback (most recent call last)",
      "Cell \u001b[0;32mIn[6], line 11\u001b[0m\n\u001b[1;32m      1\u001b[0m lattice \u001b[38;5;241m=\u001b[39m SquareLattice(\n\u001b[1;32m      2\u001b[0m     dim     \u001b[38;5;241m=\u001b[39m \u001b[38;5;241m1\u001b[39m,\n\u001b[1;32m      3\u001b[0m     lx      \u001b[38;5;241m=\u001b[39m \u001b[38;5;241m10\u001b[39m,\n\u001b[1;32m      4\u001b[0m )\n\u001b[1;32m      6\u001b[0m sym_gen \u001b[38;5;241m=\u001b[39m {\n\u001b[1;32m      7\u001b[0m     SymmetryGenerators\u001b[38;5;241m.\u001b[39mTranslation_x : translation_x(lattice, backend\u001b[38;5;241m=\u001b[39m\u001b[38;5;124m'\u001b[39m\u001b[38;5;124mnp\u001b[39m\u001b[38;5;124m'\u001b[39m)\n\u001b[1;32m      8\u001b[0m }\n\u001b[0;32m---> 11\u001b[0m hilbert \u001b[38;5;241m=\u001b[39m HilbertSpace(\n\u001b[1;32m     12\u001b[0m     lattice     \u001b[38;5;241m=\u001b[39m lattice,\n\u001b[1;32m     13\u001b[0m     sym_gen     \u001b[38;5;241m=\u001b[39m sym_gen,\n\u001b[1;32m     14\u001b[0m     global_syms \u001b[38;5;241m=\u001b[39m [],\n\u001b[1;32m     15\u001b[0m     local_space \u001b[38;5;241m=\u001b[39m \u001b[38;5;28;01mNone\u001b[39;00m,\n\u001b[1;32m     16\u001b[0m     state_type  \u001b[38;5;241m=\u001b[39m StateTypes\u001b[38;5;241m.\u001b[39mINTEGER\n\u001b[1;32m     17\u001b[0m )\n\u001b[1;32m     18\u001b[0m \u001b[38;5;28mprint\u001b[39m(hilbert)\n",
      "File \u001b[0;32m~/Codes/QuantumEigenSolver/Python/QES/Algebra/hilbert.py:277\u001b[0m, in \u001b[0;36mHilbertSpace.__init__\u001b[0;34m(self, ns, lattice, nh, is_manybody, part_conserv, sym_gen, global_syms, gen_mapping, local_space, state_type, backend, dtype, logger, **kwargs)\u001b[0m\n\u001b[1;32m    275\u001b[0m     \u001b[38;5;28;01mif\u001b[39;00m gen_mapping:\n\u001b[1;32m    276\u001b[0m         \u001b[38;5;28mself\u001b[39m\u001b[38;5;241m.\u001b[39m_log(\u001b[38;5;124m\"\u001b[39m\u001b[38;5;124mExplicitly requested immediate mapping generation.\u001b[39m\u001b[38;5;124m\"\u001b[39m, log\u001b[38;5;241m=\u001b[39m\u001b[38;5;124m'\u001b[39m\u001b[38;5;124mdebug\u001b[39m\u001b[38;5;124m'\u001b[39m, lvl\u001b[38;5;241m=\u001b[39m\u001b[38;5;241m2\u001b[39m)\n\u001b[0;32m--> 277\u001b[0m     \u001b[38;5;28mself\u001b[39m\u001b[38;5;241m.\u001b[39m_init_mapping(sym_gen, gen_mapping\u001b[38;5;241m=\u001b[39mgen_mapping)    \u001b[38;5;66;03m# gen_mapping True here enables reprmap\u001b[39;00m\n\u001b[1;32m    278\u001b[0m \u001b[38;5;28;01melif\u001b[39;00m \u001b[38;5;28mself\u001b[39m\u001b[38;5;241m.\u001b[39m_is_quadratic:\n\u001b[1;32m    279\u001b[0m     \u001b[38;5;28mself\u001b[39m\u001b[38;5;241m.\u001b[39m_log(\u001b[38;5;124m\"\u001b[39m\u001b[38;5;124mQuadratic mode: Skipping symmetry mapping generation.\u001b[39m\u001b[38;5;124m\"\u001b[39m, log\u001b[38;5;241m=\u001b[39m\u001b[38;5;124m'\u001b[39m\u001b[38;5;124mdebug\u001b[39m\u001b[38;5;124m'\u001b[39m, lvl\u001b[38;5;241m=\u001b[39m\u001b[38;5;241m2\u001b[39m)\n",
      "File \u001b[0;32m~/Codes/QuantumEigenSolver/Python/QES/Algebra/hilbert.py:606\u001b[0m, in \u001b[0;36mHilbertSpace._init_mapping\u001b[0;34m(self, gen, gen_mapping)\u001b[0m\n\u001b[1;32m    602\u001b[0m     \u001b[38;5;28;01mreturn\u001b[39;00m\n\u001b[1;32m    604\u001b[0m t0 \u001b[38;5;241m=\u001b[39m time\u001b[38;5;241m.\u001b[39mtime()\n\u001b[0;32m--> 606\u001b[0m \u001b[38;5;28mself\u001b[39m\u001b[38;5;241m.\u001b[39m_gen_sym_group(gen)    \u001b[38;5;66;03m# generate the symmetry group\u001b[39;00m\n\u001b[1;32m    608\u001b[0m \u001b[38;5;28;01mif\u001b[39;00m gen \u001b[38;5;129;01mis\u001b[39;00m \u001b[38;5;129;01mnot\u001b[39;00m \u001b[38;5;28;01mNone\u001b[39;00m \u001b[38;5;129;01mand\u001b[39;00m \u001b[38;5;28mlen\u001b[39m(gen) \u001b[38;5;241m>\u001b[39m \u001b[38;5;241m0\u001b[39m:\n\u001b[1;32m    609\u001b[0m     \u001b[38;5;28mself\u001b[39m\u001b[38;5;241m.\u001b[39m_log(\u001b[38;5;124m\"\u001b[39m\u001b[38;5;124mGenerating the mapping of the states...\u001b[39m\u001b[38;5;124m\"\u001b[39m, lvl \u001b[38;5;241m=\u001b[39m \u001b[38;5;241m1\u001b[39m, color \u001b[38;5;241m=\u001b[39m \u001b[38;5;124m'\u001b[39m\u001b[38;5;124mgreen\u001b[39m\u001b[38;5;124m'\u001b[39m)\n",
      "File \u001b[0;32m~/Codes/QuantumEigenSolver/Python/QES/Algebra/hilbert.py:546\u001b[0m, in \u001b[0;36mHilbertSpace._gen_sym_group\u001b[0;34m(self, gen)\u001b[0m\n\u001b[1;32m    543\u001b[0m has_u1, u1_val              \u001b[38;5;241m=\u001b[39m \u001b[38;5;28mself\u001b[39m\u001b[38;5;241m.\u001b[39m_gen_sym_group_check_u1()\n\u001b[1;32m    545\u001b[0m \u001b[38;5;66;03m# process translation symmetries\u001b[39;00m\n\u001b[0;32m--> 546\u001b[0m sym_gen, (_, has_cpx_t), (t, direction) \u001b[38;5;241m=\u001b[39m \u001b[38;5;28mself\u001b[39m\u001b[38;5;241m.\u001b[39m_gen_sym_group_check_t(sym_gen)\n\u001b[1;32m    548\u001b[0m \u001b[38;5;66;03m# remove reflections from the symmetry generators if the complex translation is present\u001b[39;00m\n\u001b[1;32m    549\u001b[0m sym_gen                     \u001b[38;5;241m=\u001b[39m \u001b[38;5;28mself\u001b[39m\u001b[38;5;241m.\u001b[39m_gen_sym_remove_reflection(sym_gen, has_cpx_t)\n",
      "File \u001b[0;32m~/Codes/QuantumEigenSolver/Python/QES/Algebra/hilbert.py:393\u001b[0m, in \u001b[0;36mHilbertSpace._gen_sym_group_check_t\u001b[0;34m(self, sym_gen)\u001b[0m\n\u001b[1;32m    391\u001b[0m t                   \u001b[38;5;241m=\u001b[39m \u001b[38;5;28;01mNone\u001b[39;00m  \n\u001b[1;32m    392\u001b[0m direction           \u001b[38;5;241m=\u001b[39m LatticeDirection\u001b[38;5;241m.\u001b[39mX\n\u001b[0;32m--> 393\u001b[0m \u001b[38;5;28;01mfor\u001b[39;00m idx, (gen, sec) \u001b[38;5;129;01min\u001b[39;00m \u001b[38;5;28menumerate\u001b[39m(sym_gen):\n\u001b[1;32m    394\u001b[0m     \n\u001b[1;32m    395\u001b[0m     \u001b[38;5;66;03m# proceed if this is a translation\u001b[39;00m\n\u001b[1;32m    396\u001b[0m     \u001b[38;5;28;01mif\u001b[39;00m gen\u001b[38;5;241m.\u001b[39mhas_translation():\n\u001b[1;32m    397\u001b[0m         \n\u001b[1;32m    398\u001b[0m         \u001b[38;5;66;03m# Check if the lattice has periodic boundary conditions\u001b[39;00m\n\u001b[1;32m    399\u001b[0m         has_translation \u001b[38;5;241m=\u001b[39m (\u001b[38;5;28mself\u001b[39m\u001b[38;5;241m.\u001b[39m_lattice\u001b[38;5;241m.\u001b[39mget_BC() \u001b[38;5;241m==\u001b[39m LatticeBC\u001b[38;5;241m.\u001b[39mPBC)\n",
      "\u001b[0;31mTypeError\u001b[0m: cannot unpack non-iterable SymmetryGenerators object"
     ]
    },
    {
     "ename": "",
     "evalue": "",
     "output_type": "error",
     "traceback": [
      "\u001b[1;31mThe Kernel crashed while executing code in the current cell or a previous cell. \n",
      "\u001b[1;31mPlease review the code in the cell(s) to identify a possible cause of the failure. \n",
      "\u001b[1;31mClick <a href='https://aka.ms/vscodeJupyterKernelCrash'>here</a> for more info. \n",
      "\u001b[1;31mView Jupyter <a href='command:jupyter.viewOutput'>log</a> for further details."
     ]
    }
   ],
   "source": [
    "lattice = SquareLattice(\n",
    "    dim     = 1,\n",
    "    lx      = 10,\n",
    ")\n",
    "\n",
    "sym_gen = {\n",
    "    SymmetryGenerators.Translation_x : translation_x(lattice, backend='np')\n",
    "}\n",
    "\n",
    "\n",
    "hilbert = HilbertSpace(\n",
    "    lattice     = lattice,\n",
    "    sym_gen     = sym_gen,\n",
    "    global_syms = [],\n",
    "    local_space = None,\n",
    "    state_type  = StateTypes.INTEGER\n",
    ")\n",
    "print(hilbert)\n"
   ]
  },
  {
   "cell_type": "code",
   "execution_count": null,
   "id": "4a2fecf5",
   "metadata": {},
   "outputs": [],
   "source": []
  }
 ],
 "metadata": {
  "kernelspec": {
   "display_name": "base",
   "language": "python",
   "name": "python3"
  },
  "language_info": {
   "codemirror_mode": {
    "name": "ipython",
    "version": 3
   },
   "file_extension": ".py",
   "mimetype": "text/x-python",
   "name": "python",
   "nbconvert_exporter": "python",
   "pygments_lexer": "ipython3",
   "version": "3.11.11"
  }
 },
 "nbformat": 4,
 "nbformat_minor": 5
}
